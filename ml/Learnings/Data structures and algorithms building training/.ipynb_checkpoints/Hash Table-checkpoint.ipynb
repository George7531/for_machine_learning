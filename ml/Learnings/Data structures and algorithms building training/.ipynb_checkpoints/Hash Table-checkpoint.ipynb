{
 "cells": [
  {
   "cell_type": "markdown",
   "id": "d4208ad6",
   "metadata": {},
   "source": [
    "# day 91, day 92"
   ]
  },
  {
   "cell_type": "markdown",
   "id": "72457eb3",
   "metadata": {},
   "source": [
    "# HashTable\n",
    "\n",
    "# collision:\n",
    "\n",
    "collision is having two or three dictionary pairs in the same address. \n",
    "\n",
    "# Linear probing\n",
    "\n",
    "if two or more dictionary pairs exist in the same address then seperating them by giving each one a empty space in the hash table such that all memory spaces having exactly one dictionary pair is known as Linear probing.\n",
    "\n",
    "# Big O of Hash Table:\n",
    "\n",
    "1) Appending is O(1) \n",
    "\n",
    "2) get_item() is O(N). but if the collision didn't happen that is all the key value pairs have seperate address space and they do not lie in the same address space then O(1) is enough. we don't have to iterate through the entire list to get to our item using a for loop. remember! one for loop is O(N), for loop within a for loop means O(N^2). in general collision won't happen if the computer has a huge memory. that is if the size of data_map is so large that it can contain every key-value pairs seperately. \n",
    "\n",
    "3) set_item: O(1)\n",
    "\n",
    "4) get_item: O(1) if it doesn't have collision\n",
    "\n",
    "5) "
   ]
  },
  {
   "cell_type": "code",
   "execution_count": 7,
   "id": "4f657970",
   "metadata": {},
   "outputs": [
    {
     "name": "stdout",
     "output_type": "stream",
     "text": [
      "0 : None\n",
      "1 : None\n",
      "2 : None\n",
      "3 : None\n",
      "4 : None\n",
      "5 : None\n",
      "6 : None\n"
     ]
    }
   ],
   "source": [
    "data_map = [None]*7\n",
    "\n",
    "for i,val in enumerate(data_map):\n",
    "    print(i,':',val)\n",
    "    "
   ]
  },
  {
   "cell_type": "code",
   "execution_count": 1,
   "id": "8d8b765b",
   "metadata": {},
   "outputs": [
    {
     "data": {
      "text/plain": [
       "97"
      ]
     },
     "execution_count": 1,
     "metadata": {},
     "output_type": "execute_result"
    }
   ],
   "source": [
    "# getting ascii number for letters:\n",
    "\n",
    "ord('a')"
   ]
  },
  {
   "cell_type": "code",
   "execution_count": 3,
   "id": "3ba54710",
   "metadata": {},
   "outputs": [
    {
     "data": {
      "text/plain": [
       "65"
      ]
     },
     "execution_count": 3,
     "metadata": {},
     "output_type": "execute_result"
    }
   ],
   "source": [
    "ord('A')"
   ]
  },
  {
   "cell_type": "code",
   "execution_count": 9,
   "id": "bdc34b51",
   "metadata": {},
   "outputs": [
    {
     "data": {
      "text/plain": [
       "106"
      ]
     },
     "execution_count": 9,
     "metadata": {},
     "output_type": "execute_result"
    }
   ],
   "source": [
    "ord('j')"
   ]
  },
  {
   "cell_type": "code",
   "execution_count": 2,
   "id": "2deb0ee5",
   "metadata": {},
   "outputs": [
    {
     "data": {
      "text/plain": [
       "122"
      ]
     },
     "execution_count": 2,
     "metadata": {},
     "output_type": "execute_result"
    }
   ],
   "source": [
    "ord('z')"
   ]
  },
  {
   "cell_type": "code",
   "execution_count": 4,
   "id": "6d6f47fc",
   "metadata": {},
   "outputs": [
    {
     "data": {
      "text/plain": [
       "90"
      ]
     },
     "execution_count": 4,
     "metadata": {},
     "output_type": "execute_result"
    }
   ],
   "source": [
    "ord('Z')"
   ]
  },
  {
   "cell_type": "code",
   "execution_count": 13,
   "id": "26aebe6e",
   "metadata": {},
   "outputs": [
    {
     "name": "stdout",
     "output_type": "stream",
     "text": [
      "ascii value for  s  is 115\n",
      "ascii value for  t  is 116\n",
      "ascii value for  r  is 114\n",
      "ascii value for  i  is 105\n",
      "ascii value for  n  is 110\n",
      "ascii value for  g  is 103\n"
     ]
    }
   ],
   "source": [
    "for letter in 'string':\n",
    "    print('ascii value for  %s  is %s'%(letter,ord(letter)))"
   ]
  },
  {
   "cell_type": "code",
   "execution_count": 2,
   "id": "ced7f2e2",
   "metadata": {},
   "outputs": [
    {
     "name": "stdout",
     "output_type": "stream",
     "text": [
      "5\n",
      "0\n",
      "2\n",
      "4\n",
      "6\n",
      "1\n",
      "0\n",
      "2\n",
      "4\n",
      "6\n",
      "1\n",
      "3\n",
      "5\n",
      "0\n",
      "2\n",
      "4\n",
      "6\n",
      "1\n",
      "3\n",
      "5\n",
      "0\n",
      "2\n",
      "4\n",
      "6\n"
     ]
    }
   ],
   "source": [
    "for letter in 'abcdefijklmnopqrstuvwxyz':\n",
    "    i = (ord(letter) *23)%7\n",
    "    \n",
    "    \n",
    "    print(i)\n",
    "    \n",
    "# i is always within 7 (0-6)"
   ]
  },
  {
   "cell_type": "markdown",
   "id": "a09374dd",
   "metadata": {},
   "source": [
    "# Hash Table constructor:\n"
   ]
  },
  {
   "cell_type": "code",
   "execution_count": 1,
   "id": "a27a217d",
   "metadata": {},
   "outputs": [
    {
     "name": "stdout",
     "output_type": "stream",
     "text": [
      "0 : None\n",
      "1 : None\n",
      "2 : None\n",
      "3 : None\n",
      "4 : None\n",
      "5 : None\n",
      "6 : None\n"
     ]
    }
   ],
   "source": [
    "class HashTable:\n",
    "    def __init__(self,size=7):\n",
    "        self.data_map = [None] * size\n",
    "        \n",
    "        \n",
    "    def __hash(self,key):\n",
    "        my_hash = 0\n",
    "        for letter in key:\n",
    "            my_hash = (my_hash + ord(letter) *23)%(len(self.data_map))\n",
    "            \n",
    "        return my_hash\n",
    "        \n",
    "        \n",
    "    def print_table(self):\n",
    "        for i,val in enumerate(self.data_map):\n",
    "            print(i,':',val)\n",
    "            \n",
    "ht = HashTable()\n",
    "\n",
    "ht.print_table()"
   ]
  },
  {
   "cell_type": "markdown",
   "id": "ea9b3e8b",
   "metadata": {},
   "source": [
    "# set_item"
   ]
  },
  {
   "cell_type": "code",
   "execution_count": 37,
   "id": "22f01db7",
   "metadata": {},
   "outputs": [
    {
     "name": "stdout",
     "output_type": "stream",
     "text": [
      "0 : [['sex', 245]]\n",
      "1 : None\n",
      "2 : None\n",
      "3 : None\n",
      "4 : [['bolts', 1400], ['washers', 50]]\n",
      "5 : None\n",
      "6 : [['lumber', 70]]\n"
     ]
    }
   ],
   "source": [
    "class HashTable:\n",
    "    def __init__(self,size=7):\n",
    "        self.data_map = [None] * size\n",
    "        \n",
    "        \n",
    "    def __hash(self,key):\n",
    "        my_hash = 0\n",
    "        for letter in key:\n",
    "            my_hash = (my_hash + ord(letter) *23)%(len(self.data_map))\n",
    "            \n",
    "        return my_hash\n",
    "        \n",
    "        \n",
    "    def print_table(self):\n",
    "        for i,val in enumerate(self.data_map):\n",
    "            print(i,':',val)\n",
    "            \n",
    "            \n",
    "    def set_item(self,key,value):\n",
    "        index = self.__hash(key)\n",
    "        \n",
    "        if self.data_map[index] == None:\n",
    "            self.data_map[index] = []\n",
    "            \n",
    "        self.data_map[index].append([key,value])\n",
    "        \n",
    "        \n",
    "        \n",
    "        \n",
    "        \n",
    "            \n",
    "ht = HashTable()\n",
    "ht.set_item('bolts',1400)\n",
    "ht.set_item('washers',50)\n",
    "ht.set_item('lumber',70)\n",
    "ht.set_item('sex',245)\n",
    "ht.print_table()"
   ]
  },
  {
   "cell_type": "markdown",
   "id": "064596e5",
   "metadata": {},
   "source": [
    "# practice:"
   ]
  },
  {
   "cell_type": "code",
   "execution_count": 36,
   "id": "a3729e3a",
   "metadata": {},
   "outputs": [
    {
     "name": "stdout",
     "output_type": "stream",
     "text": [
      "0 : None\n",
      "1 : None\n",
      "2 : [['contemplation', 4]]\n",
      "3 : None\n",
      "4 : None\n",
      "5 : None\n",
      "6 : [['sex', 0.5], ['studies', 8]]\n"
     ]
    }
   ],
   "source": [
    "class HashTable:\n",
    "    def __init__(self,size=7):\n",
    "        \n",
    "        self.data_map = [None]*size\n",
    "        \n",
    "        \n",
    "    def __hash(self,key):\n",
    "        my_hash = 0\n",
    "        for letter in key:\n",
    "            my_hash = (my_hash + ord(letter) * 23)%len(self.data_map)\n",
    "            \n",
    "            \n",
    "            return my_hash\n",
    "    \n",
    "    \n",
    "    def print_table(self):\n",
    "        \n",
    "        for i,val in enumerate(self.data_map):\n",
    "            print(i,\":\",val)\n",
    "            \n",
    "            \n",
    "    def set_item(self,key,value):\n",
    "        index = self.__hash(key)\n",
    "        \n",
    "        if self.data_map[index] == None:\n",
    "            self.data_map[index] = []\n",
    "            \n",
    "        \n",
    "        self.data_map[index].append([key,value])\n",
    "            \n",
    "ht = HashTable()\n",
    "\n",
    "ht.set_item('contemplation',4)\n",
    "ht.set_item('sex',0.5)\n",
    "ht.set_item('studies',8)\n",
    "\n",
    "ht.print_table()"
   ]
  },
  {
   "cell_type": "code",
   "execution_count": 43,
   "id": "2b32cca9",
   "metadata": {},
   "outputs": [
    {
     "name": "stdout",
     "output_type": "stream",
     "text": [
      "0 : None\n",
      "1 : None\n",
      "2 : [['pepper', 120]]\n",
      "3 : [['clove', 0.5]]\n",
      "4 : None\n",
      "5 : [['chilli', 10], ['rice', 200]]\n",
      "6 : None\n"
     ]
    }
   ],
   "source": [
    "class HashTable:\n",
    "    def __init__(self,size=7):\n",
    "        \n",
    "        self.data_map = [None] * size\n",
    "        \n",
    "    def __hash(self,key):\n",
    "        \n",
    "        my_hash = 0\n",
    "        \n",
    "        for letter in key:\n",
    "            \n",
    "            my_hash = (my_hash + ord(letter) * 23)%len(self.data_map)\n",
    "            \n",
    "        return my_hash\n",
    "    \n",
    "    \n",
    "    def print_table(self):\n",
    "        \n",
    "        for i,val in enumerate(self.data_map):\n",
    "            print(i,':',val)\n",
    "            \n",
    "    def set_item(self,key,value):\n",
    "        \n",
    "        index = self.__hash(key)\n",
    "        \n",
    "        if self.data_map[index] == None:\n",
    "            self.data_map[index] = []\n",
    "            \n",
    "        \n",
    "        self.data_map[index].append([key,value])\n",
    "            \n",
    "            \n",
    "ht = HashTable()\n",
    "ht.set_item('pepper',120)\n",
    "ht.set_item('chilli',10)\n",
    "ht.set_item('clove',0.5)\n",
    "ht.set_item('rice',200)\n",
    "ht.print_table()"
   ]
  },
  {
   "cell_type": "markdown",
   "id": "d068e1da",
   "metadata": {},
   "source": [
    "# day  93"
   ]
  },
  {
   "cell_type": "markdown",
   "id": "14f1d7bf",
   "metadata": {},
   "source": [
    "# get_item"
   ]
  },
  {
   "cell_type": "code",
   "execution_count": 6,
   "id": "335e7227",
   "metadata": {},
   "outputs": [
    {
     "name": "stdout",
     "output_type": "stream",
     "text": [
      "0 : None\n",
      "1 : None\n",
      "2 : [['pepper', 120]]\n",
      "3 : [['clove', 0.5]]\n",
      "4 : None\n",
      "5 : [['chilli', 10], ['rice', 200]]\n",
      "6 : None\n"
     ]
    }
   ],
   "source": [
    "class HashTable:\n",
    "    def __init__(self,size=7):\n",
    "        \n",
    "        self.data_map = [None] * size\n",
    "        \n",
    "    def __hash(self,key):\n",
    "        \n",
    "        my_hash = 0\n",
    "        \n",
    "        for letter in key:\n",
    "            \n",
    "            my_hash = (my_hash + ord(letter) * 23)%len(self.data_map)\n",
    "            \n",
    "        return my_hash\n",
    "    \n",
    "    \n",
    "    def print_table(self):\n",
    "        \n",
    "        for i,val in enumerate(self.data_map):\n",
    "            print(i,':',val)\n",
    "            \n",
    "    def set_item(self,key,value):\n",
    "        \n",
    "        index = self.__hash(key)\n",
    "        \n",
    "        if self.data_map[index] == None:\n",
    "            self.data_map[index] = []\n",
    "            \n",
    "        \n",
    "        self.data_map[index].append([key,value])\n",
    "        \n",
    "    def get_item(self,key):\n",
    "        index = self.__hash(key)\n",
    "        \n",
    "        if self.data_map[index] is not None:\n",
    "            for i in range(len(self.data_map[index])):\n",
    "                if self.data_map[index][i][0] == key:\n",
    "                    return self.data_map[index][i][1]\n",
    "                \n",
    "        return (\"we don't have it\")\n",
    "            \n",
    "            \n",
    "ht = HashTable()\n",
    "ht.set_item('pepper',120)\n",
    "ht.set_item('chilli',10)\n",
    "ht.set_item('clove',0.5)\n",
    "ht.set_item('rice',200)\n",
    "ht.print_table()"
   ]
  },
  {
   "cell_type": "code",
   "execution_count": 3,
   "id": "8eda47c0",
   "metadata": {},
   "outputs": [
    {
     "data": {
      "text/plain": [
       "120"
      ]
     },
     "execution_count": 3,
     "metadata": {},
     "output_type": "execute_result"
    }
   ],
   "source": [
    "ht.get_item('pepper')"
   ]
  },
  {
   "cell_type": "code",
   "execution_count": 4,
   "id": "748bc1b6",
   "metadata": {},
   "outputs": [
    {
     "data": {
      "text/plain": [
       "10"
      ]
     },
     "execution_count": 4,
     "metadata": {},
     "output_type": "execute_result"
    }
   ],
   "source": [
    "ht.get_item('chilli')"
   ]
  },
  {
   "cell_type": "code",
   "execution_count": 7,
   "id": "f2736b00",
   "metadata": {},
   "outputs": [
    {
     "data": {
      "text/plain": [
       "\"we don't have it\""
      ]
     },
     "execution_count": 7,
     "metadata": {},
     "output_type": "execute_result"
    }
   ],
   "source": [
    "ht.get_item('tamrind')"
   ]
  },
  {
   "cell_type": "markdown",
   "id": "33d33417",
   "metadata": {},
   "source": [
    "# taking all the keys from the hash table\n"
   ]
  },
  {
   "cell_type": "code",
   "execution_count": 10,
   "id": "a23e64b7",
   "metadata": {},
   "outputs": [
    {
     "name": "stdout",
     "output_type": "stream",
     "text": [
      "0 : None\n",
      "1 : None\n",
      "2 : [['pepper', 120]]\n",
      "3 : [['clove', 0.5]]\n",
      "4 : None\n",
      "5 : [['chilli', 10], ['rice', 200]]\n",
      "6 : None\n"
     ]
    }
   ],
   "source": [
    "class HashTable:\n",
    "    def __init__(self,size=7):\n",
    "        \n",
    "        self.data_map = [None] * size\n",
    "        \n",
    "    def __hash(self,key):\n",
    "        \n",
    "        my_hash = 0\n",
    "        \n",
    "        for letter in key:\n",
    "            \n",
    "            my_hash = (my_hash + ord(letter) * 23)%len(self.data_map)\n",
    "            \n",
    "        return my_hash\n",
    "    \n",
    "    \n",
    "    def print_table(self):\n",
    "        \n",
    "        for i,val in enumerate(self.data_map):\n",
    "            print(i,':',val)\n",
    "            \n",
    "    def set_item(self,key,value):\n",
    "        \n",
    "        index = self.__hash(key)\n",
    "        \n",
    "        if self.data_map[index] == None:\n",
    "            self.data_map[index] = []\n",
    "            \n",
    "        \n",
    "        self.data_map[index].append([key,value])\n",
    "        \n",
    "    def get_item(self,key):\n",
    "        index = self.__hash(key)\n",
    "        \n",
    "        if self.data_map[index] is not None:\n",
    "            for i in range(len(self.data_map[index])):\n",
    "                if self.data_map[index][i][0] == key:\n",
    "                    return self.data_map[index][i][1]\n",
    "                \n",
    "        return (\"we don't have it\")\n",
    "    \n",
    "    \n",
    "    def keys(self):\n",
    "        \n",
    "        all_keys = []\n",
    "        \n",
    "        for index in range(len(self.data_map)):\n",
    "            \n",
    "            if self.data_map[index] is not None:\n",
    "                \n",
    "                for pairs in range(len(self.data_map[index])):\n",
    "                    \n",
    "                    all_keys.append(self.data_map[index][pairs][0])\n",
    "                    \n",
    "                    \n",
    "        return all_keys\n",
    "            \n",
    "            \n",
    "ht = HashTable()\n",
    "ht.set_item('pepper',120)\n",
    "ht.set_item('chilli',10)\n",
    "ht.set_item('clove',0.5)\n",
    "ht.set_item('rice',200)\n",
    "ht.print_table()"
   ]
  },
  {
   "cell_type": "code",
   "execution_count": 11,
   "id": "cb1183f0",
   "metadata": {},
   "outputs": [
    {
     "data": {
      "text/plain": [
       "['pepper', 'clove', 'chilli', 'rice']"
      ]
     },
     "execution_count": 11,
     "metadata": {},
     "output_type": "execute_result"
    }
   ],
   "source": [
    "ht.keys()"
   ]
  },
  {
   "cell_type": "markdown",
   "id": "49691215",
   "metadata": {},
   "source": [
    "# day 94"
   ]
  },
  {
   "cell_type": "markdown",
   "id": "fa85692b",
   "metadata": {},
   "source": [
    "# interview"
   ]
  },
  {
   "cell_type": "markdown",
   "id": "0b217886",
   "metadata": {},
   "source": [
    "# interview question: find if two lists have any number in common"
   ]
  },
  {
   "cell_type": "markdown",
   "id": "09c2dba0",
   "metadata": {},
   "source": [
    "# method 1: O(N^2): inefficient method"
   ]
  },
  {
   "cell_type": "code",
   "execution_count": 3,
   "id": "6784f278",
   "metadata": {},
   "outputs": [
    {
     "data": {
      "text/plain": [
       "True"
      ]
     },
     "execution_count": 3,
     "metadata": {},
     "output_type": "execute_result"
    }
   ],
   "source": [
    "def item_in_lists(list1,list2):\n",
    "    \n",
    "    for i in list1:\n",
    "        for j in list2:\n",
    "            if i == j:\n",
    "                return True\n",
    "            \n",
    "    return False\n",
    "\n",
    "\n",
    "list1 = [1,3,4]\n",
    "list2 = [2,4,6]\n",
    "\n",
    "item_in_lists(list1,list2)\n",
    "\n"
   ]
  },
  {
   "cell_type": "markdown",
   "id": "f276920d",
   "metadata": {},
   "source": [
    "# method 2: O(N): better than O(N^2)"
   ]
  },
  {
   "cell_type": "code",
   "execution_count": 4,
   "id": "c40f24a8",
   "metadata": {},
   "outputs": [
    {
     "name": "stdout",
     "output_type": "stream",
     "text": [
      "True\n"
     ]
    }
   ],
   "source": [
    "# sample:\n",
    "\n",
    "dic = {1:True,2:True,3:True}\n",
    "\n",
    "if 3 in dic:\n",
    "    print(True)\n",
    "\n"
   ]
  },
  {
   "cell_type": "markdown",
   "id": "291f20eb",
   "metadata": {},
   "source": [
    "# instructor's code:"
   ]
  },
  {
   "cell_type": "code",
   "execution_count": 8,
   "id": "8365da21",
   "metadata": {},
   "outputs": [
    {
     "data": {
      "text/plain": [
       "False"
      ]
     },
     "execution_count": 8,
     "metadata": {},
     "output_type": "execute_result"
    }
   ],
   "source": [
    "# real\n",
    "\n",
    "def item_in_list(list1,list2):\n",
    "    dic = {}\n",
    "    \n",
    "    for i in list1:\n",
    "        \n",
    "       # assigning 1 to each keys of the dic for each occurence, 2 for 2nd occurence and 3 for 3rd and so forth.\n",
    "        # this technique would prove to be useful down the line when finding the duplicates, non-repeating characters ...\n",
    "        \n",
    "        dic[i] = dic.get(i,0) + 1\n",
    "    \n",
    "    # note it is not nested for loop that's why it is O(N)\n",
    "    for j in list2:\n",
    "        \n",
    "        if j in dic:\n",
    "            \n",
    "            return True\n",
    "        \n",
    "    return False\n",
    "\n",
    "\n",
    "list1 = [1,3,8,8,9]\n",
    "list2 = [0,2,6]\n",
    "\n",
    "item_in_list(list1,list2)"
   ]
  },
  {
   "cell_type": "markdown",
   "id": "d6a5c3ca",
   "metadata": {},
   "source": [
    "# exploration,analysis and freethrows"
   ]
  },
  {
   "cell_type": "code",
   "execution_count": 7,
   "id": "a2ed4d08",
   "metadata": {},
   "outputs": [
    {
     "data": {
      "text/plain": [
       "{1: 1, 0: 1, 8: 2, 5: 1}"
      ]
     },
     "execution_count": 7,
     "metadata": {},
     "output_type": "execute_result"
    }
   ],
   "source": [
    "list1 = [1,0,8,8,5]\n",
    "dic = {}\n",
    "for i in list1:\n",
    "    # initialize its first occurence with 0 and add 1.\n",
    "    dic[i] = dic.get(i,0) + 1\n",
    "    \n",
    "\n",
    "dic"
   ]
  },
  {
   "cell_type": "code",
   "execution_count": 8,
   "id": "8abf5c0d",
   "metadata": {},
   "outputs": [
    {
     "data": {
      "text/plain": [
       "{1: 2, 0: 2, 8: 3, 5: 2}"
      ]
     },
     "execution_count": 8,
     "metadata": {},
     "output_type": "execute_result"
    }
   ],
   "source": [
    "list1 = [1,0,8,8,5]\n",
    "dic = {}\n",
    "for i in list1:\n",
    "    # initialize its first occurence with 1 and add 1 \n",
    "    dic[i] = dic.get(i,1) + 1\n",
    "    \n",
    "\n",
    "dic"
   ]
  },
  {
   "cell_type": "code",
   "execution_count": null,
   "id": "59c76d4f",
   "metadata": {},
   "outputs": [],
   "source": []
  },
  {
   "cell_type": "markdown",
   "id": "60dd4f13",
   "metadata": {},
   "source": [
    "# hash table practice:"
   ]
  },
  {
   "cell_type": "code",
   "execution_count": 4,
   "id": "91abecf7",
   "metadata": {},
   "outputs": [
    {
     "name": "stdout",
     "output_type": "stream",
     "text": [
      "0 : [['spl nog-veg meals', 320]]\n",
      "1 : None\n",
      "2 : [['veg meals', 80]]\n",
      "3 : [['Dosai', 50], ['spl veg meals', 150]]\n",
      "4 : [['iddiyappam', 25]]\n"
     ]
    }
   ],
   "source": [
    "class hashtable:\n",
    "    \n",
    "    def __init__(self,size=5):\n",
    "        self.data_map = [None]*size\n",
    "        \n",
    "    def __hash(self,key):\n",
    "        \n",
    "        my_hash = 0\n",
    "        \n",
    "        for letter in key:\n",
    "            \n",
    "            my_hash = (my_hash + ord(letter) *23)%len(self.data_map)\n",
    "            \n",
    "        return my_hash\n",
    "    \n",
    "    def print_table(self):\n",
    "        \n",
    "        for i,val in enumerate(self.data_map):\n",
    "            print(i,':',val)\n",
    "            \n",
    "    def set_item(self,key,value): \n",
    "        \n",
    "        index = self.__hash(key)\n",
    "        \n",
    "        \n",
    "        if self.data_map[index] == None:\n",
    "            self.data_map[index] = []\n",
    "            \n",
    "        self.data_map[index].append([key,value])\n",
    "        \n",
    "        \n",
    "    def get_item(self,key):\n",
    "        \n",
    "        index = self.__hash(key)\n",
    "        \n",
    "        if self.data_map[index] is not None:\n",
    "            for i in range(len(self.data_map[index])):\n",
    "                if self.data_map[index][i][0] == key: # if key == key\n",
    "                    return self.data_map[index][i][1] # return its value\n",
    "                \n",
    "        return \"we don't have it!\"\n",
    "        \n",
    "        \n",
    "    def all_keys(self):\n",
    "        \n",
    "        all_keys = []\n",
    "        \n",
    "        for i in range(len(self.data_map)):\n",
    "            \n",
    "            if self.data_map[i] is not None:\n",
    "                for j in range(len(self.data_map[i])):\n",
    "                    \n",
    "                    all_keys.append(self.data_map[i][j][0])\n",
    "                    \n",
    "                    \n",
    "        return all_keys\n",
    "            \n",
    "            \n",
    "ht = hashtable()\n",
    "\n",
    "ht.set_item('Dosai',50)\n",
    "ht.set_item('iddiyappam',25)\n",
    "ht.set_item('veg meals',80)\n",
    "ht.set_item('spl veg meals',150)\n",
    "ht.set_item('spl nog-veg meals',320)\n",
    "\n",
    "\n",
    "ht.print_table()        \n",
    "        \n",
    "        \n",
    "        \n",
    "        "
   ]
  },
  {
   "cell_type": "code",
   "execution_count": 3,
   "id": "874c7021",
   "metadata": {},
   "outputs": [
    {
     "data": {
      "text/plain": [
       "['iddiyappam', 'spl veg meals', 'veg meals', 'Dosai', 'spl nog-veg meals']"
      ]
     },
     "execution_count": 3,
     "metadata": {},
     "output_type": "execute_result"
    }
   ],
   "source": [
    "ht.all_keys()"
   ]
  },
  {
   "cell_type": "code",
   "execution_count": 6,
   "id": "7c0a0731",
   "metadata": {},
   "outputs": [
    {
     "name": "stdout",
     "output_type": "stream",
     "text": [
      "0 : None\n",
      "1 : None\n",
      "2 : None\n",
      "3 : None\n"
     ]
    }
   ],
   "source": [
    "# print_table working mechanism dissection.\n",
    "\n",
    "lis = [None,None,None,None]\n",
    "\n",
    "\n",
    "for i, val in enumerate(lis):\n",
    "    print(i,':',val)"
   ]
  },
  {
   "cell_type": "markdown",
   "id": "78f6aaf2",
   "metadata": {},
   "source": [
    "# conclusion:\n",
    "\n",
    "# dispelling the confusion over get_item and all_keys\n",
    "\n",
    "the key difference between all_keys and get_item function is in all_keys function indexation of whole outer list is done by 'i' and indexation of the inner lists is done by 'j' whereas, in get_item indexation of outer list is done by 'index' and indexation of inner list is done by 'i'. \n",
    "\n",
    "don't get confused over this minor difference. the big thing to take away there is outer indexation and inner indexation. so draw a list with key and value pairs inside a list inside a list to visualize and make sense of things better."
   ]
  },
  {
   "cell_type": "markdown",
   "id": "ffcdbb1c",
   "metadata": {},
   "source": [
    "# day 96"
   ]
  },
  {
   "cell_type": "markdown",
   "id": "8972b1b5",
   "metadata": {},
   "source": [
    "# interview questions"
   ]
  },
  {
   "cell_type": "markdown",
   "id": "33d2d1ef",
   "metadata": {},
   "source": [
    "# item in common"
   ]
  },
  {
   "cell_type": "code",
   "execution_count": 6,
   "id": "74736c9d",
   "metadata": {},
   "outputs": [
    {
     "name": "stdout",
     "output_type": "stream",
     "text": [
      "True\n"
     ]
    }
   ],
   "source": [
    "lis1 = [1,3,5]\n",
    "lis2 = [2,4,5]\n",
    "\n",
    "for i in lis1:\n",
    "    for j in lis2:\n",
    "        if i == j:\n",
    "            print(True)"
   ]
  },
  {
   "cell_type": "markdown",
   "id": "b4ae3b67",
   "metadata": {},
   "source": [
    "# goal:\n",
    "\n",
    "1. Create a dictionary\n",
    "2. use elements from each list as key and values\n",
    "3. verify if in any instance key == value,return true if it does. "
   ]
  },
  {
   "cell_type": "code",
   "execution_count": 26,
   "id": "aa3cd786",
   "metadata": {},
   "outputs": [
    {
     "data": {
      "text/plain": [
       "True"
      ]
     },
     "execution_count": 26,
     "metadata": {},
     "output_type": "execute_result"
    }
   ],
   "source": [
    "def item_in_list(list1,list2):\n",
    "    dic = {}\n",
    "    \n",
    "    for i in range(len(list1)):\n",
    "        dic[list1[i]] = list2[i]\n",
    "        \n",
    "    for j in dic: # access keys of dic one by one\n",
    "        if j in dic.values(): # access the values of list2\n",
    "            return True\n",
    "        \n",
    "        \n",
    "list1 = [1,2,3]\n",
    "list2 = [2,4,3]\n",
    "\n",
    "\n",
    "item_in_list(list1,list2)\n",
    "        "
   ]
  },
  {
   "cell_type": "code",
   "execution_count": 8,
   "id": "d7407e60",
   "metadata": {},
   "outputs": [
    {
     "data": {
      "text/plain": [
       "2"
      ]
     },
     "execution_count": 8,
     "metadata": {},
     "output_type": "execute_result"
    }
   ],
   "source": [
    "dic = {1:2,2:4,3:3}\n",
    "\n",
    "dic[1]"
   ]
  },
  {
   "cell_type": "code",
   "execution_count": 9,
   "id": "a26d8257",
   "metadata": {},
   "outputs": [
    {
     "data": {
      "text/plain": [
       "4"
      ]
     },
     "execution_count": 9,
     "metadata": {},
     "output_type": "execute_result"
    }
   ],
   "source": [
    "dic[2]"
   ]
  },
  {
   "cell_type": "code",
   "execution_count": 10,
   "id": "613ac644",
   "metadata": {},
   "outputs": [
    {
     "data": {
      "text/plain": [
       "3"
      ]
     },
     "execution_count": 10,
     "metadata": {},
     "output_type": "execute_result"
    }
   ],
   "source": [
    "dic[3]"
   ]
  },
  {
   "cell_type": "code",
   "execution_count": 23,
   "id": "6cb4190e",
   "metadata": {},
   "outputs": [
    {
     "name": "stdout",
     "output_type": "stream",
     "text": [
      "2\n",
      "True\n",
      "3\n",
      "True\n"
     ]
    }
   ],
   "source": [
    "dic = {}\n",
    "\n",
    "lis1 = [1,2,3]\n",
    "lis2 = [2,4,3]\n",
    "\n",
    "for i in range(len(lis1)):\n",
    "    dic[lis1[i]] = lis2[i] # lis1[i] is key and lis2[i] is respective value\n",
    "    \n",
    "    \n",
    "for j in dic:\n",
    "    if j in dic.values():\n",
    "        print(j)\n",
    "        print(True)\n",
    "    \n",
    "    "
   ]
  },
  {
   "cell_type": "markdown",
   "id": "06fb98df",
   "metadata": {},
   "source": [
    "# day 97, day 98 and day 99"
   ]
  },
  {
   "cell_type": "markdown",
   "id": "1228b5cc",
   "metadata": {},
   "source": [
    "# find the duplicates in a list"
   ]
  },
  {
   "cell_type": "markdown",
   "id": "1b5cf9f9",
   "metadata": {},
   "source": [
    "# goals\n",
    "\n",
    "1. run through the list\n",
    "2. have another for loop to check for duplicates\n",
    "3. count the instances of the number \n",
    "4. if the count is more than 1 then there is a duplicate of that number. "
   ]
  },
  {
   "cell_type": "code",
   "execution_count": 16,
   "id": "04099832",
   "metadata": {},
   "outputs": [
    {
     "data": {
      "text/plain": [
       "[1, 2]"
      ]
     },
     "execution_count": 16,
     "metadata": {},
     "output_type": "execute_result"
    }
   ],
   "source": [
    "\n",
    "\n",
    "def find_duplicates(nums):\n",
    "    lis = []\n",
    "    for i in nums:\n",
    "        counter = -1\n",
    "        for j in nums:\n",
    "            if i == j:\n",
    "                counter = counter + 1\n",
    "\n",
    "            if counter >= 1:\n",
    "                lis.append(i)\n",
    "\n",
    "    duplicates = list(set(lis))\n",
    "    \n",
    "    return duplicates\n",
    "            \n",
    "nums = [1,2,3,2,5,1] \n",
    "\n",
    "find_duplicates(nums)"
   ]
  },
  {
   "cell_type": "markdown",
   "id": "b4a11bb8",
   "metadata": {},
   "source": [
    "# instructor's solution:"
   ]
  },
  {
   "cell_type": "code",
   "execution_count": 1,
   "id": "deec7f19",
   "metadata": {},
   "outputs": [
    {
     "data": {
      "text/plain": [
       "[1, 2]"
      ]
     },
     "execution_count": 1,
     "metadata": {},
     "output_type": "execute_result"
    }
   ],
   "source": [
    "def find_duplicates(nums):\n",
    "    # create an empty hash table\n",
    "    num_counts = {}\n",
    " \n",
    "    # iterate through each number in the array\n",
    "    for num in nums:\n",
    "        # add the number to the hash table or increment its count if it's already in the hash table\n",
    "        num_counts[num] = num_counts.get(num, 0) + 1\n",
    " \n",
    "    # create a list of the numbers that appear more than once in the input array\n",
    "    duplicates = [num for num, count in num_counts.items() if count > 1]\n",
    " \n",
    "    # return the list of duplicates\n",
    "    return duplicates\n",
    "\n",
    "nums = [1,2,3,2,5,1]\n",
    "find_duplicates(nums)"
   ]
  },
  {
   "cell_type": "markdown",
   "id": "092bbdb0",
   "metadata": {},
   "source": [
    "# understanding"
   ]
  },
  {
   "cell_type": "code",
   "execution_count": 15,
   "id": "6def2cec",
   "metadata": {},
   "outputs": [
    {
     "data": {
      "text/plain": [
       "{1: 2, 2: 2, 3: 1, 5: 1}"
      ]
     },
     "execution_count": 15,
     "metadata": {},
     "output_type": "execute_result"
    }
   ],
   "source": [
    "num_counts = {}\n",
    "\n",
    "nums = [1,2,3,2,5,1]\n",
    "\n",
    "for num in nums:\n",
    "    num_counts[num] = num_counts.get(num,0) + 1\n",
    "    \n",
    "    \n",
    "    \n",
    "    \n",
    "num_counts"
   ]
  },
  {
   "cell_type": "code",
   "execution_count": 13,
   "id": "fe492118",
   "metadata": {},
   "outputs": [
    {
     "name": "stdout",
     "output_type": "stream",
     "text": [
      "1 : 2\n",
      "2 : 2\n",
      "3 : 1\n",
      "5 : 1\n"
     ]
    }
   ],
   "source": [
    "num_counts = {}\n",
    "\n",
    "nums = [1,2,3,2,5,1]\n",
    "\n",
    "for num in nums:\n",
    "    num_counts[num] = num_counts.get(num,0) + 1\n",
    "    \n",
    "    \n",
    "for num,counts in num_counts.items():\n",
    "    print(num,':',counts)\n",
    "    \n"
   ]
  },
  {
   "cell_type": "code",
   "execution_count": 20,
   "id": "27c3f8ed",
   "metadata": {},
   "outputs": [
    {
     "data": {
      "text/plain": [
       "[1, 2]"
      ]
     },
     "execution_count": 20,
     "metadata": {},
     "output_type": "execute_result"
    }
   ],
   "source": [
    "num_counts = {}\n",
    "\n",
    "nums = [1,2,3,2,5,1]\n",
    "\n",
    "duplicates = []\n",
    "for num in nums:\n",
    "    num_counts[num] = num_counts.get(num,0) + 1\n",
    "    \n",
    "    \n",
    "for num,counts in num_counts.items():\n",
    "    \n",
    "    if counts > 1:\n",
    "        \n",
    "        duplicates.append(num)\n",
    "        \n",
    "        \n",
    "duplicates"
   ]
  },
  {
   "cell_type": "code",
   "execution_count": 21,
   "id": "68f2b374",
   "metadata": {},
   "outputs": [
    {
     "data": {
      "text/plain": [
       "2"
      ]
     },
     "execution_count": 21,
     "metadata": {},
     "output_type": "execute_result"
    }
   ],
   "source": [
    "dic = {}\n",
    "\n",
    "dic[0] = 2\n",
    "dic.get(0) # gets the value of the key"
   ]
  },
  {
   "cell_type": "markdown",
   "id": "a5271c9e",
   "metadata": {},
   "source": [
    "# practice"
   ]
  },
  {
   "cell_type": "code",
   "execution_count": 8,
   "id": "cfcca53e",
   "metadata": {},
   "outputs": [
    {
     "name": "stdout",
     "output_type": "stream",
     "text": [
      "0 : None\n",
      "1 : None\n",
      "2 : None\n",
      "3 : None\n",
      "4 : None\n",
      "5 : [['Johnson', 71]]\n",
      "6 : None\n",
      "7 : None\n",
      "8 : [['jeberson', 99]]\n",
      "9 : None\n",
      "10 : None\n",
      "11 : None\n",
      "12 : None\n",
      "13 : None\n",
      "14 : None\n",
      "15 : [['perfect', 100]]\n",
      "16 : [['Rajan', 70]]\n",
      "17 : None\n",
      "18 : None\n",
      "19 : None\n"
     ]
    }
   ],
   "source": [
    "class hashtable:\n",
    "\n",
    "    def __init__(self,size=20):\n",
    "        self.data_map = [None]*size\n",
    "\n",
    "\n",
    "    def __hash(self,key):\n",
    "        my_hash = 0\n",
    "\n",
    "        for letter in key:\n",
    "            my_hash = (my_hash + ord(letter) *23)%len(self.data_map)\n",
    "\n",
    "\n",
    "        return my_hash\n",
    "\n",
    "    def print_table(self):\n",
    "\n",
    "        for i,val in enumerate(self.data_map):\n",
    "            print(i,':',val)\n",
    "            \n",
    "            \n",
    "    def set_item(self,key,value):\n",
    "        \n",
    "        index = self.__hash(key)\n",
    "        \n",
    "        \n",
    "        if self.data_map[index] is None:\n",
    "            self.data_map[index] = []\n",
    "\n",
    "        self.data_map[index].append([key,value])\n",
    "        \n",
    "        \n",
    "        \n",
    "    def get_item(self,key):\n",
    "        \n",
    "        index = self.__hash(key)\n",
    "        if self.data_map[index] is not None:\n",
    "            for i in range(len(self.data_map[index])):\n",
    "                if self.data_map[i][0] == key:\n",
    "                    return self.data_map[i][1]\n",
    "\n",
    "            return False\n",
    "        \n",
    "        \n",
    "ht = hashtable()\n",
    "\n",
    "\n",
    "ht.set_item('Rajan',70)\n",
    "ht.set_item('Johnson',71)\n",
    "ht.set_item('jeberson',99)\n",
    "ht.set_item('perfect',100)\n",
    "\n",
    "\n",
    "ht.print_table()\n",
    "            \n",
    "\n",
    "    "
   ]
  },
  {
   "cell_type": "markdown",
   "id": "86d372c4",
   "metadata": {},
   "source": [
    "# day 100"
   ]
  },
  {
   "cell_type": "markdown",
   "id": "78b1b22c",
   "metadata": {},
   "source": [
    "# find the first non-repeating character in a given string"
   ]
  },
  {
   "cell_type": "code",
   "execution_count": 7,
   "id": "0240f24a",
   "metadata": {},
   "outputs": [
    {
     "data": {
      "text/plain": [
       "'h'"
      ]
     },
     "execution_count": 7,
     "metadata": {},
     "output_type": "execute_result"
    }
   ],
   "source": [
    "def first_non_repeating_char(string):\n",
    "\n",
    "    dic = {}\n",
    "\n",
    "    for char in string:\n",
    "        dic[char] = dic.get(char,0) + 1\n",
    "\n",
    "    for key,value in dic.items():\n",
    "        if value == 1:\n",
    "            return key\n",
    "        \n",
    "    return None\n",
    "\n",
    "\n",
    "first_non_repeating_char('hello')"
   ]
  },
  {
   "cell_type": "markdown",
   "id": "cbbb773a",
   "metadata": {},
   "source": [
    "# explanation,analysis and freethrows"
   ]
  },
  {
   "cell_type": "code",
   "execution_count": 7,
   "id": "3f3d2497",
   "metadata": {},
   "outputs": [
    {
     "data": {
      "text/plain": [
       "{'h': 1, 'e': 1, 'l': 2, 'o': 1}"
      ]
     },
     "execution_count": 7,
     "metadata": {},
     "output_type": "execute_result"
    }
   ],
   "source": [
    "dic = {}\n",
    "string = 'hello'\n",
    "\n",
    "for char in string:\n",
    "    dic[char] = dic.get(char,0) + 1 # get method gets the value of the key, if the key is not found get method assigns 1.\n",
    "    \n",
    "dic"
   ]
  },
  {
   "cell_type": "code",
   "execution_count": 8,
   "id": "80a4d4ae",
   "metadata": {},
   "outputs": [
    {
     "data": {
      "text/plain": [
       "5"
      ]
     },
     "execution_count": 8,
     "metadata": {},
     "output_type": "execute_result"
    }
   ],
   "source": [
    "dic = {'rotten':5}\n",
    "\n",
    "dic.get('rotten')"
   ]
  },
  {
   "cell_type": "code",
   "execution_count": 9,
   "id": "8872f583",
   "metadata": {},
   "outputs": [
    {
     "data": {
      "text/plain": [
       "6"
      ]
     },
     "execution_count": 9,
     "metadata": {},
     "output_type": "execute_result"
    }
   ],
   "source": [
    "dic = {'rotten':5}\n",
    "\n",
    "dic.get('rotten',0) + 1"
   ]
  },
  {
   "cell_type": "code",
   "execution_count": null,
   "id": "ba5d3c8c",
   "metadata": {},
   "outputs": [],
   "source": []
  },
  {
   "cell_type": "markdown",
   "id": "253fba22",
   "metadata": {},
   "source": [
    "# day 101,102,103,104,105,106,107,108"
   ]
  },
  {
   "cell_type": "markdown",
   "id": "248876c6",
   "metadata": {},
   "source": [
    "# group_anagrams:\n",
    "\n",
    "# Goal:\n",
    "\n",
    "# grouping the anagrams\n",
    "\n",
    "\n",
    "# steps:\n",
    "\n",
    "1. take the first word of the list and run through the entire list until the end of the list comparing the word with each other word and if they are anagrams add it to the nested_lis\n",
    "\n",
    "2. for picking the second word, check if the word is present in nested_lis or not. if it is present skip over to selecting another word. pick only the word that is not anagram to the first word for second grouping and subsuent groupings.\n",
    "\n",
    "\n",
    "# doubt box:\n",
    "\n",
    "1. how to keep track of the already joined words? and how not to join the already joined words?\n",
    "2. how to initiate the nested_lis?\n",
    "3. # we have three nested_lists put all the unique elements in each list in one list\n",
    "\n",
    "['tea','ate'],['tea','eat'],['ate','eat']"
   ]
  },
  {
   "cell_type": "code",
   "execution_count": 25,
   "id": "40101508",
   "metadata": {},
   "outputs": [
    {
     "data": {
      "text/plain": [
       "[['tea', 'eat'],\n",
       " ['ate', 'eat'],\n",
       " ['eat', 'eat'],\n",
       " ['poop', 'popo'],\n",
       " ['opop', 'popo'],\n",
       " ['popo', 'popo']]"
      ]
     },
     "execution_count": 25,
     "metadata": {},
     "output_type": "execute_result"
    }
   ],
   "source": [
    "strings = ['tea','ate','eat','poop','opop','popo']\n",
    "\n",
    "lis = []\n",
    "for i in range(len(strings)):\n",
    "    \n",
    "    for j in range(len(strings)):\n",
    "        \n",
    "        count = 0\n",
    "        for k in strings[j]: # taking ate\n",
    "            \n",
    "            if k in strings[i]: # comparing it with tea\n",
    "                \n",
    "                count = count+1\n",
    "                \n",
    "        if count == len(strings[i]):\n",
    "            nested_lis = []\n",
    "            \n",
    "            nested_lis.append(strings[i])\n",
    "            nested_lis.append(strings[j])\n",
    "            \n",
    "    lis.append(nested_lis)\n",
    "    \n",
    "lis"
   ]
  },
  {
   "cell_type": "code",
   "execution_count": 19,
   "id": "8f0c97cb",
   "metadata": {},
   "outputs": [
    {
     "name": "stdout",
     "output_type": "stream",
     "text": [
      "['ate', 'eat', 'tea']\n"
     ]
    }
   ],
   "source": [
    "def get_unique_elements(lists):\n",
    "    unique_elements = set()\n",
    "    for list in lists:\n",
    "        for element in list:\n",
    "            unique_elements.add(element)\n",
    "\n",
    "    return unique_elements\n",
    "\n",
    "\n",
    "lists = [['tea', 'ate'], ['ate', 'eat'], ['eat', 'eat']]\n",
    "\n",
    "unique_elements = get_unique_elements(lists)\n",
    "\n",
    "print(list(unique_elements))"
   ]
  },
  {
   "cell_type": "code",
   "execution_count": null,
   "id": "d7a48e45",
   "metadata": {},
   "outputs": [],
   "source": []
  },
  {
   "cell_type": "code",
   "execution_count": 3,
   "id": "4e749900",
   "metadata": {},
   "outputs": [
    {
     "name": "stdout",
     "output_type": "stream",
     "text": [
      "they are anagrams\n"
     ]
    }
   ],
   "source": [
    "# test\n",
    "\n",
    "\n",
    "word1 = 'tea'\n",
    "word2 = 'ate'\n",
    "word3 = 'eat'\n",
    "\n",
    "count = 0\n",
    "for i in word1:\n",
    "    \n",
    "    if i in word2:\n",
    "        count = count + 1\n",
    "        \n",
    "if count == len(word1):\n",
    "    print('they are anagrams')\n",
    "    \n",
    "    \n",
    "else:\n",
    "    print('They are not Anagrams')\n",
    "        "
   ]
  },
  {
   "cell_type": "markdown",
   "id": "2da36f50",
   "metadata": {},
   "source": []
  },
  {
   "cell_type": "markdown",
   "id": "42cf75d6",
   "metadata": {},
   "source": [
    "# failed grouping the anagrams\n",
    "\n",
    "\n",
    "# steps:\n",
    "1. first take the first word and compare the subsequent words' letters with it if they are anagrams group them in a seperate list that is seperate from the main list lis\n",
    "\n",
    "\n",
    "\n",
    "2. if the next word or the subsequent words it encounters is not an anagram to the first word then the non-anagram should be given a seperate list\n",
    "\n",
    "\n",
    "\n",
    "3. every non-anagramic word is given a seperate list. \n"
   ]
  },
  {
   "cell_type": "code",
   "execution_count": 28,
   "id": "dd566242",
   "metadata": {},
   "outputs": [
    {
     "data": {
      "text/plain": [
       "{'ate', 'eat', 'opop', 'poop', 'popo', 'tea'}"
      ]
     },
     "execution_count": 28,
     "metadata": {},
     "output_type": "execute_result"
    }
   ],
   "source": [
    "strings = ['tea','ate','eat','poop','opop','popo']\n",
    "\n",
    "# empty list\n",
    "lis = []\n",
    "\n",
    "# indexing the strings\n",
    "for i in range(1,len(strings)):\n",
    "    count = 0\n",
    "    \n",
    "    # reading letter by letter of each word in string i.e 't','e','a' for tea\n",
    "    for j in  strings[i-1]: \n",
    "        \n",
    "        # if t in 'ate' count 1,if e in 'ate' count 2, if a in 'ate' count 3\n",
    "        if j in strings[i]:\n",
    "            count = count + 1\n",
    "            \n",
    "    # if count== len(tea) list them together  \n",
    "    if count == len(strings[i-1]):\n",
    "        nested_lis = [strings[i-1]] # nested_lis will have the 'tea' \n",
    "        nested_lis.append(strings[i])\n",
    "        \n",
    "        \n",
    "    # append the nested_lis to lis    \n",
    "    lis.append(nested_lis)\n",
    "\n",
    "    \n",
    "    \n",
    "# these double for loops can be avoided with dictionary.        "
   ]
  },
  {
   "cell_type": "code",
   "execution_count": 11,
   "id": "89840706",
   "metadata": {},
   "outputs": [
    {
     "data": {
      "text/plain": [
       "[[1, 2, 3]]"
      ]
     },
     "execution_count": 11,
     "metadata": {},
     "output_type": "execute_result"
    }
   ],
   "source": [
    "lis = []\n",
    "\n",
    "nested_lis = [1,2,3]\n",
    "\n",
    "lis.append(nested_lis)\n",
    "\n",
    "lis"
   ]
  },
  {
   "cell_type": "code",
   "execution_count": 7,
   "id": "47990ea5",
   "metadata": {},
   "outputs": [
    {
     "data": {
      "text/plain": [
       "['ate', 'eat', 'opop', 'popo']"
      ]
     },
     "execution_count": 7,
     "metadata": {},
     "output_type": "execute_result"
    }
   ],
   "source": [
    "lis"
   ]
  },
  {
   "cell_type": "code",
   "execution_count": 30,
   "id": "998e2c96",
   "metadata": {},
   "outputs": [
    {
     "data": {
      "text/plain": [
       "['poop', 'tea']"
      ]
     },
     "execution_count": 30,
     "metadata": {},
     "output_type": "execute_result"
    }
   ],
   "source": [
    "list(set(strings) - set(lis))"
   ]
  },
  {
   "cell_type": "code",
   "execution_count": null,
   "id": "4f3ce673",
   "metadata": {},
   "outputs": [],
   "source": []
  },
  {
   "cell_type": "code",
   "execution_count": 17,
   "id": "0a292a08",
   "metadata": {},
   "outputs": [
    {
     "data": {
      "text/plain": [
       "3"
      ]
     },
     "execution_count": 17,
     "metadata": {},
     "output_type": "execute_result"
    }
   ],
   "source": [
    "len(word1)"
   ]
  },
  {
   "cell_type": "code",
   "execution_count": 18,
   "id": "c3d0b283",
   "metadata": {},
   "outputs": [
    {
     "data": {
      "text/plain": [
       "3"
      ]
     },
     "execution_count": 18,
     "metadata": {},
     "output_type": "execute_result"
    }
   ],
   "source": [
    "count"
   ]
  },
  {
   "cell_type": "code",
   "execution_count": 27,
   "id": "757a6708",
   "metadata": {},
   "outputs": [
    {
     "data": {
      "text/plain": [
       "{'tea': None, 'eat': None, 'ate': None, 'bonk': None}"
      ]
     },
     "execution_count": 27,
     "metadata": {},
     "output_type": "execute_result"
    }
   ],
   "source": [
    "\n",
    "strings = ['tea','eat','ate','bonk']\n",
    "\n",
    "\n",
    "dic = {}\n",
    "for i in strings:\n",
    "    dic[i] = None\n",
    "\n",
    "dic"
   ]
  },
  {
   "cell_type": "markdown",
   "id": "664f7b80",
   "metadata": {},
   "source": [
    "# check whether keys and values could be passed as list "
   ]
  },
  {
   "cell_type": "code",
   "execution_count": 10,
   "id": "32657b35",
   "metadata": {},
   "outputs": [
    {
     "data": {
      "text/plain": [
       "dict_values([['eat', 'ate']])"
      ]
     },
     "execution_count": 10,
     "metadata": {},
     "output_type": "execute_result"
    }
   ],
   "source": [
    "\n",
    "\n"
   ]
  },
  {
   "cell_type": "code",
   "execution_count": 32,
   "id": "23054f1b",
   "metadata": {},
   "outputs": [
    {
     "data": {
      "text/plain": [
       "dict_values([['tea', 'ate', 'eat'], ['poop', 'opop', 'popo']])"
      ]
     },
     "execution_count": 32,
     "metadata": {},
     "output_type": "execute_result"
    }
   ],
   "source": [
    "# grouping the anagrams\n",
    "\n",
    "def group_anagrams(strings):\n",
    "    anagram_groups = {}\n",
    "    for string in strings:\n",
    "    # Create a list of the sorted characters in the string.\n",
    "        sorted_string = ''.join(sorted(string))\n",
    "\n",
    "        # If the sorted string is not in the anagram groups dictionary, create a new list for it.\n",
    "        if sorted_string in anagram_groups:\n",
    "            \n",
    "            # Add the string to the anagram group list.\n",
    "            anagram_groups[sorted_string].append(string)\n",
    "            \n",
    "        else: # if the sorted_string is not in anagram_groups\n",
    "            \n",
    "            anagram_groups[sorted_string] = []\n",
    "\n",
    "        \n",
    "\n",
    "    return anagram_groups.values()\n",
    "\n",
    "\n",
    "strings = ['tea', 'ate', 'eat', 'poop', 'opop', 'popo']\n",
    "group_anagrams(strings)\n",
    "    \n",
    "    \n",
    "    \n",
    "    \n",
    "    \n",
    "    "
   ]
  },
  {
   "cell_type": "markdown",
   "id": "dba55fed",
   "metadata": {},
   "source": [
    "# understand this clearly:"
   ]
  },
  {
   "cell_type": "code",
   "execution_count": 5,
   "id": "9b0f1060",
   "metadata": {},
   "outputs": [
    {
     "name": "stdout",
     "output_type": "stream",
     "text": [
      "aet\n",
      "aet\n",
      "aet\n",
      "oopp\n",
      "oopp\n",
      "oopp\n"
     ]
    }
   ],
   "source": [
    "strings = ['tea', 'ate', 'eat', 'poop', 'opop', 'popo']\n",
    "for string in strings:\n",
    "    sorted_string = ''.join(sorted(string))\n",
    "    \n",
    "    print(sorted_string)\n"
   ]
  },
  {
   "cell_type": "code",
   "execution_count": 4,
   "id": "f62d23df",
   "metadata": {},
   "outputs": [
    {
     "data": {
      "text/plain": [
       "['a', 'e', 't']"
      ]
     },
     "execution_count": 4,
     "metadata": {},
     "output_type": "execute_result"
    }
   ],
   "source": [
    "sorted('tea')"
   ]
  },
  {
   "cell_type": "code",
   "execution_count": 1,
   "id": "bcdfdc8e",
   "metadata": {},
   "outputs": [
    {
     "data": {
      "text/plain": [
       "['a', 'e', 't']"
      ]
     },
     "execution_count": 1,
     "metadata": {},
     "output_type": "execute_result"
    }
   ],
   "source": [
    "sorted('ate')"
   ]
  },
  {
   "cell_type": "code",
   "execution_count": 3,
   "id": "3f48f864",
   "metadata": {},
   "outputs": [
    {
     "data": {
      "text/plain": [
       "'aet'"
      ]
     },
     "execution_count": 3,
     "metadata": {},
     "output_type": "execute_result"
    }
   ],
   "source": [
    "''.join(sorted('tea'))"
   ]
  },
  {
   "cell_type": "code",
   "execution_count": 5,
   "id": "ecfb2118",
   "metadata": {},
   "outputs": [
    {
     "data": {
      "text/plain": [
       "{'aet': ['tea', 'ate']}"
      ]
     },
     "execution_count": 5,
     "metadata": {},
     "output_type": "execute_result"
    }
   ],
   "source": [
    "dic = {'aet':[]}\n",
    "\n",
    "dic['aet'].append('tea')\n",
    "dic['aet'].append('ate')\n",
    "dic"
   ]
  },
  {
   "cell_type": "markdown",
   "id": "260e5f2a",
   "metadata": {},
   "source": [
    "# instructor's code"
   ]
  },
  {
   "cell_type": "code",
   "execution_count": 8,
   "id": "a5888e5b",
   "metadata": {},
   "outputs": [
    {
     "data": {
      "text/plain": [
       "{'aet': ['tea', 'ate', 'eat'], 'oopp': ['poop', 'opop', 'popo']}"
      ]
     },
     "execution_count": 8,
     "metadata": {},
     "output_type": "execute_result"
    }
   ],
   "source": [
    "def group_anagrams(strings):\n",
    "    \n",
    "    anagram = {}\n",
    "    \n",
    "    for string in strings:\n",
    "        \n",
    "        sorted_string = ''.join(sorted(string))\n",
    "        \n",
    "        if sorted_string not in anagram:\n",
    "            anagram[sorted_string] = []\n",
    "            \n",
    "        anagram[sorted_string].append(string)\n",
    "        \n",
    "    return anagram\n",
    "\n",
    "strings = ['tea', 'ate', 'eat', 'poop', 'opop', 'popo']\n",
    "group_anagrams(strings)\n",
    "    "
   ]
  },
  {
   "cell_type": "code",
   "execution_count": null,
   "id": "df3b3234",
   "metadata": {},
   "outputs": [],
   "source": []
  },
  {
   "cell_type": "markdown",
   "id": "3234fad2",
   "metadata": {},
   "source": [
    "# day 108"
   ]
  },
  {
   "cell_type": "markdown",
   "id": "ba28b496",
   "metadata": {},
   "source": [
    "# two numbers  sums to give the target.\n",
    "\n",
    "* returns the index numbers of the numbers from a list that when added give the target.\n",
    "\n",
    "example:\n",
    "\n",
    "* lis = [1,2,3,4,5]\n",
    "* target = 9\n",
    "* returns [3,4]\n",
    "\n",
    "* the degree of freedom for two numbers sum: x+y = target is 2. If you only know the state of two numbers, the fate of the finalth number is determined, ascertained, etched in time and cannot be changed, it is dominated by the other two. The three are connected regardless of space and TIME (a logical entanglement)."
   ]
  },
  {
   "cell_type": "code",
   "execution_count": 4,
   "id": "fbc4b0d3",
   "metadata": {},
   "outputs": [
    {
     "data": {
      "text/plain": [
       "{1: 2, 2: 3, 3: 6, 6: 5}"
      ]
     },
     "execution_count": 4,
     "metadata": {},
     "output_type": "execute_result"
    }
   ],
   "source": [
    "target = 9\n",
    "nums = [1,2,3,6,5]\n",
    "\n",
    "\n",
    "dic = {}\n",
    "\n",
    "# i is the counter\n",
    "for i in range(1,len(nums)):\n",
    "    dic[nums[i-1]] = nums[i]\n",
    "    \n",
    "    \n",
    "dic          "
   ]
  },
  {
   "cell_type": "code",
   "execution_count": null,
   "id": "7a8734ce",
   "metadata": {},
   "outputs": [],
   "source": []
  },
  {
   "cell_type": "code",
   "execution_count": 25,
   "id": "9ca9325c",
   "metadata": {},
   "outputs": [
    {
     "data": {
      "text/plain": [
       "[1, 3]"
      ]
     },
     "execution_count": 25,
     "metadata": {},
     "output_type": "execute_result"
    }
   ],
   "source": [
    "a ={1:3}\n",
    "\n",
    "list(a.keys())[0] + list(a.values())[0]\n",
    "\n",
    "lis = []\n",
    "\n",
    "lis.append(list(a.keys())[0])\n",
    "lis.append(list(a.values())[0])\n",
    "lis"
   ]
  },
  {
   "cell_type": "markdown",
   "id": "adec8cba",
   "metadata": {},
   "source": [
    "# day 110\n",
    "\n",
    "step 1: have the first and second variable. first pointing to first index and second pointing to second index.\n",
    "\n",
    "\n",
    "\n",
    "step 2: add first and second variable corresponding numbers in lis and see which adds up to the target number.\n",
    "\n",
    "\n",
    "\n",
    "\n",
    "step 3: return the first and second variables."
   ]
  },
  {
   "cell_type": "code",
   "execution_count": 9,
   "id": "8f0c3477",
   "metadata": {},
   "outputs": [
    {
     "name": "stdout",
     "output_type": "stream",
     "text": [
      "indices are: 2 and 3\n"
     ]
    }
   ],
   "source": [
    "target = 9\n",
    "lis = [1,2,3,6,2,5]\n",
    "\n",
    "first = 0\n",
    "second = 1\n",
    "\n",
    "while second <= len(lis)-1:\n",
    "    \n",
    "    if lis[first]+ lis[second] == target:\n",
    "        print('indices are: %s and %s'%(first,second))\n",
    "        \n",
    "    first = second\n",
    "    second = second + 1\n",
    "    \n",
    "    "
   ]
  },
  {
   "cell_type": "code",
   "execution_count": 6,
   "id": "98db19c2",
   "metadata": {},
   "outputs": [
    {
     "data": {
      "text/plain": [
       "6"
      ]
     },
     "execution_count": 6,
     "metadata": {},
     "output_type": "execute_result"
    }
   ],
   "source": [
    "len(lis)"
   ]
  },
  {
   "cell_type": "code",
   "execution_count": 30,
   "id": "1247102d",
   "metadata": {},
   "outputs": [
    {
     "data": {
      "text/plain": [
       "[2, 3]"
      ]
     },
     "execution_count": 30,
     "metadata": {},
     "output_type": "execute_result"
    }
   ],
   "source": [
    "# creating a function:\n",
    "\n",
    "\n",
    "\n",
    "def two_sum(lis,target):\n",
    "    first = 0\n",
    "    second = 1\n",
    "    \n",
    "    indices = []\n",
    "\n",
    "    while second <= len(lis)-1:\n",
    "\n",
    "        if lis[first]+ lis[second] == target:\n",
    "            indices.append(first)\n",
    "            indices.append(second)\n",
    "            \n",
    "        \n",
    "            return indices\n",
    "           \n",
    "        \n",
    "        first = second\n",
    "        second = second + 1\n",
    "        \n",
    "    if indices == []:\n",
    "        return []\n",
    "\n",
    "        \n",
    "        \n",
    "target = 9\n",
    "lis = [1,2,3,6,2,5]\n",
    "\n",
    "\n",
    "two_sum(lis,target)"
   ]
  },
  {
   "cell_type": "code",
   "execution_count": 11,
   "id": "3b689d7f",
   "metadata": {},
   "outputs": [
    {
     "data": {
      "text/plain": [
       "6"
      ]
     },
     "execution_count": 11,
     "metadata": {},
     "output_type": "execute_result"
    }
   ],
   "source": [
    "lis"
   ]
  },
  {
   "cell_type": "markdown",
   "id": "3ab0a80d",
   "metadata": {},
   "source": [
    "# instructor's code:\n",
    "\n",
    "## the degree of freedom for two numbers sum: x+y = target is 2. If you only know the state of two numbers, the fate of the finalth number is determined, ascertained, etched in time and cannot be changed, it is dominated by the other two. The three are connected regardless of space and TIME (a logical entanglement)."
   ]
  },
  {
   "cell_type": "code",
   "execution_count": 13,
   "id": "135db503",
   "metadata": {},
   "outputs": [
    {
     "data": {
      "text/plain": [
       "[3, 5]"
      ]
     },
     "execution_count": 13,
     "metadata": {},
     "output_type": "execute_result"
    }
   ],
   "source": [
    "# solving the problem with a hash:\n",
    "\n",
    "def two_sum(nums, target):\n",
    "    num_map = {}\n",
    "    for i, num in enumerate(nums):\n",
    "        complement = target - num  \n",
    "        \n",
    "        if complement in num_map:\n",
    "            return [num_map[complement], i] \n",
    "                  \n",
    "        else:\n",
    "            num_map[num] = i\n",
    "             \n",
    "             \n",
    "    return []\n",
    "\n",
    "\n",
    "nums = [1,2,3,4,5,6]\n",
    "\n",
    "target = 10\n",
    "\n",
    "two_sum(nums,target)# returns the index numbers of the numbers that when added give the target."
   ]
  },
  {
   "cell_type": "code",
   "execution_count": 32,
   "id": "a051232b",
   "metadata": {},
   "outputs": [
    {
     "data": {
      "text/plain": [
       "{1: 0, 2: 1, 3: 2, 4: 3, 5: 4, 6: 5}"
      ]
     },
     "execution_count": 32,
     "metadata": {},
     "output_type": "execute_result"
    }
   ],
   "source": [
    "# disecting the above code:\n",
    "nums = [1,2,3,4,5,6]\n",
    "\n",
    "target = 10\n",
    "\n",
    "num_map = {}\n",
    "\n",
    "\n",
    "for i,num in enumerate(nums):\n",
    "    \n",
    "    complement = target - num\n",
    "    \n",
    "    num_map[num] = i\n",
    "    \n",
    "num_map\n",
    "\n"
   ]
  },
  {
   "cell_type": "code",
   "execution_count": 5,
   "id": "5f5eadbe",
   "metadata": {},
   "outputs": [
    {
     "name": "stdout",
     "output_type": "stream",
     "text": [
      "[3, 5]\n"
     ]
    }
   ],
   "source": [
    "nums = [1,2,3,4,5,6]\n",
    "\n",
    "target = 10\n",
    "\n",
    "num_map = {}\n",
    "\n",
    "\n",
    "for i,num in enumerate(nums):\n",
    "    \n",
    "    complement = target - num # 9,8,7,6,5,4\n",
    "   \n",
    "    \n",
    "    if complement in num_map:\n",
    "        \n",
    "        print( [num_map[complement],i] ) # only 4 gets caught and returns the value of 4 which is 3, and the final index \n",
    "                                         # which is 5\n",
    "        \n",
    "    else:\n",
    "    \n",
    "        num_map[num] = i \n",
    "    \n",
    "\n"
   ]
  },
  {
   "cell_type": "code",
   "execution_count": 37,
   "id": "48505ba5",
   "metadata": {},
   "outputs": [],
   "source": [
    "dic = {'george':15}\n",
    "\n",
    "if 15 in dic:\n",
    "    print( dic['george'] )"
   ]
  },
  {
   "cell_type": "markdown",
   "id": "b6bfec65",
   "metadata": {},
   "source": [
    "# day 113, day 117"
   ]
  },
  {
   "cell_type": "markdown",
   "id": "a7853839",
   "metadata": {},
   "source": [
    "# Subarray Sum ( ** Interview Question)\n",
    "\n",
    "\n",
    "sol 1: use two for loops one for tracking the starting index and another for finding the ending index.\n",
    "\n",
    "![ffsdfsfs](1_kandane.png)"
   ]
  },
  {
   "cell_type": "code",
   "execution_count": 9,
   "id": "52b8a083",
   "metadata": {},
   "outputs": [
    {
     "data": {
      "text/plain": [
       "[1, 3, 3, 4]"
      ]
     },
     "execution_count": 9,
     "metadata": {},
     "output_type": "execute_result"
    }
   ],
   "source": [
    "dic = {}\n",
    "\n",
    "nums = [1, 2, 3, 4, 5]\n",
    "target = 9\n",
    "\n",
    "lis = []\n",
    "for i,num in enumerate(nums):\n",
    "    \n",
    "#     print('i: ',i)\n",
    "    add = 0\n",
    "    for j,val in enumerate(nums[i:]): # from ith index till the end j runs\n",
    "        \n",
    "#         print('J: ',j,'val: ',val)\n",
    "        add = add + val\n",
    "        \n",
    "        \n",
    "        \n",
    "        if add == target:\n",
    "            \n",
    "            start = i # starting index\n",
    "            end = j+i # ending index\n",
    "            \n",
    "            \n",
    "            \n",
    "            lis.append(start)\n",
    "            lis.append(end)\n",
    "        \n",
    "lis        \n"
   ]
  },
  {
   "cell_type": "code",
   "execution_count": 24,
   "id": "be8f1d51",
   "metadata": {},
   "outputs": [
    {
     "data": {
      "text/plain": [
       "[]"
      ]
     },
     "execution_count": 24,
     "metadata": {},
     "output_type": "execute_result"
    }
   ],
   "source": [
    "# creating a function\n",
    "\n",
    "def subarray_sum(nums,target):\n",
    "    \n",
    "\n",
    "    lis = []\n",
    "    for i,num in enumerate(nums):\n",
    "\n",
    "    #     print('i: ',i)\n",
    "        add = 0\n",
    "        for j,val in enumerate(nums[i:]): # from ith index till the end j runs\n",
    "\n",
    "    #         print('J: ',j,'val: ',val)\n",
    "            add = add + val\n",
    "\n",
    "\n",
    "\n",
    "            if add == target:\n",
    "\n",
    "\n",
    "\n",
    "                start = i # starting index\n",
    "                end = j+i # ending index\n",
    "\n",
    "\n",
    "\n",
    "                lis.append(start)\n",
    "                lis.append(end)\n",
    "                \n",
    "                return lis\n",
    "            \n",
    "            \n",
    "    else:\n",
    "        return []\n",
    "            \n",
    "            \n",
    "                \n",
    "                \n",
    "            \n",
    "            \n",
    "            \n",
    "\n",
    "\n",
    "        \n",
    "nums = [1,2,3,4,5]\n",
    "target = 9\n",
    "subarray_sum(nums,target)\n"
   ]
  },
  {
   "cell_type": "markdown",
   "id": "a86a9311",
   "metadata": {},
   "source": [
    "# explanations, analysis and freethrows"
   ]
  },
  {
   "cell_type": "code",
   "execution_count": 11,
   "id": "c10dab0a",
   "metadata": {},
   "outputs": [
    {
     "data": {
      "text/plain": [
       "[1, 2, 3, 4, 5]"
      ]
     },
     "execution_count": 11,
     "metadata": {},
     "output_type": "execute_result"
    }
   ],
   "source": [
    "nums[0:]"
   ]
  },
  {
   "cell_type": "code",
   "execution_count": 12,
   "id": "358b942f",
   "metadata": {},
   "outputs": [
    {
     "data": {
      "text/plain": [
       "[]"
      ]
     },
     "execution_count": 12,
     "metadata": {},
     "output_type": "execute_result"
    }
   ],
   "source": [
    "nums = []\n",
    "nums"
   ]
  },
  {
   "cell_type": "markdown",
   "id": "2e26745e",
   "metadata": {},
   "source": [
    "# instructor's code:\n",
    "\n",
    "## just memorize this there's a lot of information to take in here which might be useful later on!!!\n",
    "\n",
    "* sum_index = {0:-1} there's a reason for why it is designed like this"
   ]
  },
  {
   "cell_type": "code",
   "execution_count": 12,
   "id": "d10b60b7",
   "metadata": {},
   "outputs": [
    {
     "data": {
      "text/plain": [
       "[1, 3]"
      ]
     },
     "execution_count": 12,
     "metadata": {},
     "output_type": "execute_result"
    }
   ],
   "source": [
    "def subarray_sum(nums, target):\n",
    "    sum_index = {0: -1}\n",
    "    current_sum = 0\n",
    "    for i, num in enumerate(nums):\n",
    "        current_sum += num\n",
    "        if current_sum - target in sum_index:\n",
    "            return [sum_index[current_sum - target] + 1, i]\n",
    "        \n",
    "        else:\n",
    "\n",
    "            sum_index[current_sum] = i\n",
    "    return []\n",
    "\n",
    "nums = [1,2,3,4,5]\n",
    "target = 9\n",
    "\n",
    "\n",
    "subarray_sum(nums,target) # starting index to ending index add all the numbers you get the target."
   ]
  },
  {
   "cell_type": "markdown",
   "id": "8e2cd268",
   "metadata": {},
   "source": [
    "# analyzing the code to get the gist"
   ]
  },
  {
   "cell_type": "code",
   "execution_count": 11,
   "id": "fa224afd",
   "metadata": {},
   "outputs": [
    {
     "name": "stdout",
     "output_type": "stream",
     "text": [
      "1\n",
      "{0: -1}\n",
      "3\n",
      "{0: -1, 1: 0}\n",
      "6\n",
      "{0: -1, 1: 0, 3: 1}\n",
      "10\n",
      "0\n"
     ]
    },
    {
     "data": {
      "text/plain": [
       "[1, 3]"
      ]
     },
     "execution_count": 11,
     "metadata": {},
     "output_type": "execute_result"
    }
   ],
   "source": [
    "def subarray_sum(nums, target):\n",
    "    sum_index = {0: -1}\n",
    "    current_sum = 0\n",
    "    for i, num in enumerate(nums):\n",
    "        current_sum += num\n",
    "        print(current_sum)\n",
    "        if current_sum - target in sum_index:\n",
    "            print(sum_index[current_sum - target])\n",
    "            return [sum_index[current_sum - target] + 1, i]\n",
    "        \n",
    "        else:\n",
    "            print(sum_index)\n",
    "            sum_index[current_sum] = i\n",
    "    return []\n",
    "\n",
    "nums = [1,2,3,4,5]\n",
    "target = 9\n",
    "subarray_sum(nums,target)"
   ]
  },
  {
   "cell_type": "code",
   "execution_count": 15,
   "id": "146da93d",
   "metadata": {},
   "outputs": [
    {
     "name": "stdout",
     "output_type": "stream",
     "text": [
      "1\n",
      "{0: -1}\n",
      "-1\n",
      "{0: -1, 1: 0}\n",
      "2\n",
      "{0: -1, 1: 0, -1: 1}\n",
      "6\n",
      "{0: -1, 1: 0, -1: 1, 2: 2}\n",
      "11\n",
      "2\n"
     ]
    },
    {
     "data": {
      "text/plain": [
       "[3, 4]"
      ]
     },
     "execution_count": 15,
     "metadata": {},
     "output_type": "execute_result"
    }
   ],
   "source": [
    "# added negative value in the list to test the algorithm's dynammic utility.\n",
    "def subarray_sum(nums, target):\n",
    "    sum_index = {0: -1}\n",
    "    current_sum = 0\n",
    "    for i, num in enumerate(nums):\n",
    "        current_sum += num\n",
    "        print(current_sum)\n",
    "        if current_sum - target in sum_index:\n",
    "            print(sum_index[current_sum - target])\n",
    "            return [sum_index[current_sum - target] + 1, i]\n",
    "        \n",
    "        else:\n",
    "            print(sum_index)\n",
    "            sum_index[current_sum] = i\n",
    "    return []\n",
    "\n",
    "nums = [1,-2,3,4,5] # added negative value in the list to test the algorithm's dynammic utility.\n",
    "target = 9\n",
    "subarray_sum(nums,target)"
   ]
  },
  {
   "cell_type": "code",
   "execution_count": 22,
   "id": "7c0fccf2",
   "metadata": {},
   "outputs": [
    {
     "name": "stdout",
     "output_type": "stream",
     "text": [
      "1\n",
      "{0: 0}\n",
      "-1\n",
      "{0: 0, 1: 0}\n",
      "2\n",
      "{0: 0, 1: 0, -1: 1}\n",
      "6\n",
      "{0: 0, 1: 0, -1: 1, 2: 2}\n",
      "11\n",
      "2\n"
     ]
    },
    {
     "data": {
      "text/plain": [
       "[3, 4]"
      ]
     },
     "execution_count": 22,
     "metadata": {},
     "output_type": "execute_result"
    }
   ],
   "source": [
    "# added negative value in the list to test the algorithm's dynammic utility.\n",
    "def subarray_sum(nums, target):\n",
    "    sum_index = {0: 0}\n",
    "    current_sum = 0\n",
    "    for i, num in enumerate(nums):\n",
    "        current_sum += num\n",
    "        print(current_sum)\n",
    "        if current_sum - target in sum_index:\n",
    "            print(sum_index[current_sum - target])\n",
    "            return [sum_index[current_sum - target] + 1, i]\n",
    "        \n",
    "        else:\n",
    "            print(sum_index)\n",
    "            sum_index[current_sum] = i\n",
    "    return []\n",
    "\n",
    "nums = [1,-2,3,4,5] # added negative value in the list to test the algorithm's dynammic utility.\n",
    "target = 9\n",
    "subarray_sum(nums,target)"
   ]
  },
  {
   "cell_type": "code",
   "execution_count": 29,
   "id": "8eab8df3",
   "metadata": {},
   "outputs": [
    {
     "name": "stdout",
     "output_type": "stream",
     "text": [
      "1\n",
      "0\n"
     ]
    },
    {
     "data": {
      "text/plain": [
       "[1, 0]"
      ]
     },
     "execution_count": 29,
     "metadata": {},
     "output_type": "execute_result"
    }
   ],
   "source": [
    "# breaking sum_index{0:-1} testing with only element\n",
    "def subarray_sum(nums, target):\n",
    "    sum_index = {0: 0} # why sum_index should be {0:-1}?\n",
    "    current_sum = 0\n",
    "    for i, num in enumerate(nums):\n",
    "        current_sum += num\n",
    "        print(current_sum)\n",
    "        if current_sum - target in sum_index:\n",
    "            print(sum_index[current_sum - target])\n",
    "            return [sum_index[current_sum - target] + 1, i]\n",
    "        \n",
    "        else:\n",
    "            print(sum_index)\n",
    "            sum_index[current_sum] = i\n",
    "    return []\n",
    "\n",
    "nums = [1] \n",
    "target = 1\n",
    "subarray_sum(nums,target) \n",
    "\n",
    "# conclusion: it gives wrong index numbers"
   ]
  },
  {
   "cell_type": "code",
   "execution_count": 28,
   "id": "c64b5347",
   "metadata": {},
   "outputs": [
    {
     "name": "stdout",
     "output_type": "stream",
     "text": [
      "0\n",
      "-1\n"
     ]
    },
    {
     "data": {
      "text/plain": [
       "[0, 0]"
      ]
     },
     "execution_count": 28,
     "metadata": {},
     "output_type": "execute_result"
    }
   ],
   "source": [
    "# added negative value in the list to test the algorithm's dynammic utility.\n",
    "def subarray_sum(nums, target):\n",
    "    sum_index = {0:-1}\n",
    "    current_sum = 0\n",
    "    for i, num in enumerate(nums):\n",
    "        current_sum += num\n",
    "        print(current_sum)\n",
    "        if current_sum - target in sum_index:\n",
    "            print(sum_index[current_sum - target])\n",
    "            return [sum_index[current_sum - target] + 1, i]\n",
    "        \n",
    "        else:\n",
    "            print(sum_index)\n",
    "            sum_index[current_sum] = i\n",
    "    return []\n",
    "\n",
    "nums = [0] # added negative value in the list to test the algorithm's dynammic utility.\n",
    "target = 0\n",
    "subarray_sum(nums,target)"
   ]
  },
  {
   "cell_type": "code",
   "execution_count": null,
   "id": "d4dcf593",
   "metadata": {},
   "outputs": [],
   "source": []
  }
 ],
 "metadata": {
  "kernelspec": {
   "display_name": "Python 3 (ipykernel)",
   "language": "python",
   "name": "python3"
  },
  "language_info": {
   "codemirror_mode": {
    "name": "ipython",
    "version": 3
   },
   "file_extension": ".py",
   "mimetype": "text/x-python",
   "name": "python",
   "nbconvert_exporter": "python",
   "pygments_lexer": "ipython3",
   "version": "3.9.12"
  }
 },
 "nbformat": 4,
 "nbformat_minor": 5
}
