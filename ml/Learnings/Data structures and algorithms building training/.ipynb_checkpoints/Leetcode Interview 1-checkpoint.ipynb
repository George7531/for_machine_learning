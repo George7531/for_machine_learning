version https://git-lfs.github.com/spec/v1
oid sha256:068123f0e3f64b00a2ad7189ec22815b4caf89ae2c3ead0153db34cba0abacc7
size 48960
