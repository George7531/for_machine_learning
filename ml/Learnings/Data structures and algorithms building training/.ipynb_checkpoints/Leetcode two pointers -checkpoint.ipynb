{
 "cells": [
  {
   "cell_type": "markdown",
   "id": "741ebbd7",
   "metadata": {},
   "source": [
    "# day 291"
   ]
  },
  {
   "cell_type": "markdown",
   "id": "b17109d8",
   "metadata": {},
   "source": [
    "# Valid Palindrome!\n",
    "\n",
    "A phrase is a palindrome if, after converting all uppercase letters into lowercase letters and removing all non-alphanumeric characters, it reads the same forward and backward. Alphanumeric characters include letters and numbers.\n",
    "\n",
    "Given a string s, return true if it is a palindrome, or false otherwise.\n",
    "\n",
    " \n",
    "\n",
    "Example 1:\n",
    "\n",
    "Input: s = \"A man, a plan, a canal: Panama\"\n",
    "Output: true\n",
    "Explanation: \"amanaplanacanalpanama\" is a palindrome.\n",
    "Example 2:\n",
    "\n",
    "Input: s = \"race a car\"\n",
    "Output: false\n",
    "Explanation: \"raceacar\" is not a palindrome.\n",
    "Example 3:\n",
    "\n",
    "Input: s = \" \"\n",
    "Output: true\n",
    "Explanation: s is an empty string \"\" after removing non-alphanumeric characters.\n",
    "Since an empty string reads the same forward and backward, it is a palindrome.\n",
    " \n",
    "\n",
    "Constraints:\n",
    "\n",
    "1 <= s.length <= 2 * 105\n",
    "s consists only of printable ASCII characters."
   ]
  },
  {
   "cell_type": "code",
   "execution_count": 47,
   "id": "9514b552",
   "metadata": {},
   "outputs": [],
   "source": [
    "def ispalindrome(s):\n",
    "    converted_s = ''.join(char for char in s if char.isalnum()).lower()\n",
    "#     if len(converted_s) == 1:\n",
    "#         return False\n",
    "    return (converted_s[0:] == converted_s[-1::-1])"
   ]
  },
  {
   "cell_type": "code",
   "execution_count": 48,
   "id": "16a5e521",
   "metadata": {},
   "outputs": [
    {
     "data": {
      "text/plain": [
       "True"
      ]
     },
     "execution_count": 48,
     "metadata": {},
     "output_type": "execute_result"
    }
   ],
   "source": [
    "s = \"A man, a plan, a canal: Panama\"\n",
    "ispalindrome(s)"
   ]
  },
  {
   "cell_type": "code",
   "execution_count": 49,
   "id": "08d90797",
   "metadata": {},
   "outputs": [
    {
     "data": {
      "text/plain": [
       "False"
      ]
     },
     "execution_count": 49,
     "metadata": {},
     "output_type": "execute_result"
    }
   ],
   "source": [
    "s = \"race a car\"\n",
    "ispalindrome(s)"
   ]
  },
  {
   "cell_type": "code",
   "execution_count": 50,
   "id": "dd4c8d31",
   "metadata": {},
   "outputs": [
    {
     "data": {
      "text/plain": [
       "True"
      ]
     },
     "execution_count": 50,
     "metadata": {},
     "output_type": "execute_result"
    }
   ],
   "source": [
    "s = ''\n",
    "ispalindrome(s)"
   ]
  },
  {
   "cell_type": "code",
   "execution_count": 51,
   "id": "c235b126",
   "metadata": {},
   "outputs": [
    {
     "data": {
      "text/plain": [
       "False"
      ]
     },
     "execution_count": 51,
     "metadata": {},
     "output_type": "execute_result"
    }
   ],
   "source": [
    "s = '909234'\n",
    "ispalindrome(s)"
   ]
  },
  {
   "cell_type": "code",
   "execution_count": 52,
   "id": "ba270cb6",
   "metadata": {},
   "outputs": [
    {
     "data": {
      "text/plain": [
       "False"
      ]
     },
     "execution_count": 52,
     "metadata": {},
     "output_type": "execute_result"
    }
   ],
   "source": [
    "s = '0P'\n",
    "ispalindrome(s)"
   ]
  },
  {
   "cell_type": "markdown",
   "id": "1ed0735f",
   "metadata": {},
   "source": [
    "# exploration,analysis and freethrows"
   ]
  },
  {
   "cell_type": "code",
   "execution_count": 46,
   "id": "4362ce73",
   "metadata": {},
   "outputs": [
    {
     "data": {
      "text/plain": [
       "'amanaplanacanalpanama'"
      ]
     },
     "execution_count": 46,
     "metadata": {},
     "output_type": "execute_result"
    }
   ],
   "source": [
    "s = 'a man, a plan, a canal: Panama'\n",
    "\n",
    "converted_s = ''.join(char for char in s if char.isalnum()).lower()\n",
    "\n",
    "converted_s"
   ]
  },
  {
   "cell_type": "code",
   "execution_count": 53,
   "id": "795109d4",
   "metadata": {},
   "outputs": [
    {
     "data": {
      "text/plain": [
       "False"
      ]
     },
     "execution_count": 53,
     "metadata": {},
     "output_type": "execute_result"
    }
   ],
   "source": [
    "(',').isalnum()"
   ]
  },
  {
   "cell_type": "code",
   "execution_count": 54,
   "id": "3d570a2d",
   "metadata": {},
   "outputs": [
    {
     "data": {
      "text/plain": [
       "True"
      ]
     },
     "execution_count": 54,
     "metadata": {},
     "output_type": "execute_result"
    }
   ],
   "source": [
    "('A').isalnum()"
   ]
  },
  {
   "cell_type": "code",
   "execution_count": 55,
   "id": "5616273b",
   "metadata": {},
   "outputs": [
    {
     "data": {
      "text/plain": [
       "True"
      ]
     },
     "execution_count": 55,
     "metadata": {},
     "output_type": "execute_result"
    }
   ],
   "source": [
    "('z').isalnum()"
   ]
  },
  {
   "cell_type": "code",
   "execution_count": 56,
   "id": "7f9f5a70",
   "metadata": {},
   "outputs": [
    {
     "data": {
      "text/plain": [
       "True"
      ]
     },
     "execution_count": 56,
     "metadata": {},
     "output_type": "execute_result"
    }
   ],
   "source": [
    "('9').isalnum()"
   ]
  },
  {
   "cell_type": "code",
   "execution_count": 57,
   "id": "559cbbfa",
   "metadata": {},
   "outputs": [
    {
     "data": {
      "text/plain": [
       "True"
      ]
     },
     "execution_count": 57,
     "metadata": {},
     "output_type": "execute_result"
    }
   ],
   "source": [
    "converted_s[0:] == converted_s[-1::-1]"
   ]
  },
  {
   "cell_type": "code",
   "execution_count": null,
   "id": "225f296a",
   "metadata": {},
   "outputs": [],
   "source": []
  },
  {
   "cell_type": "markdown",
   "id": "1130c223",
   "metadata": {},
   "source": [
    "# is SubSequence:\n",
    "\n",
    "Given two strings s and t, return true if s is a subsequence of t, or false otherwise.\n",
    "\n",
    "A subsequence of a string is a new string that is formed from the original string by deleting some (can be none) of the characters without disturbing the relative positions of the remaining characters. (i.e., \"ace\" is a subsequence of \"abcde\" while \"aec\" is not).\n",
    "\n",
    " \n",
    "\n",
    "Example 1:\n",
    "\n",
    "Input: s = \"abc\", t = \"ahbgdc\"\n",
    "Output: true\n",
    "Example 2:\n",
    "\n",
    "Input: s = \"axc\", t = \"ahbgdc\"\n",
    "Output: false\n",
    "\n",
    "## pseudo code:(my naive apporach)\n",
    "* take the long string and iterate through it.\n",
    "* see if the character in the small string comes sequentially meaning you should move only forward never look backward.\n",
    "* take the char of the small string and see if it is in the long string, if it exists then move on to picking the next character from the small string and see if that exists eg. s[index] == char then index += 1 \n",
    "* finally if the index is  = len(s) then it is subsequence otherwise not!"
   ]
  },
  {
   "cell_type": "code",
   "execution_count": 60,
   "id": "75624234",
   "metadata": {},
   "outputs": [
    {
     "data": {
      "text/plain": [
       "False"
      ]
     },
     "execution_count": 60,
     "metadata": {},
     "output_type": "execute_result"
    }
   ],
   "source": [
    "# implementation of my naive approach:\n",
    "t = \"ahbgdc\"\n",
    "\n",
    "s = 'axc'\n",
    "\n",
    "index = 0\n",
    "for char in t:\n",
    "    if s[index] == char:\n",
    "        index += 1\n",
    "index == len(s)   "
   ]
  },
  {
   "cell_type": "code",
   "execution_count": 62,
   "id": "b98f2f09",
   "metadata": {},
   "outputs": [
    {
     "data": {
      "text/plain": [
       "False"
      ]
     },
     "execution_count": 62,
     "metadata": {},
     "output_type": "execute_result"
    }
   ],
   "source": [
    "# Two pointers method: slightly more efficient than the above method.\n",
    "\n",
    "def issubsequence(s,t):\n",
    "    i,j = 0,0\n",
    "    \n",
    "    while i < len(s) and j < len(t):\n",
    "        if s[i] == t[j]:\n",
    "            i += 1\n",
    "        j += 1\n",
    "    return i == len(s)\n",
    "\n",
    "t = \"ahbgdc\"\n",
    "\n",
    "s = 'axc'\n",
    "\n",
    "issubsequence(s,t)"
   ]
  },
  {
   "cell_type": "code",
   "execution_count": null,
   "id": "f1e792ad",
   "metadata": {},
   "outputs": [],
   "source": []
  },
  {
   "cell_type": "markdown",
   "id": "62427702",
   "metadata": {},
   "source": [
    "# day 294"
   ]
  },
  {
   "cell_type": "markdown",
   "id": "e7a8c3eb",
   "metadata": {},
   "source": [
    "# Two sum2: input array is sorted.\n",
    "\n",
    "Given a 1-indexed array of integers numbers that is already sorted in non-decreasing order, find two numbers such that they add up to a specific target number. Let these two numbers be numbers[index1] and numbers[index2] where 1 <= index1 < index2 <= numbers.length.\n",
    "\n",
    "Return the indices of the two numbers, index1 and index2, added by one as an integer array [index1, index2] of length 2.\n",
    "\n",
    "The tests are generated such that there is exactly one solution. You may not use the same element twice.\n",
    "\n",
    "Your solution must use only constant extra space.\n",
    "\n",
    " \n",
    "\n",
    "Example 1:\n",
    "\n",
    "Input: numbers = [2,7,11,15], target = 9\n",
    "Output: [1,2]\n",
    "Explanation: The sum of 2 and 7 is 9. Therefore, index1 = 1, index2 = 2. We return [1, 2].\n",
    "Example 2:\n",
    "\n",
    "Input: numbers = [2,3,4], target = 6\n",
    "Output: [1,3]\n",
    "Explanation: The sum of 2 and 4 is 6. Therefore index1 = 1, index2 = 3. We return [1, 3].\n",
    "Example 3:\n",
    "\n",
    "Input: numbers = [-1,0], target = -1\n",
    "Output: [1,2]\n",
    "Explanation: The sum of -1 and 0 is -1. Therefore index1 = 1, index2 = 2. We return [1, 2].\n",
    "\n",
    "\n",
    "## pseudo code:\n",
    "* create an empty dictionary.\n",
    "* iterate through the list.\n",
    "* take the num by its index from numbers\n",
    "* find the complement for the current number: target - num\n",
    "* if the complement is not in the dictionary, put the num as the key and its corresponding index number as its value.\n",
    "* if the complement is in the dic, then return the value of the complement + 1 and the current num's index+1.\n",
    "\n"
   ]
  },
  {
   "cell_type": "code",
   "execution_count": 11,
   "id": "1d5dd1c1",
   "metadata": {},
   "outputs": [
    {
     "name": "stdout",
     "output_type": "stream",
     "text": [
      "[4, 5]\n"
     ]
    }
   ],
   "source": [
    "def two_sum(nums, target):\n",
    "    nums.sort()\n",
    "    left = 0\n",
    "    right = len(nums) - 1\n",
    "    \n",
    "    while left < right:\n",
    "        total = nums[left] + nums[right]\n",
    "        if total == target:\n",
    "            return [left + 1, right + 1]  # Add 1 to indices to match the 1-based index\n",
    "        elif total < target:\n",
    "            left += 1\n",
    "        else:\n",
    "            right -= 1\n",
    "    \n",
    "    return []  # If no solution found\n",
    "\n",
    "# Example usage:\n",
    "nums = [-1,0,2,3,6] # this is already sorted\n",
    "target = 9\n",
    "print(two_sum(nums, target))  # Output: [1, 2]\n"
   ]
  },
  {
   "cell_type": "code",
   "execution_count": null,
   "id": "1babbfa0",
   "metadata": {},
   "outputs": [],
   "source": []
  },
  {
   "cell_type": "markdown",
   "id": "795033da",
   "metadata": {},
   "source": [
    "# day 316"
   ]
  },
  {
   "cell_type": "markdown",
   "id": "d284c103",
   "metadata": {},
   "source": [
    "# container with most water: Amazon interview!!\n",
    "\n",
    "You are given an integer array height of length n. There are n vertical lines drawn such that the two endpoints of the ith line are (i, 0) and (i, height[i]).\n",
    "\n",
    "Find two lines that together with the x-axis form a container, such that the container contains the most water.\n",
    "\n",
    "Return the maximum amount of water a container can store.\n",
    "\n",
    "Notice that you may not slant the container.\n",
    "\n",
    " \n",
    "\n",
    "Example 1:\n",
    "\n",
    "\n",
    "Input: height = [1,8,6,2,5,4,8,3,7]\n",
    "Output: 49\n",
    "Explanation: The above vertical lines are represented by array [1,8,6,2,5,4,8,3,7]. In this case, the max area of water (blue section) the container can contain is 49.\n",
    "Example 2:\n",
    "\n",
    "Input: height = [1,1]\n",
    "Output: 1\n",
    "![sfsfs](https://s3-lc-upload.s3.amazonaws.com/uploads/2018/07/17/question_11.jpg)\n",
    "\n",
    "## Naive pseudo code:\n",
    "* run double for loop: for keeping tracking of the line and for calculating the max volume container\n",
    "* take the minimum of the two and multiply with j where j is the iteration beginning with index of the worker_line: min(daddy_line,worker_line) * (j+1)\n",
    "* iterate through the end.\n",
    "* likewise move to the second line and third line and continue till end.\n",
    "* outside the inner loop store the max(previous line, current_line)\n",
    "* return it.\n",
    "* max_volume = 0\n",
    "* volume = min(height[left],height[right]) * right - left\n",
    "* max_volume = max(max_volume,volume)"
   ]
  },
  {
   "cell_type": "code",
   "execution_count": 9,
   "id": "0d6ed198",
   "metadata": {},
   "outputs": [
    {
     "data": {
      "text/plain": [
       "49"
      ]
     },
     "execution_count": 9,
     "metadata": {},
     "output_type": "execute_result"
    }
   ],
   "source": [
    "height = [1,8,6,2,5,4,8,3,7]\n",
    "\n",
    "max_volume = 0\n",
    "for i,daddy_line in enumerate(height):\n",
    "    for j,worker_line in enumerate(height[i+1:]):\n",
    "#         print('j: {}'.format(j+1))\n",
    "#         print('line_len: {}'.format(line_len))\n",
    "        volume = min(daddy_line,worker_line) * (j+1)\n",
    "        \n",
    "        max_volume = max(max_volume,volume)\n",
    "    \n",
    "max_volume"
   ]
  },
  {
   "cell_type": "code",
   "execution_count": 10,
   "id": "f361794b",
   "metadata": {},
   "outputs": [
    {
     "data": {
      "text/plain": [
       "49"
      ]
     },
     "execution_count": 10,
     "metadata": {},
     "output_type": "execute_result"
    }
   ],
   "source": [
    "# functionize it\n",
    "\n",
    "def maxArea(height):\n",
    "    max_volume = 0\n",
    "    for i,daddy_line in enumerate(height):\n",
    "        for j,worker_line in enumerate(height[i+1:]):\n",
    "            volume = min(daddy_line,worker_line) * (j+1)\n",
    "            max_volume = max(max_volume,volume)\n",
    "\n",
    "    return max_volume\n",
    "\n",
    "maxArea(height = [1,8,6,2,5,4,8,3,7])"
   ]
  },
  {
   "cell_type": "code",
   "execution_count": 11,
   "id": "a21564b2",
   "metadata": {},
   "outputs": [
    {
     "data": {
      "text/plain": [
       "1"
      ]
     },
     "execution_count": 11,
     "metadata": {},
     "output_type": "execute_result"
    }
   ],
   "source": [
    "maxArea(height = [1,2])"
   ]
  },
  {
   "cell_type": "markdown",
   "id": "8a71542d",
   "metadata": {},
   "source": [
    "## ideal solution: \n",
    "\n",
    "### ideal code pseudo code:\n",
    "1. initialize two pointers, one at the beginning of the array (left) and the other at the end of the array (right).\n",
    "2. Calculate the area formed by the two lines (height[left] and height[right]) and update the maximum area found so far.\n",
    "3. Move the pointer pointing to the shorter line towards the other pointer. This is because moving the pointer pointing to the taller line inward will only decrease the width of the container, while the height of the container is determined by the shorter line.\n",
    "4. Repeat steps 2 and 3 until the pointers meet\n"
   ]
  },
  {
   "cell_type": "code",
   "execution_count": null,
   "id": "dc2e324e",
   "metadata": {},
   "outputs": [],
   "source": [
    "def maxArea(height):\n",
    "    # Initialize pointers\n",
    "    left = 0\n",
    "    right = len(height) - 1\n",
    "    max_area = 0\n",
    "    \n",
    "    while left < right:\n",
    "        # Calculate area\n",
    "        area = min(height[left], height[right]) * (right - left)\n",
    "        # Update max area if needed\n",
    "        max_area = max(max_area, area)\n",
    "        \n",
    "        # Move the pointer pointing to the shorter line inward\n",
    "        if height[left] < height[right]:\n",
    "            left += 1\n",
    "        else:\n",
    "            right -= 1\n",
    "            \n",
    "    return max_area\n",
    "\n",
    "# Test cases\n",
    "height1 = [1,8,6,2,5,4,8,3,7]\n",
    "height2 = [1,1]\n",
    "\n",
    "print(\"Output for height1:\", maxArea(height1))  # Output: 49\n",
    "print(\"Output for height2:\", maxArea(height2))  # Output: 1\n"
   ]
  },
  {
   "cell_type": "code",
   "execution_count": null,
   "id": "e78508db",
   "metadata": {},
   "outputs": [],
   "source": []
  },
  {
   "cell_type": "markdown",
   "id": "6e0d11ec",
   "metadata": {},
   "source": [
    "# day 320,day 321"
   ]
  },
  {
   "cell_type": "markdown",
   "id": "ae4e6bd3",
   "metadata": {},
   "source": [
    "# 3 SUM:\n",
    "\n",
    "Given an integer array nums, return all the triplets [nums[i], nums[j], nums[k]] such that i != j, i != k, and j != k, and nums[i] + nums[j] + nums[k] == 0.\n",
    "\n",
    "Notice that the solution set must not contain duplicate triplets.\n",
    "\n",
    " \n",
    "\n",
    "Example 1:\n",
    "\n",
    "Input: nums = [-1,0,1,2,-1,-4]\n",
    "Output: [[-1,-1,2],[-1,0,1]]\n",
    "Explanation: \n",
    "nums[0] + nums[1] + nums[2] = (-1) + 0 + 1 = 0.\n",
    "nums[1] + nums[2] + nums[4] = 0 + 1 + (-1) = 0.\n",
    "nums[0] + nums[3] + nums[4] = (-1) + 2 + (-1) = 0.\n",
    "The distinct triplets are [-1,0,1] and [-1,-1,2].\n",
    "Notice that the order of the output and the order of the triplets does not matter.\n",
    "Example 2:\n",
    "\n",
    "Input: nums = [0,1,1]\n",
    "Output: []\n",
    "Explanation: The only possible triplet does not sum up to 0.\n",
    "Example 3:\n",
    "\n",
    "Input: nums = [0,0,0]\n",
    "Output: [[0,0,0]]\n",
    "Explanation: The only possible triplet sums up to 0.\n",
    "\n",
    "## pseudo code:\n",
    "1. create a number combination loop\n",
    "2. fix one value in the list.\n",
    "3. the target is 0.\n",
    "4. j gets you access to the current value.\n",
    "5. add the fixed value with the current value \n",
    "6. now the target is known, fixed and current values are added, now the only the thing to do is find the other value and it is easy to find since the degree of its freedom is just 1.\n",
    "7. use Two sum method to get to the value."
   ]
  },
  {
   "cell_type": "code",
   "execution_count": 15,
   "id": "7ac7eec6",
   "metadata": {},
   "outputs": [
    {
     "name": "stdout",
     "output_type": "stream",
     "text": [
      "[[-1, -1, 2], [-1, 0, 1]]\n",
      "[]\n",
      "[[0, 0, 0]]\n"
     ]
    }
   ],
   "source": [
    "def three_sum(nums):\n",
    "    nums.sort()  # Sort the array to facilitate finding unique triplets\n",
    "    triplets = []\n",
    "    \n",
    "    for i in range(len(nums) - 2):\n",
    "        \n",
    "        # Avoid duplicate triplets by skipping identical elements\n",
    "        if i > 0 and nums[i] == nums[i - 1]:\n",
    "            continue\n",
    "        \n",
    "        left = i + 1\n",
    "        right = len(nums) - 1\n",
    "        \n",
    "        while left < right:\n",
    "            total = nums[i] + nums[left] + nums[right]\n",
    "            if total == 0:\n",
    "                triplets.append([nums[i], nums[left], nums[right]])\n",
    "                \n",
    "                # Skip duplicate elements\n",
    "                while left < right and nums[left] == nums[left + 1]:\n",
    "                    left += 1\n",
    "                while left < right and nums[right] == nums[right - 1]:\n",
    "                    right -= 1\n",
    "                left += 1\n",
    "                right -= 1\n",
    "            elif total < 0:\n",
    "                left += 1\n",
    "            else:\n",
    "                right -= 1\n",
    "                \n",
    "    return triplets\n",
    "\n",
    "# Test cases\n",
    "nums1 = [-1, 0, 1, 2, -1, -4]\n",
    "nums2 = [0, 1, 1]\n",
    "nums3 = [0, 0, 0]\n",
    "\n",
    "print(three_sum(nums1))  # Output: [[-1, -1, 2], [-1, 0, 1]]\n",
    "print(three_sum(nums2))  # Output: []\n",
    "print(three_sum(nums3))  # Output: [[0, 0, 0]]\n",
    "\n",
    "        "
   ]
  },
  {
   "cell_type": "markdown",
   "id": "0c315eb8",
   "metadata": {},
   "source": [
    "# exploration, analysis and freethrows"
   ]
  },
  {
   "cell_type": "code",
   "execution_count": 26,
   "id": "e824978e",
   "metadata": {},
   "outputs": [
    {
     "data": {
      "text/plain": [
       "[-1, 0, 1, 2, -1, -4]"
      ]
     },
     "execution_count": 26,
     "metadata": {},
     "output_type": "execute_result"
    }
   ],
   "source": [
    "nums1 = [-1, 0, 1, 2, -1, -4]\n",
    "nums1"
   ]
  },
  {
   "cell_type": "code",
   "execution_count": 27,
   "id": "48d0026d",
   "metadata": {},
   "outputs": [],
   "source": [
    "nums1.sort()"
   ]
  },
  {
   "cell_type": "code",
   "execution_count": 28,
   "id": "5f3d7208",
   "metadata": {},
   "outputs": [
    {
     "data": {
      "text/plain": [
       "[-4, -1, -1, 0, 1, 2]"
      ]
     },
     "execution_count": 28,
     "metadata": {},
     "output_type": "execute_result"
    }
   ],
   "source": [
    "nums1"
   ]
  },
  {
   "cell_type": "code",
   "execution_count": null,
   "id": "47bad1e2",
   "metadata": {},
   "outputs": [],
   "source": []
  },
  {
   "cell_type": "markdown",
   "id": "6af82ec8",
   "metadata": {},
   "source": [
    "# Neet code:\n"
   ]
  },
  {
   "cell_type": "code",
   "execution_count": 2,
   "id": "977a0bd4",
   "metadata": {},
   "outputs": [
    {
     "data": {
      "text/plain": [
       "True"
      ]
     },
     "execution_count": 2,
     "metadata": {},
     "output_type": "execute_result"
    }
   ],
   "source": [
    "# 1.\n",
    "def valid_palindrome(string):\n",
    "    converted_string = ''.join(char for char in string if char.isalnum()).lower()\n",
    "    \n",
    "    return converted_string[0:] == converted_string[-1::-1]\n",
    "\n",
    "valid_palindrome('dod')"
   ]
  },
  {
   "cell_type": "code",
   "execution_count": 12,
   "id": "e11dd852",
   "metadata": {},
   "outputs": [
    {
     "data": {
      "text/plain": [
       "[1, 5]"
      ]
     },
     "execution_count": 12,
     "metadata": {},
     "output_type": "execute_result"
    }
   ],
   "source": [
    "# 2.\n",
    "def twosum2(nums,target):\n",
    "    \n",
    "    \"\"\"\n",
    "    # pseudo code:\n",
    "    1. sort the nums in ascending order\n",
    "    2. set a pointer a to move from left to right and set another pointer b to move from right to left\n",
    "    3. a = first index, b= last index\n",
    "    4. while a<b if nums[a]+ nums[b] < target then move a += 1, if nums[a]+nums[b] > target then move b -= 1 \n",
    "    if nums[a] + nums[b] == target then return [a+1 and b+1]\n",
    "    5. return an empty box if target is beyond reach with the given elements in nums\n",
    "    \"\"\"\n",
    "    nums.sort()\n",
    "    \n",
    "    a,b = 0, len(nums) - 1\n",
    "    while a < b:\n",
    "        if (nums[a] + nums[b]) == target:\n",
    "            return [a+1,b+1]\n",
    "        \n",
    "        elif (nums[a] + nums[b]) < target:\n",
    "            a = a+1\n",
    "            \n",
    "        else:\n",
    "            b = b-1\n",
    "            \n",
    "    return [] # if \n",
    "    \n",
    "    \n",
    "\n",
    "nums = [-5,-3,0,2,4,6,8,99] # this needs to be sorted for quick checking\n",
    "twosum2(nums,target=-1)"
   ]
  },
  {
   "cell_type": "code",
   "execution_count": 7,
   "id": "5a12a9b2",
   "metadata": {},
   "outputs": [
    {
     "data": {
      "text/plain": [
       "[[-5, 0, 5], [-4, 2, 2]]"
      ]
     },
     "execution_count": 7,
     "metadata": {},
     "output_type": "execute_result"
    }
   ],
   "source": [
    "# 3 sum:\n",
    "\"\"\"\n",
    "    pseudo code:\n",
    "    1. get the nums sorted in ascending order.\n",
    "    2. get two pointers a and b fixed at 0 and len(nums)-2 indices correspondingly.\n",
    "    3. use a for loop to grab a num from nums\n",
    "    4. check for duplicates: \n",
    "    \n",
    "    \"\"\"\n",
    "def threesum(nums):\n",
    "    \n",
    "    nums.sort()\n",
    "    triplets = []\n",
    "    for i in range(len(nums)-2):\n",
    "        # skip over to the next if there found any duplicate\n",
    "        if i>0 and nums[i] == nums[i-1]:\n",
    "            continue\n",
    "            \n",
    "        left = i+1\n",
    "        right = len(nums) - 1\n",
    "        while left < right:\n",
    "            total = nums[i] + nums[left] + nums[right]\n",
    "\n",
    "            if total == 0:\n",
    "                triplets.append([nums[i],nums[left],nums[right]])\n",
    "\n",
    "                # skip the duplicates\n",
    "                while left < right and nums[left] == nums[left+1]:\n",
    "                    left = left+1\n",
    "\n",
    "                while left < right and nums[right] == nums[right-1]:\n",
    "                    right = right-1\n",
    "\n",
    "                # move the left 1 step forward and move the right 1 step backward.\n",
    "                left = left + 1\n",
    "                right = right - 1\n",
    "                \n",
    "            elif total < 0:\n",
    "                left = left + 1\n",
    "            else:\n",
    "                right = right - 1\n",
    "    return triplets\n",
    "\n",
    "threesum([-5,1,0,5,8,2,6,-4,2])"
   ]
  },
  {
   "cell_type": "code",
   "execution_count": 9,
   "id": "2f162fa0",
   "metadata": {},
   "outputs": [
    {
     "data": {
      "text/plain": [
       "49"
      ]
     },
     "execution_count": 9,
     "metadata": {},
     "output_type": "execute_result"
    }
   ],
   "source": [
    "# 4.container with most water:\n",
    "\"\"\"\n",
    "# few things that come to mind are:\n",
    "1. use left and right pointers to constantly guage the total area.\n",
    "2. use max function to verify the current total_area exceeds that of previous attempt or succeeding attempts.\n",
    "\n",
    "\"\"\"\n",
    "\n",
    "def container_with_most_water(heights):\n",
    "    \n",
    "    left = 0\n",
    "    right = len(heights) - 1\n",
    "    max_area = 0\n",
    "    while left < right:\n",
    "        area = min(heights[left],heights[right]) * (right-left)\n",
    "        max_area = max(area,max_area)\n",
    "        \n",
    "        if heights[left] < heights[right]:\n",
    "            left = left + 1\n",
    "            \n",
    "        else:\n",
    "            right = right - 1\n",
    "            \n",
    "    return max_area\n",
    "\n",
    "container_with_most_water([1,8,6,2,5,4,8,3,7])\n"
   ]
  },
  {
   "cell_type": "markdown",
   "id": "be017d80",
   "metadata": {},
   "source": [
    "# 5. trapping rain water\n",
    "\n",
    "![fsdfsf](https://assets.leetcode.com/uploads/2018/10/22/rainwatertrap.png)\n",
    "\n",
    "* Input: height = [0,1,0,2,1,0,1,3,2,1,2,1]\n",
    "* Output: 6\n",
    "* Explanation: The above elevation map (black section) is represented by array [0,1,0,2,1,0,1,3,2,1,2,1]. In this case, 6 units of rain water (blue section) are being trapped.\n",
    "* # $$ \\text{volume of water trapped } = \\sum_{i=0}^{n} \\text{min( }  \\text{left_max}_i \\text{,right_max}_i \\text{)} -\\text{height}_i$$\n"
   ]
  },
  {
   "cell_type": "code",
   "execution_count": 1,
   "id": "bfdfe237",
   "metadata": {},
   "outputs": [],
   "source": [
    "def area_of_valley(height:list):\n",
    "    n = len(height)\n",
    "    \n",
    "    left_max  = [0] * n\n",
    "    right_max = [0] * n\n",
    "    \n",
    "    left_max[0]   = height[0]\n",
    "    right_max[-1] = height[-1]\n",
    "    \n",
    "    # filling the left max\n",
    "    for i in range(0,n,1):\n",
    "        left_max[i] = max(left_max[i-1],height[i])\n",
    "        \n",
    "    # filling the right max\n",
    "    for i in range(n-2,-1,-1):\n",
    "        right_max[i] = max(right_max[i+1],height[i])\n",
    "        \n",
    "    # find the area of the valley\n",
    "    valley = 0\n",
    "    for i in range(0,n,1):\n",
    "        valley += min(left_max[i],right_max[i]) - height[i]\n",
    "        \n",
    "        \n",
    "    return valley\n",
    "        \n",
    "    \n",
    "    "
   ]
  },
  {
   "cell_type": "code",
   "execution_count": 2,
   "id": "0446bbca",
   "metadata": {},
   "outputs": [
    {
     "data": {
      "text/plain": [
       "6"
      ]
     },
     "execution_count": 2,
     "metadata": {},
     "output_type": "execute_result"
    }
   ],
   "source": [
    "ups_and_downs_info = [0,1,0,2,1,0,1,3,2,1,2,1]\n",
    "area_of_valley(ups_and_downs_info)"
   ]
  },
  {
   "cell_type": "code",
   "execution_count": null,
   "id": "ece542f4",
   "metadata": {},
   "outputs": [],
   "source": []
  }
 ],
 "metadata": {
  "kernelspec": {
   "display_name": "Python 3 (ipykernel)",
   "language": "python",
   "name": "python3"
  },
  "language_info": {
   "codemirror_mode": {
    "name": "ipython",
    "version": 3
   },
   "file_extension": ".py",
   "mimetype": "text/x-python",
   "name": "python",
   "nbconvert_exporter": "python",
   "pygments_lexer": "ipython3",
   "version": "3.9.12"
  }
 },
 "nbformat": 4,
 "nbformat_minor": 5
}
