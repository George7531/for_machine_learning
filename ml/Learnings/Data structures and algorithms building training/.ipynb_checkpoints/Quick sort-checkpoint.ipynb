{
 "cells": [
  {
   "cell_type": "markdown",
   "id": "1603b6e4",
   "metadata": {},
   "source": [
    "# day 188 and day 189"
   ]
  },
  {
   "cell_type": "markdown",
   "id": "c24340f5",
   "metadata": {},
   "source": [
    "# quick sort:\n",
    "\n",
    "# working mechanism:\n",
    "\n",
    "* initial list:[4,6,1,7,3,2,5]\n",
    "\n",
    "\n",
    "\n",
    "* start from 4. \n",
    "\n",
    "\n",
    "\n",
    "* check if other elements next to 4 is less than 4 or greater than 4. \n",
    "\n",
    "\n",
    "\n",
    "* if an element is less than 4 then we put the number in less than bucket and if it is greater than then we put the number in greater than bucket.\n",
    "\n",
    "\n",
    "\n",
    "* i.e we check if 6 is less than 4 or greater than 4. since it is greater than 4 we put 6 in greater than bucket. we move over to the next element. we see 1 now. 1 is less than 4. so, we swap 1 with the first element in the greater than bucket which is 6 to make the master list look [4,1,6,7,3,2,5].\n",
    "\n",
    "\n",
    "\n",
    "* we iterate and move over to the next element to see 7. 7 is greater than 4 so we put seven in greater than bucket and move over to next element 3.\n",
    "\n",
    "\n",
    "\n",
    "* 3 is less than 4 now we swap 3 with 6 since 6 is the first element in the greater than . making the list look [4,1,3,7,6,2,5]\n",
    "\n",
    "\n",
    "\n",
    "*  now we swap 2 with 7 since 7 is the first element in the greater than bucket making the list look [4,1,3,2,6,7,5]\n",
    "\n",
    "* finally we check with 5 and find 5 is greater than 4 so we put it in the greater than bucket \n",
    "\n",
    "* now since 2 is the last element in the less than bucket+ swap 2 with 4 making the list look [2,1,3,4,6,7,5]. 4 is sorted in the list. every number less than 4 is to left of the 4 in the list and every number greater than 4 is to the right of the 4 in the list.\n",
    "\n",
    "* now do the sorting operation based on the above algorithm on the left side of 4 to sort the left side of the list.\n",
    "\n",
    "* now the whole process with 2.\n",
    "\n",
    "* 1 is less than 2 so put it to the less than bucket and iterate over to 3.\n",
    "\n",
    "* 3 is greater than 2 so put it to the greater than bucket and we stop the iteration here before 4.\n",
    "\n",
    "* since 1 is the last element in the less than bucket swap 1 with 2 making the whole list look [1,2,3,4,6,7,5]\n",
    "\n",
    "* do the same process with elements in the right side of the list. begginning from 6.\n",
    "\n",
    "* 7 is greater than 6 put it in the greater than bucket and 5 is less than 6 so put it in the less than bucket.\n",
    "\n",
    "* swap 5 with the first element in the greater than bucket making the list look [1,2,3,4,6,5,7]\n",
    "\n",
    "* since 5 is the last element in the less than bucket swap it with 6( the starter). making the list look [1,2,3,4,5,6,7].\n",
    "\n",
    "\n",
    "\n"
   ]
  },
  {
   "cell_type": "code",
   "execution_count": 15,
   "id": "33178dab",
   "metadata": {},
   "outputs": [
    {
     "data": {
      "text/plain": [
       "[1, 2, 3, 4, 5, 6, 7]"
      ]
     },
     "execution_count": 15,
     "metadata": {},
     "output_type": "execute_result"
    }
   ],
   "source": [
    "import numpy\n",
    "\n",
    "def swap(my_list,index1,index2):\n",
    "    \n",
    "    temp = my_list[index1]\n",
    "    my_list[index1] = my_list[index2]\n",
    "    my_list[index2] = temp\n",
    "    \n",
    "    \n",
    "def pivot(my_list,start,end):\n",
    "    \n",
    "    # swap_index works for the less than bucket.\n",
    "    swap_index = start\n",
    "    \n",
    "    for i in range(start+1,end):\n",
    "        \n",
    "        if my_list[i] < my_list[start]:\n",
    "            \n",
    "            '''swap the element in the list \"after\" moving the swap_index one step further making it point to a \n",
    "               greater than element'''\n",
    "            swap_index = swap_index + 1\n",
    "            swap(my_list,swap_index,i)\n",
    "            \n",
    "            \n",
    "    '''everything would have been sorted by now so, swap the pivot_index with the swap_index pointing to \n",
    "    the last element of the less than element'''\n",
    "            \n",
    "    swap(my_list,swap_index,start)\n",
    "    \n",
    "    \n",
    "    # return the swap index\n",
    "    return swap_index\n",
    "\n",
    "\n",
    "def quick_sort_helper(my_list,start,end):\n",
    "    \n",
    "    # start being less than end is the base case!\n",
    "    if start < end:\n",
    "        pivot_index = pivot(my_list,start,end)\n",
    "        \n",
    "        # now we will have [2,1,3,4,6,7,5]. pivot_index points to 4\n",
    "        \n",
    "        # run the quick_sort on the left side of the list\n",
    "        quick_sort_helper(my_list,start,pivot_index-1)\n",
    "        \n",
    "        # run the quick_sort on the right side of the list\n",
    "        quick_sort_helper(my_list,pivot_index+1,end)\n",
    "        \n",
    "        \n",
    "    return my_list\n",
    "\n",
    "\n",
    "def quick_sort(my_list):\n",
    "    return quick_sort_helper(my_list,0,len(my_list))\n",
    "            \n",
    "            \n",
    "            \n",
    "            \n",
    "my_list = [4,6,1,7,3,2,5]\n",
    "\n",
    "quick_sort(my_list)\n",
    "            \n",
    "            \n"
   ]
  },
  {
   "cell_type": "markdown",
   "id": "8b2f0739",
   "metadata": {},
   "source": [
    "# Big O:\n",
    "\n",
    "* when the list is not sorted it is O(n log n) for quick sort.\n",
    "* when the list is already sorted it is O(n^2) for quick sort.\n",
    "\n",
    "#  example why it takes O(n^2):\n",
    "Here is an example of how quick sort can perform O(n^2) on a sorted list:\n",
    "\n",
    "Array: [1, 2, 3, 4, 5]\n",
    "\n",
    "Pivot: 5\n",
    "\n",
    "Partitioning:\n",
    "\n",
    "Left sub-array: [1, 2, 3, 4]\n",
    "Right sub-array: []\n",
    "\n",
    "Recursive calls:\n",
    "\n",
    "Quick sort([1, 2, 3, 4])\n",
    "Quick sort([])\n",
    "\n",
    "This will result in n recursive calls, each of which takes O(n) time, for a total time complexity of O(n^2)."
   ]
  },
  {
   "cell_type": "code",
   "execution_count": 7,
   "id": "54acc953",
   "metadata": {},
   "outputs": [
    {
     "data": {
      "text/plain": [
       "6"
      ]
     },
     "execution_count": 7,
     "metadata": {},
     "output_type": "execute_result"
    }
   ],
   "source": [
    "import numpy as np\n",
    "\n",
    "np.random.randint(len(my_list))"
   ]
  },
  {
   "cell_type": "code",
   "execution_count": null,
   "id": "71b84f86",
   "metadata": {},
   "outputs": [],
   "source": []
  },
  {
   "cell_type": "code",
   "execution_count": null,
   "id": "8f7a0203",
   "metadata": {},
   "outputs": [],
   "source": []
  }
 ],
 "metadata": {
  "kernelspec": {
   "display_name": "Python 3 (ipykernel)",
   "language": "python",
   "name": "python3"
  },
  "language_info": {
   "codemirror_mode": {
    "name": "ipython",
    "version": 3
   },
   "file_extension": ".py",
   "mimetype": "text/x-python",
   "name": "python",
   "nbconvert_exporter": "python",
   "pygments_lexer": "ipython3",
   "version": "3.9.12"
  }
 },
 "nbformat": 4,
 "nbformat_minor": 5
}
