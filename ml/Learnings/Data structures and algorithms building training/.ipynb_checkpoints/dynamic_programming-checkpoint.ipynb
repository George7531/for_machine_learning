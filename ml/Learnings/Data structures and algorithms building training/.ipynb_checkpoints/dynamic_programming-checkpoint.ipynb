{
 "cells": [
  {
   "cell_type": "markdown",
   "id": "0f6dd685-4c44-430b-aede-2bd1ed70cc51",
   "metadata": {},
   "source": [
    "# day 429"
   ]
  },
  {
   "cell_type": "markdown",
   "id": "c6535d03-6ba2-4099-b197-b68f52217c67",
   "metadata": {},
   "source": [
    "\n",
    "## first requirement in dynamic programming: having overlapping subproblems.\n",
    "* overlapping subproblems is having the same subproblem(subtask) repeat themselves in different places.\n",
    "* The process of storing the answers to the subproblems is called memoization.\n",
    "* if the nature of the subproblems repeat then we can apply dynamic programming to them, we can apply memoization to them, but if the nature of the subproblems do not repeat themselves as in merge sort(where every subproblem or answers to the little chunk is unique and do not repeat themselves),we cannot apply memoization to it.\n",
    "\n",
    "## video link\n",
    "[click me 🍑🍑🍑](https://www.udemy.com/course/data-structures-algorithms-python/learn/lecture/42362070#overview)\n",
    "\n",
    "\n",
    "## second requirment for dynamic programming: having optimized substructure.\n",
    "* optimal way of doing the bigger goal requires finding the optimal way of doing each subtasks to achieve it.\n",
    "\n",
    "[click me 🍊🍊🍊](https://www.udemy.com/course/data-structures-algorithms-python/learn/lecture/42362074#overviewj)\n",
    "\n",
    "\n",
    "## fibonacci sequence: a problem where patterns repeat and therefore a perfect candidate for applying dynammic programming techniques\n",
    "[click me 🍑🍑🍑](https://www.udemy.com/course/data-structures-algorithms-python/learn/lecture/42371478#overview)\n",
    "\n",
    "## Memoization\n",
    "* memory/storage of any sort reduces recursive compute Time."
   ]
  },
  {
   "cell_type": "code",
   "execution_count": 7,
   "id": "1caaa85d-198f-44b9-9a30-30f58207fbb0",
   "metadata": {},
   "outputs": [],
   "source": [
    "import time\n",
    "\n",
    "def total_time(start,end):\n",
    "    return end-start"
   ]
  },
  {
   "cell_type": "code",
   "execution_count": 21,
   "id": "3b05721e-8ecf-43f6-8fee-1ef0e46889bf",
   "metadata": {},
   "outputs": [
    {
     "name": "stdout",
     "output_type": "stream",
     "text": [
      "Answer is 3524578 and total compute time is 1.7422563000000082\n"
     ]
    }
   ],
   "source": [
    "# implementing fibonacci sequence without memoization compute time is O(2^n) (really really inefficient)\n",
    "start = time.perf_counter()\n",
    "def fib(n):\n",
    "    if n==1 or n==0:\n",
    "        return n\n",
    "    return fib(n-1) + fib(n-2)\n",
    "\n",
    "answer = fib(33)\n",
    "end = time.perf_counter()\n",
    "print(\"Answer is %s and total compute time is %s\"%(answer,total_time(start,end)))"
   ]
  },
  {
   "cell_type": "code",
   "execution_count": 15,
   "id": "03378372-3148-4bdd-86bc-ad703c64dc05",
   "metadata": {},
   "outputs": [],
   "source": [
    "# with memoization the compute time reduces to O(2n -1)\n",
    "\n",
    "memo = [None]*1000\n",
    "\n",
    "def fib_memo(n):\n",
    "    if memo[n] is not None:\n",
    "        return memo[n]\n",
    "    if n==0 or n==1:\n",
    "        return n\n",
    "    memo[n] = fib_memo(n-1) + fib_memo(n-2)\n",
    "    return memo[n]"
   ]
  },
  {
   "cell_type": "code",
   "execution_count": 23,
   "id": "be968991-3aff-4163-9ed4-8d907128b550",
   "metadata": {},
   "outputs": [
    {
     "name": "stdout",
     "output_type": "stream",
     "text": [
      "Answer is 3524578 and total compute time is 0.00028789998032152653\n"
     ]
    }
   ],
   "source": [
    "start = time.perf_counter()\n",
    "answer = fib_memo(33)\n",
    "end = time.perf_counter()\n",
    "print(\"Answer is %s and total compute time is %s\"%(answer,total_time(start,end)))"
   ]
  },
  {
   "cell_type": "markdown",
   "id": "7d6a1376-faea-4d1b-a438-31d092bdfd76",
   "metadata": {},
   "source": [
    "### conclusion:\n",
    "\n",
    "* look how efficient Memoization is \n",
    "* Memory of the past / storage of materials reduces Total Recursive Compute Time dramatically: when computing the objects depend on its precedents"
   ]
  },
  {
   "cell_type": "code",
   "execution_count": null,
   "id": "48f3c05f-feba-49bd-aa24-98854c5f8c36",
   "metadata": {},
   "outputs": [],
   "source": []
  },
  {
   "cell_type": "markdown",
   "id": "e0da1a5e-e2d4-400f-ad1d-09450f61d8dd",
   "metadata": {},
   "source": [
    "# Bottom up approach:\n",
    "\n",
    "\n",
    "## video link:\n",
    "[click me  🎚️🎚️🎚️](https://www.udemy.com/course/data-structures-algorithms-python/learn/lecture/42371492#overview)"
   ]
  },
  {
   "cell_type": "code",
   "execution_count": 41,
   "id": "5a0b9c82-86e6-479f-abc3-bfe3812eb9b9",
   "metadata": {},
   "outputs": [],
   "source": [
    "# with iterative method computing the fibonacci sequence further reduces to O(n-1)\n",
    "def iterative_fib(n):\n",
    "    counter = 0 # just the calculate the total number of function calls to calculate the big O\n",
    "    fib_list = [0,1]\n",
    "    for i in range(2,n+1):\n",
    "        counter += 1\n",
    "        next_fib = fib_list[i-1] + fib_list[i-2]\n",
    "        fib_list.append(next_fib)\n",
    "    print(counter)\n",
    "    return fib_list[n]\n",
    "    \n",
    "        "
   ]
  },
  {
   "cell_type": "code",
   "execution_count": 43,
   "id": "60f4a21c-1db1-438b-ac74-e7b9fa09ba48",
   "metadata": {},
   "outputs": [
    {
     "name": "stdout",
     "output_type": "stream",
     "text": [
      "32\n",
      "Answer is 3524578 and total compute time is 0.00034339999547228217\n"
     ]
    }
   ],
   "source": [
    "start = time.perf_counter()\n",
    "answer = iterative_fib(33)\n",
    "end = time.perf_counter()\n",
    "print(\"Answer is %s and total compute time is %s\"%(answer,total_time(start,end)))"
   ]
  },
  {
   "cell_type": "markdown",
   "id": "e664cfc0-b821-40fa-8adb-936706ec1111",
   "metadata": {},
   "source": [
    "## conclusion:\n",
    "* there are only 32 function calls for 33 iterations which is O(n-1) compute time."
   ]
  },
  {
   "cell_type": "code",
   "execution_count": null,
   "id": "47b62f6a-e5ed-4929-aca8-13200269df88",
   "metadata": {},
   "outputs": [],
   "source": []
  },
  {
   "cell_type": "markdown",
   "id": "2da7a03e-ac28-4d81-b586-f75e6a788325",
   "metadata": {},
   "source": [
    "# day 520\n",
    "\n",
    "\n",
    "# Levenshtein edit distance dynammic programming:\n"
   ]
  },
  {
   "cell_type": "code",
   "execution_count": 22,
   "id": "bec1265e-446a-4156-9f92-983f9f0e3e94",
   "metadata": {},
   "outputs": [
    {
     "data": {
      "image/jpeg": "[encoded data removed]",
      "text/html": [
       "\n",
       "        <iframe\n",
       "            width=\"400\"\n",
       "            height=\"300\"\n",
       "            src=\"https://www.youtube.com/embed/We3YDTzNXEk\"\n",
       "            frameborder=\"0\"\n",
       "            allowfullscreen\n",
       "            \n",
       "        ></iframe>\n",
       "        "
      ],
      "text/plain": [
       "<IPython.lib.display.YouTubeVideo at 0x175fe604b00>"
      ]
     },
     "execution_count": 22,
     "metadata": {},
     "output_type": "execute_result"
    }
   ],
   "source": [
    "from IPython.display import display,YouTubeVideo\n",
    "YouTubeVideo(id='We3YDTzNXEk')"
   ]
  },
  {
   "cell_type": "code",
   "execution_count": 24,
   "id": "2425a3ef-3f5a-4a8b-8c3e-cbcea2da7f90",
   "metadata": {},
   "outputs": [
    {
     "data": {
      "image/jpeg": "[encoded data removed]",
      "text/html": [
       "\n",
       "        <iframe\n",
       "            width=\"400\"\n",
       "            height=\"300\"\n",
       "            src=\"https://www.youtube.com/embed/XYi2-LPrwm4\"\n",
       "            frameborder=\"0\"\n",
       "            allowfullscreen\n",
       "            \n",
       "        ></iframe>\n",
       "        "
      ],
      "text/plain": [
       "<IPython.lib.display.YouTubeVideo at 0x175fe604e60>"
      ]
     },
     "execution_count": 24,
     "metadata": {},
     "output_type": "execute_result"
    }
   ],
   "source": [
    "YouTubeVideo(id='XYi2-LPrwm4')"
   ]
  },
  {
   "cell_type": "code",
   "execution_count": 19,
   "id": "33c40376-13cd-44d9-8235-4831a846d510",
   "metadata": {},
   "outputs": [
    {
     "data": {
      "text/plain": [
       "[[inf, inf, inf, inf],\n",
       " [inf, inf, inf, inf],\n",
       " [inf, inf, inf, inf],\n",
       " [inf, inf, inf, inf]]"
      ]
     },
     "execution_count": 19,
     "metadata": {},
     "output_type": "execute_result"
    }
   ],
   "source": [
    "word2 = 'cat'\n",
    "word1 = 'act'\n",
    "cache = [[float('inf')]*(len(word2)+1) for i in range(len(word1)+1)]\n",
    "cache"
   ]
  },
  {
   "cell_type": "code",
   "execution_count": null,
   "id": "f33522f1-f912-4440-a6b3-62ea795fda75",
   "metadata": {},
   "outputs": [],
   "source": []
  }
 ],
 "metadata": {
  "kernelspec": {
   "display_name": "Python 3 (ipykernel)",
   "language": "python",
   "name": "python3"
  },
  "language_info": {
   "codemirror_mode": {
    "name": "ipython",
    "version": 3
   },
   "file_extension": ".py",
   "mimetype": "text/x-python",
   "name": "python",
   "nbconvert_exporter": "python",
   "pygments_lexer": "ipython3",
   "version": "3.12.4"
  }
 },
 "nbformat": 4,
 "nbformat_minor": 5
}
