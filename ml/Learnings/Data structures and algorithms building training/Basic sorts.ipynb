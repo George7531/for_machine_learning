version https://git-lfs.github.com/spec/v1
oid sha256:20620b212431308deaef4a219469a6a3e285e9fe1da40e49ed268e9b8a827a08
size 30397
