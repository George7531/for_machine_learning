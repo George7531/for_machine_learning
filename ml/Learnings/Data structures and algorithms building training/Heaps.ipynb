{
 "cells": [
  {
   "cell_type": "markdown",
   "id": "fc48ba6e",
   "metadata": {},
   "source": [
    "# day 132, day 134, day 135"
   ]
  },
  {
   "cell_type": "markdown",
   "id": "eeebd08c",
   "metadata": {},
   "source": [
    "# Heaps: \n",
    "\n",
    "* heaps are similar to binary trees but the main difference is lying in the fact that:\n",
    "\n",
    "\n",
    "\n",
    "1. Heaps are a complete Tree(have perfectly symmetrical number of nodes). Binary Trees can be complete or incomplete.\n",
    "\n",
    "\n",
    "\n",
    "2. Heaps always have the biggest number on the top. Binary Trees have the biggest number on the right side of the Tree on the bottom-most layer.\n",
    "\n",
    "\n",
    "\n",
    "\n",
    "4. **Imagine a Heap being like this: the head goes on top and all its descendents are smaller than the head just like in a beuracracy.**\n",
    "\n",
    "\n",
    "\n",
    "5. Duplicates are allowed in Heap whereas for binary search tree duplication is not allowed.   \n",
    "\n",
    "\n",
    "# keep in mind: about the structure.\n",
    "\n",
    "1. **the most important thing is keeping the tree complete!**\n",
    "\n",
    "\n",
    "2. **every time a new_node is inserted, insert it in an empty space and compare it to its parent and swap places if it is greater than its parent.** \n",
    "\n",
    "3. **every insert and remove takes O(logN)**\n",
    "\n",
    "\n",
    "# use case of heap in real life:\n",
    "\n",
    "priority queing: when extracting a max and min value out of a array of numbers that were arranged as heap is only O(log(n)) the other methods such as linked_list, binary search tree, dictionary(hashing) are all inefficient in extracting max and min values, heap is the most efficient."
   ]
  },
  {
   "cell_type": "code",
   "execution_count": 3,
   "id": "ed2cfb6b",
   "metadata": {},
   "outputs": [
    {
     "data": {
      "text/plain": [
       "1"
      ]
     },
     "execution_count": 3,
     "metadata": {},
     "output_type": "execute_result"
    }
   ],
   "source": [
    "int(3/2)"
   ]
  },
  {
   "cell_type": "code",
   "execution_count": 4,
   "id": "92061d3b",
   "metadata": {},
   "outputs": [
    {
     "data": {
      "text/plain": [
       "1"
      ]
     },
     "execution_count": 4,
     "metadata": {},
     "output_type": "execute_result"
    }
   ],
   "source": [
    "3//2"
   ]
  },
  {
   "cell_type": "markdown",
   "id": "da539961",
   "metadata": {},
   "source": [
    "# constructor"
   ]
  },
  {
   "cell_type": "code",
   "execution_count": 7,
   "id": "caa69b11",
   "metadata": {},
   "outputs": [],
   "source": [
    "class MaxHeap():\n",
    "    \n",
    "    def __init__(self):\n",
    "        \n",
    "        self.heap = []\n",
    "        \n",
    "     # index is parent   \n",
    "    def left_child(self,parent_index):\n",
    "        \n",
    "        return 2*parent_index+1\n",
    "    \n",
    "    def right_child(self,parent_index):\n",
    "        \n",
    "        return 2*parent_index+2\n",
    "    \n",
    "    \n",
    "    \n",
    "    def parent(self,index):\n",
    "        \n",
    "        return (index-1)//2 # returns the value in integer when you use //\n",
    "    \n",
    "    \n",
    "    def swap(self,index1,index2):\n",
    "        \n",
    "        self.heap[index1],self.heap[index2] = self.heap[index2], self.heap[index1]\n",
    "        \n",
    "    \n",
    "        \n",
    "        \n",
    "        \n",
    "        "
   ]
  },
  {
   "cell_type": "markdown",
   "id": "de0d3f11",
   "metadata": {},
   "source": [
    "# insert"
   ]
  },
  {
   "cell_type": "code",
   "execution_count": 9,
   "id": "0ef3a15d",
   "metadata": {},
   "outputs": [
    {
     "name": "stdout",
     "output_type": "stream",
     "text": [
      "[6, 5, 4, 2, 3, 1]\n"
     ]
    }
   ],
   "source": [
    "class MaxHeap:\n",
    "    \n",
    "    def __init__(self):\n",
    "        \n",
    "        self.heap = []\n",
    "        \n",
    "    def left_child(self,index):\n",
    "        \n",
    "        return 2*index+1\n",
    "    \n",
    "    \n",
    "    def right_child(self,index):\n",
    "        \n",
    "        return 2*index+2\n",
    "    \n",
    "    def parent(self,index):\n",
    "        \n",
    "        return (index-1)//2\n",
    "    \n",
    "    \n",
    "    def swap(self,index1,index2):\n",
    "        \n",
    "        self.heap[index1], self.heap[index2] = self.heap[index2],self.heap[index1]\n",
    "        \n",
    "        \n",
    "    def insert(self,value):\n",
    "        \n",
    "        # first append the value to the end of the list\n",
    "        self.heap.append(value)\n",
    "        \n",
    "        # get the index of the recently appended element\n",
    "        current = len(self.heap)-1\n",
    "        \n",
    "        \n",
    "        # swap the element to its parent if it is greater than the parent\n",
    "        while current > 0 and self.heap[current] > self.heap[self.parent(current)]: # accessing values\n",
    "            \n",
    "            self.swap(current,self.parent(current)) # swaping the values\n",
    "            \n",
    "            current = self.parent(current) # change the current index to parent index\n",
    "            \n",
    "            \n",
    "    def print_heap(self):\n",
    "        \n",
    "        return print(self.heap)\n",
    "            \n",
    "            \n",
    "            \n",
    "h = MaxHeap()\n",
    "nums = [3,2,1,5,6,4]\n",
    "for i in nums:\n",
    "    h.insert(i)\n",
    "\n",
    "h.print_heap()"
   ]
  },
  {
   "cell_type": "code",
   "execution_count": null,
   "id": "301009b6",
   "metadata": {},
   "outputs": [],
   "source": []
  },
  {
   "cell_type": "markdown",
   "id": "e903be95",
   "metadata": {},
   "source": [
    "# remove"
   ]
  },
  {
   "cell_type": "code",
   "execution_count": 5,
   "id": "e9a27e10",
   "metadata": {},
   "outputs": [
    {
     "name": "stdout",
     "output_type": "stream",
     "text": [
      "[95, 75, 80, 55, 60, 50, 65]\n",
      "[80, 75, 65, 55, 60, 50]\n",
      "[75, 60, 65, 55, 50]\n"
     ]
    }
   ],
   "source": [
    "class MaxHeap:\n",
    "    \n",
    "    def __init__(self):\n",
    "        \n",
    "        self.heap = []\n",
    "        \n",
    "    def left_child(self,index):\n",
    "        \n",
    "        return 2*index+1\n",
    "    \n",
    "    \n",
    "    def right_child(self,index):\n",
    "        \n",
    "        return 2*index+2\n",
    "    \n",
    "    def parent(self,index):\n",
    "        \n",
    "        return (index-1)//2\n",
    "    \n",
    "    \n",
    "    def swap(self,index1,index2):\n",
    "        \n",
    "        self.heap[index1], self.heap[index2] = self.heap[index2],self.heap[index1]\n",
    "        \n",
    "        \n",
    "    def insert(self,value):\n",
    "        \n",
    "        # first append the value to the end of the list\n",
    "        self.heap.append(value)\n",
    "        \n",
    "        # get the index of the recently appended element\n",
    "        current = len(self.heap)-1\n",
    "        \n",
    "        \n",
    "        # swap the element to its parent if it is greater than the parent\n",
    "        while current > 0 and self.heap[current] > self.heap[self.parent(current)]: # accessing values\n",
    "            \n",
    "            self.swap(current,self.parent(current)) # accessing indices not values\n",
    "            \n",
    "            current = self.parent(current)\n",
    "            \n",
    "            \n",
    "    def print_heap(self):\n",
    "        \n",
    "        return print(self.heap)\n",
    "    \n",
    "    \n",
    "    def sink_down(self,index):\n",
    "        \n",
    "        # max index is current index now\n",
    "        max_index = index\n",
    "        \n",
    "        while True:\n",
    "            left_index = self.left_child(index)\n",
    "            right_index = self.right_child(index)\n",
    "            \n",
    "            # we need to make sure the length of the list is less than the left index to ensure we don't go out of range\n",
    "            # if the current index is less than left_index make the current index be left_index\n",
    "            if (left_index < len(self.heap) and self.heap[left_index] > self.heap[max_index]):\n",
    "                max_index = left_index\n",
    "                \n",
    "            \n",
    "            \n",
    "            \n",
    "            # we have to ensure the right_index is less than the length of the list to not go out of range.\n",
    "            # if the current index is less than right_index make the current index be right_index.\n",
    "            if (right_index < len(self.heap) and self.heap[right_index] > self.heap[max_index]):\n",
    "                max_index = right_index\n",
    "                \n",
    "            \n",
    "                \n",
    "            # if the current max_index is not equal to the initial index then swap the indices and make the initial index\n",
    "            # become current max_index\n",
    "            if (max_index != index):\n",
    "                \n",
    "                self.swap(index,max_index)\n",
    "                index = max_index\n",
    "            \n",
    "            \n",
    "            # to break out of the while loop otherwise program will run forever.    \n",
    "            else:\n",
    "                return\n",
    "            \n",
    "        \n",
    "    \n",
    "    def remove(self):\n",
    "        \n",
    "        # if the heap has no element return None\n",
    "        if len(self.heap) == 0:\n",
    "            \n",
    "            return None\n",
    "        \n",
    "        # if the heap has one element remove and return it.\n",
    "        \n",
    "        if len(self.heap) == 1:\n",
    "            \n",
    "            return self.heap.pop()\n",
    "        \n",
    "        # if the heap has more than one element\n",
    "        \n",
    "        \n",
    "        max_value = self.heap[0]\n",
    "\n",
    "        self.heap[0] = self.heap.pop()\n",
    "\n",
    "        self.sink_down(0) # the first element is going to be filtered and getting to its deserving place on the heap\n",
    "\n",
    "\n",
    "        return max_value\n",
    "\n",
    "            \n",
    "            \n",
    "h = MaxHeap()\n",
    "h.insert(95)\n",
    "h.insert(75)\n",
    "h.insert(80)\n",
    "h.insert(55)\n",
    "h.insert(60)\n",
    "h.insert(50)\n",
    "h.insert(65)\n",
    "\n",
    "h.print_heap()\n",
    "# remove \n",
    "h.remove()\n",
    "h.print_heap()\n",
    "\n",
    "h.remove()\n",
    "h.print_heap()\n",
    "\n",
    "\n",
    "\n"
   ]
  },
  {
   "cell_type": "markdown",
   "id": "ebe786e5",
   "metadata": {},
   "source": [
    "#  conclusion:\n",
    "    \n",
    " **every insert and remove takes O(logN)**\n",
    "   \n",
    " while it is true that we use while loop inside remove function but it goes until only the length of the list which reduces in size every time an item is removed which makes it O(log(n)) not O(N). not just that the height of the heap is O(log(n)) if it is perfectly balanced on both sides. if the tree is not complete then the height of the tree is O(n) for each insert.\n",
    " \n"
   ]
  },
  {
   "cell_type": "code",
   "execution_count": null,
   "id": "8d74b35e",
   "metadata": {},
   "outputs": [],
   "source": []
  },
  {
   "cell_type": "markdown",
   "id": "2c2ccbfa",
   "metadata": {},
   "source": [
    "# properties of the heap:\n",
    "\n",
    "1. Add the new element to the next available position in the heap, maintaining the complete binary tree property (i.e., filling the tree from left to right).\n",
    "\n",
    "2. Bubble up the newly inserted element to its correct position, ensuring that the max heap property is maintained.hence achiveing O(log(n))"
   ]
  },
  {
   "cell_type": "code",
   "execution_count": 9,
   "id": "4f537226",
   "metadata": {},
   "outputs": [
    {
     "data": {
      "text/plain": [
       "0"
      ]
     },
     "execution_count": 9,
     "metadata": {},
     "output_type": "execute_result"
    }
   ],
   "source": [
    "(1-1)//2"
   ]
  },
  {
   "cell_type": "markdown",
   "id": "e80db894",
   "metadata": {},
   "source": [
    "# day 141"
   ]
  },
  {
   "cell_type": "markdown",
   "id": "ad7a22fc",
   "metadata": {},
   "source": [
    "# Minimum Heap\n",
    "\n",
    "\n",
    "what we have seen above is  a MaxHeap where we put the maximum number on top but now we will get to see the minimum number going to the top and all big numbers down the heap."
   ]
  },
  {
   "cell_type": "code",
   "execution_count": null,
   "id": "f8b79c7b",
   "metadata": {},
   "outputs": [],
   "source": []
  },
  {
   "cell_type": "markdown",
   "id": "973a2e69",
   "metadata": {},
   "source": [
    "# Insert function in Minimum Heap"
   ]
  },
  {
   "cell_type": "code",
   "execution_count": 7,
   "id": "89920d8e",
   "metadata": {},
   "outputs": [
    {
     "name": "stdout",
     "output_type": "stream",
     "text": [
      "[1, 3, 2, 5, 6, 4]\n"
     ]
    }
   ],
   "source": [
    "class MinHeap:\n",
    "    \n",
    "    def __init__(self):\n",
    "        self.heap = []\n",
    "        \n",
    "    def left_child(self,index):\n",
    "        return 2*index+1\n",
    "    \n",
    "    def right_child(self,index):\n",
    "        return 2*index+2\n",
    "    \n",
    "    def parent(self,index):\n",
    "        return (index-1)//2\n",
    "    \n",
    "    def swap(self,index1,index2):\n",
    "        self.heap[index1],self.heap[index2] = self.heap[index2],self.heap[index1]\n",
    "        \n",
    "        \n",
    "    def print_heap(self):\n",
    "        \n",
    "        print(self.heap)\n",
    "        \n",
    "        \n",
    "    def insert(self,value):\n",
    "        self.heap.append(value)\n",
    "        current_index = len(self.heap)-1\n",
    "        \n",
    "        \n",
    "        # we put current_index > 0 because we want the while loop to run as long as current index has not reached 0.\n",
    "        while current_index > 0 and (self.heap[current_index] < self.heap[self.parent(current_index)]):\n",
    "            self.swap(current_index,self.parent(current_index))\n",
    "            current_index = self.parent(current_index)\n",
    "            \n",
    "        \n",
    "        \n",
    "    \n",
    "    \n",
    "mh = MinHeap()\n",
    "\n",
    "nums = [3,2,1,5,6,4]\n",
    "for i in nums:\n",
    "    mh.insert(i)\n",
    "    \n",
    "\n",
    "mh.print_heap()"
   ]
  },
  {
   "cell_type": "markdown",
   "id": "855dcdae",
   "metadata": {},
   "source": [
    "# remove and sink_down "
   ]
  },
  {
   "cell_type": "code",
   "execution_count": 7,
   "id": "c3034fe7",
   "metadata": {},
   "outputs": [
    {
     "name": "stdout",
     "output_type": "stream",
     "text": [
      "[2, 6, 4, 12, 8, 10]\n",
      "[4, 6, 10, 12, 8]\n",
      "[6, 8, 10, 12]\n"
     ]
    }
   ],
   "source": [
    "class minheap:\n",
    "    \n",
    "    def __init__(self):\n",
    "        \n",
    "        self.heap = []\n",
    "        \n",
    "        \n",
    "    def left_child(self,index):\n",
    "        return 2*index+1\n",
    "    \n",
    "    def right_child(self,index):\n",
    "        return 2*index+2\n",
    "    \n",
    "    def parent(self,index):\n",
    "        return (index-1)//2\n",
    "    \n",
    "    def swap(self,index1,index2):\n",
    "        self.heap[index1],self.heap[index2] = self.heap[index2],self.heap[index1]\n",
    "        \n",
    "        \n",
    "    def print_heap(self):\n",
    "        print(self.heap)\n",
    "        \n",
    "        \n",
    "    def insert(self,value):\n",
    "        self.heap.append(value)\n",
    "        current = len(self.heap)-1\n",
    "        \n",
    "        while current > 0 and self.heap[current] < self.heap[self.parent(current)]:\n",
    "            self.swap(current,self.parent(current))\n",
    "            \n",
    "            current = self.parent(current)\n",
    "            \n",
    "    def sink_down(self,index):\n",
    "        \n",
    "        min_index = index\n",
    "        \n",
    "        \n",
    "        while True:\n",
    "            \n",
    "            left_index = self.left_child(index)\n",
    "            right_index = self.right_child(index)\n",
    "            \n",
    "            if (left_index < len(self.heap)) and (self.heap[left_index] < self.heap[min_index]):\n",
    "                min_index = left_index\n",
    "                \n",
    "            if (right_index < len(self.heap)) and (self.heap[right_index] < self.heap[min_index]):\n",
    "                min_index = right_index\n",
    "                \n",
    "                \n",
    "            if min_index != index:\n",
    "                self.swap(min_index,index)\n",
    "                index = min_index\n",
    "                \n",
    "                \n",
    "            else:\n",
    "                return\n",
    "                \n",
    "            \n",
    "        \n",
    "            \n",
    "            \n",
    "    def remove(self):\n",
    "        \n",
    "        if len(self.heap) == 0:\n",
    "            return None\n",
    "        if len(self.heap) == 1:\n",
    "            return self.heap.pop()\n",
    "        \n",
    "        min_value = self.heap[0]\n",
    "        self.heap[0] = self.heap.pop()\n",
    "        self.sink_down(0)\n",
    "        \n",
    "        return min_value\n",
    "        \n",
    "        \n",
    "        \n",
    "h = minheap()\n",
    "h.insert(12)\n",
    "h.insert(10)\n",
    "h.insert(8)\n",
    "h.insert(6)\n",
    "h.insert(4)\n",
    "h.insert(2)\n",
    "\n",
    "h.print_heap()\n",
    "\n",
    "h.remove()\n",
    "h.print_heap()\n",
    "\n",
    "h.remove()\n",
    "h.print_heap()"
   ]
  },
  {
   "cell_type": "markdown",
   "id": "12a65eb4",
   "metadata": {},
   "source": [
    "# day142 and day 144 and day 150, day 152, day 153"
   ]
  },
  {
   "cell_type": "markdown",
   "id": "aea80868",
   "metadata": {},
   "source": [
    "# find kth smallest number in a heap"
   ]
  },
  {
   "cell_type": "code",
   "execution_count": 4,
   "id": "37215e52",
   "metadata": {},
   "outputs": [
    {
     "name": "stdout",
     "output_type": "stream",
     "text": [
      "i is 0\n",
      "kth element is: 2\n",
      "\n",
      "\n",
      "i is 1\n",
      "kth element is: 3\n",
      "\n",
      "\n",
      "i is 2\n",
      "kth element is: 4\n",
      "\n",
      "\n",
      "i is 3\n",
      "kth element is: 5\n",
      "\n",
      "\n"
     ]
    }
   ],
   "source": [
    "class MaxHeap:\n",
    "    def __init__(self):\n",
    "        self.heap = []\n",
    "\n",
    "    def _left_child(self, index):\n",
    "        return 2 * index + 1\n",
    "\n",
    "    def _right_child(self, index):\n",
    "        return 2 * index + 2\n",
    "\n",
    "    def _parent(self, index):\n",
    "        return (index - 1) // 2\n",
    "\n",
    "    def _swap(self, index1, index2):\n",
    "        self.heap[index1], self.heap[index2] = self.heap[index2], self.heap[index1]\n",
    "        \n",
    "    def print_heap(self):\n",
    "        \n",
    "        print(self.heap)\n",
    "\n",
    "    def insert(self, value):\n",
    "        self.heap.append(value)\n",
    "        current = len(self.heap) - 1\n",
    "\n",
    "        while current > 0 and self.heap[current] > self.heap[self._parent(current)]:\n",
    "            self._swap(current, self._parent(current))\n",
    "            current = self._parent(current)\n",
    "\n",
    "    def _sink_down(self, index):\n",
    "        max_index = index\n",
    "        while True:\n",
    "            left_index = self._left_child(index)\n",
    "            right_index = self._right_child(index)\n",
    "\n",
    "            if (left_index < len(self.heap) and \n",
    "                    self.heap[left_index] > self.heap[max_index]):\n",
    "                max_index = left_index\n",
    "\n",
    "            if (right_index < len(self.heap) and \n",
    "                    self.heap[right_index] > self.heap[max_index]):\n",
    "                max_index = right_index\n",
    "\n",
    "            if max_index != index:\n",
    "                self._swap(index, max_index)\n",
    "                index = max_index\n",
    "            else:\n",
    "                return\n",
    "                       \n",
    "    def remove(self):\n",
    "        if len(self.heap) == 0:\n",
    "            return None\n",
    "\n",
    "        if len(self.heap) == 1:\n",
    "            return self.heap.pop()\n",
    "\n",
    "        max_value = self.heap[0]\n",
    "        self.heap[0] = self.heap.pop()\n",
    "        self._sink_down(0)\n",
    "\n",
    "        return max_value\n",
    "    \n",
    "    \n",
    "\n",
    "\n",
    "    \n",
    "\n",
    "\n",
    "\n",
    "# kth smallest num function to find kth smallest number in the array\n",
    "def find_kth_smallest(nums,k):\n",
    "    \n",
    "    # initiating the heap\n",
    "    h = MaxHeap()\n",
    "    \n",
    "    # if len(nums) == 0\n",
    "    if len(nums) == 0:\n",
    "        return None\n",
    "    \n",
    "    if k < 0 or k>=len(nums):\n",
    "        return \"invalid entry, please check your k value\"\n",
    "    \n",
    "    \n",
    "    \n",
    "    # inserting via forloop(it saves time! )\n",
    "    for i in nums:\n",
    "         \n",
    "        h.insert(i)\n",
    "        \n",
    "    # sorting the elements of the list\n",
    "    h.heap.sort()\n",
    "\n",
    "    \n",
    "\n",
    "    # returns the kth element in the list\n",
    "    return h.heap[k-1]\n",
    "\n",
    "\n",
    "nums = [[3,2,1,5,6,4], [6,5,4,3,2,1], [1,2,3,4,5,6], [3,2,3,1,2,4,5,5,6]]\n",
    "ks = [2, 3, 4, 7]\n",
    "\n",
    "\n",
    "\n",
    "for i in range(len(ks)):\n",
    "    print('i is {}'.format(i))\n",
    "    print('kth element is: {}'.format(find_kth_smallest(nums[i],ks[i])))\n",
    "    print('\\n')\n",
    "\n",
    "    \n"
   ]
  },
  {
   "cell_type": "markdown",
   "id": "8cdb7e23",
   "metadata": {},
   "source": [
    "# experiment,analysis and freethrows"
   ]
  },
  {
   "cell_type": "code",
   "execution_count": 7,
   "id": "32440817",
   "metadata": {},
   "outputs": [
    {
     "data": {
      "text/plain": [
       "[6, 5, 4, 5, 2, 2, 3, 1, 3]"
      ]
     },
     "execution_count": 7,
     "metadata": {},
     "output_type": "execute_result"
    }
   ],
   "source": [
    "h.heap"
   ]
  },
  {
   "cell_type": "code",
   "execution_count": 8,
   "id": "ffa8867c",
   "metadata": {},
   "outputs": [
    {
     "data": {
      "text/plain": [
       "list"
      ]
     },
     "execution_count": 8,
     "metadata": {},
     "output_type": "execute_result"
    }
   ],
   "source": [
    "type(h.heap)"
   ]
  },
  {
   "cell_type": "code",
   "execution_count": 23,
   "id": "c9a2e425",
   "metadata": {},
   "outputs": [
    {
     "name": "stdout",
     "output_type": "stream",
     "text": [
      "After Sorting: [1, 2, 2, 3, 3, 4, 5, 5, 6] \n",
      "kth element in the sorted_list: 3 \n"
     ]
    }
   ],
   "source": [
    "# sorting the elements of the list\n",
    "h.heap.sort()\n",
    "\n",
    "# after sorting \n",
    "print('After Sorting: {} '.format(h.heap))\n",
    "\n",
    "\n",
    "# finding the kth element \n",
    "k = 4\n",
    "\n",
    "print('kth element in the sorted_list: {} '.format(h.heap[k]))"
   ]
  },
  {
   "cell_type": "code",
   "execution_count": 19,
   "id": "70b25107",
   "metadata": {},
   "outputs": [
    {
     "data": {
      "text/plain": [
       "[0.2, 0.8, 1, 2, 3, 4]"
      ]
     },
     "execution_count": 19,
     "metadata": {},
     "output_type": "execute_result"
    }
   ],
   "source": [
    "a = [1,2,3,4,0.2,0.8]\n",
    "\n",
    "a.sort()\n",
    "\n",
    "a"
   ]
  },
  {
   "cell_type": "code",
   "execution_count": 13,
   "id": "53658d09",
   "metadata": {},
   "outputs": [
    {
     "name": "stdout",
     "output_type": "stream",
     "text": [
      "Test case 1...\n",
      "Input: [3, 2, 1, 5, 6, 4] with k = 2\n",
      "Output: 2\n",
      "Expected output: 2\n",
      "Test passed: True\n",
      "---------------------------------------\n",
      "Test case 2...\n",
      "Input: [6, 5, 4, 3, 2, 1] with k = 3\n",
      "Output: 3\n",
      "Expected output: 3\n",
      "Test passed: True\n",
      "---------------------------------------\n",
      "Test case 3...\n",
      "Input: [1, 2, 3, 4, 5, 6] with k = 4\n",
      "Output: 4\n",
      "Expected output: 4\n",
      "Test passed: True\n",
      "---------------------------------------\n",
      "Test case 4...\n",
      "Input: [3, 2, 3, 1, 2, 4, 5, 5, 6] with k = 7\n",
      "Output: 5\n",
      "Expected output: 5\n",
      "Test passed: True\n",
      "---------------------------------------\n"
     ]
    }
   ],
   "source": [
    "# instructor's solution\n",
    "\n",
    "class MaxHeap:\n",
    "    def __init__(self):\n",
    "        self.heap = []\n",
    "\n",
    "    def _left_child(self, index):\n",
    "        return 2 * index + 1\n",
    "\n",
    "    def _right_child(self, index):\n",
    "        return 2 * index + 2\n",
    "\n",
    "    def _parent(self, index):\n",
    "        return (index - 1) // 2\n",
    "\n",
    "    def _swap(self, index1, index2):\n",
    "        self.heap[index1], self.heap[index2] = self.heap[index2], self.heap[index1]\n",
    "        \n",
    "    def print_heap(self):\n",
    "        \n",
    "        print(self.heap)\n",
    "\n",
    "    def insert(self, value):\n",
    "        self.heap.append(value)\n",
    "        current = len(self.heap) - 1\n",
    "\n",
    "        while current > 0 and self.heap[current] > self.heap[self._parent(current)]:\n",
    "            self._swap(current, self._parent(current))\n",
    "            current = self._parent(current)\n",
    "\n",
    "    def _sink_down(self, index):\n",
    "        max_index = index\n",
    "        while True:\n",
    "            left_index = self._left_child(index)\n",
    "            right_index = self._right_child(index)\n",
    "\n",
    "            if (left_index < len(self.heap) and \n",
    "                    self.heap[left_index] > self.heap[max_index]):\n",
    "                max_index = left_index\n",
    "\n",
    "            if (right_index < len(self.heap) and \n",
    "                    self.heap[right_index] > self.heap[max_index]):\n",
    "                max_index = right_index\n",
    "\n",
    "            if max_index != index:\n",
    "                self._swap(index, max_index)\n",
    "                index = max_index\n",
    "            else:\n",
    "                return\n",
    "                       \n",
    "    def remove(self):\n",
    "        if len(self.heap) == 0:\n",
    "            return None\n",
    "\n",
    "        if len(self.heap) == 1:\n",
    "            return self.heap.pop()\n",
    "\n",
    "        max_value = self.heap[0]\n",
    "        self.heap[0] = self.heap.pop()\n",
    "        self._sink_down(0)\n",
    "\n",
    "        return max_value\n",
    "    \n",
    "    \n",
    "# simple and concise\n",
    "def find_kth_smallest(nums, k):\n",
    "    max_heap = MaxHeap()\n",
    " \n",
    "    for num in nums:\n",
    "        max_heap.insert(num)\n",
    "        if len(max_heap.heap) > k:\n",
    "            max_heap.remove()\n",
    " \n",
    "    return max_heap.remove()\n",
    "\n",
    "\n",
    "nums = [[3,2,1,5,6,4], [6,5,4,3,2,1], [1,2,3,4,5,6], [3,2,3,1,2,4,5,5,6]]\n",
    "ks = [2, 3, 4, 7]\n",
    "expected_outputs = [2, 3, 4, 5]\n",
    "\n",
    "for i in range(len(nums)):\n",
    "    print(f'Test case {i+1}...')\n",
    "    print(f'Input: {nums[i]} with k = {ks[i]}')\n",
    "    result = find_kth_smallest(nums[i], ks[i])\n",
    "    print(f'Output: {result}')\n",
    "    print(f'Expected output: {expected_outputs[i]}')\n",
    "    print(f'Test passed: {result == expected_outputs[i]}')\n",
    "    print('---------------------------------------')\n"
   ]
  },
  {
   "cell_type": "markdown",
   "id": "0ca9e58f",
   "metadata": {},
   "source": [
    "# experiment,analysis and freethrows:"
   ]
  },
  {
   "cell_type": "code",
   "execution_count": 20,
   "id": "3ab40ec7",
   "metadata": {},
   "outputs": [
    {
     "name": "stdout",
     "output_type": "stream",
     "text": [
      "[6, 5, 4, 2, 3, 1]\n",
      "[5, 3, 4, 2, 1]\n",
      "[4, 3, 1, 2]\n",
      "[3, 2, 1]\n",
      "[2, 1]\n"
     ]
    }
   ],
   "source": [
    "max_heap = MaxHeap()\n",
    "\n",
    "nums = [3,2,1,5,6,4]\n",
    "for i in nums:\n",
    "    max_heap.insert(i)\n",
    "    \n",
    "print(max_heap.heap)\n",
    "max_heap.remove()\n",
    "print(max_heap.heap)\n",
    "max_heap.remove()\n",
    "print(max_heap.heap)\n",
    "max_heap.remove()\n",
    "print(max_heap.heap)\n",
    "max_heap.remove()\n",
    "print(max_heap.heap)"
   ]
  },
  {
   "cell_type": "code",
   "execution_count": null,
   "id": "95867512",
   "metadata": {},
   "outputs": [],
   "source": []
  },
  {
   "cell_type": "markdown",
   "id": "79352e71",
   "metadata": {},
   "source": [
    "# day 153 and day 154"
   ]
  },
  {
   "cell_type": "markdown",
   "id": "7a66d97e",
   "metadata": {},
   "source": [
    "# stream_max:\n",
    "\n",
    "If the input list is [1, 3, 2, 5, 4], the function should return [1, 3, 3, 5, 5].\n",
    "\n",
    "### Explanation:\n",
    "\n",
    "At index 0, the maximum number seen so far is 1.\n",
    "\n",
    "At index 1, the maximum number seen so far is 3.\n",
    "\n",
    "At index 2, the maximum number seen so far is still 3.\n",
    "\n",
    "At index 3, the maximum number seen so far is 5.\n",
    "\n",
    "At index 4, the maximum number seen so far is still 5.\n",
    "\n",
    "So, the output list is [1, 3, 3, 5, 5].\n",
    "\n",
    "Similarly, if the input list is [7, 2, 4, 6, 1], the function should return [7, 7, 7, 7, 7].\n",
    "\n",
    "### Explanation:\n",
    "\n",
    "At each index, the maximum number seen so far is 7.\n",
    "\n",
    "So, the output list is [7, 7, 7, 7, 7].\n",
    "\n",
    "### condition:\n",
    "**More specifically, for each index i in the input list, the element at the same index in the output list should be the maximum value among the elements at indices 0 through i in the input list.**\n",
    "\n",
    "### Constraints:\n",
    "\n",
    "You may assume that the input list does not contain any null or undefined elements.\n",
    "\n"
   ]
  },
  {
   "cell_type": "code",
   "execution_count": 21,
   "id": "1061f5cb",
   "metadata": {},
   "outputs": [
    {
     "data": {
      "text/plain": [
       "[1, 3, 3, 5, 5]"
      ]
     },
     "execution_count": 21,
     "metadata": {},
     "output_type": "execute_result"
    }
   ],
   "source": [
    "class MaxHeap:\n",
    "    def __init__(self):\n",
    "        self.heap = []\n",
    "\n",
    "    def _left_child(self, index):\n",
    "        return 2 * index + 1\n",
    "\n",
    "    def _right_child(self, index):\n",
    "        return 2 * index + 2\n",
    "\n",
    "    def _parent(self, index):\n",
    "        return (index - 1) // 2\n",
    "\n",
    "    def _swap(self, index1, index2):\n",
    "        self.heap[index1], self.heap[index2] = self.heap[index2], self.heap[index1]\n",
    "\n",
    "    def insert(self, value):\n",
    "        self.heap.append(value)\n",
    "        current = len(self.heap) - 1\n",
    "\n",
    "        while current > 0 and self.heap[current] > self.heap[self._parent(current)]:\n",
    "            self._swap(current, self._parent(current))\n",
    "            current = self._parent(current)\n",
    "\n",
    "    def _sink_down(self, index):\n",
    "        max_index = index\n",
    "        while True:\n",
    "            left_index = self._left_child(index)\n",
    "            right_index = self._right_child(index)\n",
    "\n",
    "            if (left_index < len(self.heap) and \n",
    "                    self.heap[left_index] > self.heap[max_index]):\n",
    "                max_index = left_index\n",
    "\n",
    "            if (right_index < len(self.heap) and \n",
    "                    self.heap[right_index] > self.heap[max_index]):\n",
    "                max_index = right_index\n",
    "\n",
    "            if max_index != index:\n",
    "                self._swap(index, max_index)\n",
    "                index = max_index\n",
    "            else:\n",
    "                return\n",
    "                       \n",
    "    def remove(self):\n",
    "        if len(self.heap) == 0:\n",
    "            return None\n",
    "\n",
    "        if len(self.heap) == 1:\n",
    "            return self.heap.pop()\n",
    "\n",
    "        max_value = self.heap[0]\n",
    "        self.heap[0] = self.heap.pop()\n",
    "        self._sink_down(0)\n",
    "\n",
    "        return max_value\n",
    "    \n",
    "    \n",
    "def stream_max(nums):\n",
    "    \n",
    "    # initializing the empty heap\n",
    "    '''this will be used to keep track of the maximum number seen so far'''\n",
    "    h = MaxHeap()\n",
    "    \n",
    "    # initializing the empty list \n",
    "    '''this will be used to store the maximum number encountered at each position in nums'''\n",
    "    lis = []\n",
    "    \n",
    "    # the for loop iterates over each number in nums\n",
    "    for i in nums:\n",
    "        \n",
    "        '''inserting the maximum number into the heap. the heap will reorganise itself such that the maximum number is\n",
    "        always at its root; the root is h.heap[0]'''\n",
    "        h.insert(i)\n",
    "        \n",
    "        # appending the value at the root of the heap into max_stream list\n",
    "        lis.append(h.heap[0])\n",
    "        \n",
    "        \n",
    "        \n",
    "    # returns the list    \n",
    "    return lis\n",
    "        \n",
    "stream_max([1,3,2,5,4])\n",
    "        \n",
    "    \n",
    "    \n",
    "\n",
    "        "
   ]
  },
  {
   "cell_type": "code",
   "execution_count": 22,
   "id": "2c78d204",
   "metadata": {},
   "outputs": [
    {
     "data": {
      "text/plain": [
       "[7, 7, 7, 7, 7]"
      ]
     },
     "execution_count": 22,
     "metadata": {},
     "output_type": "execute_result"
    }
   ],
   "source": [
    "stream_max([7,2,4,6,1])"
   ]
  },
  {
   "cell_type": "code",
   "execution_count": 23,
   "id": "c34dc1f2",
   "metadata": {},
   "outputs": [
    {
     "data": {
      "text/plain": [
       "[8, 8, 99, 99, 99, 102, 102, 9245]"
      ]
     },
     "execution_count": 23,
     "metadata": {},
     "output_type": "execute_result"
    }
   ],
   "source": [
    "stream_max([8,2,99,55,65,102,23,9245])"
   ]
  },
  {
   "cell_type": "code",
   "execution_count": null,
   "id": "d5403c18",
   "metadata": {},
   "outputs": [],
   "source": []
  }
 ],
 "metadata": {
  "kernelspec": {
   "display_name": "Python 3 (ipykernel)",
   "language": "python",
   "name": "python3"
  },
  "language_info": {
   "codemirror_mode": {
    "name": "ipython",
    "version": 3
   },
   "file_extension": ".py",
   "mimetype": "text/x-python",
   "name": "python",
   "nbconvert_exporter": "python",
   "pygments_lexer": "ipython3",
   "version": "3.9.12"
  }
 },
 "nbformat": 4,
 "nbformat_minor": 5
}
