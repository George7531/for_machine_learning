{
 "cells": [
  {
   "cell_type": "markdown",
   "id": "bb952777",
   "metadata": {},
   "source": [
    "# day 189,day 191"
   ]
  },
  {
   "cell_type": "markdown",
   "id": "e198768a",
   "metadata": {},
   "source": [
    "# problem1:\n",
    "\n",
    "**List: Remove Element ( Interview Question**)\n",
    "\n",
    "Given a list of integers nums and an integer val, write a function remove_element that removes all occurrences of val in the list in-place and returns the new length of the modified list.\n",
    "\n",
    "The function should not allocate extra space for another list; instead, it should modify the input list in-place with O(1) extra memory.\n",
    "\n",
    "\n",
    "\n",
    "**Input:**\n",
    "\n",
    "A list of integers nums .\n",
    "\n",
    "An integer val representing the value to be removed from the list.\n",
    "\n",
    "\n",
    "\n",
    "**Output:**\n",
    "\n",
    "An integer representing the new length of the modified list after removing all occurrences of val.\n",
    "\n",
    "\n",
    "\n",
    "**Constraints:**\n",
    "\n",
    "Do not use any built-in list methods, except for pop() to remove elements.\n",
    "\n",
    "It is okay to have extra space at the end of the modified list after removing elements.\n",
    "\n"
   ]
  },
  {
   "cell_type": "code",
   "execution_count": 18,
   "id": "155b36f2",
   "metadata": {},
   "outputs": [
    {
     "name": "stdout",
     "output_type": "stream",
     "text": [
      "0\n",
      "2\n",
      "3\n",
      "4\n",
      "5\n",
      "6\n",
      "7\n"
     ]
    }
   ],
   "source": [
    "# this method won't remove duplicates!\n",
    "\n",
    "class Node:\n",
    "    def __init__(self,value):\n",
    "        self.value = value\n",
    "        self.next = None\n",
    "    \n",
    "    \n",
    "class LinkedList:\n",
    "    \n",
    "    def __init__(self,value):\n",
    "        new_node = Node(value)\n",
    "        self.head = new_node\n",
    "        self.tail = new_node\n",
    "        self.length = 1\n",
    "        \n",
    "    def append(self,value):\n",
    "        new_node = Node(value)\n",
    "        if self.head is None:\n",
    "            self.head = new_node\n",
    "            self.tail = new_node\n",
    "            \n",
    "            \n",
    "        else:\n",
    "            self.tail.next = new_node\n",
    "            self.tail = new_node\n",
    "            \n",
    "        self.length += 1\n",
    "        \n",
    "    def print_list(self):\n",
    "        \n",
    "        temp = self.head\n",
    "        \n",
    "        while temp is not None:\n",
    "            print(temp.value)\n",
    "            \n",
    "            temp = temp.next\n",
    "            \n",
    "    def pop_first(self):\n",
    "        # it is O(1)\n",
    "        \n",
    "        if self.head is None:\n",
    "            return \n",
    "        \n",
    "        else:\n",
    "            temp = self.head\n",
    "            self.head = self.head.next\n",
    "            temp.next = None\n",
    "            \n",
    "            \n",
    "    def pop(self):\n",
    "        # it is O(N)\n",
    "        \n",
    "        if self.head is None:\n",
    "            return None\n",
    "        \n",
    "        else:\n",
    "            temp = self.head\n",
    "            for _ in range(self.length-2):\n",
    "                temp = temp.next\n",
    "                \n",
    "            self.tail = temp\n",
    "            self.tail.next = None\n",
    "            \n",
    "            \n",
    "    def val_remover(self,val):\n",
    "        \n",
    "        # if the head is the value\n",
    "        if self.head.value == val:\n",
    "            self.pop_first()\n",
    "            \n",
    "        # if the tail is the value\n",
    "        elif self.tail.value == val:\n",
    "            self.pop()\n",
    "            \n",
    "        # else search if the value is found in between\n",
    "        else:\n",
    "            back = self.head\n",
    "            front = self.head.next\n",
    "            \n",
    "            while back is not None and front is not None:\n",
    "                if front.value == val:\n",
    "                    front = front.next\n",
    "                    back.next = front\n",
    "                    \n",
    "                else:\n",
    "                    back = back.next\n",
    "                    front = front.next\n",
    "                    \n",
    "        \n",
    "                \n",
    "                \n",
    "                \n",
    "            \n",
    "            \n",
    "                    \n",
    "l1 = LinkedList(0)\n",
    "\n",
    "lis = [1,2,3,4,5,6,7]\n",
    "\n",
    "for element in lis:\n",
    "    l1.append(element)\n",
    "    \n",
    "\n",
    "    \n",
    "l1.val_remover(1)\n",
    "l1.print_list()\n",
    "            "
   ]
  },
  {
   "cell_type": "code",
   "execution_count": 34,
   "id": "47bdb8c6",
   "metadata": {},
   "outputs": [],
   "source": [
    "# removing the specified value in the list (including duplicates)\n",
    "\n",
    "def remove_element(nums,val):\n",
    "    i = 0\n",
    "    while i < len(nums):\n",
    "        if nums[i] == val:\n",
    "            nums.pop(i)\n",
    "\n",
    "        else:\n",
    "            i+=1\n",
    "            \n",
    "    return len(nums)"
   ]
  },
  {
   "cell_type": "code",
   "execution_count": 35,
   "id": "2683b0c4",
   "metadata": {},
   "outputs": [
    {
     "data": {
      "text/plain": [
       "7"
      ]
     },
     "execution_count": 35,
     "metadata": {},
     "output_type": "execute_result"
    }
   ],
   "source": [
    "nums = [-2, 1, -3, 4, -1, 2, 1, -5, 4]\n",
    "val = 1\n",
    "\n",
    "remove_element(nums,val)"
   ]
  },
  {
   "cell_type": "code",
   "execution_count": 36,
   "id": "e4dfc3b3",
   "metadata": {},
   "outputs": [
    {
     "data": {
      "text/plain": [
       "[-2, -3, 4, -1, 2, -5, 4]"
      ]
     },
     "execution_count": 36,
     "metadata": {},
     "output_type": "execute_result"
    }
   ],
   "source": [
    "nums"
   ]
  },
  {
   "cell_type": "code",
   "execution_count": null,
   "id": "cf7b51e7",
   "metadata": {},
   "outputs": [],
   "source": []
  },
  {
   "cell_type": "markdown",
   "id": "ed689f92",
   "metadata": {},
   "source": [
    "# day 192"
   ]
  },
  {
   "cell_type": "markdown",
   "id": "8be1105b",
   "metadata": {},
   "source": [
    "List: Find Max Min ( ** Interview Question)\n",
    "Write a Python function that takes a list of integers as input and returns a tuple containing the maximum and minimum values in the list.\n",
    "\n",
    "The function should have the following signature:\n",
    "\n",
    "def find_max_min(myList):\n",
    "\n",
    "\n",
    "Where myList is the list of integers to search for the maximum and minimum values.\n",
    "\n",
    "The function should traverse the list and keep track of the current maximum and minimum values. It should then return these values as a tuple, with the maximum value as the first element and the minimum value as the second element.\n",
    "\n",
    "For example, if the input list is [5, 3, 8, 1, 6, 9], the function should return (9, 1) since 9 is the maximum value and 1 is the minimum value."
   ]
  },
  {
   "cell_type": "code",
   "execution_count": 8,
   "id": "62a89a20",
   "metadata": {},
   "outputs": [
    {
     "data": {
      "text/plain": [
       "(9, 1)"
      ]
     },
     "execution_count": 8,
     "metadata": {},
     "output_type": "execute_result"
    }
   ],
   "source": [
    "lis = [5,3,8,1,6,9]\n",
    "tup = []\n",
    "\n",
    " # for capturing the max value\n",
    "current_element = 0\n",
    "next_element = current_element + 1\n",
    "\n",
    "# temporary storage\n",
    "temp = 0 \n",
    "\n",
    "while next_element < len(lis):\n",
    "    \n",
    "    if lis[next_element] > lis[current_element]:\n",
    "        temp = lis[next_element]\n",
    "        next_element += 1\n",
    "        current_element = next_element - 1\n",
    "        \n",
    "    else:\n",
    "        temp = lis[current_element]\n",
    "        \n",
    "        next_element += 1\n",
    "        \n",
    "tup.append(temp)\n",
    "\n",
    "# for caputuring the minimum value:\n",
    "current_element = 0\n",
    "next_element = current_element + 1\n",
    "\n",
    "while next_element < len(lis):\n",
    "    if lis[next_element] < lis[current_element]:\n",
    "        temp = lis[next_element]\n",
    "        next_element += 1\n",
    "        current_element = next_element - 1\n",
    "        \n",
    "    else:\n",
    "        temp = lis[current_element]\n",
    "        \n",
    "        next_element += 1\n",
    "        \n",
    "        \n",
    "tup.append(temp)\n",
    "    \n",
    "tuple(tup)"
   ]
  },
  {
   "cell_type": "code",
   "execution_count": 40,
   "id": "bd965344",
   "metadata": {},
   "outputs": [
    {
     "data": {
      "text/plain": [
       "(9, 1)"
      ]
     },
     "execution_count": 40,
     "metadata": {},
     "output_type": "execute_result"
    }
   ],
   "source": [
    "lis = [5,3,8,1,6,9]\n",
    "\n",
    "def find_max_min(lis):\n",
    "    tup = []\n",
    "\n",
    "    tup.append(max(lis))\n",
    "    tup.append(min(lis))\n",
    "\n",
    "    return tuple(tup)\n",
    "\n",
    "    \n",
    "find_max_min(lis)"
   ]
  },
  {
   "cell_type": "code",
   "execution_count": null,
   "id": "579e9561",
   "metadata": {},
   "outputs": [],
   "source": []
  },
  {
   "cell_type": "markdown",
   "id": "6e1f6dce",
   "metadata": {},
   "source": [
    "# day 192"
   ]
  },
  {
   "cell_type": "markdown",
   "id": "e6fc796c",
   "metadata": {},
   "source": [
    "# List: Find Longest String ( ** Interview Question)\n",
    "Write a Python function called find_longest_string that takes a list of strings as an input and returns the longest string in the list. The function should iterate through each string in the list, check its length, and keep track of the longest string seen so far. Once it has looped through all the strings, the function should return the longest string found.\n",
    "\n",
    "\n",
    "\n",
    "Example:\n",
    "\n",
    "string_list = ['apple', 'banana', 'kiwi', 'pear']\n",
    "longest = find_longest_string(string_list)\n",
    "print(longest)  # expected output: 'banana'"
   ]
  },
  {
   "cell_type": "code",
   "execution_count": 1,
   "id": "709e3121",
   "metadata": {},
   "outputs": [
    {
     "data": {
      "text/plain": [
       "'banana'"
      ]
     },
     "execution_count": 1,
     "metadata": {},
     "output_type": "execute_result"
    }
   ],
   "source": [
    "\n",
    "\n",
    "# finding the longest string\n",
    "\n",
    "def find_longest_string(string_list):\n",
    "    \n",
    "    # if the length of the string_list is 0\n",
    "    if len(string_list) == 0:\n",
    "        return None\n",
    "    \n",
    "    # if the length of the string_list is 1\n",
    "    if len(string_list) == 1:\n",
    "        return (string_list[0])\n",
    "    \n",
    "    # if the length of the string_list is > 1\n",
    "    else:\n",
    "        current_index = 0\n",
    "        next_index = current_index + 1\n",
    "        temp = 0\n",
    "        while next_index < len(string_list):\n",
    "            if len(string_list[next_index]) > len(string_list[current_index]):\n",
    "                temp = string_list[next_index]\n",
    "                next_index += 1\n",
    "                current_index = next_index - 1\n",
    "\n",
    "            else:\n",
    "                temp = string_list[current_index]\n",
    "                next_index += 1\n",
    "\n",
    "        return temp\n",
    "\n",
    "\n",
    "lis = ['apple', 'banana', 'kiwi', 'pear']\n",
    "find_longest_string(lis)\n",
    "        "
   ]
  },
  {
   "cell_type": "code",
   "execution_count": null,
   "id": "5e1204b9",
   "metadata": {},
   "outputs": [],
   "source": []
  },
  {
   "cell_type": "markdown",
   "id": "825c7471",
   "metadata": {},
   "source": [
    "# day 194"
   ]
  },
  {
   "cell_type": "markdown",
   "id": "4f91c4b4",
   "metadata": {},
   "source": [
    "List: Remove Duplicates ( ** Interview Question)\n",
    "Given a sorted list of integers, rearrange the list in-place such that all unique elements appear at the beginning of the list, followed by the duplicate elements. Your function should return the new length of the list containing only unique elements. Note that you should not create a new list or use any additional data structures to solve this problem. The original list should be modified in-place.\n",
    "\n",
    "Constraints:\n",
    "\n",
    "\n",
    "\n",
    "The input list is sorted in non-decreasing order.\n",
    "\n",
    "The input list may contain duplicates.\n",
    "\n",
    "The function should have a time complexity of O(n), where n is the length of the input list.\n",
    "\n",
    "The function should have a space complexity of O(1), i.e., it should not use any additional data structures or create new lists.\n",
    "\n",
    "\n",
    "\n",
    "Example:\n",
    "\n",
    "Input: nums = [0, 0, 1, 1, 1, 2, 2, 3, 3, 4] Function call: new_length = remove_duplicates(nums) Output: new_length = 5 Modified list: nums = [0, 1, 2, 3, 4, 2, 2, 3, 3, 4] (first 5 elements are unique)\n",
    "\n",
    "Explanation: The function modifies the original list nums in-place, moving unique elements to the beginning of the list, followed by duplicate elements. The new length returned by the function is 5, indicating that there are 5 unique elements in the list. The first 5 elements of the modified list nums are the unique elements [0, 1, 2, 3, 4].\n",
    "\n",
    "\n",
    "\n",
    "This code:\n",
    "\n",
    "\n",
    "\n",
    "nums = [0, 0, 1, 1, 1, 2, 2, 3, 3, 4]\n",
    "new_length = remove_duplicates(nums)\n",
    "print(\"New length:\", new_length)\n",
    "print(\"Unique values in list:\", nums[:new_length])\n",
    "\n",
    "\n",
    "Should Output:\n",
    "\n",
    "\n",
    "\n",
    "New length: 5\n",
    "Unique values in list: [0, 1, 2, 3, 4]\n",
    "\n",
    "\n"
   ]
  },
  {
   "cell_type": "code",
   "execution_count": 15,
   "id": "023fd053",
   "metadata": {},
   "outputs": [
    {
     "data": {
      "text/plain": [
       "[0, 1, 2, 3, 4]"
      ]
     },
     "execution_count": 15,
     "metadata": {},
     "output_type": "execute_result"
    }
   ],
   "source": [
    "def remove_duplicates(lis):\n",
    "    \n",
    "    if len(lis) <= 1:\n",
    "        return len(lis)\n",
    "    \n",
    "    else:\n",
    "        back = 0\n",
    "        front = back + 1\n",
    "\n",
    "        while front < len(lis):\n",
    "            if lis[back] != lis[front]:\n",
    "                front = front + 1\n",
    "                back = front - 1\n",
    "\n",
    "            # if they are equal   \n",
    "            else:\n",
    "                popped = lis.pop(back)\n",
    "                lis.append(popped)\n",
    "\n",
    "        return len(list(set(lis)))\n",
    "\n",
    "lis = [0,0,1,1,1,2,2,3,3,4]\n",
    "new_length = remove_duplicates(lis)\n",
    "lis[:new_length]"
   ]
  },
  {
   "cell_type": "code",
   "execution_count": 2,
   "id": "064aecbd",
   "metadata": {},
   "outputs": [
    {
     "name": "stdout",
     "output_type": "stream",
     "text": [
      "5\n"
     ]
    },
    {
     "data": {
      "text/plain": [
       "'it does truly remove the duplicates.'"
      ]
     },
     "execution_count": 2,
     "metadata": {},
     "output_type": "execute_result"
    }
   ],
   "source": [
    "# instructor's code:\n",
    "def remove_duplicates(nums):\n",
    "    if not nums:\n",
    "        return 0\n",
    " \n",
    "    write_pointer = 1\n",
    " \n",
    "    for read_pointer in range(1, len(nums)):\n",
    "        if nums[read_pointer] != nums[read_pointer - 1]:\n",
    "            nums[write_pointer] = nums[read_pointer]\n",
    "            write_pointer += 1\n",
    " \n",
    "    return write_pointer\n",
    "\n",
    "\n",
    "lis = [0,0,1,1,1,2,2,3,3,4]\n",
    "print(remove_duplicates(lis))\n",
    "\n",
    "# conclusion:\n",
    "'''it does truly remove the duplicates.'''"
   ]
  },
  {
   "cell_type": "markdown",
   "id": "1fd06fad",
   "metadata": {},
   "source": [
    "# exploration,analysis and freethrows:"
   ]
  },
  {
   "cell_type": "code",
   "execution_count": 18,
   "id": "384b3548",
   "metadata": {},
   "outputs": [
    {
     "data": {
      "text/plain": [
       "[0, 4, 1, 1, 1, 2, 2, 3, 3, 4]"
      ]
     },
     "execution_count": 18,
     "metadata": {},
     "output_type": "execute_result"
    }
   ],
   "source": [
    "\n",
    "\n",
    "lis = [0,0,1,1,1,2,2,3,3,4]\n",
    "lis[1] = lis[-1]\n",
    "lis"
   ]
  },
  {
   "cell_type": "code",
   "execution_count": null,
   "id": "019536f6",
   "metadata": {},
   "outputs": [],
   "source": []
  },
  {
   "cell_type": "markdown",
   "id": "6b82cdba",
   "metadata": {},
   "source": [
    "# day 195"
   ]
  },
  {
   "cell_type": "markdown",
   "id": "3e154aa0",
   "metadata": {},
   "source": [
    "List: Max Profit ( ** Interview Question)\n",
    "You are given a list of integers representing stock prices for a certain company over a period of time, where each element in the list corresponds to the stock price for a specific day.\n",
    "\n",
    "You are allowed to buy one share of the stock on one day and sell it on a later day.\n",
    "\n",
    "Your task is to write a function called max_profit that takes the list of stock prices as input and returns the maximum profit you can make by buying and selling at the right time.\n",
    "\n",
    "Note that you must buy the stock before selling it, and you are allowed to make only one transaction (buy once and sell once).\n",
    "\n",
    "Constraints:\n",
    "\n",
    "\n",
    "\n",
    "Each element of the input list is a positive integer representing the stock price for a specific day.\n",
    "\n",
    "\n",
    "\n",
    "Function signature: def max_profit(prices):\n",
    "\n",
    "Example:\n",
    "\n",
    "Input: prices = [7, 1, 5, 3, 6, 4]\n",
    "Function call: profit = max_profit(prices)\n",
    "Output: profit = 5\n",
    "\n",
    "Explanation: The maximum profit can be achieved by buying the stock on day 2 (price 1) and selling it on day 5 (price 6), resulting in a profit of 6 - 1 = 5."
   ]
  },
  {
   "cell_type": "code",
   "execution_count": 3,
   "id": "e73fff07",
   "metadata": {},
   "outputs": [
    {
     "data": {
      "text/plain": [
       "0"
      ]
     },
     "execution_count": 3,
     "metadata": {},
     "output_type": "execute_result"
    }
   ],
   "source": [
    "def max_profit(prices):\n",
    "    \n",
    "    if not prices:\n",
    "        return 0\n",
    "    \n",
    "    minimum_price = min(prices)\n",
    "    \n",
    "    # catching the minimum_index to make the 'time flow' from there(entropy can't be reversed here).\n",
    "    for index,price in enumerate(prices):\n",
    "        if price == minimum_price:\n",
    "            min_index = index\n",
    "             \n",
    "    # catching the maximum_price from min_index\n",
    "    maximum_price = max(prices[min_index:])\n",
    "        \n",
    "    return maximum_price - minimum_price\n",
    "\n",
    "prices = [7,3,1]\n",
    "max_profit(prices)\n",
    "    "
   ]
  },
  {
   "cell_type": "markdown",
   "id": "64802ec2",
   "metadata": {},
   "source": [
    "# exploration, analysis and freethrows"
   ]
  },
  {
   "cell_type": "code",
   "execution_count": 9,
   "id": "1d84b1cf",
   "metadata": {},
   "outputs": [
    {
     "name": "stdout",
     "output_type": "stream",
     "text": [
      "1\n"
     ]
    }
   ],
   "source": [
    "prices = [7,1,5,3,6,4]\n",
    "\n",
    "minimum_price = min(prices)\n",
    "\n",
    "# catching the index of the lowest number in prices\n",
    "for index,price in enumerate(prices):\n",
    "     if price == min(prices):\n",
    "            print(index)\n",
    "            "
   ]
  },
  {
   "cell_type": "code",
   "execution_count": 1,
   "id": "d618f671",
   "metadata": {},
   "outputs": [
    {
     "data": {
      "text/plain": [
       "2"
      ]
     },
     "execution_count": 1,
     "metadata": {},
     "output_type": "execute_result"
    }
   ],
   "source": [
    "# instructor's solution:\n",
    "def max_profit(prices):\n",
    "    min_price = float('inf')\n",
    "    max_profit = 0\n",
    " \n",
    "    for price in prices:\n",
    "        min_price = min(min_price, price)\n",
    "        profit = price - min_price\n",
    "        max_profit = max(max_profit, profit)\n",
    " \n",
    "    return max_profit\n",
    "\n",
    "\n",
    "prices = [2,4,1]\n",
    "max_profit(prices)\n",
    "    "
   ]
  },
  {
   "cell_type": "markdown",
   "id": "767ab49d",
   "metadata": {},
   "source": [
    "# explanation:\n",
    "\n",
    "* min_price = float('inf'):  With this line min_price is initially set to float('inf'), which represents positive infinity. This is done because the algorithm is looking for the minimum price in the list of prices. By setting min_price to infinity initially, any price in the list will be less than min_price, so min_price will be updated to that price on the first iteration of the loop.\n",
    "\n",
    "max_profit = 0: This line initializes the max_profit variable to 0. This variable is used to store the maximum profit that can be made with a single transaction.\n",
    "\n",
    "for price in prices:: This line starts a for loop that iterates through the list of stock prices.\n",
    "\n",
    "min_price = min(min_price, price): This line updates the min_price variable with the minimum value between the current min_price and the current stock price in the iteration. This ensures that min_price always holds the minimum stock price seen so far.\n",
    "\n",
    "profit = price - min_price: This line calculates the profit that could be made by buying the stock at the minimum price seen so far and selling it at the current price in the iteration.\n",
    "\n",
    "max_profit = max(max_profit, profit): This line updates the max_profit variable with the maximum value between the current max_profit and the calculated profit. This ensures that max_profit always holds the maximum possible profit that can be made with a single transaction.\n",
    "\n",
    "return max_profit: After the loop finishes, the max_profit variable contains the maximum profit that can be made with a single transaction. The function returns this value."
   ]
  },
  {
   "cell_type": "markdown",
   "id": "340d80f2",
   "metadata": {},
   "source": [
    "# exploration, analysis and freethrows"
   ]
  },
  {
   "cell_type": "code",
   "execution_count": 15,
   "id": "c1b425c4",
   "metadata": {},
   "outputs": [
    {
     "data": {
      "text/plain": [
       "inf"
      ]
     },
     "execution_count": 15,
     "metadata": {},
     "output_type": "execute_result"
    }
   ],
   "source": [
    "float('inf')"
   ]
  },
  {
   "cell_type": "code",
   "execution_count": null,
   "id": "ebc3676b",
   "metadata": {},
   "outputs": [],
   "source": []
  },
  {
   "cell_type": "markdown",
   "id": "2b8ed985",
   "metadata": {},
   "source": [
    "# day 195 and day 198"
   ]
  },
  {
   "cell_type": "markdown",
   "id": "38606f2b",
   "metadata": {},
   "source": [
    "List: Rotate ( ** Interview Question)\n",
    "You are given a list of n integers and a non-negative integer k.\n",
    "\n",
    "Your task is to write a function called rotate that takes the list of integers and an integer k as input and rotates the list to the right by k steps.\n",
    "\n",
    "The function should modify the input list in-place, and you should not return anything.\n",
    "\n",
    "Constraints:\n",
    "\n",
    "Each element of the input list is an integer.\n",
    "\n",
    "The integer k is non-negative.\n",
    "\n",
    "\n",
    "\n",
    "Function signature: def rotate(nums, k):\n",
    "\n",
    "Example:\n",
    "\n",
    "Input: nums = [1, 2, 3, 4, 5, 6, 7], k = 3\n",
    "Function call: rotate(nums, k)\n",
    "Output: nums = [5, 6, 7, 1, 2, 3, 4]\n",
    "\n",
    "\n",
    "Explanation: The list has been rotated to the right by 3 steps:\n",
    "\n",
    "\n",
    "\n",
    "[7, 1, 2, 3, 4, 5, 6]\n",
    "\n",
    "[6, 7, 1, 2, 3, 4, 5]\n",
    "\n",
    "[5, 6, 7, 1, 2, 3, 4]"
   ]
  },
  {
   "cell_type": "code",
   "execution_count": 29,
   "id": "c63c4f6b",
   "metadata": {},
   "outputs": [
    {
     "data": {
      "text/plain": [
       "[5, 6, 7, 1, 2, 3, 4]"
      ]
     },
     "execution_count": 29,
     "metadata": {},
     "output_type": "execute_result"
    }
   ],
   "source": [
    "lis = [1,2,3,4,5,6,7]\n",
    "\n",
    "k = 3\n",
    "lis[-3:] + lis[:-3]"
   ]
  },
  {
   "cell_type": "code",
   "execution_count": 30,
   "id": "12650247",
   "metadata": {},
   "outputs": [
    {
     "name": "stdout",
     "output_type": "stream",
     "text": [
      "2880524149376\n",
      "2880531968960\n"
     ]
    }
   ],
   "source": [
    "# but it takes two different memory spaces and it is not in-place object transformation. it space complexity is O(N) but \n",
    "# we have been asked to accomplish the task in O(1)\n",
    "\n",
    "lis = [1,2,3,4,5,6,7]\n",
    "print(id(lis))\n",
    "k = 3\n",
    "print(id(lis[-3:] + lis[:-3]))"
   ]
  },
  {
   "cell_type": "code",
   "execution_count": 48,
   "id": "88904594",
   "metadata": {},
   "outputs": [
    {
     "data": {
      "text/plain": [
       "[5, 6, 7, 1, 2, 3, 4]"
      ]
     },
     "execution_count": 48,
     "metadata": {},
     "output_type": "execute_result"
    }
   ],
   "source": [
    "# in place list rotation\n",
    "lis = [1,2,3,4,5,6,7]\n",
    "\n",
    "\n",
    "k = 3\n",
    "for i in range(len(lis[:k+1])):\n",
    "    # pop only the first element\n",
    "    popped = lis.pop(0)\n",
    "    lis.append(popped)\n",
    "lis"
   ]
  },
  {
   "cell_type": "code",
   "execution_count": 51,
   "id": "221aefa9",
   "metadata": {},
   "outputs": [
    {
     "name": "stdout",
     "output_type": "stream",
     "text": [
      "Before transformation: \n",
      "2880532372736\n",
      "After transformation: \n",
      "2880532372736\n"
     ]
    },
    {
     "data": {
      "text/plain": [
       "'Hence verified that the transformation takes in-place of the list and the space complexity is O(1)'"
      ]
     },
     "execution_count": 51,
     "metadata": {},
     "output_type": "execute_result"
    }
   ],
   "source": [
    "# checking memory of lis before and after having been through the transformation.\n",
    "lis = [1,2,3,4,5,6,7]\n",
    "\n",
    "print('Before transformation: ')\n",
    "print(id(lis))\n",
    "\n",
    "k = 3\n",
    "for i in range(len(lis[:k+1])):\n",
    "    # pop only the first element\n",
    "    popped = lis.pop(0)\n",
    "    lis.append(popped)\n",
    "    \n",
    "print('After transformation: ')\n",
    "print(id(lis))  \n",
    "\n",
    "# conclusion:\n",
    "'''Hence verified that the transformation takes in-place of the list and the space complexity is O(1)'''"
   ]
  },
  {
   "cell_type": "code",
   "execution_count": 9,
   "id": "dceaa847",
   "metadata": {},
   "outputs": [],
   "source": [
    "# functionizing the process with constraints:\n",
    "\n",
    "def rotate(nums,k):\n",
    "    \n",
    "    # constraints\n",
    "    if not nums:\n",
    "        return None\n",
    "    \n",
    "    if type(k) is not int:\n",
    "        print('please input a valid k')\n",
    "        \n",
    "        \n",
    "    # checking that all the numbers in the nums is an integer\n",
    "    for num in nums:\n",
    "        if type(num) is not int:\n",
    "            break\n",
    "            \n",
    "            \n",
    "    # if nums has zero elements in it.\n",
    "    if len(nums) == 0:\n",
    "        return None\n",
    "            \n",
    "            \n",
    "    # if nums has only one number in it:\n",
    "    if len(nums) == 1:\n",
    "        return nums[0]\n",
    "            \n",
    "    # if nums has only two numbers in it.\n",
    "    if len(nums) == 2:\n",
    "        temp = nums[0]\n",
    "        nums[0] = nums[1]\n",
    "        nums[1] = temp\n",
    "        \n",
    "        \n",
    "    \n",
    "    for i in range(len(nums[:k+1])):\n",
    "        # pop only the first element\n",
    "        popped = nums.pop(0)\n",
    "        nums.append(popped)\n",
    "            \n",
    "    return nums\n",
    "            \n"
   ]
  },
  {
   "cell_type": "code",
   "execution_count": 5,
   "id": "f37db32d",
   "metadata": {},
   "outputs": [
    {
     "data": {
      "text/plain": [
       "[2, 1]"
      ]
     },
     "execution_count": 5,
     "metadata": {},
     "output_type": "execute_result"
    }
   ],
   "source": [
    "nums = [1,2]\n",
    "k = 1\n",
    "rotate(nums,k)"
   ]
  },
  {
   "cell_type": "code",
   "execution_count": 10,
   "id": "ff8d7ab7",
   "metadata": {},
   "outputs": [],
   "source": [
    "nums = []\n",
    "k = 1\n",
    "rotate(nums,k)"
   ]
  },
  {
   "cell_type": "markdown",
   "id": "86a14c93",
   "metadata": {},
   "source": [
    "# exploration,analysis and freethrows"
   ]
  },
  {
   "cell_type": "code",
   "execution_count": 40,
   "id": "a977a885",
   "metadata": {},
   "outputs": [
    {
     "data": {
      "text/plain": [
       "[1, 2, 3, 4]"
      ]
     },
     "execution_count": 40,
     "metadata": {},
     "output_type": "execute_result"
    }
   ],
   "source": [
    "lis = [1,2,3,4,5,6,7]\n",
    "lis[:4]"
   ]
  },
  {
   "cell_type": "code",
   "execution_count": 43,
   "id": "44ab6153",
   "metadata": {},
   "outputs": [
    {
     "data": {
      "text/plain": [
       "[2, 3, 4, 5, 6, 7, 1]"
      ]
     },
     "execution_count": 43,
     "metadata": {},
     "output_type": "execute_result"
    }
   ],
   "source": [
    "lis = [1,2,3,4,5,6,7]\n",
    "popped = lis.pop(0)\n",
    "lis.append(popped)\n",
    "lis"
   ]
  },
  {
   "cell_type": "code",
   "execution_count": 60,
   "id": "b40edf6f",
   "metadata": {},
   "outputs": [
    {
     "data": {
      "text/plain": [
       "False"
      ]
     },
     "execution_count": 60,
     "metadata": {},
     "output_type": "execute_result"
    }
   ],
   "source": [
    "k = 3\n",
    "type(k) is not int"
   ]
  },
  {
   "cell_type": "code",
   "execution_count": 3,
   "id": "f2e48a8a",
   "metadata": {},
   "outputs": [
    {
     "data": {
      "text/plain": [
       "[2, 1]"
      ]
     },
     "execution_count": 3,
     "metadata": {},
     "output_type": "execute_result"
    }
   ],
   "source": [
    "lis = [1,2]\n",
    "temp = lis[0]\n",
    "lis[0] = lis[1]\n",
    "lis[1] = temp\n",
    "\n",
    "lis"
   ]
  },
  {
   "cell_type": "code",
   "execution_count": 20,
   "id": "33f7ab25",
   "metadata": {},
   "outputs": [],
   "source": [
    "# instructor's solution:\n",
    "def rotate(nums, k):\n",
    "    k = k % len(nums)\n",
    "    nums[:] = nums[-k:] + nums[:-k] \n",
    "    \n",
    "    \n",
    "    \n",
    "nums = [1,2,3,4,5,6,7]\n",
    "k = 3\n",
    "rotate(nums,k)"
   ]
  },
  {
   "cell_type": "code",
   "execution_count": 21,
   "id": "b69c18bc",
   "metadata": {},
   "outputs": [
    {
     "data": {
      "text/plain": [
       "[5, 6, 7, 1, 2, 3, 4]"
      ]
     },
     "execution_count": 21,
     "metadata": {},
     "output_type": "execute_result"
    }
   ],
   "source": [
    "nums"
   ]
  },
  {
   "cell_type": "markdown",
   "id": "288bb7d6",
   "metadata": {},
   "source": [
    "# exploration,analysis and freethrows:\n",
    "\n",
    "* k = k % len(nums): This line takes the modulus of k with the length of the array. This is done to handle cases where k is greater than or equal to the length of the array. By doing this, we ensure that we only rotate the list by the necessary number of steps, effectively reducing unnecessary rotations.\n",
    "--------------------------\n",
    "* nums[:] = nums[-k:] + nums[:-k]: This line rotates the list in-place by slicing it into two parts and concatenating them in reverse order. The expression nums[-k:] represents the last k elements of the list (the part that will be moved to the beginning of the rotated list), and the expression nums[:-k] represents the first n - k elements of the list (the part that will be moved to the end of the rotated list). By concatenating these two slices, we create a new list that represents the rotated version of the input list. The assignment nums[:] = modifies the input list in-place with the rotated list.\n",
    "\n",
    "---------------------------\n",
    "\n",
    "* The function works by first calculating the effective number of steps to rotate the list (using the modulus operation) and then creating a new list with the elements rearranged in the rotated order. Finally, the function updates the input list in-place with the rotated list.\n",
    "\n"
   ]
  },
  {
   "cell_type": "code",
   "execution_count": 13,
   "id": "27d04de0",
   "metadata": {},
   "outputs": [
    {
     "data": {
      "text/plain": [
       "3"
      ]
     },
     "execution_count": 13,
     "metadata": {},
     "output_type": "execute_result"
    }
   ],
   "source": [
    "3%7"
   ]
  },
  {
   "cell_type": "code",
   "execution_count": 22,
   "id": "bb5b15c3",
   "metadata": {},
   "outputs": [
    {
     "data": {
      "text/plain": [
       "[1, 2, 3, 4, 5, 6, 7]"
      ]
     },
     "execution_count": 22,
     "metadata": {},
     "output_type": "execute_result"
    }
   ],
   "source": [
    "nums = [1,2,3,4,5,6,7]\n",
    "nums"
   ]
  },
  {
   "cell_type": "code",
   "execution_count": 23,
   "id": "6468a5be",
   "metadata": {},
   "outputs": [
    {
     "data": {
      "text/plain": [
       "[5, 6, 7, 1, 2, 3, 4]"
      ]
     },
     "execution_count": 23,
     "metadata": {},
     "output_type": "execute_result"
    }
   ],
   "source": [
    "nums[-3:] + nums[:-3]\n"
   ]
  },
  {
   "cell_type": "code",
   "execution_count": null,
   "id": "9b812aca",
   "metadata": {},
   "outputs": [],
   "source": []
  },
  {
   "cell_type": "markdown",
   "id": "31e8dbd4",
   "metadata": {},
   "source": [
    "# day 198\n",
    "\n",
    "# maximum sub_array"
   ]
  },
  {
   "cell_type": "markdown",
   "id": "66acd506",
   "metadata": {},
   "source": [
    "List: Max Sub Array ( ** Interview Question)\n",
    "Given an array of integers nums, write a function max_subarray(nums) that finds the contiguous subarray (containing at least one number) with the largest sum and returns its sum.\n",
    "\n",
    "Remember to also account for an array with 0 items.\n",
    "\n",
    "\n",
    "\n",
    "Function Signature:\n",
    "\n",
    "def max_subarray(nums):\n",
    "\n",
    "\n",
    "Input:\n",
    "\n",
    "A list of integers nums.\n",
    "\n",
    "\n",
    "\n",
    "Output:\n",
    "\n",
    "An integer representing the sum of the contiguous subarray with the largest sum.\n",
    "\n",
    "\n",
    "\n",
    "Example:\n",
    "\n",
    "max_subarray([-2, 1, -3, 4, -1, 2, 1, -5, 4])\n",
    "Output: 6\n",
    "Explanation: The contiguous subarray [4, -1, 2, 1] has the largest sum, which is 6.\n",
    "\n",
    "\n",
    "# explanation:\n",
    "Pseudo Code:\n",
    "\n",
    "function max_subarray(nums)\n",
    "\n",
    "    if input list is empty\n",
    "\n",
    "        return 0\n",
    "\n",
    "\n",
    "\n",
    "    initialize max_sum and current_sum with the first element\n",
    "\n",
    "\n",
    "\n",
    "    for each element in input list, skipping the first one\n",
    "\n",
    "        update current_sum with the maximum of the element and the sum of current_sum and the element\n",
    "\n",
    "\n",
    "\n",
    "        if current_sum is greater than max_sum\n",
    "\n",
    "            update max_sum with current_sum\n",
    "\n",
    "\n",
    "\n",
    "    return max_sum\n",
    "\n",
    "\n"
   ]
  },
  {
   "cell_type": "code",
   "execution_count": 26,
   "id": "53e0c775",
   "metadata": {},
   "outputs": [
    {
     "name": "stdout",
     "output_type": "stream",
     "text": [
      "6\n"
     ]
    }
   ],
   "source": [
    "lis = [-2,1,-3,4,-1,2,1,-5,4]\n",
    "\n",
    "if len(lis) == 0:\n",
    "    print(0) \n",
    "\n",
    "max_sum = lis[0]\n",
    "current_sum = lis[0]\n",
    "\n",
    "for num in lis[1:]:\n",
    "    current_sum = max(num,current_sum+num)\n",
    "    max_sum = max(current_sum,max_sum)\n",
    "    \n",
    "print(max_sum)\n",
    "    "
   ]
  },
  {
   "cell_type": "code",
   "execution_count": 27,
   "id": "6119fba3",
   "metadata": {},
   "outputs": [],
   "source": [
    "def max_subarray(nums):\n",
    "    if not nums:\n",
    "        return 0\n",
    " \n",
    "    max_sum = current_sum = nums[0]\n",
    " \n",
    "    for num in nums[1:]:\n",
    "        current_sum = max(num, current_sum + num)\n",
    "        max_sum = max(max_sum, current_sum)\n",
    " \n",
    "    return max_sum\n",
    "\n"
   ]
  },
  {
   "cell_type": "code",
   "execution_count": null,
   "id": "110f8c35",
   "metadata": {},
   "outputs": [],
   "source": []
  },
  {
   "cell_type": "markdown",
   "id": "b7291e36",
   "metadata": {},
   "source": [
    "# day 199"
   ]
  },
  {
   "cell_type": "markdown",
   "id": "99583092",
   "metadata": {},
   "source": [
    "LL: Partition List ( ** Interview Question)\n",
    "You are given a singly linked list implementation in Python that DOES NOT HAVE A TAIL POINTER (which will make this method simpler to implement).\n",
    "\n",
    "You are tasked with implementing a method partition_list(self, x) that will take an integer x and partition the linked list such that all nodes with values less than x come before nodes with values greater than or equal to x.\n",
    "\n",
    "You should preserve the original relative order of the nodes in each of the two partitions.\n",
    "\n",
    "You need to implement this method as a method of the LinkedList class. The method should take an integer x as input. If the linked list is empty, the method should return None.\n",
    "\n",
    "To implement this method, you should create two new linked lists. These two linked lists will be made up of the original nodes from the linked list that is being partitioned, one for nodes less than x and one for nodes greater than or equal to x.  None of the nodes from the linked list should be duplicated.\n",
    "\n",
    "The creation of a limited number of new nodes is allowed (e.g., dummy nodes to facilitate the partitioning process).\n",
    "\n",
    "You should then traverse the original linked list and append each node to the appropriate new linked list.\n",
    "\n",
    "Finally, you should connect the two new linked lists together.\n",
    "\n",
    "\n",
    "\n",
    "Let's consider the list 2 -> 8 -> 1 -> 4 -> 3 -> 7, and we'll partition around the value 4.\n",
    "\n",
    "\n",
    "\n",
    "Before\n",
    "\n",
    "2 -> 8 -> 1 -> 4 -> 3 -> 7\n",
    "\n",
    "\n",
    "\n",
    "After\n",
    "\n",
    "After calling the partition_list(4), we have:\n",
    "\n",
    "2 -> 1 -> 3 -> 8 -> 4 -> 7\n",
    "\n",
    "\n",
    "\n",
    "Explanation:\n",
    "\n",
    "Everything less than 4 is on the left:\n",
    "2 -> 1 -> 3\n",
    "\n",
    "\n",
    "\n",
    "Everything greater than or equal to 4 is on the right:\n",
    "8 -> 4 -> 7\n",
    "\n",
    "\n",
    "\n",
    "The relative order of the nodes is preserved."
   ]
  },
  {
   "cell_type": "code",
   "execution_count": null,
   "id": "b96e66c2",
   "metadata": {},
   "outputs": [],
   "source": [
    "class Node():\n",
    "    def __init(self,value):\n",
    "        self.value = value\n",
    "        self.next = None\n",
    "        \n",
    "class LinkedList():\n",
    "    def __init__(self,value):\n",
    "        new_node = Node(value)\n",
    "        self.head = new_node(value)\n",
    "        self.length = 1\n",
    "        \n",
    "    def append(self,value):\n",
    "        new_node = Node(value)\n",
    "        \n",
    "        if self.head is None:\n",
    "            self.head = new_node\n",
    "            self.length = 1\n",
    "        \n",
    "        else:\n",
    "            temp = self.head\n",
    "            while temp is not None:\n",
    "                temp = temp.next\n",
    "                self.length += 1\n",
    "                    \n",
    "    def print_list(self):\n",
    "        temp = self.head\n",
    "        while temp is not None:\n",
    "            print(temp.value)\n",
    "            temp = temp.next\n",
    "             \n",
    "    def emptying(self):\n",
    "        self.head = None\n",
    "        self.tail = None\n",
    "        self.length = 0\n",
    "        \n",
    "    def partition_list(self,x):\n",
    "        temp = self.head\n",
    "        \n",
    "        while temp is not None:\n",
    "            if x == temp.value:\n",
    "                centre_node = Node(x)\n",
    "                left_node = Node(0)\n",
    "                right_node = Node(0)\n",
    "                \n",
    "            \n",
    "            \n",
    "            \n",
    "            temp = temp.next\n",
    "            \n",
    "        \n",
    "        "
   ]
  }
 ],
 "metadata": {
  "kernelspec": {
   "display_name": "Python 3 (ipykernel)",
   "language": "python",
   "name": "python3"
  },
  "language_info": {
   "codemirror_mode": {
    "name": "ipython",
    "version": 3
   },
   "file_extension": ".py",
   "mimetype": "text/x-python",
   "name": "python",
   "nbconvert_exporter": "python",
   "pygments_lexer": "ipython3",
   "version": "3.9.12"
  }
 },
 "nbformat": 4,
 "nbformat_minor": 5
}
