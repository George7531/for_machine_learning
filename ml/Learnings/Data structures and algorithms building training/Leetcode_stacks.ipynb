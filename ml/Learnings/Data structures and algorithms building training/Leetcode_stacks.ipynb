{
 "cells": [
  {
   "cell_type": "markdown",
   "id": "ab60fc1a",
   "metadata": {},
   "source": [
    "# day 359"
   ]
  },
  {
   "cell_type": "markdown",
   "id": "93c41d23",
   "metadata": {},
   "source": [
    "# valid parenthesis\n",
    "Given a string s containing just the characters '(', ')', '{', '}', '[' and ']', determine if the input string is valid.\n",
    "\n",
    "An input string is valid if:\n",
    "\n",
    "1. Open brackets must be closed by the same type of brackets.\n",
    "2. Open brackets must be closed in the correct order.\n",
    "3. Every close bracket has a corresponding open bracket of the same type.\n",
    " \n",
    "\n",
    "Example 1:\n",
    "\n",
    "Input: s = \"()\"\n",
    "Output: true\n",
    "Example 2:\n",
    "\n",
    "Input: s = \"()[]{}\"\n",
    "Output: true\n",
    "Example 3:\n",
    "\n",
    "Input: s = \"(]\"\n",
    "Output: false\n",
    "\n",
    "## blueprint:\n",
    "* idea: if you encounter the opening bracket/parenthesis on the string then append it to the stack, but if you encounter a closing brakcet/parenthesis then pop the last element of the stack and see if they are the corresponding opening bracket/parenthesis and return False if not.\n",
    "* create a stack(a list)\n",
    "* create a dictionary to check for membership."
   ]
  },
  {
   "cell_type": "code",
   "execution_count": 29,
   "id": "2089010a",
   "metadata": {},
   "outputs": [
    {
     "data": {
      "text/plain": [
       "{'(': 1, ']': 1}"
      ]
     },
     "execution_count": 29,
     "metadata": {},
     "output_type": "execute_result"
    }
   ],
   "source": [
    "string = '(]'\n",
    "dic = {}\n",
    "\n",
    "for char in string:\n",
    "    dic[char] = dic.get(char,0) + 1\n",
    "    \n",
    "dic"
   ]
  },
  {
   "cell_type": "code",
   "execution_count": 30,
   "id": "4e5ba66c",
   "metadata": {},
   "outputs": [
    {
     "data": {
      "text/plain": [
       "1"
      ]
     },
     "execution_count": 30,
     "metadata": {},
     "output_type": "execute_result"
    }
   ],
   "source": [
    "first_value = next(iter(dic.values()))\n",
    "first_value"
   ]
  },
  {
   "cell_type": "code",
   "execution_count": 31,
   "id": "08feb53b",
   "metadata": {},
   "outputs": [
    {
     "name": "stdout",
     "output_type": "stream",
     "text": [
      "True\n"
     ]
    }
   ],
   "source": [
    "for value in dic.values():\n",
    "    if value != first_value:\n",
    "        print(False)\n",
    "        break\n",
    "else:\n",
    "    print(True)"
   ]
  },
  {
   "cell_type": "markdown",
   "id": "2c1f9247",
   "metadata": {},
   "source": [
    "# checkout your old notes on stack and complete it!"
   ]
  },
  {
   "cell_type": "code",
   "execution_count": 17,
   "id": "f96b3d30",
   "metadata": {},
   "outputs": [],
   "source": [
    "def valid_parenthesis(string):\n",
    "    stack = []\n",
    "\n",
    "    brackets = {')':'(',']':'[','}':'{'}\n",
    "\n",
    "    for char in string:\n",
    "        # if the char is a opening then append it to stack\n",
    "        if char in brackets.values():\n",
    "            stack.append(char)\n",
    "            \n",
    "            \"\"\"\n",
    "            if the char is a closing then pop the last element of stack and check in dictionary if the corresponding \n",
    "            value in it is same \n",
    "            and also if the stack is empty when encoutering a closing might mean imbalance in openings and closings \n",
    "            \"\"\"\n",
    "        \n",
    "        elif char in brackets.keys():\n",
    "            if not stack or brackets[char] != stack.pop():\n",
    "                return False\n",
    "\n",
    "        # return False if everything else failed indicating imbalance\n",
    "        else:\n",
    "            return False\n",
    "    \n",
    "    # returns True only when the length of the stack becomes 0\n",
    "    return len(stack) == 0"
   ]
  },
  {
   "cell_type": "code",
   "execution_count": 19,
   "id": "a4826220",
   "metadata": {},
   "outputs": [
    {
     "data": {
      "text/plain": [
       "True"
      ]
     },
     "execution_count": 19,
     "metadata": {},
     "output_type": "execute_result"
    }
   ],
   "source": [
    "string = '([{}])'\n",
    "valid_parenthesis(string)"
   ]
  },
  {
   "cell_type": "code",
   "execution_count": 20,
   "id": "77025fa6",
   "metadata": {},
   "outputs": [
    {
     "data": {
      "text/plain": [
       "False"
      ]
     },
     "execution_count": 20,
     "metadata": {},
     "output_type": "execute_result"
    }
   ],
   "source": [
    "string = '([{}]))'\n",
    "valid_parenthesis(string)"
   ]
  },
  {
   "cell_type": "markdown",
   "id": "1e74f87b",
   "metadata": {},
   "source": [
    "# exploration, ablation-analysis and freethrows"
   ]
  },
  {
   "cell_type": "code",
   "execution_count": null,
   "id": "1f6283bf",
   "metadata": {},
   "outputs": [],
   "source": []
  },
  {
   "cell_type": "markdown",
   "id": "cc319a50",
   "metadata": {},
   "source": [
    "# day 368"
   ]
  },
  {
   "cell_type": "markdown",
   "id": "29915265",
   "metadata": {},
   "source": [
    "# simplify path\n",
    "\n",
    "Given an absolute path for a Unix-style file system, which begins with a slash '/', transform this path into its simplified canonical path.\n",
    "\n",
    "In Unix-style file system context, a single period '.' signifies the current directory, a double period \"..\" denotes moving up one directory level, and multiple slashes such as \"//\" are interpreted as a single slash. In this problem, treat sequences of periods not covered by the previous rules (like \"...\") as valid names for files or directories.\n",
    "\n",
    "The simplified canonical path should adhere to the following rules:\n",
    "\n",
    "It must start with a single slash '/'.\n",
    "Directories within the path should be separated by only one slash '/'.\n",
    "It should not end with a slash '/', unless it's the root directory.\n",
    "It should exclude any single or double periods used to denote current or parent directories.\n",
    "Return the new path.\n",
    "\n",
    " \n",
    "\n",
    "Example 1:\n",
    "\n",
    "Input: path = \"/home/\"\n",
    "\n",
    "Output: \"/home\"\n",
    "\n",
    "Explanation:\n",
    "\n",
    "The trailing slash should be removed.\n",
    "\n",
    " \n",
    "Example 2:\n",
    "\n",
    "Input: path = \"/home//foo/\"\n",
    "\n",
    "Output: \"/home/foo\"\n",
    "\n",
    "Explanation:\n",
    "\n",
    "Multiple consecutive slashes are replaced by a single one.\n",
    "\n",
    "Example 3:\n",
    "\n",
    "Input: path = \"/home/user/Documents/../Pictures\"\n",
    "\n",
    "Output: \"/home/user/Pictures\"\n",
    "\n",
    "Explanation:\n",
    "\n",
    "A double period \"..\" refers to the directory up a level.\n",
    "\n",
    "Example 4:\n",
    "\n",
    "Input: path = \"/../\"\n",
    "\n",
    "Output: \"/\"\n",
    "\n",
    "Explanation:\n",
    "\n",
    "Going one level up from the root directory is not possible.\n",
    "\n",
    "Example 5:\n",
    "\n",
    "Input: path = \"/.../a/../b/c/../d/./\"\n",
    "\n",
    "Output: \"/.../b/d\"\n",
    "\n",
    "Explanation:\n",
    "\n",
    "\"...\" is a valid name for a directory in this problem.\n",
    "\n",
    " "
   ]
  },
  {
   "cell_type": "markdown",
   "id": "fd7606a3",
   "metadata": {},
   "source": [
    "# The below program works for all the above cases!"
   ]
  },
  {
   "cell_type": "code",
   "execution_count": 37,
   "id": "f2ecc3f9",
   "metadata": {},
   "outputs": [
    {
     "data": {
      "text/plain": [
       "['', '...', 'a', '..', 'b', 'c', '..', 'd', '.', '']"
      ]
     },
     "execution_count": 37,
     "metadata": {},
     "output_type": "execute_result"
    }
   ],
   "source": [
    "string =  \"/.../a/../b/c/../d/./\"\n",
    "unfiltered_list = string.split('/')\n",
    "unfiltered_list"
   ]
  },
  {
   "cell_type": "code",
   "execution_count": 38,
   "id": "a11674b4",
   "metadata": {},
   "outputs": [
    {
     "data": {
      "text/plain": [
       "['...', 'a', '..', 'b', 'c', '..', 'd']"
      ]
     },
     "execution_count": 38,
     "metadata": {},
     "output_type": "execute_result"
    }
   ],
   "source": [
    "characters_to_remove = {'','.','/'}\n",
    "\n",
    "filtered_list = [char for char in unfiltered_list if char not in characters_to_remove]\n",
    "filtered_list"
   ]
  },
  {
   "cell_type": "code",
   "execution_count": 39,
   "id": "5cba14ed",
   "metadata": {},
   "outputs": [
    {
     "data": {
      "text/plain": [
       "'d/b/.../'"
      ]
     },
     "execution_count": 39,
     "metadata": {},
     "output_type": "execute_result"
    }
   ],
   "source": [
    "index = -1\n",
    "mod_str = ''\n",
    "while index > (-len(filtered_list)-1): # dynammic programming\n",
    "    if filtered_list[index] == '..':\n",
    "        index = index - 2\n",
    "    \n",
    "    else:\n",
    "        mod_str += filtered_list[index] + '/'\n",
    "        index = index - 1 \n",
    "\n",
    "mod_str    "
   ]
  },
  {
   "cell_type": "code",
   "execution_count": 40,
   "id": "91ef2dce",
   "metadata": {},
   "outputs": [
    {
     "data": {
      "text/plain": [
       "['d', 'b', '...', '']"
      ]
     },
     "execution_count": 40,
     "metadata": {},
     "output_type": "execute_result"
    }
   ],
   "source": [
    "stack = []\n",
    "# stack.append('/')\n",
    "stack = mod_str.split('/')\n",
    "stack"
   ]
  },
  {
   "cell_type": "code",
   "execution_count": 41,
   "id": "e1488aed",
   "metadata": {},
   "outputs": [
    {
     "data": {
      "text/plain": [
       "'/.../b/d/'"
      ]
     },
     "execution_count": 41,
     "metadata": {},
     "output_type": "execute_result"
    }
   ],
   "source": [
    "final_str = ''\n",
    "if len(stack) == 2:\n",
    "    final_str = '/' + stack[0]\n",
    "\n",
    "else:\n",
    "    while len(stack) > 0:\n",
    "        final_str += stack.pop() + '/' \n",
    "\n",
    "\n",
    "final_str\n"
   ]
  },
  {
   "cell_type": "code",
   "execution_count": null,
   "id": "289fe230",
   "metadata": {},
   "outputs": [],
   "source": []
  },
  {
   "cell_type": "markdown",
   "id": "3b23cff4",
   "metadata": {},
   "source": [
    "# The optimal code:"
   ]
  },
  {
   "cell_type": "code",
   "execution_count": null,
   "id": "c93abe04",
   "metadata": {},
   "outputs": [],
   "source": [
    "def simplify_path(path):\n",
    "    # Split the path by '/'\n",
    "    parts = path.split('/')\n",
    "    stack = []\n",
    "\n",
    "    # Process each part of the path\n",
    "    for part in parts:\n",
    "        if part == '' or part == '.':\n",
    "            continue\n",
    "        elif part == '..':\n",
    "            if stack:\n",
    "                stack.pop()\n",
    "        else:\n",
    "            stack.append(part)\n",
    "\n",
    "    # Join the parts with '/'\n",
    "    simplified_path = '/' + '/'.join(stack)\n",
    "\n",
    "    return simplified_path"
   ]
  },
  {
   "cell_type": "markdown",
   "id": "a3abdf19",
   "metadata": {},
   "source": [
    "# exploration, ablation-analysis and freethrows"
   ]
  },
  {
   "cell_type": "code",
   "execution_count": 42,
   "id": "5640077d",
   "metadata": {},
   "outputs": [
    {
     "data": {
      "text/plain": [
       "'/.../a/../b/c/../d/./'"
      ]
     },
     "execution_count": 42,
     "metadata": {},
     "output_type": "execute_result"
    }
   ],
   "source": [
    "path =  \"/.../a/../b/c/../d/./\"\n",
    "parts = path.split('/')\n",
    "path\n"
   ]
  },
  {
   "cell_type": "code",
   "execution_count": 43,
   "id": "e2de6546",
   "metadata": {},
   "outputs": [
    {
     "name": "stdout",
     "output_type": "stream",
     "text": [
      "\n",
      "...\n",
      "a\n",
      "..\n",
      "b\n",
      "c\n",
      "..\n",
      "d\n",
      ".\n",
      "\n"
     ]
    }
   ],
   "source": [
    "for part in parts:\n",
    "    print(part)\n",
    "    "
   ]
  },
  {
   "cell_type": "code",
   "execution_count": 44,
   "id": "a69e4987",
   "metadata": {},
   "outputs": [
    {
     "data": {
      "text/plain": [
       "['...', 'b', 'd']"
      ]
     },
     "execution_count": 44,
     "metadata": {},
     "output_type": "execute_result"
    }
   ],
   "source": [
    "for part in parts:\n",
    "    if part == '' or part == '.':\n",
    "        continue\n",
    "    elif part == '..':\n",
    "        if stack:\n",
    "            stack.pop()\n",
    "    else:\n",
    "        stack.append(part)\n",
    "stack"
   ]
  },
  {
   "cell_type": "code",
   "execution_count": 45,
   "id": "35b3c183",
   "metadata": {},
   "outputs": [
    {
     "data": {
      "text/plain": [
       "'.../b/d'"
      ]
     },
     "execution_count": 45,
     "metadata": {},
     "output_type": "execute_result"
    }
   ],
   "source": [
    "'/'.join(stack)"
   ]
  },
  {
   "cell_type": "code",
   "execution_count": 46,
   "id": "f68fafd0",
   "metadata": {},
   "outputs": [
    {
     "data": {
      "text/plain": [
       "'/.../b/d'"
      ]
     },
     "execution_count": 46,
     "metadata": {},
     "output_type": "execute_result"
    }
   ],
   "source": [
    "'/' + '/'.join(stack)"
   ]
  },
  {
   "cell_type": "code",
   "execution_count": null,
   "id": "fb4ae0d1",
   "metadata": {},
   "outputs": [],
   "source": []
  }
 ],
 "metadata": {
  "kernelspec": {
   "display_name": "Python 3 (ipykernel)",
   "language": "python",
   "name": "python3"
  },
  "language_info": {
   "codemirror_mode": {
    "name": "ipython",
    "version": 3
   },
   "file_extension": ".py",
   "mimetype": "text/x-python",
   "name": "python",
   "nbconvert_exporter": "python",
   "pygments_lexer": "ipython3",
   "version": "3.9.12"
  }
 },
 "nbformat": 4,
 "nbformat_minor": 5
}
