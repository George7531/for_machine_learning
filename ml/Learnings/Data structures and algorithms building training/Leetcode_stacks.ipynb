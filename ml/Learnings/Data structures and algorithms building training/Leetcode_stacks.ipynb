{
 "cells": [
  {
   "cell_type": "markdown",
   "id": "ab60fc1a",
   "metadata": {},
   "source": [
    "# day 359"
   ]
  },
  {
   "cell_type": "markdown",
   "id": "93c41d23",
   "metadata": {},
   "source": [
    "# valid parenthesis\n",
    "Given a string s containing just the characters '(', ')', '{', '}', '[' and ']', determine if the input string is valid.\n",
    "\n",
    "An input string is valid if:\n",
    "\n",
    "1. Open brackets must be closed by the same type of brackets.\n",
    "2. Open brackets must be closed in the correct order.\n",
    "3. Every close bracket has a corresponding open bracket of the same type.\n",
    " \n",
    "\n",
    "Example 1:\n",
    "\n",
    "Input: s = \"()\"\n",
    "Output: true\n",
    "Example 2:\n",
    "\n",
    "Input: s = \"()[]{}\"\n",
    "Output: true\n",
    "Example 3:\n",
    "\n",
    "Input: s = \"(]\"\n",
    "Output: false\n",
    "\n",
    "## blueprint:\n",
    "* idea: if you encounter the opening bracket/parenthesis on the string then append it to the stack, but if you encounter a closing brakcet/parenthesis then pop the last element of the stack and see if they are the corresponding opening bracket/parenthesis and return False if not.\n",
    "* create a stack(a list)\n",
    "* create a dictionary to check for membership."
   ]
  },
  {
   "cell_type": "code",
   "execution_count": 29,
   "id": "2089010a",
   "metadata": {},
   "outputs": [
    {
     "data": {
      "text/plain": [
       "{'(': 1, ']': 1}"
      ]
     },
     "execution_count": 29,
     "metadata": {},
     "output_type": "execute_result"
    }
   ],
   "source": [
    "string = '(]'\n",
    "dic = {}\n",
    "\n",
    "for char in string:\n",
    "    dic[char] = dic.get(char,0) + 1\n",
    "    \n",
    "dic"
   ]
  },
  {
   "cell_type": "code",
   "execution_count": 30,
   "id": "4e5ba66c",
   "metadata": {},
   "outputs": [
    {
     "data": {
      "text/plain": [
       "1"
      ]
     },
     "execution_count": 30,
     "metadata": {},
     "output_type": "execute_result"
    }
   ],
   "source": [
    "first_value = next(iter(dic.values()))\n",
    "first_value"
   ]
  },
  {
   "cell_type": "code",
   "execution_count": 31,
   "id": "08feb53b",
   "metadata": {},
   "outputs": [
    {
     "name": "stdout",
     "output_type": "stream",
     "text": [
      "True\n"
     ]
    }
   ],
   "source": [
    "for value in dic.values():\n",
    "    if value != first_value:\n",
    "        print(False)\n",
    "        break\n",
    "else:\n",
    "    print(True)"
   ]
  },
  {
   "cell_type": "markdown",
   "id": "2c1f9247",
   "metadata": {},
   "source": [
    "# checkout your old notes on stack and complete it!"
   ]
  },
  {
   "cell_type": "code",
   "execution_count": 17,
   "id": "f96b3d30",
   "metadata": {},
   "outputs": [],
   "source": [
    "def valid_parenthesis(string):\n",
    "    stack = []\n",
    "\n",
    "    brackets = {')':'(',']':'[','}':'{'}\n",
    "\n",
    "    for char in string:\n",
    "        # if the char is a opening then append it to stack\n",
    "        if char in brackets.values():\n",
    "            stack.append(char)\n",
    "            \n",
    "            \"\"\"\n",
    "            if the char is a closing then pop the last element of stack and check in dictionary if the corresponding \n",
    "            value in it is same \n",
    "            and also if the stack is empty when encoutering a closing might mean imbalance in openings and closings \n",
    "            \"\"\"\n",
    "        \n",
    "        elif char in brackets.keys():\n",
    "            if not stack or brackets[char] != stack.pop():\n",
    "                return False\n",
    "\n",
    "        # return False if everything else failed indicating imbalance\n",
    "        else:\n",
    "            return False\n",
    "    \n",
    "    # returns True only when the length of the stack becomes 0\n",
    "    return len(stack) == 0"
   ]
  },
  {
   "cell_type": "code",
   "execution_count": 19,
   "id": "a4826220",
   "metadata": {},
   "outputs": [
    {
     "data": {
      "text/plain": [
       "True"
      ]
     },
     "execution_count": 19,
     "metadata": {},
     "output_type": "execute_result"
    }
   ],
   "source": [
    "string = '([{}])'\n",
    "valid_parenthesis(string)"
   ]
  },
  {
   "cell_type": "code",
   "execution_count": 20,
   "id": "77025fa6",
   "metadata": {},
   "outputs": [
    {
     "data": {
      "text/plain": [
       "False"
      ]
     },
     "execution_count": 20,
     "metadata": {},
     "output_type": "execute_result"
    }
   ],
   "source": [
    "string = '([{}]))'\n",
    "valid_parenthesis(string)"
   ]
  },
  {
   "cell_type": "markdown",
   "id": "1e74f87b",
   "metadata": {},
   "source": [
    "# exploration, ablation-analysis and freethrows"
   ]
  },
  {
   "cell_type": "code",
   "execution_count": null,
   "id": "1f6283bf",
   "metadata": {},
   "outputs": [],
   "source": []
  },
  {
   "cell_type": "markdown",
   "id": "cc319a50",
   "metadata": {},
   "source": [
    "# day 368"
   ]
  },
  {
   "cell_type": "markdown",
   "id": "29915265",
   "metadata": {},
   "source": [
    "# simplify path\n",
    "\n",
    "Given an absolute path for a Unix-style file system, which begins with a slash '/', transform this path into its simplified canonical path.\n",
    "\n",
    "In Unix-style file system context, a single period '.' signifies the current directory, a double period \"..\" denotes moving up one directory level, and multiple slashes such as \"//\" are interpreted as a single slash. In this problem, treat sequences of periods not covered by the previous rules (like \"...\") as valid names for files or directories.\n",
    "\n",
    "The simplified canonical path should adhere to the following rules:\n",
    "\n",
    "It must start with a single slash '/'.\n",
    "Directories within the path should be separated by only one slash '/'.\n",
    "It should not end with a slash '/', unless it's the root directory.\n",
    "It should exclude any single or double periods used to denote current or parent directories.\n",
    "Return the new path.\n",
    "\n",
    " \n",
    "\n",
    "Example 1:\n",
    "\n",
    "Input: path = \"/home/\"\n",
    "\n",
    "Output: \"/home\"\n",
    "\n",
    "Explanation:\n",
    "\n",
    "The trailing slash should be removed.\n",
    "\n",
    " \n",
    "Example 2:\n",
    "\n",
    "Input: path = \"/home//foo/\"\n",
    "\n",
    "Output: \"/home/foo\"\n",
    "\n",
    "Explanation:\n",
    "\n",
    "Multiple consecutive slashes are replaced by a single one.\n",
    "\n",
    "Example 3:\n",
    "\n",
    "Input: path = \"/home/user/Documents/../Pictures\"\n",
    "\n",
    "Output: \"/home/user/Pictures\"\n",
    "\n",
    "Explanation:\n",
    "\n",
    "A double period \"..\" refers to the directory up a level.\n",
    "\n",
    "Example 4:\n",
    "\n",
    "Input: path = \"/../\"\n",
    "\n",
    "Output: \"/\"\n",
    "\n",
    "Explanation:\n",
    "\n",
    "Going one level up from the root directory is not possible.\n",
    "\n",
    "Example 5:\n",
    "\n",
    "Input: path = \"/.../a/../b/c/../d/./\"\n",
    "\n",
    "Output: \"/.../b/d\"\n",
    "\n",
    "Explanation:\n",
    "\n",
    "\"...\" is a valid name for a directory in this problem.\n",
    "\n",
    " "
   ]
  },
  {
   "cell_type": "markdown",
   "id": "fd7606a3",
   "metadata": {},
   "source": [
    "# The below program works for all the above cases!"
   ]
  },
  {
   "cell_type": "code",
   "execution_count": 37,
   "id": "f2ecc3f9",
   "metadata": {},
   "outputs": [
    {
     "data": {
      "text/plain": [
       "['', '...', 'a', '..', 'b', 'c', '..', 'd', '.', '']"
      ]
     },
     "execution_count": 37,
     "metadata": {},
     "output_type": "execute_result"
    }
   ],
   "source": [
    "string =  \"/.../a/../b/c/../d/./\"\n",
    "unfiltered_list = string.split('/')\n",
    "unfiltered_list"
   ]
  },
  {
   "cell_type": "code",
   "execution_count": 38,
   "id": "a11674b4",
   "metadata": {},
   "outputs": [
    {
     "data": {
      "text/plain": [
       "['...', 'a', '..', 'b', 'c', '..', 'd']"
      ]
     },
     "execution_count": 38,
     "metadata": {},
     "output_type": "execute_result"
    }
   ],
   "source": [
    "characters_to_remove = {'','.','/'}\n",
    "\n",
    "filtered_list = [char for char in unfiltered_list if char not in characters_to_remove]\n",
    "filtered_list"
   ]
  },
  {
   "cell_type": "code",
   "execution_count": 39,
   "id": "5cba14ed",
   "metadata": {},
   "outputs": [
    {
     "data": {
      "text/plain": [
       "'d/b/.../'"
      ]
     },
     "execution_count": 39,
     "metadata": {},
     "output_type": "execute_result"
    }
   ],
   "source": [
    "index = -1\n",
    "mod_str = ''\n",
    "while index > (-len(filtered_list)-1): # dynammic programming\n",
    "    if filtered_list[index] == '..':\n",
    "        index = index - 2\n",
    "    \n",
    "    else:\n",
    "        mod_str += filtered_list[index] + '/'\n",
    "        index = index - 1 \n",
    "\n",
    "mod_str    "
   ]
  },
  {
   "cell_type": "code",
   "execution_count": 40,
   "id": "91ef2dce",
   "metadata": {},
   "outputs": [
    {
     "data": {
      "text/plain": [
       "['d', 'b', '...', '']"
      ]
     },
     "execution_count": 40,
     "metadata": {},
     "output_type": "execute_result"
    }
   ],
   "source": [
    "stack = []\n",
    "# stack.append('/')\n",
    "stack = mod_str.split('/')\n",
    "stack"
   ]
  },
  {
   "cell_type": "code",
   "execution_count": 41,
   "id": "e1488aed",
   "metadata": {},
   "outputs": [
    {
     "data": {
      "text/plain": [
       "'/.../b/d/'"
      ]
     },
     "execution_count": 41,
     "metadata": {},
     "output_type": "execute_result"
    }
   ],
   "source": [
    "final_str = ''\n",
    "if len(stack) == 2:\n",
    "    final_str = '/' + stack[0]\n",
    "\n",
    "else:\n",
    "    while len(stack) > 0:\n",
    "        final_str += stack.pop() + '/' \n",
    "\n",
    "\n",
    "final_str\n"
   ]
  },
  {
   "cell_type": "code",
   "execution_count": null,
   "id": "289fe230",
   "metadata": {},
   "outputs": [],
   "source": []
  },
  {
   "cell_type": "markdown",
   "id": "3b23cff4",
   "metadata": {},
   "source": [
    "# The optimal code:"
   ]
  },
  {
   "cell_type": "code",
   "execution_count": null,
   "id": "c93abe04",
   "metadata": {},
   "outputs": [],
   "source": [
    "def simplify_path(path):\n",
    "    # Split the path by '/'\n",
    "    parts = path.split('/')\n",
    "    stack = []\n",
    "\n",
    "    # Process each part of the path\n",
    "    for part in parts:\n",
    "        if part == '' or part == '.':\n",
    "            continue\n",
    "        elif part == '..':\n",
    "            if stack:\n",
    "                stack.pop()\n",
    "        else:\n",
    "            stack.append(part)\n",
    "\n",
    "    # Join the parts with '/'\n",
    "    simplified_path = '/' + '/'.join(stack)\n",
    "\n",
    "    return simplified_path"
   ]
  },
  {
   "cell_type": "markdown",
   "id": "a3abdf19",
   "metadata": {},
   "source": [
    "# exploration, ablation-analysis and freethrows"
   ]
  },
  {
   "cell_type": "code",
   "execution_count": 42,
   "id": "5640077d",
   "metadata": {},
   "outputs": [
    {
     "data": {
      "text/plain": [
       "'/.../a/../b/c/../d/./'"
      ]
     },
     "execution_count": 42,
     "metadata": {},
     "output_type": "execute_result"
    }
   ],
   "source": [
    "path =  \"/.../a/../b/c/../d/./\"\n",
    "parts = path.split('/')\n",
    "path\n"
   ]
  },
  {
   "cell_type": "code",
   "execution_count": 43,
   "id": "e2de6546",
   "metadata": {},
   "outputs": [
    {
     "name": "stdout",
     "output_type": "stream",
     "text": [
      "\n",
      "...\n",
      "a\n",
      "..\n",
      "b\n",
      "c\n",
      "..\n",
      "d\n",
      ".\n",
      "\n"
     ]
    }
   ],
   "source": [
    "for part in parts:\n",
    "    print(part)\n",
    "    "
   ]
  },
  {
   "cell_type": "code",
   "execution_count": 44,
   "id": "a69e4987",
   "metadata": {},
   "outputs": [
    {
     "data": {
      "text/plain": [
       "['...', 'b', 'd']"
      ]
     },
     "execution_count": 44,
     "metadata": {},
     "output_type": "execute_result"
    }
   ],
   "source": [
    "for part in parts:\n",
    "    if part == '' or part == '.':\n",
    "        continue\n",
    "    elif part == '..':\n",
    "        if stack:\n",
    "            stack.pop()\n",
    "    else:\n",
    "        stack.append(part)\n",
    "stack"
   ]
  },
  {
   "cell_type": "code",
   "execution_count": 45,
   "id": "35b3c183",
   "metadata": {},
   "outputs": [
    {
     "data": {
      "text/plain": [
       "'.../b/d'"
      ]
     },
     "execution_count": 45,
     "metadata": {},
     "output_type": "execute_result"
    }
   ],
   "source": [
    "'/'.join(stack)"
   ]
  },
  {
   "cell_type": "code",
   "execution_count": 46,
   "id": "f68fafd0",
   "metadata": {},
   "outputs": [
    {
     "data": {
      "text/plain": [
       "'/.../b/d'"
      ]
     },
     "execution_count": 46,
     "metadata": {},
     "output_type": "execute_result"
    }
   ],
   "source": [
    "'/' + '/'.join(stack)"
   ]
  },
  {
   "cell_type": "code",
   "execution_count": null,
   "id": "fb4ae0d1",
   "metadata": {},
   "outputs": [],
   "source": []
  },
  {
   "cell_type": "markdown",
   "id": "146c58d2",
   "metadata": {},
   "source": [
    "# day 371"
   ]
  },
  {
   "cell_type": "markdown",
   "id": "d53c89b1",
   "metadata": {},
   "source": [
    "Design a stack that supports push, pop, top, and retrieving the minimum element in constant time.\n",
    "\n",
    "Implement the MinStack class:\n",
    "\n",
    "* MinStack() initializes the stack object.\n",
    "* void push(int val) pushes the element val onto the stack.\n",
    "* void pop() removes the element on the top of the stack.\n",
    "* int top() gets the top element of the stack.\n",
    "* int getMin() retrieves the minimum element in the stack.\n",
    "* You must implement a solution with O(1) time complexity for each function.\n",
    "\n",
    " \n",
    "\n",
    "Example 1:\n",
    "\n",
    "Input\n",
    "[\"MinStack\",\"push\",\"push\",\"push\",\"getMin\",\"pop\",\"top\",\"getMin\"]\n",
    "[[],[-2],[0],[-3],[],[],[],[]]\n",
    "\n",
    "Output\n",
    "[null,null,null,null,-3,null,0,-2]\n",
    "\n",
    "Explanation\n",
    "1. MinStack minStack = new MinStack();\n",
    "2. minStack.push(-2);\n",
    "3. minStack.push(0);\n",
    "4. minStack.push(-3);\n",
    "5. minStack.getMin(); // return -3\n",
    "6. minStack.pop();\n",
    "7. minStack.top();    // return 0\n",
    "8. minStack.getMin(); // return -2\n",
    " \n",
    "## pseudo code:\n",
    "To implement a stack that supports push, pop, top, and retrieving the minimum element in constant time, we can use an auxiliary stack to keep track of the minimum values. Here’s a step-by-step explanation of the design:\n",
    "\n",
    "1. **Two Stacks**: We will maintain two stacks:\n",
    "   - `main_stack`: This stack will store all the elements.\n",
    "   - `min_stack`: This stack will store the minimum elements.\n",
    "\n",
    "2. **Push Operation**:\n",
    "   - When pushing a value onto `main_stack`, we also need to check if this value is smaller than or equal to the current minimum value (i.e., the top of `min_stack`). If it is, we push this value onto `min_stack` as well.\n",
    "\n",
    "3. **Pop Operation**:\n",
    "   - When popping a value from `main_stack`, we also check if this value is the same as the top value of `min_stack`. If it is, we pop from `min_stack` as well.\n",
    "\n",
    "4. **Top Operation**:\n",
    "   - Simply return the top value of `main_stack`.\n",
    "\n",
    "5. **GetMin Operation**:\n",
    "   - Simply return the top value of `min_stack`.\n",
    "\n",
    "This approach ensures that each operation (push, pop, top, and getMin) is performed in constant time, \\(O(1)\\).\n"
   ]
  },
  {
   "cell_type": "code",
   "execution_count": 8,
   "id": "c42dab67",
   "metadata": {},
   "outputs": [],
   "source": [
    "class MinStack():\n",
    "    def __init__(self):\n",
    "        self.stack = []\n",
    "        \n",
    "    def push(self,value):\n",
    "        if value == []:\n",
    "            self.stack.append('null')\n",
    "        else:\n",
    "            self.stack.append(value)\n",
    "        \n",
    "    def pop(self):\n",
    "        self.stack.pop()\n",
    "    \n",
    "    def top(self):\n",
    "        return self.stack.pop()\n",
    "    \n",
    "    def getMin(self):\n",
    "        return min(self.stack)\n",
    "    \n",
    "    def PrintStack(self):\n",
    "        print(self.stack)"
   ]
  },
  {
   "cell_type": "code",
   "execution_count": 9,
   "id": "33a742a3",
   "metadata": {},
   "outputs": [
    {
     "name": "stdout",
     "output_type": "stream",
     "text": [
      "['null', -2, 0, -3, 'null', 'null', 'null']\n"
     ]
    }
   ],
   "source": [
    "ms= MinStack()\n",
    "ms.push([])\n",
    "ms.push(-2)\n",
    "ms.push(0)\n",
    "ms.push(-3)\n",
    "ms.push([])\n",
    "ms.push([])\n",
    "ms.push([])\n",
    "\n",
    "\n",
    "ms.PrintStack()"
   ]
  },
  {
   "cell_type": "code",
   "execution_count": 1,
   "id": "b9c55c3e",
   "metadata": {},
   "outputs": [
    {
     "name": "stdout",
     "output_type": "stream",
     "text": [
      "-3\n",
      "0\n",
      "-2\n"
     ]
    }
   ],
   "source": [
    "# ideal solution\n",
    "\n",
    "class MinStack:\n",
    "    def __init__(self):\n",
    "        self.main_stack = []\n",
    "        self.min_stack = []\n",
    "\n",
    "    def push(self, val: int) -> None:\n",
    "        val = val[0]\n",
    "        self.main_stack.append(val)\n",
    "        if not self.min_stack or val <= self.min_stack[-1]:\n",
    "            self.min_stack.append(val)\n",
    "\n",
    "    def pop(self) -> None:\n",
    "        if self.main_stack:\n",
    "            top_val = self.main_stack.pop()\n",
    "            if self.min_stack and top_val == self.min_stack[-1]:\n",
    "                self.min_stack.pop()\n",
    "\n",
    "    def top(self) -> int:\n",
    "        if self.main_stack:\n",
    "            return self.main_stack[-1]\n",
    "        return None\n",
    "\n",
    "    def getMin(self) -> int:\n",
    "        if self.min_stack:\n",
    "            return self.min_stack[-1]\n",
    "        return None\n",
    "\n",
    "# Example usage:\n",
    "minStack = MinStack()\n",
    "minStack.push([-2])\n",
    "minStack.push([0])\n",
    "minStack.push([-3])\n",
    "print(minStack.getMin())  # return -3\n",
    "minStack.pop()\n",
    "print(minStack.top())     # return 0\n",
    "print(minStack.getMin())  # return -2\n"
   ]
  },
  {
   "cell_type": "code",
   "execution_count": 9,
   "id": "8347c7d5",
   "metadata": {},
   "outputs": [
    {
     "data": {
      "text/plain": [
       "-3"
      ]
     },
     "execution_count": 9,
     "metadata": {},
     "output_type": "execute_result"
    }
   ],
   "source": [
    "lis = [[0],[-2],[-3]]\n",
    "lis[-1][0]"
   ]
  },
  {
   "cell_type": "code",
   "execution_count": 16,
   "id": "6cc94141",
   "metadata": {},
   "outputs": [],
   "source": [
    "lis[-1] = 4"
   ]
  },
  {
   "cell_type": "code",
   "execution_count": 17,
   "id": "58eddb23",
   "metadata": {},
   "outputs": [
    {
     "data": {
      "text/plain": [
       "[[0], [-2], 4]"
      ]
     },
     "execution_count": 17,
     "metadata": {},
     "output_type": "execute_result"
    }
   ],
   "source": [
    "lis"
   ]
  },
  {
   "cell_type": "code",
   "execution_count": null,
   "id": "a867c1b9",
   "metadata": {},
   "outputs": [],
   "source": []
  },
  {
   "cell_type": "markdown",
   "id": "c82df8de",
   "metadata": {},
   "source": [
    "# day 388"
   ]
  },
  {
   "cell_type": "markdown",
   "id": "b70b23f8",
   "metadata": {},
   "source": [
    "You are given an array of strings tokens that represents an arithmetic expression in a Reverse Polish Notation.\n",
    "\n",
    "Evaluate the expression. Return an integer that represents the value of the expression.\n",
    "\n",
    "Note that:\n",
    "\n",
    "The valid operators are '+', '-', '*', and '/'.\n",
    "Each operand may be an integer or another expression.\n",
    "The division between two integers always truncates toward zero.\n",
    "There will not be any division by zero.\n",
    "The input represents a valid arithmetic expression in a reverse polish notation.\n",
    "The answer and all the intermediate calculations can be represented in a 32-bit integer.\n",
    " \n",
    "\n",
    "Example 1:\n",
    "\n",
    "Input: tokens = [\"2\",\"1\",\"+\",\"3\",\"*\"]\n",
    "Output: 9\n",
    "Explanation: ((2 + 1) * 3) = 9\n",
    "Example 2:\n",
    "\n",
    "Input: tokens = [\"4\",\"13\",\"5\",\"/\",\"+\"]\n",
    "Output: 6\n",
    "Explanation: (4 + (13 / 5)) = 6\n",
    "Example 3:\n",
    "\n",
    "Input: tokens = [\"10\",\"6\",\"9\",\"3\",\"+\",\"-11\",\"*\",\"/\",\"*\",\"17\",\"+\",\"5\",\"+\"]\n",
    "Output: 22\n",
    "Explanation: ((10 * (6 / ((9 + 3) * -11))) + 17) + 5\n",
    "= ((10 * (6 / (12 * -11))) + 17) + 5\n",
    "= ((10 * (6 / -132)) + 17) + 5\n",
    "= ((10 * 0) + 17) + 5\n",
    "= (0 + 17) + 5\n",
    "= 17 + 5\n",
    "= 22\n",
    "\n",
    "## pseudo code:\n",
    "1. Push all numbers to stack.\n",
    "2. When encountering an operator pop last 2 from stack and perform operation.\n",
    "3. Push result of that operation back to stack and continue.\n",
    "4. Return number at top of stack when done."
   ]
  },
  {
   "cell_type": "markdown",
   "id": "65664695",
   "metadata": {},
   "source": [
    "## my naive approach:"
   ]
  },
  {
   "cell_type": "code",
   "execution_count": 15,
   "id": "ff8a68f4",
   "metadata": {},
   "outputs": [
    {
     "name": "stdout",
     "output_type": "stream",
     "text": [
      "22\n"
     ]
    }
   ],
   "source": [
    "import operator\n",
    "# from collections import deque\n",
    "tokens = [\"10\",\"6\",\"9\",\"3\",\"+\",\"-11\",\"*\",\"/\",\"*\",\"17\",\"+\",\"5\",\"+\"]\n",
    "opt_dic = {'+':operator.add,\n",
    "           '*':operator.mul,\n",
    "           '/':operator.truediv,\n",
    "           '-':operator.sub}\n",
    "stack = []\n",
    "for i, element in enumerate(tokens):\n",
    "    \n",
    "\n",
    "    \n",
    "    if element in opt_dic:\n",
    "        b = stack.pop()\n",
    "        a = stack.pop()\n",
    "        \n",
    "        if element == '/' and b == 0:\n",
    "            break\n",
    "        stack.append(int(opt_dic[tokens[i]](a,b)))\n",
    "        \n",
    "    else:\n",
    "        stack.append(int(element))\n",
    "        \n",
    "        \n",
    "\n",
    "print(stack[0])        "
   ]
  },
  {
   "cell_type": "markdown",
   "id": "62eb33c6",
   "metadata": {},
   "source": [
    "## exploration,ablation-analysis and freethrows"
   ]
  },
  {
   "cell_type": "code",
   "execution_count": 9,
   "id": "a251097c",
   "metadata": {},
   "outputs": [
    {
     "data": {
      "text/plain": [
       "[9]"
      ]
     },
     "execution_count": 9,
     "metadata": {},
     "output_type": "execute_result"
    }
   ],
   "source": [
    "stack"
   ]
  },
  {
   "cell_type": "code",
   "execution_count": 8,
   "id": "c847345e",
   "metadata": {},
   "outputs": [
    {
     "data": {
      "text/plain": [
       "True"
      ]
     },
     "execution_count": 8,
     "metadata": {},
     "output_type": "execute_result"
    }
   ],
   "source": [
    "type(int(tokens[0])) is int"
   ]
  },
  {
   "cell_type": "code",
   "execution_count": 24,
   "id": "bc2b3f5e",
   "metadata": {},
   "outputs": [
    {
     "data": {
      "text/plain": [
       "8"
      ]
     },
     "execution_count": 24,
     "metadata": {},
     "output_type": "execute_result"
    }
   ],
   "source": [
    "opt_dic[tokens[2]](5,3)"
   ]
  },
  {
   "cell_type": "code",
   "execution_count": 1,
   "id": "696b3269",
   "metadata": {},
   "outputs": [],
   "source": [
    "from collections import deque\n"
   ]
  },
  {
   "cell_type": "code",
   "execution_count": 2,
   "id": "c46d1db9",
   "metadata": {},
   "outputs": [],
   "source": [
    "a = deque()\n",
    "a.append(8)\n",
    "a.appendleft(5)\n",
    "a.appendleft(2)"
   ]
  },
  {
   "cell_type": "code",
   "execution_count": 3,
   "id": "4bdad13f",
   "metadata": {},
   "outputs": [
    {
     "data": {
      "text/plain": [
       "deque([2, 5, 8])"
      ]
     },
     "execution_count": 3,
     "metadata": {},
     "output_type": "execute_result"
    }
   ],
   "source": [
    "a"
   ]
  },
  {
   "cell_type": "code",
   "execution_count": 4,
   "id": "2f2fcf9d",
   "metadata": {},
   "outputs": [
    {
     "ename": "IndexError",
     "evalue": "deque index out of range",
     "output_type": "error",
     "traceback": [
      "\u001b[1;31m---------------------------------------------------------------------------\u001b[0m",
      "\u001b[1;31mIndexError\u001b[0m                                Traceback (most recent call last)",
      "Input \u001b[1;32mIn [4]\u001b[0m, in \u001b[0;36m<cell line: 1>\u001b[1;34m()\u001b[0m\n\u001b[1;32m----> 1\u001b[0m a[\u001b[38;5;241m3\u001b[39m] \u001b[38;5;241m=\u001b[39m \u001b[38;5;241m9\u001b[39m\n\u001b[0;32m      2\u001b[0m a\n",
      "\u001b[1;31mIndexError\u001b[0m: deque index out of range"
     ]
    }
   ],
   "source": [
    "a[3] = 9\n",
    "a"
   ]
  },
  {
   "cell_type": "code",
   "execution_count": 5,
   "id": "6b284bae",
   "metadata": {},
   "outputs": [
    {
     "data": {
      "text/plain": [
       "[1, 2, 3]"
      ]
     },
     "execution_count": 5,
     "metadata": {},
     "output_type": "execute_result"
    }
   ],
   "source": [
    "stack = [1,2,3,4,5]\n",
    "\n",
    "a = stack.pop()\n",
    "b = stack.pop()\n",
    "\n",
    "stack"
   ]
  },
  {
   "cell_type": "code",
   "execution_count": null,
   "id": "00b859c0",
   "metadata": {},
   "outputs": [],
   "source": []
  },
  {
   "cell_type": "markdown",
   "id": "2e66f20c",
   "metadata": {},
   "source": [
    "## chatgpt approach:\n"
   ]
  },
  {
   "cell_type": "code",
   "execution_count": 16,
   "id": "c1b1a381",
   "metadata": {},
   "outputs": [],
   "source": [
    "def evalRPN(tokens):\n",
    "    stack = []\n",
    "    \n",
    "    for token in tokens:\n",
    "        if token in \"+-*/\":\n",
    "            # Pop the top two elements for the operation\n",
    "            b = stack.pop()\n",
    "            a = stack.pop()\n",
    "            \n",
    "            # Perform the operation and push the result back on the stack\n",
    "            if token == '+':\n",
    "                result = a + b\n",
    "            elif token == '-':\n",
    "                result = a - b\n",
    "            elif token == '*':\n",
    "                result = a * b\n",
    "            elif token == '/':\n",
    "                # Note: int(a / b) truncates towards zero\n",
    "                result = int(a / b)\n",
    "                \n",
    "            stack.append(result)\n",
    "        else:\n",
    "            # Token is a number, push onto the stack\n",
    "            stack.append(int(token))\n",
    "    \n",
    "    # The final result should be the only element left in the stack\n",
    "    return stack.pop()\n"
   ]
  },
  {
   "cell_type": "code",
   "execution_count": 17,
   "id": "ff6330bb",
   "metadata": {},
   "outputs": [
    {
     "data": {
      "text/plain": [
       "22"
      ]
     },
     "execution_count": 17,
     "metadata": {},
     "output_type": "execute_result"
    }
   ],
   "source": [
    "tokens = [\"10\",\"6\",\"9\",\"3\",\"+\",\"-11\",\"*\",\"/\",\"*\",\"17\",\"+\",\"5\",\"+\"]\n",
    "evalRPN(tokens)"
   ]
  },
  {
   "cell_type": "code",
   "execution_count": null,
   "id": "f39b7894",
   "metadata": {},
   "outputs": [],
   "source": []
  },
  {
   "cell_type": "markdown",
   "id": "6dfaacac",
   "metadata": {},
   "source": [
    "## day 392\n"
   ]
  },
  {
   "cell_type": "markdown",
   "id": "da291e85",
   "metadata": {},
   "source": [
    "## Neetcode tests:\n",
    "\n"
   ]
  },
  {
   "cell_type": "markdown",
   "id": "8b419ea8",
   "metadata": {},
   "source": [
    "## valid parenthesis:\n",
    "\n",
    "\n",
    "## pseudo code:\n",
    "1. create a dic containing the closing paranethesis as keys and opening paranthesis as values.\n",
    "2. have a empty stack.\n",
    "3. append the char to stack if the char is a opening\n",
    "4. pop the last element from the stack if the char is a closing and check if the corresponding value in the dic is a closing. return false if they do not match.\n",
    "5. return True if the len(stack) is 0.\n"
   ]
  },
  {
   "cell_type": "code",
   "execution_count": 7,
   "id": "e917b0b2",
   "metadata": {},
   "outputs": [
    {
     "name": "stdout",
     "output_type": "stream",
     "text": [
      "False\n"
     ]
    },
    {
     "data": {
      "text/plain": [
       "['[']"
      ]
     },
     "execution_count": 7,
     "metadata": {},
     "output_type": "execute_result"
    }
   ],
   "source": [
    "dic = {']':'[',')':'(','}':'{'}\n",
    "stack = []\n",
    "\n",
    "s = \"[(])\"\n",
    "\n",
    "for char in s:\n",
    "    if char in dic.keys(): # checks if the char is one of the keys in the dic.\n",
    "        popped = stack.pop()\n",
    "        if popped != dic[char]:\n",
    "            print(False)\n",
    "            break\n",
    "    elif char in dic.values():\n",
    "        stack.append(char)\n",
    "        \n",
    "stack\n",
    "        \n",
    "            "
   ]
  },
  {
   "cell_type": "code",
   "execution_count": 6,
   "id": "ae48ed84",
   "metadata": {},
   "outputs": [
    {
     "data": {
      "text/plain": [
       "dict_values(['[', '(', '{'])"
      ]
     },
     "execution_count": 6,
     "metadata": {},
     "output_type": "execute_result"
    }
   ],
   "source": [
    "dic.values()"
   ]
  },
  {
   "cell_type": "code",
   "execution_count": 8,
   "id": "1e862d4e",
   "metadata": {},
   "outputs": [
    {
     "name": "stdout",
     "output_type": "stream",
     "text": [
      "['[']\n"
     ]
    }
   ],
   "source": [
    "print(stack)"
   ]
  },
  {
   "cell_type": "code",
   "execution_count": 10,
   "id": "3062d5c5",
   "metadata": {},
   "outputs": [
    {
     "data": {
      "text/plain": [
       "False"
      ]
     },
     "execution_count": 10,
     "metadata": {},
     "output_type": "execute_result"
    }
   ],
   "source": [
    "# edge case:\n",
    "\n",
    "def valid_parenthesis(s):\n",
    "    dic = {']':'[',')':'(','}':'{'}\n",
    "    stack = []\n",
    "\n",
    "    \n",
    "\n",
    "    for char in s:\n",
    "        if char in dic.keys(): # checks if the char is one of the keys in the dic.\n",
    "            if not stack or stack.pop() != dic[char]:\n",
    "                return False\n",
    "        elif char in dic.values():\n",
    "            stack.append(char)\n",
    "\n",
    "    return len(stack)== 0\n",
    "\n",
    "s = \"[(])\"\n",
    "valid_parenthesis(s)"
   ]
  },
  {
   "cell_type": "code",
   "execution_count": 11,
   "id": "983013a7",
   "metadata": {},
   "outputs": [
    {
     "data": {
      "text/plain": [
       "True"
      ]
     },
     "execution_count": 11,
     "metadata": {},
     "output_type": "execute_result"
    }
   ],
   "source": [
    "valid_parenthesis(s=\"([{}])\")"
   ]
  },
  {
   "cell_type": "code",
   "execution_count": null,
   "id": "d6643e5b",
   "metadata": {},
   "outputs": [],
   "source": []
  },
  {
   "cell_type": "markdown",
   "id": "7f3d932b",
   "metadata": {},
   "source": [
    "# day 397,400"
   ]
  },
  {
   "cell_type": "raw",
   "id": "5a26778e",
   "metadata": {},
   "source": [
    "Generate Parentheses\n",
    "You are given an integer n. Return all well-formed parentheses strings that you can generate with n pairs of parentheses.\n",
    "\n",
    "Example 1:\n",
    "Input: n = 1\n",
    "\n",
    "Output: [\"()\"]\n",
    "\n",
    "Example 2:\n",
    "Input: n = 3\n",
    "\n",
    "Output: [\"((()))\",\"(()())\",\"(())()\",\"()(())\",\"()()()\"]\n",
    "\n",
    "\n",
    "You may return the answer in any order.\n",
    "\n",
    "\n",
    "Constraints:1 <= n <= 7\n"
   ]
  },
  {
   "cell_type": "code",
   "execution_count": null,
   "id": "250c5b85",
   "metadata": {},
   "outputs": [],
   "source": []
  },
  {
   "cell_type": "code",
   "execution_count": 29,
   "id": "b3c072db",
   "metadata": {},
   "outputs": [],
   "source": [
    "def parenthesis(n):\n",
    "\n",
    "    def backtrack_(current,open_,close_):\n",
    "        \n",
    "        # base case: if the current has a pair of parentheses (2*n) append it\n",
    "        if len(current) == 2 * n:\n",
    "            result.append(current)\n",
    "            return # return to stop further recursion\n",
    "            \n",
    "        \n",
    "        # if the number of openings is less than the number of pairs of parentheses you want, add an opening\n",
    "        if open_ < n:\n",
    "            backtrack_(current + \"(\",open_ + 1,close_)\n",
    "            \n",
    "        # if the number of closings is less than the number of openings, add an opening\n",
    "        if close_ < open_:\n",
    "            backtrack_(current + \")\",open_,close_ + 1)\n",
    "            \n",
    "    \n",
    "    result = []\n",
    "    backtrack_(\"\",0,0) # initiate with an empty string, 0 opeining, 0 closing parentheses.\n",
    "    return result\n",
    "    "
   ]
  },
  {
   "cell_type": "code",
   "execution_count": 25,
   "id": "b3fd29d4",
   "metadata": {},
   "outputs": [
    {
     "data": {
      "text/plain": [
       "['(())', '()()']"
      ]
     },
     "execution_count": 25,
     "metadata": {},
     "output_type": "execute_result"
    }
   ],
   "source": [
    "parenthesis(2)"
   ]
  },
  {
   "cell_type": "code",
   "execution_count": 26,
   "id": "35797647",
   "metadata": {},
   "outputs": [
    {
     "data": {
      "text/plain": [
       "['']"
      ]
     },
     "execution_count": 26,
     "metadata": {},
     "output_type": "execute_result"
    }
   ],
   "source": [
    "parenthesis(0)"
   ]
  },
  {
   "cell_type": "code",
   "execution_count": 28,
   "id": "c342e86b",
   "metadata": {},
   "outputs": [
    {
     "data": {
      "text/plain": [
       "['(((())))',\n",
       " '((()()))',\n",
       " '((())())',\n",
       " '((()))()',\n",
       " '(()(()))',\n",
       " '(()()())',\n",
       " '(()())()',\n",
       " '(())(())',\n",
       " '(())()()',\n",
       " '()((()))',\n",
       " '()(()())',\n",
       " '()(())()',\n",
       " '()()(())',\n",
       " '()()()()']"
      ]
     },
     "execution_count": 28,
     "metadata": {},
     "output_type": "execute_result"
    }
   ],
   "source": [
    "parenthesis(4)"
   ]
  },
  {
   "cell_type": "code",
   "execution_count": null,
   "id": "c3018349",
   "metadata": {},
   "outputs": [],
   "source": []
  },
  {
   "cell_type": "markdown",
   "id": "d2ebbdb6",
   "metadata": {},
   "source": [
    "## Daily Temperatures\n",
    "You are given an array of integers temperatures where temperatures[i] represents the daily temperatures on the ith day.\n",
    "\n",
    "Return an array result where result[i] is the number of days after the ith day before a warmer temperature appears on a future day. If there is no day in the future where a warmer temperature will appear for the ith day, set result[i] to 0 instead.\n",
    "\n",
    "Example 1:\n",
    "\n",
    "Input: temperatures = [30,38,30,36,35,40,28]\n",
    "\n",
    "Output: [1,4,1,2,1,0,0]\n",
    "Example 2:\n",
    "\n",
    "Input: temperatures = [22,21,20]\n",
    "\n",
    "Output: [0,0,0]\n",
    "\n",
    "\n",
    "Sure, let's go through the problem step by step with examples to understand it better.\n",
    "\n",
    "### Example 1: temperatures = [30, 38, 30, 36, 35, 40, 28]\n",
    "\n",
    "1. **Day 0:** Temperature is 30. The next warmer day is day 1 (38). So, `result[0] = 1`.\n",
    "2. **Day 1:** Temperature is 38. The next warmer day is day 5 (40). So, `result[1] = 4`.\n",
    "3. **Day 2:** Temperature is 30. The next warmer day is day 3 (36). So, `result[2] = 1`.\n",
    "4. **Day 3:** Temperature is 36. The next warmer day is day 5 (40). So, `result[3] = 2`.\n",
    "5. **Day 4:** Temperature is 35. The next warmer day is day 5 (40). So, `result[4] = 1`.\n",
    "6. **Day 5:** Temperature is 40. There is no warmer day after day 5. So, `result[5] = 0`.\n",
    "7. **Day 6:** Temperature is 28. There is no warmer day after day 6. So, `result[6] = 0`.\n",
    "\n",
    "So the output for this example is `[1, 4, 1, 2, 1, 0, 0]`.\n",
    "\n",
    "### Example 2: temperatures = [22, 21, 20]\n",
    "\n",
    "1. **Day 0:** Temperature is 22. There is no warmer day after day 0. So, `result[0] = 0`.\n",
    "2. **Day 1:** Temperature is 21. There is no warmer day after day 1. So, `result[1] = 0`.\n",
    "3. **Day 2:** Temperature is 20. There is no warmer day after day 2. So, `result[2] = 0`.\n",
    "\n",
    "So the output for this example is `[0, 0, 0]`.\n",
    "\n",
    "### Detailed Explanation\n",
    "\n",
    "To solve this problem, for each day, you need to find the next day when the temperature is higher than the current day's temperature. If no such day exists, the result for that day is `0`.\n",
    "\n",
    "#### Step-by-Step Approach:\n",
    "\n",
    "1. **Initialize Result Array:** Create an array `result` of the same length as `temperatures`, filled with `0`s.\n",
    "2. **Iterate through the Array:** For each day, check subsequent days to find the next warmer day.\n",
    "3. **Update Result Array:** If a warmer day is found, update the corresponding position in the `result` array with the number of days until the warmer day.\n",
    "4. **No Warmer Day:** If no warmer day is found for a particular day, the corresponding position in the `result` array remains `0`.\n",
    "\n",
    "By walking through these examples and steps, you can clearly see how to determine the number of days until a warmer temperature appears for each day in the array.\n",
    "\n",
    "## helping agent: \n",
    "chatGPT: topic:Generate well formed dated 02/07/2024.\n"
   ]
  },
  {
   "cell_type": "code",
   "execution_count": null,
   "id": "c1113462",
   "metadata": {},
   "outputs": [],
   "source": []
  }
 ],
 "metadata": {
  "kernelspec": {
   "display_name": "Python 3 (ipykernel)",
   "language": "python",
   "name": "python3"
  },
  "language_info": {
   "codemirror_mode": {
    "name": "ipython",
    "version": 3
   },
   "file_extension": ".py",
   "mimetype": "text/x-python",
   "name": "python",
   "nbconvert_exporter": "python",
   "pygments_lexer": "ipython3",
   "version": "3.9.12"
  }
 },
 "nbformat": 4,
 "nbformat_minor": 5
}
