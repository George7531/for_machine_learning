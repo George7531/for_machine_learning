version https://git-lfs.github.com/spec/v1
oid sha256:2a6d0920bd937c6ac46d2bf6ef8910e39c13746c3a0ab7abeef964e3fe6b852f
size 20510
