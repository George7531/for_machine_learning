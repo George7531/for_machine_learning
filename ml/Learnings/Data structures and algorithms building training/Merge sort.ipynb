{
 "cells": [
  {
   "cell_type": "markdown",
   "id": "bdf5f2a7",
   "metadata": {},
   "source": [
    "# day 183"
   ]
  },
  {
   "cell_type": "markdown",
   "id": "4311e1b1",
   "metadata": {},
   "source": [
    "# merge sort is the most efficient sorting algorithm for sorting different types of data.O(n log(n))"
   ]
  },
  {
   "cell_type": "code",
   "execution_count": null,
   "id": "5dfff9ec",
   "metadata": {},
   "outputs": [],
   "source": []
  },
  {
   "cell_type": "markdown",
   "id": "fb95dfc3",
   "metadata": {},
   "source": [
    "# the idea behind merge sort:\n",
    "\n",
    "* everything is broken down and sorted from ground-up."
   ]
  },
  {
   "cell_type": "markdown",
   "id": "f25ed697",
   "metadata": {},
   "source": [
    "# merge sort code: part1 "
   ]
  },
  {
   "cell_type": "code",
   "execution_count": 2,
   "id": "db0c721e",
   "metadata": {},
   "outputs": [
    {
     "name": "stdout",
     "output_type": "stream",
     "text": [
      "[1, 2, 3, 4, 5, 8, 9, 10]\n"
     ]
    }
   ],
   "source": [
    "# merge sort code\n",
    "\n",
    "\n",
    "def merge(lis1,lis2):\n",
    "    merged = []\n",
    "    i = 0\n",
    "    j = 0 \n",
    "\n",
    "    while i < len(lis1) and j < len(lis2):\n",
    "\n",
    "        if lis1[i] < lis2[j] :\n",
    "            merged.append(lis1[i])\n",
    "            i += 1\n",
    "\n",
    "        else:\n",
    "            merged.append(lis2[j])\n",
    "            j += 1\n",
    "\n",
    "\n",
    "    while i < len(lis1):\n",
    "        merged.append(lis1[i])\n",
    "        i += 1\n",
    "\n",
    "    while j < len(lis2):\n",
    "        merged.append(lis2[j])\n",
    "        j += 1\n",
    "    \n",
    "    \n",
    "    return merged\n",
    "\n",
    "# the lists need to be sorted before running the merge algorithm over.\n",
    "lis1 = sorted([5,3,2])\n",
    "lis2 = sorted([1,8,4,9,10])\n",
    "\n",
    "\n",
    "print(merge(lis1,lis2))\n",
    "    "
   ]
  },
  {
   "cell_type": "markdown",
   "id": "5e2c1d14",
   "metadata": {},
   "source": [
    "# explanation,analysis and freethrows:\n",
    "* sorted lis1 is [2,3,5]\n",
    "* sorted lis2 is [1,4,8,9,10]\n",
    "\n",
    "# first iteration:\n",
    "* i = 0\n",
    "* j = 0\n",
    "* while i < len(lis1) and j < len(lis2):\n",
    "* else is trigerred:\n",
    "* merged = [1]\n",
    "* j = 1\n",
    "\n",
    "# second iteration:\n",
    "* i = 0\n",
    "* j = 1\n",
    "* while i < len(lis1) and j < len(lis2):\n",
    "* if is trigerred:\n",
    "* merged = [1,2]\n",
    "* i = 1\n",
    "\n",
    "# third iteration:\n",
    "* i = 1\n",
    "* j = 1\n",
    "* while i < len(lis1) and j < len(lis2):\n",
    "* if is trigerred:\n",
    "* merged = [1,2,3]\n",
    "* i = 2\n",
    "\n",
    "# fourth iteration:\n",
    "* i = 2\n",
    "* j = 1\n",
    "* while i < len(lis1) and j < len(lis2):\n",
    "* else is trigerred:\n",
    "* merged = [1,2,3,4]\n",
    "* j = 2\n",
    "\n",
    "# fivth iteration:\n",
    "* i = 2\n",
    "* j = 2\n",
    "* while i < len(lis1) and j < len(lis2):\n",
    "* if is trigerred:\n",
    "* merged = [1,2,3,4,5]\n",
    "* i = 3\n",
    "\n",
    "# sixth,seventh,eighth iteration:\n",
    "* i = 3\n",
    "* j = 2\n",
    "* while  j < len(lis2):\n",
    "* merged = [1,2,3,4,5,8,9,10]\n",
    "* j = 5\n",
    "\n",
    "\n",
    "# points to note:\n",
    "* we use while loop instead of for loop because we don't know ahead of time how many elements merged list would have at the end"
   ]
  },
  {
   "cell_type": "code",
   "execution_count": null,
   "id": "85e6e52e",
   "metadata": {},
   "outputs": [],
   "source": []
  },
  {
   "cell_type": "markdown",
   "id": "d1277f8b",
   "metadata": {},
   "source": [
    "# merge sort code: part2\n",
    "\n",
    "# the idea:\n",
    "* break lists in half\n",
    "* base case is when the len(list) is 1.\n",
    "* use merge() to put lists together.\n",
    "\n",
    "\n",
    "# when to use recurssion:\n",
    "* when the problem is repeated over and over.\n",
    "* when the problem has a beginnning(base case) and an end.\n",
    "* when the problem gets smaller and smaller with every iteration. \n",
    "*  eg factorial,fibonacci, etc."
   ]
  },
  {
   "cell_type": "code",
   "execution_count": 4,
   "id": "04849b3d",
   "metadata": {},
   "outputs": [],
   "source": [
    "def merge_sort(lis):\n",
    "    \n",
    "    # the base case is break the list to the size 1\n",
    "    if len(lis) == 1:\n",
    "        return lis\n",
    "    \n",
    "    # find the middle of the lis(this is the balance striker)\n",
    "    mid_index = int(len(lis)/2)\n",
    "    \n",
    "    # left of the lis and right of the lis in recurssion(being broken as long as it is not size 1)\n",
    "    left =  merge_sort(lis[:mid_index])\n",
    "    right = merge_sort(lis[mid_index:])\n",
    "    \n",
    "    \n",
    "    return merge(left,right)\n",
    "    \n",
    "    \n",
    "   "
   ]
  },
  {
   "cell_type": "code",
   "execution_count": 12,
   "id": "1926ee21",
   "metadata": {},
   "outputs": [
    {
     "data": {
      "text/plain": [
       "[1, 3, 7, 8]"
      ]
     },
     "execution_count": 12,
     "metadata": {},
     "output_type": "execute_result"
    }
   ],
   "source": [
    "merge_sort([8,1,3,7])"
   ]
  },
  {
   "cell_type": "markdown",
   "id": "27220400",
   "metadata": {},
   "source": [
    "# explanation,analysis and freethrows\n",
    "\n",
    "\n",
    "* left delivered 8 first and 1 next.(one element at a time)\n",
    "* merge flipped left = [8,1] to left = [1,8]\n",
    "\n",
    "\n",
    "\n",
    "* right delivered 3 first and 7 second\n",
    "* merge flipped right = [3,7] to right = [3,7]\n",
    "\n",
    "\n",
    "\n",
    "* left and right were delivered to merge ([1,8],[3,7])\n",
    "* merge returned ([1,3,7,8])\n",
    "\n",
    "\n",
    "\n",
    "# the difference between merge sort and other sorting algorithms:\n",
    "\n",
    "* other sorting algorithms such bubble_sort,selection_sort, insertion_sort sorts and returns the same list that means the original list changes to the sorted list at the end. \n",
    "\n",
    "\n",
    "\n",
    "* in merge_sort the original list remains the same the returned list from merge_sort is going to be a different list. it is because we supply an empty list known as merged=[] inside. "
   ]
  },
  {
   "cell_type": "code",
   "execution_count": 17,
   "id": "e1905e6f",
   "metadata": {},
   "outputs": [
    {
     "data": {
      "text/plain": [
       "2"
      ]
     },
     "execution_count": 17,
     "metadata": {},
     "output_type": "execute_result"
    }
   ],
   "source": [
    "lis = [1,2,3,4]\n",
    "\n",
    "middle_point = int(len(lis)/2)\n",
    "middle_point"
   ]
  },
  {
   "cell_type": "code",
   "execution_count": 18,
   "id": "107cd26f",
   "metadata": {},
   "outputs": [
    {
     "data": {
      "text/plain": [
       "1"
      ]
     },
     "execution_count": 18,
     "metadata": {},
     "output_type": "execute_result"
    }
   ],
   "source": [
    "lis = [1,2,3]\n",
    "middle_point = int(len(lis)/2)\n",
    "\n",
    "middle_point"
   ]
  },
  {
   "cell_type": "markdown",
   "id": "c7d8b7a2",
   "metadata": {},
   "source": [
    "# big O:\n",
    "\n",
    "* insertion_sort,selection_sort and bubble_sort are all O(n^2)\n",
    "* merge sort is O(n log(n))\n",
    "* merge sort is more efficient and less time consuming than insertion_sort,bubble_sort and selection_sort\n",
    "* merge sort is the most efficient sorting algorithm for sorting different types of data.There might be other sorting algos sorting more efficiently than merge_sort but the constraint on them is they can only sort one type of data a list of all numbers or a list of all texts but merge_sort can handle all types of data.\n"
   ]
  },
  {
   "cell_type": "code",
   "execution_count": 8,
   "id": "b41f3634",
   "metadata": {},
   "outputs": [
    {
     "data": {
      "text/plain": [
       "['1', '3', '8']"
      ]
     },
     "execution_count": 8,
     "metadata": {},
     "output_type": "execute_result"
    }
   ],
   "source": [
    "merge_sort(['1','8','3'])"
   ]
  },
  {
   "cell_type": "code",
   "execution_count": 10,
   "id": "a4b9ba26-c0e5-4044-9ae6-23e4d7234004",
   "metadata": {},
   "outputs": [
    {
     "data": {
      "text/plain": [
       "['E', 'E', 'G', 'G', 'O', 'R']"
      ]
     },
     "execution_count": 10,
     "metadata": {},
     "output_type": "execute_result"
    }
   ],
   "source": [
    "merge_sort(('G','E','O','R','G','E'))"
   ]
  },
  {
   "cell_type": "markdown",
   "id": "176783b4",
   "metadata": {},
   "source": [
    "# day 185,day 186"
   ]
  },
  {
   "cell_type": "markdown",
   "id": "95b1aaa2",
   "metadata": {},
   "source": [
    "# merging linked_lists"
   ]
  },
  {
   "cell_type": "code",
   "execution_count": 59,
   "id": "9d8e1323",
   "metadata": {},
   "outputs": [
    {
     "name": "stdout",
     "output_type": "stream",
     "text": [
      "printing list 1: \n",
      "1\n",
      "3\n",
      "5\n",
      "----------------\n",
      "printing list 2: \n",
      "2\n",
      "4\n",
      "6\n",
      "8\n",
      "----------------\n",
      "1\n",
      "2\n",
      "3\n",
      "4\n",
      "5\n",
      "6\n",
      "8\n"
     ]
    }
   ],
   "source": [
    "class Node:\n",
    "    def __init__(self,value):\n",
    "        self.value = value\n",
    "        self.next = None\n",
    "        \n",
    "        \n",
    "\n",
    "\n",
    "class LinkedList:\n",
    "    def __init__(self,value):\n",
    "        new_node = Node(value)\n",
    "        \n",
    "        self.head = new_node\n",
    "        self.tail = new_node\n",
    "        self.length = 1\n",
    "        \n",
    "    def append(self,value):\n",
    "        \n",
    "        new_node = Node(value)\n",
    "        \n",
    "        if self.head is None:\n",
    "            self.head = new_node\n",
    "            self.tail = new_node\n",
    "            \n",
    "        else:\n",
    "            self.tail.next = new_node\n",
    "            self.tail = new_node\n",
    "            \n",
    "        self.length += 1\n",
    "        \n",
    "    def print_list(self):\n",
    "        \n",
    "        \n",
    "        if self.head is None:\n",
    "            return None\n",
    "        \n",
    "        temp = self.head\n",
    "        \n",
    "        while temp is not None:\n",
    "            \n",
    "            print(temp.value)\n",
    "            temp = temp.next\n",
    "            \n",
    "            \n",
    "    def merge(self,other_list):\n",
    "        \n",
    "        other_head = other_list.head\n",
    "        \n",
    "        # this is no ordinary node. you can assign anything to merge.next including a linked_list,or value or anything.\n",
    "        merge = Node(0)\n",
    "        current = merge\n",
    "        \n",
    "        while self.head is not None and other_head is not None:\n",
    "            \n",
    "            if self.head.value < other_head.value:\n",
    "                current.next = self.head\n",
    "                self.head = self.head.next\n",
    "                \n",
    "                \n",
    "            else:\n",
    "                current.next = other_head\n",
    "                other_head = other_head.next\n",
    "                \n",
    "                \n",
    "            current = current.next\n",
    "            \n",
    "        if self.head is not None:\n",
    "            current.next = self.head\n",
    "            \n",
    "        if other_head is not None:\n",
    "            current.next = other_head\n",
    "            self.tail = other_list.tail\n",
    "            \n",
    "            \n",
    "        # # Set the head of the merged list to the next node after the dummy node\n",
    "        # current updates the merge!\n",
    "        self.head = merge.next\n",
    "            \n",
    "        self.length = self.length + other_list.length\n",
    "            \n",
    "            \n",
    "        \n",
    "        \n",
    "        \n",
    "l1 = LinkedList(1)\n",
    "l1.append(3)\n",
    "l1.append(5)\n",
    "\n",
    "l2 = LinkedList(2)\n",
    "l2.append(4)\n",
    "l2.append(6)\n",
    "l2.append(8)\n",
    "\n",
    "print('printing list 1: ')\n",
    "l1.print_list()\n",
    "print('----------------')\n",
    "print('printing list 2: ')\n",
    "l2.print_list()\n",
    "\n",
    "print('----------------')\n",
    "l1.merge(l2)\n",
    "l1.print_list()\n",
    "        \n",
    "            \n",
    "            \n",
    "            "
   ]
  },
  {
   "cell_type": "markdown",
   "id": "7bc80497",
   "metadata": {},
   "source": [
    "# explanation:\n",
    "\n",
    "* merge is a node with next None\n",
    "* current updates merge.\n",
    "* current = merge and current began storing numbers from current.next so, the updated list must start from merge.next so,it is right to set self.head to merge.next.\n",
    "* the important thing to take away from this lesson is Node.next has the power to store an entire list, that's cool isn't it?"
   ]
  },
  {
   "cell_type": "code",
   "execution_count": null,
   "id": "aff28902",
   "metadata": {},
   "outputs": [],
   "source": []
  }
 ],
 "metadata": {
  "kernelspec": {
   "display_name": "Python 3 (ipykernel)",
   "language": "python",
   "name": "python3"
  },
  "language_info": {
   "codemirror_mode": {
    "name": "ipython",
    "version": 3
   },
   "file_extension": ".py",
   "mimetype": "text/x-python",
   "name": "python",
   "nbconvert_exporter": "python",
   "pygments_lexer": "ipython3",
   "version": "3.12.4"
  }
 },
 "nbformat": 4,
 "nbformat_minor": 5
}
