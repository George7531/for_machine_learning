version https://git-lfs.github.com/spec/v1
oid sha256:ffa95c569c200eb598fb5d88d9155c2af2f24ebd866139e6314fd496ce18969e
size 13243
