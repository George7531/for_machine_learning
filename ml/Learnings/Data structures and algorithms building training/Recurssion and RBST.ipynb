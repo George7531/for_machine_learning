version https://git-lfs.github.com/spec/v1
oid sha256:e8b4bf0dee55f01fe0c9e6b76cabcef40914869a964223cd9d7b8a3621112be2
size 39803
