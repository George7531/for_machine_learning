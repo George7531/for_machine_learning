{
 "cells": [
  {
   "cell_type": "markdown",
   "id": "a0ddae08",
   "metadata": {},
   "source": [
    "# day 74"
   ]
  },
  {
   "cell_type": "markdown",
   "id": "2c36b408",
   "metadata": {},
   "source": [
    "# stacks"
   ]
  },
  {
   "cell_type": "markdown",
   "id": "c270ed2d-7210-4040-99b4-12eb6264ff5b",
   "metadata": {},
   "source": [
    "![sfsdf](stack_from_gemini.jpg)"
   ]
  },
  {
   "cell_type": "markdown",
   "id": "36ff2694",
   "metadata": {},
   "source": [
    "# constructor"
   ]
  },
  {
   "cell_type": "code",
   "execution_count": 2,
   "id": "77abc6cc",
   "metadata": {},
   "outputs": [
    {
     "name": "stdout",
     "output_type": "stream",
     "text": [
      "1\n"
     ]
    }
   ],
   "source": [
    "class Node:\n",
    "    def __init__(self,value):\n",
    "        \n",
    "        self.value = value\n",
    "        self.next = None\n",
    "        \n",
    "class stack:\n",
    "    def __init__(self,value):\n",
    "        new_node = Node(value)\n",
    "        self.top = new_node\n",
    "        self.height = 1\n",
    "        \n",
    "    def print_stack(self):\n",
    "        temp = self.top\n",
    "        \n",
    "        while temp is not None:\n",
    "            print(temp.value)\n",
    "            \n",
    "            temp = temp.next\n",
    "            \n",
    "            \n",
    "st = stack(1)\n",
    "st.print_stack()"
   ]
  },
  {
   "cell_type": "markdown",
   "id": "c28fcc06",
   "metadata": {},
   "source": [
    "# day 75"
   ]
  },
  {
   "cell_type": "markdown",
   "id": "c2a9e4b6",
   "metadata": {},
   "source": [
    "# push"
   ]
  },
  {
   "cell_type": "code",
   "execution_count": 4,
   "id": "227d754e",
   "metadata": {},
   "outputs": [
    {
     "name": "stdout",
     "output_type": "stream",
     "text": [
      "Before Pushing any number\n",
      "1\n",
      " \n",
      "After Pushing some number(s)\n",
      "0\n",
      "1\n"
     ]
    }
   ],
   "source": [
    "class Node:\n",
    "    def __init__(self,value):\n",
    "        self.value = value\n",
    "        self.next = None\n",
    "        \n",
    "class Stack:\n",
    "    def __init__(self,value):\n",
    "        new_node = Node(value)\n",
    "        self.top = new_node\n",
    "        self.height = 1\n",
    "        \n",
    "    def print_list(self):\n",
    "        temp = self.top\n",
    "        \n",
    "        while temp is not None:\n",
    "            print(temp.value)\n",
    "            temp = temp.next\n",
    "            \n",
    "    def push(self,value):\n",
    "        new_node = Node(value)\n",
    "        \n",
    "        if self.top is None:\n",
    "            self.top = new_node\n",
    "            \n",
    "        else:\n",
    "        \n",
    "            temp = self.top\n",
    "            self.top = new_node\n",
    "            self.top.next = temp\n",
    "            self.height += 1\n",
    "            \n",
    "st = Stack(1)\n",
    "\n",
    "print('Before Pushing any number')\n",
    "st.print_list()\n",
    "\n",
    "print(' ')\n",
    "print('After Pushing some number(s)')\n",
    "st.push(0)\n",
    "st.print_list()"
   ]
  },
  {
   "cell_type": "markdown",
   "id": "0a24f88e",
   "metadata": {},
   "source": [
    "# pop"
   ]
  },
  {
   "cell_type": "code",
   "execution_count": 3,
   "id": "17548486",
   "metadata": {},
   "outputs": [
    {
     "name": "stdout",
     "output_type": "stream",
     "text": [
      "Before popping\n",
      "-3\n",
      "-2\n",
      "-1\n",
      "0\n",
      "1\n",
      " \n",
      "After popping\n",
      "-2\n",
      "-1\n",
      "0\n",
      "1\n"
     ]
    }
   ],
   "source": [
    "class Node:\n",
    "    def __init__(self,value):\n",
    "        self.value = value\n",
    "        self.next = None\n",
    "        \n",
    "class Stack:\n",
    "    def __init__(self,value):\n",
    "        new_node = Node(value)\n",
    "        self.top = new_node\n",
    "        self.height = 1\n",
    "        \n",
    "    def print_list(self):\n",
    "        temp = self.top\n",
    "        \n",
    "        while temp is not None:\n",
    "            print(temp.value)\n",
    "            temp = temp.next\n",
    "            \n",
    "    def push(self,value):\n",
    "        new_node = Node(value)\n",
    "        \n",
    "        if self.top is None:\n",
    "            self.top = new_node\n",
    "            \n",
    "        else:\n",
    "        \n",
    "            temp = self.top\n",
    "            self.top = new_node\n",
    "            self.top.next = temp\n",
    "            self.height += 1\n",
    "            \n",
    "            \n",
    "    def pop(self):\n",
    "        if self.top is None:\n",
    "            return None\n",
    "        \n",
    "        else:\n",
    "            temp = self.top\n",
    "            self.top = temp.next\n",
    "            temp.next = None\n",
    "            self.height -= 1\n",
    "\n",
    "            \n",
    "st = Stack(1)\n",
    "st.push(0)\n",
    "st.push(-1)\n",
    "st.push(-2)\n",
    "st.push(-3)\n",
    "\n",
    "print('Before popping')\n",
    "st.print_list()\n",
    "\n",
    "print(' ')\n",
    "\n",
    "print('After popping')\n",
    "st.pop()\n",
    "st.print_list()"
   ]
  },
  {
   "cell_type": "markdown",
   "id": "725887ed",
   "metadata": {},
   "source": [
    "# day 76"
   ]
  },
  {
   "cell_type": "markdown",
   "id": "4110aa10",
   "metadata": {},
   "source": [
    "# queue"
   ]
  },
  {
   "cell_type": "markdown",
   "id": "4cc61d1c",
   "metadata": {},
   "source": [
    "# constructor"
   ]
  },
  {
   "cell_type": "code",
   "execution_count": 2,
   "id": "ac5106e0",
   "metadata": {},
   "outputs": [
    {
     "name": "stdout",
     "output_type": "stream",
     "text": [
      "1\n"
     ]
    }
   ],
   "source": [
    "class Node:\n",
    "    def __init__(self,value):\n",
    "        self.value = value\n",
    "        self.next = None\n",
    "        \n",
    "\n",
    "class queue:\n",
    "    def __init__(self,value):\n",
    "        new_node = Node(value)\n",
    "        self.first = new_node\n",
    "        self.last = new_node\n",
    "        self.length = 1\n",
    "        \n",
    "    def print_queue(self):\n",
    "        temp = self.first\n",
    "        \n",
    "        while temp is not None:\n",
    "            print(temp.value)\n",
    "            \n",
    "            temp = temp.next\n",
    "        \n",
    "        \n",
    "        \n",
    "        \n",
    "q = queue(1)\n",
    "\n",
    "q.print_queue()"
   ]
  },
  {
   "cell_type": "markdown",
   "id": "4a9ddccb",
   "metadata": {},
   "source": [
    "# queue Enqueue\n",
    "\n",
    "* Adding in a queue\n",
    "\n",
    "* Add at the end. Remove at first. that's queue."
   ]
  },
  {
   "cell_type": "code",
   "execution_count": 4,
   "id": "1507cbcd",
   "metadata": {},
   "outputs": [
    {
     "name": "stdout",
     "output_type": "stream",
     "text": [
      "1\n",
      "2\n",
      "3\n",
      "4\n"
     ]
    }
   ],
   "source": [
    "class Node:\n",
    "    def __init__(self,value):\n",
    "        self.value = value\n",
    "        self.next = None\n",
    "        \n",
    "class queue:\n",
    "    def __init__(self,value):\n",
    "        new_node = Node(value)\n",
    "        self.first = new_node\n",
    "        self.last = new_node\n",
    "        self.length = 1\n",
    "        \n",
    "    def print_queue(self):\n",
    "        temp = self.first \n",
    "        \n",
    "        while temp is not None:\n",
    "            print(temp.value)\n",
    "            temp = temp.next\n",
    "            \n",
    "    def enqueue(self,value):\n",
    "        new_node = Node(value)\n",
    "        \n",
    "        if self.first is None:\n",
    "            self.first = new_node\n",
    "            self.last = new_node\n",
    "            \n",
    "        else:\n",
    "            self.last.next = new_node\n",
    "            self.last = new_node\n",
    "            \n",
    "        self.length += 1\n",
    "        \n",
    "q = queue(1)\n",
    "q.enqueue(2)\n",
    "q.enqueue(3)\n",
    "q.enqueue(4)\n",
    "\n",
    "q.print_queue()"
   ]
  },
  {
   "cell_type": "markdown",
   "id": "5897f5a7",
   "metadata": {},
   "source": [
    "# queue Dequeue\n",
    "\n",
    "* Removing from a queue\n",
    "* Add at the end and remove at first. that's queue. "
   ]
  },
  {
   "cell_type": "code",
   "execution_count": 7,
   "id": "d1f08b1a",
   "metadata": {},
   "outputs": [
    {
     "name": "stdout",
     "output_type": "stream",
     "text": [
      "Before dequeuing\n",
      "1\n",
      "2\n",
      "3\n",
      "4\n",
      " \n",
      "After dequeuing\n",
      "2\n",
      "3\n",
      "4\n"
     ]
    }
   ],
   "source": [
    "class Node:\n",
    "    def __init__(self,value):\n",
    "        self.value = value\n",
    "        self.next = None\n",
    "        \n",
    "class queue:\n",
    "    def __init__(self,value):\n",
    "        new_node = Node(value)\n",
    "        self.first = new_node\n",
    "        self.last = new_node\n",
    "        self.length = 1\n",
    "        \n",
    "    def print_queue(self):\n",
    "        temp = self.first \n",
    "        \n",
    "        while temp is not None:\n",
    "            print(temp.value)\n",
    "            temp = temp.next\n",
    "            \n",
    "    def enqueue(self,value):\n",
    "        new_node = Node(value)\n",
    "        \n",
    "        if self.first is None:\n",
    "            self.first = new_node\n",
    "            self.last = new_node\n",
    "            \n",
    "        else:\n",
    "            self.last.next = new_node\n",
    "            self.last = new_node\n",
    "            \n",
    "        self.length += 1\n",
    "        \n",
    "    def dequeue(self):\n",
    "        if self.length == 0:\n",
    "            return None\n",
    "        \n",
    "        elif self.length == 1:\n",
    "            self.first = None\n",
    "            self.last = None\n",
    "        \n",
    "        else:\n",
    "            temp = self.first\n",
    "            self.first = temp.next\n",
    "            temp.next = None\n",
    "        self.length -= 1\n",
    "        \n",
    "q = queue(1)\n",
    "q.enqueue(2)\n",
    "q.enqueue(3)\n",
    "q.enqueue(4)\n",
    "\n",
    "print('Before dequeuing')\n",
    "q.print_queue()\n",
    "\n",
    "print(' ')\n",
    "print('After dequeuing')\n",
    "q.dequeue()\n",
    "q.print_queue()"
   ]
  },
  {
   "cell_type": "markdown",
   "id": "7a51976b",
   "metadata": {},
   "source": [
    "# day 78"
   ]
  },
  {
   "cell_type": "markdown",
   "id": "908d6f0a",
   "metadata": {},
   "source": [
    "# interview questions"
   ]
  },
  {
   "cell_type": "code",
   "execution_count": null,
   "id": "3c2712c6",
   "metadata": {},
   "outputs": [],
   "source": []
  },
  {
   "cell_type": "markdown",
   "id": "bb147ae4",
   "metadata": {},
   "source": [
    "# implement stack as a list "
   ]
  },
  {
   "cell_type": "code",
   "execution_count": 25,
   "id": "316ce481",
   "metadata": {},
   "outputs": [
    {
     "name": "stdout",
     "output_type": "stream",
     "text": [
      "3\n",
      "2\n",
      "1\n",
      " \n",
      "After popping\n",
      "2\n",
      "1\n"
     ]
    }
   ],
   "source": [
    "class Stack:\n",
    "    def __init__(self):\n",
    "        self.stack_list = []\n",
    "        \n",
    "    def print_stack(self):\n",
    "        for i in range(len(self.stack_list)-1, -1, -1):\n",
    "            print(self.stack_list[i])\n",
    "            \n",
    "            \n",
    "    def is_empty(self):\n",
    "        if len(self.stack_list) == 0:\n",
    "            return True\n",
    "        \n",
    "        else: \n",
    "            return False\n",
    "            \n",
    "    def push(self,value):\n",
    "        self.stack_list.append(value)\n",
    "        \n",
    "        \n",
    "    def pop(self):\n",
    "        if self.is_empty():\n",
    "            return None\n",
    "        \n",
    "        else:\n",
    "            self.stack_list.pop()\n",
    "            \n",
    "\n",
    "    \n",
    "        \n",
    "\n",
    "st = Stack()\n",
    "st.push(1)\n",
    "st.push(2)\n",
    "st.push(3)\n",
    "st.print_stack()\n",
    "\n",
    "print(' ')\n",
    "print('After popping')\n",
    "st.pop()\n",
    "st.print_stack()"
   ]
  },
  {
   "cell_type": "code",
   "execution_count": 20,
   "id": "52bba52f",
   "metadata": {},
   "outputs": [
    {
     "name": "stdout",
     "output_type": "stream",
     "text": [
      "2\n",
      "1\n"
     ]
    }
   ],
   "source": [
    "a = []\n",
    "a.append(1)\n",
    "a.append(2)\n",
    "a.append(3)\n",
    "a.pop()\n",
    "\n",
    "for i in range(len(a)-1,-1,-1):\n",
    "    print(a[i])"
   ]
  },
  {
   "cell_type": "markdown",
   "id": "35d3e9cd",
   "metadata": {},
   "source": [
    "# Check if a string of parentheses is balanced."
   ]
  },
  {
   "cell_type": "markdown",
   "id": "1eccc8a4",
   "metadata": {},
   "source": [
    "* goal\n",
    "\n",
    "* Your program should take a string of parentheses as input and return True if it is balanced, or False if it is not. In order to solve this problem, use a Stack data structure.\n",
    "\n",
    "* Function name:\n",
    "is_balanced_parentheses\n",
    "\n",
    "Remember: this is not a method within the Stack class, this is a separate function.\n",
    "\n"
   ]
  },
  {
   "cell_type": "markdown",
   "id": "0f01270c",
   "metadata": {},
   "source": [
    "# following the hints\n",
    "\n",
    "* iterate through the string and whenever you encounter a open parenthesis push it to the stack.\n",
    "\n",
    "* whenever you encounter a closing parenthesis pop the top element off the stack and compare it with the closing parenthesis. if they match,continue iterating through the list. if everything matches then we have a balanced parentheses otherwise not. "
   ]
  },
  {
   "cell_type": "markdown",
   "id": "70cf7714",
   "metadata": {},
   "source": [
    "# iterating through the string of parentheses."
   ]
  },
  {
   "cell_type": "markdown",
   "id": "423641a1",
   "metadata": {},
   "source": [
    "# pushing the open parenthesis to a stack."
   ]
  },
  {
   "cell_type": "markdown",
   "id": "ac852462",
   "metadata": {},
   "source": [
    "# whenever encountering closing parenthesis popping the top element off and matching "
   ]
  },
  {
   "cell_type": "markdown",
   "id": "d8a68e51",
   "metadata": {},
   "source": [
    "# if the stack length is zero at the end then the parantheses balance otherwise not"
   ]
  },
  {
   "cell_type": "code",
   "execution_count": 30,
   "id": "aa2e19f7",
   "metadata": {},
   "outputs": [
    {
     "data": {
      "text/plain": [
       "True"
      ]
     },
     "execution_count": 30,
     "metadata": {},
     "output_type": "execute_result"
    }
   ],
   "source": [
    "class Stack:\n",
    "    def __init__(self):\n",
    "        self.stack_list = []\n",
    "\n",
    "    def print_stack(self):\n",
    "        for i in range(len(self.stack_list)-1, -1, -1):\n",
    "            print(self.stack_list[i])\n",
    "\n",
    "    def is_empty(self):\n",
    "        return len(self.stack_list) == 0\n",
    "\n",
    "    def peek(self):\n",
    "        if self.is_empty():\n",
    "            return None\n",
    "        else:\n",
    "            return self.stack_list[-1]\n",
    "\n",
    "    def size(self):\n",
    "        return len(self.stack_list)\n",
    "\n",
    "    def push(self, value):\n",
    "        self.stack_list.append(value)\n",
    "\n",
    "    def pop(self):\n",
    "        if self.is_empty():\n",
    "            return None\n",
    "        else:\n",
    "            return self.stack_list.pop()\n",
    "        \n",
    "\n",
    "           \n",
    "st = Stack()\n",
    "\n",
    "\n",
    "def is_balanced_parentheses(parentheses):\n",
    "\n",
    "    for i in parentheses:\n",
    "        if i == '(':\n",
    "            st.push(i)\n",
    "\n",
    "        elif i == ')':\n",
    "            if st.is_empty() or st.pop() != '(':\n",
    "                return False\n",
    "            \n",
    "\n",
    "    if st.size() == 0:\n",
    "        return True\n",
    "\n",
    "    else:\n",
    "        return False\n",
    "        \n",
    "parentheses = '((((()))))'\n",
    "is_balanced_parentheses(parentheses)\n",
    "\n",
    "\n",
    "\n",
    "\n"
   ]
  },
  {
   "cell_type": "markdown",
   "id": "5fb69dd9",
   "metadata": {},
   "source": [
    "# final program"
   ]
  },
  {
   "cell_type": "code",
   "execution_count": 32,
   "id": "3b1800ad",
   "metadata": {},
   "outputs": [
    {
     "data": {
      "text/plain": [
       "False"
      ]
     },
     "execution_count": 32,
     "metadata": {},
     "output_type": "execute_result"
    }
   ],
   "source": [
    "class Stack:\n",
    "    def __init__(self):\n",
    "        self.stack_list = []\n",
    "\n",
    "    def print_stack(self):\n",
    "        for i in range(len(self.stack_list)-1, -1, -1):\n",
    "            print(self.stack_list[i])\n",
    "\n",
    "    def is_empty(self):\n",
    "        return len(self.stack_list) == 0\n",
    "\n",
    "    def peek(self):\n",
    "        if self.is_empty():\n",
    "            return None\n",
    "        else:\n",
    "            return self.stack_list[-1]\n",
    "\n",
    "    def size(self):\n",
    "        return len(self.stack_list)\n",
    "\n",
    "    def push(self, value):\n",
    "        self.stack_list.append(value)\n",
    "\n",
    "    def pop(self):\n",
    "        if self.is_empty():\n",
    "            return None\n",
    "        else:\n",
    "            return self.stack_list.pop()\n",
    "        \n",
    "\n",
    "\n",
    "    \n",
    "            \n",
    "st = Stack()\n",
    "def is_balanced_parentheses(parentheses):\n",
    "\n",
    "    for i in parentheses:\n",
    "        if i == '(':\n",
    "            st.push(i)\n",
    "\n",
    "        elif i == ')':\n",
    "            if st.is_empty() or st.pop() != '(':\n",
    "                return False\n",
    "            \n",
    "\n",
    "    if st.size() == 0:\n",
    "        return True\n",
    "\n",
    "    else:\n",
    "        return False\n",
    "        \n",
    "parentheses = '((())))'\n",
    "\n",
    "is_balanced_parentheses(parentheses)\n",
    "\n",
    "\n"
   ]
  },
  {
   "cell_type": "code",
   "execution_count": null,
   "id": "3775a734",
   "metadata": {},
   "outputs": [],
   "source": []
  },
  {
   "cell_type": "markdown",
   "id": "fcc946a2",
   "metadata": {},
   "source": [
    "# day 81"
   ]
  },
  {
   "cell_type": "markdown",
   "id": "53da732c",
   "metadata": {},
   "source": [
    "# stack reverse string:"
   ]
  },
  {
   "cell_type": "code",
   "execution_count": 32,
   "id": "b8fbfc25",
   "metadata": {},
   "outputs": [
    {
     "data": {
      "text/plain": [
       "'idnuk'"
      ]
     },
     "execution_count": 32,
     "metadata": {},
     "output_type": "execute_result"
    }
   ],
   "source": [
    "class Stack:\n",
    "    def __init__(self):\n",
    "        self.stack_list = []\n",
    "\n",
    "    def print_stack(self):\n",
    "        for i in range(len(self.stack_list)-1, -1, -1):\n",
    "            print(self.stack_list[i])\n",
    "\n",
    "    def is_empty(self):\n",
    "        return len(self.stack_list) == 0\n",
    "\n",
    "    def peek(self):\n",
    "        if self.is_empty():\n",
    "            return None\n",
    "        else:\n",
    "            return self.stack_list[-1]\n",
    "\n",
    "    def size(self):\n",
    "        return len(self.stack_list)\n",
    "\n",
    "    def push(self, value):\n",
    "        self.stack_list.append(value)\n",
    "\n",
    "    def pop(self):\n",
    "        if self.is_empty():\n",
    "            return None\n",
    "        else:\n",
    "            return self.stack_list.pop()\n",
    "        \n",
    "st = Stack()\n",
    "\n",
    "def reverse_string(string):\n",
    "    \n",
    "    string = str(string)\n",
    "    ini = ''\n",
    "    for i in string:\n",
    "        st.push(i)\n",
    "        \n",
    "        \n",
    "    for _ in range(len(string)):\n",
    "        ini = ini + st.pop()\n",
    "        \n",
    "        \n",
    "    return ini\n",
    "        \n",
    "        \n",
    "    \n",
    "\n",
    "\n",
    "\n",
    "reverse_string('kundi')"
   ]
  },
  {
   "cell_type": "markdown",
   "id": "e1c308bb",
   "metadata": {},
   "source": [
    "# add a string with previously joint strings"
   ]
  },
  {
   "cell_type": "code",
   "execution_count": 24,
   "id": "a48993bc",
   "metadata": {},
   "outputs": [
    {
     "data": {
      "text/plain": [
       "'idnuk'"
      ]
     },
     "execution_count": 24,
     "metadata": {},
     "output_type": "execute_result"
    }
   ],
   "source": [
    "string = 'idnuk'\n",
    "\n",
    "ini = ''\n",
    "\n",
    "for i in range(len(string)):\n",
    "    ini = ini + string[i]\n",
    "    \n",
    "ini\n",
    "    \n",
    "\n"
   ]
  },
  {
   "cell_type": "markdown",
   "id": "6eaaff44",
   "metadata": {},
   "source": [
    "# day 82"
   ]
  },
  {
   "cell_type": "markdown",
   "id": "303993d1",
   "metadata": {},
   "source": [
    "# sorted_stack.\n",
    "\n",
    "Stack: Sort Stack ( ** Interview Question)\r\n",
    "The sort_stack function takes a single argument, a Stack object.  The function should sort the elements in the stack in ascending order (the lowest value will be at the top of the stack) using only one additional stack. \r\n",
    "\r\n",
    "The function should use the pop, push, peek, and is_empty methods of the Stack object.\r\n",
    "\r\n",
    "Note: This is a new function, not a method within the Stack class. So, your indent should be all the way to the LEFT.\r\n",
    "\r\n",
    "This will use the Stack class we created in these coding exerci![example picture 1: ](stack-sorting.svg)ses:\r\n",
    "\r\n",
    "\n",
    "\n",
    "\n",
    "# goal\n",
    "\n",
    "* create a function named sorted_stack.\n",
    "\n",
    "* while the input stack is not empty:\n",
    "1) pop the top element from the input stack and store it in a variable named temp\n",
    "2) while the sorted_stack is not empty and the top element in sorted_stack is greater than the temp push it back on to the input stack\n",
    "3) push the temp variable onto the sorted_stack \n",
    "4) come outside the loop\n",
    "5) once the input stack is empty transfer the elements from the sorted_stack to the input_stack. to do this first write while the sorted_stack is not empty pop the top element and push it onto to the input stack."
   ]
  },
  {
   "cell_type": "code",
   "execution_count": 10,
   "id": "7f638249-27e4-4c6f-b397-5a60cdea2736",
   "metadata": {},
   "outputs": [
    {
     "data": {
      "text/plain": [
       "[1, 3, 5, 7, 9]"
      ]
     },
     "execution_count": 10,
     "metadata": {},
     "output_type": "execute_result"
    }
   ],
   "source": [
    "a = [7,3,9,1,5]\n",
    "\n",
    "for i in range(len(a)):\n",
    "    for j in range(i+1,len(a)):\n",
    "        if a[j] < a[i]:\n",
    "            a[i],a[j] = a[j],a[i]\n",
    "a"
   ]
  },
  {
   "cell_type": "code",
   "execution_count": 2,
   "id": "7724df33-0caf-4a36-a4d4-e9d022f3528c",
   "metadata": {},
   "outputs": [
    {
     "data": {
      "image/jpeg": "[encoded data removed]",
      "text/html": [
       "\n",
       "        <iframe\n",
       "            width=\"400\"\n",
       "            height=\"300\"\n",
       "            src=\"https://www.youtube.com/embed/K0XXVSL4wUo\"\n",
       "            frameborder=\"0\"\n",
       "            allowfullscreen\n",
       "            \n",
       "        ></iframe>\n",
       "        "
      ],
      "text/plain": [
       "<IPython.lib.display.YouTubeVideo at 0x236ba5ea3f0>"
      ]
     },
     "execution_count": 2,
     "metadata": {},
     "output_type": "execute_result"
    }
   ],
   "source": [
    "# video help to understand or to visualize.\n",
    "from IPython.display import YouTubeVideo\n",
    "YouTubeVideo(id='K0XXVSL4wUo')"
   ]
  },
  {
   "cell_type": "code",
   "execution_count": 3,
   "id": "b1a581b0",
   "metadata": {},
   "outputs": [
    {
     "name": "stdout",
     "output_type": "stream",
     "text": [
      "1\n",
      "2\n",
      "3\n"
     ]
    }
   ],
   "source": [
    "class Stack:\n",
    "    def __init__(self):\n",
    "        self.stack_list = []\n",
    "        \n",
    "        \n",
    "    def print_stack(self):\n",
    "        for i in range(len(self.stack_list)-1,-1,-1):\n",
    "            print(self.stack_list[i])\n",
    "            \n",
    "            \n",
    "    def push(self,value):\n",
    "        self.stack_list.append(value)\n",
    "        \n",
    "        \n",
    "    def is_empty(self):\n",
    "        return (len(self.stack_list)) == 0\n",
    "    \n",
    "    def pop(self):\n",
    "        if self.is_empty():\n",
    "            return None\n",
    "        else:\n",
    "            return self.stack_list.pop()\n",
    "        \n",
    "    def size(self):\n",
    "        return len(self.stack_list)\n",
    "    \n",
    "    def peek(self):\n",
    "        if self.is_empty():\n",
    "            return None\n",
    "        else:\n",
    "            return self.stack_list[-1]\n",
    "        \n",
    "input_stack = Stack() \n",
    "\n",
    "def sort_stack(input_stack):\n",
    "    sorted_stack = Stack()\n",
    "    \n",
    "    while not input_stack.is_empty():\n",
    "        temp = input_stack.pop()\n",
    "        \n",
    "        while not sorted_stack.is_empty() and sorted_stack.peek() > temp:\n",
    "            input_stack.push(sorted_stack.pop())\n",
    "                \n",
    "                \n",
    "        sorted_stack.push(temp)\n",
    "        \n",
    "        \n",
    "    while not sorted_stack.is_empty():\n",
    "        input_stack.push(sorted_stack.pop())\n",
    "    \n",
    "    \n",
    "            \n",
    "input_stack.push(2)\n",
    "input_stack.push(3)\n",
    "input_stack.push(1)\n",
    "\n",
    "\n",
    "\n",
    "\n",
    "sort_stack(input_stack)\n",
    "input_stack.print_stack()\n"
   ]
  },
  {
   "cell_type": "code",
   "execution_count": 13,
   "id": "3dfcd149-7f2c-4e19-8756-2b5f34830141",
   "metadata": {},
   "outputs": [
    {
     "name": "stdout",
     "output_type": "stream",
     "text": [
      "1\n",
      "2\n",
      "3\n"
     ]
    }
   ],
   "source": [
    "class Stack:\n",
    "    def __init__(self):\n",
    "        self.stack_list = []\n",
    "        \n",
    "        \n",
    "    def print_stack(self):\n",
    "        for i in range(len(self.stack_list)-1,-1,-1):\n",
    "            print(self.stack_list[i])\n",
    "            \n",
    "            \n",
    "    def push(self,value):\n",
    "        self.stack_list.append(value)\n",
    "        \n",
    "        \n",
    "    def is_empty(self):\n",
    "        return (len(self.stack_list)) == 0\n",
    "    \n",
    "    def pop(self):\n",
    "        if self.is_empty():\n",
    "            return None\n",
    "        else:\n",
    "            return self.stack_list.pop()\n",
    "        \n",
    "    def size(self):\n",
    "        return len(self.stack_list)\n",
    "    \n",
    "    def peek(self):\n",
    "        if self.is_empty():\n",
    "            return None\n",
    "        else:\n",
    "            return self.stack_list[-1]\n",
    "        \n",
    "input_stack = Stack() \n",
    "\n",
    "def sort_stack(input_stack):\n",
    "    sorted_stack = Stack()\n",
    "    \n",
    "    while not input_stack.is_empty():\n",
    "        temp = input_stack.pop()\n",
    "        \n",
    "        while not sorted_stack.is_empty() and sorted_stack.peek() > temp: \n",
    "                input_stack.push(sorted_stack.pop())\n",
    "            \n",
    "        sorted_stack.push(temp)\n",
    "                \n",
    "                \n",
    "        \n",
    "        \n",
    "        \n",
    "    while not sorted_stack.is_empty():\n",
    "        input_stack.push(sorted_stack.pop())\n",
    "    \n",
    "    \n",
    "            \n",
    "input_stack.push(2)\n",
    "input_stack.push(3)\n",
    "input_stack.push(1)\n",
    "\n",
    "\n",
    "\n",
    "\n",
    "sort_stack(input_stack)\n",
    "input_stack.print_stack()\n"
   ]
  },
  {
   "cell_type": "code",
   "execution_count": 19,
   "id": "877fdd54",
   "metadata": {},
   "outputs": [
    {
     "name": "stdout",
     "output_type": "stream",
     "text": [
      "[1, 2, 3, 4, 5, 6]\n"
     ]
    }
   ],
   "source": [
    "a = [1,2,3,4,5]\n",
    "\n",
    "a.append(6)\n",
    "print(a)"
   ]
  },
  {
   "cell_type": "code",
   "execution_count": null,
   "id": "29f68ee3",
   "metadata": {},
   "outputs": [],
   "source": [
    "def sort_stack(stack):\n",
    "    additional_stack = Stack()\n",
    " \n",
    "    while not stack.is_empty():\n",
    "        temp = stack.pop()\n",
    " \n",
    "        while not additional_stack.is_empty() and additional_stack.peek() > temp:\n",
    "            stack.push(additional_stack.pop())\n",
    " \n",
    "        additional_stack.push(temp)\n",
    " \n",
    "    while not additional_stack.is_empty():\n",
    "        stack.push(additional_stack.pop())"
   ]
  },
  {
   "cell_type": "markdown",
   "id": "1eccec5a",
   "metadata": {},
   "source": [
    "# day 84"
   ]
  },
  {
   "cell_type": "markdown",
   "id": "79819694",
   "metadata": {},
   "source": [
    "# stack enqueue"
   ]
  },
  {
   "cell_type": "code",
   "execution_count": 1,
   "id": "937c209a-30cd-4c94-9017-015f5075803c",
   "metadata": {},
   "outputs": [
    {
     "data": {
      "image/jpeg": "[encoded data removed]",
      "text/html": [
       "\n",
       "        <iframe\n",
       "            width=\"400\"\n",
       "            height=\"300\"\n",
       "            src=\"https://www.youtube.com/embed/3Et9MrMc02A\"\n",
       "            frameborder=\"0\"\n",
       "            allowfullscreen\n",
       "            \n",
       "        ></iframe>\n",
       "        "
      ],
      "text/plain": [
       "<IPython.lib.display.YouTubeVideo at 0x276f3016840>"
      ]
     },
     "execution_count": 1,
     "metadata": {},
     "output_type": "execute_result"
    }
   ],
   "source": [
    "from IPython.display import YouTubeVideo\n",
    "YouTubeVideo(id='3Et9MrMc02A')"
   ]
  },
  {
   "cell_type": "markdown",
   "id": "7e99432e-02ab-422e-85ce-bf6cc11b78ce",
   "metadata": {},
   "source": [
    "* the first 5 minute into the video explains the concept better!"
   ]
  },
  {
   "cell_type": "code",
   "execution_count": 4,
   "id": "2d3ab068-855a-4a8e-b599-0613b88cb9bd",
   "metadata": {},
   "outputs": [
    {
     "name": "stdout",
     "output_type": "stream",
     "text": [
      "1\n",
      "2\n",
      "3\n"
     ]
    }
   ],
   "source": [
    "class MyQueue:\n",
    "    def __init__(self):\n",
    "        self.stack1 = []\n",
    "        self.stack2 = []\n",
    "        \n",
    "        \n",
    "        \n",
    "    def enqueue(self,value):\n",
    "       \n",
    "        # transferring the elements from stack 1 to stack2\n",
    "        while len(self.stack1) > 0:\n",
    "            self.stack2.append(self.stack1.pop())\n",
    "        \n",
    "        \n",
    "        # appending new elements to stack1\n",
    "        self.stack1.append(value)\n",
    "        \n",
    "        \n",
    "        # transferring the elements from stack2 to stack1\n",
    "        while len(self.stack2) > 0:\n",
    "            self.stack1.append(self.stack2.pop())\n",
    "            \n",
    "        \n",
    "    \n",
    "       \n",
    "    def peek(self):\n",
    "        return self.stack1[-1]\n",
    "\n",
    "    def is_empty(self):\n",
    "        return len(self.stack1) == 0\n",
    "    \n",
    "    def print_stack(self):\n",
    "        \n",
    "        for i in range(len(self.stack1)-1,-1,-1):\n",
    "            print(self.stack1[i])\n",
    "    \n",
    "    \n",
    "    \n",
    "    \n",
    "q = MyQueue()\n",
    "q.enqueue(1)\n",
    "q.enqueue(2)\n",
    "q.enqueue(3)\n",
    "\n",
    "\n",
    "q.print_stack()"
   ]
  },
  {
   "cell_type": "markdown",
   "id": "a8961ada-55ee-4ddd-a650-08132d67bf62",
   "metadata": {},
   "source": [
    "# easy method with less compute\n",
    "* first transfer all the elements to s1.\n",
    "* second transfer all the elements from s1 to s2.\n",
    "* then pop the elements from s2 "
   ]
  },
  {
   "cell_type": "code",
   "execution_count": null,
   "id": "41b6dc9f-dd1c-4573-b303-197e8bf4c648",
   "metadata": {},
   "outputs": [],
   "source": [
    "class MyQueue:\n",
    "    def __init__(self):\n",
    "        self.stack1 = []\n",
    "        self.stack2 = []\n",
    "        \n",
    "        \n",
    "        \n",
    "    def enqueue(self,value):\n",
    "       \n",
    "        # transferring the elements from stack 1 to stack2\n",
    "        while len(self.stack1) > 0:\n",
    "            self.stack2.append(self.stack1.pop())\n",
    "        \n",
    "        \n",
    "        # appending new elements to stack1\n",
    "        self.stack1.append(value)\n",
    "        \n",
    "        \n",
    "        # transferring the elements from stack2 to stack1\n",
    "        while len(self.stack2) > 0:\n",
    "            self.stack1.append(self.stack2.pop())\n",
    "            \n",
    "        \n",
    "    \n",
    "       \n",
    "    def peek(self):\n",
    "        return self.stack1[-1]\n",
    "\n",
    "    def is_empty(self):\n",
    "        return len(self.stack1) == 0\n",
    "    \n",
    "    def print_stack(self):\n",
    "        \n",
    "        for i in range(len(self.stack1)-1,-1,-1):\n",
    "            print(self.stack1[i])\n",
    "    \n",
    "    \n",
    "    \n",
    "    \n",
    "q = MyQueue()\n",
    "q.enqueue(1)\n",
    "q.enqueue(2)\n",
    "q.enqueue(3)\n",
    "\n",
    "\n",
    "q.print_stack()"
   ]
  },
  {
   "cell_type": "markdown",
   "id": "9638bf25",
   "metadata": {},
   "source": [
    "# dequeue using stacks"
   ]
  },
  {
   "cell_type": "code",
   "execution_count": 9,
   "id": "76686fe5",
   "metadata": {},
   "outputs": [
    {
     "data": {
      "text/plain": [
       "1"
      ]
     },
     "execution_count": 9,
     "metadata": {},
     "output_type": "execute_result"
    }
   ],
   "source": [
    "class MyQueue:\n",
    "    def __init__(self):\n",
    "        self.stack1 = []\n",
    "        self.stack2 = []\n",
    "        \n",
    "    \n",
    "    def enqueue(self,value):\n",
    "       \n",
    "        # transferring the elements from stack 1 to stack2\n",
    "        while len(self.stack1) > 0:\n",
    "            self.stack2.append(self.stack1.pop())\n",
    "        \n",
    "        \n",
    "        # appending new elements to stack1\n",
    "        self.stack1.append(value)\n",
    "        \n",
    "        \n",
    "        # transferring the elements from stack2 to stack1\n",
    "        while len(self.stack2) > 0:\n",
    "            self.stack1.append(self.stack2.pop())\n",
    "            \n",
    "        \n",
    "    \n",
    "       \n",
    "    def peek(self):\n",
    "        return self.stack1[-1]\n",
    "\n",
    "    def is_empty(self):\n",
    "        return len(self.stack1) == 0\n",
    "    \n",
    "    def print_stack(self):\n",
    "        \n",
    "        for i in range(len(self.stack1)-1,-1,-1):\n",
    "            print(self.stack1[i])\n",
    "            \n",
    "            \n",
    "    def dequeue(self):\n",
    "        \n",
    "        if len(self.stack1) == 0:\n",
    "            return None\n",
    "        \n",
    "        else:\n",
    "            return (self.stack1.pop())\n",
    "        \n",
    "    \n",
    "    \n",
    "q = MyQueue()\n",
    "q.enqueue(1)\n",
    "q.enqueue(2)\n",
    "q.enqueue(3)\n"
   ]
  },
  {
   "cell_type": "code",
   "execution_count": null,
   "id": "de779257",
   "metadata": {},
   "outputs": [],
   "source": []
  },
  {
   "cell_type": "code",
   "execution_count": null,
   "id": "2cb8957d",
   "metadata": {},
   "outputs": [],
   "source": []
  },
  {
   "cell_type": "code",
   "execution_count": null,
   "id": "046b77c7-f156-4d77-a0c9-a453b1b4074d",
   "metadata": {},
   "outputs": [],
   "source": []
  },
  {
   "cell_type": "code",
   "execution_count": 8,
   "id": "8b0589f8-4279-464f-bb57-9f297ae32401",
   "metadata": {},
   "outputs": [
    {
     "data": {
      "text/plain": [
       "[1, 3, 5, 7, 9]"
      ]
     },
     "execution_count": 8,
     "metadata": {},
     "output_type": "execute_result"
    }
   ],
   "source": []
  },
  {
   "cell_type": "code",
   "execution_count": null,
   "id": "a117eb33-656f-4279-947f-51e746df9b7b",
   "metadata": {},
   "outputs": [],
   "source": []
  }
 ],
 "metadata": {
  "kernelspec": {
   "display_name": "Python 3 (ipykernel)",
   "language": "python",
   "name": "python3"
  },
  "language_info": {
   "codemirror_mode": {
    "name": "ipython",
    "version": 3
   },
   "file_extension": ".py",
   "mimetype": "text/x-python",
   "name": "python",
   "nbconvert_exporter": "python",
   "pygments_lexer": "ipython3",
   "version": "3.12.4"
  }
 },
 "nbformat": 4,
 "nbformat_minor": 5
}
