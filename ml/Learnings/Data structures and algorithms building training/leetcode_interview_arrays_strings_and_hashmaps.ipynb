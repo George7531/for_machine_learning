{
 "cells": [
  {
   "cell_type": "markdown",
   "id": "0e5d76e1",
   "metadata": {},
   "source": [
    "# day 221"
   ]
  },
  {
   "cell_type": "markdown",
   "id": "2fb2d7e5",
   "metadata": {},
   "source": [
    "# merge sort the list in place:\n",
    "\n",
    "you are given two integer arrays nums1 and nums2, sorted in non-decreasing order(ascending order), and two integers m and n, representing the number of elements in nums1 and nums2 respectively.\n",
    "\n",
    "Merge nums1 and nums2 into a single array sorted in non-decreasing order.\n",
    "\n",
    "The final sorted array should not be returned by the function, but instead be stored inside the array nums1. To accommodate this, nums1 has a length of m + n, where the first m elements denote the elements that should be merged, and the last n elements are set to 0 and should be ignored. nums2 has a length of n.\n",
    "\n",
    " \n",
    "\n",
    "Example 1:\n",
    "\n",
    "Input: nums1 = [1,2,3,0,0,0], m = 3, nums2 = [2,5,6], n = 3\n",
    "Output: [1,2,2,3,5,6]\n",
    "Explanation: The arrays we are merging are [1,2,3] and [2,5,6].\n",
    "The result of the merge is [1,2,2,3,5,6] with the underlined elements coming from nums1.\n",
    "Example 2:\n",
    "\n",
    "Input: nums1 = [1], m = 1, nums2 = [], n = 0\n",
    "Output: [1]\n",
    "Explanation: The arrays we are merging are [1] and [].\n",
    "The result of the merge is [1].\n",
    "Example 3:\n",
    "\n",
    "Input: nums1 = [0], m = 0, nums2 = [1], n = 1\n",
    "Output: [1]\n",
    "Explanation: The arrays we are merging are [] and [1].\n",
    "The result of the merge is [1].\n",
    "Note that because m = 0, there are no elements in nums1. The 0 is only there to ensure the merge result can fit in nums1.\n",
    " \n",
    "\n",
    "Constraints:\n",
    "\n",
    "nums1.length == m + n\n",
    "nums2.length == n\n",
    "0 <= m, n <= 200\n",
    "1 <= m + n <= 200\n",
    "-109 <= nums1[i], nums2[j] <= 109\n",
    " \n",
    "\n",
    "Follow up: Can you come up with an algorithm that runs in O(m + n) time?"
   ]
  },
  {
   "cell_type": "code",
   "execution_count": 7,
   "id": "0a3bdf79",
   "metadata": {},
   "outputs": [
    {
     "data": {
      "text/plain": [
       "[1, 2, 2, 3, 5, 6]"
      ]
     },
     "execution_count": 7,
     "metadata": {},
     "output_type": "execute_result"
    }
   ],
   "source": [
    "# best solution for in-place merging\n",
    "\n",
    "\n",
    "def merge(nums1, m, nums2, n):\n",
    "    a, b, write_index = m-1, n-1, m + n - 1\n",
    "\n",
    "    while b >= 0:\n",
    "        if a >= 0 and nums1[a] > nums2[b]:\n",
    "            nums1[write_index] = nums1[a]\n",
    "            a -= 1\n",
    "        else:\n",
    "            nums1[write_index] = nums2[b]\n",
    "            b -= 1\n",
    "\n",
    "        write_index -= 1\n",
    "        \n",
    "    return nums1\n",
    "\n",
    "        \n",
    "nums1 = [1,2,3,0,0,0]\n",
    "nums2 = [2,5,6]\n",
    "m = 3\n",
    "n = 3\n",
    "merge(nums1,m,nums2,n)"
   ]
  },
  {
   "cell_type": "markdown",
   "id": "c2aae9d4",
   "metadata": {},
   "source": [
    "# exploration, analysis and freethrows\n",
    "\n",
    "* nums1 = [1,2,3,0,0,0]\n",
    "* nums2 = [2,5,6]\n",
    "* a = 2\n",
    "* b = 2\n",
    "* write_index = 5\n",
    "---------------\n",
    "# first iteration:\n",
    "* nums1 = [1,2,3,0,0,6]\n",
    "* b = 1\n",
    "* wi = 4\n",
    "\n",
    "---------------\n",
    "# second iteration:\n",
    "nums1 = [1,2,3,0,5,6]\n",
    "b = 0\n",
    "wi = 3\n",
    "\n",
    "-----------------\n",
    "# third iteration:\n",
    "* nums1 = [1,2,3,3,5,6]\n",
    "* a = 1\n",
    "* wi = 2\n",
    "-------------\n",
    "# fourth iteration:\n",
    "* nums1 = [1,2,2,3,5,6]\n",
    "* b = -1\n",
    "* wi = 1\n"
   ]
  },
  {
   "cell_type": "code",
   "execution_count": null,
   "id": "b406c571",
   "metadata": {},
   "outputs": [],
   "source": []
  },
  {
   "cell_type": "markdown",
   "id": "a4c55e85",
   "metadata": {},
   "source": [
    "# day 222"
   ]
  },
  {
   "cell_type": "markdown",
   "id": "ffaeffe8",
   "metadata": {},
   "source": [
    "# Remove element from the list.(in place).\n",
    "Given an integer array nums and an integer val, remove all occurrences of val in nums in-place. The order of the elements may be changed. Then return the number of elements in nums which are not equal to val.\n",
    "\n",
    "Consider the number of elements in nums which are not equal to val be k, to get accepted, you need to do the following things:\n",
    "\n",
    "Change the array nums such that the first k elements of nums contain the elements which are not equal to val. The remaining elements of nums are not important as well as the size of nums.\n",
    "Return k.\n",
    "Custom Judge:\n",
    "\n",
    "The judge will test your solution with the following code:\n",
    "\n",
    "int[] nums = [...]; // Input array\n",
    "int val = ...; // Value to remove\n",
    "int[] expectedNums = [...]; // The expected answer with correct length.\n",
    "                            // It is sorted with no values equaling val.\n",
    "\n",
    "int k = removeElement(nums, val); // Calls your implementation\n",
    "\n",
    "assert k == expectedNums.length;\n",
    "sort(nums, 0, k); // Sort the first k elements of nums\n",
    "for (int i = 0; i < actualLength; i++) {\n",
    "    assert nums[i] == expectedNums[i];\n",
    "}\n",
    "If all assertions pass, then your solution will be accepted.\n",
    "\n",
    " \n",
    "\n",
    "Example 1:\n",
    "\n",
    "Input: nums = [3,2,2,3], val = 3\n",
    "Output: 2, nums = [2,2,_,_]\n",
    "Explanation: Your function should return k = 2, with the first two elements of nums being 2.\n",
    "It does not matter what you leave beyond the returned k (hence they are underscores).\n",
    "Example 2:\n",
    "\n",
    "Input: nums = [0,1,2,2,3,0,4,2], val = 2\n",
    "Output: 5, nums = [0,1,4,0,3,_,_,_]\n",
    "Explanation: Your function should return k = 5, with the first five elements of nums containing 0, 0, 1, 3, and 4.\n",
    "Note that the five elements can be returned in any order.\n",
    "It does not matter what you leave beyond the returned k (hence they are underscores).\n",
    " \n",
    "\n",
    "Constraints:\n",
    "\n",
    "0 <= nums.length <= 100\n",
    "0 <= nums[i] <= 50\n",
    "0 <= val <= 100"
   ]
  },
  {
   "cell_type": "code",
   "execution_count": 10,
   "id": "28791c5a",
   "metadata": {},
   "outputs": [
    {
     "name": "stdout",
     "output_type": "stream",
     "text": [
      "[0, 1, 3, 0, 4, '_', '_', '_']\n",
      "5\n"
     ]
    }
   ],
   "source": [
    "nums = [0,1,2,2,3,0,4,2]\n",
    "val = 2\n",
    "count = 0\n",
    "\n",
    "while val in nums:\n",
    "    nums.remove(val)\n",
    "    count += 1\n",
    "        \n",
    "k = len(nums)\n",
    "\n",
    "# for filling in the empty spaces with underscores\n",
    "for iteration in range(count):\n",
    "    nums.append('_')\n",
    "    \n",
    "print(nums)\n",
    "print(k)"
   ]
  },
  {
   "cell_type": "code",
   "execution_count": null,
   "id": "fe8378db",
   "metadata": {},
   "outputs": [],
   "source": []
  },
  {
   "cell_type": "markdown",
   "id": "af83d866",
   "metadata": {},
   "source": [
    "# day 224"
   ]
  },
  {
   "cell_type": "markdown",
   "id": "b1650b44",
   "metadata": {},
   "source": [
    "# Remove duplicates from sorted array: (in_place)\n",
    "\n",
    "Given an integer array nums sorted in non-decreasing order, remove the duplicates in-place such that each unique element appears only once. The relative order of the elements should be kept the same. Then return the number of unique elements in nums.\n",
    "\n",
    "Consider the number of unique elements of nums to be k, to get accepted, you need to do the following things:\n",
    "\n",
    "Change the array nums such that the first k elements of nums contain the unique elements in the order they were present in nums initially. The remaining elements of nums are not important as well as the size of nums.\n",
    "Return k.\n",
    "Custom Judge:\n",
    "\n",
    "The judge will test your solution with the following code:\n",
    "\n",
    "int[] nums = [...]; // Input array\n",
    "int[] expectedNums = [...]; // The expected answer with correct length\n",
    "\n",
    "int k = removeDuplicates(nums); // Calls your implementation\n",
    "\n",
    "assert k == expectedNums.length;\n",
    "for (int i = 0; i < k; i++) {\n",
    "    assert nums[i] == expectedNums[i];\n",
    "}\n",
    "If all assertions pass, then your solution will be accepted.\n",
    "\n",
    " \n",
    "\n",
    "Example 1:\n",
    "\n",
    "Input: nums = [1,1,2]\n",
    "Output: 2, nums = [1,2,_]\n",
    "Explanation: Your function should return k = 2, with the first two elements of nums being 1 and 2 respectively.\n",
    "It does not matter what you leave beyond the returned k (hence they are underscores).\n",
    "Example 2:\n",
    "\n",
    "Input: nums = [0,0,1,1,1,2,2,3,3,4]\n",
    "Output: 5, nums = [0,1,2,3,4,_,_,_,_,_]\n",
    "Explanation: Your function should return k = 5, with the first five elements of nums being 0, 1, 2, 3, and 4 respectively.\n",
    "It does not matter what you leave beyond the returned k (hence they are underscores).\n",
    " \n",
    "\n",
    "Constraints:\n",
    "\n",
    "1 <= nums.length <= 3 * 104\n",
    "-100 <= nums[i] <= 100\n",
    "nums is sorted in non-decreasing order."
   ]
  },
  {
   "cell_type": "code",
   "execution_count": 14,
   "id": "71c86de4",
   "metadata": {},
   "outputs": [
    {
     "name": "stdout",
     "output_type": "stream",
     "text": [
      "[0, 1, 2, 3, 4, '_', '_', '_', '_', '_']\n",
      "5\n"
     ]
    }
   ],
   "source": [
    "# this is not in-place\n",
    "nums = [0,0,1,1,1,2,2,3,3,4]\n",
    "\n",
    "len_before = len(nums)\n",
    "\n",
    "nums = list(set(nums))\n",
    "\n",
    "len_after = len(nums)\n",
    "\n",
    "# for filling in the empty spaces with underscores.\n",
    "for iteration in range(len_before-len_after):\n",
    "    nums.append('_')\n",
    "    \n",
    "    \n",
    "print(nums)\n",
    "print(len_after)"
   ]
  },
  {
   "cell_type": "code",
   "execution_count": 34,
   "id": "b738e731",
   "metadata": {},
   "outputs": [
    {
     "name": "stdout",
     "output_type": "stream",
     "text": [
      "[0, 1, 2, 3, 4]\n"
     ]
    }
   ],
   "source": [
    "# remove the duplicates in nums in place.\n",
    "nums = [0,0,1,1,1,2,2,3,3,4]\n",
    "\n",
    "# set filters the unique elements\n",
    "s = set(nums)\n",
    "nums.clear() # clears the whole list and make it empty\n",
    "\n",
    "# appending the elements from the set\n",
    "for i in s:\n",
    "    nums.append(i)\n",
    "\n",
    "# for preserving the order as set doesn't guarantee ordered arrangement\n",
    "nums.sort()\n",
    "print(nums)"
   ]
  },
  {
   "cell_type": "code",
   "execution_count": null,
   "id": "591b628e",
   "metadata": {},
   "outputs": [],
   "source": []
  },
  {
   "cell_type": "markdown",
   "id": "c756d813",
   "metadata": {},
   "source": [
    "# day 225"
   ]
  },
  {
   "cell_type": "markdown",
   "id": "5544aba1",
   "metadata": {},
   "source": [
    "# Remove duplicates from sorted array:\n",
    "Given an integer array nums sorted in non-decreasing order, remove some duplicates in-place such that each unique element appears at most twice. The relative order of the elements should be kept the same.\n",
    "\n",
    "Since it is impossible to change the length of the array in some languages, you must instead have the result be placed in the first part of the array nums. More formally, if there are k elements after removing the duplicates, then the first k elements of nums should hold the final result. It does not matter what you leave beyond the first k elements.\n",
    "\n",
    "Return k after placing the final result in the first k slots of nums.\n",
    "\n",
    "Do not allocate extra space for another array. You must do this by modifying the input array in-place with O(1) extra memory.\n",
    "\n",
    "Custom Judge:\n",
    "\n",
    "The judge will test your solution with the following code:\n",
    "\n",
    "int[] nums = [...]; // Input array\n",
    "int[] expectedNums = [...]; // The expected answer with correct length\n",
    "\n",
    "int k = removeDuplicates(nums); // Calls your implementation\n",
    "\n",
    "assert k == expectedNums.length;\n",
    "for (int i = 0; i < k; i++) {\n",
    "    assert nums[i] == expectedNums[i];\n",
    "}\n",
    "If all assertions pass, then your solution will be accepted.\n",
    "\n",
    " \n",
    "\n",
    "Example 1:\n",
    "\n",
    "Input: nums = [1,1,1,2,2,3]\n",
    "Output: 5, nums = [1,1,2,2,3,_]\n",
    "Explanation: Your function should return k = 5, with the first five elements of nums being 1, 1, 2, 2 and 3 respectively.\n",
    "It does not matter what you leave beyond the returned k (hence they are underscores).\n",
    "Example 2:\n",
    "\n",
    "Input: nums = [0,0,1,1,1,1,2,3,3]\n",
    "Output: 7, nums = [0,0,1,1,2,3,3,_,_]\n",
    "Explanation: Your function should return k = 7, with the first seven elements of nums being 0, 0, 1, 1, 2, 3 and 3 respectively.\n",
    "It does not matter what you leave beyond the returned k (hence they are underscores).\n",
    " \n",
    "\n",
    "Constraints:\n",
    "\n",
    "1 <= nums.length <= 3 * 104\n",
    "-104 <= nums[i] <= 104\n",
    "nums is sorted in non-decreasing order."
   ]
  },
  {
   "cell_type": "code",
   "execution_count": 20,
   "id": "2974d275",
   "metadata": {},
   "outputs": [
    {
     "name": "stdout",
     "output_type": "stream",
     "text": [
      "[0, 0, 1, 1, 2, 3, 3]\n"
     ]
    }
   ],
   "source": [
    "# this is the list\n",
    "\n",
    "nums = [0,0,1,1,1,1,2,3,3]\n",
    "\n",
    "# start the index with 0\n",
    "i = 0\n",
    "\n",
    "# we use while loop not for loop because while loop is dynamic and for loop is static.\n",
    "while i < len(nums):\n",
    "    # count counts for every nums[i]\n",
    "    count = 0\n",
    "    \n",
    "    # j is a step ahead of i\n",
    "    j = i+1\n",
    "    \n",
    "    # j runs the second loop and checks for duplicates\n",
    "    while j < len(nums):\n",
    "        \n",
    "        # count is increased to 1 when the duplicate is found\n",
    "        if nums[i] == nums[j]:\n",
    "            count = count + 1\n",
    "            \n",
    "        j += 1\n",
    "        \n",
    "    # if there are more than 1 duplicate then that duplicate is removed, \n",
    "    # index is moved forward, count is decreased:\n",
    "    '''explanation for why index is moved forward and count is decreased. index i is captured in index variable\n",
    "    lets say there are 3 duplicates of the number 1 then we iteratively remove those duplicates until count becomes 1\n",
    "    so that all duplicates are removed. '''\n",
    "    if count > 1:\n",
    "        while count > 1:\n",
    "            index = i\n",
    "            nums.pop(index)\n",
    "            \n",
    "            index = index + 1\n",
    "            count = count - 1\n",
    "        \n",
    "        \n",
    "    i += 1\n",
    "\n",
    "print(nums)"
   ]
  },
  {
   "cell_type": "code",
   "execution_count": null,
   "id": "52a117cb",
   "metadata": {},
   "outputs": [],
   "source": []
  },
  {
   "cell_type": "markdown",
   "id": "69fcdfde",
   "metadata": {},
   "source": [
    "# Return the majority element or mode of the list\n",
    "\n",
    "Given an array nums of size n, return the majority element.\n",
    "\n",
    "The majority element is the element that appears more than ⌊n / 2⌋ times. You may assume that the majority element always exists in the array.\n",
    "\n",
    " \n",
    "\n",
    "Example 1:\n",
    "\n",
    "Input: nums = [3,2,3]\n",
    "Output: 3\n",
    "Example 2:\n",
    "\n",
    "Input: nums = [2,2,1,1,1,2,2]\n",
    "Output: 2\n",
    " \n",
    "\n",
    "Constraints:\n",
    "\n",
    "n == nums.length\n",
    "1 <= n <= 5 * 104\n",
    "-109 <= nums[i] <= 109\n",
    " \n",
    "\n",
    "Follow-up: Could you solve the problem in linear time O(N) and in O(1) space?\n",
    "\n",
    "\n",
    "# pseudo code:\n",
    "* what matters here the maximum occurence of the number\n",
    "* run through the loop \n",
    "* store the number in dictionary as keys and its count as values"
   ]
  },
  {
   "cell_type": "code",
   "execution_count": 33,
   "id": "53a76476",
   "metadata": {},
   "outputs": [
    {
     "data": {
      "text/plain": [
       "3"
      ]
     },
     "execution_count": 33,
     "metadata": {},
     "output_type": "execute_result"
    }
   ],
   "source": [
    "# maximally occuring number\n",
    " \n",
    "\n",
    "def mode(nums):\n",
    "    dic = {}\n",
    "    for num in nums:\n",
    "        # if the number occurs for the first time then it puts 0 else value adds to the previous addition\n",
    "        dic[num] = dic.get(num,0) + 1 \n",
    "\n",
    "    for key,value in dic.items():\n",
    "        mode = max(dic.values())\n",
    "\n",
    "        if value ==  mode:\n",
    "            return key\n",
    "        \n",
    "nums = [3,2,3]        \n",
    "mode(nums)"
   ]
  },
  {
   "cell_type": "code",
   "execution_count": null,
   "id": "fea9d4e0",
   "metadata": {},
   "outputs": [],
   "source": []
  },
  {
   "cell_type": "markdown",
   "id": "436e3925",
   "metadata": {},
   "source": [
    "# day 228\n",
    "\n",
    "\n",
    "# Rotate Array\n",
    "Given an integer array nums, rotate the array to the right by k steps, where k is non-negative.\n",
    "\n",
    " \n",
    "\n",
    "Example 1:\n",
    "\n",
    "Input: nums = [1,2,3,4,5,6,7], k = 3\n",
    "Output: [5,6,7,1,2,3,4]\n",
    "Explanation:\n",
    "rotate 1 steps to the right: [7,1,2,3,4,5,6]\n",
    "rotate 2 steps to the right: [6,7,1,2,3,4,5]\n",
    "rotate 3 steps to the right: [5,6,7,1,2,3,4]\n",
    "Example 2:\n",
    "\n",
    "Input: nums = [-1,-100,3,99], k = 2\n",
    "Output: [3,99,-1,-100]\n",
    "Explanation: \n",
    "rotate 1 steps to the right: [99,-1,-100,3]\n",
    "rotate 2 steps to the right: [3,99,-1,-100]\n",
    " \n",
    "\n",
    "Constraints:\n",
    "\n",
    "1 <= nums.length <= 105\n",
    "-231 <= nums[i] <= 231 - 1\n",
    "0 <= k <= 105\n",
    " \n",
    "\n",
    "Follow up:\n",
    "\n",
    "Try to come up with as many solutions as you can. There are at least three different ways to solve this problem.\n",
    "Could you do it in-place with O(1) extra space?"
   ]
  },
  {
   "cell_type": "code",
   "execution_count": 65,
   "id": "feb41b78",
   "metadata": {},
   "outputs": [
    {
     "data": {
      "text/plain": [
       "[2, 1]"
      ]
     },
     "execution_count": 65,
     "metadata": {},
     "output_type": "execute_result"
    }
   ],
   "source": [
    "def rotate(nums,k):\n",
    "    \n",
    "    #if k is not int:\n",
    "    if type(k) is not int:\n",
    "        print('please input a valid k')\n",
    "    \n",
    "    # if nums list has 0 elements return nothing\n",
    "    if len(nums) == 0:\n",
    "        return None\n",
    "    \n",
    "    # if nums list has 1 element return that element\n",
    "    if len(nums) == 1:\n",
    "        return nums[0]\n",
    "    \n",
    "    # if nums list has two elements and k > 0, swap the elements and return the list\n",
    "    if len(nums) == 2 and k == 1: \n",
    "        temp = nums[0]\n",
    "        nums[0] = nums[1]\n",
    "        nums[1] = temp\n",
    "        \n",
    "    # if the len of the nums is greater than 2. go until k, pop the last elements until k times and insert them at the first\n",
    "    else:\n",
    "        for i in range(k): \n",
    "            popped = nums.pop()\n",
    "            nums.insert(0,popped)\n",
    "\n",
    "    return nums \n",
    "\n",
    "k = 1\n",
    "nums = [1,2]\n",
    "rotate(nums,k)"
   ]
  },
  {
   "cell_type": "markdown",
   "id": "ca990bfc",
   "metadata": {},
   "source": [
    "# exploration,analysis and freethrows"
   ]
  },
  {
   "cell_type": "code",
   "execution_count": 51,
   "id": "5009bd3b",
   "metadata": {},
   "outputs": [
    {
     "data": {
      "text/plain": [
       "[5, 6, 7]"
      ]
     },
     "execution_count": 51,
     "metadata": {},
     "output_type": "execute_result"
    }
   ],
   "source": [
    "k = 3\n",
    "nums = [1,2,3,4,5,6,7]\n",
    "nums[-k:]"
   ]
  },
  {
   "cell_type": "code",
   "execution_count": 42,
   "id": "82ea15ad",
   "metadata": {},
   "outputs": [
    {
     "data": {
      "text/plain": [
       "[1, 2, 3, 4]"
      ]
     },
     "execution_count": 42,
     "metadata": {},
     "output_type": "execute_result"
    }
   ],
   "source": [
    "nums[:-k]"
   ]
  },
  {
   "cell_type": "code",
   "execution_count": 43,
   "id": "e3a2e8d4",
   "metadata": {},
   "outputs": [],
   "source": [
    "nums = nums[-k:].extend(nums[:-k])\n",
    "nums # it doesn't work."
   ]
  },
  {
   "cell_type": "code",
   "execution_count": 47,
   "id": "a9ad8ab3",
   "metadata": {},
   "outputs": [
    {
     "data": {
      "text/plain": [
       "[5, 6, 7, 1, 2, 3, 4]"
      ]
     },
     "execution_count": 47,
     "metadata": {},
     "output_type": "execute_result"
    }
   ],
   "source": [
    "k = 3\n",
    "nums = [1,2,3,4,5,6,7]\n",
    "for num in range(k+1):\n",
    "    popped = nums.pop(0)\n",
    "    nums.append(popped)\n",
    "nums\n",
    "    "
   ]
  },
  {
   "cell_type": "code",
   "execution_count": null,
   "id": "f3327a21",
   "metadata": {},
   "outputs": [],
   "source": []
  },
  {
   "cell_type": "markdown",
   "id": "3f010121",
   "metadata": {},
   "source": [
    "# Best Time to Buy and Sell stock:\n",
    "\n",
    "You are given an array prices where prices[i] is the price of a given stock on the ith day.\n",
    "\n",
    "You want to maximize your profit by choosing a single day to buy one stock and choosing a different day in the future to sell that stock.\n",
    "\n",
    "Return the maximum profit you can achieve from this transaction. If you cannot achieve any profit, return 0.\n",
    "\n",
    " \n",
    "\n",
    "Example 1:\n",
    "\n",
    "Input: prices = [7,1,5,3,6,4]\n",
    "Output: 5\n",
    "Explanation: Buy on day 2 (price = 1) and sell on day 5 (price = 6), profit = 6-1 = 5.\n",
    "Note that buying on day 2 and selling on day 1 is not allowed because you must buy before you sell.\n",
    "Example 2:\n",
    "\n",
    "Input: prices = [7,6,4,3,1]\n",
    "Output: 0\n",
    "Explanation: In this case, no transactions are done and the max profit = 0.\n",
    " \n",
    "\n",
    "Constraints:\n",
    "\n",
    "1 <= prices.length <= 105\n",
    "0 <= prices[i] <= 104\n",
    "\n",
    "# pseudo code:\n",
    "1. set the minimum to infinity and slowly reduce it. and set maximum to 0 and slowly increase it.\n",
    "2. iterate through prices and check and store in minimum = min(minimum,price)\n",
    "3. find the profit: profit = price - minimum\n",
    "4. find the max profit, max_profit = max(max_profit,max).\n",
    "5. this way of coding ensures that previously held min and max values are preserved. "
   ]
  },
  {
   "cell_type": "code",
   "execution_count": 21,
   "id": "8d02ebfc",
   "metadata": {},
   "outputs": [
    {
     "data": {
      "text/plain": [
       "2"
      ]
     },
     "execution_count": 21,
     "metadata": {},
     "output_type": "execute_result"
    }
   ],
   "source": [
    "def stock_profit(prices):\n",
    "    # if nothing is in the nums return 0\n",
    "    if not prices:\n",
    "        return 0\n",
    "    \n",
    "    # set the minimum to infinity.\n",
    "    minimum = float('inf')\n",
    "    \n",
    "    # set maximum to 0\n",
    "    maximum = 0\n",
    "    \n",
    "    # iterate through prices\n",
    "    for price in prices:\n",
    "        minimum = min(minimum,price)\n",
    "        profit = price - minimum\n",
    "        maximum = max(maximum,profit)\n",
    "        \n",
    "    return maximum\n",
    "\n",
    "prices = [2,4,1]\n",
    "stock_profit(prices)        "
   ]
  },
  {
   "cell_type": "markdown",
   "id": "3175c92f",
   "metadata": {},
   "source": [
    "# explanation: \n",
    "prices = [2,4,1]\n",
    "minimum = inf\n",
    "maximum = 0\n",
    "\n",
    "# 1st iteration:\n",
    "minimum = min(inf,2) = 2\n",
    "profit = 2-2 = 0\n",
    "maximum = max(maximum,profit) = max(0,0) = 0\n",
    "\n",
    "# 2nd iteration:\n",
    "minimum = min(2,4) = 2\n",
    "profit = 4-2 = 2\n",
    "maximum = max(maximum,profit) = max(0,2) = 2\n",
    "\n",
    "\n",
    "# 3rd iteration:\n",
    "minimum = min(2,1) = 1\n",
    "profit = 1-1 = 0\n",
    "maximum = max(maximum,profit) = max(2,0) = 2\n",
    "\n",
    "# hence the final result is 2. notice max and minimum information is preserved by using the 'same variable' inside and max and min functions. "
   ]
  },
  {
   "cell_type": "code",
   "execution_count": 17,
   "id": "67404da7",
   "metadata": {},
   "outputs": [
    {
     "data": {
      "text/plain": [
       "[1]"
      ]
     },
     "execution_count": 17,
     "metadata": {},
     "output_type": "execute_result"
    }
   ],
   "source": [
    "prices[4:]"
   ]
  },
  {
   "cell_type": "markdown",
   "id": "e009471c",
   "metadata": {},
   "source": [
    "# day 230"
   ]
  },
  {
   "cell_type": "markdown",
   "id": "15a37c07",
   "metadata": {},
   "source": [
    "# Best time to buy and sell stocks part 2\n",
    "\n",
    "You are given an integer array prices where prices[i] is the price of a given stock on the ith day.\n",
    "\n",
    "On each day, you may decide to buy and/or sell the stock. You can only hold at most one share of the stock at any time. However, you can buy it then immediately sell it on the same day.\n",
    "\n",
    "Find and return the maximum profit you can achieve.\n",
    "\n",
    " \n",
    "\n",
    "Example 1:\n",
    "\n",
    "Input: prices = [7,1,5,3,6,4]\n",
    "Output: 7\n",
    "Explanation: Buy on day 2 (price = 1) and sell on day 3 (price = 5), profit = 5-1 = 4.\n",
    "Then buy on day 4 (price = 3) and sell on day 5 (price = 6), profit = 6-3 = 3.\n",
    "Total profit is 4 + 3 = 7.\n",
    "Example 2:\n",
    "\n",
    "Input: prices = [1,2,3,4,5]\n",
    "Output: 4\n",
    "Explanation: Buy on day 1 (price = 1) and sell on day 5 (price = 5), profit = 5-1 = 4.\n",
    "Total profit is 4.\n",
    "Example 3:\n",
    "\n",
    "Input: prices = [7,6,4,3,1]\n",
    "Output: 0\n",
    "Explanation: There is no way to make a positive profit, so we never buy the stock to achieve the maximum profit of 0.\n",
    " \n",
    "\n",
    "Constraints:\n",
    "\n",
    "* 1 <= prices.length <= 3 * 104\n",
    "* 0 <= prices[i] <= 104.\n",
    "\n",
    "# pseudo code:\n",
    "0. set price = 0\n",
    "1. move through the list starting from the first index till the length of the list.\n",
    "2. set prev to list[i-1] and nex to list[i]\n",
    "3. if nex > prev: price += (nex-prev)\n",
    "4. return the price.\n"
   ]
  },
  {
   "cell_type": "code",
   "execution_count": 4,
   "id": "43a60510",
   "metadata": {},
   "outputs": [
    {
     "name": "stdout",
     "output_type": "stream",
     "text": [
      "Maximum total profit is: 7\n"
     ]
    }
   ],
   "source": [
    "prices = [7,1,5,3,6,4]\n",
    "price = 0\n",
    "\n",
    "for i in range(1,len(prices)):\n",
    "    prev = prices[i-1]\n",
    "    nex = prices[i]\n",
    "    \n",
    "    if nex > prev:\n",
    "        price = price + (nex-prev)\n",
    "        \n",
    "print('Maximum total profit is: %s'%(price))"
   ]
  },
  {
   "cell_type": "code",
   "execution_count": null,
   "id": "e9176173",
   "metadata": {},
   "outputs": [],
   "source": []
  },
  {
   "cell_type": "markdown",
   "id": "696dec0b",
   "metadata": {},
   "source": [
    "# day 231"
   ]
  },
  {
   "cell_type": "markdown",
   "id": "377626f0",
   "metadata": {},
   "source": [
    "# Jump game\n",
    "You are given an integer array nums. You are initially positioned at the array's first index, and each element in the array represents your maximum jump length at that position.\n",
    "\n",
    "Return true if you can reach the last index, or false otherwise.\n",
    "\n",
    " \n",
    "\n",
    "Example 1:\n",
    "\n",
    "Input: nums = [2,3,1,1,4]\n",
    "Output: true\n",
    "Explanation: Jump 1 step from index 0 to 1, then 3 steps to the last index.\n",
    "Example 2:\n",
    "\n",
    "Input: nums = [3,2,1,0,4]\n",
    "Output: false\n",
    "Explanation: You will always arrive at index 3 no matter what. Its maximum jump length is 0, which makes it impossible to reach the last index.\n",
    " \n",
    "\n",
    "Constraints:\n",
    "\n",
    "1 <= nums.length <= 104\n",
    "0 <= nums[i] <= 105\n"
   ]
  },
  {
   "cell_type": "code",
   "execution_count": 28,
   "id": "11176946",
   "metadata": {},
   "outputs": [
    {
     "name": "stdout",
     "output_type": "stream",
     "text": [
      "i: 0\n",
      "jumper: 3\n",
      "i: 1\n",
      "jumper: 3\n",
      "i: 2\n",
      "jumper: 3\n",
      "i: 3\n",
      "jumper: 3\n"
     ]
    },
    {
     "data": {
      "text/plain": [
       "False"
      ]
     },
     "execution_count": 28,
     "metadata": {},
     "output_type": "execute_result"
    }
   ],
   "source": [
    "nums = [3,2,1,0,4]\n",
    "\n",
    "def can_jump(nums):\n",
    "    jumper = 0\n",
    "\n",
    "    for i in range(len(nums)):\n",
    "        \n",
    "        if jumper < i:\n",
    "            return False \n",
    "\n",
    "\n",
    "        jumper = max(jumper, i+nums[i])\n",
    "        print('i: %s'%(i))\n",
    "        print('jumper: %s'%(jumper))\n",
    "\n",
    "    return (True)\n",
    "\n",
    "can_jump(nums)"
   ]
  },
  {
   "cell_type": "markdown",
   "id": "105c5cf3",
   "metadata": {},
   "source": [
    "# explanation:\n",
    "\n",
    "1.\n",
    "* when nums = [1,0,1,0]\n",
    "* i: 0\n",
    "* jumper: 1\n",
    "* i: 1\n",
    "* jumper: 1\n",
    "* i:2\n",
    "* jumper:1\n",
    "False\n",
    "-----------------    \n",
    "2. \n",
    "* when nums = [1,2,3,4,5]\n",
    "* i: 0\n",
    "* jumper: 1\n",
    "* i: 1\n",
    "* jumper: 3\n",
    "* i: 2\n",
    "* jumper: 5\n",
    "* i: 3\n",
    "* jumper: 7\n",
    "* i: 4\n",
    "* jumper: 9\n",
    "True\n",
    "-------------\n",
    "\n",
    "3. \n",
    "* when nums = [2,3,1,1,4]\n",
    "* i: 0\n",
    "* jumper: 2\n",
    "* i: 1\n",
    "* jumper: 4\n",
    "* i: 2\n",
    "* jumper: 4\n",
    "* i: 3\n",
    "* jumper: 4\n",
    "* i: 4\n",
    "* jumper: 8\n",
    "True\n",
    "---------------\n",
    "\n",
    "4. \n",
    "* when nums = [3,2,1,0,4]\n",
    "* i: 0\n",
    "* jumper: 3\n",
    "* i: 1\n",
    "* jumper: 3\n",
    "* i: 2\n",
    "* jumper: 3\n",
    "* i: 3\n",
    "* jumper: 3\n",
    "* i: 4\n",
    "* jumper: 3\n",
    "False\n",
    "---------------\n"
   ]
  },
  {
   "cell_type": "code",
   "execution_count": null,
   "id": "1467d9ad",
   "metadata": {},
   "outputs": [],
   "source": []
  },
  {
   "cell_type": "markdown",
   "id": "7c758d68",
   "metadata": {},
   "source": [
    "# day 234"
   ]
  },
  {
   "cell_type": "markdown",
   "id": "bb490df5",
   "metadata": {},
   "source": [
    "# jump Game part 2:\n",
    "You are given a 0-indexed array of integers nums of length n. You are initially positioned at nums[0].\n",
    "\n",
    "Each element nums[i] represents the maximum length of a forward jump from index i. In other words, if you are at nums[i], you can jump to any nums[i + j] where:\n",
    "\n",
    "0 <= j <= nums[i] and\n",
    "i + j < n\n",
    "Return the minimum number of jumps to reach nums[n - 1]. The test cases are generated such that you can reach nums[n - 1].\n",
    "\n",
    " \n",
    "\n",
    "Example 1:\n",
    "\n",
    "Input: nums = [2,3,1,1,4]\n",
    "Output: 2\n",
    "Explanation: The minimum number of jumps to reach the last index is 2. Jump 1 step from index 0 to 1, then 3 steps to the last index.\n",
    "Example 2:\n",
    "\n",
    "Input: nums = [2,3,0,1,4]\n",
    "Output: 2"
   ]
  },
  {
   "cell_type": "code",
   "execution_count": 19,
   "id": "20693b55",
   "metadata": {},
   "outputs": [
    {
     "name": "stdout",
     "output_type": "stream",
     "text": [
      "i: 0\n",
      "jumper: 1\n",
      "end: 1\n",
      "counter: 1\n",
      "-----------\n",
      "i: 1\n",
      "jumper: 2\n",
      "end: 2\n",
      "counter: 2\n",
      "-----------\n",
      "i: 2\n",
      "jumper: 3\n"
     ]
    },
    {
     "data": {
      "text/plain": [
       "3"
      ]
     },
     "execution_count": 19,
     "metadata": {},
     "output_type": "execute_result"
    }
   ],
   "source": [
    "def jump(nums):\n",
    "    jumper = 0\n",
    "    counter = 0\n",
    "    end = 0\n",
    "    \n",
    "    for i in range(len(nums)-1):\n",
    "        jumper = max(jumper,nums[i]+i)\n",
    "        print('i: {}'.format(i))\n",
    "        print('jumper: {}'.format(jumper))\n",
    "    \n",
    "        # if the jumper exceeds or equals to the length-1 of the nums, increment the counter by 1 and break the loop because we are end and\n",
    "        # it took only step to reach the end.\n",
    "        if jumper >= len(nums)-1:\n",
    "            counter += 1\n",
    "            break \n",
    "\n",
    "        # update the end to jumper if i==end \n",
    "        if i == end:\n",
    "            counter += 1\n",
    "            end = jumper\n",
    "        \n",
    "        print('end: {}'.format(end))\n",
    "        print('counter: {}'.format(counter)) \n",
    "        print('-----------')\n",
    "        \n",
    "    return counter\n",
    "        \n",
    "    \n",
    "    \n",
    "nums = [1,1,1,1]\n",
    "jump(nums)"
   ]
  },
  {
   "cell_type": "code",
   "execution_count": null,
   "id": "566944e1",
   "metadata": {},
   "outputs": [],
   "source": []
  },
  {
   "cell_type": "markdown",
   "id": "caf14103",
   "metadata": {},
   "source": [
    "# day 235"
   ]
  },
  {
   "cell_type": "markdown",
   "id": "a7e65642",
   "metadata": {},
   "source": [
    "# H-index\n",
    "\n",
    "Given an array of integers citations where citations[i] is the number of citations a researcher received for their ith paper, return the researcher's h-index.\n",
    "\n",
    "According to the definition of h-index on Wikipedia: The h-index is defined as the maximum value of h such that the given researcher has published at least h papers that have each been cited at least h times.\n",
    "\n",
    " \n",
    "\n",
    "Example 1:\n",
    "\n",
    "Input: citations = [3,0,6,1,5]\n",
    "Output: 3\n",
    "Explanation: [3,0,6,1,5] means the researcher has 5 papers in total and each of them had received 3, 0, 6, 1, 5 citations respectively.\n",
    "Since the researcher has 3 papers with at least 3 citations each and the remaining two with no more than 3 citations each, their h-index is 3.\n",
    "Example 2:\n",
    "\n",
    "Input: citations = [1,3,1]\n",
    "Output: 1\n",
    " \n",
    "\n",
    "Constraints:\n",
    "\n",
    "* n == citations.length\n",
    "* 1 <= n <= 5000\n",
    "* 0 <= citations[i] <= 1000\n",
    "\n",
    "\n",
    "# clear explained constraint:\n",
    "* at every iteration the published article must receive more citations than the ith iteration(occasion or publishing time) only then will the h_index be updated.\n",
    "* this is anologous eddington number."
   ]
  },
  {
   "cell_type": "code",
   "execution_count": 36,
   "id": "11ae140d",
   "metadata": {},
   "outputs": [
    {
     "name": "stdout",
     "output_type": "stream",
     "text": [
      "citations: [3, 0, 6, 1, 5]\n",
      "Reversed citations: [6, 5, 3, 1, 0]\n",
      "index:1 and num:6\n",
      "index:2 and num:5\n",
      "index:3 and num:3\n",
      "index:4 and num:1\n",
      "h-index for the dude is: 3\n"
     ]
    }
   ],
   "source": [
    "citations = [3,0,6,1,5]\n",
    "h_index = 0\n",
    "\n",
    "print('citations: %s'%(citations))\n",
    "citations.sort(reverse=True)\n",
    "print('Reversed citations: %s'%(citations))\n",
    "\n",
    "for index,num in enumerate(citations,start=1): # index starts at 1 instead of the default 0\n",
    "    print('index:%s and num:%s'%(index,num))\n",
    "    if num >= index:\n",
    "        h_index = index\n",
    "    else:\n",
    "        break\n",
    "        \n",
    "print('h-index for the dude is: %s'%(h_index))"
   ]
  },
  {
   "cell_type": "markdown",
   "id": "5369c8ee",
   "metadata": {},
   "source": [
    "# explanation:\n",
    "\n",
    "1. \n",
    "* citations: [1, 2]\n",
    "* Reversed citations: [2, 1]\n",
    "* index:1 and num:2\n",
    "* index:2 and num:1\n",
    "* h-index for the dude is: 1\n",
    "--------------\n",
    "\n",
    "2.\n",
    "* citations: [0]\n",
    "* Reversed citations: [0]\n",
    "* index:1 and num:0\n",
    "* h-index for the dude is: 0\n",
    "---------------\n",
    "\n",
    "3.\n",
    "* citations: [1]\n",
    "* Reversed citations: [1]\n",
    "* index:1 and num:1\n",
    "* h-index for the dude is: 1\n",
    "-------------\n",
    "\n",
    "4.\n",
    "* citations: [3, 0, 6, 1, 5]\n",
    "* Reversed citations: [6, 5, 3, 1, 0]\n",
    "* index:1 and num:6\n",
    "* index:2 and num:5\n",
    "* index:3 and num:3\n",
    "* index:4 and num:1\n",
    "* h-index for the dude is: 3\n",
    "------------"
   ]
  },
  {
   "cell_type": "code",
   "execution_count": null,
   "id": "00032550",
   "metadata": {},
   "outputs": [],
   "source": []
  },
  {
   "cell_type": "markdown",
   "id": "33de14d0",
   "metadata": {},
   "source": [
    "# day 236"
   ]
  },
  {
   "cell_type": "markdown",
   "id": "a2d20eb1",
   "metadata": {},
   "source": [
    "# Implement the RandomizedSet class:\n",
    "\n",
    "* RandomizedSet() Initializes the RandomizedSet object.\n",
    "* bool insert(int val) Inserts an item val into the set if not present. Returns true if the item was not present, false otherwise.\n",
    "* bool remove(int val) Removes an item val from the set if present. Returns true if the item was present, false otherwise.\n",
    "* int getRandom() Returns a random element from the current set of elements (it's guaranteed that at least one element exists when this method is called). Each element must have the same probability of being returned.\n",
    "* You must implement the functions of the class such that each function works in average O(1) time complexity.\n",
    "\n",
    " \n",
    "\n",
    "Example 1:\n",
    "\n",
    "* Input:\n",
    "[\"RandomizedSet\", \"insert\", \"remove\", \"insert\", \"getRandom\", \"remove\", \"insert\", \"getRandom\"]\n",
    "[[], [1], [2], [2], [], [1], [2], []]\n",
    "* Output:\n",
    "[null, true, false, true, 2, true, false, 2]\n",
    "\n",
    "Explanation:\n",
    "* RandomizedSet randomizedSet = new RandomizedSet();\n",
    "* randomizedSet.insert(1); // Inserts 1 to the set. Returns true as 1 was inserted successfully.\n",
    "* randomizedSet.remove(2); // Returns false as 2 does not exist in the set.\n",
    "* randomizedSet.insert(2); // Inserts 2 to the set, returns true. Set now contains [1,2].\n",
    "* randomizedSet.getRandom(); // getRandom() should return either 1 or 2 randomly.\n",
    "* randomizedSet.remove(1); // Removes 1 from the set, returns true. Set now contains [2].\n",
    "* randomizedSet.insert(2); // 2 was already in the set, so return false.\n",
    "* randomizedSet.getRandom(); // Since 2 is the only number in the set, getRandom() will always return 2."
   ]
  },
  {
   "cell_type": "code",
   "execution_count": 18,
   "id": "de83d641",
   "metadata": {},
   "outputs": [
    {
     "name": "stdout",
     "output_type": "stream",
     "text": [
      "1\n",
      "2\n",
      "3\n",
      "4\n",
      "5\n"
     ]
    },
    {
     "data": {
      "text/plain": [
       "4"
      ]
     },
     "execution_count": 18,
     "metadata": {},
     "output_type": "execute_result"
    }
   ],
   "source": [
    "import random\n",
    "class RandomizedSet:\n",
    "    def __init__(self) -> 'initializes with an empty set':\n",
    "        self.s = set() # set for O(1) time complexity when membership checking!!!\n",
    "        \n",
    "    def insert(self,val:int) -> bool:\n",
    "        if val not in self.s:\n",
    "            self.s.add(val)\n",
    "            return True\n",
    "        return False\n",
    "        \n",
    "    def print_set(self) ->\"returns something\":\n",
    "        for num in self.s:\n",
    "            print(num)\n",
    "            \n",
    "    def remove(self,val:int) -> bool:\n",
    "        if val in self.s:\n",
    "            self.s.remove(val)\n",
    "            return True\n",
    "        return False\n",
    "    \n",
    "    def getRandom(self) -> int: # each element in the set has the same probability of being returned.\n",
    "        \n",
    "        # convert the set into a list and return a random element\n",
    "        return random.choice(list(self.s))\n",
    "    \n",
    "        \n",
    "\n",
    "rs = RandomizedSet()\n",
    "nums = [1,2,3,4,5]\n",
    "for num in nums:\n",
    "    rs.insert(num)\n",
    "rs.print_set()\n",
    "rs.getRandom()"
   ]
  },
  {
   "cell_type": "markdown",
   "id": "eb06c02b",
   "metadata": {},
   "source": [
    "# exploration,analysis and freethrows"
   ]
  },
  {
   "cell_type": "code",
   "execution_count": 11,
   "id": "8b59fc98",
   "metadata": {},
   "outputs": [],
   "source": [
    "s = set()\n",
    "s.add(2)\n",
    "s.add(3)\n",
    "s.add(4)\n",
    "s.remove(3)\n"
   ]
  },
  {
   "cell_type": "code",
   "execution_count": 12,
   "id": "5959d6cf",
   "metadata": {},
   "outputs": [
    {
     "data": {
      "text/plain": [
       "{2, 4}"
      ]
     },
     "execution_count": 12,
     "metadata": {},
     "output_type": "execute_result"
    }
   ],
   "source": [
    "s"
   ]
  },
  {
   "cell_type": "code",
   "execution_count": 14,
   "id": "2869b60c",
   "metadata": {},
   "outputs": [
    {
     "ename": "TypeError",
     "evalue": "'set' object is not subscriptable",
     "output_type": "error",
     "traceback": [
      "\u001b[1;31m---------------------------------------------------------------------------\u001b[0m",
      "\u001b[1;31mTypeError\u001b[0m                                 Traceback (most recent call last)",
      "Input \u001b[1;32mIn [14]\u001b[0m, in \u001b[0;36m<cell line: 1>\u001b[1;34m()\u001b[0m\n\u001b[1;32m----> 1\u001b[0m \u001b[43ms\u001b[49m\u001b[43m[\u001b[49m\u001b[38;5;241;43m0\u001b[39;49m\u001b[43m]\u001b[49m\n",
      "\u001b[1;31mTypeError\u001b[0m: 'set' object is not subscriptable"
     ]
    }
   ],
   "source": [
    "s[0]"
   ]
  },
  {
   "cell_type": "code",
   "execution_count": 20,
   "id": "660a53b8",
   "metadata": {},
   "outputs": [],
   "source": [
    "lis = [1,2,3,4]\n",
    "\n",
    "lis.append(5)"
   ]
  },
  {
   "cell_type": "code",
   "execution_count": 21,
   "id": "3d3eed32",
   "metadata": {},
   "outputs": [
    {
     "data": {
      "text/plain": [
       "[1, 2, 3, 4, 5]"
      ]
     },
     "execution_count": 21,
     "metadata": {},
     "output_type": "execute_result"
    }
   ],
   "source": [
    "lis"
   ]
  },
  {
   "cell_type": "code",
   "execution_count": 22,
   "id": "f397d640",
   "metadata": {},
   "outputs": [],
   "source": [
    "lis.remove(5)"
   ]
  },
  {
   "cell_type": "code",
   "execution_count": 23,
   "id": "653f1c3e",
   "metadata": {},
   "outputs": [
    {
     "data": {
      "text/plain": [
       "[1, 2, 3, 4]"
      ]
     },
     "execution_count": 23,
     "metadata": {},
     "output_type": "execute_result"
    }
   ],
   "source": [
    "lis"
   ]
  },
  {
   "cell_type": "code",
   "execution_count": null,
   "id": "84125ead",
   "metadata": {},
   "outputs": [],
   "source": []
  },
  {
   "cell_type": "markdown",
   "id": "c1a44d22",
   "metadata": {},
   "source": [
    "# day 242"
   ]
  },
  {
   "cell_type": "markdown",
   "id": "a162baf5",
   "metadata": {},
   "source": [
    "# product of Array except self:\n",
    "\n",
    "Given an integer array nums, return an array answer such that answer[i] is equal to the product of all the elements of nums except nums[i].\n",
    "\n",
    "The product of any prefix or suffix of nums is guaranteed to fit in a 32-bit integer.\n",
    "\n",
    "You must write an algorithm that runs in O(n) time and without using the division operation.\n",
    "\n",
    " \n",
    "\n",
    "Example 1:\n",
    "\n",
    "Input: nums = [1,2,3,4]\n",
    "Output: [24,12,8,6]\n",
    "Example 2:\n",
    "\n",
    "Input: nums = [-1,1,0,-3,3]\n",
    "Output: [0,0,9,0,0]\n",
    " \n",
    "\n",
    "Constraints:\n",
    "\n",
    "2 <= nums.length <= 105\n",
    "-30 <= nums[i] <= 30\n",
    "The product of any prefix or suffix of nums is guaranteed to fit in a 32-bit integer.\n",
    " \n",
    "\n",
    "Follow up: Can you solve the problem in O(1) extra space complexity? (The output array does not count as extra space for space complexity analysis.)\n",
    "\n"
   ]
  },
  {
   "cell_type": "code",
   "execution_count": 16,
   "id": "2cd7fc6a",
   "metadata": {},
   "outputs": [
    {
     "name": "stdout",
     "output_type": "stream",
     "text": [
      "left_products:[1, 1, 2, 6]\n",
      "right_products:[24, 12, 4, 1]\n"
     ]
    },
    {
     "data": {
      "text/plain": [
       "[24, 12, 8, 6]"
      ]
     },
     "execution_count": 16,
     "metadata": {},
     "output_type": "execute_result"
    }
   ],
   "source": [
    "def product_except_self(nums):\n",
    "    \n",
    "    # setting the parameters\n",
    "    n = len(nums)\n",
    "    left_products = [1] * n\n",
    "    right_products = [1] * n\n",
    "    left_prod = 1\n",
    "    right_prod = 1\n",
    "    \n",
    "    # building the left side\n",
    "    for i in range(1,n): \n",
    "        left_prod = left_prod * nums[i-1]\n",
    "        left_products[i] = left_prod\n",
    "    \n",
    "    print('left_products:%s'%(left_products))\n",
    "    # build the right side\n",
    "    for i in range(int(n/2),-1,-1):\n",
    "        right_prod = right_prod * nums[i+1]\n",
    "        right_products[i] = right_prod\n",
    "        \n",
    "    print('right_products:%s'%(right_products))\n",
    "        \n",
    "    # calculating the results\n",
    "    result = [left_products[i] * right_products[i] for i in range(n)]\n",
    "    \n",
    "    return result\n",
    "\n",
    "nums = [1,2,3,4]\n",
    "product_except_self(nums)"
   ]
  },
  {
   "cell_type": "markdown",
   "id": "013578ee",
   "metadata": {},
   "source": [
    "# exploration,analysis and freethrows"
   ]
  },
  {
   "cell_type": "code",
   "execution_count": 11,
   "id": "06b03ee4",
   "metadata": {},
   "outputs": [
    {
     "data": {
      "text/plain": [
       "2"
      ]
     },
     "execution_count": 11,
     "metadata": {},
     "output_type": "execute_result"
    }
   ],
   "source": [
    "n = 4\n",
    "int(n/2)"
   ]
  },
  {
   "cell_type": "code",
   "execution_count": 59,
   "id": "d45e63c7",
   "metadata": {},
   "outputs": [
    {
     "data": {
      "text/plain": [
       "[1, 1, 1, 1]"
      ]
     },
     "execution_count": 59,
     "metadata": {},
     "output_type": "execute_result"
    }
   ],
   "source": [
    "nums = [1,2,3,4]\n",
    "n = len(nums)\n",
    "\n",
    "left_products = [1]*n\n",
    "\n",
    "left_products"
   ]
  },
  {
   "cell_type": "code",
   "execution_count": 8,
   "id": "3af82433",
   "metadata": {},
   "outputs": [
    {
     "name": "stdout",
     "output_type": "stream",
     "text": [
      "before left_products:  [1, 1, 1, 1]\n",
      "i 1\n",
      "left_prod: 1\n",
      "i 2\n",
      "left_prod: 2\n",
      "i 3\n",
      "left_prod: 6\n",
      "after left_products: [1, 1, 2, 6]\n"
     ]
    }
   ],
   "source": [
    "nums = [1,2,3,4]\n",
    "n = len(nums)\n",
    "\n",
    "left_products = [1]*n\n",
    "left_product = 1\n",
    "for i in range(1,n):\n",
    "    left_product = left_product * nums[i-1]\n",
    "    left_products[i] = left_product \n",
    "    \n"
   ]
  },
  {
   "cell_type": "markdown",
   "id": "b55c3a2c",
   "metadata": {},
   "source": [
    "# explanations:\n",
    "\n",
    "# the 0th index by default has 1.\n",
    "before left_products:  [1, 1, 1, 1]\n",
    "----\n",
    "i 1, left_prod: 1\n",
    "--------\n",
    "i 2, left_prod: 2\n",
    "--------\n",
    "i 3, left_prod: 6\n",
    "--------\n",
    "after left_products: [1, 1, 2, 6]\n",
    "------\n"
   ]
  },
  {
   "cell_type": "code",
   "execution_count": null,
   "id": "d89d84fc",
   "metadata": {},
   "outputs": [],
   "source": []
  },
  {
   "cell_type": "code",
   "execution_count": 17,
   "id": "3d064ff6",
   "metadata": {},
   "outputs": [
    {
     "name": "stdout",
     "output_type": "stream",
     "text": [
      "nums:[1, 2, 3, 4]\n",
      "Before right_products:  [1, 1, 1, 1]\n",
      "i: 2\n",
      "right_prod: 4\n",
      "i: 1\n",
      "right_prod: 12\n",
      "i: 0\n",
      "right_prod: 24\n",
      "After right_products: [24, 12, 4, 1]\n"
     ]
    }
   ],
   "source": [
    "# Calculate right products\n",
    "nums = [1,2,3,4]\n",
    "n = len(nums)\n",
    "\n",
    "right_products = [1]*n\n",
    "right_product = 1\n",
    "\n",
    "print('nums:%s'%(nums))\n",
    "print('Before right_products: ',right_products)\n",
    "for i in range(n - 2, -1, -1):\n",
    "    print('i: %s'%(i))\n",
    "    right_product *= nums[i + 1]\n",
    "    print('right_prod: %s'%(right_product))\n",
    "    right_products[i] = right_product\n",
    "    \n",
    "print('After right_products: %s'%(right_products))"
   ]
  },
  {
   "cell_type": "markdown",
   "id": "32560967",
   "metadata": {},
   "source": [
    "# it keeps the -1th index with 1 as its default value.\n",
    "before right_products:  [1, 1, 1, 1]\n",
    "----\n",
    "i 2, right_prod: 4\n",
    "--------\n",
    "i 1, right_prod: 12\n",
    "--------\n",
    "i 0, right_prod: 24\n",
    "--------\n",
    "after right_products: [24,12,4,1]\n",
    "------\n"
   ]
  },
  {
   "cell_type": "code",
   "execution_count": 10,
   "id": "69890822",
   "metadata": {},
   "outputs": [
    {
     "data": {
      "text/plain": [
       "[24, 12, 8, 6]"
      ]
     },
     "execution_count": 10,
     "metadata": {},
     "output_type": "execute_result"
    }
   ],
   "source": [
    "# calculating the results\n",
    "\n",
    "result = [left_products[i]*right_products[i] for i in range(n)]\n",
    "result "
   ]
  },
  {
   "cell_type": "code",
   "execution_count": 67,
   "id": "fc4f922c",
   "metadata": {},
   "outputs": [
    {
     "name": "stdout",
     "output_type": "stream",
     "text": [
      "[24, 12, 8, 6]\n",
      "[0, 0, 9, 0, 0]\n"
     ]
    }
   ],
   "source": [
    "# help from chat gpt:\n",
    "\n",
    "def product_except_self(nums):\n",
    "    n = len(nums)\n",
    "    \n",
    "    # Initialize left and right product arrays\n",
    "    left_products = [1] * n\n",
    "    right_products = [1] * n\n",
    "    \n",
    "    # Calculate left products\n",
    "    left_product = 1\n",
    "    for i in range(1, n):\n",
    "        left_product *= nums[i - 1]\n",
    "        left_products[i] = left_product\n",
    "    \n",
    "    # Calculate right products\n",
    "    right_product = 1\n",
    "    for i in range(n - 2, -1, -1):\n",
    "        right_product *= nums[i + 1]\n",
    "        right_products[i] = right_product\n",
    "    \n",
    "    # Calculate the final result\n",
    "    result = [left_products[i] * right_products[i] for i in range(n)]\n",
    "    \n",
    "    return result\n",
    "\n",
    "# Example usage:\n",
    "nums1 = [1, 2, 3, 4]\n",
    "nums2 = [-1, 1, 0, -3, 3]\n",
    "\n",
    "print(product_except_self(nums1))  # Output: [24, 12, 8, 6]\n",
    "print(product_except_self(nums2))  # Output: [0, 0, 9, 0, 0]\n"
   ]
  },
  {
   "cell_type": "code",
   "execution_count": null,
   "id": "1fe7013a",
   "metadata": {},
   "outputs": [],
   "source": []
  },
  {
   "cell_type": "code",
   "execution_count": null,
   "id": "2d453840",
   "metadata": {},
   "outputs": [],
   "source": []
  },
  {
   "cell_type": "markdown",
   "id": "c9d67355",
   "metadata": {},
   "source": [
    "# Gas Station:\n",
    "\n",
    "There are n gas stations along a circular route, where the amount of gas at the ith station is gas[i].\n",
    "\n",
    "You have a car with an unlimited gas tank and it costs cost[i] of gas to travel from the ith station to its next (i + 1)th station. You begin the journey with an empty tank at one of the gas stations.\n",
    "\n",
    "Given two integer arrays gas and cost, return the starting gas station's index if you can travel around the circuit once in the clockwise direction, otherwise return -1. If there exists a solution, it is guaranteed to be unique\n",
    "\n",
    " \n",
    "\n",
    "Example 1:\n",
    "\n",
    "Input: gas = [1,2,3,4,5], cost = [3,4,5,1,2]\n",
    "Output: 3\n",
    "Explanation:\n",
    "Start at station 3 (index 3) and fill up with 4 unit of gas. Your tank = 0 + 4 = 4\n",
    "Travel to station 4. Your tank = 4 - 1 + 5 = 8\n",
    "Travel to station 0. Your tank = 8 - 2 + 1 = 7\n",
    "Travel to station 1. Your tank = 7 - 3 + 2 = 6\n",
    "Travel to station 2. Your tank = 6 - 4 + 3 = 5\n",
    "Travel to station 3. The cost is 5. Your gas is just enough to travel back to station 3.\n",
    "Therefore, return 3 as the starting index.\n",
    "Example 2:\n",
    "\n",
    "Input: gas = [2,3,4], cost = [3,4,3]\n",
    "Output: -1\n",
    "Explanation:\n",
    "You can't start at station 0 or 1, as there is not enough gas to travel to the next station.\n",
    "Let's start at station 2 and fill up with 4 unit of gas. Your tank = 0 + 4 = 4\n",
    "Travel to station 0. Your tank = 4 - 3 + 2 = 3\n",
    "Travel to station 1. Your tank = 3 - 3 + 3 = 3\n",
    "You cannot travel back to station 2, as it requires 4 unit of gas but you only have 3.\n",
    "Therefore, you can't travel around the circuit once no matter where you start."
   ]
  },
  {
   "cell_type": "markdown",
   "id": "318165d9",
   "metadata": {},
   "source": [
    "# my solution: which doesn't always work."
   ]
  },
  {
   "cell_type": "code",
   "execution_count": 29,
   "id": "a50cb557",
   "metadata": {},
   "outputs": [
    {
     "name": "stdout",
     "output_type": "stream",
     "text": [
      "Start the journey from index: 3\n"
     ]
    }
   ],
   "source": [
    "# goals:\n",
    "''' \n",
    "1. make a rotation function\n",
    "\n",
    "'''\n",
    "# defining the rotation function:\n",
    "\n",
    "def rotate(lis,k):\n",
    "    \n",
    "    for i in range(k,len(lis)):\n",
    "        popped = lis.pop()\n",
    "        lis.insert(0,popped)\n",
    "        \n",
    "    return lis\n",
    "\n",
    "        \n",
    "gas = [1,2,3,4,5]\n",
    "cost = [3,4,5,1,2]\n",
    "# iterating till the end of gas (since they both are of same lengths we don't have to care who we iterate through)\n",
    "for i in range(len(gas)):\n",
    "    if gas[i] - cost[i] >= 0:\n",
    "\n",
    "        # rotate  both gas and cost\n",
    "        rotated_gas = rotate(gas,i)\n",
    "        rotated_cost = rotate(cost,i)\n",
    "        \n",
    "        # run through the rotated lists\n",
    "        petrol = rotated_gas[0] - rotated_cost[0] + rotated_gas[1]\n",
    "        for j in range(2,len(rotated_gas)):\n",
    "            \n",
    "            petrol = petrol - rotated_cost[j-1] + rotated_gas[j]\n",
    "            \n",
    "        if petrol - rotated_cost[-1] >= 0:\n",
    "            print(\"Start the journey from index: %s\"%(i))\n",
    "        "
   ]
  },
  {
   "cell_type": "code",
   "execution_count": null,
   "id": "3df75d5b",
   "metadata": {},
   "outputs": [],
   "source": []
  },
  {
   "cell_type": "markdown",
   "id": "83b45604",
   "metadata": {},
   "source": [
    "# chatgpt's solution:"
   ]
  },
  {
   "cell_type": "code",
   "execution_count": 26,
   "id": "47aa6f34",
   "metadata": {},
   "outputs": [
    {
     "name": "stdout",
     "output_type": "stream",
     "text": [
      "3\n",
      "-1\n"
     ]
    }
   ],
   "source": [
    "def can_circuit(gas, cost, start):\n",
    "    n = len(gas)\n",
    "    tank = 0\n",
    "\n",
    "    for i in range(n):\n",
    "        station = (start + i) % n\n",
    "        tank += gas[station] - cost[station]\n",
    "\n",
    "        if tank < 0:\n",
    "            return False\n",
    "\n",
    "    return True\n",
    "\n",
    "def find_starting_station(gas, cost):\n",
    "    total_gas = sum(gas)\n",
    "    total_cost = sum(cost)\n",
    "\n",
    "    if total_gas < total_cost:\n",
    "        return -1  # If total gas is less than total cost, there is no solution.\n",
    "\n",
    "    n = len(gas)\n",
    "    tank = 0\n",
    "    start = 0\n",
    "\n",
    "    for i in range(n):\n",
    "        tank += gas[i] - cost[i]\n",
    "\n",
    "        if tank < 0:\n",
    "            # If the tank becomes negative, start from the next station.\n",
    "            tank = 0\n",
    "            start = i + 1\n",
    "\n",
    "    # If you can travel around the circuit, return the starting index; otherwise, return -1.\n",
    "    return start if can_circuit(gas, cost, start) else -1\n",
    "\n",
    "# Example 1\n",
    "gas1 = [1, 2, 3, 4, 5]\n",
    "cost1 = [3, 4, 5, 1, 2]\n",
    "output1 = find_starting_station(gas1, cost1)\n",
    "print(output1)  # Output: 3\n",
    "\n",
    "# Example 2\n",
    "gas2 = [2, 3, 4]\n",
    "cost2 = [3, 4, 3]\n",
    "output2 = find_starting_station(gas2, cost2)\n",
    "print(output2)  # Output: -1\n"
   ]
  },
  {
   "cell_type": "markdown",
   "id": "d6c702d5",
   "metadata": {},
   "source": [
    "# exploration,analysis and freethrows"
   ]
  },
  {
   "cell_type": "code",
   "execution_count": 1,
   "id": "a703c1ba",
   "metadata": {},
   "outputs": [
    {
     "data": {
      "text/plain": [
       "False"
      ]
     },
     "execution_count": 1,
     "metadata": {},
     "output_type": "execute_result"
    }
   ],
   "source": [
    "def can_travel(gas, cost, start):\n",
    "    n = len(gas)\n",
    "    tank = 0\n",
    "\n",
    "    for i in range(n):\n",
    "        station = (start + i) % n\n",
    "        tank += gas[station] - cost[station]\n",
    "\n",
    "        if tank < 0:\n",
    "            return False\n",
    "\n",
    "    return True\n",
    "\n",
    "gas = [1,2,3,4,5]\n",
    "cost = [3,4,5,1,2]\n",
    "start = 0\n",
    "can_travel(gas,cost,start)"
   ]
  },
  {
   "cell_type": "code",
   "execution_count": 2,
   "id": "3ffff2a5",
   "metadata": {},
   "outputs": [
    {
     "data": {
      "text/plain": [
       "True"
      ]
     },
     "execution_count": 2,
     "metadata": {},
     "output_type": "execute_result"
    }
   ],
   "source": [
    "can_travel(gas,cost,start=3)"
   ]
  },
  {
   "cell_type": "code",
   "execution_count": 25,
   "id": "70ee6c36",
   "metadata": {},
   "outputs": [
    {
     "name": "stdout",
     "output_type": "stream",
     "text": [
      "i:0\n",
      "start+i:3\n",
      "station:3\n",
      "gas:4\n",
      "cost:1\n",
      "tank: 3\n",
      "--------------\n",
      "i:1\n",
      "start+i:4\n",
      "station:4\n",
      "gas:5\n",
      "cost:2\n",
      "tank: 6\n",
      "--------------\n",
      "i:2\n",
      "start+i:5\n",
      "station:0\n",
      "gas:1\n",
      "cost:3\n",
      "tank: 4\n",
      "--------------\n",
      "i:3\n",
      "start+i:6\n",
      "station:1\n",
      "gas:2\n",
      "cost:4\n",
      "tank: 2\n",
      "--------------\n",
      "i:4\n",
      "start+i:7\n",
      "station:2\n",
      "gas:3\n",
      "cost:5\n",
      "tank: 0\n",
      "--------------\n"
     ]
    }
   ],
   "source": [
    "n = len(gas)\n",
    "tank = 0\n",
    "\n",
    "gas = [1,2,3,4,5]\n",
    "cost = [3,4,5,1,2]\n",
    "start = 3\n",
    "for i in range(n):\n",
    "    print(\"i:{}\".format(i))\n",
    "    \n",
    "    station = (start + i) % n\n",
    "    print(\"start+i:{}\".format(start + i))\n",
    "    print(\"station:{}\".format(station))\n",
    "    \n",
    "    tank += gas[station] - cost[station]\n",
    "    print('gas:{}'.format(gas[station]))\n",
    "    print('cost:{}'.format(cost[station]))\n",
    "    print(\"tank: {}\".format(tank))\n",
    "    \n",
    "    print('--------------')\n",
    "    \n",
    "\n"
   ]
  },
  {
   "cell_type": "code",
   "execution_count": null,
   "id": "71be086c",
   "metadata": {},
   "outputs": [],
   "source": []
  },
  {
   "cell_type": "code",
   "execution_count": 19,
   "id": "582338d5",
   "metadata": {},
   "outputs": [
    {
     "data": {
      "text/plain": [
       "3"
      ]
     },
     "execution_count": 19,
     "metadata": {},
     "output_type": "execute_result"
    }
   ],
   "source": [
    "# the modulus operator can give the information about how far away a number is from the multiples of its divisor.\n",
    "\n",
    "a = 3%5\n",
    "a"
   ]
  },
  {
   "cell_type": "code",
   "execution_count": 20,
   "id": "b65f7f29",
   "metadata": {},
   "outputs": [
    {
     "data": {
      "text/plain": [
       "1"
      ]
     },
     "execution_count": 20,
     "metadata": {},
     "output_type": "execute_result"
    }
   ],
   "source": [
    "16%5"
   ]
  },
  {
   "cell_type": "code",
   "execution_count": 21,
   "id": "c419f2a1",
   "metadata": {},
   "outputs": [
    {
     "data": {
      "text/plain": [
       "3"
      ]
     },
     "execution_count": 21,
     "metadata": {},
     "output_type": "execute_result"
    }
   ],
   "source": [
    "8%5"
   ]
  },
  {
   "cell_type": "code",
   "execution_count": 22,
   "id": "6695b857",
   "metadata": {},
   "outputs": [
    {
     "data": {
      "text/plain": [
       "0"
      ]
     },
     "execution_count": 22,
     "metadata": {},
     "output_type": "execute_result"
    }
   ],
   "source": [
    "0%5"
   ]
  },
  {
   "cell_type": "code",
   "execution_count": 23,
   "id": "275900cf",
   "metadata": {},
   "outputs": [
    {
     "data": {
      "text/plain": [
       "4"
      ]
     },
     "execution_count": 23,
     "metadata": {},
     "output_type": "execute_result"
    }
   ],
   "source": [
    "4%5"
   ]
  },
  {
   "cell_type": "code",
   "execution_count": 26,
   "id": "53668ff4",
   "metadata": {},
   "outputs": [
    {
     "data": {
      "text/plain": [
       "4"
      ]
     },
     "execution_count": 26,
     "metadata": {},
     "output_type": "execute_result"
    }
   ],
   "source": [
    "-1%5"
   ]
  },
  {
   "cell_type": "markdown",
   "id": "75a60483",
   "metadata": {},
   "source": [
    "# conclusion: explanations\n",
    "\n",
    "1. **station = (start + i) % n. starting index determines where to start in gas and cost.  %n determines the movement inside the list. for example once the start+i becomes 5 then the index becomes 0 rather than going out of index. this is the best method for making circuits within the array.**\n"
   ]
  },
  {
   "cell_type": "code",
   "execution_count": 27,
   "id": "8813a47d",
   "metadata": {},
   "outputs": [],
   "source": [
    "def find_starting_station(gas, cost):\n",
    "    total_gas = sum(gas)\n",
    "    total_cost = sum(cost)\n",
    "\n",
    "    if total_gas < total_cost:\n",
    "        return -1  # If total gas is less than total cost, there is no solution.\n",
    "\n",
    "    n = len(gas)\n",
    "    tank = 0\n",
    "    start = 0\n",
    "\n",
    "    for i in range(n):\n",
    "        tank += gas[i] - cost[i]\n",
    "\n",
    "        if tank < 0:\n",
    "            # If the tank becomes negative, start from the next station.\n",
    "            tank = 0\n",
    "            start = i + 1\n",
    "\n",
    "    # If you can travel around the circuit, return the starting index; otherwise, return -1.\n",
    "    return start if can_travel(gas, cost, start) else -1\n"
   ]
  },
  {
   "cell_type": "markdown",
   "id": "f9c47403",
   "metadata": {},
   "source": [
    "# exploration,analysis and freethrows"
   ]
  },
  {
   "cell_type": "code",
   "execution_count": 28,
   "id": "8859d60a",
   "metadata": {},
   "outputs": [
    {
     "data": {
      "text/plain": [
       "0"
      ]
     },
     "execution_count": 28,
     "metadata": {},
     "output_type": "execute_result"
    }
   ],
   "source": [
    "gas = [1,2,3,4,5]\n",
    "cost = [3,4,5,1,2]\n",
    "\n",
    "sum(gas) - sum(cost)"
   ]
  },
  {
   "cell_type": "code",
   "execution_count": 1,
   "id": "7a68a117",
   "metadata": {},
   "outputs": [
    {
     "name": "stdout",
     "output_type": "stream",
     "text": [
      "tank:0\n",
      "gas:1\n",
      "cost:3\n",
      "tank:-2\n",
      "tank:0\n",
      "start:1\n",
      "-----------\n",
      "tank:0\n",
      "gas:2\n",
      "cost:4\n",
      "tank:-2\n",
      "tank:0\n",
      "start:2\n",
      "-----------\n",
      "tank:0\n",
      "gas:3\n",
      "cost:5\n",
      "tank:-2\n",
      "tank:0\n",
      "start:3\n",
      "-----------\n",
      "tank:0\n",
      "gas:4\n",
      "cost:1\n",
      "tank:3\n",
      "-----------\n",
      "tank:3\n",
      "gas:5\n",
      "cost:2\n",
      "tank:6\n",
      "-----------\n"
     ]
    }
   ],
   "source": [
    "gas = [1,2,3,4,5]\n",
    "cost = [3,4,5,1,2]\n",
    "n = len(gas)\n",
    "tank = 0\n",
    "start = 0\n",
    "\n",
    "for i in range(n):\n",
    "    print(\"tank:{}\".format(tank))\n",
    "    print('gas:{}'.format(gas[i]))\n",
    "    print('cost:{}'.format(cost[i]))\n",
    "    tank += gas[i] - cost[i]\n",
    "    print('tank:{}'.format(tank))\n",
    "    \n",
    "    if tank < 0:\n",
    "            # If the tank becomes negative, start from the next station.\n",
    "            tank = 0\n",
    "            start = i + 1\n",
    "            print('tank:{}'.format(tank))\n",
    "            print('start:{}'.format(start))\n",
    "    \n",
    "    print('-----------')\n",
    "    "
   ]
  },
  {
   "cell_type": "code",
   "execution_count": null,
   "id": "6b23a850",
   "metadata": {},
   "outputs": [],
   "source": []
  },
  {
   "cell_type": "markdown",
   "id": "1ce21170",
   "metadata": {},
   "source": [
    "# my solution for the gas problem (after exhaustive hours of studies)"
   ]
  },
  {
   "cell_type": "code",
   "execution_count": 40,
   "id": "83b37819",
   "metadata": {},
   "outputs": [],
   "source": [
    "def can_circuit(gas,cost,start_index):\n",
    "    n = len(gas)\n",
    "    fuel = 0 \n",
    "    \n",
    "    for i in range(n):\n",
    "        index = (i+start_index)%n\n",
    "        \n",
    "        fuel += gas[index]-cost[index]\n",
    "        \n",
    "    if fuel < 0:\n",
    "        return False\n",
    "    else:\n",
    "        return True\n",
    "    \n",
    "def find_start_index(gas,cost):\n",
    "    n = len(gas)\n",
    "    fuel = 0\n",
    "    \n",
    "    if sum(gas) < sum(cost):\n",
    "        return -1\n",
    "    \n",
    "    for i in range(n):\n",
    "        fuel += gas[i] - cost[i]\n",
    "        \n",
    "        # if the fuel becomes negative zero the fuel and move the start to next index.\n",
    "        # we don't have to worry about start_index going out of range of the list since sum(gas) < sum(cost) return -1 takes care of it.\n",
    "        \n",
    "        if fuel < 0:\n",
    "            fuel = 0\n",
    "            start_index = i+1\n",
    "            \n",
    "    return start_index if can_circuit(gas,cost,start_index) else -1\n",
    "        "
   ]
  },
  {
   "cell_type": "code",
   "execution_count": 41,
   "id": "fff070d5",
   "metadata": {},
   "outputs": [
    {
     "data": {
      "text/plain": [
       "3"
      ]
     },
     "execution_count": 41,
     "metadata": {},
     "output_type": "execute_result"
    }
   ],
   "source": [
    "gas = [1,2,3,4,5]\n",
    "cost = [3,4,5,1,2]\n",
    "\n",
    "find_start_index(gas,cost)"
   ]
  },
  {
   "cell_type": "code",
   "execution_count": null,
   "id": "99a99338",
   "metadata": {},
   "outputs": [],
   "source": []
  },
  {
   "cell_type": "markdown",
   "id": "df546c10",
   "metadata": {},
   "source": [
    "# day 247"
   ]
  },
  {
   "cell_type": "markdown",
   "id": "36606779",
   "metadata": {},
   "source": [
    "# candies\n",
    "\n",
    "There are n children standing in a line. Each child is assigned a rating value given in the integer array ratings.\n",
    "\n",
    "You are giving candies to these children subjected to the following requirements:\n",
    "\n",
    "Each child must have at least one candy.\n",
    "Children with a higher rating get more candies than their neighbors.\n",
    "Return the minimum number of candies you need to have to distribute the candies to the children.\n",
    "\n",
    " \n",
    "\n",
    "Example 1:\n",
    "\n",
    "Input: ratings = [1,0,2]\n",
    "Output: 5\n",
    "Explanation: You can allocate to the first, second and third child with 2, 1, 2 candies respectively.\n",
    "Example 2:\n",
    "\n",
    "Input: ratings = [1,2,2]\n",
    "Output: 4\n",
    "Explanation: You can allocate to the first, second and third child with 1, 2, 1 candies respectively.\n",
    "The third child gets 1 candy because it satisfies the above two conditions.\n",
    "\n",
    "# steps:\n",
    "1. Initialize an array candies of length n with all values set to 1. This array will represent the minimum number of candies each child must have.\n",
    "\n",
    "2. First, traverse the array from left to right, and for each child, compare its rating with the previous child. If the current child has a higher rating, update its candy count to be one more than the previous child.\n",
    "\n",
    "3. Then, traverse the array from right to left, and for each child, compare its rating with the next child. If the current child has a higher rating and doesn't have more candies than the next child, update its candy count to be one more than the next child.\n",
    "\n",
    "4. Calculate the sum of the candies array to get the minimum total number of candies needed."
   ]
  },
  {
   "cell_type": "code",
   "execution_count": 7,
   "id": "c18fb9fa",
   "metadata": {},
   "outputs": [
    {
     "data": {
      "text/plain": [
       "5"
      ]
     },
     "execution_count": 7,
     "metadata": {},
     "output_type": "execute_result"
    }
   ],
   "source": [
    "ratings = [1,0,2]\n",
    "n = len(ratings)\n",
    "candies = [1] * n\n",
    "\n",
    "# traverse from left to right\n",
    "for i in range(1,n):\n",
    "    # if rating of the child is higher than the previous child \n",
    "    if ratings[i] > ratings[i-1]:\n",
    "        \n",
    "        # then give the child one candy more than the previous child.\n",
    "        candies[i] = candies[i-1] + 1\n",
    "        \n",
    "# traverse from right to left\n",
    "for i in range(n-2,-1,-1):\n",
    "    # even though the rating is high but the number of candies the child hold are lesser\n",
    "    if ratings[i] > ratings[i+1] and candies[i] <= candies[i+1]:\n",
    "        \n",
    "        # then give the child one candy more than the next child\n",
    "        candies[i] = candies[i+1] + 1 \n",
    "        \n",
    "sum(candies)\n",
    "        \n",
    "    "
   ]
  },
  {
   "cell_type": "code",
   "execution_count": 2,
   "id": "dce01f4b",
   "metadata": {},
   "outputs": [
    {
     "name": "stdout",
     "output_type": "stream",
     "text": [
      "Output 1: 5\n",
      "Output 2: 4\n"
     ]
    }
   ],
   "source": [
    "# chatgpt's solution:\n",
    "def distributeCandies(ratings):\n",
    "    n = len(ratings)\n",
    "    candies = [1] * n\n",
    "\n",
    "    # Traverse from left to right\n",
    "    for i in range(1, n):\n",
    "        if ratings[i] > ratings[i - 1]:\n",
    "            candies[i] = candies[i - 1] + 1\n",
    "\n",
    "    # Traverse from right to left\n",
    "    for i in range(n - 2, -1, -1):\n",
    "        if ratings[i] > ratings[i + 1] and candies[i] <= candies[i + 1]:\n",
    "            candies[i] = candies[i + 1] + 1\n",
    "\n",
    "    # Calculate the total number of candies\n",
    "    total_candies = sum(candies)\n",
    "\n",
    "    return total_candies\n",
    "\n",
    "# Example usage:\n",
    "ratings1 = [1, 0, 2]\n",
    "ratings2 = [1, 2, 2]\n",
    "\n",
    "output1 = distributeCandies(ratings1)\n",
    "output2 = distributeCandies(ratings2)\n",
    "\n",
    "print(\"Output 1:\", output1)  # Output: 5\n",
    "print(\"Output 2:\", output2)  # Output: 4\n"
   ]
  },
  {
   "cell_type": "code",
   "execution_count": null,
   "id": "0a7b92ab",
   "metadata": {},
   "outputs": [],
   "source": []
  },
  {
   "cell_type": "markdown",
   "id": "f4a16075",
   "metadata": {},
   "source": [
    "# exploration,analysis and freethrows"
   ]
  },
  {
   "cell_type": "code",
   "execution_count": 4,
   "id": "97d743cd",
   "metadata": {},
   "outputs": [
    {
     "name": "stdout",
     "output_type": "stream",
     "text": [
      "1\n",
      "0\n"
     ]
    }
   ],
   "source": [
    "# Traverse from right to left\n",
    "ratings = [1,0,2]\n",
    "n = len(ratings)\n",
    "candies = [1] * n\n",
    "for i in range(n - 2, -1, -1):\n",
    "    print(i)\n",
    "#     if ratings[i] > ratings[i + 1] and candies[i] <= candies[i + 1]:\n",
    "#         candies[i] = candies[i + 1] + 1"
   ]
  },
  {
   "cell_type": "code",
   "execution_count": null,
   "id": "944b4b88",
   "metadata": {},
   "outputs": [],
   "source": []
  },
  {
   "cell_type": "markdown",
   "id": "320b9183",
   "metadata": {},
   "source": [
    "# day 249,day251"
   ]
  },
  {
   "cell_type": "markdown",
   "id": "cc8ae29d",
   "metadata": {},
   "source": [
    "# Rain water Harversting:\n",
    "\n",
    "Given n non-negative integers representing an elevation map where the width of each bar is 1, compute how much water it can trap after raining. Input: height = [0,1,0,2,1,0,1,3,2,1,2,1]\n",
    "Output: 6\n",
    "Explanation: The above elevation map (black section) is represented by array [0,1,0,2,1,0,1,3,2,1,2,1]. In this case, 6 units of rain water (blue section) are being trapped.\n",
    "Example 2:\n",
    "\n",
    "Input: height = [4,2,0,3,2,5]\n",
    "Output: 9\n",
    "\n",
    "The problem of trapping rainwater in the context of elevation maps has real-world applications, especially in areas related to [[computer vision]] and image processing. Let's draw a parallel between the rainwater trapping problem and some practical scenarios:\n",
    "\n",
    "1. **Image Segmentation:**\n",
    "   - In computer vision, image segmentation involves dividing an image into meaningful regions. The elevation map problem is analogous to identifying distinct objects or regions within an image.\n",
    "   - Each elevation peak could represent an object, and the valleys between them could represent the background or separation between objects.\n",
    "   - Trapping rainwater between bars can be likened to isolating and delineating specific areas of interest within an image.\n",
    "\n",
    "2. **Object Detection:**\n",
    "   - Object detection in images often requires identifying boundaries and shapes of objects. The rainwater trapping problem aligns with finding the boundaries or contours of objects in an image.\n",
    "   - The peaks and valleys in the elevation map correspond to the boundaries of different objects, and the water trapped symbolizes the area enclosed by those boundaries.\n",
    "\n",
    "3. **Feature Extraction:**\n",
    "   - Extracting relevant features from an image is crucial in computer vision tasks. The problem of rainwater trapping can be seen as extracting features related to the shape and structure of objects within an image.\n",
    "   - Understanding the patterns between elevation points can help in recognizing and describing specific features of interest.\n",
    "\n",
    "4. **Image Understanding:**\n",
    "   - The rainwater trapping problem reflects the challenge of understanding the spatial relationships between different elements in an image.\n",
    "   - By solving this problem, you develop an intuition for how different parts of an image interact and how information is distributed spatially.\n",
    "\n",
    "# Application of rain water trapping to finding non-physical entities:\n",
    "\n",
    "The concept of rainwater trapping, as applied to elevation maps, may not directly translate to finding non-physical entities. However, we can draw a metaphorical parallel to highlight the importance of spatial relationships and segmentation.\n",
    "\n",
    "1. **Spatial Relationships in Non-Physical Entities:**\n",
    "   - Non-physical entities may be represented in various ways, such as data patterns, networks, or abstract structures. Understanding the spatial relationships between these entities is crucial for analysis.\n",
    "   - The rainwater trapping problem emphasizes the importance of recognizing patterns and relationships between elevation points. Similarly, in the realm of non-physical entities, understanding how different elements relate to each other is fundamental.\n",
    "\n",
    "2. **Segmentation of Abstract Structures:**\n",
    "   - In computer vision, segmentation involves breaking down an image into distinct regions. In the context of non-physical entities, segmentation could involve isolating specific components or patterns within a complex system.\n",
    "   - Solving the rainwater trapping problem develops an intuition for segmenting different regions based on spatial characteristics. This mindset can be applied to identify and analyze distinct features within non-physical entities.\n",
    "\n",
    "3. **Feature Extraction for Abstract Entities:**\n",
    "   - Feature extraction in computer vision focuses on capturing relevant information from an image. Similarly, when dealing with non-physical entities, extracting meaningful features or attributes is essential for analysis.\n",
    "   - The rainwater trapping problem, while not directly related, encourages thinking about how to extract information from spatial configurations. This mindset can be applied to identify and extract important features from non-physical entities.\n",
    "\n",
    "conclusion:  while the rainwater trapping problem itself may not have a direct application to finding non-physical entities, the underlying principles of spatial relationships, segmentation, and feature extraction are transferable.\n",
    "\n",
    "# formula to keep in mind for measuring the volume of troughs between peaks in similar challenges:\n",
    "\n",
    "# $$ \\text{volume of water trapped } = \\sum_{i=0}^{n} \\text{min( }  \\text{left_max}_i \\text{,right_max}_i \\text{)} -\\text{height}_i$$\n",
    "\n"
   ]
  },
  {
   "cell_type": "code",
   "execution_count": 12,
   "id": "d2dae47c",
   "metadata": {},
   "outputs": [
    {
     "name": "stdout",
     "output_type": "stream",
     "text": [
      "6\n",
      "9\n"
     ]
    }
   ],
   "source": [
    "def trap(height):\n",
    "    n = len(height)\n",
    "    \n",
    "    if n <= 2:\n",
    "        return 0  # Cannot trap water with less than three elevations\n",
    "    \n",
    "    left_max = [0] * n\n",
    "    right_max = [0] * n\n",
    "    \n",
    "    left_max[0] = height[0]\n",
    "    for i in range(1, n):\n",
    "        left_max[i] = max(left_max[i - 1], height[i])\n",
    "    \n",
    "    right_max[n - 1] = height[n - 1]\n",
    "    for i in range(n - 2, -1, -1):\n",
    "        right_max[i] = max(right_max[i + 1], height[i])\n",
    "    \n",
    "    water_trapped = 0\n",
    "    for i in range(n):\n",
    "        water_trapped += min(left_max[i], right_max[i]) - height[i]\n",
    "    \n",
    "    return water_trapped\n",
    "\n",
    "# Example usage:\n",
    "height1 = [0,1,0,2,1,0,1,3,2,1,2,1]\n",
    "print(trap(height1))  # Output: 6\n",
    "\n",
    "height2 = [4,2,0,3,2,5]\n",
    "print(trap(height2))  # Output: 9\n"
   ]
  },
  {
   "cell_type": "markdown",
   "id": "e1e35054",
   "metadata": {},
   "source": [
    "# exploration,analysis and free throws"
   ]
  },
  {
   "cell_type": "code",
   "execution_count": 1,
   "id": "39da253a",
   "metadata": {},
   "outputs": [
    {
     "name": "stdout",
     "output_type": "stream",
     "text": [
      "left_max:[0, 0, 0, 0, 0, 0, 0, 0, 0, 0, 0, 0]\n",
      "left_max:[0, 0, 0, 0, 0, 0, 0, 0, 0, 0, 0, 0]\n",
      "max:1\n",
      "max:1\n",
      "max:2\n",
      "max:2\n",
      "max:2\n",
      "max:2\n",
      "max:3\n",
      "max:3\n",
      "max:3\n",
      "max:3\n",
      "max:3\n"
     ]
    },
    {
     "data": {
      "text/plain": [
       "[0, 1, 1, 2, 2, 2, 2, 3, 3, 3, 3, 3]"
      ]
     },
     "execution_count": 1,
     "metadata": {},
     "output_type": "execute_result"
    }
   ],
   "source": [
    "height = [0,1,0,2,1,0,1,3,2,1,2,1]\n",
    "n = len(height)\n",
    "    \n",
    "if n <= 2:\n",
    "    print(0)  # Cannot trap water with less than three elevations\n",
    "\n",
    "left_max = [0] * n\n",
    "\n",
    "print(\"left_max:{}\".format(left_max))\n",
    "left_max[0] = height[0]\n",
    "print(\"left_max:{}\".format(left_max))\n",
    "for i in range(1, n):\n",
    "    left_max[i] = max(left_max[i - 1], height[i])\n",
    "    print(\"max:{}\".format(max(left_max[i-1],height[i])))\n",
    "    \n",
    "left_max\n"
   ]
  },
  {
   "cell_type": "code",
   "execution_count": 2,
   "id": "065cb286",
   "metadata": {},
   "outputs": [
    {
     "name": "stdout",
     "output_type": "stream",
     "text": [
      "right_max:[0, 0, 0, 0, 0, 0, 0, 0, 0, 0, 0, 0]\n",
      "right_max:[0, 0, 0, 0, 0, 0, 0, 0, 0, 0, 0, 1]\n",
      "max:2\n",
      "max:2\n",
      "max:2\n",
      "max:3\n",
      "max:3\n",
      "max:3\n",
      "max:3\n",
      "max:3\n",
      "max:3\n",
      "max:3\n",
      "max:3\n",
      "right_max:[3, 3, 3, 3, 3, 3, 3, 3, 2, 2, 2, 1]\n"
     ]
    }
   ],
   "source": [
    "height = [0,1,0,2,1,0,1,3,2,1,2,1]\n",
    "n = len(height)\n",
    "    \n",
    "if n <= 2:\n",
    "    print(0)  # Cannot trap water with less than three elevations\n",
    "\n",
    "right_max = [0] * n\n",
    "print('right_max:{}'.format(right_max))\n",
    "\n",
    "right_max[n - 1] = height[n - 1] # append the last index of height to last index of right_max\n",
    "print('right_max:{}'.format(right_max))\n",
    "\n",
    "for i in range(n - 2, -1, -1): # move from one before last till zero'th index(including) in backwards.\n",
    "    right_max[i] = max(right_max[i + 1], height[i])\n",
    "    print('max:{}'.format(max(right_max[i+1],height[i])))\n",
    "    \n",
    "print('right_max:{}'.format(right_max))\n",
    "    "
   ]
  },
  {
   "cell_type": "code",
   "execution_count": 3,
   "id": "d87955c2",
   "metadata": {},
   "outputs": [
    {
     "name": "stdout",
     "output_type": "stream",
     "text": [
      "left_max:[0, 1, 1, 2, 2, 2, 2, 3, 3, 3, 3, 3]\n",
      "right_max:[3, 3, 3, 3, 3, 3, 3, 3, 2, 2, 2, 1]\n",
      "height:[0, 1, 0, 2, 1, 0, 1, 3, 2, 1, 2, 1]\n",
      "water_trapped: 0\n",
      "water_trapped: 0\n",
      "water_trapped: 1\n",
      "water_trapped: 1\n",
      "water_trapped: 2\n",
      "water_trapped: 4\n",
      "water_trapped: 5\n",
      "water_trapped: 5\n",
      "water_trapped: 5\n",
      "water_trapped: 6\n",
      "water_trapped: 6\n",
      "water_trapped: 6\n",
      "water_trapped_final:6\n"
     ]
    }
   ],
   "source": [
    "\n",
    "print('left_max:{}'.format(left_max))\n",
    "print('right_max:{}'.format(right_max))\n",
    "print('height:{}'.format(height))\n",
    "\n",
    "water_trapped = 0\n",
    "for i in range(n):\n",
    "    water_trapped += min(left_max[i], right_max[i]) - height[i]\n",
    "    print('water_trapped: {}'.format(water_trapped))\n",
    "    \n",
    "print('water_trapped_final:{}'.format(water_trapped))\n",
    "    "
   ]
  },
  {
   "cell_type": "code",
   "execution_count": null,
   "id": "2ce32f09",
   "metadata": {},
   "outputs": [],
   "source": []
  },
  {
   "cell_type": "markdown",
   "id": "0207d1fb",
   "metadata": {},
   "source": [
    "# day 251,day 255"
   ]
  },
  {
   "cell_type": "markdown",
   "id": "1b557c54",
   "metadata": {},
   "source": [
    "# Roman Numerals\n",
    "Roman numerals are represented by seven different symbols: I, V, X, L, C, D and M.\n",
    "\n",
    "-----------------\n",
    "|Symbol |  Value |\n",
    "|-------|--------|\n",
    "|I      | 1      |\n",
    "|V      | 5      |\n",
    "|X      | 10     |\n",
    "|L      | 50     |\n",
    "|C      | 100    |\n",
    "|D      | 500    |\n",
    "|M      | 1000   |\n",
    "\n",
    "\n",
    "-------------------\n",
    "For example, 2 is written as II in Roman numeral, just two ones added together. 12 is written as XII, which is simply X + II. The number 27 is written as XXVII, which is XX + V + II.\n",
    "\n",
    "Roman numerals are usually written largest to smallest from left to right. However, the numeral for four is not IIII. Instead, the number four is written as IV. Because the one is before the five we subtract it making four. The same principle applies to the number nine, which is written as IX. There are six instances where subtraction is used:\n",
    "\n",
    "I can be placed before V (5) and X (10) to make 4 and 9. \n",
    "X can be placed before L (50) and C (100) to make 40 and 90. \n",
    "C can be placed before D (500) and M (1000) to make 400 and 900.\n",
    "Given a roman numeral, convert it to an integer.\n",
    "\n",
    " \n",
    "\n",
    "Example 1:\n",
    "\n",
    "Input: s = \"III\"\n",
    "Output: 3\n",
    "Explanation: III = 3.\n",
    "Example 2:\n",
    "\n",
    "Input: s = \"LVIII\"\n",
    "Output: 58\n",
    "Explanation: L = 50, V= 5, III = 3.\n",
    "Example 3:\n",
    "\n",
    "Input: s = \"MCMXCIV\"\n",
    "Output: 1994\n",
    "Explanation: M = 1000, CM = 900, XC = 90 and IV = 4.\n",
    " \n",
    "\n",
    "Constraints:\n",
    "\n",
    "* 1 <= s.length <= 15\n",
    "* s contains only the characters ('I', 'V', 'X', 'L', 'C', 'D', 'M').\n",
    "* It is guaranteed that s is a valid roman numeral in the range [1, 3999].\n"
   ]
  },
  {
   "cell_type": "code",
   "execution_count": 3,
   "id": "99f212aa",
   "metadata": {},
   "outputs": [
    {
     "name": "stdout",
     "output_type": "stream",
     "text": [
      "3\n",
      "58\n",
      "1994\n"
     ]
    }
   ],
   "source": [
    "def romanToInt(s):\n",
    "    # Dictionary to store the values of Roman numerals\n",
    "    roman_dict = {'I': 1, 'V': 5, 'X': 10, 'L': 50, 'C': 100, 'D': 500, 'M': 1000}\n",
    "    \n",
    "    # Initialize the result\n",
    "    result = 0\n",
    "    \n",
    "    # Iterate through the Roman numeral string\n",
    "    for i in range(len(s)):\n",
    "        # If the current value is less than the next value, subtract it\n",
    "        if i < len(s) - 1 and roman_dict[s[i]] < roman_dict[s[i + 1]]:\n",
    "            result -= roman_dict[s[i]]\n",
    "        else:\n",
    "            result += roman_dict[s[i]]\n",
    "    \n",
    "    return result\n",
    "\n",
    "# Test cases\n",
    "print(romanToInt(\"III\"))     # Output: 3\n",
    "print(romanToInt(\"LVIII\"))   # Output: 58\n",
    "print(romanToInt(\"MCMXCIV\")) # Output: 1994\n"
   ]
  },
  {
   "cell_type": "markdown",
   "id": "e8d8f5f7",
   "metadata": {},
   "source": [
    "# exploration,analysis and freethrows"
   ]
  },
  {
   "cell_type": "code",
   "execution_count": 21,
   "id": "1bba6289",
   "metadata": {},
   "outputs": [
    {
     "name": "stdout",
     "output_type": "stream",
     "text": [
      "Roman Number is: MCMXCIV\n",
      "i is: 0 & result is: 1000 \n",
      "\n",
      "I inside1: 1 \n",
      "Inside S current is: C \n",
      "Inside S next is: M \n",
      "i is: 1 & result is: 900 \n",
      "\n",
      "i is: 2 & result is: 1900 \n",
      "\n",
      "I inside1: 3 \n",
      "Inside S current is: X \n",
      "Inside S next is: C \n",
      "i is: 3 & result is: 1890 \n",
      "\n",
      "i is: 4 & result is: 1990 \n",
      "\n",
      "I inside1: 5 \n",
      "Inside S current is: I \n",
      "Inside S next is: V \n",
      "i is: 5 & result is: 1989 \n",
      "\n",
      "i is: 6 & result is: 1994 \n",
      "\n"
     ]
    },
    {
     "data": {
      "text/plain": [
       "1994"
      ]
     },
     "execution_count": 21,
     "metadata": {},
     "output_type": "execute_result"
    }
   ],
   "source": [
    "s = 'MCMXCIV'\n",
    "\n",
    "# Dictionary to store the values of Roman numerals;\n",
    "roman_dict = {'I': 1, 'V': 5, 'X': 10, 'L': 50, 'C': 100, 'D': 500, 'M': 1000}\n",
    "\n",
    "# Initialize the result\n",
    "result = 0\n",
    "\n",
    "print('Roman Number is: {}'.format(s))\n",
    "# Iterate through the Roman numeral string\n",
    "for i in range(len(s)):\n",
    "    \n",
    "    # If the current value is less than the next value, subtract it\n",
    "    if i < len(s) - 1 and roman_dict[s[i]] < roman_dict[s[i + 1]]:\n",
    "        print('I inside1: {} '.format(i))\n",
    "        print('Inside S current is: {} '.format(s[i]))\n",
    "        print('Inside S next is: {} '.format(s[i+1]))\n",
    "        result -= roman_dict[s[i]]\n",
    "        \n",
    "    else:\n",
    "        result += roman_dict[s[i]]\n",
    "        \n",
    "        \n",
    "    print(\"i is: {} & result is: {} \\n\".format(i,result))\n",
    "        \n",
    "result"
   ]
  },
  {
   "cell_type": "code",
   "execution_count": null,
   "id": "f5f4faf7",
   "metadata": {},
   "outputs": [],
   "source": []
  },
  {
   "cell_type": "markdown",
   "id": "eafc51a9",
   "metadata": {},
   "source": [
    "# Integers to Romans\n",
    "\n",
    "Roman numerals are represented by seven different symbols: I, V, X, L, C, D and M.\n",
    "\n",
    "-----------------\n",
    "|Symbol |  Value |\n",
    "|-------|--------|\n",
    "|I      | 1      |\n",
    "|V      | 5      |\n",
    "|X      | 10     |\n",
    "|L      | 50     |\n",
    "|C      | 100    |\n",
    "|D      | 500    |\n",
    "|M      | 1000   |\n",
    "\n",
    "\n",
    "-------------------\n",
    "For example, 2 is written as II in Roman numeral, just two one's added together. 12 is written as XII, which is simply X + II. The number 27 is written as XXVII, which is XX + V + II.\n",
    "\n",
    "Roman numerals are usually written largest to smallest from left to right. However, the numeral for four is not IIII. Instead, the number four is written as IV. Because the one is before the five we subtract it making four. The same principle applies to the number nine, which is written as IX. There are six instances where subtraction is used:\n",
    "\n",
    "I can be placed before V (5) and X (10) to make 4 and 9. \n",
    "X can be placed before L (50) and C (100) to make 40 and 90. \n",
    "C can be placed before D (500) and M (1000) to make 400 and 900.\n",
    "Given an integer, convert it to a roman numeral.\n",
    "\n",
    " \n",
    "\n",
    "Example 1:\n",
    "\n",
    "Input: num = 3\n",
    "Output: \"III\"\n",
    "Explanation: 3 is represented as 3 ones.\n",
    "Example 2:\n",
    "\n",
    "Input: num = 58\n",
    "Output: \"LVIII\"\n",
    "Explanation: L = 50, V = 5, III = 3.\n",
    "Example 3:\n",
    "\n",
    "Input: num = 1994\n",
    "Output: \"MCMXCIV\"\n",
    "Explanation: M = 1000, CM = 900, XC = 90 and IV = 4.\n",
    "\n",
    "\n",
    "# pseudo code:\n",
    " To convert an integer to a Roman numeral, you can follow these steps:\n",
    "\n",
    "1. Create a list of tuples representing the Roman numeral symbols and their corresponding values, ordered from largest to smallest.\n",
    "2. Iterate through the list and repeatedly subtract the largest possible Roman numeral value from the given integer while appending the corresponding symbol to the result.\n",
    "3. Repeat this process until the integer becomes 0."
   ]
  },
  {
   "cell_type": "code",
   "execution_count": 16,
   "id": "fdb38775",
   "metadata": {},
   "outputs": [
    {
     "data": {
      "text/plain": [
       "'MCMXCIV'"
      ]
     },
     "execution_count": 16,
     "metadata": {},
     "output_type": "execute_result"
    }
   ],
   "source": [
    "num = 1994\n",
    "\n",
    "# it needs to be ordered\n",
    "dic = {1000:'M',900:'CM',500:'D',400:'CD',100:'C',90:'XC',50:'L',40:'XL',10:'X',\n",
    "       9:'IX',5:'V',4:'IV',1:'I'}\n",
    "\n",
    "result = \"\"\n",
    "\n",
    "for key,value in dic.items():\n",
    "    while num >= key:\n",
    "        result = result + value\n",
    "        num = num-key\n",
    "        \n",
    "result\n"
   ]
  },
  {
   "cell_type": "code",
   "execution_count": null,
   "id": "24c58d52",
   "metadata": {},
   "outputs": [],
   "source": []
  },
  {
   "cell_type": "markdown",
   "id": "4283d4ad",
   "metadata": {},
   "source": [
    "# exploration,analysis and freethrows"
   ]
  },
  {
   "cell_type": "code",
   "execution_count": 5,
   "id": "d00645da",
   "metadata": {},
   "outputs": [
    {
     "name": "stdout",
     "output_type": "stream",
     "text": [
      "result is: X\n",
      "key is: 10\n",
      "transformed num: 9 \n",
      "\n",
      "result is: XIX\n",
      "key is: 9\n",
      "transformed num: 0 \n",
      "\n"
     ]
    },
    {
     "data": {
      "text/plain": [
       "\"key just remains the same. it doesn't change. num changes. the condition while(num >= key) selects the right key\""
      ]
     },
     "execution_count": 5,
     "metadata": {},
     "output_type": "execute_result"
    }
   ],
   "source": [
    "dic = {1000:'M',900:'CM',500:'D',400:'CD',100:'C',90:'XC',50:'L',40:'XL',10:'X',\n",
    "       9:'IX',5:'V',4:'IV',1:'I'}\n",
    "\n",
    "result = ''\n",
    "\n",
    "num = 19\n",
    "for key,value in dic.items():\n",
    "    \n",
    "    while num >= key:\n",
    "        result = result + value\n",
    "        print(\"result is: {}\".format(result))\n",
    "        print(\"key is: {}\".format(key))\n",
    "        num = num - key\n",
    "        print(\"transformed num: {} \\n\".format(num))\n",
    "        \n",
    "\n",
    "# how the key changes? \n",
    "\"\"\"key just remains the same. it doesn't change. num changes. the condition while(num >= key) selects the right key\"\"\"\n"
   ]
  },
  {
   "cell_type": "code",
   "execution_count": null,
   "id": "6060e487",
   "metadata": {},
   "outputs": [],
   "source": []
  },
  {
   "cell_type": "code",
   "execution_count": 25,
   "id": "61279707",
   "metadata": {},
   "outputs": [
    {
     "data": {
      "text/plain": [
       "[1, 5, 10, 50, 100, 500, 1000]"
      ]
     },
     "execution_count": 25,
     "metadata": {},
     "output_type": "execute_result"
    }
   ],
   "source": [
    "dic = {1:'I',5:'V',10:'X',50:'L',100:'C',500:'D',1000:'M'}\n",
    "\n",
    "list(dic.keys())"
   ]
  },
  {
   "cell_type": "code",
   "execution_count": null,
   "id": "5578cf98",
   "metadata": {},
   "outputs": [],
   "source": [
    "\"\"\"\n",
    "# number decomposition:\n",
    "This function takes an input number i and a list of numbers a. It first sorts the list in descending order and \n",
    "then iterates through it, calculating the quotient and remainder at each step. It appends the current number to the \n",
    "output list multiple times based on the quotient.\n",
    "\n",
    "In the context of computer vision, this problem relates to breaking down a complex input into simpler components, \n",
    "much like the way computer vision algorithms break down and analyze visual information into meaningful features. \n",
    "It emphasizes the importance of decomposition and pattern recognition, which are key concepts in both problem-solving and \n",
    "computer vision.\n",
    "\"\"\"\n",
    "\n",
    "def decompose_number(i, a):\n",
    "    # Sort the list of numbers in descending order\n",
    "    a.sort(reverse=True)\n",
    "    \n",
    "    # Initialize an empty list to store the decomposed numbers\n",
    "    output = []\n",
    "    \n",
    "    # Iterate through the numbers in the list\n",
    "    for num in a:\n",
    "        # Calculate the quotient and remainder\n",
    "        quotient, i = divmod(i, num)\n",
    "        \n",
    "        # Append the current number to the output list multiple times\n",
    "        output.extend([num] * quotient)\n",
    "    \n",
    "    return output\n",
    "\n",
    "# Test case\n",
    "input_number = 58\n",
    "numbers_list = [1, 5, 10, 50, 100, 500, 1000]\n",
    "\n",
    "result = decompose_number(input_number, numbers_list)\n",
    "print(result)  # Output: [50, 5, 1, 1, 1]\n",
    "\n",
    "\n"
   ]
  },
  {
   "cell_type": "code",
   "execution_count": 2,
   "id": "619eb78b",
   "metadata": {},
   "outputs": [
    {
     "name": "stdout",
     "output_type": "stream",
     "text": [
      "[1000, 500, 100, 50, 10, 5, 1]\n",
      "divisive_num: 1000\n",
      "Quotient: 1, input_number: 994 \n",
      "\n",
      "divisive_num: 500\n",
      "Quotient: 1, input_number: 494 \n",
      "\n",
      "divisive_num: 100\n",
      "Quotient: 4, input_number: 94 \n",
      "\n",
      "divisive_num: 50\n",
      "Quotient: 1, input_number: 44 \n",
      "\n",
      "divisive_num: 10\n",
      "Quotient: 4, input_number: 4 \n",
      "\n",
      "divisive_num: 5\n",
      "Quotient: 0, input_number: 4 \n",
      "\n",
      "divisive_num: 1\n",
      "Quotient: 4, input_number: 0 \n",
      "\n"
     ]
    },
    {
     "data": {
      "text/plain": [
       "[1000, 500, 100, 100, 100, 100, 50, 10, 10, 10, 10, 1, 1, 1, 1]"
      ]
     },
     "execution_count": 2,
     "metadata": {},
     "output_type": "execute_result"
    }
   ],
   "source": [
    "input_number = 1994\n",
    "number_list = [1, 5, 10, 50, 100, 500, 1000]\n",
    "\n",
    "# Sort the list of numbers in descending order\n",
    "number_list.sort(reverse=True)\n",
    "\n",
    "# Initialize an empty list to store the decomposed numbers\n",
    "output = []\n",
    "\n",
    "print(number_list)\n",
    "# Iterate through the numbers in the list\n",
    "for divisive_num in number_list:\n",
    "    # Calculate the quotient and remainder\n",
    "    \n",
    "    print('divisive_num: {}'.format(divisive_num))\n",
    "    quotient, input_number = divmod(input_number, divisive_num)\n",
    "    print('Quotient: {}, input_number: {} \\n'.format(quotient,input_number))\n",
    "\n",
    "    # Append the current number to the output list multiple times\n",
    "    output.extend([divisive_num] * quotient)\n",
    "\n",
    "output"
   ]
  },
  {
   "cell_type": "code",
   "execution_count": 6,
   "id": "020d7931",
   "metadata": {},
   "outputs": [
    {
     "data": {
      "text/plain": [
       "array([10,  5,  1,  1,  1,  1,  0,  0,  0,  0,  0,  0,  0,  0,  0],\n",
       "      dtype=int32)"
      ]
     },
     "execution_count": 6,
     "metadata": {},
     "output_type": "execute_result"
    }
   ],
   "source": []
  },
  {
   "cell_type": "code",
   "execution_count": null,
   "id": "8e2d42ef",
   "metadata": {},
   "outputs": [],
   "source": []
  },
  {
   "cell_type": "markdown",
   "id": "db7771b1",
   "metadata": {},
   "source": [
    "# day 258"
   ]
  },
  {
   "cell_type": "markdown",
   "id": "3b665b41",
   "metadata": {},
   "source": [
    "# return the length of the last word:\n",
    "\n",
    "Given a string s consisting of words and spaces, return the length of the last word in the string.\n",
    "\n",
    "A word is a maximal \n",
    "substring\n",
    " consisting of non-space characters only.\n",
    "\n",
    " \n",
    "\n",
    "Example 1:\n",
    "\n",
    "Input: s = \"Hello World\"\n",
    "Output: 5\n",
    "Explanation: The last word is \"World\" with length 5.\n",
    "Example 2:\n",
    "\n",
    "Input: s = \"   fly me   to   the moon  \"\n",
    "Output: 4\n",
    "Explanation: The last word is \"moon\" with length 4.\n",
    "Example 3:\n",
    "\n",
    "Input: s = \"luffy is still joyboy\"\n",
    "Output: 6\n",
    "Explanation: The last word is \"joyboy\" with length 6.\n",
    " \n",
    "\n",
    "Constraints:\n",
    "\n",
    "1 <= s.length <= 104\n",
    "s consists of only English letters and spaces ' '.\n",
    "There will be at least one word in s."
   ]
  },
  {
   "cell_type": "code",
   "execution_count": 10,
   "id": "d03b0795",
   "metadata": {},
   "outputs": [
    {
     "data": {
      "text/plain": [
       "6"
      ]
     },
     "execution_count": 10,
     "metadata": {},
     "output_type": "execute_result"
    }
   ],
   "source": [
    "def length_of_last_word(s:str):\n",
    "    return len(s.split()[-1])\n",
    "\n",
    "\n",
    "s = \"luffy is still               joyboy\"\n",
    "length_of_last_word(s)"
   ]
  },
  {
   "cell_type": "markdown",
   "id": "05ba5d68",
   "metadata": {},
   "source": [
    "# exploration analysis and freethrows"
   ]
  },
  {
   "cell_type": "code",
   "execution_count": 11,
   "id": "ae868582",
   "metadata": {},
   "outputs": [
    {
     "data": {
      "text/plain": [
       "['luffy', 'is', 'still', 'joyboy']"
      ]
     },
     "execution_count": 11,
     "metadata": {},
     "output_type": "execute_result"
    }
   ],
   "source": [
    "s = \"luffy is still               joyboy\"\n",
    "\n",
    "s.split() # the extra spaces are ignored because it splits with the space as the 'delimiter'"
   ]
  },
  {
   "cell_type": "code",
   "execution_count": 12,
   "id": "c1a72afb",
   "metadata": {},
   "outputs": [
    {
     "data": {
      "text/plain": [
       "'joyboy'"
      ]
     },
     "execution_count": 12,
     "metadata": {},
     "output_type": "execute_result"
    }
   ],
   "source": [
    "s.split()[-1]"
   ]
  },
  {
   "cell_type": "code",
   "execution_count": 13,
   "id": "b14c8582",
   "metadata": {},
   "outputs": [
    {
     "data": {
      "text/plain": [
       "6"
      ]
     },
     "execution_count": 13,
     "metadata": {},
     "output_type": "execute_result"
    }
   ],
   "source": [
    "len(s.split()[-1]) # we can count character by character in a string."
   ]
  },
  {
   "cell_type": "code",
   "execution_count": null,
   "id": "2e2cff15",
   "metadata": {},
   "outputs": [],
   "source": []
  },
  {
   "cell_type": "markdown",
   "id": "ef563866",
   "metadata": {},
   "source": [
    "# day 259"
   ]
  },
  {
   "cell_type": "markdown",
   "id": "fd590890",
   "metadata": {},
   "source": [
    "# longest common prefix:\n",
    "Write a function to find the longest common prefix string amongst an array of strings.\n",
    "\n",
    "If there is no common prefix, return an empty string \"\".\n",
    "\n",
    " \n",
    "\n",
    "Example 1:\n",
    "\n",
    "Input: strs = [\"flower\",\"flow\",\"flight\"]\n",
    "Output: \"fl\"\n",
    "Example 2:\n",
    "\n",
    "Input: strs = [\"dog\",\"racecar\",\"car\"]\n",
    "Output: \"\"\n",
    "Explanation: There is no common prefix among the input strings.\n",
    " \n",
    "\n",
    "Constraints:\n",
    "\n",
    "* 1 <= strs.length <= 200\n",
    "* 0 <= strs[i].length <= 200\n",
    "* strs[i] consists of only lowercase English letters"
   ]
  },
  {
   "cell_type": "code",
   "execution_count": 6,
   "id": "efdf781f",
   "metadata": {},
   "outputs": [
    {
     "name": "stdout",
     "output_type": "stream",
     "text": [
      "fl\n",
      "\n"
     ]
    }
   ],
   "source": [
    "def longest_common_prefix(strs):\n",
    "    if not strs:\n",
    "        return \"\"\n",
    "\n",
    "    # Sort the strings to ensure common prefix is at the beginning\n",
    "    strs.sort()\n",
    "\n",
    "    # Take the first and last strings in the sorted array\n",
    "    first_str = strs[0]\n",
    "    last_str = strs[-1]\n",
    "\n",
    "    # Find the common prefix between the first and last strings\n",
    "    common_prefix = \"\"\n",
    "    for i in range(len(first_str)):\n",
    "        if i < len(last_str) and first_str[i] == last_str[i]:\n",
    "            common_prefix += first_str[i]\n",
    "        else:\n",
    "            break # so we don't have to run through the entire loop saving compute.\n",
    "\n",
    "    return common_prefix\n",
    "\n",
    "# Example usage:\n",
    "strs1 = [\"flower\", \"flow\", \"flight\"]\n",
    "strs2 = [\"dog\", \"racecar\", \"car\"]\n",
    "\n",
    "print(longest_common_prefix(strs1))  # Output: \"fl\"\n",
    "print(longest_common_prefix(strs2))  # Output: \"\"\n",
    "\n",
    "    "
   ]
  },
  {
   "cell_type": "code",
   "execution_count": null,
   "id": "2b098b68",
   "metadata": {},
   "outputs": [],
   "source": []
  },
  {
   "cell_type": "markdown",
   "id": "1d6b9491",
   "metadata": {},
   "source": [
    "# exploration,analysis and freethrows"
   ]
  },
  {
   "cell_type": "code",
   "execution_count": 2,
   "id": "a2832714",
   "metadata": {},
   "outputs": [
    {
     "data": {
      "text/plain": [
       "['flight', 'flow', 'flower']"
      ]
     },
     "execution_count": 2,
     "metadata": {},
     "output_type": "execute_result"
    }
   ],
   "source": [
    "strs = ['flower','flow','flight']\n",
    "\n",
    "strs.sort()\n",
    "\n",
    "strs"
   ]
  },
  {
   "cell_type": "code",
   "execution_count": 3,
   "id": "441d75e2",
   "metadata": {},
   "outputs": [
    {
     "data": {
      "text/plain": [
       "['books', 'cocks', 'dogs']"
      ]
     },
     "execution_count": 3,
     "metadata": {},
     "output_type": "execute_result"
    }
   ],
   "source": [
    "strs = ['dogs','cocks','books']\n",
    "\n",
    "strs.sort()\n",
    "\n",
    "strs"
   ]
  },
  {
   "cell_type": "code",
   "execution_count": 7,
   "id": "41a1ad35",
   "metadata": {},
   "outputs": [
    {
     "data": {
      "text/plain": [
       "['abc', 'abddfsdfs', 'abk']"
      ]
     },
     "execution_count": 7,
     "metadata": {},
     "output_type": "execute_result"
    }
   ],
   "source": [
    "strs = ['abk','abc','abddfsdfs']\n",
    "\n",
    "strs.sort()\n",
    "\n",
    "strs"
   ]
  },
  {
   "cell_type": "code",
   "execution_count": null,
   "id": "0832612f",
   "metadata": {},
   "outputs": [],
   "source": []
  },
  {
   "cell_type": "markdown",
   "id": "38f1e384",
   "metadata": {},
   "source": [
    "# conclusion about .sort();\n",
    "\n",
    "* sort arranges the words in alphabetical order. I know you know that.\n",
    "* so, since words are already arranged in alphabetical order all we have to do is just check the commanality between first and last word only.\n",
    "* that's the whole algorithm is about."
   ]
  },
  {
   "cell_type": "code",
   "execution_count": null,
   "id": "d0dda5c8",
   "metadata": {},
   "outputs": [],
   "source": []
  },
  {
   "cell_type": "markdown",
   "id": "7eb0a924",
   "metadata": {},
   "source": [
    "# day 259"
   ]
  },
  {
   "cell_type": "markdown",
   "id": "b58bdf6d",
   "metadata": {},
   "source": [
    "# Reverse words in a string:\n",
    "\n",
    "Given an input string s, reverse the order of the words.\n",
    "\n",
    "A word is defined as a sequence of non-space characters. The words in s will be separated by at least one space.\n",
    "\n",
    "Return a string of the words in reverse order concatenated by a single space.\n",
    "\n",
    "Note that s may contain leading or trailing spaces or multiple spaces between two words. The returned string should only have a single space separating the words. Do not include any extra spaces.\n",
    "\n",
    " \n",
    "\n",
    "Example 1:\n",
    "\n",
    "Input: s = \"the sky is blue\"\n",
    "Output: \"blue is sky the\"\n",
    "Example 2:\n",
    "\n",
    "Input: s = \"  hello world  \"\n",
    "Output: \"world hello\"\n",
    "Explanation: Your reversed string should not contain leading or trailing spaces.\n",
    "Example 3:\n",
    "\n",
    "Input: s = \"a good   example\"\n",
    "Output: \"example good a\"\n",
    "Explanation: You need to reduce multiple spaces between two words to a single space in the reversed string.\n",
    " \n",
    "\n",
    "Constraints:\n",
    "\n",
    "1 <= s.length <= 104\n",
    "s contains English letters (upper-case and lower-case), digits, and spaces ' '.\n",
    "There is at least one word in s.\n",
    " \n",
    "\n",
    "Follow-up: If the string data type is mutable in your language, can you solve it in-place with O(1) extra space?\n",
    "\n",
    "\n",
    "## pseudo code;\n",
    "\n",
    "### Naive approach(BASELINE):\n",
    "1. split the words.\n",
    "2. reverse the list by indexation for O(1) space complexity"
   ]
  },
  {
   "cell_type": "code",
   "execution_count": 38,
   "id": "6288ce0f",
   "metadata": {},
   "outputs": [],
   "source": [
    "def reverse_words(s):\n",
    "    return ','.join(s.split()[::-1]).replace(',',' ')\n"
   ]
  },
  {
   "cell_type": "code",
   "execution_count": 39,
   "id": "36061f21",
   "metadata": {},
   "outputs": [
    {
     "data": {
      "text/plain": [
       "'World Hello'"
      ]
     },
     "execution_count": 39,
     "metadata": {},
     "output_type": "execute_result"
    }
   ],
   "source": [
    "reverse_words('Hello      World') # empty space proof!!"
   ]
  },
  {
   "cell_type": "code",
   "execution_count": 40,
   "id": "a6f75db0",
   "metadata": {},
   "outputs": [
    {
     "data": {
      "text/plain": [
       "'example good a'"
      ]
     },
     "execution_count": 40,
     "metadata": {},
     "output_type": "execute_result"
    }
   ],
   "source": [
    "reverse_words('a    good           example')"
   ]
  },
  {
   "cell_type": "markdown",
   "id": "691e224a",
   "metadata": {},
   "source": [
    "# exploration,analysis and freethrows"
   ]
  },
  {
   "cell_type": "code",
   "execution_count": 30,
   "id": "b3565fa8",
   "metadata": {},
   "outputs": [
    {
     "data": {
      "text/plain": [
       "['The', 'Sky', 'is', 'Blue']"
      ]
     },
     "execution_count": 30,
     "metadata": {},
     "output_type": "execute_result"
    }
   ],
   "source": [
    "s = 'The Sky is Blue'\n",
    "\n",
    "s.split()"
   ]
  },
  {
   "cell_type": "code",
   "execution_count": 34,
   "id": "c9fb3808",
   "metadata": {},
   "outputs": [
    {
     "data": {
      "text/plain": [
       "['Blue', 'is', 'Sky', 'The']"
      ]
     },
     "execution_count": 34,
     "metadata": {},
     "output_type": "execute_result"
    }
   ],
   "source": [
    "s.split()[::-1]\n"
   ]
  },
  {
   "cell_type": "code",
   "execution_count": 41,
   "id": "179a6758",
   "metadata": {},
   "outputs": [
    {
     "data": {
      "text/plain": [
       "'Blue,is,Sky,The'"
      ]
     },
     "execution_count": 41,
     "metadata": {},
     "output_type": "execute_result"
    }
   ],
   "source": [
    "','.join(s.split()[::-1])"
   ]
  },
  {
   "cell_type": "code",
   "execution_count": 35,
   "id": "c76791ac",
   "metadata": {},
   "outputs": [
    {
     "data": {
      "text/plain": [
       "'Blue is Sky The'"
      ]
     },
     "execution_count": 35,
     "metadata": {},
     "output_type": "execute_result"
    }
   ],
   "source": [
    "','.join(s.split()[::-1]).replace(',',' ')"
   ]
  },
  {
   "cell_type": "code",
   "execution_count": null,
   "id": "b8db8995",
   "metadata": {},
   "outputs": [],
   "source": []
  },
  {
   "cell_type": "markdown",
   "id": "711c817e",
   "metadata": {},
   "source": [
    "# Zig-Zag conversion\n",
    "The string \"PAYPALISHIRING\" is written in a zigzag pattern on a given number of rows like this: (you may want to display this pattern in a fixed font for better legibility)\n",
    "\n",
    "P   A   H   N\n",
    "A P L S I I G\n",
    "Y   I   R\n",
    "And then read line by line: \"PAHNAPLSIIGYIR\".\n",
    "\n",
    "Write the code that will take a string and make this conversion given a number of rows:\n",
    "\n",
    "string convert(string s, int numRows);\n",
    " \n",
    "\n",
    "Example 1:\n",
    "\n",
    "Input: s = \"PAYPALISHIRING\", numRows = 3\n",
    "Output: \"PAHNAPLSIIGYIR\"\n",
    "\n",
    "---------------\n",
    "Example 2:\n",
    "Input: s = \"PAYPALISHIRING\", numRows = 4\n",
    "Output: \"PINALSIGYAHRPI\"\n",
    "Explanation:\n",
    "P     I    N\n",
    "A   L S  I G\n",
    "Y A   H R\n",
    "P     I\n",
    "Example 3:\n",
    "\n",
    "Input: s = \"A\", numRows = 1\n",
    "Output: \"A\"\n",
    " "
   ]
  },
  {
   "cell_type": "code",
   "execution_count": null,
   "id": "1c32d791",
   "metadata": {},
   "outputs": [],
   "source": [
    "def convert(s, numRows):\n",
    "    if numRows == 1 or numRows >= len(s):\n",
    "        return s\n",
    "    \n",
    "    result = [''] * numRows\n",
    "    index, step = 0, 1\n",
    "    \n",
    "    for char in s:\n",
    "        result[index] += char\n",
    "        if index == 0:\n",
    "            step = 1\n",
    "        elif index == numRows - 1:\n",
    "            step = -1\n",
    "        index += step\n",
    "    \n",
    "    return ''.join(result)\n",
    "\n",
    "# Example 1\n",
    "s1 = \"PAYPALISHIRING\"\n",
    "numRows1 = 3\n",
    "output1 = convert(s1, numRows1)\n",
    "print(output1)  # Output: \"PAHNAPLSIIGYIR\"\n",
    "\n",
    "# Example 2\n",
    "s2 = \"PAYPALISHIRING\"\n",
    "numRows2 = 4\n",
    "output2 = convert(s2, numRows2)\n",
    "print(output2)  # Output: \"PINALSIGYAHRPI\"\n",
    "\n",
    "# Example 3\n",
    "s3 = \"A\"\n",
    "numRows3 = 1\n",
    "output3 = convert(s3, numRows3)\n",
    "print(output3)  # Output: \"A\"\n"
   ]
  },
  {
   "cell_type": "code",
   "execution_count": null,
   "id": "cfb1abbb",
   "metadata": {},
   "outputs": [],
   "source": []
  },
  {
   "cell_type": "markdown",
   "id": "8325bab8",
   "metadata": {},
   "source": [
    "# exploration,analysis and freethrows\n",
    "\n",
    "\n",
    "reference:\n",
    "P   A   H   N\n",
    "A P L S I I G\n",
    "Y   I   R"
   ]
  },
  {
   "cell_type": "code",
   "execution_count": 16,
   "id": "758413ff",
   "metadata": {},
   "outputs": [
    {
     "data": {
      "text/plain": [
       "['', '', '']"
      ]
     },
     "execution_count": 16,
     "metadata": {},
     "output_type": "execute_result"
    }
   ],
   "source": [
    "s = \"PAYPALISHIRING\"\n",
    "numRows = 3\n",
    "\n",
    "result = [''] * numRows\n",
    "\n",
    "result"
   ]
  },
  {
   "cell_type": "code",
   "execution_count": 17,
   "id": "cea6b2b9",
   "metadata": {},
   "outputs": [
    {
     "name": "stdout",
     "output_type": "stream",
     "text": [
      "original string:  PAYPALISHIRING\n",
      "char:  P\n",
      "result:  P\n",
      "index:  0\n",
      "step:  1\n",
      "----------------\n",
      "original string:  PAYPALISHIRING\n",
      "char:  A\n",
      "result:  A\n",
      "----------------\n",
      "original string:  PAYPALISHIRING\n",
      "char:  Y\n",
      "result:  Y\n",
      "index:  2\n",
      "step:  1\n",
      "----------------\n",
      "original string:  PAYPALISHIRING\n",
      "char:  P\n",
      "result:  AP\n",
      "----------------\n",
      "original string:  PAYPALISHIRING\n",
      "char:  A\n",
      "result:  PA\n",
      "index:  0\n",
      "step:  1\n",
      "----------------\n",
      "original string:  PAYPALISHIRING\n",
      "char:  L\n",
      "result:  APL\n",
      "----------------\n",
      "original string:  PAYPALISHIRING\n",
      "char:  I\n",
      "result:  YI\n",
      "index:  2\n",
      "step:  1\n",
      "----------------\n",
      "original string:  PAYPALISHIRING\n",
      "char:  S\n",
      "result:  APLS\n",
      "----------------\n",
      "original string:  PAYPALISHIRING\n",
      "char:  H\n",
      "result:  PAH\n",
      "index:  0\n",
      "step:  1\n",
      "----------------\n",
      "original string:  PAYPALISHIRING\n",
      "char:  I\n",
      "result:  APLSI\n",
      "----------------\n",
      "original string:  PAYPALISHIRING\n",
      "char:  R\n",
      "result:  YIR\n",
      "index:  2\n",
      "step:  1\n",
      "----------------\n",
      "original string:  PAYPALISHIRING\n",
      "char:  I\n",
      "result:  APLSII\n",
      "----------------\n",
      "original string:  PAYPALISHIRING\n",
      "char:  N\n",
      "result:  PAHN\n",
      "index:  0\n",
      "step:  1\n",
      "----------------\n",
      "original string:  PAYPALISHIRING\n",
      "char:  G\n",
      "result:  APLSIIG\n",
      "----------------\n",
      "result before join:  ['PAHN', 'APLSIIG', 'YIR']\n",
      "result after join:  PAHNAPLSIIGYIR\n"
     ]
    }
   ],
   "source": [
    "index, step = 0, 1\n",
    "    \n",
    "for char in s:\n",
    "    print('original string: ',s)\n",
    "    result[index] += char\n",
    "    print('char: ',char)\n",
    "    print('result: ',result[index])\n",
    "    if index == 0:\n",
    "        step = 1\n",
    "        print('index: ',index)\n",
    "        print('step: ',step)\n",
    "    elif index == numRows - 1:\n",
    "        print('index: ',index)\n",
    "        print('step: ',step)\n",
    "        step = -1\n",
    "    print('----------------')\n",
    "    index += step\n",
    "    \n",
    "print('result before join: ', result)\n",
    "print('result after join: ',''.join(result))"
   ]
  },
  {
   "cell_type": "code",
   "execution_count": null,
   "id": "cf236d01",
   "metadata": {},
   "outputs": [],
   "source": []
  },
  {
   "cell_type": "markdown",
   "id": "b7b314d8",
   "metadata": {},
   "source": [
    "# day 263"
   ]
  },
  {
   "cell_type": "markdown",
   "id": "681cabc6",
   "metadata": {},
   "source": [
    "# Find the Index of the first occurence in a string.\n",
    "\n",
    "Given two strings needle and haystack, return the index of the first occurrence of needle in haystack, or -1 if needle is not part of haystack.\n",
    "\n",
    " \n",
    "\n",
    "Example 1:\n",
    "\n",
    "Input: haystack = \"sadbutsad\", needle = \"sad\"\n",
    "Output: 0\n",
    "Explanation: \"sad\" occurs at index 0 and 6.\n",
    "The first occurrence is at index 0, so we return 0.\n",
    "Example 2:\n",
    "\n",
    "Input: haystack = \"leetcode\", needle = \"leeto\"\n",
    "Output: -1\n",
    "Explanation: \"leeto\" did not occur in \"leetcode\", so we return -1.\n",
    " \n",
    "\n",
    "Constraints:\n",
    "\n",
    "* 1 <= haystack.length, needle.length <= 104\n",
    "* haystack and needle consist of only lowercase English characters.\n",
    "\n",
    "## naive pseudo code:\n",
    "* run a for loop till the end of the string(haystack) with enumeration capturing both the indices and the corresponding values.\n",
    "* access individual components of the haystack and check whether they are `sequentially` equal to those words in the needle.\n",
    "* have the index variable set to 0 in the beginning and increment it by 1 only if the character in the haystack matches with the characters in the needle and when they do not match make the index go to 0.\n",
    "* if the index == len(needle) -1 then return indices - index."
   ]
  },
  {
   "cell_type": "code",
   "execution_count": 27,
   "id": "8dc01c90",
   "metadata": {},
   "outputs": [
    {
     "name": "stdout",
     "output_type": "stream",
     "text": [
      "0\n",
      "char: s\n",
      "1\n",
      "char: a\n",
      "2\n",
      "char: d\n",
      "Total Running Time is : 0.00039230000038514845\n"
     ]
    }
   ],
   "source": [
    "def needle_in_haystack(haystack,needle):\n",
    "    \n",
    "    # if the needle has no string then just return the first index\n",
    "    if len(needle) < 1: \n",
    "        return 0\n",
    "    \n",
    "    index,step = 0,0\n",
    "    if needle in haystack:\n",
    "        \n",
    "        for indices,chars in enumerate(haystack):\n",
    "            if index < len(needle) and needle[index] == chars:\n",
    "                step = 1\n",
    "                print(index)\n",
    "                print(\"char: {}\".format(chars))\n",
    "                \n",
    "                if index == len(needle)-1:\n",
    "                    return indices - index\n",
    "                \n",
    "            elif needle[index] != chars:\n",
    "                step = 0\n",
    "                \n",
    "            index = index + step\n",
    "\n",
    "        \n",
    "            \n",
    "    else:\n",
    "        return -1\n",
    "    \n",
    "haystack = 'sadbutsad'\n",
    "\n",
    "needle = 'sad'\n",
    "\n",
    "def total_time(start,end):\n",
    "    total = end- start\n",
    "    print(\"Total Running Time is : {}\".format(total))\n",
    "\n",
    "import time \n",
    "start = time.perf_counter()\n",
    "needle_in_haystack(haystack,needle)\n",
    "end = time.perf_counter()\n",
    "total_time(start,end)\n",
    "        \n",
    "        "
   ]
  },
  {
   "cell_type": "code",
   "execution_count": 28,
   "id": "d90fb34f",
   "metadata": {},
   "outputs": [
    {
     "name": "stdout",
     "output_type": "stream",
     "text": [
      "Output for Example 1: 0\n",
      "Total Running Time is : 0.00032470000041939784\n"
     ]
    }
   ],
   "source": [
    "# efficient algorithm\n",
    "def strStr(haystack, needle):\n",
    "    \n",
    "    # if there is nothing in the needle\n",
    "    if not needle:\n",
    "        return 0\n",
    "    \n",
    "    # if the needle is bigger than the haystack\n",
    "    if len(needle) > len(haystack):\n",
    "        return -1\n",
    "    \n",
    "    for i in range(len(haystack) - len(needle) + 1):\n",
    "        if haystack[i:i + len(needle)] == needle:\n",
    "            return i\n",
    "    \n",
    "    return -1\n",
    "\n",
    "# Example usage:\n",
    "start = time.perf_counter()\n",
    "haystack1 = \"sadbutsad\"\n",
    "needle1 = \"sad\"\n",
    "result1 = strStr(haystack1, needle1)\n",
    "print(f\"Output for Example 1: {result1}\")\n",
    "end  = time.perf_counter()\n",
    "total_time(start,end)\n"
   ]
  },
  {
   "cell_type": "markdown",
   "id": "693c601b",
   "metadata": {},
   "source": [
    "# exploration,analysis and freethrows"
   ]
  },
  {
   "cell_type": "code",
   "execution_count": 32,
   "id": "3e14c09a",
   "metadata": {},
   "outputs": [
    {
     "data": {
      "text/plain": [
       "7"
      ]
     },
     "execution_count": 32,
     "metadata": {},
     "output_type": "execute_result"
    }
   ],
   "source": [
    "haystack = 'sadbutsad'\n",
    "needle = 'sad'\n",
    "\n",
    "len(haystack) - len(needle) +1 "
   ]
  },
  {
   "cell_type": "code",
   "execution_count": 33,
   "id": "bc434793",
   "metadata": {},
   "outputs": [
    {
     "data": {
      "text/plain": [
       "'sad'"
      ]
     },
     "execution_count": 33,
     "metadata": {},
     "output_type": "execute_result"
    }
   ],
   "source": [
    "haystack[0:0+len(needle)]"
   ]
  },
  {
   "cell_type": "code",
   "execution_count": 34,
   "id": "bc2c05b5",
   "metadata": {},
   "outputs": [
    {
     "data": {
      "text/plain": [
       "'adb'"
      ]
     },
     "execution_count": 34,
     "metadata": {},
     "output_type": "execute_result"
    }
   ],
   "source": [
    "haystack[1:1+len(needle)]"
   ]
  },
  {
   "cell_type": "code",
   "execution_count": 35,
   "id": "cf89b92a",
   "metadata": {},
   "outputs": [
    {
     "data": {
      "text/plain": [
       "'dbu'"
      ]
     },
     "execution_count": 35,
     "metadata": {},
     "output_type": "execute_result"
    }
   ],
   "source": [
    "haystack[2:2+len(needle)]"
   ]
  },
  {
   "cell_type": "code",
   "execution_count": 36,
   "id": "49412c9c",
   "metadata": {},
   "outputs": [
    {
     "name": "stdout",
     "output_type": "stream",
     "text": [
      "0\n"
     ]
    }
   ],
   "source": [
    "for i in range(len(haystack) - len(needle) + 1):\n",
    "    if haystack[i:i + len(needle)] == needle:\n",
    "        print(i)\n",
    "        break"
   ]
  },
  {
   "cell_type": "code",
   "execution_count": 37,
   "id": "31dbfc05",
   "metadata": {},
   "outputs": [
    {
     "data": {
      "text/plain": [
       "False"
      ]
     },
     "execution_count": 37,
     "metadata": {},
     "output_type": "execute_result"
    }
   ],
   "source": [
    "# needle is bigger than the haystack lets see how the in operator handles it\n",
    "needle = 'sadbutsadick'\n",
    "haystack = 'sadbutsad'\n",
    "\n",
    "needle in haystack"
   ]
  },
  {
   "cell_type": "code",
   "execution_count": null,
   "id": "b38205c4",
   "metadata": {},
   "outputs": [],
   "source": [
    "haystack in needle"
   ]
  },
  {
   "cell_type": "code",
   "execution_count": null,
   "id": "de737603",
   "metadata": {},
   "outputs": [],
   "source": []
  },
  {
   "cell_type": "markdown",
   "id": "b4cc98e7",
   "metadata": {},
   "source": [
    "# day 265"
   ]
  },
  {
   "cell_type": "markdown",
   "id": "e2e8cd52",
   "metadata": {},
   "source": [
    "# Text Justification\n",
    "Given an array of strings words and a width maxWidth, format the text such that each line has exactly maxWidth characters and is fully (left and right) justified.\n",
    "\n",
    "You should pack your words in a greedy approach; that is, pack as many words as you can in each line. Pad extra spaces ' ' when necessary so that each line has exactly maxWidth characters.\n",
    "\n",
    "Extra spaces between words should be distributed as evenly as possible. If the number of spaces on a line does not divide evenly between words, the empty slots on the left will be assigned more spaces than the slots on the right.\n",
    "\n",
    "For the last line of text, it should be left-justified, and no extra space is inserted between words.\n",
    "\n",
    "Note:\n",
    "\n",
    "A word is defined as a character sequence consisting of non-space characters only.\n",
    "Each word's length is guaranteed to be greater than 0 and not exceed maxWidth.\n",
    "The input array words contains at least one word.\n",
    " \n",
    "\n",
    "Example 1:\n",
    "\n",
    "Input: words = [\"This\", \"is\", \"an\", \"example\", \"of\", \"text\", \"justification.\"], maxWidth = 16\n",
    "Output:\n",
    "[\n",
    "   \"This    is    an\",\n",
    "   \"example  of text\",\n",
    "   \"justification.  \"\n",
    "]\n",
    "Example 2:\n",
    "\n",
    "Input: words = [\"What\",\"must\",\"be\",\"acknowledgment\",\"shall\",\"be\"], maxWidth = 16\n",
    "Output:\n",
    "[\n",
    "  \"What   must   be\",\n",
    "  \"acknowledgment  \",\n",
    "  \"shall be        \"\n",
    "]\n",
    "Explanation: Note that the last line is \"shall be    \" instead of \"shall     be\", because the last line must be left-justified instead of fully-justified.\n",
    "Note that the second line is also left-justified because it contains only one word.\n",
    "Example 3:\n",
    "\n",
    "Input: words = [\"Science\",\"is\",\"what\",\"we\",\"understand\",\"well\",\"enough\",\"to\",\"explain\",\"to\",\"a\",\"computer.\",\"Art\",\"is\",\"everything\",\"else\",\"we\",\"do\"], maxWidth = 20\n",
    "Output:\n",
    "[\n",
    "  \"Science  is  what we\",\n",
    "  \"understand      well\",\n",
    "  \"enough to explain to\",\n",
    "  \"a  computer.  Art is\",\n",
    "  \"everything  else  we\",\n",
    "  \"do                  \"\n",
    "]\n",
    " \n",
    "\n",
    "Constraints:\n",
    "\n",
    "1 <= words.length <= 300\n",
    "1 <= words[i].length <= 20\n",
    "words[i] consists of only English letters and symbols.\n",
    "1 <= maxWidth <= 100\n",
    "words[i].length <= maxWidth"
   ]
  },
  {
   "cell_type": "code",
   "execution_count": 1,
   "id": "6032c695",
   "metadata": {},
   "outputs": [
    {
     "name": "stdout",
     "output_type": "stream",
     "text": [
      "['This    is    an', 'example  of text', 'justification.  ']\n",
      "['What   must   be', 'acknowledgment  ', 'shall be        ']\n",
      "['Science  is  what we', 'understand      well', 'enough to explain to', 'a  computer.  Art is', 'everything  else  we', 'do                  ']\n"
     ]
    }
   ],
   "source": [
    "def full_justify(words, maxWidth):\n",
    "    result, cur, num_of_letters = [], [], 0\n",
    "    \n",
    "    for word in words:\n",
    "        if num_of_letters + len(word) + len(cur) > maxWidth:\n",
    "            for i in range(maxWidth - num_of_letters):\n",
    "                cur[i % (len(cur) - 1 or 1)] += ' '\n",
    "            result.append(''.join(cur))\n",
    "            cur, num_of_letters = [], 0\n",
    "        \n",
    "        cur += [word]\n",
    "        num_of_letters += len(word)\n",
    "    \n",
    "    result.append(' '.join(cur).ljust(maxWidth))\n",
    "    return result\n",
    "\n",
    "# Example usage:\n",
    "words1 = [\"This\", \"is\", \"an\", \"example\", \"of\", \"text\", \"justification.\"]\n",
    "maxWidth1 = 16\n",
    "output1 = full_justify(words1, maxWidth1)\n",
    "print(output1)\n",
    "\n",
    "words2 = [\"What\", \"must\", \"be\", \"acknowledgment\", \"shall\", \"be\"]\n",
    "maxWidth2 = 16\n",
    "output2 = full_justify(words2, maxWidth2)\n",
    "print(output2)\n",
    "\n",
    "words3 = [\"Science\", \"is\", \"what\", \"we\", \"understand\", \"well\", \"enough\", \"to\", \"explain\", \"to\", \"a\", \"computer.\", \"Art\", \"is\", \"everything\", \"else\", \"we\", \"do\"]\n",
    "maxWidth3 = 20\n",
    "output3 = full_justify(words3, maxWidth3)\n",
    "print(output3)\n"
   ]
  },
  {
   "cell_type": "markdown",
   "id": "02b671d8",
   "metadata": {},
   "source": [
    "# exploration,analysis and freethrows"
   ]
  },
  {
   "cell_type": "code",
   "execution_count": 5,
   "id": "5c3ee5e4",
   "metadata": {},
   "outputs": [
    {
     "data": {
      "text/plain": [
       "[]"
      ]
     },
     "execution_count": 5,
     "metadata": {},
     "output_type": "execute_result"
    }
   ],
   "source": [
    "words = [\"This\", \"is\", \"an\", \"example\", \"of\", \"text\", \"justification.\"]\n",
    "maxWidth = 16\n",
    "cur = []\n",
    "num_of_letters = 0\n",
    "\n",
    "count = 0\n",
    "for word in words:\n",
    "        if num_of_letters + len(word) + len(cur) > maxWidth:\n",
    "            for i in range(maxWidth - num_of_letters):\n",
    "                cur[i % (len(cur) - 1 or 1)] += ' '\n",
    "                \n",
    "        \n",
    "        \n",
    "cur    "
   ]
  },
  {
   "cell_type": "code",
   "execution_count": null,
   "id": "99034a85",
   "metadata": {},
   "outputs": [],
   "source": []
  },
  {
   "cell_type": "markdown",
   "id": "eafb526e",
   "metadata": {},
   "source": [
    "# neetcode: "
   ]
  },
  {
   "cell_type": "code",
   "execution_count": null,
   "id": "84ff0070",
   "metadata": {},
   "outputs": [],
   "source": []
  },
  {
   "cell_type": "markdown",
   "id": "d41734f9",
   "metadata": {},
   "source": [
    "# day 271"
   ]
  },
  {
   "cell_type": "markdown",
   "id": "fe54726d",
   "metadata": {},
   "source": [
    "# contains duplicates or not: \n",
    "\n",
    "Given an integer array nums, return true if any value appears at least twice in the array, and return false if every element is distinct.\n",
    "\n",
    " \n",
    "\n",
    "Example 1:\n",
    "\n",
    "Input: nums = [1,2,3,1]\n",
    "Output: true\n",
    "Example 2:\n",
    "\n",
    "Input: nums = [1,2,3,4]\n",
    "Output: false\n",
    "Example 3:\n",
    "\n",
    "Input: nums = [1,1,1,3,3,4,3,2,4,2]\n",
    "Output: true\n",
    " \n",
    "\n",
    "# pseudo code:\n",
    "1. create a dic.\n",
    "2. add each number of the list as a key in the dic \n",
    "3. count the frequency of the key and add it as its value.\n",
    "4. if the value is more than once then return True indicating the existence of duplicate in the list.\n",
    "5. else return False indicating the non-existence of the duplicates in the list.\n",
    "6. use dic.get(key,0) + 1 for counting the frequency."
   ]
  },
  {
   "cell_type": "code",
   "execution_count": 14,
   "id": "bb0414aa",
   "metadata": {},
   "outputs": [
    {
     "name": "stdout",
     "output_type": "stream",
     "text": [
      "False\n"
     ]
    }
   ],
   "source": [
    "# fastest solution:\n",
    "def contains_duplicates(nums):\n",
    "    return len(nums) != len(set(nums))\n",
    "\n",
    "result = contains_duplicates([1, 2, 3, 4])\n",
    "print(result)"
   ]
  },
  {
   "cell_type": "code",
   "execution_count": 10,
   "id": "b3b05667",
   "metadata": {},
   "outputs": [
    {
     "data": {
      "text/plain": [
       "False"
      ]
     },
     "execution_count": 10,
     "metadata": {},
     "output_type": "execute_result"
    }
   ],
   "source": [
    "def contains_duplicates(nums):\n",
    "    dic = {}\n",
    "    for num in nums:\n",
    "        dic[num] = dic.get(num,0) + 1\n",
    "        \n",
    "        # check if the value is more than 1\n",
    "        if dic[num] > 1:\n",
    "            return True\n",
    "    return False\n",
    "contains_duplicates([1,2,3,4])"
   ]
  },
  {
   "cell_type": "code",
   "execution_count": 11,
   "id": "cdbb23d2",
   "metadata": {},
   "outputs": [
    {
     "name": "stdout",
     "output_type": "stream",
     "text": [
      "True\n"
     ]
    }
   ],
   "source": [
    "nums = [1,2,3,4,1]\n",
    "\n",
    "dic = {}\n",
    "\n",
    "for num in nums:\n",
    "    dic[num] = dic.get(num,0) + 1\n",
    "    \n",
    "    if dic[num] > 1:\n",
    "        print('True')\n",
    "        break"
   ]
  },
  {
   "cell_type": "code",
   "execution_count": null,
   "id": "cae4ec68",
   "metadata": {},
   "outputs": [],
   "source": []
  },
  {
   "cell_type": "markdown",
   "id": "93b0feab",
   "metadata": {},
   "source": [
    "# Valid Anagram:\n",
    "\n",
    "Given two strings s and t, return true if t is an anagram of s, and false otherwise.\n",
    "\n",
    "An Anagram is a word or phrase formed by rearranging the letters of a different word or phrase, typically using all the original letters exactly once.\n",
    "\n",
    " \n",
    "\n",
    "Example 1:\n",
    "\n",
    "Input: s = \"anagram\", t = \"nagaram\"\n",
    "Output: true\n",
    "Example 2:\n",
    "\n",
    "Input: s = \"rat\", t = \"car\"\n",
    "Output: false\n",
    " "
   ]
  },
  {
   "cell_type": "code",
   "execution_count": 22,
   "id": "cf6c0be0",
   "metadata": {},
   "outputs": [
    {
     "data": {
      "text/plain": [
       "True"
      ]
     },
     "execution_count": 22,
     "metadata": {},
     "output_type": "execute_result"
    }
   ],
   "source": [
    "def valid_anagram(s:str,t:str):\n",
    "    return ''.join(sorted(s)) == ''.join(sorted(t))\n",
    "\n",
    "valid_anagram(s='anagram',t='nagaram')\n",
    "    "
   ]
  },
  {
   "cell_type": "code",
   "execution_count": 23,
   "id": "3e9be34b",
   "metadata": {},
   "outputs": [
    {
     "data": {
      "text/plain": [
       "False"
      ]
     },
     "execution_count": 23,
     "metadata": {},
     "output_type": "execute_result"
    }
   ],
   "source": [
    "valid_anagram(s='rat',t='car')"
   ]
  },
  {
   "cell_type": "markdown",
   "id": "3f3ac78d",
   "metadata": {},
   "source": [
    "# exploration,analysis and freethrows"
   ]
  },
  {
   "cell_type": "code",
   "execution_count": 18,
   "id": "dd43aa74",
   "metadata": {},
   "outputs": [
    {
     "data": {
      "text/plain": [
       "['a', 'a', 'a', 'g', 'm', 'n', 'r']"
      ]
     },
     "execution_count": 18,
     "metadata": {},
     "output_type": "execute_result"
    }
   ],
   "source": [
    "s = 'anagram'\n",
    "t = 'nagaram'\n",
    "\n",
    "sorted(s)"
   ]
  },
  {
   "cell_type": "code",
   "execution_count": 19,
   "id": "c965b7f1",
   "metadata": {},
   "outputs": [
    {
     "data": {
      "text/plain": [
       "['a', 'a', 'a', 'g', 'm', 'n', 'r']"
      ]
     },
     "execution_count": 19,
     "metadata": {},
     "output_type": "execute_result"
    }
   ],
   "source": [
    "sorted(t)"
   ]
  },
  {
   "cell_type": "code",
   "execution_count": 20,
   "id": "d692aeeb",
   "metadata": {},
   "outputs": [
    {
     "data": {
      "text/plain": [
       "'aaagmnr'"
      ]
     },
     "execution_count": 20,
     "metadata": {},
     "output_type": "execute_result"
    }
   ],
   "source": [
    "''.join(sorted(s))"
   ]
  },
  {
   "cell_type": "code",
   "execution_count": 21,
   "id": "2e3a5e5e",
   "metadata": {},
   "outputs": [
    {
     "data": {
      "text/plain": [
       "True"
      ]
     },
     "execution_count": 21,
     "metadata": {},
     "output_type": "execute_result"
    }
   ],
   "source": [
    "''.join(sorted(s)) == ''.join(sorted(t))"
   ]
  },
  {
   "cell_type": "code",
   "execution_count": null,
   "id": "044b7915",
   "metadata": {},
   "outputs": [],
   "source": []
  },
  {
   "cell_type": "markdown",
   "id": "1486cb4e",
   "metadata": {},
   "source": [
    "# two sums:\n",
    "\n",
    "Given an array of integers nums and an integer target, return indices of the two numbers such that they add up to target.\n",
    "\n",
    "You may assume that each input would have exactly one solution, and you may not use the same element twice.\n",
    "\n",
    "You can return the answer in any order.\n",
    "\n",
    " \n",
    "\n",
    "Example 1:\n",
    "\n",
    "Input: nums = [2,7,11,15], target = 9\n",
    "Output: [0,1]\n",
    "Explanation: Because nums[0] + nums[1] == 9, we return [0, 1].\n",
    "Example 2:\n",
    "\n",
    "Input: nums = [3,2,4], target = 6\n",
    "Output: [1,2]\n",
    "Example 3:\n",
    "\n",
    "Input: nums = [3,3], target = 6\n",
    "Output: [0,1]\n",
    " "
   ]
  },
  {
   "cell_type": "code",
   "execution_count": 11,
   "id": "8d973300",
   "metadata": {},
   "outputs": [],
   "source": [
    "nums = [3,2,4]\n",
    "target = 6\n",
    "\n",
    "dic = {}\n",
    "for index,number in enumerate(nums):\n",
    "    complement = target - number\n",
    "    \n",
    "    if number in dic: # checks the keys of the dic\n",
    "        print([dic[number],index]) # returns the element's index and also the current index\n",
    "        break\n",
    "        \n",
    "    else:\n",
    "        dic[complement] = index # else just add the element to the dic as the key and its index as its value.\n",
    "    \n",
    "        "
   ]
  },
  {
   "cell_type": "code",
   "execution_count": null,
   "id": "6924fc1e",
   "metadata": {},
   "outputs": [],
   "source": []
  },
  {
   "cell_type": "markdown",
   "id": "d3428a6f",
   "metadata": {},
   "source": [
    "# Group Anagrams"
   ]
  },
  {
   "cell_type": "markdown",
   "id": "4c9578b2",
   "metadata": {},
   "source": [
    "Given an array of strings strs, group the anagrams together. You can return the answer in any order.\n",
    "\n",
    "An Anagram is a word or phrase formed by rearranging the letters of a different word or phrase, typically using all the original letters exactly once.\n",
    "\n",
    " \n",
    "\n",
    "Example 1:\n",
    "\n",
    "Input: strs = [\"eat\",\"tea\",\"tan\",\"ate\",\"nat\",\"bat\"]\n",
    "Output: [[\"bat\"],[\"nat\",\"tan\"],[\"ate\",\"eat\",\"tea\"]]\n",
    "Example 2:\n",
    "\n",
    "Input: strs = [\"\"]\n",
    "Output: [[\"\"]]\n",
    "Example 3:\n",
    "\n",
    "Input: strs = [\"a\"]\n",
    "Output: [[\"a\"]]\n",
    " \n",
    "\n",
    "Constraints:\n",
    "\n",
    "1 <= strs.length <= 104\n",
    "0 <= strs[i].length <= 100\n",
    "strs[i] consists of lowercase English letters.\n",
    "\n",
    "\n",
    "# pseudo code:\n",
    "\n",
    "* sort the string.\n",
    "* store it as the key for the empty dic. create an empty list for its value.\n",
    "* append the original string for its value.\n",
    "* sort the next word and see if it is in the dictionary(checks the keys of the dic) if it is then append this word also to the values list.\n",
    "* if the sorted version of the word is not in the dictionary then create it as a new key. \n",
    "* the process goes on until the end of the all the words in the list.\n",
    "* return the values of the dic."
   ]
  },
  {
   "cell_type": "code",
   "execution_count": 22,
   "id": "b62ee6be",
   "metadata": {},
   "outputs": [
    {
     "data": {
      "text/plain": [
       "[['eat', 'tea', 'ate'], ['tan', 'nat'], ['bat']]"
      ]
     },
     "execution_count": 22,
     "metadata": {},
     "output_type": "execute_result"
    }
   ],
   "source": [
    "strs = [\"eat\",\"tea\",\"tan\",\"ate\",\"nat\",\"bat\"]\n",
    "\n",
    "dic = {}\n",
    "\n",
    "for word in strs:\n",
    "    \n",
    "    sorted_word = ''.join(sorted(word))\n",
    "    \n",
    "    if sorted_word not in dic:\n",
    "        dic[sorted_word] = []\n",
    "    \n",
    "    \n",
    "    dic[sorted_word].append(word)\n",
    "        \n",
    "        \n",
    "list(dic.values())"
   ]
  },
  {
   "cell_type": "markdown",
   "id": "b8aa2462",
   "metadata": {},
   "source": [
    "# exploration,analysis and freethrows"
   ]
  },
  {
   "cell_type": "code",
   "execution_count": 14,
   "id": "03d15ac7",
   "metadata": {},
   "outputs": [
    {
     "data": {
      "text/plain": [
       "'aet'"
      ]
     },
     "execution_count": 14,
     "metadata": {},
     "output_type": "execute_result"
    }
   ],
   "source": [
    "''.join(sorted(strs[0]))"
   ]
  },
  {
   "cell_type": "code",
   "execution_count": 28,
   "id": "5571bced",
   "metadata": {},
   "outputs": [
    {
     "data": {
      "text/plain": [
       "defaultdict(list, {})"
      ]
     },
     "execution_count": 28,
     "metadata": {},
     "output_type": "execute_result"
    }
   ],
   "source": [
    "defaultdict(list)"
   ]
  },
  {
   "cell_type": "code",
   "execution_count": null,
   "id": "ba9a3649",
   "metadata": {},
   "outputs": [],
   "source": []
  },
  {
   "cell_type": "markdown",
   "id": "a331d94c",
   "metadata": {},
   "source": [
    "# day 281"
   ]
  },
  {
   "cell_type": "markdown",
   "id": "b2952acf",
   "metadata": {},
   "source": [
    "# Top k-frequent elements:\n",
    "\n",
    "Given an integer array nums and an integer k, return the k most frequent elements. You may return the answer in any order.\n",
    "\n",
    " \n",
    "\n",
    "Example 1:\n",
    "\n",
    "Input: nums = [1,1,1,2,2,3], k = 2\n",
    "Output: [1,2]\n",
    "Example 2:\n",
    "\n",
    "Input: nums = [1], k = 1\n",
    "Output: [1]\n",
    " \n",
    "\n",
    "Constraints:\n",
    "\n",
    "1 <= nums.length <= 105\n",
    "-104 <= nums[i] <= 104\n",
    "k is in the range [1, the number of unique elements in the array].\n",
    "It is guaranteed that the answer is unique.\n",
    "\n",
    "## pseudo code:\n",
    "* get the dictionary to count the frequency of values.\n",
    "* sort the dictionary in descending order of values.\n",
    "* return the k frequent elements' keys.\n",
    "\n"
   ]
  },
  {
   "cell_type": "code",
   "execution_count": 35,
   "id": "bc92bb2f",
   "metadata": {},
   "outputs": [
    {
     "data": {
      "text/plain": [
       "[-1, 2]"
      ]
     },
     "execution_count": 35,
     "metadata": {},
     "output_type": "execute_result"
    }
   ],
   "source": [
    "def k_frequent(nums,k):\n",
    "    dic = {}\n",
    "    \n",
    "    for num in nums:\n",
    "        dic[num] = dic.get(num,0) + 1\n",
    "    \n",
    "    \n",
    "    return list(dict(sorted(dic.items(),key= lambda dic_items: dic_items[1],reverse=True)).keys())[:k]\n",
    "\n",
    "nums = [4,1,-1,2,-1,2,3]\n",
    "k = 2\n",
    "k_frequent(nums,k)"
   ]
  },
  {
   "cell_type": "markdown",
   "id": "be418bec",
   "metadata": {},
   "source": [
    "# exploration, analysis and freethrows"
   ]
  },
  {
   "cell_type": "code",
   "execution_count": 34,
   "id": "6f36fe82",
   "metadata": {},
   "outputs": [
    {
     "name": "stdout",
     "output_type": "stream",
     "text": [
      "2 frequent elements are: [-1, 2] \n"
     ]
    }
   ],
   "source": [
    "nums = [4,1,-1,2,-1,2,3]\n",
    "k = 2\n",
    "\n",
    "dic = {}\n",
    "\n",
    "for num in nums:\n",
    "    dic[num] = dic.get(num,0) + 1\n",
    "    \n",
    "sorted_dic = list(dict(sorted(dic.items(),key= lambda dic_items: dic_items[1],reverse=True)).keys())\n",
    "\n",
    "print(\"%s frequent elements are: %s \"%(k,sorted_dic[:k]))"
   ]
  },
  {
   "cell_type": "code",
   "execution_count": 25,
   "id": "800543bb",
   "metadata": {},
   "outputs": [
    {
     "data": {
      "text/plain": [
       "{4: 1, 1: 1, -1: 2, 2: 2, 3: 1}"
      ]
     },
     "execution_count": 25,
     "metadata": {},
     "output_type": "execute_result"
    }
   ],
   "source": [
    "dic"
   ]
  },
  {
   "cell_type": "code",
   "execution_count": 26,
   "id": "d73282cc",
   "metadata": {},
   "outputs": [
    {
     "data": {
      "text/plain": [
       "[(-1, 2), (1, 1), (2, 2), (3, 1), (4, 1)]"
      ]
     },
     "execution_count": 26,
     "metadata": {},
     "output_type": "execute_result"
    }
   ],
   "source": [
    "sorted(dic.items())"
   ]
  },
  {
   "cell_type": "code",
   "execution_count": 22,
   "id": "68b8cbef",
   "metadata": {},
   "outputs": [
    {
     "data": {
      "text/plain": [
       "[(-1, 2), (2, 2), (4, 1), (1, 1), (3, 1)]"
      ]
     },
     "execution_count": 22,
     "metadata": {},
     "output_type": "execute_result"
    }
   ],
   "source": [
    "# sort the dictionary items by their first index\n",
    "sorted(dic.items(), key = lambda dic_item: dic_item[1],reverse=True)"
   ]
  },
  {
   "cell_type": "code",
   "execution_count": 27,
   "id": "557e66d2",
   "metadata": {},
   "outputs": [
    {
     "data": {
      "text/plain": [
       "{-1: 2, 2: 2, 4: 1, 1: 1, 3: 1}"
      ]
     },
     "execution_count": 27,
     "metadata": {},
     "output_type": "execute_result"
    }
   ],
   "source": [
    "# convert that into a dic\n",
    "dict(sorted(dic.items(),key= lambda dic_items: dic_items[1],reverse=True))"
   ]
  },
  {
   "cell_type": "code",
   "execution_count": 33,
   "id": "54e99a8b",
   "metadata": {},
   "outputs": [
    {
     "data": {
      "text/plain": [
       "[-1, 2]"
      ]
     },
     "execution_count": 33,
     "metadata": {},
     "output_type": "execute_result"
    }
   ],
   "source": [
    "# sort it further\n",
    "list(dict(sorted(dic.items(),key= lambda dic_items: dic_items[1],reverse=True)).keys())[:k]"
   ]
  },
  {
   "cell_type": "code",
   "execution_count": 37,
   "id": "dc3668a6",
   "metadata": {},
   "outputs": [
    {
     "name": "stdout",
     "output_type": "stream",
     "text": [
      "[-1, 2]\n"
     ]
    }
   ],
   "source": [
    "# chatgpt solution:\n",
    "\n",
    "from collections import Counter\n",
    "\n",
    "def k_frequent(nums, k):\n",
    "    # Use Counter to count occurrences\n",
    "    counter = Counter(nums)\n",
    "    \n",
    "    # Use most_common to get k most frequent elements\n",
    "    frequent_elements = [key for key, _ in counter.most_common(k)]\n",
    "    \n",
    "    return frequent_elements\n",
    "\n",
    "# Example usage\n",
    "nums = [4,1,-1,2,-1,2,3]\n",
    "k = 2\n",
    "result = k_frequent(nums, k)\n",
    "print(result)\n"
   ]
  },
  {
   "cell_type": "code",
   "execution_count": 38,
   "id": "3f121d19",
   "metadata": {},
   "outputs": [
    {
     "data": {
      "text/plain": [
       "Counter({4: 1, 1: 1, -1: 2, 2: 2, 3: 1})"
      ]
     },
     "execution_count": 38,
     "metadata": {},
     "output_type": "execute_result"
    }
   ],
   "source": [
    "nums = [4,1,-1,2,-1,2,3]\n",
    "Counter(nums)"
   ]
  },
  {
   "cell_type": "code",
   "execution_count": null,
   "id": "ce574d10",
   "metadata": {},
   "outputs": [],
   "source": []
  },
  {
   "cell_type": "markdown",
   "id": "83ffc365",
   "metadata": {},
   "source": [
    "# Product of self and array:\n",
    "Given an integer array nums, return an array answer such that answer[i] is equal to the product of all the elements of nums except nums[i].\n",
    "\n",
    "The product of any prefix or suffix of nums is guaranteed to fit in a 32-bit integer.\n",
    "\n",
    "You must write an algorithm that runs in O(n) time and without using the division operation.\n",
    "\n",
    " \n",
    "\n",
    "Example 1:\n",
    "\n",
    "Input: nums = [1,2,3,4]\n",
    "Output: [24,12,8,6]\n",
    "Example 2:\n",
    "\n",
    "Input: nums = [-1,1,0,-3,3]\n",
    "Output: [0,0,9,0,0]"
   ]
  },
  {
   "cell_type": "code",
   "execution_count": 44,
   "id": "3f943541",
   "metadata": {},
   "outputs": [
    {
     "data": {
      "text/plain": [
       "[24, 12, 8, 6]"
      ]
     },
     "execution_count": 44,
     "metadata": {},
     "output_type": "execute_result"
    }
   ],
   "source": [
    "nums = [1,2,3,4]\n",
    "\n",
    "n = len(nums)\n",
    "\n",
    "left_products = [1]*n\n",
    "right_products = [1]*n\n",
    "\n",
    "left_prod = 1\n",
    "for i in range(1,n):\n",
    "    left_prod = left_prod * nums[i-1]\n",
    "    left_products[i] = left_prod\n",
    "    \n",
    "right_prod = 1\n",
    "for i in range(n-2,-1,-1): # n-2 = 2\n",
    "    right_prod = right_prod * nums[i+1]\n",
    "    right_products[i] = right_prod\n",
    "    \n",
    "# merge it \n",
    "result = [left_products[i] * right_products[i] for i in range(n)]\n",
    "result"
   ]
  },
  {
   "cell_type": "code",
   "execution_count": null,
   "id": "38f4ec3c",
   "metadata": {},
   "outputs": [],
   "source": []
  },
  {
   "cell_type": "markdown",
   "id": "e59d4054",
   "metadata": {},
   "source": [
    "# day 283"
   ]
  },
  {
   "cell_type": "markdown",
   "id": "4f551cf4",
   "metadata": {},
   "source": [
    "# encode and decode problem (facebook interview**).\n",
    "\n"
   ]
  },
  {
   "cell_type": "code",
   "execution_count": 33,
   "id": "27da9174",
   "metadata": {},
   "outputs": [],
   "source": [
    "def encode(lis):\n",
    "    transformed_string = ''\n",
    "    for string in lis:\n",
    "        transformed_string += str(len(string)) + '#' + string\n",
    "        \n",
    "    return transformed_string\n",
    "\n",
    "\n",
    "\n",
    "def decode(string):\n",
    "    decoded,i = [],0\n",
    "    \n",
    "    while i < len(string):\n",
    "        j = i\n",
    "        \n",
    "        while string[j] != '#':\n",
    "            j += 1\n",
    "        \n",
    "        length = int(string[i:j])\n",
    "        \n",
    "        decoded.append(string[j+1:j+1+length])\n",
    "        \n",
    "        #update i to move to the next word\n",
    "        i = j+1+length\n",
    "        \n",
    "    return decoded\n",
    "        \n",
    "\n",
    "\n",
    "       "
   ]
  },
  {
   "cell_type": "code",
   "execution_count": 34,
   "id": "d23a4a4b",
   "metadata": {},
   "outputs": [
    {
     "data": {
      "text/plain": [
       "'6#george5#kundi8#calculus4#kusi'"
      ]
     },
     "execution_count": 34,
     "metadata": {},
     "output_type": "execute_result"
    }
   ],
   "source": [
    "lis = ['george','kundi','calculus','kusi']\n",
    "\n",
    "encode(lis)"
   ]
  },
  {
   "cell_type": "code",
   "execution_count": 35,
   "id": "2c67044a",
   "metadata": {},
   "outputs": [
    {
     "data": {
      "text/plain": [
       "str"
      ]
     },
     "execution_count": 35,
     "metadata": {},
     "output_type": "execute_result"
    }
   ],
   "source": [
    "type(encode(lis))"
   ]
  },
  {
   "cell_type": "code",
   "execution_count": 36,
   "id": "a7350cc4",
   "metadata": {},
   "outputs": [
    {
     "data": {
      "text/plain": [
       "['george', 'kundi']"
      ]
     },
     "execution_count": 36,
     "metadata": {},
     "output_type": "execute_result"
    }
   ],
   "source": [
    "decode('6#george5#kundi')"
   ]
  },
  {
   "cell_type": "code",
   "execution_count": 37,
   "id": "0f33320b",
   "metadata": {},
   "outputs": [
    {
     "data": {
      "text/plain": [
       "['george', 'kundi', 'calculus', 'kusi']"
      ]
     },
     "execution_count": 37,
     "metadata": {},
     "output_type": "execute_result"
    }
   ],
   "source": [
    "decode(encode(lis))"
   ]
  },
  {
   "cell_type": "code",
   "execution_count": null,
   "id": "e95a40ef",
   "metadata": {},
   "outputs": [],
   "source": []
  },
  {
   "cell_type": "markdown",
   "id": "a61e6609",
   "metadata": {},
   "source": [
    "# Longest consecutive length\n",
    "\n",
    "Given an unsorted array of integers nums, return the length of the longest consecutive elements sequence.\n",
    "\n",
    "You must write an algorithm that runs in O(n) time.\n",
    "\n",
    " \n",
    "\n",
    "Example 1:\n",
    "\n",
    "Input: nums = [100,4,200,1,3,2]\n",
    "Output: 4\n",
    "Explanation: The longest consecutive elements sequence is [1, 2, 3, 4]. Therefore its length is 4.\n",
    "Example 2:\n",
    "\n",
    "Input: nums = [0,3,7,2,5,8,4,6,0,1]\n",
    "Output: 9\n",
    "\n",
    "# pseudo code:\n",
    "\n",
    "* convert the list into set for removing duplicates and faster membership checking\n",
    "* set the counter to 1 and max_counter to 1.\n",
    "* access the first element from the list (indexing is not possible with set).\n",
    "* check if the element + 1 also is a member of the set.\n",
    "* if yes keep iterating and increase the counter \n",
    "* down at the bottom update the counter: max_counter = max(counter,max_counter).\n",
    "* whenever the sequence breaks, reset the counter to 1.\n",
    "* keep repeating the procedure until the end of the list.\n",
    "* return the counter."
   ]
  },
  {
   "cell_type": "code",
   "execution_count": null,
   "id": "611a25c7",
   "metadata": {},
   "outputs": [],
   "source": []
  },
  {
   "cell_type": "code",
   "execution_count": 8,
   "id": "6f65a66b",
   "metadata": {},
   "outputs": [
    {
     "name": "stdout",
     "output_type": "stream",
     "text": [
      "3\n"
     ]
    }
   ],
   "source": [
    "nums = [0,1,-1]\n",
    "\n",
    "\n",
    "# to remove duplicates and also for faster member access\n",
    "nums = list(set(nums))\n",
    "\n",
    "# for order\n",
    "nums.sort()\n",
    "\n",
    "# for membership checking\n",
    "num_set = set(nums)\n",
    "\n",
    "# counter to 1\n",
    "counter = 1\n",
    "max_counter = 1\n",
    "\n",
    "if len(nums) == 0:\n",
    "    print(0)\n",
    "\n",
    "else:\n",
    "    for num in nums:\n",
    "        if (num+1) in num_set:\n",
    "            counter += 1\n",
    "            max_counter = max(max_counter,counter)\n",
    "            \n",
    "        # reset the counter to 1 whenever the sequence breaks\n",
    "        else:\n",
    "            counter = 1\n",
    "    print(max_counter)\n"
   ]
  },
  {
   "cell_type": "code",
   "execution_count": null,
   "id": "886f4958",
   "metadata": {},
   "outputs": [],
   "source": []
  },
  {
   "cell_type": "markdown",
   "id": "30ad72a6",
   "metadata": {},
   "source": [
    "# day 330,day 333"
   ]
  },
  {
   "cell_type": "markdown",
   "id": "e6da3c21",
   "metadata": {},
   "source": [
    "# Ransom Note:\n",
    "\n",
    "Given two strings ransomNote and magazine, return true if ransomNote can be constructed by using the letters from magazine and false otherwise.\n",
    "\n",
    "Each letter in magazine can only be used once in ransomNote.\n",
    "\n",
    " \n",
    "\n",
    "Example 1:\n",
    "\n",
    "Input: ransomNote = \"a\", magazine = \"b\"\n",
    "Output: false\n",
    "Example 2:\n",
    "\n",
    "Input: ransomNote = \"aa\", magazine = \"ab\"\n",
    "Output: false\n",
    "Example 3:\n",
    "\n",
    "Input: ransomNote = \"aa\", magazine = \"aab\"\n",
    "Output: true\n",
    " \n",
    "\n",
    "# Naive pseudocode:\n",
    "* count the occurence of the char in ransomNote and store the char and its corresponding count in a dic.\n",
    "* do the same for magazine\n",
    "* see if the value of the char-key for ransomNote is as same as the value of the char-key for magazine."
   ]
  },
  {
   "cell_type": "code",
   "execution_count": 12,
   "id": "c0b07134",
   "metadata": {},
   "outputs": [
    {
     "name": "stdout",
     "output_type": "stream",
     "text": [
      "dic_ran: {'a': 2, 'b': 1}\n",
      "dic_mag: {'b': 1, 'a': 2}\n"
     ]
    }
   ],
   "source": [
    "ransomNote = 'aab'\n",
    "magazine = 'baa'\n",
    "\n",
    "dic_ran = {}\n",
    "dic_mag = {}\n",
    "for char in ransomNote:\n",
    "    dic_ran[char] = dic_ran.get(char,0) + 1\n",
    "    \n",
    "for char in magazine:\n",
    "    dic_mag[char] = dic_mag.get(char,0) + 1\n",
    "    \n",
    "print(\"dic_ran: {}\".format(dic_ran))\n",
    "print(\"dic_mag: {}\".format(dic_mag))"
   ]
  },
  {
   "cell_type": "code",
   "execution_count": 17,
   "id": "2164ac33",
   "metadata": {},
   "outputs": [
    {
     "name": "stdout",
     "output_type": "stream",
     "text": [
      "True\n"
     ]
    }
   ],
   "source": [
    "count = 0\n",
    "for char in ransomNote:\n",
    "    if dic_ran[char] == dic_mag[char]:\n",
    "        count += 1\n",
    "        \n",
    "if count == len(ransomNote):\n",
    "    print('True')"
   ]
  },
  {
   "cell_type": "code",
   "execution_count": 1,
   "id": "2c70aeb7",
   "metadata": {},
   "outputs": [],
   "source": [
    "# putting it all together\n",
    "def canConstruct(ransomNote,magazine):\n",
    "    dic_ran = {}\n",
    "    dic_mag = {}\n",
    "\n",
    "    for char in ransomNote:\n",
    "        dic_ran[char] = dic_ran.get(char,0) + 1\n",
    "        \n",
    "    for char in magazine:\n",
    "        dic_mag[char] = dic_mag.get(char,0) + 1\n",
    "        \n",
    "    for char in ransomNote:\n",
    "        if char not in dic_mag or  dic_ran[char] > dic_mag[char]: # it returns the corresponding values\n",
    "            return False\n",
    "            \n",
    "    return True\n",
    "        "
   ]
  },
  {
   "cell_type": "code",
   "execution_count": 4,
   "id": "49cf3d2e",
   "metadata": {},
   "outputs": [
    {
     "data": {
      "text/plain": [
       "True"
      ]
     },
     "execution_count": 4,
     "metadata": {},
     "output_type": "execute_result"
    }
   ],
   "source": [
    "canConstruct(ransomNote='aab',magazine='baa')"
   ]
  },
  {
   "cell_type": "code",
   "execution_count": null,
   "id": "139161c3",
   "metadata": {},
   "outputs": [],
   "source": []
  },
  {
   "cell_type": "markdown",
   "id": "b3adbd1e",
   "metadata": {},
   "source": [
    "# exploration,analysis and freethrows"
   ]
  },
  {
   "cell_type": "code",
   "execution_count": 14,
   "id": "200eb373",
   "metadata": {},
   "outputs": [
    {
     "data": {
      "text/plain": [
       "2"
      ]
     },
     "execution_count": 14,
     "metadata": {},
     "output_type": "execute_result"
    }
   ],
   "source": [
    "dic_ran['a']"
   ]
  },
  {
   "cell_type": "code",
   "execution_count": 15,
   "id": "8c56b418",
   "metadata": {},
   "outputs": [
    {
     "data": {
      "text/plain": [
       "2"
      ]
     },
     "execution_count": 15,
     "metadata": {},
     "output_type": "execute_result"
    }
   ],
   "source": [
    "dic_mag['a']"
   ]
  },
  {
   "cell_type": "code",
   "execution_count": null,
   "id": "8865db94",
   "metadata": {},
   "outputs": [],
   "source": []
  },
  {
   "cell_type": "markdown",
   "id": "de62c79e",
   "metadata": {},
   "source": [
    "# day333"
   ]
  },
  {
   "cell_type": "markdown",
   "id": "d584f734",
   "metadata": {},
   "source": [
    "# isomorphic strings:\n",
    "\n",
    "Given two strings s and t, determine if they are isomorphic.\n",
    "\n",
    "Two strings s and t are isomorphic if the characters in s can be replaced to get t.\n",
    "\n",
    "All occurrences of a character must be replaced with another character while preserving the order of characters. No two characters may map to the same character, but a character may map to itself.\n",
    "\n",
    " \n",
    "\n",
    "Example 1:\n",
    "\n",
    "Input: s = \"egg\", t = \"add\"\n",
    "Output: true\n",
    "Example 2:\n",
    "\n",
    "Input: s = \"foo\", t = \"bar\"\n",
    "Output: false\n",
    "Example 3:\n",
    "\n",
    "Input: s = \"paper\", t = \"title\"\n",
    "Output: true\n",
    " \n",
    "\n"
   ]
  },
  {
   "cell_type": "code",
   "execution_count": 30,
   "id": "b2a11f79",
   "metadata": {},
   "outputs": [
    {
     "name": "stdout",
     "output_type": "stream",
     "text": [
      "True\n",
      "False\n",
      "True\n"
     ]
    }
   ],
   "source": [
    "s = 'egg'\n",
    "t = 'odd'\n",
    "\n",
    "\"\"\"\n",
    "# constraints:\n",
    "1. t and s are of same lengths.\n",
    "2. they must have one on one correspondence with their characters ('e':'a', 'g':'d','g':'d')\n",
    "\"\"\"\n",
    "\n",
    "def isIsomorphic(s: str, t: str) -> bool:\n",
    "    if len(s) != len(t):\n",
    "        return False\n",
    "    \n",
    "    mapping_s_to_t = {}\n",
    "    mapping_t_to_s = {}\n",
    "    \n",
    "    for char_s, char_t in zip(s, t):\n",
    "        if char_s in mapping_s_to_t:\n",
    "            if mapping_s_to_t[char_s] != char_t:\n",
    "                return False\n",
    "        else:\n",
    "            mapping_s_to_t[char_s] = char_t\n",
    "        \n",
    "        if char_t in mapping_t_to_s:\n",
    "            if mapping_t_to_s[char_t] != char_s:\n",
    "                return False\n",
    "        else:\n",
    "            mapping_t_to_s[char_t] = char_s\n",
    "    \n",
    "    return True\n",
    "\n",
    "# Test cases\n",
    "print(isIsomorphic(\"egg\", \"add\"))    # Output: True\n",
    "print(isIsomorphic(\"foo\", \"bar\"))    # Output: False\n",
    "print(isIsomorphic(\"paper\", \"title\"))    # Output: True\n"
   ]
  },
  {
   "cell_type": "code",
   "execution_count": 19,
   "id": "fb6f8ba7",
   "metadata": {},
   "outputs": [
    {
     "data": {
      "text/plain": [
       "{'e': 1, 'g': 1}"
      ]
     },
     "execution_count": 19,
     "metadata": {},
     "output_type": "execute_result"
    }
   ],
   "source": [
    "dic"
   ]
  },
  {
   "cell_type": "code",
   "execution_count": 20,
   "id": "6a271b94",
   "metadata": {},
   "outputs": [
    {
     "data": {
      "text/plain": [
       "dict_values([1, 1])"
      ]
     },
     "execution_count": 20,
     "metadata": {},
     "output_type": "execute_result"
    }
   ],
   "source": [
    "dic.values()"
   ]
  },
  {
   "cell_type": "code",
   "execution_count": 1,
   "id": "32c5e343",
   "metadata": {},
   "outputs": [
    {
     "name": "stdout",
     "output_type": "stream",
     "text": [
      "e o\n",
      "g d\n",
      "g d\n"
     ]
    }
   ],
   "source": [
    "s = 'egg'\n",
    "t = 'odd'\n",
    "\n",
    "for char_s,char_t in zip(s,t):\n",
    "    print(char_s,char_t)"
   ]
  },
  {
   "cell_type": "code",
   "execution_count": 2,
   "id": "c112c292",
   "metadata": {},
   "outputs": [
    {
     "name": "stdout",
     "output_type": "stream",
     "text": [
      "yes\n"
     ]
    }
   ],
   "source": [
    "dic = {'a':10,'b':5}\n",
    "\n",
    "if 'a' in dic:\n",
    "    print('yes')"
   ]
  },
  {
   "cell_type": "code",
   "execution_count": null,
   "id": "7b0ac856",
   "metadata": {},
   "outputs": [],
   "source": []
  },
  {
   "cell_type": "markdown",
   "id": "3c8c8380",
   "metadata": {},
   "source": [
    "# day 347"
   ]
  },
  {
   "cell_type": "markdown",
   "id": "95d32f1a",
   "metadata": {},
   "source": [
    "# word patterns\n",
    "\n",
    "Given a pattern and a string s, find if s follows the same pattern.\n",
    "\n",
    "Here follow means a full match, such that there is a bijection between a letter in pattern and a non-empty word in s.\n",
    "\n",
    " \n",
    "\n",
    "Example 1:\n",
    "\n",
    "Input: pattern = \"abba\", s = \"dog cat cat dog\"\n",
    "Output: true\n",
    "Example 2:\n",
    "\n",
    "Input: pattern = \"abba\", s = \"dog cat cat fish\"\n",
    "Output: false\n",
    "Example 3:\n",
    "\n",
    "Input: pattern = \"aaaa\", s = \"dog cat cat dog\"\n",
    "Output: false\n",
    " \n",
    "\n",
    "Constraints:\n",
    "\n",
    "* 1 <= pattern.length <= 300\n",
    "* pattern contains only lower-case English letters.\n",
    "* 1 <= s.length <= 3000\n",
    "* s contains only lowercase English letters and spaces ' '.\n",
    "* s does not contain any leading or trailing spaces.\n",
    "* All the words in s are separated by a single space.\n",
    "\n",
    "url: \n",
    "https://leetcode.com/problems/word-pattern/description/?envType=study-plan-v2&envId=top-interview-150"
   ]
  },
  {
   "cell_type": "code",
   "execution_count": 11,
   "id": "447269c0",
   "metadata": {},
   "outputs": [
    {
     "data": {
      "text/plain": [
       "True"
      ]
     },
     "execution_count": 11,
     "metadata": {},
     "output_type": "execute_result"
    }
   ],
   "source": [
    "def WordPatterns(pattern,s):\n",
    "    # getting a list of words from s\n",
    "    list_s = s.split()\n",
    "    pattern_to_s = {}\n",
    "    s_to_pattern = {}\n",
    "    \n",
    "    if len(pattern) != len(list_s):\n",
    "        return False\n",
    "\n",
    "    for char_p,word_s in zip(pattern,list_s):\n",
    "        if char_p in pattern_to_s:\n",
    "            if pattern_to_s[char_p] != word_s:\n",
    "                return False\n",
    "        else:\n",
    "            pattern_to_s[char_p] = word_s\n",
    "\n",
    "        if word_s in s_to_pattern:\n",
    "            if s_to_pattern[word_s] != char_p :\n",
    "                return False\n",
    "        else:\n",
    "            s_to_pattern[word_s] = char_p\n",
    "\n",
    "    return True\n",
    "\n",
    "pattern = 'abba'\n",
    "s = 'dog cat cat dog'\n",
    "\n",
    "WordPatterns(pattern,s)"
   ]
  },
  {
   "cell_type": "markdown",
   "id": "1dfbec11",
   "metadata": {},
   "source": [
    "# exploration, analysis and freethrows"
   ]
  },
  {
   "cell_type": "code",
   "execution_count": 4,
   "id": "1dce55b3",
   "metadata": {},
   "outputs": [
    {
     "data": {
      "text/plain": [
       "['dog', 'cat', 'cat', 'dog']"
      ]
     },
     "execution_count": 4,
     "metadata": {},
     "output_type": "execute_result"
    }
   ],
   "source": [
    "s.split(' ')"
   ]
  },
  {
   "cell_type": "code",
   "execution_count": 12,
   "id": "8c7df28f",
   "metadata": {},
   "outputs": [
    {
     "data": {
      "text/plain": [
       "4"
      ]
     },
     "execution_count": 12,
     "metadata": {},
     "output_type": "execute_result"
    }
   ],
   "source": [
    "len(pattern)"
   ]
  },
  {
   "cell_type": "code",
   "execution_count": 13,
   "id": "ed7a824a",
   "metadata": {},
   "outputs": [
    {
     "data": {
      "text/plain": [
       "4"
      ]
     },
     "execution_count": 13,
     "metadata": {},
     "output_type": "execute_result"
    }
   ],
   "source": [
    "len(list_s)"
   ]
  },
  {
   "cell_type": "code",
   "execution_count": null,
   "id": "969d1fac",
   "metadata": {},
   "outputs": [],
   "source": []
  },
  {
   "cell_type": "markdown",
   "id": "e7c477e7",
   "metadata": {},
   "source": [
    "# day 347"
   ]
  },
  {
   "cell_type": "markdown",
   "id": "38904480",
   "metadata": {},
   "source": [
    "# valid anagram\n",
    "Given two strings s and t, return true if t is an anagram of s, and false otherwise.\n",
    "\n",
    "An Anagram is a word or phrase formed by rearranging the letters of a different word or phrase, typically using all the original letters exactly once.\n",
    "\n",
    " \n",
    "\n",
    "Example 1:\n",
    "\n",
    "Input: s = \"anagram\", t = \"nagaram\"\n",
    "Output: true\n",
    "Example 2:\n",
    "\n",
    "Input: s = \"rat\", t = \"car\"\n",
    "Output: false\n",
    " "
   ]
  },
  {
   "cell_type": "code",
   "execution_count": 14,
   "id": "9e4ebe67",
   "metadata": {},
   "outputs": [
    {
     "data": {
      "text/plain": [
       "(['a', 'a', 'a', 'g', 'm', 'n', 'r'], ['a', 'a', 'a', 'g', 'm', 'n', 'r'])"
      ]
     },
     "execution_count": 14,
     "metadata": {},
     "output_type": "execute_result"
    }
   ],
   "source": [
    "s = 'anagram'\n",
    "t = 'nagaram'\n",
    "\n",
    "sorted(s), sorted(t)"
   ]
  },
  {
   "cell_type": "code",
   "execution_count": 16,
   "id": "04630bfc",
   "metadata": {},
   "outputs": [
    {
     "data": {
      "text/plain": [
       "'aaagmnr'"
      ]
     },
     "execution_count": 16,
     "metadata": {},
     "output_type": "execute_result"
    }
   ],
   "source": [
    "''.join(sorted(s)) "
   ]
  },
  {
   "cell_type": "code",
   "execution_count": 17,
   "id": "12c4d614",
   "metadata": {},
   "outputs": [
    {
     "data": {
      "text/plain": [
       "'aaagmnr'"
      ]
     },
     "execution_count": 17,
     "metadata": {},
     "output_type": "execute_result"
    }
   ],
   "source": [
    "''.join(sorted(t))"
   ]
  },
  {
   "cell_type": "code",
   "execution_count": null,
   "id": "a12250c8",
   "metadata": {},
   "outputs": [],
   "source": []
  },
  {
   "cell_type": "markdown",
   "id": "fb11661e",
   "metadata": {},
   "source": [
    "# Group Anagram\n",
    "\n",
    "Given an array of strings strs, group the anagrams together. You can return the answer in any order.\n",
    "\n",
    "An Anagram is a word or phrase formed by rearranging the letters of a different word or phrase, typically using all the original letters exactly once.\n",
    "\n",
    " \n",
    "\n",
    "Example 1:\n",
    "\n",
    "Input: strs = [\"eat\",\"tea\",\"tan\",\"ate\",\"nat\",\"bat\"]\n",
    "Output: [[\"bat\"],[\"nat\",\"tan\"],[\"ate\",\"eat\",\"tea\"]]\n",
    "Example 2:\n",
    "\n",
    "Input: strs = [\"\"]\n",
    "Output: [[\"\"]]\n",
    "Example 3:\n",
    "\n",
    "Input: strs = [\"a\"]\n",
    "Output: [[\"a\"]]"
   ]
  },
  {
   "cell_type": "code",
   "execution_count": 28,
   "id": "63b3099f",
   "metadata": {},
   "outputs": [
    {
     "name": "stdout",
     "output_type": "stream",
     "text": [
      "dict_values([['eat', 'tea', 'ate'], ['tan', 'nat'], ['bat']])\n"
     ]
    }
   ],
   "source": [
    "strs = [\"eat\",\"tea\",\"tan\",\"ate\",\"nat\",\"bat\"]\n",
    "\n",
    "dic = {}\n",
    "\n",
    "for s in strs:\n",
    "    \n",
    "    dic[''.join(sorted(s))] = []\n",
    "    \n",
    "for s in strs:    \n",
    "    if ''.join(sorted(s)) in dic:\n",
    "        dic[''.join(sorted(s))].append(s)\n",
    "    \n",
    "print(dic.values())\n",
    "    "
   ]
  },
  {
   "cell_type": "code",
   "execution_count": null,
   "id": "32e44c44",
   "metadata": {},
   "outputs": [],
   "source": []
  },
  {
   "cell_type": "markdown",
   "id": "d73c12d0",
   "metadata": {},
   "source": [
    "# Two Sum\n",
    "\n",
    "Input: nums = [2,7,11,15], target = 9\n",
    "Output: [0,1]\n",
    "Explanation: Because nums[0] + nums[1] == 9, we return [0, 1]."
   ]
  },
  {
   "cell_type": "code",
   "execution_count": 7,
   "id": "bb718a44",
   "metadata": {},
   "outputs": [
    {
     "name": "stdout",
     "output_type": "stream",
     "text": [
      "[0, 1]\n"
     ]
    }
   ],
   "source": [
    "nums = [2,7,11,15]\n",
    "target = 9\n",
    "\n",
    "dic = {}\n",
    "for i, num in enumerate(nums):\n",
    "    complement = target - num\n",
    "    \n",
    "    if num in dic:\n",
    "        print([dic[num],i])\n",
    "        break\n",
    "    \n",
    "    \n",
    "    else:\n",
    "        dic[complement] = i"
   ]
  },
  {
   "cell_type": "code",
   "execution_count": null,
   "id": "beaa07e8",
   "metadata": {},
   "outputs": [],
   "source": []
  },
  {
   "cell_type": "markdown",
   "id": "3ed3dc2c",
   "metadata": {},
   "source": [
    "# Happy Number:\n",
    "Write an algorithm to determine if a number n is happy.\n",
    "\n",
    "A happy number is a number defined by the following process:\n",
    "\n",
    "Starting with any positive integer, replace the number by the sum of the squares of its digits.\n",
    "Repeat the process until the number equals 1 (where it will stay), or it loops endlessly in a cycle which does not include 1.\n",
    "Those numbers for which this process ends in 1 are happy.\n",
    "Return true if n is a happy number, and false if not.\n",
    "\n",
    " \n",
    "\n",
    "Example 1:\n",
    "\n",
    "Input: n = 19\n",
    "Output: true\n",
    "Explanation:\n",
    "* 1^2 + 9^2 = 82\n",
    "* 8^2 + 2^2 = 68\n",
    "* 6^2 + 8^2 = 100\n",
    "* 1^2 + 0^2 + 0^2 = 1\n",
    "Example 2:\n",
    "\n",
    "Input: n = 2\n",
    "Output: false"
   ]
  },
  {
   "cell_type": "code",
   "execution_count": 30,
   "id": "0b7eadc9",
   "metadata": {},
   "outputs": [],
   "source": [
    "def happy_number_check(n):\n",
    "    n_str = str(n)\n",
    "    add = 0\n",
    "    \n",
    "    try:\n",
    "        if n == 1:\n",
    "            return True\n",
    "\n",
    "        else:\n",
    "            for digit in n_str:\n",
    "                add = add+int(digit)**2\n",
    "            print(add)\n",
    "            return dick(add)\n",
    "\n",
    "    except RecursionError:\n",
    "        return False\n",
    "    \n",
    "    "
   ]
  },
  {
   "cell_type": "code",
   "execution_count": 31,
   "id": "175c69c1",
   "metadata": {},
   "outputs": [
    {
     "name": "stdout",
     "output_type": "stream",
     "text": [
      "19\n",
      "82\n",
      "68\n",
      "100\n",
      "1\n"
     ]
    },
    {
     "data": {
      "text/plain": [
       "True"
      ]
     },
     "execution_count": 31,
     "metadata": {},
     "output_type": "execute_result"
    }
   ],
   "source": [
    "happy_number_check(133)"
   ]
  },
  {
   "cell_type": "markdown",
   "id": "11293041",
   "metadata": {},
   "source": [
    "# optimized to avoid infinite loops"
   ]
  },
  {
   "cell_type": "code",
   "execution_count": 9,
   "id": "6087450d",
   "metadata": {},
   "outputs": [],
   "source": [
    "def happy_number_check(n):\n",
    "    # Store the already seen numbers to avoid infinite loops\n",
    "    seen = set()\n",
    "\n",
    "    while n != 1:\n",
    "        # If the number has already been seen, it's not a happy number\n",
    "        if n in seen:\n",
    "            return False\n",
    "        \n",
    "        seen.add(n) # this helps avoid the loop\n",
    "\n",
    "        # Calculate the sum of squares of digits\n",
    "        n_str = str(n)\n",
    "        n = sum(int(digit)**2 for digit in n_str)\n",
    "        print(n)\n",
    "\n",
    "    return True\n",
    "    \n"
   ]
  },
  {
   "cell_type": "code",
   "execution_count": 11,
   "id": "47ffd290",
   "metadata": {},
   "outputs": [
    {
     "name": "stdout",
     "output_type": "stream",
     "text": [
      "26\n",
      "40\n",
      "16\n",
      "37\n",
      "58\n",
      "89\n",
      "145\n",
      "42\n",
      "20\n",
      "4\n",
      "16\n"
     ]
    },
    {
     "data": {
      "text/plain": [
       "False"
      ]
     },
     "execution_count": 11,
     "metadata": {},
     "output_type": "execute_result"
    }
   ],
   "source": [
    "happy_number_check(134)"
   ]
  },
  {
   "cell_type": "code",
   "execution_count": 12,
   "id": "877ccf8a",
   "metadata": {},
   "outputs": [],
   "source": [
    "seen = {13,2,3,4,5}\n",
    "seen.add(12)"
   ]
  },
  {
   "cell_type": "code",
   "execution_count": 13,
   "id": "0fb87218",
   "metadata": {},
   "outputs": [
    {
     "data": {
      "text/plain": [
       "{2, 3, 4, 5, 12, 13}"
      ]
     },
     "execution_count": 13,
     "metadata": {},
     "output_type": "execute_result"
    }
   ],
   "source": [
    "seen"
   ]
  },
  {
   "cell_type": "code",
   "execution_count": 14,
   "id": "64ffee18",
   "metadata": {},
   "outputs": [
    {
     "data": {
      "text/plain": [
       "True"
      ]
     },
     "execution_count": 14,
     "metadata": {},
     "output_type": "execute_result"
    }
   ],
   "source": [
    "12 in seen"
   ]
  },
  {
   "cell_type": "code",
   "execution_count": null,
   "id": "235352cd",
   "metadata": {},
   "outputs": [],
   "source": []
  },
  {
   "cell_type": "markdown",
   "id": "6c4d42a0",
   "metadata": {},
   "source": [
    "# day 355,day 358"
   ]
  },
  {
   "cell_type": "markdown",
   "id": "b631a615",
   "metadata": {},
   "source": [
    "# contains duplicate 2:\n",
    "Given an integer array nums and an integer k, return true if there are two distinct indices i and j in the array such that nums[i] == nums[j] and abs(i - j) <= k.\n",
    "\n",
    " \n",
    "\n",
    "Example 1:\n",
    "\n",
    "Input: nums = [1,2,3,1], k = 3\n",
    "Output: true\n",
    "Example 2:\n",
    "\n",
    "Input: nums = [1,0,1,1], k = 1\n",
    "Output: true\n",
    "Example 3:\n",
    "\n",
    "Input: nums = [1,2,3,1,2,3], k = 2\n",
    "Output: false"
   ]
  },
  {
   "cell_type": "code",
   "execution_count": 13,
   "id": "7bc4f4cd",
   "metadata": {},
   "outputs": [
    {
     "name": "stdout",
     "output_type": "stream",
     "text": [
      "number is 1 and dist is 3 and (i,j) is 0 3\n",
      "True\n"
     ]
    }
   ],
   "source": [
    "# Brute force coding!!!\n",
    "nums = [1,2,3,1]\n",
    "k = 3\n",
    "\n",
    "for i in range(len(nums)):\n",
    "    for j in range(i+1,len(nums)):\n",
    "        if nums[i] == nums[j]:\n",
    "            dist = abs(i-j)\n",
    "            \n",
    "            if dist <= k:\n",
    "                print('number is {} and dist is {} and (i,j) is {} {}'.format(nums[i],dist, i,j))\n",
    "                print(True)\n",
    "                break\n",
    "        \n",
    "            "
   ]
  },
  {
   "cell_type": "code",
   "execution_count": 17,
   "id": "d0ca030a",
   "metadata": {},
   "outputs": [],
   "source": [
    "# efficient method\n",
    "\n",
    "def ContainNearbyDuplicate(nums,k):\n",
    "    dic = {}\n",
    "    \n",
    "    for i,num in enumerate(nums):\n",
    "        \n",
    "        if num in dic and (abs(i-dic[num])<=k):\n",
    "            print('number is {} and dist is {} and (i,j) is {} {}'.format(num,abs(i-dic[num]), dic[num],i))\n",
    "            return True\n",
    "        dic[num] = i\n",
    "    return False"
   ]
  },
  {
   "cell_type": "code",
   "execution_count": 18,
   "id": "d3d0213c",
   "metadata": {},
   "outputs": [
    {
     "name": "stdout",
     "output_type": "stream",
     "text": [
      "number is 1 and dist is 3 and (i,j) is 0 3\n"
     ]
    },
    {
     "data": {
      "text/plain": [
       "True"
      ]
     },
     "execution_count": 18,
     "metadata": {},
     "output_type": "execute_result"
    }
   ],
   "source": [
    "nums = [1,2,3,1]\n",
    "k = 3\n",
    "ContainNearbyDuplicate(nums,k)"
   ]
  },
  {
   "cell_type": "code",
   "execution_count": null,
   "id": "7a1c1887",
   "metadata": {},
   "outputs": [],
   "source": []
  },
  {
   "cell_type": "markdown",
   "id": "f76e6056",
   "metadata": {},
   "source": [
    "# longest consecutive sequence\n",
    "\n",
    "Given an unsorted array of integers nums, return the length of the longest consecutive elements sequence.\n",
    "\n",
    "You must write an algorithm that runs in O(n) time.\n",
    "\n",
    " \n",
    "\n",
    "Example 1:\n",
    "\n",
    "Input: nums = [100,4,200,1,3,2]\n",
    "Output: 4\n",
    "Explanation: The longest consecutive elements sequence is [1, 2, 3, 4]. Therefore its length is 4.\n",
    "Example 2:\n",
    "\n",
    "Input: nums = [0,3,7,2,5,8,4,6,0,1]\n",
    "Output: 9\n",
    " \n",
    " "
   ]
  },
  {
   "cell_type": "code",
   "execution_count": 23,
   "id": "f791005c",
   "metadata": {},
   "outputs": [
    {
     "data": {
      "text/plain": [
       "[-1, 0, 1]"
      ]
     },
     "execution_count": 23,
     "metadata": {},
     "output_type": "execute_result"
    }
   ],
   "source": [
    "nums = [0,1,-1]\n",
    "\n",
    "\n",
    "# to remove duplicates and also for faster member access\n",
    "nums = sorted(list(set(nums)))\n",
    "\n",
    "# for membership checking \n",
    "num_set = set(nums)\n",
    "\n",
    "# counter to 1\n",
    "counter = 1\n",
    "max_counter = 1\n",
    "\n",
    "if len(nums) == 0:\n",
    "    print(0)\n",
    "    \n",
    "else:\n",
    "    "
   ]
  },
  {
   "cell_type": "code",
   "execution_count": 21,
   "id": "db7146af",
   "metadata": {},
   "outputs": [
    {
     "name": "stdout",
     "output_type": "stream",
     "text": [
      "3\n"
     ]
    }
   ],
   "source": [
    "nums = [0,1,-1]\n",
    "\n",
    "\n",
    "# to remove duplicates and also for faster member access\n",
    "nums = list(set(nums))\n",
    "\n",
    "# for order\n",
    "nums.sort()\n",
    "\n",
    "# for membership checking:faster membership checker\n",
    "num_set = set(nums)\n",
    "\n",
    "# counter to 1\n",
    "counter = 1\n",
    "max_counter = 1\n",
    "\n",
    "if len(nums) == 0:\n",
    "    print(0)\n",
    "\n",
    "else:\n",
    "    for num in nums:\n",
    "        if (num+1) in num_set:\n",
    "            counter += 1\n",
    "            max_counter = max(max_counter,counter)\n",
    "            \n",
    "        # reset the counter to 1 whenever the sequence breaks\n",
    "        else:\n",
    "            counter = 1\n",
    "    print(max_counter)\n"
   ]
  },
  {
   "cell_type": "code",
   "execution_count": null,
   "id": "f24377d4",
   "metadata": {},
   "outputs": [],
   "source": []
  }
 ],
 "metadata": {
  "kernelspec": {
   "display_name": "Python 3 (ipykernel)",
   "language": "python",
   "name": "python3"
  },
  "language_info": {
   "codemirror_mode": {
    "name": "ipython",
    "version": 3
   },
   "file_extension": ".py",
   "mimetype": "text/x-python",
   "name": "python",
   "nbconvert_exporter": "python",
   "pygments_lexer": "ipython3",
   "version": "3.9.12"
  }
 },
 "nbformat": 4,
 "nbformat_minor": 5
}
