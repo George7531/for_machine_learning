{
 "cells": [
  {
   "cell_type": "markdown",
   "id": "6df842b8",
   "metadata": {},
   "source": [
    "# day 123"
   ]
  },
  {
   "cell_type": "markdown",
   "id": "0a2b0d19",
   "metadata": {},
   "source": [
    "# sets:\n",
    "\n",
    "* sets are similar to dictionaries but they only have keys not values like in dictionary, sets also have curly braces and are used to filter the unique elements from a list/array of numbers."
   ]
  },
  {
   "cell_type": "code",
   "execution_count": 6,
   "id": "2802ae68",
   "metadata": {},
   "outputs": [
    {
     "data": {
      "text/plain": [
       "{1, 2, 3, 4, 5, 6}"
      ]
     },
     "execution_count": 6,
     "metadata": {},
     "output_type": "execute_result"
    }
   ],
   "source": [
    "# Add an element to a set\n",
    "# If the number 6 is already in the set it will not be added again.\n",
    "\n",
    "s = {1,2,3,4,5}\n",
    "s.add(6)\n",
    "\n",
    "s"
   ]
  },
  {
   "cell_type": "code",
   "execution_count": 7,
   "id": "19d6217f",
   "metadata": {},
   "outputs": [
    {
     "data": {
      "text/plain": [
       "{1, 2, 3, 4, 5, 6}"
      ]
     },
     "execution_count": 7,
     "metadata": {},
     "output_type": "execute_result"
    }
   ],
   "source": [
    "s.add(6)\n",
    "s"
   ]
  },
  {
   "cell_type": "code",
   "execution_count": 11,
   "id": "573daa55",
   "metadata": {},
   "outputs": [
    {
     "data": {
      "text/plain": [
       "{1, 2, 3, 4, 5, 6, 7, 8, 9}"
      ]
     },
     "execution_count": 11,
     "metadata": {},
     "output_type": "execute_result"
    }
   ],
   "source": [
    "# Update is used to add multiple elements to the set at once. \n",
    "# It takes an iterable object (e.g., list, tuple, set) as an \n",
    "# argument and adds all its elements to the set. \n",
    "# If any of the elements already exist in the set, \n",
    "# they are not added again.\n",
    "\n",
    "s.update([1,2,4,7,9,5,8])\n",
    "\n",
    "s"
   ]
  },
  {
   "cell_type": "code",
   "execution_count": 13,
   "id": "d6e6a0a5",
   "metadata": {},
   "outputs": [
    {
     "data": {
      "text/plain": [
       "{1, 2, 3, 4, 5, 6, 7, 9}"
      ]
     },
     "execution_count": 13,
     "metadata": {},
     "output_type": "execute_result"
    }
   ],
   "source": [
    "# Removing an element from a set\n",
    "\n",
    "\n",
    "s.remove(8)\n",
    "s"
   ]
  },
  {
   "cell_type": "code",
   "execution_count": 15,
   "id": "f98cb974",
   "metadata": {},
   "outputs": [
    {
     "data": {
      "text/plain": [
       "{1, 2, 3, 4, 5, 6, 7, 8, 9, 10}"
      ]
     },
     "execution_count": 15,
     "metadata": {},
     "output_type": "execute_result"
    }
   ],
   "source": [
    "# Union of two sets\n",
    "other_set = {3, 4, 5, 6,8,10}\n",
    "union_set = s.union(other_set)\n",
    "union_set"
   ]
  },
  {
   "cell_type": "code",
   "execution_count": 16,
   "id": "289bd43b",
   "metadata": {},
   "outputs": [
    {
     "data": {
      "text/plain": [
       "{3, 4, 5, 6}"
      ]
     },
     "execution_count": 16,
     "metadata": {},
     "output_type": "execute_result"
    }
   ],
   "source": [
    "# Intersection of two sets\n",
    "intersection_set = s.intersection(other_set)\n",
    " \n",
    "intersection_set"
   ]
  },
  {
   "cell_type": "code",
   "execution_count": 19,
   "id": "76279f23",
   "metadata": {},
   "outputs": [
    {
     "data": {
      "text/plain": [
       "{1, 2, 3, 4, 5, 6, 7, 9}"
      ]
     },
     "execution_count": 19,
     "metadata": {},
     "output_type": "execute_result"
    }
   ],
   "source": [
    "s"
   ]
  },
  {
   "cell_type": "code",
   "execution_count": 20,
   "id": "c7cd1c4d",
   "metadata": {},
   "outputs": [
    {
     "data": {
      "text/plain": [
       "{3, 4, 5, 6, 8, 10}"
      ]
     },
     "execution_count": 20,
     "metadata": {},
     "output_type": "execute_result"
    }
   ],
   "source": [
    "other_set"
   ]
  },
  {
   "cell_type": "code",
   "execution_count": 23,
   "id": "8e3fef41",
   "metadata": {},
   "outputs": [
    {
     "data": {
      "text/plain": [
       "{1, 2, 7, 9}"
      ]
     },
     "execution_count": 23,
     "metadata": {},
     "output_type": "execute_result"
    }
   ],
   "source": [
    "# Difference between two sets (s-other_set)\n",
    "difference_set = s.difference(other_set)\n",
    "difference_set"
   ]
  },
  {
   "cell_type": "markdown",
   "id": "e58f2d12",
   "metadata": {},
   "source": [
    "# remove duplicates"
   ]
  },
  {
   "cell_type": "code",
   "execution_count": 24,
   "id": "8415480a",
   "metadata": {},
   "outputs": [
    {
     "data": {
      "text/plain": [
       "[1, 2, 3, 4, 5, 6, 7, 8, 9]"
      ]
     },
     "execution_count": 24,
     "metadata": {},
     "output_type": "execute_result"
    }
   ],
   "source": [
    "def remove_duplicates(my_list):\n",
    "    return list(set(my_list))\n",
    "\n",
    "my_list = [1, 2, 3, 4, 1, 2, 5, 6, 7, 3, 4, 8, 9, 5]\n",
    "\n",
    "remove_duplicates(my_list)"
   ]
  },
  {
   "cell_type": "code",
   "execution_count": null,
   "id": "bb50d835",
   "metadata": {},
   "outputs": [],
   "source": []
  },
  {
   "cell_type": "markdown",
   "id": "8ceb6b64",
   "metadata": {},
   "source": [
    "# day 124"
   ]
  },
  {
   "cell_type": "markdown",
   "id": "803ecb44",
   "metadata": {},
   "source": [
    "# Set: Has Unique Chars ( ** Interview Question)"
   ]
  },
  {
   "cell_type": "code",
   "execution_count": 7,
   "id": "df4ab4a4",
   "metadata": {},
   "outputs": [
    {
     "name": "stdout",
     "output_type": "stream",
     "text": [
      "True\n"
     ]
    }
   ],
   "source": [
    "string = 'abcde'\n",
    "s = set()\n",
    "s.update(char for char in string)\n",
    "\n",
    "if len(s) == len(string):\n",
    "    print(True)\n",
    "    \n",
    "else:\n",
    "    print(False)"
   ]
  },
  {
   "cell_type": "code",
   "execution_count": 8,
   "id": "6642be46",
   "metadata": {},
   "outputs": [
    {
     "data": {
      "text/plain": [
       "False"
      ]
     },
     "execution_count": 8,
     "metadata": {},
     "output_type": "execute_result"
    }
   ],
   "source": [
    "# fucntionifying:\n",
    "\n",
    "def has_unique_chars(string):\n",
    "    s = set()\n",
    "    s.update(char for char in string)\n",
    "    \n",
    "    if len(s) == len(string):\n",
    "        return True\n",
    "    \n",
    "    else:\n",
    "        return False\n",
    "    \n",
    "has_unique_chars('hello')"
   ]
  },
  {
   "cell_type": "code",
   "execution_count": 9,
   "id": "9af1311f",
   "metadata": {},
   "outputs": [
    {
     "data": {
      "text/plain": [
       "True"
      ]
     },
     "execution_count": 9,
     "metadata": {},
     "output_type": "execute_result"
    }
   ],
   "source": [
    "has_unique_chars('')"
   ]
  },
  {
   "cell_type": "code",
   "execution_count": 10,
   "id": "c232900d",
   "metadata": {},
   "outputs": [
    {
     "data": {
      "text/plain": [
       "True"
      ]
     },
     "execution_count": 10,
     "metadata": {},
     "output_type": "execute_result"
    }
   ],
   "source": [
    "has_unique_chars('0123456789')"
   ]
  },
  {
   "cell_type": "code",
   "execution_count": 11,
   "id": "f6af24ec",
   "metadata": {},
   "outputs": [
    {
     "data": {
      "text/plain": [
       "False"
      ]
     },
     "execution_count": 11,
     "metadata": {},
     "output_type": "execute_result"
    }
   ],
   "source": [
    "has_unique_chars('abcda')"
   ]
  },
  {
   "cell_type": "markdown",
   "id": "e3810661",
   "metadata": {},
   "source": [
    "# Set: Find Pairs ( ** Interview Question)\n",
    "\n",
    "\n",
    "* You are given two lists of integers, arr1 and arr2, and a target integer value, target. \n",
    "* Your task is to find all pairs of numbers (one from arr1 and one from arr2) whose sum equals target."
   ]
  },
  {
   "cell_type": "code",
   "execution_count": 1,
   "id": "3ee4a60d",
   "metadata": {},
   "outputs": [
    {
     "data": {
      "text/plain": [
       "[(1, 6), (3, 4), (5, 2)]"
      ]
     },
     "execution_count": 1,
     "metadata": {},
     "output_type": "execute_result"
    }
   ],
   "source": [
    "# naive, off-the-cuff solution.\n",
    "\n",
    "arr1 = [1, 2, 3, 4, 5]\n",
    "arr2 = [2, 4, 6, 8, 10]\n",
    "target = 7\n",
    "\n",
    "lis = []\n",
    "for i in arr1:\n",
    "    for j in arr2:\n",
    "        addition = j + i\n",
    "        \n",
    "        if addition == target:\n",
    "            lis.append(tuple((i,j)))\n",
    "lis\n",
    "\n",
    "\n",
    "# super. but it is O(N^2) which is quite a stagger!"
   ]
  },
  {
   "cell_type": "code",
   "execution_count": 5,
   "id": "f25b5aa8",
   "metadata": {},
   "outputs": [
    {
     "data": {
      "text/plain": [
       "[(1, 6), (3, 4), (5, 2)]"
      ]
     },
     "execution_count": 5,
     "metadata": {},
     "output_type": "execute_result"
    }
   ],
   "source": [
    "# functionizing the program:\n",
    "\n",
    "def find_pairs(arr1,arr2,target):\n",
    "    lis = []\n",
    "    for i in arr1:\n",
    "        for j in arr2:\n",
    "            addition = j + i\n",
    "\n",
    "            if addition == target:\n",
    "                lis.append(tuple((i,j)))\n",
    "    return lis\n",
    "\n",
    "\n",
    "arr1 = [1, 2, 3, 4, 5]\n",
    "arr2 = [2, 4, 6, 8, 10]\n",
    "target = 7\n",
    "find_pairs(arr1,arr2,target) "
   ]
  },
  {
   "cell_type": "markdown",
   "id": "88f504b7",
   "metadata": {},
   "source": [
    "# take an array a1 and another array a2\n",
    "# store the elements of a1 as their keys and their position as indices\n",
    "# find the difference = target - a2\n",
    "# find if the difference is one of the keys of the a1,if it is, then access the element of a1 and corresponding a2."
   ]
  },
  {
   "cell_type": "code",
   "execution_count": 4,
   "id": "c0eb73f8",
   "metadata": {},
   "outputs": [
    {
     "data": {
      "text/plain": [
       "[(5, 2), (3, 4), (1, 6)]"
      ]
     },
     "execution_count": 4,
     "metadata": {},
     "output_type": "execute_result"
    }
   ],
   "source": [
    "# better solution O(N)\n",
    "\n",
    "# use hash\n",
    "a1 = [1,2,3,4,5]\n",
    "a2 = [2,4,6,8,10]\n",
    "\n",
    "dic = {}\n",
    "lis = []\n",
    "\n",
    "for i,values in enumerate(a1):\n",
    "    dic[values] = i\n",
    "    \n",
    "for num in a2:\n",
    "    difference = target - num\n",
    "    \n",
    "    if difference in dic: # if any of the keys of dic is the difference\n",
    "        idx = dic[difference] # access its corresponding value\n",
    "        \n",
    "        lis.append((a1[idx],num)) # access the corresponding elements of a1 and num in a2\n",
    "        \n",
    "lis\n",
    "        \n",
    "    \n"
   ]
  },
  {
   "cell_type": "code",
   "execution_count": 7,
   "id": "0f56c63e",
   "metadata": {},
   "outputs": [
    {
     "data": {
      "text/plain": [
       "[(5, 2), (3, 4), (1, 6)]"
      ]
     },
     "execution_count": 7,
     "metadata": {},
     "output_type": "execute_result"
    }
   ],
   "source": [
    "def find_pairs(arr1,arr2,target):\n",
    "    dic = {}\n",
    "    lis = []\n",
    "    for i,values in enumerate(a1):\n",
    "        dic[values] = i\n",
    "\n",
    "    for num in a2:\n",
    "        difference = target - num\n",
    "\n",
    "        if difference in dic: # if any of the keys of dic is the difference\n",
    "            idx = dic[difference] # access its corresponding value\n",
    "\n",
    "            lis.append((a1[idx],num)) # access the corresponding elements of a1 and num in a2\n",
    "\n",
    "    return lis\n",
    "\n",
    "\n",
    "arr1 = [1, 2, 3, 4, 5]\n",
    "arr2 = [2, 4, 6, 8, 10]\n",
    "target = 7\n",
    "\n",
    "find_pairs(arr1,arr2,target)"
   ]
  },
  {
   "cell_type": "markdown",
   "id": "9fee5b61",
   "metadata": {},
   "source": [
    "# instructor's solution;"
   ]
  },
  {
   "cell_type": "code",
   "execution_count": 1,
   "id": "73e0fb44",
   "metadata": {},
   "outputs": [
    {
     "data": {
      "text/plain": [
       "[(5, 2), (3, 4), (1, 6)]"
      ]
     },
     "execution_count": 1,
     "metadata": {},
     "output_type": "execute_result"
    }
   ],
   "source": [
    "# quick and simple\n",
    "\n",
    "def find_pairs(arr1,arr2,target):\n",
    "    s = set(arr1)\n",
    "    lis = []\n",
    "    for num in arr2:\n",
    "        difference = target - num\n",
    "        \n",
    "        if difference in s:\n",
    "            lis.append((difference,num))\n",
    "    return lis\n",
    "\n",
    "arr1 = [1, 2, 3, 4, 5]\n",
    "arr2 = [2, 4, 6, 8, 10]\n",
    "target = 7\n",
    "find_pairs(arr1,arr2,target)"
   ]
  },
  {
   "cell_type": "markdown",
   "id": "f499615d",
   "metadata": {},
   "source": [
    "# conclusion:\n",
    "\n",
    "technique to remember: **arr1 + arr2 = target. arr2 = target - arr1**"
   ]
  },
  {
   "cell_type": "code",
   "execution_count": null,
   "id": "3971b626",
   "metadata": {},
   "outputs": [],
   "source": []
  },
  {
   "cell_type": "markdown",
   "id": "4f0e5cfc",
   "metadata": {},
   "source": [
    "# day 126 and day 127"
   ]
  },
  {
   "cell_type": "markdown",
   "id": "7158f2b4",
   "metadata": {},
   "source": [
    "# Set: Longest Consecutive Sequence ( ** Interview Question)"
   ]
  },
  {
   "cell_type": "code",
   "execution_count": 1,
   "id": "12ec4396",
   "metadata": {},
   "outputs": [
    {
     "data": {
      "text/plain": [
       "[1, 2, 3, 100, 4, 200]"
      ]
     },
     "execution_count": 1,
     "metadata": {},
     "output_type": "execute_result"
    }
   ],
   "source": [
    "nums = [100,4,200,3,2,1]\n",
    "\n",
    "# filter the unique elements\n",
    "lis = list(set(nums))\n",
    "lis"
   ]
  },
  {
   "cell_type": "code",
   "execution_count": 2,
   "id": "eff05da8",
   "metadata": {},
   "outputs": [
    {
     "data": {
      "text/plain": [
       "[1, 2, 3, 4, 100, 200]"
      ]
     },
     "execution_count": 2,
     "metadata": {},
     "output_type": "execute_result"
    }
   ],
   "source": [
    "# sort the lis\n",
    "\n",
    "sorted_nums = sorted(lis)\n",
    "\n",
    "sorted_nums"
   ]
  },
  {
   "cell_type": "code",
   "execution_count": 10,
   "id": "3bfe0a06",
   "metadata": {},
   "outputs": [
    {
     "data": {
      "text/plain": [
       "[1, 2, 3, 4]"
      ]
     },
     "execution_count": 10,
     "metadata": {},
     "output_type": "execute_result"
    }
   ],
   "source": [
    "# ensuring that each element is one greater than the previous element:\n",
    "\n",
    "\n",
    "sequential = []\n",
    "\n",
    "for current in range(len(sorted_nums)):\n",
    "    \n",
    "    \n",
    "    sequential.append(sorted_nums[current])\n",
    "    if sorted_nums[current+1] - sorted_nums[current] > 1:\n",
    "        break\n",
    "        \n",
    "    \n",
    "    \n",
    "sequential\n",
    "    \n",
    "    \n",
    "    "
   ]
  },
  {
   "cell_type": "code",
   "execution_count": null,
   "id": "9152d0b4",
   "metadata": {},
   "outputs": [],
   "source": []
  },
  {
   "cell_type": "code",
   "execution_count": 2,
   "id": "289f0292",
   "metadata": {},
   "outputs": [
    {
     "data": {
      "text/plain": [
       "3"
      ]
     },
     "execution_count": 2,
     "metadata": {},
     "output_type": "execute_result"
    }
   ],
   "source": [
    "# instructor's solution \n",
    "\n",
    "def longest_sequence(nums):\n",
    "    # for memebership check set is the fastest container\n",
    "    num_set = set(nums)\n",
    "    \n",
    "    # lets assume the longest sequence is 0\n",
    "    longest_sequence = 0\n",
    "    \n",
    "    # looping through all the numbers in nums\n",
    "    for num in num_set:\n",
    "        \"\"\"we don't want to consider presequence that's why we put num-1 for example num-1 for 100 is 99, we want to \n",
    "        consider the numbers that come after the current num like 101 for 100, 102 for 101 etc. num-1 deals with it.\"\"\"\n",
    "        if num-1 not in num_set:\n",
    "            current_num = num\n",
    "            current_sequence = 1 # up until now we got 1 sequence\n",
    "            \n",
    "            '''as long as current_num and its forward sequence is present in the num_set we are increasing \n",
    "            current_num and sequence by 1 '''\n",
    "            while current_num+1 in num_set:\n",
    "                current_num += 1\n",
    "                current_sequence += 1\n",
    "                \n",
    "            longest_sequence = max(longest_sequence,current_sequence)\n",
    "            \n",
    "            \n",
    "    return longest_sequence\n",
    "\n",
    "nums = [0,1,-1]\n",
    "longest_sequence(nums)\n",
    "            \n",
    "            \n",
    "    \n"
   ]
  },
  {
   "cell_type": "code",
   "execution_count": null,
   "id": "0cb64d07",
   "metadata": {},
   "outputs": [],
   "source": []
  },
  {
   "cell_type": "code",
   "execution_count": null,
   "id": "e2ced863",
   "metadata": {},
   "outputs": [],
   "source": []
  }
 ],
 "metadata": {
  "kernelspec": {
   "display_name": "Python 3 (ipykernel)",
   "language": "python",
   "name": "python3"
  },
  "language_info": {
   "codemirror_mode": {
    "name": "ipython",
    "version": 3
   },
   "file_extension": ".py",
   "mimetype": "text/x-python",
   "name": "python",
   "nbconvert_exporter": "python",
   "pygments_lexer": "ipython3",
   "version": "3.9.12"
  }
 },
 "nbformat": 4,
 "nbformat_minor": 5
}
