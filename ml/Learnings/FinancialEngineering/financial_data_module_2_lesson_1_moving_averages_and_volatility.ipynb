version https://git-lfs.github.com/spec/v1
oid sha256:ed6fd0e59886ff222d56273645a77d1843d0985a8120ad60ebcb78dcf86dbbf1
size 386620
