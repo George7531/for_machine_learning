version https://git-lfs.github.com/spec/v1
oid sha256:1d82cce2b0723ca3b98ef6a13ddb7b88dee6c6ce4b4729cb8d35679d2b2db7f4
size 1794829
