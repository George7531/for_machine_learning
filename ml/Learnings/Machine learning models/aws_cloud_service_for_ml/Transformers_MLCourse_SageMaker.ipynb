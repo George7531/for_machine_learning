version https://git-lfs.github.com/spec/v1
oid sha256:040462987b7921aed7911818cc2b802cbc9b092d9335b597203ec83fcf142727
size 6751497
