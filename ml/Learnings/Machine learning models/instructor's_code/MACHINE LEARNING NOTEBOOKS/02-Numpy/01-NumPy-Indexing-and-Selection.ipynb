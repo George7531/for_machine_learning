version https://git-lfs.github.com/spec/v1
oid sha256:ef7dc42d34e98346436772e04d7037bbc68ac653c780d6e391ea310f8e4ef08d
size 13183
