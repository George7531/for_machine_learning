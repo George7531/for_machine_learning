version https://git-lfs.github.com/spec/v1
oid sha256:8c78d62a899783def62503a225ef5b68bc8908b5ce69604d02c18e5b7498429b
size 194591
