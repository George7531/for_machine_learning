version https://git-lfs.github.com/spec/v1
oid sha256:afcecd6797a6b97e966a52e70737b67b09dc1afa88c12faa6f92407a9c247b67
size 145517
