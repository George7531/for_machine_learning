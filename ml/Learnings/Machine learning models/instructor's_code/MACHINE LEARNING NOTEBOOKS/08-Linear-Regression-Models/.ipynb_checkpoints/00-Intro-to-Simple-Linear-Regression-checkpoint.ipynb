version https://git-lfs.github.com/spec/v1
oid sha256:f36ae4e264012f50449cccb2a9d324d58634d78477ffa855f0a883c9f8c04ac1
size 125781
