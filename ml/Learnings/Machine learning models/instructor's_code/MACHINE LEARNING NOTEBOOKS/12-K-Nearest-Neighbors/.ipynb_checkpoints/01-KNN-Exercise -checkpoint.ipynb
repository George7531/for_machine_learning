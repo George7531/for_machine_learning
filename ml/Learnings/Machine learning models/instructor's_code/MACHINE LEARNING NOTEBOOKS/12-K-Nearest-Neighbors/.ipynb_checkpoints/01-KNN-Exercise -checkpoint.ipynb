version https://git-lfs.github.com/spec/v1
oid sha256:b36909776f4d2c817dfb6e29b9c02eb5aba97135f081f6894616add08d398d48
size 72757
