version https://git-lfs.github.com/spec/v1
oid sha256:670bf227bda770fdbcb6461df7cd7513b04a1861faf2103264d5afc6d7ad1146
size 439354
