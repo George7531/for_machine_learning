version https://git-lfs.github.com/spec/v1
oid sha256:2e5fd97e140a58885b8cf24fd568f07a20f8a83545fcd7bb69046ed36b1dfe88
size 309300
