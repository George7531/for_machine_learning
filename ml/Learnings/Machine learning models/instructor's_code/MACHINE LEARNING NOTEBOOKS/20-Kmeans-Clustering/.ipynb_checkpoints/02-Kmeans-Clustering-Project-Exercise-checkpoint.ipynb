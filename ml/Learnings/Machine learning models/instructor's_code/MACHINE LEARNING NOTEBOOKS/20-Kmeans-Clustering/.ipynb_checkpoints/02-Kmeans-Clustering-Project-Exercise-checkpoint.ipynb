version https://git-lfs.github.com/spec/v1
oid sha256:7aa775295de27ac13d7cc029b323f0738e4fa088cacbcb4ecbc325b4004a76ba
size 838428
