version https://git-lfs.github.com/spec/v1
oid sha256:47cffba507c6951a66ea6016ac428784bab36f2674c421dbaad25b6eca2cadee
size 478267
