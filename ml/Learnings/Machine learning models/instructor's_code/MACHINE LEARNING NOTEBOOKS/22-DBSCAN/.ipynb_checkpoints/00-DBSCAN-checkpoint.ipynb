version https://git-lfs.github.com/spec/v1
oid sha256:307ed57d83bf0a5650fd79663d87d53d64131c8e27f4c6aa656d0800613f0d5a
size 839491
