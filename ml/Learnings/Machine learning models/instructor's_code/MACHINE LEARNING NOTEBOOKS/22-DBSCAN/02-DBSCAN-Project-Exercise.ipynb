version https://git-lfs.github.com/spec/v1
oid sha256:2d95c71c306c355a6b33bac3b823eb5cfed1d65571f755a67a5b33d392f2df6c
size 576656
