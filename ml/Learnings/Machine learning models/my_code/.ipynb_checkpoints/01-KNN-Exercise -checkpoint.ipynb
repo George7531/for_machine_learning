version https://git-lfs.github.com/spec/v1
oid sha256:9985b1b4859e16f6d22b650e1ed45f76cae3f16a2e6750c41d868fa4f16c6356
size 183876
