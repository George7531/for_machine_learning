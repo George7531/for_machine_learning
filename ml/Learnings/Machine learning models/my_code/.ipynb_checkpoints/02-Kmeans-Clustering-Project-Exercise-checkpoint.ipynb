version https://git-lfs.github.com/spec/v1
oid sha256:9731f4142a7fe20a4b16572b89ec662e276c7edf6216a72c6385cda4600abc18
size 1830499
