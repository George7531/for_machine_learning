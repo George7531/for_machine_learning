version https://git-lfs.github.com/spec/v1
oid sha256:18e2fc14957f3565e7c58aa1dea4cad2328dee131fedc04f3e5c2280b5a4118a
size 1264453
