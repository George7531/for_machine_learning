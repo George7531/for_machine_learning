{
 "cells": [
  {
   "cell_type": "markdown",
   "id": "66a1e2eb",
   "metadata": {},
   "source": [
    "# Dimension Reduction:\n",
    "\n",
    "\n",
    "1. pca helps visualize the data that are beyond 3d. it reduces the higher dimensional data into a lower dimensional data that we can easily visualize. \n",
    "\n",
    "2. some information gets lost when we reduce the data from a higher dimensional one to a lower dimensional one. \n",
    "\n",
    "\n",
    "\n",
    "# variance and important feature selection:\n",
    "\n",
    "* we vertically and horizontally check the scattering of the data from the trend line, whichever trend line seems to show the lowest variance will be the choice of selection for principal component. that principal component can explain some percentage of the original data(say 90%). \n",
    "\n",
    "# Eigen vector:\n",
    "* only the magnitude of the vector changes, the direction remains the same.\n",
    "\n",
    "# methods:\n",
    "\n",
    "1. first scale the DataFrame.\n",
    "\n",
    "\n",
    "\n",
    "2. find covariance matrix of the scaled DataFrame\n",
    "\n",
    "\n",
    "\n",
    "3. find the eigen_values and eigen_vectors for the covariance matrix\n",
    "\n",
    "\n",
    "\n",
    "4. fix the number of important columns you want to extract from the DataFrame  (n)\n",
    "\n",
    "\n",
    "\n",
    "\n",
    "5. find the indices of the n number of biggest eigen_values\n",
    "\n",
    "\n",
    "\n",
    "\n",
    "6. take the corresponding eigen_vectors using the indices of the biggest eigen_values. you want to take the eigen_vectors where the biggest eigen_values fall using the index of the biggest eigen_values. update the eigen_values and eigen_vectors based on this information.\n",
    "\n",
    "\n",
    "\n",
    "\n",
    "7. calculate the priciple components by taking the dot product of scaled_df and updated eigen_vectors"
   ]
  },
  {
   "cell_type": "markdown",
   "id": "7dce53b1",
   "metadata": {},
   "source": [
    "# day 105 and day 106"
   ]
  },
  {
   "cell_type": "code",
   "execution_count": 2,
   "id": "de346937",
   "metadata": {},
   "outputs": [],
   "source": [
    "import numpy as np\n",
    "import sympy as sym\n",
    "from IPython.display import display,Math\n",
    "sym.init_printing()\n",
    "import matplotlib.pyplot as plt\n",
    "import seaborn as sns\n",
    "import pandas as pd"
   ]
  },
  {
   "cell_type": "code",
   "execution_count": 3,
   "id": "d58d9737",
   "metadata": {},
   "outputs": [
    {
     "data": {
      "text/html": [
       "<div>\n",
       "<style scoped>\n",
       "    .dataframe tbody tr th:only-of-type {\n",
       "        vertical-align: middle;\n",
       "    }\n",
       "\n",
       "    .dataframe tbody tr th {\n",
       "        vertical-align: top;\n",
       "    }\n",
       "\n",
       "    .dataframe thead th {\n",
       "        text-align: right;\n",
       "    }\n",
       "</style>\n",
       "<table border=\"1\" class=\"dataframe\">\n",
       "  <thead>\n",
       "    <tr style=\"text-align: right;\">\n",
       "      <th></th>\n",
       "      <th>mean radius</th>\n",
       "      <th>mean texture</th>\n",
       "      <th>mean perimeter</th>\n",
       "      <th>mean area</th>\n",
       "      <th>mean smoothness</th>\n",
       "      <th>mean compactness</th>\n",
       "      <th>mean concavity</th>\n",
       "      <th>mean concave points</th>\n",
       "      <th>mean symmetry</th>\n",
       "      <th>mean fractal dimension</th>\n",
       "      <th>...</th>\n",
       "      <th>worst radius</th>\n",
       "      <th>worst texture</th>\n",
       "      <th>worst perimeter</th>\n",
       "      <th>worst area</th>\n",
       "      <th>worst smoothness</th>\n",
       "      <th>worst compactness</th>\n",
       "      <th>worst concavity</th>\n",
       "      <th>worst concave points</th>\n",
       "      <th>worst symmetry</th>\n",
       "      <th>worst fractal dimension</th>\n",
       "    </tr>\n",
       "  </thead>\n",
       "  <tbody>\n",
       "    <tr>\n",
       "      <th>0</th>\n",
       "      <td>17.99</td>\n",
       "      <td>10.38</td>\n",
       "      <td>122.80</td>\n",
       "      <td>1001.0</td>\n",
       "      <td>0.11840</td>\n",
       "      <td>0.27760</td>\n",
       "      <td>0.3001</td>\n",
       "      <td>0.14710</td>\n",
       "      <td>0.2419</td>\n",
       "      <td>0.07871</td>\n",
       "      <td>...</td>\n",
       "      <td>25.38</td>\n",
       "      <td>17.33</td>\n",
       "      <td>184.60</td>\n",
       "      <td>2019.0</td>\n",
       "      <td>0.1622</td>\n",
       "      <td>0.6656</td>\n",
       "      <td>0.7119</td>\n",
       "      <td>0.2654</td>\n",
       "      <td>0.4601</td>\n",
       "      <td>0.11890</td>\n",
       "    </tr>\n",
       "    <tr>\n",
       "      <th>1</th>\n",
       "      <td>20.57</td>\n",
       "      <td>17.77</td>\n",
       "      <td>132.90</td>\n",
       "      <td>1326.0</td>\n",
       "      <td>0.08474</td>\n",
       "      <td>0.07864</td>\n",
       "      <td>0.0869</td>\n",
       "      <td>0.07017</td>\n",
       "      <td>0.1812</td>\n",
       "      <td>0.05667</td>\n",
       "      <td>...</td>\n",
       "      <td>24.99</td>\n",
       "      <td>23.41</td>\n",
       "      <td>158.80</td>\n",
       "      <td>1956.0</td>\n",
       "      <td>0.1238</td>\n",
       "      <td>0.1866</td>\n",
       "      <td>0.2416</td>\n",
       "      <td>0.1860</td>\n",
       "      <td>0.2750</td>\n",
       "      <td>0.08902</td>\n",
       "    </tr>\n",
       "    <tr>\n",
       "      <th>2</th>\n",
       "      <td>19.69</td>\n",
       "      <td>21.25</td>\n",
       "      <td>130.00</td>\n",
       "      <td>1203.0</td>\n",
       "      <td>0.10960</td>\n",
       "      <td>0.15990</td>\n",
       "      <td>0.1974</td>\n",
       "      <td>0.12790</td>\n",
       "      <td>0.2069</td>\n",
       "      <td>0.05999</td>\n",
       "      <td>...</td>\n",
       "      <td>23.57</td>\n",
       "      <td>25.53</td>\n",
       "      <td>152.50</td>\n",
       "      <td>1709.0</td>\n",
       "      <td>0.1444</td>\n",
       "      <td>0.4245</td>\n",
       "      <td>0.4504</td>\n",
       "      <td>0.2430</td>\n",
       "      <td>0.3613</td>\n",
       "      <td>0.08758</td>\n",
       "    </tr>\n",
       "    <tr>\n",
       "      <th>3</th>\n",
       "      <td>11.42</td>\n",
       "      <td>20.38</td>\n",
       "      <td>77.58</td>\n",
       "      <td>386.1</td>\n",
       "      <td>0.14250</td>\n",
       "      <td>0.28390</td>\n",
       "      <td>0.2414</td>\n",
       "      <td>0.10520</td>\n",
       "      <td>0.2597</td>\n",
       "      <td>0.09744</td>\n",
       "      <td>...</td>\n",
       "      <td>14.91</td>\n",
       "      <td>26.50</td>\n",
       "      <td>98.87</td>\n",
       "      <td>567.7</td>\n",
       "      <td>0.2098</td>\n",
       "      <td>0.8663</td>\n",
       "      <td>0.6869</td>\n",
       "      <td>0.2575</td>\n",
       "      <td>0.6638</td>\n",
       "      <td>0.17300</td>\n",
       "    </tr>\n",
       "    <tr>\n",
       "      <th>4</th>\n",
       "      <td>20.29</td>\n",
       "      <td>14.34</td>\n",
       "      <td>135.10</td>\n",
       "      <td>1297.0</td>\n",
       "      <td>0.10030</td>\n",
       "      <td>0.13280</td>\n",
       "      <td>0.1980</td>\n",
       "      <td>0.10430</td>\n",
       "      <td>0.1809</td>\n",
       "      <td>0.05883</td>\n",
       "      <td>...</td>\n",
       "      <td>22.54</td>\n",
       "      <td>16.67</td>\n",
       "      <td>152.20</td>\n",
       "      <td>1575.0</td>\n",
       "      <td>0.1374</td>\n",
       "      <td>0.2050</td>\n",
       "      <td>0.4000</td>\n",
       "      <td>0.1625</td>\n",
       "      <td>0.2364</td>\n",
       "      <td>0.07678</td>\n",
       "    </tr>\n",
       "  </tbody>\n",
       "</table>\n",
       "<p>5 rows × 30 columns</p>\n",
       "</div>"
      ],
      "text/plain": [
       "   mean radius  mean texture  mean perimeter  mean area  mean smoothness  \\\n",
       "0        17.99         10.38          122.80     1001.0          0.11840   \n",
       "1        20.57         17.77          132.90     1326.0          0.08474   \n",
       "2        19.69         21.25          130.00     1203.0          0.10960   \n",
       "3        11.42         20.38           77.58      386.1          0.14250   \n",
       "4        20.29         14.34          135.10     1297.0          0.10030   \n",
       "\n",
       "   mean compactness  mean concavity  mean concave points  mean symmetry  \\\n",
       "0           0.27760          0.3001              0.14710         0.2419   \n",
       "1           0.07864          0.0869              0.07017         0.1812   \n",
       "2           0.15990          0.1974              0.12790         0.2069   \n",
       "3           0.28390          0.2414              0.10520         0.2597   \n",
       "4           0.13280          0.1980              0.10430         0.1809   \n",
       "\n",
       "   mean fractal dimension  ...  worst radius  worst texture  worst perimeter  \\\n",
       "0                 0.07871  ...         25.38          17.33           184.60   \n",
       "1                 0.05667  ...         24.99          23.41           158.80   \n",
       "2                 0.05999  ...         23.57          25.53           152.50   \n",
       "3                 0.09744  ...         14.91          26.50            98.87   \n",
       "4                 0.05883  ...         22.54          16.67           152.20   \n",
       "\n",
       "   worst area  worst smoothness  worst compactness  worst concavity  \\\n",
       "0      2019.0            0.1622             0.6656           0.7119   \n",
       "1      1956.0            0.1238             0.1866           0.2416   \n",
       "2      1709.0            0.1444             0.4245           0.4504   \n",
       "3       567.7            0.2098             0.8663           0.6869   \n",
       "4      1575.0            0.1374             0.2050           0.4000   \n",
       "\n",
       "   worst concave points  worst symmetry  worst fractal dimension  \n",
       "0                0.2654          0.4601                  0.11890  \n",
       "1                0.1860          0.2750                  0.08902  \n",
       "2                0.2430          0.3613                  0.08758  \n",
       "3                0.2575          0.6638                  0.17300  \n",
       "4                0.1625          0.2364                  0.07678  \n",
       "\n",
       "[5 rows x 30 columns]"
      ]
     },
     "execution_count": 3,
     "metadata": {},
     "output_type": "execute_result"
    }
   ],
   "source": [
    "df = pd.read_csv('C:\\\\Users\\\\ADMIN\\\\Desktop\\\\MACHINE LEARNING NOTEBOOKS\\DATA\\\\cancer_tumor_data_features.csv')\n",
    "df.head()"
   ]
  },
  {
   "cell_type": "code",
   "execution_count": 6,
   "id": "fc18e8d9",
   "metadata": {},
   "outputs": [
    {
     "name": "stdout",
     "output_type": "stream",
     "text": [
      "<class 'pandas.core.frame.DataFrame'>\n",
      "RangeIndex: 569 entries, 0 to 568\n",
      "Data columns (total 30 columns):\n",
      " #   Column                   Non-Null Count  Dtype  \n",
      "---  ------                   --------------  -----  \n",
      " 0   mean radius              569 non-null    float64\n",
      " 1   mean texture             569 non-null    float64\n",
      " 2   mean perimeter           569 non-null    float64\n",
      " 3   mean area                569 non-null    float64\n",
      " 4   mean smoothness          569 non-null    float64\n",
      " 5   mean compactness         569 non-null    float64\n",
      " 6   mean concavity           569 non-null    float64\n",
      " 7   mean concave points      569 non-null    float64\n",
      " 8   mean symmetry            569 non-null    float64\n",
      " 9   mean fractal dimension   569 non-null    float64\n",
      " 10  radius error             569 non-null    float64\n",
      " 11  texture error            569 non-null    float64\n",
      " 12  perimeter error          569 non-null    float64\n",
      " 13  area error               569 non-null    float64\n",
      " 14  smoothness error         569 non-null    float64\n",
      " 15  compactness error        569 non-null    float64\n",
      " 16  concavity error          569 non-null    float64\n",
      " 17  concave points error     569 non-null    float64\n",
      " 18  symmetry error           569 non-null    float64\n",
      " 19  fractal dimension error  569 non-null    float64\n",
      " 20  worst radius             569 non-null    float64\n",
      " 21  worst texture            569 non-null    float64\n",
      " 22  worst perimeter          569 non-null    float64\n",
      " 23  worst area               569 non-null    float64\n",
      " 24  worst smoothness         569 non-null    float64\n",
      " 25  worst compactness        569 non-null    float64\n",
      " 26  worst concavity          569 non-null    float64\n",
      " 27  worst concave points     569 non-null    float64\n",
      " 28  worst symmetry           569 non-null    float64\n",
      " 29  worst fractal dimension  569 non-null    float64\n",
      "dtypes: float64(30)\n",
      "memory usage: 133.5 KB\n"
     ]
    }
   ],
   "source": [
    "df.info()"
   ]
  },
  {
   "cell_type": "code",
   "execution_count": 7,
   "id": "fb8a30f9",
   "metadata": {},
   "outputs": [
    {
     "data": {
      "text/html": [
       "<div>\n",
       "<style scoped>\n",
       "    .dataframe tbody tr th:only-of-type {\n",
       "        vertical-align: middle;\n",
       "    }\n",
       "\n",
       "    .dataframe tbody tr th {\n",
       "        vertical-align: top;\n",
       "    }\n",
       "\n",
       "    .dataframe thead th {\n",
       "        text-align: right;\n",
       "    }\n",
       "</style>\n",
       "<table border=\"1\" class=\"dataframe\">\n",
       "  <thead>\n",
       "    <tr style=\"text-align: right;\">\n",
       "      <th></th>\n",
       "      <th>mean radius</th>\n",
       "      <th>mean texture</th>\n",
       "      <th>mean perimeter</th>\n",
       "      <th>mean area</th>\n",
       "      <th>mean smoothness</th>\n",
       "      <th>mean compactness</th>\n",
       "      <th>mean concavity</th>\n",
       "      <th>mean concave points</th>\n",
       "      <th>mean symmetry</th>\n",
       "      <th>mean fractal dimension</th>\n",
       "      <th>...</th>\n",
       "      <th>worst radius</th>\n",
       "      <th>worst texture</th>\n",
       "      <th>worst perimeter</th>\n",
       "      <th>worst area</th>\n",
       "      <th>worst smoothness</th>\n",
       "      <th>worst compactness</th>\n",
       "      <th>worst concavity</th>\n",
       "      <th>worst concave points</th>\n",
       "      <th>worst symmetry</th>\n",
       "      <th>worst fractal dimension</th>\n",
       "    </tr>\n",
       "  </thead>\n",
       "  <tbody>\n",
       "    <tr>\n",
       "      <th>count</th>\n",
       "      <td>569.000000</td>\n",
       "      <td>569.000000</td>\n",
       "      <td>569.000000</td>\n",
       "      <td>569.000000</td>\n",
       "      <td>569.000000</td>\n",
       "      <td>569.000000</td>\n",
       "      <td>569.000000</td>\n",
       "      <td>569.000000</td>\n",
       "      <td>569.000000</td>\n",
       "      <td>569.000000</td>\n",
       "      <td>...</td>\n",
       "      <td>569.000000</td>\n",
       "      <td>569.000000</td>\n",
       "      <td>569.000000</td>\n",
       "      <td>569.000000</td>\n",
       "      <td>569.000000</td>\n",
       "      <td>569.000000</td>\n",
       "      <td>569.000000</td>\n",
       "      <td>569.000000</td>\n",
       "      <td>569.000000</td>\n",
       "      <td>569.000000</td>\n",
       "    </tr>\n",
       "    <tr>\n",
       "      <th>mean</th>\n",
       "      <td>14.127292</td>\n",
       "      <td>19.289649</td>\n",
       "      <td>91.969033</td>\n",
       "      <td>654.889104</td>\n",
       "      <td>0.096360</td>\n",
       "      <td>0.104341</td>\n",
       "      <td>0.088799</td>\n",
       "      <td>0.048919</td>\n",
       "      <td>0.181162</td>\n",
       "      <td>0.062798</td>\n",
       "      <td>...</td>\n",
       "      <td>16.269190</td>\n",
       "      <td>25.677223</td>\n",
       "      <td>107.261213</td>\n",
       "      <td>880.583128</td>\n",
       "      <td>0.132369</td>\n",
       "      <td>0.254265</td>\n",
       "      <td>0.272188</td>\n",
       "      <td>0.114606</td>\n",
       "      <td>0.290076</td>\n",
       "      <td>0.083946</td>\n",
       "    </tr>\n",
       "    <tr>\n",
       "      <th>std</th>\n",
       "      <td>3.524049</td>\n",
       "      <td>4.301036</td>\n",
       "      <td>24.298981</td>\n",
       "      <td>351.914129</td>\n",
       "      <td>0.014064</td>\n",
       "      <td>0.052813</td>\n",
       "      <td>0.079720</td>\n",
       "      <td>0.038803</td>\n",
       "      <td>0.027414</td>\n",
       "      <td>0.007060</td>\n",
       "      <td>...</td>\n",
       "      <td>4.833242</td>\n",
       "      <td>6.146258</td>\n",
       "      <td>33.602542</td>\n",
       "      <td>569.356993</td>\n",
       "      <td>0.022832</td>\n",
       "      <td>0.157336</td>\n",
       "      <td>0.208624</td>\n",
       "      <td>0.065732</td>\n",
       "      <td>0.061867</td>\n",
       "      <td>0.018061</td>\n",
       "    </tr>\n",
       "    <tr>\n",
       "      <th>min</th>\n",
       "      <td>6.981000</td>\n",
       "      <td>9.710000</td>\n",
       "      <td>43.790000</td>\n",
       "      <td>143.500000</td>\n",
       "      <td>0.052630</td>\n",
       "      <td>0.019380</td>\n",
       "      <td>0.000000</td>\n",
       "      <td>0.000000</td>\n",
       "      <td>0.106000</td>\n",
       "      <td>0.049960</td>\n",
       "      <td>...</td>\n",
       "      <td>7.930000</td>\n",
       "      <td>12.020000</td>\n",
       "      <td>50.410000</td>\n",
       "      <td>185.200000</td>\n",
       "      <td>0.071170</td>\n",
       "      <td>0.027290</td>\n",
       "      <td>0.000000</td>\n",
       "      <td>0.000000</td>\n",
       "      <td>0.156500</td>\n",
       "      <td>0.055040</td>\n",
       "    </tr>\n",
       "    <tr>\n",
       "      <th>25%</th>\n",
       "      <td>11.700000</td>\n",
       "      <td>16.170000</td>\n",
       "      <td>75.170000</td>\n",
       "      <td>420.300000</td>\n",
       "      <td>0.086370</td>\n",
       "      <td>0.064920</td>\n",
       "      <td>0.029560</td>\n",
       "      <td>0.020310</td>\n",
       "      <td>0.161900</td>\n",
       "      <td>0.057700</td>\n",
       "      <td>...</td>\n",
       "      <td>13.010000</td>\n",
       "      <td>21.080000</td>\n",
       "      <td>84.110000</td>\n",
       "      <td>515.300000</td>\n",
       "      <td>0.116600</td>\n",
       "      <td>0.147200</td>\n",
       "      <td>0.114500</td>\n",
       "      <td>0.064930</td>\n",
       "      <td>0.250400</td>\n",
       "      <td>0.071460</td>\n",
       "    </tr>\n",
       "    <tr>\n",
       "      <th>50%</th>\n",
       "      <td>13.370000</td>\n",
       "      <td>18.840000</td>\n",
       "      <td>86.240000</td>\n",
       "      <td>551.100000</td>\n",
       "      <td>0.095870</td>\n",
       "      <td>0.092630</td>\n",
       "      <td>0.061540</td>\n",
       "      <td>0.033500</td>\n",
       "      <td>0.179200</td>\n",
       "      <td>0.061540</td>\n",
       "      <td>...</td>\n",
       "      <td>14.970000</td>\n",
       "      <td>25.410000</td>\n",
       "      <td>97.660000</td>\n",
       "      <td>686.500000</td>\n",
       "      <td>0.131300</td>\n",
       "      <td>0.211900</td>\n",
       "      <td>0.226700</td>\n",
       "      <td>0.099930</td>\n",
       "      <td>0.282200</td>\n",
       "      <td>0.080040</td>\n",
       "    </tr>\n",
       "    <tr>\n",
       "      <th>75%</th>\n",
       "      <td>15.780000</td>\n",
       "      <td>21.800000</td>\n",
       "      <td>104.100000</td>\n",
       "      <td>782.700000</td>\n",
       "      <td>0.105300</td>\n",
       "      <td>0.130400</td>\n",
       "      <td>0.130700</td>\n",
       "      <td>0.074000</td>\n",
       "      <td>0.195700</td>\n",
       "      <td>0.066120</td>\n",
       "      <td>...</td>\n",
       "      <td>18.790000</td>\n",
       "      <td>29.720000</td>\n",
       "      <td>125.400000</td>\n",
       "      <td>1084.000000</td>\n",
       "      <td>0.146000</td>\n",
       "      <td>0.339100</td>\n",
       "      <td>0.382900</td>\n",
       "      <td>0.161400</td>\n",
       "      <td>0.317900</td>\n",
       "      <td>0.092080</td>\n",
       "    </tr>\n",
       "    <tr>\n",
       "      <th>max</th>\n",
       "      <td>28.110000</td>\n",
       "      <td>39.280000</td>\n",
       "      <td>188.500000</td>\n",
       "      <td>2501.000000</td>\n",
       "      <td>0.163400</td>\n",
       "      <td>0.345400</td>\n",
       "      <td>0.426800</td>\n",
       "      <td>0.201200</td>\n",
       "      <td>0.304000</td>\n",
       "      <td>0.097440</td>\n",
       "      <td>...</td>\n",
       "      <td>36.040000</td>\n",
       "      <td>49.540000</td>\n",
       "      <td>251.200000</td>\n",
       "      <td>4254.000000</td>\n",
       "      <td>0.222600</td>\n",
       "      <td>1.058000</td>\n",
       "      <td>1.252000</td>\n",
       "      <td>0.291000</td>\n",
       "      <td>0.663800</td>\n",
       "      <td>0.207500</td>\n",
       "    </tr>\n",
       "  </tbody>\n",
       "</table>\n",
       "<p>8 rows × 30 columns</p>\n",
       "</div>"
      ],
      "text/plain": [
       "       mean radius  mean texture  mean perimeter    mean area  \\\n",
       "count   569.000000    569.000000      569.000000   569.000000   \n",
       "mean     14.127292     19.289649       91.969033   654.889104   \n",
       "std       3.524049      4.301036       24.298981   351.914129   \n",
       "min       6.981000      9.710000       43.790000   143.500000   \n",
       "25%      11.700000     16.170000       75.170000   420.300000   \n",
       "50%      13.370000     18.840000       86.240000   551.100000   \n",
       "75%      15.780000     21.800000      104.100000   782.700000   \n",
       "max      28.110000     39.280000      188.500000  2501.000000   \n",
       "\n",
       "       mean smoothness  mean compactness  mean concavity  mean concave points  \\\n",
       "count       569.000000        569.000000      569.000000           569.000000   \n",
       "mean          0.096360          0.104341        0.088799             0.048919   \n",
       "std           0.014064          0.052813        0.079720             0.038803   \n",
       "min           0.052630          0.019380        0.000000             0.000000   \n",
       "25%           0.086370          0.064920        0.029560             0.020310   \n",
       "50%           0.095870          0.092630        0.061540             0.033500   \n",
       "75%           0.105300          0.130400        0.130700             0.074000   \n",
       "max           0.163400          0.345400        0.426800             0.201200   \n",
       "\n",
       "       mean symmetry  mean fractal dimension  ...  worst radius  \\\n",
       "count     569.000000              569.000000  ...    569.000000   \n",
       "mean        0.181162                0.062798  ...     16.269190   \n",
       "std         0.027414                0.007060  ...      4.833242   \n",
       "min         0.106000                0.049960  ...      7.930000   \n",
       "25%         0.161900                0.057700  ...     13.010000   \n",
       "50%         0.179200                0.061540  ...     14.970000   \n",
       "75%         0.195700                0.066120  ...     18.790000   \n",
       "max         0.304000                0.097440  ...     36.040000   \n",
       "\n",
       "       worst texture  worst perimeter   worst area  worst smoothness  \\\n",
       "count     569.000000       569.000000   569.000000        569.000000   \n",
       "mean       25.677223       107.261213   880.583128          0.132369   \n",
       "std         6.146258        33.602542   569.356993          0.022832   \n",
       "min        12.020000        50.410000   185.200000          0.071170   \n",
       "25%        21.080000        84.110000   515.300000          0.116600   \n",
       "50%        25.410000        97.660000   686.500000          0.131300   \n",
       "75%        29.720000       125.400000  1084.000000          0.146000   \n",
       "max        49.540000       251.200000  4254.000000          0.222600   \n",
       "\n",
       "       worst compactness  worst concavity  worst concave points  \\\n",
       "count         569.000000       569.000000            569.000000   \n",
       "mean            0.254265         0.272188              0.114606   \n",
       "std             0.157336         0.208624              0.065732   \n",
       "min             0.027290         0.000000              0.000000   \n",
       "25%             0.147200         0.114500              0.064930   \n",
       "50%             0.211900         0.226700              0.099930   \n",
       "75%             0.339100         0.382900              0.161400   \n",
       "max             1.058000         1.252000              0.291000   \n",
       "\n",
       "       worst symmetry  worst fractal dimension  \n",
       "count      569.000000               569.000000  \n",
       "mean         0.290076                 0.083946  \n",
       "std          0.061867                 0.018061  \n",
       "min          0.156500                 0.055040  \n",
       "25%          0.250400                 0.071460  \n",
       "50%          0.282200                 0.080040  \n",
       "75%          0.317900                 0.092080  \n",
       "max          0.663800                 0.207500  \n",
       "\n",
       "[8 rows x 30 columns]"
      ]
     },
     "execution_count": 7,
     "metadata": {},
     "output_type": "execute_result"
    }
   ],
   "source": [
    "df.describe()"
   ]
  },
  {
   "cell_type": "markdown",
   "id": "3fb89bac",
   "metadata": {},
   "source": [
    "# scaling the data"
   ]
  },
  {
   "cell_type": "code",
   "execution_count": 4,
   "id": "51145c0e",
   "metadata": {},
   "outputs": [
    {
     "data": {
      "text/plain": [
       "array([[ 1.09706398, -2.07333501,  1.26993369, ...,  2.29607613,\n",
       "         2.75062224,  1.93701461],\n",
       "       [ 1.82982061, -0.35363241,  1.68595471, ...,  1.0870843 ,\n",
       "        -0.24388967,  0.28118999],\n",
       "       [ 1.57988811,  0.45618695,  1.56650313, ...,  1.95500035,\n",
       "         1.152255  ,  0.20139121],\n",
       "       ...,\n",
       "       [ 0.70228425,  2.0455738 ,  0.67267578, ...,  0.41406869,\n",
       "        -1.10454895, -0.31840916],\n",
       "       [ 1.83834103,  2.33645719,  1.98252415, ...,  2.28998549,\n",
       "         1.91908301,  2.21963528],\n",
       "       [-1.80840125,  1.22179204, -1.81438851, ..., -1.74506282,\n",
       "        -0.04813821, -0.75120669]])"
      ]
     },
     "execution_count": 4,
     "metadata": {},
     "output_type": "execute_result"
    }
   ],
   "source": [
    "from sklearn.preprocessing import StandardScaler\n",
    "\n",
    "scaler = StandardScaler()\n",
    "\n",
    "\n",
    "scaled_df = scaler.fit_transform(df)\n",
    "\n",
    "\n",
    "scaled_df"
   ]
  },
  {
   "cell_type": "markdown",
   "id": "3a634d2a",
   "metadata": {},
   "source": [
    "# creating the covariance matrix"
   ]
  },
  {
   "cell_type": "code",
   "execution_count": 5,
   "id": "9670d0a5",
   "metadata": {},
   "outputs": [],
   "source": [
    "covariance_matrix = np.cov(scaled_df,rowvar=False) \n",
    "\n",
    "\n",
    "# we only column variance not row variance, we want the variance across features not rows. "
   ]
  },
  {
   "cell_type": "markdown",
   "id": "2112d8b6",
   "metadata": {},
   "source": [
    "# creating the eigen_values and eigen_vectors\n",
    "\n",
    "**eigen_vectors represent the features**"
   ]
  },
  {
   "cell_type": "code",
   "execution_count": 6,
   "id": "5a02eb8b",
   "metadata": {},
   "outputs": [],
   "source": [
    "eigen_values, eigen_vectors = np.linalg.eig(covariance_matrix)\n",
    "\n"
   ]
  },
  {
   "cell_type": "code",
   "execution_count": 7,
   "id": "7adc0f20",
   "metadata": {},
   "outputs": [
    {
     "data": {
      "image/png": "[encoded data removed]",
      "text/latex": [
       "$\\displaystyle \\left( 30, \\  30\\right)$"
      ],
      "text/plain": [
       "(30, 30)"
      ]
     },
     "execution_count": 7,
     "metadata": {},
     "output_type": "execute_result"
    }
   ],
   "source": [
    "np.shape(covariance_matrix)"
   ]
  },
  {
   "cell_type": "code",
   "execution_count": 8,
   "id": "044d7a9e",
   "metadata": {},
   "outputs": [
    {
     "data": {
      "image/png": "[encoded data removed]",
      "text/latex": [
       "$\\displaystyle \\left( 30,\\right)$"
      ],
      "text/plain": [
       "(30,)"
      ]
     },
     "execution_count": 8,
     "metadata": {},
     "output_type": "execute_result"
    }
   ],
   "source": [
    "np.shape(eigen_values)"
   ]
  },
  {
   "cell_type": "code",
   "execution_count": 9,
   "id": "fbc5bc82",
   "metadata": {},
   "outputs": [
    {
     "data": {
      "image/png": "[encoded data removed]",
      "text/latex": [
       "$\\displaystyle \\left( 30, \\  30\\right)$"
      ],
      "text/plain": [
       "(30, 30)"
      ]
     },
     "execution_count": 9,
     "metadata": {},
     "output_type": "execute_result"
    }
   ],
   "source": [
    "np.shape(eigen_vectors)"
   ]
  },
  {
   "cell_type": "markdown",
   "id": "fad46a28",
   "metadata": {},
   "source": [
    "# find the two biggest eigen_values for reducing the whole data frame to few features (2 or 3 atmost)"
   ]
  },
  {
   "cell_type": "code",
   "execution_count": 16,
   "id": "0d4e4426",
   "metadata": {},
   "outputs": [
    {
     "data": {
      "text/plain": [
       "array([ 5,  4,  0,  8,  2,  9, 10,  7,  1,  3,  6], dtype=int64)"
      ]
     },
     "execution_count": 16,
     "metadata": {},
     "output_type": "execute_result"
    }
   ],
   "source": [
    "lis = np.array([2,33,5,78,1,0,99,9,3,5,6])\n",
    "\n",
    "np.argsort(lis) # returns the index of the sorted arrangement."
   ]
  },
  {
   "cell_type": "code",
   "execution_count": 20,
   "id": "2d4f3a68",
   "metadata": {},
   "outputs": [
    {
     "data": {
      "text/plain": [
       "array([ 6,  3,  1,  7, 10,  9,  2,  8,  0,  4,  5], dtype=int64)"
      ]
     },
     "execution_count": 20,
     "metadata": {},
     "output_type": "execute_result"
    }
   ],
   "source": [
    "np.argsort(lis)[::-1] # big to small"
   ]
  },
  {
   "cell_type": "code",
   "execution_count": 18,
   "id": "66a106ee",
   "metadata": {},
   "outputs": [
    {
     "data": {
      "text/plain": [
       "array([6, 3], dtype=int64)"
      ]
     },
     "execution_count": 18,
     "metadata": {},
     "output_type": "execute_result"
    }
   ],
   "source": [
    "np.argsort(lis)[::-1][0:2] # first two biggest numbers indices in the whole lists."
   ]
  },
  {
   "cell_type": "code",
   "execution_count": 19,
   "id": "609a9188",
   "metadata": {},
   "outputs": [
    {
     "data": {
      "text/plain": [
       "array([99, 78])"
      ]
     },
     "execution_count": 19,
     "metadata": {},
     "output_type": "execute_result"
    }
   ],
   "source": [
    "lis[np.argsort(lis)[::-1][0:2]]"
   ]
  },
  {
   "cell_type": "code",
   "execution_count": 22,
   "id": "8e5455a6",
   "metadata": {},
   "outputs": [
    {
     "data": {
      "text/plain": [
       "array([0, 1], dtype=int64)"
      ]
     },
     "execution_count": 22,
     "metadata": {},
     "output_type": "execute_result"
    }
   ],
   "source": [
    "num_components = 2\n",
    "\n",
    "sorted_key = np.argsort(eigen_values)[::-1][0:num_components]\n",
    "\n",
    "sorted_key # remember these are indices of the biggest values not the values themselves"
   ]
  },
  {
   "cell_type": "markdown",
   "id": "265a110c",
   "metadata": {},
   "source": [
    "# accessing the values of the eigen values and eigen vectors based off the sorted_keys"
   ]
  },
  {
   "cell_type": "code",
   "execution_count": 23,
   "id": "47b66933",
   "metadata": {},
   "outputs": [
    {
     "data": {
      "text/plain": [
       "array([13.30499079,  5.7013746 ])"
      ]
     },
     "execution_count": 23,
     "metadata": {},
     "output_type": "execute_result"
    }
   ],
   "source": [
    "eigen_values[sorted_key]"
   ]
  },
  {
   "cell_type": "code",
   "execution_count": 26,
   "id": "fae09339",
   "metadata": {},
   "outputs": [
    {
     "data": {
      "text/plain": [
       "array([[ 2.18902444e-01, -2.33857132e-01, -8.53124284e-03,\n",
       "         4.14089623e-02, -3.77863538e-02,  1.87407904e-02,\n",
       "         1.24088340e-01,  7.45229622e-03, -2.23109764e-01,\n",
       "         9.54864432e-02,  4.14714866e-02,  5.10674568e-02,\n",
       "         1.19672116e-02, -5.95061348e-02, -5.11187749e-02,\n",
       "         1.50583883e-01, -2.02924255e-01, -1.46712338e-01,\n",
       "        -2.25384659e-01, -7.02414091e-01,  2.11460455e-01,\n",
       "        -2.11194013e-01, -1.31526670e-01,  1.29476396e-01,\n",
       "         1.92264989e-02, -1.82579441e-01,  9.85526942e-02,\n",
       "        -7.29289034e-02, -4.96986642e-02,  6.85700057e-02],\n",
       "       [ 1.03724578e-01, -5.97060883e-02,  6.45499033e-02,\n",
       "        -6.03050001e-01,  4.94688505e-02, -3.21788366e-02,\n",
       "        -1.13995382e-02, -1.30674825e-01,  1.12699390e-01,\n",
       "         2.40934066e-01, -3.02243402e-01,  2.54896423e-01,\n",
       "         2.03461333e-01,  2.15600995e-02, -1.07922421e-01,\n",
       "         1.57841960e-01,  3.87061187e-02,  4.11029851e-02,\n",
       "        -2.97886446e-02, -2.73661018e-04, -1.05339342e-02,\n",
       "         6.58114593e-05, -1.73573093e-02,  2.45566636e-02,\n",
       "        -8.47459309e-02,  9.87867898e-02,  5.54997454e-04,\n",
       "        -9.48006326e-02, -2.44134993e-01, -4.48369467e-01],\n",
       "       [ 2.27537293e-01, -2.15181361e-01, -9.31421972e-03,\n",
       "         4.19830991e-02, -3.73746632e-02,  1.73084449e-02,\n",
       "         1.14477057e-01,  1.86872582e-02, -2.23739213e-01,\n",
       "         8.63856150e-02,  1.67826374e-02,  3.89261058e-02,\n",
       "         4.41095034e-02, -4.85138123e-02, -3.99029358e-02,\n",
       "         1.14453955e-01, -1.94821310e-01, -1.58317455e-01,\n",
       "        -2.39595276e-01,  6.89896968e-01,  3.83826098e-01,\n",
       "        -8.43382663e-02, -1.15415423e-01,  1.25255946e-01,\n",
       "        -2.70154137e-02, -1.16648876e-01,  4.02447050e-02,\n",
       "        -7.51604777e-02, -1.76650122e-02,  6.97690429e-02],\n",
       "       [ 2.20994985e-01, -2.31076711e-01,  2.86995259e-02,\n",
       "         5.34337955e-02, -1.03312514e-02, -1.88774796e-03,\n",
       "         5.16534275e-02, -3.46736038e-02, -1.95586014e-01,\n",
       "         7.49564886e-02,  1.10169643e-01,  6.54375082e-02,\n",
       "         6.73757374e-02, -1.08308292e-02,  1.39669069e-02,\n",
       "         1.32448032e-01, -2.55705763e-01, -2.66168105e-01,\n",
       "         2.73221894e-02,  3.29473482e-02, -4.22794920e-01,\n",
       "         2.72508323e-01,  4.66612477e-01, -3.62727403e-01,\n",
       "         2.10040780e-01,  6.98483369e-02, -7.77727342e-03,\n",
       "        -9.75657781e-02, -9.01437617e-02,  1.84432785e-02],\n",
       "       [ 1.42589694e-01,  1.86113023e-01, -1.04291904e-01,\n",
       "         1.59382765e-01,  3.65088528e-01, -2.86374497e-01,\n",
       "         1.40668993e-01,  2.88974575e-01,  6.42472194e-03,\n",
       "        -6.92926813e-02, -1.37021842e-01,  3.16727211e-01,\n",
       "         4.55736020e-02, -4.45064860e-01, -1.18143364e-01,\n",
       "         2.04613247e-01, -1.67929914e-01,  3.52226802e-01,\n",
       "         1.64565843e-01,  4.84745766e-03, -3.43466700e-03,\n",
       "        -1.47926883e-03,  6.96899233e-02,  3.70036864e-02,\n",
       "        -2.89548850e-02,  6.86974224e-02,  2.06657211e-02,\n",
       "        -6.38229479e-02,  1.71009601e-02,  1.19491747e-01],\n",
       "       [ 2.39285354e-01,  1.51891610e-01, -7.40915709e-02,\n",
       "         3.17945811e-02, -1.17039713e-02, -1.41309489e-02,\n",
       "        -3.09184960e-02,  1.51396350e-01, -1.67841425e-01,\n",
       "         1.29362000e-02, -3.08009633e-01, -1.04017044e-01,\n",
       "         2.29281304e-01, -8.10105720e-03,  2.30899962e-01,\n",
       "        -1.70178367e-01,  2.03077075e-02, -7.79413843e-03,\n",
       "        -2.84222358e-01, -4.46741863e-02, -4.10167739e-02,\n",
       "         5.46276696e-03,  9.77487054e-02, -2.62808474e-01,\n",
       "        -3.96623231e-01, -1.04135518e-01, -5.23603957e-02,\n",
       "         9.80775567e-02,  4.88686329e-01, -1.92621396e-01],\n",
       "       [ 2.58400481e-01,  6.01653628e-02,  2.73383798e-03,\n",
       "         1.91227535e-02, -8.63754118e-02, -9.34418089e-03,\n",
       "         1.07520443e-01,  7.28272853e-02,  4.05910064e-02,\n",
       "        -1.35602298e-01,  1.24190245e-01,  6.56534798e-02,\n",
       "         3.87090806e-01,  1.89358699e-01, -1.28283732e-01,\n",
       "        -2.69470206e-01,  1.59835337e-03,  2.69681105e-02,\n",
       "        -2.26636013e-03, -2.51386661e-02, -1.00147876e-02,\n",
       "        -4.55386379e-02,  3.64808397e-01,  5.48876170e-01,\n",
       "         9.69773167e-02,  4.47410568e-02, -3.24870378e-01,\n",
       "         1.85212003e-01, -3.33870858e-02, -5.57175335e-03],\n",
       "       [ 2.60853758e-01, -3.47675005e-02, -2.55635406e-02,\n",
       "         6.53359443e-02,  4.38610252e-02, -5.20499505e-02,\n",
       "         1.50482214e-01,  1.52322414e-01, -1.11971106e-01,\n",
       "         8.05452775e-03, -7.24460264e-02,  4.25892667e-02,\n",
       "         1.32138097e-01,  2.44794768e-01, -2.17099194e-01,\n",
       "        -3.80464095e-01, -3.45095087e-02,  8.28277367e-02,\n",
       "         1.54972363e-01,  1.07726530e-03, -4.20694931e-03,\n",
       "         8.88309714e-03, -4.54699351e-01, -3.87643377e-01,\n",
       "         1.86451602e-01,  8.40276972e-02,  5.14087968e-02,\n",
       "         3.11852431e-01, -2.35407606e-01,  9.42381870e-03],\n",
       "       [ 1.38166959e-01,  1.90348770e-01, -4.02399363e-02,\n",
       "         6.71249840e-02,  3.05941428e-01,  3.56458461e-01,\n",
       "         9.38911345e-02,  2.31530989e-01,  2.56040084e-01,\n",
       "         5.72069479e-01,  1.63054081e-01, -2.88865504e-01,\n",
       "         1.89933673e-01, -3.07388563e-02, -7.39617071e-02,\n",
       "         1.64661588e-01,  1.91737848e-01, -1.73397790e-01,\n",
       "         5.88111647e-02,  1.28037941e-03, -7.56986244e-03,\n",
       "        -1.43302642e-03, -1.51648349e-02,  1.60440385e-02,\n",
       "         2.45836949e-02,  1.93394733e-02,  5.12005770e-02,\n",
       "         1.84067326e-02,  2.60691555e-02,  8.69384844e-02],\n",
       "       [ 6.43633464e-02,  3.66575471e-01, -2.25740897e-02,\n",
       "         4.85867649e-02,  4.44243602e-02, -1.19430668e-01,\n",
       "        -2.95760024e-01,  1.77121441e-01, -1.23740789e-01,\n",
       "         8.11032072e-02, -3.80482687e-02,  2.36358988e-01,\n",
       "         1.06239082e-01,  3.77078865e-01,  5.17975705e-01,\n",
       "         4.07927860e-02, -5.02252456e-02, -8.78673570e-02,\n",
       "         5.81570509e-02,  4.75568480e-03,  7.30143287e-03,\n",
       "         6.31168651e-03, -1.01244946e-01,  9.74048386e-02,\n",
       "         2.07221864e-01, -1.33260547e-01,  8.46898562e-02,\n",
       "        -2.87868885e-01, -1.75637222e-01,  7.62718362e-02],\n",
       "       [ 2.05978776e-01, -1.05552152e-01,  2.68481387e-01,\n",
       "         9.79412418e-02,  1.54456496e-01, -2.56032561e-02,\n",
       "        -3.12490037e-01, -2.25399674e-02,  2.49985002e-01,\n",
       "        -4.95475941e-02, -2.53570194e-02, -1.66879153e-02,\n",
       "        -6.81952298e-02, -1.03474126e-02, -1.10050711e-01,\n",
       "        -5.89057190e-02,  1.39396866e-01,  2.36216532e-01,\n",
       "        -1.75883308e-01,  8.71109373e-03,  1.18442112e-01,\n",
       "         1.92223890e-01,  2.12982901e-01, -4.99770798e-02,\n",
       "         1.74930429e-01, -5.58701567e-01,  2.64125317e-01,\n",
       "         1.50274681e-01, -9.08005031e-02, -8.63867747e-02],\n",
       "       [ 1.74280281e-02,  8.99796818e-02,  3.74633665e-01,\n",
       "        -3.59855528e-01,  1.91650506e-01, -2.87473145e-02,\n",
       "         9.07553556e-02,  4.75413139e-01, -2.46645397e-01,\n",
       "        -2.89142742e-01,  3.44944458e-01, -3.06160423e-01,\n",
       "        -1.68222383e-01,  1.08493473e-02,  3.27527212e-02,\n",
       "         3.45004006e-02, -4.39630156e-02,  9.85866201e-03,\n",
       "        -3.60098518e-02,  1.07103919e-03, -8.77627920e-03,\n",
       "         5.62261069e-03, -1.00928890e-02,  1.12372419e-02,\n",
       "        -5.69864778e-02,  2.42672970e-02,  8.73880467e-04,\n",
       "        -4.84569345e-02, -7.16599878e-02, -2.17071967e-01],\n",
       "       [ 2.11325916e-01, -8.94572342e-02,  2.66645367e-01,\n",
       "         8.89924146e-02,  1.20990220e-01,  1.81071500e-03,\n",
       "        -3.14640390e-01,  1.18966905e-02,  2.27154024e-01,\n",
       "        -1.14508236e-01, -1.67318771e-01, -1.01446828e-01,\n",
       "        -3.78439858e-02,  4.55237175e-02, -8.26808881e-03,\n",
       "        -2.65166513e-02,  2.46356391e-02,  2.59288003e-02,\n",
       "        -3.65701538e-01, -1.37293906e-02, -6.10021933e-03,\n",
       "        -2.63191868e-01,  4.16915529e-02, -1.03653282e-01,\n",
       "        -7.29276412e-02,  5.16750385e-01, -9.00742110e-02,\n",
       "        -1.59352804e-01, -1.77250625e-01,  3.04950158e-01],\n",
       "       [ 2.02869635e-01, -1.52292628e-01,  2.16006528e-01,\n",
       "         1.08205039e-01,  1.27574432e-01, -4.28639079e-02,\n",
       "        -3.46679003e-01, -8.58051345e-02,  2.29160015e-01,\n",
       "        -9.19278886e-02,  5.16194632e-02, -1.76792177e-02,\n",
       "         5.60649318e-02, -8.35707181e-02, -4.60243656e-02,\n",
       "        -4.11532265e-02, -3.34418173e-01, -3.04906903e-01,\n",
       "         4.16572314e-01, -1.10532603e-03, -8.59259138e-02,\n",
       "         4.20681051e-02, -3.13358657e-01,  1.55304589e-01,\n",
       "        -1.31850405e-01, -2.24607172e-02, -9.82150746e-02,\n",
       "        -6.42326151e-02,  2.74201148e-01, -1.92587786e-01],\n",
       "       [ 1.45314521e-02,  2.04430453e-01,  3.08838979e-01,\n",
       "         4.46641797e-02,  2.32065676e-01, -3.42917393e-01,\n",
       "         2.44024056e-01, -5.73410232e-01, -1.41924890e-01,\n",
       "         1.60884609e-01,  8.42062106e-02, -2.94710053e-01,\n",
       "         1.50441434e-01,  2.01152530e-01,  1.85594647e-02,\n",
       "         5.80390613e-02, -1.39595006e-01,  2.31259943e-01,\n",
       "         1.32600886e-02,  1.60821086e-03,  1.77638619e-03,\n",
       "        -9.79296328e-03, -9.05215355e-03,  7.71755717e-03,\n",
       "        -3.12107028e-02,  1.56311888e-02,  5.98177179e-02,\n",
       "        -5.05449015e-02,  9.00614773e-02,  7.20987261e-02],\n",
       "       [ 1.70393451e-01,  2.32715896e-01,  1.54779718e-01,\n",
       "        -2.74693632e-02, -2.79968156e-01,  6.91975186e-02,\n",
       "        -2.34635340e-02, -1.17460157e-01, -1.45322810e-01,\n",
       "         4.35048658e-02, -2.06885680e-01, -2.63456509e-01,\n",
       "         1.00401699e-02, -4.91755932e-01,  1.68209315e-01,\n",
       "        -1.89830896e-01,  8.24647717e-03, -1.00474235e-01,\n",
       "         2.42448176e-01, -1.91562235e-03,  3.15813441e-03,\n",
       "         1.53955481e-02,  4.65360884e-02,  4.97276317e-02,\n",
       "        -1.73164553e-01, -1.21777792e-01, -9.10387102e-03,\n",
       "         4.52876920e-02, -4.61098220e-01,  1.40386572e-01],\n",
       "       [ 1.53589790e-01,  1.97207283e-01,  1.76463743e-01,\n",
       "         1.31687997e-03, -3.53982091e-01,  5.63432386e-02,\n",
       "         2.08823790e-01, -6.05665008e-02,  3.58107079e-01,\n",
       "        -1.41276243e-01,  3.49517943e-01,  2.51146975e-01,\n",
       "         1.58783192e-01, -1.34586924e-01,  2.50471408e-01,\n",
       "         1.25420649e-01, -8.46167156e-02,  1.95485228e-04,\n",
       "        -1.26381025e-01,  8.92652653e-03,  1.60785207e-02,\n",
       "        -5.82097800e-03, -8.42247975e-02, -9.14549680e-02,\n",
       "        -1.59399802e-02,  1.88205036e-01,  3.87542329e-01,\n",
       "         2.05212693e-01,  6.69461742e-02, -6.30479298e-02],\n",
       "       [ 1.83417397e-01,  1.30321560e-01,  2.24657567e-01,\n",
       "         7.40673350e-02, -1.95548089e-01, -3.12244482e-02,\n",
       "         3.69645937e-01,  1.08319309e-01,  2.72519886e-01,\n",
       "         8.62408470e-02, -3.42375908e-01, -6.45875122e-03,\n",
       "        -4.94026741e-01,  1.99666719e-01,  6.20793442e-02,\n",
       "         1.98810346e-01, -1.08132263e-01, -4.60549116e-02,\n",
       "         1.21642969e-02,  2.16019727e-03, -2.39377870e-02,\n",
       "         2.90093001e-02, -1.11655093e-02,  1.79419192e-02,\n",
       "         1.29546547e-01, -1.09668978e-01, -3.51755074e-01,\n",
       "         7.25453753e-02,  6.88682942e-02, -3.43753236e-02],\n",
       "       [ 4.24984216e-02,  1.83848000e-01,  2.88584292e-01,\n",
       "         4.40733510e-02,  2.52868765e-01,  4.90245643e-01,\n",
       "         8.03822539e-02, -2.20149279e-01, -3.04077200e-01,\n",
       "        -3.16529830e-01, -1.87844043e-01,  3.20571348e-01,\n",
       "         1.03327412e-02,  4.68643826e-02, -1.13383199e-01,\n",
       "         1.57711497e-01,  2.74059129e-01, -1.87014764e-01,\n",
       "         8.90392949e-02, -3.29389752e-04, -5.22329189e-03,\n",
       "         7.63652550e-03, -1.99759830e-02,  1.72678486e-02,\n",
       "         1.95149333e-02,  3.22620011e-03,  4.23628949e-02,\n",
       "         8.46544307e-02,  1.07385289e-01,  9.76995265e-02],\n",
       "       [ 1.02568322e-01,  2.80092027e-01,  2.11503764e-01,\n",
       "         1.53047496e-02, -2.63297438e-01, -5.31952674e-02,\n",
       "        -1.91394973e-01, -1.11681884e-02, -2.13722716e-01,\n",
       "         3.67541918e-01,  2.50624789e-01,  2.76165974e-01,\n",
       "        -2.40458323e-01, -1.45652466e-01, -3.53232211e-01,\n",
       "        -2.68553878e-01,  1.22733398e-01,  5.98230982e-02,\n",
       "        -8.66008430e-02, -1.79895682e-03, -8.34191154e-03,\n",
       "        -1.97564555e-02, -1.20365640e-02, -3.54889745e-02,\n",
       "         8.41712034e-02,  7.51944193e-02, -8.57810992e-02,\n",
       "        -2.44705083e-01,  2.22345297e-01, -6.28432814e-02],\n",
       "       [ 2.27996634e-01, -2.19866379e-01, -4.75069900e-02,\n",
       "         1.54172396e-02,  4.40659209e-03, -2.90684919e-04,\n",
       "         9.70993602e-03, -4.26194163e-02, -1.12141463e-01,\n",
       "         7.73616428e-02,  1.05067333e-01,  3.96796652e-02,\n",
       "        -1.37890527e-01, -2.31012813e-02,  1.66567074e-01,\n",
       "         8.15605686e-02,  2.40049982e-01,  2.16101353e-01,\n",
       "        -1.36613039e-02,  1.35643056e-01, -6.35724917e-01,\n",
       "        -4.12639581e-01, -1.78666740e-01,  1.97054744e-01,\n",
       "        -7.07097238e-02, -1.56830365e-01,  5.56767923e-02,\n",
       "         9.62982088e-02, -5.62690874e-03, -7.29389953e-03],\n",
       "       [ 1.04469325e-01, -4.54672983e-02, -4.22978228e-02,\n",
       "        -6.32807885e-01,  9.28834001e-02, -5.00080613e-02,\n",
       "        -9.87074388e-03, -3.62516360e-02,  1.03341204e-01,\n",
       "         2.95509413e-02,  1.31572736e-02,  7.97974499e-02,\n",
       "        -8.01454315e-02, -5.34307917e-02,  1.01115399e-01,\n",
       "        -1.85557852e-01, -6.93651855e-02, -5.83984505e-02,\n",
       "         7.58669276e-02, -1.02053601e-03,  1.72354925e-02,\n",
       "         3.90250926e-04,  2.14106944e-02, -3.64694332e-02,\n",
       "         1.18189721e-01, -1.18484602e-01,  8.92289971e-03,\n",
       "         1.11112024e-01,  3.00599798e-01,  5.94440143e-01],\n",
       "       [ 2.36639681e-01, -1.99878428e-01, -4.85465083e-02,\n",
       "         1.38027944e-02, -7.45415100e-03,  8.50098715e-03,\n",
       "         4.45726717e-04, -3.05585340e-02, -1.09614364e-01,\n",
       "         5.05083335e-02,  5.10762807e-02, -8.98773800e-03,\n",
       "        -9.69657077e-02, -1.22193824e-02,  1.82755198e-01,\n",
       "         5.48570473e-02,  2.34164147e-01,  1.88543592e-01,\n",
       "        -9.08132490e-02, -7.97438536e-02,  2.29218029e-02,\n",
       "         7.28680898e-01, -2.41031046e-01,  2.44103670e-01,\n",
       "        -1.18034029e-01,  2.37113167e-01, -6.33448296e-02,\n",
       "        -1.72216251e-02,  1.10038577e-02,  9.20235990e-02],\n",
       "       [ 2.24870533e-01, -2.19351858e-01, -1.19023182e-02,\n",
       "         2.58947492e-02,  2.73909030e-02, -2.51643821e-02,\n",
       "        -6.78316595e-02, -7.93942456e-02, -8.07324609e-02,\n",
       "         6.99211523e-02,  1.84598937e-01,  4.80886567e-02,\n",
       "        -1.01160611e-01,  6.68546458e-03,  3.14993600e-01,\n",
       "         9.06533944e-02,  2.73399584e-01,  1.42064856e-01,\n",
       "         4.10047202e-01, -3.97422838e-02,  4.44935933e-01,\n",
       "        -2.38960316e-01,  2.37162466e-01, -2.31359525e-01,\n",
       "         3.82899511e-02,  1.44063033e-01, -1.90889625e-01,\n",
       "         9.69598236e-02,  6.00473870e-02, -1.46790132e-01],\n",
       "       [ 1.27952561e-01,  1.72304352e-01, -2.59797613e-01,\n",
       "         1.76522161e-02,  3.24435445e-01, -3.69255370e-01,\n",
       "         1.08830886e-01, -2.05852191e-01,  1.12315904e-01,\n",
       "        -1.28304659e-01,  1.43890349e-01,  5.65148662e-02,\n",
       "        -2.05130344e-01, -1.62235443e-01,  4.61258656e-02,\n",
       "        -1.45551659e-01,  2.78030197e-01, -5.01551675e-01,\n",
       "        -2.34513845e-01, -4.58327731e-03,  7.38549171e-03,\n",
       "         1.53524821e-03, -4.08535683e-02, -1.26024637e-02,\n",
       "         4.79647647e-02, -1.09901386e-02, -9.36901494e-02,\n",
       "         6.82540931e-02, -1.29723903e-01, -1.64849237e-01],\n",
       "       [ 2.10095880e-01,  1.43593173e-01, -2.36075625e-01,\n",
       "        -9.13284153e-02, -1.21804107e-01,  4.77057929e-02,\n",
       "        -1.40472938e-01, -8.40196588e-02, -1.00677822e-01,\n",
       "        -1.72133632e-01, -1.97420469e-01, -3.71662503e-01,\n",
       "         1.22793095e-02, -1.66470250e-01, -4.99560142e-02,\n",
       "         1.53734861e-01,  4.03712272e-03,  7.35745143e-02,\n",
       "        -2.02007041e-02,  1.28415624e-02,  3.56690393e-06,\n",
       "        -4.86918180e-02, -7.05054136e-02,  1.00463424e-01,\n",
       "         6.24384938e-01,  1.86749953e-01,  1.47920925e-01,\n",
       "        -2.96764124e-02,  2.29280589e-01, -1.81374867e-01],\n",
       "       [ 2.28767533e-01,  9.79641143e-02, -1.73057335e-01,\n",
       "        -7.39511797e-02, -1.88518727e-01,  2.83792555e-02,\n",
       "         6.04880561e-02, -7.24678714e-02,  1.61908621e-01,\n",
       "        -3.11638520e-01,  1.85016760e-01, -8.70345324e-02,\n",
       "         2.17984329e-01,  6.67989309e-02, -2.04835886e-01,\n",
       "         2.15021948e-01,  1.91313419e-01,  1.03907980e-01,\n",
       "         4.57861197e-02, -4.02139168e-04, -1.26757226e-02,\n",
       "         1.76408967e-02, -1.42905801e-01, -2.66853781e-01,\n",
       "        -1.15770341e-01, -2.88852570e-01, -2.86433135e-01,\n",
       "        -4.60426186e-01, -4.64827918e-02,  1.32100595e-01],\n",
       "       [ 2.50885971e-01, -8.25723507e-03, -1.70344076e-01,\n",
       "         6.00699571e-03, -4.33320687e-02, -3.08734498e-02,\n",
       "         1.67966619e-01,  3.61707954e-02,  6.04884615e-02,\n",
       "        -7.66482910e-02, -1.17772055e-01, -6.81253543e-02,\n",
       "        -2.54387490e-01,  2.76418891e-01, -1.69499607e-01,\n",
       "        -1.78141741e-01,  7.54853164e-02, -7.58138963e-02,\n",
       "         2.60229625e-01,  2.28844179e-03,  3.52404543e-02,\n",
       "        -2.24756680e-02,  2.30901389e-01,  1.33574507e-01,\n",
       "        -2.63196337e-01,  1.07340243e-01,  5.67527797e-01,\n",
       "        -2.99840557e-01,  3.30223397e-02, -8.86081478e-04],\n",
       "       [ 1.22904556e-01,  1.41883349e-01, -2.71312642e-01,\n",
       "        -3.62506947e-02,  2.44558663e-01,  4.98926784e-01,\n",
       "         1.84906298e-02, -2.28225053e-01,  6.46378061e-02,\n",
       "        -2.95630751e-02,  1.57560248e-01,  4.40335026e-02,\n",
       "        -2.56534905e-01, -5.35557351e-03,  1.39888394e-01,\n",
       "        -2.57894009e-01, -4.30658116e-01,  2.78713843e-01,\n",
       "        -1.17250532e-01, -3.95443454e-04,  1.34042283e-02,\n",
       "        -4.92048082e-03,  2.27904438e-02, -2.81842956e-02,\n",
       "        -4.52996243e-02, -1.43818093e-02, -1.21343451e-01,\n",
       "        -9.71448437e-02, -1.16759236e-01, -1.62708549e-01],\n",
       "       [ 1.31783943e-01,  2.75339469e-01, -2.32791313e-01,\n",
       "        -7.70534703e-02, -9.44233510e-02, -8.02235245e-02,\n",
       "        -3.74657626e-01, -4.83606666e-02, -1.34174175e-01,\n",
       "         1.26095791e-02,  1.18283551e-01, -3.47316933e-02,\n",
       "        -1.72814238e-01,  2.12104110e-01, -2.56173195e-01,\n",
       "         4.05556492e-01, -1.59394300e-01, -2.35647497e-02,\n",
       "         1.14944811e-02, -1.89429245e-03,  1.14776603e-02,\n",
       "         2.35621424e-02,  5.99859979e-02, -4.52048188e-03,\n",
       "        -2.80133485e-01,  3.78254532e-02, -7.62533821e-03,\n",
       "         4.69471147e-01, -1.04991974e-01,  9.23439434e-02]])"
      ]
     },
     "execution_count": 26,
     "metadata": {},
     "output_type": "execute_result"
    }
   ],
   "source": [
    "eigen_vectors"
   ]
  },
  {
   "cell_type": "code",
   "execution_count": 25,
   "id": "69ee98ba",
   "metadata": {},
   "outputs": [
    {
     "data": {
      "text/plain": [
       "array([[ 0.21890244, -0.23385713],\n",
       "       [ 0.10372458, -0.05970609],\n",
       "       [ 0.22753729, -0.21518136],\n",
       "       [ 0.22099499, -0.23107671],\n",
       "       [ 0.14258969,  0.18611302],\n",
       "       [ 0.23928535,  0.15189161],\n",
       "       [ 0.25840048,  0.06016536],\n",
       "       [ 0.26085376, -0.0347675 ],\n",
       "       [ 0.13816696,  0.19034877],\n",
       "       [ 0.06436335,  0.36657547],\n",
       "       [ 0.20597878, -0.10555215],\n",
       "       [ 0.01742803,  0.08997968],\n",
       "       [ 0.21132592, -0.08945723],\n",
       "       [ 0.20286964, -0.15229263],\n",
       "       [ 0.01453145,  0.20443045],\n",
       "       [ 0.17039345,  0.2327159 ],\n",
       "       [ 0.15358979,  0.19720728],\n",
       "       [ 0.1834174 ,  0.13032156],\n",
       "       [ 0.04249842,  0.183848  ],\n",
       "       [ 0.10256832,  0.28009203],\n",
       "       [ 0.22799663, -0.21986638],\n",
       "       [ 0.10446933, -0.0454673 ],\n",
       "       [ 0.23663968, -0.19987843],\n",
       "       [ 0.22487053, -0.21935186],\n",
       "       [ 0.12795256,  0.17230435],\n",
       "       [ 0.21009588,  0.14359317],\n",
       "       [ 0.22876753,  0.09796411],\n",
       "       [ 0.25088597, -0.00825724],\n",
       "       [ 0.12290456,  0.14188335],\n",
       "       [ 0.13178394,  0.27533947]])"
      ]
     },
     "execution_count": 25,
     "metadata": {},
     "output_type": "execute_result"
    }
   ],
   "source": [
    "eigen_vectors[:,sorted_key]"
   ]
  },
  {
   "cell_type": "code",
   "execution_count": 33,
   "id": "68f232fe",
   "metadata": {},
   "outputs": [
    {
     "data": {
      "image/png": "[encoded data removed]",
      "text/plain": [
       "<Figure size 864x432 with 2 Axes>"
      ]
     },
     "metadata": {
      "needs_background": "light"
     },
     "output_type": "display_data"
    }
   ],
   "source": [
    "# checking how that works\n",
    "plt.figure(figsize=(12,6))\n",
    "plt.pcolormesh(eigen_vectors)\n",
    "\n",
    "\n",
    "plt.colorbar()\n",
    "plt.show()"
   ]
  },
  {
   "cell_type": "code",
   "execution_count": 34,
   "id": "b0631583",
   "metadata": {},
   "outputs": [
    {
     "data": {
      "image/png": "[encoded data removed]",
      "text/plain": [
       "<Figure size 864x432 with 2 Axes>"
      ]
     },
     "metadata": {
      "needs_background": "light"
     },
     "output_type": "display_data"
    }
   ],
   "source": [
    "plt.figure(figsize=(12,6))\n",
    "plt.pcolormesh(eigen_vectors[:,sorted_key])\n",
    "\n",
    "plt.colorbar()\n",
    "plt.show()"
   ]
  },
  {
   "cell_type": "code",
   "execution_count": 29,
   "id": "ca37499e",
   "metadata": {},
   "outputs": [
    {
     "data": {
      "text/plain": [
       "array([[1, 4, 7],\n",
       "       [2, 3, 2],\n",
       "       [8, 5, 5]])"
      ]
     },
     "execution_count": 29,
     "metadata": {},
     "output_type": "execute_result"
    }
   ],
   "source": [
    "a = np.random.randint(1,9,(3,3))\n",
    "\n",
    "a"
   ]
  },
  {
   "cell_type": "code",
   "execution_count": 30,
   "id": "93519e5e",
   "metadata": {},
   "outputs": [
    {
     "data": {
      "text/plain": [
       "array([[1, 4],\n",
       "       [2, 3],\n",
       "       [8, 5]])"
      ]
     },
     "execution_count": 30,
     "metadata": {},
     "output_type": "execute_result"
    }
   ],
   "source": [
    "a[:,[0,1]]"
   ]
  },
  {
   "cell_type": "markdown",
   "id": "0f3272dd",
   "metadata": {},
   "source": [
    "# storing the sorted eigen values and eigen vectors"
   ]
  },
  {
   "cell_type": "code",
   "execution_count": 35,
   "id": "45337e8e",
   "metadata": {},
   "outputs": [],
   "source": [
    "eigen_values, eigen_vectors = eigen_values[sorted_key],eigen_vectors[:,sorted_key]"
   ]
  },
  {
   "cell_type": "code",
   "execution_count": 36,
   "id": "ed43c4c8",
   "metadata": {},
   "outputs": [
    {
     "data": {
      "text/plain": [
       "array([13.30499079,  5.7013746 ])"
      ]
     },
     "execution_count": 36,
     "metadata": {},
     "output_type": "execute_result"
    }
   ],
   "source": [
    "eigen_values"
   ]
  },
  {
   "cell_type": "code",
   "execution_count": 37,
   "id": "34405af8",
   "metadata": {},
   "outputs": [
    {
     "data": {
      "text/plain": [
       "array([[ 0.21890244, -0.23385713],\n",
       "       [ 0.10372458, -0.05970609],\n",
       "       [ 0.22753729, -0.21518136],\n",
       "       [ 0.22099499, -0.23107671],\n",
       "       [ 0.14258969,  0.18611302],\n",
       "       [ 0.23928535,  0.15189161],\n",
       "       [ 0.25840048,  0.06016536],\n",
       "       [ 0.26085376, -0.0347675 ],\n",
       "       [ 0.13816696,  0.19034877],\n",
       "       [ 0.06436335,  0.36657547],\n",
       "       [ 0.20597878, -0.10555215],\n",
       "       [ 0.01742803,  0.08997968],\n",
       "       [ 0.21132592, -0.08945723],\n",
       "       [ 0.20286964, -0.15229263],\n",
       "       [ 0.01453145,  0.20443045],\n",
       "       [ 0.17039345,  0.2327159 ],\n",
       "       [ 0.15358979,  0.19720728],\n",
       "       [ 0.1834174 ,  0.13032156],\n",
       "       [ 0.04249842,  0.183848  ],\n",
       "       [ 0.10256832,  0.28009203],\n",
       "       [ 0.22799663, -0.21986638],\n",
       "       [ 0.10446933, -0.0454673 ],\n",
       "       [ 0.23663968, -0.19987843],\n",
       "       [ 0.22487053, -0.21935186],\n",
       "       [ 0.12795256,  0.17230435],\n",
       "       [ 0.21009588,  0.14359317],\n",
       "       [ 0.22876753,  0.09796411],\n",
       "       [ 0.25088597, -0.00825724],\n",
       "       [ 0.12290456,  0.14188335],\n",
       "       [ 0.13178394,  0.27533947]])"
      ]
     },
     "execution_count": 37,
     "metadata": {},
     "output_type": "execute_result"
    }
   ],
   "source": [
    "eigen_vectors"
   ]
  },
  {
   "cell_type": "markdown",
   "id": "2a0cb4b1",
   "metadata": {},
   "source": [
    "# finally creating the principal_components"
   ]
  },
  {
   "cell_type": "code",
   "execution_count": 38,
   "id": "86aeabc2",
   "metadata": {},
   "outputs": [],
   "source": [
    "principal_components = np.dot(scaled_df,eigen_vectors)"
   ]
  },
  {
   "cell_type": "code",
   "execution_count": 39,
   "id": "b2fc22c4",
   "metadata": {},
   "outputs": [
    {
     "data": {
      "text/plain": [
       "array([[ 9.19283683,  1.94858307],\n",
       "       [ 2.3878018 , -3.76817174],\n",
       "       [ 5.73389628, -1.0751738 ],\n",
       "       ...,\n",
       "       [ 1.25617928, -1.90229671],\n",
       "       [10.37479406,  1.67201011],\n",
       "       [-5.4752433 , -0.67063679]])"
      ]
     },
     "execution_count": 39,
     "metadata": {},
     "output_type": "execute_result"
    }
   ],
   "source": [
    "principal_components\n"
   ]
  },
  {
   "cell_type": "code",
   "execution_count": 40,
   "id": "5e4803b2",
   "metadata": {},
   "outputs": [
    {
     "data": {
      "image/png": "[encoded data removed]",
      "text/latex": [
       "$\\displaystyle \\left( 569, \\  30\\right)$"
      ],
      "text/plain": [
       "(569, 30)"
      ]
     },
     "execution_count": 40,
     "metadata": {},
     "output_type": "execute_result"
    }
   ],
   "source": [
    "np.shape(scaled_df)"
   ]
  },
  {
   "cell_type": "code",
   "execution_count": 41,
   "id": "1a64c76e",
   "metadata": {},
   "outputs": [
    {
     "data": {
      "image/png": "[encoded data removed]",
      "text/latex": [
       "$\\displaystyle \\left( 30, \\  2\\right)$"
      ],
      "text/plain": [
       "(30, 2)"
      ]
     },
     "execution_count": 41,
     "metadata": {},
     "output_type": "execute_result"
    }
   ],
   "source": [
    "np.shape(eigen_vectors)"
   ]
  },
  {
   "cell_type": "code",
   "execution_count": 42,
   "id": "b9c22b98",
   "metadata": {},
   "outputs": [
    {
     "data": {
      "image/png": "[encoded data removed]",
      "text/latex": [
       "$\\displaystyle \\left( 569, \\  2\\right)$"
      ],
      "text/plain": [
       "(569, 2)"
      ]
     },
     "execution_count": 42,
     "metadata": {},
     "output_type": "execute_result"
    }
   ],
   "source": [
    "np.shape(principal_components)"
   ]
  },
  {
   "cell_type": "markdown",
   "id": "e06fea4e",
   "metadata": {},
   "source": [
    "# plotting the two important features"
   ]
  },
  {
   "cell_type": "code",
   "execution_count": 50,
   "id": "71fdda8b",
   "metadata": {},
   "outputs": [
    {
     "data": {
      "image/png": "[encoded data removed]",
      "text/plain": [
       "<Figure size 432x288 with 1 Axes>"
      ]
     },
     "metadata": {
      "needs_background": "light"
     },
     "output_type": "display_data"
    }
   ],
   "source": [
    "plt.scatter(principal_components[:,0],principal_components[:,1],c=cancer_dictionary['target'])\n",
    "\n",
    "plt.show()\n",
    "\n",
    "\n",
    "# yellow means "
   ]
  },
  {
   "cell_type": "markdown",
   "id": "7a9dd99b",
   "metadata": {},
   "source": [
    "# downloading online datasets"
   ]
  },
  {
   "cell_type": "code",
   "execution_count": 44,
   "id": "d630e44c",
   "metadata": {},
   "outputs": [],
   "source": [
    "from sklearn.datasets import load_breast_cancer"
   ]
  },
  {
   "cell_type": "code",
   "execution_count": 46,
   "id": "c675bdc4",
   "metadata": {},
   "outputs": [
    {
     "data": {
      "text/plain": [
       "dict_keys(['data', 'target', 'frame', 'target_names', 'DESCR', 'feature_names', 'filename', 'data_module'])"
      ]
     },
     "execution_count": 46,
     "metadata": {},
     "output_type": "execute_result"
    }
   ],
   "source": [
    "# this is actually  a dictionary \n",
    "\n",
    "cancer_dictionary = load_breast_cancer()\n",
    "\n",
    "cancer_dictionary.keys()"
   ]
  },
  {
   "cell_type": "code",
   "execution_count": 47,
   "id": "d3bfc184",
   "metadata": {},
   "outputs": [
    {
     "data": {
      "text/plain": [
       "array([[1.799e+01, 1.038e+01, 1.228e+02, ..., 2.654e-01, 4.601e-01,\n",
       "        1.189e-01],\n",
       "       [2.057e+01, 1.777e+01, 1.329e+02, ..., 1.860e-01, 2.750e-01,\n",
       "        8.902e-02],\n",
       "       [1.969e+01, 2.125e+01, 1.300e+02, ..., 2.430e-01, 3.613e-01,\n",
       "        8.758e-02],\n",
       "       ...,\n",
       "       [1.660e+01, 2.808e+01, 1.083e+02, ..., 1.418e-01, 2.218e-01,\n",
       "        7.820e-02],\n",
       "       [2.060e+01, 2.933e+01, 1.401e+02, ..., 2.650e-01, 4.087e-01,\n",
       "        1.240e-01],\n",
       "       [7.760e+00, 2.454e+01, 4.792e+01, ..., 0.000e+00, 2.871e-01,\n",
       "        7.039e-02]])"
      ]
     },
     "execution_count": 47,
     "metadata": {},
     "output_type": "execute_result"
    }
   ],
   "source": [
    "cancer_dictionary['data']"
   ]
  },
  {
   "cell_type": "code",
   "execution_count": 49,
   "id": "ff9136f1",
   "metadata": {},
   "outputs": [
    {
     "name": "stdout",
     "output_type": "stream",
     "text": [
      ".. _breast_cancer_dataset:\n",
      "\n",
      "Breast cancer wisconsin (diagnostic) dataset\n",
      "--------------------------------------------\n",
      "\n",
      "**Data Set Characteristics:**\n",
      "\n",
      "    :Number of Instances: 569\n",
      "\n",
      "    :Number of Attributes: 30 numeric, predictive attributes and the class\n",
      "\n",
      "    :Attribute Information:\n",
      "        - radius (mean of distances from center to points on the perimeter)\n",
      "        - texture (standard deviation of gray-scale values)\n",
      "        - perimeter\n",
      "        - area\n",
      "        - smoothness (local variation in radius lengths)\n",
      "        - compactness (perimeter^2 / area - 1.0)\n",
      "        - concavity (severity of concave portions of the contour)\n",
      "        - concave points (number of concave portions of the contour)\n",
      "        - symmetry\n",
      "        - fractal dimension (\"coastline approximation\" - 1)\n",
      "\n",
      "        The mean, standard error, and \"worst\" or largest (mean of the three\n",
      "        worst/largest values) of these features were computed for each image,\n",
      "        resulting in 30 features.  For instance, field 0 is Mean Radius, field\n",
      "        10 is Radius SE, field 20 is Worst Radius.\n",
      "\n",
      "        - class:\n",
      "                - WDBC-Malignant\n",
      "                - WDBC-Benign\n",
      "\n",
      "    :Summary Statistics:\n",
      "\n",
      "    ===================================== ====== ======\n",
      "                                           Min    Max\n",
      "    ===================================== ====== ======\n",
      "    radius (mean):                        6.981  28.11\n",
      "    texture (mean):                       9.71   39.28\n",
      "    perimeter (mean):                     43.79  188.5\n",
      "    area (mean):                          143.5  2501.0\n",
      "    smoothness (mean):                    0.053  0.163\n",
      "    compactness (mean):                   0.019  0.345\n",
      "    concavity (mean):                     0.0    0.427\n",
      "    concave points (mean):                0.0    0.201\n",
      "    symmetry (mean):                      0.106  0.304\n",
      "    fractal dimension (mean):             0.05   0.097\n",
      "    radius (standard error):              0.112  2.873\n",
      "    texture (standard error):             0.36   4.885\n",
      "    perimeter (standard error):           0.757  21.98\n",
      "    area (standard error):                6.802  542.2\n",
      "    smoothness (standard error):          0.002  0.031\n",
      "    compactness (standard error):         0.002  0.135\n",
      "    concavity (standard error):           0.0    0.396\n",
      "    concave points (standard error):      0.0    0.053\n",
      "    symmetry (standard error):            0.008  0.079\n",
      "    fractal dimension (standard error):   0.001  0.03\n",
      "    radius (worst):                       7.93   36.04\n",
      "    texture (worst):                      12.02  49.54\n",
      "    perimeter (worst):                    50.41  251.2\n",
      "    area (worst):                         185.2  4254.0\n",
      "    smoothness (worst):                   0.071  0.223\n",
      "    compactness (worst):                  0.027  1.058\n",
      "    concavity (worst):                    0.0    1.252\n",
      "    concave points (worst):               0.0    0.291\n",
      "    symmetry (worst):                     0.156  0.664\n",
      "    fractal dimension (worst):            0.055  0.208\n",
      "    ===================================== ====== ======\n",
      "\n",
      "    :Missing Attribute Values: None\n",
      "\n",
      "    :Class Distribution: 212 - Malignant, 357 - Benign\n",
      "\n",
      "    :Creator:  Dr. William H. Wolberg, W. Nick Street, Olvi L. Mangasarian\n",
      "\n",
      "    :Donor: Nick Street\n",
      "\n",
      "    :Date: November, 1995\n",
      "\n",
      "This is a copy of UCI ML Breast Cancer Wisconsin (Diagnostic) datasets.\n",
      "https://goo.gl/U2Uwz2\n",
      "\n",
      "Features are computed from a digitized image of a fine needle\n",
      "aspirate (FNA) of a breast mass.  They describe\n",
      "characteristics of the cell nuclei present in the image.\n",
      "\n",
      "Separating plane described above was obtained using\n",
      "Multisurface Method-Tree (MSM-T) [K. P. Bennett, \"Decision Tree\n",
      "Construction Via Linear Programming.\" Proceedings of the 4th\n",
      "Midwest Artificial Intelligence and Cognitive Science Society,\n",
      "pp. 97-101, 1992], a classification method which uses linear\n",
      "programming to construct a decision tree.  Relevant features\n",
      "were selected using an exhaustive search in the space of 1-4\n",
      "features and 1-3 separating planes.\n",
      "\n",
      "The actual linear program used to obtain the separating plane\n",
      "in the 3-dimensional space is that described in:\n",
      "[K. P. Bennett and O. L. Mangasarian: \"Robust Linear\n",
      "Programming Discrimination of Two Linearly Inseparable Sets\",\n",
      "Optimization Methods and Software 1, 1992, 23-34].\n",
      "\n",
      "This database is also available through the UW CS ftp server:\n",
      "\n",
      "ftp ftp.cs.wisc.edu\n",
      "cd math-prog/cpo-dataset/machine-learn/WDBC/\n",
      "\n",
      ".. topic:: References\n",
      "\n",
      "   - W.N. Street, W.H. Wolberg and O.L. Mangasarian. Nuclear feature extraction \n",
      "     for breast tumor diagnosis. IS&T/SPIE 1993 International Symposium on \n",
      "     Electronic Imaging: Science and Technology, volume 1905, pages 861-870,\n",
      "     San Jose, CA, 1993.\n",
      "   - O.L. Mangasarian, W.N. Street and W.H. Wolberg. Breast cancer diagnosis and \n",
      "     prognosis via linear programming. Operations Research, 43(4), pages 570-577, \n",
      "     July-August 1995.\n",
      "   - W.H. Wolberg, W.N. Street, and O.L. Mangasarian. Machine learning techniques\n",
      "     to diagnose breast cancer from fine-needle aspirates. Cancer Letters 77 (1994) \n",
      "     163-171.\n"
     ]
    }
   ],
   "source": [
    "print(cancer_dictionary['DESCR'])"
   ]
  },
  {
   "cell_type": "markdown",
   "id": "fdafafa9",
   "metadata": {},
   "source": [
    "# doing the same principal component analysis using scikit-learn\n",
    "\n",
    "\n",
    "this is very very simple we just have to do the n_components in pca"
   ]
  },
  {
   "cell_type": "code",
   "execution_count": 53,
   "id": "64ce13b1",
   "metadata": {},
   "outputs": [
    {
     "data": {
      "text/plain": [
       "array([[ 9.19283683,  1.94858307],\n",
       "       [ 2.3878018 , -3.76817174],\n",
       "       [ 5.73389628, -1.0751738 ],\n",
       "       ...,\n",
       "       [ 1.25617928, -1.90229671],\n",
       "       [10.37479406,  1.67201011],\n",
       "       [-5.4752433 , -0.67063679]])"
      ]
     },
     "execution_count": 53,
     "metadata": {},
     "output_type": "execute_result"
    }
   ],
   "source": [
    "# first scale the DataFrame\n",
    "\n",
    "from sklearn.preprocessing import StandardScaler\n",
    "scaler = StandardScaler()\n",
    "scaled_df = scaler.fit_transform(df)\n",
    "\n",
    "\n",
    "# second import PCA\n",
    "\n",
    "from sklearn.decomposition import PCA\n",
    "pca = PCA(n_components=2)\n",
    "pca.fit_transform(scaled_df) # we can directly do fit_transform since we don't have train_test_split"
   ]
  },
  {
   "cell_type": "code",
   "execution_count": 54,
   "id": "677049bd",
   "metadata": {},
   "outputs": [],
   "source": [
    "pca_result = pca.fit_transform(scaled_df)"
   ]
  },
  {
   "cell_type": "code",
   "execution_count": 55,
   "id": "f071e6e4",
   "metadata": {},
   "outputs": [
    {
     "data": {
      "image/png": "[encoded data removed]",
      "text/plain": [
       "<Figure size 432x288 with 1 Axes>"
      ]
     },
     "metadata": {
      "needs_background": "light"
     },
     "output_type": "display_data"
    }
   ],
   "source": [
    "plt.scatter(pca_result[:,0],pca_result[:,1])\n",
    "\n",
    "plt.show()"
   ]
  },
  {
   "cell_type": "code",
   "execution_count": 56,
   "id": "e5b293a8",
   "metadata": {},
   "outputs": [
    {
     "data": {
      "image/png": "[encoded data removed]",
      "text/plain": [
       "<Figure size 432x288 with 1 Axes>"
      ]
     },
     "metadata": {
      "needs_background": "light"
     },
     "output_type": "display_data"
    }
   ],
   "source": [
    "plt.scatter(pca_result[:,0],pca_result[:,1],c=cancer_dictionary['target'])\n",
    "\n",
    "plt.show()"
   ]
  },
  {
   "cell_type": "markdown",
   "id": "81259ef1",
   "metadata": {},
   "source": [
    "# checking how much of the variance in the DataFrame does this 2 principal components able to explain "
   ]
  },
  {
   "cell_type": "code",
   "execution_count": 60,
   "id": "4095ed46",
   "metadata": {},
   "outputs": [
    {
     "data": {
      "image/png": "[encoded data removed]",
      "text/latex": [
       "$\\displaystyle 0.632432076515595$"
      ],
      "text/plain": [
       "0.6324320765155949"
      ]
     },
     "execution_count": 60,
     "metadata": {},
     "output_type": "execute_result"
    }
   ],
   "source": [
    "np.sum(pca.explained_variance_ratio_)"
   ]
  },
  {
   "cell_type": "markdown",
   "id": "ba004092",
   "metadata": {},
   "source": [
    "# conclusion\n",
    "\n",
    "**63 % of the data is explained by these 2 components**"
   ]
  },
  {
   "cell_type": "markdown",
   "id": "267582bf",
   "metadata": {},
   "source": [
    "# checking how the explained_variance_ratio increases with increase in n_components \n",
    "\n",
    "**Note: highest explained_variance_ratio means the model is able to better explain the original DataFrame.**"
   ]
  },
  {
   "cell_type": "code",
   "execution_count": 63,
   "id": "651bc296",
   "metadata": {},
   "outputs": [
    {
     "data": {
      "image/png": "[encoded data removed]",
      "text/latex": [
       "$\\displaystyle 0.726363709089753$"
      ],
      "text/plain": [
       "0.7263637090897529"
      ]
     },
     "execution_count": 63,
     "metadata": {},
     "output_type": "execute_result"
    }
   ],
   "source": [
    "pca3 = PCA(n_components=3)\n",
    "\n",
    "pca3.fit_transform(scaled_df)\n",
    "\n",
    "np.sum(pca3.explained_variance_ratio_)"
   ]
  },
  {
   "cell_type": "markdown",
   "id": "e3c7bfd4",
   "metadata": {},
   "source": [
    "# elbow method to find the optimal number of components based on explained_variance_ratio"
   ]
  },
  {
   "cell_type": "code",
   "execution_count": 65,
   "id": "b5ae1093",
   "metadata": {},
   "outputs": [
    {
     "data": {
      "image/png": "[encoded data removed]",
      "text/latex": [
       "$\\displaystyle \\left( 569, \\  30\\right)$"
      ],
      "text/plain": [
       "(569, 30)"
      ]
     },
     "execution_count": 65,
     "metadata": {},
     "output_type": "execute_result"
    }
   ],
   "source": [
    "np.shape(df)"
   ]
  },
  {
   "cell_type": "code",
   "execution_count": 70,
   "id": "72048caf",
   "metadata": {},
   "outputs": [],
   "source": [
    "explained_variance_ratio = []\n",
    "\n",
    "for comp in range(1,np.shape(df)[1]):\n",
    "    pca = PCA(n_components=comp)\n",
    "    \n",
    "    pca.fit(scaled_df)\n",
    "    \n",
    "    explained_variance_ratio.append(np.sum(pca.explained_variance_ratio_))\n",
    "    \n"
   ]
  },
  {
   "cell_type": "code",
   "execution_count": 72,
   "id": "a87778c1",
   "metadata": {},
   "outputs": [
    {
     "data": {
      "image/png": "[encoded data removed]",
      "text/plain": [
       "<Figure size 432x288 with 1 Axes>"
      ]
     },
     "metadata": {
      "needs_background": "light"
     },
     "output_type": "display_data"
    }
   ],
   "source": [
    "plt.plot(np.arange(1,np.shape(df)[1]),explained_variance_ratio)\n",
    "\n",
    "plt.show()"
   ]
  },
  {
   "cell_type": "code",
   "execution_count": 73,
   "id": "5f76af44",
   "metadata": {},
   "outputs": [
    {
     "data": {
      "image/png": "[encoded data removed]",
      "text/latex": [
       "$\\displaystyle \\left[ 0.442720256075263, \\  0.632432076515594, \\  0.726363709088721, \\  0.792385058240367, \\  0.847342743167755, \\  0.887587963566377, \\  0.910095300695168, \\  0.925982538692521, \\  0.93987903243295, \\  0.951568814332952, \\  0.961366004206982, \\  0.970071383216066, \\  0.978116633091562, \\  0.98335029054446, \\  0.986488122705414, \\  0.989150216079286, \\  0.991130184005023, \\  0.99288414345525, \\  0.994533396514474, \\  0.995572043262813, \\  0.996571139726513, \\  0.997485786477568, \\  0.998297147736467, \\  0.998898981303139, \\  0.999415023682304, \\  0.999687611677782, \\  0.999917627140288, \\  0.999970605069326, \\  0.999995565172573\\right]$"
      ],
      "text/plain": [
       "[0.4427202560752635, 0.6324320765155944, 0.7263637090887212, 0.792385058240366\n",
       "9, 0.847342743167755, 0.8875879635663774, 0.9100953006951682, 0.92598253869252\n",
       "09, 0.9398790324329503, 0.9515688143329522, 0.961366004206982, 0.9700713832160\n",
       "659, 0.9781166330915616, 0.9833502905444595, 0.986488122705414, 0.989150216079\n",
       "2861, 0.991130184005023, 0.9928841434552496, 0.994533396514474, 0.995572043262\n",
       "8129, 0.9965711397265133, 0.9974857864775681, 0.9982971477364669, 0.9988989813\n",
       "03139, 0.9994150236823042, 0.9996876116777816, 0.9999176271402876, 0.999970605\n",
       "0693258, 0.9999955651725727]"
      ]
     },
     "execution_count": 73,
     "metadata": {},
     "output_type": "execute_result"
    }
   ],
   "source": [
    "explained_variance_ratio"
   ]
  },
  {
   "cell_type": "code",
   "execution_count": 80,
   "id": "1f2641c0",
   "metadata": {},
   "outputs": [
    {
     "data": {
      "text/plain": [
       "[<matplotlib.lines.Line2D at 0x1cbf28d2e50>]"
      ]
     },
     "execution_count": 80,
     "metadata": {},
     "output_type": "execute_result"
    },
    {
     "data": {
      "image/png": "[encoded data removed]",
      "text/plain": [
       "<Figure size 432x288 with 1 Axes>"
      ]
     },
     "metadata": {
      "needs_background": "light"
     },
     "output_type": "display_data"
    }
   ],
   "source": [
    "plt.plot(np.diff(explained_variance_ratio))\n",
    "\n",
    "\n",
    "# there is not much difference after 5th component."
   ]
  },
  {
   "cell_type": "code",
   "execution_count": 78,
   "id": "bb89c3c7",
   "metadata": {},
   "outputs": [
    {
     "data": {
      "text/plain": [
       "array([ 1,  2,  3,  4,  5,  6,  7,  8,  9, 10, 11, 12, 13, 14, 15, 16, 17,\n",
       "       18, 19, 20, 21, 22, 23, 24, 25, 26, 27, 28])"
      ]
     },
     "execution_count": 78,
     "metadata": {},
     "output_type": "execute_result"
    }
   ],
   "source": [
    "np.arange(1,30)[:-1]"
   ]
  },
  {
   "cell_type": "markdown",
   "id": "581437c3",
   "metadata": {},
   "source": [
    "# conclusion:\n",
    "\n",
    "around 5 or 6 components/features from the data frame that has the biggest eigen values is enough to explain or help predict the model better. they explain most of the variance. any further increment in components is not adding much weight. \n"
   ]
  },
  {
   "cell_type": "code",
   "execution_count": null,
   "id": "0c89fb52",
   "metadata": {},
   "outputs": [],
   "source": []
  }
 ],
 "metadata": {
  "kernelspec": {
   "display_name": "Python 3 (ipykernel)",
   "language": "python",
   "name": "python3"
  },
  "language_info": {
   "codemirror_mode": {
    "name": "ipython",
    "version": 3
   },
   "file_extension": ".py",
   "mimetype": "text/x-python",
   "name": "python",
   "nbconvert_exporter": "python",
   "pygments_lexer": "ipython3",
   "version": "3.9.12"
  }
 },
 "nbformat": 4,
 "nbformat_minor": 5
}
