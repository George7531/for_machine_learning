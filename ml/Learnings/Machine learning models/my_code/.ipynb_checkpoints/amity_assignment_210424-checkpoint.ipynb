{
 "cells": [
  {
   "cell_type": "markdown",
   "id": "2a7480fa",
   "metadata": {},
   "source": [
    "# day 354"
   ]
  },
  {
   "cell_type": "markdown",
   "id": "919a798d",
   "metadata": {},
   "source": [
    "# With reference to the data given in the table above, provide Python centric solutions to answer the following question parts:  \n",
    "i) Write the Python centric libraries that must be imported to perfor $m$ the following activities:  \n",
    "a) Create a dataframe from the contents of the table above.  \n",
    "b) Create and plot charts/graphs.  \n",
    "c) Develop a Linear Model.  "
   ]
  },
  {
   "cell_type": "code",
   "execution_count": 14,
   "id": "1e1abba1",
   "metadata": {},
   "outputs": [],
   "source": [
    "import numpy as np\n",
    "import pandas as pd\n",
    "import matplotlib.pyplot as plt\n",
    "import seaborn as sns\n",
    "from sklearn.linear_model import LinearRegression"
   ]
  },
  {
   "cell_type": "code",
   "execution_count": null,
   "id": "7ca19314",
   "metadata": {},
   "outputs": [],
   "source": []
  },
  {
   "cell_type": "markdown",
   "id": "e4ab9a69",
   "metadata": {},
   "source": [
    "# Develop Python based program to create a dataframe using the data in the table given above. Using the dataframe created, plot scatter diagram and check for linear ity for the 2 fields \"Experience_Years\" and \"Yearly_Salary\". Develop the code and execute to get the graph."
   ]
  },
  {
   "cell_type": "code",
   "execution_count": 7,
   "id": "d57829cd",
   "metadata": {},
   "outputs": [
    {
     "data": {
      "text/html": [
       "<div>\n",
       "<style scoped>\n",
       "    .dataframe tbody tr th:only-of-type {\n",
       "        vertical-align: middle;\n",
       "    }\n",
       "\n",
       "    .dataframe tbody tr th {\n",
       "        vertical-align: top;\n",
       "    }\n",
       "\n",
       "    .dataframe thead th {\n",
       "        text-align: right;\n",
       "    }\n",
       "</style>\n",
       "<table border=\"1\" class=\"dataframe\">\n",
       "  <thead>\n",
       "    <tr style=\"text-align: right;\">\n",
       "      <th></th>\n",
       "      <th>emp_no</th>\n",
       "      <th>exp_years</th>\n",
       "      <th>yearly_salary</th>\n",
       "    </tr>\n",
       "  </thead>\n",
       "  <tbody>\n",
       "    <tr>\n",
       "      <th>0</th>\n",
       "      <td>101</td>\n",
       "      <td>4</td>\n",
       "      <td>8</td>\n",
       "    </tr>\n",
       "    <tr>\n",
       "      <th>1</th>\n",
       "      <td>102</td>\n",
       "      <td>2</td>\n",
       "      <td>6</td>\n",
       "    </tr>\n",
       "    <tr>\n",
       "      <th>2</th>\n",
       "      <td>103</td>\n",
       "      <td>6</td>\n",
       "      <td>10</td>\n",
       "    </tr>\n",
       "    <tr>\n",
       "      <th>3</th>\n",
       "      <td>104</td>\n",
       "      <td>11</td>\n",
       "      <td>15</td>\n",
       "    </tr>\n",
       "    <tr>\n",
       "      <th>4</th>\n",
       "      <td>105</td>\n",
       "      <td>8</td>\n",
       "      <td>12</td>\n",
       "    </tr>\n",
       "    <tr>\n",
       "      <th>5</th>\n",
       "      <td>106</td>\n",
       "      <td>9</td>\n",
       "      <td>13</td>\n",
       "    </tr>\n",
       "    <tr>\n",
       "      <th>6</th>\n",
       "      <td>107</td>\n",
       "      <td>20</td>\n",
       "      <td>25</td>\n",
       "    </tr>\n",
       "    <tr>\n",
       "      <th>7</th>\n",
       "      <td>108</td>\n",
       "      <td>15</td>\n",
       "      <td>18</td>\n",
       "    </tr>\n",
       "    <tr>\n",
       "      <th>8</th>\n",
       "      <td>109</td>\n",
       "      <td>12</td>\n",
       "      <td>16</td>\n",
       "    </tr>\n",
       "    <tr>\n",
       "      <th>9</th>\n",
       "      <td>110</td>\n",
       "      <td>1</td>\n",
       "      <td>4</td>\n",
       "    </tr>\n",
       "  </tbody>\n",
       "</table>\n",
       "</div>"
      ],
      "text/plain": [
       "   emp_no  exp_years  yearly_salary\n",
       "0     101          4              8\n",
       "1     102          2              6\n",
       "2     103          6             10\n",
       "3     104         11             15\n",
       "4     105          8             12\n",
       "5     106          9             13\n",
       "6     107         20             25\n",
       "7     108         15             18\n",
       "8     109         12             16\n",
       "9     110          1              4"
      ]
     },
     "execution_count": 7,
     "metadata": {},
     "output_type": "execute_result"
    }
   ],
   "source": [
    "# a.create a dataframe and the contents of the given table\n",
    "df = pd.read_excel('emp_data.xlsx')\n",
    "df"
   ]
  },
  {
   "cell_type": "code",
   "execution_count": 12,
   "id": "1026b649",
   "metadata": {},
   "outputs": [
    {
     "data": {
      "image/png": "[encoded data removed]",
      "text/plain": [
       "<Figure size 432x288 with 1 Axes>"
      ]
     },
     "metadata": {
      "needs_background": "light"
     },
     "output_type": "display_data"
    }
   ],
   "source": [
    "# create a plot: establishing relationship experience and salary.\n",
    "sns.scatterplot(data=df,x='exp_years',y='yearly_salary')\n",
    "plt.title('Experiance and Salary plot')\n",
    "plt.show()"
   ]
  },
  {
   "cell_type": "code",
   "execution_count": null,
   "id": "98ef13e3",
   "metadata": {},
   "outputs": [],
   "source": []
  },
  {
   "cell_type": "markdown",
   "id": "d7723a85",
   "metadata": {},
   "source": [
    "# Develop your code further to perform linear regression based on the fields \"Experience_Years\" and \"Yearly_Salary\" and print the intercepts and coefficients of the regression model. Additionally, test the model with unknown \"Experience_Years\" and print the new predicted \"Yearly_Salary\" value."
   ]
  },
  {
   "cell_type": "code",
   "execution_count": 34,
   "id": "8f112718",
   "metadata": {},
   "outputs": [
    {
     "data": {
      "text/plain": [
       "LinearRegression()"
      ]
     },
     "execution_count": 34,
     "metadata": {},
     "output_type": "execute_result"
    }
   ],
   "source": [
    "# develop a linear model \n",
    "x = df['exp_years'].to_numpy().reshape(1,-1).T # we use small x because it is just a vector not a Matrix.\n",
    "y = df['yearly_salary']\n",
    "\n",
    "\n",
    "model = LinearRegression()\n",
    "model.fit(x,y)"
   ]
  },
  {
   "cell_type": "code",
   "execution_count": 48,
   "id": "97c0c689",
   "metadata": {},
   "outputs": [
    {
     "name": "stdout",
     "output_type": "stream",
     "text": [
      "tell me your number of experience! 5\n",
      "your expected salary is: Rs 874685.14\n"
     ]
    }
   ],
   "source": [
    "exp = float(input('tell me your number of experience! '))\n",
    "pred = model.predict([[exp]])[0]\n",
    "print('your expected salary is: Rs {:.2f}'.format(pred*100000))"
   ]
  },
  {
   "cell_type": "code",
   "execution_count": null,
   "id": "f873036c",
   "metadata": {},
   "outputs": [],
   "source": []
  },
  {
   "cell_type": "code",
   "execution_count": null,
   "id": "48c180f2",
   "metadata": {},
   "outputs": [],
   "source": []
  }
 ],
 "metadata": {
  "kernelspec": {
   "display_name": "Python 3 (ipykernel)",
   "language": "python",
   "name": "python3"
  },
  "language_info": {
   "codemirror_mode": {
    "name": "ipython",
    "version": 3
   },
   "file_extension": ".py",
   "mimetype": "text/x-python",
   "name": "python",
   "nbconvert_exporter": "python",
   "pygments_lexer": "ipython3",
   "version": "3.9.12"
  }
 },
 "nbformat": 4,
 "nbformat_minor": 5
}
