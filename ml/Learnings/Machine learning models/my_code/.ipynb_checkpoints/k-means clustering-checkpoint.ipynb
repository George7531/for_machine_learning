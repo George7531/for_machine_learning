version https://git-lfs.github.com/spec/v1
oid sha256:70eb5ac2a66861a0600ac575282f39ab13f0eb2fc237894738cc38c345ac692c
size 3377444
