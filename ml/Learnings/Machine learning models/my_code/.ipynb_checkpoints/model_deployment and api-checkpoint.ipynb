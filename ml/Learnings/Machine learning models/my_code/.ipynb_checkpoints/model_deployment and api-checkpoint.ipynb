{
 "cells": [
  {
   "cell_type": "markdown",
   "id": "2c5b4ea6",
   "metadata": {},
   "source": [
    "# day 108"
   ]
  },
  {
   "cell_type": "code",
   "execution_count": 1,
   "id": "301531ae",
   "metadata": {},
   "outputs": [],
   "source": [
    "import numpy as np\n",
    "import sympy as sym\n",
    "from IPython.display import display,Math\n",
    "sym.init_printing()\n",
    "import matplotlib.pyplot as plt\n",
    "import pandas as pd"
   ]
  },
  {
   "cell_type": "code",
   "execution_count": 2,
   "id": "dd776fea",
   "metadata": {},
   "outputs": [
    {
     "data": {
      "text/html": [
       "<div>\n",
       "<style scoped>\n",
       "    .dataframe tbody tr th:only-of-type {\n",
       "        vertical-align: middle;\n",
       "    }\n",
       "\n",
       "    .dataframe tbody tr th {\n",
       "        vertical-align: top;\n",
       "    }\n",
       "\n",
       "    .dataframe thead th {\n",
       "        text-align: right;\n",
       "    }\n",
       "</style>\n",
       "<table border=\"1\" class=\"dataframe\">\n",
       "  <thead>\n",
       "    <tr style=\"text-align: right;\">\n",
       "      <th></th>\n",
       "      <th>TV</th>\n",
       "      <th>radio</th>\n",
       "      <th>newspaper</th>\n",
       "      <th>sales</th>\n",
       "    </tr>\n",
       "  </thead>\n",
       "  <tbody>\n",
       "    <tr>\n",
       "      <th>0</th>\n",
       "      <td>230.1</td>\n",
       "      <td>37.8</td>\n",
       "      <td>69.2</td>\n",
       "      <td>22.1</td>\n",
       "    </tr>\n",
       "    <tr>\n",
       "      <th>1</th>\n",
       "      <td>44.5</td>\n",
       "      <td>39.3</td>\n",
       "      <td>45.1</td>\n",
       "      <td>10.4</td>\n",
       "    </tr>\n",
       "    <tr>\n",
       "      <th>2</th>\n",
       "      <td>17.2</td>\n",
       "      <td>45.9</td>\n",
       "      <td>69.3</td>\n",
       "      <td>9.3</td>\n",
       "    </tr>\n",
       "    <tr>\n",
       "      <th>3</th>\n",
       "      <td>151.5</td>\n",
       "      <td>41.3</td>\n",
       "      <td>58.5</td>\n",
       "      <td>18.5</td>\n",
       "    </tr>\n",
       "    <tr>\n",
       "      <th>4</th>\n",
       "      <td>180.8</td>\n",
       "      <td>10.8</td>\n",
       "      <td>58.4</td>\n",
       "      <td>12.9</td>\n",
       "    </tr>\n",
       "  </tbody>\n",
       "</table>\n",
       "</div>"
      ],
      "text/plain": [
       "      TV  radio  newspaper  sales\n",
       "0  230.1   37.8       69.2   22.1\n",
       "1   44.5   39.3       45.1   10.4\n",
       "2   17.2   45.9       69.3    9.3\n",
       "3  151.5   41.3       58.5   18.5\n",
       "4  180.8   10.8       58.4   12.9"
      ]
     },
     "execution_count": 2,
     "metadata": {},
     "output_type": "execute_result"
    }
   ],
   "source": [
    "df = pd.read_csv('C:\\\\Users\\\\ADMIN\\\\Desktop\\\\MACHINE LEARNING NOTEBOOKS\\\\DATA\\\\Advertising.csv')\n",
    "df.head()"
   ]
  },
  {
   "cell_type": "code",
   "execution_count": null,
   "id": "4df5dc25",
   "metadata": {},
   "outputs": [],
   "source": [
    "# Training Data | Validation Data | Hold-out Data\n",
    "# 0.7           | 0.15            | 0.15\n",
    "\n",
    "\n",
    "# 1st split: 0.7:0.3\n",
    "# 2nd split: 0.7:0.15:0.15"
   ]
  },
  {
   "cell_type": "markdown",
   "id": "f00162e0",
   "metadata": {},
   "source": [
    "# defining x and y"
   ]
  },
  {
   "cell_type": "code",
   "execution_count": 3,
   "id": "c689dba7",
   "metadata": {},
   "outputs": [],
   "source": [
    "x = df.drop('sales',axis=1)\n",
    "y = df['sales']"
   ]
  },
  {
   "cell_type": "markdown",
   "id": "b169bee3",
   "metadata": {},
   "source": [
    "# train-test-split"
   ]
  },
  {
   "cell_type": "code",
   "execution_count": 4,
   "id": "101bcbcb",
   "metadata": {},
   "outputs": [],
   "source": [
    "from sklearn.model_selection import train_test_split\n",
    "\n",
    "x_train, x_test, y_train, y_test = train_test_split(x,y,test_size=0.3,random_state=101)\n",
    "\n",
    "x_validation,x_holdout,y_validation,y_holdout = train_test_split(x_test,y_test,test_size=0.5,random_state=101)"
   ]
  },
  {
   "cell_type": "code",
   "execution_count": 5,
   "id": "cee46516",
   "metadata": {},
   "outputs": [
    {
     "data": {
      "image/png": "[encoded data removed]",
      "text/latex": [
       "$\\displaystyle 200$"
      ],
      "text/plain": [
       "200"
      ]
     },
     "execution_count": 5,
     "metadata": {},
     "output_type": "execute_result"
    }
   ],
   "source": [
    "len(x)"
   ]
  },
  {
   "cell_type": "code",
   "execution_count": 6,
   "id": "5cdf5ceb",
   "metadata": {},
   "outputs": [
    {
     "data": {
      "image/png": "[encoded data removed]",
      "text/latex": [
       "$\\displaystyle 140$"
      ],
      "text/plain": [
       "140"
      ]
     },
     "execution_count": 6,
     "metadata": {},
     "output_type": "execute_result"
    }
   ],
   "source": [
    "len(x_train)"
   ]
  },
  {
   "cell_type": "code",
   "execution_count": 7,
   "id": "1b33e682",
   "metadata": {},
   "outputs": [
    {
     "data": {
      "image/png": "[encoded data removed]",
      "text/latex": [
       "$\\displaystyle 60$"
      ],
      "text/plain": [
       "60"
      ]
     },
     "execution_count": 7,
     "metadata": {},
     "output_type": "execute_result"
    }
   ],
   "source": [
    "len(x_test)"
   ]
  },
  {
   "cell_type": "code",
   "execution_count": 8,
   "id": "94e5fe01",
   "metadata": {},
   "outputs": [
    {
     "data": {
      "image/png": "[encoded data removed]",
      "text/latex": [
       "$\\displaystyle 30$"
      ],
      "text/plain": [
       "30"
      ]
     },
     "execution_count": 8,
     "metadata": {},
     "output_type": "execute_result"
    }
   ],
   "source": [
    "len(x_validation)"
   ]
  },
  {
   "cell_type": "code",
   "execution_count": 9,
   "id": "7a4ebe1c",
   "metadata": {},
   "outputs": [
    {
     "data": {
      "image/png": "[encoded data removed]",
      "text/latex": [
       "$\\displaystyle 30$"
      ],
      "text/plain": [
       "30"
      ]
     },
     "execution_count": 9,
     "metadata": {},
     "output_type": "execute_result"
    }
   ],
   "source": [
    "len(x_holdout)"
   ]
  },
  {
   "cell_type": "markdown",
   "id": "c1746f8b",
   "metadata": {},
   "source": [
    "# model_deployment"
   ]
  },
  {
   "cell_type": "markdown",
   "id": "d3e0e187",
   "metadata": {},
   "source": [
    "# testing the performance of the validation data set"
   ]
  },
  {
   "cell_type": "code",
   "execution_count": 42,
   "id": "b0ebc86f",
   "metadata": {},
   "outputs": [],
   "source": [
    "from sklearn.ensemble import RandomForestRegressor\n",
    "\n",
    "model = RandomForestRegressor(n_estimators=65) # we are just tuning this n_estimators hyperparameter for simplicity\n",
    "\n",
    "model.fit(x_train,y_train)\n",
    "\n",
    "y_validation_pred = model.predict(x_validation)\n",
    "\n"
   ]
  },
  {
   "cell_type": "code",
   "execution_count": 43,
   "id": "c87e1f49",
   "metadata": {},
   "outputs": [
    {
     "data": {
      "image/png": "[encoded data removed]",
      "text/latex": [
       "$\\displaystyle 0.66276923076923$"
      ],
      "text/plain": [
       "0.6627692307692298"
      ]
     },
     "execution_count": 43,
     "metadata": {},
     "output_type": "execute_result"
    }
   ],
   "source": [
    "from sklearn.metrics import mean_absolute_error,mean_squared_error\n",
    "\n",
    "mean_absolute_error(y_validation,y_validation_pred) # mean"
   ]
  },
  {
   "cell_type": "code",
   "execution_count": 44,
   "id": "db6a929d",
   "metadata": {},
   "outputs": [
    {
     "data": {
      "image/png": "[encoded data removed]",
      "text/latex": [
       "$\\displaystyle 0.792536884948546$"
      ],
      "text/plain": [
       "0.7925368849485458"
      ]
     },
     "execution_count": 44,
     "metadata": {},
     "output_type": "execute_result"
    }
   ],
   "source": [
    "mean_squared_error(y_validation,y_validation_pred)**(1/2) #std"
   ]
  },
  {
   "cell_type": "markdown",
   "id": "55a92857",
   "metadata": {},
   "source": [
    "# performance checking against the mean and std of original sales data\n",
    "\n",
    "mean 0 is optimal"
   ]
  },
  {
   "cell_type": "code",
   "execution_count": 15,
   "id": "8df43465",
   "metadata": {},
   "outputs": [
    {
     "data": {
      "text/plain": [
       "count    200.000000\n",
       "mean      14.022500\n",
       "std        5.217457\n",
       "min        1.600000\n",
       "25%       10.375000\n",
       "50%       12.900000\n",
       "75%       17.400000\n",
       "max       27.000000\n",
       "Name: sales, dtype: float64"
      ]
     },
     "execution_count": 15,
     "metadata": {},
     "output_type": "execute_result"
    }
   ],
   "source": [
    "df.describe()['sales'] #n_est 3, mean 0.9244, rmse 1.216; n_est:30, mean 0.69, rmse 0.857; n_est:65 mean 0.66, rmse 0.792"
   ]
  },
  {
   "cell_type": "code",
   "execution_count": null,
   "id": "659f42aa",
   "metadata": {},
   "outputs": [],
   "source": []
  },
  {
   "cell_type": "markdown",
   "id": "eb4d2379",
   "metadata": {},
   "source": [
    "# FINAL PERFORMANCE METRICS ( ON HOLDOUT SET) unseen data"
   ]
  },
  {
   "cell_type": "code",
   "execution_count": 46,
   "id": "c381854c",
   "metadata": {},
   "outputs": [
    {
     "data": {
      "image/png": "[encoded data removed]",
      "text/latex": [
       "$\\displaystyle 0.543794871794871$"
      ],
      "text/plain": [
       "0.5437948717948705"
      ]
     },
     "execution_count": 46,
     "metadata": {},
     "output_type": "execute_result"
    }
   ],
   "source": [
    "y_holdout_pred = model.predict(x_holdout)\n",
    "\n",
    "mean_absolute_error(y_holdout,y_holdout_pred) # mean"
   ]
  },
  {
   "cell_type": "code",
   "execution_count": 47,
   "id": "632b15da",
   "metadata": {},
   "outputs": [
    {
     "data": {
      "image/png": "[encoded data removed]",
      "text/latex": [
       "$\\displaystyle 0.680915035812878$"
      ],
      "text/plain": [
       "0.6809150358128778"
      ]
     },
     "execution_count": 47,
     "metadata": {},
     "output_type": "execute_result"
    }
   ],
   "source": [
    "mean_squared_error(y_holdout,y_holdout_pred)**(1/2) #std\n",
    "\n",
    "\n",
    "# the performance is pretty good i guess"
   ]
  },
  {
   "cell_type": "code",
   "execution_count": 48,
   "id": "d7818295",
   "metadata": {},
   "outputs": [
    {
     "data": {
      "text/plain": [
       "count    200.000000\n",
       "mean      14.022500\n",
       "std        5.217457\n",
       "min        1.600000\n",
       "25%       10.375000\n",
       "50%       12.900000\n",
       "75%       17.400000\n",
       "max       27.000000\n",
       "Name: sales, dtype: float64"
      ]
     },
     "execution_count": 48,
     "metadata": {},
     "output_type": "execute_result"
    }
   ],
   "source": [
    "df.describe()['sales']"
   ]
  },
  {
   "cell_type": "markdown",
   "id": "c1f3bdab",
   "metadata": {},
   "source": [
    "# since it performed well on the unseen data we want to now create the final model with the same hyperparameter"
   ]
  },
  {
   "cell_type": "code",
   "execution_count": 49,
   "id": "0660305a",
   "metadata": {},
   "outputs": [
    {
     "data": {
      "text/plain": [
       "RandomForestRegressor(n_estimators=65)"
      ]
     },
     "execution_count": 49,
     "metadata": {},
     "output_type": "execute_result"
    }
   ],
   "source": [
    "final_model = RandomForestRegressor(n_estimators=65)\n",
    "\n",
    "final_model.fit(x,y)\n",
    "\n"
   ]
  },
  {
   "cell_type": "markdown",
   "id": "4bc43d26",
   "metadata": {},
   "source": [
    "# make the model transferrable between systems"
   ]
  },
  {
   "cell_type": "code",
   "execution_count": 50,
   "id": "82a4c5e8",
   "metadata": {},
   "outputs": [
    {
     "data": {
      "text/plain": [
       "['x_columns.pkl']"
      ]
     },
     "execution_count": 50,
     "metadata": {},
     "output_type": "execute_result"
    }
   ],
   "source": [
    "import joblib\n",
    "\n",
    "# first dump it\n",
    "\n",
    "# dump the final model\n",
    "joblib.dump(final_model,'final_model.pkl') # pkl is a pickle file\n",
    "\n",
    "\n",
    "\n",
    "# dump the columns of the x\n",
    "joblib.dump(list(x.columns),'x_columns.pkl')\n",
    "\n"
   ]
  },
  {
   "cell_type": "markdown",
   "id": "aa337d19",
   "metadata": {},
   "source": [
    "# load the model in a new system after exporting the files"
   ]
  },
  {
   "cell_type": "code",
   "execution_count": 53,
   "id": "2789ffaa",
   "metadata": {},
   "outputs": [
    {
     "data": {
      "text/plain": [
       "['TV', 'radio', 'newspaper']"
      ]
     },
     "execution_count": 53,
     "metadata": {},
     "output_type": "execute_result"
    }
   ],
   "source": [
    "columns = joblib.load('x_columns.pkl')\n",
    "columns"
   ]
  },
  {
   "cell_type": "code",
   "execution_count": 54,
   "id": "bf9666ca",
   "metadata": {},
   "outputs": [
    {
     "data": {
      "text/plain": [
       "RandomForestRegressor(n_estimators=65)"
      ]
     },
     "execution_count": 54,
     "metadata": {},
     "output_type": "execute_result"
    }
   ],
   "source": [
    "model = joblib.load('final_model.pkl')\n",
    "model"
   ]
  },
  {
   "cell_type": "markdown",
   "id": "083f4751",
   "metadata": {},
   "source": [
    "# check the model predictability \n",
    "\n",
    "**supply the advertising budget for differnt channels and predict how much sales money is likely to be made.**"
   ]
  },
  {
   "cell_type": "code",
   "execution_count": 58,
   "id": "7f91c939",
   "metadata": {},
   "outputs": [
    {
     "name": "stderr",
     "output_type": "stream",
     "text": [
      "C:\\Users\\ADMIN\\anaconda3\\lib\\site-packages\\sklearn\\base.py:450: UserWarning: X does not have valid feature names, but RandomForestRegressor was fitted with feature names\n",
      "  warnings.warn(\n"
     ]
    },
    {
     "data": {
      "text/plain": [
       "array([22.34769231])"
      ]
     },
     "execution_count": 58,
     "metadata": {},
     "output_type": "execute_result"
    }
   ],
   "source": [
    "model.predict([[230,39,10]])"
   ]
  },
  {
   "cell_type": "code",
   "execution_count": null,
   "id": "b8410f3e",
   "metadata": {},
   "outputs": [],
   "source": []
  }
 ],
 "metadata": {
  "kernelspec": {
   "display_name": "Python 3 (ipykernel)",
   "language": "python",
   "name": "python3"
  },
  "language_info": {
   "codemirror_mode": {
    "name": "ipython",
    "version": 3
   },
   "file_extension": ".py",
   "mimetype": "text/x-python",
   "name": "python",
   "nbconvert_exporter": "python",
   "pygments_lexer": "ipython3",
   "version": "3.9.12"
  }
 },
 "nbformat": 4,
 "nbformat_minor": 5
}
