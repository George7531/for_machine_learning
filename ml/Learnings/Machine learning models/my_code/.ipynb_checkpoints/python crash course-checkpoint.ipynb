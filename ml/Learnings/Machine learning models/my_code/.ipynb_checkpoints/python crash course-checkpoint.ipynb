{
 "cells": [
  {
   "cell_type": "code",
   "execution_count": 1,
   "id": "ac4f2ac4",
   "metadata": {},
   "outputs": [],
   "source": [
    "import pandas"
   ]
  },
  {
   "cell_type": "code",
   "execution_count": 2,
   "id": "ee54ddd2",
   "metadata": {},
   "outputs": [
    {
     "data": {
      "text/plain": [
       "'1.4.2'"
      ]
     },
     "execution_count": 2,
     "metadata": {},
     "output_type": "execute_result"
    }
   ],
   "source": [
    "pandas.__version__"
   ]
  },
  {
   "cell_type": "code",
   "execution_count": 6,
   "id": "7864c876",
   "metadata": {},
   "outputs": [
    {
     "name": "stdout",
     "output_type": "stream",
     "text": [
      "x= 5 \n",
      "y= 23\n"
     ]
    }
   ],
   "source": [
    "print(\"x= {x} \\ny= {y}\".format(x=5,y=23))"
   ]
  },
  {
   "cell_type": "code",
   "execution_count": 8,
   "id": "26a9656a",
   "metadata": {},
   "outputs": [
    {
     "name": "stdout",
     "output_type": "stream",
     "text": [
      "slope is: y=5x+6\n"
     ]
    }
   ],
   "source": [
    "print(\"slope is: {y}={m}{x}+{b}\".format(y=\"y\",m=5,x=\"x\",b=6))"
   ]
  },
  {
   "cell_type": "code",
   "execution_count": 9,
   "id": "73a29166",
   "metadata": {},
   "outputs": [
    {
     "name": "stdout",
     "output_type": "stream",
     "text": [
      "George is a lice sucker\n"
     ]
    }
   ],
   "source": [
    "print(\"George is a {} sucker\".format(\"lice\"))"
   ]
  },
  {
   "cell_type": "markdown",
   "id": "dfdf69d0",
   "metadata": {},
   "source": [
    "# listing and indexing"
   ]
  },
  {
   "cell_type": "code",
   "execution_count": 11,
   "id": "8bfeeb42",
   "metadata": {},
   "outputs": [],
   "source": [
    "donkeys=[\"joe\",\"marlin\",\"phoenix\",\"muthu\",\"gregory\",\"gebhard\",\"lisandra\",\"cypher\"]"
   ]
  },
  {
   "cell_type": "code",
   "execution_count": 19,
   "id": "1d0eac4b",
   "metadata": {},
   "outputs": [
    {
     "data": {
      "text/plain": [
       "['joe',\n",
       " 'marlin',\n",
       " 'phoenix',\n",
       " 'muthu',\n",
       " 'gregory',\n",
       " 'gebhard',\n",
       " 'lisandra',\n",
       " 'cypher']"
      ]
     },
     "execution_count": 19,
     "metadata": {},
     "output_type": "execute_result"
    }
   ],
   "source": [
    "donkeys[0:len(donkeys)]"
   ]
  },
  {
   "cell_type": "code",
   "execution_count": 20,
   "id": "c2693c90",
   "metadata": {},
   "outputs": [
    {
     "data": {
      "text/plain": [
       "['cypher',\n",
       " 'lisandra',\n",
       " 'gebhard',\n",
       " 'gregory',\n",
       " 'muthu',\n",
       " 'phoenix',\n",
       " 'marlin',\n",
       " 'joe']"
      ]
     },
     "execution_count": 20,
     "metadata": {},
     "output_type": "execute_result"
    }
   ],
   "source": [
    "#reverse calling\n",
    "\n",
    "donkeys[::-1]"
   ]
  },
  {
   "cell_type": "code",
   "execution_count": 29,
   "id": "254648ef",
   "metadata": {},
   "outputs": [],
   "source": [
    "# reverse method\n",
    "\n",
    "donkeys.reverse()"
   ]
  },
  {
   "cell_type": "code",
   "execution_count": 30,
   "id": "7b84b31a",
   "metadata": {},
   "outputs": [
    {
     "data": {
      "text/plain": [
       "['joe',\n",
       " 'marlin',\n",
       " 'phoenix',\n",
       " 'muthu',\n",
       " 'gregory',\n",
       " 'gebhard',\n",
       " 'lisandra',\n",
       " 'cypher']"
      ]
     },
     "execution_count": 30,
     "metadata": {},
     "output_type": "execute_result"
    }
   ],
   "source": [
    "donkeys"
   ]
  },
  {
   "cell_type": "code",
   "execution_count": 35,
   "id": "733adef9",
   "metadata": {},
   "outputs": [],
   "source": [
    "#appending a new item in list\n",
    "\n",
    "donkeys[0]=\"tom\""
   ]
  },
  {
   "cell_type": "code",
   "execution_count": 36,
   "id": "272f75af",
   "metadata": {},
   "outputs": [
    {
     "data": {
      "text/plain": [
       "['tom',\n",
       " 'marlin',\n",
       " 'phoenix',\n",
       " 'muthu',\n",
       " 'gregory',\n",
       " 'gebhard',\n",
       " 'lisandra',\n",
       " 'cypher']"
      ]
     },
     "execution_count": 36,
     "metadata": {},
     "output_type": "execute_result"
    }
   ],
   "source": [
    "donkeys"
   ]
  },
  {
   "cell_type": "code",
   "execution_count": 37,
   "id": "2d7f6e60",
   "metadata": {},
   "outputs": [],
   "source": [
    "#notice joe has been replaced with tom\n",
    "donkeys.append(\"jerry\")"
   ]
  },
  {
   "cell_type": "code",
   "execution_count": 38,
   "id": "60183b5c",
   "metadata": {},
   "outputs": [
    {
     "data": {
      "text/plain": [
       "['tom',\n",
       " 'marlin',\n",
       " 'phoenix',\n",
       " 'muthu',\n",
       " 'gregory',\n",
       " 'gebhard',\n",
       " 'lisandra',\n",
       " 'cypher',\n",
       " 'jerry']"
      ]
     },
     "execution_count": 38,
     "metadata": {},
     "output_type": "execute_result"
    }
   ],
   "source": [
    "donkeys"
   ]
  },
  {
   "cell_type": "code",
   "execution_count": 43,
   "id": "b0cd2682",
   "metadata": {},
   "outputs": [],
   "source": [
    "# list looping\n",
    "\n",
    "list1=[1,2,3,4,5,[100,110,120,[67,78,[34,56,78,789]]]]"
   ]
  },
  {
   "cell_type": "code",
   "execution_count": 44,
   "id": "76b32da1",
   "metadata": {},
   "outputs": [
    {
     "name": "stdout",
     "output_type": "stream",
     "text": [
      "1\n",
      "2\n",
      "3\n",
      "4\n",
      "5\n",
      "[100, 110, 120, [67, 78, [34, 56, 78, 789]]]\n"
     ]
    }
   ],
   "source": [
    "for i in list1:\n",
    "    print(i)"
   ]
  },
  {
   "cell_type": "code",
   "execution_count": 45,
   "id": "897dd882",
   "metadata": {},
   "outputs": [
    {
     "data": {
      "text/plain": [
       "789"
      ]
     },
     "execution_count": 45,
     "metadata": {},
     "output_type": "execute_result"
    }
   ],
   "source": [
    "#list loop calling\n",
    "\n",
    "#calling 110 from list1\n",
    "list1[5][1]\n",
    "\n",
    "#calling 789\n",
    "list1[5][3][2][3]"
   ]
  },
  {
   "cell_type": "markdown",
   "id": "db2fb0fa",
   "metadata": {},
   "source": [
    "# dictionaries"
   ]
  },
  {
   "cell_type": "code",
   "execution_count": 57,
   "id": "19ea16bd",
   "metadata": {},
   "outputs": [
    {
     "name": "stdout",
     "output_type": "stream",
     "text": [
      "{'George': 97, 'Sam': 98, 'Jeb': 99}\n"
     ]
    }
   ],
   "source": [
    "#dictionaries have keys and corresponding values\n",
    "#they are unordered\n",
    "\n",
    "\n",
    "d={\"George\":97,\"Sam\":98,\"Jeb\":99}\n",
    "print(d)"
   ]
  },
  {
   "cell_type": "code",
   "execution_count": 59,
   "id": "07b3f165",
   "metadata": {},
   "outputs": [
    {
     "data": {
      "text/plain": [
       "97"
      ]
     },
     "execution_count": 59,
     "metadata": {},
     "output_type": "execute_result"
    }
   ],
   "source": [
    "#call the values only using their key\n",
    "d[\"George\"]"
   ]
  },
  {
   "cell_type": "markdown",
   "id": "adda01ec",
   "metadata": {},
   "source": [
    "# tuples"
   ]
  },
  {
   "cell_type": "code",
   "execution_count": 62,
   "id": "49bc0765",
   "metadata": {},
   "outputs": [],
   "source": [
    "# tuples are immutable meaning you can't do any item assignment like we normally do with lists ex: tuple1[4]= \"george\"\n",
    "\n",
    "\n",
    "t=(1,2,3,4,5,7,\"letters\")"
   ]
  },
  {
   "cell_type": "code",
   "execution_count": 63,
   "id": "8adfca75",
   "metadata": {},
   "outputs": [
    {
     "data": {
      "text/plain": [
       "'letters'"
      ]
     },
     "execution_count": 63,
     "metadata": {},
     "output_type": "execute_result"
    }
   ],
   "source": [
    "t[6]"
   ]
  },
  {
   "cell_type": "code",
   "execution_count": 64,
   "id": "07802432",
   "metadata": {},
   "outputs": [
    {
     "ename": "TypeError",
     "evalue": "'tuple' object does not support item assignment",
     "output_type": "error",
     "traceback": [
      "\u001b[1;31m---------------------------------------------------------------------------\u001b[0m",
      "\u001b[1;31mTypeError\u001b[0m                                 Traceback (most recent call last)",
      "Input \u001b[1;32mIn [64]\u001b[0m, in \u001b[0;36m<cell line: 5>\u001b[1;34m()\u001b[0m\n\u001b[0;32m      1\u001b[0m \u001b[38;5;66;03m#this item assingment in tuple only will prompt error\u001b[39;00m\n\u001b[0;32m      2\u001b[0m \n\u001b[0;32m      3\u001b[0m \u001b[38;5;66;03m#use tuple in places where user input should not change contents inside \u001b[39;00m\n\u001b[1;32m----> 5\u001b[0m t[\u001b[38;5;241m6\u001b[39m]\u001b[38;5;241m=\u001b[39m\u001b[38;5;124m\"\u001b[39m\u001b[38;5;124mlettersehsf\u001b[39m\u001b[38;5;124m\"\u001b[39m\n",
      "\u001b[1;31mTypeError\u001b[0m: 'tuple' object does not support item assignment"
     ]
    }
   ],
   "source": [
    "#this item assingment in tuple only will prompt error\n",
    "\n",
    "#use tuple in places where user input should not change contents inside \n",
    "\n",
    "t[6]=\"lettersehsf\""
   ]
  },
  {
   "cell_type": "markdown",
   "id": "170ec924",
   "metadata": {},
   "source": [
    "# sets"
   ]
  },
  {
   "cell_type": "code",
   "execution_count": 65,
   "id": "852e11c8",
   "metadata": {},
   "outputs": [],
   "source": [
    "# sets are great duplicate eliminators\n",
    "\n",
    "\n",
    "#notice set1 has many 3's\n",
    "\n",
    "set1={1,2,3,3,3,3,3,3,3,3,4,5}"
   ]
  },
  {
   "cell_type": "code",
   "execution_count": 66,
   "id": "f34e669e",
   "metadata": {},
   "outputs": [
    {
     "data": {
      "text/plain": [
       "{1, 2, 3, 4, 5}"
      ]
     },
     "execution_count": 66,
     "metadata": {},
     "output_type": "execute_result"
    }
   ],
   "source": [
    "set1"
   ]
  },
  {
   "cell_type": "markdown",
   "id": "5cb38a08",
   "metadata": {},
   "source": [
    "# loops and lists"
   ]
  },
  {
   "cell_type": "code",
   "execution_count": 68,
   "id": "87a9bc08",
   "metadata": {},
   "outputs": [
    {
     "name": "stdout",
     "output_type": "stream",
     "text": [
      "i is 1\n",
      "i is 2\n",
      "i is 3\n",
      "i is 4\n"
     ]
    }
   ],
   "source": [
    "i=1\n",
    "while i<5:\n",
    "    print(\"i is {}\".format(i))\n",
    "    i=i+1"
   ]
  },
  {
   "cell_type": "code",
   "execution_count": 72,
   "id": "7e4022fc",
   "metadata": {},
   "outputs": [],
   "source": [
    "a=list((range(1,10,1)))"
   ]
  },
  {
   "cell_type": "code",
   "execution_count": 73,
   "id": "669b391a",
   "metadata": {},
   "outputs": [
    {
     "data": {
      "text/plain": [
       "[1, 2, 3, 4, 5, 6, 7, 8, 9]"
      ]
     },
     "execution_count": 73,
     "metadata": {},
     "output_type": "execute_result"
    }
   ],
   "source": [
    "a"
   ]
  },
  {
   "cell_type": "code",
   "execution_count": 75,
   "id": "a1706921",
   "metadata": {},
   "outputs": [
    {
     "name": "stdout",
     "output_type": "stream",
     "text": [
      "[1, 4, 9, 16, 25, 36, 49, 64, 81, 100]\n"
     ]
    }
   ],
   "source": [
    "out=[] # is an empty list\n",
    "\n",
    "for i in range(1,11): #takes the range of numbers [1,2,3,.....10]\n",
    "    out.append(i**2)  #square the list [1,2,3, ....10] to [1,4,9,16,.....100] and append it on empty list 'out'\n",
    "\n",
    "print(out) # prints the list which now contains [1,4,9,....100]"
   ]
  },
  {
   "cell_type": "markdown",
   "id": "0ab55d5f",
   "metadata": {},
   "source": [
    "# functions"
   ]
  },
  {
   "cell_type": "code",
   "execution_count": 10,
   "id": "8abf085b",
   "metadata": {},
   "outputs": [
    {
     "name": "stdout",
     "output_type": "stream",
     "text": [
      "Type your Name: jeb\n",
      "hello jeb\n"
     ]
    }
   ],
   "source": [
    "def my_name(name=\"nil\"):\n",
    "    print(\"hello \"+name)\n",
    "\n",
    "name=input(\"Type your Name: \")\n",
    "my_name(name)"
   ]
  },
  {
   "cell_type": "code",
   "execution_count": 5,
   "id": "359b4878",
   "metadata": {},
   "outputs": [
    {
     "name": "stdout",
     "output_type": "stream",
     "text": [
      "729\n"
     ]
    }
   ],
   "source": [
    "def cube(x):\n",
    "    result=x**3\n",
    "    return result\n",
    "\n",
    "print(cube(9))"
   ]
  },
  {
   "cell_type": "markdown",
   "id": "f408788d",
   "metadata": {},
   "source": [
    "# lambda function"
   ]
  },
  {
   "cell_type": "code",
   "execution_count": 18,
   "id": "418161c0",
   "metadata": {},
   "outputs": [
    {
     "name": "stdout",
     "output_type": "stream",
     "text": [
      "7\n"
     ]
    }
   ],
   "source": [
    "add= lambda a,b: a+b\n",
    "\n",
    "print(add(3,4))\n"
   ]
  },
  {
   "cell_type": "code",
   "execution_count": 21,
   "id": "96a061a7",
   "metadata": {},
   "outputs": [
    {
     "name": "stdout",
     "output_type": "stream",
     "text": [
      "55\n"
     ]
    }
   ],
   "source": [
    "# pass in many arguments at a time\n",
    "\n",
    "add= lambda *args: sum(args)\n",
    "print(add(1,2,3,4,5,6,7,8,9,10))"
   ]
  },
  {
   "cell_type": "markdown",
   "id": "806bdad6",
   "metadata": {},
   "source": [
    "# methods"
   ]
  },
  {
   "cell_type": "code",
   "execution_count": 22,
   "id": "003e7c39",
   "metadata": {},
   "outputs": [],
   "source": [
    "str=\"hi George you are a kundi! \""
   ]
  },
  {
   "cell_type": "code",
   "execution_count": 23,
   "id": "f8312cfa",
   "metadata": {},
   "outputs": [
    {
     "data": {
      "text/plain": [
       "'hi george you are a kundi! '"
      ]
     },
     "execution_count": 23,
     "metadata": {},
     "output_type": "execute_result"
    }
   ],
   "source": [
    "str.lower()"
   ]
  },
  {
   "cell_type": "code",
   "execution_count": 24,
   "id": "0c22692f",
   "metadata": {},
   "outputs": [
    {
     "data": {
      "text/plain": [
       "'HI GEORGE YOU ARE A KUNDI! '"
      ]
     },
     "execution_count": 24,
     "metadata": {},
     "output_type": "execute_result"
    }
   ],
   "source": [
    "str.upper()"
   ]
  },
  {
   "cell_type": "code",
   "execution_count": 25,
   "id": "ac9a0c40",
   "metadata": {},
   "outputs": [
    {
     "data": {
      "text/plain": [
       "['hi', 'George', 'you', 'are', 'a', 'kundi!']"
      ]
     },
     "execution_count": 25,
     "metadata": {},
     "output_type": "execute_result"
    }
   ],
   "source": [
    "#it splits every word and make a list of them\n",
    "\n",
    "\n",
    "str.split()"
   ]
  },
  {
   "cell_type": "code",
   "execution_count": 30,
   "id": "7e85a0f7",
   "metadata": {},
   "outputs": [],
   "source": [
    "tweet= \"movie yashoda #surrogacy #dermetology #sex #betrayal #passion for flesh\""
   ]
  },
  {
   "cell_type": "code",
   "execution_count": 31,
   "id": "8a9676b0",
   "metadata": {},
   "outputs": [
    {
     "data": {
      "text/plain": [
       "['movie yashoda ',\n",
       " 'surrogacy ',\n",
       " 'dermetology ',\n",
       " 'sex ',\n",
       " 'betrayal ',\n",
       " 'passion for flesh']"
      ]
     },
     "execution_count": 31,
     "metadata": {},
     "output_type": "execute_result"
    }
   ],
   "source": [
    "tweet.split(\"#\")"
   ]
  },
  {
   "cell_type": "code",
   "execution_count": 32,
   "id": "39d521d4",
   "metadata": {},
   "outputs": [],
   "source": [
    "d={\"George\": 97, \"sam\": 98, \"jeb\": 99}"
   ]
  },
  {
   "cell_type": "code",
   "execution_count": 33,
   "id": "5d45c999",
   "metadata": {},
   "outputs": [
    {
     "data": {
      "text/plain": [
       "dict_keys(['George', 'sam', 'jeb'])"
      ]
     },
     "execution_count": 33,
     "metadata": {},
     "output_type": "execute_result"
    }
   ],
   "source": [
    "d.keys()"
   ]
  },
  {
   "cell_type": "code",
   "execution_count": 34,
   "id": "ee1bc60e",
   "metadata": {},
   "outputs": [
    {
     "data": {
      "text/plain": [
       "dict_items([('George', 97), ('sam', 98), ('jeb', 99)])"
      ]
     },
     "execution_count": 34,
     "metadata": {},
     "output_type": "execute_result"
    }
   ],
   "source": [
    "d.items()"
   ]
  },
  {
   "cell_type": "code",
   "execution_count": 35,
   "id": "500c58c8",
   "metadata": {},
   "outputs": [
    {
     "data": {
      "text/plain": [
       "dict_values([97, 98, 99])"
      ]
     },
     "execution_count": 35,
     "metadata": {},
     "output_type": "execute_result"
    }
   ],
   "source": [
    "d.values()"
   ]
  },
  {
   "cell_type": "code",
   "execution_count": 39,
   "id": "10e588d9",
   "metadata": {},
   "outputs": [],
   "source": [
    "# pop something out of a list\n",
    "\n",
    "lis=[1,2,3,4,5]"
   ]
  },
  {
   "cell_type": "code",
   "execution_count": 40,
   "id": "434908af",
   "metadata": {},
   "outputs": [
    {
     "data": {
      "text/plain": [
       "4"
      ]
     },
     "execution_count": 40,
     "metadata": {},
     "output_type": "execute_result"
    }
   ],
   "source": [
    "lis.pop(3)"
   ]
  },
  {
   "cell_type": "code",
   "execution_count": 41,
   "id": "d9cbf17b",
   "metadata": {},
   "outputs": [
    {
     "data": {
      "text/plain": [
       "[1, 2, 3, 5]"
      ]
     },
     "execution_count": 41,
     "metadata": {},
     "output_type": "execute_result"
    }
   ],
   "source": [
    "lis"
   ]
  },
  {
   "cell_type": "code",
   "execution_count": null,
   "id": "aab362a3",
   "metadata": {},
   "outputs": [],
   "source": []
  }
 ],
 "metadata": {
  "kernelspec": {
   "display_name": "Python 3 (ipykernel)",
   "language": "python",
   "name": "python3"
  },
  "language_info": {
   "codemirror_mode": {
    "name": "ipython",
    "version": 3
   },
   "file_extension": ".py",
   "mimetype": "text/x-python",
   "name": "python",
   "nbconvert_exporter": "python",
   "pygments_lexer": "ipython3",
   "version": "3.9.12"
  }
 },
 "nbformat": 4,
 "nbformat_minor": 5
}
