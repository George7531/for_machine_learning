version https://git-lfs.github.com/spec/v1
oid sha256:3908e6fb9b30f379070adc289ff49100030c04bc1afe92c7ab48d63ce0a0efe8
size 24932
