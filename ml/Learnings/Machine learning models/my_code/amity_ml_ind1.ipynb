{
 "cells": [
  {
   "cell_type": "markdown",
   "id": "13f0cc59",
   "metadata": {},
   "source": [
    "# data collection-completeness and correctness of data collection"
   ]
  },
  {
   "cell_type": "code",
   "execution_count": 4,
   "id": "10b0c6d5",
   "metadata": {},
   "outputs": [],
   "source": [
    "import numpy as np\n",
    "import pandas as pd\n",
    "import matplotlib.pyplot as plt\n",
    "import seaborn as sns"
   ]
  },
  {
   "cell_type": "code",
   "execution_count": 5,
   "id": "e2800b74",
   "metadata": {},
   "outputs": [
    {
     "data": {
      "text/html": [
       "<div>\n",
       "<style scoped>\n",
       "    .dataframe tbody tr th:only-of-type {\n",
       "        vertical-align: middle;\n",
       "    }\n",
       "\n",
       "    .dataframe tbody tr th {\n",
       "        vertical-align: top;\n",
       "    }\n",
       "\n",
       "    .dataframe thead th {\n",
       "        text-align: right;\n",
       "    }\n",
       "</style>\n",
       "<table border=\"1\" class=\"dataframe\">\n",
       "  <thead>\n",
       "    <tr style=\"text-align: right;\">\n",
       "      <th></th>\n",
       "      <th>APP_ID</th>\n",
       "      <th>CIBIL_SCORE_VALUE</th>\n",
       "      <th>NEW_CUST</th>\n",
       "      <th>CUS_CATGCODE</th>\n",
       "      <th>EMPLOYMENT_TYPE</th>\n",
       "      <th>AGE</th>\n",
       "      <th>SEX</th>\n",
       "      <th>NO_OF_DEPENDENTS</th>\n",
       "      <th>MARITAL</th>\n",
       "      <th>EDU_QUA</th>\n",
       "      <th>P_RESTYPE</th>\n",
       "      <th>P_CATEGORY</th>\n",
       "      <th>EMPLOYEE_TYPE</th>\n",
       "      <th>MON_IN_OCC</th>\n",
       "      <th>INCOM_EXP_GMI</th>\n",
       "      <th>LTV</th>\n",
       "      <th>TENURE</th>\n",
       "      <th>STATUS</th>\n",
       "    </tr>\n",
       "  </thead>\n",
       "  <tbody>\n",
       "    <tr>\n",
       "      <th>0</th>\n",
       "      <td>12345</td>\n",
       "      <td>0</td>\n",
       "      <td>YES</td>\n",
       "      <td>1</td>\n",
       "      <td>0</td>\n",
       "      <td>31</td>\n",
       "      <td>F</td>\n",
       "      <td>3</td>\n",
       "      <td>0</td>\n",
       "      <td>0</td>\n",
       "      <td>1</td>\n",
       "      <td>4</td>\n",
       "      <td>2</td>\n",
       "      <td>36</td>\n",
       "      <td>0</td>\n",
       "      <td>0.767104</td>\n",
       "      <td>12</td>\n",
       "      <td>0</td>\n",
       "    </tr>\n",
       "    <tr>\n",
       "      <th>1</th>\n",
       "      <td>12347</td>\n",
       "      <td>0</td>\n",
       "      <td>NO</td>\n",
       "      <td>1</td>\n",
       "      <td>1</td>\n",
       "      <td>40</td>\n",
       "      <td>F</td>\n",
       "      <td>2</td>\n",
       "      <td>1</td>\n",
       "      <td>1</td>\n",
       "      <td>0</td>\n",
       "      <td>1</td>\n",
       "      <td>1</td>\n",
       "      <td>12</td>\n",
       "      <td>2</td>\n",
       "      <td>0.619077</td>\n",
       "      <td>24</td>\n",
       "      <td>0</td>\n",
       "    </tr>\n",
       "    <tr>\n",
       "      <th>2</th>\n",
       "      <td>12349</td>\n",
       "      <td>0</td>\n",
       "      <td>YES</td>\n",
       "      <td>1</td>\n",
       "      <td>0</td>\n",
       "      <td>27</td>\n",
       "      <td>F</td>\n",
       "      <td>3</td>\n",
       "      <td>0</td>\n",
       "      <td>0</td>\n",
       "      <td>1</td>\n",
       "      <td>2</td>\n",
       "      <td>2</td>\n",
       "      <td>72</td>\n",
       "      <td>0</td>\n",
       "      <td>0.848949</td>\n",
       "      <td>36</td>\n",
       "      <td>0</td>\n",
       "    </tr>\n",
       "    <tr>\n",
       "      <th>3</th>\n",
       "      <td>12351</td>\n",
       "      <td>2</td>\n",
       "      <td>NO</td>\n",
       "      <td>1</td>\n",
       "      <td>1</td>\n",
       "      <td>33</td>\n",
       "      <td>M</td>\n",
       "      <td>2</td>\n",
       "      <td>0</td>\n",
       "      <td>1</td>\n",
       "      <td>0</td>\n",
       "      <td>2</td>\n",
       "      <td>1</td>\n",
       "      <td>120</td>\n",
       "      <td>1</td>\n",
       "      <td>0.515646</td>\n",
       "      <td>12</td>\n",
       "      <td>0</td>\n",
       "    </tr>\n",
       "    <tr>\n",
       "      <th>4</th>\n",
       "      <td>12353</td>\n",
       "      <td>2</td>\n",
       "      <td>NO</td>\n",
       "      <td>1</td>\n",
       "      <td>1</td>\n",
       "      <td>29</td>\n",
       "      <td>F</td>\n",
       "      <td>1</td>\n",
       "      <td>0</td>\n",
       "      <td>1</td>\n",
       "      <td>1</td>\n",
       "      <td>2</td>\n",
       "      <td>1</td>\n",
       "      <td>24</td>\n",
       "      <td>2</td>\n",
       "      <td>0.614123</td>\n",
       "      <td>24</td>\n",
       "      <td>1</td>\n",
       "    </tr>\n",
       "    <tr>\n",
       "      <th>...</th>\n",
       "      <td>...</td>\n",
       "      <td>...</td>\n",
       "      <td>...</td>\n",
       "      <td>...</td>\n",
       "      <td>...</td>\n",
       "      <td>...</td>\n",
       "      <td>...</td>\n",
       "      <td>...</td>\n",
       "      <td>...</td>\n",
       "      <td>...</td>\n",
       "      <td>...</td>\n",
       "      <td>...</td>\n",
       "      <td>...</td>\n",
       "      <td>...</td>\n",
       "      <td>...</td>\n",
       "      <td>...</td>\n",
       "      <td>...</td>\n",
       "      <td>...</td>\n",
       "    </tr>\n",
       "    <tr>\n",
       "      <th>13294</th>\n",
       "      <td>38933</td>\n",
       "      <td>0</td>\n",
       "      <td>YES</td>\n",
       "      <td>1</td>\n",
       "      <td>0</td>\n",
       "      <td>36</td>\n",
       "      <td>M</td>\n",
       "      <td>3</td>\n",
       "      <td>1</td>\n",
       "      <td>0</td>\n",
       "      <td>0</td>\n",
       "      <td>1</td>\n",
       "      <td>0</td>\n",
       "      <td>24</td>\n",
       "      <td>0</td>\n",
       "      <td>0.840564</td>\n",
       "      <td>24</td>\n",
       "      <td>1</td>\n",
       "    </tr>\n",
       "    <tr>\n",
       "      <th>13295</th>\n",
       "      <td>38935</td>\n",
       "      <td>2</td>\n",
       "      <td>NO</td>\n",
       "      <td>1</td>\n",
       "      <td>1</td>\n",
       "      <td>29</td>\n",
       "      <td>F</td>\n",
       "      <td>1</td>\n",
       "      <td>0</td>\n",
       "      <td>1</td>\n",
       "      <td>0</td>\n",
       "      <td>4</td>\n",
       "      <td>1</td>\n",
       "      <td>25</td>\n",
       "      <td>2</td>\n",
       "      <td>0.450000</td>\n",
       "      <td>12</td>\n",
       "      <td>1</td>\n",
       "    </tr>\n",
       "    <tr>\n",
       "      <th>13296</th>\n",
       "      <td>38937</td>\n",
       "      <td>0</td>\n",
       "      <td>YES</td>\n",
       "      <td>1</td>\n",
       "      <td>1</td>\n",
       "      <td>28</td>\n",
       "      <td>F</td>\n",
       "      <td>0</td>\n",
       "      <td>0</td>\n",
       "      <td>1</td>\n",
       "      <td>0</td>\n",
       "      <td>2</td>\n",
       "      <td>1</td>\n",
       "      <td>13</td>\n",
       "      <td>2</td>\n",
       "      <td>0.593333</td>\n",
       "      <td>36</td>\n",
       "      <td>1</td>\n",
       "    </tr>\n",
       "    <tr>\n",
       "      <th>13297</th>\n",
       "      <td>38939</td>\n",
       "      <td>0</td>\n",
       "      <td>YES</td>\n",
       "      <td>1</td>\n",
       "      <td>1</td>\n",
       "      <td>28</td>\n",
       "      <td>F</td>\n",
       "      <td>0</td>\n",
       "      <td>0</td>\n",
       "      <td>1</td>\n",
       "      <td>1</td>\n",
       "      <td>3</td>\n",
       "      <td>1</td>\n",
       "      <td>13</td>\n",
       "      <td>2</td>\n",
       "      <td>0.106667</td>\n",
       "      <td>36</td>\n",
       "      <td>0</td>\n",
       "    </tr>\n",
       "    <tr>\n",
       "      <th>13298</th>\n",
       "      <td>38941</td>\n",
       "      <td>2</td>\n",
       "      <td>NO</td>\n",
       "      <td>1</td>\n",
       "      <td>1</td>\n",
       "      <td>35</td>\n",
       "      <td>F</td>\n",
       "      <td>1</td>\n",
       "      <td>0</td>\n",
       "      <td>1</td>\n",
       "      <td>2</td>\n",
       "      <td>4</td>\n",
       "      <td>0</td>\n",
       "      <td>14</td>\n",
       "      <td>3</td>\n",
       "      <td>0.083333</td>\n",
       "      <td>36</td>\n",
       "      <td>0</td>\n",
       "    </tr>\n",
       "  </tbody>\n",
       "</table>\n",
       "<p>13299 rows × 18 columns</p>\n",
       "</div>"
      ],
      "text/plain": [
       "       APP_ID   CIBIL_SCORE_VALUE  NEW_CUST  CUS_CATGCODE    EMPLOYMENT_TYPE   \\\n",
       "0       12345                    0      YES              1                  0   \n",
       "1       12347                    0       NO              1                  1   \n",
       "2       12349                    0      YES              1                  0   \n",
       "3       12351                    2       NO              1                  1   \n",
       "4       12353                    2       NO              1                  1   \n",
       "...       ...                  ...      ...            ...                ...   \n",
       "13294   38933                    0      YES              1                  0   \n",
       "13295   38935                    2       NO              1                  1   \n",
       "13296   38937                    0      YES              1                  1   \n",
       "13297   38939                    0      YES              1                  1   \n",
       "13298   38941                    2       NO              1                  1   \n",
       "\n",
       "       AGE  SEX     NO_OF_DEPENDENTS    MARITAL    EDU_QUA    P_RESTYPE   \\\n",
       "0       31      F                   3          0         0             1   \n",
       "1       40      F                   2          1         1             0   \n",
       "2       27      F                   3          0         0             1   \n",
       "3       33      M                   2          0         1             0   \n",
       "4       29      F                   1          0         1             1   \n",
       "...    ...    ...                 ...        ...       ...           ...   \n",
       "13294   36      M                   3          1         0             0   \n",
       "13295   29      F                   1          0         1             0   \n",
       "13296   28      F                   0          0         1             0   \n",
       "13297   28      F                   0          0         1             1   \n",
       "13298   35      F                   1          0         1             2   \n",
       "\n",
       "        P_CATEGORY    EMPLOYEE_TYPE     MON_IN_OCC    INCOM_EXP_GMI   \\\n",
       "0                 4                2             36                0   \n",
       "1                 1                1             12                2   \n",
       "2                 2                2             72                0   \n",
       "3                 2                1            120                1   \n",
       "4                 2                1             24                2   \n",
       "...             ...              ...            ...              ...   \n",
       "13294             1                0             24                0   \n",
       "13295             4                1             25                2   \n",
       "13296             2                1             13                2   \n",
       "13297             3                1             13                2   \n",
       "13298             4                0             14                3   \n",
       "\n",
       "            LTV   TENURE   STATUS  \n",
       "0      0.767104        12       0  \n",
       "1      0.619077        24       0  \n",
       "2      0.848949        36       0  \n",
       "3      0.515646        12       0  \n",
       "4      0.614123        24       1  \n",
       "...         ...       ...     ...  \n",
       "13294  0.840564        24       1  \n",
       "13295  0.450000        12       1  \n",
       "13296  0.593333        36       1  \n",
       "13297  0.106667        36       0  \n",
       "13298  0.083333        36       0  \n",
       "\n",
       "[13299 rows x 18 columns]"
      ]
     },
     "execution_count": 5,
     "metadata": {},
     "output_type": "execute_result"
    }
   ],
   "source": [
    "df = pd.read_csv('amity_ml_ind1.csv')\n",
    "df"
   ]
  },
  {
   "cell_type": "code",
   "execution_count": 6,
   "id": "f7fb93f5",
   "metadata": {},
   "outputs": [
    {
     "name": "stdout",
     "output_type": "stream",
     "text": [
      "<class 'pandas.core.frame.DataFrame'>\n",
      "RangeIndex: 13299 entries, 0 to 13298\n",
      "Data columns (total 18 columns):\n",
      " #   Column               Non-Null Count  Dtype  \n",
      "---  ------               --------------  -----  \n",
      " 0   APP_ID               13299 non-null  int64  \n",
      " 1    CIBIL_SCORE_VALUE   13299 non-null  int64  \n",
      " 2   NEW_CUST             13299 non-null  object \n",
      " 3   CUS_CATGCODE         13299 non-null  int64  \n",
      " 4    EMPLOYMENT_TYPE     13299 non-null  int64  \n",
      " 5   AGE                  13299 non-null  int64  \n",
      " 6    SEX                 13299 non-null  object \n",
      " 7    NO_OF_DEPENDENTS    13299 non-null  int64  \n",
      " 8    MARITAL             13299 non-null  int64  \n",
      " 9    EDU_QUA             13299 non-null  int64  \n",
      " 10    P_RESTYPE          13299 non-null  int64  \n",
      " 11   P_CATEGORY          13299 non-null  int64  \n",
      " 12   EMPLOYEE_TYPE       13299 non-null  int64  \n",
      " 13    MON_IN_OCC         13299 non-null  int64  \n",
      " 14   INCOM_EXP_GMI       13299 non-null  int64  \n",
      " 15  LTV                  13299 non-null  float64\n",
      " 16   TENURE              13299 non-null  int64  \n",
      " 17  STATUS               13299 non-null  int64  \n",
      "dtypes: float64(1), int64(15), object(2)\n",
      "memory usage: 1.8+ MB\n"
     ]
    }
   ],
   "source": [
    "df.info()"
   ]
  },
  {
   "cell_type": "code",
   "execution_count": 7,
   "id": "4ef1e844",
   "metadata": {},
   "outputs": [
    {
     "data": {
      "text/html": [
       "<div>\n",
       "<style scoped>\n",
       "    .dataframe tbody tr th:only-of-type {\n",
       "        vertical-align: middle;\n",
       "    }\n",
       "\n",
       "    .dataframe tbody tr th {\n",
       "        vertical-align: top;\n",
       "    }\n",
       "\n",
       "    .dataframe thead th {\n",
       "        text-align: right;\n",
       "    }\n",
       "</style>\n",
       "<table border=\"1\" class=\"dataframe\">\n",
       "  <thead>\n",
       "    <tr style=\"text-align: right;\">\n",
       "      <th></th>\n",
       "      <th>APP_ID</th>\n",
       "      <th>CIBIL_SCORE_VALUE</th>\n",
       "      <th>CUS_CATGCODE</th>\n",
       "      <th>EMPLOYMENT_TYPE</th>\n",
       "      <th>AGE</th>\n",
       "      <th>NO_OF_DEPENDENTS</th>\n",
       "      <th>MARITAL</th>\n",
       "      <th>EDU_QUA</th>\n",
       "      <th>P_RESTYPE</th>\n",
       "      <th>P_CATEGORY</th>\n",
       "      <th>EMPLOYEE_TYPE</th>\n",
       "      <th>MON_IN_OCC</th>\n",
       "      <th>INCOM_EXP_GMI</th>\n",
       "      <th>LTV</th>\n",
       "      <th>TENURE</th>\n",
       "      <th>STATUS</th>\n",
       "    </tr>\n",
       "  </thead>\n",
       "  <tbody>\n",
       "    <tr>\n",
       "      <th>count</th>\n",
       "      <td>13299.0000</td>\n",
       "      <td>13299.000000</td>\n",
       "      <td>13299.000000</td>\n",
       "      <td>13299.000000</td>\n",
       "      <td>13299.000000</td>\n",
       "      <td>13299.000000</td>\n",
       "      <td>13299.000000</td>\n",
       "      <td>13299.000000</td>\n",
       "      <td>13299.000000</td>\n",
       "      <td>13299.000000</td>\n",
       "      <td>13299.000000</td>\n",
       "      <td>13299.000000</td>\n",
       "      <td>13299.000000</td>\n",
       "      <td>13299.000000</td>\n",
       "      <td>13299.000000</td>\n",
       "      <td>13299.000000</td>\n",
       "    </tr>\n",
       "    <tr>\n",
       "      <th>mean</th>\n",
       "      <td>25643.0000</td>\n",
       "      <td>1.037898</td>\n",
       "      <td>0.908640</td>\n",
       "      <td>0.658922</td>\n",
       "      <td>32.473870</td>\n",
       "      <td>1.536281</td>\n",
       "      <td>0.590044</td>\n",
       "      <td>0.485149</td>\n",
       "      <td>0.427175</td>\n",
       "      <td>2.340778</td>\n",
       "      <td>0.833371</td>\n",
       "      <td>74.508760</td>\n",
       "      <td>0.751259</td>\n",
       "      <td>0.776054</td>\n",
       "      <td>24.792240</td>\n",
       "      <td>0.377171</td>\n",
       "    </tr>\n",
       "    <tr>\n",
       "      <th>std</th>\n",
       "      <td>7678.4699</td>\n",
       "      <td>0.865391</td>\n",
       "      <td>0.288132</td>\n",
       "      <td>0.474089</td>\n",
       "      <td>8.804317</td>\n",
       "      <td>0.971671</td>\n",
       "      <td>0.491844</td>\n",
       "      <td>0.499798</td>\n",
       "      <td>0.727715</td>\n",
       "      <td>1.341674</td>\n",
       "      <td>0.553415</td>\n",
       "      <td>72.971951</td>\n",
       "      <td>0.938441</td>\n",
       "      <td>0.126130</td>\n",
       "      <td>7.501085</td>\n",
       "      <td>0.484697</td>\n",
       "    </tr>\n",
       "    <tr>\n",
       "      <th>min</th>\n",
       "      <td>12345.0000</td>\n",
       "      <td>0.000000</td>\n",
       "      <td>0.000000</td>\n",
       "      <td>0.000000</td>\n",
       "      <td>18.000000</td>\n",
       "      <td>0.000000</td>\n",
       "      <td>0.000000</td>\n",
       "      <td>0.000000</td>\n",
       "      <td>0.000000</td>\n",
       "      <td>1.000000</td>\n",
       "      <td>0.000000</td>\n",
       "      <td>1.000000</td>\n",
       "      <td>0.000000</td>\n",
       "      <td>0.007508</td>\n",
       "      <td>12.000000</td>\n",
       "      <td>0.000000</td>\n",
       "    </tr>\n",
       "    <tr>\n",
       "      <th>25%</th>\n",
       "      <td>18994.0000</td>\n",
       "      <td>0.000000</td>\n",
       "      <td>1.000000</td>\n",
       "      <td>0.000000</td>\n",
       "      <td>25.000000</td>\n",
       "      <td>1.000000</td>\n",
       "      <td>0.000000</td>\n",
       "      <td>0.000000</td>\n",
       "      <td>0.000000</td>\n",
       "      <td>1.000000</td>\n",
       "      <td>0.000000</td>\n",
       "      <td>24.000000</td>\n",
       "      <td>0.000000</td>\n",
       "      <td>0.719710</td>\n",
       "      <td>18.000000</td>\n",
       "      <td>0.000000</td>\n",
       "    </tr>\n",
       "    <tr>\n",
       "      <th>50%</th>\n",
       "      <td>25643.0000</td>\n",
       "      <td>1.000000</td>\n",
       "      <td>1.000000</td>\n",
       "      <td>1.000000</td>\n",
       "      <td>31.000000</td>\n",
       "      <td>2.000000</td>\n",
       "      <td>1.000000</td>\n",
       "      <td>0.000000</td>\n",
       "      <td>0.000000</td>\n",
       "      <td>2.000000</td>\n",
       "      <td>1.000000</td>\n",
       "      <td>48.000000</td>\n",
       "      <td>0.000000</td>\n",
       "      <td>0.807537</td>\n",
       "      <td>24.000000</td>\n",
       "      <td>0.000000</td>\n",
       "    </tr>\n",
       "    <tr>\n",
       "      <th>75%</th>\n",
       "      <td>32292.0000</td>\n",
       "      <td>2.000000</td>\n",
       "      <td>1.000000</td>\n",
       "      <td>1.000000</td>\n",
       "      <td>38.000000</td>\n",
       "      <td>2.000000</td>\n",
       "      <td>1.000000</td>\n",
       "      <td>1.000000</td>\n",
       "      <td>1.000000</td>\n",
       "      <td>4.000000</td>\n",
       "      <td>1.000000</td>\n",
       "      <td>100.000000</td>\n",
       "      <td>1.000000</td>\n",
       "      <td>0.849177</td>\n",
       "      <td>36.000000</td>\n",
       "      <td>1.000000</td>\n",
       "    </tr>\n",
       "    <tr>\n",
       "      <th>max</th>\n",
       "      <td>38941.0000</td>\n",
       "      <td>2.000000</td>\n",
       "      <td>1.000000</td>\n",
       "      <td>1.000000</td>\n",
       "      <td>55.000000</td>\n",
       "      <td>3.000000</td>\n",
       "      <td>1.000000</td>\n",
       "      <td>1.000000</td>\n",
       "      <td>2.000000</td>\n",
       "      <td>4.000000</td>\n",
       "      <td>2.000000</td>\n",
       "      <td>398.000000</td>\n",
       "      <td>3.000000</td>\n",
       "      <td>1.000000</td>\n",
       "      <td>36.000000</td>\n",
       "      <td>1.000000</td>\n",
       "    </tr>\n",
       "  </tbody>\n",
       "</table>\n",
       "</div>"
      ],
      "text/plain": [
       "           APP_ID   CIBIL_SCORE_VALUE   CUS_CATGCODE    EMPLOYMENT_TYPE   \\\n",
       "count  13299.0000         13299.000000   13299.000000       13299.000000   \n",
       "mean   25643.0000             1.037898       0.908640           0.658922   \n",
       "std     7678.4699             0.865391       0.288132           0.474089   \n",
       "min    12345.0000             0.000000       0.000000           0.000000   \n",
       "25%    18994.0000             0.000000       1.000000           0.000000   \n",
       "50%    25643.0000             1.000000       1.000000           1.000000   \n",
       "75%    32292.0000             2.000000       1.000000           1.000000   \n",
       "max    38941.0000             2.000000       1.000000           1.000000   \n",
       "\n",
       "                AGE   NO_OF_DEPENDENTS       MARITAL        EDU_QUA  \\\n",
       "count  13299.000000        13299.000000  13299.000000  13299.000000   \n",
       "mean      32.473870            1.536281      0.590044      0.485149   \n",
       "std        8.804317            0.971671      0.491844      0.499798   \n",
       "min       18.000000            0.000000      0.000000      0.000000   \n",
       "25%       25.000000            1.000000      0.000000      0.000000   \n",
       "50%       31.000000            2.000000      1.000000      0.000000   \n",
       "75%       38.000000            2.000000      1.000000      1.000000   \n",
       "max       55.000000            3.000000      1.000000      1.000000   \n",
       "\n",
       "         P_RESTYPE    P_CATEGORY    EMPLOYEE_TYPE     MON_IN_OCC   \\\n",
       "count  13299.000000  13299.000000     13299.000000   13299.000000   \n",
       "mean       0.427175      2.340778         0.833371      74.508760   \n",
       "std        0.727715      1.341674         0.553415      72.971951   \n",
       "min        0.000000      1.000000         0.000000       1.000000   \n",
       "25%        0.000000      1.000000         0.000000      24.000000   \n",
       "50%        0.000000      2.000000         1.000000      48.000000   \n",
       "75%        1.000000      4.000000         1.000000     100.000000   \n",
       "max        2.000000      4.000000         2.000000     398.000000   \n",
       "\n",
       "        INCOM_EXP_GMI            LTV       TENURE         STATUS  \n",
       "count     13299.000000  13299.000000  13299.000000  13299.000000  \n",
       "mean          0.751259      0.776054     24.792240      0.377171  \n",
       "std           0.938441      0.126130      7.501085      0.484697  \n",
       "min           0.000000      0.007508     12.000000      0.000000  \n",
       "25%           0.000000      0.719710     18.000000      0.000000  \n",
       "50%           0.000000      0.807537     24.000000      0.000000  \n",
       "75%           1.000000      0.849177     36.000000      1.000000  \n",
       "max           3.000000      1.000000     36.000000      1.000000  "
      ]
     },
     "execution_count": 7,
     "metadata": {},
     "output_type": "execute_result"
    }
   ],
   "source": [
    "df.describe()"
   ]
  },
  {
   "cell_type": "code",
   "execution_count": null,
   "id": "dda277ed",
   "metadata": {},
   "outputs": [],
   "source": []
  },
  {
   "cell_type": "markdown",
   "id": "c7ba0ee1",
   "metadata": {},
   "source": [
    "# Data preparation -cleansing, visualizing, train-test splitting, one-hot encoding and standardize."
   ]
  },
  {
   "cell_type": "code",
   "execution_count": null,
   "id": "079d3606",
   "metadata": {},
   "outputs": [],
   "source": []
  },
  {
   "cell_type": "markdown",
   "id": "5a006172",
   "metadata": {},
   "source": [
    "## application_id is not that important for our analysis so we remove it"
   ]
  },
  {
   "cell_type": "code",
   "execution_count": 8,
   "id": "dd81e406",
   "metadata": {},
   "outputs": [
    {
     "data": {
      "text/html": [
       "<div>\n",
       "<style scoped>\n",
       "    .dataframe tbody tr th:only-of-type {\n",
       "        vertical-align: middle;\n",
       "    }\n",
       "\n",
       "    .dataframe tbody tr th {\n",
       "        vertical-align: top;\n",
       "    }\n",
       "\n",
       "    .dataframe thead th {\n",
       "        text-align: right;\n",
       "    }\n",
       "</style>\n",
       "<table border=\"1\" class=\"dataframe\">\n",
       "  <thead>\n",
       "    <tr style=\"text-align: right;\">\n",
       "      <th></th>\n",
       "      <th>CIBIL_SCORE_VALUE</th>\n",
       "      <th>NEW_CUST</th>\n",
       "      <th>CUS_CATGCODE</th>\n",
       "      <th>EMPLOYMENT_TYPE</th>\n",
       "      <th>AGE</th>\n",
       "      <th>SEX</th>\n",
       "      <th>NO_OF_DEPENDENTS</th>\n",
       "      <th>MARITAL</th>\n",
       "      <th>EDU_QUA</th>\n",
       "      <th>P_RESTYPE</th>\n",
       "      <th>P_CATEGORY</th>\n",
       "      <th>EMPLOYEE_TYPE</th>\n",
       "      <th>MON_IN_OCC</th>\n",
       "      <th>INCOM_EXP_GMI</th>\n",
       "      <th>LTV</th>\n",
       "      <th>TENURE</th>\n",
       "      <th>STATUS</th>\n",
       "    </tr>\n",
       "  </thead>\n",
       "  <tbody>\n",
       "    <tr>\n",
       "      <th>0</th>\n",
       "      <td>0</td>\n",
       "      <td>YES</td>\n",
       "      <td>1</td>\n",
       "      <td>0</td>\n",
       "      <td>31</td>\n",
       "      <td>F</td>\n",
       "      <td>3</td>\n",
       "      <td>0</td>\n",
       "      <td>0</td>\n",
       "      <td>1</td>\n",
       "      <td>4</td>\n",
       "      <td>2</td>\n",
       "      <td>36</td>\n",
       "      <td>0</td>\n",
       "      <td>0.767104</td>\n",
       "      <td>12</td>\n",
       "      <td>0</td>\n",
       "    </tr>\n",
       "    <tr>\n",
       "      <th>1</th>\n",
       "      <td>0</td>\n",
       "      <td>NO</td>\n",
       "      <td>1</td>\n",
       "      <td>1</td>\n",
       "      <td>40</td>\n",
       "      <td>F</td>\n",
       "      <td>2</td>\n",
       "      <td>1</td>\n",
       "      <td>1</td>\n",
       "      <td>0</td>\n",
       "      <td>1</td>\n",
       "      <td>1</td>\n",
       "      <td>12</td>\n",
       "      <td>2</td>\n",
       "      <td>0.619077</td>\n",
       "      <td>24</td>\n",
       "      <td>0</td>\n",
       "    </tr>\n",
       "    <tr>\n",
       "      <th>2</th>\n",
       "      <td>0</td>\n",
       "      <td>YES</td>\n",
       "      <td>1</td>\n",
       "      <td>0</td>\n",
       "      <td>27</td>\n",
       "      <td>F</td>\n",
       "      <td>3</td>\n",
       "      <td>0</td>\n",
       "      <td>0</td>\n",
       "      <td>1</td>\n",
       "      <td>2</td>\n",
       "      <td>2</td>\n",
       "      <td>72</td>\n",
       "      <td>0</td>\n",
       "      <td>0.848949</td>\n",
       "      <td>36</td>\n",
       "      <td>0</td>\n",
       "    </tr>\n",
       "    <tr>\n",
       "      <th>3</th>\n",
       "      <td>2</td>\n",
       "      <td>NO</td>\n",
       "      <td>1</td>\n",
       "      <td>1</td>\n",
       "      <td>33</td>\n",
       "      <td>M</td>\n",
       "      <td>2</td>\n",
       "      <td>0</td>\n",
       "      <td>1</td>\n",
       "      <td>0</td>\n",
       "      <td>2</td>\n",
       "      <td>1</td>\n",
       "      <td>120</td>\n",
       "      <td>1</td>\n",
       "      <td>0.515646</td>\n",
       "      <td>12</td>\n",
       "      <td>0</td>\n",
       "    </tr>\n",
       "    <tr>\n",
       "      <th>4</th>\n",
       "      <td>2</td>\n",
       "      <td>NO</td>\n",
       "      <td>1</td>\n",
       "      <td>1</td>\n",
       "      <td>29</td>\n",
       "      <td>F</td>\n",
       "      <td>1</td>\n",
       "      <td>0</td>\n",
       "      <td>1</td>\n",
       "      <td>1</td>\n",
       "      <td>2</td>\n",
       "      <td>1</td>\n",
       "      <td>24</td>\n",
       "      <td>2</td>\n",
       "      <td>0.614123</td>\n",
       "      <td>24</td>\n",
       "      <td>1</td>\n",
       "    </tr>\n",
       "  </tbody>\n",
       "</table>\n",
       "</div>"
      ],
      "text/plain": [
       "    CIBIL_SCORE_VALUE  NEW_CUST  CUS_CATGCODE    EMPLOYMENT_TYPE   AGE  SEX    \\\n",
       "0                    0      YES              1                  0   31      F   \n",
       "1                    0       NO              1                  1   40      F   \n",
       "2                    0      YES              1                  0   27      F   \n",
       "3                    2       NO              1                  1   33      M   \n",
       "4                    2       NO              1                  1   29      F   \n",
       "\n",
       "    NO_OF_DEPENDENTS    MARITAL    EDU_QUA    P_RESTYPE    P_CATEGORY   \\\n",
       "0                   3          0         0             1             4   \n",
       "1                   2          1         1             0             1   \n",
       "2                   3          0         0             1             2   \n",
       "3                   2          0         1             0             2   \n",
       "4                   1          0         1             1             2   \n",
       "\n",
       "    EMPLOYEE_TYPE     MON_IN_OCC    INCOM_EXP_GMI        LTV   TENURE   STATUS  \n",
       "0                2             36                0  0.767104        12       0  \n",
       "1                1             12                2  0.619077        24       0  \n",
       "2                2             72                0  0.848949        36       0  \n",
       "3                1            120                1  0.515646        12       0  \n",
       "4                1             24                2  0.614123        24       1  "
      ]
     },
     "execution_count": 8,
     "metadata": {},
     "output_type": "execute_result"
    }
   ],
   "source": [
    "df = df.drop('APP_ID',axis=1)\n",
    "df.head()"
   ]
  },
  {
   "cell_type": "code",
   "execution_count": null,
   "id": "d5eed63b",
   "metadata": {},
   "outputs": [],
   "source": []
  },
  {
   "cell_type": "code",
   "execution_count": 9,
   "id": "5c02c76b",
   "metadata": {},
   "outputs": [
    {
     "data": {
      "text/plain": [
       "Index([' CIBIL_SCORE_VALUE ', 'NEW_CUST', 'CUS_CATGCODE ', ' EMPLOYMENT_TYPE ',\n",
       "       'AGE', ' SEX  ', ' NO_OF_DEPENDENTS ', ' MARITAL ', ' EDU_QUA',\n",
       "       '  P_RESTYPE ', ' P_CATEGORY ', ' EMPLOYEE_TYPE ', '  MON_IN_OCC ',\n",
       "       ' INCOM_EXP_GMI ', 'LTV', ' TENURE ', 'STATUS'],\n",
       "      dtype='object')"
      ]
     },
     "execution_count": 9,
     "metadata": {},
     "output_type": "execute_result"
    }
   ],
   "source": [
    "df.columns"
   ]
  },
  {
   "cell_type": "code",
   "execution_count": 10,
   "id": "999708db",
   "metadata": {},
   "outputs": [
    {
     "data": {
      "text/html": [
       "<div>\n",
       "<style scoped>\n",
       "    .dataframe tbody tr th:only-of-type {\n",
       "        vertical-align: middle;\n",
       "    }\n",
       "\n",
       "    .dataframe tbody tr th {\n",
       "        vertical-align: top;\n",
       "    }\n",
       "\n",
       "    .dataframe thead th {\n",
       "        text-align: right;\n",
       "    }\n",
       "</style>\n",
       "<table border=\"1\" class=\"dataframe\">\n",
       "  <thead>\n",
       "    <tr style=\"text-align: right;\">\n",
       "      <th></th>\n",
       "      <th>cibil_score</th>\n",
       "      <th>new_cust</th>\n",
       "      <th>cus_catgcode</th>\n",
       "      <th>employment_type</th>\n",
       "      <th>age</th>\n",
       "      <th>sex</th>\n",
       "      <th>no_of_dependents</th>\n",
       "      <th>martial</th>\n",
       "      <th>edu_qua</th>\n",
       "      <th>p_restype</th>\n",
       "      <th>p_category</th>\n",
       "      <th>employee_type</th>\n",
       "      <th>mon_in_occ</th>\n",
       "      <th>income_exp_gmi</th>\n",
       "      <th>ltv</th>\n",
       "      <th>tenure</th>\n",
       "      <th>status</th>\n",
       "    </tr>\n",
       "  </thead>\n",
       "  <tbody>\n",
       "    <tr>\n",
       "      <th>0</th>\n",
       "      <td>0</td>\n",
       "      <td>YES</td>\n",
       "      <td>1</td>\n",
       "      <td>0</td>\n",
       "      <td>31</td>\n",
       "      <td>F</td>\n",
       "      <td>3</td>\n",
       "      <td>0</td>\n",
       "      <td>0</td>\n",
       "      <td>1</td>\n",
       "      <td>4</td>\n",
       "      <td>2</td>\n",
       "      <td>36</td>\n",
       "      <td>0</td>\n",
       "      <td>0.767104</td>\n",
       "      <td>12</td>\n",
       "      <td>0</td>\n",
       "    </tr>\n",
       "    <tr>\n",
       "      <th>1</th>\n",
       "      <td>0</td>\n",
       "      <td>NO</td>\n",
       "      <td>1</td>\n",
       "      <td>1</td>\n",
       "      <td>40</td>\n",
       "      <td>F</td>\n",
       "      <td>2</td>\n",
       "      <td>1</td>\n",
       "      <td>1</td>\n",
       "      <td>0</td>\n",
       "      <td>1</td>\n",
       "      <td>1</td>\n",
       "      <td>12</td>\n",
       "      <td>2</td>\n",
       "      <td>0.619077</td>\n",
       "      <td>24</td>\n",
       "      <td>0</td>\n",
       "    </tr>\n",
       "    <tr>\n",
       "      <th>2</th>\n",
       "      <td>0</td>\n",
       "      <td>YES</td>\n",
       "      <td>1</td>\n",
       "      <td>0</td>\n",
       "      <td>27</td>\n",
       "      <td>F</td>\n",
       "      <td>3</td>\n",
       "      <td>0</td>\n",
       "      <td>0</td>\n",
       "      <td>1</td>\n",
       "      <td>2</td>\n",
       "      <td>2</td>\n",
       "      <td>72</td>\n",
       "      <td>0</td>\n",
       "      <td>0.848949</td>\n",
       "      <td>36</td>\n",
       "      <td>0</td>\n",
       "    </tr>\n",
       "    <tr>\n",
       "      <th>3</th>\n",
       "      <td>2</td>\n",
       "      <td>NO</td>\n",
       "      <td>1</td>\n",
       "      <td>1</td>\n",
       "      <td>33</td>\n",
       "      <td>M</td>\n",
       "      <td>2</td>\n",
       "      <td>0</td>\n",
       "      <td>1</td>\n",
       "      <td>0</td>\n",
       "      <td>2</td>\n",
       "      <td>1</td>\n",
       "      <td>120</td>\n",
       "      <td>1</td>\n",
       "      <td>0.515646</td>\n",
       "      <td>12</td>\n",
       "      <td>0</td>\n",
       "    </tr>\n",
       "    <tr>\n",
       "      <th>4</th>\n",
       "      <td>2</td>\n",
       "      <td>NO</td>\n",
       "      <td>1</td>\n",
       "      <td>1</td>\n",
       "      <td>29</td>\n",
       "      <td>F</td>\n",
       "      <td>1</td>\n",
       "      <td>0</td>\n",
       "      <td>1</td>\n",
       "      <td>1</td>\n",
       "      <td>2</td>\n",
       "      <td>1</td>\n",
       "      <td>24</td>\n",
       "      <td>2</td>\n",
       "      <td>0.614123</td>\n",
       "      <td>24</td>\n",
       "      <td>1</td>\n",
       "    </tr>\n",
       "  </tbody>\n",
       "</table>\n",
       "</div>"
      ],
      "text/plain": [
       "   cibil_score new_cust  cus_catgcode  employment_type  age sex  \\\n",
       "0            0      YES             1                0   31   F   \n",
       "1            0       NO             1                1   40   F   \n",
       "2            0      YES             1                0   27   F   \n",
       "3            2       NO             1                1   33   M   \n",
       "4            2       NO             1                1   29   F   \n",
       "\n",
       "   no_of_dependents  martial  edu_qua  p_restype  p_category  employee_type  \\\n",
       "0                 3        0        0          1           4              2   \n",
       "1                 2        1        1          0           1              1   \n",
       "2                 3        0        0          1           2              2   \n",
       "3                 2        0        1          0           2              1   \n",
       "4                 1        0        1          1           2              1   \n",
       "\n",
       "   mon_in_occ  income_exp_gmi       ltv  tenure  status  \n",
       "0          36               0  0.767104      12       0  \n",
       "1          12               2  0.619077      24       0  \n",
       "2          72               0  0.848949      36       0  \n",
       "3         120               1  0.515646      12       0  \n",
       "4          24               2  0.614123      24       1  "
      ]
     },
     "execution_count": 10,
     "metadata": {},
     "output_type": "execute_result"
    }
   ],
   "source": [
    "## changing the confusing column names\n",
    "new_names = {' CIBIL_SCORE_VALUE ':'cibil_score','NEW_CUST':'new_cust','CUS_CATGCODE ':'cus_catgcode',\n",
    "             ' EMPLOYMENT_TYPE ':'employment_type','AGE':'age',' SEX  ':'sex',' NO_OF_DEPENDENTS ':'no_of_dependents',\n",
    "             ' MARITAL ':'martial',' EDU_QUA':'edu_qua','  P_RESTYPE ':'p_restype',' P_CATEGORY ':'p_category',\n",
    "             ' EMPLOYEE_TYPE ':'employee_type','  MON_IN_OCC ':'mon_in_occ',' INCOM_EXP_GMI ':'income_exp_gmi','LTV':'ltv',\n",
    "             ' TENURE ':'tenure','STATUS':'status'}\n",
    "df = df.rename(columns=new_names)\n",
    "df.head(5)"
   ]
  },
  {
   "cell_type": "code",
   "execution_count": null,
   "id": "63f5a1f9",
   "metadata": {},
   "outputs": [],
   "source": []
  },
  {
   "cell_type": "markdown",
   "id": "638526e9",
   "metadata": {},
   "source": [
    "## one-hot encoding"
   ]
  },
  {
   "cell_type": "code",
   "execution_count": 11,
   "id": "1163dc1d",
   "metadata": {},
   "outputs": [
    {
     "data": {
      "text/html": [
       "<div>\n",
       "<style scoped>\n",
       "    .dataframe tbody tr th:only-of-type {\n",
       "        vertical-align: middle;\n",
       "    }\n",
       "\n",
       "    .dataframe tbody tr th {\n",
       "        vertical-align: top;\n",
       "    }\n",
       "\n",
       "    .dataframe thead th {\n",
       "        text-align: right;\n",
       "    }\n",
       "</style>\n",
       "<table border=\"1\" class=\"dataframe\">\n",
       "  <thead>\n",
       "    <tr style=\"text-align: right;\">\n",
       "      <th></th>\n",
       "      <th>cibil_score</th>\n",
       "      <th>cus_catgcode</th>\n",
       "      <th>employment_type</th>\n",
       "      <th>age</th>\n",
       "      <th>no_of_dependents</th>\n",
       "      <th>martial</th>\n",
       "      <th>edu_qua</th>\n",
       "      <th>p_restype</th>\n",
       "      <th>p_category</th>\n",
       "      <th>employee_type</th>\n",
       "      <th>mon_in_occ</th>\n",
       "      <th>income_exp_gmi</th>\n",
       "      <th>ltv</th>\n",
       "      <th>tenure</th>\n",
       "      <th>status</th>\n",
       "      <th>new_cust_YES</th>\n",
       "      <th>sex_M</th>\n",
       "    </tr>\n",
       "  </thead>\n",
       "  <tbody>\n",
       "    <tr>\n",
       "      <th>0</th>\n",
       "      <td>0</td>\n",
       "      <td>1</td>\n",
       "      <td>0</td>\n",
       "      <td>31</td>\n",
       "      <td>3</td>\n",
       "      <td>0</td>\n",
       "      <td>0</td>\n",
       "      <td>1</td>\n",
       "      <td>4</td>\n",
       "      <td>2</td>\n",
       "      <td>36</td>\n",
       "      <td>0</td>\n",
       "      <td>0.767104</td>\n",
       "      <td>12</td>\n",
       "      <td>0</td>\n",
       "      <td>1</td>\n",
       "      <td>0</td>\n",
       "    </tr>\n",
       "    <tr>\n",
       "      <th>1</th>\n",
       "      <td>0</td>\n",
       "      <td>1</td>\n",
       "      <td>1</td>\n",
       "      <td>40</td>\n",
       "      <td>2</td>\n",
       "      <td>1</td>\n",
       "      <td>1</td>\n",
       "      <td>0</td>\n",
       "      <td>1</td>\n",
       "      <td>1</td>\n",
       "      <td>12</td>\n",
       "      <td>2</td>\n",
       "      <td>0.619077</td>\n",
       "      <td>24</td>\n",
       "      <td>0</td>\n",
       "      <td>0</td>\n",
       "      <td>0</td>\n",
       "    </tr>\n",
       "    <tr>\n",
       "      <th>2</th>\n",
       "      <td>0</td>\n",
       "      <td>1</td>\n",
       "      <td>0</td>\n",
       "      <td>27</td>\n",
       "      <td>3</td>\n",
       "      <td>0</td>\n",
       "      <td>0</td>\n",
       "      <td>1</td>\n",
       "      <td>2</td>\n",
       "      <td>2</td>\n",
       "      <td>72</td>\n",
       "      <td>0</td>\n",
       "      <td>0.848949</td>\n",
       "      <td>36</td>\n",
       "      <td>0</td>\n",
       "      <td>1</td>\n",
       "      <td>0</td>\n",
       "    </tr>\n",
       "    <tr>\n",
       "      <th>3</th>\n",
       "      <td>2</td>\n",
       "      <td>1</td>\n",
       "      <td>1</td>\n",
       "      <td>33</td>\n",
       "      <td>2</td>\n",
       "      <td>0</td>\n",
       "      <td>1</td>\n",
       "      <td>0</td>\n",
       "      <td>2</td>\n",
       "      <td>1</td>\n",
       "      <td>120</td>\n",
       "      <td>1</td>\n",
       "      <td>0.515646</td>\n",
       "      <td>12</td>\n",
       "      <td>0</td>\n",
       "      <td>0</td>\n",
       "      <td>1</td>\n",
       "    </tr>\n",
       "    <tr>\n",
       "      <th>4</th>\n",
       "      <td>2</td>\n",
       "      <td>1</td>\n",
       "      <td>1</td>\n",
       "      <td>29</td>\n",
       "      <td>1</td>\n",
       "      <td>0</td>\n",
       "      <td>1</td>\n",
       "      <td>1</td>\n",
       "      <td>2</td>\n",
       "      <td>1</td>\n",
       "      <td>24</td>\n",
       "      <td>2</td>\n",
       "      <td>0.614123</td>\n",
       "      <td>24</td>\n",
       "      <td>1</td>\n",
       "      <td>0</td>\n",
       "      <td>0</td>\n",
       "    </tr>\n",
       "  </tbody>\n",
       "</table>\n",
       "</div>"
      ],
      "text/plain": [
       "   cibil_score  cus_catgcode  employment_type  age  no_of_dependents  martial  \\\n",
       "0            0             1                0   31                 3        0   \n",
       "1            0             1                1   40                 2        1   \n",
       "2            0             1                0   27                 3        0   \n",
       "3            2             1                1   33                 2        0   \n",
       "4            2             1                1   29                 1        0   \n",
       "\n",
       "   edu_qua  p_restype  p_category  employee_type  mon_in_occ  income_exp_gmi  \\\n",
       "0        0          1           4              2          36               0   \n",
       "1        1          0           1              1          12               2   \n",
       "2        0          1           2              2          72               0   \n",
       "3        1          0           2              1         120               1   \n",
       "4        1          1           2              1          24               2   \n",
       "\n",
       "        ltv  tenure  status  new_cust_YES  sex_M  \n",
       "0  0.767104      12       0             1      0  \n",
       "1  0.619077      24       0             0      0  \n",
       "2  0.848949      36       0             1      0  \n",
       "3  0.515646      12       0             0      1  \n",
       "4  0.614123      24       1             0      0  "
      ]
     },
     "execution_count": 11,
     "metadata": {},
     "output_type": "execute_result"
    }
   ],
   "source": [
    "df = pd.get_dummies(df,columns=[\"new_cust\",\"sex\"],drop_first=True) # we are dropping the redundant column to reduce the compute time.\n",
    "df.head(5)"
   ]
  },
  {
   "cell_type": "markdown",
   "id": "df08464e",
   "metadata": {},
   "source": [
    "## seeing the status "
   ]
  },
  {
   "cell_type": "code",
   "execution_count": 12,
   "id": "2a0ba16c",
   "metadata": {},
   "outputs": [
    {
     "data": {
      "text/plain": [
       "0    8283\n",
       "1    5016\n",
       "Name: status, dtype: int64"
      ]
     },
     "execution_count": 12,
     "metadata": {},
     "output_type": "execute_result"
    }
   ],
   "source": [
    "df['status'].value_counts()"
   ]
  },
  {
   "cell_type": "code",
   "execution_count": 13,
   "id": "a528f48d",
   "metadata": {},
   "outputs": [
    {
     "data": {
      "image/png": "[encoded data removed]",
      "text/plain": [
       "<Figure size 432x288 with 1 Axes>"
      ]
     },
     "metadata": {
      "needs_background": "light"
     },
     "output_type": "display_data"
    }
   ],
   "source": [
    "sns.countplot(data=df,x='status');"
   ]
  },
  {
   "cell_type": "markdown",
   "id": "83423ffc",
   "metadata": {},
   "source": [
    "### CONCLUSION: more rejections than approvals"
   ]
  },
  {
   "cell_type": "code",
   "execution_count": null,
   "id": "f335b444",
   "metadata": {},
   "outputs": [],
   "source": []
  },
  {
   "cell_type": "markdown",
   "id": "b8d88fab",
   "metadata": {},
   "source": [
    "## checking if there is any relationship between Age of client and loan approval status"
   ]
  },
  {
   "cell_type": "code",
   "execution_count": 14,
   "id": "c792b3b9",
   "metadata": {},
   "outputs": [
    {
     "data": {
      "image/png": "[encoded data removed]",
      "text/plain": [
       "<Figure size 432x288 with 1 Axes>"
      ]
     },
     "metadata": {
      "needs_background": "light"
     },
     "output_type": "display_data"
    }
   ],
   "source": [
    "sns.boxplot(data=df,x='status',y='age')\n",
    "plt.show()"
   ]
  },
  {
   "cell_type": "code",
   "execution_count": 15,
   "id": "de228d45",
   "metadata": {},
   "outputs": [
    {
     "data": {
      "image/png": "[encoded data removed]",
      "text/plain": [
       "<Figure size 432x288 with 1 Axes>"
      ]
     },
     "metadata": {
      "needs_background": "light"
     },
     "output_type": "display_data"
    }
   ],
   "source": [
    "sns.scatterplot(data=df,x='age',y='status');"
   ]
  },
  {
   "cell_type": "markdown",
   "id": "2a87ba7c",
   "metadata": {},
   "source": [
    "### CONCLUSION: median age of people whose loan has been approved is almost as same(almost) as those who got rejected for the same."
   ]
  },
  {
   "cell_type": "code",
   "execution_count": null,
   "id": "ed2a582f",
   "metadata": {},
   "outputs": [],
   "source": []
  },
  {
   "cell_type": "markdown",
   "id": "348f0f7d",
   "metadata": {},
   "source": [
    "## getting a correlation matrix of all the features of the data"
   ]
  },
  {
   "cell_type": "code",
   "execution_count": 16,
   "id": "9f23fa4a",
   "metadata": {},
   "outputs": [
    {
     "data": {
      "image/png": "[encoded data removed]",
      "text/plain": [
       "<Figure size 1152x360 with 2 Axes>"
      ]
     },
     "metadata": {
      "needs_background": "light"
     },
     "output_type": "display_data"
    }
   ],
   "source": [
    "plt.figure(figsize=(16,5))\n",
    "sns.heatmap(df.corr(),annot=True)\n",
    "plt.show()"
   ]
  },
  {
   "cell_type": "code",
   "execution_count": null,
   "id": "c6ea0847",
   "metadata": {},
   "outputs": [],
   "source": []
  },
  {
   "cell_type": "markdown",
   "id": "ebf2d06f",
   "metadata": {},
   "source": [
    "## Train Test splitting"
   ]
  },
  {
   "cell_type": "code",
   "execution_count": 17,
   "id": "4f29302c",
   "metadata": {},
   "outputs": [],
   "source": [
    "X = df.drop('status',axis=1) # cap X because it is a matrix\n",
    "y = df['status']"
   ]
  },
  {
   "cell_type": "code",
   "execution_count": 18,
   "id": "87e4300b",
   "metadata": {},
   "outputs": [
    {
     "data": {
      "text/html": [
       "<div>\n",
       "<style scoped>\n",
       "    .dataframe tbody tr th:only-of-type {\n",
       "        vertical-align: middle;\n",
       "    }\n",
       "\n",
       "    .dataframe tbody tr th {\n",
       "        vertical-align: top;\n",
       "    }\n",
       "\n",
       "    .dataframe thead th {\n",
       "        text-align: right;\n",
       "    }\n",
       "</style>\n",
       "<table border=\"1\" class=\"dataframe\">\n",
       "  <thead>\n",
       "    <tr style=\"text-align: right;\">\n",
       "      <th></th>\n",
       "      <th>cibil_score</th>\n",
       "      <th>cus_catgcode</th>\n",
       "      <th>employment_type</th>\n",
       "      <th>age</th>\n",
       "      <th>no_of_dependents</th>\n",
       "      <th>martial</th>\n",
       "      <th>edu_qua</th>\n",
       "      <th>p_restype</th>\n",
       "      <th>p_category</th>\n",
       "      <th>employee_type</th>\n",
       "      <th>mon_in_occ</th>\n",
       "      <th>income_exp_gmi</th>\n",
       "      <th>ltv</th>\n",
       "      <th>tenure</th>\n",
       "      <th>new_cust_YES</th>\n",
       "      <th>sex_M</th>\n",
       "    </tr>\n",
       "  </thead>\n",
       "  <tbody>\n",
       "    <tr>\n",
       "      <th>0</th>\n",
       "      <td>0</td>\n",
       "      <td>1</td>\n",
       "      <td>0</td>\n",
       "      <td>31</td>\n",
       "      <td>3</td>\n",
       "      <td>0</td>\n",
       "      <td>0</td>\n",
       "      <td>1</td>\n",
       "      <td>4</td>\n",
       "      <td>2</td>\n",
       "      <td>36</td>\n",
       "      <td>0</td>\n",
       "      <td>0.767104</td>\n",
       "      <td>12</td>\n",
       "      <td>1</td>\n",
       "      <td>0</td>\n",
       "    </tr>\n",
       "    <tr>\n",
       "      <th>1</th>\n",
       "      <td>0</td>\n",
       "      <td>1</td>\n",
       "      <td>1</td>\n",
       "      <td>40</td>\n",
       "      <td>2</td>\n",
       "      <td>1</td>\n",
       "      <td>1</td>\n",
       "      <td>0</td>\n",
       "      <td>1</td>\n",
       "      <td>1</td>\n",
       "      <td>12</td>\n",
       "      <td>2</td>\n",
       "      <td>0.619077</td>\n",
       "      <td>24</td>\n",
       "      <td>0</td>\n",
       "      <td>0</td>\n",
       "    </tr>\n",
       "    <tr>\n",
       "      <th>2</th>\n",
       "      <td>0</td>\n",
       "      <td>1</td>\n",
       "      <td>0</td>\n",
       "      <td>27</td>\n",
       "      <td>3</td>\n",
       "      <td>0</td>\n",
       "      <td>0</td>\n",
       "      <td>1</td>\n",
       "      <td>2</td>\n",
       "      <td>2</td>\n",
       "      <td>72</td>\n",
       "      <td>0</td>\n",
       "      <td>0.848949</td>\n",
       "      <td>36</td>\n",
       "      <td>1</td>\n",
       "      <td>0</td>\n",
       "    </tr>\n",
       "    <tr>\n",
       "      <th>3</th>\n",
       "      <td>2</td>\n",
       "      <td>1</td>\n",
       "      <td>1</td>\n",
       "      <td>33</td>\n",
       "      <td>2</td>\n",
       "      <td>0</td>\n",
       "      <td>1</td>\n",
       "      <td>0</td>\n",
       "      <td>2</td>\n",
       "      <td>1</td>\n",
       "      <td>120</td>\n",
       "      <td>1</td>\n",
       "      <td>0.515646</td>\n",
       "      <td>12</td>\n",
       "      <td>0</td>\n",
       "      <td>1</td>\n",
       "    </tr>\n",
       "    <tr>\n",
       "      <th>4</th>\n",
       "      <td>2</td>\n",
       "      <td>1</td>\n",
       "      <td>1</td>\n",
       "      <td>29</td>\n",
       "      <td>1</td>\n",
       "      <td>0</td>\n",
       "      <td>1</td>\n",
       "      <td>1</td>\n",
       "      <td>2</td>\n",
       "      <td>1</td>\n",
       "      <td>24</td>\n",
       "      <td>2</td>\n",
       "      <td>0.614123</td>\n",
       "      <td>24</td>\n",
       "      <td>0</td>\n",
       "      <td>0</td>\n",
       "    </tr>\n",
       "  </tbody>\n",
       "</table>\n",
       "</div>"
      ],
      "text/plain": [
       "   cibil_score  cus_catgcode  employment_type  age  no_of_dependents  martial  \\\n",
       "0            0             1                0   31                 3        0   \n",
       "1            0             1                1   40                 2        1   \n",
       "2            0             1                0   27                 3        0   \n",
       "3            2             1                1   33                 2        0   \n",
       "4            2             1                1   29                 1        0   \n",
       "\n",
       "   edu_qua  p_restype  p_category  employee_type  mon_in_occ  income_exp_gmi  \\\n",
       "0        0          1           4              2          36               0   \n",
       "1        1          0           1              1          12               2   \n",
       "2        0          1           2              2          72               0   \n",
       "3        1          0           2              1         120               1   \n",
       "4        1          1           2              1          24               2   \n",
       "\n",
       "        ltv  tenure  new_cust_YES  sex_M  \n",
       "0  0.767104      12             1      0  \n",
       "1  0.619077      24             0      0  \n",
       "2  0.848949      36             1      0  \n",
       "3  0.515646      12             0      1  \n",
       "4  0.614123      24             0      0  "
      ]
     },
     "execution_count": 18,
     "metadata": {},
     "output_type": "execute_result"
    }
   ],
   "source": [
    "X.head(5)"
   ]
  },
  {
   "cell_type": "code",
   "execution_count": 19,
   "id": "1fe7e6a5",
   "metadata": {},
   "outputs": [
    {
     "data": {
      "text/plain": [
       "0        0\n",
       "1        0\n",
       "2        0\n",
       "3        0\n",
       "4        1\n",
       "        ..\n",
       "13294    1\n",
       "13295    1\n",
       "13296    1\n",
       "13297    0\n",
       "13298    0\n",
       "Name: status, Length: 13299, dtype: int64"
      ]
     },
     "execution_count": 19,
     "metadata": {},
     "output_type": "execute_result"
    }
   ],
   "source": [
    "y"
   ]
  },
  {
   "cell_type": "code",
   "execution_count": 20,
   "id": "07558da2",
   "metadata": {},
   "outputs": [
    {
     "data": {
      "text/plain": [
       "((10639, 16), (2660, 16), (10639,), (2660,))"
      ]
     },
     "execution_count": 20,
     "metadata": {},
     "output_type": "execute_result"
    }
   ],
   "source": [
    "from sklearn.model_selection import train_test_split\n",
    "\n",
    "x_train,x_test,y_train,y_test = train_test_split(X,y,test_size=0.2,random_state=42)\n",
    "x_train.shape,x_test.shape,y_train.shape,y_test.shape"
   ]
  },
  {
   "cell_type": "code",
   "execution_count": null,
   "id": "d9aaccd4",
   "metadata": {},
   "outputs": [],
   "source": []
  },
  {
   "cell_type": "markdown",
   "id": "04bf6088",
   "metadata": {},
   "source": [
    "## Standardize the features"
   ]
  },
  {
   "cell_type": "code",
   "execution_count": 21,
   "id": "67efdc7f",
   "metadata": {},
   "outputs": [],
   "source": [
    "from sklearn.preprocessing import StandardScaler\n",
    "\n",
    "scaler = StandardScaler()\n",
    "scaled_x_train = scaler.fit_transform(x_train)\n",
    "scaled_x_test  = scaler.transform(x_test)"
   ]
  },
  {
   "cell_type": "code",
   "execution_count": 22,
   "id": "fd5df88c",
   "metadata": {},
   "outputs": [
    {
     "data": {
      "text/plain": [
       "array([[-1.20188129,  0.31095187, -1.38607256, ..., -0.90580899,\n",
       "         1.43858702, -0.33422035],\n",
       "       [-0.04470346,  0.31095187,  0.72146295, ..., -0.10533538,\n",
       "        -0.69512653,  2.99203808],\n",
       "       [ 1.11247438,  0.31095187,  0.72146295, ..., -0.10533538,\n",
       "        -0.69512653, -0.33422035],\n",
       "       ...,\n",
       "       [-1.20188129,  0.31095187, -1.38607256, ..., -0.10533538,\n",
       "         1.43858702, -0.33422035],\n",
       "       [-1.20188129,  0.31095187,  0.72146295, ..., -0.10533538,\n",
       "         1.43858702, -0.33422035],\n",
       "       [ 1.11247438,  0.31095187,  0.72146295, ..., -1.70628261,\n",
       "        -0.69512653, -0.33422035]])"
      ]
     },
     "execution_count": 22,
     "metadata": {},
     "output_type": "execute_result"
    }
   ],
   "source": [
    "scaled_x_train"
   ]
  },
  {
   "cell_type": "code",
   "execution_count": 23,
   "id": "fb60e198",
   "metadata": {},
   "outputs": [
    {
     "data": {
      "text/plain": [
       "array([[ 1.11247438,  0.31095187,  0.72146295, ..., -1.70628261,\n",
       "        -0.69512653, -0.33422035],\n",
       "       [ 1.11247438,  0.31095187,  0.72146295, ..., -0.90580899,\n",
       "        -0.69512653, -0.33422035],\n",
       "       [ 1.11247438,  0.31095187, -1.38607256, ...,  1.49561186,\n",
       "        -0.69512653, -0.33422035],\n",
       "       ...,\n",
       "       [-0.04470346, -3.21593182,  0.72146295, ..., -0.10533538,\n",
       "        -0.69512653, -0.33422035],\n",
       "       [-1.20188129,  0.31095187, -1.38607256, ...,  1.49561186,\n",
       "         1.43858702, -0.33422035],\n",
       "       [-0.04470346,  0.31095187,  0.72146295, ...,  1.49561186,\n",
       "        -0.69512653, -0.33422035]])"
      ]
     },
     "execution_count": 23,
     "metadata": {},
     "output_type": "execute_result"
    }
   ],
   "source": [
    "scaled_x_test"
   ]
  },
  {
   "cell_type": "code",
   "execution_count": null,
   "id": "e1ba96ac",
   "metadata": {},
   "outputs": [],
   "source": []
  },
  {
   "cell_type": "markdown",
   "id": "6c269a37",
   "metadata": {},
   "source": [
    "# Algorithm Understanding:\n",
    "\n",
    "## Algorithm:\n",
    "* Algorithm we are going to use is: **Logistic Regression**\n",
    "* The reason is it is primarily used to classification tasks.\n",
    "* Unlike Linear Regression Logistic Regression uses a sigmoid function to convert the output to choose between 0 and 1.\n",
    "* Logistic Regression is computationally cheap especially for Binary classifications, in our case we want to create a model that predicts whether the client gets a approval or rejection based on the values he supply for his parameters(a.k.a features).\n",
    "\n",
    "## Formulaic understanding:\n",
    "* if the linear regression formula follows this pattern: \n",
    "* $ \\sum{w_i*x_i} + b $ \n",
    "  * where, \n",
    "  * w_i is slope a.k.a weights a.k.a coefficients.\n",
    "  * x_i is the value of x at ith index.\n",
    "  * b is bias a.k.a intercept.\n",
    "* The logistic regression would follow the following pattern:\n",
    "* $ p(y=1|x) = \\sigma{(\\sum{w_i*x_i} + b)} $\n",
    "  * where,\n",
    "  * $\\sigma $ is the sigmoid function.\n",
    "  * p(y=1|x) is the probability of y equaling 1 given X(feautures).\n",
    "  * this sigmoid function gives a probability value between 0 and 1.\n",
    "  \n",
    "\n"
   ]
  },
  {
   "cell_type": "code",
   "execution_count": null,
   "id": "7dfd98e4",
   "metadata": {},
   "outputs": [],
   "source": []
  },
  {
   "cell_type": "markdown",
   "id": "eec6ddc0",
   "metadata": {},
   "source": [
    "# Model Development & Evaluation & Tuning"
   ]
  },
  {
   "cell_type": "code",
   "execution_count": 34,
   "id": "b9b7dc80",
   "metadata": {},
   "outputs": [
    {
     "name": "stderr",
     "output_type": "stream",
     "text": [
      "C:\\Users\\ADMIN\\anaconda3\\lib\\site-packages\\sklearn\\model_selection\\_validation.py:372: FitFailedWarning: \n",
      "150 fits failed out of a total of 300.\n",
      "The score on these train-test partitions for these parameters will be set to nan.\n",
      "If these failures are not expected, you can try to debug them by setting error_score='raise'.\n",
      "\n",
      "Below are more details about the failures:\n",
      "--------------------------------------------------------------------------------\n",
      "50 fits failed with the following error:\n",
      "Traceback (most recent call last):\n",
      "  File \"C:\\Users\\ADMIN\\anaconda3\\lib\\site-packages\\sklearn\\model_selection\\_validation.py\", line 680, in _fit_and_score\n",
      "    estimator.fit(X_train, y_train, **fit_params)\n",
      "  File \"C:\\Users\\ADMIN\\anaconda3\\lib\\site-packages\\sklearn\\linear_model\\_logistic.py\", line 1461, in fit\n",
      "    solver = _check_solver(self.solver, self.penalty, self.dual)\n",
      "  File \"C:\\Users\\ADMIN\\anaconda3\\lib\\site-packages\\sklearn\\linear_model\\_logistic.py\", line 447, in _check_solver\n",
      "    raise ValueError(\n",
      "ValueError: Solver lbfgs supports only 'l2' or 'none' penalties, got l1 penalty.\n",
      "\n",
      "--------------------------------------------------------------------------------\n",
      "50 fits failed with the following error:\n",
      "Traceback (most recent call last):\n",
      "  File \"C:\\Users\\ADMIN\\anaconda3\\lib\\site-packages\\sklearn\\model_selection\\_validation.py\", line 680, in _fit_and_score\n",
      "    estimator.fit(X_train, y_train, **fit_params)\n",
      "  File \"C:\\Users\\ADMIN\\anaconda3\\lib\\site-packages\\sklearn\\linear_model\\_logistic.py\", line 1461, in fit\n",
      "    solver = _check_solver(self.solver, self.penalty, self.dual)\n",
      "  File \"C:\\Users\\ADMIN\\anaconda3\\lib\\site-packages\\sklearn\\linear_model\\_logistic.py\", line 447, in _check_solver\n",
      "    raise ValueError(\n",
      "ValueError: Solver lbfgs supports only 'l2' or 'none' penalties, got elasticnet penalty.\n",
      "\n",
      "--------------------------------------------------------------------------------\n",
      "50 fits failed with the following error:\n",
      "Traceback (most recent call last):\n",
      "  File \"C:\\Users\\ADMIN\\anaconda3\\lib\\site-packages\\sklearn\\model_selection\\_validation.py\", line 680, in _fit_and_score\n",
      "    estimator.fit(X_train, y_train, **fit_params)\n",
      "  File \"C:\\Users\\ADMIN\\anaconda3\\lib\\site-packages\\sklearn\\linear_model\\_logistic.py\", line 1471, in fit\n",
      "    raise ValueError(\n",
      "ValueError: l1_ratio must be between 0 and 1; got (l1_ratio=None)\n",
      "\n",
      "  warnings.warn(some_fits_failed_message, FitFailedWarning)\n",
      "C:\\Users\\ADMIN\\anaconda3\\lib\\site-packages\\sklearn\\model_selection\\_search.py:969: UserWarning: One or more of the test scores are non-finite: [       nan 0.64254041 0.64254046 0.64254046        nan        nan\n",
      "        nan 0.64244647 0.6422585  0.64235253        nan        nan\n",
      "        nan 0.64235249 0.64235249 0.64235249        nan        nan\n",
      "        nan 0.64235249 0.64235249 0.64235249        nan        nan\n",
      "        nan 0.64235249 0.64235249 0.64235249        nan        nan\n",
      "        nan 0.64235249 0.64235249 0.64235249        nan        nan\n",
      "        nan 0.64235249 0.64235249 0.64235249        nan        nan\n",
      "        nan 0.64235249 0.64235249 0.64235249        nan        nan\n",
      "        nan 0.64235249 0.64235249 0.64235249        nan        nan\n",
      "        nan 0.64235249 0.64235249 0.64235249        nan        nan]\n",
      "  warnings.warn(\n"
     ]
    },
    {
     "data": {
      "text/plain": [
       "GridSearchCV(estimator=LogisticRegression(),\n",
       "             param_grid={'C': array([1.00000000e+00, 2.78255940e+00, 7.74263683e+00, 2.15443469e+01,\n",
       "       5.99484250e+01, 1.66810054e+02, 4.64158883e+02, 1.29154967e+03,\n",
       "       3.59381366e+03, 1.00000000e+04]),\n",
       "                         'penalty': ['l1', 'l2', 'elasticnet'],\n",
       "                         'solver': ['lbfgs', 'saga']})"
      ]
     },
     "execution_count": 34,
     "metadata": {},
     "output_type": "execute_result"
    }
   ],
   "source": [
    "from sklearn.linear_model import LogisticRegression\n",
    "from sklearn.model_selection import GridSearchCV\n",
    "model = LogisticRegression()\n",
    "\n",
    "# hyperparameter tuning\n",
    "penalty = ['l1', 'l2','elasticnet'] # l1- lasso, l2 - ridge\n",
    "\n",
    "# Use logarithmically spaced C values\n",
    "C = np.logspace(0,4,10) # it is regularization strength to make the model well on unseen data as well as it does on seen data\n",
    "\n",
    "solver = ['lbfgs','saga','newton-cholesky','liblinear']\n",
    "param_grid = {'penalty':penalty,'C':C,'solver':solver}\n",
    "\n",
    "# grid model\n",
    "grid_search = GridSearchCV(model,param_grid)\n",
    "\n",
    "grid_search.fit(scaled_x_train,y_train)"
   ]
  },
  {
   "cell_type": "code",
   "execution_count": 46,
   "id": "0650cecb",
   "metadata": {},
   "outputs": [
    {
     "data": {
      "text/plain": [
       "{'C': 1.0, 'penalty': 'l2', 'solver': 'lbfgs'}"
      ]
     },
     "execution_count": 46,
     "metadata": {},
     "output_type": "execute_result"
    }
   ],
   "source": [
    "grid_search.best_params_"
   ]
  },
  {
   "cell_type": "code",
   "execution_count": null,
   "id": "303fa364",
   "metadata": {},
   "outputs": [],
   "source": []
  },
  {
   "cell_type": "markdown",
   "id": "e99b8707",
   "metadata": {},
   "source": [
    "## applying only the best parameters in model"
   ]
  },
  {
   "cell_type": "code",
   "execution_count": 36,
   "id": "ee515165",
   "metadata": {},
   "outputs": [
    {
     "data": {
      "text/plain": [
       "LogisticRegression()"
      ]
     },
     "execution_count": 36,
     "metadata": {},
     "output_type": "execute_result"
    }
   ],
   "source": [
    "model = LogisticRegression(penalty='l2',solver='lbfgs',C=1.0)\n",
    "\n",
    "model.fit(scaled_x_train,y_train)"
   ]
  },
  {
   "cell_type": "code",
   "execution_count": 37,
   "id": "dd643d23",
   "metadata": {},
   "outputs": [
    {
     "data": {
      "text/plain": [
       "array([[-0.65361868,  0.04417086, -0.06260577,  0.05161825, -0.02220235,\n",
       "         0.00714985, -0.07123121,  0.07216343, -0.00568908, -0.02691097,\n",
       "        -0.05191706,  0.03321465,  0.09513176,  0.05666964, -0.70051975,\n",
       "        -0.01332887]])"
      ]
     },
     "execution_count": 37,
     "metadata": {},
     "output_type": "execute_result"
    }
   ],
   "source": [
    "model.coef_"
   ]
  },
  {
   "cell_type": "code",
   "execution_count": 38,
   "id": "dd702939",
   "metadata": {},
   "outputs": [
    {
     "data": {
      "text/plain": [
       "array([-0.65361868,  0.04417086, -0.06260577,  0.05161825, -0.02220235,\n",
       "        0.00714985, -0.07123121,  0.07216343, -0.00568908, -0.02691097,\n",
       "       -0.05191706,  0.03321465,  0.09513176,  0.05666964, -0.70051975,\n",
       "       -0.01332887])"
      ]
     },
     "execution_count": 38,
     "metadata": {},
     "output_type": "execute_result"
    }
   ],
   "source": [
    "model.coef_[0]"
   ]
  },
  {
   "cell_type": "markdown",
   "id": "abd63332",
   "metadata": {},
   "source": [
    "## plot the values of coefficients of our model as barplot"
   ]
  },
  {
   "cell_type": "code",
   "execution_count": 40,
   "id": "97f5f1db",
   "metadata": {},
   "outputs": [
    {
     "data": {
      "image/png": "[encoded data removed]",
      "text/plain": [
       "<Figure size 1152x360 with 1 Axes>"
      ]
     },
     "metadata": {
      "needs_background": "light"
     },
     "output_type": "display_data"
    }
   ],
   "source": [
    "coef = pd.Series(index=X.columns,data=model.coef_[0])\n",
    "coef = coef.sort_values()\n",
    "\n",
    "plt.figure(figsize=(16,5))\n",
    "sns.barplot(x=coef.index,y=coef.values)\n",
    "\n",
    "plt.xticks(rotation=90)\n",
    "plt.show()"
   ]
  },
  {
   "cell_type": "markdown",
   "id": "f1aa6ae8",
   "metadata": {},
   "source": [
    "## interpretation of coefficients\n",
    "\n",
    "* if the customer is new, then his prospect of getting approval for his loan is less.\n",
    "* if the cibil score is low, then he wouldn't cut the line.\n",
    "* if the customer's asset to loan ratio is high then he may get that beseeched nod for his loan."
   ]
  },
  {
   "cell_type": "code",
   "execution_count": null,
   "id": "11984eff",
   "metadata": {},
   "outputs": [],
   "source": []
  },
  {
   "cell_type": "markdown",
   "id": "70219428",
   "metadata": {},
   "source": [
    "## Model Evaluation:"
   ]
  },
  {
   "cell_type": "code",
   "execution_count": 43,
   "id": "7e85ffe9",
   "metadata": {},
   "outputs": [
    {
     "data": {
      "text/plain": [
       "array([[1455,  191],\n",
       "       [ 774,  240]], dtype=int64)"
      ]
     },
     "execution_count": 43,
     "metadata": {},
     "output_type": "execute_result"
    }
   ],
   "source": [
    "from sklearn.metrics import confusion_matrix,classification_report,ConfusionMatrixDisplay\n",
    "\n",
    "actual = y_test\n",
    "prediction = model.predict(scaled_x_test)\n",
    "\n",
    "\n",
    "confusion_matrix(actual,prediction)"
   ]
  },
  {
   "cell_type": "code",
   "execution_count": 44,
   "id": "ff85ef8e",
   "metadata": {},
   "outputs": [
    {
     "data": {
      "image/png": "[encoded data removed]",
      "text/plain": [
       "<Figure size 432x288 with 2 Axes>"
      ]
     },
     "metadata": {
      "needs_background": "light"
     },
     "output_type": "display_data"
    }
   ],
   "source": [
    "ConfusionMatrixDisplay.from_estimator(model,scaled_x_test,y_test);"
   ]
  },
  {
   "cell_type": "code",
   "execution_count": 45,
   "id": "db957279",
   "metadata": {},
   "outputs": [
    {
     "name": "stdout",
     "output_type": "stream",
     "text": [
      "              precision    recall  f1-score   support\n",
      "\n",
      "           0       0.65      0.88      0.75      1646\n",
      "           1       0.56      0.24      0.33      1014\n",
      "\n",
      "    accuracy                           0.64      2660\n",
      "   macro avg       0.60      0.56      0.54      2660\n",
      "weighted avg       0.62      0.64      0.59      2660\n",
      "\n"
     ]
    }
   ],
   "source": [
    "print(classification_report(actual,prediction))"
   ]
  },
  {
   "cell_type": "code",
   "execution_count": null,
   "id": "1e718fa1",
   "metadata": {},
   "outputs": [],
   "source": []
  },
  {
   "cell_type": "code",
   "execution_count": 57,
   "id": "6136a289",
   "metadata": {},
   "outputs": [],
   "source": [
    "## doing the evaluation in a function\n",
    "\n",
    "def evaluation_report(scaled_x_test,y_test,model):\n",
    "    \"\"\"\n",
    "    pass in:\n",
    "    1. scaled_x_test\n",
    "    2. y_test: actual labels.\n",
    "    3. model\n",
    "    to get the evaluation report.\n",
    "    \"\"\"\n",
    "    from sklearn.metrics import confusion_matrix,classification_report,ConfusionMatrixDisplay\n",
    "    actual = y_test\n",
    "    prediction = model.predict(scaled_x_test)\n",
    "    confusion_matrix = confusion_matrix(actual,prediction)\n",
    "    ConfusionMatrixDisplay.from_estimator(model,scaled_x_test,y_test)\n",
    "    print(classification_report(actual,prediction))"
   ]
  },
  {
   "cell_type": "code",
   "execution_count": null,
   "id": "ed7e1c4c",
   "metadata": {},
   "outputs": [],
   "source": []
  },
  {
   "cell_type": "markdown",
   "id": "027e15ce",
   "metadata": {},
   "source": [
    "## AdaBoost Classifier:\n",
    "* lets use this DecisionTreeClassifier algorithm to see if we would get more accuracy in prediction and less false positives as is in this model.\n"
   ]
  },
  {
   "cell_type": "code",
   "execution_count": 52,
   "id": "e215091b",
   "metadata": {},
   "outputs": [
    {
     "data": {
      "text/plain": [
       "GridSearchCV(estimator=AdaBoostClassifier(),\n",
       "             param_grid={'n_estimators': [1, 5, 10, 20, 40, 100]})"
      ]
     },
     "execution_count": 52,
     "metadata": {},
     "output_type": "execute_result"
    }
   ],
   "source": [
    "from sklearn.ensemble import AdaBoostClassifier\n",
    "\n",
    "model2 = AdaBoostClassifier()\n",
    "\n",
    "\n",
    "\"\"\"\n",
    "1. n_estimators are\n",
    "2. max_depth is allowed depth of the decision tree.\n",
    "\"\"\"\n",
    "param_grid = {\"n_estimators\":[1,5,10,20,40,100]}\n",
    "grid_search = GridSearchCV(model2,param_grid)\n",
    "grid_search.fit(scaled_x_train,y_train)"
   ]
  },
  {
   "cell_type": "code",
   "execution_count": 53,
   "id": "91c51e92",
   "metadata": {},
   "outputs": [
    {
     "data": {
      "text/plain": [
       "{'n_estimators': 5}"
      ]
     },
     "execution_count": 53,
     "metadata": {},
     "output_type": "execute_result"
    }
   ],
   "source": [
    "grid_search.best_params_"
   ]
  },
  {
   "cell_type": "code",
   "execution_count": 54,
   "id": "d4cb1fe1",
   "metadata": {},
   "outputs": [
    {
     "data": {
      "text/plain": [
       "AdaBoostClassifier(n_estimators=5)"
      ]
     },
     "execution_count": 54,
     "metadata": {},
     "output_type": "execute_result"
    }
   ],
   "source": [
    "# recreating(tuning) the model with best parameter\n",
    "model2 = AdaBoostClassifier(n_estimators=5)\n",
    "\n",
    "model2.fit(scaled_x_train,y_train)"
   ]
  },
  {
   "cell_type": "code",
   "execution_count": 59,
   "id": "0b230bd2",
   "metadata": {},
   "outputs": [
    {
     "name": "stdout",
     "output_type": "stream",
     "text": [
      "              precision    recall  f1-score   support\n",
      "\n",
      "           0       0.68      0.84      0.75      1646\n",
      "           1       0.58      0.37      0.45      1014\n",
      "\n",
      "    accuracy                           0.66      2660\n",
      "   macro avg       0.63      0.60      0.60      2660\n",
      "weighted avg       0.64      0.66      0.64      2660\n",
      "\n"
     ]
    },
    {
     "data": {
      "image/png": "[encoded data removed]",
      "text/plain": [
       "<Figure size 432x288 with 2 Axes>"
      ]
     },
     "metadata": {
      "needs_background": "light"
     },
     "output_type": "display_data"
    }
   ],
   "source": [
    "evaluation_report(scaled_x_test,y_test,model2)"
   ]
  },
  {
   "cell_type": "code",
   "execution_count": null,
   "id": "6f847fea",
   "metadata": {},
   "outputs": [],
   "source": []
  },
  {
   "cell_type": "markdown",
   "id": "5520e8a5",
   "metadata": {},
   "source": [
    "## Gradient Boosting Algorithm"
   ]
  },
  {
   "cell_type": "code",
   "execution_count": 65,
   "id": "e59a50c7",
   "metadata": {},
   "outputs": [
    {
     "data": {
      "text/plain": [
       "GridSearchCV(estimator=GradientBoostingClassifier(),\n",
       "             param_grid={'max_depth': [3, 4, 5, 6],\n",
       "                         'n_estimators': [1, 5, 10, 20, 40, 100]})"
      ]
     },
     "execution_count": 65,
     "metadata": {},
     "output_type": "execute_result"
    }
   ],
   "source": [
    "from sklearn.ensemble import GradientBoostingClassifier\n",
    "\n",
    "model3 = GradientBoostingClassifier()\n",
    "\n",
    "param_grid = {\"n_estimators\":[1,5,10,20,40,100],'max_depth':[3,4,5,6]}\n",
    "\n",
    "grid_search = GridSearchCV(model3,param_grid)\n",
    "\n",
    "grid_search.fit(scaled_x_train,y_train)"
   ]
  },
  {
   "cell_type": "code",
   "execution_count": 67,
   "id": "f33a30ae",
   "metadata": {},
   "outputs": [
    {
     "data": {
      "text/plain": [
       "{'max_depth': 3, 'n_estimators': 40}"
      ]
     },
     "execution_count": 67,
     "metadata": {},
     "output_type": "execute_result"
    }
   ],
   "source": [
    "grid_search.best_params_"
   ]
  },
  {
   "cell_type": "code",
   "execution_count": 70,
   "id": "4ae62c61",
   "metadata": {},
   "outputs": [
    {
     "name": "stdout",
     "output_type": "stream",
     "text": [
      "              precision    recall  f1-score   support\n",
      "\n",
      "           0       0.68      0.84      0.75      1646\n",
      "           1       0.59      0.37      0.46      1014\n",
      "\n",
      "    accuracy                           0.66      2660\n",
      "   macro avg       0.64      0.61      0.60      2660\n",
      "weighted avg       0.65      0.66      0.64      2660\n",
      "\n"
     ]
    },
    {
     "data": {
      "image/png": "[encoded data removed]",
      "text/plain": [
       "<Figure size 432x288 with 2 Axes>"
      ]
     },
     "metadata": {
      "needs_background": "light"
     },
     "output_type": "display_data"
    }
   ],
   "source": [
    "# recreating the model3 with best parameters\n",
    "model3 = GradientBoostingClassifier(max_depth=3,n_estimators=40)\n",
    "\n",
    "# fitting the model with training data\n",
    "model3.fit(scaled_x_train,y_train)\n",
    "\n",
    "# creating the evaluation report:\n",
    "evaluation_report(scaled_x_test,y_test,model3)"
   ]
  },
  {
   "cell_type": "code",
   "execution_count": null,
   "id": "f0daf1dc",
   "metadata": {},
   "outputs": [],
   "source": []
  },
  {
   "cell_type": "markdown",
   "id": "ce530276",
   "metadata": {},
   "source": [
    "# demo of the working of the system"
   ]
  },
  {
   "cell_type": "code",
   "execution_count": null,
   "id": "a0e2e933",
   "metadata": {},
   "outputs": [],
   "source": []
  },
  {
   "cell_type": "markdown",
   "id": "8c81a076",
   "metadata": {},
   "source": [
    "## see an actual test data to verify"
   ]
  },
  {
   "cell_type": "code",
   "execution_count": 96,
   "id": "9e13855a",
   "metadata": {},
   "outputs": [
    {
     "data": {
      "text/plain": [
       "cibil_score           2.000000\n",
       "cus_catgcode          1.000000\n",
       "employment_type       0.000000\n",
       "age                  37.000000\n",
       "no_of_dependents      2.000000\n",
       "martial               1.000000\n",
       "edu_qua               1.000000\n",
       "p_restype             0.000000\n",
       "p_category            4.000000\n",
       "employee_type         0.000000\n",
       "mon_in_occ          120.000000\n",
       "income_exp_gmi        0.000000\n",
       "ltv                   0.848571\n",
       "tenure               24.000000\n",
       "new_cust_YES          0.000000\n",
       "sex_M                 0.000000\n",
       "Name: 2340, dtype: float64"
      ]
     },
     "execution_count": 96,
     "metadata": {},
     "output_type": "execute_result"
    }
   ],
   "source": [
    "x_test.iloc[-32]"
   ]
  },
  {
   "cell_type": "code",
   "execution_count": 97,
   "id": "20d51fea",
   "metadata": {},
   "outputs": [
    {
     "data": {
      "text/plain": [
       "0"
      ]
     },
     "execution_count": 97,
     "metadata": {},
     "output_type": "execute_result"
    }
   ],
   "source": [
    "y_test.iloc[-32] # for actual it is approved!!!"
   ]
  },
  {
   "cell_type": "markdown",
   "id": "f7917ec8",
   "metadata": {},
   "source": [
    "## lets test our model\n"
   ]
  },
  {
   "cell_type": "code",
   "execution_count": 98,
   "id": "48f54e35",
   "metadata": {},
   "outputs": [
    {
     "data": {
      "text/plain": [
       "array([[  2.       ,   1.       ,   0.       ,  37.       ,   2.       ,\n",
       "          1.       ,   1.       ,   0.       ,   4.       ,   0.       ,\n",
       "        120.       ,   0.       ,   0.8485712,  24.       ,   0.       ,\n",
       "          0.       ]])"
      ]
     },
     "execution_count": 98,
     "metadata": {},
     "output_type": "execute_result"
    }
   ],
   "source": [
    "values = x_test.iloc[-32].values.reshape(1,-1)\n",
    "values"
   ]
  },
  {
   "cell_type": "code",
   "execution_count": 99,
   "id": "628f7464",
   "metadata": {},
   "outputs": [
    {
     "data": {
      "text/plain": [
       "array([0], dtype=int64)"
      ]
     },
     "execution_count": 99,
     "metadata": {},
     "output_type": "execute_result"
    }
   ],
   "source": [
    "model3.predict(values.reshape(1,-1))"
   ]
  },
  {
   "cell_type": "code",
   "execution_count": null,
   "id": "a9ba12c2",
   "metadata": {},
   "outputs": [],
   "source": []
  },
  {
   "cell_type": "markdown",
   "id": "b952ad24",
   "metadata": {},
   "source": [
    "# conclusion:\n",
    "it is shown that our model works but it is not at all a good model, i even tried the data with a deep neural network embedded with a transformer outside this notebook but the overall accuracy barely crossed 65% thus i believe we may need more data for our models to improve its accuracy on classifying the subjects"
   ]
  },
  {
   "cell_type": "code",
   "execution_count": null,
   "id": "08b27217",
   "metadata": {},
   "outputs": [],
   "source": []
  }
 ],
 "metadata": {
  "kernelspec": {
   "display_name": "Python 3 (ipykernel)",
   "language": "python",
   "name": "python3"
  },
  "language_info": {
   "codemirror_mode": {
    "name": "ipython",
    "version": 3
   },
   "file_extension": ".py",
   "mimetype": "text/x-python",
   "name": "python",
   "nbconvert_exporter": "python",
   "pygments_lexer": "ipython3",
   "version": "3.9.12"
  }
 },
 "nbformat": 4,
 "nbformat_minor": 5
}
