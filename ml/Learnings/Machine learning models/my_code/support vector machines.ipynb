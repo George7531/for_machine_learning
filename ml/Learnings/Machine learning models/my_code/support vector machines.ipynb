version https://git-lfs.github.com/spec/v1
oid sha256:9372381a8355eff4ea5868594877c7294fdf2ba9ca7e14f58dadd6f342a0321c
size 732801
