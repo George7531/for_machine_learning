version https://git-lfs.github.com/spec/v1
oid sha256:02de4bcd7f02e0b7d468a386ca10534f6a79c2765743817e9bbaa5b0961d38e3
size 400948
