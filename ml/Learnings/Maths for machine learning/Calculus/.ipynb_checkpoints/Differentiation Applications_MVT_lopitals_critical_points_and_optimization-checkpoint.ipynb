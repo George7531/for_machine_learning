version https://git-lfs.github.com/spec/v1
oid sha256:c4cdb9fc7f7f1e76b351728154112cc1e70831f7b5b58d5813cdcd482eb21107
size 1219690
