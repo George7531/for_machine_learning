version https://git-lfs.github.com/spec/v1
oid sha256:0fc7d482cb0b29a6c98501296700c86328b6791902d909d8643dc80d4d80dd71
size 1748374
