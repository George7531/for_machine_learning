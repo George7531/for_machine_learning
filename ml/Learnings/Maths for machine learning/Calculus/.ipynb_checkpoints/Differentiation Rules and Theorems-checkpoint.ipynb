version https://git-lfs.github.com/spec/v1
oid sha256:c1195c9b7d732ab46695210cfd03bbb7ddb572f210a5e37c50507542eac657d9
size 1114125
