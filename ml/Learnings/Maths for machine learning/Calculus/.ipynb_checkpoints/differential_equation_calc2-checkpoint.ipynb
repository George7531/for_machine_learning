{
 "cells": [
  {
   "cell_type": "markdown",
   "id": "9af8cd19-a14b-442a-b889-f1d1c5ab974e",
   "metadata": {},
   "source": [
    "# day 475"
   ]
  },
  {
   "cell_type": "markdown",
   "id": "6e855434-2f11-4730-94a3-c9c60c768af1",
   "metadata": {},
   "source": [
    "## Intro\n",
    "\n",
    "\n",
    "## Goal:\n",
    "* Use the derivative equation to get the actual function equation."
   ]
  },
  {
   "cell_type": "markdown",
   "id": "cc9285c7-9106-4486-b474-5aa54d2b6347",
   "metadata": {},
   "source": [
    "![fsdfsd](images/221024_calc.jpg)\n",
    "* differential equations are just like algebraic equations that we have to solve for them.\n",
    "\n",
    "![sfsdfs](images/221024_calc1.jpg)\n",
    "* differential equations would usually have more than one solution.\n",
    "* in the above example we can observe that $ y= e^x $ and $ y = e^{-3x} $ both solution exist for the same equation.\n",
    "                                                                        "
   ]
  },
  {
   "cell_type": "code",
   "execution_count": null,
   "id": "71809aa2-13a1-4bb2-b01d-170328427dfa",
   "metadata": {},
   "outputs": [],
   "source": []
  },
  {
   "cell_type": "markdown",
   "id": "a7c19d67-fdbb-47a4-86d1-817b919d763c",
   "metadata": {},
   "source": [
    "## How to write a differential equation?\n",
    "\n",
    "![sfsdfs](images/221024_calc2.jpg)\n",
    "\n",
    "* speed is the the rate of change of distance with respect to TIME."
   ]
  },
  {
   "cell_type": "code",
   "execution_count": null,
   "id": "1f8eb910-b581-4b4b-a3fc-cebc093f4984",
   "metadata": {},
   "outputs": [],
   "source": []
  },
  {
   "cell_type": "markdown",
   "id": "4ffcbb10-e256-4e8c-a9ba-c9604c612895",
   "metadata": {},
   "source": [
    "# day 476"
   ]
  },
  {
   "cell_type": "markdown",
   "id": "7a925cd8-48f2-4ef2-9824-0a8c9ab20275",
   "metadata": {},
   "source": [
    "![sfs](images/231024_calc.jpg)"
   ]
  },
  {
   "cell_type": "code",
   "execution_count": null,
   "id": "ed32b3f1-bd2d-4fb4-b532-961160be0c04",
   "metadata": {},
   "outputs": [],
   "source": []
  },
  {
   "cell_type": "markdown",
   "id": "b3f15852-64d6-490e-9c6b-fadbb5ec243b",
   "metadata": {},
   "source": [
    "# slope fields\n",
    "![fsfsd](images/231024_calc1.jpg)"
   ]
  },
  {
   "cell_type": "code",
   "execution_count": null,
   "id": "6e239836-22c0-4552-979e-0a21b4f9d1e3",
   "metadata": {},
   "outputs": [],
   "source": []
  },
  {
   "cell_type": "markdown",
   "id": "dd913cee-7d4a-44d2-9267-86459b71bdd0",
   "metadata": {},
   "source": [
    "# day 477"
   ]
  },
  {
   "cell_type": "markdown",
   "id": "7cd26b36-2524-435a-a4ac-0fcd2334f2a9",
   "metadata": {},
   "source": [
    "## how to navigate the slope field to find the right equation."
   ]
  },
  {
   "cell_type": "markdown",
   "id": "3ddbfa19-adc6-43b2-bd26-17b67cd18d87",
   "metadata": {},
   "source": [
    "![sfsdf](images/241024_calc.jpg)\n",
    "\n",
    "* when there is no change the slope is flat(zero).\n",
    "* when it is positive the slope moves up ⬆️,↗️,↖️\n",
    "* when it is negative the slope moves down ↘️,⬇️,↙️\n",
    "* mind you, there is no arrow indicating the direction in the slope field(which means it is not a vector) but the length of the slope signifies the amplitude of change(it is a scalar). so if the usage of arrow to indicate up and down was confusing i suggest you unread that part and just remember to plug in the values in the equation to see whether it gives a positive value or a negative value.\n",
    "* arrows would come in gradient field not in slope field.\n",
    "\n",
    "  "
   ]
  },
  {
   "cell_type": "code",
   "execution_count": null,
   "id": "ac9378c5-46eb-4d2c-99e0-b3cbdfcdc37b",
   "metadata": {},
   "outputs": [],
   "source": []
  },
  {
   "cell_type": "markdown",
   "id": "0ffeb318-9125-4101-9186-c79f340de1b2",
   "metadata": {},
   "source": [
    "# day 488"
   ]
  },
  {
   "cell_type": "markdown",
   "id": "1d488365-3395-463c-93a4-a38ba02a9c0f",
   "metadata": {},
   "source": [
    "# Approximate the slope line given a point coordinates in the cartesian plane.\n",
    "![sfsf](images/251024_calc.jpg)\n",
    "* solution for the differential equation exists when the equation becomes zero(flat line).\n",
    "* you can take any point in the cartesian plane and approximate a slope field given the cooridinates and slopes plotted on the graph depending on the direction of the slopes.\n",
    "\n",
    "# find the range of solution set in the slope field given initial coordiantes.\n",
    "![fs](images/251024_calc1.jpg)\n",
    "* plot the initial coordinates\n",
    "* draw the slope field.\n",
    "* if there is a flat line the slope field line just asymptotes over it never quite touching it."
   ]
  },
  {
   "cell_type": "code",
   "execution_count": null,
   "id": "57ec92dc-3dce-47c3-a930-df4783b4e18a",
   "metadata": {},
   "outputs": [],
   "source": []
  },
  {
   "cell_type": "markdown",
   "id": "db791eb8-a7bb-4be9-937d-c06d6fed5cda",
   "metadata": {},
   "source": [
    "# Euler's method: solve the differential equation in steps\n",
    "\n",
    "* we can actually use the power of computers to do these number crunchings in large scale. but  these techniques are brought up here just to introduce ourselves to the mathematical intuition.\n",
    "## intro:\n",
    "![ffsf](images/251024_calc2.jpg)\n",
    "\n",
    "\n",
    "## worked example:\n",
    "![sfs](images/251024_calc3.jpg)"
   ]
  },
  {
   "cell_type": "code",
   "execution_count": null,
   "id": "0926b49e-2b45-4a62-ade7-4c0c4e7e07d5",
   "metadata": {},
   "outputs": [],
   "source": []
  }
 ],
 "metadata": {
  "kernelspec": {
   "display_name": "Python 3 (ipykernel)",
   "language": "python",
   "name": "python3"
  },
  "language_info": {
   "codemirror_mode": {
    "name": "ipython",
    "version": 3
   },
   "file_extension": ".py",
   "mimetype": "text/x-python",
   "name": "python",
   "nbconvert_exporter": "python",
   "pygments_lexer": "ipython3",
   "version": "3.12.4"
  }
 },
 "nbformat": 4,
 "nbformat_minor": 5
}
