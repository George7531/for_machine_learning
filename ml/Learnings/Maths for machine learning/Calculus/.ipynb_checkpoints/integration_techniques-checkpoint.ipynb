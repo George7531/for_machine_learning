version https://git-lfs.github.com/spec/v1
oid sha256:ca3a1fd5ae8392a9d9e8087991129887cbe0bc4cbf7e40f57bd72eaffd36de27
size 27910
