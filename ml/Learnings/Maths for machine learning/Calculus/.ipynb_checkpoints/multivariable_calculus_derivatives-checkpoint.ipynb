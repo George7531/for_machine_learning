version https://git-lfs.github.com/spec/v1
oid sha256:e824d4a917676c18126253e1cad21396f40c55409deeda13ea303a82396f5a6e
size 37840906
