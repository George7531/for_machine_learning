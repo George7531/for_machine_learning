version https://git-lfs.github.com/spec/v1
oid sha256:1eeb66392fe10cfc5fad7474c2e561a6580854acf837e17357fba3a980f2e036
size 396596
