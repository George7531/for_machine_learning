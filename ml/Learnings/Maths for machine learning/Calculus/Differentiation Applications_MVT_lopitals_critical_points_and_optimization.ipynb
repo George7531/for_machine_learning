version https://git-lfs.github.com/spec/v1
oid sha256:52f2d45d74f5c6915f60e8c7b42ec5a36bad25f3da6c870feb4d1f3c80340fc7
size 1098277
