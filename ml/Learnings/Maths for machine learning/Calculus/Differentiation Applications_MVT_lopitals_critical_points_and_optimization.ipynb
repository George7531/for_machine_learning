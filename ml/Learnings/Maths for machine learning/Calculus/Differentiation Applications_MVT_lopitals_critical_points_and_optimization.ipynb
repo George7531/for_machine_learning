version https://git-lfs.github.com/spec/v1
oid sha256:26cc684958208dc9fad104ce40f59e531a8ab802096471b092044b6e1da0c339
size 1258084
