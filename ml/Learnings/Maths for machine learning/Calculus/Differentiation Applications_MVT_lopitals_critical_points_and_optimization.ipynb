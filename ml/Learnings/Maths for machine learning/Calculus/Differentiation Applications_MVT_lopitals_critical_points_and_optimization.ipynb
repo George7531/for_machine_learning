version https://git-lfs.github.com/spec/v1
oid sha256:5705c401d67174455c39184c555c12db28247837d0b48dadf9f8a910e6ff101c
size 1156055
