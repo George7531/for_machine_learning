version https://git-lfs.github.com/spec/v1
oid sha256:2ec1f073e91af721f82c986bc0e57f902bae37037ea2cbef2ce242fa85f74e80
size 880320
