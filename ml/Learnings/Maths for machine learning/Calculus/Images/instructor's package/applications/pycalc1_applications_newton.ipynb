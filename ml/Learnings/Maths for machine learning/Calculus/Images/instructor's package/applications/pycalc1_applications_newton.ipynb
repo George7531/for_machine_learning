version https://git-lfs.github.com/spec/v1
oid sha256:6934364d4921215c320ef96077edf46c29b6e952529c9491c82c944a6deb3179
size 6362
