version https://git-lfs.github.com/spec/v1
oid sha256:c2af42a8ad42b984ca1559c1a872432aa1feb6f7d5606b8db89409d29e927879
size 383207
