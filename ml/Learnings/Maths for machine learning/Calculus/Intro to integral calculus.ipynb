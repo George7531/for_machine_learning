version https://git-lfs.github.com/spec/v1
oid sha256:3c6e0cb028e5dfd531b138b83f41ff2e8fd531480e5400b64b7e214814ddce73
size 388150
