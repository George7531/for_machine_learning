version https://git-lfs.github.com/spec/v1
oid sha256:3ae44044f5a27b1ce830ea860f420ad3dd9673e9e75017e49742cb397c326d3a
size 497566
