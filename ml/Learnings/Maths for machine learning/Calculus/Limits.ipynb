version https://git-lfs.github.com/spec/v1
oid sha256:c2d9fe6389c190ca2712c74c7aa913331b2e30c2715b963256d69fdefd1cc05e
size 1304050
