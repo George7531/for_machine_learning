version https://git-lfs.github.com/spec/v1
oid sha256:bc219272073d683b4a47fd4000287889517747a1079b2fb2ab8fae57ff7bbb4b
size 20014734
