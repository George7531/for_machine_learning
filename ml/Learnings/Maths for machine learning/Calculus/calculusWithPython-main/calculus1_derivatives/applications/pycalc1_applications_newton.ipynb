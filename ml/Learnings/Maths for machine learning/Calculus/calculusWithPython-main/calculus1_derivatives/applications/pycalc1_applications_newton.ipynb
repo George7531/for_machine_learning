version https://git-lfs.github.com/spec/v1
oid sha256:e705595eff6356501088061f36e7e53b7497400bb5b4080ba5bcae16bb633609
size 8063
