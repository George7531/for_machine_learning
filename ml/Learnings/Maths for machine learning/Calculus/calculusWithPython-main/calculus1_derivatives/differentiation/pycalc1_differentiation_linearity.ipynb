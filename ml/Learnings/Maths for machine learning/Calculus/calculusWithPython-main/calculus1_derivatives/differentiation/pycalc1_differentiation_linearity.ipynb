version https://git-lfs.github.com/spec/v1
oid sha256:2dcdcec012194aa1e62a5ae12731acc301a31c4612cade9873a0c3444584f552
size 3936
