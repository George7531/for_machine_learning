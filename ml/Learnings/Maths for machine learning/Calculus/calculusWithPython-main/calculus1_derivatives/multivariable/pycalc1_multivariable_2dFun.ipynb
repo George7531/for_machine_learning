version https://git-lfs.github.com/spec/v1
oid sha256:8ad05c8ac00c664f67865f732a099a5fc36739dd7f63472dc4e7502e4099ce28
size 8558
