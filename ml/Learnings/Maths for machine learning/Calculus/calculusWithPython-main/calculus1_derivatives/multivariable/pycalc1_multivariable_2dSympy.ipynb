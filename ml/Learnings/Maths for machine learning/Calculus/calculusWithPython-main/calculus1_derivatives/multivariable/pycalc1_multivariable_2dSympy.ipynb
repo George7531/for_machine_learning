version https://git-lfs.github.com/spec/v1
oid sha256:cccfbaf54d6886f2d1265533048906f087552e14fc3fe3438fbb90ab259e599f
size 4706
