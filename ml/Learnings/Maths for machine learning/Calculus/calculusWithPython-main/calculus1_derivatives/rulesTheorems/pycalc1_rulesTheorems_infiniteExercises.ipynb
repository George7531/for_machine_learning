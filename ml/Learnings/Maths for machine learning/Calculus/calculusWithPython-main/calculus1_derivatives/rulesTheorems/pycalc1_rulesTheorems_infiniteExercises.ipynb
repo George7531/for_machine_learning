version https://git-lfs.github.com/spec/v1
oid sha256:72c23dfad554c2fc9e6d8caece7aae2aaf9fe14938b6c39049b776f3ee580d41
size 8239
