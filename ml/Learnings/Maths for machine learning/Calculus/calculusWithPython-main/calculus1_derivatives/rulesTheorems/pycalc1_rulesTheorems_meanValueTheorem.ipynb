version https://git-lfs.github.com/spec/v1
oid sha256:3df08a24c90bdc91fa3109b46ce7aa973c637b49beeefcce23a033d9f04546e2
size 10336
