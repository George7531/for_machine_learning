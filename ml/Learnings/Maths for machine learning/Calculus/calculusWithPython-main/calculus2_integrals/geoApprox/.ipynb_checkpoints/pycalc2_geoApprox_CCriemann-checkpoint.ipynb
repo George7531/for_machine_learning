version https://git-lfs.github.com/spec/v1
oid sha256:62a902883dd454352f561aff434a468d9f0f9e3e4a16ea02be7ad83d18bd60a1
size 8613
