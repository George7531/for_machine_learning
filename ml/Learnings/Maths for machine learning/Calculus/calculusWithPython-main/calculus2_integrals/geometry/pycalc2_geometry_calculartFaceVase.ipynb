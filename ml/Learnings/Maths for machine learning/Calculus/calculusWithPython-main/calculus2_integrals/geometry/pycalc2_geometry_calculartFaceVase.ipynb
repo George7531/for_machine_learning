version https://git-lfs.github.com/spec/v1
oid sha256:adff572622e25de7061d918495ed52887921e478d34dfba48f6c9271621f79d2
size 7633
