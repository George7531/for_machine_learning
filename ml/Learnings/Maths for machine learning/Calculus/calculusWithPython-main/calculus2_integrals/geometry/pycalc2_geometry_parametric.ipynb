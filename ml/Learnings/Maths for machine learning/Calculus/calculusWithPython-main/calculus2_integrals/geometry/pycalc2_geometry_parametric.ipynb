version https://git-lfs.github.com/spec/v1
oid sha256:c0ff27efc989d6f148ff27b5c198e8de78e04f2a877239e02bfed14242127445
size 4737
