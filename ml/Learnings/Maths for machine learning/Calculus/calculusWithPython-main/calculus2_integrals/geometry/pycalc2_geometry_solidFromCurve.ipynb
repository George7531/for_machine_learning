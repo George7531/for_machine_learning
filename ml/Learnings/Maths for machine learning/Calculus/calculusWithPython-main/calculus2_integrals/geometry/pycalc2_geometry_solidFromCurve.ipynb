version https://git-lfs.github.com/spec/v1
oid sha256:f09129c20be2c620da13d36d966eb97c4778acea2a4a6cf3e8278b5bfe8d9129
size 3495
