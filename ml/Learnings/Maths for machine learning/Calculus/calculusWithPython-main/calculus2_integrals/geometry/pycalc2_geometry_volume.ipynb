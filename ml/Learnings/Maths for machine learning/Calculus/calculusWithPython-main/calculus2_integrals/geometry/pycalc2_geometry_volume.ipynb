version https://git-lfs.github.com/spec/v1
oid sha256:0b8895109de9a326c3a5eb33e785c8e3c609b04b5ae5c56741d3d4102ffa7d53
size 3865
