version https://git-lfs.github.com/spec/v1
oid sha256:c144d7587ac605aad422aa368e5fabd22dcb2e9c39c6c93a1dc5466d84e5dc80
size 2413
