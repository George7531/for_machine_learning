version https://git-lfs.github.com/spec/v1
oid sha256:302c2cf7eee4f2c2cbae93987a85022741dd6c3c2c2c9c56177f3579df468b01
size 5107
