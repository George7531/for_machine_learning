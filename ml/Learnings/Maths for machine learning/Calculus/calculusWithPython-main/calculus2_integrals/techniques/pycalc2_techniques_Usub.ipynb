version https://git-lfs.github.com/spec/v1
oid sha256:c3b3739bf1ddb3edf0f3c2215fbf226dfb63de79342b92b97edc070b4995321c
size 3000
