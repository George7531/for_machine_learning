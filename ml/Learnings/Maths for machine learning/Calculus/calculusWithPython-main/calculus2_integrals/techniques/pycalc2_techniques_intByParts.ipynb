version https://git-lfs.github.com/spec/v1
oid sha256:db6398f1797cbd0b93f219dced533fc4ce4b7946841b9d2890da8025346487c3
size 2414
