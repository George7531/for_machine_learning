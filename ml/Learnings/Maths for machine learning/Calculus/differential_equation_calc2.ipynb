{
 "cells": [
  {
   "cell_type": "markdown",
   "id": "9af8cd19-a14b-442a-b889-f1d1c5ab974e",
   "metadata": {},
   "source": [
    "# day 475"
   ]
  },
  {
   "cell_type": "markdown",
   "id": "6e855434-2f11-4730-94a3-c9c60c768af1",
   "metadata": {},
   "source": [
    "## Intro\n",
    "\n",
    "\n",
    "## Goal:\n",
    "* Use the derivative equation to get the actual function equation."
   ]
  },
  {
   "cell_type": "markdown",
   "id": "cc9285c7-9106-4486-b474-5aa54d2b6347",
   "metadata": {},
   "source": [
    "![fsdfsd](images/221024_calc.jpg)\n",
    "* differential equations are just like algebraic equations that we have to solve for them.\n",
    "\n",
    "![sfsdfs](images/221024_calc1.jpg)\n",
    "* differential equations would usually have more than one solution.\n",
    "* in the above example we can observe that $ y= e^x $ and $ y = e^{-3x} $ both solution exist for the same equation.\n",
    "                                                                        "
   ]
  },
  {
   "cell_type": "code",
   "execution_count": null,
   "id": "71809aa2-13a1-4bb2-b01d-170328427dfa",
   "metadata": {},
   "outputs": [],
   "source": []
  },
  {
   "cell_type": "markdown",
   "id": "a7c19d67-fdbb-47a4-86d1-817b919d763c",
   "metadata": {},
   "source": [
    "## How to write a differential equation?\n",
    "\n",
    "![sfsdfs](images/221024_calc2.jpg)\n",
    "\n",
    "* speed is the the rate of change of distance with respect to TIME."
   ]
  },
  {
   "cell_type": "code",
   "execution_count": null,
   "id": "1f8eb910-b581-4b4b-a3fc-cebc093f4984",
   "metadata": {},
   "outputs": [],
   "source": []
  },
  {
   "cell_type": "markdown",
   "id": "4ffcbb10-e256-4e8c-a9ba-c9604c612895",
   "metadata": {},
   "source": [
    "# day 476"
   ]
  },
  {
   "cell_type": "markdown",
   "id": "7a925cd8-48f2-4ef2-9824-0a8c9ab20275",
   "metadata": {},
   "source": [
    "![sfs](images/231024_calc.jpg)"
   ]
  },
  {
   "cell_type": "code",
   "execution_count": null,
   "id": "ed32b3f1-bd2d-4fb4-b532-961160be0c04",
   "metadata": {},
   "outputs": [],
   "source": []
  },
  {
   "cell_type": "markdown",
   "id": "b3f15852-64d6-490e-9c6b-fadbb5ec243b",
   "metadata": {},
   "source": [
    "# slope fields\n",
    "![fsfsd](images/231024_calc1.jpg)"
   ]
  },
  {
   "cell_type": "code",
   "execution_count": null,
   "id": "6e239836-22c0-4552-979e-0a21b4f9d1e3",
   "metadata": {},
   "outputs": [],
   "source": []
  },
  {
   "cell_type": "markdown",
   "id": "dd913cee-7d4a-44d2-9267-86459b71bdd0",
   "metadata": {},
   "source": [
    "# day 477"
   ]
  },
  {
   "cell_type": "markdown",
   "id": "7cd26b36-2524-435a-a4ac-0fcd2334f2a9",
   "metadata": {},
   "source": [
    "## how to navigate the slope field to find the right equation."
   ]
  },
  {
   "cell_type": "markdown",
   "id": "3ddbfa19-adc6-43b2-bd26-17b67cd18d87",
   "metadata": {},
   "source": [
    "![sfsdf](images/241024_calc.jpg)\n",
    "\n",
    "* when there is no change the slope is flat(zero).\n",
    "* when it is positive the slope moves up ⬆️,↗️,↖️\n",
    "* when it is negative the slope moves down ↘️,⬇️,↙️\n",
    "* mind you, there is no arrow indicating the direction in the slope field(which means it is not a vector) but the length of the slope signifies the amplitude of change(it is a scalar). so if the usage of arrow to indicate up and down was confusing i suggest you unread that part and just remember to plug in the values in the equation to see whether it gives a positive value or a negative value.\n",
    "* arrows would come in gradient field not in slope field.\n",
    "\n",
    "  "
   ]
  },
  {
   "cell_type": "code",
   "execution_count": null,
   "id": "ac9378c5-46eb-4d2c-99e0-b3cbdfcdc37b",
   "metadata": {},
   "outputs": [],
   "source": []
  },
  {
   "cell_type": "markdown",
   "id": "0ffeb318-9125-4101-9186-c79f340de1b2",
   "metadata": {},
   "source": [
    "# day 478"
   ]
  },
  {
   "cell_type": "markdown",
   "id": "1d488365-3395-463c-93a4-a38ba02a9c0f",
   "metadata": {},
   "source": [
    "# Approximate the slope line given a point coordinates in the cartesian plane.\n",
    "![sfsf](images/251024_calc.jpg)\n",
    "* solution for the differential equation exists when the equation becomes zero(flat line).\n",
    "* you can take any point in the cartesian plane and approximate a slope field given the cooridinates and slopes plotted on the graph depending on the direction of the slopes.\n",
    "\n",
    "# find the range of solution set in the slope field given initial coordiantes.\n",
    "![fs](images/251024_calc1.jpg)\n",
    "* plot the initial coordinates\n",
    "* draw the slope field.\n",
    "* if there is a flat line the slope field line just asymptotes over it never quite touching it."
   ]
  },
  {
   "cell_type": "code",
   "execution_count": null,
   "id": "57ec92dc-3dce-47c3-a930-df4783b4e18a",
   "metadata": {},
   "outputs": [],
   "source": []
  },
  {
   "cell_type": "markdown",
   "id": "db791eb8-a7bb-4be9-937d-c06d6fed5cda",
   "metadata": {},
   "source": [
    "# Euler's method: solve the differential equation in steps\n",
    "\n",
    "* for those equations for which seperation of variables won't work is where you need to apply Euler's method to solve for y given its differential equation.\n",
    "* we can actually use the power of computers to do these number crunchings in large scale. but  these techniques are brought up here just to introduce ourselves to the mathematical intuition.\n",
    "* we can get the original equation given the differential equation and vice versa using this Euler's method.\n",
    "\n",
    "## intro:\n",
    "![ffsf](images/251024_calc2.jpg)\n",
    "\n",
    "\n",
    "## worked example:\n",
    "![sfs](images/251024_calc3.jpg)\n",
    "\n",
    "## main takeaway:\n",
    "* how to calculate y?\n",
    "* $ y = y + \\Delta{x} * \\frac{dy}{dx} $ which is also known as `gradient`\n",
    "* where,\n",
    "* $ \\Delta{x} \\quad \\text{ is the step size} $\n",
    "* y is the value of y\n",
    "* $ \\frac{dy } {dx} \\quad \\text{ is the derivative of the function y wrt x } $"
   ]
  },
  {
   "cell_type": "code",
   "execution_count": null,
   "id": "0926b49e-2b45-4a62-ade7-4c0c4e7e07d5",
   "metadata": {},
   "outputs": [],
   "source": []
  },
  {
   "cell_type": "markdown",
   "id": "e6f10910-72bd-49d6-a0f0-ea2b7380ed1a",
   "metadata": {},
   "source": [
    "# day 479"
   ]
  },
  {
   "cell_type": "markdown",
   "id": "3449cefc-3d9b-4f39-8c65-906d3a100340",
   "metadata": {},
   "source": [
    "# Seperation of variables from differential equations: \n",
    "* we solve the differential equation by seperating the variables as x and y and solving for y."
   ]
  },
  {
   "cell_type": "markdown",
   "id": "ac047c46-426b-4d67-9341-313f8960a224",
   "metadata": {},
   "source": [
    "![fss](images/261024_calc.jpg)\n",
    "* step1: if possible seperate the y.dy and x.dx from the differential equation so that you can integrate them.\n",
    "* step2: integrate them.\n",
    "* step3: substitute the coordinates for x and y to find the value for the Big C.\n",
    "* step4: substitute for Big C in the equation and solve for y \n",
    "* step5: done! clap your hands."
   ]
  },
  {
   "cell_type": "code",
   "execution_count": null,
   "id": "f5e685ad-1662-4921-962e-a8d067c12a09",
   "metadata": {},
   "outputs": [],
   "source": []
  },
  {
   "cell_type": "markdown",
   "id": "4b33ee0e-e066-4e14-bf7c-1521600bd74f",
   "metadata": {},
   "source": [
    "# day 481"
   ]
  },
  {
   "cell_type": "markdown",
   "id": "692eeba1-1670-4b09-8ea5-220156d1a6d1",
   "metadata": {},
   "source": [
    "# seperation of variables in differential equations"
   ]
  },
  {
   "cell_type": "markdown",
   "id": "d570307f-0739-48a4-820c-1835dbe94a85",
   "metadata": {},
   "source": [
    "[Article to read to learn seperable of variables in differential equations](https://www.khanacademy.org/math/calculus-2/cs2-differential-equations/cs2-separation-of-variables/a/applying-procedures-for-separable-differential-equations)"
   ]
  },
  {
   "cell_type": "markdown",
   "id": "b8bab01e-5448-4aca-9c67-d720c13efdd2",
   "metadata": {},
   "source": [
    "# 2 example problems to get practice with: \n",
    "![sfsfs](images/281024_calc.jpg)\n",
    "* problem 1 on the left and problem 2 on the right."
   ]
  },
  {
   "cell_type": "code",
   "execution_count": null,
   "id": "0eb21e97-131f-4ca1-b730-19f0b33bccae",
   "metadata": {},
   "outputs": [],
   "source": []
  },
  {
   "cell_type": "markdown",
   "id": "f74fe5fd-b6d1-407f-b2db-d561ea902f39",
   "metadata": {},
   "source": [
    "# How to identify seperable equations\n",
    "\n",
    "[Article to read](https://www.khanacademy.org/math/calculus-2/cs2-differential-equations/cs2-separation-of-variables/a/identifying-separable-equations)\n",
    "* to seperate a differential equation we must bring it to the form that f(y)dy = g(x) dx, where f(y) doesn't have x in it and g(x) doesn't have y in it.\n",
    "* otherwise we won't be able to seperate them. not all differential equations are seperable."
   ]
  },
  {
   "cell_type": "code",
   "execution_count": null,
   "id": "fa20aaa4-69eb-4af9-b97e-3882dffd3239",
   "metadata": {},
   "outputs": [],
   "source": []
  },
  {
   "cell_type": "markdown",
   "id": "1179c0ae-4274-4eb8-ab68-c5eaa62e7bfc",
   "metadata": {},
   "source": [
    "# day 482"
   ]
  },
  {
   "cell_type": "markdown",
   "id": "640a18d2-1b1f-4bc6-85ca-6b95d6217ce2",
   "metadata": {},
   "source": [
    "# Particular solutions to differential equations:\n"
   ]
  },
  {
   "cell_type": "markdown",
   "id": "884203d7-e56d-4e41-ae02-dd95105bec00",
   "metadata": {},
   "source": [
    "# examples: \n",
    "\n",
    "![sfsd](images/291024_calc.jpg)\n",
    "* this picture shows why we put C (the constant) after integrating, the reason being C would have become zero's during differentiation so it is essential we know value of C to solve for the equation.\n",
    "* ultimate goal is to solve for the equation.\n",
    "\n",
    "## example 2:\n",
    "![sfsd](images/291024_calc1.jpg)\n",
    "\n",
    "## example3:\n",
    "![sfsd](images/291024_calc2.jpg)\n",
    "\n",
    "\n",
    "## example 4:\n",
    "![sfsd](images/291024_calc3.jpg)"
   ]
  },
  {
   "cell_type": "code",
   "execution_count": null,
   "id": "7f7a6c4d-aad4-4ce2-b2b7-8025bd2539d7",
   "metadata": {},
   "outputs": [],
   "source": []
  },
  {
   "cell_type": "markdown",
   "id": "7b4bd719-6882-4d3b-98fc-4f2df82aa705",
   "metadata": {},
   "source": [
    "# day 487"
   ]
  },
  {
   "cell_type": "markdown",
   "id": "b8614af1-bde2-4223-af19-0644d9e45a28",
   "metadata": {},
   "source": [
    "# Exponential Models\n",
    "\n",
    "## examples\n",
    "![sfsdf](images/021124_calc.jpg)\n",
    "\n",
    "* it all began with the assumption that change of population with respect to time is proportional to the population itself: $\\frac{dp}{dp} = kp $\n",
    "* perhaps it is not just an assumption, it was derived from observations and data.\n",
    "## with initial data create the model:\n",
    "![sfsdf](images/021124_calc1.jpg)\n",
    "\n",
    "* initial data in this case was p=100, t=0;  p=200 and t=50.\n",
    "* Also we had a base model $ p = Ce^{kt} $\n",
    "* These 2 things helped us find out the unknown variables C and k.\n",
    "\n",
    "## build the equation based on some initial coordinates part 2:\n",
    "![sfsdf](images/021124_calc2.jpg)"
   ]
  },
  {
   "cell_type": "code",
   "execution_count": null,
   "id": "47f90a8f-9875-4dcd-b8dd-9edd5d9d1dc2",
   "metadata": {},
   "outputs": [],
   "source": []
  },
  {
   "cell_type": "markdown",
   "id": "6d43ca57-7b23-4aeb-a518-b25a80333b75",
   "metadata": {},
   "source": [
    "# day 489,490"
   ]
  },
  {
   "cell_type": "markdown",
   "id": "c2319b19-461c-4631-a8fc-45a60ce344ef",
   "metadata": {},
   "source": [
    "# Logistic models\n",
    "![fssd](images/041124_calc.jpg)\n",
    "\n",
    "## how to build a model step by step:\n",
    "[Watch this video](https://www.khanacademy.org/math/calculus-2/cs2-differential-equations/cs2-logistic-models/v/logistic-differential-equation-intuition)\n",
    "![fssd](images/041124_calc1.jpg)\n",
    "* r is a constant\n",
    "* k is the maximum threshold for the population to reach\n",
    "* $ N_{\\theta}$ is the initial population.\n",
    "* N is the current population\n",
    "* $ \\frac{dn}{dt} = r N \\rightarrow $ gives exponential rate of change of growth.\n",
    "* But in order to make the population model (logistic model) to plateau at the end after a point(after the resources to sustain the population has become scarce) we need to have a scaler scaling the original $ \\frac{dn}{dt}$ such that when the population is maxed(reached k) the rate of change becomes zero and the line just plateaus and when the current population(N) is lesser than K then it continues to follow the exponential pattern as before and this scalar value should range only between 0 and 1 such that we can use it as a controller(joystick) to control the effectiveness rN.\n",
    "* That is why we have $ r*N * (1 - \\frac{N}{K}) $\n",
    "* you put a threshold k but how how do you know what value to choose for K?\n",
    "\n",
    "# worked example\n",
    "![fssd](images/041124_calc2.jpg)\n"
   ]
  },
  {
   "cell_type": "code",
   "execution_count": 3,
   "id": "3094cde1-1e51-47c2-a703-bd227c6f9d50",
   "metadata": {},
   "outputs": [],
   "source": [
    "import numpy as np\n",
    "import matplotlib.pyplot as plt\n",
    "import sympy as sym\n",
    "from IPython.display import display,Math\n",
    "sym.init_printing()"
   ]
  },
  {
   "cell_type": "code",
   "execution_count": 65,
   "id": "8e7a4844-f4d1-4140-8dd1-f736f94233c6",
   "metadata": {},
   "outputs": [
    {
     "name": "stdout",
     "output_type": "stream",
     "text": [
      "Differential Equation is: \n"
     ]
    },
    {
     "data": {
      "image/png": "[encoded data removed]",
      "text/latex": [
       "$\\displaystyle 2 p \\left(6 - \\frac{p}{8000}\\right)$"
      ],
      "text/plain": [
       "    ⎛     p  ⎞\n",
       "2⋅p⋅⎜6 - ────⎟\n",
       "    ⎝    8000⎠"
      ]
     },
     "metadata": {},
     "output_type": "display_data"
    },
    {
     "name": "stdout",
     "output_type": "stream",
     "text": [
      "---------------------\n",
      "p(t) Equation is: \n"
     ]
    },
    {
     "data": {
      "image/png": "[encoded data removed]",
      "text/latex": [
       "$\\displaystyle - \\frac{p^{3}}{12000} + 6 p^{2}$"
      ],
      "text/plain": [
       "     3        \n",
       "    p        2\n",
       "- ───── + 6⋅p \n",
       "  12000       "
      ]
     },
     "metadata": {},
     "output_type": "display_data"
    },
    {
     "data": {
      "text/latex": [
       "$\\displaystyle  \\text{ when the } \\frac{dp}{dt} \\text{ becomes zero the solutions are: } [0, 48000]$"
      ],
      "text/plain": [
       "<IPython.core.display.Math object>"
      ]
     },
     "metadata": {},
     "output_type": "display_data"
    }
   ],
   "source": [
    "p,t = sym.symbols('p,t')\n",
    "\n",
    "# the differential equation in question\n",
    "dp_dt = 2*p * (6 - p/8000)\n",
    "print('Differential Equation is: ')\n",
    "display(dp_dt)\n",
    "\n",
    "print('---------------------')\n",
    "\n",
    "# to get the equation in terms of p(t) we have to integrate the differential version of it.\n",
    "p_t = sym.integrate(dp_dt,p)\n",
    "print('p(t) Equation is: ')\n",
    "display(p_t)\n",
    "\n",
    "# solve for p in dp_dt\n",
    "solution = sym.solve(dp_dt,p)\n",
    "display(Math(' \\\\text{ when the } \\\\frac{dp}{dt} \\\\text{ becomes zero the solutions are: } %s'%solution))"
   ]
  },
  {
   "cell_type": "code",
   "execution_count": null,
   "id": "dee06df4-a9b7-4b58-b01f-ec6b62c45539",
   "metadata": {},
   "outputs": [],
   "source": []
  },
  {
   "cell_type": "markdown",
   "id": "688d4888-73ec-4042-b8e2-f197b2102778",
   "metadata": {},
   "source": [
    "# solving the logistic differential equation\n",
    "![fsfs](images/051124_calc.jpg)\n",
    "\n",
    "* solve for N yourself now. you know how to do it.\n",
    "\n",
    "![fsfs](images/051124_calc1.jpg)\n",
    "* if you plot the N(t) you would get that plot for modelling population that sal khan did in the video"
   ]
  },
  {
   "cell_type": "code",
   "execution_count": 2,
   "id": "6ff1d4dc-de76-47bf-aa57-dac783002ddf",
   "metadata": {},
   "outputs": [
    {
     "data": {
      "image/png": "[encoded data removed]",
      "text/plain": [
       "<Figure size 640x480 with 1 Axes>"
      ]
     },
     "metadata": {},
     "output_type": "display_data"
    }
   ],
   "source": [
    "import numpy as np\n",
    "import matplotlib.pyplot as plt\n",
    "import sympy as sym\n",
    "from IPython.display import display,Math\n",
    "sym.init_printing()\n",
    "\n",
    "\n",
    "N_initial = 100\n",
    "k = 5000 # maximum worms that a plate can have \n",
    "r = 2 # some scaler (rate of growth 2 means 200% percent of the original population is expected to be increased by the end of the session)\n",
    "t = np.linspace(0, 10,10000)\n",
    "population = (N_initial * k) / ((k - N_initial)*np.exp(-r*t) + N_initial)\n",
    "plt.plot(t,population.astype(int))\n",
    "plt.xlabel('time')\n",
    "plt.ylabel('worms(N)')\n",
    "plt.show()"
   ]
  },
  {
   "cell_type": "code",
   "execution_count": 26,
   "id": "aac88340-5a2f-4fab-83e8-9d1e016a1819",
   "metadata": {},
   "outputs": [
    {
     "data": {
      "image/png": "[encoded data removed]",
      "text/plain": [
       "<Figure size 640x480 with 1 Axes>"
      ]
     },
     "metadata": {},
     "output_type": "display_data"
    }
   ],
   "source": [
    "dp_dt = np.diff(population)/np.diff(t)[0]\n",
    "\n",
    "# plot the differential equation.\n",
    "plt.plot(t[1:],dp_dt)\n",
    "plt.xlabel('time',fontsize=20)\n",
    "plt.ylabel('$\\\\frac{dp}{dt}$',fontsize=20)\n",
    "plt.xlim([0,4])\n",
    "plt.show()"
   ]
  },
  {
   "cell_type": "markdown",
   "id": "03fbcfe1-392d-4180-ac8f-8ea1aa154ae8",
   "metadata": {},
   "source": [
    "* perfecto!!!"
   ]
  },
  {
   "cell_type": "code",
   "execution_count": null,
   "id": "66468b4d-d131-41f0-9dd4-06aef2ed9b30",
   "metadata": {},
   "outputs": [],
   "source": []
  }
 ],
 "metadata": {
  "kernelspec": {
   "display_name": "Python 3 (ipykernel)",
   "language": "python",
   "name": "python3"
  },
  "language_info": {
   "codemirror_mode": {
    "name": "ipython",
    "version": 3
   },
   "file_extension": ".py",
   "mimetype": "text/x-python",
   "name": "python",
   "nbconvert_exporter": "python",
   "pygments_lexer": "ipython3",
   "version": "3.12.4"
  }
 },
 "nbformat": 4,
 "nbformat_minor": 5
}
