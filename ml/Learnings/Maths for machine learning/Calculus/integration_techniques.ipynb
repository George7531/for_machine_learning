{
 "cells": [
  {
   "cell_type": "markdown",
   "id": "a9bcc8b5-a89c-4704-a32f-07b80e582613",
   "metadata": {},
   "source": [
    "# day 430"
   ]
  },
  {
   "cell_type": "markdown",
   "id": "eb5efbce-ff81-42c4-9ad2-84034b0b8c83",
   "metadata": {},
   "source": [
    "# Integration with U-substitution\n",
    "\n",
    "* U-substitution can only be carried out to find the antiderivatives of an equation only if the equation is in the form of a chain rule.\n",
    "![sfsd](images/160824_calc.png)\n",
    "\n",
    "\n",
    "![sfsd](images/170824_calc2.png)\\].le."
   ]
  },
  {
   "cell_type": "code",
   "execution_count": null,
   "id": "6fc6a6cc-c568-402a-aad5-a77f5db6892e",
   "metadata": {},
   "outputs": [],
   "source": []
  },
  {
   "cell_type": "markdown",
   "id": "ba916ba9-cfa0-4853-8d45-3261756e6c28",
   "metadata": {},
   "source": [
    "# day 431"
   ]
  },
  {
   "cell_type": "markdown",
   "id": "61920c16-4852-4aec-8e4b-50cc633b7afd",
   "metadata": {},
   "source": [
    "## subtituting the difficult part\n",
    "\n",
    "![sdfsd](images/170824_calc.png)"
   ]
  },
  {
   "cell_type": "code",
   "execution_count": null,
   "id": "22001116-8d30-445f-8bef-1a251326ef0a",
   "metadata": {},
   "outputs": [],
   "source": []
  },
  {
   "cell_type": "markdown",
   "id": "9d1d4cbd-9f5b-4552-8989-9d2672c33c84",
   "metadata": {},
   "source": [
    "# another example"
   ]
  },
  {
   "cell_type": "markdown",
   "id": "2f39436c-db6c-443e-97df-064efe0f7e92",
   "metadata": {},
   "source": [
    "![sdfsd](images/170824_calc1.png)"
   ]
  },
  {
   "cell_type": "code",
   "execution_count": null,
   "id": "fa6e2028-a99b-4af8-9532-e9d45837348c",
   "metadata": {},
   "outputs": [],
   "source": []
  },
  {
   "cell_type": "markdown",
   "id": "4f39d5dc-a8ea-4338-8e77-a1161a37c057",
   "metadata": {},
   "source": [
    "# Article to read:\n",
    "[click me 🍌🍌🍌](https://www.khanacademy.org/math/calculus-2/cs2-integration-techniques/cs2-integrating-with-u-substitution/a/review-applying-u-substitution)"
   ]
  },
  {
   "cell_type": "code",
   "execution_count": null,
   "id": "c1d3c35e-7c2d-4bd0-9050-601f7f57ef4e",
   "metadata": {},
   "outputs": [],
   "source": []
  },
  {
   "cell_type": "markdown",
   "id": "398d7106-f9cf-4459-8eef-23d5ca5d6573",
   "metadata": {},
   "source": [
    "![sfsd](images/170824_calc3.png)"
   ]
  },
  {
   "cell_type": "code",
   "execution_count": null,
   "id": "ee7c47d5-f927-4c8c-a4c9-2f7b3d9bbc59",
   "metadata": {},
   "outputs": [],
   "source": []
  },
  {
   "cell_type": "markdown",
   "id": "d4e15b4a-b486-48a3-a2ce-2175c8d61e25",
   "metadata": {},
   "source": [
    "# day 435"
   ]
  },
  {
   "cell_type": "markdown",
   "id": "1fdee6da-21cc-4e0c-b0d7-f9092dee06cf",
   "metadata": {},
   "source": [
    "# U-substitution to find integral(anti derivative) in definite integral(with bounds):\n",
    "\n",
    "![sfsf](images/200824_calc.png)\n",
    "\n",
    "**video link**: [video link](https://www.khanacademy.org/math/calculus-2/cs2-integration-techniques/cs2-integrating-with-u-substitution/v/u-substitution-definite-integrals)\n",
    "\n",
    "\n",
    "**Article link:** [Article to read](https://www.khanacademy.org/math/calculus-2/cs2-integration-techniques/cs2-integrating-with-u-substitution/a/u-substitution-definite-integrals)"
   ]
  },
  {
   "cell_type": "code",
   "execution_count": null,
   "id": "166eeb17-d911-4f33-a2c2-74ee111d282e",
   "metadata": {},
   "outputs": [],
   "source": []
  },
  {
   "cell_type": "markdown",
   "id": "d1108fc0-db2c-4544-95d5-2535662776dc",
   "metadata": {},
   "source": [
    "# day 447"
   ]
  },
  {
   "cell_type": "code",
   "execution_count": 6,
   "id": "f358e017-a7fb-4ef9-8a4e-b793b465ee9e",
   "metadata": {},
   "outputs": [],
   "source": [
    "import numpy as np\n",
    "import sympy as sym\n",
    "from IPython.display import display,Math\n",
    "sym.init_printing()\n",
    "import matplotlib.pyplot as plt"
   ]
  },
  {
   "cell_type": "code",
   "execution_count": 26,
   "id": "f6f58c28-85e3-4d5c-a677-ed0a8576c560",
   "metadata": {},
   "outputs": [
    {
     "data": {
      "image/png": "[encoded data removed]",
      "text/latex": [
       "$\\displaystyle - \\frac{\\cos^{4}{\\left(x \\right)}}{4}$"
      ],
      "text/plain": [
       "    4    \n",
       "-cos (x) \n",
       "─────────\n",
       "    4    "
      ]
     },
     "execution_count": 26,
     "metadata": {},
     "output_type": "execute_result"
    }
   ],
   "source": [
    "x = sym.symbols('x')\n",
    "\n",
    "fx = sym.sin(x) * sym.cos(x)**3\n",
    "\n",
    "sym.integrate(fx,(x))"
   ]
  },
  {
   "cell_type": "code",
   "execution_count": null,
   "id": "a15acae0-7739-4a5a-9105-210609129820",
   "metadata": {},
   "outputs": [],
   "source": []
  },
  {
   "cell_type": "markdown",
   "id": "513d4417-841a-48b9-a82a-edd20e71079d",
   "metadata": {},
   "source": [
    "# day 449"
   ]
  },
  {
   "cell_type": "markdown",
   "id": "ecc96e43-9c1c-4e4c-a4fa-0688a22ebaba",
   "metadata": {},
   "source": [
    "# Finding the Antiderivative from Derivative is the process of finding the CAUSE from the EFFECT!!!"
   ]
  },
  {
   "cell_type": "code",
   "execution_count": null,
   "id": "af2ed79d-e80b-440c-a309-9c10f6b5d527",
   "metadata": {},
   "outputs": [],
   "source": []
  },
  {
   "cell_type": "markdown",
   "id": "0431f072-b646-4dfd-aed2-ec3cc4fa72bf",
   "metadata": {},
   "source": [
    "# day 450"
   ]
  },
  {
   "cell_type": "markdown",
   "id": "f12cf00f-40bf-4c94-9d6b-a9b35f4fe050",
   "metadata": {},
   "source": [
    "![sdfsdf](images/100924_calc.jpg)\n",
    "\n",
    "* look at this marvel. practice it"
   ]
  },
  {
   "cell_type": "code",
   "execution_count": null,
   "id": "4e3bee20-800f-44cc-b159-cea1813a158a",
   "metadata": {},
   "outputs": [],
   "source": []
  },
  {
   "cell_type": "markdown",
   "id": "6e5e937a-e249-47b3-9db7-718e14c30d91",
   "metadata": {},
   "source": [
    "## simplifying an original algebraic equation with U-substitution\n",
    "\n",
    "![sfsfs](images/100924_calc1.jpg)"
   ]
  },
  {
   "cell_type": "code",
   "execution_count": null,
   "id": "743d4e03-3931-4adf-abf8-ce786c73f021",
   "metadata": {},
   "outputs": [],
   "source": []
  },
  {
   "cell_type": "markdown",
   "id": "40116bd9-bb41-467d-98cf-e46a6cb7aea4",
   "metadata": {},
   "source": [
    "# day 450"
   ]
  },
  {
   "cell_type": "markdown",
   "id": "788774c5-635a-4d9e-8dd9-c9090fef9dc9",
   "metadata": {},
   "source": [
    "# Double U-substitution\n",
    "\n",
    "![fdsfsdf](images/120924_calc.jpg)\n",
    "\n",
    "* we could have solved this problem with just 1 U substituion but remember for more complex problems this technique could become very handy wielding us with more power to do ablation-analysis."
   ]
  },
  {
   "cell_type": "code",
   "execution_count": null,
   "id": "3a9aa5c4-7c00-4669-95e2-d19148242bc8",
   "metadata": {},
   "outputs": [],
   "source": []
  },
  {
   "cell_type": "markdown",
   "id": "ea918522-0eaa-4487-b98e-81e9afb62bfd",
   "metadata": {},
   "source": [
    "# simplify with long-division before integration\n",
    "\n",
    "![sfsfs](images/120924_calc1.jpg)"
   ]
  },
  {
   "cell_type": "code",
   "execution_count": null,
   "id": "de81c089-0d73-4979-ae90-d976e9e91ac2",
   "metadata": {},
   "outputs": [],
   "source": []
  },
  {
   "cell_type": "markdown",
   "id": "4c5882fc-d34e-400d-8fe2-16491efb4d85",
   "metadata": {},
   "source": [
    "# day 451"
   ]
  },
  {
   "cell_type": "markdown",
   "id": "1ea8bfcd-2d17-4335-8aab-04ee001edeac",
   "metadata": {},
   "source": [
    "# Integration using completing the square\n",
    "\n",
    "![sfsf](images/130924_calc.jpg)\n",
    "* notice how u substitution is done here."
   ]
  },
  {
   "cell_type": "code",
   "execution_count": null,
   "id": "4a6d1daf-583d-470b-896a-d071e95d4f93",
   "metadata": {},
   "outputs": [],
   "source": []
  },
  {
   "cell_type": "markdown",
   "id": "91a3de00-e763-4ab2-96ed-8a88b8309c55",
   "metadata": {},
   "source": [
    "# day 452"
   ]
  },
  {
   "cell_type": "markdown",
   "id": "80e416b1-49cb-4a2c-a5c3-33f6e1c2fea0",
   "metadata": {},
   "source": [
    "# integrating with the help of trignometric identities\n",
    "\n",
    "![fsfs](images/140924_calc.jpg)\n"
   ]
  },
  {
   "cell_type": "code",
   "execution_count": null,
   "id": "28b41045-4948-4dbb-ba2e-55ccdfe06192",
   "metadata": {},
   "outputs": [],
   "source": []
  },
  {
   "cell_type": "markdown",
   "id": "413c3029-dfe1-4cde-b1d5-1073566decbb",
   "metadata": {},
   "source": [
    "![fsfsd](images/140924_calc1.jpg)"
   ]
  },
  {
   "cell_type": "code",
   "execution_count": null,
   "id": "ac97119b-b0ef-4cb0-b1de-d1b12118956f",
   "metadata": {},
   "outputs": [],
   "source": []
  },
  {
   "cell_type": "markdown",
   "id": "1e070c3c-802f-4c7b-8d9a-e1d8c1314da8",
   "metadata": {},
   "source": [
    "## using double angle identity formula(from precalculus)"
   ]
  },
  {
   "cell_type": "markdown",
   "id": "e3631a7c-83ba-4585-8f05-60c6d8dc45ee",
   "metadata": {},
   "source": [
    "![fsdfsd](images/140924_calc2.jpg)"
   ]
  },
  {
   "cell_type": "code",
   "execution_count": null,
   "id": "ccf03351-36d9-4212-b14f-669555a37e01",
   "metadata": {},
   "outputs": [],
   "source": []
  },
  {
   "cell_type": "markdown",
   "id": "98d7b71d-c68c-46fb-9cfa-3b27b038e6b0",
   "metadata": {},
   "source": [
    "# A quick trignometry overview"
   ]
  },
  {
   "cell_type": "markdown",
   "id": "1aa649a5-d30c-4a70-8eeb-e089d1f1da1e",
   "metadata": {},
   "source": [
    "# Law of sines\n",
    "![sdsf](images/140924_calc3.jpg)"
   ]
  },
  {
   "cell_type": "code",
   "execution_count": null,
   "id": "23b77c4a-6dc3-4ab4-b0a8-bc206f22bc6c",
   "metadata": {},
   "outputs": [],
   "source": []
  },
  {
   "cell_type": "markdown",
   "id": "78c83fac-5604-4e96-a939-12a084359f32",
   "metadata": {},
   "source": [
    "![sdfs](images/140924_calc4.jpg)\n",
    "\n",
    "* law of cosine is: $ c^2 = a^2 + b^2 -2abcos(\\theta) $\n",
    "* law of sine is: $ \\frac{sin(\\theta)}{\\text{opp length}} $\n",
    "\n",
    "## things to remember:\n",
    "* $ sin^{-1} $ gives only acute angle.\n",
    "* in order to find obtuse angle we need to subtract the acute angle from 180.\n",
    "\n"
   ]
  },
  {
   "cell_type": "code",
   "execution_count": null,
   "id": "513fcc12-049c-4e10-bcd3-5987c284655e",
   "metadata": {},
   "outputs": [],
   "source": []
  },
  {
   "cell_type": "markdown",
   "id": "ee29be55-bee7-40c8-afa8-692e4fa4c52b",
   "metadata": {},
   "source": [
    "# day 453"
   ]
  },
  {
   "cell_type": "markdown",
   "id": "27af5c97-a6f7-4ae3-8a37-e319d40c1a82",
   "metadata": {},
   "source": [
    "## law of cosines:\n",
    "![sfsdfs](images/160924_calc.jpg)\n",
    "![ssdfs](images/160924_calc1.jpg)\n",
    "\n",
    "\n",
    "## proof for law of cosines from SOH CAH TOA:\n",
    "![fsdfsd](images/160924_calc2.jpg)"
   ]
  },
  {
   "cell_type": "code",
   "execution_count": null,
   "id": "ce7645e3-c7e8-487f-aca1-13dea1e9ed33",
   "metadata": {},
   "outputs": [],
   "source": []
  },
  {
   "cell_type": "markdown",
   "id": "6970156c-185c-47c4-ac57-b7c52416809e",
   "metadata": {},
   "source": [
    "# Article to read from trignometric practice:\n",
    "[click here](https://www.khanacademy.org/math/precalculus/x9e81a4f98389efdf:trig/x9e81a4f98389efdf:solving-general-triangles/a/laws-of-sines-and-cosines-review)"
   ]
  },
  {
   "cell_type": "code",
   "execution_count": null,
   "id": "9c6e312e-c9c6-4bd8-941c-73717d288599",
   "metadata": {},
   "outputs": [],
   "source": []
  },
  {
   "cell_type": "markdown",
   "id": "d8494227-52fb-40b8-8d86-829740d86183",
   "metadata": {},
   "source": [
    "# Sinusoidal Equations:\n",
    "![fsf](images/160924_calc3.jpg)\n",
    "![fsfs](images/160924_calc4.jpg)\n",
    "\n",
    "## Rules:\n",
    "* cos(theta) = cos(theta)\n",
    "* cos(theta) = cos(-theta)\n",
    "* sin(theta) = sin(theta)\n",
    "* sin(-theta) = -sin(theta)"
   ]
  },
  {
   "cell_type": "code",
   "execution_count": 37,
   "id": "bcdd317b-a636-4b6c-ab15-b8cf2b0e2fc9",
   "metadata": {},
   "outputs": [
    {
     "data": {
      "text/plain": [
       "26.6703283267009"
      ]
     },
     "execution_count": 37,
     "metadata": {},
     "output_type": "execute_result"
    }
   ],
   "source": [
    "4*np.arcsin(3/8)-8*np.pi*-1"
   ]
  },
  {
   "cell_type": "markdown",
   "id": "1ef2d860-0c08-4a64-ad50-26863e68917f",
   "metadata": {},
   "source": [
    "# day 456"
   ]
  },
  {
   "cell_type": "code",
   "execution_count": 2,
   "id": "8b392ec5-df19-457b-b221-3c151eb2814a",
   "metadata": {},
   "outputs": [],
   "source": [
    "import numpy as np\n",
    "import sympy as sym\n",
    "from IPython.display import display,Math\n",
    "sym.init_printing()\n",
    "import matplotlib.pyplot as plt"
   ]
  },
  {
   "cell_type": "code",
   "execution_count": 4,
   "id": "60fef2ef-1f62-4ce5-a956-04d8cd22bb48",
   "metadata": {},
   "outputs": [
    {
     "data": {
      "image/png": "[encoded data removed]",
      "text/latex": [
       "$\\displaystyle - \\log{\\left(\\cos{\\left(x \\right)} \\right)}$"
      ],
      "text/plain": [
       "-log(cos(x))"
      ]
     },
     "execution_count": 4,
     "metadata": {},
     "output_type": "execute_result"
    }
   ],
   "source": [
    "\n",
    "x = sym.symbols('x')\n",
    "eq = sym.tan(x)\n",
    "\n",
    "sym.integrate(eq,x)"
   ]
  },
  {
   "cell_type": "code",
   "execution_count": 10,
   "id": "e6908a27-e353-4f6f-afe2-29d3acec3577",
   "metadata": {},
   "outputs": [
    {
     "data": {
      "image/png": "[encoded data removed]",
      "text/latex": [
       "$\\displaystyle \\sin^{4}{\\left(x \\right)}$"
      ],
      "text/plain": [
       "   4   \n",
       "sin (x)"
      ]
     },
     "execution_count": 10,
     "metadata": {},
     "output_type": "execute_result"
    }
   ],
   "source": [
    "eq = sym.sin(x)**4\n",
    "\n",
    "sym.expand_trig(eq)"
   ]
  },
  {
   "cell_type": "code",
   "execution_count": null,
   "id": "6c79b540-5572-4b6d-a483-e6d5332ad391",
   "metadata": {},
   "outputs": [],
   "source": []
  },
  {
   "cell_type": "markdown",
   "id": "076fa5a7-0aaf-407f-aae7-6477c1618bd3",
   "metadata": {},
   "source": [
    "# day 457"
   ]
  },
  {
   "cell_type": "markdown",
   "id": "cf74af82-49d8-4c16-99f7-da48382e235e",
   "metadata": {},
   "source": [
    "# thing to memorize: \n",
    "* this is what khan academy told us to do:to memorize it, can you beleive it? \n",
    "\n",
    "## $$ \\int{\\sec(x) } dx = ln(|\\sec(x) + \\tan(x) |) $$"
   ]
  },
  {
   "cell_type": "code",
   "execution_count": null,
   "id": "f05393de-7ce2-4145-b7cc-0c9ea07ec919",
   "metadata": {},
   "outputs": [],
   "source": []
  },
  {
   "cell_type": "markdown",
   "id": "0d8fb023-6b7e-4b3e-bf62-72917520bb0d",
   "metadata": {},
   "source": [
    "thing to memorize:\n",
    "* memorize this formula: integration by parts using product rule of differentiation. more eloborate detail is given down this notebook for referene.\n",
    "## $$ \\int{f \\: g^{'} dx} = fg - \\int{f^{'} g} $$ "
   ]
  },
  {
   "cell_type": "code",
   "execution_count": null,
   "id": "ca24d15e-9115-4af0-a022-db94b9788e11",
   "metadata": {},
   "outputs": [],
   "source": []
  },
  {
   "cell_type": "markdown",
   "id": "807199c8-e89a-4d49-a83f-c08f8df67382",
   "metadata": {},
   "source": [
    "# day 458"
   ]
  },
  {
   "cell_type": "markdown",
   "id": "4daceae1-fccb-457e-b8a9-9b83f1d2833e",
   "metadata": {},
   "source": [
    "# Trignometric Substitution"
   ]
  },
  {
   "cell_type": "markdown",
   "id": "8ec71f6c-7957-4734-b35a-beff2d6ad157",
   "metadata": {},
   "source": [
    "![sfs](images/031024_calc.jpg)\n",
    "\n",
    "* answer is arcsin(x/2) + c"
   ]
  },
  {
   "cell_type": "code",
   "execution_count": null,
   "id": "28975479-ad8e-412f-b582-708dd6909ba8",
   "metadata": {},
   "outputs": [],
   "source": []
  },
  {
   "cell_type": "markdown",
   "id": "20429d06-aee4-42f8-b1eb-620d72cc7ba0",
   "metadata": {},
   "source": [
    "![sfs](images/031024_calc1.jpg)\n"
   ]
  },
  {
   "cell_type": "code",
   "execution_count": null,
   "id": "f3ef88b6-c623-4ed8-b955-6a8ff9212c19",
   "metadata": {},
   "outputs": [],
   "source": []
  },
  {
   "cell_type": "markdown",
   "id": "bbdc11cd-c5c7-4ccc-ad6c-eb569f107645",
   "metadata": {},
   "source": [
    "![sfsd](images/031024_calc2.jpg)"
   ]
  },
  {
   "cell_type": "code",
   "execution_count": null,
   "id": "8249118f-d172-45b5-8d21-b536a4a83e2c",
   "metadata": {},
   "outputs": [],
   "source": []
  },
  {
   "cell_type": "markdown",
   "id": "31dc46dc-a5c7-495e-858e-26921f192a02",
   "metadata": {},
   "source": [
    "# day 459"
   ]
  },
  {
   "cell_type": "markdown",
   "id": "a40ed032-573b-4df9-a999-56d54430e0e2",
   "metadata": {},
   "source": [
    "# Trig substitution with tangent\n",
    "\n",
    "![sfsdf](images/041024_calc.jpg)"
   ]
  },
  {
   "cell_type": "code",
   "execution_count": null,
   "id": "95110521-2a3a-42ef-a0e0-b0758c1ca095",
   "metadata": {},
   "outputs": [],
   "source": []
  },
  {
   "cell_type": "markdown",
   "id": "c7954084-848f-4877-a7d6-118729acd0a0",
   "metadata": {},
   "source": [
    "# day 460"
   ]
  },
  {
   "cell_type": "markdown",
   "id": "cee498fd-64ef-447b-83dc-28e293659ab2",
   "metadata": {},
   "source": [
    "## Basic Trig formulae for quick calculation:\n",
    "* things to keep in mind:\n",
    "\n",
    "  \n",
    "1. sin(a+b) = sin(a)cos(b) + cos(a)sin(b)\n",
    "2. cos(a+b) = cos(a)cos(b) - sin(a)sin(b)\n",
    "3. $ sin^2(\\theta) = 1-cos^2(\\theta) $\n",
    "4. $ sec^2(\\theta) = 1 + tan^2(\\theta) $\n",
    "5. $ \\text{ if } \\quad a^2 - x^2  \\quad \\text{ then } \\quad x = a sin(\\theta) $\n",
    "6. $ \\text{ if } \\quad a^2 + x^2  \\quad \\text{ then } \\quad x = a tan(\\theta) $\n",
    "7. $ cos^{2}(\\theta) = \\frac{1}{2} (1+cos(2 \\theta)) $\n",
    "8. $ sin^{2}(\\theta) = \\frac{1}{2} (1-cos(2 \\theta)) $\n",
    "   "
   ]
  },
  {
   "cell_type": "code",
   "execution_count": null,
   "id": "985fffd4-1f4c-4ae2-8e5a-ddc5b58d8762",
   "metadata": {},
   "outputs": [],
   "source": []
  },
  {
   "cell_type": "markdown",
   "id": "6b887677-7d3f-4266-b97c-869ab20cd6b8",
   "metadata": {},
   "source": [
    "# day 461"
   ]
  },
  {
   "cell_type": "markdown",
   "id": "5de4e53c-918b-46ec-a561-7916ffcd0ddc",
   "metadata": {},
   "source": [
    "These trigonometric substitutions arise from specific relationships in trigonometry and are used to simplify integrals or equations that involve square roots. Each substitution is chosen to take advantage of identities involving sine, tangent, or secant that eliminate square roots and allow easier manipulation. Here’s why each one is used:\n",
    "\n",
    "### 1. **When $ a^2 - x^2 $, substitute $ x = a \\sin(\\theta) $:**\n",
    "   \n",
    "The expression $ \\sqrt{a^2 - x^2} $ suggests a connection to the Pythagorean identity $ \\sin^2(\\theta) + \\cos^2(\\theta) = 1 $.\n",
    "\n",
    "If we substitute $ x = a \\sin(\\theta) $, we get:\n",
    "\n",
    "$ x^2 = a^2 \\sin^2(\\theta) $\n",
    "\n",
    "Thus,\n",
    "\n",
    "$ a^2 - x^2 = a^2 - a^2 \\sin^2(\\theta) = a^2 \\cos^2(\\theta) $\n",
    "\n",
    "And then:\n",
    "\n",
    "$ \\sqrt{a^2 - x^2} = a \\cos(\\theta) $\n",
    "\n",
    "This substitution eliminates the square root, simplifying the expression.\n",
    "\n",
    "### 2. **When $ a^2 + x^2 $, substitute $ x = a \\tan(\\theta) $:**\n",
    "   \n",
    "For $ \\sqrt{a^2 + x^2} $, we use the identity $ 1 + \\tan^2(\\theta) = \\sec^2(\\theta) $.\n",
    "\n",
    "Substitute $ x = a \\tan(\\theta) $:\n",
    "$ x^2 = a^2 \\tan^2(\\theta) $\n",
    "\n",
    "Thus,\n",
    "$ a^2 + x^2 = a^2 + a^2 \\tan^2(\\theta) = a^2 \\sec^2(\\theta) $\n",
    "\n",
    "And then:\n",
    "\n",
    "$ \\sqrt{a^2 + x^2} = a \\sec(\\theta) $\n",
    "\n",
    "This substitution simplifies the square root in terms of secant, making the equation more tractable.\n",
    "\n",
    "### 3. **When $ x^2 - a^2 $, substitute $ x = a \\sec(\\theta)  $:**\n",
    "   \n",
    "For $ \\sqrt{x^2 - a^2} $, the identity $ \\sec^2(\\theta) - 1 = \\tan^2(\\theta)  $ is useful.\n",
    "\n",
    "Substitute $ x = a \\sec(\\theta)  $:\n",
    "$ x^2 = a^2 \\sec^2(\\theta) $\n",
    "\n",
    "Thus,\n",
    "$ x^2 - a^2 = a^2 \\sec^2(\\theta) - a^2 = a^2 \\tan^2(\\theta) $\n",
    "\n",
    "And then:\n",
    "$ \\sqrt{x^2 - a^2} = a \\tan(\\theta) $\n",
    "This eliminates the square root and reduces the equation to a simpler trigonometric form.\n",
    "\n",
    "### Summary:\n",
    "- **For $ a^2 - x^2 $**: Substitution $ x = a \\sin(\\theta) $ simplifies using $ \\sin^2(\\theta) + \\cos^2(\\theta) = 1 $.\n",
    "- **For $ a^2 + x^2 $**: Substitution $ x = a \\tan(\\theta) $ simplifies using $ 1 + \\tan^2(\\theta) = \\sec^2(\\theta) $.\n",
    "- **For $ x^2 - a^2 $**: Substitution $ x = a \\sec(\\theta) $ simplifies using $ \\sec^2(\\theta) - 1 = \\tan^2(\\theta) $.\n",
    "\n",
    "These substitutions are typically applied in solving integrals involving square roots to convert them into more manageable trigonometric forms."
   ]
  },
  {
   "cell_type": "code",
   "execution_count": null,
   "id": "7d173f51-445a-427c-beb5-ab103de0d301",
   "metadata": {},
   "outputs": [],
   "source": []
  },
  {
   "cell_type": "markdown",
   "id": "6e9f4b66-1260-4aa2-9321-f3a13d483d57",
   "metadata": {},
   "source": [
    "# day 461"
   ]
  },
  {
   "cell_type": "markdown",
   "id": "ba5690c4-d6c1-497f-b92d-d791ac16460f",
   "metadata": {},
   "source": [
    "# Integration by parts:"
   ]
  },
  {
   "cell_type": "markdown",
   "id": "a9da3363-5aa4-4468-8540-3f0b773375bb",
   "metadata": {},
   "source": [
    "* this is beautiful now that we have found a missing piece of our previously unsolved puzzle.\n",
    "* thing to memorize:\n",
    "* memorize this formula: integration by parts using product rule of differentiation. more eloborate detail is given down this notebook for referene.\n",
    "## $$ \\int{f \\: g^{'} dx} = fg - \\int{f^{'} g} $$ "
   ]
  },
  {
   "cell_type": "markdown",
   "id": "4d14956a-664a-46ca-add7-8b46a1303bef",
   "metadata": {},
   "source": [
    "![sfs](images/071024_calc.jpg)\n",
    "\n",
    "## example:\n",
    "![sfsd](images/071024_calc1.jpg)"
   ]
  },
  {
   "cell_type": "code",
   "execution_count": null,
   "id": "b7d9aee3-cd5f-4cbf-a712-7f9f52a077c1",
   "metadata": {},
   "outputs": [],
   "source": []
  },
  {
   "cell_type": "markdown",
   "id": "f18b3ed2-1411-4cdd-ab2c-b54ae1c4bbfd",
   "metadata": {},
   "source": [
    "# day 462"
   ]
  },
  {
   "cell_type": "markdown",
   "id": "44e80091-a122-4d44-80b8-0324795c9d57",
   "metadata": {},
   "source": [
    "![sdsf](images/081024_calc.jpg)"
   ]
  },
  {
   "cell_type": "markdown",
   "id": "a71975d6-7d1e-41bd-8ecb-f7a24a5d69d5",
   "metadata": {},
   "source": [
    "![sdsf](images/081024_calc1.jpg)"
   ]
  },
  {
   "cell_type": "code",
   "execution_count": 23,
   "id": "6c29e727-afb7-4563-a457-a2eb8100c5d8",
   "metadata": {},
   "outputs": [
    {
     "data": {
      "text/latex": [
       "$\\displaystyle x \\operatorname{asin}{\\left(x \\right)} + \\sqrt{1 - x^{2}}$"
      ],
      "text/plain": [
       "x*asin(x) + sqrt(1 - x**2)"
      ]
     },
     "execution_count": 23,
     "metadata": {},
     "output_type": "execute_result"
    }
   ],
   "source": [
    "import numpy as np\n",
    "import sympy as sym\n",
    "\n",
    "x = sym.symbols('x')\n",
    "eq = sym.asin(x)\n",
    "sym.integrate(eq,x)"
   ]
  },
  {
   "cell_type": "code",
   "execution_count": 25,
   "id": "416ddb24-12f0-4eca-8f66-8e5168d592b3",
   "metadata": {},
   "outputs": [
    {
     "data": {
      "text/latex": [
       "$\\displaystyle \\frac{1}{\\sqrt{1 - x^{2}}}$"
      ],
      "text/plain": [
       "1/sqrt(1 - x**2)"
      ]
     },
     "execution_count": 25,
     "metadata": {},
     "output_type": "execute_result"
    }
   ],
   "source": [
    "sym.diff(eq,x)"
   ]
  },
  {
   "cell_type": "code",
   "execution_count": 27,
   "id": "cced30b6-0f30-46f8-8c4d-c601009bcdc6",
   "metadata": {},
   "outputs": [
    {
     "data": {
      "text/latex": [
       "$\\displaystyle \\frac{x}{\\left(1 - x^{2}\\right)^{\\frac{3}{2}}}$"
      ],
      "text/plain": [
       "x/(1 - x**2)**(3/2)"
      ]
     },
     "execution_count": 27,
     "metadata": {},
     "output_type": "execute_result"
    }
   ],
   "source": [
    "sym.diff(sym.diff(eq,x))"
   ]
  },
  {
   "cell_type": "code",
   "execution_count": null,
   "id": "6da1c823-c47e-437b-95f3-2f0f5e66666e",
   "metadata": {},
   "outputs": [],
   "source": []
  },
  {
   "cell_type": "markdown",
   "id": "ebe7624b-acfe-48f2-8f95-e2aa7fa77562",
   "metadata": {},
   "source": [
    "# day 463"
   ]
  },
  {
   "cell_type": "markdown",
   "id": "7fa65fae-3411-433d-b275-9c376265bfed",
   "metadata": {},
   "source": [
    "# integrate by parts for definite integral"
   ]
  },
  {
   "cell_type": "markdown",
   "id": "60f4dde5-19fc-4fb3-8459-a20a7796ebb9",
   "metadata": {},
   "source": [
    "![ffsdfsd](images/091024_calc.jpg)"
   ]
  },
  {
   "cell_type": "code",
   "execution_count": null,
   "id": "33d0d583-87ff-407b-97b1-0f164792ce20",
   "metadata": {},
   "outputs": [],
   "source": []
  },
  {
   "cell_type": "code",
   "execution_count": null,
   "id": "8c5f706e-6fb8-4e1f-8d79-7c4966ecf682",
   "metadata": {},
   "outputs": [],
   "source": []
  },
  {
   "cell_type": "markdown",
   "id": "a5c29221-d18a-4f0d-972a-58e1949f65bc",
   "metadata": {},
   "source": [
    "# day 465"
   ]
  },
  {
   "cell_type": "markdown",
   "id": "6b6051d0-128e-4eb5-a5ae-dcd634187916",
   "metadata": {},
   "source": [
    "# Remember: you can always check if your result is correct by differentiating it "
   ]
  },
  {
   "cell_type": "code",
   "execution_count": null,
   "id": "cd4d3a51-d637-4030-93c2-1420fc8dba3c",
   "metadata": {},
   "outputs": [],
   "source": []
  },
  {
   "cell_type": "markdown",
   "id": "962e2efa-55ed-4820-ace5-6b8599597a5c",
   "metadata": {},
   "source": [
    "# finding integral with the help of partial fraction decompostion"
   ]
  },
  {
   "cell_type": "markdown",
   "id": "61a509b3-d4ac-411d-b968-55a10edfd302",
   "metadata": {},
   "source": [
    "![sfsdf](images/111024_calc.jpg)\n",
    "\n",
    "* see how partial fraction decomposition is done: i have learned a new thing"
   ]
  },
  {
   "cell_type": "code",
   "execution_count": null,
   "id": "045fa09a-7630-49b0-92cd-dfbc08511fa0",
   "metadata": {},
   "outputs": [],
   "source": []
  },
  {
   "cell_type": "markdown",
   "id": "4048718a-bc85-4047-aa5a-8cd9b20b5f8a",
   "metadata": {},
   "source": [
    "# day 470"
   ]
  },
  {
   "cell_type": "markdown",
   "id": "e3abb035-5ad4-4271-b590-1244fa27e3d3",
   "metadata": {},
   "source": [
    "# improper integrals"
   ]
  },
  {
   "cell_type": "markdown",
   "id": "20bf57a0-83de-41da-84fa-15909d4e8306",
   "metadata": {},
   "source": [
    "## convergent improper integral\n",
    "![sdfsd](images/151024_calc.jpg)\n",
    "* $ ( \\frac{1}{\\inf}) = 0 $\n",
    "\n",
    "\n",
    "## divergent improper integrals:\n",
    "![sdfsd](images/151024_calc1.jpg)"
   ]
  },
  {
   "cell_type": "code",
   "execution_count": null,
   "id": "a2d01b94-432f-46c0-8d93-0ec7c547bd0c",
   "metadata": {},
   "outputs": [],
   "source": []
  },
  {
   "cell_type": "code",
   "execution_count": null,
   "id": "22d88432-838e-4319-aaa7-219ef80236a3",
   "metadata": {},
   "outputs": [],
   "source": []
  },
  {
   "cell_type": "code",
   "execution_count": null,
   "id": "3d574a2d-85d9-4459-af0b-db2998699aed",
   "metadata": {},
   "outputs": [],
   "source": []
  }
 ],
 "metadata": {
  "kernelspec": {
   "display_name": "Python 3 (ipykernel)",
   "language": "python",
   "name": "python3"
  },
  "language_info": {
   "codemirror_mode": {
    "name": "ipython",
    "version": 3
   },
   "file_extension": ".py",
   "mimetype": "text/x-python",
   "name": "python",
   "nbconvert_exporter": "python",
   "pygments_lexer": "ipython3",
   "version": "3.12.4"
  }
 },
 "nbformat": 4,
 "nbformat_minor": 5
}
