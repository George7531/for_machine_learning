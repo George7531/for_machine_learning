version https://git-lfs.github.com/spec/v1
oid sha256:94a540438b6f49a056bdbd60d76f3dd0b410b0026779e5a5bdcf2177ab212df6
size 21424
