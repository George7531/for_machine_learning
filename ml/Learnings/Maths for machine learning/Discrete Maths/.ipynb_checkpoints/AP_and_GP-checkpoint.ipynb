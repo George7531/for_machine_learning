version https://git-lfs.github.com/spec/v1
oid sha256:e17aaf792ab42427afd5ad081450ac29fb4fd4bf5e72f83a7b488d7e68e606e8
size 16020
