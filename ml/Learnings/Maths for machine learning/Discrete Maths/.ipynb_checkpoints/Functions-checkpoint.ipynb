{
 "cells": [
  {
   "cell_type": "markdown",
   "id": "f1669c6d",
   "metadata": {},
   "source": [
    "# day 262"
   ]
  },
  {
   "cell_type": "markdown",
   "id": "b4eee32f",
   "metadata": {},
   "source": [
    "![sdfsdfs](function0.png)\n",
    "\n",
    "## notes:\n",
    "* if an element in the domain is connected to two elements in the range then it is not function that function is not valid. (sidenote:perhaps that element must have come from a quantum world where things are probabilistic and output of individuals are non-deterministic and the reference of our TIME as we know it, is invalid.)\n",
    "* but two elements in the domain can connect to one element of the range it is still a valid function.\n",
    "* if each element of the domain is connected to unique and all elements of the range then it is one-to-one function.\n",
    "\n",
    "\n",
    "## a picture related to the sidenote:\n",
    "![fsdfsf](function4.WEBP)\n",
    "\n",
    "* Explore the concept of quantum superposition, where particles exist in multiple states simultaneously until observed, and how it played a role in the early understanding of nuclear physics."
   ]
  },
  {
   "cell_type": "code",
   "execution_count": null,
   "id": "22f9ec62",
   "metadata": {},
   "outputs": [],
   "source": []
  },
  {
   "cell_type": "markdown",
   "id": "15b6e92b",
   "metadata": {},
   "source": [
    "# day 270"
   ]
  },
  {
   "cell_type": "markdown",
   "id": "7f16ee90",
   "metadata": {},
   "source": [
    "# Extract domain and range from a graph:\n",
    "\n",
    "![sfsfs](function1.png)\n",
    "\n",
    "## notes:\n",
    "* box [] means inclusive of.\n",
    "* parenthesis () means exclusive of."
   ]
  },
  {
   "cell_type": "code",
   "execution_count": null,
   "id": "6162a26c",
   "metadata": {},
   "outputs": [],
   "source": []
  },
  {
   "cell_type": "markdown",
   "id": "cb092529",
   "metadata": {},
   "source": [
    "# Even and Odd functions:\n",
    "\n",
    "![fsdffsd](function2.png)\n",
    "\n",
    "## notes:\n",
    "* even functions are symmetric when graphed\n",
    "* odd functions create mirror images when graphed.\n",
    "* just put -x in places of x in the function to see if it is an odd or even function.\n",
    "* even function: f(-x) = f(x)\n",
    "* odd functions: f(-x) = -f(x) \n",
    "* if the above conditions fail then it is neither an even function nor an odd function."
   ]
  },
  {
   "cell_type": "code",
   "execution_count": null,
   "id": "73a471ef",
   "metadata": {},
   "outputs": [],
   "source": []
  },
  {
   "cell_type": "markdown",
   "id": "945ef1fa",
   "metadata": {},
   "source": [
    "# One-to-one(injective function):\n",
    "\n",
    "![sdfsfs](function3.png)\n",
    "![fsfsdf](function5.png)\n",
    "![fsfs](function6.png)\n",
    "\n",
    "## notes:\n",
    "* A function is one-to-one if no two elements in the domain have the same range.\n",
    "* Test to see: draw a horizontal line on the graph to see if two or more elements in the domain have the same range\n",
    "* one-to-one function is also known as injective function.\n",
    "* all the elements in the domain and all the elements in the range are connected with one-to-one correspondence."
   ]
  },
  {
   "cell_type": "code",
   "execution_count": 14,
   "id": "16058716",
   "metadata": {},
   "outputs": [
    {
     "data": {
      "image/png": "[encoded data removed]",
      "text/plain": [
       "<Figure size 432x288 with 1 Axes>"
      ]
     },
     "metadata": {
      "needs_background": "light"
     },
     "output_type": "display_data"
    }
   ],
   "source": [
    "# checking for one-to-one\n",
    "\n",
    "import numpy as np\n",
    "import matplotlib.pyplot as plt\n",
    "\n",
    "x = np.linspace(-5,5,1101)\n",
    "\n",
    "n = np.arange(1,5,1)\n",
    "\n",
    "fx = np.zeros((len(x),len(n)))\n",
    "for i in range(len(n)):\n",
    "    fx[:,i] = x**n[i] - x\n",
    "\n",
    "plt.plot(fx);\n",
    "\n",
    "# conclusion: not injective(one-one)"
   ]
  },
  {
   "cell_type": "code",
   "execution_count": 19,
   "id": "57f728ec",
   "metadata": {},
   "outputs": [
    {
     "data": {
      "image/png": "[encoded data removed]",
      "text/plain": [
       "<Figure size 432x288 with 1 Axes>"
      ]
     },
     "metadata": {
      "needs_background": "light"
     },
     "output_type": "display_data"
    }
   ],
   "source": [
    "x = np.linspace(-5,5,1000)\n",
    "\n",
    "fx = x**2 - 6 \n",
    "\n",
    "plt.plot(x,fx); \n",
    "\n",
    "# conclusion: not injective(one-one)"
   ]
  },
  {
   "cell_type": "code",
   "execution_count": null,
   "id": "4db2d4cc",
   "metadata": {},
   "outputs": [],
   "source": []
  },
  {
   "cell_type": "markdown",
   "id": "531d7e61",
   "metadata": {},
   "source": [
    "# day 274"
   ]
  },
  {
   "cell_type": "markdown",
   "id": "e6ae1a27",
   "metadata": {},
   "source": [
    "# onto (surjective)\n",
    "\n",
    "![fsfsdf](function7.png)\n",
    "\n",
    "## notes:\n",
    "* a function is surjective if every element in the range has atleast a partner in the domain\n",
    "* a function is surjective even if one of the elements in the domain doesn't have connection with any of the elements in the range.\n",
    "* a function is one-to-one only if all the elements in the domain have exactly one partner in the range(perfect one-one).\n",
    "* **a one-to-one function(injective) concerns the covering of all elements in the domain and onto function(surjective) concerns the covering of all elements in range.**\n",
    "* if all the elements in the domain have exactly one corresponding partner in range, all the elements in the domain are covered but the range has still some elements left, it is still a one-to-one function."
   ]
  },
  {
   "cell_type": "code",
   "execution_count": null,
   "id": "1f742db2",
   "metadata": {},
   "outputs": [],
   "source": []
  },
  {
   "cell_type": "markdown",
   "id": "2e220580",
   "metadata": {},
   "source": [
    "# day 276"
   ]
  },
  {
   "cell_type": "markdown",
   "id": "d9cf643b",
   "metadata": {},
   "source": [
    "![sfsfsf](41_f0.png)\n",
    "![sfsfsf](41_f1.png)\n",
    "![sfsfsf](41_f2.png)\n",
    "\n",
    "## notes:\n",
    "* usually we would find the value for y given x\n",
    "* but for inverse we have to find the value for x. \n",
    "\n",
    "![sfsfsf](41_f3.png)\n",
    "![sfsfsf](41_f4.png)\n",
    "\n",
    "## notes:\n",
    "* step1: convert the equation into y = x.\n",
    "* step2: solve for x.\n",
    "* step3: replace y with x.\n",
    "\n"
   ]
  },
  {
   "cell_type": "code",
   "execution_count": null,
   "id": "8a3da76a",
   "metadata": {},
   "outputs": [],
   "source": []
  },
  {
   "cell_type": "markdown",
   "id": "57ebc324",
   "metadata": {},
   "source": [
    "# day 277,day 281"
   ]
  },
  {
   "cell_type": "markdown",
   "id": "2687d891",
   "metadata": {},
   "source": [
    "# long division\n",
    "\n",
    "![sfsdfsd](61_long1.png)"
   ]
  },
  {
   "cell_type": "markdown",
   "id": "275eff04-35cd-4af3-a176-11251ce8ece9",
   "metadata": {},
   "source": [
    "# day 500"
   ]
  },
  {
   "cell_type": "markdown",
   "id": "9e09a864-6cc0-4457-858b-9c72679c5958",
   "metadata": {},
   "source": [
    "# Amity lessons on functions"
   ]
  },
  {
   "cell_type": "markdown",
   "id": "0b0f25b1-69b8-4b5d-95d1-c91bef5d97d6",
   "metadata": {},
   "source": [
    "![fsfs](181124_func.jpg)\n",
    "![fsfs](181124_func1.jpg)\n",
    "![fsfs](181124_func2.jpg)\n",
    "\n",
    "## vertical line test to determine if a graph is a function:\n",
    "![fsfs](181124_func3.jpg)\n",
    "\n",
    "\n",
    "## horizontal line test to determine if a graph is one-to-one function:\n",
    "![fsfs](181124_func4.jpg)"
   ]
  },
  {
   "cell_type": "code",
   "execution_count": null,
   "id": "b0d7179d-6807-49f8-9d52-0148936a7189",
   "metadata": {},
   "outputs": [],
   "source": []
  },
  {
   "cell_type": "markdown",
   "id": "fcee0831-fde7-4020-8527-22b1133254cd",
   "metadata": {},
   "source": [
    "# functional analysis:\n",
    "\n",
    "![fsfs](181124_func5.jpg)\n",
    "![fsfs](181124_func6.jpg)\n",
    "![fsfs](181124_func7.jpg)\n",
    "![fsfs](181124_func8.jpg)\n",
    "![fsfs](181124_func9.jpg)\n",
    "![fsfs](181124_func10.jpg)\n",
    "![fsfs](181124_func11.jpg)\n",
    "![fsfs](181124_func12.jpg)"
   ]
  },
  {
   "cell_type": "code",
   "execution_count": null,
   "id": "af95a1a2-063e-4966-b51a-b7002fb91db3",
   "metadata": {},
   "outputs": [],
   "source": []
  }
 ],
 "metadata": {
  "kernelspec": {
   "display_name": "Python 3 (ipykernel)",
   "language": "python",
   "name": "python3"
  },
  "language_info": {
   "codemirror_mode": {
    "name": "ipython",
    "version": 3
   },
   "file_extension": ".py",
   "mimetype": "text/x-python",
   "name": "python",
   "nbconvert_exporter": "python",
   "pygments_lexer": "ipython3",
   "version": "3.12.4"
  }
 },
 "nbformat": 4,
 "nbformat_minor": 5
}
