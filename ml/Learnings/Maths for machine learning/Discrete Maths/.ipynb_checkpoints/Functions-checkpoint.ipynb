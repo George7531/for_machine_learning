version https://git-lfs.github.com/spec/v1
oid sha256:1b6f69f2116e7bdbb92d86e39076e3226dcf5e43264e245ef0462e8fe0ad8fe7
size 40761
