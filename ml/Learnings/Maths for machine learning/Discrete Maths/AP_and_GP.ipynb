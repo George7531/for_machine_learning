{
 "cells": [
  {
   "cell_type": "markdown",
   "id": "396771c1-8463-4800-9109-8aa1a3f3bfaf",
   "metadata": {},
   "source": [
    "# day 480"
   ]
  },
  {
   "cell_type": "code",
   "execution_count": null,
   "id": "43d68f10-d450-4b00-930a-f35c856d481d",
   "metadata": {},
   "outputs": [],
   "source": []
  },
  {
   "cell_type": "markdown",
   "id": "be4e45a8-96e6-45f4-b24c-0125accc2e9a",
   "metadata": {},
   "source": [
    "# Arithmetic progression:\n",
    "![fsf](281024_ap.jpg)\n",
    "![fsf](281024_ap1.jpg)\n",
    "![fsf](281024_ap2.jpg)"
   ]
  },
  {
   "cell_type": "code",
   "execution_count": null,
   "id": "2ca0417d-43c4-4afe-8b5d-a691f3832675",
   "metadata": {},
   "outputs": [],
   "source": []
  },
  {
   "cell_type": "markdown",
   "id": "6a8112cf-37ae-404d-bffa-65dad21349af",
   "metadata": {},
   "source": [
    "# Sum of AP:\n",
    "![fsf](281024_ap3.jpg)\n",
    "![fsf](281024_ap4.jpg)\n",
    "![fsf](281024_ap5.jpg)"
   ]
  },
  {
   "cell_type": "code",
   "execution_count": null,
   "id": "78d820d2-178d-426f-97f3-14083c1f160f",
   "metadata": {},
   "outputs": [],
   "source": []
  },
  {
   "cell_type": "markdown",
   "id": "4b937873-9b1c-4426-bd83-87f0f35d2b1d",
   "metadata": {},
   "source": [
    "# Representation of terms in AP:\n",
    "\n",
    "## 3 Terms, 4 Terms, 5 terms:\n",
    "![fsf](281024_ap6.jpg)\n",
    "\n",
    "## example: try to solve it yourself without looking at the answer\n",
    "![fsf](281024_ap7.jpg)\n",
    "\n",
    "## example2: try to solve it yourself without looking at the answer\n",
    "![fsf](281024_ap8.jpg)"
   ]
  },
  {
   "cell_type": "code",
   "execution_count": null,
   "id": "9892ba4d-0623-405f-822c-2aec902cba0e",
   "metadata": {},
   "outputs": [],
   "source": []
  },
  {
   "cell_type": "markdown",
   "id": "39db2943-2ba7-4593-a9b9-7e1c1040e6f0",
   "metadata": {},
   "source": [
    "# Arithmetic Mean between A and B:\n",
    "![fsf](281024_ap9.jpg)\n",
    "* B is the n+2th term from the last term(hence that +2 is added in a+(n-1)d formula) of the arithmetic progression \n",
    "\n",
    "![fsf](281024_ap10.jpg)\n",
    "\n",
    "## example:\n",
    "![fsf](281024_ap11.jpg)\n",
    "![fsf](281024_ap12.jpg)\n",
    "* in the above example b is just the last term not the n+2 term away from the last term as in the previous example."
   ]
  },
  {
   "cell_type": "markdown",
   "id": "59dde1a6-6296-4b0a-9795-53f642f162e0",
   "metadata": {},
   "source": [
    "# video to watch \n",
    "\n"
   ]
  },
  {
   "cell_type": "code",
   "execution_count": 34,
   "id": "c849b996-be37-4a2c-a130-d2c302706552",
   "metadata": {},
   "outputs": [
    {
     "data": {
      "image/jpeg": "[encoded data removed]",
      "text/html": [
       "\n",
       "        <iframe\n",
       "            width=\"400\"\n",
       "            height=\"300\"\n",
       "            src=\"https://www.youtube.com/embed/t6s_q7cAAU0\"\n",
       "            frameborder=\"0\"\n",
       "            allowfullscreen\n",
       "            \n",
       "        ></iframe>\n",
       "        "
      ],
      "text/plain": [
       "<IPython.lib.display.YouTubeVideo at 0x27f2ef73740>"
      ]
     },
     "execution_count": 34,
     "metadata": {},
     "output_type": "execute_result"
    }
   ],
   "source": [
    "from IPython.display import YouTubeVideo\n",
    "YouTubeVideo(id='t6s_q7cAAU0')"
   ]
  },
  {
   "cell_type": "code",
   "execution_count": null,
   "id": "261bb787-86ac-4fe9-900a-6e261d07a7bc",
   "metadata": {},
   "outputs": [],
   "source": []
  },
  {
   "cell_type": "markdown",
   "id": "dca60a54-b2dc-4ae4-99de-bb42adef2422",
   "metadata": {},
   "source": [
    "# day 481-482"
   ]
  },
  {
   "cell_type": "markdown",
   "id": "45a80cf2-78ee-48ad-ba46-972a32216ef5",
   "metadata": {},
   "source": [
    "# Geometric Progression:\n",
    "\n",
    "![sfs](291024_gp.jpg)\n",
    "\n",
    "# examples:\n",
    "![sfs](291024_gp1.jpg)\n",
    "* if you see a sequence first see if it is a Arithematic progression or Geometric Progression by calculating d or r .\n",
    "\n",
    "# calculate nth term in geometric progression:\n",
    "![sfs](291024_gp2.jpg)\n",
    "\n",
    "# examples:\n",
    "![sfs](291024_gp3.jpg)\n",
    "\n",
    "\n",
    "# calculate the sum of gp series \n",
    "![sfs](301024_gp.jpg)\n",
    "\n",
    "# examples:\n",
    "![sfs](301024_gp1.jpg)\n",
    "\n",
    "\n",
    "# Representation of terms in GP:\n",
    "![sfs](301024_gp2.jpg)\n"
   ]
  },
  {
   "cell_type": "code",
   "execution_count": null,
   "id": "cbb7a204-95be-422f-84f9-d0e748200555",
   "metadata": {},
   "outputs": [],
   "source": []
  },
  {
   "cell_type": "markdown",
   "id": "932c2c73-29a4-483f-91a6-e5dcfe21852c",
   "metadata": {},
   "source": [
    "# day 486"
   ]
  },
  {
   "cell_type": "markdown",
   "id": "0af947f4-376e-4406-a3a5-a6bc92c2caf0",
   "metadata": {},
   "source": [
    "![sdfsf](011124_gp.jpg)\n",
    "\n",
    "* we can also write it like this:\n",
    "* $ G_n = a((\\frac{last}{a})^{\\frac{1}{n-1}})^{n} $\n",
    "\n",
    "![sdfsf](011124_gp1.jpg)\n"
   ]
  },
  {
   "cell_type": "code",
   "execution_count": null,
   "id": "e7be2159-6557-4f09-8fc8-2d016f2f8fb8",
   "metadata": {},
   "outputs": [],
   "source": []
  },
  {
   "cell_type": "markdown",
   "id": "6dc0919d-e89f-44fe-a93a-d1f905b2bc2d",
   "metadata": {},
   "source": [
    "# day 487"
   ]
  },
  {
   "cell_type": "markdown",
   "id": "3088ae59-9489-495f-a938-b5178d9ab840",
   "metadata": {},
   "source": [
    "# sum of GP formula:\n",
    "![fsfs](021124_gp1.jpg)\n",
    "\n",
    "# example problems:\n",
    "![fsfs](021124_gp2.jpg)\n",
    "![fsfs](021124_gp3.jpg)"
   ]
  },
  {
   "cell_type": "code",
   "execution_count": null,
   "id": "d3f3c3b5-ba6a-42c0-b7c3-52547642836e",
   "metadata": {},
   "outputs": [],
   "source": []
  },
  {
   "cell_type": "markdown",
   "id": "ea9753ab-3415-4d3c-b6f6-e9c3db9bc7af",
   "metadata": {},
   "source": [
    "# day 489,490"
   ]
  },
  {
   "cell_type": "markdown",
   "id": "b64c6153-3770-4103-8910-73fa19003d51",
   "metadata": {},
   "source": [
    "# Permutation and combination\n",
    "\n",
    "![ffsf](041124_gp.jpg)\n",
    "![ffsf](041124_gp1.jpg)\n",
    "\n",
    "* if order of arrangement matters then use permutation.\n",
    "* if order of arrangement doesn't matter then use combination.\n",
    "\n",
    "![ffsf](041124_gp2.jpg)\n",
    "\n",
    "\n",
    "## worked example:\n",
    "![ddfsfsd](051124_calc.jpg)\n",
    "\n",
    "## clarifications:\n",
    "![ffsf](051124_gp1.jpg)\n",
    "\n",
    "## fundamental principle of counting:\n",
    "![ffsf](051124_gp2.jpg)\n",
    "\n",
    "## permutations(order matters):\n",
    "![ffsf](051124_gp3.jpg)\n",
    "\n",
    "## permutation with repition(repeated objects):\n",
    "![ffsf](051124_gp4.jpg)\n",
    "\n",
    "\n",
    "## combination problem with examples:\n",
    "![ffsf](051124_gp5.jpg)\n",
    "\n",
    "![ffsf](051124_gp6.jpg)\n",
    "![ffsf](051124_gp7.jpg)"
   ]
  },
  {
   "cell_type": "code",
   "execution_count": null,
   "id": "d87af1c6-c223-480d-80da-c4c48f912338",
   "metadata": {},
   "outputs": [],
   "source": []
  }
 ],
 "metadata": {
  "kernelspec": {
   "display_name": "Python 3 (ipykernel)",
   "language": "python",
   "name": "python3"
  },
  "language_info": {
   "codemirror_mode": {
    "name": "ipython",
    "version": 3
   },
   "file_extension": ".py",
   "mimetype": "text/x-python",
   "name": "python",
   "nbconvert_exporter": "python",
   "pygments_lexer": "ipython3",
   "version": "3.12.4"
  }
 },
 "nbformat": 4,
 "nbformat_minor": 5
}
