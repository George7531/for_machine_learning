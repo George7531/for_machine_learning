{
 "cells": [
  {
   "cell_type": "markdown",
   "id": "76374f42",
   "metadata": {},
   "source": [
    "# day 240"
   ]
  },
  {
   "cell_type": "markdown",
   "id": "2cbf0a82",
   "metadata": {},
   "source": [
    "![just see](graphs1.png)\n",
    "![just see](graphs2.png)\n",
    "\n",
    "\n",
    "# summary:\n",
    "* graphs must have a set of `vertices`. this is mandatory for it to be defined as a graph. `vertex set is non-empty.`\n",
    "* graphs may or may not have `edges`.\n",
    "* if a graph has an edge then it must have some vertices, the connection between these vertices is called the edge and these vertices are called `endpoints`.\n",
    "\n",
    "-------------------\n",
    "\n",
    "\n",
    "\n",
    "\n",
    "# subgraphs:\n",
    "![just see](graphs3.png)\n",
    "![fjsfk](graphs4.png)\n",
    "![fsfsd](graphs5.png)\n",
    "\n",
    "# summary:\n",
    "* subgraph by definition must have only the vertices and edges of the graph, if it has vertices or edges that do not belong to the underlying graph then it is not its subgraph.\n",
    "* even if the subgraph has only only vertex of the graph it is still a subgraph.\n",
    "* even if the subgraph represents the whole graph with all its vertices and edges being present in it, it is still valid to call it a subgraph.\n",
    "\n"
   ]
  },
  {
   "cell_type": "code",
   "execution_count": null,
   "id": "985ff6ee",
   "metadata": {},
   "outputs": [],
   "source": []
  },
  {
   "cell_type": "markdown",
   "id": "1bbc63bd",
   "metadata": {},
   "source": [
    "# day 241,day242"
   ]
  },
  {
   "cell_type": "markdown",
   "id": "8cfcae68",
   "metadata": {},
   "source": [
    "# Degree of a vertex:\n",
    "![degree](degree0.png)\n",
    "\n",
    "# summary:\n",
    "1. degree of a vertex is equal to the number of edges it has.\n",
    "2. self-loop should be counted as 2 degrees.\n",
    "3. a vertex with 0 degree is known as isolated vertex.\n",
    "4. degree sequence is formed by counting the degrees of vertex in ascending order.\n",
    "5. it is possible to construct a graph with only one vertex and one edge and with a degree of 2 via ____ ans: a vertex with a self loop\n",
    "\n",
    "\n",
    "-----------\n",
    "![degree](degree1.png)\n",
    "\n",
    "# summary:\n",
    "* sum of degrees of a graph = 2 * number of edges.\n",
    "* this is also known as Handshaking theorem or Handshaking Lemma\n",
    "-----------------\n",
    "\n",
    "# prove sum of degrees of vertices = 2 * edges:\n",
    "![degree](degree2.png)\n",
    "------------\n",
    "![degree](degree3.png)\n",
    "\n",
    "# summary:\n",
    "* if a graph has just one edge. the total sum of degrees would equal 2. so, this is how it works. just by having an edge the total degrees of the graph gets escalated to 2. it is the proof. it proves that sum of degrees of the graph is = 2 times the number of edges present in it.\n",
    "* the sum of degrees of any graph is always even because 2 times any number is even. \n",
    "* the cardinality of odd degrees in a graph is always even.\n",
    "\n",
    "![degree](degree5.png)\n",
    "\n",
    "# practice:\n",
    "* you cannot construct a graph with vertices with these degrees,{1,1,2,3}. the sum of degrees is 7 which is odd but it must be even for you to construct the graph so, it is impossible.\n",
    "\n",
    "# size of the graph:\n",
    "\n",
    "* the size of the graph is = number of edges in it.\n",
    "\n",
    "\n",
    "# possibility of friendship connections:\n",
    "\n",
    "* In a group of 15 people, is it possible for each person to be friends with exactly 3 other people? (Assume If a is a friend of b, then b is a friend of a.)\n",
    "\n",
    "* ans: no it is not possible because lets treat each person as an individual vertex so, there are 15 vertices and each person is friends with exactly 3 persons that means each vertex has exactly 3 degrees each the total sum of degrees would then equal 3*15 = 45 but the sum of degrees can never be an odd number so, this friendship network is not possible assuming if a is friends with b then b is also friends with a."
   ]
  },
  {
   "cell_type": "markdown",
   "id": "998bcbbd",
   "metadata": {},
   "source": []
  },
  {
   "cell_type": "markdown",
   "id": "cb9bcb10",
   "metadata": {},
   "source": [
    "# Adjacency and Incidence\n",
    "\n",
    "1.\n",
    "![graphical illustration](251.png)\n",
    "\n",
    "2.\n",
    "![2nd](252.png)\n",
    "\n",
    "# summary:\n",
    "\n",
    "1. if two or more vertices share a common edge then they are adjacent vertices.\n",
    "2. if two or more edges share a common vertex they they are adjacent edges.\n",
    "3. An edge is incident on its end points.\n"
   ]
  },
  {
   "cell_type": "code",
   "execution_count": null,
   "id": "b2d5ea84",
   "metadata": {},
   "outputs": [],
   "source": []
  },
  {
   "cell_type": "code",
   "execution_count": null,
   "id": "113fe422",
   "metadata": {},
   "outputs": [],
   "source": []
  },
  {
   "cell_type": "markdown",
   "id": "c5d45235",
   "metadata": {},
   "source": [
    "# Adjacency Matrix\n",
    "\n",
    "![sweet](253.png)\n",
    "![aroma](254.png)\n",
    "\n",
    "\n",
    "# summary:\n",
    "* you can create the diagram of the graph just with the information of its adjacency matrix, but one thing to cautious of is `it just represents the connection between the vertices, it may not really capture the real architecture of the real network(graph) itself`. The information about the structure/architecture of the graph is not known to actually draw the exact graph with adjacency matrix but still we can create the graph(which would be representative of who is connected to  who!).\n",
    "* when you create the adjacency matrix think from the perspective of the vertex(how many edges am i connected to ?)\n",
    "* when you create the incidence matrix think from the persepective of the edges(how many vertices am i connected to?)\n",
    "* **when you encounter a self loop put 1**\n",
    "\n",
    "\n",
    "\n",
    "# Incidence Matrix:\n",
    "![incidence Matrix](260.png)\n",
    "\n",
    "\n",
    "# summary:\n",
    "* when you create the incidence matrix instead of using vertices for both rows and cols of the matrix as in when creating adjacency matrix use vertices for rows and edges for cols.\n",
    "* **when you encounter a self loop put 2**. an edge is incident on the same vertex twice is what it means."
   ]
  },
  {
   "cell_type": "code",
   "execution_count": null,
   "id": "5a5c4184",
   "metadata": {},
   "outputs": [],
   "source": []
  },
  {
   "cell_type": "code",
   "execution_count": 1,
   "id": "d744354e",
   "metadata": {},
   "outputs": [
    {
     "name": "stdout",
     "output_type": "stream",
     "text": [
      "Requirement already satisfied: networkx in c:\\users\\admin\\anaconda3\\lib\\site-packages (2.7.1)\n",
      "Note: you may need to restart the kernel to use updated packages.\n"
     ]
    }
   ],
   "source": [
    "pip install networkx"
   ]
  },
  {
   "cell_type": "markdown",
   "id": "10de85cf",
   "metadata": {},
   "source": [
    "# Isomorphism:\n",
    "\n",
    "![iso](iso.png)\n",
    "\n",
    "# notes:\n",
    "1. **Isomorphic graphs are same graphs with same vertices, edges and end points but architecture or the skeleton of the graph may have changed.**\n",
    "--------\n",
    "2. Things to look at to verify if two or more graphs are Isomorphic or not is: `count the vertices`, `count the edges`, `check the end points between edges`, `count the degree of vertices`. if they are all same then the graphs are isomorphorpic to each other meaning only the skeleton of the graph has changed but the fundamental connections of networks in graphs are all same.\n",
    "----------\n",
    "3. the names for vertices and edges may change but if they have the same number of edges,vertices and same end points between edges (perhaps with different names) they are still isomorphic.\n",
    "\n",
    "--------\n",
    "4. In Isomorphic graphs, essentially you can just change the labels of the other graph with labels of the first graph and still find the same connections and patterns. \n",
    "\n",
    "# All these graphs are isomorphic:\n",
    "![dfdi](g.png)\n",
    "![dfid](g0.png)\n",
    "![dfid](g1.png)\n",
    "![dfid](g2.png)\n",
    "\n",
    "\n",
    "# summary: \n",
    "1. count the vertices.\n",
    "2. count the edges.\n",
    "3. take degree for each vertex and sum it all up.\n",
    "4. check if there is one-one correspondance with both graphs.\n",
    "4. check if both graphs satisfy all the conditions then you can call it Isomorphic."
   ]
  },
  {
   "cell_type": "code",
   "execution_count": null,
   "id": "4f7eab04",
   "metadata": {},
   "outputs": [],
   "source": []
  },
  {
   "cell_type": "code",
   "execution_count": null,
   "id": "d54731e2",
   "metadata": {},
   "outputs": [],
   "source": []
  },
  {
   "cell_type": "markdown",
   "id": "8c1ee74c",
   "metadata": {},
   "source": [
    "# day 243"
   ]
  },
  {
   "cell_type": "markdown",
   "id": "4422d7a4",
   "metadata": {},
   "source": [
    "# walk:\n",
    "![dfsdf](ui1.png)\n",
    "\n",
    "# notes:\n",
    "* if we don't move from a vertex in a graph, we stay in the same position and the length of the walk(W) = 0 then it is a trivial walk.\n",
    "\n",
    "![dfdfd](ui2.png)\n",
    "\n",
    "# notes:\n",
    "* the distance between two vertices in a graph is the smallest path between these two vertices. just count the edges that connect the two vertices.\n",
    "\n",
    "![dffss](ui3.png)\n",
    "\n",
    "# notes:\n",
    "* a circuit is a trail in which no edges repeat and the starting and the ending vertex are the same.\n",
    "* the simple circuit is something in which no other vertex repeats except the start and end.\n"
   ]
  },
  {
   "cell_type": "code",
   "execution_count": null,
   "id": "b542b9f6",
   "metadata": {},
   "outputs": [],
   "source": []
  },
  {
   "cell_type": "markdown",
   "id": "32cba436",
   "metadata": {},
   "source": [
    "# walks, Trials,Paths,Circuits\n",
    "\n",
    "![sdfsf](ui4.png)\n",
    "![dfsddfs](ui5.png)"
   ]
  },
  {
   "cell_type": "code",
   "execution_count": null,
   "id": "7deb6542",
   "metadata": {},
   "outputs": [],
   "source": []
  },
  {
   "cell_type": "markdown",
   "id": "dd48c898",
   "metadata": {},
   "source": [
    "# day 244"
   ]
  },
  {
   "cell_type": "markdown",
   "id": "c63cf6b4",
   "metadata": {},
   "source": [
    "# Eccentricity, Diameter and Radius\n",
    "\n",
    "\n",
    "# eccentricity of a vertex:\n",
    "![vertex](h0.png)\n",
    "\n",
    "# notes about eccentricity:\n",
    "* **eccentricity between two vertices is the shortest path between two furthest vertices.**\n",
    "* **remember:** eccentricity is just about vertices not about graphs but diameter and radius are attributes of graph.\n",
    "\n",
    "\n",
    "# diameter and radius of the graph:\n",
    "![vrdfjs](h1.png)\n",
    "\n",
    "# notes about diameter and radius:\n",
    "\n",
    "1. diameter of a graph is = max(eccentricity).\n",
    "2. radius of a graph is = min(eccentricity).\n",
    "3. if eccentricity of a vertex is = diameter of a graph, then that vertex is called the `peripheral vertex`.\n",
    "4. if eccentricity of a vertex is = radius of a graph, then that vertex is called the `central vertex`.\n",
    "5. the set of all peripherels of the graph is called periphery of the graph.\n",
    "6. the set of all centres of the graph is called centre of the graph"
   ]
  },
  {
   "cell_type": "code",
   "execution_count": null,
   "id": "80acdb68",
   "metadata": {},
   "outputs": [],
   "source": []
  },
  {
   "cell_type": "markdown",
   "id": "e394e49b",
   "metadata": {},
   "source": [
    "# day 245"
   ]
  },
  {
   "cell_type": "markdown",
   "id": "6bfe5b48",
   "metadata": {},
   "source": [
    "\n",
    "\n",
    "# connectedness\n",
    "\n",
    "* A graph is connected if all of its vertices are connected.\n",
    "\n",
    "![connection](connection.png)\n",
    "\n",
    "# edge connectivity(lambda of G):\n",
    "* edge connectivity is the minimum number of edges you need to delete to get the graph disconnected.\n",
    "\n",
    "# disconnecting set:\n",
    "* is set of edges whose removal disconnects G. \n",
    "\n",
    "# cut set:\n",
    "\n",
    "* cut set is a subset of disconnecting set.\n",
    "* the elements(the edges) inside the cut side are the key elements for making the graph disconnecting.\n",
    "* removal of even one element from the cut set would make the graph connected. that means you need to have all elements in the cut set to render a graph disconnected..\n",
    "* in essence, the cut set has no proper subset of disconnecting edges. the proper subset example: The set {1,2} is a proper subset of the set {1,2,3}.\n",
    "\n",
    "\n",
    "![connection](c1.png)\n",
    "\n",
    "# seperating set:\n",
    "* is a set of vertices whose removal disconnects G.\n",
    "\n",
    "# vertex connectivity (kappa of G):\n",
    "* is the minimum number of vertex we need to delete in order to disconnect a Graph.\n",
    "\n",
    "# cut vertex:\n",
    "\n",
    "* cut set is a subset of seperating set.\n",
    "* the elements(the vertices) inside the cut side are the key elements for making the graph disconnecting.\n",
    "* removal of even one element from the cut set would make the graph connected. that means you need to have all elements in the cut set to render a graph disconnected..\n",
    "\n",
    "![dsf](c2.png)"
   ]
  },
  {
   "cell_type": "code",
   "execution_count": null,
   "id": "bda3e83e",
   "metadata": {},
   "outputs": [],
   "source": []
  },
  {
   "cell_type": "markdown",
   "id": "b59e618d",
   "metadata": {},
   "source": [
    "# day 246"
   ]
  },
  {
   "cell_type": "markdown",
   "id": "3808cfa8",
   "metadata": {},
   "source": [
    "# Euler Trials and Euler Circuits:\n",
    "\n",
    "### Euler Trial in a graph:\n",
    "* Euler Trial is a Trial in a graph is finishing the walk thoroughout the entire graph starting at a vertex and finishing at a vertex, visiting all edges exactly once.\n",
    "* **condition for a graph to Euler Trail is only two vertices in the graph are allowed to have odd degrees and all other vertices must have even degrees**. if we violate this Rule then we won't have Euler Trail.\n",
    "\n",
    "![Euler Trails](euler.png)\n",
    "\n",
    "### Rule of the game to form Euler Trail in a Graph is: \n",
    "1. make sure only two vertices at max have odd degrees.\n",
    "2. **start your journey only with a odd vertex in order to successfully form the Euler Trail(that is going through all the edges of the graph exactly once and finish the graph).**\n",
    "\n",
    "![Euler Trials](euler2.png)\n",
    "\n",
    "\n",
    "------------------\n",
    "# Euler Circuit:\n",
    "* No edge repition is allowed.\n",
    "* you must have gone through all the edges. \n",
    "* you should start and end at the same vertex.\n",
    "\n",
    "# condition for forming a Euler Circuit:\n",
    "**each vertex in the graph must have exactly even degrees to form the Euler circuit.**\n",
    "\n",
    "# Difference between Euler Trail and Euler Circuit:\n",
    "* An Euler Trail is allowed to have two odd vertices wheras an Euler Circuit is not allowed to have any odd vertices.\n",
    "* Both in Euler Trail and Euler Circuit we must be able to travel through all the edges in the graph.\n",
    "* Both in Euler Trail and Euler Circuit the graph is connected, no isolated vertex is allowed.\n",
    "* Both in Euler Trail and Euler Circuit repeating the vertex is allowed(that is travelling through the same vertex more than once is permitted).\n",
    "* In an Euler Circuit, or any other Circuit for that matter, we must start and end at the same vertex."
   ]
  },
  {
   "cell_type": "code",
   "execution_count": null,
   "id": "eefdd5f6",
   "metadata": {},
   "outputs": [],
   "source": []
  },
  {
   "cell_type": "markdown",
   "id": "e18dfc45",
   "metadata": {},
   "source": [
    "# day 247"
   ]
  },
  {
   "cell_type": "markdown",
   "id": "c386a753",
   "metadata": {},
   "source": [
    "# Fleury's Algorithm:\n",
    "\n",
    "# Aim of Fleury's Algorithm: what problem it solves?\n",
    "* it will be highly cumbersome to find Euler Trails or Euler Circuits manually in a highly connected network hence this algorithm.\n",
    "\n",
    "# procedure for making a Euler Circuit(via Fleury's Algo):\n",
    "* make sure all vertices in the graph have exactly even degrees for a Eulerian Circuit.No odd degree vertex is permitted. \n",
    "* start with a vertex.\n",
    "* choose an edge and traverse in it to your favorite destination(vertex).\n",
    "* if the travel disconnects the graph then it is a wrong edge, choose another edge.\n",
    "* watch the video in udemy Graph course fleury's Algorithm for visual understanding.\n",
    "\n",
    "# procedure for making a Euler Trial (via Fleury's Algo):\n",
    "* Make sure the graph has either 0 or 1 or 2 odd vertices.\n",
    "* If there are 0 odd vertices, start anywhere. If there are 1 or 2 odd vertex(ces), start at one of them.\n",
    "* Follow edges one at a time.\n",
    "* Stop when you run out of edges."
   ]
  },
  {
   "cell_type": "code",
   "execution_count": null,
   "id": "5743994d",
   "metadata": {},
   "outputs": [],
   "source": []
  },
  {
   "cell_type": "markdown",
   "id": "dbf971d6",
   "metadata": {},
   "source": [
    "# Hamiltonian Paths and Hamiltonian Circuits:\n",
    "\n",
    "![dfssf](hamiltonian.png)\n",
    "\n",
    "## note:\n",
    "\n",
    "### Hamiltonian Paths:\n",
    "* To form a Hamiltonian Path: visit all the vertices in the graph exactly once.\n",
    "* edge repition is allowed.\n",
    "\n",
    "### Hamiltonian Circuits:\n",
    "* To form a Hamiltonian Circuit start and end at the same vertex, and visit all the vertices in the graph exactly once.\n",
    "* edge repition is allowed.\n",
    "* Minimum number of edges needed to construct a \"simple\" Hamiltonian cycle(circuit) is 3. It is quite intuitive so, don't memorize it.\n"
   ]
  },
  {
   "cell_type": "code",
   "execution_count": null,
   "id": "ceb3c843",
   "metadata": {},
   "outputs": [],
   "source": []
  },
  {
   "cell_type": "markdown",
   "id": "84880eb3",
   "metadata": {},
   "source": [
    "# Ore's theorem:\n",
    "\n",
    "# goal:\n",
    "* The goal of the ore's theorem is to predict whether a Graph is Hamiltonian or not just like Fleury's theorem is used predict Eulerian paths and circuits.\n",
    "* But the catch is unlike Fleury's theorem ore's theorem is not perfect in predicting the Hamiltonian graph(hamiltonian path or hamiltonian circuit). sometimes some graphs may not meet the conditions of ore's theorem yet be Hamiltonian.\n",
    "\n",
    "![ore's](ore.png)\n",
    "\n",
    "# notes:\n",
    "* 3 conditions have to be met according to ore's theorem for a graph to be Hamiltonian.\n",
    "  1. graph must be a simple graph(no self loops and parallel edges).\n",
    "  2. number of vertices must be greater than or equal to 3. (n>=3)\n",
    "  3. sum of degrees of two non-adjacent vertices must be greater than or equal to number of vertices (d(v) + d(w) >= n)\n",
    "  \n",
    "  \n",
    "# Failing at disproving ore's theorem:\n",
    "![dfsfd](ore1.png)"
   ]
  },
  {
   "cell_type": "code",
   "execution_count": null,
   "id": "2b272c63",
   "metadata": {},
   "outputs": [],
   "source": []
  },
  {
   "cell_type": "markdown",
   "id": "a9899a35",
   "metadata": {},
   "source": [
    "# Dirac's Theorem:\n",
    "\n",
    "## Goal:\n",
    "* The Goal of the Dirac's Theorem is to prove whether a graph is Hamiltonian or not.\n",
    "* But the caveat is,just like with ore's theorem, sometimes Dirac's Theorem conditions may not have been satisfied by a graph but still be a Hamiltonian Graph.\n",
    "\n",
    "![dfdir](dirac.png)\n",
    "\n",
    "## notes:\n",
    "* conditions of dirac's theorem for finding a Hamiltonian Graph:\n",
    "  1. the graph must be simple graph.\n",
    "  2. the graph must have greater than or equal 3 vertices(n>=3).\n",
    "  3. degree of each vertex in the graph must be greater than or equal to half of total number of vertices(d(v) >= n/2).\n",
    "  \n",
    "# proving dirac's theorem with ore's theorem:\n",
    "![dfsdf](dirac1.png)"
   ]
  },
  {
   "cell_type": "code",
   "execution_count": null,
   "id": "1e10ae16",
   "metadata": {},
   "outputs": [],
   "source": []
  },
  {
   "cell_type": "markdown",
   "id": "a009d5f4",
   "metadata": {},
   "source": [
    "# complete Graph:\n",
    "\n",
    "* In a complete graph. every vertex is connected to every other vertices in the graph.\n",
    "* A complete Graph is always Hamiltonian.\n",
    "\n",
    "![dfsf](complete.jpg)"
   ]
  },
  {
   "cell_type": "code",
   "execution_count": null,
   "id": "2faa6ba6",
   "metadata": {},
   "outputs": [],
   "source": []
  },
  {
   "cell_type": "markdown",
   "id": "d3c46e92",
   "metadata": {},
   "source": [
    "# shortest Path: \n",
    "\n",
    "## Goal: \n",
    "* the goal is to use djikstra(pronounced dike-struh) algorithm to find the shortest path between two vertices when the graph has weighted edges.\n",
    "\n",
    "\n",
    "![fsfsf](shortest.png)\n",
    "![dsfsdf](shortest1.png)"
   ]
  },
  {
   "cell_type": "code",
   "execution_count": null,
   "id": "f138e38f",
   "metadata": {},
   "outputs": [],
   "source": []
  },
  {
   "cell_type": "code",
   "execution_count": null,
   "id": "8f96d10e",
   "metadata": {},
   "outputs": [],
   "source": []
  },
  {
   "cell_type": "code",
   "execution_count": null,
   "id": "2faa736a",
   "metadata": {},
   "outputs": [],
   "source": []
  },
  {
   "cell_type": "code",
   "execution_count": null,
   "id": "1fb27b74",
   "metadata": {},
   "outputs": [],
   "source": []
  },
  {
   "cell_type": "code",
   "execution_count": null,
   "id": "f0ce19e6",
   "metadata": {},
   "outputs": [],
   "source": []
  },
  {
   "cell_type": "code",
   "execution_count": null,
   "id": "48804c86",
   "metadata": {},
   "outputs": [],
   "source": []
  },
  {
   "cell_type": "code",
   "execution_count": null,
   "id": "e37881c9",
   "metadata": {},
   "outputs": [],
   "source": []
  },
  {
   "cell_type": "markdown",
   "id": "1a36d060",
   "metadata": {},
   "source": [
    "# Graph Types"
   ]
  },
  {
   "cell_type": "code",
   "execution_count": null,
   "id": "f1afa2cf",
   "metadata": {},
   "outputs": [],
   "source": []
  },
  {
   "cell_type": "markdown",
   "id": "ca041685",
   "metadata": {},
   "source": [
    "# day 249"
   ]
  },
  {
   "cell_type": "markdown",
   "id": "87bb3a8a",
   "metadata": {},
   "source": [
    "# Trivial, Null, Simple Graphs:\n",
    "\n",
    "![ffsdf](path.png)\n",
    "## Trivial:\n",
    "* A Trivial graph has only one vertex\n",
    "\n",
    "## Null:\n",
    "* A Null graph has only vertices no edges connect them.\n",
    "* so the degree of any vertex in a null graph is zero.\n",
    "\n",
    "## Simple graphs:\n",
    "* A simple graph has no self loops and parallel edges.\n",
    "* All vertices in the simple graph are connected.\n",
    "* Maximum degree of any vertex in a simple graph is (n-1) where n is number of vertices.\n",
    "* sum of degree = 2*edges , in a simple graph sum of degrees = n(n-1), therefore n(n-1) = 2*edges , edges = n(n-1)/2."
   ]
  },
  {
   "cell_type": "code",
   "execution_count": null,
   "id": "15ba6b42",
   "metadata": {},
   "outputs": [],
   "source": []
  },
  {
   "cell_type": "markdown",
   "id": "15494b0c",
   "metadata": {},
   "source": [
    "# Regular Graphs:\n",
    "\n",
    "![dfsf](type.png)\n",
    "![dfsf](type1.png)\n",
    "\n",
    "# notes:\n",
    "* Regular graph is that in which each vertex in the graph will have the same degree.\n",
    "* degree means number of connnections a vertex has with other vertices in the graph.\n",
    "* **edges = (degree of each vertex * number of vertices) /2, which is (r*n)/2.**\n",
    "* we can check if a graph is a regular graph (which is each vertex with a particular degree) is possible with this formula edges = r*n/2.\n",
    "* if the edges = float number then that regular graph is not possible which is the graph cannot have each vertex having the specified number of vertices.\n"
   ]
  },
  {
   "cell_type": "code",
   "execution_count": null,
   "id": "6c98cf49",
   "metadata": {},
   "outputs": [],
   "source": []
  },
  {
   "cell_type": "markdown",
   "id": "207bc9f7",
   "metadata": {},
   "source": [
    "# day 250"
   ]
  },
  {
   "cell_type": "markdown",
   "id": "94cf2384",
   "metadata": {},
   "source": [
    "# complete, cycle and cubic Graphs:\n",
    "\n",
    "* In a complete graph, all vertices are connected to all other vertices. Every vertex in the graph will have the same number of vertices. The number of edges in a complete graph is = n(n-1)/2. k_n graph is a complete graph with n vertices.\n",
    "------------\n",
    "* `In a cycle, the starting and ending vertices are same. cycle is only possible with graphs with vertices n>=3. the degree of every vertex is always even.` By nature, cycles are Eulerian(you start and end at the same vertex and all vertices have even degrees and every edge is visited only once). `the number of edges in a cycle = number of vertices`. cycles are Hamiltonian cycle also since we can visit all vertices exactly once except the start and end vertices. **cycles are 2 regular graphs.**. C_n is a cycle graph with n vertices.\n",
    "--------------\n",
    "* cubic graphs: **cubic graphs are 3 regular graphs**. every vertex in the cubic graph will have exactly 3 edges.\n",
    "\n",
    "\n",
    "![type](type2.png)\n",
    "![sdfsdf](type3.png)"
   ]
  },
  {
   "cell_type": "code",
   "execution_count": 8,
   "id": "28ea9db3",
   "metadata": {},
   "outputs": [
    {
     "data": {
      "text/plain": [
       "[-7, 8]"
      ]
     },
     "metadata": {},
     "output_type": "display_data"
    }
   ],
   "source": [
    "# A complete graph has 28 edges how many vertices does it have?\n",
    "\n",
    "import sympy as sym\n",
    "import numpy as np\n",
    "\n",
    "n = sym.symbols('n')\n",
    "display(sym.solve(sym.Eq(n*(n-1)/2,28),n))\n",
    "\n",
    "# conclusion: 8 seems to be logically correct answer\n"
   ]
  },
  {
   "cell_type": "code",
   "execution_count": null,
   "id": "cf0769f7",
   "metadata": {},
   "outputs": [],
   "source": []
  },
  {
   "cell_type": "markdown",
   "id": "af6ad7d7",
   "metadata": {},
   "source": [
    "# path,wheel and platonic graph:\n",
    "\n",
    "## path graphs:\n",
    "* path graphs are created from removing an edge from the cycle.\n",
    "* the number of edges in a path graph is = number of edges that were in the cycle-1 or number of vertices in the path graph-1.\n",
    "\n",
    "![fffsf](type4.png)\n",
    "\n",
    "## wheel graphs:\n",
    "* wheel graphs are cycle graphs with a centre(hub) that connects to all other vertices(hub and spoke model).\n",
    "\n",
    "![fss](type5.png)\n",
    "![dsfs](type6.png)\n",
    "\n",
    "### misinterpretation from wheel graph:\n",
    "* I don't know why the wheel graph is C_(n-1) + v. wheel graph is actually a cycle graph which is c_n not c_{n-1} with an additional central vertex that connects to all other vertices. why is it C_{n-1}?\n",
    "\n",
    "### explanation from Bard:\n",
    "* You are correct. The statement that \"the wheel graph is C_(n-1) + v\" is inaccurate. A wheel graph is actually a cycle graph C_n with an additional central vertex, v, that connects to all other vertices. Therefore, the formula for the number of vertices in a wheel graph with n vertices should be n+1, not C_(n-1) + v.\n",
    "\n",
    "Here's a breakdown:\n",
    "\n",
    "* C_n represents a cycle graph with n vertices. Each vertex connects to its two immediate neighbors, forming a closed loop.\n",
    "* A wheel graph adds one additional vertex, v, which is called the central vertex. This central vertex connects to all other vertices in the cycle graph.\n",
    "* Therefore, the total number of vertices in a wheel graph is the number of vertices in the cycle graph plus the central vertex, which is n + 1.\n",
    "-----------------\n",
    "* It is possible that the confusion arises from different notations used for wheel graphs. Some sources use W_n to denote a wheel graph with n vertices (n ≥ 4), while others use W_n to denote a wheel graph with n + 1 vertices (n ≥ 3). This difference in notation can lead to misunderstandings about the number of vertices in a wheel graph.\n",
    "\n",
    "* To avoid confusion, it is recommended to always specify the number of vertices in the cycle graph when referring to a wheel graph. For example, instead of saying \"W_n\", it is clearer to say \"the wheel graph with n vertices.\" This avoids any ambiguity about the number of vertices and edges in the graph.\n",
    "-------------------\n",
    "\n",
    "## platonic graphs:\n",
    "![dsf](type7.png)\n",
    "\n",
    "* it appears that any object can be converted into a graph(a representation of the material therefore the reality!!).\n",
    "\n",
    "### potential applications of platonic graphs in my profession from chatGPT:\n",
    "understanding Platonic solids and their graphs can have applications in computer vision, especially when dealing with three-dimensional (3D) data representation. Platonic solids are regular, convex polyhedra, and they can be used in various ways in the field of computer vision. Here are a few potential use cases:\n",
    "\n",
    "1. **3D Object Recognition:** Platonic solids can serve as fundamental shapes for 3D object recognition. When developing algorithms to recognize and classify 3D objects in computer vision, having a solid understanding of geometric shapes, including Platonic solids, can be beneficial.\n",
    "\n",
    "2. **3D Scene Reconstruction:** In computer vision, reconstructing 3D scenes from 2D images is a common task. Platonic solids and their geometric properties can be utilized in algorithms that aim to reconstruct the spatial relationships and structures of objects within a scene.\n",
    "\n",
    "3. **Mesh Generation:** Platonic solids can be used as basic building blocks for mesh generation in computer graphics and simulations. Understanding their topology and connectivity can be helpful in creating realistic and efficient 3D models.\n",
    "\n",
    "4. **Shape Analysis:** Platonic solids represent idealized shapes with specific symmetries. Analyzing shapes in computer vision often involves understanding geometric properties and symmetries, which can be inspired by Platonic solids.\n",
    "\n",
    "5. **Computer-Aided Design (CAD):** If your company is involved in creating or refurbishing physical objects, a solid understanding of geometric shapes, including Platonic solids, can be beneficial in CAD systems for designing and modeling.\n",
    "\n",
    "When working with these concepts in computer vision, you can apply mathematical principles to model and manipulate shapes in 3D space. This knowledge can contribute to the development of more sophisticated algorithms for tasks such as object recognition, scene understanding, and 3D modeling."
   ]
  },
  {
   "cell_type": "code",
   "execution_count": null,
   "id": "4bea5393",
   "metadata": {},
   "outputs": [],
   "source": []
  },
  {
   "cell_type": "markdown",
   "id": "25f50ab2",
   "metadata": {},
   "source": [
    "# day 253"
   ]
  },
  {
   "cell_type": "markdown",
   "id": "5d288673",
   "metadata": {},
   "source": [
    "# Bipartite Graphs:\n",
    "\n",
    "![ffd](bipartite.png)\n",
    "\n",
    "\n",
    "# notes:\n",
    "1. Bipartite graphs are graphs with two distinct group of vertices. the vertices can be arranged in such a way that they are not adjacent to others in the same group but are connected to those in the opposite group.\n",
    "2. if vertices in one group are connected to every vertices in the opposite then it is a complete Bipartite graph. \n",
    "3. symbol for Bipartite graph is K_{mn} \n",
    "3. In a complete bipartite graph, the number of vertices is = m+n and number of edges = m*n. where m is one group of vertices and n is another group of vertices.\n",
    "\n",
    "### conditions to find Bipartition:\n",
    "* color the vertices of the graph and check if they can be formed of 2 distinct groups. Members of each group should not touch each other but touch the members of opposite group.\n",
    "\n",
    "### condition for non-bipartition:\n",
    "1. **Odd cycles**: As you mentioned, the presence of a simple cycle (no loops or multi-edges) with an odd number of vertices is a sure sign of a non-bipartite graph. This is because it's impossible to color such a cycle with two colors such that no edges connect vertices of the same color.\n",
    "\n",
    "2. **Complete odd subgraphs**: Any complete subgraph (every pair of vertices is connected) with an odd number of vertices also indicates non-bipartiteness. Similar to odd cycles, this stems from the impossibility of two-coloring such a subgraph without violating the bipartite definition.\n",
    "\n",
    "3. **Certain forbidden subgraphs**: Some specific graphs, regardless of size or edge configurations, guarantee non-bipartiteness if they are present as subgraphs. Examples include the \"claw\" (a central vertex connected to three others) and the \"odd path\" (a sequence of alternatingly connected and unconnected vertices with an odd total number).\n",
    "\n",
    "4. **Odd degree sum**: This condition applies to undirected graphs and states that the sum of the degrees (number of connected edges) of all vertices must be even for the graph to be bipartite. If the sum is odd, there must be an odd number of vertices with odd degrees, and these cannot be properly paired in a bipartite coloring.\n",
    "\n",
    "5. **Spectral characterizations(A-lambda*I = 0 )**: More advanced analyses based on the eigenvalues and eigenvectors of the adjacency matrix of the graph can also reveal non-bipartiteness. These methods are especially useful for large and complex graphs.\n",
    "\n",
    "Remember, the absence of these conditions doesn't necessarily imply bipartiteness. Determining bipartiteness in general can be a complex problem, and sometimes specific algorithms or exhaustive checks might be needed."
   ]
  },
  {
   "cell_type": "code",
   "execution_count": null,
   "id": "ba09c7e3",
   "metadata": {},
   "outputs": [],
   "source": []
  },
  {
   "cell_type": "code",
   "execution_count": null,
   "id": "461b7cdf",
   "metadata": {},
   "outputs": [],
   "source": []
  },
  {
   "cell_type": "code",
   "execution_count": null,
   "id": "9f76c423",
   "metadata": {},
   "outputs": [],
   "source": []
  },
  {
   "cell_type": "code",
   "execution_count": null,
   "id": "28afa07d",
   "metadata": {},
   "outputs": [],
   "source": []
  },
  {
   "cell_type": "code",
   "execution_count": null,
   "id": "8b04461d",
   "metadata": {},
   "outputs": [],
   "source": []
  },
  {
   "cell_type": "code",
   "execution_count": null,
   "id": "a5cda38f",
   "metadata": {},
   "outputs": [],
   "source": []
  },
  {
   "cell_type": "code",
   "execution_count": null,
   "id": "cfd91c1f",
   "metadata": {},
   "outputs": [],
   "source": []
  },
  {
   "cell_type": "code",
   "execution_count": null,
   "id": "dd295a7a",
   "metadata": {},
   "outputs": [],
   "source": []
  },
  {
   "cell_type": "markdown",
   "id": "dc29cc7a",
   "metadata": {},
   "source": [
    "# Trees"
   ]
  },
  {
   "cell_type": "code",
   "execution_count": null,
   "id": "0f46c51f",
   "metadata": {},
   "outputs": [],
   "source": []
  },
  {
   "cell_type": "markdown",
   "id": "156fec1f",
   "metadata": {},
   "source": [
    "# day 254"
   ]
  },
  {
   "cell_type": "markdown",
   "id": "9971e6e8",
   "metadata": {},
   "source": [
    "# Trees:\n",
    "\n",
    "![sdfsf](trees0.png)\n",
    "\n",
    "\n",
    "## notes:\n",
    "* number of edges in a tree is = n-1 where n is the number of vertices.\n",
    "* if a vertex in a tree has only 1 degree then it is a `leaf` of the tree.\n",
    "* sum of degrees = 2n, but in a tree since we have only n-1 edges sum of degrees is = 2(n-1) \n",
    "* sum of degrees must always be an even number regardless the kind of graph we are looking at. it is their fundamental property. a graph is with a single edge has 2 as its sum of degrees. \n",
    "* if you add just one more edge to any two vertices to connect them then you will have a cycle.\\\n",
    "* if a graph has a cycle then it is not a TREE.\n",
    "* each edge in a tree is a `Bridge`, if you break it, you will render the entire Tree disconnected."
   ]
  },
  {
   "cell_type": "code",
   "execution_count": null,
   "id": "34cc4f73",
   "metadata": {},
   "outputs": [],
   "source": []
  },
  {
   "cell_type": "markdown",
   "id": "d4b5b479",
   "metadata": {},
   "source": [
    "# cayley's Theorem:\n",
    "\n",
    "# goal:\n",
    "* To find the total number of combinations of tree graphs with the labels(vertices) being in different places given n. for example if you have 3 vertices then it will have 3^{3-2} = 3 different combinations of tree graphs.\n",
    "\n",
    "![fsdsfs](trees1.png)\n",
    "\n",
    "\n",
    "## caveats:\n",
    "**it doesn't work for a cycle or any other types of graphs. it works only for trees(those that n-1 edges).**"
   ]
  },
  {
   "cell_type": "code",
   "execution_count": null,
   "id": "a0130205",
   "metadata": {},
   "outputs": [],
   "source": []
  },
  {
   "cell_type": "markdown",
   "id": "68db5057",
   "metadata": {},
   "source": [
    "# day 255"
   ]
  },
  {
   "cell_type": "markdown",
   "id": "5abad975",
   "metadata": {},
   "source": [
    "# Rooted Trees\n",
    "\n",
    "![fsfsf](trees2.png)\n",
    "\n",
    "\n",
    "# notes:\n",
    "* Any vertex can be chosen as the root not just the vertex with the most length(highest degree)."
   ]
  },
  {
   "cell_type": "code",
   "execution_count": null,
   "id": "7fd80476",
   "metadata": {},
   "outputs": [],
   "source": []
  },
  {
   "cell_type": "markdown",
   "id": "c0d5be7d",
   "metadata": {},
   "source": [
    "# finding number of vertices in any complete Tree.\n",
    "\n",
    "![fsfsdfs](trees3.png)\n",
    "\n",
    "# notes:\n",
    "* just remember this formula: \n",
    "\n",
    "# $$ \\frac{m^{h+1} - 1}{m-1} $$\n",
    "\n",
    "# $$ \\text{where h is height of the tree} $$\n",
    "\n",
    "\n",
    "* and if you want to find how many vertices are there in any level of a complete Tree, use this Formula:\n",
    "\n",
    "# $$ m^{k} $$\n",
    "# $$ \\text{where k is the level of the tree and} k \\leq 2 $$"
   ]
  },
  {
   "cell_type": "code",
   "execution_count": 1,
   "id": "75415c82",
   "metadata": {},
   "outputs": [
    {
     "data": {
      "text/plain": [
       "3906.0"
      ]
     },
     "execution_count": 1,
     "metadata": {},
     "output_type": "execute_result"
    }
   ],
   "source": [
    "# How many vertices and edges a complete 5-ary tree has if the height of the tree is 5?\n",
    "(5**(5+1) - 1) / (5-1)"
   ]
  },
  {
   "cell_type": "code",
   "execution_count": 4,
   "id": "5efb54ec",
   "metadata": {},
   "outputs": [
    {
     "data": {
      "text/plain": [
       "32"
      ]
     },
     "execution_count": 4,
     "metadata": {},
     "output_type": "execute_result"
    }
   ],
   "source": [
    "# For a complete binary tree T, how many vertices are in level 5?\n",
    "2**5"
   ]
  },
  {
   "cell_type": "code",
   "execution_count": null,
   "id": "902d5f6c",
   "metadata": {},
   "outputs": [],
   "source": []
  },
  {
   "cell_type": "markdown",
   "id": "efae8702",
   "metadata": {},
   "source": [
    "# day 256"
   ]
  },
  {
   "cell_type": "markdown",
   "id": "23892345",
   "metadata": {},
   "source": [
    "![sfsf](tree4.png)"
   ]
  },
  {
   "cell_type": "code",
   "execution_count": null,
   "id": "98caa66e",
   "metadata": {},
   "outputs": [],
   "source": []
  },
  {
   "cell_type": "markdown",
   "id": "5fe3d460",
   "metadata": {},
   "source": [
    "# day 257"
   ]
  },
  {
   "cell_type": "markdown",
   "id": "086879fc",
   "metadata": {},
   "source": [
    "![ffsdfsd](tree5.png)"
   ]
  },
  {
   "cell_type": "code",
   "execution_count": null,
   "id": "bf51e0e9",
   "metadata": {},
   "outputs": [],
   "source": []
  },
  {
   "cell_type": "markdown",
   "id": "5318383b",
   "metadata": {},
   "source": [
    "# day 258"
   ]
  },
  {
   "cell_type": "markdown",
   "id": "03de59f7",
   "metadata": {},
   "source": [
    "# Binary Search Tree: \n",
    "![Binary search tree](tree6.png)\n",
    "\n",
    "\n",
    "# notes: \n",
    "\n",
    "## construction process:\n",
    "* Numbers that are smaller to root goes to left side.\n",
    "* Numbers that are larger to root goes to right side.\n",
    "\n",
    "## Deletion of a vertex in a BST:\n",
    "* To delete a Node(vertex) with no child just delete it.\n",
    "* To delete a Node(vertex) with one child delete it and replace its position with its child.\n",
    "* To delete a Node(vertex) with two children, replace it either with biggest number in its left subtree(biggest left child) or with smallest number in its right subtree(smallest right child).\n",
    "\n",
    "\n",
    "## study your algorithms for better clarity:\n",
    "1. study Binary search Trees.\n",
    "2. study Binary search Trees construction."
   ]
  },
  {
   "cell_type": "code",
   "execution_count": null,
   "id": "7c051a7b",
   "metadata": {},
   "outputs": [],
   "source": []
  },
  {
   "cell_type": "markdown",
   "id": "1fa1652d",
   "metadata": {},
   "source": [
    "# day 262,day 264"
   ]
  },
  {
   "cell_type": "markdown",
   "id": "2267463b",
   "metadata": {},
   "source": [
    "# Kirchoff's Theorem to find the number of spanning trees in a circuit:\n",
    "\n",
    "![sdsfs](tree7.png)\n",
    "\n",
    "## notes:\n",
    "1. A span is a tree (tree should not be cyclical so it is not a circuit) derived from a graph.\n",
    "2. kirchoff's theorem helps us figure out the total number of combinations of spans in a graph.\n",
    "3. A spanning Tree doesn't exist for a graph with vertices with self loops. self loops are also called cycles. a tree mustn't have cycles to be called a tree.\n",
    "\n",
    "\n",
    "\n",
    "## procedure of kirchoff's theorem:\n",
    "1. build an adjacency matrix(one-hot encoded edges of vertices on both cols and rows).\n",
    "2. replace 1 with -1.\n",
    "3. replace the diagonal elements with degrees of vertices.\n",
    "4. find a cofactor matrix for any element of the matrix. this will give you the possible number of  total combinations of spanning trees with the given graph."
   ]
  },
  {
   "cell_type": "code",
   "execution_count": null,
   "id": "092aaa4c",
   "metadata": {},
   "outputs": [],
   "source": []
  },
  {
   "cell_type": "markdown",
   "id": "cd2887da",
   "metadata": {},
   "source": [
    "# forests\n",
    "\n",
    "![sfsdf](tree8.png)\n",
    "\n",
    "## notes:\n",
    "1. A forest is a disjoint union of Trees.\n",
    "2. A Tree is a forest but a forest is not a Tree.\n",
    "3. A graph is broken into many subgraphs and each subgraph if it has no cycle is a Tree.\n",
    "4. A graph with k components and n vertices will have n-k edges."
   ]
  },
  {
   "cell_type": "code",
   "execution_count": null,
   "id": "7c1b46e7",
   "metadata": {},
   "outputs": [],
   "source": []
  },
  {
   "cell_type": "code",
   "execution_count": null,
   "id": "9faaccce",
   "metadata": {},
   "outputs": [],
   "source": []
  },
  {
   "cell_type": "code",
   "execution_count": null,
   "id": "3f76d342",
   "metadata": {},
   "outputs": [],
   "source": []
  },
  {
   "cell_type": "code",
   "execution_count": null,
   "id": "7676d328",
   "metadata": {},
   "outputs": [],
   "source": []
  },
  {
   "cell_type": "markdown",
   "id": "f075b6c4",
   "metadata": {},
   "source": [
    "# Directed Graphs"
   ]
  },
  {
   "cell_type": "code",
   "execution_count": null,
   "id": "944b926a",
   "metadata": {},
   "outputs": [],
   "source": []
  },
  {
   "cell_type": "markdown",
   "id": "12ffd935",
   "metadata": {},
   "source": [
    "# day 265"
   ]
  },
  {
   "cell_type": "markdown",
   "id": "dc7b49cc",
   "metadata": {},
   "source": [
    "# DiGraphs(Directed graph);\n",
    "\n",
    "\n",
    "## notes:\n",
    "* edges are directing the route.\n",
    "* parallel edges in a directed graph are not considered parallel. They are not parallel. so it is a simple directed graph even with a seemingly parallel edge.\n",
    "* if the edge goes from a to b then a is dominating b and b is dominated by a and a is adjacent to b and b is adjacent from a.\n",
    "\n",
    "![dfsdf](dir.png)\n",
    "\n",
    "\n",
    "## notes:\n",
    "* **order of the graph is also known as number of distinct vertices in the graph.|v|**\n",
    "* **size of the graph is also known as the number of edges the graph has.|E|**"
   ]
  },
  {
   "cell_type": "code",
   "execution_count": null,
   "id": "9217a6f3",
   "metadata": {},
   "outputs": [],
   "source": []
  },
  {
   "cell_type": "markdown",
   "id": "d402a463",
   "metadata": {},
   "source": [
    "# day 266\n",
    "\n",
    "\n",
    "# in degree and out degree:\n",
    "\n",
    "![fsdf](in_out.png)\n",
    "\n",
    "## notes:\n",
    "* in degrees are number of arrows coming into it.\n",
    "* out degrees are number of arrows going out of it.\n",
    "* a self loop counts as 1 in-degree and 1 out-degree.\n",
    "* sum of in-degrees == sum of out-degrees == total number of arcs of directed graph == total number of edges in a directed graph.\n",
    "* if the number of in degrees for a vertex is 0 then it is called a \"source\".\n",
    "* if the number of out degrees for a vertex is 0 then it is called a \"sink\""
   ]
  },
  {
   "cell_type": "code",
   "execution_count": null,
   "id": "48af11ad",
   "metadata": {},
   "outputs": [],
   "source": []
  },
  {
   "cell_type": "markdown",
   "id": "8acb252f",
   "metadata": {},
   "source": [
    "# IsoMorphism in directed graph:\n",
    "\n",
    "![fsdf](dirac2.png)\n",
    "![fsfsd](dirac3.png)\n",
    "\n",
    "## notes:\n",
    "* to check if two graphs are isomorphic check the following:\n",
    "1. check if number of vertices in both graphs are same.\n",
    "2. check if the number of edges(arcs) in both graphs are same.\n",
    "3. check the in-degrees and out-degrees correspondence.\n",
    "\n",
    "\n",
    "## on computer vision:\n",
    "* Isomorphism in networks can indeed lead to a loss of structural information, making it challenging to discern the original arrangement. This is where the study of Topology becomes crucial, as it focuses on the properties preserved under continuous transformations, helping to understand and analyze the underlying structure of isomorphic graphs in a more meaningful way. In the context of computer vision, such concepts find applications in image analysis and pattern recognition, where preserving structural information is essential for tasks like object recognition and scene understanding."
   ]
  },
  {
   "cell_type": "code",
   "execution_count": null,
   "id": "8d8c8164",
   "metadata": {},
   "outputs": [],
   "source": []
  },
  {
   "cell_type": "markdown",
   "id": "743ed0ad",
   "metadata": {},
   "source": [
    "# Adjacency matrix for digraphs:\n",
    "\n",
    "![fsfsdf](dirac4.png)\n",
    "\n",
    "![fsfs](dirac5.png)\n",
    "\n",
    "## notes:\n",
    "* add the column of the adjacency matrix to compute the id-degree of the concerned vertex.\n",
    "* add the row of the adjacency matrix to compute the out-degree of the concerned vertex."
   ]
  },
  {
   "cell_type": "code",
   "execution_count": null,
   "id": "36024d57",
   "metadata": {},
   "outputs": [],
   "source": []
  },
  {
   "cell_type": "markdown",
   "id": "4d6e46df",
   "metadata": {},
   "source": [
    "# Incidence Matrix:\n",
    "![fsffsfsd](dirac6.png)\n",
    "\n",
    "## notes:\n",
    "* write labels of vertices as rows\n",
    "* write labels of edges as cols.  \n",
    "* To create a Matrix.\n",
    "* if the edge moves away from the vertex put 1\n",
    "* if the edge moves towards the vertex put -1.\n",
    "* if the edge self loops the vertex then put 2."
   ]
  },
  {
   "cell_type": "code",
   "execution_count": null,
   "id": "fd55741d",
   "metadata": {},
   "outputs": [],
   "source": []
  },
  {
   "cell_type": "markdown",
   "id": "f0f6818d",
   "metadata": {},
   "source": [
    "# Walk,paths and cycles.\n",
    "![sdfsdf](dirac7.png)\n",
    "![dsfsdf](dirac8.png)\n",
    "\n",
    "## note:\n",
    "* if there is an unreachable unconnected or undirected vertex in the graph such that there is no path to reach the vertex from any other vertices then the distance to reaach that vertex from any other vertex is infinite.\n",
    "* the length between vertex u and vertex in the graph is the shortest distance between them."
   ]
  },
  {
   "cell_type": "code",
   "execution_count": null,
   "id": "9cb19a05",
   "metadata": {},
   "outputs": [],
   "source": []
  },
  {
   "cell_type": "markdown",
   "id": "f1393486",
   "metadata": {},
   "source": [
    "# connectedness\n",
    "\n",
    "\n",
    "![sdfsdf](dirac9.png)\n",
    "\n",
    "## notes:\n",
    "* if a graph is strongly connected then you can travel from any vertex to any other vertex in the grahp."
   ]
  },
  {
   "cell_type": "code",
   "execution_count": null,
   "id": "602a61a3",
   "metadata": {},
   "outputs": [],
   "source": []
  },
  {
   "cell_type": "markdown",
   "id": "f1d75362",
   "metadata": {},
   "source": [
    "# Tournaments:\n",
    "\n",
    "![fsfs](dirac10.png)\n",
    "\n",
    "## note: \n",
    "\n",
    "* the underlying graph of a tournament is a complete graph(k_n).\n",
    "* scores of players in a tournament can be represented as  out-degrees of vertices in a directed graph.\n",
    "* the graph also contains information about who defeated who and who was defeated by who given that:\n",
    "    1. vertices are player names and\n",
    "    2. the edges propels away from the vertex indicates victory and \n",
    "    3. edge towards the vertex indicates defeat.\n",
    "    4. the constraint is you cannot have double routes meaning you cannot have a vertex that defeats another vertex and also gets defeated by the vertex."
   ]
  },
  {
   "cell_type": "code",
   "execution_count": null,
   "id": "5283eda1",
   "metadata": {},
   "outputs": [],
   "source": []
  },
  {
   "cell_type": "code",
   "execution_count": null,
   "id": "34722270",
   "metadata": {},
   "outputs": [],
   "source": []
  },
  {
   "cell_type": "code",
   "execution_count": null,
   "id": "87b56dbe",
   "metadata": {},
   "outputs": [],
   "source": []
  },
  {
   "cell_type": "code",
   "execution_count": null,
   "id": "0ca6dde5",
   "metadata": {},
   "outputs": [],
   "source": []
  },
  {
   "cell_type": "code",
   "execution_count": null,
   "id": "b3ab13d1",
   "metadata": {},
   "outputs": [],
   "source": []
  },
  {
   "cell_type": "code",
   "execution_count": null,
   "id": "120fbab7",
   "metadata": {},
   "outputs": [],
   "source": []
  },
  {
   "cell_type": "code",
   "execution_count": null,
   "id": "08a34a13",
   "metadata": {},
   "outputs": [],
   "source": []
  },
  {
   "cell_type": "markdown",
   "id": "4dd0cb2a",
   "metadata": {},
   "source": [
    "# Planer Graphs"
   ]
  },
  {
   "cell_type": "code",
   "execution_count": null,
   "id": "1e333e2f",
   "metadata": {},
   "outputs": [],
   "source": []
  },
  {
   "cell_type": "code",
   "execution_count": null,
   "id": "f98035e1",
   "metadata": {},
   "outputs": [],
   "source": []
  },
  {
   "cell_type": "markdown",
   "id": "012da5f9",
   "metadata": {},
   "source": [
    "# day 267"
   ]
  },
  {
   "cell_type": "markdown",
   "id": "ebbd0772",
   "metadata": {},
   "source": [
    "![fsffsd](planer.png)\n",
    "\n",
    "## note:\n",
    "* planer graphs are complete graphs whose edges do not intersect.\n",
    "* A plane graph is a plane drawing of a planer graph (that which can be represented in 2D).\n",
    "* A plane graph may not be planer.\n",
    "* Regions are how many segements the graph can be divided into.\n",
    "* we can use this planer graph to predict whether the components of our graph have interdependencies. \n",
    "* k_{3,3} and k_5 are the only non-planer graphs."
   ]
  },
  {
   "cell_type": "code",
   "execution_count": null,
   "id": "d1984bf3",
   "metadata": {},
   "outputs": [],
   "source": []
  },
  {
   "cell_type": "markdown",
   "id": "05326b2c",
   "metadata": {},
   "source": [
    "# Kuratowski's Theorem\n",
    "\n",
    "![fsdfsd](planer2.png)\n",
    "![sfsf](planer3.png)\n",
    "\n",
    "## notes:\n",
    "* all other graphs except k_{3,3} (a bipartite graph with 3 vertices all connecting to 3 other vertices) and k_{5} (a complete graph with 5 vertices all connecting all other vertices) are planer graphs.\n",
    "* k_{3,3} and K_{5} are the only non-planer graphs.\n",
    "* any graph that is a subgraph of k_{3,3} and K_{5} are non-planer as well.\n",
    "* any graph that is homeomorphic to k_{3,3} and K_{5} are non-planer as well.(homeomorphism is having the same structure). **homemorphic graph can be obtained by inserting vertices of degree 2 into the same graph.**\n",
    "* any graph whose edges can be contracted to become k_{3,} and k_5 are non-planer as well."
   ]
  },
  {
   "cell_type": "code",
   "execution_count": null,
   "id": "9a5d9b57",
   "metadata": {},
   "outputs": [],
   "source": []
  },
  {
   "cell_type": "markdown",
   "id": "e1195848",
   "metadata": {},
   "source": [
    "# day 268"
   ]
  },
  {
   "cell_type": "markdown",
   "id": "c3b782ff",
   "metadata": {},
   "source": [
    "# Euler's Formula(n-m+r = 2):\n",
    "\n",
    "![dfsfsd](planer4.png)\n",
    "## notes:\n",
    "* Euler is a concept connector: he connects many related concepts together \n",
    "* Euler formula for states that number of vertices - number of edges + number of regions in the graph is = 2.\n",
    "* it is applicable for all graphs.\n",
    "* the region is the closed spaces of the graph + the space outside the graph."
   ]
  },
  {
   "cell_type": "code",
   "execution_count": null,
   "id": "116accd5",
   "metadata": {},
   "outputs": [],
   "source": []
  },
  {
   "cell_type": "markdown",
   "id": "edfa6230",
   "metadata": {},
   "source": [
    "# day 269"
   ]
  },
  {
   "cell_type": "markdown",
   "id": "714c188a",
   "metadata": {},
   "source": [
    "# dual graph:\n",
    "\n",
    "![sfsfsd](planer5.png)\n",
    "\n",
    "## notes:\n",
    "* A dual graphs are painted in green in the figure.\n",
    "* planer graphs are painted in red in the figure.\n",
    "* Dual graphs capture the relationship between edges and regions in the original graph.\n",
    "* Dual graphs are possible only with planer graphs\n",
    "* number of vertices in a dual graph is = number of regions in the plane graph.\n",
    "* number of edges in the dual graph is  = number of edges in the plane graph.\n",
    "* number of regions in the dual graph is = number of vertices in the plane graph.\n",
    "* if you take the dual graph for the dual graph you will get the original plane graph.\n",
    "* dual graph is which is isomorphic to the plane graph is called self dual graph.\n",
    "--------------\n",
    "\n",
    "# dual graph of a wheel graph:\n",
    "![fsfsfs](planer6.png)\n",
    "\n",
    "## notes\n",
    "* dual of every wheel graph is also a wheel graph because wheel graphs are isomorphic.\n",
    "* A dual graph pf a wheel graph doesn't have a vertex outside its original wheel graph, so they make perfect inner circles or inner wheels (wheel within wheel)."
   ]
  },
  {
   "cell_type": "code",
   "execution_count": null,
   "id": "1eae9c3a",
   "metadata": {},
   "outputs": [],
   "source": []
  },
  {
   "cell_type": "code",
   "execution_count": null,
   "id": "433c22d5",
   "metadata": {},
   "outputs": [],
   "source": []
  },
  {
   "cell_type": "code",
   "execution_count": null,
   "id": "d1578a28",
   "metadata": {},
   "outputs": [],
   "source": []
  },
  {
   "cell_type": "code",
   "execution_count": null,
   "id": "4c0c86c9",
   "metadata": {},
   "outputs": [],
   "source": []
  },
  {
   "cell_type": "code",
   "execution_count": null,
   "id": "25052f0a",
   "metadata": {},
   "outputs": [],
   "source": []
  },
  {
   "cell_type": "markdown",
   "id": "401bc118",
   "metadata": {},
   "source": [
    "# Graph operations:"
   ]
  },
  {
   "cell_type": "code",
   "execution_count": null,
   "id": "664e2468",
   "metadata": {},
   "outputs": [],
   "source": []
  },
  {
   "cell_type": "markdown",
   "id": "1528c0d3",
   "metadata": {},
   "source": [
    "# vertex and Edge Deletion and Addition:\n",
    "\n",
    "## vertex Deletion:\n",
    "![fsfsf](graph_op.png)\n",
    "\n",
    "## notes:\n",
    "* if you delete a vertex its associated edges will also be deleted.\n",
    "\n",
    "## edge deletion:\n",
    "![fsdfsdf](graph_op1.png)\n",
    "\n",
    "## notes:\n",
    "* if you delete an edge from a graph you will only delete the edge but the vertices will remain intact.\n",
    "\n",
    "\n",
    "## vertex addition and edge addition:\n",
    "![fsfsf](graph_op2.png)\n",
    "\n",
    "## notes:\n",
    "* adding a vertex just adds a vertex to the graph and to the vertex set.\n",
    "* adding an edge just adds an edge to the graph and to the edge set.\n",
    "* addition of an vertex doesn't add additional edges \n",
    "* additon of an edge doesn't add additional vertices\n"
   ]
  },
  {
   "cell_type": "code",
   "execution_count": null,
   "id": "4f08f9f1",
   "metadata": {},
   "outputs": [],
   "source": []
  },
  {
   "cell_type": "markdown",
   "id": "1b73319f",
   "metadata": {},
   "source": [
    "# day 272"
   ]
  },
  {
   "cell_type": "markdown",
   "id": "12268544",
   "metadata": {},
   "source": [
    "# CARTESIAN PRODUCT:\n",
    "\n",
    "## cartesian product of two sets of elements:\n",
    "![sdfsfs](graph_op3.png)\n",
    "\n",
    "## cartesian product of two graphs:\n",
    "![fsdfsd](graph_op4.png)\n",
    "![fsfsdf](graph_op5.png)\n",
    "\n",
    "\n",
    "## notes:\n",
    "* the structure of the graph doesn't matter because the isomorphic property of the graphs just cares about the connection between the nodes that means only the information about the connection, number of connections and number of vertices alone are preserved. The structural information of the graph is lost that means it doesn't matter how you draw it as long as you are right about the connection between vertices. "
   ]
  },
  {
   "cell_type": "code",
   "execution_count": null,
   "id": "6706fa9c",
   "metadata": {},
   "outputs": [],
   "source": []
  },
  {
   "cell_type": "markdown",
   "id": "bafbb58e",
   "metadata": {},
   "source": [
    "# Graph Join and Graph Transpose:\n",
    "\n",
    "\n",
    "## Graph join operation: joining two graphs\n",
    "![fssd](graph_op6.png)\n",
    "\n",
    "## notes:\n",
    "* just join vertices of graph1 to all the vertices of the graph2. it is called Graph join. make sure all the vertices of the current graph joins with all the vertices of the new graph.\n",
    "\n",
    "\n",
    "## Graph Transform operation: changing directions\n",
    "![sfsdfsdf](graph_op7.png)\n",
    "\n",
    "## notes:\n",
    "* it only works on directed graph.\n",
    "* it is just about changing the direction of the vertices. if a to b in the original then change it to b to a.\n",
    "* the transpose of tranpose of digraph is just the original graph."
   ]
  },
  {
   "cell_type": "code",
   "execution_count": null,
   "id": "d7d2d3f5",
   "metadata": {},
   "outputs": [],
   "source": []
  },
  {
   "cell_type": "markdown",
   "id": "fa373ef1",
   "metadata": {},
   "source": [
    "# Graph Complement:\n",
    "\n",
    "![fsfs](graph_op8.png)\n",
    "\n",
    "## notes:\n",
    "* the complement of the graph is a representation of what the original graph doesn't have in it to make itself a complete graph.\n",
    "* the complement of the graph has the same number of vertices as the original graph, there is no change about it but for edges the complement is going to have edges that are not present in the the original graph. \n",
    "\n",
    "## self complementory and isomorphism:\n",
    "![sfsfsd](graph_op9.png)\n",
    "\n",
    "## notes:\n",
    "* Graph and its complement together make a complete graph. That means a complete graph has no complement.\n",
    "* if a graph is isomorphic to its complement then it is called self-complementary.\n",
    "* A simple graph with 5 vertices, is self complementory because the graph is isomorphic to its compliment."
   ]
  },
  {
   "cell_type": "code",
   "execution_count": null,
   "id": "9b9523b2",
   "metadata": {},
   "outputs": [],
   "source": []
  },
  {
   "cell_type": "code",
   "execution_count": null,
   "id": "75a93275",
   "metadata": {},
   "outputs": [],
   "source": []
  },
  {
   "cell_type": "code",
   "execution_count": null,
   "id": "9b1ea292",
   "metadata": {},
   "outputs": [],
   "source": []
  },
  {
   "cell_type": "code",
   "execution_count": null,
   "id": "abc9891f",
   "metadata": {},
   "outputs": [],
   "source": []
  },
  {
   "cell_type": "code",
   "execution_count": null,
   "id": "8bbdb2f2",
   "metadata": {},
   "outputs": [],
   "source": []
  },
  {
   "cell_type": "code",
   "execution_count": null,
   "id": "de4bb113",
   "metadata": {},
   "outputs": [],
   "source": []
  },
  {
   "cell_type": "code",
   "execution_count": null,
   "id": "01611bfb",
   "metadata": {},
   "outputs": [],
   "source": []
  },
  {
   "cell_type": "markdown",
   "id": "3e54e040",
   "metadata": {},
   "source": [
    "# Graph colorings:"
   ]
  },
  {
   "cell_type": "code",
   "execution_count": null,
   "id": "543e6966",
   "metadata": {},
   "outputs": [],
   "source": []
  },
  {
   "cell_type": "markdown",
   "id": "3ac8b844",
   "metadata": {},
   "source": [
    "# vertex colorings:\n",
    "\n",
    "\n",
    "![sffsdfs](graph_color1.png)\n",
    "![fsfsdfs](graph_color3.png)\n",
    "## notes:\n",
    "* the rule is two adjacent vertices cannot have the same color. Then it is called a `proper vertex coloring`.\n",
    "* `vertex chromatic number` is the minimum number of colors to needed to get the proper vertex coloring in a graph such that no two adjacent vertices connected by the same edge have the same color. chi(g) means vertex chromatic number of G.\n",
    "* only a null graph can be colored with one color since there are no adjacency: edges connecting the vertices, so all vertices can have the same color.\n"
   ]
  },
  {
   "cell_type": "code",
   "execution_count": null,
   "id": "04473cde",
   "metadata": {},
   "outputs": [],
   "source": []
  },
  {
   "cell_type": "markdown",
   "id": "8c494e05",
   "metadata": {},
   "source": [
    "# Edge coloring:\n",
    "\n",
    "![fsfsf](graph_color2.png)\n",
    "\n",
    "## notes:\n",
    "* Rule for edge coloring is: no two adjacent edges should have the same color.\n",
    "* chi_prime(g) is edge chromatic number of the graph G which is the minimum number of colors needed to paint each non-adjacent edges in the graph such that no two edges are of same color forming a pefect proper edge coloring.\n",
    "* minimum number of colors to paint the edges of an even cycle, an even cycle is a graph with even number of vertices, is 2.\n",
    "* minimum number of colors to paint the edges of an odd cycle to get proper edge coloring is, an odd cycle is graph with odd number of vertices, is 3.\n",
    "* minimum number of colors to paint the edges in a path graph is 2 given that number of vertices >= 3.\n",
    "* minimum number of colors to paint the edges in a Tree is, the max degree of the vertex of the tree. \n"
   ]
  },
  {
   "cell_type": "code",
   "execution_count": null,
   "id": "5d712609",
   "metadata": {},
   "outputs": [],
   "source": []
  },
  {
   "cell_type": "markdown",
   "id": "0f3f24eb",
   "metadata": {},
   "source": [
    "# Proper Total Coloring:\n",
    "\n",
    "![fsfs](graph_color5.png)\n",
    "\n",
    "## notes:\n",
    "* it is a combination of proper vertex coloring and proper edge coloring.\n",
    "* the main thing to note here is no vertex and edge should of same color.\n",
    "* the notation is chi double prime for total chromatic color of a graph."
   ]
  },
  {
   "cell_type": "code",
   "execution_count": null,
   "id": "89e99129",
   "metadata": {},
   "outputs": [],
   "source": []
  },
  {
   "cell_type": "markdown",
   "id": "75b17c44",
   "metadata": {},
   "source": [
    "# Matching and Marriage:\n",
    "\n"
   ]
  },
  {
   "cell_type": "code",
   "execution_count": null,
   "id": "abef13f9",
   "metadata": {},
   "outputs": [],
   "source": []
  }
 ],
 "metadata": {
  "kernelspec": {
   "display_name": "Python 3 (ipykernel)",
   "language": "python",
   "name": "python3"
  },
  "language_info": {
   "codemirror_mode": {
    "name": "ipython",
    "version": 3
   },
   "file_extension": ".py",
   "mimetype": "text/x-python",
   "name": "python",
   "nbconvert_exporter": "python",
   "pygments_lexer": "ipython3",
   "version": "3.9.12"
  }
 },
 "nbformat": 4,
 "nbformat_minor": 5
}
