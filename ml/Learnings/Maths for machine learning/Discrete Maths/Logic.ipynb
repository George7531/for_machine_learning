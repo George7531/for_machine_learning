{
 "cells": [
  {
   "cell_type": "markdown",
   "id": "5185fc9e",
   "metadata": {},
   "source": [
    "# day 206"
   ]
  },
  {
   "cell_type": "markdown",
   "id": "4d55cd6a",
   "metadata": {},
   "source": [
    "# Logical statements:\n",
    "\n",
    "* Logical statements are either True or False. It cannot have uncertainty about it Trueness or Falseness at any point of Time or space. It is either completely True or completely False. for example 1+1 = 2 is a True logical(boolean) Statement.\n",
    "---------\n",
    "* quantum superpositions however might inflict both Trueness and falsity at the same time. A system can be in any number of states at a given time and and in given space but when measurement is made it collapses to be in one of those states(lets say it is True but it could have also been false). so, they do not bound themselves to be completely True or completely False. They always bear this air of uncertainty around them which directly contradicts with our logical statement's definition.\n",
    "-----------\n",
    "\n",
    "\n",
    "# compound statements:\n",
    "\n",
    "* when you have two or more logical statements that you have them connected together in a single sentence using logical operators such as 'and','or' 'not' etc that is called compound statements.\n",
    "* i.e I am a student or 1+3 = 89.\n",
    "$$ \\cap \\rightarrow \\text{ is \"AND\"} $$\n",
    "$$ \\cup \\rightarrow \\text{ is \"OR\"} $$\n",
    "$$ \\neq \\rightarrow \\text{ is \"NOT\"} $$\n",
    "\n",
    "\n",
    "# difference between or and xor:\n",
    "\n",
    "# OR:\n",
    "$$ \\text{TRUE } . \\text{ TRUE } \\rightarrow \\text{ TRUE } $$ \n",
    "$$ \\text{TRUE } . \\text{ FALSE } \\rightarrow \\text{ TRUE } $$ \n",
    "$$ \\text{FALSE } . \\text{ TRUE } \\rightarrow \\text{ TRUE } $$ \n",
    "$$ \\text{FALSE } . \\text{ FALSE } \\rightarrow \\text{ FALSE } $$ \n",
    "\n",
    "\n",
    "# XOR:(stands for exclusive OR)\n",
    "$$ \\text{TRUE } . \\text{ TRUE } \\rightarrow \\text{ FALSE } $$ \n",
    "$$ \\text{TRUE } . \\text{ FALSE } \\rightarrow \\text{ TRUE } $$ \n",
    "$$ \\text{FALSE } . \\text{ TRUE } \\rightarrow \\text{ TRUE } $$ \n",
    "$$ \\text{FALSE } . \\text{ FALSE } \\rightarrow \\text{ FALSE } $$ \n",
    "\n",
    "\n",
    "# Logical Equivalence:\n",
    "\n",
    "$$ p \\equiv \\text{~}(\\text{~}(p)) $$\n",
    "$$ p \\cup q \\equiv q \\cup p $$\n",
    "$$ p \\cap q \\equiv q \\cap p $$"
   ]
  },
  {
   "cell_type": "code",
   "execution_count": null,
   "id": "b289b6af",
   "metadata": {},
   "outputs": [],
   "source": []
  },
  {
   "cell_type": "markdown",
   "id": "b32169d6",
   "metadata": {},
   "source": [
    "# day 210"
   ]
  },
  {
   "cell_type": "markdown",
   "id": "b0b52a1f",
   "metadata": {},
   "source": [
    "# Tautology and Contradictions!\n",
    "\n",
    "# Tautology: is always True:\n",
    "------------------------\n",
    "|p    | ~p     |$$ p \\cup  \\text{~p } $$ |\n",
    "|-----|--------|-------------------------|\n",
    "|T    | F      | T                       |\n",
    "|F    | T      | T                       |\n",
    "\n",
    "\n",
    "\n",
    "# Contradiction: is always False:\n",
    "--------------------------------\n",
    "|p    | ~p     |$$ p \\cap  \\text{~p } $$ |\n",
    "|-----|--------|-------------------------|\n",
    "|T    | F      | F                       |\n",
    "|F    | T      | F                       |\n",
    "\n",
    "\n"
   ]
  },
  {
   "cell_type": "code",
   "execution_count": null,
   "id": "ee286eb1",
   "metadata": {},
   "outputs": [],
   "source": []
  },
  {
   "cell_type": "markdown",
   "id": "d7ddfc47",
   "metadata": {},
   "source": [
    "# De morgan's law:\n",
    "\n",
    "$$ \\text{~} \\left(p \\cup q \\right) = \\text{~p } \\cap \\text{~q}$$\n",
    "$$ \\text{~} \\left(p \\cap q \\right) = \\text{~p } \\cup \\text{~q}$$\n",
    "\n",
    "# computer vision application of de morgan's law:\n",
    "* it is used to segment and distinguish the background of an image from the forefront.\n",
    "* i.e not(background pixels and forefront pixels) = not(background pixels) or not(forefront pixels).\n",
    "* so in order to get only the background pixels you would try this logic: not(forefront pixels) = not(background pixels and forefront pixels) - not(background pixels).\n",
    "\n",
    "# application in number selection:\n",
    "* 0 <= x < 3\n",
    "* negate the above statement.\n",
    "* the statement is x >= 0 and x < 3. \n",
    "* the negation of the statement is going to be x < 0 or x>=3.\n"
   ]
  },
  {
   "cell_type": "code",
   "execution_count": null,
   "id": "67806d2a",
   "metadata": {},
   "outputs": [],
   "source": []
  },
  {
   "cell_type": "markdown",
   "id": "88108569",
   "metadata": {},
   "source": [
    "# day 214"
   ]
  },
  {
   "cell_type": "markdown",
   "id": "1462fc00",
   "metadata": {},
   "source": [
    "# Logical Equivalence Laws:\n",
    "\n",
    "Given any statement variables p,q, and r, a tautology t and a contradiction c, the\n",
    "following logical equivalences hold:\n",
    "\n",
    "\n",
    "|                      |                                 |                                 |\n",
    "|----------------------|---------------------------------|---------------------------------|\n",
    "| Commutative laws | p∧q ≡ q∧p | p∨q ≡ q∨p |\n",
    "| Associative laws | (p∧q)∧r ≡ p∧(q∧r) | (p∨q)∨r ≡ p∨(q∨r) |\n",
    "| Distributive laws | p∧(q∨r) ≡ (p∧q)∨(p∧r) | p ∨ (q ∧ r) ≡ (p ∨ q) ∧ (p ∨ r) |\n",
    "| Identity laws | p∧t ≡ p | p∨c ≡ p |\n",
    "| Negation laws | p ∨ ∼p ≡ t | p ∧ ∼p ≡ c |\n",
    "| Double negative law | ∼(∼p) ≡ p | |\n",
    "| Idempotent laws | p∧p ≡ p | p∨p ≡ p |\n",
    "| Universal bound laws | p ∨ t ≡ t | p∧c ≡ c |\n",
    "| DeMorgan’s laws | ∼(p∧q) ≡ ∼p∨∼q | ∼(p∨q) ≡∼p∧∼q |\n",
    "| Absorption laws | p∨(p∧q) ≡ p | p∧(p∨q) ≡ p |\n",
    "| Negations of t and c | ∼t ≡ c | ∼c ≡ t |"
   ]
  },
  {
   "cell_type": "code",
   "execution_count": null,
   "id": "dd1d47ac",
   "metadata": {},
   "outputs": [],
   "source": []
  },
  {
   "cell_type": "markdown",
   "id": "4924f808",
   "metadata": {},
   "source": [
    "# conditional statement:\n",
    "\n",
    "# $$ p \\rightarrow q $$\n",
    "\n",
    "|p         |       q      |   result      |\n",
    "|----------|--------------|---------------|\n",
    "| T        |        T     |    T          |\n",
    "| T        |        F     |    F          |\n",
    "| F        |        T     |    T          |\n",
    "| F        |        F     |    T          |\n",
    "\n",
    "* In classical logic, the truth table for the implication operator (→) is such that when the premise (P) is False and the conclusion (Q) is True, the overall result is True. This might seem counterintuitive at first, but it's based on the way implications are defined in classical logic. The implication P → Q is considered to be false only when P is true and Q is false; in all other cases, it's considered to be true.\n",
    "\n",
    "* In the context of computer vision, let's consider the application of object detection. Suppose we have a scenario where an algorithm is trained to detect whether an object is a car (Q) based on the presence of wheels (P). Now, if the system is designed to trigger the detection of a car whenever it spots wheels, this rule might lead to false positives. For example, if the algorithm detects wheels (P is True) but the object is not a car (Q is False), according to the truth table, the result is False. In this case, the algorithm might erroneously identify a non-car object as a car, leading to misclassifications.\n",
    "\n",
    "* This highlights the importance of understanding the implications and conditions in computer vision applications, particularly in designing robust algorithms that can accurately differentiate between various objects and their features. It underscores the need for careful consideration of logic and conditions when building computer vision systems to ensure accurate and reliable object recognition and classification.\n",
    "\n",
    "If x  > 2 or x < -2, then x^2 > 4\".\n",
    "\n",
    "If p ∨ q → r  is logically equivalent to (p → r) ∧ (q → r), then the above statement can be rewritten as:\n",
    "\n",
    "* if x>2 or x < -2 then x^2 > 4: x > 2 and x < -2.\n",
    "\n",
    "\n",
    "# negation of conditional statement:\n",
    "$$ \\text{~} (p \\rightarrow q) = p \\cap \\text{~} q $$\n",
    "\n",
    "* if x < 2 then x < 3: x < 2 and  x >= 3.\n",
    "* if you get grade A, you get diary milk chocolate. negation of this statement would be \"you get grade A and you get shit\"\n",
    "* if you marry that Girl, you will be happy. negation of this statement would be \" you marry that girl and you will forever be depressed.\"\n",
    "* if you you win the lottery, you will get more money. negation of this statement would be \"you win the lottery and you will be fined 55 million dollars.\n",
    "* \"If Tom is Ann’s father, then Jim is her uncle and Sue is her aunt\", the negation of the conditional statement would be Tom is Ann's Father and Jim is not her uncle and Sue is not her aunt.\n",
    "\n",
    "\n",
    "# contra positive if statements:\n",
    "$$  p \\rightarrow q = \\text{~} q \\rightarrow \\text{~} p $$\n",
    "\n",
    "* if today is november 26th, then today is my parent's wedding anniversary: the contra positive statement would be if today is not my parents' wedding anniversary then today is not November 26th.\n",
    "* if i get the new computer, i can work faster. the contra positive statement would be \"if i cannot work faster then that means i have not gotten the new computer i asked for\"\n",
    "* if you go to greenland, take that girl with you. the contra positive statement would be \"if you don't take that girl with you, you do not go to greenland.\n"
   ]
  },
  {
   "cell_type": "code",
   "execution_count": null,
   "id": "125398ab",
   "metadata": {},
   "outputs": [],
   "source": []
  },
  {
   "cell_type": "markdown",
   "id": "d71f47c3",
   "metadata": {},
   "source": [
    "# day 218"
   ]
  },
  {
   "cell_type": "markdown",
   "id": "10479830",
   "metadata": {},
   "source": [
    "# if then statement:\n",
    "* if p then q. \n",
    "* $$ p \\rightarrow q $$\n",
    "* if you marry that girl, you'd get a beautiful baby with blue eyes and brown hair.\n",
    "\n",
    "# converse:\n",
    "* if q then p:\n",
    "* $$ q \\rightarrow p $$\n",
    "* if you want to get a beautiful baby with blue eyes and brown hair, then marry that girl.\n",
    "\n",
    "\n",
    "# inverse:\n",
    "* if not p then not q\n",
    "* $$ \\text{~ p} \\rightarrow \\text{ ~q } $$\n",
    "* if you don't marry that girl, you won't get a beautiful baby with blue eyes and brown hair.\n",
    "\n",
    "|p    | q      |$$ \\text{~p} $$ |$$ \\text{~q} $$  |  p -> q  | q -> p |$$ \\text{~p } -> \\text{~q}$$ |\n",
    "|-----|--------|----------------|-----------------|----------|--------|-----------------------------|\n",
    "|T    | T      | F              | F               | T        | T      |           T                 |\n",
    "|T    | F      | F              | T               | F        | T      |           T                 |\n",
    "|F    | T      | T              | F               | T        | F      |           F                 |\n",
    "|F    | F      | T              | T               | T        | T      |           T                 |\n",
    "\n",
    "\n",
    "**from the above truth table we can observe that the converse and inverse are logically equivalent. q->p = ~p -> ~q**\n"
   ]
  },
  {
   "cell_type": "code",
   "execution_count": null,
   "id": "58cf88d3",
   "metadata": {},
   "outputs": [],
   "source": []
  },
  {
   "cell_type": "markdown",
   "id": "6367310e",
   "metadata": {},
   "source": [
    "# Biconditional Statements:\n",
    "\n",
    "*  if p then q. if q then p.\n",
    "\n",
    "* $$ p \\rightleftarrows q $$\n",
    "\n",
    "# if an only if for biconditional:\n",
    "* biconditional statements could be True only if both p and q happens. \n",
    "* `p happens if and only if q happens`\n",
    "* `q happens if and only if p happens`\n",
    "\n",
    "|p         |       q      |   $$ p \\rightleftarrows q $$      |\n",
    "|----------|--------------|-----------------------------------|\n",
    "| T        |        T     |                T                  |\n",
    "| T        |        F     |                F                  |\n",
    "| F        |        T     |                F                  |\n",
    "| F        |        F     |                T                  |\n",
    "\n",
    "* this is the `negative of xor`"
   ]
  },
  {
   "cell_type": "code",
   "execution_count": null,
   "id": "61ea7bc5",
   "metadata": {},
   "outputs": [],
   "source": []
  },
  {
   "cell_type": "markdown",
   "id": "43a79691",
   "metadata": {},
   "source": [
    "# day 223"
   ]
  },
  {
   "cell_type": "markdown",
   "id": "14623520",
   "metadata": {},
   "source": [
    "# digital circuits:\n",
    "\n",
    "![AND and OR statements in digital circuits](digital_circuits.png)\n",
    "\n",
    "# understanding:\n",
    "* `in a series circuit, the light bulb is on if and only if both switches are closed.`\n",
    "* `in a parallel circuit, the light bulb is off if and only if both switches are open.`"
   ]
  },
  {
   "cell_type": "code",
   "execution_count": null,
   "id": "65ada925",
   "metadata": {},
   "outputs": [],
   "source": []
  },
  {
   "cell_type": "markdown",
   "id": "a1fe432b",
   "metadata": {},
   "source": [
    "# black boxes and gates\n",
    "\n",
    "# black boxes:\n",
    "* black boxes are those mysterious machines whose mechanisms you are not aware of\n",
    "\n",
    "# gates:\n",
    "* there are 3 gates namely: `AND`, `NOT`, `OR`\n",
    "\n",
    "* connector for `not` is 1.\n",
    "* connectors for `or` are 2.\n",
    "* connectors for `and` are 2.\n",
    "\n",
    "# pictorial representation of how gates look:\n",
    "![gates](circuits.png)\n",
    "![boolean expressions](boolean.png)\n",
    "\n",
    "# url for making your own digital circuits:\n",
    "[create your circuits](https://logic.ly/)\n",
    "\n",
    "\n"
   ]
  },
  {
   "cell_type": "code",
   "execution_count": null,
   "id": "d711f36a",
   "metadata": {},
   "outputs": [],
   "source": []
  },
  {
   "cell_type": "markdown",
   "id": "939df4ca",
   "metadata": {},
   "source": [
    "# day 227"
   ]
  },
  {
   "cell_type": "markdown",
   "id": "2283c26c",
   "metadata": {},
   "source": [
    "# Build circuits from Truth Table:\n",
    "\n",
    "# steps:\n",
    "1. first focus on Truths of the table.\n",
    "2. use AND or OR as the connector to connect all variables(i.e P,Q,R) to get them into giving TRUE.\n",
    "3. use OR as the combiner to combine all the TRUE connections.\n",
    "\n",
    "![make circuits from truth table](circuits_from_truth_table.png)\n",
    "\n",
    "# philosophy:\n",
    "**you got the inputs,you got the outputs. now you have to `build the machine` that would convert the inputs into that particular output combination.**"
   ]
  },
  {
   "cell_type": "code",
   "execution_count": null,
   "id": "82fbb379",
   "metadata": {},
   "outputs": [],
   "source": []
  },
  {
   "cell_type": "markdown",
   "id": "611a7cd2",
   "metadata": {},
   "source": [
    "# Equivalent circuits: check if two or any given number of circuits is equivalent to the other.\n",
    "\n",
    "# Find the Inputs that would build the circuit.\n",
    "\n",
    "# goal \n",
    "* find the combination of inputs for the input variables(p,q,r,s,...) that build the given circuit.\n",
    "![find the combination of inputs that build the circuit](equivalent_circuits.png)\n",
    "\n",
    "\n",
    "# step to find equivalency in circuits:\n",
    "1. two logic circuits are equivalent if and only if they have the same inputs and outputs"
   ]
  },
  {
   "cell_type": "code",
   "execution_count": null,
   "id": "9989291f",
   "metadata": {},
   "outputs": [],
   "source": []
  },
  {
   "cell_type": "markdown",
   "id": "84b4dc93",
   "metadata": {},
   "source": [
    "# Nand gate and Nor gate\n",
    "\n",
    "![Nand nor](nand_nor.png)"
   ]
  },
  {
   "cell_type": "code",
   "execution_count": null,
   "id": "1f7908d3",
   "metadata": {},
   "outputs": [],
   "source": []
  },
  {
   "cell_type": "markdown",
   "id": "8798e549",
   "metadata": {},
   "source": [
    "# day 231"
   ]
  },
  {
   "cell_type": "markdown",
   "id": "63c79796",
   "metadata": {},
   "source": [
    "# Sentence construction in mathematics(the language of logic, the language of the Universe)"
   ]
  },
  {
   "cell_type": "markdown",
   "id": "28ee2eca",
   "metadata": {},
   "source": [
    "# Quantified Statements: (they can help create Universal Logics)\n",
    "\n",
    "# Quantifier: ALL\n",
    "\n",
    "\n",
    "$$ \\text{symbol for all is: } \\forall $$\n",
    "\n",
    "# use:\n",
    "* it allows you to refer to the entire set. \n",
    "\n",
    "$$ \\text{1. lets A be a set A = } \\{1,2,3,4,5\\} $$\n",
    "$$ \\text{ to say \"for all the elements in A that are greater than 0 mathematically( the language of logic): } $$\n",
    "$$ \\mathbf{\\forall x \\in A, x \\geq 0 } $$ \n",
    "$$ \\text{2. to say \"for all the elements in A that when squared is itself or greater than 0 mathematically: } $$\n",
    "$$ \\mathbf{\\forall x \\in R, x^{2} \\geq x } \\rightarrow \\text{but this statement is not True because any number less than 1 when squared is less than itself so, this statement is refutable} $$\n",
    "\n",
    "# practice: \n",
    "$$ \\text{1. Any real number has a nonnegative square.} \\rightarrow \\mathbf{\\forall \\in R, x^{2} \\geq 0} $$\n",
    "\n",
    "----------------\n",
    "# Quantifier: There Exists\n",
    "\n",
    "$$ \\text{ symbol for there exists is: } \\exists $$\n",
    "\n",
    "# use: \n",
    "* it allows you to refer an individual element in a set.\n",
    "\n",
    "$$ \\text{ 1. to say there exists atleast only one integer in the set of integers that when squared results in the integer itself: } \\rightarrow \\mathbf{ \\exists x \\in Z, x^{2} = x }$$\n",
    "$$ \\text{ 2. to say there exists atleast only one Real number in the set of Real numbers that when divide the number 1, results in infinity: } \\rightarrow \\mathbf{ \\exists x \\in R, \\frac{1}{x} = \\infty }$$\n",
    "\n",
    "# practice:\n",
    "$$ \\text{1. there exist two rational numbers a and b, it follows that ab is rational.} \\rightarrow \\mathbf{ \\exists a,b \\in Q, a*b \\in Q } $$\n",
    "\n",
    "$$ \\text{2. some birds sing all the time} \\rightarrow \\exists b \\in \\text{ Birds } | \\forall t \\in \\text{ Time }, b \\text{ sings } $$\n",
    "\n",
    "-----------------\n",
    "# Negation of Quantified Statements:\n",
    "\n",
    "# symbol:\n",
    "\n",
    "$$ \\text{ symbol for negation of a statement is tilde: ~  }  $$\n",
    "\n",
    "# use: \n",
    "* it allows you to specify elements in the group/set that stands out(the outliers) or to simply pick the elements to whom the rules don't apply. \n",
    "* example lets say you have a group of hat wearing men. so it is mandated for everyone in the factory to wear that protective hat but there exists some men that do not conform to the rule. so, to represent them in our model we may need negation symbol.\n",
    "\n",
    "# practice:\n",
    "$$ \\text{1. lets say the function of wearing hats is c(x) and G be the set, and we want to represent the people who do not wear hats in the factory } \\rightarrow \\quad \\mathbf{ \\exists x \\in G , \\text{~} c(x) } $$\n",
    "\n",
    "2. What is the Negation of the below statement? For every real number x there is a real number y for which y^3 = x.\n",
    "\n",
    "$$ \\exists x \\in X, \\forall y \\in Y, y^3 \\neq x  $$\n",
    "\n",
    "\n",
    "\n"
   ]
  },
  {
   "cell_type": "code",
   "execution_count": 1,
   "id": "566efc3b",
   "metadata": {},
   "outputs": [
    {
     "data": {
      "text/plain": [
       "-0.2"
      ]
     },
     "execution_count": 1,
     "metadata": {},
     "output_type": "execute_result"
    }
   ],
   "source": [
    "1/-5"
   ]
  },
  {
   "cell_type": "code",
   "execution_count": null,
   "id": "4da57174",
   "metadata": {},
   "outputs": [],
   "source": []
  }
 ],
 "metadata": {
  "kernelspec": {
   "display_name": "Python 3 (ipykernel)",
   "language": "python",
   "name": "python3"
  },
  "language_info": {
   "codemirror_mode": {
    "name": "ipython",
    "version": 3
   },
   "file_extension": ".py",
   "mimetype": "text/x-python",
   "name": "python",
   "nbconvert_exporter": "python",
   "pygments_lexer": "ipython3",
   "version": "3.9.12"
  }
 },
 "nbformat": 4,
 "nbformat_minor": 5
}
