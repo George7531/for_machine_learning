{
 "cells": [
  {
   "cell_type": "markdown",
   "id": "ac361f39",
   "metadata": {},
   "source": [
    "# day 235"
   ]
  },
  {
   "cell_type": "markdown",
   "id": "1ac6c999",
   "metadata": {},
   "source": [
    "# parity:\n",
    "\n",
    "**note we are only taking about integers**\n",
    "\n",
    "# Even numbers:\n",
    "* you can create any even numbers using `2K rule`. k can be any integers. if k=5, 2x5 = 10. if k=27, 2*27=54. whether k is an odd number or even number doesn't matter but the outcome is an even number when you scale it by 2.\n",
    "* \n",
    "\n",
    "\n",
    "# Odd numbers:\n",
    "* you can create any odd numbers using this rule `2k+1`.i.e 2x3 + 1 = 7.\n",
    "\n",
    "\n",
    "\n",
    "# multiplication operations with odds and evens:\n",
    "\n",
    "### connection between 'odd' and 'and' operator: \n",
    "1. odd x odd = odd. i.e (2k+1) * (2k+1) = 4k^2 + 4k +1 = which resembles 2k + 1 so it is odd.\n",
    "2. even x even = even\n",
    "3. odd x even = even. i.e (2k + 1) * 2k = 4k^2 + 2k = 2k(2k + 1) = which resembles 2(k) so it is even \n",
    "4. even x odd = even.\n",
    "\n",
    "\n",
    "# addition operations with odds and evens:\n",
    "\n",
    "### connection between 'odd' and 'xor' operator: \n",
    "1. even + even = even \n",
    "2. odd + even = odd i.e (2k+1) + (2k) = 4k + 1 which resembles (2k+1) so it is odd.\n",
    "3. even + odd = odd\n",
    "4. odd + odd = even i.e (2k+1) + (2k+1) = 2(2k+1) = which resembles 2(k) so it is even\n",
    "\n",
    "# practice:\n",
    "\n",
    "1. \n",
    "\n",
    "**question**: 6a + 8b + 1 will the output be even or odd given that a,b are integers?\n",
    "\n",
    "**ans**: the output is an odd number since the 1 in the eq would convert any output to odd.\n",
    "\n",
    "2.\n",
    "\n",
    "**question**: 8a + 16b + 5 will the output be even or odd given that a,b are integers?\n",
    "\n",
    "**ans**: the output is an odd number since we can convert this equation to look like this 2(4a + 8b) + 5(1) which resembles 2(k) + 1 ergo, it is an odd.\n",
    "\n",
    "\n",
    "3. \n",
    "\n",
    "**question**: 4a^2b will the output be even or odd given that a,b are integers?\n",
    "\n",
    "**ans**: the output is an even number since we can convert the above equation to look like this: 2(2a^2b) which resembles 2(k), ergo it is an even."
   ]
  },
  {
   "cell_type": "markdown",
   "id": "cd40456d",
   "metadata": {},
   "source": [
    "# exploration,analysis and freethrows"
   ]
  },
  {
   "cell_type": "code",
   "execution_count": 10,
   "id": "79c7be12",
   "metadata": {},
   "outputs": [
    {
     "data": {
      "text/plain": [
       "-101"
      ]
     },
     "execution_count": 10,
     "metadata": {},
     "output_type": "execute_result"
    }
   ],
   "source": [
    "k = -51\n",
    "2*k + 1"
   ]
  },
  {
   "cell_type": "code",
   "execution_count": 16,
   "id": "571c598b",
   "metadata": {},
   "outputs": [
    {
     "data": {
      "text/plain": [
       "21"
      ]
     },
     "execution_count": 16,
     "metadata": {},
     "output_type": "execute_result"
    }
   ],
   "source": [
    "a = 2\n",
    "b = 1\n",
    "\n",
    "6*a + 8*b + 1"
   ]
  },
  {
   "cell_type": "code",
   "execution_count": 1,
   "id": "76e1c32e",
   "metadata": {},
   "outputs": [
    {
     "data": {
      "text/plain": [
       "40"
      ]
     },
     "execution_count": 1,
     "metadata": {},
     "output_type": "execute_result"
    }
   ],
   "source": [
    "23+17"
   ]
  },
  {
   "cell_type": "markdown",
   "id": "dc6feefb",
   "metadata": {},
   "source": [
    "# Divisibility\n",
    "\n"
   ]
  },
  {
   "cell_type": "code",
   "execution_count": 1,
   "id": "9375d194",
   "metadata": {},
   "outputs": [
    {
     "data": {
      "text/html": [
       "\n",
       "        <iframe\n",
       "            width=\"1000\"\n",
       "            height=\"1000\"\n",
       "            src=\"div.pdf\"\n",
       "            frameborder=\"0\"\n",
       "            allowfullscreen\n",
       "            \n",
       "        ></iframe>\n",
       "        "
      ],
      "text/plain": [
       "<IPython.lib.display.IFrame at 0x207d66c2820>"
      ]
     },
     "execution_count": 1,
     "metadata": {},
     "output_type": "execute_result"
    }
   ],
   "source": [
    "from IPython.display import IFrame\n",
    "\n",
    "IFrame(src='div.pdf',width=1000,height=1000)"
   ]
  },
  {
   "cell_type": "markdown",
   "id": "54459041",
   "metadata": {},
   "source": [
    "# exploration,analysis and freethrows"
   ]
  },
  {
   "cell_type": "code",
   "execution_count": 9,
   "id": "1a7c5299",
   "metadata": {},
   "outputs": [
    {
     "data": {
      "text/plain": [
       "588.0"
      ]
     },
     "execution_count": 9,
     "metadata": {},
     "output_type": "execute_result"
    }
   ],
   "source": [
    "2352/4"
   ]
  },
  {
   "cell_type": "code",
   "execution_count": 8,
   "id": "0c6c8068",
   "metadata": {},
   "outputs": [
    {
     "data": {
      "text/plain": [
       "13"
      ]
     },
     "execution_count": 8,
     "metadata": {},
     "output_type": "execute_result"
    }
   ],
   "source": [
    "2+4+5+2"
   ]
  },
  {
   "cell_type": "code",
   "execution_count": null,
   "id": "c339363e",
   "metadata": {},
   "outputs": [],
   "source": []
  },
  {
   "cell_type": "markdown",
   "id": "1ba91d17",
   "metadata": {},
   "source": [
    "# day 239"
   ]
  },
  {
   "cell_type": "markdown",
   "id": "96f313a3",
   "metadata": {},
   "source": [
    "# prime numbers:\n",
    "\n",
    "* any number that is divisible only by itself and 1 is called a PRIME number.\n",
    "* ie 2,3,5,7,11,13,17,19 are all prime numbers and 4 is not a prime number.\n",
    "\n",
    "# interesting facts about the prime numbers:\n",
    "* 1 is not a prime number.\n",
    "* 2 is only EVEN prime number. The rest of the prime numbers are all ODDS.\n",
    "* every integer greater than 1 is either a prime number(2,3,5) or a product of prime(composite numbers like 4,6,15 and so on.)\n",
    "* prime numbers are parents to all other numbers.\n",
    "* prime numbers are analogous to `atoms` in physics. they are the building blocks or scaffoldings that build the fabric of the numerical universe.\n",
    "\n",
    "# creating a prime number by adding 1 to the resultant:\n",
    "* if you have list of prime numbers m1,m2,m3 ...... mn that you use as products, then they are sure to create a non-prime number(composite number) but if you add 1 to it, congratulation! you got a prime number. m1*m2*m3 + 1 = prime number. example 2*3*5+1 = 31.\n",
    "\n",
    "# prime factors:\n",
    "* **the prime factors are the only possible unique numbers that can create the target number.**\n",
    "* all the numbers in the prime factorization are `unique prime numbers`"
   ]
  },
  {
   "cell_type": "code",
   "execution_count": 65,
   "id": "9bb97fa0",
   "metadata": {},
   "outputs": [
    {
     "data": {
      "text/plain": [
       "[2, 5]"
      ]
     },
     "execution_count": 65,
     "metadata": {},
     "output_type": "execute_result"
    }
   ],
   "source": [
    "# prime factorization:\n",
    "def prime_factors(target):\n",
    "    prime_factors = []\n",
    "    divisor = 2\n",
    "    while target > 1:\n",
    "        while target%divisor == 0:\n",
    "            prime_factors.append(divisor)\n",
    "            target = target//divisor\n",
    "        divisor = divisor + 1\n",
    "        \n",
    "    return list(set(prime_factors))\n",
    "            \n",
    "            \n",
    "        \n",
    "target = 50\n",
    "prime_factors(target)"
   ]
  },
  {
   "cell_type": "code",
   "execution_count": 56,
   "id": "43be8ea9",
   "metadata": {},
   "outputs": [
    {
     "data": {
      "text/plain": [
       "0"
      ]
     },
     "execution_count": 56,
     "metadata": {},
     "output_type": "execute_result"
    }
   ],
   "source": [
    "target%2"
   ]
  },
  {
   "cell_type": "code",
   "execution_count": 55,
   "id": "34549495",
   "metadata": {},
   "outputs": [
    {
     "data": {
      "text/plain": [
       "4"
      ]
     },
     "execution_count": 55,
     "metadata": {},
     "output_type": "execute_result"
    }
   ],
   "source": [
    "target//2"
   ]
  },
  {
   "cell_type": "markdown",
   "id": "c4c8f5a5",
   "metadata": {},
   "source": [
    "# GCD and LCM:\n",
    "\n",
    "![gcd lcm](gcd_lcm.png)\n",
    "\n",
    "\n",
    "# GCD and LCM relationship: GCD(a,b) * LCM(a,b) = a*b"
   ]
  },
  {
   "cell_type": "code",
   "execution_count": 78,
   "id": "69b923a3",
   "metadata": {},
   "outputs": [
    {
     "name": "stdout",
     "output_type": "stream",
     "text": [
      "gcd is: 6\n",
      "lcm is: 168.0\n"
     ]
    }
   ],
   "source": [
    "# get GCD and LCM\n",
    "def gcd(a,b):\n",
    "    \n",
    "    while b:\n",
    "        a,b = b, a%b\n",
    "        \n",
    "    return a\n",
    "\n",
    "def lcm(a,b):\n",
    "    \n",
    "    lcm = a*b/gcd(a,b)\n",
    "    \n",
    "    return lcm\n",
    "\n",
    "a = 24\n",
    "b = 42\n",
    "print('gcd is: %s'%(gcd(a,b)))\n",
    "print('lcm is: %s'%(lcm(a,b)))"
   ]
  },
  {
   "cell_type": "code",
   "execution_count": null,
   "id": "23d6ff9b",
   "metadata": {},
   "outputs": [],
   "source": []
  },
  {
   "cell_type": "markdown",
   "id": "571b2b78",
   "metadata": {},
   "source": [
    "# Terminologies"
   ]
  },
  {
   "cell_type": "markdown",
   "id": "4c3452ea",
   "metadata": {},
   "source": [
    "# conjectures: \n",
    "\n",
    "* conjectures are statements that are proposed to be True by a group of people. conjecture is not the Truth itself, it can be proved wrong at any time should any evidence rise against it.\n",
    "\n",
    "# Theorem:\n",
    "\n",
    "* Theorem are proven conjectures. Logically Proven to be the Truth of the Universe.\n",
    "\n",
    "# Axioms:\n",
    "\n",
    "* Axioms are obvious, self-evidential Truths without proofs, so they are assumed to be True without further verifications. for example x=y, y=x is an axiom, 6-6 = 0 is an axiom. Axioms are intuivitive logics. \n",
    "\n",
    "# Lemmas:\n",
    "\n",
    "* Lemmas are small pieces of a big theorem. In order to prove a theorem scientists/logicians break the theorem into many parts to reduce complexity of the task and make it more managable, these parts are known as lemmas.\n",
    "\n",
    "* Consider building a house. A theorem would represent the overall blueprint of the house, outlining the structure, layout, and features. The lemmas, on the other hand, would be the individual building blocks, such as the foundation, walls, roof, and windows. Each lemma provides a specific step or component that contributes to the overall structure of the house, just as each lemma helps establish a crucial element in the proof of the theorem\n",
    "\n",
    "# corollary:\n",
    "\n",
    "* corollary is a theorem that can be established directly from another theorem which has been proven. \n",
    "\n",
    "\n",
    "# No Truth is absolute Truth: \n",
    "* Truth itself is a \"generally\" sensed,felt,observed and verified phenomenon . if everybody agrees on it, it becomes the Truth. if the perception or the measuring devices contradict, then Truth itself changes from agents to agents, systems to systems. "
   ]
  },
  {
   "cell_type": "code",
   "execution_count": null,
   "id": "382d0c1c",
   "metadata": {},
   "outputs": [],
   "source": []
  }
 ],
 "metadata": {
  "kernelspec": {
   "display_name": "Python 3 (ipykernel)",
   "language": "python",
   "name": "python3"
  },
  "language_info": {
   "codemirror_mode": {
    "name": "ipython",
    "version": 3
   },
   "file_extension": ".py",
   "mimetype": "text/x-python",
   "name": "python",
   "nbconvert_exporter": "python",
   "pygments_lexer": "ipython3",
   "version": "3.9.12"
  }
 },
 "nbformat": 4,
 "nbformat_minor": 5
}
