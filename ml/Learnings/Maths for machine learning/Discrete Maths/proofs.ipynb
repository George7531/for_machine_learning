{
 "cells": [
  {
   "cell_type": "markdown",
   "id": "eff2a9c9",
   "metadata": {},
   "source": [
    "# day 244"
   ]
  },
  {
   "cell_type": "markdown",
   "id": "06559c1e",
   "metadata": {},
   "source": [
    "# Proofs are proven for Eternity:\n",
    "\n",
    "* source of the information attached below is **Google BARD** and udemy instructor **Miran Fattah**.\n",
    "\n",
    "* In mathematics once something is proven then, it is proven for eternity.\n",
    "\n",
    "* The statement \"In mathematics, once something is proven, then it is proven for eternity\" is generally accurate. Mathematical proofs are based on logic and reasoning, and once a proof has been established, it cannot be overturned without identifying a flaw in the reasoning. This is because mathematics deals with abstract concepts and relationships that are not subject to change in the same way that physical phenomena can be altered by new discoveries or advancements in technology.\n",
    "\n",
    "* However, there are some important caveats to this statement. First, mathematical proofs are only as strong as the axioms and assumptions upon which they are built. If these axioms or assumptions are later found to be incorrect, then the proof may no longer be valid. For example, the Euclidean parallel postulate, which is the foundation of Euclidean geometry, was once considered to be an absolute truth. However, non-Euclidean geometries, such as hyperbolic and elliptic geometries, have been developed that do not satisfy the parallel postulate, demonstrating that it is not a necessary truth of mathematics.\n",
    "\n",
    "* Second, mathematical proofs are always subject to human error. There is always the possibility that a mistake has been made in the reasoning, or that a flaw in the proof has been overlooked. As a result, mathematical proofs are constantly being scrutinized and re-examined, and new proofs may be developed that are more concise, elegant, or insightful than the original.\n",
    "\n",
    "* Despite these caveats, the statement that \"In mathematics, once something is proven, then it is proven for eternity\" remains largely true. Mathematical proofs are the bedrock of our understanding of the universe, and they provide a foundation for science, engineering, and technology. While mathematical proofs are not infallible, they are incredibly powerful tools for understanding the world around us."
   ]
  },
  {
   "cell_type": "code",
   "execution_count": null,
   "id": "48954439",
   "metadata": {},
   "outputs": [],
   "source": []
  },
  {
   "cell_type": "markdown",
   "id": "cf00f49d",
   "metadata": {},
   "source": [
    "# conjecture\n",
    "* statments that are proposed to be True.\n",
    "\n",
    "# Theorem:\n",
    "* conjectures that are proven True.\n",
    "\n",
    "# Axioms(postulates):\n",
    "* Assumed Truths or Truths that are really obvious that require no more proofs.\n",
    "\n",
    "# Lemma:\n",
    "* Lemmas are smaller parts of the Theorem. for example if you have a Theorem and you want to prove it to be True then first you have to break it down into little theorems that are easily provable. Those little Theorems are called Lemmas.\n",
    "\n",
    "# Corollary:\n",
    "* Truth of a situation derived from the fact that something else is True so, it also must be True. for example if this theorem is True then that also must be True."
   ]
  },
  {
   "cell_type": "code",
   "execution_count": null,
   "id": "688f3a1c",
   "metadata": {},
   "outputs": [],
   "source": []
  },
  {
   "cell_type": "markdown",
   "id": "102df110",
   "metadata": {},
   "source": [
    "# Direct Proofs:\n",
    "\n",
    "# steps to prove your conjecture via Direct method: \n",
    "1. break your conjecture into individual lemmas to prove it.\n",
    "2. use corollaries to derive Truths from other established Truths.\n",
    "3. use Axioms_ the obvious Truths to get closer to the absolute Truth.\n",
    "4. voila! you have arrived at the success or failure of your Theorem.\n"
   ]
  },
  {
   "cell_type": "code",
   "execution_count": null,
   "id": "ac9ac6fb",
   "metadata": {},
   "outputs": [],
   "source": []
  },
  {
   "cell_type": "markdown",
   "id": "8ef4c2c8",
   "metadata": {},
   "source": [
    "# day 248"
   ]
  },
  {
   "cell_type": "markdown",
   "id": "993c8e1c",
   "metadata": {},
   "source": [
    "# proof by contrapostive: If not q then not p:\n",
    "\n",
    "### proving n^2 is odd if n is odd by proving n^2 is even if n is even:\n",
    "![dfsdsd](contra.png)\n",
    "\n",
    "\n",
    "### OR operator becomes AND contrapositively:\n",
    "![sdfsdf](or.png)\n",
    "\n",
    "\n",
    "### if proofs of contra positive(if not q then not p is True) then the original statment (if p then q) is True:\n",
    "![sdfsf](contra2.png)"
   ]
  },
  {
   "cell_type": "markdown",
   "id": "2cdf810b",
   "metadata": {},
   "source": [
    "# exploration,analysis and freethrows"
   ]
  },
  {
   "cell_type": "code",
   "execution_count": 24,
   "id": "d7b20223",
   "metadata": {},
   "outputs": [
    {
     "data": {
      "text/plain": [
       "1023"
      ]
     },
     "execution_count": 24,
     "metadata": {},
     "output_type": "execute_result"
    }
   ],
   "source": [
    "(4**5) - 1"
   ]
  },
  {
   "cell_type": "code",
   "execution_count": 10,
   "id": "8aadc0d6",
   "metadata": {},
   "outputs": [],
   "source": [
    "def prime_checker(n):\n",
    "    for i in range(2,n):\n",
    "        if n%i == 0:\n",
    "            return False\n",
    "\n",
    "    return True\n",
    "        "
   ]
  },
  {
   "cell_type": "code",
   "execution_count": 30,
   "id": "849590a3",
   "metadata": {},
   "outputs": [
    {
     "data": {
      "text/plain": [
       "False"
      ]
     },
     "execution_count": 30,
     "metadata": {},
     "output_type": "execute_result"
    }
   ],
   "source": [
    "prime_checker((4**9)-1)"
   ]
  },
  {
   "cell_type": "code",
   "execution_count": 31,
   "id": "cf0d38e8",
   "metadata": {},
   "outputs": [
    {
     "data": {
      "text/plain": [
       "True"
      ]
     },
     "execution_count": 31,
     "metadata": {},
     "output_type": "execute_result"
    }
   ],
   "source": [
    "prime_checker(2*3*5*7+1)"
   ]
  },
  {
   "cell_type": "code",
   "execution_count": 32,
   "id": "4c4a0b7c",
   "metadata": {},
   "outputs": [
    {
     "data": {
      "text/plain": [
       "True"
      ]
     },
     "execution_count": 32,
     "metadata": {},
     "output_type": "execute_result"
    }
   ],
   "source": [
    "prime_checker(2*3*5+1)"
   ]
  },
  {
   "cell_type": "code",
   "execution_count": null,
   "id": "d38f3734",
   "metadata": {},
   "outputs": [],
   "source": []
  },
  {
   "cell_type": "markdown",
   "id": "63826ccd",
   "metadata": {},
   "source": [
    "# proof by contradiction:\n",
    "\n",
    "### goal:\n",
    "* make assumption until they become logically non-sensical, or UnTrue. \n",
    "\n",
    "![fsfs](contra3.png)\n",
    "\n",
    "### proof for infinitely many primes:\n",
    "![dfsf](prime.png)\n",
    "![fsdfsdf](proof.png)"
   ]
  },
  {
   "cell_type": "code",
   "execution_count": null,
   "id": "5893fd31",
   "metadata": {},
   "outputs": [],
   "source": []
  },
  {
   "cell_type": "markdown",
   "id": "45f7f971",
   "metadata": {},
   "source": [
    "# proofs by Exhaustion:(works only if the possibilities are finite)\n",
    "\n",
    "\n",
    "### goal;\n",
    "* if you have a big theorem, then you break that into many lemmas and if you have proven all the lemmas then you have the proven the theorem that is what is known as proof by exhaustion(you exhaust all the possibilities of failure).\n",
    "\n",
    "### procedure:\n",
    "1. List all the possibilities.\n",
    "2. think of edge cases.\n",
    "3. prove each lemma.\n",
    "\n",
    "![dsfsf](sick.png)\n",
    "\n",
    "\n"
   ]
  },
  {
   "cell_type": "code",
   "execution_count": null,
   "id": "cbbee4c6",
   "metadata": {},
   "outputs": [],
   "source": []
  },
  {
   "cell_type": "markdown",
   "id": "e04107d5",
   "metadata": {},
   "source": [
    "# day 257,day262"
   ]
  },
  {
   "cell_type": "markdown",
   "id": "30145d32",
   "metadata": {},
   "source": [
    "# proof by induction:\n",
    "\n",
    "![sfsf](proof2.WEBP)\n",
    "\n",
    "## use case:\n",
    "* lets say we have infinetely many numbers, and we don't have enough TIME to prove our conjecture for all the number that there is, so we prove the statement for few numbers, but how can we ensure that the theorem applies for all the numbers? That's where the proof by induction comes in.\n",
    "\n",
    "\n",
    "## proof for DOMINO effect:\n",
    "* step1(basis step): show that p(a) is TRUE.\n",
    "* step2(inductive step): show that for all integers for K >= a, if p(K) is TRUE, then p(K + 1) is also TRUE.\n",
    "\n",
    "## example:\n",
    "![fsfsf](proof1.png)\n",
    "\n",
    "\n",
    "## example2:\n",
    "\n",
    "## step 1: basis step p(a) on both left and right side:\n",
    "![fsfsf](proof3.png)\n",
    "\n",
    "## step2: inductive step proof for p(k), p(k+1):\n",
    "![fsd](proof4.png)\n",
    "\n",
    "\n",
    "## example3:\n",
    "![dsfsdf](proof6.png)"
   ]
  },
  {
   "cell_type": "code",
   "execution_count": 1,
   "id": "650e094a",
   "metadata": {},
   "outputs": [
    {
     "data": {
      "text/plain": [
       "4.5370982256125126e+38"
      ]
     },
     "execution_count": 1,
     "metadata": {},
     "output_type": "execute_result"
    }
   ],
   "source": [
    "4*(4**(64) - 16)/3"
   ]
  },
  {
   "cell_type": "code",
   "execution_count": 9,
   "id": "c59d4a23",
   "metadata": {},
   "outputs": [
    {
     "data": {
      "image/png": "[encoded data removed]",
      "text/latex": [
       "$\\displaystyle 11^{k + 1}$"
      ],
      "text/plain": [
       "  k + 1\n",
       "11     "
      ]
     },
     "execution_count": 9,
     "metadata": {},
     "output_type": "execute_result"
    }
   ],
   "source": [
    "import sympy as sym\n",
    "sym.init_printing()\n",
    "\n",
    "k = sym.symbols('k')\n",
    "\n",
    "sym.simplify(11**k * 11**1)"
   ]
  },
  {
   "cell_type": "code",
   "execution_count": 11,
   "id": "11b42fe2",
   "metadata": {},
   "outputs": [
    {
     "data": {
      "image/png": "[encoded data removed]",
      "text/latex": [
       "$\\displaystyle 0$"
      ],
      "text/plain": [
       "0"
      ]
     },
     "execution_count": 11,
     "metadata": {},
     "output_type": "execute_result"
    }
   ],
   "source": [
    "(11**100 - 6) %5"
   ]
  },
  {
   "cell_type": "code",
   "execution_count": null,
   "id": "733a4a5f",
   "metadata": {},
   "outputs": [],
   "source": []
  }
 ],
 "metadata": {
  "kernelspec": {
   "display_name": "Python 3 (ipykernel)",
   "language": "python",
   "name": "python3"
  },
  "language_info": {
   "codemirror_mode": {
    "name": "ipython",
    "version": 3
   },
   "file_extension": ".py",
   "mimetype": "text/x-python",
   "name": "python",
   "nbconvert_exporter": "python",
   "pygments_lexer": "ipython3",
   "version": "3.9.12"
  }
 },
 "nbformat": 4,
 "nbformat_minor": 5
}
