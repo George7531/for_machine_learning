version https://git-lfs.github.com/spec/v1
oid sha256:67bf463dd30fb2003fc24cce7c643eff7339090d7e7c4b31ec1af9ee9fe6f79a
size 2940197
