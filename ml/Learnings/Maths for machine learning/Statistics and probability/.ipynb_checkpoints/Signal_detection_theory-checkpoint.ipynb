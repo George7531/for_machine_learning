version https://git-lfs.github.com/spec/v1
oid sha256:c42e9981c98c5788ddb868903b240ec2f23825e1d1995b216985bbeedee53762
size 555570
