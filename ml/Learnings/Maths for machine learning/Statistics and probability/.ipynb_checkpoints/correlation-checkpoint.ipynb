version https://git-lfs.github.com/spec/v1
oid sha256:6c15673330cdbba3a923c2eeb3ce55a86ecc6800a32af4255c5faefa7f71b8c3
size 1115593
