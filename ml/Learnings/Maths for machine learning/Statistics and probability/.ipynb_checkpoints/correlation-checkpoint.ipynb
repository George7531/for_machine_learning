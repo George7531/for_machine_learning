version https://git-lfs.github.com/spec/v1
oid sha256:77beb82e009640ddfc3f3b00f6ea0eb291833496cc1854aac759979893d92b57
size 1115804
