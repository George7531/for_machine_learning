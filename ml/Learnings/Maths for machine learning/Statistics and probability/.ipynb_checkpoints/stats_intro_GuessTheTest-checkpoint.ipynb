{
 "cells": [
  {
   "cell_type": "markdown",
   "metadata": {},
   "source": [
    "# COURSE: Master statistics and machine learning: Intuition, Math, code\n",
    "##### COURSE URL: udemy.com/master-stats-ml/?couponcode=202006\n",
    "## SECTION: Introduction\n",
    "### VIDEO: Statistics guessing game!\n",
    "#### TEACHER: Mike X Cohen, sincxpress.com"
   ]
  },
  {
   "cell_type": "markdown",
   "metadata": {},
   "source": [
    "# day 43"
   ]
  },
  {
   "cell_type": "code",
   "execution_count": 3,
   "metadata": {},
   "outputs": [],
   "source": [
    "# import libraries\n",
    "import matplotlib.pyplot as plt\n",
    "import numpy as np\n",
    "import scipy.stats as stats"
   ]
  },
  {
   "cell_type": "code",
   "execution_count": 18,
   "metadata": {},
   "outputs": [],
   "source": [
    "## this section is for parameters that you can specify\n",
    "\n",
    "# specify the averages of the two groups\n",
    "average_group1 = 40\n",
    "average_group2 = 45\n",
    "\n",
    "# the amount of individual variability (same value for both groups)\n",
    "standard_deviation = 5.6\n",
    "\n",
    "# sample sizes for each group\n",
    "samples_group1 = 40\n",
    "samples_group2 = 40"
   ]
  },
  {
   "cell_type": "code",
   "execution_count": 19,
   "metadata": {},
   "outputs": [
    {
     "data": {
      "text/plain": [
       "array([42.18389307, 42.52949872, 40.90766049, 43.87467845, 42.6148501 ,\n",
       "       42.79338661, 41.06412281, 45.49048615, 44.60436858, 45.26706008])"
      ]
     },
     "execution_count": 19,
     "metadata": {},
     "output_type": "execute_result"
    }
   ],
   "source": [
    "np.random.rand(10)*5.6 + 40"
   ]
  },
  {
   "cell_type": "markdown",
   "metadata": {},
   "source": [
    "You don't need to change the code below here!\n",
    "\n",
    "Although you are welcome to if you like ;)\n"
   ]
  },
  {
   "cell_type": "code",
   "execution_count": 20,
   "metadata": {},
   "outputs": [],
   "source": [
    "# this section generates the data (don't need to modify)\n",
    "\n",
    "# generate the data\n",
    "data_group1 = np.random.randn(samples_group1)*standard_deviation + average_group1\n",
    "data_group2 = np.random.randn(samples_group2)*standard_deviation + average_group2\n",
    "\n",
    "# convenient collection of sample sizes\n",
    "ns = [ samples_group1, samples_group2 ]\n",
    "\n",
    "datalims = [np.min(np.hstack((data_group1,data_group2))), np.max(np.hstack((data_group1,data_group2)))]"
   ]
  },
  {
   "cell_type": "code",
   "execution_count": 21,
   "metadata": {},
   "outputs": [
    {
     "data": {
      "text/plain": [
       "array([27.24725705, 28.65030907, 38.18155525, 48.7553303 , 47.49782263,\n",
       "       38.90120784, 37.83321242, 40.04754386, 38.35306805, 37.47295346,\n",
       "       36.16504132, 33.46071494, 48.68499211, 34.05675831, 43.80182422,\n",
       "       48.12296882, 37.25969694, 48.49186655, 48.69389025, 41.27361379,\n",
       "       47.45000458, 40.51690865, 55.35807894, 40.35981826, 46.20385255,\n",
       "       30.21867425, 46.00407393, 36.9210213 , 42.53558798, 40.42595602,\n",
       "       40.19827289, 49.07336613, 38.83976555, 40.84713672, 34.49442004,\n",
       "       36.71563322, 35.28136502, 47.16632227, 47.16941539, 35.81274713])"
      ]
     },
     "execution_count": 21,
     "metadata": {},
     "output_type": "execute_result"
    }
   ],
   "source": [
    "data_group1"
   ]
  },
  {
   "cell_type": "code",
   "execution_count": 22,
   "metadata": {},
   "outputs": [
    {
     "data": {
      "text/plain": [
       "array([46.9494255 , 42.76763883, 38.00327914, 47.12430248, 45.10862547,\n",
       "       54.25934715, 42.56169232, 49.67528947, 50.43762337, 50.05771976,\n",
       "       48.40976803, 42.97740734, 33.75542915, 43.04520606, 45.81978902,\n",
       "       50.00407456, 45.25244539, 42.5322805 , 49.4878576 , 42.59341162,\n",
       "       45.54651133, 45.35211478, 36.67458326, 47.64986047, 37.32500945,\n",
       "       43.40311136, 35.24871196, 41.99690131, 46.59776211, 40.39630038,\n",
       "       36.9152087 , 55.33613751, 51.12681657, 48.94495538, 50.57940528,\n",
       "       42.21257348, 53.52202023, 48.8735846 , 41.21054684, 48.90391262])"
      ]
     },
     "execution_count": 22,
     "metadata": {},
     "output_type": "execute_result"
    }
   ],
   "source": [
    "data_group2"
   ]
  },
  {
   "cell_type": "code",
   "execution_count": 23,
   "metadata": {},
   "outputs": [
    {
     "data": {
      "text/plain": [
       "array([27.24725705, 28.65030907, 38.18155525, 48.7553303 , 47.49782263,\n",
       "       38.90120784, 37.83321242, 40.04754386, 38.35306805, 37.47295346,\n",
       "       36.16504132, 33.46071494, 48.68499211, 34.05675831, 43.80182422,\n",
       "       48.12296882, 37.25969694, 48.49186655, 48.69389025, 41.27361379,\n",
       "       47.45000458, 40.51690865, 55.35807894, 40.35981826, 46.20385255,\n",
       "       30.21867425, 46.00407393, 36.9210213 , 42.53558798, 40.42595602,\n",
       "       40.19827289, 49.07336613, 38.83976555, 40.84713672, 34.49442004,\n",
       "       36.71563322, 35.28136502, 47.16632227, 47.16941539, 35.81274713,\n",
       "       46.9494255 , 42.76763883, 38.00327914, 47.12430248, 45.10862547,\n",
       "       54.25934715, 42.56169232, 49.67528947, 50.43762337, 50.05771976,\n",
       "       48.40976803, 42.97740734, 33.75542915, 43.04520606, 45.81978902,\n",
       "       50.00407456, 45.25244539, 42.5322805 , 49.4878576 , 42.59341162,\n",
       "       45.54651133, 45.35211478, 36.67458326, 47.64986047, 37.32500945,\n",
       "       43.40311136, 35.24871196, 41.99690131, 46.59776211, 40.39630038,\n",
       "       36.9152087 , 55.33613751, 51.12681657, 48.94495538, 50.57940528,\n",
       "       42.21257348, 53.52202023, 48.8735846 , 41.21054684, 48.90391262])"
      ]
     },
     "execution_count": 23,
     "metadata": {},
     "output_type": "execute_result"
    }
   ],
   "source": [
    "np.hstack((data_group1,data_group2))"
   ]
  },
  {
   "cell_type": "code",
   "execution_count": 25,
   "metadata": {},
   "outputs": [
    {
     "data": {
      "image/png": "[encoded data removed]",
      "text/plain": [
       "<Figure size 432x288 with 2 Axes>"
      ]
     },
     "metadata": {
      "needs_background": "light"
     },
     "output_type": "display_data"
    }
   ],
   "source": [
    "## this section is for data visualization (don't need to modify)\n",
    "\n",
    "fig,ax = plt.subplots(1,2,figsize=(6,4))\n",
    "\n",
    "ax[0].violinplot(data_group1)\n",
    "ax[0].plot(1+np.random.randn(samples_group1)/10,data_group1,'ko')\n",
    "ax[0].set_ylim(datalims)\n",
    "ax[0].axis('off')\n",
    "\n",
    "ax[1].violinplot(data_group2)\n",
    "ax[1].plot(1+np.random.randn(samples_group2)/10,data_group2,'ko')\n",
    "ax[1].set_ylim(datalims)\n",
    "ax[1].axis('off')\n",
    "\n",
    "\n",
    "# 2-group t-test\n",
    "t,p = stats.ttest_ind(data_group1,data_group2)\n",
    "\n",
    "# print the information to the title\n",
    "sigtxt = ('',' NOT')\n",
    "plt.title('The two groups are%s significantly different! t(%g)=%g, p=%g'%(sigtxt[int(p>.05)],sum(ns)-2,np.round(t,2),np.round(p,3)))\n",
    "\n",
    "plt.show()"
   ]
  },
  {
   "cell_type": "code",
   "execution_count": null,
   "metadata": {},
   "outputs": [],
   "source": []
  }
 ],
 "metadata": {
  "kernelspec": {
   "display_name": "Python 3 (ipykernel)",
   "language": "python",
   "name": "python3"
  },
  "language_info": {
   "codemirror_mode": {
    "name": "ipython",
    "version": 3
   },
   "file_extension": ".py",
   "mimetype": "text/x-python",
   "name": "python",
   "nbconvert_exporter": "python",
   "pygments_lexer": "ipython3",
   "version": "3.9.12"
  }
 },
 "nbformat": 4,
 "nbformat_minor": 2
}
