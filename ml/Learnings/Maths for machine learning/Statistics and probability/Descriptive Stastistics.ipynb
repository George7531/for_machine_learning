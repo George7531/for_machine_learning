version https://git-lfs.github.com/spec/v1
oid sha256:b27e4e3e9cac9d30121848b699ef2a1e045122032fc3887b195d8fe2c580a45e
size 878882
