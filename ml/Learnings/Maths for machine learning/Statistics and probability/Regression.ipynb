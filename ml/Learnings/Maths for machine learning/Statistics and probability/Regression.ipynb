{
 "cells": [
  {
   "cell_type": "markdown",
   "id": "11857d3f",
   "metadata": {},
   "source": [
    "# day 276"
   ]
  },
  {
   "cell_type": "markdown",
   "id": "51007987",
   "metadata": {},
   "source": [
    "# Anova vs Regression:\n",
    "\n",
    "![fsfsf](41_r_0.png)\n",
    "![fsfsf](41_r_1.png)\n",
    "![fsfsf](41_r_2.png)\n",
    "![fsfsf](41_r_3.png)\n",
    "![fsfsf](41_r_4.png)\n",
    "![fsfsf](41_r_5.png)\n",
    "![fsfsf](41_r_6.png)\n",
    "![fsfsf](41_r_7.png)\n",
    "\n",
    "## 5 model building principles:\n",
    "* step1: build the equation(s) underlying the system.\n",
    "* step2: fit the data into the model's equations.\n",
    "* step3: form the matrix-vector equation Ax = B.\n",
    "* step4: compute the parameters.\n",
    "* step5: Do statistical Evaluation.\n",
    "\n",
    "\n",
    "\n",
    "\n",
    "## references to least square section in linear algebra:\n",
    "* please refer least square section in linear algebra for more deeper understanding.\n",
    "\n",
    "## The intercept in the equation:\n",
    "* intercept is a fixed component of the model. in the equation y=mx+c. c is the intercept. the depedent variable(y) must be equal to c when the x is 0.\n",
    "* that is to say what the outcome of our model will be when all the parameters/scalers/coefficients of x we used in the model do not contribute much.\n",
    "* Outcome when parameters have minimal contribution: When the coefficient of x (m) is small, indicating a weak relationship between x and y, the impact of x on y is reduced. In such cases, the intercept (c) plays a more significant role in determining the predicted value of y.\n",
    "\n",
    "## what are General Linear Models(GLM) and non-linearities?\n",
    "* Annova, Regression, and correlation are all Linear models.\n",
    "* Linear means the models involve scaler multiplication and addition(linear computation).\n",
    "* log, entropy, polynomial with powers >=2 , trignometric etc..... are all non-linear models\n",
    "\n",
    "\n",
    "## nonlinearity is not acceptable in the regression model:\n",
    "![fsdfs](41_r_8.png)"
   ]
  },
  {
   "cell_type": "code",
   "execution_count": null,
   "id": "1cbe446f",
   "metadata": {},
   "outputs": [],
   "source": [
    "\n"
   ]
  },
  {
   "cell_type": "markdown",
   "id": "5c4a5683",
   "metadata": {},
   "source": [
    "# left inverse to compute beta:\n",
    "\n",
    "![fsdfs](41_r_9.png)\n",
    "![fsdfs](41_r10.png)\n",
    "![fsdfs](41_r11.png)\n",
    "![fsdfs](41_r12.png)\n",
    "![fsdfs](41_r13.png)\n",
    "\n",
    "## multicollinearity:\n",
    "* multicollinearity is having linearly dependent columns in the matrix.\n",
    "* if we have multicollinearity in the matrix then we won't get sufficient rank for the matrix to calculate its inverse. if we can't calculate the inverse then we won't get the solution for beta.\n",
    "* so, it is essential to ensure that the matrix doesn't have any multicollinearity."
   ]
  },
  {
   "cell_type": "code",
   "execution_count": 7,
   "id": "2f7233d9",
   "metadata": {},
   "outputs": [
    {
     "name": "stdout",
     "output_type": "stream",
     "text": [
      "Rank of the matrix is:  3\n"
     ]
    },
    {
     "data": {
      "text/plain": [
       "array([[ 1.00000000e+00, -4.44089210e-16, -7.77156117e-16],\n",
       "       [-9.85322934e-16,  1.00000000e+00, -1.72431514e-15],\n",
       "       [-4.85722573e-16, -2.63677968e-16,  1.00000000e+00]])"
      ]
     },
     "execution_count": 7,
     "metadata": {},
     "output_type": "execute_result"
    }
   ],
   "source": [
    "# computing coefficients/beta:\n",
    "import numpy as np\n",
    "\n",
    "# full row rank matrix\n",
    "matrix = np.random.randint(1,9,(3,7))\n",
    "\n",
    "print('Rank of the matrix is: ', np.linalg.matrix_rank(matrix))\n",
    "\n",
    "# right inverse\n",
    "right_inverse = np.linalg.inv(matrix@matrix.T)@(matrix@matrix.T)\n",
    "\n",
    "right_inverse"
   ]
  },
  {
   "cell_type": "code",
   "execution_count": null,
   "id": "6c133044",
   "metadata": {},
   "outputs": [],
   "source": []
  },
  {
   "cell_type": "markdown",
   "id": "a5b0d404",
   "metadata": {},
   "source": [
    "# day 279"
   ]
  },
  {
   "cell_type": "markdown",
   "id": "149fb4c4",
   "metadata": {},
   "source": [
    "# Evaluating Regression Models R^2 and F:\n",
    "\n",
    "![fsdfsdf](8124_r1.png)\n",
    "![sfsfsfs](8124_r2.png)\n",
    "\n",
    "## notes:\n",
    "* we don't know the how to interpret the r^2 i.e we cannot say it is a good model just because r^2 is 0.92, so we have this thing called F-score which gives us a sense of how good the R^2 actually is.\n",
    "\n",
    "# how to find out if the achieved R^2 is good or bad: (it is via F-score)\n",
    "![sfsfsfs](8124_r3.png)\n",
    "\n",
    "## notes:\n",
    "* The null hypothesis states that all the coefficients will be 0 (right from 1st coefficient till the kth coefficient) which means none of the parameters we chose to define the system actually works, no parameter is influencing the output of the system a least bit. this is what the null hypothesis assumes.\n",
    "* The alternative hypothesis on the other hand assumes that atleast one of the coefficients(beta) will be non-zero influencing the output of the system we are trying define through our model.\n",
    "\n",
    "# to calculate the F-score.\n",
    "![sfsfsfs](8124_r4.png)\n",
    "\n",
    "## notes:\n",
    "* k is the number of betas or in other words number of parameters we used for the model to define the system. k includes the intercept and the coefficients. Do not leave the intercept from consideration.\n",
    "* N is the total number of data points.\n",
    "* F score calculates if there is any significant difference if any of the beta(parameter) makes than just getting the result by chance.\n",
    "\n",
    "# to calculate the influence of individual beta(parameter):\n",
    "![sfsfsfs](8124_r5.png)\n",
    "\n",
    "## notes:\n",
    "* t_{n-k} is the t score with n-k degrees of freedom we find for each individual beta divided by sqrt(sse/sst)."
   ]
  },
  {
   "cell_type": "code",
   "execution_count": null,
   "id": "223a7e3a",
   "metadata": {},
   "outputs": [],
   "source": []
  },
  {
   "cell_type": "markdown",
   "id": "60f83459",
   "metadata": {},
   "source": [
    "# simple Regression:\n",
    "\n",
    "![sfsfsfs](8124_r6.png)\n",
    "## notes:\n",
    "* All simple regressions have exactly one depedent variable(y) and independent variables(excluding the intercept and errors variable)\n",
    "\n",
    "\n",
    "## application:\n",
    "![sfsfsfs](8124_r7.png)\n",
    "![sfsfsfs](8124_r8.png)\n",
    "![sfsfsfs](8124_r10.png)\n",
    "\n",
    "## notes:\n",
    "* for calculating the F score we took into both intercept and money spent parameters as number of features(k).\n",
    "* p score of 0.06 indicates that the result is not statistically significant meaning number of hours a person slept does not statistically significantly predict how much money he would spend. it is because the instructor says that the sample size was too small to conclude anything, had the size of the sample been larger we could have made pretty decent stastically significant conclusion."
   ]
  },
  {
   "cell_type": "markdown",
   "id": "a90f10e8",
   "metadata": {},
   "source": [
    "# day 282"
   ]
  },
  {
   "cell_type": "code",
   "execution_count": 26,
   "id": "87e1891f",
   "metadata": {},
   "outputs": [],
   "source": [
    "import numpy as np\n",
    "import sympy as sym\n",
    "from IPython.display import display,Math\n",
    "sym.init_printing()\n",
    "import matplotlib.pyplot as plt\n",
    "import scipy.stats as stats"
   ]
  },
  {
   "cell_type": "code",
   "execution_count": 6,
   "id": "c192ff31",
   "metadata": {},
   "outputs": [
    {
     "data": {
      "image/png": "[encoded data removed]",
      "text/plain": [
       "<Figure size 432x288 with 1 Axes>"
      ]
     },
     "metadata": {
      "needs_background": "light"
     },
     "output_type": "display_data"
    }
   ],
   "source": [
    "# Effects of sleep on money spent on food\n",
    "SleepHours = [5,5.5,6,6,7,7,7.5,8,8.5,9]\n",
    "Dollars = [47,53,52,44,39,49,50,38,43,40]\n",
    "\n",
    "# plotting\n",
    "plt.plot(SleepHours,Dollars,'ko',markerfacecolor='#52d9d0')\n",
    "plt.xlabel('SleepHours')\n",
    "plt.ylabel('Dollars')\n",
    "plt.show()"
   ]
  },
  {
   "cell_type": "code",
   "execution_count": 18,
   "id": "39a645f8",
   "metadata": {},
   "outputs": [],
   "source": [
    "# manual Regression via least squares fitting\n",
    "\n",
    "# building the design matrix (the ones for intercept)\n",
    "x = np.vstack((np.ones(len(SleepHours)),SleepHours)).T\n",
    "\n",
    "# compute the beta parameters(regression and coefficients)\n",
    "beta = np.linalg.lstsq(x,Dollars,rcond=None)[0]\n",
    "\n",
    "# prediction\n",
    "prediction = x@beta"
   ]
  },
  {
   "cell_type": "markdown",
   "id": "78d63ab1",
   "metadata": {},
   "source": [
    "# exploration, analysis and freethrows"
   ]
  },
  {
   "cell_type": "code",
   "execution_count": 11,
   "id": "df6fdd95",
   "metadata": {},
   "outputs": [
    {
     "data": {
      "text/plain": [
       "array([[1. , 5. ],\n",
       "       [1. , 5.5],\n",
       "       [1. , 6. ],\n",
       "       [1. , 6. ],\n",
       "       [1. , 7. ],\n",
       "       [1. , 7. ],\n",
       "       [1. , 7.5],\n",
       "       [1. , 8. ],\n",
       "       [1. , 8.5],\n",
       "       [1. , 9. ]])"
      ]
     },
     "execution_count": 11,
     "metadata": {},
     "output_type": "execute_result"
    }
   ],
   "source": [
    "x"
   ]
  },
  {
   "cell_type": "code",
   "execution_count": 15,
   "id": "66044417",
   "metadata": {},
   "outputs": [
    {
     "data": {
      "text/plain": [
       "array([62.84737679, -2.49602544])"
      ]
     },
     "execution_count": 15,
     "metadata": {},
     "output_type": "execute_result"
    }
   ],
   "source": [
    "beta"
   ]
  },
  {
   "cell_type": "code",
   "execution_count": 16,
   "id": "3cac62af",
   "metadata": {},
   "outputs": [
    {
     "data": {
      "text/plain": [
       "array([62.84737679, -2.49602544])"
      ]
     },
     "execution_count": 16,
     "metadata": {},
     "output_type": "execute_result"
    }
   ],
   "source": [
    "# normal method to find beta\n",
    "np.linalg.solve(x.T@x,x.T@Dollars)"
   ]
  },
  {
   "cell_type": "code",
   "execution_count": 17,
   "id": "57388054",
   "metadata": {},
   "outputs": [
    {
     "data": {
      "text/plain": [
       "array([62.84737679, -2.49602544])"
      ]
     },
     "execution_count": 17,
     "metadata": {},
     "output_type": "execute_result"
    }
   ],
   "source": [
    "# left inverse method to find beta\n",
    "np.linalg.inv(x.T@x) @ (x.T@Dollars)"
   ]
  },
  {
   "cell_type": "code",
   "execution_count": 27,
   "id": "e696ccae",
   "metadata": {},
   "outputs": [
    {
     "data": {
      "text/plain": [
       "LinregressResult(slope=-2.4960254372019075, intercept=62.84737678855326, rvalue=-0.60181180055799, pvalue=0.06565432862149675, stderr=1.171098032136086, intercept_stderr=8.27055598001377)"
      ]
     },
     "execution_count": 27,
     "metadata": {},
     "output_type": "execute_result"
    }
   ],
   "source": [
    "# lets use scipy.stats to extract the same beta(intercept and slope is beta) \n",
    "stats.linregress(SleepHours,Dollars)\n",
    "\n",
    "# conclusion: p value is > 0.05 so the prediction is not statistically singificant."
   ]
  },
  {
   "cell_type": "code",
   "execution_count": 19,
   "id": "56cb7a38",
   "metadata": {},
   "outputs": [
    {
     "data": {
      "text/plain": [
       "array([50.3672496 , 49.11923688, 47.87122417, 47.87122417, 45.37519873,\n",
       "       45.37519873, 44.12718601, 42.87917329, 41.63116057, 40.38314785])"
      ]
     },
     "execution_count": 19,
     "metadata": {},
     "output_type": "execute_result"
    }
   ],
   "source": [
    "prediction"
   ]
  },
  {
   "cell_type": "code",
   "execution_count": null,
   "id": "210e010e",
   "metadata": {},
   "outputs": [],
   "source": []
  },
  {
   "cell_type": "code",
   "execution_count": 28,
   "id": "da05afe1",
   "metadata": {},
   "outputs": [
    {
     "data": {
      "image/png": "[encoded data removed]",
      "text/plain": [
       "<Figure size 432x288 with 1 Axes>"
      ]
     },
     "metadata": {
      "needs_background": "light"
     },
     "output_type": "display_data"
    }
   ],
   "source": [
    "# plotting the actual and prediction and errors.\n",
    "\n",
    "# plot actual\n",
    "plt.plot(SleepHours,Dollars,'go')\n",
    "\n",
    "# plot the prediction\n",
    "plt.plot(SleepHours,prediction,'ys-')\n",
    "\n",
    "# plot the errors\n",
    "for i in range(len(SleepHours)):\n",
    "    plt.plot([SleepHours[i],SleepHours[i]],[Dollars[i],prediction[i]],'m--')\n",
    "    \n",
    "plt.legend(('Data','$ \\\\hat{y} $','Errors'))\n",
    "plt.show()"
   ]
  },
  {
   "cell_type": "code",
   "execution_count": null,
   "id": "7c98764d",
   "metadata": {},
   "outputs": [],
   "source": []
  },
  {
   "cell_type": "markdown",
   "id": "1bea8061",
   "metadata": {},
   "source": [
    "# unsupervised learning challenge:\n",
    "\n",
    "## goals:\n",
    "\n",
    "* Calculate R^2 \n",
    "* Compute F-score values.\n"
   ]
  },
  {
   "cell_type": "markdown",
   "id": "aae3a74c",
   "metadata": {},
   "source": [
    "# $$ R^2 = 1- \\frac{sse}{sst} =  1 - \\frac{\\sum{(y-\\hat{y})^2}}{\\sum{(y - \\bar{y})^2}} $$"
   ]
  },
  {
   "cell_type": "code",
   "execution_count": 39,
   "id": "9bce0cf4",
   "metadata": {},
   "outputs": [
    {
     "name": "stdout",
     "output_type": "stream",
     "text": [
      "0.3621774432908499\n"
     ]
    }
   ],
   "source": [
    "# sse\n",
    "sse = np.sum((Dollars - prediction)**2)\n",
    "\n",
    "# sst \n",
    "sst = np.sum((Dollars - np.mean(Dollars))**2)\n",
    "\n",
    "# r^2\n",
    "r_sq = 1 - sse/sst\n",
    "\n",
    "print(r_sq)"
   ]
  },
  {
   "cell_type": "markdown",
   "id": "7f098e8d",
   "metadata": {},
   "source": [
    "# exploration,analysis and freethrows"
   ]
  },
  {
   "cell_type": "code",
   "execution_count": 40,
   "id": "d1ce8ec1",
   "metadata": {},
   "outputs": [
    {
     "data": {
      "image/png": "[encoded data removed]",
      "text/latex": [
       "$\\displaystyle 172.531001589825$"
      ],
      "text/plain": [
       "172.5310015898251"
      ]
     },
     "execution_count": 40,
     "metadata": {},
     "output_type": "execute_result"
    }
   ],
   "source": [
    "sse"
   ]
  },
  {
   "cell_type": "code",
   "execution_count": 41,
   "id": "25c6c18e",
   "metadata": {},
   "outputs": [
    {
     "data": {
      "image/png": "[encoded data removed]",
      "text/latex": [
       "$\\displaystyle 270.5$"
      ],
      "text/plain": [
       "270.5"
      ]
     },
     "execution_count": 41,
     "metadata": {},
     "output_type": "execute_result"
    }
   ],
   "source": [
    "sst"
   ]
  },
  {
   "cell_type": "code",
   "execution_count": 42,
   "id": "cf0b0961",
   "metadata": {},
   "outputs": [
    {
     "data": {
      "image/png": "[encoded data removed]",
      "text/latex": [
       "$\\displaystyle 0.36217744329085$"
      ],
      "text/plain": [
       "0.3621774432908499"
      ]
     },
     "execution_count": 42,
     "metadata": {},
     "output_type": "execute_result"
    }
   ],
   "source": [
    "r_sq"
   ]
  },
  {
   "cell_type": "code",
   "execution_count": 44,
   "id": "f4aff82c",
   "metadata": {},
   "outputs": [
    {
     "data": {
      "image/png": "[encoded data removed]",
      "text/latex": [
       "$\\displaystyle 0.60181180055799$"
      ],
      "text/plain": [
       "0.60181180055799"
      ]
     },
     "execution_count": 44,
     "metadata": {},
     "output_type": "execute_result"
    }
   ],
   "source": [
    "r = np.sqrt(r_sq)\n",
    "r # correlation"
   ]
  },
  {
   "cell_type": "code",
   "execution_count": null,
   "id": "a4573ca9",
   "metadata": {},
   "outputs": [],
   "source": []
  },
  {
   "cell_type": "markdown",
   "id": "f3726b7e",
   "metadata": {},
   "source": [
    "# $$ F-score(k-1,n-k) = \\frac{\\text{ssm}/(k-1)}{\\text{sse}/(n-k)} $$\n",
    "\n",
    "where,\n",
    "# $$  ssm = \\sum{(\\hat{y}_i - \\bar{y})^2} , sse = \\sum{(y - \\hat{y})^2} $$"
   ]
  },
  {
   "cell_type": "code",
   "execution_count": 78,
   "id": "4a042b3c",
   "metadata": {},
   "outputs": [],
   "source": [
    "# calculating F-score\n",
    "\n",
    "# k - incerpt and sleep hours, n - total number of data points.\n",
    "k = 2 \n",
    "n = len(SleepHours)\n",
    "\n",
    "# ssm\n",
    "ssm = np.sum((prediction - np.mean(Dollars))**2)\n",
    "sse = np.sum((Dollars - prediction)**2)\n",
    "\n",
    "F_score = (ssm/(k-1)) / (sse/(n-k))"
   ]
  },
  {
   "cell_type": "markdown",
   "id": "2142f3fc",
   "metadata": {},
   "source": [
    "# exploration,analysis and freethrows"
   ]
  },
  {
   "cell_type": "code",
   "execution_count": 79,
   "id": "6329e37e",
   "metadata": {},
   "outputs": [
    {
     "data": {
      "image/png": "[encoded data removed]",
      "text/latex": [
       "$\\displaystyle 2$"
      ],
      "text/plain": [
       "2"
      ]
     },
     "execution_count": 79,
     "metadata": {},
     "output_type": "execute_result"
    }
   ],
   "source": [
    "k"
   ]
  },
  {
   "cell_type": "code",
   "execution_count": 80,
   "id": "2af7e1bb",
   "metadata": {},
   "outputs": [
    {
     "data": {
      "image/png": "[encoded data removed]",
      "text/latex": [
       "$\\displaystyle 10$"
      ],
      "text/plain": [
       "10"
      ]
     },
     "execution_count": 80,
     "metadata": {},
     "output_type": "execute_result"
    }
   ],
   "source": [
    "n"
   ]
  },
  {
   "cell_type": "code",
   "execution_count": 81,
   "id": "38ddc6c5",
   "metadata": {},
   "outputs": [
    {
     "data": {
      "image/png": "[encoded data removed]",
      "text/latex": [
       "$\\displaystyle 97.9689984101741$"
      ],
      "text/plain": [
       "97.9689984101741"
      ]
     },
     "execution_count": 81,
     "metadata": {},
     "output_type": "execute_result"
    }
   ],
   "source": [
    "ssm"
   ]
  },
  {
   "cell_type": "code",
   "execution_count": 82,
   "id": "a678ab44",
   "metadata": {},
   "outputs": [
    {
     "data": {
      "image/png": "[encoded data removed]",
      "text/latex": [
       "$\\displaystyle 172.531001589825$"
      ],
      "text/plain": [
       "172.5310015898251"
      ]
     },
     "execution_count": 82,
     "metadata": {},
     "output_type": "execute_result"
    }
   ],
   "source": [
    "sse"
   ]
  },
  {
   "cell_type": "code",
   "execution_count": 83,
   "id": "ee6aab43",
   "metadata": {},
   "outputs": [
    {
     "data": {
      "image/png": "[encoded data removed]",
      "text/latex": [
       "$\\displaystyle 4.54267337498384$"
      ],
      "text/plain": [
       "4.542673374983838"
      ]
     },
     "execution_count": 83,
     "metadata": {},
     "output_type": "execute_result"
    }
   ],
   "source": [
    "F_score"
   ]
  },
  {
   "cell_type": "code",
   "execution_count": null,
   "id": "23aa956c",
   "metadata": {},
   "outputs": [],
   "source": []
  },
  {
   "cell_type": "markdown",
   "id": "d99f7fa5",
   "metadata": {},
   "source": [
    "# day 282,day 285"
   ]
  },
  {
   "cell_type": "markdown",
   "id": "06b396ea",
   "metadata": {},
   "source": [
    "# Multiple Regression:\n",
    "\n",
    "![fsfsfs](11124_stat1.png)\n",
    "\n",
    "## notes:\n",
    "* to establish interaction between two parameters we multiply them (p1 AND p2 ). in our example we multiplied number of hours slept with number of hours studied.\n",
    "\n",
    "![fsdfsdf](150124_stat0.png)\n",
    "![sfsfsdf](150124_stat1.png)\n",
    "![sfsfsdf](150124_stat2.png)\n",
    "\n",
    "## precise interpretation of beta in multiple regression:\n",
    "![sfsdfsdf](150124_stat3.png)\n",
    "\n",
    "## notes:\n",
    "* to observe how the beta of a parameter in the model changes the model's output, we first keep all other parameters `constant` and change the beta of the parameter we are concerned by a small unit and observe the output of the model. \n",
    "* beta1 tells you how much sleep contributes to the dependent variable(exam score) and beta2 determines how much study hours influences the dependent variable and beta3 the interaction between sleep and study hours.\n",
    "* beta is a scaler that scales the parameters based on the given data and how much each of the concerned parameter seem to contribute to the dependent variable."
   ]
  },
  {
   "cell_type": "code",
   "execution_count": null,
   "id": "078c0853",
   "metadata": {},
   "outputs": [],
   "source": []
  },
  {
   "cell_type": "markdown",
   "id": "ab0f711f",
   "metadata": {},
   "source": [
    "# standardizing regression coefficients:\n",
    "\n",
    "## the need for standardization\n",
    "![sfsfsdf](150124_stat4.png)\n",
    "![sfsfsdf](150124stat5.png)\n",
    "\n",
    "## notes:\n",
    "* Time is measured in different units than say calories one got from eating food so we need to have these values vary between a certain range (normally we would make them vary between 0 and 1), this technique is called scaling between ranges or min max scaling or uniformalization. some people prefer to call it normalization even though there is normalization(guassian distribution) going on with it, it is normal. it doesn't matter what we call it, does it? what truly matters is the technique we use to get different values.\n",
    "\n",
    "## standardization and unstandardized versions of data:\n",
    "![sfsfsdf](150124_stat5.png)\n",
    "![sfsfsdf](150124_stat6.png)\n",
    "\n",
    "\n",
    "## notes:\n",
    "* Sometimes you standardize these scaled values to a standard unit seperated by a standard deviation. This technique is called standaridization or normalization. \n",
    "* The word 'stymie' means prevent or hurdle. The instructor wants to be flashy with his vocabulary I presume.\n",
    "* My personal take on whether we should standardize or not is we should definitely standardize or scale the values before we begin to run the regression algorithm before we even begin to model it. The data needs to be scaled or normalized because the performance of the model depends on whether we scaled or normalized or not. Unstandardized/unscaled data would not help much the computer to find patterns between parameters and their individual contribution to the overall outcome(independent variable) as much as standardized/scaled data.  \n",
    "\n",
    "\n",
    "## interpreting standardized beta coefficients:\n",
    "![sfsfsdf](150124_stat7.png)\n",
    "\n",
    "## Notes:\n",
    "* how to interpret standardized beta coefficient value on dependent variable(output value)?. one standard deviation change in concerned beta equates to the stadard deviations of changes in the dependent variable when keeping all other parameters and coefficients constant. "
   ]
  },
  {
   "cell_type": "code",
   "execution_count": null,
   "id": "9d26f44c",
   "metadata": {},
   "outputs": [],
   "source": []
  },
  {
   "cell_type": "markdown",
   "id": "c2f0050b",
   "metadata": {},
   "source": [
    "# day 288"
   ]
  },
  {
   "cell_type": "markdown",
   "id": "4dec279d",
   "metadata": {},
   "source": [
    "# code "
   ]
  },
  {
   "cell_type": "code",
   "execution_count": 61,
   "id": "70586a7e",
   "metadata": {},
   "outputs": [],
   "source": [
    "import numpy as np\n",
    "import sympy as sym\n",
    "from IPython.display import display,Math\n",
    "sym.init_printing()\n",
    "import matplotlib.pyplot as plt\n",
    "import scipy.stats as stats\n",
    "from sklearn.linear_model import LinearRegression\n",
    "import statsmodels.api as sm\n",
    "import seaborn as sns\n",
    "import pandas as pd"
   ]
  },
  {
   "cell_type": "code",
   "execution_count": 11,
   "id": "190aa360",
   "metadata": {},
   "outputs": [],
   "source": [
    "# preparing data:fake data.\n",
    "\n",
    "exam_scores = []\n",
    "for ei in range(5):\n",
    "    exam_scores = np.hstack((exam_scores,60*np.ones(6)+np.linspace(-1,5,6)*ei))\n",
    "    \n",
    "hours_studied = np.tile(np.linspace(2,8,6),5)\n",
    "avg_sleep_hours = np.linspace(6,10,30)"
   ]
  },
  {
   "cell_type": "markdown",
   "id": "fae84c30",
   "metadata": {},
   "source": [
    "# exploration, analysis and freethrows"
   ]
  },
  {
   "cell_type": "code",
   "execution_count": 8,
   "id": "4c19747f",
   "metadata": {},
   "outputs": [
    {
     "data": {
      "text/plain": [
       "array([60. , 60. , 60. , 60. , 60. , 60. , 59. , 60.2, 61.4, 62.6, 63.8,\n",
       "       65. , 58. , 60.4, 62.8, 65.2, 67.6, 70. , 57. , 60.6, 64.2, 67.8,\n",
       "       71.4, 75. , 56. , 60.8, 65.6, 70.4, 75.2, 80. ])"
      ]
     },
     "execution_count": 8,
     "metadata": {},
     "output_type": "execute_result"
    }
   ],
   "source": [
    "exam_scores"
   ]
  },
  {
   "cell_type": "code",
   "execution_count": 3,
   "id": "051861f7",
   "metadata": {},
   "outputs": [
    {
     "data": {
      "text/plain": [
       "array([1., 1., 1., 1., 1., 1.])"
      ]
     },
     "execution_count": 3,
     "metadata": {},
     "output_type": "execute_result"
    }
   ],
   "source": [
    "np.ones(6)"
   ]
  },
  {
   "cell_type": "code",
   "execution_count": 4,
   "id": "a41da0b9",
   "metadata": {},
   "outputs": [
    {
     "data": {
      "text/plain": [
       "array([60., 60., 60., 60., 60., 60.])"
      ]
     },
     "execution_count": 4,
     "metadata": {},
     "output_type": "execute_result"
    }
   ],
   "source": [
    "60*np.ones(6)"
   ]
  },
  {
   "cell_type": "code",
   "execution_count": 10,
   "id": "27b7f826",
   "metadata": {},
   "outputs": [
    {
     "data": {
      "text/plain": [
       "array([2. , 3.2, 4.4, 5.6, 6.8, 8. , 2. , 3.2, 4.4, 5.6, 6.8, 8. , 2. ,\n",
       "       3.2, 4.4, 5.6, 6.8, 8. , 2. , 3.2, 4.4, 5.6, 6.8, 8. , 2. , 3.2,\n",
       "       4.4, 5.6, 6.8, 8. ])"
      ]
     },
     "execution_count": 10,
     "metadata": {},
     "output_type": "execute_result"
    }
   ],
   "source": [
    "hours_studied"
   ]
  },
  {
   "cell_type": "code",
   "execution_count": 13,
   "id": "9a1e0a2f",
   "metadata": {},
   "outputs": [
    {
     "data": {
      "text/plain": [
       "array([2. , 3.2, 4.4, 5.6, 6.8, 8. ])"
      ]
     },
     "execution_count": 13,
     "metadata": {},
     "output_type": "execute_result"
    }
   ],
   "source": [
    "np.linspace(2,8,6)"
   ]
  },
  {
   "cell_type": "code",
   "execution_count": 14,
   "id": "e11cfb9a",
   "metadata": {},
   "outputs": [
    {
     "data": {
      "text/plain": [
       "array([2. , 3.2, 4.4, 5.6, 6.8, 8. , 2. , 3.2, 4.4, 5.6, 6.8, 8. , 2. ,\n",
       "       3.2, 4.4, 5.6, 6.8, 8. , 2. , 3.2, 4.4, 5.6, 6.8, 8. , 2. , 3.2,\n",
       "       4.4, 5.6, 6.8, 8. ])"
      ]
     },
     "execution_count": 14,
     "metadata": {},
     "output_type": "execute_result"
    }
   ],
   "source": [
    "np.tile(np.linspace(2,8,6),5)"
   ]
  },
  {
   "cell_type": "code",
   "execution_count": 12,
   "id": "a249db4e",
   "metadata": {},
   "outputs": [
    {
     "data": {
      "text/plain": [
       "array([ 6.        ,  6.13793103,  6.27586207,  6.4137931 ,  6.55172414,\n",
       "        6.68965517,  6.82758621,  6.96551724,  7.10344828,  7.24137931,\n",
       "        7.37931034,  7.51724138,  7.65517241,  7.79310345,  7.93103448,\n",
       "        8.06896552,  8.20689655,  8.34482759,  8.48275862,  8.62068966,\n",
       "        8.75862069,  8.89655172,  9.03448276,  9.17241379,  9.31034483,\n",
       "        9.44827586,  9.5862069 ,  9.72413793,  9.86206897, 10.        ])"
      ]
     },
     "execution_count": 12,
     "metadata": {},
     "output_type": "execute_result"
    }
   ],
   "source": [
    "avg_sleep_hours"
   ]
  },
  {
   "cell_type": "code",
   "execution_count": 15,
   "id": "87ced60c",
   "metadata": {},
   "outputs": [
    {
     "data": {
      "image/png": "[encoded data removed]",
      "text/latex": [
       "$\\displaystyle \\left( 30, \\  30\\right)$"
      ],
      "text/plain": [
       "(30, 30)"
      ]
     },
     "execution_count": 15,
     "metadata": {},
     "output_type": "execute_result"
    }
   ],
   "source": [
    "len(avg_sleep_hours),len(exam_scores)"
   ]
  },
  {
   "cell_type": "code",
   "execution_count": null,
   "id": "857d3093",
   "metadata": {},
   "outputs": [],
   "source": []
  },
  {
   "cell_type": "code",
   "execution_count": 32,
   "id": "b437e9dc",
   "metadata": {},
   "outputs": [
    {
     "data": {
      "image/png": "[encoded data removed]",
      "text/plain": [
       "<Figure size 432x288 with 1 Axes>"
      ]
     },
     "metadata": {
      "needs_background": "light"
     },
     "output_type": "display_data"
    }
   ],
   "source": [
    "# plot the data\n",
    "\n",
    "## stratify by the hours studied:\n",
    "\n",
    "## fewer than 4 hours\n",
    "plotidx = hours_studied <= 4\n",
    "plt.plot(avg_sleep_hours[plotidx],exam_scores[plotidx],'ko',markerfacecolor='k',label='<=4 hours studied')\n",
    "\n",
    "##  5-6 hours \n",
    "plotidx = np.logical_and(hours_studied >= 5, hours_studied <= 6)\n",
    "plt.plot(avg_sleep_hours[plotidx],exam_scores[plotidx],'ko',markerfacecolor='r',label='5-6 hours studied')\n",
    "\n",
    "## more than 6 hours\n",
    "plotidx = hours_studied > 6\n",
    "plt.plot(avg_sleep_hours[plotidx],exam_scores[plotidx],'ko',markerfacecolor='b',label='>6 hours studied')\n",
    "\n",
    "\n",
    "plt.xlabel('Hours of Sleep')\n",
    "plt.ylabel('Exam Scores')\n",
    "\n",
    "plt.legend()\n",
    "plt.show()\n"
   ]
  },
  {
   "cell_type": "code",
   "execution_count": null,
   "id": "4f8fe9dc",
   "metadata": {},
   "outputs": [],
   "source": []
  },
  {
   "cell_type": "code",
   "execution_count": 43,
   "id": "d29e0a6c",
   "metadata": {},
   "outputs": [
    {
     "data": {
      "text/html": [
       "<table class=\"simpletable\">\n",
       "<caption>OLS Regression Results</caption>\n",
       "<tr>\n",
       "  <th>Dep. Variable:</th>            <td>y</td>        <th>  R-squared:         </th> <td>   0.993</td>\n",
       "</tr>\n",
       "<tr>\n",
       "  <th>Model:</th>                   <td>OLS</td>       <th>  Adj. R-squared:    </th> <td>   0.992</td>\n",
       "</tr>\n",
       "<tr>\n",
       "  <th>Method:</th>             <td>Least Squares</td>  <th>  F-statistic:       </th> <td>   1182.</td>\n",
       "</tr>\n",
       "<tr>\n",
       "  <th>Date:</th>             <td>Wed, 17 Jan 2024</td> <th>  Prob (F-statistic):</th> <td>6.74e-28</td>\n",
       "</tr>\n",
       "<tr>\n",
       "  <th>Time:</th>                 <td>13:53:23</td>     <th>  Log-Likelihood:    </th> <td> -21.269</td>\n",
       "</tr>\n",
       "<tr>\n",
       "  <th>No. Observations:</th>      <td>    30</td>      <th>  AIC:               </th> <td>   50.54</td>\n",
       "</tr>\n",
       "<tr>\n",
       "  <th>Df Residuals:</th>          <td>    26</td>      <th>  BIC:               </th> <td>   56.14</td>\n",
       "</tr>\n",
       "<tr>\n",
       "  <th>Df Model:</th>              <td>     3</td>      <th>                     </th>     <td> </td>   \n",
       "</tr>\n",
       "<tr>\n",
       "  <th>Covariance Type:</th>      <td>nonrobust</td>    <th>                     </th>     <td> </td>   \n",
       "</tr>\n",
       "</table>\n",
       "<table class=\"simpletable\">\n",
       "<tr>\n",
       "    <td></td>       <th>coef</th>     <th>std err</th>      <th>t</th>      <th>P>|t|</th>  <th>[0.025</th>    <th>0.975]</th>  \n",
       "</tr>\n",
       "<tr>\n",
       "  <th>const</th> <td>   82.4315</td> <td>    1.700</td> <td>   48.491</td> <td> 0.000</td> <td>   78.937</td> <td>   85.926</td>\n",
       "</tr>\n",
       "<tr>\n",
       "  <th>x1</th>    <td>   -3.4511</td> <td>    0.215</td> <td>  -16.087</td> <td> 0.000</td> <td>   -3.892</td> <td>   -3.010</td>\n",
       "</tr>\n",
       "<tr>\n",
       "  <th>x2</th>    <td>   -7.6663</td> <td>    0.321</td> <td>  -23.916</td> <td> 0.000</td> <td>   -8.325</td> <td>   -7.007</td>\n",
       "</tr>\n",
       "<tr>\n",
       "  <th>x3</th>    <td>    1.1736</td> <td>    0.040</td> <td>   29.623</td> <td> 0.000</td> <td>    1.092</td> <td>    1.255</td>\n",
       "</tr>\n",
       "</table>\n",
       "<table class=\"simpletable\">\n",
       "<tr>\n",
       "  <th>Omnibus:</th>       <td>10.899</td> <th>  Durbin-Watson:     </th> <td>   1.069</td>\n",
       "</tr>\n",
       "<tr>\n",
       "  <th>Prob(Omnibus):</th> <td> 0.004</td> <th>  Jarque-Bera (JB):  </th> <td>   3.273</td>\n",
       "</tr>\n",
       "<tr>\n",
       "  <th>Skew:</th>          <td>-0.438</td> <th>  Prob(JB):          </th> <td>   0.195</td>\n",
       "</tr>\n",
       "<tr>\n",
       "  <th>Kurtosis:</th>      <td> 1.640</td> <th>  Cond. No.          </th> <td>    821.</td>\n",
       "</tr>\n",
       "</table><br/><br/>Notes:<br/>[1] Standard Errors assume that the covariance matrix of the errors is correctly specified."
      ],
      "text/plain": [
       "<class 'statsmodels.iolib.summary.Summary'>\n",
       "\"\"\"\n",
       "                            OLS Regression Results                            \n",
       "==============================================================================\n",
       "Dep. Variable:                      y   R-squared:                       0.993\n",
       "Model:                            OLS   Adj. R-squared:                  0.992\n",
       "Method:                 Least Squares   F-statistic:                     1182.\n",
       "Date:                Wed, 17 Jan 2024   Prob (F-statistic):           6.74e-28\n",
       "Time:                        13:53:23   Log-Likelihood:                -21.269\n",
       "No. Observations:                  30   AIC:                             50.54\n",
       "Df Residuals:                      26   BIC:                             56.14\n",
       "Df Model:                           3                                         \n",
       "Covariance Type:            nonrobust                                         \n",
       "==============================================================================\n",
       "                 coef    std err          t      P>|t|      [0.025      0.975]\n",
       "------------------------------------------------------------------------------\n",
       "const         82.4315      1.700     48.491      0.000      78.937      85.926\n",
       "x1            -3.4511      0.215    -16.087      0.000      -3.892      -3.010\n",
       "x2            -7.6663      0.321    -23.916      0.000      -8.325      -7.007\n",
       "x3             1.1736      0.040     29.623      0.000       1.092       1.255\n",
       "==============================================================================\n",
       "Omnibus:                       10.899   Durbin-Watson:                   1.069\n",
       "Prob(Omnibus):                  0.004   Jarque-Bera (JB):                3.273\n",
       "Skew:                          -0.438   Prob(JB):                        0.195\n",
       "Kurtosis:                       1.640   Cond. No.                         821.\n",
       "==============================================================================\n",
       "\n",
       "Notes:\n",
       "[1] Standard Errors assume that the covariance matrix of the errors is correctly specified.\n",
       "\"\"\""
      ]
     },
     "execution_count": 43,
     "metadata": {},
     "output_type": "execute_result"
    }
   ],
   "source": [
    "# multiple regression\n",
    "\n",
    "x = np.vstack((np.ones((30,)),avg_sleep_hours,hours_studied,avg_sleep_hours*hours_studied)).T\n",
    "\n",
    "# OLS stands for Ordinary Least squares\n",
    "# endog stands for endogenenous variable\n",
    "# exog stands for exogenous variable.\n",
    "multireg = sm.OLS(endog=exam_scores,exog=x).fit() \n",
    "multireg.summary()"
   ]
  },
  {
   "cell_type": "code",
   "execution_count": null,
   "id": "cbb17372",
   "metadata": {},
   "outputs": [],
   "source": []
  },
  {
   "cell_type": "markdown",
   "id": "fea9b9b3",
   "metadata": {},
   "source": [
    "# exploration, analysis and freethrows"
   ]
  },
  {
   "cell_type": "code",
   "execution_count": 36,
   "id": "89418720",
   "metadata": {},
   "outputs": [
    {
     "data": {
      "text/plain": [
       "array([1., 1., 1., 1., 1., 1., 1., 1., 1., 1., 1., 1., 1., 1., 1., 1., 1.,\n",
       "       1., 1., 1., 1., 1., 1., 1., 1., 1., 1., 1., 1., 1.])"
      ]
     },
     "execution_count": 36,
     "metadata": {},
     "output_type": "execute_result"
    }
   ],
   "source": [
    "np.ones((30,))"
   ]
  },
  {
   "cell_type": "code",
   "execution_count": 38,
   "id": "ed81916e",
   "metadata": {},
   "outputs": [
    {
     "data": {
      "text/plain": [
       "array([[ 1.        ,  6.        ,  2.        , 12.        ],\n",
       "       [ 1.        ,  6.13793103,  3.2       , 19.64137931],\n",
       "       [ 1.        ,  6.27586207,  4.4       , 27.6137931 ],\n",
       "       [ 1.        ,  6.4137931 ,  5.6       , 35.91724138],\n",
       "       [ 1.        ,  6.55172414,  6.8       , 44.55172414],\n",
       "       [ 1.        ,  6.68965517,  8.        , 53.51724138],\n",
       "       [ 1.        ,  6.82758621,  2.        , 13.65517241],\n",
       "       [ 1.        ,  6.96551724,  3.2       , 22.28965517],\n",
       "       [ 1.        ,  7.10344828,  4.4       , 31.25517241],\n",
       "       [ 1.        ,  7.24137931,  5.6       , 40.55172414],\n",
       "       [ 1.        ,  7.37931034,  6.8       , 50.17931034],\n",
       "       [ 1.        ,  7.51724138,  8.        , 60.13793103],\n",
       "       [ 1.        ,  7.65517241,  2.        , 15.31034483],\n",
       "       [ 1.        ,  7.79310345,  3.2       , 24.93793103],\n",
       "       [ 1.        ,  7.93103448,  4.4       , 34.89655172],\n",
       "       [ 1.        ,  8.06896552,  5.6       , 45.1862069 ],\n",
       "       [ 1.        ,  8.20689655,  6.8       , 55.80689655],\n",
       "       [ 1.        ,  8.34482759,  8.        , 66.75862069],\n",
       "       [ 1.        ,  8.48275862,  2.        , 16.96551724],\n",
       "       [ 1.        ,  8.62068966,  3.2       , 27.5862069 ],\n",
       "       [ 1.        ,  8.75862069,  4.4       , 38.53793103],\n",
       "       [ 1.        ,  8.89655172,  5.6       , 49.82068966],\n",
       "       [ 1.        ,  9.03448276,  6.8       , 61.43448276],\n",
       "       [ 1.        ,  9.17241379,  8.        , 73.37931034],\n",
       "       [ 1.        ,  9.31034483,  2.        , 18.62068966],\n",
       "       [ 1.        ,  9.44827586,  3.2       , 30.23448276],\n",
       "       [ 1.        ,  9.5862069 ,  4.4       , 42.17931034],\n",
       "       [ 1.        ,  9.72413793,  5.6       , 54.45517241],\n",
       "       [ 1.        ,  9.86206897,  6.8       , 67.06206897],\n",
       "       [ 1.        , 10.        ,  8.        , 80.        ]])"
      ]
     },
     "execution_count": 38,
     "metadata": {},
     "output_type": "execute_result"
    }
   ],
   "source": [
    "x"
   ]
  },
  {
   "cell_type": "code",
   "execution_count": null,
   "id": "84af0f24",
   "metadata": {},
   "outputs": [],
   "source": []
  },
  {
   "cell_type": "code",
   "execution_count": 60,
   "id": "1fd163e0",
   "metadata": {},
   "outputs": [
    {
     "data": {
      "image/png": "[encoded data removed]",
      "text/plain": [
       "<Figure size 432x288 with 1 Axes>"
      ]
     },
     "metadata": {
      "needs_background": "light"
     },
     "output_type": "display_data"
    }
   ],
   "source": [
    "# observing the correlation of all independent variables.\n",
    "\n",
    "plt.imshow(np.corrcoef(x[:,1:].T))# ignoring the intercept column\n",
    "plt.show()"
   ]
  },
  {
   "cell_type": "code",
   "execution_count": 55,
   "id": "c56be2ac",
   "metadata": {},
   "outputs": [
    {
     "data": {
      "text/plain": [
       "array([[1.        , 0.19731231, 0.49270769],\n",
       "       [0.19731231, 1.        , 0.94068915],\n",
       "       [0.49270769, 0.94068915, 1.        ]])"
      ]
     },
     "execution_count": 55,
     "metadata": {},
     "output_type": "execute_result"
    }
   ],
   "source": [
    "np.corrcoef(x[:,1:].T)"
   ]
  },
  {
   "cell_type": "code",
   "execution_count": 70,
   "id": "daf27ab2",
   "metadata": {},
   "outputs": [
    {
     "data": {
      "text/html": [
       "<div>\n",
       "<style scoped>\n",
       "    .dataframe tbody tr th:only-of-type {\n",
       "        vertical-align: middle;\n",
       "    }\n",
       "\n",
       "    .dataframe tbody tr th {\n",
       "        vertical-align: top;\n",
       "    }\n",
       "\n",
       "    .dataframe thead th {\n",
       "        text-align: right;\n",
       "    }\n",
       "</style>\n",
       "<table border=\"1\" class=\"dataframe\">\n",
       "  <thead>\n",
       "    <tr style=\"text-align: right;\">\n",
       "      <th></th>\n",
       "      <th>sleep_hours</th>\n",
       "      <th>study_hours</th>\n",
       "      <th>study_and_sleep</th>\n",
       "    </tr>\n",
       "  </thead>\n",
       "  <tbody>\n",
       "    <tr>\n",
       "      <th>0</th>\n",
       "      <td>6.000000</td>\n",
       "      <td>2.0</td>\n",
       "      <td>12.000000</td>\n",
       "    </tr>\n",
       "    <tr>\n",
       "      <th>1</th>\n",
       "      <td>6.137931</td>\n",
       "      <td>3.2</td>\n",
       "      <td>19.641379</td>\n",
       "    </tr>\n",
       "    <tr>\n",
       "      <th>2</th>\n",
       "      <td>6.275862</td>\n",
       "      <td>4.4</td>\n",
       "      <td>27.613793</td>\n",
       "    </tr>\n",
       "    <tr>\n",
       "      <th>3</th>\n",
       "      <td>6.413793</td>\n",
       "      <td>5.6</td>\n",
       "      <td>35.917241</td>\n",
       "    </tr>\n",
       "    <tr>\n",
       "      <th>4</th>\n",
       "      <td>6.551724</td>\n",
       "      <td>6.8</td>\n",
       "      <td>44.551724</td>\n",
       "    </tr>\n",
       "    <tr>\n",
       "      <th>5</th>\n",
       "      <td>6.689655</td>\n",
       "      <td>8.0</td>\n",
       "      <td>53.517241</td>\n",
       "    </tr>\n",
       "    <tr>\n",
       "      <th>6</th>\n",
       "      <td>6.827586</td>\n",
       "      <td>2.0</td>\n",
       "      <td>13.655172</td>\n",
       "    </tr>\n",
       "    <tr>\n",
       "      <th>7</th>\n",
       "      <td>6.965517</td>\n",
       "      <td>3.2</td>\n",
       "      <td>22.289655</td>\n",
       "    </tr>\n",
       "    <tr>\n",
       "      <th>8</th>\n",
       "      <td>7.103448</td>\n",
       "      <td>4.4</td>\n",
       "      <td>31.255172</td>\n",
       "    </tr>\n",
       "    <tr>\n",
       "      <th>9</th>\n",
       "      <td>7.241379</td>\n",
       "      <td>5.6</td>\n",
       "      <td>40.551724</td>\n",
       "    </tr>\n",
       "    <tr>\n",
       "      <th>10</th>\n",
       "      <td>7.379310</td>\n",
       "      <td>6.8</td>\n",
       "      <td>50.179310</td>\n",
       "    </tr>\n",
       "    <tr>\n",
       "      <th>11</th>\n",
       "      <td>7.517241</td>\n",
       "      <td>8.0</td>\n",
       "      <td>60.137931</td>\n",
       "    </tr>\n",
       "    <tr>\n",
       "      <th>12</th>\n",
       "      <td>7.655172</td>\n",
       "      <td>2.0</td>\n",
       "      <td>15.310345</td>\n",
       "    </tr>\n",
       "    <tr>\n",
       "      <th>13</th>\n",
       "      <td>7.793103</td>\n",
       "      <td>3.2</td>\n",
       "      <td>24.937931</td>\n",
       "    </tr>\n",
       "    <tr>\n",
       "      <th>14</th>\n",
       "      <td>7.931034</td>\n",
       "      <td>4.4</td>\n",
       "      <td>34.896552</td>\n",
       "    </tr>\n",
       "    <tr>\n",
       "      <th>15</th>\n",
       "      <td>8.068966</td>\n",
       "      <td>5.6</td>\n",
       "      <td>45.186207</td>\n",
       "    </tr>\n",
       "    <tr>\n",
       "      <th>16</th>\n",
       "      <td>8.206897</td>\n",
       "      <td>6.8</td>\n",
       "      <td>55.806897</td>\n",
       "    </tr>\n",
       "    <tr>\n",
       "      <th>17</th>\n",
       "      <td>8.344828</td>\n",
       "      <td>8.0</td>\n",
       "      <td>66.758621</td>\n",
       "    </tr>\n",
       "    <tr>\n",
       "      <th>18</th>\n",
       "      <td>8.482759</td>\n",
       "      <td>2.0</td>\n",
       "      <td>16.965517</td>\n",
       "    </tr>\n",
       "    <tr>\n",
       "      <th>19</th>\n",
       "      <td>8.620690</td>\n",
       "      <td>3.2</td>\n",
       "      <td>27.586207</td>\n",
       "    </tr>\n",
       "    <tr>\n",
       "      <th>20</th>\n",
       "      <td>8.758621</td>\n",
       "      <td>4.4</td>\n",
       "      <td>38.537931</td>\n",
       "    </tr>\n",
       "    <tr>\n",
       "      <th>21</th>\n",
       "      <td>8.896552</td>\n",
       "      <td>5.6</td>\n",
       "      <td>49.820690</td>\n",
       "    </tr>\n",
       "    <tr>\n",
       "      <th>22</th>\n",
       "      <td>9.034483</td>\n",
       "      <td>6.8</td>\n",
       "      <td>61.434483</td>\n",
       "    </tr>\n",
       "    <tr>\n",
       "      <th>23</th>\n",
       "      <td>9.172414</td>\n",
       "      <td>8.0</td>\n",
       "      <td>73.379310</td>\n",
       "    </tr>\n",
       "    <tr>\n",
       "      <th>24</th>\n",
       "      <td>9.310345</td>\n",
       "      <td>2.0</td>\n",
       "      <td>18.620690</td>\n",
       "    </tr>\n",
       "    <tr>\n",
       "      <th>25</th>\n",
       "      <td>9.448276</td>\n",
       "      <td>3.2</td>\n",
       "      <td>30.234483</td>\n",
       "    </tr>\n",
       "    <tr>\n",
       "      <th>26</th>\n",
       "      <td>9.586207</td>\n",
       "      <td>4.4</td>\n",
       "      <td>42.179310</td>\n",
       "    </tr>\n",
       "    <tr>\n",
       "      <th>27</th>\n",
       "      <td>9.724138</td>\n",
       "      <td>5.6</td>\n",
       "      <td>54.455172</td>\n",
       "    </tr>\n",
       "    <tr>\n",
       "      <th>28</th>\n",
       "      <td>9.862069</td>\n",
       "      <td>6.8</td>\n",
       "      <td>67.062069</td>\n",
       "    </tr>\n",
       "    <tr>\n",
       "      <th>29</th>\n",
       "      <td>10.000000</td>\n",
       "      <td>8.0</td>\n",
       "      <td>80.000000</td>\n",
       "    </tr>\n",
       "  </tbody>\n",
       "</table>\n",
       "</div>"
      ],
      "text/plain": [
       "    sleep_hours  study_hours  study_and_sleep\n",
       "0      6.000000          2.0        12.000000\n",
       "1      6.137931          3.2        19.641379\n",
       "2      6.275862          4.4        27.613793\n",
       "3      6.413793          5.6        35.917241\n",
       "4      6.551724          6.8        44.551724\n",
       "5      6.689655          8.0        53.517241\n",
       "6      6.827586          2.0        13.655172\n",
       "7      6.965517          3.2        22.289655\n",
       "8      7.103448          4.4        31.255172\n",
       "9      7.241379          5.6        40.551724\n",
       "10     7.379310          6.8        50.179310\n",
       "11     7.517241          8.0        60.137931\n",
       "12     7.655172          2.0        15.310345\n",
       "13     7.793103          3.2        24.937931\n",
       "14     7.931034          4.4        34.896552\n",
       "15     8.068966          5.6        45.186207\n",
       "16     8.206897          6.8        55.806897\n",
       "17     8.344828          8.0        66.758621\n",
       "18     8.482759          2.0        16.965517\n",
       "19     8.620690          3.2        27.586207\n",
       "20     8.758621          4.4        38.537931\n",
       "21     8.896552          5.6        49.820690\n",
       "22     9.034483          6.8        61.434483\n",
       "23     9.172414          8.0        73.379310\n",
       "24     9.310345          2.0        18.620690\n",
       "25     9.448276          3.2        30.234483\n",
       "26     9.586207          4.4        42.179310\n",
       "27     9.724138          5.6        54.455172\n",
       "28     9.862069          6.8        67.062069\n",
       "29    10.000000          8.0        80.000000"
      ]
     },
     "execution_count": 70,
     "metadata": {},
     "output_type": "execute_result"
    }
   ],
   "source": [
    "df = pd.DataFrame(x[:,1:],columns=['sleep_hours','study_hours','study_and_sleep'])\n",
    "df"
   ]
  },
  {
   "cell_type": "code",
   "execution_count": null,
   "id": "0624fe1f",
   "metadata": {},
   "outputs": [],
   "source": []
  },
  {
   "cell_type": "markdown",
   "id": "77be606b",
   "metadata": {},
   "source": [
    "# polynomials:\n",
    "\n",
    "## what a polynomial equation looks like?\n",
    "![ssdf](170124_stats.png)\n",
    "![ssdf](170124_stats1.png)\n",
    "\n",
    "## when would you use a polynomial regression?\n",
    "![ssdf](170124_stats2.png)\n",
    "\n",
    "## Notes:\n",
    "* when the data is non-linear. you can't put a straight line through to fit the outcome.\n",
    "*  you would use polynomial regression when the linear regression model does not fit the depedent variable with higher accuracy so squaring or cubing (polynomial operations) the independent variables might make the model fit the output(depedent variable) with higher accuracy. \n",
    "* **but the real question is how to choose the right degree? how to know whether to square one of the independent variable or cube or qudruple it? then how to know which independent variable to choose to raise its degree?**\n",
    "\n",
    "## what degree to choose?\n",
    "![sfsdfs](170124_stats3.png)\n",
    "![fsfsd](170124_stats4.png)\n",
    "\n",
    "* you increase the order too much then you risk overfitting. you keep the degrees at the lowest level say at 2 then you may underfit the curvy data.\n",
    "* so, to know the right degree to use we have to use something called `Bayes Information Criterion(BIC)`. \n",
    "* the least value in `BIC plot` is the ideal degree of polynomials."
   ]
  },
  {
   "cell_type": "code",
   "execution_count": null,
   "id": "2bb2e54a",
   "metadata": {},
   "outputs": [],
   "source": []
  },
  {
   "cell_type": "markdown",
   "id": "093b2979",
   "metadata": {},
   "source": [
    "# polynomial Regression:"
   ]
  },
  {
   "cell_type": "markdown",
   "id": "09010cec",
   "metadata": {},
   "source": [
    "# day 290,day 292"
   ]
  },
  {
   "cell_type": "code",
   "execution_count": 1,
   "id": "ca15b27b",
   "metadata": {},
   "outputs": [],
   "source": [
    "import numpy as np\n",
    "import sympy as sym\n",
    "from IPython.display import display,Math\n",
    "sym.init_printing()\n",
    "import matplotlib.pyplot as plt\n",
    "import pandas as pd\n",
    "import seaborn as sns\n",
    "import scipy.stats as stats\n",
    "import statsmodels.api  as sm"
   ]
  },
  {
   "cell_type": "code",
   "execution_count": 2,
   "id": "f286865b",
   "metadata": {},
   "outputs": [
    {
     "data": {
      "image/png": "[encoded data removed]",
      "text/plain": [
       "<Figure size 432x288 with 1 Axes>"
      ]
     },
     "metadata": {
      "needs_background": "light"
     },
     "output_type": "display_data"
    }
   ],
   "source": [
    "# generate the data\n",
    "n = 30\n",
    "x = np.linspace(-2,4,n)\n",
    "\n",
    "y1 = x**2 + np.random.randn(n)\n",
    "y2 = x**3 + np.random.randn(n)\n",
    "\n",
    "# plotting\n",
    "plt.plot(x,y1,'ko',markerfacecolor='r')\n",
    "plt.plot(x,y2,'ko',markerfacecolor='g')\n",
    "plt.legend(('Square','Cube'))\n",
    "\n",
    "plt.show()"
   ]
  },
  {
   "cell_type": "code",
   "execution_count": 9,
   "id": "a3164e0b",
   "metadata": {},
   "outputs": [
    {
     "data": {
      "image/png": "[encoded data removed]",
      "text/plain": [
       "<Figure size 432x288 with 1 Axes>"
      ]
     },
     "metadata": {
      "needs_background": "light"
     },
     "output_type": "display_data"
    }
   ],
   "source": [
    "# now for a polynomial fit\n",
    "beta = np.polyfit(x,y1,2)\n",
    "yhat1 = np.polyval(beta,x)\n",
    "\n",
    "beta = np.polyfit(x,y2,3)\n",
    "yhat2 = np.polyval(beta,x)\n",
    "\n",
    "# all the plotting\n",
    "plt.plot(x,y1,'ko',markerfacecolor='r',label='y1')\n",
    "plt.plot(x,y2,'ko',markerfacecolor='g',label='y2')\n",
    "\n",
    "plt.plot(x,yhat1,'r',label='$ \\hat{y_1} $')\n",
    "plt.plot(x,yhat2,'g',label='$ \\hat{y_2} $')\n",
    "\n",
    "plt.legend()\n",
    "plt.show()"
   ]
  },
  {
   "cell_type": "markdown",
   "id": "57c908f1",
   "metadata": {},
   "source": [
    "# exploration, analysis and freethrows"
   ]
  },
  {
   "cell_type": "code",
   "execution_count": 10,
   "id": "c5847db4",
   "metadata": {},
   "outputs": [
    {
     "data": {
      "text/plain": [
       "array([ 1.03083017, -0.10947012, -0.07287201,  0.27484521])"
      ]
     },
     "execution_count": 10,
     "metadata": {},
     "output_type": "execute_result"
    }
   ],
   "source": [
    "beta # order is: x**3, x**2, x**1, intercept"
   ]
  },
  {
   "cell_type": "markdown",
   "id": "6900a028",
   "metadata": {},
   "source": [
    "# use of bayes information criterion: \n",
    "* in the code above we knew what polynomial order we used for the creation of those functions y1 and y2 but in reality when you look at a equation in the wild this would not be often the case: you would not know what order of polynomial degree might fit the model well hence comes the Bayes information criterion"
   ]
  },
  {
   "cell_type": "code",
   "execution_count": 3,
   "id": "f98c0130",
   "metadata": {},
   "outputs": [],
   "source": [
    "# computer r^2 for several polynomial orders\n",
    "orders = np.arange(1,6)\n",
    "\n",
    "# output matrices\n",
    "r2_matrix = np.zeros((2,len(orders)))\n",
    "sse_matrix = np.zeros((2,len(orders)))\n",
    "\n",
    "for i in range(len(orders)):\n",
    "    # for y1\n",
    "    beta = np.polyfit(x,y1,orders[i])\n",
    "    y_hat1 = np.polyval(beta,x)\n",
    "    sse = sum((y1-y_hat1)**2)\n",
    "    sst = sum((y1-np.mean(y1))**2)\n",
    "    r2_matrix[0,i] = 1 - (sse/sst)\n",
    "    sse_matrix[0,i] = sse\n",
    "    \n",
    "    # do the same for y2\n",
    "    beta = np.polyfit(x,y2,orders[i])\n",
    "    y_hat2 = np.polyval(beta,x)\n",
    "    sse = sum((y2-y_hat2)**2)\n",
    "    sst = sum((y2-np.mean(y2))**2)\n",
    "    r2_matrix[1,i] = 1 - (sse/sst)\n",
    "    sse_matrix[1,i] = sse"
   ]
  },
  {
   "cell_type": "markdown",
   "id": "3724c9f2",
   "metadata": {},
   "source": [
    "# exploration, analysis and freethrows"
   ]
  },
  {
   "cell_type": "code",
   "execution_count": 27,
   "id": "7e70c6bc",
   "metadata": {},
   "outputs": [
    {
     "data": {
      "text/plain": [
       "array([[0.59126704, 0.96549973, 0.96634315, 0.96634333, 0.96817395],\n",
       "       [0.7197538 , 0.93403056, 0.99676927, 0.99694648, 0.99694862]])"
      ]
     },
     "execution_count": 27,
     "metadata": {},
     "output_type": "execute_result"
    }
   ],
   "source": [
    "r2_matrix"
   ]
  },
  {
   "cell_type": "code",
   "execution_count": 28,
   "id": "fd6d6105",
   "metadata": {},
   "outputs": [
    {
     "data": {
      "text/plain": [
       "array([[ 269.275446  ,   22.72896067,   22.17330895,   22.17319348,\n",
       "          20.96717245],\n",
       "       [2862.90254946,  673.92199473,   33.00412015,   31.19375118,\n",
       "          31.17188097]])"
      ]
     },
     "execution_count": 28,
     "metadata": {},
     "output_type": "execute_result"
    }
   ],
   "source": [
    "sse_matrix"
   ]
  },
  {
   "cell_type": "code",
   "execution_count": 4,
   "id": "da5d93e8",
   "metadata": {},
   "outputs": [
    {
     "data": {
      "image/png": "[encoded data removed]",
      "text/plain": [
       "<Figure size 1800x600 with 2 Axes>"
      ]
     },
     "metadata": {
      "needs_background": "light"
     },
     "output_type": "display_data"
    }
   ],
   "source": [
    "# finding the right order using BIC:Bayes Information Criterion\n",
    "fig,ax = plt.subplots(1,2,dpi=150,figsize=(12,4))\n",
    "\n",
    "ax[0].plot(orders,r2_matrix[0,:],'s-',markerfacecolor='w')\n",
    "ax[0].plot(orders,r2_matrix[1,:],'s-',markerfacecolor='w')\n",
    "ax[0].set_ylabel('$R^2$')\n",
    "ax[0].set_xticks([])\n",
    "ax[0].legend(('y1','y2'))\n",
    "\n",
    "\n",
    "# compute the Bayes Information Criterion\n",
    "bic = n*np.log(sse_matrix) + orders*np.log(n)\n",
    "ax[1].plot(orders,bic[0,:],'s-',markerfacecolor='w')\n",
    "ax[1].plot(orders,bic[1,:],'s-',markerfacecolor='w')\n",
    "ax[1].set_xticks(range(1,6))\n",
    "ax[1].set_xlabel('Polynomial Model Degree')\n",
    "ax[1].set_ylabel('BIC value')\n",
    "ax[1].set_title('Lower BIC value is better! ')\n",
    "\n",
    "plt.show()"
   ]
  },
  {
   "cell_type": "code",
   "execution_count": null,
   "id": "1808b0e8",
   "metadata": {},
   "outputs": [],
   "source": []
  },
  {
   "cell_type": "markdown",
   "id": "bac2f463",
   "metadata": {},
   "source": [
    "# exploration, analysis and freethrows"
   ]
  },
  {
   "cell_type": "code",
   "execution_count": 23,
   "id": "a76755c5",
   "metadata": {},
   "outputs": [
    {
     "data": {
      "text/plain": [
       "array([[171.27324194, 100.51159212, 103.17027012, 106.57131127,\n",
       "        108.29472684],\n",
       "       [274.88857713, 273.63935923, 277.19770222, 280.59878173,\n",
       "        284.00624338]])"
      ]
     },
     "execution_count": 23,
     "metadata": {},
     "output_type": "execute_result"
    }
   ],
   "source": [
    "bic"
   ]
  },
  {
   "cell_type": "code",
   "execution_count": null,
   "id": "995c1745",
   "metadata": {},
   "outputs": [],
   "source": []
  },
  {
   "cell_type": "markdown",
   "id": "89b0cd0e",
   "metadata": {},
   "source": [
    "# Unsupervised Learning challenge:\n",
    "\n",
    "## objective: \n",
    "1. prove (beta = np.polyfit(x,y)) is == (beta = np.linalg.inv(design_mat.T@design_mat) @ (design_mat@y)\n",
    "2. prove (y_hat = np.polyval(beta,x) is == (y_hat = design_mat @ beta)\n",
    "\n",
    "## goals:\n",
    "1. create the design matrix without using polyfit and polyval.\n",
    "   * in the first column put x^2 and second column will have x^1 and the third column of the design matrix will have intercepts.\n",
    "2. and create the same solution as in the above code\n",
    "   * now instead of using np.polyval to calculate y_hat, we have to use design_mat@beta\n",
    "3. confirm they are both equal."
   ]
  },
  {
   "cell_type": "code",
   "execution_count": 39,
   "id": "44c194dc",
   "metadata": {},
   "outputs": [
    {
     "name": "stdout",
     "output_type": "stream",
     "text": [
      "\n",
      " Manual Beta vs np.polyfit Beta\n"
     ]
    },
    {
     "data": {
      "text/plain": [
       "array([[ 1.03357503],\n",
       "       [-0.00115436],\n",
       "       [-0.15815533]])"
      ]
     },
     "metadata": {},
     "output_type": "display_data"
    },
    {
     "data": {
      "text/plain": [
       "array([[ 1.03357503],\n",
       "       [-0.00115436],\n",
       "       [-0.15815533]])"
      ]
     },
     "metadata": {},
     "output_type": "display_data"
    },
    {
     "name": "stdout",
     "output_type": "stream",
     "text": [
      "\n",
      " Manual y_hat np.polyval y_hat: \n"
     ]
    },
    {
     "data": {
      "text/plain": [
       "array([[10.04644787],\n",
       "       [ 9.63837717],\n",
       "       [ 9.23863295],\n",
       "       [ 8.84721521],\n",
       "       [ 8.46412395],\n",
       "       [ 8.08935916],\n",
       "       [ 7.72292086],\n",
       "       [ 7.36480903],\n",
       "       [ 7.01502368],\n",
       "       [ 6.67356481]])"
      ]
     },
     "metadata": {},
     "output_type": "display_data"
    },
    {
     "data": {
      "text/plain": [
       "array([10.04644787,  9.63837717,  9.23863295,  8.84721521,  8.46412395,\n",
       "        8.08935916,  7.72292086,  7.36480903,  7.01502368,  6.67356481])"
      ]
     },
     "metadata": {},
     "output_type": "display_data"
    }
   ],
   "source": [
    "n = 100\n",
    "x = np.linspace(-np.pi,np.pi,n)\n",
    "y1 = x**2 + np.random.randn(n)\n",
    "y1 = y1.reshape((len(y1),1))\n",
    "\n",
    "# create the design matrix without using polyfit and polyval\n",
    "design_mat = np.concatenate(((x**2).reshape(len(x),1),(x**1).reshape(len(x),1),np.ones((len(x),1))),\n",
    "                           axis=1)\n",
    "\n",
    "# find the beta\n",
    "man_beta= np.linalg.solve(design_mat.T@design_mat,design_mat.T@y1)\n",
    "\n",
    "print('\\n Manual Beta vs np.polyfit Beta')\n",
    "display(man_beta,np.polyfit(x,y1,2))\n",
    "\n",
    "# calculating y_hat\n",
    "man_y_hat = design_mat@man_beta\n",
    "\n",
    "print('\\n Manual y_hat np.polyval y_hat: ')\n",
    "display(man_y_hat[:10],np.polyval(np.polyfit(x,y1,2),x)[:10])\n",
    "\n"
   ]
  },
  {
   "cell_type": "markdown",
   "id": "eec406e2",
   "metadata": {},
   "source": [
    "# exploration, analysis and freethrows"
   ]
  },
  {
   "cell_type": "code",
   "execution_count": 27,
   "id": "7e92ffca",
   "metadata": {},
   "outputs": [
    {
     "data": {
      "text/plain": [
       "array([-3.14159265, -3.07812614, -3.01465962, -2.9511931 , -2.88772658,\n",
       "       -2.82426006, -2.76079354, -2.69732703, -2.63386051, -2.57039399,\n",
       "       -2.50692747, -2.44346095, -2.37999443, -2.31652792, -2.2530614 ,\n",
       "       -2.18959488, -2.12612836, -2.06266184, -1.99919533, -1.93572881,\n",
       "       -1.87226229, -1.80879577, -1.74532925, -1.68186273, -1.61839622,\n",
       "       -1.5549297 , -1.49146318, -1.42799666, -1.36453014, -1.30106362,\n",
       "       -1.23759711, -1.17413059, -1.11066407, -1.04719755, -0.98373103,\n",
       "       -0.92026451, -0.856798  , -0.79333148, -0.72986496, -0.66639844,\n",
       "       -0.60293192, -0.53946541, -0.47599889, -0.41253237, -0.34906585,\n",
       "       -0.28559933, -0.22213281, -0.1586663 , -0.09519978, -0.03173326,\n",
       "        0.03173326,  0.09519978,  0.1586663 ,  0.22213281,  0.28559933,\n",
       "        0.34906585,  0.41253237,  0.47599889,  0.53946541,  0.60293192,\n",
       "        0.66639844,  0.72986496,  0.79333148,  0.856798  ,  0.92026451,\n",
       "        0.98373103,  1.04719755,  1.11066407,  1.17413059,  1.23759711,\n",
       "        1.30106362,  1.36453014,  1.42799666,  1.49146318,  1.5549297 ,\n",
       "        1.61839622,  1.68186273,  1.74532925,  1.80879577,  1.87226229,\n",
       "        1.93572881,  1.99919533,  2.06266184,  2.12612836,  2.18959488,\n",
       "        2.2530614 ,  2.31652792,  2.37999443,  2.44346095,  2.50692747,\n",
       "        2.57039399,  2.63386051,  2.69732703,  2.76079354,  2.82426006,\n",
       "        2.88772658,  2.9511931 ,  3.01465962,  3.07812614,  3.14159265])"
      ]
     },
     "execution_count": 27,
     "metadata": {},
     "output_type": "execute_result"
    }
   ],
   "source": [
    "x"
   ]
  },
  {
   "cell_type": "code",
   "execution_count": 29,
   "id": "94ca2115",
   "metadata": {},
   "outputs": [
    {
     "data": {
      "text/plain": [
       "array([[10.70779162],\n",
       "       [ 9.3700983 ],\n",
       "       [ 8.27130071],\n",
       "       [ 9.56840064],\n",
       "       [ 7.79719641],\n",
       "       [ 8.3192416 ],\n",
       "       [ 7.16907047],\n",
       "       [ 8.21088417],\n",
       "       [ 6.1658715 ],\n",
       "       [ 7.82631651]])"
      ]
     },
     "execution_count": 29,
     "metadata": {},
     "output_type": "execute_result"
    }
   ],
   "source": [
    "y1[:10]"
   ]
  },
  {
   "cell_type": "code",
   "execution_count": 30,
   "id": "a60ebcf1",
   "metadata": {},
   "outputs": [
    {
     "data": {
      "text/plain": [
       "array([[ 1.03086264],\n",
       "       [ 0.019941  ],\n",
       "       [-0.04350588]])"
      ]
     },
     "execution_count": 30,
     "metadata": {},
     "output_type": "execute_result"
    }
   ],
   "source": [
    "beta = np.polyfit(x,y1,2)\n",
    "beta"
   ]
  },
  {
   "cell_type": "code",
   "execution_count": 18,
   "id": "735c5175",
   "metadata": {},
   "outputs": [
    {
     "data": {
      "text/plain": [
       "array([[ 9.8696044 , -3.14159265,  1.        ],\n",
       "       [ 9.47486051, -3.07812614,  1.        ],\n",
       "       [ 9.08817261, -3.01465962,  1.        ],\n",
       "       [ 8.70954071, -2.9511931 ,  1.        ],\n",
       "       [ 8.3389648 , -2.88772658,  1.        ],\n",
       "       [ 7.9764449 , -2.82426006,  1.        ],\n",
       "       [ 7.62198099, -2.76079354,  1.        ],\n",
       "       [ 7.27557308, -2.69732703,  1.        ],\n",
       "       [ 6.93722117, -2.63386051,  1.        ],\n",
       "       [ 6.60692526, -2.57039399,  1.        ]])"
      ]
     },
     "execution_count": 18,
     "metadata": {},
     "output_type": "execute_result"
    }
   ],
   "source": [
    "np.concatenate(((x**2).reshape(len(x),1),(x**1).reshape(len(x),1),np.ones((len(x),1))),axis=1)[:10]"
   ]
  },
  {
   "cell_type": "code",
   "execution_count": 23,
   "id": "75b12683",
   "metadata": {},
   "outputs": [
    {
     "data": {
      "image/png": "[encoded data removed]",
      "text/latex": [
       "$\\displaystyle \\left( 100, \\  1\\right)$"
      ],
      "text/plain": [
       "(100, 1)"
      ]
     },
     "execution_count": 23,
     "metadata": {},
     "output_type": "execute_result"
    }
   ],
   "source": [
    "y1.reshape((len(y1),1)).shape"
   ]
  },
  {
   "cell_type": "code",
   "execution_count": 24,
   "id": "246773ba",
   "metadata": {},
   "outputs": [
    {
     "data": {
      "image/png": "[encoded data removed]",
      "text/latex": [
       "$\\displaystyle \\left( 100, \\  3\\right)$"
      ],
      "text/plain": [
       "(100, 3)"
      ]
     },
     "execution_count": 24,
     "metadata": {},
     "output_type": "execute_result"
    }
   ],
   "source": [
    "design_mat.shape"
   ]
  },
  {
   "cell_type": "code",
   "execution_count": 25,
   "id": "c05c89c1",
   "metadata": {},
   "outputs": [
    {
     "data": {
      "image/png": "[encoded data removed]",
      "text/latex": [
       "$\\displaystyle 335.633011619537$"
      ],
      "text/plain": [
       "335.6330116195371"
      ]
     },
     "execution_count": 25,
     "metadata": {},
     "output_type": "execute_result"
    }
   ],
   "source": []
  },
  {
   "cell_type": "code",
   "execution_count": null,
   "id": "affc2e6b",
   "metadata": {},
   "outputs": [],
   "source": []
  },
  {
   "cell_type": "markdown",
   "id": "bb790eab",
   "metadata": {},
   "source": [
    "# day 292,day 294,day296"
   ]
  },
  {
   "cell_type": "code",
   "execution_count": 1,
   "id": "6e06de4f",
   "metadata": {},
   "outputs": [],
   "source": [
    "import numpy as np\n",
    "import sympy as sym\n",
    "from IPython.display import display,Math\n",
    "sym.init_printing()\n",
    "import matplotlib.pyplot as plt\n",
    "import scipy.stats as stats\n",
    "from sklearn.linear_model import LogisticRegression\n",
    "from sklearn.metrics import confusion_matrix,classification_report\n",
    "from mlxtend.plotting import plot_confusion_matrix"
   ]
  },
  {
   "cell_type": "markdown",
   "id": "e0c43ba9",
   "metadata": {},
   "source": [
    "# Logistic Regression\n",
    "\n",
    "## notes:\n",
    "1. it helps you to `classify` different patterns in the data: so the patterns become more distinguishable.\n",
    "-----------\n",
    "2. logistic regression is also known as 'binary logistic regression'.\n",
    "-----------\n",
    "3. The word 'logistic' is attributable to the fact that logistic regression deals with equations that have two dependent variables(2 outputs) such as 'yes' or 'no', 'True' or 'False', 'killer' or 'no-killer', 'wife' or 'not wife', 'she bears my baby' or \"she bears someone else's baby\" you get the idea? ... the output is binary or logical hence the name logistic(logical). But you know, you can also call it `Binary Regression`, this is more fitting.\n",
    "--------\n",
    "4. you can also extend this classification to more than 2 dependent variables, in which case we would call it `multinomial logistic regression` a quick side note: in deep learning implementations we use CategoricalCrossEntropyLoss or SparseCategoricalCrossEntropy() for multi-class classifications, and BinaryCrossEntropy() for classificaition of 2 objects.\n",
    "--------\n",
    "5. logistic regression or multinomial logistic regression return values in probabilities. so, if you are doing a logistic regression(binary) then you would get values between 0 and 1. if the value falls below 0.5 then it is one class of two classes if the value falls above 0.5, it is another class of 2 classes. a quick tangent note: we use `sigmoid or softmax` functions to get the numbers from Binary cross entropy loss and categorical cross entropy loss converted into probabilities respectively.\n",
    "\n",
    "## setting up the equation:\n",
    "![fsdfsd](220124_stats1.png)\n",
    "\n",
    "## notes;\n",
    "* in any equation setting up the beginning is more important so pay special attention to it. for example in this case why they chose to use natural log of probability of the event happening / probability of the event not happenning = y_hat? \n",
    "* i think it is because y_hat is a predictor in the case of linear regression it predicted where the continuous value such as price or sales count or anything would fall in the chart with respect to its past data, but in the case of classification it is either the 'the event happening' or 'the event not happening' so we take this p/(1-p).\n",
    "\n",
    "\n",
    "## why take log though?\n",
    "![sfsfs](240124_stat.png)\n",
    "\n",
    "## notes:\n",
    "* notice that without log, p/(1-p) ratio just gives a flat line, the log makes it dynamically change between a certain range hence would give a sense of getting closer to ideal point in optimization problems.\n",
    "\n",
    "## how to find the values for beta? (hint: gradient descent)\n",
    "![sfsfs](240124_stat1.png)\n",
    "\n",
    "## notes:\n",
    "* we cannot perform left inverse as with linear regression because here the equation is 1/1-e^{XB} is non-linear. \n",
    "* beta parameters are initially set with some random values and slowly updated iteratively to match closer to the actual output using gradient descent and calculated probability is updated.\n",
    "\n",
    "## Logistic regression is sigmoid function:\n",
    "# $$ \\text{sigmoid} = \\frac{1}{1 + e^{-x}} $$\n",
    "\n",
    "##  softmax function:\n",
    "* suppose we had multiple classes then we would use softmax function.\n",
    "# $$ \\text{softmax } =  f_i(a) = \\frac{e^{a_i}}{\\sum_k e^{a_k} } $$\n",
    "\n",
    "\n",
    "## an example where logistic regression is used:\n",
    "![sfsfs](240124_stat2.png)\n",
    "![sfsfs](240124_stat3.png)\n",
    "![sfsfs](240124_stat4.png)\n"
   ]
  },
  {
   "cell_type": "code",
   "execution_count": 2,
   "id": "9d5b945c",
   "metadata": {},
   "outputs": [
    {
     "data": {
      "image/png": "[encoded data removed]",
      "text/plain": [
       "<Figure size 900x600 with 1 Axes>"
      ]
     },
     "metadata": {
      "needs_background": "light"
     },
     "output_type": "display_data"
    }
   ],
   "source": [
    "# code Logistic regression:\n",
    "\n",
    "## generate the data\n",
    "exam_outcome = [0, 0, 0, 0, 0, 0, 0, 0, 0, 0, 1, 1, 1, 1, 1, 1, 1, 1, 1, 1];\n",
    "study_hours  = [7.9, 7.9, 2.8, 5.4, 6.1, 4.5, 6.9, 2.3, 1.9, 1, 3.1, 5.7, 5.6, 4.7, 4.2, 2, 7.7, 6.5, 5.1, 3.7]\n",
    "sleep_hours  = [4.4, 5.2, 7.5, 4.6, 5.5, 6.1, 6.6, 3.1, 5.9, 3.2, 7.5, 7.8, 6.1, 5.4, 10.5, 8.2, 7.2, 7.2, 5.9, 7.9]\n",
    "\n",
    "n = len(exam_outcome)\n",
    "\n",
    "## plotting\n",
    "\n",
    "## drawing the grey connecting lines\n",
    "plt.figure(dpi=150)\n",
    "for i in range(n): \n",
    "    plt.plot([exam_outcome[i]-0.05,exam_outcome[i]+0.05],[study_hours[i],sleep_hours[i]],color=[0.7,0.7,0.7])\n",
    "\n",
    "## plotting study and sleep with exam_outcomes:\n",
    "plt.plot(exam_outcome-0.05*np.ones(n),study_hours,'ks',markerfacecolor=[1,0.8,1],label='study')\n",
    "plt.plot(exam_outcome+0.05*np.ones(n),sleep_hours,'ks',markerfacecolor=[0.39,1,1],label='sleep')\n",
    "\n",
    "## decorating the plot:\n",
    "plt.xticks([0,1],labels=('Fail','Pass'))\n",
    "plt.xlim([-0.5,1.5])\n",
    "plt.ylabel('Hours sleep/study')\n",
    "\n",
    "plt.legend(loc=(1.1,0.5))\n",
    "plt.show()"
   ]
  },
  {
   "cell_type": "markdown",
   "id": "01951d86",
   "metadata": {},
   "source": [
    "# exploration, analysis and freethrows"
   ]
  },
  {
   "cell_type": "code",
   "execution_count": 4,
   "id": "75edd646",
   "metadata": {},
   "outputs": [
    {
     "data": {
      "image/png": "[encoded data removed]",
      "text/latex": [
       "$\\displaystyle \\left( 20, \\  20, \\  20\\right)$"
      ],
      "text/plain": [
       "(20, 20, 20)"
      ]
     },
     "execution_count": 4,
     "metadata": {},
     "output_type": "execute_result"
    }
   ],
   "source": [
    "len(exam_outcome),len(study_hours),len(sleep_hours)"
   ]
  },
  {
   "cell_type": "code",
   "execution_count": null,
   "id": "50ee80e2",
   "metadata": {},
   "outputs": [],
   "source": []
  },
  {
   "cell_type": "code",
   "execution_count": 19,
   "id": "e8ed2992",
   "metadata": {},
   "outputs": [
    {
     "name": "stdout",
     "output_type": "stream",
     "text": [
      "Beta are:  [[0.10794965 1.05178489]]\n",
      "Intercept is:  [-7.1649154]\n"
     ]
    }
   ],
   "source": [
    "# now do the logistic regression:\n",
    "log_reg = LogisticRegression(solver='newton-cg') #newton cg method\n",
    "\n",
    "# creating the design matrix\n",
    "design_matrix = np.vstack((study_hours,sleep_hours)).T\n",
    "\n",
    "# fitting the design_matrix and the outcome with the logistic regression model\n",
    "log_reg.fit(design_matrix,np.array(exam_outcome))\n",
    "\n",
    "# display the intercept and the beta(coefficients)\n",
    "print('Beta are: ',log_reg.coef_)\n",
    "print('Intercept is: ',log_reg.intercept_)"
   ]
  },
  {
   "cell_type": "code",
   "execution_count": 20,
   "id": "d9033ea0",
   "metadata": {},
   "outputs": [
    {
     "name": "stdout",
     "output_type": "stream",
     "text": [
      "Evaluation:  0.75\n"
     ]
    }
   ],
   "source": [
    "print(\"Evaluation: \",log_reg.score(design_matrix,np.array(exam_outcome)))"
   ]
  },
  {
   "cell_type": "code",
   "execution_count": 21,
   "id": "fa536bd5",
   "metadata": {},
   "outputs": [
    {
     "name": "stdout",
     "output_type": "stream",
     "text": [
      "              precision    recall  f1-score   support\n",
      "\n",
      "           0       0.73      0.80      0.76        10\n",
      "           1       0.78      0.70      0.74        10\n",
      "\n",
      "    accuracy                           0.75        20\n",
      "   macro avg       0.75      0.75      0.75        20\n",
      "weighted avg       0.75      0.75      0.75        20\n",
      "\n"
     ]
    }
   ],
   "source": [
    "# making the classification report\n",
    "prediction = log_reg.predict(design_matrix)\n",
    "pred_prob = log_reg.predict_proba(design_matrix)\n",
    "actual = np.array(exam_outcome)\n",
    "class_names = ['Failed','Passed']\n",
    "cm = confusion_matrix(actual,prediction)\n",
    "\n",
    "print(classification_report(actual,prediction))"
   ]
  },
  {
   "cell_type": "code",
   "execution_count": 22,
   "id": "1c4e37e1",
   "metadata": {},
   "outputs": [
    {
     "data": {
      "image/png": "[encoded data removed]",
      "text/plain": [
       "<Figure size 720x360 with 1 Axes>"
      ]
     },
     "metadata": {
      "needs_background": "light"
     },
     "output_type": "display_data"
    }
   ],
   "source": [
    "# plotting a confusion_matrix\n",
    "plot_confusion_matrix(cm,\n",
    "                     class_names=class_names,\n",
    "                     figsize=(10,5))\n",
    "plt.show()"
   ]
  },
  {
   "cell_type": "markdown",
   "id": "bf5eff86",
   "metadata": {},
   "source": [
    "# exploration,analysis and freethrows"
   ]
  },
  {
   "cell_type": "code",
   "execution_count": 14,
   "id": "deda7c3d",
   "metadata": {},
   "outputs": [
    {
     "data": {
      "text/plain": [
       "(array([0, 0, 1, 0, 0, 1, 0, 0, 1, 0]), array([0, 0, 0, 0, 0, 0, 0, 0, 0, 0]))"
      ]
     },
     "execution_count": 14,
     "metadata": {},
     "output_type": "execute_result"
    }
   ],
   "source": [
    "prediction[:10],actual[:10]"
   ]
  },
  {
   "cell_type": "code",
   "execution_count": 13,
   "id": "a3fe9b09",
   "metadata": {},
   "outputs": [
    {
     "data": {
      "text/plain": [
       "array([[7, 3],\n",
       "       [3, 7]], dtype=int64)"
      ]
     },
     "execution_count": 13,
     "metadata": {},
     "output_type": "execute_result"
    }
   ],
   "source": []
  },
  {
   "cell_type": "code",
   "execution_count": null,
   "id": "7824a6f0",
   "metadata": {},
   "outputs": [],
   "source": []
  },
  {
   "cell_type": "markdown",
   "id": "bd483106",
   "metadata": {},
   "source": [
    "# day 297"
   ]
  },
  {
   "cell_type": "markdown",
   "id": "5f1d5519",
   "metadata": {},
   "source": [
    "# UnderFitting and OverFitting:\n",
    "\n",
    "## why overfitting is bad?\n",
    "![fsdfsdf](270124_stat.png)\n",
    "\n",
    "## notes:\n",
    "* overfitting makes the model underperform with unseen data.\n",
    "* overfitting makes the model less generalizable or not all generalizable to unseen data.\n",
    "* Tangent Note: one common solution to resolve overfitting is by using regularization technique like lasso regression\n",
    "\n",
    "\n",
    "## why underfitting is bad?\n",
    "![fsdfsdf](270124_stat1.png)\n",
    "\n",
    "## notes:\n",
    "* underfitting is when the model doesn't represent the reality(data) as it is due to less data or a less complex model with less parameters or some other reason.\n",
    "* Tangent Note: one common solution to resolve underfitting is giving more data and adding more parameters.\n",
    "\n",
    "\n",
    "## Summary of overfitting and underfitting:\n",
    "![fsdfsdf](270124_stat2.png)\n",
    "\n",
    "\n",
    "## Researchers degree of freedom:\n",
    "![fsdfsdf](270124_stat3.png)\n",
    "![fsdfsdf](270124_stat4.png)\n",
    "\n",
    "\n",
    "## notes:\n",
    "* Researcher's degree of freedom is researcher having many options on how to clean, organize, conduct analysis on the data.\n",
    "* the best practise is to take only 10% or 20% of the whole data and perform exploration, analysis and freethrows on them and then building a pipeline as to how to clean, what charts to pull out,  deciding whether to use Python or R or Matlab, and so on and on and on...\n",
    "\n",
    "\n",
    "## summary of the whole:\n",
    "* Don't overfit or underfit the data. find a middle ground for generalizability.\n",
    "* always work with a small portion of the total data, say 10% of the data, \n",
    "* and build a pipeline(blueprint that underpins the steps of the analysis) \n",
    "* and whenever you deviate from the pipeline make a note of it and let your reader know why you have deviated. \n",
    "* and slowly apply the model you've built for the 20% and make some changes if need be and apply it to 50% and finally to 100% \n",
    "* it is similar to writing a pseudo code about how to build the algorithm to solve the particular problem and then making some changes to pseudo code as and when the problem evolves and writing a remark about why you have not considered solving the problem that way in the beginning itself. it is journal, planout, and update the plan, repeat."
   ]
  },
  {
   "cell_type": "code",
   "execution_count": null,
   "id": "28df1312",
   "metadata": {},
   "outputs": [],
   "source": []
  },
  {
   "cell_type": "markdown",
   "id": "739cd355",
   "metadata": {},
   "source": [
    "# day 300"
   ]
  },
  {
   "cell_type": "code",
   "execution_count": 1,
   "id": "6468d9cd",
   "metadata": {},
   "outputs": [],
   "source": [
    "import numpy as np\n",
    "import sympy as sym\n",
    "from IPython.display import display,Math\n",
    "sym.init_printing()\n",
    "import matplotlib.pyplot as plt\n",
    "import scipy.stats as stats\n",
    "import pandas as pd"
   ]
  },
  {
   "cell_type": "markdown",
   "id": "e8e6fa6a",
   "metadata": {},
   "source": [
    "# unsupervised learning:\n",
    "\n",
    "![sfsfs](270124_stat5.png)\n",
    "## goals:\n",
    "* just try to recreate the plot above.\n",
    "* create an artificial training and testing dataset.\n",
    "* plot the training dataset.\n",
    "* first create a simple model with 2 parameters and make it run over the training data.\n",
    "* then create another model with 10 parameters that overfits on the training data.\n",
    "* check the accuracy of the training and testing data now.\n",
    "* plot the testing data\n",
    "* test the model with 2 parameters on the testing data.\n",
    "* check the accuracy of the training data and testing data now."
   ]
  },
  {
   "cell_type": "code",
   "execution_count": 136,
   "id": "36a5b9f3",
   "metadata": {},
   "outputs": [
    {
     "name": "stderr",
     "output_type": "stream",
     "text": [
      "C:\\Users\\ADMIN\\anaconda3\\lib\\site-packages\\IPython\\core\\interactiveshell.py:3369: RankWarning: Polyfit may be poorly conditioned\n",
      "  exec(code_obj, self.user_global_ns, self.user_ns)\n"
     ]
    },
    {
     "data": {
      "image/png": "[encoded data removed]",
      "text/plain": [
       "<Figure size 720x360 with 6 Axes>"
      ]
     },
     "metadata": {
      "needs_background": "light"
     },
     "output_type": "display_data"
    }
   ],
   "source": [
    "##  prepare datasets\n",
    "n = 10\n",
    "x = np.linspace(0,5,n)\n",
    "y = x + np.random.randn(len(x))\n",
    "dataset1 = pd.DataFrame({'x':x,'y':y})\n",
    "y = y - 1 # shifting by -1 to make the overfitting model stagger a bit.\n",
    "y[[5,2,9]] = [-5,15,20] # giving some random values manually.\n",
    "dataset2 = pd.DataFrame({'x':x,'y':y})\n",
    "\n",
    "## plot the training dataset\n",
    "fig,ax = plt.subplots(2,3,figsize=(10,5))\n",
    "ax[0][0].plot(dataset1['x'],dataset1['y'],'bs',markerfacecolor='w')\n",
    "ax[0][0].set_title('Raw Dataset1')\n",
    "      \n",
    "## computing the prediction for dataset1\n",
    "beta1 = np.polyfit(dataset1['x'],dataset1['y'],1)\n",
    "y_hat1 = np.polyval(beta1,dataset1['x'])\n",
    "ax[0][1].plot(dataset1['x'],dataset1['y'],'bs',markerfacecolor='w')\n",
    "ax[0][1].set_title('1 parameter')\n",
    "ax[0][1].plot(dataset1['x'],y_hat1,'go')\n",
    "\n",
    "beta10 = np.polyfit(dataset1['x'],dataset1['y'],10)\n",
    "y_hat10 = np.polyval(beta10,dataset1['x'])\n",
    "ax[0][2].plot(dataset1['x'],dataset1['y'],'bs',markerfacecolor='w')\n",
    "ax[0][2].set_title('10 parameters (overfit)')\n",
    "ax[0][2].plot(dataset1['x'],y_hat10,'r+')\n",
    "\n",
    "\n",
    "ax[1][0].plot(dataset2['x'],dataset2['y'],'rs',markerfacecolor='w')\n",
    "ax[1][0].set_title('Raw Dataset2')\n",
    "\n",
    "## computing the prediction for dataset1(unseen data)\n",
    "ax[1][1].plot(dataset2['x'],dataset2['y'],'bs',markerfacecolor='w')\n",
    "ax[1][1].set_title('1 parameter')\n",
    "ax[1][1].plot(dataset2['x'],y_hat1,'go')\n",
    "\n",
    "ax[1][2].plot(dataset2['x'],dataset2['y'],'bs',markerfacecolor='w')\n",
    "ax[1][2].set_title('10 parameters (overfit)')\n",
    "ax[1][2].plot(dataset2['x'],y_hat10,'r+')\n",
    "\n",
    "\n",
    "plt.tight_layout()\n",
    "plt.show()"
   ]
  },
  {
   "cell_type": "markdown",
   "id": "c8db5487",
   "metadata": {},
   "source": [
    "# conclusion:\n",
    "\n",
    "* overfitting with training data makes the prediction on unseen data terrible."
   ]
  },
  {
   "cell_type": "code",
   "execution_count": null,
   "id": "993a4030",
   "metadata": {},
   "outputs": [],
   "source": []
  },
  {
   "cell_type": "markdown",
   "id": "39b7faf2",
   "metadata": {},
   "source": [
    "# exploration, analysis and freethrows"
   ]
  },
  {
   "cell_type": "code",
   "execution_count": 73,
   "id": "bae1d8cc",
   "metadata": {},
   "outputs": [
    {
     "data": {
      "text/plain": [
       "array([0.        , 0.26315789, 0.52631579, 0.78947368, 1.05263158,\n",
       "       1.31578947, 1.57894737, 1.84210526, 2.10526316, 2.36842105,\n",
       "       2.63157895, 2.89473684, 3.15789474, 3.42105263, 3.68421053,\n",
       "       3.94736842, 4.21052632, 4.47368421, 4.73684211, 5.        ])"
      ]
     },
     "execution_count": 73,
     "metadata": {},
     "output_type": "execute_result"
    }
   ],
   "source": [
    "x"
   ]
  },
  {
   "cell_type": "code",
   "execution_count": 92,
   "id": "955a3cf1",
   "metadata": {},
   "outputs": [
    {
     "data": {
      "text/plain": [
       "array([2.12571429, 0.88571429])"
      ]
     },
     "execution_count": 92,
     "metadata": {},
     "output_type": "execute_result"
    }
   ],
   "source": [
    "beta1 = np.polyfit(dataset1['x'],dataset1['y'],1)\n",
    "beta1"
   ]
  },
  {
   "cell_type": "code",
   "execution_count": 93,
   "id": "c05506ab",
   "metadata": {},
   "outputs": [
    {
     "data": {
      "text/plain": [
       "array([ 0.88571429,  1.44511278,  2.00451128,  2.56390977,  3.12330827,\n",
       "        3.68270677,  4.24210526,  4.80150376,  5.36090226,  5.92030075,\n",
       "        6.47969925,  7.03909774,  7.59849624,  8.15789474,  8.71729323,\n",
       "        9.27669173,  9.83609023, 10.39548872, 10.95488722, 11.51428571])"
      ]
     },
     "execution_count": 93,
     "metadata": {},
     "output_type": "execute_result"
    }
   ],
   "source": [
    "y_hat1 = np.polyval(beta1,dataset1['x'])\n",
    "y_hat1"
   ]
  },
  {
   "cell_type": "code",
   "execution_count": 128,
   "id": "60547ab3",
   "metadata": {},
   "outputs": [
    {
     "data": {
      "text/plain": [
       "array([-0.36262318, 23.        ,  2.53521081])"
      ]
     },
     "execution_count": 128,
     "metadata": {},
     "output_type": "execute_result"
    }
   ],
   "source": [
    "y[[1,2,3]]"
   ]
  },
  {
   "cell_type": "code",
   "execution_count": null,
   "id": "ddb38375",
   "metadata": {},
   "outputs": [],
   "source": []
  },
  {
   "cell_type": "markdown",
   "id": "be1f8b73",
   "metadata": {},
   "source": [
    "# day 301"
   ]
  },
  {
   "cell_type": "code",
   "execution_count": 1,
   "id": "921173f8",
   "metadata": {},
   "outputs": [],
   "source": [
    "import numpy as np\n",
    "import sympy as sym\n",
    "from IPython.display import display,Math\n",
    "import matplotlib.pyplot as plt\n",
    "import scipy.stats as stats"
   ]
  },
  {
   "cell_type": "markdown",
   "id": "a4b0afaa",
   "metadata": {},
   "source": [
    "# comparing nested models\n",
    "\n",
    "\n",
    "## how to compare different models of the same data quantitatively?\n",
    "![sdfsd](310124_stats.png)\n",
    "![sdfsd](310124_stats1.png)\n",
    "\n",
    "## notes:\n",
    "* model1 is within the model2 because all the parameters and coefficients of the model1 are present in model2. so model1 is a reduced model and model2 is a full model.\n",
    "\n",
    "## model with more parameters always and always perform better:\n",
    "\n",
    "![sdfsf](310124_stats2.png)\n",
    "\n",
    "## notes:\n",
    "* it is true that models with more parameters will perform better than model with lesser parameters or full model will perform better than reduced models but there is a catch.\n",
    "* the catch is compute time and memory(space and time complexity), models with more parameters will significantly take more compute and memory so an optimization ruler such as a cost function is attached to penalize the model with more parameters to allow only those parameters with the model that significantly improve the performance of the model.\n",
    "* this cost function is done by sse and a F-test performed on the reduced and the full model.\n",
    "\n",
    "## Ftest (a battle to choose either full model or reduced model):\n",
    "![sdfsd](310124_stats3.png)\n",
    "\n",
    "## notes:\n",
    "* n is the total number of data points \n",
    "\n",
    "## full model or reduced model:\n",
    "![sdfsd](310124_stats4.png)\n",
    "![sdfsd](310124_stats5.png)\n",
    "\n",
    "## notes:\n",
    "* if the f test gives statistically significant value then choose the full model with all its parameters\n",
    "* if the f test gives statistically non-significant value then choose the reduced model with few parameters. which indicate that the addition of additional parameters didn't help much to increase the model's predictive power.\n",
    "* null hypothesis is no parameter from the full model improves the performance.\n",
    "* alternate hypothesis is atleast one parameter from the full model improves the performance.\n",
    "\n",
    "## conclusion:\n",
    "* compute the ANOVA table and F-test with the help of a computer. Manually it is tedious.\n"
   ]
  },
  {
   "cell_type": "code",
   "execution_count": null,
   "id": "5230fbce",
   "metadata": {},
   "outputs": [],
   "source": []
  },
  {
   "cell_type": "markdown",
   "id": "28b3c0f0",
   "metadata": {},
   "source": [
    "# what to do about the missing datapoints in the dataset?\n",
    "![fsdfsfs](310124_stats6.png)\n",
    "\n",
    "## ways to handle with missing data:\n",
    "\n",
    "## 1. complete removal\n",
    "![fsdfsfs](310124_stats7.png)\n",
    "* remove the entire row.\n",
    "* do this when the data are paired meaning data in one column cannot have its meaning without depending on the missing value.\n",
    "\n",
    "## 2. selective removal\n",
    "![fsdfsfs](310124_stats8.png)\n",
    "* remove only the box where data is missing. Don't do this method. do this only if there are many missing values or the number of datapoints are too few. \n",
    "\n",
    "\n",
    "## 3. replace the missing boxes with apt values.\n",
    "![fsdfsfs](310124_stats9.png)\n",
    "* sometimes replace it with mean of the other values in the column \n",
    "* sometimes just put 0 in their places.\n",
    "* sometimes put nill/null or whatever that makes sense.\n",
    "\n",
    "## 4. replace with predicted value.\n",
    "![fsdfsfs](310124_stats10.png)\n",
    "* this method is more interesting \n",
    "* you treat the available column values lets say Time1 as the training dataset and Time2 as the Testing dataset and create the deep learning or statistical model to train it with the training data \n",
    "* replace the value the model gives in the corresponding position of the missing data.\n",
    "* one thing to be wary of with this approach is you need to have lot of features not just Time1 as in our case to train the model. if you happen to have only with one feature then replace the missing compartment with just the meanvalue or 0 "
   ]
  },
  {
   "cell_type": "code",
   "execution_count": null,
   "id": "747c2b32",
   "metadata": {},
   "outputs": [],
   "source": []
  },
  {
   "cell_type": "code",
   "execution_count": null,
   "id": "0e35420b-d727-4347-80fd-c22c3fdba82d",
   "metadata": {},
   "outputs": [],
   "source": []
  },
  {
   "cell_type": "code",
   "execution_count": 10,
   "id": "1a9390ed-7778-4122-ba77-261d67e85df4",
   "metadata": {},
   "outputs": [
    {
     "data": {
      "image/png": "[encoded data removed]",
      "text/plain": [
       "<Figure size 640x480 with 1 Axes>"
      ]
     },
     "metadata": {},
     "output_type": "display_data"
    }
   ],
   "source": [
    "# Amity course on regression\n",
    "import numpy as np\n",
    "import sympy as sym\n",
    "from IPython.display import display,Math\n",
    "sym.init_printing()\n",
    "import matplotlib.pyplot as plt\n",
    "import scipy.stats as stats\n",
    "\n",
    "\n",
    "x = [5,8,10,12,15,3,20,18,14,16,7,22,25,9,11]\n",
    "y = [3.2,3.5,3.8,3.9,4,3,4.2,4.1,3.7,3.9,3.3,4.3,4.5,3.6,3.8]\n",
    "plt.plot(x,y,'bo',markerfacecolor='white')\n",
    "plt.xlabel('Hours spent on Exercise')\n",
    "plt.ylabel('Mental well-being Score')\n",
    "plt.show()"
   ]
  },
  {
   "cell_type": "code",
   "execution_count": 8,
   "id": "1b7f660c-6030-4c52-a6bf-9d6e70680aa6",
   "metadata": {},
   "outputs": [
    {
     "data": {
      "text/plain": [
       "LinregressResult(slope=0.06302816901408449, intercept=2.967300469483568, rvalue=0.9621690763713291, pvalue=1.0229864000134127e-08, stderr=0.004949978422164084, intercept_stderr=0.07119484748996881)"
      ]
     },
     "execution_count": 8,
     "metadata": {},
     "output_type": "execute_result"
    }
   ],
   "source": [
    "stats.linregress(x,y)"
   ]
  },
  {
   "cell_type": "code",
   "execution_count": null,
   "id": "3362fc04-aa28-4a97-8115-28d2c262f7a3",
   "metadata": {},
   "outputs": [],
   "source": []
  }
 ],
 "metadata": {
  "kernelspec": {
   "display_name": "Python 3 (ipykernel)",
   "language": "python",
   "name": "python3"
  },
  "language_info": {
   "codemirror_mode": {
    "name": "ipython",
    "version": 3
   },
   "file_extension": ".py",
   "mimetype": "text/x-python",
   "name": "python",
   "nbconvert_exporter": "python",
   "pygments_lexer": "ipython3",
   "version": "3.12.4"
  }
 },
 "nbformat": 4,
 "nbformat_minor": 5
}
