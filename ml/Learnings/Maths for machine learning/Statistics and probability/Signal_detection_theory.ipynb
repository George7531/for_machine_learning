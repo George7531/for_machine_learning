version https://git-lfs.github.com/spec/v1
oid sha256:8a14774e266bc8eddff676bfea4f90d136da4c06b0c7b7fb909e8e376c56ca96
size 80123
