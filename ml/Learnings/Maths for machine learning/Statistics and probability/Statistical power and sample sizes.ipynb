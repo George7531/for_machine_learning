{
 "cells": [
  {
   "cell_type": "markdown",
   "id": "61a47f7b",
   "metadata": {},
   "source": [
    "# day 301,day 302"
   ]
  },
  {
   "cell_type": "markdown",
   "id": "bb498436",
   "metadata": {},
   "source": [
    "# Statistical power:\n",
    "\n",
    "![sfsdfs](310124_stats11.png)\n",
    "![sfsdfs](020224_stats.png)\n",
    "## notes:\n",
    "* rejecting the null hypothesis given that it is false(True Positive) is 1-beta.\n",
    "* 1-beta is the statistical power.\n",
    "* you want this statistical power to be as high a number as possible.\n",
    "\n",
    "## ways to increase the statistical power:\n",
    "![sfsdfs](020224_stats2.png)\n",
    "\n",
    "* you can have more data but the process of acquiring real data from the real world(especially new,unpublished data) is super hard and takes a lot of time and real estate(memory).\n",
    "----------\n",
    "* and also sometimes having the null hypothesis distribution and alternate hypothesis distribution so close to each other with strong kurtosis without leaving gaps for False positive and False negative such that we will have the highest statistical power(True Positive: 1-beta) is just meaningless or purposeless because it will happen so only for the obvious events such as checking the brain activity of a dead person and proving that he has none which is already an obvious fact and you don't have to break any sweat to prove it, do ya? sometimes higher statistical power only comes for obvious events or well known facts which do not require additional studies.\n",
    "--------------\n",
    "* do not engage in decreasing the alpha threshold too much it might inadvertantly increase the Type 1 Error (Rejecting the null hypothesis even though it is True: False Positive).\n",
    "---------\n",
    "* Also be mindful of the fact that statistical power might differ for different analysis with the same data which means in one experiment might give a higher number for 1-beta but another experiment (with different methods adopted but still using the same data) might give a different statistical power.\n",
    "------------\n",
    "* statistical power calculation from published scientific reports are also unreliable because sometimes the nuances or the obvious facts are overlooked. Also when you look at all the published literature you'd only find them reporting statistically significant reports but sometimes some metrics might not be statistically significant and they are not published. Because of this publication bias we might not get the full picture of the observed reality(we cannot measure the workings of the God/Nature with selection bias to only select and publish those that are seemingly important while discarding the seemingly unimportant results. Who knows sometimes the real discovery emerge from the obvious things that were once overlooked.)\n",
    "\n",
    "![fsfsf](020224_stats3.png)"
   ]
  },
  {
   "cell_type": "code",
   "execution_count": null,
   "id": "054bff5f",
   "metadata": {},
   "outputs": [],
   "source": []
  },
  {
   "cell_type": "markdown",
   "id": "c01a342d",
   "metadata": {},
   "source": [
    "# calculating statistical power:\n",
    "![fsfsf](020224_stats4.png)\n",
    "\n",
    "## notes:\n",
    "* the way to compute statistical power is through the z score\n",
    "\n",
    "## Z value and beta connection:\n",
    "![fsfsf](020224_stats5.png)\n",
    "![fsfsf](020224_stats6.png)\n",
    "![fsfsf](020224_stats7.png)\n",
    "![fsfsf](020224_stats8.png)\n",
    "![fsfsf](020224_stats9.png)\n",
    "\n",
    "## notes:\n",
    "* you can also do the deep learning method to calculate the statistical power such as training the model with data and seeing how the model performs on unseen data, doing data pruning, feature engineering, and using a cross entropy loss function to measure the loss and optimizing algorithm such as Stochastic Gradient Descent to optimize to reduce the loss with every iteration.\n",
    "\n",
    "\n",
    "## A priori and post-hoc statistical power:\n",
    "![fsfsf](020224_stats10.png)\n",
    "\n"
   ]
  },
  {
   "cell_type": "code",
   "execution_count": null,
   "id": "1a7f0bb7",
   "metadata": {},
   "outputs": [],
   "source": []
  }
 ],
 "metadata": {
  "kernelspec": {
   "display_name": "Python 3 (ipykernel)",
   "language": "python",
   "name": "python3"
  },
  "language_info": {
   "codemirror_mode": {
    "name": "ipython",
    "version": 3
   },
   "file_extension": ".py",
   "mimetype": "text/x-python",
   "name": "python",
   "nbconvert_exporter": "python",
   "pygments_lexer": "ipython3",
   "version": "3.9.12"
  }
 },
 "nbformat": 4,
 "nbformat_minor": 5
}
