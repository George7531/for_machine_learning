version https://git-lfs.github.com/spec/v1
oid sha256:52a2148c97574e9f023cbee30efb98581d9ff62c5d1ad66b89b8425eb29b44cd
size 21331
