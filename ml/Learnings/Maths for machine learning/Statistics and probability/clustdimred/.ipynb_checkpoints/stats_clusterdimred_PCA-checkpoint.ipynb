version https://git-lfs.github.com/spec/v1
oid sha256:6cc381dc6f321449d343e288b76e308b7e448c44323ac8035368ee478848e603
size 5006
