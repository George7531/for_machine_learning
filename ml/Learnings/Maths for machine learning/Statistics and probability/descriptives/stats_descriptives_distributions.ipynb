{
 "cells": [
  {
   "cell_type": "markdown",
   "metadata": {},
   "source": [
    "# COURSE: Master statistics and machine learning: Intuition, Math, code\n",
    "##### COURSE URL: udemy.com/course/statsml_x/?couponCode=202212 \n",
    "## SECTION: Descriptive statistics\n",
    "### VIDEO: Data from different distributions\n",
    "#### TEACHER: Mike X Cohen, sincxpress.com"
   ]
  },
  {
   "cell_type": "code",
   "execution_count": null,
   "metadata": {},
   "outputs": [],
   "source": [
    "# import libraries\n",
    "import matplotlib.pyplot as plt\n",
    "import numpy as np\n",
    "import scipy.stats as stats\n",
    "# or: from scipy import stats"
   ]
  },
  {
   "cell_type": "code",
   "execution_count": null,
   "metadata": {},
   "outputs": [],
   "source": [
    "## Gaussian\n",
    "\n",
    "# number of discretizations\n",
    "N = 1001\n",
    "\n",
    "x = np.linspace(-4,4,N)\n",
    "gausdist = stats.norm.pdf(x)\n",
    "\n",
    "plt.plot(x,gausdist)\n",
    "plt.title('Analytic Gaussian (normal) distribution')\n",
    "plt.show()\n",
    "\n",
    "# is this a probability distribution?\n",
    "print(sum(gausdist))\n",
    "# try scaling by dx...\n"
   ]
  },
  {
   "cell_type": "code",
   "execution_count": null,
   "metadata": {},
   "outputs": [],
   "source": [
    "## Normally-distributed random numbers\n",
    "\n",
    "# parameters\n",
    "stretch = 1 # variance (square of standard deviation)\n",
    "shift   = 5 # mean\n",
    "n       = 1000\n",
    "\n",
    "# create data\n",
    "data = stretch*np.random.randn(n) + shift\n",
    "\n",
    "# plot data\n",
    "plt.hist(data,25)\n",
    "plt.title('Empirical normal distribution')\n",
    "plt.show()"
   ]
  },
  {
   "cell_type": "code",
   "execution_count": null,
   "metadata": {},
   "outputs": [],
   "source": [
    "## Uniformly-distributed numbers\n",
    "\n",
    "# parameters\n",
    "stretch = 2 # not the variance\n",
    "shift   = .5\n",
    "n       = 10000\n",
    "\n",
    "# create data\n",
    "data = stretch*np.random.rand(n) + shift-stretch/2\n",
    "\n",
    "# plot data\n",
    "fig,ax = plt.subplots(2,1,figsize=(5,6))\n",
    "\n",
    "ax[0].plot(data,'.',markersize=1)\n",
    "ax[0].set_title('Uniform data values')\n",
    "\n",
    "ax[1].hist(data,25)\n",
    "ax[1].set_title('Uniform data histogram')\n",
    "\n",
    "plt.show()"
   ]
  },
  {
   "cell_type": "code",
   "execution_count": null,
   "metadata": {},
   "outputs": [],
   "source": [
    "## log-normal distribution\n",
    "\n",
    "N = 1001\n",
    "x = np.linspace(0,10,N)\n",
    "lognormdist = stats.lognorm.pdf(x,1)\n",
    "\n",
    "plt.plot(x,lognormdist)\n",
    "plt.title('Analytic log-normal distribution')\n",
    "plt.show()"
   ]
  },
  {
   "cell_type": "code",
   "execution_count": null,
   "metadata": {},
   "outputs": [],
   "source": [
    "## empirical log-normal distribution\n",
    "\n",
    "shift   = 5  # equal to the mean?\n",
    "stretch = .5 # equal to standard deviation?\n",
    "n = 2000     # number of data points\n",
    "\n",
    "# generate data\n",
    "data = stretch*np.random.randn(n) + shift\n",
    "data = np.exp( data )\n",
    "\n",
    "# plot data\n",
    "fig,ax = plt.subplots(2,1,figsize=(4,6))\n",
    "ax[0].plot(data,'.')\n",
    "ax[0].set_title('Log-normal data values')\n",
    "\n",
    "ax[1].hist(data,25)\n",
    "ax[1].set_title('Log-normal data histogram')\n",
    "plt.show()"
   ]
  },
  {
   "cell_type": "code",
   "execution_count": null,
   "metadata": {},
   "outputs": [],
   "source": [
    "## binomial\n",
    "\n",
    "# a binomial distribution is the probability of K heads in N coin tosses,\n",
    "# given a probability of p heads (e.g., .5 is a fair coin).\n",
    "\n",
    "n = 10 # number on coin tosses\n",
    "p = .5 # probability of heads\n",
    "\n",
    "x = range(n+2)\n",
    "bindist = stats.binom.pmf(x,n,p)\n",
    "\n",
    "plt.bar(x,bindist)\n",
    "plt.title('Binomial distribution (n=%s, p=%g)'%(n,p))\n",
    "plt.show()"
   ]
  },
  {
   "cell_type": "code",
   "execution_count": null,
   "metadata": {},
   "outputs": [],
   "source": [
    "## t\n",
    "\n",
    "x  = np.linspace(-4,4,1001)\n",
    "df = 200\n",
    "t  = stats.t.pdf(x,df)\n",
    "\n",
    "plt.plot(x,t)\n",
    "plt.xlabel('t-value')\n",
    "plt.ylabel('P(t | H$_0$)')\n",
    "plt.title('t(%g) distribution'%df)\n",
    "plt.show()"
   ]
  },
  {
   "cell_type": "code",
   "execution_count": null,
   "metadata": {},
   "outputs": [],
   "source": [
    "## F\n",
    "\n",
    "# parameters\n",
    "num_df = 5   # numerator degrees of freedom\n",
    "den_df = 100 # denominator df\n",
    "\n",
    "# values to evaluate \n",
    "x = np.linspace(0,10,10001)\n",
    "\n",
    "# the distribution\n",
    "fdist = stats.f.pdf(x,num_df,den_df)\n",
    "\n",
    "plt.plot(x,fdist)\n",
    "plt.title(f'F({num_df},{den_df}) distribution')\n",
    "plt.xlabel('F value')\n",
    "plt.show()"
   ]
  }
 ],
 "metadata": {
  "kernelspec": {
   "display_name": "Python 3",
   "language": "python",
   "name": "python3"
  },
  "language_info": {
   "codemirror_mode": {
    "name": "ipython",
    "version": 3
   },
   "file_extension": ".py",
   "mimetype": "text/x-python",
   "name": "python",
   "nbconvert_exporter": "python",
   "pygments_lexer": "ipython3",
   "version": "3.7.4"
  }
 },
 "nbformat": 4,
 "nbformat_minor": 2
}
