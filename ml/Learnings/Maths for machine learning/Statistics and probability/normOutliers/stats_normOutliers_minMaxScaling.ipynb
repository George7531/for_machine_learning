version https://git-lfs.github.com/spec/v1
oid sha256:84372897d9c4f46313094f278ac1a43a1c4934972d6921ed0cb6cac285cd1b36
size 2700
