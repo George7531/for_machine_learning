version https://git-lfs.github.com/spec/v1
oid sha256:013ae889e4ddd9d1088ef395a51692b855e60abb4effff7673a6e17cb5b1c6c1
size 3677
