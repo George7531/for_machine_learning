{
 "cells": [
  {
   "cell_type": "markdown",
   "id": "774bb934",
   "metadata": {},
   "source": [
    "# day 48"
   ]
  },
  {
   "cell_type": "code",
   "execution_count": 1,
   "id": "567c1931",
   "metadata": {},
   "outputs": [],
   "source": [
    "import numpy as np\n",
    "import sympy as sym\n",
    "sym.init_printing()"
   ]
  },
  {
   "cell_type": "markdown",
   "id": "c883da02",
   "metadata": {},
   "source": [
    "# solve for p:\n",
    "# $$ \\log{\\frac{p}{1-p}} = B $$"
   ]
  },
  {
   "cell_type": "code",
   "execution_count": 6,
   "id": "09f266fc",
   "metadata": {},
   "outputs": [
    {
     "data": {
      "image/png": "[encoded data removed]",
      "text/latex": [
       "$\\displaystyle \\left[ \\frac{e^{B}}{e^{B} + 1}\\right]$"
      ],
      "text/plain": [
       "⎡   B  ⎤\n",
       "⎢  ℯ   ⎥\n",
       "⎢──────⎥\n",
       "⎢ B    ⎥\n",
       "⎣ℯ  + 1⎦"
      ]
     },
     "execution_count": 6,
     "metadata": {},
     "output_type": "execute_result"
    }
   ],
   "source": [
    "p,B = sym.symbols('p,B')\n",
    "\n",
    "sym.solve(sym.log(p/(1-p))-B,p)"
   ]
  },
  {
   "cell_type": "markdown",
   "id": "681322d7",
   "metadata": {},
   "source": [
    "# dictionary"
   ]
  },
  {
   "cell_type": "code",
   "execution_count": 2,
   "id": "7e38d5dc",
   "metadata": {},
   "outputs": [
    {
     "data": {
      "text/plain": [
       "{'Name': 'George', 'Age': 25, 'occupation': 'incognito_student_of_MikeXcohen'}"
      ]
     },
     "execution_count": 2,
     "metadata": {},
     "output_type": "execute_result"
    }
   ],
   "source": [
    "dic = dict()\n",
    "\n",
    "# assigning name,age, occupation and interests in the dictionary\n",
    "\n",
    "dic['Name'] = 'George'\n",
    "dic['Age'] = 25\n",
    "dic['occupation'] = 'incognito_student_of_MikeXcohen'\n",
    "\n",
    "dic"
   ]
  },
  {
   "cell_type": "markdown",
   "id": "cae6a971",
   "metadata": {},
   "source": [
    "# population parameters\n",
    "\n",
    "# $$ \\mu \\text{- Mean} $$\n",
    "# $$ \\beta \\text{- Regression Coefficient} $$\n",
    "# $$ \\sigma^2 \\text{- Variance} $$\n",
    "# $$ \\sigma \\text{- Standard Deviation} $$\n",
    "\n",
    "# sample parameters\n",
    "\n",
    "# $$ \\overline{x} \\text{- Mean} $$\n",
    "# $$ \\overline{\\beta} \\text{- Regression Coefficient} $$\n",
    "# $$ s^2 \\text{- Variance} $$\n",
    "# $$ s \\text{- Standard Deviation} $$"
   ]
  },
  {
   "cell_type": "code",
   "execution_count": null,
   "id": "6fd23e0d",
   "metadata": {},
   "outputs": [],
   "source": []
  },
  {
   "cell_type": "markdown",
   "id": "3a736ce5",
   "metadata": {},
   "source": [
    "# sizes and studies names\n",
    "\n",
    "# N = 1 versus N > 1\n",
    "\n",
    "# N = 1:\n",
    "### case study: one patient\n",
    "### anectode: one person\n",
    "### how these should be treated: needs further research to prove or generalize the results \n",
    "\n",
    "# N > 1:\n",
    "### pilot study\n",
    "### proof of principle\n",
    "### small scale study\n",
    "### large scale study\n",
    "### treatment: generalizable studies, can be trusted, the results can have significance with reality. "
   ]
  },
  {
   "cell_type": "markdown",
   "id": "f5ea1122",
   "metadata": {},
   "source": [
    "# day 52"
   ]
  },
  {
   "cell_type": "code",
   "execution_count": 2,
   "id": "50b49f5b",
   "metadata": {},
   "outputs": [],
   "source": [
    "import numpy as np\n",
    "import pandas as pd\n",
    "import matplotlib.pyplot as plt"
   ]
  },
  {
   "cell_type": "code",
   "execution_count": 3,
   "id": "abb5f85d",
   "metadata": {},
   "outputs": [
    {
     "data": {
      "text/plain": [
       "array([[0., 1., 2.],\n",
       "       [0., 1., 2.],\n",
       "       [0., 1., 2.]])"
      ]
     },
     "execution_count": 3,
     "metadata": {},
     "output_type": "execute_result"
    }
   ],
   "source": [
    "data = np.zeros((3,3))\n",
    "\n",
    "\n",
    "for i in range(3):\n",
    "    data[:,i] = i*1\n",
    "    \n",
    "    \n",
    "data"
   ]
  },
  {
   "cell_type": "code",
   "execution_count": 4,
   "id": "098153bf",
   "metadata": {},
   "outputs": [
    {
     "data": {
      "text/plain": [
       "array([[0., 0., 0.],\n",
       "       [1., 1., 1.],\n",
       "       [2., 2., 2.]])"
      ]
     },
     "execution_count": 4,
     "metadata": {},
     "output_type": "execute_result"
    }
   ],
   "source": [
    "data = np.zeros((3,3))\n",
    "\n",
    "\n",
    "for i in range(3):\n",
    "    data[i,:] = i*1\n",
    "    \n",
    "    \n",
    "data"
   ]
  },
  {
   "cell_type": "markdown",
   "id": "2215b372",
   "metadata": {},
   "source": [
    "# day 53\n",
    "\n",
    "\n"
   ]
  },
  {
   "cell_type": "code",
   "execution_count": 1,
   "id": "2703169d",
   "metadata": {},
   "outputs": [],
   "source": [
    "import matplotlib.pyplot as plt\n",
    "import pandas as pd\n",
    "import numpy as np"
   ]
  },
  {
   "cell_type": "markdown",
   "id": "34b468e8",
   "metadata": {},
   "source": [
    "# creating bar plots"
   ]
  },
  {
   "cell_type": "code",
   "execution_count": 35,
   "id": "c97a1095",
   "metadata": {},
   "outputs": [
    {
     "data": {
      "image/png": "[encoded data removed]",
      "text/plain": [
       "<Figure size 1152x360 with 3 Axes>"
      ]
     },
     "metadata": {
      "needs_background": "light"
     },
     "output_type": "display_data"
    }
   ],
   "source": [
    "m = 30 # rows\n",
    "n = 6 # cols\n",
    "\n",
    "data = np.zeros((m,n))\n",
    "\n",
    "# seeding the random numbers\n",
    "np.random.seed(42)\n",
    "\n",
    "# filling the data 'column wise' with some random, off-the-cuff numbers! \n",
    "for i in range(0,n):\n",
    "    data[:,i] = 30*np.random.randn(m) * (2*i/(n-1)-1)**2 + (i+1)**2\n",
    "    \n",
    "# plotting the bars\n",
    "fig,ax = plt.subplots(nrows = 1, ncols = 3, figsize = (16,5))\n",
    "\n",
    "# naked bars\n",
    "ax[0].bar(range(n),np.mean(data,axis=0))\n",
    "ax[0].set_title('Bar Plot')\n",
    "\n",
    "# errorbar plot\n",
    "ax[1].errorbar(range(n),np.mean(data,axis=0),np.std(data,axis=0,ddof=1),marker='s',linestyle='')\n",
    "ax[1].set_title('Error plot')\n",
    "\n",
    "# plotting both\n",
    "ax[2].bar(range(n),np.mean(data,axis=0))\n",
    "ax[2].errorbar(range(n),np.mean(data,axis=0),np.std(data,axis=0,ddof=1),marker='s',linestyle='',color='black')\n",
    "ax[2].set_title('Error + Bar')\n",
    "\n",
    "\n",
    "plt.tight_layout()\n",
    "plt.show()"
   ]
  },
  {
   "cell_type": "code",
   "execution_count": 30,
   "id": "3d49d1df",
   "metadata": {},
   "outputs": [
    {
     "name": "stdout",
     "output_type": "stream",
     "text": [
      "means of rows\n",
      "[0.46040865 0.51140015 0.36893587]\n",
      " \n",
      "means of the cols\n",
      "[0.34290336 0.44368183 0.45293545 0.36716694 0.38172381 0.13303969\n",
      " 0.6118922  0.80140106 0.62150267 0.4685097  0.44005629 0.29816569]\n"
     ]
    }
   ],
   "source": [
    "mat = np.random.rand(3,12)\n",
    "\n",
    "# find the mean of rows\n",
    "print('means of rows')\n",
    "print(np.mean(mat,axis=1))\n",
    "\n",
    "print(' ')\n",
    "\n",
    "# find the mean of the cols\n",
    "print('means of cols')\n",
    "print(np.mean(mat,axis=0))"
   ]
  },
  {
   "cell_type": "markdown",
   "id": "ac2a6634",
   "metadata": {},
   "source": [
    "# code challenge"
   ]
  },
  {
   "cell_type": "code",
   "execution_count": 38,
   "id": "8b283c31",
   "metadata": {},
   "outputs": [
    {
     "data": {
      "image/png": "[encoded data removed]",
      "text/plain": [
       "<Figure size 432x288 with 1 Axes>"
      ]
     },
     "metadata": {
      "needs_background": "light"
     },
     "output_type": "display_data"
    }
   ],
   "source": [
    "xcrossing = [1,2,4,5,6,9]\n",
    "\n",
    "plt.bar(xcrossing,np.mean(data,axis=0))\n",
    "plt.errorbar(xcrossing,np.mean(data,axis=0),np.std(data,axis=0,ddof=1),marker='s',linestyle='',color='black')\n",
    "plt.title('Error + Bar')\n",
    "\n",
    "\n",
    "plt.xticks(xcrossing)\n",
    "plt.show()\n",
    "\n",
    "# show right tickmarks and corresponding bars beneath"
   ]
  },
  {
   "cell_type": "markdown",
   "id": "2fb4a61e",
   "metadata": {},
   "source": [
    "# day 54"
   ]
  },
  {
   "cell_type": "code",
   "execution_count": 14,
   "id": "847f8a51",
   "metadata": {},
   "outputs": [],
   "source": [
    "import matplotlib.pyplot as plt\n",
    "import pandas as pd\n",
    "import numpy as np\n",
    "import seaborn as sns"
   ]
  },
  {
   "cell_type": "markdown",
   "id": "04fd5058",
   "metadata": {},
   "source": [
    "# note about bars from matrices.\n"
   ]
  },
  {
   "cell_type": "code",
   "execution_count": 13,
   "id": "653d188a",
   "metadata": {},
   "outputs": [
    {
     "data": {
      "image/png": "[encoded data removed]",
      "text/plain": [
       "<Figure size 576x360 with 4 Axes>"
      ]
     },
     "metadata": {
      "needs_background": "light"
     },
     "output_type": "display_data"
    }
   ],
   "source": [
    "m = [[1,2,3,4],[2,4,6,8]]\n",
    "\n",
    "fig,ax = plt.subplots(nrows=2,ncols=2,figsize=(8,5))\n",
    "\n",
    "# for 0,0\n",
    "ax[0][0].imshow(m)\n",
    "\n",
    "# for 1,0\n",
    "# creating a dataframe and displaying things\n",
    "\n",
    "df = pd.DataFrame(m,columns=['prop0','prop1','prop2','prop3'])\n",
    "df.plot(ax=ax[1,0],kind='bar')\n",
    "ax[1,0].set_title('Grouping by Rows')\n",
    "\n",
    "# for 0,1\n",
    "ax[0,1].imshow(np.transpose(np.array(m)))\n",
    "\n",
    "# for 1,1\n",
    "df.T.plot(ax=ax[1,1],kind='bar')\n",
    "ax[1,1].set_title('Grouping by Cols')\n",
    "\n",
    "plt.tight_layout()\n",
    "plt.show()"
   ]
  },
  {
   "cell_type": "code",
   "execution_count": 9,
   "id": "da65535e",
   "metadata": {},
   "outputs": [
    {
     "data": {
      "text/html": [
       "<div>\n",
       "<style scoped>\n",
       "    .dataframe tbody tr th:only-of-type {\n",
       "        vertical-align: middle;\n",
       "    }\n",
       "\n",
       "    .dataframe tbody tr th {\n",
       "        vertical-align: top;\n",
       "    }\n",
       "\n",
       "    .dataframe thead th {\n",
       "        text-align: right;\n",
       "    }\n",
       "</style>\n",
       "<table border=\"1\" class=\"dataframe\">\n",
       "  <thead>\n",
       "    <tr style=\"text-align: right;\">\n",
       "      <th></th>\n",
       "      <th>prop0</th>\n",
       "      <th>prop1</th>\n",
       "      <th>prop2</th>\n",
       "      <th>prop3</th>\n",
       "    </tr>\n",
       "  </thead>\n",
       "  <tbody>\n",
       "    <tr>\n",
       "      <th>0</th>\n",
       "      <td>1</td>\n",
       "      <td>2</td>\n",
       "      <td>3</td>\n",
       "      <td>4</td>\n",
       "    </tr>\n",
       "    <tr>\n",
       "      <th>1</th>\n",
       "      <td>2</td>\n",
       "      <td>4</td>\n",
       "      <td>6</td>\n",
       "      <td>8</td>\n",
       "    </tr>\n",
       "  </tbody>\n",
       "</table>\n",
       "</div>"
      ],
      "text/plain": [
       "   prop0  prop1  prop2  prop3\n",
       "0      1      2      3      4\n",
       "1      2      4      6      8"
      ]
     },
     "execution_count": 9,
     "metadata": {},
     "output_type": "execute_result"
    }
   ],
   "source": [
    "df"
   ]
  },
  {
   "cell_type": "code",
   "execution_count": 21,
   "id": "67879a73",
   "metadata": {},
   "outputs": [
    {
     "data": {
      "image/png": "[encoded data removed]",
      "text/plain": [
       "<Figure size 432x288 with 1 Axes>"
      ]
     },
     "metadata": {
      "needs_background": "light"
     },
     "output_type": "display_data"
    }
   ],
   "source": [
    "m = 30 # rows\n",
    "n = 6 # cols\n",
    "\n",
    "d = np.zeros((m,n))\n",
    "\n",
    "# seeding the random numbers\n",
    "np.random.seed(42)\n",
    "\n",
    "# filling the data 'column wise' with some random, off-the-cuff numbers! \n",
    "for i in range(0,n):\n",
    "    d[:,i] = 30*np.random.randn(m) * (2*i/(n-1)-1)**2 + (i+1)**2\n",
    "    \n",
    "plt.boxplot(d)\n",
    "\n",
    "plt.show()"
   ]
  },
  {
   "cell_type": "code",
   "execution_count": 5,
   "id": "79f0eeee",
   "metadata": {},
   "outputs": [
    {
     "data": {
      "image/png": "[encoded data removed]",
      "text/plain": [
       "<Figure size 900x600 with 1 Axes>"
      ]
     },
     "metadata": {
      "needs_background": "light"
     },
     "output_type": "display_data"
    }
   ],
   "source": [
    "m = 30 # rows\n",
    "n = 6 # cols\n",
    "\n",
    "d = np.zeros((m,n))\n",
    "\n",
    "# seeding the random numbers\n",
    "np.random.seed(42)\n",
    "\n",
    "# filling the data 'column wise' with some random, off-the-cuff numbers! \n",
    "for i in range(0,n):\n",
    "    d[:,i] = 30*np.random.randn(m) * (2*i/(n-1)-1)**2 + (i+1)**2\n",
    "    \n",
    "plt.figure(dpi=150)\n",
    "sns.boxplot(data=d,orient='v',showfliers=True)\n",
    "\n",
    "\n",
    "plt.show()\n",
    "\n",
    "\n",
    "# x axis represents the columns of the d\n",
    "# y axis represents the values of the d\n",
    "# if orient was 'h' the x axis will represent the values, y axis the columns."
   ]
  },
  {
   "cell_type": "code",
   "execution_count": 30,
   "id": "c4c34f5a",
   "metadata": {},
   "outputs": [
    {
     "data": {
      "text/plain": [
       "array([[ 15.90142459,  -2.49843141,   8.42499091,  16.11649306,\n",
       "         33.54314503,  43.51478551],\n",
       "       [ -3.14792904,  24.00460439,   8.77720923,  17.16237399,\n",
       "         15.17861549,  46.39344628],\n",
       "       [ 20.43065614,   3.85422997,   7.67239803,  15.15753629,\n",
       "         40.15017856,  15.59925835],\n",
       "       [ 46.69089569,  -7.42327803,   7.56455205,  15.60680542,\n",
       "          9.86000852,  42.96761091],\n",
       "       [ -6.02460124,  12.88348505,   9.97503099,  15.52947022,\n",
       "         31.33805661,  44.7921742 ],\n",
       "       [ -6.02410871,  -9.18511142,  10.62748803,  14.24378206,\n",
       "         48.65692076,  14.56945746],\n",
       "       [ 48.37638447,   6.25572683,   8.91358785,  16.35534433,\n",
       "         14.30220769,  91.97323533],\n",
       "       [ 24.02304187, -17.16443734,  10.20423948,  16.31326633,\n",
       "         18.88398452,  50.21498763],\n",
       "       [-13.08423158, -10.34440933,   9.43396323,  16.00613615,\n",
       "         26.07623474,   0.26089508],\n",
       "       [ 17.27680131,   6.12610135,   8.22585629,  15.71849544,\n",
       "         19.56246294,  55.69660826],\n",
       "       [-12.90253078,  11.97543906,   9.43367473,  14.30155511,\n",
       "          8.25283494,   6.75954989],\n",
       "       [-12.97189261,   5.85077744,  10.84564388,  15.49522561,\n",
       "         25.74048013,  59.61253811],\n",
       "       [  8.25886815,   2.75099855,   8.95700875,  15.58874258,\n",
       "         13.52711989,  70.75786737],\n",
       "       [-56.39840734,   0.74808009,  10.87757239,  15.03726728,\n",
       "         30.11479825,  11.37953045],\n",
       "       [-50.74753498, -11.9680375 ,   5.85630588,  15.80645715,\n",
       "         15.07021827,  64.90128388],\n",
       "       [-15.86862588,  -3.77431745,   9.98628301,  16.48486103,\n",
       "         41.73929157,  48.38342781],\n",
       "       [-29.38493361,  -0.97489873,   9.10445648,  18.26342308,\n",
       "         16.54086444,  60.6618048 ],\n",
       "       [ 10.42741998,  15.41692004,   8.64119118,  16.20949338,\n",
       "         21.52173562,  92.90378948],\n",
       "       [-26.24072227,   7.71107753,   9.11011293,  16.30906047,\n",
       "         33.78598595,  28.63835652],\n",
       "       [-41.36911104, -15.04083368,   6.6149173 ,  15.9106649 ,\n",
       "         11.70666538,  13.38791507],\n",
       "       [ 44.96946307,   7.50010687,   8.73639373,  13.69747454,\n",
       "         27.45656729,   9.31456711],\n",
       "       [ -5.77328901,  -0.15888863,   9.42853509,  15.96818335,\n",
       "         39.11714175,  11.52569145],\n",
       "       [  3.02584614,  -3.3107576 ,  10.77347285,  16.07227625,\n",
       "          7.63918107,  33.68694872],\n",
       "       [-41.74244559,  10.60610392,   8.37807574,  18.95589053,\n",
       "         26.99404567,  46.23455924],\n",
       "       [-15.33148174,  15.13479484,   8.02980768,  15.76916684,\n",
       "         27.80673418,  44.30072398],\n",
       "       [  4.32767769,  14.05782529,   8.39789155,  16.36185681,\n",
       "         33.44368702,  60.81549747],\n",
       "       [-33.52980732,  -5.06354925,  10.09848254,  15.95834588,\n",
       "         11.64093232,  36.39005676],\n",
       "       [ 12.27094055,   0.66050634,   9.39450133,  14.59758635,\n",
       "         10.73906858,  79.60602231],\n",
       "       [-17.0191607 ,   7.57764506,   8.36428776,  17.37138738,\n",
       "         30.63696891,  28.060295  ],\n",
       "       [ -7.75081249,  14.53588737,   9.61592092,  16.90231964,\n",
       "         28.20743447, 117.605075  ]])"
      ]
     },
     "execution_count": 30,
     "metadata": {},
     "output_type": "execute_result"
    }
   ],
   "source": [
    "d"
   ]
  },
  {
   "cell_type": "markdown",
   "id": "ea6aa221",
   "metadata": {},
   "source": [
    "# day 55"
   ]
  },
  {
   "cell_type": "code",
   "execution_count": 8,
   "id": "59343a32",
   "metadata": {},
   "outputs": [],
   "source": [
    "import numpy as np\n",
    "import pandas as pd\n",
    "import matplotlib.pyplot as plt\n",
    "import seaborn as sns"
   ]
  },
  {
   "cell_type": "code",
   "execution_count": 37,
   "id": "8ff46d72",
   "metadata": {},
   "outputs": [
    {
     "data": {
      "image/png": "[encoded data removed]",
      "text/plain": [
       "<Figure size 432x288 with 1 Axes>"
      ]
     },
     "metadata": {
      "needs_background": "light"
     },
     "output_type": "display_data"
    },
    {
     "data": {
      "image/png": "[encoded data removed]",
      "text/plain": [
       "<Figure size 432x288 with 1 Axes>"
      ]
     },
     "metadata": {
      "needs_background": "light"
     },
     "output_type": "display_data"
    }
   ],
   "source": [
    "# data 1 is composed of numbers from a random normal distribution\n",
    "N = 6\n",
    "\n",
    "\n",
    "data1 =  np.random.randn(N,N) # mean 0, std 1\n",
    "\n",
    "# creating the DataFrame \n",
    "df = pd.DataFrame(data1,columns=['One','Two','Three','Four','Five','Six'])\n",
    "\n",
    "\n",
    "# showing the plot in seaborn \n",
    "sns.boxplot(data=df)\n",
    "plt.show()\n",
    "\n",
    "# showing the plot in vanilla matplotlib\n",
    "plt.boxplot(df)\n",
    "\n",
    "plt.show()\n"
   ]
  },
  {
   "cell_type": "code",
   "execution_count": 40,
   "id": "9032b7ed",
   "metadata": {},
   "outputs": [
    {
     "data": {
      "image/png": "[encoded data removed]",
      "text/plain": [
       "<Figure size 432x288 with 1 Axes>"
      ]
     },
     "metadata": {
      "needs_background": "light"
     },
     "output_type": "display_data"
    },
    {
     "data": {
      "image/png": "[encoded data removed]",
      "text/plain": [
       "<Figure size 432x288 with 1 Axes>"
      ]
     },
     "metadata": {
      "needs_background": "light"
     },
     "output_type": "display_data"
    }
   ],
   "source": [
    "# data 1 is composed of numbers from a random uniform distribution\n",
    "N = 6\n",
    "\n",
    "\n",
    "data1 =  np.random.rand(N,N) # mean 0, std 1\n",
    "\n",
    "# creating the DataFrame \n",
    "df = pd.DataFrame(data1,columns=['One','Two','Three','Four','Five','Six'])\n",
    "\n",
    "\n",
    "# showing the plot in seaborn \n",
    "sns.boxplot(data=df)\n",
    "plt.show()\n",
    "\n",
    "# showing the plot in vanilla matplotlib\n",
    "plt.boxplot(df)\n",
    "\n",
    "plt.show()\n"
   ]
  },
  {
   "cell_type": "markdown",
   "id": "919f5b0c",
   "metadata": {},
   "source": [
    "# conclusion: smaller the box the numbers are within a big range, larger the box in box plot, smaller range within which the numbers fall."
   ]
  },
  {
   "cell_type": "code",
   "execution_count": null,
   "id": "b2e090a9",
   "metadata": {},
   "outputs": [],
   "source": []
  },
  {
   "cell_type": "markdown",
   "id": "0e44b008",
   "metadata": {},
   "source": [
    "# Histograms\n",
    "\n",
    "* difference between histogram and barplot\n",
    "* barplot has discrete nominal values on the x axis. swapping the location of the values of the x axis would make sense still.\n",
    "* histrogram has continuous binned values on the x axis. the values must be in order. swapping the locations of the values of the x axis in a mumbo jumbo fashion would not make sense.\n",
    "\n",
    "# no of bins on Histogram determination:\n",
    "\n",
    "* "
   ]
  },
  {
   "cell_type": "code",
   "execution_count": 61,
   "id": "080fcd08",
   "metadata": {},
   "outputs": [
    {
     "data": {
      "image/png": "[encoded data removed]",
      "text/plain": [
       "<Figure size 432x288 with 1 Axes>"
      ]
     },
     "metadata": {
      "needs_background": "light"
     },
     "output_type": "display_data"
    },
    {
     "data": {
      "image/png": "[encoded data removed]",
      "text/plain": [
       "<Figure size 432x288 with 1 Axes>"
      ]
     },
     "metadata": {
      "needs_background": "light"
     },
     "output_type": "display_data"
    },
    {
     "data": {
      "image/png": "[encoded data removed]",
      "text/plain": [
       "<Figure size 432x288 with 1 Axes>"
      ]
     },
     "metadata": {
      "needs_background": "light"
     },
     "output_type": "display_data"
    }
   ],
   "source": [
    "# no of data points\n",
    "n = 1000\n",
    "\n",
    "# data\n",
    "data = np.exp(np.random.randn(n)/2)\n",
    "\n",
    "# plotting just the data\n",
    "plt.plot(data,'o')\n",
    "plt.show()\n",
    "\n",
    "# no of bins\n",
    "b = 50\n",
    "\n",
    "# plotting the data as histogram\n",
    "plt.hist(data,bins=b)\n",
    "plt.show()\n",
    "\n",
    "# plotting the histogram as a line, outlining only the boundaries. \n",
    "y,x = np.histogram(data,bins=b)\n",
    "\n",
    "# bin centres \n",
    "xx = (x[1:] + x[:-1])/2\n",
    "\n",
    "plt.plot(xx,y)\n",
    "plt.show()"
   ]
  },
  {
   "cell_type": "code",
   "execution_count": 54,
   "id": "9c079b0b",
   "metadata": {},
   "outputs": [
    {
     "data": {
      "text/plain": [
       "array([ 18,  37,  82,  97, 126, 123, 103,  75,  78,  49,  43,  36,  25,\n",
       "        28,  15,  15,  13,   5,   8,   3,   2,   3,   1,   2,   5,   3,\n",
       "         2,   0,   1,   0,   0,   0,   0,   0,   0,   0,   0,   0,   1,\n",
       "         1], dtype=int64)"
      ]
     },
     "execution_count": 54,
     "metadata": {},
     "output_type": "execute_result"
    }
   ],
   "source": [
    "y"
   ]
  },
  {
   "cell_type": "code",
   "execution_count": 55,
   "id": "50a36f3c",
   "metadata": {},
   "outputs": [
    {
     "data": {
      "text/plain": [
       "array([0.18492785, 0.31564056, 0.44635328, 0.577066  , 0.70777872,\n",
       "       0.83849144, 0.96920416, 1.09991688, 1.2306296 , 1.36134231,\n",
       "       1.49205503, 1.62276775, 1.75348047, 1.88419319, 2.01490591,\n",
       "       2.14561863, 2.27633134, 2.40704406, 2.53775678, 2.6684695 ,\n",
       "       2.79918222, 2.92989494, 3.06060766, 3.19132037, 3.32203309,\n",
       "       3.45274581, 3.58345853, 3.71417125, 3.84488397, 3.97559669,\n",
       "       4.10630941, 4.23702212, 4.36773484, 4.49844756, 4.62916028,\n",
       "       4.759873  , 4.89058572, 5.02129844, 5.15201115, 5.28272387,\n",
       "       5.41343659])"
      ]
     },
     "execution_count": 55,
     "metadata": {},
     "output_type": "execute_result"
    }
   ],
   "source": [
    "x"
   ]
  },
  {
   "cell_type": "code",
   "execution_count": 59,
   "id": "f73f3c10",
   "metadata": {},
   "outputs": [
    {
     "data": {
      "text/plain": [
       "array([0.24696794, 0.36242862, 0.4778893 , 0.59334997, 0.70881065,\n",
       "       0.82427133, 0.939732  , 1.05519268, 1.17065336, 1.28611404,\n",
       "       1.40157471, 1.51703539, 1.63249607, 1.74795674, 1.86341742,\n",
       "       1.9788781 , 2.09433878, 2.20979945, 2.32526013, 2.44072081,\n",
       "       2.55618149, 2.67164216, 2.78710284, 2.90256352, 3.01802419,\n",
       "       3.13348487, 3.24894555, 3.36440623, 3.4798669 , 3.59532758,\n",
       "       3.71078826, 3.82624893, 3.94170961, 4.05717029, 4.17263097,\n",
       "       4.28809164, 4.40355232, 4.519013  , 4.63447368, 4.74993435])"
      ]
     },
     "execution_count": 59,
     "metadata": {},
     "output_type": "execute_result"
    }
   ],
   "source": [
    "xx"
   ]
  },
  {
   "cell_type": "code",
   "execution_count": null,
   "id": "ed76924c",
   "metadata": {},
   "outputs": [],
   "source": []
  },
  {
   "cell_type": "markdown",
   "id": "cdb6ab83",
   "metadata": {},
   "source": [
    "# day 57,day 59, day 60"
   ]
  },
  {
   "cell_type": "code",
   "execution_count": 2,
   "id": "e60b9f0e",
   "metadata": {},
   "outputs": [],
   "source": [
    "import numpy as np\n",
    "import sympy as sym\n",
    "import matplotlib.pyplot as plt\n",
    "sym.init_printing()\n",
    "import seaborn as sns"
   ]
  },
  {
   "cell_type": "markdown",
   "id": "92b0795d",
   "metadata": {},
   "source": [
    "# plotting the histogram (percentage in the y axis) "
   ]
  },
  {
   "cell_type": "code",
   "execution_count": 2,
   "id": "eb012590",
   "metadata": {},
   "outputs": [
    {
     "data": {
      "image/png": "[encoded data removed]",
      "text/plain": [
       "<Figure size 432x288 with 1 Axes>"
      ]
     },
     "metadata": {
      "needs_background": "light"
     },
     "output_type": "display_data"
    }
   ],
   "source": [
    "N = 1000\n",
    "data = np.random.randn(N)\n",
    "\n",
    "# edgecolor puts the lines between bars of the histogram.\n",
    "# density = True normalizes the histogram (make the y display proportion instead of counts)\n",
    "plt.hist(x = data,bins=20,edgecolor='black',density=True)\n",
    "\n",
    "\n",
    "plt.show()"
   ]
  },
  {
   "cell_type": "code",
   "execution_count": null,
   "id": "9724188a",
   "metadata": {},
   "outputs": [],
   "source": []
  },
  {
   "cell_type": "code",
   "execution_count": 15,
   "id": "6c6ab6da",
   "metadata": {},
   "outputs": [
    {
     "data": {
      "image/png": "[encoded data removed]",
      "text/plain": [
       "<Figure size 432x288 with 1 Axes>"
      ]
     },
     "metadata": {
      "needs_background": "light"
     },
     "output_type": "display_data"
    }
   ],
   "source": [
    "N = 1000\n",
    "data = np.random.randn(N)\n",
    "\n",
    "\n",
    "# density = True normalizes the histogram (make the y display proportion instead of counts)\n",
    "plt.hist(x = data,bins=20,edgecolor='black',density=True)\n",
    "\n",
    "# formatting the y ticks\n",
    "y_vals, useless = plt.yticks()\n",
    "y_tick_labels = ['{:.1f}'.format(y_val*100) for y_val in y_vals]\n",
    "plt.yticks(y_vals, y_tick_labels)\n",
    "\n",
    "plt.show()"
   ]
  },
  {
   "cell_type": "markdown",
   "id": "b7749658",
   "metadata": {},
   "source": [
    "# try to understand the code written up above. especially the y_ticks part"
   ]
  },
  {
   "cell_type": "code",
   "execution_count": 14,
   "id": "9a1597a7",
   "metadata": {},
   "outputs": [
    {
     "data": {
      "text/plain": [
       "array([0.  , 0.05, 0.1 , 0.15, 0.2 , 0.25, 0.3 , 0.35, 0.4 , 0.45])"
      ]
     },
     "execution_count": 14,
     "metadata": {},
     "output_type": "execute_result"
    }
   ],
   "source": [
    "y_vals\n",
    "\n"
   ]
  },
  {
   "cell_type": "code",
   "execution_count": 13,
   "id": "959f5d28",
   "metadata": {},
   "outputs": [
    {
     "data": {
      "text/plain": [
       "[Text(0, 0.0, '0.0%'),\n",
       " Text(0, 0.05, '5.0%'),\n",
       " Text(0, 0.1, '10.0%'),\n",
       " Text(0, 0.15000000000000002, '15.0%'),\n",
       " Text(0, 0.2, '20.0%'),\n",
       " Text(0, 0.25, '25.0%'),\n",
       " Text(0, 0.30000000000000004, '30.0%'),\n",
       " Text(0, 0.35000000000000003, '35.0%'),\n",
       " Text(0, 0.4, '40.0%'),\n",
       " Text(0, 0.45, '45.0%')]"
      ]
     },
     "execution_count": 13,
     "metadata": {},
     "output_type": "execute_result"
    }
   ],
   "source": [
    "useless"
   ]
  },
  {
   "cell_type": "markdown",
   "id": "e72de69c",
   "metadata": {},
   "source": [
    "# pie chart\n",
    "\n",
    "* pie chart supports of data type: ordinal, nominal, and discrete\n",
    "* pie chart does not support of data type: continuous, more than 10 variables each taking a pie, it will make the pie look ugly with many intersections of variables obscuring each other.\n",
    "* you have to normalise the values of all the variables to have values between (0 and 1) or (0 and 1) to have them fit inside the pie chart.\n",
    "* note! when the variables have values in count, normalize them to have values between 0 and 1.\n",
    "* don't plot continuous data such as 1.233,3.4444,9.940922872 in pie, plot only discrete data like 2,3,5,4"
   ]
  },
  {
   "cell_type": "code",
   "execution_count": 20,
   "id": "cfa32463",
   "metadata": {},
   "outputs": [
    {
     "data": {
      "text/plain": [
       "array([0.5       , 0.51175516, 0.52378669, 0.53610109, 0.548705  ,\n",
       "       0.56160523, 0.57480875, 0.58832269, 0.60215435, 0.61631119,\n",
       "       0.63080087, 0.6456312 , 0.6608102 , 0.67634606, 0.69224717,\n",
       "       0.70852213, 0.72517972, 0.74222893, 0.75967897, 0.77753927,\n",
       "       0.79581947, 0.81452944, 0.83367929, 0.85327936, 0.87334024,\n",
       "       0.89387275, 0.91488799, 0.9363973 , 0.9584123 , 0.98094489,\n",
       "       1.00400722, 1.02761175, 1.05177124, 1.07649872, 1.10180755,\n",
       "       1.12771141, 1.15422427, 1.18136045, 1.20913462, 1.23756177,\n",
       "       1.26665725, 1.29643677, 1.32691642, 1.35811265, 1.39004232,\n",
       "       1.42272267, 1.45617134, 1.4904064 , 1.52544633, 1.56131007,\n",
       "       1.59801698, 1.63558687, 1.67404005, 1.71339728, 1.7536798 ,\n",
       "       1.79490938, 1.83710828, 1.88029929, 1.92450574, 1.96975149,\n",
       "       2.01606099, 2.06345923, 2.11197183, 2.16162497, 2.21244548,\n",
       "       2.26446079, 2.31769899, 2.37218885, 2.42795977, 2.4850419 ,\n",
       "       2.54346604, 2.60326375, 2.66446732, 2.72710981, 2.79122505,\n",
       "       2.85684765, 2.92401306, 2.99275756, 3.06311826, 3.13513316,\n",
       "       3.20884116, 3.28428205, 3.36149659, 3.44052646, 3.52141435,\n",
       "       3.60420395, 3.68893995, 3.77566812, 3.8644353 , 3.95528943,\n",
       "       4.04827957, 4.14345593, 4.24086992, 4.34057415, 4.44262245,\n",
       "       4.54706995, 4.65397303, 4.76338945, 4.87537828, 4.99      ])"
      ]
     },
     "execution_count": 20,
     "metadata": {},
     "output_type": "execute_result"
    }
   ],
   "source": [
    "y = np.logspace(np.log10(1/2),np.log10(5-0.01),100) # 100 numbers from 0.5 and 4.9\n",
    "\n",
    "y"
   ]
  },
  {
   "cell_type": "markdown",
   "id": "d382f5fb",
   "metadata": {},
   "source": [
    "### using ceiling function discretize the continuous values"
   ]
  },
  {
   "cell_type": "code",
   "execution_count": 21,
   "id": "b573a120",
   "metadata": {},
   "outputs": [
    {
     "data": {
      "text/plain": [
       "array([1., 1., 1., 1., 1., 1., 1., 1., 1., 1., 1., 1., 1., 1., 1., 1., 1.,\n",
       "       1., 1., 1., 1., 1., 1., 1., 1., 1., 1., 1., 1., 1., 2., 2., 2., 2.,\n",
       "       2., 2., 2., 2., 2., 2., 2., 2., 2., 2., 2., 2., 2., 2., 2., 2., 2.,\n",
       "       2., 2., 2., 2., 2., 2., 2., 2., 2., 3., 3., 3., 3., 3., 3., 3., 3.,\n",
       "       3., 3., 3., 3., 3., 3., 3., 3., 3., 3., 4., 4., 4., 4., 4., 4., 4.,\n",
       "       4., 4., 4., 4., 4., 5., 5., 5., 5., 5., 5., 5., 5., 5., 5.])"
      ]
     },
     "execution_count": 21,
     "metadata": {},
     "output_type": "execute_result"
    }
   ],
   "source": [
    "discretize = np.ceil(y)\n",
    "discretize"
   ]
  },
  {
   "cell_type": "markdown",
   "id": "39e66392",
   "metadata": {},
   "source": [
    "### find the first index of a number in a numpy array."
   ]
  },
  {
   "cell_type": "code",
   "execution_count": 10,
   "id": "fa652e68",
   "metadata": {},
   "outputs": [
    {
     "data": {
      "text/plain": [
       "31"
      ]
     },
     "execution_count": 10,
     "metadata": {},
     "output_type": "execute_result"
    }
   ],
   "source": [
    "index = np.where(discretize == 2)[0][0]\n",
    "index"
   ]
  },
  {
   "cell_type": "code",
   "execution_count": 12,
   "id": "786e22ee",
   "metadata": {},
   "outputs": [
    {
     "data": {
      "text/plain": [
       "31"
      ]
     },
     "execution_count": 12,
     "metadata": {},
     "output_type": "execute_result"
    }
   ],
   "source": [
    "index = np.argmax(discretize == 2)\n",
    "index"
   ]
  },
  {
   "cell_type": "markdown",
   "id": "1af3be3e",
   "metadata": {},
   "source": [
    "### finding the unique numbers of discretize"
   ]
  },
  {
   "cell_type": "code",
   "execution_count": 22,
   "id": "1575eaef",
   "metadata": {},
   "outputs": [
    {
     "data": {
      "text/plain": [
       "array([1., 2., 3., 4., 5.])"
      ]
     },
     "execution_count": 22,
     "metadata": {},
     "output_type": "execute_result"
    }
   ],
   "source": [
    "unique_nums = np.unique(discretize)\n",
    "unique_nums"
   ]
  },
  {
   "cell_type": "markdown",
   "id": "422d2296",
   "metadata": {},
   "source": [
    "### creating the data4pie"
   ]
  },
  {
   "cell_type": "code",
   "execution_count": 23,
   "id": "c83994a2",
   "metadata": {},
   "outputs": [
    {
     "data": {
      "text/plain": [
       "array([30., 30., 18., 12., 10.])"
      ]
     },
     "execution_count": 23,
     "metadata": {},
     "output_type": "execute_result"
    }
   ],
   "source": [
    "data4pie = np.zeros(len(unique_nums))\n",
    "for i in range(len(unique_nums)):\n",
    "    data4pie[i] = sum(discretize == unique_nums[i])\n",
    "    \n",
    "data4pie"
   ]
  },
  {
   "cell_type": "markdown",
   "id": "c71e0497",
   "metadata": {},
   "source": [
    "### creating the pie chart"
   ]
  },
  {
   "cell_type": "code",
   "execution_count": 24,
   "id": "c6fa8b48",
   "metadata": {},
   "outputs": [
    {
     "data": {
      "image/png": "[encoded data removed]",
      "text/plain": [
       "<Figure size 432x288 with 1 Axes>"
      ]
     },
     "metadata": {},
     "output_type": "display_data"
    }
   ],
   "source": [
    "plt.pie(data4pie,labels=data4pie/sum(data4pie)*100)\n",
    "plt.show()"
   ]
  },
  {
   "cell_type": "code",
   "execution_count": 26,
   "id": "97111695",
   "metadata": {},
   "outputs": [
    {
     "data": {
      "image/png": "[encoded data removed]",
      "text/plain": [
       "<Figure size 432x288 with 1 Axes>"
      ]
     },
     "metadata": {},
     "output_type": "display_data"
    }
   ],
   "source": [
    "# labelling the real components of the unique_nums\n",
    "\n",
    "plt.pie(data4pie,labels=[i for i in unique_nums]) \n",
    "# this is list comprehension type of labelling you can learn it from chatgpt\n",
    "\n",
    "plt.show()"
   ]
  },
  {
   "cell_type": "code",
   "execution_count": 28,
   "id": "008f4895",
   "metadata": {},
   "outputs": [
    {
     "data": {
      "image/png": "[encoded data removed]",
      "text/plain": [
       "<Figure size 432x288 with 1 Axes>"
      ]
     },
     "metadata": {},
     "output_type": "display_data"
    }
   ],
   "source": [
    "# exploding the pies\n",
    "\n",
    "plt.pie(data4pie,labels=[i for i in unique_nums],explode=[0.3,0.1,0.1,0.3,0.2])\n",
    "plt.show()"
   ]
  },
  {
   "cell_type": "code",
   "execution_count": 29,
   "id": "875a80ec",
   "metadata": {},
   "outputs": [
    {
     "data": {
      "text/plain": [
       "array([0.20623142, 0.40099237, 0.0649182 , 0.60586248, 0.80052196])"
      ]
     },
     "execution_count": 29,
     "metadata": {},
     "output_type": "execute_result"
    }
   ],
   "source": [
    "np.random.rand(5)"
   ]
  },
  {
   "cell_type": "code",
   "execution_count": 31,
   "id": "c2e75c8f",
   "metadata": {},
   "outputs": [
    {
     "data": {
      "image/png": "[encoded data removed]",
      "text/plain": [
       "<Figure size 432x288 with 1 Axes>"
      ]
     },
     "metadata": {},
     "output_type": "display_data"
    }
   ],
   "source": [
    "# exploding the pies\n",
    "\n",
    "plt.pie(data4pie,labels=[i for i in unique_nums],explode=[i for i in np.random.rand(5)])\n",
    "plt.show()"
   ]
  },
  {
   "cell_type": "markdown",
   "id": "e464b72d",
   "metadata": {},
   "source": [
    "# day 61"
   ]
  },
  {
   "cell_type": "code",
   "execution_count": 1,
   "id": "abd8f197",
   "metadata": {},
   "outputs": [],
   "source": [
    "import numpy as np\n",
    "import sympy as sym\n",
    "from IPython.display import display,Math\n",
    "sym.init_printing()\n",
    "import matplotlib.pyplot as plt\n"
   ]
  },
  {
   "cell_type": "markdown",
   "id": "8af0b50f",
   "metadata": {},
   "source": [
    "# When to use Lines and When Bars?\n",
    "\n",
    "* Lines are useful when both x axis and y axis are continuous.\n",
    "\n",
    "* for discrete categorical values on x or y axis, Lines are not appropriate. Use Bars instead.\n",
    "\n",
    "* Lines are more appropriate when you have too many Bars on the plot. peaks and troughs of the Bars can be traced to plot a Line instead to make the plot look SMOOTH.\n",
    "\n",
    "\n"
   ]
  },
  {
   "cell_type": "code",
   "execution_count": 2,
   "id": "8518bf64",
   "metadata": {},
   "outputs": [
    {
     "data": {
      "image/png": "[encoded data removed]",
      "text/plain": [
       "<Figure size 432x288 with 1 Axes>"
      ]
     },
     "metadata": {
      "needs_background": "light"
     },
     "output_type": "display_data"
    },
    {
     "data": {
      "image/png": "[encoded data removed]",
      "text/plain": [
       "<Figure size 432x288 with 1 Axes>"
      ]
     },
     "metadata": {
      "needs_background": "light"
     },
     "output_type": "display_data"
    }
   ],
   "source": [
    "# visualizing\n",
    "\n",
    "N = 1000\n",
    "\n",
    "# generate log-normal distribution\n",
    "data1 = np.exp(np.random.randn(N)/2)\n",
    "data2 = np.exp(np.random.randn(N)/10)\n",
    "data3 = np.exp(np.random.randn(N)/2 + 1)\n",
    "\n",
    "# Histogram plots of these data\n",
    "\n",
    "# number of bins\n",
    "binsa = 20\n",
    "\n",
    "# plotting\n",
    "plt.hist(data1, bins=binsa, edgecolor='k')\n",
    "plt.hist(data2, bins=binsa, edgecolor='k')\n",
    "plt.hist(data3, bins=binsa, edgecolor='k')\n",
    "\n",
    "plt.show()\n",
    "\n",
    "# Line plots of these data\n",
    "y1,x1 = np.histogram(data1,bins=binsa)\n",
    "xx1 = (x1[0:-1] + x1[1:])/2\n",
    "y1 = y1/sum(y1)\n",
    "\n",
    "y2,x2 = np.histogram(data2,bins=binsa)\n",
    "xx2 = (x2[0:-1] + x2[1:])/2\n",
    "y2 = y2/sum(y2)\n",
    "\n",
    "y3,x3 = np.histogram(data3,bins=binsa)\n",
    "xx3 = (x3[0:-1] + x3[1:])/2\n",
    "y3 = y3/sum(y3)\n",
    "\n",
    "\n",
    "# plotting\n",
    "plt.plot(xx1,y1,'s-',label='data1')\n",
    "plt.plot(xx2,y2,'o-',label='data2')\n",
    "plt.plot(xx3,y3,'^-',label='data3')\n",
    "\n",
    "\n",
    "plt.show()\n",
    "\n",
    "# line plots are better for interpretation here. "
   ]
  },
  {
   "cell_type": "code",
   "execution_count": 6,
   "id": "879621b0",
   "metadata": {},
   "outputs": [
    {
     "data": {
      "text/plain": [
       "array([0.21027066, 0.47145076, 0.73263087, 0.99381098, 1.25499108,\n",
       "       1.51617119, 1.77735129, 2.0385314 , 2.29971151, 2.56089161,\n",
       "       2.82207172, 3.08325183, 3.34443193, 3.60561204, 3.86679214,\n",
       "       4.12797225, 4.38915236, 4.65033246, 4.91151257, 5.17269268,\n",
       "       5.43387278])"
      ]
     },
     "execution_count": 6,
     "metadata": {},
     "output_type": "execute_result"
    }
   ],
   "source": [
    "x1"
   ]
  },
  {
   "cell_type": "code",
   "execution_count": 10,
   "id": "93e61473",
   "metadata": {},
   "outputs": [
    {
     "data": {
      "text/plain": [
       "array([ 66, 183, 228, 175, 129,  78,  55,  33,  21,  14,   7,   2,   1,\n",
       "         2,   2,   1,   1,   0,   0,   2], dtype=int64)"
      ]
     },
     "execution_count": 10,
     "metadata": {},
     "output_type": "execute_result"
    }
   ],
   "source": [
    "y1"
   ]
  },
  {
   "cell_type": "code",
   "execution_count": 14,
   "id": "2df62f75",
   "metadata": {},
   "outputs": [
    {
     "data": {
      "text/plain": [
       "array([0.30605234, 0.49500083, 0.68394931, 0.8728978 , 1.06184628,\n",
       "       1.25079476, 1.43974325, 1.62869173, 1.81764022, 2.0065887 ,\n",
       "       2.19553719, 2.38448567, 2.57343415, 2.76238264, 2.95133112,\n",
       "       3.14027961, 3.32922809, 3.51817657, 3.70712506, 3.89607354])"
      ]
     },
     "execution_count": 14,
     "metadata": {},
     "output_type": "execute_result"
    }
   ],
   "source": [
    "xx1"
   ]
  },
  {
   "cell_type": "code",
   "execution_count": 15,
   "id": "fa967a1b",
   "metadata": {},
   "outputs": [
    {
     "data": {
      "text/plain": [
       "array([0.034, 0.088, 0.163, 0.157, 0.143, 0.11 , 0.082, 0.068, 0.049,\n",
       "       0.031, 0.02 , 0.021, 0.008, 0.007, 0.003, 0.003, 0.004, 0.004,\n",
       "       0.003, 0.002])"
      ]
     },
     "execution_count": 15,
     "metadata": {},
     "output_type": "execute_result"
    }
   ],
   "source": [
    "y1"
   ]
  },
  {
   "cell_type": "code",
   "execution_count": 3,
   "id": "6c870f0c",
   "metadata": {},
   "outputs": [
    {
     "data": {
      "text/plain": [
       "array([1., 2., 3., 4., 5.])"
      ]
     },
     "execution_count": 3,
     "metadata": {},
     "output_type": "execute_result"
    }
   ],
   "source": [
    "x = np.linspace(1,5,5)\n",
    "x"
   ]
  },
  {
   "cell_type": "code",
   "execution_count": 4,
   "id": "10479524",
   "metadata": {},
   "outputs": [
    {
     "data": {
      "text/plain": [
       "array([1., 2., 3., 4.])"
      ]
     },
     "execution_count": 4,
     "metadata": {},
     "output_type": "execute_result"
    }
   ],
   "source": [
    "x[0:-1]"
   ]
  },
  {
   "cell_type": "code",
   "execution_count": 5,
   "id": "15f0f836",
   "metadata": {},
   "outputs": [
    {
     "data": {
      "text/plain": [
       "array([2., 3., 4., 5.])"
      ]
     },
     "execution_count": 5,
     "metadata": {},
     "output_type": "execute_result"
    }
   ],
   "source": [
    "x[1:]"
   ]
  },
  {
   "cell_type": "code",
   "execution_count": 7,
   "id": "0a6eae71",
   "metadata": {},
   "outputs": [
    {
     "data": {
      "text/plain": [
       "array([3., 5., 7., 9.])"
      ]
     },
     "execution_count": 7,
     "metadata": {},
     "output_type": "execute_result"
    }
   ],
   "source": [
    "xx1 =(x[0:-1]+x[1:])\n",
    "xx1"
   ]
  },
  {
   "cell_type": "code",
   "execution_count": 8,
   "id": "b60f4901",
   "metadata": {},
   "outputs": [
    {
     "data": {
      "text/plain": [
       "array([1.5, 2.5, 3.5, 4.5])"
      ]
     },
     "execution_count": 8,
     "metadata": {},
     "output_type": "execute_result"
    }
   ],
   "source": [
    "xx1 = (x[0:-1]+x[1:])/2\n",
    "xx1"
   ]
  },
  {
   "cell_type": "markdown",
   "id": "3b643e24",
   "metadata": {},
   "source": [
    "# Linear vs logarithmic-axis scaling\n",
    "\n",
    "* Most often we use Linear scales. But when the difference between differnt functions are so large that you can't capture it in a linear plot then use logarithmic scaling. "
   ]
  },
  {
   "cell_type": "markdown",
   "id": "b0dd8a7c",
   "metadata": {},
   "source": [
    "# day 63"
   ]
  },
  {
   "cell_type": "code",
   "execution_count": 1,
   "id": "be793f40",
   "metadata": {},
   "outputs": [],
   "source": [
    "import numpy as np\n",
    "import sympy as sym\n",
    "from IPython.display import display,Math\n",
    "sym.init_printing()\n",
    "import matplotlib.pyplot as plt"
   ]
  },
  {
   "cell_type": "code",
   "execution_count": 38,
   "id": "62cd2c45",
   "metadata": {},
   "outputs": [
    {
     "data": {
      "image/png": "[encoded data removed]",
      "text/plain": [
       "<Figure size 432x288 with 1 Axes>"
      ]
     },
     "metadata": {
      "needs_background": "light"
     },
     "output_type": "display_data"
    },
    {
     "data": {
      "image/png": "[encoded data removed]",
      "text/plain": [
       "<Figure size 432x288 with 1 Axes>"
      ]
     },
     "metadata": {
      "needs_background": "light"
     },
     "output_type": "display_data"
    }
   ],
   "source": [
    "# linear y axis\n",
    "\n",
    "x = np.linspace(0,4.5,100)\n",
    "y1 = x\n",
    "y2 = np.exp(x)\n",
    "\n",
    "# plotting the linear y axis\n",
    "plt.plot(x,y1,label='y=x')\n",
    "plt.plot(x,y2,label='$y=e^x$')\n",
    "\n",
    "plt.title('Linear y axis')\n",
    "plt.legend()\n",
    "\n",
    "plt.show()\n",
    "\n",
    "# logarithmic y axis\n",
    "plt.semilogy(x,y1,label='y=x')\n",
    "plt.semilogy(x,y2,label='$y=e^x$')\n",
    "\n",
    "plt.title('Logarithmic y axis')\n",
    "plt.legend()\n",
    "\n",
    "plt.show()"
   ]
  },
  {
   "cell_type": "code",
   "execution_count": 20,
   "id": "704fd402",
   "metadata": {},
   "outputs": [
    {
     "data": {
      "text/plain": [
       "array([1.00000000e-01, 1.20679264e-01, 1.45634848e-01, 1.75751062e-01,\n",
       "       2.12095089e-01, 2.55954792e-01, 3.08884360e-01, 3.72759372e-01,\n",
       "       4.49843267e-01, 5.42867544e-01, 6.55128557e-01, 7.90604321e-01,\n",
       "       9.54095476e-01, 1.15139540e+00, 1.38949549e+00, 1.67683294e+00,\n",
       "       2.02358965e+00, 2.44205309e+00, 2.94705170e+00, 3.55648031e+00,\n",
       "       4.29193426e+00, 5.17947468e+00, 6.25055193e+00, 7.54312006e+00,\n",
       "       9.10298178e+00, 1.09854114e+01, 1.32571137e+01, 1.59985872e+01,\n",
       "       1.93069773e+01, 2.32995181e+01, 2.81176870e+01, 3.39322177e+01,\n",
       "       4.09491506e+01, 4.94171336e+01, 5.96362332e+01, 7.19685673e+01,\n",
       "       8.68511374e+01, 1.04811313e+02, 1.26485522e+02, 1.52641797e+02,\n",
       "       1.84206997e+02, 2.22299648e+02, 2.68269580e+02, 3.23745754e+02,\n",
       "       3.90693994e+02, 4.71486636e+02, 5.68986603e+02, 6.86648845e+02,\n",
       "       8.28642773e+02, 1.00000000e+03])"
      ]
     },
     "execution_count": 20,
     "metadata": {},
     "output_type": "execute_result"
    }
   ],
   "source": [
    "x = np.logspace(-1,3)\n",
    "x"
   ]
  },
  {
   "cell_type": "code",
   "execution_count": 24,
   "id": "ab54461d",
   "metadata": {},
   "outputs": [
    {
     "data": {
      "text/plain": [
       "array([1.10517092e+00, 1.37194270e+00, 2.71828183e+00, 2.36243429e+01,\n",
       "       2.20264658e+04])"
      ]
     },
     "execution_count": 24,
     "metadata": {},
     "output_type": "execute_result"
    }
   ],
   "source": [
    "YLOG2"
   ]
  },
  {
   "cell_type": "code",
   "execution_count": null,
   "id": "0813f700",
   "metadata": {},
   "outputs": [],
   "source": []
  }
 ],
 "metadata": {
  "kernelspec": {
   "display_name": "Python 3 (ipykernel)",
   "language": "python",
   "name": "python3"
  },
  "language_info": {
   "codemirror_mode": {
    "name": "ipython",
    "version": 3
   },
   "file_extension": ".py",
   "mimetype": "text/x-python",
   "name": "python",
   "nbconvert_exporter": "python",
   "pygments_lexer": "ipython3",
   "version": "3.9.12"
  }
 },
 "nbformat": 4,
 "nbformat_minor": 5
}
