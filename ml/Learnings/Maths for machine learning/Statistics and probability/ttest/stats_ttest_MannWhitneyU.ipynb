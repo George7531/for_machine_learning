version https://git-lfs.github.com/spec/v1
oid sha256:f2cc287cdcde123ae739f0b1ec4a09a3625a046aec18f4ccc11f8d169d849d02
size 1950
