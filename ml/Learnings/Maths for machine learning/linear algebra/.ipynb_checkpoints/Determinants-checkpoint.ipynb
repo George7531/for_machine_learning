{
 "cells": [
  {
   "cell_type": "markdown",
   "id": "b502f3a7",
   "metadata": {},
   "source": [
    "# day 155 and day 158"
   ]
  },
  {
   "cell_type": "code",
   "execution_count": 1,
   "id": "2ee3812e",
   "metadata": {},
   "outputs": [],
   "source": [
    "import numpy as np\n",
    "import sympy as sym\n",
    "from IPython.display import display,Math\n",
    "sym.init_printing()\n",
    "import matplotlib.pyplot as plt"
   ]
  },
  {
   "cell_type": "markdown",
   "id": "1d0a77ce",
   "metadata": {},
   "source": [
    "# determinants:\n",
    "\n",
    "* **determinants exist only for square matrices.**\n",
    "* determinants(matrix) = 0 if matrix contains a set of linearly dependent columns or if the matrix is not full-rank\n",
    "\n",
    "\n",
    "# goal of our learning:\n",
    "* learn the uses of determinants.\n",
    "* learn the real-world applications of determinants.\n",
    "* learn the constraints/limitations of the determinants.\n",
    "\n",
    "# application of the determinant:\n",
    "* **inverse of the matrix:** determinants are used to find the inverse of a matrix. the inverse of the matrix does not exist if the determinant is equal to zero.\n",
    "\n",
    "* **Geometry:** if the matrix has coordinates that can take some shape in the space, determinant of the matrix takes the area/volume of plane,cube and so on, if the determinant is = 0 then the many coordinates of the matrix can be said to be linearly dependent. "
   ]
  },
  {
   "cell_type": "code",
   "execution_count": null,
   "id": "872e644d",
   "metadata": {},
   "outputs": [],
   "source": []
  },
  {
   "cell_type": "markdown",
   "id": "b9f1ddb8",
   "metadata": {},
   "source": [
    "# determinant of a 2*2 matrix\n",
    "\n",
    "# $$ \\text{mat =} \\begin{bmatrix}\n",
    "a && b \\\\\n",
    "c && d \\\\ \\end{bmatrix} $$\n",
    "\n",
    "# $$ \\text{det = ad - cb } $$"
   ]
  },
  {
   "cell_type": "code",
   "execution_count": 3,
   "id": "37e4d2dc",
   "metadata": {},
   "outputs": [
    {
     "data": {
      "image/png": "[encoded data removed]",
      "text/latex": [
       "$\\displaystyle -9.0$"
      ],
      "text/plain": [
       "-9.000000000000002"
      ]
     },
     "execution_count": 3,
     "metadata": {},
     "output_type": "execute_result"
    }
   ],
   "source": [
    "# matrix \n",
    "mat = np.array([[1,2],\n",
    "                [7,5]])\n",
    "\n",
    "# determinant of the 2*2 matrix\n",
    "det = np.linalg.det(mat)\n",
    "det"
   ]
  },
  {
   "cell_type": "code",
   "execution_count": 6,
   "id": "cc4af289",
   "metadata": {},
   "outputs": [
    {
     "data": {
      "image/png": "[encoded data removed]",
      "text/latex": [
       "$\\displaystyle 16.0$"
      ],
      "text/plain": [
       "15.999999999999998"
      ]
     },
     "execution_count": 6,
     "metadata": {},
     "output_type": "execute_result"
    }
   ],
   "source": [
    "# matrix \n",
    "mat = np.array([[4,np.exp(4)],\n",
    "                [0,4]])\n",
    "\n",
    "# determinant of the 2*2 matrix\n",
    "det = np.linalg.det(mat)\n",
    "det"
   ]
  },
  {
   "cell_type": "code",
   "execution_count": 10,
   "id": "cf74a4f4",
   "metadata": {},
   "outputs": [
    {
     "data": {
      "image/png": "[encoded data removed]",
      "text/latex": [
       "$\\displaystyle 1.0$"
      ],
      "text/plain": [
       "1.0"
      ]
     },
     "execution_count": 10,
     "metadata": {},
     "output_type": "execute_result"
    }
   ],
   "source": [
    "# matrix \n",
    "mat = np.array([[1,0],\n",
    "                [0,1]])\n",
    "\n",
    "# determinant of the 2*2 identity matrix\n",
    "det = np.linalg.det(mat)\n",
    "det"
   ]
  },
  {
   "cell_type": "code",
   "execution_count": 9,
   "id": "14cb0375",
   "metadata": {},
   "outputs": [
    {
     "data": {
      "image/png": "[encoded data removed]",
      "text/latex": [
       "$\\displaystyle -1.0$"
      ],
      "text/plain": [
       "-1.0"
      ]
     },
     "execution_count": 9,
     "metadata": {},
     "output_type": "execute_result"
    }
   ],
   "source": [
    "# row-swapped/column-swapped identity matrix\n",
    "mat = np.array([[0,1],\n",
    "                [1,0]])\n",
    "\n",
    "# determinant of the 2*2 matrix\n",
    "det = np.linalg.det(mat)\n",
    "det"
   ]
  },
  {
   "cell_type": "code",
   "execution_count": null,
   "id": "97289060",
   "metadata": {},
   "outputs": [],
   "source": []
  },
  {
   "cell_type": "markdown",
   "id": "b1e6ad5b",
   "metadata": {},
   "source": [
    "# prove: if the singular matrix(reduced_rank matrix) has a determinant = 0."
   ]
  },
  {
   "cell_type": "code",
   "execution_count": 23,
   "id": "9fdacbd9",
   "metadata": {},
   "outputs": [
    {
     "name": "stdout",
     "output_type": "stream",
     "text": [
      "the matrix is: \n"
     ]
    },
    {
     "data": {
      "text/latex": [
       "$\\displaystyle \\left[\\begin{matrix}27 & 21 & 41\\\\46 & 66 & 90\\\\38 & 42 & 66\\end{matrix}\\right]$"
      ],
      "text/plain": [
       "⎡27  21  41⎤\n",
       "⎢          ⎥\n",
       "⎢46  66  90⎥\n",
       "⎢          ⎥\n",
       "⎣38  42  66⎦"
      ]
     },
     "metadata": {},
     "output_type": "display_data"
    },
    {
     "name": "stdout",
     "output_type": "stream",
     "text": [
      "the rank of the matrix is : 2\n",
      "the determinant of the reduced_rank_matrix is : -0.0\n"
     ]
    },
    {
     "data": {
      "text/plain": [
       "'hence it is proved that if the matrix is rank-reduced or contains linearly dependent columns then the determinant of \\nthe such matrix will be equal to 0.'"
      ]
     },
     "execution_count": 23,
     "metadata": {},
     "output_type": "execute_result"
    }
   ],
   "source": [
    "# exercise1:\n",
    "\n",
    "# reduced_rank matrix. we reduce the rank for linear dependency.\n",
    "'''we set the rows and cols as being the same because the matrix being square is the requirement to find its determinant'''\n",
    "\n",
    "rows = 3\n",
    "cols = 3\n",
    "rank = 2\n",
    "\n",
    "a = np.random.randint(1,9,(rows,rank))\n",
    "b = np.random.randint(1,9,(rank,cols))\n",
    "\n",
    "reduced_rank_matrix = np.dot(a,b)\n",
    "\n",
    "print('the matrix is: ')\n",
    "display(sym.sympify(reduced_rank_matrix))\n",
    "\n",
    "print('the rank of the matrix is : {}'.format(np.linalg.matrix_rank(reduced_rank_matrix)))\n",
    "\n",
    "# find the determinant of the reduced_rank_matrix:\n",
    "det = np.linalg.det(reduced_rank_matrix)\n",
    "print('the determinant of the reduced_rank_matrix is : {}'.format(np.round(det,5)))\n",
    "\n",
    "\n",
    "# conclusion:\n",
    "'''hence it is proved that if the matrix is rank-reduced or contains linearly dependent columns then the determinant of \n",
    "the such matrix will be equal to 0.'''"
   ]
  },
  {
   "cell_type": "code",
   "execution_count": 5,
   "id": "7869c2c0",
   "metadata": {},
   "outputs": [
    {
     "name": "stdout",
     "output_type": "stream",
     "text": [
      "the matrix is: \n"
     ]
    },
    {
     "data": {
      "text/latex": [
       "$\\displaystyle \\left[\\begin{matrix}28 & 21\\\\32 & 24\\end{matrix}\\right]$"
      ],
      "text/plain": [
       "⎡28  21⎤\n",
       "⎢      ⎥\n",
       "⎣32  24⎦"
      ]
     },
     "metadata": {},
     "output_type": "display_data"
    },
    {
     "name": "stdout",
     "output_type": "stream",
     "text": [
      "the rank of the matrix is : 1\n",
      "the determinant of the reduced_rank_matrix is : 0.0\n"
     ]
    },
    {
     "data": {
      "text/plain": [
       "'hence it is proved that if the matrix is rank-reduced or contains linearly dependent columns then the determinant of \\nthe such matrix will be equal to 0.'"
      ]
     },
     "execution_count": 5,
     "metadata": {},
     "output_type": "execute_result"
    }
   ],
   "source": [
    "# exercise 2: create a 2*2 matrix of integers with linearly dependent row or column and test its determinants and rank\n",
    "\n",
    "# reduced_rank matrix\n",
    "'''we set the rows and cols as being the same because the matrix being square is the requirement to find its determinant'''\n",
    "\n",
    "rows = 2\n",
    "cols = 2\n",
    "rank = 1\n",
    "\n",
    "a = np.random.randint(1,9,(rows,rank))\n",
    "b = np.random.randint(1,9,(rank,cols))\n",
    "\n",
    "reduced_rank_matrix = np.dot(a,b)\n",
    "\n",
    "print('the matrix is: ')\n",
    "display(sym.sympify(reduced_rank_matrix))\n",
    "\n",
    "print('the rank of the matrix is : {}'.format(np.linalg.matrix_rank(reduced_rank_matrix)))\n",
    "\n",
    "# find the determinant of the reduced_rank_matrix:\n",
    "det = np.linalg.det(reduced_rank_matrix)\n",
    "print('the determinant of the reduced_rank_matrix is : {}'.format(np.round(det,5)))\n",
    "\n",
    "\n",
    "# conclusion:\n",
    "'''hence it is proved that if the matrix is rank-reduced or contains linearly dependent columns then the determinant of \n",
    "the such matrix will be equal to 0.'''"
   ]
  },
  {
   "cell_type": "code",
   "execution_count": 29,
   "id": "94861fe5",
   "metadata": {},
   "outputs": [
    {
     "name": "stdout",
     "output_type": "stream",
     "text": [
      "the rank of the matrix is : 28\n",
      "the determinant of the reduced_rank_matrix is : 3.7835513215783787e+27\n"
     ]
    },
    {
     "data": {
      "text/plain": [
       "'for extremely large number of rows and cols the number of linearly dependent rows or cols need to be greater in number\\nthan for smaller matrices for the determinant of the matrix to be zero'"
      ]
     },
     "execution_count": 29,
     "metadata": {},
     "output_type": "execute_result"
    }
   ],
   "source": [
    "# exercise 3: for extremely large number of rows and cols\n",
    "\n",
    "\n",
    "# reduced_rank matrix\n",
    "'''we set the rows and cols as being the same because the matrix being square is the requirement to find its determinant'''\n",
    "\n",
    "rows = 30\n",
    "cols = 30\n",
    "rank = 28\n",
    "\n",
    "a = np.random.randint(1,9,(rows,rank))\n",
    "b = np.random.randint(1,9,(rank,cols))\n",
    "\n",
    "reduced_rank_matrix = np.dot(a,b)\n",
    "\n",
    "# print('the matrix is: ')\n",
    "# display(sym.sympify(reduced_rank_matrix))\n",
    "\n",
    "print('the rank of the matrix is : {}'.format(np.linalg.matrix_rank(reduced_rank_matrix)))\n",
    "\n",
    "# find the determinant of the reduced_rank_matrix:\n",
    "det = np.linalg.det(reduced_rank_matrix)\n",
    "print('the determinant of the reduced_rank_matrix is : {}'.format(np.round(det,5)))\n",
    "\n",
    "\n",
    "# conclusion:\n",
    "'''for extremely large number of rows and cols the number of linearly dependent rows or cols need to be greater in number\n",
    "than for smaller matrices for the determinant of the matrix to be zero'''"
   ]
  },
  {
   "cell_type": "code",
   "execution_count": 40,
   "id": "8c060ea2",
   "metadata": {},
   "outputs": [
    {
     "name": "stdout",
     "output_type": "stream",
     "text": [
      "the rank of the matrix is : 121\n",
      "the determinant of the reduced_rank_matrix is : 0.0\n"
     ]
    },
    {
     "data": {
      "text/plain": [
       "'notice the determinant of the matrix has become zero only after almost having 30 rows/cols in the matrix being linearly\\ndependent in other words it is only after reducing the rank from its fullness(150) by almost 30 we got to have the \\nmatrix determinant being zero.'"
      ]
     },
     "execution_count": 40,
     "metadata": {},
     "output_type": "execute_result"
    }
   ],
   "source": [
    "# exercise 3: for extremely large number of rows and cols\n",
    "\n",
    "\n",
    "# reduced_rank matrix\n",
    "'''we set the rows and cols as being the same because the matrix being square is the requirement to find its determinant'''\n",
    "\n",
    "rows = 150\n",
    "cols = 150\n",
    "rank = 121\n",
    "\n",
    "a = np.random.randint(1,9,(rows,rank))\n",
    "b = np.random.randint(1,9,(rank,cols))\n",
    "\n",
    "reduced_rank_matrix = np.dot(a,b)\n",
    "\n",
    "# print('the matrix is: ')\n",
    "# display(sym.sympify(reduced_rank_matrix))\n",
    "\n",
    "print('the rank of the matrix is : {}'.format(np.linalg.matrix_rank(reduced_rank_matrix)))\n",
    "\n",
    "# find the determinant of the reduced_rank_matrix:\n",
    "det = np.linalg.det(reduced_rank_matrix)\n",
    "print('the determinant of the reduced_rank_matrix is : {}'.format(np.round(det,5)))\n",
    "\n",
    "\n",
    "# conclusion:\n",
    "'''notice the determinant of the matrix has become zero only after almost having 30 rows/cols in the matrix being linearly\n",
    "dependent in other words it is only after reducing the rank from its fullness(150) by almost 30 we got to have the \n",
    "matrix determinant being zero.'''"
   ]
  },
  {
   "cell_type": "code",
   "execution_count": null,
   "id": "86d3d7a7",
   "metadata": {},
   "outputs": [],
   "source": []
  },
  {
   "cell_type": "markdown",
   "id": "cbf452b8",
   "metadata": {},
   "source": [
    "# day 158,day 162,day 166"
   ]
  },
  {
   "cell_type": "code",
   "execution_count": 1,
   "id": "5425121d",
   "metadata": {},
   "outputs": [],
   "source": [
    "import numpy as np\n",
    "import sympy as sym\n",
    "from IPython.display import display,Math\n",
    "sym.init_printing()\n",
    "import matplotlib.pyplot as plt\n"
   ]
  },
  {
   "cell_type": "markdown",
   "id": "2ecde7ab",
   "metadata": {},
   "source": [
    "# Goal\n",
    "\n",
    "1. take a matrix\n",
    "2. find its determinant\n",
    "3. scale one of its cols and find its determinant\n",
    "4. scale one of its rows and find its determinant"
   ]
  },
  {
   "cell_type": "code",
   "execution_count": 22,
   "id": "935b0ae5",
   "metadata": {},
   "outputs": [
    {
     "data": {
      "text/plain": [
       "array([[5, 6, 7],\n",
       "       [6, 5, 6],\n",
       "       [4, 7, 6]])"
      ]
     },
     "execution_count": 22,
     "metadata": {},
     "output_type": "execute_result"
    }
   ],
   "source": [
    "A = np.random.randint(0,9,(3,3))\n",
    "A"
   ]
  },
  {
   "cell_type": "code",
   "execution_count": 23,
   "id": "2c047ef7",
   "metadata": {},
   "outputs": [
    {
     "data": {
      "image/png": "[encoded data removed]",
      "text/latex": [
       "$\\displaystyle 22.0$"
      ],
      "text/plain": [
       "22.000000000000004"
      ]
     },
     "execution_count": 23,
     "metadata": {},
     "output_type": "execute_result"
    }
   ],
   "source": [
    "np.linalg.det(A)"
   ]
  },
  {
   "cell_type": "code",
   "execution_count": 24,
   "id": "f1e0babc",
   "metadata": {},
   "outputs": [
    {
     "data": {
      "text/plain": [
       "array([[25,  6,  7],\n",
       "       [30,  5,  6],\n",
       "       [20,  7,  6]])"
      ]
     },
     "execution_count": 24,
     "metadata": {},
     "output_type": "execute_result"
    }
   ],
   "source": [
    "col_scaled = A.copy() # so that the change that happens here doesn't get translated there.\n",
    "scalar = 5\n",
    "col_scaled[:,0] = col_scaled[:,0]*scalar\n",
    "\n",
    "col_scaled\n"
   ]
  },
  {
   "cell_type": "code",
   "execution_count": 25,
   "id": "66475eb7",
   "metadata": {},
   "outputs": [
    {
     "data": {
      "image/png": "[encoded data removed]",
      "text/latex": [
       "$\\displaystyle 110.0$"
      ],
      "text/plain": [
       "110.00000000000004"
      ]
     },
     "execution_count": 25,
     "metadata": {},
     "output_type": "execute_result"
    }
   ],
   "source": [
    "np.linalg.det(col_scaled)"
   ]
  },
  {
   "cell_type": "code",
   "execution_count": 27,
   "id": "8d398558",
   "metadata": {},
   "outputs": [
    {
     "data": {
      "text/plain": [
       "array([[-10, -12, -14],\n",
       "       [  6,   5,   6],\n",
       "       [  4,   7,   6]])"
      ]
     },
     "execution_count": 27,
     "metadata": {},
     "output_type": "execute_result"
    }
   ],
   "source": [
    "row_scaled = A.copy()\n",
    "scalar = -2\n",
    "row_scaled[0,:] = row_scaled[0,:]*scalar\n",
    "row_scaled"
   ]
  },
  {
   "cell_type": "code",
   "execution_count": 28,
   "id": "15d65a6f",
   "metadata": {},
   "outputs": [
    {
     "data": {
      "image/png": "[encoded data removed]",
      "text/latex": [
       "$\\displaystyle -44.0$"
      ],
      "text/plain": [
       "-44.000000000000036"
      ]
     },
     "execution_count": 28,
     "metadata": {},
     "output_type": "execute_result"
    }
   ],
   "source": [
    "np.linalg.det(row_scaled)"
   ]
  },
  {
   "cell_type": "markdown",
   "id": "3c4cc2e0",
   "metadata": {},
   "source": [
    "# prove row swapping of the matrix changes it sign(direction) not its magnitude of the determinant"
   ]
  },
  {
   "cell_type": "code",
   "execution_count": 47,
   "id": "b719ef00",
   "metadata": {},
   "outputs": [
    {
     "data": {
      "text/latex": [
       "$\\displaystyle \\text{original matrix: }\\left[\\begin{matrix}2 & 8 & 4 & 5 & 7 & 4 & 6\\\\4 & 5 & 1 & 2 & 1 & 8 & 2\\\\4 & 8 & 1 & 7 & 1 & 4 & 2\\\\5 & 5 & 5 & 3 & 1 & 5 & 7\\\\6 & 4 & 7 & 4 & 1 & 1 & 3\\\\4 & 2 & 6 & 2 & 4 & 1 & 7\\\\1 & 1 & 4 & 6 & 1 & 2 & 1\\end{matrix}\\right]$"
      ],
      "text/plain": [
       "<IPython.core.display.Math object>"
      ]
     },
     "metadata": {},
     "output_type": "display_data"
    },
    {
     "name": "stdout",
     "output_type": "stream",
     "text": [
      "\n",
      "\n",
      "Determinant of original: -113679.0\n"
     ]
    }
   ],
   "source": [
    "original = np.random.randint(1,9,(7,7))\n",
    "determinant_original = np.linalg.det(original)\n",
    "\n",
    "display(Math('\\\\text{original matrix: }%s'%(sym.latex(sym.sympify(original)))))\n",
    "\n",
    "print('\\n')\n",
    "\n",
    "print(f'Determinant of original: {np.round(determinant_original,2)}')"
   ]
  },
  {
   "cell_type": "code",
   "execution_count": 48,
   "id": "5b384c86",
   "metadata": {},
   "outputs": [
    {
     "data": {
      "text/latex": [
       "$\\displaystyle  \\text{one row swapped matrix: }\\left[\\begin{matrix}4 & 5 & 1 & 2 & 1 & 8 & 2\\\\2 & 8 & 4 & 5 & 7 & 4 & 6\\\\4 & 8 & 1 & 7 & 1 & 4 & 2\\\\5 & 5 & 5 & 3 & 1 & 5 & 7\\\\6 & 4 & 7 & 4 & 1 & 1 & 3\\\\4 & 2 & 6 & 2 & 4 & 1 & 7\\\\1 & 1 & 4 & 6 & 1 & 2 & 1\\end{matrix}\\right]$"
      ],
      "text/plain": [
       "<IPython.core.display.Math object>"
      ]
     },
     "metadata": {},
     "output_type": "display_data"
    },
    {
     "data": {
      "text/latex": [
       "$\\displaystyle \\text{Determinant of one swap: }113679.0$"
      ],
      "text/plain": [
       "<IPython.core.display.Math object>"
      ]
     },
     "metadata": {},
     "output_type": "display_data"
    }
   ],
   "source": [
    "# one row swap\n",
    "\n",
    "# 1st and 2nd rows are swapped and all columns remain intact\n",
    "one_row_swap = original[[1,0,2,3,4,5,6],:]\n",
    "\n",
    "# determinant of one row swapped matrix\n",
    "determinant_1 = np.linalg.det(one_row_swap)\n",
    "\n",
    "display(Math(' \\\\text{one row swapped matrix: }%s' %(sym.latex(sym.sympify(one_row_swap)))))\n",
    "\n",
    "display(Math('\\\\text{Determinant of one swap: }%s'%(sym.latex(sym.sympify(np.round(determinant_1,2))))))"
   ]
  },
  {
   "cell_type": "code",
   "execution_count": 50,
   "id": "6b673553",
   "metadata": {},
   "outputs": [
    {
     "data": {
      "text/latex": [
       "$\\displaystyle  \\text{two rows swapped matrix: }\\left[\\begin{matrix}4 & 5 & 1 & 2 & 1 & 8 & 2\\\\2 & 8 & 4 & 5 & 7 & 4 & 6\\\\5 & 5 & 5 & 3 & 1 & 5 & 7\\\\4 & 8 & 1 & 7 & 1 & 4 & 2\\\\6 & 4 & 7 & 4 & 1 & 1 & 3\\\\4 & 2 & 6 & 2 & 4 & 1 & 7\\\\1 & 1 & 4 & 6 & 1 & 2 & 1\\end{matrix}\\right]$"
      ],
      "text/plain": [
       "<IPython.core.display.Math object>"
      ]
     },
     "metadata": {},
     "output_type": "display_data"
    },
    {
     "data": {
      "text/latex": [
       "$\\displaystyle \\text{Determinant of two swaps: }-113679.0$"
      ],
      "text/plain": [
       "<IPython.core.display.Math object>"
      ]
     },
     "metadata": {},
     "output_type": "display_data"
    }
   ],
   "source": [
    "# two rows swap\n",
    "\n",
    "# 1st and 2nd, and 4th and 3rd  rows are swapped and all columns remain intact\n",
    "two_rows_swap = original[[1,0,3,2,4,5,6],:]\n",
    "\n",
    "# determinant of one row swapped matrix\n",
    "determinant_2 = np.linalg.det(two_rows_swap)\n",
    "\n",
    "display(Math(' \\\\text{two rows swapped matrix: }%s' %(sym.latex(sym.sympify(two_rows_swap)))))\n",
    "\n",
    "display(Math('\\\\text{Determinant of two swaps: }%s'%(sym.latex(sym.sympify(np.round(determinant_2,2))))))"
   ]
  },
  {
   "cell_type": "markdown",
   "id": "504b26c9",
   "metadata": {},
   "source": [
    "# conclusion:\n",
    "\n",
    "1. one row swap: changes the direction/orientation of the determinant(changes the sign) from that of the original matrix. changing the orientation or direction is like assume a matrix is a paper and changing the orientation of the paper is flipping the paper to the other side. second analogy is we are only seeing one side of the side. changing the orientation of the moon to our perspective is seeing the other side.\n",
    "2. two rows swap: brings the changed direction of the determinant of one row swap back to its original direction/orientation."
   ]
  },
  {
   "cell_type": "code",
   "execution_count": null,
   "id": "4625e1f0",
   "metadata": {},
   "outputs": [],
   "source": []
  },
  {
   "cell_type": "markdown",
   "id": "59ecd5e8",
   "metadata": {},
   "source": [
    "# trying with column swaps and calculating the impact on the matrix's determinant"
   ]
  },
  {
   "cell_type": "code",
   "execution_count": 52,
   "id": "d77ed91e",
   "metadata": {},
   "outputs": [
    {
     "data": {
      "text/latex": [
       "$\\displaystyle \\text{original_matrix} \\left[\\begin{matrix}8 & 8 & 5 & 6 & 7 & 6 & 3\\\\8 & 2 & 3 & 2 & 8 & 6 & 4\\\\1 & 8 & 5 & 5 & 7 & 1 & 6\\\\7 & 1 & 8 & 8 & 8 & 2 & 5\\\\8 & 5 & 8 & 1 & 7 & 1 & 8\\\\2 & 5 & 4 & 6 & 4 & 2 & 5\\\\7 & 3 & 6 & 1 & 2 & 7 & 5\\end{matrix}\\right]$"
      ],
      "text/plain": [
       "<IPython.core.display.Math object>"
      ]
     },
     "metadata": {},
     "output_type": "display_data"
    },
    {
     "data": {
      "text/latex": [
       "$\\displaystyle \\text{determinant of the original matrix: } -283348.0$"
      ],
      "text/plain": [
       "<IPython.core.display.Math object>"
      ]
     },
     "metadata": {},
     "output_type": "display_data"
    },
    {
     "data": {
      "text/latex": [
       "$\\displaystyle \\text{one column swapped: } \\left[\\begin{matrix}8 & 8 & 5 & 6 & 7 & 6 & 3\\\\2 & 8 & 3 & 2 & 8 & 6 & 4\\\\8 & 1 & 5 & 5 & 7 & 1 & 6\\\\1 & 7 & 8 & 8 & 8 & 2 & 5\\\\5 & 8 & 8 & 1 & 7 & 1 & 8\\\\5 & 2 & 4 & 6 & 4 & 2 & 5\\\\3 & 7 & 6 & 1 & 2 & 7 & 5\\end{matrix}\\right]$"
      ],
      "text/plain": [
       "<IPython.core.display.Math object>"
      ]
     },
     "metadata": {},
     "output_type": "display_data"
    },
    {
     "data": {
      "text/latex": [
       "$\\displaystyle \\text{determinant of the one column swapped matrix: } 283348.0$"
      ],
      "text/plain": [
       "<IPython.core.display.Math object>"
      ]
     },
     "metadata": {},
     "output_type": "display_data"
    },
    {
     "data": {
      "text/latex": [
       "$\\displaystyle \\text{two columns swapped: } \\left[\\begin{matrix}8 & 8 & 6 & 5 & 7 & 6 & 3\\\\2 & 8 & 2 & 3 & 8 & 6 & 4\\\\8 & 1 & 5 & 5 & 7 & 1 & 6\\\\1 & 7 & 8 & 8 & 8 & 2 & 5\\\\5 & 8 & 1 & 8 & 7 & 1 & 8\\\\5 & 2 & 6 & 4 & 4 & 2 & 5\\\\3 & 7 & 1 & 6 & 2 & 7 & 5\\end{matrix}\\right]$"
      ],
      "text/plain": [
       "<IPython.core.display.Math object>"
      ]
     },
     "metadata": {},
     "output_type": "display_data"
    },
    {
     "data": {
      "text/latex": [
       "$\\displaystyle \\text{determinant of the two column swapped matrix: } -283348.0$"
      ],
      "text/plain": [
       "<IPython.core.display.Math object>"
      ]
     },
     "metadata": {},
     "output_type": "display_data"
    }
   ],
   "source": [
    "original_matrix = np.random.randint(1,9,(7,7))\n",
    "\n",
    "display(Math('\\\\text{original_matrix} %s'%(sym.latex(sym.sympify(original_matrix)))))\n",
    "\n",
    "display(Math('\\\\text{determinant of the original matrix: } %s'%(sym.latex(sym.sympify(np.linalg.det(original_matrix))))))\n",
    "\n",
    "one_col_swap = original_matrix[:,[1,0,2,3,4,5,6]]\n",
    "\n",
    "display(Math('\\\\text{one column swapped: } %s'%(sym.latex(sym.sympify(one_col_swap)))))\n",
    "\n",
    "display(Math('\\\\text{determinant of the one column swapped matrix: } %s'%(sym.latex(sym.sympify(np.linalg.det(one_col_swap))))))\n",
    "\n",
    "two_cols_swap = original_matrix[:,[1,0,3,2,4,5,6]]\n",
    "\n",
    "display(Math('\\\\text{two columns swapped: } %s'%(sym.latex(sym.sympify(two_cols_swap)))))\n",
    "\n",
    "display(Math('\\\\text{determinant of the two column swapped matrix: } %s'%(sym.latex(sym.sympify(np.linalg.det(two_cols_swap))))))\n"
   ]
  },
  {
   "cell_type": "markdown",
   "id": "5f301323",
   "metadata": {},
   "source": [
    "# conclusion:\n",
    "\n",
    "* row swap or column swap it doesn't matter. if you swap one row/col you get the determinant direction changed from that of the original matrix and if you swap it twice you get the direction swapped again back to the that of original. \n",
    "\n",
    "* **so the conclusion, row/col swap corresponds with swapping the sign of the determinant. odd numbered swap means directions changed, even numbered swaps means direction remained same.**"
   ]
  },
  {
   "cell_type": "markdown",
   "id": "dd48eaef",
   "metadata": {},
   "source": [
    "# exploration,analysis and freethrows"
   ]
  },
  {
   "cell_type": "code",
   "execution_count": 43,
   "id": "b5821671",
   "metadata": {},
   "outputs": [
    {
     "data": {
      "text/latex": [
       "$\\displaystyle \\left[\\begin{matrix}6 & 6 & 6\\\\5 & 3 & 3\\\\7 & 4 & 3\\end{matrix}\\right]$"
      ],
      "text/plain": [
       "⎡6  6  6⎤\n",
       "⎢       ⎥\n",
       "⎢5  3  3⎥\n",
       "⎢       ⎥\n",
       "⎣7  4  3⎦"
      ]
     },
     "metadata": {},
     "output_type": "display_data"
    },
    {
     "name": "stdout",
     "output_type": "stream",
     "text": [
      "After tow row swapping\n"
     ]
    },
    {
     "data": {
      "text/latex": [
       "$\\displaystyle \\left[\\begin{matrix}7 & 4 & 3\\\\6 & 6 & 6\\\\5 & 3 & 3\\end{matrix}\\right]$"
      ],
      "text/plain": [
       "⎡7  4  3⎤\n",
       "⎢       ⎥\n",
       "⎢6  6  6⎥\n",
       "⎢       ⎥\n",
       "⎣5  3  3⎦"
      ]
     },
     "metadata": {},
     "output_type": "display_data"
    },
    {
     "data": {
      "image/png": "[encoded data removed]",
      "text/latex": [
       "$\\displaystyle 3$"
      ],
      "text/plain": [
       "3"
      ]
     },
     "execution_count": 43,
     "metadata": {},
     "output_type": "execute_result"
    }
   ],
   "source": [
    "# swap the 2nd row with the 3rd and the 3rd row with the 2nd.\n",
    "\n",
    "a = np.random.randint(1,9,(3,3))\n",
    "\n",
    "display(sym.sympify(a))\n",
    "\n",
    "n = np.shape(a)[0]\n",
    "swap = np.copy(a[n-2,:])\n",
    "a[n-2,:] = a[n-1,:]\n",
    "a[n-1,:] = swap\n",
    "swap2 = np.copy(a[n-3,:])\n",
    "a[n-3,:] = a[n-2,:]\n",
    "a[n-2,:] = swap2\n",
    "\n",
    "\n",
    "\n",
    "print('After tow row swapping')\n",
    "display(sym.sympify(a))\n",
    "\n",
    "np.shape(a)[0]"
   ]
  },
  {
   "cell_type": "code",
   "execution_count": 76,
   "id": "c74690ff",
   "metadata": {},
   "outputs": [
    {
     "data": {
      "text/latex": [
       "$\\displaystyle \\left[\\begin{matrix}2 & 8 & 2\\\\2 & 8 & 5\\\\8 & 7 & 1\\end{matrix}\\right]$"
      ],
      "text/plain": [
       "⎡2  8  2⎤\n",
       "⎢       ⎥\n",
       "⎢2  8  5⎥\n",
       "⎢       ⎥\n",
       "⎣8  7  1⎦"
      ]
     },
     "metadata": {},
     "output_type": "display_data"
    },
    {
     "name": "stdout",
     "output_type": "stream",
     "text": [
      "After one row swapping\n"
     ]
    },
    {
     "data": {
      "text/latex": [
       "$\\displaystyle \\left[\\begin{matrix}2 & 8 & 2\\\\8 & 7 & 1\\\\2 & 8 & 5\\end{matrix}\\right]$"
      ],
      "text/plain": [
       "⎡2  8  2⎤\n",
       "⎢       ⎥\n",
       "⎢8  7  1⎥\n",
       "⎢       ⎥\n",
       "⎣2  8  5⎦"
      ]
     },
     "metadata": {},
     "output_type": "display_data"
    }
   ],
   "source": [
    "# instructor's swapping solution!\n",
    "a = np.random.randint(1,9,(3,3))\n",
    "\n",
    "display(sym.sympify(a))\n",
    "\n",
    "rows = [0,1,2]\n",
    "np.random.shuffle(rows)\n",
    "one_swap = a[rows,:]\n",
    "\n",
    "\n",
    "print('After one row swapping')\n",
    "display(sym.sympify(one_swap))"
   ]
  },
  {
   "cell_type": "code",
   "execution_count": 105,
   "id": "62242a9b",
   "metadata": {},
   "outputs": [
    {
     "name": "stdout",
     "output_type": "stream",
     "text": [
      "[2, 0, 1]\n",
      "[0, 1, 2]\n"
     ]
    }
   ],
   "source": [
    "\n",
    "rows = [0,1,2]\n",
    "\n",
    "\n",
    "np.random.shuffle(rows)\n",
    "print(rows)\n",
    "np.random.shuffle(rows)\n",
    "print(rows)"
   ]
  },
  {
   "cell_type": "code",
   "execution_count": 103,
   "id": "a63b14f4",
   "metadata": {},
   "outputs": [
    {
     "data": {
      "text/plain": [
       "[0, 1, 2, 3, 4, 5, 6, 7, 8, 9]"
      ]
     },
     "execution_count": 103,
     "metadata": {},
     "output_type": "execute_result"
    }
   ],
   "source": [
    "list(np.arange(np.shape(a)[0]))"
   ]
  },
  {
   "cell_type": "code",
   "execution_count": 81,
   "id": "7e4f6e75",
   "metadata": {},
   "outputs": [
    {
     "data": {
      "text/latex": [
       "$\\displaystyle \\left[\\begin{matrix}3 & 7 & 4 & 1 & 4 & 2 & 3 & 2 & 1 & 5\\\\8 & 4 & 5 & 7 & 2 & 4 & 8 & 1 & 1 & 6\\\\4 & 6 & 1 & 5 & 5 & 5 & 8 & 7 & 5 & 2\\\\3 & 3 & 4 & 3 & 2 & 7 & 4 & 4 & 7 & 7\\\\8 & 6 & 7 & 4 & 5 & 5 & 8 & 1 & 5 & 6\\\\5 & 4 & 7 & 7 & 6 & 3 & 8 & 1 & 6 & 7\\\\2 & 6 & 3 & 6 & 2 & 2 & 8 & 7 & 8 & 5\\\\6 & 7 & 5 & 8 & 8 & 6 & 3 & 5 & 8 & 7\\\\5 & 5 & 4 & 8 & 1 & 5 & 6 & 1 & 4 & 7\\\\4 & 3 & 4 & 6 & 6 & 4 & 8 & 8 & 4 & 2\\end{matrix}\\right]$"
      ],
      "text/plain": [
       "⎡3  7  4  1  4  2  3  2  1  5⎤\n",
       "⎢                            ⎥\n",
       "⎢8  4  5  7  2  4  8  1  1  6⎥\n",
       "⎢                            ⎥\n",
       "⎢4  6  1  5  5  5  8  7  5  2⎥\n",
       "⎢                            ⎥\n",
       "⎢3  3  4  3  2  7  4  4  7  7⎥\n",
       "⎢                            ⎥\n",
       "⎢8  6  7  4  5  5  8  1  5  6⎥\n",
       "⎢                            ⎥\n",
       "⎢5  4  7  7  6  3  8  1  6  7⎥\n",
       "⎢                            ⎥\n",
       "⎢2  6  3  6  2  2  8  7  8  5⎥\n",
       "⎢                            ⎥\n",
       "⎢6  7  5  8  8  6  3  5  8  7⎥\n",
       "⎢                            ⎥\n",
       "⎢5  5  4  8  1  5  6  1  4  7⎥\n",
       "⎢                            ⎥\n",
       "⎣4  3  4  6  6  4  8  8  4  2⎦"
      ]
     },
     "metadata": {},
     "output_type": "display_data"
    },
    {
     "name": "stdout",
     "output_type": "stream",
     "text": [
      "After two row swapping\n"
     ]
    },
    {
     "data": {
      "text/latex": [
       "$\\displaystyle \\left[\\begin{matrix}8 & 4 & 5 & 7 & 2 & 4 & 8 & 1 & 1 & 6\\\\2 & 6 & 3 & 6 & 2 & 2 & 8 & 7 & 8 & 5\\\\3 & 3 & 4 & 3 & 2 & 7 & 4 & 4 & 7 & 7\\\\4 & 3 & 4 & 6 & 6 & 4 & 8 & 8 & 4 & 2\\\\5 & 4 & 7 & 7 & 6 & 3 & 8 & 1 & 6 & 7\\\\4 & 6 & 1 & 5 & 5 & 5 & 8 & 7 & 5 & 2\\\\8 & 6 & 7 & 4 & 5 & 5 & 8 & 1 & 5 & 6\\\\5 & 5 & 4 & 8 & 1 & 5 & 6 & 1 & 4 & 7\\\\3 & 7 & 4 & 1 & 4 & 2 & 3 & 2 & 1 & 5\\\\6 & 7 & 5 & 8 & 8 & 6 & 3 & 5 & 8 & 7\\end{matrix}\\right]$"
      ],
      "text/plain": [
       "⎡8  4  5  7  2  4  8  1  1  6⎤\n",
       "⎢                            ⎥\n",
       "⎢2  6  3  6  2  2  8  7  8  5⎥\n",
       "⎢                            ⎥\n",
       "⎢3  3  4  3  2  7  4  4  7  7⎥\n",
       "⎢                            ⎥\n",
       "⎢4  3  4  6  6  4  8  8  4  2⎥\n",
       "⎢                            ⎥\n",
       "⎢5  4  7  7  6  3  8  1  6  7⎥\n",
       "⎢                            ⎥\n",
       "⎢4  6  1  5  5  5  8  7  5  2⎥\n",
       "⎢                            ⎥\n",
       "⎢8  6  7  4  5  5  8  1  5  6⎥\n",
       "⎢                            ⎥\n",
       "⎢5  5  4  8  1  5  6  1  4  7⎥\n",
       "⎢                            ⎥\n",
       "⎢3  7  4  1  4  2  3  2  1  5⎥\n",
       "⎢                            ⎥\n",
       "⎣6  7  5  8  8  6  3  5  8  7⎦"
      ]
     },
     "metadata": {},
     "output_type": "display_data"
    }
   ],
   "source": [
    "a = np.random.randint(1,9,(10,10))\n",
    "display(sym.sympify(a))\n",
    "\n",
    "rows = list(np.arange(np.shape(a)[0]))\n",
    "np.random.shuffle(rows)\n",
    "np.random.shuffle(rows)\n",
    "two_swaps = a[rows,:]\n",
    "\n",
    "print('After two row swapping')\n",
    "display(sym.sympify(two_swaps))"
   ]
  },
  {
   "cell_type": "code",
   "execution_count": null,
   "id": "0e071f46",
   "metadata": {},
   "outputs": [],
   "source": []
  },
  {
   "cell_type": "markdown",
   "id": "1717b9bc",
   "metadata": {},
   "source": [
    "# day 169,day 170"
   ]
  },
  {
   "cell_type": "code",
   "execution_count": 1,
   "id": "317e74ad",
   "metadata": {},
   "outputs": [],
   "source": [
    "import numpy as np\n",
    "import sympy as sym\n",
    "from IPython.display import display,Math\n",
    "sym.init_printing()\n",
    "import matplotlib.pyplot as plt\n",
    "import matplotlib.image as image"
   ]
  },
  {
   "cell_type": "markdown",
   "id": "8fa09eb4",
   "metadata": {},
   "source": [
    "# determinants of shifted matrices"
   ]
  },
  {
   "cell_type": "code",
   "execution_count": null,
   "id": "e790fa5c",
   "metadata": {},
   "outputs": [],
   "source": []
  },
  {
   "cell_type": "markdown",
   "id": "99e209ce",
   "metadata": {},
   "source": [
    "# goals for the code challenge 93:\n",
    "\n",
    "1. generate a square random matrix (20*20)\n",
    "2. impose a linear dependency.\n",
    "3. shift the matrix (0 - 0.1) times the identity matrix (lambda). shift the matrix diagonally.\n",
    "4. compute the absolute value (abs) of the determinant of shifted matrix\n",
    "5. repeat the above procedures for 1000 times.\n",
    "6. plot the det as a function of lambda."
   ]
  },
  {
   "cell_type": "code",
   "execution_count": null,
   "id": "c67bb1e8",
   "metadata": {},
   "outputs": [],
   "source": []
  },
  {
   "cell_type": "code",
   "execution_count": 39,
   "id": "085fec1a",
   "metadata": {},
   "outputs": [],
   "source": [
    "# for 1000 iterations\n",
    "n = 1000\n",
    "\n",
    "# imposing linear dependency on a randomly generated 20*20 matrix by means of reduced-rank method.\n",
    "rows = 20\n",
    "cols = 20\n",
    "rank = 19\n",
    "\n",
    "\n",
    "# shifting the matrix (0 - 0.1) times the identity matrix (lambda).\n",
    "# lambdas determine the fraction of identity matrix to shift the matrix with.\n",
    "lambdas = np.linspace(0,0.1,30)\n",
    "\n",
    "# initialize absolute determinant vector\n",
    "abs_det = np.zeros(n)\n",
    "\n",
    "# initialize the average of absolute determinant vector\n",
    "avg_abs_det = np.zeros(len(lambdas))\n",
    "\n",
    "\n",
    "# the first loop runs until the length of lambdas\n",
    "for i in range(len(lambdas)):\n",
    "    \n",
    "    # the second loop runs for the length of n\n",
    "    # the second loop here is done to predict what happens as we repeat the experiment for n times.\n",
    "    for j in range(n):\n",
    "        \n",
    "        # randomize the matrix on every iteration\n",
    "        matrix = np.matmul(np.random.randint(1,9,(rows,rank)),np.random.randint(1,9,(rank,cols)))\n",
    "    \n",
    "        # computing the magnitude of the determinant of the shifted matrix:\n",
    "        abs_det[j] = abs(np.linalg.det(matrix + lambdas[i]*np.eye(rows)))\n",
    "        \n",
    "     # take the average of 1000 absolute determinants    \n",
    "    avg_abs_det[i] = np.mean(abs_det)\n",
    "        \n",
    "        \n",
    "    \n",
    "\n",
    " \n",
    "    \n",
    "    \n",
    "\n",
    "\n",
    "\n",
    "        \n",
    "        \n",
    "\n"
   ]
  },
  {
   "cell_type": "code",
   "execution_count": 40,
   "id": "8165bccd",
   "metadata": {},
   "outputs": [
    {
     "data": {
      "image/png": "[encoded data removed]",
      "text/plain": [
       "<Figure size 432x288 with 1 Axes>"
      ]
     },
     "metadata": {
      "needs_background": "light"
     },
     "output_type": "display_data"
    },
    {
     "data": {
      "text/plain": [
       "'as we add a number on the diagonal of the matrix the determinants get larger and larger. we just added a fraction of 1 \\nto the digonal elements of the random matrix with linear dependency and the result is that the determinant of the concerned\\nmatrix becomes larger and larger!'"
      ]
     },
     "execution_count": 40,
     "metadata": {},
     "output_type": "execute_result"
    }
   ],
   "source": [
    "# plotting the det as a function of lambda.\n",
    "\n",
    "plt.plot(lambdas,avg_abs_det,'s-',markerfacecolor='white')\n",
    "plt.xlabel('fraction of identity matrix to shift the matrix')\n",
    "plt.ylabel('determinants')\n",
    "        \n",
    "plt.show() \n",
    "\n",
    "# conclusion:\n",
    "'''as we add a number on the diagonal of the matrix the determinants get larger and larger. we just added a fraction of 1 \n",
    "to the digonal elements of the random matrix with linear dependency and the result is that the determinant of the concerned\n",
    "matrix becomes larger and larger!'''"
   ]
  },
  {
   "cell_type": "markdown",
   "id": "d5ef5451",
   "metadata": {},
   "source": [
    "# exploration,analysis and freethrows"
   ]
  },
  {
   "cell_type": "code",
   "execution_count": 30,
   "id": "e979133a",
   "metadata": {},
   "outputs": [
    {
     "data": {
      "text/plain": [
       "array([0., 0., 0., 0., 0., 0., 0., 0., 0., 0., 0., 0., 0., 0., 0., 0., 0.,\n",
       "       0., 0., 0., 0., 0., 0., 0., 0., 0., 0., 0., 0., 0.])"
      ]
     },
     "execution_count": 30,
     "metadata": {},
     "output_type": "execute_result"
    }
   ],
   "source": [
    "avg_abs_det"
   ]
  },
  {
   "cell_type": "code",
   "execution_count": 16,
   "id": "643e7391",
   "metadata": {},
   "outputs": [
    {
     "data": {
      "text/plain": [
       "array([[438.03030303, 432.        , 430.        , 385.        ,\n",
       "        381.        , 424.        , 321.        , 511.        ,\n",
       "        373.        , 417.        , 305.        , 337.        ,\n",
       "        343.        , 306.        , 413.        , 288.        ,\n",
       "        421.        , 297.        , 352.        , 363.        ],\n",
       "       [384.        , 415.03030303, 444.        , 322.        ,\n",
       "        405.        , 400.        , 289.        , 470.        ,\n",
       "        343.        , 379.        , 267.        , 301.        ,\n",
       "        300.        , 345.        , 358.        , 306.        ,\n",
       "        365.        , 301.        , 362.        , 298.        ],\n",
       "       [322.        , 311.        , 341.03030303, 325.        ,\n",
       "        287.        , 315.        , 320.        , 374.        ,\n",
       "        263.        , 333.        , 242.        , 263.        ,\n",
       "        290.        , 237.        , 342.        , 276.        ,\n",
       "        402.        , 240.        , 298.        , 299.        ],\n",
       "       [471.        , 446.        , 463.        , 393.03030303,\n",
       "        428.        , 413.        , 310.        , 519.        ,\n",
       "        348.        , 413.        , 323.        , 341.        ,\n",
       "        355.        , 339.        , 427.        , 332.        ,\n",
       "        438.        , 307.        , 366.        , 330.        ],\n",
       "       [483.        , 463.        , 459.        , 368.        ,\n",
       "        426.03030303, 417.        , 344.        , 555.        ,\n",
       "        383.        , 429.        , 333.        , 328.        ,\n",
       "        364.        , 353.        , 415.        , 338.        ,\n",
       "        449.        , 345.        , 391.        , 360.        ],\n",
       "       [527.        , 526.        , 536.        , 403.        ,\n",
       "        479.        , 465.03030303, 320.        , 594.        ,\n",
       "        379.        , 485.        , 362.        , 381.        ,\n",
       "        393.        , 386.        , 513.        , 365.        ,\n",
       "        486.        , 330.        , 407.        , 393.        ],\n",
       "       [469.        , 411.        , 486.        , 392.        ,\n",
       "        376.        , 404.        , 353.03030303, 540.        ,\n",
       "        410.        , 460.        , 289.        , 378.        ,\n",
       "        360.        , 338.        , 440.        , 291.        ,\n",
       "        459.        , 292.        , 335.        , 357.        ],\n",
       "       [450.        , 407.        , 410.        , 311.        ,\n",
       "        391.        , 388.        , 285.        , 536.03030303,\n",
       "        348.        , 404.        , 303.        , 352.        ,\n",
       "        312.        , 324.        , 382.        , 284.        ,\n",
       "        394.        , 278.        , 376.        , 355.        ],\n",
       "       [450.        , 460.        , 480.        , 404.        ,\n",
       "        420.        , 430.        , 389.        , 558.        ,\n",
       "        388.03030303, 456.        , 339.        , 376.        ,\n",
       "        385.        , 322.        , 467.        , 350.        ,\n",
       "        483.        , 341.        , 405.        , 401.        ],\n",
       "       [333.        , 340.        , 375.        , 285.        ,\n",
       "        314.        , 292.        , 208.        , 358.        ,\n",
       "        247.        , 290.03030303, 218.        , 207.        ,\n",
       "        269.        , 212.        , 352.        , 231.        ,\n",
       "        290.        , 204.        , 264.        , 254.        ],\n",
       "       [473.        , 448.        , 462.        , 376.        ,\n",
       "        381.        , 385.        , 340.        , 545.        ,\n",
       "        320.        , 416.        , 320.03030303, 315.        ,\n",
       "        384.        , 332.        , 458.        , 324.        ,\n",
       "        487.        , 312.        , 356.        , 361.        ],\n",
       "       [447.        , 394.        , 440.        , 360.        ,\n",
       "        333.        , 369.        , 330.        , 514.        ,\n",
       "        328.        , 367.        , 246.        , 260.03030303,\n",
       "        342.        , 347.        , 364.        , 251.        ,\n",
       "        429.        , 264.        , 338.        , 309.        ],\n",
       "       [370.        , 411.        , 379.        , 313.        ,\n",
       "        335.        , 383.        , 317.        , 447.        ,\n",
       "        304.        , 361.        , 277.        , 274.        ,\n",
       "        308.03030303, 289.        , 393.        , 295.        ,\n",
       "        418.        , 287.        , 329.        , 302.        ],\n",
       "       [417.        , 406.        , 415.        , 329.        ,\n",
       "        364.        , 404.        , 355.        , 505.        ,\n",
       "        335.        , 391.        , 284.        , 333.        ,\n",
       "        342.        , 359.03030303, 405.        , 282.        ,\n",
       "        457.        , 295.        , 339.        , 306.        ],\n",
       "       [459.        , 432.        , 410.        , 383.        ,\n",
       "        389.        , 444.        , 320.        , 498.        ,\n",
       "        365.        , 373.        , 260.        , 283.        ,\n",
       "        288.        , 345.        , 377.03030303, 247.        ,\n",
       "        394.        , 255.        , 354.        , 306.        ],\n",
       "       [326.        , 311.        , 326.        , 265.        ,\n",
       "        304.        , 318.        , 280.        , 437.        ,\n",
       "        281.        , 295.        , 212.        , 271.        ,\n",
       "        283.        , 281.        , 268.        , 200.03030303,\n",
       "        316.        , 244.        , 288.        , 262.        ],\n",
       "       [465.        , 437.        , 441.        , 355.        ,\n",
       "        343.        , 366.        , 305.        , 497.        ,\n",
       "        339.        , 378.        , 287.        , 347.        ,\n",
       "        357.        , 306.        , 429.        , 296.        ,\n",
       "        435.03030303, 275.        , 330.        , 336.        ],\n",
       "       [385.        , 360.        , 418.        , 330.        ,\n",
       "        355.        , 357.        , 296.        , 448.        ,\n",
       "        307.        , 382.        , 239.        , 296.        ,\n",
       "        308.        , 320.        , 388.        , 286.        ,\n",
       "        412.        , 249.03030303, 292.        , 306.        ],\n",
       "       [368.        , 384.        , 381.        , 297.        ,\n",
       "        285.        , 330.        , 278.        , 420.        ,\n",
       "        303.        , 308.        , 230.        , 236.        ,\n",
       "        269.        , 253.        , 330.        , 244.        ,\n",
       "        341.        , 229.        , 349.03030303, 288.        ],\n",
       "       [414.        , 413.        , 427.        , 349.        ,\n",
       "        405.        , 420.        , 346.        , 531.        ,\n",
       "        323.        , 400.        , 296.        , 348.        ,\n",
       "        355.        , 345.        , 422.        , 300.        ,\n",
       "        449.        , 300.        , 363.        , 341.03030303]])"
      ]
     },
     "execution_count": 16,
     "metadata": {},
     "output_type": "execute_result"
    }
   ],
   "source": [
    "shift[30]* np.eye(20) + matrix"
   ]
  },
  {
   "cell_type": "code",
   "execution_count": 17,
   "id": "fb7718e4",
   "metadata": {},
   "outputs": [
    {
     "data": {
      "image/png": "[encoded data removed]",
      "text/latex": [
       "$\\displaystyle 2.5804481882756 \\cdot 10^{28}$"
      ],
      "text/plain": [
       "2.5804481882756002e+28"
      ]
     },
     "execution_count": 17,
     "metadata": {},
     "output_type": "execute_result"
    }
   ],
   "source": [
    "np.linalg.det(shift[30]* np.eye(20) + matrix)"
   ]
  },
  {
   "cell_type": "code",
   "execution_count": 18,
   "id": "d4bb3618",
   "metadata": {},
   "outputs": [
    {
     "data": {
      "image/png": "[encoded data removed]",
      "text/latex": [
       "$\\displaystyle 2.5804481882756 \\cdot 10^{28}$"
      ],
      "text/plain": [
       "2.5804481882756002e+28"
      ]
     },
     "execution_count": 18,
     "metadata": {},
     "output_type": "execute_result"
    }
   ],
   "source": [
    "abs(np.linalg.det(shift[30]* np.eye(20) + matrix))"
   ]
  },
  {
   "cell_type": "code",
   "execution_count": 37,
   "id": "dd3171d6",
   "metadata": {},
   "outputs": [
    {
     "data": {
      "image/png": "[encoded data removed]",
      "text/latex": [
       "$\\displaystyle \\left( 20, \\  20\\right)$"
      ],
      "text/plain": [
       "(20, 20)"
      ]
     },
     "execution_count": 37,
     "metadata": {},
     "output_type": "execute_result"
    }
   ],
   "source": []
  },
  {
   "cell_type": "code",
   "execution_count": null,
   "id": "737d3e0f",
   "metadata": {},
   "outputs": [],
   "source": []
  },
  {
   "cell_type": "markdown",
   "id": "113c2710",
   "metadata": {},
   "source": [
    "# goal 2: illustrate det(AB) = det(A) * det(B)\n",
    "\n",
    "1. for a random 2*2 matrix\n",
    "2. in a loop over random matrices of size upto 40*40\n",
    "\n",
    "\n"
   ]
  },
  {
   "cell_type": "code",
   "execution_count": 80,
   "id": "a3e4995f",
   "metadata": {},
   "outputs": [
    {
     "data": {
      "text/plain": [
       "True"
      ]
     },
     "execution_count": 80,
     "metadata": {},
     "output_type": "execute_result"
    }
   ],
   "source": [
    "# 1. proving it for 2*2 random matrix\n",
    "size = 2\n",
    "A = np.random.randint(1,9,(size,size))\n",
    "B = np.random.randint(1,9,(size,size))\n",
    "\n",
    "# the multiplication we do between matrices on the left is matmul and the right is element-wise.\n",
    "lhs = np.linalg.det(np.matmul(A,B))\n",
    "rhs = np.linalg.det(A) * np.linalg.det(B)\n",
    "\n",
    "lhs == rhs"
   ]
  },
  {
   "cell_type": "code",
   "execution_count": 78,
   "id": "ab945ab1",
   "metadata": {},
   "outputs": [
    {
     "data": {
      "image/png": "[encoded data removed]",
      "text/latex": [
       "$\\displaystyle 104.0$"
      ],
      "text/plain": [
       "104.00000000000007"
      ]
     },
     "execution_count": 78,
     "metadata": {},
     "output_type": "execute_result"
    }
   ],
   "source": [
    "lhs"
   ]
  },
  {
   "cell_type": "code",
   "execution_count": 79,
   "id": "e0e9774b",
   "metadata": {},
   "outputs": [
    {
     "data": {
      "image/png": "[encoded data removed]",
      "text/latex": [
       "$\\displaystyle 104.0$"
      ],
      "text/plain": [
       "104.00000000000001"
      ]
     },
     "execution_count": 79,
     "metadata": {},
     "output_type": "execute_result"
    }
   ],
   "source": [
    "rhs"
   ]
  },
  {
   "cell_type": "code",
   "execution_count": 5,
   "id": "a91e65b4",
   "metadata": {},
   "outputs": [
    {
     "data": {
      "image/png": "[encoded data removed]",
      "text/plain": [
       "<Figure size 432x288 with 1 Axes>"
      ]
     },
     "metadata": {
      "needs_background": "light"
     },
     "output_type": "display_data"
    },
    {
     "data": {
      "text/plain": [
       "' that rule: det(AB) = det(A) * det(B), applies only for matrices of size 2*2. Matrices of other sizes show some \\nsignificant differences! '"
      ]
     },
     "execution_count": 5,
     "metadata": {},
     "output_type": "execute_result"
    }
   ],
   "source": [
    "# 2. proving it for a whole bunch of matrices.\n",
    "\n",
    "\n",
    "# setting the upto limit \n",
    "upto = 40\n",
    "\n",
    "# capturing the differences of lhs and rhs in diff\n",
    "diff = np.zeros(upto)\n",
    "\n",
    "\n",
    "for size in range(upto):\n",
    "    A = np.random.randint(1,9,(size,size))\n",
    "    B = np.random.randint(1,9,(size,size))\n",
    "\n",
    "    # the multiplication we do between matrices on the left is matmul and the right is element-wise.\n",
    "    lhs = np.linalg.det(np.matmul(A,B))\n",
    "    rhs = np.linalg.det(A) * np.linalg.det(B)\n",
    "    \n",
    "    \n",
    "    diff[size] = lhs - rhs\n",
    "    \n",
    "plt.plot(np.arange(0,upto,1),diff)\n",
    "\n",
    "plt.xlabel('size')\n",
    "plt.ylabel('differences between lhs and rhs')\n",
    "\n",
    "\n",
    "\n",
    "plt.show()\n",
    "\n",
    "# conclusion: \n",
    "''' that rule: det(AB) = det(A) * det(B), applies only for matrices of size 2*2. Matrices of other sizes show some \n",
    "significant differences! '''   "
   ]
  },
  {
   "cell_type": "markdown",
   "id": "dc393bb2",
   "metadata": {},
   "source": [
    "# exploration,analysis and freethrows"
   ]
  },
  {
   "cell_type": "code",
   "execution_count": 82,
   "id": "bdec0b58",
   "metadata": {},
   "outputs": [
    {
     "data": {
      "image/png": "[encoded data removed]",
      "text/latex": [
       "$\\displaystyle 0.0$"
      ],
      "text/plain": [
       "0.0"
      ]
     },
     "execution_count": 82,
     "metadata": {},
     "output_type": "execute_result"
    }
   ],
   "source": [
    "diff[0]"
   ]
  },
  {
   "cell_type": "code",
   "execution_count": 83,
   "id": "3c77f966",
   "metadata": {},
   "outputs": [
    {
     "data": {
      "image/png": "[encoded data removed]",
      "text/latex": [
       "$\\displaystyle 1.06581410364015 \\cdot 10^{-14}$"
      ],
      "text/plain": [
       "1.0658141036401503e-14"
      ]
     },
     "execution_count": 83,
     "metadata": {},
     "output_type": "execute_result"
    }
   ],
   "source": [
    "diff[1]"
   ]
  },
  {
   "cell_type": "code",
   "execution_count": 84,
   "id": "6bdf970a",
   "metadata": {},
   "outputs": [
    {
     "data": {
      "image/png": "[encoded data removed]",
      "text/latex": [
       "$\\displaystyle -5.86197757002083 \\cdot 10^{-14}$"
      ],
      "text/plain": [
       "-5.86197757002083e-14"
      ]
     },
     "execution_count": 84,
     "metadata": {},
     "output_type": "execute_result"
    }
   ],
   "source": [
    "diff[2]"
   ]
  },
  {
   "cell_type": "code",
   "execution_count": 85,
   "id": "66569851",
   "metadata": {},
   "outputs": [
    {
     "data": {
      "image/png": "[encoded data removed]",
      "text/latex": [
       "$\\displaystyle -1.00044417195022 \\cdot 10^{-11}$"
      ],
      "text/plain": [
       "-1.000444171950221e-11"
      ]
     },
     "execution_count": 85,
     "metadata": {},
     "output_type": "execute_result"
    }
   ],
   "source": [
    "diff[3]"
   ]
  },
  {
   "cell_type": "code",
   "execution_count": 86,
   "id": "73a646c8",
   "metadata": {},
   "outputs": [
    {
     "data": {
      "image/png": "[encoded data removed]",
      "text/latex": [
       "$\\displaystyle 2.74181365966797 \\cdot 10^{-6}$"
      ],
      "text/plain": [
       "2.7418136596679688e-06"
      ]
     },
     "execution_count": 86,
     "metadata": {},
     "output_type": "execute_result"
    }
   ],
   "source": [
    "diff[7]"
   ]
  },
  {
   "cell_type": "code",
   "execution_count": 87,
   "id": "f2788d06",
   "metadata": {},
   "outputs": [
    {
     "data": {
      "image/png": "[encoded data removed]",
      "text/latex": [
       "$\\displaystyle -0.5625$"
      ],
      "text/plain": [
       "-0.5625"
      ]
     },
     "execution_count": 87,
     "metadata": {},
     "output_type": "execute_result"
    }
   ],
   "source": [
    "diff[10]"
   ]
  },
  {
   "cell_type": "code",
   "execution_count": 88,
   "id": "8d9a0a0e",
   "metadata": {},
   "outputs": [
    {
     "data": {
      "image/png": "[encoded data removed]",
      "text/latex": [
       "$\\displaystyle -8791261184.0$"
      ],
      "text/plain": [
       "-8791261184.0"
      ]
     },
     "execution_count": 88,
     "metadata": {},
     "output_type": "execute_result"
    }
   ],
   "source": [
    "diff[15]"
   ]
  },
  {
   "cell_type": "code",
   "execution_count": 89,
   "id": "11c3b5fc",
   "metadata": {},
   "outputs": [
    {
     "data": {
      "image/png": "[encoded data removed]",
      "text/latex": [
       "$\\displaystyle 4.04085310718614 \\cdot 10^{39}$"
      ],
      "text/plain": [
       "4.040853107186144e+39"
      ]
     },
     "execution_count": 89,
     "metadata": {},
     "output_type": "execute_result"
    }
   ],
   "source": [
    "diff[30]"
   ]
  },
  {
   "cell_type": "code",
   "execution_count": null,
   "id": "b572ba09",
   "metadata": {},
   "outputs": [],
   "source": []
  },
  {
   "cell_type": "code",
   "execution_count": null,
   "id": "0656b4e0",
   "metadata": {},
   "outputs": [],
   "source": []
  },
  {
   "cell_type": "code",
   "execution_count": null,
   "id": "80d746f0",
   "metadata": {},
   "outputs": [],
   "source": []
  },
  {
   "cell_type": "code",
   "execution_count": null,
   "id": "375c95b2",
   "metadata": {},
   "outputs": [],
   "source": []
  },
  {
   "cell_type": "code",
   "execution_count": null,
   "id": "8ee575e5",
   "metadata": {},
   "outputs": [],
   "source": []
  },
  {
   "cell_type": "code",
   "execution_count": null,
   "id": "41d9df61",
   "metadata": {},
   "outputs": [],
   "source": []
  },
  {
   "cell_type": "code",
   "execution_count": null,
   "id": "2822e633",
   "metadata": {},
   "outputs": [],
   "source": []
  },
  {
   "cell_type": "code",
   "execution_count": null,
   "id": "880f82dc",
   "metadata": {},
   "outputs": [],
   "source": []
  },
  {
   "cell_type": "code",
   "execution_count": null,
   "id": "fabaae2e",
   "metadata": {},
   "outputs": [],
   "source": []
  }
 ],
 "metadata": {
  "kernelspec": {
   "display_name": "Python 3 (ipykernel)",
   "language": "python",
   "name": "python3"
  },
  "language_info": {
   "codemirror_mode": {
    "name": "ipython",
    "version": 3
   },
   "file_extension": ".py",
   "mimetype": "text/x-python",
   "name": "python",
   "nbconvert_exporter": "python",
   "pygments_lexer": "ipython3",
   "version": "3.9.12"
  }
 },
 "nbformat": 4,
 "nbformat_minor": 5
}
