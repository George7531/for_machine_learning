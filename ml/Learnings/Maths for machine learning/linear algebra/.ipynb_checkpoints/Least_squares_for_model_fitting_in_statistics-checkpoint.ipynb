version https://git-lfs.github.com/spec/v1
oid sha256:d2cd22ccb0b83bab57aa9ad4da151354e0209c84e08ced9fd5cd471c350ffdf9
size 403908
