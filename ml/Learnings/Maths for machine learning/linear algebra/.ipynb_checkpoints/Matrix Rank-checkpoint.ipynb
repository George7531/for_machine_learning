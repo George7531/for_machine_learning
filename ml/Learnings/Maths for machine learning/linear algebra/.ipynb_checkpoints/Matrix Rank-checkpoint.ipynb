{
 "cells": [
  {
   "cell_type": "markdown",
   "id": "b0eccb66",
   "metadata": {},
   "source": [
    "# day 103"
   ]
  },
  {
   "cell_type": "code",
   "execution_count": 1,
   "id": "d6702e71",
   "metadata": {},
   "outputs": [],
   "source": [
    "import numpy as np\n",
    "import sympy as sym\n",
    "from IPython.display import display,Math\n",
    "sym.init_printing()\n",
    "import matplotlib.pyplot as plt\n"
   ]
  },
  {
   "cell_type": "markdown",
   "id": "2502a7c8",
   "metadata": {},
   "source": [
    "# Determinants and Matrix linear independency and spanning whole subspace"
   ]
  },
  {
   "cell_type": "markdown",
   "id": "2bf7ba8f",
   "metadata": {},
   "source": [
    "**This is the best method. find the determinant of the matrix of vectors, if the determinant is not equal to 0, then the vectors in the matrix are linearly independent and span the whole subspace - Google Bard**\n",
    "\n",
    "\n",
    "# to form the basis:\n",
    "1. the set of vectors inside the matrix need to be linearly independent \n",
    "\n",
    "\n",
    "2.  they need to span the whole subspace.\n",
    "\n",
    "# basis as a tool:\n",
    "\n",
    "**basis acts like a ruler to find the distance between the set of vectors and any point in space.** "
   ]
  },
  {
   "cell_type": "code",
   "execution_count": 2,
   "id": "ad23879b",
   "metadata": {},
   "outputs": [
    {
     "data": {
      "text/plain": [
       "array([[7, 8, 4],\n",
       "       [6, 7, 2],\n",
       "       [5, 6, 1]])"
      ]
     },
     "execution_count": 2,
     "metadata": {},
     "output_type": "execute_result"
    }
   ],
   "source": [
    "a = np.random.randint(1,9,(3,3))\n",
    "a"
   ]
  },
  {
   "cell_type": "code",
   "execution_count": 3,
   "id": "ca205841",
   "metadata": {},
   "outputs": [
    {
     "data": {
      "image/png": "[encoded data removed]",
      "text/latex": [
       "$\\displaystyle 1.0$"
      ],
      "text/plain": [
       "1.0000000000000027"
      ]
     },
     "execution_count": 3,
     "metadata": {},
     "output_type": "execute_result"
    }
   ],
   "source": [
    "np.linalg.det(a)\n",
    "\n",
    "# the set of vectors inside the matrix are linearly independent and span the whole subspace. so they form the basis.\n",
    "# so they can be used to find the distance between them and any point in space."
   ]
  },
  {
   "cell_type": "markdown",
   "id": "8f6793c2",
   "metadata": {},
   "source": [
    "# Rank\n",
    "\n",
    "1. Rank is always a non negative number (0,1,2,3..)\n",
    "\n",
    "2. Rank never exceeds the size of the matrix.\n",
    "\n",
    "\n",
    "3. the maximum Rank of any matrix must be within or equal to min(row,cols) of the matrix. i.e if there is a matrix of size (3,2),3rows and 2cols, the max possible rank is <=2. \n",
    "\n",
    "4. the defintion of Rank: it gives information about the largest number of rows or columns that form the linearly independent set.\n",
    "\n",
    "# Linear independency \n",
    "\n",
    "1. Rank helps us find the Linear Independency of the vectors inside the matrix. \n",
    "\n",
    "\n",
    "**The rank of a matrix is the number of linearly independent rows or columns in the matrix. If the rank of a matrix is equal to the number of columns in the matrix, then the set of vectors represented by the columns of the matrix are linearly independent and span the whole subspace. Otherwise, the set of vectors are either linearly dependent or do not span the whole subspace.**\n",
    "\n",
    "\n",
    "# understand the linear dependence better based on the rank of the matrix\n",
    "\n",
    "* rank of the matrix is maximum number of linearly independent rows and columns in the matrix. \n",
    "\n",
    "* if Rank  = number of vectors in the set = number of rows and columns of the matrix then, linearly independent\n",
    "* if Rank < number of vectors in the set  or number of rows and columns of the matrix then, linearly dependent\n",
    "* Rank cannot be > number of vectors or number of rows and columns of the matrix it is embedded in their calculation. \n"
   ]
  },
  {
   "cell_type": "markdown",
   "id": "e0357f63",
   "metadata": {},
   "source": [
    "# day 105"
   ]
  },
  {
   "cell_type": "code",
   "execution_count": 2,
   "id": "46191d22",
   "metadata": {},
   "outputs": [],
   "source": [
    "import numpy as np\n",
    "import sympy as sym\n",
    "from IPython.display import display,Math\n",
    "sym.init_printing()\n",
    "import matplotlib.pyplot as plt"
   ]
  },
  {
   "cell_type": "code",
   "execution_count": 9,
   "id": "ef8eaec0",
   "metadata": {},
   "outputs": [
    {
     "data": {
      "text/plain": [
       "array([[1, 1, 0, 1, 2, 1, 2],\n",
       "       [2, 1, 0, 5, 6, 2, 1]])"
      ]
     },
     "execution_count": 9,
     "metadata": {},
     "output_type": "execute_result"
    }
   ],
   "source": [
    "a = np.array( [  [1,1,0,1,2,1,2],[2,1,0,5,6,2,1]  ]  )\n",
    "\n",
    "a"
   ]
  },
  {
   "cell_type": "code",
   "execution_count": 10,
   "id": "c869d8d7",
   "metadata": {},
   "outputs": [
    {
     "ename": "LinAlgError",
     "evalue": "Last 2 dimensions of the array must be square",
     "output_type": "error",
     "traceback": [
      "\u001b[1;31m---------------------------------------------------------------------------\u001b[0m",
      "\u001b[1;31mLinAlgError\u001b[0m                               Traceback (most recent call last)",
      "Input \u001b[1;32mIn [10]\u001b[0m, in \u001b[0;36m<cell line: 1>\u001b[1;34m()\u001b[0m\n\u001b[1;32m----> 1\u001b[0m \u001b[43mnp\u001b[49m\u001b[38;5;241;43m.\u001b[39;49m\u001b[43mlinalg\u001b[49m\u001b[38;5;241;43m.\u001b[39;49m\u001b[43mdet\u001b[49m\u001b[43m(\u001b[49m\u001b[43ma\u001b[49m\u001b[43m)\u001b[49m\n",
      "File \u001b[1;32m<__array_function__ internals>:5\u001b[0m, in \u001b[0;36mdet\u001b[1;34m(*args, **kwargs)\u001b[0m\n",
      "File \u001b[1;32m~\\anaconda3\\lib\\site-packages\\numpy\\linalg\\linalg.py:2155\u001b[0m, in \u001b[0;36mdet\u001b[1;34m(a)\u001b[0m\n\u001b[0;32m   2153\u001b[0m a \u001b[38;5;241m=\u001b[39m asarray(a)\n\u001b[0;32m   2154\u001b[0m _assert_stacked_2d(a)\n\u001b[1;32m-> 2155\u001b[0m \u001b[43m_assert_stacked_square\u001b[49m\u001b[43m(\u001b[49m\u001b[43ma\u001b[49m\u001b[43m)\u001b[49m\n\u001b[0;32m   2156\u001b[0m t, result_t \u001b[38;5;241m=\u001b[39m _commonType(a)\n\u001b[0;32m   2157\u001b[0m signature \u001b[38;5;241m=\u001b[39m \u001b[38;5;124m'\u001b[39m\u001b[38;5;124mD->D\u001b[39m\u001b[38;5;124m'\u001b[39m \u001b[38;5;28;01mif\u001b[39;00m isComplexType(t) \u001b[38;5;28;01melse\u001b[39;00m \u001b[38;5;124m'\u001b[39m\u001b[38;5;124md->d\u001b[39m\u001b[38;5;124m'\u001b[39m\n",
      "File \u001b[1;32m~\\anaconda3\\lib\\site-packages\\numpy\\linalg\\linalg.py:203\u001b[0m, in \u001b[0;36m_assert_stacked_square\u001b[1;34m(*arrays)\u001b[0m\n\u001b[0;32m    201\u001b[0m m, n \u001b[38;5;241m=\u001b[39m a\u001b[38;5;241m.\u001b[39mshape[\u001b[38;5;241m-\u001b[39m\u001b[38;5;241m2\u001b[39m:]\n\u001b[0;32m    202\u001b[0m \u001b[38;5;28;01mif\u001b[39;00m m \u001b[38;5;241m!=\u001b[39m n:\n\u001b[1;32m--> 203\u001b[0m     \u001b[38;5;28;01mraise\u001b[39;00m LinAlgError(\u001b[38;5;124m'\u001b[39m\u001b[38;5;124mLast 2 dimensions of the array must be square\u001b[39m\u001b[38;5;124m'\u001b[39m)\n",
      "\u001b[1;31mLinAlgError\u001b[0m: Last 2 dimensions of the array must be square"
     ]
    }
   ],
   "source": [
    "np.linalg.det(a)"
   ]
  },
  {
   "cell_type": "markdown",
   "id": "31de3f94",
   "metadata": {},
   "source": [
    "# conclusion:\n",
    "\n",
    "**we can only take determinant for squared matrix.**"
   ]
  },
  {
   "cell_type": "markdown",
   "id": "42075984",
   "metadata": {},
   "source": [
    "# finding rank"
   ]
  },
  {
   "cell_type": "code",
   "execution_count": 11,
   "id": "cba58e04",
   "metadata": {},
   "outputs": [
    {
     "data": {
      "text/plain": [
       "2"
      ]
     },
     "execution_count": 11,
     "metadata": {},
     "output_type": "execute_result"
    }
   ],
   "source": [
    "np.linalg.matrix_rank(a)"
   ]
  },
  {
   "cell_type": "code",
   "execution_count": 12,
   "id": "d6283bbf",
   "metadata": {},
   "outputs": [
    {
     "data": {
      "text/plain": [
       "array([[ 1,  1, -4],\n",
       "       [ 2, -1,  2]])"
      ]
     },
     "execution_count": 12,
     "metadata": {},
     "output_type": "execute_result"
    }
   ],
   "source": [
    "a = np.array([  [1,1,-4],[2,-1,2] ])\n",
    "a"
   ]
  },
  {
   "cell_type": "code",
   "execution_count": 13,
   "id": "f2bf6cb8",
   "metadata": {},
   "outputs": [
    {
     "data": {
      "text/plain": [
       "2"
      ]
     },
     "execution_count": 13,
     "metadata": {},
     "output_type": "execute_result"
    }
   ],
   "source": [
    "# rank of the matrix must be less than or equal to 2\n",
    "\n",
    "np.linalg.matrix_rank(a)"
   ]
  },
  {
   "cell_type": "markdown",
   "id": "37422018",
   "metadata": {},
   "source": [
    "# conclusion:\n",
    "\n",
    "**rank of the matrix <= # of row and column vectors, there are 3 column vectors and 2 row vectors since rank < 3, we conclude that vectors are linearly dependent and donot span the whole subspace!**\n",
    "\n",
    "**it needs to be a square matrix for rank being equal to # of rows or columns.**"
   ]
  },
  {
   "cell_type": "code",
   "execution_count": null,
   "id": "45a348cc",
   "metadata": {},
   "outputs": [],
   "source": []
  },
  {
   "cell_type": "markdown",
   "id": "f7c032cf",
   "metadata": {},
   "source": [
    "# finding the rank for a square matrix with big dimensions (which is manually time-draining)\n",
    "\n",
    "# checking whether randomness yield full rank matrices?"
   ]
  },
  {
   "cell_type": "code",
   "execution_count": 2,
   "id": "960ca27a",
   "metadata": {},
   "outputs": [],
   "source": [
    "n = 50\n",
    "mat = np.random.randint(low=1,high=99,size=(n,n)) # of rows and columns are 50,50\n",
    "\n",
    "count = []\n",
    "\n",
    "# if the rank is not equal to 50 in any of those 1000 matrices then count will have that in it.\n",
    "for i in range(10000):\n",
    "    \n",
    "    rank_of_mat = np.linalg.matrix_rank(mat)\n",
    "    \n",
    "    if rank_of_mat != n:\n",
    "        count.append(rank_of_matrix)"
   ]
  },
  {
   "cell_type": "code",
   "execution_count": 3,
   "id": "6bb16944",
   "metadata": {},
   "outputs": [
    {
     "data": {
      "image/png": "[encoded data removed]",
      "text/latex": [
       "$\\displaystyle \\left[ \\right]$"
      ],
      "text/plain": [
       "[]"
      ]
     },
     "execution_count": 3,
     "metadata": {},
     "output_type": "execute_result"
    }
   ],
   "source": [
    "count"
   ]
  },
  {
   "cell_type": "markdown",
   "id": "0cb32140",
   "metadata": {},
   "source": [
    "# conclusion:\n",
    "\n",
    "**we see that randomess and matrix being square actually prove to produce linearly independent vectors that span the whole subspace hence form the basis.**"
   ]
  },
  {
   "cell_type": "markdown",
   "id": "f7292384",
   "metadata": {},
   "source": [
    "if the matrix has 3*3 dimension and the rank is 2 dimension then what that means is everything the matrix contains can be represented using a 2d, just 2 vectors (either row or col) is enough to produce the 3rd vector. extra 1d is redundant, extra one vector is redundant. so Rank also finds the redundancy of the matrix by calculating the valuable dimensionality of information in the matrix (whether 2d,3d,4d is needed to represent the information in the matrix)"
   ]
  },
  {
   "cell_type": "markdown",
   "id": "790eb2eb",
   "metadata": {},
   "source": [
    "# day 107 and day 109"
   ]
  },
  {
   "cell_type": "code",
   "execution_count": 1,
   "id": "2e423552",
   "metadata": {},
   "outputs": [],
   "source": [
    "import numpy as np\n",
    "import sympy as sym\n",
    "from IPython.display import display,Math\n",
    "sym.init_printing()\n",
    "import matplotlib.pyplot as plt\n"
   ]
  },
  {
   "cell_type": "code",
   "execution_count": 5,
   "id": "bc4bb7ff",
   "metadata": {},
   "outputs": [
    {
     "data": {
      "text/plain": [
       "array([[14, 28,  1,  2,  8],\n",
       "       [19, 29,  3,  8,  8],\n",
       "       [28, 19, 19, 10, 28],\n",
       "       [ 6,  4, 13,  1, 16],\n",
       "       [11, 30,  7, 10, 18]])"
      ]
     },
     "execution_count": 5,
     "metadata": {},
     "output_type": "execute_result"
    }
   ],
   "source": [
    "mat = np.random.randint(1,33,(5,5))\n",
    "\n",
    "\n"
   ]
  },
  {
   "cell_type": "markdown",
   "id": "38fe43f9",
   "metadata": {},
   "source": [
    "# making the final row and a row before(penultimate) carry the same elements"
   ]
  },
  {
   "cell_type": "code",
   "execution_count": 6,
   "id": "bdf78145",
   "metadata": {},
   "outputs": [
    {
     "data": {
      "text/plain": [
       "array([[14, 28,  1,  2,  8],\n",
       "       [19, 29,  3,  8,  8],\n",
       "       [28, 19, 19, 10, 28],\n",
       "       [11, 30,  7, 10, 18],\n",
       "       [11, 30,  7, 10, 18]])"
      ]
     },
     "execution_count": 6,
     "metadata": {},
     "output_type": "execute_result"
    }
   ],
   "source": [
    "\n",
    "b = mat\n",
    "b[3,:] = b[4,:]\n",
    "b"
   ]
  },
  {
   "cell_type": "markdown",
   "id": "424f750a",
   "metadata": {},
   "source": [
    "# find the rank of the matrix now for b"
   ]
  },
  {
   "cell_type": "code",
   "execution_count": 7,
   "id": "d0657a1c",
   "metadata": {},
   "outputs": [
    {
     "data": {
      "text/plain": [
       "4"
      ]
     },
     "execution_count": 7,
     "metadata": {},
     "output_type": "execute_result"
    }
   ],
   "source": [
    "np.linalg.matrix_rank(b)"
   ]
  },
  {
   "cell_type": "markdown",
   "id": "d3838b22",
   "metadata": {},
   "source": [
    "# conclusion:\n",
    "\n",
    "\n",
    "**because the penultimate row and ultimate row have the same elements they are linearly dependent hence we get to see a rank of 4 despite its size being 5*5**"
   ]
  },
  {
   "cell_type": "code",
   "execution_count": 9,
   "id": "cdb5a81d",
   "metadata": {},
   "outputs": [
    {
     "data": {
      "text/plain": [
       "array([[1, 6, 8, 4, 5],\n",
       "       [5, 8, 5, 8, 1],\n",
       "       [7, 7, 3, 4, 3],\n",
       "       [3, 4, 5, 2, 3],\n",
       "       [5, 1, 3, 1, 3]])"
      ]
     },
     "execution_count": 9,
     "metadata": {},
     "output_type": "execute_result"
    }
   ],
   "source": [
    "a = np.random.randint(1,9,(5,5))\n",
    "\n",
    "a"
   ]
  },
  {
   "cell_type": "code",
   "execution_count": 10,
   "id": "43f0b67b",
   "metadata": {},
   "outputs": [
    {
     "data": {
      "text/plain": [
       "array([[1, 1, 8, 4, 5],\n",
       "       [5, 5, 5, 8, 1],\n",
       "       [7, 7, 3, 4, 3],\n",
       "       [3, 3, 5, 2, 3],\n",
       "       [5, 5, 3, 1, 3]])"
      ]
     },
     "execution_count": 10,
     "metadata": {},
     "output_type": "execute_result"
    }
   ],
   "source": [
    "a[:,1] = a[:,0]\n",
    "a"
   ]
  },
  {
   "cell_type": "code",
   "execution_count": 11,
   "id": "4851868a",
   "metadata": {},
   "outputs": [
    {
     "data": {
      "text/plain": [
       "4"
      ]
     },
     "execution_count": 11,
     "metadata": {},
     "output_type": "execute_result"
    }
   ],
   "source": [
    "np.linalg.matrix_rank(a)"
   ]
  },
  {
   "cell_type": "code",
   "execution_count": 17,
   "id": "77f0da92",
   "metadata": {},
   "outputs": [
    {
     "data": {
      "text/plain": [
       "array([[258, 818, 479, 573, 565],\n",
       "       [628, 679, 478, 767, 407],\n",
       "       [  9, 469,  54, 634, 793],\n",
       "       [523, 185, 730, 323, 652],\n",
       "       [320, 185, 386, 112, 663]])"
      ]
     },
     "execution_count": 17,
     "metadata": {},
     "output_type": "execute_result"
    }
   ],
   "source": [
    "# adding a random matrix with 'a'\n",
    "\n",
    "b = a + np.random.randint(0,999,(np.shape(a)))\n",
    "\n",
    "b"
   ]
  },
  {
   "cell_type": "code",
   "execution_count": 18,
   "id": "c6017b6d",
   "metadata": {},
   "outputs": [
    {
     "data": {
      "text/plain": [
       "5"
      ]
     },
     "execution_count": 18,
     "metadata": {},
     "output_type": "execute_result"
    }
   ],
   "source": [
    "np.linalg.matrix_rank(b)"
   ]
  },
  {
   "cell_type": "markdown",
   "id": "98719f98",
   "metadata": {},
   "source": [
    "# Rank of rank(A+B) and rank(AB)\n",
    "\n",
    "\n",
    "# Rules:\n",
    "**1. Rank of (AB) <= min(Rank(A),Rank(B))**\n",
    "\n",
    "\n",
    "\n",
    "**2. Rank of (A+B) <= Rank(A) + Rank(B)**\n"
   ]
  },
  {
   "cell_type": "code",
   "execution_count": 19,
   "id": "dc3aa9dd",
   "metadata": {},
   "outputs": [
    {
     "data": {
      "text/plain": [
       "5"
      ]
     },
     "execution_count": 19,
     "metadata": {},
     "output_type": "execute_result"
    }
   ],
   "source": [
    "# Rank(A+B)\n",
    "\n",
    "A = np.random.randint(1,99,(5,5))\n",
    "\n",
    "B = np.random.randint(1,99,(5,5))\n",
    "\n",
    "np.linalg.matrix_rank(A+B)"
   ]
  },
  {
   "cell_type": "code",
   "execution_count": 23,
   "id": "c6a24a9f",
   "metadata": {},
   "outputs": [
    {
     "data": {
      "text/plain": [
       "5"
      ]
     },
     "execution_count": 23,
     "metadata": {},
     "output_type": "execute_result"
    }
   ],
   "source": [
    "# Rank(AB)\n",
    "\n",
    "np.linalg.matrix_rank(A*B) # hadammard multiplication (element-wise)"
   ]
  },
  {
   "cell_type": "code",
   "execution_count": 27,
   "id": "9c42b956",
   "metadata": {},
   "outputs": [
    {
     "name": "stdout",
     "output_type": "stream",
     "text": [
      "Rank of a:  2\n",
      "Rank of b:  0\n",
      "Rank of add:  2\n"
     ]
    }
   ],
   "source": [
    "# 1\n",
    "a = np.array(([1,1,1],[2,2,2],[3,3,0]))\n",
    "b = np.array(([0,0,0],[0,0,0],[0,0,0]))\n",
    "\n",
    "add = a+b\n",
    "\n",
    "\n",
    "print('Rank of a: ',np.linalg.matrix_rank(a))\n",
    "print('Rank of b: ',np.linalg.matrix_rank(b))\n",
    "print('Rank of add: ',np.linalg.matrix_rank(add))"
   ]
  },
  {
   "cell_type": "code",
   "execution_count": 28,
   "id": "c4cb78d5",
   "metadata": {},
   "outputs": [
    {
     "name": "stdout",
     "output_type": "stream",
     "text": [
      "Rank of a:  3\n",
      "Rank of b:  3\n",
      "Rank of add:  3\n"
     ]
    }
   ],
   "source": [
    "# 2\n",
    "a = np.array(([1,2,3],[3,4,1],[5,9,1]))\n",
    "b = np.array(([0,3,5],[1,0,4],[3,3,0]))\n",
    "\n",
    "add = a+b\n",
    "\n",
    "\n",
    "print('Rank of a: ',np.linalg.matrix_rank(a))\n",
    "print('Rank of b: ',np.linalg.matrix_rank(b))\n",
    "print('Rank of add: ',np.linalg.matrix_rank(add))"
   ]
  },
  {
   "cell_type": "code",
   "execution_count": 29,
   "id": "0b8da733",
   "metadata": {},
   "outputs": [
    {
     "name": "stdout",
     "output_type": "stream",
     "text": [
      "Rank of a:  2\n",
      "Rank of b:  1\n",
      "Rank of add:  3\n"
     ]
    }
   ],
   "source": [
    "# 3\n",
    "a = np.array(([1,2,0],[3,4,0],[5,9,0]))\n",
    "b = np.array(([0,0,5],[0,0,4],[0,0,1]))\n",
    "\n",
    "add = a+b\n",
    "\n",
    "\n",
    "print('Rank of a: ',np.linalg.matrix_rank(a))\n",
    "print('Rank of b: ',np.linalg.matrix_rank(b))\n",
    "print('Rank of add: ',np.linalg.matrix_rank(add))"
   ]
  },
  {
   "cell_type": "code",
   "execution_count": 30,
   "id": "b9483491",
   "metadata": {},
   "outputs": [
    {
     "name": "stdout",
     "output_type": "stream",
     "text": [
      "Rank of a:  3\n",
      "Rank of b:  2\n",
      "Rank of add:  1\n"
     ]
    }
   ],
   "source": [
    "# 4\n",
    "a = np.array(([-1,-4,2],[-4,2,-1],[9,4,-3]))\n",
    "b = np.array(([1,4,0],[4,-2,0],[-9,-4,0]))\n",
    "\n",
    "add = a+b\n",
    "\n",
    "\n",
    "print('Rank of a: ',np.linalg.matrix_rank(a))\n",
    "print('Rank of b: ',np.linalg.matrix_rank(b))\n",
    "print('Rank of add: ',np.linalg.matrix_rank(add))"
   ]
  },
  {
   "cell_type": "code",
   "execution_count": null,
   "id": "0f07a06d",
   "metadata": {},
   "outputs": [],
   "source": []
  },
  {
   "cell_type": "markdown",
   "id": "bf5c2f0f",
   "metadata": {},
   "source": [
    "# day 111"
   ]
  },
  {
   "cell_type": "code",
   "execution_count": 1,
   "id": "21365499",
   "metadata": {},
   "outputs": [],
   "source": [
    "import numpy as np\n",
    "import sympy as sym\n",
    "from IPython.display import display,Math\n",
    "sym.init_printing()\n",
    "import matplotlib.pyplot as plt"
   ]
  },
  {
   "cell_type": "markdown",
   "id": "931d578e",
   "metadata": {},
   "source": [
    "# Goal: Reduced-Rank Matrices\n",
    "\n",
    "step1: create 2 **10x10** matrices such that the result produced by multiplying them(elment-wise) is a **10x10** matrix with **rank 4**\n",
    "\n",
    "\n",
    "step2: generalize the procedure to create any MxN matrix with rank r."
   ]
  },
  {
   "cell_type": "markdown",
   "id": "c86ae832",
   "metadata": {},
   "source": [
    "# step1"
   ]
  },
  {
   "cell_type": "code",
   "execution_count": 39,
   "id": "88929602",
   "metadata": {},
   "outputs": [
    {
     "data": {
      "text/plain": [
       "array([[35, 38, 20,  9, 72,  2, 84, 75, 67, 44],\n",
       "       [86, 65, 35, 23, 80,  3, 90, 43, 10, 84],\n",
       "       [74, 66, 81,  8, 57, 61,  4, 61, 45, 39],\n",
       "       [58, 80, 46, 94, 64, 18, 76, 49, 27, 14],\n",
       "       [14, 65, 72, 58, 79,  7, 81, 30, 26, 92],\n",
       "       [34, 79, 53, 78, 25, 77, 42, 61,  1, 88],\n",
       "       [54, 97, 79, 58, 79, 79, 66, 92, 83, 98],\n",
       "       [ 2, 62, 60, 90, 45, 70, 95, 76,  3, 84],\n",
       "       [ 4, 16, 11, 13, 76, 40, 54, 75, 91, 84],\n",
       "       [73, 60,  3,  1, 85, 14, 22, 73, 96, 10]])"
      ]
     },
     "execution_count": 39,
     "metadata": {},
     "output_type": "execute_result"
    }
   ],
   "source": [
    "a = np.random.randint(1,99,(10,10))\n",
    "a"
   ]
  },
  {
   "cell_type": "code",
   "execution_count": 40,
   "id": "3528acc1",
   "metadata": {},
   "outputs": [
    {
     "data": {
      "text/plain": [
       "array([[8, 6, 1, 1, 9, 4, 8, 7, 9, 9],\n",
       "       [2, 1, 5, 9, 9, 4, 3, 7, 5, 2],\n",
       "       [4, 9, 8, 6, 7, 9, 2, 7, 9, 4],\n",
       "       [5, 6, 8, 2, 1, 8, 4, 3, 5, 9],\n",
       "       [9, 2, 3, 6, 5, 9, 9, 1, 4, 3],\n",
       "       [7, 7, 5, 6, 2, 1, 8, 8, 3, 4],\n",
       "       [9, 8, 4, 3, 1, 6, 8, 1, 5, 9],\n",
       "       [3, 6, 9, 5, 8, 2, 6, 5, 6, 8],\n",
       "       [1, 8, 7, 5, 5, 1, 3, 7, 4, 8],\n",
       "       [7, 5, 1, 5, 3, 7, 4, 7, 2, 4]])"
      ]
     },
     "execution_count": 40,
     "metadata": {},
     "output_type": "execute_result"
    }
   ],
   "source": [
    "b = np.random.randint(1,10,(10,10))\n",
    "b"
   ]
  },
  {
   "cell_type": "code",
   "execution_count": 41,
   "id": "346b9c6c",
   "metadata": {},
   "outputs": [
    {
     "data": {
      "text/plain": [
       "10"
      ]
     },
     "execution_count": 41,
     "metadata": {},
     "output_type": "execute_result"
    }
   ],
   "source": [
    "mul = a*b\n",
    "\n",
    "np.linalg.matrix_rank(mul)"
   ]
  },
  {
   "cell_type": "code",
   "execution_count": 45,
   "id": "0d0e4232",
   "metadata": {},
   "outputs": [
    {
     "data": {
      "text/plain": [
       "array([[35, 38, 20,  9,  0,  0,  0,  0,  0,  0],\n",
       "       [86, 65, 35, 23,  0,  0,  0,  0,  0,  0],\n",
       "       [74, 66, 81,  8,  0,  0,  0,  0,  0,  0],\n",
       "       [58, 80, 46, 94,  0,  0,  0,  0,  0,  0],\n",
       "       [14, 65, 72, 58,  0,  0,  0,  0,  0,  0],\n",
       "       [34, 79, 53, 78,  0,  0,  0,  0,  0,  0],\n",
       "       [54, 97, 79, 58,  0,  0,  0,  0,  0,  0],\n",
       "       [ 2, 62, 60, 90,  0,  0,  0,  0,  0,  0],\n",
       "       [ 4, 16, 11, 13,  0,  0,  0,  0,  0,  0],\n",
       "       [73, 60,  3,  1,  0,  0,  0,  0,  0,  0]])"
      ]
     },
     "execution_count": 45,
     "metadata": {},
     "output_type": "execute_result"
    }
   ],
   "source": [
    "# now we want to reduce the rank by the making the elements linearly dependent\n",
    "\n",
    "how_many_ranks = 4\n",
    "zeros = np.zeros(np.shape(a[:,how_many_ranks:]))\n",
    "a[:,how_many_ranks:] = zeros\n",
    "a\n"
   ]
  },
  {
   "cell_type": "code",
   "execution_count": 46,
   "id": "8b05420b",
   "metadata": {},
   "outputs": [
    {
     "data": {
      "text/plain": [
       "4"
      ]
     },
     "execution_count": 46,
     "metadata": {},
     "output_type": "execute_result"
    }
   ],
   "source": [
    "np.linalg.matrix_rank(a)"
   ]
  },
  {
   "cell_type": "code",
   "execution_count": 47,
   "id": "5469aaac",
   "metadata": {},
   "outputs": [
    {
     "data": {
      "text/plain": [
       "array([[8, 6, 1, 1, 0, 0, 0, 0, 0, 0],\n",
       "       [2, 1, 5, 9, 0, 0, 0, 0, 0, 0],\n",
       "       [4, 9, 8, 6, 0, 0, 0, 0, 0, 0],\n",
       "       [5, 6, 8, 2, 0, 0, 0, 0, 0, 0],\n",
       "       [9, 2, 3, 6, 0, 0, 0, 0, 0, 0],\n",
       "       [7, 7, 5, 6, 0, 0, 0, 0, 0, 0],\n",
       "       [9, 8, 4, 3, 0, 0, 0, 0, 0, 0],\n",
       "       [3, 6, 9, 5, 0, 0, 0, 0, 0, 0],\n",
       "       [1, 8, 7, 5, 0, 0, 0, 0, 0, 0],\n",
       "       [7, 5, 1, 5, 0, 0, 0, 0, 0, 0]])"
      ]
     },
     "execution_count": 47,
     "metadata": {},
     "output_type": "execute_result"
    }
   ],
   "source": [
    "how_many_ranks = 4\n",
    "zeros = np.zeros(np.shape(b[:,how_many_ranks:]))\n",
    "b[:,how_many_ranks:] = zeros\n",
    "b\n"
   ]
  },
  {
   "cell_type": "code",
   "execution_count": 49,
   "id": "8276e38a",
   "metadata": {},
   "outputs": [
    {
     "data": {
      "text/plain": [
       "4"
      ]
     },
     "execution_count": 49,
     "metadata": {},
     "output_type": "execute_result"
    }
   ],
   "source": [
    "np.linalg.matrix_rank(b)"
   ]
  },
  {
   "cell_type": "code",
   "execution_count": 50,
   "id": "4e2f9fec",
   "metadata": {},
   "outputs": [
    {
     "data": {
      "text/plain": [
       "array([[280, 228,  20,   9,   0,   0,   0,   0,   0,   0],\n",
       "       [172,  65, 175, 207,   0,   0,   0,   0,   0,   0],\n",
       "       [296, 594, 648,  48,   0,   0,   0,   0,   0,   0],\n",
       "       [290, 480, 368, 188,   0,   0,   0,   0,   0,   0],\n",
       "       [126, 130, 216, 348,   0,   0,   0,   0,   0,   0],\n",
       "       [238, 553, 265, 468,   0,   0,   0,   0,   0,   0],\n",
       "       [486, 776, 316, 174,   0,   0,   0,   0,   0,   0],\n",
       "       [  6, 372, 540, 450,   0,   0,   0,   0,   0,   0],\n",
       "       [  4, 128,  77,  65,   0,   0,   0,   0,   0,   0],\n",
       "       [511, 300,   3,   5,   0,   0,   0,   0,   0,   0]])"
      ]
     },
     "execution_count": 50,
     "metadata": {},
     "output_type": "execute_result"
    }
   ],
   "source": [
    "mul = a*b\n",
    "mul"
   ]
  },
  {
   "cell_type": "code",
   "execution_count": 51,
   "id": "cb4d1910",
   "metadata": {},
   "outputs": [
    {
     "data": {
      "text/plain": [
       "4"
      ]
     },
     "execution_count": 51,
     "metadata": {},
     "output_type": "execute_result"
    }
   ],
   "source": [
    "np.linalg.matrix_rank(mul)\n",
    "\n",
    "# rank is now reduced to half"
   ]
  },
  {
   "cell_type": "markdown",
   "id": "57727dec",
   "metadata": {},
   "source": [
    "# step2: Generalizing the rule for reducing rank"
   ]
  },
  {
   "cell_type": "code",
   "execution_count": 52,
   "id": "0f24457d",
   "metadata": {},
   "outputs": [
    {
     "data": {
      "text/plain": [
       "array([[11, 14, 22, 16,  7,  4, 30],\n",
       "       [14, 31, 28, 21,  6,  6, 10],\n",
       "       [32, 20, 17, 17, 10,  1,  1],\n",
       "       [21, 15, 20,  8, 10, 18, 21],\n",
       "       [14, 10, 17, 31, 14, 20, 14]])"
      ]
     },
     "execution_count": 52,
     "metadata": {},
     "output_type": "execute_result"
    }
   ],
   "source": [
    "# create a 5*7 matrix with rank 3\n",
    "\n",
    "a = np.random.randint(1,33,(5,7))\n",
    "a\n"
   ]
  },
  {
   "cell_type": "code",
   "execution_count": 53,
   "id": "43abb6bd",
   "metadata": {},
   "outputs": [
    {
     "data": {
      "text/plain": [
       "5"
      ]
     },
     "execution_count": 53,
     "metadata": {},
     "output_type": "execute_result"
    }
   ],
   "source": [
    "np.linalg.matrix_rank(a)"
   ]
  },
  {
   "cell_type": "code",
   "execution_count": 54,
   "id": "9e500070",
   "metadata": {},
   "outputs": [
    {
     "data": {
      "text/plain": [
       "array([[0., 0., 0., 0.],\n",
       "       [0., 0., 0., 0.],\n",
       "       [0., 0., 0., 0.],\n",
       "       [0., 0., 0., 0.],\n",
       "       [0., 0., 0., 0.]])"
      ]
     },
     "execution_count": 54,
     "metadata": {},
     "output_type": "execute_result"
    }
   ],
   "source": [
    "target_rank = 3\n",
    "zeros = np.zeros(np.shape(a[:,target_rank:]))\n",
    "\n",
    "zeros"
   ]
  },
  {
   "cell_type": "code",
   "execution_count": 55,
   "id": "12cfd227",
   "metadata": {},
   "outputs": [
    {
     "data": {
      "text/plain": [
       "array([[11, 14, 22,  0,  0,  0,  0],\n",
       "       [14, 31, 28,  0,  0,  0,  0],\n",
       "       [32, 20, 17,  0,  0,  0,  0],\n",
       "       [21, 15, 20,  0,  0,  0,  0],\n",
       "       [14, 10, 17,  0,  0,  0,  0]])"
      ]
     },
     "execution_count": 55,
     "metadata": {},
     "output_type": "execute_result"
    }
   ],
   "source": [
    "a[:,target_rank:] = zeros\n",
    "a"
   ]
  },
  {
   "cell_type": "code",
   "execution_count": 56,
   "id": "7a0f149c",
   "metadata": {},
   "outputs": [
    {
     "data": {
      "text/plain": [
       "3"
      ]
     },
     "execution_count": 56,
     "metadata": {},
     "output_type": "execute_result"
    }
   ],
   "source": [
    "np.linalg.matrix_rank(a)"
   ]
  },
  {
   "cell_type": "code",
   "execution_count": 57,
   "id": "4790bf4e",
   "metadata": {},
   "outputs": [
    {
     "data": {
      "text/plain": [
       "array([[14, 55,  0,  0,  0,  0,  0,  0,  0],\n",
       "       [33, 18,  0,  0,  0,  0,  0,  0,  0],\n",
       "       [90, 75,  0,  0,  0,  0,  0,  0,  0],\n",
       "       [80, 15,  0,  0,  0,  0,  0,  0,  0],\n",
       "       [45, 66,  0,  0,  0,  0,  0,  0,  0],\n",
       "       [33, 61,  0,  0,  0,  0,  0,  0,  0],\n",
       "       [72, 75,  0,  0,  0,  0,  0,  0,  0]])"
      ]
     },
     "execution_count": 57,
     "metadata": {},
     "output_type": "execute_result"
    }
   ],
   "source": [
    "def reduce_rank(matrix,target_rank):\n",
    "    \n",
    "    zeros = np.zeros(np.shape(matrix[:,target_rank:]))\n",
    "    matrix[:,target_rank:] = zeros\n",
    "    \n",
    "    return matrix\n",
    "\n",
    "matrix = np.random.randint(1,99,(7,9))\n",
    "target_rank = 2\n",
    "\n",
    "reduce_rank(matrix,target_rank)\n",
    "\n"
   ]
  },
  {
   "cell_type": "markdown",
   "id": "aca70bba",
   "metadata": {},
   "source": [
    "# instructor's solution:\n",
    "\n"
   ]
  },
  {
   "cell_type": "code",
   "execution_count": 70,
   "id": "790b2d1e",
   "metadata": {},
   "outputs": [
    {
     "data": {
      "text/plain": [
       "((8, 47), 2)"
      ]
     },
     "execution_count": 70,
     "metadata": {},
     "output_type": "execute_result"
    }
   ],
   "source": [
    "def reduced_rank_matrix(row,col,rank):\n",
    "    \n",
    "    a = np.random.randint(1,33,(row,rank))\n",
    "    b = np.random.randint(1,17,(rank,col))\n",
    "    \n",
    "    dot_prod = np.dot(a,b)\n",
    "    \n",
    "    \n",
    "    return np.shape(dot_prod),np.linalg.matrix_rank(dot_prod)\n",
    "\n",
    "\n",
    "\n",
    "reduced_rank_matrix(row = 8,col = 47, rank = 2 )\n",
    "\n",
    "# notice the rule is that the rank needs to be <= min(row,col) for the rank_reducing formula to work without glitch."
   ]
  },
  {
   "cell_type": "markdown",
   "id": "e2dbc047",
   "metadata": {},
   "source": [
    "# conclusion:\n",
    "\n",
    "reduced_rank technique:\n",
    "\n",
    "# (row,rank).(rank,col)\n",
    "    \n"
   ]
  },
  {
   "cell_type": "code",
   "execution_count": null,
   "id": "cd67cd3a",
   "metadata": {},
   "outputs": [],
   "source": []
  },
  {
   "cell_type": "markdown",
   "id": "38510bf4",
   "metadata": {},
   "source": [
    "# day 113"
   ]
  },
  {
   "cell_type": "code",
   "execution_count": 1,
   "id": "3bf3da3a",
   "metadata": {},
   "outputs": [],
   "source": [
    "import numpy as np\n",
    "import sympy as sym\n",
    "from IPython.display import display,Math\n",
    "sym.init_printing()\n",
    "import matplotlib.pyplot as plt"
   ]
  },
  {
   "cell_type": "markdown",
   "id": "cd55b154",
   "metadata": {},
   "source": [
    "# Goals:\n",
    "\n",
    "#  check whether scalar multiplication is invariant to the matrix rank\n",
    "\n",
    "\n",
    "\n",
    "step1: create two matrices full rank and reduced-rank (randomly)\n",
    "\n",
    "\n",
    "\n",
    "step2: create some scaler\n",
    "\n",
    "\n",
    "\n",
    "\n",
    "step3: print the ranks of those full rank matrix and reduced-rank matrix.\n",
    "\n",
    "\n",
    "\n",
    "\n",
    "step4: multiply the scaler with both matrices.\n",
    "\n",
    "\n",
    "\n",
    "\n",
    "step5: see if they have their ranks changed or reduced.\n",
    "    \n",
    "\n",
    "\n",
    "\n",
    "step6: check whether scaler * rank(f) == rank(scaler * f)\n",
    "\n",
    "\n",
    "\n",
    "step7: check whether rank changes when matrices are scaled with 'ZERO'"
   ]
  },
  {
   "cell_type": "code",
   "execution_count": 21,
   "id": "ed43c849",
   "metadata": {},
   "outputs": [
    {
     "data": {
      "text/plain": [
       "False"
      ]
     },
     "execution_count": 21,
     "metadata": {},
     "output_type": "execute_result"
    }
   ],
   "source": [
    "# creating a full rank and reduced-rank matrix\n",
    "\n",
    "# full-rank\n",
    "f = np.random.randint(1,9,(5,5))\n",
    "\n",
    "rank_f = np.linalg.matrix_rank(f)\n",
    "\n",
    "# reduced-rank\n",
    "rank = 3\n",
    "row = 5\n",
    "col = 5\n",
    "r = np.dot(np.random.randint(2,22,(row,rank)),np.random.randint(1,9,(rank,col)))\n",
    "\n",
    "rank_r = np.linalg.matrix_rank(r)\n",
    "\n",
    "\n",
    "# scaler multiplication\n",
    "scaler = 5\n",
    "\n",
    "scaled_f = scaler*f\n",
    "scaled_r = scaler*r\n",
    "\n",
    "\n",
    "# ranks of scaled_f and scaled_r\n",
    "rank_scaled_f = np.linalg.matrix_rank(scaled_f)\n",
    "rank_scaled_r = np.linalg.matrix_rank(scaled_r)\n",
    "\n",
    "\n",
    "# check whether scaler * rank(f) == rank(scaler * f)\n",
    "\n",
    "scaler * rank_f == np.linalg.matrix_rank(scaler*f)\n"
   ]
  },
  {
   "cell_type": "markdown",
   "id": "a7d71a25",
   "metadata": {},
   "source": [
    "# explanation,analysis and freethrows"
   ]
  },
  {
   "cell_type": "code",
   "execution_count": 13,
   "id": "fd52b1e7",
   "metadata": {},
   "outputs": [
    {
     "data": {
      "text/plain": [
       "array([[8, 8, 8, 1, 2],\n",
       "       [7, 8, 4, 7, 5],\n",
       "       [3, 7, 1, 5, 2],\n",
       "       [1, 3, 6, 8, 1],\n",
       "       [5, 2, 6, 1, 3]])"
      ]
     },
     "execution_count": 13,
     "metadata": {},
     "output_type": "execute_result"
    }
   ],
   "source": [
    "f"
   ]
  },
  {
   "cell_type": "code",
   "execution_count": 14,
   "id": "76ed31df",
   "metadata": {},
   "outputs": [
    {
     "data": {
      "text/plain": [
       "5"
      ]
     },
     "execution_count": 14,
     "metadata": {},
     "output_type": "execute_result"
    }
   ],
   "source": [
    "rank_f"
   ]
  },
  {
   "cell_type": "code",
   "execution_count": 15,
   "id": "37aade3b",
   "metadata": {},
   "outputs": [
    {
     "data": {
      "text/plain": [
       "array([[40, 40, 40,  5, 10],\n",
       "       [35, 40, 20, 35, 25],\n",
       "       [15, 35,  5, 25, 10],\n",
       "       [ 5, 15, 30, 40,  5],\n",
       "       [25, 10, 30,  5, 15]])"
      ]
     },
     "execution_count": 15,
     "metadata": {},
     "output_type": "execute_result"
    }
   ],
   "source": [
    "scaled_f"
   ]
  },
  {
   "cell_type": "code",
   "execution_count": 16,
   "id": "b95f2c8f",
   "metadata": {},
   "outputs": [
    {
     "data": {
      "text/plain": [
       "5"
      ]
     },
     "execution_count": 16,
     "metadata": {},
     "output_type": "execute_result"
    }
   ],
   "source": [
    "rank_scaled_f"
   ]
  },
  {
   "cell_type": "code",
   "execution_count": 17,
   "id": "71a9dc95",
   "metadata": {},
   "outputs": [
    {
     "data": {
      "text/plain": [
       "array([[244, 246, 142, 294, 200],\n",
       "       [128, 117,  89, 153, 100],\n",
       "       [118, 120, 124, 180, 116],\n",
       "       [270, 241, 193, 321, 208],\n",
       "       [ 98,  84,  44,  96,  64]])"
      ]
     },
     "execution_count": 17,
     "metadata": {},
     "output_type": "execute_result"
    }
   ],
   "source": [
    "r"
   ]
  },
  {
   "cell_type": "code",
   "execution_count": 18,
   "id": "6a8c8480",
   "metadata": {},
   "outputs": [
    {
     "data": {
      "text/plain": [
       "3"
      ]
     },
     "execution_count": 18,
     "metadata": {},
     "output_type": "execute_result"
    }
   ],
   "source": [
    "rank_r"
   ]
  },
  {
   "cell_type": "code",
   "execution_count": 19,
   "id": "d64d293c",
   "metadata": {},
   "outputs": [
    {
     "data": {
      "text/plain": [
       "array([[1220, 1230,  710, 1470, 1000],\n",
       "       [ 640,  585,  445,  765,  500],\n",
       "       [ 590,  600,  620,  900,  580],\n",
       "       [1350, 1205,  965, 1605, 1040],\n",
       "       [ 490,  420,  220,  480,  320]])"
      ]
     },
     "execution_count": 19,
     "metadata": {},
     "output_type": "execute_result"
    }
   ],
   "source": [
    "scaled_r"
   ]
  },
  {
   "cell_type": "code",
   "execution_count": 20,
   "id": "70fe01b5",
   "metadata": {},
   "outputs": [
    {
     "data": {
      "text/plain": [
       "3"
      ]
     },
     "execution_count": 20,
     "metadata": {},
     "output_type": "execute_result"
    }
   ],
   "source": [
    "rank_scaled_r"
   ]
  },
  {
   "cell_type": "code",
   "execution_count": 22,
   "id": "99fce29b",
   "metadata": {},
   "outputs": [
    {
     "data": {
      "text/plain": [
       "25"
      ]
     },
     "execution_count": 22,
     "metadata": {},
     "output_type": "execute_result"
    }
   ],
   "source": [
    "#check whether scaler * rank(f) == rank(scaler * f)\n",
    "\n",
    "\n",
    "scaler*rank_f"
   ]
  },
  {
   "cell_type": "code",
   "execution_count": 23,
   "id": "59164229",
   "metadata": {},
   "outputs": [
    {
     "data": {
      "text/plain": [
       "5"
      ]
     },
     "execution_count": 23,
     "metadata": {},
     "output_type": "execute_result"
    }
   ],
   "source": [
    "np.linalg.matrix_rank(scaler*f)"
   ]
  },
  {
   "cell_type": "code",
   "execution_count": 25,
   "id": "d93c5bb7",
   "metadata": {},
   "outputs": [
    {
     "data": {
      "text/plain": [
       "0"
      ]
     },
     "execution_count": 25,
     "metadata": {},
     "output_type": "execute_result"
    }
   ],
   "source": [
    "# check when the scaler is zero\n",
    "scaler = 0\n",
    "np.linalg.matrix_rank(f*scaler)"
   ]
  },
  {
   "cell_type": "code",
   "execution_count": 26,
   "id": "79b27e29",
   "metadata": {},
   "outputs": [
    {
     "data": {
      "text/plain": [
       "0"
      ]
     },
     "execution_count": 26,
     "metadata": {},
     "output_type": "execute_result"
    }
   ],
   "source": [
    "np.linalg.matrix_rank(r*scaler)"
   ]
  },
  {
   "cell_type": "code",
   "execution_count": 27,
   "id": "2bc946e8",
   "metadata": {},
   "outputs": [
    {
     "data": {
      "text/plain": [
       "True"
      ]
     },
     "execution_count": 27,
     "metadata": {},
     "output_type": "execute_result"
    }
   ],
   "source": [
    "\n",
    "scaler * rank_f == np.linalg.matrix_rank(scaler*f)"
   ]
  },
  {
   "cell_type": "markdown",
   "id": "84a0fcf4",
   "metadata": {},
   "source": [
    "# conclusion:\n",
    "\n",
    "**scaler doesn't change or increase or decrease the rank of the matrix. so scaler multiplication is invariant to the rank of the matrix except when the scaler is zero it reduces the rank to zero**"
   ]
  },
  {
   "cell_type": "code",
   "execution_count": null,
   "id": "d24ac779",
   "metadata": {},
   "outputs": [],
   "source": []
  },
  {
   "cell_type": "markdown",
   "id": "186adae7",
   "metadata": {},
   "source": [
    "# day 119"
   ]
  },
  {
   "cell_type": "code",
   "execution_count": 12,
   "id": "8fd7da02",
   "metadata": {},
   "outputs": [],
   "source": [
    "import numpy as np\n",
    "import sympy as sym\n",
    "from IPython.display import display,Math\n",
    "sym.init_printing()\n",
    "import matplotlib.pyplot as plt\n",
    "import tensorflow as tf"
   ]
  },
  {
   "cell_type": "markdown",
   "id": "db7cb8a0",
   "metadata": {},
   "source": [
    "# Rank(A) = Rank(AT.A) = Rank(A.AT) = Rank(AT)\n",
    "\n",
    "\n",
    "Rank will remain the same even if you flip the dimension."
   ]
  },
  {
   "cell_type": "code",
   "execution_count": 4,
   "id": "5d6b6a9f",
   "metadata": {},
   "outputs": [
    {
     "data": {
      "text/plain": [
       "array([[6, 8, 3],\n",
       "       [1, 5, 4],\n",
       "       [4, 1, 3]])"
      ]
     },
     "execution_count": 4,
     "metadata": {},
     "output_type": "execute_result"
    }
   ],
   "source": [
    "A = np.random.randint(1,9,(3,3))\n",
    "A"
   ]
  },
  {
   "cell_type": "code",
   "execution_count": 5,
   "id": "d8463e08",
   "metadata": {},
   "outputs": [
    {
     "data": {
      "text/plain": [
       "array([[53, 57, 34],\n",
       "       [57, 90, 47],\n",
       "       [34, 47, 34]])"
      ]
     },
     "execution_count": 5,
     "metadata": {},
     "output_type": "execute_result"
    }
   ],
   "source": [
    "# AT.A \n",
    "np.dot(A.T,A) # produces symmetricity"
   ]
  },
  {
   "cell_type": "code",
   "execution_count": 9,
   "id": "50c2ef10",
   "metadata": {},
   "outputs": [
    {
     "data": {
      "text/plain": [
       "array([[109,  58,  41],\n",
       "       [ 58,  42,  21],\n",
       "       [ 41,  21,  26]])"
      ]
     },
     "execution_count": 9,
     "metadata": {},
     "output_type": "execute_result"
    }
   ],
   "source": [
    "# A.AT\n",
    "\n",
    "np.dot(A,A.T) # also produces symmetricity"
   ]
  },
  {
   "cell_type": "code",
   "execution_count": 10,
   "id": "9fdb0070",
   "metadata": {},
   "outputs": [
    {
     "data": {
      "text/plain": [
       "array([[6, 1, 4],\n",
       "       [8, 5, 1],\n",
       "       [3, 4, 3]])"
      ]
     },
     "execution_count": 10,
     "metadata": {},
     "output_type": "execute_result"
    }
   ],
   "source": [
    "A.T"
   ]
  },
  {
   "cell_type": "code",
   "execution_count": 6,
   "id": "d3f41de9",
   "metadata": {},
   "outputs": [
    {
     "data": {
      "text/plain": [
       "3"
      ]
     },
     "execution_count": 6,
     "metadata": {},
     "output_type": "execute_result"
    }
   ],
   "source": [
    "# Rank(A)\n",
    "np.linalg.matrix_rank(A)"
   ]
  },
  {
   "cell_type": "code",
   "execution_count": 7,
   "id": "3b8ad2e4",
   "metadata": {},
   "outputs": [
    {
     "data": {
      "text/plain": [
       "3"
      ]
     },
     "execution_count": 7,
     "metadata": {},
     "output_type": "execute_result"
    }
   ],
   "source": [
    "# Rank(AT.A)\n",
    "np.linalg.matrix_rank(np.dot(A.T,A)) "
   ]
  },
  {
   "cell_type": "code",
   "execution_count": 8,
   "id": "e362a6f6",
   "metadata": {},
   "outputs": [
    {
     "data": {
      "text/plain": [
       "3"
      ]
     },
     "execution_count": 8,
     "metadata": {},
     "output_type": "execute_result"
    }
   ],
   "source": [
    "# Rank(A.AT)\n",
    "np.linalg.matrix_rank(np.dot(A,A.T))"
   ]
  },
  {
   "cell_type": "code",
   "execution_count": 11,
   "id": "beefd7e1",
   "metadata": {},
   "outputs": [
    {
     "data": {
      "text/plain": [
       "3"
      ]
     },
     "execution_count": 11,
     "metadata": {},
     "output_type": "execute_result"
    }
   ],
   "source": [
    "# Rank(A.T)\n",
    "np.linalg.matrix_rank(A.T)"
   ]
  },
  {
   "cell_type": "code",
   "execution_count": 15,
   "id": "95d4f654",
   "metadata": {},
   "outputs": [
    {
     "data": {
      "text/plain": [
       "<tf.Tensor: shape=(), dtype=int32, numpy=2>"
      ]
     },
     "execution_count": 15,
     "metadata": {},
     "output_type": "execute_result"
    }
   ],
   "source": [
    "# tensor rank of A\n",
    "tf.rank(A)"
   ]
  },
  {
   "cell_type": "code",
   "execution_count": 16,
   "id": "f64c6de7",
   "metadata": {},
   "outputs": [
    {
     "data": {
      "text/plain": [
       "<tf.Tensor: shape=(), dtype=int32, numpy=2>"
      ]
     },
     "execution_count": 16,
     "metadata": {},
     "output_type": "execute_result"
    }
   ],
   "source": [
    "tf.rank(np.dot(A,A.T))"
   ]
  },
  {
   "cell_type": "code",
   "execution_count": 17,
   "id": "871053c1",
   "metadata": {},
   "outputs": [
    {
     "data": {
      "text/plain": [
       "<tf.Tensor: shape=(), dtype=int32, numpy=2>"
      ]
     },
     "execution_count": 17,
     "metadata": {},
     "output_type": "execute_result"
    }
   ],
   "source": [
    "tf.rank(np.dot(A.T,A))"
   ]
  },
  {
   "cell_type": "code",
   "execution_count": 18,
   "id": "83884ec7",
   "metadata": {},
   "outputs": [
    {
     "data": {
      "text/plain": [
       "<tf.Tensor: shape=(), dtype=int32, numpy=2>"
      ]
     },
     "execution_count": 18,
     "metadata": {},
     "output_type": "execute_result"
    }
   ],
   "source": [
    "tf.rank(A.T)"
   ]
  },
  {
   "cell_type": "markdown",
   "id": "81076a80",
   "metadata": {},
   "source": [
    "# conclusion:\n",
    "\n",
    "**Matrix rank is all three but Tensor rank is all two because Matrix is a 2d Tensor**"
   ]
  },
  {
   "cell_type": "code",
   "execution_count": null,
   "id": "de171f7d",
   "metadata": {},
   "outputs": [],
   "source": []
  },
  {
   "cell_type": "markdown",
   "id": "bb52482a",
   "metadata": {},
   "source": [
    "# day 121 and day 122"
   ]
  },
  {
   "cell_type": "code",
   "execution_count": 2,
   "id": "fd8cb2cb",
   "metadata": {},
   "outputs": [],
   "source": [
    "import numpy as np\n",
    "import sympy as sym\n",
    "from IPython.display import display,Math\n",
    "sym.init_printing()\n",
    "import matplotlib.pyplot as plt\n",
    "import seaborn as sns"
   ]
  },
  {
   "cell_type": "markdown",
   "id": "45400f40",
   "metadata": {},
   "source": [
    "# How AT.A spans the same space as A?"
   ]
  },
  {
   "cell_type": "code",
   "execution_count": 4,
   "id": "a0027432",
   "metadata": {},
   "outputs": [],
   "source": [
    "\n",
    "# random squre matrix\n",
    "A = np.random.randint(1,9,(3,3)) \n",
    "\n",
    "# transpose of A\n",
    "transpose = np.transpose(A)\n",
    "\n",
    "# AT.A\n",
    "symmetric = np.dot(np.transpose(A),A)\n"
   ]
  },
  {
   "cell_type": "code",
   "execution_count": 5,
   "id": "2a322b89",
   "metadata": {},
   "outputs": [
    {
     "data": {
      "text/plain": [
       "array([[1, 2, 7],\n",
       "       [5, 4, 1],\n",
       "       [2, 4, 2]])"
      ]
     },
     "execution_count": 5,
     "metadata": {},
     "output_type": "execute_result"
    }
   ],
   "source": [
    "A"
   ]
  },
  {
   "cell_type": "code",
   "execution_count": 6,
   "id": "6a966e0a",
   "metadata": {},
   "outputs": [
    {
     "data": {
      "text/plain": [
       "array([[1, 5, 2],\n",
       "       [2, 4, 4],\n",
       "       [7, 1, 2]])"
      ]
     },
     "execution_count": 6,
     "metadata": {},
     "output_type": "execute_result"
    }
   ],
   "source": [
    "transpose \n",
    "\n",
    "# in transpose the diagonal remains the same. \n",
    "# transposing is flipping the elements of the matrix over their diagonal."
   ]
  },
  {
   "cell_type": "code",
   "execution_count": 7,
   "id": "84957778",
   "metadata": {},
   "outputs": [
    {
     "data": {
      "text/plain": [
       "array([[30, 30, 16],\n",
       "       [30, 36, 26],\n",
       "       [16, 26, 54]])"
      ]
     },
     "execution_count": 7,
     "metadata": {},
     "output_type": "execute_result"
    }
   ],
   "source": [
    "symmetric"
   ]
  },
  {
   "cell_type": "code",
   "execution_count": 11,
   "id": "ff3e4dbd",
   "metadata": {},
   "outputs": [],
   "source": [
    "# non-square matrix\n",
    "\n",
    "A = np.random.randint(1,9,(3,4))\n",
    "\n",
    "transpose = np.transpose(A)\n",
    "\n",
    "symmetric = np.dot(A,transpose)\n",
    "\n"
   ]
  },
  {
   "cell_type": "code",
   "execution_count": 12,
   "id": "0b32c9ec",
   "metadata": {},
   "outputs": [
    {
     "data": {
      "text/plain": [
       "array([[4, 5, 2, 3],\n",
       "       [5, 1, 6, 5],\n",
       "       [4, 6, 5, 8]])"
      ]
     },
     "execution_count": 12,
     "metadata": {},
     "output_type": "execute_result"
    }
   ],
   "source": [
    "A"
   ]
  },
  {
   "cell_type": "code",
   "execution_count": 13,
   "id": "c5864139",
   "metadata": {},
   "outputs": [
    {
     "data": {
      "text/plain": [
       "array([[4, 5, 4],\n",
       "       [5, 1, 6],\n",
       "       [2, 6, 5],\n",
       "       [3, 5, 8]])"
      ]
     },
     "execution_count": 13,
     "metadata": {},
     "output_type": "execute_result"
    }
   ],
   "source": [
    "transpose"
   ]
  },
  {
   "cell_type": "code",
   "execution_count": 14,
   "id": "7baa134f",
   "metadata": {},
   "outputs": [
    {
     "data": {
      "text/plain": [
       "array([[ 54,  52,  80],\n",
       "       [ 52,  87,  96],\n",
       "       [ 80,  96, 141]])"
      ]
     },
     "execution_count": 14,
     "metadata": {},
     "output_type": "execute_result"
    }
   ],
   "source": [
    "symmetric"
   ]
  },
  {
   "cell_type": "markdown",
   "id": "0e124944",
   "metadata": {},
   "source": [
    "# explanation,Analysis, and freethrows\n",
    "\n",
    "# Meaning of Spanning:\n",
    "\n",
    "spanning means the range of possibility for the numbers in the matrix to become some other numbers by means of addition or multiplication.\n",
    "\n",
    "\n",
    "# check for spanning:\n",
    "\n",
    "**to check if the two matrices span the same subspace first check if any of the columns of elements of one matrix can be expressed as a linear combination of the other matrix _this is the rule of spanning**"
   ]
  },
  {
   "cell_type": "code",
   "execution_count": 3,
   "id": "f0edd7d3",
   "metadata": {},
   "outputs": [
    {
     "data": {
      "image/png": "[encoded data removed]",
      "text/latex": [
       "$\\displaystyle \\left\\{ x : \\frac{44 z}{9}, \\  y : - \\frac{34 z}{9}\\right\\}$"
      ],
      "text/plain": [
       "⎧   44⋅z     -34⋅z ⎫\n",
       "⎨x: ────, y: ──────⎬\n",
       "⎩    9         9   ⎭"
      ]
     },
     "metadata": {},
     "output_type": "display_data"
    }
   ],
   "source": [
    "# checking for the right coefficient that make the linear combination of elements between A and AT.A\n",
    "\n",
    "\n",
    "# determining the symbols of coefficients\n",
    "x,y,z = sym.symbols('x,y,z') \n",
    "\n",
    "# estabishing the equations in sympy\n",
    "eq1 = sym.Eq(5*x + 7*y + 2*z,0)\n",
    "eq2 = sym.Eq(3*x + 6*y + 8*z,0)\n",
    "eq3 = sym.Eq(3*x + 6*y + 8*z,0)\n",
    "\n",
    "# solving them\n",
    "solution = sym.solve((eq1,eq2,eq3),(x,y,z))\n",
    "\n",
    "\n",
    "# printing the solution\n",
    "display(solution)"
   ]
  },
  {
   "cell_type": "code",
   "execution_count": 7,
   "id": "e9f00752",
   "metadata": {},
   "outputs": [
    {
     "data": {
      "text/plain": [
       "3"
      ]
     },
     "execution_count": 7,
     "metadata": {},
     "output_type": "execute_result"
    }
   ],
   "source": [
    "# rank of A\n",
    "\n",
    "np.linalg.matrix_rank(A)"
   ]
  },
  {
   "cell_type": "code",
   "execution_count": 8,
   "id": "f1e78cda",
   "metadata": {},
   "outputs": [
    {
     "data": {
      "text/plain": [
       "3"
      ]
     },
     "execution_count": 8,
     "metadata": {},
     "output_type": "execute_result"
    }
   ],
   "source": [
    "# rank of AT.A\n",
    "\n",
    "np.linalg.matrix_rank(symmetric)"
   ]
  },
  {
   "cell_type": "markdown",
   "id": "5b20a08d",
   "metadata": {},
   "source": [
    "# analyse the statements made by the instructor:\n",
    "\n",
    "1) Let's say matrix A has a non-trivial null space and x is a vector in that null space. So, Ax=0. Then, A'Ax=A'0 -> A'Ax=0. This shows that any vector that is in the null space of A is also in the null space of A'A.\n",
    "\n",
    "The flip side of this is to start from A'Ax=0. Then premultiply by x', thus x'A'Ax = x'0 -> (Ax)'Ax = 0 -> |Ax|=0, hence, Ax=0. In other words, any vector that is in the null space of A'A is also in the null space of A. I suppose I could have written that out explicitly instead of leaving it implicit.\n",
    "\n",
    "2) This comes from the rank-nullity theorem. The ambient dimensionality of the row space is N, and the row space and null space together must span all of R^N. Whatever isn't filled up by the null space is filled up by the row space. So if the dimensionalities of the null spaces are the same, then the dimensionalities of the row spaces must be the same, which means the ranks are the same.\n",
    "\n",
    "3) The rank of A is the same as the rank of A', so it doesn't really matter. It could have been a typo on the slide (I don't remember if I had a particular reason for doing that), but it isn't incorrect.\n",
    "\n",
    "4) The SVD explanation is that the rank of a matrix can be obtained as the number of non-zero singular values. A and A'A have the same number of non-zero singular values (in fact, their singular values are the same up to a squaring), hence their ranks are the same. conclusion: A and AT.A have the same number of singular values."
   ]
  },
  {
   "cell_type": "code",
   "execution_count": null,
   "id": "144b0d76",
   "metadata": {},
   "outputs": [],
   "source": []
  },
  {
   "cell_type": "markdown",
   "id": "8df6c59c",
   "metadata": {},
   "source": [
    "# proving rules:\n",
    "\n",
    "Rule 1: Rank of AB <= min(Rank of A, Rank of B)\n",
    "\n",
    "Rule 2: Rank of A+B <= Rank of A + Rank of B\n",
    "\n",
    "\n",
    "# procedure:\n",
    "\n",
    "step1: define two matrices of sizes of 2,5\n",
    "\n",
    "\n",
    "step2: find ATA  and BTB\n",
    "\n",
    "\n",
    "step3: find their ranks\n",
    "\n",
    "\n",
    "step4: find the rank of dot product of ATA and BTB\n"
   ]
  },
  {
   "cell_type": "code",
   "execution_count": 53,
   "id": "989010e7",
   "metadata": {},
   "outputs": [],
   "source": [
    "# step 1\n",
    "A = np.random.randint(1,99,(2,5))\n",
    "B = np.random.randint(1,99,(2,5))\n",
    "\n",
    "# step 2\n",
    "symmetric_A = np.dot(A,np.transpose(A))\n",
    "symmetric_B = np.dot(B,np.transpose(B))\n",
    "\n",
    "# for Rule 1;\n",
    "Rank_of_AB = np.linalg.matrix_rank(np.dot(symmetric_A,symmetric_B))\n",
    "min_of_RankA_RankB = min(np.linalg.matrix_rank(symmetric_A),np.linalg.matrix_rank(symmetric_B))\n",
    "\n",
    "\n",
    "# for Rule 2;\n",
    "Rank_of_sum_of_A_and_B = np.linalg.matrix_rank(symmetric_A+symmetric_B) \n",
    "sum_of_RankA_RankB = np.linalg.matrix_rank(symmetric_A) + np.linalg.matrix_rank(symmetric_B)"
   ]
  },
  {
   "cell_type": "markdown",
   "id": "c582aaec",
   "metadata": {},
   "source": [
    "# explanation, analysis and freethrows"
   ]
  },
  {
   "cell_type": "code",
   "execution_count": 54,
   "id": "fbdcfcb3",
   "metadata": {},
   "outputs": [
    {
     "data": {
      "text/plain": [
       "2"
      ]
     },
     "execution_count": 54,
     "metadata": {},
     "output_type": "execute_result"
    }
   ],
   "source": [
    "# Rule 1:\n",
    "Rank_of_AB"
   ]
  },
  {
   "cell_type": "code",
   "execution_count": 55,
   "id": "32142170",
   "metadata": {},
   "outputs": [
    {
     "data": {
      "text/plain": [
       "2"
      ]
     },
     "execution_count": 55,
     "metadata": {},
     "output_type": "execute_result"
    }
   ],
   "source": [
    "min_of_RankA_RankB"
   ]
  },
  {
   "cell_type": "code",
   "execution_count": 56,
   "id": "3c4ea08a",
   "metadata": {},
   "outputs": [
    {
     "data": {
      "text/plain": [
       "2"
      ]
     },
     "execution_count": 56,
     "metadata": {},
     "output_type": "execute_result"
    }
   ],
   "source": [
    "# Rule 2\n",
    "Rank_of_sum_of_A_and_B"
   ]
  },
  {
   "cell_type": "code",
   "execution_count": 57,
   "id": "066fd608",
   "metadata": {},
   "outputs": [
    {
     "data": {
      "text/plain": [
       "4"
      ]
     },
     "execution_count": 57,
     "metadata": {},
     "output_type": "execute_result"
    }
   ],
   "source": [
    "sum_of_RankA_RankB"
   ]
  },
  {
   "cell_type": "markdown",
   "id": "440eacb1",
   "metadata": {},
   "source": [
    "# conclusion\n",
    "\n",
    "**sum of the matrices gives more rank than when matrices were multiplied which implies that summing of matrices gives more information the multiplication.**\n",
    "\n",
    "\n",
    "Rank corresponds to information extraction from the matrix. extra rank means new additional geometric dimension of information.!"
   ]
  },
  {
   "cell_type": "code",
   "execution_count": null,
   "id": "b037e366",
   "metadata": {},
   "outputs": [],
   "source": []
  },
  {
   "cell_type": "markdown",
   "id": "0043bddb",
   "metadata": {},
   "source": [
    "# day 125"
   ]
  },
  {
   "cell_type": "markdown",
   "id": "40c5dba3",
   "metadata": {},
   "source": [
    "# making a matrix full rank by shifting"
   ]
  },
  {
   "cell_type": "code",
   "execution_count": 2,
   "id": "623e29f8",
   "metadata": {},
   "outputs": [],
   "source": [
    "import numpy as np\n",
    "import sympy as sym\n",
    "from IPython.display import display,Math\n",
    "sym.init_printing()\n",
    "import matplotlib.pyplot as plt\n"
   ]
  },
  {
   "cell_type": "markdown",
   "id": "10212006",
   "metadata": {},
   "source": [
    "# $$ \\bar{A} = A + \\lambda I $$\n",
    "\n",
    "* where lambda is a scaler multiplied with an identity matrix. what is implicit here is Identity matrix is always a square matrix so 'A' also need be a Square matrix in order to be added with. \n",
    "\n",
    "\n",
    "* lambda is a arbitrary value. "
   ]
  },
  {
   "cell_type": "code",
   "execution_count": 18,
   "id": "43e91c59",
   "metadata": {},
   "outputs": [
    {
     "data": {
      "text/plain": [
       "(2, 5)"
      ]
     },
     "execution_count": 18,
     "metadata": {},
     "output_type": "execute_result"
    }
   ],
   "source": [
    "# determining the shape of the matrix\n",
    "shape = 5\n",
    "\n",
    "\n",
    "# creating a lower rank matrix (A)\n",
    "A = np.arange(1,(shape*shape)+1,1).reshape(shape,shape)\n",
    "\n",
    "# finding the rank of the matrix\n",
    "rank_of_A = np.linalg.matrix_rank(A)\n",
    "\n",
    "# lambda (is randomly chosen value_no bias)\n",
    "l = 0.5\n",
    "\n",
    "# creating a identity matrix in same size.\n",
    "I = np.identity(shape)\n",
    "\n",
    "# creating the rank-full matrix\n",
    "B = A + l*I \n",
    "\n",
    "# find the rank of the new matrix\n",
    "rank_of_B = np.linalg.matrix_rank(B)\n",
    "\n",
    "rank_of_A , rank_of_B"
   ]
  },
  {
   "cell_type": "markdown",
   "id": "37281a78",
   "metadata": {},
   "source": [
    "# experiment, analysis and freethrows\n",
    "\n"
   ]
  },
  {
   "cell_type": "code",
   "execution_count": 12,
   "id": "0e8c0819",
   "metadata": {},
   "outputs": [
    {
     "data": {
      "text/plain": [
       "array([[ 1,  2,  3,  4,  5],\n",
       "       [ 6,  7,  8,  9, 10],\n",
       "       [11, 12, 13, 14, 15],\n",
       "       [16, 17, 18, 19, 20],\n",
       "       [21, 22, 23, 24, 25]])"
      ]
     },
     "execution_count": 12,
     "metadata": {},
     "output_type": "execute_result"
    }
   ],
   "source": [
    "A"
   ]
  },
  {
   "cell_type": "code",
   "execution_count": 20,
   "id": "63a864d1",
   "metadata": {},
   "outputs": [
    {
     "data": {
      "image/png": "[encoded data removed]",
      "text/plain": [
       "<Figure size 432x288 with 2 Axes>"
      ]
     },
     "metadata": {
      "needs_background": "light"
     },
     "output_type": "display_data"
    }
   ],
   "source": [
    "plt.imshow(A)\n",
    "plt.colorbar()\n",
    "plt.show()"
   ]
  },
  {
   "cell_type": "code",
   "execution_count": 21,
   "id": "50886863",
   "metadata": {},
   "outputs": [
    {
     "data": {
      "text/plain": [
       "2"
      ]
     },
     "execution_count": 21,
     "metadata": {},
     "output_type": "execute_result"
    }
   ],
   "source": [
    "rank_of_A"
   ]
  },
  {
   "cell_type": "code",
   "execution_count": 15,
   "id": "69d45e17",
   "metadata": {},
   "outputs": [
    {
     "data": {
      "text/plain": [
       "array([[0.5, 0. , 0. , 0. , 0. ],\n",
       "       [0. , 0.5, 0. , 0. , 0. ],\n",
       "       [0. , 0. , 0.5, 0. , 0. ],\n",
       "       [0. , 0. , 0. , 0.5, 0. ],\n",
       "       [0. , 0. , 0. , 0. , 0.5]])"
      ]
     },
     "execution_count": 15,
     "metadata": {},
     "output_type": "execute_result"
    }
   ],
   "source": [
    "l*I"
   ]
  },
  {
   "cell_type": "code",
   "execution_count": 22,
   "id": "4b76403b",
   "metadata": {},
   "outputs": [
    {
     "data": {
      "image/png": "[encoded data removed]",
      "text/plain": [
       "<Figure size 432x288 with 2 Axes>"
      ]
     },
     "metadata": {
      "needs_background": "light"
     },
     "output_type": "display_data"
    }
   ],
   "source": [
    "plt.imshow(l*I)\n",
    "\n",
    "plt.colorbar()\n",
    "\n",
    "plt.show()"
   ]
  },
  {
   "cell_type": "code",
   "execution_count": 14,
   "id": "6b66c36e",
   "metadata": {},
   "outputs": [
    {
     "data": {
      "text/plain": [
       "array([[ 1.5,  2. ,  3. ,  4. ,  5. ],\n",
       "       [ 6. ,  7.5,  8. ,  9. , 10. ],\n",
       "       [11. , 12. , 13.5, 14. , 15. ],\n",
       "       [16. , 17. , 18. , 19.5, 20. ],\n",
       "       [21. , 22. , 23. , 24. , 25.5]])"
      ]
     },
     "execution_count": 14,
     "metadata": {},
     "output_type": "execute_result"
    }
   ],
   "source": [
    "B"
   ]
  },
  {
   "cell_type": "code",
   "execution_count": 16,
   "id": "91f254f7",
   "metadata": {},
   "outputs": [
    {
     "data": {
      "text/plain": [
       "5"
      ]
     },
     "execution_count": 16,
     "metadata": {},
     "output_type": "execute_result"
    }
   ],
   "source": [
    "rank_of_B"
   ]
  },
  {
   "cell_type": "code",
   "execution_count": 23,
   "id": "99b3e732",
   "metadata": {},
   "outputs": [
    {
     "data": {
      "image/png": "[encoded data removed]",
      "text/plain": [
       "<Figure size 432x288 with 2 Axes>"
      ]
     },
     "metadata": {
      "needs_background": "light"
     },
     "output_type": "display_data"
    }
   ],
   "source": [
    "plt.imshow(B)\n",
    "\n",
    "plt.colorbar()\n",
    "\n",
    "plt.show()"
   ]
  },
  {
   "cell_type": "code",
   "execution_count": 28,
   "id": "5cdb5a13",
   "metadata": {},
   "outputs": [],
   "source": [
    "# Creating a lower rank matrix with rank of our choosing\n",
    "\n",
    "row  = 30\n",
    "col  = 30\n",
    "rank = 7   # constraint is rank needs to less than min(row,col)\n",
    "A = np.dot(np.random.randint(0,99,(row,rank)) , np.random.randint(0,99,(rank,col)))\n",
    "           \n",
    "# find the rank of A\n",
    "rank_of_A = np.linalg.matrix_rank(A)\n",
    "\n",
    "\n",
    "# lambda\n",
    "l = 8 # random value\n",
    "\n",
    "# identity matrix of same shape\n",
    "I = np.identity(row)\n",
    "\n",
    "# creating a full rank matrix\n",
    "B = A + l*I\n",
    "\n",
    "# finding the rank of B\n",
    "rank_of_B = np.linalg.matrix_rank(B)\n",
    "\n",
    "\n"
   ]
  },
  {
   "cell_type": "markdown",
   "id": "0be0b2dc",
   "metadata": {},
   "source": [
    "# experiment,analysis and freethrows"
   ]
  },
  {
   "cell_type": "code",
   "execution_count": 31,
   "id": "25760e00",
   "metadata": {},
   "outputs": [],
   "source": [
    "def plotting_matrix(matrix):\n",
    "    \n",
    "    plt.figure(dpi=100)\n",
    "    plt.imshow(matrix)\n",
    "    \n",
    "    plt.colorbar()\n",
    "    \n",
    "    plt.show()\n",
    "    \n",
    "    "
   ]
  },
  {
   "cell_type": "code",
   "execution_count": 32,
   "id": "4ac79410",
   "metadata": {},
   "outputs": [
    {
     "data": {
      "image/png": "[encoded data removed]",
      "text/plain": [
       "<Figure size 600x400 with 2 Axes>"
      ]
     },
     "metadata": {
      "needs_background": "light"
     },
     "output_type": "display_data"
    }
   ],
   "source": [
    "plotting_matrix(A)"
   ]
  },
  {
   "cell_type": "code",
   "execution_count": 33,
   "id": "52396efc",
   "metadata": {},
   "outputs": [
    {
     "data": {
      "text/plain": [
       "7"
      ]
     },
     "execution_count": 33,
     "metadata": {},
     "output_type": "execute_result"
    }
   ],
   "source": [
    "rank_of_A"
   ]
  },
  {
   "cell_type": "code",
   "execution_count": 36,
   "id": "14e76b4c",
   "metadata": {},
   "outputs": [
    {
     "data": {
      "image/png": "[encoded data removed]",
      "text/plain": [
       "<Figure size 600x400 with 2 Axes>"
      ]
     },
     "metadata": {
      "needs_background": "light"
     },
     "output_type": "display_data"
    }
   ],
   "source": [
    "plotting_matrix(matrix=l*I) \n",
    "\n",
    "# this thing raises the rank of the matrix by peculiarizing the diagonal elements of the matrix\n",
    "# increased rank means more information to glean from?"
   ]
  },
  {
   "cell_type": "code",
   "execution_count": 34,
   "id": "7e5e3cc4",
   "metadata": {},
   "outputs": [
    {
     "data": {
      "image/png": "[encoded data removed]",
      "text/plain": [
       "<Figure size 600x400 with 2 Axes>"
      ]
     },
     "metadata": {
      "needs_background": "light"
     },
     "output_type": "display_data"
    }
   ],
   "source": [
    "plotting_matrix(B)"
   ]
  },
  {
   "cell_type": "code",
   "execution_count": 35,
   "id": "c5e4d0a3",
   "metadata": {},
   "outputs": [
    {
     "data": {
      "text/plain": [
       "30"
      ]
     },
     "execution_count": 35,
     "metadata": {},
     "output_type": "execute_result"
    }
   ],
   "source": [
    "rank_of_B"
   ]
  },
  {
   "cell_type": "markdown",
   "id": "0db21dbd",
   "metadata": {},
   "source": [
    "# conclusion:\n",
    "\n",
    "**just by changing the diagonal elements of the low-rank matrix we can transform it from a low-rank one to a full-rank one.**"
   ]
  },
  {
   "cell_type": "code",
   "execution_count": null,
   "id": "cdb3eaa2",
   "metadata": {},
   "outputs": [],
   "source": []
  },
  {
   "cell_type": "markdown",
   "id": "67ea52ad",
   "metadata": {},
   "source": [
    "# determine whether a vector is in the span of set of other vectors"
   ]
  },
  {
   "cell_type": "code",
   "execution_count": 54,
   "id": "7625c3f6",
   "metadata": {},
   "outputs": [],
   "source": [
    "# determine whether this vector \n",
    "v = np.array([[1,2,3,4]]).T\n",
    "\n",
    "# is in the span of these sets of vectors.\n",
    "s = np.vstack(( [4,3,6,2], [0,4,0,1] )).T\n",
    "t = np.vstack(( [1,2,2,2], [0,0,1,2])).T\n",
    "\n",
    "# concatenating(joining them)\n",
    "sv = np.concatenate((s,v),axis=1)\n",
    "tv = np.concatenate((t,v),axis=1)\n",
    "\n",
    "# finding the ranks\n",
    "rank_of_sv = np.linalg.matrix_rank(sv)\n",
    "rank_of_tv = np.linalg.matrix_rank(tv)"
   ]
  },
  {
   "cell_type": "markdown",
   "id": "39252fb4",
   "metadata": {},
   "source": [
    "# experiment, analysis and freethrows"
   ]
  },
  {
   "cell_type": "code",
   "execution_count": 47,
   "id": "636a7c2d",
   "metadata": {},
   "outputs": [
    {
     "data": {
      "text/plain": [
       "array([[1],\n",
       "       [2],\n",
       "       [3],\n",
       "       [4]])"
      ]
     },
     "execution_count": 47,
     "metadata": {},
     "output_type": "execute_result"
    }
   ],
   "source": [
    "v"
   ]
  },
  {
   "cell_type": "code",
   "execution_count": 49,
   "id": "bf16974c",
   "metadata": {},
   "outputs": [
    {
     "data": {
      "text/plain": [
       "array([[4, 0],\n",
       "       [3, 4],\n",
       "       [6, 0],\n",
       "       [2, 1]])"
      ]
     },
     "execution_count": 49,
     "metadata": {},
     "output_type": "execute_result"
    }
   ],
   "source": [
    "s"
   ]
  },
  {
   "cell_type": "code",
   "execution_count": 50,
   "id": "9175a434",
   "metadata": {},
   "outputs": [
    {
     "data": {
      "text/plain": [
       "array([[1, 0],\n",
       "       [2, 0],\n",
       "       [2, 1],\n",
       "       [2, 2]])"
      ]
     },
     "execution_count": 50,
     "metadata": {},
     "output_type": "execute_result"
    }
   ],
   "source": [
    "t"
   ]
  },
  {
   "cell_type": "code",
   "execution_count": 51,
   "id": "41be07ac",
   "metadata": {},
   "outputs": [
    {
     "data": {
      "text/plain": [
       "array([[4, 0, 1],\n",
       "       [3, 4, 2],\n",
       "       [6, 0, 3],\n",
       "       [2, 1, 4]])"
      ]
     },
     "execution_count": 51,
     "metadata": {},
     "output_type": "execute_result"
    }
   ],
   "source": [
    "sv"
   ]
  },
  {
   "cell_type": "code",
   "execution_count": 52,
   "id": "0740555b",
   "metadata": {},
   "outputs": [
    {
     "data": {
      "text/plain": [
       "array([[1, 0, 1],\n",
       "       [2, 0, 2],\n",
       "       [2, 1, 3],\n",
       "       [2, 2, 4]])"
      ]
     },
     "execution_count": 52,
     "metadata": {},
     "output_type": "execute_result"
    }
   ],
   "source": [
    "tv # 1st and 2nd columnns can produce the third column(v) \n",
    "\n",
    "# that means v is in the span of t"
   ]
  },
  {
   "cell_type": "code",
   "execution_count": 55,
   "id": "4ba27fdc",
   "metadata": {},
   "outputs": [
    {
     "data": {
      "text/plain": [
       "3"
      ]
     },
     "execution_count": 55,
     "metadata": {},
     "output_type": "execute_result"
    }
   ],
   "source": [
    "rank_of_sv"
   ]
  },
  {
   "cell_type": "code",
   "execution_count": 56,
   "id": "2d432cb4",
   "metadata": {},
   "outputs": [
    {
     "data": {
      "text/plain": [
       "2"
      ]
     },
     "execution_count": 56,
     "metadata": {},
     "output_type": "execute_result"
    }
   ],
   "source": [
    "rank_of_tv"
   ]
  },
  {
   "cell_type": "markdown",
   "id": "b0c3b0e6",
   "metadata": {},
   "source": [
    "# conclusion:\n",
    "\n",
    "* the vector 'v' adds new dimensional information to 's' but is in the span of 't' which means it doens't add any new information to 't' that's why the rank of sv is 3 and the rank of tv is 2. \n",
    "\n",
    "**rank tells how much informative a matrix is.**"
   ]
  },
  {
   "cell_type": "code",
   "execution_count": null,
   "id": "80659936",
   "metadata": {},
   "outputs": [],
   "source": []
  },
  {
   "cell_type": "code",
   "execution_count": null,
   "id": "f531e56a",
   "metadata": {},
   "outputs": [],
   "source": []
  }
 ],
 "metadata": {
  "kernelspec": {
   "display_name": "Python 3 (ipykernel)",
   "language": "python",
   "name": "python3"
  },
  "language_info": {
   "codemirror_mode": {
    "name": "ipython",
    "version": 3
   },
   "file_extension": ".py",
   "mimetype": "text/x-python",
   "name": "python",
   "nbconvert_exporter": "python",
   "pygments_lexer": "ipython3",
   "version": "3.9.12"
  }
 },
 "nbformat": 4,
 "nbformat_minor": 5
}
