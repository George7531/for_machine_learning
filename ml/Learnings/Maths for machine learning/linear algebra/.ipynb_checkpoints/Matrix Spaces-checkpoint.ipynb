version https://git-lfs.github.com/spec/v1
oid sha256:8013bdaeb6b06bc97c5a119e757abdf1552309238bd49b58c7b922fe0ebb0a7a
size 504401
