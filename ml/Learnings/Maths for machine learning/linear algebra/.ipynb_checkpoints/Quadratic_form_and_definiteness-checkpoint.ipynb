version https://git-lfs.github.com/spec/v1
oid sha256:a75102a5742dd054db0439a35e011c6f90e838ed80cea7a7bfd96886f42bf5fe
size 18923132
