version https://git-lfs.github.com/spec/v1
oid sha256:2d2aa080453a892b7fa594d4c0d3a31eb8cda3390493044e625e964ccca39a98
size 19788835
