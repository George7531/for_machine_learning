version https://git-lfs.github.com/spec/v1
oid sha256:f3249795a290c43e464582902229f3cf3b6c8672cf77dfff21321faf16d43056
size 19797375
