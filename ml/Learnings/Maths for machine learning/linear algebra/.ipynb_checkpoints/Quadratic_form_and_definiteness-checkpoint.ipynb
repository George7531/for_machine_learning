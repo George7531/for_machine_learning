version https://git-lfs.github.com/spec/v1
oid sha256:281608868153e26996cbe469843e39bcf274061b0fac69cdbe522eb6a926b27e
size 19218878
