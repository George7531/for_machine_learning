{
 "cells": [
  {
   "cell_type": "markdown",
   "id": "6acc7fa2",
   "metadata": {},
   "source": [
    "# day 370"
   ]
  },
  {
   "cell_type": "code",
   "execution_count": null,
   "id": "12f57b85",
   "metadata": {},
   "outputs": [],
   "source": []
  },
  {
   "cell_type": "markdown",
   "id": "80bac47a",
   "metadata": {},
   "source": [
    "# Singular Value Decomposition:\n",
    "\n",
    "* It is an extension of Eigen Decomposition.\n",
    "\n",
    "\n",
    "## left transpose and right transpose:\n",
    "![sdfsdf](images/090524_lin.png)\n",
    "\n",
    "### notes:\n",
    "* regardless of what direction you take the transpose of the matrix you will get square matrix.\n",
    "\n",
    "## Column space and row space of a matrix:\n",
    "![sfsdf](images/090524_lin1.png)\n",
    "\n",
    "### notes:\n",
    "* column space of symmetric version of the matrix A is equal to column space of the matrix A.\n",
    "* row space of symmetric version of the matrix A is equal to the row space of the matrix A.\n",
    "* size of U is row*row\n",
    "* size of V is col*col\n",
    "\n",
    "but, what are column space and row space of a matrix?\n",
    "\n",
    "A = \\begin{bmatrix} a_{11} & a_{12} & a_{13} \\\\ a_{21} & a_{22} & a_{23} \\\\ a_{31} & a_{32} & a_{33} \\end{bmatrix} \n",
    "\n",
    "The column space of a matrix consists of all possible linear combinations of its column vectors. In the case of a 3x3 matrix, the column space is the space spanned by the vectors formed by the columns of the matrix.\n",
    "\n",
    "So, for our matrix \\( A \\), the column space \\( C(A) \\) is the space spanned by the column vectors:\n",
    "\n",
    " A =  \\begin{bmatrix} a_{11} \\\\ a_{21} \\\\ a_{31} \\end{bmatrix}, \\begin{bmatrix} a_{12} \\\\ a_{22} \\\\ a_{32} \\end{bmatrix}, \\begin{bmatrix} a_{13} \\\\ a_{23} \\\\ a_{33} \\end{bmatrix}\n",
    "\n",
    "The row space of a matrix consists of all possible linear combinations of its row vectors. In the case of a 3x3 matrix, the row space is the space spanned by the vectors formed by the rows of the matrix.\n",
    "\n",
    "So, for our matrix \\( A \\), the row space \\( R(A) \\) is the space spanned by the row vectors:\n",
    "\n",
    "A =   \\begin{bmatrix} a_{11} & a_{12} & a_{13} \\end{bmatrix}, \\begin{bmatrix} a_{21} & a_{22} & a_{23} \\end{bmatrix}, \\begin{bmatrix} a_{31} & a_{32} & a_{33} \\end{bmatrix} \n",
    "\n",
    "Both the column space and the row space are subspaces of $R^3$  because our matrix is a 3x3 matrix. They represent different aspects of the linear transformation represented by the matrix \\( A \\). The column space captures the output space of the transformation, while the row space captures the input space of the transformation.\n",
    "\n",
    "## Big picture of SVD:\n",
    "![fsfs](images/090524_lin2.png)\n",
    "\n",
    "### notes:\n",
    "* notice the dimension of the original matrix and the dimension of U (orthogonal basis of column space of A), and the dimension of V (orthogonal basis of row space of A), and the dimension of sigma(singular values of a), which is as same as A.\n",
    "* sigma is a diagonal matrix.\n",
    "\n",
    "## what if the matrix was symmetric and you take SVD for it?\n",
    "![fssd](images/090524_lin3.png)\n",
    "\n",
    "### notes:\n",
    "* the orthogonal matrix's transpose is = inverse of it. U^T = U^-1. Hence you get the identity matrix.\n",
    "* sigma is a diagonal matrix so, when you multiply sigma with its transpose you'd get squared values in its diagonal.\n",
    "* And the final thing is all the matrices both on left and right sides are going to have squared dimensions(p*p).\n",
    "* $A^T.A$ gives us this answer\n",
    "* since U comes in the left side, it is said to have left singular vectors in it. \n",
    "* since V comes in the right side, it is said to have right singular vectors in it.\n",
    "\n",
    "## how to compute U:\n",
    "![fsf](images/100524_lin4.png)\n",
    "\n",
    "### notes:\n",
    "* $A.A^T$ gives us this answer.\n",
    "\n",
    "\n",
    "## feel it?\n",
    "![fsf](images/100524_lin.png)\n",
    "\n",
    "### notes\n",
    "* $A^T.A = V\\sum^{2} V^T $\n",
    "* $A.A^T = U\\sum^{2} U^T $\n",
    "* the eigen values $\\left( \\sum^{2} \\right) $ in both equations are same.\n",
    "\n",
    "\n",
    "## position matters for matrix computation:\n",
    "![fsf](images/100524_lin1.png)\n",
    "\n",
    "### notes:\n",
    "* notice the position and the transformation the U and V get to have.\n",
    "* u and v are imagined as vectors scaled by $\\sigma$. u is called left singular vector and v is called right singular vector because of their position."
   ]
  },
  {
   "cell_type": "code",
   "execution_count": null,
   "id": "f4227388",
   "metadata": {},
   "outputs": [],
   "source": []
  },
  {
   "cell_type": "code",
   "execution_count": null,
   "id": "8e3626c2",
   "metadata": {},
   "outputs": [],
   "source": []
  },
  {
   "cell_type": "markdown",
   "id": "b16ee5e5",
   "metadata": {},
   "source": [
    "## exploration, ablation-analysis and freethrows"
   ]
  },
  {
   "cell_type": "code",
   "execution_count": 1,
   "id": "97abe6e6",
   "metadata": {},
   "outputs": [
    {
     "data": {
      "text/plain": [
       "array([[8, 1, 8, 0],\n",
       "       [6, 1, 8, 1],\n",
       "       [4, 7, 1, 4]])"
      ]
     },
     "execution_count": 1,
     "metadata": {},
     "output_type": "execute_result"
    }
   ],
   "source": [
    "import numpy as np\n",
    "a = np.random.randint(0,9,(3,4))\n",
    "\n",
    "a"
   ]
  },
  {
   "cell_type": "code",
   "execution_count": 2,
   "id": "434892bf",
   "metadata": {},
   "outputs": [
    {
     "data": {
      "text/plain": [
       "array([[116,  42, 116,  22],\n",
       "       [ 42,  51,  23,  29],\n",
       "       [116,  23, 129,  12],\n",
       "       [ 22,  29,  12,  17]])"
      ]
     },
     "execution_count": 2,
     "metadata": {},
     "output_type": "execute_result"
    }
   ],
   "source": [
    "a.T@a # it is a square matrix."
   ]
  },
  {
   "cell_type": "code",
   "execution_count": 3,
   "id": "3e5dd93b",
   "metadata": {},
   "outputs": [
    {
     "data": {
      "text/plain": [
       "array([[129, 113,  47],\n",
       "       [113, 102,  43],\n",
       "       [ 47,  43,  82]])"
      ]
     },
     "execution_count": 3,
     "metadata": {},
     "output_type": "execute_result"
    }
   ],
   "source": [
    "a@a.T # it is also a square matrix."
   ]
  },
  {
   "cell_type": "code",
   "execution_count": null,
   "id": "ab249d22",
   "metadata": {},
   "outputs": [],
   "source": []
  },
  {
   "cell_type": "markdown",
   "id": "43d0eb82",
   "metadata": {},
   "source": [
    "# code for SVD:"
   ]
  },
  {
   "cell_type": "code",
   "execution_count": 2,
   "id": "bb92645c",
   "metadata": {},
   "outputs": [],
   "source": [
    "import numpy as np\n",
    "import sympy as sym\n",
    "from IPython.display import display,Math\n",
    "sym.init_printing()\n",
    "import matplotlib.pyplot as plt"
   ]
  },
  {
   "cell_type": "code",
   "execution_count": 3,
   "id": "f2b00b91",
   "metadata": {},
   "outputs": [
    {
     "data": {
      "text/plain": [
       "array([[7, 7, 7],\n",
       "       [1, 5, 6]])"
      ]
     },
     "execution_count": 3,
     "metadata": {},
     "output_type": "execute_result"
    }
   ],
   "source": [
    "A = np.random.randint(0,9,(2,3))\n",
    "A"
   ]
  },
  {
   "cell_type": "code",
   "execution_count": 19,
   "id": "827818b2",
   "metadata": {},
   "outputs": [
    {
     "data": {
      "text/plain": [
       "(array([[ 0.85189717, -0.5237091 ],\n",
       "        [ 0.5237091 ,  0.85189717]]),\n",
       " array([14.09395346,  3.21876931]),\n",
       " array([[ 0.46026754,  0.60890123,  0.64605966],\n",
       "        [-0.87426785,  0.18439412,  0.44905961],\n",
       "        [ 0.15430335, -0.77151675,  0.6172134 ]]))"
      ]
     },
     "execution_count": 19,
     "metadata": {},
     "output_type": "execute_result"
    }
   ],
   "source": [
    "U,S,V = np.linalg.svd(A) # S is not diagonal and V is already transposed.\n",
    "U,S,V"
   ]
  },
  {
   "cell_type": "code",
   "execution_count": 20,
   "id": "7fee09be",
   "metadata": {},
   "outputs": [
    {
     "data": {
      "image/png": "[encoded data removed]",
      "text/plain": [
       "<Figure size 864x360 with 4 Axes>"
      ]
     },
     "metadata": {
      "needs_background": "light"
     },
     "output_type": "display_data"
    }
   ],
   "source": [
    "fig,ax = plt.subplots(1,4,figsize=(12,5))\n",
    "\n",
    "ax[0].imshow(A)\n",
    "ax[0].set_title('A : {}R {}C'.format(A.shape[0],A.shape[1]))\n",
    "\n",
    "ax[1].imshow(U)\n",
    "ax[1].set_title('U : {}R {}C'.format(U.shape[0],U.shape[1]))\n",
    "\n",
    "ax[2].imshow(np.diag(S))\n",
    "ax[2].set_title('Sigma : {}R {}C'.format(np.diag(S).shape[0],np.diag(S).shape[1]))\n",
    "\n",
    "ax[3].imshow(V)\n",
    "ax[3].set_title('$V^T$ : {}R {}C'.format(V.shape[0],V.shape[1]))\n",
    "\n",
    "plt.tight_layout()\n",
    "plt.show()"
   ]
  },
  {
   "cell_type": "code",
   "execution_count": 9,
   "id": "03566627",
   "metadata": {},
   "outputs": [
    {
     "data": {
      "image/png": "[encoded data removed]",
      "text/latex": [
       "$\\displaystyle 2$"
      ],
      "text/plain": [
       "2"
      ]
     },
     "execution_count": 9,
     "metadata": {},
     "output_type": "execute_result"
    }
   ],
   "source": [
    "S.shape[0]"
   ]
  },
  {
   "cell_type": "markdown",
   "id": "2dd0158a",
   "metadata": {},
   "source": [
    "# conclusion:\n",
    "* shape of V is C*C of A\n",
    "* shape of U is R*R of A"
   ]
  },
  {
   "cell_type": "code",
   "execution_count": null,
   "id": "a9832a99",
   "metadata": {},
   "outputs": [],
   "source": []
  }
 ],
 "metadata": {
  "kernelspec": {
   "display_name": "Python 3 (ipykernel)",
   "language": "python",
   "name": "python3"
  },
  "language_info": {
   "codemirror_mode": {
    "name": "ipython",
    "version": 3
   },
   "file_extension": ".py",
   "mimetype": "text/x-python",
   "name": "python",
   "nbconvert_exporter": "python",
   "pygments_lexer": "ipython3",
   "version": "3.9.12"
  }
 },
 "nbformat": 4,
 "nbformat_minor": 5
}
