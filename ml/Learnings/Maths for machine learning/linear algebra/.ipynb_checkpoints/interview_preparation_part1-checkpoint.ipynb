{
 "cells": [
  {
   "cell_type": "markdown",
   "id": "455c852d",
   "metadata": {},
   "source": [
    "# what is the difference between inner product and outer product?\n",
    "\n",
    "## inner product?\n",
    "* when you take dot product between 2 vectors a.T@b and you get a single value as the result then the operation is a inner product.\n",
    "\n",
    "## outer product:\n",
    "* when you take dot product between 2 vectors a.T@b and you get a matrix as the result then the operation is a outer product.\n",
    "\n",
    "## Give one example where outer product is used in ML?\n",
    "* it is used to create kernal matrix in support vector machine algorithm.\n",
    "* kernal matrix is used to find similarities between features/datapoints in higher dimensional space.\n",
    "* outer product is used to find the feature interactions and similarities.\n",
    "* outer product is used to extract visual information(image)\n",
    "\n",
    "## Essence:\n",
    "* in essence, inner product condenses information into a single scaler value. outer product expands information into a matrix.\n",
    "\n"
   ]
  },
  {
   "cell_type": "markdown",
   "id": "f9b7b47f",
   "metadata": {},
   "source": [
    "# day 350"
   ]
  },
  {
   "cell_type": "code",
   "execution_count": 2,
   "id": "367b1d2c",
   "metadata": {},
   "outputs": [],
   "source": [
    "import numpy as np\n",
    "import sympy as sym\n",
    "from IPython.display import display,Math\n",
    "sym.init_printing()\n",
    "import matplotlib.pyplot as plt"
   ]
  },
  {
   "cell_type": "code",
   "execution_count": 20,
   "id": "40a4dae7",
   "metadata": {},
   "outputs": [
    {
     "data": {
      "text/plain": [
       "array([[-3,  0,  3],\n",
       "       [-2,  0,  2],\n",
       "       [-1,  0,  1]])"
      ]
     },
     "execution_count": 20,
     "metadata": {},
     "output_type": "execute_result"
    }
   ],
   "source": [
    "# find outer product of the 2 vectors\n",
    "a = np.array([[3,2,1]])\n",
    "b = np.array([[-1,0,1]])\n",
    "\n",
    "np.outer(a,b)"
   ]
  },
  {
   "cell_type": "markdown",
   "id": "0f3422f6",
   "metadata": {},
   "source": [
    "## exploration,analysis and freethrows"
   ]
  },
  {
   "cell_type": "code",
   "execution_count": 24,
   "id": "e4b63533",
   "metadata": {},
   "outputs": [
    {
     "data": {
      "text/plain": [
       "array([[-3,  0,  3],\n",
       "       [-2,  0,  2],\n",
       "       [-1,  0,  1]])"
      ]
     },
     "execution_count": 24,
     "metadata": {},
     "output_type": "execute_result"
    }
   ],
   "source": [
    "# how outer product works\n",
    "a.T@b"
   ]
  },
  {
   "cell_type": "code",
   "execution_count": 16,
   "id": "0eadfedb",
   "metadata": {},
   "outputs": [
    {
     "data": {
      "text/plain": [
       "array([[-2]])"
      ]
     },
     "execution_count": 16,
     "metadata": {},
     "output_type": "execute_result"
    }
   ],
   "source": [
    "# how inner product works?\n",
    "np.inner(a,b)"
   ]
  },
  {
   "cell_type": "code",
   "execution_count": 17,
   "id": "b672d018",
   "metadata": {},
   "outputs": [
    {
     "data": {
      "text/plain": [
       "array([[-2]])"
      ]
     },
     "execution_count": 17,
     "metadata": {},
     "output_type": "execute_result"
    }
   ],
   "source": [
    "# how inner product works?\n",
    "a@b.T"
   ]
  },
  {
   "cell_type": "code",
   "execution_count": null,
   "id": "4ffb48af",
   "metadata": {},
   "outputs": [],
   "source": []
  },
  {
   "cell_type": "markdown",
   "id": "72747d32",
   "metadata": {},
   "source": [
    "# what does it mean for 2 vectors to be linearly independent?\n",
    "\n",
    "* 2 linearly independent vectors means they each got unique information in them to span the whole 2d ambient space.\n",
    "* their rank is full 2.\n",
    "* one vector cannot be produced by linearly scaling or shifting the other vector hence they both represent 2 different dimensions in the space because of their linear independency."
   ]
  },
  {
   "cell_type": "code",
   "execution_count": null,
   "id": "650ab6ee",
   "metadata": {},
   "outputs": [],
   "source": []
  },
  {
   "cell_type": "markdown",
   "id": "b35f5b96",
   "metadata": {},
   "source": [
    "# day 351"
   ]
  },
  {
   "cell_type": "markdown",
   "id": "efbd2136",
   "metadata": {},
   "source": [
    "`Given two set of vectors, A= (a1,a2,a3......an) B= (b1,b2,b3...... bn), how do you check that they share the same basis?`\n",
    "\n",
    "ans:\n",
    "There are two main approaches to check if sets A and B share the same basis in general (not necessarily using NumPy):\n",
    "\n",
    "**1. Checking Dimension and Spanning:**\n",
    "\n",
    "*  **Dimension Check:** If the number of elements in A (n) is not equal to the number of elements in B (n), they cannot be bases for the same space. A basis has a specific number of vectors equal to the dimension of the space.\n",
    "*  **Spanning Check (theoretical):** Ideally, you'd want to show that every vector in the space spanned by A can be expressed as a linear combination of vectors from B, and vice versa. This can be mathematically proven, but for larger sets, it might be impractical.\n",
    "\n",
    "**2. Checking Linear Independence (indirect method):**\n",
    "\n",
    "This approach focuses on one set and checks if the other set's vectors can be expressed as linear combinations of the first set's vectors. If so, and both sets have the same dimension, they likely share the same basis. Here's how:\n",
    "\n",
    "1. Choose one set, say A.\n",
    "2. For each vector in the other set (B):\n",
    "    * Try to express that vector (b_i) as a linear combination of the vectors in A (a_j) using the equation:\n",
    "        b_i = c_1 * a_1 + c_2 * a_2 + ... + c_n * a_n (where c_j are coefficients)\n",
    "    * Solve a system of linear equations with the coefficients (c_j) as unknowns.\n",
    "3. If for every vector (b_i) in B, you can find a **unique solution** (not all coefficients c_j are zero) to the system of equations, then set A spans the same space as set B. \n",
    "\n",
    "**Important Note:**\n",
    "\n",
    "This approach assumes that both sets have the same dimension. Even if both sets span the same space, they might not be exactly the same basis. They could be different linear combinations of the same fundamental vectors.\n"
   ]
  },
  {
   "cell_type": "code",
   "execution_count": 6,
   "id": "052c661b",
   "metadata": {},
   "outputs": [
    {
     "name": "stdout",
     "output_type": "stream",
     "text": [
      "Do the sets share the same basis? True\n"
     ]
    }
   ],
   "source": [
    "import numpy as np\n",
    "\n",
    "def same_basis(set1, set2):\n",
    "    \n",
    "    # Check dimension compatibility\n",
    "    if set1.shape[1] != set2.shape[1]:\n",
    "        return False\n",
    "\n",
    "    # Try to express each vector in set2 as a linear combination of set1\n",
    "    for v2 in set2:\n",
    "        # Solve the system of linear equations (Ax = b)\n",
    "        A, b = set1.T, v2.reshape(-1, 1)\n",
    "        x, _, _, _ = np.linalg.lstsq(A, b, rcond=None)\n",
    "\n",
    "        # Check for a unique solution (not all coefficients zero)\n",
    "        if np.allclose(x, np.zeros_like(x)):\n",
    "            return False\n",
    "\n",
    "    # If all vectors in set2 can be expressed from set1, they share the same basis\n",
    "    return True\n",
    "\n",
    "# Example usage\n",
    "set1 = np.array([[1, 2], [3, 1]])\n",
    "set2 = np.array([[1, 1], [6, 5]])  # Linear combination of set1\n",
    "\n",
    "# Check if the sets share the same basis\n",
    "basis_match = same_basis(set1, set2)\n",
    "\n",
    "print(\"Do the sets share the same basis?\", basis_match)\n"
   ]
  },
  {
   "cell_type": "markdown",
   "id": "171f3043",
   "metadata": {},
   "source": [
    "## exploration, analysis and freethrows"
   ]
  },
  {
   "cell_type": "code",
   "execution_count": 8,
   "id": "6b5a28e0",
   "metadata": {},
   "outputs": [
    {
     "data": {
      "text/plain": [
       "2"
      ]
     },
     "execution_count": 8,
     "metadata": {},
     "output_type": "execute_result"
    }
   ],
   "source": [
    "set1.shape[1]"
   ]
  },
  {
   "cell_type": "code",
   "execution_count": 9,
   "id": "4abb687d",
   "metadata": {},
   "outputs": [
    {
     "data": {
      "text/plain": [
       "2"
      ]
     },
     "execution_count": 9,
     "metadata": {},
     "output_type": "execute_result"
    }
   ],
   "source": [
    "set2.shape[1]"
   ]
  },
  {
   "cell_type": "code",
   "execution_count": 10,
   "id": "570abaad",
   "metadata": {},
   "outputs": [
    {
     "name": "stdout",
     "output_type": "stream",
     "text": [
      "[1 1]\n",
      "[6 5]\n"
     ]
    }
   ],
   "source": [
    "for v2 in set2:\n",
    "    print(v2)"
   ]
  },
  {
   "cell_type": "code",
   "execution_count": 13,
   "id": "e847701a",
   "metadata": {},
   "outputs": [
    {
     "name": "stdout",
     "output_type": "stream",
     "text": [
      "A: \n"
     ]
    },
    {
     "data": {
      "text/plain": [
       "array([[1, 3],\n",
       "       [2, 1]])"
      ]
     },
     "metadata": {},
     "output_type": "display_data"
    },
    {
     "name": "stdout",
     "output_type": "stream",
     "text": [
      " \n",
      "b: \n"
     ]
    },
    {
     "data": {
      "text/plain": [
       "array([[1],\n",
       "       [1]])"
      ]
     },
     "metadata": {},
     "output_type": "display_data"
    },
    {
     "name": "stdout",
     "output_type": "stream",
     "text": [
      "A: \n"
     ]
    },
    {
     "data": {
      "text/plain": [
       "array([[1, 3],\n",
       "       [2, 1]])"
      ]
     },
     "metadata": {},
     "output_type": "display_data"
    },
    {
     "name": "stdout",
     "output_type": "stream",
     "text": [
      " \n",
      "b: \n"
     ]
    },
    {
     "data": {
      "text/plain": [
       "array([[6],\n",
       "       [5]])"
      ]
     },
     "metadata": {},
     "output_type": "display_data"
    }
   ],
   "source": [
    "for v2 in set2:\n",
    "    A,b = set1.T, v2.reshape(-1,1)\n",
    "    \n",
    "    print('A: ')\n",
    "    display(A)\n",
    "    print(' ')\n",
    "    print('b: ')\n",
    "    display(b)"
   ]
  },
  {
   "cell_type": "code",
   "execution_count": 8,
   "id": "f5f19a7f",
   "metadata": {},
   "outputs": [
    {
     "name": "stdout",
     "output_type": "stream",
     "text": [
      "x:\n"
     ]
    },
    {
     "data": {
      "text/plain": [
       "array([[0.4],\n",
       "       [0.2]])"
      ]
     },
     "metadata": {},
     "output_type": "display_data"
    },
    {
     "name": "stdout",
     "output_type": "stream",
     "text": [
      "x:\n"
     ]
    },
    {
     "data": {
      "text/plain": [
       "array([[1.8],\n",
       "       [1.4]])"
      ]
     },
     "metadata": {},
     "output_type": "display_data"
    }
   ],
   "source": [
    "for v2 in set2:\n",
    "        # Solve the system of linear equations (Ax = b)\n",
    "        A, b = set1.T, v2.reshape(-1, 1)\n",
    "        x, _, _, _ = np.linalg.lstsq(A, b, rcond=None)\n",
    "        print('x:')\n",
    "        display(x)\n",
    "        \n"
   ]
  },
  {
   "cell_type": "code",
   "execution_count": null,
   "id": "c5317736",
   "metadata": {},
   "outputs": [],
   "source": []
  },
  {
   "cell_type": "code",
   "execution_count": null,
   "id": "d0c0e58d",
   "metadata": {},
   "outputs": [],
   "source": []
  },
  {
   "cell_type": "code",
   "execution_count": null,
   "id": "431ed922",
   "metadata": {},
   "outputs": [],
   "source": []
  },
  {
   "cell_type": "code",
   "execution_count": null,
   "id": "248d9501",
   "metadata": {},
   "outputs": [],
   "source": []
  },
  {
   "cell_type": "code",
   "execution_count": null,
   "id": "c531487d",
   "metadata": {},
   "outputs": [],
   "source": []
  },
  {
   "cell_type": "code",
   "execution_count": null,
   "id": "501ce375",
   "metadata": {},
   "outputs": [],
   "source": []
  },
  {
   "cell_type": "code",
   "execution_count": null,
   "id": "2c3c62d4",
   "metadata": {},
   "outputs": [],
   "source": []
  },
  {
   "cell_type": "code",
   "execution_count": null,
   "id": "7cf97f43",
   "metadata": {},
   "outputs": [],
   "source": []
  }
 ],
 "metadata": {
  "kernelspec": {
   "display_name": "Python 3 (ipykernel)",
   "language": "python",
   "name": "python3"
  },
  "language_info": {
   "codemirror_mode": {
    "name": "ipython",
    "version": 3
   },
   "file_extension": ".py",
   "mimetype": "text/x-python",
   "name": "python",
   "nbconvert_exporter": "python",
   "pygments_lexer": "ipython3",
   "version": "3.9.12"
  }
 },
 "nbformat": 4,
 "nbformat_minor": 5
}
