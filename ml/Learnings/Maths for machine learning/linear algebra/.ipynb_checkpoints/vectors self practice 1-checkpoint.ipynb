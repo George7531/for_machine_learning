version https://git-lfs.github.com/spec/v1
oid sha256:6244d2dc42343b571917e814d80da01d3f5bbb0a2e01e6b9606d6b5ddd308a92
size 855831
