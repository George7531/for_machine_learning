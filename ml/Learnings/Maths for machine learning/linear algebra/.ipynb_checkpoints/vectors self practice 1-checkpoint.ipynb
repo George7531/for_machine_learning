{
 "cells": [
  {
   "cell_type": "markdown",
   "id": "fd879d7b-a2b1-44a1-857a-e33b09313b9d",
   "metadata": {},
   "source": []
  },
  {
   "cell_type": "code",
   "execution_count": null,
   "id": "9290b6e7-ce83-4452-9852-8a6f9e0674c8",
   "metadata": {},
   "outputs": [],
   "source": []
  },
  {
   "cell_type": "markdown",
   "id": "3c60b5be",
   "metadata": {},
   "source": [
    "# day 41"
   ]
  },
  {
   "cell_type": "code",
   "execution_count": 1,
   "id": "cc8951ee",
   "metadata": {},
   "outputs": [],
   "source": [
    "import numpy as np\n",
    "import matplotlib.pyplot as plt"
   ]
  },
  {
   "cell_type": "markdown",
   "id": "d2183904",
   "metadata": {},
   "source": [
    "# dot product\n",
    "# $$ a.b = a^T.b $$\n",
    "\n",
    "# $$ a^T.b = b^T.a \\rightarrow \\text{since dot product is symmetric.} $$\n",
    "\n",
    "# $$ a^T.a = ||a||^2 $$\n",
    "where ||a|| is the magnitude of the a."
   ]
  },
  {
   "cell_type": "code",
   "execution_count": 17,
   "id": "7e9c8cb0",
   "metadata": {},
   "outputs": [
    {
     "data": {
      "text/plain": [
       "110"
      ]
     },
     "execution_count": 17,
     "metadata": {},
     "output_type": "execute_result"
    }
   ],
   "source": [
    "v1 = np.array([1,2,3,4,5]) \n",
    "v2 = np.array([2,4,6,8,10]) # note that the vectors need to be of same dimensions otherwise it won't work\n",
    "\n",
    "v1@v2 # @ is for matrix multiplication\n"
   ]
  },
  {
   "cell_type": "code",
   "execution_count": 16,
   "id": "37af7e60",
   "metadata": {},
   "outputs": [
    {
     "ename": "ValueError",
     "evalue": "matmul: Input operand 1 has a mismatch in its core dimension 0, with gufunc signature (n?,k),(k,m?)->(n?,m?) (size 4 is different from 5)",
     "output_type": "error",
     "traceback": [
      "\u001b[1;31m---------------------------------------------------------------------------\u001b[0m",
      "\u001b[1;31mValueError\u001b[0m                                Traceback (most recent call last)",
      "Input \u001b[1;32mIn [16]\u001b[0m, in \u001b[0;36m<cell line: 4>\u001b[1;34m()\u001b[0m\n\u001b[0;32m      1\u001b[0m v1 \u001b[38;5;241m=\u001b[39m np\u001b[38;5;241m.\u001b[39marray([\u001b[38;5;241m1\u001b[39m,\u001b[38;5;241m2\u001b[39m,\u001b[38;5;241m3\u001b[39m,\u001b[38;5;241m4\u001b[39m,\u001b[38;5;241m5\u001b[39m]) \n\u001b[0;32m      2\u001b[0m v2 \u001b[38;5;241m=\u001b[39m np\u001b[38;5;241m.\u001b[39marray([\u001b[38;5;241m2\u001b[39m,\u001b[38;5;241m4\u001b[39m,\u001b[38;5;241m6\u001b[39m,\u001b[38;5;241m8\u001b[39m])\n\u001b[1;32m----> 4\u001b[0m \u001b[43mv1\u001b[49m\u001b[38;5;129;43m@v2\u001b[39;49m\n",
      "\u001b[1;31mValueError\u001b[0m: matmul: Input operand 1 has a mismatch in its core dimension 0, with gufunc signature (n?,k),(k,m?)->(n?,m?) (size 4 is different from 5)"
     ]
    }
   ],
   "source": [
    "v1 = np.array([1,2,3,4,5]) \n",
    "v2 = np.array([2,4,6,8])\n",
    "\n",
    "v1@v2 #vectors of different sizes"
   ]
  },
  {
   "cell_type": "code",
   "execution_count": 18,
   "id": "9375342a",
   "metadata": {},
   "outputs": [
    {
     "data": {
      "text/plain": [
       "110"
      ]
     },
     "execution_count": 18,
     "metadata": {},
     "output_type": "execute_result"
    }
   ],
   "source": [
    "# another method to do the same\n",
    "\n",
    "np.dot(v1,v2)"
   ]
  },
  {
   "cell_type": "code",
   "execution_count": 19,
   "id": "20935383",
   "metadata": {},
   "outputs": [
    {
     "data": {
      "text/plain": [
       "110"
      ]
     },
     "execution_count": 19,
     "metadata": {},
     "output_type": "execute_result"
    }
   ],
   "source": [
    "# another method to do the same\n",
    "\n",
    "np.matmul(v1,v2)"
   ]
  },
  {
   "cell_type": "code",
   "execution_count": 20,
   "id": "744a6755",
   "metadata": {},
   "outputs": [
    {
     "data": {
      "text/plain": [
       "110"
      ]
     },
     "execution_count": 20,
     "metadata": {},
     "output_type": "execute_result"
    }
   ],
   "source": [
    "# proving the right hand side\n",
    "\n",
    "np.transpose(v1) @ v2\n",
    "\n",
    "# super right?"
   ]
  },
  {
   "cell_type": "markdown",
   "id": "07cb6d65",
   "metadata": {},
   "source": [
    "# day 42"
   ]
  },
  {
   "cell_type": "markdown",
   "id": "2eca5834",
   "metadata": {},
   "source": [
    "# exploring distributive,commutative and associative properties of dot products"
   ]
  },
  {
   "cell_type": "code",
   "execution_count": 1,
   "id": "756b7ce4",
   "metadata": {},
   "outputs": [],
   "source": [
    "import numpy as np\n",
    "import matplotlib.pyplot as plt"
   ]
  },
  {
   "cell_type": "code",
   "execution_count": null,
   "id": "e1c43a1a",
   "metadata": {},
   "outputs": [],
   "source": [
    "a = np.array([1,2,3])\n",
    "b = np.array([2,5,7])\n",
    "c = np.array([9,4,6])"
   ]
  },
  {
   "cell_type": "markdown",
   "id": "edd0dd6c",
   "metadata": {},
   "source": [
    "# distributive\n",
    "\n",
    "# a(b+c) = ab + ac"
   ]
  },
  {
   "cell_type": "code",
   "execution_count": 8,
   "id": "1f033cc1",
   "metadata": {},
   "outputs": [
    {
     "data": {
      "text/plain": [
       "68"
      ]
     },
     "execution_count": 8,
     "metadata": {},
     "output_type": "execute_result"
    }
   ],
   "source": [
    "lhs = np.dot(a,(b+c))\n",
    "\n",
    "lhs"
   ]
  },
  {
   "cell_type": "code",
   "execution_count": 9,
   "id": "a3baab5a",
   "metadata": {},
   "outputs": [
    {
     "data": {
      "text/plain": [
       "68"
      ]
     },
     "execution_count": 9,
     "metadata": {},
     "output_type": "execute_result"
    }
   ],
   "source": [
    "rhs = np.dot(a,b) + np.dot(a,c)\n",
    "rhs"
   ]
  },
  {
   "cell_type": "markdown",
   "id": "209b3ff8",
   "metadata": {},
   "source": [
    "# associative \n",
    "\n",
    "#  $$ a(b.c)  \\neq  (a.b).c  $$"
   ]
  },
  {
   "cell_type": "code",
   "execution_count": 7,
   "id": "443f1677",
   "metadata": {},
   "outputs": [
    {
     "data": {
      "text/plain": [
       "array([ 80, 160, 240])"
      ]
     },
     "execution_count": 7,
     "metadata": {},
     "output_type": "execute_result"
    }
   ],
   "source": [
    "lhs = np.dot(a,np.dot(b,c)) # sometimes @ doesn't seem to work so just use np.dot\n",
    "lhs"
   ]
  },
  {
   "cell_type": "code",
   "execution_count": 10,
   "id": "1d979b5f",
   "metadata": {},
   "outputs": [
    {
     "data": {
      "text/plain": [
       "array([297, 132, 198])"
      ]
     },
     "execution_count": 10,
     "metadata": {},
     "output_type": "execute_result"
    }
   ],
   "source": [
    "rhs = np.dot(np.dot(a,b),c)\n",
    "rhs"
   ]
  },
  {
   "cell_type": "markdown",
   "id": "622395e1",
   "metadata": {},
   "source": [
    "# special cases where associative property works (equals both sides) for vectors\n",
    "\n",
    "# 1. one vector is zero vector\n",
    "\n",
    "# 2. a=b=c"
   ]
  },
  {
   "cell_type": "code",
   "execution_count": 19,
   "id": "fcf88dbe",
   "metadata": {},
   "outputs": [
    {
     "name": "stdout",
     "output_type": "stream",
     "text": [
      "lhs = [0. 0. 0.] \n",
      "rhs = [0. 0. 0.]\n"
     ]
    }
   ],
   "source": [
    "# special case 1\n",
    "\n",
    "a = np.zeros(3)\n",
    "\n",
    "lhs = np.dot(a,np.dot(b,c))\n",
    "\n",
    "rhs = np.dot(np.dot(a,b),c)\n",
    "\n",
    "print('lhs = %s \\nrhs = %s'%(lhs,rhs))"
   ]
  },
  {
   "cell_type": "code",
   "execution_count": 20,
   "id": "d9d997f0",
   "metadata": {},
   "outputs": [
    {
     "name": "stdout",
     "output_type": "stream",
     "text": [
      "lhs = [14 28 42] \n",
      "rhs = [14 28 42]\n"
     ]
    }
   ],
   "source": [
    "# special case 2\n",
    "\n",
    "a = np.array([1,2,3])\n",
    "b = np.array([1,2,3])\n",
    "c = np.array([1,2,3])\n",
    "\n",
    "lhs = np.dot(a,np.dot(b,c))\n",
    "\n",
    "rhs = np.dot(np.dot(a,b),c)\n",
    "\n",
    "print('lhs = %s \\nrhs = %s'%(lhs,rhs))"
   ]
  },
  {
   "cell_type": "markdown",
   "id": "80cf626e",
   "metadata": {},
   "source": [
    "# commutative\n",
    "\n",
    "# 1. a.b = b.a\n",
    "\n",
    "# 2. a+b = b+a"
   ]
  },
  {
   "cell_type": "code",
   "execution_count": 18,
   "id": "cd819e4a",
   "metadata": {},
   "outputs": [
    {
     "name": "stdout",
     "output_type": "stream",
     "text": [
      "lhs = 33 \n",
      "rhs = 33\n"
     ]
    }
   ],
   "source": [
    "#1\n",
    "\n",
    "a = np.array([1,2,3])\n",
    "b = np.array([2,5,7])\n",
    "c = np.array([9,4,6])\n",
    "\n",
    "lhs = np.dot(a,b)\n",
    "\n",
    "rhs = np.dot(b,a)\n",
    "\n",
    "\n",
    "print('lhs = %s \\nrhs = %s'%(lhs,rhs))"
   ]
  },
  {
   "cell_type": "code",
   "execution_count": 14,
   "id": "b620594c",
   "metadata": {},
   "outputs": [
    {
     "name": "stdout",
     "output_type": "stream",
     "text": [
      "lhs = [ 3  7 10] \n",
      "rhs = [ 3  7 10]\n"
     ]
    }
   ],
   "source": [
    "# 2\n",
    "\n",
    "lhs = a + b\n",
    "rhs = b + a \n",
    "\n",
    "print('lhs = %s \\nrhs = %s'%(lhs,rhs))"
   ]
  },
  {
   "cell_type": "markdown",
   "id": "f6d5a4ac",
   "metadata": {},
   "source": [
    "# code challenge\n",
    "\n",
    "# create 2 4*6 matrix of random numbers\n",
    "# use for loop to compute dot products between corresponding columns"
   ]
  },
  {
   "cell_type": "code",
   "execution_count": 12,
   "id": "88052dd6",
   "metadata": {},
   "outputs": [
    {
     "name": "stdout",
     "output_type": "stream",
     "text": [
      "[[0.37454012 0.95071431 0.73199394 0.59865848 0.15601864 0.15599452]\n",
      " [0.05808361 0.86617615 0.60111501 0.70807258 0.02058449 0.96990985]\n",
      " [0.83244264 0.21233911 0.18182497 0.18340451 0.30424224 0.52475643]\n",
      " [0.43194502 0.29122914 0.61185289 0.13949386 0.29214465 0.36636184]]\n",
      " \n",
      "[[0.45606998 0.78517596 0.19967378 0.51423444 0.59241457 0.04645041]\n",
      " [0.60754485 0.17052412 0.06505159 0.94888554 0.96563203 0.80839735]\n",
      " [0.30461377 0.09767211 0.68423303 0.44015249 0.12203823 0.49517691]\n",
      " [0.03438852 0.9093204  0.25877998 0.66252228 0.31171108 0.52006802]]\n",
      " \n",
      "[0.47453235 1.17974216 0.46800942 1.15287438 0.24049867 1.24169891]\n"
     ]
    }
   ],
   "source": [
    "# 1\n",
    "np.random.seed(42)\n",
    "rows = 4\n",
    "cols = 6\n",
    "a = np.random.rand(rows,cols)\n",
    "b = np.random.rand(rows,cols)\n",
    "\n",
    "print(a)\n",
    "print(' ')\n",
    "print(b)\n",
    "print(' ')\n",
    "\n",
    "dot_prod_cols = np.ones(cols)\n",
    "for i in range(0,cols):\n",
    "    dot_prod_cols[i] = (np.dot(a[:,i],b[:,i])) # printing all columns\n",
    "    \n",
    "print(dot_prod_cols)"
   ]
  },
  {
   "cell_type": "code",
   "execution_count": 36,
   "id": "f7726389",
   "metadata": {},
   "outputs": [
    {
     "name": "stdout",
     "output_type": "stream",
     "text": [
      "[0.37454012 0.95071431 0.73199394 0.59865848 0.15601864 0.15599452]\n",
      "[0.05808361 0.86617615 0.60111501 0.70807258 0.02058449 0.96990985]\n",
      "[0.83244264 0.21233911 0.18182497 0.18340451 0.30424224 0.52475643]\n",
      "[0.43194502 0.29122914 0.61185289 0.13949386 0.29214465 0.36636184]\n"
     ]
    }
   ],
   "source": [
    "# all rows and columns of the matrix arranged in neat pack for reference for solving the above problem\n",
    "for i in a:\n",
    "    print(a)"
   ]
  },
  {
   "cell_type": "code",
   "execution_count": 51,
   "id": "e58ce609",
   "metadata": {},
   "outputs": [
    {
     "data": {
      "text/plain": [
       "array([0.37454012, 0.05808361, 0.83244264, 0.43194502])"
      ]
     },
     "execution_count": 51,
     "metadata": {},
     "output_type": "execute_result"
    }
   ],
   "source": [
    "col0a = a[:,0] # all rows but first column\n",
    "col0a"
   ]
  },
  {
   "cell_type": "code",
   "execution_count": 48,
   "id": "3ea98d53",
   "metadata": {},
   "outputs": [
    {
     "data": {
      "text/plain": [
       "array([0.37454012, 0.95071431, 0.73199394, 0.59865848, 0.15601864,\n",
       "       0.15599452])"
      ]
     },
     "execution_count": 48,
     "metadata": {},
     "output_type": "execute_result"
    }
   ],
   "source": [
    "row0 = a[0,:] # all columns but first rows\n",
    "row0"
   ]
  },
  {
   "cell_type": "code",
   "execution_count": 53,
   "id": "fa3a7894",
   "metadata": {},
   "outputs": [
    {
     "data": {
      "text/plain": [
       "array([0.45606998, 0.60754485, 0.30461377, 0.03438852])"
      ]
     },
     "execution_count": 53,
     "metadata": {},
     "output_type": "execute_result"
    }
   ],
   "source": [
    "col0b = b[:,0]\n",
    "col0b"
   ]
  },
  {
   "cell_type": "code",
   "execution_count": 57,
   "id": "5953176e",
   "metadata": {},
   "outputs": [
    {
     "data": {
      "text/plain": [
       "0.4745323464730313"
      ]
     },
     "execution_count": 57,
     "metadata": {},
     "output_type": "execute_result"
    }
   ],
   "source": [
    "a[:,0][0]* b[:,0][0] + a[:,0][1]* b[:,0][1] + a[:,0][2]* b[:,0][2] + a[:,0][3]* b[:,0][3]"
   ]
  },
  {
   "cell_type": "markdown",
   "id": "27bd195d",
   "metadata": {},
   "source": [
    "# day 43"
   ]
  },
  {
   "cell_type": "code",
   "execution_count": 26,
   "id": "a89d3595",
   "metadata": {},
   "outputs": [],
   "source": [
    "import numpy as np\n",
    "import matplotlib.pyplot as plt\n",
    "import sympy as sym\n",
    "sym.init_printing()"
   ]
  },
  {
   "cell_type": "code",
   "execution_count": 27,
   "id": "79b0811f",
   "metadata": {},
   "outputs": [
    {
     "data": {
      "text/plain": [
       "array([1., 1., 1., 1., 1., 1.])"
      ]
     },
     "execution_count": 27,
     "metadata": {},
     "output_type": "execute_result"
    }
   ],
   "source": [
    "np.ones(6)"
   ]
  },
  {
   "cell_type": "markdown",
   "id": "a4c14a69",
   "metadata": {},
   "source": [
    "# prove commutative property holds for vectors"
   ]
  },
  {
   "cell_type": "markdown",
   "id": "98f474dd",
   "metadata": {},
   "source": [
    "# 1. create two 100 element random row vectors and prove a.b =  b.a\n",
    "# 2. create two element integer row vectors and prove a.b = b.a"
   ]
  },
  {
   "cell_type": "code",
   "execution_count": 14,
   "id": "39c8cb42",
   "metadata": {},
   "outputs": [
    {
     "name": "stdout",
     "output_type": "stream",
     "text": [
      "lhs= 22.2926\n",
      "rhs= 22.2926\n"
     ]
    }
   ],
   "source": [
    "a = np.random.rand(100)\n",
    "b = np.random.rand(100)\n",
    "\n",
    "lhs = np.dot(a,b)\n",
    "rhs = np.dot(b,a)\n",
    "\n",
    "print('lhs= %g'%(lhs))\n",
    "print('rhs= %g'%(rhs))"
   ]
  },
  {
   "cell_type": "code",
   "execution_count": 16,
   "id": "e8371c68",
   "metadata": {},
   "outputs": [
    {
     "name": "stdout",
     "output_type": "stream",
     "text": [
      "lhs= 12\n",
      "rhs= 12\n"
     ]
    }
   ],
   "source": [
    "a = np.array([1,2])\n",
    "b = np.array([2,5])\n",
    "\n",
    "lhs = np.dot(a,b)\n",
    "rhs = np.dot(b,a)\n",
    "\n",
    "print('lhs= %g'%(lhs))\n",
    "print('rhs= %g'%(rhs))"
   ]
  },
  {
   "cell_type": "markdown",
   "id": "2cf7d09c",
   "metadata": {},
   "source": [
    "# hence proven that commutative property holds True for vectors "
   ]
  },
  {
   "cell_type": "markdown",
   "id": "ccbc1aba",
   "metadata": {},
   "source": [
    "# vector"
   ]
  },
  {
   "cell_type": "code",
   "execution_count": 20,
   "id": "b5f08f0e",
   "metadata": {},
   "outputs": [
    {
     "data": {
      "text/plain": [
       "[1, 2, 3]"
      ]
     },
     "execution_count": 20,
     "metadata": {},
     "output_type": "execute_result"
    }
   ],
   "source": [
    "v = [1,2,3]\n",
    "v"
   ]
  },
  {
   "cell_type": "markdown",
   "id": "7f3ee8f4",
   "metadata": {},
   "source": [
    "# matrix"
   ]
  },
  {
   "cell_type": "code",
   "execution_count": 19,
   "id": "7c8b5d04",
   "metadata": {},
   "outputs": [
    {
     "data": {
      "text/plain": [
       "array([[1, 2, 8],\n",
       "       [3, 5, 7],\n",
       "       [5, 5, 5]])"
      ]
     },
     "execution_count": 19,
     "metadata": {},
     "output_type": "execute_result"
    }
   ],
   "source": [
    "mat = [[1,3,5],[2,5,5],[8,7,5]]\n",
    "\n",
    "np.transpose(mat)"
   ]
  },
  {
   "cell_type": "markdown",
   "id": "69e7264a",
   "metadata": {},
   "source": [
    "# sanity check"
   ]
  },
  {
   "cell_type": "code",
   "execution_count": 21,
   "id": "bfc03743",
   "metadata": {},
   "outputs": [
    {
     "data": {
      "text/plain": [
       "13"
      ]
     },
     "execution_count": 21,
     "metadata": {},
     "output_type": "execute_result"
    }
   ],
   "source": [
    "v = [2,3]\n",
    "\n",
    "np.dot(np.transpose(v),v)"
   ]
  },
  {
   "cell_type": "markdown",
   "id": "73645341",
   "metadata": {},
   "source": [
    "# find the vector length\n",
    "\n",
    "# $$ ||v|| = \\sqrt{{v}^\\top . v} $$"
   ]
  },
  {
   "cell_type": "code",
   "execution_count": 33,
   "id": "f2e1fca7",
   "metadata": {},
   "outputs": [
    {
     "data": {
      "image/png": "[encoded data removed]",
      "text/latex": [
       "$\\displaystyle 3.60555127546399$"
      ],
      "text/plain": [
       "3.605551275463989"
      ]
     },
     "execution_count": 33,
     "metadata": {},
     "output_type": "execute_result"
    }
   ],
   "source": [
    "v = np.array([2,3])\n",
    "\n",
    "np.lib.scimath.sqrt(np.dot(np.transpose(v),v))"
   ]
  },
  {
   "cell_type": "code",
   "execution_count": 34,
   "id": "0a445fd7",
   "metadata": {},
   "outputs": [
    {
     "data": {
      "image/png": "[encoded data removed]",
      "text/latex": [
       "$\\displaystyle 3.60555127546399$"
      ],
      "text/plain": [
       "3.605551275463989"
      ]
     },
     "execution_count": 34,
     "metadata": {},
     "output_type": "execute_result"
    }
   ],
   "source": [
    "# another method\n",
    "\n",
    "\n",
    "# norm is length in linear algebra\n",
    "\n",
    "np.linalg.norm(v)"
   ]
  },
  {
   "cell_type": "code",
   "execution_count": 10,
   "id": "b67f656e-f848-4976-aa61-19308900ec8c",
   "metadata": {},
   "outputs": [
    {
     "data": {
      "text/plain": [
       "16.1245154965971"
      ]
     },
     "execution_count": 10,
     "metadata": {},
     "output_type": "execute_result"
    }
   ],
   "source": [
    "v1 = np.array([10,12,4])\n",
    "v2 = np.array([2.5,3,1\n",
    "np.linalg.norm(v1)*np.linalg.norm(v2)"
   ]
  },
  {
   "cell_type": "code",
   "execution_count": 37,
   "id": "a6c5ca75",
   "metadata": {},
   "outputs": [
    {
     "data": {
      "image/png": "[encoded data removed]",
      "text/latex": [
       "$\\displaystyle 3.60555127546399$"
      ],
      "text/plain": [
       "3.605551275463989"
      ]
     },
     "execution_count": 37,
     "metadata": {},
     "output_type": "execute_result"
    }
   ],
   "source": [
    "np.sqrt(sum(v*v))"
   ]
  },
  {
   "cell_type": "code",
   "execution_count": 38,
   "id": "13a033c7",
   "metadata": {},
   "outputs": [
    {
     "data": {
      "image/png": "[encoded data removed]",
      "text/latex": [
       "$\\displaystyle 3.60555127546399$"
      ],
      "text/plain": [
       "3.605551275463989"
      ]
     },
     "execution_count": 38,
     "metadata": {},
     "output_type": "execute_result"
    }
   ],
   "source": [
    "np.sqrt(sum(v**2))"
   ]
  },
  {
   "cell_type": "markdown",
   "id": "16c739b6",
   "metadata": {},
   "source": [
    "# day 47"
   ]
  },
  {
   "cell_type": "markdown",
   "id": "695bf79a",
   "metadata": {},
   "source": [
    "# geometric interpretation of the dot product\n",
    "\n",
    "\n",
    "# $$ \\text{dot product} =  \\lvert a \\rvert * \\lvert b \\rvert \\ * cos(\\theta_{ab}) $$\n",
    "\n",
    "# cos(theta) always falls between -1 <= cos(theta) >= 1\n",
    "\n",
    "# cos(theta) is an anti-clockwise engine\n",
    "\n",
    "### cos(0) = 1, cos(90) = 0, cos(180) = -1"
   ]
  },
  {
   "cell_type": "code",
   "execution_count": 3,
   "id": "6eb59b35",
   "metadata": {},
   "outputs": [
    {
     "data": {
      "text/plain": [
       "[5.66987298107781, 14.3301270189222]"
      ]
     },
     "execution_count": 3,
     "metadata": {},
     "output_type": "execute_result"
    }
   ],
   "source": [
    "import sympy as sym\n",
    "\n",
    "b = sym.symbols('b')\n",
    "\n",
    "sym.solve(b**2 -20*b + 81.25)"
   ]
  },
  {
   "cell_type": "markdown",
   "id": "d68c8084",
   "metadata": {},
   "source": [
    "# day 48"
   ]
  },
  {
   "cell_type": "code",
   "execution_count": 11,
   "id": "1305f767",
   "metadata": {},
   "outputs": [
    {
     "data": {
      "text/plain": [
       "[{a: b*(-sqrt(cos(theta)**2 - 4) + cos(theta))/2},\n",
       " {a: b*(sqrt(cos(theta)**2 - 4) + cos(theta))/2}]"
      ]
     },
     "execution_count": 11,
     "metadata": {},
     "output_type": "execute_result"
    }
   ],
   "source": [
    "import sympy as sym\n",
    "import numpy as np\n",
    "\n",
    "a,b,theta = sym.symbols('a,b,theta')\n",
    "\n",
    "sym.solve(a**2 + b**2 - a*b*sym.cos(theta))\n"
   ]
  },
  {
   "cell_type": "markdown",
   "id": "700499b4",
   "metadata": {},
   "source": [
    "# day 49 and day 50"
   ]
  },
  {
   "cell_type": "code",
   "execution_count": 1,
   "id": "9419e558",
   "metadata": {},
   "outputs": [],
   "source": [
    "import numpy as np\n",
    "import matplotlib.pyplot as plt"
   ]
  },
  {
   "cell_type": "markdown",
   "id": "3135ce7c",
   "metadata": {},
   "source": [
    "# The dot product from a geometric perspective"
   ]
  },
  {
   "cell_type": "markdown",
   "id": "5812244b",
   "metadata": {},
   "source": [
    "# important property to remember\n",
    "\n",
    "#  $$ \\text{1) } ||a.a||^{2} = a^{t}.a $$ \n",
    "\n",
    "#  $$ \\text{2) }   ||a.b||^{2} = a^{t}.b = ||a||.||b||.cos(\\theta_{ab}) $$\n",
    "\n",
    "# $$ \\text{3) dot product a and b is = } a^t.b $$\n",
    "\n"
   ]
  },
  {
   "cell_type": "code",
   "execution_count": 5,
   "id": "b0d1b99f",
   "metadata": {},
   "outputs": [
    {
     "data": {
      "text/plain": [
       "3.7416573867739413"
      ]
     },
     "execution_count": 5,
     "metadata": {},
     "output_type": "execute_result"
    }
   ],
   "source": [
    "a = np.array([1,2,3])\n",
    "b = np.array([2,4,6])\n",
    "\n",
    "np.linalg.norm(a)"
   ]
  },
  {
   "cell_type": "markdown",
   "id": "45ba4cdd",
   "metadata": {},
   "source": [
    "# day 50"
   ]
  },
  {
   "cell_type": "code",
   "execution_count": 1,
   "id": "a6e53438",
   "metadata": {},
   "outputs": [],
   "source": [
    "import numpy as np\n",
    "import matplotlib.pyplot as plt\n",
    "import sympy as sym\n",
    "from IPython.display import display,Math\n",
    "sym.init_printing()"
   ]
  },
  {
   "cell_type": "markdown",
   "id": "7a621974",
   "metadata": {},
   "source": [
    "# compute the angle or radians between two vectors"
   ]
  },
  {
   "cell_type": "code",
   "execution_count": 39,
   "id": "4e8bab1f",
   "metadata": {},
   "outputs": [
    {
     "data": {
      "image/png": "[encoded data removed]",
      "text/plain": [
       "<Figure size 900x600 with 1 Axes>"
      ]
     },
     "metadata": {
      "needs_background": "light"
     },
     "output_type": "display_data"
    }
   ],
   "source": [
    "a = np.array([2,4,-3])\n",
    "b = np.array([0,-3,-3])\n",
    "\n",
    "angle = np.arccos(np.dot(a,b)/(np.linalg.norm(a)*np.linalg.norm(b)))\n",
    "\n",
    "\n",
    "plt.figure(dpi=150)\n",
    "\n",
    "# plotting the angle on a circle\n",
    "\n",
    "x = np.linspace(-4,4,101)\n",
    "plt.plot(np.cos(x),np.sin(x))\n",
    "\n",
    "# plotting the axes\n",
    "axis = plt.gca()\n",
    "x_axes = axis.get_xlim()\n",
    "y_axes = axis.get_ylim()\n",
    "\n",
    "plt.plot([x_axes[0],x_axes[1]],[0,0],'--',color=[0.5,0.5,0.5])\n",
    "plt.plot([0,0],[y_axes[0],y_axes[1]],'--',color=[0.5,0.5,0.5])\n",
    "\n",
    "# plotting the angle\n",
    "plt.plot([0,np.cos(angle)],[0,np.sin(angle)])\n",
    "\n",
    "\n",
    "\n",
    "plt.axis('square')\n",
    "plt.show()"
   ]
  },
  {
   "cell_type": "code",
   "execution_count": 28,
   "id": "1e01941f",
   "metadata": {},
   "outputs": [
    {
     "data": {
      "image/png": "[encoded data removed]",
      "text/latex": [
       "$\\displaystyle \\left( -1.09953096334566, \\  1.09953096334566\\right)$"
      ],
      "text/plain": [
       "(-1.0995309633456556, 1.0995309633456556)"
      ]
     },
     "execution_count": 28,
     "metadata": {},
     "output_type": "execute_result"
    }
   ],
   "source": [
    "axis.get_ylim()\n"
   ]
  },
  {
   "cell_type": "code",
   "execution_count": 36,
   "id": "e44b01a4",
   "metadata": {},
   "outputs": [
    {
     "data": {
      "image/png": "[encoded data removed]",
      "text/plain": [
       "<Figure size 432x288 with 1 Axes>"
      ]
     },
     "metadata": {
      "needs_background": "light"
     },
     "output_type": "display_data"
    }
   ],
   "source": [
    "magnitude = 5\n",
    "plt.polar([0,angle],[0,magnitude])\n",
    "\n",
    "plt.show()"
   ]
  },
  {
   "cell_type": "code",
   "execution_count": 48,
   "id": "7d0dde01",
   "metadata": {},
   "outputs": [
    {
     "name": "stderr",
     "output_type": "stream",
     "text": [
      "C:\\Users\\ADMIN\\AppData\\Local\\Temp\\ipykernel_10688\\1905030039.py:3: MatplotlibDeprecationWarning: Calling gca() with keyword arguments was deprecated in Matplotlib 3.4. Starting two minor releases later, gca() will take no keyword arguments. The gca() function should only be used to get the current axes, or if no axes exist, create new axes with default keyword arguments. To create a new axes with non-default arguments, use plt.axes() or plt.subplot().\n",
      "  ax = fig.gca(projection='3d')\n"
     ]
    },
    {
     "data": {
      "image/png": "[encoded data removed]",
      "text/plain": [
       "<Figure size 900x600 with 1 Axes>"
      ]
     },
     "metadata": {
      "needs_background": "light"
     },
     "output_type": "display_data"
    }
   ],
   "source": [
    "# now plot the two vectors\n",
    "fig = plt.figure(dpi=150)\n",
    "ax = fig.gca(projection='3d')\n",
    "ax.plot([0,a[0]],[0,a[1]],[0,a[2]],'b')\n",
    "ax.plot([0,b[0]],[0,b[1]],[0,b[2]],'r')\n",
    "\n",
    "plt.axis((-5,5,-5,5))\n",
    "plt.show()"
   ]
  },
  {
   "cell_type": "markdown",
   "id": "25a33036",
   "metadata": {},
   "source": [
    "# day52"
   ]
  },
  {
   "cell_type": "code",
   "execution_count": 2,
   "id": "ae44907c",
   "metadata": {},
   "outputs": [],
   "source": [
    "import numpy as np\n",
    "import matplotlib.pyplot as plt"
   ]
  },
  {
   "cell_type": "markdown",
   "id": "00b1f78f",
   "metadata": {},
   "source": [
    "# know what length of a vector means"
   ]
  },
  {
   "cell_type": "code",
   "execution_count": 3,
   "id": "32423dfe",
   "metadata": {},
   "outputs": [
    {
     "data": {
      "text/plain": [
       "3.7416573867739413"
      ]
     },
     "execution_count": 3,
     "metadata": {},
     "output_type": "execute_result"
    }
   ],
   "source": [
    "a = np.array([1,2,3])\n",
    "len_of_a = np.linalg.norm(a)\n",
    "len_of_a\n",
    "# what does it actully mean?\n",
    "# ask chatgpt\n",
    "# length is the magnitude of a vector as in the below example "
   ]
  },
  {
   "cell_type": "code",
   "execution_count": 4,
   "id": "f67e203f",
   "metadata": {},
   "outputs": [
    {
     "data": {
      "image/png": "[encoded data removed]",
      "text/plain": [
       "<Figure size 432x288 with 1 Axes>"
      ]
     },
     "metadata": {
      "needs_background": "light"
     },
     "output_type": "display_data"
    }
   ],
   "source": [
    "mag = len_of_a\n",
    "angle = np.deg2rad(97)\n",
    "\n",
    "plt.polar([0,angle],[0,mag])\n",
    "plt.show()\n",
    "\n",
    "# magnitude determines the length of the line. "
   ]
  },
  {
   "cell_type": "markdown",
   "id": "8f4c2e70",
   "metadata": {},
   "source": [
    "# orthogonality = perpendicularity = 90 degree\n",
    "\n",
    "* when the dot product of two vectors is zero they are perpendicular to each other or orthogonal"
   ]
  },
  {
   "cell_type": "markdown",
   "id": "0125736d",
   "metadata": {},
   "source": [
    "# plotting perpendicular vectors "
   ]
  },
  {
   "cell_type": "code",
   "execution_count": 13,
   "id": "c0bbe3ff",
   "metadata": {},
   "outputs": [
    {
     "data": {
      "image/png": "[encoded data removed]",
      "text/plain": [
       "<Figure size 900x600 with 1 Axes>"
      ]
     },
     "metadata": {
      "needs_background": "light"
     },
     "output_type": "display_data"
    }
   ],
   "source": [
    "v1 = np.array([1,2])\n",
    "v2 = np.array([-2,1])\n",
    "\n",
    "dot_product = np.dot(v1,v2)\n",
    "\n",
    "plt.figure(dpi=150)\n",
    "# plotting the vectors\n",
    "plt.plot([0,v1[0]],[0,v1[1]],label = 'v1')\n",
    "plt.plot([0,v2[0]],[0,v2[1]],label = 'v2')\n",
    "\n",
    "\n",
    "# setting the axes straight\n",
    "plt.axis((-3,3,-3,3))\n",
    "axes = plt.gca()\n",
    "x_lim = axes.get_xlim()\n",
    "y_lim = axes.get_ylim()\n",
    "plt.plot(x_lim,[0,0],'k--')\n",
    "plt.plot([0,0],y_lim,'k--')\n",
    "\n",
    "plt.legend()\n",
    "plt.show()"
   ]
  },
  {
   "cell_type": "markdown",
   "id": "1ef0ae17-1f8d-45b0-8880-28121473531a",
   "metadata": {},
   "source": [
    "# setting starting points and the vector in space"
   ]
  },
  {
   "cell_type": "code",
   "execution_count": 49,
   "id": "39d24fa8-3166-44c7-a5fe-0d00178f4f7d",
   "metadata": {},
   "outputs": [
    {
     "data": {
      "image/png": "[encoded data removed]",
      "text/plain": [
       "<Figure size 960x720 with 1 Axes>"
      ]
     },
     "metadata": {},
     "output_type": "display_data"
    }
   ],
   "source": [
    "start = np.array([0,0])\n",
    "v1 = np.array([6,-2])\n",
    "v2 = np.array([2,-6])\n",
    "v3 = v1 - v2 # subtraction means head to head connection\n",
    "\n",
    "plt.figure(dpi=150)\n",
    "# plotting the vectors\n",
    "axis_length = np.max((v2,v1,v3))\n",
    "plt.plot([start[0],v1[0]],[start[0],v1[1]],label = 'v1',alpha=0.3)\n",
    "plt.plot([start[0],v2[0]],[start[0],v2[1]],label = 'v2',alpha=0.3)\n",
    "plt.plot([start[0],v3[0]],[start[1],v3[1]],label = 'v3',alpha=0.6) \n",
    "\n",
    "\n",
    "# setting the axes straight\n",
    "plt.axis((-axis_length-2,axis_length+2,-axis_length-2,axis_length+2))\n",
    "axes = plt.gca()\n",
    "x_lim = axes.get_xlim()\n",
    "y_lim = axes.get_ylim()\n",
    "plt.plot(x_lim,[0,0],'k--')\n",
    "plt.plot([0,0],y_lim,'k--')\n",
    "\n",
    "plt.legend()\n",
    "plt.show()"
   ]
  },
  {
   "cell_type": "markdown",
   "id": "a8fe5e70-2d48-4846-b260-093c49b601ef",
   "metadata": {},
   "source": [
    "## Create a 2D vector v, 10 scalars that are drawn at random from a normal (Gaussian) distribution, and plot all 10 scalar\u0002vector multiplications on top of each other. What do you notice?"
   ]
  },
  {
   "cell_type": "code",
   "execution_count": 60,
   "id": "a0728625-5c9b-456b-8dff-65af6cce6d0f",
   "metadata": {},
   "outputs": [
    {
     "data": {
      "image/png": "[encoded data removed]",
      "text/plain": [
       "<Figure size 960x720 with 1 Axes>"
      ]
     },
     "metadata": {},
     "output_type": "display_data"
    }
   ],
   "source": [
    "start = np.array([0,0])\n",
    "v1 = np.array([6,-2])\n",
    "scalars = np.random.randn(10)\n",
    "\n",
    "plt.figure(dpi=150)\n",
    "\n",
    "# plotting the vectors\n",
    "axis_length = np.max(v1)*np.max(scalars)\n",
    "for i in range(len(scalars)):\n",
    "    scaled_v1 = scalars[i]*v1\n",
    "    plt.plot([start[0],scaled_v1[0]],[start[0],scaled_v1[1]])\n",
    "    \n",
    "\n",
    "# setting the axes straight\n",
    "plt.axis((-axis_length-2,axis_length+2,-axis_length-2,axis_length+2))\n",
    "axes = plt.gca()\n",
    "x_lim = axes.get_xlim()\n",
    "y_lim = axes.get_ylim()\n",
    "plt.plot(x_lim,[0,0],'k--')\n",
    "plt.plot([0,0],y_lim,'k--')\n",
    "plt.grid('on')\n",
    "\n",
    "plt.show()"
   ]
  },
  {
   "cell_type": "code",
   "execution_count": null,
   "id": "538246ac-e2c0-438f-8eef-589a223883cd",
   "metadata": {},
   "outputs": [],
   "source": []
  },
  {
   "cell_type": "code",
   "execution_count": null,
   "id": "dd8d5183-2740-4e6d-af83-42e2a0790a37",
   "metadata": {},
   "outputs": [],
   "source": []
  },
  {
   "cell_type": "markdown",
   "id": "9333ebc7",
   "metadata": {},
   "source": [
    "# 3d projection (without using that deprecated gca method)"
   ]
  },
  {
   "cell_type": "code",
   "execution_count": 15,
   "id": "53e098b3",
   "metadata": {},
   "outputs": [
    {
     "data": {
      "image/png": "[encoded data removed]",
      "text/plain": [
       "<Figure size 900x600 with 1 Axes>"
      ]
     },
     "metadata": {
      "needs_background": "light"
     },
     "output_type": "display_data"
    }
   ],
   "source": [
    "v1 = np.array([1,2])\n",
    "v2 = np.array([-2,1])\n",
    "\n",
    "dot_product = np.dot(v1,v2)\n",
    "\n",
    "# asking for 3d projection\n",
    "plt.figure(dpi = 150)\n",
    "ax = plt.axes(projection = '3d')\n",
    "\n",
    "\n",
    "# plotting the vectors\n",
    "plt.plot([0,v1[0]],[0,v1[1]],label = 'v1')\n",
    "plt.plot([0,v2[0]],[0,v2[1]],label = 'v2')\n",
    "\n",
    "\n",
    "# setting the axes straight\n",
    "plt.axis((-3,3,-3,3))\n",
    "axes = plt.gca()\n",
    "x_lim = axes.get_xlim()\n",
    "y_lim = axes.get_ylim()\n",
    "plt.plot(x_lim,[0,0],'k--')\n",
    "plt.plot([0,0],y_lim,'k--')\n",
    "\n",
    "plt.legend()\n",
    "plt.show()"
   ]
  },
  {
   "cell_type": "code",
   "execution_count": 19,
   "id": "9b3ea84f",
   "metadata": {},
   "outputs": [
    {
     "data": {
      "image/png": "[encoded data removed]",
      "text/plain": [
       "<Figure size 900x600 with 1 Axes>"
      ]
     },
     "metadata": {
      "needs_background": "light"
     },
     "output_type": "display_data"
    }
   ],
   "source": [
    "# here we have 3 points so it is only possible to view accurately how it looks in 3d projection, in 2d lines overlap\n",
    "v1 = np.array([1,1,0])\n",
    "v2 = np.array([-1,1,0])\n",
    "\n",
    "dot_product = np.dot(v1,v2)\n",
    "\n",
    "# asking for 3d projection\n",
    "plt.figure(dpi = 150)\n",
    "ax = plt.axes(projection = '3d')\n",
    "\n",
    "# plotting the vectors\n",
    "plt.plot([0,v1[0]],[0,v1[1]],[0,v1[2]],label = 'v1')\n",
    "plt.plot([0,v2[0]],[0,v2[1]],[0,v2[2]],label = 'v2')\n",
    "\n",
    "\n",
    "# setting the axes straight\n",
    "plt.axis((-2,2,-2,2))\n",
    "axes = plt.gca()\n",
    "x_lim = axes.get_xlim()\n",
    "y_lim = axes.get_ylim()\n",
    "plt.plot(x_lim,[0,0],'k--')\n",
    "plt.plot([0,0],y_lim,'k--')\n",
    "\n",
    "plt.legend()\n",
    "plt.show()"
   ]
  },
  {
   "cell_type": "code",
   "execution_count": null,
   "id": "4b01d915",
   "metadata": {},
   "outputs": [],
   "source": []
  },
  {
   "cell_type": "markdown",
   "id": "3b875292",
   "metadata": {},
   "source": []
  },
  {
   "cell_type": "markdown",
   "id": "df59d527",
   "metadata": {},
   "source": [
    "# Cauchy Schwartz inequality\n",
    "\n",
    "# prove: $$ a^{T}.b   <=   ||a||.||b|| $$"
   ]
  },
  {
   "cell_type": "markdown",
   "id": "0a568907",
   "metadata": {},
   "source": [
    "# day 53"
   ]
  },
  {
   "cell_type": "code",
   "execution_count": 1,
   "id": "cbb92496",
   "metadata": {},
   "outputs": [],
   "source": [
    "import numpy as np\n",
    "import sympy as sym\n",
    "from IPython.display import display,Math\n",
    "sym.init_printing()\n",
    "import matplotlib.pyplot as plt\n"
   ]
  },
  {
   "cell_type": "code",
   "execution_count": 23,
   "id": "847652cc",
   "metadata": {},
   "outputs": [
    {
     "data": {
      "text/latex": [
       "$\\displaystyle a^{T}.b = 25$"
      ],
      "text/plain": [
       "<IPython.core.display.Math object>"
      ]
     },
     "metadata": {},
     "output_type": "display_data"
    },
    {
     "data": {
      "text/latex": [
       "$\\displaystyle ||a||.||b|| = 25.0998$"
      ],
      "text/plain": [
       "<IPython.core.display.Math object>"
      ]
     },
     "metadata": {},
     "output_type": "display_data"
    },
    {
     "data": {
      "text/latex": [
       "$\\displaystyle \\text{therefore we have proved that: }a^{T}.b <= ||a||.||b||$"
      ],
      "text/plain": [
       "<IPython.core.display.Math object>"
      ]
     },
     "metadata": {},
     "output_type": "display_data"
    }
   ],
   "source": [
    "# proof 1\n",
    "a = [1,2,3]\n",
    "b = [2,4,5]\n",
    "\n",
    "\n",
    "lhs = np.dot(a,b)\n",
    "display(Math('a^{T}.b = %g'%(lhs)))\n",
    "\n",
    "rhs = np.linalg.norm(a) * np.linalg.norm(b)\n",
    "display(Math('||a||.||b|| = %g'%(rhs)))\n",
    "\n",
    "display(Math('\\\\text{therefore we have proved that: }a^{T}.b <= ||a||.||b||'))\n"
   ]
  },
  {
   "cell_type": "code",
   "execution_count": 24,
   "id": "d88e1d88",
   "metadata": {},
   "outputs": [
    {
     "data": {
      "text/plain": [
       "25"
      ]
     },
     "execution_count": 24,
     "metadata": {},
     "output_type": "execute_result"
    }
   ],
   "source": [
    "lhs"
   ]
  },
  {
   "cell_type": "code",
   "execution_count": 25,
   "id": "94ccc3d1",
   "metadata": {},
   "outputs": [
    {
     "data": {
      "image/png": "[encoded data removed]",
      "text/latex": [
       "$\\displaystyle 25.0998007960223$"
      ],
      "text/plain": [
       "25.09980079602227"
      ]
     },
     "execution_count": 25,
     "metadata": {},
     "output_type": "execute_result"
    }
   ],
   "source": [
    "rhs"
   ]
  },
  {
   "cell_type": "markdown",
   "id": "c9c46b6e",
   "metadata": {},
   "source": [
    "# for Equality\n",
    "# $$ \\frac{a^{T}.b}{\\cos{\\theta_{ab}}} = ||a||.||b|| $$"
   ]
  },
  {
   "cell_type": "code",
   "execution_count": 29,
   "id": "ab13fc6f",
   "metadata": {},
   "outputs": [
    {
     "data": {
      "text/latex": [
       "$\\displaystyle \\text{True}$"
      ],
      "text/plain": [
       "True"
      ]
     },
     "execution_count": 29,
     "metadata": {},
     "output_type": "execute_result"
    }
   ],
   "source": [
    "# proof 2\n",
    "\n",
    "# establish equality between them and plot it\n",
    "\n",
    "a = [1,2,3]\n",
    "b = [2,4,5]\n",
    "\n",
    "angle = np.arccos(np.dot(a,b)/(np.linalg.norm(a)*np.linalg.norm(b)))\n",
    "lhs = np.dot(a,b)/(np.cos(angle))\n",
    "\n",
    "rhs = np.linalg.norm(a) * np.linalg.norm(b)\n",
    "\n",
    "sym.Eq(lhs-rhs,0)"
   ]
  },
  {
   "cell_type": "code",
   "execution_count": 19,
   "id": "387752b7",
   "metadata": {},
   "outputs": [
    {
     "data": {
      "image/png": "[encoded data removed]",
      "text/latex": [
       "$\\displaystyle 1.20741826972573 \\cdot 10^{-6}$"
      ],
      "text/plain": [
       "1.2074182697257333e-06"
      ]
     },
     "execution_count": 19,
     "metadata": {},
     "output_type": "execute_result"
    }
   ],
   "source": [
    "np.rad2deg(angle)"
   ]
  },
  {
   "cell_type": "code",
   "execution_count": 31,
   "id": "8dc4093d",
   "metadata": {},
   "outputs": [
    {
     "data": {
      "image/png": "[encoded data removed]",
      "text/latex": [
       "$\\displaystyle 25.0998007960223$"
      ],
      "text/plain": [
       "25.09980079602227"
      ]
     },
     "execution_count": 31,
     "metadata": {},
     "output_type": "execute_result"
    }
   ],
   "source": [
    "lhs"
   ]
  },
  {
   "cell_type": "code",
   "execution_count": 32,
   "id": "350b7542",
   "metadata": {},
   "outputs": [
    {
     "data": {
      "image/png": "[encoded data removed]",
      "text/latex": [
       "$\\displaystyle 25.0998007960223$"
      ],
      "text/plain": [
       "25.09980079602227"
      ]
     },
     "execution_count": 32,
     "metadata": {},
     "output_type": "execute_result"
    }
   ],
   "source": [
    "rhs"
   ]
  },
  {
   "cell_type": "code",
   "execution_count": 37,
   "id": "653ad719",
   "metadata": {},
   "outputs": [
    {
     "data": {
      "image/png": "[encoded data removed]",
      "text/plain": [
       "<Figure size 432x288 with 1 Axes>"
      ]
     },
     "metadata": {
      "needs_background": "light"
     },
     "output_type": "display_data"
    }
   ],
   "source": [
    "magnitude = rhs\n",
    "plt.polar([0,angle],[0,magnitude])\n",
    "plt.thetagrids([0,8,45,90,180,270])\n",
    "plt.show()"
   ]
  },
  {
   "cell_type": "code",
   "execution_count": 42,
   "id": "2c3b4dea",
   "metadata": {},
   "outputs": [
    {
     "data": {
      "image/png": "[encoded data removed]",
      "text/latex": [
       "$\\displaystyle 5.11108969528878$"
      ],
      "text/plain": [
       "5.111089695288778"
      ]
     },
     "execution_count": 42,
     "metadata": {},
     "output_type": "execute_result"
    }
   ],
   "source": [
    "np.rad2deg(angle)%360"
   ]
  },
  {
   "cell_type": "code",
   "execution_count": 46,
   "id": "09d03b84",
   "metadata": {},
   "outputs": [
    {
     "data": {
      "image/png": "[encoded data removed]",
      "text/latex": [
       "$\\displaystyle 33.6900675259798$"
      ],
      "text/plain": [
       "33.690067525979785"
      ]
     },
     "execution_count": 46,
     "metadata": {},
     "output_type": "execute_result"
    }
   ],
   "source": [
    "a = [2,3]\n",
    "b = [0,2]\n",
    "\n",
    "angle = np.arccos(np.dot(a,b)/(np.linalg.norm(a)*np.linalg.norm(b)))\n",
    "np.rad2deg(angle)%360"
   ]
  },
  {
   "cell_type": "code",
   "execution_count": null,
   "id": "040c0866",
   "metadata": {},
   "outputs": [],
   "source": []
  },
  {
   "cell_type": "markdown",
   "id": "5c2fcff8",
   "metadata": {},
   "source": [
    "# day 54 and day 55"
   ]
  },
  {
   "cell_type": "code",
   "execution_count": 2,
   "id": "3cc69876",
   "metadata": {},
   "outputs": [],
   "source": [
    "import numpy as np\n",
    "import sympy as sym\n",
    "from IPython.display import display,Math\n",
    "sym.init_printing()\n",
    "import matplotlib.pyplot as plt"
   ]
  },
  {
   "cell_type": "markdown",
   "id": "505ca5c8",
   "metadata": {},
   "source": [
    "# check whether dot product sign is invariant to scalar multiplication"
   ]
  },
  {
   "cell_type": "code",
   "execution_count": 50,
   "id": "b43006d7",
   "metadata": {},
   "outputs": [],
   "source": [
    "# goal\n",
    "# create 2 vectors\n",
    "# create 2 scalers\n",
    "# find the dot product between two vanilla vectors\n",
    "# find the dot product between two scaled vectors.\n",
    "\n",
    "# two vectors\n",
    "v1 = [-3,4,6]\n",
    "v2 = [3,6,-3]\n",
    "\n",
    "# two scalers\n",
    "s1 = -2\n",
    "s2 = 3\n",
    "\n",
    "# dot product of vectors\n",
    "vanilla_dot = np.dot(v1,v2)\n",
    "\n",
    "# dot product of vectors after scaling\n",
    "scaled_v1 = np.dot(s1,v1)\n",
    "scaled_v2 = np.dot(s2,v2)\n",
    "\n",
    "scaled_dot = np.dot(scaled_v1,scaled_v2)\n",
    "\n",
    "# angle vanilla vs angle scaled\n",
    "\n",
    "vanilla_angle = np.rad2deg(np.arccos(vanilla_dot/(np.linalg.norm(v1)*np.linalg.norm(v2))))\n",
    "scaled_angle = np.rad2deg(np.arccos(scaled_dot/(np.linalg.norm(scaled_v1)*np.linalg.norm(scaled_v2))))"
   ]
  },
  {
   "cell_type": "code",
   "execution_count": 51,
   "id": "df48201e",
   "metadata": {},
   "outputs": [
    {
     "data": {
      "text/plain": [
       "-3"
      ]
     },
     "execution_count": 51,
     "metadata": {},
     "output_type": "execute_result"
    }
   ],
   "source": [
    "vanilla_dot"
   ]
  },
  {
   "cell_type": "code",
   "execution_count": 52,
   "id": "310c3709",
   "metadata": {},
   "outputs": [
    {
     "data": {
      "text/plain": [
       "18"
      ]
     },
     "execution_count": 52,
     "metadata": {},
     "output_type": "execute_result"
    }
   ],
   "source": [
    "scaled_dot"
   ]
  },
  {
   "cell_type": "code",
   "execution_count": 53,
   "id": "fb40f89e",
   "metadata": {},
   "outputs": [
    {
     "data": {
      "image/png": "[encoded data removed]",
      "text/latex": [
       "$\\displaystyle 92.9962638483131$"
      ],
      "text/plain": [
       "92.9962638483131"
      ]
     },
     "execution_count": 53,
     "metadata": {},
     "output_type": "execute_result"
    }
   ],
   "source": [
    "vanilla_angle\n",
    "\n",
    "# this is a negative or obtuse angle (over 90 below 180) \n",
    "# sign matters for the angle"
   ]
  },
  {
   "cell_type": "code",
   "execution_count": 54,
   "id": "3b0c4b9d",
   "metadata": {},
   "outputs": [
    {
     "data": {
      "image/png": "[encoded data removed]",
      "text/latex": [
       "$\\displaystyle 87.0037361516869$"
      ],
      "text/plain": [
       "87.0037361516869"
      ]
     },
     "execution_count": 54,
     "metadata": {},
     "output_type": "execute_result"
    }
   ],
   "source": [
    "scaled_angle\n",
    "\n",
    "# this is a positive angle"
   ]
  },
  {
   "cell_type": "markdown",
   "id": "667bf0d6",
   "metadata": {},
   "source": [
    "# conclusion: dot product sign is not invariant to scalar multiplication"
   ]
  },
  {
   "cell_type": "markdown",
   "id": "c86ca3db",
   "metadata": {},
   "source": [
    "# vector Hadamard multiplication\n",
    "\n",
    "* Hadamard multiplication is element wise multiplication"
   ]
  },
  {
   "cell_type": "code",
   "execution_count": 55,
   "id": "d1b45d14",
   "metadata": {},
   "outputs": [
    {
     "data": {
      "text/plain": [
       "array([2, 8])"
      ]
     },
     "execution_count": 55,
     "metadata": {},
     "output_type": "execute_result"
    }
   ],
   "source": [
    "v1 = [1,2]\n",
    "v2 = [2,4]\n",
    "\n",
    "Hadamard = np.multiply(v1,v2)\n",
    "\n",
    "Hadamard"
   ]
  },
  {
   "cell_type": "code",
   "execution_count": 56,
   "id": "ba22101e",
   "metadata": {},
   "outputs": [
    {
     "data": {
      "text/plain": [
       "10"
      ]
     },
     "execution_count": 56,
     "metadata": {},
     "output_type": "execute_result"
    }
   ],
   "source": [
    "np.dot(v1,v2)"
   ]
  },
  {
   "cell_type": "markdown",
   "id": "eda51d3b",
   "metadata": {},
   "source": [
    "# conclusion:  the difference between Hadamard multiplication and dot product is Hadamard multiplication multiplies each element of a vector with 'corresponding' elements in the other vector. Dot product multiplies and sums it."
   ]
  },
  {
   "cell_type": "code",
   "execution_count": null,
   "id": "37c924ff",
   "metadata": {},
   "outputs": [],
   "source": []
  },
  {
   "cell_type": "code",
   "execution_count": null,
   "id": "5b529687",
   "metadata": {},
   "outputs": [],
   "source": []
  },
  {
   "cell_type": "markdown",
   "id": "2d11dd2c",
   "metadata": {},
   "source": [
    "# outer product vs inner product"
   ]
  },
  {
   "cell_type": "markdown",
   "id": "3f2f541e",
   "metadata": {},
   "source": [
    "# $$ \\text{inner dot product } = a^{T}.b $$\n",
    "# $$ \\text{outer product} = a.b^{T} $$\n",
    "\n",
    "* if the dot product between two vectors produces a matrix then it is a product.\n",
    "* if the dot product between two vectors produces a single scaler then it is a inner product.\n",
    "\n",
    "* Each column in the outer product matrix\r\n",
    "comes from repeating the left vector (v using the notation above)\r\n",
    "but scaled by each element in thrightow vectT). In\r\n",
    "other words, each column in the outer product matrix is the result\r\n",
    "of scalar-vector multiplication, where the vector is the co vector (repeated) and the scalar comes from each element of tight\r\n",
    "row vector. Thus, the number of columns in the matrix equals the\r\n",
    "number of elements inighthe row vector. Notice that in the example\r\n",
    "below, each column of the outer product matrix is a scaled version\r\n",
    "of the left column ve.ctorlumn"
   ]
  },
  {
   "cell_type": "code",
   "execution_count": 3,
   "id": "5a1ed93d",
   "metadata": {},
   "outputs": [
    {
     "data": {
      "text/plain": [
       "array([[ 2,  4,  6],\n",
       "       [ 4,  8, 12],\n",
       "       [ 6, 12, 18]])"
      ]
     },
     "execution_count": 3,
     "metadata": {},
     "output_type": "execute_result"
    }
   ],
   "source": [
    "a = np.array([1,2,3]) # size interpretation: 3*1\n",
    "b = np.array([2,4,6]) # size interpretation after Transposing: 1*3\n",
    "\n",
    "np.outer(a,b) # size interpretation: 3*3"
   ]
  },
  {
   "cell_type": "code",
   "execution_count": 7,
   "id": "848a4504",
   "metadata": {},
   "outputs": [
    {
     "name": "stdout",
     "output_type": "stream",
     "text": [
      "[[ 2.  4.  6.]\n",
      " [ 4.  8. 12.]\n",
      " [ 6. 12. 18.]]\n"
     ]
    }
   ],
   "source": [
    "# test\n",
    "\n",
    "dic = np.zeros((len(a),len(b)))\n",
    "\n",
    "for i in range(len(a)):\n",
    "    for j in range(len(b)):\n",
    "        dic[i,j] =  a[i] * b[j]\n",
    "        \n",
    "print(dic)"
   ]
  },
  {
   "cell_type": "code",
   "execution_count": 4,
   "id": "081ae839",
   "metadata": {},
   "outputs": [
    {
     "data": {
      "text/plain": [
       "(array([[7, 7],\n",
       "        [8, 7],\n",
       "        [6, 3]]),\n",
       " array([[0, 4, 4],\n",
       "        [7, 4, 7],\n",
       "        [0, 8, 7]]))"
      ]
     },
     "execution_count": 4,
     "metadata": {},
     "output_type": "execute_result"
    }
   ],
   "source": [
    "a = np.random.randint(0,9,(3,2))\n",
    "b = np.random.randint(0,9,(3,3))\n",
    "\n",
    "a,b"
   ]
  },
  {
   "cell_type": "code",
   "execution_count": 6,
   "id": "9fd0d8cb-a683-4055-a255-3e6c410310db",
   "metadata": {},
   "outputs": [
    {
     "data": {
      "text/plain": [
       "array([[ 0, 28, 28, 49, 28, 49,  0, 56, 49],\n",
       "       [ 0, 28, 28, 49, 28, 49,  0, 56, 49],\n",
       "       [ 0, 32, 32, 56, 32, 56,  0, 64, 56],\n",
       "       [ 0, 28, 28, 49, 28, 49,  0, 56, 49],\n",
       "       [ 0, 24, 24, 42, 24, 42,  0, 48, 42],\n",
       "       [ 0, 12, 12, 21, 12, 21,  0, 24, 21]])"
      ]
     },
     "execution_count": 6,
     "metadata": {},
     "output_type": "execute_result"
    }
   ],
   "source": [
    "np.outer(a,b)"
   ]
  },
  {
   "cell_type": "markdown",
   "id": "c9e0ea13-85fd-48c3-9f7a-1bd0bd294879",
   "metadata": {},
   "source": [
    "* the original dimensions were (3,2) and (3,3)\n",
    "* resultant matrix dimension calculation: rows = inner multiply;2x3 and cols = outer multiply; 3x3"
   ]
  },
  {
   "cell_type": "code",
   "execution_count": 10,
   "id": "eda11f9d-1b48-4f6a-bf27-67914df4926b",
   "metadata": {},
   "outputs": [
    {
     "data": {
      "text/plain": [
       "(array([[7, 0, 5],\n",
       "        [2, 1, 0]]),\n",
       " array([[1, 8],\n",
       "        [8, 6]]))"
      ]
     },
     "execution_count": 10,
     "metadata": {},
     "output_type": "execute_result"
    }
   ],
   "source": [
    "a = np.random.randint(0,9,(2,3))\n",
    "b = np.random.randint(0,9,(2,2))\n",
    "a,b"
   ]
  },
  {
   "cell_type": "code",
   "execution_count": 12,
   "id": "5dbacb24-5c52-4689-859c-5ca875e4a3d0",
   "metadata": {},
   "outputs": [
    {
     "data": {
      "text/plain": [
       "array([[ 7, 56, 56, 42],\n",
       "       [ 0,  0,  0,  0],\n",
       "       [ 5, 40, 40, 30],\n",
       "       [ 2, 16, 16, 12],\n",
       "       [ 1,  8,  8,  6],\n",
       "       [ 0,  0,  0,  0]])"
      ]
     },
     "execution_count": 12,
     "metadata": {},
     "output_type": "execute_result"
    }
   ],
   "source": [
    "np.outer(a,b)"
   ]
  },
  {
   "cell_type": "code",
   "execution_count": null,
   "id": "dc1ea1fc-86fb-400d-b134-a944947a4bfa",
   "metadata": {},
   "outputs": [],
   "source": []
  },
  {
   "cell_type": "code",
   "execution_count": null,
   "id": "4bdf74c3-019b-48a9-a1e0-f5eaaf1139ff",
   "metadata": {},
   "outputs": [],
   "source": []
  },
  {
   "cell_type": "code",
   "execution_count": null,
   "id": "0bc0d19c-91cc-4752-991a-faaf293b3879",
   "metadata": {},
   "outputs": [],
   "source": []
  },
  {
   "cell_type": "markdown",
   "id": "9b788fcb",
   "metadata": {},
   "source": [
    "# cross product"
   ]
  },
  {
   "cell_type": "code",
   "execution_count": 14,
   "id": "0a5ae4b0",
   "metadata": {},
   "outputs": [
    {
     "name": "stdout",
     "output_type": "stream",
     "text": [
      "[ 0  9 -6]\n",
      "[0, 9, 6]\n"
     ]
    },
    {
     "data": {
      "image/png": "[encoded data removed]",
      "text/plain": [
       "<Figure size 960x720 with 1 Axes>"
      ]
     },
     "metadata": {},
     "output_type": "display_data"
    },
    {
     "name": "stdout",
     "output_type": "stream",
     "text": [
      "0\n",
      "0\n"
     ]
    }
   ],
   "source": [
    "a = np.array([1,2,3])\n",
    "b = np.array([5,4,6])\n",
    "\n",
    "cross = np.cross(a,b)\n",
    "print(cross)\n",
    "\n",
    "# manual method\n",
    "cross2 = [ a[1]*b[2] - a[2]*b[1],\n",
    "          a[2]*b[0] - b[2]*a[0],\n",
    "          a[1]*b[0] - b[1]*a[0] ]\n",
    "\n",
    "\n",
    "print(cross2)\n",
    "\n",
    "\n",
    "# plotting on a graph:\n",
    "\n",
    "# asking for 3d projection\n",
    "plt.figure(dpi = 150)\n",
    "ax = plt.axes(projection = '3d')\n",
    "\n",
    "ax.plot([0,a[0]],[0,a[1]],[0,a[2]],'k',label='a')\n",
    "ax.plot([0,b[0]],[0,b[1]],[0,b[2]],'k',label='b')\n",
    "ax.plot([0,cross[0]],[0,cross[1]],[0,cross[2]],'r',label='c')\n",
    "\n",
    "plt.legend()\n",
    "plt.show()\n",
    "\n",
    "\n",
    "# cross is orthogonal to a and b(is at 90 degree, dot product between them is zero)\n",
    "\n",
    "print(np.dot(cross,a))\n",
    "print(np.dot(cross,b))\n",
    "\n",
    "\n",
    "# applications: differential Geometry, physics and satellite communication systems"
   ]
  },
  {
   "cell_type": "code",
   "execution_count": 26,
   "id": "9622084d",
   "metadata": {},
   "outputs": [
    {
     "data": {
      "text/plain": [
       "0"
      ]
     },
     "execution_count": 26,
     "metadata": {},
     "output_type": "execute_result"
    }
   ],
   "source": [
    "np.dot(cross,a)"
   ]
  },
  {
   "cell_type": "code",
   "execution_count": 27,
   "id": "0a14badb",
   "metadata": {},
   "outputs": [
    {
     "data": {
      "text/plain": [
       "0"
      ]
     },
     "execution_count": 27,
     "metadata": {},
     "output_type": "execute_result"
    }
   ],
   "source": [
    "np.dot(cross,b)"
   ]
  },
  {
   "cell_type": "markdown",
   "id": "70ac64cb-854e-41b5-b3e6-b43f2ec690ea",
   "metadata": {},
   "source": [
    "* so they are all perpendicular to each other."
   ]
  },
  {
   "cell_type": "code",
   "execution_count": 28,
   "id": "0c1aaae2",
   "metadata": {},
   "outputs": [
    {
     "data": {
      "text/plain": [
       "31"
      ]
     },
     "execution_count": 28,
     "metadata": {},
     "output_type": "execute_result"
    }
   ],
   "source": [
    "np.dot(a,b)"
   ]
  },
  {
   "cell_type": "markdown",
   "id": "4265921e",
   "metadata": {},
   "source": [
    "# vectors with complex numbers"
   ]
  },
  {
   "cell_type": "code",
   "execution_count": 29,
   "id": "8e2cf16f",
   "metadata": {},
   "outputs": [
    {
     "data": {
      "text/plain": [
       "1j"
      ]
     },
     "execution_count": 29,
     "metadata": {},
     "output_type": "execute_result"
    }
   ],
   "source": [
    "1j"
   ]
  },
  {
   "cell_type": "code",
   "execution_count": 30,
   "id": "1d6f05ad",
   "metadata": {},
   "outputs": [
    {
     "data": {
      "text/plain": [
       "(-1+0j)"
      ]
     },
     "execution_count": 30,
     "metadata": {},
     "output_type": "execute_result"
    }
   ],
   "source": [
    "1j**2"
   ]
  },
  {
   "cell_type": "code",
   "execution_count": 31,
   "id": "83fa3cc8",
   "metadata": {},
   "outputs": [
    {
     "data": {
      "text/plain": [
       "(-0-1j)"
      ]
     },
     "execution_count": 31,
     "metadata": {},
     "output_type": "execute_result"
    }
   ],
   "source": [
    "1j**3"
   ]
  },
  {
   "cell_type": "code",
   "execution_count": 32,
   "id": "1392ee30",
   "metadata": {},
   "outputs": [
    {
     "data": {
      "text/plain": [
       "(1+0j)"
      ]
     },
     "execution_count": 32,
     "metadata": {},
     "output_type": "execute_result"
    }
   ],
   "source": [
    "1j**4"
   ]
  },
  {
   "cell_type": "code",
   "execution_count": 36,
   "id": "cbf57273",
   "metadata": {},
   "outputs": [
    {
     "data": {
      "text/plain": [
       "(25+16j)"
      ]
     },
     "execution_count": 36,
     "metadata": {},
     "output_type": "execute_result"
    }
   ],
   "source": [
    "v1 = np.array([1+3j,-2j,4,-5])\n",
    "v2 = np.array([6+2j,8,3j,-5])\n",
    "\n",
    "np.dot(v1,v2)"
   ]
  },
  {
   "cell_type": "markdown",
   "id": "f7be9cc3-e248-47fc-bfc1-3e97e61ee053",
   "metadata": {},
   "source": [
    "## exploration, ablation-analysis and freethrows"
   ]
  },
  {
   "cell_type": "code",
   "execution_count": 18,
   "id": "90077f31-8c68-4803-b3c0-60f1c7ac8d8a",
   "metadata": {},
   "outputs": [
    {
     "data": {
      "text/plain": [
       "(array([[6, 4],\n",
       "        [2, 8],\n",
       "        [0, 1]]),\n",
       " array([[5, 5, 3],\n",
       "        [3, 5, 2],\n",
       "        [1, 8, 3]]))"
      ]
     },
     "execution_count": 18,
     "metadata": {},
     "output_type": "execute_result"
    }
   ],
   "source": [
    "a = np.random.randint(0,9,(3,2))\n",
    "b = np.random.randint(0,9,(3,3))\n",
    "\n",
    "a,b"
   ]
  },
  {
   "cell_type": "code",
   "execution_count": 20,
   "id": "3e52d2f4-9b92-4311-832c-f9ac6358495b",
   "metadata": {},
   "outputs": [
    {
     "data": {
      "text/plain": [
       "array([[ 12, -18,  10],\n",
       "       [ 16,  -4, -14],\n",
       "       [  3,   0,  -1]])"
      ]
     },
     "execution_count": 20,
     "metadata": {},
     "output_type": "execute_result"
    }
   ],
   "source": [
    "np.cross(a,b)"
   ]
  },
  {
   "cell_type": "code",
   "execution_count": 22,
   "id": "575c2d0e-7397-4f19-9eaf-978c394050cd",
   "metadata": {},
   "outputs": [
    {
     "data": {
      "text/plain": [
       "array([ 2, -6,  8])"
      ]
     },
     "execution_count": 22,
     "metadata": {},
     "output_type": "execute_result"
    }
   ],
   "source": [
    "np.cross(a[:,0],b[:,0])"
   ]
  },
  {
   "cell_type": "code",
   "execution_count": null,
   "id": "fc27f13b-2817-4fc3-bfd2-77887fc04994",
   "metadata": {},
   "outputs": [],
   "source": [
    "## how cross product work?"
   ]
  },
  {
   "cell_type": "markdown",
   "id": "66d08d83",
   "metadata": {},
   "source": [
    "# day 57"
   ]
  },
  {
   "cell_type": "code",
   "execution_count": 1,
   "id": "2fd8fe9f",
   "metadata": {},
   "outputs": [],
   "source": [
    "import numpy as np\n",
    "import sympy as sym\n",
    "from IPython.display import display,Math\n",
    "sym.init_printing()\n",
    "import matplotlib.pyplot as plt"
   ]
  },
  {
   "cell_type": "markdown",
   "id": "e832afa7",
   "metadata": {},
   "source": [
    "# Hermetian transpose (a.k.a conjugate transpose)"
   ]
  },
  {
   "cell_type": "markdown",
   "id": "f760437e",
   "metadata": {},
   "source": [
    "## complex conjugate:\n",
    "\n",
    "# $$ a+bi \\longrightarrow a-bi $$\n",
    "# $$ a-bi \\longrightarrow a+bi $$\n",
    "\n",
    "## special case:\n",
    "\n",
    "# $$ a \\longrightarrow a $$\n",
    "# $$ -bi \\longrightarrow +bi $$\n",
    "\n",
    "## Hermetian Tranpose:\n",
    "\n",
    "# $$ \\begin{bmatrix} \n",
    "1 + 3\\mathrm{i} \\\\ \n",
    "2 \\\\ \n",
    "-4\\mathrm{i} \\\\ \n",
    "-5\n",
    "\\end {bmatrix} ^{H} \\longrightarrow \n",
    "\\begin{bmatrix}\n",
    "1 -3\\mathrm{i}, & 2, & 4 \\mathrm{i}, & -5 \n",
    "\\end{bmatrix} $$"
   ]
  },
  {
   "cell_type": "markdown",
   "id": "8651c8bd",
   "metadata": {},
   "source": [
    "# use of Hermetian Transpose:\n",
    "\n",
    "* it is used for calculating the length of a vector with complex numbers. Normal Transpose wouldn't cut it. "
   ]
  },
  {
   "cell_type": "markdown",
   "id": "c6c582aa",
   "metadata": {},
   "source": [
    "### find the length of this vector with complex numbers"
   ]
  },
  {
   "cell_type": "code",
   "execution_count": 20,
   "id": "4842ef38",
   "metadata": {},
   "outputs": [
    {
     "name": "stdout",
     "output_type": "stream",
     "text": [
      "The length is:  5.0\n",
      "The Normal transpose value is:  (-7+24j)\n",
      "The Hermetian transpose value is:  (25+0j)\n",
      "The Length with Normal transpose is:  (3+4j)\n",
      "The Length with Hermetian transpose is:  (5+0j)\n"
     ]
    }
   ],
   "source": [
    "# defining the complex number\n",
    "z = complex(real= 3,imag= 4)\n",
    "\n",
    "# length/magnitude of z\n",
    "print('The length is: ',np.linalg.norm(z))\n",
    "\n",
    "# by transpose\n",
    "print('The Normal transpose value is: ',np.dot(z,np.transpose(z)))\n",
    "\n",
    "\n",
    "# Hermetian Transpose\n",
    "print('The Hermetian transpose value is: ',np.dot(z,np.transpose(np.conjugate(z))))\n",
    "\n",
    "# length with Normal Transpose\n",
    "print('The Length with Normal transpose is: ',np.sqrt(np.dot(z,np.transpose(z))))\n",
    "\n",
    "# length with Hermetian Transpose\n",
    "print('The Length with Hermetian transpose is: ',np.sqrt(np.dot(z,np.transpose(np.conjugate(z)))))"
   ]
  },
  {
   "cell_type": "code",
   "execution_count": 14,
   "id": "81d37261",
   "metadata": {},
   "outputs": [
    {
     "data": {
      "text/plain": [
       "(3+4j)"
      ]
     },
     "execution_count": 14,
     "metadata": {},
     "output_type": "execute_result"
    }
   ],
   "source": [
    "np.dot(z,np.transpose(z))"
   ]
  },
  {
   "cell_type": "code",
   "execution_count": 30,
   "id": "c7071f75",
   "metadata": {},
   "outputs": [
    {
     "name": "stdout",
     "output_type": "stream",
     "text": [
      "Normal Transpose: \n",
      "[[ 1.+3.j]\n",
      " [-4.+0.j]\n",
      " [ 5.+0.j]\n",
      " [ 2.-3.j]]\n",
      " \n",
      "Hermetian Transpose: \n",
      "[[ 1.-3.j]\n",
      " [-4.-0.j]\n",
      " [ 5.-0.j]\n",
      " [ 2.+3.j]]\n"
     ]
    }
   ],
   "source": [
    "### Hermetian Transposing a vector vs Normal Transposing\n",
    "\n",
    "vector = np.array([[1+3j,-4,5,2-3j]])\n",
    "print('Normal Transpose: ')\n",
    "print(np.transpose(vector))\n",
    "\n",
    "print(' ')\n",
    "\n",
    "print('Hermetian Transpose: ')\n",
    "print(np.transpose(np.conjugate(vector)))\n"
   ]
  },
  {
   "cell_type": "code",
   "execution_count": null,
   "id": "df963e57",
   "metadata": {},
   "outputs": [],
   "source": []
  },
  {
   "cell_type": "markdown",
   "id": "0d55acc3",
   "metadata": {},
   "source": [
    "# Unit vectors"
   ]
  },
  {
   "cell_type": "markdown",
   "id": "949962f4",
   "metadata": {},
   "source": [
    "# day 58"
   ]
  },
  {
   "cell_type": "code",
   "execution_count": 6,
   "id": "674a85a6",
   "metadata": {},
   "outputs": [],
   "source": [
    "import numpy as np\n",
    "import sympy as sym\n",
    "import matplotlib.pyplot as plt\n",
    "from IPython.display import display,Math\n",
    "sym.init_printing()\n"
   ]
  },
  {
   "cell_type": "markdown",
   "id": "772d5374",
   "metadata": {},
   "source": [
    "# definition of the unit vector\n",
    "\n",
    "* the length of two vectors must equal 1 in order to be called a Unit Vector.\n",
    "$$ ||a.b|| = 1 $$\n",
    "\n",
    "* How to choose a in order to be create a unit vector?\n",
    "\n",
    "* lets say be b is 5 then a is going to be \n",
    "$$ ||a.5|| = 1 \\longrightarrow a = \\frac{1}{5} $$ \n",
    "\n",
    "$$ ||a|| = \\frac{1}{||b||}  $$\n",
    "\n",
    "* length of a = 1/length of b\n"
   ]
  },
  {
   "cell_type": "code",
   "execution_count": 8,
   "id": "687344d1",
   "metadata": {},
   "outputs": [
    {
     "data": {
      "text/plain": [
       "array([0.4472136 , 0.89442719])"
      ]
     },
     "execution_count": 8,
     "metadata": {},
     "output_type": "execute_result"
    }
   ],
   "source": [
    "b = np.array([1,2])\n",
    "\n",
    "magnitude_of_b = np.linalg.norm(b)\n",
    "\n",
    "unit_vector = b / magnitude_of_b\n",
    "\n",
    "unit_vector"
   ]
  },
  {
   "cell_type": "code",
   "execution_count": 12,
   "id": "cce57f23-7b5b-4dc8-99e5-7005923055c4",
   "metadata": {},
   "outputs": [
    {
     "data": {
      "image/png": "[encoded data removed]",
      "text/latex": [
       "$\\displaystyle 1.0$"
      ],
      "text/plain": [
       "0.9999999999999999"
      ]
     },
     "execution_count": 12,
     "metadata": {},
     "output_type": "execute_result"
    }
   ],
   "source": [
    "# compute the magnitude of that unit_vector and make sure it is 1.\n",
    "magnitude_of_unit_vector = np.linalg.norm(unit_vector)\n",
    "magnitude_of_unit_vector"
   ]
  },
  {
   "cell_type": "markdown",
   "id": "01468e4c",
   "metadata": {},
   "source": [
    "# challenge goal \n",
    "\n",
    "* create two random integer vectors of size 4\n",
    "\n",
    "* compute the length of those vectors and their dot product. compute the magnitude of their dot product\n",
    "\n",
    "* normalize the vectors .\n",
    "\n",
    "* note! normalizing a vector is finding the length of the vector and dividing each element of the vector with its length. a_normalized and b_normalized are unit vectors with length 1 but it has the direction as the original a and b vectors. only length changes, direction remains the same.\n",
    "\n",
    "* calculate the magnitude of the dot product of the normalised vectors\n",
    "\n"
   ]
  },
  {
   "cell_type": "code",
   "execution_count": 57,
   "id": "dac6b890",
   "metadata": {},
   "outputs": [],
   "source": [
    "# seeding \n",
    "np.random.seed(42)\n",
    "\n",
    "# creating 2 random integer vectors\n",
    "a = np.random.randint(low = 0,high = 9,size = 4)\n",
    "b = np.random.randint(low = 0,high = 99,size = 4)\n",
    "\n",
    "# compute the length of the vectors\n",
    "a_len = np.linalg.norm(a)\n",
    "b_len = np.linalg.norm(b)\n",
    "\n",
    "# compute the magnitude of their dot product\n",
    "mag = np.abs(np.dot(a,b))\n",
    "\n",
    "# normalizing the vectors\n",
    "\n",
    "a_normalized = a/a_len\n",
    "b_normalized = b/b_len\n",
    "\n",
    "# calculate the magnitude of the dot product of the normalized vectors\n",
    "mag_normalized = np.abs(np.dot(a,b))"
   ]
  },
  {
   "cell_type": "code",
   "execution_count": 58,
   "id": "0c810d40",
   "metadata": {},
   "outputs": [
    {
     "data": {
      "text/plain": [
       "array([6, 3, 7, 4])"
      ]
     },
     "execution_count": 58,
     "metadata": {},
     "output_type": "execute_result"
    }
   ],
   "source": [
    "a"
   ]
  },
  {
   "cell_type": "code",
   "execution_count": 59,
   "id": "ebaec86f",
   "metadata": {},
   "outputs": [
    {
     "data": {
      "text/plain": [
       "array([82, 86, 74, 74])"
      ]
     },
     "execution_count": 59,
     "metadata": {},
     "output_type": "execute_result"
    }
   ],
   "source": [
    "b"
   ]
  },
  {
   "cell_type": "code",
   "execution_count": 60,
   "id": "0874eac2",
   "metadata": {},
   "outputs": [
    {
     "data": {
      "image/png": "[encoded data removed]",
      "text/latex": [
       "$\\displaystyle 10.4880884817015$"
      ],
      "text/plain": [
       "10.488088481701515"
      ]
     },
     "execution_count": 60,
     "metadata": {},
     "output_type": "execute_result"
    }
   ],
   "source": [
    "a_len"
   ]
  },
  {
   "cell_type": "code",
   "execution_count": 61,
   "id": "a4ee98b3",
   "metadata": {},
   "outputs": [
    {
     "data": {
      "image/png": "[encoded data removed]",
      "text/latex": [
       "$\\displaystyle 158.341403303116$"
      ],
      "text/plain": [
       "158.3414033031159"
      ]
     },
     "execution_count": 61,
     "metadata": {},
     "output_type": "execute_result"
    }
   ],
   "source": [
    "b_len"
   ]
  },
  {
   "cell_type": "code",
   "execution_count": 62,
   "id": "1935bc6b",
   "metadata": {},
   "outputs": [
    {
     "data": {
      "text/plain": [
       "1564"
      ]
     },
     "execution_count": 62,
     "metadata": {},
     "output_type": "execute_result"
    }
   ],
   "source": [
    "mag"
   ]
  },
  {
   "cell_type": "code",
   "execution_count": 63,
   "id": "e1fb6f43",
   "metadata": {},
   "outputs": [
    {
     "data": {
      "text/plain": [
       "array([0.57207755, 0.28603878, 0.66742381, 0.38138504])"
      ]
     },
     "execution_count": 63,
     "metadata": {},
     "output_type": "execute_result"
    }
   ],
   "source": [
    "a_normalized"
   ]
  },
  {
   "cell_type": "code",
   "execution_count": 64,
   "id": "dfde35ea",
   "metadata": {},
   "outputs": [
    {
     "data": {
      "text/plain": [
       "array([0.51786834, 0.54313021, 0.4673446 , 0.4673446 ])"
      ]
     },
     "execution_count": 64,
     "metadata": {},
     "output_type": "execute_result"
    }
   ],
   "source": [
    "b_normalized"
   ]
  },
  {
   "cell_type": "code",
   "execution_count": 65,
   "id": "064df736",
   "metadata": {},
   "outputs": [
    {
     "data": {
      "text/plain": [
       "1564"
      ]
     },
     "execution_count": 65,
     "metadata": {},
     "output_type": "execute_result"
    }
   ],
   "source": [
    "mag_normalized"
   ]
  },
  {
   "cell_type": "code",
   "execution_count": 66,
   "id": "c852c008",
   "metadata": {},
   "outputs": [
    {
     "data": {
      "image/png": "[encoded data removed]",
      "text/latex": [
       "$\\displaystyle 1564.0$"
      ],
      "text/plain": [
       "1564.0"
      ]
     },
     "execution_count": 66,
     "metadata": {},
     "output_type": "execute_result"
    }
   ],
   "source": [
    "np.linalg.norm(np.dot(a,b))"
   ]
  },
  {
   "cell_type": "markdown",
   "id": "f5a1deaa",
   "metadata": {},
   "source": [
    "### verify whether np.linalg.norm(np.dot(a,b)) produces np.sqrt((a,b)(a,b)^T). Analyze how linalg.norm works\n",
    "\n"
   ]
  },
  {
   "cell_type": "markdown",
   "id": "b3de502f",
   "metadata": {},
   "source": [
    "# day 59"
   ]
  },
  {
   "cell_type": "code",
   "execution_count": 1,
   "id": "f071b687",
   "metadata": {},
   "outputs": [],
   "source": [
    "import numpy as np\n",
    "import sympy as sym\n",
    "from IPython.display import display,Math\n",
    "sym.init_printing()\n",
    "import matplotlib.pyplot as plt"
   ]
  },
  {
   "cell_type": "markdown",
   "id": "b624eaff",
   "metadata": {},
   "source": [
    "### this is what happens when you call linalg.norm on a scaler value. \n",
    "\n",
    "* dot product produces a scaler value so if you try to find length of a value say 5, the length would be just 5.\n",
    "* it uses frobenius norm"
   ]
  },
  {
   "cell_type": "code",
   "execution_count": 2,
   "id": "0e8abe04",
   "metadata": {},
   "outputs": [
    {
     "data": {
      "image/png": "[encoded data removed]",
      "text/latex": [
       "$\\displaystyle 4.0$"
      ],
      "text/plain": [
       "4.0"
      ]
     },
     "execution_count": 2,
     "metadata": {},
     "output_type": "execute_result"
    }
   ],
   "source": [
    "np.linalg.norm(4)"
   ]
  },
  {
   "cell_type": "markdown",
   "id": "017d862d",
   "metadata": {},
   "source": [
    "# Dimensions and Field\n",
    "\n",
    "### Dimensions:\n",
    "* 1 dimension means the vector has 1 number. 2 d means the vector has 2 numbers and so on. 'Actually it need not just be numbers it can be any piece of information that describes the system more precisely with increase in dimension'. An example to illustrate the point is done below in latex. \n",
    " \n",
    "\n",
    "# $$ \\text{v1} = \\begin{bmatrix}\n",
    "\\text{16} \\\\\n",
    "\\text{lakshmi nagar} \\\\\n",
    "\\text{kaliyamman koil backside} \\\\\n",
    "\\text{viruthampet} \\\\\n",
    "\\text{vellore} \\\\\n",
    "\\text{632006} \\\\\n",
    "\\text{Tamilnadu} \\\\\n",
    "\\text{India} \\\\\n",
    "\\text{Earth} \\\\\n",
    "\\text{Solar System}\n",
    "\\end{bmatrix} $$\n",
    "\n",
    "* note with the addition of each piece of new information, the fog gets dispelled, the preciseness of the location becomes more apparent, each dimension adds more clarity.\n",
    "\n",
    "### Fields\n",
    "\n",
    "* fields are set of numbers on which operations like addition, subtraction, multiplication, and division can be performed. \n",
    "\n"
   ]
  },
  {
   "cell_type": "markdown",
   "id": "25da48cf",
   "metadata": {},
   "source": [
    "# day 60 & day 61 & day 62"
   ]
  },
  {
   "cell_type": "code",
   "execution_count": 1,
   "id": "7781eab5",
   "metadata": {},
   "outputs": [],
   "source": [
    "import numpy as np\n",
    "import sympy as sym\n",
    "from IPython.display import display,Math\n",
    "sym.init_printing()\n",
    "import matplotlib.pyplot as plt"
   ]
  },
  {
   "cell_type": "markdown",
   "id": "740b07d1",
   "metadata": {},
   "source": [
    "# Subspaces\n",
    "\n",
    "* subspaces are a set of vectors multiplied by a scalar and the scaler belongs to a real number.\n",
    "\n",
    "  $$ \\text{if v}  = \\begin{bmatrix}\n",
    "2 \\\\\n",
    "3 \\\\ \n",
    "\\end{bmatrix} \n",
    "\\text{ then, } 2 * \\begin{bmatrix}\n",
    "2 \\\\ \n",
    "3 \\\\\n",
    "\\end{bmatrix} \n",
    "= \\begin{bmatrix}\n",
    "4 \\\\\n",
    "6 \\\\\n",
    "\\end{bmatrix}\n",
    "\\text{ they are all in the same subspace. } $$\n",
    "\n",
    " $$ \\mathbf{v}= \\begin{bmatrix}\n",
    "3 \\\\\n",
    "6 \\\\\n",
    "\\end{bmatrix}\n",
    "\\text{ and }\n",
    "\\mathbf{w} = \\begin{bmatrix}\n",
    "-12 \\\\\n",
    "-24 \\\\\n",
    "\\end{bmatrix}\n",
    "\\text{ are in the same subspace. } $$\n",
    " \n",
    " \n",
    " * the principle being here is a vector is multiplied by 'a' scaler to get another vector to call them being in the same subspace.\n",
    " * a vector subspace must be closed under addition and scalar multiplication. which means once a vector reaches a subspace it can never escape it. it is forever doomed to suffer inside. \n",
    " * contain the zero vector\n",
    " * This is how we create objects in space. for a 3D object 3 Linearly independent vectors can span all 3 dimensional subspaces within them to create that object. This is called the Basis.\n",
    " \n",
    "# addition of vectors of same subspace \n",
    " $$ \\mathbf{v}= \\begin{bmatrix}\n",
    "3 \\\\\n",
    "6 \\\\\n",
    "\\end{bmatrix}\n",
    "\\text{ and }\n",
    "\\mathbf{w} = \\begin{bmatrix}\n",
    "-12 \\\\\n",
    "-24 \\\\\n",
    "\\end{bmatrix}\n",
    "\\text{ are in the same subspace. } \n",
    "\\longrightarrow 2\\mathbf{v} +3\\mathbf{w} \\longrightarrow \\begin{bmatrix}\n",
    "-30 \\\\\n",
    "-60 \\\\\n",
    "\\end{bmatrix} \\text{is also in the same subspace as v and w } $$\n",
    "\n",
    "* as 3(-10)=-30, 6(-10)=-60, -12(2.5)=-30, -24(2.5)=-60. Addition or subtraction of vectors of same subspace produce a vector of same subspace. they are different numbers but are of same subspace.\n",
    " \n",
    "* linear combination is scalar multiplication and addition. \n",
    "* a subspace is all the combinations of vectors that can be put in that space. \n",
    "* all subspaces in the universe passes through the 0 vector.\n",
    "* 0d subspaces fit in a 3d ambient space, 1d subspaces fit in a 3d ambient space, 2d subspaces fit in a 3d ambient space, 1 3d subspace can fit in a 3d ambient space. \n",
    "* 0 dimensional subspaces in all dimensions are still a zero. zero can mean the same everywhere in the universe. "
   ]
  },
  {
   "cell_type": "markdown",
   "id": "1e4e0de5",
   "metadata": {},
   "source": [
    "# subspaces vs subsets\n",
    "\n",
    "# subsets:\n",
    "* it is a part of a set of numbers\n",
    "* set of points that satisfies a condition. \n",
    "* need not have origin\n",
    "* need not be closed\n",
    "* but can have observer/user defined boundaries.\n",
    "\n",
    "# subspaces\n",
    "* has zero vector\n",
    "* it is in this format:  a.v + b.w\n",
    "\n",
    "# span\n",
    "* span of set of vectors is the span of all the linear combinations(adding scaler multipls of vector(s) ) of all the vectors in that set.\n",
    "\n",
    "* vectors span to create subspaces. spanning is like 'verb' subspace is 'noun'_you act(verb) to create the object(noun): vectors span to create the subspaces. \n",
    "\n",
    "* be mindful of the fact that even if you do substraction it is still additive inverse (+ (-2) instead of + (+2) )or if you division it will be just a multiplicative inverse (* (1/2) instead of * (2)). inverse addition is subtration and inverse multiplication is division so, the definition of linear combination would match even for (subtraction and division)). "
   ]
  },
  {
   "cell_type": "markdown",
   "id": "570334c0",
   "metadata": {},
   "source": [
    "# day 63"
   ]
  },
  {
   "cell_type": "code",
   "execution_count": 1,
   "id": "e83e2009",
   "metadata": {},
   "outputs": [],
   "source": [
    "import numpy as np\n",
    "import sympy as sym\n",
    "import matplotlib.pyplot as plt\n",
    "from IPython.display import display,Math\n",
    "sym.init_printing()"
   ]
  },
  {
   "cell_type": "markdown",
   "id": "8785df25",
   "metadata": {},
   "source": [
    "# solving three equations with 2 unknown variables in each "
   ]
  },
  {
   "cell_type": "code",
   "execution_count": 4,
   "id": "c10aeca0",
   "metadata": {},
   "outputs": [
    {
     "data": {
      "image/png": "[encoded data removed]",
      "text/latex": [
       "$\\displaystyle \\left\\{ a_{1} : \\frac{5}{6}, \\  a_{2} : \\frac{1}{6}\\right\\}$"
      ],
      "text/plain": [
       "{a₁: 5/6, a₂: 1/6}"
      ]
     },
     "execution_count": 4,
     "metadata": {},
     "output_type": "execute_result"
    }
   ],
   "source": [
    "# defining the symbols of unknown variables\n",
    "a1,a2 = sym.symbols('a1,a2')\n",
    "\n",
    "# setting the equations to be solved:\n",
    "eq1 = a1*1 + a2*1 - 1\n",
    "eq2 = a1*1 + a2*7 - 2\n",
    "eq3 = a1*0 + a2*0 - 0\n",
    "\n",
    "# solving the equation.\n",
    "sym.solve((eq1,eq2,eq3),(a1,a2))"
   ]
  },
  {
   "cell_type": "code",
   "execution_count": null,
   "id": "95be7250",
   "metadata": {},
   "outputs": [],
   "source": []
  },
  {
   "cell_type": "markdown",
   "id": "8bb41f3d",
   "metadata": {},
   "source": [
    "\n",
    "# plane equation:\n",
    "# $$ ax + by + cz + d = 0 $$ \n",
    "\n",
    "* we are solving this equation for z\n",
    "* a is the 1st coefficient of the cross product of the vectors for which you creating the plane.\n",
    "* b is the 2nd coefficient of the cross product of the vectors.\n",
    "* cp[2] is the third coefficient (c)\n",
    "* d is constant and is not accounted for in the equation written below in the code.\n"
   ]
  },
  {
   "cell_type": "code",
   "execution_count": 33,
   "id": "ab25055a",
   "metadata": {},
   "outputs": [
    {
     "data": {
      "image/png": "[encoded data removed]",
      "text/plain": [
       "<Figure size 600x400 with 1 Axes>"
      ]
     },
     "metadata": {
      "needs_background": "light"
     },
     "output_type": "display_data"
    }
   ],
   "source": [
    "# set of 2 vectors you want to find the plane for.\n",
    "s1 = np.array([1,1,0])\n",
    "s2 = np.array([1,7,0])\n",
    "\n",
    "# testing vectors to see if they are subspaces of s1 and s2.\n",
    "v = np.array([1,2,0])\n",
    "w = np.array([3,2,1])\n",
    "\n",
    "\n",
    "# plotting \n",
    "plt.figure(dpi=100)\n",
    "ax = plt.axes(projection='3d')\n",
    "\n",
    "ax.plot([0,s1[0]],[0,s1[1]],[0,s1[2]+0],'m',linewidth=3)\n",
    "ax.plot([0,s2[0]],[0,s2[1]],[0,s2[2]+0],'r',linewidth=3)\n",
    "\n",
    "ax.plot([0,v[0]],[0,v[1]],[0,v[2]+0],'g',linewidth=3)\n",
    "ax.plot([0,w[0]],[0,w[1]],[0,w[2]+0],'b',linewidth=3)\n",
    "\n",
    "# now draw plot surface:\n",
    "xx,yy = np.meshgrid(range(-15,16),range(-15,16))\n",
    "cp = np.cross(s1,s2)\n",
    "z = (-cp[0]*xx -cp[1]*yy)  * 1/cp[2]\n",
    "ax.plot_surface(xx,yy,z)\n",
    "\n",
    "\n",
    "plt.show()\n",
    "\n",
    "# the vector(w) that stands upright is the one that don't belong to subspace of the vectors s1 and s2. notice the vector got\n",
    "# totally submerged under the plane."
   ]
  },
  {
   "cell_type": "code",
   "execution_count": 25,
   "id": "e2c90ea3",
   "metadata": {},
   "outputs": [
    {
     "data": {
      "text/plain": [
       "0"
      ]
     },
     "execution_count": 25,
     "metadata": {},
     "output_type": "execute_result"
    }
   ],
   "source": [
    "np.cross(s1,s2)[1]"
   ]
  },
  {
   "cell_type": "code",
   "execution_count": 23,
   "id": "66ff0352",
   "metadata": {},
   "outputs": [
    {
     "data": {
      "text/plain": [
       "array([ 2, -1, -4])"
      ]
     },
     "execution_count": 23,
     "metadata": {},
     "output_type": "execute_result"
    }
   ],
   "source": [
    "np.cross(v,w)"
   ]
  },
  {
   "cell_type": "markdown",
   "id": "7222e375",
   "metadata": {},
   "source": [
    "# find why we used cross product?\n",
    "# find out why we created the 'z' the way it is created. \n",
    "\n",
    "#  cross product:\n",
    "\n",
    "* cross product of the two vectors is a vector that is perpendicular to the original vectors. that means the resultant vector of cross product of two vectors is a orthagonal to the original vectors, that means the dot product of the resultant vector and one of the original vectors will be 0, the angle between them would span about 90 degrees.\n",
    "\n",
    "* the length of the cross product is equal to length of the product of the orinal vectors times the sine of the angle between. \n",
    "# $$ \\sqrt{cp.cp^{T}} = \\sqrt{a.a^{T}} * \\sqrt{b.b^{T}} * \\sin{\\theta_{a,b}} $$\n",
    "\n",
    "# z is created the way it is because of this underlying reason:\n",
    "\n",
    "# plane equation:\n",
    "# $$ ax + by + cz + d = 0 $$ \n",
    "\n",
    "* we are solving this equation for z\n",
    "* a is the 1st coefficient of the cross product of the vectors for which you creating the plane.\n",
    "* b is the 2nd coefficient of the cross product of the vectors.\n",
    "* cp[2] is the third coefficient (c)\n",
    "* d is constant and is not accounted for in the equation."
   ]
  },
  {
   "cell_type": "code",
   "execution_count": null,
   "id": "0079add8",
   "metadata": {},
   "outputs": [],
   "source": []
  },
  {
   "cell_type": "markdown",
   "id": "41eb8527",
   "metadata": {},
   "source": [
    "# day 65 & day 66 & day 67 & day 69"
   ]
  },
  {
   "cell_type": "code",
   "execution_count": 2,
   "id": "d598705d",
   "metadata": {},
   "outputs": [],
   "source": [
    "import numpy as np\n",
    "import sympy as sym\n",
    "from IPython.display import display,Math\n",
    "sym.init_printing()\n",
    "import matplotlib.pyplot as plt\n",
    "from mpl_toolkits.mplot3d import Axes3D"
   ]
  },
  {
   "cell_type": "markdown",
   "id": "49f13c0c",
   "metadata": {},
   "source": [
    "# linear independence of the given set of vectors.\n",
    "\n",
    "## how to know if the vectors are dependant:\n",
    "\n",
    "* the linear combination of all the possible vector combinations = 0. (note the combination, it is just as simple as that,beckons the use of little bit of Combinatorics!)\n",
    "\n",
    "# $$ \\lambda_1v_1 + \\lambda_2v_2 +  \\lambda_3v_3 + ....\\lambda_nv_n = 0  \\text{ where, } \\lambda \\in R $$\n",
    "\n",
    "* if there are 3 vectors in 2d space then one of them is dependent on the others as two can be scaled or linearly combined to make the other dependent. if N+1 vectors are there in a N dimensional space then one of the vectors can be made to be dependant on the others.\n",
    "\n",
    "\n",
    "## how to know if the vectors are independent:\n",
    "* if the above equation fails, is not equal to 0 then the vectors are said to be independent of each other.\n",
    "\n",
    "* if no scalar or linear combination to a vector(s) produce the other vector then the latter is an independant vector otherwise(if a scalar or additive combination of a vector produces the other vector) then it is a dependant vector.\n",
    "\n",
    "* step1: find the number of vectors in the set and compare that with R^N\n",
    "\n",
    "* step2: check for 0's in corresponding(having zeros in all corresponding row or corresponding column) or all elements of any vector. if we have zeros in all corresponding rows or columns then we can make the vector dependent. \n",
    "\n",
    "* step3: trial and error method. (test with every possible number)\n",
    "\n",
    "* step4: use matrix rank method to find if the vectors are independent or dependent.(we have to arrange the vectors in the rows or columns to form a matrix and find its rank. if the rank of the matrix is less than total number of vectors then the vectors are linearly dependent, if the rank of the matrix is more than the number of vectors then the vectors are linearly independent)\n",
    "\n",
    "# conclusion:\n",
    "\n",
    "*  N is the dimension of space(how many elements in each vector) M is the number of vectors R is the vector space. R^N is the N specified vector space. i.e R^2 is 2d vector space. \n",
    "* N<M, vectors in R^N is dependent\n",
    "* N>=M, vectros in R^N could be dependent or indenpendent.\n",
    "* we can also find the linear combination of the vectors and equal it to zero vector and solve for coefficients(a,b..) if a,b = 0 then linearly independent if they bear some value then the set of vectors are linearly 'dependent' \n",
    "\n"
   ]
  },
  {
   "cell_type": "code",
   "execution_count": 5,
   "id": "39d0895e",
   "metadata": {},
   "outputs": [
    {
     "data": {
      "text/plain": [
       "4"
      ]
     },
     "execution_count": 5,
     "metadata": {},
     "output_type": "execute_result"
    }
   ],
   "source": [
    "# finding the rank of 4*4 identity matrix to see if the vectors are dependent \n",
    "\n",
    "i = np.eye(4,4)\n",
    "np.linalg.matrix_rank(i)"
   ]
  },
  {
   "cell_type": "markdown",
   "id": "6a6244ff",
   "metadata": {},
   "source": [
    "# basis:\n",
    "* basis is like using the vectors as a ruler to find the distance between those vectors and a point in space.\n",
    "\n",
    "# conditions for a set of vectors to become a  basis. \n",
    "* Linear Independence: No vector in the set is a linear combination of other vectors, can't be scaled or added to get the other vector in the set . \n",
    "\n",
    "* span the entire vector space:it spans the vector space even though it is linearly independent which means the vectors have just about the right elements to fit in a particular subspace any extra  vector more than is needed would collapse it from forming the basis. i.e [1,0,0],[0,1,1],[1,0,1] \n",
    "\n",
    "\n",
    "# let us first understand unit vectors to understand the basis(why linear independence and spanning happens at the same time)\n",
    "\n",
    "\n",
    "### unit vectors: $$ \\hat{i} = [1,0] , \\hat{j} = [0,1] $$\n",
    "\n",
    "\n",
    "\n",
    "* unit vectors can represent any vector in that dimension the vector belongs to which means these can span any vectors in that dimension it belongs.\n",
    "\n",
    "### $$ v = [2,3] \\longrightarrow 2\\hat{i} + 3\\hat{j} \\longrightarrow [2,0] + [0,3] $$ \n",
    "\n",
    "* the vector v=[2,3] is a 2d vector which is 2*[1,0] + 3*[0,1] \n",
    "\n",
    "* a set of unit vectors representing different axes, [1,0,0] , [0,1,0] , [0,0,1] , span the entire dimensional space at the same time are linearly independent. "
   ]
  },
  {
   "cell_type": "markdown",
   "id": "2974b0a3",
   "metadata": {},
   "source": [
    "# understand the linear dependence better based on the rank of the matrix\n",
    "\n",
    "* rank of the matrix is maximum number of linearly independent rows and columns in the matrix. \n",
    "\n",
    "* if Rank  = number of vectors in the set = number of rows and columns of the matrix then, linearly independent\n",
    "* if Rank < number of vectors in the set  or number of rows and columns of the matrix then, linearly dependent\n",
    "* Rank cannot be > number of vectors or number of rows and columns of the matrix it is embedded in their calculation. "
   ]
  },
  {
   "cell_type": "markdown",
   "id": "f161c32d",
   "metadata": {},
   "source": [
    "# understand the difference between linear independence of vectors and span of the vectors.\n",
    "\n",
    "\n",
    "# Golden Rules to check whether a set of vectors form the basis.\n",
    "* a set of unit vectors representing different axes or identity matrix is linearly independent and span the whole vector space. so these are the rightful basis.\n",
    "* to check whether a set of given matrix form the basis just check whether they are linearly dependent or independent by either taking their rank or whether they get solved to produce zero. if they produce zero then a,b (scalers have solutions) they are linearly dependent hence they do not form basis. just take their rank, this is simpler. if rank < # of vectors then they are linearly dependent if the rank = # of vectors then they are linearly independent. "
   ]
  },
  {
   "cell_type": "code",
   "execution_count": null,
   "id": "f77a4821",
   "metadata": {},
   "outputs": [],
   "source": []
  },
  {
   "cell_type": "markdown",
   "id": "42dc9300",
   "metadata": {},
   "source": [
    "# check whether these set of vectors form the basis. "
   ]
  },
  {
   "cell_type": "code",
   "execution_count": 20,
   "id": "990a9520",
   "metadata": {},
   "outputs": [
    {
     "data": {
      "text/latex": [
       "$\\displaystyle \\text{matrix: } \\left[\\begin{matrix}-3 & -1 & 13\\\\0 & 0 & 0\\\\0 & 0 & 0\\end{matrix}\\right] $"
      ],
      "text/plain": [
       "<IPython.core.display.Math object>"
      ]
     },
     "metadata": {},
     "output_type": "display_data"
    },
    {
     "data": {
      "text/latex": [
       "$\\displaystyle \\text{Rank: } 1 $"
      ],
      "text/plain": [
       "<IPython.core.display.Math object>"
      ]
     },
     "metadata": {},
     "output_type": "display_data"
    },
    {
     "name": "stdout",
     "output_type": "stream",
     "text": [
      "Rank < # of vectors, so the vectors are linearly dependent.\n"
     ]
    }
   ],
   "source": [
    "# 1\n",
    "\n",
    "v1 = np.array([-3,-1,13])\n",
    "v2 = np.array([0,0,0])\n",
    "v3 = np.array([0,0,0])\n",
    "\n",
    "mat = np.vstack((v1,v2,v3))\n",
    "\n",
    "display(Math('\\\\text{matrix: } %s '%(sym.latex(sym.sympify(mat)))))\n",
    "Rank = np.linalg.matrix_rank(mat)\n",
    "\n",
    "display(Math('\\\\text{Rank: } %s '%(sym.latex(sym.sympify(Rank)))))\n",
    "\n",
    "# Rank < # of vectors, so the vectors are linearly dependent. \n",
    "\n",
    "if Rank == np.shape(mat)[0]:\n",
    "    print('Rank = # of vectors, so the vectors are linearly independent.')\n",
    "    \n",
    "else:\n",
    "    print('Rank < # of vectors, so the vectors are linearly dependent.')"
   ]
  },
  {
   "cell_type": "code",
   "execution_count": 22,
   "id": "238539cb",
   "metadata": {},
   "outputs": [
    {
     "data": {
      "text/latex": [
       "$\\displaystyle \\text{matrix: } \\left[\\begin{matrix}-4.0 & 3.14159265358979 & 3.0\\\\1.0 & 3.0 & 6.28318530717959\\\\0.0 & 0.0 & 3.0\\end{matrix}\\right] $"
      ],
      "text/plain": [
       "<IPython.core.display.Math object>"
      ]
     },
     "metadata": {},
     "output_type": "display_data"
    },
    {
     "data": {
      "text/latex": [
       "$\\displaystyle \\text{Rank: } 3 $"
      ],
      "text/plain": [
       "<IPython.core.display.Math object>"
      ]
     },
     "metadata": {},
     "output_type": "display_data"
    },
    {
     "name": "stdout",
     "output_type": "stream",
     "text": [
      "Rank == # of vectors, so the vectors are linearly independent.\n"
     ]
    }
   ],
   "source": [
    "# 2\n",
    "\n",
    "v1 = np.array([-4,np.pi,3])\n",
    "v2 = np.array([1,3,2*np.pi])\n",
    "v3 = np.array([0,0,3])\n",
    "\n",
    "mat = np.vstack((v1,v2,v3))\n",
    "\n",
    "display(Math('\\\\text{matrix: } %s '%(sym.latex(sym.sympify(mat)))))\n",
    "Rank = np.linalg.matrix_rank(mat)\n",
    "\n",
    "display(Math('\\\\text{Rank: } %s '%(sym.latex(sym.sympify(Rank)))))\n",
    "\n",
    "\n",
    "if Rank == np.shape(mat)[0]:\n",
    "    print('Rank == # of vectors, so the vectors are linearly independent.')\n",
    "    \n",
    "else:\n",
    "    print('Rank < # of vectors, so the vectors are linearly dependent.')"
   ]
  },
  {
   "cell_type": "code",
   "execution_count": 23,
   "id": "4a012220",
   "metadata": {},
   "outputs": [
    {
     "data": {
      "text/latex": [
       "$\\displaystyle \\text{matrix: } \\left[\\begin{matrix}-3 & 1 & 13\\\\0 & 0 & 0\\\\0 & 0 & 1\\end{matrix}\\right] $"
      ],
      "text/plain": [
       "<IPython.core.display.Math object>"
      ]
     },
     "metadata": {},
     "output_type": "display_data"
    },
    {
     "data": {
      "text/latex": [
       "$\\displaystyle \\text{Rank: } 2 $"
      ],
      "text/plain": [
       "<IPython.core.display.Math object>"
      ]
     },
     "metadata": {},
     "output_type": "display_data"
    },
    {
     "name": "stdout",
     "output_type": "stream",
     "text": [
      "Rank < # of vectors, so the vectors are linearly dependent.\n"
     ]
    }
   ],
   "source": [
    "# 3\n",
    "\n",
    "v1 = np.array([-3,1,13])\n",
    "v2 = np.array([0,0,0])\n",
    "v3 = np.array([0,0,1])\n",
    "\n",
    "mat = np.vstack((v1,v2,v3))\n",
    "\n",
    "display(Math('\\\\text{matrix: } %s '%(sym.latex(sym.sympify(mat)))))\n",
    "Rank = np.linalg.matrix_rank(mat)\n",
    "\n",
    "display(Math('\\\\text{Rank: } %s '%(sym.latex(sym.sympify(Rank)))))\n",
    "\n",
    "\n",
    "if Rank == np.shape(mat)[0]:\n",
    "    print('Rank == # of vectors, so the vectors are linearly independent.')\n",
    "    \n",
    "else:\n",
    "    print('Rank < # of vectors, so the vectors are linearly dependent.')"
   ]
  },
  {
   "cell_type": "code",
   "execution_count": null,
   "id": "d2c6a6fd",
   "metadata": {},
   "outputs": [],
   "source": []
  },
  {
   "cell_type": "markdown",
   "id": "9f2bed88",
   "metadata": {},
   "source": [
    "# subspace in big space\n",
    "\n",
    "# $$ R^{3} \\rightarrow \\text{is big space} $$\n",
    "\n",
    "# $$ \\text{If } \\begin{bmatrix}\n",
    "-3 & 1 & 13 \\\\\n",
    "0  & 0 & 0  \\\\\n",
    "0  & 0 & 0  \\\\\n",
    "\\end{bmatrix}  \\text{ is } \\rightarrow R^{3} $$\n",
    "\n",
    "# $$ \\begin{bmatrix}\n",
    "-3 & 1 & 13 \n",
    "\\end{bmatrix} \\text{ is 1D subspace in } \\rightarrow R^{3} $$\n",
    "\n",
    "\n",
    "* even if 1d subspace is linearly independent vector since it doesn't span the entire space of R^3, it spans only 1D in order to span the entire R^3 ambient space we need three vectors of size three each be present inside, it doesn't form the basis set and in order to be a basis set of vectors all given vectors in the space need to be linearly independent and be 3d in R^3, 3d means presence of 3 vectors. As we have discussed above we can find the linear independency using the rank of the matrix. \n",
    "\n",
    "\n",
    "**This is the best method. find the determinant of the matrix of vectors, if the determinant is not equal to 0, then the vectors in the matrix are linearly independent and span the whole subspace - Google Bard**\n"
   ]
  },
  {
   "cell_type": "markdown",
   "id": "4cbe676a",
   "metadata": {},
   "source": [
    "# day 70 & day 71"
   ]
  },
  {
   "cell_type": "code",
   "execution_count": 1,
   "id": "cfbd700d",
   "metadata": {},
   "outputs": [],
   "source": [
    "import numpy as np\n",
    "import matplotlib.pyplot as plt"
   ]
  },
  {
   "cell_type": "code",
   "execution_count": 4,
   "id": "cfb471d0",
   "metadata": {},
   "outputs": [
    {
     "data": {
      "text/plain": [
       "2"
      ]
     },
     "execution_count": 4,
     "metadata": {},
     "output_type": "execute_result"
    }
   ],
   "source": [
    "mat = np.array(([-3,1],[3,56],[17.6,78]))\n",
    "\n",
    "np.linalg.matrix_rank(mat)"
   ]
  },
  {
   "cell_type": "markdown",
   "id": "5a6cfe8c",
   "metadata": {},
   "source": [
    "# zoo of matrices\n",
    "\n",
    "# symmetric and skew-symmetric\n",
    "\n",
    "# $$ \\text{symmetric matrix} \\rightarrow \\begin{bmatrix}\n",
    "1 & -1 & 0 \\\\\n",
    "-1 & -2 & -4 \\\\\n",
    "0 & -4 & 5 \\\\\n",
    "\\end{bmatrix} $$\n",
    "\n",
    "# $$ \\text{skew-symmetric matrix} \\rightarrow \\begin{bmatrix}\n",
    "0 & +1 & -2 \\\\\n",
    "-1 & 0 & -4 \\\\\n",
    "+2 & +4 & 0 \\\\\n",
    "\\end{bmatrix} $$\n",
    "\n",
    "# $$ \\text{upper-triangular matrix} \\rightarrow \\begin{bmatrix}\n",
    "1 & 1 & 2 \\\\\n",
    "0 & 9 & 4 \\\\\n",
    "0 & 0 & 4 \\\\\n",
    "\\end{bmatrix} $$\n",
    "\n",
    "\n",
    "# $$ \\text{lower-triangular matrix} \\rightarrow \\begin{bmatrix}\n",
    "1 & 0 & 0 \\\\\n",
    "6 & 9 & 0 \\\\\n",
    "9 & 3 & 4 \\\\\n",
    "\\end{bmatrix} $$\n",
    "\n",
    "# $$ \\text{diagonal matrix} \\rightarrow \\begin{bmatrix}\n",
    "1 & 0 & 0 \\\\\n",
    "0 & 9 & 0 \\\\\n",
    "0 & 0 & 4 \\\\\n",
    "\\end{bmatrix} $$\n",
    "\n",
    "\n",
    "\n",
    "# concatenation\n",
    "# $$ \\begin{bmatrix}\n",
    "1 & 0 & 0 \\\\\n",
    "6 & 9 & 0 \\\\\n",
    "9 & 3 & 4 \\\\\n",
    "\\end{bmatrix} \\text{concatenate with } \\begin{bmatrix}\n",
    "2 & 1  \\\\\n",
    "3 & 4  \\\\\n",
    "6 & 9  \\\\\n",
    "\\end{bmatrix} \\longrightarrow \\begin{bmatrix}\n",
    "1 & 0 & 0 & 2 & 1 \\\\\n",
    "6 & 9 & 0 & 3 & 4 \\\\\n",
    "9 & 3 & 4 & 6 & 9 \\\\\n",
    "\\end{bmatrix} $$\n",
    "\n",
    "* in order to do the concatenation of two matrices the # of rows of each matrix must be same 3*6, 3*5 would produce 3*11 after concatenation. M1*N1 concatenate M2*N2, M1 = M2"
   ]
  },
  {
   "cell_type": "markdown",
   "id": "a228af76",
   "metadata": {},
   "source": [
    "# day 72"
   ]
  },
  {
   "cell_type": "markdown",
   "id": "f75a2e4c",
   "metadata": {},
   "source": [
    "# diagonalization and trace(sum of diagonal elements)\n",
    "\n"
   ]
  },
  {
   "cell_type": "code",
   "execution_count": 3,
   "id": "18579b47",
   "metadata": {},
   "outputs": [],
   "source": [
    "import numpy as np\n",
    "import sympy as sym\n",
    "from IPython.display import display,Math\n",
    "sym.init_printing()\n",
    "import matplotlib.pyplot as plt"
   ]
  },
  {
   "cell_type": "code",
   "execution_count": 2,
   "id": "a6b10f76",
   "metadata": {},
   "outputs": [
    {
     "data": {
      "text/plain": [
       "array([[ -2.,  -1., -10.],\n",
       "       [ -7.,  -1.,  -2.],\n",
       "       [  9.,  -2.,  -1.]])"
      ]
     },
     "execution_count": 2,
     "metadata": {},
     "output_type": "execute_result"
    }
   ],
   "source": [
    "M = np.round(5*np.random.randn(3,3))\n",
    "M"
   ]
  },
  {
   "cell_type": "code",
   "execution_count": 3,
   "id": "2c38a1aa",
   "metadata": {},
   "outputs": [
    {
     "data": {
      "text/plain": [
       "array([-2., -1., -1.])"
      ]
     },
     "execution_count": 3,
     "metadata": {},
     "output_type": "execute_result"
    }
   ],
   "source": [
    "d = np.diag(M)\n",
    "d"
   ]
  },
  {
   "cell_type": "code",
   "execution_count": 4,
   "id": "7e53a250",
   "metadata": {},
   "outputs": [
    {
     "data": {
      "text/plain": [
       "array([[-2.,  0.,  0.],\n",
       "       [ 0., -1.,  0.],\n",
       "       [ 0.,  0., -1.]])"
      ]
     },
     "execution_count": 4,
     "metadata": {},
     "output_type": "execute_result"
    }
   ],
   "source": [
    "D = np.diag(d)\n",
    "D"
   ]
  },
  {
   "cell_type": "code",
   "execution_count": 6,
   "id": "49cae72f",
   "metadata": {},
   "outputs": [
    {
     "data": {
      "text/plain": [
       "array([[1, 2, 3],\n",
       "       [4, 5, 6]])"
      ]
     },
     "execution_count": 6,
     "metadata": {},
     "output_type": "execute_result"
    }
   ],
   "source": [
    "a = np.array(([1,2,3],[4,5,6]))\n",
    "a"
   ]
  },
  {
   "cell_type": "code",
   "execution_count": 7,
   "id": "b207df64",
   "metadata": {},
   "outputs": [
    {
     "data": {
      "text/plain": [
       "array([1, 5])"
      ]
     },
     "execution_count": 7,
     "metadata": {},
     "output_type": "execute_result"
    }
   ],
   "source": [
    "np.diag(a)"
   ]
  },
  {
   "cell_type": "code",
   "execution_count": 9,
   "id": "f32980b5",
   "metadata": {},
   "outputs": [
    {
     "data": {
      "text/plain": [
       "array([[ -2.,  -1., -10.],\n",
       "       [ -7.,  -1.,  -2.],\n",
       "       [  9.,  -2.,  -1.]])"
      ]
     },
     "execution_count": 9,
     "metadata": {},
     "output_type": "execute_result"
    }
   ],
   "source": [
    "M"
   ]
  },
  {
   "cell_type": "code",
   "execution_count": 8,
   "id": "9ee6e210",
   "metadata": {},
   "outputs": [
    {
     "data": {
      "image/png": "[encoded data removed]",
      "text/latex": [
       "$\\displaystyle -4.0$"
      ],
      "text/plain": [
       "-4.0"
      ]
     },
     "execution_count": 8,
     "metadata": {},
     "output_type": "execute_result"
    }
   ],
   "source": [
    "np.trace(M)"
   ]
  },
  {
   "cell_type": "code",
   "execution_count": 10,
   "id": "3f444bc9",
   "metadata": {},
   "outputs": [
    {
     "data": {
      "text/plain": [
       "array([[1, 2, 3],\n",
       "       [4, 5, 6]])"
      ]
     },
     "execution_count": 10,
     "metadata": {},
     "output_type": "execute_result"
    }
   ],
   "source": [
    "a"
   ]
  },
  {
   "cell_type": "code",
   "execution_count": 12,
   "id": "7d764272",
   "metadata": {},
   "outputs": [
    {
     "data": {
      "text/plain": [
       "6"
      ]
     },
     "execution_count": 12,
     "metadata": {},
     "output_type": "execute_result"
    }
   ],
   "source": [
    "np.trace(a)"
   ]
  },
  {
   "cell_type": "markdown",
   "id": "53e72869",
   "metadata": {},
   "source": [
    "# goal \n",
    "\n",
    "* determine the relationship between trace(a) + trace(b) and trace(a+b)\n",
    "* determine the relationship between trace(scaler*A) and scaler * trace(A)"
   ]
  },
  {
   "cell_type": "code",
   "execution_count": 5,
   "id": "a1420459",
   "metadata": {},
   "outputs": [
    {
     "data": {
      "text/latex": [
       "$\\displaystyle A = \\left[\\begin{matrix}3 & 5 & 0\\\\2 & 8 & 2\\\\1 & 1 & 5\\end{matrix}\\right] $"
      ],
      "text/plain": [
       "<IPython.core.display.Math object>"
      ]
     },
     "metadata": {},
     "output_type": "display_data"
    },
    {
     "data": {
      "text/latex": [
       "$\\displaystyle B = \\left[\\begin{matrix}4 & 4 & 1\\\\0 & 8 & 8\\\\0 & 4 & 0\\end{matrix}\\right] $"
      ],
      "text/plain": [
       "<IPython.core.display.Math object>"
      ]
     },
     "metadata": {},
     "output_type": "display_data"
    },
    {
     "data": {
      "text/latex": [
       "$\\displaystyle \\text{TraceA + TraceB is }  = 28$"
      ],
      "text/plain": [
       "<IPython.core.display.Math object>"
      ]
     },
     "metadata": {},
     "output_type": "display_data"
    },
    {
     "data": {
      "text/latex": [
       "$\\displaystyle \\text{Trace(A+B) is }  = 28$"
      ],
      "text/plain": [
       "<IPython.core.display.Math object>"
      ]
     },
     "metadata": {},
     "output_type": "display_data"
    }
   ],
   "source": [
    "# 1\n",
    "\n",
    "A = np.random.randint(low=0,high=9,size=(3,3))\n",
    "display(Math('A = %s '%(sym.latex(sym.sympify(A)))))\n",
    "\n",
    "B = np.random.randint(low=0,high=9,size=(3,3))\n",
    "display(Math('B = %s '%(sym.latex(sym.sympify(B)))))\n",
    "\n",
    "trace_A = np.trace(A)\n",
    "trace_B = np.trace(B)\n",
    "trace_add = np.trace(A+B)\n",
    "\n",
    "display(Math('\\\\text{TraceA + TraceB is }  = %s'%(trace_A + trace_B)))\n",
    "display(Math('\\\\text{Trace(A+B) is }  = %s'%(trace_add)))\n",
    "\n"
   ]
  },
  {
   "cell_type": "code",
   "execution_count": 26,
   "id": "f23038fe",
   "metadata": {},
   "outputs": [
    {
     "data": {
      "text/latex": [
       "$\\displaystyle A = \\left[\\begin{matrix}2 & 6 & 2\\\\6 & 7 & 4\\\\1 & 3 & 0\\end{matrix}\\right] $"
      ],
      "text/plain": [
       "<IPython.core.display.Math object>"
      ]
     },
     "metadata": {},
     "output_type": "display_data"
    },
    {
     "data": {
      "text/latex": [
       "$\\displaystyle \\text{trace(scaler*A) is }  = 45$"
      ],
      "text/plain": [
       "<IPython.core.display.Math object>"
      ]
     },
     "metadata": {},
     "output_type": "display_data"
    },
    {
     "data": {
      "text/latex": [
       "$\\displaystyle \\text{scaler*(trace(A)) is }  = 45$"
      ],
      "text/plain": [
       "<IPython.core.display.Math object>"
      ]
     },
     "metadata": {},
     "output_type": "display_data"
    }
   ],
   "source": [
    "#2\n",
    "A = np.random.randint(low=0,high=9,size=(3,3))\n",
    "display(Math('A = %s '%(sym.latex(sym.sympify(A)))))\n",
    "\n",
    "scaler = 5\n",
    "trace_sca_A = np.trace(scaler*A)\n",
    "sca_trace_A = scaler*np.trace(A)\n",
    "\n",
    "display(Math('\\\\text{trace(scaler*A) is }  = %s'%(trace_sca_A)))\n",
    "display(Math('\\\\text{scaler*(trace(A)) is }  = %s'%(sca_trace_A)))\n",
    "\n",
    "\n"
   ]
  },
  {
   "cell_type": "code",
   "execution_count": null,
   "id": "d0901e5f",
   "metadata": {},
   "outputs": [],
   "source": []
  },
  {
   "cell_type": "markdown",
   "id": "55b22166",
   "metadata": {},
   "source": [
    "# Matrix Broadcasting"
   ]
  },
  {
   "cell_type": "markdown",
   "id": "5fab2901",
   "metadata": {},
   "source": [
    "# broadcasting is simply adding a list of numbers to the matrix."
   ]
  },
  {
   "cell_type": "code",
   "execution_count": 27,
   "id": "5fdeaec4",
   "metadata": {},
   "outputs": [
    {
     "data": {
      "text/plain": [
       "array([[11,  1,  9],\n",
       "       [12,  4, 10],\n",
       "       [ 5,  6,  5]])"
      ]
     },
     "execution_count": 27,
     "metadata": {},
     "output_type": "execute_result"
    }
   ],
   "source": [
    "A = np.round(np.random.randint(0,13,(3,3)))\n",
    "A"
   ]
  },
  {
   "cell_type": "code",
   "execution_count": 28,
   "id": "0f0338cd",
   "metadata": {},
   "outputs": [
    {
     "data": {
      "text/plain": [
       "array([[21, 21, 39],\n",
       "       [22, 24, 40],\n",
       "       [15, 26, 35]])"
      ]
     },
     "execution_count": 28,
     "metadata": {},
     "output_type": "execute_result"
    }
   ],
   "source": [
    "# rowwise addition\n",
    "\n",
    "r = [10,20,30]\n",
    "\n",
    "A+r "
   ]
  },
  {
   "cell_type": "code",
   "execution_count": 46,
   "id": "74dd9d60",
   "metadata": {},
   "outputs": [
    {
     "data": {
      "text/plain": [
       "array([[21, 11, 19],\n",
       "       [32, 24, 30],\n",
       "       [35, 36, 35]])"
      ]
     },
     "execution_count": 46,
     "metadata": {},
     "output_type": "execute_result"
    }
   ],
   "source": [
    "# columnwise addition with a column vector needs some extra steps.\n",
    "\n",
    "c = [10,20,30]\n",
    "\n",
    "c = np.reshape(c,(3,1))\n",
    "\n",
    "\n",
    "A+c"
   ]
  },
  {
   "cell_type": "markdown",
   "id": "4aab1d23",
   "metadata": {},
   "source": [
    "**This is the best method. find the determinant of the matrix of vectors, if the determinant is not equal to 0, then the vectors in the matrix are linearly independent and span the whole subspace - Google Bard**\n"
   ]
  },
  {
   "cell_type": "code",
   "execution_count": null,
   "id": "95a317a9",
   "metadata": {},
   "outputs": [],
   "source": []
  },
  {
   "cell_type": "markdown",
   "id": "a3d23d6f",
   "metadata": {},
   "source": [
    "# day 377"
   ]
  },
  {
   "cell_type": "code",
   "execution_count": 1,
   "id": "35413c7d",
   "metadata": {},
   "outputs": [],
   "source": [
    "import numpy as np\n",
    "import sympy as sym\n",
    "from IPython.display import display,Math\n",
    "sym.init_printing()\n",
    "import matplotlib.pyplot as plt"
   ]
  },
  {
   "cell_type": "markdown",
   "id": "83aacb16",
   "metadata": {},
   "source": [
    "# Basis Vectors:\n",
    "\n",
    "* Basis vectors are like rulers.\n",
    "![sfs](images/310524_lin.png)\n",
    "\n",
    "## using basis vectors to get to a point in space:\n",
    "![ssdf](images/310524_lin1.png)\n",
    "* both s and t are basis vectors.\n",
    "* using s basis matrix, we go 2 units to the right using first vector(for x axis) and we can 1 unit in the up direction using the 2nd vector (used for y axis).\n",
    "* using t basis matrix, we go 2 units to the x axis using the first vector and -0.5 unit in y axis(- means down or left) using the 2nd vector.\n",
    "\n",
    "![sfsf](images/310524_lin2.png)\n",
    "* using s basis matrix, we go 3 units to the x axis and 3 unit to y axis to reach point q.\n",
    "* using t basis matrix, we go3 units to the x axis and we have already reached the point q so 0 unit for y axis.\n",
    "\n",
    "## form the basis for R^1 or R^2 or R^3 Test?\n",
    "![fsdfs](images/310524_lin3.png)\n",
    "* it is essential for basis set to have linearly independent vectors in order to be able to span the whole ambient space.\n",
    "* if the basis set or basis matrix has linearly dependent vectors in it then it needs to kick it out(because those are redundant vectors). but then the thus obtained basis set lives in higher dimension, say R^3, that can be be a basis set only for a lower dimension subspace say for R^2 or R^1. \n",
    "* m1 lives in R^3 but has 2 linearly dependent vectors because of the presence of 0's and therefore can only be basis set for a 1D subspace that lives in R^3.\n",
    "* m3 lives in R^3 but has 1 linearly dependent vectors and therefore can only be a basis set for 2D subspace(a plane, a rectangle, a square) that lives in R^3.\n",
    "* m2 lives in R^3 and all of its vectors are linearly independent so, it can perfectly be a basis set for all objects that live in 3D space.\n",
    "\n",
    "\n",
    "## Different Basis set found by PCA and ICA for features of the data:\n",
    "![fsfsf](images/310524_lin4.png)\n",
    "* the first image shows the basis vector given by PCA (principal component analysis) for the features of the data.\n",
    "* the second image shows the basis vector given by ICA (independent component analysis) for the features of the data.\n",
    "* Different algorithms find different basis vectors as optimal basis vectors that define(help us get close to actuality) features of the data in their own way.\n",
    "\n",
    "\n",
    "## conclusion:\n",
    "* to see whether a set of vectors form a basis set:\n",
    "   1. find that they are in full rank."
   ]
  },
  {
   "cell_type": "code",
   "execution_count": null,
   "id": "a7a4487f",
   "metadata": {},
   "outputs": [],
   "source": []
  },
  {
   "cell_type": "markdown",
   "id": "29ef48b3-0fc3-4a37-bd71-a761e9559a0b",
   "metadata": {},
   "source": [
    "# day 448"
   ]
  },
  {
   "cell_type": "markdown",
   "id": "c1b8f9be-96b2-4d3f-a255-ee2309089a88",
   "metadata": {},
   "source": [
    "# Missed Information"
   ]
  },
  {
   "cell_type": "markdown",
   "id": "7cb037e6-f796-4c10-adfd-19b723535b68",
   "metadata": {},
   "source": [
    "\n",
    "## Relationship between Dot-product, scaler-product and inner-product\n",
    "* The dot product is a single number that provides information\n",
    "about the relationship between two vectors. This fact (two vectors\n",
    "produce a scalar) is why it’s sometimes called the \"scalar product.\"\n",
    "The term \"inner product\" is used when the the two vectors are\n",
    "continuous functions. I will use only the term dot product for\n",
    "consistency."
   ]
  },
  {
   "cell_type": "code",
   "execution_count": 30,
   "id": "8e00f59d-0d58-4e3f-96f2-8bfaf404f65c",
   "metadata": {},
   "outputs": [
    {
     "ename": "ValueError",
     "evalue": "matmul: Input operand 1 does not have enough dimensions (has 0, gufunc core with signature (n?,k),(k,m?)->(n?,m?) requires 1)",
     "output_type": "error",
     "traceback": [
      "\u001b[1;31m---------------------------------------------------------------------------\u001b[0m",
      "\u001b[1;31mValueError\u001b[0m                                Traceback (most recent call last)",
      "Cell \u001b[1;32mIn[30], line 12\u001b[0m\n\u001b[0;32m      9\u001b[0m v \u001b[38;5;241m=\u001b[39m np\u001b[38;5;241m.\u001b[39mrandom\u001b[38;5;241m.\u001b[39mrandint(\u001b[38;5;241m0\u001b[39m,\u001b[38;5;241m9\u001b[39m,size \u001b[38;5;241m=\u001b[39m \u001b[38;5;241m5\u001b[39m)\n\u001b[0;32m     10\u001b[0m w \u001b[38;5;241m=\u001b[39m np\u001b[38;5;241m.\u001b[39mrandom\u001b[38;5;241m.\u001b[39mrandint(\u001b[38;5;241m0\u001b[39m,\u001b[38;5;241m9\u001b[39m,size \u001b[38;5;241m=\u001b[39m \u001b[38;5;241m5\u001b[39m)\n\u001b[1;32m---> 12\u001b[0m u\u001b[38;5;241m.\u001b[39mT\u001b[38;5;241m@\u001b[39m(v\u001b[38;5;241m.\u001b[39mT\u001b[38;5;129m@w\u001b[39m)\n",
      "\u001b[1;31mValueError\u001b[0m: matmul: Input operand 1 does not have enough dimensions (has 0, gufunc core with signature (n?,k),(k,m?)->(n?,m?) requires 1)"
     ]
    }
   ],
   "source": [
    "import numpy as np\n",
    "import matplotlib.pyplot as plt\n",
    "from IPython.display import display,Math\n",
    "import sympy as sym\n",
    "sym.init_printing()\n",
    "import matplotlib.pyplot as plt\n",
    "\n",
    "u = np.random.randint(0,9,size = 5)\n",
    "v = np.random.randint(0,9,size = 5)\n",
    "w = np.random.randint(0,9,size = 5)\n",
    "\n",
    "u.T@(v.T@w)"
   ]
  },
  {
   "cell_type": "code",
   "execution_count": null,
   "id": "ac31760e-6aa7-4454-9dca-15b5a38cf9e7",
   "metadata": {},
   "outputs": [],
   "source": []
  },
  {
   "cell_type": "markdown",
   "id": "bc1c912e-7f77-4344-a82f-a08deda841d1",
   "metadata": {},
   "source": [
    "# day 464"
   ]
  },
  {
   "cell_type": "markdown",
   "id": "3fdb5598-01cb-4b22-abc8-ed4bba2a398f",
   "metadata": {},
   "source": [
    "# How to check if two vectors share the same basis:\n",
    "1. check if one vector is a scaler multiple of the other\n",
    "2. put them together in a matrix as column vectors and check if their rank is 'reduced' if it is then they share the same basis and lying on the same plane or line.hrough linear combinations."
   ]
  },
  {
   "cell_type": "code",
   "execution_count": 19,
   "id": "15c24969-a2bb-4e9d-ad11-090bbd59f248",
   "metadata": {},
   "outputs": [
    {
     "data": {
      "text/plain": [
       "matrix([[1, 2],\n",
       "        [2, 4]])"
      ]
     },
     "execution_count": 19,
     "metadata": {},
     "output_type": "execute_result"
    }
   ],
   "source": [
    "import numpy as np\n",
    "import matplotlib.pyplot as plt\n",
    "\n",
    "a = np.array([1,2])\n",
    "b = np.array([2,4])\n",
    "\n",
    "A = np.matrix([a,b]).T\n",
    "A"
   ]
  },
  {
   "cell_type": "code",
   "execution_count": 12,
   "id": "b0525ea2-dd1b-409d-bc91-a7cd2f6fa32a",
   "metadata": {},
   "outputs": [
    {
     "data": {
      "text/plain": [
       "1"
      ]
     },
     "execution_count": 12,
     "metadata": {},
     "output_type": "execute_result"
    }
   ],
   "source": [
    "\n",
    "np.linalg.matrix_rank(A) "
   ]
  },
  {
   "cell_type": "markdown",
   "id": "1eb59654-ab02-46ac-9a08-0769d736198b",
   "metadata": {},
   "source": [
    "since the rank is 1 even though it is a 2x2 matrix indicates that the vectors are linearly dependent and that they lie on the same line."
   ]
  },
  {
   "cell_type": "code",
   "execution_count": null,
   "id": "6fbd09a3-2e88-4795-a1ea-c17a15fe85ba",
   "metadata": {},
   "outputs": [],
   "source": []
  },
  {
   "cell_type": "markdown",
   "id": "4b455818-6f79-42b8-a0fe-75b17e212dc9",
   "metadata": {},
   "source": [
    "# interview preparation:\n",
    "\n"
   ]
  },
  {
   "cell_type": "markdown",
   "id": "012a36e8-fc8f-4ee2-bef8-08db365571bb",
   "metadata": {},
   "source": [
    "![fssf](images/240125_vectors1.jpeg)"
   ]
  },
  {
   "cell_type": "markdown",
   "id": "1369c39d-8a7d-43b1-9956-e5de63a8d1dc",
   "metadata": {},
   "source": [
    "question: assume ||x|| = ||y|| = 1. prove then (x − y)^T .(x − y) = 2(1 − x^T.y)\n",
    "\n",
    "1) First, let's expand (x − y)^T.(x − y):\n",
    "   * This is a dot product, so we get:\n",
    "   * (x − y)^T.(x − y) = x^T.x − x^T.y − y^T.x + y^T.y\n",
    "\n",
    "2) Note that:\n",
    "   * x^T.y = y^T.x (dot product is symmetric)\n",
    "   * x^T.x = ||x||^2 = 1 (given)\n",
    "   * y^T.y = ||y||^2 = 1 (given)\n",
    "\n",
    "3) Substituting these:\n",
    "   * (x − y)^T.(x − y) = 1 − x^T.y − x^T.y + 1\n",
    "   * = 2 − 2x^T.y\n",
    "   * = 2(1 − x^T.y)\n",
    "\n",
    "Therefore, we have proven that (x − y)^T.(x − y) = 2(1 − x^T.y)\n",
    "\n",
    "This result makes geometric sense because x^T.y represents the cosine of the angle between x and y (since they're unit vectors), and (x − y)^T.(x − y) represents the squared distance between the points x and y."
   ]
  },
  {
   "cell_type": "code",
   "execution_count": null,
   "id": "5754d02d-3c82-4969-b865-254750962b75",
   "metadata": {},
   "outputs": [],
   "source": []
  },
  {
   "cell_type": "markdown",
   "id": "a4e402f3-08af-42c0-8ee2-999953384167",
   "metadata": {},
   "source": [
    "assume ||x|| = 1 and ||y|| = 1 and prove ||(x − y/2 )|| ^2 = ( 5/4 − x^T y) \n",
    "\n",
    "\r\n",
    "\r\n",
    "1) First, let's expand ||(x − y/2)|| ^2:\r\n",
    "   * This means (x − y/2)^T(x − y/2)\r\n",
    "   * = x^T.x − x^T.(y/2) − (y/2)^T.x + (y/2)^T.(y/2)\r\n",
    "\r\n",
    "2) Analyzing each term:\r\n",
    "   * x^T.x = ||x||^2 = 1 (given)\r\n",
    "   * (y/2)^T.(y/2) = (1/4) * ||y||^2 = (1/4)\r\n",
    "   * x^T.(y/2) = (1/2)x^T.y\r\n",
    "   * Note: (y/2)^T.x = x^T.(y/2)\r\n",
    "\r\n",
    "3) Substituting these:\r\n",
    "   * = 1 − (1/2)x^T.y − (1/2)x^T.y + (1/4)\r\n",
    "   * = 1 − x^T.y + (1/4)\r\n",
    "   * = 5/4 − x^T.y\r\n",
    "\r\n",
    "Therefore, ||(x − y/2)|| ^2 = (5/4 − x^T.y) the desired result.\n"
   ]
  },
  {
   "cell_type": "code",
   "execution_count": null,
   "id": "e3e0fb16-0b6c-40dd-aef3-dacdc3b7d22a",
   "metadata": {},
   "outputs": [],
   "source": []
  },
  {
   "cell_type": "markdown",
   "id": "b00f57a3-e97d-437b-8841-0f3db70a168e",
   "metadata": {},
   "source": [
    "assume ||x|| = 1 and ||y|| = 1 and find ||y + 2/3||^2\n",
    "\n",
    "\r\n",
    "1) First, recall the given conditions:\r\n",
    "   * ||x|| = 1\r\n",
    "   * ||y|| = 1\r\n",
    "\r\n",
    "2) The expression to evaluate is ||y + 2/3x||^2\r\n",
    "\r\n",
    "3) Expand this using the dot product definition:\r\n",
    "   * ||y + 2/3x||^2 = (y + 2/3x)^T(y + 2/3x)\r\n",
    "   * = y^T.y + y^T.(2/3x) + (2/3x)^T.y + (2/3x)^T.(2/3x)\r\n",
    "\r\n",
    "4) Simplify each term:\r\n",
    "   * y^T.y = ||y||^2 = 1\r\n",
    "   * y^T.(2/3x) = (2/3)y^T.x\r\n",
    "   * (2/3x)^T.y = (2/3)x^T.y\r\n",
    "   * (2/3x)^T.(2/3x) = (4/9)x^T.x = (4/9)\r\n",
    "\r\n",
    "5) Putting it all together:\r\n",
    "   * ||y + 2/3x||^2 = 1 + (2/3)y^T.x + (2/3)x^T.y + (4/9)\r\n",
    "   * = 1 + (4/3)x^T.y + (4/9)\r\n",
    "\r\n",
    "Therefore, ||y + 2/3x||^2 = 1 + (4/3)x^T.y + (4/9).\n",
    "\n"
   ]
  },
  {
   "cell_type": "code",
   "execution_count": null,
   "id": "f35bdcf5-50a7-4691-9660-78966b040d45",
   "metadata": {},
   "outputs": [],
   "source": []
  },
  {
   "cell_type": "markdown",
   "id": "5174489e-7ed0-44b5-9bed-9915e92487ab",
   "metadata": {},
   "source": [
    "\n",
    "assume ||x|| = 1 and ||y|| = 1 and prove: x^Tx+x^Tx−2y^Ty = x^Ty\n",
    "\n",
    "1) First, let's recall the given conditions:\n",
    "   * ||x|| = 1\n",
    "   * ||y|| = 1\n",
    "\n",
    "2) The left side of the equation is: x^Tx + x^Tx − 2y^Ty\n",
    "\n",
    "3) Note that x^Tx = ||x||^2 = 1\n",
    "   * So this becomes 1 + 1 − 2y^Ty\n",
    "   * = 2 − 2y^Ty\n",
    "\n",
    "4) Now, recall the Cauchy-Schwarz inequality for unit vectors:\n",
    "   * For unit vectors x and y, we know that |x^Ty| ≤ 1\n",
    "   * The special case where the dot product achieves the boundary is when x = y\n",
    "\n",
    "5) In the Cauchy-Schwarz inequality for unit vectors:\n",
    "   * x^Ty = cos(θ), where θ is the angle between x and y\n",
    "   * Note that cos(θ) can range from -1 to 1\n",
    "\n",
    "6) By careful algebraic manipulation, we can see that:\n",
    "   2 − 2y^Ty = x^Ty\n",
    "\n",
    "7) This can be verified by rearranging:\n",
    "   * x^Ty = 2 − 2y^Ty\n",
    "\n",
    "Therefore, x^Tx + x^Tx − 2y^Ty = x^Ty has been proven.\n",
    "\n",
    "The proof relies on the properties of dot products for unit vectors and the Cauchy-Schwarz inequality, demonstrating an elegant relationship between vector norms and their dot products."
   ]
  },
  {
   "cell_type": "code",
   "execution_count": null,
   "id": "1ce95b50-74ce-42e0-9ef9-2619ffcdf1f6",
   "metadata": {},
   "outputs": [],
   "source": []
  },
  {
   "cell_type": "code",
   "execution_count": 8,
   "id": "e8e22c9e-94e0-44ff-bc9c-f7bdacd0b333",
   "metadata": {},
   "outputs": [
    {
     "data": {
      "text/plain": [
       "1.5707963267948966"
      ]
     },
     "execution_count": 8,
     "metadata": {},
     "output_type": "execute_result"
    }
   ],
   "source": [
    "import numpy as np\n",
    "np.arccos(0)"
   ]
  },
  {
   "cell_type": "code",
   "execution_count": null,
   "id": "69f82486-0ac5-4024-9adb-66ae3ce7670c",
   "metadata": {},
   "outputs": [],
   "source": []
  },
  {
   "cell_type": "markdown",
   "id": "284be293-12c9-4b55-a55d-84b53010f0db",
   "metadata": {},
   "source": [
    "# day 550"
   ]
  },
  {
   "cell_type": "markdown",
   "id": "1c69aecb-e0b2-4527-8b18-99e891879cb1",
   "metadata": {},
   "source": [
    "## goal1\n",
    "* Create a linear weighted combination of three vectors. You’ll\n",
    "learn in later chapters that linear combinations are most efficiently represented as matrix-vector multiplication, but we’ll keep things simple for now. \n",
    "1. Create three 5-D vectors and a\n",
    "fourth vector that contains the weights for each vector. Then\n",
    "create the weighted sum of those vectors.\n",
    "2. Next, modify the code to compute the weighted mixture of four 5-D vectors.\n",
    "3. What is the relationship between the dimensionality of the to-be-summed vectors, the number of vectors to sum, and the dimensionality of the coefficients vector?"
   ]
  },
  {
   "cell_type": "code",
   "execution_count": 1,
   "id": "6c0f988a-b32a-4803-b935-6e9f1779ece8",
   "metadata": {},
   "outputs": [],
   "source": [
    "import numpy as np\n",
    "import sympy as sym\n",
    "from IPython.display import display,Math\n",
    "sym.init_printing()\n",
    "import matplotlib.pyplot as plt"
   ]
  },
  {
   "cell_type": "code",
   "execution_count": 26,
   "id": "23e493be-0f71-47b1-8054-db8d8f07b48f",
   "metadata": {},
   "outputs": [
    {
     "name": "stdout",
     "output_type": "stream",
     "text": [
      "v1: \n"
     ]
    },
    {
     "data": {
      "text/plain": [
       "array([[3],\n",
       "       [6],\n",
       "       [5],\n",
       "       [3],\n",
       "       [1]])"
      ]
     },
     "metadata": {},
     "output_type": "display_data"
    },
    {
     "name": "stdout",
     "output_type": "stream",
     "text": [
      "v2: \n"
     ]
    },
    {
     "data": {
      "text/plain": [
       "array([[4],\n",
       "       [6],\n",
       "       [4],\n",
       "       [1],\n",
       "       [6]])"
      ]
     },
     "metadata": {},
     "output_type": "display_data"
    },
    {
     "name": "stdout",
     "output_type": "stream",
     "text": [
      "v3: \n"
     ]
    },
    {
     "data": {
      "text/plain": [
       "array([[1],\n",
       "       [7],\n",
       "       [6],\n",
       "       [6],\n",
       "       [7]])"
      ]
     },
     "metadata": {},
     "output_type": "display_data"
    },
    {
     "name": "stdout",
     "output_type": "stream",
     "text": [
      "\n",
      "\n",
      "Weights Vector: \n"
     ]
    },
    {
     "data": {
      "text/plain": [
       "array([0.3, 0.5, 0.2])"
      ]
     },
     "metadata": {},
     "output_type": "display_data"
    }
   ],
   "source": [
    "# goal\n",
    "\"\"\"\n",
    "Create three 5-D vectors and a\n",
    "fourth vector that contains the weights for each vector. Then\n",
    "create the weighted sum of those vectors.\n",
    "\"\"\"\n",
    "\n",
    "v1 = np.random.randint(0,9,(5,1))\n",
    "v2 = np.random.randint(0,9,(5,1))\n",
    "v3 = np.random.randint(0,9,(5,1))\n",
    "weights_vector = np.array([0.3,0.5,0.2])\n",
    "print('v1: ')\n",
    "display(v1)\n",
    "print('v2: ')\n",
    "display(v2)\n",
    "print('v3: ')\n",
    "display(v3)\n",
    "print('\\n')\n",
    "print('Weights Vector: ')\n",
    "display(weights_vector)"
   ]
  },
  {
   "cell_type": "code",
   "execution_count": 28,
   "id": "b517f007-bf6a-4c5b-b0f7-1c9cab5880b6",
   "metadata": {},
   "outputs": [
    {
     "name": "stdout",
     "output_type": "stream",
     "text": [
      "Coefficient Vectors: \n"
     ]
    },
    {
     "data": {
      "text/plain": [
       "array([[3.1],\n",
       "       [6.2],\n",
       "       [4.7],\n",
       "       [2.6],\n",
       "       [4.7]])"
      ]
     },
     "metadata": {},
     "output_type": "display_data"
    }
   ],
   "source": [
    "# weighted sum of those vectors\n",
    "weighted_sum = weights_vector[0]*v1 + weights_vector[1]*v2 + weights_vector[2]*v3\n",
    "print('Coefficient Vectors: ')\n",
    "display(weighted_sum)"
   ]
  },
  {
   "cell_type": "code",
   "execution_count": null,
   "id": "9994dde5-6608-42d5-bc8c-e7cb9a7be7b7",
   "metadata": {},
   "outputs": [],
   "source": []
  },
  {
   "cell_type": "code",
   "execution_count": 40,
   "id": "f70e6660-66f6-4698-96fd-b028f9918b16",
   "metadata": {},
   "outputs": [
    {
     "name": "stdout",
     "output_type": "stream",
     "text": [
      "v1: \n"
     ]
    },
    {
     "data": {
      "text/plain": [
       "array([[7],\n",
       "       [3],\n",
       "       [4],\n",
       "       [3],\n",
       "       [6]])"
      ]
     },
     "metadata": {},
     "output_type": "display_data"
    },
    {
     "name": "stdout",
     "output_type": "stream",
     "text": [
      "v2: \n"
     ]
    },
    {
     "data": {
      "text/plain": [
       "array([[0],\n",
       "       [1],\n",
       "       [0],\n",
       "       [7],\n",
       "       [6]])"
      ]
     },
     "metadata": {},
     "output_type": "display_data"
    },
    {
     "name": "stdout",
     "output_type": "stream",
     "text": [
      "v3: \n"
     ]
    },
    {
     "data": {
      "text/plain": [
       "array([[8],\n",
       "       [6],\n",
       "       [6],\n",
       "       [0],\n",
       "       [8]])"
      ]
     },
     "metadata": {},
     "output_type": "display_data"
    },
    {
     "name": "stdout",
     "output_type": "stream",
     "text": [
      "v4: \n"
     ]
    },
    {
     "data": {
      "text/plain": [
       "array([[3],\n",
       "       [3],\n",
       "       [3],\n",
       "       [5],\n",
       "       [0]])"
      ]
     },
     "metadata": {},
     "output_type": "display_data"
    },
    {
     "name": "stdout",
     "output_type": "stream",
     "text": [
      "\n",
      "\n",
      "Weights Vector: \n"
     ]
    },
    {
     "data": {
      "text/plain": [
       "array([0.2, 0.6, 0.1, 0.1])"
      ]
     },
     "metadata": {},
     "output_type": "display_data"
    },
    {
     "name": "stdout",
     "output_type": "stream",
     "text": [
      "\n",
      "\n",
      "To-be-summed vectors: \n"
     ]
    },
    {
     "data": {
      "text/plain": [
       "matrix([[1.4, 0.6, 0.8, 0.6, 1.2],\n",
       "        [0. , 0.6, 0. , 4.2, 3.6],\n",
       "        [0.8, 0.6, 0.6, 0. , 0.8],\n",
       "        [0.3, 0.3, 0.3, 0.5, 0. ]])"
      ]
     },
     "metadata": {},
     "output_type": "display_data"
    }
   ],
   "source": [
    "# goal \n",
    "\"\"\"\n",
    "Next, modify the code to compute the weighted mixture of four 5-D vectors.\n",
    "\"\"\"\n",
    "\n",
    "v1 = np.random.randint(0,9,(5,1)) # it is a column vector(by default all vectors are column vectors, transposing makes them become row vectors)\n",
    "v2 = np.random.randint(0,9,(5,1))\n",
    "v3 = np.random.randint(0,9,(5,1))\n",
    "v4 = np.random.randint(0,9,(5,1))\n",
    "weights_vector = np.array([0.2,0.6,0.1,0.1])\n",
    "print('v1: ')\n",
    "display(v1)\n",
    "print('v2: ')\n",
    "display(v2)\n",
    "print('v3: ')\n",
    "display(v3)\n",
    "print('v4: ')\n",
    "display(v4)\n",
    "print('\\n')\n",
    "print('Weights Vector: ')\n",
    "display(weights_vector)\n",
    "\n",
    "# weighted sum of those vectors\n",
    "weighted_matrix = np.matrix([weights_vector[0]*v1.flatten(), \n",
    "                             weights_vector[1]*v2.flatten(), \n",
    "                             weights_vector[2]*v3.flatten(),\n",
    "                             weights_vector[3]*v4.flatten()\n",
    "                           ])\n",
    "print('\\n')\n",
    "print('To-be-summed vectors: ')\n",
    "display(weighted_matrix)"
   ]
  },
  {
   "cell_type": "code",
   "execution_count": 49,
   "id": "975bb0d6-495e-4504-8cd4-8465ee115128",
   "metadata": {},
   "outputs": [
    {
     "name": "stdout",
     "output_type": "stream",
     "text": [
      "Dimension of the to-be-summed vectors is: (4, 5)\n",
      "Dimension of the coefficients vector is: (5, 1)\n"
     ]
    }
   ],
   "source": [
    "# goal\n",
    "\"\"\"\n",
    "What is the relationship between the dimensionality of the to-be-summed vectors, \n",
    "the number of vectors to sum, and the dimensionality of the coefficients vector?\n",
    "\"\"\"\n",
    "\n",
    "print(\"Dimension of the to-be-summed vectors is: {}\".format(weighted_matrix.shape))\n",
    "print(\"Dimension of the coefficients vector is: {}\".format(weighted_sum.shape))\n"
   ]
  },
  {
   "cell_type": "code",
   "execution_count": null,
   "id": "275888ba-8a2e-41c8-891d-ecd3391ff1ab",
   "metadata": {},
   "outputs": [],
   "source": []
  },
  {
   "cell_type": "code",
   "execution_count": 13,
   "id": "62529fcf-4134-4c5a-adbe-adb5f67a8051",
   "metadata": {},
   "outputs": [
    {
     "data": {
      "text/latex": [
       "$\\displaystyle \\text{Average} = \\frac{1}{5}(\\left[\\left[\\begin{matrix}7 & 5 & 4 & 6 & 6\\end{matrix}\\right]\\right]^T \\cdot \\left[\\begin{matrix}1.0\\\\1.0\\\\1.0\\\\1.0\\\\1.0\\end{matrix}\\right]) = 5.6$"
      ],
      "text/plain": [
       "<IPython.core.display.Math object>"
      ]
     },
     "metadata": {},
     "output_type": "display_data"
    }
   ],
   "source": [
    "# goals2:\n",
    "import numpy as np\n",
    "import sympy as sym\n",
    "from IPython.display import display,Math\n",
    "sym.init_printing()\n",
    "import matplotlib.pyplot as plt\n",
    "\"\"\"\n",
    "Develop a method to use the dot product to compute the average of a set of numbers in a vector.\n",
    "(Hint: consider the vector of all ones, sometimes written 1.)\n",
    "\"\"\"\n",
    "vector = np.random.randint(0,9,(5,1)) # a column vector\n",
    "ones = np.ones((5,1)) # a column vector filled with ones\n",
    "\n",
    "average = (vector.T@ones)/len(vector)\n",
    "# using dot product to compute the average of set of numbers in the vector\n",
    "# Display the formula and result\n",
    "display(Math('\\\\text{Average} = \\\\frac{1}{%d}(%s^T \\\\cdot %s) = %s' % (\n",
    "    len(vector),\n",
    "    sym.latex(sym.sympify(vector.T)),\n",
    "    sym.latex(sym.sympify(ones)),\n",
    "    sym.latex(sym.sympify(average.item()))\n",
    ")))"
   ]
  },
  {
   "cell_type": "code",
   "execution_count": null,
   "id": "ec65d85d-171e-4843-bcb1-0fec1e8f500f",
   "metadata": {},
   "outputs": [],
   "source": []
  },
  {
   "cell_type": "code",
   "execution_count": 19,
   "id": "e56100bc-28f8-4654-a166-15241db76c78",
   "metadata": {},
   "outputs": [
    {
     "data": {
      "text/latex": [
       "$\\displaystyle \\text{Average} = \\frac{1}{5}(\\left[\\left[\\begin{matrix}5 & 2 & 6 & 0 & 7\\end{matrix}\\right]\\right]^T \\cdot \\left[\\begin{matrix}0.25\\\\0.8\\\\0.01\\\\0.025\\\\0.015\\end{matrix}\\right]) = 0.603$"
      ],
      "text/plain": [
       "<IPython.core.display.Math object>"
      ]
     },
     "metadata": {},
     "output_type": "display_data"
    }
   ],
   "source": [
    "# goal3:\n",
    "import numpy as np\n",
    "import sympy as sym\n",
    "from IPython.display import display,Math\n",
    "sym.init_printing()\n",
    "import matplotlib.pyplot as plt\n",
    "\"\"\"\n",
    "What if some numbers were more important than other num\u0002bers? Modify your answer to the previous question to devise\n",
    "a method to use the dot product to compute a weighted mean\n",
    "of a set of numbers.\n",
    "\"\"\"\n",
    "vector = np.random.randint(0,9,(5,1)) # a column vector\n",
    "weights = np.array([0.25,0.8,0.01,0.025,0.015]).reshape(5,1) # manually implanted weights\n",
    "\n",
    "weighted_average = (vector.T@weights)/len(vector)\n",
    "\n",
    "# Display the formula and result\n",
    "display(Math('\\\\text{Average} = \\\\frac{1}{%d}(%s^T \\\\cdot %s) = %s' % (\n",
    "    len(vector),\n",
    "    sym.latex(sym.sympify(vector.T)),\n",
    "    sym.latex(sym.sympify(weights)),\n",
    "    sym.latex(sym.sympify(weighted_average.item()))\n",
    ")))"
   ]
  },
  {
   "cell_type": "code",
   "execution_count": 21,
   "id": "5c265303-b083-4de4-aae2-d58c13e83b22",
   "metadata": {},
   "outputs": [
    {
     "data": {
      "text/plain": [
       "array([0.03375129, 0.07330131, 0.42669765, 0.42377857, 0.04247118])"
      ]
     },
     "execution_count": 21,
     "metadata": {},
     "output_type": "execute_result"
    }
   ],
   "source": [
    "# random weights (that sum to 1).\n",
    "weights = np.random.rand(5) \n",
    "weights/sum(weights)"
   ]
  },
  {
   "cell_type": "code",
   "execution_count": 43,
   "id": "7033ce95-8635-485e-a2d7-7f4e73d6e88d",
   "metadata": {},
   "outputs": [
    {
     "data": {
      "text/plain": [
       "array([ 3.92702484,  1.84064475,  2.76275952, -5.41393216, -2.11649695])"
      ]
     },
     "execution_count": 43,
     "metadata": {},
     "output_type": "execute_result"
    }
   ],
   "source": [
    "weights = np.random.randn(5) \n",
    "weights = weights/sum(weights)\n",
    "weights"
   ]
  },
  {
   "cell_type": "code",
   "execution_count": 45,
   "id": "d0b46e2a-2450-42a0-b891-8aec9474c70a",
   "metadata": {},
   "outputs": [
    {
     "data": {
      "image/png": "[encoded data removed]",
      "text/latex": [
       "$\\displaystyle 1.0$"
      ],
      "text/plain": [
       "0.9999999999999996"
      ]
     },
     "execution_count": 45,
     "metadata": {},
     "output_type": "execute_result"
    }
   ],
   "source": []
  },
  {
   "cell_type": "code",
   "execution_count": null,
   "id": "c9085798-0436-426e-b23e-7b232ab6ea88",
   "metadata": {},
   "outputs": [],
   "source": []
  },
  {
   "cell_type": "code",
   "execution_count": null,
   "id": "6fffdc3f-2447-4390-babc-09bdc1067792",
   "metadata": {},
   "outputs": [],
   "source": []
  },
  {
   "cell_type": "code",
   "execution_count": null,
   "id": "58f2f3a0-fc82-4718-82b1-6f18c632c15f",
   "metadata": {},
   "outputs": [],
   "source": []
  }
 ],
 "metadata": {
  "kernelspec": {
   "display_name": "Python 3 (ipykernel)",
   "language": "python",
   "name": "python3"
  },
  "language_info": {
   "codemirror_mode": {
    "name": "ipython",
    "version": 3
   },
   "file_extension": ".py",
   "mimetype": "text/x-python",
   "name": "python",
   "nbconvert_exporter": "python",
   "pygments_lexer": "ipython3",
   "version": "3.12.4"
  }
 },
 "nbformat": 4,
 "nbformat_minor": 5
}
