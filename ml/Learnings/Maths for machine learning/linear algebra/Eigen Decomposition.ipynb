{
 "cells": [
  {
   "cell_type": "markdown",
   "id": "fd0b7199",
   "metadata": {},
   "source": [
    "# day 291"
   ]
  },
  {
   "cell_type": "markdown",
   "id": "2d880abd",
   "metadata": {},
   "source": [
    "# Eigen Decomposition:\n",
    "\n",
    "![sdfsdfsd](images/200124_linalg0.png)\n",
    "## notes:\n",
    "* Eigen decomposition can be performed only on squared matrices.\n",
    "\n",
    "# rotating and stretching(scaling) matrix:\n",
    "![fsssf](images/200124_linalg1.png)\n",
    "\n",
    "## notes;\n",
    "* most of the times when you muliply a matrix with a vector the result will be vector.\n",
    "* and this result vector will have been slightly rotated and stretched version of the original matrix.\n",
    "\n",
    "# only stretching matrix:\n",
    "![fsfsf](images/200124_linalg2.png)\n",
    "\n",
    "## notes;\n",
    "* some special matrix when multiplied(matmul) with a vector will produce a result vector this vector will just be stretched version of the original matrix.\n",
    "* in which case, the matrix just acts like a constant (a scaler) that boosts or shrinks the value of the original vector it is being multiplied with.\n",
    "* Remember! this matrix, with thousands or millions of values, acting like a mere scaler is rare phenomenon and it doens't simply spontaneously happen with any random matrix!!!\n",
    "\n",
    "\n",
    "# Eigen values and Eigen vectors from stretching but not rotating matrix:\n",
    "![sdfsdfsd](images/200124_linalg3.png)\n",
    "\n",
    "## notes:\n",
    "* the scaling matrix is = eigen value supplemented matrix.\n",
    "* the vector is = eigen vector.\n",
    "* so the general rule to keep in mind is: when you multiply a matrix with a vector and you plot it and observe that the matrix has only stretched(scaled) the vector without rotating, then rest assured that the matrix is a `Eigen value derived one` and the vector is `Eigen vector`.\n",
    "\n",
    "# small Eigen value or large Eigen value? which is better?\n",
    "![sdfsdfsd](images/200124_linalg4.png)\n",
    "\n",
    "## notes:\n",
    "* matrix when multiplied with the vector that gives the largest Eigen value(scaler) captures the variance in the data better.\n",
    "* in the picture above, the orange line describes the relationship between people who go to pizzateria vs gym better than the yellow line. \n",
    "* the yellow line would have a smaller Eigen value versus the orange line.\n",
    "* in statistics this is called PCA (principal component analysis) which captures the principle axis of covariance between the variables.\n",
    "* PCA is nothing more than a Eigen Decomposition.\n",
    "\n",
    "\n",
    "# Eigen decomposition from a Rubic's cube perspective:\n",
    "![sdfsdfsd](images/200124_linalg5.png)\n",
    "\n",
    "## notes:\n",
    "* the initial matrix is like having the values distributed all across chaotically like in a disordered rubic's cube.\n",
    "* the Eigen vector rotates the matrix side to side, up and down, it transforms the matrix to make it become ordered like a properly ordered rubic's cube where sides with same colors are arranged neatly.\n"
   ]
  },
  {
   "cell_type": "code",
   "execution_count": null,
   "id": "011d3fb0",
   "metadata": {},
   "outputs": [],
   "source": []
  },
  {
   "cell_type": "markdown",
   "id": "da37c3a9",
   "metadata": {},
   "source": [
    "# day 293"
   ]
  },
  {
   "cell_type": "code",
   "execution_count": 1,
   "id": "5da7dec1",
   "metadata": {},
   "outputs": [],
   "source": [
    "import numpy as np\n",
    "import sympy as sym\n",
    "from IPython.display import display,Math\n",
    "sym.init_printing()\n",
    "import matplotlib.pyplot as plt"
   ]
  },
  {
   "cell_type": "markdown",
   "id": "d82095e5",
   "metadata": {},
   "source": [
    "# Finding Eigen Values:\n",
    "\n",
    "![sfsfsd](images/230124_linear0.png)\n",
    "\n",
    "## notes:\n",
    "* the vector 'v' is in the null space of the matrix \"A\" when matrix \"A\" is shifted by lambda times Identity matrix of size \"A\".\n",
    "* the zero on the RHS is not a single zero, it is a vector of zeros.\n",
    "\n",
    "![fsfs](images/230124_linear1.png)\n",
    "\n",
    "## notes:\n",
    "* the determinant of |A-lambda*I| = 0 for singular matrix.\n",
    "* if we know all the n-1 elements' values and determinant of the matrix then, we will certainly know the value of the remaining element.\n",
    "* the vector v is in the null space of the matrix A shifted by negative lambda times the size of A: |A-lambda*I|.V = 0\n",
    "\n",
    "\n",
    "## Bard's explanation:\n",
    "\n",
    "* A non-trivial null space isn't just about a matrix A having a few non-zero elements scattered among zeros. It's a broader concept within linear algebra. Here's a breakdown:\n",
    "\n",
    "     ## Null space:\n",
    "\n",
    "        * The null space of a matrix A (denoted by Null(A)) is the set of all vectors x that, when multiplied by A, result in the zero vector (0). In other words, it's the set of solutions to the equation Ax = 0.\n",
    "        \n",
    "     ## Trivial vs. non-trivial null space:\n",
    "\n",
    "        * A trivial null space only contains the zero vector (0). This means the only solution to Ax = 0 is the zero solution, implying A has full rank (i.e., all its rows or columns are linearly independent).\n",
    "        * A non-trivial null space contains solutions other than the zero vector. This indicates that some vectors (except the zero vector) can be multiplied by A and still produce the zero vector. Such vectors are called non-zero null vectors.\n",
    "        Matrix A with few non-zero elements:\n",
    "\n",
    "       *  Your intuition about a matrix A containing a few non-zero elements can lead to a non-trivial null space, but it's not the only scenario. Consider these examples:\n",
    "        Matrix with linearly dependent rows/columns: Even if A has only a few non-zero elements, if its rows or columns are linearly dependent (i.e., one can be formed by adding multiples of the others), it will have a non-trivial null space.\n",
    "\n",
    "       *  Singular matrix: A matrix A is singular if its determinant is zero. This implies it has reduced rank and a non-trivial null space.\n",
    "       \n",
    "     ## Further understanding:\n",
    "\n",
    "        * The dimension of the null space (its number of linearly independent vectors) is related to the matrix rank. A high rank implies a smaller null space and vice versa.\n",
    "        * Non-trivial null spaces come up in various applications, like solving inconsistent systems of equations, analyzing eigenvalues and eigenvectors, and characterizing geometric properties of subspaces.\n",
    "        \n",
    "        \n",
    "## summary notes:\n",
    "* What does it mean for a vector to be in the null space of a matrix when it is multiplied with it? A vector is in the null space of the matrix when it is mulplied with it and the result is a zero(a vector full of zeros)\n",
    "----------\n",
    "* if the matrix 'A' is full rank and has only linearly independent rows and cols and it is multiplied with the vector(s) v and it produces zero vector as the result which means 'v' is in the null space of the matrix 'A': AV = 0. This zero vector would be 'trivial' because it will only contain zeros.\n",
    "-----------\n",
    "--------------\n",
    "* All singular matrices whose determinant are non zero are square matrices with linearly independent rows and columns.\n",
    "\n",
    "\n",
    "## solving for Eigen Values:\n",
    "![sfsdfs](images/230124_linear2.png)\n",
    "![sfsdfs](images/230124_linear3.png)\n",
    "## notes:\n",
    "* the lambda is the Eigen value of the matrix A.\n",
    "* the determinant is not zero so the matrix is guaranteed to produce 'trivial null space' for vector v.\n",
    "\n",
    "## number of Eigen values and fundamental theorem of algebra:\n",
    "![sfsfsf](images/230124_linear4.png)\n",
    "\n",
    "## notes:\n",
    "* A 3x3 matrix will produce 3 eigen values. A 2x2 matrix will produce 2 Eigen values. A 4*4 matrix will produce 4 Eigen values and so on. This is in alignment with the fundamental theorem of algebra which states that a nth order equation will have n solutions.\n",
    "* some of these eigen values can be redundant(meaning they are repeated) and some of these values can be complex numbers. but what is certain is there will be n number of solutions for matrix of size nxn.\n",
    "\n",
    "\n"
   ]
  },
  {
   "cell_type": "markdown",
   "id": "3326df86",
   "metadata": {},
   "source": [
    "# code for getting the Eigen values of any matrix:"
   ]
  },
  {
   "cell_type": "code",
   "execution_count": 6,
   "id": "62bc5331",
   "metadata": {},
   "outputs": [
    {
     "name": "stdout",
     "output_type": "stream",
     "text": [
      "Eigen values are:\n"
     ]
    },
    {
     "data": {
      "text/plain": [
       "array([-1.,  6.])"
      ]
     },
     "metadata": {},
     "output_type": "display_data"
    },
    {
     "name": "stdout",
     "output_type": "stream",
     "text": [
      "Eigen vectors are:\n"
     ]
    },
    {
     "data": {
      "text/plain": [
       "array([[-0.92847669, -0.70710678],\n",
       "       [ 0.37139068, -0.70710678]])"
      ]
     },
     "metadata": {},
     "output_type": "display_data"
    },
    {
     "data": {
      "image/png": "[encoded data removed]",
      "text/plain": [
       "<Figure size 432x288 with 1 Axes>"
      ]
     },
     "metadata": {
      "needs_background": "light"
     },
     "output_type": "display_data"
    }
   ],
   "source": [
    "A = np.array([[1,5],\n",
    "              [2,4]])\n",
    "\n",
    "# extract the eigen values:\n",
    "Eigen_values,Eigen_vectors = np.linalg.eig(A)\n",
    "\n",
    "print(\"Eigen values are:\")\n",
    "display(Eigen_values)\n",
    "\n",
    "print('Eigen vectors are:')\n",
    "display(Eigen_vectors)\n",
    "\n",
    "v1 = Eigen_vectors[:,0] # is an eigen vector\n",
    "v2 = np.random.rand(2) # is not an eigen vector\n",
    "v2 = v2/np.linalg.norm(v2) # scaled to unit length to show in the same graph(because eigen vectors are normalized too)\n",
    "\n",
    "# seeing the implications\n",
    "av1 = A@v1\n",
    "av2 = A@v2\n",
    "\n",
    "# plotting to see the effect of being and eigen vector of the matrix vs not being an eigen vector of the matrix.\n",
    "plt.plot([0,v1[0]],[0,v1[1]],'r',label='Eigen vector')\n",
    "plt.plot([0,av1[0]],[0,av1[1]],'r--',label='Scaled')\n",
    "plt.plot([0,v2[0]],[0,v2[1]],'k',label='Not Eigen vector')\n",
    "plt.plot([0,av2[0]],[0,av2[1]],'k--',label='rotated')\n",
    "\n",
    "plt.grid()\n",
    "plt.legend()\n",
    "plt.show()"
   ]
  },
  {
   "cell_type": "markdown",
   "id": "41cefe21",
   "metadata": {},
   "source": [
    "# exploration,analysis and freethrows"
   ]
  },
  {
   "cell_type": "code",
   "execution_count": 8,
   "id": "f5b35453",
   "metadata": {},
   "outputs": [
    {
     "data": {
      "text/plain": [
       "array([-0.92847669,  0.37139068])"
      ]
     },
     "execution_count": 8,
     "metadata": {},
     "output_type": "execute_result"
    }
   ],
   "source": [
    "Eigen_vectors[:,0]"
   ]
  },
  {
   "cell_type": "code",
   "execution_count": 12,
   "id": "fbe8a157",
   "metadata": {},
   "outputs": [
    {
     "data": {
      "text/plain": [
       "array([0.88558338, 0.4890394 ])"
      ]
     },
     "execution_count": 12,
     "metadata": {},
     "output_type": "execute_result"
    }
   ],
   "source": [
    "np.random.rand(2)"
   ]
  },
  {
   "cell_type": "markdown",
   "id": "be3be9dd",
   "metadata": {},
   "source": [
    "# conclusion: \n",
    "\n",
    "* The matrix scales the eigen vector by the eigen value but for the non-eigen vector it changes direction of the vector in a way that depends on the matrix sturcture and eigen value."
   ]
  },
  {
   "cell_type": "code",
   "execution_count": null,
   "id": "10d24250",
   "metadata": {},
   "outputs": [],
   "source": []
  },
  {
   "cell_type": "code",
   "execution_count": 8,
   "id": "9eaddad0",
   "metadata": {},
   "outputs": [
    {
     "name": "stdout",
     "output_type": "stream",
     "text": [
      "Eigen values are:\n"
     ]
    },
    {
     "data": {
      "text/plain": [
       "array([ 6.00000000e+00,  4.03541664e-17, -2.96106259e-16])"
      ]
     },
     "metadata": {},
     "output_type": "display_data"
    },
    {
     "name": "stdout",
     "output_type": "stream",
     "text": [
      "Eigen vectors are:\n"
     ]
    },
    {
     "data": {
      "text/plain": [
       "array([[ 0.57735027, -0.06824394,  0.91960957],\n",
       "       [ 0.57735027, -0.81946204, -0.39007323],\n",
       "       [ 0.57735027,  0.569056  , -0.0464877 ]])"
      ]
     },
     "metadata": {},
     "output_type": "display_data"
    },
    {
     "data": {
      "image/png": "[encoded data removed]",
      "text/plain": [
       "<Figure size 432x288 with 1 Axes>"
      ]
     },
     "metadata": {
      "needs_background": "light"
     },
     "output_type": "display_data"
    }
   ],
   "source": [
    "# testing with a matrix with linearly dependent rows and cols.\n",
    "A = np.array([[1,2,3],\n",
    "              [1,2,3],\n",
    "              [1,2,3]])\n",
    "\n",
    "Eigen_values, Eigen_vectors = np.linalg.eig(A)\n",
    "\n",
    "print(\"Eigen values are:\")\n",
    "display(Eigen_values)\n",
    "\n",
    "print('Eigen vectors are:')\n",
    "display(Eigen_vectors)\n",
    "\n",
    "v1 = Eigen_vectors[:,0] # is an eigen vector\n",
    "v2 = np.random.rand(3) # is not an eigen vector\n",
    "v2 = v2/np.linalg.norm(v2) # scaled to unit length for convinience\n",
    "\n",
    "# seeing the implications\n",
    "av1 = A@v1\n",
    "av2 = A@v2\n",
    "\n",
    "# plotting to see the effect of being and eigen vector of the matrix vs not being an eigen vector of the matrix.\n",
    "plt.plot([0,v1[0]],[0,v1[1]],'r',label='Eigen vector')\n",
    "plt.plot([0,av1[0]],[0,av1[1]],'r--',label='Scaled')\n",
    "plt.plot([0,v2[0]],[0,v2[1]],'k',label='Not Eigen vector')\n",
    "plt.plot([0,av2[0]],[0,av2[1]],'k--',label='rotated')\n",
    "\n",
    "plt.grid()\n",
    "plt.legend()\n",
    "plt.show()"
   ]
  },
  {
   "cell_type": "markdown",
   "id": "6cd34646",
   "metadata": {},
   "source": [
    "# conclusion:\n",
    "* with a matrix with linearly dependent rows and cols there is a chance of having even random vector to be in the same subspace as the eigen vector and not exhibit the typical characteristics rotated or tilted but only scaled.\n",
    "* however it is not guranteed every random vector will end up in the same subspace.\n",
    "* so the conclusion, for a matrix with linearly independent rows and columns there is no chance a random vector will ever in lie in the same subspace as the eigen vector therefore just scaling. but for a matrix with a linearly dependent rows and cols there is still a chance that even a random vector may lie in the subspace as the eigen vector just scaling."
   ]
  },
  {
   "cell_type": "markdown",
   "id": "da1e7a4b",
   "metadata": {},
   "source": []
  },
  {
   "cell_type": "markdown",
   "id": "0e00e70d",
   "metadata": {},
   "source": [
    "# Trying to take eigen_values or eigen_vectors for non-square matrix:"
   ]
  },
  {
   "cell_type": "code",
   "execution_count": 38,
   "id": "22167c87",
   "metadata": {},
   "outputs": [
    {
     "ename": "LinAlgError",
     "evalue": "Last 2 dimensions of the array must be square",
     "output_type": "error",
     "traceback": [
      "\u001b[1;31m---------------------------------------------------------------------------\u001b[0m",
      "\u001b[1;31mLinAlgError\u001b[0m                               Traceback (most recent call last)",
      "Input \u001b[1;32mIn [38]\u001b[0m, in \u001b[0;36m<cell line: 3>\u001b[1;34m()\u001b[0m\n\u001b[0;32m      1\u001b[0m a \u001b[38;5;241m=\u001b[39m np\u001b[38;5;241m.\u001b[39mrandom\u001b[38;5;241m.\u001b[39mrand(\u001b[38;5;241m4\u001b[39m,\u001b[38;5;241m3\u001b[39m)\n\u001b[1;32m----> 3\u001b[0m eig_values,eig_vectors \u001b[38;5;241m=\u001b[39m \u001b[43mnp\u001b[49m\u001b[38;5;241;43m.\u001b[39;49m\u001b[43mlinalg\u001b[49m\u001b[38;5;241;43m.\u001b[39;49m\u001b[43meig\u001b[49m\u001b[43m(\u001b[49m\u001b[43ma\u001b[49m\u001b[43m)\u001b[49m\n\u001b[0;32m      5\u001b[0m eig_values\n",
      "File \u001b[1;32m<__array_function__ internals>:5\u001b[0m, in \u001b[0;36meig\u001b[1;34m(*args, **kwargs)\u001b[0m\n",
      "File \u001b[1;32m~\\anaconda3\\lib\\site-packages\\numpy\\linalg\\linalg.py:1316\u001b[0m, in \u001b[0;36meig\u001b[1;34m(a)\u001b[0m\n\u001b[0;32m   1314\u001b[0m a, wrap \u001b[38;5;241m=\u001b[39m _makearray(a)\n\u001b[0;32m   1315\u001b[0m _assert_stacked_2d(a)\n\u001b[1;32m-> 1316\u001b[0m \u001b[43m_assert_stacked_square\u001b[49m\u001b[43m(\u001b[49m\u001b[43ma\u001b[49m\u001b[43m)\u001b[49m\n\u001b[0;32m   1317\u001b[0m _assert_finite(a)\n\u001b[0;32m   1318\u001b[0m t, result_t \u001b[38;5;241m=\u001b[39m _commonType(a)\n",
      "File \u001b[1;32m~\\anaconda3\\lib\\site-packages\\numpy\\linalg\\linalg.py:203\u001b[0m, in \u001b[0;36m_assert_stacked_square\u001b[1;34m(*arrays)\u001b[0m\n\u001b[0;32m    201\u001b[0m m, n \u001b[38;5;241m=\u001b[39m a\u001b[38;5;241m.\u001b[39mshape[\u001b[38;5;241m-\u001b[39m\u001b[38;5;241m2\u001b[39m:]\n\u001b[0;32m    202\u001b[0m \u001b[38;5;28;01mif\u001b[39;00m m \u001b[38;5;241m!=\u001b[39m n:\n\u001b[1;32m--> 203\u001b[0m     \u001b[38;5;28;01mraise\u001b[39;00m LinAlgError(\u001b[38;5;124m'\u001b[39m\u001b[38;5;124mLast 2 dimensions of the array must be square\u001b[39m\u001b[38;5;124m'\u001b[39m)\n",
      "\u001b[1;31mLinAlgError\u001b[0m: Last 2 dimensions of the array must be square"
     ]
    }
   ],
   "source": [
    "a = np.random.rand(4,3)\n",
    "\n",
    "eig_values,eig_vectors = np.linalg.eig(a)\n",
    "\n",
    "eig_values"
   ]
  },
  {
   "cell_type": "code",
   "execution_count": null,
   "id": "3b0675fa",
   "metadata": {},
   "outputs": [],
   "source": []
  },
  {
   "cell_type": "markdown",
   "id": "1111d7b1",
   "metadata": {},
   "source": [
    "# day 295"
   ]
  },
  {
   "cell_type": "markdown",
   "id": "e47f9758",
   "metadata": {},
   "source": [
    "# shortcut to find the eigen values of any 2x2 matrix:\n",
    "\n",
    "![sfsfs](images/250124_linear.png)\n",
    "![sfsfs](images/250124_linear1.png)\n",
    "\n",
    "## notes:\n",
    "* it only works for 2x2 matrix.\n",
    "* forget it just find the eigen values in the usual way.\n"
   ]
  },
  {
   "cell_type": "markdown",
   "id": "3641a294",
   "metadata": {},
   "source": [
    "# day 299"
   ]
  },
  {
   "cell_type": "code",
   "execution_count": 2,
   "id": "9b5f05ce",
   "metadata": {},
   "outputs": [],
   "source": [
    "import numpy as np\n",
    "import sympy as sym\n",
    "from IPython.display import display,Math\n",
    "sym.init_printing()\n",
    "import matplotlib.pyplot as plt"
   ]
  },
  {
   "cell_type": "markdown",
   "id": "c80016ba",
   "metadata": {},
   "source": [
    "# code challenge: \n",
    "\n",
    "## goals:\n",
    "1. Generate a diagonal matrix of size (2x2) and compute its eigen values.\n",
    "2. Generate NxN diagonal matrix and compute its eigen values.\n",
    "3. Generate a Triangular matrix (lower and upper) and compute its eigen values."
   ]
  },
  {
   "cell_type": "code",
   "execution_count": 20,
   "id": "05d35006",
   "metadata": {},
   "outputs": [
    {
     "name": "stdout",
     "output_type": "stream",
     "text": [
      "2x2 diagonal matrix is: \n"
     ]
    },
    {
     "data": {
      "text/latex": [
       "$\\displaystyle \\left[\\begin{matrix}5 & 0\\\\0 & 7\\end{matrix}\\right]$"
      ],
      "text/plain": [
       "⎡5  0⎤\n",
       "⎢    ⎥\n",
       "⎣0  7⎦"
      ]
     },
     "metadata": {},
     "output_type": "display_data"
    },
    {
     "name": "stdout",
     "output_type": "stream",
     "text": [
      "Eigen values of 2x2 diagonal matrix is: \n"
     ]
    },
    {
     "data": {
      "text/plain": [
       "array([5., 7.])"
      ]
     },
     "metadata": {},
     "output_type": "display_data"
    }
   ],
   "source": [
    "# 1. Generate a diagonal matrix of size (2x2) and compute its eigen values.\n",
    "\n",
    "diag_22 = np.diag((np.random.randint(low=1,high=9,size=2)))\n",
    "\n",
    "print(\"2x2 diagonal matrix is: \")\n",
    "display(sym.Matrix(diag_22))\n",
    "\n",
    "print(\"Eigen values of 2x2 diagonal matrix is: \")\n",
    "eig_vals, eig_vectors = np.linalg.eig(diag_22)\n",
    "display(eig_vals)"
   ]
  },
  {
   "cell_type": "code",
   "execution_count": 23,
   "id": "dd2e3678",
   "metadata": {},
   "outputs": [
    {
     "name": "stdout",
     "output_type": "stream",
     "text": [
      "3 x 3 diagonal matrix: \n"
     ]
    },
    {
     "data": {
      "text/latex": [
       "$\\displaystyle \\left[\\begin{matrix}5 & 0 & 0\\\\0 & 4 & 0\\\\0 & 0 & 8\\end{matrix}\\right]$"
      ],
      "text/plain": [
       "⎡5  0  0⎤\n",
       "⎢       ⎥\n",
       "⎢0  4  0⎥\n",
       "⎢       ⎥\n",
       "⎣0  0  8⎦"
      ]
     },
     "metadata": {},
     "output_type": "display_data"
    },
    {
     "name": "stdout",
     "output_type": "stream",
     "text": [
      "Eigen values of 3 x 3 matrix is: \n"
     ]
    },
    {
     "data": {
      "text/plain": [
       "array([5., 4., 8.])"
      ]
     },
     "metadata": {},
     "output_type": "display_data"
    }
   ],
   "source": [
    "# 2. Generate NxN diagonal matrix and compute its eigen values.\n",
    "n = 3\n",
    "diag_nn = np.diag((np.random.randint(low=1,high=9,size=(n))))\n",
    "\n",
    "print('%s x %s diagonal matrix: '%(n,n))\n",
    "display(sym.Matrix(diag_nn))\n",
    "\n",
    "eig_vals, eig_vectors = np.linalg.eig(diag_nn)\n",
    "print('Eigen values of %s x %s matrix is: '%(n,n))\n",
    "display(eig_vals)"
   ]
  },
  {
   "cell_type": "code",
   "execution_count": 26,
   "id": "81f5ddaf",
   "metadata": {},
   "outputs": [
    {
     "name": "stdout",
     "output_type": "stream",
     "text": [
      "3 x 3 Upper Triangular matrix is: \n"
     ]
    },
    {
     "data": {
      "text/latex": [
       "$\\displaystyle \\left[\\begin{matrix}7 & 3 & 4\\\\0 & 3 & 4\\\\0 & 0 & 4\\end{matrix}\\right]$"
      ],
      "text/plain": [
       "⎡7  3  4⎤\n",
       "⎢       ⎥\n",
       "⎢0  3  4⎥\n",
       "⎢       ⎥\n",
       "⎣0  0  4⎦"
      ]
     },
     "metadata": {},
     "output_type": "display_data"
    },
    {
     "name": "stdout",
     "output_type": "stream",
     "text": [
      "Eigen values of Upper Triangular matrix is: \n"
     ]
    },
    {
     "data": {
      "text/plain": [
       "array([7., 3., 4.])"
      ]
     },
     "metadata": {},
     "output_type": "display_data"
    },
    {
     "name": "stdout",
     "output_type": "stream",
     "text": [
      "3 x 3 Lower Triangular matrix is: \n"
     ]
    },
    {
     "data": {
      "text/latex": [
       "$\\displaystyle \\left[\\begin{matrix}8 & 0 & 0\\\\8 & 1 & 0\\\\8 & 1 & 8\\end{matrix}\\right]$"
      ],
      "text/plain": [
       "⎡8  0  0⎤\n",
       "⎢       ⎥\n",
       "⎢8  1  0⎥\n",
       "⎢       ⎥\n",
       "⎣8  1  8⎦"
      ]
     },
     "metadata": {},
     "output_type": "display_data"
    },
    {
     "name": "stdout",
     "output_type": "stream",
     "text": [
      "Eigen values of Lower Triangular matrix is: \n"
     ]
    },
    {
     "data": {
      "text/plain": [
       "array([8., 1., 8.])"
      ]
     },
     "metadata": {},
     "output_type": "display_data"
    }
   ],
   "source": [
    "# 3. Generate a Triangular matrix (lower and upper) and compute its eigen values.\n",
    "\n",
    "n = 3\n",
    "upper_triangular = np.triu(np.random.randint(low=1,high=9,size=n))\n",
    "lower_triangular = np.tril(np.random.randint(low=1,high=9,size=n))\n",
    "\n",
    "print('%s x %s Upper Triangular matrix is: '%(n,n))\n",
    "display(sym.Matrix(upper_triangular))\n",
    "\n",
    "print('Eigen values of Upper Triangular matrix is: ')\n",
    "eig_values, eig_vectors = np.linalg.eig(upper_triangular)\n",
    "display(eig_values)\n",
    "\n",
    "print('%s x %s Lower Triangular matrix is: '%(n,n))\n",
    "display(sym.Matrix(lower_triangular))\n",
    "\n",
    "print('Eigen values of Lower Triangular matrix is: ')\n",
    "eig_values, eig_vectors = np.linalg.eig(lower_triangular)\n",
    "display(eig_values)\n",
    "\n"
   ]
  },
  {
   "cell_type": "markdown",
   "id": "f10b80ec",
   "metadata": {},
   "source": [
    "# conclusion:\n",
    "\n",
    "* **the Eigen values for diagonal,upper and lower triangular matrices of size of 3*3 are exactly their diagonal elements.**"
   ]
  },
  {
   "cell_type": "code",
   "execution_count": null,
   "id": "088d4264",
   "metadata": {},
   "outputs": [],
   "source": []
  },
  {
   "cell_type": "markdown",
   "id": "e4276fe9",
   "metadata": {},
   "source": [
    "# exploration,analysis and freethrows"
   ]
  },
  {
   "cell_type": "code",
   "execution_count": 36,
   "id": "dc4a6fb0",
   "metadata": {},
   "outputs": [
    {
     "name": "stdout",
     "output_type": "stream",
     "text": [
      "[[5 2 7 8 5 3 5 3 2 3]\n",
      " [4 7 2 8 5 7 4 5 3 3]\n",
      " [2 5 5 3 5 6 2 4 2 5]\n",
      " [4 7 1 3 7 8 6 5 8 4]\n",
      " [1 8 5 6 6 4 7 6 4 7]\n",
      " [7 6 6 5 3 1 2 1 2 4]\n",
      " [8 8 8 7 5 6 2 6 2 7]\n",
      " [2 1 7 6 1 7 5 6 5 5]\n",
      " [6 3 2 2 4 5 4 2 6 4]\n",
      " [3 4 5 3 6 7 7 6 6 8]]\n",
      " \n",
      "[47.17475546+0.j          5.66231094+0.j          2.28259993+4.64522718j\n",
      "  2.28259993-4.64522718j -5.17894121+0.j         -3.12811793+0.91777047j\n",
      " -3.12811793-0.91777047j  0.960209  +1.6691742j   0.960209  -1.6691742j\n",
      "  1.11249283+0.j        ]\n"
     ]
    }
   ],
   "source": [
    "# check whether the eigen values of any matrix with random numbers are its diagonals\n",
    "\n",
    "test = np.random.randint(1,9,(10,10))\n",
    "\n",
    "print(test)\n",
    "print(' ')\n",
    "eig_vals, eig_vectors = np.linalg.eig(test)\n",
    "\n",
    "print(eig_vals)\n",
    "\n",
    "\n",
    "# conclusion: No it is not!!!"
   ]
  },
  {
   "cell_type": "code",
   "execution_count": null,
   "id": "778a4cac",
   "metadata": {},
   "outputs": [],
   "source": []
  },
  {
   "cell_type": "markdown",
   "id": "1e83e643",
   "metadata": {},
   "source": [
    "# code challenge: eigen values of random matrices:\n",
    "\n",
    "## goals:\n",
    "1. create a large 40x40 matrix filled with random numbers and find its eigen values and plot it.\n",
    "2. generate a lots and lots of 40x40 matrices filled with random numbers and find their eigen values and put them all in the same plot and observe the emerging pattern."
   ]
  },
  {
   "cell_type": "code",
   "execution_count": 32,
   "id": "3c8d3ba3",
   "metadata": {},
   "outputs": [
    {
     "data": {
      "image/png": "[encoded data removed]",
      "text/plain": [
       "<Figure size 900x600 with 1 Axes>"
      ]
     },
     "metadata": {
      "needs_background": "light"
     },
     "output_type": "display_data"
    }
   ],
   "source": [
    "# 1. create a large 40x40 matrix filled with random numbers and find its eigen values and plot it.\n",
    "mat = np.random.rand(40,40)\n",
    "\n",
    "eigen_values, eigen_vectors = np.linalg.eig(mat)\n",
    "\n",
    "# plotting \n",
    "plt.figure(dpi=150)\n",
    "plt.imshow(mat)\n",
    "plt.show()"
   ]
  },
  {
   "cell_type": "code",
   "execution_count": 34,
   "id": "ba5bfedd",
   "metadata": {},
   "outputs": [
    {
     "data": {
      "image/png": "[encoded data removed]",
      "text/plain": [
       "<Figure size 900x600 with 1 Axes>"
      ]
     },
     "metadata": {
      "needs_background": "light"
     },
     "output_type": "display_data"
    }
   ],
   "source": [
    "plt.figure(dpi=150)\n",
    "plt.plot(np.real(eigen_values),np.imag(eigen_values),'s')\n",
    "\n",
    "plt.show()"
   ]
  },
  {
   "cell_type": "code",
   "execution_count": 30,
   "id": "0532007e",
   "metadata": {},
   "outputs": [
    {
     "data": {
      "image/png": "[encoded data removed]",
      "text/plain": [
       "<Figure size 900x600 with 1 Axes>"
      ]
     },
     "metadata": {
      "needs_background": "light"
     },
     "output_type": "display_data"
    }
   ],
   "source": [
    "\"\"\"\n",
    "# goal\n",
    "2. generate a lots and lots of 40x40 matrices filled with random numbers and find their eigen values and put them all\n",
    "in the same plot and observe the emerging pattern. \n",
    "\n",
    "\n",
    "\"\"\"\n",
    "\n",
    "n_iter = 200\n",
    "matrix_size = 40\n",
    "\n",
    "\n",
    "plt.figure(dpi=150)\n",
    "for i in range(n_iter):\n",
    "    mat = np.random.randn(matrix_size,matrix_size)\n",
    "    eigen_values,eigen_vectors = np.linalg.eig(mat)\n",
    "    \n",
    "    plt.plot(np.real(eigen_values),np.imag(eigen_values),'s',markersize=1)\n",
    "    \n",
    "plt.xlabel('Real part')\n",
    "plt.ylabel('Imaginary part')\n",
    "plt.axis('square')\n",
    "plt.show()"
   ]
  },
  {
   "cell_type": "markdown",
   "id": "cd0322d8",
   "metadata": {},
   "source": [
    "### the central straight line indicates that those eigen values have +0j or in other words 0 imaginary part in the centre of the circle."
   ]
  },
  {
   "cell_type": "code",
   "execution_count": 31,
   "id": "8824cbfa",
   "metadata": {},
   "outputs": [
    {
     "data": {
      "image/png": "[encoded data removed]",
      "text/plain": [
       "<Figure size 900x600 with 1 Axes>"
      ]
     },
     "metadata": {
      "needs_background": "light"
     },
     "output_type": "display_data"
    }
   ],
   "source": [
    "# getting a unit circle by normalizing the eigen values\n",
    "\n",
    "n_iter = 200\n",
    "matrix_size = 40\n",
    "\n",
    "\n",
    "plt.figure(dpi=150)\n",
    "for i in range(n_iter):\n",
    "    mat = np.random.randn(matrix_size,matrix_size)\n",
    "    eigen_values,eigen_vectors = np.linalg.eig(mat)\n",
    "    \n",
    "    plt.plot(np.real(eigen_values)/np.sqrt(matrix_size),np.imag(eigen_values)/np.sqrt(matrix_size),'s',markersize=1)\n",
    "    \n",
    "plt.xlabel('Real part')\n",
    "plt.ylabel('Imaginary part')\n",
    "plt.axis('square')\n",
    "plt.show()\n"
   ]
  },
  {
   "cell_type": "markdown",
   "id": "e38d216e",
   "metadata": {},
   "source": [
    "### notice the values of the circle ranges between -1 and 1? it is because we have normalized the eigen_values to range between those points."
   ]
  },
  {
   "cell_type": "code",
   "execution_count": null,
   "id": "2322c791",
   "metadata": {},
   "outputs": [],
   "source": []
  },
  {
   "cell_type": "markdown",
   "id": "0fa7c944",
   "metadata": {},
   "source": [
    "# day 299,day 302,day 303,day 311"
   ]
  },
  {
   "cell_type": "code",
   "execution_count": 2,
   "id": "ad3438e3",
   "metadata": {},
   "outputs": [],
   "source": [
    "import numpy as np\n",
    "import sympy as sym\n",
    "from IPython.display import display,Math\n",
    "sym.init_printing()\n",
    "import matplotlib.pyplot as plt"
   ]
  },
  {
   "cell_type": "markdown",
   "id": "897e3f45",
   "metadata": {},
   "source": [
    "# finding Eigen Vectors\n",
    "\n",
    "\n",
    "## goals:\n",
    "* know how to find the eigen vectors once you have the eigen values.\n",
    "* see the connection between eigen vectors and null space.\n",
    "* understand why eigen vectors sometimes have sign ambiguities.\n",
    "\n",
    "## lock and keys:\n",
    "![fsfs](images/290124_linear.png)\n",
    "\n",
    "## notes:\n",
    "* eigen vectors are locked inside the matrix, they are encrypted inside the matrix.\n",
    "* eigen values are the keys.\n",
    "* each eigen value unlocks a eigen vector from the matrix. so, each eigen value decrypts a corresponding eigen vector from the matrix.\n",
    "\n",
    "## procedure to unlock the eigen vector:\n",
    "![fsfs](images/290124_linear1.png)\n",
    "\n",
    "## notes:\n",
    "* find the eigen values.\n",
    "* eigen vectors are in the null space of (A-eigenvalues x I) that means they are in A-eigenvalues x I = 0\n",
    "* eigen vectors are in the null space of the characteristic equation with eigen values substituted in them.\n",
    "![sfsfs](images/290124_linear2.png)\n",
    "![fsfs](images/290124_linear3.png)\n",
    "![fsfs](images/290124_linear4.png)\n",
    "![fsfs](images/290124_linear5.png)\n",
    "![fsfs](images/290124_linear6.png)\n",
    "![fsfs](images/290124_linear7.png)\n",
    "\n",
    "\n",
    "## notes:\n",
    "* eigen vectors are the basis vectors for a subspace so, the values in them do not matter because [1,-1],[-1,1],[3,-3],[pi,-pi] are all in the same subspace, the basis vector [1,-1] can span to produce any other number combination in its subspace.\n",
    "* matlab and python just normalizes the basis vector and show only the normalized version for the eigen vectors.\n",
    "\n",
    "## Reason for sign ambiguity:\n",
    "![fsfs](images/290124_linear7.png)\n",
    "\n",
    "* since eigen vectors are basis vectors they can take on the values of any number combination that are in the same subspace. so, it may be in the positive direction and sometimes be in the negative direction hence the sign ambiguity.\n",
    "\n",
    "\n"
   ]
  },
  {
   "cell_type": "code",
   "execution_count": 5,
   "id": "c0b1f21f",
   "metadata": {},
   "outputs": [
    {
     "name": "stdout",
     "output_type": "stream",
     "text": [
      "Eigen values are: \n"
     ]
    },
    {
     "data": {
      "text/plain": [
       "array([ 3., -1.])"
      ]
     },
     "metadata": {},
     "output_type": "display_data"
    },
    {
     "name": "stdout",
     "output_type": "stream",
     "text": [
      "Eigen vectors are: \n"
     ]
    },
    {
     "data": {
      "text/plain": [
       "array([[ 0.70710678, -0.70710678],\n",
       "       [ 0.70710678,  0.70710678]])"
      ]
     },
     "metadata": {},
     "output_type": "display_data"
    }
   ],
   "source": [
    "# get the eigen vectors and eigen values \n",
    "A = np.array([[1,2],\n",
    "              [2,1]])\n",
    "\n",
    "eigen_values, eigen_vectors = np.linalg.eig(A)\n",
    "\n",
    "print('Eigen values are: ')\n",
    "display(eigen_values)\n",
    "\n",
    "print('Eigen vectors are: ')\n",
    "display(eigen_vectors)\n",
    "\n",
    "\n",
    "# conclusion: These eigen vectors are normalized."
   ]
  },
  {
   "cell_type": "code",
   "execution_count": null,
   "id": "a33e078e",
   "metadata": {},
   "outputs": [],
   "source": []
  },
  {
   "cell_type": "code",
   "execution_count": 6,
   "id": "dab0d174",
   "metadata": {},
   "outputs": [
    {
     "name": "stdout",
     "output_type": "stream",
     "text": [
      "Eigen values are: \n"
     ]
    },
    {
     "data": {
      "text/plain": [
       "array([2., 7.])"
      ]
     },
     "metadata": {},
     "output_type": "display_data"
    },
    {
     "name": "stdout",
     "output_type": "stream",
     "text": [
      "Eigen vectors are: \n"
     ]
    },
    {
     "data": {
      "text/plain": [
       "array([[-0.70710678, -0.24253563],\n",
       "       [ 0.70710678, -0.9701425 ]])"
      ]
     },
     "metadata": {},
     "output_type": "display_data"
    }
   ],
   "source": [
    "# Eigen decomposition: practice\n",
    "\n",
    "A = np.array([[3,1],\n",
    "              [4,6]])\n",
    "\n",
    "eigen_values, eigen_vectors = np.linalg.eig(A)\n",
    "\n",
    "print('Eigen values are: ')\n",
    "display(eigen_values)\n",
    "\n",
    "print('Eigen vectors are: ')\n",
    "display(eigen_vectors)\n"
   ]
  },
  {
   "cell_type": "code",
   "execution_count": 3,
   "id": "d3f7ff23",
   "metadata": {},
   "outputs": [
    {
     "name": "stdout",
     "output_type": "stream",
     "text": [
      "Eigen values are: \n"
     ]
    },
    {
     "data": {
      "text/plain": [
       "array([ 1.10000000e+01, -1.00000000e+00, -2.91458075e-16])"
      ]
     },
     "metadata": {},
     "output_type": "display_data"
    },
    {
     "name": "stdout",
     "output_type": "stream",
     "text": [
      "Eigen vectors are: \n"
     ]
    },
    {
     "data": {
      "text/plain": [
       "array([[ 3.28859532e-01,  7.07106781e-01, -5.77350269e-01],\n",
       "       [ 7.09644254e-01, -7.07106781e-01, -5.77350269e-01],\n",
       "       [ 6.23102272e-01,  9.17440854e-17,  5.77350269e-01]])"
      ]
     },
     "metadata": {},
     "output_type": "display_data"
    }
   ],
   "source": [
    "# Eigen decomposition: practice\n",
    "\n",
    "A = np.array([[1,2,3],\n",
    "              [4,3,7],\n",
    "              [3,3,6]])\n",
    "\n",
    "eigen_values, eigen_vectors = np.linalg.eig(A)\n",
    "\n",
    "print('Eigen values are: ')\n",
    "display(eigen_values)\n",
    "\n",
    "print('Eigen vectors are: ')\n",
    "display(eigen_vectors)\n"
   ]
  },
  {
   "cell_type": "code",
   "execution_count": null,
   "id": "20079721",
   "metadata": {},
   "outputs": [],
   "source": []
  },
  {
   "cell_type": "markdown",
   "id": "391fedf3",
   "metadata": {},
   "source": [
    "# day 311"
   ]
  },
  {
   "cell_type": "markdown",
   "id": "97ae802d",
   "metadata": {},
   "source": [
    "# Diagonalization\n",
    "\n",
    "\n",
    "## how to diagonalize a invertible square matrix?\n",
    "![sfsdfs](images/160224_lin.png)\n",
    "![sfsdfs](images/160224_lin1.png)\n",
    "\n",
    "* eigen decomposition is diagonalization only.\n",
    "* in the equation A is the original matrix\n",
    "* V: eigen_vector\n",
    "* lambda: eigen_values\n",
    "* V_inverse: inverse of eigen_vector\n",
    "* important: **Eigen vectors are themselves are in columns of V not in the rows of V** this is why we do right multiplication of np.diag(eigen_values) to the eigen_vectors not left multiply. if they were in rows we could have left multiplied."
   ]
  },
  {
   "cell_type": "code",
   "execution_count": 20,
   "id": "16f39ead",
   "metadata": {},
   "outputs": [
    {
     "data": {
      "image/png": "[encoded data removed]",
      "text/plain": [
       "<Figure size 900x600 with 2 Axes>"
      ]
     },
     "metadata": {
      "needs_background": "light"
     },
     "output_type": "display_data"
    },
    {
     "data": {
      "image/png": "[encoded data removed]",
      "text/latex": [
       "$\\displaystyle 1.6962115120238 \\cdot 10^{-13}$"
      ],
      "text/plain": [
       "1.6962115120238025e-13"
      ]
     },
     "metadata": {},
     "output_type": "display_data"
    }
   ],
   "source": [
    "# code demonstration:\n",
    "\n",
    "# Eigen decomposition of A\n",
    "\n",
    "## make a symmetric matrix\n",
    "A = np.round(10*np.random.randn(4,4))\n",
    "A = A.T@A\n",
    "\n",
    "## eigen decomposition\n",
    "eigen_values, eigen_vectors = np.linalg.eig(A)\n",
    "\n",
    "## test reconstruction: A = eigen_vector@diag(eigen_values)@(eigen_vector)^{-1}\n",
    "A_test = eigen_vectors @ np.diag(eigen_values) @ np.linalg.inv(eigen_vectors)\n",
    "\n",
    "# plot A and A_test\n",
    "fig,ax = plt.subplots(1,2,dpi=150)\n",
    "\n",
    "ax[0].imshow(A)\n",
    "ax[0].set_title('A matrix')\n",
    "\n",
    "ax[1].imshow(A_test)\n",
    "ax[1].set_title('$ V \\\\Lambda V^{-1} $')\n",
    "\n",
    "plt.show()\n",
    "\n",
    "## subtract A - A_test\n",
    "diff = A - A_test\n",
    "diff\n",
    "\n",
    "\n",
    "## root mean squared error: note the numerical inaccuracies(it is not exaclty zero) \n",
    "'''\n",
    "the source of this inaccuracy: the rmsA not being exactly = 0 is due to np.linalg.inv() object.\n",
    "'''\n",
    "rmsA = np.sqrt(np.mean(np.reshape(diff,(1,-1))**2))\n",
    "\n",
    "display(rmsA)"
   ]
  },
  {
   "cell_type": "markdown",
   "id": "ab786772",
   "metadata": {},
   "source": [
    "# exploration, analysis and freethrows"
   ]
  },
  {
   "cell_type": "code",
   "execution_count": 11,
   "id": "ee4fbfa7",
   "metadata": {},
   "outputs": [
    {
     "data": {
      "text/plain": [
       "array([[ 5.68434189e-13, -2.84217094e-13,  1.70530257e-13,\n",
       "         0.00000000e+00],\n",
       "       [-2.84217094e-14, -5.68434189e-14,  2.84217094e-13,\n",
       "         3.12638804e-13],\n",
       "       [ 3.41060513e-13,  1.13686838e-13, -2.27373675e-13,\n",
       "         2.27373675e-13],\n",
       "       [ 6.82121026e-13, -8.52651283e-14,  5.11590770e-13,\n",
       "         7.95807864e-13]])"
      ]
     },
     "execution_count": 11,
     "metadata": {},
     "output_type": "execute_result"
    }
   ],
   "source": [
    "diff"
   ]
  },
  {
   "cell_type": "code",
   "execution_count": 10,
   "id": "7163dd81",
   "metadata": {},
   "outputs": [
    {
     "data": {
      "text/plain": [
       "array([[ 5.68434189e-13, -2.84217094e-13,  1.70530257e-13,\n",
       "         0.00000000e+00, -2.84217094e-14, -5.68434189e-14,\n",
       "         2.84217094e-13,  3.12638804e-13,  3.41060513e-13,\n",
       "         1.13686838e-13, -2.27373675e-13,  2.27373675e-13,\n",
       "         6.82121026e-13, -8.52651283e-14,  5.11590770e-13,\n",
       "         7.95807864e-13]])"
      ]
     },
     "execution_count": 10,
     "metadata": {},
     "output_type": "execute_result"
    }
   ],
   "source": [
    "np.reshape(diff,(1,-1))"
   ]
  },
  {
   "cell_type": "code",
   "execution_count": 12,
   "id": "b2619229",
   "metadata": {},
   "outputs": [
    {
     "data": {
      "image/png": "[encoded data removed]",
      "text/latex": [
       "$\\displaystyle \\left( 4, \\  4\\right)$"
      ],
      "text/plain": [
       "(4, 4)"
      ]
     },
     "execution_count": 12,
     "metadata": {},
     "output_type": "execute_result"
    }
   ],
   "source": [
    "diff.shape"
   ]
  },
  {
   "cell_type": "code",
   "execution_count": 13,
   "id": "0869d377",
   "metadata": {},
   "outputs": [
    {
     "data": {
      "image/png": "[encoded data removed]",
      "text/latex": [
       "$\\displaystyle \\left( 1, \\  16\\right)$"
      ],
      "text/plain": [
       "(1, 16)"
      ]
     },
     "execution_count": 13,
     "metadata": {},
     "output_type": "execute_result"
    }
   ],
   "source": [
    "np.reshape(diff,(1,-1)).shape"
   ]
  },
  {
   "cell_type": "code",
   "execution_count": 14,
   "id": "57f0e7aa",
   "metadata": {},
   "outputs": [
    {
     "data": {
      "image/png": "[encoded data removed]",
      "text/latex": [
       "$\\displaystyle \\left( \\left( 2, \\  4\\right), \\  \\left( 1, \\  8\\right)\\right)$"
      ],
      "text/plain": [
       "((2, 4), (1, 8))"
      ]
     },
     "execution_count": 14,
     "metadata": {},
     "output_type": "execute_result"
    }
   ],
   "source": [
    "h = np.random.randint(1,9,(2,4))\n",
    "\n",
    "h.shape, np.reshape(h,(1,-1)).shape"
   ]
  },
  {
   "cell_type": "code",
   "execution_count": 15,
   "id": "2657ef00",
   "metadata": {},
   "outputs": [
    {
     "data": {
      "text/plain": [
       "array([[2, 5, 8, 7],\n",
       "       [4, 8, 8, 5]])"
      ]
     },
     "execution_count": 15,
     "metadata": {},
     "output_type": "execute_result"
    }
   ],
   "source": [
    "h"
   ]
  },
  {
   "cell_type": "code",
   "execution_count": 16,
   "id": "b36ee6e6",
   "metadata": {},
   "outputs": [
    {
     "data": {
      "text/plain": [
       "array([[ 4, 25, 64, 49],\n",
       "       [16, 64, 64, 25]], dtype=int32)"
      ]
     },
     "execution_count": 16,
     "metadata": {},
     "output_type": "execute_result"
    }
   ],
   "source": [
    "np.square(h)"
   ]
  },
  {
   "cell_type": "code",
   "execution_count": 23,
   "id": "d880e987",
   "metadata": {},
   "outputs": [
    {
     "data": {
      "image/png": "[encoded data removed]",
      "text/plain": [
       "<Figure size 900x600 with 4 Axes>"
      ]
     },
     "metadata": {
      "needs_background": "light"
     },
     "output_type": "display_data"
    }
   ],
   "source": [
    "# plotting them all seperately:\n",
    "fig,ax = plt.subplots(1,4,dpi=150)\n",
    "\n",
    "ax[0].imshow(A)\n",
    "ax[0].set_title('A')\n",
    "\n",
    "ax[1].imshow(eigen_vectors)\n",
    "ax[1].set_title('V')\n",
    "\n",
    "ax[2].imshow(np.diag(eigen_values))\n",
    "ax[2].set_title('$ \\\\Lambda $')\n",
    "\n",
    "ax[3].imshow(np.linalg.inv(eigen_vectors))\n",
    "ax[3].set_title('$v^{-1}$')\n",
    "\n",
    "\n",
    "plt.tight_layout(pad=2)\n",
    "plt.show()\n",
    "\n",
    "\n"
   ]
  },
  {
   "cell_type": "code",
   "execution_count": null,
   "id": "018967ce",
   "metadata": {},
   "outputs": [],
   "source": []
  },
  {
   "cell_type": "markdown",
   "id": "f317bb89",
   "metadata": {},
   "source": [
    "# day 316,day 319"
   ]
  },
  {
   "cell_type": "code",
   "execution_count": 1,
   "id": "de709dc2",
   "metadata": {},
   "outputs": [],
   "source": [
    "import numpy as np\n",
    "import sympy as sym\n",
    "from IPython.display import Math,display\n",
    "sym.init_printing()\n",
    "import matplotlib.pyplot as plt"
   ]
  },
  {
   "cell_type": "markdown",
   "id": "d3bd55e7",
   "metadata": {},
   "source": [
    "# matrix powers via Diagonalization\n",
    "\n",
    "![fsdfsdf](images/210224_linalg.png)\n",
    "![fsdfsdf](images/210224_linalg1.png)\n",
    "![fsdfsdf](images/210224_linalg2.png)\n",
    "![fsdfsdf](images/210224_linalg3.png)\n",
    "## notes:\n",
    "* v is eigen vector\n",
    "* lambda is np.diag(eigen value).\n",
    "![fsdfsdf](images/210224_linalg4.png)\n",
    "![fsdfsdf](images/210224_linalg5.png)\n",
    "\n",
    "## notes:\n",
    "* k is the matrix.\n",
    "* x is the eigen vector\n",
    "* lambda is the np.diag(eigen value)"
   ]
  },
  {
   "cell_type": "code",
   "execution_count": null,
   "id": "2d05cabd",
   "metadata": {},
   "outputs": [],
   "source": []
  },
  {
   "cell_type": "code",
   "execution_count": 3,
   "id": "fd20a79c",
   "metadata": {},
   "outputs": [
    {
     "data": {
      "text/plain": [
       "array([[-19,  40, -60],\n",
       "       [100,  41,  60],\n",
       "       [100, -40, 141]])"
      ]
     },
     "execution_count": 3,
     "metadata": {},
     "output_type": "execute_result"
    }
   ],
   "source": [
    "a = np.array([[-2,2,-3],\n",
    "              [-4,1,-6],\n",
    "              [-1,-2,0]])\n",
    "\n",
    "# multiply it 4 times\n",
    "a@a@a@a"
   ]
  },
  {
   "cell_type": "code",
   "execution_count": 4,
   "id": "bfbaf33d",
   "metadata": {},
   "outputs": [
    {
     "data": {
      "text/plain": [
       "array([[-19,  40, -60],\n",
       "       [100,  41,  60],\n",
       "       [100, -40, 141]])"
      ]
     },
     "execution_count": 4,
     "metadata": {},
     "output_type": "execute_result"
    }
   ],
   "source": [
    "# functionize the process\n",
    "\n",
    "def mat_power(a:'a matrix',n:int):\n",
    "    \n",
    "    \"\"\"\n",
    "    # Args:\n",
    "    a: is a matrix\n",
    "    n: # of times to multiply\n",
    "    \n",
    "    # objective:\n",
    "    to multiply the matrix n number of times with itself and return the result\n",
    "    \n",
    "    # Mechanism:\n",
    "    1. mult variable takes in the matrix. it is because a needs to be unchanging.\n",
    "    2. for loop iterates over times-1 times.\n",
    "    3. mult variable preserves the previous and multiply itself with matrix(a) n number of times\n",
    "    4. mult is returned\n",
    "    \n",
    "    \"\"\"\n",
    "    mult = a\n",
    "    for i in range(n-1):\n",
    "         mult = mult@a\n",
    "\n",
    "    return mult\n",
    "\n",
    "mat_power(a,4)"
   ]
  },
  {
   "cell_type": "code",
   "execution_count": 5,
   "id": "330cdff7",
   "metadata": {},
   "outputs": [
    {
     "data": {
      "text/plain": [
       "array([[-2.00000000e+00,  2.00000000e+00, -3.00000000e+00],\n",
       "       [-4.00000000e+00,  1.00000000e+00, -6.00000000e+00],\n",
       "       [-1.00000000e+00, -2.00000000e+00, -8.46646902e-16]])"
      ]
     },
     "execution_count": 5,
     "metadata": {},
     "output_type": "execute_result"
    }
   ],
   "source": [
    "# prove: A = v lambda inverse(v)\n",
    "\n",
    "A = np.array([[-2,2,-3],\n",
    "              [-4,1,-6],\n",
    "              [-1,-2,0]])\n",
    "\n",
    "eigen_value,eigen_vector = np.linalg.eig(A)\n",
    "\n",
    "eigen_vector@np.diag(eigen_value)@np.linalg.inv(eigen_vector)\n"
   ]
  },
  {
   "cell_type": "code",
   "execution_count": 6,
   "id": "22bd406e",
   "metadata": {},
   "outputs": [
    {
     "data": {
      "text/plain": [
       "array([[-19,  40, -60],\n",
       "       [100,  41,  60],\n",
       "       [100, -40, 141]])"
      ]
     },
     "execution_count": 6,
     "metadata": {},
     "output_type": "execute_result"
    }
   ],
   "source": [
    "# prove A^4 = v @ (lambda^4) @ inv(v)\n",
    "\n",
    "mat_power(A,4)"
   ]
  },
  {
   "cell_type": "code",
   "execution_count": 7,
   "id": "47df3fe2",
   "metadata": {},
   "outputs": [
    {
     "data": {
      "text/plain": [
       "array([[-19,  40, -60],\n",
       "       [100,  41,  60],\n",
       "       [100, -40, 141]])"
      ]
     },
     "execution_count": 7,
     "metadata": {},
     "output_type": "execute_result"
    }
   ],
   "source": [
    "# inbuilt function for getting it\n",
    "np.linalg.matrix_power(A,4)"
   ]
  },
  {
   "cell_type": "code",
   "execution_count": 8,
   "id": "6a0ca35d",
   "metadata": {},
   "outputs": [
    {
     "data": {
      "text/plain": [
       "array([[-19.,  40., -60.],\n",
       "       [100.,  41.,  60.],\n",
       "       [100., -40., 141.]])"
      ]
     },
     "execution_count": 8,
     "metadata": {},
     "output_type": "execute_result"
    }
   ],
   "source": [
    "# our diagnalization technique to get it:\n",
    "eigen_vector @ np.diag(eigen_value**4) @ np.linalg.inv(eigen_vector)"
   ]
  },
  {
   "cell_type": "code",
   "execution_count": null,
   "id": "3bf06f79",
   "metadata": {},
   "outputs": [],
   "source": []
  },
  {
   "cell_type": "markdown",
   "id": "b1894b07",
   "metadata": {},
   "source": [
    "# code challenge:\n",
    "\n",
    "![fsfsf](images/270224_linear.png)\n",
    "\n",
    "## notes:\n",
    "* where v is the eigen vector, and lambda is eigen values.\n"
   ]
  },
  {
   "cell_type": "code",
   "execution_count": 130,
   "id": "ca4374a5",
   "metadata": {},
   "outputs": [],
   "source": [
    "# claim 1: (A-B)@v = lambda @ v\n",
    "\n",
    "A = np.random.rand(3,3)\n",
    "# A = A.T@A # take the symmetric version of the matrices to avoid seeing complex numbers showing up in the matrices.\n",
    "B = np.random.rand(3,3)\n",
    "# B = B.T@B\n",
    "\n",
    "eigen_values1, eigen_vectors1 = np.linalg.eig(A-B)\n",
    "\n",
    "lhs1 = (A-B) @ eigen_vectors1\n",
    "rhs1 = np.diag(eigen_values1) @ eigen_vectors1\n",
    "\n",
    "# claim 2: (A^2 -AB -BA +B^2)@v = lambda^2 @ v\n",
    "\n",
    "eigen_values2, eigen_vectors2 = np.linalg.eig(A@A -(A@B)-(B@A)+B@B)\n",
    "\n",
    "lhs2 = (A@A -(A@B)-(B@A)+ B@B) @ eigen_vectors2\n",
    "rhs2 = np.diag(eigen_values2**2) @ eigen_vectors2\n",
    "\n"
   ]
  },
  {
   "cell_type": "markdown",
   "id": "3e359e4e",
   "metadata": {},
   "source": [
    "# exploration, analysis and freethrows"
   ]
  },
  {
   "cell_type": "code",
   "execution_count": 131,
   "id": "6c937e7a",
   "metadata": {},
   "outputs": [
    {
     "data": {
      "text/plain": [
       "array([[ 0.23834949,  0.55275435, -0.03968904],\n",
       "       [-0.64784962,  0.21389884, -0.02699018],\n",
       "       [ 0.37480229,  0.52644908, -0.17243219]])"
      ]
     },
     "execution_count": 131,
     "metadata": {},
     "output_type": "execute_result"
    }
   ],
   "source": [
    "lhs1"
   ]
  },
  {
   "cell_type": "code",
   "execution_count": 132,
   "id": "717849c4",
   "metadata": {},
   "outputs": [
    {
     "data": {
      "text/plain": [
       "array([[ 0.23834949, -0.54769907,  0.1741763 ],\n",
       "       [ 0.65382929,  0.21389884, -0.11954031],\n",
       "       [-0.0854051 ,  0.1188633 , -0.17243219]])"
      ]
     },
     "execution_count": 132,
     "metadata": {},
     "output_type": "execute_result"
    }
   ],
   "source": [
    "rhs1"
   ]
  },
  {
   "cell_type": "markdown",
   "id": "720cade9",
   "metadata": {},
   "source": [
    "# conclusion: only the diagonal elements match"
   ]
  },
  {
   "cell_type": "code",
   "execution_count": 133,
   "id": "7f8d035c",
   "metadata": {},
   "outputs": [
    {
     "data": {
      "text/plain": [
       "array([[ 0.00710385,  0.43819119,  0.18722142],\n",
       "       [ 0.00483091,  0.16956644, -0.50888015],\n",
       "       [ 0.03086322,  0.41733791,  0.29440389]])"
      ]
     },
     "execution_count": 133,
     "metadata": {},
     "output_type": "execute_result"
    }
   ],
   "source": [
    "lhs2"
   ]
  },
  {
   "cell_type": "code",
   "execution_count": 135,
   "id": "2b2097dc",
   "metadata": {},
   "outputs": [
    {
     "data": {
      "text/plain": [
       "array([[ 2.27582697e-04,  7.15635994e-04,  3.11432827e-04],\n",
       "       [ 5.95537059e-02,  1.06562114e-01, -3.25730761e-01],\n",
       "       [ 3.66742032e-01,  2.52807595e-01,  1.81646131e-01]])"
      ]
     },
     "execution_count": 135,
     "metadata": {},
     "output_type": "execute_result"
    }
   ],
   "source": [
    "rhs2"
   ]
  },
  {
   "cell_type": "markdown",
   "id": "2a5f4411",
   "metadata": {},
   "source": [
    "# conclusion: nothing matches here"
   ]
  },
  {
   "cell_type": "code",
   "execution_count": 136,
   "id": "275a38e8",
   "metadata": {},
   "outputs": [
    {
     "data": {
      "text/plain": [
       "array([[0.61699637, 0.        , 0.        ],\n",
       "       [0.        , 0.62843872, 0.        ],\n",
       "       [0.        , 0.        , 0.03203655]])"
      ]
     },
     "execution_count": 136,
     "metadata": {},
     "output_type": "execute_result"
    }
   ],
   "source": [
    "np.diag(eigen_values1**2)"
   ]
  },
  {
   "cell_type": "code",
   "execution_count": 137,
   "id": "e74731e2",
   "metadata": {},
   "outputs": [
    {
     "data": {
      "text/plain": [
       "array([[0.03203655, 0.        , 0.        ],\n",
       "       [0.        , 0.62843872, 0.        ],\n",
       "       [0.        , 0.        , 0.61699637]])"
      ]
     },
     "execution_count": 137,
     "metadata": {},
     "output_type": "execute_result"
    }
   ],
   "source": [
    "np.diag(eigen_values2)"
   ]
  },
  {
   "cell_type": "markdown",
   "id": "3e97cb7b",
   "metadata": {},
   "source": [
    "# conclusion: \n",
    "* if you square the eigen_values1 then you'd get the same eigen_values2 but only the order is haphazardous."
   ]
  },
  {
   "cell_type": "code",
   "execution_count": 138,
   "id": "ffb79d68",
   "metadata": {},
   "outputs": [
    {
     "data": {
      "text/plain": [
       "(array([2, 0, 1], dtype=int64), array([0, 2, 1], dtype=int64))"
      ]
     },
     "execution_count": 138,
     "metadata": {},
     "output_type": "execute_result"
    }
   ],
   "source": [
    "# now sort the eigen values by their index such that 1 and 2 are equal\n",
    "sidx1 = np.argsort(np.abs(eigen_values1))\n",
    "sidx2 = np.argsort(np.abs(eigen_values2))\n",
    "\n",
    "sidx1,sidx2"
   ]
  },
  {
   "cell_type": "code",
   "execution_count": 139,
   "id": "62464e40",
   "metadata": {},
   "outputs": [
    {
     "data": {
      "text/plain": [
       "(array([0.03203655, 0.61699637, 0.62843872]),\n",
       " array([0.03203655, 0.61699637, 0.62843872]))"
      ]
     },
     "execution_count": 139,
     "metadata": {},
     "output_type": "execute_result"
    }
   ],
   "source": [
    "# now sort the eigen values based on their indices(sidx1,sidx2)\n",
    "eigen_values1 = eigen_values1[sidx1]\n",
    "eigen_values2 = eigen_values2[sidx2]\n",
    "eigen_values1**2, eigen_values2"
   ]
  },
  {
   "cell_type": "code",
   "execution_count": 140,
   "id": "7f845805",
   "metadata": {},
   "outputs": [
    {
     "data": {
      "text/plain": [
       "array([[ 0.2217419 ,  0.30344006, -0.69726956],\n",
       "       [ 0.1507936 , -0.82477009, -0.26982175],\n",
       "       [ 0.96337522,  0.4771566 , -0.66408688]])"
      ]
     },
     "metadata": {},
     "output_type": "display_data"
    },
    {
     "name": "stdout",
     "output_type": "stream",
     "text": [
      "___________\n"
     ]
    },
    {
     "data": {
      "text/plain": [
       "array([[ 0.2217419 ,  0.30344006,  0.69726956],\n",
       "       [ 0.1507936 , -0.82477009,  0.26982175],\n",
       "       [ 0.96337522,  0.4771566 ,  0.66408688]])"
      ]
     },
     "metadata": {},
     "output_type": "display_data"
    }
   ],
   "source": [
    "# now get the corresponding eigen_vectors based on sidx1,sidx2\n",
    "display(eigen_vectors1[:,sidx1]),\n",
    "print('___________')\n",
    "display(eigen_vectors2[:,sidx2])"
   ]
  },
  {
   "cell_type": "markdown",
   "id": "c996becb",
   "metadata": {},
   "source": [
    "# conclusion: \n",
    "* it is like rotating the rubik's cube left and right to get the colors right: when the order is right the values are right.\n",
    "* **we are flipping the columns of the eigen vector in correspondance with the sorted values of the eigen values, in other words, rotating the rubik's cube's columns up and down in correspondance with the sorted values of the answer key(eigen values) to get the final output(finished, un-haphazardous, ordered colored cube).**\n",
    "* the signs are different because the eigen_vectors have this inherent sign uncertainty within them since they span the space on both negative and positive realm of axes"
   ]
  },
  {
   "cell_type": "code",
   "execution_count": null,
   "id": "7afe54b5",
   "metadata": {},
   "outputs": [],
   "source": []
  },
  {
   "cell_type": "markdown",
   "id": "baec617e",
   "metadata": {},
   "source": [
    "# day 319"
   ]
  },
  {
   "cell_type": "code",
   "execution_count": 141,
   "id": "ec28b5e8",
   "metadata": {},
   "outputs": [],
   "source": [
    "import numpy as np\n",
    "import sympy as sym\n",
    "from IPython.display import display,Math\n",
    "sym.init_printing()\n",
    "import matplotlib.pyplot as plt"
   ]
  },
  {
   "cell_type": "markdown",
   "id": "ec269587",
   "metadata": {},
   "source": [
    "# prove: distinct Eigen values always lead to distinct Eigen Vectors\n",
    "\n",
    "![fsfs](images/270224_linear2.png)\n",
    "\n",
    "## notes:\n",
    "* what the above picture says is: different lambda leads to different null space of the charecteristic equation which leads to different eigen vector.\n",
    "\n",
    "![fsfs](images/270224_linear1.png)\n",
    "![fsfs](images/270224_linear3.png)\n",
    "\n",
    "## notes:\n",
    "* lambda: eigen values cannot be zero because they are assumed to be distinct.\n",
    "* eigen vectors by definition are non zero,non-trivial solutions so, they cannot be zero either\n",
    "* that leaves us with only the coefficients with which the vectors(eigen vectors) need to be scaled to get them equal other must be zero to fulfill the equation (to get zero on the rhs of the equation).\n"
   ]
  },
  {
   "cell_type": "code",
   "execution_count": null,
   "id": "4f1bd121",
   "metadata": {},
   "outputs": [],
   "source": []
  },
  {
   "cell_type": "markdown",
   "id": "344c6020",
   "metadata": {},
   "source": [
    "# day 322"
   ]
  },
  {
   "cell_type": "code",
   "execution_count": 2,
   "id": "1d53d656",
   "metadata": {},
   "outputs": [],
   "source": [
    "import numpy as np\n",
    "import sympy as sym\n",
    "from IPython.display import display,Math\n",
    "sym.init_printing()\n",
    "import matplotlib.pyplot as plt"
   ]
  },
  {
   "cell_type": "markdown",
   "id": "46e0e258",
   "metadata": {},
   "source": [
    "# what would the Eigen vectors be(distinct or duplicates) when the eigen values are all same?\n",
    "\n",
    "## problem 1: a matrix with 2 duplicated eigen values seem to create only one combination of eigen vector.\n",
    "![fsdfsdf](Images/020324_linear.png)\n",
    "![fsdfsdf](Images/020324_linear1.png)\n",
    "![fsdfsdf](Images/020324_linear2.png)\n",
    "![fsdfsdf](Images/020324_linear3.png)\n",
    "\n",
    "### notes:\n",
    "* if the eigen values are repeated then they seem to create the same eigen vector.\n",
    "* the door (eigen vector) is 1 but the keys(eigen values) are 2.\n",
    "\n",
    "## problem 2: a matrix with 1 distinct and 2 duplicated eigen values.\n",
    "\n",
    "![fsdsdf](images/020324_linear4.png)\n",
    "![fsfsf](images/020324_linear5.png)\n",
    "![fsdfsdf](images/020324_linear6.png)\n",
    "\n",
    "\n",
    "### notes:\n",
    "* now this time around we see the distinct eigen value(6) create distinct eigen vector.\n",
    "* we also see the duplicate eigen values(4) seem to open many distinct doors meaning they create many distinct eigen vectors:[1,1,0],[0,0,1],[1,1,1],[1,1,anything].\n",
    "* this shows that even duplicate eigen values are capable of creating distinct eigen vectors, not only that they seem to not just create a vector but an entire plane. The vectors [1,1,0], [0,0,1] can be used as basis vectors to span the subspace of all combinations of vectors that may come out of it.\n",
    "* powerful.\n",
    "\n",
    "## conclusion:\n",
    "![fsdfsdf](images/020324_linear7.png)\n",
    "\n",
    "### notes:\n",
    "* when you have repeated(duplicate) eigen values, there are 2 possible outcomes: \n",
    "1. they create the same eigen vector twice (as is the case with the problem1) which means they scale the same vector which means they create duplicate vectors.\n",
    "2. they create an eigen plane: they create linearly independent, distinct eigen vectors that may span the whole subspace to create a space of plane around it(as is the case with problem2).\n"
   ]
  },
  {
   "cell_type": "code",
   "execution_count": null,
   "id": "1468559c",
   "metadata": {},
   "outputs": [],
   "source": []
  },
  {
   "cell_type": "markdown",
   "id": "b5883f01",
   "metadata": {},
   "source": [
    "# Eigen decomposition with symmetric matrices: orthogonality\n",
    "\n",
    "![fsdfsdf](images/020324_linear8.png)\n",
    "\n",
    "## notes:\n",
    "* in the above equation we assumed that lambda1 != lambda2 so they cannot be 0.\n",
    "* eigen vectors by definition are non-trivial vectors meaning they must have atleast one non-zero element to get qualified as eigen_vector so they cannot be 0 either.\n",
    "* so how does it equal to 0 in the rhs unless.\n",
    "* they must be orthogonal to each other meaning (lambda1-lambda2) @ (v1.T@v2) are perpendicular or orthogonal.\n",
    "\n",
    "## example:\n",
    "![fsdfsdf](images/020324_linear9.png)\n",
    "![fsdfsdf](images/020324_linear10.png)\n",
    "![fsdfsdf](images/020324_linear11.png)\n",
    "![fsdfsdf](images/020324_linear12.png)\n",
    "\n",
    "## notes:\n",
    "* you normalize the resultant matrix to get 1 in its diagonal positions.\n",
    "\n",
    "## example:\n",
    "![fsdfsdf](images/020324_linear13.png)\n",
    "\n",
    "## notes:\n",
    "* computing inverse of a matrix takes a long compute time so only if it as easy as transforming a matrix then the time will have been tremendously reduced"
   ]
  },
  {
   "cell_type": "code",
   "execution_count": 15,
   "id": "13442a80",
   "metadata": {},
   "outputs": [
    {
     "name": "stdout",
     "output_type": "stream",
     "text": [
      "[1. 1. 1. 1. 1. 1. 1. 1. 1. 1. 1. 1. 1. 1.]\n"
     ]
    }
   ],
   "source": [
    "# code:\n",
    "\n",
    "## create the matrix\n",
    "A = np.random.rand(14,14)\n",
    "\n",
    "## make it symmetric (making it symmetric also helps us avoid running into complex numbered values)\n",
    "A = A.T@A\n",
    "\n",
    "## diagonalize it (find eigen values and vectors)\n",
    "eigen_values, eigen_vectors = np.linalg.eig(A)\n",
    "\n",
    "\n",
    "## find the magnitude of each vector\n",
    "print(np.sqrt(sum(eigen_vectors**2)))"
   ]
  },
  {
   "cell_type": "code",
   "execution_count": 25,
   "id": "6ec87398",
   "metadata": {},
   "outputs": [
    {
     "data": {
      "image/png": "[encoded data removed]",
      "text/plain": [
       "<Figure size 900x600 with 3 Axes>"
      ]
     },
     "metadata": {
      "needs_background": "light"
     },
     "output_type": "display_data"
    }
   ],
   "source": [
    "# make plots\n",
    "\n",
    "fig, ax = plt.subplots(1,3,dpi=150)\n",
    "\n",
    "# for the matrix\n",
    "ax[0].imshow(A)\n",
    "ax[0].axis('off')\n",
    "ax[0].set_title('A')\n",
    "\n",
    "# for the eigen vectors\n",
    "ax[1].imshow(eigen_vectors)\n",
    "ax[1].axis('off')\n",
    "ax[1].set_title('Eigen_vectors')\n",
    "\n",
    "# for the dot product of eigen vectors to see if they are orthogonal\n",
    "ax[2].imshow(eigen_vectors.T @ eigen_vectors)\n",
    "ax[2].axis('off')\n",
    "ax[2].set_title('$V^{T}V$')\n",
    "\n",
    "\n",
    "plt.show()\n"
   ]
  },
  {
   "cell_type": "markdown",
   "id": "544d800d",
   "metadata": {},
   "source": [
    "# conclusion:\n",
    "* the black spaces are all zeros and the yellow space are all 1's so this concludes that the resultant matrix is an identity matrix.\n",
    "* therefore the transpose of eigen vector of symmetric matrix is = inverse of itself."
   ]
  },
  {
   "cell_type": "code",
   "execution_count": null,
   "id": "70115fb8",
   "metadata": {},
   "outputs": [],
   "source": []
  },
  {
   "cell_type": "markdown",
   "id": "e3b1f686",
   "metadata": {},
   "source": [
    "# day 326,327"
   ]
  },
  {
   "cell_type": "code",
   "execution_count": 1,
   "id": "dda99dcf",
   "metadata": {},
   "outputs": [],
   "source": [
    "import numpy as np\n",
    "import sympy as sym\n",
    "from IPython.display import display,Math\n",
    "sym.init_printing()\n",
    "import matplotlib.pyplot as plt"
   ]
  },
  {
   "cell_type": "markdown",
   "id": "84276e24",
   "metadata": {},
   "source": [
    "# symmetric and non-symmetric matrices and their eigen vectors.\n",
    "![sfsfs](images/070324_linear.png) \n",
    "\n",
    "# arranging the matrix into layers by layers is what the eigen vectors and eigen values do:\n",
    "![sfsfs](images/070324_linear1.png) \n",
    "\n",
    "## notes;\n",
    "* v_:i  refers to the columns of the eigen_vectors.\n",
    "* (v_i:)^-1 refers to rows of the inverse of eigen vectors\n",
    "* lambda_i refers to the diagonal of the individual eigen values(the keys) of the matrix A\n",
    "* how the arrangment of layers of the matrix is by dot producting the columns of eigen vector with diagonal matrix of the eigen values and it is further dot producted with inverse of the rows of the eigen vector and finally sum all of them up to get all the layers to produce the original matrix.\n",
    "\n",
    "### extra notes:\n",
    "* magnitude of each eigen vector in eigen vectors (v_i) is 1: np.linalg.norm(np.outer(v,v.T)) is 1.\n",
    "* magnitude of the eigen values(lambda) can be anything.\n",
    "\n",
    "# differerence between inner product and outer product:\n",
    "\n",
    "## inner product\n",
    "$$ A^T.A $$\n",
    "or \n",
    "$$ A^T.B $$\n",
    "or \n",
    "$$ B^T.A $$\n",
    "\n",
    "* remember the transpose comes on the inside matrix for the inner product.\n",
    "\n",
    "## outer product\n",
    "$$ A.A^T $$\n",
    "or \n",
    "$$ A.B^T $$\n",
    "or \n",
    "$$ B.A^T $$\n",
    "\n",
    "* remember the transpose comes on the outside matrix for the outer product"
   ]
  },
  {
   "cell_type": "code",
   "execution_count": null,
   "id": "c889baf1",
   "metadata": {},
   "outputs": [],
   "source": []
  },
  {
   "cell_type": "code",
   "execution_count": 2,
   "id": "5865d36c",
   "metadata": {},
   "outputs": [
    {
     "data": {
      "text/plain": [
       "'\\n# goals \\n1. create a m*m symmetric matrix and take its eigen values and eigen vectors.\\n2. show the norm of the outer product of v_i(eigen_vector) with itself\\n3. create one layer of A as v_:i @ lamda @ v^-1_i: and show its norm\\n4. reconstruct the original matrix A by summing all the layers of v_:i @ lambda @ v^-1_i:\\n'"
      ]
     },
     "execution_count": 2,
     "metadata": {},
     "output_type": "execute_result"
    }
   ],
   "source": [
    "# code challenge:\n",
    "\"\"\"\n",
    "# goals \n",
    "1. create a m*m symmetric matrix and take its eigen values and eigen vectors.\n",
    "2. show the norm of the outer product of v_i(eigen_vector) with itself\n",
    "3. create one layer of A as v_:i @ lamda @ v^-1_i: and show its norm\n",
    "4. reconstruct the original matrix A by summing all the layers of v_:i @ lambda @ v^-1_i:\n",
    "\"\"\""
   ]
  },
  {
   "cell_type": "code",
   "execution_count": 76,
   "id": "702010a1",
   "metadata": {},
   "outputs": [
    {
     "data": {
      "image/png": "[encoded data removed]",
      "text/plain": [
       "<Figure size 432x288 with 1 Axes>"
      ]
     },
     "metadata": {
      "needs_background": "light"
     },
     "output_type": "display_data"
    },
    {
     "data": {
      "image/png": "[encoded data removed]",
      "text/plain": [
       "<Figure size 432x288 with 1 Axes>"
      ]
     },
     "metadata": {
      "needs_background": "light"
     },
     "output_type": "display_data"
    }
   ],
   "source": [
    "m = 3\n",
    "A = np.random.rand(m,m)\n",
    "A = A.T@A\n",
    "\n",
    "plt.imshow(A)\n",
    "plt.show()\n",
    "plt.imshow(np.outer(A,A))\n",
    "plt.show()"
   ]
  },
  {
   "cell_type": "code",
   "execution_count": 77,
   "id": "ededdf32",
   "metadata": {},
   "outputs": [
    {
     "name": "stdout",
     "output_type": "stream",
     "text": [
      "Norm of the outer product of the eigen_vectors is: 3.0000000000000004\n"
     ]
    },
    {
     "data": {
      "image/png": "[encoded data removed]",
      "text/plain": [
       "<Figure size 432x288 with 1 Axes>"
      ]
     },
     "metadata": {
      "needs_background": "light"
     },
     "output_type": "display_data"
    },
    {
     "data": {
      "image/png": "[encoded data removed]",
      "text/plain": [
       "<Figure size 432x288 with 1 Axes>"
      ]
     },
     "metadata": {
      "needs_background": "light"
     },
     "output_type": "display_data"
    }
   ],
   "source": [
    "# eigen decompostion\n",
    "eig_values, eig_vectors = np.linalg.eig(A)\n",
    "\n",
    "# 2. show the norm of the outer product of v_i(eigen_vector) with itself\n",
    "norm = np.linalg.norm(np.outer(eig_vectors,eig_vectors))\n",
    "\n",
    "print(\"Norm of the outer product of the eigen_vectors is: {}\".format(norm))\n",
    "plt.imshow(eig_vectors)\n",
    "plt.show()\n",
    "plt.imshow(np.outer(eig_vectors,eig_vectors))\n",
    "plt.show()\n"
   ]
  },
  {
   "cell_type": "code",
   "execution_count": 81,
   "id": "1209ace6",
   "metadata": {},
   "outputs": [
    {
     "data": {
      "text/plain": [
       "array([[0.36707069, 0.37186759, 0.30666642],\n",
       "       [0.37186759, 0.37672717, 0.31067395],\n",
       "       [0.30666642, 0.31067395, 0.25620213]])"
      ]
     },
     "execution_count": 81,
     "metadata": {},
     "output_type": "execute_result"
    }
   ],
   "source": [
    "# 3. create one layer of A as v_:i @ lamda @ v^-1_i: and show its norm\n",
    "\n",
    "# eig_vectors^-1 is as same as eig_vectors.T(inverse is computationally inexpensive)\n",
    "\n",
    "\n",
    "# show the outer product of v@v.T of first column of eigen vectors\n",
    "op = np.outer(eig_vectors[:,0],eig_vectors[:,0])\n",
    "op"
   ]
  },
  {
   "cell_type": "code",
   "execution_count": 84,
   "id": "5fce1eb3",
   "metadata": {},
   "outputs": [
    {
     "data": {
      "text/plain": [
       "array([[0.36707069, 0.37186759, 0.30666642],\n",
       "       [0.37186759, 0.37672717, 0.31067395],\n",
       "       [0.30666642, 0.31067395, 0.25620213]])"
      ]
     },
     "execution_count": 84,
     "metadata": {},
     "output_type": "execute_result"
    }
   ],
   "source": [
    "# explicit outer product (you have to reshape to account for the extra dimension)\n",
    "v = eig_vectors[:,0]\n",
    "v = np.reshape(v,(m,1))\n",
    "v@v.T # same answer as above see?"
   ]
  },
  {
   "cell_type": "code",
   "execution_count": 85,
   "id": "72faf697",
   "metadata": {},
   "outputs": [
    {
     "data": {
      "image/png": "[encoded data removed]",
      "text/latex": [
       "$\\displaystyle 1.0$"
      ],
      "text/plain": [
       "1.0000000000000002"
      ]
     },
     "execution_count": 85,
     "metadata": {},
     "output_type": "execute_result"
    }
   ],
   "source": [
    "# norm of the outer product of the first column of the eigen vectors\n",
    "np.linalg.norm(op)"
   ]
  },
  {
   "cell_type": "code",
   "execution_count": 107,
   "id": "4a17b728",
   "metadata": {},
   "outputs": [
    {
     "data": {
      "text/plain": [
       "array([[1.1942928 , 1.20989987, 0.99776285],\n",
       "       [1.20989987, 1.2257109 , 1.01080166],\n",
       "       [0.99776285, 1.01080166, 0.83357339]])"
      ]
     },
     "execution_count": 107,
     "metadata": {},
     "output_type": "execute_result"
    }
   ],
   "source": [
    "# create one layer of A as v_:i @ lamda @ v^-1_i: and show its norm\n",
    "v*eig_values[0]@v.T # eig_value is  hadammard multiplied"
   ]
  },
  {
   "cell_type": "code",
   "execution_count": 98,
   "id": "035fd031",
   "metadata": {},
   "outputs": [
    {
     "data": {
      "text/plain": [
       "array([[1.23549548, 1.18428563, 0.9795046 ],\n",
       "       [1.18428563, 1.27425191, 0.98259971],\n",
       "       [0.9795046 , 0.98259971, 0.88962602]])"
      ]
     },
     "execution_count": 98,
     "metadata": {},
     "output_type": "execute_result"
    }
   ],
   "source": [
    "# compare it with A\n",
    "A"
   ]
  },
  {
   "cell_type": "code",
   "execution_count": 108,
   "id": "f467e197",
   "metadata": {},
   "outputs": [
    {
     "data": {
      "image/png": "[encoded data removed]",
      "text/latex": [
       "$\\displaystyle 3.25357709126212$"
      ],
      "text/plain": [
       "3.253577091262117"
      ]
     },
     "execution_count": 108,
     "metadata": {},
     "output_type": "execute_result"
    }
   ],
   "source": [
    "# see the norm of it:\n",
    "np.linalg.norm(v*eig_values[0]@v.T)"
   ]
  },
  {
   "cell_type": "markdown",
   "id": "bc6be27d",
   "metadata": {},
   "source": [
    "# exploration,analysis and freethrows"
   ]
  },
  {
   "cell_type": "code",
   "execution_count": 56,
   "id": "f0c15104",
   "metadata": {},
   "outputs": [
    {
     "data": {
      "text/plain": [
       "array([[-0.56441512, -0.58187355, -0.58554141],\n",
       "       [-0.6777378 ,  0.73159782, -0.07372997],\n",
       "       [-0.47128234, -0.35522924,  0.80728257]])"
      ]
     },
     "execution_count": 56,
     "metadata": {},
     "output_type": "execute_result"
    }
   ],
   "source": [
    "eig_vectors.T"
   ]
  },
  {
   "cell_type": "code",
   "execution_count": 57,
   "id": "7dd0ccc3",
   "metadata": {},
   "outputs": [
    {
     "data": {
      "text/plain": [
       "array([[-0.56441512, -0.58187355, -0.58554141],\n",
       "       [-0.6777378 ,  0.73159782, -0.07372997],\n",
       "       [-0.47128234, -0.35522924,  0.80728257]])"
      ]
     },
     "execution_count": 57,
     "metadata": {},
     "output_type": "execute_result"
    }
   ],
   "source": [
    "np.linalg.inv(eig_vectors)"
   ]
  },
  {
   "cell_type": "code",
   "execution_count": 99,
   "id": "4b2e582a",
   "metadata": {},
   "outputs": [
    {
     "data": {
      "text/plain": [
       "array([[0.60586359],\n",
       "       [0.61378105],\n",
       "       [0.50616414]])"
      ]
     },
     "execution_count": 99,
     "metadata": {},
     "output_type": "execute_result"
    }
   ],
   "source": [
    "v"
   ]
  },
  {
   "cell_type": "code",
   "execution_count": 101,
   "id": "7df13a00",
   "metadata": {},
   "outputs": [
    {
     "data": {
      "text/plain": [
       "array([3.25357709, 0.06461836, 0.08117796])"
      ]
     },
     "execution_count": 101,
     "metadata": {},
     "output_type": "execute_result"
    }
   ],
   "source": [
    "eig_values"
   ]
  },
  {
   "cell_type": "code",
   "execution_count": 102,
   "id": "83a859d6",
   "metadata": {},
   "outputs": [
    {
     "data": {
      "text/plain": [
       "array([[0.60586359, 0.61378105, 0.50616414]])"
      ]
     },
     "execution_count": 102,
     "metadata": {},
     "output_type": "execute_result"
    }
   ],
   "source": [
    "v.T"
   ]
  },
  {
   "cell_type": "code",
   "execution_count": 100,
   "id": "c92149fa",
   "metadata": {},
   "outputs": [
    {
     "data": {
      "text/plain": [
       "array([[1.97122391],\n",
       "       [1.99698395],\n",
       "       [1.64684404]])"
      ]
     },
     "execution_count": 100,
     "metadata": {},
     "output_type": "execute_result"
    }
   ],
   "source": [
    "v*eig_values[0]"
   ]
  },
  {
   "cell_type": "code",
   "execution_count": 103,
   "id": "04c66ad1",
   "metadata": {},
   "outputs": [
    {
     "data": {
      "text/plain": [
       "array([[1.1942928 , 1.20989987, 0.99776285],\n",
       "       [1.20989987, 1.2257109 , 1.01080166],\n",
       "       [0.99776285, 1.01080166, 0.83357339]])"
      ]
     },
     "execution_count": 103,
     "metadata": {},
     "output_type": "execute_result"
    }
   ],
   "source": [
    "v*eig_values[0]*v.T"
   ]
  },
  {
   "cell_type": "code",
   "execution_count": 104,
   "id": "8b4c256d",
   "metadata": {},
   "outputs": [
    {
     "data": {
      "text/plain": [
       "array([[1.1942928 , 1.20989987, 0.99776285],\n",
       "       [1.20989987, 1.2257109 , 1.01080166],\n",
       "       [0.99776285, 1.01080166, 0.83357339]])"
      ]
     },
     "execution_count": 104,
     "metadata": {},
     "output_type": "execute_result"
    }
   ],
   "source": [
    "# as same as \n",
    "v*eig_values[0]@v.T"
   ]
  },
  {
   "cell_type": "code",
   "execution_count": null,
   "id": "331dd748",
   "metadata": {},
   "outputs": [],
   "source": []
  },
  {
   "cell_type": "code",
   "execution_count": 119,
   "id": "a7789c91",
   "metadata": {},
   "outputs": [
    {
     "name": "stdout",
     "output_type": "stream",
     "text": [
      "Rank is: 1 \n",
      "Rank is: 2 \n",
      "Rank is: 3 \n",
      "Reconstruct_mat is:\n"
     ]
    },
    {
     "data": {
      "text/plain": [
       "array([[1.23549548, 1.18428563, 0.9795046 ],\n",
       "       [1.18428563, 1.27425191, 0.98259971],\n",
       "       [0.9795046 , 0.98259971, 0.88962602]])"
      ]
     },
     "metadata": {},
     "output_type": "display_data"
    }
   ],
   "source": [
    "# 4. reconstruct the original matrix A by summing all the layers of v_:i @ lambda @ v^-1_i:\n",
    "\n",
    "reconstruct_mat = np.zeros((m,m))\n",
    "\n",
    "for i in range(m):\n",
    "    # eig_vectors are holes\n",
    "    v = eig_vectors[:,i].reshape((m,1)) # column vectors\n",
    "    \n",
    "    # eig_values are the keys that get into those holes to unlock the lock\n",
    "    reconstruct_mat += v*eig_values[i]@v.T\n",
    "    \n",
    "    # seeing the rank of the reconstruct_mat to understand how rank works!\n",
    "    print(\"Rank is: {} \".format(np.linalg.matrix_rank(reconstruct_mat)))\n",
    "    \n",
    "print('Reconstruct_mat is:')\n",
    "display(reconstruct_mat)"
   ]
  },
  {
   "cell_type": "code",
   "execution_count": 113,
   "id": "fe521a03",
   "metadata": {},
   "outputs": [
    {
     "data": {
      "text/plain": [
       "array([[1.23549548, 1.18428563, 0.9795046 ],\n",
       "       [1.18428563, 1.27425191, 0.98259971],\n",
       "       [0.9795046 , 0.98259971, 0.88962602]])"
      ]
     },
     "execution_count": 113,
     "metadata": {},
     "output_type": "execute_result"
    }
   ],
   "source": [
    "# compare it with A\n",
    "A"
   ]
  },
  {
   "cell_type": "code",
   "execution_count": null,
   "id": "624f6adb",
   "metadata": {},
   "outputs": [],
   "source": []
  },
  {
   "cell_type": "markdown",
   "id": "9c69ccfa",
   "metadata": {},
   "source": [
    "# Eigen decomposition on Singular matrices\n",
    "\n",
    "\n",
    "## determinant = product of all eigen values:\n",
    "![sfsfs](images/120324_linear.png)\n"
   ]
  },
  {
   "cell_type": "code",
   "execution_count": null,
   "id": "0a081646",
   "metadata": {},
   "outputs": [],
   "source": []
  },
  {
   "cell_type": "markdown",
   "id": "9abea5d7",
   "metadata": {},
   "source": [
    "# day 330"
   ]
  },
  {
   "cell_type": "code",
   "execution_count": 2,
   "id": "b17c1450",
   "metadata": {},
   "outputs": [],
   "source": [
    "import numpy as np\n",
    "import sympy as sym\n",
    "from IPython.display import display,Math\n",
    "sym.init_printing()\n",
    "import matplotlib.pyplot as plt"
   ]
  },
  {
   "cell_type": "markdown",
   "id": "687387ea",
   "metadata": {},
   "source": [
    "# code challenge:\n",
    "prove the following:\n",
    "1. trace(A) = sum(eigen_values)\n",
    "2. determinant(A) = prod(eigen_values)\n",
    "3. experiment with a reduced rank matrix whether those properties hold true for it too.\n",
    "\n"
   ]
  },
  {
   "cell_type": "code",
   "execution_count": 3,
   "id": "34974859",
   "metadata": {},
   "outputs": [
    {
     "data": {
      "text/plain": [
       "array([[7, 6, 4],\n",
       "       [8, 2, 7],\n",
       "       [6, 4, 6]])"
      ]
     },
     "execution_count": 3,
     "metadata": {},
     "output_type": "execute_result"
    }
   ],
   "source": [
    "m = 3\n",
    "A = np.random.randint(1,9,(m,m))\n",
    "A"
   ]
  },
  {
   "cell_type": "code",
   "execution_count": 5,
   "id": "9ed6e702",
   "metadata": {},
   "outputs": [
    {
     "data": {
      "text/plain": [
       "3"
      ]
     },
     "execution_count": 5,
     "metadata": {},
     "output_type": "execute_result"
    }
   ],
   "source": [
    "np.linalg.matrix_rank(A)"
   ]
  },
  {
   "cell_type": "code",
   "execution_count": 4,
   "id": "d4f09193",
   "metadata": {},
   "outputs": [
    {
     "data": {
      "text/plain": [
       "15"
      ]
     },
     "execution_count": 4,
     "metadata": {},
     "output_type": "execute_result"
    }
   ],
   "source": [
    "trace = np.trace(A) # trace = sum of digonal elements\n",
    "trace"
   ]
  },
  {
   "cell_type": "code",
   "execution_count": 6,
   "id": "5d50740e",
   "metadata": {},
   "outputs": [
    {
     "data": {
      "text/plain": [
       "array([16.67452576,  1.34884922, -3.02337499])"
      ]
     },
     "execution_count": 6,
     "metadata": {},
     "output_type": "execute_result"
    }
   ],
   "source": [
    "eig_values,eig_vectors = np.linalg.eig(A)\n",
    "eig_values"
   ]
  },
  {
   "cell_type": "code",
   "execution_count": 7,
   "id": "68e782e0",
   "metadata": {},
   "outputs": [
    {
     "data": {
      "image/png": "[encoded data removed]",
      "text/latex": [
       "$\\displaystyle 15.0$"
      ],
      "text/plain": [
       "14.999999999999986"
      ]
     },
     "execution_count": 7,
     "metadata": {},
     "output_type": "execute_result"
    }
   ],
   "source": [
    "sum(eig_values)"
   ]
  },
  {
   "cell_type": "markdown",
   "id": "a0070ff2",
   "metadata": {},
   "source": [
    "## conclusion:\n",
    "### trace(A) == sum(eig_values)"
   ]
  },
  {
   "cell_type": "code",
   "execution_count": 11,
   "id": "991bd406",
   "metadata": {},
   "outputs": [
    {
     "data": {
      "image/png": "[encoded data removed]",
      "text/latex": [
       "$\\displaystyle -68.0$"
      ],
      "text/plain": [
       "-67.99999999999996"
      ]
     },
     "execution_count": 11,
     "metadata": {},
     "output_type": "execute_result"
    }
   ],
   "source": [
    "## determinant of A\n",
    "np.linalg.det(A)"
   ]
  },
  {
   "cell_type": "code",
   "execution_count": 13,
   "id": "944d65c5",
   "metadata": {},
   "outputs": [
    {
     "data": {
      "image/png": "[encoded data removed]",
      "text/latex": [
       "$\\displaystyle -68.0$"
      ],
      "text/plain": [
       "-68.0"
      ]
     },
     "execution_count": 13,
     "metadata": {},
     "output_type": "execute_result"
    }
   ],
   "source": [
    "## prod of eigen_values\n",
    "np.prod(eig_values)"
   ]
  },
  {
   "cell_type": "markdown",
   "id": "ea3c1a77",
   "metadata": {},
   "source": [
    "# conclusion:\n",
    "det(A) == prod(eig_values)"
   ]
  },
  {
   "cell_type": "code",
   "execution_count": null,
   "id": "bd9ce4f5",
   "metadata": {},
   "outputs": [],
   "source": []
  },
  {
   "cell_type": "markdown",
   "id": "246ee1fd",
   "metadata": {},
   "source": [
    "# check it with a reduced rank matrix"
   ]
  },
  {
   "cell_type": "code",
   "execution_count": 21,
   "id": "42ac6009",
   "metadata": {},
   "outputs": [
    {
     "data": {
      "text/plain": [
       "array([[12, 60, 58],\n",
       "       [ 9, 36, 34],\n",
       "       [11, 70, 69]])"
      ]
     },
     "execution_count": 21,
     "metadata": {},
     "output_type": "execute_result"
    }
   ],
   "source": [
    "size = 3\n",
    "rank = 2\n",
    "\n",
    "A = np.random.randint(1,9,(size,rank)) @ np.random.randint(1,9,(rank,size))\n",
    "A"
   ]
  },
  {
   "cell_type": "code",
   "execution_count": 22,
   "id": "a2bdb3b0",
   "metadata": {},
   "outputs": [
    {
     "data": {
      "text/plain": [
       "2"
      ]
     },
     "execution_count": 22,
     "metadata": {},
     "output_type": "execute_result"
    }
   ],
   "source": [
    "np.linalg.matrix_rank(A)"
   ]
  },
  {
   "cell_type": "code",
   "execution_count": 23,
   "id": "d1975bca",
   "metadata": {},
   "outputs": [
    {
     "data": {
      "text/plain": [
       "117"
      ]
     },
     "execution_count": 23,
     "metadata": {},
     "output_type": "execute_result"
    }
   ],
   "source": [
    "np.trace(A)"
   ]
  },
  {
   "cell_type": "code",
   "execution_count": 24,
   "id": "b09ba3c4",
   "metadata": {},
   "outputs": [
    {
     "data": {
      "text/plain": [
       "array([ 1.15388048e+02, -1.60103985e-15,  1.61195205e+00])"
      ]
     },
     "execution_count": 24,
     "metadata": {},
     "output_type": "execute_result"
    }
   ],
   "source": [
    "eig_values,eig_vectors = np.linalg.eig(A)\n",
    "\n",
    "eig_values # the number of non zero eigen values are only 2 and that corresponds to the rank of the matrix."
   ]
  },
  {
   "cell_type": "code",
   "execution_count": 25,
   "id": "d42147ad",
   "metadata": {},
   "outputs": [
    {
     "data": {
      "image/png": "[encoded data removed]",
      "text/latex": [
       "$\\displaystyle 117.0$"
      ],
      "text/plain": [
       "117.00000000000004"
      ]
     },
     "execution_count": 25,
     "metadata": {},
     "output_type": "execute_result"
    }
   ],
   "source": [
    "sum(eig_values)"
   ]
  },
  {
   "cell_type": "markdown",
   "id": "c351e199",
   "metadata": {},
   "source": [
    "## conclusion:\n",
    "\n",
    "* even for a reduced rank matrix the rule applies: trace(A) == sum(eigen_values)"
   ]
  },
  {
   "cell_type": "code",
   "execution_count": 26,
   "id": "3b8a3a88",
   "metadata": {},
   "outputs": [
    {
     "data": {
      "image/png": "[encoded data removed]",
      "text/latex": [
       "$\\displaystyle -1.92512672470002 \\cdot 10^{-13}$"
      ],
      "text/plain": [
       "-1.9251267247000187e-13"
      ]
     },
     "execution_count": 26,
     "metadata": {},
     "output_type": "execute_result"
    }
   ],
   "source": [
    "np.linalg.det(A)"
   ]
  },
  {
   "cell_type": "code",
   "execution_count": 27,
   "id": "7e29f6eb",
   "metadata": {},
   "outputs": [
    {
     "data": {
      "image/png": "[encoded data removed]",
      "text/latex": [
       "$\\displaystyle -2.97793411403868 \\cdot 10^{-13}$"
      ],
      "text/plain": [
       "-2.977934114038678e-13"
      ]
     },
     "execution_count": 27,
     "metadata": {},
     "output_type": "execute_result"
    }
   ],
   "source": [
    "np.prod(eig_values)"
   ]
  },
  {
   "cell_type": "markdown",
   "id": "49f959c2",
   "metadata": {},
   "source": [
    "# conclusion:\n",
    "* there seems to be a slight variation in det(A) == prod(eig_values) in reduced rank matrices but the difference is in 10^{-13} so it is negligible in large physical or mechanical applications so, we can treat them as being equal unless you want to have pico scale precision."
   ]
  },
  {
   "cell_type": "code",
   "execution_count": null,
   "id": "b686e2ce",
   "metadata": {},
   "outputs": [],
   "source": []
  },
  {
   "cell_type": "markdown",
   "id": "524421aa",
   "metadata": {},
   "source": [
    "# day 330,day 333"
   ]
  },
  {
   "cell_type": "code",
   "execution_count": 2,
   "id": "5555a75a",
   "metadata": {},
   "outputs": [],
   "source": [
    "import numpy as np\n",
    "import sympy as sym\n",
    "from IPython.display import display,Math\n",
    "sym.init_printing()\n",
    "import matplotlib.pyplot as plt\n",
    "import scipy.stats as stats"
   ]
  },
  {
   "cell_type": "markdown",
   "id": "811d0ace",
   "metadata": {},
   "source": [
    "# Generalized Eigen decomposition\n",
    "\n",
    "![sdfsfs](images/120324_linear1.png)\n",
    "![sdfsfs](images/120324_linear2.png)\n",
    "\n",
    "## important thing to keep in mind is;\n",
    "* $$ R^{-1} SV = \\lambda V $$\n",
    "* where R is a matrix and S is a matrix.\n",
    "* lambda is generalized eigen values between R and S, and V is generalized eigen vectors between R and S\n",
    "* lambda and V must be corresponding position in which the R and S appers when taking generalized eigen decomposition(position/place something is/from matters).\n"
   ]
  },
  {
   "cell_type": "code",
   "execution_count": 15,
   "id": "6e5ce1d0",
   "metadata": {},
   "outputs": [
    {
     "data": {
      "image/png": "[encoded data removed]",
      "text/plain": [
       "<Figure size 864x360 with 3 Axes>"
      ]
     },
     "metadata": {
      "needs_background": "light"
     },
     "output_type": "display_data"
    }
   ],
   "source": [
    "import scipy.linalg # numpy doesn't do Generalized Eigen Decomposition\n",
    "A = np.array([[3,2],[1,3]])\n",
    "B = np.array([[1,1],[4,1]])\n",
    "\n",
    "#GED\n",
    "eigen_values,eigen_vectors = scipy.linalg.eig(A,B) # see we are inserting 2 matrices together for GED\n",
    "\n",
    "# matrix vector multiplication\n",
    "AV = A@eigen_vectors[:,1] # there is no special as to why the second eigen_vector is chosen over the vector in the first column\n",
    "BV = B@eigen_vectors[:,1]\n",
    "BinvAV = np.linalg.inv(B)@A@eigen_vectors[:,1]\n",
    "\n",
    "\n",
    "# plot \n",
    "fig,ax = plt.subplots(1,3,figsize=(12,5))\n",
    "# For AV\n",
    "ax[0].plot([0,eigen_vectors[0,1]],[0,eigen_vectors[1,1]],'k',linewidth=4,label='$V_2$')\n",
    "ax[0].plot([0,AV[0]],[0,AV[1]],'r--',linewidth=2,label='$AV_2$')\n",
    "ax[0].set_xlim([-3,3])\n",
    "ax[0].set_ylim([-3,3])\n",
    "#origin lines\n",
    "ax[0].plot([0,0],[-3,3],'k:')\n",
    "ax[0].plot([-3,3],[0,0],'k:')\n",
    "ax[0].set_title('AV')\n",
    "ax[0].legend()\n",
    "\n",
    "\n",
    "# For BV\n",
    "ax[1].plot([0,eigen_vectors[0,1]],[0,eigen_vectors[1,1]],'k',linewidth=4,label='$V_2$')\n",
    "ax[1].plot([0,BV[0]],[0,BV[1]],'r--',linewidth=2,label='$BV_2$')\n",
    "ax[1].set_xlim([-3,3])\n",
    "ax[1].set_ylim([-3,3])\n",
    "#origin lines\n",
    "ax[1].plot([0,0],[-3,3],'k:')\n",
    "ax[1].plot([-3,3],[0,0],'k:')\n",
    "ax[1].set_title('BV')\n",
    "ax[1].legend()\n",
    "\n",
    "\n",
    "# For BinvAV\n",
    "ax[2].plot([0,eigen_vectors[0,1]],[0,eigen_vectors[1,1]],'k',linewidth=4,label='$V_2$')\n",
    "ax[2].plot([0,BinvAV[0]],[0,BinvAV[1]],'r--',linewidth=2,label='$B^{-1}AV_{2}$')\n",
    "ax[2].set_xlim([-3,3])\n",
    "ax[2].set_ylim([-3,3])\n",
    "#origin lines\n",
    "ax[2].plot([0,0],[-3,3],'k:')\n",
    "ax[2].plot([-3,3],[0,0],'k:')\n",
    "ax[2].set_title('BinvAV')\n",
    "ax[2].legend()\n",
    "# show all the plots\n",
    "plt.show()\n",
    "\n"
   ]
  },
  {
   "cell_type": "markdown",
   "id": "a561072c",
   "metadata": {},
   "source": [
    "## exploration,analysis and freethrows"
   ]
  },
  {
   "cell_type": "code",
   "execution_count": 5,
   "id": "f67d9cce",
   "metadata": {},
   "outputs": [
    {
     "data": {
      "text/plain": [
       "array([[-0.60332746, -0.11930764],\n",
       "       [ 0.79749356, -0.99285733]])"
      ]
     },
     "execution_count": 5,
     "metadata": {},
     "output_type": "execute_result"
    }
   ],
   "source": [
    "eigen_vectors"
   ]
  },
  {
   "cell_type": "code",
   "execution_count": 16,
   "id": "1023df76",
   "metadata": {},
   "outputs": [
    {
     "data": {
      "text/plain": [
       "array([-0.25141402, -2.09222357])"
      ]
     },
     "execution_count": 16,
     "metadata": {},
     "output_type": "execute_result"
    }
   ],
   "source": [
    "# stands for R^-1SV \n",
    "BinvAV"
   ]
  },
  {
   "cell_type": "code",
   "execution_count": 20,
   "id": "7b103404",
   "metadata": {},
   "outputs": [
    {
     "data": {
      "text/plain": [
       "array([-0.25141402, -2.09222357])"
      ]
     },
     "execution_count": 20,
     "metadata": {},
     "output_type": "execute_result"
    }
   ],
   "source": [
    "# stands for lambda*eigen_vectors\n",
    "np.real(eigen_values[1])*eigen_vectors[:,1]"
   ]
  },
  {
   "cell_type": "markdown",
   "id": "b5708436",
   "metadata": {},
   "source": [
    "# conclusion:\n",
    "$$ R^{-1} SV = \\lambda V $$"
   ]
  },
  {
   "cell_type": "code",
   "execution_count": null,
   "id": "9103f952",
   "metadata": {},
   "outputs": [],
   "source": []
  },
  {
   "cell_type": "markdown",
   "id": "3c4d5b28",
   "metadata": {},
   "source": [
    "# code challenge: compare eig(S,R) with eig(inv(S) @ R):\n",
    "![sdfsf](images/150324_linear.png)"
   ]
  },
  {
   "cell_type": "code",
   "execution_count": 44,
   "id": "63a78c04",
   "metadata": {},
   "outputs": [
    {
     "name": "stdout",
     "output_type": "stream",
     "text": [
      "ls and li are: \n"
     ]
    },
    {
     "data": {
      "text/plain": [
       "array([-0.20580432+0.j,  3.49262622+0.j])"
      ]
     },
     "metadata": {},
     "output_type": "display_data"
    },
    {
     "data": {
      "text/plain": [
       "array([-0.20580432,  3.49262622])"
      ]
     },
     "metadata": {},
     "output_type": "display_data"
    },
    {
     "name": "stdout",
     "output_type": "stream",
     "text": [
      "li and wi are:\n"
     ]
    },
    {
     "data": {
      "text/plain": [
       "array([[-0.68207285,  0.56195294],\n",
       "       [-0.73128423, -0.82716921]])"
      ]
     },
     "metadata": {},
     "output_type": "display_data"
    },
    {
     "data": {
      "text/plain": [
       "array([[-0.68207285,  0.56195294],\n",
       "       [-0.73128423, -0.82716921]])"
      ]
     },
     "metadata": {},
     "output_type": "display_data"
    }
   ],
   "source": [
    "# compare eig(s,r) with eig(inv(r)*s)\n",
    "S = np.random.randn(2,2)\n",
    "R = np.random.randn(2,2)\n",
    "\n",
    "\n",
    "ls, ws = scipy.linalg.eig(S,R)\n",
    "li, wi = np.linalg.eig(np.linalg.inv(R)@S)\n",
    "\n",
    "print(\"ls and li are: \")\n",
    "display(ls,li)\n",
    "print(\"li and wi are:\")\n",
    "display(ws,wi)"
   ]
  },
  {
   "cell_type": "markdown",
   "id": "705e2576",
   "metadata": {},
   "source": [
    "# conclusion:\n",
    "* **so,GED(Generalized Eigen Decomposition) of (A,B) is eig(B^-1@A)?**"
   ]
  },
  {
   "cell_type": "code",
   "execution_count": 45,
   "id": "3939f319",
   "metadata": {},
   "outputs": [
    {
     "data": {
      "image/png": "[encoded data removed]",
      "text/plain": [
       "<Figure size 432x288 with 1 Axes>"
      ]
     },
     "metadata": {
      "needs_background": "light"
     },
     "output_type": "display_data"
    }
   ],
   "source": [
    "# plot the eigen vectors\n",
    "plt.plot([0,ws[0,0]],[0,ws[1,0]],'k--')\n",
    "plt.plot([0,ws[0,1]],[0,ws[1,1]],'k--')\n",
    "plt.plot([0,wi[0,0]],[0,wi[1,0]],'r--')\n",
    "plt.plot([0,wi[0,1]],[0,wi[1,1]],'r--')\n",
    "plt.grid()\n",
    "plt.axis('square')\n",
    "plt.axis([-1,1,-1,1])\n",
    "plt.show()"
   ]
  },
  {
   "cell_type": "code",
   "execution_count": 48,
   "id": "6273329d",
   "metadata": {},
   "outputs": [
    {
     "data": {
      "image/png": "[encoded data removed]",
      "text/plain": [
       "<Figure size 600x400 with 2 Axes>"
      ]
     },
     "metadata": {
      "needs_background": "light"
     },
     "output_type": "display_data"
    }
   ],
   "source": [
    "from scipy.io import loadmat\n",
    "data = loadmat('eig/real_matrices.mat')\n",
    "\n",
    "S = data['S']\n",
    "R = data['R']\n",
    "\n",
    "\n",
    "# show those matrices\n",
    "fig,ax = plt.subplots(1,2,dpi=100)\n",
    "\n",
    "ax[0].imshow(S)\n",
    "ax[0].set_title('S')\n",
    "\n",
    "ax[1].imshow(R)\n",
    "ax[1].set_title('R')\n",
    "\n",
    "\n",
    "plt.tight_layout()\n",
    "plt.show()"
   ]
  },
  {
   "cell_type": "markdown",
   "id": "99f23e60",
   "metadata": {},
   "source": [
    "## exploration, analysis and freethrows"
   ]
  },
  {
   "cell_type": "code",
   "execution_count": 50,
   "id": "ea71fd9f",
   "metadata": {},
   "outputs": [
    {
     "data": {
      "image/png": "[encoded data removed]",
      "text/latex": [
       "$\\displaystyle \\left( \\left( 16, \\  16\\right), \\  \\left( 16, \\  16\\right)\\right)$"
      ],
      "text/plain": [
       "((16, 16), (16, 16))"
      ]
     },
     "execution_count": 50,
     "metadata": {},
     "output_type": "execute_result"
    }
   ],
   "source": [
    "S.shape , R.shape"
   ]
  },
  {
   "cell_type": "code",
   "execution_count": 51,
   "id": "0fa6c11e",
   "metadata": {},
   "outputs": [
    {
     "data": {
      "text/plain": [
       "(14, 14)"
      ]
     },
     "execution_count": 51,
     "metadata": {},
     "output_type": "execute_result"
    }
   ],
   "source": [
    "np.linalg.matrix_rank(S) , np.linalg.matrix_rank(R)"
   ]
  },
  {
   "cell_type": "markdown",
   "id": "53fe353c",
   "metadata": {},
   "source": [
    "## conclusion:\n",
    "* so, these are not full rank matrices"
   ]
  },
  {
   "cell_type": "code",
   "execution_count": 55,
   "id": "df962e20",
   "metadata": {},
   "outputs": [
    {
     "name": "stdout",
     "output_type": "stream",
     "text": [
      "ls and li are: \n"
     ]
    },
    {
     "data": {
      "text/plain": [
       "array([0.83929999, 0.88031415, 0.89077743, 0.91955888, 0.97938282,\n",
       "       1.00822611, 1.01535775, 1.0302916 , 1.04998347, 1.08849624,\n",
       "       1.11973152, 1.18434787, 1.2154032 , 1.52684885, 1.70308392,\n",
       "       2.4311331 ])"
      ]
     },
     "metadata": {},
     "output_type": "display_data"
    },
    {
     "data": {
      "text/plain": [
       "array([-4151546.66969289, -1547758.80818314,  -489621.80797238,\n",
       "        -313192.63237555,  -273033.29696503,   -56788.98861926,\n",
       "         -50623.96098588,    13646.30564328,    20164.99703535,\n",
       "          40433.91878815,    43907.06196676,   106129.6765718 ,\n",
       "         211928.63485183,   550070.38587016,  1705848.30496651,\n",
       "        4190455.54318544])"
      ]
     },
     "metadata": {},
     "output_type": "display_data"
    },
    {
     "name": "stdout",
     "output_type": "stream",
     "text": [
      "li and wi are:\n"
     ]
    },
    {
     "data": {
      "text/plain": [
       "array([[-3.23752418e+03, -1.61415776e+02,  6.66786222e+02,\n",
       "         1.69677346e+02, -3.18206257e+02,  6.80328336e+02,\n",
       "        -2.33353070e+03,  1.21977257e+03,  7.47986390e+02,\n",
       "         1.15638320e+03,  8.71721925e+03,  1.65370642e+03,\n",
       "        -7.63734436e+02, -1.36989665e+00,  1.13963787e+02,\n",
       "         2.20139522e+01],\n",
       "       [ 5.12269099e+03,  2.55442983e+02, -1.05502465e+03,\n",
       "        -2.68469928e+02,  5.03485382e+02, -1.07648780e+03,\n",
       "         3.69237389e+03, -1.93005756e+03, -1.18356221e+03,\n",
       "        -1.82977134e+03, -1.37934617e+04, -2.61668688e+03,\n",
       "         1.20846716e+03,  2.17065593e+00, -1.80330458e+02,\n",
       "        -3.48383550e+01],\n",
       "       [-5.92568257e+03, -2.95595206e+02,  1.22034751e+03,\n",
       "         3.10533369e+02, -5.82380652e+02,  1.24526538e+03,\n",
       "        -4.27136532e+03,  2.23272167e+03,  1.36920066e+03,\n",
       "         2.11674304e+03,  1.59566237e+04,  3.02703512e+03,\n",
       "        -1.39798600e+03, -2.51146808e+00,  2.08615306e+02,\n",
       "         4.03125788e+01],\n",
       "       [ 6.23691462e+03,  3.11437023e+02, -1.28427873e+03,\n",
       "        -3.26782152e+02,  6.12897038e+02, -1.31078219e+03,\n",
       "         4.49627051e+03, -2.35031522e+03, -1.44142894e+03,\n",
       "        -2.22833469e+03, -1.67975394e+04, -3.18650444e+03,\n",
       "         1.47165344e+03,  2.64905967e+00, -2.19626257e+02,\n",
       "        -4.24684269e+01],\n",
       "       [-6.35219900e+03, -3.18062534e+02,  1.30758911e+03,\n",
       "         3.32655730e+02, -6.24017862e+02,  1.33529441e+03,\n",
       "        -4.58092155e+03,  2.39466402e+03,  1.46892048e+03,\n",
       "         2.27065573e+03,  1.71157441e+04,  3.24673721e+03,\n",
       "        -1.49951963e+03, -2.70541822e+00,  2.23834067e+02,\n",
       "         4.33579083e+01],\n",
       "       [ 6.38915286e+03,  3.22264985e+02, -1.31402664e+03,\n",
       "        -3.34145841e+02,  6.27099620e+02, -1.34384106e+03,\n",
       "         4.61170371e+03, -2.41100189e+03, -1.47974320e+03,\n",
       "        -2.28689575e+03, -1.72360553e+04, -3.26919583e+03,\n",
       "         1.51001974e+03,  2.73613486e+00, -2.25539057e+02,\n",
       "        -4.38963648e+01],\n",
       "       [-6.38616819e+03, -3.28418555e+02,  1.31029642e+03,\n",
       "         3.32798184e+02, -6.25331127e+02,  1.34529344e+03,\n",
       "        -4.62064245e+03,  2.41636158e+03,  1.48515175e+03,\n",
       "         2.29396906e+03,  1.72836063e+04,  3.27726878e+03,\n",
       "        -1.51407991e+03, -2.77358318e+00,  2.26514396e+02,\n",
       "         4.46486650e+01],\n",
       "       [ 6.34012985e+03,  3.42952733e+02, -1.29247676e+03,\n",
       "        -3.27199251e+02,  6.16875239e+02, -1.34119115e+03,\n",
       "         4.61705581e+03, -2.41629855e+03, -1.49079205e+03,\n",
       "        -2.29924537e+03, -1.73080774e+04, -3.27935978e+03,\n",
       "         1.51593058e+03,  2.86170207e+00, -2.27787235e+02,\n",
       "        -4.63956487e+01],\n",
       "       [-6.20291709e+03, -3.81056366e+02,  1.24197682e+03,\n",
       "         3.11507685e+02, -5.92883578e+02,  1.32721359e+03,\n",
       "        -4.59721142e+03,  2.41078965e+03,  1.50256902e+03,\n",
       "         2.30825691e+03,  1.73350270e+04,  3.27767714e+03,\n",
       "        -1.51752388e+03, -3.09542361e+00,  2.30676433e+02,\n",
       "         5.09646668e+01],\n",
       "       [ 5.83114856e+03,  4.82543374e+02, -1.10598797e+03,\n",
       "        -2.69315313e+02,  5.28291949e+02, -1.28877969e+03,\n",
       "         4.54035197e+03, -2.39402388e+03, -1.53279308e+03,\n",
       "        -2.33039913e+03, -1.73926367e+04, -3.27042920e+03,\n",
       "         1.52050804e+03,  3.71153026e+00, -2.38224399e+02,\n",
       "        -6.31401689e+01],\n",
       "       [-4.83663928e+03, -7.53378068e+02,  7.42557614e+02,\n",
       "         1.56581877e+02, -3.55640966e+02,  1.18572908e+03,\n",
       "        -4.38713547e+03,  2.34856284e+03,  1.61302576e+03,\n",
       "         2.38881479e+03,  1.75410198e+04,  3.25008713e+03,\n",
       "        -1.52800996e+03, -5.35024445e+00,  2.58296728e+02,\n",
       "         9.56229383e+01],\n",
       "       [ 2.18742180e+03,  1.47456929e+03,  2.25457120e+02,\n",
       "         1.43674456e+02, -1.04203188e+02, -9.11168589e+02,\n",
       "         3.97848266e+03, -2.22711862e+03, -1.82646810e+03,\n",
       "        -2.54402801e+03, -1.79338614e+04, -3.19543466e+03,\n",
       "         1.54778105e+03,  9.73336673e+00, -3.11728024e+02,\n",
       "        -1.82124190e+02],\n",
       "       [ 4.79114661e+03, -3.37377586e+03, -2.77507472e+03,\n",
       "        -9.34491533e+02,  1.31541717e+03,  1.87706191e+02,\n",
       "        -2.90108636e+03,  1.90673654e+03,  2.38820865e+03,\n",
       "         2.95221601e+03,  1.89638373e+04,  3.05068693e+03,\n",
       "        -1.59945154e+03, -2.12521355e+01,  4.52363783e+02,\n",
       "         4.09907384e+02],\n",
       "       [-2.24507961e+04,  8.17534717e+03,  9.22486786e+03,\n",
       "         2.93486250e+03, -4.37940828e+03,  1.64448756e+03,\n",
       "         1.66758396e+02, -1.09129591e+03, -3.80538044e+03,\n",
       "        -3.97933533e+03, -2.15307753e+04, -2.67753587e+03,\n",
       "         1.72681346e+03,  5.03919074e+01, -8.07495661e+02,\n",
       "        -9.85787785e+02],\n",
       "       [ 6.14703465e+04, -1.87473986e+04, -2.34574029e+04,\n",
       "        -7.34768168e+03,  1.11407347e+04, -5.70514335e+03,\n",
       "         5.94014212e+03, -7.48466745e+02,  6.90072198e+03,\n",
       "         6.20088276e+03,  2.68746613e+04,  1.79656028e+03,\n",
       "        -1.98016428e+03, -1.14505015e+02,  1.58575409e+03,\n",
       "         2.25364351e+03],\n",
       "       [-1.11120676e+05,  3.19171029e+04,  4.14277186e+04,\n",
       "         1.29093176e+04, -1.96780564e+04,  1.09655106e+04,\n",
       "        -1.42081246e+04,  3.38006788e+03, -1.05658777e+04,\n",
       "        -8.66270048e+03, -3.11812009e+04, -2.45279800e+02,\n",
       "         2.08892061e+03,  1.94293509e+02, -2.52748262e+03,\n",
       "        -3.83231664e+03]])"
      ]
     },
     "metadata": {},
     "output_type": "display_data"
    },
    {
     "data": {
      "text/plain": [
       "array([[ 3.49773604e-03, -1.07368479e-01,  8.52002178e-02,\n",
       "        -9.01589336e-02, -2.65576666e-02,  1.29232379e-02,\n",
       "        -4.77210955e-03, -1.85334042e-03,  6.31385512e-02,\n",
       "         2.02535726e-01,  9.56658091e-01, -2.67600853e-02,\n",
       "        -6.42835526e-04, -4.39676059e-02, -9.64503615e-02,\n",
       "         4.39319240e-03],\n",
       "       [ 2.76354059e-01, -3.58379181e-01,  5.09401579e-01,\n",
       "        -5.76847816e-01, -6.08978192e-02, -3.41113158e-03,\n",
       "         1.22634857e-03,  3.69290043e-04, -1.23043364e-02,\n",
       "        -3.58085414e-02, -1.68636667e-01,  4.62149554e-03,\n",
       "        -6.45909015e-02, -1.07270881e-01, -2.80983334e-01,\n",
       "         2.73319614e-01],\n",
       "       [ 2.84738490e-01, -2.30959425e-01, -1.38181831e-01,\n",
       "         6.11894669e-01,  9.83426146e-02,  2.93462606e-04,\n",
       "        -8.54341050e-05,  8.35471924e-05, -3.64928295e-03,\n",
       "         4.50752642e-03, -1.12839486e-02,  7.51699444e-03,\n",
       "        -2.81656657e-01, -2.56713086e-01, -4.24855703e-01,\n",
       "         3.69390233e-01],\n",
       "       [ 1.36600351e-01, -2.93446951e-01,  3.04137960e-01,\n",
       "         3.59841560e-01,  1.01228688e-01,  7.51082059e-03,\n",
       "        -2.84109566e-03, -1.65927905e-03,  6.37290296e-02,\n",
       "        -9.49294446e-02,  7.95088129e-03, -4.19378380e-02,\n",
       "         7.62961176e-01,  2.50694170e-01,  5.16473366e-02,\n",
       "         2.02272518e-02],\n",
       "       [-1.60829674e-01, -4.64040751e-02, -3.99398309e-01,\n",
       "        -1.97032768e-01, -1.81399256e-01,  5.96224061e-02,\n",
       "        -2.21872672e-02, -1.03244520e-02,  3.82068206e-01,\n",
       "        -5.45541758e-01,  4.53777458e-02, -1.25848955e-01,\n",
       "         2.83702849e-01, -2.38616985e-01, -3.68946588e-01,\n",
       "        -3.92961260e-02],\n",
       "       [-2.47490975e-01, -2.05446854e-01,  4.69071120e-01,\n",
       "         2.39752679e-01,  9.24950270e-02,  4.15628801e-02,\n",
       "        -1.52912207e-02, -8.64174114e-03,  2.84890731e-01,\n",
       "        -4.35212647e-01,  4.60139172e-02, -4.93584188e-02,\n",
       "        -4.35282040e-01,  2.72185604e-02,  1.07655824e-01,\n",
       "        -3.62645901e-01],\n",
       "       [-4.31388556e-01,  7.01104915e-02,  2.48140892e-01,\n",
       "         7.92050709e-02,  9.78447645e-02,  9.15755525e-02,\n",
       "        -3.38757952e-02,  4.48196892e-02, -3.91345361e-01,\n",
       "         2.16602040e-01, -8.35903868e-02, -1.84205778e-01,\n",
       "         2.02230614e-01, -5.14592221e-01, -3.20593335e-01,\n",
       "        -2.65623444e-01],\n",
       "       [-2.87327844e-02, -4.51009794e-01, -2.42660149e-01,\n",
       "        -1.62179618e-02, -2.62893365e-01,  9.23529189e-02,\n",
       "        -3.67750013e-02,  5.84527300e-02, -6.69584471e-01,\n",
       "        -2.64675279e-01,  7.02224267e-02, -3.83788908e-03,\n",
       "        -9.58996177e-02,  2.92869371e-01, -5.04396557e-02,\n",
       "        -1.82622199e-01],\n",
       "       [ 1.13418781e-01,  4.61241684e-01,  1.65746205e-01,\n",
       "        -2.12910324e-02,  3.00630256e-01, -1.04071306e-01,\n",
       "         4.47164948e-02,  1.75702403e-02, -3.91572802e-01,\n",
       "        -5.81036881e-01,  1.98177337e-01,  1.52024447e-01,\n",
       "         5.34236347e-02, -1.09048695e-01,  6.61753578e-02,\n",
       "         2.65529330e-01],\n",
       "       [ 2.32123548e-01,  3.07355205e-02,  9.98248556e-02,\n",
       "         1.19124862e-01, -5.24480101e-01,  3.71867213e-01,\n",
       "        -2.16774605e-01,  6.23523837e-03, -3.10566493e-02,\n",
       "        -7.35200026e-02,  2.63209904e-02, -1.07400030e-01,\n",
       "         3.89653940e-02, -4.48249245e-01,  4.80383387e-01,\n",
       "         9.38743370e-02],\n",
       "       [-5.94456907e-02,  1.97672094e-01,  5.30532048e-02,\n",
       "        -1.66226252e-02,  1.32865654e-01,  6.88607642e-01,\n",
       "        -4.91038465e-01, -7.76237122e-03,  4.59980288e-02,\n",
       "         3.03005696e-02, -8.53478876e-03,  2.21147830e-01,\n",
       "        -2.44362609e-02,  3.05082177e-01, -2.68072792e-01,\n",
       "         6.11536407e-02],\n",
       "       [ 1.18171915e-01, -2.14961494e-01, -2.16765556e-01,\n",
       "        -1.61849432e-01,  5.81463492e-01,  6.54351923e-02,\n",
       "        -3.26396774e-01,  2.41236711e-02, -2.47662185e-02,\n",
       "        -1.82821152e-02,  4.62061316e-03, -5.81338640e-01,\n",
       "        -4.21951890e-02, -8.65823185e-02,  2.61220573e-01,\n",
       "         2.66338661e-02],\n",
       "       [ 7.19546286e-02,  2.84983363e-01,  1.21404723e-01,\n",
       "         5.70895304e-02, -1.88405962e-01,  1.48644138e-01,\n",
       "         2.90014488e-01,  5.54429834e-01,  1.63471632e-02,\n",
       "        -1.00294887e-02,  2.52126690e-03, -5.71046534e-01,\n",
       "        -7.08625945e-02,  2.82792966e-01, -1.65317478e-01,\n",
       "         8.78885866e-02],\n",
       "       [-1.28382400e-01, -2.36424876e-01, -1.03228760e-01,\n",
       "        -5.58839902e-02,  1.91202113e-01,  7.59130407e-02,\n",
       "         4.35536401e-02,  7.77798404e-01,  7.54563701e-02,\n",
       "         1.74367211e-02, -3.69629011e-03,  4.28493354e-01,\n",
       "         4.47243776e-02, -1.93628195e-01,  1.80862358e-01,\n",
       "         5.32209104e-02],\n",
       "       [ 2.99846681e-01,  1.63823887e-01,  5.90661915e-02,\n",
       "         4.19073486e-02, -1.56879411e-01, -4.92956411e-01,\n",
       "        -6.28826017e-01,  2.83618670e-01,  1.28464373e-02,\n",
       "        -3.67600378e-05, -1.26137447e-06,  2.30180035e-02,\n",
       "         6.09764481e-03,  1.33124671e-02, -1.74489092e-01,\n",
       "        -3.21207210e-01],\n",
       "       [-5.95004047e-01, -7.05278034e-02,  7.43599918e-02,\n",
       "         5.58851708e-02, -1.94017743e-01, -2.81292029e-01,\n",
       "        -3.44484647e-01,  2.43869400e-02, -2.26695568e-03,\n",
       "        -1.94078491e-03,  4.49872669e-04, -1.16141459e-01,\n",
       "        -2.29509133e-02,  1.36097380e-01,  9.90261638e-02,\n",
       "         5.94943357e-01]])"
      ]
     },
     "metadata": {},
     "output_type": "display_data"
    }
   ],
   "source": [
    "ls,ws = scipy.linalg.eigh(S,R) # h stands for hermetian matrix\n",
    "li,wi = scipy.linalg.eigh(np.linalg.inv(R)@S)\n",
    "\n",
    "\n",
    "print(\"ls and li are: \")\n",
    "display(ls,li)\n",
    "print(\"li and wi are:\")\n",
    "display(ws,wi)"
   ]
  },
  {
   "cell_type": "code",
   "execution_count": 58,
   "id": "ef792867",
   "metadata": {},
   "outputs": [
    {
     "data": {
      "image/png": "[encoded data removed]",
      "text/plain": [
       "<Figure size 432x288 with 1 Axes>"
      ]
     },
     "metadata": {
      "needs_background": "light"
     },
     "output_type": "display_data"
    }
   ],
   "source": [
    "# plotting\n",
    "plt.plot(ls,'s-',label='S,R')\n",
    "plt.plot(li,'s-',label='$R^{-1}S')\n",
    "# plt.ylim([0,3])\n",
    "plt.legend()\n",
    "plt.show()"
   ]
  },
  {
   "cell_type": "code",
   "execution_count": null,
   "id": "56ca63ab",
   "metadata": {},
   "outputs": [],
   "source": []
  },
  {
   "cell_type": "markdown",
   "id": "6a17940e",
   "metadata": {},
   "source": [
    "# day 357,358,day 361,day 362,day 367,day 369"
   ]
  },
  {
   "cell_type": "code",
   "execution_count": 1,
   "id": "f1fa1e9c",
   "metadata": {},
   "outputs": [],
   "source": [
    "import numpy as np\n",
    "import sympy as sym\n",
    "from IPython.display import display,Math\n",
    "sym.init_printing()\n",
    "import matplotlib.pyplot as plt"
   ]
  },
  {
   "cell_type": "code",
   "execution_count": 11,
   "id": "491d0576",
   "metadata": {},
   "outputs": [
    {
     "data": {
      "text/plain": [
       "(array([151.67350672,   0.30135246,  21.02514082]),\n",
       " array([[-0.2717501 , -0.78200564,  0.56090915],\n",
       "        [-0.61802776, -0.30496358, -0.72459568],\n",
       "        [-0.73769477,  0.54356637,  0.40042731]]))"
      ]
     },
     "execution_count": 11,
     "metadata": {},
     "output_type": "execute_result"
    }
   ],
   "source": [
    "# what will happen to eigen values of symmetric matrix\n",
    "\n",
    "a = np.random.randint(0,9,(3,3))\n",
    "a = a.T@a # transforming it into symmetric\n",
    "\n",
    "eig_values, eig_vectors = np.linalg.eig(a)\n",
    "eig_values , eig_vectors"
   ]
  },
  {
   "cell_type": "code",
   "execution_count": 12,
   "id": "a49c0962",
   "metadata": {},
   "outputs": [
    {
     "data": {
      "text/plain": [
       "array([[151.67350672,   0.        ,   0.        ],\n",
       "       [  0.        ,   0.30135246,   0.        ],\n",
       "       [  0.        ,   0.        ,  21.02514082]])"
      ]
     },
     "execution_count": 12,
     "metadata": {},
     "output_type": "execute_result"
    }
   ],
   "source": [
    "np.diag(eig_values)"
   ]
  },
  {
   "cell_type": "code",
   "execution_count": 13,
   "id": "8e8b59af",
   "metadata": {},
   "outputs": [
    {
     "data": {
      "text/plain": [
       "array([[151.67350672,   0.        ,   0.        ],\n",
       "       [  0.        ,   0.30135246,   0.        ],\n",
       "       [  0.        ,   0.        ,  21.02514082]])"
      ]
     },
     "execution_count": 13,
     "metadata": {},
     "output_type": "execute_result"
    }
   ],
   "source": [
    "np.diag(eig_values).T"
   ]
  },
  {
   "cell_type": "code",
   "execution_count": 14,
   "id": "57d61e20",
   "metadata": {},
   "outputs": [
    {
     "data": {
      "text/plain": [
       "array([[ 1.00000000e+00,  7.21644966e-16, -1.66533454e-16],\n",
       "       [ 7.21644966e-16,  1.00000000e+00,  2.77555756e-17],\n",
       "       [-1.66533454e-16,  2.77555756e-17,  1.00000000e+00]])"
      ]
     },
     "execution_count": 14,
     "metadata": {},
     "output_type": "execute_result"
    }
   ],
   "source": [
    "# do this V.T@V\n",
    "\n",
    "eig_vectors.T@eig_vectors # is it Identity matrix?"
   ]
  },
  {
   "cell_type": "code",
   "execution_count": 6,
   "id": "2c34aaa6",
   "metadata": {},
   "outputs": [
    {
     "data": {
      "image/png": "[encoded data removed]",
      "text/latex": [
       "$\\displaystyle \\left[ 20, \\  60\\right]$"
      ],
      "text/plain": [
       "[20, 60]"
      ]
     },
     "execution_count": 6,
     "metadata": {},
     "output_type": "execute_result"
    }
   ],
   "source": [
    "x = sym.symbols('x')\n",
    "sym.solve(x**2-80*x+1200)"
   ]
  },
  {
   "cell_type": "code",
   "execution_count": null,
   "id": "c252ca7f",
   "metadata": {},
   "outputs": [],
   "source": []
  }
 ],
 "metadata": {
  "kernelspec": {
   "display_name": "Python 3 (ipykernel)",
   "language": "python",
   "name": "python3"
  },
  "language_info": {
   "codemirror_mode": {
    "name": "ipython",
    "version": 3
   },
   "file_extension": ".py",
   "mimetype": "text/x-python",
   "name": "python",
   "nbconvert_exporter": "python",
   "pygments_lexer": "ipython3",
   "version": "3.9.12"
  }
 },
 "nbformat": 4,
 "nbformat_minor": 5
}
