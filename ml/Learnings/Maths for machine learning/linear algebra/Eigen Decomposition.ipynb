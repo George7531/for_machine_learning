version https://git-lfs.github.com/spec/v1
oid sha256:90cb044a9f90b1d3afdbbd3bc4bdafb1a0d500e2ed59c9709f27b0471fac6298
size 3411722
