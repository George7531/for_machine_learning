{
 "cells": [
  {
   "cell_type": "markdown",
   "id": "513d9824",
   "metadata": {},
   "source": [
    "# day 71"
   ]
  },
  {
   "cell_type": "code",
   "execution_count": null,
   "id": "c9fd7b98",
   "metadata": {},
   "outputs": [],
   "source": []
  },
  {
   "cell_type": "markdown",
   "id": "258e5dd0",
   "metadata": {},
   "source": [
    "# Matrix Additions:\n",
    "\n",
    "## Matrix Additions are Commutative:\n",
    "\n",
    "# $$ A+B  = B+A $$\n",
    "\n",
    "## Matrix Additions are Associative:\n",
    "\n",
    "# $$ A+(B+C) = (A+B)+c $$"
   ]
  },
  {
   "cell_type": "code",
   "execution_count": 3,
   "id": "24c46f74",
   "metadata": {},
   "outputs": [],
   "source": [
    "import numpy as np\n",
    "import matplotlib.pyplot as plt\n",
    "from IPython.display import display,Math\n",
    "import sympy as sym\n",
    "sym.init_printing()\n"
   ]
  },
  {
   "cell_type": "code",
   "execution_count": 6,
   "id": "b050d5ae",
   "metadata": {},
   "outputs": [
    {
     "ename": "ValueError",
     "evalue": "operands could not be broadcast together with shapes (3,3) (3,4) ",
     "output_type": "error",
     "traceback": [
      "\u001b[1;31m---------------------------------------------------------------------------\u001b[0m",
      "\u001b[1;31mValueError\u001b[0m                                Traceback (most recent call last)",
      "Input \u001b[1;32mIn [6]\u001b[0m, in \u001b[0;36m<cell line: 5>\u001b[1;34m()\u001b[0m\n\u001b[0;32m      2\u001b[0m B \u001b[38;5;241m=\u001b[39m np\u001b[38;5;241m.\u001b[39mrandom\u001b[38;5;241m.\u001b[39mrandn(\u001b[38;5;241m3\u001b[39m,\u001b[38;5;241m4\u001b[39m)\n\u001b[0;32m      3\u001b[0m C \u001b[38;5;241m=\u001b[39m np\u001b[38;5;241m.\u001b[39mrandom\u001b[38;5;241m.\u001b[39mrandn(\u001b[38;5;241m3\u001b[39m,\u001b[38;5;241m3\u001b[39m)\n\u001b[1;32m----> 5\u001b[0m \u001b[43mA\u001b[49m\u001b[38;5;241;43m+\u001b[39;49m\u001b[43mB\u001b[49m\n",
      "\u001b[1;31mValueError\u001b[0m: operands could not be broadcast together with shapes (3,3) (3,4) "
     ]
    }
   ],
   "source": [
    "A = np.random.randn(3,3)\n",
    "B = np.random.randn(3,4)\n",
    "C = np.random.randn(3,3)\n",
    "\n",
    "A+B\n",
    "\n",
    "# dimensions need to be same for addition to work"
   ]
  },
  {
   "cell_type": "code",
   "execution_count": 7,
   "id": "de8ab5a5",
   "metadata": {},
   "outputs": [
    {
     "data": {
      "text/plain": [
       "array([[-0.71273904,  1.49050036, -1.36663028],\n",
       "       [-0.33071938, -1.10812143,  0.15586407],\n",
       "       [ 0.1362469 , -1.89011117, -0.1852363 ]])"
      ]
     },
     "execution_count": 7,
     "metadata": {},
     "output_type": "execute_result"
    }
   ],
   "source": [
    "A = np.random.randn(3,3)\n",
    "B = np.random.randn(3,3)\n",
    "C = np.random.randn(3,3)\n",
    "\n",
    "A+B"
   ]
  },
  {
   "cell_type": "code",
   "execution_count": 8,
   "id": "b854e45a",
   "metadata": {},
   "outputs": [
    {
     "data": {
      "text/plain": [
       "array([[-0.71273904,  1.49050036, -1.36663028],\n",
       "       [-0.33071938, -1.10812143,  0.15586407],\n",
       "       [ 0.1362469 , -1.89011117, -0.1852363 ]])"
      ]
     },
     "execution_count": 8,
     "metadata": {},
     "output_type": "execute_result"
    }
   ],
   "source": [
    "B+A"
   ]
  },
  {
   "cell_type": "code",
   "execution_count": 9,
   "id": "ed1cd7f5",
   "metadata": {},
   "outputs": [
    {
     "data": {
      "text/plain": [
       "array([[ 0.37292027,  3.42961241,  0.29473625],\n",
       "       [-1.49177926, -0.13008213, -0.56030143],\n",
       "       [-1.03242525, -2.82928611,  1.12985828]])"
      ]
     },
     "execution_count": 9,
     "metadata": {},
     "output_type": "execute_result"
    }
   ],
   "source": [
    "A+(B+C)"
   ]
  },
  {
   "cell_type": "code",
   "execution_count": 10,
   "id": "3520522f",
   "metadata": {},
   "outputs": [
    {
     "data": {
      "text/plain": [
       "array([[ 0.37292027,  3.42961241,  0.29473625],\n",
       "       [-1.49177926, -0.13008213, -0.56030143],\n",
       "       [-1.03242525, -2.82928611,  1.12985828]])"
      ]
     },
     "execution_count": 10,
     "metadata": {},
     "output_type": "execute_result"
    }
   ],
   "source": [
    "(A+B)+C"
   ]
  },
  {
   "cell_type": "markdown",
   "id": "5c885897",
   "metadata": {},
   "source": [
    "# Matrix substractions are niether commutative nor associative."
   ]
  },
  {
   "cell_type": "code",
   "execution_count": 11,
   "id": "6987475c",
   "metadata": {},
   "outputs": [
    {
     "data": {
      "text/plain": [
       "array([[ 1.32885217,  3.00627267, -0.52434133],\n",
       "       [ 0.64064135,  1.20692845, -0.06219148],\n",
       "       [-1.08329161, -0.05991938, -1.14561491]])"
      ]
     },
     "execution_count": 11,
     "metadata": {},
     "output_type": "execute_result"
    }
   ],
   "source": [
    "A-B"
   ]
  },
  {
   "cell_type": "code",
   "execution_count": 12,
   "id": "24f065f2",
   "metadata": {},
   "outputs": [
    {
     "data": {
      "text/plain": [
       "array([[-1.32885217, -3.00627267,  0.52434133],\n",
       "       [-0.64064135, -1.20692845,  0.06219148],\n",
       "       [ 1.08329161,  0.05991938,  1.14561491]])"
      ]
     },
     "execution_count": 12,
     "metadata": {},
     "output_type": "execute_result"
    }
   ],
   "source": [
    "B-A"
   ]
  },
  {
   "cell_type": "code",
   "execution_count": 13,
   "id": "c2e459be",
   "metadata": {},
   "outputs": [
    {
     "data": {
      "text/plain": [
       "array([[ 2.41451148,  4.94538473,  1.1370252 ],\n",
       "       [-0.52041853,  2.18496775, -0.77835698],\n",
       "       [-2.25196375, -0.99909433,  0.16947968]])"
      ]
     },
     "execution_count": 13,
     "metadata": {},
     "output_type": "execute_result"
    }
   ],
   "source": [
    "A-(B-C)"
   ]
  },
  {
   "cell_type": "code",
   "execution_count": 14,
   "id": "66339c3a",
   "metadata": {},
   "outputs": [
    {
     "data": {
      "text/plain": [
       "array([[ 0.24319285,  1.06716062, -2.18570786],\n",
       "       [ 1.80170123,  0.22888915,  0.65397402],\n",
       "       [ 0.08538053,  0.87925557, -2.46070949]])"
      ]
     },
     "execution_count": 14,
     "metadata": {},
     "output_type": "execute_result"
    }
   ],
   "source": [
    "(A-B)-C"
   ]
  },
  {
   "cell_type": "code",
   "execution_count": null,
   "id": "1d12c13e",
   "metadata": {},
   "outputs": [],
   "source": []
  },
  {
   "cell_type": "markdown",
   "id": "4d32e9fb",
   "metadata": {},
   "source": [
    "# shifting the diagonals of the matrix"
   ]
  },
  {
   "cell_type": "code",
   "execution_count": 15,
   "id": "f1e360cd",
   "metadata": {},
   "outputs": [
    {
     "data": {
      "text/plain": [
       "array([[ 0.30805656,  2.24838651, -0.94548581],\n",
       "       [ 0.15496098,  0.04940351,  0.04683629],\n",
       "       [-0.47352236, -0.97501527, -0.6654256 ]])"
      ]
     },
     "execution_count": 15,
     "metadata": {},
     "output_type": "execute_result"
    }
   ],
   "source": [
    "A"
   ]
  },
  {
   "cell_type": "code",
   "execution_count": 17,
   "id": "62c93979",
   "metadata": {},
   "outputs": [
    {
     "data": {
      "text/plain": [
       "array([[ 2.30805656,  2.24838651, -0.94548581],\n",
       "       [ 0.15496098,  2.04940351,  0.04683629],\n",
       "       [-0.47352236, -0.97501527,  1.3345744 ]])"
      ]
     },
     "execution_count": 17,
     "metadata": {},
     "output_type": "execute_result"
    }
   ],
   "source": [
    "scaler = 2\n",
    "\n",
    "A  + scaler*np.eye(np.shape(A)[0])"
   ]
  },
  {
   "cell_type": "code",
   "execution_count": 16,
   "id": "c4f0b03a",
   "metadata": {},
   "outputs": [
    {
     "data": {
      "image/png": "[encoded data removed]",
      "text/latex": [
       "$\\displaystyle 3$"
      ],
      "text/plain": [
       "3"
      ]
     },
     "execution_count": 16,
     "metadata": {},
     "output_type": "execute_result"
    }
   ],
   "source": [
    "np.shape(A)[0]"
   ]
  },
  {
   "cell_type": "code",
   "execution_count": null,
   "id": "3c718ef7",
   "metadata": {},
   "outputs": [],
   "source": []
  },
  {
   "cell_type": "markdown",
   "id": "d22e0c3c",
   "metadata": {},
   "source": [
    "# checking for the distributive property of the matrix\n",
    "\n",
    "# scaler(A+B) = scaler*A + scaler*B"
   ]
  },
  {
   "cell_type": "code",
   "execution_count": 18,
   "id": "2602f712",
   "metadata": {},
   "outputs": [],
   "source": [
    "A = np.random.randn(3,3)\n",
    "B = np.random.randn(3,3)\n",
    "\n",
    "scaler = 3"
   ]
  },
  {
   "cell_type": "code",
   "execution_count": 19,
   "id": "f8d31519",
   "metadata": {},
   "outputs": [
    {
     "data": {
      "text/plain": [
       "array([[-0.05509437, -0.19670707, -0.14675299],\n",
       "       [-0.59675728,  1.34358297, -0.16213171],\n",
       "       [ 0.53041167,  1.2658743 ,  0.11420417]])"
      ]
     },
     "execution_count": 19,
     "metadata": {},
     "output_type": "execute_result"
    }
   ],
   "source": [
    "A"
   ]
  },
  {
   "cell_type": "code",
   "execution_count": 20,
   "id": "2be5a5c1",
   "metadata": {},
   "outputs": [
    {
     "data": {
      "text/plain": [
       "array([[-1.70005428, -0.27562074, -1.98457591],\n",
       "       [-0.20192843,  0.13415398,  0.34231982],\n",
       "       [ 0.62995991, -0.61089874,  0.98095236]])"
      ]
     },
     "execution_count": 20,
     "metadata": {},
     "output_type": "execute_result"
    }
   ],
   "source": [
    "B"
   ]
  },
  {
   "cell_type": "code",
   "execution_count": 24,
   "id": "e8b91a02",
   "metadata": {},
   "outputs": [
    {
     "data": {
      "text/plain": [
       "array([[-5.26544595, -1.41698341, -6.39398667],\n",
       "       [-2.39605711,  4.43321084,  0.54056433],\n",
       "       [ 3.48111473,  1.96492669,  3.28546959]])"
      ]
     },
     "execution_count": 24,
     "metadata": {},
     "output_type": "execute_result"
    }
   ],
   "source": [
    "lhs = scaler*(A+B)\n",
    "lhs"
   ]
  },
  {
   "cell_type": "code",
   "execution_count": 25,
   "id": "e4b3ac38",
   "metadata": {},
   "outputs": [
    {
     "data": {
      "text/plain": [
       "array([[-5.26544595, -1.41698341, -6.39398667],\n",
       "       [-2.39605711,  4.43321084,  0.54056433],\n",
       "       [ 3.48111473,  1.96492669,  3.28546959]])"
      ]
     },
     "execution_count": 25,
     "metadata": {},
     "output_type": "execute_result"
    }
   ],
   "source": [
    "rhs = scaler*A + scaler*B\n",
    "rhs"
   ]
  },
  {
   "cell_type": "code",
   "execution_count": 27,
   "id": "9407c68c",
   "metadata": {},
   "outputs": [
    {
     "data": {
      "text/latex": [
       "$\\displaystyle \\left[\\begin{matrix}0 & 0 & 0\\\\0 & 0 & 0\\\\0 & 0 & 0\\end{matrix}\\right] = 0$"
      ],
      "text/plain": [
       "⎡0  0  0⎤    \n",
       "⎢       ⎥    \n",
       "⎢0  0  0⎥ = 0\n",
       "⎢       ⎥    \n",
       "⎣0  0  0⎦    "
      ]
     },
     "execution_count": 27,
     "metadata": {},
     "output_type": "execute_result"
    }
   ],
   "source": [
    "sym.Eq(sym.sympify(np.round(lhs,5))-sym.sympify(np.round(rhs,5)),0)\n"
   ]
  },
  {
   "cell_type": "markdown",
   "id": "f4a8b75c",
   "metadata": {},
   "source": [
    "# conclusion:\n",
    "\n",
    "* Matrices are distributive"
   ]
  },
  {
   "cell_type": "code",
   "execution_count": null,
   "id": "f82873dc",
   "metadata": {},
   "outputs": [],
   "source": []
  },
  {
   "cell_type": "markdown",
   "id": "8b925244",
   "metadata": {},
   "source": [
    "# Transpose\n",
    "\n",
    "# $$ \\text{if } A^T = A \\text{  then it is a symmetric matrix} $$\n",
    "# $$ \\text{symmetric matrix: } \\begin{bmatrix} \n",
    "1 & 0 & 3 \\\\\n",
    "0 & 2 & 6 \\\\\n",
    "3 & 6 & 5 \\\\\n",
    "\\end{bmatrix} $$\n",
    "\n",
    "# $$ \\text{if } A^T = -A \\text{  then it is a skew-symmetric matrix} $$\n",
    "# $$ \\text{skew-symmetric matrix: } \\begin{bmatrix}\n",
    "1.5 & -1 & +2 \\\\\n",
    "1 & 1.5 & -3  \\\\\n",
    "-2 & 3 & 1.5 \\\\\n",
    "\\end{bmatrix} $$"
   ]
  },
  {
   "cell_type": "markdown",
   "id": "cab89070",
   "metadata": {},
   "source": [
    "# complex matrices transpose"
   ]
  },
  {
   "cell_type": "code",
   "execution_count": 31,
   "id": "0cbce576",
   "metadata": {},
   "outputs": [
    {
     "data": {
      "text/latex": [
       "$\\displaystyle \\left[\\begin{matrix}1.0 + 3.0 i\\\\2.0 - 2.0 i\\\\3.0\\end{matrix}\\right]$"
      ],
      "text/plain": [
       "⎡1.0 + 3.0⋅ⅈ⎤\n",
       "⎢           ⎥\n",
       "⎢2.0 - 2.0⋅ⅈ⎥\n",
       "⎢           ⎥\n",
       "⎣    3.0    ⎦"
      ]
     },
     "execution_count": 31,
     "metadata": {},
     "output_type": "execute_result"
    }
   ],
   "source": [
    "comp = np.array(([1 + 3j],[2-2j],[3+0j]))\n",
    "sym.sympify(comp)"
   ]
  },
  {
   "cell_type": "code",
   "execution_count": 33,
   "id": "94248f80",
   "metadata": {},
   "outputs": [
    {
     "data": {
      "text/latex": [
       "$\\displaystyle \\left[\\left[\\begin{matrix}1.0 + 3.0 i & 2.0 - 2.0 i & 3.0\\end{matrix}\\right]\\right]$"
      ],
      "text/plain": [
       "[[1.0 + 3.0⋅ⅈ  2.0 - 2.0⋅ⅈ  3.0]]"
      ]
     },
     "execution_count": 33,
     "metadata": {},
     "output_type": "execute_result"
    }
   ],
   "source": [
    "sym.sympify(comp.T)"
   ]
  },
  {
   "cell_type": "code",
   "execution_count": 34,
   "id": "a155772c",
   "metadata": {},
   "outputs": [
    {
     "data": {
      "text/latex": [
       "$\\displaystyle \\left[\\begin{matrix}1.0 + 3.0 i\\\\2.0 - 2.0 i\\\\3.0\\end{matrix}\\right]$"
      ],
      "text/plain": [
       "⎡1.0 + 3.0⋅ⅈ⎤\n",
       "⎢           ⎥\n",
       "⎢2.0 - 2.0⋅ⅈ⎥\n",
       "⎢           ⎥\n",
       "⎣    3.0    ⎦"
      ]
     },
     "execution_count": 34,
     "metadata": {},
     "output_type": "execute_result"
    }
   ],
   "source": [
    "sym.sympify((comp.T).T)"
   ]
  },
  {
   "cell_type": "markdown",
   "id": "803042bb",
   "metadata": {},
   "source": [
    "# Hermitian Transpose\n",
    "\n",
    "* it flips the signs when transposing"
   ]
  },
  {
   "cell_type": "code",
   "execution_count": 37,
   "id": "9253c519",
   "metadata": {},
   "outputs": [
    {
     "data": {
      "text/latex": [
       "$\\displaystyle \\left[\\begin{matrix}1.0 + 3.0 i\\\\2.0 - 2.0 i\\\\3.0\\end{matrix}\\right]$"
      ],
      "text/plain": [
       "⎡1.0 + 3.0⋅ⅈ⎤\n",
       "⎢           ⎥\n",
       "⎢2.0 - 2.0⋅ⅈ⎥\n",
       "⎢           ⎥\n",
       "⎣    3.0    ⎦"
      ]
     },
     "execution_count": 37,
     "metadata": {},
     "output_type": "execute_result"
    }
   ],
   "source": [
    "sym.sympify(comp)"
   ]
  },
  {
   "cell_type": "code",
   "execution_count": 40,
   "id": "d99bdd58",
   "metadata": {},
   "outputs": [
    {
     "data": {
      "text/latex": [
       "$\\displaystyle \\left[\\left[\\begin{matrix}1.0 - 3.0 i & 2.0 + 2.0 i & 3.0\\end{matrix}\\right]\\right]$"
      ],
      "text/plain": [
       "[[1.0 - 3.0⋅ⅈ  2.0 + 2.0⋅ⅈ  3.0]]"
      ]
     },
     "execution_count": 40,
     "metadata": {},
     "output_type": "execute_result"
    }
   ],
   "source": [
    "sym.sympify(np.matrix(comp).H)\n",
    "\n",
    "# note the sign changes!!!"
   ]
  },
  {
   "cell_type": "markdown",
   "id": "8ec7a6e6",
   "metadata": {},
   "source": [
    "# day 73"
   ]
  },
  {
   "cell_type": "markdown",
   "id": "73fb2161",
   "metadata": {},
   "source": [
    "# Matrix multiplication\n",
    "\n",
    "* AB = A left multiplies B or B right multiplies A.\n",
    "\n",
    "# $$ AB \\neq BA  \\longrightarrow \\text{matrix multiplication is not commutative}$$\n",
    "\n",
    "\n",
    "* 1) Matrix multiplication,according to element perspective, is an ordered collection of dot product.\n",
    "* 2) matrix multiplication,according to layer perspective, is layering one piece of information at each iteration and summing them all up.\n",
    "* 3) column perspective:\n",
    "* 4) row perspective: "
   ]
  },
  {
   "cell_type": "code",
   "execution_count": null,
   "id": "87ca562e",
   "metadata": {},
   "outputs": [],
   "source": []
  }
 ],
 "metadata": {
  "kernelspec": {
   "display_name": "Python 3 (ipykernel)",
   "language": "python",
   "name": "python3"
  },
  "language_info": {
   "codemirror_mode": {
    "name": "ipython",
    "version": 3
   },
   "file_extension": ".py",
   "mimetype": "text/x-python",
   "name": "python",
   "nbconvert_exporter": "python",
   "pygments_lexer": "ipython3",
   "version": "3.9.12"
  }
 },
 "nbformat": 4,
 "nbformat_minor": 5
}
