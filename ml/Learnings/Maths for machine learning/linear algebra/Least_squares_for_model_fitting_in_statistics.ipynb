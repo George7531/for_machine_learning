{
 "cells": [
  {
   "cell_type": "markdown",
   "id": "6b97af72",
   "metadata": {},
   "source": [
    "# day 271,day 275"
   ]
  },
  {
   "cell_type": "code",
   "execution_count": 3,
   "id": "8b6b2561",
   "metadata": {},
   "outputs": [],
   "source": [
    "import numpy as np\n",
    "import sympy as sym\n",
    "from IPython.display import display,Math\n",
    "sym.init_printing()\n",
    "import matplotlib.pyplot as plt"
   ]
  },
  {
   "cell_type": "markdown",
   "id": "4fe2dc63",
   "metadata": {},
   "source": [
    "![fsfsf](1_least_square.png)\n",
    "![sfsdfsd](2_least_square.png)\n",
    "![sfsdfsd](3_least_square.png)\n",
    "![sfsdfsd](4_least_square.png)\n",
    "![sfsdfsd](5_least_square.png)\n",
    "![sfsdfsd](6_least_square.png)\n",
    "![sfsdfsd](7_least_square.png)"
   ]
  },
  {
   "cell_type": "code",
   "execution_count": null,
   "id": "e5a030bd",
   "metadata": {},
   "outputs": [],
   "source": []
  },
  {
   "cell_type": "markdown",
   "id": "1e4e58f6",
   "metadata": {},
   "source": [
    "# Least squares via left inverse\n",
    "\n",
    "![fsfsd](8_least_square.png)\n",
    "\n",
    "## notes:\n",
    "* (x^T.x)^{-1}x^T X= I\n",
    "* I.B = B\n",
    "* conditions for this left inverse to work:\n",
    "   1. the matrix must be a rectangular, full column matrix (eg.5x3 dimensions) which means the rank is full column rank if \n",
    "   if matrix is of size (m*n) then the rank of the matrix is n. remember rank(matrix) = min(m,n).\n",
    "   \n",
    "   \n",
    "# conflicts when columns are linearly dependent:\n",
    "![sfsfsd](9_least_square.png)\n",
    "\n",
    "## notes:\n",
    "* when the matrix has linearly dependent values(two columns having same or linearly scalable or shiftable values) then left inverse may not be applied.\n",
    "------------\n",
    "* the rank of the matrix is Reduced.\n",
    "-------------\n",
    "* This phenomenon is called `Multicollinearity`. Multicollinearity specifically refers to linear dependence among the columns of a matrix, often encountered in statistics and machine learning. It can cause issues in regression analysis, leading to unstable coefficients and unreliable model predictions. Linear dependence of columns means multi collinearity.\n",
    "\n",
    "# solution of xbeta = y:\n",
    "![fsfsf](10_least_square.png)\n",
    "\n",
    "## notes:\n",
    "* solution for y: y = xbeta only if y is in column space of x; c(x).\n",
    "----------\n",
    "* that means y needs to be linearly dependent on columns of  x in order for the solution to exist for the equation in the matrix: xbeta = y. \n",
    "----------\n",
    "* but in real life, with a lot of random things going around acheving that perfect linear dependency is not always possible. say for example x matrix contains the information about the parents height, child's sex and child's nutrition quality in a scale of 1 to 10 and y is a long column matrix of each child's height. the y matrix may not be in the span of the x(it may not be linearly dependent). Real-world data often involves noise and factors that can't be perfectly captured by the model's features. This means y might not fall perfectly within the column space of x.\n",
    "-----------\n",
    "* but we can get closer and closer to finding that perfect solution for beta by making the y linearly dependent with an error matrix(E). While we can't create true linear dependence, we can introduce an error term to account for the discrepancies and find the best approximate solution for beta. This is the core idea behind linear regression.\n",
    "\n",
    "# Error takes us to the solution:\n",
    "![fsdfsdfs](11_least_square.png)\n",
    "\n",
    "\n",
    "## notes:\n",
    "* epsilon(E) in the equation takes us closer and closer to the ideal solution.\n",
    "\n",
    "# mapping the the x onto y with beta:\n",
    "![sfsfs](3_1_least1.png)\n",
    "![sfsf](3_1_least2.png)\n",
    "\n",
    "## notes:\n",
    "* mapping the x matrix onto the y solution column vector in the same ambient space as closely as possible with the help of the coefficient(beta)\n",
    "* beta = x^T.y/x^T.x which is mapping/scaler.\n",
    "\n",
    "\n",
    "# connection between projection formula and left or right inverse:\n",
    "\n",
    "*  left inverse if it is a full column rank matrix.\n",
    "* right inverse if it is a full row rank matrix.\n",
    "\n",
    "![dfsdfs](3_1_least3.png)\n",
    "\n",
    "## for a full column rank matrix:\n",
    "$$ \\beta = \\frac{x^T.y}{x^T.x} $$\n",
    "$$ \\downarrow $$\n",
    "$$ \\beta = (x^T.x)^{-1} x^T.y $$\n",
    "$$ \\downarrow $$\n",
    "$$ \\frac{x^T.y}{x^T.x} = (x^T.x)^{-1} x^T.y $$\n",
    "\n"
   ]
  },
  {
   "cell_type": "code",
   "execution_count": null,
   "id": "e9352186",
   "metadata": {},
   "outputs": [],
   "source": []
  },
  {
   "cell_type": "code",
   "execution_count": null,
   "id": "fc1fb2fe",
   "metadata": {},
   "outputs": [],
   "source": []
  },
  {
   "cell_type": "markdown",
   "id": "963c7eab",
   "metadata": {},
   "source": [
    "# day 277"
   ]
  },
  {
   "cell_type": "code",
   "execution_count": 2,
   "id": "681cbc2f",
   "metadata": {},
   "outputs": [],
   "source": [
    "import numpy as np\n",
    "import sympy as sym\n",
    "from IPython.display import display,Math\n",
    "sym.init_printing()\n",
    "import matplotlib.pyplot as plt"
   ]
  },
  {
   "cell_type": "markdown",
   "id": "26ead511",
   "metadata": {},
   "source": [
    "# getting least squares via row reduction method: \n",
    "\n",
    "![fsdsdf](3_1_least4.png)\n",
    "![sfsf](3_1_least5.png)\n",
    "![sfss](3_1_least6.png)\n",
    "\n",
    "## notes:\n",
    "* the normal is a misnomer. it doesn't normalize the equation. it is just called so by a group of bizzare non-native English Mathematicians.\n",
    "\n",
    "![fsdfs](61_linalg0.png)"
   ]
  },
  {
   "cell_type": "code",
   "execution_count": null,
   "id": "a648b682",
   "metadata": {},
   "outputs": [],
   "source": []
  },
  {
   "cell_type": "code",
   "execution_count": 21,
   "id": "34243cbf",
   "metadata": {},
   "outputs": [
    {
     "name": "stdout",
     "output_type": "stream",
     "text": [
      "\n",
      " xy matrix: \n"
     ]
    },
    {
     "data": {
      "text/latex": [
       "$\\displaystyle \\left[\\begin{matrix}3.33 & 0.32 & -0.98 & 1.61\\\\-0.29 & -0.84 & -1.04 & 1.4\\\\-0.38 & -0.36 & 0.58 & 0.58\\\\2.27 & -0.17 & -0.18 & -0.52\\\\0.78 & -1.32 & 1.43 & 0.51\\\\0.47 & 0.89 & 0.72 & 0.16\\\\0.05 & -0.8 & -0.1 & 0.43\\\\-0.18 & -1.04 & 1.32 & -1.13\\\\0.54 & 0.26 & -0.58 & 2.84\\\\0.49 & 0.44 & -0.76 & -1.78\\end{matrix}\\right]$"
      ],
      "text/plain": [
       "⎡3.33   0.32   -0.98  1.61 ⎤\n",
       "⎢                          ⎥\n",
       "⎢-0.29  -0.84  -1.04   1.4 ⎥\n",
       "⎢                          ⎥\n",
       "⎢-0.38  -0.36  0.58   0.58 ⎥\n",
       "⎢                          ⎥\n",
       "⎢2.27   -0.17  -0.18  -0.52⎥\n",
       "⎢                          ⎥\n",
       "⎢0.78   -1.32  1.43   0.51 ⎥\n",
       "⎢                          ⎥\n",
       "⎢0.47   0.89   0.72   0.16 ⎥\n",
       "⎢                          ⎥\n",
       "⎢0.05   -0.8   -0.1   0.43 ⎥\n",
       "⎢                          ⎥\n",
       "⎢-0.18  -1.04  1.32   -1.13⎥\n",
       "⎢                          ⎥\n",
       "⎢0.54   0.26   -0.58  2.84 ⎥\n",
       "⎢                          ⎥\n",
       "⎣0.49   0.44   -0.76  -1.78⎦"
      ]
     },
     "metadata": {},
     "output_type": "display_data"
    },
    {
     "name": "stdout",
     "output_type": "stream",
     "text": [
      "\n",
      " reduced row echelon form of the matrix: \n"
     ]
    },
    {
     "data": {
      "text/latex": [
       "$\\displaystyle \\left( \\left[\\begin{matrix}1 & 0 & 0 & 0\\\\0 & 1 & 0 & 0\\\\0 & 0 & 1 & 0\\\\0 & 0 & 0 & 1\\\\0 & 0 & 0 & 0\\\\0 & 0 & 0 & 0\\\\0 & 0 & 0 & 0\\\\0 & 0 & 0 & 0\\\\0 & 0 & 0 & 0\\\\0 & 0 & 0 & 0\\end{matrix}\\right], \\  \\left( 0, \\  1, \\  2, \\  3\\right)\\right)$"
      ],
      "text/plain": [
       "⎛⎡1  0  0  0⎤              ⎞\n",
       "⎜⎢          ⎥              ⎟\n",
       "⎜⎢0  1  0  0⎥              ⎟\n",
       "⎜⎢          ⎥              ⎟\n",
       "⎜⎢0  0  1  0⎥              ⎟\n",
       "⎜⎢          ⎥              ⎟\n",
       "⎜⎢0  0  0  1⎥              ⎟\n",
       "⎜⎢          ⎥              ⎟\n",
       "⎜⎢0  0  0  0⎥              ⎟\n",
       "⎜⎢          ⎥, (0, 1, 2, 3)⎟\n",
       "⎜⎢0  0  0  0⎥              ⎟\n",
       "⎜⎢          ⎥              ⎟\n",
       "⎜⎢0  0  0  0⎥              ⎟\n",
       "⎜⎢          ⎥              ⎟\n",
       "⎜⎢0  0  0  0⎥              ⎟\n",
       "⎜⎢          ⎥              ⎟\n",
       "⎜⎢0  0  0  0⎥              ⎟\n",
       "⎜⎢          ⎥              ⎟\n",
       "⎝⎣0  0  0  0⎦              ⎠"
      ]
     },
     "metadata": {},
     "output_type": "display_data"
    }
   ],
   "source": [
    "# rows and cols size.\n",
    "rows = 10\n",
    "cols = 3\n",
    "\n",
    "# create data\n",
    "x = np.round(np.random.randn(rows,cols),2) # design matrix\n",
    "y = np.round(np.random.randn(rows,1),2) # output \n",
    "\n",
    "# try directly applying rref\n",
    "xy = sym.Matrix(np.concatenate((x,y),axis=1))\n",
    "\n",
    "print('\\n xy matrix: ')\n",
    "display(xy)\n",
    "\n",
    "print('\\n reduced row echelon form of the matrix: ')\n",
    "display(xy.rref())"
   ]
  },
  {
   "cell_type": "code",
   "execution_count": 26,
   "id": "92545872",
   "metadata": {},
   "outputs": [
    {
     "name": "stdout",
     "output_type": "stream",
     "text": [
      "\n",
      " normal equation result is: \n"
     ]
    },
    {
     "data": {
      "text/latex": [
       "$\\displaystyle \\left[\\begin{matrix}17.8662 & 0.952 & -3.0652 & 4.9138\\\\0.952 & 5.4838 & -2.643 & -0.5256\\\\-3.0652 & -2.643 & 7.6405 & -3.5883\\end{matrix}\\right]$"
      ],
      "text/plain": [
       "⎡17.8662  0.952   -3.0652  4.9138 ⎤\n",
       "⎢                                 ⎥\n",
       "⎢ 0.952   5.4838  -2.643   -0.5256⎥\n",
       "⎢                                 ⎥\n",
       "⎣-3.0652  -2.643  7.6405   -3.5883⎦"
      ]
     },
     "metadata": {},
     "output_type": "display_data"
    },
    {
     "name": "stdout",
     "output_type": "stream",
     "text": [
      "\n",
      " rref form of the normal equation: \n"
     ]
    },
    {
     "data": {
      "text/latex": [
       "$\\displaystyle \\left[\\begin{matrix}1 & 0 & 0 & 0.206347516466186\\\\0 & 1 & 0 & -0.381770595183648\\\\0 & 0 & 1 & -0.518921965263822\\end{matrix}\\right]$"
      ],
      "text/plain": [
       "⎡1  0  0  0.206347516466186 ⎤\n",
       "⎢                           ⎥\n",
       "⎢0  1  0  -0.381770595183648⎥\n",
       "⎢                           ⎥\n",
       "⎣0  0  1  -0.518921965263822⎦"
      ]
     },
     "metadata": {},
     "output_type": "display_data"
    },
    {
     "name": "stdout",
     "output_type": "stream",
     "text": [
      "\n",
      " Beta from row echelon form: \n"
     ]
    },
    {
     "data": {
      "text/latex": [
       "$\\displaystyle \\left[\\begin{matrix}0.206347516466186\\\\-0.381770595183648\\\\-0.518921965263822\\end{matrix}\\right]$"
      ],
      "text/plain": [
       "⎡0.206347516466186 ⎤\n",
       "⎢                  ⎥\n",
       "⎢-0.381770595183648⎥\n",
       "⎢                  ⎥\n",
       "⎣-0.518921965263822⎦"
      ]
     },
     "metadata": {},
     "output_type": "display_data"
    }
   ],
   "source": [
    "# now reapply to the normal equations;\n",
    "xtx = x.T@x\n",
    "xty = x.T@y \n",
    "normEQ = sym.Matrix(np.concatenate((xtx,xty),axis=1))\n",
    "\n",
    "print('\\n normal equation result is: ')\n",
    "display(normEQ)\n",
    "\n",
    "# row reduced form\n",
    "print(\"\\n rref form of the normal equation: \")\n",
    "display(normEQ.rref()[0])\n",
    "\n",
    "beta = normEQ.rref()[0][:,-1] # last column\n",
    "print(\"\\n Beta from row echelon form: \")\n",
    "display(beta)"
   ]
  },
  {
   "cell_type": "code",
   "execution_count": 28,
   "id": "0e19d49f",
   "metadata": {},
   "outputs": [
    {
     "name": "stdout",
     "output_type": "stream",
     "text": [
      "\n",
      " Beta from left inverse: \n"
     ]
    },
    {
     "data": {
      "text/plain": [
       "array([[ 0.20634752],\n",
       "       [-0.3817706 ],\n",
       "       [-0.51892197]])"
      ]
     },
     "metadata": {},
     "output_type": "display_data"
    }
   ],
   "source": [
    "# Beta from left inverse\n",
    "beta = np.linalg.inv(x.T@x) @ (x.T@y)\n",
    "\n",
    "print('\\n Beta from left inverse: ')\n",
    "display(beta)"
   ]
  },
  {
   "cell_type": "code",
   "execution_count": 29,
   "id": "e156c35c",
   "metadata": {},
   "outputs": [
    {
     "name": "stdout",
     "output_type": "stream",
     "text": [
      "\n",
      " Beta from solving \n"
     ]
    },
    {
     "data": {
      "text/plain": [
       "array([[ 0.20634752],\n",
       "       [-0.3817706 ],\n",
       "       [-0.51892197]])"
      ]
     },
     "metadata": {},
     "output_type": "display_data"
    }
   ],
   "source": [
    "# Beta from solving xtx and xty in numpy style (faster!)\n",
    "beta = np.linalg.solve(xtx,xty)\n",
    "\n",
    "print('\\n Beta from solving ')\n",
    "display(beta)"
   ]
  },
  {
   "cell_type": "code",
   "execution_count": null,
   "id": "aa7c3637",
   "metadata": {},
   "outputs": [],
   "source": []
  },
  {
   "cell_type": "markdown",
   "id": "f1a5a4f8",
   "metadata": {},
   "source": [
    "# exploration, analysis and freethrows"
   ]
  },
  {
   "cell_type": "code",
   "execution_count": 4,
   "id": "ffb14aee",
   "metadata": {},
   "outputs": [
    {
     "data": {
      "image/png": "[encoded data removed]",
      "text/latex": [
       "$\\displaystyle \\left( 10, \\  1\\right)$"
      ],
      "text/plain": [
       "(10, 1)"
      ]
     },
     "execution_count": 4,
     "metadata": {},
     "output_type": "execute_result"
    }
   ],
   "source": [
    "np.shape(y)"
   ]
  },
  {
   "cell_type": "code",
   "execution_count": 7,
   "id": "08c7a90e",
   "metadata": {},
   "outputs": [
    {
     "data": {
      "text/plain": [
       "array([[7, 4, 3],\n",
       "       [7, 6, 1],\n",
       "       [1, 5, 4],\n",
       "       [1, 8, 6],\n",
       "       [4, 5, 1],\n",
       "       [5, 1, 7],\n",
       "       [3, 1, 6],\n",
       "       [5, 3, 2],\n",
       "       [6, 5, 6],\n",
       "       [4, 1, 4]])"
      ]
     },
     "execution_count": 7,
     "metadata": {},
     "output_type": "execute_result"
    }
   ],
   "source": [
    "x"
   ]
  },
  {
   "cell_type": "code",
   "execution_count": 8,
   "id": "09d8c186",
   "metadata": {},
   "outputs": [
    {
     "data": {
      "text/plain": [
       "array([[6],\n",
       "       [8],\n",
       "       [4],\n",
       "       [8],\n",
       "       [4],\n",
       "       [6],\n",
       "       [7],\n",
       "       [3],\n",
       "       [1],\n",
       "       [2]])"
      ]
     },
     "execution_count": 8,
     "metadata": {},
     "output_type": "execute_result"
    }
   ],
   "source": [
    "y"
   ]
  },
  {
   "cell_type": "code",
   "execution_count": 6,
   "id": "13b81fdd",
   "metadata": {},
   "outputs": [
    {
     "data": {
      "text/plain": [
       "array([[7, 4, 3, 6],\n",
       "       [7, 6, 1, 8],\n",
       "       [1, 5, 4, 4],\n",
       "       [1, 8, 6, 8],\n",
       "       [4, 5, 1, 4],\n",
       "       [5, 1, 7, 6],\n",
       "       [3, 1, 6, 7],\n",
       "       [5, 3, 2, 3],\n",
       "       [6, 5, 6, 1],\n",
       "       [4, 1, 4, 2]])"
      ]
     },
     "execution_count": 6,
     "metadata": {},
     "output_type": "execute_result"
    }
   ],
   "source": [
    "np.concatenate((x,y),axis=1)"
   ]
  },
  {
   "cell_type": "markdown",
   "id": "89dbcdac",
   "metadata": {},
   "source": [
    "# conclusion:\n",
    "\n",
    "* in a non square matrix such as (100,3) the rank of the matrix is going to be <= 3. \n",
    "* rank = 3 means that only 3 rows and columns of elements are linearly independent and the rest of the elements of the matrix can be expressed as linear combinations of elements using the elements of the linearly independent rows and columns."
   ]
  },
  {
   "cell_type": "code",
   "execution_count": null,
   "id": "e3bad86e",
   "metadata": {},
   "outputs": [],
   "source": []
  },
  {
   "cell_type": "markdown",
   "id": "35d14444",
   "metadata": {},
   "source": [
    "# Model predicted values and residuals:\n",
    "\n",
    "![ssdfsd](61_linalg2.png)\n",
    "\n",
    "## notes:\n",
    "* since y_hat is not in the same column space as y (because the reality actually differs from our models always) we have epsilon to project the y_hat(prediction) onto y(actual).\n",
    "* Epsilon is the error vector. the distance between actual and prediction(y and y_hat).\n",
    "* Epsilon vector is orthogonal to y_hat because for projection purpose we had to move the beta of y_hat to perfectly 90 degree angle (perpendicular) for connecting the actual to the prediction. so, Epsilon is orthogonal to y_hat. But Epsilon need not always be orthogonal to y (its situation dependent some data allows it(especially if the design matrix is orthogonal in the first place) and some don't). Epsilon to orthogonal to y_hat because of the projection process but it need not be orthogonal to the vector it is \"projected from\" (y).\n",
    "* what you really care about Epsilon is their norm, magnitude because Bigger the magnitude, Bigger the Error and we want to have as little Error as possible to connect the prediction with actuality.\n",
    "---------------------\n",
    "\n",
    "![ssdfsd](61_linalg3.png)\n",
    "## notes:\n",
    "* The only thing we have control over in our equation is the beta. that is what we can change (reduce). we cannot do anything much to the design matrix nor to the actual outputs.\n",
    "* this beta is also known as the weights of the matrix.\n",
    "* so our goal to reduce the error would be to adjust the weights(beta) of the matrix in such a way that the total error would have been reduced."
   ]
  },
  {
   "cell_type": "code",
   "execution_count": null,
   "id": "e42a3506",
   "metadata": {},
   "outputs": [],
   "source": []
  },
  {
   "cell_type": "markdown",
   "id": "af3d6cb7",
   "metadata": {},
   "source": [
    "# day 281"
   ]
  },
  {
   "cell_type": "code",
   "execution_count": 2,
   "id": "df5b07d5",
   "metadata": {},
   "outputs": [],
   "source": [
    "import numpy as np\n",
    "import sympy as sym\n",
    "from IPython.display import display,Math\n",
    "sym.init_printing()\n",
    "import matplotlib.pyplot as plt"
   ]
  },
  {
   "cell_type": "markdown",
   "id": "109a61b6",
   "metadata": {},
   "source": [
    "# Applications of Least sqaures part1:\n",
    "![ssdfsd](61_linalg4.png)\n",
    "![ssdfsd](61_linalg5.png)\n",
    "![ssdfsd](61_linalg6.png)\n",
    "![ssdfsd](61_linalg7.png)"
   ]
  },
  {
   "cell_type": "code",
   "execution_count": 30,
   "id": "4615ff68",
   "metadata": {},
   "outputs": [
    {
     "name": "stdout",
     "output_type": "stream",
     "text": [
      "Beta: [[2.125]] , mean: 2.125 \n"
     ]
    },
    {
     "data": {
      "text/plain": [
       "array([[2.125],\n",
       "       [2.125],\n",
       "       [2.125],\n",
       "       [2.125],\n",
       "       [2.125],\n",
       "       [2.125],\n",
       "       [2.125],\n",
       "       [2.125]])"
      ]
     },
     "execution_count": 30,
     "metadata": {},
     "output_type": "execute_result"
    }
   ],
   "source": [
    "# data is a column matrix just like in the picture\n",
    "data = np.array([[-4,0,-3,1,2,8,5,8]]).T\n",
    "\n",
    "# x is a column matrix\n",
    "x = np.ones([len(data),1])\n",
    "\n",
    "# find the beta\n",
    "beta = np.linalg.solve(x.T@x,x.T@data)\n",
    "\n",
    "# compare against the mean\n",
    "m = np.mean(data)\n",
    "print('Beta: {} , mean: {} '.format(beta,m))\n",
    "\n",
    "# compute the y_hat (model prediction)\n",
    "y_hat = x@beta\n",
    "y_hat"
   ]
  },
  {
   "cell_type": "code",
   "execution_count": 31,
   "id": "5535cbf2",
   "metadata": {},
   "outputs": [
    {
     "data": {
      "image/png": "[encoded data removed]",
      "text/plain": [
       "<Figure size 432x288 with 1 Axes>"
      ]
     },
     "metadata": {
      "needs_background": "light"
     },
     "output_type": "display_data"
    }
   ],
   "source": [
    "# plotting the actual vs predictions\n",
    "n = len(data)\n",
    "xaxis_values = np.arange(1,n+1)\n",
    "\n",
    "plt.plot(xaxis_values,data,'bs-',label='Data')\n",
    "plt.plot(xaxis_values,y_hat,'ro--',label='$ \\\\bar{y} $')\n",
    "\n",
    "plt.legend(loc=(1.1,0.5))\n",
    "plt.show()"
   ]
  },
  {
   "cell_type": "markdown",
   "id": "32273eed",
   "metadata": {},
   "source": [
    "# exploration, analysis and freethrows"
   ]
  },
  {
   "cell_type": "code",
   "execution_count": 32,
   "id": "25f5b75b",
   "metadata": {},
   "outputs": [
    {
     "data": {
      "text/plain": [
       "array([[-4],\n",
       "       [ 0],\n",
       "       [-3],\n",
       "       [ 1],\n",
       "       [ 2],\n",
       "       [ 8],\n",
       "       [ 5],\n",
       "       [ 8]])"
      ]
     },
     "execution_count": 32,
     "metadata": {},
     "output_type": "execute_result"
    }
   ],
   "source": [
    "data"
   ]
  },
  {
   "cell_type": "code",
   "execution_count": 33,
   "id": "7fb14455",
   "metadata": {},
   "outputs": [
    {
     "data": {
      "text/plain": [
       "array([[1.],\n",
       "       [1.],\n",
       "       [1.],\n",
       "       [1.],\n",
       "       [1.],\n",
       "       [1.],\n",
       "       [1.],\n",
       "       [1.]])"
      ]
     },
     "execution_count": 33,
     "metadata": {},
     "output_type": "execute_result"
    }
   ],
   "source": [
    "x"
   ]
  },
  {
   "cell_type": "code",
   "execution_count": 34,
   "id": "39a86f80",
   "metadata": {},
   "outputs": [
    {
     "data": {
      "text/plain": [
       "array([[2.125]])"
      ]
     },
     "execution_count": 34,
     "metadata": {},
     "output_type": "execute_result"
    }
   ],
   "source": [
    "beta"
   ]
  },
  {
   "cell_type": "code",
   "execution_count": 35,
   "id": "36f239a4",
   "metadata": {},
   "outputs": [
    {
     "data": {
      "image/png": "[encoded data removed]",
      "text/latex": [
       "$\\displaystyle 2.125$"
      ],
      "text/plain": [
       "2.125"
      ]
     },
     "execution_count": 35,
     "metadata": {},
     "output_type": "execute_result"
    }
   ],
   "source": [
    "m"
   ]
  },
  {
   "cell_type": "code",
   "execution_count": 36,
   "id": "212d0ecb",
   "metadata": {},
   "outputs": [
    {
     "data": {
      "text/plain": [
       "array([[2.125],\n",
       "       [2.125],\n",
       "       [2.125],\n",
       "       [2.125],\n",
       "       [2.125],\n",
       "       [2.125],\n",
       "       [2.125],\n",
       "       [2.125]])"
      ]
     },
     "execution_count": 36,
     "metadata": {},
     "output_type": "execute_result"
    }
   ],
   "source": [
    "y_hat"
   ]
  },
  {
   "cell_type": "code",
   "execution_count": null,
   "id": "76e62fc8",
   "metadata": {},
   "outputs": [],
   "source": []
  },
  {
   "cell_type": "code",
   "execution_count": 43,
   "id": "08d8e33c",
   "metadata": {},
   "outputs": [
    {
     "data": {
      "image/png": "[encoded data removed]",
      "text/plain": [
       "<Figure size 432x288 with 1 Axes>"
      ]
     },
     "metadata": {
      "needs_background": "light"
     },
     "output_type": "display_data"
    }
   ],
   "source": [
    "# changing the design matrix(x) from having just 1's to having integer values\n",
    "x = np.array([np.arange(0,len(data))]).T\n",
    "\n",
    "# computing beta\n",
    "beta = np.linalg.solve(x.T@x,x.T@data)\n",
    "\n",
    "# computing y_hat(predictions)\n",
    "y_hat = x@beta\n",
    "\n",
    "# plotting the actual vs predictions\n",
    "n = len(data)\n",
    "xaxis_values = np.arange(1,n+1)\n",
    "\n",
    "plt.plot(xaxis_values,data,'bs-',label='Data')\n",
    "plt.plot(xaxis_values,y_hat,'ro--',label='$ \\\\bar{y} $')\n",
    "\n",
    "plt.legend(loc=(1.1,0.5))\n",
    "plt.show()\n"
   ]
  },
  {
   "cell_type": "markdown",
   "id": "b3a04ee1",
   "metadata": {},
   "source": [
    "# exploration, analysis and freethrows"
   ]
  },
  {
   "cell_type": "code",
   "execution_count": 42,
   "id": "ffe91990",
   "metadata": {},
   "outputs": [
    {
     "data": {
      "text/plain": [
       "array([[0],\n",
       "       [1],\n",
       "       [2],\n",
       "       [3],\n",
       "       [4],\n",
       "       [5],\n",
       "       [6],\n",
       "       [7]])"
      ]
     },
     "execution_count": 42,
     "metadata": {},
     "output_type": "execute_result"
    }
   ],
   "source": [
    "x"
   ]
  },
  {
   "cell_type": "code",
   "execution_count": 48,
   "id": "92253271",
   "metadata": {},
   "outputs": [
    {
     "data": {
      "text/plain": [
       "array([[-3.83333333],\n",
       "       [ 1.70238095]])"
      ]
     },
     "execution_count": 48,
     "metadata": {},
     "output_type": "execute_result"
    }
   ],
   "source": [
    "beta"
   ]
  },
  {
   "cell_type": "code",
   "execution_count": 50,
   "id": "45b5f066",
   "metadata": {},
   "outputs": [
    {
     "data": {
      "text/plain": [
       "array([[-4],\n",
       "       [ 0],\n",
       "       [-3],\n",
       "       [ 1],\n",
       "       [ 2],\n",
       "       [ 8],\n",
       "       [ 5],\n",
       "       [ 8]])"
      ]
     },
     "execution_count": 50,
     "metadata": {},
     "output_type": "execute_result"
    }
   ],
   "source": [
    "data"
   ]
  },
  {
   "cell_type": "code",
   "execution_count": 49,
   "id": "28239e86",
   "metadata": {},
   "outputs": [
    {
     "data": {
      "text/plain": [
       "array([[-3.83333333],\n",
       "       [-2.13095238],\n",
       "       [-0.42857143],\n",
       "       [ 1.27380952],\n",
       "       [ 2.97619048],\n",
       "       [ 4.67857143],\n",
       "       [ 6.38095238],\n",
       "       [ 8.08333333]])"
      ]
     },
     "execution_count": 49,
     "metadata": {},
     "output_type": "execute_result"
    }
   ],
   "source": [
    "y_hat"
   ]
  },
  {
   "cell_type": "code",
   "execution_count": null,
   "id": "038f0f5d",
   "metadata": {},
   "outputs": [],
   "source": []
  },
  {
   "cell_type": "code",
   "execution_count": 47,
   "id": "1d777990",
   "metadata": {},
   "outputs": [
    {
     "data": {
      "image/png": "[encoded data removed]",
      "text/plain": [
       "<Figure size 432x288 with 1 Axes>"
      ]
     },
     "metadata": {
      "needs_background": "light"
     },
     "output_type": "display_data"
    }
   ],
   "source": [
    "# modifying the design matrix to have both 1's column and integer column (1's for intercept and integers for updatable weights)\n",
    "x = np.concatenate([np.ones([len(data),1]),np.array([np.arange(0,len(data))]).T],axis=1)\n",
    "\n",
    "# computing beta\n",
    "beta = np.linalg.solve(x.T@x,x.T@data)\n",
    "\n",
    "# computing y_hat(predictions)\n",
    "y_hat = x@beta\n",
    "\n",
    "# plotting the actual vs predictions\n",
    "n = len(data)\n",
    "xaxis_values = np.arange(1,n+1)\n",
    "\n",
    "plt.plot(xaxis_values,data,'bs-',label='Data')\n",
    "plt.plot(xaxis_values,y_hat,'ro--',label='$ \\\\bar{y} $')\n",
    "\n",
    "plt.legend(loc=(1.1,0.5))\n",
    "plt.show()\n"
   ]
  },
  {
   "cell_type": "markdown",
   "id": "761c44e3",
   "metadata": {},
   "source": [
    "# exploration, analysis and freethrows"
   ]
  },
  {
   "cell_type": "code",
   "execution_count": 46,
   "id": "a296cc60",
   "metadata": {},
   "outputs": [
    {
     "data": {
      "text/plain": [
       "array([[1., 0.],\n",
       "       [1., 1.],\n",
       "       [1., 2.],\n",
       "       [1., 3.],\n",
       "       [1., 4.],\n",
       "       [1., 5.],\n",
       "       [1., 6.],\n",
       "       [1., 7.]])"
      ]
     },
     "execution_count": 46,
     "metadata": {},
     "output_type": "execute_result"
    }
   ],
   "source": [
    "x"
   ]
  },
  {
   "cell_type": "code",
   "execution_count": 51,
   "id": "8a30bafc",
   "metadata": {},
   "outputs": [
    {
     "data": {
      "text/plain": [
       "array([[-3.83333333],\n",
       "       [ 1.70238095]])"
      ]
     },
     "execution_count": 51,
     "metadata": {},
     "output_type": "execute_result"
    }
   ],
   "source": [
    "beta"
   ]
  },
  {
   "cell_type": "code",
   "execution_count": 52,
   "id": "704bbedb",
   "metadata": {},
   "outputs": [
    {
     "data": {
      "text/plain": [
       "array([[-4],\n",
       "       [ 0],\n",
       "       [-3],\n",
       "       [ 1],\n",
       "       [ 2],\n",
       "       [ 8],\n",
       "       [ 5],\n",
       "       [ 8]])"
      ]
     },
     "execution_count": 52,
     "metadata": {},
     "output_type": "execute_result"
    }
   ],
   "source": [
    "data"
   ]
  },
  {
   "cell_type": "code",
   "execution_count": 53,
   "id": "60bd8874",
   "metadata": {},
   "outputs": [
    {
     "data": {
      "text/plain": [
       "array([[-3.83333333],\n",
       "       [-2.13095238],\n",
       "       [-0.42857143],\n",
       "       [ 1.27380952],\n",
       "       [ 2.97619048],\n",
       "       [ 4.67857143],\n",
       "       [ 6.38095238],\n",
       "       [ 8.08333333]])"
      ]
     },
     "execution_count": 53,
     "metadata": {},
     "output_type": "execute_result"
    }
   ],
   "source": [
    "y_hat"
   ]
  },
  {
   "cell_type": "code",
   "execution_count": null,
   "id": "ea8e712e",
   "metadata": {},
   "outputs": [],
   "source": []
  },
  {
   "cell_type": "code",
   "execution_count": 54,
   "id": "bc789a21",
   "metadata": {},
   "outputs": [
    {
     "data": {
      "image/png": "[encoded data removed]",
      "text/plain": [
       "<Figure size 432x288 with 1 Axes>"
      ]
     },
     "metadata": {
      "needs_background": "light"
     },
     "output_type": "display_data"
    }
   ],
   "source": [
    "# to bring non-linearity we are squaring the x values\n",
    "x = np.concatenate([np.ones([len(data),1]),np.array([np.arange(0,len(data))**2]).T],axis=1)\n",
    "\n",
    "# computing beta\n",
    "beta = np.linalg.solve(x.T@x,x.T@data)\n",
    "\n",
    "# computing y_hat(predictions)\n",
    "y_hat = x@beta\n",
    "\n",
    "# plotting the actual vs predictions\n",
    "n = len(data)\n",
    "xaxis_values = np.arange(1,n+1)\n",
    "\n",
    "plt.plot(xaxis_values,data,'bs-',label='Data')\n",
    "plt.plot(xaxis_values,y_hat,'ro--',label='$ \\\\bar{y} $')\n",
    "\n",
    "plt.legend(loc=(1.1,0.5))\n",
    "plt.show()\n"
   ]
  },
  {
   "cell_type": "markdown",
   "id": "276997af",
   "metadata": {},
   "source": [
    "# exploration, analysis and freethrows"
   ]
  },
  {
   "cell_type": "code",
   "execution_count": 55,
   "id": "a387ffc2",
   "metadata": {},
   "outputs": [
    {
     "data": {
      "text/plain": [
       "array([[ 1.,  0.],\n",
       "       [ 1.,  1.],\n",
       "       [ 1.,  4.],\n",
       "       [ 1.,  9.],\n",
       "       [ 1., 16.],\n",
       "       [ 1., 25.],\n",
       "       [ 1., 36.],\n",
       "       [ 1., 49.]])"
      ]
     },
     "execution_count": 55,
     "metadata": {},
     "output_type": "execute_result"
    }
   ],
   "source": [
    "x"
   ]
  },
  {
   "cell_type": "code",
   "execution_count": 56,
   "id": "a28fb45d",
   "metadata": {},
   "outputs": [
    {
     "data": {
      "text/plain": [
       "array([[-1.83333333],\n",
       "       [ 0.22619048]])"
      ]
     },
     "execution_count": 56,
     "metadata": {},
     "output_type": "execute_result"
    }
   ],
   "source": [
    "beta"
   ]
  },
  {
   "cell_type": "code",
   "execution_count": 57,
   "id": "04cbdc6e",
   "metadata": {},
   "outputs": [
    {
     "data": {
      "text/plain": [
       "array([[-4],\n",
       "       [ 0],\n",
       "       [-3],\n",
       "       [ 1],\n",
       "       [ 2],\n",
       "       [ 8],\n",
       "       [ 5],\n",
       "       [ 8]])"
      ]
     },
     "execution_count": 57,
     "metadata": {},
     "output_type": "execute_result"
    }
   ],
   "source": [
    "data"
   ]
  },
  {
   "cell_type": "code",
   "execution_count": 58,
   "id": "e234a355",
   "metadata": {},
   "outputs": [
    {
     "data": {
      "text/plain": [
       "array([[-1.83333333],\n",
       "       [-1.60714286],\n",
       "       [-0.92857143],\n",
       "       [ 0.20238095],\n",
       "       [ 1.78571429],\n",
       "       [ 3.82142857],\n",
       "       [ 6.30952381],\n",
       "       [ 9.25      ]])"
      ]
     },
     "execution_count": 58,
     "metadata": {},
     "output_type": "execute_result"
    }
   ],
   "source": [
    "y_hat"
   ]
  },
  {
   "cell_type": "code",
   "execution_count": null,
   "id": "82d51a8d",
   "metadata": {},
   "outputs": [],
   "source": []
  },
  {
   "cell_type": "markdown",
   "id": "2b6434e2",
   "metadata": {},
   "source": [
    "# day 283"
   ]
  },
  {
   "cell_type": "code",
   "execution_count": 4,
   "id": "82691151",
   "metadata": {},
   "outputs": [],
   "source": [
    "import numpy as np\n",
    "import sympy as sym\n",
    "from IPython.display import display,Math\n",
    "sym.init_printing()\n",
    "import matplotlib.pyplot as plt\n",
    "import scipy.io as sio"
   ]
  },
  {
   "cell_type": "markdown",
   "id": "83a80168",
   "metadata": {},
   "source": [
    "# Least Square Applications part2:\n",
    "\n",
    "![sfsfdf](10124_la.png)\n",
    "![sfsfdf](10124_la1.png)\n",
    "![sfsfdf](10124_la2.png)\n",
    "## notes:\n",
    "* higher wave means high energy and lower wave means low energy.\n",
    "![sfsfdf](10124_la3.png)\n",
    "![sfsfdf](10124_la4.png)\n",
    "![sfsfdf](10124_la5.png)"
   ]
  },
  {
   "cell_type": "code",
   "execution_count": 5,
   "id": "46a23ae7",
   "metadata": {},
   "outputs": [
    {
     "data": {
      "image/png": "[encoded data removed]",
      "text/plain": [
       "<Figure size 432x288 with 1 Axes>"
      ]
     },
     "metadata": {
      "needs_background": "light"
     },
     "output_type": "display_data"
    },
    {
     "data": {
      "image/png": "[encoded data removed]",
      "text/plain": [
       "<Figure size 432x288 with 1 Axes>"
      ]
     },
     "metadata": {
      "needs_background": "light"
     },
     "output_type": "display_data"
    }
   ],
   "source": [
    "# data\n",
    "file_path = r'C:\\Users\\ADMIN\\for machine learning\\Learnings\\Maths for machine learning\\linear algebra\\leastsquares\\EEG_RT_data.mat'\n",
    "\n",
    "data = sio.loadmat(file_path)\n",
    "rts = data['rts'][0]\n",
    "EEGdata = data['EEGdata']\n",
    "frex = data['frex'][0]\n",
    "\n",
    "\n",
    "n_trails = len(rts)\n",
    "n_frex = len(frex)\n",
    "\n",
    "# plot the data\n",
    "plt.plot(rts,'ks-')\n",
    "plt.xlabel('Trial')\n",
    "plt.ylabel(\"Brains response(milliseconds)\",fontsize=15)\n",
    "plt.show()\n",
    "\n",
    "plt.imshow(EEGdata,origin='lower')\n",
    "plt.title(\"Amplitude of brain signals\")\n",
    "plt.xlabel('Trials')\n",
    "plt.ylabel('Frequencies')\n",
    "plt.show()"
   ]
  },
  {
   "cell_type": "code",
   "execution_count": 6,
   "id": "6855a30d",
   "metadata": {},
   "outputs": [
    {
     "data": {
      "text/plain": [
       "array([ 4.02435056e+02,  2.25627111e-01, -2.33132473e+01])"
      ]
     },
     "metadata": {},
     "output_type": "display_data"
    },
    {
     "data": {
      "text/plain": [
       "array([ 4.02435056e+02,  2.25627111e-01, -2.33132473e+01])"
      ]
     },
     "metadata": {},
     "output_type": "display_data"
    }
   ],
   "source": [
    "# create the design matrix\n",
    "x = np.concatenate([np.ones([n_trails-1,1]),#intercept\n",
    "                  np.reshape(rts[0:-1],(n_trails-1,1)),#response times\n",
    "                  np.reshape(EEGdata[10,:-1],(n_trails-1,1))],#Brain Frequency only for 10th row)\n",
    "                  axis=1)\n",
    "\n",
    "# finding the coefficients\n",
    "beta1 = np.linalg.solve(x.T@x,x.T@rts[1:])\n",
    "beta2 = np.linalg.lstsq(x,rts[1:],rcond=None)[0]\n",
    "\n",
    "display(beta1,beta2)"
   ]
  },
  {
   "cell_type": "code",
   "execution_count": 7,
   "id": "ab0ba6ac",
   "metadata": {},
   "outputs": [
    {
     "data": {
      "image/png": "[encoded data removed]",
      "text/plain": [
       "<Figure size 1152x432 with 3 Axes>"
      ]
     },
     "metadata": {
      "needs_background": "light"
     },
     "output_type": "display_data"
    }
   ],
   "source": [
    "# capture only the coefficients of the brain frequency from 0th index till the end using a loop\n",
    "\n",
    "betas_brain = np.zeros(EEGdata.shape[0])\n",
    "\n",
    "for i in range(EEGdata.shape[0]):\n",
    "    \n",
    "    # create the design matrix with only intercept and the EEGdata (the previous response time is insignficant so we drop it)\n",
    "    x = np.concatenate([np.ones([EEGdata.shape[1],1]), # it will have size (99,1)\n",
    "                       np.reshape(EEGdata[i,:],(EEGdata.shape[1],1))],# this will have a shape (99,1)\n",
    "                      axis=1)\n",
    "    \n",
    "    \n",
    "    \n",
    "    # since intercept remains the same for everything we are goint to capture only the beta for brain\n",
    "    betas_brain[i] = np.linalg.lstsq(x,rts,rcond=None)[0][1]\n",
    "    \n",
    "\n",
    "# plotting\n",
    "fig,ax = plt.subplots(1,3,figsize=(16,6))\n",
    "ax[0].plot(frex,betas_brain,'rs-')\n",
    "ax[0].set_xlabel('Frequency(Hz)')\n",
    "ax[0].set_ylabel('beta coefficient for brain')\n",
    "\n",
    "ax[1].plot(EEGdata[8,:],rts,'ks')\n",
    "ax[1].set_xlabel('Brain Energy')\n",
    "ax[1].set_ylabel('Response Time')\n",
    "\n",
    "ax[2].plot(EEGdata[23,:],rts,'bs')\n",
    "ax[2].set_xlabel('Brain Energy')\n",
    "ax[2].set_ylabel('Response Time')\n",
    "\n",
    "plt.tight_layout(pad=(2))\n",
    "plt.show()\n",
    "                        "
   ]
  },
  {
   "cell_type": "code",
   "execution_count": null,
   "id": "1a22b7b1",
   "metadata": {},
   "outputs": [],
   "source": []
  },
  {
   "cell_type": "markdown",
   "id": "44b57788",
   "metadata": {},
   "source": [
    "# exploration analysis and freethrows"
   ]
  },
  {
   "cell_type": "code",
   "execution_count": 7,
   "id": "56c88ec6",
   "metadata": {},
   "outputs": [
    {
     "data": {
      "text/plain": [
       "{'__header__': b'MATLAB 5.0 MAT-file, Platform: PCWIN64, Created on: Mon Apr 29 22:22:51 2019',\n",
       " '__version__': '1.0',\n",
       " '__globals__': [],\n",
       " 'EEGdata': array([[-0.9366893 , -0.15520054,  0.40097923, ...,  0.0079469 ,\n",
       "         -0.64382952, -0.53937401],\n",
       "        [-0.96124913, -0.89120355, -0.10114609, ...,  0.25465626,\n",
       "         -0.70117511, -0.92142461],\n",
       "        [-0.40135024, -0.07703886, -0.95424362, ..., -0.84848245,\n",
       "         -0.77255887, -0.98707863],\n",
       "        ...,\n",
       "        [-0.64795022, -0.02376212, -0.08297795, ...,  0.58319576,\n",
       "         -0.77455979, -1.02871309],\n",
       "        [-0.43207024, -0.04776184,  0.22364603, ...,  0.13781441,\n",
       "         -0.85807112, -1.02559048],\n",
       "        [-0.23394052, -0.2544919 ,  0.25843083, ..., -0.18581274,\n",
       "         -0.87773935, -0.97519322]]),\n",
       " 'frex': array([[ 2.        ,  2.79310345,  3.5862069 ,  4.37931034,  5.17241379,\n",
       "          5.96551724,  6.75862069,  7.55172414,  8.34482759,  9.13793103,\n",
       "          9.93103448, 10.72413793, 11.51724138, 12.31034483, 13.10344828,\n",
       "         13.89655172, 14.68965517, 15.48275862, 16.27586207, 17.06896552,\n",
       "         17.86206897, 18.65517241, 19.44827586, 20.24137931, 21.03448276,\n",
       "         21.82758621, 22.62068966, 23.4137931 , 24.20689655, 25.        ]]),\n",
       " 'rts': array([[887.20703125, 709.47265625, 353.02734375, 441.89453125,\n",
       "         479.98046875, 534.1796875 , 417.96875   , 746.58203125,\n",
       "         603.515625  , 437.98828125, 677.734375  , 732.91015625,\n",
       "         416.015625  , 633.30078125, 573.2421875 , 762.20703125,\n",
       "         604.00390625, 512.20703125, 541.50390625, 559.5703125 ,\n",
       "         683.59375   , 463.37890625, 477.5390625 , 498.046875  ,\n",
       "         577.1484375 , 703.125     , 543.9453125 , 402.34375   ,\n",
       "         370.60546875, 664.55078125, 556.640625  , 589.84375   ,\n",
       "         636.23046875, 760.25390625, 754.39453125, 449.70703125,\n",
       "         462.40234375, 494.140625  , 425.29296875, 316.89453125,\n",
       "         587.890625  , 520.01953125, 500.9765625 , 447.75390625,\n",
       "         556.15234375, 409.1796875 , 458.984375  , 578.125     ,\n",
       "         639.16015625, 468.26171875, 491.2109375 , 416.9921875 ,\n",
       "         474.609375  , 468.75      , 665.0390625 , 610.3515625 ,\n",
       "         397.94921875, 495.1171875 , 474.609375  , 389.6484375 ,\n",
       "         549.8046875 , 437.98828125, 498.046875  , 506.34765625,\n",
       "         606.4453125 , 430.6640625 , 367.1875    , 515.625     ,\n",
       "         472.65625   , 327.63671875, 483.88671875, 346.6796875 ,\n",
       "         458.49609375, 393.06640625, 394.53125   , 554.19921875,\n",
       "         373.046875  , 528.3203125 , 495.1171875 , 452.1484375 ,\n",
       "         513.18359375, 505.37109375, 770.99609375, 475.09765625,\n",
       "         518.5546875 , 428.22265625, 715.33203125, 574.21875   ,\n",
       "         477.5390625 , 609.375     , 412.59765625, 476.5625    ,\n",
       "         488.28125   , 490.72265625, 464.35546875, 494.62890625,\n",
       "         575.1953125 , 636.71875   , 574.70703125]])}"
      ]
     },
     "execution_count": 7,
     "metadata": {},
     "output_type": "execute_result"
    }
   ],
   "source": [
    "# data\n",
    "data"
   ]
  },
  {
   "cell_type": "code",
   "execution_count": 14,
   "id": "770dedcd",
   "metadata": {},
   "outputs": [
    {
     "data": {
      "text/plain": [
       "array([[ 2.        ,  2.79310345,  3.5862069 ,  4.37931034,  5.17241379,\n",
       "         5.96551724,  6.75862069,  7.55172414,  8.34482759,  9.13793103,\n",
       "         9.93103448, 10.72413793, 11.51724138, 12.31034483, 13.10344828,\n",
       "        13.89655172, 14.68965517, 15.48275862, 16.27586207, 17.06896552,\n",
       "        17.86206897, 18.65517241, 19.44827586, 20.24137931, 21.03448276,\n",
       "        21.82758621, 22.62068966, 23.4137931 , 24.20689655, 25.        ]])"
      ]
     },
     "execution_count": 14,
     "metadata": {},
     "output_type": "execute_result"
    }
   ],
   "source": [
    "data['frex']"
   ]
  },
  {
   "cell_type": "code",
   "execution_count": 32,
   "id": "32cf5115",
   "metadata": {},
   "outputs": [
    {
     "data": {
      "text/plain": [
       "array([[1., 1., 1.],\n",
       "       [1., 1., 1.],\n",
       "       [1., 1., 1.],\n",
       "       [1., 1., 1.],\n",
       "       [1., 1., 1.],\n",
       "       [1., 1., 1.],\n",
       "       [1., 1., 1.],\n",
       "       [1., 1., 1.],\n",
       "       [1., 1., 1.],\n",
       "       [1., 1., 1.]])"
      ]
     },
     "execution_count": 32,
     "metadata": {},
     "output_type": "execute_result"
    }
   ],
   "source": [
    "np.ones([n_trails,3])[:10]"
   ]
  },
  {
   "cell_type": "code",
   "execution_count": 33,
   "id": "ed082bb2",
   "metadata": {},
   "outputs": [
    {
     "data": {
      "text/plain": [
       "array([[1.],\n",
       "       [1.],\n",
       "       [1.],\n",
       "       [1.],\n",
       "       [1.],\n",
       "       [1.],\n",
       "       [1.],\n",
       "       [1.],\n",
       "       [1.],\n",
       "       [1.]])"
      ]
     },
     "execution_count": 33,
     "metadata": {},
     "output_type": "execute_result"
    }
   ],
   "source": [
    "np.ones([n_trails,1])[:10]"
   ]
  },
  {
   "cell_type": "code",
   "execution_count": 36,
   "id": "d6d802b9",
   "metadata": {},
   "outputs": [
    {
     "data": {
      "image/png": "[encoded data removed]",
      "text/latex": [
       "$\\displaystyle 99$"
      ],
      "text/plain": [
       "99"
      ]
     },
     "execution_count": 36,
     "metadata": {},
     "output_type": "execute_result"
    }
   ],
   "source": [
    "n_trails"
   ]
  },
  {
   "cell_type": "code",
   "execution_count": 35,
   "id": "39889b09",
   "metadata": {},
   "outputs": [
    {
     "data": {
      "text/plain": [
       "array([[887.20703125],\n",
       "       [709.47265625],\n",
       "       [353.02734375],\n",
       "       [441.89453125],\n",
       "       [479.98046875],\n",
       "       [534.1796875 ],\n",
       "       [417.96875   ],\n",
       "       [746.58203125],\n",
       "       [603.515625  ],\n",
       "       [437.98828125]])"
      ]
     },
     "execution_count": 35,
     "metadata": {},
     "output_type": "execute_result"
    }
   ],
   "source": [
    "# reshape rts to (98,1)\n",
    "np.reshape(rts[0:-1],(n_trails-1,1))[:10]"
   ]
  },
  {
   "cell_type": "code",
   "execution_count": 38,
   "id": "a095b83a",
   "metadata": {},
   "outputs": [
    {
     "data": {
      "text/plain": [
       "array([[-0.9366893 , -0.15520054,  0.40097923, ...,  0.0079469 ,\n",
       "        -0.64382952, -0.53937401],\n",
       "       [-0.96124913, -0.89120355, -0.10114609, ...,  0.25465626,\n",
       "        -0.70117511, -0.92142461],\n",
       "       [-0.40135024, -0.07703886, -0.95424362, ..., -0.84848245,\n",
       "        -0.77255887, -0.98707863],\n",
       "       ...,\n",
       "       [-0.64795022, -0.02376212, -0.08297795, ...,  0.58319576,\n",
       "        -0.77455979, -1.02871309],\n",
       "       [-0.43207024, -0.04776184,  0.22364603, ...,  0.13781441,\n",
       "        -0.85807112, -1.02559048],\n",
       "       [-0.23394052, -0.2544919 ,  0.25843083, ..., -0.18581274,\n",
       "        -0.87773935, -0.97519322]])"
      ]
     },
     "execution_count": 38,
     "metadata": {},
     "output_type": "execute_result"
    }
   ],
   "source": [
    "EEGdata"
   ]
  },
  {
   "cell_type": "code",
   "execution_count": 39,
   "id": "363d737f",
   "metadata": {},
   "outputs": [
    {
     "data": {
      "text/plain": [
       "array([ 0.07061781, -0.30021714, -0.8529997 , -0.65049797, -0.32436979,\n",
       "       -0.78170975, -0.62290423, -0.26151693,  1.09224504, -0.55597681,\n",
       "        0.79229007,  2.70894106, -0.77018662, -0.65588981, -0.27922768,\n",
       "       -0.22170198, -0.72578729, -0.44439866, -0.82489696, -0.37158378,\n",
       "       -0.228583  , -0.71812876,  1.53094495, -0.4890137 ,  0.09686956,\n",
       "        0.03686633, -0.64295784, -0.74612362, -0.65064367, -0.72344692,\n",
       "       -0.40403041,  0.3653927 , -0.23461943,  0.11700228,  0.721439  ,\n",
       "        0.35862257, -0.29157711, -0.63558574, -0.8003905 , -0.44576209,\n",
       "       -0.57751782,  0.69040433, -0.76081451,  0.19097812,  4.07578634,\n",
       "       -0.52958017,  1.58168342, -0.2994171 ,  1.16597161,  0.45089464,\n",
       "        0.88173022,  0.00745725, -0.77043557, -0.59065786, -0.30820588,\n",
       "        0.53813702,  0.35384063, -0.88437926,  0.94471056, -0.68241982,\n",
       "        0.19527962, -0.86081712, -0.70084206, -0.69544675,  1.62465901,\n",
       "       -0.69242813, -0.61475924, -0.13516724,  0.64673603,  0.85272876,\n",
       "        0.2111114 , -0.62100289,  0.08911493, -0.67189304,  1.75017889,\n",
       "       -0.89531466, -0.29146803,  0.27120431, -0.33092671, -0.8288147 ,\n",
       "       -0.41744818, -0.8359841 ,  0.2880483 ,  3.18357306, -0.40263295,\n",
       "       -0.73188625,  1.11729289, -0.82356469, -0.74603418,  3.84828325,\n",
       "       -0.88889701, -0.1158753 , -0.69614957, -0.36793113,  1.51335886,\n",
       "       -0.72893595, -0.68357462,  1.77404224])"
      ]
     },
     "execution_count": 39,
     "metadata": {},
     "output_type": "execute_result"
    }
   ],
   "source": [
    "# EEGdata only for 10th row\n",
    "EEGdata[10,:-1]"
   ]
  },
  {
   "cell_type": "code",
   "execution_count": 44,
   "id": "331aef22",
   "metadata": {},
   "outputs": [
    {
     "data": {
      "text/plain": [
       "array([[  1.        , 887.20703125],\n",
       "       [  1.        , 709.47265625],\n",
       "       [  1.        , 353.02734375],\n",
       "       [  1.        , 441.89453125],\n",
       "       [  1.        , 479.98046875],\n",
       "       [  1.        , 534.1796875 ],\n",
       "       [  1.        , 417.96875   ],\n",
       "       [  1.        , 746.58203125],\n",
       "       [  1.        , 603.515625  ],\n",
       "       [  1.        , 437.98828125]])"
      ]
     },
     "execution_count": 44,
     "metadata": {},
     "output_type": "execute_result"
    }
   ],
   "source": [
    "x[:10,:-1] # only until 10th row and till last column."
   ]
  },
  {
   "cell_type": "code",
   "execution_count": 47,
   "id": "70bb018c",
   "metadata": {},
   "outputs": [
    {
     "data": {
      "text/plain": [
       "array([ 4.02435056e+02,  2.25627111e-01, -2.33132473e+01])"
      ]
     },
     "execution_count": 47,
     "metadata": {},
     "output_type": "execute_result"
    }
   ],
   "source": [
    "beta"
   ]
  },
  {
   "cell_type": "code",
   "execution_count": 49,
   "id": "78925092",
   "metadata": {},
   "outputs": [
    {
     "data": {
      "text/plain": [
       "array([ 4.02435056e+02,  2.25627111e-01, -2.33132473e+01])"
      ]
     },
     "execution_count": 49,
     "metadata": {},
     "output_type": "execute_result"
    }
   ],
   "source": [
    "beta"
   ]
  },
  {
   "cell_type": "code",
   "execution_count": null,
   "id": "008b73b6",
   "metadata": {},
   "outputs": [],
   "source": []
  },
  {
   "cell_type": "code",
   "execution_count": 54,
   "id": "d809024a",
   "metadata": {},
   "outputs": [
    {
     "data": {
      "image/png": "[encoded data removed]",
      "text/latex": [
       "$\\displaystyle 30$"
      ],
      "text/plain": [
       "30"
      ]
     },
     "execution_count": 54,
     "metadata": {},
     "output_type": "execute_result"
    }
   ],
   "source": [
    "EEGdata.shape[0]"
   ]
  },
  {
   "cell_type": "code",
   "execution_count": 67,
   "id": "afe040a2",
   "metadata": {},
   "outputs": [
    {
     "data": {
      "text/plain": [
       "array([[-0.9366893 ],\n",
       "       [-0.15520054],\n",
       "       [ 0.40097923],\n",
       "       [-0.52070225],\n",
       "       [-0.2873456 ],\n",
       "       [ 0.67388442],\n",
       "       [-0.02338263],\n",
       "       [-0.77892959],\n",
       "       [ 0.13818807],\n",
       "       [ 3.18168576]])"
      ]
     },
     "execution_count": 67,
     "metadata": {},
     "output_type": "execute_result"
    }
   ],
   "source": [
    "np.reshape(EEGdata[0,:],(EEGdata.shape[1],1))[:10]"
   ]
  },
  {
   "cell_type": "code",
   "execution_count": 68,
   "id": "e504ad9d",
   "metadata": {},
   "outputs": [
    {
     "data": {
      "text/plain": [
       "array([ -1.58036212,   1.45278377,  22.64492064,  32.27655767,\n",
       "        21.56721422,  18.12570874,  22.23581072,  31.82180982,\n",
       "        36.48443107,  31.83136225,  25.4814663 ,  17.34930448,\n",
       "         9.22160399,   4.07223196,   1.72863185,   0.61020774,\n",
       "        -0.70284708,  -3.35199293,  -7.95283058, -13.7972634 ,\n",
       "       -20.52683477, -27.11716726, -31.99941131, -34.12508339,\n",
       "       -31.65202437, -25.69663959, -19.056376  , -12.44376708,\n",
       "        -8.01855578,  -7.71753689])"
      ]
     },
     "execution_count": 68,
     "metadata": {},
     "output_type": "execute_result"
    }
   ],
   "source": [
    "betas_brain"
   ]
  },
  {
   "cell_type": "markdown",
   "id": "4b6e2835",
   "metadata": {},
   "source": [
    "# conclusion:\n",
    "\n",
    "* when we think about something we spend more energy on it and therefore our response time is higher.\n",
    "* when we don't have to think about anything our response time would be way faster.\n",
    "* the act of thinking literally 'sucks' energy."
   ]
  },
  {
   "cell_type": "code",
   "execution_count": null,
   "id": "63d099bf",
   "metadata": {},
   "outputs": [],
   "source": []
  },
  {
   "cell_type": "markdown",
   "id": "89b654fa",
   "metadata": {},
   "source": [
    "# day 286"
   ]
  },
  {
   "cell_type": "code",
   "execution_count": 1,
   "id": "965f7e8c",
   "metadata": {},
   "outputs": [],
   "source": [
    "import numpy as np\n",
    "import sympy as sym\n",
    "from IPython.display import display,Math\n",
    "sym.init_printing()\n",
    "import matplotlib.pyplot as plt"
   ]
  },
  {
   "cell_type": "markdown",
   "id": "f9137739",
   "metadata": {},
   "source": [
    "# code challenge: solve for beta using QR Decomposition.\n",
    "\n",
    "## goals;\n",
    "1. generate random matrix(design matrix x, y)\n",
    "2. solve for beta using qr decompostion.\n",
    "3. compare the QR results with standard left inverse method and normal method.\n",
    "\n",
    "# professor mike's solution:\n",
    "![sdfsdfs](160124_linalg0.png)"
   ]
  },
  {
   "cell_type": "code",
   "execution_count": 87,
   "id": "3e2839d1",
   "metadata": {},
   "outputs": [
    {
     "name": "stdout",
     "output_type": "stream",
     "text": [
      "Beta from QR decomposition: \n"
     ]
    },
    {
     "data": {
      "text/plain": [
       "array([[ 4.03745625],\n",
       "       [ 3.39103388],\n",
       "       [ 3.95461621],\n",
       "       [-5.20944362],\n",
       "       [ 0.89510421],\n",
       "       [-4.79066197],\n",
       "       [-5.75343763],\n",
       "       [ 3.05163065],\n",
       "       [ 3.76219478],\n",
       "       [-0.41864945]])"
      ]
     },
     "metadata": {},
     "output_type": "display_data"
    },
    {
     "name": "stdout",
     "output_type": "stream",
     "text": [
      "Beta from left inverse: \n"
     ]
    },
    {
     "data": {
      "text/plain": [
       "array([[ 4.03745625],\n",
       "       [ 3.39103388],\n",
       "       [ 3.95461621],\n",
       "       [-5.20944362],\n",
       "       [ 0.89510421],\n",
       "       [-4.79066197],\n",
       "       [-5.75343763],\n",
       "       [ 3.05163065],\n",
       "       [ 3.76219478],\n",
       "       [-0.41864945]])"
      ]
     },
     "metadata": {},
     "output_type": "display_data"
    },
    {
     "name": "stdout",
     "output_type": "stream",
     "text": [
      "Beta from normal\n"
     ]
    },
    {
     "data": {
      "text/plain": [
       "array([[ 4.03745625],\n",
       "       [ 3.39103388],\n",
       "       [ 3.95461621],\n",
       "       [-5.20944362],\n",
       "       [ 0.89510421],\n",
       "       [-4.79066197],\n",
       "       [-5.75343763],\n",
       "       [ 3.05163065],\n",
       "       [ 3.76219478],\n",
       "       [-0.41864945]])"
      ]
     },
     "metadata": {},
     "output_type": "display_data"
    }
   ],
   "source": [
    "y = np.random.rand(1,10).T\n",
    "x = np.random.rand(10,5) # x needs to be square matrix to find the inverse of r matrix.\n",
    "\n",
    "q,r = np.linalg.qr(x,'complete')\n",
    "\n",
    "beta_from_qr = np.linalg.inv(r.T@r) @ (q@r).T @ y\n",
    "beta_from_leftinverse = np.linalg.inv(x.T@x) @ (x.T@y)\n",
    "beta_from_normal = np.linalg.solve(x.T@x,x.T@y) \n",
    "\n",
    "print('Beta from QR decomposition: ')\n",
    "display(beta_from_qr)\n",
    "\n",
    "print(\"Beta from left inverse: \")\n",
    "display(beta_from_leftinverse)\n",
    "\n",
    "print(\"Beta from normal\")\n",
    "display(beta_from_normal)\n"
   ]
  },
  {
   "cell_type": "markdown",
   "id": "0524e8fa",
   "metadata": {},
   "source": [
    "# exploration,analysis and freethrows"
   ]
  },
  {
   "cell_type": "code",
   "execution_count": 68,
   "id": "1a5b8f12",
   "metadata": {},
   "outputs": [
    {
     "data": {
      "text/plain": [
       "array([[0.69331785],\n",
       "       [0.70306687],\n",
       "       [0.01540646],\n",
       "       [0.76513572],\n",
       "       [0.46349914],\n",
       "       [0.31723297],\n",
       "       [0.10637189],\n",
       "       [0.44374915],\n",
       "       [0.08175697],\n",
       "       [0.26896281]])"
      ]
     },
     "execution_count": 68,
     "metadata": {},
     "output_type": "execute_result"
    }
   ],
   "source": [
    "y[:10]"
   ]
  },
  {
   "cell_type": "code",
   "execution_count": 69,
   "id": "356341a1",
   "metadata": {},
   "outputs": [
    {
     "data": {
      "text/plain": [
       "array([[0.59439844, 0.43820047, 0.64356092, 0.18129715, 0.05884277,\n",
       "        0.4296577 , 0.96832677, 0.51393814, 0.24706815, 0.08774498],\n",
       "       [0.53428187, 0.8259353 , 0.62445728, 0.95600563, 0.01027725,\n",
       "        0.95388385, 0.6520675 , 0.39481537, 0.1543333 , 0.89221126],\n",
       "       [0.35366962, 0.47611461, 0.04537456, 0.05505771, 0.99652904,\n",
       "        0.0762603 , 0.62259001, 0.61626964, 0.79402999, 0.97477099],\n",
       "       [0.98547021, 0.84360187, 0.55869778, 0.76339174, 0.09324736,\n",
       "        0.75421222, 0.80886077, 0.74992953, 0.56763991, 0.25801513],\n",
       "       [0.41850544, 0.67457645, 0.77244817, 0.91315172, 0.71079802,\n",
       "        0.58844616, 0.25024518, 0.62986112, 0.57504452, 0.31609591],\n",
       "       [0.80106846, 0.0135769 , 0.48877767, 0.24817704, 0.92972041,\n",
       "        0.58568376, 0.15649839, 0.92889966, 0.22623076, 0.20482307],\n",
       "       [0.02472879, 0.80181568, 0.95653472, 0.98094481, 0.88401363,\n",
       "        0.62680854, 0.26091447, 0.65906927, 0.37366615, 0.6359843 ],\n",
       "       [0.83460214, 0.0631661 , 0.2937959 , 0.47274289, 0.33325953,\n",
       "        0.29615519, 0.27233043, 0.07840463, 0.72656519, 0.7127124 ],\n",
       "       [0.97253963, 0.65005019, 0.61163571, 0.00824357, 0.97427068,\n",
       "        0.94012779, 0.71890896, 0.92559142, 0.26325407, 0.49140106],\n",
       "       [0.60847301, 0.52469302, 0.81110713, 0.1846114 , 0.16568111,\n",
       "        0.05313809, 0.32337456, 0.11211451, 0.57181652, 0.24231725]])"
      ]
     },
     "execution_count": 69,
     "metadata": {},
     "output_type": "execute_result"
    }
   ],
   "source": [
    "x"
   ]
  },
  {
   "cell_type": "code",
   "execution_count": 70,
   "id": "db0797c6",
   "metadata": {},
   "outputs": [
    {
     "data": {
      "text/plain": [
       "array([[-0.27819696, -0.03551546,  0.22005632,  0.28552962,  0.3102311 ,\n",
       "        -0.06215646, -0.80285426,  0.08417304, -0.17435504, -0.09605547],\n",
       "       [-0.25006053, -0.37175061, -0.15469721, -0.3259569 ,  0.28452789,\n",
       "        -0.36294793, -0.03132796, -0.30412101,  0.53322126, -0.28037267],\n",
       "       [-0.16552838, -0.19053933, -0.50336411,  0.17228605, -0.55736898,\n",
       "         0.42225949, -0.30061157, -0.01726912,  0.24619606, -0.11399963],\n",
       "       [-0.46123071, -0.15098327, -0.39316341, -0.21456371,  0.31162233,\n",
       "         0.0994217 ,  0.1445083 ,  0.53044983, -0.16725911,  0.3558466 ],\n",
       "       [-0.19587356, -0.31291623,  0.2129648 , -0.27020648, -0.18998054,\n",
       "         0.1249678 ,  0.15653666,  0.11094231, -0.49280767, -0.64340543],\n",
       "       [-0.37492496,  0.40595647,  0.36386373, -0.13076648, -0.37397258,\n",
       "        -0.20584999,  0.00318986,  0.43964199,  0.40557189, -0.07155703],\n",
       "       [-0.01157384, -0.61779784,  0.44655705, -0.11725821, -0.31164683,\n",
       "        -0.03575206, -0.07980996, -0.05147211,  0.01636355,  0.54528933],\n",
       "       [-0.39061977,  0.38439348,  0.05838743, -0.44734511, -0.03762765,\n",
       "         0.28349042, -0.10846842, -0.56990402, -0.17656127,  0.21591337],\n",
       "       [-0.4551788 , -0.00547251, -0.1377442 ,  0.51171072, -0.2192478 ,\n",
       "        -0.48626898,  0.27457912, -0.27841208, -0.26343812,  0.07160479],\n",
       "       [-0.2847843 , -0.09622505,  0.34661868,  0.41313249,  0.3040964 ,\n",
       "         0.54783565,  0.35376689, -0.09057341,  0.29748622, -0.06606474]])"
      ]
     },
     "execution_count": 70,
     "metadata": {},
     "output_type": "execute_result"
    }
   ],
   "source": [
    "q"
   ]
  },
  {
   "cell_type": "code",
   "execution_count": 71,
   "id": "6a0a83b5",
   "metadata": {},
   "outputs": [
    {
     "data": {
      "text/plain": [
       "array([[-2.13661012, -1.41283486, -1.57017273, -1.17496172, -1.34576406,\n",
       "        -1.61939355, -1.54498277, -1.65273763, -1.26883683, -1.24502592],\n",
       "       [ 0.        , -1.27139284, -0.95069537, -1.11469114, -0.49417469,\n",
       "        -0.72830156, -0.62388496, -0.60856384, -0.39927418, -0.72020076],\n",
       "       [ 0.        ,  0.        ,  0.78606807,  0.37742853,  0.30019567,\n",
       "         0.1366168 , -0.26347702,  0.12935278, -0.01635996, -0.22705484],\n",
       "       [ 0.        ,  0.        ,  0.        , -0.93936992,  0.16574659,\n",
       "        -0.27547826,  0.25861878,  0.07925527, -0.14761441, -0.30722349],\n",
       "       [ 0.        ,  0.        ,  0.        ,  0.        , -1.43918861,\n",
       "        -0.13004737,  0.13407288, -0.68225086, -0.36659078, -0.57754489],\n",
       "       [ 0.        ,  0.        ,  0.        ,  0.        ,  0.        ,\n",
       "        -0.67925223, -0.05903624, -0.34296085,  0.72350716,  0.17842377],\n",
       "       [ 0.        ,  0.        ,  0.        ,  0.        ,  0.        ,\n",
       "         0.        , -0.56701835, -0.16760775, -0.10318123, -0.21141813],\n",
       "       [ 0.        ,  0.        ,  0.        ,  0.        ,  0.        ,\n",
       "         0.        ,  0.        ,  0.44214996, -0.13388021, -0.61647915],\n",
       "       [ 0.        ,  0.        ,  0.        ,  0.        ,  0.        ,\n",
       "         0.        ,  0.        ,  0.        , -0.07328558,  0.41177444],\n",
       "       [ 0.        ,  0.        ,  0.        ,  0.        ,  0.        ,\n",
       "         0.        ,  0.        ,  0.        ,  0.        ,  0.02393352]])"
      ]
     },
     "execution_count": 71,
     "metadata": {},
     "output_type": "execute_result"
    }
   ],
   "source": [
    "r"
   ]
  },
  {
   "cell_type": "code",
   "execution_count": 72,
   "id": "c23dad3b",
   "metadata": {},
   "outputs": [
    {
     "data": {
      "image/png": "[encoded data removed]",
      "text/latex": [
       "$\\displaystyle \\left( 10, \\  10\\right)$"
      ],
      "text/plain": [
       "(10, 10)"
      ]
     },
     "execution_count": 72,
     "metadata": {},
     "output_type": "execute_result"
    }
   ],
   "source": [
    "q.shape"
   ]
  },
  {
   "cell_type": "code",
   "execution_count": 73,
   "id": "9d9d3ddd",
   "metadata": {},
   "outputs": [
    {
     "data": {
      "image/png": "[encoded data removed]",
      "text/latex": [
       "$\\displaystyle \\left( 10, \\  10\\right)$"
      ],
      "text/plain": [
       "(10, 10)"
      ]
     },
     "execution_count": 73,
     "metadata": {},
     "output_type": "execute_result"
    }
   ],
   "source": [
    "r.shape"
   ]
  },
  {
   "cell_type": "code",
   "execution_count": 74,
   "id": "7c37e09f",
   "metadata": {},
   "outputs": [
    {
     "data": {
      "image/png": "[encoded data removed]",
      "text/latex": [
       "$\\displaystyle \\left( 10, \\  1\\right)$"
      ],
      "text/plain": [
       "(10, 1)"
      ]
     },
     "execution_count": 74,
     "metadata": {},
     "output_type": "execute_result"
    }
   ],
   "source": [
    "y.shape"
   ]
  },
  {
   "cell_type": "code",
   "execution_count": 75,
   "id": "d52ebb5f",
   "metadata": {},
   "outputs": [
    {
     "data": {
      "text/plain": [
       "array([[ 1.00000000e+00, -3.73244645e-12, -5.27727646e-12],\n",
       "       [ 7.71345773e-12,  1.00000000e+00, -2.50105651e-12],\n",
       "       [-1.03119929e-11, -3.58717587e-12,  1.00000000e+00]])"
      ]
     },
     "execution_count": 75,
     "metadata": {},
     "output_type": "execute_result"
    }
   ],
   "source": [
    "x = np.random.rand(3,3)\n",
    "np.linalg.inv(x.T@x)@(x.T@x)"
   ]
  },
  {
   "cell_type": "code",
   "execution_count": null,
   "id": "f303246d",
   "metadata": {},
   "outputs": [],
   "source": []
  },
  {
   "cell_type": "markdown",
   "id": "4638a4e3",
   "metadata": {},
   "source": [
    "# exercise:"
   ]
  },
  {
   "cell_type": "markdown",
   "id": "61a97806",
   "metadata": {},
   "source": [
    "# day 289,day 291"
   ]
  },
  {
   "cell_type": "code",
   "execution_count": 18,
   "id": "9d99e1dc",
   "metadata": {},
   "outputs": [],
   "source": [
    "import numpy as np\n",
    "import sympy as sym\n",
    "from IPython.display import display,Math\n",
    "sym.init_printing()\n",
    "import matplotlib.pyplot as plt\n",
    "import scipy.io as sio\n",
    "import pandas as pd\n",
    "import seaborn as sns"
   ]
  },
  {
   "cell_type": "markdown",
   "id": "88cc1d23",
   "metadata": {},
   "source": [
    "*  Imagine you work as a data analyst in a company that sells widgets online. The company gives you a dataset of information from 1000 sales, which includes the time of the sale (listed in hours of the day using a 24-hour clock, e.g., 15 = 3pm), the age of the buyer (in years), and the number of widgets sold. The data are included in the ”widget data.mat” file.\n",
    "1. Explain and write down a mathematical model that is appropriate to test with this dataset.\n",
    "2. Write the matrix equation corresponding to the model, and describe the columns in the design matrix.\n",
    "3. Compute the model coefficients using the least-squares algorithm in MATLAB or Python. You can also divide the β coefficients by the standard deviations of the corresponding independent variables, which puts the various model terms in the same scale and therefore more comparable.\n",
    "4. Produce scatter plots that visualize the relationship between the independent and dependent variables.\n",
    "5. Compute R2 for the model to see how well it fits the data. Are you surprised, based on what you see in the scatterplots?"
   ]
  },
  {
   "cell_type": "code",
   "execution_count": 4,
   "id": "418ef53d",
   "metadata": {},
   "outputs": [],
   "source": [
    "file_path = r'C:\\Users\\ADMIN\\for machine learning\\Learnings\\Maths for machine learning\\linear algebra\\leastsquares\\widget_data.mat'\n",
    "\n",
    "widget_data = sio.loadmat(file_path)\n",
    "data = widget_data['data']\n",
    "TimeofDay = data[0]\n",
    "TimeofDay = TimeofDay.reshape(len(TimeofDay),1)\n",
    "\n",
    "BuyersAge = data[1]\n",
    "BuyersAge = BuyersAge.reshape(len(BuyersAge),1)\n",
    "\n",
    "NumberWidgetsSold = data[2]\n",
    "NumberWidgetsSold = NumberWidgetsSold.reshape(len(NumberWidgetsSold),1)\n",
    "\n",
    "# creating the design matrix\n",
    "x = np.concatenate([np.ones((len(TimeofDay),1)),# for intercept\n",
    "                    TimeofDay,\n",
    "                    BuyersAge],\n",
    "                    axis=1)\n",
    "\n",
    "y = NumberWidgetsSold\n",
    "\n",
    "\n",
    "\n",
    "\n",
    "\n",
    "\n",
    "\n",
    "\n"
   ]
  },
  {
   "cell_type": "code",
   "execution_count": 5,
   "id": "0dd659dd",
   "metadata": {},
   "outputs": [],
   "source": [
    "# find beta\n",
    "beta = np.linalg.lstsq(x,y,rcond=None)[0]\n",
    "\n",
    "# beta standardized by corresponding independent variable's variation.\n",
    "std = np.std(x,axis=0) # rowwise\n",
    "std[std == 0] = 1e-10\n",
    "beta_standardized = beta/std\n",
    "\n",
    "\n"
   ]
  },
  {
   "cell_type": "markdown",
   "id": "3f6590fd",
   "metadata": {},
   "source": [
    "# exploration, analysis and freethrows"
   ]
  },
  {
   "cell_type": "code",
   "execution_count": 20,
   "id": "db04816f",
   "metadata": {},
   "outputs": [
    {
     "data": {
      "text/plain": [
       "{'__header__': b'MATLAB 5.0 MAT-file, Platform: PCWIN64, Created on: Thu Dec 13 07:57:03 2018',\n",
       " '__version__': '1.0',\n",
       " '__globals__': [],\n",
       " 'data': array([[10.        , 15.        , 17.        , ..., 17.        ,\n",
       "          9.        , 13.        ],\n",
       "        [32.61350198, 34.89033531, 34.65170314, ..., 33.04676648,\n",
       "         39.38611261, 34.72953647],\n",
       "        [10.        , 14.        , 20.        , ..., 25.        ,\n",
       "         12.        , 16.        ]]),\n",
       " 'rowLabels': array([[array(['TimeOfDay'], dtype='<U9')],\n",
       "        [array(['BuyersAge'], dtype='<U9')],\n",
       "        [array(['NumberWidgets'], dtype='<U13')]], dtype=object)}"
      ]
     },
     "execution_count": 20,
     "metadata": {},
     "output_type": "execute_result"
    }
   ],
   "source": [
    "widget_data"
   ]
  },
  {
   "cell_type": "code",
   "execution_count": 6,
   "id": "5bd05665",
   "metadata": {},
   "outputs": [
    {
     "data": {
      "image/png": "[encoded data removed]",
      "text/latex": [
       "$\\displaystyle \\left( 3, \\  1000\\right)$"
      ],
      "text/plain": [
       "(3, 1000)"
      ]
     },
     "execution_count": 6,
     "metadata": {},
     "output_type": "execute_result"
    }
   ],
   "source": [
    "data.shape"
   ]
  },
  {
   "cell_type": "code",
   "execution_count": 7,
   "id": "4cd17f97",
   "metadata": {},
   "outputs": [
    {
     "data": {
      "image/png": "[encoded data removed]",
      "text/latex": [
       "$\\displaystyle \\left( 1000, \\  1\\right)$"
      ],
      "text/plain": [
       "(1000, 1)"
      ]
     },
     "execution_count": 7,
     "metadata": {},
     "output_type": "execute_result"
    }
   ],
   "source": [
    "TimeofDay.shape"
   ]
  },
  {
   "cell_type": "code",
   "execution_count": 8,
   "id": "75745171",
   "metadata": {},
   "outputs": [
    {
     "data": {
      "image/png": "[encoded data removed]",
      "text/latex": [
       "$\\displaystyle \\left( 1000, \\  1\\right)$"
      ],
      "text/plain": [
       "(1000, 1)"
      ]
     },
     "execution_count": 8,
     "metadata": {},
     "output_type": "execute_result"
    }
   ],
   "source": [
    "BuyersAge.shape"
   ]
  },
  {
   "cell_type": "code",
   "execution_count": 10,
   "id": "ada1671f",
   "metadata": {},
   "outputs": [
    {
     "data": {
      "image/png": "[encoded data removed]",
      "text/latex": [
       "$\\displaystyle \\left( 1000, \\  1\\right)$"
      ],
      "text/plain": [
       "(1000, 1)"
      ]
     },
     "execution_count": 10,
     "metadata": {},
     "output_type": "execute_result"
    }
   ],
   "source": [
    "NumberWidgetsSold.shape"
   ]
  },
  {
   "cell_type": "code",
   "execution_count": 11,
   "id": "63efbd34",
   "metadata": {},
   "outputs": [
    {
     "data": {
      "image/png": "[encoded data removed]",
      "text/latex": [
       "$\\displaystyle \\left( 1000, \\  1\\right)$"
      ],
      "text/plain": [
       "(1000, 1)"
      ]
     },
     "execution_count": 11,
     "metadata": {},
     "output_type": "execute_result"
    }
   ],
   "source": [
    "TimeofDay.reshape(len(TimeofDay),1).shape"
   ]
  },
  {
   "cell_type": "code",
   "execution_count": 12,
   "id": "2237ea2c",
   "metadata": {},
   "outputs": [
    {
     "data": {
      "text/plain": [
       "array([[ 1.        , 10.        , 32.61350198],\n",
       "       [ 1.        , 15.        , 34.89033531],\n",
       "       [ 1.        , 17.        , 34.65170314],\n",
       "       ...,\n",
       "       [ 1.        , 17.        , 33.04676648],\n",
       "       [ 1.        ,  9.        , 39.38611261],\n",
       "       [ 1.        , 13.        , 34.72953647]])"
      ]
     },
     "execution_count": 12,
     "metadata": {},
     "output_type": "execute_result"
    }
   ],
   "source": [
    "x"
   ]
  },
  {
   "cell_type": "code",
   "execution_count": 13,
   "id": "b9904de3",
   "metadata": {},
   "outputs": [
    {
     "data": {
      "image/png": "[encoded data removed]",
      "text/latex": [
       "$\\displaystyle \\left( 1000, \\  3\\right)$"
      ],
      "text/plain": [
       "(1000, 3)"
      ]
     },
     "execution_count": 13,
     "metadata": {},
     "output_type": "execute_result"
    }
   ],
   "source": [
    "x.shape"
   ]
  },
  {
   "cell_type": "code",
   "execution_count": 23,
   "id": "a40cc1ee",
   "metadata": {},
   "outputs": [
    {
     "data": {
      "text/plain": [
       "array([10., 14., 20., 17., 14., 10., 17., 11., 18., 13.])"
      ]
     },
     "execution_count": 23,
     "metadata": {},
     "output_type": "execute_result"
    }
   ],
   "source": [
    "y[:10].flatten()"
   ]
  },
  {
   "cell_type": "code",
   "execution_count": null,
   "id": "053f4ddc",
   "metadata": {},
   "outputs": [],
   "source": []
  },
  {
   "cell_type": "code",
   "execution_count": 15,
   "id": "d145fca4",
   "metadata": {},
   "outputs": [
    {
     "data": {
      "text/plain": [
       "array([[10.39825387],\n",
       "       [ 0.84694924],\n",
       "       [-0.18010547]])"
      ]
     },
     "execution_count": 15,
     "metadata": {},
     "output_type": "execute_result"
    }
   ],
   "source": [
    "beta"
   ]
  },
  {
   "cell_type": "code",
   "execution_count": 16,
   "id": "53e02310",
   "metadata": {},
   "outputs": [
    {
     "data": {
      "text/plain": [
       "array([[ 1.03982539e+11,  4.50606434e+00,  2.08488055e+00],\n",
       "       [ 8.46949238e+09,  3.67023907e-01,  1.69815818e-01],\n",
       "       [-1.80105468e+09, -7.80483760e-02, -3.61116771e-02]])"
      ]
     },
     "execution_count": 16,
     "metadata": {},
     "output_type": "execute_result"
    }
   ],
   "source": [
    "beta_standardized"
   ]
  },
  {
   "cell_type": "code",
   "execution_count": null,
   "id": "77903136",
   "metadata": {},
   "outputs": [],
   "source": []
  },
  {
   "cell_type": "code",
   "execution_count": 33,
   "id": "6cea937c",
   "metadata": {},
   "outputs": [
    {
     "data": {
      "image/png": "[encoded data removed]",
      "text/plain": [
       "<Figure size 864x360 with 1 Axes>"
      ]
     },
     "metadata": {
      "needs_background": "light"
     },
     "output_type": "display_data"
    }
   ],
   "source": [
    "# 4. produce scatterplots that visualize the relationship between independent and dependent variables.\n",
    "df = pd.DataFrame({'TimeofDay':x[:,1],'BuyersAge':x[:,2],'WidgetsSold':y.flatten()})\n",
    "\n",
    "plt.figure(figsize=(12,5))\n",
    "sns.scatterplot(data=df,x='TimeofDay',y='WidgetsSold',hue='BuyersAge')\n",
    "\n",
    "plt.legend(loc=(1.1,0.5))\n",
    "plt.show()"
   ]
  },
  {
   "cell_type": "code",
   "execution_count": 41,
   "id": "f12e45ca",
   "metadata": {},
   "outputs": [
    {
     "data": {
      "image/png": "[encoded data removed]",
      "text/plain": [
       "<Figure size 864x360 with 1 Axes>"
      ]
     },
     "metadata": {
      "needs_background": "light"
     },
     "output_type": "display_data"
    }
   ],
   "source": [
    "plt.figure(figsize=(12,5))\n",
    "sns.scatterplot(data=df,x='BuyersAge',y='WidgetsSold',hue='TimeofDay',palette='Set2')\n",
    "\n",
    "plt.legend(loc=(1.1,0.5))\n",
    "plt.show()"
   ]
  },
  {
   "cell_type": "markdown",
   "id": "872f5623",
   "metadata": {},
   "source": [
    "# conclusion:\n",
    "\n",
    "* most of the early hour buyers were oldies(those who are above or equal to 45 years of age)\n",
    "* similarly, at night between (8pm - 10pm) no oldies participated in the purchase. Only those are below 35 years of Age did.\n",
    "* Most of the widget purchase seems to have happended between (12pm-4pm). \n",
    "* oldies(those who are equal to or above 45 years of age) participation in widgets purchase is comparitively less compared to other cohorts of age.\n",
    "* it is observed that the general trend of the plot is the widget sales go upwards in tandem with Time even though the correlation is not 'very' strong and the widget sales go down in tandem with age even though the correlation is not very high."
   ]
  },
  {
   "cell_type": "code",
   "execution_count": null,
   "id": "86d8cde6",
   "metadata": {},
   "outputs": [],
   "source": []
  },
  {
   "cell_type": "markdown",
   "id": "71898f45",
   "metadata": {},
   "source": [
    "# exploration, analysis and freethrows"
   ]
  },
  {
   "cell_type": "code",
   "execution_count": 28,
   "id": "e0ac80e5",
   "metadata": {},
   "outputs": [
    {
     "data": {
      "text/html": [
       "<div>\n",
       "<style scoped>\n",
       "    .dataframe tbody tr th:only-of-type {\n",
       "        vertical-align: middle;\n",
       "    }\n",
       "\n",
       "    .dataframe tbody tr th {\n",
       "        vertical-align: top;\n",
       "    }\n",
       "\n",
       "    .dataframe thead th {\n",
       "        text-align: right;\n",
       "    }\n",
       "</style>\n",
       "<table border=\"1\" class=\"dataframe\">\n",
       "  <thead>\n",
       "    <tr style=\"text-align: right;\">\n",
       "      <th></th>\n",
       "      <th>TimeofDay</th>\n",
       "      <th>BuyersAge</th>\n",
       "      <th>WidgetsSold</th>\n",
       "    </tr>\n",
       "  </thead>\n",
       "  <tbody>\n",
       "    <tr>\n",
       "      <th>0</th>\n",
       "      <td>10.0</td>\n",
       "      <td>32.613502</td>\n",
       "      <td>10.0</td>\n",
       "    </tr>\n",
       "    <tr>\n",
       "      <th>1</th>\n",
       "      <td>15.0</td>\n",
       "      <td>34.890335</td>\n",
       "      <td>14.0</td>\n",
       "    </tr>\n",
       "    <tr>\n",
       "      <th>2</th>\n",
       "      <td>17.0</td>\n",
       "      <td>34.651703</td>\n",
       "      <td>20.0</td>\n",
       "    </tr>\n",
       "    <tr>\n",
       "      <th>3</th>\n",
       "      <td>15.0</td>\n",
       "      <td>27.754819</td>\n",
       "      <td>17.0</td>\n",
       "    </tr>\n",
       "    <tr>\n",
       "      <th>4</th>\n",
       "      <td>13.0</td>\n",
       "      <td>40.604236</td>\n",
       "      <td>14.0</td>\n",
       "    </tr>\n",
       "    <tr>\n",
       "      <th>5</th>\n",
       "      <td>10.0</td>\n",
       "      <td>43.289718</td>\n",
       "      <td>10.0</td>\n",
       "    </tr>\n",
       "    <tr>\n",
       "      <th>6</th>\n",
       "      <td>15.0</td>\n",
       "      <td>35.673249</td>\n",
       "      <td>17.0</td>\n",
       "    </tr>\n",
       "    <tr>\n",
       "      <th>7</th>\n",
       "      <td>13.0</td>\n",
       "      <td>37.358485</td>\n",
       "      <td>11.0</td>\n",
       "    </tr>\n",
       "    <tr>\n",
       "      <th>8</th>\n",
       "      <td>13.0</td>\n",
       "      <td>30.957834</td>\n",
       "      <td>18.0</td>\n",
       "    </tr>\n",
       "    <tr>\n",
       "      <th>9</th>\n",
       "      <td>13.0</td>\n",
       "      <td>32.542038</td>\n",
       "      <td>13.0</td>\n",
       "    </tr>\n",
       "  </tbody>\n",
       "</table>\n",
       "</div>"
      ],
      "text/plain": [
       "   TimeofDay  BuyersAge  WidgetsSold\n",
       "0       10.0  32.613502         10.0\n",
       "1       15.0  34.890335         14.0\n",
       "2       17.0  34.651703         20.0\n",
       "3       15.0  27.754819         17.0\n",
       "4       13.0  40.604236         14.0\n",
       "5       10.0  43.289718         10.0\n",
       "6       15.0  35.673249         17.0\n",
       "7       13.0  37.358485         11.0\n",
       "8       13.0  30.957834         18.0\n",
       "9       13.0  32.542038         13.0"
      ]
     },
     "execution_count": 28,
     "metadata": {},
     "output_type": "execute_result"
    }
   ],
   "source": [
    "df.head(10)"
   ]
  },
  {
   "cell_type": "code",
   "execution_count": null,
   "id": "9b12995a",
   "metadata": {},
   "outputs": [],
   "source": []
  },
  {
   "cell_type": "code",
   "execution_count": 36,
   "id": "e993568b",
   "metadata": {},
   "outputs": [],
   "source": [
    "# 5. Compute R2\n",
    "# for the model to see how well it fits the data. Are you surprised, based on what you see in the scatterplots?\n",
    "\n",
    "y_hat = x@beta\n",
    "sse = sum((y-y_hat)**2)\n",
    "sst = sum((y-np.mean(y))**2)\n",
    "R2 = 1 - sse/sst # measure of determination\n",
    "correlation = np.sqrt(R2) # measure of correlation."
   ]
  },
  {
   "cell_type": "markdown",
   "id": "7b8f8f45",
   "metadata": {},
   "source": [
    "# exploration, analysis and freethrows"
   ]
  },
  {
   "cell_type": "code",
   "execution_count": 35,
   "id": "bac326ec",
   "metadata": {},
   "outputs": [
    {
     "data": {
      "text/plain": [
       "array([[12.99387621],\n",
       "       [16.81855227],\n",
       "       [18.55542971],\n",
       "       [18.1036978 ],\n",
       "       [14.09554904],\n",
       "       [11.07103132],\n",
       "       [16.67754529],\n",
       "       [14.68012646],\n",
       "       [15.83291875],\n",
       "       [15.54759498]])"
      ]
     },
     "execution_count": 35,
     "metadata": {},
     "output_type": "execute_result"
    }
   ],
   "source": [
    "y_hat[:10]"
   ]
  },
  {
   "cell_type": "code",
   "execution_count": 37,
   "id": "b31d799c",
   "metadata": {},
   "outputs": [
    {
     "data": {
      "text/plain": [
       "array([0.36639013])"
      ]
     },
     "execution_count": 37,
     "metadata": {},
     "output_type": "execute_result"
    }
   ],
   "source": [
    "R2"
   ]
  },
  {
   "cell_type": "code",
   "execution_count": 38,
   "id": "64dcce4c",
   "metadata": {},
   "outputs": [
    {
     "data": {
      "text/plain": [
       "array([0.60530169])"
      ]
     },
     "execution_count": 38,
     "metadata": {},
     "output_type": "execute_result"
    }
   ],
   "source": [
    "correlation"
   ]
  },
  {
   "cell_type": "code",
   "execution_count": null,
   "id": "31f200f7",
   "metadata": {},
   "outputs": [],
   "source": []
  }
 ],
 "metadata": {
  "kernelspec": {
   "display_name": "Python 3 (ipykernel)",
   "language": "python",
   "name": "python3"
  },
  "language_info": {
   "codemirror_mode": {
    "name": "ipython",
    "version": 3
   },
   "file_extension": ".py",
   "mimetype": "text/x-python",
   "name": "python",
   "nbconvert_exporter": "python",
   "pygments_lexer": "ipython3",
   "version": "3.9.12"
  }
 },
 "nbformat": 4,
 "nbformat_minor": 5
}
