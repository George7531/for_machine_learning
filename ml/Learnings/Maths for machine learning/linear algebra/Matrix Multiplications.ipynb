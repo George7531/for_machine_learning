{
 "cells": [
  {
   "cell_type": "markdown",
   "id": "174fb51d",
   "metadata": {},
   "source": [
    "# Tensors:\n",
    "\n",
    "* everything is a tensor. A scaler is a rank 0 tensor, a vector is a rank 1 tensor, a matrix a rank 2 tensor and so on. a scaler will have zero brackets, a vector will have one enclosing brackets, a matrix will have two enclosing brackets and so on.\n",
    "\n",
    "* Tensors are just a collection of vectors and covectors combined together using the tensor product.\n",
    "\n",
    "\n",
    "# forward and backward transformations:\n",
    "\n",
    "* forward transformation: building the new basis from the old basis\n",
    "* backward transformation: building the old basis from the new basis. \n",
    "\n",
    "# dot products and inverse.\n",
    "* when dot product of two vectors give an identity matrix then one vector is an inverse of the other. "
   ]
  },
  {
   "cell_type": "code",
   "execution_count": 7,
   "id": "b17dcd65",
   "metadata": {},
   "outputs": [
    {
     "data": {
      "text/plain": [
       "array([[1., 0.],\n",
       "       [0., 1.]])"
      ]
     },
     "execution_count": 7,
     "metadata": {},
     "output_type": "execute_result"
    }
   ],
   "source": [
    "import numpy as np\n",
    "import sympy as sym\n",
    "\n",
    "f = np.array([[2,-1/2],[1,1/4]])\n",
    "b = np.array([[1/4,1/2],[-1,2]])\n",
    "\n",
    "f@b"
   ]
  },
  {
   "cell_type": "code",
   "execution_count": null,
   "id": "86d8f576",
   "metadata": {},
   "outputs": [],
   "source": []
  },
  {
   "cell_type": "markdown",
   "id": "d62541d3",
   "metadata": {},
   "source": [
    "# matrix multiplication layer-wise:"
   ]
  },
  {
   "cell_type": "code",
   "execution_count": 2,
   "id": "0b8566fb",
   "metadata": {},
   "outputs": [],
   "source": [
    "import numpy as np\n",
    "import sympy as sym\n",
    "from IPython.display import display,Math\n",
    "sym.init_printing()\n",
    "import matplotlib.pyplot as plt\n",
    "from PIL import Image"
   ]
  },
  {
   "cell_type": "code",
   "execution_count": 10,
   "id": "2a602e9b",
   "metadata": {},
   "outputs": [
    {
     "data": {
      "image/png": "[encoded data removed]",
      "text/latex": [
       "$\\displaystyle \\left( 2, \\  2\\right)$"
      ],
      "text/plain": [
       "(2, 2)"
      ]
     },
     "execution_count": 10,
     "metadata": {},
     "output_type": "execute_result"
    }
   ],
   "source": [
    "def size_check(A,B):\n",
    "    size_A = np.shape(A)\n",
    "    size_B = np.shape(B)\n",
    "    \n",
    "    if size_A[1] == size_B[0]:\n",
    "        return size_A[0],size_B[1]\n",
    "    \n",
    "    else:\n",
    "        print(\"Dot product is not possible with Matricess' dimensions\")\n",
    "    \n",
    "        "
   ]
  },
  {
   "cell_type": "code",
   "execution_count": 17,
   "id": "c21405c9",
   "metadata": {},
   "outputs": [
    {
     "data": {
      "text/plain": [
       "array([[0., 0.],\n",
       "       [0., 0.]])"
      ]
     },
     "execution_count": 17,
     "metadata": {},
     "output_type": "execute_result"
    }
   ],
   "source": [
    "A = np.array(( [1,2],[3,4] ))\n",
    "B = np.array(( [5,6],[7,8] ))\n",
    "\n",
    "outer_1,inner_1 = np.shape(A)\n",
    "inner_2,outer_2 = np.shape(B)\n",
    "\n",
    "if inner_1 == inner_2:\n",
    "    result_1 = np.zeros((outer_1,outer_2))\n",
    "    \n",
    "    for i in range(n):\n",
    "        result_1 = result_1 + np.outer(A[:,i],B[i,:])\n",
    "\n",
    "else:\n",
    "    print('Dimensions do not match')\n",
    "\n",
    "    \n",
    "result_1-np.matmul(A,B)"
   ]
  },
  {
   "cell_type": "code",
   "execution_count": 12,
   "id": "e5dcd6b0",
   "metadata": {},
   "outputs": [
    {
     "data": {
      "text/plain": [
       "array([[ 5,  6],\n",
       "       [15, 18]])"
      ]
     },
     "execution_count": 12,
     "metadata": {},
     "output_type": "execute_result"
    }
   ],
   "source": [
    "np.outer(A[:,0],B[0,:])"
   ]
  },
  {
   "cell_type": "code",
   "execution_count": 13,
   "id": "b32a17a6",
   "metadata": {},
   "outputs": [
    {
     "data": {
      "text/plain": [
       "array([[14, 16],\n",
       "       [28, 32]])"
      ]
     },
     "execution_count": 13,
     "metadata": {},
     "output_type": "execute_result"
    }
   ],
   "source": [
    "np.outer(A[:,1],B[1,:])"
   ]
  },
  {
   "cell_type": "code",
   "execution_count": 12,
   "id": "d8b35eab",
   "metadata": {},
   "outputs": [
    {
     "data": {
      "image/png": "[encoded data removed]",
      "text/latex": [
       "$\\displaystyle 2$"
      ],
      "text/plain": [
       "2"
      ]
     },
     "execution_count": 12,
     "metadata": {},
     "output_type": "execute_result"
    }
   ],
   "source": [
    "np.shape(A)[1]"
   ]
  },
  {
   "cell_type": "code",
   "execution_count": 3,
   "id": "7b153582",
   "metadata": {},
   "outputs": [
    {
     "data": {
      "text/plain": [
       "array([[19, 22],\n",
       "       [43, 50]])"
      ]
     },
     "execution_count": 3,
     "metadata": {},
     "output_type": "execute_result"
    }
   ],
   "source": [
    "np.matmul(A,B)"
   ]
  },
  {
   "cell_type": "markdown",
   "id": "5103d541",
   "metadata": {},
   "source": [
    "# day 75"
   ]
  },
  {
   "cell_type": "markdown",
   "id": "e5e83070",
   "metadata": {},
   "source": [
    "# Games of diagonal matrix"
   ]
  },
  {
   "cell_type": "code",
   "execution_count": 1,
   "id": "5fc8e995",
   "metadata": {},
   "outputs": [],
   "source": [
    "import numpy as np\n",
    "import sympy as sym\n",
    "from IPython.display import display,Math\n",
    "sym.init_printing()\n",
    "import matplotlib.pyplot as plt\n",
    "from PIL import Image\n"
   ]
  },
  {
   "cell_type": "code",
   "execution_count": 22,
   "id": "4c277a29",
   "metadata": {},
   "outputs": [
    {
     "data": {
      "text/plain": [
       "array([[2, 0, 0],\n",
       "       [0, 5, 0],\n",
       "       [0, 0, 7]])"
      ]
     },
     "execution_count": 22,
     "metadata": {},
     "output_type": "execute_result"
    }
   ],
   "source": [
    "A = np.random.randint(1,10,(3,3))\n",
    "diag = np.diag(np.diag(A))\n",
    "ans = A@diag\n",
    "\n",
    "diag"
   ]
  },
  {
   "cell_type": "code",
   "execution_count": 24,
   "id": "321e30b1",
   "metadata": {},
   "outputs": [
    {
     "data": {
      "text/plain": [
       "array([[ 2., -0., -0.],\n",
       "       [-0.,  5., -0.],\n",
       "       [ 0.,  0.,  7.]])"
      ]
     },
     "execution_count": 24,
     "metadata": {},
     "output_type": "execute_result"
    }
   ],
   "source": [
    "np.round(np.linalg.inv(A)@ans,5)"
   ]
  },
  {
   "cell_type": "code",
   "execution_count": 25,
   "id": "8680bd71",
   "metadata": {},
   "outputs": [
    {
     "data": {
      "text/plain": [
       "array([[ 4, 35,  7],\n",
       "       [10, 25, 63],\n",
       "       [14, 10, 49]])"
      ]
     },
     "execution_count": 25,
     "metadata": {},
     "output_type": "execute_result"
    }
   ],
   "source": [
    "ans"
   ]
  },
  {
   "cell_type": "code",
   "execution_count": 26,
   "id": "50393306",
   "metadata": {},
   "outputs": [
    {
     "data": {
      "text/plain": [
       "array([[ 4, 14,  2],\n",
       "       [25, 25, 45],\n",
       "       [49, 14, 49]])"
      ]
     },
     "execution_count": 26,
     "metadata": {},
     "output_type": "execute_result"
    }
   ],
   "source": [
    "diag@A"
   ]
  },
  {
   "cell_type": "markdown",
   "id": "f49587a8",
   "metadata": {},
   "source": [
    "# order of operations on matrices\n",
    "\n",
    "# $$ \\text{(LIVE)}^T = E^{T}V^{T}I^{T}L^{T} $$\n",
    "\n",
    "# $$ (AB)^{T} = C^{T} \\longrightarrow B^{T}A^{T} = C^{T} $$"
   ]
  },
  {
   "cell_type": "markdown",
   "id": "9ecee806",
   "metadata": {},
   "source": [
    "# day 76"
   ]
  },
  {
   "cell_type": "code",
   "execution_count": 1,
   "id": "605e7f9d",
   "metadata": {},
   "outputs": [],
   "source": [
    "import numpy as np\n",
    "import sympy as sym\n",
    "from IPython.display import display,Math\n",
    "sym.init_printing()\n",
    "import matplotlib.pyplot as plt"
   ]
  },
  {
   "cell_type": "markdown",
   "id": "84abdfeb",
   "metadata": {},
   "source": []
  },
  {
   "cell_type": "markdown",
   "id": "489830a0",
   "metadata": {},
   "source": [
    "# if S is Symmetric\n",
    "\n",
    "# $$ SW = V \\longrightarrow (SW)^{T} = V^{T} \\longrightarrow W^{T}S^{T} = V^{T} $$"
   ]
  },
  {
   "cell_type": "code",
   "execution_count": 11,
   "id": "c0cc397c",
   "metadata": {},
   "outputs": [],
   "source": [
    "S = np.array(([1,4,5],[4,2,6],[5,6,3]))\n",
    "W = np.random.randn(3,3)\n",
    "\n",
    "V = S@W\n",
    "v_t1 = (S@W).T\n",
    "V_t = W.T @ S.T"
   ]
  },
  {
   "cell_type": "code",
   "execution_count": 16,
   "id": "fc475ff3",
   "metadata": {},
   "outputs": [
    {
     "data": {
      "text/plain": [
       "array([[ 5.06456495,  0.09780334, -2.57586282],\n",
       "       [ 0.4190347 , -6.15871184, -1.74910753],\n",
       "       [ 0.3942265 , -0.86781419,  0.66307541]])"
      ]
     },
     "execution_count": 16,
     "metadata": {},
     "output_type": "execute_result"
    }
   ],
   "source": [
    "S@W"
   ]
  },
  {
   "cell_type": "code",
   "execution_count": 18,
   "id": "d9ee5f07",
   "metadata": {},
   "outputs": [
    {
     "data": {
      "text/plain": [
       "array([[ 5.06456495,  0.4190347 ,  0.3942265 ],\n",
       "       [ 0.09780334, -6.15871184, -0.86781419],\n",
       "       [-2.57586282, -1.74910753,  0.66307541]])"
      ]
     },
     "execution_count": 18,
     "metadata": {},
     "output_type": "execute_result"
    }
   ],
   "source": [
    "(S@W).T"
   ]
  },
  {
   "cell_type": "code",
   "execution_count": 17,
   "id": "8d102c2a",
   "metadata": {},
   "outputs": [
    {
     "data": {
      "text/plain": [
       "array([[ -3.27911943,  -4.25831434, -11.4713627 ],\n",
       "       [  5.31127605,   5.43252763,  10.64395436],\n",
       "       [ -5.07790411,  -2.49462132,  -2.58447967]])"
      ]
     },
     "execution_count": 17,
     "metadata": {},
     "output_type": "execute_result"
    }
   ],
   "source": [
    "W@S"
   ]
  },
  {
   "cell_type": "code",
   "execution_count": 19,
   "id": "9177041b",
   "metadata": {},
   "outputs": [
    {
     "data": {
      "text/plain": [
       "array([[ 5.06456495,  0.4190347 ,  0.3942265 ],\n",
       "       [ 0.09780334, -6.15871184, -0.86781419],\n",
       "       [-2.57586282, -1.74910753,  0.66307541]])"
      ]
     },
     "execution_count": 19,
     "metadata": {},
     "output_type": "execute_result"
    }
   ],
   "source": [
    "W.T @ S.T"
   ]
  },
  {
   "cell_type": "code",
   "execution_count": 20,
   "id": "8425d6b7",
   "metadata": {},
   "outputs": [
    {
     "data": {
      "text/plain": [
       "array([[ 5.06456495,  0.4190347 ,  0.3942265 ],\n",
       "       [ 0.09780334, -6.15871184, -0.86781419],\n",
       "       [-2.57586282, -1.74910753,  0.66307541]])"
      ]
     },
     "execution_count": 20,
     "metadata": {},
     "output_type": "execute_result"
    }
   ],
   "source": [
    "W.T @ S"
   ]
  },
  {
   "cell_type": "code",
   "execution_count": 15,
   "id": "8380c228",
   "metadata": {},
   "outputs": [
    {
     "data": {
      "text/plain": [
       "array([[ 5.06456495,  0.4190347 ,  0.3942265 ],\n",
       "       [ 0.09780334, -6.15871184, -0.86781419],\n",
       "       [-2.57586282, -1.74910753,  0.66307541]])"
      ]
     },
     "execution_count": 15,
     "metadata": {},
     "output_type": "execute_result"
    }
   ],
   "source": [
    "v_t1"
   ]
  },
  {
   "cell_type": "code",
   "execution_count": 21,
   "id": "c7fec342",
   "metadata": {},
   "outputs": [
    {
     "data": {
      "text/plain": [
       "array([[-1.23995672, -1.12446707,  0.49174112],\n",
       "       [ 0.78091587,  1.11698859,  0.01248117],\n",
       "       [ 0.63617164, -0.64913679, -0.62350572]])"
      ]
     },
     "execution_count": 21,
     "metadata": {},
     "output_type": "execute_result"
    }
   ],
   "source": [
    "W"
   ]
  },
  {
   "cell_type": "code",
   "execution_count": 22,
   "id": "d7f6e038",
   "metadata": {},
   "outputs": [
    {
     "data": {
      "text/plain": [
       "array([[-1.23995672,  0.78091587,  0.63617164],\n",
       "       [-1.12446707,  1.11698859, -0.64913679],\n",
       "       [ 0.49174112,  0.01248117, -0.62350572]])"
      ]
     },
     "execution_count": 22,
     "metadata": {},
     "output_type": "execute_result"
    }
   ],
   "source": [
    "W.T"
   ]
  },
  {
   "cell_type": "markdown",
   "id": "f6185ad1",
   "metadata": {},
   "source": [
    "# day 77"
   ]
  },
  {
   "cell_type": "code",
   "execution_count": 1,
   "id": "edf1de81",
   "metadata": {},
   "outputs": [],
   "source": [
    "import numpy as np\n",
    "import sympy as sym\n",
    "from IPython.display import display,Math\n",
    "sym.init_printing()\n",
    "import matplotlib.pyplot as plt"
   ]
  },
  {
   "cell_type": "markdown",
   "id": "06c69c91",
   "metadata": {},
   "source": [
    "# matrix multiplying(dot product) the vector from left scales and changes its direction"
   ]
  },
  {
   "cell_type": "code",
   "execution_count": 27,
   "id": "0383ff97",
   "metadata": {},
   "outputs": [
    {
     "data": {
      "image/png": "[encoded data removed]",
      "text/plain": [
       "<Figure size 432x288 with 1 Axes>"
      ]
     },
     "metadata": {
      "needs_background": "light"
     },
     "output_type": "display_data"
    }
   ],
   "source": [
    "v = np.array(([2,3]))\n",
    "\n",
    "mat = np.array(([1,2],[2,1]))\n",
    "\n",
    "result = mat@v\n",
    "\n",
    "plt.plot([0,v[0]],[0,v[1]],label='vector')\n",
    "plt.plot([0,result[0]],[0,result[1]],label='streched and rotated')\n",
    "\n",
    "plt.grid()\n",
    "plt.axis((-10,10,-14,14))\n",
    "\n",
    "plt.legend(loc=(1.1,0.5))\n",
    "plt.show()"
   ]
  },
  {
   "cell_type": "markdown",
   "id": "2b6547b6",
   "metadata": {},
   "source": [
    "# only rotation no length stretching or shrinking"
   ]
  },
  {
   "cell_type": "code",
   "execution_count": 68,
   "id": "880caedc",
   "metadata": {},
   "outputs": [
    {
     "name": "stdout",
     "output_type": "stream",
     "text": [
      "Length of the Blue: 3.605551275463989\n",
      "Length of the Orange: 3.605551275463989\n"
     ]
    },
    {
     "data": {
      "image/png": "[encoded data removed]",
      "text/plain": [
       "<Figure size 432x288 with 1 Axes>"
      ]
     },
     "metadata": {
      "needs_background": "light"
     },
     "output_type": "display_data"
    }
   ],
   "source": [
    "v = np.array(([2,3]))\n",
    "\n",
    "th = np.pi/2\n",
    "mat = np.array(([2*np.cos(th),-np.sin(th)],[np.sin(th),np.cos(th)]))\n",
    "\n",
    "result = mat@v\n",
    "print('Length of the Blue: %s'%(np.linalg.norm(v)))\n",
    "print('Length of the Orange: %s'%(np.linalg.norm(result)))\n",
    "\n",
    "plt.plot([0,v[0]],[0,v[1]],label='vector')\n",
    "plt.plot([0,result[0]],[0,result[1]],label='only rotated. length is same')\n",
    "\n",
    "plt.grid()\n",
    "plt.axis((-5,5,-5,5))\n",
    "\n",
    "plt.legend(loc=(1.1,0.5))\n",
    "plt.show()"
   ]
  },
  {
   "cell_type": "code",
   "execution_count": 43,
   "id": "cea5d2f5",
   "metadata": {},
   "outputs": [
    {
     "data": {
      "text/plain": [
       "array([-1.59807621,  3.23205081])"
      ]
     },
     "execution_count": 43,
     "metadata": {},
     "output_type": "execute_result"
    }
   ],
   "source": [
    "result"
   ]
  },
  {
   "cell_type": "code",
   "execution_count": 28,
   "id": "66e305ba",
   "metadata": {},
   "outputs": [
    {
     "data": {
      "image/png": "[encoded data removed]",
      "text/latex": [
       "$\\displaystyle 0.809016994374947$"
      ],
      "text/plain": [
       "0.8090169943749475"
      ]
     },
     "execution_count": 28,
     "metadata": {},
     "output_type": "execute_result"
    }
   ],
   "source": [
    "th = np.pi/5\n",
    "np.cos(th)"
   ]
  },
  {
   "cell_type": "markdown",
   "id": "7f811c13",
   "metadata": {},
   "source": [
    "# conclusion;\n",
    "\n",
    "* matrix is a machine that scales and rotates the vector when multiplied with."
   ]
  },
  {
   "cell_type": "markdown",
   "id": "94839369",
   "metadata": {},
   "source": [
    "# day 78"
   ]
  },
  {
   "cell_type": "markdown",
   "id": "13f92eac",
   "metadata": {},
   "source": [
    "# seeing how the rotation changes the length of the result "
   ]
  },
  {
   "cell_type": "code",
   "execution_count": 2,
   "id": "afc9cdc5",
   "metadata": {},
   "outputs": [],
   "source": [
    "import numpy as np\n",
    "import sympy as sym\n",
    "from IPython.display import display,Math\n",
    "sym.init_printing()\n",
    "import matplotlib.pyplot as plt"
   ]
  },
  {
   "cell_type": "code",
   "execution_count": 52,
   "id": "4e671d3a",
   "metadata": {},
   "outputs": [
    {
     "data": {
      "image/png": "[encoded data removed]",
      "text/plain": [
       "<Figure size 432x288 with 1 Axes>"
      ]
     },
     "metadata": {
      "needs_background": "light"
     },
     "output_type": "display_data"
    }
   ],
   "source": [
    "v = np.array(([2,3]))\n",
    "\n",
    "thetas = np.linspace(0,2*np.pi,100)\n",
    "\n",
    "\n",
    "result = np.zeros((2,len(theta)))\n",
    "\n",
    "for i in range(0,len(theta)):\n",
    "    \n",
    "    th = thetas[i]\n",
    "    \n",
    "    pure_mat = np.array(([np.cos(th),-np.sin(th)],[np.sin(th),np.cos(th)]))\n",
    "    \n",
    "    impure_mat = np.array(([2*np.cos(th),-np.sin(th)],[np.sin(th),np.cos(th)]))\n",
    "    \n",
    "    result[0,i] = np.linalg.norm(pure_mat @ v)\n",
    "    result[1,i] = np.linalg.norm(impure_mat@ v)\n",
    "\n",
    "\n",
    "\n",
    "plt.plot(theta,result[0,:],'ro',label='pure')\n",
    "plt.plot(theta,result[1,:],'bo',label='impure')\n",
    "plt.xlabel('theta')\n",
    "plt.ylabel('result')\n",
    "\n",
    "\n",
    "plt.legend(loc=(1.1,0.5))\n",
    "plt.show()\n"
   ]
  },
  {
   "cell_type": "code",
   "execution_count": 47,
   "id": "9efbce57",
   "metadata": {},
   "outputs": [
    {
     "data": {
      "text/plain": [
       "array([3.60555128, 3.60555128, 3.60555128, 3.60555128, 3.60555128,\n",
       "       3.60555128, 3.60555128, 3.60555128, 3.60555128, 3.60555128,\n",
       "       3.60555128, 3.60555128, 3.60555128, 3.60555128, 3.60555128,\n",
       "       3.60555128, 3.60555128, 3.60555128, 3.60555128, 3.60555128,\n",
       "       3.60555128, 3.60555128, 3.60555128, 3.60555128, 3.60555128,\n",
       "       3.60555128, 3.60555128, 3.60555128, 3.60555128, 3.60555128,\n",
       "       3.60555128, 3.60555128, 3.60555128, 3.60555128, 3.60555128,\n",
       "       3.60555128, 3.60555128, 3.60555128, 3.60555128, 3.60555128,\n",
       "       3.60555128, 3.60555128, 3.60555128, 3.60555128, 3.60555128,\n",
       "       3.60555128, 3.60555128, 3.60555128, 3.60555128, 3.60555128,\n",
       "       3.60555128, 3.60555128, 3.60555128, 3.60555128, 3.60555128,\n",
       "       3.60555128, 3.60555128, 3.60555128, 3.60555128, 3.60555128,\n",
       "       3.60555128, 3.60555128, 3.60555128, 3.60555128, 3.60555128,\n",
       "       3.60555128, 3.60555128, 3.60555128, 3.60555128, 3.60555128,\n",
       "       3.60555128, 3.60555128, 3.60555128, 3.60555128, 3.60555128,\n",
       "       3.60555128, 3.60555128, 3.60555128, 3.60555128, 3.60555128,\n",
       "       3.60555128, 3.60555128, 3.60555128, 3.60555128, 3.60555128,\n",
       "       3.60555128, 3.60555128, 3.60555128, 3.60555128, 3.60555128,\n",
       "       3.60555128, 3.60555128, 3.60555128, 3.60555128, 3.60555128,\n",
       "       3.60555128, 3.60555128, 3.60555128, 3.60555128, 3.60555128])"
      ]
     },
     "execution_count": 47,
     "metadata": {},
     "output_type": "execute_result"
    }
   ],
   "source": [
    "result[0,:]"
   ]
  },
  {
   "cell_type": "markdown",
   "id": "bfd83102",
   "metadata": {},
   "source": [
    "# Goals:\n",
    "\n",
    "* create a circle\n",
    "* create a 2*2 matrix (starting with a identity matrix)\n",
    "* multiply the matrix with the coordinates(x,y) of the circle.\n",
    "* plot the result(the new coordinates to create another circle)"
   ]
  },
  {
   "cell_type": "markdown",
   "id": "8e87dcfa",
   "metadata": {},
   "source": [
    "# day 80 and day 82"
   ]
  },
  {
   "cell_type": "code",
   "execution_count": 2,
   "id": "e2e72ffb",
   "metadata": {},
   "outputs": [],
   "source": [
    "import numpy as np\n",
    "import sympy as sym\n",
    "from IPython.display import display,Math\n",
    "sym.init_printing()\n",
    "import matplotlib.pyplot as plt\n",
    "import seaborn as sns"
   ]
  },
  {
   "cell_type": "code",
   "execution_count": 41,
   "id": "e3d84d5f",
   "metadata": {},
   "outputs": [
    {
     "data": {
      "image/png": "[encoded data removed]",
      "text/plain": [
       "<Figure size 900x600 with 1 Axes>"
      ]
     },
     "metadata": {
      "needs_background": "light"
     },
     "output_type": "display_data"
    }
   ],
   "source": [
    "# creating a circle\n",
    "theta = np.linspace(-2*np.pi,2*np.pi,100)\n",
    "\n",
    "# coordinates of the circle\n",
    "xy = np.array((np.cos(theta),np.sin(theta)))\n",
    "\n",
    "# creating a 2*2 identity matrix\n",
    "mat_i = np.eye(2)\n",
    "mat_2 = np.array(([1,0],[0,2]))\n",
    "singular_matrix = np.array(([1,2],[1,2]))\n",
    "zero_matrix = np.zeros((2,2))\n",
    "\n",
    "# creating the new coordinates\n",
    "new_coordinates1 = mat_i @ xy\n",
    "new_coordinates2 = mat_2 @ xy\n",
    "new_coordinates3 = singular_matrix @ xy\n",
    "new_coordinates4 = zero_matrix @ xy\n",
    "\n",
    "plt.figure(dpi=150)\n",
    "# plotting the circle\n",
    "# xy[0,:] is for x and xy[1,:] is for y\n",
    "plt.plot(xy[0,:],xy[1,:],'s')\n",
    "\n",
    "# plotting the new_coordinates after transformation with identity matrix\n",
    "plt.plot(new_coordinates1[0,:],new_coordinates1[1,:],'r.') # just overlaps on the existing matrix. # identity means *1. \n",
    "\n",
    "#2\n",
    "plt.plot(new_coordinates2[0,:],new_coordinates2[1,:],marker='o',color='black')\n",
    "\n",
    "#3  \n",
    "plt.plot(new_coordinates3[0,:],new_coordinates3[1,:],marker='o',color='brown')\n",
    "\n",
    "#4 \n",
    "plt.plot(new_coordinates4[0,:],new_coordinates4[1,:],'go')\n",
    "\n",
    "plt.axis('square')\n",
    "plt.axis('off')\n",
    "plt.show()"
   ]
  },
  {
   "cell_type": "code",
   "execution_count": null,
   "id": "10f8a514",
   "metadata": {},
   "outputs": [],
   "source": []
  },
  {
   "cell_type": "code",
   "execution_count": 47,
   "id": "d4393221",
   "metadata": {},
   "outputs": [
    {
     "data": {
      "image/png": "[encoded data removed]",
      "text/latex": [
       "$\\displaystyle \\left( 100,\\right)$"
      ],
      "text/plain": [
       "(100,)"
      ]
     },
     "execution_count": 47,
     "metadata": {},
     "output_type": "execute_result"
    }
   ],
   "source": [
    "np.shape(xy[0,:])"
   ]
  },
  {
   "cell_type": "code",
   "execution_count": 46,
   "id": "85376ee1",
   "metadata": {},
   "outputs": [
    {
     "data": {
      "image/png": "[encoded data removed]",
      "text/latex": [
       "$\\displaystyle \\left( 100,\\right)$"
      ],
      "text/plain": [
       "(100,)"
      ]
     },
     "execution_count": 46,
     "metadata": {},
     "output_type": "execute_result"
    }
   ],
   "source": [
    "np.shape(xy[1,:])"
   ]
  },
  {
   "cell_type": "code",
   "execution_count": 50,
   "id": "910529e0",
   "metadata": {},
   "outputs": [
    {
     "data": {
      "image/png": "[encoded data removed]",
      "text/latex": [
       "$\\displaystyle \\left( 2, \\  2\\right)$"
      ],
      "text/plain": [
       "(2, 2)"
      ]
     },
     "execution_count": 50,
     "metadata": {},
     "output_type": "execute_result"
    }
   ],
   "source": [
    "np.shape(new_coordinates)"
   ]
  },
  {
   "cell_type": "code",
   "execution_count": 49,
   "id": "c4eaae73",
   "metadata": {},
   "outputs": [
    {
     "data": {
      "image/png": "[encoded data removed]",
      "text/latex": [
       "$\\displaystyle 100$"
      ],
      "text/plain": [
       "100"
      ]
     },
     "execution_count": 49,
     "metadata": {},
     "output_type": "execute_result"
    }
   ],
   "source": [
    "len(theta)"
   ]
  },
  {
   "cell_type": "code",
   "execution_count": 51,
   "id": "dd228c83",
   "metadata": {},
   "outputs": [
    {
     "data": {
      "image/png": "[encoded data removed]",
      "text/latex": [
       "$\\displaystyle \\left( 2, \\  100\\right)$"
      ],
      "text/plain": [
       "(2, 100)"
      ]
     },
     "execution_count": 51,
     "metadata": {},
     "output_type": "execute_result"
    }
   ],
   "source": [
    "np.shape(xy)"
   ]
  },
  {
   "cell_type": "code",
   "execution_count": 52,
   "id": "21c9bc5b",
   "metadata": {},
   "outputs": [
    {
     "data": {
      "image/png": "[encoded data removed]",
      "text/latex": [
       "$\\displaystyle \\left( 2, \\  2\\right)$"
      ],
      "text/plain": [
       "(2, 2)"
      ]
     },
     "execution_count": 52,
     "metadata": {},
     "output_type": "execute_result"
    }
   ],
   "source": [
    "np.shape(mat)"
   ]
  },
  {
   "cell_type": "code",
   "execution_count": 56,
   "id": "3262c233",
   "metadata": {},
   "outputs": [
    {
     "data": {
      "image/png": "[encoded data removed]",
      "text/latex": [
       "$\\displaystyle \\left( 2, \\  100\\right)$"
      ],
      "text/plain": [
       "(2, 100)"
      ]
     },
     "execution_count": 56,
     "metadata": {},
     "output_type": "execute_result"
    }
   ],
   "source": [
    "np.shape(new_coordinates)"
   ]
  },
  {
   "cell_type": "code",
   "execution_count": 28,
   "id": "e616b049",
   "metadata": {},
   "outputs": [
    {
     "data": {
      "text/plain": [
       "array([[0., 0.],\n",
       "       [0., 0.]])"
      ]
     },
     "execution_count": 28,
     "metadata": {},
     "output_type": "execute_result"
    }
   ],
   "source": [
    "np.zeros((2,2))"
   ]
  },
  {
   "cell_type": "code",
   "execution_count": 45,
   "id": "380ba8f6",
   "metadata": {},
   "outputs": [],
   "source": [
    "from IPython.display import display,Math\n"
   ]
  },
  {
   "cell_type": "code",
   "execution_count": 50,
   "id": "1f7d968c",
   "metadata": {},
   "outputs": [
    {
     "data": {
      "text/latex": [
       "$\\displaystyle \\left[\\begin{matrix}1 & 2 & 3\\\\4 & 5 & 6\\\\7 & 8 & 9\\end{matrix}\\right]$"
      ],
      "text/plain": [
       "<IPython.core.display.Math object>"
      ]
     },
     "metadata": {},
     "output_type": "display_data"
    }
   ],
   "source": [
    "a = np.array(([1,2,3],[4,5,6],[7,8,9]))\n",
    "\n",
    "display(Math(sym.latex(sym.sympify(a))))"
   ]
  },
  {
   "cell_type": "code",
   "execution_count": 52,
   "id": "1ec67084",
   "metadata": {},
   "outputs": [
    {
     "data": {
      "text/latex": [
       "$\\displaystyle \\left[\\begin{matrix}1 & 2 & 3\\\\4 & 5 & 6\\\\7 & 8 & 9\\end{matrix}\\right]$"
      ],
      "text/plain": [
       "<IPython.core.display.Math object>"
      ]
     },
     "metadata": {},
     "output_type": "display_data"
    }
   ],
   "source": [
    "stacked = np.vstack(a)\n",
    "\n",
    "display(Math(sym.latex(sym.sympify(stacked))))"
   ]
  },
  {
   "cell_type": "code",
   "execution_count": 53,
   "id": "9ed8d627",
   "metadata": {},
   "outputs": [
    {
     "data": {
      "text/latex": [
       "$\\displaystyle \\left[\\begin{matrix}1 & 4 & 7\\\\2 & 5 & 8\\\\3 & 6 & 9\\end{matrix}\\right]$"
      ],
      "text/plain": [
       "<IPython.core.display.Math object>"
      ]
     },
     "metadata": {},
     "output_type": "display_data"
    }
   ],
   "source": [
    "stacked = np.vstack(a).T\n",
    "\n",
    "display(Math(sym.latex(sym.sympify(stacked))))"
   ]
  },
  {
   "cell_type": "code",
   "execution_count": 55,
   "id": "50e66773",
   "metadata": {},
   "outputs": [
    {
     "data": {
      "text/latex": [
       "$\\displaystyle \\left[\\begin{matrix}1 & 2 & 3 & 4 & 5 & 6 & 7 & 8 & 9\\\\2 & 4 & 6 & 8 & 10 & 12 & 14 & 16 & 18\\end{matrix}\\right]$"
      ],
      "text/plain": [
       "<IPython.core.display.Math object>"
      ]
     },
     "metadata": {},
     "output_type": "display_data"
    }
   ],
   "source": [
    "a = np.arange(1,10,1)\n",
    "b = np.arange(2,20,2)\n",
    "\n",
    "stacked = np.vstack((a,b))\n",
    "\n",
    "display(Math(sym.latex(sym.sympify(stacked))))"
   ]
  },
  {
   "cell_type": "code",
   "execution_count": 56,
   "id": "aae1e46f",
   "metadata": {},
   "outputs": [
    {
     "data": {
      "text/latex": [
       "$\\displaystyle \\left[\\begin{matrix}1 & 2\\\\2 & 4\\\\3 & 6\\\\4 & 8\\\\5 & 10\\\\6 & 12\\\\7 & 14\\\\8 & 16\\\\9 & 18\\end{matrix}\\right]$"
      ],
      "text/plain": [
       "<IPython.core.display.Math object>"
      ]
     },
     "metadata": {},
     "output_type": "display_data"
    }
   ],
   "source": [
    "a = np.arange(1,10,1)\n",
    "b = np.arange(2,20,2)\n",
    "\n",
    "stacked = np.vstack((a,b)).T\n",
    "\n",
    "display(Math(sym.latex(sym.sympify(stacked))))"
   ]
  },
  {
   "cell_type": "code",
   "execution_count": 9,
   "id": "b8b2712a",
   "metadata": {},
   "outputs": [
    {
     "data": {
      "text/plain": [
       "True"
      ]
     },
     "execution_count": 9,
     "metadata": {},
     "output_type": "execute_result"
    }
   ],
   "source": [
    "a = np.array(([0,0],[0,0]))\n",
    "\n",
    "zeros = np.zeros((2,2))\n",
    "\n",
    "np.array_equal(a,a@zeros)"
   ]
  },
  {
   "cell_type": "code",
   "execution_count": 10,
   "id": "f4382ce5",
   "metadata": {},
   "outputs": [
    {
     "data": {
      "text/plain": [
       "True"
      ]
     },
     "execution_count": 10,
     "metadata": {},
     "output_type": "execute_result"
    }
   ],
   "source": [
    "np.array_equal(a,a@np.eye(2))"
   ]
  },
  {
   "cell_type": "markdown",
   "id": "07a695e4",
   "metadata": {},
   "source": [
    "# check if \n",
    "\n",
    "# $$ \\text{symmetric} = a.a^T $$\n",
    "\n",
    "# $$  \\downarrow $$\n",
    "\n",
    "# $$ \\text{symmetric} = \\text{symmetric}^{T} $$\n",
    "\n",
    "\n",
    "# understanding the mechanism\n",
    "\n",
    "# $$ \\text{symmetric} = a.a^T $$\n",
    "\n",
    "# $$  \\downarrow $$\n",
    "\n",
    "# $$ (a.a^{T})^{T} = a^{T}.a^{TT} $$\n",
    "\n",
    "# $$  \\downarrow $$\n",
    "\n",
    "# $$ \\text{sidenote: }  a^{TT} = a $$\n",
    "\n",
    "# $$  \\downarrow $$\n",
    "\n",
    "# $$ (a.a^{T})^{T} = a^{T}.a $$\n",
    "\n",
    "this is how symmetric matrix is formed. \n"
   ]
  },
  {
   "cell_type": "code",
   "execution_count": 13,
   "id": "3dc70c50",
   "metadata": {},
   "outputs": [
    {
     "data": {
      "text/plain": [
       "array([[ 5, 11],\n",
       "       [11, 25]])"
      ]
     },
     "execution_count": 13,
     "metadata": {},
     "output_type": "execute_result"
    }
   ],
   "source": [
    "a = np.array(([1,2],[3,4]))\n",
    "\n",
    "s = (a@a.T)\n",
    "s"
   ]
  },
  {
   "cell_type": "code",
   "execution_count": 14,
   "id": "d95fb588",
   "metadata": {},
   "outputs": [
    {
     "data": {
      "text/plain": [
       "array([[ 5, 11],\n",
       "       [11, 25]])"
      ]
     },
     "execution_count": 14,
     "metadata": {},
     "output_type": "execute_result"
    }
   ],
   "source": [
    "s.T"
   ]
  },
  {
   "cell_type": "code",
   "execution_count": 18,
   "id": "b32644b6",
   "metadata": {},
   "outputs": [
    {
     "data": {
      "text/plain": [
       "array([[1, 2, 3],\n",
       "       [4, 5, 6]])"
      ]
     },
     "execution_count": 18,
     "metadata": {},
     "output_type": "execute_result"
    }
   ],
   "source": [
    "a = np.arange(1,7,1).reshape(2,3)\n",
    "a"
   ]
  },
  {
   "cell_type": "code",
   "execution_count": 19,
   "id": "935c3db3",
   "metadata": {},
   "outputs": [
    {
     "data": {
      "text/plain": [
       "array([[14, 32],\n",
       "       [32, 77]])"
      ]
     },
     "execution_count": 19,
     "metadata": {},
     "output_type": "execute_result"
    }
   ],
   "source": [
    "s = a@a.T\n",
    "\n",
    "s"
   ]
  },
  {
   "cell_type": "code",
   "execution_count": 20,
   "id": "44e274b2",
   "metadata": {},
   "outputs": [
    {
     "data": {
      "text/plain": [
       "array([[14, 32],\n",
       "       [32, 77]])"
      ]
     },
     "execution_count": 20,
     "metadata": {},
     "output_type": "execute_result"
    }
   ],
   "source": [
    "s.T"
   ]
  },
  {
   "cell_type": "markdown",
   "id": "5f6c499d",
   "metadata": {},
   "source": [
    "# day 84 and day 85"
   ]
  },
  {
   "cell_type": "code",
   "execution_count": 3,
   "id": "9a086b10",
   "metadata": {},
   "outputs": [],
   "source": [
    "import numpy as np\n",
    "import matplotlib.pyplot as plt\n",
    "import sympy as sym\n",
    "from IPython.display import display,Math\n",
    "sym.init_printing()\n"
   ]
  },
  {
   "cell_type": "markdown",
   "id": "af5570aa",
   "metadata": {},
   "source": [
    "# Hadamard multiplication"
   ]
  },
  {
   "cell_type": "code",
   "execution_count": 2,
   "id": "915cfee5",
   "metadata": {},
   "outputs": [
    {
     "data": {
      "text/plain": [
       "array([[1, 4],\n",
       "       [2, 8]])"
      ]
     },
     "execution_count": 2,
     "metadata": {},
     "output_type": "execute_result"
    }
   ],
   "source": [
    "a = np.array(([1,2],[2,4]))\n",
    "\n",
    "b = np.array(([1,2],[1,2]))\n",
    "\n",
    "a*b"
   ]
  },
  {
   "cell_type": "markdown",
   "id": "379524b7",
   "metadata": {},
   "source": [
    "# goal\n",
    "\n",
    "create two symmetric matrices\n",
    "\n",
    "compute, hammard multiplication, dot product and sum of those symmetric matrices.\n",
    "\n",
    "determine whether the result is still symmetric"
   ]
  },
  {
   "cell_type": "code",
   "execution_count": 9,
   "id": "0fabea2e",
   "metadata": {},
   "outputs": [
    {
     "data": {
      "text/plain": [
       "array([[6, 2, 8],\n",
       "       [1, 0, 5],\n",
       "       [6, 3, 8]])"
      ]
     },
     "execution_count": 9,
     "metadata": {},
     "output_type": "execute_result"
    }
   ],
   "source": [
    "g = np.random.randint(low=0,high=9,size=(3,3))\n",
    "k = np.random.randint(low=5,high=9,size=(3,3))\n",
    "\n",
    "symmetric_g = g@g.T\n",
    "symmetric_k = k@k.T\n",
    "\n",
    "g"
   ]
  },
  {
   "cell_type": "code",
   "execution_count": 10,
   "id": "dc1bf4de",
   "metadata": {},
   "outputs": [
    {
     "data": {
      "text/plain": [
       "array([[104,  46, 106],\n",
       "       [ 46,  26,  46],\n",
       "       [106,  46, 109]])"
      ]
     },
     "execution_count": 10,
     "metadata": {},
     "output_type": "execute_result"
    }
   ],
   "source": [
    "symmetric_g"
   ]
  },
  {
   "cell_type": "code",
   "execution_count": 11,
   "id": "c1cbeedf",
   "metadata": {},
   "outputs": [
    {
     "data": {
      "text/plain": [
       "array([[149, 127, 128],\n",
       "       [127, 110, 109],\n",
       "       [128, 109, 110]])"
      ]
     },
     "execution_count": 11,
     "metadata": {},
     "output_type": "execute_result"
    }
   ],
   "source": [
    "symmetric_k"
   ]
  },
  {
   "cell_type": "markdown",
   "id": "2c12687d",
   "metadata": {},
   "source": [
    "# addition of those symmetric matrices"
   ]
  },
  {
   "cell_type": "code",
   "execution_count": 15,
   "id": "ecf283e9",
   "metadata": {},
   "outputs": [
    {
     "data": {
      "text/plain": [
       "array([[253, 173, 234],\n",
       "       [173, 136, 155],\n",
       "       [234, 155, 219]])"
      ]
     },
     "execution_count": 15,
     "metadata": {},
     "output_type": "execute_result"
    }
   ],
   "source": [
    "symmetric_g + symmetric_k"
   ]
  },
  {
   "cell_type": "markdown",
   "id": "28b9151e",
   "metadata": {},
   "source": [
    "# conclusion:\n",
    "\n",
    "addition of two symmetric matrices surprisingly produce another symmetric matrix. "
   ]
  },
  {
   "cell_type": "code",
   "execution_count": null,
   "id": "9e5e90a4",
   "metadata": {},
   "outputs": [],
   "source": []
  },
  {
   "cell_type": "markdown",
   "id": "90838a23",
   "metadata": {},
   "source": [
    "# hadammard multiplying symmetric_g and symmetric_k"
   ]
  },
  {
   "cell_type": "code",
   "execution_count": 12,
   "id": "609a0ded",
   "metadata": {},
   "outputs": [
    {
     "data": {
      "text/plain": [
       "array([[15496,  5842, 13568],\n",
       "       [ 5842,  2860,  5014],\n",
       "       [13568,  5014, 11990]])"
      ]
     },
     "execution_count": 12,
     "metadata": {},
     "output_type": "execute_result"
    }
   ],
   "source": [
    "symmetric_g * symmetric_k\n"
   ]
  },
  {
   "cell_type": "markdown",
   "id": "b8df678a",
   "metadata": {},
   "source": [
    "# conclusion:\n",
    "\n",
    "produces another symmetric matrix"
   ]
  },
  {
   "cell_type": "code",
   "execution_count": null,
   "id": "8724daa3",
   "metadata": {},
   "outputs": [],
   "source": []
  },
  {
   "cell_type": "markdown",
   "id": "3e0f140a",
   "metadata": {},
   "source": [
    "# dot producting symmetric_g and symmetric_k"
   ]
  },
  {
   "cell_type": "code",
   "execution_count": 13,
   "id": "d1337b6f",
   "metadata": {},
   "outputs": [
    {
     "data": {
      "text/plain": [
       "array([[34906, 29822, 29986],\n",
       "       [16044, 13716, 13782],\n",
       "       [35588, 30403, 30572]])"
      ]
     },
     "execution_count": 13,
     "metadata": {},
     "output_type": "execute_result"
    }
   ],
   "source": [
    "symmetric_g @ symmetric_k"
   ]
  },
  {
   "cell_type": "code",
   "execution_count": 14,
   "id": "4992500d",
   "metadata": {},
   "outputs": [
    {
     "data": {
      "text/plain": [
       "array([[34906, 16044, 35588],\n",
       "       [29822, 13716, 30403],\n",
       "       [29986, 13782, 30572]])"
      ]
     },
     "execution_count": 14,
     "metadata": {},
     "output_type": "execute_result"
    }
   ],
   "source": [
    "symmetric_k @ symmetric_g"
   ]
  },
  {
   "cell_type": "markdown",
   "id": "df4ee032",
   "metadata": {},
   "source": [
    "# conclusion:\n",
    "\n",
    "dot producting two symmetric matrices doesn't produce another symmetric matrix as did hammard multiplying them"
   ]
  },
  {
   "cell_type": "code",
   "execution_count": null,
   "id": "aa5d4338",
   "metadata": {},
   "outputs": [],
   "source": []
  },
  {
   "cell_type": "markdown",
   "id": "6dfc5eb3",
   "metadata": {},
   "source": [
    "# making the dot product to produce symmetric matrix as a result of multiplying two symmetric matrices. with a constraint. \n",
    "\n",
    "\n",
    "the constraint is first we have to make symmetric and constant diagonal matrix. and multiply them (dot product them)"
   ]
  },
  {
   "cell_type": "markdown",
   "id": "7c276605",
   "metadata": {},
   "source": [
    "# symmetric matrices using alphabets instead of numbers"
   ]
  },
  {
   "cell_type": "code",
   "execution_count": null,
   "id": "0e0cd719",
   "metadata": {},
   "outputs": [],
   "source": []
  },
  {
   "cell_type": "code",
   "execution_count": 2,
   "id": "8bc7c833",
   "metadata": {},
   "outputs": [
    {
     "data": {
      "text/plain": [
       "array([[32, 25, 26],\n",
       "       [39, 32, 30],\n",
       "       [26, 23, 50]])"
      ]
     },
     "execution_count": 2,
     "metadata": {},
     "output_type": "execute_result"
    }
   ],
   "source": [
    "\n",
    "\n",
    "a = np.array(([1,2,3],[2,1,4],[3,4,1]))\n",
    "b = np.array(([2,3,8],[3,2,6],[8,6,2]))\n",
    "\n",
    "a@b"
   ]
  },
  {
   "cell_type": "markdown",
   "id": "a9e435f8",
   "metadata": {},
   "source": [
    "# conclusion:\n",
    "\n",
    "it doesn't produce a symmetric matrix. when two symmetric matrices were dot multiplied (dot producted) it doesn't produce a symmetric matrix. "
   ]
  },
  {
   "cell_type": "code",
   "execution_count": 7,
   "id": "0d8c289b",
   "metadata": {},
   "outputs": [
    {
     "data": {
      "text/latex": [
       "$\\displaystyle \\left[\\begin{matrix}a & b & c & d\\\\b & a & e & f\\\\c & e & a & h\\\\d & f & h & a\\end{matrix}\\right]$"
      ],
      "text/plain": [
       "⎡a  b  c  d⎤\n",
       "⎢          ⎥\n",
       "⎢b  a  e  f⎥\n",
       "⎢          ⎥\n",
       "⎢c  e  a  h⎥\n",
       "⎢          ⎥\n",
       "⎣d  f  h  a⎦"
      ]
     },
     "metadata": {},
     "output_type": "display_data"
    }
   ],
   "source": [
    "from sympy import *\n",
    "\n",
    "a,b,c,d,e,f,h,l,m,n,o,m,l,q,r,t = sym.symbols('a,b,c,d,e,f,h,l,m,n,o,m,l,q,r,t')\n",
    "\n",
    "\n",
    "symmetric =    Matrix(( ['a','b','c','d'],\n",
    "                        ['b','a','e','f'],\n",
    "                        ['c','e','a','h'],\n",
    "                        ['d','f','h','a']    ))\n",
    "\n",
    "display(symmetric)\n"
   ]
  },
  {
   "cell_type": "code",
   "execution_count": 8,
   "id": "a6654b87",
   "metadata": {},
   "outputs": [
    {
     "data": {
      "text/latex": [
       "$\\displaystyle \\left[\\begin{matrix}a & b & c & d\\\\b & a & e & f\\\\c & e & a & h\\\\d & f & h & a\\end{matrix}\\right]$"
      ],
      "text/plain": [
       "⎡a  b  c  d⎤\n",
       "⎢          ⎥\n",
       "⎢b  a  e  f⎥\n",
       "⎢          ⎥\n",
       "⎢c  e  a  h⎥\n",
       "⎢          ⎥\n",
       "⎣d  f  h  a⎦"
      ]
     },
     "execution_count": 8,
     "metadata": {},
     "output_type": "execute_result"
    }
   ],
   "source": [
    "symmetric.T"
   ]
  },
  {
   "cell_type": "markdown",
   "id": "fb69eefc",
   "metadata": {},
   "source": [
    "# goal\n",
    "\n",
    "* create a square matrix with all non zero values\n",
    "* create another square matrix (this is a diagonal matrix).\n",
    "* multiply both of these matrices by itself. hadamard multiply and dot multiply. \n",
    "\n"
   ]
  },
  {
   "cell_type": "code",
   "execution_count": 18,
   "id": "b70ffc12",
   "metadata": {},
   "outputs": [
    {
     "data": {
      "text/plain": [
       "array([[1, 5, 4],\n",
       "       [3, 6, 3],\n",
       "       [6, 4, 6]])"
      ]
     },
     "execution_count": 18,
     "metadata": {},
     "output_type": "execute_result"
    }
   ],
   "source": [
    "a = np.random.randint(low=1,high=9,size=(3,3))\n",
    "\n",
    "b = np.diag([1,2,3])\n",
    "\n",
    "a"
   ]
  },
  {
   "cell_type": "code",
   "execution_count": 19,
   "id": "46073a15",
   "metadata": {},
   "outputs": [
    {
     "data": {
      "text/plain": [
       "array([[1, 0, 0],\n",
       "       [0, 2, 0],\n",
       "       [0, 0, 3]])"
      ]
     },
     "execution_count": 19,
     "metadata": {},
     "output_type": "execute_result"
    }
   ],
   "source": [
    "b"
   ]
  },
  {
   "cell_type": "code",
   "execution_count": 20,
   "id": "16da2c66",
   "metadata": {},
   "outputs": [
    {
     "data": {
      "text/plain": [
       "array([[ 1, 25, 16],\n",
       "       [ 9, 36,  9],\n",
       "       [36, 16, 36]])"
      ]
     },
     "execution_count": 20,
     "metadata": {},
     "output_type": "execute_result"
    }
   ],
   "source": [
    "a*a"
   ]
  },
  {
   "cell_type": "code",
   "execution_count": 21,
   "id": "52343372",
   "metadata": {},
   "outputs": [
    {
     "data": {
      "text/plain": [
       "array([[40, 51, 43],\n",
       "       [39, 63, 48],\n",
       "       [54, 78, 72]])"
      ]
     },
     "execution_count": 21,
     "metadata": {},
     "output_type": "execute_result"
    }
   ],
   "source": [
    "a@a"
   ]
  },
  {
   "cell_type": "code",
   "execution_count": 23,
   "id": "6ba47574",
   "metadata": {},
   "outputs": [
    {
     "data": {
      "text/plain": [
       "array([[1, 0, 0],\n",
       "       [0, 4, 0],\n",
       "       [0, 0, 9]])"
      ]
     },
     "execution_count": 23,
     "metadata": {},
     "output_type": "execute_result"
    }
   ],
   "source": [
    "b*b"
   ]
  },
  {
   "cell_type": "code",
   "execution_count": 24,
   "id": "7ddbfac5",
   "metadata": {},
   "outputs": [
    {
     "data": {
      "text/plain": [
       "array([[1, 0, 0],\n",
       "       [0, 4, 0],\n",
       "       [0, 0, 9]])"
      ]
     },
     "execution_count": 24,
     "metadata": {},
     "output_type": "execute_result"
    }
   ],
   "source": [
    "b@b"
   ]
  },
  {
   "cell_type": "code",
   "execution_count": 25,
   "id": "9a096da3",
   "metadata": {},
   "outputs": [
    {
     "data": {
      "text/plain": [
       "array([[1, 0, 0],\n",
       "       [0, 2, 0],\n",
       "       [0, 0, 3]])"
      ]
     },
     "execution_count": 25,
     "metadata": {},
     "output_type": "execute_result"
    }
   ],
   "source": [
    "b.T"
   ]
  },
  {
   "cell_type": "markdown",
   "id": "f2b5f2ed",
   "metadata": {},
   "source": [
    "# conclusion\n",
    "\n",
    "* diagonal matrices are symmetric matrices\n",
    "* both hadamard multiplying the diagonal matrix by itself and dot producting the diagonal matrix by itself produce the same output"
   ]
  },
  {
   "cell_type": "code",
   "execution_count": 27,
   "id": "79ff575b",
   "metadata": {},
   "outputs": [
    {
     "data": {
      "text/plain": [
       "array([[0.40655866, 0.9756916 , 0.53352143, 0.18910822]])"
      ]
     },
     "execution_count": 27,
     "metadata": {},
     "output_type": "execute_result"
    }
   ],
   "source": [
    "np.random.rand(1,4)"
   ]
  },
  {
   "cell_type": "code",
   "execution_count": 28,
   "id": "290814f7",
   "metadata": {},
   "outputs": [
    {
     "data": {
      "text/plain": [
       "array([[0.31136918],\n",
       "       [0.53434822],\n",
       "       [0.88361528],\n",
       "       [0.61772503]])"
      ]
     },
     "execution_count": 28,
     "metadata": {},
     "output_type": "execute_result"
    }
   ],
   "source": [
    "np.random.rand(4,1)"
   ]
  },
  {
   "cell_type": "markdown",
   "id": "aa9fdf0d",
   "metadata": {},
   "source": [
    "# day 86"
   ]
  },
  {
   "cell_type": "code",
   "execution_count": 2,
   "id": "2bd5e8bf",
   "metadata": {},
   "outputs": [],
   "source": [
    "import numpy as np\n",
    "import matplotlib.pyplot as plt"
   ]
  },
  {
   "cell_type": "markdown",
   "id": "7e89ef91",
   "metadata": {},
   "source": [
    "# fourier transform via matrix multiplication\n",
    "\n",
    "# $$ F_{i,j} = w^{m} $$\n",
    "\n",
    "# $$ w = e^{\\frac{-2 \\pi \\sqrt{-1}}{n}} $$\n",
    "\n",
    "# $$ m = (i-1)(j-1) $$\n",
    "\n",
    "# $$ X = F x $$\n",
    "\n",
    "X is vector of fourier transform coefficients"
   ]
  },
  {
   "cell_type": "code",
   "execution_count": 41,
   "id": "2e11bacb",
   "metadata": {},
   "outputs": [
    {
     "data": {
      "image/png": "[encoded data removed]",
      "text/plain": [
       "<Figure size 1600x600 with 3 Axes>"
      ]
     },
     "metadata": {
      "needs_background": "light"
     },
     "output_type": "display_data"
    }
   ],
   "source": [
    "n = 10\n",
    "F = np.zeros((n,n),dtype=complex)\n",
    "\n",
    "\n",
    "w = np.exp((-2*np.pi*1j)/n)\n",
    "\n",
    "\n",
    "fig,ax = plt.subplots(1,2,figsize=(8,3),dpi=200)\n",
    "\n",
    "for i in range(n):\n",
    "    for j in range(n):\n",
    "        m = (i*j)\n",
    "        F[i,j] =  w**(m)\n",
    "        \n",
    "        \n",
    "x = np.random.randn(n)\n",
    "x1 = F@x\n",
    "x2 = np.fft.fftn(x)\n",
    "\n",
    "first = ax[0].imshow(F.real,cmap='jet')\n",
    "\n",
    "\n",
    "ax[1].plot(abs(x1))\n",
    "ax[1].plot(abs(x2),'ro')\n",
    "\n",
    "\n",
    "\n",
    "fig.colorbar(first,ax=ax[0])\n",
    "\n",
    "\n",
    "plt.tight_layout()\n",
    "plt.show()\n",
    "\n",
    "\n"
   ]
  },
  {
   "cell_type": "markdown",
   "id": "84f052f0",
   "metadata": {},
   "source": [
    "# using inbuilt fourier transform function in numpy"
   ]
  },
  {
   "cell_type": "code",
   "execution_count": 9,
   "id": "091f113d",
   "metadata": {},
   "outputs": [
    {
     "data": {
      "image/png": "[encoded data removed]",
      "text/plain": [
       "<Figure size 432x288 with 1 Axes>"
      ]
     },
     "metadata": {
      "needs_background": "light"
     },
     "output_type": "display_data"
    }
   ],
   "source": [
    "x = np.linspace(-5,5,100)\n",
    "\n",
    "y = np.round(np.fft.fftn(x),6)\n",
    "\n",
    "plt.plot(x,np.imag(y),'ro-')\n",
    "\n",
    "plt.show()"
   ]
  },
  {
   "cell_type": "code",
   "execution_count": 10,
   "id": "b867def2",
   "metadata": {},
   "outputs": [
    {
     "data": {
      "image/png": "[encoded data removed]",
      "text/plain": [
       "<Figure size 432x288 with 1 Axes>"
      ]
     },
     "metadata": {
      "needs_background": "light"
     },
     "output_type": "display_data"
    }
   ],
   "source": [
    "x = np.linspace(-5,5,100)\n",
    "\n",
    "y = np.round(np.fft.fftn(x),6)\n",
    "\n",
    "plt.plot(x,np.real(y),'ro-')\n",
    "\n",
    "plt.show()"
   ]
  },
  {
   "cell_type": "code",
   "execution_count": 12,
   "id": "a337d901",
   "metadata": {},
   "outputs": [
    {
     "data": {
      "image/png": "[encoded data removed]",
      "text/plain": [
       "<Figure size 432x288 with 1 Axes>"
      ]
     },
     "metadata": {
      "needs_background": "light"
     },
     "output_type": "display_data"
    }
   ],
   "source": [
    "x = np.random.rand(100) \n",
    "\n",
    "y = np.round(np.fft.fftn(x),6)\n",
    "\n",
    "plt.plot(x,np.imag(y),'ro-')\n",
    "\n",
    "plt.show()"
   ]
  },
  {
   "cell_type": "code",
   "execution_count": 13,
   "id": "500c390c",
   "metadata": {},
   "outputs": [
    {
     "data": {
      "image/png": "[encoded data removed]",
      "text/plain": [
       "<Figure size 432x288 with 1 Axes>"
      ]
     },
     "metadata": {
      "needs_background": "light"
     },
     "output_type": "display_data"
    }
   ],
   "source": [
    "x = np.random.rand(100) \n",
    "\n",
    "y = np.round(np.fft.fftn(x),6)\n",
    "\n",
    "plt.plot(x,np.real(y),'ro-')\n",
    "\n",
    "plt.show()"
   ]
  },
  {
   "cell_type": "code",
   "execution_count": 14,
   "id": "76757605",
   "metadata": {},
   "outputs": [
    {
     "data": {
      "image/png": "[encoded data removed]",
      "text/plain": [
       "<Figure size 432x288 with 1 Axes>"
      ]
     },
     "metadata": {
      "needs_background": "light"
     },
     "output_type": "display_data"
    }
   ],
   "source": [
    "x = np.random.randn(100)\n",
    "\n",
    "y = np.round(np.fft.fftn(x),6)\n",
    "\n",
    "plt.plot(x,np.imag(y),'ro-')\n",
    "\n",
    "plt.show()"
   ]
  },
  {
   "cell_type": "code",
   "execution_count": 15,
   "id": "48738b6c",
   "metadata": {},
   "outputs": [
    {
     "data": {
      "image/png": "[encoded data removed]",
      "text/plain": [
       "<Figure size 432x288 with 1 Axes>"
      ]
     },
     "metadata": {
      "needs_background": "light"
     },
     "output_type": "display_data"
    }
   ],
   "source": [
    "x = np.random.randn(100)\n",
    "\n",
    "y = np.round(np.fft.fftn(x),6)\n",
    "\n",
    "plt.plot(x,np.real(y),'ro-')\n",
    "\n",
    "plt.show()"
   ]
  },
  {
   "cell_type": "code",
   "execution_count": 25,
   "id": "09f68f0e",
   "metadata": {},
   "outputs": [
    {
     "data": {
      "text/plain": [
       "array([ 5.01017184e+03, -1.53344520e+01,  3.97635260e+01, ...,\n",
       "       -2.92275700e+00,  3.97635260e+01, -1.53344520e+01])"
      ]
     },
     "execution_count": 25,
     "metadata": {},
     "output_type": "execute_result"
    }
   ],
   "source": [
    "np.real(y)"
   ]
  },
  {
   "cell_type": "code",
   "execution_count": null,
   "id": "3774fcb4",
   "metadata": {},
   "outputs": [],
   "source": []
  },
  {
   "cell_type": "markdown",
   "id": "63e04d64",
   "metadata": {},
   "source": [
    "# day 88"
   ]
  },
  {
   "cell_type": "code",
   "execution_count": 2,
   "id": "7e1bad77",
   "metadata": {},
   "outputs": [],
   "source": [
    "import numpy as np\n",
    "import sympy as sym\n",
    "from IPython.display import display,Math\n",
    "sym.init_printing()\n",
    "import matplotlib.pyplot as plt\n",
    "from scipy.signal import find_peaks"
   ]
  },
  {
   "cell_type": "code",
   "execution_count": null,
   "id": "663259b8",
   "metadata": {},
   "outputs": [],
   "source": []
  },
  {
   "cell_type": "markdown",
   "id": "bffaf5d5",
   "metadata": {},
   "source": [
    "# frobenius dot product:\n",
    "\n",
    "step1: do element wise multiplication of the matrices of same sizes\n",
    "\n",
    "step2: sum all elements\n",
    "\n",
    "# $$ (A,B)_F = trace(A^{T}.B) $$\n",
    "\n",
    "\n",
    "trace of matrix is its sum of its diagonal.\n",
    "\n",
    "\n",
    "# $$ norm(A) = \\sqrt{trace(A^{T}A)} $$"
   ]
  },
  {
   "cell_type": "markdown",
   "id": "8e03e121",
   "metadata": {},
   "source": [
    "# finding Norm of A\n",
    "\n",
    "\n",
    "\n",
    "# for vector:\n",
    "\n",
    "# $$ norm(A) = \\sqrt{(A^{T}.A)} $$\n",
    "\n",
    "# for matrix:\n",
    "\n",
    "# $$ norm(A) = \\sqrt{trace(A^{T}.A)} $$"
   ]
  },
  {
   "cell_type": "code",
   "execution_count": 4,
   "id": "ac5dc72c",
   "metadata": {},
   "outputs": [
    {
     "data": {
      "text/plain": [
       "array([[8, 1, 3],\n",
       "       [4, 6, 1],\n",
       "       [2, 3, 4]])"
      ]
     },
     "execution_count": 4,
     "metadata": {},
     "output_type": "execute_result"
    }
   ],
   "source": [
    "A = np.random.randint(1,9,size=(3,3))\n",
    "A"
   ]
  },
  {
   "cell_type": "code",
   "execution_count": 6,
   "id": "e13c1c0c",
   "metadata": {},
   "outputs": [
    {
     "data": {
      "text/plain": [
       "array([[64,  1,  9],\n",
       "       [16, 36,  1],\n",
       "       [ 4,  9, 16]])"
      ]
     },
     "execution_count": 6,
     "metadata": {},
     "output_type": "execute_result"
    }
   ],
   "source": [
    "A*A"
   ]
  },
  {
   "cell_type": "code",
   "execution_count": 7,
   "id": "f845185a",
   "metadata": {},
   "outputs": [
    {
     "data": {
      "text/plain": [
       "array([84, 46, 26])"
      ]
     },
     "execution_count": 7,
     "metadata": {},
     "output_type": "execute_result"
    }
   ],
   "source": [
    "sum(A*A) # summing column-wise"
   ]
  },
  {
   "cell_type": "code",
   "execution_count": 10,
   "id": "33eb3d76",
   "metadata": {},
   "outputs": [
    {
     "data": {
      "text/plain": [
       "array([[84, 38, 36],\n",
       "       [38, 46, 21],\n",
       "       [36, 21, 26]])"
      ]
     },
     "execution_count": 10,
     "metadata": {},
     "output_type": "execute_result"
    }
   ],
   "source": [
    "np.dot(A.T,A)"
   ]
  },
  {
   "cell_type": "code",
   "execution_count": 25,
   "id": "01d3034c",
   "metadata": {},
   "outputs": [
    {
     "data": {
      "text/plain": [
       "156"
      ]
     },
     "execution_count": 25,
     "metadata": {},
     "output_type": "execute_result"
    }
   ],
   "source": [
    "trace = np.trace(np.dot(A.T,A))\n",
    "trace"
   ]
  },
  {
   "cell_type": "code",
   "execution_count": 23,
   "id": "3393f2f7",
   "metadata": {},
   "outputs": [
    {
     "data": {
      "text/plain": [
       "array([84, 46, 26])"
      ]
     },
     "execution_count": 23,
     "metadata": {},
     "output_type": "execute_result"
    }
   ],
   "source": [
    "# how to get the trace\n",
    "\n",
    "np.diag(np.dot(A.T,A))"
   ]
  },
  {
   "cell_type": "code",
   "execution_count": 24,
   "id": "7fbb7069",
   "metadata": {},
   "outputs": [
    {
     "data": {
      "text/plain": [
       "156"
      ]
     },
     "execution_count": 24,
     "metadata": {},
     "output_type": "execute_result"
    }
   ],
   "source": [
    "sum(np.diag(np.dot(A.T,A)))"
   ]
  },
  {
   "cell_type": "code",
   "execution_count": 26,
   "id": "9f6980bf",
   "metadata": {},
   "outputs": [
    {
     "data": {
      "image/png": "[encoded data removed]",
      "text/latex": [
       "$\\displaystyle 12.4899959967968$"
      ],
      "text/plain": [
       "12.489995996796797"
      ]
     },
     "execution_count": 26,
     "metadata": {},
     "output_type": "execute_result"
    }
   ],
   "source": [
    "np.sqrt(trace)"
   ]
  },
  {
   "cell_type": "code",
   "execution_count": 27,
   "id": "ab9b41ab",
   "metadata": {},
   "outputs": [
    {
     "data": {
      "image/png": "[encoded data removed]",
      "text/latex": [
       "$\\displaystyle 12.4899959967968$"
      ],
      "text/plain": [
       "12.489995996796797"
      ]
     },
     "execution_count": 27,
     "metadata": {},
     "output_type": "execute_result"
    }
   ],
   "source": [
    "np.linalg.norm(A)"
   ]
  },
  {
   "cell_type": "code",
   "execution_count": null,
   "id": "3877e67c",
   "metadata": {},
   "outputs": [],
   "source": []
  },
  {
   "cell_type": "markdown",
   "id": "b460fb77",
   "metadata": {},
   "source": [
    "# what is the difference between A^{T}.B and np.dot(A,B)\n",
    "\n",
    "\n",
    " if A is a symmetric matrix then they must equal each other. but if A is not symmetric then they yield completely different result."
   ]
  },
  {
   "cell_type": "code",
   "execution_count": 28,
   "id": "93695c13",
   "metadata": {},
   "outputs": [],
   "source": [
    "\n",
    "A = np.random.randint(1,9,(3,3))\n",
    "B = np.random.randint(1,9,(3,3))\n",
    "one = A.T@B\n",
    "two = np.dot(A,B)\n"
   ]
  },
  {
   "cell_type": "code",
   "execution_count": 29,
   "id": "972a505d",
   "metadata": {},
   "outputs": [
    {
     "data": {
      "text/plain": [
       "array([[59, 56, 99],\n",
       "       [31, 19, 33],\n",
       "       [27, 38, 79]])"
      ]
     },
     "execution_count": 29,
     "metadata": {},
     "output_type": "execute_result"
    }
   ],
   "source": [
    "one"
   ]
  },
  {
   "cell_type": "code",
   "execution_count": 30,
   "id": "713d05ee",
   "metadata": {},
   "outputs": [
    {
     "data": {
      "text/plain": [
       "array([[27, 49, 86],\n",
       "       [37, 55, 75],\n",
       "       [28, 44, 86]])"
      ]
     },
     "execution_count": 30,
     "metadata": {},
     "output_type": "execute_result"
    }
   ],
   "source": [
    "two"
   ]
  },
  {
   "cell_type": "markdown",
   "id": "ff3b0cac",
   "metadata": {},
   "source": [
    "# day 93"
   ]
  },
  {
   "cell_type": "markdown",
   "id": "f7d853dd",
   "metadata": {},
   "source": [
    "# norm of the matrix"
   ]
  },
  {
   "cell_type": "code",
   "execution_count": 1,
   "id": "7af3607b",
   "metadata": {},
   "outputs": [],
   "source": [
    "import numpy as np\n",
    "import matplotlib.pyplot as plt\n",
    "import seaborn as sns"
   ]
  },
  {
   "cell_type": "code",
   "execution_count": 2,
   "id": "cc7fcf2c",
   "metadata": {},
   "outputs": [
    {
     "data": {
      "text/plain": [
       "array([[5, 2, 3],\n",
       "       [7, 2, 3],\n",
       "       [4, 6, 3]])"
      ]
     },
     "execution_count": 2,
     "metadata": {},
     "output_type": "execute_result"
    }
   ],
   "source": [
    "a = np.random.randint(1,8,(3,3))\n",
    "\n",
    "a"
   ]
  },
  {
   "cell_type": "code",
   "execution_count": 15,
   "id": "56f31060",
   "metadata": {},
   "outputs": [
    {
     "data": {
      "text/plain": [
       "12.68857754044952"
      ]
     },
     "execution_count": 15,
     "metadata": {},
     "output_type": "execute_result"
    }
   ],
   "source": [
    "np.sqrt(sum(np.diag(np.dot(a.T,a))))"
   ]
  },
  {
   "cell_type": "code",
   "execution_count": 6,
   "id": "4e468dca",
   "metadata": {},
   "outputs": [
    {
     "data": {
      "text/plain": [
       "12.68857754044952"
      ]
     },
     "execution_count": 6,
     "metadata": {},
     "output_type": "execute_result"
    }
   ],
   "source": [
    "np.linalg.norm(a)"
   ]
  },
  {
   "cell_type": "code",
   "execution_count": null,
   "id": "aed688c3",
   "metadata": {},
   "outputs": [],
   "source": []
  },
  {
   "cell_type": "markdown",
   "id": "358daad4",
   "metadata": {},
   "source": [
    "# popular induced matrix norm\n",
    "\n",
    "# induced-2-norm:\n",
    "\n",
    "\n",
    "# $$ \\text{length(matrix)}_p =  \\text{max} ( \\frac{\\text{length(np.dot(matrix,vector))} } {\\text{length(vector)} } ) $$\n",
    "\n",
    "\n",
    "### * default norm in python is induced-2-norm \n",
    "\n",
    "\n",
    "# schatten p norm\n",
    "\n"
   ]
  },
  {
   "cell_type": "code",
   "execution_count": 16,
   "id": "a46fc4b7",
   "metadata": {},
   "outputs": [
    {
     "data": {
      "text/plain": [
       "array([[5, 2, 3],\n",
       "       [7, 2, 3],\n",
       "       [4, 6, 3]])"
      ]
     },
     "execution_count": 16,
     "metadata": {},
     "output_type": "execute_result"
    }
   ],
   "source": [
    "a"
   ]
  },
  {
   "cell_type": "code",
   "execution_count": null,
   "id": "c917a17b",
   "metadata": {},
   "outputs": [],
   "source": []
  },
  {
   "cell_type": "code",
   "execution_count": 17,
   "id": "2df6b0cf",
   "metadata": {},
   "outputs": [
    {
     "data": {
      "text/plain": [
       "12.68857754044952"
      ]
     },
     "execution_count": 17,
     "metadata": {},
     "output_type": "execute_result"
    }
   ],
   "source": [
    "frobenius_norm = np.linalg.norm(a,ord='fro')\n",
    "\n",
    "frobenius_norm"
   ]
  },
  {
   "cell_type": "markdown",
   "id": "d45fb619",
   "metadata": {},
   "source": [
    "# day 95"
   ]
  },
  {
   "cell_type": "code",
   "execution_count": 1,
   "id": "6ab91739",
   "metadata": {},
   "outputs": [],
   "source": [
    "import numpy as np\n",
    "import sympy as sym\n",
    "from IPython.display import display,Math\n",
    "sym.init_printing()\n",
    "import matplotlib.pyplot as plt"
   ]
  },
  {
   "cell_type": "markdown",
   "id": "bdceea3f",
   "metadata": {},
   "source": [
    "# Adjoint-operator:\n",
    "\n",
    "# sum (np.dot(A,v) * w) = sum(v*np.dot(A.T,w))\n",
    "\n",
    "# conditions for the equality to hold True:\n",
    "1. vectors and the matrix need to be dot productable or element-wise multipliable.\n",
    "2. transpose happens for A in the rhs\n",
    "\n",
    "\n",
    "# uses:\n",
    "\n",
    "Multivariate calculas\n",
    "differential Geometry"
   ]
  },
  {
   "cell_type": "code",
   "execution_count": 77,
   "id": "292cea91",
   "metadata": {},
   "outputs": [],
   "source": [
    "v = np.random.randint(0,9,9)\n",
    "w = np.random.randint(0,9,size=(3))\n",
    "A = np.random.randint(0,9,size=(len(w),len(v)))"
   ]
  },
  {
   "cell_type": "code",
   "execution_count": 78,
   "id": "ac609e62",
   "metadata": {},
   "outputs": [
    {
     "data": {
      "text/plain": [
       "array([6, 6, 8, 3, 2, 0, 4, 8, 4])"
      ]
     },
     "execution_count": 78,
     "metadata": {},
     "output_type": "execute_result"
    }
   ],
   "source": [
    "v"
   ]
  },
  {
   "cell_type": "code",
   "execution_count": 79,
   "id": "861cf0df",
   "metadata": {},
   "outputs": [
    {
     "data": {
      "text/plain": [
       "array([2, 4, 8])"
      ]
     },
     "execution_count": 79,
     "metadata": {},
     "output_type": "execute_result"
    }
   ],
   "source": [
    "w"
   ]
  },
  {
   "cell_type": "code",
   "execution_count": 80,
   "id": "30c4a062",
   "metadata": {},
   "outputs": [
    {
     "data": {
      "text/plain": [
       "array([[4, 2, 7, 3, 8, 2, 0, 8, 7],\n",
       "       [1, 0, 5, 6, 0, 5, 5, 0, 6],\n",
       "       [1, 0, 3, 2, 1, 6, 4, 2, 7]])"
      ]
     },
     "execution_count": 80,
     "metadata": {},
     "output_type": "execute_result"
    }
   ],
   "source": [
    "A"
   ]
  },
  {
   "cell_type": "code",
   "execution_count": 81,
   "id": "14ab5946",
   "metadata": {},
   "outputs": [
    {
     "data": {
      "text/plain": [
       "1634"
      ]
     },
     "execution_count": 81,
     "metadata": {},
     "output_type": "execute_result"
    }
   ],
   "source": [
    "sum(np.dot(A,v)*w)"
   ]
  },
  {
   "cell_type": "code",
   "execution_count": 82,
   "id": "6d3116aa",
   "metadata": {},
   "outputs": [
    {
     "data": {
      "text/plain": [
       "1634"
      ]
     },
     "execution_count": 82,
     "metadata": {},
     "output_type": "execute_result"
    }
   ],
   "source": [
    "sum(v*np.dot(A.T,w))"
   ]
  },
  {
   "cell_type": "markdown",
   "id": "005a3f47",
   "metadata": {},
   "source": [
    "# np.dot(A*v,w) == np.dot(A*w,v)\n",
    "\n",
    "# conditions:\n",
    "1. A is square\n",
    "2. A is symmetric\n",
    "3. v,w are vectors of same size"
   ]
  },
  {
   "cell_type": "code",
   "execution_count": 94,
   "id": "c2e8d465",
   "metadata": {},
   "outputs": [],
   "source": [
    "# creating a matrix of square dimensions\n",
    "A = np.random.randint(0,9,(3,3))\n",
    "\n",
    "# converting the A into symmetric matrix\n",
    "A = A@A.T\n",
    "\n",
    "# creating two differnt vectors of same size\n",
    "v = np.random.randint(0,9,(3))\n",
    "w = np.random.randint(0,9,(3))\n",
    "\n"
   ]
  },
  {
   "cell_type": "code",
   "execution_count": 95,
   "id": "47d33596",
   "metadata": {},
   "outputs": [
    {
     "data": {
      "text/plain": [
       "array([[ 26,  31,  22],\n",
       "       [ 31,  62,  64],\n",
       "       [ 22,  64, 107]])"
      ]
     },
     "execution_count": 95,
     "metadata": {},
     "output_type": "execute_result"
    }
   ],
   "source": [
    "A"
   ]
  },
  {
   "cell_type": "code",
   "execution_count": 96,
   "id": "e8aff4f9",
   "metadata": {},
   "outputs": [
    {
     "data": {
      "text/plain": [
       "array([0, 7, 3])"
      ]
     },
     "execution_count": 96,
     "metadata": {},
     "output_type": "execute_result"
    }
   ],
   "source": [
    "v"
   ]
  },
  {
   "cell_type": "code",
   "execution_count": 97,
   "id": "18cab313",
   "metadata": {},
   "outputs": [
    {
     "data": {
      "text/plain": [
       "array([2, 4, 7])"
      ]
     },
     "execution_count": 97,
     "metadata": {},
     "output_type": "execute_result"
    }
   ],
   "source": [
    "w"
   ]
  },
  {
   "cell_type": "code",
   "execution_count": 98,
   "id": "ce0a2492",
   "metadata": {},
   "outputs": [
    {
     "data": {
      "text/plain": [
       "array([1330, 3080, 4039])"
      ]
     },
     "execution_count": 98,
     "metadata": {},
     "output_type": "execute_result"
    }
   ],
   "source": [
    "np.dot(A*v,w)"
   ]
  },
  {
   "cell_type": "code",
   "execution_count": 99,
   "id": "91bffdb8",
   "metadata": {},
   "outputs": [
    {
     "data": {
      "text/plain": [
       "array([ 566, 2504, 5383])"
      ]
     },
     "execution_count": 99,
     "metadata": {},
     "output_type": "execute_result"
    }
   ],
   "source": [
    "np.dot(v,A*w)"
   ]
  },
  {
   "cell_type": "markdown",
   "id": "3abed1ce",
   "metadata": {},
   "source": [
    "# day 97 and day 99"
   ]
  },
  {
   "cell_type": "code",
   "execution_count": 2,
   "id": "946e5397",
   "metadata": {},
   "outputs": [],
   "source": [
    "import numpy as np\n",
    "import sympy as sym\n",
    "from IPython.display import display,Math\n",
    "sym.init_printing()\n",
    "import matplotlib.pyplot as plt\n"
   ]
  },
  {
   "cell_type": "code",
   "execution_count": 10,
   "id": "f1d3a7e0",
   "metadata": {},
   "outputs": [],
   "source": [
    "n = 5\n",
    "\n",
    "a = np.random.randn(n,n)\n",
    "\n",
    "# converting the a into a symmetric matrix\n",
    "a = a@a.T\n",
    "\n",
    "v = np.random.randn(n)\n",
    "w = np.random.rand(n)\n",
    "\n"
   ]
  },
  {
   "cell_type": "code",
   "execution_count": 11,
   "id": "465f3e3e",
   "metadata": {},
   "outputs": [
    {
     "data": {
      "text/plain": [
       "array([[ 6.39918620e+00,  2.93982241e-01, -2.65012048e+00,\n",
       "         2.42441673e+00,  2.85942843e+00],\n",
       "       [ 2.93982241e-01,  6.30809991e-01,  5.10523640e-03,\n",
       "         9.75447205e-01, -6.99800587e-01],\n",
       "       [-2.65012048e+00,  5.10523640e-03,  4.43584516e+00,\n",
       "         2.00634587e+00, -3.91277426e+00],\n",
       "       [ 2.42441673e+00,  9.75447205e-01,  2.00634587e+00,\n",
       "         5.28683635e+00, -3.11264625e+00],\n",
       "       [ 2.85942843e+00, -6.99800587e-01, -3.91277426e+00,\n",
       "        -3.11264625e+00,  8.93703034e+00]])"
      ]
     },
     "execution_count": 11,
     "metadata": {},
     "output_type": "execute_result"
    }
   ],
   "source": [
    "a"
   ]
  },
  {
   "cell_type": "code",
   "execution_count": 12,
   "id": "e71fd363",
   "metadata": {},
   "outputs": [
    {
     "data": {
      "text/plain": [
       "array([-1.07663523, -0.11406725, -0.94257926,  1.89069804, -0.33891581])"
      ]
     },
     "execution_count": 12,
     "metadata": {},
     "output_type": "execute_result"
    }
   ],
   "source": [
    "v"
   ]
  },
  {
   "cell_type": "code",
   "execution_count": 13,
   "id": "e91cb751",
   "metadata": {},
   "outputs": [
    {
     "data": {
      "text/plain": [
       "array([0.34828216, 0.33670197, 0.23391038, 0.20912316, 0.03640943])"
      ]
     },
     "execution_count": 13,
     "metadata": {},
     "output_type": "execute_result"
    }
   ],
   "source": [
    "w"
   ]
  },
  {
   "cell_type": "code",
   "execution_count": 14,
   "id": "e90799e6",
   "metadata": {},
   "outputs": [
    {
     "data": {
      "image/png": "[encoded data removed]",
      "text/latex": [
       "$\\displaystyle 2.21980667661764$"
      ],
      "text/plain": [
       "2.2198066766176425"
      ]
     },
     "execution_count": 14,
     "metadata": {},
     "output_type": "execute_result"
    }
   ],
   "source": [
    "np.dot(a@v,w)"
   ]
  },
  {
   "cell_type": "code",
   "execution_count": 16,
   "id": "2489cfc0",
   "metadata": {},
   "outputs": [
    {
     "data": {
      "image/png": "[encoded data removed]",
      "text/latex": [
       "$\\displaystyle 2.21980667661764$"
      ],
      "text/plain": [
       "2.219806676617641"
      ]
     },
     "execution_count": 16,
     "metadata": {},
     "output_type": "execute_result"
    }
   ],
   "source": [
    "np.dot(a@w,v)"
   ]
  },
  {
   "cell_type": "markdown",
   "id": "ad1c8bd4",
   "metadata": {},
   "source": [
    "# conclusion:\n",
    "\n",
    "it is proved that:\n",
    "    \n",
    "# $$ a.v.w = a.w.v $$    "
   ]
  },
  {
   "cell_type": "markdown",
   "id": "a738205e",
   "metadata": {},
   "source": [
    "# symmetric matrices:\n",
    "\n",
    "# Goal:\n",
    "\n",
    "1. learn a measure of how symmetric a matrix is\n",
    "2. learn about skew_symmetric matrices\n",
    "\n",
    "\n",
    "# skew_symmetric matrix:\n",
    "\n",
    "1. skew_symmetric matrix is also known as asymmetric matrix.\n",
    "\n",
    "# $$ a_i = \\frac{\\text{norm of }\\bar{a}}{ \\text {norm of }a} $$\n",
    "\n",
    "where, \n",
    "\n",
    "1. a_i is index of assymetric matrix.\n",
    "\n",
    "\n",
    "2. a bar is assymetric part of a.\n",
    "\n",
    "# $$ \\bar{a} = \\frac{(a - a^{T})}{2} $$\n",
    "\n",
    "\n",
    "# conditions\n",
    "\n",
    "1. a needs to be a square matrix.\n",
    "\n"
   ]
  },
  {
   "cell_type": "code",
   "execution_count": 61,
   "id": "61fa42e1",
   "metadata": {},
   "outputs": [],
   "source": [
    "# defining a and its assymetry\n",
    "a = np.random.rand(3,3)\n",
    "\n",
    "assymetric_part = (a-a.T)/2\n",
    "\n",
    "# length of individual components of a is its norm\n",
    "norm_of_a = np.linalg.norm(a) \n",
    "norm_of_assymetric_a = np.linalg.norm(assymetric_part)\n",
    "\n",
    "p = np.random.rand(1)\n",
    "a = (1-p)*(a + a.T)/2 + p*(a-a.T)/2 \n",
    "\n",
    "\n",
    "# ratio between how much of the matrix is assymetric\n",
    "MAI = norm_of_assymetric_a/norm_of_a # matrix asymmetric index\n",
    "\n",
    "\n"
   ]
  },
  {
   "cell_type": "markdown",
   "id": "47381858",
   "metadata": {},
   "source": [
    "# create an equation such that when p is = 0 the eq is = symmetric matrix, and when p = 1 the eq is = assymmetric matrix\n",
    "\n",
    "\n",
    "# $$ \\text{MAI } = \\frac{\\text{asymetry} } {\\text{asymetry + symmetry } } $$"
   ]
  },
  {
   "cell_type": "code",
   "execution_count": null,
   "id": "74697c36",
   "metadata": {},
   "outputs": [],
   "source": []
  },
  {
   "cell_type": "markdown",
   "id": "d1445fb4",
   "metadata": {},
   "source": [
    "# controlling symmetricity and asymmetricity of the matrix"
   ]
  },
  {
   "cell_type": "code",
   "execution_count": 67,
   "id": "3219975b",
   "metadata": {},
   "outputs": [
    {
     "data": {
      "image/png": "[encoded data removed]",
      "text/plain": [
       "<Figure size 1200x800 with 1 Axes>"
      ]
     },
     "metadata": {
      "needs_background": "light"
     },
     "output_type": "display_data"
    }
   ],
   "source": [
    "# create an equation such that when p is = 0 the eq is = symmetric matrix, and when p = 1 the eq is = assymmetric matrix\n",
    "\n",
    "ps = np.linspace(0,1,100)\n",
    "\n",
    "mai = np.zeros(len(ps))\n",
    "\n",
    "for i in range(len(ps)):\n",
    "    a = np.random.randn(3,3)\n",
    "    \n",
    "    p = ps[i]\n",
    "    a =  (1-p)*(a+a.T)/2      +      p*(a-a.T)/2  \n",
    "    mai[i] = np.linalg.norm((a-a.T)/2)/np.linalg.norm(a)\n",
    "    \n",
    "plt.figure(dpi=200)    \n",
    "plt.plot(ps,mai,'o-')\n",
    "plt.xlabel('p',fontsize=15)\n",
    "plt.ylabel('MAI',fontsize=15)\n",
    "\n",
    "plt.show()\n",
    "\n",
    "\n",
    "# MAI is asymetry/(asymetry + symmetry)"
   ]
  },
  {
   "cell_type": "code",
   "execution_count": 62,
   "id": "81b3602b",
   "metadata": {},
   "outputs": [
    {
     "data": {
      "text/plain": [
       "array([[0.14430334, 0.24395686, 0.37032273],\n",
       "       [0.41958554, 0.70563957, 0.4852239 ],\n",
       "       [0.30223311, 0.57985407, 0.63869398]])"
      ]
     },
     "execution_count": 62,
     "metadata": {},
     "output_type": "execute_result"
    }
   ],
   "source": [
    "a"
   ]
  },
  {
   "cell_type": "code",
   "execution_count": 63,
   "id": "b2475a0c",
   "metadata": {},
   "outputs": [
    {
     "data": {
      "text/plain": [
       "array([[ 0.        , -0.40293448,  0.15621399],\n",
       "       [ 0.40293448,  0.        , -0.2171044 ],\n",
       "       [-0.15621399,  0.2171044 ,  0.        ]])"
      ]
     },
     "execution_count": 63,
     "metadata": {},
     "output_type": "execute_result"
    }
   ],
   "source": [
    "assymetric_part # zeros are present in centre. upper and lower echleons are filled with opposite signed same numbers."
   ]
  },
  {
   "cell_type": "code",
   "execution_count": 64,
   "id": "b99b9b70",
   "metadata": {},
   "outputs": [
    {
     "data": {
      "image/png": "[encoded data removed]",
      "text/latex": [
       "$\\displaystyle 1.90787370207281$"
      ],
      "text/plain": [
       "1.907873702072813"
      ]
     },
     "execution_count": 64,
     "metadata": {},
     "output_type": "execute_result"
    }
   ],
   "source": [
    "norm_of_a"
   ]
  },
  {
   "cell_type": "code",
   "execution_count": 65,
   "id": "a0dde8e6",
   "metadata": {},
   "outputs": [
    {
     "data": {
      "image/png": "[encoded data removed]",
      "text/latex": [
       "$\\displaystyle 0.683949304699309$"
      ],
      "text/plain": [
       "0.6839493046993094"
      ]
     },
     "execution_count": 65,
     "metadata": {},
     "output_type": "execute_result"
    }
   ],
   "source": [
    "norm_of_assymetric_a"
   ]
  },
  {
   "cell_type": "code",
   "execution_count": 66,
   "id": "7f9a0843",
   "metadata": {},
   "outputs": [
    {
     "data": {
      "image/png": "[encoded data removed]",
      "text/latex": [
       "$\\displaystyle 0.358487725867929$"
      ],
      "text/plain": [
       "0.358487725867929"
      ]
     },
     "execution_count": 66,
     "metadata": {},
     "output_type": "execute_result"
    }
   ],
   "source": [
    "MAI"
   ]
  },
  {
   "cell_type": "code",
   "execution_count": 47,
   "id": "2440db2e",
   "metadata": {},
   "outputs": [
    {
     "data": {
      "text/plain": [
       "array([[ 0.        , -0.21992369,  0.19962701],\n",
       "       [ 0.21992369,  0.        , -0.01990338],\n",
       "       [-0.19962701,  0.01990338,  0.        ]])"
      ]
     },
     "execution_count": 47,
     "metadata": {},
     "output_type": "execute_result"
    }
   ],
   "source": [
    "b"
   ]
  },
  {
   "cell_type": "code",
   "execution_count": null,
   "id": "01dca35e",
   "metadata": {},
   "outputs": [],
   "source": []
  },
  {
   "cell_type": "code",
   "execution_count": null,
   "id": "6d4869e0",
   "metadata": {},
   "outputs": [],
   "source": []
  },
  {
   "cell_type": "markdown",
   "id": "28d98781",
   "metadata": {},
   "source": [
    "# difference between symmetric and assymetric matrix\n",
    "\n",
    "\n",
    "# $$ \\text{symmetric } = \\frac{a + a^{T}}{2} $$\n",
    "\n",
    "# $$ \\text{symmetric } = \\frac{a - a^{T}}{2} $$\n"
   ]
  },
  {
   "cell_type": "code",
   "execution_count": 29,
   "id": "580d917f",
   "metadata": {},
   "outputs": [],
   "source": [
    "a = np.random.randn(3,3)\n",
    "\n",
    "symmetric = (a+a.T)/2\n",
    "asymmetric = (a-a.T)/2\n",
    "\n",
    "ratio_sym_asym = np.linalg.norm(asymmetric)/np.linalg.norm(symmetric)"
   ]
  },
  {
   "cell_type": "code",
   "execution_count": 30,
   "id": "d6a4fdea",
   "metadata": {},
   "outputs": [
    {
     "data": {
      "text/plain": [
       "array([[ 1.23040144,  1.3996663 , -2.48398776],\n",
       "       [ 0.68193277,  0.19928576,  0.14187989],\n",
       "       [ 0.08674231, -1.43408189,  0.36814123]])"
      ]
     },
     "execution_count": 30,
     "metadata": {},
     "output_type": "execute_result"
    }
   ],
   "source": [
    "a"
   ]
  },
  {
   "cell_type": "code",
   "execution_count": 31,
   "id": "4e0593f4",
   "metadata": {},
   "outputs": [
    {
     "data": {
      "text/plain": [
       "array([[ 1.23040144,  1.04079954, -1.19862272],\n",
       "       [ 1.04079954,  0.19928576, -0.646101  ],\n",
       "       [-1.19862272, -0.646101  ,  0.36814123]])"
      ]
     },
     "execution_count": 31,
     "metadata": {},
     "output_type": "execute_result"
    }
   ],
   "source": [
    "symmetric"
   ]
  },
  {
   "cell_type": "code",
   "execution_count": 32,
   "id": "01b7eaf5",
   "metadata": {},
   "outputs": [
    {
     "data": {
      "text/plain": [
       "array([[ 0.        ,  0.35886676, -1.28536504],\n",
       "       [-0.35886676,  0.        ,  0.78798089],\n",
       "       [ 1.28536504, -0.78798089,  0.        ]])"
      ]
     },
     "execution_count": 32,
     "metadata": {},
     "output_type": "execute_result"
    }
   ],
   "source": [
    "asymmetric"
   ]
  },
  {
   "cell_type": "code",
   "execution_count": 33,
   "id": "092efd00",
   "metadata": {},
   "outputs": [
    {
     "data": {
      "image/png": "[encoded data removed]",
      "text/latex": [
       "$\\displaystyle 0.79692036733472$"
      ],
      "text/plain": [
       "0.7969203673347197"
      ]
     },
     "execution_count": 33,
     "metadata": {},
     "output_type": "execute_result"
    }
   ],
   "source": [
    "ratio_sym_asym"
   ]
  },
  {
   "cell_type": "markdown",
   "id": "90d203d5",
   "metadata": {},
   "source": [
    "# day 101"
   ]
  },
  {
   "cell_type": "code",
   "execution_count": 1,
   "id": "3a01540b",
   "metadata": {},
   "outputs": [],
   "source": [
    "import numpy as np\n",
    "import sympy as sym\n",
    "from IPython.display import display,Math\n",
    "sym.init_printing()\n",
    "import matplotlib.pyplot as plt\n",
    "import seaborn as sns"
   ]
  },
  {
   "cell_type": "markdown",
   "id": "3262f4ac",
   "metadata": {},
   "source": [
    "# Matrix division\n",
    "\n",
    "# element-wise matrix division:\n",
    "\n",
    "1. it is used in data analysis.\n",
    "\n",
    "\n",
    "# inverse division:\n",
    "\n",
    "$$ \\frac{A}{B} = AB^{-1} $$"
   ]
  },
  {
   "cell_type": "code",
   "execution_count": 2,
   "id": "9d0a37e2",
   "metadata": {},
   "outputs": [],
   "source": [
    "A = np.random.rand(3,3)\n",
    "B = np.random.rand(3,3)"
   ]
  },
  {
   "cell_type": "code",
   "execution_count": 3,
   "id": "b7a532b0",
   "metadata": {},
   "outputs": [
    {
     "data": {
      "text/plain": [
       "array([[0.59359111, 0.86679027, 0.37306803],\n",
       "       [0.1450912 , 0.07507277, 0.91164865],\n",
       "       [0.00111284, 0.18744219, 0.97593969]])"
      ]
     },
     "execution_count": 3,
     "metadata": {},
     "output_type": "execute_result"
    }
   ],
   "source": [
    "A"
   ]
  },
  {
   "cell_type": "code",
   "execution_count": 4,
   "id": "2d27efad",
   "metadata": {},
   "outputs": [
    {
     "data": {
      "text/plain": [
       "array([[0.57811733, 0.61595067, 0.606611  ],\n",
       "       [0.22441688, 0.09594772, 0.18646048],\n",
       "       [0.89862137, 0.37972342, 0.81661602]])"
      ]
     },
     "execution_count": 4,
     "metadata": {},
     "output_type": "execute_result"
    }
   ],
   "source": [
    "B"
   ]
  },
  {
   "cell_type": "markdown",
   "id": "9c60297e",
   "metadata": {},
   "source": [
    "# element wise"
   ]
  },
  {
   "cell_type": "code",
   "execution_count": 6,
   "id": "ba093633",
   "metadata": {},
   "outputs": [
    {
     "data": {
      "text/plain": [
       "array([[1.03, 1.41, 0.62],\n",
       "       [0.65, 0.78, 4.89],\n",
       "       [0.  , 0.49, 1.2 ]])"
      ]
     },
     "execution_count": 6,
     "metadata": {},
     "output_type": "execute_result"
    }
   ],
   "source": [
    "np.round(A/B,2)"
   ]
  },
  {
   "cell_type": "markdown",
   "id": "ae959240",
   "metadata": {},
   "source": [
    "# inverse division:"
   ]
  },
  {
   "cell_type": "code",
   "execution_count": 7,
   "id": "6e158693",
   "metadata": {},
   "outputs": [
    {
     "data": {
      "text/plain": [
       "array([[0.59359111, 0.86679027, 0.37306803],\n",
       "       [0.1450912 , 0.07507277, 0.91164865],\n",
       "       [0.00111284, 0.18744219, 0.97593969]])"
      ]
     },
     "execution_count": 7,
     "metadata": {},
     "output_type": "execute_result"
    }
   ],
   "source": [
    "A"
   ]
  },
  {
   "cell_type": "code",
   "execution_count": 8,
   "id": "70f48f2b",
   "metadata": {},
   "outputs": [
    {
     "data": {
      "text/plain": [
       "array([[0.57811733, 0.61595067, 0.606611  ],\n",
       "       [0.22441688, 0.09594772, 0.18646048],\n",
       "       [0.89862137, 0.37972342, 0.81661602]])"
      ]
     },
     "execution_count": 8,
     "metadata": {},
     "output_type": "execute_result"
    }
   ],
   "source": [
    "B"
   ]
  },
  {
   "cell_type": "code",
   "execution_count": 9,
   "id": "5882182a",
   "metadata": {},
   "outputs": [
    {
     "data": {
      "text/plain": [
       "array([[ 1.72975267,  1.62350663,  1.64850291],\n",
       "       [ 4.45599283, 10.4223421 ,  5.36306689],\n",
       "       [ 1.11281574,  2.6334957 ,  1.22456574]])"
      ]
     },
     "execution_count": 9,
     "metadata": {},
     "output_type": "execute_result"
    }
   ],
   "source": [
    "B**(-1)"
   ]
  },
  {
   "cell_type": "code",
   "execution_count": 11,
   "id": "c8a0bc9a",
   "metadata": {},
   "outputs": [
    {
     "data": {
      "text/plain": [
       "array([[ -1.27548916,  46.0672053 ,  -9.57119016],\n",
       "       [  2.65353281,  12.33643478,  -4.78795368],\n",
       "       [  0.16969206, -56.42971366,  13.98328449]])"
      ]
     },
     "execution_count": 11,
     "metadata": {},
     "output_type": "execute_result"
    }
   ],
   "source": [
    "np.linalg.inv(B)"
   ]
  },
  {
   "cell_type": "code",
   "execution_count": 12,
   "id": "d3486043",
   "metadata": {},
   "outputs": [
    {
     "data": {
      "text/plain": [
       "array([[-7.57119030e-01,  3.99306053e+01, -3.57070502e+00],\n",
       "       [ 3.85004269e-01,  9.26130378e-01, -4.36493153e+00],\n",
       "       [ 1.88840077e-04, -1.05773089e+01,  1.36468424e+01]])"
      ]
     },
     "execution_count": 12,
     "metadata": {},
     "output_type": "execute_result"
    }
   ],
   "source": [
    "A*np.linalg.inv(B)"
   ]
  },
  {
   "cell_type": "code",
   "execution_count": null,
   "id": "ac0882a8",
   "metadata": {},
   "outputs": [],
   "source": []
  }
 ],
 "metadata": {
  "kernelspec": {
   "display_name": "Python 3 (ipykernel)",
   "language": "python",
   "name": "python3"
  },
  "language_info": {
   "codemirror_mode": {
    "name": "ipython",
    "version": 3
   },
   "file_extension": ".py",
   "mimetype": "text/x-python",
   "name": "python",
   "nbconvert_exporter": "python",
   "pygments_lexer": "ipython3",
   "version": "3.9.12"
  }
 },
 "nbformat": 4,
 "nbformat_minor": 5
}
