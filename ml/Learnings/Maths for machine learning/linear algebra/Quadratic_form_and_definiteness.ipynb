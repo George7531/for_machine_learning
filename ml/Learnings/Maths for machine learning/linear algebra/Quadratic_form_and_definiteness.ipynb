version https://git-lfs.github.com/spec/v1
oid sha256:d83afb974d09969ab3c1d2477d77d584b31c9a716c00684be69038ff962b82b9
size 19797375
