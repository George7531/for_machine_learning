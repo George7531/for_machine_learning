{
 "cells": [
  {
   "cell_type": "markdown",
   "id": "ae62601a",
   "metadata": {},
   "source": [
    "# day 147 and day 148"
   ]
  },
  {
   "cell_type": "code",
   "execution_count": 4,
   "id": "29a234ae",
   "metadata": {},
   "outputs": [],
   "source": [
    "import numpy as np\n",
    "import matplotlib.pyplot as plt\n",
    "import sympy as sym\n",
    "from IPython.display import display,Math,clear_output\n",
    "sym.init_printing()\n",
    "import time"
   ]
  },
  {
   "cell_type": "markdown",
   "id": "4d23c7f4",
   "metadata": {},
   "source": [
    "# algebra and geometry for solving systems of equations"
   ]
  },
  {
   "cell_type": "code",
   "execution_count": 4,
   "id": "33752e11",
   "metadata": {},
   "outputs": [
    {
     "name": "stdout",
     "output_type": "stream",
     "text": [
      "solution is {x: 4/3, y: 8/3}\n"
     ]
    },
    {
     "data": {
      "image/png": "[encoded data removed]",
      "text/plain": [
       "<Figure size 432x288 with 1 Axes>"
      ]
     },
     "metadata": {
      "needs_background": "light"
     },
     "output_type": "display_data"
    }
   ],
   "source": [
    "x,y = sym.symbols('x y')\n",
    "\n",
    "eq1 = x + y - 4\n",
    "eq2 = -x/2 + y -2\n",
    "\n",
    "solution = sym.solve((eq1,eq2),(x,y))\n",
    "print('solution is {}'.format(solution))\n",
    "\n",
    "# to solve for y in terms of x.\n",
    "y_expr1 = sym.solve(eq1,(y))[0]\n",
    "y_expr2 = sym.solve(eq2,(y))[0]\n",
    "\n",
    "\n",
    "# plotting\n",
    "p = sym.plot(y_expr1,y_expr2,(x,-5,5),show=False)\n",
    "\n",
    "p.legend = True\n",
    "p[0].label = 'eq1'\n",
    "p[1].label = 'eq2'\n",
    "\n",
    "\n",
    "\n",
    "# intersection point\n",
    "intersection_point = sym.Point(solution[x],solution[y],color='red')\n",
    "\n",
    "\n",
    "p.show()\n"
   ]
  },
  {
   "cell_type": "markdown",
   "id": "cc707c17",
   "metadata": {},
   "source": [
    "# explanation,analysis and freethrows"
   ]
  },
  {
   "cell_type": "code",
   "execution_count": 31,
   "id": "79c4b9d2",
   "metadata": {},
   "outputs": [
    {
     "data": {
      "image/png": "[encoded data removed]",
      "text/latex": [
       "$\\displaystyle \\left\\{ x : \\frac{4}{3}, \\  y : \\frac{8}{3}\\right\\}$"
      ],
      "text/plain": [
       "{x: 4/3, y: 8/3}"
      ]
     },
     "execution_count": 31,
     "metadata": {},
     "output_type": "execute_result"
    }
   ],
   "source": [
    "solution"
   ]
  },
  {
   "cell_type": "code",
   "execution_count": 35,
   "id": "7f63a271",
   "metadata": {},
   "outputs": [
    {
     "data": {
      "image/png": "[encoded data removed]",
      "text/latex": [
       "$\\displaystyle \\frac{4}{3}$"
      ],
      "text/plain": [
       "4/3"
      ]
     },
     "execution_count": 35,
     "metadata": {},
     "output_type": "execute_result"
    }
   ],
   "source": [
    "solution[x]"
   ]
  },
  {
   "cell_type": "code",
   "execution_count": 52,
   "id": "c48bcdeb",
   "metadata": {},
   "outputs": [
    {
     "data": {
      "image/png": "[encoded data removed]",
      "text/latex": [
       "$\\displaystyle \\operatorname{Point2D}\\left(\\frac{4}{3}, \\frac{8}{3}\\right)$"
      ],
      "text/plain": [
       "Point2D(4/3, 8/3)"
      ]
     },
     "execution_count": 52,
     "metadata": {},
     "output_type": "execute_result"
    }
   ],
   "source": [
    "sym.Point(solution[x],solution[y],color='red')\n",
    "\n"
   ]
  },
  {
   "cell_type": "code",
   "execution_count": 53,
   "id": "a0a8f06c",
   "metadata": {},
   "outputs": [
    {
     "data": {
      "image/png": "[encoded data removed]",
      "text/latex": [
       "$\\displaystyle \\operatorname{Point2D}\\left(1, 2\\right)$"
      ],
      "text/plain": [
       "Point2D(1, 2)"
      ]
     },
     "execution_count": 53,
     "metadata": {},
     "output_type": "execute_result"
    }
   ],
   "source": [
    "sym.Point(1,2)"
   ]
  },
  {
   "cell_type": "code",
   "execution_count": 60,
   "id": "800895e3",
   "metadata": {},
   "outputs": [
    {
     "data": {
      "image/png": "[encoded data removed]",
      "text/latex": [
       "$\\displaystyle \\left( \\frac{4}{3}, \\  \\frac{8}{3}\\right)$"
      ],
      "text/plain": [
       "(4/3, 8/3)"
      ]
     },
     "execution_count": 60,
     "metadata": {},
     "output_type": "execute_result"
    }
   ],
   "source": [
    "intersection_point.args"
   ]
  },
  {
   "cell_type": "code",
   "execution_count": null,
   "id": "db202c24",
   "metadata": {},
   "outputs": [],
   "source": []
  },
  {
   "cell_type": "markdown",
   "id": "b3c8eccc",
   "metadata": {},
   "source": [
    "# the point(s) of intersections of a system of equations and their implications\n",
    "\n",
    "\n",
    "* the solution occurs at the point of intersection. \n",
    "* and the intersection never changes with new lines\n",
    "* for spanning the whole subpace we draw a couple of lines but the interesting thing to note here is that all those lines have a common point of meeting that is known as point of intersection where the solution for all the equations are found. \n",
    "* **since point of intersection never changes, it truimphs entropy(entropy is zero)**.\n",
    "\n",
    "## my conversation with Gemini(google AI bot):\n",
    "me: i don't just mean predictability of an event or a system. I meant to connect unchangeability to low or no entropy. a  completely unchangeable system may have all of its microscopic, nanoscopic, femtoscopic configurations very slowly or not-at-all changing as well so, its entropy will be low or no.\n",
    "\n",
    "Gemini: You're absolutely right! You've grasped a key concept about entropy and unchangeability. Here's a more detailed explanation:\r\n",
    "\r\n",
    "**Unchangeability and Low Entropy:**\r\n",
    "\r\n",
    "* A truly unchangeable system, where both its macroscopic and microscopic configurations are fixed and never evolve, would indeed have very low or even zero entropy.\r\n",
    "* Entropy is a measure of disorder, and in such a system, there would be no randomness or uncertainty. Every particle would be in a perfectly defined state, and there would be no possibility of rearrangement.\r\n",
    "\r\n",
    "**Challenges of a Perfectly Unchangeable System:**\r\n",
    "\r\n",
    "However, there are some theoretical and practical challenges to consider:\r\n",
    "\r\n",
    "* **Theoretical Challenges:** Our current understanding of physics, particularly quantum mechanics, suggests that there's always some inherent uncertainty at the microscopic level. This principle, known as the Heisenberg uncertainty principle, limits how precisely we can know both the position and momentum of a particle simultaneously. This suggests that even in a seemingly unchangeable system, there might be some underlying fluctuations.\r\n",
    "* **Practical Challenges:** In the real world, truly isolated and unchangeable systems are difficult, if not impossible, to create. Every system interacts with its environment to some degree, and these interactions can introduce changes and increase entropy.\r\n",
    "\r\n",
    "**Real-World Examples:**\r\n",
    "\r\n",
    "While perfect unchangeability might be elusive, here are some situations that approach low entropy:\r\n",
    "\r\n",
    "* **Superfluids:** In extremely cold temperatures, some materials can enter a state of superfluidity, where they exhibit near-perfect fluidity with minimal viscosity. This suggests a highly ordered system with low entropy.\r\n",
    "* **Superconductors:** Superconductors have zero electrical resistance below a critical temperature. This implies a highly ordered arrangement of electrons, leading to low entropy.\r\n",
    "\r\n",
    "**Important Caveats:**\r\n",
    "\r\n",
    "* Even in these cases, there might be some underlying microscopic fluctuations that contribute a small amount of entropy.\r\n",
    "* These systems are not entirely isolated and can eventually interact with the environment, raising their entropy.\r\n",
    "\r\n",
    "**Overall:**\r\n",
    "\r\n",
    "Your intuition about unchangeability and low entropy is correct. A truly unchangeable system would have minimal disorder and hence very low entropy. However, the existence of such systems ret.retical construct due to the\n",
    "\n",
    "## further reference and calculations about entropy:\n",
    "* refer mike cohen's notebook on entropy(mike dl math). challenges mentioned above.\r\n"
   ]
  },
  {
   "cell_type": "code",
   "execution_count": 6,
   "id": "e12a843b",
   "metadata": {},
   "outputs": [
    {
     "data": {
      "image/png": "[encoded data removed]",
      "text/plain": [
       "<Figure size 640x480 with 1 Axes>"
      ]
     },
     "metadata": {},
     "output_type": "display_data"
    }
   ],
   "source": [
    "# these are the coefficients of the equation:\n",
    "# y = x+c\n",
    "eq1o = [1.,2,1]\n",
    "eq2o = [2.,1,3]\n",
    "\n",
    "for i in range(10):\n",
    "    \n",
    "    \n",
    "    # clear the screen\n",
    "#     plt.cla() #clears all\n",
    "    \n",
    "    \n",
    "    # randomly update the equations\n",
    "    # what this means is it takes a random scaler and multiplies it with an equation and adds it with another equation\n",
    "    # and finds its different linear combination.\n",
    "    eq1 = np.add(eq2o,np.random.randn(1)*eq1o)\n",
    "    eq2 = np.add(eq1o,np.random.randn(1)*eq2o)\n",
    "    \n",
    "    # plot new lines\n",
    "    # choose for x the values (-3,3)\n",
    "    # solve for y: y/y = x/y + c/y\n",
    "    y = ( [eq1[1]*-3,eq1[1]*3] + eq1[2])/eq1[0] \n",
    "    \n",
    "    plt.plot((-3,3),y)\n",
    "    \n",
    "    \n",
    "    y = ([eq2[1]*-3,eq2[1]*3] +eq2[2])/eq2[0]\n",
    "    \n",
    "    plt.plot((-3,3),y)\n",
    "\n",
    "    \n",
    "    # setting the axis\n",
    "    plt.axis([-3,3,-3,6])\n",
    "    \n",
    "    \n",
    "    \n",
    "    # pause to allow inspection(time lag)\n",
    "    clear_output(wait=True)\n",
    "    display(plt.gcf())\n",
    "    time.sleep(0.1)\n",
    "    \n",
    "    \n",
    "    \n",
    " # clears the output at the end to avoid duplication of plots twice    \n",
    "clear_output()"
   ]
  },
  {
   "cell_type": "markdown",
   "id": "e40ad37a",
   "metadata": {},
   "source": [
    "# experiment,analysis and freethrows"
   ]
  },
  {
   "cell_type": "code",
   "execution_count": 18,
   "id": "9ef0b63b",
   "metadata": {},
   "outputs": [
    {
     "data": {
      "text/plain": [
       "9"
      ]
     },
     "execution_count": 18,
     "metadata": {},
     "output_type": "execute_result"
    }
   ],
   "source": [
    "np.add(4,5)"
   ]
  },
  {
   "cell_type": "code",
   "execution_count": 7,
   "id": "c68f1b69",
   "metadata": {},
   "outputs": [
    {
     "data": {
      "text/plain": [
       "array([0.7246505, 1.449301 , 0.7246505])"
      ]
     },
     "execution_count": 7,
     "metadata": {},
     "output_type": "execute_result"
    }
   ],
   "source": [
    "eq1o = [1.,2,1]\n",
    "\n",
    "eq1o*np.random.rand(1)"
   ]
  },
  {
   "cell_type": "code",
   "execution_count": 6,
   "id": "8214a9b1",
   "metadata": {},
   "outputs": [
    {
     "data": {
      "text/plain": [
       "array([ -3.01253192,  -8.03132979, -11.04386171])"
      ]
     },
     "execution_count": 6,
     "metadata": {},
     "output_type": "execute_result"
    }
   ],
   "source": [
    "eq1o = [1.,2,3]\n",
    "eq2o = [2.,5,7]\n",
    "\n",
    "eq2 = np.add(eq1o,np.random.randn(1)*eq2o)\n",
    "\n",
    "eq2"
   ]
  },
  {
   "cell_type": "code",
   "execution_count": 10,
   "id": "53f72ce7",
   "metadata": {},
   "outputs": [
    {
     "data": {
      "image/png": "[encoded data removed]",
      "text/latex": [
       "$\\displaystyle \\left[ 24.0939893713504, \\  -24.0939893713504\\right]$"
      ],
      "text/plain": [
       "[24.093989371350357, -24.093989371350357]"
      ]
     },
     "execution_count": 10,
     "metadata": {},
     "output_type": "execute_result"
    }
   ],
   "source": [
    "[eq2[1]*-3,eq2[1]*3] "
   ]
  },
  {
   "cell_type": "code",
   "execution_count": 11,
   "id": "80b5b40d",
   "metadata": {},
   "outputs": [
    {
     "data": {
      "text/plain": [
       "array([ 13.05012766, -27.10652129])"
      ]
     },
     "execution_count": 11,
     "metadata": {},
     "output_type": "execute_result"
    }
   ],
   "source": [
    "[eq2[1]*-3,eq2[1]*2] + eq2[2]"
   ]
  },
  {
   "cell_type": "code",
   "execution_count": 12,
   "id": "d3872ef2",
   "metadata": {},
   "outputs": [
    {
     "data": {
      "text/plain": [
       "array([-4.33194669,  8.99792004])"
      ]
     },
     "execution_count": 12,
     "metadata": {},
     "output_type": "execute_result"
    }
   ],
   "source": [
    "([eq2[1]*-3,eq2[1]*2] + eq2[2])/eq2[0]"
   ]
  },
  {
   "cell_type": "code",
   "execution_count": 5,
   "id": "969b64aa",
   "metadata": {},
   "outputs": [
    {
     "ename": "TypeError",
     "evalue": "can only concatenate list (not \"int\") to list",
     "output_type": "error",
     "traceback": [
      "\u001b[1;31m---------------------------------------------------------------------------\u001b[0m",
      "\u001b[1;31mTypeError\u001b[0m                                 Traceback (most recent call last)",
      "Input \u001b[1;32mIn [5]\u001b[0m, in \u001b[0;36m<cell line: 4>\u001b[1;34m()\u001b[0m\n\u001b[0;32m      1\u001b[0m eq1 \u001b[38;5;241m=\u001b[39m [\u001b[38;5;241m1\u001b[39m,\u001b[38;5;241m2\u001b[39m,\u001b[38;5;241m3\u001b[39m]\n\u001b[0;32m      3\u001b[0m \u001b[38;5;66;03m# as in [[-6,6]+3]/1\u001b[39;00m\n\u001b[1;32m----> 4\u001b[0m (\u001b[43m[\u001b[49m\u001b[43meq1\u001b[49m\u001b[43m[\u001b[49m\u001b[38;5;241;43m1\u001b[39;49m\u001b[43m]\u001b[49m\u001b[38;5;241;43m*\u001b[39;49m\u001b[38;5;241;43m-\u001b[39;49m\u001b[38;5;241;43m3\u001b[39;49m\u001b[43m,\u001b[49m\u001b[43meq1\u001b[49m\u001b[43m[\u001b[49m\u001b[38;5;241;43m1\u001b[39;49m\u001b[43m]\u001b[49m\u001b[38;5;241;43m*\u001b[39;49m\u001b[38;5;241;43m3\u001b[39;49m\u001b[43m]\u001b[49m\u001b[38;5;241;43m+\u001b[39;49m\u001b[43meq1\u001b[49m\u001b[43m[\u001b[49m\u001b[38;5;241;43m2\u001b[39;49m\u001b[43m]\u001b[49m)\u001b[38;5;241m/\u001b[39meq1[\u001b[38;5;241m0\u001b[39m]\n",
      "\u001b[1;31mTypeError\u001b[0m: can only concatenate list (not \"int\") to list"
     ]
    }
   ],
   "source": [
    "# list vs array\n",
    "\n",
    "eq1 = [1,2,3]\n",
    "\n",
    "# as in [[-6,6]+3]/1\n",
    "([eq1[1]*-3,eq1[1]*3]+eq1[2])/eq1[0]"
   ]
  },
  {
   "cell_type": "code",
   "execution_count": 15,
   "id": "0421f32b",
   "metadata": {},
   "outputs": [
    {
     "data": {
      "text/plain": [
       "array([-3.,  9.])"
      ]
     },
     "execution_count": 15,
     "metadata": {},
     "output_type": "execute_result"
    }
   ],
   "source": [
    "eq1 = np.array([1,2,3])\n",
    "\n",
    "# as in [[-6,6]+3]/1\n",
    "([eq1[1]*-3,eq1[1]*3]+eq1[2])/eq1[0]"
   ]
  },
  {
   "cell_type": "markdown",
   "id": "50713c4c",
   "metadata": {},
   "source": [
    "# conclusion:\n",
    "\n",
    "* iterative calculations are possible with arrays which are not possible with lists"
   ]
  },
  {
   "cell_type": "code",
   "execution_count": null,
   "id": "77386f4e",
   "metadata": {},
   "outputs": [],
   "source": []
  },
  {
   "cell_type": "markdown",
   "id": "dadef06e",
   "metadata": {},
   "source": [
    "# converting system of equations to matrix equations\n",
    "\n",
    "system of equations:\n",
    "\n",
    "x + y + z = 6\n",
    "\n",
    "\n",
    "2x - y + 3z = 10\n",
    "\n",
    "\n",
    "\n",
    "3x + 2y -z = 5\n",
    "\n",
    "\n",
    "# converting them into a matrix:\n",
    "\n",
    "|Coefficient as Matrix | variables | constants|\n",
    "|----------------------|-----------|----------|\n",
    "|     [1,1,1]          | x         | 6        |\n",
    "|     [2,-1,3]         | y         | 10       |\n",
    "|     [3,2,-1]         | z         | 5        |"
   ]
  },
  {
   "cell_type": "code",
   "execution_count": null,
   "id": "4a99217c",
   "metadata": {},
   "outputs": [],
   "source": []
  },
  {
   "cell_type": "markdown",
   "id": "b2f10b8c",
   "metadata": {},
   "source": [
    "# day 148 "
   ]
  },
  {
   "cell_type": "code",
   "execution_count": 1,
   "id": "b860724e",
   "metadata": {},
   "outputs": [],
   "source": [
    "import numpy as np\n",
    "import sympy as sym\n",
    "from IPython.display import display,Math\n",
    "sym.init_printing()\n",
    "import matplotlib.pyplot as plt"
   ]
  },
  {
   "cell_type": "markdown",
   "id": "3ae5603f",
   "metadata": {},
   "source": [
    "# Guassian  Elimination to solve a system of equations:\n",
    "\n",
    "# steps:\n",
    "\n",
    "1. convert a system of equations into their matrix form.\n",
    "\n",
    "2. join matrix of coefficients with their constants\n",
    "\n",
    "3. convert the joint matrix into a upper triangular format(upper echelon). you can do this by linearly (scaling and shifting) eliminating numbers on each row such that the joint matrix resembles a upper echelon finally.\n",
    "\n",
    "4. solve for x and y.\n",
    "\n",
    "# upper triangular or upper echelon or reduced row echelon form:\n",
    "\n",
    "$$ \\begin{bmatrix}\n",
    "1 & x & x & x \\\\\n",
    "0 & 1 & x & x \\\\\n",
    "0 & 0 & 1 & x \\\\\n",
    "0 & 0 & 0 & 1 \\end{bmatrix} $$\n",
    "\n",
    "\n",
    "* **Note**: Guassian Elimination is also known as reduced row echelon form.\n",
    "\n",
    "* **Remember**: reduced row echelon form is the way to get null space of any matrix(or system of equations)."
   ]
  },
  {
   "cell_type": "code",
   "execution_count": 35,
   "id": "e4b7095c",
   "metadata": {},
   "outputs": [
    {
     "data": {
      "text/latex": [
       "$\\displaystyle \\left( \\left[\\begin{matrix}1 & 0 & \\frac{14}{17}\\\\0 & 1 & \\frac{19}{17}\\end{matrix}\\right], \\  \\left( 0, \\  1\\right)\\right)$"
      ],
      "text/plain": [
       "⎛⎡      14⎤        ⎞\n",
       "⎜⎢1  0  ──⎥        ⎟\n",
       "⎜⎢      17⎥        ⎟\n",
       "⎜⎢        ⎥, (0, 1)⎟\n",
       "⎜⎢      19⎥        ⎟\n",
       "⎜⎢0  1  ──⎥        ⎟\n",
       "⎝⎣      17⎦        ⎠"
      ]
     },
     "execution_count": 35,
     "metadata": {},
     "output_type": "execute_result"
    }
   ],
   "source": [
    "# exercise 1: guassian elimination\n",
    "\n",
    "numpy_matrix = np.array([[2,3,5],[-1,7,7]])\n",
    "\n",
    "sympy_matrix = sym.Matrix(numpy_matrix)\n",
    "\n",
    "rref = sym.Matrix.rref(sympy_matrix)\n",
    "\n",
    "rref"
   ]
  },
  {
   "cell_type": "code",
   "execution_count": null,
   "id": "e5fca604",
   "metadata": {},
   "outputs": [],
   "source": []
  },
  {
   "cell_type": "markdown",
   "id": "a95500bc",
   "metadata": {},
   "source": [
    "# day 151 and day 153"
   ]
  },
  {
   "cell_type": "code",
   "execution_count": 1,
   "id": "bfcb3117",
   "metadata": {},
   "outputs": [],
   "source": [
    "import numpy as np\n",
    "import sympy as sym\n",
    "from IPython.display import display,Math\n",
    "sym.init_printing()\n",
    "import matplotlib.pyplot as plt"
   ]
  },
  {
   "cell_type": "markdown",
   "id": "b8cefe5d",
   "metadata": {},
   "source": [
    "# Echelon Form and Pivots\n",
    "\n",
    "\n",
    "* **pivots are the diagonal elements in the echelon form of matrix. to be more specific, choose the first number from left from each row of the echelon form of the matrix, to the left and down of that number will you see zeros.** \n",
    "* we get the echelon form of the matrix by guassian elimination (reduced row echelon form). \n",
    "* **important thing to remember is there shouldn't be any other non-zero element in column where there is that alleged pivot.**\n",
    "* Rank of the matrix is = number of pivots.\n",
    "\n"
   ]
  },
  {
   "cell_type": "code",
   "execution_count": 4,
   "id": "e6742540",
   "metadata": {},
   "outputs": [
    {
     "data": {
      "text/plain": [
       "2"
      ]
     },
     "execution_count": 4,
     "metadata": {},
     "output_type": "execute_result"
    }
   ],
   "source": [
    "matrix = np.array([[1,2,2],\n",
    "                  [-1,3,0],\n",
    "                  [2,4,4]])\n",
    "\n",
    "np.linalg.matrix_rank(matrix)"
   ]
  },
  {
   "cell_type": "markdown",
   "id": "d8197255",
   "metadata": {},
   "source": [
    "# Reduced row echelon form"
   ]
  },
  {
   "cell_type": "code",
   "execution_count": 26,
   "id": "d46f2eba",
   "metadata": {},
   "outputs": [
    {
     "data": {
      "text/plain": [
       "array([[1, 2, 4, 5],\n",
       "       [2, 4, 5, 4],\n",
       "       [4, 5, 4, 2]])"
      ]
     },
     "metadata": {},
     "output_type": "display_data"
    },
    {
     "data": {
      "text/latex": [
       "$\\displaystyle \\left( \\left[\\begin{matrix}1 & 0 & 0 & 1\\\\0 & 1 & 0 & -2\\\\0 & 0 & 1 & 2\\end{matrix}\\right], \\  \\left( 0, \\  1, \\  2\\right)\\right)$"
      ],
      "text/plain": [
       "⎛⎡1  0  0  1 ⎤           ⎞\n",
       "⎜⎢           ⎥           ⎟\n",
       "⎜⎢0  1  0  -2⎥, (0, 1, 2)⎟\n",
       "⎜⎢           ⎥           ⎟\n",
       "⎝⎣0  0  1  2 ⎦           ⎠"
      ]
     },
     "metadata": {},
     "output_type": "display_data"
    },
    {
     "data": {
      "text/latex": [
       "$\\displaystyle  \\text{rank is } = 3$"
      ],
      "text/plain": [
       "<IPython.core.display.Math object>"
      ]
     },
     "metadata": {},
     "output_type": "display_data"
    }
   ],
   "source": [
    "# sympy rref\n",
    "\n",
    "matrix = np.array([[1,2,4,5],\n",
    "                  [2,4,5,4],\n",
    "                  [4,5,4,2]])\n",
    "\n",
    "\n",
    "# sympy reducef row echelon form\n",
    "sympy_matrix = sym.Matrix(matrix)\n",
    "sympy_rref = sym.Matrix.rref(sympy_matrix)\n",
    "\n",
    "# rank of the matrix\n",
    "rank = np.linalg.matrix_rank(matrix)\n",
    "\n",
    "display(matrix)\n",
    "\n",
    "display(sympy_rref)\n",
    "\n",
    "display(Math(' \\\\text{rank is } = %s'%(rank)))"
   ]
  },
  {
   "cell_type": "markdown",
   "id": "329746be",
   "metadata": {},
   "source": [
    "# goals\n",
    "\n",
    "1. create a square matrix and look at its reduced row echelon form.\n",
    "2. create a tall rectangular matrix and look at its reduced row echelon form.\n",
    "3. create a wide rectangular matrix and look at its reduced row echelon form.\n",
    "4. create a matrix with row linear dependencies and look at its reduced row echelon form.\n",
    "5. create a matrix with column linear dependencies and look at its reduced row echelon form. "
   ]
  },
  {
   "cell_type": "code",
   "execution_count": 12,
   "id": "cd103357",
   "metadata": {},
   "outputs": [
    {
     "data": {
      "text/plain": [
       "array([[1, 6, 4],\n",
       "       [8, 8, 2],\n",
       "       [3, 4, 2]])"
      ]
     },
     "metadata": {},
     "output_type": "display_data"
    },
    {
     "data": {
      "text/latex": [
       "$\\displaystyle \\text{Rank of the matrix is: } 3$"
      ],
      "text/plain": [
       "<IPython.core.display.Math object>"
      ]
     },
     "metadata": {},
     "output_type": "display_data"
    },
    {
     "data": {
      "text/latex": [
       "$\\displaystyle \\left( \\left[\\begin{matrix}1 & 0 & 0\\\\0 & 1 & 0\\\\0 & 0 & 1\\end{matrix}\\right], \\  \\left( 0, \\  1, \\  2\\right)\\right)$"
      ],
      "text/plain": [
       "⎛⎡1  0  0⎤           ⎞\n",
       "⎜⎢       ⎥           ⎟\n",
       "⎜⎢0  1  0⎥, (0, 1, 2)⎟\n",
       "⎜⎢       ⎥           ⎟\n",
       "⎝⎣0  0  1⎦           ⎠"
      ]
     },
     "metadata": {},
     "output_type": "display_data"
    }
   ],
   "source": [
    "# exercise1: create a square matrix and look at its reduced row echelon form.\n",
    "\n",
    "# a random squre matrix\n",
    "square_matrix = np.random.randint(1,9,(3,3))\n",
    "\n",
    "# rank of the matrix\n",
    "rank = np.linalg.matrix_rank(square_matrix)\n",
    "\n",
    "# row reduced echelon form:\n",
    "sympy_matrix = sym.Matrix(square_matrix)\n",
    "\n",
    "rref = sym.Matrix.rref(sympy_matrix)\n",
    "\n",
    "# showing them off:\n",
    "display(square_matrix)\n",
    "\n",
    "display(Math('\\\\text{Rank of the matrix is: } %s'%(rank)))\n",
    "\n",
    "display(rref)"
   ]
  },
  {
   "cell_type": "code",
   "execution_count": 14,
   "id": "5640b729",
   "metadata": {},
   "outputs": [
    {
     "data": {
      "text/plain": [
       "array([[92, 25, 73],\n",
       "       [ 7, 63, 84],\n",
       "       [38, 28, 27],\n",
       "       [52, 80, 10],\n",
       "       [76, 33, 64],\n",
       "       [10, 12, 87],\n",
       "       [18, 98, 49],\n",
       "       [33, 51, 71]])"
      ]
     },
     "metadata": {},
     "output_type": "display_data"
    },
    {
     "data": {
      "text/latex": [
       "$\\displaystyle \\text{Rank of the matrix is: } 3$"
      ],
      "text/plain": [
       "<IPython.core.display.Math object>"
      ]
     },
     "metadata": {},
     "output_type": "display_data"
    },
    {
     "data": {
      "text/latex": [
       "$\\displaystyle \\left( \\left[\\begin{matrix}1 & 0 & 0\\\\0 & 1 & 0\\\\0 & 0 & 1\\\\0 & 0 & 0\\\\0 & 0 & 0\\\\0 & 0 & 0\\\\0 & 0 & 0\\\\0 & 0 & 0\\end{matrix}\\right], \\  \\left( 0, \\  1, \\  2\\right)\\right)$"
      ],
      "text/plain": [
       "⎛⎡1  0  0⎤           ⎞\n",
       "⎜⎢       ⎥           ⎟\n",
       "⎜⎢0  1  0⎥           ⎟\n",
       "⎜⎢       ⎥           ⎟\n",
       "⎜⎢0  0  1⎥           ⎟\n",
       "⎜⎢       ⎥           ⎟\n",
       "⎜⎢0  0  0⎥           ⎟\n",
       "⎜⎢       ⎥, (0, 1, 2)⎟\n",
       "⎜⎢0  0  0⎥           ⎟\n",
       "⎜⎢       ⎥           ⎟\n",
       "⎜⎢0  0  0⎥           ⎟\n",
       "⎜⎢       ⎥           ⎟\n",
       "⎜⎢0  0  0⎥           ⎟\n",
       "⎜⎢       ⎥           ⎟\n",
       "⎝⎣0  0  0⎦           ⎠"
      ]
     },
     "metadata": {},
     "output_type": "display_data"
    }
   ],
   "source": [
    "# exercise2: create a tall rectangular matrix and look at its reduced row echelon form.\n",
    "\n",
    "# a random tall rectangular matrix with size 8 rows and 3 columns\n",
    "tall_rectangular_matrix = np.random.randint(1,99,(8,3))\n",
    "\n",
    "# rank of the matrix\n",
    "rank = np.linalg.matrix_rank(tall_rectangular_matrix)\n",
    "\n",
    "# row reduced echelon form:\n",
    "sympy_matrix = sym.Matrix(tall_rectangular_matrix)\n",
    "\n",
    "rref = sym.Matrix.rref(sympy_matrix)\n",
    "\n",
    "# showing them off:\n",
    "display(tall_rectangular_matrix)\n",
    "\n",
    "display(Math('\\\\text{Rank of the matrix is: } %s'%(rank)))\n",
    "\n",
    "display(rref)"
   ]
  },
  {
   "cell_type": "markdown",
   "id": "342abb19",
   "metadata": {},
   "source": [
    "# conclusion: \n",
    "\n",
    "* if the matrix shape is disproportionate lets say 8rows and 3columns, 5rows and 3columns, 3rows and 9columns, in this case the rank of the matrix, assuming the matrix has all randomly generated numbers, is going to be min(row,column), which means in the case of matrix with 8 rows and 3 columns the rank of the matrix is going to be 3 that means all other rows can be created by a linear combination of just three rows in the whole matrix that means the information stored in all other rows were just redundant."
   ]
  },
  {
   "cell_type": "code",
   "execution_count": 15,
   "id": "5876f62a",
   "metadata": {},
   "outputs": [
    {
     "data": {
      "text/plain": [
       "array([[27, 53, 58,  4, 13, 45,  5],\n",
       "       [18, 33,  1, 47, 22, 17, 50],\n",
       "       [17, 65, 24, 10, 18, 91, 19],\n",
       "       [71, 30, 61, 87,  5, 37, 80]])"
      ]
     },
     "metadata": {},
     "output_type": "display_data"
    },
    {
     "data": {
      "text/latex": [
       "$\\displaystyle \\text{Rank of the matrix is: } 4$"
      ],
      "text/plain": [
       "<IPython.core.display.Math object>"
      ]
     },
     "metadata": {},
     "output_type": "display_data"
    },
    {
     "data": {
      "text/latex": [
       "$\\displaystyle \\left( \\left[\\begin{matrix}1 & 0 & 0 & 0 & - \\frac{1414033}{897140} & \\frac{2903903}{448570} & \\frac{56453}{224285}\\\\0 & 1 & 0 & 0 & \\frac{312617}{897140} & \\frac{623713}{448570} & \\frac{44263}{224285}\\\\0 & 0 & 1 & 0 & \\frac{523269}{897140} & - \\frac{740097}{224285} & - \\frac{120603}{448570}\\\\0 & 0 & 0 & 1 & \\frac{182713}{224285} & - \\frac{1356317}{448570} & \\frac{374371}{448570}\\end{matrix}\\right], \\  \\left( 0, \\  1, \\  2, \\  3\\right)\\right)$"
      ],
      "text/plain": [
       "⎛⎡            -1414033    2903903    56453  ⎤              ⎞\n",
       "⎜⎢1  0  0  0  ─────────   ───────    ────── ⎥              ⎟\n",
       "⎜⎢              897140     448570    224285 ⎥              ⎟\n",
       "⎜⎢                                          ⎥              ⎟\n",
       "⎜⎢             312617     623713     44263  ⎥              ⎟\n",
       "⎜⎢0  1  0  0   ──────     ──────     ────── ⎥              ⎟\n",
       "⎜⎢             897140     448570     224285 ⎥              ⎟\n",
       "⎜⎢                                          ⎥, (0, 1, 2, 3)⎟\n",
       "⎜⎢             523269    -740097    -120603 ⎥              ⎟\n",
       "⎜⎢0  0  1  0   ──────    ────────   ────────⎥              ⎟\n",
       "⎜⎢             897140     224285     448570 ⎥              ⎟\n",
       "⎜⎢                                          ⎥              ⎟\n",
       "⎜⎢             182713    -1356317    374371 ⎥              ⎟\n",
       "⎜⎢0  0  0  1   ──────    ─────────   ────── ⎥              ⎟\n",
       "⎝⎣             224285      448570    448570 ⎦              ⎠"
      ]
     },
     "metadata": {},
     "output_type": "display_data"
    }
   ],
   "source": [
    "# exercise3: create a wide rectangular matrix and look at its reduced row echelon form.\n",
    "\n",
    "# a random wide rectangular matrix with size 4 rows and 7 columns\n",
    "wide_rectangular_matrix = np.random.randint(1,99,(4,7))\n",
    "\n",
    "# rank of the matrix\n",
    "rank = np.linalg.matrix_rank(wide_rectangular_matrix)\n",
    "\n",
    "# row reduced echelon form:\n",
    "sympy_matrix = sym.Matrix(wide_rectangular_matrix)\n",
    "\n",
    "rref = sym.Matrix.rref(sympy_matrix)\n",
    "\n",
    "# showing them off:\n",
    "display(wide_rectangular_matrix)\n",
    "\n",
    "display(Math('\\\\text{Rank of the matrix is: } %s'%(rank)))\n",
    "\n",
    "display(rref)"
   ]
  },
  {
   "cell_type": "code",
   "execution_count": 43,
   "id": "1991928c",
   "metadata": {},
   "outputs": [
    {
     "data": {
      "text/plain": [
       "array([[6, 3, 6, 8, 8],\n",
       "       [6, 3, 6, 8, 8],\n",
       "       [2, 2, 3, 2, 3],\n",
       "       [2, 4, 6, 8, 4],\n",
       "       [1, 8, 7, 3, 7]])"
      ]
     },
     "metadata": {},
     "output_type": "display_data"
    },
    {
     "data": {
      "text/latex": [
       "$\\displaystyle \\text{Rank is: } 4$"
      ],
      "text/plain": [
       "<IPython.core.display.Math object>"
      ]
     },
     "metadata": {},
     "output_type": "display_data"
    },
    {
     "data": {
      "text/latex": [
       "$\\displaystyle \\left( \\left[\\begin{matrix}1 & 0 & 0 & 0 & \\frac{75}{53}\\\\0 & 1 & 0 & 0 & \\frac{88}{53}\\\\0 & 0 & 1 & 0 & - \\frac{63}{53}\\\\0 & 0 & 0 & 1 & \\frac{11}{53}\\\\0 & 0 & 0 & 0 & 0\\end{matrix}\\right], \\  \\left( 0, \\  1, \\  2, \\  3\\right)\\right)$"
      ],
      "text/plain": [
       "⎛⎡             75 ⎤              ⎞\n",
       "⎜⎢1  0  0  0   ── ⎥              ⎟\n",
       "⎜⎢             53 ⎥              ⎟\n",
       "⎜⎢                ⎥              ⎟\n",
       "⎜⎢             88 ⎥              ⎟\n",
       "⎜⎢0  1  0  0   ── ⎥              ⎟\n",
       "⎜⎢             53 ⎥              ⎟\n",
       "⎜⎢                ⎥              ⎟\n",
       "⎜⎢            -63 ⎥, (0, 1, 2, 3)⎟\n",
       "⎜⎢0  0  1  0  ────⎥              ⎟\n",
       "⎜⎢             53 ⎥              ⎟\n",
       "⎜⎢                ⎥              ⎟\n",
       "⎜⎢             11 ⎥              ⎟\n",
       "⎜⎢0  0  0  1   ── ⎥              ⎟\n",
       "⎜⎢             53 ⎥              ⎟\n",
       "⎜⎢                ⎥              ⎟\n",
       "⎝⎣0  0  0  0   0  ⎦              ⎠"
      ]
     },
     "metadata": {},
     "output_type": "display_data"
    }
   ],
   "source": [
    "# exercise4: create a matrix with row linear dependancies and look at its reduced row echelon form.\n",
    "\n",
    "a = np.random.randint(1,9,(5,5))\n",
    "\n",
    "\n",
    "# making the first and second row have the same elements\n",
    "a[0:1,] = a[1:2,]\n",
    "\n",
    "# showing it off:\n",
    "display(a)\n",
    "display(Math('\\\\text{Rank is: } %s'%(np.linalg.matrix_rank(a))))\n",
    "\n",
    "sympy_matrix = sym.Matrix(a)\n",
    "\n",
    "rref = sym.Matrix.rref(sympy_matrix)\n",
    "\n",
    "display(rref)"
   ]
  },
  {
   "cell_type": "code",
   "execution_count": 44,
   "id": "3b9065e6",
   "metadata": {},
   "outputs": [
    {
     "data": {
      "text/plain": [
       "array([[4, 4, 5, 5, 4],\n",
       "       [5, 5, 5, 4, 3],\n",
       "       [5, 5, 2, 7, 6],\n",
       "       [4, 4, 2, 7, 7],\n",
       "       [1, 1, 7, 2, 8]])"
      ]
     },
     "metadata": {},
     "output_type": "display_data"
    },
    {
     "data": {
      "text/latex": [
       "$\\displaystyle \\text{Rank is: } 4$"
      ],
      "text/plain": [
       "<IPython.core.display.Math object>"
      ]
     },
     "metadata": {},
     "output_type": "display_data"
    },
    {
     "data": {
      "text/latex": [
       "$\\displaystyle \\left( \\left[\\begin{matrix}1 & 1 & 0 & 0 & 0\\\\0 & 0 & 1 & 0 & 0\\\\0 & 0 & 0 & 1 & 0\\\\0 & 0 & 0 & 0 & 1\\\\0 & 0 & 0 & 0 & 0\\end{matrix}\\right], \\  \\left( 0, \\  2, \\  3, \\  4\\right)\\right)$"
      ],
      "text/plain": [
       "⎛⎡1  1  0  0  0⎤              ⎞\n",
       "⎜⎢             ⎥              ⎟\n",
       "⎜⎢0  0  1  0  0⎥              ⎟\n",
       "⎜⎢             ⎥              ⎟\n",
       "⎜⎢0  0  0  1  0⎥, (0, 2, 3, 4)⎟\n",
       "⎜⎢             ⎥              ⎟\n",
       "⎜⎢0  0  0  0  1⎥              ⎟\n",
       "⎜⎢             ⎥              ⎟\n",
       "⎝⎣0  0  0  0  0⎦              ⎠"
      ]
     },
     "metadata": {},
     "output_type": "display_data"
    }
   ],
   "source": [
    "# exercise5: create a matrix with column linear dependancies and look at its reduced row echelon form.\n",
    "\n",
    "\n",
    "a = np.random.randint(1,9,(5,5))\n",
    "\n",
    "\n",
    "# making the first column and second column have same elements\n",
    "a[:,1] = a[:,0]\n",
    "\n",
    "# showing it off:\n",
    "display(a)\n",
    "display(Math('\\\\text{Rank is: } %s'%(np.linalg.matrix_rank(a))))\n",
    "\n",
    "sympy_matrix = sym.Matrix(a)\n",
    "\n",
    "rref = sym.Matrix.rref(sympy_matrix)\n",
    "\n",
    "display(rref)"
   ]
  },
  {
   "cell_type": "code",
   "execution_count": 45,
   "id": "44e2e5e4",
   "metadata": {},
   "outputs": [
    {
     "data": {
      "text/plain": [
       "array([[ 56,  58, 112],\n",
       "       [ 52,  66, 104],\n",
       "       [ 60,  70, 120],\n",
       "       [ 56,  63, 112]])"
      ]
     },
     "metadata": {},
     "output_type": "display_data"
    },
    {
     "data": {
      "text/latex": [
       "$\\displaystyle \\text{Rank is: } 2$"
      ],
      "text/plain": [
       "<IPython.core.display.Math object>"
      ]
     },
     "metadata": {},
     "output_type": "display_data"
    },
    {
     "data": {
      "text/latex": [
       "$\\displaystyle \\left( \\left[\\begin{matrix}1 & 0 & 2\\\\0 & 1 & 0\\\\0 & 0 & 0\\\\0 & 0 & 0\\end{matrix}\\right], \\  \\left( 0, \\  1\\right)\\right)$"
      ],
      "text/plain": [
       "⎛⎡1  0  2⎤        ⎞\n",
       "⎜⎢       ⎥        ⎟\n",
       "⎜⎢0  1  0⎥        ⎟\n",
       "⎜⎢       ⎥, (0, 1)⎟\n",
       "⎜⎢0  0  0⎥        ⎟\n",
       "⎜⎢       ⎥        ⎟\n",
       "⎝⎣0  0  0⎦        ⎠"
      ]
     },
     "metadata": {},
     "output_type": "display_data"
    }
   ],
   "source": [
    "# exercise5: create a matrix with linear dependancies and look at its reduced row echelon form.\n",
    "\n",
    "# this is a formula for getting a matrix with desired rank. the constraint is rank <= min(row,col)\n",
    "row = 4\n",
    "rank = 2\n",
    "col = 3\n",
    "a = np.random.randint(1,9,(row,rank))\n",
    "b = np.random.randint(1,9,(rank,col))\n",
    "\n",
    "reduced_rank_matrix = np.dot(a,b)\n",
    "\n",
    "display(reduced_rank_matrix)\n",
    "display(Math('\\\\text{Rank is: } %s'%(np.linalg.matrix_rank(reduced_rank_matrix))))\n",
    "\n",
    "sympy_matrix = sym.Matrix(reduced_rank_matrix)\n",
    "\n",
    "rref = sym.Matrix.rref(sympy_matrix)\n",
    "\n",
    "display(rref)"
   ]
  },
  {
   "cell_type": "code",
   "execution_count": null,
   "id": "defce521",
   "metadata": {},
   "outputs": [],
   "source": []
  },
  {
   "cell_type": "markdown",
   "id": "9a471149",
   "metadata": {},
   "source": [
    "# day 155"
   ]
  },
  {
   "cell_type": "markdown",
   "id": "72b95a06",
   "metadata": {},
   "source": [
    "# matrix spaces after row reduction"
   ]
  },
  {
   "cell_type": "code",
   "execution_count": 1,
   "id": "8ac0407a",
   "metadata": {},
   "outputs": [],
   "source": [
    "import numpy as np\n",
    "import sympy as sym\n",
    "from IPython.display import display,Math\n",
    "sym.init_printing()\n",
    "import matplotlib.pyplot as plt"
   ]
  },
  {
   "cell_type": "markdown",
   "id": "cfef983b",
   "metadata": {},
   "source": [
    "![fsf](images/300524_lin.png)\n",
    "![sfsf](images/300524_lin1.png)\n",
    "\n",
    "\n",
    "* the basis of the row space in row reduced echelon form may have changed but the total subspace they span are unchanged."
   ]
  },
  {
   "cell_type": "code",
   "execution_count": null,
   "id": "693872db",
   "metadata": {},
   "outputs": [],
   "source": []
  }
 ],
 "metadata": {
  "kernelspec": {
   "display_name": "Python 3 (ipykernel)",
   "language": "python",
   "name": "python3"
  },
  "language_info": {
   "codemirror_mode": {
    "name": "ipython",
    "version": 3
   },
   "file_extension": ".py",
   "mimetype": "text/x-python",
   "name": "python",
   "nbconvert_exporter": "python",
   "pygments_lexer": "ipython3",
   "version": "3.12.4"
  }
 },
 "nbformat": 4,
 "nbformat_minor": 5
}
