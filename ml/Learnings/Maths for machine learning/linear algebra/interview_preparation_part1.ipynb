version https://git-lfs.github.com/spec/v1
oid sha256:d096f5b63f57fa895750ba7108430c1c4e39a1ee97692b682aaaa51395be7d34
size 26663
