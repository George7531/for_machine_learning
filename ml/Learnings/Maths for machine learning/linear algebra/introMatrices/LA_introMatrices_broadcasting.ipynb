version https://git-lfs.github.com/spec/v1
oid sha256:7a20ada8c82989070d9cba4ac0565a55a6f8d8879d6625e664101e7105ee1dac
size 1742
