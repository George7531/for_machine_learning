version https://git-lfs.github.com/spec/v1
oid sha256:307a94f4ca54c2ae9549d7319a8b87f18d35f41c729780221afa6b19300ca677
size 2684
