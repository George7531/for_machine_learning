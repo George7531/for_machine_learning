{
 "cells": [
  {
   "cell_type": "markdown",
   "id": "733bf07e",
   "metadata": {},
   "source": [
    "# day 197,day 198,day 220,day 224"
   ]
  },
  {
   "cell_type": "code",
   "execution_count": 2,
   "id": "c19981a6",
   "metadata": {},
   "outputs": [],
   "source": [
    "import numpy as np\n",
    "import sympy as sym\n",
    "from IPython.display import display,Math\n",
    "sym.init_printing()\n",
    "import matplotlib.pyplot as plt\n",
    "from mpl_toolkits.mplot3d import Axes3D"
   ]
  },
  {
   "cell_type": "markdown",
   "id": "8ab770f8",
   "metadata": {},
   "source": [
    "# projections in R^2(a vector projection)"
   ]
  },
  {
   "cell_type": "markdown",
   "id": "ae140206",
   "metadata": {},
   "source": [
    "# how to project a 'point' onto a 'line'? (we are casting points onto the line)\n",
    "\n",
    "# mechanism:\n",
    "$$ a^{T} \\left(b-a \\beta \\right) = 0 \\rightarrow \\text{sidenote: 0 because it is perpendicular (dot product of a vector and its orthogonal version is = 0) }$$\n",
    "$$ \\downarrow $$\n",
    "$$ a^{T}b  - a^{T} a \\beta  = 0 $$\n",
    "$$ \\downarrow $$\n",
    "$$ a^{T} a \\beta =  a^{T}b $$\n",
    "$$ \\downarrow $$\n",
    "$$ \\beta = \\frac{a^T b}{a^T a} $$\n",
    "$$ \\downarrow $$\n",
    "$$ \\beta = \\frac{\\text{mapping} }{\\text{magnitude} } $$\n",
    "\n",
    "* a is the `basis vector`.\n",
    "* b is the point in space.\n",
    "* beta is the scaler or locater of b in space which slides across a to locate b to connect to.\n",
    "* beta is the scaler of a that can increase or decrease the magnitude of a.\n",
    "* = 0 is because the point and the line are orthogonal.\n",
    "* beta moves across the line a to make orthogonal connection with the point b in space, so beta is not only a scaler but a connector,resource locater, a dynammic pipe that can slide across the space(a in our case).\n",
    "* the connecting line is called line of `projection`.\n",
    "* **beta only connects to b when it is orthogonal (90 degree) from a. this is the constraint.**"
   ]
  },
  {
   "cell_type": "code",
   "execution_count": 9,
   "id": "d7a41120",
   "metadata": {},
   "outputs": [
    {
     "data": {
      "image/png": "[encoded data removed]",
      "text/plain": [
       "<Figure size 900x600 with 1 Axes>"
      ]
     },
     "metadata": {
      "needs_background": "light"
     },
     "output_type": "display_data"
    }
   ],
   "source": [
    "# visual graphic of the above said concept: \n",
    "'''we are trying project the point b onto a. But first we need to find the orthogonal line that connects a with b through\n",
    "beta(the scaler of a)'''\n",
    "\n",
    "# the point b\n",
    "b = np.array([2,1])\n",
    "\n",
    "# the line a:(the basis vector)\n",
    "a = np.array([4,2])\n",
    "\n",
    "# beta(the scaler of a)\n",
    "beta = (a.T @ b) / (a.T @ a)\n",
    "\n",
    "point_of_connection = a*beta\n",
    "\n",
    "connecting_line = [b[0],a[0]*beta],[b[1],a[1]*beta]\n",
    "\n",
    "\n",
    "# plotting\n",
    "plt.figure(dpi=150)\n",
    "\n",
    "# plotting the point\n",
    "plt.plot(b[0],b[1],'mo',label='b')\n",
    "\n",
    "# plotting the line\n",
    "plt.plot([0,a[0]],[0,a[1]],color='#34aeeb',label='$ a \\\\beta $')\n",
    "\n",
    "# plotting the point_of_connection\n",
    "plt.plot(point_of_connection[0],point_of_connection[1],'yo',label='$  \\\\beta $')\n",
    "\n",
    "# drawing the line from point_of_connection to b which is the connecting line(0.8,4),(2.24,1)\n",
    "plt.plot([b[0],a[0]*beta],[b[1],a[1]*beta],'k--',label='$ b- a \\\\beta $')\n",
    "\n",
    "\n",
    "# decoration to improve aesthetics of the plot\n",
    "plt.xlim(-5,5)\n",
    "plt.ylim(-5,5)\n",
    "\n",
    "# origin lines\n",
    "axes = plt.gca()\n",
    "plt.plot(axes.get_xlim(),[0,0],'k--',linewidth=2)\n",
    "plt.plot([0,0],axes.get_ylim(),'k--',linewidth=2)\n",
    "\n",
    "\n",
    "plt.legend(loc=(1.1,0.5))\n",
    "plt.show()"
   ]
  },
  {
   "cell_type": "markdown",
   "id": "06f6001f",
   "metadata": {},
   "source": [
    "# exploration,analysis and freethrows"
   ]
  },
  {
   "cell_type": "code",
   "execution_count": 10,
   "id": "36851f4e",
   "metadata": {},
   "outputs": [
    {
     "data": {
      "image/png": "[encoded data removed]",
      "text/latex": [
       "$\\displaystyle 0.5$"
      ],
      "text/plain": [
       "0.5"
      ]
     },
     "execution_count": 10,
     "metadata": {},
     "output_type": "execute_result"
    }
   ],
   "source": [
    "beta"
   ]
  },
  {
   "cell_type": "code",
   "execution_count": 75,
   "id": "3652c8af",
   "metadata": {},
   "outputs": [
    {
     "data": {
      "text/plain": [
       "([4, 0.896551724137931], [1, 2.2413793103448274])"
      ]
     },
     "execution_count": 75,
     "metadata": {},
     "output_type": "execute_result"
    }
   ],
   "source": [
    "connecting_line"
   ]
  },
  {
   "cell_type": "code",
   "execution_count": 54,
   "id": "2785455f",
   "metadata": {},
   "outputs": [
    {
     "data": {
      "text/plain": [
       "array([0.89655172, 2.24137931])"
      ]
     },
     "execution_count": 54,
     "metadata": {},
     "output_type": "execute_result"
    }
   ],
   "source": [
    "point_of_connection"
   ]
  },
  {
   "cell_type": "code",
   "execution_count": 58,
   "id": "49744d13",
   "metadata": {},
   "outputs": [
    {
     "data": {
      "text/plain": [
       "array([4, 1])"
      ]
     },
     "execution_count": 58,
     "metadata": {},
     "output_type": "execute_result"
    }
   ],
   "source": [
    "b"
   ]
  },
  {
   "cell_type": "code",
   "execution_count": 6,
   "id": "a4984e5e",
   "metadata": {},
   "outputs": [
    {
     "data": {
      "image/png": "[encoded data removed]",
      "text/latex": [
       "$\\displaystyle 0.896551724137931$"
      ],
      "text/plain": [
       "0.896551724137931"
      ]
     },
     "execution_count": 6,
     "metadata": {},
     "output_type": "execute_result"
    }
   ],
   "source": [
    "a[0]*beta"
   ]
  },
  {
   "cell_type": "code",
   "execution_count": 7,
   "id": "39038d34",
   "metadata": {},
   "outputs": [
    {
     "data": {
      "image/png": "[encoded data removed]",
      "text/latex": [
       "$\\displaystyle 2.24137931034483$"
      ],
      "text/plain": [
       "2.2413793103448274"
      ]
     },
     "execution_count": 7,
     "metadata": {},
     "output_type": "execute_result"
    }
   ],
   "source": [
    "a[1]*beta"
   ]
  },
  {
   "cell_type": "code",
   "execution_count": null,
   "id": "642fa9d9",
   "metadata": {},
   "outputs": [],
   "source": []
  },
  {
   "cell_type": "markdown",
   "id": "c72f4fcf",
   "metadata": {},
   "source": [
    "# projections in R^N(a matrix/tensor projection)\n",
    "\n",
    "# how to project a point(s) onto a matrix or a tensor of more than 3 dimensions?\n",
    "\n",
    "$$ A^{T}\\left(b-A \\beta \\right) \\rightarrow \\text{ step 1}  $$\n",
    "$$ \\downarrow $$\n",
    "$$ a^{T}b  - a^{T} a \\beta  = 0 \\rightarrow \\text{ step 2} $$\n",
    "$$ \\downarrow $$\n",
    "$$ a^{T} a \\beta =  a^{T}b  \\rightarrow \\text{ step 3}$$\n",
    "$$ \\downarrow $$\n",
    "$$ \\left(a^{T} a \\right)^{-1} a^{T} a \\beta = \\left(a^{T} a \\right)^{-1}  a^{T}b  \\rightarrow \\text{ step 4}$$\n",
    "$$ \\downarrow $$\n",
    "$$ \\text{Identity . } \\beta = \\left(a^{T} a \\right)^{-1}  a^{T}b  \\rightarrow \\text{ step 5}$$\n",
    "$$ \\downarrow $$\n",
    "$$  \\beta = \\left(a^{T} a \\right)^{-1}  a^{T}b  \\rightarrow \\text{ step 6}$$\n",
    "$$ \\downarrow $$\n",
    "$$  \\beta =  a^{-1} a^{-T}  a^{T}b  \\rightarrow \\text{ step 7}$$\n",
    "$$ \\downarrow $$\n",
    "$$  \\beta =  a^{-1}b  \\rightarrow \\text{ step 8}$$\n",
    "\n",
    "\n",
    "\n",
    "* the difference here is that A is a matrix, in the previous problem A was a vector. Beta is a vector, in the previous problem it was a scaler.\n",
    "* in step 3: a^T a is an entire matrix, in the previous problem it was just a number we divided the number from the right side to find the solution for beta, so you cannot simply simply a matrix with another matrix, so we find its inverse.\n",
    "* in step 4:  we multiplied each side with (a^T a)^-1 to find the solution for beta.\n",
    "* in step 5: the left side is equal to identity matrix only if it passes the condition that the matrix must be either be `square` or must have `full column rank` that is in the shape like (3,2) or (5,4) etc. a matrix of size (2,8) won't be valid to become a identity matrix on the left. and Identity matrix on the left is what we require to find the solution for beta.\n",
    "* in step 6: dot(identity,beta) gives the beta because beta is a vector(having answers only in the diagonal position of the matrix A), so dot(identity,beta) gives just beta.\n",
    "* in step 7: we are applying the `LIVE = EVIL` rule to those within the bracket\n",
    "* in step 8: a^{-T} and a^{T} cancel each other out.\n",
    "\n",
    "\n",
    "# interpretation:\n",
    "\n",
    "$$ a^{T} a \\beta =  a^{T}b \\rightarrow \\text{ step1} $$\n",
    "$$ \\downarrow $$\n",
    "$$ \\text{Matrix } \\beta = \\text{vector } \\rightarrow  \\text{ step2} $$\n",
    "$$ \\downarrow $$\n",
    "$$  \\beta = \\text{Matrix }^{-1} \\text{vector } \\rightarrow  \\text{ step3} $$\n",
    "\n",
    "\n",
    "\n",
    "* in step 2: we said a^T a as matrix; and  a^T b as vector\n",
    "* in step 2: the vector is in the column space of the matrix.\n",
    "* in step3:  we can find the value for beta only this way given that we are dealing with a matrix. division is not permissible with matrices only inverse, so whenever you would normally consider division with scalers do inverse with Matrix.\n",
    "* ultimately our goal is to find what weighted combination of beta and the matrix would result in vector on the right side. that is what weighted combination of beta and the matrix a would produce the vector b."
   ]
  },
  {
   "cell_type": "code",
   "execution_count": 72,
   "id": "03814c80",
   "metadata": {},
   "outputs": [
    {
     "name": "stdout",
     "output_type": "stream",
     "text": [
      "matrix\n",
      "[[4 7]\n",
      " [8 7]\n",
      " [3 7]]\n",
      "------\n",
      "vector\n",
      "[[2]\n",
      " [4]\n",
      " [2]]\n",
      "------\n",
      "this is beta1\n",
      "[[0.42857143]\n",
      " [0.07482993]]\n",
      "-----\n",
      "this is beta2\n",
      "[[0.42857143]\n",
      " [0.07482993]]\n",
      "-------\n",
      "this is matrix beta\n",
      "[[2.23809524]\n",
      " [3.95238095]\n",
      " [1.80952381]]\n"
     ]
    }
   ],
   "source": [
    "# illustration in code:\n",
    "\n",
    "# setting the sizes:(mind you! rows need to be >= cols to get full column rank matrix otherwise we may fail!! )\n",
    "rows = 3\n",
    "cols = 2\n",
    "\n",
    "# getting the b vector: # it doesn't matter whether it is a matrix or a vector or a tensor as long as the inner dimensions \n",
    "vector = np.random.randint(1,9,(rows,1))\n",
    "\n",
    "# getting the matrix:\n",
    "matrix = np.random.randint(1,9,(rows,cols))\n",
    "\n",
    "# printing the matrix and the vector\n",
    "print('matrix')\n",
    "print(matrix)\n",
    "print('------')\n",
    "print('vector')\n",
    "print(vector)\n",
    "\n",
    "\n",
    "# find for beta: beta = (A^T @ A)^-1 @ (A^T @ b):\n",
    "beta1 = np.linalg.inv(matrix.T @ matrix) @ (matrix.T @ vector)\n",
    "\n",
    "# find beta using optimal code:\n",
    "beta2 = np.linalg.solve(matrix.T@matrix, matrix.T@vector) \n",
    "\n",
    "print('------')\n",
    "print('this is beta1')\n",
    "print(beta1)\n",
    "print('-----')\n",
    "print('this is beta2')\n",
    "print(beta2)\n",
    "\n",
    "# finding the solution A@beta\n",
    "matrix_beta = matrix@beta2 # A@beta = b\n",
    "\n",
    "print('-------')\n",
    "print('this is matrix beta')\n",
    "print(matrix_beta)"
   ]
  },
  {
   "cell_type": "code",
   "execution_count": 73,
   "id": "812f67ac",
   "metadata": {},
   "outputs": [
    {
     "data": {
      "image/png": "[encoded data removed]",
      "text/plain": [
       "<Figure size 954x636 with 1 Axes>"
      ]
     },
     "metadata": {
      "needs_background": "light"
     },
     "output_type": "display_data"
    },
    {
     "data": {
      "text/plain": [
       "' the plane can infinitely expand in all four directions but the point at which it needs to stop expanding to connect \\n    with the vector b is determined by the beta(the scaler of the matrix)'"
      ]
     },
     "execution_count": 73,
     "metadata": {},
     "output_type": "execute_result"
    }
   ],
   "source": [
    "# lets see how the projection works in plot\n",
    "fig = plt.figure(dpi=159)\n",
    "ax = fig.add_subplot(111,projection='3d')\n",
    "\n",
    "# plot the vectors beta and A@beta\n",
    "\n",
    "# vector from origin\n",
    "ax.plot([0,vector[0,0]],[0,vector[1,0]],[0,vector[2,0]],'r',label='b')\n",
    "\n",
    "# matrix beta from origin\n",
    "ax.plot([0,matrix_beta[0,0]],[0,matrix_beta[1,0]],[0,matrix_beta[2,0]],'b',label='$ A \\\\beta $') # this is the connector\n",
    "\n",
    "# plot the projection line\n",
    "ax.plot([matrix_beta[0,0],vector[0,0]],\n",
    "        [matrix_beta[1,0],vector[1,0]],\n",
    "        [matrix_beta[2,0],vector[2,0]],'g',label='$ b - A \\\\beta   $')\n",
    "\n",
    "\n",
    "# draw a plane \n",
    "\n",
    "# steps to draw a plane\n",
    "'''1. find the meshgrid of xx and yy of any random points\n",
    "   2. find the cross product of the matrix you want to draw the plane for\n",
    "   3. find zz axis using (-cp[0]*xx -cp[1]*yy)* 1./cp[2]\n",
    "   4. plot_surface (xx,yy,zz)'''\n",
    "\n",
    "xx,yy = np.meshgrid(np.linspace(-5,5,100),np.linspace(-5,5,100)) # size of the plane is determined by what you put in here\n",
    "cp = np.cross(matrix[:,0],matrix[:,1])\n",
    "zz = (-cp[0]*xx -cp[1]*yy)*1./cp[2]\n",
    "ax.plot_surface(xx,yy,zz,alpha=0.4)\n",
    "\n",
    "plt.legend()\n",
    "plt.show()\n",
    "\n",
    "\"\"\"vector is not in the span of the matrix plane that's why it's protruding out\"\"\"\n",
    "''' the plane can infinitely expand in all four directions but the point at which it needs to stop expanding to connect \n",
    "    with the vector b is determined by the beta(the scaler of the matrix)'''"
   ]
  },
  {
   "cell_type": "markdown",
   "id": "f9eb7aca",
   "metadata": {},
   "source": [
    "# conclusion: we cannot perform the projection of point/vector/matrix/tensor onto a matrix if the matrix has a full-row rank not full-column rank or full-rank.\n",
    "\n",
    "* if the matrix has full row rank we may have to perform right inverse which cannot help in connnecting the matrix with the point.\n",
    "* **only left inverse is allowed.**"
   ]
  },
  {
   "cell_type": "code",
   "execution_count": null,
   "id": "293e52fe",
   "metadata": {},
   "outputs": [],
   "source": []
  },
  {
   "cell_type": "markdown",
   "id": "b9a524b7",
   "metadata": {},
   "source": [
    "# exploration,analysis and freethrows"
   ]
  },
  {
   "cell_type": "code",
   "execution_count": 44,
   "id": "cfd3df4f",
   "metadata": {},
   "outputs": [
    {
     "data": {
      "text/plain": [
       "array([[8, 2],\n",
       "       [7, 7],\n",
       "       [1, 3]])"
      ]
     },
     "execution_count": 44,
     "metadata": {},
     "output_type": "execute_result"
    }
   ],
   "source": [
    "matrix"
   ]
  },
  {
   "cell_type": "code",
   "execution_count": 43,
   "id": "de54fd75",
   "metadata": {},
   "outputs": [
    {
     "data": {
      "text/plain": [
       "array([8, 7, 1])"
      ]
     },
     "execution_count": 43,
     "metadata": {},
     "output_type": "execute_result"
    }
   ],
   "source": [
    "matrix[:,0]"
   ]
  },
  {
   "cell_type": "code",
   "execution_count": 45,
   "id": "14011bcb",
   "metadata": {},
   "outputs": [
    {
     "data": {
      "text/plain": [
       "array([2, 7, 3])"
      ]
     },
     "execution_count": 45,
     "metadata": {},
     "output_type": "execute_result"
    }
   ],
   "source": [
    "matrix[:,1]"
   ]
  },
  {
   "cell_type": "code",
   "execution_count": 46,
   "id": "e91dd97f",
   "metadata": {},
   "outputs": [
    {
     "data": {
      "text/plain": [
       "array([ 14, -22,  42])"
      ]
     },
     "execution_count": 46,
     "metadata": {},
     "output_type": "execute_result"
    }
   ],
   "source": [
    "np.cross(matrix[:,0],matrix[:,1])"
   ]
  },
  {
   "cell_type": "code",
   "execution_count": 34,
   "id": "8c9d5297",
   "metadata": {},
   "outputs": [
    {
     "data": {
      "text/plain": [
       "[array([[-2.        , -1.91836735, -1.83673469, ...,  1.83673469,\n",
       "          1.91836735,  2.        ],\n",
       "        [-2.        , -1.91836735, -1.83673469, ...,  1.83673469,\n",
       "          1.91836735,  2.        ],\n",
       "        [-2.        , -1.91836735, -1.83673469, ...,  1.83673469,\n",
       "          1.91836735,  2.        ],\n",
       "        ...,\n",
       "        [-2.        , -1.91836735, -1.83673469, ...,  1.83673469,\n",
       "          1.91836735,  2.        ],\n",
       "        [-2.        , -1.91836735, -1.83673469, ...,  1.83673469,\n",
       "          1.91836735,  2.        ],\n",
       "        [-2.        , -1.91836735, -1.83673469, ...,  1.83673469,\n",
       "          1.91836735,  2.        ]]),\n",
       " array([[-2.        , -2.        , -2.        , ..., -2.        ,\n",
       "         -2.        , -2.        ],\n",
       "        [-1.91836735, -1.91836735, -1.91836735, ..., -1.91836735,\n",
       "         -1.91836735, -1.91836735],\n",
       "        [-1.83673469, -1.83673469, -1.83673469, ..., -1.83673469,\n",
       "         -1.83673469, -1.83673469],\n",
       "        ...,\n",
       "        [ 1.83673469,  1.83673469,  1.83673469, ...,  1.83673469,\n",
       "          1.83673469,  1.83673469],\n",
       "        [ 1.91836735,  1.91836735,  1.91836735, ...,  1.91836735,\n",
       "          1.91836735,  1.91836735],\n",
       "        [ 2.        ,  2.        ,  2.        , ...,  2.        ,\n",
       "          2.        ,  2.        ]])]"
      ]
     },
     "execution_count": 34,
     "metadata": {},
     "output_type": "execute_result"
    }
   ],
   "source": [
    "np.meshgrid(np.linspace(-2,2),np.linspace(-2,2))"
   ]
  },
  {
   "cell_type": "code",
   "execution_count": 38,
   "id": "91f633ea",
   "metadata": {},
   "outputs": [
    {
     "data": {
      "image/png": "[encoded data removed]",
      "text/plain": [
       "<Figure size 432x288 with 2 Axes>"
      ]
     },
     "metadata": {
      "needs_background": "light"
     },
     "output_type": "display_data"
    }
   ],
   "source": [
    "xx,yy = np.meshgrid(np.linspace(-2,2),np.linspace(-2,2))\n",
    "\n",
    "matrix = xx*yy\n",
    "\n",
    "plt.imshow(matrix)\n",
    "plt.colorbar()\n",
    "plt.show()"
   ]
  },
  {
   "cell_type": "code",
   "execution_count": 8,
   "id": "506551b9",
   "metadata": {},
   "outputs": [
    {
     "data": {
      "text/plain": [
       "array([[2],\n",
       "       [6],\n",
       "       [6]])"
      ]
     },
     "execution_count": 8,
     "metadata": {},
     "output_type": "execute_result"
    }
   ],
   "source": [
    "b"
   ]
  },
  {
   "cell_type": "code",
   "execution_count": 9,
   "id": "76d99749",
   "metadata": {},
   "outputs": [
    {
     "data": {
      "text/plain": [
       "array([[2, 1],\n",
       "       [7, 1],\n",
       "       [2, 8]])"
      ]
     },
     "execution_count": 9,
     "metadata": {},
     "output_type": "execute_result"
    }
   ],
   "source": [
    "a"
   ]
  },
  {
   "cell_type": "code",
   "execution_count": 10,
   "id": "25fa39f7",
   "metadata": {},
   "outputs": [
    {
     "data": {
      "text/plain": [
       "array([[0.77398789],\n",
       "       [0.55530762]])"
      ]
     },
     "execution_count": 10,
     "metadata": {},
     "output_type": "execute_result"
    }
   ],
   "source": [
    "beta1"
   ]
  },
  {
   "cell_type": "code",
   "execution_count": 11,
   "id": "c6641718",
   "metadata": {},
   "outputs": [
    {
     "data": {
      "text/plain": [
       "array([[0.77398789],\n",
       "       [0.55530762]])"
      ]
     },
     "execution_count": 11,
     "metadata": {},
     "output_type": "execute_result"
    }
   ],
   "source": [
    "beta2"
   ]
  },
  {
   "cell_type": "code",
   "execution_count": null,
   "id": "c30f28ec",
   "metadata": {},
   "outputs": [],
   "source": []
  },
  {
   "cell_type": "markdown",
   "id": "93e8fec9",
   "metadata": {},
   "source": [
    "# day 228"
   ]
  },
  {
   "cell_type": "code",
   "execution_count": 1,
   "id": "1f08ff82",
   "metadata": {},
   "outputs": [],
   "source": [
    "import numpy as np\n",
    "import sympy as sym\n",
    "from IPython.display import display,Math\n",
    "sym.init_printing()\n",
    "import matplotlib.pyplot as plt"
   ]
  },
  {
   "cell_type": "code",
   "execution_count": 2,
   "id": "0f347885",
   "metadata": {},
   "outputs": [
    {
     "data": {
      "text/plain": [
       "85"
      ]
     },
     "metadata": {},
     "output_type": "display_data"
    },
    {
     "data": {
      "text/plain": [
       "85"
      ]
     },
     "metadata": {},
     "output_type": "display_data"
    }
   ],
   "source": [
    "# verify whether v.T . w = w.T . v\n",
    "\n",
    "v = np.array([15,2])\n",
    "w = np.array([5,5])\n",
    "\n",
    "display(v.T@w)\n",
    "display(w.T@v)\n",
    "\n",
    "# conclusion: it is True."
   ]
  },
  {
   "cell_type": "markdown",
   "id": "236e82e7",
   "metadata": {},
   "source": [
    "# orthogonal and parallel vectors:\n",
    "\n",
    "![vector_space_chunking](images/vector_space_chunking.png)\n",
    "\n",
    "# Explanation:\n",
    "* The goal is to find the length or the magnitude of the target vector(W) by using a reference vector(V).\n",
    "* The reference vector helps find the vectors that are `parallel` and `perpendicular` to the target vector.\n",
    "* The combination of vectors that are parallel to the target vector and perpendicular to the target vector get us to draw a chunck of space around the target vector that will calculate the magnitude of the target vector.\n",
    "* in this whole process the reference vector is the true helper the basis vector because it is what helps us find the vectors that are parallel and perpendicular to the target vectors.\n",
    "\n",
    "\n",
    "# computing the parallel vector:\n",
    "\n",
    "* The parallel vector is parallel to the reference vector lets call our reference vector as the basis vector from here on.\n",
    "* The parallel vector has the same magnitude as the target vector(W) but points at the same direction as the basis vector(V). same direction means parallel. \n",
    "* `the parallel vector is = projection of w onto v = mapping * basis vector / magnitude.`\n",
    "* $$ \\text{ the parallel vector is = } proj_v w = \\frac{v^{T} w}{v^{T} v} * v $$\n",
    "\n",
    "\n",
    "![parallel vector by Mike x Cohen](images/parallel_vector.png)\n",
    "\n",
    "\n",
    "# computing the perpendicular vector:\n",
    "\n",
    "* The perpendicular vector is perpendicular to the basis vector but has the same magnitude as the target vector.\n",
    "* the perpendicular vector = w - the parallel vector. \n",
    "* This operation is valid only if the parallel vector and the perpendicular vectors are orthogonal meaning their dot product equals 0, parallel.T @ perpendicular = 0\n",
    "\n",
    "# proving w_perpendicular to v and w_parallel to  v are orthogonal:\n",
    "\n",
    "$$ \\text{parallel^T perpendicular = } \\left(\\frac{v^Tw}{v^Tv} v \\right)^T . \\left(w - \\left(\\frac{v^Tw}{v^Tv} v \\right) \\right) $$\n",
    "\n",
    "$$ = \\frac{v.w^T v^T}{v.v^T} . \\left(w - \\frac{v^T.w}{v^Tv} v \\right) $$\n",
    "\n",
    "$$ = \\frac{v.v^T.w^T}{v.v^T} . \\left(w - \\frac{v^T.v w}{v^Tv}  \\right) $$\n",
    "\n",
    "$$ = \\frac{v^T.v}{v^T.v} = 1 $$\n",
    "\n",
    "$$ = w^T.w - w^T.w $$\n",
    "\n",
    "$$ = 0 $$\n"
   ]
  },
  {
   "cell_type": "code",
   "execution_count": 3,
   "id": "86a58741",
   "metadata": {},
   "outputs": [
    {
     "data": {
      "image/png": "[encoded data removed]",
      "text/latex": [
       "$\\displaystyle 1.0$"
      ],
      "text/plain": [
       "1.0"
      ]
     },
     "execution_count": 3,
     "metadata": {},
     "output_type": "execute_result"
    }
   ],
   "source": [
    "# proving v.T v/ v.T v = 1\n",
    "v = np.array([4,0])\n",
    "(v.T@v)/(v.T@v)"
   ]
  },
  {
   "cell_type": "code",
   "execution_count": 4,
   "id": "264e1fde",
   "metadata": {},
   "outputs": [
    {
     "name": "stdout",
     "output_type": "stream",
     "text": [
      "They are orthogonal\n"
     ]
    },
    {
     "data": {
      "image/png": "[encoded data removed]",
      "text/plain": [
       "<Figure size 900x600 with 1 Axes>"
      ]
     },
     "metadata": {
      "needs_background": "light"
     },
     "output_type": "display_data"
    }
   ],
   "source": [
    "# put things to work.\n",
    "v = np.array([4,0])\n",
    "w = np.array([2,4])\n",
    "\n",
    "w_parallelto_v = (v.T@w)/(v.T@v) * v # remember this attached v is hadammard multiplied.\n",
    "w_perpendicularto_v = w - w_parallelto_v\n",
    "\n",
    "# checking the orthogonality of parallel and perpendicular vectors\n",
    "if np.dot(w_parallelto_v,w_perpendicularto_v) == 0:\n",
    "    print('They are orthogonal')\n",
    "\n",
    "    \n",
    "# plotting them;\n",
    "plt.figure(dpi=150)\n",
    "\n",
    "# plot the v and w\n",
    "plt.plot([0,w[0]],[0,w[1]],'g',label='w')\n",
    "plt.plot([0,v[0]],[0,v[1]],'b',label='v')\n",
    "\n",
    "# plot the parallel and perpendicular\n",
    "plt.plot([0,w_parallelto_v[0]],[0,w_parallelto_v[1]],color='orange',label='parallel')\n",
    "plt.plot([0,w_perpendicularto_v[0]],[0,w_perpendicularto_v[1]],color='yellow',alpha=0.8,label='perpendicular')\n",
    "\n",
    "# beatifying the plot\n",
    "plt.xlim(-5,5)\n",
    "plt.ylim(-5,5)\n",
    "axes = plt.gca()\n",
    "plt.plot(axes.get_xlim(),[0,0],'k--',alpha=0.4)\n",
    "plt.plot([0,0],axes.get_ylim(),'k--',alpha=0.4)\n",
    "plt.grid()\n",
    "plt.legend(loc=(1.1,0.5))\n",
    "\n",
    "plt.show()\n",
    "\n",
    "# using pythogoras formula to calculate magnitude of w (a^2 + b^2 = c^2)\n",
    " "
   ]
  },
  {
   "cell_type": "code",
   "execution_count": 5,
   "id": "fa8f0161",
   "metadata": {},
   "outputs": [
    {
     "data": {
      "text/plain": [
       "array([2., 4.])"
      ]
     },
     "execution_count": 5,
     "metadata": {},
     "output_type": "execute_result"
    }
   ],
   "source": [
    "w_parallelto_v + w_perpendicularto_v"
   ]
  },
  {
   "cell_type": "code",
   "execution_count": 6,
   "id": "d7c5acda",
   "metadata": {},
   "outputs": [
    {
     "data": {
      "text/plain": [
       "array([2, 4])"
      ]
     },
     "execution_count": 6,
     "metadata": {},
     "output_type": "execute_result"
    }
   ],
   "source": [
    "w"
   ]
  },
  {
   "cell_type": "code",
   "execution_count": null,
   "id": "9819e479",
   "metadata": {},
   "outputs": [],
   "source": []
  },
  {
   "cell_type": "markdown",
   "id": "612e2357",
   "metadata": {},
   "source": [
    "# day 231"
   ]
  },
  {
   "cell_type": "code",
   "execution_count": 2,
   "id": "1bdef27c",
   "metadata": {},
   "outputs": [],
   "source": [
    "import numpy as np\n",
    "import sympy as sym\n",
    "from IPython.display import display,Math\n",
    "sym.init_printing()\n",
    "import matplotlib.pyplot as plt"
   ]
  },
  {
   "cell_type": "markdown",
   "id": "8d26b526",
   "metadata": {},
   "source": [
    "# code challenge: decompose vector to orthogonal components.\n",
    "\n",
    "decompose means: break the system into simpler components"
   ]
  },
  {
   "cell_type": "code",
   "execution_count": 22,
   "id": "4ecfd313",
   "metadata": {},
   "outputs": [
    {
     "data": {
      "image/png": "[encoded data removed]",
      "text/plain": [
       "<Figure size 900x600 with 1 Axes>"
      ]
     },
     "metadata": {
      "needs_background": "light"
     },
     "output_type": "display_data"
    }
   ],
   "source": [
    "# vector w, to be decomposed into parallel and perpendicular vectors.\n",
    "w = np.array([2,3])\n",
    "\n",
    "# vector v, the reference (the basis)\n",
    "v = np.array([6,2])\n",
    "\n",
    "# compute w parallel to v\n",
    "w_parallelto_v = (v.T@w)/(v.T@v) * v\n",
    "\n",
    "# compute w perpendicular to v\n",
    "w_perpendicularto_v = w - w_parallelto_v\n",
    "\n",
    "# confirm the results algebraically:\n",
    "confirmation_boolean = np.equal(w_perpendicularto_v + w_parallelto_v,w)\n",
    "\n",
    "# plot all four vectors:\n",
    "plt.figure(dpi=150)\n",
    "plt.plot([0,w[0]],[0,w[1]],'r',label='W')\n",
    "plt.plot([0,v[0]],[0,v[1]],'b',label='V')\n",
    "plt.plot([0,w_parallelto_v[0]],[0,w_parallelto_v[1]],color='#88e03f',label='$w_{||v} $')\n",
    "plt.plot([0,w_perpendicularto_v[0]],[0,w_perpendicularto_v[1]],color='#43d9c0',label='$ w_{\\\\perp v} $')\n",
    "\n",
    "\n",
    "\n",
    "plt.xlim([-3,7])\n",
    "plt.ylim([-3,5])\n",
    "axes = plt.gca()\n",
    "plt.plot(axes.get_xlim(),[0,0],'k--',alpha=0.3)\n",
    "plt.plot([0,0],axes.get_ylim(),'k--',alpha=0.3)\n",
    "plt.grid()\n",
    "\n",
    "\n",
    "plt.legend()\n",
    "plt.show()"
   ]
  },
  {
   "cell_type": "code",
   "execution_count": null,
   "id": "1b2b5cbb",
   "metadata": {},
   "outputs": [],
   "source": []
  },
  {
   "cell_type": "markdown",
   "id": "8d2e01cc",
   "metadata": {},
   "source": [
    "# orthogonal matrices\n",
    "\n",
    "# what it means for a matrix to be orthogonal?\n",
    "1. orthogonal matrix is denoted with the letter 'Q'.\n",
    "2. All columns are PairWise orthogonal.\n",
    "3. Each column has magnitude exactly = 1.\n",
    "4. An identity matrix is an orthogonal matrix.\n",
    "\n",
    "![formal definition](images/orthogonal_matrix1.png)\n",
    "* the dot product of qi and qj is 1 if i = j that means you are computing the dot product of the column with itself.\n",
    "* the dot product of qi and qj is 0 if i != j that means `you are computing the dot product between two different columns and the result would be zero`.\n",
    "\n",
    "# $$ q^{T}. q = I  \\rightarrow q^{-1} .q = I \\rightarrow q^{T} = q^{-1}$$\n",
    "\n",
    "# for square orthogonal matrix:\n",
    "$$ q^{T} . q =  q^{-1}. q =  q . q^{T} = q . q^{-1} = I $$\n",
    "\n",
    "# for non-square orthogonal matrix:\n",
    "$$ q^{T} . q =  q^{-1} . q  = I $$\n",
    "\n",
    "# orthogonal matrix contains rotational vectors:\n",
    "* orthogonal matrix when rotated will just get rotated to the specified direction without getting streched or in other words it won't see any increase in magnitude. see the matrix multiplication lecture for lessons on rotations."
   ]
  },
  {
   "cell_type": "code",
   "execution_count": 36,
   "id": "2ac39f67",
   "metadata": {},
   "outputs": [
    {
     "name": "stdout",
     "output_type": "stream",
     "text": [
      "This is the orthogonal Matrix: \n"
     ]
    },
    {
     "data": {
      "text/latex": [
       "$\\displaystyle \\left[\\begin{matrix}\\frac{\\sqrt{2}}{2} & - \\frac{\\sqrt{2}}{2}\\\\\\frac{\\sqrt{2}}{2} & \\frac{\\sqrt{2}}{2}\\end{matrix}\\right]$"
      ],
      "text/plain": [
       "⎡√2  -√2 ⎤\n",
       "⎢──  ────⎥\n",
       "⎢2    2  ⎥\n",
       "⎢        ⎥\n",
       "⎢√2   √2 ⎥\n",
       "⎢──   ── ⎥\n",
       "⎣2    2  ⎦"
      ]
     },
     "metadata": {},
     "output_type": "display_data"
    },
    {
     "name": "stdout",
     "output_type": "stream",
     "text": [
      "When we compute the dot product for the first column with itself: \n"
     ]
    },
    {
     "data": {
      "image/png": "[encoded data removed]",
      "text/latex": [
       "$\\displaystyle 1$"
      ],
      "text/plain": [
       "1"
      ]
     },
     "metadata": {},
     "output_type": "display_data"
    },
    {
     "name": "stdout",
     "output_type": "stream",
     "text": [
      "When we compute the dot product for the second column with itself:  \n"
     ]
    },
    {
     "data": {
      "image/png": "[encoded data removed]",
      "text/latex": [
       "$\\displaystyle 1$"
      ],
      "text/plain": [
       "1"
      ]
     },
     "metadata": {},
     "output_type": "display_data"
    },
    {
     "name": "stdout",
     "output_type": "stream",
     "text": [
      "When we compute the dot product of the first and second column:  \n"
     ]
    },
    {
     "data": {
      "image/png": "[encoded data removed]",
      "text/latex": [
       "$\\displaystyle 0$"
      ],
      "text/plain": [
       "0"
      ]
     },
     "metadata": {},
     "output_type": "display_data"
    },
    {
     "name": "stdout",
     "output_type": "stream",
     "text": [
      "Hence this matrix is orthogonal\n"
     ]
    }
   ],
   "source": [
    "# example for orthogonal matrix\n",
    "\n",
    "q = 1/sym.sqrt(2)* sym.Matrix([[1,-1],\n",
    "                               [1,1]])\n",
    "\n",
    "print('This is the orthogonal Matrix: ')\n",
    "display(q)\n",
    "\n",
    "samecol_dot1 = q[:,0].dot(q[:,0])\n",
    "print('When we compute the dot product for the first column with itself: ')\n",
    "display(samecol_dot1)\n",
    "\n",
    "samecol_dot2 = q[:,1].dot(q[:,1])\n",
    "print('When we compute the dot product for the second column with itself:  ')\n",
    "display(samecol_dot2)\n",
    "\n",
    "col1_col2_dot = q[:,0].dot(q[:,1])\n",
    "print('When we compute the dot product of the first and second column:  ')\n",
    "display(col1_col2_dot)\n",
    "\n",
    "print('Hence this matrix is orthogonal')"
   ]
  },
  {
   "cell_type": "markdown",
   "id": "1f4f0505",
   "metadata": {},
   "source": [
    "# conclusion: Hence it is proven that if we compute dot product for the same column we get 1 and if we compute dot product between two different columns we get 0 hence it proven that this matrix is indeed orthogonal!!! "
   ]
  },
  {
   "cell_type": "code",
   "execution_count": 5,
   "id": "13c57f26",
   "metadata": {},
   "outputs": [
    {
     "name": "stdout",
     "output_type": "stream",
     "text": [
      "This is the orthogonal Matrix: \n"
     ]
    },
    {
     "data": {
      "text/latex": [
       "$\\displaystyle \\left[\\begin{matrix}0.666666666666667 & 0.333333333333333\\\\-0.666666666666667 & 0.666666666666667\\\\0.333333333333333 & 0.666666666666667\\end{matrix}\\right]$"
      ],
      "text/plain": [
       "⎡0.666666666666667   0.333333333333333⎤\n",
       "⎢                                     ⎥\n",
       "⎢-0.666666666666667  0.666666666666667⎥\n",
       "⎢                                     ⎥\n",
       "⎣0.333333333333333   0.666666666666667⎦"
      ]
     },
     "metadata": {},
     "output_type": "display_data"
    },
    {
     "name": "stdout",
     "output_type": "stream",
     "text": [
      "When we compute the dot product for the first column with itself: \n"
     ]
    },
    {
     "data": {
      "image/png": "[encoded data removed]",
      "text/latex": [
       "$\\displaystyle 1.0$"
      ],
      "text/plain": [
       "1.00000000000000"
      ]
     },
     "metadata": {},
     "output_type": "display_data"
    },
    {
     "name": "stdout",
     "output_type": "stream",
     "text": [
      "When we compute the dot product for the second column with itself:  \n"
     ]
    },
    {
     "data": {
      "image/png": "[encoded data removed]",
      "text/latex": [
       "$\\displaystyle 1.0$"
      ],
      "text/plain": [
       "1.00000000000000"
      ]
     },
     "metadata": {},
     "output_type": "display_data"
    },
    {
     "name": "stdout",
     "output_type": "stream",
     "text": [
      "When we compute the dot product of the first and second column:  \n"
     ]
    },
    {
     "data": {
      "image/png": "[encoded data removed]",
      "text/latex": [
       "$\\displaystyle 0$"
      ],
      "text/plain": [
       "0"
      ]
     },
     "metadata": {},
     "output_type": "display_data"
    },
    {
     "name": "stdout",
     "output_type": "stream",
     "text": [
      "Hence this matrix is orthogonal\n"
     ]
    }
   ],
   "source": [
    "# example 2: non-square orthogonal matrix\n",
    "\n",
    "q = 1/3 * sym.Matrix([[2, 1],\n",
    "                      [-2, 2],\n",
    "                      [1, 2]])\n",
    "\n",
    "print('This is the orthogonal Matrix: ')\n",
    "display(q)\n",
    "\n",
    "samecol_dot1 = q[:,0].dot(q[:,0])\n",
    "print('When we compute the dot product for the first column with itself: ')\n",
    "display(samecol_dot1)\n",
    "\n",
    "samecol_dot2 = q[:,1].dot(q[:,1])\n",
    "print('When we compute the dot product for the second column with itself:  ')\n",
    "display(samecol_dot2)\n",
    "\n",
    "col1_col2_dot = q[:,0].dot(q[:,1])\n",
    "print('When we compute the dot product of the first and second column:  ')\n",
    "display(col1_col2_dot)\n",
    "\n",
    "print('Hence this matrix is orthogonal')"
   ]
  },
  {
   "cell_type": "code",
   "execution_count": null,
   "id": "388088b5",
   "metadata": {},
   "outputs": [],
   "source": []
  },
  {
   "cell_type": "markdown",
   "id": "9b9dbf38",
   "metadata": {},
   "source": [
    "# day 236"
   ]
  },
  {
   "cell_type": "code",
   "execution_count": 5,
   "id": "854369e4",
   "metadata": {},
   "outputs": [],
   "source": [
    "import numpy as np\n",
    "import sympy as sym\n",
    "from IPython.display import display,Math\n",
    "sym.init_printing()\n",
    "import matplotlib.pyplot as plt"
   ]
  },
  {
   "cell_type": "markdown",
   "id": "74105f60",
   "metadata": {},
   "source": [
    "# Gram-Schmidt procedure:\n",
    "\n",
    "* the goal is to convert any matrix into orthogonal matrix (where each dot product of each column would equal 0 and the norm of each column would equal 1).\n",
    "\n",
    "# procedure for orthogonalization(orthogonalization is calculating the values for the vector that is perpendicular to reference vector).\n",
    "* step1: take the first column and put it as it is. and normalize it by taking the norm of the components and 1/norm.\n",
    "* step2: take the second column and orthogonalize it by referencing the first column. and normalize it by taking the norm of the components and 1/norm.\n",
    "* step3: take the third column and orthogonalize it by referencing first,second columns and normalize it by taking the norm of the components and 1/norm.\n",
    "* step4: take the fourth column and orthogonalize it by referencing first,second,third columns, and normalize it by taking the norm of the components and 1/norm.\n",
    "* step5: repeat the above the procedures till you run out of columns. \n",
    "\n",
    "# procedure in equation:\n",
    "$$  \\text{step 1: } \\text{col1 }* \\frac{1}{\\text{norm of weights of col1}} $$\n",
    "$$ \\downarrow $$\n",
    "$$  \\text{step 2: } \\text{col2} - \\text{col2 }_{ \\parallel \\text{orthogonal col1} } *  \\frac{1}{\\text{norm of weights of `results` of col2}} $$\n",
    "$$ \\downarrow $$\n",
    "$$  \\text{step 3: } \\text{col3} - \\text{col3 }_{ \\parallel \\text{ orthogonal col2} } - \\text{col3 }_{ \\parallel \\text{orthogonal col1} }  *  \\frac{1}{\\text{norm of weights of `results` of col3}} $$\n",
    "$$ \\downarrow $$\n",
    "$$ \\text{ repeat this procedure until the end of the  matrix } $$\n",
    "\n",
    "\n",
    "# notes about square and non-square and orthogonalization:\n",
    "* in a square matrix, lets say of size 2x2, after orthogonalization you will have two non-trivial columns that are orhtogonal to each other.\n",
    "* in a non-square matrix, lets say of size 2x3, after orthogonalization you will have two non-trivial columns, the third column may only have [0,0] vector. \n",
    "* the process of orthogonalization zero-fills all the extra redundant dimensions.\n",
    "\n",
    "# visual inspection:\n",
    "![bah bah black sheep](images/gram_schmidt.png)\n",
    "\n",
    "* col3 just shrunk to zero\n",
    "* all columns are rotated a little bit(to 90 deg exactly).\n",
    "\n",
    "# caveats of gram-schmidt orthogonalization:\n",
    "* there is an information loss in the third column. it just became zero. it went to oblivion. the point of no return.\n",
    "* orthogonalizing a matrix using this procedure might irreversibly lose the extra dimensional information. once you get the Q(orthogonal matrix) with gram-schmidt you cannot get back to the original matrix and you may have potentially lost some information if the matrix was not square or had linearly dependent rows.\n",
    "* that's why we use QR decomposition. Q is calculated. R is calculated seperately. when you matmultiply the Q with R you will get back the original matrix. Thus Information is preserved."
   ]
  },
  {
   "cell_type": "code",
   "execution_count": null,
   "id": "1d30854c",
   "metadata": {},
   "outputs": [],
   "source": []
  },
  {
   "cell_type": "code",
   "execution_count": 8,
   "id": "56c45d3f",
   "metadata": {},
   "outputs": [
    {
     "data": {
      "text/latex": [
       "$\\displaystyle \\text{Original Matrix: } \\left[\\begin{matrix}1 & 2 & 3\\\\4 & 5 & 6\\end{matrix}\\right]$"
      ],
      "text/plain": [
       "<IPython.core.display.Math object>"
      ]
     },
     "metadata": {},
     "output_type": "display_data"
    },
    {
     "data": {
      "text/latex": [
       "$\\displaystyle \\text{col1: } \\left[\\begin{matrix}\\frac{\\sqrt{17}}{17}\\\\\\frac{4 \\sqrt{17}}{17}\\end{matrix}\\right]$"
      ],
      "text/plain": [
       "<IPython.core.display.Math object>"
      ]
     },
     "metadata": {},
     "output_type": "display_data"
    },
    {
     "data": {
      "text/latex": [
       "$\\displaystyle \\text{col2: } \\left[\\begin{matrix}\\frac{4 \\sqrt{17}}{17}\\\\- \\frac{\\sqrt{17}}{17}\\end{matrix}\\right]$"
      ],
      "text/plain": [
       "<IPython.core.display.Math object>"
      ]
     },
     "metadata": {},
     "output_type": "display_data"
    },
    {
     "data": {
      "text/latex": [
       "$\\displaystyle \\text{col3: } \\left[\\begin{matrix}0\\\\0\\end{matrix}\\right]$"
      ],
      "text/plain": [
       "<IPython.core.display.Math object>"
      ]
     },
     "metadata": {},
     "output_type": "display_data"
    },
    {
     "data": {
      "text/latex": [
       "$\\displaystyle \\text{Q: } \\left[\\begin{matrix}\\frac{\\sqrt{17}}{17} & \\frac{4 \\sqrt{17}}{17} & 0\\\\\\frac{4 \\sqrt{17}}{17} & - \\frac{\\sqrt{17}}{17} & 0\\end{matrix}\\right]$"
      ],
      "text/plain": [
       "<IPython.core.display.Math object>"
      ]
     },
     "metadata": {},
     "output_type": "display_data"
    }
   ],
   "source": [
    "# preparing the matrix\n",
    "a = sym.Matrix([[1,2,3],\n",
    "                [4,5,6]])\n",
    "display(Math('\\\\text{Original Matrix: } %s'%(sym.latex(a))))\n",
    "\n",
    "# producing orthogonal col1,col2,col3\n",
    "col1 = 1/a[:,0].norm() * a[:,0]\n",
    "display(Math('\\\\text{col1: } %s'%(sym.latex(col1))))\n",
    "\n",
    "# col perp(orthogonal) = col - col parallel, col parallel = col1T.col2/col1T.col1 * col1\n",
    "col2 =  a[:,1] - (col1.T.dot(a[:,1])/col1.T.dot(col1) * col1 )\n",
    "col2 = 1/col2.norm() * col2 # normalizing it \n",
    "display(Math('\\\\text{col2: } %s'%(sym.latex(col2))))\n",
    "\n",
    "col3 = a[:,2] - (col1.T.dot(a[:,2])/col1.dot(col1) * col1) - (col2.T.dot(a[:,2])/col2.T.dot(col2) * col2)\n",
    "col3 = 1/col3.norm() * col3 # normalizing it\n",
    "display(Math('\\\\text{col3: } %s'%(sym.latex(col3))))\n",
    "\n",
    "# creating the orthogonal matrix\n",
    "Q = sym.Matrix([[col1,col2,col3]])\n",
    "display(Math('\\\\text{Q: } %s'%(sym.latex(Q))))\n",
    "\n"
   ]
  },
  {
   "cell_type": "code",
   "execution_count": 32,
   "id": "1f974a6a",
   "metadata": {},
   "outputs": [
    {
     "data": {
      "image/png": "[encoded data removed]",
      "text/latex": [
       "$\\displaystyle 0$"
      ],
      "text/plain": [
       "0"
      ]
     },
     "execution_count": 32,
     "metadata": {},
     "output_type": "execute_result"
    }
   ],
   "source": [
    "col1.dot(col2)"
   ]
  },
  {
   "cell_type": "code",
   "execution_count": 45,
   "id": "ec6a0061",
   "metadata": {},
   "outputs": [
    {
     "data": {
      "image/png": "[encoded data removed]",
      "text/latex": [
       "$\\displaystyle 1$"
      ],
      "text/plain": [
       "1"
      ]
     },
     "execution_count": 45,
     "metadata": {},
     "output_type": "execute_result"
    }
   ],
   "source": [
    "Q[:,0].norm()"
   ]
  },
  {
   "cell_type": "code",
   "execution_count": 9,
   "id": "178ec7ae",
   "metadata": {},
   "outputs": [
    {
     "data": {
      "image/png": "[encoded data removed]",
      "text/latex": [
       "$\\displaystyle 0$"
      ],
      "text/plain": [
       "0"
      ]
     },
     "execution_count": 9,
     "metadata": {},
     "output_type": "execute_result"
    }
   ],
   "source": [
    "Q[:,0].dot(Q[:,1])"
   ]
  },
  {
   "cell_type": "code",
   "execution_count": 10,
   "id": "d6ca0397",
   "metadata": {},
   "outputs": [
    {
     "data": {
      "image/png": "[encoded data removed]",
      "text/latex": [
       "$\\displaystyle 0$"
      ],
      "text/plain": [
       "0"
      ]
     },
     "execution_count": 10,
     "metadata": {},
     "output_type": "execute_result"
    }
   ],
   "source": [
    "Q[:,1].dot(Q[:,0])"
   ]
  },
  {
   "cell_type": "code",
   "execution_count": null,
   "id": "bd3c9ae2",
   "metadata": {},
   "outputs": [],
   "source": []
  },
  {
   "cell_type": "markdown",
   "id": "9a49fe98",
   "metadata": {},
   "source": [
    "# day 242"
   ]
  },
  {
   "cell_type": "code",
   "execution_count": 6,
   "id": "cd4d47f8",
   "metadata": {},
   "outputs": [],
   "source": [
    "import numpy as np\n",
    "import sympy as sym\n",
    "from IPython.display import display,Math\n",
    "sym.init_printing()\n",
    "import matplotlib.pyplot as plt"
   ]
  },
  {
   "cell_type": "markdown",
   "id": "6362da96",
   "metadata": {},
   "source": [
    "# QR decomposition\n",
    "\n",
    "# goal:\n",
    "* preserve the original matrix while finding its orthogonal counterpart.\n",
    "\n",
    "Q is orthogonal matrix.\n",
    "# $$ A_{mxn} = Q_{mxm}  R_{mxn} $$\n",
    "# $$ \\downarrow $$\n",
    "# $$ \\text{left multiply with Q tranpose on both sides } $$\n",
    "# $$ \\downarrow $$\n",
    "# $$ Q^{T} A = Q^{T}Q R $$ \n",
    "# $$ \\downarrow $$ \n",
    "# $$ Q_{mxm}^{T} A_{mxn} =  R_{mxn} $$\n",
    "# $$ \\downarrow $$\n",
    "# $$ \\text{if you want to get A } $$\n",
    "# $$ \\downarrow $$\n",
    "# $$ A = (Q^{T})^{-1} R $$\n",
    "\n",
    "\n",
    "# notes:\n",
    "1. R preserves the information about the original matrix.\n",
    "2. R is always going to be an upper triangular matrix.\n",
    "3. Q will always be mxm and R will always be mxn.\n",
    "4. **There will always be the sign uncertainty about the perpendicular vectors. we just know that the orthogonal matrix is going to have column vectors that are perpendicular(orthogonal) to the original matrix vectors but, a big butt, it can be perpendicular `in any direction`, so it can be in the positive direction or negative direction, that is always uncertain.**\n",
    "\n",
    "\n",
    "![notes about R](images/r_matrix.png)\n"
   ]
  },
  {
   "cell_type": "code",
   "execution_count": 16,
   "id": "be75c296",
   "metadata": {},
   "outputs": [
    {
     "data": {
      "text/latex": [
       "$\\displaystyle A = \\left[\\begin{matrix}1 & 0\\\\1 & 0\\\\0 & 1\\end{matrix}\\right]$"
      ],
      "text/plain": [
       "<IPython.core.display.Math object>"
      ]
     },
     "metadata": {},
     "output_type": "display_data"
    },
    {
     "data": {
      "text/latex": [
       "$\\displaystyle Q = \\left[\\begin{matrix}-0.707106781186547 & 0.0 & 0.707106781186547\\\\-0.707106781186547 & 0.0 & -0.707106781186548\\\\0.0 & -1.0 & 0.0\\end{matrix}\\right]$"
      ],
      "text/plain": [
       "<IPython.core.display.Math object>"
      ]
     },
     "metadata": {},
     "output_type": "display_data"
    },
    {
     "data": {
      "text/latex": [
       "$\\displaystyle R = \\left[\\begin{matrix}-1.4142135623731 & 0.0\\\\0.0 & -1.0\\\\0.0 & 0.0\\end{matrix}\\right]$"
      ],
      "text/plain": [
       "<IPython.core.display.Math object>"
      ]
     },
     "metadata": {},
     "output_type": "display_data"
    }
   ],
   "source": [
    "# code for illustrations:\n",
    "\n",
    "A = np.array([[1,0],\n",
    "              [1,0],\n",
    "              [0,1]])\n",
    "\n",
    "# full QR decomposition:\n",
    "Q,R = np.linalg.qr(A,'complete')\n",
    "\n",
    "display(Math('A = %s'%(sym.latex(sym.sympify(A)))))\n",
    "display(Math('Q = %s'%(sym.latex(sym.sympify(Q)))))\n",
    "display(Math('R = %s'%(sym.latex(sym.sympify(R)))))"
   ]
  },
  {
   "cell_type": "code",
   "execution_count": 18,
   "id": "929bb965",
   "metadata": {},
   "outputs": [
    {
     "data": {
      "text/plain": [
       "array([[1., 0.],\n",
       "       [1., 0.],\n",
       "       [0., 1.]])"
      ]
     },
     "execution_count": 18,
     "metadata": {},
     "output_type": "execute_result"
    }
   ],
   "source": [
    "# Getting A back!\n",
    "\n",
    "np.linalg.inv(Q.T)@R"
   ]
  },
  {
   "cell_type": "code",
   "execution_count": 20,
   "id": "b119c0ff",
   "metadata": {},
   "outputs": [
    {
     "data": {
      "text/latex": [
       "$\\displaystyle A = \\left[\\begin{matrix}1 & 0\\\\1 & 0\\\\0 & 1\\end{matrix}\\right]$"
      ],
      "text/plain": [
       "<IPython.core.display.Math object>"
      ]
     },
     "metadata": {},
     "output_type": "display_data"
    },
    {
     "data": {
      "text/latex": [
       "$\\displaystyle Q = \\left[\\begin{matrix}-0.707106781186547 & 0.0\\\\-0.707106781186547 & 0.0\\\\0.0 & -1.0\\end{matrix}\\right]$"
      ],
      "text/plain": [
       "<IPython.core.display.Math object>"
      ]
     },
     "metadata": {},
     "output_type": "display_data"
    },
    {
     "data": {
      "text/latex": [
       "$\\displaystyle R = \\left[\\begin{matrix}-1.4142135623731 & 0.0\\\\0.0 & -1.0\\end{matrix}\\right]$"
      ],
      "text/plain": [
       "<IPython.core.display.Math object>"
      ]
     },
     "metadata": {},
     "output_type": "display_data"
    }
   ],
   "source": [
    "# economy QR decomposition where Q will have one column less\n",
    "A = np.array([[1,0],\n",
    "              [1,0],\n",
    "              [0,1]])\n",
    "\n",
    "# economy QR decomposition:\n",
    "Q,R = np.linalg.qr(A)\n",
    "\n",
    "display(Math('A = %s'%(sym.latex(sym.sympify(A)))))\n",
    "display(Math('Q = %s'%(sym.latex(sym.sympify(Q)))))\n",
    "display(Math('R = %s'%(sym.latex(sym.sympify(R)))))"
   ]
  },
  {
   "cell_type": "code",
   "execution_count": 22,
   "id": "9729e5b7",
   "metadata": {},
   "outputs": [
    {
     "ename": "LinAlgError",
     "evalue": "Last 2 dimensions of the array must be square",
     "output_type": "error",
     "traceback": [
      "\u001b[1;31m---------------------------------------------------------------------------\u001b[0m",
      "\u001b[1;31mLinAlgError\u001b[0m                               Traceback (most recent call last)",
      "Input \u001b[1;32mIn [22]\u001b[0m, in \u001b[0;36m<cell line: 3>\u001b[1;34m()\u001b[0m\n\u001b[0;32m      1\u001b[0m \u001b[38;5;66;03m# Getting A back!\u001b[39;00m\n\u001b[1;32m----> 3\u001b[0m \u001b[43mnp\u001b[49m\u001b[38;5;241;43m.\u001b[39;49m\u001b[43mlinalg\u001b[49m\u001b[38;5;241;43m.\u001b[39;49m\u001b[43minv\u001b[49m\u001b[43m(\u001b[49m\u001b[43mQ\u001b[49m\u001b[38;5;241;43m.\u001b[39;49m\u001b[43mT\u001b[49m\u001b[43m)\u001b[49m\n",
      "File \u001b[1;32m<__array_function__ internals>:5\u001b[0m, in \u001b[0;36minv\u001b[1;34m(*args, **kwargs)\u001b[0m\n",
      "File \u001b[1;32m~\\anaconda3\\lib\\site-packages\\numpy\\linalg\\linalg.py:540\u001b[0m, in \u001b[0;36minv\u001b[1;34m(a)\u001b[0m\n\u001b[0;32m    538\u001b[0m a, wrap \u001b[38;5;241m=\u001b[39m _makearray(a)\n\u001b[0;32m    539\u001b[0m _assert_stacked_2d(a)\n\u001b[1;32m--> 540\u001b[0m \u001b[43m_assert_stacked_square\u001b[49m\u001b[43m(\u001b[49m\u001b[43ma\u001b[49m\u001b[43m)\u001b[49m\n\u001b[0;32m    541\u001b[0m t, result_t \u001b[38;5;241m=\u001b[39m _commonType(a)\n\u001b[0;32m    543\u001b[0m signature \u001b[38;5;241m=\u001b[39m \u001b[38;5;124m'\u001b[39m\u001b[38;5;124mD->D\u001b[39m\u001b[38;5;124m'\u001b[39m \u001b[38;5;28;01mif\u001b[39;00m isComplexType(t) \u001b[38;5;28;01melse\u001b[39;00m \u001b[38;5;124m'\u001b[39m\u001b[38;5;124md->d\u001b[39m\u001b[38;5;124m'\u001b[39m\n",
      "File \u001b[1;32m~\\anaconda3\\lib\\site-packages\\numpy\\linalg\\linalg.py:203\u001b[0m, in \u001b[0;36m_assert_stacked_square\u001b[1;34m(*arrays)\u001b[0m\n\u001b[0;32m    201\u001b[0m m, n \u001b[38;5;241m=\u001b[39m a\u001b[38;5;241m.\u001b[39mshape[\u001b[38;5;241m-\u001b[39m\u001b[38;5;241m2\u001b[39m:]\n\u001b[0;32m    202\u001b[0m \u001b[38;5;28;01mif\u001b[39;00m m \u001b[38;5;241m!=\u001b[39m n:\n\u001b[1;32m--> 203\u001b[0m     \u001b[38;5;28;01mraise\u001b[39;00m LinAlgError(\u001b[38;5;124m'\u001b[39m\u001b[38;5;124mLast 2 dimensions of the array must be square\u001b[39m\u001b[38;5;124m'\u001b[39m)\n",
      "\u001b[1;31mLinAlgError\u001b[0m: Last 2 dimensions of the array must be square"
     ]
    }
   ],
   "source": [
    "# Getting A back!\n",
    "\n",
    "np.linalg.inv(Q.T)@R"
   ]
  },
  {
   "cell_type": "markdown",
   "id": "9cb6d6f8",
   "metadata": {},
   "source": [
    "# conclusion:\n",
    "* QR decomposition in complete mode gives no error. so, use 'complete'"
   ]
  },
  {
   "cell_type": "code",
   "execution_count": 25,
   "id": "3414e6d5",
   "metadata": {},
   "outputs": [
    {
     "data": {
      "text/latex": [
       "$\\displaystyle A = \\left[\\begin{matrix}1 & 1 & -2\\\\3 & -1 & 1\\end{matrix}\\right]$"
      ],
      "text/plain": [
       "<IPython.core.display.Math object>"
      ]
     },
     "metadata": {},
     "output_type": "display_data"
    },
    {
     "data": {
      "text/latex": [
       "$\\displaystyle Q = \\left[\\begin{matrix}-0.316227766016838 & -0.948683298050514\\\\-0.948683298050514 & 0.316227766016838\\end{matrix}\\right]$"
      ],
      "text/plain": [
       "<IPython.core.display.Math object>"
      ]
     },
     "metadata": {},
     "output_type": "display_data"
    },
    {
     "data": {
      "text/latex": [
       "$\\displaystyle R = \\left[\\begin{matrix}-3.16227766016838 & 0.632455532033676 & -0.316227766016838\\\\0.0 & -1.26491106406735 & 2.21359436211787\\end{matrix}\\right]$"
      ],
      "text/plain": [
       "<IPython.core.display.Math object>"
      ]
     },
     "metadata": {},
     "output_type": "display_data"
    }
   ],
   "source": [
    "# another example;\n",
    "A = np.array([[1,1,-2],\n",
    "             [3,-1,1]])\n",
    "\n",
    "# full QR decomposition:\n",
    "Q,R = np.linalg.qr(A,'complete')\n",
    "\n",
    "display(Math('A = %s'%(sym.latex(sym.sympify(A)))))\n",
    "display(Math('Q = %s'%(sym.latex(sym.sympify(Q)))))\n",
    "display(Math('R = %s'%(sym.latex(sym.sympify(R)))))"
   ]
  },
  {
   "cell_type": "code",
   "execution_count": 30,
   "id": "993bf917",
   "metadata": {},
   "outputs": [
    {
     "data": {
      "text/plain": [
       "array([[ 1.,  1., -2.],\n",
       "       [ 3., -1.,  1.]])"
      ]
     },
     "execution_count": 30,
     "metadata": {},
     "output_type": "execute_result"
    }
   ],
   "source": [
    "# now get the original matrix (A) back:\n",
    "np.linalg.inv(Q.T)@R"
   ]
  },
  {
   "cell_type": "code",
   "execution_count": 48,
   "id": "c5365d45",
   "metadata": {},
   "outputs": [
    {
     "data": {
      "image/png": "[encoded data removed]",
      "text/plain": [
       "<Figure size 432x288 with 1 Axes>"
      ]
     },
     "metadata": {
      "needs_background": "light"
     },
     "output_type": "display_data"
    }
   ],
   "source": [
    "# plotting:\n",
    "\n",
    "color = 'krg'\n",
    "\n",
    "cols = np.shape(A)[1]\n",
    "for i in range(0,cols):\n",
    "    \n",
    "    # plot the original matrix\n",
    "    plt.plot([0,A[0,i]],[1,A[1,i]],color[i])\n",
    "    \n",
    "    # plot the orthogonalized vector(Q);\n",
    "    if i<np.shape(Q)[1]: # plot only when the i < 2. we do this because Q is of shape 2x2 whereas other matrices are 2x3\n",
    "        plt.plot([0,Q[0,i]],[1,Q[1,i]],color[i],linestyle='--')\n",
    "        \n",
    "    # plot the residual(R):\n",
    "    plt.plot([0,R[0,i]],[1,R[1,i]],color[i],linestyle=':')\n",
    "    \n",
    "# legend\n",
    "plt.legend(['$M_1$','$Q_1$','$R_1$'])\n",
    "    \n",
    "# decorating the plot\n",
    "# plt.axis('square')\n",
    "plt.xlim([-4,4])\n",
    "plt.ylim([-4,4])\n",
    "plt.grid()\n",
    "    \n",
    "\n",
    "        \n",
    "plt.show()    \n",
    "        \n",
    "    "
   ]
  },
  {
   "cell_type": "markdown",
   "id": "9d43c887",
   "metadata": {},
   "source": [
    "# exploration,analysis and freethrows"
   ]
  },
  {
   "cell_type": "code",
   "execution_count": 31,
   "id": "e34d77ac",
   "metadata": {},
   "outputs": [
    {
     "data": {
      "image/png": "[encoded data removed]",
      "text/latex": [
       "$\\displaystyle \\left( 2, \\  3\\right)$"
      ],
      "text/plain": [
       "(2, 3)"
      ]
     },
     "execution_count": 31,
     "metadata": {},
     "output_type": "execute_result"
    }
   ],
   "source": [
    "np.shape(A)"
   ]
  },
  {
   "cell_type": "code",
   "execution_count": 34,
   "id": "160f45cf",
   "metadata": {},
   "outputs": [
    {
     "data": {
      "text/plain": [
       "array([[ 1,  1, -2],\n",
       "       [ 3, -1,  1]])"
      ]
     },
     "execution_count": 34,
     "metadata": {},
     "output_type": "execute_result"
    }
   ],
   "source": [
    "A"
   ]
  },
  {
   "cell_type": "code",
   "execution_count": 33,
   "id": "6edcae6b",
   "metadata": {},
   "outputs": [
    {
     "data": {
      "text/plain": [
       "1"
      ]
     },
     "execution_count": 33,
     "metadata": {},
     "output_type": "execute_result"
    }
   ],
   "source": [
    "A[0,0]"
   ]
  },
  {
   "cell_type": "code",
   "execution_count": 35,
   "id": "18c13095",
   "metadata": {},
   "outputs": [
    {
     "data": {
      "text/plain": [
       "3"
      ]
     },
     "execution_count": 35,
     "metadata": {},
     "output_type": "execute_result"
    }
   ],
   "source": [
    "A[1,0]"
   ]
  },
  {
   "cell_type": "code",
   "execution_count": 37,
   "id": "988695cf",
   "metadata": {},
   "outputs": [
    {
     "data": {
      "image/png": "[encoded data removed]",
      "text/latex": [
       "$\\displaystyle \\left( 2, \\  2\\right)$"
      ],
      "text/plain": [
       "(2, 2)"
      ]
     },
     "execution_count": 37,
     "metadata": {},
     "output_type": "execute_result"
    }
   ],
   "source": [
    "np.shape(Q)"
   ]
  },
  {
   "cell_type": "markdown",
   "id": "e71ba93c",
   "metadata": {},
   "source": [
    "# conclusion:\n",
    "1. **There will always be the sign uncertainty about the perpendicular vectors. we just know that the orthogonal matrix is going to have column vectors that are perpendicular(orthogonal) to the original matrix vectors but, a big butt, it can be perpendicular `in any direction`, so it can be in the positive direction or negative direction, that is always uncertain.**\n",
    "----\n",
    "2. Q and A are orthogonal to each other.\n",
    "----\n",
    "3. R is just residual using which we can get back the A even after orthogonalization is done. so, there is no information loss or shoving the information to oblivion during transformation."
   ]
  },
  {
   "cell_type": "code",
   "execution_count": null,
   "id": "70d253da",
   "metadata": {},
   "outputs": [],
   "source": []
  },
  {
   "cell_type": "markdown",
   "id": "99046301",
   "metadata": {},
   "source": [
    "# day 245.day249"
   ]
  },
  {
   "cell_type": "code",
   "execution_count": 1,
   "id": "1fcf7df3",
   "metadata": {},
   "outputs": [],
   "source": [
    "import numpy as np\n",
    "import sympy as sym\n",
    "from IPython.display import display,Math\n",
    "sym.init_printing()\n",
    "import matplotlib.pyplot as plt"
   ]
  },
  {
   "cell_type": "markdown",
   "id": "914977c8",
   "metadata": {},
   "source": [
    "# Goal: Create Gram-schmidt algorithm to compute Q.\n",
    "\n",
    "1. start with a square matrix.\n",
    "2. check Q^T.Q = I\n",
    "3. verify the Q from gram-schmidt == Q from QR function in linalg.\n",
    "4. Test also for rectangular matrix."
   ]
  },
  {
   "cell_type": "code",
   "execution_count": 10,
   "id": "e27edd8d",
   "metadata": {},
   "outputs": [
    {
     "data": {
      "text/plain": [
       "array([[ 9.27172650e-01,  6.28036983e-16, -3.74634325e-01],\n",
       "       [ 2.64906471e-01,  7.07106781e-01,  6.55610068e-01],\n",
       "       [ 2.64906471e-01, -7.07106781e-01,  6.55610068e-01]])"
      ]
     },
     "execution_count": 10,
     "metadata": {},
     "output_type": "execute_result"
    }
   ],
   "source": [
    "# 1. start with square matrix\n",
    "m = np.random.randint(1,9,(3,3))\n",
    "\n",
    "# gram_schmidt algorithm:\n",
    "q_matrix = np.zeros(np.shape(m))\n",
    "\n",
    "# initializing the 1st col\n",
    "q_matrix[:,0] = 1/np.linalg.norm(m[:,0]) * m[:,0]\n",
    "\n",
    "# building the subsequent cols using a for loop for scalability:\n",
    "col_length = np.shape(q_matrix)[1]\n",
    "for i in range(1,col_length):\n",
    "    cur_col = m[:,i]\n",
    "    unprocessed_q = m[:,i]\n",
    "    \n",
    "    for j in range(i):\n",
    "        prev_col = q_matrix[:,j]\n",
    "        unprocessed_q = unprocessed_q - (prev_col.T@cur_col)/(prev_col.T@prev_col) *prev_col\n",
    "    \n",
    "    # finally normalizing\n",
    "    q = 1/np.linalg.norm(unprocessed_q) * unprocessed_q\n",
    "        \n",
    "    # updating the q_matrix\n",
    "    q_matrix[:,i] = q\n",
    "    \n",
    "q_matrix"
   ]
  },
  {
   "cell_type": "code",
   "execution_count": 11,
   "id": "4bea884e",
   "metadata": {},
   "outputs": [
    {
     "data": {
      "text/plain": [
       "array([[ 1.00000000e+00,  7.69034948e-16,  8.81428917e-16],\n",
       "       [ 7.69034948e-16,  1.00000000e+00, -1.45089523e-15],\n",
       "       [ 8.81428917e-16, -1.45089523e-15,  1.00000000e+00]])"
      ]
     },
     "execution_count": 11,
     "metadata": {},
     "output_type": "execute_result"
    }
   ],
   "source": [
    "# 2. check q.T@q = I\n",
    "\n",
    "q_matrix.T@q_matrix # no it is not exactly I"
   ]
  },
  {
   "cell_type": "code",
   "execution_count": 12,
   "id": "89fece7a",
   "metadata": {},
   "outputs": [
    {
     "data": {
      "image/png": "[encoded data removed]",
      "text/plain": [
       "<Figure size 432x288 with 1 Axes>"
      ]
     },
     "metadata": {
      "needs_background": "light"
     },
     "output_type": "display_data"
    }
   ],
   "source": [
    "plt.imshow(q_matrix.T@q_matrix)\n",
    "plt.show()"
   ]
  },
  {
   "cell_type": "code",
   "execution_count": 13,
   "id": "d3fdcf34",
   "metadata": {},
   "outputs": [
    {
     "data": {
      "text/plain": [
       "array([[-0.92717265,  0.        , -0.37463432],\n",
       "       [-0.26490647, -0.70710678,  0.65561007],\n",
       "       [-0.26490647,  0.70710678,  0.65561007]])"
      ]
     },
     "execution_count": 13,
     "metadata": {},
     "output_type": "execute_result"
    }
   ],
   "source": [
    "# 3. verify the Q from gram-schmidt == Q from np.linalg.qr(matrix,'complete')\n",
    "\n",
    "bin_q_matrix,bin_r_matrix = np.linalg.qr(m,'complete')\n",
    "bin_q_matrix"
   ]
  },
  {
   "cell_type": "code",
   "execution_count": 22,
   "id": "c7c09090",
   "metadata": {},
   "outputs": [
    {
     "data": {
      "text/plain": [
       "array([[ 0.14002801,  0.96637494, -0.21566555,  0.70710678],\n",
       "       [ 0.98019606, -0.16609569, -0.10783277,  0.70710678],\n",
       "       [ 0.14002801,  0.19629491,  0.97049496,  0.        ]])"
      ]
     },
     "execution_count": 22,
     "metadata": {},
     "output_type": "execute_result"
    }
   ],
   "source": [
    "# 4. verify also for rectangular matrix:\n",
    "m = np.random.randint(1,9,(3,4))\n",
    "\n",
    "# gram_schmidt algorithm:\n",
    "q_matrix = np.zeros(np.shape(m))\n",
    "\n",
    "# initializing the 1st col\n",
    "q_matrix[:,0] = 1/np.linalg.norm(m[:,0]) * m[:,0] \n",
    "\n",
    "# building the subsequent cols using a for loop for scalability:\n",
    "col_length = np.shape(q_matrix)[1]\n",
    "for i in range(1,col_length):\n",
    "    cur_col = m[:,i]\n",
    "    unprocessed_q = m[:,i]\n",
    "    \n",
    "    for j in range(i):\n",
    "        prev_col = q_matrix[:,j]\n",
    "        unprocessed_q = unprocessed_q - (prev_col.T@cur_col)/(prev_col.T@prev_col) *prev_col\n",
    "    \n",
    "    # finally normalizing\n",
    "    q = 1/np.linalg.norm(unprocessed_q) * unprocessed_q\n",
    "        \n",
    "    # updating the q_matrix\n",
    "    q_matrix[:,i] = q\n",
    "    \n",
    "q_matrix"
   ]
  },
  {
   "cell_type": "code",
   "execution_count": 23,
   "id": "18d24bb5",
   "metadata": {},
   "outputs": [
    {
     "data": {
      "text/plain": [
       "<matplotlib.image.AxesImage at 0x21f8591ebb0>"
      ]
     },
     "execution_count": 23,
     "metadata": {},
     "output_type": "execute_result"
    },
    {
     "data": {
      "image/png": "[encoded data removed]",
      "text/plain": [
       "<Figure size 432x288 with 1 Axes>"
      ]
     },
     "metadata": {
      "needs_background": "light"
     },
     "output_type": "display_data"
    }
   ],
   "source": [
    "plt.imshow(q_matrix.T@q_matrix)"
   ]
  },
  {
   "cell_type": "code",
   "execution_count": 24,
   "id": "82258aec",
   "metadata": {},
   "outputs": [
    {
     "data": {
      "text/plain": [
       "array([[-0.14002801,  0.96637494, -0.21566555],\n",
       "       [-0.98019606, -0.16609569, -0.10783277],\n",
       "       [-0.14002801,  0.19629491,  0.97049496]])"
      ]
     },
     "execution_count": 24,
     "metadata": {},
     "output_type": "execute_result"
    }
   ],
   "source": [
    "bin_q_matrix,bin_r_matrix = np.linalg.qr(m,'complete')\n",
    "bin_q_matrix"
   ]
  },
  {
   "cell_type": "markdown",
   "id": "49f1ed5d",
   "metadata": {},
   "source": [
    "# exploration,analysis and freethrows"
   ]
  },
  {
   "cell_type": "code",
   "execution_count": 22,
   "id": "35cefd50",
   "metadata": {},
   "outputs": [
    {
     "data": {
      "image/png": "[encoded data removed]",
      "text/latex": [
       "$\\displaystyle -5.55111512312578 \\cdot 10^{-17}$"
      ],
      "text/plain": [
       "-5.551115123125783e-17"
      ]
     },
     "execution_count": 22,
     "metadata": {},
     "output_type": "execute_result"
    }
   ],
   "source": [
    "bin_q_matrix[:,0].T@bin_q_matrix[:,1]"
   ]
  },
  {
   "cell_type": "code",
   "execution_count": 21,
   "id": "191881e1",
   "metadata": {},
   "outputs": [
    {
     "data": {
      "image/png": "[encoded data removed]",
      "text/latex": [
       "$\\displaystyle -0.787559892379714$"
      ],
      "text/plain": [
       "-0.7875598923797138"
      ]
     },
     "execution_count": 21,
     "metadata": {},
     "output_type": "execute_result"
    }
   ],
   "source": [
    "q_matrix[:,0].T@q_matrix[:,1]"
   ]
  },
  {
   "cell_type": "code",
   "execution_count": 49,
   "id": "2c16092d",
   "metadata": {},
   "outputs": [
    {
     "data": {
      "text/plain": [
       "array([ 0.65508557, -0.71930965, -0.23120667])"
      ]
     },
     "execution_count": 49,
     "metadata": {},
     "output_type": "execute_result"
    }
   ],
   "source": [
    "cur_col = m[:,1]\n",
    "prev_col = 1/np.linalg.norm(m[:,0]) * m[:,0]\n",
    "\n",
    "q_cur_col = cur_col - (prev_col.T@cur_col)/(prev_col.T@prev_col) * (prev_col)\n",
    "\n",
    "1/np.linalg.norm(q_cur_col) * q_cur_col"
   ]
  },
  {
   "cell_type": "code",
   "execution_count": 48,
   "id": "0ef8acce",
   "metadata": {},
   "outputs": [
    {
     "data": {
      "text/plain": [
       "(array([8, 6, 4]), array([8, 6, 4]))"
      ]
     },
     "execution_count": 48,
     "metadata": {},
     "output_type": "execute_result"
    }
   ],
   "source": [
    "cur_col = m[:,0]\n",
    "cur_col,cur_col.copy()"
   ]
  },
  {
   "cell_type": "markdown",
   "id": "c3d9f58b",
   "metadata": {},
   "source": [
    "# conclusion:\n",
    "\n",
    "* signs of our manual q matrix was polorized to that of q matrix form in-built qr method. But it turned out that this sign uncertainty is so inherent in linear subspaces when doing transformation.\n",
    "* for a rectangular matrix, there is some debris at the edge; the last column must not have been included but it is causing non-identity matrix when the q_matrix is transposed and matmultplied with q."
   ]
  },
  {
   "cell_type": "code",
   "execution_count": null,
   "id": "a1bf8495",
   "metadata": {},
   "outputs": [],
   "source": []
  },
  {
   "cell_type": "markdown",
   "id": "3d807609",
   "metadata": {},
   "source": [
    "# Matrix Inverse via QR decomposition:\n",
    "\n",
    "# $$ A = QR  $$\n",
    "\n",
    "# $$ \\rightarrow \\text{ where, A,Q,R are square matrices.} $$\n",
    "\n",
    "# $$ A^{-1} = (QR)^{-1} $$\n",
    "\n",
    "# $$ A^{-1} = R^{-1} Q^{-1} $$\n",
    "\n",
    "# $$ A^{-1} = R^{-1}Q^{T} $$"
   ]
  },
  {
   "cell_type": "code",
   "execution_count": 28,
   "id": "a7cad43e",
   "metadata": {},
   "outputs": [
    {
     "data": {
      "text/plain": [
       "array([[1, 8, 4],\n",
       "       [1, 4, 6],\n",
       "       [2, 4, 1]])"
      ]
     },
     "metadata": {},
     "output_type": "display_data"
    },
    {
     "data": {
      "text/plain": [
       "array([[1., 8., 4.],\n",
       "       [1., 4., 6.],\n",
       "       [2., 4., 1.]])"
      ]
     },
     "metadata": {},
     "output_type": "display_data"
    }
   ],
   "source": [
    "# prove A = QR\n",
    "\n",
    "A = np.random.randint(1,9,(3,3))\n",
    "\n",
    "Q,R = np.linalg.qr(A,'complete')\n",
    "\n",
    "rhs = Q@R\n",
    "\n",
    "lhs = A\n",
    "\n",
    "display(lhs,rhs)"
   ]
  },
  {
   "cell_type": "code",
   "execution_count": 29,
   "id": "85733fde",
   "metadata": {},
   "outputs": [
    {
     "data": {
      "text/plain": [
       "array([[-0.40824829, -0.40824829, -0.81649658],\n",
       "       [ 0.86164044,  0.12309149, -0.49236596],\n",
       "       [ 0.30151134, -0.90453403,  0.30151134]])"
      ]
     },
     "metadata": {},
     "output_type": "display_data"
    },
    {
     "data": {
      "text/plain": [
       "array([[-0.40824829, -0.40824829, -0.81649658],\n",
       "       [ 0.86164044,  0.12309149, -0.49236596],\n",
       "       [ 0.30151134, -0.90453403,  0.30151134]])"
      ]
     },
     "metadata": {},
     "output_type": "display_data"
    }
   ],
   "source": [
    "# prove Q^-1 = Q^T\n",
    "\n",
    "lhs = np.linalg.inv(Q)\n",
    "rhs = Q.T\n",
    "\n",
    "display(lhs,rhs)"
   ]
  },
  {
   "cell_type": "markdown",
   "id": "3b84d50d",
   "metadata": {},
   "source": [
    "# conclusion:\n",
    "\n",
    "*  if the matrix is orthogonal, then the transpose of the orthogonal matrix is = inverse of the orthogonal matrix."
   ]
  },
  {
   "cell_type": "code",
   "execution_count": 30,
   "id": "03eebf8a",
   "metadata": {},
   "outputs": [
    {
     "data": {
      "text/plain": [
       "array([[-0.38461538,  0.15384615,  0.61538462],\n",
       "       [ 0.21153846, -0.13461538, -0.03846154],\n",
       "       [-0.07692308,  0.23076923, -0.07692308]])"
      ]
     },
     "metadata": {},
     "output_type": "display_data"
    },
    {
     "data": {
      "text/plain": [
       "array([[-0.38461538,  0.15384615,  0.61538462],\n",
       "       [ 0.21153846, -0.13461538, -0.03846154],\n",
       "       [-0.07692308,  0.23076923, -0.07692308]])"
      ]
     },
     "metadata": {},
     "output_type": "display_data"
    }
   ],
   "source": [
    "# find the inverse of A via QR decomposition. prove A^{-1} = R^{-1}Q^{T}\n",
    "\n",
    "lhs = np.linalg.inv(A)\n",
    "rhs = np.linalg.inv(R)@Q.T\n",
    "\n",
    "display(lhs,rhs)"
   ]
  },
  {
   "cell_type": "code",
   "execution_count": null,
   "id": "8e2b986a",
   "metadata": {},
   "outputs": [],
   "source": []
  },
  {
   "cell_type": "markdown",
   "id": "1e323b84",
   "metadata": {},
   "source": [
    "# code challenge:\n",
    "\n",
    "## goal:\n",
    "1. create a large 100*100 matrix.\n",
    "2. find its inverse via normal method and name it as lhs\n",
    "3. find its inverse via QR decomposition(using Q and R) and name it rhs.\n",
    "4. plot both side by side.\n"
   ]
  },
  {
   "cell_type": "code",
   "execution_count": 53,
   "id": "87a00a0f",
   "metadata": {},
   "outputs": [
    {
     "data": {
      "image/png": "[encoded data removed]",
      "text/plain": [
       "<Figure size 900x600 with 2 Axes>"
      ]
     },
     "metadata": {
      "needs_background": "light"
     },
     "output_type": "display_data"
    }
   ],
   "source": [
    "# create a large 100*100 matrix\n",
    "A = np.random.rand(100,100) # it needs to be square otherwise you can't find inverse for it.\n",
    "\n",
    "# inverse via normal method\n",
    "lhs = np.linalg.inv(A)\n",
    "\n",
    "# inverse using Q and R.\n",
    "Q,R = np.linalg.qr(A,'complete')\n",
    "rhs =  np.linalg.inv(R) @ np.linalg.inv(Q)\n",
    "\n",
    "# plot them both side by side\n",
    "fig,ax = plt.subplots(1,2,dpi=150)\n",
    "\n",
    "ax[0].imshow(A@lhs)\n",
    "ax[0].set_title('$ A.A^{-1} $')\n",
    "ax[0].axis('off')\n",
    "\n",
    "ax[1].imshow(A@rhs)\n",
    "ax[1].set_title('$ A.Q^{-1}.R^{-1} $')\n",
    "ax[1].axis('off')\n",
    "\n",
    "\n",
    "plt.show()"
   ]
  },
  {
   "cell_type": "code",
   "execution_count": null,
   "id": "09f9191a",
   "metadata": {},
   "outputs": [],
   "source": []
  },
  {
   "cell_type": "markdown",
   "id": "c523e0c1",
   "metadata": {},
   "source": [
    "# day 254,day 258"
   ]
  },
  {
   "cell_type": "code",
   "execution_count": 1,
   "id": "11955d38",
   "metadata": {},
   "outputs": [],
   "source": [
    "import numpy as np\n",
    "import sympy as sym\n",
    "from IPython.display import display,Math\n",
    "sym.init_printing()\n",
    "import matplotlib.pyplot as plt"
   ]
  },
  {
   "cell_type": "markdown",
   "id": "a1c8aeff",
   "metadata": {},
   "source": [
    "# SHERMAN-MORRISON FORMULA"
   ]
  },
  {
   "cell_type": "markdown",
   "id": "c57265fb",
   "metadata": {},
   "source": [
    "# code challenge:\n",
    "\n",
    "1. prove this claim\n",
    "2. find a failing condition.\n",
    "3. implement an example in code.\n",
    "\n",
    "$$ A = I - ab^{T} $$\n",
    "\n",
    "$$ A^{-1} = I + \\frac{ab^{T}}{1-a^{T}b} $$\n",
    "\n",
    "\n",
    "## 1. To prove that the second equation is the inverse of the first equation.\n",
    "* you must know that A.A{inv} = I so the if the second equation is indeed the inverse of the first then A.A{inv} must give identity matrix.\n",
    "* a and b are column vectors.\n",
    "*  I = 1\n",
    "* b.T a = a.T b (commutative nature of dot products).\n",
    "\n",
    "![sdfsfs](images/11_12_23.png) \n",
    "\n",
    "\n",
    "## 2. find a failing condition.\n",
    "* the condtion fails when a^{T}b = 1 making the denominator go zero.\n",
    "* to get a^{T}b = 1:\n",
    "   1. first uniformalize the a by dividing each of its component by its total magnitude: a/np.linalg.norm(a).\n",
    "   2. make b = a.\n",
    "   \n",
    "   \n",
    " ## 3. deep understanding about the magnitude of a vector.\n",
    "$$ \\text{magnitude } = \\sqrt{a^{T} . a} $$\n",
    "$$ \\text{magnitude }  =  \\sum_{i=0}^{n} a_{i}a_{i} $$\n",
    "$$ \\text{magnitude } = c = \\sqrt{a^{2} + b^{2} } $$\n",
    "  "
   ]
  },
  {
   "cell_type": "code",
   "execution_count": 49,
   "id": "f3c52125",
   "metadata": {},
   "outputs": [
    {
     "data": {
      "text/plain": [
       "array([[ 1.00000000e+00, -1.77635684e-15,  1.77635684e-15,\n",
       "         2.66453526e-15,  7.10542736e-15],\n",
       "       [ 4.44089210e-16,  1.00000000e+00,  4.44089210e-16,\n",
       "         6.66133815e-16,  1.77635684e-15],\n",
       "       [ 8.88178420e-16, -8.88178420e-16,  1.00000000e+00,\n",
       "        -4.44089210e-16,  0.00000000e+00],\n",
       "       [ 4.44089210e-16,  0.00000000e+00, -4.44089210e-16,\n",
       "         1.00000000e+00,  0.00000000e+00],\n",
       "       [ 1.36002321e-15, -4.16333634e-16, -1.11022302e-16,\n",
       "         2.01227923e-15,  1.00000000e+00]])"
      ]
     },
     "execution_count": 49,
     "metadata": {},
     "output_type": "execute_result"
    }
   ],
   "source": [
    "# nomenclatures and their meanings\n",
    "\"\"\"\n",
    "1. let s stand for A\n",
    "2. let t stand for A^{-1}\n",
    "\n",
    "\"\"\"\n",
    "# preparing the ingredients\n",
    "m = 5 # determines the rows\n",
    "a = np.random.randint(1,9,(m,1))\n",
    "b = np.random.randint(1,9,(m,1))\n",
    "I = np.eye(m)\n",
    "\n",
    "\n",
    "A = I - (a@b.T)\n",
    "A_inv = I + (a@b.T/(1-a.T@b))\n",
    "\n",
    "\n",
    "# if t is the inverse of s then s@t must be = I. lets check!!!\n",
    "A@A_inv"
   ]
  },
  {
   "cell_type": "markdown",
   "id": "8ed7a8b2",
   "metadata": {},
   "source": [
    "# exploration, analysis and freethrows"
   ]
  },
  {
   "cell_type": "code",
   "execution_count": 50,
   "id": "fc0e08a2",
   "metadata": {},
   "outputs": [
    {
     "data": {
      "text/plain": [
       "array([[8],\n",
       "       [2],\n",
       "       [4],\n",
       "       [1],\n",
       "       [3]])"
      ]
     },
     "execution_count": 50,
     "metadata": {},
     "output_type": "execute_result"
    }
   ],
   "source": [
    "a"
   ]
  },
  {
   "cell_type": "code",
   "execution_count": 51,
   "id": "105e174c",
   "metadata": {},
   "outputs": [
    {
     "data": {
      "text/plain": [
       "array([[8],\n",
       "       [8],\n",
       "       [7],\n",
       "       [4],\n",
       "       [8]])"
      ]
     },
     "execution_count": 51,
     "metadata": {},
     "output_type": "execute_result"
    }
   ],
   "source": [
    "b"
   ]
  },
  {
   "cell_type": "code",
   "execution_count": 59,
   "id": "f76252ab",
   "metadata": {},
   "outputs": [
    {
     "data": {
      "text/plain": [
       "array([[1., 0., 0., 0., 0.],\n",
       "       [0., 1., 0., 0., 0.],\n",
       "       [0., 0., 1., 0., 0.],\n",
       "       [0., 0., 0., 1., 0.],\n",
       "       [0., 0., 0., 0., 1.]])"
      ]
     },
     "execution_count": 59,
     "metadata": {},
     "output_type": "execute_result"
    }
   ],
   "source": [
    "I"
   ]
  },
  {
   "cell_type": "code",
   "execution_count": 60,
   "id": "c6c32fac",
   "metadata": {},
   "outputs": [
    {
     "data": {
      "text/plain": [
       "array([[64, 64, 56, 32, 64],\n",
       "       [16, 16, 14,  8, 16],\n",
       "       [32, 32, 28, 16, 32],\n",
       "       [ 8,  8,  7,  4,  8],\n",
       "       [24, 24, 21, 12, 24]])"
      ]
     },
     "execution_count": 60,
     "metadata": {},
     "output_type": "execute_result"
    }
   ],
   "source": [
    "a@b.T"
   ]
  },
  {
   "cell_type": "code",
   "execution_count": 52,
   "id": "f8fca54a",
   "metadata": {},
   "outputs": [
    {
     "data": {
      "text/plain": [
       "array([[ -2., -12., -15., -18., -21.],\n",
       "       [ -1.,  -3.,  -5.,  -6.,  -7.],\n",
       "       [ -8., -32., -39., -48., -56.],\n",
       "       [ -7., -28., -35., -41., -49.],\n",
       "       [ -5., -20., -25., -30., -34.]])"
      ]
     },
     "execution_count": 52,
     "metadata": {},
     "output_type": "execute_result"
    }
   ],
   "source": [
    "s"
   ]
  },
  {
   "cell_type": "code",
   "execution_count": 53,
   "id": "67a611d3",
   "metadata": {},
   "outputs": [
    {
     "data": {
      "text/plain": [
       "array([[ 0.97560976, -0.09756098, -0.12195122, -0.14634146, -0.17073171],\n",
       "       [-0.00813008,  0.96747967, -0.04065041, -0.04878049, -0.05691057],\n",
       "       [-0.06504065, -0.2601626 ,  0.67479675, -0.3902439 , -0.45528455],\n",
       "       [-0.05691057, -0.22764228, -0.28455285,  0.65853659, -0.39837398],\n",
       "       [-0.04065041, -0.16260163, -0.20325203, -0.24390244,  0.71544715]])"
      ]
     },
     "execution_count": 53,
     "metadata": {},
     "output_type": "execute_result"
    }
   ],
   "source": [
    "t"
   ]
  },
  {
   "cell_type": "code",
   "execution_count": 55,
   "id": "f11fd61e",
   "metadata": {},
   "outputs": [
    {
     "data": {
      "image/png": "[encoded data removed]",
      "text/latex": [
       "$\\displaystyle 9.69535971483266$"
      ],
      "text/plain": [
       "9.695359714832659"
      ]
     },
     "execution_count": 55,
     "metadata": {},
     "output_type": "execute_result"
    }
   ],
   "source": [
    "np.linalg.norm(a)"
   ]
  },
  {
   "cell_type": "code",
   "execution_count": 56,
   "id": "afafe6cc",
   "metadata": {},
   "outputs": [
    {
     "data": {
      "text/plain": [
       "array([[9.69535971]])"
      ]
     },
     "execution_count": 56,
     "metadata": {},
     "output_type": "execute_result"
    }
   ],
   "source": [
    "np.sqrt(a.T@a)"
   ]
  },
  {
   "cell_type": "code",
   "execution_count": 57,
   "id": "8767325b",
   "metadata": {},
   "outputs": [
    {
     "data": {
      "text/plain": [
       "array([[0.825137  ],\n",
       "       [0.20628425],\n",
       "       [0.4125685 ],\n",
       "       [0.10314212],\n",
       "       [0.30942637]])"
      ]
     },
     "execution_count": 57,
     "metadata": {},
     "output_type": "execute_result"
    }
   ],
   "source": [
    "# to get the unit vector (to get the a to have values between 0 and 1)\n",
    "s = a/np.linalg.norm(a)\n",
    "\n",
    "s \n"
   ]
  },
  {
   "cell_type": "code",
   "execution_count": 58,
   "id": "27370104",
   "metadata": {},
   "outputs": [
    {
     "data": {
      "text/plain": [
       "array([[1.]])"
      ]
     },
     "execution_count": 58,
     "metadata": {},
     "output_type": "execute_result"
    }
   ],
   "source": [
    "\n",
    "\n",
    "s.T@s "
   ]
  },
  {
   "cell_type": "code",
   "execution_count": null,
   "id": "8da4bdaa",
   "metadata": {},
   "outputs": [],
   "source": []
  },
  {
   "cell_type": "markdown",
   "id": "578a6e6f",
   "metadata": {},
   "source": [
    "# day 258"
   ]
  },
  {
   "cell_type": "code",
   "execution_count": 2,
   "id": "8b536df9",
   "metadata": {},
   "outputs": [],
   "source": [
    "import numpy as np\n",
    "import sympy as sym\n",
    "from IPython.display import display,Math\n",
    "sym.init_printing()\n",
    "import matplotlib.pyplot as plt"
   ]
  },
  {
   "cell_type": "markdown",
   "id": "bf26d408",
   "metadata": {},
   "source": [
    "# code challenge: prove A.T @ A = R.T @ R (R from QR decomposition)\n"
   ]
  },
  {
   "cell_type": "code",
   "execution_count": 20,
   "id": "73aac4ae",
   "metadata": {},
   "outputs": [],
   "source": [
    "A = np.random.randint(1,9,(3,3))\n",
    "\n",
    "Q,R = np.linalg.qr(A,'complete')\n",
    "\n",
    "lhs = A.T@A\n",
    "rhs = R.T@R"
   ]
  },
  {
   "cell_type": "markdown",
   "id": "32d33b61",
   "metadata": {},
   "source": [
    "# exploration,analysis and freethrows"
   ]
  },
  {
   "cell_type": "code",
   "execution_count": 21,
   "id": "37add87f",
   "metadata": {},
   "outputs": [
    {
     "data": {
      "text/plain": [
       "array([[6, 7, 4],\n",
       "       [1, 6, 3],\n",
       "       [1, 7, 1]])"
      ]
     },
     "execution_count": 21,
     "metadata": {},
     "output_type": "execute_result"
    }
   ],
   "source": [
    "A"
   ]
  },
  {
   "cell_type": "code",
   "execution_count": 22,
   "id": "e23190f4",
   "metadata": {},
   "outputs": [
    {
     "data": {
      "text/plain": [
       "array([[-6.164414  , -8.92217816, -4.54219979],\n",
       "       [ 0.        , -7.37527876, -1.69128308],\n",
       "       [ 0.        ,  0.        , -1.58366113]])"
      ]
     },
     "execution_count": 22,
     "metadata": {},
     "output_type": "execute_result"
    }
   ],
   "source": [
    "R"
   ]
  },
  {
   "cell_type": "code",
   "execution_count": 23,
   "id": "69373fba",
   "metadata": {},
   "outputs": [
    {
     "data": {
      "text/plain": [
       "array([[ 38,  55,  28],\n",
       "       [ 55, 134,  53],\n",
       "       [ 28,  53,  26]])"
      ]
     },
     "execution_count": 23,
     "metadata": {},
     "output_type": "execute_result"
    }
   ],
   "source": [
    "lhs"
   ]
  },
  {
   "cell_type": "code",
   "execution_count": 24,
   "id": "32f1f3e1",
   "metadata": {},
   "outputs": [
    {
     "data": {
      "text/plain": [
       "array([[ 38.,  55.,  28.],\n",
       "       [ 55., 134.,  53.],\n",
       "       [ 28.,  53.,  26.]])"
      ]
     },
     "execution_count": 24,
     "metadata": {},
     "output_type": "execute_result"
    }
   ],
   "source": [
    "rhs"
   ]
  },
  {
   "cell_type": "markdown",
   "id": "824811d7",
   "metadata": {},
   "source": [
    "# Rigorous formal proof for why A.T@A = R.T@R\n",
    "\n",
    "$$ A = QR $$\n",
    "$$ \\downarrow $$\n",
    "$$ A^{T} = (QR)^{T} $$\n",
    "$$ \\downarrow $$ \n",
    "$$ A^{T}.A = (QR)^{T}.A $$\n",
    "$$ \\downarrow $$\n",
    "$$ A^{T}.A = (Q^{T} R^{T} ).A $$\n",
    "$$ \\downarrow $$ \n",
    "$$ A^{T}.A = R^{T} (Q^{T}.A) $$\n",
    "$$ \\downarrow $$\n",
    "$$ A^{T}.A = R^{T}.R $$\n",
    "$$ \\text{Hence proved!!! } $$"
   ]
  },
  {
   "cell_type": "code",
   "execution_count": 27,
   "id": "061d799e",
   "metadata": {},
   "outputs": [
    {
     "data": {
      "text/plain": [
       "array([[6, 7, 4],\n",
       "       [1, 6, 3],\n",
       "       [1, 7, 1]])"
      ]
     },
     "execution_count": 27,
     "metadata": {},
     "output_type": "execute_result"
    }
   ],
   "source": [
    "A"
   ]
  },
  {
   "cell_type": "code",
   "execution_count": 28,
   "id": "3bea6992",
   "metadata": {},
   "outputs": [
    {
     "data": {
      "text/plain": [
       "array([[6., 7., 4.],\n",
       "       [1., 6., 3.],\n",
       "       [1., 7., 1.]])"
      ]
     },
     "execution_count": 28,
     "metadata": {},
     "output_type": "execute_result"
    }
   ],
   "source": [
    "Q@R"
   ]
  },
  {
   "cell_type": "code",
   "execution_count": 30,
   "id": "e1562404",
   "metadata": {},
   "outputs": [
    {
     "data": {
      "text/plain": [
       "array([[-6.164414  , -8.92217816, -4.54219979],\n",
       "       [ 0.        , -7.37527876, -1.69128308],\n",
       "       [ 0.        ,  0.        , -1.58366113]])"
      ]
     },
     "execution_count": 30,
     "metadata": {},
     "output_type": "execute_result"
    }
   ],
   "source": [
    "R"
   ]
  },
  {
   "cell_type": "code",
   "execution_count": 29,
   "id": "0fa3aa69",
   "metadata": {},
   "outputs": [
    {
     "data": {
      "text/plain": [
       "array([[-6.16441400e+00, -8.92217816e+00, -4.54219979e+00],\n",
       "       [-2.22044605e-16, -7.37527876e+00, -1.69128308e+00],\n",
       "       [ 0.00000000e+00, -5.55111512e-16, -1.58366113e+00]])"
      ]
     },
     "execution_count": 29,
     "metadata": {},
     "output_type": "execute_result"
    }
   ],
   "source": [
    "Q.T@A"
   ]
  },
  {
   "cell_type": "code",
   "execution_count": 31,
   "id": "adee910a",
   "metadata": {},
   "outputs": [
    {
     "data": {
      "text/plain": [
       "array([[1.00000000e+00, 1.36395768e-18, 4.87547014e-18],\n",
       "       [1.36395768e-18, 1.00000000e+00, 1.34476688e-16],\n",
       "       [4.87547014e-18, 1.34476688e-16, 1.00000000e+00]])"
      ]
     },
     "execution_count": 31,
     "metadata": {},
     "output_type": "execute_result"
    }
   ],
   "source": [
    "Q.T@Q"
   ]
  },
  {
   "cell_type": "code",
   "execution_count": null,
   "id": "eaee1aac",
   "metadata": {},
   "outputs": [],
   "source": []
  },
  {
   "cell_type": "markdown",
   "id": "9a9675ce",
   "metadata": {},
   "source": [
    "# day 267"
   ]
  },
  {
   "cell_type": "code",
   "execution_count": 1,
   "id": "4e62f06f",
   "metadata": {},
   "outputs": [],
   "source": [
    "import numpy as np\n",
    "import sympy as sym\n",
    "from IPython.display import display,Math\n",
    "sym.init_printing()\n",
    "import matplotlib.pyplot as plt"
   ]
  },
  {
   "cell_type": "markdown",
   "id": "3a77f17c",
   "metadata": {},
   "source": [
    "# practice"
   ]
  },
  {
   "cell_type": "code",
   "execution_count": 65,
   "id": "b328f225",
   "metadata": {},
   "outputs": [
    {
     "data": {
      "text/plain": [
       "array([[3, 5],\n",
       "       [2, 7],\n",
       "       [1, 1],\n",
       "       [6, 5],\n",
       "       [7, 2]])"
      ]
     },
     "execution_count": 65,
     "metadata": {},
     "output_type": "execute_result"
    }
   ],
   "source": [
    "a = np.random.randint(1,9,(5,2))\n",
    "a"
   ]
  },
  {
   "cell_type": "code",
   "execution_count": 66,
   "id": "59c84a20",
   "metadata": {},
   "outputs": [
    {
     "data": {
      "text/plain": [
       "array([[-0.30151134, -0.39520418, -0.10114134, -0.59074117, -0.62745507],\n",
       "       [-0.20100756, -0.78896073, -0.0212933 ,  0.01804357,  0.57996375],\n",
       "       [-0.10050378, -0.03619086,  0.99217116, -0.04525875, -0.0462304 ],\n",
       "       [-0.60302269, -0.07382935, -0.04650254,  0.7193838 , -0.33352261],\n",
       "       [-0.70352647,  0.463243  , -0.05244933, -0.36212966,  0.39568625]])"
      ]
     },
     "execution_count": 66,
     "metadata": {},
     "output_type": "execute_result"
    }
   ],
   "source": [
    "q,r = np.linalg.qr(a,'complete')\n",
    "q"
   ]
  },
  {
   "cell_type": "code",
   "execution_count": 67,
   "id": "5e3177cc",
   "metadata": {},
   "outputs": [
    {
     "data": {
      "image/png": "[encoded data removed]",
      "text/latex": [
       "$\\displaystyle \\left( \\left( 5, \\  5\\right), \\  \\left( 5, \\  2\\right)\\right)$"
      ],
      "text/plain": [
       "((5, 5), (5, 2))"
      ]
     },
     "execution_count": 67,
     "metadata": {},
     "output_type": "execute_result"
    }
   ],
   "source": [
    "q.shape,r.shape"
   ]
  },
  {
   "cell_type": "code",
   "execution_count": 69,
   "id": "2acfe7df",
   "metadata": {},
   "outputs": [
    {
     "data": {
      "text/plain": [
       "<matplotlib.image.AxesImage at 0x223d8943e80>"
      ]
     },
     "execution_count": 69,
     "metadata": {},
     "output_type": "execute_result"
    },
    {
     "data": {
      "image/png": "[encoded data removed]",
      "text/plain": [
       "<Figure size 432x288 with 1 Axes>"
      ]
     },
     "metadata": {
      "needs_background": "light"
     },
     "output_type": "display_data"
    }
   ],
   "source": [
    "plt.imshow(q.T@q)"
   ]
  },
  {
   "cell_type": "code",
   "execution_count": 70,
   "id": "6c1fe3c4",
   "metadata": {},
   "outputs": [
    {
     "data": {
      "text/plain": [
       "<matplotlib.image.AxesImage at 0x223d8973760>"
      ]
     },
     "execution_count": 70,
     "metadata": {},
     "output_type": "execute_result"
    },
    {
     "data": {
      "image/png": "[encoded data removed]",
      "text/plain": [
       "<Figure size 432x288 with 1 Axes>"
      ]
     },
     "metadata": {
      "needs_background": "light"
     },
     "output_type": "display_data"
    }
   ],
   "source": [
    "plt.imshow(q@q.T)"
   ]
  },
  {
   "cell_type": "code",
   "execution_count": null,
   "id": "2508aaa0",
   "metadata": {},
   "outputs": [],
   "source": [
    "# what is the advantage of having q be a square matrix not a rectangular one as the original matrix?\n",
    "\"\"\"\n",
    "R matrix (the residuals) is possible only if the shape of the q is square if it was of same shape as the original matrix\n",
    "(5,2) then q.T@a => (2,5) @ (5,2)\n",
    "\"\"\""
   ]
  },
  {
   "cell_type": "code",
   "execution_count": 71,
   "id": "b4069c04",
   "metadata": {},
   "outputs": [
    {
     "data": {
      "text/plain": [
       "array([[-0.30151134, -0.39520418],\n",
       "       [-0.20100756, -0.78896073],\n",
       "       [-0.10050378, -0.03619086],\n",
       "       [-0.60302269, -0.07382935],\n",
       "       [-0.70352647,  0.463243  ]])"
      ]
     },
     "execution_count": 71,
     "metadata": {},
     "output_type": "execute_result"
    }
   ],
   "source": [
    "# lets get to have q be the same size as the original matrix\n",
    "\n",
    "q,r = np.linalg.qr(a)\n",
    "q"
   ]
  },
  {
   "cell_type": "code",
   "execution_count": 72,
   "id": "6f953a8b",
   "metadata": {},
   "outputs": [
    {
     "data": {
      "text/plain": [
       "array([[ 1.00000000e+00, -1.35999481e-17],\n",
       "       [-1.35999481e-17,  1.00000000e+00]])"
      ]
     },
     "execution_count": 72,
     "metadata": {},
     "output_type": "execute_result"
    }
   ],
   "source": [
    "q.T@q"
   ]
  },
  {
   "cell_type": "code",
   "execution_count": 73,
   "id": "79124bac",
   "metadata": {},
   "outputs": [
    {
     "data": {
      "text/plain": [
       "array([[ 0.24709544,  0.37240664,  0.04460581,  0.21099585,  0.02904564],\n",
       "       [ 0.37240664,  0.66286307,  0.04875519,  0.17946058, -0.22406639],\n",
       "       [ 0.04460581,  0.04875519,  0.01141079,  0.06327801,  0.05394191],\n",
       "       [ 0.21099585,  0.17946058,  0.06327801,  0.36908714,  0.39004149],\n",
       "       [ 0.02904564, -0.22406639,  0.05394191,  0.39004149,  0.70954357]])"
      ]
     },
     "execution_count": 73,
     "metadata": {},
     "output_type": "execute_result"
    }
   ],
   "source": [
    "q@q.T"
   ]
  },
  {
   "cell_type": "code",
   "execution_count": 74,
   "id": "06d85d24",
   "metadata": {},
   "outputs": [
    {
     "data": {
      "text/plain": [
       "<matplotlib.image.AxesImage at 0x223d8aa9550>"
      ]
     },
     "execution_count": 74,
     "metadata": {},
     "output_type": "execute_result"
    },
    {
     "data": {
      "image/png": "[encoded data removed]",
      "text/plain": [
       "<Figure size 432x288 with 1 Axes>"
      ]
     },
     "metadata": {
      "needs_background": "light"
     },
     "output_type": "display_data"
    }
   ],
   "source": [
    "plt.imshow(q.T@q)"
   ]
  },
  {
   "cell_type": "code",
   "execution_count": 75,
   "id": "a7b47205",
   "metadata": {},
   "outputs": [
    {
     "data": {
      "image/png": "[encoded data removed]",
      "text/plain": [
       "<Figure size 432x288 with 1 Axes>"
      ]
     },
     "metadata": {
      "needs_background": "light"
     },
     "output_type": "display_data"
    }
   ],
   "source": [
    "plt.imshow(q@q.T);"
   ]
  },
  {
   "cell_type": "markdown",
   "id": "6ccc0606",
   "metadata": {},
   "source": [
    "# conclusion:\n",
    "* 'complete' makes the q matrix be a square and it makes it give identity matrix both when q.T@q and q@q.T this is the advantage of having it square so that the q matrix makes the calculation more flexible makeing the order of multiplication redundant."
   ]
  },
  {
   "cell_type": "code",
   "execution_count": null,
   "id": "1b0c07e1",
   "metadata": {},
   "outputs": [],
   "source": []
  }
 ],
 "metadata": {
  "kernelspec": {
   "display_name": "Python 3 (ipykernel)",
   "language": "python",
   "name": "python3"
  },
  "language_info": {
   "codemirror_mode": {
    "name": "ipython",
    "version": 3
   },
   "file_extension": ".py",
   "mimetype": "text/x-python",
   "name": "python",
   "nbconvert_exporter": "python",
   "pygments_lexer": "ipython3",
   "version": "3.12.4"
  }
 },
 "nbformat": 4,
 "nbformat_minor": 5
}
