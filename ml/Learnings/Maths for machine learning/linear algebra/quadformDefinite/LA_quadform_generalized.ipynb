version https://git-lfs.github.com/spec/v1
oid sha256:9ed5e434a96c04a78e31274b80feda7e4c9a2d38073abba133f7189a41b7c94e
size 3292
