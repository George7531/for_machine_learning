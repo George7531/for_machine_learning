{
 "cells": [
  {
   "cell_type": "markdown",
   "metadata": {},
   "source": [
    "#     COURSE: Linear algebra: theory and implementation\n",
    "##    SECTION: Singular value decomposition\n",
    "###     VIDEO: Convert singular values to percent variance\n",
    "\n",
    "#### Instructor: sincxpress.com\n",
    "##### Course url: https://www.udemy.com/course/linear-algebra-theory-and-implementation/?couponCode=202110"
   ]
  },
  {
   "cell_type": "code",
   "execution_count": 2,
   "metadata": {},
   "outputs": [],
   "source": [
    "import numpy as np\n",
    "import matplotlib.pyplot as plt\n",
    "import scipy.signal"
   ]
  },
  {
   "cell_type": "code",
   "execution_count": 3,
   "metadata": {},
   "outputs": [
    {
     "ename": "NameError",
     "evalue": "name 'grey_image' is not defined",
     "output_type": "error",
     "traceback": [
      "\u001b[1;31m---------------------------------------------------------------------------\u001b[0m",
      "\u001b[1;31mNameError\u001b[0m                                 Traceback (most recent call last)",
      "Input \u001b[1;32mIn [3]\u001b[0m, in \u001b[0;36m<cell line: 1>\u001b[1;34m()\u001b[0m\n\u001b[1;32m----> 1\u001b[0m scaled_image \u001b[38;5;241m=\u001b[39m np\u001b[38;5;241m.\u001b[39masarray(\u001b[43mgrey_image\u001b[49m)\u001b[38;5;241m*\u001b[39m\u001b[38;5;241m1\u001b[39m\n\u001b[0;32m      3\u001b[0m \u001b[38;5;66;03m# SVD\u001b[39;00m\n\u001b[0;32m      4\u001b[0m U,s,V \u001b[38;5;241m=\u001b[39m np\u001b[38;5;241m.\u001b[39mlinalg\u001b[38;5;241m.\u001b[39msvd(scaled_image)\n",
      "\u001b[1;31mNameError\u001b[0m: name 'grey_image' is not defined"
     ]
    }
   ],
   "source": [
    "scaled_image = np.asarray(grey_image)*1\n",
    "\n",
    "# SVD\n",
    "U,s,V = np.linalg.svd(scaled_image)\n",
    "\n",
    "# convert to percent variance\n",
    "spct = 100*s/np.sum(s)\n",
    "\n",
    "# plot the singular values for comparison\n",
    "fig,ax = plt.subplots(1,figsize=(7,5))\n",
    "\n",
    "ax[0].plot(s,'ks-')\n",
    "ax[0].set_xlabel('Component number')\n",
    "ax[0].set_ylabel('$\\sigma$')\n",
    "ax[0].set_title('Raw singular values')\n",
    "\n",
    "ax[1].plot(spct,'ks-')\n",
    "ax[1].set_xlabel('Component number')\n",
    "ax[1].set_ylabel('$\\sigma$ (% of total)')\n",
    "ax[1].set_title('Percent-change-normalized singular values')\n",
    "\n",
    "plt.tight_layout()\n",
    "plt.show()"
   ]
  },
  {
   "cell_type": "code",
   "execution_count": null,
   "metadata": {},
   "outputs": [],
   "source": []
  }
 ],
 "metadata": {
  "kernelspec": {
   "display_name": "Python 3 (ipykernel)",
   "language": "python",
   "name": "python3"
  },
  "language_info": {
   "codemirror_mode": {
    "name": "ipython",
    "version": 3
   },
   "file_extension": ".py",
   "mimetype": "text/x-python",
   "name": "python",
   "nbconvert_exporter": "python",
   "pygments_lexer": "ipython3",
   "version": "3.9.12"
  }
 },
 "nbformat": 4,
 "nbformat_minor": 2
}
