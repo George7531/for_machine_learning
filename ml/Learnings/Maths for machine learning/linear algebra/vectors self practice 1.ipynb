version https://git-lfs.github.com/spec/v1
oid sha256:ffcd43df2e6ea64cfc8a55dcfba9799fc03455df9dfbc7e53db90b9f669568d7
size 901380
