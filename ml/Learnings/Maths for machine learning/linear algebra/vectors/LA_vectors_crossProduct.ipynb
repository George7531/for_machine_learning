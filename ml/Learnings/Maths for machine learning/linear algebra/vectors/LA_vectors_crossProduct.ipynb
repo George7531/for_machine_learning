version https://git-lfs.github.com/spec/v1
oid sha256:b85ca7d699988ec67e054c8f911cd5060f5449fbc668a27e505e5eeb816f1470
size 2274
