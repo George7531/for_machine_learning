version https://git-lfs.github.com/spec/v1
oid sha256:0e5297e04c04a8e45b6c77ecf34086ec78abb2f269a129a951393f8e9903da22
size 1464922
