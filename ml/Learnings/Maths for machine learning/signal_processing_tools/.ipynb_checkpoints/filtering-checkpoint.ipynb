version https://git-lfs.github.com/spec/v1
oid sha256:fc244ba5e263342730b4a264d1f3f59950c74084761327e3cd17d1bdaf52aec9
size 423765
