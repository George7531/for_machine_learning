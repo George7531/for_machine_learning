version https://git-lfs.github.com/spec/v1
oid sha256:40094e3dee2a47d2ef583b7c9039d962fa1295de9ef138ed95353a0a2131c367
size 441007
