version https://git-lfs.github.com/spec/v1
oid sha256:4da96e1a8b08717ad6cab48b8a84b60e427e68503bf0b0e43f1fd97cc02e9281
size 246667
