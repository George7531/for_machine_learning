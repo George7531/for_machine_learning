version https://git-lfs.github.com/spec/v1
oid sha256:d66fc1445f35aab8193bd253de50ed379fbdaf1847eb1ffad70c35b8687e9da9
size 246551
