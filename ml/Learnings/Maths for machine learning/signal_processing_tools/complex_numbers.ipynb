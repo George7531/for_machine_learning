{
 "cells": [
  {
   "cell_type": "markdown",
   "id": "218a1d55-6ed5-41ef-9255-3396236d5e0a",
   "metadata": {},
   "source": [
    "# day 429"
   ]
  },
  {
   "cell_type": "markdown",
   "id": "0395f574-d667-4024-b8e8-3de444860a74",
   "metadata": {},
   "source": [
    "# From the number line to the complex number plane:\n",
    "\n",
    "\n",
    "## Real number system\n",
    "![fsf](images/150824_sig.png)\n",
    "* it can represent 2 things namely: direction and magnitude of a property/thing.\n",
    "* magntiude of a number in real number system is $ |k| $ where k is a scalar and we are taking absolute value of it.\n",
    "  \n",
    "## complex number system:\n",
    "![sfs](images/150824_sig2.png)\n",
    "![sfs](images/150824_sig1.png)\n",
    "* it can represent numbers in 2d(it gives a new dimension to the number system).\n",
    "* it works like a vector.\n",
    "* the magnitude of a complex number is $ \\sqrt{a.T.a} $ where a is a vector\n"
   ]
  },
  {
   "cell_type": "markdown",
   "id": "046b3fd6-e811-411c-b2f9-cdf4d9592c36",
   "metadata": {},
   "source": [
    "## exploration, ablation-analysis and freethrows"
   ]
  },
  {
   "cell_type": "code",
   "execution_count": 4,
   "id": "4c097566-6221-4992-b685-69e337e266b4",
   "metadata": {},
   "outputs": [
    {
     "data": {
      "text/plain": [
       "13"
      ]
     },
     "execution_count": 4,
     "metadata": {},
     "output_type": "execute_result"
    }
   ],
   "source": [
    "# find the magnitude of a complex number\n",
    "import numpy as np\n",
    "a = np.array([2,3]) # 2 is the real part and 3 is of imaginary part.\n",
    "a@a.T"
   ]
  },
  {
   "cell_type": "code",
   "execution_count": 8,
   "id": "9bb4e526-226c-49ff-83d6-5feb5bd54641",
   "metadata": {},
   "outputs": [
    {
     "data": {
      "text/plain": [
       "3.605551275463989"
      ]
     },
     "execution_count": 8,
     "metadata": {},
     "output_type": "execute_result"
    }
   ],
   "source": [
    "np.sqrt(a@a.T)"
   ]
  },
  {
   "cell_type": "code",
   "execution_count": 6,
   "id": "70ac6991-229b-4c6f-a096-d117181d6583",
   "metadata": {},
   "outputs": [
    {
     "data": {
      "text/plain": [
       "3.605551275463989"
      ]
     },
     "execution_count": 6,
     "metadata": {},
     "output_type": "execute_result"
    }
   ],
   "source": [
    "np.linalg.norm(a)"
   ]
  },
  {
   "cell_type": "code",
   "execution_count": null,
   "id": "d770aba7-e3f4-4b50-a6a3-7497d6ca756f",
   "metadata": {},
   "outputs": [],
   "source": []
  },
  {
   "cell_type": "code",
   "execution_count": 4,
   "id": "f9a5efe2-3bb0-42ce-8f7f-330a3bc4e980",
   "metadata": {},
   "outputs": [],
   "source": [
    "import numpy as np\n",
    "import cmath\n",
    "import math\n",
    "import matplotlib.pyplot as plt"
   ]
  },
  {
   "cell_type": "code",
   "execution_count": 6,
   "id": "5cd43300-2254-4a25-9790-512dd8a947e4",
   "metadata": {},
   "outputs": [
    {
     "data": {
      "text/plain": [
       "1j"
      ]
     },
     "execution_count": 6,
     "metadata": {},
     "output_type": "execute_result"
    }
   ],
   "source": [
    "## the imaginary operator\n",
    "\n",
    "# Python differs from MATLAB here:\n",
    "1j\n",
    "\n"
   ]
  },
  {
   "cell_type": "code",
   "execution_count": 8,
   "id": "579068ba-3215-4985-8c91-45bd4083481c",
   "metadata": {},
   "outputs": [
    {
     "data": {
      "text/plain": [
       "1j"
      ]
     },
     "execution_count": 8,
     "metadata": {},
     "output_type": "execute_result"
    }
   ],
   "source": [
    "cmath.sqrt(-1) # note the cmath module"
   ]
  },
  {
   "cell_type": "code",
   "execution_count": 14,
   "id": "ac3a4ea2-3b23-4907-83f1-3ba0a8e5946e",
   "metadata": {},
   "outputs": [
    {
     "name": "stdout",
     "output_type": "stream",
     "text": [
      "Real part is 4.0 and imaginary part is 3.0.\n"
     ]
    }
   ],
   "source": [
    "## creating complex numbers\n",
    "z = 4 + 3j\n",
    "z = 4 + 3*1j\n",
    "z = 4 + 3*cmath.sqrt(-1)\n",
    "z = complex(4,3)\n",
    "\n",
    "print('Real part is ' + str(np.real(z)) + ' and imaginary part is ' + str(np.imag(z)) + '.' )\n"
   ]
  },
  {
   "cell_type": "code",
   "execution_count": 16,
   "id": "bee0a513-227e-4afa-bee3-a618ee437ff9",
   "metadata": {},
   "outputs": [
    {
     "data": {
      "image/png": "[encoded data removed]",
      "text/plain": [
       "<Figure size 640x480 with 1 Axes>"
      ]
     },
     "metadata": {},
     "output_type": "display_data"
    }
   ],
   "source": [
    "## plotting a complex number\n",
    "\n",
    "plt.plot( np.real(z),np.imag(z),'rs' )\n",
    "plt.xlim([-5,5])\n",
    "plt.ylim([-5,5])\n",
    "plt.plot([-5,5],[0,0],'k')\n",
    "plt.plot([0,0],[-5,5],'k')\n",
    "plt.xlabel('real axis')\n",
    "plt.ylabel('imag axis')\n",
    "\n",
    "plt.show()\n"
   ]
  },
  {
   "cell_type": "code",
   "execution_count": null,
   "id": "0a592a0d-18d5-4afd-826c-7430a1c32278",
   "metadata": {},
   "outputs": [],
   "source": []
  },
  {
   "cell_type": "markdown",
   "id": "7c981968-d515-43aa-8ef3-b0389a8078ac",
   "metadata": {},
   "source": [
    "# Addition and subtraction with complex numbers\n",
    "\n",
    "![fsdfs](images/160824_sig.png)"
   ]
  },
  {
   "cell_type": "code",
   "execution_count": 19,
   "id": "06b6753a-a874-4fc5-a39e-188a8c8e8d0d",
   "metadata": {},
   "outputs": [
    {
     "name": "stdout",
     "output_type": "stream",
     "text": [
      "(7+7j)\n",
      "(7+7j)\n",
      "(1+3j)\n",
      "(1+3j)\n"
     ]
    }
   ],
   "source": [
    "\n",
    "# create two complex numbers\n",
    "a = complex(4,5)\n",
    "b = 3+2j\n",
    "\n",
    "# let Python do the hard work\n",
    "z1 = a+b\n",
    "print(z1)\n",
    "\n",
    "# the \"manual\" way\n",
    "z2 = complex( np.real(a)+np.real(b) , np.imag(a)+np.imag(b) )\n",
    "print(z2)\n",
    "\n",
    "## subtraction is the same as addition...\n",
    "\n",
    "# let MATLAB do the hard work\n",
    "z3 = a-b\n",
    "print(z3)\n",
    "\n",
    "# the \"manual\" way\n",
    "z4 = complex( np.real(a)-np.real(b) , np.imag(a)-np.imag(b) )\n",
    "print(z4)\n"
   ]
  },
  {
   "cell_type": "code",
   "execution_count": null,
   "id": "0d430e79-273d-4e4b-9d07-3b5e43628c3a",
   "metadata": {},
   "outputs": [],
   "source": []
  },
  {
   "cell_type": "markdown",
   "id": "a44c672b-1600-4684-8b55-79a485eb964f",
   "metadata": {},
   "source": [
    "# Multiplication with complex numbers\n",
    "\n",
    "![fsdfs](images/160824_sig1.png)"
   ]
  },
  {
   "cell_type": "code",
   "execution_count": 33,
   "id": "9e65e93e-b06f-4874-b121-7b42ef164da0",
   "metadata": {},
   "outputs": [
    {
     "name": "stdout",
     "output_type": "stream",
     "text": [
      "(12+1j)\n",
      "(2-10j) -- the WRONG way!\n",
      "(12+1j)\n",
      "(12+1j)\n"
     ]
    }
   ],
   "source": [
    "\n",
    "# create two complex numbers\n",
    "a = 2+5j\n",
    "b = 1-2j\n",
    "\n",
    "# let MATLAB do the hard work\n",
    "z1 = a*b\n",
    "print(z1)\n",
    "\n",
    "# the intuitive-but-WRONG way\n",
    "z2 = complex( np.real(a)*np.real(b) , np.imag(a)*np.imag(b) )\n",
    "print(str(z2)+' -- the WRONG way!')\n",
    "\n",
    "# the less-intuitive-but-CORRECT way\n",
    "ar = np.real(a)\n",
    "ai = np.imag(a)\n",
    "br = np.real(b)\n",
    "bi = np.imag(b)\n",
    "\n",
    "z3 = (ar + 1j*ai) * (br + 1j*bi)\n",
    "z4 = (ar*br) + (ar*(1j*bi)) + ((1j*ai)*br) + ((1j*ai)*(1j*bi))\n",
    "\n",
    "print(z3)\n",
    "print(z4)"
   ]
  },
  {
   "cell_type": "markdown",
   "id": "9e5233f1-5633-4561-8314-b24baa8fff6a",
   "metadata": {},
   "source": [
    "## exploration, ablation-analysis and freethrows"
   ]
  },
  {
   "cell_type": "code",
   "execution_count": 31,
   "id": "cf578708-0bbf-4240-a8b2-8d37d4abbd27",
   "metadata": {},
   "outputs": [
    {
     "data": {
      "text/plain": [
       "(-1+0j)"
      ]
     },
     "execution_count": 31,
     "metadata": {},
     "output_type": "execute_result"
    }
   ],
   "source": [
    "1j*1j"
   ]
  },
  {
   "cell_type": "code",
   "execution_count": null,
   "id": "e5bb73ec-4efb-40ae-bcac-156c7d6f17b2",
   "metadata": {},
   "outputs": [],
   "source": []
  },
  {
   "cell_type": "markdown",
   "id": "e06a073d-fdaf-490d-8c31-febb1d60c3f7",
   "metadata": {},
   "source": [
    "# Complex Conjugate\n",
    "![fsdfs](images/160824_sig2.png)\n",
    "\n",
    "## magnitude from multiplying with complex conjugate\n",
    "![fsdfs](images/160824_sig3.png)\n",
    "\n",
    "* you further have to take a square root of that to get the actual magnitude of a complex number."
   ]
  },
  {
   "cell_type": "code",
   "execution_count": 36,
   "id": "6d380d83-632f-4279-9350-0dade67f82a9",
   "metadata": {},
   "outputs": [
    {
     "name": "stdout",
     "output_type": "stream",
     "text": [
      "(4+5j)\n",
      "(4+5j)\n",
      "(41+0j)=41.0=41.0\n"
     ]
    }
   ],
   "source": [
    "# create a complex number\n",
    "\n",
    "a = complex(4,-5)\n",
    "\n",
    "# let Python do the hard work\n",
    "ac1 = np.conj(a)\n",
    "print(ac1)\n",
    "\n",
    "# the \"manual\" way\n",
    "ac2 = complex( np.real(a) , -np.imag(a) )\n",
    "print(ac2)\n",
    "\n",
    "\n",
    "## magnitude squared of a complex number\n",
    "amag1 = a*np.conj(a) # note that Python keeps this as type==complex, although the imaginary part is zero\n",
    "amag2 = np.real(a)**2 + np.imag(a)**2\n",
    "amag3 = np.abs(a)**2\n",
    "\n",
    "print( str(amag1)+'='+str(amag2)+'='+str(amag3) )\n"
   ]
  },
  {
   "cell_type": "markdown",
   "id": "b935827a-1b10-4b5f-a46e-691741fabc75",
   "metadata": {},
   "source": [
    "## exploration,ablation-analysis and freethrows"
   ]
  },
  {
   "cell_type": "code",
   "execution_count": 39,
   "id": "8351cf96-2e52-4a8a-baf9-0a32dbc8357d",
   "metadata": {},
   "outputs": [
    {
     "data": {
      "text/plain": [
       "(5-3j)"
      ]
     },
     "execution_count": 39,
     "metadata": {},
     "output_type": "execute_result"
    }
   ],
   "source": [
    "# testing the abs values of conjugate of complex\n",
    "b = complex(5,-3)\n",
    "b"
   ]
  },
  {
   "cell_type": "code",
   "execution_count": 41,
   "id": "c1095fc9-6fad-4eaa-9ef5-b496b9535b6b",
   "metadata": {},
   "outputs": [
    {
     "data": {
      "text/plain": [
       "5.8309518948453"
      ]
     },
     "execution_count": 41,
     "metadata": {},
     "output_type": "execute_result"
    }
   ],
   "source": [
    "np.abs(b) # absolute value of a complex number is =  a*conjugate(a) where a is a complex number."
   ]
  },
  {
   "cell_type": "code",
   "execution_count": null,
   "id": "a22768e6-aaa6-4bf8-97af-b380ffd3ec1c",
   "metadata": {},
   "outputs": [],
   "source": []
  },
  {
   "cell_type": "markdown",
   "id": "39b407dd-4a77-411d-926a-8f293864908a",
   "metadata": {},
   "source": [
    "# divide with complex numbers\n",
    "\n",
    "![fsdfs](images/160824_sig4.png)\n",
    "\n",
    "* just multiply with complex conjugate of denominator over itself to do division of complex numbers."
   ]
  },
  {
   "cell_type": "code",
   "execution_count": 46,
   "id": "021e1628-5c4f-4d8f-98b2-b0661bb741c3",
   "metadata": {},
   "outputs": [
    {
     "name": "stdout",
     "output_type": "stream",
     "text": [
      "(0.15384615384615394-1.7692307692307692j)\n",
      "(0.15384615384615385-1.7692307692307694j)\n"
     ]
    }
   ],
   "source": [
    "# create two complex numbers\n",
    "a = complex(4,-5)\n",
    "b = complex(3,2)\n",
    "\n",
    "# let Python do the hard work\n",
    "adb1 = a/b\n",
    "\n",
    "# the \"manual\" way\n",
    "adb2 = (a*np.conj(b)) / (b*np.conj(b))\n",
    "\n",
    "print(adb1)\n",
    "print(adb2)"
   ]
  },
  {
   "cell_type": "code",
   "execution_count": null,
   "id": "64d680ce-0624-419a-be29-b61aeef89988",
   "metadata": {},
   "outputs": [],
   "source": []
  },
  {
   "cell_type": "markdown",
   "id": "1e2959d0-7712-4648-aa7b-8956bf25bf3a",
   "metadata": {},
   "source": [
    "# Magnitude and phase of a complex number\n",
    "\n",
    "## magnitude/length:\n",
    "![fsdfs](images/160824_sig5.png)\n",
    "# $$ c^2 = a^2 + b^2 $$\n",
    "# $$ c = \\sqrt{a^2 + b^2} $$\n",
    "# $$ \\text{magnitude } = \\sqrt{\\sum a^T.a} $$\n",
    "\n",
    "## angle/phase:\n",
    "![fsdfs](images/160824_sig6.png)\n",
    "# $$ \\text{tan(angle) } = \\frac{opp}{adjacent} $$\n",
    "\n",
    "# $$ \\text{angle } = \\tan^{-1}(\\frac{imag}{real}) $$"
   ]
  },
  {
   "cell_type": "code",
   "execution_count": 6,
   "id": "04443d0e-71ce-4f42-b24b-5dc6643a3f2e",
   "metadata": {},
   "outputs": [
    {
     "data": {
      "image/png": "[encoded data removed]",
      "text/plain": [
       "<Figure size 640x480 with 1 Axes>"
      ]
     },
     "metadata": {},
     "output_type": "display_data"
    },
    {
     "name": "stdout",
     "output_type": "stream",
     "text": [
      "magZ1: 5.0\n",
      "magZ2: 5.0\n",
      "angZ1: 0.6435011087932844\n",
      "angZ2: 0.6435011087932844\n"
     ]
    },
    {
     "data": {
      "image/png": "[encoded data removed]",
      "text/plain": [
       "<Figure size 640x480 with 1 Axes>"
      ]
     },
     "metadata": {},
     "output_type": "display_data"
    }
   ],
   "source": [
    "# create a complex number\n",
    "z = 4 + 3j\n",
    "\n",
    "# plot the complex number\n",
    "plt.plot(np.real(z),np.imag(z),'ks')\n",
    "\n",
    "# make plot look nicer\n",
    "plt.xlim([-5,5])\n",
    "plt.ylim([-5,5])\n",
    "plt.plot([-5,5],[0,0],'k')\n",
    "plt.plot([0,0],[-5,5],'k')\n",
    "plt.xlabel('real axis')\n",
    "plt.ylabel('imag axis')\n",
    "plt.show()\n",
    "\n",
    "\n",
    "# magnitude of the number (distance to origin)\n",
    "magZ1 = np.sqrt( np.real(z)**2 + np.imag(z)**2 )\n",
    "magZ2 = np.abs( z )\n",
    "print('magZ1: {}'.format(magZ1))\n",
    "print('magZ2: {}'.format(magZ2))\n",
    "\n",
    "# angle of the line relative to positive real axis\n",
    "angZ1 = math.atan2( np.imag(z),np.real(z) )\n",
    "angZ2 = np.angle( z )\n",
    "print('angZ1: {}'.format(angZ1))\n",
    "print('angZ2: {}'.format(angZ2))\n",
    "\n",
    "# draw a line using polar notation\n",
    "plt.polar([0,angZ1],[0,magZ1],'r')\n",
    "\n",
    "plt.show()"
   ]
  },
  {
   "cell_type": "markdown",
   "id": "7345ffa4-c804-418d-9da9-7987a72b493c",
   "metadata": {},
   "source": [
    "## exploration, ablation-analysis and freethrows"
   ]
  },
  {
   "cell_type": "code",
   "execution_count": 9,
   "id": "33daa269-ae5b-4ee2-8f7e-a6ad152c2239",
   "metadata": {},
   "outputs": [
    {
     "data": {
      "text/plain": [
       "5.0"
      ]
     },
     "execution_count": 9,
     "metadata": {},
     "output_type": "execute_result"
    }
   ],
   "source": [
    "a = np.array([4,3])\n",
    "np.sqrt(a.T@a) # length/magnitude/amplitude/power"
   ]
  },
  {
   "cell_type": "code",
   "execution_count": 17,
   "id": "2075f04b-52c4-4b78-8cc4-362219049f2b",
   "metadata": {},
   "outputs": [
    {
     "data": {
      "text/plain": [
       "array([4, 3])"
      ]
     },
     "execution_count": 17,
     "metadata": {},
     "output_type": "execute_result"
    }
   ],
   "source": [
    "abs(a)"
   ]
  },
  {
   "cell_type": "code",
   "execution_count": 15,
   "id": "d77e0f75-5528-4f53-a4b3-94b581ebada3",
   "metadata": {},
   "outputs": [
    {
     "data": {
      "text/plain": [
       "(4+3j)"
      ]
     },
     "execution_count": 15,
     "metadata": {},
     "output_type": "execute_result"
    }
   ],
   "source": [
    "complex(4,3)"
   ]
  },
  {
   "cell_type": "code",
   "execution_count": 19,
   "id": "86d8de50-735f-408b-84ca-4c3d4025b99e",
   "metadata": {},
   "outputs": [
    {
     "data": {
      "text/plain": [
       "5.0"
      ]
     },
     "execution_count": 19,
     "metadata": {},
     "output_type": "execute_result"
    }
   ],
   "source": [
    "abs(complex(4,3))"
   ]
  },
  {
   "cell_type": "code",
   "execution_count": 25,
   "id": "3688ad8e-ac58-4125-b8f6-9ad945eda51b",
   "metadata": {},
   "outputs": [
    {
     "data": {
      "text/plain": [
       "0.6435011087932844"
      ]
     },
     "execution_count": 25,
     "metadata": {},
     "output_type": "execute_result"
    }
   ],
   "source": [
    "# angle\n",
    "np.arctan2(3,4)"
   ]
  },
  {
   "cell_type": "code",
   "execution_count": null,
   "id": "c754da75-6b81-4e50-8c63-b75c68c9f85d",
   "metadata": {},
   "outputs": [],
   "source": []
  }
 ],
 "metadata": {
  "kernelspec": {
   "display_name": "Python 3 (ipykernel)",
   "language": "python",
   "name": "python3"
  },
  "language_info": {
   "codemirror_mode": {
    "name": "ipython",
    "version": 3
   },
   "file_extension": ".py",
   "mimetype": "text/x-python",
   "name": "python",
   "nbconvert_exporter": "python",
   "pygments_lexer": "ipython3",
   "version": "3.12.4"
  }
 },
 "nbformat": 4,
 "nbformat_minor": 5
}
