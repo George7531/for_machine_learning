version https://git-lfs.github.com/spec/v1
oid sha256:8ab8a9c2d46fd1dfaaa9b1833dc60c0f5285ee56e15072d3c461dd390a488c6a
size 1293474
