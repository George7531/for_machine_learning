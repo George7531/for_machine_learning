version https://git-lfs.github.com/spec/v1
oid sha256:d62e86b050978963312f1dcf0a42c304fddd4fb0f038923cf7f622ed64e6f033
size 1013736
