version https://git-lfs.github.com/spec/v1
oid sha256:16ee68df07b54e6088d394c090996ee663e0dc0c2be0cf6e514ec3d6c68fba68
size 429437
