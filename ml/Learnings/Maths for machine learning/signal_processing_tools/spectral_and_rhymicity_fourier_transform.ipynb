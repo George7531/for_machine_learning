version https://git-lfs.github.com/spec/v1
oid sha256:f2e57ea82303609197e25c718f95ceaa1a6ed89e866fed5529bf98bfa52f5d54
size 787481
