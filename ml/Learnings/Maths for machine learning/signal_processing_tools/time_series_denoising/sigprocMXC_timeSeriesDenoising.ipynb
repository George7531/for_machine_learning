version https://git-lfs.github.com/spec/v1
oid sha256:bc2cd34ecc36f655d234446692d1ac0e6d4e52429878c6c976213d347f5ea719
size 20994
