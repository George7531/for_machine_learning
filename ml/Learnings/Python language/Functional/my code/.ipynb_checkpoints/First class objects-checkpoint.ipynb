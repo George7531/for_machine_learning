version https://git-lfs.github.com/spec/v1
oid sha256:986a322d18e3aea4e7aef50acda7958c8464cb9bfa8ecf75c871e0017f7da7bf
size 85995
