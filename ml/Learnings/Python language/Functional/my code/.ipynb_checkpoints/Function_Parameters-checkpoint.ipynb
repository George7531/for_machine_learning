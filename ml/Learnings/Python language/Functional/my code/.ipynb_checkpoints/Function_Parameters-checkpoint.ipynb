{
 "cells": [
  {
   "cell_type": "markdown",
   "id": "8a41b96b",
   "metadata": {},
   "source": [
    "# day 273"
   ]
  },
  {
   "cell_type": "code",
   "execution_count": 2,
   "id": "b1e43e8e",
   "metadata": {},
   "outputs": [
    {
     "data": {
      "text/html": [
       "\n",
       "        <iframe\n",
       "            width=\"1000\"\n",
       "            height=\"500\"\n",
       "            src=\"02+-+Argument+vs+Parameter.pdf\"\n",
       "            frameborder=\"0\"\n",
       "            allowfullscreen\n",
       "            \n",
       "        ></iframe>\n",
       "        "
      ],
      "text/plain": [
       "<IPython.lib.display.IFrame at 0x205c1922a00>"
      ]
     },
     "execution_count": 2,
     "metadata": {},
     "output_type": "execute_result"
    }
   ],
   "source": [
    "from IPython.display import IFrame\n",
    "\n",
    "IFrame(src='02+-+Argument+vs+Parameter.pdf',height=500,width=1000)"
   ]
  },
  {
   "cell_type": "code",
   "execution_count": 3,
   "id": "81bb5c2e",
   "metadata": {},
   "outputs": [
    {
     "data": {
      "text/plain": [
       "8"
      ]
     },
     "execution_count": 3,
     "metadata": {},
     "output_type": "execute_result"
    }
   ],
   "source": [
    "def test(a,b=5,c=3): # these are called parameters\n",
    "    return a+b+c\n",
    "\n",
    "test(a=1,c=2) # these are called arguments"
   ]
  },
  {
   "cell_type": "code",
   "execution_count": null,
   "id": "48800d7d",
   "metadata": {},
   "outputs": [],
   "source": []
  },
  {
   "cell_type": "markdown",
   "id": "6919b257",
   "metadata": {},
   "source": [
    "# unpacking the tuples:\n"
   ]
  },
  {
   "cell_type": "code",
   "execution_count": 3,
   "id": "439aea4d",
   "metadata": {
    "scrolled": true
   },
   "outputs": [
    {
     "data": {
      "text/html": [
       "\n",
       "        <iframe\n",
       "            width=\"1000\"\n",
       "            height=\"500\"\n",
       "            src=\"05+-+Unpacking+Iterables.pdf\"\n",
       "            frameborder=\"0\"\n",
       "            allowfullscreen\n",
       "            \n",
       "        ></iframe>\n",
       "        "
      ],
      "text/plain": [
       "<IPython.lib.display.IFrame at 0x21caf873f10>"
      ]
     },
     "execution_count": 3,
     "metadata": {},
     "output_type": "execute_result"
    }
   ],
   "source": [
    "from IPython.display import IFrame\n",
    "\n",
    "IFrame(src='05+-+Unpacking+Iterables.pdf',height=500,width=1000)"
   ]
  },
  {
   "cell_type": "code",
   "execution_count": 6,
   "id": "c8e05637",
   "metadata": {},
   "outputs": [
    {
     "name": "stdout",
     "output_type": "stream",
     "text": [
      "Before Swap: \n",
      "a: 10\n",
      "b: 20\n",
      "After Swap: \n",
      "a: 20\n",
      "b: 10\n"
     ]
    }
   ],
   "source": [
    "# traditional approach to swap:\n",
    "\n",
    "a = 10\n",
    "b = 20\n",
    "\n",
    "print('Before Swap: ')\n",
    "print('a: %s'%(a))\n",
    "print('b: %s'%(b))\n",
    "\n",
    "# swapping\n",
    "temp = a\n",
    "a = b\n",
    "b = temp\n",
    "\n",
    "print('After Swap: ')\n",
    "print('a: %s'%(a))\n",
    "print('b: %s'%(b))"
   ]
  },
  {
   "cell_type": "code",
   "execution_count": 4,
   "id": "c475529c",
   "metadata": {},
   "outputs": [
    {
     "name": "stdout",
     "output_type": "stream",
     "text": [
      "Before Swap: \n",
      "a: 10\n",
      "b: 20\n",
      "After Swap: \n",
      "a: 20\n",
      "b: 10\n"
     ]
    }
   ],
   "source": [
    "# swapping the values using unpacking\n",
    "\n",
    "a = 10\n",
    "b = 20\n",
    "\n",
    "print('Before Swap: ')\n",
    "print('a: %s'%(a))\n",
    "print('b: %s'%(b))\n",
    "\n",
    "# swap with unpacking\n",
    "a,b = b,a \n",
    "\n",
    "print('After Swap: ')\n",
    "print('a: %s'%(a))\n",
    "print('b: %s'%(b))"
   ]
  },
  {
   "cell_type": "markdown",
   "id": "4dcf843d",
   "metadata": {},
   "source": [
    "# conclusion:\n",
    "\n",
    "* swapping with unpacking works in python because in python the `entire RHS is evaluated completely` and then assignments are made to the left."
   ]
  },
  {
   "cell_type": "code",
   "execution_count": null,
   "id": "faabfadb",
   "metadata": {},
   "outputs": [],
   "source": []
  },
  {
   "cell_type": "code",
   "execution_count": 10,
   "id": "c81f71fa",
   "metadata": {},
   "outputs": [
    {
     "data": {
      "text/plain": [
       "[('Kiwi', 300),\n",
       " ('strawberry', 265),\n",
       " ('orange', 100),\n",
       " ('pineapple', 70),\n",
       " ('Mango', 60),\n",
       " ('apple', 50),\n",
       " ('Guava', 35),\n",
       " ('BlackBerry', 20)]"
      ]
     },
     "execution_count": 10,
     "metadata": {},
     "output_type": "execute_result"
    }
   ],
   "source": [
    "# sorting the dictionary based on values\n",
    "\n",
    "dic = {'apple':50,'orange':100,'pineapple':70,'Guava':35,'Mango':60,'Kiwi':300,'strawberry':265,'BlackBerry':20}\n",
    "\n",
    "# sorting it in descending order\n",
    "sorted(dic.items(),key= lambda dic_item:dic_item[1],reverse=True)"
   ]
  },
  {
   "cell_type": "code",
   "execution_count": null,
   "id": "bc3c46da",
   "metadata": {},
   "outputs": [],
   "source": []
  },
  {
   "cell_type": "markdown",
   "id": "d29c7adf",
   "metadata": {},
   "source": [
    "# Tuple calculas\n",
    "\n",
    "## what makes a tuple a tuple? \n",
    "* the paranthesis () doesn't make something a tuple but the comma does.\n",
    "\n",
    "## parentheses for empty tuples\n",
    "* you need parentheses for defining the empty tuple.\n",
    "\n",
    "## whatever is iterable is unpackable:\n",
    "* a string is an iterable so, it is unpackable\n",
    "* a list \n",
    "* a dictionary(keys will be iterated by default)\n",
    "* a set.\n",
    "* a tuple. "
   ]
  },
  {
   "cell_type": "code",
   "execution_count": 11,
   "id": "348dc763",
   "metadata": {},
   "outputs": [
    {
     "data": {
      "text/plain": [
       "(int, tuple)"
      ]
     },
     "execution_count": 11,
     "metadata": {},
     "output_type": "execute_result"
    }
   ],
   "source": [
    "a = (1)\n",
    "\n",
    "b = 1,2\n",
    "\n",
    "type(a) , type(b)"
   ]
  },
  {
   "cell_type": "code",
   "execution_count": 12,
   "id": "628f3121",
   "metadata": {},
   "outputs": [
    {
     "data": {
      "text/plain": [
       "tuple"
      ]
     },
     "execution_count": 12,
     "metadata": {},
     "output_type": "execute_result"
    }
   ],
   "source": [
    "# creating a tuple with a single element\n",
    "\n",
    "a = (1,)\n",
    "\n",
    "type(a)"
   ]
  },
  {
   "cell_type": "code",
   "execution_count": 13,
   "id": "5f2b41c5",
   "metadata": {},
   "outputs": [
    {
     "data": {
      "text/plain": [
       "tuple"
      ]
     },
     "execution_count": 13,
     "metadata": {},
     "output_type": "execute_result"
    }
   ],
   "source": [
    "# you don't need a parenthesis at all \n",
    "\n",
    "a = 1,\n",
    "\n",
    "type(a)"
   ]
  },
  {
   "cell_type": "code",
   "execution_count": 14,
   "id": "be57dbaf",
   "metadata": {},
   "outputs": [
    {
     "data": {
      "text/plain": [
       "(1,)"
      ]
     },
     "execution_count": 14,
     "metadata": {},
     "output_type": "execute_result"
    }
   ],
   "source": [
    "# python automatically adds that parentheses.\n",
    "a"
   ]
  },
  {
   "cell_type": "code",
   "execution_count": 15,
   "id": "4c1b5f33",
   "metadata": {},
   "outputs": [
    {
     "ename": "SyntaxError",
     "evalue": "invalid syntax (3379092626.py, line 3)",
     "output_type": "error",
     "traceback": [
      "\u001b[1;36m  Input \u001b[1;32mIn [15]\u001b[1;36m\u001b[0m\n\u001b[1;33m    a = ,\u001b[0m\n\u001b[1;37m        ^\u001b[0m\n\u001b[1;31mSyntaxError\u001b[0m\u001b[1;31m:\u001b[0m invalid syntax\n"
     ]
    }
   ],
   "source": [
    "# creating an empty tuple\n",
    "\n",
    "a = ,\n",
    "\n",
    "type(a)"
   ]
  },
  {
   "cell_type": "code",
   "execution_count": 16,
   "id": "1e001f3e",
   "metadata": {},
   "outputs": [
    {
     "data": {
      "text/plain": [
       "tuple"
      ]
     },
     "execution_count": 16,
     "metadata": {},
     "output_type": "execute_result"
    }
   ],
   "source": [
    "# you can only create an empty tuple with parentheses\n",
    "\n",
    "a = ()\n",
    "\n",
    "type(a)"
   ]
  },
  {
   "cell_type": "code",
   "execution_count": null,
   "id": "c75f81ca",
   "metadata": {},
   "outputs": [],
   "source": []
  },
  {
   "cell_type": "code",
   "execution_count": 1,
   "id": "79ebd4d9",
   "metadata": {},
   "outputs": [
    {
     "data": {
      "text/html": [
       "\n",
       "        <iframe\n",
       "            width=\"1000\"\n",
       "            height=\"500\"\n",
       "            src=\"07+-+Extended+Unpacking.pdf\"\n",
       "            frameborder=\"0\"\n",
       "            allowfullscreen\n",
       "            \n",
       "        ></iframe>\n",
       "        "
      ],
      "text/plain": [
       "<IPython.lib.display.IFrame at 0x205c191af40>"
      ]
     },
     "execution_count": 1,
     "metadata": {},
     "output_type": "execute_result"
    }
   ],
   "source": [
    "# extended tuple unpacking\n",
    "\n",
    "from IPython.display import IFrame\n",
    "\n",
    "IFrame(src='07+-+Extended+Unpacking.pdf',height=500,width=1000)"
   ]
  },
  {
   "cell_type": "code",
   "execution_count": null,
   "id": "e1277cc5",
   "metadata": {},
   "outputs": [],
   "source": []
  },
  {
   "cell_type": "markdown",
   "id": "11ffbab1",
   "metadata": {},
   "source": [
    "# unpacking with stars\n",
    "\n",
    "## advantages of unpacking with star:\n",
    "\n",
    "* for lists and tuples and strings you can unpack different elements of them using their corresponding index positions but for other iterables such as sets and dictionaries you cannot use the element's index position to access them. As a matter of fact, there is no order to the arrangment of elements inside set and dicts so, they are subscriptable. so, how will you then unpack their elements? you can use keys but that's not what im talking about here.\n",
    "* you can use stars to unpack all the elements of the dictionary or set."
   ]
  },
  {
   "cell_type": "code",
   "execution_count": 18,
   "id": "6c7f5775",
   "metadata": {},
   "outputs": [
    {
     "data": {
      "text/plain": [
       "(1, [2, 3, 4, 5, 6, 7])"
      ]
     },
     "execution_count": 18,
     "metadata": {},
     "output_type": "execute_result"
    }
   ],
   "source": [
    "l = [1,2,3,4,5,6,7]\n",
    "\n",
    "a , b = l[0] , l[1:]\n",
    "\n",
    "a,b"
   ]
  },
  {
   "cell_type": "code",
   "execution_count": 19,
   "id": "49dad230",
   "metadata": {},
   "outputs": [
    {
     "data": {
      "text/plain": [
       "(1, [2, 3, 4, 5, 6, 7])"
      ]
     },
     "execution_count": 19,
     "metadata": {},
     "output_type": "execute_result"
    }
   ],
   "source": [
    "# using star to do the same\n",
    "l = [1,2,3,4,5,6,7]\n",
    "\n",
    "a, *b = l\n",
    "\n",
    "a,b"
   ]
  },
  {
   "cell_type": "code",
   "execution_count": null,
   "id": "5f605af1",
   "metadata": {},
   "outputs": [],
   "source": []
  },
  {
   "cell_type": "code",
   "execution_count": 21,
   "id": "1cc92e47",
   "metadata": {},
   "outputs": [
    {
     "name": "stdout",
     "output_type": "stream",
     "text": [
      "apple\n"
     ]
    }
   ],
   "source": [
    "# unpacking dictionary\n",
    "\n",
    "dic = {'apple':50,'orange':100,'pineapple':70,'Guava':35,'Mango':60,'Kiwi':300,'strawberry':265,'BlackBerry':20}\n",
    "\n",
    "a, *b = dic\n",
    "\n",
    "print(a)"
   ]
  },
  {
   "cell_type": "code",
   "execution_count": 22,
   "id": "bc79c772",
   "metadata": {},
   "outputs": [
    {
     "name": "stdout",
     "output_type": "stream",
     "text": [
      "['orange', 'pineapple', 'Guava', 'Mango', 'Kiwi', 'strawberry', 'BlackBerry']\n"
     ]
    }
   ],
   "source": [
    "print(b)"
   ]
  },
  {
   "cell_type": "code",
   "execution_count": 3,
   "id": "71e271d9",
   "metadata": {},
   "outputs": [
    {
     "name": "stdout",
     "output_type": "stream",
     "text": [
      "orange\n"
     ]
    }
   ],
   "source": [
    "# unpacking set\n",
    "\n",
    "s = {'apple','orange','pineapple','Guava','Mango','Kiwi','strawberry','Blackberry'}\n",
    "\n",
    "a , *b = s\n",
    "\n",
    "print(a)"
   ]
  },
  {
   "cell_type": "code",
   "execution_count": 4,
   "id": "9edd61a4",
   "metadata": {},
   "outputs": [
    {
     "name": "stdout",
     "output_type": "stream",
     "text": [
      "['Kiwi', 'pineapple', 'Mango', 'Guava', 'Blackberry', 'strawberry', 'apple']\n"
     ]
    }
   ],
   "source": [
    "print(b)"
   ]
  },
  {
   "cell_type": "code",
   "execution_count": 25,
   "id": "f8a4fae6",
   "metadata": {},
   "outputs": [
    {
     "ename": "KeyError",
     "evalue": "0",
     "output_type": "error",
     "traceback": [
      "\u001b[1;31m---------------------------------------------------------------------------\u001b[0m",
      "\u001b[1;31mKeyError\u001b[0m                                  Traceback (most recent call last)",
      "Input \u001b[1;32mIn [25]\u001b[0m, in \u001b[0;36m<cell line: 1>\u001b[1;34m()\u001b[0m\n\u001b[1;32m----> 1\u001b[0m \u001b[43mdic\u001b[49m\u001b[43m[\u001b[49m\u001b[38;5;241;43m0\u001b[39;49m\u001b[43m]\u001b[49m\n",
      "\u001b[1;31mKeyError\u001b[0m: 0"
     ]
    }
   ],
   "source": [
    "dic[0]"
   ]
  },
  {
   "cell_type": "code",
   "execution_count": 27,
   "id": "40985e44",
   "metadata": {},
   "outputs": [
    {
     "ename": "TypeError",
     "evalue": "'set' object is not subscriptable",
     "output_type": "error",
     "traceback": [
      "\u001b[1;31m---------------------------------------------------------------------------\u001b[0m",
      "\u001b[1;31mTypeError\u001b[0m                                 Traceback (most recent call last)",
      "Input \u001b[1;32mIn [27]\u001b[0m, in \u001b[0;36m<cell line: 1>\u001b[1;34m()\u001b[0m\n\u001b[1;32m----> 1\u001b[0m \u001b[43ms\u001b[49m\u001b[43m[\u001b[49m\u001b[38;5;241;43m0\u001b[39;49m\u001b[43m]\u001b[49m\n",
      "\u001b[1;31mTypeError\u001b[0m: 'set' object is not subscriptable"
     ]
    }
   ],
   "source": [
    "s[0]"
   ]
  },
  {
   "cell_type": "code",
   "execution_count": 5,
   "id": "fccc8bce",
   "metadata": {},
   "outputs": [
    {
     "data": {
      "text/plain": [
       "(1, 2, [3, 4, 5])"
      ]
     },
     "execution_count": 5,
     "metadata": {},
     "output_type": "execute_result"
    }
   ],
   "source": [
    "# unpacking with lists:\n",
    "l = [1,2,3,4,5]\n",
    "\n",
    "a,b,*c = l\n",
    "\n",
    "a,b,c"
   ]
  },
  {
   "cell_type": "code",
   "execution_count": 6,
   "id": "0bbee1de",
   "metadata": {},
   "outputs": [
    {
     "data": {
      "text/plain": [
       "(1, 2, [3, 4], 5)"
      ]
     },
     "execution_count": 6,
     "metadata": {},
     "output_type": "execute_result"
    }
   ],
   "source": [
    "l = [1,2,3,4,5]\n",
    "\n",
    "a,b,*c,d = l\n",
    "\n",
    "a,b,c,d"
   ]
  },
  {
   "cell_type": "code",
   "execution_count": 8,
   "id": "f8991703",
   "metadata": {},
   "outputs": [
    {
     "ename": "SyntaxError",
     "evalue": "multiple starred expressions in assignment (776439440.py, line 5)",
     "output_type": "error",
     "traceback": [
      "\u001b[1;36m  Input \u001b[1;32mIn [8]\u001b[1;36m\u001b[0m\n\u001b[1;33m    a,b,*c,*d = l\u001b[0m\n\u001b[1;37m    ^\u001b[0m\n\u001b[1;31mSyntaxError\u001b[0m\u001b[1;31m:\u001b[0m multiple starred expressions in assignment\n"
     ]
    }
   ],
   "source": [
    "# you can use the star only once\n",
    "\n",
    "l = [1,2,3,4,5]\n",
    "\n",
    "a,b,*c,*d = l\n",
    "\n",
    "a,b,c,d"
   ]
  },
  {
   "cell_type": "code",
   "execution_count": 9,
   "id": "f70bf542",
   "metadata": {},
   "outputs": [
    {
     "data": {
      "text/plain": [
       "[1, 2, 3, 'x', 'y', 'z']"
      ]
     },
     "execution_count": 9,
     "metadata": {},
     "output_type": "execute_result"
    }
   ],
   "source": [
    "# star on right side\n",
    "l1 = [1,2,3]\n",
    "l2 = 'xyz'\n",
    "\n",
    "l = [*l1,*l2]\n",
    "\n",
    "l"
   ]
  },
  {
   "cell_type": "code",
   "execution_count": 14,
   "id": "16ba6c5a",
   "metadata": {},
   "outputs": [
    {
     "data": {
      "text/plain": [
       "('d', [10, 3], -99)"
      ]
     },
     "execution_count": 14,
     "metadata": {},
     "output_type": "execute_result"
    }
   ],
   "source": [
    "# using * with ordered types such as sets and dicts\n",
    "\n",
    "s = {10,-99,3,'d'}\n",
    "\n",
    "a, *b, c = s\n",
    "\n",
    "a,b,c # but the problem with this is you cannot predict what a,b and c are going to hold since in sets order is not preserved.\n"
   ]
  },
  {
   "cell_type": "code",
   "execution_count": 15,
   "id": "679c774a",
   "metadata": {},
   "outputs": [
    {
     "data": {
      "text/plain": [
       "['apple', 'orange', 'kiwi', 'sappota', 'grapes', 'pomogranate']"
      ]
     },
     "execution_count": 15,
     "metadata": {},
     "output_type": "execute_result"
    }
   ],
   "source": [
    "# right side * usage to unpack the keys of the dictionary\n",
    "\n",
    "d1 = {'apple': 50,'orange':35}\n",
    "d2 = {'kiwi':300,'sappota':23}\n",
    "d3 = {'grapes':40,'pomogranate':25}\n",
    "\n",
    "l = [*d1,*d2,*d3]\n",
    "l"
   ]
  },
  {
   "cell_type": "code",
   "execution_count": 16,
   "id": "03b69d4f",
   "metadata": {},
   "outputs": [
    {
     "ename": "SyntaxError",
     "evalue": "invalid syntax (2285513355.py, line 6)",
     "output_type": "error",
     "traceback": [
      "\u001b[1;36m  Input \u001b[1;32mIn [16]\u001b[1;36m\u001b[0m\n\u001b[1;33m    l = [**d1,**d2,**d3]\u001b[0m\n\u001b[1;37m         ^\u001b[0m\n\u001b[1;31mSyntaxError\u001b[0m\u001b[1;31m:\u001b[0m invalid syntax\n"
     ]
    }
   ],
   "source": [
    "# using ** to access the dictionary keys and values together\n",
    "\n",
    "\"\"\"\n",
    "1. key thing to note here is it won't work with list.\n",
    "2. using ** on lhs won't work\n",
    "3. you have to use curly braces on rhs to make it work and capture keys and values of dictionaries.\n",
    "\"\"\"\n",
    "d1 = {'apple': 50,'orange':35}\n",
    "d2 = {'kiwi':300,'sappota':23}\n",
    "d3 = {'grapes':40,'pomogranate':25}\n",
    "\n",
    "l = [**d1,**d2,**d3] \n",
    "l # conclusion: can't perform that with a list"
   ]
  },
  {
   "cell_type": "code",
   "execution_count": 18,
   "id": "091dbbd5",
   "metadata": {},
   "outputs": [
    {
     "data": {
      "text/plain": [
       "{'apple': 50,\n",
       " 'orange': 35,\n",
       " 'kiwi': 300,\n",
       " 'sappota': 23,\n",
       " 'grapes': 40,\n",
       " 'pomogranate': 25}"
      ]
     },
     "execution_count": 18,
     "metadata": {},
     "output_type": "execute_result"
    }
   ],
   "source": [
    "d1 = {'apple': 50,'orange':35}\n",
    "d2 = {'kiwi':300,'sappota':23}\n",
    "d3 = {'grapes':40,'pomogranate':25}\n",
    "\n",
    "s = {**d1,**d2,**d3}\n",
    "s # "
   ]
  },
  {
   "cell_type": "code",
   "execution_count": 21,
   "id": "ec5c02de",
   "metadata": {},
   "outputs": [
    {
     "data": {
      "text/plain": [
       "(1, 2, [3, 4])"
      ]
     },
     "execution_count": 21,
     "metadata": {},
     "output_type": "execute_result"
    }
   ],
   "source": [
    "# unpacking the nested list\n",
    "\n",
    "lis = [1,2,[3,4]]\n",
    "a,b,c = lis\n",
    "\n",
    "a,b,c"
   ]
  },
  {
   "cell_type": "code",
   "execution_count": 24,
   "id": "c6c5119c",
   "metadata": {},
   "outputs": [
    {
     "data": {
      "text/plain": [
       "(1, [2, 3, 4], 'g', 'e', 'o', 'r')"
      ]
     },
     "execution_count": 24,
     "metadata": {},
     "output_type": "execute_result"
    }
   ],
   "source": [
    "# nested unpacking\n",
    "\n",
    "lis = [1,2,3,4,'geor']\n",
    "\n",
    "a, *b, (c1,c2,c3,c4) = lis\n",
    "\n",
    "a,b,c1,c2,c3,c4"
   ]
  },
  {
   "cell_type": "code",
   "execution_count": 27,
   "id": "603e3641",
   "metadata": {},
   "outputs": [
    {
     "ename": "SyntaxError",
     "evalue": "can't use starred expression here (217197832.py, line 5)",
     "output_type": "error",
     "traceback": [
      "\u001b[1;36m  Input \u001b[1;32mIn [27]\u001b[1;36m\u001b[0m\n\u001b[1;33m    a,*b,(*chars) = lis\u001b[0m\n\u001b[1;37m          ^\u001b[0m\n\u001b[1;31mSyntaxError\u001b[0m\u001b[1;31m:\u001b[0m can't use starred expression here\n"
     ]
    }
   ],
   "source": [
    "# multiple times star when nested unpacking\n",
    "\n",
    "lis = [1,2,3,4,'geor']\n",
    "\n",
    "a,*b,(*chars) = lis\n",
    "\n",
    "a,b,chars"
   ]
  },
  {
   "cell_type": "code",
   "execution_count": 28,
   "id": "0c47d218",
   "metadata": {},
   "outputs": [
    {
     "data": {
      "text/plain": [
       "(1, [2, 3, 4], ['e', 'o', 'r'])"
      ]
     },
     "execution_count": 28,
     "metadata": {},
     "output_type": "execute_result"
    }
   ],
   "source": [
    "# multiple times star when nested unpacking\n",
    "\n",
    "lis = [1,2,3,4,'geor']\n",
    "\n",
    "a,*b,(c1,*chars) = lis\n",
    "\n",
    "a,b,chars"
   ]
  },
  {
   "cell_type": "code",
   "execution_count": null,
   "id": "8fefbac8",
   "metadata": {},
   "outputs": [],
   "source": []
  },
  {
   "cell_type": "markdown",
   "id": "fc180aa2",
   "metadata": {},
   "source": [
    "# day 285"
   ]
  },
  {
   "cell_type": "markdown",
   "id": "b9a230a9",
   "metadata": {},
   "source": [
    "# *args"
   ]
  },
  {
   "cell_type": "code",
   "execution_count": 1,
   "id": "404ce5ed",
   "metadata": {
    "scrolled": true
   },
   "outputs": [
    {
     "data": {
      "text/html": [
       "\n",
       "        <iframe\n",
       "            width=\"1000\"\n",
       "            height=\"500\"\n",
       "            src=\"09+-+star-args.pdf\"\n",
       "            frameborder=\"0\"\n",
       "            allowfullscreen\n",
       "            \n",
       "        ></iframe>\n",
       "        "
      ],
      "text/plain": [
       "<IPython.lib.display.IFrame at 0x2260d90aeb0>"
      ]
     },
     "execution_count": 1,
     "metadata": {},
     "output_type": "execute_result"
    }
   ],
   "source": [
    "from IPython.display import IFrame\n",
    "\n",
    "IFrame(src='09+-+star-args.pdf',height=500,width=1000)"
   ]
  },
  {
   "cell_type": "markdown",
   "id": "2d00c703",
   "metadata": {},
   "source": [
    "# condition1:\n",
    "* don't pass a list of arguments directly into function \n",
    "* first unpack the elements of the list."
   ]
  },
  {
   "cell_type": "code",
   "execution_count": 5,
   "id": "47a01681",
   "metadata": {},
   "outputs": [
    {
     "ename": "TypeError",
     "evalue": "func1() missing 2 required positional arguments: 'b' and 'c'",
     "output_type": "error",
     "traceback": [
      "\u001b[1;31m---------------------------------------------------------------------------\u001b[0m",
      "\u001b[1;31mTypeError\u001b[0m                                 Traceback (most recent call last)",
      "Input \u001b[1;32mIn [5]\u001b[0m, in \u001b[0;36m<cell line: 6>\u001b[1;34m()\u001b[0m\n\u001b[0;32m      2\u001b[0m     \u001b[38;5;28;01mreturn\u001b[39;00m a\u001b[38;5;241m+\u001b[39mb\u001b[38;5;241m+\u001b[39mc\n\u001b[0;32m      4\u001b[0m lis \u001b[38;5;241m=\u001b[39m [\u001b[38;5;241m1\u001b[39m,\u001b[38;5;241m2\u001b[39m,\u001b[38;5;241m3\u001b[39m]\n\u001b[1;32m----> 6\u001b[0m \u001b[43mfunc1\u001b[49m\u001b[43m(\u001b[49m\u001b[43mlis\u001b[49m\u001b[43m)\u001b[49m\n",
      "\u001b[1;31mTypeError\u001b[0m: func1() missing 2 required positional arguments: 'b' and 'c'"
     ]
    }
   ],
   "source": [
    "def func1(a,b,c):\n",
    "    return a+b+c\n",
    "\n",
    "lis = [1,2,3]\n",
    "\n",
    "func1(lis)"
   ]
  },
  {
   "cell_type": "code",
   "execution_count": 6,
   "id": "03fba0e0",
   "metadata": {},
   "outputs": [
    {
     "data": {
      "text/plain": [
       "6"
      ]
     },
     "execution_count": 6,
     "metadata": {},
     "output_type": "execute_result"
    }
   ],
   "source": [
    "func1(*lis)"
   ]
  },
  {
   "cell_type": "markdown",
   "id": "340f43c0",
   "metadata": {},
   "source": [
    "# condition 2:\n",
    "\n",
    "* the *parameter is supposed to hold every argument you put inside.\n",
    "* the convention is to use *args but you can use anything.\n",
    "* the *parameter is going to pack all the arguments in the form of a tuple.\n",
    "* do not put any other parameter after the *parameter or *args."
   ]
  },
  {
   "cell_type": "code",
   "execution_count": 7,
   "id": "c1ef2793",
   "metadata": {},
   "outputs": [],
   "source": [
    "def func2(a,b,*args):\n",
    "    print(a)\n",
    "    print(b)\n",
    "    print(args)"
   ]
  },
  {
   "cell_type": "code",
   "execution_count": 8,
   "id": "40c6425b",
   "metadata": {},
   "outputs": [
    {
     "name": "stdout",
     "output_type": "stream",
     "text": [
      "5\n",
      "6\n",
      "('g', 'e', 'o', 'r', 'g', 'e')\n"
     ]
    }
   ],
   "source": [
    "func2(5,6,'g','e','o','r','g','e')"
   ]
  },
  {
   "cell_type": "code",
   "execution_count": 9,
   "id": "2266d08f",
   "metadata": {},
   "outputs": [],
   "source": [
    "# violating the condition\n",
    "def func2(a,b,*args,c):\n",
    "    print(a)\n",
    "    print(b)\n",
    "    print(args)\n",
    "    print(c)\n",
    "    \n"
   ]
  },
  {
   "cell_type": "code",
   "execution_count": 10,
   "id": "5fd15174",
   "metadata": {},
   "outputs": [
    {
     "ename": "TypeError",
     "evalue": "func2() missing 1 required keyword-only argument: 'c'",
     "output_type": "error",
     "traceback": [
      "\u001b[1;31m---------------------------------------------------------------------------\u001b[0m",
      "\u001b[1;31mTypeError\u001b[0m                                 Traceback (most recent call last)",
      "Input \u001b[1;32mIn [10]\u001b[0m, in \u001b[0;36m<cell line: 1>\u001b[1;34m()\u001b[0m\n\u001b[1;32m----> 1\u001b[0m \u001b[43mfunc2\u001b[49m\u001b[43m(\u001b[49m\u001b[38;5;241;43m5\u001b[39;49m\u001b[43m,\u001b[49m\u001b[38;5;241;43m6\u001b[39;49m\u001b[43m,\u001b[49m\u001b[38;5;124;43m'\u001b[39;49m\u001b[38;5;124;43mg\u001b[39;49m\u001b[38;5;124;43m'\u001b[39;49m\u001b[43m,\u001b[49m\u001b[38;5;124;43m'\u001b[39;49m\u001b[38;5;124;43me\u001b[39;49m\u001b[38;5;124;43m'\u001b[39;49m\u001b[43m,\u001b[49m\u001b[38;5;124;43m'\u001b[39;49m\u001b[38;5;124;43mo\u001b[39;49m\u001b[38;5;124;43m'\u001b[39;49m\u001b[43m,\u001b[49m\u001b[38;5;124;43m'\u001b[39;49m\u001b[38;5;124;43mr\u001b[39;49m\u001b[38;5;124;43m'\u001b[39;49m\u001b[43m,\u001b[49m\u001b[38;5;124;43m'\u001b[39;49m\u001b[38;5;124;43mg\u001b[39;49m\u001b[38;5;124;43m'\u001b[39;49m\u001b[43m,\u001b[49m\u001b[38;5;124;43m'\u001b[39;49m\u001b[38;5;124;43me\u001b[39;49m\u001b[38;5;124;43m'\u001b[39;49m\u001b[43m)\u001b[49m\n",
      "\u001b[1;31mTypeError\u001b[0m: func2() missing 1 required keyword-only argument: 'c'"
     ]
    }
   ],
   "source": [
    "func2(5,6,'g','e','o','r','g','e')"
   ]
  },
  {
   "cell_type": "code",
   "execution_count": null,
   "id": "6f3f8027",
   "metadata": {},
   "outputs": [],
   "source": []
  },
  {
   "cell_type": "markdown",
   "id": "ca537ad6",
   "metadata": {},
   "source": [
    "# keyword arguments"
   ]
  },
  {
   "cell_type": "code",
   "execution_count": 1,
   "id": "2c788a77",
   "metadata": {},
   "outputs": [
    {
     "data": {
      "text/html": [
       "\n",
       "        <iframe\n",
       "            width=\"1000\"\n",
       "            height=\"500\"\n",
       "            src=\"11+-+Keyword+Arguments.pdf\"\n",
       "            frameborder=\"0\"\n",
       "            allowfullscreen\n",
       "            \n",
       "        ></iframe>\n",
       "        "
      ],
      "text/plain": [
       "<IPython.lib.display.IFrame at 0x1fbcb3839d0>"
      ]
     },
     "execution_count": 1,
     "metadata": {},
     "output_type": "execute_result"
    }
   ],
   "source": [
    "from IPython.display  import IFrame\n",
    "\n",
    "IFrame(src='11+-+Keyword+Arguments.pdf',height=500,width=1000)"
   ]
  },
  {
   "cell_type": "markdown",
   "id": "46783a2a",
   "metadata": {},
   "source": [
    "# condition1\n",
    "\n",
    "* *args exhaust all the postional arguments so anything that comes after *args need to be literally specified and this is called keyword argument.\n",
    "* after * must come a name like *args, *parameter, *george if you leave it simply then you may run into errors.\n",
    "* you can give argument only for keyword, ignoring the args altogether. in which case empty tuple will be returned for the *args.\n",
    "\n",
    "# condition 2:\n",
    "* after the bare *, the function doesn't take any postional arguments, so pass only keyword arguments\n",
    "* when creating a function make it a habit to define the keyword parameters with default values that would come after *args or bare * "
   ]
  },
  {
   "cell_type": "code",
   "execution_count": 12,
   "id": "9527f4be",
   "metadata": {},
   "outputs": [],
   "source": [
    "def func1(*args,keyword):\n",
    "    print(args)\n",
    "    print(keyword)"
   ]
  },
  {
   "cell_type": "code",
   "execution_count": 16,
   "id": "ee2c9a5a",
   "metadata": {},
   "outputs": [
    {
     "name": "stdout",
     "output_type": "stream",
     "text": [
      "('a', 'b', 'c')\n",
      "calculus\n"
     ]
    }
   ],
   "source": [
    "func1('a','b','c',keyword='calculus')"
   ]
  },
  {
   "cell_type": "code",
   "execution_count": 17,
   "id": "0521886e",
   "metadata": {},
   "outputs": [
    {
     "ename": "TypeError",
     "evalue": "func1() missing 1 required keyword-only argument: 'keyword'",
     "output_type": "error",
     "traceback": [
      "\u001b[1;31m---------------------------------------------------------------------------\u001b[0m",
      "\u001b[1;31mTypeError\u001b[0m                                 Traceback (most recent call last)",
      "Input \u001b[1;32mIn [17]\u001b[0m, in \u001b[0;36m<cell line: 3>\u001b[1;34m()\u001b[0m\n\u001b[0;32m      1\u001b[0m \u001b[38;5;66;03m# violation of condition: not explicitly assigning values to the keyword argument\u001b[39;00m\n\u001b[1;32m----> 3\u001b[0m \u001b[43mfunc1\u001b[49m\u001b[43m(\u001b[49m\u001b[38;5;124;43m'\u001b[39;49m\u001b[38;5;124;43ma\u001b[39;49m\u001b[38;5;124;43m'\u001b[39;49m\u001b[43m,\u001b[49m\u001b[38;5;124;43m'\u001b[39;49m\u001b[38;5;124;43mb\u001b[39;49m\u001b[38;5;124;43m'\u001b[39;49m\u001b[43m,\u001b[49m\u001b[38;5;124;43m'\u001b[39;49m\u001b[38;5;124;43mc\u001b[39;49m\u001b[38;5;124;43m'\u001b[39;49m\u001b[43m)\u001b[49m\n",
      "\u001b[1;31mTypeError\u001b[0m: func1() missing 1 required keyword-only argument: 'keyword'"
     ]
    }
   ],
   "source": [
    "# violation of condition1: not explicitly assigning values to the keyword argument\n",
    "\n",
    "func1('a','b','c')"
   ]
  },
  {
   "cell_type": "code",
   "execution_count": 18,
   "id": "88488d3c",
   "metadata": {},
   "outputs": [
    {
     "ename": "SyntaxError",
     "evalue": "invalid syntax (241727034.py, line 2)",
     "output_type": "error",
     "traceback": [
      "\u001b[1;36m  Input \u001b[1;32mIn [18]\u001b[1;36m\u001b[0m\n\u001b[1;33m    func1(*,keyword='george')\u001b[0m\n\u001b[1;37m           ^\u001b[0m\n\u001b[1;31mSyntaxError\u001b[0m\u001b[1;31m:\u001b[0m invalid syntax\n"
     ]
    }
   ],
   "source": [
    "# violation of condition 1: leaving the * without a name\n",
    "func1(*,keyword='george')"
   ]
  },
  {
   "cell_type": "code",
   "execution_count": 19,
   "id": "8c3b03e0",
   "metadata": {},
   "outputs": [
    {
     "name": "stdout",
     "output_type": "stream",
     "text": [
      "()\n",
      "3\n"
     ]
    }
   ],
   "source": [
    "func1(keyword=3) # the emp"
   ]
  },
  {
   "cell_type": "code",
   "execution_count": 28,
   "id": "feea5735",
   "metadata": {},
   "outputs": [],
   "source": [
    "def func2(a,b,*,d):\n",
    "    print(a,b,d)"
   ]
  },
  {
   "cell_type": "code",
   "execution_count": 30,
   "id": "0607d81d",
   "metadata": {},
   "outputs": [
    {
     "name": "stdout",
     "output_type": "stream",
     "text": [
      "1 2 3\n"
     ]
    }
   ],
   "source": [
    "func2(1,2,d=3)"
   ]
  },
  {
   "cell_type": "code",
   "execution_count": 31,
   "id": "2bf9da0c",
   "metadata": {},
   "outputs": [
    {
     "ename": "TypeError",
     "evalue": "func2() takes 2 positional arguments but 3 were given",
     "output_type": "error",
     "traceback": [
      "\u001b[1;31m---------------------------------------------------------------------------\u001b[0m",
      "\u001b[1;31mTypeError\u001b[0m                                 Traceback (most recent call last)",
      "Input \u001b[1;32mIn [31]\u001b[0m, in \u001b[0;36m<cell line: 2>\u001b[1;34m()\u001b[0m\n\u001b[0;32m      1\u001b[0m \u001b[38;5;66;03m# violation of condtion 2: passing a postional argument instead of a keyword argument after a bare star.\u001b[39;00m\n\u001b[1;32m----> 2\u001b[0m \u001b[43mfunc2\u001b[49m\u001b[43m(\u001b[49m\u001b[38;5;241;43m1\u001b[39;49m\u001b[43m,\u001b[49m\u001b[38;5;241;43m2\u001b[39;49m\u001b[43m,\u001b[49m\u001b[38;5;241;43m3\u001b[39;49m\u001b[43m)\u001b[49m\n",
      "\u001b[1;31mTypeError\u001b[0m: func2() takes 2 positional arguments but 3 were given"
     ]
    }
   ],
   "source": [
    "# violation of condtion 2: passing a postional argument instead of a keyword argument after a bare star.\n",
    "func2(1,2,3)"
   ]
  },
  {
   "cell_type": "code",
   "execution_count": 34,
   "id": "f73a99cf",
   "metadata": {},
   "outputs": [],
   "source": [
    "def func2(a,b,*args,d=3,e=0):\n",
    "    print(a,b,args,d,e)"
   ]
  },
  {
   "cell_type": "code",
   "execution_count": 35,
   "id": "c5ad3e8b",
   "metadata": {},
   "outputs": [
    {
     "name": "stdout",
     "output_type": "stream",
     "text": [
      "10 -11 () 3 0\n"
     ]
    }
   ],
   "source": [
    "# a is mandatorily need to be supplied \n",
    "# b is mandatoriy need to be supplied\n",
    "# args can be optionally supplied meaning you can leave it empty also.\n",
    "# d and e are keyword parameters.\n",
    "\n",
    "\n",
    "func2(a=10,b=-11)"
   ]
  },
  {
   "cell_type": "code",
   "execution_count": null,
   "id": "f9d8382f",
   "metadata": {},
   "outputs": [],
   "source": []
  },
  {
   "cell_type": "markdown",
   "id": "06bbe48c",
   "metadata": {},
   "source": [
    "# day 292"
   ]
  },
  {
   "cell_type": "markdown",
   "id": "995ec7c2",
   "metadata": {},
   "source": [
    "# we can scoop up an arbitrary number of postional arguments (*args) but can we do that with keyword arguments: can we take in many keyword arguments at once?\n",
    "\n",
    "## notes:\n",
    "* you can use `**kwargs ` \n",
    "* the function would take no other parameter after `**kwargs` \n",
    "* `**kwargs` creates a dictionary to hold the key as the key and the argument as the value whereas the `*args` uses a tuple to hold many arguments."
   ]
  },
  {
   "cell_type": "code",
   "execution_count": 4,
   "id": "9495a91f",
   "metadata": {},
   "outputs": [
    {
     "data": {
      "text/plain": [
       "{'a': 1, 'b': 2, 'c': 3}"
      ]
     },
     "execution_count": 4,
     "metadata": {},
     "output_type": "execute_result"
    }
   ],
   "source": [
    "# this is a keyword argument meaning you can have keys for each each argument\n",
    "def func1(**kwargs):\n",
    "    return kwargs\n",
    "\n",
    "func1(a=1,b=2,c=3)"
   ]
  },
  {
   "cell_type": "code",
   "execution_count": 6,
   "id": "1e707a41",
   "metadata": {},
   "outputs": [
    {
     "data": {
      "text/plain": [
       "(1, 2, 3)"
      ]
     },
     "execution_count": 6,
     "metadata": {},
     "output_type": "execute_result"
    }
   ],
   "source": [
    "# this is a postional argument meaning the position of object inside the function matters.\n",
    "def func1(*args):\n",
    "    return args\n",
    "\n",
    "func1(1,2,3)"
   ]
  },
  {
   "cell_type": "code",
   "execution_count": 7,
   "id": "50b411e7",
   "metadata": {},
   "outputs": [
    {
     "data": {
      "text/plain": [
       "(('G', 'E'), {'a': 10, 'b': 20})"
      ]
     },
     "execution_count": 7,
     "metadata": {},
     "output_type": "execute_result"
    }
   ],
   "source": [
    "# combining postional arguments and keyword arguments\n",
    "def func1(*args,**kwargs):\n",
    "    return args,kwargs\n",
    "\n",
    "func1('G','E',a=10,b=20)\n"
   ]
  },
  {
   "cell_type": "code",
   "execution_count": 8,
   "id": "56449639",
   "metadata": {},
   "outputs": [
    {
     "ename": "SyntaxError",
     "evalue": "invalid syntax (1278994809.py, line 3)",
     "output_type": "error",
     "traceback": [
      "\u001b[1;36m  Input \u001b[1;32mIn [8]\u001b[1;36m\u001b[0m\n\u001b[1;33m    def func(**kwargs,*args):\u001b[0m\n\u001b[1;37m                      ^\u001b[0m\n\u001b[1;31mSyntaxError\u001b[0m\u001b[1;31m:\u001b[0m invalid syntax\n"
     ]
    }
   ],
   "source": [
    "# this would cause error because no postional *args are allowed after **kwargs\n",
    "\n",
    "def func(**kwargs,*args):\n",
    "    return kwargs,args\n",
    "\n",
    "func(a=10,b=20,'G','E') # we learn from errors make sure the errors were of other people."
   ]
  },
  {
   "cell_type": "code",
   "execution_count": null,
   "id": "c22ae962",
   "metadata": {},
   "outputs": [],
   "source": []
  },
  {
   "cell_type": "markdown",
   "id": "1b84610b",
   "metadata": {},
   "source": [
    "# RECAP lecture:"
   ]
  },
  {
   "cell_type": "code",
   "execution_count": 10,
   "id": "4a6930d3",
   "metadata": {},
   "outputs": [
    {
     "data": {
      "text/html": [
       "\n",
       "        <iframe\n",
       "            width=\"1000\"\n",
       "            height=\"500\"\n",
       "            src=\"14+-+Putting+it+all+together.pdf\"\n",
       "            frameborder=\"0\"\n",
       "            allowfullscreen\n",
       "            \n",
       "        ></iframe>\n",
       "        "
      ],
      "text/plain": [
       "<IPython.lib.display.IFrame at 0x1fbcc4809a0>"
      ]
     },
     "execution_count": 10,
     "metadata": {},
     "output_type": "execute_result"
    }
   ],
   "source": [
    "from IPython.display import IFrame\n",
    "IFrame(src='14+-+Putting+it+all+together.pdf',height=500,width=1000)"
   ]
  },
  {
   "cell_type": "markdown",
   "id": "b28e62cd",
   "metadata": {},
   "source": [
    "# conclusion\n",
    "\n",
    "* After the keyword argument(s), you cannot use the postional argument(s).\n",
    "* But After the postional argument(s), you can the keyword argument(s)."
   ]
  },
  {
   "cell_type": "code",
   "execution_count": null,
   "id": "c7849642",
   "metadata": {},
   "outputs": [],
   "source": []
  },
  {
   "cell_type": "markdown",
   "id": "5adf760f",
   "metadata": {},
   "source": [
    "# day 295"
   ]
  },
  {
   "cell_type": "code",
   "execution_count": 25,
   "id": "29f0f90a",
   "metadata": {},
   "outputs": [],
   "source": [
    "# creating time_it function \n",
    "import time\n",
    "\n",
    "def time_it(fn,*args,rep=1,**kwargs):\n",
    "    \n",
    "    \n",
    "    \"\"\"\n",
    "    Args:\n",
    "    fn: a function whose exectution time we are trying to calculate.\n",
    "    *args: arguments for the function.\n",
    "    rep: number of execution times.\n",
    "    kwargs: number of keyword arguments.\n",
    "    \"\"\"\n",
    "    start = time.perf_counter()\n",
    "    \n",
    "    # running the function fn for rep number of times.\n",
    "    for i in range(rep):\n",
    "        fn(*args,**kwargs) # unpacking the args and kwargs inside the function\n",
    "        \n",
    "    end = time.perf_counter()\n",
    "    \n",
    "    # returns the time in seconds (seconds is the SI unit of Time)\n",
    "    return (end-start)\n",
    "\n"
   ]
  },
  {
   "cell_type": "code",
   "execution_count": 9,
   "id": "d0efff3a",
   "metadata": {},
   "outputs": [
    {
     "name": "stdout",
     "output_type": "stream",
     "text": [
      "(1, 2, 3)\n",
      "(1, 2, 3)\n",
      "(1, 2, 3)\n",
      "(1, 2, 3)\n",
      "(1, 2, 3)\n"
     ]
    },
    {
     "data": {
      "text/plain": [
       "5.842000000484404e-05"
      ]
     },
     "execution_count": 9,
     "metadata": {},
     "output_type": "execute_result"
    }
   ],
   "source": [
    "time_it(print,(1,2,3),n=5)"
   ]
  },
  {
   "cell_type": "code",
   "execution_count": 19,
   "id": "d24a33b6",
   "metadata": {},
   "outputs": [],
   "source": [
    "# creating a custom function to time the time it takes to execute it\n",
    "\n",
    "def compute_powers(n,*,start=1,end):\n",
    "    \"\"\"\n",
    "    Args:\n",
    "    The goal of this function is to compute the power of any given number with specified starting and endings exponents.\n",
    "    n: base number \n",
    "    start: starting exponent\n",
    "    end: ending exponent\n",
    "    \n",
    "    \"\"\"\n",
    "    # returns the power of the said number.\n",
    "    return [n**i for i in range(start,end+1)]\n"
   ]
  },
  {
   "cell_type": "code",
   "execution_count": 20,
   "id": "5c4ca06c",
   "metadata": {},
   "outputs": [
    {
     "data": {
      "text/plain": [
       "[2, 4, 8, 16, 32, 64, 128, 256, 512, 1024]"
      ]
     },
     "execution_count": 20,
     "metadata": {},
     "output_type": "execute_result"
    }
   ],
   "source": [
    "compute_powers(n=2,end=10)"
   ]
  },
  {
   "cell_type": "code",
   "execution_count": 30,
   "id": "1ec21160",
   "metadata": {},
   "outputs": [
    {
     "data": {
      "text/plain": [
       "2.172186800000418"
      ]
     },
     "execution_count": 30,
     "metadata": {},
     "output_type": "execute_result"
    }
   ],
   "source": [
    "# now time the execution of compute_power function\n",
    "time_it(compute_powers,n=2,end=20000,rep=5)"
   ]
  },
  {
   "cell_type": "code",
   "execution_count": null,
   "id": "8a4095f7",
   "metadata": {},
   "outputs": [],
   "source": []
  },
  {
   "cell_type": "markdown",
   "id": "f6196f3e",
   "metadata": {},
   "source": [
    "# generators:\n",
    "\n",
    "* it is similar to list comprehension but the main differernce is: # using () instead [] for creating generators\n",
    "* the advantage of generators is it only does the computation only when used and other times it just remains idle. \n",
    "* this can save up a lot of our compute when coding.\n"
   ]
  },
  {
   "cell_type": "code",
   "execution_count": 31,
   "id": "a5c6d812",
   "metadata": {},
   "outputs": [],
   "source": [
    "\n",
    "\n",
    "def kundi(n=2):\n",
    "    return (n**i for i in range(0,11)) # using () instead [] for creating generators\n",
    "\n",
    "\n"
   ]
  },
  {
   "cell_type": "code",
   "execution_count": 32,
   "id": "7db83044",
   "metadata": {},
   "outputs": [
    {
     "data": {
      "text/plain": [
       "<generator object kundi.<locals>.<genexpr> at 0x000001FF30A95580>"
      ]
     },
     "execution_count": 32,
     "metadata": {},
     "output_type": "execute_result"
    }
   ],
   "source": [
    "# unused generator\n",
    "kundi(n=5)"
   ]
  },
  {
   "cell_type": "code",
   "execution_count": 33,
   "id": "2b74239e",
   "metadata": {},
   "outputs": [
    {
     "data": {
      "text/plain": [
       "[1, 5, 25, 125, 625, 3125, 15625, 78125, 390625, 1953125, 9765625]"
      ]
     },
     "execution_count": 33,
     "metadata": {},
     "output_type": "execute_result"
    }
   ],
   "source": [
    "# used generator\n",
    "list(kundi(n=5))"
   ]
  },
  {
   "cell_type": "code",
   "execution_count": null,
   "id": "c508d821",
   "metadata": {},
   "outputs": [],
   "source": []
  },
  {
   "cell_type": "markdown",
   "id": "f1eb90b4",
   "metadata": {},
   "source": [
    "# default values;\n",
    "\n"
   ]
  },
  {
   "cell_type": "code",
   "execution_count": 35,
   "id": "5f114a6f",
   "metadata": {},
   "outputs": [
    {
     "data": {
      "text/html": [
       "\n",
       "        <iframe\n",
       "            width=\"1000\"\n",
       "            height=\"500\"\n",
       "            src=\"17+-+Default+Values.pdf\"\n",
       "            frameborder=\"0\"\n",
       "            allowfullscreen\n",
       "            \n",
       "        ></iframe>\n",
       "        "
      ],
      "text/plain": [
       "<IPython.lib.display.IFrame at 0x1ff300b5d90>"
      ]
     },
     "execution_count": 35,
     "metadata": {},
     "output_type": "execute_result"
    }
   ],
   "source": [
    "from IPython.display import IFrame\n",
    "IFrame(src='17+-+Default+Values.pdf',height=500,width=1000)"
   ]
  },
  {
   "cell_type": "markdown",
   "id": "bf6f6429",
   "metadata": {},
   "source": [
    "# day 299"
   ]
  },
  {
   "cell_type": "code",
   "execution_count": 4,
   "id": "fe3b6480",
   "metadata": {},
   "outputs": [
    {
     "data": {
      "text/plain": [
       "datetime.date(2024, 1, 29)"
      ]
     },
     "execution_count": 4,
     "metadata": {},
     "output_type": "execute_result"
    }
   ],
   "source": [
    "from datetime import date\n",
    "date.today()"
   ]
  },
  {
   "cell_type": "code",
   "execution_count": 11,
   "id": "c7ecc4e3",
   "metadata": {},
   "outputs": [
    {
     "data": {
      "text/plain": [
       "datetime.datetime(2024, 1, 29, 15, 38, 5, 536725)"
      ]
     },
     "execution_count": 11,
     "metadata": {},
     "output_type": "execute_result"
    }
   ],
   "source": [
    "import datetime\n",
    "datetime.datetime.now()"
   ]
  },
  {
   "cell_type": "code",
   "execution_count": 12,
   "id": "f23ad668",
   "metadata": {},
   "outputs": [
    {
     "data": {
      "text/plain": [
       "datetime.datetime(2024, 1, 29, 10, 10, 3, 180442)"
      ]
     },
     "execution_count": 12,
     "metadata": {},
     "output_type": "execute_result"
    }
   ],
   "source": [
    "datetime.datetime.utcnow()"
   ]
  },
  {
   "cell_type": "code",
   "execution_count": 15,
   "id": "dbaedb21",
   "metadata": {},
   "outputs": [
    {
     "name": "stdout",
     "output_type": "stream",
     "text": [
      "calculating: 3! \n",
      "calculating: 2! \n",
      "calculating: 1! \n"
     ]
    },
    {
     "data": {
      "text/plain": [
       "6"
      ]
     },
     "execution_count": 15,
     "metadata": {},
     "output_type": "execute_result"
    }
   ],
   "source": [
    "# factorial:\n",
    "\n",
    "def factorial(n,cache={}):\n",
    "    if n < 1:\n",
    "        return 1\n",
    "    elif n in cache:\n",
    "        return cache[n]\n",
    "    \n",
    "    else:\n",
    "        print(\"calculating: {0}! \".format(n))\n",
    "        result = n*factorial(n-1)\n",
    "        cache[n] = result\n",
    "        \n",
    "        return result\n",
    "    \n",
    "    \n",
    "factorial(3)\n",
    "    "
   ]
  },
  {
   "cell_type": "code",
   "execution_count": 16,
   "id": "6617bd4f",
   "metadata": {},
   "outputs": [
    {
     "name": "stdout",
     "output_type": "stream",
     "text": [
      "calculating: 4! \n"
     ]
    },
    {
     "data": {
      "text/plain": [
       "24"
      ]
     },
     "execution_count": 16,
     "metadata": {},
     "output_type": "execute_result"
    }
   ],
   "source": [
    "factorial(4)"
   ]
  },
  {
   "cell_type": "code",
   "execution_count": 17,
   "id": "e0a8a65d",
   "metadata": {},
   "outputs": [
    {
     "name": "stdout",
     "output_type": "stream",
     "text": [
      "calculating: 7! \n",
      "calculating: 6! \n",
      "calculating: 5! \n"
     ]
    },
    {
     "data": {
      "text/plain": [
       "5040"
      ]
     },
     "execution_count": 17,
     "metadata": {},
     "output_type": "execute_result"
    }
   ],
   "source": [
    "factorial(7)"
   ]
  },
  {
   "cell_type": "markdown",
   "id": "d5279614",
   "metadata": {},
   "source": [
    "## conclusion: this caching process is called MEMOIZATION."
   ]
  },
  {
   "cell_type": "code",
   "execution_count": null,
   "id": "12491f43",
   "metadata": {},
   "outputs": [],
   "source": []
  }
 ],
 "metadata": {
  "kernelspec": {
   "display_name": "Python 3 (ipykernel)",
   "language": "python",
   "name": "python3"
  },
  "language_info": {
   "codemirror_mode": {
    "name": "ipython",
    "version": 3
   },
   "file_extension": ".py",
   "mimetype": "text/x-python",
   "name": "python",
   "nbconvert_exporter": "python",
   "pygments_lexer": "ipython3",
   "version": "3.9.12"
  }
 },
 "nbformat": 4,
 "nbformat_minor": 5
}
