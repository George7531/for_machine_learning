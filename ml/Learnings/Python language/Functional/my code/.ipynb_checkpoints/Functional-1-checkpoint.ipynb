version https://git-lfs.github.com/spec/v1
oid sha256:181f27353988f0d95c8dbbc845d26db0bf9242ae7f85008658d12fe17cb6bdda
size 40094
