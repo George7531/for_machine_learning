{
 "cells": [
  {
   "cell_type": "markdown",
   "id": "9de3c3fa",
   "metadata": {},
   "source": [
    "# The Zen of python\n",
    "\n",
    "1. Beautiful is better than ugly.\n",
    "2. Explicit is better than implicit.\n",
    "3. Transparent is better than obscured.\n",
    "4. Simple is better than complex.\n",
    "5. Complex is better than complicated.\n",
    "6. Flat is better than nested.\n",
    "7. Readability is important.\n",
    "8. Sparse is better than dense.\n",
    "9. Errors should never pass silently unless explicitly silenced.\n",
    "10. In the face of Ambiguity, refuse the temptation to guess. \n",
    "11. Now is better than Never.\n",
    "12. Never is probably better than 'right' now (Don't rush into things, think well before investing Time and resources!).\n",
    "13. If the implementation is hard to explain then it is a bad idea.\n",
    "14. Be consistent.\n",
    "15. Namespaces are one honking great idea! lets do that with python."
   ]
  },
  {
   "cell_type": "code",
   "execution_count": null,
   "id": "3eb9af68",
   "metadata": {},
   "outputs": [],
   "source": []
  },
  {
   "cell_type": "markdown",
   "id": "751aa591",
   "metadata": {},
   "source": [
    "# continuation lines.\n",
    "\n",
    "\n",
    "* **during compilation every newline we add to the program will get removed and be treated as a single line by the compiler so adding newline(s) is only for our readbility and comprehension**"
   ]
  },
  {
   "cell_type": "code",
   "execution_count": 20,
   "id": "acec4711",
   "metadata": {},
   "outputs": [
    {
     "name": "stdout",
     "output_type": "stream",
     "text": [
      "True\n",
      "True\n"
     ]
    },
    {
     "data": {
      "text/plain": [
       "'this is the flexibility of writing codes in python.'"
      ]
     },
     "execution_count": 20,
     "metadata": {},
     "output_type": "execute_result"
    }
   ],
   "source": [
    "a,b,c = 1,2,3\n",
    "\n",
    "# right way of indentation in the subsequent new lines doesn't matter. you can start a newline wherever you want!\n",
    "if a \\\n",
    "        and b \\\n",
    "    and c  > 0:\n",
    "    print('True')\n",
    "    \n",
    "    \n",
    "# analogous to\n",
    "if a and b and c > 0:\n",
    "    print('True')\n",
    "    \n",
    "# conclusion:\n",
    "'''this is the flexibility of writing codes in python.'''"
   ]
  },
  {
   "cell_type": "markdown",
   "id": "95e04717",
   "metadata": {},
   "source": [
    "# continuation line with if statments doesn't work if the backslash is not used to say explicitly that we are moving to new line. "
   ]
  },
  {
   "cell_type": "code",
   "execution_count": 18,
   "id": "c316057c",
   "metadata": {},
   "outputs": [
    {
     "ename": "SyntaxError",
     "evalue": "invalid syntax (1863934300.py, line 3)",
     "output_type": "error",
     "traceback": [
      "\u001b[1;36m  Input \u001b[1;32mIn [18]\u001b[1;36m\u001b[0m\n\u001b[1;33m    if a\u001b[0m\n\u001b[1;37m         ^\u001b[0m\n\u001b[1;31mSyntaxError\u001b[0m\u001b[1;31m:\u001b[0m invalid syntax\n"
     ]
    }
   ],
   "source": [
    "a,b,c = 1,2,3\n",
    "\n",
    "if a\n",
    "and b \n",
    "and c  > 0:\n",
    "    print('True')\n",
    "    \n",
    "    \n",
    "# analogous to\n",
    "if a and b and c > 0:\n",
    "    print('True')"
   ]
  },
  {
   "cell_type": "code",
   "execution_count": 13,
   "id": "61c2ac85",
   "metadata": {},
   "outputs": [
    {
     "data": {
      "text/plain": [
       "[1, 2, 3]"
      ]
     },
     "execution_count": 13,
     "metadata": {},
     "output_type": "execute_result"
    }
   ],
   "source": [
    "a = [1, # you can write any comment you want to here!\n",
    "    2,\n",
    "    3]\n",
    "a"
   ]
  },
  {
   "cell_type": "markdown",
   "id": "abb8579b",
   "metadata": {},
   "source": [
    "# do not write anything after backslash"
   ]
  },
  {
   "cell_type": "code",
   "execution_count": 15,
   "id": "d593d78f",
   "metadata": {},
   "outputs": [
    {
     "ename": "SyntaxError",
     "evalue": "unexpected character after line continuation character (4135070000.py, line 1)",
     "output_type": "error",
     "traceback": [
      "\u001b[1;36m  Input \u001b[1;32mIn [15]\u001b[1;36m\u001b[0m\n\u001b[1;33m    a = [1, \\ # after the backslash do not write anything!\u001b[0m\n\u001b[1;37m             ^\u001b[0m\n\u001b[1;31mSyntaxError\u001b[0m\u001b[1;31m:\u001b[0m unexpected character after line continuation character\n"
     ]
    }
   ],
   "source": [
    "a = [1, \\ # after the backslash do not write anything!\n",
    "    2,  \\\n",
    "    3,  ]\n",
    "a"
   ]
  },
  {
   "cell_type": "code",
   "execution_count": 17,
   "id": "4bf00d0f",
   "metadata": {},
   "outputs": [
    {
     "data": {
      "text/plain": [
       "18"
      ]
     },
     "execution_count": 17,
     "metadata": {},
     "output_type": "execute_result"
    }
   ],
   "source": [
    "def add(a,# you can write comment here also\n",
    "    b,\n",
    "    c):\n",
    "    return (a+b+c)\n",
    "\n",
    "add(5,6,7)"
   ]
  },
  {
   "cell_type": "code",
   "execution_count": 23,
   "id": "f57496d0",
   "metadata": {},
   "outputs": [
    {
     "name": "stdout",
     "output_type": "stream",
     "text": [
      "this is an ambulance \n",
      "looking out for victims in road accidents on the highway\n"
     ]
    }
   ],
   "source": [
    "# breaking the identation rule inside a function\n",
    "\n",
    "def return_string():\n",
    "    # see! we break the identation rule with the string indented all the way to the left here.\n",
    "    a = \"\"\"this is an ambulance \n",
    "looking out for victims in road accidents on the highway\"\"\"\n",
    "    \n",
    "    print(a)\n",
    "\n",
    "\n",
    "return_string()"
   ]
  },
  {
   "cell_type": "code",
   "execution_count": null,
   "id": "d19dffb6",
   "metadata": {},
   "outputs": [],
   "source": []
  },
  {
   "cell_type": "markdown",
   "id": "00aa5dc3",
   "metadata": {},
   "source": [
    "# day 174"
   ]
  },
  {
   "cell_type": "markdown",
   "id": "27f7f49d",
   "metadata": {},
   "source": [
    "# variables \n",
    "\n",
    "# how not to create a variable?\n",
    "\n",
    "* never start the name of the varible with a digit(0-9)\n",
    "* never start a variable with a symbol(the exception is with underscore_) \n",
    "* never start a variable with the python reserved keywords such as if,elif,list,type and so on. \n",
    "\n",
    "\n",
    "# naming (non)conventions:\n",
    "\n",
    "#### creating a variable like this: _variable\n",
    "\n",
    "* if your variable begins with an underscore then it implies it is a private object for internal use and not for outsiders to mess around with.\n",
    "* the python interpreter won't let import it in this fashion: from module import *\n",
    "* so be careful when you create a variable with underscore upfront. \n",
    "\n",
    "#### double underscore: __variable\n",
    "\n",
    "* it is useful in class inheritance chains. we had some exposure with it through our dsa course.\n",
    "\n",
    "#### double underscore pre and post the variable: __variable__\n",
    "\n",
    "* these are system reserved variables such as __init__\n",
    "\n",
    "\n",
    "# naming conventions for packages,modules,classes\n",
    "\n",
    "* packages are all lower-cased letters with preferably no underscores\n",
    "* modules can have underscores and can also be without one.\n",
    "* Classes are Camel-Cased: LinkedList,BinarySearchTree, DoublyLinkedList. \n",
    "* functions are lower-cased, you can use underscores(snake_casing). i.e def fun_add(a,b):\n",
    "* variables are lower-cased, you can use underscores(snake_casing).i.e matrix_inverse, bank_account\n",
    "* constant are all UPPER-CASED, seperated by underscores.i.e SCALER = 5, C = 8, GEORGE_SCORES = 99\n",
    "\n",
    "\n",
    "\n",
    "\n"
   ]
  },
  {
   "cell_type": "code",
   "execution_count": 2,
   "id": "31ec44e5",
   "metadata": {},
   "outputs": [],
   "source": []
  },
  {
   "cell_type": "markdown",
   "id": "cebf33da",
   "metadata": {},
   "source": [
    "# one line conditions"
   ]
  },
  {
   "cell_type": "code",
   "execution_count": 4,
   "id": "f3c65553",
   "metadata": {},
   "outputs": [
    {
     "data": {
      "text/plain": [
       "'a<=5'"
      ]
     },
     "execution_count": 4,
     "metadata": {},
     "output_type": "execute_result"
    }
   ],
   "source": [
    "a = 2\n",
    "\n",
    "b = 'a<=5' if a<=5 else 'a>5'\n",
    "\n",
    "# caveat:\n",
    "\n",
    "'''one-liners are meant for executing many blocks of code with more sophistications built-in so, one-liners would work \n",
    "best for simple codes without sacrificing much of readability and comprehension'''"
   ]
  },
  {
   "cell_type": "code",
   "execution_count": null,
   "id": "3297c710",
   "metadata": {},
   "outputs": [],
   "source": []
  },
  {
   "cell_type": "markdown",
   "id": "de996f29",
   "metadata": {},
   "source": [
    "# while loop"
   ]
  },
  {
   "cell_type": "code",
   "execution_count": 5,
   "id": "6b3eb059",
   "metadata": {},
   "outputs": [
    {
     "name": "stdout",
     "output_type": "stream",
     "text": [
      "5\n"
     ]
    }
   ],
   "source": [
    "# do while loop emulation in python.\n",
    "i = 5\n",
    "\n",
    "# do this forever\n",
    "while True:\n",
    "    print(i)\n",
    "    \n",
    "    # break it. which means do the code above while the interpreter hasn't reached this part of the code to see it is a break\n",
    "    #point\n",
    "    if i == 5:\n",
    "        break\n",
    "        \n",
    "    "
   ]
  },
  {
   "cell_type": "code",
   "execution_count": 10,
   "id": "5814b485",
   "metadata": {},
   "outputs": [
    {
     "name": "stdout",
     "output_type": "stream",
     "text": [
      "Enter your Name: gddfs\n",
      "Your name gddfs is lovely\n"
     ]
    }
   ],
   "source": [
    "# run the while loop as long as the valid name is not provided.\n",
    "\n",
    "# check for validity:\n",
    "# 1. it has to contain alphabetical letters.\n",
    "# 2. it should be printable\n",
    "# 3. lenght of the name should be more than or equal to 2 letters.\n",
    "\n",
    "name = input('Enter your Name: ')\n",
    "\n",
    "# keep on asking the user to input his name if the conditions are not met!\n",
    "while not(len(name) >=2 and name.isprintable() and name.isalpha()):\n",
    "    name = input('It is not valid enter your Name again: ')\n",
    "    \n",
    "print(f'Your name {name} is lovely')"
   ]
  },
  {
   "cell_type": "code",
   "execution_count": 13,
   "id": "1c51b79e",
   "metadata": {},
   "outputs": [
    {
     "name": "stdout",
     "output_type": "stream",
     "text": [
      "Enter your name: giraffe\n",
      "Your name 'giraffe' is lovely\n"
     ]
    }
   ],
   "source": [
    "# modifying the above code a bit to achieve almost the same output.\n",
    "\n",
    "while True:\n",
    "    name = input('Enter your name: ')\n",
    "    if (len(name) >=2 and name.isprintable() and name.isalpha()):\n",
    "        break # break out of the infinity!\n",
    "    \n",
    "print(f\"Your name '{name}' is lovely\")"
   ]
  },
  {
   "cell_type": "code",
   "execution_count": 17,
   "id": "c16d7a99",
   "metadata": {},
   "outputs": [
    {
     "name": "stdout",
     "output_type": "stream",
     "text": [
      "the value 15 is not inside the list\n"
     ]
    }
   ],
   "source": [
    "# using flag to set True or False\n",
    "\n",
    "lis = [1,2,3]\n",
    "i = 0\n",
    "\n",
    "# not found yet\n",
    "found = False\n",
    "val = 15\n",
    "\n",
    "while i < len(lis):\n",
    "    \n",
    "    if lis[i] == val:\n",
    "        found = True\n",
    "        print(f'we have the value {val} inside the list')\n",
    "        break\n",
    "        \n",
    "    i = i+1\n",
    "    \n",
    "    \n",
    "if not found:\n",
    "    print(f'the value {val} is not inside the list')\n",
    "    \n",
    "\n",
    "    \n",
    "    "
   ]
  },
  {
   "cell_type": "code",
   "execution_count": 21,
   "id": "b5ff5e89",
   "metadata": {},
   "outputs": [
    {
     "name": "stdout",
     "output_type": "stream",
     "text": [
      "we found the value 3 in the list\n"
     ]
    }
   ],
   "source": [
    "# another way to execute the same code without using a flag called found\n",
    "\n",
    "i = 0\n",
    "val = 3\n",
    "lis = [1,2,3]\n",
    "\n",
    "while i < len(lis):\n",
    "    \n",
    "    if lis[i] == val:\n",
    "        print(f'we found the value {val} in the list')\n",
    "        break\n",
    "        \n",
    "        \n",
    "    i += 1\n",
    "\n",
    "# instead of if not found\n",
    "else:\n",
    "    \n",
    "    print(f'the value {val} is not in the list')\n",
    "    "
   ]
  },
  {
   "cell_type": "markdown",
   "id": "18736bce",
   "metadata": {},
   "source": [
    "# day 178"
   ]
  },
  {
   "cell_type": "markdown",
   "id": "4384ebdd",
   "metadata": {},
   "source": [
    "# 'finally' always runs even if there is an exception.\n",
    "\n"
   ]
  },
  {
   "cell_type": "code",
   "execution_count": 4,
   "id": "e2f0363f",
   "metadata": {},
   "outputs": [
    {
     "name": "stdout",
     "output_type": "stream",
     "text": [
      "division is not possible\n",
      "this always runs\n"
     ]
    }
   ],
   "source": [
    "try:\n",
    "    a = 5\n",
    "    b = 0\n",
    "    c = a/b\n",
    "    print('C is: {}'.format(c))\n",
    "    \n",
    "except:\n",
    "    print('division is not possible')\n",
    "finally:\n",
    "    print('this always runs')"
   ]
  },
  {
   "cell_type": "code",
   "execution_count": null,
   "id": "93d29270",
   "metadata": {},
   "outputs": [],
   "source": []
  },
  {
   "cell_type": "markdown",
   "id": "17e4499b",
   "metadata": {},
   "source": [
    "# forloop"
   ]
  },
  {
   "cell_type": "code",
   "execution_count": 5,
   "id": "1f570ec7",
   "metadata": {},
   "outputs": [
    {
     "name": "stdout",
     "output_type": "stream",
     "text": [
      "0\n",
      "1\n",
      "2\n",
      "4\n"
     ]
    }
   ],
   "source": [
    "for i in range(5):\n",
    "    if i == 3:\n",
    "        continue\n",
    "    print(i)"
   ]
  },
  {
   "cell_type": "code",
   "execution_count": 6,
   "id": "d9257ab1",
   "metadata": {},
   "outputs": [
    {
     "name": "stdout",
     "output_type": "stream",
     "text": [
      "0\n",
      "1\n",
      "2\n"
     ]
    }
   ],
   "source": [
    "for i in range(5):\n",
    "    if i == 3:\n",
    "        break\n",
    "    print(i)"
   ]
  },
  {
   "cell_type": "code",
   "execution_count": 10,
   "id": "80a8afbd",
   "metadata": {},
   "outputs": [
    {
     "name": "stdout",
     "output_type": "stream",
     "text": [
      "There is a multiple of 7 in the loop\n"
     ]
    }
   ],
   "source": [
    "# break and else work together\n",
    "\n",
    "# part 1\n",
    "\n",
    "for i in range(1,8):\n",
    "    \n",
    "    if i%7 == 0:\n",
    "        \n",
    "        print('There is a multiple of 7 in the loop')\n",
    "        break\n",
    "        \n",
    "# executes only if the break fails        \n",
    "else:\n",
    "    print('There is no multiple of 7 in the loop')"
   ]
  },
  {
   "cell_type": "code",
   "execution_count": 11,
   "id": "b9619f21",
   "metadata": {},
   "outputs": [
    {
     "name": "stdout",
     "output_type": "stream",
     "text": [
      "There is no multiple of 7 in the loop\n"
     ]
    }
   ],
   "source": [
    "# break and else work together\n",
    "\n",
    "# part2\n",
    "\n",
    "for i in range(1,6):\n",
    "    \n",
    "    if i%7 == 0:\n",
    "        \n",
    "        print('There is a multiple of 7 in the loop')\n",
    "        break\n",
    "        \n",
    "# executes only if the break fails        \n",
    "else:\n",
    "    print('There is no multiple of 7 in the loop')"
   ]
  },
  {
   "cell_type": "code",
   "execution_count": 13,
   "id": "feb48a08",
   "metadata": {},
   "outputs": [
    {
     "name": "stdout",
     "output_type": "stream",
     "text": [
      "--------------\n",
      "-3.3333333333333335\n",
      "Finished\n",
      "--------------\n",
      "-5.0\n",
      "Finished\n",
      "--------------\n",
      "-10.0\n",
      "Finished\n",
      "--------------\n",
      "The loop encountered a Division by Zero\n",
      "Finished\n",
      "--------------\n",
      "10.0\n",
      "Finished\n"
     ]
    }
   ],
   "source": [
    "# try, except and finally in for loop\n",
    "\n",
    "for i in range(5):\n",
    "    \n",
    "    print('--------------')\n",
    "    \n",
    "    try:\n",
    "        C = 10/(i-3)\n",
    "        \n",
    "        print(C)\n",
    "        \n",
    "    except ZeroDivisionError:\n",
    "        \n",
    "        print('The loop encountered a Division by Zero')\n",
    "        \n",
    "    finally:\n",
    "        \n",
    "        print('Finished')\n",
    "    "
   ]
  },
  {
   "cell_type": "code",
   "execution_count": null,
   "id": "934745dc",
   "metadata": {},
   "outputs": [],
   "source": []
  },
  {
   "cell_type": "markdown",
   "id": "4ad9c9e4",
   "metadata": {},
   "source": [
    "# classes"
   ]
  },
  {
   "cell_type": "code",
   "execution_count": 21,
   "id": "d7ff3e11",
   "metadata": {},
   "outputs": [],
   "source": [
    "# creating a class\n",
    "\n",
    "class Rectangle:\n",
    "    def __init__(self,width,height):\n",
    "        self.width = width\n",
    "        self.height = height\n",
    "        \n",
    "r = Rectangle(10,20)\n",
    "\n"
   ]
  },
  {
   "cell_type": "code",
   "execution_count": 23,
   "id": "ee1dfbb2",
   "metadata": {},
   "outputs": [
    {
     "data": {
      "text/plain": [
       "10"
      ]
     },
     "execution_count": 23,
     "metadata": {},
     "output_type": "execute_result"
    }
   ],
   "source": [
    "r.width"
   ]
  },
  {
   "cell_type": "code",
   "execution_count": 24,
   "id": "2709aa18",
   "metadata": {},
   "outputs": [
    {
     "data": {
      "text/plain": [
       "20"
      ]
     },
     "execution_count": 24,
     "metadata": {},
     "output_type": "execute_result"
    }
   ],
   "source": [
    "r.height"
   ]
  },
  {
   "cell_type": "code",
   "execution_count": 26,
   "id": "85e3ca91",
   "metadata": {},
   "outputs": [
    {
     "name": "stdout",
     "output_type": "stream",
     "text": [
      "Area is 200\n",
      "Perimeter is 60\n"
     ]
    }
   ],
   "source": [
    "# adding area and perimeter methods\n",
    "\n",
    "class Rectangle:\n",
    "    def __init__(self,width,height):\n",
    "        self.width = width\n",
    "        self.height = height\n",
    "        \n",
    "    def area(self):\n",
    "        return(self.width * self.height)\n",
    "    \n",
    "    def perimeter(self):\n",
    "        return 2*(self.width + self.height)\n",
    "    \n",
    "    \n",
    "r = Rectangle(10,20)\n",
    "print(f'Area is {r.area()}')\n",
    "print(f'Perimeter is {r.perimeter()}')\n",
    "      \n",
    "      "
   ]
  },
  {
   "cell_type": "code",
   "execution_count": 28,
   "id": "ce9b42ad",
   "metadata": {},
   "outputs": [
    {
     "name": "stdout",
     "output_type": "stream",
     "text": [
      "Area is 200\n",
      "Perimeter is 60\n"
     ]
    }
   ],
   "source": [
    "# 'self' can be any name of your choosing\n",
    "\n",
    "class Rectangle:\n",
    "    def __init__(cypher,width,height):\n",
    "        cypher.width = width\n",
    "        cypher.height = height\n",
    "        \n",
    "    def area(cypher):\n",
    "        return(cypher.width * cypher.height)\n",
    "    \n",
    "    def perimeter(cypher):\n",
    "        return 2*(cypher.width + cypher.height)\n",
    "    \n",
    "    \n",
    "r = Rectangle(10,20)\n",
    "print(f'Area is {r.area()}')\n",
    "print(f'Perimeter is {r.perimeter()}')\n",
    "      "
   ]
  },
  {
   "cell_type": "code",
   "execution_count": 30,
   "id": "4c3a0f40",
   "metadata": {},
   "outputs": [
    {
     "data": {
      "text/plain": [
       "'<__main__.Rectangle object at 0x000001A92E684B20>'"
      ]
     },
     "execution_count": 30,
     "metadata": {},
     "output_type": "execute_result"
    }
   ],
   "source": [
    "# class is an object\n",
    "str(r)"
   ]
  },
  {
   "cell_type": "code",
   "execution_count": 31,
   "id": "729f080f",
   "metadata": {},
   "outputs": [
    {
     "data": {
      "text/plain": [
       "'0x1a92e684b20'"
      ]
     },
     "execution_count": 31,
     "metadata": {},
     "output_type": "execute_result"
    }
   ],
   "source": [
    "# memory of a class\n",
    "hex(id(r))"
   ]
  },
  {
   "cell_type": "code",
   "execution_count": 39,
   "id": "eef22f30",
   "metadata": {},
   "outputs": [
    {
     "name": "stdout",
     "output_type": "stream",
     "text": [
      "Area is 200\n",
      "Perimeter is 60\n"
     ]
    }
   ],
   "source": [
    "# explicitly metioning the type of output using double dunder (__str__)\n",
    "\n",
    "\n",
    "class Rectangle:\n",
    "    def __init__(self,width,height):\n",
    "        self.width = width\n",
    "        self.height = height\n",
    "        \n",
    "    def area(self):\n",
    "        return(self.width * self.height)\n",
    "    \n",
    "    def perimeter(self):\n",
    "        return 2*(self.width + self.height)\n",
    "    \n",
    "    # it needs to be in string format other wise it will give a message stating that it is not str\n",
    "    def __str__(self):\n",
    "        \n",
    "        return 'Area is {} and perimeter is {}'.format(self.area(),self.perimeter())\n",
    "    \n",
    "    \n",
    "    \n",
    "\n",
    "    \n",
    "r = Rectangle(10,20)\n",
    "print(f'Area is {r.area()}')\n",
    "print(f'Perimeter is {r.perimeter()}')\n",
    "      "
   ]
  },
  {
   "cell_type": "code",
   "execution_count": 40,
   "id": "c73c8576",
   "metadata": {},
   "outputs": [
    {
     "data": {
      "text/plain": [
       "'Area is 200 and perimeter is 60'"
      ]
     },
     "execution_count": 40,
     "metadata": {},
     "output_type": "execute_result"
    }
   ],
   "source": [
    "str(r)"
   ]
  },
  {
   "cell_type": "code",
   "execution_count": 41,
   "id": "d78f76eb",
   "metadata": {},
   "outputs": [
    {
     "name": "stdout",
     "output_type": "stream",
     "text": [
      "Area is 200\n",
      "Perimeter is 60\n"
     ]
    }
   ],
   "source": [
    "# failure of double dundar string (__str__)\n",
    "\n",
    "class Rectangle:\n",
    "    def __init__(self,width,height):\n",
    "        self.width = width\n",
    "        self.height = height\n",
    "        \n",
    "    def area(self):\n",
    "        return(self.width * self.height)\n",
    "    \n",
    "    def perimeter(self):\n",
    "        return 2*(self.width + self.height)\n",
    "    \n",
    "    # it needs to be in string format other wise it will give a message stating that it is not str\n",
    "    def __str__(self):\n",
    "        \n",
    "        return 36\n",
    "    \n",
    "    \n",
    "    \n",
    "\n",
    "    \n",
    "r = Rectangle(10,20)\n",
    "print(f'Area is {r.area()}')\n",
    "print(f'Perimeter is {r.perimeter()}')\n",
    "      "
   ]
  },
  {
   "cell_type": "code",
   "execution_count": 42,
   "id": "26b4827b",
   "metadata": {},
   "outputs": [
    {
     "ename": "TypeError",
     "evalue": "__str__ returned non-string (type int)",
     "output_type": "error",
     "traceback": [
      "\u001b[1;31m---------------------------------------------------------------------------\u001b[0m",
      "\u001b[1;31mTypeError\u001b[0m                                 Traceback (most recent call last)",
      "Input \u001b[1;32mIn [42]\u001b[0m, in \u001b[0;36m<cell line: 1>\u001b[1;34m()\u001b[0m\n\u001b[1;32m----> 1\u001b[0m \u001b[38;5;28;43mstr\u001b[39;49m\u001b[43m(\u001b[49m\u001b[43mr\u001b[49m\u001b[43m)\u001b[49m\n",
      "\u001b[1;31mTypeError\u001b[0m: __str__ returned non-string (type int)"
     ]
    }
   ],
   "source": [
    "str(r)"
   ]
  },
  {
   "cell_type": "markdown",
   "id": "9784bab7",
   "metadata": {},
   "source": [
    "# double dundar repr(__repr__) - stands for representation of the class\n",
    "\n",
    "\n"
   ]
  },
  {
   "cell_type": "markdown",
   "id": "45bec6ce",
   "metadata": {},
   "source": [
    "# day 181"
   ]
  },
  {
   "cell_type": "code",
   "execution_count": 44,
   "id": "4f446e4f",
   "metadata": {},
   "outputs": [
    {
     "data": {
      "text/plain": [
       "<__main__.Rectangle at 0x1a92f837760>"
      ]
     },
     "execution_count": 44,
     "metadata": {},
     "output_type": "execute_result"
    }
   ],
   "source": [
    "# without __repr__\n",
    "\n",
    "r"
   ]
  },
  {
   "cell_type": "code",
   "execution_count": 12,
   "id": "987d3ab3",
   "metadata": {},
   "outputs": [
    {
     "name": "stdout",
     "output_type": "stream",
     "text": [
      "Area is 200\n",
      "Perimeter is 60\n"
     ]
    }
   ],
   "source": [
    "# with repr\n",
    "\n",
    "class Rectangle:\n",
    "    def __init__(self,width,height):\n",
    "        self.width = width\n",
    "        self.height = height\n",
    "        \n",
    "    def area(self):\n",
    "        return(self.width * self.height)\n",
    "    \n",
    "    def perimeter(self):\n",
    "        return 2*(self.width + self.height)\n",
    "    \n",
    "    # it needs to be in string format other wise it will give a message stating that it is not str\n",
    "    def __str__(self):\n",
    "        \n",
    "        return 'Area is {} and perimeter is {}'.format(self.area(),self.perimeter())\n",
    "    \n",
    "    def __repr__(self):\n",
    "        \n",
    "        return 'returns this when class object rectangle is called.Mind you! you can only write strings here! '\n",
    "    \n",
    "    def __eq__(self,other):\n",
    "        return (self.width,self.height) == (other.width,other.height)\n",
    "    \n",
    "    \n",
    "    \n",
    "\n",
    "    \n",
    "r = Rectangle(10,20)\n",
    "print(f'Area is {r.area()}')\n",
    "print(f'Perimeter is {r.perimeter()}')\n",
    "      "
   ]
  },
  {
   "cell_type": "code",
   "execution_count": 13,
   "id": "430343c6",
   "metadata": {},
   "outputs": [
    {
     "data": {
      "text/plain": [
       "'Area is 200 and perimeter is 60'"
      ]
     },
     "execution_count": 13,
     "metadata": {},
     "output_type": "execute_result"
    }
   ],
   "source": [
    "str(r)"
   ]
  },
  {
   "cell_type": "code",
   "execution_count": 14,
   "id": "b21a907c",
   "metadata": {},
   "outputs": [
    {
     "data": {
      "text/plain": [
       "returns this when class object rectangle is called.Mind you! you can only write strings here! "
      ]
     },
     "execution_count": 14,
     "metadata": {},
     "output_type": "execute_result"
    }
   ],
   "source": [
    "r"
   ]
  },
  {
   "cell_type": "markdown",
   "id": "d174b32e",
   "metadata": {},
   "source": [
    "# equality check before double dundar equal: def __eq__\n",
    "\n"
   ]
  },
  {
   "cell_type": "code",
   "execution_count": 7,
   "id": "4b4f32b7",
   "metadata": {},
   "outputs": [
    {
     "name": "stdout",
     "output_type": "stream",
     "text": [
      "True\n",
      "False\n"
     ]
    }
   ],
   "source": [
    "r1 = Rectangle(10,20)\n",
    "r2 = Rectangle(10,20)\n",
    "print(r1 is not r2)\n",
    "print(r1 == r2)"
   ]
  },
  {
   "cell_type": "markdown",
   "id": "a4a5d61e",
   "metadata": {},
   "source": [
    "# equality check after double dundar equal: def eq"
   ]
  },
  {
   "cell_type": "code",
   "execution_count": 23,
   "id": "a079ffb0",
   "metadata": {},
   "outputs": [
    {
     "name": "stdout",
     "output_type": "stream",
     "text": [
      "True\n",
      "True\n"
     ]
    },
    {
     "data": {
      "text/plain": [
       "'note r1 is a different instance of a class and r2 is another different instance of the class they are not equal but\\nthey have the same values within them(10,20)'"
      ]
     },
     "execution_count": 23,
     "metadata": {},
     "output_type": "execute_result"
    }
   ],
   "source": [
    "r1 = Rectangle(10,20)\n",
    "r2 = Rectangle(10,20)\n",
    "print(r1 is not r2)\n",
    "print(r1 == r2)\n",
    "\n",
    "\n",
    "# conclusion:\n",
    "'''note r1 is a different instance of a class and r2 is another different instance of the class they are not equal but\n",
    "they have the same values within them(10,20)'''"
   ]
  },
  {
   "cell_type": "code",
   "execution_count": null,
   "id": "3c2f8bd6",
   "metadata": {},
   "outputs": [],
   "source": []
  },
  {
   "cell_type": "markdown",
   "id": "5abf2eee",
   "metadata": {},
   "source": [
    "# less than function in class:"
   ]
  },
  {
   "cell_type": "code",
   "execution_count": 27,
   "id": "fa84d2ba",
   "metadata": {},
   "outputs": [],
   "source": [
    "class Rectangle:\n",
    "    \n",
    "    def __init__(self,width,height):\n",
    "        \n",
    "        self.width = width\n",
    "        self.height = height\n",
    "        \n",
    "    def area(self):\n",
    "        return self.width * self.height\n",
    "    \n",
    "    def perimeter(self):\n",
    "        return 2* (self.width + self.height)\n",
    "    \n",
    "    def lt(self,test):\n",
    "        \n",
    "        # checking if test is an instance of the class Rectangle object. which is a means to check if the test \n",
    "        # object has needful parameters such as width and height in order to perform the less than comparision operation.\n",
    "        if isinstance(test,Rectangle):\n",
    "            return self.area() < test.area()\n",
    "        \n",
    "        else:\n",
    "            return \"you have not supplied needful parameters to perform the operation.\"\n",
    "        \n",
    "\n",
    "        "
   ]
  },
  {
   "cell_type": "code",
   "execution_count": 28,
   "id": "969c8fb2",
   "metadata": {},
   "outputs": [
    {
     "data": {
      "text/plain": [
       "True"
      ]
     },
     "execution_count": 28,
     "metadata": {},
     "output_type": "execute_result"
    }
   ],
   "source": [
    "first_class = Rectangle(10,20)\n",
    "test_class= Rectangle(10,24)\n",
    "\n",
    "first_class.lt(test_class)"
   ]
  },
  {
   "cell_type": "code",
   "execution_count": 37,
   "id": "a8d7185d",
   "metadata": {},
   "outputs": [
    {
     "data": {
      "text/plain": [
       "'you have not supplied needful parameters to perform the operation.'"
      ]
     },
     "execution_count": 37,
     "metadata": {},
     "output_type": "execute_result"
    }
   ],
   "source": [
    "test_class = 24\n",
    "\n",
    "first_class.lt(test_class)"
   ]
  },
  {
   "cell_type": "code",
   "execution_count": null,
   "id": "1dd58365",
   "metadata": {},
   "outputs": [],
   "source": []
  },
  {
   "cell_type": "markdown",
   "id": "c77796ab",
   "metadata": {},
   "source": [
    "# encapsulation: \n",
    "\n",
    "encapsulation in general is setting an object such as classes,methods, or variables to be under a certain constraint.\n",
    "\n",
    "\n",
    "the constraint in our case is going to be:\n",
    "set the width and height to be values more than zero otherwise raise value error."
   ]
  },
  {
   "cell_type": "code",
   "execution_count": 29,
   "id": "93353edc",
   "metadata": {},
   "outputs": [],
   "source": [
    "class Rectangle:\n",
    "    \n",
    "    def __init__(self,width,height):\n",
    "        self.width = width\n",
    "        self.height = height\n",
    "     \n",
    "    \n",
    "        \n",
    "    def area(self):\n",
    "        \n",
    "        if (self.width <= 0) or (self.height <= 0):\n",
    "            raise ValueError('the values must be greater than 0')\n",
    "        else:\n",
    "            \n",
    "            return self.width * self.height\n",
    "    \n"
   ]
  },
  {
   "cell_type": "code",
   "execution_count": 30,
   "id": "b566d293",
   "metadata": {},
   "outputs": [
    {
     "data": {
      "text/plain": [
       "50"
      ]
     },
     "execution_count": 30,
     "metadata": {},
     "output_type": "execute_result"
    }
   ],
   "source": [
    "r = Rectangle(10,5)\n",
    "r.area()"
   ]
  },
  {
   "cell_type": "code",
   "execution_count": 31,
   "id": "8907329d",
   "metadata": {},
   "outputs": [
    {
     "ename": "ValueError",
     "evalue": "the values must be greater than 0",
     "output_type": "error",
     "traceback": [
      "\u001b[1;31m---------------------------------------------------------------------------\u001b[0m",
      "\u001b[1;31mValueError\u001b[0m                                Traceback (most recent call last)",
      "Input \u001b[1;32mIn [31]\u001b[0m, in \u001b[0;36m<cell line: 2>\u001b[1;34m()\u001b[0m\n\u001b[0;32m      1\u001b[0m r \u001b[38;5;241m=\u001b[39m Rectangle(\u001b[38;5;241m10\u001b[39m,\u001b[38;5;241m-\u001b[39m\u001b[38;5;241m4\u001b[39m)\n\u001b[1;32m----> 2\u001b[0m \u001b[43mr\u001b[49m\u001b[38;5;241;43m.\u001b[39;49m\u001b[43marea\u001b[49m\u001b[43m(\u001b[49m\u001b[43m)\u001b[49m\n",
      "Input \u001b[1;32mIn [29]\u001b[0m, in \u001b[0;36mRectangle.area\u001b[1;34m(self)\u001b[0m\n\u001b[0;32m      9\u001b[0m \u001b[38;5;28;01mdef\u001b[39;00m \u001b[38;5;21marea\u001b[39m(\u001b[38;5;28mself\u001b[39m):\n\u001b[0;32m     11\u001b[0m     \u001b[38;5;28;01mif\u001b[39;00m (\u001b[38;5;28mself\u001b[39m\u001b[38;5;241m.\u001b[39mwidth \u001b[38;5;241m<\u001b[39m\u001b[38;5;241m=\u001b[39m \u001b[38;5;241m0\u001b[39m) \u001b[38;5;129;01mor\u001b[39;00m (\u001b[38;5;28mself\u001b[39m\u001b[38;5;241m.\u001b[39mheight \u001b[38;5;241m<\u001b[39m\u001b[38;5;241m=\u001b[39m \u001b[38;5;241m0\u001b[39m):\n\u001b[1;32m---> 12\u001b[0m         \u001b[38;5;28;01mraise\u001b[39;00m \u001b[38;5;167;01mValueError\u001b[39;00m(\u001b[38;5;124m'\u001b[39m\u001b[38;5;124mthe values must be greater than 0\u001b[39m\u001b[38;5;124m'\u001b[39m)\n\u001b[0;32m     13\u001b[0m     \u001b[38;5;28;01melse\u001b[39;00m:\n\u001b[0;32m     15\u001b[0m         \u001b[38;5;28;01mreturn\u001b[39;00m \u001b[38;5;28mself\u001b[39m\u001b[38;5;241m.\u001b[39mwidth \u001b[38;5;241m*\u001b[39m \u001b[38;5;28mself\u001b[39m\u001b[38;5;241m.\u001b[39mheight\n",
      "\u001b[1;31mValueError\u001b[0m: the values must be greater than 0"
     ]
    }
   ],
   "source": [
    "r = Rectangle(10,-4)\n",
    "r.area()"
   ]
  },
  {
   "cell_type": "markdown",
   "id": "dea30e56",
   "metadata": {},
   "source": [
    "# day 184\n",
    "\n",
    "# This is the JAVA style coding: Encapsulation!!!!"
   ]
  },
  {
   "cell_type": "code",
   "execution_count": 36,
   "id": "77fb8ffd",
   "metadata": {},
   "outputs": [],
   "source": [
    "class Rectangle:\n",
    "    \n",
    "    def __init__(self,width,height):\n",
    "        self.width = width\n",
    "        self.height = height\n",
    "    \n",
    "    # getting the width\n",
    "    @property    \n",
    "    def width(self):\n",
    "        return self._width\n",
    "    \n",
    "    #setting the width for only values greater than zero for width.\n",
    "    @width.setter\n",
    "    def width(self,width):\n",
    "        \n",
    "        if width <= 0:\n",
    "            raise ValueError('Width value must be a positive value greater than 0')\n",
    "            \n",
    "        else:\n",
    "            self._width = width\n",
    "            \n",
    "    # getting the height\n",
    "    @property\n",
    "    def height(self):\n",
    "        return self._height\n",
    "    \n",
    "    # setting the height\n",
    "    @height.setter\n",
    "    def height(self,height):\n",
    "        \n",
    "        \n",
    "        if height <= 0:\n",
    "            raise ValueError('Height value must be a positive value greater than 0')\n",
    "            \n",
    "            \n",
    "        else:\n",
    "            self._height = height\n",
    "            \n",
    "            \n",
    "    def area(self):\n",
    "        return self.width * self.height\n",
    "    "
   ]
  },
  {
   "cell_type": "code",
   "execution_count": 37,
   "id": "ba20ab3e",
   "metadata": {},
   "outputs": [
    {
     "data": {
      "text/plain": [
       "12"
      ]
     },
     "execution_count": 37,
     "metadata": {},
     "output_type": "execute_result"
    }
   ],
   "source": [
    "r1 = Rectangle(4,3)\n",
    "r1.area()"
   ]
  },
  {
   "cell_type": "code",
   "execution_count": 38,
   "id": "6004af1e",
   "metadata": {},
   "outputs": [
    {
     "ename": "ValueError",
     "evalue": "Width value must be a positive value greater than 0",
     "output_type": "error",
     "traceback": [
      "\u001b[1;31m---------------------------------------------------------------------------\u001b[0m",
      "\u001b[1;31mValueError\u001b[0m                                Traceback (most recent call last)",
      "Input \u001b[1;32mIn [38]\u001b[0m, in \u001b[0;36m<cell line: 1>\u001b[1;34m()\u001b[0m\n\u001b[1;32m----> 1\u001b[0m r2 \u001b[38;5;241m=\u001b[39m \u001b[43mRectangle\u001b[49m\u001b[43m(\u001b[49m\u001b[38;5;241;43m-\u001b[39;49m\u001b[38;5;241;43m4\u001b[39;49m\u001b[43m,\u001b[49m\u001b[38;5;241;43m2\u001b[39;49m\u001b[43m)\u001b[49m\n\u001b[0;32m      2\u001b[0m r1\u001b[38;5;241m.\u001b[39marea()\n",
      "Input \u001b[1;32mIn [36]\u001b[0m, in \u001b[0;36mRectangle.__init__\u001b[1;34m(self, width, height)\u001b[0m\n\u001b[0;32m      3\u001b[0m \u001b[38;5;28;01mdef\u001b[39;00m \u001b[38;5;21m__init__\u001b[39m(\u001b[38;5;28mself\u001b[39m,width,height):\n\u001b[1;32m----> 4\u001b[0m     \u001b[38;5;28mself\u001b[39m\u001b[38;5;241m.\u001b[39mwidth \u001b[38;5;241m=\u001b[39m width\n\u001b[0;32m      5\u001b[0m     \u001b[38;5;28mself\u001b[39m\u001b[38;5;241m.\u001b[39mheight \u001b[38;5;241m=\u001b[39m height\n",
      "Input \u001b[1;32mIn [36]\u001b[0m, in \u001b[0;36mRectangle.width\u001b[1;34m(self, width)\u001b[0m\n\u001b[0;32m     13\u001b[0m \u001b[38;5;129m@width\u001b[39m\u001b[38;5;241m.\u001b[39msetter\n\u001b[0;32m     14\u001b[0m \u001b[38;5;28;01mdef\u001b[39;00m \u001b[38;5;21mwidth\u001b[39m(\u001b[38;5;28mself\u001b[39m,width):\n\u001b[0;32m     16\u001b[0m     \u001b[38;5;28;01mif\u001b[39;00m width \u001b[38;5;241m<\u001b[39m\u001b[38;5;241m=\u001b[39m \u001b[38;5;241m0\u001b[39m:\n\u001b[1;32m---> 17\u001b[0m         \u001b[38;5;28;01mraise\u001b[39;00m \u001b[38;5;167;01mValueError\u001b[39;00m(\u001b[38;5;124m'\u001b[39m\u001b[38;5;124mWidth value must be a positive value greater than 0\u001b[39m\u001b[38;5;124m'\u001b[39m)\n\u001b[0;32m     19\u001b[0m     \u001b[38;5;28;01melse\u001b[39;00m:\n\u001b[0;32m     20\u001b[0m         \u001b[38;5;28mself\u001b[39m\u001b[38;5;241m.\u001b[39m_width \u001b[38;5;241m=\u001b[39m width\n",
      "\u001b[1;31mValueError\u001b[0m: Width value must be a positive value greater than 0"
     ]
    }
   ],
   "source": [
    "r2 = Rectangle(-4,2)\n",
    "r1.area()"
   ]
  },
  {
   "cell_type": "code",
   "execution_count": null,
   "id": "b1f357e6",
   "metadata": {},
   "outputs": [],
   "source": []
  },
  {
   "cell_type": "code",
   "execution_count": null,
   "id": "3d914a3a",
   "metadata": {},
   "outputs": [],
   "source": []
  }
 ],
 "metadata": {
  "kernelspec": {
   "display_name": "Python 3 (ipykernel)",
   "language": "python",
   "name": "python3"
  },
  "language_info": {
   "codemirror_mode": {
    "name": "ipython",
    "version": 3
   },
   "file_extension": ".py",
   "mimetype": "text/x-python",
   "name": "python",
   "nbconvert_exporter": "python",
   "pygments_lexer": "ipython3",
   "version": "3.9.12"
  }
 },
 "nbformat": 4,
 "nbformat_minor": 5
}
