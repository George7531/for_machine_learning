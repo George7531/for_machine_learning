{
 "cells": [
  {
   "cell_type": "markdown",
   "id": "635c14c5",
   "metadata": {},
   "source": [
    "# day 209"
   ]
  },
  {
   "cell_type": "markdown",
   "id": "e9ee4d8a",
   "metadata": {},
   "source": [
    "# Number systems:\n",
    "\n",
    "**Complex numbers > real numbers > rational and irrational numbers > integers > whole numbers > natural numbers.**\n",
    "\n",
    "complex numbers contain the real numbers. real numbers contain the rational and irrational numbers. rational numbers contain the integers. integers contain the whole numbers. whole numbers contain the natural numbers."
   ]
  },
  {
   "cell_type": "code",
   "execution_count": null,
   "id": "8e727078",
   "metadata": {},
   "outputs": [],
   "source": []
  },
  {
   "cell_type": "markdown",
   "id": "7ec365fd",
   "metadata": {},
   "source": [
    "# integers:\n",
    "\n",
    "* computers process numbers in binary format(0 and 1).\n",
    "* there are 8 bits in a byte.\n",
    "* for integers we reserve one bit for representing the sign.\n",
    "* we are left with 7 bits.\n",
    "* with 7 bits we can represent numbers in the range [2^{n-1}, 2^{n-1} - 1] = [-128,127].\n",
    "* where n represents the number of bits available for storage.\n",
    "* our computer works with 64 bit operating system intel i7, the range of integer it can hold is [-(2^63),(2^63) -1].\n",
    "* memory spaces are limited by their address number.\n",
    "\n",
    "# meaning of addressable memories:\n",
    "* Addressable memories are physical locations of memory pockets etched in the microprocesser during manufacturing where inputs and outputs get written to and withdrawn from.\n",
    "* larger the data, more memory it is going to take to store that number in the memory.\n",
    "* for example the 23 would take few memory packets to get stored but the number 1234567891011121314 would take more number memory packets to get stored.\n",
    "\n",
    "# how many bytes of memory in 32bit os and 64 bit os are addressable memories:\n",
    "\n",
    "### in 32 bit:\n",
    "* 2^32 = 4294967296 bytes of memory is addressable memory. which is 4 GB of memory is addressable memory.\n",
    "\n",
    "\n",
    "### in 64 bit:\n",
    "* 2^64 = 188446744073709551616 bytes of memory is addressable memory which is 17179869184 GigaByte or 16 ExaByte of memory is addressable memory. \n",
    "* This means we can do more processes a time than with 32 bit.\n",
    "* theoritically we can expand our RAM to 16 exabytes with a 64 bit system.\n"
   ]
  },
  {
   "cell_type": "code",
   "execution_count": 17,
   "id": "c9e4ce48",
   "metadata": {},
   "outputs": [
    {
     "data": {
      "text/plain": [
       "4294967296"
      ]
     },
     "execution_count": 17,
     "metadata": {},
     "output_type": "execute_result"
    }
   ],
   "source": [
    "2**32 "
   ]
  },
  {
   "cell_type": "code",
   "execution_count": 14,
   "id": "e8ae1ad5",
   "metadata": {},
   "outputs": [
    {
     "data": {
      "text/plain": [
       "4.0"
      ]
     },
     "execution_count": 14,
     "metadata": {},
     "output_type": "execute_result"
    }
   ],
   "source": [
    "2**32/1024/1024/1024"
   ]
  },
  {
   "cell_type": "code",
   "execution_count": 15,
   "id": "45e9821e",
   "metadata": {},
   "outputs": [
    {
     "data": {
      "text/plain": [
       "18446744073709551616"
      ]
     },
     "execution_count": 15,
     "metadata": {},
     "output_type": "execute_result"
    }
   ],
   "source": [
    "2**64"
   ]
  },
  {
   "cell_type": "code",
   "execution_count": 16,
   "id": "b2f10e6d",
   "metadata": {},
   "outputs": [
    {
     "data": {
      "text/plain": [
       "17179869184.0"
      ]
     },
     "execution_count": 16,
     "metadata": {},
     "output_type": "execute_result"
    }
   ],
   "source": [
    "2**64/1024/1024/1024"
   ]
  },
  {
   "cell_type": "code",
   "execution_count": null,
   "id": "71b44117",
   "metadata": {},
   "outputs": [],
   "source": []
  },
  {
   "cell_type": "markdown",
   "id": "c5d833f5",
   "metadata": {},
   "source": [
    "# to check whether your system is 32 bit or 64 bit"
   ]
  },
  {
   "cell_type": "code",
   "execution_count": 26,
   "id": "d62b0624",
   "metadata": {},
   "outputs": [
    {
     "name": "stdout",
     "output_type": "stream",
     "text": [
      "64 bit\n"
     ]
    }
   ],
   "source": [
    "if sys.maxsize > 2**32:\n",
    "    print('64 bit')\n",
    "else:\n",
    "    print('32 bit')"
   ]
  },
  {
   "cell_type": "code",
   "execution_count": null,
   "id": "8cec39c1",
   "metadata": {},
   "outputs": [],
   "source": []
  },
  {
   "cell_type": "markdown",
   "id": "269c7dbe",
   "metadata": {},
   "source": [
    "# test to see how many memory packets a number takes to get stored "
   ]
  },
  {
   "cell_type": "code",
   "execution_count": 18,
   "id": "a84b5c5f",
   "metadata": {},
   "outputs": [
    {
     "name": "stdout",
     "output_type": "stream",
     "text": [
      "<class 'int'>\n"
     ]
    }
   ],
   "source": [
    "print(type(8))"
   ]
  },
  {
   "cell_type": "code",
   "execution_count": 19,
   "id": "0f492be8",
   "metadata": {},
   "outputs": [
    {
     "data": {
      "text/plain": [
       "28"
      ]
     },
     "execution_count": 19,
     "metadata": {},
     "output_type": "execute_result"
    }
   ],
   "source": [
    "import sys\n",
    "\n",
    "sys.getsizeof(8)\n",
    "\n",
    "# conclusion: it takes 28 bytes to get stored, one byte = 8 bit. "
   ]
  },
  {
   "cell_type": "code",
   "execution_count": 21,
   "id": "6f9d6c04",
   "metadata": {},
   "outputs": [
    {
     "data": {
      "text/plain": [
       "32"
      ]
     },
     "execution_count": 21,
     "metadata": {},
     "output_type": "execute_result"
    }
   ],
   "source": [
    "sys.getsizeof(12345678910111213)\n"
   ]
  },
  {
   "cell_type": "code",
   "execution_count": 22,
   "id": "d6b849c3",
   "metadata": {},
   "outputs": [
    {
     "data": {
      "text/plain": [
       "192"
      ]
     },
     "execution_count": 22,
     "metadata": {},
     "output_type": "execute_result"
    }
   ],
   "source": [
    "sys.getsizeof(2**1233)\n"
   ]
  },
  {
   "cell_type": "code",
   "execution_count": 24,
   "id": "d54ffb44",
   "metadata": {},
   "outputs": [
    {
     "name": "stdout",
     "output_type": "stream",
     "text": [
      "The number takes 20.5 physical addresses to get stored and processed\n"
     ]
    }
   ],
   "source": [
    "import sys\n",
    "\n",
    "number = 2**1032\n",
    "number_of_bytes = sys.getsizeof(number)\n",
    "\n",
    "# 64 bit 8 bytes in a single address and 32 bit system stores 4 bytes in a single address:\n",
    "requirement = 8 if sys.maxsize > 2**32 else 4\n",
    "\n",
    "how_many_physical_address = number_of_bytes/requirement\n",
    "print('The number takes {} physical addresses to get stored and processed'.format(how_many_physical_address))\n"
   ]
  },
  {
   "cell_type": "code",
   "execution_count": 25,
   "id": "13eee370",
   "metadata": {},
   "outputs": [
    {
     "data": {
      "text/plain": [
       "6.069021300000031"
      ]
     },
     "execution_count": 25,
     "metadata": {},
     "output_type": "execute_result"
    }
   ],
   "source": [
    "import time\n",
    "def calc(a):\n",
    "    for i in range(10000000):\n",
    "        a*2\n",
    "        \n",
    "start = time.perf_counter()\n",
    "calc(2**10000)\n",
    "end = time.perf_counter()\n",
    "\n",
    "total_time = end-start\n",
    "total_time"
   ]
  },
  {
   "cell_type": "code",
   "execution_count": 8,
   "id": "fe30ac11",
   "metadata": {},
   "outputs": [
    {
     "data": {
      "text/plain": [
       "9223372036854775807"
      ]
     },
     "execution_count": 8,
     "metadata": {},
     "output_type": "execute_result"
    }
   ],
   "source": [
    "sys.maxsize"
   ]
  },
  {
   "cell_type": "code",
   "execution_count": null,
   "id": "92bbfa8f",
   "metadata": {},
   "outputs": [],
   "source": []
  },
  {
   "cell_type": "markdown",
   "id": "b3afebac",
   "metadata": {},
   "source": [
    "# day 220"
   ]
  },
  {
   "cell_type": "markdown",
   "id": "ab4f9d4e",
   "metadata": {},
   "source": [
    "# floor division\n",
    "\n",
    "it is also known as `integer division`.\n",
    "# symbol:\n",
    "`//`\n",
    "\n",
    "# definition:\n",
    "`it gives the quotient of the division without fractions(float).`"
   ]
  },
  {
   "cell_type": "code",
   "execution_count": 38,
   "id": "51000be5",
   "metadata": {},
   "outputs": [
    {
     "data": {
      "text/plain": [
       "1"
      ]
     },
     "execution_count": 38,
     "metadata": {},
     "output_type": "execute_result"
    }
   ],
   "source": [
    "5//4 # it gives only the quotient."
   ]
  },
  {
   "cell_type": "code",
   "execution_count": 27,
   "id": "d5af6121",
   "metadata": {},
   "outputs": [
    {
     "data": {
      "text/plain": [
       "10"
      ]
     },
     "execution_count": 27,
     "metadata": {},
     "output_type": "execute_result"
    }
   ],
   "source": [
    "32//3"
   ]
  },
  {
   "cell_type": "code",
   "execution_count": 28,
   "id": "cb13c968",
   "metadata": {},
   "outputs": [
    {
     "data": {
      "text/plain": [
       "9"
      ]
     },
     "execution_count": 28,
     "metadata": {},
     "output_type": "execute_result"
    }
   ],
   "source": [
    "28//3"
   ]
  },
  {
   "cell_type": "code",
   "execution_count": 39,
   "id": "426230b1",
   "metadata": {},
   "outputs": [
    {
     "data": {
      "text/plain": [
       "-10"
      ]
     },
     "execution_count": 39,
     "metadata": {},
     "output_type": "execute_result"
    }
   ],
   "source": [
    "-28//3 # it's answer is less than the actual when it is the negative number"
   ]
  },
  {
   "cell_type": "code",
   "execution_count": 40,
   "id": "191c8659",
   "metadata": {},
   "outputs": [
    {
     "data": {
      "text/plain": [
       "-10"
      ]
     },
     "execution_count": 40,
     "metadata": {},
     "output_type": "execute_result"
    }
   ],
   "source": [
    "-29//3"
   ]
  },
  {
   "cell_type": "code",
   "execution_count": 41,
   "id": "2cb0e651",
   "metadata": {},
   "outputs": [
    {
     "data": {
      "text/plain": [
       "-10"
      ]
     },
     "execution_count": 41,
     "metadata": {},
     "output_type": "execute_result"
    }
   ],
   "source": [
    "-30//3"
   ]
  },
  {
   "cell_type": "code",
   "execution_count": 42,
   "id": "3f632c48",
   "metadata": {},
   "outputs": [
    {
     "data": {
      "text/plain": [
       "-11"
      ]
     },
     "execution_count": 42,
     "metadata": {},
     "output_type": "execute_result"
    }
   ],
   "source": [
    "-31//3"
   ]
  },
  {
   "cell_type": "markdown",
   "id": "e6cb6c83",
   "metadata": {},
   "source": [
    "# modulus\n",
    "\n",
    "# symbol:\n",
    "`%`\n",
    "\n",
    "# definition:\n",
    "`it gives the remainder of the division without fractions(float).`"
   ]
  },
  {
   "cell_type": "code",
   "execution_count": 30,
   "id": "f7985334",
   "metadata": {},
   "outputs": [
    {
     "data": {
      "text/plain": [
       "2"
      ]
     },
     "execution_count": 30,
     "metadata": {},
     "output_type": "execute_result"
    }
   ],
   "source": [
    "50%6"
   ]
  },
  {
   "cell_type": "code",
   "execution_count": 31,
   "id": "32702430",
   "metadata": {},
   "outputs": [
    {
     "data": {
      "text/plain": [
       "0"
      ]
     },
     "execution_count": 31,
     "metadata": {},
     "output_type": "execute_result"
    }
   ],
   "source": [
    "70%7"
   ]
  },
  {
   "cell_type": "code",
   "execution_count": 46,
   "id": "b0dcc9dc",
   "metadata": {},
   "outputs": [
    {
     "data": {
      "text/plain": [
       "2"
      ]
     },
     "execution_count": 46,
     "metadata": {},
     "output_type": "execute_result"
    }
   ],
   "source": [
    "-28%3 # two away from zero in sequel"
   ]
  },
  {
   "cell_type": "code",
   "execution_count": 47,
   "id": "d1ba2196",
   "metadata": {},
   "outputs": [
    {
     "data": {
      "text/plain": [
       "1"
      ]
     },
     "execution_count": 47,
     "metadata": {},
     "output_type": "execute_result"
    }
   ],
   "source": [
    "-29%3 # one away from zero in sequel"
   ]
  },
  {
   "cell_type": "code",
   "execution_count": 48,
   "id": "45524135",
   "metadata": {},
   "outputs": [
    {
     "data": {
      "text/plain": [
       "0"
      ]
     },
     "execution_count": 48,
     "metadata": {},
     "output_type": "execute_result"
    }
   ],
   "source": [
    "-30%3 # 0 away"
   ]
  },
  {
   "cell_type": "code",
   "execution_count": 49,
   "id": "49322522",
   "metadata": {},
   "outputs": [
    {
     "data": {
      "text/plain": [
       "2"
      ]
     },
     "execution_count": 49,
     "metadata": {},
     "output_type": "execute_result"
    }
   ],
   "source": [
    "-31%3 # two away from the zero in seqel."
   ]
  },
  {
   "cell_type": "markdown",
   "id": "1303d99c",
   "metadata": {},
   "source": [
    "# connection between floor division and modulus:\n",
    "\n",
    "numerator = denominator * (numerator//denominator) + (numerator%denominator)"
   ]
  },
  {
   "cell_type": "code",
   "execution_count": 44,
   "id": "abd275f7",
   "metadata": {},
   "outputs": [
    {
     "data": {
      "text/plain": [
       "5"
      ]
     },
     "execution_count": 44,
     "metadata": {},
     "output_type": "execute_result"
    }
   ],
   "source": [
    "n = 5\n",
    "d = 3\n",
    "\n",
    "result = d * (5//3) + (5%3)\n",
    "\n",
    "result "
   ]
  },
  {
   "cell_type": "code",
   "execution_count": 45,
   "id": "067af9ca",
   "metadata": {},
   "outputs": [
    {
     "data": {
      "text/plain": [
       "-28"
      ]
     },
     "execution_count": 45,
     "metadata": {},
     "output_type": "execute_result"
    }
   ],
   "source": [
    "n = -28\n",
    "d = 3\n",
    "\n",
    "result = d* (n//d) + (n%d)\n",
    "\n",
    "result"
   ]
  },
  {
   "cell_type": "markdown",
   "id": "0860d06b",
   "metadata": {},
   "source": [
    "# floor\n",
    "\n",
    "# symbol:\n",
    "`floor()`\n",
    "\n",
    "# definition:\n",
    "it gives out the largest integer <= number you are flooring\n"
   ]
  },
  {
   "cell_type": "code",
   "execution_count": 34,
   "id": "251fe267",
   "metadata": {},
   "outputs": [
    {
     "data": {
      "text/plain": [
       "3.0"
      ]
     },
     "execution_count": 34,
     "metadata": {},
     "output_type": "execute_result"
    }
   ],
   "source": [
    "import numpy as np\n",
    "np.floor(3.1)"
   ]
  },
  {
   "cell_type": "code",
   "execution_count": 35,
   "id": "21da707e",
   "metadata": {},
   "outputs": [
    {
     "data": {
      "text/plain": [
       "3.0"
      ]
     },
     "execution_count": 35,
     "metadata": {},
     "output_type": "execute_result"
    }
   ],
   "source": [
    "np.floor(3.999999)"
   ]
  },
  {
   "cell_type": "code",
   "execution_count": 36,
   "id": "84e203de",
   "metadata": {},
   "outputs": [
    {
     "data": {
      "text/plain": [
       "-4.0"
      ]
     },
     "execution_count": 36,
     "metadata": {},
     "output_type": "execute_result"
    }
   ],
   "source": [
    "np.floor(-3.001) # the floored number will be 'less than' or equal to the number"
   ]
  },
  {
   "cell_type": "code",
   "execution_count": 37,
   "id": "7308d1f2",
   "metadata": {},
   "outputs": [
    {
     "data": {
      "text/plain": [
       "-4.0"
      ]
     },
     "execution_count": 37,
     "metadata": {},
     "output_type": "execute_result"
    }
   ],
   "source": [
    "np.floor(-3.00000000000001)"
   ]
  },
  {
   "cell_type": "code",
   "execution_count": null,
   "id": "bca0e706",
   "metadata": {},
   "outputs": [],
   "source": []
  },
  {
   "cell_type": "markdown",
   "id": "be1fb5ac",
   "metadata": {},
   "source": [
    "# day 223"
   ]
  },
  {
   "cell_type": "markdown",
   "id": "a3c9a541",
   "metadata": {},
   "source": [
    "# converting a number in string to integer"
   ]
  },
  {
   "cell_type": "code",
   "execution_count": 8,
   "id": "a3203694",
   "metadata": {},
   "outputs": [
    {
     "data": {
      "text/plain": [
       "10"
      ]
     },
     "execution_count": 8,
     "metadata": {},
     "output_type": "execute_result"
    }
   ],
   "source": [
    "int('10')"
   ]
  },
  {
   "cell_type": "code",
   "execution_count": 13,
   "id": "93677a13",
   "metadata": {},
   "outputs": [
    {
     "ename": "ValueError",
     "evalue": "invalid literal for int() with base 10: '10.3'",
     "output_type": "error",
     "traceback": [
      "\u001b[1;31m---------------------------------------------------------------------------\u001b[0m",
      "\u001b[1;31mValueError\u001b[0m                                Traceback (most recent call last)",
      "Input \u001b[1;32mIn [13]\u001b[0m, in \u001b[0;36m<cell line: 1>\u001b[1;34m()\u001b[0m\n\u001b[1;32m----> 1\u001b[0m \u001b[38;5;28;43mint\u001b[39;49m\u001b[43m(\u001b[49m\u001b[38;5;124;43m'\u001b[39;49m\u001b[38;5;124;43m10.3\u001b[39;49m\u001b[38;5;124;43m'\u001b[39;49m\u001b[43m)\u001b[49m\n",
      "\u001b[1;31mValueError\u001b[0m: invalid literal for int() with base 10: '10.3'"
     ]
    }
   ],
   "source": [
    "int('10.3') # default base is 10"
   ]
  },
  {
   "cell_type": "code",
   "execution_count": 14,
   "id": "f62da328",
   "metadata": {},
   "outputs": [
    {
     "ename": "ValueError",
     "evalue": "invalid literal for int() with base 10: 'george'",
     "output_type": "error",
     "traceback": [
      "\u001b[1;31m---------------------------------------------------------------------------\u001b[0m",
      "\u001b[1;31mValueError\u001b[0m                                Traceback (most recent call last)",
      "Input \u001b[1;32mIn [14]\u001b[0m, in \u001b[0;36m<cell line: 1>\u001b[1;34m()\u001b[0m\n\u001b[1;32m----> 1\u001b[0m \u001b[38;5;28;43mint\u001b[39;49m\u001b[43m(\u001b[49m\u001b[38;5;124;43m'\u001b[39;49m\u001b[38;5;124;43mgeorge\u001b[39;49m\u001b[38;5;124;43m'\u001b[39;49m\u001b[43m)\u001b[49m\n",
      "\u001b[1;31mValueError\u001b[0m: invalid literal for int() with base 10: 'george'"
     ]
    }
   ],
   "source": [
    "int('george') # default base is 10"
   ]
  },
  {
   "cell_type": "code",
   "execution_count": 15,
   "id": "2e8fcddb",
   "metadata": {},
   "outputs": [
    {
     "data": {
      "text/plain": [
       "-132"
      ]
     },
     "execution_count": 15,
     "metadata": {},
     "output_type": "execute_result"
    }
   ],
   "source": [
    "int('-132')"
   ]
  },
  {
   "cell_type": "code",
   "execution_count": 19,
   "id": "13b9b5ed",
   "metadata": {},
   "outputs": [
    {
     "data": {
      "text/plain": [
       "552365582"
      ]
     },
     "execution_count": 19,
     "metadata": {},
     "output_type": "execute_result"
    }
   ],
   "source": [
    "int('george',base=32)"
   ]
  },
  {
   "cell_type": "code",
   "execution_count": 20,
   "id": "67d1e0bd",
   "metadata": {},
   "outputs": [
    {
     "ename": "TypeError",
     "evalue": "int() can't convert non-string with explicit base",
     "output_type": "error",
     "traceback": [
      "\u001b[1;31m---------------------------------------------------------------------------\u001b[0m",
      "\u001b[1;31mTypeError\u001b[0m                                 Traceback (most recent call last)",
      "Input \u001b[1;32mIn [20]\u001b[0m, in \u001b[0;36m<cell line: 1>\u001b[1;34m()\u001b[0m\n\u001b[1;32m----> 1\u001b[0m \u001b[38;5;28;43mint\u001b[39;49m\u001b[43m(\u001b[49m\u001b[38;5;241;43m0\u001b[39;49m\u001b[43m,\u001b[49m\u001b[43mbase\u001b[49m\u001b[38;5;241;43m=\u001b[39;49m\u001b[38;5;241;43m2\u001b[39;49m\u001b[43m)\u001b[49m\n",
      "\u001b[1;31mTypeError\u001b[0m: int() can't convert non-string with explicit base"
     ]
    }
   ],
   "source": [
    "int(0,base=2)"
   ]
  },
  {
   "cell_type": "code",
   "execution_count": 21,
   "id": "b6121423",
   "metadata": {},
   "outputs": [
    {
     "data": {
      "text/plain": [
       "0"
      ]
     },
     "execution_count": 21,
     "metadata": {},
     "output_type": "execute_result"
    }
   ],
   "source": [
    "int('0',base=2)"
   ]
  },
  {
   "cell_type": "code",
   "execution_count": 26,
   "id": "ca5d1d66",
   "metadata": {},
   "outputs": [
    {
     "data": {
      "text/plain": [
       "93"
      ]
     },
     "execution_count": 26,
     "metadata": {},
     "output_type": "execute_result"
    }
   ],
   "source": [
    "int('1011101',base=2)"
   ]
  },
  {
   "cell_type": "code",
   "execution_count": 24,
   "id": "17e4c44f",
   "metadata": {},
   "outputs": [
    {
     "data": {
      "text/plain": [
       "9250"
      ]
     },
     "execution_count": 24,
     "metadata": {},
     "output_type": "execute_result"
    }
   ],
   "source": [
    "int('ass',base=29)"
   ]
  },
  {
   "cell_type": "code",
   "execution_count": 25,
   "id": "cd13d6e8",
   "metadata": {},
   "outputs": [
    {
     "ename": "ValueError",
     "evalue": "invalid literal for int() with base 29: '10.34'",
     "output_type": "error",
     "traceback": [
      "\u001b[1;31m---------------------------------------------------------------------------\u001b[0m",
      "\u001b[1;31mValueError\u001b[0m                                Traceback (most recent call last)",
      "Input \u001b[1;32mIn [25]\u001b[0m, in \u001b[0;36m<cell line: 1>\u001b[1;34m()\u001b[0m\n\u001b[1;32m----> 1\u001b[0m \u001b[38;5;28;43mint\u001b[39;49m\u001b[43m(\u001b[49m\u001b[38;5;124;43m'\u001b[39;49m\u001b[38;5;124;43m10.34\u001b[39;49m\u001b[38;5;124;43m'\u001b[39;49m\u001b[43m,\u001b[49m\u001b[43mbase\u001b[49m\u001b[38;5;241;43m=\u001b[39;49m\u001b[38;5;241;43m29\u001b[39;49m\u001b[43m)\u001b[49m\n",
      "\u001b[1;31mValueError\u001b[0m: invalid literal for int() with base 29: '10.34'"
     ]
    }
   ],
   "source": [
    "int('10.34',base=29)"
   ]
  },
  {
   "cell_type": "code",
   "execution_count": 49,
   "id": "1ba6eacf",
   "metadata": {},
   "outputs": [
    {
     "ename": "ValueError",
     "evalue": "int() base must be >= 2 and <= 36, or 0",
     "output_type": "error",
     "traceback": [
      "\u001b[1;31m---------------------------------------------------------------------------\u001b[0m",
      "\u001b[1;31mValueError\u001b[0m                                Traceback (most recent call last)",
      "Input \u001b[1;32mIn [49]\u001b[0m, in \u001b[0;36m<cell line: 1>\u001b[1;34m()\u001b[0m\n\u001b[1;32m----> 1\u001b[0m \u001b[38;5;28;43mint\u001b[39;49m\u001b[43m(\u001b[49m\u001b[38;5;124;43m'\u001b[39;49m\u001b[38;5;124;43m23\u001b[39;49m\u001b[38;5;124;43m'\u001b[39;49m\u001b[43m,\u001b[49m\u001b[43mbase\u001b[49m\u001b[38;5;241;43m=\u001b[39;49m\u001b[38;5;241;43m-\u001b[39;49m\u001b[38;5;241;43m3\u001b[39;49m\u001b[43m)\u001b[49m\n",
      "\u001b[1;31mValueError\u001b[0m: int() base must be >= 2 and <= 36, or 0"
     ]
    }
   ],
   "source": [
    "int('23',base=-3)"
   ]
  },
  {
   "cell_type": "code",
   "execution_count": 58,
   "id": "43c549b2",
   "metadata": {},
   "outputs": [
    {
     "data": {
      "text/plain": [
       "38"
      ]
     },
     "execution_count": 58,
     "metadata": {},
     "output_type": "execute_result"
    }
   ],
   "source": [
    "int('123',base=5)"
   ]
  },
  {
   "cell_type": "markdown",
   "id": "f7d6c7ac",
   "metadata": {},
   "source": [
    "# conclusion:\n",
    "* the default base of the number is 10 if not set.\n",
    "* the base can only range between 2 and 36. the reason is from 11 base onward we include the alphabets and there are 26 alphabets so, 10+26 = 36, hence the upper limit of 36. the lower limit of 2 is due to the fact \n",
    "* the result is going to be in base 10.\n",
    "\n",
    "# why no bases for 1 and 0's?\n",
    "While 1 and 0 are fundamental elements in the binary system, they are not considered as separate bases because they are the building blocks upon which the entire binary system operates. In essence, the binary system is the most fundamental form of numerical representation in computing, and it serves as the basis for the development of more complex systems and technologies, including the field of computer vision that you are passionate about."
   ]
  },
  {
   "cell_type": "code",
   "execution_count": null,
   "id": "707318b1",
   "metadata": {},
   "outputs": [],
   "source": []
  },
  {
   "cell_type": "markdown",
   "id": "62b7cf21",
   "metadata": {},
   "source": [
    "# converting a boolean into integer"
   ]
  },
  {
   "cell_type": "code",
   "execution_count": 16,
   "id": "8c029e60",
   "metadata": {},
   "outputs": [
    {
     "data": {
      "text/plain": [
       "1"
      ]
     },
     "execution_count": 16,
     "metadata": {},
     "output_type": "execute_result"
    }
   ],
   "source": [
    "int(True)"
   ]
  },
  {
   "cell_type": "code",
   "execution_count": 17,
   "id": "6e2bfb54",
   "metadata": {},
   "outputs": [
    {
     "data": {
      "text/plain": [
       "0"
      ]
     },
     "execution_count": 17,
     "metadata": {},
     "output_type": "execute_result"
    }
   ],
   "source": [
    "int(False)"
   ]
  },
  {
   "cell_type": "code",
   "execution_count": 18,
   "id": "a83285ba",
   "metadata": {},
   "outputs": [
    {
     "data": {
      "text/plain": [
       "1.0"
      ]
     },
     "execution_count": 18,
     "metadata": {},
     "output_type": "execute_result"
    }
   ],
   "source": [
    "float(True) # just out of curiosity!!!"
   ]
  },
  {
   "cell_type": "code",
   "execution_count": null,
   "id": "0c3234f9",
   "metadata": {},
   "outputs": [],
   "source": []
  },
  {
   "cell_type": "markdown",
   "id": "c5c67235",
   "metadata": {},
   "source": [
    "# converting a decimal(base 10) number to any other bases"
   ]
  },
  {
   "cell_type": "code",
   "execution_count": 29,
   "id": "523dd66e",
   "metadata": {},
   "outputs": [
    {
     "name": "stdout",
     "output_type": "stream",
     "text": [
      "0b1111011\n"
     ]
    },
    {
     "data": {
      "text/plain": [
       "'0b stands for binary and the answer to be considered begins from 1'"
      ]
     },
     "execution_count": 29,
     "metadata": {},
     "output_type": "execute_result"
    }
   ],
   "source": [
    "print(bin(123))\n",
    "\n",
    "'''0b stands for binary and the answer to be considered begins from 1'''"
   ]
  },
  {
   "cell_type": "code",
   "execution_count": 30,
   "id": "e5e6d27b",
   "metadata": {},
   "outputs": [
    {
     "name": "stdout",
     "output_type": "stream",
     "text": [
      "0o173\n"
     ]
    }
   ],
   "source": [
    "print(oct(123))\n",
    "\n",
    "# conclusion: the answer is 173"
   ]
  },
  {
   "cell_type": "code",
   "execution_count": 31,
   "id": "defdd810",
   "metadata": {},
   "outputs": [
    {
     "name": "stdout",
     "output_type": "stream",
     "text": [
      "0x7b\n"
     ]
    }
   ],
   "source": [
    "print(hex(123))\n",
    "# conclusion: the answer is 7b"
   ]
  },
  {
   "cell_type": "code",
   "execution_count": 32,
   "id": "32fb1bd6",
   "metadata": {},
   "outputs": [
    {
     "ename": "TypeError",
     "evalue": "'float' object cannot be interpreted as an integer",
     "output_type": "error",
     "traceback": [
      "\u001b[1;31m---------------------------------------------------------------------------\u001b[0m",
      "\u001b[1;31mTypeError\u001b[0m                                 Traceback (most recent call last)",
      "Input \u001b[1;32mIn [32]\u001b[0m, in \u001b[0;36m<cell line: 1>\u001b[1;34m()\u001b[0m\n\u001b[1;32m----> 1\u001b[0m \u001b[38;5;28mprint\u001b[39m(\u001b[38;5;28;43mbin\u001b[39;49m\u001b[43m(\u001b[49m\u001b[38;5;241;43m10.74\u001b[39;49m\u001b[43m)\u001b[49m)\n",
      "\u001b[1;31mTypeError\u001b[0m: 'float' object cannot be interpreted as an integer"
     ]
    }
   ],
   "source": [
    "print(bin(10.74))"
   ]
  },
  {
   "cell_type": "code",
   "execution_count": 45,
   "id": "158aa3f3",
   "metadata": {},
   "outputs": [
    {
     "name": "stdout",
     "output_type": "stream",
     "text": [
      "1010.00111101\n"
     ]
    }
   ],
   "source": [
    "# an algorithm copied from chatgpt to find the binary representation for a float number.\n",
    "def float_to_bin(number, precision=8):\n",
    "    whole, dec = str(number).split(\".\")\n",
    "    whole = int(whole)\n",
    "    dec = int(dec)\n",
    "    res = bin(whole).lstrip(\"0b\") + \".\"\n",
    "    for x in range(precision):\n",
    "        whole, dec = str((decimal_converter(dec)) * 2).split(\".\")\n",
    "        dec = int(dec)\n",
    "        res += whole\n",
    "    return res\n",
    "\n",
    "def decimal_converter(num):\n",
    "    while num > 1:\n",
    "        num /= 10\n",
    "    return num\n",
    "\n",
    "number = 10.24\n",
    "binary_representation = float_to_bin(number)\n",
    "print(binary_representation)"
   ]
  },
  {
   "cell_type": "code",
   "execution_count": null,
   "id": "14fdeacc",
   "metadata": {},
   "outputs": [],
   "source": []
  },
  {
   "cell_type": "markdown",
   "id": "2ecd6216",
   "metadata": {},
   "source": [
    "# day 227"
   ]
  },
  {
   "cell_type": "markdown",
   "id": "d821dec4",
   "metadata": {},
   "source": [
    "# Base conversion Algorithm: \n",
    "\n",
    "* it works for any base even beyond 36(which python inbuilt int() function offers)."
   ]
  },
  {
   "cell_type": "code",
   "execution_count": 6,
   "id": "9ed35694",
   "metadata": {},
   "outputs": [
    {
     "data": {
      "text/plain": [
       "[1, 1, 1, 1, 1, 0, 1, 0, 0]"
      ]
     },
     "execution_count": 6,
     "metadata": {},
     "output_type": "execute_result"
    }
   ],
   "source": [
    "# base conversion:\n",
    "\n",
    "\n",
    "def base_conversion(b,n):\n",
    "    # if base is less than 2 or number < 0 return nothing!\n",
    "    if b<2 or n<0:\n",
    "        return \n",
    "    # if n = 0  return 0\n",
    "    if n==0:\n",
    "        return 0\n",
    "    \n",
    "    # else capture its equivalent digit parts in apt base\n",
    "    digits = []\n",
    "    \n",
    "    # it runs only so long the n > 0\n",
    "    while n>0:\n",
    "        m = n%b # modulus captures the digits\n",
    "        n = n//b # n gets floor divided until it becomes 0\n",
    "        if m >= 10: # if m is greater than or equal to 10 then we need apt 'letters' hence the following code schema.\n",
    "            far_apart = m - 10\n",
    "            m = chr(ord('A') + far_apart)\n",
    "            \n",
    "        # insert the m.   \n",
    "        digits.insert(0,m) # insert the modulus only in first index position.\n",
    "        \n",
    "    return digits\n",
    "    \n",
    "n = 500\n",
    "b = 2\n",
    "digits = base_conversion(b,n)\n",
    "digits"
   ]
  },
  {
   "cell_type": "code",
   "execution_count": 7,
   "id": "778aaac3",
   "metadata": {},
   "outputs": [
    {
     "data": {
      "text/plain": [
       "'111110100'"
      ]
     },
     "execution_count": 7,
     "metadata": {},
     "output_type": "execute_result"
    }
   ],
   "source": [
    "encoding = ''.join(str(d) for d in digits)\n",
    "encoding"
   ]
  },
  {
   "cell_type": "markdown",
   "id": "529a0c8a",
   "metadata": {},
   "source": [
    "# exploration,analysis and freethrows"
   ]
  },
  {
   "cell_type": "code",
   "execution_count": 9,
   "id": "bee1b6e1",
   "metadata": {},
   "outputs": [
    {
     "data": {
      "text/plain": [
       "['A', 'B', 'C', 'D', 'E', 'F']"
      ]
     },
     "execution_count": 9,
     "metadata": {},
     "output_type": "execute_result"
    }
   ],
   "source": [
    "# get a list of ascii characters;\n",
    "[chr(i) for i in range(ord('A'),ord('F')+1)]"
   ]
  },
  {
   "cell_type": "code",
   "execution_count": 10,
   "id": "345e62cc",
   "metadata": {},
   "outputs": [
    {
     "name": "stdout",
     "output_type": "stream",
     "text": [
      "F\n"
     ]
    }
   ],
   "source": [
    "m = 15\n",
    "if m >= 10:\n",
    "    far_apart = m-10\n",
    "    print(chr(ord('A') + far_apart))"
   ]
  },
  {
   "cell_type": "code",
   "execution_count": 19,
   "id": "11c3c997",
   "metadata": {},
   "outputs": [
    {
     "data": {
      "text/plain": [
       "'N'"
      ]
     },
     "execution_count": 19,
     "metadata": {},
     "output_type": "execute_result"
    }
   ],
   "source": [
    "str('N')"
   ]
  },
  {
   "cell_type": "code",
   "execution_count": 22,
   "id": "bb9be387",
   "metadata": {},
   "outputs": [
    {
     "name": "stdout",
     "output_type": "stream",
     "text": [
      "Help on class int in module builtins:\n",
      "\n",
      "class int(object)\n",
      " |  int([x]) -> integer\n",
      " |  int(x, base=10) -> integer\n",
      " |  \n",
      " |  Convert a number or string to an integer, or return 0 if no arguments\n",
      " |  are given.  If x is a number, return x.__int__().  For floating point\n",
      " |  numbers, this truncates towards zero.\n",
      " |  \n",
      " |  If x is not a number or if base is given, then x must be a string,\n",
      " |  bytes, or bytearray instance representing an integer literal in the\n",
      " |  given base.  The literal can be preceded by '+' or '-' and be surrounded\n",
      " |  by whitespace.  The base defaults to 10.  Valid bases are 0 and 2-36.\n",
      " |  Base 0 means to interpret the base from the string as an integer literal.\n",
      " |  >>> int('0b100', base=0)\n",
      " |  4\n",
      " |  \n",
      " |  Built-in subclasses:\n",
      " |      bool\n",
      " |  \n",
      " |  Methods defined here:\n",
      " |  \n",
      " |  __abs__(self, /)\n",
      " |      abs(self)\n",
      " |  \n",
      " |  __add__(self, value, /)\n",
      " |      Return self+value.\n",
      " |  \n",
      " |  __and__(self, value, /)\n",
      " |      Return self&value.\n",
      " |  \n",
      " |  __bool__(self, /)\n",
      " |      True if self else False\n",
      " |  \n",
      " |  __ceil__(...)\n",
      " |      Ceiling of an Integral returns itself.\n",
      " |  \n",
      " |  __divmod__(self, value, /)\n",
      " |      Return divmod(self, value).\n",
      " |  \n",
      " |  __eq__(self, value, /)\n",
      " |      Return self==value.\n",
      " |  \n",
      " |  __float__(self, /)\n",
      " |      float(self)\n",
      " |  \n",
      " |  __floor__(...)\n",
      " |      Flooring an Integral returns itself.\n",
      " |  \n",
      " |  __floordiv__(self, value, /)\n",
      " |      Return self//value.\n",
      " |  \n",
      " |  __format__(self, format_spec, /)\n",
      " |      Default object formatter.\n",
      " |  \n",
      " |  __ge__(self, value, /)\n",
      " |      Return self>=value.\n",
      " |  \n",
      " |  __getattribute__(self, name, /)\n",
      " |      Return getattr(self, name).\n",
      " |  \n",
      " |  __getnewargs__(self, /)\n",
      " |  \n",
      " |  __gt__(self, value, /)\n",
      " |      Return self>value.\n",
      " |  \n",
      " |  __hash__(self, /)\n",
      " |      Return hash(self).\n",
      " |  \n",
      " |  __index__(self, /)\n",
      " |      Return self converted to an integer, if self is suitable for use as an index into a list.\n",
      " |  \n",
      " |  __int__(self, /)\n",
      " |      int(self)\n",
      " |  \n",
      " |  __invert__(self, /)\n",
      " |      ~self\n",
      " |  \n",
      " |  __le__(self, value, /)\n",
      " |      Return self<=value.\n",
      " |  \n",
      " |  __lshift__(self, value, /)\n",
      " |      Return self<<value.\n",
      " |  \n",
      " |  __lt__(self, value, /)\n",
      " |      Return self<value.\n",
      " |  \n",
      " |  __mod__(self, value, /)\n",
      " |      Return self%value.\n",
      " |  \n",
      " |  __mul__(self, value, /)\n",
      " |      Return self*value.\n",
      " |  \n",
      " |  __ne__(self, value, /)\n",
      " |      Return self!=value.\n",
      " |  \n",
      " |  __neg__(self, /)\n",
      " |      -self\n",
      " |  \n",
      " |  __or__(self, value, /)\n",
      " |      Return self|value.\n",
      " |  \n",
      " |  __pos__(self, /)\n",
      " |      +self\n",
      " |  \n",
      " |  __pow__(self, value, mod=None, /)\n",
      " |      Return pow(self, value, mod).\n",
      " |  \n",
      " |  __radd__(self, value, /)\n",
      " |      Return value+self.\n",
      " |  \n",
      " |  __rand__(self, value, /)\n",
      " |      Return value&self.\n",
      " |  \n",
      " |  __rdivmod__(self, value, /)\n",
      " |      Return divmod(value, self).\n",
      " |  \n",
      " |  __repr__(self, /)\n",
      " |      Return repr(self).\n",
      " |  \n",
      " |  __rfloordiv__(self, value, /)\n",
      " |      Return value//self.\n",
      " |  \n",
      " |  __rlshift__(self, value, /)\n",
      " |      Return value<<self.\n",
      " |  \n",
      " |  __rmod__(self, value, /)\n",
      " |      Return value%self.\n",
      " |  \n",
      " |  __rmul__(self, value, /)\n",
      " |      Return value*self.\n",
      " |  \n",
      " |  __ror__(self, value, /)\n",
      " |      Return value|self.\n",
      " |  \n",
      " |  __round__(...)\n",
      " |      Rounding an Integral returns itself.\n",
      " |      Rounding with an ndigits argument also returns an integer.\n",
      " |  \n",
      " |  __rpow__(self, value, mod=None, /)\n",
      " |      Return pow(value, self, mod).\n",
      " |  \n",
      " |  __rrshift__(self, value, /)\n",
      " |      Return value>>self.\n",
      " |  \n",
      " |  __rshift__(self, value, /)\n",
      " |      Return self>>value.\n",
      " |  \n",
      " |  __rsub__(self, value, /)\n",
      " |      Return value-self.\n",
      " |  \n",
      " |  __rtruediv__(self, value, /)\n",
      " |      Return value/self.\n",
      " |  \n",
      " |  __rxor__(self, value, /)\n",
      " |      Return value^self.\n",
      " |  \n",
      " |  __sizeof__(self, /)\n",
      " |      Returns size in memory, in bytes.\n",
      " |  \n",
      " |  __sub__(self, value, /)\n",
      " |      Return self-value.\n",
      " |  \n",
      " |  __truediv__(self, value, /)\n",
      " |      Return self/value.\n",
      " |  \n",
      " |  __trunc__(...)\n",
      " |      Truncating an Integral returns itself.\n",
      " |  \n",
      " |  __xor__(self, value, /)\n",
      " |      Return self^value.\n",
      " |  \n",
      " |  as_integer_ratio(self, /)\n",
      " |      Return integer ratio.\n",
      " |      \n",
      " |      Return a pair of integers, whose ratio is exactly equal to the original int\n",
      " |      and with a positive denominator.\n",
      " |      \n",
      " |      >>> (10).as_integer_ratio()\n",
      " |      (10, 1)\n",
      " |      >>> (-10).as_integer_ratio()\n",
      " |      (-10, 1)\n",
      " |      >>> (0).as_integer_ratio()\n",
      " |      (0, 1)\n",
      " |  \n",
      " |  bit_length(self, /)\n",
      " |      Number of bits necessary to represent self in binary.\n",
      " |      \n",
      " |      >>> bin(37)\n",
      " |      '0b100101'\n",
      " |      >>> (37).bit_length()\n",
      " |      6\n",
      " |  \n",
      " |  conjugate(...)\n",
      " |      Returns self, the complex conjugate of any int.\n",
      " |  \n",
      " |  to_bytes(self, /, length, byteorder, *, signed=False)\n",
      " |      Return an array of bytes representing an integer.\n",
      " |      \n",
      " |      length\n",
      " |        Length of bytes object to use.  An OverflowError is raised if the\n",
      " |        integer is not representable with the given number of bytes.\n",
      " |      byteorder\n",
      " |        The byte order used to represent the integer.  If byteorder is 'big',\n",
      " |        the most significant byte is at the beginning of the byte array.  If\n",
      " |        byteorder is 'little', the most significant byte is at the end of the\n",
      " |        byte array.  To request the native byte order of the host system, use\n",
      " |        `sys.byteorder' as the byte order value.\n",
      " |      signed\n",
      " |        Determines whether two's complement is used to represent the integer.\n",
      " |        If signed is False and a negative integer is given, an OverflowError\n",
      " |        is raised.\n",
      " |  \n",
      " |  ----------------------------------------------------------------------\n",
      " |  Class methods defined here:\n",
      " |  \n",
      " |  from_bytes(bytes, byteorder, *, signed=False) from builtins.type\n",
      " |      Return the integer represented by the given array of bytes.\n",
      " |      \n",
      " |      bytes\n",
      " |        Holds the array of bytes to convert.  The argument must either\n",
      " |        support the buffer protocol or be an iterable object producing bytes.\n",
      " |        Bytes and bytearray are examples of built-in objects that support the\n",
      " |        buffer protocol.\n",
      " |      byteorder\n",
      " |        The byte order used to represent the integer.  If byteorder is 'big',\n",
      " |        the most significant byte is at the beginning of the byte array.  If\n",
      " |        byteorder is 'little', the most significant byte is at the end of the\n",
      " |        byte array.  To request the native byte order of the host system, use\n",
      " |        `sys.byteorder' as the byte order value.\n",
      " |      signed\n",
      " |        Indicates whether two's complement is used to represent the integer.\n",
      " |  \n",
      " |  ----------------------------------------------------------------------\n",
      " |  Static methods defined here:\n",
      " |  \n",
      " |  __new__(*args, **kwargs) from builtins.type\n",
      " |      Create and return a new object.  See help(type) for accurate signature.\n",
      " |  \n",
      " |  ----------------------------------------------------------------------\n",
      " |  Data descriptors defined here:\n",
      " |  \n",
      " |  denominator\n",
      " |      the denominator of a rational number in lowest terms\n",
      " |  \n",
      " |  imag\n",
      " |      the imaginary part of a complex number\n",
      " |  \n",
      " |  numerator\n",
      " |      the numerator of a rational number in lowest terms\n",
      " |  \n",
      " |  real\n",
      " |      the real part of a complex number\n",
      "\n"
     ]
    }
   ],
   "source": [
    "# to get help on int\n",
    "help(int)"
   ]
  },
  {
   "cell_type": "code",
   "execution_count": null,
   "id": "2434e966",
   "metadata": {},
   "outputs": [],
   "source": []
  },
  {
   "cell_type": "markdown",
   "id": "6721f147",
   "metadata": {},
   "source": [
    "# day 230"
   ]
  },
  {
   "cell_type": "markdown",
   "id": "3cb77861",
   "metadata": {},
   "source": [
    "# Rational numbers:\n",
    "\n",
    "* any number that has the finite number of digits after the decimal point is a rational number."
   ]
  },
  {
   "cell_type": "code",
   "execution_count": 31,
   "id": "66ff251b",
   "metadata": {},
   "outputs": [
    {
     "data": {
      "text/plain": [
       "2.7083333333333335"
      ]
     },
     "execution_count": 31,
     "metadata": {},
     "output_type": "execute_result"
    }
   ],
   "source": [
    "65/24"
   ]
  },
  {
   "cell_type": "code",
   "execution_count": 32,
   "id": "2693fa30",
   "metadata": {},
   "outputs": [
    {
     "data": {
      "text/plain": [
       "2.075"
      ]
     },
     "execution_count": 32,
     "metadata": {},
     "output_type": "execute_result"
    }
   ],
   "source": [
    "8.3/4"
   ]
  },
  {
   "cell_type": "markdown",
   "id": "9034b9d3",
   "metadata": {},
   "source": [
    "### Fraction function for rational numbers:\n",
    "\n",
    "* the default numerator is 0 and the default denominator of the Fraction function is 1.\n",
    "* any number(mostly rational number(a number with finite decimal precision)) you put into Fraction function, it would return the best combination of the numerator and the denominator that makes up that rational number you put in."
   ]
  },
  {
   "cell_type": "code",
   "execution_count": 34,
   "id": "faa8ddb1",
   "metadata": {},
   "outputs": [
    {
     "data": {
      "text/plain": [
       "2.7083333333333335"
      ]
     },
     "execution_count": 34,
     "metadata": {},
     "output_type": "execute_result"
    }
   ],
   "source": [
    "from fractions import Fraction\n",
    "\n",
    "\n",
    "rational = Fraction(65,24)\n",
    "\n",
    "float(rational)"
   ]
  },
  {
   "cell_type": "code",
   "execution_count": 40,
   "id": "1fdd7481",
   "metadata": {},
   "outputs": [
    {
     "data": {
      "text/plain": [
       "Fraction(6098624495397547, 2251799813685248)"
      ]
     },
     "execution_count": 40,
     "metadata": {},
     "output_type": "execute_result"
    }
   ],
   "source": [
    "Fraction(float(2.7083333333333333333335))"
   ]
  },
  {
   "cell_type": "code",
   "execution_count": 41,
   "id": "ce125b9f",
   "metadata": {},
   "outputs": [
    {
     "data": {
      "text/plain": [
       "Fraction(157, 50)"
      ]
     },
     "execution_count": 41,
     "metadata": {},
     "output_type": "execute_result"
    }
   ],
   "source": [
    "Fraction('3.14')"
   ]
  },
  {
   "cell_type": "code",
   "execution_count": 42,
   "id": "730cf2fe",
   "metadata": {},
   "outputs": [
    {
     "data": {
      "text/plain": [
       "3.14"
      ]
     },
     "execution_count": 42,
     "metadata": {},
     "output_type": "execute_result"
    }
   ],
   "source": [
    "157/50"
   ]
  },
  {
   "cell_type": "code",
   "execution_count": 1,
   "id": "2398808e",
   "metadata": {},
   "outputs": [
    {
     "data": {
      "text/plain": [
       "Fraction(10, 1)"
      ]
     },
     "execution_count": 1,
     "metadata": {},
     "output_type": "execute_result"
    }
   ],
   "source": [
    "from fractions import Fraction\n",
    "\n",
    "Fraction('10')"
   ]
  },
  {
   "cell_type": "code",
   "execution_count": 11,
   "id": "24f97412",
   "metadata": {},
   "outputs": [
    {
     "data": {
      "text/plain": [
       "Fraction(884279719003555, 281474976710656)"
      ]
     },
     "execution_count": 11,
     "metadata": {},
     "output_type": "execute_result"
    }
   ],
   "source": [
    "import numpy as np\n",
    "\n",
    "Fraction(np.pi) # the Fraction function gives an approximation that might get us close to pi"
   ]
  },
  {
   "cell_type": "code",
   "execution_count": null,
   "id": "b8aa131c",
   "metadata": {},
   "outputs": [],
   "source": []
  },
  {
   "cell_type": "code",
   "execution_count": 2,
   "id": "301b3412",
   "metadata": {},
   "outputs": [
    {
     "data": {
      "text/plain": [
       "Fraction(1, 8)"
      ]
     },
     "execution_count": 2,
     "metadata": {},
     "output_type": "execute_result"
    }
   ],
   "source": [
    "Fraction('0.125')"
   ]
  },
  {
   "cell_type": "code",
   "execution_count": 3,
   "id": "eab26262",
   "metadata": {},
   "outputs": [
    {
     "data": {
      "text/plain": [
       "Fraction(1, 8)"
      ]
     },
     "execution_count": 3,
     "metadata": {},
     "output_type": "execute_result"
    }
   ],
   "source": [
    "Fraction(0.125)"
   ]
  },
  {
   "cell_type": "code",
   "execution_count": 7,
   "id": "3fb60e30",
   "metadata": {},
   "outputs": [
    {
     "data": {
      "text/plain": [
       "Fraction(0, 1)"
      ]
     },
     "execution_count": 7,
     "metadata": {},
     "output_type": "execute_result"
    }
   ],
   "source": [
    "Fraction(0)"
   ]
  },
  {
   "cell_type": "code",
   "execution_count": 8,
   "id": "98daa6c8",
   "metadata": {},
   "outputs": [
    {
     "data": {
      "text/plain": [
       "Fraction(1, 1)"
      ]
     },
     "execution_count": 8,
     "metadata": {},
     "output_type": "execute_result"
    }
   ],
   "source": [
    "Fraction(1)"
   ]
  },
  {
   "cell_type": "code",
   "execution_count": 10,
   "id": "bdc2e9b5",
   "metadata": {},
   "outputs": [
    {
     "data": {
      "text/plain": [
       "(1, 8)"
      ]
     },
     "execution_count": 10,
     "metadata": {},
     "output_type": "execute_result"
    }
   ],
   "source": [
    "x = Fraction(0.125)\n",
    "x.numerator,x.denominator"
   ]
  },
  {
   "cell_type": "code",
   "execution_count": 46,
   "id": "2402736f",
   "metadata": {},
   "outputs": [
    {
     "data": {
      "text/plain": [
       "Fraction(1, 8)"
      ]
     },
     "execution_count": 46,
     "metadata": {},
     "output_type": "execute_result"
    }
   ],
   "source": [
    "Fraction(1,8)"
   ]
  },
  {
   "cell_type": "code",
   "execution_count": 47,
   "id": "e1c4f64d",
   "metadata": {},
   "outputs": [
    {
     "data": {
      "text/plain": [
       "Fraction(1, 8)"
      ]
     },
     "execution_count": 47,
     "metadata": {},
     "output_type": "execute_result"
    }
   ],
   "source": [
    "Fraction(denominator=8,numerator=1)"
   ]
  },
  {
   "cell_type": "code",
   "execution_count": 48,
   "id": "4f9f9d77",
   "metadata": {},
   "outputs": [
    {
     "data": {
      "text/plain": [
       "Fraction(1, 8)"
      ]
     },
     "execution_count": 48,
     "metadata": {},
     "output_type": "execute_result"
    }
   ],
   "source": [
    "Fraction(numerator=1,denominator=8)"
   ]
  },
  {
   "cell_type": "markdown",
   "id": "5c19d65d",
   "metadata": {},
   "source": [
    "### arithmetic operations on Fractions"
   ]
  },
  {
   "cell_type": "code",
   "execution_count": 49,
   "id": "f73a6ce1",
   "metadata": {},
   "outputs": [
    {
     "data": {
      "text/plain": [
       "Fraction(183, 56)"
      ]
     },
     "execution_count": 49,
     "metadata": {},
     "output_type": "execute_result"
    }
   ],
   "source": [
    "x = Fraction(numerator=22,denominator=7)\n",
    "y = Fraction(numerator=1,denominator=8)\n",
    "\n",
    "x+y"
   ]
  },
  {
   "cell_type": "code",
   "execution_count": 50,
   "id": "6bbb4c42",
   "metadata": {},
   "outputs": [
    {
     "data": {
      "text/plain": [
       "Fraction(11, 28)"
      ]
     },
     "execution_count": 50,
     "metadata": {},
     "output_type": "execute_result"
    }
   ],
   "source": [
    "x*y"
   ]
  },
  {
   "cell_type": "code",
   "execution_count": 51,
   "id": "2a196f0b",
   "metadata": {},
   "outputs": [
    {
     "data": {
      "text/plain": [
       "Fraction(176, 7)"
      ]
     },
     "execution_count": 51,
     "metadata": {},
     "output_type": "execute_result"
    }
   ],
   "source": [
    "x/y"
   ]
  },
  {
   "cell_type": "code",
   "execution_count": 52,
   "id": "fe1f1e68",
   "metadata": {},
   "outputs": [
    {
     "data": {
      "text/plain": [
       "Fraction(169, 56)"
      ]
     },
     "execution_count": 52,
     "metadata": {},
     "output_type": "execute_result"
    }
   ],
   "source": [
    "x-y"
   ]
  },
  {
   "cell_type": "markdown",
   "id": "de4bb1d9",
   "metadata": {},
   "source": [
    "### caveat of using Fractions when dealing with irrational numbers such as pi, limitations and how to overcome by setting limit.\n",
    "\n"
   ]
  },
  {
   "cell_type": "code",
   "execution_count": 36,
   "id": "fc584751",
   "metadata": {},
   "outputs": [
    {
     "data": {
      "text/plain": [
       "0.3"
      ]
     },
     "execution_count": 36,
     "metadata": {},
     "output_type": "execute_result"
    }
   ],
   "source": [
    "3/10"
   ]
  },
  {
   "cell_type": "code",
   "execution_count": 35,
   "id": "4f8af6bb",
   "metadata": {},
   "outputs": [
    {
     "data": {
      "text/plain": [
       "Fraction(3, 10)"
      ]
     },
     "execution_count": 35,
     "metadata": {},
     "output_type": "execute_result"
    }
   ],
   "source": [
    "Fraction('{:.16f}'.format(0.3))"
   ]
  },
  {
   "cell_type": "code",
   "execution_count": 25,
   "id": "9fdc3e21",
   "metadata": {},
   "outputs": [
    {
     "data": {
      "text/plain": [
       "'0.300'"
      ]
     },
     "execution_count": 25,
     "metadata": {},
     "output_type": "execute_result"
    }
   ],
   "source": [
    "'{:.3f}'.format(0.3)"
   ]
  },
  {
   "cell_type": "code",
   "execution_count": 34,
   "id": "2505dae4",
   "metadata": {},
   "outputs": [
    {
     "data": {
      "text/plain": [
       "Fraction(29999999999999999, 100000000000000000)"
      ]
     },
     "execution_count": 34,
     "metadata": {},
     "output_type": "execute_result"
    }
   ],
   "source": [
    "Fraction('{:.17f}'.format(0.3)) # 16th decimal point is the break point in python's precision."
   ]
  },
  {
   "cell_type": "code",
   "execution_count": 38,
   "id": "cd4d5ec5",
   "metadata": {},
   "outputs": [
    {
     "data": {
      "text/plain": [
       "Fraction(884279719003555, 281474976710656)"
      ]
     },
     "execution_count": 38,
     "metadata": {},
     "output_type": "execute_result"
    }
   ],
   "source": [
    "Fraction(np.pi)"
   ]
  },
  {
   "cell_type": "code",
   "execution_count": 42,
   "id": "5ad78540",
   "metadata": {},
   "outputs": [
    {
     "data": {
      "text/plain": [
       "Fraction(22, 7)"
      ]
     },
     "execution_count": 42,
     "metadata": {},
     "output_type": "execute_result"
    }
   ],
   "source": [
    "x = Fraction(np.pi)\n",
    "\n",
    "# what is the closest fraction we can get of pi with denominator not exceeding 10\n",
    "x.limit_denominator(10) # limit denominator to 10's"
   ]
  },
  {
   "cell_type": "code",
   "execution_count": 43,
   "id": "10f1400e",
   "metadata": {},
   "outputs": [
    {
     "data": {
      "text/plain": [
       "Fraction(311, 99)"
      ]
     },
     "execution_count": 43,
     "metadata": {},
     "output_type": "execute_result"
    }
   ],
   "source": [
    "x = Fraction(np.pi)\n",
    "\n",
    "x.limit_denominator(100) # limit denominator to 100's"
   ]
  },
  {
   "cell_type": "code",
   "execution_count": 54,
   "id": "a5ac67f4",
   "metadata": {},
   "outputs": [
    {
     "data": {
      "text/plain": [
       "Fraction(312689, 99532)"
      ]
     },
     "execution_count": 54,
     "metadata": {},
     "output_type": "execute_result"
    }
   ],
   "source": [
    "x = Fraction(np.pi)\n",
    "\n",
    "x.limit_denominator(100000) # limit denominator to 100000's"
   ]
  },
  {
   "cell_type": "code",
   "execution_count": 55,
   "id": "1836294f",
   "metadata": {},
   "outputs": [
    {
     "data": {
      "text/plain": [
       "3.141592653589793"
      ]
     },
     "execution_count": 55,
     "metadata": {},
     "output_type": "execute_result"
    }
   ],
   "source": [
    "x.numerator/x.denominator # that's quite a high precision"
   ]
  },
  {
   "cell_type": "markdown",
   "id": "65aa7db0",
   "metadata": {},
   "source": [
    "# Relationship between Gcd and Lcm\n",
    "\n",
    "## lcm(a,b) * gcd(a,b) = a*b"
   ]
  },
  {
   "cell_type": "code",
   "execution_count": null,
   "id": "45e5d030",
   "metadata": {},
   "outputs": [],
   "source": []
  },
  {
   "cell_type": "markdown",
   "id": "3b1b6407",
   "metadata": {},
   "source": [
    "# day 233"
   ]
  },
  {
   "cell_type": "markdown",
   "id": "0a0a0541",
   "metadata": {},
   "source": [
    "# float\n",
    "\n",
    "* float uses a fixed number of bytes. it uses only 8 bytes or 64 bits to store the number put into it.\n",
    "\n",
    "### sign:\n",
    "* we use 1 bit to represent the sign of the number.\n",
    "* 1 to indicate the number is negative and 0 to indicate that the number is positive.\n",
    "\n",
    "### exponents:\n",
    "* exponents, x^{exponent}, take about 11 bits of memory for representation the values of exponents range between [-1023,1023].\n",
    "\n",
    "### significant digits:\n",
    "* significant digits take about 52 bits. all numbers are significant digits except trailing zeros. example: in the number 1234500000, 12345 are significant digits and 00000 would go to exponents, making the final output look: 12345E + 6.\n",
    "\n",
    "\n",
    "### summary:\n",
    "$$ \\text{sign} \\rightarrow 1 \\text{ bit} $$\n",
    "$$ \\text{exponent} \\rightarrow 11 \\text{ bits} \\rightarrow \\text{ range[-1023,1023]} $$\n",
    "$$ \\text{significant digits} \\rightarrow 52 \\text{bits} $$\n",
    "\n",
    "\n",
    "### numbers representation:\n",
    "\n",
    "#### for Base 10 numbers:\n",
    "$$ 0.75 \\rightarrow \\frac{7}{10} + \\frac{5}{100} $$\n",
    "-----------\n",
    "$$ 0.7567 \\rightarrow \\frac{7}{10} + \\frac{5}{100} + \\frac{6}{1000} + \\frac{7}{10000} $$\n",
    "-------------\n",
    "$$ 1234.7567 \\rightarrow 1*1000 + 2*100 + 3*10 + 4*1 + \\frac{7}{10} + \\frac{5}{100} + \\frac{6}{1000} + \\frac{7}{10000} $$\n",
    "-----------\n",
    "$$ 1234.7567 \\rightarrow 1*10^{3} + 2*10^{2} + 3*10^{1} + 4*10^{0} + 7*10^{-1} + 5*10^{-2} + 6*10^{-3} + 7*10^{-4} $$\n",
    "-----------\n",
    "sign = 0 (positive number)\n",
    "\n",
    "sign = 1 (negative number)\n",
    "\n",
    "$$ \\text{ General Formula } d = (-1)^{sign} \\sum_{i=-m}^n d_{i} * 10^{i} $$\n",
    "---------\n",
    "\n",
    "\n",
    "#### for Base 2 numbers:\n",
    "![picture](number_representation.png)\n",
    "![picture](binary.png)\n",
    "\n",
    "\n",
    "# 0.1 in binary is infinite, it never stops; you cannot represent the decimal 0.1 in binary perfectly:\n",
    "\n",
    "$$ (0.1)_{10} = (0.00011 ........)_{2} $$ "
   ]
  },
  {
   "cell_type": "code",
   "execution_count": 8,
   "id": "b9b4edb8",
   "metadata": {},
   "outputs": [
    {
     "data": {
      "text/plain": [
       "12.5"
      ]
     },
     "execution_count": 8,
     "metadata": {},
     "output_type": "execute_result"
    }
   ],
   "source": [
    "float('12.5')"
   ]
  },
  {
   "cell_type": "code",
   "execution_count": 9,
   "id": "b07be9c5",
   "metadata": {},
   "outputs": [
    {
     "ename": "ValueError",
     "evalue": "could not convert string to float: '22/7'",
     "output_type": "error",
     "traceback": [
      "\u001b[1;31m---------------------------------------------------------------------------\u001b[0m",
      "\u001b[1;31mValueError\u001b[0m                                Traceback (most recent call last)",
      "Input \u001b[1;32mIn [9]\u001b[0m, in \u001b[0;36m<cell line: 1>\u001b[1;34m()\u001b[0m\n\u001b[1;32m----> 1\u001b[0m \u001b[38;5;28;43mfloat\u001b[39;49m\u001b[43m(\u001b[49m\u001b[38;5;124;43m'\u001b[39;49m\u001b[38;5;124;43m22/7\u001b[39;49m\u001b[38;5;124;43m'\u001b[39;49m\u001b[43m)\u001b[49m\n",
      "\u001b[1;31mValueError\u001b[0m: could not convert string to float: '22/7'"
     ]
    }
   ],
   "source": [
    "float('22/7')"
   ]
  },
  {
   "cell_type": "code",
   "execution_count": 11,
   "id": "fd59f3f3",
   "metadata": {},
   "outputs": [
    {
     "data": {
      "text/plain": [
       "3.142857142857143"
      ]
     },
     "execution_count": 11,
     "metadata": {},
     "output_type": "execute_result"
    }
   ],
   "source": [
    "from fractions import Fraction\n",
    "\n",
    "a = Fraction(22/7)\n",
    "float(a)"
   ]
  },
  {
   "cell_type": "code",
   "execution_count": 12,
   "id": "1c071163",
   "metadata": {},
   "outputs": [
    {
     "data": {
      "text/plain": [
       "0.9"
      ]
     },
     "execution_count": 12,
     "metadata": {},
     "output_type": "execute_result"
    }
   ],
   "source": [
    "1-0.1"
   ]
  },
  {
   "cell_type": "code",
   "execution_count": 13,
   "id": "fb6820a3",
   "metadata": {},
   "outputs": [
    {
     "name": "stdout",
     "output_type": "stream",
     "text": [
      "the actual 0.1 in the computer allowing precision error is: 0.1000000000000000055511151\n"
     ]
    }
   ],
   "source": [
    "# fooling 0.1\n",
    "\n",
    "print('the actual 0.1 in the computer allowing precision error is: {:.25f}'.format(0.1))"
   ]
  },
  {
   "cell_type": "code",
   "execution_count": 14,
   "id": "a139b7a5",
   "metadata": {},
   "outputs": [
    {
     "name": "stdout",
     "output_type": "stream",
     "text": [
      "the actual 0.125 in the computer allowing precision error is: 0.1250000000000000000000000\n"
     ]
    }
   ],
   "source": [
    "print('the actual 0.125 in the computer allowing precision error is: {:.25f}'.format(0.125))"
   ]
  },
  {
   "cell_type": "code",
   "execution_count": 15,
   "id": "8c606684",
   "metadata": {},
   "outputs": [
    {
     "name": "stdout",
     "output_type": "stream",
     "text": [
      "the actual 0.75 in the computer allowing precision error is: 0.7500000000000000000000000\n"
     ]
    }
   ],
   "source": [
    "print('the actual 0.75 in the computer allowing precision error is: {:.25f}'.format(0.75))"
   ]
  },
  {
   "cell_type": "code",
   "execution_count": null,
   "id": "6ab20b5b",
   "metadata": {},
   "outputs": [],
   "source": []
  },
  {
   "cell_type": "markdown",
   "id": "e4b06cb4",
   "metadata": {},
   "source": [
    "# day 235"
   ]
  },
  {
   "cell_type": "markdown",
   "id": "0c61e19d",
   "metadata": {},
   "source": [
    "# Float Equality"
   ]
  },
  {
   "cell_type": "code",
   "execution_count": 3,
   "id": "f53eef3c",
   "metadata": {},
   "outputs": [
    {
     "data": {
      "text/plain": [
       "False"
      ]
     },
     "execution_count": 3,
     "metadata": {},
     "output_type": "execute_result"
    }
   ],
   "source": [
    "\n",
    "# remember the binary representation of 0.1 is not precise(it will just keep repeating itself)\n",
    "x = 0.1 + 0.1 + 0.1\n",
    "y = 0.3\n",
    "\n",
    "x == y\n",
    "\n"
   ]
  },
  {
   "cell_type": "code",
   "execution_count": 6,
   "id": "9309b137",
   "metadata": {},
   "outputs": [
    {
     "data": {
      "text/plain": [
       "True"
      ]
     },
     "execution_count": 6,
     "metadata": {},
     "output_type": "execute_result"
    }
   ],
   "source": [
    "# rounding solves it\n",
    "x = round(0.1+0.1+0.1,1)\n",
    "y = round(0.3,1)\n",
    "\n",
    "x == y"
   ]
  },
  {
   "cell_type": "code",
   "execution_count": 7,
   "id": "a3a45341",
   "metadata": {},
   "outputs": [
    {
     "data": {
      "text/plain": [
       "0.1"
      ]
     },
     "execution_count": 7,
     "metadata": {},
     "output_type": "execute_result"
    }
   ],
   "source": [
    "round(0.1,1)"
   ]
  },
  {
   "cell_type": "code",
   "execution_count": 8,
   "id": "70a3719b",
   "metadata": {},
   "outputs": [
    {
     "data": {
      "text/plain": [
       "0.3"
      ]
     },
     "execution_count": 8,
     "metadata": {},
     "output_type": "execute_result"
    }
   ],
   "source": [
    "round(0.1+0.1+0.1,1)"
   ]
  },
  {
   "cell_type": "code",
   "execution_count": 2,
   "id": "96c9bc70",
   "metadata": {},
   "outputs": [
    {
     "data": {
      "text/plain": [
       "True"
      ]
     },
     "execution_count": 2,
     "metadata": {},
     "output_type": "execute_result"
    }
   ],
   "source": [
    "# equality check for floats\n",
    "def is_equal(x,y,tolerance):\n",
    "    return abs(x-y) < tolerance\n",
    "\n",
    "x = 0.1+0.1+0.1\n",
    "y = 0.3\n",
    "is_equal(x,y,0.0000000001)"
   ]
  },
  {
   "cell_type": "code",
   "execution_count": 9,
   "id": "cc35d8e6",
   "metadata": {},
   "outputs": [
    {
     "data": {
      "text/plain": [
       "0.0"
      ]
     },
     "execution_count": 9,
     "metadata": {},
     "output_type": "execute_result"
    }
   ],
   "source": [
    "abs(x-y)"
   ]
  },
  {
   "cell_type": "markdown",
   "id": "dc716b8f",
   "metadata": {},
   "source": [
    "# how to calculate the relative tolerance and use it for tolerance depending upon the size of the numbers in comparision"
   ]
  },
  {
   "cell_type": "code",
   "execution_count": 8,
   "id": "05ed30fc",
   "metadata": {},
   "outputs": [
    {
     "data": {
      "text/plain": [
       "True"
      ]
     },
     "execution_count": 8,
     "metadata": {},
     "output_type": "execute_result"
    }
   ],
   "source": [
    "relative_tolerance = 0.000000000001\n",
    "\n",
    "x = 10000.53\n",
    "y = 10000.53\n",
    "tolerance = relative_tolerance * max(abs(x),abs(y))\n",
    "is_equal(x,y,tolerance)"
   ]
  },
  {
   "cell_type": "code",
   "execution_count": 9,
   "id": "e30dcba4",
   "metadata": {},
   "outputs": [
    {
     "data": {
      "text/plain": [
       "1.000053e-08"
      ]
     },
     "execution_count": 9,
     "metadata": {},
     "output_type": "execute_result"
    }
   ],
   "source": [
    "tolerance"
   ]
  },
  {
   "cell_type": "code",
   "execution_count": 14,
   "id": "d45efd9c",
   "metadata": {},
   "outputs": [
    {
     "data": {
      "text/plain": [
       "True"
      ]
     },
     "execution_count": 14,
     "metadata": {},
     "output_type": "execute_result"
    }
   ],
   "source": [
    "x = 0\n",
    "y = 0.0000000000001\n",
    "\n",
    "is_equal(x,y,tolerance)"
   ]
  },
  {
   "cell_type": "code",
   "execution_count": null,
   "id": "0bd04bb3",
   "metadata": {},
   "outputs": [],
   "source": []
  },
  {
   "cell_type": "markdown",
   "id": "0168d3d4",
   "metadata": {},
   "source": [
    "# day 239"
   ]
  },
  {
   "cell_type": "markdown",
   "id": "342b91bc",
   "metadata": {},
   "source": [
    "# the best method for checking float equality is: np.isclose()"
   ]
  },
  {
   "cell_type": "code",
   "execution_count": 18,
   "id": "aef9bcf1",
   "metadata": {},
   "outputs": [
    {
     "data": {
      "text/plain": [
       "True"
      ]
     },
     "execution_count": 18,
     "metadata": {},
     "output_type": "execute_result"
    }
   ],
   "source": [
    "import numpy as np\n",
    "\n",
    "np.isclose(3,3)"
   ]
  },
  {
   "cell_type": "code",
   "execution_count": 20,
   "id": "e9b83141",
   "metadata": {},
   "outputs": [
    {
     "data": {
      "text/plain": [
       "True"
      ]
     },
     "execution_count": 20,
     "metadata": {},
     "output_type": "execute_result"
    }
   ],
   "source": [
    "np.isclose(10000000.01,10000000.02) "
   ]
  },
  {
   "cell_type": "code",
   "execution_count": 23,
   "id": "62f23e99",
   "metadata": {},
   "outputs": [
    {
     "data": {
      "text/plain": [
       "False"
      ]
     },
     "execution_count": 23,
     "metadata": {},
     "output_type": "execute_result"
    }
   ],
   "source": [
    "np.isclose(0.01,0.012)"
   ]
  },
  {
   "cell_type": "markdown",
   "id": "1d9fdb64",
   "metadata": {},
   "source": [
    "# conclusion:\n",
    "\n",
    "* To check the equality for integers use `==`\n",
    "* To check the equality for floats use np.isclose() method."
   ]
  },
  {
   "cell_type": "code",
   "execution_count": null,
   "id": "f67b1f3f",
   "metadata": {},
   "outputs": [],
   "source": []
  },
  {
   "cell_type": "markdown",
   "id": "1fbf03ee",
   "metadata": {},
   "source": [
    "# coercing Floats to become integers:"
   ]
  },
  {
   "cell_type": "code",
   "execution_count": 27,
   "id": "76559987",
   "metadata": {},
   "outputs": [
    {
     "data": {
      "text/plain": [
       "10"
      ]
     },
     "execution_count": 27,
     "metadata": {},
     "output_type": "execute_result"
    }
   ],
   "source": [
    "import numpy as np\n",
    "int(np.floor(10.4))"
   ]
  },
  {
   "cell_type": "code",
   "execution_count": 28,
   "id": "9305ac71",
   "metadata": {},
   "outputs": [
    {
     "data": {
      "text/plain": [
       "10"
      ]
     },
     "execution_count": 28,
     "metadata": {},
     "output_type": "execute_result"
    }
   ],
   "source": [
    "int(np.floor(10.9999999))"
   ]
  },
  {
   "cell_type": "code",
   "execution_count": 36,
   "id": "1e9932cb",
   "metadata": {},
   "outputs": [
    {
     "data": {
      "text/plain": [
       "-11"
      ]
     },
     "execution_count": 36,
     "metadata": {},
     "output_type": "execute_result"
    }
   ],
   "source": [
    "# floor of negative numbers\n",
    "\n",
    "int(np.floor(-10.9999999))"
   ]
  },
  {
   "cell_type": "code",
   "execution_count": 37,
   "id": "ae2945ff",
   "metadata": {},
   "outputs": [
    {
     "data": {
      "text/plain": [
       "11"
      ]
     },
     "execution_count": 37,
     "metadata": {},
     "output_type": "execute_result"
    }
   ],
   "source": [
    "int(np.ceil(10.4))"
   ]
  },
  {
   "cell_type": "code",
   "execution_count": 34,
   "id": "a3446a2d",
   "metadata": {},
   "outputs": [
    {
     "data": {
      "text/plain": [
       "10"
      ]
     },
     "execution_count": 34,
     "metadata": {},
     "output_type": "execute_result"
    }
   ],
   "source": [
    "int(np.ceil(10.000000000000001)) # 15 digit precision(the max precision in python.)"
   ]
  },
  {
   "cell_type": "code",
   "execution_count": 38,
   "id": "15283d24",
   "metadata": {},
   "outputs": [
    {
     "data": {
      "text/plain": [
       "-10"
      ]
     },
     "execution_count": 38,
     "metadata": {},
     "output_type": "execute_result"
    }
   ],
   "source": [
    "int(np.ceil(-10.4))"
   ]
  },
  {
   "cell_type": "code",
   "execution_count": 41,
   "id": "6b93250c",
   "metadata": {},
   "outputs": [
    {
     "ename": "TypeError",
     "evalue": "ufunc 'ceil' not supported for the input types, and the inputs could not be safely coerced to any supported types according to the casting rule ''safe''",
     "output_type": "error",
     "traceback": [
      "\u001b[1;31m---------------------------------------------------------------------------\u001b[0m",
      "\u001b[1;31mTypeError\u001b[0m                                 Traceback (most recent call last)",
      "Input \u001b[1;32mIn [41]\u001b[0m, in \u001b[0;36m<cell line: 1>\u001b[1;34m()\u001b[0m\n\u001b[1;32m----> 1\u001b[0m \u001b[43mnp\u001b[49m\u001b[38;5;241;43m.\u001b[39;49m\u001b[43mceil\u001b[49m\u001b[43m(\u001b[49m\u001b[38;5;241;43m10.4\u001b[39;49m\u001b[38;5;241;43m*\u001b[39;49m\u001b[38;5;241;43m1\u001b[39;49m\u001b[43mj\u001b[49m\u001b[43m)\u001b[49m\n",
      "\u001b[1;31mTypeError\u001b[0m: ufunc 'ceil' not supported for the input types, and the inputs could not be safely coerced to any supported types according to the casting rule ''safe''"
     ]
    }
   ],
   "source": [
    "int(np.ceil(10.4*1j)) # it doesn't work with complex numbers."
   ]
  },
  {
   "cell_type": "code",
   "execution_count": null,
   "id": "82044164",
   "metadata": {},
   "outputs": [],
   "source": []
  },
  {
   "cell_type": "markdown",
   "id": "bd78c514",
   "metadata": {},
   "source": [
    "# day 243"
   ]
  },
  {
   "cell_type": "markdown",
   "id": "9d6ae1e1",
   "metadata": {},
   "source": [
    "# rounding of floats:\n",
    "\n",
    "* it finds the closest multiple of 10^{-n} where n is the number you specify\n",
    "\n",
    "# in the positive realms:\n",
    "* if n = 0, 10^{-0} = 1 it rounds the number to the precision of 1's.\n",
    "* if n = 1, 10^{-1} = 0.1 it rounds the number to the precision of 0.1\n",
    "* if n = 2, 10^{-2} = 0.2 it rounds the number to the precision of 0.2. and so on.........."
   ]
  },
  {
   "cell_type": "code",
   "execution_count": 1,
   "id": "97528b97",
   "metadata": {},
   "outputs": [
    {
     "data": {
      "text/html": [
       "\n",
       "        <iframe\n",
       "            width=\"1000\"\n",
       "            height=\"1000\"\n",
       "            src=\"round.pdf\"\n",
       "            frameborder=\"0\"\n",
       "            allowfullscreen\n",
       "            \n",
       "        ></iframe>\n",
       "        "
      ],
      "text/plain": [
       "<IPython.lib.display.IFrame at 0x1f3414ab370>"
      ]
     },
     "execution_count": 1,
     "metadata": {},
     "output_type": "execute_result"
    }
   ],
   "source": [
    "from IPython.display import IFrame\n",
    "IFrame(src='round.pdf',width=1000,height=1000)\n"
   ]
  },
  {
   "cell_type": "code",
   "execution_count": 1,
   "id": "c938b522",
   "metadata": {},
   "outputs": [
    {
     "data": {
      "text/plain": [
       "3.0"
      ]
     },
     "execution_count": 1,
     "metadata": {},
     "output_type": "execute_result"
    }
   ],
   "source": [
    "import numpy as np\n",
    "a = 3.2343\n",
    "\n",
    "np.round(a,0)"
   ]
  },
  {
   "cell_type": "code",
   "execution_count": 7,
   "id": "2fcd3af5",
   "metadata": {},
   "outputs": [
    {
     "data": {
      "text/plain": [
       "6.0"
      ]
     },
     "execution_count": 7,
     "metadata": {},
     "output_type": "execute_result"
    }
   ],
   "source": [
    "np.round(5.99999,0)"
   ]
  },
  {
   "cell_type": "code",
   "execution_count": 8,
   "id": "d610ddcf",
   "metadata": {},
   "outputs": [
    {
     "data": {
      "text/plain": [
       "6.0"
      ]
     },
     "execution_count": 8,
     "metadata": {},
     "output_type": "execute_result"
    }
   ],
   "source": [
    "np.round(5.99999,1)"
   ]
  },
  {
   "cell_type": "code",
   "execution_count": 9,
   "id": "d064d6e0",
   "metadata": {},
   "outputs": [
    {
     "data": {
      "text/plain": [
       "6.0"
      ]
     },
     "execution_count": 9,
     "metadata": {},
     "output_type": "execute_result"
    }
   ],
   "source": [
    "np.round(5.99999,2)"
   ]
  },
  {
   "cell_type": "code",
   "execution_count": 10,
   "id": "11714130",
   "metadata": {},
   "outputs": [
    {
     "data": {
      "text/plain": [
       "5.99999"
      ]
     },
     "execution_count": 10,
     "metadata": {},
     "output_type": "execute_result"
    }
   ],
   "source": [
    "np.round(5.99999,8)"
   ]
  },
  {
   "cell_type": "code",
   "execution_count": 16,
   "id": "b4f062a2",
   "metadata": {},
   "outputs": [
    {
     "data": {
      "text/plain": [
       "(888.88, 888.9, 889.0, 890.0, 900.0, 1000.0, 0.0)"
      ]
     },
     "execution_count": 16,
     "metadata": {},
     "output_type": "execute_result"
    }
   ],
   "source": [
    "round(888.88,2), round(888.88,1),\\\n",
    "round(888.88,0),\\\n",
    "round(888.88,-1), round(888.88,-2), round(888.88,-3),round(888.88,-4)"
   ]
  },
  {
   "cell_type": "code",
   "execution_count": null,
   "id": "dbd25bcd",
   "metadata": {},
   "outputs": [],
   "source": []
  },
  {
   "cell_type": "markdown",
   "id": "edc3620f",
   "metadata": {},
   "source": [
    "# going into the negative zones\n",
    "\n",
    "* 10^{-(-1)} = 10 so it rounds in multiple of 10's.\n",
    "* 10^{-(-2)} = 100 so it rounds in multiples of 100's and so on............."
   ]
  },
  {
   "cell_type": "code",
   "execution_count": 11,
   "id": "aa72715b",
   "metadata": {},
   "outputs": [
    {
     "data": {
      "text/plain": [
       "10.0"
      ]
     },
     "execution_count": 11,
     "metadata": {},
     "output_type": "execute_result"
    }
   ],
   "source": [
    "np.round(5.99999,-1)"
   ]
  },
  {
   "cell_type": "code",
   "execution_count": 12,
   "id": "c1d5c396",
   "metadata": {},
   "outputs": [
    {
     "data": {
      "text/plain": [
       "0.0"
      ]
     },
     "execution_count": 12,
     "metadata": {},
     "output_type": "execute_result"
    }
   ],
   "source": [
    "np.round(5.99999,-2)"
   ]
  },
  {
   "cell_type": "code",
   "execution_count": 14,
   "id": "9c7fc7fa",
   "metadata": {},
   "outputs": [
    {
     "data": {
      "text/plain": [
       "60.0"
      ]
     },
     "execution_count": 14,
     "metadata": {},
     "output_type": "execute_result"
    }
   ],
   "source": [
    "np.round(55.999999,-1)"
   ]
  },
  {
   "cell_type": "code",
   "execution_count": 15,
   "id": "b49fbe9c",
   "metadata": {},
   "outputs": [
    {
     "data": {
      "text/plain": [
       "100.0"
      ]
     },
     "execution_count": 15,
     "metadata": {},
     "output_type": "execute_result"
    }
   ],
   "source": [
    "np.round(55.999999,-2)"
   ]
  },
  {
   "cell_type": "code",
   "execution_count": 16,
   "id": "69628ff7",
   "metadata": {},
   "outputs": [
    {
     "data": {
      "text/plain": [
       "0.0"
      ]
     },
     "execution_count": 16,
     "metadata": {},
     "output_type": "execute_result"
    }
   ],
   "source": [
    "np.round(55.999999,-3)"
   ]
  },
  {
   "cell_type": "markdown",
   "id": "cd3a9153",
   "metadata": {},
   "source": [
    "# problem with ties\n",
    "\n",
    "* it is also known as banker rounding.(`we can actually use this technique to take some extra cash from the bank `)..\n",
    "* it rounds it to the even least number.\n",
    "* lets say you earned 1.35% interest off your deposit this month from the bank, what they will do is they will just ceil it to 1.4% suppose you had a billion dollar in the bank this 0.1 % increase would significantly boost the interest earned."
   ]
  },
  {
   "cell_type": "code",
   "execution_count": 24,
   "id": "4d8909c2",
   "metadata": {},
   "outputs": [
    {
     "data": {
      "text/plain": [
       "5.2"
      ]
     },
     "execution_count": 24,
     "metadata": {},
     "output_type": "execute_result"
    }
   ],
   "source": [
    "np.round(5.15,1) # it rounds it to the even least number which is 5.2 not 5.3"
   ]
  },
  {
   "cell_type": "code",
   "execution_count": 32,
   "id": "fae59ac8",
   "metadata": {},
   "outputs": [
    {
     "data": {
      "text/plain": [
       "1.4"
      ]
     },
     "execution_count": 32,
     "metadata": {},
     "output_type": "execute_result"
    }
   ],
   "source": [
    "np.round(1.35,1) # now it round it to the even least number.  which is 1.4 not 1.3"
   ]
  },
  {
   "cell_type": "code",
   "execution_count": 34,
   "id": "c65ac95f",
   "metadata": {},
   "outputs": [
    {
     "data": {
      "text/plain": [
       "-11"
      ]
     },
     "execution_count": 34,
     "metadata": {},
     "output_type": "execute_result"
    }
   ],
   "source": [
    "int(-11 - 0.5)"
   ]
  },
  {
   "cell_type": "code",
   "execution_count": null,
   "id": "270660d6",
   "metadata": {},
   "outputs": [],
   "source": []
  },
  {
   "cell_type": "code",
   "execution_count": null,
   "id": "d6dc38e3",
   "metadata": {},
   "outputs": [],
   "source": []
  },
  {
   "cell_type": "markdown",
   "id": "494acf67",
   "metadata": {},
   "source": [
    "# insist on rounding away from zero method:"
   ]
  },
  {
   "cell_type": "code",
   "execution_count": 42,
   "id": "397c7f0e",
   "metadata": {},
   "outputs": [
    {
     "data": {
      "text/plain": [
       "-11"
      ]
     },
     "execution_count": 42,
     "metadata": {},
     "output_type": "execute_result"
    }
   ],
   "source": [
    "x = -10.5\n",
    "\n",
    "if x > 0:\n",
    "    sign = 1\n",
    "    ans = sign * int(abs(x) + 0.5)\n",
    "    \n",
    "elif x < 0:\n",
    "    sign = -1\n",
    "    ans = sign * int(abs(x) + 0.5)\n",
    "    \n",
    "ans"
   ]
  },
  {
   "cell_type": "code",
   "execution_count": null,
   "id": "d7b7ec87",
   "metadata": {},
   "outputs": [],
   "source": []
  },
  {
   "cell_type": "markdown",
   "id": "028a067f",
   "metadata": {},
   "source": [
    "# rounding towards positive infinity"
   ]
  },
  {
   "cell_type": "code",
   "execution_count": 39,
   "id": "ad6eb08b",
   "metadata": {},
   "outputs": [
    {
     "data": {
      "text/plain": [
       "-10"
      ]
     },
     "execution_count": 39,
     "metadata": {},
     "output_type": "execute_result"
    }
   ],
   "source": [
    "x = -10.9\n",
    "\n",
    "int(x + 0.5)"
   ]
  },
  {
   "cell_type": "code",
   "execution_count": null,
   "id": "7d7dee69",
   "metadata": {},
   "outputs": [],
   "source": []
  },
  {
   "cell_type": "markdown",
   "id": "7eab5f66",
   "metadata": {},
   "source": [
    "# day 245,day 248\n",
    "\n",
    "# decimals:\n"
   ]
  },
  {
   "cell_type": "code",
   "execution_count": 4,
   "id": "ec22c30e",
   "metadata": {},
   "outputs": [
    {
     "data": {
      "text/html": [
       "\n",
       "        <iframe\n",
       "            width=\"1000\"\n",
       "            height=\"1000\"\n",
       "            src=\"decimals.pdf\"\n",
       "            frameborder=\"0\"\n",
       "            allowfullscreen\n",
       "            \n",
       "        ></iframe>\n",
       "        "
      ],
      "text/plain": [
       "<IPython.lib.display.IFrame at 0x16bc245c400>"
      ]
     },
     "metadata": {},
     "output_type": "display_data"
    }
   ],
   "source": [
    "from IPython.display import IFrame,display\n",
    "\n",
    "iframe = IFrame(src='decimals.pdf',width=1000,height=1000)\n",
    "\n",
    "display(iframe)"
   ]
  },
  {
   "cell_type": "code",
   "execution_count": 6,
   "id": "1c9fc929",
   "metadata": {},
   "outputs": [
    {
     "data": {
      "text/plain": [
       "-50"
      ]
     },
     "execution_count": 6,
     "metadata": {},
     "output_type": "execute_result"
    }
   ],
   "source": []
  },
  {
   "cell_type": "code",
   "execution_count": 23,
   "id": "00a3c95d",
   "metadata": {},
   "outputs": [
    {
     "data": {
      "text/plain": [
       "1000100000000.0"
      ]
     },
     "execution_count": 23,
     "metadata": {},
     "output_type": "execute_result"
    }
   ],
   "source": [
    "float(100.0100000000000051159076975) * float(10000000000)"
   ]
  },
  {
   "cell_type": "code",
   "execution_count": 4,
   "id": "a20551b1",
   "metadata": {},
   "outputs": [
    {
     "data": {
      "text/plain": [
       "Context(prec=28, rounding=ROUND_HALF_EVEN, Emin=-999999, Emax=999999, capitals=1, clamp=0, flags=[], traps=[InvalidOperation, DivisionByZero, Overflow])"
      ]
     },
     "execution_count": 4,
     "metadata": {},
     "output_type": "execute_result"
    }
   ],
   "source": [
    "import decimal\n",
    "\n",
    "\n",
    "decimal.getcontext()"
   ]
  },
  {
   "cell_type": "code",
   "execution_count": 5,
   "id": "afcbf033",
   "metadata": {},
   "outputs": [
    {
     "data": {
      "text/plain": [
       "<decimal.ContextManager at 0x2221a067ab0>"
      ]
     },
     "execution_count": 5,
     "metadata": {},
     "output_type": "execute_result"
    }
   ],
   "source": [
    "decimal.localcontext()"
   ]
  },
  {
   "cell_type": "code",
   "execution_count": 6,
   "id": "545c097c",
   "metadata": {},
   "outputs": [
    {
     "name": "stdout",
     "output_type": "stream",
     "text": [
      "Context(prec=28, rounding=ROUND_HALF_EVEN, Emin=-999999, Emax=999999, capitals=1, clamp=0, flags=[], traps=[InvalidOperation, DivisionByZero, Overflow])\n"
     ]
    }
   ],
   "source": [
    "with decimal.localcontext() as ctx:\n",
    "    print(ctx)"
   ]
  },
  {
   "cell_type": "code",
   "execution_count": 8,
   "id": "57c7acaa",
   "metadata": {},
   "outputs": [
    {
     "data": {
      "text/plain": [
       "Decimal('12')"
      ]
     },
     "execution_count": 8,
     "metadata": {},
     "output_type": "execute_result"
    }
   ],
   "source": [
    "from decimal import Decimal\n",
    "\n",
    "a = Decimal(12)\n",
    "a"
   ]
  },
  {
   "cell_type": "code",
   "execution_count": null,
   "id": "3d86d575",
   "metadata": {},
   "outputs": [],
   "source": []
  },
  {
   "cell_type": "markdown",
   "id": "587c0c00",
   "metadata": {},
   "source": [
    "# Decimals; constructor's and contexts"
   ]
  },
  {
   "cell_type": "code",
   "execution_count": 11,
   "id": "045a8448",
   "metadata": {},
   "outputs": [
    {
     "data": {
      "text/html": [
       "\n",
       "        <iframe\n",
       "            width=\"1000\"\n",
       "            height=\"500\"\n",
       "            src=\"decimal.pdf\"\n",
       "            frameborder=\"0\"\n",
       "            allowfullscreen\n",
       "            \n",
       "        ></iframe>\n",
       "        "
      ],
      "text/plain": [
       "<IPython.lib.display.IFrame at 0x2221b2c10d0>"
      ]
     },
     "execution_count": 11,
     "metadata": {},
     "output_type": "execute_result"
    }
   ],
   "source": [
    "from IPython.display import IFrame\n",
    "\n",
    "IFrame(src='decimal.pdf',width=1000,height=500)"
   ]
  },
  {
   "cell_type": "markdown",
   "id": "d37f8e1f",
   "metadata": {},
   "source": [
    "### storing 0.1 is not going to be precise"
   ]
  },
  {
   "cell_type": "code",
   "execution_count": 12,
   "id": "58d89a20",
   "metadata": {},
   "outputs": [
    {
     "data": {
      "text/plain": [
       "Decimal('0.1000000000000000055511151231257827021181583404541015625')"
      ]
     },
     "execution_count": 12,
     "metadata": {},
     "output_type": "execute_result"
    }
   ],
   "source": [
    "\n",
    "\n",
    "Decimal(0.1)"
   ]
  },
  {
   "cell_type": "code",
   "execution_count": null,
   "id": "903640a2",
   "metadata": {},
   "outputs": [],
   "source": []
  },
  {
   "cell_type": "markdown",
   "id": "a47bebff",
   "metadata": {},
   "source": [
    "# day 250"
   ]
  },
  {
   "cell_type": "code",
   "execution_count": 1,
   "id": "64372ecb",
   "metadata": {},
   "outputs": [],
   "source": [
    "from decimal import Decimal"
   ]
  },
  {
   "cell_type": "code",
   "execution_count": 3,
   "id": "87b2ab39",
   "metadata": {},
   "outputs": [
    {
     "data": {
      "text/plain": [
       "Decimal('-3.1415')"
      ]
     },
     "execution_count": 3,
     "metadata": {},
     "output_type": "execute_result"
    }
   ],
   "source": [
    "Decimal((1,(3,1,4,1,5),-4))"
   ]
  },
  {
   "cell_type": "code",
   "execution_count": 15,
   "id": "22a031e9",
   "metadata": {},
   "outputs": [
    {
     "data": {
      "text/plain": [
       "Decimal('31.415')"
      ]
     },
     "execution_count": 15,
     "metadata": {},
     "output_type": "execute_result"
    }
   ],
   "source": [
    "Decimal((0,(3,1,4,1,5),-3))"
   ]
  },
  {
   "cell_type": "markdown",
   "id": "69a5cd35",
   "metadata": {},
   "source": [
    "# conclusion:\n",
    "* it gives a decimal number.\n",
    "* it makes us understand how python's compiler works\n",
    "* for giving out -3.1415, \n",
    "* first pass in the sign (0 for positive 1 for negative), in our case it is 1.\n",
    "* pass in the numbers in a tuple.\n",
    "* -4 indicates how many decimal points. -1 means last, -2 means pen ultimate number, -3 means 3rd numbers from the last and so on.\n",
    "* please please and please Ensure that you are using tuple to pass it all in."
   ]
  },
  {
   "cell_type": "markdown",
   "id": "5fdc7091",
   "metadata": {},
   "source": [
    "# setting a global rounding precision"
   ]
  },
  {
   "cell_type": "code",
   "execution_count": 13,
   "id": "de1fa137",
   "metadata": {},
   "outputs": [
    {
     "name": "stdout",
     "output_type": "stream",
     "text": [
      "5.1253252 6.8922424\n",
      "12.018\n"
     ]
    }
   ],
   "source": [
    "import decimal\n",
    "from decimal import Decimal\n",
    "\n",
    "# setting the precision to 5 decimal points.\n",
    "decimal.getcontext().prec = 5\n",
    "\n",
    "# construction of decimals\n",
    "a = Decimal('5.1253252')\n",
    "b = Decimal('6.8922424')\n",
    "\n",
    "# printing the impact of the constructor \n",
    "print(a,b)\n",
    "\n",
    "\n",
    "# doing operations after construction\n",
    "c = a+b\n",
    "print(c)\n"
   ]
  },
  {
   "cell_type": "markdown",
   "id": "ba7f0cb2",
   "metadata": {},
   "source": [
    "# conclusion:\n",
    "**setting the global precision doesn't affect the numbers while constructing them but affects the numbers only during operations.**"
   ]
  },
  {
   "cell_type": "code",
   "execution_count": null,
   "id": "0b575af6",
   "metadata": {},
   "outputs": [],
   "source": []
  },
  {
   "cell_type": "markdown",
   "id": "a79c2132",
   "metadata": {},
   "source": [
    "# decimals math operations"
   ]
  },
  {
   "cell_type": "code",
   "execution_count": 18,
   "id": "d07b06b5",
   "metadata": {},
   "outputs": [
    {
     "data": {
      "text/html": [
       "\n",
       "        <iframe\n",
       "            width=\"1000\"\n",
       "            height=\"500\"\n",
       "            src=\"20+-+Decimals+-+Math+Operations.pdf\"\n",
       "            frameborder=\"0\"\n",
       "            allowfullscreen\n",
       "            \n",
       "        ></iframe>\n",
       "        "
      ],
      "text/plain": [
       "<IPython.lib.display.IFrame at 0x16bc3616670>"
      ]
     },
     "execution_count": 18,
     "metadata": {},
     "output_type": "execute_result"
    }
   ],
   "source": [
    "from IPython.display import IFrame\n",
    "\n",
    "IFrame(src='20+-+Decimals+-+Math+Operations.pdf',height=500,width=1000)"
   ]
  },
  {
   "cell_type": "code",
   "execution_count": 28,
   "id": "a04fac4c",
   "metadata": {},
   "outputs": [
    {
     "name": "stdout",
     "output_type": "stream",
     "text": [
      "d constructor is: 0.01\n",
      "numpy Sqaure root operation is performed on d: 0.1\n",
      "inbuilt decimal Sqaure root operation is performed on d: 0.1\n"
     ]
    }
   ],
   "source": [
    "import decimal\n",
    "from decimal import Decimal\n",
    "import numpy as np\n",
    "\n",
    "# setting the global rounding precision.\n",
    "decimal.getcontext().prec = 28\n",
    "\n",
    "d = Decimal('0.01')\n",
    "print(\"d constructor is: %s\"%d)\n",
    "print(\"numpy Sqaure root operation is performed on d: %s\"%np.sqrt(d))\n",
    "print(\"inbuilt decimal Sqaure root operation is performed on d: %s\"%d.sqrt())\n"
   ]
  },
  {
   "cell_type": "code",
   "execution_count": null,
   "id": "7a0066a8",
   "metadata": {},
   "outputs": [],
   "source": []
  },
  {
   "cell_type": "markdown",
   "id": "e95a9531",
   "metadata": {},
   "source": [
    "# calculative inaccuracies in float(which binary conversion owes)\n",
    "\n"
   ]
  },
  {
   "cell_type": "code",
   "execution_count": 35,
   "id": "1eb128be",
   "metadata": {},
   "outputs": [
    {
     "name": "stdout",
     "output_type": "stream",
     "text": [
      "4242342.224240000359714031219482422\n"
     ]
    },
    {
     "data": {
      "text/plain": [
       "'\\n Here we are calling for 27 digit precision which makes the float to throw non-sensical numbers after zeros that were not \\n part of the original x\\n'"
      ]
     },
     "execution_count": 35,
     "metadata": {},
     "output_type": "execute_result"
    }
   ],
   "source": [
    "x = 4242342.22424\n",
    "\n",
    "print(format(x,'1.27f'))\n",
    "\n",
    "# conclusion:\n",
    "\"\"\"\n",
    " Here we are calling for 27 digit precision which makes the float to throw non-sensical numbers after zeros that were not \n",
    " part of the original x\n",
    "\"\"\""
   ]
  },
  {
   "cell_type": "code",
   "execution_count": 37,
   "id": "c357810d",
   "metadata": {},
   "outputs": [
    {
     "name": "stdout",
     "output_type": "stream",
     "text": [
      "4242342.224240000000000000000000000\n"
     ]
    },
    {
     "data": {
      "text/plain": [
       "'\\n Here the big difference is Decimal function parries the numerical imprecision, or inaccuracy to be specific, that the \\n float function is renowned of doing!!!!\\n'"
      ]
     },
     "execution_count": 37,
     "metadata": {},
     "output_type": "execute_result"
    }
   ],
   "source": [
    "x = Decimal(\"4242342.22424\")\n",
    "\n",
    "print(format(x,'1.27f'))\n",
    "\n",
    "# conclusion:\n",
    "\"\"\"\n",
    " Here the big difference is Decimal function parries the numerical imprecision, or inaccuracy to be specific, that the \n",
    " float function is renowned of doing!!!!\n",
    "\"\"\""
   ]
  },
  {
   "cell_type": "code",
   "execution_count": null,
   "id": "68e75f75",
   "metadata": {},
   "outputs": [],
   "source": []
  },
  {
   "cell_type": "markdown",
   "id": "33ec8807",
   "metadata": {},
   "source": [
    "# Performance Issues with Decimals:\n",
    "\n",
    "* more accuracy less speed.\n",
    "* less accuracy more speed."
   ]
  },
  {
   "cell_type": "code",
   "execution_count": 38,
   "id": "08f7ab6e",
   "metadata": {},
   "outputs": [
    {
     "data": {
      "text/html": [
       "\n",
       "        <iframe\n",
       "            width=\"1000\"\n",
       "            height=\"500\"\n",
       "            src=\"22+-+Decimals+-+Performance+Considerations.pdf\"\n",
       "            frameborder=\"0\"\n",
       "            allowfullscreen\n",
       "            \n",
       "        ></iframe>\n",
       "        "
      ],
      "text/plain": [
       "<IPython.lib.display.IFrame at 0x16bc450bca0>"
      ]
     },
     "execution_count": 38,
     "metadata": {},
     "output_type": "execute_result"
    }
   ],
   "source": [
    "from IPython.display import IFrame\n",
    "IFrame(src='22+-+Decimals+-+Performance+Considerations.pdf',height=500,width=1000)"
   ]
  },
  {
   "cell_type": "code",
   "execution_count": 40,
   "id": "248bac5f",
   "metadata": {},
   "outputs": [
    {
     "name": "stdout",
     "output_type": "stream",
     "text": [
      "Size of the 3.1423 of float in bytes: 24\n",
      "Size of the 3.1423 of decimal in bytes: 104\n"
     ]
    }
   ],
   "source": [
    "import sys\n",
    "from decimal import Decimal\n",
    "\n",
    "a = 3.1423\n",
    "b = Decimal('3.1423')\n",
    "\n",
    "print('Size of the {} of float in bytes: {}'.format(a,sys.getsizeof(a)))\n",
    "print('Size of the {} of decimal in bytes: {}'.format(b,sys.getsizeof(b)))"
   ]
  },
  {
   "cell_type": "code",
   "execution_count": null,
   "id": "d4e01589",
   "metadata": {},
   "outputs": [],
   "source": []
  },
  {
   "cell_type": "markdown",
   "id": "4ff4bf50",
   "metadata": {},
   "source": [
    "# day 257,day 261"
   ]
  },
  {
   "cell_type": "markdown",
   "id": "5c5da13f",
   "metadata": {},
   "source": [
    "# complex numbers:\n",
    "\n"
   ]
  },
  {
   "cell_type": "code",
   "execution_count": 1,
   "id": "7d503bc3",
   "metadata": {},
   "outputs": [
    {
     "data": {
      "text/html": [
       "\n",
       "        <iframe\n",
       "            width=\"1000\"\n",
       "            height=\"500\"\n",
       "            src=\"23+-+Complex+Numbers.pdf\"\n",
       "            frameborder=\"0\"\n",
       "            allowfullscreen\n",
       "            \n",
       "        ></iframe>\n",
       "        "
      ],
      "text/plain": [
       "<IPython.lib.display.IFrame at 0x17f5203fe50>"
      ]
     },
     "execution_count": 1,
     "metadata": {},
     "output_type": "execute_result"
    }
   ],
   "source": [
    "from IPython.display import IFrame\n",
    "\n",
    "IFrame(src='23+-+Complex+Numbers.pdf',height=500,width=1000)"
   ]
  },
  {
   "cell_type": "code",
   "execution_count": 3,
   "id": "bd4710d7",
   "metadata": {},
   "outputs": [
    {
     "data": {
      "text/plain": [
       "(1+3j)"
      ]
     },
     "execution_count": 3,
     "metadata": {},
     "output_type": "execute_result"
    }
   ],
   "source": [
    "a = complex(1,3)\n",
    "a"
   ]
  },
  {
   "cell_type": "code",
   "execution_count": 4,
   "id": "66ff3b28",
   "metadata": {},
   "outputs": [
    {
     "data": {
      "text/plain": [
       "1.0"
      ]
     },
     "execution_count": 4,
     "metadata": {},
     "output_type": "execute_result"
    }
   ],
   "source": [
    "a.real"
   ]
  },
  {
   "cell_type": "code",
   "execution_count": 5,
   "id": "c1f9bca5",
   "metadata": {},
   "outputs": [
    {
     "data": {
      "text/plain": [
       "3.0"
      ]
     },
     "execution_count": 5,
     "metadata": {},
     "output_type": "execute_result"
    }
   ],
   "source": [
    "a.imag"
   ]
  },
  {
   "cell_type": "code",
   "execution_count": 6,
   "id": "ade9321b",
   "metadata": {},
   "outputs": [
    {
     "data": {
      "text/plain": [
       "(1-3j)"
      ]
     },
     "execution_count": 6,
     "metadata": {},
     "output_type": "execute_result"
    }
   ],
   "source": [
    "# conjugate changes the sign of the complex number as you can see below\n",
    "\n",
    "import numpy as np\n",
    "np.conjugate(a)\n",
    "\n",
    "# but does it change the sign of only the imaginary part of the equation or does it also change the sign of real part?"
   ]
  },
  {
   "cell_type": "code",
   "execution_count": 7,
   "id": "b0ca3556",
   "metadata": {},
   "outputs": [
    {
     "data": {
      "text/plain": [
       "(-1-2j)"
      ]
     },
     "execution_count": 7,
     "metadata": {},
     "output_type": "execute_result"
    }
   ],
   "source": [
    "b = -1 + 2j\n",
    "\n",
    "np.conjugate(b)\n",
    "\n",
    "# conclusion:conjugate function only changes the sign of the imaginary part of the equation!!!!!!!!!"
   ]
  },
  {
   "cell_type": "code",
   "execution_count": 23,
   "id": "a2af9f81",
   "metadata": {},
   "outputs": [
    {
     "name": "stdout",
     "output_type": "stream",
     "text": [
      "The Angle between 1.0 + 3.0i is = 0.322 radians and 18.435 degrees\n"
     ]
    }
   ],
   "source": [
    "# Angle between real and imaginary:\n",
    "\n",
    "\"\"\"\n",
    "1. imaginary part takes the y axis when the real part takes the x axis \n",
    "2. so when you have a number such as this 1-3j, there will be an Angle between the real and imaginary part of this equation\n",
    "3. we can find that angle using np.arctan2\n",
    "4. The np.arctan2 function returns the angle in radians between two points in the complex plane.\n",
    "5. The angle is returned in the range [-pi, pi].\n",
    "\n",
    "\n",
    "# why not use arccos:\n",
    "1. we can arcos(np.dot(number1,number2)/|number1||number2|) only when there are two complex numbers. if we have only one \n",
    "   complex number such as a = 1+3j arctan2 is the right tool to find the angle between them.\n",
    "2. the range of angles captured by arccos is [0,pi] that is only between 0 and 180 but the range of angles captured \n",
    "   by arctan2 is [-pi,pi] that is complete 360 degrees. that means we can make an accurate representation of where in \n",
    "   the circle the angle falls.\n",
    "\"\"\"\n",
    "\n",
    "def angle_between_complex(complex_num):\n",
    "    \n",
    "    real_part = np.real(complex_num)\n",
    "    imag_part = np.imag(complex_num)\n",
    "    \n",
    "    if real_part == 0 and imag_part == 0:\n",
    "        return np.nan\n",
    "    \n",
    "    else:\n",
    "        radians = np.arctan2(real_part,imag_part)\n",
    "        degrees = np.rad2deg(radians)\n",
    "        \n",
    "    print(\"The Angle between %s + %si is = %s radians and %s degrees\"%(real_part,imag_part,np.round(radians,3),\n",
    "                                                                       np.round(degrees,3)))\n",
    "\n",
    "a = 1 + 3j\n",
    "angle_between_complex(a)"
   ]
  },
  {
   "cell_type": "code",
   "execution_count": 24,
   "id": "68d67644",
   "metadata": {},
   "outputs": [
    {
     "name": "stdout",
     "output_type": "stream",
     "text": [
      "The Angle between 0.0 + -1.0i is = 3.142 radians and 180.0 degrees\n"
     ]
    }
   ],
   "source": [
    "angle_between_complex(0+-1j)"
   ]
  },
  {
   "cell_type": "code",
   "execution_count": 25,
   "id": "bafaaf1c",
   "metadata": {},
   "outputs": [
    {
     "name": "stdout",
     "output_type": "stream",
     "text": [
      "The Angle between -1.0 + 0.0i is = -1.571 radians and -90.0 degrees\n"
     ]
    }
   ],
   "source": [
    "angle_between_complex(-1+0j)"
   ]
  },
  {
   "cell_type": "code",
   "execution_count": 26,
   "id": "9614a2c7",
   "metadata": {},
   "outputs": [
    {
     "name": "stdout",
     "output_type": "stream",
     "text": [
      "The Angle between 1.0 + 1.0i is = 0.785 radians and 45.0 degrees\n"
     ]
    }
   ],
   "source": [
    "angle_between_complex(1+1j)"
   ]
  },
  {
   "cell_type": "code",
   "execution_count": 36,
   "id": "97e7f43f",
   "metadata": {},
   "outputs": [
    {
     "data": {
      "text/plain": [
       "(1.7993118631506964+0.8628714808264423j)"
      ]
     },
     "execution_count": 36,
     "metadata": {},
     "output_type": "execute_result"
    }
   ],
   "source": [
    "v1 = 1 + 3j\n",
    "v2 = -1 + 0j\n",
    "\n",
    "np.arccos(np.dot(v1,v2)/(np.linalg.norm(v1)*np.linalg.norm(v2)))\n"
   ]
  },
  {
   "cell_type": "code",
   "execution_count": 37,
   "id": "233aaada",
   "metadata": {},
   "outputs": [
    {
     "data": {
      "text/plain": [
       "(-1-3j)"
      ]
     },
     "execution_count": 37,
     "metadata": {},
     "output_type": "execute_result"
    }
   ],
   "source": [
    "np.dot(v1,v2)"
   ]
  },
  {
   "cell_type": "code",
   "execution_count": 39,
   "id": "10e8fab2",
   "metadata": {},
   "outputs": [
    {
     "data": {
      "text/plain": [
       "(-1-3j)"
      ]
     },
     "execution_count": 39,
     "metadata": {},
     "output_type": "execute_result"
    }
   ],
   "source": [
    "v1*v2"
   ]
  },
  {
   "cell_type": "code",
   "execution_count": 40,
   "id": "0654467d",
   "metadata": {},
   "outputs": [
    {
     "data": {
      "text/plain": [
       "3j"
      ]
     },
     "execution_count": 40,
     "metadata": {},
     "output_type": "execute_result"
    }
   ],
   "source": [
    "v1+v2"
   ]
  },
  {
   "cell_type": "code",
   "execution_count": 41,
   "id": "73ab0435",
   "metadata": {},
   "outputs": [
    {
     "data": {
      "text/plain": [
       "(-1-3j)"
      ]
     },
     "execution_count": 41,
     "metadata": {},
     "output_type": "execute_result"
    }
   ],
   "source": [
    "v1/v2"
   ]
  },
  {
   "cell_type": "code",
   "execution_count": 42,
   "id": "4bd4e5b4",
   "metadata": {},
   "outputs": [
    {
     "ename": "TypeError",
     "evalue": "can't take floor of complex number.",
     "output_type": "error",
     "traceback": [
      "\u001b[1;31m---------------------------------------------------------------------------\u001b[0m",
      "\u001b[1;31mTypeError\u001b[0m                                 Traceback (most recent call last)",
      "Input \u001b[1;32mIn [42]\u001b[0m, in \u001b[0;36m<cell line: 1>\u001b[1;34m()\u001b[0m\n\u001b[1;32m----> 1\u001b[0m \u001b[43mv1\u001b[49m\u001b[38;5;241;43m/\u001b[39;49m\u001b[38;5;241;43m/\u001b[39;49m\u001b[43mv2\u001b[49m\n",
      "\u001b[1;31mTypeError\u001b[0m: can't take floor of complex number."
     ]
    }
   ],
   "source": [
    "v1//v2"
   ]
  },
  {
   "cell_type": "code",
   "execution_count": 43,
   "id": "b865436f",
   "metadata": {},
   "outputs": [
    {
     "ename": "TypeError",
     "evalue": "can't mod complex numbers.",
     "output_type": "error",
     "traceback": [
      "\u001b[1;31m---------------------------------------------------------------------------\u001b[0m",
      "\u001b[1;31mTypeError\u001b[0m                                 Traceback (most recent call last)",
      "Input \u001b[1;32mIn [43]\u001b[0m, in \u001b[0;36m<cell line: 1>\u001b[1;34m()\u001b[0m\n\u001b[1;32m----> 1\u001b[0m \u001b[43mv1\u001b[49m\u001b[38;5;241;43m%\u001b[39;49m\u001b[43mv2\u001b[49m\n",
      "\u001b[1;31mTypeError\u001b[0m: can't mod complex numbers."
     ]
    }
   ],
   "source": [
    "v1%v2"
   ]
  },
  {
   "cell_type": "code",
   "execution_count": 2,
   "id": "959e5215",
   "metadata": {},
   "outputs": [
    {
     "data": {
      "text/plain": [
       "1.4142135623730951"
      ]
     },
     "execution_count": 2,
     "metadata": {},
     "output_type": "execute_result"
    }
   ],
   "source": [
    "# magnitude of a complex number\n",
    "\n",
    "import numpy as np\n",
    "np.linalg.norm(1+1j)"
   ]
  },
  {
   "cell_type": "code",
   "execution_count": 5,
   "id": "c5b9d55d",
   "metadata": {},
   "outputs": [
    {
     "data": {
      "text/plain": [
       "2.0"
      ]
     },
     "execution_count": 5,
     "metadata": {},
     "output_type": "execute_result"
    }
   ],
   "source": [
    "a = 2\n",
    "np.linalg.norm(a)"
   ]
  },
  {
   "cell_type": "code",
   "execution_count": 13,
   "id": "c730c581",
   "metadata": {},
   "outputs": [
    {
     "name": "stdout",
     "output_type": "stream",
     "text": [
      "a is =  [1. 1.]\n",
      "magnitude of a is  =  1.4142135623730951\n"
     ]
    }
   ],
   "source": [
    "# similarity between a.T.a = a^2 + a^2.\n",
    "\n",
    "\"\"\"\n",
    "1. np.linalg.norm finds the magnitude of a vector/matrix/tensor.\n",
    "2. magnitude is (c) = sqrt(a^2 + b^2)\n",
    "3. magnitude is also = sqrt(a.T.a) \n",
    "4. that means when you dot product the vector/matrix with itself it produces the squared transformations of its elements.\n",
    "\n",
    "\n",
    "\"\"\"\n",
    "\n",
    "\n",
    "a = 1 + 1j\n",
    "a = np.array([a.real,a.imag])\n",
    "\n",
    "print('a is = ',a)\n",
    "print('magnitude of a is  = ',np.linalg.norm(a))"
   ]
  },
  {
   "cell_type": "code",
   "execution_count": 23,
   "id": "a8c97fad",
   "metadata": {},
   "outputs": [
    {
     "name": "stdout",
     "output_type": "stream",
     "text": [
      "a is = \n"
     ]
    },
    {
     "data": {
      "text/plain": [
       "array([[8, 5, 5],\n",
       "       [4, 7, 1],\n",
       "       [4, 7, 6]])"
      ]
     },
     "metadata": {},
     "output_type": "display_data"
    },
    {
     "name": "stdout",
     "output_type": "stream",
     "text": [
      "\n",
      " wrong norm for a  is = \n"
     ]
    },
    {
     "data": {
      "text/plain": [
       "array([[ 9.79795897,  9.79795897,  8.24621125],\n",
       "       [ 9.79795897, 11.09053651,  8.60232527],\n",
       "       [ 8.24621125,  8.60232527,  7.87400787]])"
      ]
     },
     "metadata": {},
     "output_type": "display_data"
    },
    {
     "name": "stdout",
     "output_type": "stream",
     "text": [
      "\n",
      " right norm for a  is = \n"
     ]
    },
    {
     "data": {
      "image/png": "[encoded data removed]",
      "text/latex": [
       "$\\displaystyle 16.7630546142402$"
      ],
      "text/plain": [
       "16.76305461424021"
      ]
     },
     "metadata": {},
     "output_type": "display_data"
    },
    {
     "name": "stdout",
     "output_type": "stream",
     "text": [
      "\n",
      " magnitude of a is = \n"
     ]
    },
    {
     "data": {
      "image/png": "[encoded data removed]",
      "text/latex": [
       "$\\displaystyle 16.7630546142402$"
      ],
      "text/plain": [
       "16.76305461424021"
      ]
     },
     "metadata": {},
     "output_type": "display_data"
    }
   ],
   "source": [
    "# difference between magnitude for a vectors and magnitude for matrices.\n",
    "\n",
    "\"\"\"\n",
    "1. for vectors(col or row) the formula np.sqrt(np.dot(a.T,a)) in otherwords np.sqrt(x**2 + y**2 + z**2) might work.\n",
    "2. but for matrices it is not as straight-forward.\n",
    "3. the procedure for finding the total magnitude for the matrices is:\n",
    "1. square individual elements of the matrix\n",
    "2. sum all the elements.\n",
    "3. sqrt the sum.\n",
    "\n",
    "\"\"\"\n",
    "\n",
    "\n",
    "from IPython.display import display,Math\n",
    "import sympy as sym\n",
    "sym.init_printing()\n",
    "\n",
    "a = np.random.randint(1,9,(3,3))\n",
    "wrong_norm_for_a = np.sqrt(np.dot(a.T,a))\n",
    "right_norm_for_a = np.sqrt(np.sum(a**2)) # this is also known as forbenius norm\n",
    "magnitude_a = np.linalg.norm(a)\n",
    "\n",
    "\n",
    "print('a is = ')\n",
    "display(a)\n",
    "\n",
    "print('\\n wrong norm for a  is = ')\n",
    "display(wrong_norm_for_a)\n",
    "\n",
    "print('\\n right norm for a  is = ')\n",
    "display(right_norm_for_a)\n",
    "\n",
    "print('\\n magnitude of a is = ')\n",
    "display(magnitude_a)\n"
   ]
  },
  {
   "cell_type": "code",
   "execution_count": 24,
   "id": "6d2c9209",
   "metadata": {},
   "outputs": [
    {
     "data": {
      "image/png": "[encoded data removed]",
      "text/latex": [
       "$\\displaystyle 2.71828182845905$"
      ],
      "text/plain": [
       "2.718281828459045"
      ]
     },
     "execution_count": 24,
     "metadata": {},
     "output_type": "execute_result"
    }
   ],
   "source": [
    "np.exp(1)"
   ]
  },
  {
   "cell_type": "code",
   "execution_count": 35,
   "id": "e45ba8c8",
   "metadata": {},
   "outputs": [
    {
     "data": {
      "text/plain": [
       "True"
      ]
     },
     "execution_count": 35,
     "metadata": {},
     "output_type": "execute_result"
    }
   ],
   "source": [
    "# prove for e^{iPi} + 1 = 0\n",
    "\n",
    "lhs = np.exp(1)**(np.pi*1j) + 1\n",
    "rhs = 0\n",
    "\n",
    "np.isclose(lhs,rhs,atol=0.000000000000001)"
   ]
  },
  {
   "cell_type": "code",
   "execution_count": 29,
   "id": "eadfcd69",
   "metadata": {},
   "outputs": [
    {
     "name": "stdout",
     "output_type": "stream",
     "text": [
      "Help on function isclose in module numpy:\n",
      "\n",
      "isclose(a, b, rtol=1e-05, atol=1e-08, equal_nan=False)\n",
      "    Returns a boolean array where two arrays are element-wise equal within a\n",
      "    tolerance.\n",
      "    \n",
      "    The tolerance values are positive, typically very small numbers.  The\n",
      "    relative difference (`rtol` * abs(`b`)) and the absolute difference\n",
      "    `atol` are added together to compare against the absolute difference\n",
      "    between `a` and `b`.\n",
      "    \n",
      "    .. warning:: The default `atol` is not appropriate for comparing numbers\n",
      "                 that are much smaller than one (see Notes).\n",
      "    \n",
      "    Parameters\n",
      "    ----------\n",
      "    a, b : array_like\n",
      "        Input arrays to compare.\n",
      "    rtol : float\n",
      "        The relative tolerance parameter (see Notes).\n",
      "    atol : float\n",
      "        The absolute tolerance parameter (see Notes).\n",
      "    equal_nan : bool\n",
      "        Whether to compare NaN's as equal.  If True, NaN's in `a` will be\n",
      "        considered equal to NaN's in `b` in the output array.\n",
      "    \n",
      "    Returns\n",
      "    -------\n",
      "    y : array_like\n",
      "        Returns a boolean array of where `a` and `b` are equal within the\n",
      "        given tolerance. If both `a` and `b` are scalars, returns a single\n",
      "        boolean value.\n",
      "    \n",
      "    See Also\n",
      "    --------\n",
      "    allclose\n",
      "    math.isclose\n",
      "    \n",
      "    Notes\n",
      "    -----\n",
      "    .. versionadded:: 1.7.0\n",
      "    \n",
      "    For finite values, isclose uses the following equation to test whether\n",
      "    two floating point values are equivalent.\n",
      "    \n",
      "     absolute(`a` - `b`) <= (`atol` + `rtol` * absolute(`b`))\n",
      "    \n",
      "    Unlike the built-in `math.isclose`, the above equation is not symmetric\n",
      "    in `a` and `b` -- it assumes `b` is the reference value -- so that\n",
      "    `isclose(a, b)` might be different from `isclose(b, a)`. Furthermore,\n",
      "    the default value of atol is not zero, and is used to determine what\n",
      "    small values should be considered close to zero. The default value is\n",
      "    appropriate for expected values of order unity: if the expected values\n",
      "    are significantly smaller than one, it can result in false positives.\n",
      "    `atol` should be carefully selected for the use case at hand. A zero value\n",
      "    for `atol` will result in `False` if either `a` or `b` is zero.\n",
      "    \n",
      "    `isclose` is not defined for non-numeric data types.\n",
      "    \n",
      "    Examples\n",
      "    --------\n",
      "    >>> np.isclose([1e10,1e-7], [1.00001e10,1e-8])\n",
      "    array([ True, False])\n",
      "    >>> np.isclose([1e10,1e-8], [1.00001e10,1e-9])\n",
      "    array([ True, True])\n",
      "    >>> np.isclose([1e10,1e-8], [1.0001e10,1e-9])\n",
      "    array([False,  True])\n",
      "    >>> np.isclose([1.0, np.nan], [1.0, np.nan])\n",
      "    array([ True, False])\n",
      "    >>> np.isclose([1.0, np.nan], [1.0, np.nan], equal_nan=True)\n",
      "    array([ True, True])\n",
      "    >>> np.isclose([1e-8, 1e-7], [0.0, 0.0])\n",
      "    array([ True, False])\n",
      "    >>> np.isclose([1e-100, 1e-7], [0.0, 0.0], atol=0.0)\n",
      "    array([False, False])\n",
      "    >>> np.isclose([1e-10, 1e-10], [1e-20, 0.0])\n",
      "    array([ True,  True])\n",
      "    >>> np.isclose([1e-10, 1e-10], [1e-20, 0.999999e-10], atol=0.0)\n",
      "    array([False,  True])\n",
      "\n"
     ]
    }
   ],
   "source": [
    "help(np.isclose)"
   ]
  },
  {
   "cell_type": "code",
   "execution_count": null,
   "id": "21a7e6a2",
   "metadata": {},
   "outputs": [],
   "source": []
  },
  {
   "cell_type": "markdown",
   "id": "4325679a",
   "metadata": {},
   "source": [
    "# Boolean Class\n",
    "\n",
    "\n",
    "## notes:\n",
    "* Bool is a subclass of int. so anything boolean is also an integer. True is a Boolean but also an integer because True is basically 1 and False is 0 which are integers.\n",
    "* the important thing to note is 1 and True are not the same objects the same is True with 0 and False. they live in different memory addresses. \n",
    "* but anything integer is not  a boolean. 5 and 8 are not booleans.\n",
    "* True and False are singleton objects which means they retain the same memory addresses throughout the lifetime of the application. that means the addresses of the True and False won't change. this also means that using == or is doesn't matter with True and False values, they will work the same.\n",
    "* Every integer other than 0 has the truth value of True\n"
   ]
  },
  {
   "cell_type": "code",
   "execution_count": 53,
   "id": "1a2e556a",
   "metadata": {},
   "outputs": [
    {
     "data": {
      "text/plain": [
       "True"
      ]
     },
     "execution_count": 53,
     "metadata": {},
     "output_type": "execute_result"
    }
   ],
   "source": [
    "# to check whether bool is a subclass of int\n",
    "issubclass(bool,int)"
   ]
  },
  {
   "cell_type": "code",
   "execution_count": 55,
   "id": "9922797b",
   "metadata": {},
   "outputs": [
    {
     "data": {
      "text/plain": [
       "False"
      ]
     },
     "execution_count": 55,
     "metadata": {},
     "output_type": "execute_result"
    }
   ],
   "source": [
    "# to check whether int is a subclass of bool\n",
    "issubclass(int,bool)"
   ]
  },
  {
   "cell_type": "code",
   "execution_count": 36,
   "id": "11cd2ec2",
   "metadata": {},
   "outputs": [
    {
     "data": {
      "text/plain": [
       "True"
      ]
     },
     "execution_count": 36,
     "metadata": {},
     "output_type": "execute_result"
    }
   ],
   "source": [
    "isinstance(True,bool)"
   ]
  },
  {
   "cell_type": "code",
   "execution_count": 37,
   "id": "6677acb6",
   "metadata": {},
   "outputs": [
    {
     "data": {
      "text/plain": [
       "True"
      ]
     },
     "execution_count": 37,
     "metadata": {},
     "output_type": "execute_result"
    }
   ],
   "source": [
    "isinstance(True,int)"
   ]
  },
  {
   "cell_type": "code",
   "execution_count": 39,
   "id": "f71598a5",
   "metadata": {},
   "outputs": [
    {
     "data": {
      "text/plain": [
       "False"
      ]
     },
     "execution_count": 39,
     "metadata": {},
     "output_type": "execute_result"
    }
   ],
   "source": [
    "isinstance(5,bool)"
   ]
  },
  {
   "cell_type": "code",
   "execution_count": 40,
   "id": "2fe97607",
   "metadata": {},
   "outputs": [
    {
     "data": {
      "text/plain": [
       "False"
      ]
     },
     "execution_count": 40,
     "metadata": {},
     "output_type": "execute_result"
    }
   ],
   "source": [
    "isinstance(8,bool)"
   ]
  },
  {
   "cell_type": "code",
   "execution_count": 42,
   "id": "55893c21",
   "metadata": {},
   "outputs": [
    {
     "data": {
      "text/plain": [
       "True"
      ]
     },
     "execution_count": 42,
     "metadata": {},
     "output_type": "execute_result"
    }
   ],
   "source": [
    "1 == True"
   ]
  },
  {
   "cell_type": "code",
   "execution_count": 43,
   "id": "de77bbf0",
   "metadata": {},
   "outputs": [
    {
     "data": {
      "text/plain": [
       "True"
      ]
     },
     "execution_count": 43,
     "metadata": {},
     "output_type": "execute_result"
    }
   ],
   "source": [
    "0 == False"
   ]
  },
  {
   "cell_type": "code",
   "execution_count": 44,
   "id": "e99f979d",
   "metadata": {},
   "outputs": [
    {
     "data": {
      "image/png": "[encoded data removed]",
      "text/latex": [
       "$\\displaystyle 1646286891312$"
      ],
      "text/plain": [
       "1646286891312"
      ]
     },
     "execution_count": 44,
     "metadata": {},
     "output_type": "execute_result"
    }
   ],
   "source": [
    "id(1)"
   ]
  },
  {
   "cell_type": "code",
   "execution_count": 45,
   "id": "82e755ab",
   "metadata": {},
   "outputs": [
    {
     "data": {
      "image/png": "[encoded data removed]",
      "text/latex": [
       "$\\displaystyle 140709172074600$"
      ],
      "text/plain": [
       "140709172074600"
      ]
     },
     "execution_count": 45,
     "metadata": {},
     "output_type": "execute_result"
    }
   ],
   "source": [
    "id(True) # see they are stored in different memory addresses?"
   ]
  },
  {
   "cell_type": "code",
   "execution_count": 57,
   "id": "7791f2d8",
   "metadata": {},
   "outputs": [
    {
     "data": {
      "image/png": "[encoded data removed]",
      "text/latex": [
       "$\\displaystyle 140709172074600$"
      ],
      "text/plain": [
       "140709172074600"
      ]
     },
     "execution_count": 57,
     "metadata": {},
     "output_type": "execute_result"
    }
   ],
   "source": [
    "id(5<7) "
   ]
  },
  {
   "cell_type": "code",
   "execution_count": 59,
   "id": "b227a4d6",
   "metadata": {},
   "outputs": [
    {
     "data": {
      "image/png": "[encoded data removed]",
      "text/latex": [
       "$\\displaystyle 140709172074600$"
      ],
      "text/plain": [
       "140709172074600"
      ]
     },
     "execution_count": 59,
     "metadata": {},
     "output_type": "execute_result"
    }
   ],
   "source": [
    "id(0==0)"
   ]
  },
  {
   "cell_type": "code",
   "execution_count": 46,
   "id": "95a2cb88",
   "metadata": {},
   "outputs": [
    {
     "data": {
      "text/plain": [
       "True"
      ]
     },
     "execution_count": 46,
     "metadata": {},
     "output_type": "execute_result"
    }
   ],
   "source": [
    "# True is same as 1 (the values are same)\n",
    "\n",
    "1 == True"
   ]
  },
  {
   "cell_type": "code",
   "execution_count": 47,
   "id": "c776313c",
   "metadata": {},
   "outputs": [
    {
     "name": "stderr",
     "output_type": "stream",
     "text": [
      "<>:2: SyntaxWarning: \"is\" with a literal. Did you mean \"==\"?\n",
      "<>:2: SyntaxWarning: \"is\" with a literal. Did you mean \"==\"?\n",
      "C:\\Users\\ADMIN\\AppData\\Local\\Temp\\ipykernel_4736\\3247788804.py:2: SyntaxWarning: \"is\" with a literal. Did you mean \"==\"?\n",
      "  1 is True\n"
     ]
    },
    {
     "data": {
      "text/plain": [
       "False"
      ]
     },
     "execution_count": 47,
     "metadata": {},
     "output_type": "execute_result"
    }
   ],
   "source": [
    "# but their memory addresses are different\n",
    "1 is True"
   ]
  },
  {
   "cell_type": "code",
   "execution_count": 48,
   "id": "72ed1669",
   "metadata": {},
   "outputs": [
    {
     "data": {
      "text/plain": [
       "True"
      ]
     },
     "execution_count": 48,
     "metadata": {},
     "output_type": "execute_result"
    }
   ],
   "source": [
    "# Truth value of numbers\n",
    "bool(5)"
   ]
  },
  {
   "cell_type": "code",
   "execution_count": 49,
   "id": "7436cae2",
   "metadata": {},
   "outputs": [
    {
     "data": {
      "text/plain": [
       "True"
      ]
     },
     "execution_count": 49,
     "metadata": {},
     "output_type": "execute_result"
    }
   ],
   "source": [
    "bool(6)"
   ]
  },
  {
   "cell_type": "code",
   "execution_count": 50,
   "id": "966d6cad",
   "metadata": {},
   "outputs": [
    {
     "data": {
      "text/plain": [
       "True"
      ]
     },
     "execution_count": 50,
     "metadata": {},
     "output_type": "execute_result"
    }
   ],
   "source": [
    "bool(1235345345)"
   ]
  },
  {
   "cell_type": "code",
   "execution_count": 51,
   "id": "6c2005fd",
   "metadata": {},
   "outputs": [
    {
     "data": {
      "text/plain": [
       "True"
      ]
     },
     "execution_count": 51,
     "metadata": {},
     "output_type": "execute_result"
    }
   ],
   "source": [
    "bool(24324532.235)"
   ]
  },
  {
   "cell_type": "code",
   "execution_count": 52,
   "id": "dd0fb248",
   "metadata": {},
   "outputs": [
    {
     "data": {
      "text/plain": [
       "False"
      ]
     },
     "execution_count": 52,
     "metadata": {},
     "output_type": "execute_result"
    }
   ],
   "source": [
    "bool(0)"
   ]
  },
  {
   "cell_type": "code",
   "execution_count": 56,
   "id": "56cb3138",
   "metadata": {},
   "outputs": [
    {
     "data": {
      "text/html": [
       "\n",
       "        <iframe\n",
       "            width=\"1000\"\n",
       "            height=\"500\"\n",
       "            src=\"25+-+Booleans.pdf\"\n",
       "            frameborder=\"0\"\n",
       "            allowfullscreen\n",
       "            \n",
       "        ></iframe>\n",
       "        "
      ],
      "text/plain": [
       "<IPython.lib.display.IFrame at 0x17f57cc5e50>"
      ]
     },
     "execution_count": 56,
     "metadata": {},
     "output_type": "execute_result"
    }
   ],
   "source": [
    "from IPython.display import IFrame\n",
    "\n",
    "IFrame(src='25+-+Booleans.pdf',height=500,width=1000)"
   ]
  },
  {
   "cell_type": "code",
   "execution_count": null,
   "id": "c84ff7d5",
   "metadata": {},
   "outputs": [],
   "source": []
  },
  {
   "cell_type": "markdown",
   "id": "98dc8ec7",
   "metadata": {},
   "source": [
    "# day 264"
   ]
  },
  {
   "cell_type": "markdown",
   "id": "dd4db4b0",
   "metadata": {},
   "source": [
    "# boolean Equivalency:\n",
    "\n",
    "```python\n",
    "my_list = []\n",
    "\n",
    "# Using truthiness check\n",
    "if my_list:\n",
    "    print('George')\n",
    "\n",
    "# Equivalent to Using explicit check for non-emptiness\n",
    "if my_list is not None and len(my_list) > 0:\n",
    "    print('George')\n"
   ]
  },
  {
   "cell_type": "code",
   "execution_count": 1,
   "id": "928fdb7c",
   "metadata": {},
   "outputs": [
    {
     "data": {
      "text/html": [
       "\n",
       "        <iframe\n",
       "            width=\"1000\"\n",
       "            height=\"500\"\n",
       "            src=\"26+-+Booleans+-+Truth+Values+-+Lecture.pdf\"\n",
       "            frameborder=\"0\"\n",
       "            allowfullscreen\n",
       "            \n",
       "        ></iframe>\n",
       "        "
      ],
      "text/plain": [
       "<IPython.lib.display.IFrame at 0x22144513940>"
      ]
     },
     "execution_count": 1,
     "metadata": {},
     "output_type": "execute_result"
    }
   ],
   "source": [
    "# pdf from instructor for better comprehension\n",
    "from IPython.display import IFrame\n",
    "\n",
    "IFrame(src='26+-+Booleans+-+Truth+Values+-+Lecture.pdf',height=500,width=1000)"
   ]
  },
  {
   "cell_type": "code",
   "execution_count": 2,
   "id": "e14584f1",
   "metadata": {},
   "outputs": [
    {
     "data": {
      "text/plain": [
       "False"
      ]
     },
     "execution_count": 2,
     "metadata": {},
     "output_type": "execute_result"
    }
   ],
   "source": [
    "bool(0.0)"
   ]
  },
  {
   "cell_type": "code",
   "execution_count": 3,
   "id": "cd7215ac",
   "metadata": {},
   "outputs": [
    {
     "data": {
      "text/plain": [
       "False"
      ]
     },
     "execution_count": 3,
     "metadata": {},
     "output_type": "execute_result"
    }
   ],
   "source": [
    "bool(0+0j)"
   ]
  },
  {
   "cell_type": "code",
   "execution_count": 4,
   "id": "42cf9a73",
   "metadata": {},
   "outputs": [
    {
     "data": {
      "text/plain": [
       "False"
      ]
     },
     "execution_count": 4,
     "metadata": {},
     "output_type": "execute_result"
    }
   ],
   "source": [
    "bool(None)"
   ]
  },
  {
   "cell_type": "code",
   "execution_count": 5,
   "id": "9657f689",
   "metadata": {},
   "outputs": [
    {
     "data": {
      "text/plain": [
       "False"
      ]
     },
     "execution_count": 5,
     "metadata": {},
     "output_type": "execute_result"
    }
   ],
   "source": [
    "a = []\n",
    "bool(a)"
   ]
  },
  {
   "cell_type": "code",
   "execution_count": 6,
   "id": "a5ad16c8",
   "metadata": {},
   "outputs": [
    {
     "data": {
      "text/html": [
       "\n",
       "        <iframe\n",
       "            width=\"1000\"\n",
       "            height=\"500\"\n",
       "            src=\"28+-+Boolean+-+Precedence+and+Short-Circuiting.pdf\"\n",
       "            frameborder=\"0\"\n",
       "            allowfullscreen\n",
       "            \n",
       "        ></iframe>\n",
       "        "
      ],
      "text/plain": [
       "<IPython.lib.display.IFrame at 0x221445135e0>"
      ]
     },
     "execution_count": 6,
     "metadata": {},
     "output_type": "execute_result"
    }
   ],
   "source": [
    "from IPython.display import IFrame\n",
    "IFrame(src='28+-+Boolean+-+Precedence+and+Short-Circuiting.pdf',height=500,width=1000)\n"
   ]
  },
  {
   "cell_type": "markdown",
   "id": "c9d55c47",
   "metadata": {},
   "source": [
    "# order of precedence:\n",
    "\n",
    "1. parenthesis()\n",
    "2. <\n",
    "3. >\n",
    "4. <=\n",
    "5. >= \n",
    "6. ==\n",
    "7. !=\n",
    "8. in\n",
    "9. is \n",
    "10. not \n",
    "11. and \n",
    "12. or"
   ]
  },
  {
   "cell_type": "code",
   "execution_count": 7,
   "id": "b5de6a38",
   "metadata": {},
   "outputs": [
    {
     "data": {
      "text/plain": [
       "True"
      ]
     },
     "execution_count": 7,
     "metadata": {},
     "output_type": "execute_result"
    }
   ],
   "source": [
    "# first true and false is executed to give false. then true and false is executed to give the final True.\n",
    "True or True and False"
   ]
  },
  {
   "cell_type": "code",
   "execution_count": null,
   "id": "05400649",
   "metadata": {},
   "outputs": [],
   "source": []
  },
  {
   "cell_type": "markdown",
   "id": "541feba9",
   "metadata": {},
   "source": [
    "# day 269"
   ]
  },
  {
   "cell_type": "markdown",
   "id": "06efa0cf",
   "metadata": {},
   "source": [
    "## Booleans and short-circuiting:"
   ]
  },
  {
   "cell_type": "code",
   "execution_count": 2,
   "id": "69d93778",
   "metadata": {},
   "outputs": [
    {
     "name": "stdout",
     "output_type": "stream",
     "text": [
      "A is atleast twice bigger than B\n"
     ]
    }
   ],
   "source": [
    "a = 10\n",
    "b = 5\n",
    "\n",
    "if b > 0 and (a/b >= 2):\n",
    "    print(\"A is atleast twice bigger than B\")"
   ]
  },
  {
   "cell_type": "code",
   "execution_count": 4,
   "id": "68eaa7a6",
   "metadata": {},
   "outputs": [
    {
     "ename": "TypeError",
     "evalue": "'>' not supported between instances of 'NoneType' and 'int'",
     "output_type": "error",
     "traceback": [
      "\u001b[1;31m---------------------------------------------------------------------------\u001b[0m",
      "\u001b[1;31mTypeError\u001b[0m                                 Traceback (most recent call last)",
      "Input \u001b[1;32mIn [4]\u001b[0m, in \u001b[0;36m<cell line: 4>\u001b[1;34m()\u001b[0m\n\u001b[0;32m      1\u001b[0m a \u001b[38;5;241m=\u001b[39m \u001b[38;5;241m10\u001b[39m\n\u001b[0;32m      2\u001b[0m b \u001b[38;5;241m=\u001b[39m \u001b[38;5;28;01mNone\u001b[39;00m\n\u001b[1;32m----> 4\u001b[0m \u001b[38;5;28;01mif\u001b[39;00m \u001b[43mb\u001b[49m\u001b[43m \u001b[49m\u001b[38;5;241;43m>\u001b[39;49m\u001b[43m \u001b[49m\u001b[38;5;241;43m0\u001b[39;49m  \u001b[38;5;129;01mand\u001b[39;00m (a\u001b[38;5;241m/\u001b[39mb \u001b[38;5;241m>\u001b[39m\u001b[38;5;241m=\u001b[39m \u001b[38;5;241m2\u001b[39m):\n\u001b[0;32m      5\u001b[0m     \u001b[38;5;28mprint\u001b[39m(\u001b[38;5;124m\"\u001b[39m\u001b[38;5;124mA is atleast twice bigger than B\u001b[39m\u001b[38;5;124m\"\u001b[39m)\n",
      "\u001b[1;31mTypeError\u001b[0m: '>' not supported between instances of 'NoneType' and 'int'"
     ]
    }
   ],
   "source": [
    "a = 10\n",
    "b = None\n",
    "\n",
    "if b > 0  and (a/b >= 2):\n",
    "    print(\"A is atleast twice bigger than B\")"
   ]
  },
  {
   "cell_type": "code",
   "execution_count": 5,
   "id": "88618be6",
   "metadata": {},
   "outputs": [],
   "source": [
    "a = 10\n",
    "b = None\n",
    "\n",
    "# now b is using implicit bool\n",
    "if b  and (a/b >= 2):\n",
    "    print(\"A is atleast twice bigger than B\")"
   ]
  },
  {
   "cell_type": "code",
   "execution_count": 8,
   "id": "4465f2e7",
   "metadata": {},
   "outputs": [
    {
     "name": "stdout",
     "output_type": "stream",
     "text": [
      "you cannot have numbers in your name! please modify it! \n"
     ]
    }
   ],
   "source": [
    "# goal: checking if the string has numerical value in it.\n",
    "\"\"\"\n",
    "1. first check if the string is non-empty and see if the any of the value in the string is a numerical value\n",
    "2. if it has numerical value anywhere print \"you cannot have numerical values in your name! \"\n",
    "\n",
    "\"\"\"\n",
    "\n",
    "import string\n",
    "\n",
    "name = 'george123'\n",
    "\n",
    "if len(name) > 0: # if name has more than 0 letters in it proceed further!\n",
    "    for letter in name:\n",
    "        if letter in string.digits:\n",
    "            print(\"you cannot have numbers in your name! please modify it! \")\n",
    "            break # break the loop after it ran for once."
   ]
  },
  {
   "cell_type": "code",
   "execution_count": 9,
   "id": "3a1d8c43",
   "metadata": {},
   "outputs": [
    {
     "data": {
      "text/plain": [
       "'0123456789'"
      ]
     },
     "execution_count": 9,
     "metadata": {},
     "output_type": "execute_result"
    }
   ],
   "source": [
    "|# see what the string.digits had in store\n",
    "string.digits"
   ]
  },
  {
   "cell_type": "code",
   "execution_count": 11,
   "id": "c3e64cf3",
   "metadata": {},
   "outputs": [
    {
     "ename": "TypeError",
     "evalue": "object of type 'NoneType' has no len()",
     "output_type": "error",
     "traceback": [
      "\u001b[1;31m---------------------------------------------------------------------------\u001b[0m",
      "\u001b[1;31mTypeError\u001b[0m                                 Traceback (most recent call last)",
      "Input \u001b[1;32mIn [11]\u001b[0m, in \u001b[0;36m<cell line: 12>\u001b[1;34m()\u001b[0m\n\u001b[0;32m      8\u001b[0m \u001b[38;5;28;01mimport\u001b[39;00m \u001b[38;5;21;01mstring\u001b[39;00m\n\u001b[0;32m     10\u001b[0m name \u001b[38;5;241m=\u001b[39m \u001b[38;5;28;01mNone\u001b[39;00m\n\u001b[1;32m---> 12\u001b[0m \u001b[38;5;28;01mif\u001b[39;00m \u001b[38;5;28;43mlen\u001b[39;49m\u001b[43m(\u001b[49m\u001b[43mname\u001b[49m\u001b[43m)\u001b[49m \u001b[38;5;241m>\u001b[39m \u001b[38;5;241m0\u001b[39m: \u001b[38;5;66;03m# if name has more than 0 letters in it proceed further!\u001b[39;00m\n\u001b[0;32m     13\u001b[0m     \u001b[38;5;28;01mfor\u001b[39;00m letter \u001b[38;5;129;01min\u001b[39;00m name:\n\u001b[0;32m     14\u001b[0m         \u001b[38;5;28;01mif\u001b[39;00m letter \u001b[38;5;129;01min\u001b[39;00m string\u001b[38;5;241m.\u001b[39mdigits:\n",
      "\u001b[1;31mTypeError\u001b[0m: object of type 'NoneType' has no len()"
     ]
    }
   ],
   "source": [
    "# goal: checking if the string has numerical value in it.\n",
    "\"\"\"\n",
    "1. first check if the string is non-empty and see if the any of the value in the string is a numerical value\n",
    "2. if it has numerical value anywhere print \"you cannot have numerical values in your name! \"\n",
    "\n",
    "\"\"\"\n",
    "\n",
    "import string\n",
    "\n",
    "name = None\n",
    "\n",
    "if len(name) > 0: # if name has more than 0 letters in it proceed further!\n",
    "    for letter in name:\n",
    "        if letter in string.digits:\n",
    "            print(\"you cannot have numbers in your name! please modify it! \")\n",
    "            break # break the loop after it ran for once."
   ]
  },
  {
   "cell_type": "code",
   "execution_count": 10,
   "id": "97cd1d75",
   "metadata": {},
   "outputs": [],
   "source": [
    "# goal: checking if the string has numerical value in it.\n",
    "\"\"\"\n",
    "1. first check if the string is non-empty and see if the any of the value in the string is a numerical value\n",
    "2. if it has numerical value anywhere print \"you cannot have numerical values in your name! \"\n",
    "\n",
    "\"\"\"\n",
    "\n",
    "import string\n",
    "\n",
    "name = None\n",
    "\n",
    "# implicit bool is better than the previous method(explicit checking)\n",
    "if name: # if name has more than 0 letters in it proceed further!\n",
    "    for letter in name:\n",
    "        if letter in string.digits:\n",
    "            print(\"you cannot have numbers in your name! please modify it! \")\n",
    "            break # break the loop after it ran for once."
   ]
  },
  {
   "cell_type": "code",
   "execution_count": 12,
   "id": "ccb88920",
   "metadata": {},
   "outputs": [
    {
     "name": "stdout",
     "output_type": "stream",
     "text": [
      "you cannot have numbers in your name! please modify it! \n"
     ]
    }
   ],
   "source": [
    "# goal: checking if the string has numerical value in it.\n",
    "\"\"\"\n",
    "1. first check if the string is non-empty and see if the any of the value in the string is a numerical value\n",
    "2. if it has numerical value anywhere print \"you cannot have numerical values in your name! \"\n",
    "\n",
    "\"\"\"\n",
    "\n",
    "import string\n",
    "\n",
    "name = \"george123\"\n",
    "\n",
    "# implicit bool is better than the previous method(explicit checking)\n",
    "if name: # if name has more than 0 letters in it proceed further!\n",
    "    for letter in name:\n",
    "        if letter in string.digits:\n",
    "            print(\"you cannot have numbers in your name! please modify it! \")\n",
    "            break # break the loop after it ran for once."
   ]
  },
  {
   "cell_type": "code",
   "execution_count": null,
   "id": "432260a5",
   "metadata": {},
   "outputs": [],
   "source": []
  },
  {
   "cell_type": "markdown",
   "id": "c5ce3552",
   "metadata": {},
   "source": [
    "# boolean in the wild: in calculations\n",
    "\n",
    "## or:\n",
    " if x is true: \n",
    "     return x \n",
    "\n",
    " else: \n",
    "    return y\n",
    "\n",
    "## and:\n",
    " if x is false:\n",
    "    return x\n",
    "\n",
    " else: \n",
    "    return y"
   ]
  },
  {
   "cell_type": "code",
   "execution_count": 13,
   "id": "52d1d786",
   "metadata": {},
   "outputs": [
    {
     "data": {
      "text/plain": [
       "10.0"
      ]
     },
     "execution_count": 13,
     "metadata": {},
     "output_type": "execute_result"
    }
   ],
   "source": [
    "a = 50\n",
    "total = 500\n",
    "x = a and total/a\n",
    "x"
   ]
  },
  {
   "cell_type": "code",
   "execution_count": 14,
   "id": "df6e09a6",
   "metadata": {},
   "outputs": [
    {
     "data": {
      "text/plain": [
       "0"
      ]
     },
     "execution_count": 14,
     "metadata": {},
     "output_type": "execute_result"
    }
   ],
   "source": [
    "a = 0\n",
    "total = 500\n",
    "x = a and total/a\n",
    "x"
   ]
  },
  {
   "cell_type": "code",
   "execution_count": 15,
   "id": "aab7ab66",
   "metadata": {},
   "outputs": [],
   "source": [
    "a = None\n",
    "total = 500\n",
    "x = a and total/a\n",
    "x"
   ]
  },
  {
   "cell_type": "code",
   "execution_count": null,
   "id": "3f574430",
   "metadata": {},
   "outputs": [],
   "source": []
  },
  {
   "cell_type": "markdown",
   "id": "a8ad1883",
   "metadata": {},
   "source": [
    "# day 273"
   ]
  },
  {
   "cell_type": "code",
   "execution_count": 1,
   "id": "25bcbe54",
   "metadata": {},
   "outputs": [
    {
     "data": {
      "text/plain": [
       "'a'"
      ]
     },
     "execution_count": 1,
     "metadata": {},
     "output_type": "execute_result"
    }
   ],
   "source": [
    "'a' or [1,2,3]"
   ]
  },
  {
   "cell_type": "code",
   "execution_count": 2,
   "id": "d967280c",
   "metadata": {},
   "outputs": [
    {
     "data": {
      "text/plain": [
       "[1, 2, 3]"
      ]
     },
     "execution_count": 2,
     "metadata": {},
     "output_type": "execute_result"
    }
   ],
   "source": [
    "'' or [1,2,3]"
   ]
  },
  {
   "cell_type": "code",
   "execution_count": 3,
   "id": "247297ec",
   "metadata": {},
   "outputs": [
    {
     "data": {
      "text/plain": [
       "' '"
      ]
     },
     "execution_count": 3,
     "metadata": {},
     "output_type": "execute_result"
    }
   ],
   "source": [
    "' ' or [1,2,3]"
   ]
  },
  {
   "cell_type": "code",
   "execution_count": 4,
   "id": "4dd29c85",
   "metadata": {},
   "outputs": [
    {
     "data": {
      "text/plain": [
       "1"
      ]
     },
     "execution_count": 4,
     "metadata": {},
     "output_type": "execute_result"
    }
   ],
   "source": [
    "1 or 1/0"
   ]
  },
  {
   "cell_type": "code",
   "execution_count": 5,
   "id": "8dca4098",
   "metadata": {},
   "outputs": [
    {
     "ename": "ZeroDivisionError",
     "evalue": "division by zero",
     "output_type": "error",
     "traceback": [
      "\u001b[1;31m---------------------------------------------------------------------------\u001b[0m",
      "\u001b[1;31mZeroDivisionError\u001b[0m                         Traceback (most recent call last)",
      "Input \u001b[1;32mIn [5]\u001b[0m, in \u001b[0;36m<cell line: 1>\u001b[1;34m()\u001b[0m\n\u001b[1;32m----> 1\u001b[0m \u001b[38;5;241m0\u001b[39m \u001b[38;5;129;01mor\u001b[39;00m \u001b[38;5;241;43m1\u001b[39;49m\u001b[38;5;241;43m/\u001b[39;49m\u001b[38;5;241;43m0\u001b[39;49m\n",
      "\u001b[1;31mZeroDivisionError\u001b[0m: division by zero"
     ]
    }
   ],
   "source": [
    "0 or 1/0"
   ]
  },
  {
   "cell_type": "code",
   "execution_count": 7,
   "id": "20792af2",
   "metadata": {},
   "outputs": [
    {
     "name": "stdout",
     "output_type": "stream",
     "text": [
      "na\n",
      "na\n",
      "iam a donkey!!\n"
     ]
    }
   ],
   "source": [
    "s1 = None\n",
    "s2 = ''\n",
    "s3 = 'iam a donkey!!'\n",
    "\n",
    "print(s1 or 'na')\n",
    "print(s2 or 'na')\n",
    "print(s3 or 'na')"
   ]
  },
  {
   "cell_type": "markdown",
   "id": "7b78a41b",
   "metadata": {},
   "source": [
    "# x and y: if x is false return x else return y use: and "
   ]
  },
  {
   "cell_type": "code",
   "execution_count": 8,
   "id": "2ef4b9d9",
   "metadata": {},
   "outputs": [
    {
     "name": "stdout",
     "output_type": "stream",
     "text": [
      "0\n"
     ]
    }
   ],
   "source": [
    "a = 5\n",
    "b = 0\n",
    "\n",
    "if b == 0:\n",
    "    print(b)\n",
    "else:\n",
    "    print(a/b)"
   ]
  },
  {
   "cell_type": "code",
   "execution_count": 9,
   "id": "6cdfe79a",
   "metadata": {},
   "outputs": [
    {
     "data": {
      "text/plain": [
       "0"
      ]
     },
     "execution_count": 9,
     "metadata": {},
     "output_type": "execute_result"
    }
   ],
   "source": [
    "# best alternative \n",
    "a = 5\n",
    "b = 0\n",
    "\n",
    "b and a/b"
   ]
  },
  {
   "cell_type": "code",
   "execution_count": 10,
   "id": "5faad841",
   "metadata": {},
   "outputs": [
    {
     "data": {
      "text/html": [
       "\n",
       "        <iframe\n",
       "            width=\"1000\"\n",
       "            height=\"500\"\n",
       "            src=\"32+-+Comparison+Operators.pdf\"\n",
       "            frameborder=\"0\"\n",
       "            allowfullscreen\n",
       "            \n",
       "        ></iframe>\n",
       "        "
      ],
      "text/plain": [
       "<IPython.lib.display.IFrame at 0x17437e850a0>"
      ]
     },
     "execution_count": 10,
     "metadata": {},
     "output_type": "execute_result"
    }
   ],
   "source": [
    "from IPython.display import IFrame\n",
    "\n",
    "IFrame(src='32+-+Comparison+Operators.pdf',height=500,width=1000)"
   ]
  },
  {
   "cell_type": "code",
   "execution_count": null,
   "id": "6edb0d52",
   "metadata": {},
   "outputs": [],
   "source": []
  }
 ],
 "metadata": {
  "kernelspec": {
   "display_name": "Python 3 (ipykernel)",
   "language": "python",
   "name": "python3"
  },
  "language_info": {
   "codemirror_mode": {
    "name": "ipython",
    "version": 3
   },
   "file_extension": ".py",
   "mimetype": "text/x-python",
   "name": "python",
   "nbconvert_exporter": "python",
   "pygments_lexer": "ipython3",
   "version": "3.9.12"
  }
 },
 "nbformat": 4,
 "nbformat_minor": 5
}
