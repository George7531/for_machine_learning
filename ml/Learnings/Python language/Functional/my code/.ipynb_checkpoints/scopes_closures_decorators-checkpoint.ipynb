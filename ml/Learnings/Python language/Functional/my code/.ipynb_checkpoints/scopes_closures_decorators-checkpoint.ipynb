{
 "cells": [
  {
   "cell_type": "markdown",
   "id": "ef15fb0a",
   "metadata": {},
   "source": [
    "# day 329"
   ]
  },
  {
   "cell_type": "markdown",
   "id": "6766e521",
   "metadata": {},
   "source": [
    "# Global and local scopes"
   ]
  },
  {
   "cell_type": "code",
   "execution_count": 1,
   "id": "158ce101",
   "metadata": {},
   "outputs": [
    {
     "data": {
      "text/html": [
       "\n",
       "        <iframe\n",
       "            width=\"1000\"\n",
       "            height=\"500\"\n",
       "            src=\"02+-+Global+and+Local+Scopes.pdf\"\n",
       "            frameborder=\"0\"\n",
       "            allowfullscreen\n",
       "            \n",
       "        ></iframe>\n",
       "        "
      ],
      "text/plain": [
       "<IPython.lib.display.IFrame at 0x1e7a2cca610>"
      ]
     },
     "execution_count": 1,
     "metadata": {},
     "output_type": "execute_result"
    }
   ],
   "source": [
    "from IPython.display import IFrame\n",
    "IFrame(src='02+-+Global+and+Local+Scopes.pdf',height=500,width=1000)"
   ]
  },
  {
   "cell_type": "code",
   "execution_count": 4,
   "id": "f070bd1e",
   "metadata": {},
   "outputs": [
    {
     "data": {
      "text/plain": [
       "100"
      ]
     },
     "execution_count": 4,
     "metadata": {},
     "output_type": "execute_result"
    }
   ],
   "source": [
    "a = 10\n",
    "def fun():\n",
    "    global a\n",
    "    a = 100\n",
    "    return a\n",
    "    \n",
    "fun()"
   ]
  },
  {
   "cell_type": "code",
   "execution_count": 5,
   "id": "093de453",
   "metadata": {},
   "outputs": [
    {
     "data": {
      "text/plain": [
       "100"
      ]
     },
     "execution_count": 5,
     "metadata": {},
     "output_type": "execute_result"
    }
   ],
   "source": [
    "a"
   ]
  },
  {
   "cell_type": "code",
   "execution_count": 6,
   "id": "1127e0aa",
   "metadata": {},
   "outputs": [],
   "source": [
    "def fun():\n",
    "    global var\n",
    "    var = 'hello'\n",
    "    return\n",
    "    "
   ]
  },
  {
   "cell_type": "code",
   "execution_count": 7,
   "id": "ac2e2068",
   "metadata": {},
   "outputs": [
    {
     "ename": "NameError",
     "evalue": "name 'var' is not defined",
     "output_type": "error",
     "traceback": [
      "\u001b[1;31m---------------------------------------------------------------------------\u001b[0m",
      "\u001b[1;31mNameError\u001b[0m                                 Traceback (most recent call last)",
      "Input \u001b[1;32mIn [7]\u001b[0m, in \u001b[0;36m<cell line: 1>\u001b[1;34m()\u001b[0m\n\u001b[1;32m----> 1\u001b[0m \u001b[43mvar\u001b[49m\n",
      "\u001b[1;31mNameError\u001b[0m: name 'var' is not defined"
     ]
    }
   ],
   "source": [
    "var"
   ]
  },
  {
   "cell_type": "code",
   "execution_count": 8,
   "id": "8c2f191e",
   "metadata": {},
   "outputs": [],
   "source": [
    "fun()"
   ]
  },
  {
   "cell_type": "code",
   "execution_count": 9,
   "id": "c44ce69e",
   "metadata": {},
   "outputs": [
    {
     "data": {
      "text/plain": [
       "'hello'"
      ]
     },
     "execution_count": 9,
     "metadata": {},
     "output_type": "execute_result"
    }
   ],
   "source": [
    "var"
   ]
  },
  {
   "cell_type": "markdown",
   "id": "38e12289",
   "metadata": {},
   "source": [
    "# day 334,day 345"
   ]
  },
  {
   "cell_type": "code",
   "execution_count": 1,
   "id": "6995eb16",
   "metadata": {},
   "outputs": [
    {
     "data": {
      "text/html": [
       "\n",
       "        <iframe\n",
       "            width=\"1000\"\n",
       "            height=\"500\"\n",
       "            src=\"04+-+NonLocal+Sopes.pdf\"\n",
       "            frameborder=\"0\"\n",
       "            allowfullscreen\n",
       "            \n",
       "        ></iframe>\n",
       "        "
      ],
      "text/plain": [
       "<IPython.lib.display.IFrame at 0x17123424a60>"
      ]
     },
     "execution_count": 1,
     "metadata": {},
     "output_type": "execute_result"
    }
   ],
   "source": [
    "from IPython.display import IFrame\n",
    "IFrame(src='04+-+NonLocal+Sopes.pdf',height=500,width=1000)"
   ]
  },
  {
   "cell_type": "code",
   "execution_count": 13,
   "id": "88b89aea",
   "metadata": {},
   "outputs": [],
   "source": [
    "def outer():\n",
    "    x = 'G'\n",
    "    def inner1():\n",
    "        def inner2():\n",
    "            def inner3():\n",
    "                nonlocal x\n",
    "                x = 'George'\n",
    "            inner3()\n",
    "        inner2()\n",
    "    inner1()\n",
    "    print(x)"
   ]
  },
  {
   "cell_type": "code",
   "execution_count": 14,
   "id": "4efd7103",
   "metadata": {},
   "outputs": [
    {
     "name": "stdout",
     "output_type": "stream",
     "text": [
      "George\n"
     ]
    }
   ],
   "source": [
    "outer()"
   ]
  },
  {
   "cell_type": "code",
   "execution_count": 15,
   "id": "e4a85f97",
   "metadata": {},
   "outputs": [],
   "source": [
    "def outer():\n",
    "    x = 'G'\n",
    "    def inner1():\n",
    "        def inner2():\n",
    "            x = 'dhurupath'\n",
    "            def inner3():\n",
    "                nonlocal x # refers to the x in inner2\n",
    "                x = 'George' # modifies dhrupath to George \n",
    "            inner3()\n",
    "        inner2()\n",
    "    inner1()\n",
    "    print(x)"
   ]
  },
  {
   "cell_type": "code",
   "execution_count": 16,
   "id": "e17f942a",
   "metadata": {},
   "outputs": [
    {
     "name": "stdout",
     "output_type": "stream",
     "text": [
      "G\n"
     ]
    }
   ],
   "source": [
    "outer()"
   ]
  },
  {
   "cell_type": "code",
   "execution_count": 18,
   "id": "8b4d6eec",
   "metadata": {},
   "outputs": [
    {
     "ename": "SyntaxError",
     "evalue": "no binding for nonlocal 'x' found (1051223319.py, line 5)",
     "output_type": "error",
     "traceback": [
      "\u001b[1;36m  Input \u001b[1;32mIn [18]\u001b[1;36m\u001b[0m\n\u001b[1;33m    nonlocal x\u001b[0m\n\u001b[1;37m    ^\u001b[0m\n\u001b[1;31mSyntaxError\u001b[0m\u001b[1;31m:\u001b[0m no binding for nonlocal 'x' found\n"
     ]
    }
   ],
   "source": [
    "def outer():\n",
    "    global x\n",
    "    x = 'ass'\n",
    "    def inner():\n",
    "        nonlocal x\n",
    "        x = 'fart'\n",
    "        \n",
    "    inner()\n",
    "    return x\n",
    "\n",
    "outer()\n",
    "\n",
    "    "
   ]
  },
  {
   "cell_type": "code",
   "execution_count": 20,
   "id": "a9a4cfdf",
   "metadata": {},
   "outputs": [
    {
     "data": {
      "text/plain": [
       "'fart'"
      ]
     },
     "execution_count": 20,
     "metadata": {},
     "output_type": "execute_result"
    }
   ],
   "source": [
    "def outer():\n",
    "    global x\n",
    "    x = 'ass'\n",
    "    def inner():\n",
    "        global x\n",
    "        x = 'fart'\n",
    "        \n",
    "    inner()\n",
    "    return x\n",
    "\n",
    "outer()\n",
    "\n",
    "    "
   ]
  },
  {
   "cell_type": "markdown",
   "id": "17071256",
   "metadata": {},
   "source": [
    "# closure:\n",
    "\n",
    "* a function becomes a closure only if it has a free variable."
   ]
  },
  {
   "cell_type": "code",
   "execution_count": 2,
   "id": "8346d8b4",
   "metadata": {},
   "outputs": [
    {
     "data": {
      "text/html": [
       "\n",
       "        <iframe\n",
       "            width=\"1000\"\n",
       "            height=\"500\"\n",
       "            src=\"06+-+Closures.pdf\"\n",
       "            frameborder=\"0\"\n",
       "            allowfullscreen\n",
       "            \n",
       "        ></iframe>\n",
       "        "
      ],
      "text/plain": [
       "<IPython.lib.display.IFrame at 0x1e7a2ccaeb0>"
      ]
     },
     "execution_count": 2,
     "metadata": {},
     "output_type": "execute_result"
    }
   ],
   "source": [
    "from IPython.display import IFrame\n",
    "IFrame(src='06+-+Closures.pdf',height=500,width=1000)"
   ]
  },
  {
   "cell_type": "code",
   "execution_count": 12,
   "id": "fcebca92",
   "metadata": {},
   "outputs": [],
   "source": [
    "def outer():\n",
    "    x = 'python'\n",
    "    a = 100\n",
    "    \n",
    "    def inner():\n",
    "        print(\"{} rocks!!!\".format(x))\n",
    "        \n",
    "    return inner ## this is the closure"
   ]
  },
  {
   "cell_type": "code",
   "execution_count": 13,
   "id": "3c24e869",
   "metadata": {},
   "outputs": [
    {
     "data": {
      "text/plain": [
       "<function __main__.outer.<locals>.inner()>"
      ]
     },
     "execution_count": 13,
     "metadata": {},
     "output_type": "execute_result"
    }
   ],
   "source": [
    "outer()"
   ]
  },
  {
   "cell_type": "code",
   "execution_count": 14,
   "id": "22ea95dc",
   "metadata": {},
   "outputs": [
    {
     "name": "stdout",
     "output_type": "stream",
     "text": [
      "python rocks!!!\n"
     ]
    }
   ],
   "source": [
    "outer()()"
   ]
  },
  {
   "cell_type": "code",
   "execution_count": 15,
   "id": "277c3d2d",
   "metadata": {},
   "outputs": [
    {
     "data": {
      "text/plain": [
       "('x',)"
      ]
     },
     "execution_count": 15,
     "metadata": {},
     "output_type": "execute_result"
    }
   ],
   "source": [
    "# to see all the free variables in use\n",
    "outer().__code__.co_freevars # x is the free variable"
   ]
  },
  {
   "cell_type": "code",
   "execution_count": 16,
   "id": "876083cb",
   "metadata": {},
   "outputs": [
    {
     "data": {
      "text/plain": [
       "(<cell at 0x000001826118C0D0: str object at 0x000001825D910830>,)"
      ]
     },
     "execution_count": 16,
     "metadata": {},
     "output_type": "execute_result"
    }
   ],
   "source": [
    "# looking at the closure\n",
    "outer().__closure__ # closures are the the inner function and the x."
   ]
  },
  {
   "cell_type": "code",
   "execution_count": 2,
   "id": "a203b157",
   "metadata": {},
   "outputs": [],
   "source": [
    "def outer():\n",
    "    count = 0\n",
    "    \n",
    "    def inner():\n",
    "        nonlocal count\n",
    "        count += 1\n",
    "        return count\n",
    "    return inner\n",
    "\n"
   ]
  },
  {
   "cell_type": "code",
   "execution_count": 3,
   "id": "11a60c34",
   "metadata": {},
   "outputs": [
    {
     "data": {
      "text/plain": [
       "1"
      ]
     },
     "execution_count": 3,
     "metadata": {},
     "output_type": "execute_result"
    }
   ],
   "source": [
    "fn = outer()\n",
    "fn()"
   ]
  },
  {
   "cell_type": "code",
   "execution_count": 4,
   "id": "2ca5da95",
   "metadata": {},
   "outputs": [
    {
     "data": {
      "text/plain": [
       "2"
      ]
     },
     "execution_count": 4,
     "metadata": {},
     "output_type": "execute_result"
    }
   ],
   "source": [
    "fn()"
   ]
  },
  {
   "cell_type": "code",
   "execution_count": 5,
   "id": "f3d0047f",
   "metadata": {},
   "outputs": [
    {
     "data": {
      "text/plain": [
       "3"
      ]
     },
     "execution_count": 5,
     "metadata": {},
     "output_type": "execute_result"
    }
   ],
   "source": [
    "fn()"
   ]
  },
  {
   "cell_type": "code",
   "execution_count": 36,
   "id": "8aae872c",
   "metadata": {},
   "outputs": [],
   "source": [
    "def outer(n):\n",
    "    def inner(x):\n",
    "        return x+n\n",
    "    \n",
    "    return inner\n",
    "\n"
   ]
  },
  {
   "cell_type": "code",
   "execution_count": 37,
   "id": "25acfa4a",
   "metadata": {},
   "outputs": [
    {
     "data": {
      "text/plain": [
       "10"
      ]
     },
     "execution_count": 37,
     "metadata": {},
     "output_type": "execute_result"
    }
   ],
   "source": [
    "outer(5)(5)"
   ]
  },
  {
   "cell_type": "code",
   "execution_count": 39,
   "id": "4e70fb28",
   "metadata": {},
   "outputs": [
    {
     "data": {
      "text/plain": [
       "(<cell at 0x00000182611B2E50: int object at 0x000001825AC269B0>,)"
      ]
     },
     "execution_count": 39,
     "metadata": {},
     "output_type": "execute_result"
    }
   ],
   "source": [
    "outer(5).__closure__ # first inner function memory address. second address of int object."
   ]
  },
  {
   "cell_type": "code",
   "execution_count": 40,
   "id": "0fd760a3",
   "metadata": {},
   "outputs": [
    {
     "data": {
      "text/plain": [
       "('n',)"
      ]
     },
     "execution_count": 40,
     "metadata": {},
     "output_type": "execute_result"
    }
   ],
   "source": [
    "outer(5).__code__.co_freevars"
   ]
  },
  {
   "cell_type": "code",
   "execution_count": null,
   "id": "ed826455",
   "metadata": {},
   "outputs": [],
   "source": []
  },
  {
   "cell_type": "code",
   "execution_count": 41,
   "id": "ecc203c3",
   "metadata": {},
   "outputs": [],
   "source": [
    "adders = []\n",
    "for n in range(1,4):\n",
    "    adders.append(lambda x: x+n)"
   ]
  },
  {
   "cell_type": "code",
   "execution_count": 48,
   "id": "76b86eb0",
   "metadata": {},
   "outputs": [
    {
     "data": {
      "text/plain": [
       "[<function __main__.<lambda>(x)>,\n",
       " <function __main__.<lambda>(x)>,\n",
       " <function __main__.<lambda>(x)>]"
      ]
     },
     "execution_count": 48,
     "metadata": {},
     "output_type": "execute_result"
    }
   ],
   "source": [
    "adders"
   ]
  },
  {
   "cell_type": "code",
   "execution_count": 14,
   "id": "7514aaa7",
   "metadata": {},
   "outputs": [
    {
     "data": {
      "text/plain": [
       "('n',)"
      ]
     },
     "execution_count": 14,
     "metadata": {},
     "output_type": "execute_result"
    }
   ],
   "source": [
    "def incrementer(n):\n",
    "    # inner + n  is a closure\n",
    "    def inner(start):\n",
    "        current = start\n",
    "        \n",
    "        # inc + current + n is a closure\n",
    "        def inc():\n",
    "            nonlocal current\n",
    "            current += n\n",
    "            \n",
    "        return inc\n",
    "    return inner\n",
    "        \n",
    "fx = incrementer(50)\n",
    "fx.__code__.co_freevars\n"
   ]
  },
  {
   "cell_type": "code",
   "execution_count": 15,
   "id": "05dc7c97",
   "metadata": {},
   "outputs": [
    {
     "data": {
      "text/plain": [
       "('current', 'n')"
      ]
     },
     "execution_count": 15,
     "metadata": {},
     "output_type": "execute_result"
    }
   ],
   "source": [
    "bitch = fx(20)\n",
    "bitch.__code__.co_freevars"
   ]
  },
  {
   "cell_type": "code",
   "execution_count": 16,
   "id": "a096a83b",
   "metadata": {},
   "outputs": [
    {
     "data": {
      "text/plain": [
       "<function __main__.incrementer.<locals>.inner(start)>"
      ]
     },
     "execution_count": 16,
     "metadata": {},
     "output_type": "execute_result"
    }
   ],
   "source": [
    "fx"
   ]
  },
  {
   "cell_type": "code",
   "execution_count": 17,
   "id": "5530e5ae",
   "metadata": {},
   "outputs": [
    {
     "data": {
      "text/plain": [
       "<function __main__.incrementer.<locals>.inner.<locals>.inc()>"
      ]
     },
     "execution_count": 17,
     "metadata": {},
     "output_type": "execute_result"
    }
   ],
   "source": [
    "bitch"
   ]
  },
  {
   "cell_type": "code",
   "execution_count": null,
   "id": "3d5260b8",
   "metadata": {},
   "outputs": [],
   "source": []
  },
  {
   "cell_type": "code",
   "execution_count": 2,
   "id": "8afe194f",
   "metadata": {},
   "outputs": [],
   "source": [
    "def fn():\n",
    "    counter = 0\n",
    "    \n",
    "    def fn1():\n",
    "        nonlocal counter\n",
    "        counter += 1\n",
    "        return counter\n",
    "    \n",
    "    def fn2():\n",
    "        nonlocal counter\n",
    "        counter += 1\n",
    "        return counter\n",
    "    \n",
    "    return fn1,fn2"
   ]
  },
  {
   "cell_type": "code",
   "execution_count": 3,
   "id": "02403444",
   "metadata": {},
   "outputs": [
    {
     "data": {
      "text/plain": [
       "(<cell at 0x0000017123446D30: int object at 0x000001711F956910>,)"
      ]
     },
     "execution_count": 3,
     "metadata": {},
     "output_type": "execute_result"
    }
   ],
   "source": [
    "first,second = fn()\n",
    "first.__closure__"
   ]
  },
  {
   "cell_type": "code",
   "execution_count": 4,
   "id": "d02d6817",
   "metadata": {},
   "outputs": [
    {
     "data": {
      "text/plain": [
       "(<cell at 0x0000017123446D30: int object at 0x000001711F956910>,)"
      ]
     },
     "execution_count": 4,
     "metadata": {},
     "output_type": "execute_result"
    }
   ],
   "source": [
    "second.__closure__"
   ]
  },
  {
   "cell_type": "code",
   "execution_count": null,
   "id": "25a3f2cb",
   "metadata": {},
   "outputs": [],
   "source": [
    "# both are point to the same cell and the same object"
   ]
  },
  {
   "cell_type": "code",
   "execution_count": 5,
   "id": "434fe5ee",
   "metadata": {},
   "outputs": [
    {
     "data": {
      "text/plain": [
       "1"
      ]
     },
     "execution_count": 5,
     "metadata": {},
     "output_type": "execute_result"
    }
   ],
   "source": [
    "# lets call it once again and make the counter go up\n",
    "first() "
   ]
  },
  {
   "cell_type": "code",
   "execution_count": 6,
   "id": "45627d43",
   "metadata": {},
   "outputs": [
    {
     "data": {
      "text/plain": [
       "((<cell at 0x0000017123446D30: int object at 0x000001711F956930>,),\n",
       " (<cell at 0x0000017123446D30: int object at 0x000001711F956930>,))"
      ]
     },
     "execution_count": 6,
     "metadata": {},
     "output_type": "execute_result"
    }
   ],
   "source": [
    "first.__closure__,second.__closure__"
   ]
  },
  {
   "cell_type": "code",
   "execution_count": 7,
   "id": "2dc1142d",
   "metadata": {},
   "outputs": [
    {
     "data": {
      "text/plain": [
       "2"
      ]
     },
     "execution_count": 7,
     "metadata": {},
     "output_type": "execute_result"
    }
   ],
   "source": [
    "second()"
   ]
  },
  {
   "cell_type": "code",
   "execution_count": 8,
   "id": "788c37f8",
   "metadata": {},
   "outputs": [
    {
     "data": {
      "text/plain": [
       "3"
      ]
     },
     "execution_count": 8,
     "metadata": {},
     "output_type": "execute_result"
    }
   ],
   "source": [
    "first()"
   ]
  },
  {
   "cell_type": "code",
   "execution_count": 9,
   "id": "627b3e65",
   "metadata": {},
   "outputs": [
    {
     "data": {
      "text/plain": [
       "4"
      ]
     },
     "execution_count": 9,
     "metadata": {},
     "output_type": "execute_result"
    }
   ],
   "source": [
    "second()"
   ]
  },
  {
   "cell_type": "code",
   "execution_count": 10,
   "id": "cf2c4944",
   "metadata": {},
   "outputs": [
    {
     "data": {
      "text/plain": [
       "((<cell at 0x0000017123446D30: int object at 0x000001711F956990>,),\n",
       " (<cell at 0x0000017123446D30: int object at 0x000001711F956990>,))"
      ]
     },
     "execution_count": 10,
     "metadata": {},
     "output_type": "execute_result"
    }
   ],
   "source": [
    "first.__closure__,second.__closure__"
   ]
  },
  {
   "cell_type": "markdown",
   "id": "f99c247b",
   "metadata": {},
   "source": [
    "# so when one of the inner functions with nonlocal variable whose value would increase on every time the function is called is called both first and second functions object are updated"
   ]
  },
  {
   "cell_type": "code",
   "execution_count": null,
   "id": "7d8bb1a3",
   "metadata": {},
   "outputs": [],
   "source": []
  },
  {
   "cell_type": "code",
   "execution_count": 16,
   "id": "f03311fa",
   "metadata": {},
   "outputs": [],
   "source": [
    "def create_adders():\n",
    "    adder = []\n",
    "    for n in range(1,4):\n",
    "        adder.append(lambda x,y=n:x+y)\n",
    "        \n",
    "    return adder\n",
    "        "
   ]
  },
  {
   "cell_type": "code",
   "execution_count": 17,
   "id": "acba1ad9",
   "metadata": {},
   "outputs": [
    {
     "data": {
      "text/plain": [
       "<function __main__.create_adders()>"
      ]
     },
     "execution_count": 17,
     "metadata": {},
     "output_type": "execute_result"
    }
   ],
   "source": [
    "create_adders"
   ]
  },
  {
   "cell_type": "code",
   "execution_count": 18,
   "id": "0ba2561b",
   "metadata": {},
   "outputs": [
    {
     "data": {
      "text/plain": [
       "[<function __main__.create_adders.<locals>.<lambda>(x, y=1)>,\n",
       " <function __main__.create_adders.<locals>.<lambda>(x, y=2)>,\n",
       " <function __main__.create_adders.<locals>.<lambda>(x, y=3)>]"
      ]
     },
     "execution_count": 18,
     "metadata": {},
     "output_type": "execute_result"
    }
   ],
   "source": [
    "adders = create_adders()\n",
    "adders"
   ]
  },
  {
   "cell_type": "code",
   "execution_count": 20,
   "id": "60f99305",
   "metadata": {},
   "outputs": [
    {
     "data": {
      "text/plain": [
       "(<function __main__.create_adders.<locals>.<lambda>(x, y=1)>,\n",
       " <function __main__.create_adders.<locals>.<lambda>(x, y=2)>,\n",
       " <function __main__.create_adders.<locals>.<lambda>(x, y=3)>)"
      ]
     },
     "execution_count": 20,
     "metadata": {},
     "output_type": "execute_result"
    }
   ],
   "source": [
    "add1 = adders[0]\n",
    "add2 = adders[1]\n",
    "add3 = adders[2]\n",
    "add1,add2,add3"
   ]
  },
  {
   "cell_type": "code",
   "execution_count": 21,
   "id": "f9829ea5",
   "metadata": {},
   "outputs": [
    {
     "data": {
      "text/plain": [
       "11"
      ]
     },
     "execution_count": 21,
     "metadata": {},
     "output_type": "execute_result"
    }
   ],
   "source": [
    "add1(10)"
   ]
  },
  {
   "cell_type": "code",
   "execution_count": 22,
   "id": "f61b7b05",
   "metadata": {},
   "outputs": [
    {
     "data": {
      "text/plain": [
       "12"
      ]
     },
     "execution_count": 22,
     "metadata": {},
     "output_type": "execute_result"
    }
   ],
   "source": [
    "add2(10)"
   ]
  },
  {
   "cell_type": "code",
   "execution_count": 23,
   "id": "1ad74cc9",
   "metadata": {},
   "outputs": [
    {
     "data": {
      "text/plain": [
       "13"
      ]
     },
     "execution_count": 23,
     "metadata": {},
     "output_type": "execute_result"
    }
   ],
   "source": [
    "add3(10)"
   ]
  },
  {
   "cell_type": "code",
   "execution_count": 25,
   "id": "66f88940",
   "metadata": {},
   "outputs": [],
   "source": [
    "create_adders.__closure__ # it is not a closure it seems"
   ]
  },
  {
   "cell_type": "code",
   "execution_count": 27,
   "id": "bc7cb359",
   "metadata": {},
   "outputs": [
    {
     "data": {
      "text/plain": [
       "()"
      ]
     },
     "execution_count": 27,
     "metadata": {},
     "output_type": "execute_result"
    }
   ],
   "source": [
    "create_adders.__code__.co_freevars"
   ]
  },
  {
   "cell_type": "code",
   "execution_count": null,
   "id": "366ed844",
   "metadata": {},
   "outputs": [],
   "source": []
  },
  {
   "cell_type": "code",
   "execution_count": 9,
   "id": "d849a0dc",
   "metadata": {},
   "outputs": [],
   "source": [
    "# class and closure\n",
    "\n",
    "class Average:\n",
    "    def __init__(self):\n",
    "        self.average = []\n",
    "        \n",
    "    def add(self,x):\n",
    "        self.average.append(x)\n",
    "        total = sum(self.average)\n",
    "        count = len(self.average)\n",
    "        return total/count\n",
    "    \n",
    "avg = Average()\n"
   ]
  },
  {
   "cell_type": "code",
   "execution_count": 10,
   "id": "75a47409",
   "metadata": {},
   "outputs": [
    {
     "data": {
      "text/plain": [
       "10.0"
      ]
     },
     "execution_count": 10,
     "metadata": {},
     "output_type": "execute_result"
    }
   ],
   "source": [
    "avg.add(10)"
   ]
  },
  {
   "cell_type": "code",
   "execution_count": 11,
   "id": "a5036028",
   "metadata": {},
   "outputs": [
    {
     "data": {
      "text/plain": [
       "15.0"
      ]
     },
     "execution_count": 11,
     "metadata": {},
     "output_type": "execute_result"
    }
   ],
   "source": [
    "avg.add(20)"
   ]
  },
  {
   "cell_type": "code",
   "execution_count": 12,
   "id": "70deed23",
   "metadata": {},
   "outputs": [
    {
     "data": {
      "text/plain": [
       "20.0"
      ]
     },
     "execution_count": 12,
     "metadata": {},
     "output_type": "execute_result"
    }
   ],
   "source": [
    "avg.add(30)"
   ]
  },
  {
   "cell_type": "code",
   "execution_count": 13,
   "id": "42619ea6",
   "metadata": {},
   "outputs": [
    {
     "data": {
      "text/plain": [
       "36.25"
      ]
     },
     "execution_count": 13,
     "metadata": {},
     "output_type": "execute_result"
    }
   ],
   "source": [
    "avg.add(85)"
   ]
  },
  {
   "cell_type": "code",
   "execution_count": 15,
   "id": "61ba0bb6",
   "metadata": {},
   "outputs": [],
   "source": [
    "# achieving the same with functions\n",
    "\n",
    "def average():\n",
    "    numbers = []\n",
    "    \n",
    "    def adder(x):\n",
    "        numbers.append(x)\n",
    "        total = sum(numbers)\n",
    "        count = len(numbers)\n",
    "        \n",
    "        return total/count\n",
    "    return adder # closure is returning the inner function\n"
   ]
  },
  {
   "cell_type": "code",
   "execution_count": 16,
   "id": "d5140619",
   "metadata": {},
   "outputs": [
    {
     "data": {
      "text/plain": [
       "<function __main__.average.<locals>.adder(x)>"
      ]
     },
     "execution_count": 16,
     "metadata": {},
     "output_type": "execute_result"
    }
   ],
   "source": [
    "avg = average()\n",
    "\n",
    "avg"
   ]
  },
  {
   "cell_type": "code",
   "execution_count": 17,
   "id": "63c226d2",
   "metadata": {},
   "outputs": [
    {
     "data": {
      "text/plain": [
       "(<cell at 0x000001F832CA0B20: list object at 0x000001F833710180>,)"
      ]
     },
     "execution_count": 17,
     "metadata": {},
     "output_type": "execute_result"
    }
   ],
   "source": [
    "avg.__closure__"
   ]
  },
  {
   "cell_type": "code",
   "execution_count": 18,
   "id": "889e4e9b",
   "metadata": {},
   "outputs": [
    {
     "data": {
      "text/plain": [
       "('numbers',)"
      ]
     },
     "execution_count": 18,
     "metadata": {},
     "output_type": "execute_result"
    }
   ],
   "source": [
    "avg.__code__.co_freevars"
   ]
  },
  {
   "cell_type": "code",
   "execution_count": 19,
   "id": "0564bf30",
   "metadata": {},
   "outputs": [
    {
     "data": {
      "text/plain": [
       "10.0"
      ]
     },
     "execution_count": 19,
     "metadata": {},
     "output_type": "execute_result"
    }
   ],
   "source": [
    "avg(10)"
   ]
  },
  {
   "cell_type": "code",
   "execution_count": 20,
   "id": "b81346f6",
   "metadata": {},
   "outputs": [
    {
     "data": {
      "text/plain": [
       "15.0"
      ]
     },
     "execution_count": 20,
     "metadata": {},
     "output_type": "execute_result"
    }
   ],
   "source": [
    "avg(20)"
   ]
  },
  {
   "cell_type": "code",
   "execution_count": 21,
   "id": "26188f69",
   "metadata": {},
   "outputs": [
    {
     "data": {
      "text/plain": [
       "20.0"
      ]
     },
     "execution_count": 21,
     "metadata": {},
     "output_type": "execute_result"
    }
   ],
   "source": [
    "avg(30)"
   ]
  },
  {
   "cell_type": "code",
   "execution_count": 22,
   "id": "3a7a4d3b",
   "metadata": {},
   "outputs": [
    {
     "data": {
      "text/plain": [
       "36.25"
      ]
     },
     "execution_count": 22,
     "metadata": {},
     "output_type": "execute_result"
    }
   ],
   "source": [
    "avg(85)"
   ]
  },
  {
   "cell_type": "code",
   "execution_count": null,
   "id": "78ed5f57",
   "metadata": {},
   "outputs": [],
   "source": []
  },
  {
   "cell_type": "markdown",
   "id": "70a62a96",
   "metadata": {},
   "source": [
    "# day 357"
   ]
  },
  {
   "cell_type": "markdown",
   "id": "39c92bcc",
   "metadata": {},
   "source": [
    "# what to use closure or class object:\n",
    "\n",
    "* class object comes with additional overhead charges so, if you really want to your code to work faster use closure generously whenever the opporutunity is ripe.\n",
    "* but class is pretty and neat."
   ]
  },
  {
   "cell_type": "code",
   "execution_count": 3,
   "id": "9a5d98a7",
   "metadata": {},
   "outputs": [],
   "source": [
    "import time"
   ]
  },
  {
   "cell_type": "code",
   "execution_count": 4,
   "id": "5ae881d4",
   "metadata": {},
   "outputs": [],
   "source": [
    "class Timer:\n",
    "    def __init__(self):\n",
    "        self.start = time.perf_counter()\n",
    "        \n",
    "    def poll(self):\n",
    "        return time.perf_counter() - self.start"
   ]
  },
  {
   "cell_type": "code",
   "execution_count": 5,
   "id": "6acb28ce",
   "metadata": {},
   "outputs": [],
   "source": [
    "t1 = Timer() # calling the class object Timer()"
   ]
  },
  {
   "cell_type": "code",
   "execution_count": 6,
   "id": "9f5d8fda",
   "metadata": {},
   "outputs": [
    {
     "data": {
      "text/plain": [
       "5.649214700000016"
      ]
     },
     "execution_count": 6,
     "metadata": {},
     "output_type": "execute_result"
    }
   ],
   "source": [
    "t1.poll() # 5.6 seconds have elapsed since calling the class object Timer()"
   ]
  },
  {
   "cell_type": "code",
   "execution_count": 7,
   "id": "7d7f2e07",
   "metadata": {},
   "outputs": [
    {
     "data": {
      "text/plain": [
       "21.39780129999997"
      ]
     },
     "execution_count": 7,
     "metadata": {},
     "output_type": "execute_result"
    }
   ],
   "source": [
    "t1.poll() # 21 seconds have elapsed since calling the class object Timer()"
   ]
  },
  {
   "cell_type": "code",
   "execution_count": 11,
   "id": "077fe09d",
   "metadata": {},
   "outputs": [],
   "source": [
    "# achieving the same with closure\n",
    "\n",
    "def timer():\n",
    "    start = time.perf_counter()\n",
    "    \n",
    "    def poll():\n",
    "        nonlocal start \n",
    "        return time.perf_counter() - start\n",
    "    \n",
    "    return poll # poll is the closure"
   ]
  },
  {
   "cell_type": "code",
   "execution_count": 12,
   "id": "48ee65df",
   "metadata": {},
   "outputs": [],
   "source": [
    "t1 = timer()"
   ]
  },
  {
   "cell_type": "code",
   "execution_count": 13,
   "id": "6e3af4f3",
   "metadata": {},
   "outputs": [
    {
     "data": {
      "text/plain": [
       "1.3944778999999698"
      ]
     },
     "execution_count": 13,
     "metadata": {},
     "output_type": "execute_result"
    }
   ],
   "source": [
    "t1()"
   ]
  },
  {
   "cell_type": "code",
   "execution_count": 14,
   "id": "d35212ce",
   "metadata": {},
   "outputs": [
    {
     "data": {
      "text/plain": [
       "73.97908199999995"
      ]
     },
     "execution_count": 14,
     "metadata": {},
     "output_type": "execute_result"
    }
   ],
   "source": [
    "t1() # 74 seconds have elapsed since calling the function timer()"
   ]
  },
  {
   "cell_type": "code",
   "execution_count": null,
   "id": "caed7aea",
   "metadata": {},
   "outputs": [],
   "source": []
  },
  {
   "cell_type": "code",
   "execution_count": 29,
   "id": "8cf20510",
   "metadata": {},
   "outputs": [],
   "source": [
    "# finding how many times a function has been called\n",
    "\n",
    "def counter(fn):\n",
    "    count = 0\n",
    "    \n",
    "    def inner(*args,**kwargs):\n",
    "        nonlocal count \n",
    "        count += 1\n",
    "        print(\"The function {} has been {} time(s) \".format(fn.__name__,count))\n",
    "        return fn(*args,**kwargs)\n",
    "    return inner # inner is a closure\n"
   ]
  },
  {
   "cell_type": "code",
   "execution_count": 30,
   "id": "e73ae525",
   "metadata": {},
   "outputs": [],
   "source": [
    "def add(m,n):\n",
    "    return m+n"
   ]
  },
  {
   "cell_type": "code",
   "execution_count": 31,
   "id": "1c323b17",
   "metadata": {},
   "outputs": [
    {
     "data": {
      "text/plain": [
       "<function __main__.counter.<locals>.inner(*args, **kwargs)>"
      ]
     },
     "execution_count": 31,
     "metadata": {},
     "output_type": "execute_result"
    }
   ],
   "source": [
    "counter_add = counter(add)\n",
    "counter_add"
   ]
  },
  {
   "cell_type": "code",
   "execution_count": 32,
   "id": "e3eb6e3b",
   "metadata": {},
   "outputs": [
    {
     "data": {
      "text/plain": [
       "(<cell at 0x000001E7A3DD6E20: int object at 0x000001E79DBF6910>,\n",
       " <cell at 0x000001E7A3DD69A0: function object at 0x000001E7A480CB80>)"
      ]
     },
     "execution_count": 32,
     "metadata": {},
     "output_type": "execute_result"
    }
   ],
   "source": [
    "counter_add.__closure__"
   ]
  },
  {
   "cell_type": "code",
   "execution_count": 33,
   "id": "25812fdc",
   "metadata": {},
   "outputs": [
    {
     "name": "stdout",
     "output_type": "stream",
     "text": [
      "The function add has been 1 time(s) \n"
     ]
    },
    {
     "data": {
      "text/plain": [
       "16"
      ]
     },
     "execution_count": 33,
     "metadata": {},
     "output_type": "execute_result"
    }
   ],
   "source": [
    "result = counter_add(5,11)\n",
    "result"
   ]
  },
  {
   "cell_type": "code",
   "execution_count": null,
   "id": "2cf436a6",
   "metadata": {},
   "outputs": [],
   "source": []
  },
  {
   "cell_type": "code",
   "execution_count": 36,
   "id": "20051d0e",
   "metadata": {},
   "outputs": [],
   "source": [
    "# do the same in class object\n",
    "class Counter:\n",
    "    def __init__(self,fn):\n",
    "        self.count = 0\n",
    "        self.function = fn\n",
    "        \n",
    "    def inner(self,*args,**kwargs):\n",
    "        self.count += 1\n",
    "        print('The function {} has been called {} times'.format(self.function.__name__,self.count))\n",
    "        return self.function(*args,**kwargs)\n",
    "    \n",
    "    "
   ]
  },
  {
   "cell_type": "code",
   "execution_count": 37,
   "id": "77165dd1",
   "metadata": {},
   "outputs": [],
   "source": [
    "def add(m,n):\n",
    "    return m+n"
   ]
  },
  {
   "cell_type": "code",
   "execution_count": 38,
   "id": "8fbe6eee",
   "metadata": {},
   "outputs": [
    {
     "data": {
      "text/plain": [
       "<__main__.Counter at 0x1e7a3dd6dc0>"
      ]
     },
     "execution_count": 38,
     "metadata": {},
     "output_type": "execute_result"
    }
   ],
   "source": [
    "c = Counter(add)\n",
    "c"
   ]
  },
  {
   "cell_type": "code",
   "execution_count": 41,
   "id": "5fc93f60",
   "metadata": {},
   "outputs": [
    {
     "name": "stdout",
     "output_type": "stream",
     "text": [
      "The function add has been called 3 times\n"
     ]
    },
    {
     "data": {
      "text/plain": [
       "15"
      ]
     },
     "execution_count": 41,
     "metadata": {},
     "output_type": "execute_result"
    }
   ],
   "source": [
    "c.inner(5,10)"
   ]
  },
  {
   "cell_type": "code",
   "execution_count": null,
   "id": "ad0a2fa6",
   "metadata": {},
   "outputs": [],
   "source": []
  },
  {
   "cell_type": "markdown",
   "id": "7fd2922e",
   "metadata": {},
   "source": [
    "# decorators"
   ]
  },
  {
   "cell_type": "code",
   "execution_count": 1,
   "id": "58dd1c9a",
   "metadata": {},
   "outputs": [
    {
     "data": {
      "text/html": [
       "\n",
       "        <iframe\n",
       "            width=\"1000\"\n",
       "            height=\"500\"\n",
       "            src=\"10+-+Decorators+1.pdf\"\n",
       "            frameborder=\"0\"\n",
       "            allowfullscreen\n",
       "            \n",
       "        ></iframe>\n",
       "        "
      ],
      "text/plain": [
       "<IPython.lib.display.IFrame at 0x20e04338910>"
      ]
     },
     "execution_count": 1,
     "metadata": {},
     "output_type": "execute_result"
    }
   ],
   "source": [
    "from IPython.display import IFrame\n",
    "IFrame(src='10+-+Decorators+1.pdf',height=500,width=1000)"
   ]
  },
  {
   "cell_type": "code",
   "execution_count": null,
   "id": "e5301b38",
   "metadata": {},
   "outputs": [],
   "source": []
  },
  {
   "cell_type": "markdown",
   "id": "5a56e33d",
   "metadata": {},
   "source": [
    "# using decorators:\n",
    "* decorator is decorating a function with another function."
   ]
  },
  {
   "cell_type": "code",
   "execution_count": 2,
   "id": "7bf1dc9d",
   "metadata": {},
   "outputs": [],
   "source": [
    "def counter(fn):\n",
    "    count = 0\n",
    "    def inner(*args,**kwargs):\n",
    "        nonlocal count\n",
    "        count = count + 1\n",
    "        print(\"The function named '{}' is executed for {} time(s)\".format(fn.__name__,count))\n",
    "        return fn(*args,**kwargs)\n",
    "    return inner        "
   ]
  },
  {
   "cell_type": "code",
   "execution_count": 3,
   "id": "23bf41d9",
   "metadata": {},
   "outputs": [],
   "source": [
    "@counter\n",
    "def add(x,y):\n",
    "    return x+y"
   ]
  },
  {
   "cell_type": "code",
   "execution_count": 4,
   "id": "8a080680",
   "metadata": {},
   "outputs": [
    {
     "name": "stdout",
     "output_type": "stream",
     "text": [
      "The function named 'add' is executed for 1 time(s)\n"
     ]
    },
    {
     "data": {
      "text/plain": [
       "8"
      ]
     },
     "execution_count": 4,
     "metadata": {},
     "output_type": "execute_result"
    }
   ],
   "source": [
    "add(5,3)"
   ]
  },
  {
   "cell_type": "code",
   "execution_count": 5,
   "id": "4b60d605",
   "metadata": {},
   "outputs": [
    {
     "name": "stdout",
     "output_type": "stream",
     "text": [
      "The function named 'add' is executed for 2 time(s)\n"
     ]
    },
    {
     "data": {
      "text/plain": [
       "85"
      ]
     },
     "execution_count": 5,
     "metadata": {},
     "output_type": "execute_result"
    }
   ],
   "source": [
    "add(82,3)"
   ]
  },
  {
   "cell_type": "code",
   "execution_count": 6,
   "id": "96d18489",
   "metadata": {},
   "outputs": [
    {
     "name": "stdout",
     "output_type": "stream",
     "text": [
      "The function named 'add' is executed for 3 time(s)\n"
     ]
    },
    {
     "data": {
      "text/plain": [
       "90"
      ]
     },
     "execution_count": 6,
     "metadata": {},
     "output_type": "execute_result"
    }
   ],
   "source": [
    "add(85,5)"
   ]
  },
  {
   "cell_type": "code",
   "execution_count": 7,
   "id": "618ef7c8",
   "metadata": {},
   "outputs": [
    {
     "name": "stdout",
     "output_type": "stream",
     "text": [
      "Help on function inner in module __main__:\n",
      "\n",
      "inner(*args, **kwargs)\n",
      "\n"
     ]
    }
   ],
   "source": [
    "help(add)"
   ]
  },
  {
   "cell_type": "code",
   "execution_count": 8,
   "id": "050ab3ca",
   "metadata": {},
   "outputs": [],
   "source": [
    "# to overcome\n",
    "\n",
    "def counter(fn):\n",
    "    count = 0\n",
    "    \n",
    "    def inner(*args,**kwargs):\n",
    "        nonlocal count\n",
    "        count += 1\n",
    "        print(\"This function {} is called {} time(s)\".format(fn.__name__,count))\n",
    "        \n",
    "        return fn(*args,**kwargs)\n",
    "    \n",
    "    # to make the name and doc of the inner function correspond with that of the function(fn) being passed.\n",
    "    inner.__name__ = fn.__name__\n",
    "    inner.__doc__ = fn.__doc__\n",
    "    \n",
    "    return inner\n"
   ]
  },
  {
   "cell_type": "code",
   "execution_count": 9,
   "id": "2f4dacaf",
   "metadata": {},
   "outputs": [],
   "source": [
    "@counter # decorate the below function\n",
    "def add(a,b):\n",
    "    \"\"\"\n",
    "    adds two numbers\n",
    "    \n",
    "    \"\"\"\n",
    "    return a+b\n"
   ]
  },
  {
   "cell_type": "code",
   "execution_count": 10,
   "id": "73b23170",
   "metadata": {},
   "outputs": [
    {
     "name": "stdout",
     "output_type": "stream",
     "text": [
      "This function add is called 1 time(s)\n"
     ]
    },
    {
     "data": {
      "text/plain": [
       "7"
      ]
     },
     "execution_count": 10,
     "metadata": {},
     "output_type": "execute_result"
    }
   ],
   "source": [
    "add(5,2)"
   ]
  },
  {
   "cell_type": "code",
   "execution_count": 11,
   "id": "58ab829d",
   "metadata": {},
   "outputs": [
    {
     "name": "stdout",
     "output_type": "stream",
     "text": [
      "This function add is called 2 time(s)\n"
     ]
    },
    {
     "data": {
      "text/plain": [
       "36"
      ]
     },
     "execution_count": 11,
     "metadata": {},
     "output_type": "execute_result"
    }
   ],
   "source": [
    "add(3,33)"
   ]
  },
  {
   "cell_type": "code",
   "execution_count": 12,
   "id": "4ca69ffd",
   "metadata": {},
   "outputs": [
    {
     "name": "stdout",
     "output_type": "stream",
     "text": [
      "Help on function add in module __main__:\n",
      "\n",
      "add(*args, **kwargs)\n",
      "    adds two numbers\n",
      "\n"
     ]
    }
   ],
   "source": [
    "help(add)"
   ]
  },
  {
   "cell_type": "code",
   "execution_count": null,
   "id": "d19cf375",
   "metadata": {},
   "outputs": [],
   "source": []
  },
  {
   "cell_type": "code",
   "execution_count": null,
   "id": "fa4e0472",
   "metadata": {},
   "outputs": [],
   "source": []
  },
  {
   "cell_type": "markdown",
   "id": "f72dc263",
   "metadata": {},
   "source": [
    "# day 364"
   ]
  },
  {
   "cell_type": "markdown",
   "id": "14b08c09",
   "metadata": {},
   "source": [
    "## using wraps with decorator for quick debugging of code?"
   ]
  },
  {
   "cell_type": "code",
   "execution_count": 1,
   "id": "d6565567",
   "metadata": {},
   "outputs": [],
   "source": [
    "from functools import wraps"
   ]
  },
  {
   "cell_type": "code",
   "execution_count": 2,
   "id": "f8693148",
   "metadata": {},
   "outputs": [],
   "source": [
    "def counter(fn):\n",
    "    count = 0\n",
    "    \n",
    "    @wraps(fn) # this does the job of capturing the doc and name of the inner function.\n",
    "    def inner(*args,**kwargs):\n",
    "        nonlocal count\n",
    "        count += 1\n",
    "        print(\"This function {} is called {} time(s)\".format(fn.__name__,count))\n",
    "        \n",
    "        return fn(*args,**kwargs)\n",
    "    \n",
    "    return inner"
   ]
  },
  {
   "cell_type": "code",
   "execution_count": 3,
   "id": "72f6f8a3",
   "metadata": {},
   "outputs": [],
   "source": [
    "@counter # decorate the below function\n",
    "def add(a,b):\n",
    "    \"\"\"\n",
    "    adds two numbers\n",
    "    \n",
    "    \"\"\"\n",
    "    return a+b\n"
   ]
  },
  {
   "cell_type": "code",
   "execution_count": 4,
   "id": "beaba834",
   "metadata": {},
   "outputs": [
    {
     "name": "stdout",
     "output_type": "stream",
     "text": [
      "This function add is called 1 time(s)\n"
     ]
    },
    {
     "data": {
      "text/plain": [
       "10"
      ]
     },
     "execution_count": 4,
     "metadata": {},
     "output_type": "execute_result"
    }
   ],
   "source": [
    "add(5,5)"
   ]
  },
  {
   "cell_type": "code",
   "execution_count": 5,
   "id": "d530caa7",
   "metadata": {},
   "outputs": [
    {
     "name": "stdout",
     "output_type": "stream",
     "text": [
      "Help on function add in module __main__:\n",
      "\n",
      "add(a, b)\n",
      "    adds two numbers\n",
      "\n"
     ]
    }
   ],
   "source": [
    "help(add)"
   ]
  },
  {
   "cell_type": "code",
   "execution_count": null,
   "id": "a3aea060",
   "metadata": {},
   "outputs": [],
   "source": []
  },
  {
   "cell_type": "code",
   "execution_count": 13,
   "id": "5c577519",
   "metadata": {},
   "outputs": [],
   "source": [
    "def timed(fn):\n",
    "    from functools import wraps\n",
    "    import time\n",
    "    \n",
    "    @wraps(fn)\n",
    "    def inner(*args,**kwargs):\n",
    "        start_time = time.perf_counter()\n",
    "        result = fn(*args,**kwargs)\n",
    "        end_time = time.perf_counter()\n",
    "        \n",
    "        print('Time consumed is {}s'.format(end_time-start_time))\n",
    "        \n",
    "        return result\n",
    "        \n",
    "    return inner"
   ]
  },
  {
   "cell_type": "code",
   "execution_count": 15,
   "id": "731250f3",
   "metadata": {},
   "outputs": [
    {
     "name": "stdout",
     "output_type": "stream",
     "text": [
      "Time consumed is 9.99999883788405e-07s\n",
      "Time consumed is 1.2000000424450263e-06s\n",
      "Time consumed is 0.0002640000000155851s\n",
      "Time consumed is 1.0000001111620804e-06s\n",
      "Time consumed is 0.000353799999857074s\n",
      "Time consumed is 9.99999883788405e-07s\n",
      "Time consumed is 9.99999883788405e-07s\n",
      "Time consumed is 8.460000003651658e-05s\n",
      "Time consumed is 0.000520900000083202s\n",
      "Time consumed is 9.000000318337698e-07s\n",
      "Time consumed is 9.000000318337698e-07s\n",
      "Time consumed is 8.850000017446291e-05s\n",
      "Time consumed is 1.2000000424450263e-06s\n",
      "Time consumed is 0.0001953999999386724s\n",
      "Time consumed is 0.0008083000000169704s\n",
      "Time consumed is 7.999999525054591e-07s\n",
      "Time consumed is 1.0000001111620804e-06s\n",
      "Time consumed is 7.149999987632327e-05s\n",
      "Time consumed is 9.000000318337698e-07s\n",
      "Time consumed is 0.00014000000010128133s\n",
      "Time consumed is 6.999998731771484e-07s\n",
      "Time consumed is 9.000000318337698e-07s\n",
      "Time consumed is 6.929999995008984e-05s\n",
      "Time consumed is 0.0005356000001484063s\n",
      "Time consumed is 0.0014157000000523112s\n",
      "Time consumed is 7.999999525054591e-07s\n",
      "Time consumed is 9.000000318337698e-07s\n",
      "Time consumed is 7.18000001143082e-05s\n",
      "Time consumed is 8.999998044600943e-07s\n",
      "Time consumed is 0.00014050000004317553s\n",
      "Time consumed is 7.999999525054591e-07s\n",
      "Time consumed is 9.000000318337698e-07s\n",
      "Time consumed is 6.880000000819564e-05s\n",
      "Time consumed is 0.0002750000001014996s\n",
      "Time consumed is 7.000001005508238e-07s\n",
      "Time consumed is 9.000000318337698e-07s\n",
      "Time consumed is 6.860000007691269e-05s\n",
      "Time consumed is 9.000000318337698e-07s\n",
      "Time consumed is 0.00013650000005327456s\n",
      "Time consumed is 0.00047629999994569516s\n",
      "Time consumed is 0.002119699999866498s\n",
      "Time consumed is 9.99999883788405e-07s\n",
      "Time consumed is 1.0000001111620804e-06s\n",
      "Time consumed is 8.870000010574586e-05s\n",
      "Time consumed is 9.000000318337698e-07s\n",
      "Time consumed is 0.00015669999993406236s\n",
      "Time consumed is 7.999999525054591e-07s\n",
      "Time consumed is 9.000000318337698e-07s\n",
      "Time consumed is 6.720000010318472e-05s\n",
      "Time consumed is 0.0002904999998918356s\n",
      "Time consumed is 6.000000212225132e-07s\n",
      "Time consumed is 8.000001798791345e-07s\n",
      "Time consumed is 6.929999995008984e-05s\n",
      "Time consumed is 7.999999525054591e-07s\n",
      "Time consumed is 0.00015450000000782893s\n",
      "Time consumed is 0.0005327999999735766s\n",
      "Time consumed is 7.999999525054591e-07s\n",
      "Time consumed is 9.000000318337698e-07s\n",
      "Time consumed is 0.00011730000005627517s\n",
      "Time consumed is 9.000000318337698e-07s\n",
      "Time consumed is 0.00023009999995338148s\n",
      "Time consumed is 7.999999525054591e-07s\n",
      "Time consumed is 1.0000001111620804e-06s\n",
      "Time consumed is 0.00032390000001214503s\n",
      "Time consumed is 0.000663600000052611s\n",
      "Time consumed is 0.0013060999999652267s\n",
      "Time consumed is 0.003651599999784594s\n",
      "Time consumed is 1.0999999631167157e-06s\n",
      "Time consumed is 1.2000000424450263e-06s\n",
      "Time consumed is 8.800000000519503e-05s\n",
      "Time consumed is 9.99999883788405e-07s\n",
      "Time consumed is 0.00016129999994518585s\n",
      "Time consumed is 7.999999525054591e-07s\n",
      "Time consumed is 1.2000000424450263e-06s\n",
      "Time consumed is 8.92999998995947e-05s\n",
      "Time consumed is 0.0004823000001579203s\n",
      "Time consumed is 9.000000318337698e-07s\n",
      "Time consumed is 9.99999883788405e-07s\n",
      "Time consumed is 9.030000001075678e-05s\n",
      "Time consumed is 9.000000318337698e-07s\n",
      "Time consumed is 0.00017269999989366625s\n",
      "Time consumed is 0.0008591999999225663s\n",
      "Time consumed is 1.0999999631167157e-06s\n",
      "Time consumed is 1.0999999631167157e-06s\n",
      "Time consumed is 8.699999989403295e-05s\n",
      "Time consumed is 7.999999525054591e-07s\n",
      "Time consumed is 0.0001554000000396627s\n",
      "Time consumed is 6.999998731771484e-07s\n",
      "Time consumed is 9.000000318337698e-07s\n",
      "Time consumed is 6.970000004002941e-05s\n",
      "Time consumed is 0.0002908999999817752s\n",
      "Time consumed is 0.001219799999944371s\n",
      "Time consumed is 7.999999525054591e-07s\n",
      "Time consumed is 9.000000318337698e-07s\n",
      "Time consumed is 6.929999995008984e-05s\n",
      "Time consumed is 8.999998044600943e-07s\n",
      "Time consumed is 0.00014060000012250384s\n",
      "Time consumed is 7.999999525054591e-07s\n",
      "Time consumed is 9.000000318337698e-07s\n",
      "Time consumed is 7.010000012996898e-05s\n",
      "Time consumed is 0.0002868000001399196s\n",
      "Time consumed is 9.000000318337698e-07s\n",
      "Time consumed is 9.000000318337698e-07s\n",
      "Time consumed is 7.449999998243584e-05s\n",
      "Time consumed is 7.999999525054591e-07s\n",
      "Time consumed is 0.0001419000000169035s\n",
      "Time consumed is 0.0007086999999046384s\n",
      "Time consumed is 0.001992900000004738s\n",
      "Time consumed is 0.005728399999952671s\n",
      "Time consumed is 6.000000212225132e-07s\n",
      "Time consumed is 7.999999525054591e-07s\n",
      "Time consumed is 6.410000014511752e-05s\n",
      "Time consumed is 7.000001005508238e-07s\n",
      "Time consumed is 0.00012670000000980508s\n",
      "Time consumed is 7.000001005508238e-07s\n",
      "Time consumed is 7.999999525054591e-07s\n",
      "Time consumed is 6.210000015016703e-05s\n",
      "Time consumed is 0.0002477999998973246s\n",
      "Time consumed is 7.000001005508238e-07s\n",
      "Time consumed is 8.000001798791345e-07s\n",
      "Time consumed is 6.039999993845413e-05s\n",
      "Time consumed is 7.999999525054591e-07s\n",
      "Time consumed is 0.0001247000000148546s\n",
      "Time consumed is 0.00043249999998806743s\n",
      "Time consumed is 7.999999525054591e-07s\n",
      "Time consumed is 9.000000318337698e-07s\n",
      "Time consumed is 6.789999997636187e-05s\n",
      "Time consumed is 1.2000000424450263e-06s\n",
      "Time consumed is 0.0003544000001056702s\n",
      "Time consumed is 7.999999525054591e-07s\n",
      "Time consumed is 9.000000318337698e-07s\n",
      "Time consumed is 6.729999995513936e-05s\n",
      "Time consumed is 0.00048599999990983633s\n",
      "Time consumed is 0.0009807999999793537s\n",
      "Time consumed is 7.999999525054591e-07s\n",
      "Time consumed is 9.000000318337698e-07s\n",
      "Time consumed is 6.669999993391684e-05s\n",
      "Time consumed is 9.000000318337698e-07s\n",
      "Time consumed is 0.00013190000004215108s\n",
      "Time consumed is 7.999999525054591e-07s\n",
      "Time consumed is 8.999998044600943e-07s\n",
      "Time consumed is 6.65000000026339e-05s\n",
      "Time consumed is 0.00026219999995191756s\n",
      "Time consumed is 6.999998731771484e-07s\n",
      "Time consumed is 9.000000318337698e-07s\n",
      "Time consumed is 6.660000008196221e-05s\n",
      "Time consumed is 7.999999525054591e-07s\n",
      "Time consumed is 0.00013280000007398485s\n",
      "Time consumed is 0.0004578000000492466s\n",
      "Time consumed is 0.001500999999962005s\n",
      "Time consumed is 6.999998731771484e-07s\n",
      "Time consumed is 9.000000318337698e-07s\n",
      "Time consumed is 0.006633199999896533s\n",
      "Time consumed is 1.6000001323845936e-06s\n",
      "Time consumed is 0.006747199999836084s\n",
      "Time consumed is 6.999998731771484e-07s\n",
      "Time consumed is 1.0999999631167157e-06s\n",
      "Time consumed is 9.999999997489795e-05s\n",
      "Time consumed is 0.006945700000187571s\n",
      "Time consumed is 7.999999525054591e-07s\n",
      "Time consumed is 1.2000000424450263e-06s\n",
      "Time consumed is 9.869999985312461e-05s\n",
      "Time consumed is 1.100000190490391e-06s\n",
      "Time consumed is 0.0001978999998755171s\n",
      "Time consumed is 0.007238499999857595s\n",
      "Time consumed is 5.000001692678779e-07s\n",
      "Time consumed is 1.0000001111620804e-06s\n",
      "Time consumed is 9.840000006988703e-05s\n",
      "Time consumed is 1.0999999631167157e-06s\n",
      "Time consumed is 0.0002082999999402091s\n",
      "Time consumed is 6.000000212225132e-07s\n",
      "Time consumed is 9.99999883788405e-07s\n",
      "Time consumed is 9.520000003249152e-05s\n",
      "Time consumed is 0.00040809999995872204s\n",
      "Time consumed is 0.007737300000144387s\n",
      "Time consumed is 0.009306600000172693s\n",
      "Time consumed is 0.01510010000015427s\n",
      "Time consumed is 1.500000053056283e-06s\n",
      "Time consumed is 9.99999883788405e-07s\n",
      "Time consumed is 7.970000001478184e-05s\n",
      "Time consumed is 7.999999525054591e-07s\n",
      "Time consumed is 0.00015460000008715724s\n",
      "Time consumed is 7.999999525054591e-07s\n",
      "Time consumed is 9.000000318337698e-07s\n",
      "Time consumed is 7.830000004105386e-05s\n",
      "Time consumed is 0.00030419999984587776s\n",
      "Time consumed is 9.000000318337698e-07s\n",
      "Time consumed is 1.0000001111620804e-06s\n",
      "Time consumed is 7.630000004610338e-05s\n",
      "Time consumed is 7.999999525054591e-07s\n",
      "Time consumed is 0.00015189999999165593s\n",
      "Time consumed is 0.0005286999999043474s\n",
      "Time consumed is 7.000001005508238e-07s\n",
      "Time consumed is 9.99999883788405e-07s\n",
      "Time consumed is 7.499999992433004e-05s\n",
      "Time consumed is 9.99999883788405e-07s\n",
      "Time consumed is 0.00015080000002853922s\n",
      "Time consumed is 7.000001005508238e-07s\n",
      "Time consumed is 7.999999525054591e-07s\n",
      "Time consumed is 7.570000002488086e-05s\n",
      "Time consumed is 0.0005926999999701366s\n",
      "Time consumed is 0.0011981999998624815s\n",
      "Time consumed is 1.0999999631167157e-06s\n",
      "Time consumed is 9.99999883788405e-07s\n",
      "Time consumed is 8.109999998850981e-05s\n",
      "Time consumed is 9.000000318337698e-07s\n",
      "Time consumed is 0.00015680000001339067s\n",
      "Time consumed is 9.000000318337698e-07s\n",
      "Time consumed is 9.99999883788405e-07s\n",
      "Time consumed is 7.679999998799758e-05s\n",
      "Time consumed is 0.00030690000016875274s\n",
      "Time consumed is 7.999999525054591e-07s\n",
      "Time consumed is 9.000000318337698e-07s\n",
      "Time consumed is 9.159999990515644e-05s\n",
      "Time consumed is 7.999999525054591e-07s\n",
      "Time consumed is 0.00016819999996187107s\n",
      "Time consumed is 0.0005487999999331805s\n",
      "Time consumed is 0.0018184000000474043s\n",
      "Time consumed is 9.000000318337698e-07s\n",
      "Time consumed is 1.0999999631167157e-06s\n",
      "Time consumed is 0.00044509999997899286s\n",
      "Time consumed is 7.000001005508238e-07s\n",
      "Time consumed is 0.0005495000000337313s\n",
      "Time consumed is 9.99999883788405e-07s\n",
      "Time consumed is 1.0000001111620804e-06s\n",
      "Time consumed is 0.00011570000015126425s\n",
      "Time consumed is 0.000774899999896661s\n",
      "Time consumed is 9.000000318337698e-07s\n",
      "Time consumed is 1.0000001111620804e-06s\n",
      "Time consumed is 7.929999992484227e-05s\n",
      "Time consumed is 9.99999883788405e-07s\n",
      "Time consumed is 0.0001584999999977299s\n",
      "Time consumed is 0.0010121000000253844s\n",
      "Time consumed is 9.000000318337698e-07s\n",
      "Time consumed is 1.2999998943996616e-06s\n",
      "Time consumed is 0.00035720000005312613s\n",
      "Time consumed is 1.100000190490391e-06s\n",
      "Time consumed is 0.00045069999987390474s\n",
      "Time consumed is 6.000000212225132e-07s\n",
      "Time consumed is 3.099999958067201e-06s\n",
      "Time consumed is 0.00011160000008203497s\n",
      "Time consumed is 0.0006659000000581727s\n",
      "Time consumed is 0.0017620000000988512s\n",
      "Time consumed is 0.0036654999998972926s\n",
      "Time consumed is 5.000001692678779e-07s\n",
      "Time consumed is 1.100000190490391e-06s\n",
      "Time consumed is 9.709999994811369e-05s\n",
      "Time consumed is 1.0999999631167157e-06s\n",
      "Time consumed is 0.0001942999999755557s\n",
      "Time consumed is 9.000000318337698e-07s\n",
      "Time consumed is 1.0000001111620804e-06s\n",
      "Time consumed is 0.0003071000001000357s\n",
      "Time consumed is 0.0005971999999019317s\n",
      "Time consumed is 9.000000318337698e-07s\n",
      "Time consumed is 8.999998044600943e-07s\n",
      "Time consumed is 8.280000020022271e-05s\n",
      "Time consumed is 7.999999525054591e-07s\n",
      "Time consumed is 0.00015239999993355013s\n",
      "Time consumed is 0.0009611999998924148s\n",
      "Time consumed is 7.999999525054591e-07s\n",
      "Time consumed is 7.999999525054591e-07s\n",
      "Time consumed is 8.019999995667604e-05s\n",
      "Time consumed is 1.100000190490391e-06s\n",
      "Time consumed is 0.00017030000003614987s\n",
      "Time consumed is 9.000000318337698e-07s\n",
      "Time consumed is 9.99999883788405e-07s\n",
      "Time consumed is 0.00011979999999311985s\n",
      "Time consumed is 0.0006914000000506348s\n",
      "Time consumed is 0.0017410000000381842s\n",
      "Time consumed is 9.000000318337698e-07s\n",
      "Time consumed is 9.000000318337698e-07s\n",
      "Time consumed is 0.00011450000010881922s\n",
      "Time consumed is 9.000000318337698e-07s\n",
      "Time consumed is 0.00022650000005342008s\n",
      "Time consumed is 7.999999525054591e-07s\n",
      "Time consumed is 9.99999883788405e-07s\n",
      "Time consumed is 0.0001142999999501626s\n",
      "Time consumed is 0.0004501000000800559s\n",
      "Time consumed is 6.999998731771484e-07s\n",
      "Time consumed is 7.999999525054591e-07s\n",
      "Time consumed is 9.350000004815229e-05s\n",
      "Time consumed is 1.300000121773337e-06s\n",
      "Time consumed is 0.0003991000000951317s\n",
      "Time consumed is 0.0009555999999975029s\n",
      "Time consumed is 0.0028108999999858497s\n",
      "Time consumed is 0.0065778999999110965s\n",
      "Time consumed is 0.02177080000001297s\n",
      "Time consumed is 1.0999999631167157e-06s\n",
      "Time consumed is 1.2000000424450263e-06s\n",
      "Time consumed is 0.00011810000000878063s\n",
      "Time consumed is 1.0999999631167157e-06s\n",
      "Time consumed is 0.0002362999998695159s\n",
      "Time consumed is 1.0000001111620804e-06s\n",
      "Time consumed is 1.199999815071351e-06s\n",
      "Time consumed is 0.00012600000013662793s\n",
      "Time consumed is 0.001341099999990547s\n",
      "Time consumed is 9.99999883788405e-07s\n",
      "Time consumed is 1.0999999631167157e-06s\n",
      "Time consumed is 0.00012600000013662793s\n",
      "Time consumed is 1.0999999631167157e-06s\n",
      "Time consumed is 0.0002412000001186243s\n",
      "Time consumed is 0.001963400000022375s\n",
      "Time consumed is 1.0000001111620804e-06s\n",
      "Time consumed is 1.0999999631167157e-06s\n",
      "Time consumed is 0.00011400000016692502s\n",
      "Time consumed is 1.0999999631167157e-06s\n",
      "Time consumed is 0.0002114999999776046s\n",
      "Time consumed is 7.999999525054591e-07s\n",
      "Time consumed is 9.99999883788405e-07s\n",
      "Time consumed is 9.900000009110954e-05s\n",
      "Time consumed is 0.00040719999992688827s\n",
      "Time consumed is 0.0024760999999671185s\n",
      "Time consumed is 6.000000212225132e-07s\n",
      "Time consumed is 7.999999525054591e-07s\n",
      "Time consumed is 0.00022530000001097505s\n",
      "Time consumed is 1.0000001111620804e-06s\n",
      "Time consumed is 0.0003215999997792096s\n",
      "Time consumed is 8.000001798791345e-07s\n",
      "Time consumed is 1.0999999631167157e-06s\n",
      "Time consumed is 9.790000012799283e-05s\n",
      "Time consumed is 0.000514500000008411s\n",
      "Time consumed is 7.999999525054591e-07s\n",
      "Time consumed is 1.100000190490391e-06s\n",
      "Time consumed is 0.00010470000006534974s\n",
      "Time consumed is 1.0999999631167157e-06s\n",
      "Time consumed is 0.00020150000000285218s\n",
      "Time consumed is 0.0008176000001185457s\n",
      "Time consumed is 0.0033880999999382766s\n",
      "Time consumed is 4.999999418942025e-07s\n",
      "Time consumed is 2.7999999474559445e-06s\n",
      "Time consumed is 0.00023360000000138825s\n",
      "Time consumed is 1.100000190490391e-06s\n",
      "Time consumed is 0.0003457000000253174s\n",
      "Time consumed is 9.000000318337698e-07s\n",
      "Time consumed is 1.199999815071351e-06s\n",
      "Time consumed is 0.0001029000000016822s\n",
      "Time consumed is 0.0005492000000231201s\n",
      "Time consumed is 7.299999879251118e-06s\n",
      "Time consumed is 1.0999999631167157e-06s\n",
      "Time consumed is 0.00010739999993347737s\n",
      "Time consumed is 1.0999999631167157e-06s\n",
      "Time consumed is 0.00020410000001902517s\n",
      "Time consumed is 0.000853000000006432s\n",
      "Time consumed is 6.999998731771484e-07s\n",
      "Time consumed is 1.0999999631167157e-06s\n",
      "Time consumed is 9.730000010677031e-05s\n",
      "Time consumed is 9.99999883788405e-07s\n",
      "Time consumed is 0.00019500000007610652s\n",
      "Time consumed is 7.000001005508238e-07s\n",
      "Time consumed is 1.0000001111620804e-06s\n",
      "Time consumed is 0.00011150000000270666s\n",
      "Time consumed is 0.0005256999997982348s\n",
      "Time consumed is 0.0014719000000695814s\n",
      "Time consumed is 0.005067099999905622s\n",
      "Time consumed is 4.999999418942025e-07s\n",
      "Time consumed is 8.999998044600943e-07s\n",
      "Time consumed is 0.00010590000010779477s\n",
      "Time consumed is 9.99999883788405e-07s\n",
      "Time consumed is 0.0001983999998174113s\n",
      "Time consumed is 8.000001798791345e-07s\n",
      "Time consumed is 9.99999883788405e-07s\n",
      "Time consumed is 9.440000007998606e-05s\n",
      "Time consumed is 0.00038519999998243293s\n",
      "Time consumed is 6.000000212225132e-07s\n",
      "Time consumed is 9.99999883788405e-07s\n",
      "Time consumed is 9.379999983138987e-05s\n",
      "Time consumed is 9.99999883788405e-07s\n",
      "Time consumed is 0.00030319999996208935s\n",
      "Time consumed is 0.0007792000001245469s\n",
      "Time consumed is 7.000001005508238e-07s\n",
      "Time consumed is 1.0000001111620804e-06s\n",
      "Time consumed is 9.390000013809185e-05s\n",
      "Time consumed is 1.0000001111620804e-06s\n",
      "Time consumed is 0.0001882000001387496s\n",
      "Time consumed is 6.999998731771484e-07s\n",
      "Time consumed is 1.0999999631167157e-06s\n",
      "Time consumed is 0.00010910000014519028s\n",
      "Time consumed is 0.0003887000000304397s\n",
      "Time consumed is 0.0012587000001076376s\n",
      "Time consumed is 4.999999418942025e-07s\n",
      "Time consumed is 1.0000001111620804e-06s\n",
      "Time consumed is 9.269999986827315e-05s\n",
      "Time consumed is 9.000000318337698e-07s\n",
      "Time consumed is 0.00018720000002758752s\n",
      "Time consumed is 9.000000318337698e-07s\n",
      "Time consumed is 1.0999999631167157e-06s\n",
      "Time consumed is 9.450000015931437e-05s\n",
      "Time consumed is 0.0005060000000867149s\n",
      "Time consumed is 7.000001005508238e-07s\n",
      "Time consumed is 1.0999999631167157e-06s\n",
      "Time consumed is 9.820000013860408e-05s\n",
      "Time consumed is 1.0999999631167157e-06s\n",
      "Time consumed is 0.00019629999997050618s\n",
      "Time consumed is 0.000797099999999773s\n",
      "Time consumed is 0.002299499999935506s\n",
      "Time consumed is 0.0074631000002227665s\n",
      "Time consumed is 1.0000001111620804e-06s\n",
      "Time consumed is 1.0999999631167157e-06s\n",
      "Time consumed is 9.10000001113076e-05s\n",
      "Time consumed is 1.0000001111620804e-06s\n",
      "Time consumed is 0.00017139999999926658s\n",
      "Time consumed is 1.0000001111620804e-06s\n",
      "Time consumed is 1.2000000424450263e-06s\n",
      "Time consumed is 0.0026225999999951455s\n",
      "Time consumed is 0.003047799999876588s\n",
      "Time consumed is 7.999999525054591e-07s\n",
      "Time consumed is 1.0999999631167157e-06s\n",
      "Time consumed is 9.569999997438572e-05s\n",
      "Time consumed is 1.0000001111620804e-06s\n",
      "Time consumed is 0.00017699999989417847s\n",
      "Time consumed is 0.0032980000000861764s\n",
      "Time consumed is 9.99999883788405e-07s\n",
      "Time consumed is 9.000000318337698e-07s\n",
      "Time consumed is 7.909999999355932e-05s\n",
      "Time consumed is 1.0999999631167157e-06s\n",
      "Time consumed is 0.00017649999995228427s\n",
      "Time consumed is 9.000000318337698e-07s\n",
      "Time consumed is 7.999999525054591e-07s\n",
      "Time consumed is 7.940000000417058e-05s\n",
      "Time consumed is 0.00033020000000760774s\n",
      "Time consumed is 0.0037019000001237146s\n",
      "Time consumed is 8.000001798791345e-07s\n",
      "Time consumed is 1.2000000424450263e-06s\n",
      "Time consumed is 7.890000006227638e-05s\n",
      "Time consumed is 1.0000001111620804e-06s\n",
      "Time consumed is 0.000158100000135164s\n",
      "Time consumed is 1.2000000424450263e-06s\n",
      "Time consumed is 9.99999883788405e-07s\n",
      "Time consumed is 0.00010210000004917674s\n",
      "Time consumed is 0.011641900000086025s\n",
      "Time consumed is 1.0000001111620804e-06s\n",
      "Time consumed is 1.2000000424450263e-06s\n",
      "Time consumed is 8.100000013655517e-05s\n",
      "Time consumed is 7.999999525054591e-07s\n",
      "Time consumed is 0.00015950000010889198s\n",
      "Time consumed is 0.011878400000114198s\n",
      "Time consumed is 0.01565559999994548s\n",
      "Time consumed is 9.99999883788405e-07s\n",
      "Time consumed is 1.0000001111620804e-06s\n",
      "Time consumed is 8.01000001047214e-05s\n",
      "Time consumed is 1.0000001111620804e-06s\n",
      "Time consumed is 0.00015799999982846202s\n",
      "Time consumed is 7.999999525054591e-07s\n",
      "Time consumed is 1.0999999631167157e-06s\n",
      "Time consumed is 8.039999988795898e-05s\n",
      "Time consumed is 0.00031360000002678134s\n",
      "Time consumed is 9.000000318337698e-07s\n",
      "Time consumed is 1.0000001111620804e-06s\n",
      "Time consumed is 7.840000012038217e-05s\n",
      "Time consumed is 1.2000000424450263e-06s\n",
      "Time consumed is 0.0005810000000110449s\n",
      "Time consumed is 0.000991500000054657s\n",
      "Time consumed is 7.000001005508238e-07s\n",
      "Time consumed is 6.999998731771484e-07s\n",
      "Time consumed is 7.540000001426961e-05s\n",
      "Time consumed is 8.999998044600943e-07s\n",
      "Time consumed is 0.00017170000000987784s\n",
      "Time consumed is 6.000000212225132e-07s\n",
      "Time consumed is 9.000000318337698e-07s\n",
      "Time consumed is 7.899999991423101e-05s\n",
      "Time consumed is 0.0003143999999792868s\n",
      "Time consumed is 0.0014149000000998058s\n",
      "Time consumed is 0.017165299999987838s\n",
      "Time consumed is 0.02492800000004536s\n",
      "Time consumed is 0.04681720000007772s\n"
     ]
    },
    {
     "data": {
      "text/plain": [
       "233"
      ]
     },
     "execution_count": 15,
     "metadata": {},
     "output_type": "execute_result"
    }
   ],
   "source": [
    "@timed\n",
    "def fibonacci(n):\n",
    "    \n",
    "    # base case\n",
    "    if n <= 2:\n",
    "        return 1\n",
    "    else:\n",
    "        return fibonacci(n-1) + fibonacci(n-2)\n",
    "    \n",
    "fibonacci(13)"
   ]
  },
  {
   "cell_type": "code",
   "execution_count": null,
   "id": "0b4ffbc8",
   "metadata": {},
   "outputs": [],
   "source": []
  },
  {
   "cell_type": "code",
   "execution_count": null,
   "id": "a269cff8",
   "metadata": {},
   "outputs": [],
   "source": []
  },
  {
   "cell_type": "code",
   "execution_count": null,
   "id": "03e5be8c",
   "metadata": {},
   "outputs": [],
   "source": []
  },
  {
   "cell_type": "code",
   "execution_count": null,
   "id": "b53aff62",
   "metadata": {},
   "outputs": [],
   "source": []
  },
  {
   "cell_type": "code",
   "execution_count": null,
   "id": "469f5c67",
   "metadata": {},
   "outputs": [],
   "source": []
  }
 ],
 "metadata": {
  "kernelspec": {
   "display_name": "Python 3 (ipykernel)",
   "language": "python",
   "name": "python3"
  },
  "language_info": {
   "codemirror_mode": {
    "name": "ipython",
    "version": 3
   },
   "file_extension": ".py",
   "mimetype": "text/x-python",
   "name": "python",
   "nbconvert_exporter": "python",
   "pygments_lexer": "ipython3",
   "version": "3.9.12"
  }
 },
 "nbformat": 4,
 "nbformat_minor": 5
}
