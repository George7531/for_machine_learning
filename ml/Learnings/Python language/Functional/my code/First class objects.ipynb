{
 "cells": [
  {
   "cell_type": "markdown",
   "id": "b3608d81",
   "metadata": {},
   "source": [
    "# day 299,day 302"
   ]
  },
  {
   "cell_type": "code",
   "execution_count": 10,
   "id": "77b2fd77",
   "metadata": {},
   "outputs": [
    {
     "data": {
      "text/html": [
       "\n",
       "        <iframe\n",
       "            width=\"1000\"\n",
       "            height=\"500\"\n",
       "            src=\"02+-+Docstrings+and+Annotations.pdf\"\n",
       "            frameborder=\"0\"\n",
       "            allowfullscreen\n",
       "            \n",
       "        ></iframe>\n",
       "        "
      ],
      "text/plain": [
       "<IPython.lib.display.IFrame at 0x111d59a7ca0>"
      ]
     },
     "execution_count": 10,
     "metadata": {},
     "output_type": "execute_result"
    }
   ],
   "source": [
    "from IPython.display import IFrame\n",
    "IFrame(src='02+-+Docstrings+and+Annotations.pdf',height=500,width=1000)"
   ]
  },
  {
   "cell_type": "markdown",
   "id": "a60835ad",
   "metadata": {},
   "source": [
    "# exemplefying that func.__doc__ returns the strings we use to define what the function does."
   ]
  },
  {
   "cell_type": "code",
   "execution_count": 7,
   "id": "99034e72",
   "metadata": {},
   "outputs": [
    {
     "name": "stdout",
     "output_type": "stream",
     "text": [
      "george\n"
     ]
    }
   ],
   "source": [
    "def test(a='geto'):\n",
    "    \n",
    "    \"\"\"\n",
    "    this function returns some infantshit!!!\n",
    "    \n",
    "    \"\"\"\n",
    "    print(a)\n",
    "    \n",
    "    \n",
    "test(a='george')"
   ]
  },
  {
   "cell_type": "code",
   "execution_count": 8,
   "id": "27fbfe0d",
   "metadata": {},
   "outputs": [
    {
     "data": {
      "text/plain": [
       "'\\n    this function returns some infantshit!!!\\n    \\n    '"
      ]
     },
     "execution_count": 8,
     "metadata": {},
     "output_type": "execute_result"
    }
   ],
   "source": [
    "test.__doc__"
   ]
  },
  {
   "cell_type": "markdown",
   "id": "a5e68c91",
   "metadata": {},
   "source": [
    "# using help() function to access the explanation of a function"
   ]
  },
  {
   "cell_type": "code",
   "execution_count": 9,
   "id": "750fabc7",
   "metadata": {},
   "outputs": [
    {
     "name": "stdout",
     "output_type": "stream",
     "text": [
      "Help on function test in module __main__:\n",
      "\n",
      "test(a='geto')\n",
      "    this function returns some infantshit!!!\n",
      "\n"
     ]
    }
   ],
   "source": [
    "help(test)"
   ]
  },
  {
   "cell_type": "code",
   "execution_count": null,
   "id": "0950e0b7",
   "metadata": {},
   "outputs": [],
   "source": []
  },
  {
   "cell_type": "markdown",
   "id": "1f718361",
   "metadata": {},
   "source": [
    "# pep3107 function defining style"
   ]
  },
  {
   "cell_type": "code",
   "execution_count": 7,
   "id": "bc92fd0a",
   "metadata": {},
   "outputs": [
    {
     "name": "stdout",
     "output_type": "stream",
     "text": [
      "Hello George! Welcome to the Zoophiliac wonderland under 26 category.\n"
     ]
    }
   ],
   "source": [
    "def welcome_message(name:'string',age:'a positive integer') -> 'a string':\n",
    "    print(\"Hello {0}! Welcome to the Zoophiliac wonderland under {1} category.\".format(name,age))\n",
    "    \n",
    "welcome_message(name='George',age=26)"
   ]
  },
  {
   "cell_type": "markdown",
   "id": "63635726",
   "metadata": {},
   "source": [
    "# conclusion: Don't concentrate on the message but look at the way we defined the function"
   ]
  },
  {
   "cell_type": "code",
   "execution_count": 8,
   "id": "ef4b3e30",
   "metadata": {},
   "outputs": [
    {
     "name": "stdout",
     "output_type": "stream",
     "text": [
      "Help on function welcome_message in module __main__:\n",
      "\n",
      "welcome_message(name: 'string', age: 'a positive integer') -> 'a string'\n",
      "\n"
     ]
    }
   ],
   "source": [
    "help(welcome_message)"
   ]
  },
  {
   "cell_type": "code",
   "execution_count": 9,
   "id": "1dc3b2ad",
   "metadata": {},
   "outputs": [],
   "source": [
    "# but .__doc__ is empty ?\n",
    "welcome_message.__doc__"
   ]
  },
  {
   "cell_type": "markdown",
   "id": "57a747ca",
   "metadata": {},
   "source": [
    "# then where does the small descriptions go that our help function is able to pull out?\n",
    "\n",
    "* well, they are stored in the dundar annotations property of the function\n"
   ]
  },
  {
   "cell_type": "code",
   "execution_count": 12,
   "id": "4fc64bdf",
   "metadata": {},
   "outputs": [
    {
     "data": {
      "text/plain": [
       "{'name': 'string', 'age': 'a positive integer', 'return': 'a string'}"
      ]
     },
     "execution_count": 12,
     "metadata": {},
     "output_type": "execute_result"
    }
   ],
   "source": [
    "welcome_message.__annotations__"
   ]
  },
  {
   "cell_type": "markdown",
   "id": "0563bdc3",
   "metadata": {},
   "source": [
    "# document your code! use annotations as much as possible! help your future selves!!!"
   ]
  },
  {
   "cell_type": "code",
   "execution_count": null,
   "id": "9d6337db",
   "metadata": {},
   "outputs": [],
   "source": []
  },
  {
   "cell_type": "markdown",
   "id": "ad3cb7ab",
   "metadata": {},
   "source": [
    "# Lambda Expressions\n",
    "\n",
    "* these are called anonymous functions\n",
    "* they only take a single expression.\n",
    "* they don't take assignments inside.\n",
    "* they don't take function annotations."
   ]
  },
  {
   "cell_type": "code",
   "execution_count": 13,
   "id": "50fca2f2",
   "metadata": {},
   "outputs": [
    {
     "data": {
      "text/html": [
       "\n",
       "        <iframe\n",
       "            width=\"1000\"\n",
       "            height=\"500\"\n",
       "            src=\"04+-+Lambda+Expressions.pdf\"\n",
       "            frameborder=\"0\"\n",
       "            allowfullscreen\n",
       "            \n",
       "        ></iframe>\n",
       "        "
      ],
      "text/plain": [
       "<IPython.lib.display.IFrame at 0x111d6ce2190>"
      ]
     },
     "execution_count": 13,
     "metadata": {},
     "output_type": "execute_result"
    }
   ],
   "source": [
    "from IPython.display import IFrame\n",
    "IFrame(src='04+-+Lambda+Expressions.pdf',height=500,width=1000)"
   ]
  },
  {
   "cell_type": "code",
   "execution_count": 20,
   "id": "9aa216fa",
   "metadata": {},
   "outputs": [
    {
     "data": {
      "text/plain": [
       "9"
      ]
     },
     "execution_count": 20,
     "metadata": {},
     "output_type": "execute_result"
    }
   ],
   "source": [
    "func = lambda x:x**2 \n",
    "func(3)\n"
   ]
  },
  {
   "cell_type": "code",
   "execution_count": 21,
   "id": "e44e8904",
   "metadata": {},
   "outputs": [
    {
     "data": {
      "text/plain": [
       "8"
      ]
     },
     "execution_count": 21,
     "metadata": {},
     "output_type": "execute_result"
    }
   ],
   "source": [
    "func = lambda x,y:x+y\n",
    "func(5,3)"
   ]
  },
  {
   "cell_type": "code",
   "execution_count": 22,
   "id": "fc0861a8",
   "metadata": {},
   "outputs": [
    {
     "data": {
      "text/plain": [
       "'Hello'"
      ]
     },
     "execution_count": 22,
     "metadata": {},
     "output_type": "execute_result"
    }
   ],
   "source": [
    "func = lambda :'Hello'\n",
    "\n",
    "func()"
   ]
  },
  {
   "cell_type": "markdown",
   "id": "cf2d6386",
   "metadata": {},
   "source": [
    "# assingments don't work in lambda"
   ]
  },
  {
   "cell_type": "code",
   "execution_count": 23,
   "id": "dd4843bf",
   "metadata": {},
   "outputs": [
    {
     "ename": "SyntaxError",
     "evalue": "cannot assign to lambda (1791740430.py, line 3)",
     "output_type": "error",
     "traceback": [
      "\u001b[1;36m  Input \u001b[1;32mIn [23]\u001b[1;36m\u001b[0m\n\u001b[1;33m    func = lambda x: x = 5\u001b[0m\n\u001b[1;37m           ^\u001b[0m\n\u001b[1;31mSyntaxError\u001b[0m\u001b[1;31m:\u001b[0m cannot assign to lambda\n"
     ]
    }
   ],
   "source": [
    "\n",
    "\n",
    "func = lambda x: x = 5\n",
    "\n",
    "func()"
   ]
  },
  {
   "cell_type": "code",
   "execution_count": null,
   "id": "2f4b1111",
   "metadata": {},
   "outputs": [],
   "source": []
  },
  {
   "cell_type": "markdown",
   "id": "d18758c5",
   "metadata": {},
   "source": [
    "# day 304"
   ]
  },
  {
   "cell_type": "code",
   "execution_count": 1,
   "id": "80b49748",
   "metadata": {},
   "outputs": [
    {
     "data": {
      "text/plain": [
       "12"
      ]
     },
     "execution_count": 1,
     "metadata": {},
     "output_type": "execute_result"
    }
   ],
   "source": [
    "# double assignments(one keyword argument) using lambda expression.\n",
    "f = lambda x,y=1:x*y\n",
    "\n",
    "f(3,4)"
   ]
  },
  {
   "cell_type": "code",
   "execution_count": 2,
   "id": "36451434",
   "metadata": {},
   "outputs": [
    {
     "data": {
      "text/plain": [
       "3"
      ]
     },
     "execution_count": 2,
     "metadata": {},
     "output_type": "execute_result"
    }
   ],
   "source": [
    "f(3)"
   ]
  },
  {
   "cell_type": "code",
   "execution_count": 3,
   "id": "29d22c34",
   "metadata": {},
   "outputs": [
    {
     "data": {
      "text/plain": [
       "('George', 'kundi', 'kusi', (1, 2, 3), {'George': 99})"
      ]
     },
     "execution_count": 3,
     "metadata": {},
     "output_type": "execute_result"
    }
   ],
   "source": [
    "# passing in args and kwargs in lambda expression\n",
    "\n",
    "f = lambda x,*args,y,z,**kwargs: (x,y,z,args,kwargs)\n",
    "\n",
    "f('George',1,2,3,y='kundi',z='kusi',George=99)"
   ]
  },
  {
   "cell_type": "code",
   "execution_count": 6,
   "id": "549f46fd",
   "metadata": {},
   "outputs": [
    {
     "data": {
      "text/plain": [
       "6"
      ]
     },
     "execution_count": 6,
     "metadata": {},
     "output_type": "execute_result"
    }
   ],
   "source": [
    "f = lambda x,*,y=1: x+y\n",
    "\n",
    "f(5)"
   ]
  },
  {
   "cell_type": "code",
   "execution_count": 10,
   "id": "8efffeb5",
   "metadata": {},
   "outputs": [
    {
     "data": {
      "text/plain": [
       "11"
      ]
     },
     "execution_count": 10,
     "metadata": {},
     "output_type": "execute_result"
    }
   ],
   "source": [
    "f(5,y=6)"
   ]
  },
  {
   "cell_type": "code",
   "execution_count": 11,
   "id": "0dd215be",
   "metadata": {},
   "outputs": [
    {
     "data": {
      "text/plain": [
       "11"
      ]
     },
     "execution_count": 11,
     "metadata": {},
     "output_type": "execute_result"
    }
   ],
   "source": [
    "f(5,y=f(5))"
   ]
  },
  {
   "cell_type": "code",
   "execution_count": null,
   "id": "abd28cb9",
   "metadata": {},
   "outputs": [],
   "source": []
  },
  {
   "cell_type": "markdown",
   "id": "25f9abb3",
   "metadata": {},
   "source": [
    "# sorting and lambda:\n",
    "\n"
   ]
  },
  {
   "cell_type": "code",
   "execution_count": 12,
   "id": "66497f01",
   "metadata": {},
   "outputs": [
    {
     "data": {
      "text/plain": [
       "['A', 'B', 'c', 'g']"
      ]
     },
     "execution_count": 12,
     "metadata": {},
     "output_type": "execute_result"
    }
   ],
   "source": [
    "a = ['g','B','A','c']\n",
    "\n",
    "sorted(a,key=lambda x:x.lower()) # inplace sorting"
   ]
  },
  {
   "cell_type": "code",
   "execution_count": 15,
   "id": "fdc8ca59",
   "metadata": {},
   "outputs": [
    {
     "data": {
      "text/plain": [
       "['c', 'e', 'b', 'd', 'a']"
      ]
     },
     "execution_count": 15,
     "metadata": {},
     "output_type": "execute_result"
    }
   ],
   "source": [
    "# sort the dic keys based on values\n",
    "\n",
    "\"\"\"\n",
    "explanation:\n",
    "dic has all the elements (both keys and values)\n",
    "x has only the keys of the dic\n",
    "you put the x inside the dic[x] to get its values\n",
    "so you sort the dic based on its values.\n",
    "\"\"\"\n",
    "\n",
    "dic = {'a':500,'b':200,'c':50,'d': 450,'e':80}\n",
    "sorted(dic,key=lambda x: dic[x]) \n",
    "\n",
    "\n"
   ]
  },
  {
   "cell_type": "code",
   "execution_count": 19,
   "id": "6282582f",
   "metadata": {},
   "outputs": [
    {
     "data": {
      "text/plain": [
       "['george',\n",
       " 'ashe',\n",
       " 'penelope',\n",
       " 'muthuraj',\n",
       " 'vann',\n",
       " 'fran',\n",
       " 'john',\n",
       " 'balthier',\n",
       " 'gladiator',\n",
       " 'ignis',\n",
       " 'noctis']"
      ]
     },
     "execution_count": 19,
     "metadata": {},
     "output_type": "execute_result"
    }
   ],
   "source": [
    "l = ['george','muthuraj','ashe','vann','balthier','fran','penelope','ignis','noctis','gladiator','john']\n",
    "\n",
    "# sort by the last letter\n",
    "sorted(l,key=lambda x:x[-1])"
   ]
  },
  {
   "cell_type": "code",
   "execution_count": 48,
   "id": "a8d32049",
   "metadata": {},
   "outputs": [
    {
     "data": {
      "text/plain": [
       "['lava',\n",
       " 'samsung',\n",
       " 'karbonn',\n",
       " 'vivo',\n",
       " 'zen',\n",
       " 'one_plus',\n",
       " 'apple',\n",
       " 'huawei',\n",
       " 'java',\n",
       " 'nokia',\n",
       " 'iqoo',\n",
       " 'oppo',\n",
       " 'xiomi',\n",
       " 'redmi']"
      ]
     },
     "execution_count": 48,
     "metadata": {},
     "output_type": "execute_result"
    }
   ],
   "source": [
    "# challenge: randomize an iterable using sorted\n",
    "lis = ['apple','nokia','samsung','lava','vivo','oppo','redmi','xiomi','huawei','iqoo','karbonn','java','one_plus','zen']\n",
    "\n",
    "import numpy as np\n",
    "sorted(lis,key=lambda x:lis[int(np.random.rand()*10)])"
   ]
  },
  {
   "cell_type": "code",
   "execution_count": 50,
   "id": "3a3f87dd",
   "metadata": {},
   "outputs": [
    {
     "data": {
      "text/plain": [
       "['one_plus',\n",
       " 'vivo',\n",
       " 'redmi',\n",
       " 'huawei',\n",
       " 'apple',\n",
       " 'samsung',\n",
       " 'nokia',\n",
       " 'iqoo',\n",
       " 'zen',\n",
       " 'xiomi',\n",
       " 'lava',\n",
       " 'java',\n",
       " 'oppo',\n",
       " 'karbonn']"
      ]
     },
     "execution_count": 50,
     "metadata": {},
     "output_type": "execute_result"
    }
   ],
   "source": [
    "# it does the same job\n",
    "sorted(lis,key=lambda x:np.random.rand())"
   ]
  },
  {
   "cell_type": "code",
   "execution_count": 37,
   "id": "1be42d74",
   "metadata": {},
   "outputs": [
    {
     "data": {
      "text/plain": [
       "array(['samsung', 'huawei', 'vivo', 'zen', 'oppo', 'oppo', 'zen', 'java',\n",
       "       'karbonn', 'iqoo', 'nokia', 'karbonn', 'lava', 'redmi'],\n",
       "      dtype='<U8')"
      ]
     },
     "execution_count": 37,
     "metadata": {},
     "output_type": "execute_result"
    }
   ],
   "source": [
    "# it also does the same job.\n",
    "np.random.choice(lis,len(lis))"
   ]
  },
  {
   "cell_type": "code",
   "execution_count": 45,
   "id": "353a4f6a",
   "metadata": {},
   "outputs": [
    {
     "data": {
      "text/plain": [
       "2"
      ]
     },
     "execution_count": 45,
     "metadata": {},
     "output_type": "execute_result"
    }
   ],
   "source": [
    "int(np.random.rand()*10)"
   ]
  },
  {
   "cell_type": "code",
   "execution_count": null,
   "id": "bb9482f3",
   "metadata": {},
   "outputs": [],
   "source": []
  },
  {
   "cell_type": "markdown",
   "id": "13295dea",
   "metadata": {},
   "source": [
    "# day 314"
   ]
  },
  {
   "cell_type": "code",
   "execution_count": 1,
   "id": "22508a86",
   "metadata": {},
   "outputs": [
    {
     "data": {
      "text/html": [
       "\n",
       "        <iframe\n",
       "            width=\"1000\"\n",
       "            height=\"500\"\n",
       "            src=\"08+-+Function+Introspection.pdf\"\n",
       "            frameborder=\"0\"\n",
       "            allowfullscreen\n",
       "            \n",
       "        ></iframe>\n",
       "        "
      ],
      "text/plain": [
       "<IPython.lib.display.IFrame at 0x1b409b63ac0>"
      ]
     },
     "execution_count": 1,
     "metadata": {},
     "output_type": "execute_result"
    }
   ],
   "source": [
    "from IPython.display import IFrame\n",
    "IFrame(src='08+-+Function+Introspection.pdf',height=500,width=1000)"
   ]
  },
  {
   "cell_type": "code",
   "execution_count": 107,
   "id": "03ea9621",
   "metadata": {},
   "outputs": [],
   "source": [
    "def func(a,b,*,c=5): # the central * is to indicate 'no more postional arguments are allowed!!! '\n",
    "    return a+b+c\n"
   ]
  },
  {
   "cell_type": "code",
   "execution_count": 108,
   "id": "809aa27f",
   "metadata": {},
   "outputs": [],
   "source": [
    "func.category = 'it perfroms addition'"
   ]
  },
  {
   "cell_type": "code",
   "execution_count": 109,
   "id": "2b9fd182",
   "metadata": {},
   "outputs": [
    {
     "name": "stdout",
     "output_type": "stream",
     "text": [
      "it perfroms addition\n"
     ]
    }
   ],
   "source": [
    "print(func.category)"
   ]
  },
  {
   "cell_type": "code",
   "execution_count": 110,
   "id": "cef8dfde",
   "metadata": {},
   "outputs": [],
   "source": [
    "func.dick = 'fjsf'"
   ]
  },
  {
   "cell_type": "code",
   "execution_count": 111,
   "id": "a6513159",
   "metadata": {},
   "outputs": [
    {
     "name": "stdout",
     "output_type": "stream",
     "text": [
      "fjsf\n"
     ]
    }
   ],
   "source": [
    "print(func.dick)"
   ]
  },
  {
   "cell_type": "code",
   "execution_count": 112,
   "id": "0185a155",
   "metadata": {},
   "outputs": [
    {
     "name": "stdout",
     "output_type": "stream",
     "text": [
      "ewww\n"
     ]
    }
   ],
   "source": [
    "func.robot = 'ewww'\n",
    "print(func.robot)"
   ]
  },
  {
   "cell_type": "code",
   "execution_count": 113,
   "id": "ab0a3374",
   "metadata": {},
   "outputs": [
    {
     "data": {
      "text/plain": [
       "'func'"
      ]
     },
     "execution_count": 113,
     "metadata": {},
     "output_type": "execute_result"
    }
   ],
   "source": [
    "func.__name__"
   ]
  },
  {
   "cell_type": "code",
   "execution_count": 114,
   "id": "a8d8f5c6",
   "metadata": {},
   "outputs": [
    {
     "ename": "AttributeError",
     "evalue": "'function' object has no attribute '__default__'",
     "output_type": "error",
     "traceback": [
      "\u001b[1;31m---------------------------------------------------------------------------\u001b[0m",
      "\u001b[1;31mAttributeError\u001b[0m                            Traceback (most recent call last)",
      "Input \u001b[1;32mIn [114]\u001b[0m, in \u001b[0;36m<cell line: 1>\u001b[1;34m()\u001b[0m\n\u001b[1;32m----> 1\u001b[0m \u001b[43mfunc\u001b[49m\u001b[38;5;241;43m.\u001b[39;49m\u001b[43m__default__\u001b[49m\n",
      "\u001b[1;31mAttributeError\u001b[0m: 'function' object has no attribute '__default__'"
     ]
    }
   ],
   "source": [
    "func.__default__"
   ]
  },
  {
   "cell_type": "code",
   "execution_count": 115,
   "id": "f3a10414",
   "metadata": {},
   "outputs": [],
   "source": [
    "func.__defaults__"
   ]
  },
  {
   "cell_type": "code",
   "execution_count": 116,
   "id": "1f6e2196",
   "metadata": {},
   "outputs": [
    {
     "data": {
      "text/plain": [
       "{'c': 5}"
      ]
     },
     "execution_count": 116,
     "metadata": {},
     "output_type": "execute_result"
    }
   ],
   "source": [
    "func.__kwdefaults__"
   ]
  },
  {
   "cell_type": "code",
   "execution_count": 118,
   "id": "343a6abe",
   "metadata": {},
   "outputs": [
    {
     "data": {
      "text/plain": [
       "['__annotations__',\n",
       " '__call__',\n",
       " '__class__',\n",
       " '__closure__',\n",
       " '__code__',\n",
       " '__defaults__',\n",
       " '__delattr__',\n",
       " '__dict__',\n",
       " '__dir__',\n",
       " '__doc__',\n",
       " '__eq__',\n",
       " '__format__',\n",
       " '__ge__',\n",
       " '__get__',\n",
       " '__getattribute__',\n",
       " '__globals__',\n",
       " '__gt__',\n",
       " '__hash__',\n",
       " '__init__',\n",
       " '__init_subclass__',\n",
       " '__kwdefaults__',\n",
       " '__le__',\n",
       " '__lt__',\n",
       " '__module__',\n",
       " '__name__',\n",
       " '__ne__',\n",
       " '__new__',\n",
       " '__qualname__',\n",
       " '__reduce__',\n",
       " '__reduce_ex__',\n",
       " '__repr__',\n",
       " '__setattr__',\n",
       " '__sizeof__',\n",
       " '__str__',\n",
       " '__subclasshook__',\n",
       " 'category',\n",
       " 'dick',\n",
       " 'robot']"
      ]
     },
     "execution_count": 118,
     "metadata": {},
     "output_type": "execute_result"
    }
   ],
   "source": [
    "dir(func) # these are all the attributes that are available on func"
   ]
  },
  {
   "cell_type": "markdown",
   "id": "0f23d4c3",
   "metadata": {},
   "source": [
    "## difference between a method and a function:\n",
    "\n",
    "* **An attribute that is callable is called the method** i.e np.concatenate() in that .concatenate() is a method.\n",
    "* An attribute that is non-callable is called the attribute.\n",
    "* you create the `method` with a `class` object\n",
    "* you create the `function` using `def`"
   ]
  },
  {
   "cell_type": "code",
   "execution_count": 35,
   "id": "da87c53a",
   "metadata": {},
   "outputs": [],
   "source": [
    "# creating a function\n",
    "def func(a,b):\n",
    "    return a+b    "
   ]
  },
  {
   "cell_type": "code",
   "execution_count": 29,
   "id": "e978a277",
   "metadata": {},
   "outputs": [
    {
     "data": {
      "text/plain": [
       "<__main__.myclass at 0x1c8c82edf40>"
      ]
     },
     "execution_count": 29,
     "metadata": {},
     "output_type": "execute_result"
    }
   ],
   "source": [
    "# creating a method\n",
    "class myclass:\n",
    "    def __init__(self,a=5,b=6,*args):\n",
    "        self.a = a\n",
    "        self.b = b\n",
    "    def add(self):\n",
    "        \"\"\"\n",
    "        adds two variable's values.\n",
    "        \"\"\"\n",
    "        return self.a + self.b\n",
    "        \n",
    "    \n",
    "my_obj = myclass(a=10,b=20)\n",
    "\n",
    "my_obj"
   ]
  },
  {
   "cell_type": "code",
   "execution_count": 24,
   "id": "20c60672",
   "metadata": {},
   "outputs": [
    {
     "data": {
      "text/plain": [
       "30"
      ]
     },
     "execution_count": 24,
     "metadata": {},
     "output_type": "execute_result"
    }
   ],
   "source": [
    "my_obj.add()"
   ]
  },
  {
   "cell_type": "code",
   "execution_count": 25,
   "id": "88ad0de9",
   "metadata": {},
   "outputs": [],
   "source": [
    "import inspect"
   ]
  },
  {
   "cell_type": "code",
   "execution_count": 26,
   "id": "8699b7a5",
   "metadata": {},
   "outputs": [
    {
     "data": {
      "text/plain": [
       "True"
      ]
     },
     "execution_count": 26,
     "metadata": {},
     "output_type": "execute_result"
    }
   ],
   "source": [
    "inspect.isfunction(myclass.add)"
   ]
  },
  {
   "cell_type": "code",
   "execution_count": 21,
   "id": "2483533e",
   "metadata": {},
   "outputs": [
    {
     "data": {
      "text/plain": [
       "<bound method myclass.add of <__main__.myclass object at 0x000001C8C827B9D0>>"
      ]
     },
     "execution_count": 21,
     "metadata": {},
     "output_type": "execute_result"
    }
   ],
   "source": [
    "my_obj.add"
   ]
  },
  {
   "cell_type": "code",
   "execution_count": 27,
   "id": "a7ae59ea",
   "metadata": {},
   "outputs": [
    {
     "data": {
      "text/plain": [
       "False"
      ]
     },
     "execution_count": 27,
     "metadata": {},
     "output_type": "execute_result"
    }
   ],
   "source": [
    "my_obj = myclass()\n",
    "inspect.isfunction(my_obj.add)"
   ]
  },
  {
   "cell_type": "code",
   "execution_count": 28,
   "id": "7b0e4f27",
   "metadata": {},
   "outputs": [
    {
     "data": {
      "text/plain": [
       "True"
      ]
     },
     "execution_count": 28,
     "metadata": {},
     "output_type": "execute_result"
    }
   ],
   "source": [
    "inspect.ismethod(my_obj.add)"
   ]
  },
  {
   "cell_type": "code",
   "execution_count": null,
   "id": "ea4fa35c",
   "metadata": {},
   "outputs": [],
   "source": []
  },
  {
   "cell_type": "code",
   "execution_count": 97,
   "id": "6a336f63",
   "metadata": {},
   "outputs": [],
   "source": [
    "def add(a=5,b=6):\n",
    "    def display(a=5,b=6):\n",
    "        print('A = %s, B=%s' %(a,b))\n",
    "    display()\n",
    "    return a+b\n",
    "\n",
    "    "
   ]
  },
  {
   "cell_type": "code",
   "execution_count": 98,
   "id": "829f583b",
   "metadata": {},
   "outputs": [
    {
     "name": "stdout",
     "output_type": "stream",
     "text": [
      "A = 5, B=6\n"
     ]
    },
    {
     "data": {
      "text/plain": [
       "11"
      ]
     },
     "execution_count": 98,
     "metadata": {},
     "output_type": "execute_result"
    }
   ],
   "source": [
    "obj = add()\n",
    "obj"
   ]
  },
  {
   "cell_type": "code",
   "execution_count": 99,
   "id": "d1767037",
   "metadata": {},
   "outputs": [
    {
     "data": {
      "text/plain": [
       "False"
      ]
     },
     "execution_count": 99,
     "metadata": {},
     "output_type": "execute_result"
    }
   ],
   "source": [
    "inspect.isfunction(obj)"
   ]
  },
  {
   "cell_type": "code",
   "execution_count": 100,
   "id": "c44076ef",
   "metadata": {},
   "outputs": [
    {
     "data": {
      "text/plain": [
       "False"
      ]
     },
     "execution_count": 100,
     "metadata": {},
     "output_type": "execute_result"
    }
   ],
   "source": [
    "inspect.ismethod(obj)"
   ]
  },
  {
   "cell_type": "code",
   "execution_count": 101,
   "id": "bdd8bafb",
   "metadata": {},
   "outputs": [
    {
     "data": {
      "text/plain": [
       "True"
      ]
     },
     "execution_count": 101,
     "metadata": {},
     "output_type": "execute_result"
    }
   ],
   "source": [
    "inspect.isfunction(add)"
   ]
  },
  {
   "cell_type": "markdown",
   "id": "17c274fe",
   "metadata": {},
   "source": [
    "# code investigation:\n",
    "* we can recover the source code of our functions/methods."
   ]
  },
  {
   "cell_type": "code",
   "execution_count": 32,
   "id": "fe54f3f8",
   "metadata": {},
   "outputs": [
    {
     "data": {
      "text/plain": [
       "'    def add(self):\\n        \"\"\"\\n        adds two variable\\'s values.\\n        \"\"\"\\n        return self.a + self.b\\n'"
      ]
     },
     "execution_count": 32,
     "metadata": {},
     "output_type": "execute_result"
    }
   ],
   "source": [
    "inspect.getsource(myclass.add)"
   ]
  },
  {
   "cell_type": "code",
   "execution_count": 33,
   "id": "e80db24f",
   "metadata": {},
   "outputs": [
    {
     "ename": "TypeError",
     "evalue": "<class '__main__.myclass'> is a built-in class",
     "output_type": "error",
     "traceback": [
      "\u001b[1;31m---------------------------------------------------------------------------\u001b[0m",
      "\u001b[1;31mTypeError\u001b[0m                                 Traceback (most recent call last)",
      "Input \u001b[1;32mIn [33]\u001b[0m, in \u001b[0;36m<cell line: 1>\u001b[1;34m()\u001b[0m\n\u001b[1;32m----> 1\u001b[0m \u001b[43minspect\u001b[49m\u001b[38;5;241;43m.\u001b[39;49m\u001b[43mgetsource\u001b[49m\u001b[43m(\u001b[49m\u001b[43mmyclass\u001b[49m\u001b[43m)\u001b[49m\n",
      "File \u001b[1;32m~\\anaconda3\\lib\\inspect.py:1024\u001b[0m, in \u001b[0;36mgetsource\u001b[1;34m(object)\u001b[0m\n\u001b[0;32m   1018\u001b[0m \u001b[38;5;28;01mdef\u001b[39;00m \u001b[38;5;21mgetsource\u001b[39m(\u001b[38;5;28mobject\u001b[39m):\n\u001b[0;32m   1019\u001b[0m     \u001b[38;5;124;03m\"\"\"Return the text of the source code for an object.\u001b[39;00m\n\u001b[0;32m   1020\u001b[0m \n\u001b[0;32m   1021\u001b[0m \u001b[38;5;124;03m    The argument may be a module, class, method, function, traceback, frame,\u001b[39;00m\n\u001b[0;32m   1022\u001b[0m \u001b[38;5;124;03m    or code object.  The source code is returned as a single string.  An\u001b[39;00m\n\u001b[0;32m   1023\u001b[0m \u001b[38;5;124;03m    OSError is raised if the source code cannot be retrieved.\"\"\"\u001b[39;00m\n\u001b[1;32m-> 1024\u001b[0m     lines, lnum \u001b[38;5;241m=\u001b[39m \u001b[43mgetsourcelines\u001b[49m\u001b[43m(\u001b[49m\u001b[38;5;28;43mobject\u001b[39;49m\u001b[43m)\u001b[49m\n\u001b[0;32m   1025\u001b[0m     \u001b[38;5;28;01mreturn\u001b[39;00m \u001b[38;5;124m'\u001b[39m\u001b[38;5;124m'\u001b[39m\u001b[38;5;241m.\u001b[39mjoin(lines)\n",
      "File \u001b[1;32m~\\anaconda3\\lib\\inspect.py:1006\u001b[0m, in \u001b[0;36mgetsourcelines\u001b[1;34m(object)\u001b[0m\n\u001b[0;32m    998\u001b[0m \u001b[38;5;124;03m\"\"\"Return a list of source lines and starting line number for an object.\u001b[39;00m\n\u001b[0;32m    999\u001b[0m \n\u001b[0;32m   1000\u001b[0m \u001b[38;5;124;03mThe argument may be a module, class, method, function, traceback, frame,\u001b[39;00m\n\u001b[1;32m   (...)\u001b[0m\n\u001b[0;32m   1003\u001b[0m \u001b[38;5;124;03moriginal source file the first line of code was found.  An OSError is\u001b[39;00m\n\u001b[0;32m   1004\u001b[0m \u001b[38;5;124;03mraised if the source code cannot be retrieved.\"\"\"\u001b[39;00m\n\u001b[0;32m   1005\u001b[0m \u001b[38;5;28mobject\u001b[39m \u001b[38;5;241m=\u001b[39m unwrap(\u001b[38;5;28mobject\u001b[39m)\n\u001b[1;32m-> 1006\u001b[0m lines, lnum \u001b[38;5;241m=\u001b[39m \u001b[43mfindsource\u001b[49m\u001b[43m(\u001b[49m\u001b[38;5;28;43mobject\u001b[39;49m\u001b[43m)\u001b[49m\n\u001b[0;32m   1008\u001b[0m \u001b[38;5;28;01mif\u001b[39;00m istraceback(\u001b[38;5;28mobject\u001b[39m):\n\u001b[0;32m   1009\u001b[0m     \u001b[38;5;28mobject\u001b[39m \u001b[38;5;241m=\u001b[39m \u001b[38;5;28mobject\u001b[39m\u001b[38;5;241m.\u001b[39mtb_frame\n",
      "File \u001b[1;32m~\\anaconda3\\lib\\inspect.py:817\u001b[0m, in \u001b[0;36mfindsource\u001b[1;34m(object)\u001b[0m\n\u001b[0;32m    809\u001b[0m \u001b[38;5;28;01mdef\u001b[39;00m \u001b[38;5;21mfindsource\u001b[39m(\u001b[38;5;28mobject\u001b[39m):\n\u001b[0;32m    810\u001b[0m     \u001b[38;5;124;03m\"\"\"Return the entire source file and starting line number for an object.\u001b[39;00m\n\u001b[0;32m    811\u001b[0m \n\u001b[0;32m    812\u001b[0m \u001b[38;5;124;03m    The argument may be a module, class, method, function, traceback, frame,\u001b[39;00m\n\u001b[0;32m    813\u001b[0m \u001b[38;5;124;03m    or code object.  The source code is returned as a list of all the lines\u001b[39;00m\n\u001b[0;32m    814\u001b[0m \u001b[38;5;124;03m    in the file and the line number indexes a line in that list.  An OSError\u001b[39;00m\n\u001b[0;32m    815\u001b[0m \u001b[38;5;124;03m    is raised if the source code cannot be retrieved.\"\"\"\u001b[39;00m\n\u001b[1;32m--> 817\u001b[0m     file \u001b[38;5;241m=\u001b[39m \u001b[43mgetsourcefile\u001b[49m\u001b[43m(\u001b[49m\u001b[38;5;28;43mobject\u001b[39;49m\u001b[43m)\u001b[49m\n\u001b[0;32m    818\u001b[0m     \u001b[38;5;28;01mif\u001b[39;00m file:\n\u001b[0;32m    819\u001b[0m         \u001b[38;5;66;03m# Invalidate cache if needed.\u001b[39;00m\n\u001b[0;32m    820\u001b[0m         linecache\u001b[38;5;241m.\u001b[39mcheckcache(file)\n",
      "File \u001b[1;32m~\\anaconda3\\lib\\inspect.py:697\u001b[0m, in \u001b[0;36mgetsourcefile\u001b[1;34m(object)\u001b[0m\n\u001b[0;32m    693\u001b[0m \u001b[38;5;28;01mdef\u001b[39;00m \u001b[38;5;21mgetsourcefile\u001b[39m(\u001b[38;5;28mobject\u001b[39m):\n\u001b[0;32m    694\u001b[0m     \u001b[38;5;124;03m\"\"\"Return the filename that can be used to locate an object's source.\u001b[39;00m\n\u001b[0;32m    695\u001b[0m \u001b[38;5;124;03m    Return None if no way can be identified to get the source.\u001b[39;00m\n\u001b[0;32m    696\u001b[0m \u001b[38;5;124;03m    \"\"\"\u001b[39;00m\n\u001b[1;32m--> 697\u001b[0m     filename \u001b[38;5;241m=\u001b[39m \u001b[43mgetfile\u001b[49m\u001b[43m(\u001b[49m\u001b[38;5;28;43mobject\u001b[39;49m\u001b[43m)\u001b[49m\n\u001b[0;32m    698\u001b[0m     all_bytecode_suffixes \u001b[38;5;241m=\u001b[39m importlib\u001b[38;5;241m.\u001b[39mmachinery\u001b[38;5;241m.\u001b[39mDEBUG_BYTECODE_SUFFIXES[:]\n\u001b[0;32m    699\u001b[0m     all_bytecode_suffixes \u001b[38;5;241m+\u001b[39m\u001b[38;5;241m=\u001b[39m importlib\u001b[38;5;241m.\u001b[39mmachinery\u001b[38;5;241m.\u001b[39mOPTIMIZED_BYTECODE_SUFFIXES[:]\n",
      "File \u001b[1;32m~\\anaconda3\\lib\\inspect.py:666\u001b[0m, in \u001b[0;36mgetfile\u001b[1;34m(object)\u001b[0m\n\u001b[0;32m    664\u001b[0m         \u001b[38;5;28;01mif\u001b[39;00m \u001b[38;5;28mgetattr\u001b[39m(module, \u001b[38;5;124m'\u001b[39m\u001b[38;5;124m__file__\u001b[39m\u001b[38;5;124m'\u001b[39m, \u001b[38;5;28;01mNone\u001b[39;00m):\n\u001b[0;32m    665\u001b[0m             \u001b[38;5;28;01mreturn\u001b[39;00m module\u001b[38;5;241m.\u001b[39m\u001b[38;5;18m__file__\u001b[39m\n\u001b[1;32m--> 666\u001b[0m     \u001b[38;5;28;01mraise\u001b[39;00m \u001b[38;5;167;01mTypeError\u001b[39;00m(\u001b[38;5;124m'\u001b[39m\u001b[38;5;132;01m{!r}\u001b[39;00m\u001b[38;5;124m is a built-in class\u001b[39m\u001b[38;5;124m'\u001b[39m\u001b[38;5;241m.\u001b[39mformat(\u001b[38;5;28mobject\u001b[39m))\n\u001b[0;32m    667\u001b[0m \u001b[38;5;28;01mif\u001b[39;00m ismethod(\u001b[38;5;28mobject\u001b[39m):\n\u001b[0;32m    668\u001b[0m     \u001b[38;5;28mobject\u001b[39m \u001b[38;5;241m=\u001b[39m \u001b[38;5;28mobject\u001b[39m\u001b[38;5;241m.\u001b[39m\u001b[38;5;18m__func__\u001b[39m\n",
      "\u001b[1;31mTypeError\u001b[0m: <class '__main__.myclass'> is a built-in class"
     ]
    }
   ],
   "source": [
    "inspect.getsource(myclass)"
   ]
  },
  {
   "cell_type": "code",
   "execution_count": 46,
   "id": "1e133984",
   "metadata": {},
   "outputs": [
    {
     "name": "stdout",
     "output_type": "stream",
     "text": [
      "george\n"
     ]
    }
   ],
   "source": [
    "def test(a='geto'):\n",
    "    \n",
    "    \"\"\"\n",
    "    this function returns some infantshit!!!\n",
    "    \n",
    "    \"\"\"\n",
    "    \n",
    "    # it prints whatever is stored in a\n",
    "    # actually I write comments here to see when instance.getcomments(func) is called.\n",
    "    print(a)\n",
    "    \n",
    "    \n",
    "test(a='george')"
   ]
  },
  {
   "cell_type": "code",
   "execution_count": 47,
   "id": "0ee6e9fa",
   "metadata": {},
   "outputs": [
    {
     "data": {
      "text/plain": [
       "'def test(a=\\'geto\\'):\\n    \\n    \"\"\"\\n    this function returns some infantshit!!!\\n    \\n    \"\"\"\\n    \\n    # it prints whatever is stored in a\\n    # actually I write comments here to see when instance.getcomments(func) is called.\\n    print(a)\\n'"
      ]
     },
     "execution_count": 47,
     "metadata": {},
     "output_type": "execute_result"
    }
   ],
   "source": [
    "import inspect\n",
    "inspect.getsource(test)"
   ]
  },
  {
   "cell_type": "code",
   "execution_count": 48,
   "id": "03ca487b",
   "metadata": {},
   "outputs": [
    {
     "data": {
      "text/plain": [
       "<module '__main__'>"
      ]
     },
     "execution_count": 48,
     "metadata": {},
     "output_type": "execute_result"
    }
   ],
   "source": [
    "inspect.getmodule(test)"
   ]
  },
  {
   "cell_type": "code",
   "execution_count": 49,
   "id": "6f06348e",
   "metadata": {},
   "outputs": [],
   "source": [
    "inspect.getcomments(test)"
   ]
  },
  {
   "cell_type": "code",
   "execution_count": 42,
   "id": "9205d04f",
   "metadata": {},
   "outputs": [
    {
     "name": "stdout",
     "output_type": "stream",
     "text": [
      "Hello George! Welcome to the Zoophiliac wonderland under 50 category.\n"
     ]
    }
   ],
   "source": [
    "def welcome_message(name:'string',*,age:'a positive integer'=25) -> 'a string':\n",
    "    \n",
    "    \n",
    "    # Gives a welcome message to the Adventerer to the Zoophiliac wonderland.\n",
    "    if age < 10:\n",
    "        print(\"Hello {0}! Welcome to the Zoophiliac wonderland under {1} category.\".format(name,10))\n",
    "    elif age < 20:\n",
    "         print(\"Hello {0}! Welcome to the Zoophiliac wonderland under {1} category.\".format(name,20))\n",
    "            \n",
    "    elif age < 50:\n",
    "         print(\"Hello {0}! Welcome to the Zoophiliac wonderland under {1} category.\".format(name,50))\n",
    "    \n",
    "    elif age < 75:\n",
    "         print(\"Hello {0}! Welcome to the Zoophiliac wonderland under {1} category.\".format(name,75))\n",
    "            \n",
    "    else:\n",
    "         print(\"Hello {0}! Welcome to the Zoophiliac wonderland under {1} category.\".format(name,age))\n",
    "        \n",
    "    \n",
    "welcome_message(name='George',age=26)"
   ]
  },
  {
   "cell_type": "code",
   "execution_count": 60,
   "id": "22ce423e",
   "metadata": {},
   "outputs": [
    {
     "name": "stdout",
     "output_type": "stream",
     "text": [
      "Name:  name\n",
      "Annotation:  string\n",
      "Default:  <class 'inspect._empty'>\n",
      "kind:  POSITIONAL_OR_KEYWORD\n",
      "-------\n",
      "Name:  age\n",
      "Annotation:  a positive integer\n",
      "Default:  25\n",
      "kind:  KEYWORD_ONLY\n",
      "-------\n"
     ]
    }
   ],
   "source": [
    "for param in inspect.signature(welcome_message).parameters.values():\n",
    "    print('Name: ',param.name)\n",
    "    print('Annotation: ',param.annotation)\n",
    "    print('Default: ',param.default)\n",
    "    print('kind: ',param.kind)\n",
    "    print('-------')\n",
    "    "
   ]
  },
  {
   "cell_type": "code",
   "execution_count": 61,
   "id": "ad58aa9d",
   "metadata": {},
   "outputs": [
    {
     "data": {
      "text/plain": [
       "True"
      ]
     },
     "execution_count": 61,
     "metadata": {},
     "output_type": "execute_result"
    }
   ],
   "source": [
    "inspect.isfunction(test)"
   ]
  },
  {
   "cell_type": "code",
   "execution_count": null,
   "id": "617813e4",
   "metadata": {},
   "outputs": [],
   "source": [
    "inspect.ismethod()"
   ]
  },
  {
   "cell_type": "code",
   "execution_count": 3,
   "id": "a5ffa975",
   "metadata": {},
   "outputs": [
    {
     "data": {
      "text/plain": [
       "['__annotations__',\n",
       " '__call__',\n",
       " '__class__',\n",
       " '__closure__',\n",
       " '__code__',\n",
       " '__defaults__',\n",
       " '__delattr__',\n",
       " '__dict__',\n",
       " '__dir__',\n",
       " '__doc__',\n",
       " '__eq__',\n",
       " '__format__',\n",
       " '__ge__',\n",
       " '__get__',\n",
       " '__getattribute__',\n",
       " '__globals__',\n",
       " '__gt__',\n",
       " '__hash__',\n",
       " '__init__',\n",
       " '__init_subclass__',\n",
       " '__kwdefaults__',\n",
       " '__le__',\n",
       " '__lt__',\n",
       " '__module__',\n",
       " '__name__',\n",
       " '__ne__',\n",
       " '__new__',\n",
       " '__qualname__',\n",
       " '__reduce__',\n",
       " '__reduce_ex__',\n",
       " '__repr__',\n",
       " '__setattr__',\n",
       " '__sizeof__',\n",
       " '__str__',\n",
       " '__subclasshook__']"
      ]
     },
     "execution_count": 3,
     "metadata": {},
     "output_type": "execute_result"
    }
   ],
   "source": [
    "dir(welcome_message)"
   ]
  },
  {
   "cell_type": "code",
   "execution_count": 2,
   "id": "d6a98c83",
   "metadata": {},
   "outputs": [
    {
     "data": {
      "text/plain": [
       "('name', 'age')"
      ]
     },
     "execution_count": 2,
     "metadata": {},
     "output_type": "execute_result"
    }
   ],
   "source": [
    "welcome_message.__code__.co_varnames"
   ]
  },
  {
   "cell_type": "code",
   "execution_count": 4,
   "id": "422b1928",
   "metadata": {},
   "outputs": [
    {
     "data": {
      "text/plain": [
       "{'age': 25}"
      ]
     },
     "execution_count": 4,
     "metadata": {},
     "output_type": "execute_result"
    }
   ],
   "source": [
    "welcome_message.__kwdefaults__"
   ]
  },
  {
   "cell_type": "code",
   "execution_count": 6,
   "id": "a3cea32b",
   "metadata": {},
   "outputs": [
    {
     "name": "stdout",
     "output_type": "stream",
     "text": [
      "Help on function welcome_message in module __main__:\n",
      "\n",
      "welcome_message(name: 'string', *, age: 'a positive integer' = 25) -> 'a string'\n",
      "\n"
     ]
    }
   ],
   "source": [
    "help(welcome_message)"
   ]
  },
  {
   "cell_type": "code",
   "execution_count": 8,
   "id": "1a728e55",
   "metadata": {},
   "outputs": [
    {
     "data": {
      "text/plain": [
       "{'name': 'string', 'age': 'a positive integer', 'return': 'a string'}"
      ]
     },
     "execution_count": 8,
     "metadata": {},
     "output_type": "execute_result"
    }
   ],
   "source": [
    "welcome_message.__annotations__"
   ]
  },
  {
   "cell_type": "code",
   "execution_count": 43,
   "id": "9255d3d0",
   "metadata": {},
   "outputs": [
    {
     "name": "stdout",
     "output_type": "stream",
     "text": [
      "Hello George! Welcome to the Zoophiliac wonderland under 50 category.\n"
     ]
    }
   ],
   "source": [
    "import inspect\n",
    "\n",
    "inspect.getcomments(welcome_message(name='George',age=26))"
   ]
  },
  {
   "cell_type": "code",
   "execution_count": 50,
   "id": "618f5226",
   "metadata": {},
   "outputs": [
    {
     "name": "stdout",
     "output_type": "stream",
     "text": [
      "Name:  name\n",
      "Annotation:  string\n",
      "Default:  <class 'inspect._empty'>\n",
      "kind:  POSITIONAL_OR_KEYWORD\n",
      "-------\n",
      "Name:  age\n",
      "Annotation:  a positive integer\n",
      "Default:  25\n",
      "kind:  KEYWORD_ONLY\n",
      "-------\n"
     ]
    }
   ],
   "source": [
    "for param in inspect.signature(welcome_message).parameters.values():\n",
    "    print('Name: ',param.name)\n",
    "    print('Annotation: ',param.annotation)\n",
    "    print('Default: ',param.default)\n",
    "    print('kind: ',param.kind)\n",
    "    print('-------')\n",
    "    "
   ]
  },
  {
   "cell_type": "code",
   "execution_count": null,
   "id": "0915f2c3",
   "metadata": {},
   "outputs": [],
   "source": []
  },
  {
   "cell_type": "markdown",
   "id": "1346eeea",
   "metadata": {},
   "source": [
    "# to create a function that takes in only postional arguments. no keyword arguments is allowed."
   ]
  },
  {
   "cell_type": "code",
   "execution_count": 44,
   "id": "b8109d34",
   "metadata": {},
   "outputs": [],
   "source": [
    "def add(a,b,/):\n",
    "    return a+b"
   ]
  },
  {
   "cell_type": "code",
   "execution_count": 45,
   "id": "5513f293",
   "metadata": {},
   "outputs": [
    {
     "data": {
      "text/plain": [
       "8"
      ]
     },
     "execution_count": 45,
     "metadata": {},
     "output_type": "execute_result"
    }
   ],
   "source": [
    "add(5,3)"
   ]
  },
  {
   "cell_type": "code",
   "execution_count": 46,
   "id": "4a5b3055",
   "metadata": {},
   "outputs": [
    {
     "ename": "TypeError",
     "evalue": "add() got some positional-only arguments passed as keyword arguments: 'a, b'",
     "output_type": "error",
     "traceback": [
      "\u001b[1;31m---------------------------------------------------------------------------\u001b[0m",
      "\u001b[1;31mTypeError\u001b[0m                                 Traceback (most recent call last)",
      "Input \u001b[1;32mIn [46]\u001b[0m, in \u001b[0;36m<cell line: 1>\u001b[1;34m()\u001b[0m\n\u001b[1;32m----> 1\u001b[0m \u001b[43madd\u001b[49m\u001b[43m(\u001b[49m\u001b[43ma\u001b[49m\u001b[38;5;241;43m=\u001b[39;49m\u001b[38;5;241;43m5\u001b[39;49m\u001b[43m,\u001b[49m\u001b[43mb\u001b[49m\u001b[38;5;241;43m=\u001b[39;49m\u001b[38;5;241;43m3\u001b[39;49m\u001b[43m)\u001b[49m\n",
      "\u001b[1;31mTypeError\u001b[0m: add() got some positional-only arguments passed as keyword arguments: 'a, b'"
     ]
    }
   ],
   "source": [
    "add(a=5,b=3)"
   ]
  },
  {
   "cell_type": "code",
   "execution_count": 47,
   "id": "92bc1a92",
   "metadata": {},
   "outputs": [
    {
     "name": "stdout",
     "output_type": "stream",
     "text": [
      "Help on built-in function divmod in module builtins:\n",
      "\n",
      "divmod(x, y, /)\n",
      "    Return the tuple (x//y, x%y).  Invariant: div*y + mod == x.\n",
      "\n"
     ]
    }
   ],
   "source": [
    "help(divmod)"
   ]
  },
  {
   "cell_type": "code",
   "execution_count": 48,
   "id": "733adc1d",
   "metadata": {},
   "outputs": [
    {
     "data": {
      "text/plain": [
       "(1, 2)"
      ]
     },
     "execution_count": 48,
     "metadata": {},
     "output_type": "execute_result"
    }
   ],
   "source": [
    "divmod(5,3)"
   ]
  },
  {
   "cell_type": "code",
   "execution_count": 49,
   "id": "03f86ae6",
   "metadata": {},
   "outputs": [
    {
     "ename": "TypeError",
     "evalue": "divmod() takes no keyword arguments",
     "output_type": "error",
     "traceback": [
      "\u001b[1;31m---------------------------------------------------------------------------\u001b[0m",
      "\u001b[1;31mTypeError\u001b[0m                                 Traceback (most recent call last)",
      "Input \u001b[1;32mIn [49]\u001b[0m, in \u001b[0;36m<cell line: 1>\u001b[1;34m()\u001b[0m\n\u001b[1;32m----> 1\u001b[0m \u001b[38;5;28;43mdivmod\u001b[39;49m\u001b[43m(\u001b[49m\u001b[43mx\u001b[49m\u001b[38;5;241;43m=\u001b[39;49m\u001b[38;5;241;43m5\u001b[39;49m\u001b[43m,\u001b[49m\u001b[43my\u001b[49m\u001b[38;5;241;43m=\u001b[39;49m\u001b[38;5;241;43m3\u001b[39;49m\u001b[43m)\u001b[49m\n",
      "\u001b[1;31mTypeError\u001b[0m: divmod() takes no keyword arguments"
     ]
    }
   ],
   "source": [
    "divmod(x=5,y=3)"
   ]
  },
  {
   "cell_type": "code",
   "execution_count": 51,
   "id": "7b7931b8",
   "metadata": {},
   "outputs": [
    {
     "name": "stdout",
     "output_type": "stream",
     "text": [
      "Name:  x\n",
      "Annotation:  <class 'inspect._empty'>\n",
      "Default:  <class 'inspect._empty'>\n",
      "kind:  POSITIONAL_ONLY\n",
      "-------\n",
      "Name:  y\n",
      "Annotation:  <class 'inspect._empty'>\n",
      "Default:  <class 'inspect._empty'>\n",
      "kind:  POSITIONAL_ONLY\n",
      "-------\n"
     ]
    }
   ],
   "source": [
    "for param in inspect.signature(divmod).parameters.values():\n",
    "    print('Name: ',param.name)\n",
    "    print('Annotation: ',param.annotation)\n",
    "    print('Default: ',param.default)\n",
    "    print('kind: ',param.kind)\n",
    "    print('-------')\n",
    "    \n",
    "    "
   ]
  },
  {
   "cell_type": "code",
   "execution_count": 52,
   "id": "27446379",
   "metadata": {},
   "outputs": [
    {
     "name": "stdout",
     "output_type": "stream",
     "text": [
      "Name:  a\n",
      "Annotation:  <class 'inspect._empty'>\n",
      "Default:  <class 'inspect._empty'>\n",
      "kind:  POSITIONAL_ONLY\n",
      "-------\n",
      "Name:  b\n",
      "Annotation:  <class 'inspect._empty'>\n",
      "Default:  <class 'inspect._empty'>\n",
      "kind:  POSITIONAL_ONLY\n",
      "-------\n"
     ]
    }
   ],
   "source": [
    "for param in inspect.signature(add).parameters.values():\n",
    "    print('Name: ',param.name)\n",
    "    print('Annotation: ',param.annotation)\n",
    "    print('Default: ',param.default)\n",
    "    print('kind: ',param.kind)\n",
    "    print('-------')\n",
    "    \n",
    "    "
   ]
  },
  {
   "cell_type": "code",
   "execution_count": null,
   "id": "93ecd2da",
   "metadata": {},
   "outputs": [],
   "source": []
  },
  {
   "cell_type": "markdown",
   "id": "72c4fd56",
   "metadata": {},
   "source": [
    "# day 317"
   ]
  },
  {
   "cell_type": "markdown",
   "id": "f99d809b",
   "metadata": {},
   "source": [
    "# CALLABLE FUNCTION\n",
    "\n",
    "* it is used to know whether something is callable () or not."
   ]
  },
  {
   "cell_type": "code",
   "execution_count": 1,
   "id": "886e4766",
   "metadata": {},
   "outputs": [
    {
     "data": {
      "text/html": [
       "\n",
       "        <iframe\n",
       "            width=\"1000\"\n",
       "            height=\"500\"\n",
       "            src=\"10+-+Callables.pdf\"\n",
       "            frameborder=\"0\"\n",
       "            allowfullscreen\n",
       "            \n",
       "        ></iframe>\n",
       "        "
      ],
      "text/plain": [
       "<IPython.lib.display.IFrame at 0x111a8db3b80>"
      ]
     },
     "execution_count": 1,
     "metadata": {},
     "output_type": "execute_result"
    }
   ],
   "source": [
    "from IPython.display import IFrame\n",
    "IFrame(src='10+-+Callables.pdf',height=500,width=1000)"
   ]
  },
  {
   "cell_type": "code",
   "execution_count": 54,
   "id": "33580e1a",
   "metadata": {},
   "outputs": [
    {
     "data": {
      "text/plain": [
       "True"
      ]
     },
     "execution_count": 54,
     "metadata": {},
     "output_type": "execute_result"
    }
   ],
   "source": [
    "callable(print)"
   ]
  },
  {
   "cell_type": "code",
   "execution_count": 55,
   "id": "73f687dc",
   "metadata": {},
   "outputs": [
    {
     "data": {
      "text/plain": [
       "True"
      ]
     },
     "execution_count": 55,
     "metadata": {},
     "output_type": "execute_result"
    }
   ],
   "source": [
    "callable(add)"
   ]
  },
  {
   "cell_type": "code",
   "execution_count": 56,
   "id": "25ab44d6",
   "metadata": {},
   "outputs": [
    {
     "data": {
      "text/plain": [
       "True"
      ]
     },
     "execution_count": 56,
     "metadata": {},
     "output_type": "execute_result"
    }
   ],
   "source": [
    "callable(welcome_message)"
   ]
  },
  {
   "cell_type": "code",
   "execution_count": 57,
   "id": "4f8e79b3",
   "metadata": {},
   "outputs": [
    {
     "data": {
      "text/plain": [
       "True"
      ]
     },
     "execution_count": 57,
     "metadata": {},
     "output_type": "execute_result"
    }
   ],
   "source": [
    "callable(myclass)"
   ]
  },
  {
   "cell_type": "code",
   "execution_count": 59,
   "id": "6b5e46bc",
   "metadata": {},
   "outputs": [
    {
     "data": {
      "text/plain": [
       "True"
      ]
     },
     "execution_count": 59,
     "metadata": {},
     "output_type": "execute_result"
    }
   ],
   "source": [
    "def test():\n",
    "    pass\n",
    "\n",
    "callable(test)"
   ]
  },
  {
   "cell_type": "code",
   "execution_count": 60,
   "id": "cafa252a",
   "metadata": {},
   "outputs": [
    {
     "data": {
      "text/plain": [
       "False"
      ]
     },
     "execution_count": 60,
     "metadata": {},
     "output_type": "execute_result"
    }
   ],
   "source": [
    "a = 5\n",
    "callable(a)"
   ]
  },
  {
   "cell_type": "code",
   "execution_count": 62,
   "id": "6a8bd672",
   "metadata": {},
   "outputs": [
    {
     "data": {
      "text/plain": [
       "False"
      ]
     },
     "execution_count": 62,
     "metadata": {},
     "output_type": "execute_result"
    }
   ],
   "source": [
    "callable('george')"
   ]
  },
  {
   "cell_type": "code",
   "execution_count": 63,
   "id": "316f019c",
   "metadata": {},
   "outputs": [
    {
     "data": {
      "text/plain": [
       "True"
      ]
     },
     "execution_count": 63,
     "metadata": {},
     "output_type": "execute_result"
    }
   ],
   "source": [
    "callable('george'.upper)"
   ]
  },
  {
   "cell_type": "code",
   "execution_count": 64,
   "id": "2427dd3b",
   "metadata": {},
   "outputs": [
    {
     "data": {
      "text/plain": [
       "False"
      ]
     },
     "execution_count": 64,
     "metadata": {},
     "output_type": "execute_result"
    }
   ],
   "source": [
    "callable('george'.upper())"
   ]
  },
  {
   "cell_type": "code",
   "execution_count": 65,
   "id": "2d9d6ad1",
   "metadata": {},
   "outputs": [
    {
     "data": {
      "text/plain": [
       "True"
      ]
     },
     "execution_count": 65,
     "metadata": {},
     "output_type": "execute_result"
    }
   ],
   "source": [
    "callable(callable)"
   ]
  },
  {
   "cell_type": "code",
   "execution_count": 66,
   "id": "f05788b4",
   "metadata": {},
   "outputs": [
    {
     "data": {
      "text/plain": [
       "False"
      ]
     },
     "execution_count": 66,
     "metadata": {},
     "output_type": "execute_result"
    }
   ],
   "source": [
    "lis = [1,2,3,4]\n",
    "callable(lis)"
   ]
  },
  {
   "cell_type": "code",
   "execution_count": null,
   "id": "c93c4bd8",
   "metadata": {},
   "outputs": [],
   "source": [
    "# an argument is not callable\n",
    "# a method is a callable"
   ]
  },
  {
   "cell_type": "code",
   "execution_count": null,
   "id": "de8b5775",
   "metadata": {},
   "outputs": [],
   "source": []
  },
  {
   "cell_type": "markdown",
   "id": "0230a845",
   "metadata": {},
   "source": [
    "# 318"
   ]
  },
  {
   "cell_type": "markdown",
   "id": "b79330ff",
   "metadata": {},
   "source": [
    "# Map, Filter, Zip"
   ]
  },
  {
   "cell_type": "code",
   "execution_count": 2,
   "id": "1a533b48",
   "metadata": {
    "scrolled": true
   },
   "outputs": [
    {
     "data": {
      "text/html": [
       "\n",
       "        <iframe\n",
       "            width=\"1000\"\n",
       "            height=\"500\"\n",
       "            src=\"11+-+Map,+Filter,+Zip.pdf\"\n",
       "            frameborder=\"0\"\n",
       "            allowfullscreen\n",
       "            \n",
       "        ></iframe>\n",
       "        "
      ],
      "text/plain": [
       "<IPython.lib.display.IFrame at 0x111a8dd3940>"
      ]
     },
     "execution_count": 2,
     "metadata": {},
     "output_type": "execute_result"
    }
   ],
   "source": [
    "from IPython.display import IFrame\n",
    "IFrame(src='11+-+Map,+Filter,+Zip.pdf',height=500,width=1000)"
   ]
  },
  {
   "cell_type": "markdown",
   "id": "707309ec",
   "metadata": {},
   "source": [
    "# zip function\n",
    "* zip(*iterables)"
   ]
  },
  {
   "cell_type": "code",
   "execution_count": 5,
   "id": "d08e9a7f",
   "metadata": {},
   "outputs": [
    {
     "data": {
      "text/plain": [
       "[(1, 4, 'a'), (2, 5, 'b'), (3, 6, 'c')]"
      ]
     },
     "execution_count": 5,
     "metadata": {},
     "output_type": "execute_result"
    }
   ],
   "source": [
    "lis1 = [1,2,3]\n",
    "lis2 = [4,5,6]\n",
    "lis3 = ['a','b','c']\n",
    "list(zip(lis1,lis2,lis3))"
   ]
  },
  {
   "cell_type": "code",
   "execution_count": 6,
   "id": "90d3db46",
   "metadata": {},
   "outputs": [
    {
     "data": {
      "text/plain": [
       "[(1, 4, 'a'), (2, 5, 'b')]"
      ]
     },
     "execution_count": 6,
     "metadata": {},
     "output_type": "execute_result"
    }
   ],
   "source": [
    "lis1 = [1,2,3]\n",
    "lis2 = [4,5,6]\n",
    "lis3 = ['a','b']\n",
    "list(zip(lis1,lis2,lis3))"
   ]
  },
  {
   "cell_type": "code",
   "execution_count": null,
   "id": "0f0ccf94",
   "metadata": {},
   "outputs": [],
   "source": []
  },
  {
   "cell_type": "markdown",
   "id": "e49cd647",
   "metadata": {},
   "source": [
    "# map function:\n",
    "* map(func,iterables)"
   ]
  },
  {
   "cell_type": "code",
   "execution_count": 17,
   "id": "5056fd28",
   "metadata": {},
   "outputs": [
    {
     "data": {
      "text/plain": [
       "[1, 2, 6]"
      ]
     },
     "execution_count": 17,
     "metadata": {},
     "output_type": "execute_result"
    }
   ],
   "source": [
    "def factorial(n):\n",
    "    if n < 2:\n",
    "        return 1\n",
    "    return n * factorial(n-1)\n",
    "\n",
    "\n",
    "list(map(factorial,lis1))"
   ]
  },
  {
   "cell_type": "code",
   "execution_count": 21,
   "id": "a4006e65",
   "metadata": {},
   "outputs": [
    {
     "data": {
      "text/plain": [
       "[12, 15, 18]"
      ]
     },
     "execution_count": 21,
     "metadata": {},
     "output_type": "execute_result"
    }
   ],
   "source": [
    "lis1 = [1,2,3]\n",
    "lis2 = [4,5,6]\n",
    "lis3 = [7,8,9]\n",
    "list(map(lambda x,y,z: x+y+z,lis1,lis2,lis3))"
   ]
  },
  {
   "cell_type": "code",
   "execution_count": null,
   "id": "2084d925",
   "metadata": {},
   "outputs": [],
   "source": []
  },
  {
   "cell_type": "markdown",
   "id": "197a8b95",
   "metadata": {},
   "source": [
    "# filter function\n",
    "\n",
    "* it returns the number that are True \n",
    "* it is like a boolean that tests some condition."
   ]
  },
  {
   "cell_type": "code",
   "execution_count": 25,
   "id": "d1372d09",
   "metadata": {},
   "outputs": [
    {
     "data": {
      "text/plain": [
       "[0, 1, 2, 3, 4]"
      ]
     },
     "execution_count": 25,
     "metadata": {},
     "output_type": "execute_result"
    }
   ],
   "source": [
    "lis1 = list(range(10))\n",
    "\n",
    "list(filter(lambda x: x < 5,lis1))"
   ]
  },
  {
   "cell_type": "code",
   "execution_count": 27,
   "id": "dbcb85c8",
   "metadata": {},
   "outputs": [
    {
     "data": {
      "text/plain": [
       "[0, 1, 4, 9, 16, 25]"
      ]
     },
     "execution_count": 27,
     "metadata": {},
     "output_type": "execute_result"
    }
   ],
   "source": [
    "list(filter(lambda x: x < 26,map(lambda x: x**2,lis1)))"
   ]
  },
  {
   "cell_type": "code",
   "execution_count": 29,
   "id": "4f5169d5",
   "metadata": {},
   "outputs": [
    {
     "data": {
      "text/plain": [
       "[0, 1, 4, 9, 16, 25]"
      ]
     },
     "execution_count": 29,
     "metadata": {},
     "output_type": "execute_result"
    }
   ],
   "source": [
    "# achieving the same with list comprehension\n",
    "[x**2 for x in range(10) if x**2 < 26]"
   ]
  },
  {
   "cell_type": "code",
   "execution_count": 30,
   "id": "f722aaf9",
   "metadata": {},
   "outputs": [
    {
     "data": {
      "text/plain": [
       "[1, 2, 3]"
      ]
     },
     "execution_count": 30,
     "metadata": {},
     "output_type": "execute_result"
    }
   ],
   "source": [
    "# filter with none\n",
    "list(filter(None,[1,2,3]))"
   ]
  },
  {
   "cell_type": "code",
   "execution_count": 31,
   "id": "8ae461fa",
   "metadata": {},
   "outputs": [
    {
     "data": {
      "text/plain": [
       "[1, 2, 3, 'a', True, 'sex']"
      ]
     },
     "execution_count": 31,
     "metadata": {},
     "output_type": "execute_result"
    }
   ],
   "source": [
    "# filter with none\n",
    "list(filter(None,[1,2,3,'a',None,True,False,'sex']))"
   ]
  },
  {
   "cell_type": "code",
   "execution_count": null,
   "id": "85d32da1",
   "metadata": {},
   "outputs": [],
   "source": []
  },
  {
   "cell_type": "markdown",
   "id": "030b7871",
   "metadata": {},
   "source": [
    "# any and all functions\n",
    "\n",
    "* any: returns True if any element in the iterable is True, uses or operator\n",
    "* all: returns True only if all the element in the iterable is True, uses and operator."
   ]
  },
  {
   "cell_type": "code",
   "execution_count": 1,
   "id": "c46b5903",
   "metadata": {},
   "outputs": [
    {
     "data": {
      "text/plain": [
       "True"
      ]
     },
     "execution_count": 1,
     "metadata": {},
     "output_type": "execute_result"
    }
   ],
   "source": [
    "lis = ['',0,None,100] # ''- Falsy, 0-Falsy, None-Falsy, 100-Truthy\n",
    "any(lis)"
   ]
  },
  {
   "cell_type": "code",
   "execution_count": 2,
   "id": "00ec7d8e",
   "metadata": {},
   "outputs": [
    {
     "data": {
      "text/plain": [
       "False"
      ]
     },
     "execution_count": 2,
     "metadata": {},
     "output_type": "execute_result"
    }
   ],
   "source": [
    "all(lis)"
   ]
  },
  {
   "cell_type": "code",
   "execution_count": 3,
   "id": "25419f16",
   "metadata": {},
   "outputs": [
    {
     "data": {
      "text/plain": [
       "True"
      ]
     },
     "execution_count": 3,
     "metadata": {},
     "output_type": "execute_result"
    }
   ],
   "source": [
    "lis = [1,2,3,4] # all are Truthy\n",
    "all(lis)"
   ]
  },
  {
   "cell_type": "code",
   "execution_count": null,
   "id": "6fbf8c99",
   "metadata": {},
   "outputs": [],
   "source": []
  },
  {
   "cell_type": "markdown",
   "id": "960b2a30",
   "metadata": {},
   "source": [
    "# day 320"
   ]
  },
  {
   "cell_type": "code",
   "execution_count": 4,
   "id": "24bb5959",
   "metadata": {
    "scrolled": false
   },
   "outputs": [
    {
     "data": {
      "text/html": [
       "\n",
       "        <iframe\n",
       "            width=\"1000\"\n",
       "            height=\"500\"\n",
       "            src=\"13+-+Reducing+Functions.pdf\"\n",
       "            frameborder=\"0\"\n",
       "            allowfullscreen\n",
       "            \n",
       "        ></iframe>\n",
       "        "
      ],
      "text/plain": [
       "<IPython.lib.display.IFrame at 0x1f9bca37310>"
      ]
     },
     "execution_count": 4,
     "metadata": {},
     "output_type": "execute_result"
    }
   ],
   "source": [
    "from IPython.display import IFrame\n",
    "IFrame(src='13+-+Reducing+Functions.pdf',height=500,width=1000)"
   ]
  },
  {
   "cell_type": "code",
   "execution_count": null,
   "id": "dfc2f4b6",
   "metadata": {},
   "outputs": [],
   "source": []
  },
  {
   "cell_type": "markdown",
   "id": "8662beca",
   "metadata": {},
   "source": [
    "# how to insert a video to jupyter notebook"
   ]
  },
  {
   "cell_type": "code",
   "execution_count": 1,
   "id": "9b989141",
   "metadata": {},
   "outputs": [
    {
     "data": {
      "image/jpeg": "[encoded data removed]",
      "text/html": [
       "\n",
       "        <iframe\n",
       "            width=\"400\"\n",
       "            height=\"300\"\n",
       "            src=\"https://www.youtube.com/embed/lWPNhP7ih-M\"\n",
       "            frameborder=\"0\"\n",
       "            allowfullscreen\n",
       "            \n",
       "        ></iframe>\n",
       "        "
      ],
      "text/plain": [
       "<IPython.lib.display.YouTubeVideo at 0x27b84fe9f10>"
      ]
     },
     "execution_count": 1,
     "metadata": {},
     "output_type": "execute_result"
    }
   ],
   "source": [
    "\n",
    "\n",
    "from IPython.display import YouTubeVideo\n",
    "\n",
    "YouTubeVideo('lWPNhP7ih-M')\n"
   ]
  },
  {
   "cell_type": "code",
   "execution_count": null,
   "id": "a2671fe7",
   "metadata": {},
   "outputs": [],
   "source": []
  },
  {
   "cell_type": "markdown",
   "id": "249755c1",
   "metadata": {},
   "source": [
    "# day 323"
   ]
  },
  {
   "cell_type": "markdown",
   "id": "3795ddae",
   "metadata": {},
   "source": [
    "# partial functions:"
   ]
  },
  {
   "cell_type": "code",
   "execution_count": 3,
   "id": "331aeae8",
   "metadata": {},
   "outputs": [
    {
     "data": {
      "text/html": [
       "\n",
       "        <iframe\n",
       "            width=\"1000\"\n",
       "            height=\"500\"\n",
       "            src=\"13+-+Reducing+Functions.pdf\"\n",
       "            frameborder=\"0\"\n",
       "            allowfullscreen\n",
       "            \n",
       "        ></iframe>\n",
       "        "
      ],
      "text/plain": [
       "<IPython.lib.display.IFrame at 0x27b85015fa0>"
      ]
     },
     "execution_count": 3,
     "metadata": {},
     "output_type": "execute_result"
    }
   ],
   "source": [
    "from IPython.display import IFrame\n",
    "IFrame(src='15+-+Partial+Functions.pdf',height=500,width=1000)"
   ]
  },
  {
   "cell_type": "code",
   "execution_count": 4,
   "id": "1d2bc92b",
   "metadata": {},
   "outputs": [],
   "source": [
    "# code:\n",
    "from functools import partial"
   ]
  },
  {
   "cell_type": "code",
   "execution_count": 6,
   "id": "3f705a8f",
   "metadata": {},
   "outputs": [
    {
     "name": "stdout",
     "output_type": "stream",
     "text": [
      "Help on class partial in module functools:\n",
      "\n",
      "class partial(builtins.object)\n",
      " |  partial(func, *args, **keywords) - new function with partial application\n",
      " |  of the given arguments and keywords.\n",
      " |  \n",
      " |  Methods defined here:\n",
      " |  \n",
      " |  __call__(self, /, *args, **kwargs)\n",
      " |      Call self as a function.\n",
      " |  \n",
      " |  __delattr__(self, name, /)\n",
      " |      Implement delattr(self, name).\n",
      " |  \n",
      " |  __getattribute__(self, name, /)\n",
      " |      Return getattr(self, name).\n",
      " |  \n",
      " |  __reduce__(...)\n",
      " |      Helper for pickle.\n",
      " |  \n",
      " |  __repr__(self, /)\n",
      " |      Return repr(self).\n",
      " |  \n",
      " |  __setattr__(self, name, value, /)\n",
      " |      Implement setattr(self, name, value).\n",
      " |  \n",
      " |  __setstate__(...)\n",
      " |  \n",
      " |  ----------------------------------------------------------------------\n",
      " |  Class methods defined here:\n",
      " |  \n",
      " |  __class_getitem__(...) from builtins.type\n",
      " |      See PEP 585\n",
      " |  \n",
      " |  ----------------------------------------------------------------------\n",
      " |  Static methods defined here:\n",
      " |  \n",
      " |  __new__(*args, **kwargs) from builtins.type\n",
      " |      Create and return a new object.  See help(type) for accurate signature.\n",
      " |  \n",
      " |  ----------------------------------------------------------------------\n",
      " |  Data descriptors defined here:\n",
      " |  \n",
      " |  __dict__\n",
      " |  \n",
      " |  args\n",
      " |      tuple of arguments to future partial calls\n",
      " |  \n",
      " |  func\n",
      " |      function object to use in future partial calls\n",
      " |  \n",
      " |  keywords\n",
      " |      dictionary of keyword arguments to future partial calls\n",
      "\n"
     ]
    }
   ],
   "source": [
    "help(partial)"
   ]
  },
  {
   "cell_type": "code",
   "execution_count": 5,
   "id": "4dda7315",
   "metadata": {},
   "outputs": [],
   "source": [
    "def pow_(base,exponent):\n",
    "    return base**exponent"
   ]
  },
  {
   "cell_type": "code",
   "execution_count": 8,
   "id": "6762b498",
   "metadata": {},
   "outputs": [],
   "source": [
    "square = partial(pow_,exponent=2)\n",
    "cube = partial(pow_,exponent=3)"
   ]
  },
  {
   "cell_type": "code",
   "execution_count": 9,
   "id": "8b29bfa8",
   "metadata": {},
   "outputs": [
    {
     "data": {
      "text/plain": [
       "25"
      ]
     },
     "execution_count": 9,
     "metadata": {},
     "output_type": "execute_result"
    }
   ],
   "source": [
    "square(5)"
   ]
  },
  {
   "cell_type": "code",
   "execution_count": 10,
   "id": "ce6f6495",
   "metadata": {},
   "outputs": [
    {
     "data": {
      "text/plain": [
       "125"
      ]
     },
     "execution_count": 10,
     "metadata": {},
     "output_type": "execute_result"
    }
   ],
   "source": [
    "cube(5)"
   ]
  },
  {
   "cell_type": "code",
   "execution_count": 11,
   "id": "2ab4f1be",
   "metadata": {},
   "outputs": [
    {
     "data": {
      "text/plain": [
       "functools.partial(<function <lambda> at 0x0000027B84FDC5E0>, y=(0, 0))"
      ]
     },
     "execution_count": 11,
     "metadata": {},
     "output_type": "execute_result"
    }
   ],
   "source": [
    "# sort these points in ascending order based on their distance to the origin\n",
    "\n",
    "points = [(0,1),(0,0),(1,1),(-3,5),(10,10)]\n",
    "origin = (0,0)\n",
    "eucledian_dist = lambda x,y: (x[0]-y[0])**2 + (x[1]-y[1])**2\n",
    "key = partial(eucledian_dist,y=origin)\n",
    "\n"
   ]
  },
  {
   "cell_type": "code",
   "execution_count": 12,
   "id": "42dbbf40",
   "metadata": {},
   "outputs": [
    {
     "data": {
      "text/plain": [
       "[(-3, 5), (0, 0), (0, 1), (1, 1), (10, 10)]"
      ]
     },
     "execution_count": 12,
     "metadata": {},
     "output_type": "execute_result"
    }
   ],
   "source": [
    "# sorting without key\n",
    "sorted(points)"
   ]
  },
  {
   "cell_type": "code",
   "execution_count": 13,
   "id": "a8d080ec",
   "metadata": {},
   "outputs": [
    {
     "data": {
      "text/plain": [
       "[(0, 0), (0, 1), (1, 1), (-3, 5), (10, 10)]"
      ]
     },
     "execution_count": 13,
     "metadata": {},
     "output_type": "execute_result"
    }
   ],
   "source": [
    "# sorting with key so that the points are arranged with respect to their distance to the origin in ascending order.\n",
    "sorted(points,key=key)"
   ]
  },
  {
   "cell_type": "code",
   "execution_count": 14,
   "id": "817204b5",
   "metadata": {},
   "outputs": [
    {
     "data": {
      "text/plain": [
       "[(0, 0), (0, 1), (1, 1), (-3, 5), (10, 10)]"
      ]
     },
     "execution_count": 14,
     "metadata": {},
     "output_type": "execute_result"
    }
   ],
   "source": [
    "# achieving the same without the functool called partial\n",
    "key = lambda x: eucledian_dist(x,origin)\n",
    "sorted(points,key=key)"
   ]
  },
  {
   "cell_type": "markdown",
   "id": "39446528",
   "metadata": {},
   "source": [
    "# conclusion:\n",
    "* partial reduces the number of times we need to define the hyperparameter.\n",
    "* partial reduces the use of excessive function-within-functions."
   ]
  },
  {
   "cell_type": "code",
   "execution_count": null,
   "id": "c95deaf7",
   "metadata": {},
   "outputs": [],
   "source": []
  },
  {
   "cell_type": "markdown",
   "id": "3d2cb081",
   "metadata": {},
   "source": [
    "# day 323,day 329"
   ]
  },
  {
   "cell_type": "markdown",
   "id": "c146fa51",
   "metadata": {},
   "source": [
    "# operator module:\n"
   ]
  },
  {
   "cell_type": "code",
   "execution_count": 1,
   "id": "7b1d1215",
   "metadata": {},
   "outputs": [
    {
     "data": {
      "text/html": [
       "\n",
       "        <iframe\n",
       "            width=\"1000\"\n",
       "            height=\"500\"\n",
       "            src=\"17+-+The+operator+Module.pdf\"\n",
       "            frameborder=\"0\"\n",
       "            allowfullscreen\n",
       "            \n",
       "        ></iframe>\n",
       "        "
      ],
      "text/plain": [
       "<IPython.lib.display.IFrame at 0x21c512e1be0>"
      ]
     },
     "execution_count": 1,
     "metadata": {},
     "output_type": "execute_result"
    }
   ],
   "source": [
    "from IPython.display import IFrame\n",
    "IFrame(src='17+-+The+operator+Module.pdf',height=500,width=1000)"
   ]
  },
  {
   "cell_type": "code",
   "execution_count": 2,
   "id": "a31de698",
   "metadata": {},
   "outputs": [
    {
     "data": {
      "text/plain": [
       "[1, 2, 3, 4]"
      ]
     },
     "execution_count": 2,
     "metadata": {},
     "output_type": "execute_result"
    }
   ],
   "source": [
    "lis = [1,2,3,4]\n",
    "lis"
   ]
  },
  {
   "cell_type": "code",
   "execution_count": 3,
   "id": "05407638",
   "metadata": {},
   "outputs": [],
   "source": [
    "del lis[3]"
   ]
  },
  {
   "cell_type": "code",
   "execution_count": 4,
   "id": "44aa4ef8",
   "metadata": {},
   "outputs": [
    {
     "data": {
      "text/plain": [
       "[1, 2, 3]"
      ]
     },
     "execution_count": 4,
     "metadata": {},
     "output_type": "execute_result"
    }
   ],
   "source": [
    "lis"
   ]
  },
  {
   "cell_type": "markdown",
   "id": "402fc3d5",
   "metadata": {},
   "source": [
    "# difference between attribute and methods"
   ]
  },
  {
   "cell_type": "code",
   "execution_count": 5,
   "id": "96b1eb0f",
   "metadata": {},
   "outputs": [],
   "source": [
    "class my_class:\n",
    "    def __init__(self,a,b,c):\n",
    "        self.a = a\n",
    "        self.b = b\n",
    "        self.c = c\n",
    "        \n",
    "    def add(self):\n",
    "        return self.a + self.b + self.b\n",
    "    \n",
    "    def mul(self):\n",
    "        return self.a * self.b * self.c"
   ]
  },
  {
   "cell_type": "code",
   "execution_count": 6,
   "id": "f8334333",
   "metadata": {},
   "outputs": [
    {
     "data": {
      "text/plain": [
       "<__main__.my_class at 0x21c51305130>"
      ]
     },
     "execution_count": 6,
     "metadata": {},
     "output_type": "execute_result"
    }
   ],
   "source": [
    "obj = my_class(10,20,30)\n",
    "obj"
   ]
  },
  {
   "cell_type": "markdown",
   "id": "00e92917",
   "metadata": {},
   "source": [
    "# attributes are\n"
   ]
  },
  {
   "cell_type": "code",
   "execution_count": 7,
   "id": "f657279e",
   "metadata": {},
   "outputs": [
    {
     "data": {
      "text/plain": [
       "10"
      ]
     },
     "execution_count": 7,
     "metadata": {},
     "output_type": "execute_result"
    }
   ],
   "source": [
    "obj.a"
   ]
  },
  {
   "cell_type": "code",
   "execution_count": 8,
   "id": "e324075e",
   "metadata": {},
   "outputs": [
    {
     "data": {
      "text/plain": [
       "20"
      ]
     },
     "execution_count": 8,
     "metadata": {},
     "output_type": "execute_result"
    }
   ],
   "source": [
    "obj.b"
   ]
  },
  {
   "cell_type": "code",
   "execution_count": 9,
   "id": "f6e4adc0",
   "metadata": {},
   "outputs": [
    {
     "data": {
      "text/plain": [
       "30"
      ]
     },
     "execution_count": 9,
     "metadata": {},
     "output_type": "execute_result"
    }
   ],
   "source": [
    "obj.c"
   ]
  },
  {
   "cell_type": "markdown",
   "id": "ac36fc04",
   "metadata": {},
   "source": [
    "# methods are"
   ]
  },
  {
   "cell_type": "code",
   "execution_count": 10,
   "id": "e77316fa",
   "metadata": {},
   "outputs": [
    {
     "data": {
      "text/plain": [
       "50"
      ]
     },
     "execution_count": 10,
     "metadata": {},
     "output_type": "execute_result"
    }
   ],
   "source": [
    "obj.add()"
   ]
  },
  {
   "cell_type": "code",
   "execution_count": 11,
   "id": "d771d8bc",
   "metadata": {},
   "outputs": [
    {
     "data": {
      "text/plain": [
       "6000"
      ]
     },
     "execution_count": 11,
     "metadata": {},
     "output_type": "execute_result"
    }
   ],
   "source": [
    "obj.mul()"
   ]
  },
  {
   "cell_type": "code",
   "execution_count": null,
   "id": "d88e24e8",
   "metadata": {},
   "outputs": [],
   "source": []
  }
 ],
 "metadata": {
  "kernelspec": {
   "display_name": "Python 3 (ipykernel)",
   "language": "python",
   "name": "python3"
  },
  "language_info": {
   "codemirror_mode": {
    "name": "ipython",
    "version": 3
   },
   "file_extension": ".py",
   "mimetype": "text/x-python",
   "name": "python",
   "nbconvert_exporter": "python",
   "pygments_lexer": "ipython3",
   "version": "3.9.12"
  }
 },
 "nbformat": 4,
 "nbformat_minor": 5
}
