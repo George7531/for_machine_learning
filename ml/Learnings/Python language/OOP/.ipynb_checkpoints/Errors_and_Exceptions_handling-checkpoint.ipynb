{
 "cells": [
  {
   "cell_type": "code",
   "execution_count": 7,
   "id": "04e19e34-5b19-487a-a0af-378fbb9591a5",
   "metadata": {},
   "outputs": [],
   "source": [
    "def ask_for_int():\n",
    "\n",
    "    while True:\n",
    "        try:\n",
    "            a = int(input(\"Enter a number: \"))\n",
    "        except:\n",
    "            print(\"please check your input and try again!\")\n",
    "        else:\n",
    "            print(\"yes thank you!\")\n",
    "            break # break the infinite loop once you get a valid input"
   ]
  },
  {
   "cell_type": "code",
   "execution_count": 9,
   "id": "a77964f5-6af0-48d7-b2ef-3bb027242cc7",
   "metadata": {},
   "outputs": [
    {
     "name": "stdin",
     "output_type": "stream",
     "text": [
      "Enter a number:  df\n"
     ]
    },
    {
     "name": "stdout",
     "output_type": "stream",
     "text": [
      "please check your input and try again!\n"
     ]
    },
    {
     "name": "stdin",
     "output_type": "stream",
     "text": [
      "Enter a number:  fsf\n"
     ]
    },
    {
     "name": "stdout",
     "output_type": "stream",
     "text": [
      "please check your input and try again!\n"
     ]
    },
    {
     "name": "stdin",
     "output_type": "stream",
     "text": [
      "Enter a number:  8\n"
     ]
    },
    {
     "name": "stdout",
     "output_type": "stream",
     "text": [
      "yes thank you!\n"
     ]
    }
   ],
   "source": [
    "ask_for_int()"
   ]
  },
  {
   "cell_type": "code",
   "execution_count": null,
   "id": "c91751a1-1e5f-423c-99c4-ca4febcd4881",
   "metadata": {},
   "outputs": [],
   "source": []
  }
 ],
 "metadata": {
  "kernelspec": {
   "display_name": "Python 3 (ipykernel)",
   "language": "python",
   "name": "python3"
  },
  "language_info": {
   "codemirror_mode": {
    "name": "ipython",
    "version": 3
   },
   "file_extension": ".py",
   "mimetype": "text/x-python",
   "name": "python",
   "nbconvert_exporter": "python",
   "pygments_lexer": "ipython3",
   "version": "3.12.4"
  }
 },
 "nbformat": 4,
 "nbformat_minor": 5
}
