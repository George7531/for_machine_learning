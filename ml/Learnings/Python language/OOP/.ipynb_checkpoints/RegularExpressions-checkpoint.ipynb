{
 "cells": [
  {
   "cell_type": "markdown",
   "id": "7fc9d043-a5d1-42ad-83ac-e696399138aa",
   "metadata": {},
   "source": [
    "# day 454"
   ]
  },
  {
   "cell_type": "markdown",
   "id": "befb556c-3050-4799-bdfe-61701071a77d",
   "metadata": {},
   "source": [
    "# What is RegEx?\n",
    "\n",
    "A RegEx, or Regular Expression, is a sequence of characters that forms a search pattern.\n",
    "\n",
    "RegEx can be used to check if a string contains the specified search pattern."
   ]
  },
  {
   "cell_type": "code",
   "execution_count": 11,
   "id": "f1854f6f-3fe9-4249-8412-5b6148a6de8b",
   "metadata": {},
   "outputs": [],
   "source": [
    "import re\n",
    "\n",
    "# Search the string to see if it starts with \"The\" and ends with \"Spain\":\n",
    "txt = \"The rain in Spain\"\n",
    "x = re.search(\"^The.*Spain$\", txt)"
   ]
  },
  {
   "cell_type": "code",
   "execution_count": 13,
   "id": "0176bc7e-3b29-4081-b170-5c4c27145168",
   "metadata": {},
   "outputs": [
    {
     "data": {
      "text/plain": [
       "<re.Match object; span=(0, 17), match='The rain in Spain'>"
      ]
     },
     "execution_count": 13,
     "metadata": {},
     "output_type": "execute_result"
    }
   ],
   "source": [
    "x"
   ]
  },
  {
   "cell_type": "code",
   "execution_count": 65,
   "id": "b8c6b051-992f-418a-a6f1-50a7a1f2988d",
   "metadata": {},
   "outputs": [
    {
     "data": {
      "text/latex": [
       "$\\displaystyle \n",
       "\\begin{array}{|l|l|}\n",
       "\\hline\n",
       "\\textbf{Function} & \\textbf{Description} \\\\ \\hline\n",
       "\\texttt{findall}  & \\text{Returns a list containing all matches} \\\\ \\hline\n",
       "\\texttt{search}   & \\text{Returns a Match object if there is a match anywhere in the string} \\\\ \\hline\n",
       "\\texttt{split}    & \\text{Returns a list where the string has been split at each match } \\\\ \\hline\n",
       "\\texttt{sub}      & \\text{Replaces one or many matches with a string }\\\\ \\hline\n",
       "\\end{array}\n",
       "$"
      ],
      "text/plain": [
       "<IPython.core.display.Math object>"
      ]
     },
     "metadata": {},
     "output_type": "display_data"
    }
   ],
   "source": [
    "from IPython.display import display, Math\n",
    "\n",
    "table_latex = r\"\"\"\n",
    "\\begin{array}{|l|l|}\n",
    "\\hline\n",
    "\\textbf{Function} & \\textbf{Description} \\\\ \\hline\n",
    "\\texttt{findall}  & \\text{Returns a list containing all matches} \\\\ \\hline\n",
    "\\texttt{search}   & \\text{Returns a Match object if there is a match anywhere in the string} \\\\ \\hline\n",
    "\\texttt{split}    & \\text{Returns a list where the string has been split at each match } \\\\ \\hline\n",
    "\\texttt{sub}      & \\text{Replaces one or many matches with a string }\\\\ \\hline\n",
    "\\end{array}\n",
    "\"\"\"\n",
    "\n",
    "display(Math(table_latex))\n"
   ]
  },
  {
   "cell_type": "markdown",
   "id": "5d62864d-f6f5-4296-bf0e-d09a4861fd9f",
   "metadata": {},
   "source": [
    "![sfsdf](python_regex.jpg)"
   ]
  },
  {
   "cell_type": "code",
   "execution_count": null,
   "id": "01c68425-d8c7-48a4-a42e-5c1867db7e1f",
   "metadata": {},
   "outputs": [],
   "source": [
    "import re\n",
    "\n",
    "txt = \"The rain in Spain\"\n",
    "\n",
    "#Find all lower case characters alphabetically between \"a\" and \"m\":\n",
    "\n",
    "x = re.findall(\"[a-g]\", txt)\n",
    "print(x)\n"
   ]
  },
  {
   "cell_type": "code",
   "execution_count": 36,
   "id": "1e4a7d82-849e-4f7b-a30d-2182756babea",
   "metadata": {},
   "outputs": [
    {
     "data": {
      "text/plain": [
       "['G']"
      ]
     },
     "execution_count": 36,
     "metadata": {},
     "output_type": "execute_result"
    }
   ],
   "source": [
    "text = 'George is big'\n",
    "\n",
    "x = re.findall(\"[A-Z]\",text)\n",
    "x"
   ]
  },
  {
   "cell_type": "markdown",
   "id": "dcc6f92c-9167-4cff-894e-765939464221",
   "metadata": {},
   "source": [
    "# find all digit characters"
   ]
  },
  {
   "cell_type": "code",
   "execution_count": 46,
   "id": "cbf0592f-ad9f-4a0a-99e2-e1bd5c49602f",
   "metadata": {},
   "outputs": [
    {
     "name": "stdout",
     "output_type": "stream",
     "text": [
      "['5', '9']\n"
     ]
    },
    {
     "name": "stderr",
     "output_type": "stream",
     "text": [
      "<>:8: SyntaxWarning: invalid escape sequence '\\d'\n",
      "<>:8: SyntaxWarning: invalid escape sequence '\\d'\n",
      "C:\\Users\\ADMIN\\AppData\\Local\\Temp\\ipykernel_14032\\744852085.py:8: SyntaxWarning: invalid escape sequence '\\d'\n",
      "  x = re.findall(\"\\d\", txt)\n"
     ]
    }
   ],
   "source": [
    "# find all digit characters\n",
    "import re\n",
    "\n",
    "txt = \"That will be 59 dollars\"\n",
    "\n",
    "#Find all digit characters:\n",
    "\n",
    "x = re.findall(\"\\d\", txt)\n",
    "print(x)\n"
   ]
  },
  {
   "cell_type": "code",
   "execution_count": 49,
   "id": "4863d504-f3da-46cd-a267-0b53a613a265",
   "metadata": {},
   "outputs": [
    {
     "name": "stdout",
     "output_type": "stream",
     "text": [
      "['5', '9']\n"
     ]
    }
   ],
   "source": [
    "import re\n",
    "\n",
    "txt = \"That will be 59 dollars\"\n",
    "\n",
    "#Find all digit characters:\n",
    "\n",
    "x = re.findall(\"\\\\d\", txt)\n",
    "print(x)\n"
   ]
  },
  {
   "cell_type": "code",
   "execution_count": 53,
   "id": "67eff7a4-e536-4d0b-b31a-ddea738e5d25",
   "metadata": {},
   "outputs": [
    {
     "name": "stdout",
     "output_type": "stream",
     "text": [
      "['d']\n"
     ]
    },
    {
     "data": {
      "text/plain": [
       "'This is wrong!!! '"
      ]
     },
     "execution_count": 53,
     "metadata": {},
     "output_type": "execute_result"
    }
   ],
   "source": [
    "import re\n",
    "\n",
    "txt = \"That will be 59 dollars\"\n",
    "\n",
    "#Find all digit characters:\n",
    "\n",
    "x = re.findall(\"d\", txt)\n",
    "print(x)\n",
    "'''This is wrong!!! '''"
   ]
  },
  {
   "cell_type": "code",
   "execution_count": null,
   "id": "b9e83abc-e21e-46b6-aee4-4fa5d7b0af77",
   "metadata": {},
   "outputs": [],
   "source": []
  },
  {
   "cell_type": "markdown",
   "id": "841ef492-f907-471d-8219-f0e6e4a0af0e",
   "metadata": {},
   "source": [
    "# Any character (except newline character):"
   ]
  },
  {
   "cell_type": "code",
   "execution_count": 57,
   "id": "46899777-f9eb-40bc-a66a-498c75323ac7",
   "metadata": {},
   "outputs": [
    {
     "name": "stdout",
     "output_type": "stream",
     "text": [
      "['hello']\n"
     ]
    }
   ],
   "source": [
    "import re\n",
    "\n",
    "txt = \"hello planet\"\n",
    "\n",
    "#Search for a sequence that starts with \"he\", followed by two (any) characters, and an \"o\":\n",
    "\n",
    "x = re.findall(\"he..o\", txt)\n",
    "print(x)\n"
   ]
  },
  {
   "cell_type": "code",
   "execution_count": 73,
   "id": "d605eee4-b42b-40f8-b548-86de8ab418a4",
   "metadata": {},
   "outputs": [
    {
     "data": {
      "text/plain": [
       "[]"
      ]
     },
     "execution_count": 73,
     "metadata": {},
     "output_type": "execute_result"
    }
   ],
   "source": [
    "x = re.findall('he.o',txt)\n",
    "x"
   ]
  },
  {
   "cell_type": "code",
   "execution_count": 75,
   "id": "d0075a07-b345-4a25-97ec-d5cf677d5a30",
   "metadata": {},
   "outputs": [
    {
     "data": {
      "text/plain": [
       "['planet']"
      ]
     },
     "execution_count": 75,
     "metadata": {},
     "output_type": "execute_result"
    }
   ],
   "source": [
    "x = re.findall('pl....',txt)\n",
    "x"
   ]
  },
  {
   "cell_type": "code",
   "execution_count": null,
   "id": "16220e13-da90-4b48-9fe3-05fdcdc356b3",
   "metadata": {},
   "outputs": [],
   "source": []
  },
  {
   "cell_type": "markdown",
   "id": "4a98370c-3d03-4073-8b77-fd14ad778756",
   "metadata": {},
   "source": [
    "# ^ starts with"
   ]
  },
  {
   "cell_type": "code",
   "execution_count": 78,
   "id": "1d43fd9a-32bc-4344-8a99-81a53a8d0a10",
   "metadata": {},
   "outputs": [
    {
     "name": "stdout",
     "output_type": "stream",
     "text": [
      "Yes, the string starts with 'hello'\n"
     ]
    }
   ],
   "source": [
    "import re\n",
    "\n",
    "txt = \"hello planet\"\n",
    "\n",
    "#Check if the string starts with 'hello':\n",
    "\n",
    "x = re.findall(\"^hello\", txt)\n",
    "if x:\n",
    "  print(\"Yes, the string starts with 'hello'\")\n",
    "else:\n",
    "  print(\"No match\")\n"
   ]
  },
  {
   "cell_type": "code",
   "execution_count": 82,
   "id": "c6c911e1-d619-40bc-b85b-6b2ff4957598",
   "metadata": {},
   "outputs": [
    {
     "data": {
      "text/plain": [
       "['creame']"
      ]
     },
     "execution_count": 82,
     "metadata": {},
     "output_type": "execute_result"
    }
   ],
   "source": [
    "txt = 'creame is thick'\n",
    "x = re.findall('^creame',txt)\n",
    "\n",
    "x"
   ]
  },
  {
   "cell_type": "code",
   "execution_count": null,
   "id": "8890680b-82cd-454b-bb7a-7dc783fe66bf",
   "metadata": {},
   "outputs": [],
   "source": []
  },
  {
   "cell_type": "markdown",
   "id": "439736e0-2c00-4b23-b9f5-3c57b15114cc",
   "metadata": {},
   "source": [
    "# ends with $"
   ]
  },
  {
   "cell_type": "code",
   "execution_count": 85,
   "id": "624e21ce-d919-4b9a-af64-f4c01c2b5aca",
   "metadata": {},
   "outputs": [
    {
     "name": "stdout",
     "output_type": "stream",
     "text": [
      "Yes, the string ends with 'planet'\n"
     ]
    }
   ],
   "source": [
    "import re\n",
    "\n",
    "txt = \"hello planet\"\n",
    "\n",
    "#Check if the string ends with 'planet':\n",
    "\n",
    "x = re.findall(\"planet$\", txt)\n",
    "if x:\n",
    "  print(\"Yes, the string ends with 'planet'\")\n",
    "else:\n",
    "  print(\"No match\")\n"
   ]
  },
  {
   "cell_type": "code",
   "execution_count": null,
   "id": "e40dd8b4-3852-4a91-b1f2-15fe4a66f9de",
   "metadata": {},
   "outputs": [],
   "source": []
  },
  {
   "cell_type": "markdown",
   "id": "90148c43-e500-4a78-8260-ff5229c146f5",
   "metadata": {},
   "source": [
    "# .* zero or more occurence"
   ]
  },
  {
   "cell_type": "code",
   "execution_count": 88,
   "id": "9c1eb09f-6022-4580-87e8-0d1326c41fa2",
   "metadata": {},
   "outputs": [
    {
     "name": "stdout",
     "output_type": "stream",
     "text": [
      "['hello']\n"
     ]
    }
   ],
   "source": [
    "import re\n",
    "\n",
    "txt = \"hello planet\"\n",
    "\n",
    "#Search for a sequence that starts with \"he\", followed by 0 or more  (any) characters, and an \"o\":\n",
    "\n",
    "x = re.findall(\"he.*o\", txt)\n",
    "\n",
    "print(x)\n"
   ]
  },
  {
   "cell_type": "code",
   "execution_count": 92,
   "id": "6a9c7db7-4dda-47c6-9f57-656818612dfc",
   "metadata": {},
   "outputs": [
    {
     "data": {
      "text/plain": [
       "['planet']"
      ]
     },
     "execution_count": 92,
     "metadata": {},
     "output_type": "execute_result"
    }
   ],
   "source": [
    "re.findall('p.*et',txt)"
   ]
  },
  {
   "cell_type": "code",
   "execution_count": 94,
   "id": "6bba0cb0-91dd-4d72-9909-b42a8a68f686",
   "metadata": {},
   "outputs": [
    {
     "data": {
      "text/plain": [
       "['planet']"
      ]
     },
     "execution_count": 94,
     "metadata": {},
     "output_type": "execute_result"
    }
   ],
   "source": [
    "re.findall('p.*',txt)"
   ]
  },
  {
   "cell_type": "code",
   "execution_count": 105,
   "id": "a227ca57-c3d5-4449-ab63-0264c6e986b6",
   "metadata": {},
   "outputs": [
    {
     "name": "stdout",
     "output_type": "stream",
     "text": [
      "['', '', '', '', '', '', 'p', '', '', '', '', '', '']\n"
     ]
    },
    {
     "data": {
      "text/plain": [
       "\"it doesn't work if you don't put . in front of * \""
      ]
     },
     "execution_count": 105,
     "metadata": {},
     "output_type": "execute_result"
    }
   ],
   "source": [
    "print(re.findall('p*',txt))\n",
    "\"\"\"it doesn't work if you don't put . in front of * \"\"\""
   ]
  },
  {
   "cell_type": "code",
   "execution_count": 113,
   "id": "144a7a15-c1a1-4e1e-8095-4f92a656f845",
   "metadata": {},
   "outputs": [
    {
     "name": "stdout",
     "output_type": "stream",
     "text": [
      "['hello planet']\n"
     ]
    }
   ],
   "source": [
    "print(re.findall('.*et',txt))"
   ]
  },
  {
   "cell_type": "code",
   "execution_count": null,
   "id": "397771cf-3a58-4c35-813e-75f2e261aaf0",
   "metadata": {},
   "outputs": [],
   "source": []
  },
  {
   "cell_type": "markdown",
   "id": "b7f0e090-ba6f-4898-8238-feb90c4779a4",
   "metadata": {},
   "source": [
    "# .+ one or more occurence"
   ]
  },
  {
   "cell_type": "code",
   "execution_count": 117,
   "id": "6f51c1c6-7555-407d-b053-4f84317593f5",
   "metadata": {},
   "outputs": [
    {
     "name": "stdout",
     "output_type": "stream",
     "text": [
      "['hello']\n"
     ]
    }
   ],
   "source": [
    "import re\n",
    "\n",
    "txt = \"hello planet\"\n",
    "\n",
    "#Search for a sequence that starts with \"he\", followed by 1 or more  (any) characters, and an \"o\":\n",
    "\n",
    "x = re.findall(\"he.+o\", txt)\n",
    "\n",
    "print(x)\n"
   ]
  },
  {
   "cell_type": "code",
   "execution_count": 119,
   "id": "4c76c63c-5d0b-4f02-aa54-4c1041012b0c",
   "metadata": {},
   "outputs": [
    {
     "data": {
      "text/plain": [
       "['planet']"
      ]
     },
     "execution_count": 119,
     "metadata": {},
     "output_type": "execute_result"
    }
   ],
   "source": [
    "re.findall('p.+',txt)"
   ]
  },
  {
   "cell_type": "code",
   "execution_count": null,
   "id": "b2c8c2bc-9e68-4ab5-b174-005e0792a2c0",
   "metadata": {},
   "outputs": [],
   "source": []
  },
  {
   "cell_type": "markdown",
   "id": "e6445f37-f125-478d-b0d6-42c633159ba2",
   "metadata": {},
   "source": [
    "# .? zero or one occcurence"
   ]
  },
  {
   "cell_type": "code",
   "execution_count": 132,
   "id": "b5d179d8-20f0-4737-81a4-501f66081985",
   "metadata": {},
   "outputs": [
    {
     "name": "stdout",
     "output_type": "stream",
     "text": [
      "[]\n"
     ]
    }
   ],
   "source": [
    "import re\n",
    "\n",
    "txt = \"hello planet\"\n",
    "\n",
    "#Search for a sequence that starts with \"he\", followed by 0 or 1  (any) character, and an \"o\":\n",
    "\n",
    "x = re.findall(\"he.?o\", txt)\n",
    "\n",
    "print(x)\n",
    "\n",
    "#This time we got no match, because there were not zero, not one, but two characters between \"he\" and the \"o\"\n"
   ]
  },
  {
   "cell_type": "code",
   "execution_count": 134,
   "id": "bbd2d030-6cb4-4538-832a-d48214c7ab05",
   "metadata": {},
   "outputs": [
    {
     "data": {
      "text/plain": [
       "['hello']"
      ]
     },
     "execution_count": 134,
     "metadata": {},
     "output_type": "execute_result"
    }
   ],
   "source": [
    "re.findall('hel.?o',txt)"
   ]
  },
  {
   "cell_type": "code",
   "execution_count": 136,
   "id": "eef219f8-6ed0-4fab-8495-091343c291f8",
   "metadata": {},
   "outputs": [
    {
     "data": {
      "text/plain": [
       "['6', '9']"
      ]
     },
     "execution_count": 136,
     "metadata": {},
     "output_type": "execute_result"
    }
   ],
   "source": [
    "txt = 'dick is 69 position'\n",
    "\n",
    "re.findall('\\\\d',txt)"
   ]
  },
  {
   "cell_type": "code",
   "execution_count": null,
   "id": "a2873e46-bf91-4ff1-9fcb-3a6b4190aad4",
   "metadata": {},
   "outputs": [],
   "source": []
  },
  {
   "cell_type": "markdown",
   "id": "a97d28c5-432a-4f45-8087-54308ad42c39",
   "metadata": {},
   "source": [
    "# .{} exactly the specified number of instances"
   ]
  },
  {
   "cell_type": "code",
   "execution_count": 139,
   "id": "b59100d0-26eb-4d4c-9503-689e39b368f9",
   "metadata": {},
   "outputs": [
    {
     "name": "stdout",
     "output_type": "stream",
     "text": [
      "['hello']\n"
     ]
    }
   ],
   "source": [
    "import re\n",
    "\n",
    "txt = \"hello planet\"\n",
    "\n",
    "#Search for a sequence that starts with \"he\", followed excactly 2 (any) characters, and an \"o\":\n",
    "\n",
    "x = re.findall(\"he.{2}o\", txt)\n",
    "\n",
    "print(x)\n"
   ]
  },
  {
   "cell_type": "code",
   "execution_count": null,
   "id": "a758dba5-530d-40be-8a09-cd916fa78b36",
   "metadata": {},
   "outputs": [],
   "source": []
  }
 ],
 "metadata": {
  "kernelspec": {
   "display_name": "Python 3 (ipykernel)",
   "language": "python",
   "name": "python3"
  },
  "language_info": {
   "codemirror_mode": {
    "name": "ipython",
    "version": 3
   },
   "file_extension": ".py",
   "mimetype": "text/x-python",
   "name": "python",
   "nbconvert_exporter": "python",
   "pygments_lexer": "ipython3",
   "version": "3.12.4"
  }
 },
 "nbformat": 4,
 "nbformat_minor": 5
}
