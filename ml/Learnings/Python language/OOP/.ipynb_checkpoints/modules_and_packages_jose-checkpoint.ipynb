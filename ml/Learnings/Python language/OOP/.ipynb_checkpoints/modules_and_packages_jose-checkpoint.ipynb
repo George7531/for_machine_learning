{
 "cells": [
  {
   "cell_type": "markdown",
   "id": "a8ca3dc7-6a0f-44bc-8e5a-f7a83ae8e551",
   "metadata": {},
   "source": [
    "# day 445"
   ]
  },
  {
   "cell_type": "code",
   "execution_count": null,
   "id": "8876752b-e34c-4171-89f6-8e7620b84c7c",
   "metadata": {},
   "outputs": [],
   "source": []
  },
  {
   "cell_type": "markdown",
   "id": "aa919be2-78be-45f1-ab7f-6fea05da6cb1",
   "metadata": {},
   "source": [
    "# How to install packages of other people?"
   ]
  },
  {
   "cell_type": "code",
   "execution_count": 2,
   "id": "4a678eee-ee8a-4717-8fb2-d323c47b6578",
   "metadata": {},
   "outputs": [
    {
     "name": "stdout",
     "output_type": "stream",
     "text": [
      "Requirement already satisfied: requests in c:\\users\\admin\\anaconda3\\lib\\site-packages (2.32.2)\n",
      "Requirement already satisfied: charset-normalizer<4,>=2 in c:\\users\\admin\\anaconda3\\lib\\site-packages (from requests) (2.0.4)\n",
      "Requirement already satisfied: idna<4,>=2.5 in c:\\users\\admin\\anaconda3\\lib\\site-packages (from requests) (3.7)\n",
      "Requirement already satisfied: urllib3<3,>=1.21.1 in c:\\users\\admin\\anaconda3\\lib\\site-packages (from requests) (2.2.2)\n",
      "Requirement already satisfied: certifi>=2017.4.17 in c:\\users\\admin\\anaconda3\\lib\\site-packages (from requests) (2024.7.4)\n"
     ]
    }
   ],
   "source": [
    "!pip install requests"
   ]
  },
  {
   "cell_type": "code",
   "execution_count": null,
   "id": "347af057-6bf0-4616-bfbd-a1006470ca47",
   "metadata": {},
   "outputs": [],
   "source": []
  },
  {
   "cell_type": "code",
   "execution_count": 4,
   "id": "132df10f-3d49-4da1-9890-87fc886d1af2",
   "metadata": {},
   "outputs": [
    {
     "name": "stdout",
     "output_type": "stream",
     "text": [
      "Requirement already satisfied: colorama in c:\\users\\admin\\anaconda3\\lib\\site-packages (0.4.6)\n"
     ]
    }
   ],
   "source": [
    "!pip install colorama"
   ]
  },
  {
   "cell_type": "code",
   "execution_count": 6,
   "id": "ac3952ce-8552-48fc-ae3a-e32f1eab68b7",
   "metadata": {},
   "outputs": [],
   "source": [
    "from colorama import init"
   ]
  },
  {
   "cell_type": "code",
   "execution_count": 8,
   "id": "efb3f82a-eb33-4b67-bb28-45b93c92073f",
   "metadata": {},
   "outputs": [],
   "source": [
    "init()"
   ]
  },
  {
   "cell_type": "code",
   "execution_count": 12,
   "id": "53c772ca-5ba3-4360-bb9b-b072bafe67fb",
   "metadata": {},
   "outputs": [],
   "source": [
    "from colorama import Fore"
   ]
  },
  {
   "cell_type": "code",
   "execution_count": 20,
   "id": "f54e3a71-755a-4936-8c61-bde5cd421ce6",
   "metadata": {},
   "outputs": [
    {
     "name": "stdout",
     "output_type": "stream",
     "text": [
      "George is an honest man!\n"
     ]
    }
   ],
   "source": [
    "print(Fore. + \"George is an honest man!\")"
   ]
  },
  {
   "cell_type": "code",
   "execution_count": null,
   "id": "d1109d3a-ebb7-405a-9f22-d9a6c77024a3",
   "metadata": {},
   "outputs": [],
   "source": []
  },
  {
   "cell_type": "markdown",
   "id": "1cec377f-e9c2-4a6d-a07e-450380ada330",
   "metadata": {},
   "source": [
    "# How to create your own modules and packages?\n",
    "\n",
    "\n",
    "* Modules are just .py scripts\n",
    "* packages are a bunch of modules put together in a folder.\n",
    "* "
   ]
  },
  {
   "cell_type": "code",
   "execution_count": null,
   "id": "97658aef-2a1a-452e-bc76-c3dc8beb59f8",
   "metadata": {},
   "outputs": [],
   "source": []
  },
  {
   "cell_type": "code",
   "execution_count": null,
   "id": "5842aa04-9e20-4e3c-b66c-8eaa83104b62",
   "metadata": {},
   "outputs": [],
   "source": []
  },
  {
   "cell_type": "code",
   "execution_count": null,
   "id": "310edfbb-eec2-49cd-93d3-c181f50ab63f",
   "metadata": {},
   "outputs": [],
   "source": []
  }
 ],
 "metadata": {
  "kernelspec": {
   "display_name": "Python 3 (ipykernel)",
   "language": "python",
   "name": "python3"
  },
  "language_info": {
   "codemirror_mode": {
    "name": "ipython",
    "version": 3
   },
   "file_extension": ".py",
   "mimetype": "text/x-python",
   "name": "python",
   "nbconvert_exporter": "python",
   "pygments_lexer": "ipython3",
   "version": "3.12.4"
  }
 },
 "nbformat": 4,
 "nbformat_minor": 5
}
