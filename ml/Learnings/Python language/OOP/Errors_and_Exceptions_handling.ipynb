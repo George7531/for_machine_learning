{
 "cells": [
  {
   "cell_type": "code",
   "execution_count": 7,
   "id": "04e19e34-5b19-487a-a0af-378fbb9591a5",
   "metadata": {},
   "outputs": [],
   "source": [
    "def ask_for_int():\n",
    "\n",
    "    while True:\n",
    "        try:\n",
    "            a = int(input(\"Enter a number: \"))\n",
    "        except:\n",
    "            print(\"please check your input and try again!\")\n",
    "        else:\n",
    "            print(\"yes thank you!\")\n",
    "            break # break the infinite loop once you get a valid input"
   ]
  },
  {
   "cell_type": "code",
   "execution_count": 9,
   "id": "a77964f5-6af0-48d7-b2ef-3bb027242cc7",
   "metadata": {},
   "outputs": [
    {
     "name": "stdin",
     "output_type": "stream",
     "text": [
      "Enter a number:  df\n"
     ]
    },
    {
     "name": "stdout",
     "output_type": "stream",
     "text": [
      "please check your input and try again!\n"
     ]
    },
    {
     "name": "stdin",
     "output_type": "stream",
     "text": [
      "Enter a number:  fsf\n"
     ]
    },
    {
     "name": "stdout",
     "output_type": "stream",
     "text": [
      "please check your input and try again!\n"
     ]
    },
    {
     "name": "stdin",
     "output_type": "stream",
     "text": [
      "Enter a number:  8\n"
     ]
    },
    {
     "name": "stdout",
     "output_type": "stream",
     "text": [
      "yes thank you!\n"
     ]
    }
   ],
   "source": [
    "ask_for_int()"
   ]
  },
  {
   "cell_type": "code",
   "execution_count": 11,
   "id": "c91751a1-1e5f-423c-99c4-ca4febcd4881",
   "metadata": {},
   "outputs": [],
   "source": [
    "def ask_for_int():\n",
    "\n",
    "    while True:\n",
    "        try:\n",
    "            a = int(input(\"Enter a number: \"))\n",
    "        except:\n",
    "            print(\"please check your input and try again!\")\n",
    "        else:\n",
    "            print(\"yes thank you!\")\n",
    "            break # break the infinite loop once you get a valid input\n",
    "        finally:\n",
    "            print(\"I'm a dick. I always come.\")"
   ]
  },
  {
   "cell_type": "code",
   "execution_count": 13,
   "id": "62de276b-807b-4100-aa73-cbe2f021e791",
   "metadata": {},
   "outputs": [
    {
     "name": "stdin",
     "output_type": "stream",
     "text": [
      "Enter a number:  dsf\n"
     ]
    },
    {
     "name": "stdout",
     "output_type": "stream",
     "text": [
      "please check your input and try again!\n",
      "I'm a dick. I always come.\n"
     ]
    },
    {
     "name": "stdin",
     "output_type": "stream",
     "text": [
      "Enter a number:  sf\n"
     ]
    },
    {
     "name": "stdout",
     "output_type": "stream",
     "text": [
      "please check your input and try again!\n",
      "I'm a dick. I always come.\n"
     ]
    },
    {
     "name": "stdin",
     "output_type": "stream",
     "text": [
      "Enter a number:  5\n"
     ]
    },
    {
     "name": "stdout",
     "output_type": "stream",
     "text": [
      "yes thank you!\n",
      "I'm a dick. I always come.\n"
     ]
    }
   ],
   "source": [
    "ask_for_int()\n"
   ]
  },
  {
   "cell_type": "code",
   "execution_count": null,
   "id": "b558c5f5-6749-4930-b263-766b97cce916",
   "metadata": {},
   "outputs": [],
   "source": []
  },
  {
   "cell_type": "code",
   "execution_count": 15,
   "id": "9183c153-ebbc-4550-8ce5-725ecc482265",
   "metadata": {},
   "outputs": [
    {
     "name": "stdin",
     "output_type": "stream",
     "text": [
      "Enter a number:  98\n"
     ]
    },
    {
     "name": "stdout",
     "output_type": "stream",
     "text": [
      "yes thank you!\n",
      "I'm a dick. I always come.\n"
     ]
    }
   ],
   "source": [
    "ask_for_int()"
   ]
  },
  {
   "cell_type": "code",
   "execution_count": null,
   "id": "d0d2b40e-1ad7-4b45-a655-518d3fc92cb6",
   "metadata": {},
   "outputs": [],
   "source": []
  }
 ],
 "metadata": {
  "kernelspec": {
   "display_name": "Python 3 (ipykernel)",
   "language": "python",
   "name": "python3"
  },
  "language_info": {
   "codemirror_mode": {
    "name": "ipython",
    "version": 3
   },
   "file_extension": ".py",
   "mimetype": "text/x-python",
   "name": "python",
   "nbconvert_exporter": "python",
   "pygments_lexer": "ipython3",
   "version": "3.12.4"
  }
 },
 "nbformat": 4,
 "nbformat_minor": 5
}
