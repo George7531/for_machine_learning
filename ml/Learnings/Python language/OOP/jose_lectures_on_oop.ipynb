{
 "cells": [
  {
   "cell_type": "markdown",
   "id": "cbf9dc42-e75e-4b88-94e4-e9481db38feb",
   "metadata": {},
   "source": [
    "# day 439"
   ]
  },
  {
   "cell_type": "markdown",
   "id": "27fb28f5-c980-4dff-ba89-ab9548d8cdf0",
   "metadata": {},
   "source": [
    "# Object Oriented Programming;\n",
    "* it allows users to create their own objects,methods and attributes. we do this with the help of class.\n",
    "* method is a function inside a class"
   ]
  },
  {
   "cell_type": "code",
   "execution_count": 11,
   "id": "3167d292-fa4c-4e2c-bf71-d4c82b31a06d",
   "metadata": {},
   "outputs": [],
   "source": [
    "class Student:\n",
    "    def __init__(self,name):\n",
    "        self.name = name\n",
    "\n",
    "\n",
    "    def total_marks(self,ros2:float,linux:float,DL:float,RL:float,Maths:float):\n",
    "        return \"Total marks of {} is: {} \".format(self.name,ros2+linux+DL+RL+Maths)\n",
    "\n",
    "    "
   ]
  },
  {
   "cell_type": "code",
   "execution_count": 13,
   "id": "b45bfa2b-9e86-4d29-ad8f-291848d935ae",
   "metadata": {},
   "outputs": [
    {
     "data": {
      "text/plain": [
       "<__main__.Student at 0x1420c84f290>"
      ]
     },
     "execution_count": 13,
     "metadata": {},
     "output_type": "execute_result"
    }
   ],
   "source": [
    "s = Student(name='George')\n",
    "s"
   ]
  },
  {
   "cell_type": "code",
   "execution_count": 15,
   "id": "94a4b739-b590-4b0c-acd7-43041b0dba16",
   "metadata": {},
   "outputs": [
    {
     "data": {
      "text/plain": [
       "'Total marks of George is: 350 '"
      ]
     },
     "execution_count": 15,
     "metadata": {},
     "output_type": "execute_result"
    }
   ],
   "source": [
    "# this is called the method\n",
    "s.total_marks(78,68,70,65,69) # since we use parenthesis ()\n"
   ]
  },
  {
   "cell_type": "code",
   "execution_count": 19,
   "id": "25b5ad46-474e-44ae-a11c-08c7ade190d3",
   "metadata": {},
   "outputs": [
    {
     "data": {
      "text/plain": [
       "'George'"
      ]
     },
     "execution_count": 19,
     "metadata": {},
     "output_type": "execute_result"
    }
   ],
   "source": [
    "s.name # it is an attribute since we don't use parenthesis ()"
   ]
  },
  {
   "cell_type": "code",
   "execution_count": null,
   "id": "e812b0d8-db7c-4ef1-accb-55b1c200f37d",
   "metadata": {},
   "outputs": [],
   "source": []
  },
  {
   "cell_type": "code",
   "execution_count": 49,
   "id": "8f791d26-cf26-475f-9e2a-182f4c68c751",
   "metadata": {},
   "outputs": [],
   "source": [
    "import numpy as np\n",
    "class Circle:\n",
    "    \n",
    "    # anything you write here is called Class object attribute\n",
    "    pi = np.pi \n",
    "    \n",
    "    def __init__(self,radius):\n",
    "        # anything you write here is called attribute because you can call it without using parentheses.\n",
    "        self.radius = radius\n",
    "\n",
    "    def area(self):\n",
    "        return \"The Area of the circle is: {}\".format(self.pi*self.radius**2)\n",
    "\n",
    "    def circumference(self):\n",
    "        return \"The Circumference of the circle is: {}\".format(2*Circle.pi*self.radius) # you can also use Circle.pi instead of self.pi because it is a class object attribute."
   ]
  },
  {
   "cell_type": "code",
   "execution_count": 51,
   "id": "16c3f68e-2c41-4865-9853-c89a6069b9d6",
   "metadata": {},
   "outputs": [
    {
     "data": {
      "text/plain": [
       "<__main__.Circle at 0x1420dea2a50>"
      ]
     },
     "execution_count": 51,
     "metadata": {},
     "output_type": "execute_result"
    }
   ],
   "source": [
    "c = Circle(5)\n",
    "c"
   ]
  },
  {
   "cell_type": "code",
   "execution_count": 53,
   "id": "059766f7-b66d-4ae7-b9cc-6cf9a8877344",
   "metadata": {},
   "outputs": [
    {
     "data": {
      "text/plain": [
       "'The Area of the circle is: 78.53981633974483'"
      ]
     },
     "execution_count": 53,
     "metadata": {},
     "output_type": "execute_result"
    }
   ],
   "source": [
    "c.area()"
   ]
  },
  {
   "cell_type": "code",
   "execution_count": 55,
   "id": "84121de8-4f09-4c0f-b321-3db34c273669",
   "metadata": {},
   "outputs": [
    {
     "data": {
      "text/plain": [
       "'The Circumference of the circle is: 31.41592653589793'"
      ]
     },
     "execution_count": 55,
     "metadata": {},
     "output_type": "execute_result"
    }
   ],
   "source": [
    "c.circumference()"
   ]
  },
  {
   "cell_type": "code",
   "execution_count": null,
   "id": "6a0afac8-7288-4ca9-b29e-e9ec6e8672f7",
   "metadata": {},
   "outputs": [],
   "source": []
  },
  {
   "cell_type": "markdown",
   "id": "42d7f4e5-8fdd-460c-aa14-34278192171f",
   "metadata": {},
   "source": [
    "# day 441"
   ]
  },
  {
   "cell_type": "markdown",
   "id": "cc8ef6b4-e173-4622-b10b-91b795163353",
   "metadata": {},
   "source": [
    "# Inheritance:\n",
    "* Inherits the properties(methods) of one class inside another class.\n",
    "* that means we can use one class method inside another one that has the link of inheritance."
   ]
  },
  {
   "cell_type": "code",
   "execution_count": 35,
   "id": "6c30ae30-c6d0-4ddb-98cb-376974c442b9",
   "metadata": {},
   "outputs": [],
   "source": [
    "import numpy as np\n",
    "class Math():\n",
    "    def __init__(self):\n",
    "        print(\"I perform Linear operations\")\n",
    "    def add(self,array):\n",
    "        return np.sum(array)\n",
    "    def multiply(self,array):\n",
    "        return np.prod(array)\n",
    "\n",
    "    "
   ]
  },
  {
   "cell_type": "code",
   "execution_count": 37,
   "id": "a1e3ccc4-0bea-47bd-a996-ae716929e0ef",
   "metadata": {},
   "outputs": [],
   "source": [
    "# this class is going to inherit the methods of the Math class\n",
    "\n",
    "class Student(Math): # inheriting\n",
    "    def __init__(self,name):\n",
    "        print(\"I'm the student class\")\n",
    "        Math.__init__(self) # just like super().__init__(self)\n",
    "        self.name = name\n",
    "\n",
    "   \n",
    "\n",
    "    \n",
    "        "
   ]
  },
  {
   "cell_type": "code",
   "execution_count": 39,
   "id": "f08dd988-0bc4-49f6-82c3-e4d52606ec70",
   "metadata": {},
   "outputs": [
    {
     "name": "stdout",
     "output_type": "stream",
     "text": [
      "I perform Linear operations\n"
     ]
    },
    {
     "data": {
      "text/plain": [
       "<__main__.Math at 0x25fa011eff0>"
      ]
     },
     "execution_count": 39,
     "metadata": {},
     "output_type": "execute_result"
    }
   ],
   "source": [
    "Math()"
   ]
  },
  {
   "cell_type": "code",
   "execution_count": 41,
   "id": "48f6d4dc-2e96-4b7a-8674-2d4cb63c5c09",
   "metadata": {},
   "outputs": [
    {
     "name": "stdout",
     "output_type": "stream",
     "text": [
      "I'm the student class\n",
      "I perform Linear operations\n"
     ]
    },
    {
     "data": {
      "text/plain": [
       "<__main__.Student at 0x25fa05ffc80>"
      ]
     },
     "execution_count": 41,
     "metadata": {},
     "output_type": "execute_result"
    }
   ],
   "source": [
    "s = Student(name='George')\n",
    "s # it inherited everything from Math class"
   ]
  },
  {
   "cell_type": "code",
   "execution_count": 43,
   "id": "0c5f5c6e-9071-42a2-aec2-6d76cb52563b",
   "metadata": {},
   "outputs": [
    {
     "data": {
      "text/plain": [
       "330"
      ]
     },
     "execution_count": 43,
     "metadata": {},
     "output_type": "execute_result"
    }
   ],
   "source": [
    "# lets perform in student class even though it doesn't have that method in itself(lets see if it had inherited it)\n",
    "\n",
    "george_total = s.add(np.array([99,35,98,43,55]))\n",
    "george_total"
   ]
  },
  {
   "cell_type": "code",
   "execution_count": 45,
   "id": "652d1349-0821-4851-a647-b9f7f133cbe1",
   "metadata": {},
   "outputs": [
    {
     "data": {
      "text/plain": [
       "120"
      ]
     },
     "execution_count": 45,
     "metadata": {},
     "output_type": "execute_result"
    }
   ],
   "source": [
    "product_of_numbers = s.multiply(np.array([1,2,3,4,5]))\n",
    "product_of_numbers"
   ]
  },
  {
   "cell_type": "code",
   "execution_count": null,
   "id": "24e31eb3-1db6-4a3a-9f2a-30edb6b6f9aa",
   "metadata": {},
   "outputs": [],
   "source": []
  },
  {
   "cell_type": "markdown",
   "id": "d0a60b24-15a9-4e38-8b5b-fc56cd4d6092",
   "metadata": {},
   "source": [
    "# polymorphism:\n",
    "* polymorphism means occuring in different forms.\n",
    "* essentially what we would do is we define a method with some common name but it would behave differently for different purposes as it called implying its name \"poly\" \"morphism\" it can change itself differently based on requirment of the underlying situation.\n"
   ]
  },
  {
   "cell_type": "code",
   "execution_count": 68,
   "id": "338aca23-b750-4054-a4a9-4f720ad207c5",
   "metadata": {},
   "outputs": [],
   "source": [
    "class Man():\n",
    "    def __init__(self,name):\n",
    "        self.name = name\n",
    "\n",
    "    def speak(self):\n",
    "        return self.name + \" says to bend down to thrust his cock in.\""
   ]
  },
  {
   "cell_type": "code",
   "execution_count": 77,
   "id": "93b95d33-ee38-4f21-b20b-ec68c8fd341b",
   "metadata": {},
   "outputs": [],
   "source": [
    "class Woman():\n",
    "    def __init__(self,name):\n",
    "        self.name = name\n",
    "    def speak(self):\n",
    "        return self.name + \" says she will not bend down until Raju promises to take her on a trip to Kashmir in December.\""
   ]
  },
  {
   "cell_type": "markdown",
   "id": "bf1fa7f5-19ce-4365-8311-9ab196b84635",
   "metadata": {},
   "source": [
    "* notice we had the same method name speak but it is going to behave differently."
   ]
  },
  {
   "cell_type": "code",
   "execution_count": 80,
   "id": "b012ef0c-4fc9-4d4b-8ebb-d07ec8eaec2d",
   "metadata": {},
   "outputs": [
    {
     "data": {
      "text/plain": [
       "'Raju says to bend down to thrust his cock in.'"
      ]
     },
     "execution_count": 80,
     "metadata": {},
     "output_type": "execute_result"
    }
   ],
   "source": [
    "raju = Man('Raju')\n",
    "raju.speak()"
   ]
  },
  {
   "cell_type": "code",
   "execution_count": 82,
   "id": "b6c77c19-e8f0-4702-972c-1c6cf9dbc8bc",
   "metadata": {},
   "outputs": [
    {
     "data": {
      "text/plain": [
       "'Lakshmi says she will not bend down until Raju promises to take her on a trip to Kashmir in December.'"
      ]
     },
     "execution_count": 82,
     "metadata": {},
     "output_type": "execute_result"
    }
   ],
   "source": [
    "lakshmi = Woman('Lakshmi')\n",
    "lakshmi.speak()"
   ]
  },
  {
   "cell_type": "markdown",
   "id": "39477f6f-03a1-42cd-8417-f4cbd3a155fe",
   "metadata": {},
   "source": [
    "## conclusion: This is polymorphism. one method named \"speak\" behaves differently based on different requirment.\n",
    "\n",
    "* In real life situation, we'd have some common name method like \"open\" which opens the file. But the file could be of type .csv,.excel,.xml,.urdf,.py and so on, so the open method needs to be dynammic enough to recognize the type of the file the user wants to open and behave accordingly."
   ]
  },
  {
   "cell_type": "code",
   "execution_count": null,
   "id": "ce975d7f-0598-4766-b109-5a2cea771096",
   "metadata": {},
   "outputs": [],
   "source": []
  },
  {
   "cell_type": "markdown",
   "id": "bb29f1cf-d5af-48a1-8721-129d03c7eddd",
   "metadata": {},
   "source": [
    "# day 442"
   ]
  },
  {
   "cell_type": "markdown",
   "id": "5f65ee34-acbf-4cca-89f6-f8e522b40036",
   "metadata": {},
   "source": [
    "# using double dundar inside a class to use inbuilt functions on class\n",
    "\n",
    "* when you use inbuilt function inside your custom defined object use double dundar."
   ]
  },
  {
   "cell_type": "code",
   "execution_count": 54,
   "id": "101c6da3-d643-430b-b5f1-2029d3eb6903",
   "metadata": {},
   "outputs": [],
   "source": [
    "class Citizen:\n",
    "    def __init__(self,name=\"George\",age=26): # by default it is George. you can have anythin you want\n",
    "        self.name = name\n",
    "        self.age = age\n",
    "    def __len__(self): # when you use inbuilt function inside your custom defined object use double dundar.\n",
    "        return self.age\n",
    "    def __str__(self):\n",
    "        return \"Your name is {} and you are {} years old.\".format(self.name,self.age)\n",
    "    "
   ]
  },
  {
   "cell_type": "code",
   "execution_count": 56,
   "id": "1c297414-2306-45f1-9974-117af018295b",
   "metadata": {},
   "outputs": [
    {
     "data": {
      "text/plain": [
       "<__main__.Citizen at 0x216135eedb0>"
      ]
     },
     "execution_count": 56,
     "metadata": {},
     "output_type": "execute_result"
    }
   ],
   "source": [
    "c = Citizen()\n",
    "c"
   ]
  },
  {
   "cell_type": "code",
   "execution_count": 58,
   "id": "5b95d2f8-612a-4b43-95ee-455e4752bc7f",
   "metadata": {},
   "outputs": [
    {
     "data": {
      "text/plain": [
       "26"
      ]
     },
     "execution_count": 58,
     "metadata": {},
     "output_type": "execute_result"
    }
   ],
   "source": [
    "# see we can use inbuilt function len on it.\n",
    "len(c)"
   ]
  },
  {
   "cell_type": "code",
   "execution_count": 60,
   "id": "d19f5b31-5bc4-4e65-b03e-06d5c7af1ab4",
   "metadata": {},
   "outputs": [
    {
     "data": {
      "text/plain": [
       "'Your name is George and you are 26 years old.'"
      ]
     },
     "execution_count": 60,
     "metadata": {},
     "output_type": "execute_result"
    }
   ],
   "source": [
    "str(c)"
   ]
  },
  {
   "cell_type": "code",
   "execution_count": 63,
   "id": "e8ff44c7-6e79-4137-9487-e73459ab9487",
   "metadata": {},
   "outputs": [
    {
     "data": {
      "text/plain": [
       "4"
      ]
     },
     "execution_count": 63,
     "metadata": {},
     "output_type": "execute_result"
    }
   ],
   "source": [
    "a = [1,2,3,4]\n",
    "len(a)"
   ]
  },
  {
   "cell_type": "code",
   "execution_count": null,
   "id": "228ce249-8a63-444b-8c64-e47b822b62fc",
   "metadata": {},
   "outputs": [],
   "source": []
  },
  {
   "cell_type": "markdown",
   "id": "44ac4d8a-c704-4755-b3cc-2627cccf0def",
   "metadata": {},
   "source": [
    "# Home Work"
   ]
  },
  {
   "cell_type": "code",
   "execution_count": 92,
   "id": "31c3c40d-8676-4abf-815f-b48e35ce9ee6",
   "metadata": {},
   "outputs": [],
   "source": [
    "import numpy as np\n",
    "class Line:\n",
    "    \n",
    "    def __init__(self,coor1,coor2):\n",
    "        self.coor1 = coor1\n",
    "        self.coor2 = coor2\n",
    "    \n",
    "    def distance(self):\n",
    "        # np.sqrt((y2-y1)^2 + (x2-x1)^2)\n",
    "        c1 = np.array(self.coor1)\n",
    "        c2 = np.array(self.coor2)\n",
    "        return  np.sqrt(np.sum(  (c2 - c1)**2  ))\n",
    "    \n",
    "    \n",
    "    def slope(self):\n",
    "        return (self.coor2[1]-self.coor1[1])/(self.coor2[0] - self.coor1[0])"
   ]
  },
  {
   "cell_type": "code",
   "execution_count": 94,
   "id": "ddff92ed-e418-4820-8ec4-39f9f3a15013",
   "metadata": {},
   "outputs": [],
   "source": [
    "# EXAMPLE OUTPUT\n",
    "\n",
    "coordinate1 = (3,2)\n",
    "coordinate2 = (8,10)\n",
    "\n",
    "li = Line(coordinate1,coordinate2)"
   ]
  },
  {
   "cell_type": "code",
   "execution_count": 96,
   "id": "4b23ec28-8abd-4721-b296-d5d8386d66af",
   "metadata": {},
   "outputs": [
    {
     "data": {
      "text/plain": [
       "9.433981132056603"
      ]
     },
     "execution_count": 96,
     "metadata": {},
     "output_type": "execute_result"
    }
   ],
   "source": [
    "li.distance()"
   ]
  },
  {
   "cell_type": "code",
   "execution_count": 72,
   "id": "4dc6dba9-1fdd-47bd-ba84-30bd0183fc30",
   "metadata": {},
   "outputs": [
    {
     "data": {
      "text/plain": [
       "1.6"
      ]
     },
     "execution_count": 72,
     "metadata": {},
     "output_type": "execute_result"
    }
   ],
   "source": [
    "li.slope()"
   ]
  },
  {
   "cell_type": "code",
   "execution_count": null,
   "id": "3bef4d6c-e740-453c-af75-1a6077088dfd",
   "metadata": {},
   "outputs": [],
   "source": []
  },
  {
   "cell_type": "markdown",
   "id": "4b63d724-de5a-4719-b25c-8f72aaaabad2",
   "metadata": {},
   "source": [
    "# problem 2:\n"
   ]
  },
  {
   "cell_type": "markdown",
   "id": "e644f3a9-d31e-49ec-ba9e-17be89838dab",
   "metadata": {},
   "source": [
    "import numpy as np\n",
    "class Cylinder:\n",
    "    \n",
    "    def __init__(self,height=1,radius=1):\n",
    "        self.height = height\n",
    "        self.radius = radius\n",
    "        \n",
    "    def volume(self):\n",
    "        pass\n",
    "    \n",
    "    def surface_area(self):\n",
    "        # 2 X pi X radius(height + radius)\n",
    "       return 2 * np.pi * self.radius * (self.height + self.radius)"
   ]
  },
  {
   "cell_type": "code",
   "execution_count": 127,
   "id": "d1ddd6c8-8052-459c-8b5d-7b2272824490",
   "metadata": {},
   "outputs": [],
   "source": [
    "# EXAMPLE OUTPUT\n",
    "c = Cylinder(2,3)"
   ]
  },
  {
   "cell_type": "code",
   "execution_count": 129,
   "id": "83e16fc8-4a79-47d9-8e81-dd1f59fff695",
   "metadata": {},
   "outputs": [
    {
     "data": {
      "text/plain": [
       "94.24777960769379"
      ]
     },
     "execution_count": 129,
     "metadata": {},
     "output_type": "execute_result"
    }
   ],
   "source": [
    "c.surface_area()"
   ]
  },
  {
   "cell_type": "code",
   "execution_count": null,
   "id": "8278d757-e435-4cb0-9949-23307d629a88",
   "metadata": {},
   "outputs": [],
   "source": []
  },
  {
   "cell_type": "markdown",
   "id": "b2dba123-db13-49e3-8185-e2fb75d46f17",
   "metadata": {},
   "source": [
    "# day 445"
   ]
  },
  {
   "cell_type": "markdown",
   "id": "08ac4b23-d059-4629-a546-23906870246d",
   "metadata": {},
   "source": [
    "# challenge"
   ]
  },
  {
   "cell_type": "markdown",
   "id": "6ba6d633-c7c6-416c-aa5b-f4e181d574b7",
   "metadata": {},
   "source": [
    "For this challenge, create a bank account class that has two attributes:\n",
    "\n",
    "* owner\n",
    "* balance\n",
    "\n",
    "  \n",
    "and two methods:\n",
    "\n",
    "* deposit\n",
    "* withdraw\n",
    "1. As an added requirement, withdrawals may not exceed the available balance.\n",
    "\n",
    "Instantiate your class, make several deposits and withdrawals, and test to make sure the account can't be overdrawn."
   ]
  },
  {
   "cell_type": "code",
   "execution_count": 199,
   "id": "5b9ef0cb-b7a9-4a1f-84e8-29354cc9c772",
   "metadata": {},
   "outputs": [],
   "source": [
    "class BankAccount():\n",
    "    def __init__(self,name,balance):\n",
    "        self.owner = name\n",
    "        self.balance = balance\n",
    "\n",
    "    def __str__(self):\n",
    "        return \"Account Onwer: {0} \\n Account Balance: Rs.{1}\".format(self.owner,self.balance)\n",
    "        \n",
    "    def deposit(self,balance):\n",
    "        self.balance += balance\n",
    "        return \"Transaction is Successful! Now your current balance is: {}\".format(self.balance)\n",
    "\n",
    "    def withdraw(self,amount):\n",
    "        if self.balance <= 0:\n",
    "            return \"Sorry {}! Transaction is Unsucessful!  You have insufficient funds.\".format(self.owner)\n",
    "        else:\n",
    "            self.balance -= amount\n",
    "            return \"Here is your {}.  Your current balance is: {}. \".format(amount,self.balance)\n",
    "        \n",
    "            \n",
    "            \n",
    "        "
   ]
  },
  {
   "cell_type": "code",
   "execution_count": 201,
   "id": "8d456474-05b8-4abd-9eeb-fefb12ebac9f",
   "metadata": {},
   "outputs": [
    {
     "data": {
      "text/plain": [
       "<__main__.BankAccount at 0x1607fe83470>"
      ]
     },
     "execution_count": 201,
     "metadata": {},
     "output_type": "execute_result"
    }
   ],
   "source": [
    "ba = BankAccount(\"George\",250)\n",
    "ba"
   ]
  },
  {
   "cell_type": "code",
   "execution_count": 203,
   "id": "f8c7a5f5-85d6-4493-8cef-76d1fae01392",
   "metadata": {},
   "outputs": [
    {
     "data": {
      "text/plain": [
       "'George'"
      ]
     },
     "execution_count": 203,
     "metadata": {},
     "output_type": "execute_result"
    }
   ],
   "source": [
    "ba.owner"
   ]
  },
  {
   "cell_type": "code",
   "execution_count": 205,
   "id": "c442a6ad-90e5-4ebb-8ab1-798ec112a460",
   "metadata": {},
   "outputs": [
    {
     "data": {
      "text/plain": [
       "250"
      ]
     },
     "execution_count": 205,
     "metadata": {},
     "output_type": "execute_result"
    }
   ],
   "source": [
    "ba.balance"
   ]
  },
  {
   "cell_type": "code",
   "execution_count": 207,
   "id": "8dc74f26-f73a-4386-8d06-82b6e58d38a2",
   "metadata": {},
   "outputs": [
    {
     "data": {
      "text/plain": [
       "'Transaction is Successful! Now your current balance is: 540'"
      ]
     },
     "execution_count": 207,
     "metadata": {},
     "output_type": "execute_result"
    }
   ],
   "source": [
    "ba.deposit(290)"
   ]
  },
  {
   "cell_type": "code",
   "execution_count": 209,
   "id": "69a9d079-2638-4191-8b58-2aa01da5a605",
   "metadata": {},
   "outputs": [
    {
     "data": {
      "text/plain": [
       "'Here is your 500.  Your current balance is: 40. '"
      ]
     },
     "execution_count": 209,
     "metadata": {},
     "output_type": "execute_result"
    }
   ],
   "source": [
    "ba.withdraw(500)"
   ]
  },
  {
   "cell_type": "code",
   "execution_count": 211,
   "id": "4f9daa2a-6899-424b-b9a5-0046e0b5321d",
   "metadata": {},
   "outputs": [
    {
     "data": {
      "text/plain": [
       "'Here is your 40.  Your current balance is: 0. '"
      ]
     },
     "execution_count": 211,
     "metadata": {},
     "output_type": "execute_result"
    }
   ],
   "source": [
    "ba.withdraw(40)"
   ]
  },
  {
   "cell_type": "code",
   "execution_count": 213,
   "id": "d9729b3a-8183-4018-9a54-6da6c8fb5870",
   "metadata": {},
   "outputs": [
    {
     "data": {
      "text/plain": [
       "'Sorry George! Transaction is Unsucessful!  You have insufficient funds.'"
      ]
     },
     "execution_count": 213,
     "metadata": {},
     "output_type": "execute_result"
    }
   ],
   "source": [
    "ba.withdraw(500)"
   ]
  },
  {
   "cell_type": "code",
   "execution_count": 215,
   "id": "5c75dd02-9576-4178-bcfb-f1e744b26cb8",
   "metadata": {},
   "outputs": [
    {
     "data": {
      "text/plain": [
       "'Transaction is Successful! Now your current balance is: 630000'"
      ]
     },
     "execution_count": 215,
     "metadata": {},
     "output_type": "execute_result"
    }
   ],
   "source": [
    "ba.deposit(630000)"
   ]
  },
  {
   "cell_type": "code",
   "execution_count": 217,
   "id": "7f1d05bb-6ee0-4aaa-9ca4-dc4f909aef13",
   "metadata": {},
   "outputs": [
    {
     "data": {
      "text/plain": [
       "'Account Onwer: George \\n Account Balance: Rs.630000'"
      ]
     },
     "execution_count": 217,
     "metadata": {},
     "output_type": "execute_result"
    }
   ],
   "source": [
    "str(ba)"
   ]
  },
  {
   "cell_type": "code",
   "execution_count": null,
   "id": "c241102a-db93-42c7-bfa3-ef7e24ca4a09",
   "metadata": {},
   "outputs": [],
   "source": []
  },
  {
   "cell_type": "code",
   "execution_count": null,
   "id": "ee8b33b2-7611-4960-85e3-9e188fd123c4",
   "metadata": {},
   "outputs": [],
   "source": []
  }
 ],
 "metadata": {
  "kernelspec": {
   "display_name": "Python 3 (ipykernel)",
   "language": "python",
   "name": "python3"
  },
  "language_info": {
   "codemirror_mode": {
    "name": "ipython",
    "version": 3
   },
   "file_extension": ".py",
   "mimetype": "text/x-python",
   "name": "python",
   "nbconvert_exporter": "python",
   "pygments_lexer": "ipython3",
   "version": "3.12.4"
  }
 },
 "nbformat": 4,
 "nbformat_minor": 5
}
