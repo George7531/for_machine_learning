version https://git-lfs.github.com/spec/v1
oid sha256:94d94ea0851b9ad26a4b61154282945ebe007e486a8c0ce53944a028b610877e
size 12288
