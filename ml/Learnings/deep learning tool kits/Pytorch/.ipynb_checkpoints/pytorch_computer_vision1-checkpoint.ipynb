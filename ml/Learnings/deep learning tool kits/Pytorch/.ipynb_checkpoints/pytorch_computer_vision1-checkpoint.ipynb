{
 "cells": [
  {
   "cell_type": "markdown",
   "metadata": {
    "id": "x7Ab2NlG7t-f"
   },
   "source": [
    "# day 209,day 211,day 215"
   ]
  },
  {
   "cell_type": "markdown",
   "metadata": {
    "id": "FcLTQGvzTstG"
   },
   "source": [
    "# CNN:\n",
    "\n",
    "# what is CNN:\n",
    "* CNN stands for stands for Convolutional Neural Network.\n",
    "* CNN is a machine learning algorithm optimized for dealing with Image classification."
   ]
  },
  {
   "cell_type": "code",
   "execution_count": null,
   "metadata": {
    "id": "Gvgr76ZiOj5y"
   },
   "outputs": [],
   "source": [
    "import torch\n",
    "import torchvision\n",
    "from torch.utils.data import DataLoader\n",
    "import numpy as np\n",
    "import matplotlib.pyplot as plt\n",
    "import seaborn as sns\n",
    "import pandas as pd\n",
    "from pathlib import Path\n",
    "import requests\n",
    "import time\n",
    "from tqdm.auto import tqdm"
   ]
  },
  {
   "cell_type": "code",
   "execution_count": null,
   "metadata": {
    "colab": {
     "base_uri": "https://localhost:8080/",
     "height": 35
    },
    "id": "MXrk-pWQTorB",
    "outputId": "f960f982-b211-4fe7-daf9-2ea42ef24536"
   },
   "outputs": [
    {
     "data": {
      "application/vnd.google.colaboratory.intrinsic+json": {
       "type": "string"
      },
      "text/plain": [
       "'2.1.0+cu118'"
      ]
     },
     "execution_count": 3,
     "metadata": {},
     "output_type": "execute_result"
    }
   ],
   "source": [
    "torch.__version__"
   ]
  },
  {
   "cell_type": "code",
   "execution_count": null,
   "metadata": {
    "colab": {
     "base_uri": "https://localhost:8080/",
     "height": 35
    },
    "id": "B826AsElUe8m",
    "outputId": "ef094235-6462-47d6-a016-34430ec18269"
   },
   "outputs": [
    {
     "data": {
      "application/vnd.google.colaboratory.intrinsic+json": {
       "type": "string"
      },
      "text/plain": [
       "'0.16.0+cu118'"
      ]
     },
     "execution_count": 3,
     "metadata": {},
     "output_type": "execute_result"
    }
   ],
   "source": [
    "torchvision.__version__"
   ]
  },
  {
   "cell_type": "markdown",
   "metadata": {
    "id": "KpbwcOdPUjOW"
   },
   "source": [
    "# getting the dataset"
   ]
  },
  {
   "cell_type": "code",
   "execution_count": null,
   "metadata": {
    "colab": {
     "base_uri": "https://localhost:8080/"
    },
    "id": "qn2zickhUjRv",
    "outputId": "44dff211-3592-4dc5-f71a-88923950f9ed"
   },
   "outputs": [
    {
     "name": "stdout",
     "output_type": "stream",
     "text": [
      "Downloading http://fashion-mnist.s3-website.eu-central-1.amazonaws.com/train-images-idx3-ubyte.gz\n",
      "Downloading http://fashion-mnist.s3-website.eu-central-1.amazonaws.com/train-images-idx3-ubyte.gz to data/FashionMNIST/raw/train-images-idx3-ubyte.gz\n"
     ]
    },
    {
     "name": "stderr",
     "output_type": "stream",
     "text": [
      "100%|██████████| 26421880/26421880 [00:02<00:00, 12728232.35it/s]\n"
     ]
    },
    {
     "name": "stdout",
     "output_type": "stream",
     "text": [
      "Extracting data/FashionMNIST/raw/train-images-idx3-ubyte.gz to data/FashionMNIST/raw\n",
      "\n",
      "Downloading http://fashion-mnist.s3-website.eu-central-1.amazonaws.com/train-labels-idx1-ubyte.gz\n",
      "Downloading http://fashion-mnist.s3-website.eu-central-1.amazonaws.com/train-labels-idx1-ubyte.gz to data/FashionMNIST/raw/train-labels-idx1-ubyte.gz\n"
     ]
    },
    {
     "name": "stderr",
     "output_type": "stream",
     "text": [
      "100%|██████████| 29515/29515 [00:00<00:00, 200026.96it/s]\n"
     ]
    },
    {
     "name": "stdout",
     "output_type": "stream",
     "text": [
      "Extracting data/FashionMNIST/raw/train-labels-idx1-ubyte.gz to data/FashionMNIST/raw\n",
      "\n",
      "Downloading http://fashion-mnist.s3-website.eu-central-1.amazonaws.com/t10k-images-idx3-ubyte.gz\n",
      "Downloading http://fashion-mnist.s3-website.eu-central-1.amazonaws.com/t10k-images-idx3-ubyte.gz to data/FashionMNIST/raw/t10k-images-idx3-ubyte.gz\n"
     ]
    },
    {
     "name": "stderr",
     "output_type": "stream",
     "text": [
      "100%|██████████| 4422102/4422102 [00:01<00:00, 3761324.47it/s]\n"
     ]
    },
    {
     "name": "stdout",
     "output_type": "stream",
     "text": [
      "Extracting data/FashionMNIST/raw/t10k-images-idx3-ubyte.gz to data/FashionMNIST/raw\n",
      "\n",
      "Downloading http://fashion-mnist.s3-website.eu-central-1.amazonaws.com/t10k-labels-idx1-ubyte.gz\n",
      "Downloading http://fashion-mnist.s3-website.eu-central-1.amazonaws.com/t10k-labels-idx1-ubyte.gz to data/FashionMNIST/raw/t10k-labels-idx1-ubyte.gz\n"
     ]
    },
    {
     "name": "stderr",
     "output_type": "stream",
     "text": [
      "100%|██████████| 5148/5148 [00:00<00:00, 17786060.13it/s]\n"
     ]
    },
    {
     "name": "stdout",
     "output_type": "stream",
     "text": [
      "Extracting data/FashionMNIST/raw/t10k-labels-idx1-ubyte.gz to data/FashionMNIST/raw\n",
      "\n"
     ]
    }
   ],
   "source": [
    "# getting training data and testing data\n",
    "\n",
    "train_data = torchvision.datasets.FashionMNIST(\n",
    "    root='data', # the directory name\n",
    "    train=True, # whether train_data or test_data\n",
    "    transform=torchvision.transforms.ToTensor(), #convert the data to tensors\n",
    "    download=True, #whether you want to download\n",
    "    target_transform=None, #whether you want to change the type of the labels(y_train,y_test) or keep them as originals\n",
    "\n",
    ")\n",
    "\n",
    "test_data = torchvision.datasets.FashionMNIST(\n",
    "    root='data',\n",
    "    train=False,\n",
    "    transform=torchvision.transforms.ToTensor(),\n",
    "    download=True,\n",
    "    target_transform=None\n",
    ")"
   ]
  },
  {
   "cell_type": "code",
   "execution_count": null,
   "metadata": {
    "colab": {
     "base_uri": "https://localhost:8080/"
    },
    "id": "A4f3NQkGUjUm",
    "outputId": "b0c7fac9-bbed-47a0-f005-f0c57c5a4754"
   },
   "outputs": [
    {
     "data": {
      "text/plain": [
       "['T-shirt/top',\n",
       " 'Trouser',\n",
       " 'Pullover',\n",
       " 'Dress',\n",
       " 'Coat',\n",
       " 'Sandal',\n",
       " 'Shirt',\n",
       " 'Sneaker',\n",
       " 'Bag',\n",
       " 'Ankle boot']"
      ]
     },
     "execution_count": 3,
     "metadata": {},
     "output_type": "execute_result"
    }
   ],
   "source": [
    "class_names = train_data.classes\n",
    "class_names"
   ]
  },
  {
   "cell_type": "markdown",
   "metadata": {
    "id": "Rc4ANhbWhu2q"
   },
   "source": [
    "# exploration,analysis and freethrows"
   ]
  },
  {
   "cell_type": "code",
   "execution_count": null,
   "metadata": {
    "colab": {
     "base_uri": "https://localhost:8080/"
    },
    "id": "vthIxEJ6gwfS",
    "outputId": "332371ed-dbb1-4a3b-aec3-de7fe4c766b2"
   },
   "outputs": [
    {
     "data": {
      "text/plain": [
       "Dataset FashionMNIST\n",
       "    Number of datapoints: 60000\n",
       "    Root location: data\n",
       "    Split: Train\n",
       "    StandardTransform\n",
       "Transform: ToTensor()"
      ]
     },
     "execution_count": 7,
     "metadata": {},
     "output_type": "execute_result"
    }
   ],
   "source": [
    "train_data"
   ]
  },
  {
   "cell_type": "code",
   "execution_count": null,
   "metadata": {
    "colab": {
     "base_uri": "https://localhost:8080/"
    },
    "id": "Pfs2obgugdyk",
    "outputId": "e71662a5-0ab1-485c-9cff-8c99fef89404"
   },
   "outputs": [
    {
     "data": {
      "text/plain": [
       "Dataset FashionMNIST\n",
       "    Number of datapoints: 10000\n",
       "    Root location: data\n",
       "    Split: Test\n",
       "    StandardTransform\n",
       "Transform: ToTensor()"
      ]
     },
     "execution_count": 8,
     "metadata": {},
     "output_type": "execute_result"
    }
   ],
   "source": [
    "test_data"
   ]
  },
  {
   "cell_type": "code",
   "execution_count": null,
   "metadata": {
    "colab": {
     "base_uri": "https://localhost:8080/",
     "height": 52
    },
    "id": "FHllhsBYgd0G",
    "outputId": "d572b085-5e82-4d89-e297-507edd93949e"
   },
   "outputs": [
    {
     "data": {
      "application/vnd.google.colaboratory.intrinsic+json": {
       "type": "string"
      },
      "text/plain": [
       "'in pytorch we use the color channel before the height and width (1,28,28) -> (color,height,weight) wheras in\\n tensorflow the shape of an image is (28,28,1) -> (height,width,color). Be mindful of this factor! '"
      ]
     },
     "execution_count": 6,
     "metadata": {},
     "output_type": "execute_result"
    }
   ],
   "source": [
    "# accessing an image from the train_data and knowing its shape and class name\n",
    "\n",
    "image,label = train_data[0]\n",
    "\n",
    "image.shape, class_names[label]\n",
    "\n",
    "\n",
    "# conclusion:\n",
    "'''in pytorch we use the color channel before the height and width (1,28,28) -> (color,height,weight) wheras in\n",
    " tensorflow the shape of an image is (28,28,1) -> (height,width,color). Be mindful of this factor! '''"
   ]
  },
  {
   "cell_type": "code",
   "execution_count": null,
   "metadata": {
    "colab": {
     "base_uri": "https://localhost:8080/",
     "height": 810
    },
    "id": "767tCQFLmXJZ",
    "outputId": "90686e58-3f11-4c8e-d41d-533a6fc8cac5"
   },
   "outputs": [
    {
     "ename": "TypeError",
     "evalue": "ignored",
     "output_type": "error",
     "traceback": [
      "\u001b[0;31m---------------------------------------------------------------------------\u001b[0m",
      "\u001b[0;31mTypeError\u001b[0m                                 Traceback (most recent call last)",
      "\u001b[0;32m<ipython-input-7-e1f9435b0e9e>\u001b[0m in \u001b[0;36m<cell line: 3>\u001b[0;34m()\u001b[0m\n\u001b[1;32m      1\u001b[0m \u001b[0;31m# visulizing the image\u001b[0m\u001b[0;34m\u001b[0m\u001b[0;34m\u001b[0m\u001b[0m\n\u001b[1;32m      2\u001b[0m \u001b[0;34m\u001b[0m\u001b[0m\n\u001b[0;32m----> 3\u001b[0;31m \u001b[0mplt\u001b[0m\u001b[0;34m.\u001b[0m\u001b[0mimshow\u001b[0m\u001b[0;34m(\u001b[0m\u001b[0mimage\u001b[0m\u001b[0;34m)\u001b[0m\u001b[0;34m\u001b[0m\u001b[0;34m\u001b[0m\u001b[0m\n\u001b[0m\u001b[1;32m      4\u001b[0m \u001b[0mplt\u001b[0m\u001b[0;34m.\u001b[0m\u001b[0mtitle\u001b[0m\u001b[0;34m(\u001b[0m\u001b[0mclass_names\u001b[0m\u001b[0;34m[\u001b[0m\u001b[0mlabel\u001b[0m\u001b[0;34m]\u001b[0m\u001b[0;34m)\u001b[0m\u001b[0;34m\u001b[0m\u001b[0;34m\u001b[0m\u001b[0m\n\u001b[1;32m      5\u001b[0m \u001b[0mplt\u001b[0m\u001b[0;34m.\u001b[0m\u001b[0maxis\u001b[0m\u001b[0;34m(\u001b[0m\u001b[0;34m'off'\u001b[0m\u001b[0;34m)\u001b[0m\u001b[0;34m\u001b[0m\u001b[0;34m\u001b[0m\u001b[0m\n",
      "\u001b[0;32m/usr/local/lib/python3.10/dist-packages/matplotlib/pyplot.py\u001b[0m in \u001b[0;36mimshow\u001b[0;34m(X, cmap, norm, aspect, interpolation, alpha, vmin, vmax, origin, extent, interpolation_stage, filternorm, filterrad, resample, url, data, **kwargs)\u001b[0m\n\u001b[1;32m   2693\u001b[0m         \u001b[0minterpolation_stage\u001b[0m\u001b[0;34m=\u001b[0m\u001b[0;32mNone\u001b[0m\u001b[0;34m,\u001b[0m \u001b[0mfilternorm\u001b[0m\u001b[0;34m=\u001b[0m\u001b[0;32mTrue\u001b[0m\u001b[0;34m,\u001b[0m \u001b[0mfilterrad\u001b[0m\u001b[0;34m=\u001b[0m\u001b[0;36m4.0\u001b[0m\u001b[0;34m,\u001b[0m\u001b[0;34m\u001b[0m\u001b[0;34m\u001b[0m\u001b[0m\n\u001b[1;32m   2694\u001b[0m         resample=None, url=None, data=None, **kwargs):\n\u001b[0;32m-> 2695\u001b[0;31m     __ret = gca().imshow(\n\u001b[0m\u001b[1;32m   2696\u001b[0m         \u001b[0mX\u001b[0m\u001b[0;34m,\u001b[0m \u001b[0mcmap\u001b[0m\u001b[0;34m=\u001b[0m\u001b[0mcmap\u001b[0m\u001b[0;34m,\u001b[0m \u001b[0mnorm\u001b[0m\u001b[0;34m=\u001b[0m\u001b[0mnorm\u001b[0m\u001b[0;34m,\u001b[0m \u001b[0maspect\u001b[0m\u001b[0;34m=\u001b[0m\u001b[0maspect\u001b[0m\u001b[0;34m,\u001b[0m\u001b[0;34m\u001b[0m\u001b[0;34m\u001b[0m\u001b[0m\n\u001b[1;32m   2697\u001b[0m         \u001b[0minterpolation\u001b[0m\u001b[0;34m=\u001b[0m\u001b[0minterpolation\u001b[0m\u001b[0;34m,\u001b[0m \u001b[0malpha\u001b[0m\u001b[0;34m=\u001b[0m\u001b[0malpha\u001b[0m\u001b[0;34m,\u001b[0m \u001b[0mvmin\u001b[0m\u001b[0;34m=\u001b[0m\u001b[0mvmin\u001b[0m\u001b[0;34m,\u001b[0m\u001b[0;34m\u001b[0m\u001b[0;34m\u001b[0m\u001b[0m\n",
      "\u001b[0;32m/usr/local/lib/python3.10/dist-packages/matplotlib/__init__.py\u001b[0m in \u001b[0;36minner\u001b[0;34m(ax, data, *args, **kwargs)\u001b[0m\n\u001b[1;32m   1440\u001b[0m     \u001b[0;32mdef\u001b[0m \u001b[0minner\u001b[0m\u001b[0;34m(\u001b[0m\u001b[0max\u001b[0m\u001b[0;34m,\u001b[0m \u001b[0;34m*\u001b[0m\u001b[0margs\u001b[0m\u001b[0;34m,\u001b[0m \u001b[0mdata\u001b[0m\u001b[0;34m=\u001b[0m\u001b[0;32mNone\u001b[0m\u001b[0;34m,\u001b[0m \u001b[0;34m**\u001b[0m\u001b[0mkwargs\u001b[0m\u001b[0;34m)\u001b[0m\u001b[0;34m:\u001b[0m\u001b[0;34m\u001b[0m\u001b[0;34m\u001b[0m\u001b[0m\n\u001b[1;32m   1441\u001b[0m         \u001b[0;32mif\u001b[0m \u001b[0mdata\u001b[0m \u001b[0;32mis\u001b[0m \u001b[0;32mNone\u001b[0m\u001b[0;34m:\u001b[0m\u001b[0;34m\u001b[0m\u001b[0;34m\u001b[0m\u001b[0m\n\u001b[0;32m-> 1442\u001b[0;31m             \u001b[0;32mreturn\u001b[0m \u001b[0mfunc\u001b[0m\u001b[0;34m(\u001b[0m\u001b[0max\u001b[0m\u001b[0;34m,\u001b[0m \u001b[0;34m*\u001b[0m\u001b[0mmap\u001b[0m\u001b[0;34m(\u001b[0m\u001b[0msanitize_sequence\u001b[0m\u001b[0;34m,\u001b[0m \u001b[0margs\u001b[0m\u001b[0;34m)\u001b[0m\u001b[0;34m,\u001b[0m \u001b[0;34m**\u001b[0m\u001b[0mkwargs\u001b[0m\u001b[0;34m)\u001b[0m\u001b[0;34m\u001b[0m\u001b[0;34m\u001b[0m\u001b[0m\n\u001b[0m\u001b[1;32m   1443\u001b[0m \u001b[0;34m\u001b[0m\u001b[0m\n\u001b[1;32m   1444\u001b[0m         \u001b[0mbound\u001b[0m \u001b[0;34m=\u001b[0m \u001b[0mnew_sig\u001b[0m\u001b[0;34m.\u001b[0m\u001b[0mbind\u001b[0m\u001b[0;34m(\u001b[0m\u001b[0max\u001b[0m\u001b[0;34m,\u001b[0m \u001b[0;34m*\u001b[0m\u001b[0margs\u001b[0m\u001b[0;34m,\u001b[0m \u001b[0;34m**\u001b[0m\u001b[0mkwargs\u001b[0m\u001b[0;34m)\u001b[0m\u001b[0;34m\u001b[0m\u001b[0;34m\u001b[0m\u001b[0m\n",
      "\u001b[0;32m/usr/local/lib/python3.10/dist-packages/matplotlib/axes/_axes.py\u001b[0m in \u001b[0;36mimshow\u001b[0;34m(self, X, cmap, norm, aspect, interpolation, alpha, vmin, vmax, origin, extent, interpolation_stage, filternorm, filterrad, resample, url, **kwargs)\u001b[0m\n\u001b[1;32m   5663\u001b[0m                               **kwargs)\n\u001b[1;32m   5664\u001b[0m \u001b[0;34m\u001b[0m\u001b[0m\n\u001b[0;32m-> 5665\u001b[0;31m         \u001b[0mim\u001b[0m\u001b[0;34m.\u001b[0m\u001b[0mset_data\u001b[0m\u001b[0;34m(\u001b[0m\u001b[0mX\u001b[0m\u001b[0;34m)\u001b[0m\u001b[0;34m\u001b[0m\u001b[0;34m\u001b[0m\u001b[0m\n\u001b[0m\u001b[1;32m   5666\u001b[0m         \u001b[0mim\u001b[0m\u001b[0;34m.\u001b[0m\u001b[0mset_alpha\u001b[0m\u001b[0;34m(\u001b[0m\u001b[0malpha\u001b[0m\u001b[0;34m)\u001b[0m\u001b[0;34m\u001b[0m\u001b[0;34m\u001b[0m\u001b[0m\n\u001b[1;32m   5667\u001b[0m         \u001b[0;32mif\u001b[0m \u001b[0mim\u001b[0m\u001b[0;34m.\u001b[0m\u001b[0mget_clip_path\u001b[0m\u001b[0;34m(\u001b[0m\u001b[0;34m)\u001b[0m \u001b[0;32mis\u001b[0m \u001b[0;32mNone\u001b[0m\u001b[0;34m:\u001b[0m\u001b[0;34m\u001b[0m\u001b[0;34m\u001b[0m\u001b[0m\n",
      "\u001b[0;32m/usr/local/lib/python3.10/dist-packages/matplotlib/image.py\u001b[0m in \u001b[0;36mset_data\u001b[0;34m(self, A)\u001b[0m\n\u001b[1;32m    708\u001b[0m         if not (self._A.ndim == 2\n\u001b[1;32m    709\u001b[0m                 or self._A.ndim == 3 and self._A.shape[-1] in [3, 4]):\n\u001b[0;32m--> 710\u001b[0;31m             raise TypeError(\"Invalid shape {} for image data\"\n\u001b[0m\u001b[1;32m    711\u001b[0m                             .format(self._A.shape))\n\u001b[1;32m    712\u001b[0m \u001b[0;34m\u001b[0m\u001b[0m\n",
      "\u001b[0;31mTypeError\u001b[0m: Invalid shape (1, 28, 28) for image data"
     ]
    },
    {
     "data": {
      "image/png": "[encoded data removed]",
      "text/plain": [
       "<Figure size 640x480 with 1 Axes>"
      ]
     },
     "metadata": {},
     "output_type": "display_data"
    }
   ],
   "source": [
    "# visulizing the image\n",
    "\n",
    "plt.imshow(image)\n",
    "plt.title(class_names[label])\n",
    "plt.axis('off')\n",
    "plt.show()"
   ]
  },
  {
   "cell_type": "code",
   "execution_count": null,
   "metadata": {
    "colab": {
     "base_uri": "https://localhost:8080/",
     "height": 428
    },
    "id": "NyivKt6Dmm2b",
    "outputId": "8711da0b-7bbc-4b44-9c1c-ab9ff046806c"
   },
   "outputs": [
    {
     "data": {
      "image/png": "[encoded data removed]",
      "text/plain": [
       "<Figure size 640x480 with 1 Axes>"
      ]
     },
     "metadata": {},
     "output_type": "display_data"
    }
   ],
   "source": [
    "# the extra color dimension in the image needs to be squeezed in order to visualize it.\n",
    "\n",
    "plt.imshow(image.squeeze())\n",
    "plt.title(class_names[label])\n",
    "plt.axis('off')\n",
    "plt.show()"
   ]
  },
  {
   "cell_type": "code",
   "execution_count": null,
   "metadata": {
    "id": "d3NMPcTVof83"
   },
   "outputs": [],
   "source": []
  },
  {
   "cell_type": "markdown",
   "metadata": {
    "id": "gXKi2DSQoRDC"
   },
   "source": [
    "# create a matrix of 16 random images 4 on the rows and 4 on the cols from the train_data"
   ]
  },
  {
   "cell_type": "code",
   "execution_count": null,
   "metadata": {
    "colab": {
     "base_uri": "https://localhost:8080/",
     "height": 675
    },
    "id": "pT8u1m5jofCI",
    "outputId": "ecebd289-930d-4897-f852-7a6a3000a4d4"
   },
   "outputs": [
    {
     "data": {
      "image/png": "[encoded data removed]",
      "text/plain": [
       "<Figure size 800x800 with 16 Axes>"
      ]
     },
     "metadata": {},
     "output_type": "display_data"
    }
   ],
   "source": [
    "plt.figure(figsize=(8,8))\n",
    "rows = 4\n",
    "cols = 4\n",
    "\n",
    "for i in range(1,rows*cols+1):\n",
    "  # getting random indices from the train_data\n",
    "  index = torch.randint(0,len(train_data),size=[1]).item()\n",
    "\n",
    "  # plotting the image\n",
    "  plt.subplot(rows,cols,i)\n",
    "  image,label_index = train_data[index]\n",
    "  plt.imshow(image.squeeze())\n",
    "  plt.title(class_names[label_index])\n",
    "  plt.axis('off')\n",
    "\n",
    "# note that the plt.show() is out of index\n",
    "plt.show()\n",
    "\n",
    "\n"
   ]
  },
  {
   "cell_type": "code",
   "execution_count": null,
   "metadata": {
    "id": "2uWis5UBSTDY"
   },
   "outputs": [],
   "source": []
  },
  {
   "cell_type": "markdown",
   "metadata": {
    "id": "4I1zkz6aoRlB"
   },
   "source": [
    "# prepare dataloader\n",
    "\n",
    " * right now our train_data and test_data are datasets, now in order to make these datasets iterable we need to use data loader.\n",
    " -------------\n",
    " * in `pytorch` we use from torch.utils.data import data_loader.\n",
    " ---------\n",
    " * this is analogous to tf.keras.utils.image_dataset_from_direcory() or from tf.keras.preprocessing.image import ImageDataGenerator in `tensorflow`.\n",
    "\n",
    " # why we use mini batches:\n",
    " * the RAM can't process all thousands and millions of images at once that's why we need to batches of images, usually the number of images in a batch would be 32 but it can be increased in multiples of 8(byte-order), to reduce the load on RAM."
   ]
  },
  {
   "cell_type": "code",
   "execution_count": null,
   "metadata": {
    "id": "9jGxG5oeqj8D"
   },
   "outputs": [],
   "source": [
    "# DataLoader is used for batching the data\n",
    "train_data = DataLoader(train_data,\n",
    "                        batch_size=32,\n",
    "                        shuffle=True) # shuffle shuffles the images in the batches every time\n",
    "\n",
    "\n",
    "test_data = DataLoader(test_data,\n",
    "                       batch_size=32,\n",
    "                       shuffle=False) # we set it here for False just for kink."
   ]
  },
  {
   "cell_type": "markdown",
   "metadata": {
    "id": "3BChEa-hexru"
   },
   "source": [
    "# exploration,analysis and freethrows"
   ]
  },
  {
   "cell_type": "code",
   "execution_count": null,
   "metadata": {
    "colab": {
     "base_uri": "https://localhost:8080/"
    },
    "id": "qvoWgTPae3t9",
    "outputId": "9183b077-b64a-4ebb-c794-ce43d678d84f"
   },
   "outputs": [
    {
     "data": {
      "text/plain": [
       "(1875, 313)"
      ]
     },
     "execution_count": 25,
     "metadata": {},
     "output_type": "execute_result"
    }
   ],
   "source": [
    "len(train_data),len(test_data)"
   ]
  },
  {
   "cell_type": "markdown",
   "metadata": {
    "id": "628LSLW4qkEB"
   },
   "source": [
    "# iterating over the images in train_data"
   ]
  },
  {
   "cell_type": "code",
   "execution_count": null,
   "metadata": {
    "colab": {
     "base_uri": "https://localhost:8080/"
    },
    "id": "vGdn8sbxoRnj",
    "outputId": "33b18774-69ff-4c7a-fcd1-b2dcca980b33"
   },
   "outputs": [
    {
     "name": "stdout",
     "output_type": "stream",
     "text": [
      "[tensor([[[[0.0000, 0.0000, 0.0000,  ..., 0.0000, 0.0000, 0.0000],\n",
      "          [0.0000, 0.0000, 0.0000,  ..., 0.0000, 0.0000, 0.0000],\n",
      "          [0.0000, 0.0000, 0.0000,  ..., 0.0000, 0.0000, 0.0000],\n",
      "          ...,\n",
      "          [0.0000, 0.0000, 0.0000,  ..., 0.0000, 0.0000, 0.0000],\n",
      "          [0.0000, 0.0000, 0.0000,  ..., 0.0000, 0.0000, 0.0000],\n",
      "          [0.0000, 0.0000, 0.0000,  ..., 0.0000, 0.0000, 0.0000]]],\n",
      "\n",
      "\n",
      "        [[[0.0000, 0.0000, 0.0000,  ..., 0.0000, 0.0000, 0.0000],\n",
      "          [0.0000, 0.0000, 0.0000,  ..., 0.0000, 0.0000, 0.0000],\n",
      "          [0.0078, 0.0000, 0.0000,  ..., 0.0000, 0.0000, 0.0000],\n",
      "          ...,\n",
      "          [0.0706, 0.6784, 0.3922,  ..., 0.5373, 0.4157, 0.0000],\n",
      "          [0.0000, 0.0471, 0.0706,  ..., 0.0000, 0.0000, 0.0000],\n",
      "          [0.0000, 0.0000, 0.0000,  ..., 0.0000, 0.0000, 0.0000]]],\n",
      "\n",
      "\n",
      "        [[[0.0000, 0.0000, 0.0000,  ..., 0.0000, 0.0000, 0.0000],\n",
      "          [0.0000, 0.0000, 0.0000,  ..., 0.0000, 0.0000, 0.0000],\n",
      "          [0.0000, 0.0000, 0.0000,  ..., 0.0000, 0.0000, 0.0000],\n",
      "          ...,\n",
      "          [0.0000, 0.0000, 0.0000,  ..., 0.0000, 0.0000, 0.0000],\n",
      "          [0.0000, 0.0000, 0.0000,  ..., 0.0000, 0.0000, 0.0000],\n",
      "          [0.0000, 0.0000, 0.0000,  ..., 0.0000, 0.0000, 0.0000]]],\n",
      "\n",
      "\n",
      "        ...,\n",
      "\n",
      "\n",
      "        [[[0.0000, 0.0000, 0.0000,  ..., 0.0000, 0.0000, 0.0000],\n",
      "          [0.0000, 0.0000, 0.0000,  ..., 0.0000, 0.0000, 0.0000],\n",
      "          [0.0000, 0.0000, 0.0000,  ..., 0.0000, 0.0000, 0.0000],\n",
      "          ...,\n",
      "          [0.0000, 0.0000, 0.0000,  ..., 0.0000, 0.0000, 0.0000],\n",
      "          [0.0000, 0.0000, 0.0000,  ..., 0.0000, 0.0000, 0.0000],\n",
      "          [0.0000, 0.0000, 0.0000,  ..., 0.0000, 0.0000, 0.0000]]],\n",
      "\n",
      "\n",
      "        [[[0.0000, 0.0000, 0.0000,  ..., 0.0000, 0.0000, 0.0000],\n",
      "          [0.0000, 0.0000, 0.0000,  ..., 0.0000, 0.0000, 0.0000],\n",
      "          [0.0000, 0.0000, 0.0000,  ..., 0.0000, 0.0000, 0.0000],\n",
      "          ...,\n",
      "          [0.0000, 0.0000, 0.0000,  ..., 0.0000, 0.0000, 0.0000],\n",
      "          [0.0000, 0.0000, 0.0000,  ..., 0.0000, 0.0000, 0.0000],\n",
      "          [0.0000, 0.0000, 0.0000,  ..., 0.0000, 0.0000, 0.0000]]],\n",
      "\n",
      "\n",
      "        [[[0.0000, 0.0000, 0.0000,  ..., 0.0000, 0.0000, 0.0000],\n",
      "          [0.0000, 0.0000, 0.0000,  ..., 0.0000, 0.0000, 0.0000],\n",
      "          [0.0000, 0.0000, 0.0000,  ..., 0.2902, 0.0392, 0.0000],\n",
      "          ...,\n",
      "          [0.4745, 0.6549, 0.6784,  ..., 0.6196, 0.5804, 0.0000],\n",
      "          [0.0000, 0.0706, 0.2745,  ..., 0.7255, 0.7412, 0.0000],\n",
      "          [0.0000, 0.0000, 0.0000,  ..., 0.0392, 0.0078, 0.0000]]]]), tensor([3, 8, 4, 0, 5, 5, 0, 1, 4, 1, 7, 3, 8, 6, 5, 4, 1, 0, 5, 7, 6, 7, 4, 9,\n",
      "        3, 4, 3, 4, 4, 2, 9, 9])]\n"
     ]
    }
   ],
   "source": [
    "for batch in train_data:\n",
    "  print(batch)\n",
    "  break"
   ]
  },
  {
   "cell_type": "code",
   "execution_count": null,
   "metadata": {
    "colab": {
     "base_uri": "https://localhost:8080/"
    },
    "id": "KvTozIVloRpr",
    "outputId": "e7a4dd75-a624-4bd0-f0fb-1f42e47fcd16"
   },
   "outputs": [
    {
     "data": {
      "text/plain": [
       "[tensor([[[[0., 0., 0.,  ..., 0., 0., 0.],\n",
       "           [0., 0., 0.,  ..., 0., 0., 0.],\n",
       "           [0., 0., 0.,  ..., 0., 0., 0.],\n",
       "           ...,\n",
       "           [0., 0., 0.,  ..., 0., 0., 0.],\n",
       "           [0., 0., 0.,  ..., 0., 0., 0.],\n",
       "           [0., 0., 0.,  ..., 0., 0., 0.]]],\n",
       " \n",
       " \n",
       "         [[[0., 0., 0.,  ..., 0., 0., 0.],\n",
       "           [0., 0., 0.,  ..., 0., 0., 0.],\n",
       "           [0., 0., 0.,  ..., 0., 0., 0.],\n",
       "           ...,\n",
       "           [0., 0., 0.,  ..., 0., 0., 0.],\n",
       "           [0., 0., 0.,  ..., 0., 0., 0.],\n",
       "           [0., 0., 0.,  ..., 0., 0., 0.]]],\n",
       " \n",
       " \n",
       "         [[[0., 0., 0.,  ..., 0., 0., 0.],\n",
       "           [0., 0., 0.,  ..., 0., 0., 0.],\n",
       "           [0., 0., 0.,  ..., 0., 0., 0.],\n",
       "           ...,\n",
       "           [0., 0., 0.,  ..., 0., 0., 0.],\n",
       "           [0., 0., 0.,  ..., 0., 0., 0.],\n",
       "           [0., 0., 0.,  ..., 0., 0., 0.]]],\n",
       " \n",
       " \n",
       "         ...,\n",
       " \n",
       " \n",
       "         [[[0., 0., 0.,  ..., 0., 0., 0.],\n",
       "           [0., 0., 0.,  ..., 0., 0., 0.],\n",
       "           [0., 0., 0.,  ..., 0., 0., 0.],\n",
       "           ...,\n",
       "           [0., 0., 0.,  ..., 0., 0., 0.],\n",
       "           [0., 0., 0.,  ..., 0., 0., 0.],\n",
       "           [0., 0., 0.,  ..., 0., 0., 0.]]],\n",
       " \n",
       " \n",
       "         [[[0., 0., 0.,  ..., 0., 0., 0.],\n",
       "           [0., 0., 0.,  ..., 0., 0., 0.],\n",
       "           [0., 0., 0.,  ..., 0., 0., 0.],\n",
       "           ...,\n",
       "           [0., 0., 0.,  ..., 0., 0., 0.],\n",
       "           [0., 0., 0.,  ..., 0., 0., 0.],\n",
       "           [0., 0., 0.,  ..., 0., 0., 0.]]],\n",
       " \n",
       " \n",
       "         [[[0., 0., 0.,  ..., 0., 0., 0.],\n",
       "           [0., 0., 0.,  ..., 0., 0., 0.],\n",
       "           [0., 0., 0.,  ..., 0., 0., 0.],\n",
       "           ...,\n",
       "           [0., 0., 0.,  ..., 0., 0., 0.],\n",
       "           [0., 0., 0.,  ..., 0., 0., 0.],\n",
       "           [0., 0., 0.,  ..., 0., 0., 0.]]]]),\n",
       " tensor([6, 1, 1, 3, 4, 4, 2, 4, 2, 9, 6, 8, 8, 2, 0, 1, 1, 8, 9, 5, 4, 7, 0, 8,\n",
       "         8, 7, 2, 6, 2, 9, 5, 3])]"
      ]
     },
     "execution_count": 11,
     "metadata": {},
     "output_type": "execute_result"
    }
   ],
   "source": [
    "# iter() iterates over each of 1875 batches in the train_data and next() function returns the next object from\n",
    "# the iterator\n",
    "\n",
    "\n",
    "next(iter(train_data))\n",
    "\n",
    "# note: it only contains one batch of 32 images of 1875 batches of 60000 images."
   ]
  },
  {
   "cell_type": "code",
   "execution_count": null,
   "metadata": {
    "colab": {
     "base_uri": "https://localhost:8080/"
    },
    "id": "r-aGu6Y-pZcM",
    "outputId": "460f8497-0994-4d40-fab1-86ad377a9a14"
   },
   "outputs": [
    {
     "name": "stdout",
     "output_type": "stream",
     "text": [
      "Shape of one image before flattening: torch.Size([1, 28, 28]) \n",
      "Shape of one image after flattening: torch.Size([1, 784])\n"
     ]
    }
   ],
   "source": [
    "# exploring flatten layer\n",
    "\n",
    "flatten_layer = torch.nn.Flatten()\n",
    "\n",
    "images32,labels32 = next(iter(train_data))\n",
    "\n",
    "# we randomly take an image from 32 images.\n",
    "one_image = images32[5]\n",
    "#\n",
    "print('Shape of one image before flattening: {} '.format(one_image.shape))\n",
    "print('Shape of one image after flattening: {}'.format(flatten_layer(one_image).shape))\n",
    "\n",
    "\n",
    "# the flatten layer just converted the image matrix into one single array (28 X 28 = 784)"
   ]
  },
  {
   "cell_type": "code",
   "execution_count": null,
   "metadata": {
    "id": "YlZRefRrsBZ0"
   },
   "outputs": [],
   "source": []
  },
  {
   "cell_type": "markdown",
   "metadata": {
    "id": "c4D8kWjdqK0W"
   },
   "source": [
    "\n",
    "\n",
    "```\n",
    "# This is formatted as code\n",
    "```\n",
    "\n",
    "# building model0:\n",
    "\n",
    "* model0 has the followings\n",
    "1. it has only linear layers.\n",
    "2. it first flattens the image.\n",
    "3. then passes them over to the linear layers to predict the outcome.\n"
   ]
  },
  {
   "cell_type": "code",
   "execution_count": null,
   "metadata": {
    "id": "oWo4lT_kqM2s"
   },
   "outputs": [],
   "source": [
    "# subclassing\n",
    "class VisionModel0(torch.nn.Module):\n",
    "  def __init__(self,i,o,h): # i for input, o for output, h for hidden\n",
    "    super().__init__()\n",
    "\n",
    "    self.layer_stack = torch.nn.Sequential(\n",
    "        torch.nn.Flatten(),\n",
    "        torch.nn.Linear(in_features=i,out_features=h),\n",
    "        torch.nn.Linear(in_features=h,out_features=o),\n",
    "    )\n",
    "\n",
    "  def forward(self,x):\n",
    "    return self.layer_stack(x)\n",
    "\n",
    "\n",
    "# device agnostice code:\n",
    "device = 'cuda' if torch.cuda.is_available() else 'cpu'\n",
    "\n",
    "# model definition\n",
    "image_shape = 28*28\n",
    "num_classes = len(class_names)\n",
    "hidden_layers = 5\n",
    "model0 = VisionModel0(i=image_shape,o=num_classes,h=hidden_layers)\n",
    "model0 = model0.to(device)"
   ]
  },
  {
   "cell_type": "markdown",
   "metadata": {
    "id": "j4VGm9_R1svp"
   },
   "source": [
    "# exploration,analysis and freethrows"
   ]
  },
  {
   "cell_type": "code",
   "execution_count": null,
   "metadata": {
    "colab": {
     "base_uri": "https://localhost:8080/"
    },
    "id": "fFGx5Q0x1v-j",
    "outputId": "702147e3-7046-4389-f9ba-363f88c01008"
   },
   "outputs": [
    {
     "data": {
      "text/plain": [
       "tensor([[ 0.4309, -0.2124, -0.1267,  0.0699,  0.2216,  0.4594,  0.3614,  0.1900,\n",
       "         -0.3908, -0.0307]], grad_fn=<AddmmBackward0>)"
      ]
     },
     "execution_count": 46,
     "metadata": {},
     "output_type": "execute_result"
    }
   ],
   "source": [
    "# passing a variable with random values to see how the model performs\n",
    "x = torch.rand((1,1,28,28))\n",
    "model0(x)"
   ]
  },
  {
   "cell_type": "code",
   "execution_count": null,
   "metadata": {
    "colab": {
     "base_uri": "https://localhost:8080/"
    },
    "id": "m1wfl65o474s",
    "outputId": "db391027-f5a8-4f16-fb89-90f6924848b8"
   },
   "outputs": [
    {
     "data": {
      "text/plain": [
       "tensor([[ 3.6286,  2.1026, -1.3381,  1.6755, -1.4775, -0.5970,  2.8693,  0.3794,\n",
       "          0.9273,  2.0799]], grad_fn=<AddmmBackward0>)"
      ]
     },
     "execution_count": 47,
     "metadata": {},
     "output_type": "execute_result"
    }
   ],
   "source": [
    "x = torch.randint(1,9,(1,1,28,28),dtype=torch.float32) # setting the dtype is important here!\n",
    "model0(x)"
   ]
  },
  {
   "cell_type": "code",
   "execution_count": null,
   "metadata": {
    "id": "djenTaeH5_S_"
   },
   "outputs": [],
   "source": []
  },
  {
   "cell_type": "markdown",
   "metadata": {
    "id": "_wbbZXOL48Aq"
   },
   "source": [
    "# compiling the model"
   ]
  },
  {
   "cell_type": "code",
   "execution_count": null,
   "metadata": {
    "id": "nXK6Alxl4-h4"
   },
   "outputs": [],
   "source": [
    "# downloading the helper functions:\n",
    "\n",
    "if Path('helper_functions.py').is_file():\n",
    "  print('Already Exists')\n",
    "else:\n",
    "  request = requests.get('https://raw.githubusercontent.com/mrdbourke/pytorch-deep-learning/main/helper_functions.py').content\n",
    "  with open('helper_functions.py','wb') as f:\n",
    "    f.write(request)"
   ]
  },
  {
   "cell_type": "code",
   "execution_count": null,
   "metadata": {
    "id": "VDlaTkX9-IvH"
   },
   "outputs": [],
   "source": [
    "from helper_functions import accuracy_fn\n",
    "\n",
    "# but we don't want to use this accuracy_fn, we want to create our own"
   ]
  },
  {
   "cell_type": "code",
   "execution_count": null,
   "metadata": {
    "id": "RVdUp7yS82DN"
   },
   "outputs": [],
   "source": [
    "# compiling the model\n",
    "\n",
    "loss = torch.nn.CrossEntropyLoss()\n",
    "optimizer = torch.optim.Adam(params=model0.parameters(),\n",
    "                            lr=0.01)\n",
    "def accuracy(prediction,actual):\n",
    "  correct = torch.eq(prediction,actual).sum().item()\n",
    "  acc = correct/len(actual)\n",
    "\n",
    "  return acc\n"
   ]
  },
  {
   "cell_type": "code",
   "execution_count": null,
   "metadata": {
    "id": "YoevWtWW8wMy"
   },
   "outputs": [],
   "source": []
  },
  {
   "cell_type": "markdown",
   "metadata": {
    "id": "8CawO8H-8wPh"
   },
   "source": [
    "# experiment to see how fast our model runs:"
   ]
  },
  {
   "cell_type": "code",
   "execution_count": null,
   "metadata": {
    "colab": {
     "base_uri": "https://localhost:8080/"
    },
    "id": "yLDCbesw85A3",
    "outputId": "4884d405-5af1-4a40-cd04-cb560a88f8fc"
   },
   "outputs": [
    {
     "data": {
      "text/plain": [
       "4.4439999996370716e-05"
      ]
     },
     "execution_count": 7,
     "metadata": {},
     "output_type": "execute_result"
    }
   ],
   "source": [
    "import time\n",
    "\n",
    "start = time.perf_counter()\n",
    "end = time.perf_counter()\n",
    "\n",
    "end-start"
   ]
  },
  {
   "cell_type": "code",
   "execution_count": null,
   "metadata": {
    "colab": {
     "base_uri": "https://localhost:8080/"
    },
    "id": "WNCuPp3t85Ju",
    "outputId": "9c19ada4-2b7d-417a-a134-b412e67ef7ee"
   },
   "outputs": [
    {
     "name": "stdout",
     "output_type": "stream",
     "text": [
      "Total Training Time is: 0.000\n"
     ]
    }
   ],
   "source": [
    "def print_time(start:float,end:float,device:torch.device=None):\n",
    "  total_time = end - start\n",
    "  print('Total Training Time is: {:.3f}'.format(total_time))\n",
    "\n",
    "\n",
    "print_time(time.perf_counter(),time.perf_counter(),device)"
   ]
  },
  {
   "cell_type": "code",
   "execution_count": null,
   "metadata": {
    "id": "PeCaelDW85Mo"
   },
   "outputs": [],
   "source": []
  },
  {
   "cell_type": "markdown",
   "metadata": {
    "id": "GRtGSZ2O85Pg"
   },
   "source": [
    "# writing training and testing loop for our batched data"
   ]
  },
  {
   "cell_type": "code",
   "execution_count": null,
   "metadata": {
    "colab": {
     "base_uri": "https://localhost:8080/",
     "height": 171,
     "referenced_widgets": [
      "05dd4f0d2d464d1fa7e19cb3fa4e92c2",
      "7903b6711d824070a3aa6c9a94f38c1d",
      "1d82fb17dab74345bda5301edab8c3bf",
      "78907c502ce643cbb76a34d49c787032",
      "9201753c3643433da15cfb72df9ac7d3",
      "6448eade01964aef9d19c7b988dc77f4",
      "5c959b1404c144c7a8aaaac9dde8fa36",
      "e2770909b1804c6383b9b7b016f68eec",
      "f222223429314b62aea71eb652038cab",
      "71e02ee5c9354c28bd7de491fac46092",
      "f215e30bad4e46f18c2d538ddf53a6d6"
     ]
    },
    "id": "8jDrnem4Kd7r",
    "outputId": "a5c06254-36a8-47d9-8c41-e3554ca7d385"
   },
   "outputs": [
    {
     "data": {
      "application/vnd.jupyter.widget-view+json": {
       "model_id": "05dd4f0d2d464d1fa7e19cb3fa4e92c2",
       "version_major": 2,
       "version_minor": 0
      },
      "text/plain": [
       "  0%|          | 0/3 [00:00<?, ?it/s]"
      ]
     },
     "metadata": {},
     "output_type": "display_data"
    },
    {
     "name": "stdout",
     "output_type": "stream",
     "text": [
      "Epoch:0| Train_loss: 2.342, Test_loss: 2.342 | Train_accuracy: 0.090, Test_accuracy: 0.088359\n",
      "--------------------\n",
      "Epoch:1| Train_loss: 2.342, Test_loss: 2.342 | Train_accuracy: 0.090, Test_accuracy: 0.088359\n",
      "--------------------\n",
      "Epoch:2| Train_loss: 2.342, Test_loss: 2.342 | Train_accuracy: 0.090, Test_accuracy: 0.088359\n",
      "--------------------\n",
      "Total Training Time is: 29.635\n"
     ]
    }
   ],
   "source": [
    "# tqdm shows progress bar\n",
    "from tqdm.auto import tqdm\n",
    "\n",
    "epochs = 3\n",
    "\n",
    "# begin the time\n",
    "start = time.perf_counter()\n",
    "\n",
    "# setting the train_loss to zero to calculate the accumulated training loss\n",
    "  accumulated_train_loss = 0\n",
    "  accumulated_train_accuracy = 0\n",
    "  accumulated_test_loss = 0\n",
    "  accumulated_test_accuracy = 0\n",
    "\n",
    "# please remember to put tqdm before range in the for loop for tqdm to work.\n",
    "for epoch in tqdm(range(epochs)):\n",
    "\n",
    "  # batch shows which we are in\n",
    "  # train_data will have both features and labels hence (x_train,y_train)\n",
    "  for batch, (x_train,y_train) in enumerate(train_data):\n",
    "\n",
    "    # train the model\n",
    "    model0.train()\n",
    "\n",
    "    # train loss and train accuracy\n",
    "    train_logits = model0(x_train)\n",
    "    train_prediction = torch.argmax(train_logits,dim=1)\n",
    "    train_actual = y_train\n",
    "    train_loss = loss(train_logits,train_actual)\n",
    "    train_accuracy = accuracy(train_prediction,train_actual)\n",
    "    accumulated_train_loss += train_loss\n",
    "    accumulated_train_accuracy += train_accuracy\n",
    "\n",
    "    # training the loss\n",
    "    accumulated_train_loss.backward()\n",
    "\n",
    "    # zero grading the optimizer\n",
    "    optimizer.zero_grad()\n",
    "\n",
    "    # stepping the optimizer up a notch\n",
    "    optimizer.step()\n",
    "\n",
    "\n",
    "  # averaging the accumulated_test_loss and accumulated_test_accuracy batch wise\n",
    "  # len(train_data) refers to all the batches\n",
    "  accumulated_train_loss = accumulated_train_loss/len(train_data)\n",
    "  accumulated_train_accuracy /= len(train_data)\n",
    "\n",
    "\n",
    "  # testing\n",
    "  model0.eval()\n",
    "\n",
    "\n",
    "  with torch.inference_mode():\n",
    "\n",
    "    for batch,(x_test,y_test) in enumerate(test_data):\n",
    "\n",
    "      # test loss and test accuracy\n",
    "      test_logits = model0(x_test)\n",
    "      test_prediction = torch.argmax(test_logits,dim=1)\n",
    "      test_actual = y_test\n",
    "      test_loss = loss(test_logits,test_actual)\n",
    "      test_accuracy = accuracy(test_prediction,test_actual)\n",
    "      accumulated_test_loss += test_loss\n",
    "      accumulated_test_accuracy += test_accuracy\n",
    "\n",
    "\n",
    "    # average accumulated loss and accuracy\n",
    "    accumulated_test_accuracy /= len(test_data)\n",
    "    accumulated_test_loss /= len(test_data)\n",
    "\n",
    "    # print out the results\n",
    "  print('Epoch:{}| Train_loss: {:.3f}, Test_loss: {:.3f} | Train_accuracy: {:.3f}, Test_accuracy: {:3f}'\\\n",
    "          .format(epoch,accumulated_train_loss,accumulated_test_loss,\\\n",
    "                  accumulated_train_accuracy,accumulated_test_accuracy))\n",
    "\n",
    "  print('--------------------')\n",
    "\n",
    "\n",
    "\n",
    "\n",
    "# calculate the time\n",
    "end = time.perf_counter()\n",
    "print_time(start,end,device)"
   ]
  },
  {
   "cell_type": "code",
   "execution_count": null,
   "metadata": {
    "id": "EurCUgN6Qcyw"
   },
   "outputs": [],
   "source": []
  },
  {
   "cell_type": "markdown",
   "metadata": {
    "id": "eMR0UREbOftZ"
   },
   "source": [
    "# exploration,analysis and freethrows"
   ]
  },
  {
   "cell_type": "code",
   "execution_count": null,
   "metadata": {
    "colab": {
     "base_uri": "https://localhost:8080/"
    },
    "id": "qqQgt47fKd-n",
    "outputId": "92c57de2-cbeb-4c90-8683-f7dc73ddd61e"
   },
   "outputs": [
    {
     "data": {
      "text/plain": [
       "Dataset FashionMNIST\n",
       "    Number of datapoints: 60000\n",
       "    Root location: data\n",
       "    Split: Train\n",
       "    StandardTransform\n",
       "Transform: ToTensor()"
      ]
     },
     "execution_count": 32,
     "metadata": {},
     "output_type": "execute_result"
    }
   ],
   "source": [
    "train_data.dataset"
   ]
  },
  {
   "cell_type": "code",
   "execution_count": null,
   "metadata": {
    "colab": {
     "base_uri": "https://localhost:8080/"
    },
    "id": "58QfiROrNNFO",
    "outputId": "b50e45c9-671d-4a75-bca4-29d499cafacf"
   },
   "outputs": [
    {
     "data": {
      "text/plain": [
       "60000"
      ]
     },
     "execution_count": 29,
     "metadata": {},
     "output_type": "execute_result"
    }
   ],
   "source": [
    "len(train_data.dataset) # number of total images in it."
   ]
  },
  {
   "cell_type": "code",
   "execution_count": null,
   "metadata": {
    "colab": {
     "base_uri": "https://localhost:8080/"
    },
    "id": "eJczhSULOKWI",
    "outputId": "0d2fca6c-41e1-4c56-8087-e31e8ed52ed3"
   },
   "outputs": [
    {
     "data": {
      "text/plain": [
       "1875"
      ]
     },
     "execution_count": 30,
     "metadata": {},
     "output_type": "execute_result"
    }
   ],
   "source": [
    "len(train_data) # number of batches"
   ]
  },
  {
   "cell_type": "code",
   "execution_count": null,
   "metadata": {
    "colab": {
     "base_uri": "https://localhost:8080/"
    },
    "id": "O_tHNVAUOPsg",
    "outputId": "9054c8eb-1c1f-4056-8ec3-4c5379ef2405"
   },
   "outputs": [
    {
     "data": {
      "text/plain": [
       "(tensor([[[0.0000, 0.0000, 0.0000, 0.0000, 0.0000, 0.0000, 0.0000, 0.0000,\n",
       "           0.0000, 0.0000, 0.0000, 0.0000, 0.0000, 0.0000, 0.0000, 0.0000,\n",
       "           0.0000, 0.0000, 0.0000, 0.0000, 0.0000, 0.0000, 0.0000, 0.0000,\n",
       "           0.0000, 0.0000, 0.0000, 0.0000],\n",
       "          [0.0000, 0.0000, 0.0000, 0.0000, 0.0000, 0.0000, 0.0000, 0.0000,\n",
       "           0.0000, 0.0000, 0.0000, 0.0000, 0.0000, 0.0000, 0.0000, 0.0000,\n",
       "           0.0000, 0.0000, 0.0000, 0.0000, 0.0000, 0.0000, 0.0000, 0.0000,\n",
       "           0.0000, 0.0000, 0.0000, 0.0000],\n",
       "          [0.0000, 0.0000, 0.0000, 0.0000, 0.0000, 0.0000, 0.0000, 0.0000,\n",
       "           0.0000, 0.0000, 0.0000, 0.0000, 0.0000, 0.0000, 0.0000, 0.0000,\n",
       "           0.0000, 0.0000, 0.0000, 0.0000, 0.0000, 0.0000, 0.0000, 0.0000,\n",
       "           0.0000, 0.0000, 0.0000, 0.0000],\n",
       "          [0.0000, 0.0000, 0.0000, 0.0000, 0.0000, 0.0000, 0.0000, 0.0000,\n",
       "           0.0000, 0.0000, 0.0000, 0.0000, 0.0039, 0.0000, 0.0000, 0.0510,\n",
       "           0.2863, 0.0000, 0.0000, 0.0039, 0.0157, 0.0000, 0.0000, 0.0000,\n",
       "           0.0000, 0.0039, 0.0039, 0.0000],\n",
       "          [0.0000, 0.0000, 0.0000, 0.0000, 0.0000, 0.0000, 0.0000, 0.0000,\n",
       "           0.0000, 0.0000, 0.0000, 0.0000, 0.0118, 0.0000, 0.1412, 0.5333,\n",
       "           0.4980, 0.2431, 0.2118, 0.0000, 0.0000, 0.0000, 0.0039, 0.0118,\n",
       "           0.0157, 0.0000, 0.0000, 0.0118],\n",
       "          [0.0000, 0.0000, 0.0000, 0.0000, 0.0000, 0.0000, 0.0000, 0.0000,\n",
       "           0.0000, 0.0000, 0.0000, 0.0000, 0.0235, 0.0000, 0.4000, 0.8000,\n",
       "           0.6902, 0.5255, 0.5647, 0.4824, 0.0902, 0.0000, 0.0000, 0.0000,\n",
       "           0.0000, 0.0471, 0.0392, 0.0000],\n",
       "          [0.0000, 0.0000, 0.0000, 0.0000, 0.0000, 0.0000, 0.0000, 0.0000,\n",
       "           0.0000, 0.0000, 0.0000, 0.0000, 0.0000, 0.0000, 0.6078, 0.9255,\n",
       "           0.8118, 0.6980, 0.4196, 0.6118, 0.6314, 0.4275, 0.2510, 0.0902,\n",
       "           0.3020, 0.5098, 0.2824, 0.0588],\n",
       "          [0.0000, 0.0000, 0.0000, 0.0000, 0.0000, 0.0000, 0.0000, 0.0000,\n",
       "           0.0000, 0.0000, 0.0000, 0.0039, 0.0000, 0.2706, 0.8118, 0.8745,\n",
       "           0.8549, 0.8471, 0.8471, 0.6392, 0.4980, 0.4745, 0.4784, 0.5725,\n",
       "           0.5529, 0.3451, 0.6745, 0.2588],\n",
       "          [0.0000, 0.0000, 0.0000, 0.0000, 0.0000, 0.0000, 0.0000, 0.0000,\n",
       "           0.0000, 0.0039, 0.0039, 0.0039, 0.0000, 0.7843, 0.9098, 0.9098,\n",
       "           0.9137, 0.8980, 0.8745, 0.8745, 0.8431, 0.8353, 0.6431, 0.4980,\n",
       "           0.4824, 0.7686, 0.8980, 0.0000],\n",
       "          [0.0000, 0.0000, 0.0000, 0.0000, 0.0000, 0.0000, 0.0000, 0.0000,\n",
       "           0.0000, 0.0000, 0.0000, 0.0000, 0.0000, 0.7176, 0.8824, 0.8471,\n",
       "           0.8745, 0.8941, 0.9216, 0.8902, 0.8784, 0.8706, 0.8784, 0.8667,\n",
       "           0.8745, 0.9608, 0.6784, 0.0000],\n",
       "          [0.0000, 0.0000, 0.0000, 0.0000, 0.0000, 0.0000, 0.0000, 0.0000,\n",
       "           0.0000, 0.0000, 0.0000, 0.0000, 0.0000, 0.7569, 0.8941, 0.8549,\n",
       "           0.8353, 0.7765, 0.7059, 0.8314, 0.8235, 0.8275, 0.8353, 0.8745,\n",
       "           0.8627, 0.9529, 0.7922, 0.0000],\n",
       "          [0.0000, 0.0000, 0.0000, 0.0000, 0.0000, 0.0000, 0.0000, 0.0000,\n",
       "           0.0000, 0.0039, 0.0118, 0.0000, 0.0471, 0.8588, 0.8627, 0.8314,\n",
       "           0.8549, 0.7529, 0.6627, 0.8902, 0.8157, 0.8549, 0.8784, 0.8314,\n",
       "           0.8863, 0.7725, 0.8196, 0.2039],\n",
       "          [0.0000, 0.0000, 0.0000, 0.0000, 0.0000, 0.0000, 0.0000, 0.0000,\n",
       "           0.0000, 0.0000, 0.0235, 0.0000, 0.3882, 0.9569, 0.8706, 0.8627,\n",
       "           0.8549, 0.7961, 0.7765, 0.8667, 0.8431, 0.8353, 0.8706, 0.8627,\n",
       "           0.9608, 0.4667, 0.6549, 0.2196],\n",
       "          [0.0000, 0.0000, 0.0000, 0.0000, 0.0000, 0.0000, 0.0000, 0.0000,\n",
       "           0.0000, 0.0157, 0.0000, 0.0000, 0.2157, 0.9255, 0.8941, 0.9020,\n",
       "           0.8941, 0.9412, 0.9098, 0.8353, 0.8549, 0.8745, 0.9176, 0.8510,\n",
       "           0.8510, 0.8196, 0.3608, 0.0000],\n",
       "          [0.0000, 0.0000, 0.0039, 0.0157, 0.0235, 0.0275, 0.0078, 0.0000,\n",
       "           0.0000, 0.0000, 0.0000, 0.0000, 0.9294, 0.8863, 0.8510, 0.8745,\n",
       "           0.8706, 0.8588, 0.8706, 0.8667, 0.8471, 0.8745, 0.8980, 0.8431,\n",
       "           0.8549, 1.0000, 0.3020, 0.0000],\n",
       "          [0.0000, 0.0118, 0.0000, 0.0000, 0.0000, 0.0000, 0.0000, 0.0000,\n",
       "           0.0000, 0.2431, 0.5686, 0.8000, 0.8941, 0.8118, 0.8353, 0.8667,\n",
       "           0.8549, 0.8157, 0.8275, 0.8549, 0.8784, 0.8745, 0.8588, 0.8431,\n",
       "           0.8784, 0.9569, 0.6235, 0.0000],\n",
       "          [0.0000, 0.0000, 0.0000, 0.0000, 0.0706, 0.1725, 0.3216, 0.4196,\n",
       "           0.7412, 0.8941, 0.8627, 0.8706, 0.8510, 0.8863, 0.7843, 0.8039,\n",
       "           0.8275, 0.9020, 0.8784, 0.9176, 0.6902, 0.7373, 0.9804, 0.9725,\n",
       "           0.9137, 0.9333, 0.8431, 0.0000],\n",
       "          [0.0000, 0.2235, 0.7333, 0.8157, 0.8784, 0.8667, 0.8784, 0.8157,\n",
       "           0.8000, 0.8392, 0.8157, 0.8196, 0.7843, 0.6235, 0.9608, 0.7569,\n",
       "           0.8078, 0.8745, 1.0000, 1.0000, 0.8667, 0.9176, 0.8667, 0.8275,\n",
       "           0.8627, 0.9098, 0.9647, 0.0000],\n",
       "          [0.0118, 0.7922, 0.8941, 0.8784, 0.8667, 0.8275, 0.8275, 0.8392,\n",
       "           0.8039, 0.8039, 0.8039, 0.8627, 0.9412, 0.3137, 0.5882, 1.0000,\n",
       "           0.8980, 0.8667, 0.7373, 0.6039, 0.7490, 0.8235, 0.8000, 0.8196,\n",
       "           0.8706, 0.8941, 0.8824, 0.0000],\n",
       "          [0.3843, 0.9137, 0.7765, 0.8235, 0.8706, 0.8980, 0.8980, 0.9176,\n",
       "           0.9765, 0.8627, 0.7608, 0.8431, 0.8510, 0.9451, 0.2549, 0.2863,\n",
       "           0.4157, 0.4588, 0.6588, 0.8588, 0.8667, 0.8431, 0.8510, 0.8745,\n",
       "           0.8745, 0.8784, 0.8980, 0.1137],\n",
       "          [0.2941, 0.8000, 0.8314, 0.8000, 0.7569, 0.8039, 0.8275, 0.8824,\n",
       "           0.8471, 0.7255, 0.7725, 0.8078, 0.7765, 0.8353, 0.9412, 0.7647,\n",
       "           0.8902, 0.9608, 0.9373, 0.8745, 0.8549, 0.8314, 0.8196, 0.8706,\n",
       "           0.8627, 0.8667, 0.9020, 0.2627],\n",
       "          [0.1882, 0.7961, 0.7176, 0.7608, 0.8353, 0.7725, 0.7255, 0.7451,\n",
       "           0.7608, 0.7529, 0.7922, 0.8392, 0.8588, 0.8667, 0.8627, 0.9255,\n",
       "           0.8824, 0.8471, 0.7804, 0.8078, 0.7294, 0.7098, 0.6941, 0.6745,\n",
       "           0.7098, 0.8039, 0.8078, 0.4510],\n",
       "          [0.0000, 0.4784, 0.8588, 0.7569, 0.7020, 0.6706, 0.7176, 0.7686,\n",
       "           0.8000, 0.8235, 0.8353, 0.8118, 0.8275, 0.8235, 0.7843, 0.7686,\n",
       "           0.7608, 0.7490, 0.7647, 0.7490, 0.7765, 0.7529, 0.6902, 0.6118,\n",
       "           0.6549, 0.6941, 0.8235, 0.3608],\n",
       "          [0.0000, 0.0000, 0.2902, 0.7412, 0.8314, 0.7490, 0.6863, 0.6745,\n",
       "           0.6863, 0.7098, 0.7255, 0.7373, 0.7412, 0.7373, 0.7569, 0.7765,\n",
       "           0.8000, 0.8196, 0.8235, 0.8235, 0.8275, 0.7373, 0.7373, 0.7608,\n",
       "           0.7529, 0.8471, 0.6667, 0.0000],\n",
       "          [0.0078, 0.0000, 0.0000, 0.0000, 0.2588, 0.7843, 0.8706, 0.9294,\n",
       "           0.9373, 0.9490, 0.9647, 0.9529, 0.9569, 0.8667, 0.8627, 0.7569,\n",
       "           0.7490, 0.7020, 0.7137, 0.7137, 0.7098, 0.6902, 0.6510, 0.6588,\n",
       "           0.3882, 0.2275, 0.0000, 0.0000],\n",
       "          [0.0000, 0.0000, 0.0000, 0.0000, 0.0000, 0.0000, 0.0000, 0.1569,\n",
       "           0.2392, 0.1725, 0.2824, 0.1608, 0.1373, 0.0000, 0.0000, 0.0000,\n",
       "           0.0000, 0.0000, 0.0000, 0.0000, 0.0000, 0.0000, 0.0000, 0.0000,\n",
       "           0.0000, 0.0000, 0.0000, 0.0000],\n",
       "          [0.0000, 0.0000, 0.0000, 0.0000, 0.0000, 0.0000, 0.0000, 0.0000,\n",
       "           0.0000, 0.0000, 0.0000, 0.0000, 0.0000, 0.0000, 0.0000, 0.0000,\n",
       "           0.0000, 0.0000, 0.0000, 0.0000, 0.0000, 0.0000, 0.0000, 0.0000,\n",
       "           0.0000, 0.0000, 0.0000, 0.0000],\n",
       "          [0.0000, 0.0000, 0.0000, 0.0000, 0.0000, 0.0000, 0.0000, 0.0000,\n",
       "           0.0000, 0.0000, 0.0000, 0.0000, 0.0000, 0.0000, 0.0000, 0.0000,\n",
       "           0.0000, 0.0000, 0.0000, 0.0000, 0.0000, 0.0000, 0.0000, 0.0000,\n",
       "           0.0000, 0.0000, 0.0000, 0.0000]]]),\n",
       " 9)"
      ]
     },
     "execution_count": 33,
     "metadata": {},
     "output_type": "execute_result"
    }
   ],
   "source": [
    "# accessing an image\n",
    "train_data.dataset[0]"
   ]
  },
  {
   "cell_type": "code",
   "execution_count": null,
   "metadata": {
    "colab": {
     "base_uri": "https://localhost:8080/",
     "height": 35
    },
    "id": "ejOpEDzYlVNm",
    "outputId": "73b0af98-4955-479e-c8ae-8af52820108b"
   },
   "outputs": [
    {
     "data": {
      "application/vnd.google.colaboratory.intrinsic+json": {
       "type": "string"
      },
      "text/plain": [
       "'VisionModel0'"
      ]
     },
     "execution_count": 58,
     "metadata": {},
     "output_type": "execute_result"
    }
   ],
   "source": [
    "model0.__class__.__name__"
   ]
  },
  {
   "cell_type": "code",
   "execution_count": null,
   "metadata": {
    "id": "PrYndI4kYKKs"
   },
   "outputs": [],
   "source": []
  },
  {
   "cell_type": "code",
   "execution_count": null,
   "metadata": {
    "colab": {
     "base_uri": "https://localhost:8080/"
    },
    "id": "DjsZCFPBk25y",
    "outputId": "56aa52a2-001d-428f-cc56-efb2c12017e3"
   },
   "outputs": [
    {
     "name": "stdout",
     "output_type": "stream",
     "text": [
      "model_name: VisionModel0,accum_loss: 1.8726574182510376, accum_acc: 0.09844249201277955\n"
     ]
    }
   ],
   "source": [
    "# evaluating the model (practice)\n",
    "\n",
    "model0.eval()\n",
    "\n",
    "accum_loss,accum_acc = 0,0\n",
    "\n",
    "with torch.inference_mode():\n",
    "  for batch,(x_test,y_test) in enumerate(test_data):\n",
    "    test_logits = model0(x_test)\n",
    "    test_predictions = test_logits.argmax(dim=1)\n",
    "    test_actual = y_test\n",
    "    test_loss = loss(test_logits,test_predictions)\n",
    "    test_accuracy = accuracy(test_predictions,test_actual)\n",
    "    accum_loss += test_loss\n",
    "    accum_acc += test_accuracy\n",
    "\n",
    "\n",
    "\n",
    "\n",
    "print('model_name: {},accum_loss: {}, accum_acc: {}'\\\n",
    "      .format(model0.__class__.__name__,accum_loss/len(test_data),accum_acc/len(test_data)))"
   ]
  },
  {
   "cell_type": "code",
   "execution_count": null,
   "metadata": {
    "id": "F6cd4vWmvpGu"
   },
   "outputs": [],
   "source": []
  },
  {
   "cell_type": "markdown",
   "metadata": {
    "id": "5n8LVo7Z0N7k"
   },
   "source": [
    "# do everything above without seeing and add non-linear function such as relu this time"
   ]
  },
  {
   "cell_type": "markdown",
   "metadata": {
    "id": "O7wOYYaJ0Wfq"
   },
   "source": [
    "\n",
    "# day 217,day 221"
   ]
  },
  {
   "cell_type": "code",
   "execution_count": null,
   "metadata": {
    "colab": {
     "base_uri": "https://localhost:8080/"
    },
    "id": "WQdzlqkDWXDw",
    "outputId": "cd000779-bf28-478c-f89b-c3342cb60569"
   },
   "outputs": [
    {
     "name": "stdout",
     "output_type": "stream",
     "text": [
      "Collecting torchmetrics\n",
      "  Downloading torchmetrics-1.2.0-py3-none-any.whl (805 kB)\n",
      "\u001b[2K     \u001b[90m━━━━━━━━━━━━━━━━━━━━━━━━━━━━━━━━━━━━━━━━\u001b[0m \u001b[32m805.2/805.2 kB\u001b[0m \u001b[31m9.5 MB/s\u001b[0m eta \u001b[36m0:00:00\u001b[0m\n",
      "\u001b[?25hRequirement already satisfied: numpy>1.20.0 in /usr/local/lib/python3.10/dist-packages (from torchmetrics) (1.23.5)\n",
      "Requirement already satisfied: torch>=1.8.1 in /usr/local/lib/python3.10/dist-packages (from torchmetrics) (2.1.0+cu118)\n",
      "Collecting lightning-utilities>=0.8.0 (from torchmetrics)\n",
      "  Downloading lightning_utilities-0.9.0-py3-none-any.whl (23 kB)\n",
      "Requirement already satisfied: packaging>=17.1 in /usr/local/lib/python3.10/dist-packages (from lightning-utilities>=0.8.0->torchmetrics) (23.2)\n",
      "Requirement already satisfied: typing-extensions in /usr/local/lib/python3.10/dist-packages (from lightning-utilities>=0.8.0->torchmetrics) (4.5.0)\n",
      "Requirement already satisfied: filelock in /usr/local/lib/python3.10/dist-packages (from torch>=1.8.1->torchmetrics) (3.12.4)\n",
      "Requirement already satisfied: sympy in /usr/local/lib/python3.10/dist-packages (from torch>=1.8.1->torchmetrics) (1.12)\n",
      "Requirement already satisfied: networkx in /usr/local/lib/python3.10/dist-packages (from torch>=1.8.1->torchmetrics) (3.2)\n",
      "Requirement already satisfied: jinja2 in /usr/local/lib/python3.10/dist-packages (from torch>=1.8.1->torchmetrics) (3.1.2)\n",
      "Requirement already satisfied: fsspec in /usr/local/lib/python3.10/dist-packages (from torch>=1.8.1->torchmetrics) (2023.6.0)\n",
      "Requirement already satisfied: triton==2.1.0 in /usr/local/lib/python3.10/dist-packages (from torch>=1.8.1->torchmetrics) (2.1.0)\n",
      "Requirement already satisfied: MarkupSafe>=2.0 in /usr/local/lib/python3.10/dist-packages (from jinja2->torch>=1.8.1->torchmetrics) (2.1.3)\n",
      "Requirement already satisfied: mpmath>=0.19 in /usr/local/lib/python3.10/dist-packages (from sympy->torch>=1.8.1->torchmetrics) (1.3.0)\n",
      "Installing collected packages: lightning-utilities, torchmetrics\n",
      "Successfully installed lightning-utilities-0.9.0 torchmetrics-1.2.0\n"
     ]
    }
   ],
   "source": [
    "!pip install torchmetrics"
   ]
  },
  {
   "cell_type": "code",
   "execution_count": null,
   "metadata": {
    "id": "O2ryn5qsBru0"
   },
   "outputs": [],
   "source": [
    "import numpy as np\n",
    "import seaborn as sns\n",
    "import pandas as pd\n",
    "import matplotlib.pyplot as plt\n",
    "import os\n",
    "import requests\n",
    "import torch\n",
    "import torchvision\n",
    "from torch.utils.data import DataLoader\n",
    "import time\n",
    "from tqdm.auto import tqdm\n",
    "import torchmetrics"
   ]
  },
  {
   "cell_type": "code",
   "execution_count": null,
   "metadata": {
    "colab": {
     "base_uri": "https://localhost:8080/"
    },
    "id": "qjeKvYWmBrvz",
    "outputId": "6c084568-c341-49d0-cce4-38f056a42adf"
   },
   "outputs": [
    {
     "name": "stdout",
     "output_type": "stream",
     "text": [
      "Downloading http://fashion-mnist.s3-website.eu-central-1.amazonaws.com/train-images-idx3-ubyte.gz\n",
      "Downloading http://fashion-mnist.s3-website.eu-central-1.amazonaws.com/train-images-idx3-ubyte.gz to data/FashionMNIST/raw/train-images-idx3-ubyte.gz\n"
     ]
    },
    {
     "name": "stderr",
     "output_type": "stream",
     "text": [
      "100%|██████████| 26421880/26421880 [00:01<00:00, 13763041.10it/s]\n"
     ]
    },
    {
     "name": "stdout",
     "output_type": "stream",
     "text": [
      "Extracting data/FashionMNIST/raw/train-images-idx3-ubyte.gz to data/FashionMNIST/raw\n",
      "\n",
      "Downloading http://fashion-mnist.s3-website.eu-central-1.amazonaws.com/train-labels-idx1-ubyte.gz\n",
      "Downloading http://fashion-mnist.s3-website.eu-central-1.amazonaws.com/train-labels-idx1-ubyte.gz to data/FashionMNIST/raw/train-labels-idx1-ubyte.gz\n"
     ]
    },
    {
     "name": "stderr",
     "output_type": "stream",
     "text": [
      "100%|██████████| 29515/29515 [00:00<00:00, 228449.79it/s]\n"
     ]
    },
    {
     "name": "stdout",
     "output_type": "stream",
     "text": [
      "Extracting data/FashionMNIST/raw/train-labels-idx1-ubyte.gz to data/FashionMNIST/raw\n",
      "\n",
      "Downloading http://fashion-mnist.s3-website.eu-central-1.amazonaws.com/t10k-images-idx3-ubyte.gz\n",
      "Downloading http://fashion-mnist.s3-website.eu-central-1.amazonaws.com/t10k-images-idx3-ubyte.gz to data/FashionMNIST/raw/t10k-images-idx3-ubyte.gz\n"
     ]
    },
    {
     "name": "stderr",
     "output_type": "stream",
     "text": [
      "100%|██████████| 4422102/4422102 [00:01<00:00, 4260292.70it/s]\n"
     ]
    },
    {
     "name": "stdout",
     "output_type": "stream",
     "text": [
      "Extracting data/FashionMNIST/raw/t10k-images-idx3-ubyte.gz to data/FashionMNIST/raw\n",
      "\n",
      "Downloading http://fashion-mnist.s3-website.eu-central-1.amazonaws.com/t10k-labels-idx1-ubyte.gz\n",
      "Downloading http://fashion-mnist.s3-website.eu-central-1.amazonaws.com/t10k-labels-idx1-ubyte.gz to data/FashionMNIST/raw/t10k-labels-idx1-ubyte.gz\n"
     ]
    },
    {
     "name": "stderr",
     "output_type": "stream",
     "text": [
      "100%|██████████| 5148/5148 [00:00<00:00, 10272253.56it/s]"
     ]
    },
    {
     "name": "stdout",
     "output_type": "stream",
     "text": [
      "Extracting data/FashionMNIST/raw/t10k-labels-idx1-ubyte.gz to data/FashionMNIST/raw\n",
      "\n"
     ]
    },
    {
     "name": "stderr",
     "output_type": "stream",
     "text": [
      "\n"
     ]
    }
   ],
   "source": [
    "# downloading training and testing data of FashionMNIST\n",
    "train_data = torchvision.datasets.FashionMNIST(root='data',\n",
    "                                               train=True,\n",
    "                                               download=True,\n",
    "                                               transform=torchvision.transforms.ToTensor(),\n",
    "                                               target_transform = None)\n",
    "\n",
    "test_data = torchvision.datasets.FashionMNIST(root='data',\n",
    "                                              train=False,\n",
    "                                              download=True,\n",
    "                                              transform=torchvision.transforms.ToTensor(),\n",
    "                                              target_transform=None)"
   ]
  },
  {
   "cell_type": "code",
   "execution_count": null,
   "metadata": {
    "colab": {
     "base_uri": "https://localhost:8080/"
    },
    "id": "7ayO4Ph3IT2d",
    "outputId": "9afb1b1d-855b-424d-ea41-2b1929b9a1a3"
   },
   "outputs": [
    {
     "data": {
      "text/plain": [
       "['T-shirt/top',\n",
       " 'Trouser',\n",
       " 'Pullover',\n",
       " 'Dress',\n",
       " 'Coat',\n",
       " 'Sandal',\n",
       " 'Shirt',\n",
       " 'Sneaker',\n",
       " 'Bag',\n",
       " 'Ankle boot']"
      ]
     },
     "execution_count": 43,
     "metadata": {},
     "output_type": "execute_result"
    }
   ],
   "source": [
    "train_data.classes"
   ]
  },
  {
   "cell_type": "code",
   "execution_count": null,
   "metadata": {
    "colab": {
     "base_uri": "https://localhost:8080/",
     "height": 839
    },
    "id": "-iPy9BxGFkum",
    "outputId": "6b17eb4e-9e6b-4da8-cf00-80772293e861"
   },
   "outputs": [
    {
     "data": {
      "image/png": "[encoded data removed]",
      "text/plain": [
       "<Figure size 1200x1200 with 16 Axes>"
      ]
     },
     "metadata": {},
     "output_type": "display_data"
    }
   ],
   "source": [
    "# visualizing the train data\n",
    "class_names = train_data.classes\n",
    "plt.figure(figsize=(12,12))\n",
    "\n",
    "rows = 4\n",
    "cols = 4\n",
    "for i in range(1,rows*cols+1):\n",
    "  plt.subplot(rows,cols,i)\n",
    "  random_index = torch.randint(0,len(train_data),size=[1])[0]\n",
    "  image,label = train_data[random_index]\n",
    "  plt.imshow(image.squeeze())\n",
    "  plt.title(class_names[label])\n",
    "  plt.axis('off')\n",
    "plt.show()"
   ]
  },
  {
   "cell_type": "code",
   "execution_count": null,
   "metadata": {
    "id": "KS4ivjUlDqaX"
   },
   "outputs": [],
   "source": [
    "# dataloader is used for batching the data.\n",
    "\n",
    "train_DataLoader = DataLoader(train_data,\n",
    "                        batch_size=32,\n",
    "                        shuffle=True)\n",
    "\n",
    "test_DataLoader = DataLoader(test_data,\n",
    "                       batch_size=32,\n",
    "                       shuffle=False)"
   ]
  },
  {
   "cell_type": "code",
   "execution_count": null,
   "metadata": {
    "id": "k-7m8oKpYuBZ"
   },
   "outputs": [],
   "source": [
    "# counter for couting the code execution time in seconds\n",
    "\n",
    "def print_time(start,end):\n",
    "  total = end-start\n",
    "\n",
    "  print('Total time it took is: %s'%(total))"
   ]
  },
  {
   "cell_type": "code",
   "execution_count": null,
   "metadata": {
    "id": "r48dJ7AHDqb1"
   },
   "outputs": [],
   "source": [
    "# subclassing\n",
    "class VisionModel1(torch.nn.Module):\n",
    "  def __init__(self,i,o,h):\n",
    "    super().__init__()\n",
    "\n",
    "    self.layer_stack = torch.nn.Sequential(\n",
    "        torch.nn.Flatten(),\n",
    "        torch.nn.Linear(in_features=i,out_features=h),\n",
    "        torch.nn.ReLU(),\n",
    "        torch.nn.Linear(in_features=h,out_features=o)\n",
    "    )\n",
    "\n",
    "  def forward(self,x):\n",
    "    return self.layer_stack(x)\n",
    "\n",
    "\n",
    "device = 'cuda' if torch.cuda.is_available() else 'cpu'\n",
    "\n",
    "model1 = VisionModel1(i=28*28,o=len(class_names),h=10)\n",
    "\n",
    "model1.to(device)\n",
    "\n",
    "# compiling the model\n",
    "loss = torch.nn.CrossEntropyLoss()\n",
    "optimizer = torch.optim.Adam(params=model1.parameters(),\n",
    "                             lr=0.01)\n",
    "accuracy = torchmetrics.Accuracy(task='multiclass',num_classes=len(class_names))"
   ]
  },
  {
   "cell_type": "code",
   "execution_count": null,
   "metadata": {
    "colab": {
     "base_uri": "https://localhost:8080/",
     "height": 153,
     "referenced_widgets": [
      "09d7bea3d8bb4bc9a4dbf04c51191c66",
      "eb7a113670c845fe8cbb4a81498cc9c3",
      "ef6227d2127c4be09a364c06af639b75",
      "a8a62d59aede4cc58d22635fd5df77a1",
      "d625a693e9cb4bf189bdfc89743e8752",
      "7c6df8da8e784351b0e994ec50e03049",
      "5048d7357960420e83a9f4eb0f6f181c",
      "a9e42fb46a804f7d851913e1568eb617",
      "1d3fef1d55284985958e8c9c491edcf5",
      "5bf96dcdb8ef45b5a20d4adedfcd3e1f",
      "6e667e80c1f34f9799075814619a2a11"
     ]
    },
    "id": "eckNsNqXDqeB",
    "outputId": "a597824f-f202-4faf-edfd-72e540be0d9b"
   },
   "outputs": [
    {
     "data": {
      "application/vnd.jupyter.widget-view+json": {
       "model_id": "09d7bea3d8bb4bc9a4dbf04c51191c66",
       "version_major": 2,
       "version_minor": 0
      },
      "text/plain": [
       "  0%|          | 0/5 [00:00<?, ?it/s]"
      ]
     },
     "metadata": {},
     "output_type": "display_data"
    },
    {
     "name": "stdout",
     "output_type": "stream",
     "text": [
      "Epoch: 0 | Train Loss: 0.6853, Train Accuracy: 0.751617 | Test Loss: 0.6277 , Test Accuracy: 0.7771\n",
      "Epoch: 1 | Train Loss: 0.5678, Train Accuracy: 0.800767 | Test Loss: 0.5753 , Test Accuracy: 0.8020\n",
      "Epoch: 2 | Train Loss: 0.5592, Train Accuracy: 0.806383 | Test Loss: 0.5652 , Test Accuracy: 0.8029\n",
      "Epoch: 3 | Train Loss: 0.5479, Train Accuracy: 0.809383 | Test Loss: 0.5989 , Test Accuracy: 0.7876\n",
      "Epoch: 4 | Train Loss: 0.5458, Train Accuracy: 0.809450 | Test Loss: 0.5794 , Test Accuracy: 0.7980\n",
      "Total time it took is: 74.99397662500087\n"
     ]
    }
   ],
   "source": [
    "# fitting the model\n",
    "epochs = 5\n",
    "\n",
    "start = time.perf_counter()\n",
    "\n",
    "for epoch in tqdm(range(epochs)):\n",
    "\n",
    "  # we have to train and test  batch by batch\n",
    "\n",
    "  # we are setting these parameters as zero because on every epoch it starts anew.\n",
    "  accumulated_train_loss, accumulated_test_loss,accumulated_train_accuracy,accumulated_test_accuracy = 0,0,0,0\n",
    "  for batch,(x_train,y_train) in enumerate(train_DataLoader):\n",
    "\n",
    "    # train the model\n",
    "    model1.train()\n",
    "\n",
    "    # getting train_loss and test_loss\n",
    "    train_logits = model1(x_train)\n",
    "    train_predictions = torch.argmax(train_logits,dim=1)\n",
    "    train_actuals = y_train\n",
    "    train_loss = loss(train_logits,train_actuals)\n",
    "    train_accuracy = accuracy(train_predictions,train_actuals)\n",
    "    accumulated_train_loss += train_loss\n",
    "    accumulated_train_accuracy += train_accuracy\n",
    "\n",
    "    # optimizer zero grading\n",
    "    optimizer.zero_grad()\n",
    "\n",
    "    # loss backward\n",
    "    train_loss.backward()\n",
    "\n",
    "    # stepping the optimizer up a notch\n",
    "    optimizer.step()\n",
    "\n",
    "\n",
    "  accumulated_train_loss /= len(train_DataLoader)\n",
    "  accumulated_train_accuracy /= len(train_DataLoader)\n",
    "\n",
    "  # evaluating the model\n",
    "  model1.eval()\n",
    "  with torch.inference_mode():\n",
    "    for batch,(x_test,y_test) in enumerate(test_DataLoader):\n",
    "      # test_loss and test_accuracy\n",
    "      test_logits = model1(x_test)\n",
    "      test_predictions = torch.argmax(test_logits,dim=1)\n",
    "      test_actuals = y_test\n",
    "      test_loss = loss(test_logits,test_actuals)\n",
    "      test_accuracy = accuracy(test_predictions,test_actuals)\n",
    "      accumulated_test_loss += test_loss\n",
    "      accumulated_test_accuracy += test_accuracy\n",
    "\n",
    "    accumulated_test_loss /= len(test_DataLoader)\n",
    "    accumulated_test_accuracy /= len(test_DataLoader)\n",
    "\n",
    "\n",
    "    print('Epoch: {} | Train Loss: {:.4f}, Train Accuracy: {:4f} | Test Loss: {:.4f} , Test Accuracy: {:.4f}'\\\n",
    "        .format(epoch,accumulated_train_loss,accumulated_train_accuracy,accumulated_test_loss,\\\n",
    "                accumulated_test_accuracy))\n",
    "\n",
    "end = time.perf_counter()\n",
    "print_time(start,end)"
   ]
  },
  {
   "cell_type": "code",
   "execution_count": null,
   "metadata": {
    "id": "_LRT5gasXpfC"
   },
   "outputs": [],
   "source": []
  },
  {
   "cell_type": "markdown",
   "metadata": {
    "id": "PTPBBWSxXlyH"
   },
   "source": [
    "# exploration,analysis and freethrows"
   ]
  },
  {
   "cell_type": "code",
   "execution_count": null,
   "metadata": {
    "colab": {
     "base_uri": "https://localhost:8080/"
    },
    "id": "K6rlfTU4Dqg2",
    "outputId": "5e2d9884-559f-4c80-d6dc-93b2da639e7c"
   },
   "outputs": [
    {
     "data": {
      "text/plain": [
       "1875"
      ]
     },
     "execution_count": 51,
     "metadata": {},
     "output_type": "execute_result"
    }
   ],
   "source": [
    "len(train_DataLoader) # has these many batches"
   ]
  },
  {
   "cell_type": "markdown",
   "metadata": {
    "id": "B441t-inCKbs"
   },
   "source": [
    "# practice"
   ]
  },
  {
   "cell_type": "code",
   "execution_count": null,
   "metadata": {
    "colab": {
     "base_uri": "https://localhost:8080/"
    },
    "id": "kW1yF49mBx0p",
    "outputId": "63c7c6a7-930d-46c1-f123-ad24e9961662"
   },
   "outputs": [
    {
     "name": "stdout",
     "output_type": "stream",
     "text": [
      "Epoch: 0 | Train Loss: 0.5458, Train Accuracy: 0.809450 | Test Loss: 0.5794 , Test Accuracy: 0.7980\n",
      "Epoch: 1 | Train Loss: 0.5458, Train Accuracy: 0.809450 | Test Loss: 0.5794 , Test Accuracy: 0.7980\n",
      "Epoch: 2 | Train Loss: 0.5458, Train Accuracy: 0.809450 | Test Loss: 0.5794 , Test Accuracy: 0.7980\n",
      "Total time it took is: 43.84465324000121\n"
     ]
    }
   ],
   "source": [
    "# subclassing the model\n",
    "class VisionModel2(torch.nn.Module):\n",
    "  def __init__(self,i,o,h):\n",
    "    super().__init__()\n",
    "\n",
    "    self.layer_stack = torch.nn.Sequential(\n",
    "        torch.nn.Flatten(),\n",
    "        torch.nn.Linear(in_features=i,out_features=h),\n",
    "        torch.nn.ReLU(),\n",
    "        torch.nn.Linear(in_features=h,out_features=h),\n",
    "        torch.nn.ReLU(),\n",
    "        torch.nn.Linear(in_features=h,out_features=h),\n",
    "        torch.nn.ReLU(),\n",
    "        torch.nn.Linear(in_features=h,out_features=h),\n",
    "        torch.nn.ReLU(),\n",
    "        torch.nn.Linear(in_features=h,out_features=o),\n",
    "        torch.nn.ReLU()\n",
    "    )\n",
    "  def forward(self,x):\n",
    "    return self.layer_stack(x)\n",
    "\n",
    "# creating the model2\n",
    "model2 = VisionModel2(i=28*28,o=len(class_names),h=10).to(device)\n",
    "\n",
    "# compile the model2\n",
    "loss = torch.nn.CrossEntropyLoss()\n",
    "optimizer = torch.optim.Adam(params=model2.parameters(),\n",
    "                             lr=0.01)\n",
    "accuracy = torchmetrics.Accuracy(task='multiclass',num_classes=len(class_names))\n",
    "\n",
    "# fitting the model\n",
    "epochs = 3\n",
    "\n",
    "start = time.perf_counter()\n",
    "\n",
    "for epoch in range(epochs):\n",
    "\n",
    "  # setting the accumulated loss and accuracies\n",
    "  acc_train_loss,acc_test_loss,acc_train_accuracy,acc_test_accuracy=0,0,0,0\n",
    "\n",
    "  # training and testing the data batch by batch\n",
    "  for batch,(x_train,y_train) in enumerate(train_DataLoader):\n",
    "\n",
    "    # training the model\n",
    "    model2.train()\n",
    "\n",
    "    # train_loss and train_accuracy\n",
    "    train_logits = model2(x_train)\n",
    "    train_predictions = torch.argmax(train_logits,dim=1)\n",
    "    train_actuals = y_train\n",
    "    train_loss = loss(train_logits,train_actuals)\n",
    "    train_accuracy = accuracy(train_predictions,train_actuals)\n",
    "    acc_train_loss += train_loss\n",
    "    acc_train_accuracy += train_accuracy\n",
    "\n",
    "    # back propogating the train loss\n",
    "    train_loss.backward()\n",
    "\n",
    "    # setting the optimizer's gradient to zero on every loop\n",
    "    optimizer.zero_grad()\n",
    "\n",
    "    # stepping the optimizer up a notch.\n",
    "    optimizer.step()\n",
    "\n",
    "  # outside the loop find the probability function for acc_loss and acc_accuracy batch wise\n",
    "  acc_train_loss /= len(train_DataLoader)\n",
    "  acc_train_accuracy /=len(test_DataLoader)\n",
    "\n",
    "\n",
    "  # testing\n",
    "  model2.eval()\n",
    "\n",
    "  with torch.inference_mode():\n",
    "    for batch,(x_test,y_test) in enumerate(test_DataLoader):\n",
    "\n",
    "      # test loss and test accuracy\n",
    "      test_logits = model2(x_test)\n",
    "      test_predictions = torch.argmax(test_logits,dim=1)\n",
    "      test_actuals = y_test\n",
    "      test_loss = loss(test_logits,test_actuals)\n",
    "      test_accuracy = accuracy(test_predictions,test_actuals)\n",
    "      acc_test_loss += test_loss\n",
    "      acc_test_accuracy += test_accuracy\n",
    "\n",
    "    # outside the loop find probability function for acc_test_loss and acc_test_accuracy\n",
    "    acc_test_loss /= len(test_DataLoader)\n",
    "    acc_test_accuracy /= len(test_DataLoader)\n",
    "\n",
    "\n",
    "\n",
    "    # printing while inside the inference mode\n",
    "    print('Epoch: {} | Train Loss: {:.4f}, Train Accuracy: {:4f} | Test Loss: {:.4f} , Test Accuracy: {:.4f}'\\\n",
    "        .format(epoch,accumulated_train_loss,accumulated_train_accuracy,accumulated_test_loss,\\\n",
    "                accumulated_test_accuracy))\n",
    "\n",
    "end = time.perf_counter()\n",
    "print_time(start,end)"
   ]
  },
  {
   "cell_type": "markdown",
   "metadata": {
    "id": "e60K-nMIH8aP"
   },
   "source": [
    "# conclusion: linear and non-linear layers alone can't help to increase the accuracy of the model any further so, we need a better performer the Convolutional Neural Network(CNN)"
   ]
  },
  {
   "cell_type": "code",
   "execution_count": null,
   "metadata": {
    "id": "x-WusMpR7AOM"
   },
   "outputs": [],
   "source": []
  },
  {
   "cell_type": "markdown",
   "metadata": {
    "id": "iLNgoiOX7AQi"
   },
   "source": [
    "# day 221,day 223,day 225,day 228"
   ]
  },
  {
   "cell_type": "markdown",
   "metadata": {
    "id": "iqrNHItBH1q7"
   },
   "source": [
    "# First CNN"
   ]
  },
  {
   "cell_type": "code",
   "execution_count": 1,
   "metadata": {
    "colab": {
     "base_uri": "https://localhost:8080/"
    },
    "id": "JKbcmmIR_KLy",
    "outputId": "24adac9b-630b-4f50-fb14-167733130277"
   },
   "outputs": [
    {
     "name": "stdout",
     "output_type": "stream",
     "text": [
      "Collecting torchmetrics\n",
      "  Downloading torchmetrics-1.2.0-py3-none-any.whl (805 kB)\n",
      "\u001b[?25l     \u001b[90m━━━━━━━━━━━━━━━━━━━━━━━━━━━━━━━━━━━━━━━━\u001b[0m \u001b[32m0.0/805.2 kB\u001b[0m \u001b[31m?\u001b[0m eta \u001b[36m-:--:--\u001b[0m\r\u001b[2K     \u001b[91m━━━━━━━━━━\u001b[0m\u001b[90m╺\u001b[0m\u001b[90m━━━━━━━━━━━━━━━━━━━━━━━━━━━━━\u001b[0m \u001b[32m204.8/805.2 kB\u001b[0m \u001b[31m6.0 MB/s\u001b[0m eta \u001b[36m0:00:01\u001b[0m\r\u001b[2K     \u001b[90m━━━━━━━━━━━━━━━━━━━━━━━━━━━━━━━━━━━━━━━━\u001b[0m \u001b[32m805.2/805.2 kB\u001b[0m \u001b[31m12.5 MB/s\u001b[0m eta \u001b[36m0:00:00\u001b[0m\n",
      "\u001b[?25hRequirement already satisfied: numpy>1.20.0 in /usr/local/lib/python3.10/dist-packages (from torchmetrics) (1.23.5)\n",
      "Requirement already satisfied: torch>=1.8.1 in /usr/local/lib/python3.10/dist-packages (from torchmetrics) (2.1.0+cu118)\n",
      "Collecting lightning-utilities>=0.8.0 (from torchmetrics)\n",
      "  Downloading lightning_utilities-0.9.0-py3-none-any.whl (23 kB)\n",
      "Requirement already satisfied: packaging>=17.1 in /usr/local/lib/python3.10/dist-packages (from lightning-utilities>=0.8.0->torchmetrics) (23.2)\n",
      "Requirement already satisfied: typing-extensions in /usr/local/lib/python3.10/dist-packages (from lightning-utilities>=0.8.0->torchmetrics) (4.5.0)\n",
      "Requirement already satisfied: filelock in /usr/local/lib/python3.10/dist-packages (from torch>=1.8.1->torchmetrics) (3.12.4)\n",
      "Requirement already satisfied: sympy in /usr/local/lib/python3.10/dist-packages (from torch>=1.8.1->torchmetrics) (1.12)\n",
      "Requirement already satisfied: networkx in /usr/local/lib/python3.10/dist-packages (from torch>=1.8.1->torchmetrics) (3.2)\n",
      "Requirement already satisfied: jinja2 in /usr/local/lib/python3.10/dist-packages (from torch>=1.8.1->torchmetrics) (3.1.2)\n",
      "Requirement already satisfied: fsspec in /usr/local/lib/python3.10/dist-packages (from torch>=1.8.1->torchmetrics) (2023.6.0)\n",
      "Requirement already satisfied: triton==2.1.0 in /usr/local/lib/python3.10/dist-packages (from torch>=1.8.1->torchmetrics) (2.1.0)\n",
      "Requirement already satisfied: MarkupSafe>=2.0 in /usr/local/lib/python3.10/dist-packages (from jinja2->torch>=1.8.1->torchmetrics) (2.1.3)\n",
      "Requirement already satisfied: mpmath>=0.19 in /usr/local/lib/python3.10/dist-packages (from sympy->torch>=1.8.1->torchmetrics) (1.3.0)\n",
      "Installing collected packages: lightning-utilities, torchmetrics\n",
      "Successfully installed lightning-utilities-0.9.0 torchmetrics-1.2.0\n"
     ]
    }
   ],
   "source": [
    "!pip install torchmetrics"
   ]
  },
  {
   "cell_type": "code",
   "execution_count": 2,
   "metadata": {
    "id": "lo47W_ua7DcC"
   },
   "outputs": [],
   "source": [
    "import numpy as np\n",
    "import pandas as pd\n",
    "import torch\n",
    "import torchvision\n",
    "import matplotlib.pyplot as plt\n",
    "import zipfile\n",
    "import os\n",
    "import requests\n",
    "from pathlib import Path\n",
    "from torch.utils.data import DataLoader\n",
    "import time\n",
    "from tqdm.auto import tqdm\n",
    "import torchmetrics\n",
    "from torchmetrics import ConfusionMatrix\n",
    "from mlxtend.plotting import plot_confusion_matrix"
   ]
  },
  {
   "cell_type": "code",
   "execution_count": 3,
   "metadata": {
    "colab": {
     "base_uri": "https://localhost:8080/"
    },
    "id": "P7NByc9C7RwT",
    "outputId": "959c9899-0cdb-4282-abc2-90a83c2da74e"
   },
   "outputs": [
    {
     "name": "stdout",
     "output_type": "stream",
     "text": [
      "Downloading the helper functions\n"
     ]
    }
   ],
   "source": [
    "# helper functions\n",
    "\n",
    "if Path('helper_functions.py').is_file():\n",
    "  print('Already Downloaded')\n",
    "else:\n",
    "  print('Downloading the helper functions')\n",
    "  request = requests.get('https://raw.githubusercontent.com/mrdbourke/pytorch-deep-learning/main/helper_functions.py').content\n",
    "  with open('helper_functions.py','wb') as f:\n",
    "    f.write(request)\n",
    "\n"
   ]
  },
  {
   "cell_type": "code",
   "execution_count": 5,
   "metadata": {
    "colab": {
     "base_uri": "https://localhost:8080/"
    },
    "id": "lPd3HDiL7AT0",
    "outputId": "bdc3d9f0-7a37-475d-e638-6c4b4d38cfc2"
   },
   "outputs": [
    {
     "name": "stdout",
     "output_type": "stream",
     "text": [
      "Downloading http://fashion-mnist.s3-website.eu-central-1.amazonaws.com/train-images-idx3-ubyte.gz\n",
      "Downloading http://fashion-mnist.s3-website.eu-central-1.amazonaws.com/train-images-idx3-ubyte.gz to data/FashionMNIST/raw/train-images-idx3-ubyte.gz\n"
     ]
    },
    {
     "name": "stderr",
     "output_type": "stream",
     "text": [
      "100%|██████████| 26421880/26421880 [00:01<00:00, 17924204.79it/s]\n"
     ]
    },
    {
     "name": "stdout",
     "output_type": "stream",
     "text": [
      "Extracting data/FashionMNIST/raw/train-images-idx3-ubyte.gz to data/FashionMNIST/raw\n",
      "\n",
      "Downloading http://fashion-mnist.s3-website.eu-central-1.amazonaws.com/train-labels-idx1-ubyte.gz\n",
      "Downloading http://fashion-mnist.s3-website.eu-central-1.amazonaws.com/train-labels-idx1-ubyte.gz to data/FashionMNIST/raw/train-labels-idx1-ubyte.gz\n"
     ]
    },
    {
     "name": "stderr",
     "output_type": "stream",
     "text": [
      "100%|██████████| 29515/29515 [00:00<00:00, 266996.11it/s]\n"
     ]
    },
    {
     "name": "stdout",
     "output_type": "stream",
     "text": [
      "Extracting data/FashionMNIST/raw/train-labels-idx1-ubyte.gz to data/FashionMNIST/raw\n",
      "\n",
      "Downloading http://fashion-mnist.s3-website.eu-central-1.amazonaws.com/t10k-images-idx3-ubyte.gz\n",
      "Downloading http://fashion-mnist.s3-website.eu-central-1.amazonaws.com/t10k-images-idx3-ubyte.gz to data/FashionMNIST/raw/t10k-images-idx3-ubyte.gz\n"
     ]
    },
    {
     "name": "stderr",
     "output_type": "stream",
     "text": [
      "100%|██████████| 4422102/4422102 [00:00<00:00, 4907791.92it/s]\n"
     ]
    },
    {
     "name": "stdout",
     "output_type": "stream",
     "text": [
      "Extracting data/FashionMNIST/raw/t10k-images-idx3-ubyte.gz to data/FashionMNIST/raw\n",
      "\n",
      "Downloading http://fashion-mnist.s3-website.eu-central-1.amazonaws.com/t10k-labels-idx1-ubyte.gz\n",
      "Downloading http://fashion-mnist.s3-website.eu-central-1.amazonaws.com/t10k-labels-idx1-ubyte.gz to data/FashionMNIST/raw/t10k-labels-idx1-ubyte.gz\n"
     ]
    },
    {
     "name": "stderr",
     "output_type": "stream",
     "text": [
      "100%|██████████| 5148/5148 [00:00<00:00, 8093057.34it/s]"
     ]
    },
    {
     "name": "stdout",
     "output_type": "stream",
     "text": [
      "Extracting data/FashionMNIST/raw/t10k-labels-idx1-ubyte.gz to data/FashionMNIST/raw\n",
      "\n"
     ]
    },
    {
     "name": "stderr",
     "output_type": "stream",
     "text": [
      "\n"
     ]
    }
   ],
   "source": [
    "# getting the train and test data\n",
    "train_data = torchvision.datasets.FashionMNIST(root='data',\n",
    "                                                train=True,\n",
    "                                                transform=torchvision.transforms.ToTensor(),\n",
    "                                                download=True,\n",
    "                                                target_transform=None)\n",
    "\n",
    "test_data = torchvision.datasets.FashionMNIST(root='data',\n",
    "                                              train=False,\n",
    "                                              transform=torchvision.transforms.ToTensor(),\n",
    "                                              download=True,\n",
    "                                              target_transform=None)"
   ]
  },
  {
   "cell_type": "code",
   "execution_count": 6,
   "metadata": {
    "id": "7C7VPf-7HFQ-"
   },
   "outputs": [],
   "source": [
    "# batchifying the data\n",
    "\n",
    "train_dataloader = DataLoader(train_data,\n",
    "                              batch_size=32,\n",
    "                              shuffle=True) # setting the seed would get the model be trained and tested on same dataset\n",
    "                                            # shuffling changes it all.\n",
    "\n",
    "test_dataloader = DataLoader(test_data,\n",
    "                             batch_size=32,\n",
    "                             shuffle=False)"
   ]
  },
  {
   "cell_type": "code",
   "execution_count": 7,
   "metadata": {
    "id": "bo_A0OV2Hjt9"
   },
   "outputs": [],
   "source": [
    "# print total time taken for code to run\n",
    "def print_time(start,end):\n",
    "  total = end-start\n",
    "  return total"
   ]
  },
  {
   "cell_type": "markdown",
   "metadata": {
    "id": "4WqB7ZrNKIPm"
   },
   "source": [
    "# building the model\n",
    "\n",
    "**the thing to be mindful of is the i = color channels of the image(in our case it's going to be 1)**"
   ]
  },
  {
   "cell_type": "code",
   "execution_count": 8,
   "metadata": {
    "id": "bb4a3_o4HkN0"
   },
   "outputs": [],
   "source": [
    "# building our first convolutional neural network model\n",
    "class VisionModelCNN1(torch.nn.Module):\n",
    "  def __init__(self,i,o,h):\n",
    "    super().__init__()\n",
    "\n",
    "    self.conv_block1 = torch.nn.Sequential(\n",
    "        torch.nn.Conv2d(in_channels=i,\n",
    "                        out_channels=h,\n",
    "                        kernel_size=(3,3),\n",
    "                        stride=(1,1),\n",
    "                        padding=(1,1)),\n",
    "        torch.nn.ReLU(),\n",
    "        torch.nn.Conv2d(in_channels=h,\n",
    "                        out_channels=h,\n",
    "                        kernel_size=(3,3),\n",
    "                        stride=(1,1),\n",
    "                        padding=(1,1)),\n",
    "        torch.nn.ReLU(),\n",
    "        torch.nn.MaxPool2d(kernel_size=(2,2)))\n",
    "\n",
    "\n",
    "    self.conv_block2 = torch.nn.Sequential(\n",
    "        torch.nn.Conv2d(in_channels=h,\n",
    "                        out_channels=h,\n",
    "                        kernel_size=(3,3),\n",
    "                        stride=(1,1),\n",
    "                        padding=(1,1)),\n",
    "        torch.nn.ReLU(),\n",
    "        torch.nn.Conv2d(in_channels=h,\n",
    "                        out_channels=h,\n",
    "                        kernel_size=(3,3),\n",
    "                        stride=(1,1),\n",
    "                        padding=(1,1)),\n",
    "\n",
    "        torch.nn.ReLU(),\n",
    "        torch.nn.MaxPool2d(kernel_size=(2,2)))\n",
    "\n",
    "\n",
    "    self.classifier_block = torch.nn.Sequential(\n",
    "        torch.nn.Flatten(),\n",
    "        torch.nn.Linear(in_features=h*7*7,out_features=o)\n",
    "    )\n",
    "\n",
    "  def forward(self,x):\n",
    "    # we do this method because we want to print the shapes\n",
    "\n",
    "    # pass inputs to conv_block1 and store it in x\n",
    "    x = self.conv_block1(x)\n",
    "    # print('shape of the conv1 is:{}'.format(x.shape))\n",
    "\n",
    "    # pass the above result to conv_block2 and store it in x\n",
    "    x = self.conv_block2(x)\n",
    "    # print('shape of the conv2 is:{}'.format(x.shape))\n",
    "\n",
    "    # pass the above result to classifier_block and store it in x\n",
    "    x = self.classifier_block(x)\n",
    "    # print('shape of the classifier is:{}'.format(x.shape))\n",
    "\n",
    "    return x\n",
    "\n",
    "# i = color channels of the image, o = number of labels of the image, h = hidden layers.\n",
    "class_names = train_data.classes\n",
    "device = 'cuda' if torch.cuda.is_available() else 'cpu'\n",
    "model1 = VisionModelCNN1(i=1,o=len(class_names),h=10).to(device) # i=1 is color_channels of the image\n"
   ]
  },
  {
   "cell_type": "code",
   "execution_count": 9,
   "metadata": {
    "id": "cPKGqhK8f4S2"
   },
   "outputs": [],
   "source": [
    "# compiling the model1\n",
    "loss = torch.nn.CrossEntropyLoss()\n",
    "optimizer = torch.optim.SGD(params=model1.parameters(),\n",
    "                            lr=0.1)\n",
    "def accuracy(predictions,actuals):\n",
    "  correct = torch.eq(predictions,actuals).sum().item()\n",
    "  acc = correct/len(actuals)\n",
    "  return acc\n"
   ]
  },
  {
   "cell_type": "code",
   "execution_count": 10,
   "metadata": {
    "colab": {
     "base_uri": "https://localhost:8080/",
     "height": 118,
     "referenced_widgets": [
      "f07c7336a4da48a5962b4dc35d638319",
      "3882a5671b7b4d02b5f7b65a757f6885",
      "ebd120fe68be4124a7810160b8e629fc",
      "de654d34959d49c995e9e3cbae7fae57",
      "f284f5768bd9427fbd206be9f568dbf9",
      "02811464e9704e86ae75f935690f4551",
      "2d6799c8d35f46869585b129a8261175",
      "7a89d77efbea43dc9af415d9e7172417",
      "bf9efe2f4f394e3ba05531ff86e5e413",
      "8e0bb62ebd4b497c99087d63cec0c90f",
      "6ff62357ba984a8ab4ac6498efbf2efb"
     ]
    },
    "id": "baP_7sW0hEAa",
    "outputId": "954c09c9-3f81-4ac5-cdcd-2dd305d414d3"
   },
   "outputs": [
    {
     "data": {
      "application/vnd.jupyter.widget-view+json": {
       "model_id": "f07c7336a4da48a5962b4dc35d638319",
       "version_major": 2,
       "version_minor": 0
      },
      "text/plain": [
       "  0%|          | 0/3 [00:00<?, ?it/s]"
      ]
     },
     "metadata": {},
     "output_type": "display_data"
    },
    {
     "name": "stdout",
     "output_type": "stream",
     "text": [
      "Epoch:0 | Train Loss: 0.6237 , Train Accuracy: 0.7735 | Test Loss: 0.3988, Test Accuracy: 0.8635\n",
      "Epoch:1 | Train Loss: 0.3650 , Train Accuracy: 0.8684 | Test Loss: 0.3619, Test Accuracy: 0.8692\n",
      "Epoch:2 | Train Loss: 0.3312 , Train Accuracy: 0.8802 | Test Loss: 0.3315, Test Accuracy: 0.8799\n"
     ]
    },
    {
     "data": {
      "text/plain": [
       "106.3116143069999"
      ]
     },
     "execution_count": 10,
     "metadata": {},
     "output_type": "execute_result"
    }
   ],
   "source": [
    "# fitting the model1\n",
    "\n",
    "# setting manual seeds\n",
    "torch.manual_seed(42)\n",
    "torch.cuda.manual_seed(42)\n",
    "\n",
    "epochs = 3\n",
    "start = time.perf_counter()\n",
    "\n",
    "for epoch in tqdm(range(epochs)):\n",
    "\n",
    "  a_train_loss,a_train_acc,a_test_loss,a_test_acc = 0,0,0,0\n",
    "\n",
    "  # train the model\n",
    "  model1.train()\n",
    "\n",
    "  # training the model batch by batch\n",
    "  for batch, (x_train,y_train) in enumerate(train_dataloader):\n",
    "\n",
    "    # moving the x_train and y_train to the apt device\n",
    "    x_train,y_train = x_train.to(device),y_train.to(device)\n",
    "\n",
    "    # train_loss and train_accuracy\n",
    "    train_logits = model1(x_train) # it gives out a matrix of size 1x10\n",
    "    train_predictions = train_logits.argmax(dim=1) # find the maximum in first dimension\n",
    "    train_actuals = y_train\n",
    "    train_loss = loss(train_logits,train_actuals)\n",
    "    train_accuracy = accuracy(train_predictions,train_actuals)\n",
    "    a_train_loss += train_loss\n",
    "    a_train_acc  += train_accuracy\n",
    "\n",
    "    # set the optimizer to zero grad at every iteration\n",
    "    optimizer.zero_grad()\n",
    "\n",
    "    # backpropogate only the trian_loss not accumulated train loss\n",
    "    train_loss.backward()\n",
    "\n",
    "    # step the optimizer up a notch\n",
    "    optimizer.step()\n",
    "\n",
    "  # normalize the a_train_loss and a_train_acc\n",
    "  a_train_loss /= len(train_dataloader)\n",
    "  a_train_acc /= len(train_dataloader)\n",
    "\n",
    "  # testing the model\n",
    "  model1.eval()\n",
    "\n",
    "  # put the inference mode on top of the epochs\n",
    "  with torch.inference_mode():\n",
    "    for batch, (x_test,y_test) in enumerate(test_dataloader):\n",
    "\n",
    "      # moving the x_test and y_test to the apt device\n",
    "      x_test,y_test = x_test.to(device),y_test.to(device)\n",
    "\n",
    "      # getting test_loss and test_accuracy\n",
    "      test_logits = model1(x_test)\n",
    "      test_predictions = test_logits.argmax(dim=1)\n",
    "      test_actuals = y_test\n",
    "      test_loss = loss(test_logits,test_actuals)\n",
    "      test_accuracy = accuracy(test_predictions,test_actuals)\n",
    "      a_test_loss += test_loss\n",
    "      a_test_acc  += test_accuracy\n",
    "\n",
    "    # normalizing the a_test_acc and a_test_loss\n",
    "    a_test_loss /= len(test_dataloader)\n",
    "    a_test_acc /= len(test_dataloader)\n",
    "\n",
    "    # printing the results\n",
    "    print('Epoch:{} | Train Loss: {:.4f} , Train Accuracy: {:.4f} | Test Loss: {:.4f}, Test Accuracy: {:.4f}'\\\n",
    "          .format(epoch,a_train_loss,a_train_acc,a_test_loss,a_test_acc))\n",
    "\n",
    "\n",
    "end = time.perf_counter()\n",
    "print_time(start,end)\n"
   ]
  },
  {
   "cell_type": "markdown",
   "metadata": {
    "id": "-qPoDfXP6FZA"
   },
   "source": [
    "# conclusion:\n",
    "\n",
    "# explanation for getting poor results with low accuracy despite following the instructor:\n",
    "setting the random seed helped in achieving consistent results, leading to a well-performing model. Without the seed, the randomness might have resulted in poor weight initialization, inconsistent data shuffling, and unstable optimization, leading to a poorly performing model. Setting a random seed ensures stability and reproducibility, making it an essential practice in the field of machine learning and deep learning.\n",
    "\n",
    "# takeaway:\n",
    "* when the weights are randomly initialized, it is better to have `deterministic randomness` such as those we get from setting the random seed(torch.manual_seed(42)), this keeps our model be initialized with random but determined weights, trained with random but determined datasets, tested with random but determined datasets which escalates our chance of seeing a accurate model.\n",
    "* but when weights of our model are the weights of the other model which are trained in similar datasets(transfer learing), then setting the random seed might not be much useful atleast not as much as when everything was random."
   ]
  },
  {
   "cell_type": "code",
   "execution_count": null,
   "metadata": {
    "id": "q17__sXs_a8O"
   },
   "outputs": [],
   "source": []
  },
  {
   "cell_type": "markdown",
   "metadata": {
    "id": "i5SksGT4rbC4"
   },
   "source": [
    "# making predictions with random test samples\n",
    "\n",
    "# pseudo code:\n",
    "1. take the test_data\n",
    "2. randomly select some images.\n",
    "3. make predictions with those images.\n",
    "4. see if the prediction label matches the actual label."
   ]
  },
  {
   "cell_type": "code",
   "execution_count": 11,
   "metadata": {
    "colab": {
     "base_uri": "https://localhost:8080/",
     "height": 1000
    },
    "id": "TQqqVFPjAEfg",
    "outputId": "8fed36e3-6193-4f06-9308-f3099d3814e0"
   },
   "outputs": [
    {
     "data": {
      "image/png": "[encoded data removed]",
      "text/plain": [
       "<Figure size 2700x3000 with 16 Axes>"
      ]
     },
     "metadata": {},
     "output_type": "display_data"
    }
   ],
   "source": [
    "# make predictions with random images\n",
    "\n",
    "# number of images to see\n",
    "n_images = 16\n",
    "\n",
    "# figsize\n",
    "plt.figure(figsize=(18,20),dpi=150)\n",
    "model1.eval()\n",
    "with torch.inference_mode():\n",
    "  for i in range(n_images):\n",
    "    random_index = np.random.randint(0,len(test_data),1)\n",
    "    image,actual_label = test_data[int(random_index)]\n",
    "\n",
    "    # before passing the image to the model give it the batch dimension\n",
    "    image = image.unsqueeze(dim=0).to(device)\n",
    "    logit = model1(image)\n",
    "    pred = logit.argmax(dim=1)\n",
    "    probability = torch.max(torch.softmax(logit,dim=1))*100\n",
    "    pred_class = class_names[pred]\n",
    "    actual_class = class_names[actual_label]\n",
    "\n",
    "    # showing the images\n",
    "    plt.subplot(4,4,i+1)\n",
    "    plt.imshow(image.squeeze().cpu())\n",
    "\n",
    "\n",
    "    if pred_class == actual_class:\n",
    "      title_color = 'g'\n",
    "    else:\n",
    "      title_color = 'r'\n",
    "\n",
    "    plt.title('prediction:{} | actual:{}'.format(pred_class,actual_class,),color=title_color)\n",
    "    plt.xlabel('prob: {:.2f}'.format(probability))\n",
    "    plt.xticks([])\n",
    "    plt.yticks([])\n",
    "\n",
    "\n",
    "  plt.show()"
   ]
  },
  {
   "cell_type": "code",
   "execution_count": null,
   "metadata": {
    "id": "nq19zFJsAFNg"
   },
   "outputs": [],
   "source": []
  },
  {
   "cell_type": "markdown",
   "metadata": {
    "id": "PQhWu7GLHkQi"
   },
   "source": [
    "# exploration,analysis and freethrows:"
   ]
  },
  {
   "cell_type": "code",
   "execution_count": null,
   "metadata": {
    "colab": {
     "base_uri": "https://localhost:8080/"
    },
    "id": "1X_IHFIbv6gT",
    "outputId": "3c25cf44-1c2e-4e9b-e93b-95c4d0680660"
   },
   "outputs": [
    {
     "data": {
      "text/plain": [
       "(tensor([[ 1.8677, -0.6955,  5.6828, -0.9220,  6.8428, -6.3540,  5.4005, -7.6989,\n",
       "          -1.0319, -4.1475]], device='cuda:0'),\n",
       " tensor([4], device='cuda:0'))"
      ]
     },
     "execution_count": 71,
     "metadata": {},
     "output_type": "execute_result"
    }
   ],
   "source": [
    "logit,pred"
   ]
  },
  {
   "cell_type": "code",
   "execution_count": null,
   "metadata": {
    "colab": {
     "base_uri": "https://localhost:8080/"
    },
    "id": "p0n_9ANEwOmr",
    "outputId": "20120bdc-c096-4c10-93ec-60432065fb8e"
   },
   "outputs": [
    {
     "data": {
      "text/plain": [
       "tensor([[4.4337e-03, 3.4165e-04, 2.0120e-01, 2.7239e-04, 6.4179e-01, 1.1916e-06,\n",
       "         1.5171e-01, 3.1047e-07, 2.4403e-04, 1.0823e-05]], device='cuda:0')"
      ]
     },
     "execution_count": 73,
     "metadata": {},
     "output_type": "execute_result"
    }
   ],
   "source": [
    "torch.softmax(logit,dim=1)"
   ]
  },
  {
   "cell_type": "code",
   "execution_count": null,
   "metadata": {
    "colab": {
     "base_uri": "https://localhost:8080/"
    },
    "id": "z6rCOvm5waYp",
    "outputId": "dcfe41ec-05a0-433d-e172-6bb3d01b7dd5"
   },
   "outputs": [
    {
     "data": {
      "text/plain": [
       "tensor([4], device='cuda:0')"
      ]
     },
     "execution_count": 74,
     "metadata": {},
     "output_type": "execute_result"
    }
   ],
   "source": [
    "torch.softmax(logit,dim=1).argmax(dim=1) # which is as same as pred"
   ]
  },
  {
   "cell_type": "code",
   "execution_count": null,
   "metadata": {
    "colab": {
     "base_uri": "https://localhost:8080/"
    },
    "id": "htV1k3tnxoCy",
    "outputId": "2037094c-0fc6-4ec8-8cc6-d84f440dfe6d"
   },
   "outputs": [
    {
     "data": {
      "text/plain": [
       "tensor(0.6418, device='cuda:0')"
      ]
     },
     "execution_count": 76,
     "metadata": {},
     "output_type": "execute_result"
    }
   ],
   "source": [
    "torch.max(torch.softmax(logit,dim=1))"
   ]
  },
  {
   "cell_type": "code",
   "execution_count": null,
   "metadata": {
    "colab": {
     "base_uri": "https://localhost:8080/"
    },
    "id": "-du_rX0RkHb6",
    "outputId": "8d5cdb58-8879-47ef-dd3f-1657d3afb8b1"
   },
   "outputs": [
    {
     "data": {
      "text/plain": [
       "['T-shirt/top',\n",
       " 'Trouser',\n",
       " 'Pullover',\n",
       " 'Dress',\n",
       " 'Coat',\n",
       " 'Sandal',\n",
       " 'Shirt',\n",
       " 'Sneaker',\n",
       " 'Bag',\n",
       " 'Ankle boot']"
      ]
     },
     "execution_count": 44,
     "metadata": {},
     "output_type": "execute_result"
    }
   ],
   "source": [
    "class_names"
   ]
  },
  {
   "cell_type": "code",
   "execution_count": null,
   "metadata": {
    "colab": {
     "base_uri": "https://localhost:8080/"
    },
    "id": "-6Tef5HPiO37",
    "outputId": "b0919be0-eeb9-407a-d8fa-4a43eeb25ef3"
   },
   "outputs": [
    {
     "data": {
      "text/plain": [
       "torch.Size([1, 28, 28])"
      ]
     },
     "execution_count": 49,
     "metadata": {},
     "output_type": "execute_result"
    }
   ],
   "source": [
    "image,label = test_data[0]\n",
    "\n",
    "image.shape"
   ]
  },
  {
   "cell_type": "code",
   "execution_count": null,
   "metadata": {
    "colab": {
     "base_uri": "https://localhost:8080/"
    },
    "id": "Zby2h34onJfi",
    "outputId": "ecefc48e-2421-4a1e-eedc-5a720568d5f2"
   },
   "outputs": [
    {
     "data": {
      "text/plain": [
       "torch.Size([1, 28, 28])"
      ]
     },
     "execution_count": 51,
     "metadata": {},
     "output_type": "execute_result"
    }
   ],
   "source": [
    "torchvision.transforms.Resize(())(image).shape"
   ]
  },
  {
   "cell_type": "code",
   "execution_count": null,
   "metadata": {
    "colab": {
     "base_uri": "https://localhost:8080/"
    },
    "id": "i_6q-ztAjKec",
    "outputId": "c645b41f-0d41-40c5-a06d-39af37f896c0"
   },
   "outputs": [
    {
     "data": {
      "text/plain": [
       "10000"
      ]
     },
     "execution_count": 38,
     "metadata": {},
     "output_type": "execute_result"
    }
   ],
   "source": [
    "len(test_data)"
   ]
  },
  {
   "cell_type": "code",
   "execution_count": null,
   "metadata": {
    "colab": {
     "base_uri": "https://localhost:8080/"
    },
    "id": "gaAPDPhni8sl",
    "outputId": "5b1d4581-cdf0-4183-c1f1-f1e5dbac474a"
   },
   "outputs": [
    {
     "data": {
      "text/plain": [
       "torch.Size([1, 28, 28])"
      ]
     },
     "execution_count": 43,
     "metadata": {},
     "output_type": "execute_result"
    }
   ],
   "source": [
    "random_index = np.random.randint(0,len(test_data),size=[1])\n",
    "\n",
    "image,label = test_data[int(random_index)]\n",
    "image.shape"
   ]
  },
  {
   "cell_type": "code",
   "execution_count": null,
   "metadata": {
    "colab": {
     "base_uri": "https://localhost:8080/",
     "height": 447
    },
    "id": "GoDDGiDSkard",
    "outputId": "087f0e31-bfb4-44d9-8f13-28e41ed2f97a"
   },
   "outputs": [
    {
     "data": {
      "text/plain": [
       "<matplotlib.image.AxesImage at 0x7fed7d739c60>"
      ]
     },
     "execution_count": 46,
     "metadata": {},
     "output_type": "execute_result"
    },
    {
     "data": {
      "image/png": "[encoded data removed]",
      "text/plain": [
       "<Figure size 640x480 with 1 Axes>"
      ]
     },
     "metadata": {},
     "output_type": "display_data"
    }
   ],
   "source": [
    "plt.imshow(image.squeeze())"
   ]
  },
  {
   "cell_type": "code",
   "execution_count": null,
   "metadata": {
    "colab": {
     "base_uri": "https://localhost:8080/"
    },
    "id": "6sF8beEkiz2T",
    "outputId": "1357d2eb-b3d0-4f9b-f947-e641347f7106"
   },
   "outputs": [
    {
     "data": {
      "text/plain": [
       "1875"
      ]
     },
     "execution_count": 67,
     "metadata": {},
     "output_type": "execute_result"
    }
   ],
   "source": [
    "len(train_dataloader)"
   ]
  },
  {
   "cell_type": "code",
   "execution_count": null,
   "metadata": {
    "colab": {
     "base_uri": "https://localhost:8080/"
    },
    "id": "mFYly9G2aJUO",
    "outputId": "f16184f1-01d3-4288-ecf6-22b137bac419"
   },
   "outputs": [
    {
     "name": "stdout",
     "output_type": "stream",
     "text": [
      "shape of the conv1 is:torch.Size([1, 10, 14, 14])\n",
      "shape of the conv2 is:torch.Size([1, 10, 7, 7])\n",
      "shape of the classifier is:torch.Size([1, 10])\n"
     ]
    },
    {
     "data": {
      "text/plain": [
       "torch.Size([1, 10])"
      ]
     },
     "execution_count": 58,
     "metadata": {},
     "output_type": "execute_result"
    }
   ],
   "source": [
    "model1(test_data[0][0].unsqueeze(dim=0)).shape"
   ]
  },
  {
   "cell_type": "code",
   "execution_count": null,
   "metadata": {
    "colab": {
     "base_uri": "https://localhost:8080/"
    },
    "id": "dOsxP_1uN0tx",
    "outputId": "d27964d1-5246-43a4-90dc-73bc6d56a7fb"
   },
   "outputs": [
    {
     "data": {
      "text/plain": [
       "['T-shirt/top',\n",
       " 'Trouser',\n",
       " 'Pullover',\n",
       " 'Dress',\n",
       " 'Coat',\n",
       " 'Sandal',\n",
       " 'Shirt',\n",
       " 'Sneaker',\n",
       " 'Bag',\n",
       " 'Ankle boot']"
      ]
     },
     "execution_count": 20,
     "metadata": {},
     "output_type": "execute_result"
    }
   ],
   "source": [
    "train_data.classes"
   ]
  },
  {
   "cell_type": "code",
   "execution_count": null,
   "metadata": {
    "colab": {
     "base_uri": "https://localhost:8080/"
    },
    "id": "bfF38s0kOI8t",
    "outputId": "01a7a0f4-5f66-481f-a960-ee6a3657ae53"
   },
   "outputs": [
    {
     "data": {
      "text/plain": [
       "torch.Size([1, 28, 28])"
      ]
     },
     "execution_count": 13,
     "metadata": {},
     "output_type": "execute_result"
    }
   ],
   "source": [
    "train_data[0][0].shape\n",
    "\n",
    "# 1 is the color channel of these images because they are black and white."
   ]
  },
  {
   "cell_type": "code",
   "execution_count": null,
   "metadata": {
    "colab": {
     "base_uri": "https://localhost:8080/"
    },
    "id": "34rQ-tHaUvg-",
    "outputId": "248e3652-ce64-46e9-d19c-bfcd2a546d6a"
   },
   "outputs": [
    {
     "name": "stdout",
     "output_type": "stream",
     "text": [
      "shape of original image: torch.Size([32, 3, 64, 64])\n",
      "shape of convoluted image: torch.Size([32, 10, 64, 64])\n",
      "shape of the convoluted image in maxpool2d: torch.Size([32, 10, 32, 32])\n"
     ]
    }
   ],
   "source": [
    "# just for testing how the shape of the image changes after being through the conv layer\n",
    "\n",
    "img = torch.randint(0,255,size=(32,3,64,64))\n",
    "\n",
    "convoluted_layer = torch.nn.Conv2d(in_channels=3,\n",
    "                                   out_channels=10,\n",
    "                                   kernel_size=(3,3),\n",
    "                                   stride=(1,1),\n",
    "                                   padding=1) # padding preserves the shape of input data.\n",
    "\n",
    "# normalizing the image while we supply it inside the convoluted_layer\n",
    "convoluted_image = convoluted_layer((img/255))\n",
    "\n",
    "\n",
    "# testing how the shape of the image changes after being through the maxpool2d layer\n",
    "maxpool2d_layer = torch.nn.MaxPool2d(kernel_size=(2,2))\n",
    "\n",
    "# print the shapes of the original image and convoluted image\n",
    "print('shape of original image: {}'.format(img.shape))\n",
    "print('shape of convoluted image: {}'.format(convoluted_image.shape))\n",
    "print('shape of the convoluted image in maxpool2d: {}'.format(maxpool2d_layer(convoluted_layer(img/255)).shape))"
   ]
  },
  {
   "cell_type": "code",
   "execution_count": null,
   "metadata": {
    "colab": {
     "base_uri": "https://localhost:8080/"
    },
    "id": "5XRSJqywVDtm",
    "outputId": "b5b47052-1339-42ca-f7fc-6e58f8cc9e3d"
   },
   "outputs": [
    {
     "data": {
      "text/plain": [
       "torch.Size([1, 32, 3, 64, 64])"
      ]
     },
     "execution_count": 28,
     "metadata": {},
     "output_type": "execute_result"
    }
   ],
   "source": [
    "image.unsqueeze(0).shape"
   ]
  },
  {
   "cell_type": "code",
   "execution_count": null,
   "metadata": {
    "colab": {
     "base_uri": "https://localhost:8080/"
    },
    "id": "iqZvDEd9bJQX",
    "outputId": "92b73ac7-5637-4501-a163-a5ce7a377136"
   },
   "outputs": [
    {
     "data": {
      "text/plain": [
       "16.0"
      ]
     },
     "execution_count": 37,
     "metadata": {},
     "output_type": "execute_result"
    }
   ],
   "source": [
    "64/4"
   ]
  },
  {
   "cell_type": "code",
   "execution_count": null,
   "metadata": {
    "colab": {
     "base_uri": "https://localhost:8080/"
    },
    "id": "0pmQdb-jP78c",
    "outputId": "74219b2e-ed97-459f-fd3f-cb3e92d98266"
   },
   "outputs": [
    {
     "data": {
      "text/plain": [
       "torch.Size([1, 28, 28])"
      ]
     },
     "execution_count": 15,
     "metadata": {},
     "output_type": "execute_result"
    }
   ],
   "source": [
    "test_data[0][0].shape"
   ]
  },
  {
   "cell_type": "code",
   "execution_count": null,
   "metadata": {
    "colab": {
     "base_uri": "https://localhost:8080/",
     "height": 430
    },
    "id": "rmX2cBgVOvHb",
    "outputId": "9768d8c2-74b3-4ec8-f741-c215b0359dbe"
   },
   "outputs": [
    {
     "data": {
      "image/png": "[encoded data removed]",
      "text/plain": [
       "<Figure size 640x480 with 1 Axes>"
      ]
     },
     "metadata": {},
     "output_type": "display_data"
    }
   ],
   "source": [
    "plt.imshow(test_data[0][0].squeeze(dim=0))\n",
    "plt.show()"
   ]
  },
  {
   "cell_type": "code",
   "execution_count": null,
   "metadata": {
    "id": "br7Yef-wP4ns"
   },
   "outputs": [],
   "source": []
  },
  {
   "cell_type": "code",
   "execution_count": null,
   "metadata": {
    "colab": {
     "base_uri": "https://localhost:8080/",
     "height": 322
    },
    "id": "H7H2nG9FPlxl",
    "outputId": "e688887b-15f0-441a-e331-b6a77e1ce9e3"
   },
   "outputs": [
    {
     "ename": "RuntimeError",
     "evalue": "ignored",
     "output_type": "error",
     "traceback": [
      "\u001b[0;31m---------------------------------------------------------------------------\u001b[0m",
      "\u001b[0;31mRuntimeError\u001b[0m                              Traceback (most recent call last)",
      "\u001b[0;32m<ipython-input-33-40509ede7dc8>\u001b[0m in \u001b[0;36m<cell line: 1>\u001b[0;34m()\u001b[0m\n\u001b[0;32m----> 1\u001b[0;31m \u001b[0mmodel1\u001b[0m\u001b[0;34m(\u001b[0m\u001b[0mtest_data\u001b[0m\u001b[0;34m[\u001b[0m\u001b[0;36m0\u001b[0m\u001b[0;34m]\u001b[0m\u001b[0;34m[\u001b[0m\u001b[0;36m0\u001b[0m\u001b[0;34m]\u001b[0m\u001b[0;34m)\u001b[0m\u001b[0;34m\u001b[0m\u001b[0;34m\u001b[0m\u001b[0m\n\u001b[0m",
      "\u001b[0;32m/usr/local/lib/python3.10/dist-packages/torch/nn/modules/module.py\u001b[0m in \u001b[0;36m_wrapped_call_impl\u001b[0;34m(self, *args, **kwargs)\u001b[0m\n\u001b[1;32m   1516\u001b[0m             \u001b[0;32mreturn\u001b[0m \u001b[0mself\u001b[0m\u001b[0;34m.\u001b[0m\u001b[0m_compiled_call_impl\u001b[0m\u001b[0;34m(\u001b[0m\u001b[0;34m*\u001b[0m\u001b[0margs\u001b[0m\u001b[0;34m,\u001b[0m \u001b[0;34m**\u001b[0m\u001b[0mkwargs\u001b[0m\u001b[0;34m)\u001b[0m  \u001b[0;31m# type: ignore[misc]\u001b[0m\u001b[0;34m\u001b[0m\u001b[0;34m\u001b[0m\u001b[0m\n\u001b[1;32m   1517\u001b[0m         \u001b[0;32melse\u001b[0m\u001b[0;34m:\u001b[0m\u001b[0;34m\u001b[0m\u001b[0;34m\u001b[0m\u001b[0m\n\u001b[0;32m-> 1518\u001b[0;31m             \u001b[0;32mreturn\u001b[0m \u001b[0mself\u001b[0m\u001b[0;34m.\u001b[0m\u001b[0m_call_impl\u001b[0m\u001b[0;34m(\u001b[0m\u001b[0;34m*\u001b[0m\u001b[0margs\u001b[0m\u001b[0;34m,\u001b[0m \u001b[0;34m**\u001b[0m\u001b[0mkwargs\u001b[0m\u001b[0;34m)\u001b[0m\u001b[0;34m\u001b[0m\u001b[0;34m\u001b[0m\u001b[0m\n\u001b[0m\u001b[1;32m   1519\u001b[0m \u001b[0;34m\u001b[0m\u001b[0m\n\u001b[1;32m   1520\u001b[0m     \u001b[0;32mdef\u001b[0m \u001b[0m_call_impl\u001b[0m\u001b[0;34m(\u001b[0m\u001b[0mself\u001b[0m\u001b[0;34m,\u001b[0m \u001b[0;34m*\u001b[0m\u001b[0margs\u001b[0m\u001b[0;34m,\u001b[0m \u001b[0;34m**\u001b[0m\u001b[0mkwargs\u001b[0m\u001b[0;34m)\u001b[0m\u001b[0;34m:\u001b[0m\u001b[0;34m\u001b[0m\u001b[0;34m\u001b[0m\u001b[0m\n",
      "\u001b[0;32m/usr/local/lib/python3.10/dist-packages/torch/nn/modules/module.py\u001b[0m in \u001b[0;36m_call_impl\u001b[0;34m(self, *args, **kwargs)\u001b[0m\n\u001b[1;32m   1525\u001b[0m                 \u001b[0;32mor\u001b[0m \u001b[0m_global_backward_pre_hooks\u001b[0m \u001b[0;32mor\u001b[0m \u001b[0m_global_backward_hooks\u001b[0m\u001b[0;34m\u001b[0m\u001b[0;34m\u001b[0m\u001b[0m\n\u001b[1;32m   1526\u001b[0m                 or _global_forward_hooks or _global_forward_pre_hooks):\n\u001b[0;32m-> 1527\u001b[0;31m             \u001b[0;32mreturn\u001b[0m \u001b[0mforward_call\u001b[0m\u001b[0;34m(\u001b[0m\u001b[0;34m*\u001b[0m\u001b[0margs\u001b[0m\u001b[0;34m,\u001b[0m \u001b[0;34m**\u001b[0m\u001b[0mkwargs\u001b[0m\u001b[0;34m)\u001b[0m\u001b[0;34m\u001b[0m\u001b[0;34m\u001b[0m\u001b[0m\n\u001b[0m\u001b[1;32m   1528\u001b[0m \u001b[0;34m\u001b[0m\u001b[0m\n\u001b[1;32m   1529\u001b[0m         \u001b[0;32mtry\u001b[0m\u001b[0;34m:\u001b[0m\u001b[0;34m\u001b[0m\u001b[0;34m\u001b[0m\u001b[0m\n",
      "\u001b[0;32m<ipython-input-32-d5d61a0700db>\u001b[0m in \u001b[0;36mforward\u001b[0;34m(self, x)\u001b[0m\n\u001b[1;32m     43\u001b[0m \u001b[0;34m\u001b[0m\u001b[0m\n\u001b[1;32m     44\u001b[0m   \u001b[0;32mdef\u001b[0m \u001b[0mforward\u001b[0m\u001b[0;34m(\u001b[0m\u001b[0mself\u001b[0m\u001b[0;34m,\u001b[0m\u001b[0mx\u001b[0m\u001b[0;34m)\u001b[0m\u001b[0;34m:\u001b[0m\u001b[0;34m\u001b[0m\u001b[0;34m\u001b[0m\u001b[0m\n\u001b[0;32m---> 45\u001b[0;31m     \u001b[0;32mreturn\u001b[0m \u001b[0mself\u001b[0m\u001b[0;34m.\u001b[0m\u001b[0mclassifier_block\u001b[0m\u001b[0;34m(\u001b[0m\u001b[0mself\u001b[0m\u001b[0;34m.\u001b[0m\u001b[0mconv_block2\u001b[0m\u001b[0;34m(\u001b[0m\u001b[0mself\u001b[0m\u001b[0;34m.\u001b[0m\u001b[0mconv_block1\u001b[0m\u001b[0;34m(\u001b[0m\u001b[0mx\u001b[0m\u001b[0;34m)\u001b[0m\u001b[0;34m)\u001b[0m\u001b[0;34m)\u001b[0m\u001b[0;34m\u001b[0m\u001b[0;34m\u001b[0m\u001b[0m\n\u001b[0m\u001b[1;32m     46\u001b[0m \u001b[0;34m\u001b[0m\u001b[0m\n\u001b[1;32m     47\u001b[0m \u001b[0;31m# i = color channels of the image, o = number of labels of the image, h = hidden layers.\u001b[0m\u001b[0;34m\u001b[0m\u001b[0;34m\u001b[0m\u001b[0m\n",
      "\u001b[0;32m/usr/local/lib/python3.10/dist-packages/torch/nn/modules/module.py\u001b[0m in \u001b[0;36m_wrapped_call_impl\u001b[0;34m(self, *args, **kwargs)\u001b[0m\n\u001b[1;32m   1516\u001b[0m             \u001b[0;32mreturn\u001b[0m \u001b[0mself\u001b[0m\u001b[0;34m.\u001b[0m\u001b[0m_compiled_call_impl\u001b[0m\u001b[0;34m(\u001b[0m\u001b[0;34m*\u001b[0m\u001b[0margs\u001b[0m\u001b[0;34m,\u001b[0m \u001b[0;34m**\u001b[0m\u001b[0mkwargs\u001b[0m\u001b[0;34m)\u001b[0m  \u001b[0;31m# type: ignore[misc]\u001b[0m\u001b[0;34m\u001b[0m\u001b[0;34m\u001b[0m\u001b[0m\n\u001b[1;32m   1517\u001b[0m         \u001b[0;32melse\u001b[0m\u001b[0;34m:\u001b[0m\u001b[0;34m\u001b[0m\u001b[0;34m\u001b[0m\u001b[0m\n\u001b[0;32m-> 1518\u001b[0;31m             \u001b[0;32mreturn\u001b[0m \u001b[0mself\u001b[0m\u001b[0;34m.\u001b[0m\u001b[0m_call_impl\u001b[0m\u001b[0;34m(\u001b[0m\u001b[0;34m*\u001b[0m\u001b[0margs\u001b[0m\u001b[0;34m,\u001b[0m \u001b[0;34m**\u001b[0m\u001b[0mkwargs\u001b[0m\u001b[0;34m)\u001b[0m\u001b[0;34m\u001b[0m\u001b[0;34m\u001b[0m\u001b[0m\n\u001b[0m\u001b[1;32m   1519\u001b[0m \u001b[0;34m\u001b[0m\u001b[0m\n\u001b[1;32m   1520\u001b[0m     \u001b[0;32mdef\u001b[0m \u001b[0m_call_impl\u001b[0m\u001b[0;34m(\u001b[0m\u001b[0mself\u001b[0m\u001b[0;34m,\u001b[0m \u001b[0;34m*\u001b[0m\u001b[0margs\u001b[0m\u001b[0;34m,\u001b[0m \u001b[0;34m**\u001b[0m\u001b[0mkwargs\u001b[0m\u001b[0;34m)\u001b[0m\u001b[0;34m:\u001b[0m\u001b[0;34m\u001b[0m\u001b[0;34m\u001b[0m\u001b[0m\n",
      "\u001b[0;32m/usr/local/lib/python3.10/dist-packages/torch/nn/modules/module.py\u001b[0m in \u001b[0;36m_call_impl\u001b[0;34m(self, *args, **kwargs)\u001b[0m\n\u001b[1;32m   1525\u001b[0m                 \u001b[0;32mor\u001b[0m \u001b[0m_global_backward_pre_hooks\u001b[0m \u001b[0;32mor\u001b[0m \u001b[0m_global_backward_hooks\u001b[0m\u001b[0;34m\u001b[0m\u001b[0;34m\u001b[0m\u001b[0m\n\u001b[1;32m   1526\u001b[0m                 or _global_forward_hooks or _global_forward_pre_hooks):\n\u001b[0;32m-> 1527\u001b[0;31m             \u001b[0;32mreturn\u001b[0m \u001b[0mforward_call\u001b[0m\u001b[0;34m(\u001b[0m\u001b[0;34m*\u001b[0m\u001b[0margs\u001b[0m\u001b[0;34m,\u001b[0m \u001b[0;34m**\u001b[0m\u001b[0mkwargs\u001b[0m\u001b[0;34m)\u001b[0m\u001b[0;34m\u001b[0m\u001b[0;34m\u001b[0m\u001b[0m\n\u001b[0m\u001b[1;32m   1528\u001b[0m \u001b[0;34m\u001b[0m\u001b[0m\n\u001b[1;32m   1529\u001b[0m         \u001b[0;32mtry\u001b[0m\u001b[0;34m:\u001b[0m\u001b[0;34m\u001b[0m\u001b[0;34m\u001b[0m\u001b[0m\n",
      "\u001b[0;32m/usr/local/lib/python3.10/dist-packages/torch/nn/modules/container.py\u001b[0m in \u001b[0;36mforward\u001b[0;34m(self, input)\u001b[0m\n\u001b[1;32m    213\u001b[0m     \u001b[0;32mdef\u001b[0m \u001b[0mforward\u001b[0m\u001b[0;34m(\u001b[0m\u001b[0mself\u001b[0m\u001b[0;34m,\u001b[0m \u001b[0minput\u001b[0m\u001b[0;34m)\u001b[0m\u001b[0;34m:\u001b[0m\u001b[0;34m\u001b[0m\u001b[0;34m\u001b[0m\u001b[0m\n\u001b[1;32m    214\u001b[0m         \u001b[0;32mfor\u001b[0m \u001b[0mmodule\u001b[0m \u001b[0;32min\u001b[0m \u001b[0mself\u001b[0m\u001b[0;34m:\u001b[0m\u001b[0;34m\u001b[0m\u001b[0;34m\u001b[0m\u001b[0m\n\u001b[0;32m--> 215\u001b[0;31m             \u001b[0minput\u001b[0m \u001b[0;34m=\u001b[0m \u001b[0mmodule\u001b[0m\u001b[0;34m(\u001b[0m\u001b[0minput\u001b[0m\u001b[0;34m)\u001b[0m\u001b[0;34m\u001b[0m\u001b[0;34m\u001b[0m\u001b[0m\n\u001b[0m\u001b[1;32m    216\u001b[0m         \u001b[0;32mreturn\u001b[0m \u001b[0minput\u001b[0m\u001b[0;34m\u001b[0m\u001b[0;34m\u001b[0m\u001b[0m\n\u001b[1;32m    217\u001b[0m \u001b[0;34m\u001b[0m\u001b[0m\n",
      "\u001b[0;32m/usr/local/lib/python3.10/dist-packages/torch/nn/modules/module.py\u001b[0m in \u001b[0;36m_wrapped_call_impl\u001b[0;34m(self, *args, **kwargs)\u001b[0m\n\u001b[1;32m   1516\u001b[0m             \u001b[0;32mreturn\u001b[0m \u001b[0mself\u001b[0m\u001b[0;34m.\u001b[0m\u001b[0m_compiled_call_impl\u001b[0m\u001b[0;34m(\u001b[0m\u001b[0;34m*\u001b[0m\u001b[0margs\u001b[0m\u001b[0;34m,\u001b[0m \u001b[0;34m**\u001b[0m\u001b[0mkwargs\u001b[0m\u001b[0;34m)\u001b[0m  \u001b[0;31m# type: ignore[misc]\u001b[0m\u001b[0;34m\u001b[0m\u001b[0;34m\u001b[0m\u001b[0m\n\u001b[1;32m   1517\u001b[0m         \u001b[0;32melse\u001b[0m\u001b[0;34m:\u001b[0m\u001b[0;34m\u001b[0m\u001b[0;34m\u001b[0m\u001b[0m\n\u001b[0;32m-> 1518\u001b[0;31m             \u001b[0;32mreturn\u001b[0m \u001b[0mself\u001b[0m\u001b[0;34m.\u001b[0m\u001b[0m_call_impl\u001b[0m\u001b[0;34m(\u001b[0m\u001b[0;34m*\u001b[0m\u001b[0margs\u001b[0m\u001b[0;34m,\u001b[0m \u001b[0;34m**\u001b[0m\u001b[0mkwargs\u001b[0m\u001b[0;34m)\u001b[0m\u001b[0;34m\u001b[0m\u001b[0;34m\u001b[0m\u001b[0m\n\u001b[0m\u001b[1;32m   1519\u001b[0m \u001b[0;34m\u001b[0m\u001b[0m\n\u001b[1;32m   1520\u001b[0m     \u001b[0;32mdef\u001b[0m \u001b[0m_call_impl\u001b[0m\u001b[0;34m(\u001b[0m\u001b[0mself\u001b[0m\u001b[0;34m,\u001b[0m \u001b[0;34m*\u001b[0m\u001b[0margs\u001b[0m\u001b[0;34m,\u001b[0m \u001b[0;34m**\u001b[0m\u001b[0mkwargs\u001b[0m\u001b[0;34m)\u001b[0m\u001b[0;34m:\u001b[0m\u001b[0;34m\u001b[0m\u001b[0;34m\u001b[0m\u001b[0m\n",
      "\u001b[0;32m/usr/local/lib/python3.10/dist-packages/torch/nn/modules/module.py\u001b[0m in \u001b[0;36m_call_impl\u001b[0;34m(self, *args, **kwargs)\u001b[0m\n\u001b[1;32m   1525\u001b[0m                 \u001b[0;32mor\u001b[0m \u001b[0m_global_backward_pre_hooks\u001b[0m \u001b[0;32mor\u001b[0m \u001b[0m_global_backward_hooks\u001b[0m\u001b[0;34m\u001b[0m\u001b[0;34m\u001b[0m\u001b[0m\n\u001b[1;32m   1526\u001b[0m                 or _global_forward_hooks or _global_forward_pre_hooks):\n\u001b[0;32m-> 1527\u001b[0;31m             \u001b[0;32mreturn\u001b[0m \u001b[0mforward_call\u001b[0m\u001b[0;34m(\u001b[0m\u001b[0;34m*\u001b[0m\u001b[0margs\u001b[0m\u001b[0;34m,\u001b[0m \u001b[0;34m**\u001b[0m\u001b[0mkwargs\u001b[0m\u001b[0;34m)\u001b[0m\u001b[0;34m\u001b[0m\u001b[0;34m\u001b[0m\u001b[0m\n\u001b[0m\u001b[1;32m   1528\u001b[0m \u001b[0;34m\u001b[0m\u001b[0m\n\u001b[1;32m   1529\u001b[0m         \u001b[0;32mtry\u001b[0m\u001b[0;34m:\u001b[0m\u001b[0;34m\u001b[0m\u001b[0;34m\u001b[0m\u001b[0m\n",
      "\u001b[0;32m/usr/local/lib/python3.10/dist-packages/torch/nn/modules/linear.py\u001b[0m in \u001b[0;36mforward\u001b[0;34m(self, input)\u001b[0m\n\u001b[1;32m    112\u001b[0m \u001b[0;34m\u001b[0m\u001b[0m\n\u001b[1;32m    113\u001b[0m     \u001b[0;32mdef\u001b[0m \u001b[0mforward\u001b[0m\u001b[0;34m(\u001b[0m\u001b[0mself\u001b[0m\u001b[0;34m,\u001b[0m \u001b[0minput\u001b[0m\u001b[0;34m:\u001b[0m \u001b[0mTensor\u001b[0m\u001b[0;34m)\u001b[0m \u001b[0;34m->\u001b[0m \u001b[0mTensor\u001b[0m\u001b[0;34m:\u001b[0m\u001b[0;34m\u001b[0m\u001b[0;34m\u001b[0m\u001b[0m\n\u001b[0;32m--> 114\u001b[0;31m         \u001b[0;32mreturn\u001b[0m \u001b[0mF\u001b[0m\u001b[0;34m.\u001b[0m\u001b[0mlinear\u001b[0m\u001b[0;34m(\u001b[0m\u001b[0minput\u001b[0m\u001b[0;34m,\u001b[0m \u001b[0mself\u001b[0m\u001b[0;34m.\u001b[0m\u001b[0mweight\u001b[0m\u001b[0;34m,\u001b[0m \u001b[0mself\u001b[0m\u001b[0;34m.\u001b[0m\u001b[0mbias\u001b[0m\u001b[0;34m)\u001b[0m\u001b[0;34m\u001b[0m\u001b[0;34m\u001b[0m\u001b[0m\n\u001b[0m\u001b[1;32m    115\u001b[0m \u001b[0;34m\u001b[0m\u001b[0m\n\u001b[1;32m    116\u001b[0m     \u001b[0;32mdef\u001b[0m \u001b[0mextra_repr\u001b[0m\u001b[0;34m(\u001b[0m\u001b[0mself\u001b[0m\u001b[0;34m)\u001b[0m \u001b[0;34m->\u001b[0m \u001b[0mstr\u001b[0m\u001b[0;34m:\u001b[0m\u001b[0;34m\u001b[0m\u001b[0;34m\u001b[0m\u001b[0m\n",
      "\u001b[0;31mRuntimeError\u001b[0m: mat1 and mat2 shapes cannot be multiplied (10x49 and 490x10)"
     ]
    }
   ],
   "source": [
    "model1(test_data[0][0])"
   ]
  },
  {
   "cell_type": "code",
   "execution_count": null,
   "metadata": {
    "colab": {
     "base_uri": "https://localhost:8080/"
    },
    "id": "WpwsryxsSi-M",
    "outputId": "f8acfc88-e950-4dfb-f8ef-2a957aee799b"
   },
   "outputs": [
    {
     "data": {
      "text/plain": [
       "torch.Size([23, 25088])"
      ]
     },
     "execution_count": 26,
     "metadata": {},
     "output_type": "execute_result"
    }
   ],
   "source": [
    "# how flatten layer works with the dimension of the image.\n",
    "x = torch.randint(1,99,(23,32,1,28,28))\n",
    "flatten_layer = torch.nn.Flatten()\n",
    "flatten_layer(x).shape"
   ]
  },
  {
   "cell_type": "code",
   "execution_count": null,
   "metadata": {
    "colab": {
     "base_uri": "https://localhost:8080/"
    },
    "id": "okqPuyyLTPB2",
    "outputId": "63c36c9d-5ba2-40ac-9e64-b604066b16c9"
   },
   "outputs": [
    {
     "data": {
      "text/plain": [
       "25088"
      ]
     },
     "execution_count": 27,
     "metadata": {},
     "output_type": "execute_result"
    }
   ],
   "source": [
    "32*1*28*28"
   ]
  },
  {
   "cell_type": "code",
   "execution_count": null,
   "metadata": {
    "colab": {
     "base_uri": "https://localhost:8080/"
    },
    "id": "CjO8Zh5wTSYN",
    "outputId": "15f43dd1-16e0-49a8-e69e-241b55ed9ea0"
   },
   "outputs": [
    {
     "name": "stdout",
     "output_type": "stream",
     "text": [
      "28.0 28.0\n"
     ]
    }
   ],
   "source": []
  },
  {
   "cell_type": "markdown",
   "metadata": {
    "id": "y9wYqt0u9Q2z"
   },
   "source": [
    "# making confusion matrix:\n",
    "\n",
    "1. make predictions with our test data using our model\n",
    "2. make a confusion matrix using `torchmetrics.ConfusionMatrix`\n",
    "3. plot the confusion matrix using `mlxtend.plotting.plot_confusion_matrix`."
   ]
  },
  {
   "cell_type": "code",
   "execution_count": 12,
   "metadata": {
    "colab": {
     "base_uri": "https://localhost:8080/",
     "height": 49,
     "referenced_widgets": [
      "7ba37f76788145fd94497e61e15e292b",
      "c379d8dc66004367b2626c6acaeb5dc7",
      "63859e2ef38547719dd799fde0a524e7",
      "42c09f169eb14793a2243e5b3d949fae",
      "8a48eabc7e05458581df7c817cf8c632",
      "233253ffd09c453a8cd4dc191f9603e3",
      "6e6736f0f3904d16ba6afaff8d5d4c09",
      "96485d285c4440c6ae39e24a1e661bed",
      "14c3e234e72742e1b42d3c381990e01d",
      "9963ca37f8414e7b80ec9286a14f03c6",
      "0c86eb234c3c4e1aa808d5448064fa0c"
     ]
    },
    "id": "TeHEzwZv9l66",
    "outputId": "ea95f0b2-3871-4135-9b43-0a2ec2199f1f"
   },
   "outputs": [
    {
     "data": {
      "application/vnd.jupyter.widget-view+json": {
       "model_id": "7ba37f76788145fd94497e61e15e292b",
       "version_major": 2,
       "version_minor": 0
      },
      "text/plain": [
       "  0%|          | 0/313 [00:00<?, ?it/s]"
      ]
     },
     "metadata": {},
     "output_type": "display_data"
    }
   ],
   "source": [
    "# make predictions with our test data using our model\n",
    "\n",
    "predictions = []\n",
    "actuals = []\n",
    "\n",
    "model1.eval()\n",
    "with torch.inference_mode():\n",
    "  for x_test,y_test in tqdm(test_dataloader):\n",
    "\n",
    "    # getting x_test and y_test to apt device\n",
    "    x_test,y_test = x_test.to(device),y_test.to(device)\n",
    "\n",
    "    logit = model1(x_test)\n",
    "    test_prediction = logit.argmax(dim=1)\n",
    "\n",
    "    # put prediction on cpu for evaluation\n",
    "    predictions.append(test_prediction.cpu())\n",
    "    actuals.append(y_test.cpu())\n",
    "\n",
    "\n",
    "# concatenate the multidimensional predictions tensor into a single vector tensor containing prediction labels for\n",
    "# 10000 test images all at once\n",
    "predictions = torch.cat(predictions)\n",
    "actuals = torch.cat(actuals)"
   ]
  },
  {
   "cell_type": "code",
   "execution_count": 13,
   "metadata": {
    "colab": {
     "base_uri": "https://localhost:8080/",
     "height": 513
    },
    "id": "FIS7drc1PnTU",
    "outputId": "b4c59d80-86c4-4f21-88db-9064c65cd584"
   },
   "outputs": [
    {
     "data": {
      "image/png": "[encoded data removed]",
      "text/plain": [
       "<Figure size 1200x500 with 1 Axes>"
      ]
     },
     "metadata": {},
     "output_type": "display_data"
    }
   ],
   "source": [
    "import torchmetrics\n",
    "from mlxtend.plotting import plot_confusion_matrix\n",
    "\n",
    "# making ConfusionMatrix\n",
    "cm = torchmetrics.ConfusionMatrix(task='multiclass',num_classes=len(class_names))\n",
    "cm = cm(predictions,actuals)\n",
    "\n",
    "\n",
    "# plotting the confusion matrix using mlxtend\n",
    "fig,ax = plot_confusion_matrix(\n",
    "    cm.numpy(),\n",
    "    class_names=class_names,\n",
    "    figsize=(12,5))"
   ]
  },
  {
   "cell_type": "code",
   "execution_count": null,
   "metadata": {
    "id": "rL2P3JqvPn3W"
   },
   "outputs": [],
   "source": []
  },
  {
   "cell_type": "markdown",
   "metadata": {
    "id": "sflW2cml9l_f"
   },
   "source": [
    "# exploration,analysis and freethrows"
   ]
  },
  {
   "cell_type": "code",
   "execution_count": null,
   "metadata": {
    "id": "KvscRB4KQJ1t"
   },
   "outputs": [],
   "source": []
  },
  {
   "cell_type": "code",
   "execution_count": null,
   "metadata": {
    "colab": {
     "base_uri": "https://localhost:8080/"
    },
    "id": "1a533HmSO2k0",
    "outputId": "0e6bba09-8af4-472c-c197-501d43a85cf5"
   },
   "outputs": [
    {
     "data": {
      "text/plain": [
       "tensor([9, 2, 1,  ..., 8, 1, 5])"
      ]
     },
     "execution_count": 118,
     "metadata": {},
     "output_type": "execute_result"
    }
   ],
   "source": [
    "test_data.targets"
   ]
  },
  {
   "cell_type": "code",
   "execution_count": null,
   "metadata": {
    "colab": {
     "base_uri": "https://localhost:8080/"
    },
    "id": "VrdxrIlSPF2G",
    "outputId": "4b2e8429-c18d-4ea0-8063-85dd36d92739"
   },
   "outputs": [
    {
     "data": {
      "text/plain": [
       "tensor([9, 2, 1,  ..., 8, 1, 5])"
      ]
     },
     "execution_count": 120,
     "metadata": {},
     "output_type": "execute_result"
    }
   ],
   "source": [
    "actuals"
   ]
  },
  {
   "cell_type": "code",
   "execution_count": null,
   "metadata": {
    "colab": {
     "base_uri": "https://localhost:8080/"
    },
    "id": "ZV-85bltPHlw",
    "outputId": "a0cf02be-cd64-48b2-aeb0-939bec3d2c5f"
   },
   "outputs": [
    {
     "data": {
      "text/plain": [
       "tensor(10000)"
      ]
     },
     "execution_count": 123,
     "metadata": {},
     "output_type": "execute_result"
    }
   ],
   "source": [
    "torch.sum(actuals == test_data.targets)"
   ]
  },
  {
   "cell_type": "code",
   "execution_count": null,
   "metadata": {
    "colab": {
     "base_uri": "https://localhost:8080/"
    },
    "id": "wyt3dIMME6Rz",
    "outputId": "1f1d5db2-ed39-41e0-f01e-5850cac9be03"
   },
   "outputs": [
    {
     "data": {
      "text/plain": [
       "[tensor([9, 2, 1, 1, 6, 1, 4, 6, 5, 7, 4, 5, 8, 3, 4, 1, 2, 2, 8, 0, 2, 5, 7, 5,\n",
       "         1, 6, 6, 0, 9, 3, 8, 8]),\n",
       " tensor([3, 3, 8, 0, 7, 5, 7, 9, 0, 1, 0, 7, 6, 7, 2, 1, 4, 6, 4, 6, 5, 8, 2, 2,\n",
       "         8, 4, 8, 0, 7, 7, 8, 5]),\n",
       " tensor([1, 1, 2, 4, 7, 8, 7, 0, 2, 6, 2, 3, 1, 2, 8, 4, 1, 8, 5, 9, 5, 0, 3, 2,\n",
       "         0, 6, 5, 3, 6, 7, 1, 8]),\n",
       " tensor([0, 1, 6, 2, 3, 6, 7, 2, 7, 8, 5, 7, 9, 4, 2, 5, 7, 0, 5, 2, 8, 4, 7, 8,\n",
       "         0, 0, 9, 9, 3, 0, 8, 4]),\n",
       " tensor([1, 5, 4, 1, 9, 1, 8, 6, 2, 1, 2, 5, 1, 0, 0, 0, 1, 6, 1, 3, 2, 2, 3, 4,\n",
       "         1, 4, 5, 0, 4, 7, 9, 3]),\n",
       " tensor([5, 2, 3, 9, 0, 9, 4, 7, 4, 2, 0, 5, 2, 1, 2, 1, 3, 0, 9, 1, 0, 9, 3, 0,\n",
       "         7, 9, 9, 4, 4, 7, 1, 2]),\n",
       " tensor([1, 6, 3, 2, 8, 3, 6, 1, 1, 0, 2, 9, 2, 4, 0, 7, 9, 8, 4, 1, 8, 4, 1, 3,\n",
       "         1, 6, 7, 2, 8, 5, 3, 0]),\n",
       " tensor([7, 7, 6, 6, 7, 0, 7, 8, 9, 2, 9, 0, 5, 1, 4, 2, 5, 4, 9, 2, 2, 8, 6, 6,\n",
       "         6, 2, 9, 7, 6, 5, 5, 4]),\n",
       " tensor([8, 5, 2, 3, 0, 4, 8, 0, 0, 6, 3, 8, 9, 6, 1, 3, 0, 2, 3, 0, 8, 3, 7, 4,\n",
       "         0, 1, 6, 3, 0, 6, 0, 7]),\n",
       " tensor([5, 3, 5, 9, 5, 6, 5, 5, 1, 9, 8, 8, 3, 3, 6, 8, 0, 0, 2, 9, 7, 7, 1, 3,\n",
       "         6, 6, 6, 4, 7, 1, 6, 4])]"
      ]
     },
     "execution_count": 103,
     "metadata": {},
     "output_type": "execute_result"
    }
   ],
   "source": [
    "predictions[:10]"
   ]
  },
  {
   "cell_type": "code",
   "execution_count": null,
   "metadata": {
    "colab": {
     "base_uri": "https://localhost:8080/"
    },
    "id": "Asrvs0xnFLwU",
    "outputId": "f6076c9f-58a1-457f-8ba4-7a675afb177f"
   },
   "outputs": [
    {
     "data": {
      "text/plain": [
       "tensor([9, 2, 1,  ..., 8, 1, 5])"
      ]
     },
     "execution_count": 108,
     "metadata": {},
     "output_type": "execute_result"
    }
   ],
   "source": [
    "torch.cat(predictions) # we have concatenated the multi-dimensional predictions into a single vector."
   ]
  },
  {
   "cell_type": "code",
   "execution_count": null,
   "metadata": {
    "colab": {
     "base_uri": "https://localhost:8080/"
    },
    "id": "G3lWZdlcGba8",
    "outputId": "bf2fdaf5-94aa-4a57-bd64-315f258af44b"
   },
   "outputs": [
    {
     "data": {
      "text/plain": [
       "10000"
      ]
     },
     "execution_count": 109,
     "metadata": {},
     "output_type": "execute_result"
    }
   ],
   "source": [
    "len(torch.cat(predictions))"
   ]
  },
  {
   "cell_type": "code",
   "execution_count": null,
   "metadata": {
    "colab": {
     "base_uri": "https://localhost:8080/"
    },
    "id": "UtfNzhbeG0Fe",
    "outputId": "a2a7eeea-47f8-4ad3-bed4-8ec6be456479"
   },
   "outputs": [
    {
     "data": {
      "text/plain": [
       "Flatten(\n",
       "  start_dim=[tensor([9, 2, 1, 1, 6, 1, 4, 6, 5, 7, 4, 5, 8, 3, 4, 1, 2, 2, 8, 0, 2, 5, 7, 5,\n",
       "          1, 6, 6, 0, 9, 3, 8, 8]), tensor([3, 3, 8, 0, 7, 5, 7, 9, 0, 1, 0, 7, 6, 7, 2, 1, 4, 6, 4, 6, 5, 8, 2, 2,\n",
       "          8, 4, 8, 0, 7, 7, 8, 5]), tensor([1, 1, 2, 4, 7, 8, 7, 0, 2, 6, 2, 3, 1, 2, 8, 4, 1, 8, 5, 9, 5, 0, 3, 2,\n",
       "          0, 6, 5, 3, 6, 7, 1, 8]), tensor([0, 1, 6, 2, 3, 6, 7, 2, 7, 8, 5, 7, 9, 4, 2, 5, 7, 0, 5, 2, 8, 4, 7, 8,\n",
       "          0, 0, 9, 9, 3, 0, 8, 4]), tensor([1, 5, 4, 1, 9, 1, 8, 6, 2, 1, 2, 5, 1, 0, 0, 0, 1, 6, 1, 3, 2, 2, 3, 4,\n",
       "          1, 4, 5, 0, 4, 7, 9, 3]), tensor([5, 2, 3, 9, 0, 9, 4, 7, 4, 2, 0, 5, 2, 1, 2, 1, 3, 0, 9, 1, 0, 9, 3, 0,\n",
       "          7, 9, 9, 4, 4, 7, 1, 2]), tensor([1, 6, 3, 2, 8, 3, 6, 1, 1, 0, 2, 9, 2, 4, 0, 7, 9, 8, 4, 1, 8, 4, 1, 3,\n",
       "          1, 6, 7, 2, 8, 5, 3, 0]), tensor([7, 7, 6, 6, 7, 0, 7, 8, 9, 2, 9, 0, 5, 1, 4, 2, 5, 4, 9, 2, 2, 8, 6, 6,\n",
       "          6, 2, 9, 7, 6, 5, 5, 4]), tensor([8, 5, 2, 3, 0, 4, 8, 0, 0, 6, 3, 8, 9, 6, 1, 3, 0, 2, 3, 0, 8, 3, 7, 4,\n",
       "          0, 1, 6, 3, 0, 6, 0, 7]), tensor([5, 3, 5, 9, 5, 6, 5, 5, 1, 9, 8, 8, 3, 3, 6, 8, 0, 0, 2, 9, 7, 7, 1, 3,\n",
       "          6, 6, 6, 4, 7, 1, 6, 4]), tensor([8, 2, 6, 5, 6, 2, 7, 7, 7, 3, 3, 7, 6, 7, 1, 3, 7, 6, 2, 3, 4, 0, 3, 1,\n",
       "          6, 1, 9, 4, 9, 9, 1, 7]), tensor([8, 3, 6, 0, 2, 4, 8, 0, 1, 6, 2, 4, 4, 7, 3, 4, 2, 5, 0, 7, 9, 4, 0, 9,\n",
       "          3, 9, 4, 6, 5, 0, 0, 3]), tensor([5, 8, 1, 6, 2, 6, 6, 4, 9, 5, 2, 0, 6, 6, 1, 2, 0, 9, 7, 0, 4, 4, 4, 6,\n",
       "          2, 1, 0, 6, 7, 6, 9, 4]), tensor([2, 1, 5, 4, 5, 3, 8, 5, 8, 4, 4, 8, 9, 8, 6, 2, 4, 4, 2, 4, 1, 6, 1, 3,\n",
       "          0, 7, 8, 8, 4, 5, 3, 1]), tensor([9, 5, 3, 3, 0, 1, 6, 2, 9, 4, 0, 6, 0, 4, 2, 0, 0, 3, 3, 8, 2, 8, 9, 4,\n",
       "          0, 7, 0, 4, 4, 9, 2, 9]), tensor([5, 9, 3, 7, 5, 7, 8, 1, 0, 0, 6, 4, 8, 9, 7, 5, 1, 2, 7, 0, 2, 0, 5, 7,\n",
       "          1, 8, 2, 2, 2, 2, 4, 6]), tensor([6, 1, 9, 8, 5, 1, 9, 1, 2, 8, 3, 8, 9, 2, 4, 6, 8, 0, 2, 0, 5, 8, 8, 5,\n",
       "          3, 9, 4, 3, 4, 4, 5, 1]), tensor([0, 1, 4, 0, 4, 9, 6, 1, 5, 1, 1, 1, 9, 3, 4, 5, 3, 6, 6, 6, 4, 0, 0, 5,\n",
       "          8, 6, 3, 4, 0, 7, 7, 8]), tensor([9, 0, 6, 8, 7, 6, 7, 9, 3, 4, 0, 0, 5, 0, 1, 1, 5, 9, 4, 6, 5, 7, 8, 1,\n",
       "          2, 9, 7, 7, 1, 0, 9, 0]), tensor([6, 9, 0, 7, 6, 8, 2, 7, 3, 2, 3, 8, 2, 2, 6, 9, 3, 0, 7, 8, 0, 2, 9, 4,\n",
       "          6, 6, 4, 2, 0, 4, 4, 2]), tensor([7, 5, 8, 4, 9, 1, 0, 5, 4, 4, 4, 0, 0, 4, 5, 6, 0, 4, 5, 4, 1, 3, 1, 1,\n",
       "          6, 4, 3, 8, 2, 0, 6, 7]), tensor([0, 4, 0, 8, 5, 0, 8, 2, 9, 0, 8, 9, 6, 4, 2, 9, 6, 2, 5, 0, 9, 5, 3, 6,\n",
       "          6, 0, 3, 3, 8, 1, 6, 0]), tensor([9, 7, 9, 4, 8, 9, 1, 3, 7, 1, 0, 4, 6, 7, 1, 0, 0, 8, 7, 2, 6, 6, 6, 4,\n",
       "          1, 5, 9, 0, 0, 1, 6, 5]), tensor([0, 0, 3, 3, 3, 8, 1, 1, 8, 5, 7, 9, 8, 7, 4, 0, 7, 0, 8, 0, 9, 7, 6, 1,\n",
       "          0, 6, 4, 8, 0, 6, 3, 6]), tensor([8, 4, 0, 8, 9, 2, 4, 5, 9, 1, 4, 4, 9, 2, 1, 7, 9, 5, 8, 3, 7, 7, 1, 1,\n",
       "          1, 6, 9, 5, 3, 8, 4, 2]), tensor([9, 2, 8, 3, 2, 4, 4, 7, 1, 4, 9, 3, 5, 8, 5, 4, 7, 2, 8, 5, 9, 3, 3, 6,\n",
       "          7, 1, 7, 3, 5, 4, 6, 5]), tensor([8, 3, 7, 1, 2, 0, 1, 9, 8, 2, 7, 1, 3, 7, 5, 9, 9, 1, 8, 4, 5, 7, 1, 9,\n",
       "          8, 1, 0, 0, 6, 1, 7, 1]), tensor([1, 5, 7, 1, 5, 2, 6, 3, 3, 1, 1, 4, 9, 4, 3, 7, 7, 6, 8, 9, 9, 6, 1, 3,\n",
       "          4, 0, 3, 5, 9, 4, 0, 5]), tensor([5, 1, 5, 7, 8, 7, 5, 3, 6, 6, 0, 4, 0, 2, 0, 2, 5, 5, 1, 2, 0, 9, 3, 7,\n",
       "          8, 4, 8, 3, 6, 7, 0, 7]), tensor([4, 8, 6, 3, 4, 4, 3, 4, 9, 0, 2, 3, 9, 1, 8, 1, 7, 5, 5, 6, 0, 2, 1, 0,\n",
       "          5, 4, 0, 0, 6, 7, 5, 0]), tensor([2, 5, 9, 6, 8, 6, 0, 4, 6, 2, 9, 3, 5, 7, 1, 4, 4, 0, 5, 0, 9, 9, 8, 8,\n",
       "          0, 0, 2, 4, 6, 6, 3, 2]), tensor([3, 5, 4, 9, 3, 2, 7, 7, 0, 3, 5, 5, 4, 6, 5, 9, 6, 3, 7, 5, 1, 9, 8, 8,\n",
       "          9, 9, 2, 7, 2, 2, 3, 8]), tensor([7, 4, 4, 5, 4, 3, 6, 1, 4, 9, 3, 1, 6, 5, 0, 5, 7, 5, 2, 3, 3, 9, 4, 3,\n",
       "          6, 0, 4, 5, 0, 4, 9, 4]), tensor([0, 3, 6, 7, 0, 2, 1, 1, 3, 4, 8, 5, 9, 0, 1, 6, 5, 1, 4, 4, 8, 4, 7, 7,\n",
       "          3, 8, 3, 1, 9, 8, 1, 3]), tensor([3, 7, 5, 1, 5, 7, 8, 9, 6, 3, 5, 8, 4, 6, 3, 8, 6, 5, 5, 2, 7, 1, 5, 3,\n",
       "          5, 4, 8, 6, 2, 1, 1, 7]), tensor([9, 6, 2, 7, 0, 4, 8, 2, 2, 0, 6, 4, 4, 9, 6, 8, 4, 5, 9, 6, 3, 9, 4, 9,\n",
       "          8, 7, 4, 4, 2, 5, 3, 7]), tensor([0, 7, 4, 9, 3, 7, 0, 9, 3, 8, 4, 4, 7, 6, 6, 6, 2, 0, 7, 8, 4, 2, 4, 5,\n",
       "          5, 6, 4, 5, 5, 8, 1, 1]), tensor([7, 4, 6, 9, 6, 8, 7, 2, 2, 1, 2, 7, 7, 6, 9, 8, 5, 1, 1, 0, 2, 3, 9, 0,\n",
       "          1, 9, 0, 5, 5, 2, 0, 7]), tensor([0, 2, 3, 1, 3, 1, 3, 6, 9, 2, 4, 9, 5, 2, 9, 6, 3, 4, 4, 0, 0, 5, 2, 2,\n",
       "          5, 6, 1, 4, 2, 5, 4, 4]), tensor([8, 6, 2, 3, 0, 6, 3, 6, 8, 3, 8, 2, 0, 3, 4, 8, 8, 4, 5, 2, 2, 3, 0, 1,\n",
       "          9, 0, 9, 1, 9, 0, 5, 2]), tensor([4, 7, 3, 8, 5, 0, 8, 0, 7, 5, 5, 9, 5, 0, 0, 0, 3, 4, 4, 4, 5, 7, 1, 3,\n",
       "          4, 6, 6, 5, 1, 6, 7, 3]), tensor([4, 8, 8, 4, 8, 9, 4, 1, 6, 5, 2, 7, 8, 5, 6, 8, 5, 2, 2, 8, 9, 8, 4, 4,\n",
       "          6, 8, 8, 3, 0, 9, 4, 4]), tensor([8, 1, 3, 6, 1, 9, 2, 1, 6, 4, 7, 9, 4, 6, 0, 4, 4, 2, 4, 5, 0, 2, 8, 3,\n",
       "          7, 4, 4, 0, 0, 5, 4, 8]), tensor([2, 4, 3, 0, 2, 1, 7, 7, 5, 4, 7, 6, 4, 7, 3, 3, 1, 3, 3, 6, 0, 1, 7, 6,\n",
       "          4, 7, 1, 0, 6, 5, 8, 4]), tensor([6, 7, 9, 5, 0, 7, 9, 5, 1, 2, 9, 5, 5, 3, 9, 9, 1, 6, 7, 8, 0, 1, 7, 2,\n",
       "          7, 1, 1, 5, 5, 6, 4, 5]), tensor([9, 5, 5, 2, 3, 9, 3, 8, 5, 4, 0, 0, 0, 5, 7, 4, 5, 2, 0, 4, 4, 7, 0, 0,\n",
       "          5, 1, 7, 2, 3, 6, 8, 9]), tensor([8, 7, 1, 2, 3, 2, 9, 7, 5, 6, 1, 0, 7, 1, 2, 6, 9, 3, 6, 4, 4, 3, 0, 0,\n",
       "          6, 3, 6, 1, 3, 7, 4, 5]), tensor([0, 9, 1, 1, 8, 0, 9, 5, 0, 5, 4, 6, 7, 1, 1, 5, 3, 8, 7, 8, 1, 8, 9, 6,\n",
       "          6, 1, 1, 3, 5, 6, 7, 1]), tensor([9, 9, 2, 2, 7, 0, 1, 3, 9, 6, 3, 7, 2, 8, 1, 8, 0, 7, 9, 8, 5, 8, 2, 0,\n",
       "          4, 0, 6, 5, 8, 3, 8, 7]), tensor([5, 7, 3, 7, 6, 7, 0, 2, 2, 5, 3, 5, 1, 1, 7, 7, 6, 6, 0, 4, 2, 8, 6, 3,\n",
       "          1, 4, 9, 9, 4, 5, 2, 2]), tensor([7, 8, 0, 7, 9, 1, 2, 9, 4, 9, 3, 4, 3, 3, 1, 8, 8, 5, 3, 8, 0, 3, 4, 3,\n",
       "          6, 0, 2, 7, 3, 6, 8, 3]), tensor([9, 7, 3, 1, 7, 5, 8, 8, 2, 0, 0, 4, 4, 8, 5, 7, 0, 6, 0, 7, 7, 3, 9, 4,\n",
       "          5, 9, 7, 1, 7, 4, 4, 5]), tensor([1, 4, 5, 4, 5, 0, 4, 4, 1, 4, 4, 8, 4, 5, 9, 4, 1, 1, 9, 2, 3, 5, 0, 3,\n",
       "          9, 7, 5, 3, 8, 8, 8, 9]), tensor([1, 1, 6, 3, 1, 4, 3, 4, 9, 9, 0, 0, 6, 9, 4, 9, 0, 6, 1, 8, 9, 2, 9, 4,\n",
       "          8, 0, 7, 2, 3, 6, 2, 5]), tensor([6, 1, 9, 0, 4, 2, 9, 9, 0, 8, 3, 6, 6, 6, 0, 4, 2, 6, 6, 5, 0, 6, 7, 8,\n",
       "          7, 4, 0, 6, 6, 5, 2, 4]), tensor([2, 9, 5, 2, 6, 7, 0, 1, 9, 5, 5, 0, 7, 7, 5, 0, 5, 0, 8, 4, 7, 9, 8, 2,\n",
       "          4, 7, 3, 3, 7, 7, 7, 8]), tensor([4, 9, 5, 7, 6, 5, 7, 5, 1, 3, 0, 4, 9, 9, 8, 3, 7, 0, 4, 4, 9, 3, 3, 1,\n",
       "          9, 9, 1, 5, 7, 2, 5, 6]), tensor([5, 5, 3, 7, 5, 5, 4, 0, 7, 3, 3, 2, 0, 2, 9, 9, 0, 3, 0, 8, 3, 8, 5, 4,\n",
       "          4, 1, 8, 2, 6, 5, 0, 4]), tensor([6, 3, 0, 0, 1, 0, 8, 4, 9, 0, 7, 6, 7, 7, 1, 5, 8, 7, 2, 9, 9, 1, 2, 6,\n",
       "          1, 1, 1, 8, 8, 1, 3, 7]), tensor([5, 2, 0, 8, 4, 8, 9, 4, 1, 3, 1, 9, 8, 1, 1, 1, 8, 0, 9, 9, 7, 6, 0, 4,\n",
       "          2, 1, 1, 7, 9, 2, 2, 0]), tensor([3, 6, 6, 8, 1, 7, 2, 4, 2, 2, 4, 8, 7, 1, 8, 5, 5, 7, 7, 6, 6, 4, 9, 0,\n",
       "          6, 3, 5, 5, 0, 2, 1, 0]), tensor([3, 5, 7, 1, 7, 4, 5, 7, 9, 8, 9, 1, 4, 8, 3, 2, 6, 6, 0, 8, 3, 8, 3, 8,\n",
       "          6, 0, 8, 8, 3, 2, 9, 3]), tensor([2, 0, 8, 5, 7, 0, 1, 1, 1, 9, 5, 1, 3, 3, 6, 0, 8, 4, 1, 3, 8, 8, 0, 7,\n",
       "          5, 0, 6, 7, 3, 3, 2, 4]), tensor([6, 5, 5, 4, 4, 3, 9, 1, 1, 7, 3, 8, 7, 2, 2, 9, 3, 9, 9, 0, 1, 7, 1, 4,\n",
       "          8, 1, 4, 9, 3, 4, 0, 0]), tensor([7, 6, 9, 9, 5, 5, 7, 0, 9, 0, 3, 6, 9, 8, 4, 2, 6, 3, 9, 4, 3, 6, 7, 4,\n",
       "          0, 3, 8, 1, 8, 7, 4, 4]), tensor([5, 2, 2, 9, 1, 9, 4, 9, 1, 6, 2, 8, 8, 7, 7, 7, 7, 2, 6, 0, 7, 5, 8, 5,\n",
       "          6, 0, 4, 4, 9, 2, 6, 1]), tensor([1, 9, 3, 1, 2, 2, 2, 3, 7, 5, 7, 4, 4, 4, 1, 2, 3, 5, 4, 2, 9, 1, 5, 9,\n",
       "          3, 6, 6, 4, 0, 1, 7, 7]), tensor([6, 6, 7, 7, 3, 0, 4, 3, 2, 7, 8, 7, 2, 8, 0, 8, 7, 4, 6, 2, 7, 0, 9, 9,\n",
       "          3, 1, 5, 9, 3, 1, 0, 3]), tensor([3, 5, 9, 7, 9, 8, 3, 5, 9, 3, 7, 9, 3, 4, 0, 0, 5, 7, 7, 2, 3, 5, 3, 1,\n",
       "          1, 9, 4, 3, 9, 5, 5, 7]), tensor([2, 4, 9, 0, 2, 1, 9, 7, 1, 5, 0, 5, 5, 0, 3, 5, 0, 3, 3, 7, 4, 2, 6, 8,\n",
       "          5, 9, 2, 1, 3, 5, 5, 8]), tensor([5, 3, 7, 4, 4, 6, 9, 6, 0, 0, 9, 1, 4, 3, 1, 5, 3, 8, 5, 1, 1, 2, 9, 4,\n",
       "          0, 5, 2, 8, 0, 2, 9, 8]), tensor([4, 4, 8, 3, 8, 0, 4, 0, 0, 4, 8, 5, 4, 9, 0, 9, 5, 8, 0, 9, 1, 4, 7, 2,\n",
       "          1, 6, 6, 0, 6, 5, 0, 4]), tensor([8, 5, 5, 2, 0, 3, 8, 3, 3, 1, 9, 2, 9, 7, 2, 6, 4, 8, 3, 4, 8, 5, 6, 8,\n",
       "          3, 3, 1, 4, 4, 0, 4, 9]), tensor([0, 4, 1, 9, 9, 8, 1, 8, 8, 3, 3, 3, 8, 5, 9, 6, 6, 8, 7, 0, 3, 0, 0, 4,\n",
       "          5, 7, 5, 0, 7, 9, 1, 8]), tensor([4, 8, 9, 3, 5, 2, 0, 4, 4, 7, 8, 9, 1, 8, 2, 5, 5, 3, 1, 1, 8, 8, 3, 0,\n",
       "          7, 0, 1, 8, 3, 0, 4, 9]), tensor([8, 9, 8, 8, 4, 9, 1, 8, 4, 2, 7, 7, 0, 5, 1, 1, 0, 0, 4, 3, 0, 4, 3, 5,\n",
       "          1, 4, 3, 3, 4, 4, 5, 0]), tensor([9, 8, 3, 4, 1, 0, 2, 1, 4, 4, 4, 8, 4, 9, 0, 9, 9, 5, 0, 0, 0, 5, 0, 3,\n",
       "          9, 7, 3, 6, 1, 9, 4, 1]), tensor([0, 4, 5, 4, 1, 2, 8, 5, 9, 4, 5, 3, 4, 8, 3, 0, 6, 8, 9, 0, 5, 0, 2, 6,\n",
       "          9, 3, 2, 2, 8, 5, 9, 2]), tensor([3, 1, 6, 3, 6, 2, 7, 4, 1, 2, 6, 3, 0, 6, 8, 5, 0, 8, 5, 2, 7, 8, 1, 5,\n",
       "          9, 8, 0, 9, 0, 9, 3, 7]), tensor([5, 7, 9, 6, 0, 7, 1, 5, 5, 9, 5, 4, 4, 2, 6, 5, 9, 7, 4, 2, 6, 9, 9, 6,\n",
       "          2, 1, 3, 7, 1, 8, 7, 9]), tensor([1, 8, 9, 3, 7, 7, 7, 1, 7, 4, 6, 6, 2, 4, 5, 2, 8, 9, 6, 8, 0, 0, 7, 7,\n",
       "          5, 0, 1, 9, 3, 0, 4, 9]), tensor([6, 6, 6, 7, 1, 0, 5, 8, 7, 2, 8, 6, 3, 6, 1, 7, 4, 8, 7, 4, 1, 7, 8, 6,\n",
       "          4, 6, 4, 4, 1, 8, 6, 7]), tensor([2, 9, 4, 5, 0, 3, 3, 8, 8, 2, 0, 7, 2, 4, 0, 4, 1, 0, 8, 1, 7, 7, 2, 6,\n",
       "          3, 1, 2, 7, 0, 6, 0, 6]), tensor([2, 7, 2, 6, 3, 6, 3, 0, 9, 7, 3, 5, 4, 9, 6, 4, 5, 0, 6, 8, 4, 0, 4, 4,\n",
       "          0, 6, 1, 6, 6, 6, 7, 1]), tensor([0, 6, 4, 1, 1, 5, 6, 3, 8, 3, 3, 1, 7, 4, 9, 8, 8, 4, 5, 5, 6, 7, 3, 9,\n",
       "          1, 0, 5, 3, 7, 0, 1, 1]), tensor([8, 0, 2, 0, 5, 9, 0, 3, 8, 1, 0, 4, 6, 6, 2, 8, 3, 4, 2, 1, 9, 1, 7, 9,\n",
       "          5, 7, 6, 1, 5, 8, 8, 2]), tensor([6, 4, 6, 3, 1, 6, 4, 0, 3, 9, 8, 4, 0, 8, 4, 3, 9, 7, 1, 1, 7, 5, 1, 9,\n",
       "          2, 4, 2, 4, 8, 6, 7, 1]), tensor([3, 0, 7, 3, 5, 8, 1, 4, 2, 3, 4, 8, 8, 8, 3, 8, 1, 8, 9, 3, 0, 6, 0, 6,\n",
       "          9, 7, 3, 7, 0, 1, 2, 5]), tensor([9, 6, 0, 5, 0, 5, 8, 5, 4, 6, 2, 8, 0, 0, 9, 3, 0, 5, 8, 1, 1, 6, 6, 0,\n",
       "          0, 8, 8, 2, 3, 3, 9, 5]), tensor([4, 3, 3, 1, 8, 1, 5, 2, 0, 0, 7, 9, 3, 2, 7, 1, 7, 6, 1, 6, 2, 6, 6, 7,\n",
       "          0, 4, 9, 3, 2, 5, 0, 8]), tensor([6, 2, 6, 7, 4, 2, 1, 1, 0, 3, 5, 5, 2, 6, 4, 1, 8, 8, 6, 4, 3, 4, 2, 9,\n",
       "          6, 1, 9, 6, 2, 6, 0, 4]), tensor([5, 4, 9, 8, 1, 6, 4, 6, 4, 9, 4, 3, 5, 1, 4, 6, 0, 1, 1, 0, 2, 6, 9, 9,\n",
       "          0, 1, 2, 4, 0, 7, 6, 1]), tensor([1, 7, 7, 8, 5, 6, 5, 3, 7, 2, 0, 9, 6, 1, 6, 2, 2, 5, 8, 5, 2, 9, 8, 4,\n",
       "          0, 9, 0, 8, 1, 3, 8, 2]), tensor([8, 2, 0, 0, 3, 8, 7, 8, 2, 2, 0, 6, 0, 4, 5, 4, 4, 1, 1, 9, 7, 0, 6, 6,\n",
       "          1, 4, 2, 7, 5, 1, 8, 3]), tensor([0, 7, 9, 8, 7, 2, 7, 9, 7, 2, 2, 6, 6, 3, 3, 9, 1, 1, 4, 8, 0, 9, 7, 5,\n",
       "          4, 8, 8, 3, 6, 3, 6, 8]), tensor([2, 2, 5, 9, 2, 3, 8, 3, 2, 8, 3, 3, 1, 1, 3, 0, 1, 8, 4, 1, 5, 8, 1, 5,\n",
       "          8, 0, 7, 8, 7, 5, 6, 5]), tensor([5, 3, 0, 7, 8, 4, 5, 1, 0, 6, 2, 4, 3, 7, 7, 7, 9, 2, 5, 8, 5, 8, 5, 3,\n",
       "          0, 9, 7, 2, 0, 0, 8, 4]), tensor([0, 7, 3, 7, 6, 8, 4, 7, 0, 0, 4, 0, 4, 7, 8, 1, 3, 8, 1, 9, 3, 6, 1, 1,\n",
       "          6, 6, 9, 8, 4, 8, 2, 7]), tensor([7, 1, 3, 0, 3, 0, 7, 8, 7, 6, 5, 2, 6, 7, 5, 5, 8, 9, 7, 3, 2, 4, 8, 3,\n",
       "          9, 5, 7, 6, 2, 6, 7, 0]), tensor([8, 5, 1, 8, 9, 2, 2, 1, 6, 2, 7, 4, 0, 4, 4, 8, 9, 7, 9, 6, 2, 8, 4, 6,\n",
       "          0, 6, 3, 4, 1, 5, 4, 7]), tensor([5, 0, 7, 6, 2, 0, 5, 1, 1, 0, 7, 3, 8, 8, 7, 5, 9, 9, 5, 5, 3, 0, 7, 1,\n",
       "          4, 6, 0, 9, 9, 6, 6, 8]), tensor([0, 5, 7, 8, 0, 2, 7, 6, 6, 4, 8, 1, 0, 4, 8, 0, 7, 5, 8, 7, 5, 5, 5, 0,\n",
       "          5, 6, 3, 2, 0, 3, 4, 2]), tensor([0, 4, 9, 4, 5, 4, 4, 1, 2, 5, 7, 0, 5, 0, 2, 5, 0, 4, 8, 0, 2, 7, 2, 7,\n",
       "          2, 3, 4, 7, 1, 2, 4, 4]), tensor([2, 4, 3, 9, 9, 2, 8, 0, 4, 0, 0, 1, 9, 3, 9, 0, 8, 6, 9, 4, 7, 9, 1, 5,\n",
       "          8, 1, 0, 0, 2, 4, 8, 0]), tensor([3, 3, 0, 0, 0, 3, 3, 1, 6, 8, 4, 7, 3, 0, 6, 5, 8, 8, 8, 6, 1, 0, 8, 7,\n",
       "          8, 5, 8, 7, 0, 7, 2, 7]), tensor([3, 5, 5, 8, 3, 2, 8, 5, 9, 9, 4, 0, 6, 7, 1, 8, 8, 8, 7, 2, 0, 9, 7, 9,\n",
       "          6, 9, 4, 1, 4, 7, 2, 5]), tensor([6, 6, 2, 9, 0, 7, 1, 9, 7, 2, 5, 3, 8, 4, 9, 3, 9, 5, 7, 5, 1, 3, 3, 6,\n",
       "          0, 7, 5, 3, 5, 5, 8, 7]), tensor([7, 4, 6, 5, 5, 0, 4, 8, 3, 0, 9, 2, 0, 2, 2, 7, 4, 0, 7, 1, 4, 8, 1, 4,\n",
       "          7, 8, 4, 6, 7, 2, 0, 2]), tensor([2, 3, 6, 3, 0, 5, 2, 3, 2, 8, 5, 0, 7, 4, 6, 4, 8, 3, 5, 1, 0, 9, 1, 4,\n",
       "          9, 0, 7, 4, 0, 0, 2, 5]), tensor([0, 3, 5, 6, 5, 1, 7, 9, 4, 6, 7, 4, 0, 2, 8, 1, 0, 9, 9, 9, 8, 4, 6, 9,\n",
       "          7, 7, 5, 8, 8, 7, 5, 3]), tensor([5, 5, 0, 8, 9, 7, 2, 1, 4, 7, 1, 3, 6, 3, 4, 2, 9, 4, 7, 7, 6, 5, 0, 8,\n",
       "          8, 6, 8, 5, 6, 0, 7, 3]), tensor([0, 0, 4, 5, 2, 0, 7, 7, 7, 1, 5, 2, 1, 8, 5, 2, 2, 8, 7, 7, 6, 7, 1, 0,\n",
       "          9, 5, 3, 9, 3, 5, 0, 7]), tensor([4, 6, 0, 1, 2, 5, 9, 3, 2, 8, 5, 7, 3, 1, 2, 0, 8, 1, 8, 5, 6, 9, 3, 3,\n",
       "          8, 4, 4, 2, 0, 0, 4, 2]), tensor([3, 4, 5, 9, 1, 1, 9, 4, 7, 0, 3, 1, 0, 0, 7, 7, 0, 7, 8, 0, 5, 6, 4, 4,\n",
       "          8, 9, 7, 4, 9, 5, 3, 9]), tensor([2, 4, 1, 9, 7, 8, 1, 0, 9, 3, 6, 7, 8, 6, 5, 4, 7, 9, 9, 7, 0, 4, 2, 4,\n",
       "          4, 0, 7, 5, 3, 9, 4, 8]), tensor([8, 6, 0, 4, 1, 9, 3, 3, 5, 1, 5, 5, 9, 2, 8, 5, 5, 9, 5, 4, 6, 7, 3, 5,\n",
       "          4, 2, 0, 9, 4, 8, 1, 9]), tensor([2, 6, 6, 4, 8, 8, 7, 7, 4, 9, 3, 9, 0, 8, 2, 6, 9, 0, 3, 2, 5, 5, 0, 4,\n",
       "          6, 4, 1, 3, 1, 0, 7, 8]), tensor([8, 7, 7, 0, 5, 7, 3, 6, 0, 4, 0, 3, 6, 8, 8, 8, 0, 2, 3, 2, 8, 2, 1, 4,\n",
       "          1, 1, 6, 3, 2, 2, 8, 0]), tensor([0, 4, 1, 0, 6, 7, 0, 6, 7, 9, 9, 2, 7, 0, 9, 9, 8, 4, 8, 3, 4, 0, 9, 6,\n",
       "          2, 4, 3, 8, 3, 3, 6, 9]), tensor([0, 4, 7, 3, 7, 8, 8, 2, 4, 8, 8, 0, 1, 5, 8, 9, 8, 5, 1, 0, 3, 0, 3, 0,\n",
       "          9, 3, 9, 9, 1, 5, 9, 4]), tensor([1, 7, 0, 1, 0, 5, 3, 8, 8, 4, 1, 7, 0, 5, 0, 4, 1, 7, 1, 7, 9, 6, 3, 9,\n",
       "          2, 4, 5, 3, 5, 8, 8, 4]), tensor([4, 7, 7, 4, 6, 0, 5, 5, 1, 8, 2, 5, 6, 8, 5, 6, 9, 1, 3, 1, 4, 5, 9, 0,\n",
       "          9, 0, 3, 5, 6, 1, 5, 8]), tensor([5, 6, 6, 9, 1, 9, 1, 7, 1, 8, 0, 3, 4, 0, 6, 8, 3, 3, 8, 8, 0, 3, 6, 8,\n",
       "          1, 1, 3, 3, 2, 2, 1, 8]), tensor([3, 2, 6, 6, 4, 2, 3, 9, 2, 3, 0, 4, 5, 7, 1, 6, 1, 6, 0, 3, 8, 5, 1, 6,\n",
       "          5, 4, 8, 1, 7, 1, 6, 4]), tensor([9, 4, 2, 1, 5, 3, 3, 5, 8, 7, 7, 7, 2, 7, 5, 4, 2, 2, 0, 4, 4, 9, 9, 5,\n",
       "          8, 0, 4, 4, 1, 3, 9, 3]), tensor([0, 0, 9, 8, 5, 3, 0, 7, 1, 9, 7, 8, 4, 0, 9, 9, 1, 2, 0, 4, 2, 4, 5, 1,\n",
       "          0, 2, 8, 3, 4, 8, 3, 4]), tensor([0, 0, 3, 6, 7, 4, 4, 1, 7, 3, 0, 7, 9, 9, 1, 5, 5, 9, 1, 4, 6, 1, 2, 8,\n",
       "          3, 5, 7, 8, 0, 4, 2, 7]), tensor([2, 9, 5, 6, 8, 5, 8, 8, 4, 9, 2, 5, 5, 9, 9, 4, 4, 2, 0, 6, 6, 8, 7, 6,\n",
       "          6, 7, 5, 4, 7, 0, 3, 4]), tensor([4, 8, 4, 0, 6, 7, 0, 5, 3, 6, 6, 8, 0, 0, 2, 0, 2, 5, 5, 8, 0, 7, 0, 8,\n",
       "          9, 0, 2, 1, 4, 5, 1, 0]), tensor([2, 9, 6, 4, 9, 9, 1, 4, 3, 1, 6, 8, 0, 3, 0, 6, 2, 3, 2, 3, 6, 5, 2, 3,\n",
       "          6, 0, 8, 5, 4, 0, 1, 0]), tensor([4, 2, 6, 7, 9, 6, 4, 3, 3, 0, 8, 5, 4, 4, 0, 3, 3, 5, 2, 5, 1, 5, 5, 1,\n",
       "          7, 5, 2, 1, 8, 8, 0, 9]), tensor([0, 0, 0, 3, 2, 1, 8, 3, 4, 2, 1, 2, 0, 3, 0, 8, 5, 1, 5, 0, 2, 6, 3, 9,\n",
       "          8, 4, 8, 1, 0, 2, 6, 2]), tensor([6, 3, 7, 5, 0, 6, 2, 0, 8, 6, 2, 1, 8, 6, 8, 2, 9, 2, 6, 8, 5, 6, 7, 3,\n",
       "          2, 4, 6, 6, 6, 8, 5, 2]), tensor([1, 5, 2, 8, 2, 9, 3, 6, 3, 6, 4, 2, 7, 7, 9, 0, 4, 9, 8, 0, 5, 8, 7, 7,\n",
       "          0, 7, 7, 0, 7, 7, 2, 9]), tensor([7, 4, 2, 2, 3, 8, 0, 1, 9, 8, 0, 2, 6, 8, 3, 8, 0, 7, 6, 3, 3, 8, 1, 3,\n",
       "          8, 7, 3, 0, 3, 2, 8, 8]), tensor([9, 1, 3, 2, 1, 4, 8, 3, 4, 2, 7, 3, 9, 4, 9, 0, 6, 6, 5, 7, 0, 8, 1, 7,\n",
       "          5, 4, 9, 5, 7, 3, 6, 0]), tensor([9, 8, 7, 3, 7, 7, 4, 7, 5, 8, 5, 4, 4, 6, 2, 3, 8, 9, 7, 1, 3, 4, 2, 9,\n",
       "          7, 1, 4, 2, 6, 0, 5, 5]), tensor([4, 5, 2, 8, 9, 4, 9, 9, 1, 4, 3, 1, 5, 5, 5, 6, 8, 1, 5, 5, 7, 7, 9, 8,\n",
       "          1, 1, 1, 4, 6, 6, 9, 3]), tensor([6, 4, 4, 8, 2, 5, 4, 9, 0, 2, 8, 4, 8, 6, 3, 6, 1, 4, 3, 3, 8, 4, 9, 9,\n",
       "          0, 7, 9, 5, 3, 1, 5, 2]), tensor([8, 4, 9, 0, 1, 6, 0, 8, 8, 1, 9, 3, 0, 8, 1, 8, 4, 2, 5, 6, 9, 0, 1, 4,\n",
       "          0, 7, 9, 0, 1, 3, 9, 5]), tensor([1, 4, 1, 1, 4, 8, 3, 9, 5, 4, 4, 3, 7, 7, 7, 2, 3, 9, 1, 9, 4, 6, 0, 5,\n",
       "          6, 6, 7, 9, 0, 3, 4, 9]), tensor([6, 4, 0, 2, 7, 9, 6, 1, 1, 2, 0, 8, 8, 7, 4, 2, 7, 5, 7, 6, 1, 8, 1, 4,\n",
       "          9, 8, 9, 0, 1, 0, 0, 0]), tensor([3, 0, 6, 4, 1, 9, 7, 1, 2, 6, 5, 3, 4, 1, 7, 4, 7, 0, 2, 8, 8, 1, 4, 9,\n",
       "          7, 3, 3, 4, 9, 3, 9, 8]), tensor([5, 3, 8, 4, 7, 1, 4, 1, 9, 6, 8, 3, 2, 4, 8, 1, 1, 5, 8, 6, 1, 6, 2, 9,\n",
       "          0, 9, 5, 3, 5, 0, 6, 5]), tensor([6, 8, 3, 8, 0, 2, 9, 9, 1, 5, 3, 2, 4, 5, 3, 0, 3, 0, 7, 4, 0, 4, 1, 9,\n",
       "          5, 1, 7, 5, 5, 5, 9, 6]), tensor([8, 4, 8, 0, 4, 6, 4, 1, 1, 4, 2, 8, 4, 9, 0, 5, 8, 1, 3, 8, 3, 2, 4, 8,\n",
       "          6, 0, 9, 3, 6, 9, 7, 2]), tensor([2, 2, 6, 8, 9, 6, 1, 4, 7, 7, 9, 7, 3, 6, 7, 6, 7, 3, 0, 2, 0, 9, 4, 3,\n",
       "          3, 1, 9, 5, 8, 2, 3, 5]), tensor([0, 0, 4, 5, 8, 3, 5, 3, 7, 7, 6, 0, 9, 5, 1, 4, 4, 5, 3, 0, 6, 1, 4, 0,\n",
       "          5, 4, 8, 5, 7, 3, 0, 8]), tensor([3, 5, 2, 4, 9, 8, 5, 9, 8, 1, 7, 5, 0, 1, 5, 4, 3, 3, 3, 4, 4, 3, 6, 7,\n",
       "          8, 0, 9, 6, 3, 0, 4, 2]), tensor([7, 3, 5, 7, 3, 7, 8, 4, 6, 2, 2, 3, 1, 0, 5, 5, 6, 6, 4, 1, 1, 4, 7, 2,\n",
       "          3, 5, 5, 0, 4, 4, 4, 8]), tensor([9, 9, 2, 0, 9, 8, 3, 5, 3, 1, 4, 5, 0, 1, 8, 5, 8, 4, 0, 7, 8, 9, 2, 4,\n",
       "          6, 3, 6, 6, 4, 7, 9, 1]), tensor([9, 7, 4, 5, 6, 3, 2, 4, 5, 6, 0, 5, 8, 0, 4, 6, 9, 4, 7, 8, 6, 0, 2, 7,\n",
       "          7, 5, 9, 5, 7, 3, 8, 7]), tensor([5, 9, 9, 8, 2, 1, 0, 8, 0, 2, 6, 7, 9, 2, 4, 5, 4, 3, 4, 1, 1, 9, 0, 5,\n",
       "          5, 4, 9, 8, 9, 0, 5, 4]), tensor([0, 6, 5, 7, 8, 4, 8, 8, 7, 4, 9, 3, 9, 6, 9, 7, 3, 9, 9, 3, 0, 0, 2, 8,\n",
       "          7, 9, 3, 0, 0, 4, 1, 0]), tensor([3, 8, 4, 8, 4, 4, 6, 3, 5, 7, 7, 8, 5, 6, 3, 2, 1, 8, 3, 8, 5, 4, 2, 3,\n",
       "          0, 8, 3, 3, 4, 9, 0, 9]), tensor([9, 0, 1, 8, 3, 0, 3, 8, 6, 8, 5, 1, 3, 0, 1, 9, 3, 5, 0, 4, 2, 3, 1, 5,\n",
       "          3, 6, 8, 5, 7, 8, 0, 1]), tensor([1, 0, 6, 2, 5, 9, 0, 7, 2, 3, 6, 4, 4, 3, 3, 9, 4, 9, 0, 8, 4, 5, 6, 4,\n",
       "          0, 1, 3, 9, 4, 2, 5, 0]), tensor([5, 3, 2, 5, 0, 0, 0, 0, 6, 9, 1, 3, 3, 6, 5, 5, 6, 0, 1, 4, 9, 7, 4, 4,\n",
       "          7, 5, 7, 1, 4, 8, 7, 9]), tensor([5, 7, 0, 2, 9, 2, 5, 0, 7, 8, 4, 5, 2, 7, 4, 3, 4, 5, 9, 6, 5, 7, 7, 3,\n",
       "          8, 3, 9, 6, 5, 3, 0, 7]), tensor([0, 9, 5, 1, 3, 6, 9, 1, 6, 4, 5, 3, 4, 9, 9, 1, 2, 2, 2, 4, 6, 8, 7, 9,\n",
       "          9, 4, 8, 8, 9, 0, 7, 0]), tensor([4, 3, 8, 8, 4, 2, 0, 1, 4, 0, 2, 1, 5, 4, 6, 6, 0, 3, 4, 5, 6, 8, 7, 6,\n",
       "          6, 3, 1, 8, 4, 8, 9, 9]), tensor([5, 5, 8, 2, 5, 4, 4, 2, 5, 4, 9, 2, 9, 1, 0, 2, 4, 6, 9, 8, 0, 4, 9, 1,\n",
       "          9, 4, 5, 3, 5, 4, 3, 4]), tensor([2, 1, 0, 2, 6, 3, 7, 8, 4, 5, 5, 9, 0, 6, 3, 4, 5, 5, 5, 7, 6, 1, 3, 3,\n",
       "          7, 0, 7, 7, 6, 8, 3, 5]), tensor([5, 8, 1, 9, 4, 0, 4, 2, 1, 6, 0, 1, 2, 5, 0, 8, 1, 1, 7, 8, 6, 5, 9, 0,\n",
       "          8, 3, 4, 4, 2, 7, 0, 7]), tensor([3, 3, 2, 3, 7, 1, 6, 2, 3, 3, 0, 0, 6, 4, 8, 7, 0, 3, 0, 4, 7, 3, 3, 6,\n",
       "          0, 2, 4, 4, 1, 8, 1, 9]), tensor([1, 2, 6, 4, 6, 3, 3, 3, 5, 3, 5, 8, 3, 9, 7, 3, 0, 6, 1, 0, 1, 0, 7, 7,\n",
       "          4, 8, 9, 6, 1, 5, 4, 9]), tensor([4, 7, 9, 9, 9, 0, 1, 0, 9, 9, 5, 1, 7, 2, 9, 3, 5, 6, 8, 1, 5, 4, 3, 8,\n",
       "          4, 7, 8, 8, 9, 8, 8, 4]), tensor([5, 0, 4, 5, 9, 0, 0, 5, 3, 7, 7, 4, 4, 7, 4, 5, 8, 3, 7, 2, 7, 3, 8, 8,\n",
       "          8, 7, 8, 6, 0, 5, 7, 9]), tensor([8, 5, 6, 0, 6, 2, 4, 2, 8, 9, 9, 1, 9, 5, 8, 4, 4, 8, 4, 8, 7, 2, 8, 3,\n",
       "          0, 7, 8, 8, 4, 9, 9, 5]), tensor([9, 2, 6, 9, 7, 5, 7, 4, 9, 9, 2, 3, 9, 5, 3, 5, 3, 1, 4, 9, 1, 2, 8, 5,\n",
       "          1, 7, 9, 0, 3, 3, 6, 9]), tensor([0, 4, 0, 0, 0, 2, 9, 7, 1, 9, 8, 5, 6, 8, 5, 9, 5, 2, 4, 2, 5, 2, 2, 5,\n",
       "          4, 2, 7, 1, 0, 6, 4, 4]), tensor([5, 6, 4, 6, 7, 5, 5, 1, 5, 2, 4, 4, 6, 4, 1, 9, 0, 7, 2, 7, 4, 2, 9, 7,\n",
       "          4, 4, 6, 1, 7, 1, 4, 7]), tensor([0, 1, 7, 3, 0, 3, 8, 6, 6, 0, 4, 1, 7, 9, 0, 2, 9, 2, 0, 7, 1, 7, 5, 2,\n",
       "          9, 8, 2, 4, 0, 3, 1, 2]), tensor([2, 8, 1, 0, 8, 1, 8, 1, 0, 1, 4, 7, 3, 7, 7, 3, 3, 9, 9, 0, 8, 2, 5, 8,\n",
       "          9, 2, 3, 5, 4, 1, 0, 9]), tensor([4, 3, 2, 6, 1, 8, 1, 3, 4, 0, 2, 1, 7, 0, 5, 3, 5, 3, 6, 4, 1, 6, 0, 7,\n",
       "          3, 6, 2, 3, 4, 4, 5, 2]), tensor([9, 6, 8, 0, 4, 4, 0, 1, 7, 5, 2, 3, 3, 2, 0, 3, 5, 2, 6, 2, 5, 1, 4, 2,\n",
       "          2, 1, 9, 3, 4, 6, 9, 5]), tensor([8, 0, 0, 3, 6, 0, 8, 1, 2, 3, 3, 1, 5, 5, 3, 2, 6, 7, 1, 3, 2, 3, 0, 0,\n",
       "          2, 4, 8, 0, 8, 3, 7, 0]), tensor([3, 1, 3, 8, 3, 6, 1, 2, 6, 3, 6, 7, 7, 8, 3, 6, 9, 5, 6, 0, 9, 5, 4, 3,\n",
       "          8, 7, 3, 8, 3, 7, 9, 0]), tensor([2, 5, 1, 0, 5, 6, 3, 5, 7, 9, 6, 0, 7, 1, 2, 0, 8, 0, 2, 2, 7, 8, 3, 6,\n",
       "          4, 6, 9, 7, 3, 2, 5, 4]), tensor([5, 1, 9, 5, 0, 5, 2, 4, 1, 7, 9, 0, 4, 3, 4, 9, 1, 0, 1, 9, 5, 6, 8, 2,\n",
       "          4, 1, 4, 0, 6, 7, 9, 0]), tensor([6, 1, 4, 3, 6, 9, 8, 1, 3, 7, 3, 9, 9, 5, 4, 2, 3, 6, 8, 8, 5, 5, 1, 8,\n",
       "          8, 5, 7, 9, 9, 3, 4, 4]), tensor([6, 7, 9, 4, 6, 7, 5, 4, 7, 6, 1, 4, 6, 2, 0, 9, 0, 0, 5, 1, 1, 7, 8, 3,\n",
       "          6, 6, 2, 0, 0, 4, 9, 5]), tensor([2, 4, 4, 4, 0, 1, 5, 2, 7, 8, 6, 7, 7, 0, 8, 4, 3, 6, 9, 1, 2, 1, 7, 4,\n",
       "          3, 6, 9, 9, 6, 4, 4, 3]), tensor([0, 5, 7, 5, 2, 7, 8, 9, 9, 2, 7, 8, 7, 7, 5, 8, 7, 6, 6, 9, 0, 1, 8, 7,\n",
       "          5, 6, 5, 3, 7, 4, 6, 5]), tensor([5, 6, 9, 9, 1, 9, 5, 9, 4, 4, 1, 9, 8, 3, 5, 1, 8, 6, 5, 0, 2, 3, 7, 1,\n",
       "          1, 1, 8, 7, 5, 6, 3, 4]), tensor([7, 0, 0, 5, 3, 4, 8, 6, 5, 2, 7, 3, 2, 3, 2, 7, 8, 0, 7, 0, 9, 5, 8, 0,\n",
       "          7, 3, 5, 0, 9, 7, 3, 0]), tensor([6, 5, 7, 8, 4, 3, 1, 9, 0, 2, 9, 1, 3, 4, 4, 3, 0, 6, 2, 4, 8, 6, 4, 9,\n",
       "          5, 6, 1, 8, 2, 4, 1, 6]), tensor([2, 9, 4, 3, 7, 9, 6, 3, 5, 4, 5, 9, 8, 5, 3, 0, 1, 2, 4, 4, 1, 9, 4, 4,\n",
       "          0, 5, 5, 4, 6, 2, 0, 1]), tensor([4, 9, 9, 7, 0, 1, 2, 0, 0, 4, 6, 6, 5, 9, 4, 8, 4, 6, 1, 5, 9, 4, 1, 8,\n",
       "          9, 3, 1, 7, 1, 1, 1, 9]), tensor([1, 3, 8, 9, 9, 1, 9, 6, 0, 5, 8, 5, 5, 9, 3, 8, 9, 4, 7, 8, 2, 9, 2, 0,\n",
       "          1, 5, 0, 7, 8, 0, 0, 9]), tensor([1, 1, 8, 2, 8, 7, 2, 0, 7, 2, 0, 0, 5, 1, 6, 8, 2, 3, 7, 6, 1, 9, 7, 6,\n",
       "          1, 3, 9, 2, 4, 0, 3, 7]), tensor([5, 1, 1, 9, 5, 1, 5, 4, 6, 6, 1, 5, 2, 1, 6, 2, 5, 9, 9, 4, 3, 4, 1, 7,\n",
       "          9, 0, 5, 7, 3, 3, 8, 4]), tensor([1, 8, 2, 7, 4, 4, 8, 9, 2, 9, 3, 2, 6, 1, 1, 0, 4, 1, 6, 9, 8, 5, 9, 1,\n",
       "          5, 0, 9, 3, 2, 1, 7, 2]), tensor([9, 8, 8, 9, 5, 5, 3, 8, 6, 0, 3, 6, 1, 1, 9, 0, 9, 7, 5, 3, 2, 9, 5, 5,\n",
       "          4, 6, 9, 9, 3, 0, 6, 4]), tensor([1, 7, 4, 9, 2, 8, 5, 8, 6, 0, 1, 3, 2, 2, 3, 6, 6, 0, 2, 8, 3, 2, 8, 0,\n",
       "          1, 8, 3, 5, 4, 2, 3, 9]), tensor([6, 4, 3, 4, 5, 4, 2, 7, 3, 7, 3, 3, 6, 9, 4, 8, 5, 6, 0, 3, 6, 7, 2, 5,\n",
       "          3, 1, 1, 9, 7, 5, 4, 2]), tensor([1, 6, 4, 5, 9, 2, 5, 5, 3, 3, 0, 9, 2, 4, 6, 3, 2, 4, 9, 4, 3, 0, 4, 2,\n",
       "          0, 4, 1, 3, 9, 2, 6, 2]), tensor([2, 3, 2, 3, 0, 8, 3, 5, 1, 2, 3, 8, 2, 1, 2, 1, 1, 9, 6, 5, 9, 0, 8, 0,\n",
       "          3, 2, 3, 8, 3, 7, 5, 6]), tensor([1, 1, 2, 0, 5, 5, 0, 1, 0, 5, 2, 8, 9, 7, 9, 1, 1, 3, 3, 5, 6, 7, 5, 9,\n",
       "          6, 9, 3, 0, 6, 2, 8, 5]), tensor([6, 5, 9, 8, 3, 8, 1, 3, 1, 4, 5, 6, 5, 4, 4, 9, 2, 7, 1, 4, 8, 3, 7, 7,\n",
       "          6, 7, 9, 4, 7, 7, 0, 1]), tensor([6, 1, 4, 8, 2, 4, 7, 6, 7, 1, 8, 7, 5, 1, 3, 1, 0, 3, 6, 5, 3, 8, 6, 3,\n",
       "          4, 9, 0, 1, 5, 3, 0, 7]), tensor([0, 6, 4, 5, 1, 6, 6, 2, 8, 3, 9, 8, 0, 7, 2, 6, 2, 5, 1, 9, 8, 3, 8, 7,\n",
       "          1, 8, 1, 2, 0, 9, 2, 4]), tensor([3, 4, 6, 1, 3, 5, 2, 9, 5, 5, 0, 7, 5, 5, 6, 4, 8, 0, 7, 0, 8, 4, 2, 1,\n",
       "          9, 7, 7, 3, 8, 0, 3, 0]), tensor([9, 8, 5, 6, 4, 8, 1, 5, 5, 7, 0, 1, 6, 1, 3, 4, 6, 4, 2, 1, 7, 6, 2, 2,\n",
       "          6, 1, 8, 2, 4, 6, 3, 0]), tensor([8, 8, 4, 6, 2, 0, 7, 0, 8, 9, 1, 4, 6, 7, 0, 8, 1, 8, 2, 6, 6, 7, 8, 7,\n",
       "          9, 9, 3, 9, 4, 4, 0, 6]), tensor([1, 3, 8, 6, 4, 7, 0, 2, 2, 9, 1, 8, 0, 0, 2, 6, 0, 3, 6, 6, 1, 3, 6, 3,\n",
       "          4, 1, 7, 8, 1, 0, 7, 3]), tensor([5, 0, 8, 2, 8, 5, 8, 7, 8, 4, 5, 9, 5, 5, 1, 4, 4, 7, 2, 9, 7, 8, 0, 7,\n",
       "          4, 6, 3, 8, 8, 4, 5, 1]), tensor([8, 4, 4, 2, 2, 9, 8, 9, 0, 2, 5, 9, 3, 5, 9, 8, 6, 3, 9, 5, 9, 3, 0, 8,\n",
       "          6, 0, 0, 3, 5, 8, 0, 0]), tensor([1, 8, 6, 9, 0, 0, 7, 6, 0, 8, 7, 6, 8, 8, 2, 0, 3, 6, 7, 1, 3, 7, 4, 3,\n",
       "          7, 1, 0, 5, 2, 0, 7, 9]), tensor([6, 0, 8, 2, 1, 1, 8, 8, 3, 5, 7, 5, 4, 9, 4, 3, 9, 3, 8, 9, 0, 4, 0, 4,\n",
       "          5, 7, 0, 4, 3, 9, 5, 7]), tensor([2, 0, 5, 8, 3, 1, 3, 5, 4, 9, 4, 3, 9, 7, 2, 0, 8, 0, 9, 1, 9, 9, 0, 7,\n",
       "          1, 4, 7, 0, 3, 8, 7, 2]), tensor([7, 5, 9, 3, 2, 0, 0, 9, 0, 5, 0, 1, 3, 7, 9, 1, 5, 9, 3, 0, 9, 7, 2, 9,\n",
       "          2, 1, 2, 7, 5, 1, 0, 7]), tensor([3, 4, 7, 6, 4, 6, 8, 5, 7, 9, 5, 7, 3, 3, 3, 9, 3, 3, 1, 5, 6, 9, 7, 4,\n",
       "          0, 0, 5, 8, 0, 7, 7, 3]), tensor([2, 0, 4, 8, 2, 0, 4, 9, 8, 9, 0, 5, 0, 6, 0, 2, 6, 3, 1, 8, 7, 4, 1, 9,\n",
       "          1, 2, 6, 5, 2, 3, 0, 0]), tensor([2, 6, 0, 7, 2, 1, 8, 2, 8, 7, 9, 2, 1, 3, 5, 7, 7, 3, 2, 5, 7, 3, 6, 7,\n",
       "          3, 2, 6, 9, 6, 7, 3, 9]), tensor([1, 2, 1, 9, 7, 2, 3, 3, 8, 1, 8, 3, 5, 0, 5, 3, 8, 5, 7, 4, 9, 0, 6, 8,\n",
       "          4, 2, 6, 3, 6, 3, 7, 8]), tensor([7, 1, 3, 7, 6, 9, 5, 5, 2, 4, 4, 5, 0, 8, 6, 0, 6, 0, 8, 8, 9, 6, 9, 1,\n",
       "          5, 1, 2, 1, 3, 2, 2, 2]), tensor([4, 5, 7, 5, 9, 2, 0, 5, 7, 0, 5, 6, 5, 6, 0, 4, 0, 7, 1, 5, 6, 9, 8, 1,\n",
       "          7, 6, 4, 4, 0, 7, 1, 8]), tensor([5, 7, 8, 5, 5, 1, 8, 5, 7, 7, 7, 6, 5, 2, 2, 1, 2, 3, 4, 1, 0, 0, 9, 1,\n",
       "          8, 2, 4, 7, 4, 9, 5, 9]), tensor([4, 3, 9, 5, 6, 4, 2, 7, 3, 9, 3, 0, 5, 9, 0, 9, 6, 6, 6, 5, 7, 1, 6, 5,\n",
       "          4, 0, 2, 3, 1, 1, 1, 5]), tensor([6, 2, 2, 5, 9, 8, 7, 9, 3, 4, 7, 9, 2, 0, 1, 1, 1, 4, 8, 0, 8, 0, 9, 5,\n",
       "          6, 7, 0, 8, 2, 4, 4, 2]), tensor([2, 2, 5, 7, 4, 9, 9, 2, 2, 2, 0, 7, 4, 5, 2, 3, 3, 1, 9, 8, 1, 8, 6, 2,\n",
       "          3, 9, 1, 9, 7, 6, 9, 0]), tensor([9, 3, 0, 4, 0, 0, 4, 6, 0, 9, 6, 1, 1, 0, 5, 6, 7, 0, 4, 1, 1, 7, 0, 0,\n",
       "          1, 9, 6, 7, 3, 5, 4, 1]), tensor([6, 0, 4, 0, 3, 0, 2, 3, 5, 9, 5, 8, 9, 3, 1, 7, 8, 9, 4, 1, 1, 9, 0, 7,\n",
       "          0, 0, 9, 6, 0, 2, 9, 2]), tensor([8, 5, 5, 9, 3, 3, 5, 7, 1, 3, 3, 3, 5, 6, 0, 4, 1, 1, 9, 1, 4, 0, 6, 2,\n",
       "          2, 6, 6, 0, 3, 5, 0, 3]), tensor([0, 5, 1, 1, 8, 2, 5, 3, 5, 1, 6, 4, 3, 1, 2, 7, 9, 6, 3, 8, 5, 4, 4, 9,\n",
       "          1, 5, 7, 7, 6, 2, 2, 7]), tensor([5, 4, 1, 5, 7, 7, 8, 4, 8, 3, 7, 4, 0, 2, 9, 9, 0, 0, 7, 3, 1, 0, 8, 2,\n",
       "          4, 4, 4, 7, 1, 8, 4, 0]), tensor([3, 4, 0, 0, 9, 8, 0, 0, 8, 3, 9, 2, 1, 5, 4, 5, 0, 8, 4, 2, 5, 9, 3, 0,\n",
       "          4, 7, 8, 5, 9, 5, 0, 0]), tensor([6, 9, 7, 2, 9, 2, 2, 2, 4, 0, 1, 4, 3, 9, 4, 0, 3, 4, 2, 6, 9, 4, 7, 6,\n",
       "          5, 4, 3, 4, 5, 7, 0, 2]), tensor([1, 1, 8, 7, 3, 2, 0, 5, 2, 3, 8, 8, 8, 9, 6, 0, 9, 6, 0, 3, 6, 4, 2, 8,\n",
       "          8, 5, 9, 6, 7, 1, 9, 0]), tensor([3, 3, 3, 2, 3, 9, 9, 5, 3, 0, 4, 2, 4, 6, 4, 5, 3, 4, 9, 8, 5, 8, 3, 4,\n",
       "          1, 4, 8, 9, 2, 6, 2, 3]), tensor([5, 6, 3, 5, 2, 5, 3, 9, 1, 2, 9, 8, 9, 3, 8, 8, 5, 5, 8, 4, 4, 0, 8, 3,\n",
       "          0, 4, 9, 6, 1, 0, 5, 1]), tensor([4, 3, 9, 2, 6, 3, 6, 7, 6, 6, 4, 3, 8, 5, 1, 8, 3, 4, 4, 5, 0, 0, 5, 8,\n",
       "          7, 4, 4, 2, 2, 9, 3, 5]), tensor([0, 9, 9, 0, 1, 3, 7, 1, 9, 6, 5, 2, 6, 9, 5, 7, 9, 4, 2, 8, 3, 1, 7, 8,\n",
       "          8, 6, 8, 0, 5, 5, 7, 1]), tensor([9, 6, 2, 1, 5, 1, 9, 0, 1, 0, 3, 2, 5, 3, 9, 3, 5, 4, 0, 6, 9, 5, 6, 2,\n",
       "          3, 8, 5, 8, 3, 6, 4, 1]), tensor([4, 9, 5, 8, 9, 5, 3, 6, 9, 5, 9, 1, 1, 1, 8, 4, 1, 6, 6, 9, 9, 8, 9, 7,\n",
       "          4, 4, 1, 9, 9, 1, 9, 6]), tensor([2, 3, 7, 3, 1, 3, 6, 8, 3, 4, 3, 3, 8, 3, 7, 1, 0, 3, 8, 4, 7, 9, 6, 0,\n",
       "          3, 0, 4, 5, 7, 0, 7, 0]), tensor([5, 0, 2, 6, 3, 3, 0, 0, 4, 4, 4, 4, 4, 9, 9, 0, 7, 4, 0, 2, 2, 1, 9, 5,\n",
       "          9, 9, 0, 5, 8, 6, 7, 3]), tensor([9, 5, 2, 8, 9, 5, 8, 0, 0, 4, 0, 0, 3, 7, 8, 0, 1, 2, 2, 6, 1, 1, 3, 2,\n",
       "          2, 5, 4, 3, 9, 3, 4, 2]), tensor([3, 7, 2, 9, 2, 1, 6, 7, 5, 5, 9, 2, 0, 9, 7, 9, 7, 4, 1, 8, 3, 3, 8, 0,\n",
       "          8, 7, 0, 7, 7, 9, 6, 4]), tensor([0, 3, 7, 2, 1, 5, 2, 0, 5, 8, 6, 7, 0, 1, 0, 5, 6, 2, 1, 4, 1, 8, 7, 9,\n",
       "          9, 7, 3, 6, 2, 4, 7, 6]), tensor([3, 9, 6, 3, 9, 5, 1, 6, 7, 0, 7, 4, 3, 5, 7, 2, 7, 2, 8, 7, 5, 4, 5, 9,\n",
       "          4, 3, 5, 0, 2, 5, 5, 3]), tensor([1, 9, 3, 7, 1, 0, 3, 4, 6, 2, 5, 9, 2, 1, 1, 7, 7, 9, 0, 1, 6, 8, 5, 2,\n",
       "          5, 0, 7, 8, 7, 7, 0, 8]), tensor([5, 0, 0, 5, 5, 6, 7, 7, 9, 7, 1, 0, 0, 8, 0, 4, 0, 6, 4, 5, 5, 0, 5, 3,\n",
       "          1, 4, 5, 0, 7, 1, 8, 7]), tensor([1, 6, 2, 0, 6, 7, 3, 7, 6, 8, 6, 3, 8, 4, 0, 3, 0, 8, 7, 3, 3, 0, 5, 6,\n",
       "          1, 5, 0, 9, 9, 1, 3, 0]), tensor([6, 1, 6, 6, 5, 5, 2, 4, 0, 9, 4, 6, 8, 2, 8, 3, 7, 7, 3, 3, 9, 5, 7, 3,\n",
       "          0, 9, 4, 5, 0, 7, 2, 9]), tensor([5, 5, 8, 5, 4, 9, 5, 6, 3, 0, 3, 0, 4, 7, 6, 4, 2, 5, 4, 1, 5, 7, 9, 5,\n",
       "          3, 9, 8, 8, 5, 1, 9, 6]), tensor([1, 0, 4, 8, 0, 7, 6, 9, 8, 8, 4, 3, 4, 1, 7, 7, 1, 1, 6, 7, 0, 3, 2, 8,\n",
       "          7, 8, 7, 9, 1, 1, 3, 8]), tensor([9, 5, 9, 1, 0, 6, 3, 4, 4, 4, 7, 1, 2, 0, 1, 5, 3, 4, 9, 2, 4, 2, 4, 0,\n",
       "          7, 7, 4, 7, 1, 4, 0, 8]), tensor([3, 3, 5, 6, 0, 8, 3, 0, 4, 0, 1, 8, 4, 0, 2, 7, 5, 4, 4, 5, 2, 1, 0, 4,\n",
       "          4, 5, 8, 0, 7, 3, 0, 6]), tensor([7, 6, 2, 3, 6, 3, 4, 0, 3, 4, 5, 1, 7, 5, 2, 5, 7, 9, 9, 9, 9, 2, 0, 9,\n",
       "          6, 0, 5, 5, 5, 0, 5, 6]), tensor([6, 6, 0, 6, 9, 9, 6, 3, 5, 4, 0, 1, 0, 8, 9, 5, 7, 3, 0, 6, 4, 1, 3, 8,\n",
       "          1, 8, 2, 6, 6, 9, 8, 5]), tensor([1, 6, 6, 0, 9, 0, 8, 8, 0, 7, 3, 6, 9, 8, 9, 9, 4, 9, 6, 3, 3, 4, 5, 0,\n",
       "          8, 0, 4, 6, 3, 0, 0, 0]), tensor([3, 3, 5, 9, 4, 7, 1, 5, 4, 1, 4, 1, 7, 9, 4, 6, 4, 5, 2, 9, 4, 9, 8, 8,\n",
       "          7, 6, 2, 3, 9, 3, 6, 7]), tensor([0, 2, 5, 0, 4, 1, 0, 5, 7, 3, 5, 9, 2, 3, 2, 8, 5, 8, 1, 9, 6, 7, 6, 7,\n",
       "          3, 6, 2, 5, 8, 8, 8, 8]), tensor([7, 4, 6, 5, 1, 5, 9, 6, 0, 9, 5, 8, 5, 7, 3, 9, 8, 3, 4, 6, 5, 5, 5, 1,\n",
       "          1, 5, 4, 1, 4, 5, 8, 2]), tensor([9, 6, 3, 3, 4, 0, 6, 4, 1, 1, 4, 7, 6, 9, 0, 2, 6, 8, 8, 8, 7, 7, 1, 2,\n",
       "          6, 6, 1, 6, 0, 2, 5, 8]), tensor([2, 4, 2, 3, 1, 5, 5, 4, 4, 0, 5, 6, 7, 0, 3, 4, 5, 5, 7, 5, 7, 0, 1, 1,\n",
       "          9, 7, 5, 0, 1, 9, 6, 3]), tensor([6, 5, 4, 0, 4, 5, 7, 2, 2, 2, 0, 5, 6, 4, 3, 7, 8, 6, 2, 6, 1, 1, 5, 5,\n",
       "          4, 5, 3, 6, 8, 5, 8, 8]), tensor([6, 1, 2, 3, 7, 6, 9, 0, 4, 5, 2, 3, 4, 9, 5, 5, 9, 4, 0, 4, 1, 1, 8, 9,\n",
       "          6, 4, 2, 3, 3, 0, 7, 1]), tensor([8, 8, 5, 0, 3, 7, 7, 1, 0, 1, 4, 1, 9, 0, 4, 1, 1, 0, 7, 3, 7, 3, 9, 0,\n",
       "          1, 8, 9, 0, 6, 6, 0, 9]), tensor([1, 0, 1, 2, 7, 8, 0, 5, 0, 8, 2, 5, 5, 1, 5, 9, 1, 8, 5, 3, 1, 2, 4, 0,\n",
       "          7, 3, 5, 4, 8, 0, 7, 1]), tensor([2, 3, 9, 8, 3, 8, 7, 7, 9, 7, 0, 9, 4, 0, 9, 6, 1, 9, 8, 6, 3, 7, 2, 9,\n",
       "          5, 4, 7, 1, 2, 1, 2, 3]), tensor([9, 6, 0, 5, 0, 0, 5, 5, 4, 0, 9, 9, 1, 0, 7, 7, 7, 4, 5, 1, 4, 0, 6, 3,\n",
       "          8, 9, 8, 4, 1, 0, 8, 3]), tensor([9, 8, 8, 7, 8, 3, 6, 0, 7, 4, 8, 0, 9, 9, 6, 5, 7, 6, 2, 1, 5, 3, 4, 3,\n",
       "          5, 5, 0, 8, 4, 7, 8, 9]), tensor([4, 2, 1, 7, 4, 6, 4, 9, 4, 3, 6, 0, 7, 7, 8, 0, 9, 1, 2, 6, 2, 9, 7, 1,\n",
       "          9, 9, 3, 3, 1, 4, 3, 5]), tensor([6, 3, 7, 4, 1, 4, 6, 6, 7, 5, 4, 6, 7, 7, 8, 1, 8, 1, 2, 2, 5, 5, 6, 1,\n",
       "          4, 6, 0, 1, 2, 0, 7, 6]), tensor([8, 8, 2, 8, 4, 5, 0, 0, 1, 7, 9, 7, 3, 5, 4, 0, 4, 8, 7, 1, 6, 8, 7, 6,\n",
       "          8, 6, 8, 2, 8, 0, 1, 5]), tensor([3, 8, 1, 7, 4, 9, 3, 7, 9, 5, 1, 8, 3, 0, 9, 0, 6, 2, 4, 2, 7, 6, 0, 9,\n",
       "          8, 8, 1, 5, 7, 7, 1, 9]), tensor([5, 4, 1, 0, 7, 8, 7, 3, 7, 0, 6, 5, 5, 1, 6, 5, 4, 0, 3, 2, 0, 4, 7, 8,\n",
       "          6, 4, 0, 1, 5, 3, 8, 3]), tensor([9, 7, 1, 7, 1, 0, 4, 8, 5, 0, 0, 6, 4, 1, 1, 2, 9, 0, 3, 2, 1, 3, 2, 7,\n",
       "          0, 1, 8, 5, 7, 0, 0, 5]), tensor([0, 4, 6, 2, 2, 5, 4, 1, 8, 2, 1, 5, 3, 8, 8, 9, 5, 0, 1, 8, 1, 4, 9, 0,\n",
       "          3, 1, 1, 4, 7, 8, 3, 4]), tensor([9, 0, 2, 8, 4, 8, 6, 9, 4, 7, 5, 0, 4, 0, 4, 5, 7, 3, 7, 4, 6, 6, 9, 3,\n",
       "          0, 5, 4, 1, 2, 1, 8, 1]), tensor([9, 4, 8, 9, 9, 3, 3, 7, 0, 0, 6, 1, 0, 4, 6, 4, 2, 2, 9, 0, 6, 0, 4, 0,\n",
       "          0, 1, 3, 6, 6, 5, 7, 9]), tensor([6, 6, 3, 7, 5, 1, 2, 7, 7, 5, 8, 0, 9, 1, 0, 1, 4, 9, 1, 6, 5, 3, 3, 0,\n",
       "          7, 1, 2, 7, 9, 3, 7, 6]), tensor([4, 6, 6, 7, 2, 7, 3, 1, 9, 8, 8, 7, 0, 1, 6, 0, 9, 7, 9, 9, 1, 2, 0, 4,\n",
       "          7, 4, 3, 4, 1, 7, 5, 7]), tensor([6, 9, 6, 0, 3, 1, 4, 7, 9, 3, 6, 7, 8, 4, 7, 4, 0, 8, 3, 0, 1, 7, 9, 6,\n",
       "          9, 1, 6, 6, 7, 1, 0, 6]), tensor([3, 7, 3, 1, 8, 2, 5, 9, 5, 8, 1, 0, 9, 0, 6, 4, 1, 1, 4, 7, 3, 0, 7, 5,\n",
       "          6, 9, 5, 4, 0, 4, 5, 6]), tensor([3, 8, 3, 8, 1, 1, 2, 4, 8, 1, 0, 8, 1, 8, 5, 3, 2, 7, 0, 2, 4, 9, 6, 2,\n",
       "          4, 9, 9, 6, 9, 9, 6, 7]), tensor([3, 4, 3, 3, 9, 4, 7, 7, 8, 1, 1, 0, 4, 5, 7, 9, 4, 7, 4, 7, 0, 6, 4, 9,\n",
       "          7, 7, 7, 5, 0, 1, 2, 3]), tensor([4, 6, 4, 0, 9, 8, 7, 8, 4, 2, 8, 9, 7, 1, 6, 5, 9, 9, 0, 1, 5, 1, 1, 3,\n",
       "          6, 7, 9, 8, 3, 3, 8, 5]), tensor([2, 4, 3, 6, 8, 0, 9, 6, 6, 9, 6, 1, 6, 8, 1, 8, 2, 1, 8, 1, 7, 1, 9, 1,\n",
       "          8, 3, 9, 4, 1, 0, 8, 4]), tensor([4, 6, 8, 4, 2, 5, 5, 0, 4, 6, 9, 8, 0, 1, 0, 0, 4, 8, 3, 4, 7, 7, 5, 9,\n",
       "          2, 5, 4, 4, 9, 9, 4, 8]), tensor([5, 6, 9, 3, 4, 0, 4, 8, 0, 1, 9, 2, 1, 4, 7, 0, 8, 5, 0, 4, 6, 4, 1, 1,\n",
       "          9, 8, 8, 9, 1, 2, 6, 0]), tensor([5, 2, 5, 0, 8, 3, 0, 3, 8, 6, 1, 5, 0, 3, 3, 1, 9, 2, 8, 7, 8, 2, 3, 6,\n",
       "          2, 5, 6, 9, 0, 7, 1, 1]), tensor([7, 9, 0, 1, 6, 7, 5, 4, 6, 3, 3, 2, 1, 0, 0, 9, 9, 8, 2, 9, 0, 2, 5, 4,\n",
       "          7, 2, 0, 5, 2, 0, 9, 3]), tensor([9, 0, 6, 3, 5, 3, 4, 3, 4, 6, 9, 8, 8, 0, 2, 0, 0, 3, 9, 4, 2, 8, 1, 9,\n",
       "          2, 6, 9, 0, 0, 2, 0, 0]), tensor([7, 0, 5, 0, 6, 3, 1, 3, 0, 9, 5, 4, 3, 7, 0, 6, 2, 9, 0, 7, 0, 5, 6, 8,\n",
       "          2, 1, 0, 0, 6, 5, 9, 4]), tensor([5, 0, 2, 0, 7, 4, 6, 8, 3, 3, 8, 0, 3, 8, 9, 4, 0, 8, 8, 4, 8, 0, 5, 7,\n",
       "          0, 3, 6, 8, 3, 5, 9, 2]), tensor([2, 8, 9, 4, 1, 6, 5, 5, 6, 2, 8, 2, 3, 6, 7, 4, 5, 3, 7, 4, 5, 8, 8, 3,\n",
       "          9, 5, 0, 6, 4, 6, 3, 6]), tensor([4, 7, 2, 5, 6, 5, 0, 3, 1, 7, 8, 6, 4, 7, 3, 3, 8, 0, 0, 9, 2, 8, 5, 4,\n",
       "          9, 6, 6, 4, 0, 0, 1, 1]), tensor([9, 2, 8, 2, 1, 9, 5, 8, 4, 8, 2, 3, 5, 6, 6, 4, 9, 6, 6, 2, 9, 8, 0, 5,\n",
       "          9, 2, 4, 5, 4, 1, 0, 7]), tensor([4, 4, 2, 5, 4, 6, 6, 0, 1, 5, 6, 0, 1, 9, 9, 5, 6, 5, 6, 9, 2, 6, 4, 5,\n",
       "          4, 8, 9, 0, 9, 5, 5, 5]), tensor([7, 9, 3, 3, 8, 4, 3, 9, 3, 1, 0, 2, 5, 6, 8, 7, 9, 7, 7, 7, 9, 2, 6, 0,\n",
       "          6, 7, 6, 1, 8, 0, 3, 8]), tensor([5, 0, 5, 6, 9, 1, 1, 2, 0, 8, 9, 7, 7, 5, 8, 6, 1, 4, 0, 1, 8, 4, 3, 4,\n",
       "          7, 9, 3, 7, 5, 5, 3, 9]), tensor([1, 2, 1, 6, 7, 8, 0, 9, 3, 4, 1, 1, 7, 8, 1, 0, 5, 9, 0, 0, 9, 5, 3, 8,\n",
       "          8, 2, 8, 5, 7, 0, 7, 0]), tensor([9, 6, 9, 2, 9, 4, 8, 5, 2, 0, 1, 6, 6, 6, 7, 4, 1, 7, 9, 8, 5, 7, 0, 6,\n",
       "          6, 2, 1, 3, 8, 0, 3, 2]), tensor([7, 5, 9, 1, 0, 4, 3, 7, 0, 6, 3, 1, 8, 4, 7, 2, 5, 9, 3, 1, 5, 1, 9, 2,\n",
       "          9, 6, 2, 2, 1, 8, 3, 9]), tensor([8, 4, 0, 4, 8, 4, 5, 1, 2, 2, 6, 4, 1, 8, 5, 7, 5, 7, 6, 5, 5, 7, 9, 9,\n",
       "          8, 2, 8, 2, 1, 3, 3, 4]), tensor([8, 9, 4, 0, 7, 3, 6, 8, 1, 6, 6, 1, 6, 5, 2, 9, 7, 2, 8, 7, 3, 7, 2, 1,\n",
       "          2, 1, 7, 4, 8, 8, 5, 0]), tensor([2, 3, 0, 1, 6, 6, 5, 0, 1, 5, 5, 2, 5, 1, 9, 8, 7, 1, 2, 7, 0, 9, 3, 1,\n",
       "          9, 0, 4, 6, 6, 5, 9, 9]), tensor([4, 2, 7, 1, 8, 1, 4, 2, 3, 7, 8, 4, 0, 4, 5, 1, 4, 9, 3, 5, 8, 0, 1, 9,\n",
       "          6, 7, 3, 7, 4, 4, 6, 0]), tensor([2, 1, 1, 3, 0, 7, 0, 5, 9, 8, 9, 3, 7, 9, 9, 4, 8, 8, 0, 1, 4, 4, 0, 2,\n",
       "          8, 1, 6, 1, 0, 3, 2, 7]), tensor([8, 7, 0, 4, 3, 4, 4, 5, 7, 9, 4, 5, 2, 4, 5, 0, 1, 7, 6, 7, 6, 0, 0, 3,\n",
       "          5, 1, 1, 2, 4, 6, 9, 8]), tensor([1, 0, 1, 6, 8, 5, 4, 0, 4, 0, 4, 9, 3, 8, 5, 4, 8, 6, 2, 8, 0, 4, 4, 0,\n",
       "          8, 7, 5, 2, 8, 9, 2, 9]), tensor([5, 9, 2, 1, 0, 4, 1, 7, 7, 1, 7, 3, 5, 8, 7, 2, 5, 1, 5, 6, 0, 0, 0, 1,\n",
       "          6, 4, 4, 8, 0, 3, 2, 0]), tensor([3, 5, 1, 3, 3, 0, 5, 1, 8, 3, 1, 8, 5, 8, 4, 2, 0, 3, 7, 8, 1, 3, 9, 0,\n",
       "          2, 8, 1, 4, 8, 8, 3, 0]), tensor([8, 5, 7, 5, 4, 7, 7, 0, 1, 8, 1, 7, 7, 0, 3, 1, 6, 5, 5, 3, 8, 9, 4, 0,\n",
       "          9, 5, 1, 7, 6, 1, 5, 2]), tensor([8, 3, 3, 0, 7, 1, 3, 4, 4, 5, 7, 0, 6, 7, 3, 3, 7, 8, 8, 2, 5, 6, 9, 7,\n",
       "          3, 6, 9, 3, 6, 5, 5, 6]), tensor([9, 1, 4, 1, 5, 6, 4, 1, 4, 0, 3, 3, 6, 3, 0, 8, 4, 7, 5, 5, 7, 0, 7, 9,\n",
       "          4, 4, 2, 9, 1, 9, 1, 8]), tensor([8, 8, 5, 8, 3, 8, 9, 3, 0, 0, 2, 1, 8, 4, 4, 0, 0, 9, 5, 3, 1, 5, 1, 3,\n",
       "          5, 0, 8, 2, 1, 7, 3, 0]), tensor([8, 2, 5, 0, 9, 0, 0, 4, 1, 2, 6, 4, 9, 1, 4, 9, 7, 4, 2, 6, 0, 9, 7, 8,\n",
       "          5, 0, 9, 0, 0, 0, 8, 1]), tensor([3, 2, 7, 5, 8, 6, 5, 6, 8, 9, 1, 9, 1, 8, 1, 5])], end_dim=-1\n",
       ")"
      ]
     },
     "execution_count": 111,
     "metadata": {},
     "output_type": "execute_result"
    }
   ],
   "source": [
    "torch.nn.Flatten(predictions)"
   ]
  },
  {
   "cell_type": "code",
   "execution_count": null,
   "metadata": {
    "id": "70EhPJ2hJJ37"
   },
   "outputs": [],
   "source": [
    "assert int(mlxtend.__version__.split('.')[1]) >= 19 , \"mlxtend.__version__ should be greater than 19\""
   ]
  },
  {
   "cell_type": "code",
   "execution_count": null,
   "metadata": {
    "colab": {
     "base_uri": "https://localhost:8080/"
    },
    "id": "vGGgHHXsJJ9v",
    "outputId": "4f63c00c-a132-4986-b50e-75e0d9abc77e"
   },
   "outputs": [
    {
     "data": {
      "text/plain": [
       "tensor([9, 2, 1,  ..., 8, 1, 5])"
      ]
     },
     "execution_count": 117,
     "metadata": {},
     "output_type": "execute_result"
    }
   ],
   "source": [
    "test_data.targets"
   ]
  },
  {
   "cell_type": "code",
   "execution_count": null,
   "metadata": {
    "id": "YTV57OG_UiY6"
   },
   "outputs": [],
   "source": []
  },
  {
   "cell_type": "markdown",
   "metadata": {
    "id": "FfJjDKHOUicS"
   },
   "source": [
    "# save and load the model"
   ]
  },
  {
   "cell_type": "code",
   "execution_count": 14,
   "metadata": {
    "colab": {
     "base_uri": "https://localhost:8080/"
    },
    "id": "DBQzMJIvUlqj",
    "outputId": "4931beab-13d5-4d59-a243-e17fac462a4a"
   },
   "outputs": [
    {
     "data": {
      "text/plain": [
       "<All keys matched successfully>"
      ]
     },
     "execution_count": 14,
     "metadata": {},
     "output_type": "execute_result"
    }
   ],
   "source": [
    "# save the model\n",
    "model_path = Path('saved_models')\n",
    "\n",
    "# making the path repeated running resistant.\n",
    "model_path.mkdir(parents=True,exist_ok=True)\n",
    "\n",
    "# creating the model name with .pth extension\n",
    "model_name = 'CNN_model1.pth'\n",
    "\n",
    "# model_save_path = model_path/model_name\n",
    "model_save_path = model_path/model_name\n",
    "\n",
    "# saving the model's state dict to saved_models directory.\n",
    "torch.save(obj=model1.state_dict(),\n",
    "           f=model_save_path)\n",
    "\n",
    "\n",
    "\n",
    "# instantiating the loaded_model with the model class with the same random seed\n",
    "torch.manual_seed(42)\n",
    "torch.cuda.manual_seed(42)\n",
    "\n",
    "loaded_model1 = VisionModelCNN1(i=1,o=len(class_names),h=10).to(device)\n",
    "\n",
    "# update this new model with the weights of our saved model\n",
    "loaded_model1.load_state_dict(torch.load(model_save_path))\n",
    "\n"
   ]
  },
  {
   "cell_type": "code",
   "execution_count": 17,
   "metadata": {
    "colab": {
     "base_uri": "https://localhost:8080/",
     "height": 66,
     "referenced_widgets": [
      "ee78ee35b0984ea3a370d9df40869428",
      "e4943100fef34f9188a2ef336b0ba17b",
      "712fa1d53be14d979d7cc500ac123e48",
      "435d247414954bf78d71698e9926eec2",
      "6aa0a01cda8f4a958cc867c6b7ff18af",
      "81a4114887664f39aebff325797f3098",
      "0e05d73809524788aa314f5ab812a56b",
      "166d6e74a7c04dd78e9432636355a615",
      "c2a677afa1594b0998254080c867ef61",
      "4a70c73e3fe047afbec1f4b2f72265c5",
      "92b70bae99764c1d9715fdf1777b515a"
     ]
    },
    "id": "lEcoZYDa_elT",
    "outputId": "80ce5dae-9d11-4322-fe15-06a460db5ee1"
   },
   "outputs": [
    {
     "data": {
      "application/vnd.jupyter.widget-view+json": {
       "model_id": "ee78ee35b0984ea3a370d9df40869428",
       "version_major": 2,
       "version_minor": 0
      },
      "text/plain": [
       "  0%|          | 0/313 [00:00<?, ?it/s]"
      ]
     },
     "metadata": {},
     "output_type": "display_data"
    },
    {
     "name": "stdout",
     "output_type": "stream",
     "text": [
      "Test Loss:0.33 | Test Accuracy:0.88 \n"
     ]
    }
   ],
   "source": [
    "# testing our loaded model\n",
    "torch.manual_seed(42)\n",
    "torch.cuda.manual_seed(42)\n",
    "\n",
    "loaded_model1.eval()\n",
    "\n",
    "with torch.inference_mode():\n",
    "  a_test_loss, a_test_accuracy = 0,0\n",
    "\n",
    "  for x_test,y_test in tqdm(test_dataloader):\n",
    "\n",
    "    # test logits, test prediction, test actuals\n",
    "    test_logits = loaded_model1(x_test)\n",
    "    test_predictions = test_logits.argmax(dim=1)\n",
    "    test_actuals = y_test\n",
    "    test_loss = loss(test_logits,test_actuals)\n",
    "    test_accuracy = accuracy(test_predictions,test_actuals)\n",
    "    a_test_loss += test_loss\n",
    "    a_test_accuracy += test_accuracy\n",
    "\n",
    "  # normalising\n",
    "  a_test_loss /= len(test_dataloader)\n",
    "  a_test_accuracy /= len(test_dataloader)\n",
    "\n",
    "  # print\n",
    "  print('Test Loss:{:.2f} | Test Accuracy:{:.2f} '.format(a_test_loss,a_test_accuracy))"
   ]
  },
  {
   "cell_type": "code",
   "execution_count": 18,
   "metadata": {
    "colab": {
     "base_uri": "https://localhost:8080/",
     "height": 66,
     "referenced_widgets": [
      "3913e72967884e8d8b08bc6f1b2971fd",
      "75df2d4a00c547739b0a13c9e61ee7d0",
      "e96a7f64e361400f8b04017f1bd7f155",
      "90e57471a17c4b70b33cf64f2150e861",
      "df6b26037c964abfb56541fb0afcd9f1",
      "40d803b7260d4ae9b5873ad3a1bb729d",
      "a5282bb142a5423f8bf6ea63de80daa5",
      "4f8aa4df96004430afcc872508185640",
      "b9e37cf91fad45f9b750b17701030814",
      "09173d0b556c4995aae2e6606a82dbee",
      "5a4d8ea84e43403895c1b5615fa64674"
     ]
    },
    "id": "ih3N0ce9EinF",
    "outputId": "3a122c39-26ac-4aaf-c3b9-ec34689feb5f"
   },
   "outputs": [
    {
     "data": {
      "application/vnd.jupyter.widget-view+json": {
       "model_id": "3913e72967884e8d8b08bc6f1b2971fd",
       "version_major": 2,
       "version_minor": 0
      },
      "text/plain": [
       "  0%|          | 0/313 [00:00<?, ?it/s]"
      ]
     },
     "metadata": {},
     "output_type": "display_data"
    },
    {
     "name": "stdout",
     "output_type": "stream",
     "text": [
      "Test Loss:0.33 | Test Accuracy:0.88 \n"
     ]
    }
   ],
   "source": [
    "# testing our original model\n",
    "torch.manual_seed(42)\n",
    "torch.cuda.manual_seed(42)\n",
    "\n",
    "model1.eval()\n",
    "\n",
    "with torch.inference_mode():\n",
    "  a_test_loss, a_test_accuracy = 0,0\n",
    "\n",
    "  for x_test,y_test in tqdm(test_dataloader):\n",
    "\n",
    "    # test logits, test prediction, test actuals\n",
    "    test_logits = model1(x_test)\n",
    "    test_predictions = test_logits.argmax(dim=1)\n",
    "    test_actuals = y_test\n",
    "    test_loss = loss(test_logits,test_actuals)\n",
    "    test_accuracy = accuracy(test_predictions,test_actuals)\n",
    "    a_test_loss += test_loss\n",
    "    a_test_accuracy += test_accuracy\n",
    "\n",
    "  # normalising\n",
    "  a_test_loss /= len(test_dataloader)\n",
    "  a_test_accuracy /= len(test_dataloader)\n",
    "\n",
    "  # print\n",
    "  print('Test Loss:{:.2f} | Test Accuracy:{:.2f} '.format(a_test_loss,a_test_accuracy))"
   ]
  },
  {
   "cell_type": "markdown",
   "metadata": {
    "id": "AjSTauYrE3TU"
   },
   "source": [
    "# conclusion: They are same so, we can move on now!"
   ]
  },
  {
   "cell_type": "code",
   "execution_count": null,
   "metadata": {
    "id": "NWmAbG6hE89U"
   },
   "outputs": [],
   "source": []
  },
  {
   "cell_type": "code",
   "execution_count": null,
   "metadata": {
    "id": "6kzAgmJXE8_9"
   },
   "outputs": [],
   "source": []
  },
  {
   "cell_type": "code",
   "execution_count": null,
   "metadata": {
    "id": "vw4R0VkBE3WG"
   },
   "outputs": [],
   "source": []
  }
 ],
 "metadata": {
  "colab": {
   "provenance": []
  },
  "kernelspec": {
   "display_name": "Python 3",
   "name": "python3"
  },
  "language_info": {
   "name": "python"
  },
  "widgets": {
   "application/vnd.jupyter.widget-state+json": {
    "02811464e9704e86ae75f935690f4551": {
     "model_module": "@jupyter-widgets/base",
     "model_module_version": "1.2.0",
     "model_name": "LayoutModel",
     "state": {
      "_model_module": "@jupyter-widgets/base",
      "_model_module_version": "1.2.0",
      "_model_name": "LayoutModel",
      "_view_count": null,
      "_view_module": "@jupyter-widgets/base",
      "_view_module_version": "1.2.0",
      "_view_name": "LayoutView",
      "align_content": null,
      "align_items": null,
      "align_self": null,
      "border": null,
      "bottom": null,
      "display": null,
      "flex": null,
      "flex_flow": null,
      "grid_area": null,
      "grid_auto_columns": null,
      "grid_auto_flow": null,
      "grid_auto_rows": null,
      "grid_column": null,
      "grid_gap": null,
      "grid_row": null,
      "grid_template_areas": null,
      "grid_template_columns": null,
      "grid_template_rows": null,
      "height": null,
      "justify_content": null,
      "justify_items": null,
      "left": null,
      "margin": null,
      "max_height": null,
      "max_width": null,
      "min_height": null,
      "min_width": null,
      "object_fit": null,
      "object_position": null,
      "order": null,
      "overflow": null,
      "overflow_x": null,
      "overflow_y": null,
      "padding": null,
      "right": null,
      "top": null,
      "visibility": null,
      "width": null
     }
    },
    "05dd4f0d2d464d1fa7e19cb3fa4e92c2": {
     "model_module": "@jupyter-widgets/controls",
     "model_module_version": "1.5.0",
     "model_name": "HBoxModel",
     "state": {
      "_dom_classes": [],
      "_model_module": "@jupyter-widgets/controls",
      "_model_module_version": "1.5.0",
      "_model_name": "HBoxModel",
      "_view_count": null,
      "_view_module": "@jupyter-widgets/controls",
      "_view_module_version": "1.5.0",
      "_view_name": "HBoxView",
      "box_style": "",
      "children": [
       "IPY_MODEL_7903b6711d824070a3aa6c9a94f38c1d",
       "IPY_MODEL_1d82fb17dab74345bda5301edab8c3bf",
       "IPY_MODEL_78907c502ce643cbb76a34d49c787032"
      ],
      "layout": "IPY_MODEL_9201753c3643433da15cfb72df9ac7d3"
     }
    },
    "09173d0b556c4995aae2e6606a82dbee": {
     "model_module": "@jupyter-widgets/base",
     "model_module_version": "1.2.0",
     "model_name": "LayoutModel",
     "state": {
      "_model_module": "@jupyter-widgets/base",
      "_model_module_version": "1.2.0",
      "_model_name": "LayoutModel",
      "_view_count": null,
      "_view_module": "@jupyter-widgets/base",
      "_view_module_version": "1.2.0",
      "_view_name": "LayoutView",
      "align_content": null,
      "align_items": null,
      "align_self": null,
      "border": null,
      "bottom": null,
      "display": null,
      "flex": null,
      "flex_flow": null,
      "grid_area": null,
      "grid_auto_columns": null,
      "grid_auto_flow": null,
      "grid_auto_rows": null,
      "grid_column": null,
      "grid_gap": null,
      "grid_row": null,
      "grid_template_areas": null,
      "grid_template_columns": null,
      "grid_template_rows": null,
      "height": null,
      "justify_content": null,
      "justify_items": null,
      "left": null,
      "margin": null,
      "max_height": null,
      "max_width": null,
      "min_height": null,
      "min_width": null,
      "object_fit": null,
      "object_position": null,
      "order": null,
      "overflow": null,
      "overflow_x": null,
      "overflow_y": null,
      "padding": null,
      "right": null,
      "top": null,
      "visibility": null,
      "width": null
     }
    },
    "09d7bea3d8bb4bc9a4dbf04c51191c66": {
     "model_module": "@jupyter-widgets/controls",
     "model_module_version": "1.5.0",
     "model_name": "HBoxModel",
     "state": {
      "_dom_classes": [],
      "_model_module": "@jupyter-widgets/controls",
      "_model_module_version": "1.5.0",
      "_model_name": "HBoxModel",
      "_view_count": null,
      "_view_module": "@jupyter-widgets/controls",
      "_view_module_version": "1.5.0",
      "_view_name": "HBoxView",
      "box_style": "",
      "children": [
       "IPY_MODEL_eb7a113670c845fe8cbb4a81498cc9c3",
       "IPY_MODEL_ef6227d2127c4be09a364c06af639b75",
       "IPY_MODEL_a8a62d59aede4cc58d22635fd5df77a1"
      ],
      "layout": "IPY_MODEL_d625a693e9cb4bf189bdfc89743e8752"
     }
    },
    "0c86eb234c3c4e1aa808d5448064fa0c": {
     "model_module": "@jupyter-widgets/controls",
     "model_module_version": "1.5.0",
     "model_name": "DescriptionStyleModel",
     "state": {
      "_model_module": "@jupyter-widgets/controls",
      "_model_module_version": "1.5.0",
      "_model_name": "DescriptionStyleModel",
      "_view_count": null,
      "_view_module": "@jupyter-widgets/base",
      "_view_module_version": "1.2.0",
      "_view_name": "StyleView",
      "description_width": ""
     }
    },
    "0e05d73809524788aa314f5ab812a56b": {
     "model_module": "@jupyter-widgets/controls",
     "model_module_version": "1.5.0",
     "model_name": "DescriptionStyleModel",
     "state": {
      "_model_module": "@jupyter-widgets/controls",
      "_model_module_version": "1.5.0",
      "_model_name": "DescriptionStyleModel",
      "_view_count": null,
      "_view_module": "@jupyter-widgets/base",
      "_view_module_version": "1.2.0",
      "_view_name": "StyleView",
      "description_width": ""
     }
    },
    "14c3e234e72742e1b42d3c381990e01d": {
     "model_module": "@jupyter-widgets/controls",
     "model_module_version": "1.5.0",
     "model_name": "ProgressStyleModel",
     "state": {
      "_model_module": "@jupyter-widgets/controls",
      "_model_module_version": "1.5.0",
      "_model_name": "ProgressStyleModel",
      "_view_count": null,
      "_view_module": "@jupyter-widgets/base",
      "_view_module_version": "1.2.0",
      "_view_name": "StyleView",
      "bar_color": null,
      "description_width": ""
     }
    },
    "166d6e74a7c04dd78e9432636355a615": {
     "model_module": "@jupyter-widgets/base",
     "model_module_version": "1.2.0",
     "model_name": "LayoutModel",
     "state": {
      "_model_module": "@jupyter-widgets/base",
      "_model_module_version": "1.2.0",
      "_model_name": "LayoutModel",
      "_view_count": null,
      "_view_module": "@jupyter-widgets/base",
      "_view_module_version": "1.2.0",
      "_view_name": "LayoutView",
      "align_content": null,
      "align_items": null,
      "align_self": null,
      "border": null,
      "bottom": null,
      "display": null,
      "flex": null,
      "flex_flow": null,
      "grid_area": null,
      "grid_auto_columns": null,
      "grid_auto_flow": null,
      "grid_auto_rows": null,
      "grid_column": null,
      "grid_gap": null,
      "grid_row": null,
      "grid_template_areas": null,
      "grid_template_columns": null,
      "grid_template_rows": null,
      "height": null,
      "justify_content": null,
      "justify_items": null,
      "left": null,
      "margin": null,
      "max_height": null,
      "max_width": null,
      "min_height": null,
      "min_width": null,
      "object_fit": null,
      "object_position": null,
      "order": null,
      "overflow": null,
      "overflow_x": null,
      "overflow_y": null,
      "padding": null,
      "right": null,
      "top": null,
      "visibility": null,
      "width": null
     }
    },
    "1d3fef1d55284985958e8c9c491edcf5": {
     "model_module": "@jupyter-widgets/controls",
     "model_module_version": "1.5.0",
     "model_name": "ProgressStyleModel",
     "state": {
      "_model_module": "@jupyter-widgets/controls",
      "_model_module_version": "1.5.0",
      "_model_name": "ProgressStyleModel",
      "_view_count": null,
      "_view_module": "@jupyter-widgets/base",
      "_view_module_version": "1.2.0",
      "_view_name": "StyleView",
      "bar_color": null,
      "description_width": ""
     }
    },
    "1d82fb17dab74345bda5301edab8c3bf": {
     "model_module": "@jupyter-widgets/controls",
     "model_module_version": "1.5.0",
     "model_name": "FloatProgressModel",
     "state": {
      "_dom_classes": [],
      "_model_module": "@jupyter-widgets/controls",
      "_model_module_version": "1.5.0",
      "_model_name": "FloatProgressModel",
      "_view_count": null,
      "_view_module": "@jupyter-widgets/controls",
      "_view_module_version": "1.5.0",
      "_view_name": "ProgressView",
      "bar_style": "success",
      "description": "",
      "description_tooltip": null,
      "layout": "IPY_MODEL_e2770909b1804c6383b9b7b016f68eec",
      "max": 3,
      "min": 0,
      "orientation": "horizontal",
      "style": "IPY_MODEL_f222223429314b62aea71eb652038cab",
      "value": 3
     }
    },
    "233253ffd09c453a8cd4dc191f9603e3": {
     "model_module": "@jupyter-widgets/base",
     "model_module_version": "1.2.0",
     "model_name": "LayoutModel",
     "state": {
      "_model_module": "@jupyter-widgets/base",
      "_model_module_version": "1.2.0",
      "_model_name": "LayoutModel",
      "_view_count": null,
      "_view_module": "@jupyter-widgets/base",
      "_view_module_version": "1.2.0",
      "_view_name": "LayoutView",
      "align_content": null,
      "align_items": null,
      "align_self": null,
      "border": null,
      "bottom": null,
      "display": null,
      "flex": null,
      "flex_flow": null,
      "grid_area": null,
      "grid_auto_columns": null,
      "grid_auto_flow": null,
      "grid_auto_rows": null,
      "grid_column": null,
      "grid_gap": null,
      "grid_row": null,
      "grid_template_areas": null,
      "grid_template_columns": null,
      "grid_template_rows": null,
      "height": null,
      "justify_content": null,
      "justify_items": null,
      "left": null,
      "margin": null,
      "max_height": null,
      "max_width": null,
      "min_height": null,
      "min_width": null,
      "object_fit": null,
      "object_position": null,
      "order": null,
      "overflow": null,
      "overflow_x": null,
      "overflow_y": null,
      "padding": null,
      "right": null,
      "top": null,
      "visibility": null,
      "width": null
     }
    },
    "2d6799c8d35f46869585b129a8261175": {
     "model_module": "@jupyter-widgets/controls",
     "model_module_version": "1.5.0",
     "model_name": "DescriptionStyleModel",
     "state": {
      "_model_module": "@jupyter-widgets/controls",
      "_model_module_version": "1.5.0",
      "_model_name": "DescriptionStyleModel",
      "_view_count": null,
      "_view_module": "@jupyter-widgets/base",
      "_view_module_version": "1.2.0",
      "_view_name": "StyleView",
      "description_width": ""
     }
    },
    "3882a5671b7b4d02b5f7b65a757f6885": {
     "model_module": "@jupyter-widgets/controls",
     "model_module_version": "1.5.0",
     "model_name": "HTMLModel",
     "state": {
      "_dom_classes": [],
      "_model_module": "@jupyter-widgets/controls",
      "_model_module_version": "1.5.0",
      "_model_name": "HTMLModel",
      "_view_count": null,
      "_view_module": "@jupyter-widgets/controls",
      "_view_module_version": "1.5.0",
      "_view_name": "HTMLView",
      "description": "",
      "description_tooltip": null,
      "layout": "IPY_MODEL_02811464e9704e86ae75f935690f4551",
      "placeholder": "​",
      "style": "IPY_MODEL_2d6799c8d35f46869585b129a8261175",
      "value": "100%"
     }
    },
    "3913e72967884e8d8b08bc6f1b2971fd": {
     "model_module": "@jupyter-widgets/controls",
     "model_module_version": "1.5.0",
     "model_name": "HBoxModel",
     "state": {
      "_dom_classes": [],
      "_model_module": "@jupyter-widgets/controls",
      "_model_module_version": "1.5.0",
      "_model_name": "HBoxModel",
      "_view_count": null,
      "_view_module": "@jupyter-widgets/controls",
      "_view_module_version": "1.5.0",
      "_view_name": "HBoxView",
      "box_style": "",
      "children": [
       "IPY_MODEL_75df2d4a00c547739b0a13c9e61ee7d0",
       "IPY_MODEL_e96a7f64e361400f8b04017f1bd7f155",
       "IPY_MODEL_90e57471a17c4b70b33cf64f2150e861"
      ],
      "layout": "IPY_MODEL_df6b26037c964abfb56541fb0afcd9f1"
     }
    },
    "40d803b7260d4ae9b5873ad3a1bb729d": {
     "model_module": "@jupyter-widgets/base",
     "model_module_version": "1.2.0",
     "model_name": "LayoutModel",
     "state": {
      "_model_module": "@jupyter-widgets/base",
      "_model_module_version": "1.2.0",
      "_model_name": "LayoutModel",
      "_view_count": null,
      "_view_module": "@jupyter-widgets/base",
      "_view_module_version": "1.2.0",
      "_view_name": "LayoutView",
      "align_content": null,
      "align_items": null,
      "align_self": null,
      "border": null,
      "bottom": null,
      "display": null,
      "flex": null,
      "flex_flow": null,
      "grid_area": null,
      "grid_auto_columns": null,
      "grid_auto_flow": null,
      "grid_auto_rows": null,
      "grid_column": null,
      "grid_gap": null,
      "grid_row": null,
      "grid_template_areas": null,
      "grid_template_columns": null,
      "grid_template_rows": null,
      "height": null,
      "justify_content": null,
      "justify_items": null,
      "left": null,
      "margin": null,
      "max_height": null,
      "max_width": null,
      "min_height": null,
      "min_width": null,
      "object_fit": null,
      "object_position": null,
      "order": null,
      "overflow": null,
      "overflow_x": null,
      "overflow_y": null,
      "padding": null,
      "right": null,
      "top": null,
      "visibility": null,
      "width": null
     }
    },
    "42c09f169eb14793a2243e5b3d949fae": {
     "model_module": "@jupyter-widgets/controls",
     "model_module_version": "1.5.0",
     "model_name": "HTMLModel",
     "state": {
      "_dom_classes": [],
      "_model_module": "@jupyter-widgets/controls",
      "_model_module_version": "1.5.0",
      "_model_name": "HTMLModel",
      "_view_count": null,
      "_view_module": "@jupyter-widgets/controls",
      "_view_module_version": "1.5.0",
      "_view_name": "HTMLView",
      "description": "",
      "description_tooltip": null,
      "layout": "IPY_MODEL_9963ca37f8414e7b80ec9286a14f03c6",
      "placeholder": "​",
      "style": "IPY_MODEL_0c86eb234c3c4e1aa808d5448064fa0c",
      "value": " 313/313 [00:02&lt;00:00, 123.34it/s]"
     }
    },
    "435d247414954bf78d71698e9926eec2": {
     "model_module": "@jupyter-widgets/controls",
     "model_module_version": "1.5.0",
     "model_name": "HTMLModel",
     "state": {
      "_dom_classes": [],
      "_model_module": "@jupyter-widgets/controls",
      "_model_module_version": "1.5.0",
      "_model_name": "HTMLModel",
      "_view_count": null,
      "_view_module": "@jupyter-widgets/controls",
      "_view_module_version": "1.5.0",
      "_view_name": "HTMLView",
      "description": "",
      "description_tooltip": null,
      "layout": "IPY_MODEL_4a70c73e3fe047afbec1f4b2f72265c5",
      "placeholder": "​",
      "style": "IPY_MODEL_92b70bae99764c1d9715fdf1777b515a",
      "value": " 313/313 [00:04&lt;00:00, 78.05it/s]"
     }
    },
    "4a70c73e3fe047afbec1f4b2f72265c5": {
     "model_module": "@jupyter-widgets/base",
     "model_module_version": "1.2.0",
     "model_name": "LayoutModel",
     "state": {
      "_model_module": "@jupyter-widgets/base",
      "_model_module_version": "1.2.0",
      "_model_name": "LayoutModel",
      "_view_count": null,
      "_view_module": "@jupyter-widgets/base",
      "_view_module_version": "1.2.0",
      "_view_name": "LayoutView",
      "align_content": null,
      "align_items": null,
      "align_self": null,
      "border": null,
      "bottom": null,
      "display": null,
      "flex": null,
      "flex_flow": null,
      "grid_area": null,
      "grid_auto_columns": null,
      "grid_auto_flow": null,
      "grid_auto_rows": null,
      "grid_column": null,
      "grid_gap": null,
      "grid_row": null,
      "grid_template_areas": null,
      "grid_template_columns": null,
      "grid_template_rows": null,
      "height": null,
      "justify_content": null,
      "justify_items": null,
      "left": null,
      "margin": null,
      "max_height": null,
      "max_width": null,
      "min_height": null,
      "min_width": null,
      "object_fit": null,
      "object_position": null,
      "order": null,
      "overflow": null,
      "overflow_x": null,
      "overflow_y": null,
      "padding": null,
      "right": null,
      "top": null,
      "visibility": null,
      "width": null
     }
    },
    "4f8aa4df96004430afcc872508185640": {
     "model_module": "@jupyter-widgets/base",
     "model_module_version": "1.2.0",
     "model_name": "LayoutModel",
     "state": {
      "_model_module": "@jupyter-widgets/base",
      "_model_module_version": "1.2.0",
      "_model_name": "LayoutModel",
      "_view_count": null,
      "_view_module": "@jupyter-widgets/base",
      "_view_module_version": "1.2.0",
      "_view_name": "LayoutView",
      "align_content": null,
      "align_items": null,
      "align_self": null,
      "border": null,
      "bottom": null,
      "display": null,
      "flex": null,
      "flex_flow": null,
      "grid_area": null,
      "grid_auto_columns": null,
      "grid_auto_flow": null,
      "grid_auto_rows": null,
      "grid_column": null,
      "grid_gap": null,
      "grid_row": null,
      "grid_template_areas": null,
      "grid_template_columns": null,
      "grid_template_rows": null,
      "height": null,
      "justify_content": null,
      "justify_items": null,
      "left": null,
      "margin": null,
      "max_height": null,
      "max_width": null,
      "min_height": null,
      "min_width": null,
      "object_fit": null,
      "object_position": null,
      "order": null,
      "overflow": null,
      "overflow_x": null,
      "overflow_y": null,
      "padding": null,
      "right": null,
      "top": null,
      "visibility": null,
      "width": null
     }
    },
    "5048d7357960420e83a9f4eb0f6f181c": {
     "model_module": "@jupyter-widgets/controls",
     "model_module_version": "1.5.0",
     "model_name": "DescriptionStyleModel",
     "state": {
      "_model_module": "@jupyter-widgets/controls",
      "_model_module_version": "1.5.0",
      "_model_name": "DescriptionStyleModel",
      "_view_count": null,
      "_view_module": "@jupyter-widgets/base",
      "_view_module_version": "1.2.0",
      "_view_name": "StyleView",
      "description_width": ""
     }
    },
    "5a4d8ea84e43403895c1b5615fa64674": {
     "model_module": "@jupyter-widgets/controls",
     "model_module_version": "1.5.0",
     "model_name": "DescriptionStyleModel",
     "state": {
      "_model_module": "@jupyter-widgets/controls",
      "_model_module_version": "1.5.0",
      "_model_name": "DescriptionStyleModel",
      "_view_count": null,
      "_view_module": "@jupyter-widgets/base",
      "_view_module_version": "1.2.0",
      "_view_name": "StyleView",
      "description_width": ""
     }
    },
    "5bf96dcdb8ef45b5a20d4adedfcd3e1f": {
     "model_module": "@jupyter-widgets/base",
     "model_module_version": "1.2.0",
     "model_name": "LayoutModel",
     "state": {
      "_model_module": "@jupyter-widgets/base",
      "_model_module_version": "1.2.0",
      "_model_name": "LayoutModel",
      "_view_count": null,
      "_view_module": "@jupyter-widgets/base",
      "_view_module_version": "1.2.0",
      "_view_name": "LayoutView",
      "align_content": null,
      "align_items": null,
      "align_self": null,
      "border": null,
      "bottom": null,
      "display": null,
      "flex": null,
      "flex_flow": null,
      "grid_area": null,
      "grid_auto_columns": null,
      "grid_auto_flow": null,
      "grid_auto_rows": null,
      "grid_column": null,
      "grid_gap": null,
      "grid_row": null,
      "grid_template_areas": null,
      "grid_template_columns": null,
      "grid_template_rows": null,
      "height": null,
      "justify_content": null,
      "justify_items": null,
      "left": null,
      "margin": null,
      "max_height": null,
      "max_width": null,
      "min_height": null,
      "min_width": null,
      "object_fit": null,
      "object_position": null,
      "order": null,
      "overflow": null,
      "overflow_x": null,
      "overflow_y": null,
      "padding": null,
      "right": null,
      "top": null,
      "visibility": null,
      "width": null
     }
    },
    "5c959b1404c144c7a8aaaac9dde8fa36": {
     "model_module": "@jupyter-widgets/controls",
     "model_module_version": "1.5.0",
     "model_name": "DescriptionStyleModel",
     "state": {
      "_model_module": "@jupyter-widgets/controls",
      "_model_module_version": "1.5.0",
      "_model_name": "DescriptionStyleModel",
      "_view_count": null,
      "_view_module": "@jupyter-widgets/base",
      "_view_module_version": "1.2.0",
      "_view_name": "StyleView",
      "description_width": ""
     }
    },
    "63859e2ef38547719dd799fde0a524e7": {
     "model_module": "@jupyter-widgets/controls",
     "model_module_version": "1.5.0",
     "model_name": "FloatProgressModel",
     "state": {
      "_dom_classes": [],
      "_model_module": "@jupyter-widgets/controls",
      "_model_module_version": "1.5.0",
      "_model_name": "FloatProgressModel",
      "_view_count": null,
      "_view_module": "@jupyter-widgets/controls",
      "_view_module_version": "1.5.0",
      "_view_name": "ProgressView",
      "bar_style": "success",
      "description": "",
      "description_tooltip": null,
      "layout": "IPY_MODEL_96485d285c4440c6ae39e24a1e661bed",
      "max": 313,
      "min": 0,
      "orientation": "horizontal",
      "style": "IPY_MODEL_14c3e234e72742e1b42d3c381990e01d",
      "value": 313
     }
    },
    "6448eade01964aef9d19c7b988dc77f4": {
     "model_module": "@jupyter-widgets/base",
     "model_module_version": "1.2.0",
     "model_name": "LayoutModel",
     "state": {
      "_model_module": "@jupyter-widgets/base",
      "_model_module_version": "1.2.0",
      "_model_name": "LayoutModel",
      "_view_count": null,
      "_view_module": "@jupyter-widgets/base",
      "_view_module_version": "1.2.0",
      "_view_name": "LayoutView",
      "align_content": null,
      "align_items": null,
      "align_self": null,
      "border": null,
      "bottom": null,
      "display": null,
      "flex": null,
      "flex_flow": null,
      "grid_area": null,
      "grid_auto_columns": null,
      "grid_auto_flow": null,
      "grid_auto_rows": null,
      "grid_column": null,
      "grid_gap": null,
      "grid_row": null,
      "grid_template_areas": null,
      "grid_template_columns": null,
      "grid_template_rows": null,
      "height": null,
      "justify_content": null,
      "justify_items": null,
      "left": null,
      "margin": null,
      "max_height": null,
      "max_width": null,
      "min_height": null,
      "min_width": null,
      "object_fit": null,
      "object_position": null,
      "order": null,
      "overflow": null,
      "overflow_x": null,
      "overflow_y": null,
      "padding": null,
      "right": null,
      "top": null,
      "visibility": null,
      "width": null
     }
    },
    "6aa0a01cda8f4a958cc867c6b7ff18af": {
     "model_module": "@jupyter-widgets/base",
     "model_module_version": "1.2.0",
     "model_name": "LayoutModel",
     "state": {
      "_model_module": "@jupyter-widgets/base",
      "_model_module_version": "1.2.0",
      "_model_name": "LayoutModel",
      "_view_count": null,
      "_view_module": "@jupyter-widgets/base",
      "_view_module_version": "1.2.0",
      "_view_name": "LayoutView",
      "align_content": null,
      "align_items": null,
      "align_self": null,
      "border": null,
      "bottom": null,
      "display": null,
      "flex": null,
      "flex_flow": null,
      "grid_area": null,
      "grid_auto_columns": null,
      "grid_auto_flow": null,
      "grid_auto_rows": null,
      "grid_column": null,
      "grid_gap": null,
      "grid_row": null,
      "grid_template_areas": null,
      "grid_template_columns": null,
      "grid_template_rows": null,
      "height": null,
      "justify_content": null,
      "justify_items": null,
      "left": null,
      "margin": null,
      "max_height": null,
      "max_width": null,
      "min_height": null,
      "min_width": null,
      "object_fit": null,
      "object_position": null,
      "order": null,
      "overflow": null,
      "overflow_x": null,
      "overflow_y": null,
      "padding": null,
      "right": null,
      "top": null,
      "visibility": null,
      "width": null
     }
    },
    "6e667e80c1f34f9799075814619a2a11": {
     "model_module": "@jupyter-widgets/controls",
     "model_module_version": "1.5.0",
     "model_name": "DescriptionStyleModel",
     "state": {
      "_model_module": "@jupyter-widgets/controls",
      "_model_module_version": "1.5.0",
      "_model_name": "DescriptionStyleModel",
      "_view_count": null,
      "_view_module": "@jupyter-widgets/base",
      "_view_module_version": "1.2.0",
      "_view_name": "StyleView",
      "description_width": ""
     }
    },
    "6e6736f0f3904d16ba6afaff8d5d4c09": {
     "model_module": "@jupyter-widgets/controls",
     "model_module_version": "1.5.0",
     "model_name": "DescriptionStyleModel",
     "state": {
      "_model_module": "@jupyter-widgets/controls",
      "_model_module_version": "1.5.0",
      "_model_name": "DescriptionStyleModel",
      "_view_count": null,
      "_view_module": "@jupyter-widgets/base",
      "_view_module_version": "1.2.0",
      "_view_name": "StyleView",
      "description_width": ""
     }
    },
    "6ff62357ba984a8ab4ac6498efbf2efb": {
     "model_module": "@jupyter-widgets/controls",
     "model_module_version": "1.5.0",
     "model_name": "DescriptionStyleModel",
     "state": {
      "_model_module": "@jupyter-widgets/controls",
      "_model_module_version": "1.5.0",
      "_model_name": "DescriptionStyleModel",
      "_view_count": null,
      "_view_module": "@jupyter-widgets/base",
      "_view_module_version": "1.2.0",
      "_view_name": "StyleView",
      "description_width": ""
     }
    },
    "712fa1d53be14d979d7cc500ac123e48": {
     "model_module": "@jupyter-widgets/controls",
     "model_module_version": "1.5.0",
     "model_name": "FloatProgressModel",
     "state": {
      "_dom_classes": [],
      "_model_module": "@jupyter-widgets/controls",
      "_model_module_version": "1.5.0",
      "_model_name": "FloatProgressModel",
      "_view_count": null,
      "_view_module": "@jupyter-widgets/controls",
      "_view_module_version": "1.5.0",
      "_view_name": "ProgressView",
      "bar_style": "success",
      "description": "",
      "description_tooltip": null,
      "layout": "IPY_MODEL_166d6e74a7c04dd78e9432636355a615",
      "max": 313,
      "min": 0,
      "orientation": "horizontal",
      "style": "IPY_MODEL_c2a677afa1594b0998254080c867ef61",
      "value": 313
     }
    },
    "71e02ee5c9354c28bd7de491fac46092": {
     "model_module": "@jupyter-widgets/base",
     "model_module_version": "1.2.0",
     "model_name": "LayoutModel",
     "state": {
      "_model_module": "@jupyter-widgets/base",
      "_model_module_version": "1.2.0",
      "_model_name": "LayoutModel",
      "_view_count": null,
      "_view_module": "@jupyter-widgets/base",
      "_view_module_version": "1.2.0",
      "_view_name": "LayoutView",
      "align_content": null,
      "align_items": null,
      "align_self": null,
      "border": null,
      "bottom": null,
      "display": null,
      "flex": null,
      "flex_flow": null,
      "grid_area": null,
      "grid_auto_columns": null,
      "grid_auto_flow": null,
      "grid_auto_rows": null,
      "grid_column": null,
      "grid_gap": null,
      "grid_row": null,
      "grid_template_areas": null,
      "grid_template_columns": null,
      "grid_template_rows": null,
      "height": null,
      "justify_content": null,
      "justify_items": null,
      "left": null,
      "margin": null,
      "max_height": null,
      "max_width": null,
      "min_height": null,
      "min_width": null,
      "object_fit": null,
      "object_position": null,
      "order": null,
      "overflow": null,
      "overflow_x": null,
      "overflow_y": null,
      "padding": null,
      "right": null,
      "top": null,
      "visibility": null,
      "width": null
     }
    },
    "75df2d4a00c547739b0a13c9e61ee7d0": {
     "model_module": "@jupyter-widgets/controls",
     "model_module_version": "1.5.0",
     "model_name": "HTMLModel",
     "state": {
      "_dom_classes": [],
      "_model_module": "@jupyter-widgets/controls",
      "_model_module_version": "1.5.0",
      "_model_name": "HTMLModel",
      "_view_count": null,
      "_view_module": "@jupyter-widgets/controls",
      "_view_module_version": "1.5.0",
      "_view_name": "HTMLView",
      "description": "",
      "description_tooltip": null,
      "layout": "IPY_MODEL_40d803b7260d4ae9b5873ad3a1bb729d",
      "placeholder": "​",
      "style": "IPY_MODEL_a5282bb142a5423f8bf6ea63de80daa5",
      "value": "100%"
     }
    },
    "78907c502ce643cbb76a34d49c787032": {
     "model_module": "@jupyter-widgets/controls",
     "model_module_version": "1.5.0",
     "model_name": "HTMLModel",
     "state": {
      "_dom_classes": [],
      "_model_module": "@jupyter-widgets/controls",
      "_model_module_version": "1.5.0",
      "_model_name": "HTMLModel",
      "_view_count": null,
      "_view_module": "@jupyter-widgets/controls",
      "_view_module_version": "1.5.0",
      "_view_name": "HTMLView",
      "description": "",
      "description_tooltip": null,
      "layout": "IPY_MODEL_71e02ee5c9354c28bd7de491fac46092",
      "placeholder": "​",
      "style": "IPY_MODEL_f215e30bad4e46f18c2d538ddf53a6d6",
      "value": " 3/3 [00:29&lt;00:00,  9.72s/it]"
     }
    },
    "7903b6711d824070a3aa6c9a94f38c1d": {
     "model_module": "@jupyter-widgets/controls",
     "model_module_version": "1.5.0",
     "model_name": "HTMLModel",
     "state": {
      "_dom_classes": [],
      "_model_module": "@jupyter-widgets/controls",
      "_model_module_version": "1.5.0",
      "_model_name": "HTMLModel",
      "_view_count": null,
      "_view_module": "@jupyter-widgets/controls",
      "_view_module_version": "1.5.0",
      "_view_name": "HTMLView",
      "description": "",
      "description_tooltip": null,
      "layout": "IPY_MODEL_6448eade01964aef9d19c7b988dc77f4",
      "placeholder": "​",
      "style": "IPY_MODEL_5c959b1404c144c7a8aaaac9dde8fa36",
      "value": "100%"
     }
    },
    "7a89d77efbea43dc9af415d9e7172417": {
     "model_module": "@jupyter-widgets/base",
     "model_module_version": "1.2.0",
     "model_name": "LayoutModel",
     "state": {
      "_model_module": "@jupyter-widgets/base",
      "_model_module_version": "1.2.0",
      "_model_name": "LayoutModel",
      "_view_count": null,
      "_view_module": "@jupyter-widgets/base",
      "_view_module_version": "1.2.0",
      "_view_name": "LayoutView",
      "align_content": null,
      "align_items": null,
      "align_self": null,
      "border": null,
      "bottom": null,
      "display": null,
      "flex": null,
      "flex_flow": null,
      "grid_area": null,
      "grid_auto_columns": null,
      "grid_auto_flow": null,
      "grid_auto_rows": null,
      "grid_column": null,
      "grid_gap": null,
      "grid_row": null,
      "grid_template_areas": null,
      "grid_template_columns": null,
      "grid_template_rows": null,
      "height": null,
      "justify_content": null,
      "justify_items": null,
      "left": null,
      "margin": null,
      "max_height": null,
      "max_width": null,
      "min_height": null,
      "min_width": null,
      "object_fit": null,
      "object_position": null,
      "order": null,
      "overflow": null,
      "overflow_x": null,
      "overflow_y": null,
      "padding": null,
      "right": null,
      "top": null,
      "visibility": null,
      "width": null
     }
    },
    "7ba37f76788145fd94497e61e15e292b": {
     "model_module": "@jupyter-widgets/controls",
     "model_module_version": "1.5.0",
     "model_name": "HBoxModel",
     "state": {
      "_dom_classes": [],
      "_model_module": "@jupyter-widgets/controls",
      "_model_module_version": "1.5.0",
      "_model_name": "HBoxModel",
      "_view_count": null,
      "_view_module": "@jupyter-widgets/controls",
      "_view_module_version": "1.5.0",
      "_view_name": "HBoxView",
      "box_style": "",
      "children": [
       "IPY_MODEL_c379d8dc66004367b2626c6acaeb5dc7",
       "IPY_MODEL_63859e2ef38547719dd799fde0a524e7",
       "IPY_MODEL_42c09f169eb14793a2243e5b3d949fae"
      ],
      "layout": "IPY_MODEL_8a48eabc7e05458581df7c817cf8c632"
     }
    },
    "7c6df8da8e784351b0e994ec50e03049": {
     "model_module": "@jupyter-widgets/base",
     "model_module_version": "1.2.0",
     "model_name": "LayoutModel",
     "state": {
      "_model_module": "@jupyter-widgets/base",
      "_model_module_version": "1.2.0",
      "_model_name": "LayoutModel",
      "_view_count": null,
      "_view_module": "@jupyter-widgets/base",
      "_view_module_version": "1.2.0",
      "_view_name": "LayoutView",
      "align_content": null,
      "align_items": null,
      "align_self": null,
      "border": null,
      "bottom": null,
      "display": null,
      "flex": null,
      "flex_flow": null,
      "grid_area": null,
      "grid_auto_columns": null,
      "grid_auto_flow": null,
      "grid_auto_rows": null,
      "grid_column": null,
      "grid_gap": null,
      "grid_row": null,
      "grid_template_areas": null,
      "grid_template_columns": null,
      "grid_template_rows": null,
      "height": null,
      "justify_content": null,
      "justify_items": null,
      "left": null,
      "margin": null,
      "max_height": null,
      "max_width": null,
      "min_height": null,
      "min_width": null,
      "object_fit": null,
      "object_position": null,
      "order": null,
      "overflow": null,
      "overflow_x": null,
      "overflow_y": null,
      "padding": null,
      "right": null,
      "top": null,
      "visibility": null,
      "width": null
     }
    },
    "81a4114887664f39aebff325797f3098": {
     "model_module": "@jupyter-widgets/base",
     "model_module_version": "1.2.0",
     "model_name": "LayoutModel",
     "state": {
      "_model_module": "@jupyter-widgets/base",
      "_model_module_version": "1.2.0",
      "_model_name": "LayoutModel",
      "_view_count": null,
      "_view_module": "@jupyter-widgets/base",
      "_view_module_version": "1.2.0",
      "_view_name": "LayoutView",
      "align_content": null,
      "align_items": null,
      "align_self": null,
      "border": null,
      "bottom": null,
      "display": null,
      "flex": null,
      "flex_flow": null,
      "grid_area": null,
      "grid_auto_columns": null,
      "grid_auto_flow": null,
      "grid_auto_rows": null,
      "grid_column": null,
      "grid_gap": null,
      "grid_row": null,
      "grid_template_areas": null,
      "grid_template_columns": null,
      "grid_template_rows": null,
      "height": null,
      "justify_content": null,
      "justify_items": null,
      "left": null,
      "margin": null,
      "max_height": null,
      "max_width": null,
      "min_height": null,
      "min_width": null,
      "object_fit": null,
      "object_position": null,
      "order": null,
      "overflow": null,
      "overflow_x": null,
      "overflow_y": null,
      "padding": null,
      "right": null,
      "top": null,
      "visibility": null,
      "width": null
     }
    },
    "8a48eabc7e05458581df7c817cf8c632": {
     "model_module": "@jupyter-widgets/base",
     "model_module_version": "1.2.0",
     "model_name": "LayoutModel",
     "state": {
      "_model_module": "@jupyter-widgets/base",
      "_model_module_version": "1.2.0",
      "_model_name": "LayoutModel",
      "_view_count": null,
      "_view_module": "@jupyter-widgets/base",
      "_view_module_version": "1.2.0",
      "_view_name": "LayoutView",
      "align_content": null,
      "align_items": null,
      "align_self": null,
      "border": null,
      "bottom": null,
      "display": null,
      "flex": null,
      "flex_flow": null,
      "grid_area": null,
      "grid_auto_columns": null,
      "grid_auto_flow": null,
      "grid_auto_rows": null,
      "grid_column": null,
      "grid_gap": null,
      "grid_row": null,
      "grid_template_areas": null,
      "grid_template_columns": null,
      "grid_template_rows": null,
      "height": null,
      "justify_content": null,
      "justify_items": null,
      "left": null,
      "margin": null,
      "max_height": null,
      "max_width": null,
      "min_height": null,
      "min_width": null,
      "object_fit": null,
      "object_position": null,
      "order": null,
      "overflow": null,
      "overflow_x": null,
      "overflow_y": null,
      "padding": null,
      "right": null,
      "top": null,
      "visibility": null,
      "width": null
     }
    },
    "8e0bb62ebd4b497c99087d63cec0c90f": {
     "model_module": "@jupyter-widgets/base",
     "model_module_version": "1.2.0",
     "model_name": "LayoutModel",
     "state": {
      "_model_module": "@jupyter-widgets/base",
      "_model_module_version": "1.2.0",
      "_model_name": "LayoutModel",
      "_view_count": null,
      "_view_module": "@jupyter-widgets/base",
      "_view_module_version": "1.2.0",
      "_view_name": "LayoutView",
      "align_content": null,
      "align_items": null,
      "align_self": null,
      "border": null,
      "bottom": null,
      "display": null,
      "flex": null,
      "flex_flow": null,
      "grid_area": null,
      "grid_auto_columns": null,
      "grid_auto_flow": null,
      "grid_auto_rows": null,
      "grid_column": null,
      "grid_gap": null,
      "grid_row": null,
      "grid_template_areas": null,
      "grid_template_columns": null,
      "grid_template_rows": null,
      "height": null,
      "justify_content": null,
      "justify_items": null,
      "left": null,
      "margin": null,
      "max_height": null,
      "max_width": null,
      "min_height": null,
      "min_width": null,
      "object_fit": null,
      "object_position": null,
      "order": null,
      "overflow": null,
      "overflow_x": null,
      "overflow_y": null,
      "padding": null,
      "right": null,
      "top": null,
      "visibility": null,
      "width": null
     }
    },
    "90e57471a17c4b70b33cf64f2150e861": {
     "model_module": "@jupyter-widgets/controls",
     "model_module_version": "1.5.0",
     "model_name": "HTMLModel",
     "state": {
      "_dom_classes": [],
      "_model_module": "@jupyter-widgets/controls",
      "_model_module_version": "1.5.0",
      "_model_name": "HTMLModel",
      "_view_count": null,
      "_view_module": "@jupyter-widgets/controls",
      "_view_module_version": "1.5.0",
      "_view_name": "HTMLView",
      "description": "",
      "description_tooltip": null,
      "layout": "IPY_MODEL_09173d0b556c4995aae2e6606a82dbee",
      "placeholder": "​",
      "style": "IPY_MODEL_5a4d8ea84e43403895c1b5615fa64674",
      "value": " 313/313 [00:02&lt;00:00, 120.03it/s]"
     }
    },
    "9201753c3643433da15cfb72df9ac7d3": {
     "model_module": "@jupyter-widgets/base",
     "model_module_version": "1.2.0",
     "model_name": "LayoutModel",
     "state": {
      "_model_module": "@jupyter-widgets/base",
      "_model_module_version": "1.2.0",
      "_model_name": "LayoutModel",
      "_view_count": null,
      "_view_module": "@jupyter-widgets/base",
      "_view_module_version": "1.2.0",
      "_view_name": "LayoutView",
      "align_content": null,
      "align_items": null,
      "align_self": null,
      "border": null,
      "bottom": null,
      "display": null,
      "flex": null,
      "flex_flow": null,
      "grid_area": null,
      "grid_auto_columns": null,
      "grid_auto_flow": null,
      "grid_auto_rows": null,
      "grid_column": null,
      "grid_gap": null,
      "grid_row": null,
      "grid_template_areas": null,
      "grid_template_columns": null,
      "grid_template_rows": null,
      "height": null,
      "justify_content": null,
      "justify_items": null,
      "left": null,
      "margin": null,
      "max_height": null,
      "max_width": null,
      "min_height": null,
      "min_width": null,
      "object_fit": null,
      "object_position": null,
      "order": null,
      "overflow": null,
      "overflow_x": null,
      "overflow_y": null,
      "padding": null,
      "right": null,
      "top": null,
      "visibility": null,
      "width": null
     }
    },
    "92b70bae99764c1d9715fdf1777b515a": {
     "model_module": "@jupyter-widgets/controls",
     "model_module_version": "1.5.0",
     "model_name": "DescriptionStyleModel",
     "state": {
      "_model_module": "@jupyter-widgets/controls",
      "_model_module_version": "1.5.0",
      "_model_name": "DescriptionStyleModel",
      "_view_count": null,
      "_view_module": "@jupyter-widgets/base",
      "_view_module_version": "1.2.0",
      "_view_name": "StyleView",
      "description_width": ""
     }
    },
    "96485d285c4440c6ae39e24a1e661bed": {
     "model_module": "@jupyter-widgets/base",
     "model_module_version": "1.2.0",
     "model_name": "LayoutModel",
     "state": {
      "_model_module": "@jupyter-widgets/base",
      "_model_module_version": "1.2.0",
      "_model_name": "LayoutModel",
      "_view_count": null,
      "_view_module": "@jupyter-widgets/base",
      "_view_module_version": "1.2.0",
      "_view_name": "LayoutView",
      "align_content": null,
      "align_items": null,
      "align_self": null,
      "border": null,
      "bottom": null,
      "display": null,
      "flex": null,
      "flex_flow": null,
      "grid_area": null,
      "grid_auto_columns": null,
      "grid_auto_flow": null,
      "grid_auto_rows": null,
      "grid_column": null,
      "grid_gap": null,
      "grid_row": null,
      "grid_template_areas": null,
      "grid_template_columns": null,
      "grid_template_rows": null,
      "height": null,
      "justify_content": null,
      "justify_items": null,
      "left": null,
      "margin": null,
      "max_height": null,
      "max_width": null,
      "min_height": null,
      "min_width": null,
      "object_fit": null,
      "object_position": null,
      "order": null,
      "overflow": null,
      "overflow_x": null,
      "overflow_y": null,
      "padding": null,
      "right": null,
      "top": null,
      "visibility": null,
      "width": null
     }
    },
    "9963ca37f8414e7b80ec9286a14f03c6": {
     "model_module": "@jupyter-widgets/base",
     "model_module_version": "1.2.0",
     "model_name": "LayoutModel",
     "state": {
      "_model_module": "@jupyter-widgets/base",
      "_model_module_version": "1.2.0",
      "_model_name": "LayoutModel",
      "_view_count": null,
      "_view_module": "@jupyter-widgets/base",
      "_view_module_version": "1.2.0",
      "_view_name": "LayoutView",
      "align_content": null,
      "align_items": null,
      "align_self": null,
      "border": null,
      "bottom": null,
      "display": null,
      "flex": null,
      "flex_flow": null,
      "grid_area": null,
      "grid_auto_columns": null,
      "grid_auto_flow": null,
      "grid_auto_rows": null,
      "grid_column": null,
      "grid_gap": null,
      "grid_row": null,
      "grid_template_areas": null,
      "grid_template_columns": null,
      "grid_template_rows": null,
      "height": null,
      "justify_content": null,
      "justify_items": null,
      "left": null,
      "margin": null,
      "max_height": null,
      "max_width": null,
      "min_height": null,
      "min_width": null,
      "object_fit": null,
      "object_position": null,
      "order": null,
      "overflow": null,
      "overflow_x": null,
      "overflow_y": null,
      "padding": null,
      "right": null,
      "top": null,
      "visibility": null,
      "width": null
     }
    },
    "a5282bb142a5423f8bf6ea63de80daa5": {
     "model_module": "@jupyter-widgets/controls",
     "model_module_version": "1.5.0",
     "model_name": "DescriptionStyleModel",
     "state": {
      "_model_module": "@jupyter-widgets/controls",
      "_model_module_version": "1.5.0",
      "_model_name": "DescriptionStyleModel",
      "_view_count": null,
      "_view_module": "@jupyter-widgets/base",
      "_view_module_version": "1.2.0",
      "_view_name": "StyleView",
      "description_width": ""
     }
    },
    "a8a62d59aede4cc58d22635fd5df77a1": {
     "model_module": "@jupyter-widgets/controls",
     "model_module_version": "1.5.0",
     "model_name": "HTMLModel",
     "state": {
      "_dom_classes": [],
      "_model_module": "@jupyter-widgets/controls",
      "_model_module_version": "1.5.0",
      "_model_name": "HTMLModel",
      "_view_count": null,
      "_view_module": "@jupyter-widgets/controls",
      "_view_module_version": "1.5.0",
      "_view_name": "HTMLView",
      "description": "",
      "description_tooltip": null,
      "layout": "IPY_MODEL_5bf96dcdb8ef45b5a20d4adedfcd3e1f",
      "placeholder": "​",
      "style": "IPY_MODEL_6e667e80c1f34f9799075814619a2a11",
      "value": " 5/5 [01:14&lt;00:00, 15.23s/it]"
     }
    },
    "a9e42fb46a804f7d851913e1568eb617": {
     "model_module": "@jupyter-widgets/base",
     "model_module_version": "1.2.0",
     "model_name": "LayoutModel",
     "state": {
      "_model_module": "@jupyter-widgets/base",
      "_model_module_version": "1.2.0",
      "_model_name": "LayoutModel",
      "_view_count": null,
      "_view_module": "@jupyter-widgets/base",
      "_view_module_version": "1.2.0",
      "_view_name": "LayoutView",
      "align_content": null,
      "align_items": null,
      "align_self": null,
      "border": null,
      "bottom": null,
      "display": null,
      "flex": null,
      "flex_flow": null,
      "grid_area": null,
      "grid_auto_columns": null,
      "grid_auto_flow": null,
      "grid_auto_rows": null,
      "grid_column": null,
      "grid_gap": null,
      "grid_row": null,
      "grid_template_areas": null,
      "grid_template_columns": null,
      "grid_template_rows": null,
      "height": null,
      "justify_content": null,
      "justify_items": null,
      "left": null,
      "margin": null,
      "max_height": null,
      "max_width": null,
      "min_height": null,
      "min_width": null,
      "object_fit": null,
      "object_position": null,
      "order": null,
      "overflow": null,
      "overflow_x": null,
      "overflow_y": null,
      "padding": null,
      "right": null,
      "top": null,
      "visibility": null,
      "width": null
     }
    },
    "b9e37cf91fad45f9b750b17701030814": {
     "model_module": "@jupyter-widgets/controls",
     "model_module_version": "1.5.0",
     "model_name": "ProgressStyleModel",
     "state": {
      "_model_module": "@jupyter-widgets/controls",
      "_model_module_version": "1.5.0",
      "_model_name": "ProgressStyleModel",
      "_view_count": null,
      "_view_module": "@jupyter-widgets/base",
      "_view_module_version": "1.2.0",
      "_view_name": "StyleView",
      "bar_color": null,
      "description_width": ""
     }
    },
    "bf9efe2f4f394e3ba05531ff86e5e413": {
     "model_module": "@jupyter-widgets/controls",
     "model_module_version": "1.5.0",
     "model_name": "ProgressStyleModel",
     "state": {
      "_model_module": "@jupyter-widgets/controls",
      "_model_module_version": "1.5.0",
      "_model_name": "ProgressStyleModel",
      "_view_count": null,
      "_view_module": "@jupyter-widgets/base",
      "_view_module_version": "1.2.0",
      "_view_name": "StyleView",
      "bar_color": null,
      "description_width": ""
     }
    },
    "c2a677afa1594b0998254080c867ef61": {
     "model_module": "@jupyter-widgets/controls",
     "model_module_version": "1.5.0",
     "model_name": "ProgressStyleModel",
     "state": {
      "_model_module": "@jupyter-widgets/controls",
      "_model_module_version": "1.5.0",
      "_model_name": "ProgressStyleModel",
      "_view_count": null,
      "_view_module": "@jupyter-widgets/base",
      "_view_module_version": "1.2.0",
      "_view_name": "StyleView",
      "bar_color": null,
      "description_width": ""
     }
    },
    "c379d8dc66004367b2626c6acaeb5dc7": {
     "model_module": "@jupyter-widgets/controls",
     "model_module_version": "1.5.0",
     "model_name": "HTMLModel",
     "state": {
      "_dom_classes": [],
      "_model_module": "@jupyter-widgets/controls",
      "_model_module_version": "1.5.0",
      "_model_name": "HTMLModel",
      "_view_count": null,
      "_view_module": "@jupyter-widgets/controls",
      "_view_module_version": "1.5.0",
      "_view_name": "HTMLView",
      "description": "",
      "description_tooltip": null,
      "layout": "IPY_MODEL_233253ffd09c453a8cd4dc191f9603e3",
      "placeholder": "​",
      "style": "IPY_MODEL_6e6736f0f3904d16ba6afaff8d5d4c09",
      "value": "100%"
     }
    },
    "d625a693e9cb4bf189bdfc89743e8752": {
     "model_module": "@jupyter-widgets/base",
     "model_module_version": "1.2.0",
     "model_name": "LayoutModel",
     "state": {
      "_model_module": "@jupyter-widgets/base",
      "_model_module_version": "1.2.0",
      "_model_name": "LayoutModel",
      "_view_count": null,
      "_view_module": "@jupyter-widgets/base",
      "_view_module_version": "1.2.0",
      "_view_name": "LayoutView",
      "align_content": null,
      "align_items": null,
      "align_self": null,
      "border": null,
      "bottom": null,
      "display": null,
      "flex": null,
      "flex_flow": null,
      "grid_area": null,
      "grid_auto_columns": null,
      "grid_auto_flow": null,
      "grid_auto_rows": null,
      "grid_column": null,
      "grid_gap": null,
      "grid_row": null,
      "grid_template_areas": null,
      "grid_template_columns": null,
      "grid_template_rows": null,
      "height": null,
      "justify_content": null,
      "justify_items": null,
      "left": null,
      "margin": null,
      "max_height": null,
      "max_width": null,
      "min_height": null,
      "min_width": null,
      "object_fit": null,
      "object_position": null,
      "order": null,
      "overflow": null,
      "overflow_x": null,
      "overflow_y": null,
      "padding": null,
      "right": null,
      "top": null,
      "visibility": null,
      "width": null
     }
    },
    "de654d34959d49c995e9e3cbae7fae57": {
     "model_module": "@jupyter-widgets/controls",
     "model_module_version": "1.5.0",
     "model_name": "HTMLModel",
     "state": {
      "_dom_classes": [],
      "_model_module": "@jupyter-widgets/controls",
      "_model_module_version": "1.5.0",
      "_model_name": "HTMLModel",
      "_view_count": null,
      "_view_module": "@jupyter-widgets/controls",
      "_view_module_version": "1.5.0",
      "_view_name": "HTMLView",
      "description": "",
      "description_tooltip": null,
      "layout": "IPY_MODEL_8e0bb62ebd4b497c99087d63cec0c90f",
      "placeholder": "​",
      "style": "IPY_MODEL_6ff62357ba984a8ab4ac6498efbf2efb",
      "value": " 3/3 [01:46&lt;00:00, 35.39s/it]"
     }
    },
    "df6b26037c964abfb56541fb0afcd9f1": {
     "model_module": "@jupyter-widgets/base",
     "model_module_version": "1.2.0",
     "model_name": "LayoutModel",
     "state": {
      "_model_module": "@jupyter-widgets/base",
      "_model_module_version": "1.2.0",
      "_model_name": "LayoutModel",
      "_view_count": null,
      "_view_module": "@jupyter-widgets/base",
      "_view_module_version": "1.2.0",
      "_view_name": "LayoutView",
      "align_content": null,
      "align_items": null,
      "align_self": null,
      "border": null,
      "bottom": null,
      "display": null,
      "flex": null,
      "flex_flow": null,
      "grid_area": null,
      "grid_auto_columns": null,
      "grid_auto_flow": null,
      "grid_auto_rows": null,
      "grid_column": null,
      "grid_gap": null,
      "grid_row": null,
      "grid_template_areas": null,
      "grid_template_columns": null,
      "grid_template_rows": null,
      "height": null,
      "justify_content": null,
      "justify_items": null,
      "left": null,
      "margin": null,
      "max_height": null,
      "max_width": null,
      "min_height": null,
      "min_width": null,
      "object_fit": null,
      "object_position": null,
      "order": null,
      "overflow": null,
      "overflow_x": null,
      "overflow_y": null,
      "padding": null,
      "right": null,
      "top": null,
      "visibility": null,
      "width": null
     }
    },
    "e2770909b1804c6383b9b7b016f68eec": {
     "model_module": "@jupyter-widgets/base",
     "model_module_version": "1.2.0",
     "model_name": "LayoutModel",
     "state": {
      "_model_module": "@jupyter-widgets/base",
      "_model_module_version": "1.2.0",
      "_model_name": "LayoutModel",
      "_view_count": null,
      "_view_module": "@jupyter-widgets/base",
      "_view_module_version": "1.2.0",
      "_view_name": "LayoutView",
      "align_content": null,
      "align_items": null,
      "align_self": null,
      "border": null,
      "bottom": null,
      "display": null,
      "flex": null,
      "flex_flow": null,
      "grid_area": null,
      "grid_auto_columns": null,
      "grid_auto_flow": null,
      "grid_auto_rows": null,
      "grid_column": null,
      "grid_gap": null,
      "grid_row": null,
      "grid_template_areas": null,
      "grid_template_columns": null,
      "grid_template_rows": null,
      "height": null,
      "justify_content": null,
      "justify_items": null,
      "left": null,
      "margin": null,
      "max_height": null,
      "max_width": null,
      "min_height": null,
      "min_width": null,
      "object_fit": null,
      "object_position": null,
      "order": null,
      "overflow": null,
      "overflow_x": null,
      "overflow_y": null,
      "padding": null,
      "right": null,
      "top": null,
      "visibility": null,
      "width": null
     }
    },
    "e4943100fef34f9188a2ef336b0ba17b": {
     "model_module": "@jupyter-widgets/controls",
     "model_module_version": "1.5.0",
     "model_name": "HTMLModel",
     "state": {
      "_dom_classes": [],
      "_model_module": "@jupyter-widgets/controls",
      "_model_module_version": "1.5.0",
      "_model_name": "HTMLModel",
      "_view_count": null,
      "_view_module": "@jupyter-widgets/controls",
      "_view_module_version": "1.5.0",
      "_view_name": "HTMLView",
      "description": "",
      "description_tooltip": null,
      "layout": "IPY_MODEL_81a4114887664f39aebff325797f3098",
      "placeholder": "​",
      "style": "IPY_MODEL_0e05d73809524788aa314f5ab812a56b",
      "value": "100%"
     }
    },
    "e96a7f64e361400f8b04017f1bd7f155": {
     "model_module": "@jupyter-widgets/controls",
     "model_module_version": "1.5.0",
     "model_name": "FloatProgressModel",
     "state": {
      "_dom_classes": [],
      "_model_module": "@jupyter-widgets/controls",
      "_model_module_version": "1.5.0",
      "_model_name": "FloatProgressModel",
      "_view_count": null,
      "_view_module": "@jupyter-widgets/controls",
      "_view_module_version": "1.5.0",
      "_view_name": "ProgressView",
      "bar_style": "success",
      "description": "",
      "description_tooltip": null,
      "layout": "IPY_MODEL_4f8aa4df96004430afcc872508185640",
      "max": 313,
      "min": 0,
      "orientation": "horizontal",
      "style": "IPY_MODEL_b9e37cf91fad45f9b750b17701030814",
      "value": 313
     }
    },
    "eb7a113670c845fe8cbb4a81498cc9c3": {
     "model_module": "@jupyter-widgets/controls",
     "model_module_version": "1.5.0",
     "model_name": "HTMLModel",
     "state": {
      "_dom_classes": [],
      "_model_module": "@jupyter-widgets/controls",
      "_model_module_version": "1.5.0",
      "_model_name": "HTMLModel",
      "_view_count": null,
      "_view_module": "@jupyter-widgets/controls",
      "_view_module_version": "1.5.0",
      "_view_name": "HTMLView",
      "description": "",
      "description_tooltip": null,
      "layout": "IPY_MODEL_7c6df8da8e784351b0e994ec50e03049",
      "placeholder": "​",
      "style": "IPY_MODEL_5048d7357960420e83a9f4eb0f6f181c",
      "value": "100%"
     }
    },
    "ebd120fe68be4124a7810160b8e629fc": {
     "model_module": "@jupyter-widgets/controls",
     "model_module_version": "1.5.0",
     "model_name": "FloatProgressModel",
     "state": {
      "_dom_classes": [],
      "_model_module": "@jupyter-widgets/controls",
      "_model_module_version": "1.5.0",
      "_model_name": "FloatProgressModel",
      "_view_count": null,
      "_view_module": "@jupyter-widgets/controls",
      "_view_module_version": "1.5.0",
      "_view_name": "ProgressView",
      "bar_style": "success",
      "description": "",
      "description_tooltip": null,
      "layout": "IPY_MODEL_7a89d77efbea43dc9af415d9e7172417",
      "max": 3,
      "min": 0,
      "orientation": "horizontal",
      "style": "IPY_MODEL_bf9efe2f4f394e3ba05531ff86e5e413",
      "value": 3
     }
    },
    "ee78ee35b0984ea3a370d9df40869428": {
     "model_module": "@jupyter-widgets/controls",
     "model_module_version": "1.5.0",
     "model_name": "HBoxModel",
     "state": {
      "_dom_classes": [],
      "_model_module": "@jupyter-widgets/controls",
      "_model_module_version": "1.5.0",
      "_model_name": "HBoxModel",
      "_view_count": null,
      "_view_module": "@jupyter-widgets/controls",
      "_view_module_version": "1.5.0",
      "_view_name": "HBoxView",
      "box_style": "",
      "children": [
       "IPY_MODEL_e4943100fef34f9188a2ef336b0ba17b",
       "IPY_MODEL_712fa1d53be14d979d7cc500ac123e48",
       "IPY_MODEL_435d247414954bf78d71698e9926eec2"
      ],
      "layout": "IPY_MODEL_6aa0a01cda8f4a958cc867c6b7ff18af"
     }
    },
    "ef6227d2127c4be09a364c06af639b75": {
     "model_module": "@jupyter-widgets/controls",
     "model_module_version": "1.5.0",
     "model_name": "FloatProgressModel",
     "state": {
      "_dom_classes": [],
      "_model_module": "@jupyter-widgets/controls",
      "_model_module_version": "1.5.0",
      "_model_name": "FloatProgressModel",
      "_view_count": null,
      "_view_module": "@jupyter-widgets/controls",
      "_view_module_version": "1.5.0",
      "_view_name": "ProgressView",
      "bar_style": "success",
      "description": "",
      "description_tooltip": null,
      "layout": "IPY_MODEL_a9e42fb46a804f7d851913e1568eb617",
      "max": 5,
      "min": 0,
      "orientation": "horizontal",
      "style": "IPY_MODEL_1d3fef1d55284985958e8c9c491edcf5",
      "value": 5
     }
    },
    "f07c7336a4da48a5962b4dc35d638319": {
     "model_module": "@jupyter-widgets/controls",
     "model_module_version": "1.5.0",
     "model_name": "HBoxModel",
     "state": {
      "_dom_classes": [],
      "_model_module": "@jupyter-widgets/controls",
      "_model_module_version": "1.5.0",
      "_model_name": "HBoxModel",
      "_view_count": null,
      "_view_module": "@jupyter-widgets/controls",
      "_view_module_version": "1.5.0",
      "_view_name": "HBoxView",
      "box_style": "",
      "children": [
       "IPY_MODEL_3882a5671b7b4d02b5f7b65a757f6885",
       "IPY_MODEL_ebd120fe68be4124a7810160b8e629fc",
       "IPY_MODEL_de654d34959d49c995e9e3cbae7fae57"
      ],
      "layout": "IPY_MODEL_f284f5768bd9427fbd206be9f568dbf9"
     }
    },
    "f215e30bad4e46f18c2d538ddf53a6d6": {
     "model_module": "@jupyter-widgets/controls",
     "model_module_version": "1.5.0",
     "model_name": "DescriptionStyleModel",
     "state": {
      "_model_module": "@jupyter-widgets/controls",
      "_model_module_version": "1.5.0",
      "_model_name": "DescriptionStyleModel",
      "_view_count": null,
      "_view_module": "@jupyter-widgets/base",
      "_view_module_version": "1.2.0",
      "_view_name": "StyleView",
      "description_width": ""
     }
    },
    "f222223429314b62aea71eb652038cab": {
     "model_module": "@jupyter-widgets/controls",
     "model_module_version": "1.5.0",
     "model_name": "ProgressStyleModel",
     "state": {
      "_model_module": "@jupyter-widgets/controls",
      "_model_module_version": "1.5.0",
      "_model_name": "ProgressStyleModel",
      "_view_count": null,
      "_view_module": "@jupyter-widgets/base",
      "_view_module_version": "1.2.0",
      "_view_name": "StyleView",
      "bar_color": null,
      "description_width": ""
     }
    },
    "f284f5768bd9427fbd206be9f568dbf9": {
     "model_module": "@jupyter-widgets/base",
     "model_module_version": "1.2.0",
     "model_name": "LayoutModel",
     "state": {
      "_model_module": "@jupyter-widgets/base",
      "_model_module_version": "1.2.0",
      "_model_name": "LayoutModel",
      "_view_count": null,
      "_view_module": "@jupyter-widgets/base",
      "_view_module_version": "1.2.0",
      "_view_name": "LayoutView",
      "align_content": null,
      "align_items": null,
      "align_self": null,
      "border": null,
      "bottom": null,
      "display": null,
      "flex": null,
      "flex_flow": null,
      "grid_area": null,
      "grid_auto_columns": null,
      "grid_auto_flow": null,
      "grid_auto_rows": null,
      "grid_column": null,
      "grid_gap": null,
      "grid_row": null,
      "grid_template_areas": null,
      "grid_template_columns": null,
      "grid_template_rows": null,
      "height": null,
      "justify_content": null,
      "justify_items": null,
      "left": null,
      "margin": null,
      "max_height": null,
      "max_width": null,
      "min_height": null,
      "min_width": null,
      "object_fit": null,
      "object_position": null,
      "order": null,
      "overflow": null,
      "overflow_x": null,
      "overflow_y": null,
      "padding": null,
      "right": null,
      "top": null,
      "visibility": null,
      "width": null
     }
    }
   }
  }
 },
 "nbformat": 4,
 "nbformat_minor": 0
}
