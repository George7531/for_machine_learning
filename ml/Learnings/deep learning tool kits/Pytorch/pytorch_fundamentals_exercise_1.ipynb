{
 "cells": [
  {
   "cell_type": "markdown",
   "metadata": {
    "id": "cNGRJ_sz5ozg"
   },
   "source": [
    "# day 168"
   ]
  },
  {
   "cell_type": "code",
   "execution_count": null,
   "metadata": {
    "id": "H_sgVPbN5vww"
   },
   "outputs": [],
   "source": [
    "import torch\n",
    "import numpy as np\n",
    "import pandas as pd\n",
    "import matplotlib.pyplot as plt\n",
    "import matplotlib.image as image\n",
    "import seaborn as sns\n",
    "from IPython.display import display,Math\n",
    "import sympy as sym\n",
    "sym.init_printing()"
   ]
  },
  {
   "cell_type": "markdown",
   "metadata": {
    "id": "Skw-Xd3g6inx"
   },
   "source": [
    "# 2. Create a random tensor with shape (7, 7)."
   ]
  },
  {
   "cell_type": "code",
   "execution_count": null,
   "metadata": {
    "colab": {
     "base_uri": "https://localhost:8080/"
    },
    "id": "wg6-F-AW6a_w",
    "outputId": "06a2b97d-0758-41d8-cd7f-a1daec095cd8"
   },
   "outputs": [
    {
     "data": {
      "text/plain": [
       "tensor([[1, 3, 4, 6, 6, 4, 7],\n",
       "        [5, 8, 2, 2, 7, 5, 4],\n",
       "        [7, 2, 6, 7, 2, 5, 4],\n",
       "        [3, 3, 8, 1, 5, 1, 8],\n",
       "        [5, 2, 6, 8, 5, 6, 6],\n",
       "        [4, 3, 7, 6, 5, 7, 1],\n",
       "        [3, 3, 1, 1, 7, 6, 8]])"
      ]
     },
     "execution_count": 3,
     "metadata": {},
     "output_type": "execute_result"
    }
   ],
   "source": [
    "tensor_from_2 = torch.randint(1,9,(7,7))\n",
    "\n",
    "tensor_from_2"
   ]
  },
  {
   "cell_type": "markdown",
   "metadata": {
    "id": "3qPBmzB36tln"
   },
   "source": [
    "# 3. Perform a matrix multiplication on the tensor from 2 with another random tensor with shape (1, 7) (hint: you may have to transpose the second tensor)."
   ]
  },
  {
   "cell_type": "code",
   "execution_count": null,
   "metadata": {
    "colab": {
     "base_uri": "https://localhost:8080/"
    },
    "id": "Ra27bo0x6toO",
    "outputId": "4056b042-0a14-4a4b-8279-a4393cb41117"
   },
   "outputs": [
    {
     "data": {
      "text/plain": [
       "tensor([[-10.5956],\n",
       "        [ -6.8321],\n",
       "        [-15.8813],\n",
       "        [ -7.6624],\n",
       "        [-16.1908],\n",
       "        [-19.1075],\n",
       "        [ -1.6794]], dtype=torch.float64)"
      ]
     },
     "execution_count": 7,
     "metadata": {},
     "output_type": "execute_result"
    }
   ],
   "source": [
    "another_tensor = torch.tensor(np.random.randn(1,7))\n",
    "\n",
    "operation3 = np.matmul(tensor_from_2,another_tensor.T)\n",
    "operation3"
   ]
  },
  {
   "cell_type": "code",
   "execution_count": null,
   "metadata": {
    "colab": {
     "base_uri": "https://localhost:8080/"
    },
    "id": "YomgkbU86tq5",
    "outputId": "d0e0f439-a27d-4a07-eeed-867e9ddef438"
   },
   "outputs": [
    {
     "data": {
      "text/plain": [
       "array([[-10.59561975],\n",
       "       [ -6.83209462],\n",
       "       [-15.88131963],\n",
       "       [ -7.6623727 ],\n",
       "       [-16.19078472],\n",
       "       [-19.10746313],\n",
       "       [ -1.6793605 ]])"
      ]
     },
     "execution_count": 12,
     "metadata": {},
     "output_type": "execute_result"
    }
   ],
   "source": [
    "np.dot(tensor_from_2,another_tensor.T)"
   ]
  },
  {
   "cell_type": "code",
   "execution_count": null,
   "metadata": {
    "colab": {
     "base_uri": "https://localhost:8080/",
     "height": 211
    },
    "id": "xKxvbLOHXyGE",
    "outputId": "3a6637e8-5c80-4852-eaeb-3b443db7879f"
   },
   "outputs": [
    {
     "ename": "RuntimeError",
     "evalue": "ignored",
     "output_type": "error",
     "traceback": [
      "\u001b[0;31m---------------------------------------------------------------------------\u001b[0m",
      "\u001b[0;31mRuntimeError\u001b[0m                              Traceback (most recent call last)",
      "\u001b[0;32m<ipython-input-17-e84d5a4ad226>\u001b[0m in \u001b[0;36m<cell line: 1>\u001b[0;34m()\u001b[0m\n\u001b[0;32m----> 1\u001b[0;31m \u001b[0mtorch\u001b[0m\u001b[0;34m.\u001b[0m\u001b[0mmatmul\u001b[0m\u001b[0;34m(\u001b[0m\u001b[0mtensor_from_2\u001b[0m\u001b[0;34m,\u001b[0m\u001b[0manother_tensor\u001b[0m\u001b[0;34m.\u001b[0m\u001b[0mT\u001b[0m\u001b[0;34m)\u001b[0m\u001b[0;34m\u001b[0m\u001b[0;34m\u001b[0m\u001b[0m\n\u001b[0m\u001b[1;32m      2\u001b[0m \u001b[0;34m\u001b[0m\u001b[0m\n\u001b[1;32m      3\u001b[0m \u001b[0;34m'''this is the perfect example data type mismatch. we can fix it by changing the type of one or the other tensor.'''\u001b[0m\u001b[0;34m\u001b[0m\u001b[0;34m\u001b[0m\u001b[0m\n",
      "\u001b[0;31mRuntimeError\u001b[0m: expected scalar type Long but found Double"
     ]
    }
   ],
   "source": [
    "torch.matmul(tensor_from_2,another_tensor.T)\n",
    "\n",
    "'''this is the perfect example data type mismatch. we can fix it by changing the type of one or the other tensor.'''"
   ]
  },
  {
   "cell_type": "code",
   "execution_count": null,
   "metadata": {
    "colab": {
     "base_uri": "https://localhost:8080/"
    },
    "id": "XNQWac4hYq-L",
    "outputId": "174f96e7-39c9-436a-9da5-0384d1ed3930"
   },
   "outputs": [
    {
     "data": {
      "text/plain": [
       "tensor([[-10.5956],\n",
       "        [ -6.8321],\n",
       "        [-15.8813],\n",
       "        [ -7.6624],\n",
       "        [-16.1908],\n",
       "        [-19.1075],\n",
       "        [ -1.6794]], dtype=torch.float64)"
      ]
     },
     "execution_count": 21,
     "metadata": {},
     "output_type": "execute_result"
    }
   ],
   "source": [
    "torch.matmul(tensor_from_2.type(torch.float64),another_tensor.T.type(torch.float64))"
   ]
  },
  {
   "cell_type": "code",
   "execution_count": null,
   "metadata": {
    "id": "EoGM9OsZZWe0"
   },
   "outputs": [],
   "source": []
  },
  {
   "cell_type": "markdown",
   "metadata": {
    "id": "bgelNye0ZWoT"
   },
   "source": [
    "# 4. Set the random seed to 0 and do exercises 2 & 3 over again."
   ]
  },
  {
   "cell_type": "code",
   "execution_count": null,
   "metadata": {
    "colab": {
     "base_uri": "https://localhost:8080/"
    },
    "id": "EG4pwxT5Zs1M",
    "outputId": "436ccca4-63a5-4a27-d80d-d3eed6456a1a"
   },
   "outputs": [
    {
     "data": {
      "text/plain": [
       "tensor([[ 7.3892],\n",
       "        [17.4966],\n",
       "        [13.4106],\n",
       "        [13.9460],\n",
       "        [11.9201],\n",
       "        [17.1266],\n",
       "        [ 8.3624]])"
      ]
     },
     "execution_count": 7,
     "metadata": {},
     "output_type": "execute_result"
    }
   ],
   "source": [
    "# creating the tensor_from_2\n",
    "torch.manual_seed(0)\n",
    "tensor_from_2 = torch.randint(1,9,(7,7))\n",
    "\n",
    "# creating the another_tensor\n",
    "torch.manual_seed(0)\n",
    "another_tensor = torch.tensor(np.random.randn(1,7))\n",
    "\n",
    "# doing torch.matmul\n",
    "torch.matmul(tensor_from_2.type(torch.float32),another_tensor.T.type(torch.float32))"
   ]
  },
  {
   "cell_type": "code",
   "execution_count": null,
   "metadata": {
    "id": "8NXsBo8UZs30"
   },
   "outputs": [],
   "source": []
  },
  {
   "cell_type": "markdown",
   "metadata": {
    "id": "S6ShSOENZs6S"
   },
   "source": [
    "# 5. Speaking of random seeds, we saw how to set it with torch.manual_seed() but is there a GPU equivalent? (hint: you'll need to look into the documentation for torch.cuda for this one). If there is, set the GPU random seed to 1234."
   ]
  },
  {
   "cell_type": "code",
   "execution_count": null,
   "metadata": {
    "colab": {
     "base_uri": "https://localhost:8080/"
    },
    "id": "uiILpl2AbQg8",
    "outputId": "1a673166-d7bd-40ae-dd40-475cb912d1e5"
   },
   "outputs": [
    {
     "data": {
      "text/plain": [
       "tensor([[-13.2963],\n",
       "        [ -4.6160],\n",
       "        [-12.0944],\n",
       "        [-16.6941],\n",
       "        [-20.8933],\n",
       "        [  6.0328],\n",
       "        [  2.4800]])"
      ]
     },
     "execution_count": 5,
     "metadata": {},
     "output_type": "execute_result"
    }
   ],
   "source": [
    "# creating the tensor_from_2\n",
    "torch.cuda.manual_seed(1234)\n",
    "tensor_from_2 = torch.randint(1,9,(7,7))\n",
    "\n",
    "# creating the another_tensor\n",
    "torch.cuda.manual_seed(1234)\n",
    "another_tensor = torch.tensor(np.random.randn(1,7))\n",
    "\n",
    "# doing torch.matmul\n",
    "torch.matmul(tensor_from_2.type(torch.float32),another_tensor.T.type(torch.float32))"
   ]
  },
  {
   "cell_type": "code",
   "execution_count": null,
   "metadata": {
    "id": "_m_jmqYHbQy6"
   },
   "outputs": [],
   "source": []
  },
  {
   "cell_type": "markdown",
   "metadata": {
    "id": "01UYYCrFbQ18"
   },
   "source": [
    "# create reproducible results"
   ]
  },
  {
   "cell_type": "code",
   "execution_count": null,
   "metadata": {
    "colab": {
     "base_uri": "https://localhost:8080/"
    },
    "id": "0fH51Js_bQ40",
    "outputId": "d04dadba-5af1-4eba-9eea-93b766b101f2"
   },
   "outputs": [
    {
     "data": {
      "text/plain": [
       "tensor([[-4.1140],\n",
       "        [ 4.9254],\n",
       "        [ 1.4087],\n",
       "        [-1.0660],\n",
       "        [-1.7453],\n",
       "        [-2.4428],\n",
       "        [-2.9928]])"
      ]
     },
     "execution_count": 15,
     "metadata": {},
     "output_type": "execute_result"
    }
   ],
   "source": [
    "# creating the tensor_from_2\n",
    "torch.manual_seed(1234)\n",
    "tensor_from_2 = torch.randint(1,9,(7,7))\n",
    "\n",
    "# creating the another_tensor\n",
    "torch.manual_seed(1234)\n",
    "another_tensor = torch.randn(1,7)\n",
    "\n",
    "# doing torch.matmul\n",
    "torch.matmul(tensor_from_2.type(torch.float32),another_tensor.T.type(torch.float32))"
   ]
  },
  {
   "cell_type": "code",
   "execution_count": null,
   "metadata": {
    "id": "_NW5pQ1EbQ7t"
   },
   "outputs": [],
   "source": []
  },
  {
   "cell_type": "markdown",
   "metadata": {
    "id": "JGBfRrCHfuOU"
   },
   "source": [
    "# 6. Create two random tensors of shape (2, 3) and send them both to the GPU (you'll need access to a GPU for this). Set torch.manual_seed(1234) when creating the tensors (this doesn't have to be the GPU random seed)."
   ]
  },
  {
   "cell_type": "code",
   "execution_count": null,
   "metadata": {
    "id": "C-oA9-eAfuTD"
   },
   "outputs": [],
   "source": [
    "# setting the device:\n",
    "device = 'cuda' if torch.cuda.is_available() else 'cpu'\n",
    "\n",
    "\n",
    "torch.manual_seed(1234)\n",
    "# create the tensor1 and send it to gpu or cpu based on availability.\n",
    "tensor1 = torch.randint(1,9,(2,3)).to(device)\n",
    "\n",
    "# create the tensor2 and send it to gpu or cpu\n",
    "torch.manual_seed(1234)\n",
    "tensor2 = torch.rand(2,3).to(device)\n",
    "\n",
    "\n"
   ]
  },
  {
   "cell_type": "code",
   "execution_count": null,
   "metadata": {
    "id": "cJ0aKkPwf5rl"
   },
   "outputs": [],
   "source": []
  },
  {
   "cell_type": "markdown",
   "metadata": {
    "id": "L80epf43f5uc"
   },
   "source": [
    "# 7. Perform a matrix multiplication on the tensors you created in 6 (again, you may have to adjust the shapes of one of the tensors"
   ]
  },
  {
   "cell_type": "code",
   "execution_count": null,
   "metadata": {
    "colab": {
     "base_uri": "https://localhost:8080/"
    },
    "id": "t3w0NCEtf5xL",
    "outputId": "60890f5e-f619-4116-ec49-f120ff43a920"
   },
   "outputs": [
    {
     "data": {
      "text/plain": [
       "tensor([[3.6583, 8.0708],\n",
       "        [3.4826, 5.9946]], device='cuda:0')"
      ]
     },
     "execution_count": 25,
     "metadata": {},
     "output_type": "execute_result"
    }
   ],
   "source": [
    "# it is reproducible.\n",
    "\n",
    "output_of_7 = torch.matmul(tensor1.type(torch.float32),tensor2.T.type(torch.float32))\n",
    "output_of_7"
   ]
  },
  {
   "cell_type": "code",
   "execution_count": null,
   "metadata": {
    "id": "AM7wU8P3fuWt"
   },
   "outputs": [],
   "source": []
  },
  {
   "cell_type": "markdown",
   "metadata": {
    "id": "opan357AjATO"
   },
   "source": [
    "# 8. Find the maximum and minimum values of the output of 7."
   ]
  },
  {
   "cell_type": "code",
   "execution_count": null,
   "metadata": {
    "colab": {
     "base_uri": "https://localhost:8080/"
    },
    "id": "Nftf7nTFjAWI",
    "outputId": "b965b0e4-4fa0-4680-e8c7-76a0801baf6e"
   },
   "outputs": [
    {
     "data": {
      "text/plain": [
       "tensor(8.0708, device='cuda:0')"
      ]
     },
     "execution_count": 26,
     "metadata": {},
     "output_type": "execute_result"
    }
   ],
   "source": [
    "torch.max(output_of_7)"
   ]
  },
  {
   "cell_type": "code",
   "execution_count": null,
   "metadata": {
    "colab": {
     "base_uri": "https://localhost:8080/"
    },
    "id": "C-ttC0OWjHI2",
    "outputId": "9205f525-668c-42e1-cdce-92eb13ba5236"
   },
   "outputs": [
    {
     "data": {
      "text/plain": [
       "tensor(3.4826, device='cuda:0')"
      ]
     },
     "execution_count": 27,
     "metadata": {},
     "output_type": "execute_result"
    }
   ],
   "source": [
    "torch.min(output_of_7)"
   ]
  },
  {
   "cell_type": "code",
   "execution_count": null,
   "metadata": {
    "id": "uNLjymdvjHL0"
   },
   "outputs": [],
   "source": []
  },
  {
   "cell_type": "markdown",
   "metadata": {
    "id": "MzIwcpQfjHOJ"
   },
   "source": [
    "# 9.Find the maximum and minimum index values of the output of 7."
   ]
  },
  {
   "cell_type": "code",
   "execution_count": null,
   "metadata": {
    "colab": {
     "base_uri": "https://localhost:8080/"
    },
    "id": "eeQV2UcgkoSj",
    "outputId": "e9629201-b996-48ba-e444-f8c7a4913abd"
   },
   "outputs": [
    {
     "data": {
      "text/plain": [
       "tensor([[3.6583, 8.0708],\n",
       "        [3.4826, 5.9946]], device='cuda:0')"
      ]
     },
     "execution_count": 30,
     "metadata": {},
     "output_type": "execute_result"
    }
   ],
   "source": [
    "output_of_7"
   ]
  },
  {
   "cell_type": "code",
   "execution_count": null,
   "metadata": {
    "colab": {
     "base_uri": "https://localhost:8080/"
    },
    "id": "2lH3h8igjjHH",
    "outputId": "7a193d9f-d8bf-4b26-873f-068e6d19fd29"
   },
   "outputs": [
    {
     "data": {
      "text/plain": [
       "tensor(1, device='cuda:0')"
      ]
     },
     "execution_count": 28,
     "metadata": {},
     "output_type": "execute_result"
    }
   ],
   "source": [
    "print(torch.argmax(output_of_7))\n",
    "'''it seems it flattens the whole matrix and counts in which index does the lowest value lie'''"
   ]
  },
  {
   "cell_type": "code",
   "execution_count": null,
   "metadata": {
    "colab": {
     "base_uri": "https://localhost:8080/"
    },
    "id": "zhjHqFU8kj5L",
    "outputId": "7485264c-ba8f-4698-93f1-a90f8a2d6f47"
   },
   "outputs": [
    {
     "data": {
      "text/plain": [
       "tensor([1, 1], device='cuda:0')"
      ]
     },
     "execution_count": 36,
     "metadata": {},
     "output_type": "execute_result"
    }
   ],
   "source": [
    "print(torch.argmax(output_of_7,dim=1))\n",
    "\n",
    "'''it sees which element in the matrix is the biggest row-wise'"
   ]
  },
  {
   "cell_type": "code",
   "execution_count": null,
   "metadata": {
    "colab": {
     "base_uri": "https://localhost:8080/",
     "height": 52
    },
    "id": "Dig75pj1mAAd",
    "outputId": "fdf724ed-37f2-48f0-90ef-331f6327bf42"
   },
   "outputs": [
    {
     "name": "stdout",
     "output_type": "stream",
     "text": [
      "tensor([0, 0], device='cuda:0')\n"
     ]
    },
    {
     "data": {
      "application/vnd.google.colaboratory.intrinsic+json": {
       "type": "string"
      },
      "text/plain": [
       "'it sees which elements in the matrix are smallest column-wise'"
      ]
     },
     "execution_count": 39,
     "metadata": {},
     "output_type": "execute_result"
    }
   ],
   "source": [
    "print(torch.argmax(output_of_7,dim=0))\n",
    "\n",
    "'''it sees which elements in the matrix are biggest column-wise'''"
   ]
  },
  {
   "cell_type": "code",
   "execution_count": null,
   "metadata": {
    "colab": {
     "base_uri": "https://localhost:8080/",
     "height": 52
    },
    "id": "3wFhX4XkjjJ9",
    "outputId": "86f05a77-bcd7-49d9-cf57-f0f21610d5ab"
   },
   "outputs": [
    {
     "name": "stdout",
     "output_type": "stream",
     "text": [
      "tensor(2, device='cuda:0')\n"
     ]
    },
    {
     "data": {
      "application/vnd.google.colaboratory.intrinsic+json": {
       "type": "string"
      },
      "text/plain": [
       "'it flattens and counts'"
      ]
     },
     "execution_count": 40,
     "metadata": {},
     "output_type": "execute_result"
    }
   ],
   "source": [
    "print(torch.argmin(output_of_7))\n",
    "\n",
    "'''it flattens and counts'''"
   ]
  },
  {
   "cell_type": "code",
   "execution_count": null,
   "metadata": {
    "colab": {
     "base_uri": "https://localhost:8080/",
     "height": 52
    },
    "id": "3hvVeDIIjjMt",
    "outputId": "d8db2a98-6cb1-4613-9dce-2cd04e937f2a"
   },
   "outputs": [
    {
     "name": "stdout",
     "output_type": "stream",
     "text": [
      "tensor([1, 1], device='cuda:0')\n"
     ]
    },
    {
     "data": {
      "application/vnd.google.colaboratory.intrinsic+json": {
       "type": "string"
      },
      "text/plain": [
       "' colum-wise smalls'"
      ]
     },
     "execution_count": 43,
     "metadata": {},
     "output_type": "execute_result"
    }
   ],
   "source": [
    "print(torch.argmin(output_of_7,dim=0))\n",
    "\n",
    "''' colum-wise smalls'''"
   ]
  },
  {
   "cell_type": "code",
   "execution_count": null,
   "metadata": {
    "colab": {
     "base_uri": "https://localhost:8080/",
     "height": 52
    },
    "id": "qIwFMZHzjjPh",
    "outputId": "70eb8f82-305f-467b-b5f4-5bbb742b6d63"
   },
   "outputs": [
    {
     "name": "stdout",
     "output_type": "stream",
     "text": [
      "tensor([0, 0], device='cuda:0')\n"
     ]
    },
    {
     "data": {
      "application/vnd.google.colaboratory.intrinsic+json": {
       "type": "string"
      },
      "text/plain": [
       "'row-wise smalls'"
      ]
     },
     "execution_count": 44,
     "metadata": {},
     "output_type": "execute_result"
    }
   ],
   "source": [
    "print(torch.argmin(output_of_7,dim=1))\n",
    "'''row-wise smalls'''"
   ]
  },
  {
   "cell_type": "code",
   "execution_count": null,
   "metadata": {
    "id": "sjOo6451nBSp"
   },
   "outputs": [],
   "source": []
  },
  {
   "cell_type": "markdown",
   "metadata": {
    "id": "GotcaraonBVa"
   },
   "source": [
    "# 10. Make a random tensor with shape (1, 1, 1, 10) and then create a new tensor with all the 1 dimensions removed to be left with a tensor of shape (10). Set the seed to 7 when you create it and print out the first tensor and it's shape as well as the second tensor and it's shape."
   ]
  },
  {
   "cell_type": "code",
   "execution_count": null,
   "metadata": {
    "id": "TPXgiIYynRl9"
   },
   "outputs": [],
   "source": [
    "torch.manual_seed(7)\n",
    "first_tensor = torch.rand(1,1,1,10)\n",
    "\n",
    "torch.manual_seed(7)\n",
    "second_tensor = torch.squeeze(first_tensor)\n",
    "\n"
   ]
  },
  {
   "cell_type": "code",
   "execution_count": null,
   "metadata": {
    "colab": {
     "base_uri": "https://localhost:8080/"
    },
    "id": "Fic5HbvRpRtV",
    "outputId": "f7131fef-3e39-4ec7-aad7-461b5127bca6"
   },
   "outputs": [
    {
     "data": {
      "text/plain": [
       "tensor([[[[0.5349, 0.1988, 0.6592, 0.6569, 0.2328, 0.4251, 0.2071, 0.6297,\n",
       "           0.3653, 0.8513]]]])"
      ]
     },
     "execution_count": 53,
     "metadata": {},
     "output_type": "execute_result"
    }
   ],
   "source": [
    "first_tensor"
   ]
  },
  {
   "cell_type": "code",
   "execution_count": null,
   "metadata": {
    "colab": {
     "base_uri": "https://localhost:8080/"
    },
    "id": "HSmvCoO_pRvw",
    "outputId": "f8a3d6ad-3cb8-4263-b205-da0018596275"
   },
   "outputs": [
    {
     "data": {
      "text/plain": [
       "tensor([0.5349, 0.1988, 0.6592, 0.6569, 0.2328, 0.4251, 0.2071, 0.6297, 0.3653,\n",
       "        0.8513])"
      ]
     },
     "execution_count": 54,
     "metadata": {},
     "output_type": "execute_result"
    }
   ],
   "source": [
    "second_tensor"
   ]
  },
  {
   "cell_type": "code",
   "execution_count": null,
   "metadata": {
    "id": "RxRcy2MjpRyY"
   },
   "outputs": [],
   "source": []
  },
  {
   "cell_type": "markdown",
   "metadata": {
    "id": "hHagXZfSljRJ"
   },
   "source": [
    "# day 171"
   ]
  },
  {
   "cell_type": "markdown",
   "metadata": {
    "id": "qcM3FrDZnRo-"
   },
   "source": [
    "# extra curriculam:"
   ]
  },
  {
   "cell_type": "code",
   "execution_count": null,
   "metadata": {
    "id": "SUtjpdM7nRr4"
   },
   "outputs": [],
   "source": [
    "import torch\n",
    "import numpy as np\n",
    "import sympy as sym\n",
    "from IPython.display import display,Math\n",
    "sym.init_printing()\n",
    "import matplotlib.pyplot as plt\n",
    "import matplotlib.image as image"
   ]
  },
  {
   "cell_type": "markdown",
   "metadata": {
    "id": "ue3lkx4HnBYI"
   },
   "source": [
    "# playing with tensors"
   ]
  },
  {
   "cell_type": "code",
   "execution_count": null,
   "metadata": {
    "colab": {
     "base_uri": "https://localhost:8080/"
    },
    "id": "aO2cOm28nBad",
    "outputId": "c6c4e55c-5199-4494-f18d-1884c0217af9"
   },
   "outputs": [
    {
     "data": {
      "text/plain": [
       "tensor([[1, 2],\n",
       "        [3, 4]])"
      ]
     },
     "execution_count": 3,
     "metadata": {},
     "output_type": "execute_result"
    }
   ],
   "source": [
    "# converting a numpy array into a torch tensor.\n",
    "np_array = np.array([[1,2],\n",
    "                     [3,4]])\n",
    "\n",
    "torch_tensor = torch.from_numpy(np_array)\n",
    "\n",
    "torch_tensor\n",
    "\n",
    "\n"
   ]
  },
  {
   "cell_type": "code",
   "execution_count": null,
   "metadata": {
    "colab": {
     "base_uri": "https://localhost:8080/",
     "height": 35
    },
    "id": "hMihxn3Dm7_F",
    "outputId": "86763b54-3ca4-4882-cdb2-8d09b70ce380"
   },
   "outputs": [
    {
     "data": {
      "application/vnd.google.colaboratory.intrinsic+json": {
       "type": "string"
      },
      "text/plain": [
       "'torch.LongTensor'"
      ]
     },
     "execution_count": 4,
     "metadata": {},
     "output_type": "execute_result"
    }
   ],
   "source": [
    "# type of the tensor is:\n",
    "torch_tensor.type()"
   ]
  },
  {
   "cell_type": "code",
   "execution_count": null,
   "metadata": {
    "colab": {
     "base_uri": "https://localhost:8080/"
    },
    "id": "WJluqfWfnBC_",
    "outputId": "ebc543c9-16bf-4c99-c081-054e9a0e7141"
   },
   "outputs": [
    {
     "data": {
      "text/plain": [
       "tensor([[1, 1],\n",
       "        [1, 1]])"
      ]
     },
     "execution_count": 5,
     "metadata": {},
     "output_type": "execute_result"
    }
   ],
   "source": [
    "# replacing the values of  the torch_tensor to become all 1's\n",
    "\n",
    "all_ones = torch.ones_like(torch_tensor)\n",
    "\n",
    "all_ones"
   ]
  },
  {
   "cell_type": "code",
   "execution_count": null,
   "metadata": {
    "colab": {
     "base_uri": "https://localhost:8080/"
    },
    "id": "2JCP91aYnkym",
    "outputId": "dedb4b4c-380b-4a2f-e07c-7d3c66e03ca8"
   },
   "outputs": [
    {
     "data": {
      "text/plain": [
       "tensor([[0.3946, 0.2030],\n",
       "        [0.4902, 0.6630]])"
      ]
     },
     "execution_count": 6,
     "metadata": {},
     "output_type": "execute_result"
    }
   ],
   "source": [
    "# replacing the values of torch_tensor to bear random_values and its dtype is overidden.\n",
    "\n",
    "random_numbers = torch.rand_like(torch_tensor,dtype=torch.float32)\n",
    "\n",
    "random_numbers"
   ]
  },
  {
   "cell_type": "code",
   "execution_count": null,
   "metadata": {
    "colab": {
     "base_uri": "https://localhost:8080/"
    },
    "id": "1jcbBKa_oMEY",
    "outputId": "eb6da9c6-0315-4295-c3e1-ff4d64263252"
   },
   "outputs": [
    {
     "name": "stdout",
     "output_type": "stream",
     "text": [
      "tensor([[0.4427, 0.6883, 0.7701],\n",
      "        [0.3537, 0.6800, 0.7774]])\n",
      "\n",
      "\n",
      "tensor([[1., 1., 1.],\n",
      "        [1., 1., 1.]])\n",
      "\n",
      "\n",
      "tensor([[0., 0., 0.],\n",
      "        [0., 0., 0.]])\n"
     ]
    }
   ],
   "source": [
    "# determing the shape of the output of a tensor\n",
    "\n",
    "shape = (2,3,)\n",
    "\n",
    "rand_tensor = torch.rand(shape)\n",
    "ones_tensor = torch.ones(shape)\n",
    "zeros_tensor = torch.zeros(shape)\n",
    "\n",
    "print(rand_tensor)\n",
    "print('\\n')\n",
    "print(ones_tensor)\n",
    "print('\\n')\n",
    "print(zeros_tensor)"
   ]
  },
  {
   "cell_type": "code",
   "execution_count": null,
   "metadata": {
    "colab": {
     "base_uri": "https://localhost:8080/"
    },
    "id": "DeuawnatpGpY",
    "outputId": "d28803b1-b045-4c22-c7bd-172b7f1a98ce"
   },
   "outputs": [
    {
     "name": "stdout",
     "output_type": "stream",
     "text": [
      "shape of the tensor is: torch.Size([2, 3])\n",
      "dtype of the tensor is: torch.float32\n",
      "device the tensor is stored on: cpu\n"
     ]
    }
   ],
   "source": [
    "# attributes of a tensor\n",
    "\n",
    "tensor = torch.rand(2,3)\n",
    "\n",
    "print(f'shape of the tensor is: {tensor.shape}')\n",
    "print(f'dtype of the tensor is: {tensor.dtype}')\n",
    "print(f'device the tensor is stored on: {tensor.device}')"
   ]
  },
  {
   "cell_type": "code",
   "execution_count": null,
   "metadata": {
    "colab": {
     "base_uri": "https://localhost:8080/",
     "height": 104
    },
    "id": "zem5R4ajpGsh",
    "outputId": "fd89f4c7-8cff-42e2-9767-85a9ff48fa79"
   },
   "outputs": [
    {
     "data": {
      "text/plain": [
       "tensor([[-0.1562,  0.8446, -1.2776],\n",
       "        [ 1.2724,  0.5957,  0.6951],\n",
       "        [ 1.4816,  0.7549, -2.1038],\n",
       "        [ 0.6220, -0.0482, -2.4363]])"
      ]
     },
     "metadata": {},
     "output_type": "display_data"
    },
    {
     "name": "stdout",
     "output_type": "stream",
     "text": [
      "last column of the tensor is: tensor([-1.2776,  0.6951, -2.1038, -2.4363])\n"
     ]
    }
   ],
   "source": [
    "# accessing the last column of a tensor\n",
    "\n",
    "tensor = torch.randn(4,3)\n",
    "display(tensor)\n",
    "\n",
    "print(f'last column of the tensor is: {tensor[:,-1]}')"
   ]
  },
  {
   "cell_type": "code",
   "execution_count": null,
   "metadata": {
    "colab": {
     "base_uri": "https://localhost:8080/",
     "height": 850
    },
    "id": "N4nmrlplpGvx",
    "outputId": "03fabc13-0e6e-48b7-ac75-0e5899baa0e4"
   },
   "outputs": [
    {
     "name": "stdout",
     "output_type": "stream",
     "text": [
      "it is tensor1: \n"
     ]
    },
    {
     "data": {
      "text/plain": [
       "tensor([[ 0.0998,  0.6903,  0.1774,  0.1925],\n",
       "        [ 0.5877, -1.5478, -1.9110,  1.4226],\n",
       "        [-0.8527, -1.4525, -0.9687, -0.1655]])"
      ]
     },
     "metadata": {},
     "output_type": "display_data"
    },
    {
     "name": "stdout",
     "output_type": "stream",
     "text": [
      "\n",
      "\n",
      "it is tensor2: \n"
     ]
    },
    {
     "data": {
      "text/plain": [
       "tensor([[-0.0895, -0.4869,  0.0135, -1.2443],\n",
       "        [ 0.0956, -0.2686, -0.1558, -0.4454],\n",
       "        [-0.1447,  1.1772,  0.6181,  0.2192]])"
      ]
     },
     "metadata": {},
     "output_type": "display_data"
    },
    {
     "name": "stdout",
     "output_type": "stream",
     "text": [
      "\n",
      "\n",
      "this is concatenated tensors at dim=0\n"
     ]
    },
    {
     "data": {
      "text/plain": [
       "tensor([[ 0.0998,  0.6903,  0.1774,  0.1925],\n",
       "        [ 0.5877, -1.5478, -1.9110,  1.4226],\n",
       "        [-0.8527, -1.4525, -0.9687, -0.1655],\n",
       "        [-0.0895, -0.4869,  0.0135, -1.2443],\n",
       "        [ 0.0956, -0.2686, -0.1558, -0.4454],\n",
       "        [-0.1447,  1.1772,  0.6181,  0.2192]])"
      ]
     },
     "metadata": {},
     "output_type": "display_data"
    },
    {
     "name": "stdout",
     "output_type": "stream",
     "text": [
      "\n",
      "\n",
      "this is concatenated tensors in dim=1\n"
     ]
    },
    {
     "data": {
      "text/plain": [
       "tensor([[ 0.0998,  0.6903,  0.1774,  0.1925, -0.0895, -0.4869,  0.0135, -1.2443],\n",
       "        [ 0.5877, -1.5478, -1.9110,  1.4226,  0.0956, -0.2686, -0.1558, -0.4454],\n",
       "        [-0.8527, -1.4525, -0.9687, -0.1655, -0.1447,  1.1772,  0.6181,  0.2192]])"
      ]
     },
     "metadata": {},
     "output_type": "display_data"
    },
    {
     "name": "stdout",
     "output_type": "stream",
     "text": [
      "\n",
      "\n",
      "this is stacked tensors in dim=0\n"
     ]
    },
    {
     "data": {
      "text/plain": [
       "tensor([[[ 0.0998,  0.6903,  0.1774,  0.1925],\n",
       "         [ 0.5877, -1.5478, -1.9110,  1.4226],\n",
       "         [-0.8527, -1.4525, -0.9687, -0.1655]],\n",
       "\n",
       "        [[-0.0895, -0.4869,  0.0135, -1.2443],\n",
       "         [ 0.0956, -0.2686, -0.1558, -0.4454],\n",
       "         [-0.1447,  1.1772,  0.6181,  0.2192]]])"
      ]
     },
     "metadata": {},
     "output_type": "display_data"
    },
    {
     "name": "stdout",
     "output_type": "stream",
     "text": [
      "\n",
      "\n",
      "this is stacked tensors in dim=1\n"
     ]
    },
    {
     "data": {
      "text/plain": [
       "tensor([[[ 0.0998,  0.6903,  0.1774,  0.1925],\n",
       "         [-0.0895, -0.4869,  0.0135, -1.2443]],\n",
       "\n",
       "        [[ 0.5877, -1.5478, -1.9110,  1.4226],\n",
       "         [ 0.0956, -0.2686, -0.1558, -0.4454]],\n",
       "\n",
       "        [[-0.8527, -1.4525, -0.9687, -0.1655],\n",
       "         [-0.1447,  1.1772,  0.6181,  0.2192]]])"
      ]
     },
     "metadata": {},
     "output_type": "display_data"
    },
    {
     "name": "stdout",
     "output_type": "stream",
     "text": [
      "\n",
      "\n"
     ]
    }
   ],
   "source": [
    "# stacking and concatenating the tensors\n",
    "\n",
    "# concatenating\n",
    "tensor1 = torch.randn(3,4)\n",
    "print('it is tensor1: ')\n",
    "display(tensor1)\n",
    "print('\\n')\n",
    "\n",
    "\n",
    "tensor2 = torch.randn(3,4)\n",
    "print('it is tensor2: ')\n",
    "display(tensor2)\n",
    "print('\\n')\n",
    "\n",
    "\n",
    "print('this is concatenated tensors at dim=0')\n",
    "display(torch.cat([tensor1,tensor2],dim=0))\n",
    "print('\\n')\n",
    "\n",
    "\n",
    "print('this is concatenated tensors in dim=1')\n",
    "display(torch.cat([tensor1,tensor2],dim=1))\n",
    "print('\\n')\n",
    "\n",
    "print('this is stacked tensors in dim=0')\n",
    "display(torch.stack([tensor1,tensor2],dim=0))\n",
    "print('\\n')\n",
    "\n",
    "print('this is stacked tensors in dim=1')\n",
    "display(torch.stack([tensor1,tensor2],dim=1))\n",
    "print('\\n')"
   ]
  },
  {
   "cell_type": "code",
   "execution_count": null,
   "metadata": {
    "colab": {
     "base_uri": "https://localhost:8080/",
     "height": 263
    },
    "id": "eLLSm-WApG02",
    "outputId": "8e5bbe7b-3c86-4129-c52d-b23e2ba31c29"
   },
   "outputs": [
    {
     "name": "stdout",
     "output_type": "stream",
     "text": [
      "this is the the tensor:\n"
     ]
    },
    {
     "data": {
      "text/plain": [
       "tensor([[4, 6, 6],\n",
       "        [4, 1, 6],\n",
       "        [3, 7, 8]])"
      ]
     },
     "metadata": {},
     "output_type": "display_data"
    },
    {
     "name": "stdout",
     "output_type": "stream",
     "text": [
      "\n",
      "\n",
      "this is the sum of all elements in the tensor:\n"
     ]
    },
    {
     "data": {
      "text/plain": [
       "tensor(45)"
      ]
     },
     "metadata": {},
     "output_type": "display_data"
    },
    {
     "name": "stdout",
     "output_type": "stream",
     "text": [
      "\n",
      "\n",
      "lets see what the .item() method does:\n"
     ]
    },
    {
     "data": {
      "text/latex": [
       "$\\displaystyle 45$"
      ],
      "text/plain": [
       "45"
      ]
     },
     "metadata": {},
     "output_type": "display_data"
    },
    {
     "name": "stdout",
     "output_type": "stream",
     "text": [
      "\n",
      "\n"
     ]
    }
   ],
   "source": [
    "# sum and item\n",
    "\n",
    "tensor = torch.randint(1,9,(3,3))\n",
    "\n",
    "print('this is the the tensor:')\n",
    "display(tensor)\n",
    "print('\\n')\n",
    "\n",
    "print('this is the sum of all elements in the tensor:')\n",
    "display(tensor.sum())\n",
    "print('\\n')\n",
    "\n",
    "\n",
    "print('lets see what the .item() method does:')\n",
    "display(tensor.sum().item())\n",
    "print('\\n')\n",
    "\n",
    "# item seems to fetch the item under concern from the tensor."
   ]
  },
  {
   "cell_type": "code",
   "execution_count": null,
   "metadata": {
    "id": "0ij1qYWBvMjU"
   },
   "outputs": [],
   "source": []
  },
  {
   "cell_type": "markdown",
   "metadata": {
    "id": "e-AmSPP5tHkw"
   },
   "source": [
    "# tensors to numpy array:\n",
    "\n"
   ]
  },
  {
   "cell_type": "code",
   "execution_count": null,
   "metadata": {
    "colab": {
     "base_uri": "https://localhost:8080/",
     "height": 225
    },
    "id": "B8GqFKw6tHnp",
    "outputId": "41d382b2-7f71-45ef-b97f-411af8c9d816"
   },
   "outputs": [
    {
     "name": "stdout",
     "output_type": "stream",
     "text": [
      "this is the numpy_array:\n"
     ]
    },
    {
     "data": {
      "text/plain": [
       "array([[3, 3, 2],\n",
       "       [6, 5, 2],\n",
       "       [5, 7, 3]])"
      ]
     },
     "metadata": {},
     "output_type": "display_data"
    },
    {
     "name": "stdout",
     "output_type": "stream",
     "text": [
      "\n",
      "\n",
      "this is the torch_tensor:\n"
     ]
    },
    {
     "data": {
      "text/plain": [
       "tensor([[3, 3, 2],\n",
       "        [6, 5, 2],\n",
       "        [5, 7, 3]])"
      ]
     },
     "metadata": {},
     "output_type": "display_data"
    },
    {
     "name": "stdout",
     "output_type": "stream",
     "text": [
      "\n",
      "\n"
     ]
    }
   ],
   "source": [
    "# converting a tensor to a numpy is a cake walk\n",
    "\n",
    "torch_tensor = torch.randint(1,9,(3,3))\n",
    "numpy_array = torch_tensor.numpy()\n",
    "\n",
    "print('this is the numpy_array:')\n",
    "display(numpy_array)\n",
    "print('\\n')\n",
    "\n",
    "# converting from numpy_array back to a torch tensor\n",
    "torch_tensor = torch.from_numpy(numpy_array)\n",
    "\n",
    "print('this is the torch_tensor:')\n",
    "display(torch_tensor)\n",
    "print('\\n')\n"
   ]
  },
  {
   "cell_type": "markdown",
   "metadata": {
    "id": "uGVsPTQitHq0"
   },
   "source": [
    "# why tensors are called the facts of the universe?\n",
    "\n",
    "* because tensors are mathematical objects that can be used to represent the physical world's properties like no other mathematical representors, even matrix and vectors can only  store so much, tensors are above and beyond them.\n",
    "\n",
    "* In her book, Infinity: Beyond the Beyond the Beyond, Lieber writes:\"Tensors are the facts of the universe. They are the mathematical tools that we use to describe the relationships between physical quantities. They are the language of physics.\"\n",
    "\n"
   ]
  },
  {
   "cell_type": "code",
   "execution_count": null,
   "metadata": {
    "id": "V2HDCBNwtHuK"
   },
   "outputs": [],
   "source": []
  },
  {
   "cell_type": "code",
   "execution_count": null,
   "metadata": {
    "id": "GVYOH4qCtHxF"
   },
   "outputs": [],
   "source": []
  },
  {
   "cell_type": "code",
   "execution_count": null,
   "metadata": {
    "id": "pJLopD5dtH0U"
   },
   "outputs": [],
   "source": []
  },
  {
   "cell_type": "code",
   "execution_count": null,
   "metadata": {
    "id": "zHxYO475tH3K"
   },
   "outputs": [],
   "source": []
  }
 ],
 "metadata": {
  "colab": {
   "provenance": []
  },
  "kernelspec": {
   "display_name": "Python 3",
   "name": "python3"
  },
  "language_info": {
   "name": "python"
  }
 },
 "nbformat": 4,
 "nbformat_minor": 0
}
