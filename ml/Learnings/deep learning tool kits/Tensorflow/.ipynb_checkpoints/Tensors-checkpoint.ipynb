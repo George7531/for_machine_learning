{
 "cells": [
  {
   "cell_type": "markdown",
   "id": "455c2473",
   "metadata": {},
   "source": [
    "# Tensors 1\n",
    "\n"
   ]
  },
  {
   "cell_type": "markdown",
   "id": "27113f71",
   "metadata": {},
   "source": [
    "# day 114"
   ]
  },
  {
   "cell_type": "code",
   "execution_count": 2,
   "id": "8ae5b92a",
   "metadata": {},
   "outputs": [
    {
     "name": "stdout",
     "output_type": "stream",
     "text": [
      "Collecting tensorflowNote: you may need to restart the kernel to use updated packages.\n",
      "  Downloading tensorflow-2.12.0-cp39-cp39-win_amd64.whl (1.9 kB)\n",
      "Collecting tensorflow-intel==2.12.0\n",
      "  Downloading tensorflow_intel-2.12.0-cp39-cp39-win_amd64.whl (272.8 MB)\n",
      "Requirement already satisfied: six>=1.12.0 in c:\\users\\admin\\anaconda3\\lib\\site-packages (from tensorflow-intel==2.12.0->tensorflow) (1.16.0)\n",
      "Collecting keras<2.13,>=2.12.0\n",
      "  Downloading keras-2.12.0-py2.py3-none-any.whl (1.7 MB)\n",
      "Requirement already satisfied: wrapt<1.15,>=1.11.0 in c:\\users\\admin\\anaconda3\\lib\\site-packages (from tensorflow-intel==2.12.0->tensorflow) (1.12.1)\n",
      "Collecting gast<=0.4.0,>=0.2.1\n",
      "  Downloading gast-0.4.0-py3-none-any.whl (9.8 kB)\n",
      "Requirement already satisfied: packaging in c:\\users\\admin\\anaconda3\\lib\\site-packages (from tensorflow-intel==2.12.0->tensorflow) (21.3)\n",
      "Collecting protobuf!=4.21.0,!=4.21.1,!=4.21.2,!=4.21.3,!=4.21.4,!=4.21.5,<5.0.0dev,>=3.20.3\n",
      "  Downloading protobuf-4.23.3-cp39-cp39-win_amd64.whl (422 kB)\n",
      "Collecting numpy<1.24,>=1.22\n",
      "  Downloading numpy-1.23.5-cp39-cp39-win_amd64.whl (14.7 MB)\n",
      "Collecting flatbuffers>=2.0\n",
      "  Downloading flatbuffers-23.5.26-py2.py3-none-any.whl (26 kB)\n",
      "Collecting opt-einsum>=2.3.2\n",
      "  Downloading opt_einsum-3.3.0-py3-none-any.whl (65 kB)\n",
      "Collecting tensorflow-io-gcs-filesystem>=0.23.1\n",
      "  Downloading tensorflow_io_gcs_filesystem-0.31.0-cp39-cp39-win_amd64.whl (1.5 MB)\n",
      "Collecting jax>=0.3.15\n",
      "  Downloading jax-0.4.12.tar.gz (1.3 MB)\n",
      "  Installing build dependencies: started\n",
      "  Installing build dependencies: finished with status 'done'\n",
      "  Getting requirements to build wheel: started\n",
      "  Getting requirements to build wheel: finished with status 'done'\n",
      "    Preparing wheel metadata: started\n",
      "    Preparing wheel metadata: finished with status 'done'\n",
      "Collecting tensorboard<2.13,>=2.12\n",
      "  Downloading tensorboard-2.12.3-py3-none-any.whl (5.6 MB)\n",
      "Collecting google-pasta>=0.1.1\n",
      "  Downloading google_pasta-0.2.0-py3-none-any.whl (57 kB)\n",
      "Collecting termcolor>=1.1.0\n",
      "\n",
      "  Downloading termcolor-2.3.0-py3-none-any.whl (6.9 kB)\n",
      "Collecting libclang>=13.0.0\n",
      "  Downloading libclang-16.0.0-py2.py3-none-win_amd64.whl (24.4 MB)\n",
      "Requirement already satisfied: typing-extensions>=3.6.6 in c:\\users\\admin\\anaconda3\\lib\\site-packages (from tensorflow-intel==2.12.0->tensorflow) (4.1.1)\n",
      "Collecting absl-py>=1.0.0\n",
      "  Downloading absl_py-1.4.0-py3-none-any.whl (126 kB)\n",
      "Requirement already satisfied: h5py>=2.9.0 in c:\\users\\admin\\anaconda3\\lib\\site-packages (from tensorflow-intel==2.12.0->tensorflow) (3.6.0)\n",
      "Collecting tensorflow-estimator<2.13,>=2.12.0\n",
      "  Downloading tensorflow_estimator-2.12.0-py2.py3-none-any.whl (440 kB)\n",
      "Requirement already satisfied: grpcio<2.0,>=1.24.3 in c:\\users\\admin\\anaconda3\\lib\\site-packages (from tensorflow-intel==2.12.0->tensorflow) (1.42.0)\n",
      "Requirement already satisfied: setuptools in c:\\users\\admin\\anaconda3\\lib\\site-packages (from tensorflow-intel==2.12.0->tensorflow) (61.2.0)\n",
      "Collecting astunparse>=1.6.0\n",
      "  Downloading astunparse-1.6.3-py2.py3-none-any.whl (12 kB)\n",
      "Requirement already satisfied: wheel<1.0,>=0.23.0 in c:\\users\\admin\\anaconda3\\lib\\site-packages (from astunparse>=1.6.0->tensorflow-intel==2.12.0->tensorflow) (0.37.1)\n",
      "Collecting ml-dtypes>=0.1.0\n",
      "  Downloading ml_dtypes-0.2.0-cp39-cp39-win_amd64.whl (938 kB)\n",
      "Requirement already satisfied: scipy>=1.7 in c:\\users\\admin\\anaconda3\\lib\\site-packages (from jax>=0.3.15->tensorflow-intel==2.12.0->tensorflow) (1.7.3)\n",
      "Requirement already satisfied: importlib-metadata>=4.6 in c:\\users\\admin\\anaconda3\\lib\\site-packages (from jax>=0.3.15->tensorflow-intel==2.12.0->tensorflow) (4.11.3)\n",
      "Requirement already satisfied: zipp>=0.5 in c:\\users\\admin\\anaconda3\\lib\\site-packages (from importlib-metadata>=4.6->jax>=0.3.15->tensorflow-intel==2.12.0->tensorflow) (3.7.0)\n",
      "Collecting numpy<1.24,>=1.22\n",
      "  Downloading numpy-1.22.4-cp39-cp39-win_amd64.whl (14.7 MB)\n",
      "Collecting google-auth-oauthlib<1.1,>=0.5\n",
      "  Downloading google_auth_oauthlib-1.0.0-py2.py3-none-any.whl (18 kB)\n",
      "Requirement already satisfied: requests<3,>=2.21.0 in c:\\users\\admin\\anaconda3\\lib\\site-packages (from tensorboard<2.13,>=2.12->tensorflow-intel==2.12.0->tensorflow) (2.27.1)\n",
      "Requirement already satisfied: werkzeug>=1.0.1 in c:\\users\\admin\\anaconda3\\lib\\site-packages (from tensorboard<2.13,>=2.12->tensorflow-intel==2.12.0->tensorflow) (2.0.3)\n",
      "Collecting grpcio<2.0,>=1.24.3\n",
      "  Downloading grpcio-1.54.2-cp39-cp39-win_amd64.whl (4.1 MB)\n",
      "Requirement already satisfied: google-auth<3,>=1.6.3 in c:\\users\\admin\\anaconda3\\lib\\site-packages (from tensorboard<2.13,>=2.12->tensorflow-intel==2.12.0->tensorflow) (1.33.0)\n",
      "Requirement already satisfied: markdown>=2.6.8 in c:\\users\\admin\\anaconda3\\lib\\site-packages (from tensorboard<2.13,>=2.12->tensorflow-intel==2.12.0->tensorflow) (3.3.4)\n",
      "Collecting tensorboard-data-server<0.8.0,>=0.7.0\n",
      "  Downloading tensorboard_data_server-0.7.1-py3-none-any.whl (2.4 kB)\n",
      "Requirement already satisfied: rsa<5,>=3.1.4 in c:\\users\\admin\\anaconda3\\lib\\site-packages (from google-auth<3,>=1.6.3->tensorboard<2.13,>=2.12->tensorflow-intel==2.12.0->tensorflow) (4.7.2)\n",
      "Requirement already satisfied: cachetools<5.0,>=2.0.0 in c:\\users\\admin\\anaconda3\\lib\\site-packages (from google-auth<3,>=1.6.3->tensorboard<2.13,>=2.12->tensorflow-intel==2.12.0->tensorflow) (4.2.2)"
     ]
    },
    {
     "name": "stderr",
     "output_type": "stream",
     "text": [
      "ERROR: Could not install packages due to an OSError: [WinError 5] Access is denied: 'C:\\\\Users\\\\ADMIN\\\\anaconda3\\\\Lib\\\\site-packages\\\\~umpy\\\\core\\\\_multiarray_tests.cp39-win_amd64.pyd'\n",
      "Consider using the `--user` option or check the permissions.\n",
      "\n"
     ]
    },
    {
     "name": "stdout",
     "output_type": "stream",
     "text": [
      "\n",
      "Requirement already satisfied: pyasn1-modules>=0.2.1 in c:\\users\\admin\\anaconda3\\lib\\site-packages (from google-auth<3,>=1.6.3->tensorboard<2.13,>=2.12->tensorflow-intel==2.12.0->tensorflow) (0.2.8)\n",
      "Collecting google-auth<3,>=1.6.3\n",
      "  Downloading google_auth-2.20.0-py2.py3-none-any.whl (181 kB)\n",
      "Collecting requests-oauthlib>=0.7.0\n",
      "  Downloading requests_oauthlib-1.3.1-py2.py3-none-any.whl (23 kB)\n",
      "Requirement already satisfied: urllib3<2.0 in c:\\users\\admin\\anaconda3\\lib\\site-packages (from google-auth<3,>=1.6.3->tensorboard<2.13,>=2.12->tensorflow-intel==2.12.0->tensorflow) (1.26.9)\n",
      "Requirement already satisfied: pyasn1<0.5.0,>=0.4.6 in c:\\users\\admin\\anaconda3\\lib\\site-packages (from pyasn1-modules>=0.2.1->google-auth<3,>=1.6.3->tensorboard<2.13,>=2.12->tensorflow-intel==2.12.0->tensorflow) (0.4.8)\n",
      "Requirement already satisfied: charset-normalizer~=2.0.0 in c:\\users\\admin\\anaconda3\\lib\\site-packages (from requests<3,>=2.21.0->tensorboard<2.13,>=2.12->tensorflow-intel==2.12.0->tensorflow) (2.0.4)\n",
      "Requirement already satisfied: idna<4,>=2.5 in c:\\users\\admin\\anaconda3\\lib\\site-packages (from requests<3,>=2.21.0->tensorboard<2.13,>=2.12->tensorflow-intel==2.12.0->tensorflow) (3.3)\n",
      "Requirement already satisfied: certifi>=2017.4.17 in c:\\users\\admin\\anaconda3\\lib\\site-packages (from requests<3,>=2.21.0->tensorboard<2.13,>=2.12->tensorflow-intel==2.12.0->tensorflow) (2021.10.8)\n",
      "Collecting oauthlib>=3.0.0\n",
      "  Downloading oauthlib-3.2.2-py3-none-any.whl (151 kB)\n",
      "Requirement already satisfied: pyparsing!=3.0.5,>=2.0.2 in c:\\users\\admin\\anaconda3\\lib\\site-packages (from packaging->tensorflow-intel==2.12.0->tensorflow) (3.0.4)\n",
      "Building wheels for collected packages: jax\n",
      "  Building wheel for jax (PEP 517): started\n",
      "  Building wheel for jax (PEP 517): finished with status 'done'\n",
      "  Created wheel for jax: filename=jax-0.4.12-py3-none-any.whl size=1498562 sha256=0b16ccb7a33eba1e2fec97cf4bc02737c9cdf1342719ee3c55785717132297e0\n",
      "  Stored in directory: c:\\users\\admin\\appdata\\local\\pip\\cache\\wheels\\ca\\6c\\0b\\dab434867ee492673dd15dbf9f6cce85781b555432a92bfb10\n",
      "Successfully built jax\n",
      "Installing collected packages: oauthlib, requests-oauthlib, numpy, google-auth, tensorboard-data-server, protobuf, opt-einsum, ml-dtypes, grpcio, google-auth-oauthlib, absl-py, termcolor, tensorflow-io-gcs-filesystem, tensorflow-estimator, tensorboard, libclang, keras, jax, google-pasta, gast, flatbuffers, astunparse, tensorflow-intel, tensorflow\n",
      "  Attempting uninstall: numpy\n",
      "    Found existing installation: numpy 1.21.5\n",
      "    Uninstalling numpy-1.21.5:\n",
      "      Successfully uninstalled numpy-1.21.5\n"
     ]
    }
   ],
   "source": [
    "pip install tensorflow"
   ]
  },
  {
   "cell_type": "code",
   "execution_count": 3,
   "id": "7cb62cad",
   "metadata": {},
   "outputs": [
    {
     "name": "stdout",
     "output_type": "stream",
     "text": [
      "Collecting tensorflow\n",
      "  Using cached tensorflow-2.12.0-cp39-cp39-win_amd64.whl (1.9 kB)\n",
      "Collecting tensorflow-intel==2.12.0\n",
      "  Using cached tensorflow_intel-2.12.0-cp39-cp39-win_amd64.whl (272.8 MB)\n",
      "Collecting google-pasta>=0.1.1\n",
      "  Using cached google_pasta-0.2.0-py3-none-any.whl (57 kB)\n",
      "Requirement already satisfied: wrapt<1.15,>=1.11.0 in c:\\users\\admin\\anaconda3\\lib\\site-packages (from tensorflow-intel==2.12.0->tensorflow) (1.12.1)\n",
      "Requirement already satisfied: h5py>=2.9.0 in c:\\users\\admin\\anaconda3\\lib\\site-packages (from tensorflow-intel==2.12.0->tensorflow) (3.6.0)\n",
      "Requirement already satisfied: grpcio<2.0,>=1.24.3 in c:\\users\\admin\\anaconda3\\lib\\site-packages (from tensorflow-intel==2.12.0->tensorflow) (1.42.0)\n",
      "Requirement already satisfied: numpy<1.24,>=1.22 in c:\\users\\admin\\anaconda3\\lib\\site-packages (from tensorflow-intel==2.12.0->tensorflow) (1.22.4)\n",
      "Collecting flatbuffers>=2.0\n",
      "  Using cached flatbuffers-23.5.26-py2.py3-none-any.whl (26 kB)\n",
      "Requirement already satisfied: packaging in c:\\users\\admin\\anaconda3\\lib\\site-packages (from tensorflow-intel==2.12.0->tensorflow) (21.3)\n",
      "Collecting libclang>=13.0.0\n",
      "  Using cached libclang-16.0.0-py2.py3-none-win_amd64.whl (24.4 MB)\n",
      "Collecting tensorflow-io-gcs-filesystem>=0.23.1\n",
      "  Using cached tensorflow_io_gcs_filesystem-0.31.0-cp39-cp39-win_amd64.whl (1.5 MB)\n",
      "Collecting tensorboard<2.13,>=2.12\n",
      "  Using cached tensorboard-2.12.3-py3-none-any.whl (5.6 MB)\n",
      "Collecting astunparse>=1.6.0\n",
      "  Using cached astunparse-1.6.3-py2.py3-none-any.whl (12 kB)\n",
      "Requirement already satisfied: typing-extensions>=3.6.6 in c:\\users\\admin\\anaconda3\\lib\\site-packages (from tensorflow-intel==2.12.0->tensorflow) (4.1.1)\n",
      "Collecting termcolor>=1.1.0\n",
      "  Using cached termcolor-2.3.0-py3-none-any.whl (6.9 kB)\n",
      "Collecting jax>=0.3.15\n",
      "  Using cached jax-0.4.12-py3-none-any.whl\n",
      "Collecting opt-einsum>=2.3.2\n",
      "  Using cached opt_einsum-3.3.0-py3-none-any.whl (65 kB)\n",
      "Collecting tensorflow-estimator<2.13,>=2.12.0\n",
      "  Using cached tensorflow_estimator-2.12.0-py2.py3-none-any.whl (440 kB)\n",
      "Collecting gast<=0.4.0,>=0.2.1\n",
      "  Using cached gast-0.4.0-py3-none-any.whl (9.8 kB)\n",
      "Requirement already satisfied: setuptools in c:\\users\\admin\\anaconda3\\lib\\site-packages (from tensorflow-intel==2.12.0->tensorflow) (61.2.0)\n",
      "Collecting absl-py>=1.0.0\n",
      "  Using cached absl_py-1.4.0-py3-none-any.whl (126 kB)\n",
      "Collecting protobuf!=4.21.0,!=4.21.1,!=4.21.2,!=4.21.3,!=4.21.4,!=4.21.5,<5.0.0dev,>=3.20.3\n",
      "  Using cached protobuf-4.23.3-cp39-cp39-win_amd64.whl (422 kB)\n",
      "Requirement already satisfied: six>=1.12.0 in c:\\users\\admin\\anaconda3\\lib\\site-packages (from tensorflow-intel==2.12.0->tensorflow) (1.16.0)\n",
      "Collecting keras<2.13,>=2.12.0\n",
      "  Using cached keras-2.12.0-py2.py3-none-any.whl (1.7 MB)\n",
      "Note: you may need to restart the kernel to use updated packages.Requirement already satisfied: wheel<1.0,>=0.23.0 in c:\\users\\admin\\anaconda3\\lib\\site-packages (from astunparse>=1.6.0->tensorflow-intel==2.12.0->tensorflow) (0.37.1)\n",
      "Requirement already satisfied: scipy>=1.7 in c:\\users\\admin\\anaconda3\\lib\\site-packages (from jax>=0.3.15->tensorflow-intel==2.12.0->tensorflow) (1.7.3)\n",
      "Requirement already satisfied: importlib-metadata>=4.6 in c:\\users\\admin\\anaconda3\\lib\\site-packages (from jax>=0.3.15->tensorflow-intel==2.12.0->tensorflow) (4.11.3)\n",
      "Collecting ml-dtypes>=0.1.0\n",
      "  Using cached ml_dtypes-0.2.0-cp39-cp39-win_amd64.whl (938 kB)\n",
      "Requirement already satisfied: zipp>=0.5 in c:\\users\\admin\\anaconda3\\lib\\site-packages (from importlib-metadata>=4.6->jax>=0.3.15->tensorflow-intel==2.12.0->tensorflow) (3.7.0)\n",
      "\n"
     ]
    },
    {
     "name": "stderr",
     "output_type": "stream",
     "text": [
      "ERROR: pip's dependency resolver does not currently take into account all the packages that are installed. This behaviour is the source of the following dependency conflicts.\n",
      "google-cloud-storage 1.31.0 requires google-auth<2.0dev,>=1.11.0, but you have google-auth 2.20.0 which is incompatible.\n",
      "google-cloud-core 1.7.1 requires google-auth<2.0dev,>=1.24.0, but you have google-auth 2.20.0 which is incompatible.\n",
      "google-api-core 1.25.1 requires google-auth<2.0dev,>=1.21.1, but you have google-auth 2.20.0 which is incompatible.\n"
     ]
    },
    {
     "name": "stdout",
     "output_type": "stream",
     "text": [
      "Collecting tensorboard-data-server<0.8.0,>=0.7.0\n",
      "  Using cached tensorboard_data_server-0.7.1-py3-none-any.whl (2.4 kB)\n",
      "Requirement already satisfied: werkzeug>=1.0.1 in c:\\users\\admin\\anaconda3\\lib\\site-packages (from tensorboard<2.13,>=2.12->tensorflow-intel==2.12.0->tensorflow) (2.0.3)\n",
      "Requirement already satisfied: markdown>=2.6.8 in c:\\users\\admin\\anaconda3\\lib\\site-packages (from tensorboard<2.13,>=2.12->tensorflow-intel==2.12.0->tensorflow) (3.3.4)\n",
      "Collecting grpcio<2.0,>=1.24.3\n",
      "  Using cached grpcio-1.54.2-cp39-cp39-win_amd64.whl (4.1 MB)\n",
      "Requirement already satisfied: requests<3,>=2.21.0 in c:\\users\\admin\\anaconda3\\lib\\site-packages (from tensorboard<2.13,>=2.12->tensorflow-intel==2.12.0->tensorflow) (2.27.1)\n",
      "Requirement already satisfied: google-auth<3,>=1.6.3 in c:\\users\\admin\\anaconda3\\lib\\site-packages (from tensorboard<2.13,>=2.12->tensorflow-intel==2.12.0->tensorflow) (1.33.0)\n",
      "Collecting google-auth-oauthlib<1.1,>=0.5\n",
      "  Using cached google_auth_oauthlib-1.0.0-py2.py3-none-any.whl (18 kB)\n",
      "Requirement already satisfied: pyasn1-modules>=0.2.1 in c:\\users\\admin\\anaconda3\\lib\\site-packages (from google-auth<3,>=1.6.3->tensorboard<2.13,>=2.12->tensorflow-intel==2.12.0->tensorflow) (0.2.8)\n",
      "Requirement already satisfied: cachetools<5.0,>=2.0.0 in c:\\users\\admin\\anaconda3\\lib\\site-packages (from google-auth<3,>=1.6.3->tensorboard<2.13,>=2.12->tensorflow-intel==2.12.0->tensorflow) (4.2.2)\n",
      "Requirement already satisfied: rsa<5,>=3.1.4 in c:\\users\\admin\\anaconda3\\lib\\site-packages (from google-auth<3,>=1.6.3->tensorboard<2.13,>=2.12->tensorflow-intel==2.12.0->tensorflow) (4.7.2)\n",
      "Collecting google-auth<3,>=1.6.3\n",
      "  Using cached google_auth-2.20.0-py2.py3-none-any.whl (181 kB)\n",
      "Requirement already satisfied: requests-oauthlib>=0.7.0 in c:\\users\\admin\\anaconda3\\lib\\site-packages (from google-auth-oauthlib<1.1,>=0.5->tensorboard<2.13,>=2.12->tensorflow-intel==2.12.0->tensorflow) (1.3.1)\n",
      "Requirement already satisfied: urllib3<2.0 in c:\\users\\admin\\anaconda3\\lib\\site-packages (from google-auth<3,>=1.6.3->tensorboard<2.13,>=2.12->tensorflow-intel==2.12.0->tensorflow) (1.26.9)\n",
      "Requirement already satisfied: pyasn1<0.5.0,>=0.4.6 in c:\\users\\admin\\anaconda3\\lib\\site-packages (from pyasn1-modules>=0.2.1->google-auth<3,>=1.6.3->tensorboard<2.13,>=2.12->tensorflow-intel==2.12.0->tensorflow) (0.4.8)\n",
      "Requirement already satisfied: charset-normalizer~=2.0.0 in c:\\users\\admin\\anaconda3\\lib\\site-packages (from requests<3,>=2.21.0->tensorboard<2.13,>=2.12->tensorflow-intel==2.12.0->tensorflow) (2.0.4)\n",
      "Requirement already satisfied: idna<4,>=2.5 in c:\\users\\admin\\anaconda3\\lib\\site-packages (from requests<3,>=2.21.0->tensorboard<2.13,>=2.12->tensorflow-intel==2.12.0->tensorflow) (3.3)\n",
      "Requirement already satisfied: certifi>=2017.4.17 in c:\\users\\admin\\anaconda3\\lib\\site-packages (from requests<3,>=2.21.0->tensorboard<2.13,>=2.12->tensorflow-intel==2.12.0->tensorflow) (2021.10.8)\n",
      "Requirement already satisfied: oauthlib>=3.0.0 in c:\\users\\admin\\anaconda3\\lib\\site-packages (from requests-oauthlib>=0.7.0->google-auth-oauthlib<1.1,>=0.5->tensorboard<2.13,>=2.12->tensorflow-intel==2.12.0->tensorflow) (3.2.2)\n",
      "Requirement already satisfied: pyparsing!=3.0.5,>=2.0.2 in c:\\users\\admin\\anaconda3\\lib\\site-packages (from packaging->tensorflow-intel==2.12.0->tensorflow) (3.0.4)\n",
      "Installing collected packages: google-auth, tensorboard-data-server, protobuf, opt-einsum, ml-dtypes, grpcio, google-auth-oauthlib, absl-py, termcolor, tensorflow-io-gcs-filesystem, tensorflow-estimator, tensorboard, libclang, keras, jax, google-pasta, gast, flatbuffers, astunparse, tensorflow-intel, tensorflow\n",
      "  Attempting uninstall: google-auth\n",
      "    Found existing installation: google-auth 1.33.0\n",
      "    Uninstalling google-auth-1.33.0:\n",
      "      Successfully uninstalled google-auth-1.33.0\n",
      "  Attempting uninstall: protobuf\n",
      "    Found existing installation: protobuf 3.19.1\n",
      "    Uninstalling protobuf-3.19.1:\n",
      "      Successfully uninstalled protobuf-3.19.1\n",
      "  Attempting uninstall: grpcio\n",
      "    Found existing installation: grpcio 1.42.0\n",
      "    Uninstalling grpcio-1.42.0:\n",
      "      Successfully uninstalled grpcio-1.42.0\n",
      "Successfully installed absl-py-1.4.0 astunparse-1.6.3 flatbuffers-23.5.26 gast-0.4.0 google-auth-2.20.0 google-auth-oauthlib-1.0.0 google-pasta-0.2.0 grpcio-1.54.2 jax-0.4.12 keras-2.12.0 libclang-16.0.0 ml-dtypes-0.2.0 opt-einsum-3.3.0 protobuf-4.23.3 tensorboard-2.12.3 tensorboard-data-server-0.7.1 tensorflow-2.12.0 tensorflow-estimator-2.12.0 tensorflow-intel-2.12.0 tensorflow-io-gcs-filesystem-0.31.0 termcolor-2.3.0\n"
     ]
    }
   ],
   "source": [
    "pip install --upgrade tensorflow"
   ]
  },
  {
   "cell_type": "code",
   "execution_count": 2,
   "id": "9be80cd0",
   "metadata": {},
   "outputs": [],
   "source": [
    "import numpy as np\n",
    "import tensorflow as tf\n",
    "import pandas as pd\n",
    "import sympy as sym\n",
    "from IPython.display import display,Math\n",
    "sym.init_printing()\n",
    "import matplotlib.pyplot as plt"
   ]
  },
  {
   "cell_type": "code",
   "execution_count": 9,
   "id": "39ad2dab",
   "metadata": {},
   "outputs": [
    {
     "data": {
      "text/plain": [
       "array([[[8, 2],\n",
       "        [7, 8],\n",
       "        [3, 1],\n",
       "        [4, 6],\n",
       "        [5, 8]],\n",
       "\n",
       "       [[3, 5],\n",
       "        [6, 2],\n",
       "        [4, 1],\n",
       "        [4, 6],\n",
       "        [3, 2]]])"
      ]
     },
     "execution_count": 9,
     "metadata": {},
     "output_type": "execute_result"
    }
   ],
   "source": [
    "np.random.randint(1,9,(2,5,2))"
   ]
  },
  {
   "cell_type": "code",
   "execution_count": 5,
   "id": "6c6c57e0",
   "metadata": {},
   "outputs": [
    {
     "data": {
      "text/plain": [
       "'2.12.0'"
      ]
     },
     "execution_count": 5,
     "metadata": {},
     "output_type": "execute_result"
    }
   ],
   "source": [
    "tf.__version__"
   ]
  },
  {
   "cell_type": "markdown",
   "id": "3431fd9b",
   "metadata": {},
   "source": [
    "# creating tensors with tf.constant()"
   ]
  },
  {
   "cell_type": "code",
   "execution_count": 3,
   "id": "4f5d776c",
   "metadata": {},
   "outputs": [
    {
     "data": {
      "text/plain": [
       "<tf.Tensor: shape=(), dtype=int32, numpy=7>"
      ]
     },
     "execution_count": 3,
     "metadata": {},
     "output_type": "execute_result"
    }
   ],
   "source": [
    "scalar = tf.constant(7)\n",
    "scalar"
   ]
  },
  {
   "cell_type": "markdown",
   "id": "49bf09c7",
   "metadata": {},
   "source": [
    "# checking the number of dimension of a tensor"
   ]
  },
  {
   "cell_type": "code",
   "execution_count": 4,
   "id": "755a3fa9",
   "metadata": {},
   "outputs": [
    {
     "data": {
      "image/png": "[encoded data removed]",
      "text/latex": [
       "$\\displaystyle 0$"
      ],
      "text/plain": [
       "0"
      ]
     },
     "execution_count": 4,
     "metadata": {},
     "output_type": "execute_result"
    }
   ],
   "source": [
    "scalar.ndim"
   ]
  },
  {
   "cell_type": "markdown",
   "id": "4dfa4062",
   "metadata": {},
   "source": [
    "# create a vector"
   ]
  },
  {
   "cell_type": "code",
   "execution_count": 7,
   "id": "71eee389",
   "metadata": {},
   "outputs": [
    {
     "data": {
      "text/plain": [
       "<tf.Tensor: shape=(5,), dtype=int32, numpy=array([1, 2, 3, 4, 5])>"
      ]
     },
     "execution_count": 7,
     "metadata": {},
     "output_type": "execute_result"
    }
   ],
   "source": [
    "vector = tf.constant([1,2,3,4,5])\n",
    "vector"
   ]
  },
  {
   "cell_type": "code",
   "execution_count": 8,
   "id": "934dbf87",
   "metadata": {},
   "outputs": [
    {
     "data": {
      "image/png": "[encoded data removed]",
      "text/latex": [
       "$\\displaystyle 1$"
      ],
      "text/plain": [
       "1"
      ]
     },
     "execution_count": 8,
     "metadata": {},
     "output_type": "execute_result"
    }
   ],
   "source": [
    "vector.ndim"
   ]
  },
  {
   "cell_type": "markdown",
   "id": "4e5a66c5",
   "metadata": {},
   "source": [
    "# create a matrix"
   ]
  },
  {
   "cell_type": "code",
   "execution_count": 10,
   "id": "a97299e4",
   "metadata": {},
   "outputs": [
    {
     "data": {
      "text/plain": [
       "<tf.Tensor: shape=(3, 3), dtype=int32, numpy=\n",
       "array([[7, 7, 2],\n",
       "       [1, 8, 7],\n",
       "       [2, 6, 1]])>"
      ]
     },
     "execution_count": 10,
     "metadata": {},
     "output_type": "execute_result"
    }
   ],
   "source": [
    "matrix = tf.constant(np.random.randint(1,9,(3,3)))\n",
    "matrix"
   ]
  },
  {
   "cell_type": "code",
   "execution_count": 11,
   "id": "727fe227",
   "metadata": {},
   "outputs": [
    {
     "data": {
      "image/png": "[encoded data removed]",
      "text/latex": [
       "$\\displaystyle 2$"
      ],
      "text/plain": [
       "2"
      ]
     },
     "execution_count": 11,
     "metadata": {},
     "output_type": "execute_result"
    }
   ],
   "source": [
    "matrix.ndim"
   ]
  },
  {
   "cell_type": "code",
   "execution_count": 19,
   "id": "1c2e5ff1",
   "metadata": {},
   "outputs": [
    {
     "data": {
      "text/plain": [
       "<tf.Tensor: shape=(3, 2), dtype=float64, numpy=\n",
       "array([[10.  ,  9.  ],\n",
       "       [ 3.5 ,  2.  ],\n",
       "       [ 3.  ,  3.23]])>"
      ]
     },
     "execution_count": 19,
     "metadata": {},
     "output_type": "execute_result"
    }
   ],
   "source": [
    "#controlling the dtype of the tf.constant()\n",
    "another_matrix = tf.constant([[10.,9.],[3.5,2],[3,3.23]],dtype=tf.float64) # 64 bit precision is more accurate than 32 bit \n",
    "                                                                           # but takes a lot of memory or space.\n",
    "another_matrix"
   ]
  },
  {
   "cell_type": "code",
   "execution_count": 20,
   "id": "2c3c1b51",
   "metadata": {},
   "outputs": [
    {
     "data": {
      "image/png": "[encoded data removed]",
      "text/latex": [
       "$\\displaystyle 2$"
      ],
      "text/plain": [
       "2"
      ]
     },
     "execution_count": 20,
     "metadata": {},
     "output_type": "execute_result"
    }
   ],
   "source": [
    "another_matrix.ndim"
   ]
  },
  {
   "cell_type": "markdown",
   "id": "84987928",
   "metadata": {},
   "source": [
    "# creating  tensors"
   ]
  },
  {
   "cell_type": "code",
   "execution_count": 24,
   "id": "8d998706",
   "metadata": {},
   "outputs": [
    {
     "data": {
      "text/plain": [
       "<tf.Tensor: shape=(2, 3, 3), dtype=int64, numpy=\n",
       "array([[[5, 5, 3],\n",
       "        [3, 3, 4],\n",
       "        [5, 8, 5]],\n",
       "\n",
       "       [[7, 8, 2],\n",
       "        [3, 6, 3],\n",
       "        [7, 7, 7]]], dtype=int64)>"
      ]
     },
     "execution_count": 24,
     "metadata": {},
     "output_type": "execute_result"
    }
   ],
   "source": [
    "tensor = tf.constant(np.random.randint(low=1,high=9,size=(2,3,3)),dtype=tf.int64)\n",
    "tensor"
   ]
  },
  {
   "cell_type": "code",
   "execution_count": 23,
   "id": "ca993b36",
   "metadata": {},
   "outputs": [
    {
     "data": {
      "image/png": "[encoded data removed]",
      "text/latex": [
       "$\\displaystyle 3$"
      ],
      "text/plain": [
       "3"
      ]
     },
     "execution_count": 23,
     "metadata": {},
     "output_type": "execute_result"
    }
   ],
   "source": [
    "tensor.ndim # 3d"
   ]
  },
  {
   "cell_type": "code",
   "execution_count": 25,
   "id": "1d5e37ca",
   "metadata": {},
   "outputs": [
    {
     "data": {
      "text/plain": [
       "<tf.Tensor: shape=(2, 3, 3, 3), dtype=int64, numpy=\n",
       "array([[[[1, 8, 6],\n",
       "         [2, 3, 7],\n",
       "         [5, 1, 2]],\n",
       "\n",
       "        [[5, 8, 3],\n",
       "         [3, 4, 3],\n",
       "         [5, 4, 3]],\n",
       "\n",
       "        [[8, 3, 2],\n",
       "         [3, 6, 7],\n",
       "         [7, 4, 8]]],\n",
       "\n",
       "\n",
       "       [[[5, 1, 8],\n",
       "         [8, 1, 5],\n",
       "         [6, 1, 5]],\n",
       "\n",
       "        [[1, 8, 4],\n",
       "         [3, 4, 7],\n",
       "         [5, 6, 6]],\n",
       "\n",
       "        [[7, 5, 1],\n",
       "         [4, 8, 5],\n",
       "         [2, 6, 5]]]], dtype=int64)>"
      ]
     },
     "execution_count": 25,
     "metadata": {},
     "output_type": "execute_result"
    }
   ],
   "source": [
    "tensor = tf.constant(np.random.randint(low=1,high=9,size=(2,3,3,3)),dtype=tf.int64)\n",
    "tensor"
   ]
  },
  {
   "cell_type": "code",
   "execution_count": 26,
   "id": "396978cc",
   "metadata": {},
   "outputs": [
    {
     "data": {
      "image/png": "[encoded data removed]",
      "text/latex": [
       "$\\displaystyle 4$"
      ],
      "text/plain": [
       "4"
      ]
     },
     "execution_count": 26,
     "metadata": {},
     "output_type": "execute_result"
    }
   ],
   "source": [
    "tensor.ndim # 4d"
   ]
  },
  {
   "cell_type": "markdown",
   "id": "80a66142",
   "metadata": {},
   "source": [
    "# conclusion:\n",
    "\n",
    "1. scaler: a number\n",
    "\n",
    "\n",
    "2. vector: a number with the direction (i.e plane's speed and direction)\n",
    "\n",
    "\n",
    "\n",
    "3. matrix: a 2d array of numbers (comprising of rows and columns)\n",
    "\n",
    "\n",
    "4. Tensors: an nd array of numbers. \n",
    "\n",
    "\n",
    "# relationship between scaler,vector,matrix and tensor;\n",
    "\n",
    "\n",
    "A zero dimensional tensor is a scaler.\n",
    "\n",
    "\n",
    "A 1d tensor is a vector\n",
    "\n",
    "\n",
    "A 2d tensor is a matrix\n",
    "\n",
    "\n",
    "\n",
    "A 3d tensor is a 3d tensor\n",
    "    \n"
   ]
  },
  {
   "cell_type": "code",
   "execution_count": null,
   "id": "f7026ac7",
   "metadata": {},
   "outputs": [],
   "source": []
  },
  {
   "cell_type": "markdown",
   "id": "ac0aa636",
   "metadata": {},
   "source": [
    "# creating a changeable tensor"
   ]
  },
  {
   "cell_type": "code",
   "execution_count": 30,
   "id": "7bcb962f",
   "metadata": {},
   "outputs": [],
   "source": [
    "changeable_tensor = tf.Variable([1,2,3,4,5])\n",
    "\n",
    "unchangeable_tensor = tf.constant([1,2,3,4,5]) "
   ]
  },
  {
   "cell_type": "code",
   "execution_count": 31,
   "id": "ac33e03e",
   "metadata": {},
   "outputs": [
    {
     "data": {
      "text/plain": [
       "<tf.Variable 'Variable:0' shape=(5,) dtype=int32, numpy=array([1, 2, 3, 4, 5])>"
      ]
     },
     "execution_count": 31,
     "metadata": {},
     "output_type": "execute_result"
    }
   ],
   "source": [
    "changeable_tensor"
   ]
  },
  {
   "cell_type": "code",
   "execution_count": 32,
   "id": "17c740f8",
   "metadata": {},
   "outputs": [
    {
     "data": {
      "text/plain": [
       "<tf.Tensor: shape=(5,), dtype=int32, numpy=array([1, 2, 3, 4, 5])>"
      ]
     },
     "execution_count": 32,
     "metadata": {},
     "output_type": "execute_result"
    }
   ],
   "source": [
    "unchangeable_tensor"
   ]
  },
  {
   "cell_type": "code",
   "execution_count": 33,
   "id": "8249a29b",
   "metadata": {},
   "outputs": [
    {
     "ename": "TypeError",
     "evalue": "'ResourceVariable' object does not support item assignment",
     "output_type": "error",
     "traceback": [
      "\u001b[1;31m---------------------------------------------------------------------------\u001b[0m",
      "\u001b[1;31mTypeError\u001b[0m                                 Traceback (most recent call last)",
      "Input \u001b[1;32mIn [33]\u001b[0m, in \u001b[0;36m<cell line: 4>\u001b[1;34m()\u001b[0m\n\u001b[0;32m      1\u001b[0m \u001b[38;5;66;03m# changeable tensor can be changed\u001b[39;00m\n\u001b[1;32m----> 4\u001b[0m changeable_tensor[\u001b[38;5;241m0\u001b[39m] \u001b[38;5;241m=\u001b[39m \u001b[38;5;241m99\u001b[39m\n\u001b[0;32m      6\u001b[0m changeable_tensor\n",
      "\u001b[1;31mTypeError\u001b[0m: 'ResourceVariable' object does not support item assignment"
     ]
    }
   ],
   "source": [
    "# changeable tensor can be changed\n",
    "\n",
    "\n",
    "changeable_tensor[0] = 99\n",
    "\n",
    "changeable_tensor"
   ]
  },
  {
   "cell_type": "code",
   "execution_count": 34,
   "id": "09af6381",
   "metadata": {},
   "outputs": [
    {
     "data": {
      "text/plain": [
       "<tf.Variable 'UnreadVariable' shape=(5,) dtype=int32, numpy=array([99,  2,  3,  4,  5])>"
      ]
     },
     "execution_count": 34,
     "metadata": {},
     "output_type": "execute_result"
    }
   ],
   "source": [
    "changeable_tensor[0].assign(99) # this is how we assign new_elements in the place of the old one in a tensor.Variable"
   ]
  },
  {
   "cell_type": "code",
   "execution_count": 36,
   "id": "09eabfd1",
   "metadata": {},
   "outputs": [
    {
     "ename": "AttributeError",
     "evalue": "'tensorflow.python.framework.ops.EagerTensor' object has no attribute 'assign'",
     "output_type": "error",
     "traceback": [
      "\u001b[1;31m---------------------------------------------------------------------------\u001b[0m",
      "\u001b[1;31mAttributeError\u001b[0m                            Traceback (most recent call last)",
      "Input \u001b[1;32mIn [36]\u001b[0m, in \u001b[0;36m<cell line: 2>\u001b[1;34m()\u001b[0m\n\u001b[0;32m      1\u001b[0m \u001b[38;5;66;03m# \u001b[39;00m\n\u001b[1;32m----> 2\u001b[0m \u001b[43munchangeable_tensor\u001b[49m\u001b[43m[\u001b[49m\u001b[38;5;241;43m0\u001b[39;49m\u001b[43m]\u001b[49m\u001b[38;5;241;43m.\u001b[39;49m\u001b[43massign\u001b[49m(\u001b[38;5;241m99\u001b[39m)\n",
      "File \u001b[1;32m~\\anaconda3\\lib\\site-packages\\tensorflow\\python\\framework\\ops.py:443\u001b[0m, in \u001b[0;36mTensor.__getattr__\u001b[1;34m(self, name)\u001b[0m\n\u001b[0;32m    434\u001b[0m \u001b[38;5;28;01mif\u001b[39;00m name \u001b[38;5;129;01min\u001b[39;00m {\u001b[38;5;124m\"\u001b[39m\u001b[38;5;124mT\u001b[39m\u001b[38;5;124m\"\u001b[39m, \u001b[38;5;124m\"\u001b[39m\u001b[38;5;124mastype\u001b[39m\u001b[38;5;124m\"\u001b[39m, \u001b[38;5;124m\"\u001b[39m\u001b[38;5;124mravel\u001b[39m\u001b[38;5;124m\"\u001b[39m, \u001b[38;5;124m\"\u001b[39m\u001b[38;5;124mtranspose\u001b[39m\u001b[38;5;124m\"\u001b[39m, \u001b[38;5;124m\"\u001b[39m\u001b[38;5;124mreshape\u001b[39m\u001b[38;5;124m\"\u001b[39m, \u001b[38;5;124m\"\u001b[39m\u001b[38;5;124mclip\u001b[39m\u001b[38;5;124m\"\u001b[39m, \u001b[38;5;124m\"\u001b[39m\u001b[38;5;124msize\u001b[39m\u001b[38;5;124m\"\u001b[39m,\n\u001b[0;32m    435\u001b[0m             \u001b[38;5;124m\"\u001b[39m\u001b[38;5;124mtolist\u001b[39m\u001b[38;5;124m\"\u001b[39m, \u001b[38;5;124m\"\u001b[39m\u001b[38;5;124mdata\u001b[39m\u001b[38;5;124m\"\u001b[39m}:\n\u001b[0;32m    436\u001b[0m   \u001b[38;5;66;03m# TODO(wangpeng): Export the enable_numpy_behavior knob\u001b[39;00m\n\u001b[0;32m    437\u001b[0m   \u001b[38;5;28;01mraise\u001b[39;00m \u001b[38;5;167;01mAttributeError\u001b[39;00m(\n\u001b[0;32m    438\u001b[0m       \u001b[38;5;124mf\u001b[39m\u001b[38;5;124m\"\u001b[39m\u001b[38;5;132;01m{\u001b[39;00m\u001b[38;5;28mtype\u001b[39m(\u001b[38;5;28mself\u001b[39m)\u001b[38;5;241m.\u001b[39m\u001b[38;5;18m__name__\u001b[39m\u001b[38;5;132;01m}\u001b[39;00m\u001b[38;5;124m object has no attribute \u001b[39m\u001b[38;5;124m'\u001b[39m\u001b[38;5;132;01m{\u001b[39;00mname\u001b[38;5;132;01m}\u001b[39;00m\u001b[38;5;124m'\u001b[39m\u001b[38;5;124m. \u001b[39m\u001b[38;5;124m\"\u001b[39m \u001b[38;5;241m+\u001b[39m \u001b[38;5;124m\"\"\"\u001b[39m\n\u001b[0;32m    439\u001b[0m \u001b[38;5;124m    If you are looking for numpy-related methods, please run the following:\u001b[39m\n\u001b[0;32m    440\u001b[0m \u001b[38;5;124m    from tensorflow.python.ops.numpy_ops import np_config\u001b[39m\n\u001b[0;32m    441\u001b[0m \u001b[38;5;124m    np_config.enable_numpy_behavior()\u001b[39m\n\u001b[0;32m    442\u001b[0m \u001b[38;5;124m  \u001b[39m\u001b[38;5;124m\"\"\"\u001b[39m)\n\u001b[1;32m--> 443\u001b[0m \u001b[38;5;28;43mself\u001b[39;49m\u001b[38;5;241;43m.\u001b[39;49m\u001b[38;5;21;43m__getattribute__\u001b[39;49m\u001b[43m(\u001b[49m\u001b[43mname\u001b[49m\u001b[43m)\u001b[49m\n",
      "\u001b[1;31mAttributeError\u001b[0m: 'tensorflow.python.framework.ops.EagerTensor' object has no attribute 'assign'"
     ]
    }
   ],
   "source": [
    "# which is not possible with unchangeable_tensor.\n",
    "unchangeable_tensor[0].assign(99)"
   ]
  },
  {
   "cell_type": "code",
   "execution_count": null,
   "id": "ced45f6c",
   "metadata": {},
   "outputs": [],
   "source": []
  },
  {
   "cell_type": "markdown",
   "id": "7723631f",
   "metadata": {},
   "source": [
    "# creating random tensors "
   ]
  },
  {
   "cell_type": "code",
   "execution_count": 39,
   "id": "77ce48d9",
   "metadata": {},
   "outputs": [
    {
     "data": {
      "text/plain": [
       "<tf.Tensor: shape=(3, 3, 2), dtype=float32, numpy=\n",
       "array([[[0.26462185, 0.41983485],\n",
       "        [0.9917637 , 0.285321  ],\n",
       "        [0.054052  , 0.9066709 ]],\n",
       "\n",
       "       [[0.9097972 , 0.9640057 ],\n",
       "        [0.8657526 , 0.09613705],\n",
       "        [0.16283393, 0.82434356]],\n",
       "\n",
       "       [[0.4425025 , 0.15391934],\n",
       "        [0.13467109, 0.06529653],\n",
       "        [0.9839015 , 0.97827923]]], dtype=float32)>"
      ]
     },
     "execution_count": 39,
     "metadata": {},
     "output_type": "execute_result"
    }
   ],
   "source": [
    "tf.random.uniform(shape=(3,3,2)) # similar to np.random.rand(3,3,2)"
   ]
  },
  {
   "cell_type": "code",
   "execution_count": 40,
   "id": "3df565bb",
   "metadata": {},
   "outputs": [
    {
     "data": {
      "text/plain": [
       "<tf.Tensor: shape=(3, 3, 2), dtype=float32, numpy=\n",
       "array([[[ 0.66543627, -1.2582783 ],\n",
       "        [-0.33246574, -3.123431  ],\n",
       "        [ 0.6896292 , -1.0240158 ]],\n",
       "\n",
       "       [[-1.1953732 , -0.21195565],\n",
       "        [ 1.449627  ,  1.8074579 ],\n",
       "        [ 1.1856779 ,  1.1264997 ]],\n",
       "\n",
       "       [[-0.11152789,  0.4514775 ],\n",
       "        [-0.4474973 ,  1.0122569 ],\n",
       "        [-1.9101537 , -1.3241285 ]]], dtype=float32)>"
      ]
     },
     "execution_count": 40,
     "metadata": {},
     "output_type": "execute_result"
    }
   ],
   "source": [
    "tf.random.normal(shape=(3,3,2)) # similar np.random.randn(3,3,2)"
   ]
  },
  {
   "cell_type": "code",
   "execution_count": 41,
   "id": "e8b342dc",
   "metadata": {},
   "outputs": [
    {
     "data": {
      "text/plain": [
       "<tf.Tensor: shape=(3, 3, 2), dtype=float32, numpy=\n",
       "array([[[-0.7565803 , -0.06854702],\n",
       "        [ 0.07595026, -1.2573844 ],\n",
       "        [-0.23193763, -1.8107855 ]],\n",
       "\n",
       "       [[ 0.09988727, -0.50998646],\n",
       "        [-0.7535805 , -0.57166284],\n",
       "        [ 0.1480774 , -0.23362993]],\n",
       "\n",
       "       [[-0.3522796 ,  0.40621263],\n",
       "        [-1.0523509 ,  1.2054597 ],\n",
       "        [ 1.6874489 , -0.4462975 ]]], dtype=float32)>"
      ]
     },
     "execution_count": 41,
     "metadata": {},
     "output_type": "execute_result"
    }
   ],
   "source": [
    "random_1 = tf.random.Generator.from_seed(42)\n",
    "\n",
    "random_1.normal(shape=(3,3,2))"
   ]
  },
  {
   "cell_type": "markdown",
   "id": "05169b54",
   "metadata": {},
   "source": [
    "# day 115"
   ]
  },
  {
   "cell_type": "code",
   "execution_count": 1,
   "id": "7c24e6c0",
   "metadata": {},
   "outputs": [],
   "source": [
    "import numpy as np\n",
    "import sympy as sym\n",
    "from IPython.display import display,Math\n",
    "sym.init_printing()\n",
    "import matplotlib.pyplot as plt\n",
    "import scipy.stats as stats\n",
    "import tensorflow as tf"
   ]
  },
  {
   "cell_type": "markdown",
   "id": "60b1911b",
   "metadata": {},
   "source": [
    "# item assignment in a tensor Variable"
   ]
  },
  {
   "cell_type": "code",
   "execution_count": 3,
   "id": "741f0793",
   "metadata": {},
   "outputs": [
    {
     "data": {
      "text/plain": [
       "<tf.Tensor: shape=(2, 3, 2), dtype=int32, numpy=\n",
       "array([[[5, 7],\n",
       "        [1, 8],\n",
       "        [7, 4]],\n",
       "\n",
       "       [[3, 2],\n",
       "        [8, 3],\n",
       "        [8, 6]]])>"
      ]
     },
     "execution_count": 3,
     "metadata": {},
     "output_type": "execute_result"
    }
   ],
   "source": [
    "tf.constant(np.random.randint(1,9,(2,3,2)))"
   ]
  },
  {
   "cell_type": "code",
   "execution_count": 12,
   "id": "d968b299",
   "metadata": {},
   "outputs": [
    {
     "data": {
      "text/plain": [
       "<tf.Variable 'Variable:0' shape=(2, 3, 2) dtype=int32, numpy=\n",
       "array([[[4, 7],\n",
       "        [6, 7],\n",
       "        [8, 7]],\n",
       "\n",
       "       [[1, 4],\n",
       "        [7, 5],\n",
       "        [4, 1]]])>"
      ]
     },
     "execution_count": 12,
     "metadata": {},
     "output_type": "execute_result"
    }
   ],
   "source": [
    "a = tf.Variable(np.random.randint(1,9,(2,3,2)))\n",
    "a"
   ]
  },
  {
   "cell_type": "code",
   "execution_count": 13,
   "id": "a2d8c106",
   "metadata": {},
   "outputs": [
    {
     "data": {
      "text/plain": [
       "array([[[4, 7],\n",
       "        [6, 5],\n",
       "        [8, 7]],\n",
       "\n",
       "       [[1, 4],\n",
       "        [7, 5],\n",
       "        [4, 1]]])"
      ]
     },
     "execution_count": 13,
     "metadata": {},
     "output_type": "execute_result"
    }
   ],
   "source": [
    "new_a = a.numpy()\n",
    "new_a[0][1][1] = 5\n",
    "\n",
    "new_a"
   ]
  },
  {
   "cell_type": "code",
   "execution_count": null,
   "id": "125edac4",
   "metadata": {},
   "outputs": [],
   "source": []
  },
  {
   "cell_type": "markdown",
   "id": "0e6ac9cc",
   "metadata": {},
   "source": [
    "# explanation,Analysis and freethrows"
   ]
  },
  {
   "cell_type": "code",
   "execution_count": 14,
   "id": "4d7681eb",
   "metadata": {},
   "outputs": [
    {
     "data": {
      "text/plain": [
       "array([[[4, 7],\n",
       "        [6, 7],\n",
       "        [8, 7]],\n",
       "\n",
       "       [[1, 4],\n",
       "        [7, 5],\n",
       "        [4, 1]]])"
      ]
     },
     "execution_count": 14,
     "metadata": {},
     "output_type": "execute_result"
    }
   ],
   "source": [
    "a.numpy()"
   ]
  },
  {
   "cell_type": "code",
   "execution_count": 8,
   "id": "d67b7a8d",
   "metadata": {},
   "outputs": [
    {
     "data": {
      "text/plain": [
       "4"
      ]
     },
     "execution_count": 8,
     "metadata": {},
     "output_type": "execute_result"
    }
   ],
   "source": [
    "a.numpy()[0][1][1] "
   ]
  },
  {
   "cell_type": "code",
   "execution_count": null,
   "id": "3e2aa867",
   "metadata": {},
   "outputs": [],
   "source": []
  },
  {
   "cell_type": "markdown",
   "id": "17f898c1",
   "metadata": {},
   "source": [
    "# shuffling the order of elements in a tensor\n",
    "\n",
    "\n",
    "# reason: it is a learning algorithm useful even for humans or any animals.\n",
    "\n",
    "\n",
    "suppose you want to learn machine learning. it is a broad field. statistics, stochastic calculas, probability, some coding languages such as python, c, etc all might be useful to learn but you can't focus exclusively on statistics the whole time you have available and presume that you know the subject or you should not spend choosing the order of subject to study i.e statistics first,calculas second, python third and so on, starting each at the end of finishing something. **learning in order might make you forget what you have learnt. learning randomly (shuffled learning) helps connect a lot of jots and rate of retention of information is so much high.** \n",
    "\n",
    "\n",
    "the same is true for machines, when you present data to the machine to process and learn the pattern of, shuffle the order of information so that it doesn't recognise only one pattern well.i.e lets say the machine tries to learn to recognize bread and butter, lets say you have 100000 pics of bread and butter, first convert them to numbers, next present them in shuffled manner such that the machine learns about both the bread and butter pattern simultaneously. \n",
    "\n",
    "\n"
   ]
  },
  {
   "cell_type": "code",
   "execution_count": 25,
   "id": "ea423a72",
   "metadata": {},
   "outputs": [
    {
     "data": {
      "text/plain": [
       "<tf.Tensor: shape=(4, 3, 2), dtype=int32, numpy=\n",
       "array([[[3, 1],\n",
       "        [1, 2],\n",
       "        [4, 1]],\n",
       "\n",
       "       [[7, 2],\n",
       "        [7, 8],\n",
       "        [6, 6]],\n",
       "\n",
       "       [[4, 3],\n",
       "        [8, 1],\n",
       "        [1, 3]],\n",
       "\n",
       "       [[3, 6],\n",
       "        [6, 4],\n",
       "        [6, 7]]])>"
      ]
     },
     "execution_count": 25,
     "metadata": {},
     "output_type": "execute_result"
    }
   ],
   "source": [
    "non_shuffled_tensor = tf.constant(np.random.randint(1,9,(4,3,2)))\n",
    "\n",
    "non_shuffled_tensor"
   ]
  },
  {
   "cell_type": "code",
   "execution_count": 26,
   "id": "35e5b9c3",
   "metadata": {},
   "outputs": [
    {
     "data": {
      "text/plain": [
       "<tf.Tensor: shape=(4, 3, 2), dtype=int32, numpy=\n",
       "array([[[3, 6],\n",
       "        [6, 4],\n",
       "        [6, 7]],\n",
       "\n",
       "       [[7, 2],\n",
       "        [7, 8],\n",
       "        [6, 6]],\n",
       "\n",
       "       [[3, 1],\n",
       "        [1, 2],\n",
       "        [4, 1]],\n",
       "\n",
       "       [[4, 3],\n",
       "        [8, 1],\n",
       "        [1, 3]]])>"
      ]
     },
     "execution_count": 26,
     "metadata": {},
     "output_type": "execute_result"
    }
   ],
   "source": [
    "shuffled_tensor = tf.random.shuffle(non_shuffled_tensor)\n",
    "shuffled_tensor   "
   ]
  },
  {
   "cell_type": "code",
   "execution_count": 28,
   "id": "1b30f41f",
   "metadata": {},
   "outputs": [
    {
     "data": {
      "text/plain": [
       "<tf.Tensor: shape=(3, 3), dtype=int32, numpy=\n",
       "array([[6, 6, 6],\n",
       "       [6, 4, 4],\n",
       "       [1, 3, 1]])>"
      ]
     },
     "execution_count": 28,
     "metadata": {},
     "output_type": "execute_result"
    }
   ],
   "source": [
    "non_shuffled_tensor = tf.constant(np.random.randint(1,9,(3,3)))\n",
    "non_shuffled_tensor"
   ]
  },
  {
   "cell_type": "code",
   "execution_count": 29,
   "id": "df9975fc",
   "metadata": {},
   "outputs": [
    {
     "data": {
      "text/plain": [
       "<tf.Tensor: shape=(3, 3), dtype=int32, numpy=\n",
       "array([[1, 3, 1],\n",
       "       [6, 4, 4],\n",
       "       [6, 6, 6]])>"
      ]
     },
     "execution_count": 29,
     "metadata": {},
     "output_type": "execute_result"
    }
   ],
   "source": [
    "shuffled_tensor = tf.random.shuffle(non_shuffled_tensor)\n",
    "\n",
    "shuffled_tensor"
   ]
  },
  {
   "cell_type": "markdown",
   "id": "b257782e",
   "metadata": {},
   "source": [
    "# conclusion:\n",
    "\n",
    "**shuffles the tensor only along the rows(which is first dimension)**"
   ]
  },
  {
   "cell_type": "code",
   "execution_count": null,
   "id": "1fa73ba7",
   "metadata": {},
   "outputs": [],
   "source": []
  },
  {
   "cell_type": "markdown",
   "id": "a35f1bd5",
   "metadata": {},
   "source": [
    "# seed\n",
    "\n",
    "\n",
    "# global level seed:\n",
    "\n",
    "\n",
    "\n",
    "# operation level seed:\n",
    "\n",
    "\n",
    "\n",
    "# niether:\n",
    "if no global nor operation level seed is set. A random seed is picked when creating random numbers."
   ]
  },
  {
   "cell_type": "code",
   "execution_count": 2,
   "id": "cec92e66",
   "metadata": {},
   "outputs": [
    {
     "data": {
      "text/plain": [
       "<tf.Tensor: shape=(5, 5), dtype=int32, numpy=\n",
       "array([[5, 8, 7, 2, 6],\n",
       "       [8, 8, 7, 6, 5],\n",
       "       [1, 1, 4, 2, 5],\n",
       "       [4, 8, 7, 6, 4],\n",
       "       [3, 5, 4, 1, 1]])>"
      ]
     },
     "execution_count": 2,
     "metadata": {},
     "output_type": "execute_result"
    }
   ],
   "source": [
    "# setting only the global seed\n",
    "\n",
    "\n",
    "a = tf.constant(np.random.randint(1,9,(5,5)))\n",
    "\n",
    "a"
   ]
  },
  {
   "cell_type": "code",
   "execution_count": 12,
   "id": "14edcc91",
   "metadata": {},
   "outputs": [
    {
     "data": {
      "text/plain": [
       "<tf.Tensor: shape=(5, 5), dtype=int32, numpy=\n",
       "array([[1, 1, 4, 2, 5],\n",
       "       [4, 8, 7, 6, 4],\n",
       "       [5, 8, 7, 2, 6],\n",
       "       [3, 5, 4, 1, 1],\n",
       "       [8, 8, 7, 6, 5]])>"
      ]
     },
     "execution_count": 12,
     "metadata": {},
     "output_type": "execute_result"
    }
   ],
   "source": [
    "tf.random.set_seed(4)\n",
    "\n",
    "tf.random.shuffle(a)"
   ]
  },
  {
   "cell_type": "code",
   "execution_count": 13,
   "id": "1b2ced47",
   "metadata": {},
   "outputs": [
    {
     "data": {
      "text/plain": [
       "<tf.Tensor: shape=(5, 5), dtype=int32, numpy=\n",
       "array([[1, 1, 4, 2, 5],\n",
       "       [4, 8, 7, 6, 4],\n",
       "       [5, 8, 7, 2, 6],\n",
       "       [3, 5, 4, 1, 1],\n",
       "       [8, 8, 7, 6, 5]])>"
      ]
     },
     "execution_count": 13,
     "metadata": {},
     "output_type": "execute_result"
    }
   ],
   "source": [
    "tf.random.set_seed(4)\n",
    "\n",
    "tf.random.shuffle(a)"
   ]
  },
  {
   "cell_type": "code",
   "execution_count": 5,
   "id": "0ef77f5a",
   "metadata": {},
   "outputs": [
    {
     "data": {
      "text/plain": [
       "<tf.Tensor: shape=(5, 5), dtype=int32, numpy=\n",
       "array([[1, 1, 4, 2, 5],\n",
       "       [4, 8, 7, 6, 4],\n",
       "       [5, 8, 7, 2, 6],\n",
       "       [3, 5, 4, 1, 1],\n",
       "       [8, 8, 7, 6, 5]])>"
      ]
     },
     "execution_count": 5,
     "metadata": {},
     "output_type": "execute_result"
    }
   ],
   "source": [
    "tf.random.set_seed(4)\n",
    "\n",
    "tf.random.shuffle(a)"
   ]
  },
  {
   "cell_type": "markdown",
   "id": "e419ebeb",
   "metadata": {},
   "source": [
    "# conclusion:\n",
    "\n",
    "setting only the global seed keeps the change transferrable."
   ]
  },
  {
   "cell_type": "code",
   "execution_count": 6,
   "id": "99c0e163",
   "metadata": {},
   "outputs": [
    {
     "data": {
      "text/plain": [
       "<tf.Tensor: shape=(5, 5), dtype=int32, numpy=\n",
       "array([[8, 8, 7, 6, 5],\n",
       "       [5, 8, 7, 2, 6],\n",
       "       [3, 5, 4, 1, 1],\n",
       "       [4, 8, 7, 6, 4],\n",
       "       [1, 1, 4, 2, 5]])>"
      ]
     },
     "execution_count": 6,
     "metadata": {},
     "output_type": "execute_result"
    }
   ],
   "source": [
    "# setting only the operational seed\n",
    "\n",
    "tf.random.shuffle(a,seed=4)"
   ]
  },
  {
   "cell_type": "code",
   "execution_count": 7,
   "id": "c93de142",
   "metadata": {},
   "outputs": [
    {
     "data": {
      "text/plain": [
       "<tf.Tensor: shape=(5, 5), dtype=int32, numpy=\n",
       "array([[5, 8, 7, 2, 6],\n",
       "       [1, 1, 4, 2, 5],\n",
       "       [8, 8, 7, 6, 5],\n",
       "       [4, 8, 7, 6, 4],\n",
       "       [3, 5, 4, 1, 1]])>"
      ]
     },
     "execution_count": 7,
     "metadata": {},
     "output_type": "execute_result"
    }
   ],
   "source": [
    "tf.random.shuffle(a,seed=4)"
   ]
  },
  {
   "cell_type": "code",
   "execution_count": 8,
   "id": "707cbb6c",
   "metadata": {},
   "outputs": [
    {
     "data": {
      "text/plain": [
       "<tf.Tensor: shape=(5, 5), dtype=int32, numpy=\n",
       "array([[3, 5, 4, 1, 1],\n",
       "       [4, 8, 7, 6, 4],\n",
       "       [8, 8, 7, 6, 5],\n",
       "       [5, 8, 7, 2, 6],\n",
       "       [1, 1, 4, 2, 5]])>"
      ]
     },
     "execution_count": 8,
     "metadata": {},
     "output_type": "execute_result"
    }
   ],
   "source": [
    "tf.random.shuffle(a,seed=4)"
   ]
  },
  {
   "cell_type": "code",
   "execution_count": 9,
   "id": "fdb38f05",
   "metadata": {},
   "outputs": [
    {
     "data": {
      "text/plain": [
       "<tf.Tensor: shape=(5, 5), dtype=int32, numpy=\n",
       "array([[1, 1, 4, 2, 5],\n",
       "       [5, 8, 7, 2, 6],\n",
       "       [4, 8, 7, 6, 4],\n",
       "       [3, 5, 4, 1, 1],\n",
       "       [8, 8, 7, 6, 5]])>"
      ]
     },
     "execution_count": 9,
     "metadata": {},
     "output_type": "execute_result"
    }
   ],
   "source": [
    "tf.random.shuffle(a,seed=4)"
   ]
  },
  {
   "cell_type": "markdown",
   "id": "3b2ea777",
   "metadata": {},
   "source": [
    "# conclusion:\n",
    "\n",
    "set seed only on opearion level keeps shuffling the rows of the tensor"
   ]
  },
  {
   "cell_type": "code",
   "execution_count": 10,
   "id": "db20ed1b",
   "metadata": {},
   "outputs": [
    {
     "data": {
      "text/plain": [
       "<tf.Tensor: shape=(5, 5), dtype=int32, numpy=\n",
       "array([[8, 8, 7, 6, 5],\n",
       "       [5, 8, 7, 2, 6],\n",
       "       [3, 5, 4, 1, 1],\n",
       "       [4, 8, 7, 6, 4],\n",
       "       [1, 1, 4, 2, 5]])>"
      ]
     },
     "execution_count": 10,
     "metadata": {},
     "output_type": "execute_result"
    }
   ],
   "source": [
    "# setting both global and operational seed\n",
    "\n",
    "tf.random.set_seed(4)\n",
    "\n",
    "tf.random.shuffle(a,seed=4)\n"
   ]
  },
  {
   "cell_type": "code",
   "execution_count": 11,
   "id": "30364cd6",
   "metadata": {},
   "outputs": [
    {
     "data": {
      "text/plain": [
       "<tf.Tensor: shape=(5, 5), dtype=int32, numpy=\n",
       "array([[8, 8, 7, 6, 5],\n",
       "       [5, 8, 7, 2, 6],\n",
       "       [3, 5, 4, 1, 1],\n",
       "       [4, 8, 7, 6, 4],\n",
       "       [1, 1, 4, 2, 5]])>"
      ]
     },
     "execution_count": 11,
     "metadata": {},
     "output_type": "execute_result"
    }
   ],
   "source": [
    "tf.random.set_seed(4)\n",
    "\n",
    "tf.random.shuffle(a,seed=4)"
   ]
  },
  {
   "cell_type": "markdown",
   "id": "5386d3aa",
   "metadata": {},
   "source": [
    "# conclusion:\n",
    "\n",
    "**setting both global and operational level seeds keep the tensor or matrix truly constant across universe**\n",
    "\n",
    "# difference between setting only global seed and setting both seeds:\n",
    "\n",
    "global only seeds produce different results than when setting both seeds"
   ]
  },
  {
   "cell_type": "code",
   "execution_count": null,
   "id": "85193dfc",
   "metadata": {},
   "outputs": [],
   "source": []
  },
  {
   "cell_type": "markdown",
   "id": "f77d5db8",
   "metadata": {},
   "source": [
    "# tensor 1's and 0's"
   ]
  },
  {
   "cell_type": "code",
   "execution_count": 14,
   "id": "ddc369f7",
   "metadata": {},
   "outputs": [
    {
     "data": {
      "text/plain": [
       "<tf.Tensor: shape=(3, 3), dtype=float32, numpy=\n",
       "array([[1., 1., 1.],\n",
       "       [1., 1., 1.],\n",
       "       [1., 1., 1.]], dtype=float32)>"
      ]
     },
     "execution_count": 14,
     "metadata": {},
     "output_type": "execute_result"
    }
   ],
   "source": [
    "ones = tf.ones(shape=(3,3))\n",
    "ones"
   ]
  },
  {
   "cell_type": "code",
   "execution_count": 15,
   "id": "2de9685e",
   "metadata": {},
   "outputs": [
    {
     "data": {
      "text/plain": [
       "<tf.Tensor: shape=(3, 3, 2), dtype=float32, numpy=\n",
       "array([[[0., 0.],\n",
       "        [0., 0.],\n",
       "        [0., 0.]],\n",
       "\n",
       "       [[0., 0.],\n",
       "        [0., 0.],\n",
       "        [0., 0.]],\n",
       "\n",
       "       [[0., 0.],\n",
       "        [0., 0.],\n",
       "        [0., 0.]]], dtype=float32)>"
      ]
     },
     "execution_count": 15,
     "metadata": {},
     "output_type": "execute_result"
    }
   ],
   "source": [
    "zeros = tf.zeros(shape=(3,3,2))\n",
    "zeros"
   ]
  },
  {
   "cell_type": "code",
   "execution_count": 16,
   "id": "6ad9e7b9",
   "metadata": {},
   "outputs": [
    {
     "data": {
      "text/plain": [
       "<tf.Tensor: shape=(3, 3, 2), dtype=float64, numpy=\n",
       "array([[[1., 1.],\n",
       "        [1., 1.],\n",
       "        [1., 1.]],\n",
       "\n",
       "       [[1., 1.],\n",
       "        [1., 1.],\n",
       "        [1., 1.]],\n",
       "\n",
       "       [[1., 1.],\n",
       "        [1., 1.],\n",
       "        [1., 1.]]])>"
      ]
     },
     "execution_count": 16,
     "metadata": {},
     "output_type": "execute_result"
    }
   ],
   "source": [
    "tf.constant(np.ones(shape=(3,3,2)))"
   ]
  },
  {
   "cell_type": "code",
   "execution_count": 18,
   "id": "e7553308",
   "metadata": {
    "scrolled": false
   },
   "outputs": [
    {
     "data": {
      "text/plain": [
       "<tf.Variable 'Variable:0' shape=(3, 3, 2) dtype=float64, numpy=\n",
       "array([[[0., 0.],\n",
       "        [0., 0.],\n",
       "        [0., 0.]],\n",
       "\n",
       "       [[0., 0.],\n",
       "        [0., 0.],\n",
       "        [0., 0.]],\n",
       "\n",
       "       [[0., 0.],\n",
       "        [0., 0.],\n",
       "        [0., 0.]]])>"
      ]
     },
     "execution_count": 18,
     "metadata": {},
     "output_type": "execute_result"
    }
   ],
   "source": [
    "tf.Variable(np.zeros(shape=(3,3,2)))"
   ]
  },
  {
   "cell_type": "markdown",
   "id": "95028010",
   "metadata": {},
   "source": [
    "# conclusion:\n",
    "\n",
    "# difference between numpy arrays and tensor arrays:\n",
    "\n",
    "\n",
    "\n",
    "\n",
    "\n",
    "**tensor arrays are computed faster in gpu(graphical processing units) and tpu(tensor processing units) than numpy arrays so it is a good practice to convert numpy arrays to tensors for faster computation.**"
   ]
  },
  {
   "cell_type": "code",
   "execution_count": null,
   "id": "0725466c",
   "metadata": {},
   "outputs": [],
   "source": []
  },
  {
   "cell_type": "markdown",
   "id": "9ab43d1c",
   "metadata": {},
   "source": [
    "# tensor indexation:"
   ]
  },
  {
   "cell_type": "code",
   "execution_count": 19,
   "id": "0421dfa8",
   "metadata": {},
   "outputs": [
    {
     "data": {
      "text/plain": [
       "<tf.Variable 'Variable:0' shape=(2, 3, 4) dtype=int32, numpy=\n",
       "array([[[21,  6,  1, 11],\n",
       "        [ 3, 16,  6,  1],\n",
       "        [ 2,  4,  6,  7]],\n",
       "\n",
       "       [[12, 19,  6, 15],\n",
       "        [15,  6,  2, 18],\n",
       "        [ 9, 20,  2,  9]]])>"
      ]
     },
     "execution_count": 19,
     "metadata": {},
     "output_type": "execute_result"
    }
   ],
   "source": [
    "a = tf.Variable(np.random.randint(1,22,(2,3,4)))\n",
    "a"
   ]
  },
  {
   "cell_type": "code",
   "execution_count": 20,
   "id": "3fdd412d",
   "metadata": {},
   "outputs": [
    {
     "data": {
      "text/plain": [
       "<tf.Tensor: shape=(3, 4), dtype=int32, numpy=\n",
       "array([[21,  6,  1, 11],\n",
       "       [ 3, 16,  6,  1],\n",
       "       [ 2,  4,  6,  7]])>"
      ]
     },
     "execution_count": 20,
     "metadata": {},
     "output_type": "execute_result"
    }
   ],
   "source": [
    "# accessing first row\n",
    "\n",
    "a[0]"
   ]
  },
  {
   "cell_type": "code",
   "execution_count": 23,
   "id": "62b31aad",
   "metadata": {},
   "outputs": [
    {
     "data": {
      "text/plain": [
       "<tf.Tensor: shape=(2, 3, 2), dtype=int32, numpy=\n",
       "array([[[21,  6],\n",
       "        [ 3, 16],\n",
       "        [ 2,  4]],\n",
       "\n",
       "       [[12, 19],\n",
       "        [15,  6],\n",
       "        [ 9, 20]]])>"
      ]
     },
     "execution_count": 23,
     "metadata": {},
     "output_type": "execute_result"
    }
   ],
   "source": [
    "# acessing all rows but two columns\n",
    "\n",
    "a[0:,:4,:2]"
   ]
  },
  {
   "cell_type": "code",
   "execution_count": 24,
   "id": "6da51855",
   "metadata": {},
   "outputs": [
    {
     "data": {
      "text/plain": [
       "<tf.Tensor: shape=(2,), dtype=int32, numpy=array([ 2, 18])>"
      ]
     },
     "execution_count": 24,
     "metadata": {},
     "output_type": "execute_result"
    }
   ],
   "source": [
    "# acessing second row second column last two elements [2,18]\n",
    "\n",
    "a[1,1,2:]"
   ]
  },
  {
   "cell_type": "code",
   "execution_count": 29,
   "id": "6d1bf1db",
   "metadata": {},
   "outputs": [
    {
     "data": {
      "text/plain": [
       "<tf.Tensor: shape=(), dtype=int32, numpy=16>"
      ]
     },
     "execution_count": 29,
     "metadata": {},
     "output_type": "execute_result"
    }
   ],
   "source": [
    "# acessing 16\n",
    "\n",
    "a[0,1,1]"
   ]
  },
  {
   "cell_type": "code",
   "execution_count": 30,
   "id": "8fe8244e",
   "metadata": {},
   "outputs": [
    {
     "data": {
      "text/plain": [
       "16"
      ]
     },
     "execution_count": 30,
     "metadata": {},
     "output_type": "execute_result"
    }
   ],
   "source": [
    "a[0,1,1].numpy()"
   ]
  },
  {
   "cell_type": "markdown",
   "id": "86704578",
   "metadata": {},
   "source": [
    "# day 116"
   ]
  },
  {
   "cell_type": "code",
   "execution_count": 1,
   "id": "5a5b254e",
   "metadata": {},
   "outputs": [],
   "source": [
    "import numpy as np\n",
    "import sympy as sym\n",
    "import matplotlib.pyplot as plt\n",
    "import tensorflow as tf\n",
    "from IPython.display import display,Math\n",
    "sym.init_printing()"
   ]
  },
  {
   "cell_type": "markdown",
   "id": "ffa1c28c",
   "metadata": {},
   "source": [
    "# find the rank of a tensor"
   ]
  },
  {
   "cell_type": "code",
   "execution_count": 14,
   "id": "16780464",
   "metadata": {},
   "outputs": [
    {
     "data": {
      "text/plain": [
       "<tf.Tensor: shape=(2, 3, 1, 2), dtype=float32, numpy=\n",
       "array([[[[0., 0.]],\n",
       "\n",
       "        [[0., 0.]],\n",
       "\n",
       "        [[0., 0.]]],\n",
       "\n",
       "\n",
       "       [[[0., 0.]],\n",
       "\n",
       "        [[0., 0.]],\n",
       "\n",
       "        [[0., 0.]]]], dtype=float32)>"
      ]
     },
     "execution_count": 14,
     "metadata": {},
     "output_type": "execute_result"
    }
   ],
   "source": [
    "a = tf.zeros([2,3,1,2])\n",
    "\n",
    "a"
   ]
  },
  {
   "cell_type": "code",
   "execution_count": 15,
   "id": "688fc5bc",
   "metadata": {},
   "outputs": [
    {
     "data": {
      "text/plain": [
       "<tf.Tensor: shape=(), dtype=int32, numpy=4>"
      ]
     },
     "execution_count": 15,
     "metadata": {},
     "output_type": "execute_result"
    }
   ],
   "source": [
    "tf.rank(a)"
   ]
  },
  {
   "cell_type": "code",
   "execution_count": 16,
   "id": "14e75817",
   "metadata": {},
   "outputs": [
    {
     "data": {
      "text/plain": [
       "<tf.Tensor: shape=(), dtype=int32, numpy=3>"
      ]
     },
     "execution_count": 16,
     "metadata": {},
     "output_type": "execute_result"
    }
   ],
   "source": [
    "a = tf.zeros([2,3,1])\n",
    "\n",
    "tf.rank(a)"
   ]
  },
  {
   "cell_type": "code",
   "execution_count": 17,
   "id": "45a027e9",
   "metadata": {},
   "outputs": [
    {
     "data": {
      "text/plain": [
       "<tf.Tensor: shape=(), dtype=int32, numpy=2>"
      ]
     },
     "execution_count": 17,
     "metadata": {},
     "output_type": "execute_result"
    }
   ],
   "source": [
    "a = tf.zeros([2,3])\n",
    "\n",
    "tf.rank(a)"
   ]
  },
  {
   "cell_type": "code",
   "execution_count": 18,
   "id": "52cbb6ba",
   "metadata": {},
   "outputs": [
    {
     "data": {
      "text/plain": [
       "<tf.Tensor: shape=(), dtype=int32, numpy=1>"
      ]
     },
     "execution_count": 18,
     "metadata": {},
     "output_type": "execute_result"
    }
   ],
   "source": [
    "a = tf.zeros([2])\n",
    "\n",
    "tf.rank(a)"
   ]
  },
  {
   "cell_type": "code",
   "execution_count": 20,
   "id": "a26396af",
   "metadata": {},
   "outputs": [
    {
     "data": {
      "text/plain": [
       "<tf.Tensor: shape=(), dtype=int32, numpy=4>"
      ]
     },
     "execution_count": 20,
     "metadata": {},
     "output_type": "execute_result"
    }
   ],
   "source": [
    "a = tf.constant(np.random.randint(1,99,(2,3,4,5)))\n",
    "tf.rank(a)"
   ]
  },
  {
   "cell_type": "markdown",
   "id": "9235d3bc",
   "metadata": {},
   "source": [
    "# conclusion:\n",
    "\n",
    "1. Rank is determined by the dimension of tensor"
   ]
  },
  {
   "cell_type": "markdown",
   "id": "c5be71bb",
   "metadata": {},
   "source": [
    "# get shape,size and dimension of a tensor"
   ]
  },
  {
   "cell_type": "code",
   "execution_count": 21,
   "id": "aa213d9a",
   "metadata": {},
   "outputs": [],
   "source": [
    "a = tf.constant(np.random.randint(1,99,(2,3,4,5,6)))"
   ]
  },
  {
   "cell_type": "code",
   "execution_count": 24,
   "id": "a3cf5dcf",
   "metadata": {},
   "outputs": [
    {
     "name": "stdout",
     "output_type": "stream",
     "text": [
      "Shape of the Tensor:  [2 3 4 5 6]\n",
      "Dimension of the Tensor(Rank):  5\n",
      "Size of the Tensor:  720\n"
     ]
    }
   ],
   "source": [
    "print('Shape of the Tensor: ',(tf.shape(a)).numpy())\n",
    "print('Dimension of the Tensor(Rank): ',a.ndim)\n",
    "print('Size of the Tensor: ',tf.size(a).numpy())"
   ]
  },
  {
   "cell_type": "markdown",
   "id": "c72e5bb5",
   "metadata": {},
   "source": [
    "# tensor indexation"
   ]
  },
  {
   "cell_type": "code",
   "execution_count": 27,
   "id": "9ad61cc6",
   "metadata": {},
   "outputs": [
    {
     "data": {
      "text/plain": [
       "<tf.Tensor: shape=(2, 3, 4, 5), dtype=int32, numpy=\n",
       "array([[[[39, 30, 27, 19, 51],\n",
       "         [58, 12, 29, 95,  7],\n",
       "         [79, 46, 88, 94, 30],\n",
       "         [ 5, 85, 41, 39, 22]],\n",
       "\n",
       "        [[92, 86, 22, 38, 57],\n",
       "         [43, 84, 89,  5,  2],\n",
       "         [27,  7, 10, 79, 19],\n",
       "         [15, 16, 51, 69, 49]],\n",
       "\n",
       "        [[93, 38, 77, 60, 90],\n",
       "         [23, 84, 61, 82,  4],\n",
       "         [42, 90, 93, 63, 85],\n",
       "         [42, 56, 42, 86, 48]]],\n",
       "\n",
       "\n",
       "       [[[39, 65, 56, 29, 20],\n",
       "         [50, 91, 10, 40, 89],\n",
       "         [54, 14,  6, 73, 66],\n",
       "         [ 3,  8, 44, 16, 32]],\n",
       "\n",
       "        [[94, 60, 47, 46, 11],\n",
       "         [63, 86, 56, 28, 60],\n",
       "         [26, 38,  9,  3, 72],\n",
       "         [19, 37, 80, 91, 50]],\n",
       "\n",
       "        [[88, 98, 54,  6, 56],\n",
       "         [35, 61, 70, 58, 93],\n",
       "         [20, 17, 20, 95, 83],\n",
       "         [81, 32, 53, 90, 20]]]])>"
      ]
     },
     "execution_count": 27,
     "metadata": {},
     "output_type": "execute_result"
    }
   ],
   "source": [
    "a = tf.constant(np.random.randint(1,99,(2,3,4,5)))\n",
    "a"
   ]
  },
  {
   "cell_type": "code",
   "execution_count": 28,
   "id": "ecc921a2",
   "metadata": {},
   "outputs": [
    {
     "data": {
      "text/plain": [
       "<tf.Tensor: shape=(2, 2, 2, 2), dtype=int32, numpy=\n",
       "array([[[[39, 30],\n",
       "         [58, 12]],\n",
       "\n",
       "        [[92, 86],\n",
       "         [43, 84]]],\n",
       "\n",
       "\n",
       "       [[[39, 65],\n",
       "         [50, 91]],\n",
       "\n",
       "        [[94, 60],\n",
       "         [63, 86]]]])>"
      ]
     },
     "execution_count": 28,
     "metadata": {},
     "output_type": "execute_result"
    }
   ],
   "source": [
    "# getting 2 elements from each dimension\n",
    "\n",
    "a[:2,:2,:2,:2]"
   ]
  },
  {
   "cell_type": "code",
   "execution_count": 29,
   "id": "4b037f75",
   "metadata": {},
   "outputs": [
    {
     "data": {
      "text/plain": [
       "<tf.Tensor: shape=(1, 1, 1, 5), dtype=int32, numpy=array([[[[39, 30, 27, 19, 51]]]])>"
      ]
     },
     "execution_count": 29,
     "metadata": {},
     "output_type": "execute_result"
    }
   ],
   "source": [
    "# getting the first element from each dimension except from the final dimension\n",
    "\n",
    "a[:1,:1,:1]"
   ]
  },
  {
   "cell_type": "code",
   "execution_count": 31,
   "id": "23b2ad21",
   "metadata": {},
   "outputs": [
    {
     "data": {
      "text/plain": [
       "<tf.Tensor: shape=(1, 1, 1, 5), dtype=int32, numpy=array([[[[39, 30, 27, 19, 51]]]])>"
      ]
     },
     "execution_count": 31,
     "metadata": {},
     "output_type": "execute_result"
    }
   ],
   "source": [
    "a[:1,:1,:1,:] # same as above"
   ]
  },
  {
   "cell_type": "code",
   "execution_count": 30,
   "id": "ebbcdb6b",
   "metadata": {},
   "outputs": [
    {
     "data": {
      "text/plain": [
       "<tf.Tensor: shape=(5,), dtype=int32, numpy=array([39, 30, 27, 19, 51])>"
      ]
     },
     "execution_count": 30,
     "metadata": {},
     "output_type": "execute_result"
    }
   ],
   "source": [
    "a[0,0,0] # same as the one above but notice the shape and dimension. Dimension reduction happended here. "
   ]
  },
  {
   "cell_type": "code",
   "execution_count": null,
   "id": "8f0db631",
   "metadata": {},
   "outputs": [],
   "source": []
  },
  {
   "cell_type": "code",
   "execution_count": 32,
   "id": "724271cb",
   "metadata": {},
   "outputs": [
    {
     "data": {
      "text/plain": [
       "<tf.Tensor: shape=(3, 3), dtype=int32, numpy=\n",
       "array([[96, 14, 24],\n",
       "       [61, 76, 47],\n",
       "       [93, 48, 46]])>"
      ]
     },
     "execution_count": 32,
     "metadata": {},
     "output_type": "execute_result"
    }
   ],
   "source": [
    "# create a rank two tensor\n",
    "\n",
    "a = tf.constant(np.random.randint(1,99,(3,3)))\n",
    "\n",
    "a"
   ]
  },
  {
   "cell_type": "code",
   "execution_count": 34,
   "id": "1177edfa",
   "metadata": {},
   "outputs": [
    {
     "data": {
      "text/plain": [
       "2"
      ]
     },
     "execution_count": 34,
     "metadata": {},
     "output_type": "execute_result"
    }
   ],
   "source": [
    "tf.rank(a).numpy()"
   ]
  },
  {
   "cell_type": "code",
   "execution_count": 36,
   "id": "dcd9e34a",
   "metadata": {},
   "outputs": [
    {
     "data": {
      "text/plain": [
       "<tf.Tensor: shape=(3,), dtype=int32, numpy=array([24, 47, 46])>"
      ]
     },
     "execution_count": 36,
     "metadata": {},
     "output_type": "execute_result"
    }
   ],
   "source": [
    "# get the last item of each row in the rank 2 tensor\n",
    "\n",
    "\n",
    "a[:,2]"
   ]
  },
  {
   "cell_type": "code",
   "execution_count": 37,
   "id": "4b6bf525",
   "metadata": {},
   "outputs": [
    {
     "data": {
      "text/plain": [
       "<tf.Tensor: shape=(3,), dtype=int32, numpy=array([24, 47, 46])>"
      ]
     },
     "execution_count": 37,
     "metadata": {},
     "output_type": "execute_result"
    }
   ],
   "source": [
    "a[:,-1] # same as above"
   ]
  },
  {
   "cell_type": "markdown",
   "id": "ce828200",
   "metadata": {},
   "source": [
    "# converting a 2 d tensor into a 3d tensor"
   ]
  },
  {
   "cell_type": "code",
   "execution_count": 39,
   "id": "6f8e0c1b",
   "metadata": {},
   "outputs": [
    {
     "data": {
      "text/plain": [
       "<tf.Tensor: shape=(3, 3, 1), dtype=int32, numpy=\n",
       "array([[[96],\n",
       "        [14],\n",
       "        [24]],\n",
       "\n",
       "       [[61],\n",
       "        [76],\n",
       "        [47]],\n",
       "\n",
       "       [[93],\n",
       "        [48],\n",
       "        [46]]])>"
      ]
     },
     "execution_count": 39,
     "metadata": {},
     "output_type": "execute_result"
    }
   ],
   "source": [
    "rank3_tensor = a[...,tf.newaxis]\n",
    "rank3_tensor"
   ]
  },
  {
   "cell_type": "code",
   "execution_count": 40,
   "id": "78062535",
   "metadata": {},
   "outputs": [
    {
     "data": {
      "text/plain": [
       "<tf.Tensor: shape=(3, 3, 1), dtype=int32, numpy=\n",
       "array([[[96],\n",
       "        [14],\n",
       "        [24]],\n",
       "\n",
       "       [[61],\n",
       "        [76],\n",
       "        [47]],\n",
       "\n",
       "       [[93],\n",
       "        [48],\n",
       "        [46]]])>"
      ]
     },
     "execution_count": 40,
     "metadata": {},
     "output_type": "execute_result"
    }
   ],
   "source": [
    "rank3_tensor = a[:,:,tf.newaxis] # same as above but it is more clear, it lets us know the newaxis is added on the finelth\n",
    "                                 # dimension\n",
    "rank3_tensor "
   ]
  },
  {
   "cell_type": "code",
   "execution_count": 41,
   "id": "bdc1858e",
   "metadata": {},
   "outputs": [
    {
     "data": {
      "text/plain": [
       "<tf.Tensor: shape=(3, 3, 1), dtype=int32, numpy=\n",
       "array([[[96],\n",
       "        [14],\n",
       "        [24]],\n",
       "\n",
       "       [[61],\n",
       "        [76],\n",
       "        [47]],\n",
       "\n",
       "       [[93],\n",
       "        [48],\n",
       "        [46]]])>"
      ]
     },
     "execution_count": 41,
     "metadata": {},
     "output_type": "execute_result"
    }
   ],
   "source": [
    "rank3_tensor = tf.expand_dims(a,axis=-1) #-1 means expand the dimension on the finelth axis\n",
    "rank3_tensor "
   ]
  },
  {
   "cell_type": "code",
   "execution_count": 42,
   "id": "ebb3cd07",
   "metadata": {},
   "outputs": [
    {
     "data": {
      "text/plain": [
       "<tf.Tensor: shape=(1, 3, 3), dtype=int32, numpy=\n",
       "array([[[96, 14, 24],\n",
       "        [61, 76, 47],\n",
       "        [93, 48, 46]]])>"
      ]
     },
     "execution_count": 42,
     "metadata": {},
     "output_type": "execute_result"
    }
   ],
   "source": [
    "# expanding on the first axis\n",
    "\n",
    "tf.expand_dims(a,axis=0)"
   ]
  },
  {
   "cell_type": "code",
   "execution_count": 43,
   "id": "3f162c96",
   "metadata": {},
   "outputs": [
    {
     "data": {
      "text/plain": [
       "<tf.Tensor: shape=(3, 1, 3), dtype=int32, numpy=\n",
       "array([[[96, 14, 24]],\n",
       "\n",
       "       [[61, 76, 47]],\n",
       "\n",
       "       [[93, 48, 46]]])>"
      ]
     },
     "execution_count": 43,
     "metadata": {},
     "output_type": "execute_result"
    }
   ],
   "source": [
    "# expanding on the second axis\n",
    "\n",
    "tf.expand_dims(a,axis=1)"
   ]
  },
  {
   "cell_type": "code",
   "execution_count": 44,
   "id": "d84a3392",
   "metadata": {},
   "outputs": [
    {
     "ename": "InvalidArgumentError",
     "evalue": "{{function_node __wrapped__ExpandDims_device_/job:localhost/replica:0/task:0/device:CPU:0}} Tried to expand dim index 3 for tensor with 2 dimensions. [Op:ExpandDims]",
     "output_type": "error",
     "traceback": [
      "\u001b[1;31m---------------------------------------------------------------------------\u001b[0m",
      "\u001b[1;31mInvalidArgumentError\u001b[0m                      Traceback (most recent call last)",
      "Input \u001b[1;32mIn [44]\u001b[0m, in \u001b[0;36m<cell line: 3>\u001b[1;34m()\u001b[0m\n\u001b[0;32m      1\u001b[0m \u001b[38;5;66;03m# expanding it beyond\u001b[39;00m\n\u001b[1;32m----> 3\u001b[0m \u001b[43mtf\u001b[49m\u001b[38;5;241;43m.\u001b[39;49m\u001b[43mexpand_dims\u001b[49m\u001b[43m(\u001b[49m\u001b[43ma\u001b[49m\u001b[43m,\u001b[49m\u001b[43maxis\u001b[49m\u001b[38;5;241;43m=\u001b[39;49m\u001b[38;5;241;43m3\u001b[39;49m\u001b[43m)\u001b[49m\n",
      "File \u001b[1;32m~\\anaconda3\\lib\\site-packages\\tensorflow\\python\\util\\traceback_utils.py:153\u001b[0m, in \u001b[0;36mfilter_traceback.<locals>.error_handler\u001b[1;34m(*args, **kwargs)\u001b[0m\n\u001b[0;32m    151\u001b[0m \u001b[38;5;28;01mexcept\u001b[39;00m \u001b[38;5;167;01mException\u001b[39;00m \u001b[38;5;28;01mas\u001b[39;00m e:\n\u001b[0;32m    152\u001b[0m   filtered_tb \u001b[38;5;241m=\u001b[39m _process_traceback_frames(e\u001b[38;5;241m.\u001b[39m__traceback__)\n\u001b[1;32m--> 153\u001b[0m   \u001b[38;5;28;01mraise\u001b[39;00m e\u001b[38;5;241m.\u001b[39mwith_traceback(filtered_tb) \u001b[38;5;28;01mfrom\u001b[39;00m \u001b[38;5;28mNone\u001b[39m\n\u001b[0;32m    154\u001b[0m \u001b[38;5;28;01mfinally\u001b[39;00m:\n\u001b[0;32m    155\u001b[0m   \u001b[38;5;28;01mdel\u001b[39;00m filtered_tb\n",
      "File \u001b[1;32m~\\anaconda3\\lib\\site-packages\\tensorflow\\python\\framework\\ops.py:7262\u001b[0m, in \u001b[0;36mraise_from_not_ok_status\u001b[1;34m(e, name)\u001b[0m\n\u001b[0;32m   7260\u001b[0m \u001b[38;5;28;01mdef\u001b[39;00m \u001b[38;5;21mraise_from_not_ok_status\u001b[39m(e, name):\n\u001b[0;32m   7261\u001b[0m   e\u001b[38;5;241m.\u001b[39mmessage \u001b[38;5;241m+\u001b[39m\u001b[38;5;241m=\u001b[39m (\u001b[38;5;124m\"\u001b[39m\u001b[38;5;124m name: \u001b[39m\u001b[38;5;124m\"\u001b[39m \u001b[38;5;241m+\u001b[39m name \u001b[38;5;28;01mif\u001b[39;00m name \u001b[38;5;129;01mis\u001b[39;00m \u001b[38;5;129;01mnot\u001b[39;00m \u001b[38;5;28;01mNone\u001b[39;00m \u001b[38;5;28;01melse\u001b[39;00m \u001b[38;5;124m\"\u001b[39m\u001b[38;5;124m\"\u001b[39m)\n\u001b[1;32m-> 7262\u001b[0m   \u001b[38;5;28;01mraise\u001b[39;00m core\u001b[38;5;241m.\u001b[39m_status_to_exception(e) \u001b[38;5;28;01mfrom\u001b[39;00m \u001b[38;5;28mNone\u001b[39m\n",
      "\u001b[1;31mInvalidArgumentError\u001b[0m: {{function_node __wrapped__ExpandDims_device_/job:localhost/replica:0/task:0/device:CPU:0}} Tried to expand dim index 3 for tensor with 2 dimensions. [Op:ExpandDims]"
     ]
    }
   ],
   "source": [
    "# expanding it beyond\n",
    "\n",
    "tf.expand_dims(a,axis=3)"
   ]
  },
  {
   "cell_type": "code",
   "execution_count": null,
   "id": "33de84f2",
   "metadata": {},
   "outputs": [],
   "source": []
  },
  {
   "cell_type": "markdown",
   "id": "d9e78df1",
   "metadata": {},
   "source": [
    "# Basic operations with tensors\n",
    "\n",
    "# +, - , *, /"
   ]
  },
  {
   "cell_type": "code",
   "execution_count": 45,
   "id": "51fa9716",
   "metadata": {},
   "outputs": [
    {
     "data": {
      "text/plain": [
       "<tf.Tensor: shape=(3, 3), dtype=int32, numpy=\n",
       "array([[96, 14, 24],\n",
       "       [61, 76, 47],\n",
       "       [93, 48, 46]])>"
      ]
     },
     "execution_count": 45,
     "metadata": {},
     "output_type": "execute_result"
    }
   ],
   "source": [
    "\n",
    "\n",
    "a "
   ]
  },
  {
   "cell_type": "code",
   "execution_count": 46,
   "id": "34e49a98",
   "metadata": {},
   "outputs": [
    {
     "data": {
      "text/plain": [
       "<tf.Tensor: shape=(3, 3), dtype=int32, numpy=\n",
       "array([[116,  34,  44],\n",
       "       [ 81,  96,  67],\n",
       "       [113,  68,  66]])>"
      ]
     },
     "execution_count": 46,
     "metadata": {},
     "output_type": "execute_result"
    }
   ],
   "source": [
    "# unlike with matrix a tensor can be added with a scalar\n",
    "\n",
    "a + 20 "
   ]
  },
  {
   "cell_type": "code",
   "execution_count": 47,
   "id": "6a7e2886",
   "metadata": {},
   "outputs": [
    {
     "data": {
      "text/plain": [
       "<tf.Tensor: shape=(3, 3), dtype=int32, numpy=\n",
       "array([[192,  28,  48],\n",
       "       [122, 152,  94],\n",
       "       [186,  96,  92]])>"
      ]
     },
     "execution_count": 47,
     "metadata": {},
     "output_type": "execute_result"
    }
   ],
   "source": [
    "# it can be multiplied with a scalar(0 dimensional tensor)\n",
    "\n",
    "a * 2"
   ]
  },
  {
   "cell_type": "code",
   "execution_count": 51,
   "id": "32c1af1e",
   "metadata": {},
   "outputs": [
    {
     "data": {
      "text/plain": [
       "<tf.Tensor: shape=(3, 3), dtype=int32, numpy=\n",
       "array([[192,  28,  48],\n",
       "       [122, 152,  94],\n",
       "       [186,  96,  92]])>"
      ]
     },
     "execution_count": 51,
     "metadata": {},
     "output_type": "execute_result"
    }
   ],
   "source": [
    "# if you want speed, do the operations with tf in GPU\n",
    "\n",
    "tf.math.multiply(a,2) # same as above but executed faster in a gpu"
   ]
  },
  {
   "cell_type": "code",
   "execution_count": 48,
   "id": "ea438120",
   "metadata": {},
   "outputs": [
    {
     "data": {
      "text/plain": [
       "<tf.Tensor: shape=(3, 3), dtype=float64, numpy=\n",
       "array([[48. ,  7. , 12. ],\n",
       "       [30.5, 38. , 23.5],\n",
       "       [46.5, 24. , 23. ]])>"
      ]
     },
     "execution_count": 48,
     "metadata": {},
     "output_type": "execute_result"
    }
   ],
   "source": [
    "a/2"
   ]
  },
  {
   "cell_type": "code",
   "execution_count": 49,
   "id": "bf374a25",
   "metadata": {},
   "outputs": [
    {
     "data": {
      "text/plain": [
       "<tf.Tensor: shape=(3, 3), dtype=int32, numpy=\n",
       "array([[88,  6, 16],\n",
       "       [53, 68, 39],\n",
       "       [85, 40, 38]])>"
      ]
     },
     "execution_count": 49,
     "metadata": {},
     "output_type": "execute_result"
    }
   ],
   "source": [
    "a - 8"
   ]
  },
  {
   "cell_type": "code",
   "execution_count": 52,
   "id": "dda6ca51",
   "metadata": {},
   "outputs": [
    {
     "data": {
      "text/plain": [
       "<tf.Tensor: shape=(3, 3), dtype=int32, numpy=\n",
       "array([[116,  34,  44],\n",
       "       [ 81,  96,  67],\n",
       "       [113,  68,  66]])>"
      ]
     },
     "execution_count": 52,
     "metadata": {},
     "output_type": "execute_result"
    }
   ],
   "source": [
    "# faster operations in Gpu\n",
    "\n",
    "tf.math.add(a,20)"
   ]
  },
  {
   "cell_type": "code",
   "execution_count": 53,
   "id": "87bf557d",
   "metadata": {},
   "outputs": [
    {
     "data": {
      "text/plain": [
       "<tf.Tensor: shape=(3, 3), dtype=int32, numpy=\n",
       "array([[88,  6, 16],\n",
       "       [53, 68, 39],\n",
       "       [85, 40, 38]])>"
      ]
     },
     "execution_count": 53,
     "metadata": {},
     "output_type": "execute_result"
    }
   ],
   "source": [
    "tf.math.subtract(a,8)"
   ]
  },
  {
   "cell_type": "code",
   "execution_count": 54,
   "id": "72732991",
   "metadata": {},
   "outputs": [
    {
     "data": {
      "text/plain": [
       "<tf.Tensor: shape=(3, 3), dtype=float64, numpy=\n",
       "array([[48. ,  7. , 12. ],\n",
       "       [30.5, 38. , 23.5],\n",
       "       [46.5, 24. , 23. ]])>"
      ]
     },
     "execution_count": 54,
     "metadata": {},
     "output_type": "execute_result"
    }
   ],
   "source": [
    "tf.math.divide(a,2)"
   ]
  },
  {
   "cell_type": "code",
   "execution_count": null,
   "id": "b5b3aed2",
   "metadata": {},
   "outputs": [],
   "source": []
  },
  {
   "cell_type": "markdown",
   "id": "51c2cdbf",
   "metadata": {},
   "source": [
    "# matrix multiplication in tensor(dot product)"
   ]
  },
  {
   "cell_type": "code",
   "execution_count": 80,
   "id": "7e7e166f",
   "metadata": {},
   "outputs": [
    {
     "data": {
      "text/plain": [
       "<tf.Tensor: shape=(2, 4), dtype=int32, numpy=\n",
       "array([[19590, 14504, 14816, 14632],\n",
       "       [15769,  9968, 12021, 10718]])>"
      ]
     },
     "execution_count": 80,
     "metadata": {},
     "output_type": "execute_result"
    }
   ],
   "source": [
    "t1 = tf.Variable(np.random.randint(1,99,(2,5)))\n",
    "t2 = tf.Variable(np.random.randint(1,99,(5,4)))\n",
    "\n",
    "tf.linalg.matmul(t1,t2)"
   ]
  },
  {
   "cell_type": "markdown",
   "id": "929b77aa",
   "metadata": {},
   "source": [
    "# transposing a tensor"
   ]
  },
  {
   "cell_type": "code",
   "execution_count": 81,
   "id": "08756c10",
   "metadata": {},
   "outputs": [
    {
     "data": {
      "text/plain": [
       "<tf.Tensor: shape=(5, 2), dtype=int32, numpy=\n",
       "array([[77, 61],\n",
       "       [36, 28],\n",
       "       [84, 48],\n",
       "       [72, 67],\n",
       "       [68, 65]])>"
      ]
     },
     "execution_count": 81,
     "metadata": {},
     "output_type": "execute_result"
    }
   ],
   "source": [
    "tf.transpose(t1)"
   ]
  },
  {
   "cell_type": "markdown",
   "id": "26439fce",
   "metadata": {},
   "source": [
    "# difference between transpose and reshape"
   ]
  },
  {
   "cell_type": "code",
   "execution_count": 82,
   "id": "ae57e574",
   "metadata": {},
   "outputs": [
    {
     "data": {
      "text/plain": [
       "<tf.Tensor: shape=(5, 2), dtype=int32, numpy=\n",
       "array([[77, 36],\n",
       "       [84, 72],\n",
       "       [68, 61],\n",
       "       [28, 48],\n",
       "       [67, 65]])>"
      ]
     },
     "execution_count": 82,
     "metadata": {},
     "output_type": "execute_result"
    }
   ],
   "source": [
    "tf.reshape(t1,shape=(5,2))"
   ]
  },
  {
   "cell_type": "markdown",
   "id": "e66be069",
   "metadata": {},
   "source": [
    "# conclusion:\n",
    "\n",
    "**reshape shuffles the elements of the tensor whereas transpose flips the axis**"
   ]
  },
  {
   "cell_type": "code",
   "execution_count": null,
   "id": "38bbe28f",
   "metadata": {},
   "outputs": [],
   "source": []
  },
  {
   "cell_type": "markdown",
   "id": "8bb984bf",
   "metadata": {},
   "source": [
    "# check whether tf.matmul is as same as tf.tensordot"
   ]
  },
  {
   "cell_type": "code",
   "execution_count": 19,
   "id": "59d171f0",
   "metadata": {},
   "outputs": [
    {
     "data": {
      "text/plain": [
       "(<tf.Variable 'Variable:0' shape=(3, 3, 2) dtype=int32, numpy=\n",
       " array([[[ 1, 91],\n",
       "         [48, 17],\n",
       "         [66, 60]],\n",
       " \n",
       "        [[18, 85],\n",
       "         [92, 15],\n",
       "         [72, 40]],\n",
       " \n",
       "        [[ 2, 43],\n",
       "         [41, 47],\n",
       "         [34, 43]]])>,\n",
       " <tf.Variable 'Variable:0' shape=(2, 3) dtype=int32, numpy=\n",
       " array([[25, 81, 57],\n",
       "        [15, 16, 50]])>)"
      ]
     },
     "execution_count": 19,
     "metadata": {},
     "output_type": "execute_result"
    }
   ],
   "source": [
    "x = tf.Variable(np.random.randint(1,99,(3,3,2)))\n",
    "y = tf.Variable(np.random.randint(1,99,(2,3)))\n",
    "\n",
    "\n",
    "x,y"
   ]
  },
  {
   "cell_type": "code",
   "execution_count": 20,
   "id": "d71bd157",
   "metadata": {},
   "outputs": [
    {
     "data": {
      "text/plain": [
       "<tf.Tensor: shape=(3, 3, 3), dtype=int32, numpy=\n",
       "array([[[1390, 1537, 4607],\n",
       "        [1455, 4160, 3586],\n",
       "        [2550, 6306, 6762]],\n",
       "\n",
       "       [[1725, 2818, 5276],\n",
       "        [2525, 7692, 5994],\n",
       "        [2400, 6472, 6104]],\n",
       "\n",
       "       [[ 695,  850, 2264],\n",
       "        [1730, 4073, 4687],\n",
       "        [1495, 3442, 4088]]])>"
      ]
     },
     "execution_count": 20,
     "metadata": {},
     "output_type": "execute_result"
    }
   ],
   "source": [
    "tf.matmul(x,y)"
   ]
  },
  {
   "cell_type": "code",
   "execution_count": 16,
   "id": "3d8d283a",
   "metadata": {},
   "outputs": [
    {
     "data": {
      "text/plain": [
       "<tf.Tensor: shape=(3, 3, 3), dtype=int32, numpy=\n",
       "array([[[7064, 3609, 3507],\n",
       "        [9021, 3510, 7947],\n",
       "        [8606, 4109, 5181]],\n",
       "\n",
       "       [[2959, 1520, 1443],\n",
       "        [3619, 1405, 3198],\n",
       "        [6956, 1578, 9690]],\n",
       "\n",
       "       [[3881, 1217, 4344],\n",
       "        [9427, 4151, 6780],\n",
       "        [4966, 1213, 6645]]])>"
      ]
     },
     "execution_count": 16,
     "metadata": {},
     "output_type": "execute_result"
    }
   ],
   "source": [
    "tf.tensordot(x,y,axes=1) # axes=1 gives matmul result i guess"
   ]
  },
  {
   "cell_type": "code",
   "execution_count": null,
   "id": "c932d616",
   "metadata": {},
   "outputs": [],
   "source": []
  },
  {
   "cell_type": "markdown",
   "id": "42817a15",
   "metadata": {},
   "source": [
    "# understanding tensors deeply:\n",
    "\n",
    "\n",
    "### underlying mechanism for two rank_3 tensor:\n",
    "\n",
    "\n",
    "inner dimensions must match\n",
    "\n",
    "# A(a,b,c) * B(c,d,e) = C(a,b,d,e)\n",
    "\n",
    "\n",
    "\n"
   ]
  },
  {
   "cell_type": "markdown",
   "id": "b81eed4b",
   "metadata": {},
   "source": [
    "### explanation,analysis and freethrows:"
   ]
  },
  {
   "cell_type": "code",
   "execution_count": 27,
   "id": "0bb1dd2a",
   "metadata": {},
   "outputs": [
    {
     "ename": "InvalidArgumentError",
     "evalue": "{{function_node __wrapped__BatchMatMulV2_device_/job:localhost/replica:0/task:0/device:CPU:0}} In[0] and In[1] must have compatible batch dimensions: [2,3,4] vs. [4,5,6] [Op:BatchMatMulV2]",
     "output_type": "error",
     "traceback": [
      "\u001b[1;31m---------------------------------------------------------------------------\u001b[0m",
      "\u001b[1;31mInvalidArgumentError\u001b[0m                      Traceback (most recent call last)",
      "Input \u001b[1;32mIn [27]\u001b[0m, in \u001b[0;36m<cell line: 6>\u001b[1;34m()\u001b[0m\n\u001b[0;32m      2\u001b[0m A \u001b[38;5;241m=\u001b[39m tf\u001b[38;5;241m.\u001b[39mVariable(np\u001b[38;5;241m.\u001b[39mrandom\u001b[38;5;241m.\u001b[39mrandint(\u001b[38;5;241m1\u001b[39m,\u001b[38;5;241m99\u001b[39m,(\u001b[38;5;241m2\u001b[39m,\u001b[38;5;241m3\u001b[39m,\u001b[38;5;241m4\u001b[39m)))\n\u001b[0;32m      3\u001b[0m B \u001b[38;5;241m=\u001b[39m tf\u001b[38;5;241m.\u001b[39mVariable(np\u001b[38;5;241m.\u001b[39mrandom\u001b[38;5;241m.\u001b[39mrandint(\u001b[38;5;241m1\u001b[39m,\u001b[38;5;241m99\u001b[39m,(\u001b[38;5;241m4\u001b[39m,\u001b[38;5;241m5\u001b[39m,\u001b[38;5;241m6\u001b[39m)))\n\u001b[1;32m----> 6\u001b[0m \u001b[43mtf\u001b[49m\u001b[38;5;241;43m.\u001b[39;49m\u001b[43mmatmul\u001b[49m\u001b[43m(\u001b[49m\u001b[43mA\u001b[49m\u001b[43m,\u001b[49m\u001b[43mB\u001b[49m\u001b[43m)\u001b[49m\n",
      "File \u001b[1;32m~\\anaconda3\\lib\\site-packages\\tensorflow\\python\\util\\traceback_utils.py:153\u001b[0m, in \u001b[0;36mfilter_traceback.<locals>.error_handler\u001b[1;34m(*args, **kwargs)\u001b[0m\n\u001b[0;32m    151\u001b[0m \u001b[38;5;28;01mexcept\u001b[39;00m \u001b[38;5;167;01mException\u001b[39;00m \u001b[38;5;28;01mas\u001b[39;00m e:\n\u001b[0;32m    152\u001b[0m   filtered_tb \u001b[38;5;241m=\u001b[39m _process_traceback_frames(e\u001b[38;5;241m.\u001b[39m__traceback__)\n\u001b[1;32m--> 153\u001b[0m   \u001b[38;5;28;01mraise\u001b[39;00m e\u001b[38;5;241m.\u001b[39mwith_traceback(filtered_tb) \u001b[38;5;28;01mfrom\u001b[39;00m \u001b[38;5;28mNone\u001b[39m\n\u001b[0;32m    154\u001b[0m \u001b[38;5;28;01mfinally\u001b[39;00m:\n\u001b[0;32m    155\u001b[0m   \u001b[38;5;28;01mdel\u001b[39;00m filtered_tb\n",
      "File \u001b[1;32m~\\anaconda3\\lib\\site-packages\\tensorflow\\python\\framework\\ops.py:7262\u001b[0m, in \u001b[0;36mraise_from_not_ok_status\u001b[1;34m(e, name)\u001b[0m\n\u001b[0;32m   7260\u001b[0m \u001b[38;5;28;01mdef\u001b[39;00m \u001b[38;5;21mraise_from_not_ok_status\u001b[39m(e, name):\n\u001b[0;32m   7261\u001b[0m   e\u001b[38;5;241m.\u001b[39mmessage \u001b[38;5;241m+\u001b[39m\u001b[38;5;241m=\u001b[39m (\u001b[38;5;124m\"\u001b[39m\u001b[38;5;124m name: \u001b[39m\u001b[38;5;124m\"\u001b[39m \u001b[38;5;241m+\u001b[39m name \u001b[38;5;28;01mif\u001b[39;00m name \u001b[38;5;129;01mis\u001b[39;00m \u001b[38;5;129;01mnot\u001b[39;00m \u001b[38;5;28;01mNone\u001b[39;00m \u001b[38;5;28;01melse\u001b[39;00m \u001b[38;5;124m\"\u001b[39m\u001b[38;5;124m\"\u001b[39m)\n\u001b[1;32m-> 7262\u001b[0m   \u001b[38;5;28;01mraise\u001b[39;00m core\u001b[38;5;241m.\u001b[39m_status_to_exception(e) \u001b[38;5;28;01mfrom\u001b[39;00m \u001b[38;5;28mNone\u001b[39m\n",
      "\u001b[1;31mInvalidArgumentError\u001b[0m: {{function_node __wrapped__BatchMatMulV2_device_/job:localhost/replica:0/task:0/device:CPU:0}} In[0] and In[1] must have compatible batch dimensions: [2,3,4] vs. [4,5,6] [Op:BatchMatMulV2]"
     ]
    }
   ],
   "source": [
    "# dot producting two rank_3 tensors\n",
    "A = tf.Variable(np.random.randint(1,99,(2,3,4)))\n",
    "B = tf.Variable(np.random.randint(1,99,(4,5,6)))\n",
    "\n",
    "\n",
    "tf.matmul(A,B)"
   ]
  },
  {
   "cell_type": "code",
   "execution_count": 29,
   "id": "bcd13daf",
   "metadata": {},
   "outputs": [
    {
     "data": {
      "text/plain": [
       "<tf.Tensor: shape=(2, 3, 5, 6), dtype=int32, numpy=\n",
       "array([[[[17086, 15274, 10081, 11634, 13899, 19979],\n",
       "         [12940,  6774, 14809,  8617, 12821,  7386],\n",
       "         [13588,  4990, 10660, 15910, 19007, 14998],\n",
       "         [16379,  9378, 10296,  4145, 11059, 14289],\n",
       "         [ 8912, 10026,  9028, 14160, 13785,  5560]],\n",
       "\n",
       "        [[12557,  8900,  8611, 10311,  8697, 14195],\n",
       "         [12486,  6761, 11444,  9012,  8183,  3573],\n",
       "         [ 9552,  4304,  7740, 11173, 11069, 12343],\n",
       "         [12030,  8074,  7244,  4663,  7759, 11031],\n",
       "         [ 5543,  6934,  9905, 11053,  8572,  7996]],\n",
       "\n",
       "        [[23364, 16501, 12003, 19354, 12527, 22078],\n",
       "         [17726, 12867, 21385, 13657, 12651, 10441],\n",
       "         [16922,  7626, 15217, 19675, 19989, 21078],\n",
       "         [22892, 13346, 13321,  6889,  9870, 14361],\n",
       "         [ 9401, 11842, 12784, 20767, 15343, 12424]]],\n",
       "\n",
       "\n",
       "       [[[20644, 15810, 12867, 16583, 13699, 22499],\n",
       "         [17976, 10760, 18819, 13447, 13170,  7637],\n",
       "         [15567,  6835, 13360, 18509, 19203, 19500],\n",
       "         [19928, 12527, 11830,  6595, 11928, 16464],\n",
       "         [ 9034, 11085, 13890, 17895, 14706, 11066]],\n",
       "\n",
       "        [[11060,  7466,  5979,  7532,  8665, 11853],\n",
       "         [ 9392,  4444,  9169,  4993,  7695,  3888],\n",
       "         [ 8780,  3158,  5476,  9036, 10453,  9480],\n",
       "         [10591,  6022,  7080,  3347,  5685,  8427],\n",
       "         [ 5978,  6918,  5858,  9846,  7353,  5296]],\n",
       "\n",
       "        [[18842, 13308, 12512, 15722, 12328, 20684],\n",
       "         [18156, 10410, 17302, 13446, 11788,  5806],\n",
       "         [14148,  6488, 11880, 16662, 16344, 18422],\n",
       "         [18130, 12012, 10760,  6856, 11048, 15756],\n",
       "         [ 8026, 10140, 14406, 16626, 12738, 11936]]]])>"
      ]
     },
     "execution_count": 29,
     "metadata": {},
     "output_type": "execute_result"
    }
   ],
   "source": [
    "# lets try with tensordot\n",
    "C = tf.tensordot(A,B,axes=1)\n",
    "C"
   ]
  },
  {
   "cell_type": "code",
   "execution_count": 30,
   "id": "7f8f8c78",
   "metadata": {},
   "outputs": [
    {
     "data": {
      "text/plain": [
       "TensorShape([2, 3, 5, 6])"
      ]
     },
     "execution_count": 30,
     "metadata": {},
     "output_type": "execute_result"
    }
   ],
   "source": [
    "C.shape"
   ]
  },
  {
   "cell_type": "code",
   "execution_count": 34,
   "id": "436cc6e3",
   "metadata": {},
   "outputs": [
    {
     "data": {
      "text/plain": [
       "(TensorShape([3, 2, 3, 2, 5, 1]), 6)"
      ]
     },
     "execution_count": 34,
     "metadata": {},
     "output_type": "execute_result"
    }
   ],
   "source": [
    "# dot producting rank 4 matrices\n",
    "\n",
    "A = tf.Variable(np.random.randint(1,99,(3,2,3,4)))\n",
    "B = tf.Variable(np.random.randint(1,99,(4,2,5,1))) # inner dimensions must match\n",
    "\n",
    "\n",
    "C = tf.tensordot(A,B,axes=1)\n",
    "\n",
    "C.shape, C.ndim"
   ]
  },
  {
   "cell_type": "code",
   "execution_count": 37,
   "id": "0ef1430e",
   "metadata": {},
   "outputs": [
    {
     "data": {
      "text/plain": [
       "TensorShape([1, 2, 3, 4, 5, 6, 7, 3, 2])"
      ]
     },
     "execution_count": 37,
     "metadata": {},
     "output_type": "execute_result"
    }
   ],
   "source": [
    "# dot producting with one 8 dimensional tensor(rank 8) and one 3 dimensional tensor(rank 3)\n",
    "\n",
    "A = tf.Variable(np.random.randint(1,9,(1,2,3,4,5,6,7,8))) # 8 rank\n",
    "B = tf.Variable(np.random.randint(1,9,(8,3,2))) # 3 rank\n",
    "\n",
    "C = tf.tensordot(A,B,axes=1)\n",
    "\n",
    "C.shape"
   ]
  },
  {
   "cell_type": "code",
   "execution_count": 38,
   "id": "f358faaf",
   "metadata": {},
   "outputs": [
    {
     "data": {
      "text/plain": [
       "TensorShape([8, 3, 2, 3, 4, 5, 6, 7, 8])"
      ]
     },
     "execution_count": 38,
     "metadata": {},
     "output_type": "execute_result"
    }
   ],
   "source": [
    "# flipping the position of smaller rank and larger rank tensors and dot producting them\n",
    "\n",
    "B = tf.Variable(np.random.randint(1,9,(1,2,3,4,5,6,7,8))) \n",
    "A = tf.Variable(np.random.randint(1,9,(8,3,1))) # keeping the inner dimensions same\n",
    "\n",
    "\n",
    "C = tf.tensordot(A,B,axes=1)\n",
    "\n",
    "C.shape"
   ]
  },
  {
   "cell_type": "markdown",
   "id": "b5835e34",
   "metadata": {},
   "source": [
    "# conclusion:\n",
    "\n",
    "1. matmul works only on rank 2 tensors which is also known as matrices\n",
    "\n",
    "\n",
    "2. for (rank_3 and +) tensors we need to do tensordot\n",
    "\n",
    "\n",
    "3. **make sure to keep the inner dimensions the same. otherwise it won't work.**"
   ]
  },
  {
   "cell_type": "code",
   "execution_count": null,
   "id": "b386a59f",
   "metadata": {},
   "outputs": [],
   "source": []
  },
  {
   "cell_type": "markdown",
   "id": "ecd2e715",
   "metadata": {},
   "source": [
    "# changing the datatypes of the tensors:\n",
    "\n",
    "\n",
    "* float 16 is more faster than using float 32 but less accurate. so that is the trade-off. "
   ]
  },
  {
   "cell_type": "code",
   "execution_count": 43,
   "id": "0e1e2c75",
   "metadata": {},
   "outputs": [
    {
     "data": {
      "text/plain": [
       "<tf.Variable 'Variable:0' shape=(2, 2) dtype=float64, numpy=\n",
       "array([[0.87483187, 0.23268089],\n",
       "       [0.26970691, 0.55967447]])>"
      ]
     },
     "execution_count": 43,
     "metadata": {},
     "output_type": "execute_result"
    }
   ],
   "source": [
    "A = tf.Variable(np.random.rand(2,2))\n",
    "A \n",
    "\n",
    "# it is float64. more precise but not faster in computation."
   ]
  },
  {
   "cell_type": "code",
   "execution_count": 42,
   "id": "8ea64406",
   "metadata": {},
   "outputs": [
    {
     "data": {
      "text/plain": [
       "<tf.Tensor: shape=(2, 2), dtype=float16, numpy=\n",
       "array([[0.861 , 0.5464],\n",
       "       [0.2461, 0.4856]], dtype=float16)>"
      ]
     },
     "execution_count": 42,
     "metadata": {},
     "output_type": "execute_result"
    }
   ],
   "source": [
    "B = tf.cast(A,dtype=tf.float16)\n",
    "B\n",
    "\n",
    "# it is float16. less precise but more faster. 300% faster in GPU and 60% faster in TPU."
   ]
  },
  {
   "cell_type": "code",
   "execution_count": 44,
   "id": "70243788",
   "metadata": {},
   "outputs": [
    {
     "data": {
      "text/plain": [
       "<tf.Tensor: shape=(2, 3), dtype=int32, numpy=\n",
       "array([[1, 4, 3],\n",
       "       [6, 2, 5]])>"
      ]
     },
     "execution_count": 44,
     "metadata": {},
     "output_type": "execute_result"
    }
   ],
   "source": [
    "# converting int 32 to float 16\n",
    "\n",
    "A = tf.constant(np.random.randint(1,9,(2,3)))\n",
    "\n",
    "A\n",
    "\n",
    "# it is int32"
   ]
  },
  {
   "cell_type": "code",
   "execution_count": 45,
   "id": "ccde1a6f",
   "metadata": {},
   "outputs": [
    {
     "data": {
      "text/plain": [
       "<tf.Tensor: shape=(2, 3), dtype=float16, numpy=\n",
       "array([[1., 4., 3.],\n",
       "       [6., 2., 5.]], dtype=float16)>"
      ]
     },
     "execution_count": 45,
     "metadata": {},
     "output_type": "execute_result"
    }
   ],
   "source": [
    "B = tf.cast(A, dtype=tf.float16)\n",
    "B\n",
    "\n",
    "# it is now float16"
   ]
  },
  {
   "cell_type": "code",
   "execution_count": null,
   "id": "ae4bc5ce",
   "metadata": {},
   "outputs": [],
   "source": []
  },
  {
   "cell_type": "markdown",
   "id": "d1b882b8",
   "metadata": {},
   "source": [
    "# Aggregating the tensors:"
   ]
  },
  {
   "cell_type": "markdown",
   "id": "dde6eff9",
   "metadata": {},
   "source": [
    "# goal\n",
    "\n",
    "1. get the absolute values of the tensor values.\n",
    "\n",
    "\n",
    "2. get the min of the tensor\n",
    "\n",
    "\n",
    "3. get the max of the tensor\n",
    "\n",
    "\n",
    "4. get the mean of the tensor\n",
    "\n",
    "\n",
    "\n",
    "5. get the sum of the tensor"
   ]
  },
  {
   "cell_type": "markdown",
   "id": "a7515f79",
   "metadata": {},
   "source": []
  },
  {
   "cell_type": "code",
   "execution_count": 2,
   "id": "d44a10e8",
   "metadata": {},
   "outputs": [
    {
     "data": {
      "text/plain": [
       "<tf.Tensor: shape=(2, 5, 3), dtype=float64, numpy=\n",
       "array([[[ 1.57682329, -0.53860681, -1.65098918],\n",
       "        [ 0.26870331, -0.26506069,  0.73714623],\n",
       "        [-2.32094464,  0.65699799, -1.17978329],\n",
       "        [ 1.10231971,  0.38511694,  0.89789512],\n",
       "        [ 1.92813241,  0.5377012 ,  0.31382175]],\n",
       "\n",
       "       [[-0.05899336,  0.09667459,  0.47785995],\n",
       "        [-0.36992554,  2.23885033, -2.32875634],\n",
       "        [-0.78703589,  0.09625941, -0.30786423],\n",
       "        [-1.04629556, -0.55210772, -0.53493547],\n",
       "        [ 0.53088093, -0.98462282, -0.64498132]]])>"
      ]
     },
     "execution_count": 2,
     "metadata": {},
     "output_type": "execute_result"
    }
   ],
   "source": [
    "A = tf.constant(np.random.randn(2,5,3))\n",
    "A"
   ]
  },
  {
   "cell_type": "code",
   "execution_count": 47,
   "id": "c0a3ceb9",
   "metadata": {},
   "outputs": [
    {
     "data": {
      "text/plain": [
       "<tf.Tensor: shape=(2, 5, 3), dtype=float64, numpy=\n",
       "array([[[0.34513678, 1.30344155, 0.54701257],\n",
       "        [0.32322882, 1.2955205 , 0.55890347],\n",
       "        [1.24478366, 0.95044486, 1.16705565],\n",
       "        [3.1213428 , 1.52664726, 1.33558985],\n",
       "        [0.54192284, 0.95037847, 0.18242511]],\n",
       "\n",
       "       [[1.06558546, 0.20727263, 1.83014575],\n",
       "        [0.04353575, 0.46760866, 1.03006479],\n",
       "        [0.89275459, 0.1671781 , 0.36746536],\n",
       "        [2.24224528, 1.1845946 , 0.60520627],\n",
       "        [1.29538686, 0.32869278, 0.64222707]]])>"
      ]
     },
     "execution_count": 47,
     "metadata": {},
     "output_type": "execute_result"
    }
   ],
   "source": [
    "# getting abs values\n",
    "tf.abs(A)"
   ]
  },
  {
   "cell_type": "code",
   "execution_count": 3,
   "id": "acb7ef5b",
   "metadata": {},
   "outputs": [
    {
     "data": {
      "text/plain": [
       "<tf.Tensor: shape=(), dtype=float64, numpy=-2.3287563384529393>"
      ]
     },
     "execution_count": 3,
     "metadata": {},
     "output_type": "execute_result"
    }
   ],
   "source": [
    "# find the minimum of the tensor\n",
    "tf.reduce_min(A)"
   ]
  },
  {
   "cell_type": "code",
   "execution_count": 4,
   "id": "2de38001",
   "metadata": {},
   "outputs": [
    {
     "data": {
      "text/plain": [
       "<tf.Tensor: shape=(), dtype=float64, numpy=2.238850330695638>"
      ]
     },
     "execution_count": 4,
     "metadata": {},
     "output_type": "execute_result"
    }
   ],
   "source": [
    "# find the maximum\n",
    "tf.reduce_max(A)"
   ]
  },
  {
   "cell_type": "code",
   "execution_count": 5,
   "id": "0eae3225",
   "metadata": {},
   "outputs": [
    {
     "data": {
      "text/plain": [
       "<tf.Tensor: shape=(), dtype=float64, numpy=-0.057523988963625546>"
      ]
     },
     "execution_count": 5,
     "metadata": {},
     "output_type": "execute_result"
    }
   ],
   "source": [
    "# find the mean\n",
    "tf.reduce_mean(A)"
   ]
  },
  {
   "cell_type": "code",
   "execution_count": 6,
   "id": "c97f9d0a",
   "metadata": {},
   "outputs": [
    {
     "data": {
      "text/plain": [
       "<tf.Tensor: shape=(), dtype=float64, numpy=-1.7257196689087664>"
      ]
     },
     "execution_count": 6,
     "metadata": {},
     "output_type": "execute_result"
    }
   ],
   "source": [
    "# find the sum\n",
    "tf.reduce_sum(A)"
   ]
  },
  {
   "cell_type": "code",
   "execution_count": 10,
   "id": "b75c248d",
   "metadata": {},
   "outputs": [
    {
     "data": {
      "text/plain": [
       "(<tf.Tensor: shape=(), dtype=float64, numpy=1.1488049191471041>,\n",
       " <tf.Tensor: shape=(), dtype=float64, numpy=1.0718231753172274>)"
      ]
     },
     "execution_count": 10,
     "metadata": {},
     "output_type": "execute_result"
    }
   ],
   "source": [
    "# find the variance and std\n",
    "\n",
    "mean = tf.reduce_mean(A)\n",
    "\n",
    "variance = tf.reduce_mean((A-mean)**2) # mean(x-mean)\n",
    "std = tf.sqrt(variance)\n",
    "variance,std"
   ]
  },
  {
   "cell_type": "code",
   "execution_count": 11,
   "id": "67f19c63",
   "metadata": {},
   "outputs": [
    {
     "data": {
      "text/plain": [
       "(<tf.Tensor: shape=(), dtype=float64, numpy=1.1488049191471041>,\n",
       " <tf.Tensor: shape=(), dtype=float64, numpy=1.0718231753172274>)"
      ]
     },
     "execution_count": 11,
     "metadata": {},
     "output_type": "execute_result"
    }
   ],
   "source": [
    "# another method to find variance and std\n",
    "\n",
    "variance = tf.math.reduce_variance(A)\n",
    "std = tf.math.reduce_std(A)\n",
    "\n",
    "variance,std"
   ]
  },
  {
   "cell_type": "markdown",
   "id": "ffc30107",
   "metadata": {},
   "source": [
    "# conclusion:\n",
    "\n",
    "**just use tf.reduce_(whatever you want to do!)**"
   ]
  },
  {
   "cell_type": "code",
   "execution_count": null,
   "id": "7b5d6838",
   "metadata": {},
   "outputs": [],
   "source": []
  },
  {
   "cell_type": "markdown",
   "id": "e775a430",
   "metadata": {},
   "source": [
    "# find the maximum's index and minimum's index"
   ]
  },
  {
   "cell_type": "code",
   "execution_count": 4,
   "id": "8e470c49",
   "metadata": {},
   "outputs": [
    {
     "data": {
      "text/plain": [
       "<tf.Tensor: shape=(3, 3), dtype=int32, numpy=\n",
       "array([[19, 58, 72],\n",
       "       [87, 59, 12],\n",
       "       [19, 51, 14]])>"
      ]
     },
     "execution_count": 4,
     "metadata": {},
     "output_type": "execute_result"
    }
   ],
   "source": [
    "a = tf.constant(np.random.randint(1,99,(3,3)))\n",
    "a"
   ]
  },
  {
   "cell_type": "code",
   "execution_count": 5,
   "id": "e6ead3e4",
   "metadata": {},
   "outputs": [
    {
     "data": {
      "text/plain": [
       "<tf.Tensor: shape=(3,), dtype=int64, numpy=array([1, 1, 0], dtype=int64)>"
      ]
     },
     "execution_count": 5,
     "metadata": {},
     "output_type": "execute_result"
    }
   ],
   "source": [
    "tf.argmax(a) # returns maximum in each rows,we can also set the axis"
   ]
  },
  {
   "cell_type": "code",
   "execution_count": 16,
   "id": "73b0d672",
   "metadata": {},
   "outputs": [
    {
     "data": {
      "text/plain": [
       "<tf.Tensor: shape=(3,), dtype=int64, numpy=array([0, 1, 1], dtype=int64)>"
      ]
     },
     "execution_count": 16,
     "metadata": {},
     "output_type": "execute_result"
    }
   ],
   "source": [
    "tf.argmin(a) # returns minimum in each rows"
   ]
  },
  {
   "cell_type": "code",
   "execution_count": 16,
   "id": "389b34fe",
   "metadata": {},
   "outputs": [
    {
     "data": {
      "text/plain": [
       "<tf.Tensor: shape=(3, 3, 3), dtype=int32, numpy=\n",
       "array([[[22, 84, 31],\n",
       "        [50, 95,  6],\n",
       "        [50, 77, 33]],\n",
       "\n",
       "       [[43, 66, 53],\n",
       "        [ 4, 73, 50],\n",
       "        [86, 25,  9]],\n",
       "\n",
       "       [[46, 44, 40],\n",
       "        [94, 75, 13],\n",
       "        [45, 96, 85]]])>"
      ]
     },
     "execution_count": 16,
     "metadata": {},
     "output_type": "execute_result"
    }
   ],
   "source": [
    "# finding argmax and argmin for rank_3 tensor\n",
    "\n",
    "a = tf.constant(np.random.randint(1,99,(3,3,3)))\n",
    "a"
   ]
  },
  {
   "cell_type": "code",
   "execution_count": 24,
   "id": "fc04e6c0",
   "metadata": {},
   "outputs": [
    {
     "data": {
      "text/plain": [
       "<tf.Tensor: shape=(3, 3), dtype=int64, numpy=\n",
       "array([[1, 1, 2],\n",
       "       [2, 1, 0],\n",
       "       [1, 2, 2]], dtype=int64)>"
      ]
     },
     "execution_count": 24,
     "metadata": {},
     "output_type": "execute_result"
    }
   ],
   "source": [
    "maxi = tf.argmax(a,axis=1) # across the column\n",
    "maxi"
   ]
  },
  {
   "cell_type": "code",
   "execution_count": 26,
   "id": "9ef9dc84",
   "metadata": {},
   "outputs": [],
   "source": [
    "# acessing the maximum elements from the original tensor\n",
    "\n"
   ]
  },
  {
   "cell_type": "markdown",
   "id": "e89af222",
   "metadata": {},
   "source": [
    "# day 117"
   ]
  },
  {
   "cell_type": "code",
   "execution_count": 1,
   "id": "54d5d917",
   "metadata": {},
   "outputs": [],
   "source": [
    "import numpy as np\n",
    "import sympy as sym\n",
    "from IPython.display import display,Math\n",
    "sym.init_printing()\n",
    "import matplotlib.pyplot as plt\n",
    "import pandas as pd\n",
    "import tensorflow as tf"
   ]
  },
  {
   "cell_type": "markdown",
   "id": "11e82fa2",
   "metadata": {},
   "source": [
    "# squeezing a tensor(removing all single dimensions)"
   ]
  },
  {
   "cell_type": "code",
   "execution_count": 29,
   "id": "e8d2260c",
   "metadata": {},
   "outputs": [
    {
     "data": {
      "text/plain": [
       "<tf.Tensor: shape=(3, 3, 1, 1, 1, 1), dtype=int32, numpy=\n",
       "array([[[[[[46]]]],\n",
       "\n",
       "\n",
       "\n",
       "        [[[[74]]]],\n",
       "\n",
       "\n",
       "\n",
       "        [[[[19]]]]],\n",
       "\n",
       "\n",
       "\n",
       "\n",
       "       [[[[[12]]]],\n",
       "\n",
       "\n",
       "\n",
       "        [[[[73]]]],\n",
       "\n",
       "\n",
       "\n",
       "        [[[[42]]]]],\n",
       "\n",
       "\n",
       "\n",
       "\n",
       "       [[[[[32]]]],\n",
       "\n",
       "\n",
       "\n",
       "        [[[[77]]]],\n",
       "\n",
       "\n",
       "\n",
       "        [[[[57]]]]]])>"
      ]
     },
     "execution_count": 29,
     "metadata": {},
     "output_type": "execute_result"
    }
   ],
   "source": [
    "tf.random.set_seed(42)\n",
    "a = tf.constant(np.random.randint(1,99,(3,3,1,1,1,1)))\n",
    "a"
   ]
  },
  {
   "cell_type": "code",
   "execution_count": 30,
   "id": "083af281",
   "metadata": {},
   "outputs": [
    {
     "data": {
      "text/plain": [
       "<tf.Tensor: shape=(3, 3), dtype=int32, numpy=\n",
       "array([[46, 74, 19],\n",
       "       [12, 73, 42],\n",
       "       [32, 77, 57]])>"
      ]
     },
     "execution_count": 30,
     "metadata": {},
     "output_type": "execute_result"
    }
   ],
   "source": [
    "# lets squeeze all the useless single dimensions\n",
    "\n",
    "\n",
    "tf.squeeze(a)\n",
    "\n",
    "\n"
   ]
  },
  {
   "cell_type": "markdown",
   "id": "f911c8cc",
   "metadata": {},
   "source": [
    "# conclusion:\n",
    "\n",
    "** squeeze function removes all 1 dimensions from the data **"
   ]
  },
  {
   "cell_type": "code",
   "execution_count": null,
   "id": "b211d0bb",
   "metadata": {},
   "outputs": [],
   "source": []
  },
  {
   "cell_type": "markdown",
   "id": "aca89509",
   "metadata": {},
   "source": [
    "# one-hot encoding tensors"
   ]
  },
  {
   "cell_type": "code",
   "execution_count": 32,
   "id": "49326fc3",
   "metadata": {},
   "outputs": [
    {
     "data": {
      "text/plain": [
       "<tf.Tensor: shape=(11, 11), dtype=float32, numpy=\n",
       "array([[1., 0., 0., 0., 0., 0., 0., 0., 0., 0., 0.],\n",
       "       [0., 1., 0., 0., 0., 0., 0., 0., 0., 0., 0.],\n",
       "       [0., 0., 1., 0., 0., 0., 0., 0., 0., 0., 0.],\n",
       "       [0., 0., 0., 1., 0., 0., 0., 0., 0., 0., 0.],\n",
       "       [0., 0., 0., 0., 1., 0., 0., 0., 0., 0., 0.],\n",
       "       [0., 0., 0., 0., 0., 1., 0., 0., 0., 0., 0.],\n",
       "       [0., 0., 0., 0., 0., 0., 1., 0., 0., 0., 0.],\n",
       "       [1., 0., 0., 0., 0., 0., 0., 0., 0., 0., 0.],\n",
       "       [0., 1., 0., 0., 0., 0., 0., 0., 0., 0., 0.],\n",
       "       [1., 0., 0., 0., 0., 0., 0., 0., 0., 0., 0.],\n",
       "       [1., 0., 0., 0., 0., 0., 0., 0., 0., 0., 0.]], dtype=float32)>"
      ]
     },
     "execution_count": 32,
     "metadata": {},
     "output_type": "execute_result"
    }
   ],
   "source": [
    "colors = ['Red','Blue','Yellow','Pink','Maroon','Dark Blue','Rich Green','Red','Blue','Red','Red']\n",
    "colors = [0,1,2,3,4,5,6,0,1,0,0] # corresponding indices\n",
    "\n",
    "tf.one_hot(colors,depth=len(colors))"
   ]
  },
  {
   "cell_type": "code",
   "execution_count": 35,
   "id": "7b9085b7",
   "metadata": {},
   "outputs": [
    {
     "data": {
      "text/plain": [
       "<tf.Tensor: shape=(11, 11), dtype=float32, numpy=\n",
       "array([[0., 1., 0., 0., 0., 0., 0., 0., 0., 0., 0.],\n",
       "       [0., 0., 0., 0., 0., 1., 0., 0., 0., 0., 0.],\n",
       "       [0., 0., 0., 0., 0., 0., 1., 0., 0., 0., 0.],\n",
       "       [1., 0., 0., 0., 0., 0., 0., 0., 0., 0., 0.],\n",
       "       [0., 0., 0., 0., 1., 0., 0., 0., 0., 0., 0.],\n",
       "       [0., 0., 0., 1., 0., 0., 0., 0., 0., 0., 0.],\n",
       "       [0., 0., 1., 0., 0., 0., 0., 0., 0., 0., 0.],\n",
       "       [0., 1., 0., 0., 0., 0., 0., 0., 0., 0., 0.],\n",
       "       [0., 0., 0., 0., 0., 1., 0., 0., 0., 0., 0.],\n",
       "       [0., 1., 0., 0., 0., 0., 0., 0., 0., 0., 0.],\n",
       "       [0., 1., 0., 0., 0., 0., 0., 0., 0., 0., 0.]], dtype=float32)>"
      ]
     },
     "execution_count": 35,
     "metadata": {},
     "output_type": "execute_result"
    }
   ],
   "source": [
    "# automating the indexing process\n",
    "\n",
    "colors = ['Red','Blue','Yellow','Pink','Maroon','Dark Blue','Rich Green','Red','Blue','Red','Red']\n",
    "\n",
    "# getting the index for corresponding colors\n",
    "color_to_index = {color:index for index,color in enumerate(set(colors))}\n",
    "\n",
    "\n",
    "# converting colors to numerical_values\n",
    "numerical_values = [color_to_index[color] for color in colors]\n",
    "\n",
    "# applying numerical_values which are corresponding indices into one_hot\n",
    "tf.one_hot(numerical_values,depth=len(colors))"
   ]
  },
  {
   "cell_type": "code",
   "execution_count": 34,
   "id": "b0b44064",
   "metadata": {},
   "outputs": [
    {
     "data": {
      "text/plain": [
       "{'Blue', 'Dark Blue', 'Maroon', 'Pink', 'Red', 'Rich Green', 'Yellow'}"
      ]
     },
     "execution_count": 34,
     "metadata": {},
     "output_type": "execute_result"
    }
   ],
   "source": [
    "set(colors)"
   ]
  },
  {
   "cell_type": "code",
   "execution_count": 36,
   "id": "0e2b578e",
   "metadata": {},
   "outputs": [
    {
     "data": {
      "text/plain": [
       "{'Pink': 0,\n",
       " 'Red': 1,\n",
       " 'Rich Green': 2,\n",
       " 'Dark Blue': 3,\n",
       " 'Maroon': 4,\n",
       " 'Blue': 5,\n",
       " 'Yellow': 6}"
      ]
     },
     "execution_count": 36,
     "metadata": {},
     "output_type": "execute_result"
    }
   ],
   "source": [
    "color_to_index"
   ]
  },
  {
   "cell_type": "code",
   "execution_count": 37,
   "id": "960e3063",
   "metadata": {},
   "outputs": [
    {
     "data": {
      "image/png": "[encoded data removed]",
      "text/latex": [
       "$\\displaystyle \\left[ 1, \\  5, \\  6, \\  0, \\  4, \\  3, \\  2, \\  1, \\  5, \\  1, \\  1\\right]$"
      ],
      "text/plain": [
       "[1, 5, 6, 0, 4, 3, 2, 1, 5, 1, 1]"
      ]
     },
     "execution_count": 37,
     "metadata": {},
     "output_type": "execute_result"
    }
   ],
   "source": [
    "numerical_values"
   ]
  },
  {
   "cell_type": "markdown",
   "id": "06575669",
   "metadata": {},
   "source": [
    "# conclusion:\n",
    "\n",
    "# new things i have learned:\n",
    "\n",
    "1. we can create a dictionary out of the index and the name of the list\n",
    "\n",
    "2. we can count the instances of dictionary items by passing the keys inside the dic and get each key counted based on how many times it appears on the list of keys passed."
   ]
  },
  {
   "cell_type": "code",
   "execution_count": null,
   "id": "3748bab3",
   "metadata": {},
   "outputs": [],
   "source": []
  },
  {
   "cell_type": "markdown",
   "id": "3effa9e8",
   "metadata": {},
   "source": [
    "# creating a tensor arange"
   ]
  },
  {
   "cell_type": "code",
   "execution_count": 39,
   "id": "fcc3314a",
   "metadata": {},
   "outputs": [
    {
     "data": {
      "text/plain": [
       "<tf.Tensor: shape=(10,), dtype=int32, numpy=array([ 1,  2,  3,  4,  5,  6,  7,  8,  9, 10])>"
      ]
     },
     "execution_count": 39,
     "metadata": {},
     "output_type": "execute_result"
    }
   ],
   "source": [
    "a = tf.range(1,11,1)\n",
    "a"
   ]
  },
  {
   "cell_type": "code",
   "execution_count": 40,
   "id": "4ae08d65",
   "metadata": {},
   "outputs": [
    {
     "ename": "InvalidArgumentError",
     "evalue": "Value for attr 'T' of int32 is not in the list of allowed values: bfloat16, half, float, double, complex64, complex128\n\t; NodeDef: {{node Sqrt}}; Op<name=Sqrt; signature=x:T -> y:T; attr=T:type,allowed=[DT_BFLOAT16, DT_HALF, DT_FLOAT, DT_DOUBLE, DT_COMPLEX64, DT_COMPLEX128]> [Op:Sqrt]",
     "output_type": "error",
     "traceback": [
      "\u001b[1;31m---------------------------------------------------------------------------\u001b[0m",
      "\u001b[1;31mInvalidArgumentError\u001b[0m                      Traceback (most recent call last)",
      "Input \u001b[1;32mIn [40]\u001b[0m, in \u001b[0;36m<cell line: 1>\u001b[1;34m()\u001b[0m\n\u001b[1;32m----> 1\u001b[0m \u001b[43mtf\u001b[49m\u001b[38;5;241;43m.\u001b[39;49m\u001b[43msqrt\u001b[49m\u001b[43m(\u001b[49m\u001b[43ma\u001b[49m\u001b[43m)\u001b[49m\n",
      "File \u001b[1;32m~\\anaconda3\\lib\\site-packages\\tensorflow\\python\\util\\traceback_utils.py:153\u001b[0m, in \u001b[0;36mfilter_traceback.<locals>.error_handler\u001b[1;34m(*args, **kwargs)\u001b[0m\n\u001b[0;32m    151\u001b[0m \u001b[38;5;28;01mexcept\u001b[39;00m \u001b[38;5;167;01mException\u001b[39;00m \u001b[38;5;28;01mas\u001b[39;00m e:\n\u001b[0;32m    152\u001b[0m   filtered_tb \u001b[38;5;241m=\u001b[39m _process_traceback_frames(e\u001b[38;5;241m.\u001b[39m__traceback__)\n\u001b[1;32m--> 153\u001b[0m   \u001b[38;5;28;01mraise\u001b[39;00m e\u001b[38;5;241m.\u001b[39mwith_traceback(filtered_tb) \u001b[38;5;28;01mfrom\u001b[39;00m \u001b[38;5;28mNone\u001b[39m\n\u001b[0;32m    154\u001b[0m \u001b[38;5;28;01mfinally\u001b[39;00m:\n\u001b[0;32m    155\u001b[0m   \u001b[38;5;28;01mdel\u001b[39;00m filtered_tb\n",
      "File \u001b[1;32m~\\anaconda3\\lib\\site-packages\\tensorflow\\python\\framework\\ops.py:7262\u001b[0m, in \u001b[0;36mraise_from_not_ok_status\u001b[1;34m(e, name)\u001b[0m\n\u001b[0;32m   7260\u001b[0m \u001b[38;5;28;01mdef\u001b[39;00m \u001b[38;5;21mraise_from_not_ok_status\u001b[39m(e, name):\n\u001b[0;32m   7261\u001b[0m   e\u001b[38;5;241m.\u001b[39mmessage \u001b[38;5;241m+\u001b[39m\u001b[38;5;241m=\u001b[39m (\u001b[38;5;124m\"\u001b[39m\u001b[38;5;124m name: \u001b[39m\u001b[38;5;124m\"\u001b[39m \u001b[38;5;241m+\u001b[39m name \u001b[38;5;28;01mif\u001b[39;00m name \u001b[38;5;129;01mis\u001b[39;00m \u001b[38;5;129;01mnot\u001b[39;00m \u001b[38;5;28;01mNone\u001b[39;00m \u001b[38;5;28;01melse\u001b[39;00m \u001b[38;5;124m\"\u001b[39m\u001b[38;5;124m\"\u001b[39m)\n\u001b[1;32m-> 7262\u001b[0m   \u001b[38;5;28;01mraise\u001b[39;00m core\u001b[38;5;241m.\u001b[39m_status_to_exception(e) \u001b[38;5;28;01mfrom\u001b[39;00m \u001b[38;5;28mNone\u001b[39m\n",
      "\u001b[1;31mInvalidArgumentError\u001b[0m: Value for attr 'T' of int32 is not in the list of allowed values: bfloat16, half, float, double, complex64, complex128\n\t; NodeDef: {{node Sqrt}}; Op<name=Sqrt; signature=x:T -> y:T; attr=T:type,allowed=[DT_BFLOAT16, DT_HALF, DT_FLOAT, DT_DOUBLE, DT_COMPLEX64, DT_COMPLEX128]> [Op:Sqrt]"
     ]
    }
   ],
   "source": [
    "tf.sqrt(a)"
   ]
  },
  {
   "cell_type": "code",
   "execution_count": 41,
   "id": "4329437f",
   "metadata": {},
   "outputs": [
    {
     "data": {
      "text/plain": [
       "<tf.Tensor: shape=(10,), dtype=float16, numpy=\n",
       "array([1.   , 1.414, 1.732, 2.   , 2.236, 2.45 , 2.646, 2.828, 3.   ,\n",
       "       3.162], dtype=float16)>"
      ]
     },
     "execution_count": 41,
     "metadata": {},
     "output_type": "execute_result"
    }
   ],
   "source": [
    "# if you see this error convert the type of the data to float or something else.\n",
    "\n",
    "tf.sqrt(tf.cast(a,dtype=tf.float16))"
   ]
  },
  {
   "cell_type": "code",
   "execution_count": 42,
   "id": "1eba917b",
   "metadata": {},
   "outputs": [
    {
     "ename": "InvalidArgumentError",
     "evalue": "Value for attr 'T' of int32 is not in the list of allowed values: bfloat16, half, float, double, complex64, complex128\n\t; NodeDef: {{node Log}}; Op<name=Log; signature=x:T -> y:T; attr=T:type,allowed=[DT_BFLOAT16, DT_HALF, DT_FLOAT, DT_DOUBLE, DT_COMPLEX64, DT_COMPLEX128]> [Op:Log]",
     "output_type": "error",
     "traceback": [
      "\u001b[1;31m---------------------------------------------------------------------------\u001b[0m",
      "\u001b[1;31mInvalidArgumentError\u001b[0m                      Traceback (most recent call last)",
      "Input \u001b[1;32mIn [42]\u001b[0m, in \u001b[0;36m<cell line: 1>\u001b[1;34m()\u001b[0m\n\u001b[1;32m----> 1\u001b[0m \u001b[43mtf\u001b[49m\u001b[38;5;241;43m.\u001b[39;49m\u001b[43mmath\u001b[49m\u001b[38;5;241;43m.\u001b[39;49m\u001b[43mlog\u001b[49m\u001b[43m(\u001b[49m\u001b[43ma\u001b[49m\u001b[43m)\u001b[49m\n",
      "File \u001b[1;32m~\\anaconda3\\lib\\site-packages\\tensorflow\\python\\ops\\gen_math_ops.py:6050\u001b[0m, in \u001b[0;36mlog\u001b[1;34m(x, name)\u001b[0m\n\u001b[0;32m   6048\u001b[0m   \u001b[38;5;28;01mreturn\u001b[39;00m _result\n\u001b[0;32m   6049\u001b[0m \u001b[38;5;28;01mexcept\u001b[39;00m _core\u001b[38;5;241m.\u001b[39m_NotOkStatusException \u001b[38;5;28;01mas\u001b[39;00m e:\n\u001b[1;32m-> 6050\u001b[0m   \u001b[43m_ops\u001b[49m\u001b[38;5;241;43m.\u001b[39;49m\u001b[43mraise_from_not_ok_status\u001b[49m\u001b[43m(\u001b[49m\u001b[43me\u001b[49m\u001b[43m,\u001b[49m\u001b[43m \u001b[49m\u001b[43mname\u001b[49m\u001b[43m)\u001b[49m\n\u001b[0;32m   6051\u001b[0m \u001b[38;5;28;01mexcept\u001b[39;00m _core\u001b[38;5;241m.\u001b[39m_FallbackException:\n\u001b[0;32m   6052\u001b[0m   \u001b[38;5;28;01mpass\u001b[39;00m\n",
      "File \u001b[1;32m~\\anaconda3\\lib\\site-packages\\tensorflow\\python\\framework\\ops.py:7262\u001b[0m, in \u001b[0;36mraise_from_not_ok_status\u001b[1;34m(e, name)\u001b[0m\n\u001b[0;32m   7260\u001b[0m \u001b[38;5;28;01mdef\u001b[39;00m \u001b[38;5;21mraise_from_not_ok_status\u001b[39m(e, name):\n\u001b[0;32m   7261\u001b[0m   e\u001b[38;5;241m.\u001b[39mmessage \u001b[38;5;241m+\u001b[39m\u001b[38;5;241m=\u001b[39m (\u001b[38;5;124m\"\u001b[39m\u001b[38;5;124m name: \u001b[39m\u001b[38;5;124m\"\u001b[39m \u001b[38;5;241m+\u001b[39m name \u001b[38;5;28;01mif\u001b[39;00m name \u001b[38;5;129;01mis\u001b[39;00m \u001b[38;5;129;01mnot\u001b[39;00m \u001b[38;5;28;01mNone\u001b[39;00m \u001b[38;5;28;01melse\u001b[39;00m \u001b[38;5;124m\"\u001b[39m\u001b[38;5;124m\"\u001b[39m)\n\u001b[1;32m-> 7262\u001b[0m   \u001b[38;5;28;01mraise\u001b[39;00m core\u001b[38;5;241m.\u001b[39m_status_to_exception(e) \u001b[38;5;28;01mfrom\u001b[39;00m \u001b[38;5;28mNone\u001b[39m\n",
      "\u001b[1;31mInvalidArgumentError\u001b[0m: Value for attr 'T' of int32 is not in the list of allowed values: bfloat16, half, float, double, complex64, complex128\n\t; NodeDef: {{node Log}}; Op<name=Log; signature=x:T -> y:T; attr=T:type,allowed=[DT_BFLOAT16, DT_HALF, DT_FLOAT, DT_DOUBLE, DT_COMPLEX64, DT_COMPLEX128]> [Op:Log]"
     ]
    }
   ],
   "source": [
    "tf.math.log(a)"
   ]
  },
  {
   "cell_type": "code",
   "execution_count": 43,
   "id": "4a020a13",
   "metadata": {},
   "outputs": [
    {
     "data": {
      "text/plain": [
       "<tf.Tensor: shape=(10,), dtype=float16, numpy=\n",
       "array([0.    , 0.6934, 1.099 , 1.387 , 1.609 , 1.792 , 1.946 , 2.08  ,\n",
       "       2.197 , 2.303 ], dtype=float16)>"
      ]
     },
     "execution_count": 43,
     "metadata": {},
     "output_type": "execute_result"
    }
   ],
   "source": [
    "tf.math.log(tf.cast(a,dtype=tf.float16))"
   ]
  },
  {
   "cell_type": "code",
   "execution_count": 48,
   "id": "71bb3282",
   "metadata": {},
   "outputs": [
    {
     "data": {
      "text/plain": [
       "(<tf.Tensor: shape=(3, 3), dtype=float64, numpy=\n",
       " array([[0.47608997, 0.0009853 , 0.90432489],\n",
       "        [0.35688777, 0.94063276, 0.22533745],\n",
       "        [0.43809421, 0.00696124, 0.64280858]])>,\n",
       " <tf.Tensor: shape=(3, 3), dtype=float32, numpy=\n",
       " array([[1., 2., 3.],\n",
       "        [4., 5., 6.],\n",
       "        [7., 8., 9.]], dtype=float32)>)"
      ]
     },
     "execution_count": 48,
     "metadata": {},
     "output_type": "execute_result"
    }
   ],
   "source": [
    "# why type casting is important:\n",
    "\n",
    "a = tf.constant(np.random.rand(3,3))\n",
    "\n",
    "b = tf.constant([[1.,2.,3.],[4.,5.,6.],[7.,8,9]])\n",
    "\n",
    "a,b\n",
    "\n",
    "\n",
    "# as you can see the by default float32 works in tensor crafted arrays but numpy works in float64 so you have to convert \n",
    "# convert float 64 to float 32 or float 16 to do tensor dependent operations."
   ]
  },
  {
   "cell_type": "markdown",
   "id": "5a873fb3",
   "metadata": {},
   "source": [
    "# find out what device you are connected to on cloud"
   ]
  },
  {
   "cell_type": "code",
   "execution_count": 51,
   "id": "27d59324",
   "metadata": {},
   "outputs": [
    {
     "data": {
      "text/plain": [
       "[PhysicalDevice(name='/physical_device:CPU:0', device_type='CPU')]"
      ]
     },
     "execution_count": 51,
     "metadata": {},
     "output_type": "execute_result"
    }
   ],
   "source": [
    "tf.config.list_physical_devices() \n",
    "\n",
    "# we are connected to a CPU"
   ]
  },
  {
   "cell_type": "code",
   "execution_count": null,
   "id": "9c0de1b1",
   "metadata": {},
   "outputs": [],
   "source": []
  },
  {
   "cell_type": "markdown",
   "id": "c052a0b8",
   "metadata": {},
   "source": [
    "# day 118"
   ]
  },
  {
   "cell_type": "code",
   "execution_count": 1,
   "id": "88fadaba",
   "metadata": {},
   "outputs": [],
   "source": [
    "import numpy as np\n",
    "import sympy as sym\n",
    "from IPython.display import display,Math\n",
    "sym.init_printing()\n",
    "import matplotlib.pyplot as plt\n",
    "import tensorflow as tf"
   ]
  },
  {
   "cell_type": "code",
   "execution_count": 6,
   "id": "88bd89d6",
   "metadata": {},
   "outputs": [
    {
     "data": {
      "text/plain": [
       "(<tf.Tensor: shape=(3, 3), dtype=complex64, numpy=\n",
       " array([[-51.96254 +0.j, 132.43764 +0.j,  18.52496 +0.j],\n",
       "        [160.21732 +0.j, -51.442226+0.j, -10.775146+0.j],\n",
       "        [176.29341 +0.j,  41.543476+0.j,  -9.836912+0.j]], dtype=complex64)>,\n",
       " <tf.Tensor: shape=(3, 3, 3), dtype=complex64, numpy=\n",
       " array([[[ 0.8297276 +0.j, -0.6834089 +0.j, -0.30269438+0.j],\n",
       "         [-0.55629784+0.j, -0.5735498 +0.j, -0.6189025 +0.j],\n",
       "         [-0.04566062+0.j, -0.45165566+0.j,  0.7248006 +0.j]],\n",
       " \n",
       "        [[-0.6897773 +0.j,  0.46396708+0.j,  0.332047  +0.j],\n",
       "         [-0.5723855 +0.j, -0.8012738 +0.j,  0.24313997+0.j],\n",
       "         [-0.44337592+0.j,  0.3777497 +0.j, -0.9113878 +0.j]],\n",
       " \n",
       "        [[-0.6398876 +0.j, -0.7472425 +0.j,  0.05659808+0.j],\n",
       "         [-0.5040035 +0.j, -0.01753183+0.j, -0.9156119 +0.j],\n",
       "         [-0.5801073 +0.j,  0.6643201 +0.j,  0.39805952+0.j]]],\n",
       "       dtype=complex64)>)"
      ]
     },
     "execution_count": 6,
     "metadata": {},
     "output_type": "execute_result"
    }
   ],
   "source": [
    "a = tf.constant(np.random.randint(1,99,(3,3,3)),dtype=tf.float32)\n",
    "tf.eig(a)"
   ]
  },
  {
   "cell_type": "code",
   "execution_count": null,
   "id": "e69be925",
   "metadata": {},
   "outputs": [],
   "source": []
  }
 ],
 "metadata": {
  "kernelspec": {
   "display_name": "Python 3 (ipykernel)",
   "language": "python",
   "name": "python3"
  },
  "language_info": {
   "codemirror_mode": {
    "name": "ipython",
    "version": 3
   },
   "file_extension": ".py",
   "mimetype": "text/x-python",
   "name": "python",
   "nbconvert_exporter": "python",
   "pygments_lexer": "ipython3",
   "version": "3.9.12"
  }
 },
 "nbformat": 4,
 "nbformat_minor": 5
}
