{
 "cells": [
  {
   "cell_type": "markdown",
   "metadata": {
    "id": "fQB7FzXq9uzG"
   },
   "source": [
    "# day 119 and day 120 and day 121\n",
    "\n"
   ]
  },
  {
   "cell_type": "markdown",
   "metadata": {
    "id": "FewjJogB1qMd"
   },
   "source": [
    "# Neural Network Regression:\n",
    "\n",
    "### Framework:\n",
    "\n",
    "1. Input layer shape; # of features.\n",
    "\n",
    "2. Hidden layer(s); problem specific. minimum=1, maximum = infinity\n",
    "\n",
    "3. Neurons per hidden layers. problem specific, generally hovers between 10 and 100\n",
    "\n",
    "4. Output layer shape; output shape.\n",
    "\n",
    "5. Hidden Activation. methods:usually ReLU (Rectified Linear Unit)\n",
    "\n",
    "6. Output Activation. methods,None,ReLU, Logistic, Tanh\n",
    "\n",
    "7. Loss Function. methods:MSE (mean squarred Error) and MAE(Mean Absolute Error) and combinition of both in case of outliers.\n",
    "\n",
    "8. Optimiser. methods: Stochastic Gradient Descent(SGD), ADAM."
   ]
  },
  {
   "cell_type": "code",
   "execution_count": null,
   "metadata": {
    "id": "ugE6kjX-7D2e"
   },
   "outputs": [],
   "source": [
    "import tensorflow as tf\n",
    "import pandas as pd\n",
    "import numpy as np\n",
    "import sympy as sym\n",
    "from IPython.display import display,Math\n",
    "sym.init_printing()\n",
    "import matplotlib.pyplot as plt\n",
    "import seaborn as sns\n"
   ]
  },
  {
   "cell_type": "code",
   "execution_count": null,
   "metadata": {
    "colab": {
     "base_uri": "https://localhost:8080/",
     "height": 36
    },
    "id": "-bW9qV1f-Jh2",
    "outputId": "52df8fcd-9a7e-4f02-d2cb-39d9c3a494fb"
   },
   "outputs": [
    {
     "data": {
      "application/vnd.google.colaboratory.intrinsic+json": {
       "type": "string"
      },
      "text/plain": [
       "'2.12.0'"
      ]
     },
     "execution_count": 11,
     "metadata": {},
     "output_type": "execute_result"
    }
   ],
   "source": [
    "tf.__version__"
   ]
  },
  {
   "cell_type": "code",
   "execution_count": null,
   "metadata": {
    "colab": {
     "base_uri": "https://localhost:8080/",
     "height": 430
    },
    "id": "nGNEXu0G-OtE",
    "outputId": "ac042954-80f9-426d-8b03-d952d89c9d54"
   },
   "outputs": [
    {
     "data": {
      "image/png": "[encoded data removed]",
      "text/plain": [
       "<Figure size 640x480 with 1 Axes>"
      ]
     },
     "metadata": {},
     "output_type": "display_data"
    }
   ],
   "source": [
    "x = np.random.rand(100)*5\n",
    "y = np.random.rand(100)*5\n",
    "\n",
    "plt.plot(x,y,'ro')\n",
    "\n",
    "plt.show()"
   ]
  },
  {
   "cell_type": "markdown",
   "metadata": {
    "id": "D3tEl9stCjBm"
   },
   "source": [
    "**(remember one of most common errors in deep learning is input and output shapes)**"
   ]
  },
  {
   "cell_type": "code",
   "execution_count": null,
   "metadata": {
    "id": "MEfRANWdCW8P"
   },
   "outputs": [],
   "source": [
    "# defining feature(x) and output(y) # answer is 3x+2\n",
    "x = [7,8,6,-3,2,1,78,33,12]\n",
    "y = [23,26,20,-7,8,5,236,101,38]\n",
    "\n",
    "# tensoring the variables\n",
    "x = tf.constant(x)\n",
    "y = tf.constant(y)\n",
    "\n",
    "x = tf.cast(x,dtype=tf.float32)\n",
    "y = tf.cast(y,dtype=tf.float32)\n",
    "\n",
    "# we want to find out what makes x to become y"
   ]
  },
  {
   "cell_type": "markdown",
   "metadata": {
    "id": "Rt3mJ2KwtvKP"
   },
   "source": [
    " **steps in modelling in Tensorflow:**\n",
    "\n",
    "\n",
    "1. **creating the model:** find the input and output layers as well as the hidden layers of the deep learning model.\n",
    "\n",
    "\n",
    "\n",
    "2. **compiling the model:** establish the loss function(mae,mse to find how accurate the model is(accuracy = 1 - Error)), optimiser(performance booster or accuracy enhancers such as gradient descent), and evaluation metrics (to see how the model performs with unseen data)\n",
    "\n",
    "\n",
    "\n",
    "3. **fitting the model** - letting the model find the patterns between x & y (features and labels)"
   ]
  },
  {
   "cell_type": "code",
   "execution_count": null,
   "metadata": {
    "colab": {
     "base_uri": "https://localhost:8080/"
    },
    "id": "J11OgbOivByX",
    "outputId": "591a4cf9-3823-47e1-e135-33861532dfac"
   },
   "outputs": [
    {
     "name": "stdout",
     "output_type": "stream",
     "text": [
      "Epoch 1/100\n",
      "1/1 [==============================] - 1s 595ms/step - loss: 35.2242 - mean_absolute_error: 35.2242\n",
      "Epoch 2/100\n",
      "1/1 [==============================] - 0s 14ms/step - loss: 32.4403 - mean_absolute_error: 32.4403\n",
      "Epoch 3/100\n",
      "1/1 [==============================] - 0s 15ms/step - loss: 29.6565 - mean_absolute_error: 29.6565\n",
      "Epoch 4/100\n",
      "1/1 [==============================] - 0s 13ms/step - loss: 26.8727 - mean_absolute_error: 26.8727\n",
      "Epoch 5/100\n",
      "1/1 [==============================] - 0s 12ms/step - loss: 24.0889 - mean_absolute_error: 24.0889\n",
      "Epoch 6/100\n",
      "1/1 [==============================] - 0s 10ms/step - loss: 21.3050 - mean_absolute_error: 21.3050\n",
      "Epoch 7/100\n",
      "1/1 [==============================] - 0s 10ms/step - loss: 18.5212 - mean_absolute_error: 18.5212\n",
      "Epoch 8/100\n",
      "1/1 [==============================] - 0s 12ms/step - loss: 15.7374 - mean_absolute_error: 15.7374\n",
      "Epoch 9/100\n",
      "1/1 [==============================] - 0s 12ms/step - loss: 12.9535 - mean_absolute_error: 12.9535\n",
      "Epoch 10/100\n",
      "1/1 [==============================] - 0s 13ms/step - loss: 10.2519 - mean_absolute_error: 10.2519\n",
      "Epoch 11/100\n",
      "1/1 [==============================] - 0s 13ms/step - loss: 7.6819 - mean_absolute_error: 7.6819\n",
      "Epoch 12/100\n",
      "1/1 [==============================] - 0s 13ms/step - loss: 5.1119 - mean_absolute_error: 5.1119\n",
      "Epoch 13/100\n",
      "1/1 [==============================] - 0s 12ms/step - loss: 2.5419 - mean_absolute_error: 2.5419\n",
      "Epoch 14/100\n",
      "1/1 [==============================] - 0s 9ms/step - loss: 2.0890 - mean_absolute_error: 2.0890\n",
      "Epoch 15/100\n",
      "1/1 [==============================] - 0s 10ms/step - loss: 1.5100 - mean_absolute_error: 1.5100\n",
      "Epoch 16/100\n",
      "1/1 [==============================] - 0s 11ms/step - loss: 1.5585 - mean_absolute_error: 1.5585\n",
      "Epoch 17/100\n",
      "1/1 [==============================] - 0s 12ms/step - loss: 2.6609 - mean_absolute_error: 2.6609\n",
      "Epoch 18/100\n",
      "1/1 [==============================] - 0s 13ms/step - loss: 1.6120 - mean_absolute_error: 1.6120\n",
      "Epoch 19/100\n",
      "1/1 [==============================] - 0s 10ms/step - loss: 2.1796 - mean_absolute_error: 2.1796\n",
      "Epoch 20/100\n",
      "1/1 [==============================] - 0s 13ms/step - loss: 2.2389 - mean_absolute_error: 2.2389\n",
      "Epoch 21/100\n",
      "1/1 [==============================] - 0s 10ms/step - loss: 1.5038 - mean_absolute_error: 1.5038\n",
      "Epoch 22/100\n",
      "1/1 [==============================] - 0s 12ms/step - loss: 1.4800 - mean_absolute_error: 1.4800\n",
      "Epoch 23/100\n",
      "1/1 [==============================] - 0s 10ms/step - loss: 1.4561 - mean_absolute_error: 1.4561\n",
      "Epoch 24/100\n",
      "1/1 [==============================] - 0s 9ms/step - loss: 1.6074 - mean_absolute_error: 1.6074\n",
      "Epoch 25/100\n",
      "1/1 [==============================] - 0s 11ms/step - loss: 2.5661 - mean_absolute_error: 2.5661\n",
      "Epoch 26/100\n",
      "1/1 [==============================] - 0s 10ms/step - loss: 1.5221 - mean_absolute_error: 1.5221\n",
      "Epoch 27/100\n",
      "1/1 [==============================] - 0s 9ms/step - loss: 2.2285 - mean_absolute_error: 2.2285\n",
      "Epoch 28/100\n",
      "1/1 [==============================] - 0s 11ms/step - loss: 2.1490 - mean_absolute_error: 2.1490\n",
      "Epoch 29/100\n",
      "1/1 [==============================] - 0s 10ms/step - loss: 1.4500 - mean_absolute_error: 1.4500\n",
      "Epoch 30/100\n",
      "1/1 [==============================] - 0s 13ms/step - loss: 1.4261 - mean_absolute_error: 1.4261\n",
      "Epoch 31/100\n",
      "1/1 [==============================] - 0s 10ms/step - loss: 1.4507 - mean_absolute_error: 1.4507\n",
      "Epoch 32/100\n",
      "1/1 [==============================] - 0s 12ms/step - loss: 2.6250 - mean_absolute_error: 2.6250\n",
      "Epoch 33/100\n",
      "1/1 [==============================] - 0s 9ms/step - loss: 1.5521 - mean_absolute_error: 1.5521\n",
      "Epoch 34/100\n",
      "1/1 [==============================] - 0s 14ms/step - loss: 2.0718 - mean_absolute_error: 2.0718\n",
      "Epoch 35/100\n",
      "1/1 [==============================] - 0s 12ms/step - loss: 2.1790 - mean_absolute_error: 2.1790\n",
      "Epoch 36/100\n",
      "1/1 [==============================] - 0s 14ms/step - loss: 1.4248 - mean_absolute_error: 1.4248\n",
      "Epoch 37/100\n",
      "1/1 [==============================] - 0s 12ms/step - loss: 2.2641 - mean_absolute_error: 2.2641\n",
      "Epoch 38/100\n",
      "1/1 [==============================] - 0s 12ms/step - loss: 2.0517 - mean_absolute_error: 2.0517\n",
      "Epoch 39/100\n",
      "1/1 [==============================] - 0s 13ms/step - loss: 1.3858 - mean_absolute_error: 1.3858\n",
      "Epoch 40/100\n",
      "1/1 [==============================] - 0s 12ms/step - loss: 1.3619 - mean_absolute_error: 1.3619\n",
      "Epoch 41/100\n",
      "1/1 [==============================] - 0s 13ms/step - loss: 1.4863 - mean_absolute_error: 1.4863\n",
      "Epoch 42/100\n",
      "1/1 [==============================] - 0s 14ms/step - loss: 2.5257 - mean_absolute_error: 2.5257\n",
      "Epoch 43/100\n",
      "1/1 [==============================] - 0s 13ms/step - loss: 1.4548 - mean_absolute_error: 1.4548\n",
      "Epoch 44/100\n",
      "1/1 [==============================] - 0s 11ms/step - loss: 2.1074 - mean_absolute_error: 2.1074\n",
      "Epoch 45/100\n",
      "1/1 [==============================] - 0s 15ms/step - loss: 2.0817 - mean_absolute_error: 2.0817\n",
      "Epoch 46/100\n",
      "1/1 [==============================] - 0s 11ms/step - loss: 1.3558 - mean_absolute_error: 1.3558\n",
      "Epoch 47/100\n",
      "1/1 [==============================] - 0s 14ms/step - loss: 1.3319 - mean_absolute_error: 1.3319\n",
      "Epoch 48/100\n",
      "1/1 [==============================] - 0s 9ms/step - loss: 1.3296 - mean_absolute_error: 1.3296\n",
      "Epoch 49/100\n",
      "1/1 [==============================] - 0s 16ms/step - loss: 2.5846 - mean_absolute_error: 2.5846\n",
      "Epoch 50/100\n",
      "1/1 [==============================] - 0s 13ms/step - loss: 1.4848 - mean_absolute_error: 1.4848\n",
      "Epoch 51/100\n",
      "1/1 [==============================] - 0s 10ms/step - loss: 1.9507 - mean_absolute_error: 1.9507\n",
      "Epoch 52/100\n",
      "1/1 [==============================] - 0s 12ms/step - loss: 2.1250 - mean_absolute_error: 2.1250\n",
      "Epoch 53/100\n",
      "1/1 [==============================] - 0s 13ms/step - loss: 1.2919 - mean_absolute_error: 1.2919\n",
      "Epoch 54/100\n",
      "1/1 [==============================] - 0s 11ms/step - loss: 1.3963 - mean_absolute_error: 1.3963\n",
      "Epoch 55/100\n",
      "1/1 [==============================] - 0s 10ms/step - loss: 2.4958 - mean_absolute_error: 2.4958\n",
      "Epoch 56/100\n",
      "1/1 [==============================] - 0s 11ms/step - loss: 1.4048 - mean_absolute_error: 1.4048\n",
      "Epoch 57/100\n",
      "1/1 [==============================] - 0s 15ms/step - loss: 2.0174 - mean_absolute_error: 2.0174\n",
      "Epoch 58/100\n",
      "1/1 [==============================] - 0s 13ms/step - loss: 2.0361 - mean_absolute_error: 2.0361\n",
      "Epoch 59/100\n",
      "1/1 [==============================] - 0s 14ms/step - loss: 1.2574 - mean_absolute_error: 1.2574\n",
      "Epoch 60/100\n",
      "1/1 [==============================] - 0s 12ms/step - loss: 2.5606 - mean_absolute_error: 2.5606\n",
      "Epoch 61/100\n",
      "1/1 [==============================] - 0s 14ms/step - loss: 1.4447 - mean_absolute_error: 1.4447\n",
      "Epoch 62/100\n",
      "1/1 [==============================] - 0s 12ms/step - loss: 1.8785 - mean_absolute_error: 1.8785\n",
      "Epoch 63/100\n",
      "1/1 [==============================] - 0s 12ms/step - loss: 2.1009 - mean_absolute_error: 2.1009\n",
      "Epoch 64/100\n",
      "1/1 [==============================] - 0s 14ms/step - loss: 1.2358 - mean_absolute_error: 1.2358\n",
      "Epoch 65/100\n",
      "1/1 [==============================] - 0s 14ms/step - loss: 1.3240 - mean_absolute_error: 1.3240\n",
      "Epoch 66/100\n",
      "1/1 [==============================] - 0s 13ms/step - loss: 2.4717 - mean_absolute_error: 2.4717\n",
      "Epoch 67/100\n",
      "1/1 [==============================] - 0s 14ms/step - loss: 1.3647 - mean_absolute_error: 1.3647\n",
      "Epoch 68/100\n",
      "1/1 [==============================] - 0s 11ms/step - loss: 1.9451 - mean_absolute_error: 1.9451\n",
      "Epoch 69/100\n",
      "1/1 [==============================] - 0s 10ms/step - loss: 2.0121 - mean_absolute_error: 2.0121\n",
      "Epoch 70/100\n",
      "1/1 [==============================] - 0s 11ms/step - loss: 1.1958 - mean_absolute_error: 1.1958\n",
      "Epoch 71/100\n",
      "1/1 [==============================] - 0s 10ms/step - loss: 1.3907 - mean_absolute_error: 1.3907\n",
      "Epoch 72/100\n",
      "1/1 [==============================] - 0s 12ms/step - loss: 2.3828 - mean_absolute_error: 2.3828\n",
      "Epoch 73/100\n",
      "1/1 [==============================] - 0s 14ms/step - loss: 1.2847 - mean_absolute_error: 1.2847\n",
      "Epoch 74/100\n",
      "1/1 [==============================] - 0s 12ms/step - loss: 2.0118 - mean_absolute_error: 2.0118\n",
      "Epoch 75/100\n",
      "1/1 [==============================] - 0s 13ms/step - loss: 1.9232 - mean_absolute_error: 1.9232\n",
      "Epoch 76/100\n",
      "1/1 [==============================] - 0s 9ms/step - loss: 1.2518 - mean_absolute_error: 1.2518\n",
      "Epoch 77/100\n",
      "1/1 [==============================] - 0s 10ms/step - loss: 2.4476 - mean_absolute_error: 2.4476\n",
      "Epoch 78/100\n",
      "1/1 [==============================] - 0s 10ms/step - loss: 1.3246 - mean_absolute_error: 1.3246\n",
      "Epoch 79/100\n",
      "1/1 [==============================] - 0s 10ms/step - loss: 1.8729 - mean_absolute_error: 1.8729\n",
      "Epoch 80/100\n",
      "1/1 [==============================] - 0s 8ms/step - loss: 1.9880 - mean_absolute_error: 1.9880\n",
      "Epoch 81/100\n",
      "1/1 [==============================] - 0s 12ms/step - loss: 1.1396 - mean_absolute_error: 1.1396\n",
      "Epoch 82/100\n",
      "1/1 [==============================] - 0s 12ms/step - loss: 1.3184 - mean_absolute_error: 1.3184\n",
      "Epoch 83/100\n",
      "1/1 [==============================] - 0s 8ms/step - loss: 2.3587 - mean_absolute_error: 2.3587\n",
      "Epoch 84/100\n",
      "1/1 [==============================] - 0s 11ms/step - loss: 1.2446 - mean_absolute_error: 1.2446\n",
      "Epoch 85/100\n",
      "1/1 [==============================] - 0s 9ms/step - loss: 1.9396 - mean_absolute_error: 1.9396\n",
      "Epoch 86/100\n",
      "1/1 [==============================] - 0s 9ms/step - loss: 1.8991 - mean_absolute_error: 1.8991\n",
      "Epoch 87/100\n",
      "1/1 [==============================] - 0s 8ms/step - loss: 1.1795 - mean_absolute_error: 1.1795\n",
      "Epoch 88/100\n",
      "1/1 [==============================] - 0s 10ms/step - loss: 2.4246 - mean_absolute_error: 2.4246\n",
      "Epoch 89/100\n",
      "1/1 [==============================] - 0s 7ms/step - loss: 1.1316 - mean_absolute_error: 1.1316\n",
      "Epoch 90/100\n",
      "1/1 [==============================] - 0s 9ms/step - loss: 2.0873 - mean_absolute_error: 2.0873\n",
      "Epoch 91/100\n",
      "1/1 [==============================] - 0s 10ms/step - loss: 1.7632 - mean_absolute_error: 1.7632\n",
      "Epoch 92/100\n",
      "1/1 [==============================] - 0s 13ms/step - loss: 1.3273 - mean_absolute_error: 1.3273\n",
      "Epoch 93/100\n",
      "1/1 [==============================] - 0s 11ms/step - loss: 2.2876 - mean_absolute_error: 2.2876\n",
      "Epoch 94/100\n",
      "1/1 [==============================] - 0s 10ms/step - loss: 1.1715 - mean_absolute_error: 1.1715\n",
      "Epoch 95/100\n",
      "1/1 [==============================] - 0s 11ms/step - loss: 1.9484 - mean_absolute_error: 1.9484\n",
      "Epoch 96/100\n",
      "1/1 [==============================] - 0s 10ms/step - loss: 1.8280 - mean_absolute_error: 1.8280\n",
      "Epoch 97/100\n",
      "1/1 [==============================] - 0s 10ms/step - loss: 1.1884 - mean_absolute_error: 1.1884\n",
      "Epoch 98/100\n",
      "1/1 [==============================] - 0s 11ms/step - loss: 2.3594 - mean_absolute_error: 2.3594\n",
      "Epoch 99/100\n",
      "1/1 [==============================] - 0s 11ms/step - loss: 1.0752 - mean_absolute_error: 1.0752\n",
      "Epoch 100/100\n",
      "1/1 [==============================] - 0s 10ms/step - loss: 1.0513 - mean_absolute_error: 1.0513\n"
     ]
    },
    {
     "data": {
      "text/plain": [
       "<keras.callbacks.History at 0x7fd81018b880>"
      ]
     },
     "execution_count": 14,
     "metadata": {},
     "output_type": "execute_result"
    }
   ],
   "source": [
    "# defining feature(x) and output(y)\n",
    "x = [7,8,6,-3,2,1,78,33,12] # shape(9,)\n",
    "y = [23,26,20,-7,8,5,236,101,38] # shape(9,)\n",
    "\n",
    "# tensoring the variables\n",
    "x = tf.constant(x)\n",
    "y = tf.constant(y)\n",
    "\n",
    "x = tf.cast(x,dtype=tf.float32)\n",
    "y = tf.cast(y,dtype=tf.float32)\n",
    "\n",
    "\n",
    "# expanding the dimension of the x data\n",
    "x = tf.expand_dims(x,axis=1) # axis=1 means we want to add new dimension as our 2nd dimension\n",
    "\n",
    "# we want to find out what makes x to become y\n",
    "\n",
    "\n",
    "# set random seed\n",
    "tf.random.set_seed(42)\n",
    "\n",
    "# creating the model\n",
    "model = tf.keras.Sequential()\n",
    "model.add(tf.keras.layers.Dense(1)) # we are adding only one neuron here with one hidden layer.\n",
    "\n",
    "# compiling the model\n",
    "model.compile(loss = tf.keras.losses.MeanAbsoluteError(),\n",
    "              metrics=[tf.keras.metrics.MeanAbsoluteError()], # Remember: it has a box encapsulating the contents\n",
    "              optimizer=tf.keras.optimizers.SGD()) # Remember: SGD() is a function.\n",
    "\n",
    "# fitting the model\n",
    "model.fit(x, y, epochs=100) # epochs determine how many times the model goes through the training data\n",
    "\n",
    "\n",
    "\n"
   ]
  },
  {
   "cell_type": "code",
   "execution_count": null,
   "metadata": {
    "colab": {
     "base_uri": "https://localhost:8080/"
    },
    "id": "smpXHfxJ8xCn",
    "outputId": "29def502-11da-4c47-9451-9ee305f7f04f"
   },
   "outputs": [
    {
     "name": "stdout",
     "output_type": "stream",
     "text": [
      "Help on method compile in module keras.engine.training:\n",
      "\n",
      "compile(optimizer='rmsprop', loss=None, metrics=None, loss_weights=None, weighted_metrics=None, run_eagerly=None, steps_per_execution=None, jit_compile=None, **kwargs) method of keras.engine.sequential.Sequential instance\n",
      "    Configures the model for training.\n",
      "    \n",
      "    Example:\n",
      "    \n",
      "    ```python\n",
      "    model.compile(optimizer=tf.keras.optimizers.Adam(learning_rate=1e-3),\n",
      "                  loss=tf.keras.losses.BinaryCrossentropy(),\n",
      "                  metrics=[tf.keras.metrics.BinaryAccuracy(),\n",
      "                           tf.keras.metrics.FalseNegatives()])\n",
      "    ```\n",
      "    \n",
      "    Args:\n",
      "        optimizer: String (name of optimizer) or optimizer instance. See\n",
      "          `tf.keras.optimizers`.\n",
      "        loss: Loss function. May be a string (name of loss function), or\n",
      "          a `tf.keras.losses.Loss` instance. See `tf.keras.losses`. A loss\n",
      "          function is any callable with the signature `loss = fn(y_true,\n",
      "          y_pred)`, where `y_true` are the ground truth values, and\n",
      "          `y_pred` are the model's predictions.\n",
      "          `y_true` should have shape\n",
      "          `(batch_size, d0, .. dN)` (except in the case of\n",
      "          sparse loss functions such as\n",
      "          sparse categorical crossentropy which expects integer arrays of\n",
      "          shape `(batch_size, d0, .. dN-1)`).\n",
      "          `y_pred` should have shape `(batch_size, d0, .. dN)`.\n",
      "          The loss function should return a float tensor.\n",
      "          If a custom `Loss` instance is\n",
      "          used and reduction is set to `None`, return value has shape\n",
      "          `(batch_size, d0, .. dN-1)` i.e. per-sample or per-timestep loss\n",
      "          values; otherwise, it is a scalar. If the model has multiple\n",
      "          outputs, you can use a different loss on each output by passing a\n",
      "          dictionary or a list of losses. The loss value that will be\n",
      "          minimized by the model will then be the sum of all individual\n",
      "          losses, unless `loss_weights` is specified.\n",
      "        metrics: List of metrics to be evaluated by the model during\n",
      "          training and testing. Each of this can be a string (name of a\n",
      "          built-in function), function or a `tf.keras.metrics.Metric`\n",
      "          instance. See `tf.keras.metrics`. Typically you will use\n",
      "          `metrics=['accuracy']`.\n",
      "          A function is any callable with the signature `result = fn(y_true,\n",
      "          y_pred)`. To specify different metrics for different outputs of a\n",
      "          multi-output model, you could also pass a dictionary, such as\n",
      "          `metrics={'output_a':'accuracy', 'output_b':['accuracy', 'mse']}`.\n",
      "          You can also pass a list to specify a metric or a list of metrics\n",
      "          for each output, such as\n",
      "          `metrics=[['accuracy'], ['accuracy', 'mse']]`\n",
      "          or `metrics=['accuracy', ['accuracy', 'mse']]`. When you pass the\n",
      "          strings 'accuracy' or 'acc', we convert this to one of\n",
      "          `tf.keras.metrics.BinaryAccuracy`,\n",
      "          `tf.keras.metrics.CategoricalAccuracy`,\n",
      "          `tf.keras.metrics.SparseCategoricalAccuracy` based on the shapes\n",
      "          of the targets and of the model output. We do a similar\n",
      "          conversion for the strings 'crossentropy' and 'ce' as well.\n",
      "          The metrics passed here are evaluated without sample weighting; if\n",
      "          you would like sample weighting to apply, you can specify your\n",
      "          metrics via the `weighted_metrics` argument instead.\n",
      "        loss_weights: Optional list or dictionary specifying scalar\n",
      "          coefficients (Python floats) to weight the loss contributions of\n",
      "          different model outputs. The loss value that will be minimized by\n",
      "          the model will then be the *weighted sum* of all individual\n",
      "          losses, weighted by the `loss_weights` coefficients.  If a list,\n",
      "          it is expected to have a 1:1 mapping to the model's outputs. If a\n",
      "          dict, it is expected to map output names (strings) to scalar\n",
      "          coefficients.\n",
      "        weighted_metrics: List of metrics to be evaluated and weighted by\n",
      "          `sample_weight` or `class_weight` during training and testing.\n",
      "        run_eagerly: Bool. Defaults to `False`. If `True`, this `Model`'s\n",
      "          logic will not be wrapped in a `tf.function`. Recommended to leave\n",
      "          this as `None` unless your `Model` cannot be run inside a\n",
      "          `tf.function`. `run_eagerly=True` is not supported when using\n",
      "          `tf.distribute.experimental.ParameterServerStrategy`.\n",
      "        steps_per_execution: Int. Defaults to 1. The number of batches to\n",
      "          run during each `tf.function` call. Running multiple batches\n",
      "          inside a single `tf.function` call can greatly improve performance\n",
      "          on TPUs or small models with a large Python overhead. At most, one\n",
      "          full epoch will be run each execution. If a number larger than the\n",
      "          size of the epoch is passed, the execution will be truncated to\n",
      "          the size of the epoch. Note that if `steps_per_execution` is set\n",
      "          to `N`, `Callback.on_batch_begin` and `Callback.on_batch_end`\n",
      "          methods will only be called every `N` batches (i.e. before/after\n",
      "          each `tf.function` execution).\n",
      "        jit_compile: If `True`, compile the model training step with XLA.\n",
      "          [XLA](https://www.tensorflow.org/xla) is an optimizing compiler\n",
      "          for machine learning.\n",
      "          `jit_compile` is not enabled for by default.\n",
      "          Note that `jit_compile=True`\n",
      "          may not necessarily work for all models.\n",
      "          For more information on supported operations please refer to the\n",
      "          [XLA documentation](https://www.tensorflow.org/xla).\n",
      "          Also refer to\n",
      "          [known XLA issues](https://www.tensorflow.org/xla/known_issues)\n",
      "          for more details.\n",
      "        **kwargs: Arguments supported for backwards compatibility only.\n",
      "\n"
     ]
    }
   ],
   "source": [
    "model = tf.keras.Sequential(tf.keras.layers.Dense(1))\n",
    "help(model.compile)"
   ]
  },
  {
   "cell_type": "code",
   "execution_count": null,
   "metadata": {
    "colab": {
     "base_uri": "https://localhost:8080/",
     "height": 762
    },
    "id": "bqDRNUYpIrZ_",
    "outputId": "56cd10c6-6f32-4f83-804c-0a1b6df5e78b"
   },
   "outputs": [
    {
     "ename": "ValueError",
     "evalue": "ignored",
     "output_type": "error",
     "traceback": [
      "\u001b[0;31m---------------------------------------------------------------------------\u001b[0m",
      "\u001b[0;31mValueError\u001b[0m                                Traceback (most recent call last)",
      "\u001b[0;32m<ipython-input-18-7789c7c50913>\u001b[0m in \u001b[0;36m<cell line: 3>\u001b[0;34m()\u001b[0m\n\u001b[1;32m      1\u001b[0m \u001b[0;31m# make prediction with an unseen data\u001b[0m\u001b[0;34m\u001b[0m\u001b[0;34m\u001b[0m\u001b[0m\n\u001b[1;32m      2\u001b[0m \u001b[0;34m\u001b[0m\u001b[0m\n\u001b[0;32m----> 3\u001b[0;31m \u001b[0mmodel\u001b[0m\u001b[0;34m.\u001b[0m\u001b[0mpredict\u001b[0m\u001b[0;34m(\u001b[0m\u001b[0;34m[\u001b[0m\u001b[0;36m9\u001b[0m\u001b[0;34m,\u001b[0m\u001b[0;36m10\u001b[0m\u001b[0;34m,\u001b[0m\u001b[0;36m11\u001b[0m\u001b[0;34m]\u001b[0m\u001b[0;34m)\u001b[0m\u001b[0;34m\u001b[0m\u001b[0;34m\u001b[0m\u001b[0m\n\u001b[0m\u001b[1;32m      4\u001b[0m \u001b[0;34m\u001b[0m\u001b[0m\n\u001b[1;32m      5\u001b[0m \u001b[0;31m# it is pretty close the real answer is 3x + 2 =  29\u001b[0m\u001b[0;34m\u001b[0m\u001b[0;34m\u001b[0m\u001b[0m\n",
      "\u001b[0;32m/usr/local/lib/python3.10/dist-packages/keras/utils/traceback_utils.py\u001b[0m in \u001b[0;36merror_handler\u001b[0;34m(*args, **kwargs)\u001b[0m\n\u001b[1;32m     68\u001b[0m             \u001b[0;31m# To get the full stack trace, call:\u001b[0m\u001b[0;34m\u001b[0m\u001b[0;34m\u001b[0m\u001b[0m\n\u001b[1;32m     69\u001b[0m             \u001b[0;31m# `tf.debugging.disable_traceback_filtering()`\u001b[0m\u001b[0;34m\u001b[0m\u001b[0;34m\u001b[0m\u001b[0m\n\u001b[0;32m---> 70\u001b[0;31m             \u001b[0;32mraise\u001b[0m \u001b[0me\u001b[0m\u001b[0;34m.\u001b[0m\u001b[0mwith_traceback\u001b[0m\u001b[0;34m(\u001b[0m\u001b[0mfiltered_tb\u001b[0m\u001b[0;34m)\u001b[0m \u001b[0;32mfrom\u001b[0m \u001b[0;32mNone\u001b[0m\u001b[0;34m\u001b[0m\u001b[0;34m\u001b[0m\u001b[0m\n\u001b[0m\u001b[1;32m     71\u001b[0m         \u001b[0;32mfinally\u001b[0m\u001b[0;34m:\u001b[0m\u001b[0;34m\u001b[0m\u001b[0;34m\u001b[0m\u001b[0m\n\u001b[1;32m     72\u001b[0m             \u001b[0;32mdel\u001b[0m \u001b[0mfiltered_tb\u001b[0m\u001b[0;34m\u001b[0m\u001b[0;34m\u001b[0m\u001b[0m\n",
      "\u001b[0;32m/usr/local/lib/python3.10/dist-packages/keras/engine/training.py\u001b[0m in \u001b[0;36mtf__predict_function\u001b[0;34m(iterator)\u001b[0m\n\u001b[1;32m     13\u001b[0m                 \u001b[0;32mtry\u001b[0m\u001b[0;34m:\u001b[0m\u001b[0;34m\u001b[0m\u001b[0;34m\u001b[0m\u001b[0m\n\u001b[1;32m     14\u001b[0m                     \u001b[0mdo_return\u001b[0m \u001b[0;34m=\u001b[0m \u001b[0;32mTrue\u001b[0m\u001b[0;34m\u001b[0m\u001b[0;34m\u001b[0m\u001b[0m\n\u001b[0;32m---> 15\u001b[0;31m                     \u001b[0mretval_\u001b[0m \u001b[0;34m=\u001b[0m \u001b[0mag__\u001b[0m\u001b[0;34m.\u001b[0m\u001b[0mconverted_call\u001b[0m\u001b[0;34m(\u001b[0m\u001b[0mag__\u001b[0m\u001b[0;34m.\u001b[0m\u001b[0mld\u001b[0m\u001b[0;34m(\u001b[0m\u001b[0mstep_function\u001b[0m\u001b[0;34m)\u001b[0m\u001b[0;34m,\u001b[0m \u001b[0;34m(\u001b[0m\u001b[0mag__\u001b[0m\u001b[0;34m.\u001b[0m\u001b[0mld\u001b[0m\u001b[0;34m(\u001b[0m\u001b[0mself\u001b[0m\u001b[0;34m)\u001b[0m\u001b[0;34m,\u001b[0m \u001b[0mag__\u001b[0m\u001b[0;34m.\u001b[0m\u001b[0mld\u001b[0m\u001b[0;34m(\u001b[0m\u001b[0miterator\u001b[0m\u001b[0;34m)\u001b[0m\u001b[0;34m)\u001b[0m\u001b[0;34m,\u001b[0m \u001b[0;32mNone\u001b[0m\u001b[0;34m,\u001b[0m \u001b[0mfscope\u001b[0m\u001b[0;34m)\u001b[0m\u001b[0;34m\u001b[0m\u001b[0;34m\u001b[0m\u001b[0m\n\u001b[0m\u001b[1;32m     16\u001b[0m                 \u001b[0;32mexcept\u001b[0m\u001b[0;34m:\u001b[0m\u001b[0;34m\u001b[0m\u001b[0;34m\u001b[0m\u001b[0m\n\u001b[1;32m     17\u001b[0m                     \u001b[0mdo_return\u001b[0m \u001b[0;34m=\u001b[0m \u001b[0;32mFalse\u001b[0m\u001b[0;34m\u001b[0m\u001b[0;34m\u001b[0m\u001b[0m\n",
      "\u001b[0;31mValueError\u001b[0m: in user code:\n\n    File \"/usr/local/lib/python3.10/dist-packages/keras/engine/training.py\", line 2169, in predict_function  *\n        return step_function(self, iterator)\n    File \"/usr/local/lib/python3.10/dist-packages/keras/engine/training.py\", line 2155, in step_function  **\n        outputs = model.distribute_strategy.run(run_step, args=(data,))\n    File \"/usr/local/lib/python3.10/dist-packages/keras/engine/training.py\", line 2143, in run_step  **\n        outputs = model.predict_step(data)\n    File \"/usr/local/lib/python3.10/dist-packages/keras/engine/training.py\", line 2111, in predict_step\n        return self(x, training=False)\n    File \"/usr/local/lib/python3.10/dist-packages/keras/utils/traceback_utils.py\", line 70, in error_handler\n        raise e.with_traceback(filtered_tb) from None\n    File \"/usr/local/lib/python3.10/dist-packages/keras/engine/input_spec.py\", line 253, in assert_input_compatibility\n        raise ValueError(\n\n    ValueError: Exception encountered when calling layer 'sequential_4' (type Sequential).\n    \n    Input 0 of layer \"dense_4\" is incompatible with the layer: expected min_ndim=2, found ndim=1. Full shape received: (None,)\n    \n    Call arguments received by layer 'sequential_4' (type Sequential):\n      • inputs=tf.Tensor(shape=(None,), dtype=int64)\n      • training=False\n      • mask=None\n"
     ]
    }
   ],
   "source": [
    "# make prediction with an unseen data\n",
    "\n",
    "model.predict([9,10,11])\n",
    "\n",
    "# it is pretty close the real answer is 3x + 2 =  29"
   ]
  },
  {
   "cell_type": "code",
   "execution_count": null,
   "metadata": {
    "id": "Fao6l2nyKKh0"
   },
   "outputs": [],
   "source": [
    "model.predict([3])"
   ]
  },
  {
   "cell_type": "markdown",
   "metadata": {
    "id": "KyXpy16qJY9d"
   },
   "source": [
    "# improving the model to make the prediction more accurate\n",
    "\n",
    "\n",
    "# steps:\n",
    "\n",
    "1. **In creation part**: improve the model by adding more layers or hidden layers(neurons). within each of the hidden layers, change the activation function of each layer.\n",
    "\n",
    "\n",
    "2. **In compilation part**: we may change the optimizer, or we may also change the learning rate of optimizer.\n",
    "\n",
    "\n",
    "3. **In fitting part**: we may increase the epochs number (make the model see the training data more times that is.)\n"
   ]
  },
  {
   "cell_type": "markdown",
   "metadata": {
    "id": "WuPEqS-66136"
   },
   "source": [
    "# improving with creation(adding more neurons and hidden layers(dendrites))"
   ]
  },
  {
   "cell_type": "code",
   "execution_count": null,
   "metadata": {
    "id": "2ZWEMulNKxH2"
   },
   "outputs": [],
   "source": [
    "# creating the model\n",
    "\n",
    "model = tf.keras.Sequential()\n",
    "# model.add(tf.keras.layers.Dense(100, activation='relu'))\n",
    "# model.add(tf.keras.layers.Dense(100, activation='relu'))\n",
    "# model.add(tf.keras.layers.Dense(100, activation='relu'))\n",
    "model.add(tf.keras.layers.Dense(1))\n",
    "\n",
    "\n",
    "# compiling the model\n",
    "model.compile(loss= tf.keras.losses.MeanAbsoluteError(),\n",
    "            optimizer= tf.keras.optimizers.SGD(),\n",
    "              metrics=[tf.keras.metrics.MeanAbsoluteError()])\n",
    "\n",
    "# fitting the model with higher epochs\n",
    "model.fit(x,y,epochs=98)\n",
    "\n"
   ]
  },
  {
   "cell_type": "code",
   "execution_count": null,
   "metadata": {
    "id": "yrbtW8JH2-Wi"
   },
   "outputs": [],
   "source": [
    "model.predict([9])"
   ]
  },
  {
   "cell_type": "markdown",
   "metadata": {
    "id": "x_ShqC-l-Hn0"
   },
   "source": [
    "# adding more layers and hidden layers(which means more neurons and dendrites) and see if it improves the model or disimproves it."
   ]
  },
  {
   "cell_type": "code",
   "execution_count": null,
   "metadata": {
    "id": "lut378rCAYE6"
   },
   "outputs": [],
   "source": [
    "# creating the model\n",
    "\n",
    "model = tf.keras.Sequential()\n",
    "# model.add(tf.keras.layers.Dense(100, activation='relu'))\n",
    "# model.add(tf.keras.layers.Dense(100, activation='relu'))\n",
    "# model.add(tf.keras.layers.Dense(100, activation='relu'))\n",
    "model.add(tf.keras.layers.Dense(1))\n",
    "\n",
    "\n",
    "# compiling the model\n",
    "model.compile(loss= tf.keras.losses.MeanAbsoluteError(),\n",
    "            optimizer= tf.keras.optimizers.SGD(),\n",
    "              metrics=[tf.keras.metrics.MeanAbsoluteError()])\n",
    "\n",
    "# fitting the model with higher epochs\n",
    "model.fit(x,y,epochs=98)\n",
    "\n"
   ]
  },
  {
   "cell_type": "code",
   "execution_count": null,
   "metadata": {
    "id": "bbz3qXZQ_Oxb"
   },
   "outputs": [],
   "source": [
    "# predicting\n",
    "\n",
    "model.predict([9]) # the closer or equal it is to 29 the better!"
   ]
  },
  {
   "cell_type": "markdown",
   "metadata": {
    "id": "NyQPQp5XCMT8"
   },
   "source": [
    "# reducing a neuron to see the performance"
   ]
  },
  {
   "cell_type": "code",
   "execution_count": null,
   "metadata": {
    "id": "i30VdZRUCJuS"
   },
   "outputs": [],
   "source": [
    "\n",
    "# creating the model\n",
    "\n",
    "model = tf.keras.Sequential()\n",
    "model.add(tf.keras.layers.Dense(350, activation=None)) # layers means extra neurons and Dense means depth of dendrites\n",
    "\n",
    "\n",
    "model.add(tf.keras.layers.Dense(1))\n",
    "\n",
    "\n",
    "# compiling the model\n",
    "model.compile(loss= tf.keras.losses.MeanAbsoluteError(),\n",
    "            optimizer= tf.keras.optimizers.Adam(learning_rate=0.001), #learning rate determines how slow or fast the algorithm moves, lower it is slower it moves\n",
    "              metrics=[tf.keras.metrics.MeanAbsoluteError()])\n",
    "\n",
    "# fitting the model with higher epochs\n",
    "model.fit(x,y,epochs=100)\n",
    "\n"
   ]
  },
  {
   "cell_type": "code",
   "execution_count": null,
   "metadata": {
    "id": "GXY3d4y9D4R9"
   },
   "outputs": [],
   "source": [
    "model.predict([9,10,11])\n",
    "\n",
    "\n",
    "# perfect"
   ]
  },
  {
   "cell_type": "markdown",
   "metadata": {
    "id": "jqaL7skeKanV"
   },
   "source": [
    "# conclusion:\n",
    "\n",
    "1. **learning_rate is the most important hyperparameter to tweak to see improvement in the model's performance**\n",
    "\n",
    "2. **epochs is the second most important hyperparameter to tweak to see improvement in the model's performance**\n",
    "\n",
    "3. **number of hidden layers in a neural layer is the third most important hyperparameter to tweak to see improvement in the model's performance**"
   ]
  },
  {
   "cell_type": "markdown",
   "metadata": {
    "id": "ELTHY2nRKk28"
   },
   "source": [
    "# evaluating the model"
   ]
  },
  {
   "cell_type": "code",
   "execution_count": null,
   "metadata": {
    "id": "l4IgJV-rR8H3"
   },
   "outputs": [],
   "source": [
    "# making the data set larger\n",
    "\n",
    "# getting the training data set larger\n",
    "\n",
    "# features\n",
    "x = tf.constant(np.arange(-200,200,4),dtype=tf.float32)\n",
    "\n",
    "# labels\n",
    "y = 3*x + 2\n",
    "\n",
    "\n",
    "x,y"
   ]
  },
  {
   "cell_type": "code",
   "execution_count": null,
   "metadata": {
    "id": "GPtLQNPcVMcY"
   },
   "outputs": [],
   "source": [
    "help(train_test_split)"
   ]
  },
  {
   "cell_type": "markdown",
   "metadata": {
    "id": "nUM_U5FOLyX1"
   },
   "source": [
    "# day 122 and day 123 and day 124"
   ]
  },
  {
   "cell_type": "code",
   "execution_count": null,
   "metadata": {
    "id": "PDnflmhiL650"
   },
   "outputs": [],
   "source": [
    "import numpy as np\n",
    "import sympy as sym\n",
    "from IPython.display import display,Math\n",
    "sym.init_printing()\n",
    "import matplotlib.pyplot as plt\n",
    "import pandas as pd\n",
    "import seaborn as sns\n",
    "import tensorflow as tf"
   ]
  },
  {
   "cell_type": "code",
   "execution_count": null,
   "metadata": {
    "colab": {
     "base_uri": "https://localhost:8080/"
    },
    "id": "LQ-rUbgLL669",
    "outputId": "d8704e2b-9783-4dea-a41c-40d478faf6fc"
   },
   "outputs": [
    {
     "name": "stdout",
     "output_type": "stream",
     "text": [
      "Epoch 1/100\n",
      "1/1 [==============================] - 6s 6s/step - loss: 94.5374 - mean_absolute_error: 94.5374\n",
      "Epoch 2/100\n",
      "1/1 [==============================] - 0s 29ms/step - loss: 93.1756 - mean_absolute_error: 93.1756\n",
      "Epoch 3/100\n",
      "1/1 [==============================] - 0s 34ms/step - loss: 91.8128 - mean_absolute_error: 91.8128\n",
      "Epoch 4/100\n",
      "1/1 [==============================] - 0s 33ms/step - loss: 90.4485 - mean_absolute_error: 90.4485\n",
      "Epoch 5/100\n",
      "1/1 [==============================] - 0s 20ms/step - loss: 89.0826 - mean_absolute_error: 89.0826\n",
      "Epoch 6/100\n",
      "1/1 [==============================] - 0s 25ms/step - loss: 87.7147 - mean_absolute_error: 87.7147\n",
      "Epoch 7/100\n",
      "1/1 [==============================] - 0s 18ms/step - loss: 86.3444 - mean_absolute_error: 86.3444\n",
      "Epoch 8/100\n",
      "1/1 [==============================] - 0s 10ms/step - loss: 84.9714 - mean_absolute_error: 84.9714\n",
      "Epoch 9/100\n",
      "1/1 [==============================] - 0s 16ms/step - loss: 83.5952 - mean_absolute_error: 83.5952\n",
      "Epoch 10/100\n",
      "1/1 [==============================] - 0s 20ms/step - loss: 82.2155 - mean_absolute_error: 82.2155\n",
      "Epoch 11/100\n",
      "1/1 [==============================] - 0s 20ms/step - loss: 80.8317 - mean_absolute_error: 80.8317\n",
      "Epoch 12/100\n",
      "1/1 [==============================] - 0s 18ms/step - loss: 79.4434 - mean_absolute_error: 79.4434\n",
      "Epoch 13/100\n",
      "1/1 [==============================] - 0s 15ms/step - loss: 78.0501 - mean_absolute_error: 78.0501\n",
      "Epoch 14/100\n",
      "1/1 [==============================] - 0s 25ms/step - loss: 76.6514 - mean_absolute_error: 76.6514\n",
      "Epoch 15/100\n",
      "1/1 [==============================] - 0s 22ms/step - loss: 75.2466 - mean_absolute_error: 75.2466\n",
      "Epoch 16/100\n",
      "1/1 [==============================] - 0s 21ms/step - loss: 73.8353 - mean_absolute_error: 73.8353\n",
      "Epoch 17/100\n",
      "1/1 [==============================] - 0s 17ms/step - loss: 72.4168 - mean_absolute_error: 72.4168\n",
      "Epoch 18/100\n",
      "1/1 [==============================] - 0s 11ms/step - loss: 70.9906 - mean_absolute_error: 70.9906\n",
      "Epoch 19/100\n",
      "1/1 [==============================] - 0s 16ms/step - loss: 69.5561 - mean_absolute_error: 69.5561\n",
      "Epoch 20/100\n",
      "1/1 [==============================] - 0s 11ms/step - loss: 68.1128 - mean_absolute_error: 68.1128\n",
      "Epoch 21/100\n",
      "1/1 [==============================] - 0s 17ms/step - loss: 66.6599 - mean_absolute_error: 66.6599\n",
      "Epoch 22/100\n",
      "1/1 [==============================] - 0s 23ms/step - loss: 65.1971 - mean_absolute_error: 65.1971\n",
      "Epoch 23/100\n",
      "1/1 [==============================] - 0s 19ms/step - loss: 63.7236 - mean_absolute_error: 63.7236\n",
      "Epoch 24/100\n",
      "1/1 [==============================] - 0s 19ms/step - loss: 62.2390 - mean_absolute_error: 62.2390\n",
      "Epoch 25/100\n",
      "1/1 [==============================] - 0s 16ms/step - loss: 60.7426 - mean_absolute_error: 60.7426\n",
      "Epoch 26/100\n",
      "1/1 [==============================] - 0s 15ms/step - loss: 59.2340 - mean_absolute_error: 59.2340\n",
      "Epoch 27/100\n",
      "1/1 [==============================] - 0s 17ms/step - loss: 57.7125 - mean_absolute_error: 57.7125\n",
      "Epoch 28/100\n",
      "1/1 [==============================] - 0s 12ms/step - loss: 56.1776 - mean_absolute_error: 56.1776\n",
      "Epoch 29/100\n",
      "1/1 [==============================] - 0s 12ms/step - loss: 54.6287 - mean_absolute_error: 54.6287\n",
      "Epoch 30/100\n",
      "1/1 [==============================] - 0s 17ms/step - loss: 53.0653 - mean_absolute_error: 53.0653\n",
      "Epoch 31/100\n",
      "1/1 [==============================] - 0s 16ms/step - loss: 51.4868 - mean_absolute_error: 51.4868\n",
      "Epoch 32/100\n",
      "1/1 [==============================] - 0s 15ms/step - loss: 49.8926 - mean_absolute_error: 49.8926\n",
      "Epoch 33/100\n",
      "1/1 [==============================] - 0s 15ms/step - loss: 48.2823 - mean_absolute_error: 48.2823\n",
      "Epoch 34/100\n",
      "1/1 [==============================] - 0s 15ms/step - loss: 46.6552 - mean_absolute_error: 46.6552\n",
      "Epoch 35/100\n",
      "1/1 [==============================] - 0s 16ms/step - loss: 45.0109 - mean_absolute_error: 45.0109\n",
      "Epoch 36/100\n",
      "1/1 [==============================] - 0s 21ms/step - loss: 43.3487 - mean_absolute_error: 43.3487\n",
      "Epoch 37/100\n",
      "1/1 [==============================] - 0s 20ms/step - loss: 41.6681 - mean_absolute_error: 41.6681\n",
      "Epoch 38/100\n",
      "1/1 [==============================] - 0s 29ms/step - loss: 39.9687 - mean_absolute_error: 39.9687\n",
      "Epoch 39/100\n",
      "1/1 [==============================] - 0s 23ms/step - loss: 38.2499 - mean_absolute_error: 38.2499\n",
      "Epoch 40/100\n",
      "1/1 [==============================] - 0s 19ms/step - loss: 36.5111 - mean_absolute_error: 36.5111\n",
      "Epoch 41/100\n",
      "1/1 [==============================] - 0s 19ms/step - loss: 34.7519 - mean_absolute_error: 34.7519\n",
      "Epoch 42/100\n",
      "1/1 [==============================] - 0s 15ms/step - loss: 32.9717 - mean_absolute_error: 32.9717\n",
      "Epoch 43/100\n",
      "1/1 [==============================] - 0s 12ms/step - loss: 31.1701 - mean_absolute_error: 31.1701\n",
      "Epoch 44/100\n",
      "1/1 [==============================] - 0s 17ms/step - loss: 29.3465 - mean_absolute_error: 29.3465\n",
      "Epoch 45/100\n",
      "1/1 [==============================] - 0s 15ms/step - loss: 27.5005 - mean_absolute_error: 27.5005\n",
      "Epoch 46/100\n",
      "1/1 [==============================] - 0s 19ms/step - loss: 25.6316 - mean_absolute_error: 25.6316\n",
      "Epoch 47/100\n",
      "1/1 [==============================] - 0s 16ms/step - loss: 23.7393 - mean_absolute_error: 23.7393\n",
      "Epoch 48/100\n",
      "1/1 [==============================] - 0s 19ms/step - loss: 21.8232 - mean_absolute_error: 21.8232\n",
      "Epoch 49/100\n",
      "1/1 [==============================] - 0s 47ms/step - loss: 19.8827 - mean_absolute_error: 19.8827\n",
      "Epoch 50/100\n",
      "1/1 [==============================] - 0s 29ms/step - loss: 17.9174 - mean_absolute_error: 17.9174\n",
      "Epoch 51/100\n",
      "1/1 [==============================] - 0s 31ms/step - loss: 15.9268 - mean_absolute_error: 15.9268\n",
      "Epoch 52/100\n",
      "1/1 [==============================] - 0s 24ms/step - loss: 13.9106 - mean_absolute_error: 13.9106\n",
      "Epoch 53/100\n",
      "1/1 [==============================] - 0s 16ms/step - loss: 11.8683 - mean_absolute_error: 11.8683\n",
      "Epoch 54/100\n",
      "1/1 [==============================] - 0s 16ms/step - loss: 9.7994 - mean_absolute_error: 9.7994\n",
      "Epoch 55/100\n",
      "1/1 [==============================] - 0s 21ms/step - loss: 7.7034 - mean_absolute_error: 7.7034\n",
      "Epoch 56/100\n",
      "1/1 [==============================] - 0s 25ms/step - loss: 5.5800 - mean_absolute_error: 5.5800\n",
      "Epoch 57/100\n",
      "1/1 [==============================] - 0s 29ms/step - loss: 3.4288 - mean_absolute_error: 3.4288\n",
      "Epoch 58/100\n",
      "1/1 [==============================] - 0s 61ms/step - loss: 1.2493 - mean_absolute_error: 1.2493\n",
      "Epoch 59/100\n",
      "1/1 [==============================] - 0s 15ms/step - loss: 1.0511 - mean_absolute_error: 1.0511\n",
      "Epoch 60/100\n",
      "1/1 [==============================] - 0s 31ms/step - loss: 2.7515 - mean_absolute_error: 2.7515\n",
      "Epoch 61/100\n",
      "1/1 [==============================] - 0s 48ms/step - loss: 4.0906 - mean_absolute_error: 4.0906\n",
      "Epoch 62/100\n",
      "1/1 [==============================] - 0s 19ms/step - loss: 5.0516 - mean_absolute_error: 5.0516\n",
      "Epoch 63/100\n",
      "1/1 [==============================] - 0s 18ms/step - loss: 5.6701 - mean_absolute_error: 5.6701\n",
      "Epoch 64/100\n",
      "1/1 [==============================] - 0s 18ms/step - loss: 5.9761 - mean_absolute_error: 5.9761\n",
      "Epoch 65/100\n",
      "1/1 [==============================] - 0s 18ms/step - loss: 6.0035 - mean_absolute_error: 6.0035\n",
      "Epoch 66/100\n",
      "1/1 [==============================] - 0s 43ms/step - loss: 5.7835 - mean_absolute_error: 5.7835\n",
      "Epoch 67/100\n",
      "1/1 [==============================] - 0s 36ms/step - loss: 5.3447 - mean_absolute_error: 5.3447\n",
      "Epoch 68/100\n",
      "1/1 [==============================] - 0s 16ms/step - loss: 4.7140 - mean_absolute_error: 4.7140\n",
      "Epoch 69/100\n",
      "1/1 [==============================] - 0s 17ms/step - loss: 3.9205 - mean_absolute_error: 3.9205\n",
      "Epoch 70/100\n",
      "1/1 [==============================] - 0s 16ms/step - loss: 2.9820 - mean_absolute_error: 2.9820\n",
      "Epoch 71/100\n",
      "1/1 [==============================] - 0s 17ms/step - loss: 1.9300 - mean_absolute_error: 1.9300\n",
      "Epoch 72/100\n",
      "1/1 [==============================] - 0s 25ms/step - loss: 0.8263 - mean_absolute_error: 0.8263\n",
      "Epoch 73/100\n",
      "1/1 [==============================] - 0s 19ms/step - loss: 0.5236 - mean_absolute_error: 0.5236\n",
      "Epoch 74/100\n",
      "1/1 [==============================] - 0s 16ms/step - loss: 1.4141 - mean_absolute_error: 1.4141\n",
      "Epoch 75/100\n",
      "1/1 [==============================] - 0s 16ms/step - loss: 1.9908 - mean_absolute_error: 1.9908\n",
      "Epoch 76/100\n",
      "1/1 [==============================] - 0s 15ms/step - loss: 2.2898 - mean_absolute_error: 2.2898\n",
      "Epoch 77/100\n",
      "1/1 [==============================] - 0s 15ms/step - loss: 2.3418 - mean_absolute_error: 2.3418\n",
      "Epoch 78/100\n",
      "1/1 [==============================] - 0s 15ms/step - loss: 2.1732 - mean_absolute_error: 2.1732\n",
      "Epoch 79/100\n",
      "1/1 [==============================] - 0s 15ms/step - loss: 1.8066 - mean_absolute_error: 1.8066\n",
      "Epoch 80/100\n",
      "1/1 [==============================] - 0s 20ms/step - loss: 1.2617 - mean_absolute_error: 1.2617\n",
      "Epoch 81/100\n",
      "1/1 [==============================] - 0s 16ms/step - loss: 0.5554 - mean_absolute_error: 0.5554\n",
      "Epoch 82/100\n",
      "1/1 [==============================] - 0s 21ms/step - loss: 0.4439 - mean_absolute_error: 0.4439\n",
      "Epoch 83/100\n",
      "1/1 [==============================] - 0s 16ms/step - loss: 0.9522 - mean_absolute_error: 0.9522\n",
      "Epoch 84/100\n",
      "1/1 [==============================] - 0s 23ms/step - loss: 1.2633 - mean_absolute_error: 1.2633\n",
      "Epoch 85/100\n",
      "1/1 [==============================] - 0s 13ms/step - loss: 1.3489 - mean_absolute_error: 1.3489\n",
      "Epoch 86/100\n",
      "1/1 [==============================] - 0s 13ms/step - loss: 1.2207 - mean_absolute_error: 1.2207\n",
      "Epoch 87/100\n",
      "1/1 [==============================] - 0s 14ms/step - loss: 0.9061 - mean_absolute_error: 0.9061\n",
      "Epoch 88/100\n",
      "1/1 [==============================] - 0s 12ms/step - loss: 0.4599 - mean_absolute_error: 0.4599\n",
      "Epoch 89/100\n",
      "1/1 [==============================] - 0s 14ms/step - loss: 0.2580 - mean_absolute_error: 0.2580\n",
      "Epoch 90/100\n",
      "1/1 [==============================] - 0s 13ms/step - loss: 0.6043 - mean_absolute_error: 0.6043\n",
      "Epoch 91/100\n",
      "1/1 [==============================] - 0s 14ms/step - loss: 0.7017 - mean_absolute_error: 0.7017\n",
      "Epoch 92/100\n",
      "1/1 [==============================] - 0s 14ms/step - loss: 0.5765 - mean_absolute_error: 0.5765\n",
      "Epoch 93/100\n",
      "1/1 [==============================] - 0s 14ms/step - loss: 0.2512 - mean_absolute_error: 0.2512\n",
      "Epoch 94/100\n",
      "1/1 [==============================] - 0s 13ms/step - loss: 0.3182 - mean_absolute_error: 0.3182\n",
      "Epoch 95/100\n",
      "1/1 [==============================] - 0s 13ms/step - loss: 0.5565 - mean_absolute_error: 0.5565\n",
      "Epoch 96/100\n",
      "1/1 [==============================] - 0s 14ms/step - loss: 0.5989 - mean_absolute_error: 0.5989\n",
      "Epoch 97/100\n",
      "1/1 [==============================] - 0s 13ms/step - loss: 0.4439 - mean_absolute_error: 0.4439\n",
      "Epoch 98/100\n",
      "1/1 [==============================] - 0s 12ms/step - loss: 0.1405 - mean_absolute_error: 0.1405\n",
      "Epoch 99/100\n",
      "1/1 [==============================] - 0s 12ms/step - loss: 0.3927 - mean_absolute_error: 0.3927\n",
      "Epoch 100/100\n",
      "1/1 [==============================] - 0s 13ms/step - loss: 0.6071 - mean_absolute_error: 0.6071\n"
     ]
    },
    {
     "data": {
      "text/plain": [
       "<keras.callbacks.History at 0x7f402012a200>"
      ]
     },
     "execution_count": 3,
     "metadata": {},
     "output_type": "execute_result"
    }
   ],
   "source": [
    "# supplying the features and labels\n",
    "x = tf.constant(np.array([1,2,3,4,5,6,7,8,22,38,32,80,91,11,17,189]),dtype=tf.float32)\n",
    "y = 3*x + 2\n",
    "\n",
    "# dimension change (adding an extra dimension to the feature)\n",
    "x = tf.expand_dims(x,axis=1)\n",
    "\n",
    "\n",
    "\n",
    "# establish the model and the neural layers\n",
    "model = tf.keras.Sequential()\n",
    "model.add(tf.keras.layers.Dense(300,activation=None))\n",
    "model.add(tf.keras.layers.Dense(1))\n",
    "\n",
    "# compilation\n",
    "model.compile(loss=tf.keras.losses.MeanAbsoluteError(),\n",
    "           optimizer=tf.keras.optimizers.Adam(learning_rate=0.001),\n",
    "               metrics=tf.keras.metrics.MeanAbsoluteError())\n",
    "\n",
    "\n",
    "# fitting\n",
    "model.fit(x,y,epochs=100)\n"
   ]
  },
  {
   "cell_type": "code",
   "execution_count": null,
   "metadata": {
    "colab": {
     "base_uri": "https://localhost:8080/"
    },
    "id": "Ox-TnwrCR5-C",
    "outputId": "455d34aa-d61a-469e-c499-c1f47b7e6cd6"
   },
   "outputs": [
    {
     "name": "stdout",
     "output_type": "stream",
     "text": [
      "1/1 [==============================] - 0s 158ms/step\n"
     ]
    },
    {
     "data": {
      "text/plain": [
       "array([[28.795141],\n",
       "       [31.77862 ],\n",
       "       [34.762104]], dtype=float32)"
      ]
     },
     "execution_count": 4,
     "metadata": {},
     "output_type": "execute_result"
    }
   ],
   "source": [
    "model.predict([9,10,11])"
   ]
  },
  {
   "cell_type": "markdown",
   "metadata": {
    "id": "te4Sr0K3Lxse"
   },
   "source": [
    "# evaluation"
   ]
  },
  {
   "cell_type": "code",
   "execution_count": null,
   "metadata": {
    "colab": {
     "base_uri": "https://localhost:8080/",
     "height": 1000
    },
    "id": "6HPEElnvUv-p",
    "outputId": "7ab91310-d8a3-4f4b-816d-9d14248658bd"
   },
   "outputs": [
    {
     "data": {
      "image/png": "[encoded data removed]",
      "text/plain": [
       "<Figure size 960x720 with 2 Axes>"
      ]
     },
     "metadata": {},
     "output_type": "display_data"
    },
    {
     "name": "stdout",
     "output_type": "stream",
     "text": [
      "Epoch 1/500\n",
      "10/10 [==============================] - 1s 3ms/step - loss: 1390.7482 - mean_absolute_error: 1390.7482\n",
      "Epoch 2/500\n",
      "10/10 [==============================] - 0s 3ms/step - loss: 1170.7855 - mean_absolute_error: 1170.7855\n",
      "Epoch 3/500\n",
      "10/10 [==============================] - 0s 3ms/step - loss: 942.3341 - mean_absolute_error: 942.3341\n",
      "Epoch 4/500\n",
      "10/10 [==============================] - 0s 3ms/step - loss: 697.8405 - mean_absolute_error: 697.8405\n",
      "Epoch 5/500\n",
      "10/10 [==============================] - 0s 3ms/step - loss: 427.6046 - mean_absolute_error: 427.6046\n",
      "Epoch 6/500\n",
      "10/10 [==============================] - 0s 3ms/step - loss: 124.6968 - mean_absolute_error: 124.6968\n",
      "Epoch 7/500\n",
      "10/10 [==============================] - 0s 3ms/step - loss: 83.1332 - mean_absolute_error: 83.1332\n",
      "Epoch 8/500\n",
      "10/10 [==============================] - 0s 3ms/step - loss: 33.3194 - mean_absolute_error: 33.3194\n",
      "Epoch 9/500\n",
      "10/10 [==============================] - 0s 3ms/step - loss: 15.5731 - mean_absolute_error: 15.5731\n",
      "Epoch 10/500\n",
      "10/10 [==============================] - 0s 4ms/step - loss: 6.9414 - mean_absolute_error: 6.9414\n",
      "Epoch 11/500\n",
      "10/10 [==============================] - 0s 3ms/step - loss: 3.4910 - mean_absolute_error: 3.4910\n",
      "Epoch 12/500\n",
      "10/10 [==============================] - 0s 3ms/step - loss: 2.4885 - mean_absolute_error: 2.4885\n",
      "Epoch 13/500\n",
      "10/10 [==============================] - 0s 3ms/step - loss: 1.6929 - mean_absolute_error: 1.6929\n",
      "Epoch 14/500\n",
      "10/10 [==============================] - 0s 3ms/step - loss: 3.1692 - mean_absolute_error: 3.1692\n",
      "Epoch 15/500\n",
      "10/10 [==============================] - 0s 3ms/step - loss: 1.2061 - mean_absolute_error: 1.2061\n",
      "Epoch 16/500\n",
      "10/10 [==============================] - 0s 3ms/step - loss: 4.6804 - mean_absolute_error: 4.6804\n",
      "Epoch 17/500\n",
      "10/10 [==============================] - 0s 3ms/step - loss: 3.3442 - mean_absolute_error: 3.3442\n",
      "Epoch 18/500\n",
      "10/10 [==============================] - 0s 3ms/step - loss: 2.9971 - mean_absolute_error: 2.9971\n",
      "Epoch 19/500\n",
      "10/10 [==============================] - 0s 3ms/step - loss: 3.7625 - mean_absolute_error: 3.7625\n",
      "Epoch 20/500\n",
      "10/10 [==============================] - 0s 3ms/step - loss: 1.8997 - mean_absolute_error: 1.8997\n",
      "Epoch 21/500\n",
      "10/10 [==============================] - 0s 3ms/step - loss: 3.2358 - mean_absolute_error: 3.2358\n",
      "Epoch 22/500\n",
      "10/10 [==============================] - 0s 3ms/step - loss: 5.2930 - mean_absolute_error: 5.2930\n",
      "Epoch 23/500\n",
      "10/10 [==============================] - 0s 3ms/step - loss: 6.3656 - mean_absolute_error: 6.3656\n",
      "Epoch 24/500\n",
      "10/10 [==============================] - 0s 3ms/step - loss: 5.1007 - mean_absolute_error: 5.1007\n",
      "Epoch 25/500\n",
      "10/10 [==============================] - 0s 3ms/step - loss: 5.6167 - mean_absolute_error: 5.6167\n",
      "Epoch 26/500\n",
      "10/10 [==============================] - 0s 3ms/step - loss: 7.1174 - mean_absolute_error: 7.1174\n",
      "Epoch 27/500\n",
      "10/10 [==============================] - 0s 3ms/step - loss: 7.4522 - mean_absolute_error: 7.4522\n",
      "Epoch 28/500\n",
      "10/10 [==============================] - 0s 3ms/step - loss: 6.4867 - mean_absolute_error: 6.4867\n",
      "Epoch 29/500\n",
      "10/10 [==============================] - 0s 3ms/step - loss: 6.9862 - mean_absolute_error: 6.9862\n",
      "Epoch 30/500\n",
      "10/10 [==============================] - 0s 3ms/step - loss: 6.4146 - mean_absolute_error: 6.4146\n",
      "Epoch 31/500\n",
      "10/10 [==============================] - 0s 4ms/step - loss: 4.5202 - mean_absolute_error: 4.5202\n",
      "Epoch 32/500\n",
      "10/10 [==============================] - 0s 3ms/step - loss: 6.0970 - mean_absolute_error: 6.0970\n",
      "Epoch 33/500\n",
      "10/10 [==============================] - 0s 3ms/step - loss: 6.6386 - mean_absolute_error: 6.6386\n",
      "Epoch 34/500\n",
      "10/10 [==============================] - 0s 3ms/step - loss: 4.7567 - mean_absolute_error: 4.7567\n",
      "Epoch 35/500\n",
      "10/10 [==============================] - 0s 3ms/step - loss: 2.8619 - mean_absolute_error: 2.8619\n",
      "Epoch 36/500\n",
      "10/10 [==============================] - 0s 3ms/step - loss: 2.1106 - mean_absolute_error: 2.1106\n",
      "Epoch 37/500\n",
      "10/10 [==============================] - 0s 3ms/step - loss: 4.5792 - mean_absolute_error: 4.5792\n",
      "Epoch 38/500\n",
      "10/10 [==============================] - 0s 3ms/step - loss: 2.2595 - mean_absolute_error: 2.2595\n",
      "Epoch 39/500\n",
      "10/10 [==============================] - 0s 3ms/step - loss: 1.8999 - mean_absolute_error: 1.8999\n",
      "Epoch 40/500\n",
      "10/10 [==============================] - 0s 3ms/step - loss: 3.9666 - mean_absolute_error: 3.9666\n",
      "Epoch 41/500\n",
      "10/10 [==============================] - 0s 3ms/step - loss: 4.7626 - mean_absolute_error: 4.7626\n",
      "Epoch 42/500\n",
      "10/10 [==============================] - 0s 3ms/step - loss: 4.2998 - mean_absolute_error: 4.2998\n",
      "Epoch 43/500\n",
      "10/10 [==============================] - 0s 3ms/step - loss: 2.6815 - mean_absolute_error: 2.6815\n",
      "Epoch 44/500\n",
      "10/10 [==============================] - 0s 3ms/step - loss: 1.5319 - mean_absolute_error: 1.5319\n",
      "Epoch 45/500\n",
      "10/10 [==============================] - 0s 3ms/step - loss: 2.9339 - mean_absolute_error: 2.9339\n",
      "Epoch 46/500\n",
      "10/10 [==============================] - 0s 7ms/step - loss: 3.6525 - mean_absolute_error: 3.6525\n",
      "Epoch 47/500\n",
      "10/10 [==============================] - 0s 9ms/step - loss: 1.4988 - mean_absolute_error: 1.4988\n",
      "Epoch 48/500\n",
      "10/10 [==============================] - 0s 5ms/step - loss: 2.3953 - mean_absolute_error: 2.3953\n",
      "Epoch 49/500\n",
      "10/10 [==============================] - 0s 6ms/step - loss: 4.8568 - mean_absolute_error: 4.8568\n",
      "Epoch 50/500\n",
      "10/10 [==============================] - 0s 6ms/step - loss: 2.6619 - mean_absolute_error: 2.6619\n",
      "Epoch 51/500\n",
      "10/10 [==============================] - 0s 8ms/step - loss: 2.7006 - mean_absolute_error: 2.7006\n",
      "Epoch 52/500\n",
      "10/10 [==============================] - 0s 7ms/step - loss: 3.1120 - mean_absolute_error: 3.1120\n",
      "Epoch 53/500\n",
      "10/10 [==============================] - 0s 5ms/step - loss: 2.4629 - mean_absolute_error: 2.4629\n",
      "Epoch 54/500\n",
      "10/10 [==============================] - 0s 5ms/step - loss: 2.6110 - mean_absolute_error: 2.6110\n",
      "Epoch 55/500\n",
      "10/10 [==============================] - 0s 6ms/step - loss: 5.2671 - mean_absolute_error: 5.2671\n",
      "Epoch 56/500\n",
      "10/10 [==============================] - 0s 7ms/step - loss: 2.5278 - mean_absolute_error: 2.5278\n",
      "Epoch 57/500\n",
      "10/10 [==============================] - 0s 5ms/step - loss: 1.5961 - mean_absolute_error: 1.5961\n",
      "Epoch 58/500\n",
      "10/10 [==============================] - 0s 7ms/step - loss: 2.3468 - mean_absolute_error: 2.3468\n",
      "Epoch 59/500\n",
      "10/10 [==============================] - 0s 5ms/step - loss: 4.6443 - mean_absolute_error: 4.6443\n",
      "Epoch 60/500\n",
      "10/10 [==============================] - 0s 4ms/step - loss: 4.8925 - mean_absolute_error: 4.8925\n",
      "Epoch 61/500\n",
      "10/10 [==============================] - 0s 8ms/step - loss: 3.8661 - mean_absolute_error: 3.8661\n",
      "Epoch 62/500\n",
      "10/10 [==============================] - 0s 6ms/step - loss: 2.2796 - mean_absolute_error: 2.2796\n",
      "Epoch 63/500\n",
      "10/10 [==============================] - 0s 4ms/step - loss: 3.9318 - mean_absolute_error: 3.9318\n",
      "Epoch 64/500\n",
      "10/10 [==============================] - 0s 5ms/step - loss: 8.1364 - mean_absolute_error: 8.1364\n",
      "Epoch 65/500\n",
      "10/10 [==============================] - 0s 4ms/step - loss: 10.8244 - mean_absolute_error: 10.8244\n",
      "Epoch 66/500\n",
      "10/10 [==============================] - 0s 4ms/step - loss: 6.0818 - mean_absolute_error: 6.0818\n",
      "Epoch 67/500\n",
      "10/10 [==============================] - 0s 4ms/step - loss: 1.7200 - mean_absolute_error: 1.7200\n",
      "Epoch 68/500\n",
      "10/10 [==============================] - 0s 4ms/step - loss: 4.1448 - mean_absolute_error: 4.1448\n",
      "Epoch 69/500\n",
      "10/10 [==============================] - 0s 5ms/step - loss: 4.2697 - mean_absolute_error: 4.2697\n",
      "Epoch 70/500\n",
      "10/10 [==============================] - 0s 4ms/step - loss: 3.5464 - mean_absolute_error: 3.5464\n",
      "Epoch 71/500\n",
      "10/10 [==============================] - 0s 5ms/step - loss: 1.2246 - mean_absolute_error: 1.2246\n",
      "Epoch 72/500\n",
      "10/10 [==============================] - 0s 7ms/step - loss: 4.4676 - mean_absolute_error: 4.4676\n",
      "Epoch 73/500\n",
      "10/10 [==============================] - 0s 4ms/step - loss: 3.9004 - mean_absolute_error: 3.9004\n",
      "Epoch 74/500\n",
      "10/10 [==============================] - 0s 7ms/step - loss: 5.3936 - mean_absolute_error: 5.3936\n",
      "Epoch 75/500\n",
      "10/10 [==============================] - 0s 8ms/step - loss: 3.9328 - mean_absolute_error: 3.9328\n",
      "Epoch 76/500\n",
      "10/10 [==============================] - 0s 7ms/step - loss: 7.2061 - mean_absolute_error: 7.2061\n",
      "Epoch 77/500\n",
      "10/10 [==============================] - 0s 6ms/step - loss: 3.3815 - mean_absolute_error: 3.3815\n",
      "Epoch 78/500\n",
      "10/10 [==============================] - 0s 7ms/step - loss: 4.7098 - mean_absolute_error: 4.7098\n",
      "Epoch 79/500\n",
      "10/10 [==============================] - 0s 8ms/step - loss: 6.7008 - mean_absolute_error: 6.7008\n",
      "Epoch 80/500\n",
      "10/10 [==============================] - 0s 5ms/step - loss: 2.4664 - mean_absolute_error: 2.4664\n",
      "Epoch 81/500\n",
      "10/10 [==============================] - 0s 6ms/step - loss: 2.0281 - mean_absolute_error: 2.0281\n",
      "Epoch 82/500\n",
      "10/10 [==============================] - 0s 4ms/step - loss: 2.4158 - mean_absolute_error: 2.4158\n",
      "Epoch 83/500\n",
      "10/10 [==============================] - 0s 5ms/step - loss: 2.9084 - mean_absolute_error: 2.9084\n",
      "Epoch 84/500\n",
      "10/10 [==============================] - 0s 4ms/step - loss: 2.7038 - mean_absolute_error: 2.7038\n",
      "Epoch 85/500\n",
      "10/10 [==============================] - 0s 5ms/step - loss: 1.6593 - mean_absolute_error: 1.6593\n",
      "Epoch 86/500\n",
      "10/10 [==============================] - 0s 4ms/step - loss: 1.2994 - mean_absolute_error: 1.2994\n",
      "Epoch 87/500\n",
      "10/10 [==============================] - 0s 7ms/step - loss: 4.3126 - mean_absolute_error: 4.3126\n",
      "Epoch 88/500\n",
      "10/10 [==============================] - 0s 5ms/step - loss: 4.4529 - mean_absolute_error: 4.4529\n",
      "Epoch 89/500\n",
      "10/10 [==============================] - 0s 4ms/step - loss: 2.3248 - mean_absolute_error: 2.3248\n",
      "Epoch 90/500\n",
      "10/10 [==============================] - 0s 3ms/step - loss: 2.5633 - mean_absolute_error: 2.5633\n",
      "Epoch 91/500\n",
      "10/10 [==============================] - 0s 3ms/step - loss: 3.5980 - mean_absolute_error: 3.5980\n",
      "Epoch 92/500\n",
      "10/10 [==============================] - 0s 3ms/step - loss: 2.0032 - mean_absolute_error: 2.0032\n",
      "Epoch 93/500\n",
      "10/10 [==============================] - 0s 4ms/step - loss: 3.2609 - mean_absolute_error: 3.2609\n",
      "Epoch 94/500\n",
      "10/10 [==============================] - 0s 3ms/step - loss: 3.4644 - mean_absolute_error: 3.4644\n",
      "Epoch 95/500\n",
      "10/10 [==============================] - 0s 3ms/step - loss: 2.4702 - mean_absolute_error: 2.4702\n",
      "Epoch 96/500\n",
      "10/10 [==============================] - 0s 3ms/step - loss: 7.8637 - mean_absolute_error: 7.8637\n",
      "Epoch 97/500\n",
      "10/10 [==============================] - 0s 3ms/step - loss: 3.6233 - mean_absolute_error: 3.6233\n",
      "Epoch 98/500\n",
      "10/10 [==============================] - 0s 3ms/step - loss: 3.0213 - mean_absolute_error: 3.0213\n",
      "Epoch 99/500\n",
      "10/10 [==============================] - 0s 3ms/step - loss: 4.1818 - mean_absolute_error: 4.1818\n",
      "Epoch 100/500\n",
      "10/10 [==============================] - 0s 3ms/step - loss: 5.6989 - mean_absolute_error: 5.6989\n",
      "Epoch 101/500\n",
      "10/10 [==============================] - 0s 3ms/step - loss: 6.8745 - mean_absolute_error: 6.8745\n",
      "Epoch 102/500\n",
      "10/10 [==============================] - 0s 3ms/step - loss: 6.9058 - mean_absolute_error: 6.9058\n",
      "Epoch 103/500\n",
      "10/10 [==============================] - 0s 3ms/step - loss: 2.9332 - mean_absolute_error: 2.9332\n",
      "Epoch 104/500\n",
      "10/10 [==============================] - 0s 3ms/step - loss: 2.7575 - mean_absolute_error: 2.7575\n",
      "Epoch 105/500\n",
      "10/10 [==============================] - 0s 4ms/step - loss: 2.0129 - mean_absolute_error: 2.0129\n",
      "Epoch 106/500\n",
      "10/10 [==============================] - 0s 4ms/step - loss: 2.9797 - mean_absolute_error: 2.9797\n",
      "Epoch 107/500\n",
      "10/10 [==============================] - 0s 4ms/step - loss: 1.7495 - mean_absolute_error: 1.7495\n",
      "Epoch 108/500\n",
      "10/10 [==============================] - 0s 5ms/step - loss: 2.9215 - mean_absolute_error: 2.9215\n",
      "Epoch 109/500\n",
      "10/10 [==============================] - 0s 4ms/step - loss: 2.9039 - mean_absolute_error: 2.9039\n",
      "Epoch 110/500\n",
      "10/10 [==============================] - 0s 4ms/step - loss: 3.2903 - mean_absolute_error: 3.2903\n",
      "Epoch 111/500\n",
      "10/10 [==============================] - 0s 4ms/step - loss: 1.7351 - mean_absolute_error: 1.7351\n",
      "Epoch 112/500\n",
      "10/10 [==============================] - 0s 4ms/step - loss: 3.0231 - mean_absolute_error: 3.0231\n",
      "Epoch 113/500\n",
      "10/10 [==============================] - 0s 4ms/step - loss: 1.4574 - mean_absolute_error: 1.4574\n",
      "Epoch 114/500\n",
      "10/10 [==============================] - 0s 4ms/step - loss: 2.4974 - mean_absolute_error: 2.4974\n",
      "Epoch 115/500\n",
      "10/10 [==============================] - 0s 4ms/step - loss: 2.6526 - mean_absolute_error: 2.6526\n",
      "Epoch 116/500\n",
      "10/10 [==============================] - 0s 4ms/step - loss: 2.5175 - mean_absolute_error: 2.5175\n",
      "Epoch 117/500\n",
      "10/10 [==============================] - 0s 4ms/step - loss: 3.6002 - mean_absolute_error: 3.6002\n",
      "Epoch 118/500\n",
      "10/10 [==============================] - 0s 5ms/step - loss: 2.0105 - mean_absolute_error: 2.0105\n",
      "Epoch 119/500\n",
      "10/10 [==============================] - 0s 3ms/step - loss: 2.7874 - mean_absolute_error: 2.7874\n",
      "Epoch 120/500\n",
      "10/10 [==============================] - 0s 5ms/step - loss: 6.6640 - mean_absolute_error: 6.6640\n",
      "Epoch 121/500\n",
      "10/10 [==============================] - 0s 4ms/step - loss: 4.0677 - mean_absolute_error: 4.0677\n",
      "Epoch 122/500\n",
      "10/10 [==============================] - 0s 4ms/step - loss: 4.0047 - mean_absolute_error: 4.0047\n",
      "Epoch 123/500\n",
      "10/10 [==============================] - 0s 4ms/step - loss: 3.6506 - mean_absolute_error: 3.6506\n",
      "Epoch 124/500\n",
      "10/10 [==============================] - 0s 4ms/step - loss: 2.0964 - mean_absolute_error: 2.0964\n",
      "Epoch 125/500\n",
      "10/10 [==============================] - 0s 4ms/step - loss: 1.5353 - mean_absolute_error: 1.5353\n",
      "Epoch 126/500\n",
      "10/10 [==============================] - 0s 4ms/step - loss: 4.1672 - mean_absolute_error: 4.1672\n",
      "Epoch 127/500\n",
      "10/10 [==============================] - 0s 5ms/step - loss: 4.6087 - mean_absolute_error: 4.6087\n",
      "Epoch 128/500\n",
      "10/10 [==============================] - 0s 5ms/step - loss: 1.3188 - mean_absolute_error: 1.3188\n",
      "Epoch 129/500\n",
      "10/10 [==============================] - 0s 4ms/step - loss: 1.8503 - mean_absolute_error: 1.8503\n",
      "Epoch 130/500\n",
      "10/10 [==============================] - 0s 4ms/step - loss: 3.0988 - mean_absolute_error: 3.0988\n",
      "Epoch 131/500\n",
      "10/10 [==============================] - 0s 4ms/step - loss: 4.2261 - mean_absolute_error: 4.2261\n",
      "Epoch 132/500\n",
      "10/10 [==============================] - 0s 4ms/step - loss: 1.3365 - mean_absolute_error: 1.3365\n",
      "Epoch 133/500\n",
      "10/10 [==============================] - 0s 4ms/step - loss: 3.4143 - mean_absolute_error: 3.4143\n",
      "Epoch 134/500\n",
      "10/10 [==============================] - 0s 5ms/step - loss: 1.8951 - mean_absolute_error: 1.8951\n",
      "Epoch 135/500\n",
      "10/10 [==============================] - 0s 5ms/step - loss: 4.7075 - mean_absolute_error: 4.7075\n",
      "Epoch 136/500\n",
      "10/10 [==============================] - 0s 4ms/step - loss: 6.0891 - mean_absolute_error: 6.0891\n",
      "Epoch 137/500\n",
      "10/10 [==============================] - 0s 4ms/step - loss: 4.3822 - mean_absolute_error: 4.3822\n",
      "Epoch 138/500\n",
      "10/10 [==============================] - 0s 4ms/step - loss: 2.4932 - mean_absolute_error: 2.4932\n",
      "Epoch 139/500\n",
      "10/10 [==============================] - 0s 4ms/step - loss: 1.5895 - mean_absolute_error: 1.5895\n",
      "Epoch 140/500\n",
      "10/10 [==============================] - 0s 4ms/step - loss: 1.7689 - mean_absolute_error: 1.7689\n",
      "Epoch 141/500\n",
      "10/10 [==============================] - 0s 5ms/step - loss: 1.7214 - mean_absolute_error: 1.7214\n",
      "Epoch 142/500\n",
      "10/10 [==============================] - 0s 4ms/step - loss: 5.1109 - mean_absolute_error: 5.1109\n",
      "Epoch 143/500\n",
      "10/10 [==============================] - 0s 4ms/step - loss: 6.0918 - mean_absolute_error: 6.0918\n",
      "Epoch 144/500\n",
      "10/10 [==============================] - 0s 4ms/step - loss: 2.1042 - mean_absolute_error: 2.1042\n",
      "Epoch 145/500\n",
      "10/10 [==============================] - 0s 4ms/step - loss: 3.8521 - mean_absolute_error: 3.8521\n",
      "Epoch 146/500\n",
      "10/10 [==============================] - 0s 4ms/step - loss: 4.2631 - mean_absolute_error: 4.2631\n",
      "Epoch 147/500\n",
      "10/10 [==============================] - 0s 4ms/step - loss: 3.0583 - mean_absolute_error: 3.0583\n",
      "Epoch 148/500\n",
      "10/10 [==============================] - 0s 4ms/step - loss: 3.6559 - mean_absolute_error: 3.6559\n",
      "Epoch 149/500\n",
      "10/10 [==============================] - 0s 4ms/step - loss: 1.5484 - mean_absolute_error: 1.5484\n",
      "Epoch 150/500\n",
      "10/10 [==============================] - 0s 4ms/step - loss: 2.6995 - mean_absolute_error: 2.6995\n",
      "Epoch 151/500\n",
      "10/10 [==============================] - 0s 4ms/step - loss: 3.1880 - mean_absolute_error: 3.1880\n",
      "Epoch 152/500\n",
      "10/10 [==============================] - 0s 4ms/step - loss: 5.1284 - mean_absolute_error: 5.1284\n",
      "Epoch 153/500\n",
      "10/10 [==============================] - 0s 4ms/step - loss: 4.2087 - mean_absolute_error: 4.2087\n",
      "Epoch 154/500\n",
      "10/10 [==============================] - 0s 4ms/step - loss: 4.8133 - mean_absolute_error: 4.8133\n",
      "Epoch 155/500\n",
      "10/10 [==============================] - 0s 4ms/step - loss: 4.1133 - mean_absolute_error: 4.1133\n",
      "Epoch 156/500\n",
      "10/10 [==============================] - 0s 4ms/step - loss: 2.6768 - mean_absolute_error: 2.6768\n",
      "Epoch 157/500\n",
      "10/10 [==============================] - 0s 4ms/step - loss: 3.7825 - mean_absolute_error: 3.7825\n",
      "Epoch 158/500\n",
      "10/10 [==============================] - 0s 4ms/step - loss: 7.2467 - mean_absolute_error: 7.2467\n",
      "Epoch 159/500\n",
      "10/10 [==============================] - 0s 4ms/step - loss: 9.7884 - mean_absolute_error: 9.7884\n",
      "Epoch 160/500\n",
      "10/10 [==============================] - 0s 4ms/step - loss: 3.6475 - mean_absolute_error: 3.6475\n",
      "Epoch 161/500\n",
      "10/10 [==============================] - 0s 4ms/step - loss: 5.1694 - mean_absolute_error: 5.1694\n",
      "Epoch 162/500\n",
      "10/10 [==============================] - 0s 4ms/step - loss: 3.9482 - mean_absolute_error: 3.9482\n",
      "Epoch 163/500\n",
      "10/10 [==============================] - 0s 5ms/step - loss: 1.4651 - mean_absolute_error: 1.4651\n",
      "Epoch 164/500\n",
      "10/10 [==============================] - 0s 4ms/step - loss: 1.6444 - mean_absolute_error: 1.6444\n",
      "Epoch 165/500\n",
      "10/10 [==============================] - 0s 4ms/step - loss: 2.4530 - mean_absolute_error: 2.4530\n",
      "Epoch 166/500\n",
      "10/10 [==============================] - 0s 4ms/step - loss: 2.8447 - mean_absolute_error: 2.8447\n",
      "Epoch 167/500\n",
      "10/10 [==============================] - 0s 4ms/step - loss: 2.6302 - mean_absolute_error: 2.6302\n",
      "Epoch 168/500\n",
      "10/10 [==============================] - 0s 4ms/step - loss: 3.2546 - mean_absolute_error: 3.2546\n",
      "Epoch 169/500\n",
      "10/10 [==============================] - 0s 4ms/step - loss: 3.3787 - mean_absolute_error: 3.3787\n",
      "Epoch 170/500\n",
      "10/10 [==============================] - 0s 4ms/step - loss: 2.4903 - mean_absolute_error: 2.4903\n",
      "Epoch 171/500\n",
      "10/10 [==============================] - 0s 5ms/step - loss: 2.5440 - mean_absolute_error: 2.5440\n",
      "Epoch 172/500\n",
      "10/10 [==============================] - 0s 4ms/step - loss: 3.3344 - mean_absolute_error: 3.3344\n",
      "Epoch 173/500\n",
      "10/10 [==============================] - 0s 3ms/step - loss: 6.3406 - mean_absolute_error: 6.3406\n",
      "Epoch 174/500\n",
      "10/10 [==============================] - 0s 4ms/step - loss: 4.5008 - mean_absolute_error: 4.5008\n",
      "Epoch 175/500\n",
      "10/10 [==============================] - 0s 4ms/step - loss: 4.7335 - mean_absolute_error: 4.7335\n",
      "Epoch 176/500\n",
      "10/10 [==============================] - 0s 4ms/step - loss: 2.5604 - mean_absolute_error: 2.5604\n",
      "Epoch 177/500\n",
      "10/10 [==============================] - 0s 3ms/step - loss: 1.2584 - mean_absolute_error: 1.2584\n",
      "Epoch 178/500\n",
      "10/10 [==============================] - 0s 3ms/step - loss: 2.5879 - mean_absolute_error: 2.5879\n",
      "Epoch 179/500\n",
      "10/10 [==============================] - 0s 3ms/step - loss: 2.7667 - mean_absolute_error: 2.7667\n",
      "Epoch 180/500\n",
      "10/10 [==============================] - 0s 3ms/step - loss: 1.4731 - mean_absolute_error: 1.4731\n",
      "Epoch 181/500\n",
      "10/10 [==============================] - 0s 3ms/step - loss: 2.8123 - mean_absolute_error: 2.8123\n",
      "Epoch 182/500\n",
      "10/10 [==============================] - 0s 3ms/step - loss: 5.2632 - mean_absolute_error: 5.2632\n",
      "Epoch 183/500\n",
      "10/10 [==============================] - 0s 3ms/step - loss: 7.8977 - mean_absolute_error: 7.8977\n",
      "Epoch 184/500\n",
      "10/10 [==============================] - 0s 3ms/step - loss: 9.1240 - mean_absolute_error: 9.1240\n",
      "Epoch 185/500\n",
      "10/10 [==============================] - 0s 3ms/step - loss: 9.1002 - mean_absolute_error: 9.1002\n",
      "Epoch 186/500\n",
      "10/10 [==============================] - 0s 3ms/step - loss: 5.5324 - mean_absolute_error: 5.5324\n",
      "Epoch 187/500\n",
      "10/10 [==============================] - 0s 3ms/step - loss: 1.5662 - mean_absolute_error: 1.5662\n",
      "Epoch 188/500\n",
      "10/10 [==============================] - 0s 3ms/step - loss: 0.7815 - mean_absolute_error: 0.7815\n",
      "Epoch 189/500\n",
      "10/10 [==============================] - 0s 3ms/step - loss: 2.6993 - mean_absolute_error: 2.6993\n",
      "Epoch 190/500\n",
      "10/10 [==============================] - 0s 3ms/step - loss: 4.7041 - mean_absolute_error: 4.7041\n",
      "Epoch 191/500\n",
      "10/10 [==============================] - 0s 3ms/step - loss: 4.1265 - mean_absolute_error: 4.1265\n",
      "Epoch 192/500\n",
      "10/10 [==============================] - 0s 3ms/step - loss: 4.8035 - mean_absolute_error: 4.8035\n",
      "Epoch 193/500\n",
      "10/10 [==============================] - 0s 4ms/step - loss: 6.6653 - mean_absolute_error: 6.6653\n",
      "Epoch 194/500\n",
      "10/10 [==============================] - 0s 3ms/step - loss: 5.8633 - mean_absolute_error: 5.8633\n",
      "Epoch 195/500\n",
      "10/10 [==============================] - 0s 3ms/step - loss: 3.9307 - mean_absolute_error: 3.9307\n",
      "Epoch 196/500\n",
      "10/10 [==============================] - 0s 3ms/step - loss: 3.3225 - mean_absolute_error: 3.3225\n",
      "Epoch 197/500\n",
      "10/10 [==============================] - 0s 3ms/step - loss: 2.2272 - mean_absolute_error: 2.2272\n",
      "Epoch 198/500\n",
      "10/10 [==============================] - 0s 4ms/step - loss: 2.2737 - mean_absolute_error: 2.2737\n",
      "Epoch 199/500\n",
      "10/10 [==============================] - 0s 3ms/step - loss: 3.5100 - mean_absolute_error: 3.5100\n",
      "Epoch 200/500\n",
      "10/10 [==============================] - 0s 3ms/step - loss: 1.4804 - mean_absolute_error: 1.4804\n",
      "Epoch 201/500\n",
      "10/10 [==============================] - 0s 3ms/step - loss: 4.2851 - mean_absolute_error: 4.2851\n",
      "Epoch 202/500\n",
      "10/10 [==============================] - 0s 3ms/step - loss: 4.3787 - mean_absolute_error: 4.3787\n",
      "Epoch 203/500\n",
      "10/10 [==============================] - 0s 3ms/step - loss: 3.2024 - mean_absolute_error: 3.2024\n",
      "Epoch 204/500\n",
      "10/10 [==============================] - 0s 3ms/step - loss: 1.6310 - mean_absolute_error: 1.6310\n",
      "Epoch 205/500\n",
      "10/10 [==============================] - 0s 4ms/step - loss: 2.6635 - mean_absolute_error: 2.6635\n",
      "Epoch 206/500\n",
      "10/10 [==============================] - 0s 3ms/step - loss: 2.6691 - mean_absolute_error: 2.6691\n",
      "Epoch 207/500\n",
      "10/10 [==============================] - 0s 3ms/step - loss: 3.6916 - mean_absolute_error: 3.6916\n",
      "Epoch 208/500\n",
      "10/10 [==============================] - 0s 3ms/step - loss: 4.8699 - mean_absolute_error: 4.8699\n",
      "Epoch 209/500\n",
      "10/10 [==============================] - 0s 3ms/step - loss: 6.5037 - mean_absolute_error: 6.5037\n",
      "Epoch 210/500\n",
      "10/10 [==============================] - 0s 5ms/step - loss: 5.0768 - mean_absolute_error: 5.0768\n",
      "Epoch 211/500\n",
      "10/10 [==============================] - 0s 3ms/step - loss: 4.1740 - mean_absolute_error: 4.1740\n",
      "Epoch 212/500\n",
      "10/10 [==============================] - 0s 3ms/step - loss: 2.6349 - mean_absolute_error: 2.6349\n",
      "Epoch 213/500\n",
      "10/10 [==============================] - 0s 3ms/step - loss: 2.5043 - mean_absolute_error: 2.5043\n",
      "Epoch 214/500\n",
      "10/10 [==============================] - 0s 3ms/step - loss: 2.9441 - mean_absolute_error: 2.9441\n",
      "Epoch 215/500\n",
      "10/10 [==============================] - 0s 3ms/step - loss: 3.4043 - mean_absolute_error: 3.4043\n",
      "Epoch 216/500\n",
      "10/10 [==============================] - 0s 3ms/step - loss: 2.6713 - mean_absolute_error: 2.6713\n",
      "Epoch 217/500\n",
      "10/10 [==============================] - 0s 3ms/step - loss: 6.8249 - mean_absolute_error: 6.8249\n",
      "Epoch 218/500\n",
      "10/10 [==============================] - 0s 3ms/step - loss: 3.7388 - mean_absolute_error: 3.7388\n",
      "Epoch 219/500\n",
      "10/10 [==============================] - 0s 3ms/step - loss: 3.1632 - mean_absolute_error: 3.1632\n",
      "Epoch 220/500\n",
      "10/10 [==============================] - 0s 3ms/step - loss: 2.9877 - mean_absolute_error: 2.9877\n",
      "Epoch 221/500\n",
      "10/10 [==============================] - 0s 3ms/step - loss: 4.2965 - mean_absolute_error: 4.2965\n",
      "Epoch 222/500\n",
      "10/10 [==============================] - 0s 3ms/step - loss: 0.8325 - mean_absolute_error: 0.8325\n",
      "Epoch 223/500\n",
      "10/10 [==============================] - 0s 3ms/step - loss: 2.5077 - mean_absolute_error: 2.5077\n",
      "Epoch 224/500\n",
      "10/10 [==============================] - 0s 3ms/step - loss: 3.7086 - mean_absolute_error: 3.7086\n",
      "Epoch 225/500\n",
      "10/10 [==============================] - 0s 3ms/step - loss: 2.2924 - mean_absolute_error: 2.2924\n",
      "Epoch 226/500\n",
      "10/10 [==============================] - 0s 3ms/step - loss: 5.6840 - mean_absolute_error: 5.6840\n",
      "Epoch 227/500\n",
      "10/10 [==============================] - 0s 3ms/step - loss: 6.9440 - mean_absolute_error: 6.9440\n",
      "Epoch 228/500\n",
      "10/10 [==============================] - 0s 3ms/step - loss: 4.2463 - mean_absolute_error: 4.2463\n",
      "Epoch 229/500\n",
      "10/10 [==============================] - 0s 3ms/step - loss: 4.2810 - mean_absolute_error: 4.2810\n",
      "Epoch 230/500\n",
      "10/10 [==============================] - 0s 3ms/step - loss: 3.9111 - mean_absolute_error: 3.9111\n",
      "Epoch 231/500\n",
      "10/10 [==============================] - 0s 3ms/step - loss: 3.2660 - mean_absolute_error: 3.2660\n",
      "Epoch 232/500\n",
      "10/10 [==============================] - 0s 3ms/step - loss: 1.4074 - mean_absolute_error: 1.4074\n",
      "Epoch 233/500\n",
      "10/10 [==============================] - 0s 3ms/step - loss: 1.4464 - mean_absolute_error: 1.4464\n",
      "Epoch 234/500\n",
      "10/10 [==============================] - 0s 3ms/step - loss: 3.4942 - mean_absolute_error: 3.4942\n",
      "Epoch 235/500\n",
      "10/10 [==============================] - 0s 3ms/step - loss: 4.3312 - mean_absolute_error: 4.3312\n",
      "Epoch 236/500\n",
      "10/10 [==============================] - 0s 4ms/step - loss: 4.5907 - mean_absolute_error: 4.5907\n",
      "Epoch 237/500\n",
      "10/10 [==============================] - 0s 3ms/step - loss: 3.5750 - mean_absolute_error: 3.5750\n",
      "Epoch 238/500\n",
      "10/10 [==============================] - 0s 3ms/step - loss: 2.1723 - mean_absolute_error: 2.1723\n",
      "Epoch 239/500\n",
      "10/10 [==============================] - 0s 3ms/step - loss: 4.8496 - mean_absolute_error: 4.8496\n",
      "Epoch 240/500\n",
      "10/10 [==============================] - 0s 3ms/step - loss: 2.2398 - mean_absolute_error: 2.2398\n",
      "Epoch 241/500\n",
      "10/10 [==============================] - 0s 3ms/step - loss: 1.1114 - mean_absolute_error: 1.1114\n",
      "Epoch 242/500\n",
      "10/10 [==============================] - 0s 3ms/step - loss: 3.7060 - mean_absolute_error: 3.7060\n",
      "Epoch 243/500\n",
      "10/10 [==============================] - 0s 3ms/step - loss: 2.3081 - mean_absolute_error: 2.3081\n",
      "Epoch 244/500\n",
      "10/10 [==============================] - 0s 3ms/step - loss: 1.4666 - mean_absolute_error: 1.4666\n",
      "Epoch 245/500\n",
      "10/10 [==============================] - 0s 3ms/step - loss: 2.1306 - mean_absolute_error: 2.1306\n",
      "Epoch 246/500\n",
      "10/10 [==============================] - 0s 3ms/step - loss: 4.3227 - mean_absolute_error: 4.3227\n",
      "Epoch 247/500\n",
      "10/10 [==============================] - 0s 4ms/step - loss: 4.4630 - mean_absolute_error: 4.4630\n",
      "Epoch 248/500\n",
      "10/10 [==============================] - 0s 3ms/step - loss: 3.6951 - mean_absolute_error: 3.6951\n",
      "Epoch 249/500\n",
      "10/10 [==============================] - 0s 3ms/step - loss: 3.6790 - mean_absolute_error: 3.6790\n",
      "Epoch 250/500\n",
      "10/10 [==============================] - 0s 4ms/step - loss: 2.2660 - mean_absolute_error: 2.2660\n",
      "Epoch 251/500\n",
      "10/10 [==============================] - 0s 3ms/step - loss: 4.8854 - mean_absolute_error: 4.8854\n",
      "Epoch 252/500\n",
      "10/10 [==============================] - 0s 3ms/step - loss: 0.9732 - mean_absolute_error: 0.9732\n",
      "Epoch 253/500\n",
      "10/10 [==============================] - 0s 3ms/step - loss: 2.0216 - mean_absolute_error: 2.0216\n",
      "Epoch 254/500\n",
      "10/10 [==============================] - 0s 3ms/step - loss: 2.0489 - mean_absolute_error: 2.0489\n",
      "Epoch 255/500\n",
      "10/10 [==============================] - 0s 3ms/step - loss: 4.5046 - mean_absolute_error: 4.5046\n",
      "Epoch 256/500\n",
      "10/10 [==============================] - 0s 3ms/step - loss: 3.4893 - mean_absolute_error: 3.4893\n",
      "Epoch 257/500\n",
      "10/10 [==============================] - 0s 3ms/step - loss: 1.7020 - mean_absolute_error: 1.7020\n",
      "Epoch 258/500\n",
      "10/10 [==============================] - 0s 3ms/step - loss: 3.7418 - mean_absolute_error: 3.7418\n",
      "Epoch 259/500\n",
      "10/10 [==============================] - 0s 3ms/step - loss: 1.3417 - mean_absolute_error: 1.3417\n",
      "Epoch 260/500\n",
      "10/10 [==============================] - 0s 4ms/step - loss: 1.6855 - mean_absolute_error: 1.6855\n",
      "Epoch 261/500\n",
      "10/10 [==============================] - 0s 3ms/step - loss: 2.5510 - mean_absolute_error: 2.5510\n",
      "Epoch 262/500\n",
      "10/10 [==============================] - 0s 3ms/step - loss: 2.5096 - mean_absolute_error: 2.5096\n",
      "Epoch 263/500\n",
      "10/10 [==============================] - 0s 3ms/step - loss: 2.8194 - mean_absolute_error: 2.8194\n",
      "Epoch 264/500\n",
      "10/10 [==============================] - 0s 3ms/step - loss: 2.5070 - mean_absolute_error: 2.5070\n",
      "Epoch 265/500\n",
      "10/10 [==============================] - 0s 3ms/step - loss: 2.3583 - mean_absolute_error: 2.3583\n",
      "Epoch 266/500\n",
      "10/10 [==============================] - 0s 3ms/step - loss: 4.5042 - mean_absolute_error: 4.5042\n",
      "Epoch 267/500\n",
      "10/10 [==============================] - 0s 3ms/step - loss: 4.0074 - mean_absolute_error: 4.0074\n",
      "Epoch 268/500\n",
      "10/10 [==============================] - 0s 3ms/step - loss: 6.4403 - mean_absolute_error: 6.4403\n",
      "Epoch 269/500\n",
      "10/10 [==============================] - 0s 3ms/step - loss: 6.0684 - mean_absolute_error: 6.0684\n",
      "Epoch 270/500\n",
      "10/10 [==============================] - 0s 3ms/step - loss: 4.4831 - mean_absolute_error: 4.4831\n",
      "Epoch 271/500\n",
      "10/10 [==============================] - 0s 3ms/step - loss: 4.3871 - mean_absolute_error: 4.3871\n",
      "Epoch 272/500\n",
      "10/10 [==============================] - 0s 3ms/step - loss: 4.6402 - mean_absolute_error: 4.6402\n",
      "Epoch 273/500\n",
      "10/10 [==============================] - 0s 3ms/step - loss: 3.1779 - mean_absolute_error: 3.1779\n",
      "Epoch 274/500\n",
      "10/10 [==============================] - 0s 3ms/step - loss: 2.1508 - mean_absolute_error: 2.1508\n",
      "Epoch 275/500\n",
      "10/10 [==============================] - 0s 3ms/step - loss: 3.0001 - mean_absolute_error: 3.0001\n",
      "Epoch 276/500\n",
      "10/10 [==============================] - 0s 3ms/step - loss: 3.3184 - mean_absolute_error: 3.3184\n",
      "Epoch 277/500\n",
      "10/10 [==============================] - 0s 3ms/step - loss: 3.6786 - mean_absolute_error: 3.6786\n",
      "Epoch 278/500\n",
      "10/10 [==============================] - 0s 3ms/step - loss: 6.7540 - mean_absolute_error: 6.7540\n",
      "Epoch 279/500\n",
      "10/10 [==============================] - 0s 3ms/step - loss: 3.4201 - mean_absolute_error: 3.4201\n",
      "Epoch 280/500\n",
      "10/10 [==============================] - 0s 3ms/step - loss: 2.6151 - mean_absolute_error: 2.6151\n",
      "Epoch 281/500\n",
      "10/10 [==============================] - 0s 3ms/step - loss: 4.3865 - mean_absolute_error: 4.3865\n",
      "Epoch 282/500\n",
      "10/10 [==============================] - 0s 3ms/step - loss: 7.6637 - mean_absolute_error: 7.6637\n",
      "Epoch 283/500\n",
      "10/10 [==============================] - 0s 3ms/step - loss: 2.4410 - mean_absolute_error: 2.4410\n",
      "Epoch 284/500\n",
      "10/10 [==============================] - 0s 4ms/step - loss: 1.4548 - mean_absolute_error: 1.4548\n",
      "Epoch 285/500\n",
      "10/10 [==============================] - 0s 3ms/step - loss: 1.4417 - mean_absolute_error: 1.4417\n",
      "Epoch 286/500\n",
      "10/10 [==============================] - 0s 3ms/step - loss: 2.3134 - mean_absolute_error: 2.3134\n",
      "Epoch 287/500\n",
      "10/10 [==============================] - 0s 3ms/step - loss: 4.2499 - mean_absolute_error: 4.2499\n",
      "Epoch 288/500\n",
      "10/10 [==============================] - 0s 3ms/step - loss: 4.8364 - mean_absolute_error: 4.8364\n",
      "Epoch 289/500\n",
      "10/10 [==============================] - 0s 3ms/step - loss: 6.5577 - mean_absolute_error: 6.5577\n",
      "Epoch 290/500\n",
      "10/10 [==============================] - 0s 3ms/step - loss: 5.8363 - mean_absolute_error: 5.8363\n",
      "Epoch 291/500\n",
      "10/10 [==============================] - 0s 3ms/step - loss: 6.7084 - mean_absolute_error: 6.7084\n",
      "Epoch 292/500\n",
      "10/10 [==============================] - 0s 4ms/step - loss: 4.1919 - mean_absolute_error: 4.1919\n",
      "Epoch 293/500\n",
      "10/10 [==============================] - 0s 3ms/step - loss: 0.7250 - mean_absolute_error: 0.7250\n",
      "Epoch 294/500\n",
      "10/10 [==============================] - 0s 3ms/step - loss: 2.3806 - mean_absolute_error: 2.3806\n",
      "Epoch 295/500\n",
      "10/10 [==============================] - 0s 3ms/step - loss: 0.8170 - mean_absolute_error: 0.8170\n",
      "Epoch 296/500\n",
      "10/10 [==============================] - 0s 3ms/step - loss: 2.8948 - mean_absolute_error: 2.8948\n",
      "Epoch 297/500\n",
      "10/10 [==============================] - 0s 3ms/step - loss: 4.0787 - mean_absolute_error: 4.0787\n",
      "Epoch 298/500\n",
      "10/10 [==============================] - 0s 3ms/step - loss: 5.5568 - mean_absolute_error: 5.5568\n",
      "Epoch 299/500\n",
      "10/10 [==============================] - 0s 3ms/step - loss: 5.2383 - mean_absolute_error: 5.2383\n",
      "Epoch 300/500\n",
      "10/10 [==============================] - 0s 3ms/step - loss: 4.0450 - mean_absolute_error: 4.0450\n",
      "Epoch 301/500\n",
      "10/10 [==============================] - 0s 3ms/step - loss: 4.3793 - mean_absolute_error: 4.3793\n",
      "Epoch 302/500\n",
      "10/10 [==============================] - 0s 3ms/step - loss: 5.4747 - mean_absolute_error: 5.4747\n",
      "Epoch 303/500\n",
      "10/10 [==============================] - 0s 3ms/step - loss: 1.9060 - mean_absolute_error: 1.9060\n",
      "Epoch 304/500\n",
      "10/10 [==============================] - 0s 3ms/step - loss: 1.4182 - mean_absolute_error: 1.4182\n",
      "Epoch 305/500\n",
      "10/10 [==============================] - 0s 3ms/step - loss: 2.2782 - mean_absolute_error: 2.2782\n",
      "Epoch 306/500\n",
      "10/10 [==============================] - 0s 3ms/step - loss: 4.2810 - mean_absolute_error: 4.2810\n",
      "Epoch 307/500\n",
      "10/10 [==============================] - 0s 3ms/step - loss: 1.8301 - mean_absolute_error: 1.8301\n",
      "Epoch 308/500\n",
      "10/10 [==============================] - 0s 4ms/step - loss: 3.2332 - mean_absolute_error: 3.2332\n",
      "Epoch 309/500\n",
      "10/10 [==============================] - 0s 3ms/step - loss: 1.8058 - mean_absolute_error: 1.8058\n",
      "Epoch 310/500\n",
      "10/10 [==============================] - 0s 3ms/step - loss: 3.6595 - mean_absolute_error: 3.6595\n",
      "Epoch 311/500\n",
      "10/10 [==============================] - 0s 3ms/step - loss: 2.2088 - mean_absolute_error: 2.2088\n",
      "Epoch 312/500\n",
      "10/10 [==============================] - 0s 3ms/step - loss: 1.0355 - mean_absolute_error: 1.0355\n",
      "Epoch 313/500\n",
      "10/10 [==============================] - 0s 3ms/step - loss: 3.2665 - mean_absolute_error: 3.2665\n",
      "Epoch 314/500\n",
      "10/10 [==============================] - 0s 5ms/step - loss: 2.7464 - mean_absolute_error: 2.7464\n",
      "Epoch 315/500\n",
      "10/10 [==============================] - 0s 3ms/step - loss: 2.6568 - mean_absolute_error: 2.6568\n",
      "Epoch 316/500\n",
      "10/10 [==============================] - 0s 3ms/step - loss: 1.4312 - mean_absolute_error: 1.4312\n",
      "Epoch 317/500\n",
      "10/10 [==============================] - 0s 3ms/step - loss: 3.4006 - mean_absolute_error: 3.4006\n",
      "Epoch 318/500\n",
      "10/10 [==============================] - 0s 3ms/step - loss: 2.3121 - mean_absolute_error: 2.3121\n",
      "Epoch 319/500\n",
      "10/10 [==============================] - 0s 3ms/step - loss: 6.3181 - mean_absolute_error: 6.3181\n",
      "Epoch 320/500\n",
      "10/10 [==============================] - 0s 3ms/step - loss: 6.7763 - mean_absolute_error: 6.7763\n",
      "Epoch 321/500\n",
      "10/10 [==============================] - 0s 3ms/step - loss: 3.9525 - mean_absolute_error: 3.9525\n",
      "Epoch 322/500\n",
      "10/10 [==============================] - 0s 4ms/step - loss: 4.6165 - mean_absolute_error: 4.6165\n",
      "Epoch 323/500\n",
      "10/10 [==============================] - 0s 3ms/step - loss: 4.9299 - mean_absolute_error: 4.9299\n",
      "Epoch 324/500\n",
      "10/10 [==============================] - 0s 3ms/step - loss: 3.1810 - mean_absolute_error: 3.1810\n",
      "Epoch 325/500\n",
      "10/10 [==============================] - 0s 3ms/step - loss: 4.6933 - mean_absolute_error: 4.6933\n",
      "Epoch 326/500\n",
      "10/10 [==============================] - 0s 4ms/step - loss: 3.2352 - mean_absolute_error: 3.2352\n",
      "Epoch 327/500\n",
      "10/10 [==============================] - 0s 3ms/step - loss: 1.8092 - mean_absolute_error: 1.8092\n",
      "Epoch 328/500\n",
      "10/10 [==============================] - 0s 3ms/step - loss: 2.5176 - mean_absolute_error: 2.5176\n",
      "Epoch 329/500\n",
      "10/10 [==============================] - 0s 3ms/step - loss: 1.5800 - mean_absolute_error: 1.5800\n",
      "Epoch 330/500\n",
      "10/10 [==============================] - 0s 3ms/step - loss: 4.2056 - mean_absolute_error: 4.2056\n",
      "Epoch 331/500\n",
      "10/10 [==============================] - 0s 3ms/step - loss: 2.3257 - mean_absolute_error: 2.3257\n",
      "Epoch 332/500\n",
      "10/10 [==============================] - 0s 4ms/step - loss: 2.8249 - mean_absolute_error: 2.8249\n",
      "Epoch 333/500\n",
      "10/10 [==============================] - 0s 3ms/step - loss: 4.6662 - mean_absolute_error: 4.6662\n",
      "Epoch 334/500\n",
      "10/10 [==============================] - 0s 3ms/step - loss: 2.8650 - mean_absolute_error: 2.8650\n",
      "Epoch 335/500\n",
      "10/10 [==============================] - 0s 3ms/step - loss: 2.2619 - mean_absolute_error: 2.2619\n",
      "Epoch 336/500\n",
      "10/10 [==============================] - 0s 3ms/step - loss: 0.6786 - mean_absolute_error: 0.6786\n",
      "Epoch 337/500\n",
      "10/10 [==============================] - 0s 3ms/step - loss: 1.7777 - mean_absolute_error: 1.7777\n",
      "Epoch 338/500\n",
      "10/10 [==============================] - 0s 4ms/step - loss: 0.9565 - mean_absolute_error: 0.9565\n",
      "Epoch 339/500\n",
      "10/10 [==============================] - 0s 4ms/step - loss: 3.0485 - mean_absolute_error: 3.0485\n",
      "Epoch 340/500\n",
      "10/10 [==============================] - 0s 4ms/step - loss: 2.4622 - mean_absolute_error: 2.4622\n",
      "Epoch 341/500\n",
      "10/10 [==============================] - 0s 4ms/step - loss: 2.6454 - mean_absolute_error: 2.6454\n",
      "Epoch 342/500\n",
      "10/10 [==============================] - 0s 3ms/step - loss: 2.5435 - mean_absolute_error: 2.5435\n",
      "Epoch 343/500\n",
      "10/10 [==============================] - 0s 3ms/step - loss: 1.4078 - mean_absolute_error: 1.4078\n",
      "Epoch 344/500\n",
      "10/10 [==============================] - 0s 3ms/step - loss: 2.3886 - mean_absolute_error: 2.3886\n",
      "Epoch 345/500\n",
      "10/10 [==============================] - 0s 3ms/step - loss: 3.8904 - mean_absolute_error: 3.8904\n",
      "Epoch 346/500\n",
      "10/10 [==============================] - 0s 3ms/step - loss: 5.0660 - mean_absolute_error: 5.0660\n",
      "Epoch 347/500\n",
      "10/10 [==============================] - 0s 3ms/step - loss: 6.1631 - mean_absolute_error: 6.1631\n",
      "Epoch 348/500\n",
      "10/10 [==============================] - 0s 3ms/step - loss: 6.2236 - mean_absolute_error: 6.2236\n",
      "Epoch 349/500\n",
      "10/10 [==============================] - 0s 4ms/step - loss: 2.6368 - mean_absolute_error: 2.6368\n",
      "Epoch 350/500\n",
      "10/10 [==============================] - 0s 3ms/step - loss: 4.2131 - mean_absolute_error: 4.2131\n",
      "Epoch 351/500\n",
      "10/10 [==============================] - 0s 3ms/step - loss: 4.0019 - mean_absolute_error: 4.0019\n",
      "Epoch 352/500\n",
      "10/10 [==============================] - 0s 3ms/step - loss: 3.4069 - mean_absolute_error: 3.4069\n",
      "Epoch 353/500\n",
      "10/10 [==============================] - 0s 4ms/step - loss: 1.4943 - mean_absolute_error: 1.4943\n",
      "Epoch 354/500\n",
      "10/10 [==============================] - 0s 3ms/step - loss: 2.0277 - mean_absolute_error: 2.0277\n",
      "Epoch 355/500\n",
      "10/10 [==============================] - 0s 3ms/step - loss: 1.4317 - mean_absolute_error: 1.4317\n",
      "Epoch 356/500\n",
      "10/10 [==============================] - 0s 4ms/step - loss: 4.1096 - mean_absolute_error: 4.1096\n",
      "Epoch 357/500\n",
      "10/10 [==============================] - 0s 3ms/step - loss: 4.2257 - mean_absolute_error: 4.2257\n",
      "Epoch 358/500\n",
      "10/10 [==============================] - 0s 3ms/step - loss: 4.6512 - mean_absolute_error: 4.6512\n",
      "Epoch 359/500\n",
      "10/10 [==============================] - 0s 3ms/step - loss: 1.3923 - mean_absolute_error: 1.3923\n",
      "Epoch 360/500\n",
      "10/10 [==============================] - 0s 3ms/step - loss: 4.4172 - mean_absolute_error: 4.4172\n",
      "Epoch 361/500\n",
      "10/10 [==============================] - 0s 3ms/step - loss: 1.5358 - mean_absolute_error: 1.5358\n",
      "Epoch 362/500\n",
      "10/10 [==============================] - 0s 3ms/step - loss: 2.2957 - mean_absolute_error: 2.2957\n",
      "Epoch 363/500\n",
      "10/10 [==============================] - 0s 3ms/step - loss: 2.7634 - mean_absolute_error: 2.7634\n",
      "Epoch 364/500\n",
      "10/10 [==============================] - 0s 5ms/step - loss: 3.9668 - mean_absolute_error: 3.9668\n",
      "Epoch 365/500\n",
      "10/10 [==============================] - 0s 4ms/step - loss: 4.1585 - mean_absolute_error: 4.1585\n",
      "Epoch 366/500\n",
      "10/10 [==============================] - 0s 3ms/step - loss: 5.9683 - mean_absolute_error: 5.9683\n",
      "Epoch 367/500\n",
      "10/10 [==============================] - 0s 4ms/step - loss: 4.2925 - mean_absolute_error: 4.2925\n",
      "Epoch 368/500\n",
      "10/10 [==============================] - 0s 3ms/step - loss: 1.4287 - mean_absolute_error: 1.4287\n",
      "Epoch 369/500\n",
      "10/10 [==============================] - 0s 3ms/step - loss: 1.4101 - mean_absolute_error: 1.4101\n",
      "Epoch 370/500\n",
      "10/10 [==============================] - 0s 3ms/step - loss: 4.6713 - mean_absolute_error: 4.6713\n",
      "Epoch 371/500\n",
      "10/10 [==============================] - 0s 3ms/step - loss: 2.1424 - mean_absolute_error: 2.1424\n",
      "Epoch 372/500\n",
      "10/10 [==============================] - 0s 3ms/step - loss: 1.5075 - mean_absolute_error: 1.5075\n",
      "Epoch 373/500\n",
      "10/10 [==============================] - 0s 3ms/step - loss: 2.2162 - mean_absolute_error: 2.2162\n",
      "Epoch 374/500\n",
      "10/10 [==============================] - 0s 3ms/step - loss: 3.9488 - mean_absolute_error: 3.9488\n",
      "Epoch 375/500\n",
      "10/10 [==============================] - 0s 3ms/step - loss: 3.5446 - mean_absolute_error: 3.5446\n",
      "Epoch 376/500\n",
      "10/10 [==============================] - 0s 3ms/step - loss: 1.9284 - mean_absolute_error: 1.9284\n",
      "Epoch 377/500\n",
      "10/10 [==============================] - 0s 3ms/step - loss: 1.4007 - mean_absolute_error: 1.4007\n",
      "Epoch 378/500\n",
      "10/10 [==============================] - 0s 3ms/step - loss: 1.5331 - mean_absolute_error: 1.5331\n",
      "Epoch 379/500\n",
      "10/10 [==============================] - 0s 4ms/step - loss: 3.1236 - mean_absolute_error: 3.1236\n",
      "Epoch 380/500\n",
      "10/10 [==============================] - 0s 4ms/step - loss: 1.8463 - mean_absolute_error: 1.8463\n",
      "Epoch 381/500\n",
      "10/10 [==============================] - 0s 3ms/step - loss: 2.7540 - mean_absolute_error: 2.7540\n",
      "Epoch 382/500\n",
      "10/10 [==============================] - 0s 3ms/step - loss: 5.9264 - mean_absolute_error: 5.9264\n",
      "Epoch 383/500\n",
      "10/10 [==============================] - 0s 3ms/step - loss: 3.7839 - mean_absolute_error: 3.7839\n",
      "Epoch 384/500\n",
      "10/10 [==============================] - 0s 3ms/step - loss: 2.0168 - mean_absolute_error: 2.0168\n",
      "Epoch 385/500\n",
      "10/10 [==============================] - 0s 3ms/step - loss: 4.2348 - mean_absolute_error: 4.2348\n",
      "Epoch 386/500\n",
      "10/10 [==============================] - 0s 3ms/step - loss: 4.1040 - mean_absolute_error: 4.1040\n",
      "Epoch 387/500\n",
      "10/10 [==============================] - 0s 3ms/step - loss: 1.5945 - mean_absolute_error: 1.5945\n",
      "Epoch 388/500\n",
      "10/10 [==============================] - 0s 3ms/step - loss: 4.5121 - mean_absolute_error: 4.5121\n",
      "Epoch 389/500\n",
      "10/10 [==============================] - 0s 3ms/step - loss: 3.5868 - mean_absolute_error: 3.5868\n",
      "Epoch 390/500\n",
      "10/10 [==============================] - 0s 3ms/step - loss: 2.4241 - mean_absolute_error: 2.4241\n",
      "Epoch 391/500\n",
      "10/10 [==============================] - 0s 3ms/step - loss: 1.2931 - mean_absolute_error: 1.2931\n",
      "Epoch 392/500\n",
      "10/10 [==============================] - 0s 3ms/step - loss: 1.2655 - mean_absolute_error: 1.2655\n",
      "Epoch 393/500\n",
      "10/10 [==============================] - 0s 3ms/step - loss: 1.6418 - mean_absolute_error: 1.6418\n",
      "Epoch 394/500\n",
      "10/10 [==============================] - 0s 3ms/step - loss: 2.1215 - mean_absolute_error: 2.1215\n",
      "Epoch 395/500\n",
      "10/10 [==============================] - 0s 3ms/step - loss: 1.3787 - mean_absolute_error: 1.3787\n",
      "Epoch 396/500\n",
      "10/10 [==============================] - 0s 3ms/step - loss: 1.7308 - mean_absolute_error: 1.7308\n",
      "Epoch 397/500\n",
      "10/10 [==============================] - 0s 3ms/step - loss: 4.2609 - mean_absolute_error: 4.2609\n",
      "Epoch 398/500\n",
      "10/10 [==============================] - 0s 3ms/step - loss: 6.2398 - mean_absolute_error: 6.2398\n",
      "Epoch 399/500\n",
      "10/10 [==============================] - 0s 3ms/step - loss: 4.0171 - mean_absolute_error: 4.0171\n",
      "Epoch 400/500\n",
      "10/10 [==============================] - 0s 3ms/step - loss: 2.3551 - mean_absolute_error: 2.3551\n",
      "Epoch 401/500\n",
      "10/10 [==============================] - 0s 3ms/step - loss: 1.8195 - mean_absolute_error: 1.8195\n",
      "Epoch 402/500\n",
      "10/10 [==============================] - 0s 3ms/step - loss: 2.8985 - mean_absolute_error: 2.8985\n",
      "Epoch 403/500\n",
      "10/10 [==============================] - 0s 3ms/step - loss: 7.0412 - mean_absolute_error: 7.0412\n",
      "Epoch 404/500\n",
      "10/10 [==============================] - 0s 3ms/step - loss: 2.5354 - mean_absolute_error: 2.5354\n",
      "Epoch 405/500\n",
      "10/10 [==============================] - 0s 3ms/step - loss: 0.7445 - mean_absolute_error: 0.7445\n",
      "Epoch 406/500\n",
      "10/10 [==============================] - 0s 3ms/step - loss: 1.3538 - mean_absolute_error: 1.3538\n",
      "Epoch 407/500\n",
      "10/10 [==============================] - 0s 3ms/step - loss: 3.3867 - mean_absolute_error: 3.3867\n",
      "Epoch 408/500\n",
      "10/10 [==============================] - 0s 3ms/step - loss: 3.3841 - mean_absolute_error: 3.3841\n",
      "Epoch 409/500\n",
      "10/10 [==============================] - 0s 3ms/step - loss: 2.6137 - mean_absolute_error: 2.6137\n",
      "Epoch 410/500\n",
      "10/10 [==============================] - 0s 4ms/step - loss: 4.1178 - mean_absolute_error: 4.1178\n",
      "Epoch 411/500\n",
      "10/10 [==============================] - 0s 4ms/step - loss: 2.1038 - mean_absolute_error: 2.1038\n",
      "Epoch 412/500\n",
      "10/10 [==============================] - 0s 4ms/step - loss: 4.3571 - mean_absolute_error: 4.3571\n",
      "Epoch 413/500\n",
      "10/10 [==============================] - 0s 4ms/step - loss: 9.8400 - mean_absolute_error: 9.8400\n",
      "Epoch 414/500\n",
      "10/10 [==============================] - 0s 4ms/step - loss: 6.0362 - mean_absolute_error: 6.0362\n",
      "Epoch 415/500\n",
      "10/10 [==============================] - 0s 5ms/step - loss: 2.8468 - mean_absolute_error: 2.8468\n",
      "Epoch 416/500\n",
      "10/10 [==============================] - 0s 4ms/step - loss: 2.2824 - mean_absolute_error: 2.2824\n",
      "Epoch 417/500\n",
      "10/10 [==============================] - 0s 4ms/step - loss: 6.1982 - mean_absolute_error: 6.1982\n",
      "Epoch 418/500\n",
      "10/10 [==============================] - 0s 4ms/step - loss: 5.8789 - mean_absolute_error: 5.8789\n",
      "Epoch 419/500\n",
      "10/10 [==============================] - 0s 4ms/step - loss: 2.4081 - mean_absolute_error: 2.4081\n",
      "Epoch 420/500\n",
      "10/10 [==============================] - 0s 4ms/step - loss: 2.6715 - mean_absolute_error: 2.6715\n",
      "Epoch 421/500\n",
      "10/10 [==============================] - 0s 4ms/step - loss: 2.2491 - mean_absolute_error: 2.2491\n",
      "Epoch 422/500\n",
      "10/10 [==============================] - 0s 5ms/step - loss: 0.9235 - mean_absolute_error: 0.9235\n",
      "Epoch 423/500\n",
      "10/10 [==============================] - 0s 4ms/step - loss: 1.7753 - mean_absolute_error: 1.7753\n",
      "Epoch 424/500\n",
      "10/10 [==============================] - 0s 4ms/step - loss: 2.9101 - mean_absolute_error: 2.9101\n",
      "Epoch 425/500\n",
      "10/10 [==============================] - 0s 4ms/step - loss: 2.2076 - mean_absolute_error: 2.2076\n",
      "Epoch 426/500\n",
      "10/10 [==============================] - 0s 5ms/step - loss: 2.7777 - mean_absolute_error: 2.7777\n",
      "Epoch 427/500\n",
      "10/10 [==============================] - 0s 5ms/step - loss: 2.7508 - mean_absolute_error: 2.7508\n",
      "Epoch 428/500\n",
      "10/10 [==============================] - 0s 5ms/step - loss: 3.4564 - mean_absolute_error: 3.4564\n",
      "Epoch 429/500\n",
      "10/10 [==============================] - 0s 5ms/step - loss: 3.6617 - mean_absolute_error: 3.6617\n",
      "Epoch 430/500\n",
      "10/10 [==============================] - 0s 4ms/step - loss: 3.5881 - mean_absolute_error: 3.5881\n",
      "Epoch 431/500\n",
      "10/10 [==============================] - 0s 5ms/step - loss: 1.9163 - mean_absolute_error: 1.9163\n",
      "Epoch 432/500\n",
      "10/10 [==============================] - 0s 4ms/step - loss: 4.3840 - mean_absolute_error: 4.3840\n",
      "Epoch 433/500\n",
      "10/10 [==============================] - 0s 5ms/step - loss: 6.1485 - mean_absolute_error: 6.1485\n",
      "Epoch 434/500\n",
      "10/10 [==============================] - 0s 4ms/step - loss: 1.9271 - mean_absolute_error: 1.9271\n",
      "Epoch 435/500\n",
      "10/10 [==============================] - 0s 5ms/step - loss: 4.1448 - mean_absolute_error: 4.1448\n",
      "Epoch 436/500\n",
      "10/10 [==============================] - 0s 4ms/step - loss: 3.7274 - mean_absolute_error: 3.7274\n",
      "Epoch 437/500\n",
      "10/10 [==============================] - 0s 4ms/step - loss: 3.8856 - mean_absolute_error: 3.8856\n",
      "Epoch 438/500\n",
      "10/10 [==============================] - 0s 4ms/step - loss: 7.8057 - mean_absolute_error: 7.8057\n",
      "Epoch 439/500\n",
      "10/10 [==============================] - 0s 4ms/step - loss: 8.1796 - mean_absolute_error: 8.1796\n",
      "Epoch 440/500\n",
      "10/10 [==============================] - 0s 3ms/step - loss: 7.1752 - mean_absolute_error: 7.1752\n",
      "Epoch 441/500\n",
      "10/10 [==============================] - 0s 4ms/step - loss: 4.5622 - mean_absolute_error: 4.5622\n",
      "Epoch 442/500\n",
      "10/10 [==============================] - 0s 4ms/step - loss: 2.5765 - mean_absolute_error: 2.5765\n",
      "Epoch 443/500\n",
      "10/10 [==============================] - 0s 4ms/step - loss: 2.0304 - mean_absolute_error: 2.0304\n",
      "Epoch 444/500\n",
      "10/10 [==============================] - 0s 4ms/step - loss: 2.8799 - mean_absolute_error: 2.8799\n",
      "Epoch 445/500\n",
      "10/10 [==============================] - 0s 4ms/step - loss: 4.0525 - mean_absolute_error: 4.0525\n",
      "Epoch 446/500\n",
      "10/10 [==============================] - 0s 4ms/step - loss: 1.5905 - mean_absolute_error: 1.5905\n",
      "Epoch 447/500\n",
      "10/10 [==============================] - 0s 5ms/step - loss: 2.4654 - mean_absolute_error: 2.4654\n",
      "Epoch 448/500\n",
      "10/10 [==============================] - 0s 5ms/step - loss: 1.4542 - mean_absolute_error: 1.4542\n",
      "Epoch 449/500\n",
      "10/10 [==============================] - 0s 4ms/step - loss: 2.1513 - mean_absolute_error: 2.1513\n",
      "Epoch 450/500\n",
      "10/10 [==============================] - 0s 4ms/step - loss: 3.5762 - mean_absolute_error: 3.5762\n",
      "Epoch 451/500\n",
      "10/10 [==============================] - 0s 4ms/step - loss: 2.2387 - mean_absolute_error: 2.2387\n",
      "Epoch 452/500\n",
      "10/10 [==============================] - 0s 4ms/step - loss: 3.5064 - mean_absolute_error: 3.5064\n",
      "Epoch 453/500\n",
      "10/10 [==============================] - 0s 4ms/step - loss: 1.4220 - mean_absolute_error: 1.4220\n",
      "Epoch 454/500\n",
      "10/10 [==============================] - 0s 4ms/step - loss: 1.8184 - mean_absolute_error: 1.8184\n",
      "Epoch 455/500\n",
      "10/10 [==============================] - 0s 4ms/step - loss: 2.4238 - mean_absolute_error: 2.4238\n",
      "Epoch 456/500\n",
      "10/10 [==============================] - 0s 4ms/step - loss: 2.6707 - mean_absolute_error: 2.6707\n",
      "Epoch 457/500\n",
      "10/10 [==============================] - 0s 4ms/step - loss: 3.5362 - mean_absolute_error: 3.5362\n",
      "Epoch 458/500\n",
      "10/10 [==============================] - 0s 4ms/step - loss: 4.5083 - mean_absolute_error: 4.5083\n",
      "Epoch 459/500\n",
      "10/10 [==============================] - 0s 4ms/step - loss: 2.3396 - mean_absolute_error: 2.3396\n",
      "Epoch 460/500\n",
      "10/10 [==============================] - 0s 4ms/step - loss: 2.9228 - mean_absolute_error: 2.9228\n",
      "Epoch 461/500\n",
      "10/10 [==============================] - 0s 4ms/step - loss: 4.3716 - mean_absolute_error: 4.3716\n",
      "Epoch 462/500\n",
      "10/10 [==============================] - 0s 4ms/step - loss: 1.8086 - mean_absolute_error: 1.8086\n",
      "Epoch 463/500\n",
      "10/10 [==============================] - 0s 4ms/step - loss: 0.7354 - mean_absolute_error: 0.7354\n",
      "Epoch 464/500\n",
      "10/10 [==============================] - 0s 4ms/step - loss: 1.4973 - mean_absolute_error: 1.4973\n",
      "Epoch 465/500\n",
      "10/10 [==============================] - 0s 3ms/step - loss: 1.3982 - mean_absolute_error: 1.3982\n",
      "Epoch 466/500\n",
      "10/10 [==============================] - 0s 4ms/step - loss: 1.7633 - mean_absolute_error: 1.7633\n",
      "Epoch 467/500\n",
      "10/10 [==============================] - 0s 5ms/step - loss: 2.7620 - mean_absolute_error: 2.7620\n",
      "Epoch 468/500\n",
      "10/10 [==============================] - 0s 4ms/step - loss: 4.1407 - mean_absolute_error: 4.1407\n",
      "Epoch 469/500\n",
      "10/10 [==============================] - 0s 5ms/step - loss: 3.9706 - mean_absolute_error: 3.9706\n",
      "Epoch 470/500\n",
      "10/10 [==============================] - 0s 4ms/step - loss: 1.3441 - mean_absolute_error: 1.3441\n",
      "Epoch 471/500\n",
      "10/10 [==============================] - 0s 4ms/step - loss: 1.6091 - mean_absolute_error: 1.6091\n",
      "Epoch 472/500\n",
      "10/10 [==============================] - 0s 4ms/step - loss: 5.0377 - mean_absolute_error: 5.0377\n",
      "Epoch 473/500\n",
      "10/10 [==============================] - 0s 4ms/step - loss: 9.7130 - mean_absolute_error: 9.7130\n",
      "Epoch 474/500\n",
      "10/10 [==============================] - 0s 4ms/step - loss: 6.0406 - mean_absolute_error: 6.0406\n",
      "Epoch 475/500\n",
      "10/10 [==============================] - 0s 4ms/step - loss: 6.4624 - mean_absolute_error: 6.4624\n",
      "Epoch 476/500\n",
      "10/10 [==============================] - 0s 4ms/step - loss: 3.4412 - mean_absolute_error: 3.4412\n",
      "Epoch 477/500\n",
      "10/10 [==============================] - 0s 4ms/step - loss: 1.9391 - mean_absolute_error: 1.9391\n",
      "Epoch 478/500\n",
      "10/10 [==============================] - 0s 4ms/step - loss: 2.3297 - mean_absolute_error: 2.3297\n",
      "Epoch 479/500\n",
      "10/10 [==============================] - 0s 4ms/step - loss: 0.7386 - mean_absolute_error: 0.7386\n",
      "Epoch 480/500\n",
      "10/10 [==============================] - 0s 4ms/step - loss: 2.0888 - mean_absolute_error: 2.0888\n",
      "Epoch 481/500\n",
      "10/10 [==============================] - 0s 4ms/step - loss: 4.0510 - mean_absolute_error: 4.0510\n",
      "Epoch 482/500\n",
      "10/10 [==============================] - 0s 4ms/step - loss: 4.2735 - mean_absolute_error: 4.2735\n",
      "Epoch 483/500\n",
      "10/10 [==============================] - 0s 4ms/step - loss: 2.1986 - mean_absolute_error: 2.1986\n",
      "Epoch 484/500\n",
      "10/10 [==============================] - 0s 4ms/step - loss: 3.4498 - mean_absolute_error: 3.4498\n",
      "Epoch 485/500\n",
      "10/10 [==============================] - 0s 4ms/step - loss: 6.6772 - mean_absolute_error: 6.6772\n",
      "Epoch 486/500\n",
      "10/10 [==============================] - 0s 4ms/step - loss: 6.3258 - mean_absolute_error: 6.3258\n",
      "Epoch 487/500\n",
      "10/10 [==============================] - 0s 4ms/step - loss: 5.5195 - mean_absolute_error: 5.5195\n",
      "Epoch 488/500\n",
      "10/10 [==============================] - 0s 4ms/step - loss: 6.5051 - mean_absolute_error: 6.5051\n",
      "Epoch 489/500\n",
      "10/10 [==============================] - 0s 4ms/step - loss: 3.3612 - mean_absolute_error: 3.3612\n",
      "Epoch 490/500\n",
      "10/10 [==============================] - 0s 5ms/step - loss: 1.4616 - mean_absolute_error: 1.4616\n",
      "Epoch 491/500\n",
      "10/10 [==============================] - 0s 5ms/step - loss: 1.7148 - mean_absolute_error: 1.7148\n",
      "Epoch 492/500\n",
      "10/10 [==============================] - 0s 4ms/step - loss: 2.2594 - mean_absolute_error: 2.2594\n",
      "Epoch 493/500\n",
      "10/10 [==============================] - 0s 4ms/step - loss: 2.6068 - mean_absolute_error: 2.6068\n",
      "Epoch 494/500\n",
      "10/10 [==============================] - 0s 4ms/step - loss: 5.7923 - mean_absolute_error: 5.7923\n",
      "Epoch 495/500\n",
      "10/10 [==============================] - 0s 4ms/step - loss: 5.5437 - mean_absolute_error: 5.5437\n",
      "Epoch 496/500\n",
      "10/10 [==============================] - 0s 4ms/step - loss: 2.5305 - mean_absolute_error: 2.5305\n",
      "Epoch 497/500\n",
      "10/10 [==============================] - 0s 4ms/step - loss: 1.3635 - mean_absolute_error: 1.3635\n",
      "Epoch 498/500\n",
      "10/10 [==============================] - 0s 5ms/step - loss: 2.5695 - mean_absolute_error: 2.5695\n",
      "Epoch 499/500\n",
      "10/10 [==============================] - 0s 4ms/step - loss: 1.3681 - mean_absolute_error: 1.3681\n",
      "Epoch 500/500\n",
      "10/10 [==============================] - 0s 3ms/step - loss: 2.2419 - mean_absolute_error: 2.2419\n"
     ]
    },
    {
     "data": {
      "text/plain": [
       "<keras.callbacks.History at 0x7f3f7e0c8280>"
      ]
     },
     "execution_count": 22,
     "metadata": {},
     "output_type": "execute_result"
    }
   ],
   "source": [
    "# making the data set larger\n",
    "\n",
    "# getting the training data set larger\n",
    "\n",
    "# features\n",
    "x = np.arange(-1000,1000,5)\n",
    "\n",
    "# labels\n",
    "y = 3*x + 2\n",
    "\n",
    "\n",
    "# splitting the data into training and test set\n",
    "\n",
    "from sklearn.model_selection import train_test_split\n",
    "\n",
    "x_train, x_test, y_train, y_test = train_test_split(x,y,test_size=0.2,random_state=42)\n",
    "\n",
    "\n",
    "# plotting the training and test data\n",
    "\n",
    "fig,ax = plt.subplots(1,2,dpi=150)\n",
    "sns.scatterplot(x = x_train,y = y_train,color = 'blue', label='Training Data',ax=ax[0])\n",
    "sns.scatterplot(x = x_test,y= y_test, color = 'red', label = 'Test Data',ax=ax[1])\n",
    "\n",
    "plt.tight_layout(pad=2)\n",
    "plt.show()\n",
    "\n",
    "\n",
    "# reshaping x_train and x_test for compatibility to ensure 2D shape with apt number of features\n",
    "x_train = x_train.reshape(-1,1)\n",
    "x_test = x_test.reshape(-1,1)\n",
    "\n",
    "# preparing the inputs and outputs\n",
    "x_train = tf.constant(tf.cast(x_train,dtype=tf.float32))\n",
    "y_train = tf.constant(tf.cast(y_train,dtype=tf.float32))\n",
    "x_test = tf.constant(tf.cast(x_test,dtype=tf.float32))\n",
    "y_test = tf.constant(tf.cast(y_test,dtype=tf.float32))\n",
    "\n",
    "\n",
    "# building the model\n",
    "model = tf.keras.Sequential()\n",
    "model.add(tf.keras.layers.Dense(350,activation=None))\n",
    "model.add(tf.keras.layers.Dense(1))\n",
    "\n",
    "# compiling\n",
    "model.compile(loss=tf.keras.losses.MeanAbsoluteError(),\n",
    "              optimizer=tf.keras.optimizers.Adam(learning_rate=0.001),\n",
    "              metrics=[tf.keras.metrics.MeanAbsoluteError()])\n",
    "\n",
    "# fitting with training_data\n",
    "model.fit(x_train,y_train,epochs=500)"
   ]
  },
  {
   "cell_type": "code",
   "execution_count": null,
   "metadata": {
    "colab": {
     "base_uri": "https://localhost:8080/"
    },
    "id": "UgCgYpMCsT3H",
    "outputId": "f47e21a6-3639-4814-c1db-e6763e1b29fd"
   },
   "outputs": [
    {
     "name": "stdout",
     "output_type": "stream",
     "text": [
      "1/1 [==============================] - 0s 151ms/step\n"
     ]
    },
    {
     "data": {
      "text/plain": [
       "array([[29.109766],\n",
       "       [32.11846 ],\n",
       "       [35.127163]], dtype=float32)"
      ]
     },
     "execution_count": 6,
     "metadata": {},
     "output_type": "execute_result"
    }
   ],
   "source": [
    "model.predict([9,10,11])"
   ]
  },
  {
   "cell_type": "markdown",
   "metadata": {
    "id": "LhHUlnA7MSuj"
   },
   "source": []
  },
  {
   "cell_type": "code",
   "execution_count": null,
   "metadata": {
    "colab": {
     "base_uri": "https://localhost:8080/"
    },
    "id": "P8svU4umNb0o",
    "outputId": "a5ad63ff-7366-4e4a-bc31-14b87ced3e64"
   },
   "outputs": [
    {
     "name": "stdout",
     "output_type": "stream",
     "text": [
      "Model: \"sequential_1\"\n",
      "_________________________________________________________________\n",
      " Layer (type)                Output Shape              Param #   \n",
      "=================================================================\n",
      " dense_2 (Dense)             (32, 350)                 700       \n",
      "                                                                 \n",
      " dense_3 (Dense)             (32, 1)                   351       \n",
      "                                                                 \n",
      "=================================================================\n",
      "Total params: 1,051\n",
      "Trainable params: 1,051\n",
      "Non-trainable params: 0\n",
      "_________________________________________________________________\n"
     ]
    }
   ],
   "source": [
    "model.summary()"
   ]
  },
  {
   "cell_type": "markdown",
   "metadata": {
    "id": "XxWx1luZNb2A"
   },
   "source": [
    "# Auto Build model(letting the model do the fitting on its own)"
   ]
  },
  {
   "cell_type": "code",
   "execution_count": null,
   "metadata": {
    "id": "XkNFAL0FNqeE"
   },
   "outputs": [],
   "source": [
    "tf.random.set_seed(42)\n",
    "\n",
    "# setting the input shapes and neural layers\n",
    "model = tf.keras.Sequential()\n",
    "model.add(tf.keras.layers.Dense(1,input_shape=[1])) # input_shape is determined by # of inputs and # of outputs\n",
    "\n",
    "# compiling\n",
    "model.compile(loss=tf.keras.losses.MeanAbsoluteError(),\n",
    "              optimizer=tf.keras.optimizers.SGD(),\n",
    "              metrics=[tf.keras.metrics.MeanAbsoluteError()])\n",
    "\n"
   ]
  },
  {
   "cell_type": "code",
   "execution_count": null,
   "metadata": {
    "colab": {
     "base_uri": "https://localhost:8080/"
    },
    "id": "H-JNCgctPH2M",
    "outputId": "e9010044-edb1-4c8d-9036-d1750738b063"
   },
   "outputs": [
    {
     "name": "stdout",
     "output_type": "stream",
     "text": [
      "Model: \"sequential_2\"\n",
      "_________________________________________________________________\n",
      " Layer (type)                Output Shape              Param #   \n",
      "=================================================================\n",
      " dense_4 (Dense)             (None, 1)                 2         \n",
      "                                                                 \n",
      "=================================================================\n",
      "Total params: 2\n",
      "Trainable params: 2\n",
      "Non-trainable params: 0\n",
      "_________________________________________________________________\n"
     ]
    }
   ],
   "source": [
    "model.summary()"
   ]
  },
  {
   "cell_type": "markdown",
   "metadata": {
    "id": "TbfMtqGlxClw"
   },
   "source": [
    "**Total Params**: total number of parameters in the model.\n",
    "\n",
    "**Trainable params**: these are the parameters(patterns) that the model can be updated on as the model trains.\n",
    "\n",
    "**Non-trainable params**: these parameters aren't updated during training.(this is typical when you bring in already learned patterns or bring in parameters from other models during transfer learning)."
   ]
  },
  {
   "cell_type": "markdown",
   "metadata": {
    "id": "KhKMsLDAgE0i"
   },
   "source": [
    "# input neurons:\n",
    "\n",
    "1. this is the number of features our data-set have. each feature is assigned a neuron.\n",
    "2. for an image the number of feature is determined by the dimension of the picture, i.e for 720 * 360 = 259200 feautures/input neurons.\n",
    "\n",
    "\n",
    "# output neurons:\n",
    "\n",
    "1. one neuron is assigned for each output.\n",
    "\n",
    "# General Strategy:\n",
    "* first overfit then drop the redundant neural layers(Andrej karpathy strategy).\n",
    "\n",
    "# in compilation\n",
    "\n",
    "# loss function:\n",
    "\n",
    "Regression: MeanSquaredError() would serve better in most cases. if there are many outliers in the data use MeanAbsoluteError().\n",
    "\n",
    "classification: use CrossEntropy()\n",
    "\n",
    "# batch size optimisation:\n",
    "\n",
    "Batch size: between 2 and 32 batches are better according to Masters and Luschi.start smaller and slowly increase the size as the data gets more complex. keep on eye on best fit.\n",
    "\n",
    "\n",
    "# learning_rate in optimizer:\n",
    "\n",
    "learning_rate: start with something like 10^-6 and slowly increase it until the model is optimised to produce the least error.\n",
    "\n",
    "# momentum in SGD():\n",
    "\n",
    "momentum: start with a number closer to 1 like 0.9 and slowly increase it to one 0.95,0.99,0.99999 etc. until the model is maximally optimised.\n",
    "\n",
    "# some strategies:\n",
    "\n",
    "**to combat overfitting** : use RReLU\n",
    "**to reduce latency at runtime**: use leaky ReLU\n",
    "**for massive training sets**: use PReLU\n",
    "**for fast inference times**: leaky ReLU\n",
    "**if the network doesn't self normalize**: ELU\n",
    "**for the overall robust activation function**: SELU\n",
    "\n",
    "\n",
    "\n",
    "\n",
    "\n"
   ]
  },
  {
   "cell_type": "code",
   "execution_count": null,
   "metadata": {
    "colab": {
     "base_uri": "https://localhost:8080/"
    },
    "id": "UiKBuRlvzqcO",
    "outputId": "ba031de4-6205-4e3a-ae7d-962e1fc45d57"
   },
   "outputs": [
    {
     "data": {
      "text/plain": [
       "<keras.callbacks.History at 0x7f3f82fbdf30>"
      ]
     },
     "execution_count": 9,
     "metadata": {},
     "output_type": "execute_result"
    }
   ],
   "source": [
    "model.fit(x_train,y_train,epochs=200,verbose= 0)"
   ]
  },
  {
   "cell_type": "code",
   "execution_count": null,
   "metadata": {
    "colab": {
     "base_uri": "https://localhost:8080/"
    },
    "id": "3TkF-uYh1_2Z",
    "outputId": "07584f07-8d9e-4f64-e1d0-b494face1af1"
   },
   "outputs": [
    {
     "name": "stdout",
     "output_type": "stream",
     "text": [
      "1/1 [==============================] - 0s 82ms/step\n"
     ]
    },
    {
     "data": {
      "text/plain": [
       "array([[-15.933151],\n",
       "       [-17.728918],\n",
       "       [-19.524685]], dtype=float32)"
      ]
     },
     "execution_count": 10,
     "metadata": {},
     "output_type": "execute_result"
    }
   ],
   "source": [
    "model.predict([9,10,11])"
   ]
  },
  {
   "cell_type": "code",
   "execution_count": null,
   "metadata": {
    "id": "mj7UuGUbbecU"
   },
   "outputs": [],
   "source": []
  },
  {
   "cell_type": "code",
   "execution_count": null,
   "metadata": {
    "colab": {
     "base_uri": "https://localhost:8080/",
     "height": 201
    },
    "id": "6kwWhy-CYPqu",
    "outputId": "de182497-125b-49fb-d899-a789317ec793"
   },
   "outputs": [
    {
     "data": {
      "image/png": "[encoded data removed]",
      "text/plain": [
       "<IPython.core.display.Image object>"
      ]
     },
     "execution_count": 11,
     "metadata": {},
     "output_type": "execute_result"
    }
   ],
   "source": [
    "from tensorflow.keras.utils import plot_model\n",
    "\n",
    "plot_model(model=model,show_shapes=True)"
   ]
  },
  {
   "cell_type": "code",
   "execution_count": null,
   "metadata": {
    "colab": {
     "base_uri": "https://localhost:8080/"
    },
    "id": "QAQY421DY-Zx",
    "outputId": "84ef9055-995b-4aa4-e18f-7d478cd28650"
   },
   "outputs": [
    {
     "name": "stdout",
     "output_type": "stream",
     "text": [
      "Help on function plot_model in module keras.utils.vis_utils:\n",
      "\n",
      "plot_model(model, to_file='model.png', show_shapes=False, show_dtype=False, show_layer_names=True, rankdir='TB', expand_nested=False, dpi=96, layer_range=None, show_layer_activations=False, show_trainable=False)\n",
      "    Converts a Keras model to dot format and save to a file.\n",
      "    \n",
      "    Example:\n",
      "    \n",
      "    ```python\n",
      "    input = tf.keras.Input(shape=(100,), dtype='int32', name='input')\n",
      "    x = tf.keras.layers.Embedding(\n",
      "        output_dim=512, input_dim=10000, input_length=100)(input)\n",
      "    x = tf.keras.layers.LSTM(32)(x)\n",
      "    x = tf.keras.layers.Dense(64, activation='relu')(x)\n",
      "    x = tf.keras.layers.Dense(64, activation='relu')(x)\n",
      "    x = tf.keras.layers.Dense(64, activation='relu')(x)\n",
      "    output = tf.keras.layers.Dense(1, activation='sigmoid', name='output')(x)\n",
      "    model = tf.keras.Model(inputs=[input], outputs=[output])\n",
      "    dot_img_file = '/tmp/model_1.png'\n",
      "    tf.keras.utils.plot_model(model, to_file=dot_img_file, show_shapes=True)\n",
      "    ```\n",
      "    \n",
      "    Args:\n",
      "      model: A Keras model instance\n",
      "      to_file: File name of the plot image.\n",
      "      show_shapes: whether to display shape information.\n",
      "      show_dtype: whether to display layer dtypes.\n",
      "      show_layer_names: whether to display layer names.\n",
      "      rankdir: `rankdir` argument passed to PyDot,\n",
      "          a string specifying the format of the plot: 'TB' creates a vertical\n",
      "            plot; 'LR' creates a horizontal plot.\n",
      "      expand_nested: Whether to expand nested models into clusters.\n",
      "      dpi: Dots per inch.\n",
      "      layer_range: input of `list` containing two `str` items, which is the\n",
      "        starting layer name and ending layer name (both inclusive) indicating\n",
      "        the range of layers for which the plot will be generated. It also\n",
      "        accepts regex patterns instead of exact name. In such case, start\n",
      "        predicate will be the first element it matches to `layer_range[0]` and\n",
      "        the end predicate will be the last element it matches to\n",
      "        `layer_range[1]`. By default `None` which considers all layers of model.\n",
      "        Note that you must pass range such that the resultant subgraph must be\n",
      "        complete.\n",
      "      show_layer_activations: Display layer activations (only for layers that\n",
      "        have an `activation` property).\n",
      "      show_trainable: whether to display if a layer is trainable. Displays 'T'\n",
      "        when the layer is trainable and 'NT' when it is not trainable.\n",
      "    \n",
      "    Raises:\n",
      "      ImportError: if graphviz or pydot are not available.\n",
      "      ValueError: if `plot_model` is called before the model is built.\n",
      "    \n",
      "    Returns:\n",
      "      A Jupyter notebook Image object if Jupyter is installed.\n",
      "      This enables in-line display of the model plots in notebooks.\n",
      "\n"
     ]
    }
   ],
   "source": [
    "help(plot_model)"
   ]
  },
  {
   "cell_type": "code",
   "execution_count": null,
   "metadata": {
    "colab": {
     "base_uri": "https://localhost:8080/"
    },
    "id": "X8a7MDnaect5",
    "outputId": "3929d2f6-908d-4d50-c0c4-48a4cf060f7b"
   },
   "outputs": [
    {
     "name": "stdout",
     "output_type": "stream",
     "text": [
      "Help on class Dense in module keras.layers.core.dense:\n",
      "\n",
      "class Dense(keras.engine.base_layer.Layer)\n",
      " |  Dense(units, activation=None, use_bias=True, kernel_initializer='glorot_uniform', bias_initializer='zeros', kernel_regularizer=None, bias_regularizer=None, activity_regularizer=None, kernel_constraint=None, bias_constraint=None, **kwargs)\n",
      " |  \n",
      " |  Just your regular densely-connected NN layer.\n",
      " |  \n",
      " |  `Dense` implements the operation:\n",
      " |  `output = activation(dot(input, kernel) + bias)`\n",
      " |  where `activation` is the element-wise activation function\n",
      " |  passed as the `activation` argument, `kernel` is a weights matrix\n",
      " |  created by the layer, and `bias` is a bias vector created by the layer\n",
      " |  (only applicable if `use_bias` is `True`). These are all attributes of\n",
      " |  `Dense`.\n",
      " |  \n",
      " |  Note: If the input to the layer has a rank greater than 2, then `Dense`\n",
      " |  computes the dot product between the `inputs` and the `kernel` along the\n",
      " |  last axis of the `inputs` and axis 0 of the `kernel` (using `tf.tensordot`).\n",
      " |  For example, if input has dimensions `(batch_size, d0, d1)`, then we create\n",
      " |  a `kernel` with shape `(d1, units)`, and the `kernel` operates along axis 2\n",
      " |  of the `input`, on every sub-tensor of shape `(1, 1, d1)` (there are\n",
      " |  `batch_size * d0` such sub-tensors).  The output in this case will have\n",
      " |  shape `(batch_size, d0, units)`.\n",
      " |  \n",
      " |  Besides, layer attributes cannot be modified after the layer has been called\n",
      " |  once (except the `trainable` attribute).\n",
      " |  When a popular kwarg `input_shape` is passed, then keras will create\n",
      " |  an input layer to insert before the current layer. This can be treated\n",
      " |  equivalent to explicitly defining an `InputLayer`.\n",
      " |  \n",
      " |  Example:\n",
      " |  \n",
      " |  >>> # Create a `Sequential` model and add a Dense layer as the first layer.\n",
      " |  >>> model = tf.keras.models.Sequential()\n",
      " |  >>> model.add(tf.keras.Input(shape=(16,)))\n",
      " |  >>> model.add(tf.keras.layers.Dense(32, activation='relu'))\n",
      " |  >>> # Now the model will take as input arrays of shape (None, 16)\n",
      " |  >>> # and output arrays of shape (None, 32).\n",
      " |  >>> # Note that after the first layer, you don't need to specify\n",
      " |  >>> # the size of the input anymore:\n",
      " |  >>> model.add(tf.keras.layers.Dense(32))\n",
      " |  >>> model.output_shape\n",
      " |  (None, 32)\n",
      " |  \n",
      " |  Args:\n",
      " |      units: Positive integer, dimensionality of the output space.\n",
      " |      activation: Activation function to use.\n",
      " |          If you don't specify anything, no activation is applied\n",
      " |          (ie. \"linear\" activation: `a(x) = x`).\n",
      " |      use_bias: Boolean, whether the layer uses a bias vector.\n",
      " |      kernel_initializer: Initializer for the `kernel` weights matrix.\n",
      " |      bias_initializer: Initializer for the bias vector.\n",
      " |      kernel_regularizer: Regularizer function applied to\n",
      " |          the `kernel` weights matrix.\n",
      " |      bias_regularizer: Regularizer function applied to the bias vector.\n",
      " |      activity_regularizer: Regularizer function applied to\n",
      " |          the output of the layer (its \"activation\").\n",
      " |      kernel_constraint: Constraint function applied to\n",
      " |          the `kernel` weights matrix.\n",
      " |      bias_constraint: Constraint function applied to the bias vector.\n",
      " |  \n",
      " |  Input shape:\n",
      " |      N-D tensor with shape: `(batch_size, ..., input_dim)`.\n",
      " |      The most common situation would be\n",
      " |      a 2D input with shape `(batch_size, input_dim)`.\n",
      " |  \n",
      " |  Output shape:\n",
      " |      N-D tensor with shape: `(batch_size, ..., units)`.\n",
      " |      For instance, for a 2D input with shape `(batch_size, input_dim)`,\n",
      " |      the output would have shape `(batch_size, units)`.\n",
      " |  \n",
      " |  Method resolution order:\n",
      " |      Dense\n",
      " |      keras.engine.base_layer.Layer\n",
      " |      tensorflow.python.module.module.Module\n",
      " |      tensorflow.python.trackable.autotrackable.AutoTrackable\n",
      " |      tensorflow.python.trackable.base.Trackable\n",
      " |      keras.utils.version_utils.LayerVersionSelector\n",
      " |      builtins.object\n",
      " |  \n",
      " |  Methods defined here:\n",
      " |  \n",
      " |  __init__(self, units, activation=None, use_bias=True, kernel_initializer='glorot_uniform', bias_initializer='zeros', kernel_regularizer=None, bias_regularizer=None, activity_regularizer=None, kernel_constraint=None, bias_constraint=None, **kwargs)\n",
      " |  \n",
      " |  build(self, input_shape)\n",
      " |      Creates the variables of the layer (for subclass implementers).\n",
      " |      \n",
      " |      This is a method that implementers of subclasses of `Layer` or `Model`\n",
      " |      can override if they need a state-creation step in-between\n",
      " |      layer instantiation and layer call. It is invoked automatically before\n",
      " |      the first execution of `call()`.\n",
      " |      \n",
      " |      This is typically used to create the weights of `Layer` subclasses\n",
      " |      (at the discretion of the subclass implementer).\n",
      " |      \n",
      " |      Args:\n",
      " |        input_shape: Instance of `TensorShape`, or list of instances of\n",
      " |          `TensorShape` if the layer expects a list of inputs\n",
      " |          (one instance per input).\n",
      " |  \n",
      " |  call(self, inputs)\n",
      " |      This is where the layer's logic lives.\n",
      " |      \n",
      " |      The `call()` method may not create state (except in its first\n",
      " |      invocation, wrapping the creation of variables or other resources in\n",
      " |      `tf.init_scope()`).  It is recommended to create state, including\n",
      " |      `tf.Variable` instances and nested `Layer` instances,\n",
      " |       in `__init__()`, or in the `build()` method that is\n",
      " |      called automatically before `call()` executes for the first time.\n",
      " |      \n",
      " |      Args:\n",
      " |        inputs: Input tensor, or dict/list/tuple of input tensors.\n",
      " |          The first positional `inputs` argument is subject to special rules:\n",
      " |          - `inputs` must be explicitly passed. A layer cannot have zero\n",
      " |            arguments, and `inputs` cannot be provided via the default value\n",
      " |            of a keyword argument.\n",
      " |          - NumPy array or Python scalar values in `inputs` get cast as\n",
      " |            tensors.\n",
      " |          - Keras mask metadata is only collected from `inputs`.\n",
      " |          - Layers are built (`build(input_shape)` method)\n",
      " |            using shape info from `inputs` only.\n",
      " |          - `input_spec` compatibility is only checked against `inputs`.\n",
      " |          - Mixed precision input casting is only applied to `inputs`.\n",
      " |            If a layer has tensor arguments in `*args` or `**kwargs`, their\n",
      " |            casting behavior in mixed precision should be handled manually.\n",
      " |          - The SavedModel input specification is generated using `inputs`\n",
      " |            only.\n",
      " |          - Integration with various ecosystem packages like TFMOT, TFLite,\n",
      " |            TF.js, etc is only supported for `inputs` and not for tensors in\n",
      " |            positional and keyword arguments.\n",
      " |        *args: Additional positional arguments. May contain tensors, although\n",
      " |          this is not recommended, for the reasons above.\n",
      " |        **kwargs: Additional keyword arguments. May contain tensors, although\n",
      " |          this is not recommended, for the reasons above.\n",
      " |          The following optional keyword arguments are reserved:\n",
      " |          - `training`: Boolean scalar tensor of Python boolean indicating\n",
      " |            whether the `call` is meant for training or inference.\n",
      " |          - `mask`: Boolean input mask. If the layer's `call()` method takes a\n",
      " |            `mask` argument, its default value will be set to the mask\n",
      " |            generated for `inputs` by the previous layer (if `input` did come\n",
      " |            from a layer that generated a corresponding mask, i.e. if it came\n",
      " |            from a Keras layer with masking support).\n",
      " |      \n",
      " |      Returns:\n",
      " |        A tensor or list/tuple of tensors.\n",
      " |  \n",
      " |  compute_output_shape(self, input_shape)\n",
      " |      Computes the output shape of the layer.\n",
      " |      \n",
      " |      This method will cause the layer's state to be built, if that has not\n",
      " |      happened before. This requires that the layer will later be used with\n",
      " |      inputs that match the input shape provided here.\n",
      " |      \n",
      " |      Args:\n",
      " |          input_shape: Shape tuple (tuple of integers) or `tf.TensorShape`,\n",
      " |              or structure of shape tuples / `tf.TensorShape` instances\n",
      " |              (one per output tensor of the layer).\n",
      " |              Shape tuples can include None for free dimensions,\n",
      " |              instead of an integer.\n",
      " |      \n",
      " |      Returns:\n",
      " |          A `tf.TensorShape` instance\n",
      " |          or structure of `tf.TensorShape` instances.\n",
      " |  \n",
      " |  get_config(self)\n",
      " |      Returns the config of the layer.\n",
      " |      \n",
      " |      A layer config is a Python dictionary (serializable)\n",
      " |      containing the configuration of a layer.\n",
      " |      The same layer can be reinstantiated later\n",
      " |      (without its trained weights) from this configuration.\n",
      " |      \n",
      " |      The config of a layer does not include connectivity\n",
      " |      information, nor the layer class name. These are handled\n",
      " |      by `Network` (one layer of abstraction above).\n",
      " |      \n",
      " |      Note that `get_config()` does not guarantee to return a fresh copy of\n",
      " |      dict every time it is called. The callers should make a copy of the\n",
      " |      returned dict if they want to modify it.\n",
      " |      \n",
      " |      Returns:\n",
      " |          Python dictionary.\n",
      " |  \n",
      " |  ----------------------------------------------------------------------\n",
      " |  Data and other attributes defined here:\n",
      " |  \n",
      " |  __annotations__ = {}\n",
      " |  \n",
      " |  ----------------------------------------------------------------------\n",
      " |  Methods inherited from keras.engine.base_layer.Layer:\n",
      " |  \n",
      " |  __call__(self, *args, **kwargs)\n",
      " |      Wraps `call`, applying pre- and post-processing steps.\n",
      " |      \n",
      " |      Args:\n",
      " |        *args: Positional arguments to be passed to `self.call`.\n",
      " |        **kwargs: Keyword arguments to be passed to `self.call`.\n",
      " |      \n",
      " |      Returns:\n",
      " |        Output tensor(s).\n",
      " |      \n",
      " |      Note:\n",
      " |        - The following optional keyword arguments are reserved for specific\n",
      " |          uses:\n",
      " |          * `training`: Boolean scalar tensor of Python boolean indicating\n",
      " |            whether the `call` is meant for training or inference.\n",
      " |          * `mask`: Boolean input mask.\n",
      " |        - If the layer's `call` method takes a `mask` argument (as some Keras\n",
      " |          layers do), its default value will be set to the mask generated\n",
      " |          for `inputs` by the previous layer (if `input` did come from\n",
      " |          a layer that generated a corresponding mask, i.e. if it came from\n",
      " |          a Keras layer with masking support.\n",
      " |        - If the layer is not built, the method will call `build`.\n",
      " |      \n",
      " |      Raises:\n",
      " |        ValueError: if the layer's `call` method returns None (an invalid\n",
      " |          value).\n",
      " |        RuntimeError: if `super().__init__()` was not called in the\n",
      " |          constructor.\n",
      " |  \n",
      " |  __delattr__(self, name)\n",
      " |      Implement delattr(self, name).\n",
      " |  \n",
      " |  __getstate__(self)\n",
      " |  \n",
      " |  __setattr__(self, name, value)\n",
      " |      Support self.foo = trackable syntax.\n",
      " |  \n",
      " |  __setstate__(self, state)\n",
      " |  \n",
      " |  add_loss(self, losses, **kwargs)\n",
      " |      Add loss tensor(s), potentially dependent on layer inputs.\n",
      " |      \n",
      " |      Some losses (for instance, activity regularization losses) may be\n",
      " |      dependent on the inputs passed when calling a layer. Hence, when reusing\n",
      " |      the same layer on different inputs `a` and `b`, some entries in\n",
      " |      `layer.losses` may be dependent on `a` and some on `b`. This method\n",
      " |      automatically keeps track of dependencies.\n",
      " |      \n",
      " |      This method can be used inside a subclassed layer or model's `call`\n",
      " |      function, in which case `losses` should be a Tensor or list of Tensors.\n",
      " |      \n",
      " |      Example:\n",
      " |      \n",
      " |      ```python\n",
      " |      class MyLayer(tf.keras.layers.Layer):\n",
      " |        def call(self, inputs):\n",
      " |          self.add_loss(tf.abs(tf.reduce_mean(inputs)))\n",
      " |          return inputs\n",
      " |      ```\n",
      " |      \n",
      " |      The same code works in distributed training: the input to `add_loss()`\n",
      " |      is treated like a regularization loss and averaged across replicas\n",
      " |      by the training loop (both built-in `Model.fit()` and compliant custom\n",
      " |      training loops).\n",
      " |      \n",
      " |      The `add_loss` method can also be called directly on a Functional Model\n",
      " |      during construction. In this case, any loss Tensors passed to this Model\n",
      " |      must be symbolic and be able to be traced back to the model's `Input`s.\n",
      " |      These losses become part of the model's topology and are tracked in\n",
      " |      `get_config`.\n",
      " |      \n",
      " |      Example:\n",
      " |      \n",
      " |      ```python\n",
      " |      inputs = tf.keras.Input(shape=(10,))\n",
      " |      x = tf.keras.layers.Dense(10)(inputs)\n",
      " |      outputs = tf.keras.layers.Dense(1)(x)\n",
      " |      model = tf.keras.Model(inputs, outputs)\n",
      " |      # Activity regularization.\n",
      " |      model.add_loss(tf.abs(tf.reduce_mean(x)))\n",
      " |      ```\n",
      " |      \n",
      " |      If this is not the case for your loss (if, for example, your loss\n",
      " |      references a `Variable` of one of the model's layers), you can wrap your\n",
      " |      loss in a zero-argument lambda. These losses are not tracked as part of\n",
      " |      the model's topology since they can't be serialized.\n",
      " |      \n",
      " |      Example:\n",
      " |      \n",
      " |      ```python\n",
      " |      inputs = tf.keras.Input(shape=(10,))\n",
      " |      d = tf.keras.layers.Dense(10)\n",
      " |      x = d(inputs)\n",
      " |      outputs = tf.keras.layers.Dense(1)(x)\n",
      " |      model = tf.keras.Model(inputs, outputs)\n",
      " |      # Weight regularization.\n",
      " |      model.add_loss(lambda: tf.reduce_mean(d.kernel))\n",
      " |      ```\n",
      " |      \n",
      " |      Args:\n",
      " |        losses: Loss tensor, or list/tuple of tensors. Rather than tensors,\n",
      " |          losses may also be zero-argument callables which create a loss\n",
      " |          tensor.\n",
      " |        **kwargs: Used for backwards compatibility only.\n",
      " |  \n",
      " |  add_metric(self, value, name=None, **kwargs)\n",
      " |      Adds metric tensor to the layer.\n",
      " |      \n",
      " |      This method can be used inside the `call()` method of a subclassed layer\n",
      " |      or model.\n",
      " |      \n",
      " |      ```python\n",
      " |      class MyMetricLayer(tf.keras.layers.Layer):\n",
      " |        def __init__(self):\n",
      " |          super(MyMetricLayer, self).__init__(name='my_metric_layer')\n",
      " |          self.mean = tf.keras.metrics.Mean(name='metric_1')\n",
      " |      \n",
      " |        def call(self, inputs):\n",
      " |          self.add_metric(self.mean(inputs))\n",
      " |          self.add_metric(tf.reduce_sum(inputs), name='metric_2')\n",
      " |          return inputs\n",
      " |      ```\n",
      " |      \n",
      " |      This method can also be called directly on a Functional Model during\n",
      " |      construction. In this case, any tensor passed to this Model must\n",
      " |      be symbolic and be able to be traced back to the model's `Input`s. These\n",
      " |      metrics become part of the model's topology and are tracked when you\n",
      " |      save the model via `save()`.\n",
      " |      \n",
      " |      ```python\n",
      " |      inputs = tf.keras.Input(shape=(10,))\n",
      " |      x = tf.keras.layers.Dense(10)(inputs)\n",
      " |      outputs = tf.keras.layers.Dense(1)(x)\n",
      " |      model = tf.keras.Model(inputs, outputs)\n",
      " |      model.add_metric(math_ops.reduce_sum(x), name='metric_1')\n",
      " |      ```\n",
      " |      \n",
      " |      Note: Calling `add_metric()` with the result of a metric object on a\n",
      " |      Functional Model, as shown in the example below, is not supported. This\n",
      " |      is because we cannot trace the metric result tensor back to the model's\n",
      " |      inputs.\n",
      " |      \n",
      " |      ```python\n",
      " |      inputs = tf.keras.Input(shape=(10,))\n",
      " |      x = tf.keras.layers.Dense(10)(inputs)\n",
      " |      outputs = tf.keras.layers.Dense(1)(x)\n",
      " |      model = tf.keras.Model(inputs, outputs)\n",
      " |      model.add_metric(tf.keras.metrics.Mean()(x), name='metric_1')\n",
      " |      ```\n",
      " |      \n",
      " |      Args:\n",
      " |        value: Metric tensor.\n",
      " |        name: String metric name.\n",
      " |        **kwargs: Additional keyword arguments for backward compatibility.\n",
      " |          Accepted values:\n",
      " |          `aggregation` - When the `value` tensor provided is not the result\n",
      " |          of calling a `keras.Metric` instance, it will be aggregated by\n",
      " |          default using a `keras.Metric.Mean`.\n",
      " |  \n",
      " |  add_update(self, updates)\n",
      " |      Add update op(s), potentially dependent on layer inputs.\n",
      " |      \n",
      " |      Weight updates (for instance, the updates of the moving mean and\n",
      " |      variance in a BatchNormalization layer) may be dependent on the inputs\n",
      " |      passed when calling a layer. Hence, when reusing the same layer on\n",
      " |      different inputs `a` and `b`, some entries in `layer.updates` may be\n",
      " |      dependent on `a` and some on `b`. This method automatically keeps track\n",
      " |      of dependencies.\n",
      " |      \n",
      " |      This call is ignored when eager execution is enabled (in that case,\n",
      " |      variable updates are run on the fly and thus do not need to be tracked\n",
      " |      for later execution).\n",
      " |      \n",
      " |      Args:\n",
      " |        updates: Update op, or list/tuple of update ops, or zero-arg callable\n",
      " |          that returns an update op. A zero-arg callable should be passed in\n",
      " |          order to disable running the updates by setting `trainable=False`\n",
      " |          on this Layer, when executing in Eager mode.\n",
      " |  \n",
      " |  add_variable(self, *args, **kwargs)\n",
      " |      Deprecated, do NOT use! Alias for `add_weight`.\n",
      " |  \n",
      " |  add_weight(self, name=None, shape=None, dtype=None, initializer=None, regularizer=None, trainable=None, constraint=None, use_resource=None, synchronization=<VariableSynchronization.AUTO: 0>, aggregation=<VariableAggregationV2.NONE: 0>, **kwargs)\n",
      " |      Adds a new variable to the layer.\n",
      " |      \n",
      " |      Args:\n",
      " |        name: Variable name.\n",
      " |        shape: Variable shape. Defaults to scalar if unspecified.\n",
      " |        dtype: The type of the variable. Defaults to `self.dtype`.\n",
      " |        initializer: Initializer instance (callable).\n",
      " |        regularizer: Regularizer instance (callable).\n",
      " |        trainable: Boolean, whether the variable should be part of the layer's\n",
      " |          \"trainable_variables\" (e.g. variables, biases)\n",
      " |          or \"non_trainable_variables\" (e.g. BatchNorm mean and variance).\n",
      " |          Note that `trainable` cannot be `True` if `synchronization`\n",
      " |          is set to `ON_READ`.\n",
      " |        constraint: Constraint instance (callable).\n",
      " |        use_resource: Whether to use a `ResourceVariable` or not.\n",
      " |          See [this guide](\n",
      " |          https://www.tensorflow.org/guide/migrate/tf1_vs_tf2#resourcevariables_instead_of_referencevariables)\n",
      " |           for more information.\n",
      " |        synchronization: Indicates when a distributed a variable will be\n",
      " |          aggregated. Accepted values are constants defined in the class\n",
      " |          `tf.VariableSynchronization`. By default the synchronization is set\n",
      " |          to `AUTO` and the current `DistributionStrategy` chooses when to\n",
      " |          synchronize. If `synchronization` is set to `ON_READ`, `trainable`\n",
      " |          must not be set to `True`.\n",
      " |        aggregation: Indicates how a distributed variable will be aggregated.\n",
      " |          Accepted values are constants defined in the class\n",
      " |          `tf.VariableAggregation`.\n",
      " |        **kwargs: Additional keyword arguments. Accepted values are `getter`,\n",
      " |          `collections`, `experimental_autocast` and `caching_device`.\n",
      " |      \n",
      " |      Returns:\n",
      " |        The variable created.\n",
      " |      \n",
      " |      Raises:\n",
      " |        ValueError: When giving unsupported dtype and no initializer or when\n",
      " |          trainable has been set to True with synchronization set as\n",
      " |          `ON_READ`.\n",
      " |  \n",
      " |  build_from_config(self, config)\n",
      " |  \n",
      " |  compute_mask(self, inputs, mask=None)\n",
      " |      Computes an output mask tensor.\n",
      " |      \n",
      " |      Args:\n",
      " |          inputs: Tensor or list of tensors.\n",
      " |          mask: Tensor or list of tensors.\n",
      " |      \n",
      " |      Returns:\n",
      " |          None or a tensor (or list of tensors,\n",
      " |              one per output tensor of the layer).\n",
      " |  \n",
      " |  compute_output_signature(self, input_signature)\n",
      " |      Compute the output tensor signature of the layer based on the inputs.\n",
      " |      \n",
      " |      Unlike a TensorShape object, a TensorSpec object contains both shape\n",
      " |      and dtype information for a tensor. This method allows layers to provide\n",
      " |      output dtype information if it is different from the input dtype.\n",
      " |      For any layer that doesn't implement this function,\n",
      " |      the framework will fall back to use `compute_output_shape`, and will\n",
      " |      assume that the output dtype matches the input dtype.\n",
      " |      \n",
      " |      Args:\n",
      " |        input_signature: Single TensorSpec or nested structure of TensorSpec\n",
      " |          objects, describing a candidate input for the layer.\n",
      " |      \n",
      " |      Returns:\n",
      " |        Single TensorSpec or nested structure of TensorSpec objects,\n",
      " |          describing how the layer would transform the provided input.\n",
      " |      \n",
      " |      Raises:\n",
      " |        TypeError: If input_signature contains a non-TensorSpec object.\n",
      " |  \n",
      " |  count_params(self)\n",
      " |      Count the total number of scalars composing the weights.\n",
      " |      \n",
      " |      Returns:\n",
      " |          An integer count.\n",
      " |      \n",
      " |      Raises:\n",
      " |          ValueError: if the layer isn't yet built\n",
      " |            (in which case its weights aren't yet defined).\n",
      " |  \n",
      " |  finalize_state(self)\n",
      " |      Finalizes the layers state after updating layer weights.\n",
      " |      \n",
      " |      This function can be subclassed in a layer and will be called after\n",
      " |      updating a layer weights. It can be overridden to finalize any\n",
      " |      additional layer state after a weight update.\n",
      " |      \n",
      " |      This function will be called after weights of a layer have been restored\n",
      " |      from a loaded model.\n",
      " |  \n",
      " |  get_build_config(self)\n",
      " |  \n",
      " |  get_input_at(self, node_index)\n",
      " |      Retrieves the input tensor(s) of a layer at a given node.\n",
      " |      \n",
      " |      Args:\n",
      " |          node_index: Integer, index of the node\n",
      " |              from which to retrieve the attribute.\n",
      " |              E.g. `node_index=0` will correspond to the\n",
      " |              first input node of the layer.\n",
      " |      \n",
      " |      Returns:\n",
      " |          A tensor (or list of tensors if the layer has multiple inputs).\n",
      " |      \n",
      " |      Raises:\n",
      " |        RuntimeError: If called in Eager mode.\n",
      " |  \n",
      " |  get_input_mask_at(self, node_index)\n",
      " |      Retrieves the input mask tensor(s) of a layer at a given node.\n",
      " |      \n",
      " |      Args:\n",
      " |          node_index: Integer, index of the node\n",
      " |              from which to retrieve the attribute.\n",
      " |              E.g. `node_index=0` will correspond to the\n",
      " |              first time the layer was called.\n",
      " |      \n",
      " |      Returns:\n",
      " |          A mask tensor\n",
      " |          (or list of tensors if the layer has multiple inputs).\n",
      " |  \n",
      " |  get_input_shape_at(self, node_index)\n",
      " |      Retrieves the input shape(s) of a layer at a given node.\n",
      " |      \n",
      " |      Args:\n",
      " |          node_index: Integer, index of the node\n",
      " |              from which to retrieve the attribute.\n",
      " |              E.g. `node_index=0` will correspond to the\n",
      " |              first time the layer was called.\n",
      " |      \n",
      " |      Returns:\n",
      " |          A shape tuple\n",
      " |          (or list of shape tuples if the layer has multiple inputs).\n",
      " |      \n",
      " |      Raises:\n",
      " |        RuntimeError: If called in Eager mode.\n",
      " |  \n",
      " |  get_output_at(self, node_index)\n",
      " |      Retrieves the output tensor(s) of a layer at a given node.\n",
      " |      \n",
      " |      Args:\n",
      " |          node_index: Integer, index of the node\n",
      " |              from which to retrieve the attribute.\n",
      " |              E.g. `node_index=0` will correspond to the\n",
      " |              first output node of the layer.\n",
      " |      \n",
      " |      Returns:\n",
      " |          A tensor (or list of tensors if the layer has multiple outputs).\n",
      " |      \n",
      " |      Raises:\n",
      " |        RuntimeError: If called in Eager mode.\n",
      " |  \n",
      " |  get_output_mask_at(self, node_index)\n",
      " |      Retrieves the output mask tensor(s) of a layer at a given node.\n",
      " |      \n",
      " |      Args:\n",
      " |          node_index: Integer, index of the node\n",
      " |              from which to retrieve the attribute.\n",
      " |              E.g. `node_index=0` will correspond to the\n",
      " |              first time the layer was called.\n",
      " |      \n",
      " |      Returns:\n",
      " |          A mask tensor\n",
      " |          (or list of tensors if the layer has multiple outputs).\n",
      " |  \n",
      " |  get_output_shape_at(self, node_index)\n",
      " |      Retrieves the output shape(s) of a layer at a given node.\n",
      " |      \n",
      " |      Args:\n",
      " |          node_index: Integer, index of the node\n",
      " |              from which to retrieve the attribute.\n",
      " |              E.g. `node_index=0` will correspond to the\n",
      " |              first time the layer was called.\n",
      " |      \n",
      " |      Returns:\n",
      " |          A shape tuple\n",
      " |          (or list of shape tuples if the layer has multiple outputs).\n",
      " |      \n",
      " |      Raises:\n",
      " |        RuntimeError: If called in Eager mode.\n",
      " |  \n",
      " |  get_weights(self)\n",
      " |      Returns the current weights of the layer, as NumPy arrays.\n",
      " |      \n",
      " |      The weights of a layer represent the state of the layer. This function\n",
      " |      returns both trainable and non-trainable weight values associated with\n",
      " |      this layer as a list of NumPy arrays, which can in turn be used to load\n",
      " |      state into similarly parameterized layers.\n",
      " |      \n",
      " |      For example, a `Dense` layer returns a list of two values: the kernel\n",
      " |      matrix and the bias vector. These can be used to set the weights of\n",
      " |      another `Dense` layer:\n",
      " |      \n",
      " |      >>> layer_a = tf.keras.layers.Dense(1,\n",
      " |      ...   kernel_initializer=tf.constant_initializer(1.))\n",
      " |      >>> a_out = layer_a(tf.convert_to_tensor([[1., 2., 3.]]))\n",
      " |      >>> layer_a.get_weights()\n",
      " |      [array([[1.],\n",
      " |             [1.],\n",
      " |             [1.]], dtype=float32), array([0.], dtype=float32)]\n",
      " |      >>> layer_b = tf.keras.layers.Dense(1,\n",
      " |      ...   kernel_initializer=tf.constant_initializer(2.))\n",
      " |      >>> b_out = layer_b(tf.convert_to_tensor([[10., 20., 30.]]))\n",
      " |      >>> layer_b.get_weights()\n",
      " |      [array([[2.],\n",
      " |             [2.],\n",
      " |             [2.]], dtype=float32), array([0.], dtype=float32)]\n",
      " |      >>> layer_b.set_weights(layer_a.get_weights())\n",
      " |      >>> layer_b.get_weights()\n",
      " |      [array([[1.],\n",
      " |             [1.],\n",
      " |             [1.]], dtype=float32), array([0.], dtype=float32)]\n",
      " |      \n",
      " |      Returns:\n",
      " |          Weights values as a list of NumPy arrays.\n",
      " |  \n",
      " |  set_weights(self, weights)\n",
      " |      Sets the weights of the layer, from NumPy arrays.\n",
      " |      \n",
      " |      The weights of a layer represent the state of the layer. This function\n",
      " |      sets the weight values from numpy arrays. The weight values should be\n",
      " |      passed in the order they are created by the layer. Note that the layer's\n",
      " |      weights must be instantiated before calling this function, by calling\n",
      " |      the layer.\n",
      " |      \n",
      " |      For example, a `Dense` layer returns a list of two values: the kernel\n",
      " |      matrix and the bias vector. These can be used to set the weights of\n",
      " |      another `Dense` layer:\n",
      " |      \n",
      " |      >>> layer_a = tf.keras.layers.Dense(1,\n",
      " |      ...   kernel_initializer=tf.constant_initializer(1.))\n",
      " |      >>> a_out = layer_a(tf.convert_to_tensor([[1., 2., 3.]]))\n",
      " |      >>> layer_a.get_weights()\n",
      " |      [array([[1.],\n",
      " |             [1.],\n",
      " |             [1.]], dtype=float32), array([0.], dtype=float32)]\n",
      " |      >>> layer_b = tf.keras.layers.Dense(1,\n",
      " |      ...   kernel_initializer=tf.constant_initializer(2.))\n",
      " |      >>> b_out = layer_b(tf.convert_to_tensor([[10., 20., 30.]]))\n",
      " |      >>> layer_b.get_weights()\n",
      " |      [array([[2.],\n",
      " |             [2.],\n",
      " |             [2.]], dtype=float32), array([0.], dtype=float32)]\n",
      " |      >>> layer_b.set_weights(layer_a.get_weights())\n",
      " |      >>> layer_b.get_weights()\n",
      " |      [array([[1.],\n",
      " |             [1.],\n",
      " |             [1.]], dtype=float32), array([0.], dtype=float32)]\n",
      " |      \n",
      " |      Args:\n",
      " |        weights: a list of NumPy arrays. The number\n",
      " |          of arrays and their shape must match\n",
      " |          number of the dimensions of the weights\n",
      " |          of the layer (i.e. it should match the\n",
      " |          output of `get_weights`).\n",
      " |      \n",
      " |      Raises:\n",
      " |        ValueError: If the provided weights list does not match the\n",
      " |          layer's specifications.\n",
      " |  \n",
      " |  ----------------------------------------------------------------------\n",
      " |  Class methods inherited from keras.engine.base_layer.Layer:\n",
      " |  \n",
      " |  from_config(config) from builtins.type\n",
      " |      Creates a layer from its config.\n",
      " |      \n",
      " |      This method is the reverse of `get_config`,\n",
      " |      capable of instantiating the same layer from the config\n",
      " |      dictionary. It does not handle layer connectivity\n",
      " |      (handled by Network), nor weights (handled by `set_weights`).\n",
      " |      \n",
      " |      Args:\n",
      " |          config: A Python dictionary, typically the\n",
      " |              output of get_config.\n",
      " |      \n",
      " |      Returns:\n",
      " |          A layer instance.\n",
      " |  \n",
      " |  ----------------------------------------------------------------------\n",
      " |  Static methods inherited from keras.engine.base_layer.Layer:\n",
      " |  \n",
      " |  __new__(cls, *args, **kwargs)\n",
      " |      Create and return a new object.  See help(type) for accurate signature.\n",
      " |  \n",
      " |  ----------------------------------------------------------------------\n",
      " |  Readonly properties inherited from keras.engine.base_layer.Layer:\n",
      " |  \n",
      " |  compute_dtype\n",
      " |      The dtype of the layer's computations.\n",
      " |      \n",
      " |      This is equivalent to `Layer.dtype_policy.compute_dtype`. Unless\n",
      " |      mixed precision is used, this is the same as `Layer.dtype`, the dtype of\n",
      " |      the weights.\n",
      " |      \n",
      " |      Layers automatically cast their inputs to the compute dtype, which\n",
      " |      causes computations and the output to be in the compute dtype as well.\n",
      " |      This is done by the base Layer class in `Layer.__call__`, so you do not\n",
      " |      have to insert these casts if implementing your own layer.\n",
      " |      \n",
      " |      Layers often perform certain internal computations in higher precision\n",
      " |      when `compute_dtype` is float16 or bfloat16 for numeric stability. The\n",
      " |      output will still typically be float16 or bfloat16 in such cases.\n",
      " |      \n",
      " |      Returns:\n",
      " |        The layer's compute dtype.\n",
      " |  \n",
      " |  dtype\n",
      " |      The dtype of the layer weights.\n",
      " |      \n",
      " |      This is equivalent to `Layer.dtype_policy.variable_dtype`. Unless\n",
      " |      mixed precision is used, this is the same as `Layer.compute_dtype`, the\n",
      " |      dtype of the layer's computations.\n",
      " |  \n",
      " |  dtype_policy\n",
      " |      The dtype policy associated with this layer.\n",
      " |      \n",
      " |      This is an instance of a `tf.keras.mixed_precision.Policy`.\n",
      " |  \n",
      " |  dynamic\n",
      " |      Whether the layer is dynamic (eager-only); set in the constructor.\n",
      " |  \n",
      " |  inbound_nodes\n",
      " |      Return Functional API nodes upstream of this layer.\n",
      " |  \n",
      " |  input\n",
      " |      Retrieves the input tensor(s) of a layer.\n",
      " |      \n",
      " |      Only applicable if the layer has exactly one input,\n",
      " |      i.e. if it is connected to one incoming layer.\n",
      " |      \n",
      " |      Returns:\n",
      " |          Input tensor or list of input tensors.\n",
      " |      \n",
      " |      Raises:\n",
      " |        RuntimeError: If called in Eager mode.\n",
      " |        AttributeError: If no inbound nodes are found.\n",
      " |  \n",
      " |  input_mask\n",
      " |      Retrieves the input mask tensor(s) of a layer.\n",
      " |      \n",
      " |      Only applicable if the layer has exactly one inbound node,\n",
      " |      i.e. if it is connected to one incoming layer.\n",
      " |      \n",
      " |      Returns:\n",
      " |          Input mask tensor (potentially None) or list of input\n",
      " |          mask tensors.\n",
      " |      \n",
      " |      Raises:\n",
      " |          AttributeError: if the layer is connected to\n",
      " |          more than one incoming layers.\n",
      " |  \n",
      " |  input_shape\n",
      " |      Retrieves the input shape(s) of a layer.\n",
      " |      \n",
      " |      Only applicable if the layer has exactly one input,\n",
      " |      i.e. if it is connected to one incoming layer, or if all inputs\n",
      " |      have the same shape.\n",
      " |      \n",
      " |      Returns:\n",
      " |          Input shape, as an integer shape tuple\n",
      " |          (or list of shape tuples, one tuple per input tensor).\n",
      " |      \n",
      " |      Raises:\n",
      " |          AttributeError: if the layer has no defined input_shape.\n",
      " |          RuntimeError: if called in Eager mode.\n",
      " |  \n",
      " |  losses\n",
      " |      List of losses added using the `add_loss()` API.\n",
      " |      \n",
      " |      Variable regularization tensors are created when this property is\n",
      " |      accessed, so it is eager safe: accessing `losses` under a\n",
      " |      `tf.GradientTape` will propagate gradients back to the corresponding\n",
      " |      variables.\n",
      " |      \n",
      " |      Examples:\n",
      " |      \n",
      " |      >>> class MyLayer(tf.keras.layers.Layer):\n",
      " |      ...   def call(self, inputs):\n",
      " |      ...     self.add_loss(tf.abs(tf.reduce_mean(inputs)))\n",
      " |      ...     return inputs\n",
      " |      >>> l = MyLayer()\n",
      " |      >>> l(np.ones((10, 1)))\n",
      " |      >>> l.losses\n",
      " |      [1.0]\n",
      " |      \n",
      " |      >>> inputs = tf.keras.Input(shape=(10,))\n",
      " |      >>> x = tf.keras.layers.Dense(10)(inputs)\n",
      " |      >>> outputs = tf.keras.layers.Dense(1)(x)\n",
      " |      >>> model = tf.keras.Model(inputs, outputs)\n",
      " |      >>> # Activity regularization.\n",
      " |      >>> len(model.losses)\n",
      " |      0\n",
      " |      >>> model.add_loss(tf.abs(tf.reduce_mean(x)))\n",
      " |      >>> len(model.losses)\n",
      " |      1\n",
      " |      \n",
      " |      >>> inputs = tf.keras.Input(shape=(10,))\n",
      " |      >>> d = tf.keras.layers.Dense(10, kernel_initializer='ones')\n",
      " |      >>> x = d(inputs)\n",
      " |      >>> outputs = tf.keras.layers.Dense(1)(x)\n",
      " |      >>> model = tf.keras.Model(inputs, outputs)\n",
      " |      >>> # Weight regularization.\n",
      " |      >>> model.add_loss(lambda: tf.reduce_mean(d.kernel))\n",
      " |      >>> model.losses\n",
      " |      [<tf.Tensor: shape=(), dtype=float32, numpy=1.0>]\n",
      " |      \n",
      " |      Returns:\n",
      " |        A list of tensors.\n",
      " |  \n",
      " |  metrics\n",
      " |      List of metrics added using the `add_metric()` API.\n",
      " |      \n",
      " |      Example:\n",
      " |      \n",
      " |      >>> input = tf.keras.layers.Input(shape=(3,))\n",
      " |      >>> d = tf.keras.layers.Dense(2)\n",
      " |      >>> output = d(input)\n",
      " |      >>> d.add_metric(tf.reduce_max(output), name='max')\n",
      " |      >>> d.add_metric(tf.reduce_min(output), name='min')\n",
      " |      >>> [m.name for m in d.metrics]\n",
      " |      ['max', 'min']\n",
      " |      \n",
      " |      Returns:\n",
      " |        A list of `Metric` objects.\n",
      " |  \n",
      " |  name\n",
      " |      Name of the layer (string), set in the constructor.\n",
      " |  \n",
      " |  non_trainable_variables\n",
      " |      Sequence of non-trainable variables owned by this module and its submodules.\n",
      " |      \n",
      " |      Note: this method uses reflection to find variables on the current instance\n",
      " |      and submodules. For performance reasons you may wish to cache the result\n",
      " |      of calling this method if you don't expect the return value to change.\n",
      " |      \n",
      " |      Returns:\n",
      " |        A sequence of variables for the current module (sorted by attribute\n",
      " |        name) followed by variables from all submodules recursively (breadth\n",
      " |        first).\n",
      " |  \n",
      " |  non_trainable_weights\n",
      " |      List of all non-trainable weights tracked by this layer.\n",
      " |      \n",
      " |      Non-trainable weights are *not* updated during training. They are\n",
      " |      expected to be updated manually in `call()`.\n",
      " |      \n",
      " |      Returns:\n",
      " |        A list of non-trainable variables.\n",
      " |  \n",
      " |  outbound_nodes\n",
      " |      Return Functional API nodes downstream of this layer.\n",
      " |  \n",
      " |  output\n",
      " |      Retrieves the output tensor(s) of a layer.\n",
      " |      \n",
      " |      Only applicable if the layer has exactly one output,\n",
      " |      i.e. if it is connected to one incoming layer.\n",
      " |      \n",
      " |      Returns:\n",
      " |        Output tensor or list of output tensors.\n",
      " |      \n",
      " |      Raises:\n",
      " |        AttributeError: if the layer is connected to more than one incoming\n",
      " |          layers.\n",
      " |        RuntimeError: if called in Eager mode.\n",
      " |  \n",
      " |  output_mask\n",
      " |      Retrieves the output mask tensor(s) of a layer.\n",
      " |      \n",
      " |      Only applicable if the layer has exactly one inbound node,\n",
      " |      i.e. if it is connected to one incoming layer.\n",
      " |      \n",
      " |      Returns:\n",
      " |          Output mask tensor (potentially None) or list of output\n",
      " |          mask tensors.\n",
      " |      \n",
      " |      Raises:\n",
      " |          AttributeError: if the layer is connected to\n",
      " |          more than one incoming layers.\n",
      " |  \n",
      " |  output_shape\n",
      " |      Retrieves the output shape(s) of a layer.\n",
      " |      \n",
      " |      Only applicable if the layer has one output,\n",
      " |      or if all outputs have the same shape.\n",
      " |      \n",
      " |      Returns:\n",
      " |          Output shape, as an integer shape tuple\n",
      " |          (or list of shape tuples, one tuple per output tensor).\n",
      " |      \n",
      " |      Raises:\n",
      " |          AttributeError: if the layer has no defined output shape.\n",
      " |          RuntimeError: if called in Eager mode.\n",
      " |  \n",
      " |  trainable_variables\n",
      " |      Sequence of trainable variables owned by this module and its submodules.\n",
      " |      \n",
      " |      Note: this method uses reflection to find variables on the current instance\n",
      " |      and submodules. For performance reasons you may wish to cache the result\n",
      " |      of calling this method if you don't expect the return value to change.\n",
      " |      \n",
      " |      Returns:\n",
      " |        A sequence of variables for the current module (sorted by attribute\n",
      " |        name) followed by variables from all submodules recursively (breadth\n",
      " |        first).\n",
      " |  \n",
      " |  trainable_weights\n",
      " |      List of all trainable weights tracked by this layer.\n",
      " |      \n",
      " |      Trainable weights are updated via gradient descent during training.\n",
      " |      \n",
      " |      Returns:\n",
      " |        A list of trainable variables.\n",
      " |  \n",
      " |  updates\n",
      " |  \n",
      " |  variable_dtype\n",
      " |      Alias of `Layer.dtype`, the dtype of the weights.\n",
      " |  \n",
      " |  variables\n",
      " |      Returns the list of all layer variables/weights.\n",
      " |      \n",
      " |      Alias of `self.weights`.\n",
      " |      \n",
      " |      Note: This will not track the weights of nested `tf.Modules` that are\n",
      " |      not themselves Keras layers.\n",
      " |      \n",
      " |      Returns:\n",
      " |        A list of variables.\n",
      " |  \n",
      " |  weights\n",
      " |      Returns the list of all layer variables/weights.\n",
      " |      \n",
      " |      Returns:\n",
      " |        A list of variables.\n",
      " |  \n",
      " |  ----------------------------------------------------------------------\n",
      " |  Data descriptors inherited from keras.engine.base_layer.Layer:\n",
      " |  \n",
      " |  activity_regularizer\n",
      " |      Optional regularizer function for the output of this layer.\n",
      " |  \n",
      " |  input_spec\n",
      " |      `InputSpec` instance(s) describing the input format for this layer.\n",
      " |      \n",
      " |      When you create a layer subclass, you can set `self.input_spec` to\n",
      " |      enable the layer to run input compatibility checks when it is called.\n",
      " |      Consider a `Conv2D` layer: it can only be called on a single input\n",
      " |      tensor of rank 4. As such, you can set, in `__init__()`:\n",
      " |      \n",
      " |      ```python\n",
      " |      self.input_spec = tf.keras.layers.InputSpec(ndim=4)\n",
      " |      ```\n",
      " |      \n",
      " |      Now, if you try to call the layer on an input that isn't rank 4\n",
      " |      (for instance, an input of shape `(2,)`, it will raise a\n",
      " |      nicely-formatted error:\n",
      " |      \n",
      " |      ```\n",
      " |      ValueError: Input 0 of layer conv2d is incompatible with the layer:\n",
      " |      expected ndim=4, found ndim=1. Full shape received: [2]\n",
      " |      ```\n",
      " |      \n",
      " |      Input checks that can be specified via `input_spec` include:\n",
      " |      - Structure (e.g. a single input, a list of 2 inputs, etc)\n",
      " |      - Shape\n",
      " |      - Rank (ndim)\n",
      " |      - Dtype\n",
      " |      \n",
      " |      For more information, see `tf.keras.layers.InputSpec`.\n",
      " |      \n",
      " |      Returns:\n",
      " |        A `tf.keras.layers.InputSpec` instance, or nested structure thereof.\n",
      " |  \n",
      " |  stateful\n",
      " |  \n",
      " |  supports_masking\n",
      " |      Whether this layer supports computing a mask using `compute_mask`.\n",
      " |  \n",
      " |  trainable\n",
      " |  \n",
      " |  ----------------------------------------------------------------------\n",
      " |  Class methods inherited from tensorflow.python.module.module.Module:\n",
      " |  \n",
      " |  with_name_scope(method) from builtins.type\n",
      " |      Decorator to automatically enter the module name scope.\n",
      " |      \n",
      " |      >>> class MyModule(tf.Module):\n",
      " |      ...   @tf.Module.with_name_scope\n",
      " |      ...   def __call__(self, x):\n",
      " |      ...     if not hasattr(self, 'w'):\n",
      " |      ...       self.w = tf.Variable(tf.random.normal([x.shape[1], 3]))\n",
      " |      ...     return tf.matmul(x, self.w)\n",
      " |      \n",
      " |      Using the above module would produce `tf.Variable`s and `tf.Tensor`s whose\n",
      " |      names included the module name:\n",
      " |      \n",
      " |      >>> mod = MyModule()\n",
      " |      >>> mod(tf.ones([1, 2]))\n",
      " |      <tf.Tensor: shape=(1, 3), dtype=float32, numpy=..., dtype=float32)>\n",
      " |      >>> mod.w\n",
      " |      <tf.Variable 'my_module/Variable:0' shape=(2, 3) dtype=float32,\n",
      " |      numpy=..., dtype=float32)>\n",
      " |      \n",
      " |      Args:\n",
      " |        method: The method to wrap.\n",
      " |      \n",
      " |      Returns:\n",
      " |        The original method wrapped such that it enters the module's name scope.\n",
      " |  \n",
      " |  ----------------------------------------------------------------------\n",
      " |  Readonly properties inherited from tensorflow.python.module.module.Module:\n",
      " |  \n",
      " |  name_scope\n",
      " |      Returns a `tf.name_scope` instance for this class.\n",
      " |  \n",
      " |  submodules\n",
      " |      Sequence of all sub-modules.\n",
      " |      \n",
      " |      Submodules are modules which are properties of this module, or found as\n",
      " |      properties of modules which are properties of this module (and so on).\n",
      " |      \n",
      " |      >>> a = tf.Module()\n",
      " |      >>> b = tf.Module()\n",
      " |      >>> c = tf.Module()\n",
      " |      >>> a.b = b\n",
      " |      >>> b.c = c\n",
      " |      >>> list(a.submodules) == [b, c]\n",
      " |      True\n",
      " |      >>> list(b.submodules) == [c]\n",
      " |      True\n",
      " |      >>> list(c.submodules) == []\n",
      " |      True\n",
      " |      \n",
      " |      Returns:\n",
      " |        A sequence of all submodules.\n",
      " |  \n",
      " |  ----------------------------------------------------------------------\n",
      " |  Data descriptors inherited from tensorflow.python.trackable.base.Trackable:\n",
      " |  \n",
      " |  __dict__\n",
      " |      dictionary for instance variables (if defined)\n",
      " |  \n",
      " |  __weakref__\n",
      " |      list of weak references to the object (if defined)\n",
      "\n"
     ]
    }
   ],
   "source": [
    "help(tf.keras.layers.Dense)"
   ]
  },
  {
   "cell_type": "code",
   "execution_count": null,
   "metadata": {
    "id": "9qIHVcfNVaEA"
   },
   "outputs": [],
   "source": [
    "# model_building\n",
    "\n",
    "model = tf.keras.Sequential(name='model_1')\n",
    "model.add(tf.keras.layers.Dense(10,input_shape=[1],name='input_layer'))\n",
    "model.add(tf.keras.layers.Dense(1,name='output_layer'))\n",
    "\n",
    "\n",
    "# model_compilation\n",
    "\n",
    "model.compile(loss=tf.keras.losses.MeanAbsoluteError(),\n",
    "              optimizer=tf.keras.optimizers.SGD(),\n",
    "              metrics=[tf.keras.metrics.MeanAbsoluteError()])"
   ]
  },
  {
   "cell_type": "code",
   "execution_count": null,
   "metadata": {
    "colab": {
     "base_uri": "https://localhost:8080/"
    },
    "id": "UuKChC3ndIkg",
    "outputId": "58d4f08b-7f7e-4b6d-dc15-309b931b0c4c"
   },
   "outputs": [
    {
     "name": "stdout",
     "output_type": "stream",
     "text": [
      "Model: \"model_1\"\n",
      "_________________________________________________________________\n",
      " Layer (type)                Output Shape              Param #   \n",
      "=================================================================\n",
      " input_layer (Dense)         (None, 10)                20        \n",
      "                                                                 \n",
      " output_layer (Dense)        (None, 1)                 11        \n",
      "                                                                 \n",
      "=================================================================\n",
      "Total params: 31\n",
      "Trainable params: 31\n",
      "Non-trainable params: 0\n",
      "_________________________________________________________________\n"
     ]
    }
   ],
   "source": [
    "# model summary\n",
    "\n",
    "model.summary()"
   ]
  },
  {
   "cell_type": "code",
   "execution_count": null,
   "metadata": {
    "colab": {
     "base_uri": "https://localhost:8080/"
    },
    "id": "BnNkNS08dYlI",
    "outputId": "b42b1629-9dce-4796-bf45-596ced3062f9"
   },
   "outputs": [
    {
     "data": {
      "text/plain": [
       "<keras.callbacks.History at 0x7f3f82f98bb0>"
      ]
     },
     "execution_count": 14,
     "metadata": {},
     "output_type": "execute_result"
    }
   ],
   "source": [
    "model.fit(x_train,y_train,epochs=100,verbose=0)"
   ]
  },
  {
   "cell_type": "code",
   "execution_count": null,
   "metadata": {
    "colab": {
     "base_uri": "https://localhost:8080/"
    },
    "id": "F3pdhiKldhsg",
    "outputId": "46fc3df8-9f18-4be3-cd68-231e7dd9d6be"
   },
   "outputs": [
    {
     "name": "stdout",
     "output_type": "stream",
     "text": [
      "Model: \"model_1\"\n",
      "_________________________________________________________________\n",
      " Layer (type)                Output Shape              Param #   \n",
      "=================================================================\n",
      " input_layer (Dense)         (None, 10)                20        \n",
      "                                                                 \n",
      " output_layer (Dense)        (None, 1)                 11        \n",
      "                                                                 \n",
      "=================================================================\n",
      "Total params: 31\n",
      "Trainable params: 31\n",
      "Non-trainable params: 0\n",
      "_________________________________________________________________\n"
     ]
    }
   ],
   "source": [
    "model.summary()"
   ]
  },
  {
   "cell_type": "code",
   "execution_count": null,
   "metadata": {
    "colab": {
     "base_uri": "https://localhost:8080/"
    },
    "id": "NSWCGafudmuo",
    "outputId": "af8718d1-1e62-404f-c44c-5dc66778652e"
   },
   "outputs": [
    {
     "name": "stdout",
     "output_type": "stream",
     "text": [
      "1/1 [==============================] - 0s 64ms/step\n"
     ]
    },
    {
     "data": {
      "text/plain": [
       "array([[nan],\n",
       "       [nan],\n",
       "       [nan]], dtype=float32)"
      ]
     },
     "execution_count": 16,
     "metadata": {},
     "output_type": "execute_result"
    }
   ],
   "source": [
    "model.predict([9,10,11])"
   ]
  },
  {
   "cell_type": "code",
   "execution_count": null,
   "metadata": {
    "colab": {
     "base_uri": "https://localhost:8080/",
     "height": 312
    },
    "id": "gvSWM5HCdrJC",
    "outputId": "96d07d86-49de-4064-e396-d99020876b0f"
   },
   "outputs": [
    {
     "data": {
      "image/png": "[encoded data removed]",
      "text/plain": [
       "<IPython.core.display.Image object>"
      ]
     },
     "execution_count": 17,
     "metadata": {},
     "output_type": "execute_result"
    }
   ],
   "source": [
    "from tensorflow.keras.utils import plot_model\n",
    "plot_model(model=model,show_shapes=True)"
   ]
  },
  {
   "cell_type": "code",
   "execution_count": null,
   "metadata": {
    "colab": {
     "base_uri": "https://localhost:8080/"
    },
    "id": "FgW4ZqRox_9b",
    "outputId": "fb26aa91-b8e9-487f-966e-91a3b62cec42"
   },
   "outputs": [
    {
     "name": "stdout",
     "output_type": "stream",
     "text": [
      "3/3 [==============================] - 0s 3ms/step\n"
     ]
    },
    {
     "data": {
      "text/plain": [
       "<tf.Tensor: shape=(80, 80), dtype=float32, numpy=\n",
       "array([[ 9.1003418e-02,  1.0650911e+03, -2.6399089e+03, ...,\n",
       "         2.4000911e+03, -4.9490900e+02,  1.2000911e+03],\n",
       "       [-1.0638781e+03,  1.1219482e+00, -3.7038779e+03, ...,\n",
       "         1.3361219e+03, -1.5588781e+03,  1.3612195e+02],\n",
       "       [ 2.6375349e+03,  3.7025349e+03, -2.4650879e+00, ...,\n",
       "         5.0375352e+03,  2.1425349e+03,  3.8375349e+03],\n",
       "       ...,\n",
       "       [-2.3975852e+03, -1.3325852e+03, -5.0375850e+03, ...,\n",
       "         2.4147949e+00, -2.8925852e+03, -1.1975852e+03],\n",
       "       [ 4.9461179e+02,  1.5596118e+03, -2.1453882e+03, ...,\n",
       "         2.8946118e+03, -3.8821411e-01,  1.6946118e+03],\n",
       "       [-1.1987471e+03, -1.3374707e+02, -3.8387471e+03, ...,\n",
       "         1.2012529e+03, -1.6937471e+03,  1.2529297e+00]], dtype=float32)>"
      ]
     },
     "execution_count": 24,
     "metadata": {},
     "output_type": "execute_result"
    }
   ],
   "source": [
    "prediction = model.predict(x_test)\n",
    "actual = y_test\n",
    "\n",
    "actual-prediction"
   ]
  },
  {
   "cell_type": "code",
   "execution_count": null,
   "metadata": {
    "colab": {
     "base_uri": "https://localhost:8080/"
    },
    "id": "TEDXkx8gznES",
    "outputId": "31646232-7bd8-4261-e08d-69be2f4e87b7"
   },
   "outputs": [
    {
     "name": "stdout",
     "output_type": "stream",
     "text": [
      "1/1 [==============================] - 0s 90ms/step\n"
     ]
    },
    {
     "data": {
      "text/plain": [
       "array([[29.013557],\n",
       "       [32.010654],\n",
       "       [35.007748]], dtype=float32)"
      ]
     },
     "execution_count": 25,
     "metadata": {},
     "output_type": "execute_result"
    }
   ],
   "source": [
    "model.predict([9,10,11])"
   ]
  },
  {
   "cell_type": "markdown",
   "metadata": {
    "id": "7CxtKrvfm8j7"
   },
   "source": [
    "# visulizing model's layers"
   ]
  },
  {
   "cell_type": "code",
   "execution_count": null,
   "metadata": {
    "id": "kO7S2HIHlcZC"
   },
   "outputs": [],
   "source": [
    "import numpy as np\n",
    "import pandas as pd\n",
    "import tensorflow as tf\n",
    "import matplotlib.pyplot as plt\n",
    "from sklearn.model_selection import train_test_split\n",
    "from tensorflow.keras.utils import plot_model"
   ]
  },
  {
   "cell_type": "code",
   "execution_count": null,
   "metadata": {
    "colab": {
     "base_uri": "https://localhost:8080/"
    },
    "id": "sja-pM2pz0CI",
    "outputId": "71caaa77-2eed-461d-f7bb-53bdeeb7c33b"
   },
   "outputs": [
    {
     "data": {
      "text/plain": [
       "<keras.callbacks.History at 0x7f40b53ba6e0>"
      ]
     },
     "execution_count": 7,
     "metadata": {},
     "output_type": "execute_result"
    }
   ],
   "source": [
    "# trail:\n",
    "\n",
    "# x and y\n",
    "x = np.arange(-1000,1000,4)\n",
    "y = 3*x + 2\n",
    "\n",
    "# random seed_settting\n",
    "tf.random.set_seed(42)\n",
    "\n",
    "# model_building\n",
    "model = tf.keras.Sequential()\n",
    "model.add(tf.keras.layers.Dense(30,input_shape=[1],name='input_layer'))\n",
    "model.add(tf.keras.layers.Dense(80,name='hidden_layer1'))\n",
    "model.add(tf.keras.layers.Dense(90,name='hidden_layer2'))\n",
    "model.add(tf.keras.layers.Dense(1,activation='linear',name='output_layer'))\n",
    "\n",
    "# compilation:\n",
    "model.compile(loss=tf.keras.losses.MeanAbsoluteError(),\n",
    "              optimizer=tf.keras.optimizers.Adam(learning_rate=0.0001),\n",
    "              metrics=[tf.keras.metrics.MeanSquaredError()])\n",
    "\n",
    "#splitting\n",
    "from sklearn.model_selection import train_test_split\n",
    "x_train, x_test, y_train, y_test = train_test_split(x,y,test_size=0.2,random_state=42)\n",
    "\n",
    "# conversion to tensors\n",
    "x_train = tf.constant(x_train,dtype=tf.float32)\n",
    "x_test = tf.constant(x_test,dtype=tf.float32)\n",
    "y_train = tf.constant(y_train,dtype=tf.float32)\n",
    "y_test = tf.constant(y_test,dtype=tf.float32)\n",
    "\n",
    "model.fit(x_train,y_train,epochs=100,verbose=False)\n",
    "\n",
    "\n"
   ]
  },
  {
   "cell_type": "markdown",
   "metadata": {
    "id": "x950QM8M6Lse"
   },
   "source": [
    "# explanation,analysis and freethrows"
   ]
  },
  {
   "cell_type": "code",
   "execution_count": null,
   "metadata": {
    "colab": {
     "base_uri": "https://localhost:8080/"
    },
    "id": "EfmBqzBC5QYD",
    "outputId": "c6991dd2-783e-4224-c588-0dccbae4f7c8"
   },
   "outputs": [
    {
     "data": {
      "text/plain": [
       "<tf.Tensor: shape=(100,), dtype=float32, numpy=\n",
       "array([  -4.,  732., -924.,  288.,  328., -776.,  204.,  -84.,  324.,\n",
       "       -472., -452.,  692.,  340., -900.,  856.,  124.,  -12.,  -52.,\n",
       "       -532., -832., -120., -296.,  280., -388.,  -76.,  -92.,  668.,\n",
       "       -188., -496.,  316., -876., -548.,  880.,   84., -440., -772.,\n",
       "       -232., -904., -932.,   60., -736., -168.,  916., -624.,   12.,\n",
       "         64., -908., -112.,   44.,  704., -980., -536., -820., -936.,\n",
       "        848.,  428., -988., -128.,  620., -760., -560.,  272.,  712.,\n",
       "       -884.,  748.,  884., -896., -972.,  812., -568., -852., -372.,\n",
       "        956., -528., -544., -300.,  492., -276., -424.,  476.,  560.,\n",
       "       -220.,  616.,  100.,  816., -436.,  460., -732., -160., -328.,\n",
       "        972.,  500.,  600.,   88., -564.,   -8., -420., -632., -392.,\n",
       "        468.], dtype=float32)>"
      ]
     },
     "execution_count": 6,
     "metadata": {},
     "output_type": "execute_result"
    }
   ],
   "source": [
    "x_train[0:100]"
   ]
  },
  {
   "cell_type": "code",
   "execution_count": null,
   "metadata": {
    "colab": {
     "base_uri": "https://localhost:8080/"
    },
    "id": "fkW_ieKN6P8h",
    "outputId": "800a1d4e-0ef0-495d-cdd7-edd24b33c465"
   },
   "outputs": [
    {
     "data": {
      "text/plain": [
       "<tf.Tensor: shape=(100,), dtype=float32, numpy=\n",
       "array([  -10.,  2198., -2770.,   866.,   986., -2326.,   614.,  -250.,\n",
       "         974., -1414., -1354.,  2078.,  1022., -2698.,  2570.,   374.,\n",
       "         -34.,  -154., -1594., -2494.,  -358.,  -886.,   842., -1162.,\n",
       "        -226.,  -274.,  2006.,  -562., -1486.,   950., -2626., -1642.,\n",
       "        2642.,   254., -1318., -2314.,  -694., -2710., -2794.,   182.,\n",
       "       -2206.,  -502.,  2750., -1870.,    38.,   194., -2722.,  -334.,\n",
       "         134.,  2114., -2938., -1606., -2458., -2806.,  2546.,  1286.,\n",
       "       -2962.,  -382.,  1862., -2278., -1678.,   818.,  2138., -2650.,\n",
       "        2246.,  2654., -2686., -2914.,  2438., -1702., -2554., -1114.,\n",
       "        2870., -1582., -1630.,  -898.,  1478.,  -826., -1270.,  1430.,\n",
       "        1682.,  -658.,  1850.,   302.,  2450., -1306.,  1382., -2194.,\n",
       "        -478.,  -982.,  2918.,  1502.,  1802.,   266., -1690.,   -22.,\n",
       "       -1258., -1894., -1174.,  1406.], dtype=float32)>"
      ]
     },
     "execution_count": 7,
     "metadata": {},
     "output_type": "execute_result"
    }
   ],
   "source": [
    "y_train[0:100]"
   ]
  },
  {
   "cell_type": "code",
   "execution_count": null,
   "metadata": {
    "colab": {
     "base_uri": "https://localhost:8080/"
    },
    "id": "9a13dnxc6TEY",
    "outputId": "66c3356e-835a-4441-906c-019b7783d2b6"
   },
   "outputs": [
    {
     "name": "stdout",
     "output_type": "stream",
     "text": [
      "Model: \"sequential_1\"\n",
      "_________________________________________________________________\n",
      " Layer (type)                Output Shape              Param #   \n",
      "=================================================================\n",
      " input_layer (Dense)         (None, 30)                60        \n",
      "                                                                 \n",
      " hidden_layer1 (Dense)       (None, 80)                2480      \n",
      "                                                                 \n",
      " hidden_layer2 (Dense)       (None, 90)                7290      \n",
      "                                                                 \n",
      " output_layer (Dense)        (None, 1)                 91        \n",
      "                                                                 \n",
      "=================================================================\n",
      "Total params: 9,921\n",
      "Trainable params: 9,921\n",
      "Non-trainable params: 0\n",
      "_________________________________________________________________\n"
     ]
    }
   ],
   "source": [
    "model.summary()"
   ]
  },
  {
   "cell_type": "code",
   "execution_count": null,
   "metadata": {
    "colab": {
     "base_uri": "https://localhost:8080/"
    },
    "id": "xNln0nwn7jUX",
    "outputId": "27370386-599c-45c2-8025-b57b0f5d3400"
   },
   "outputs": [
    {
     "name": "stdout",
     "output_type": "stream",
     "text": [
      "1/1 [==============================] - 0s 69ms/step\n"
     ]
    },
    {
     "data": {
      "text/plain": [
       "array([[29.024857],\n",
       "       [32.02652 ],\n",
       "       [35.028183]], dtype=float32)"
      ]
     },
     "execution_count": 9,
     "metadata": {},
     "output_type": "execute_result"
    }
   ],
   "source": [
    "model.predict([9,10,11])"
   ]
  },
  {
   "cell_type": "code",
   "execution_count": null,
   "metadata": {
    "colab": {
     "base_uri": "https://localhost:8080/",
     "height": 466
    },
    "id": "cEXKWMF07jWX",
    "outputId": "7e2e9b2f-b6f3-4ea7-ae6d-eb376a7c27f5"
   },
   "outputs": [
    {
     "data": {
      "image/png": "[encoded data removed]",
      "text/plain": [
       "<IPython.core.display.Image object>"
      ]
     },
     "execution_count": 10,
     "metadata": {},
     "output_type": "execute_result"
    }
   ],
   "source": [
    "plot_model(model=model)"
   ]
  },
  {
   "cell_type": "markdown",
   "metadata": {
    "id": "YgsAoHC1pPiW"
   },
   "source": [
    "# visualizing model's prediction"
   ]
  },
  {
   "cell_type": "code",
   "execution_count": null,
   "metadata": {
    "colab": {
     "base_uri": "https://localhost:8080/"
    },
    "id": "zT3ShfvXpYez",
    "outputId": "0cc7f19f-ff5c-4f8f-c77a-440fab302aaa"
   },
   "outputs": [
    {
     "name": "stdout",
     "output_type": "stream",
     "text": [
      "4/4 [==============================] - 0s 5ms/step - loss: 0.9578 - mean_squared_error: 1.1192\n"
     ]
    },
    {
     "data": {
      "text/plain": [
       "[0.9577726721763611, 1.119189977645874]"
      ]
     },
     "execution_count": 11,
     "metadata": {},
     "output_type": "execute_result"
    }
   ],
   "source": [
    "# Evaluate on the test data\n",
    "\n",
    "model.evaluate(x_test,y_test)\n",
    "\n"
   ]
  },
  {
   "cell_type": "code",
   "execution_count": null,
   "metadata": {
    "colab": {
     "base_uri": "https://localhost:8080/"
    },
    "id": "Im-ZYN4FwM74",
    "outputId": "5d595761-c23b-4629-ddd1-1ad09bb31063"
   },
   "outputs": [
    {
     "data": {
      "text/plain": [
       "400"
      ]
     },
     "execution_count": 23,
     "metadata": {},
     "output_type": "execute_result"
    }
   ],
   "source": [
    "len(x_train)"
   ]
  },
  {
   "cell_type": "code",
   "execution_count": null,
   "metadata": {
    "colab": {
     "base_uri": "https://localhost:8080/"
    },
    "id": "xHNNG3c7wQKz",
    "outputId": "a71dd8ed-fc4e-43f7-c797-f4eb0b232d97"
   },
   "outputs": [
    {
     "data": {
      "text/plain": [
       "400"
      ]
     },
     "execution_count": 24,
     "metadata": {},
     "output_type": "execute_result"
    }
   ],
   "source": [
    "len(y_train)"
   ]
  },
  {
   "cell_type": "code",
   "execution_count": null,
   "metadata": {
    "colab": {
     "base_uri": "https://localhost:8080/"
    },
    "id": "UeiXzi4awTze",
    "outputId": "b86adbc7-c064-4c84-83fb-e086b8599a3b"
   },
   "outputs": [
    {
     "name": "stdout",
     "output_type": "stream",
     "text": [
      "4/4 [==============================] - 0s 3ms/step\n"
     ]
    },
    {
     "data": {
      "text/plain": [
       "(<tf.Tensor: shape=(), dtype=float32, numpy=0.9577727>,\n",
       " <tf.Tensor: shape=(), dtype=float32, numpy=1.11919>,\n",
       " <tf.Tensor: shape=(), dtype=float32, numpy=0.52055174>)"
      ]
     },
     "execution_count": 14,
     "metadata": {},
     "output_type": "execute_result"
    }
   ],
   "source": [
    "# calculating both mse and mae\n",
    "\n",
    "prediction1 = model.predict(x_test)\n",
    "\n",
    "actual1 = y_test\n",
    "\n",
    "# squeezing the dimension to get the calculation right!\n",
    "prediction1 = tf.squeeze(tf.constant(prediction1))\n",
    "\n",
    "mse = tf.metrics.mean_squared_error(actual1,prediction1)\n",
    "mae = tf.metrics.mean_absolute_error(actual1,prediction1)\n",
    "huber = tf.keras.losses.Huber()(actual1,prediction1)\n",
    "\n",
    "mae,mse,huber\n"
   ]
  },
  {
   "cell_type": "code",
   "execution_count": null,
   "metadata": {
    "id": "5U1dmizLBy9Y"
   },
   "outputs": [],
   "source": [
    "def errors(actual,prediction):\n",
    "\n",
    "  lis = []\n",
    "\n",
    "  prediction = tf.squeeze(prediction)\n",
    "  mse = tf.metrics.mean_squared_error(actual,prediction)\n",
    "  mae = tf.metrics.mean_absolute_error(actual,prediction)\n",
    "  huber = tf.keras.losses.Huber()(actual,prediction)\n",
    "\n",
    "  lis.append(('Mse: ',mse.numpy()))\n",
    "  lis.append(('Mae: ',mae.numpy()))\n",
    "  lis.append(('huber: ',huber.numpy()))\n",
    "\n",
    "\n",
    "  return lis\n",
    "\n",
    "\n",
    "\n"
   ]
  },
  {
   "cell_type": "code",
   "execution_count": null,
   "metadata": {
    "colab": {
     "base_uri": "https://localhost:8080/"
    },
    "id": "e5hW6LQ9ERNA",
    "outputId": "ae4d614e-c02e-4d64-a233-2efa2cc72ea7"
   },
   "outputs": [
    {
     "data": {
      "text/plain": [
       "[('Mse: ', 1.11919), ('Mae: ', 0.9577727), ('huber: ', 0.52055174)]"
      ]
     },
     "execution_count": 15,
     "metadata": {},
     "output_type": "execute_result"
    }
   ],
   "source": [
    "errors(actual1,prediction1)"
   ]
  },
  {
   "cell_type": "code",
   "execution_count": null,
   "metadata": {
    "colab": {
     "base_uri": "https://localhost:8080/",
     "height": 447
    },
    "id": "ad3ub7QAuhIy",
    "outputId": "95ded9ab-3a20-47c6-f72e-cfa8d32057a7"
   },
   "outputs": [
    {
     "name": "stdout",
     "output_type": "stream",
     "text": [
      "4/4 [==============================] - 0s 7ms/step\n"
     ]
    },
    {
     "data": {
      "image/png": "[encoded data removed]",
      "text/plain": [
       "<Figure size 640x480 with 1 Axes>"
      ]
     },
     "metadata": {},
     "output_type": "display_data"
    }
   ],
   "source": [
    "def plot_predictions(x_train,y_train,x_test,y_test):\n",
    "\n",
    "  # plotting the training data in blue\n",
    "  plt.scatter(x_train,y_train,color='blue',label='Training_data')\n",
    "\n",
    "  # plotting the testing data in green\n",
    "  plt.scatter(x_test,y_test,color='green',label='Testing_data')\n",
    "\n",
    "  # plotting the predictions in red\n",
    "  prediction = model.predict(x_test)\n",
    "  actual = y_test\n",
    "\n",
    "  plt.scatter(x_test,prediction,color='red',label='Prediction',alpha=0.3)\n",
    "\n",
    "\n",
    "  plt.legend(loc=(1.1,0.5))\n",
    "\n",
    "  plt.show()\n",
    "\n",
    "\n",
    "\n",
    "plot_predictions(x_train,y_train,x_test,y_test)\n",
    "\n"
   ]
  },
  {
   "cell_type": "markdown",
   "metadata": {
    "id": "6YpLFqTdxTj-"
   },
   "source": [
    "# conclusion:\n",
    "\n",
    "since the red dots perfectly align with the green dots, they merge. which means that the predictions match the actual data(perhaps with a little bit of variance)."
   ]
  },
  {
   "cell_type": "code",
   "execution_count": null,
   "metadata": {
    "id": "OeGWPbY2xliG"
   },
   "outputs": [],
   "source": []
  },
  {
   "cell_type": "markdown",
   "metadata": {
    "id": "aoPfpRaXw4-b"
   },
   "source": [
    "# Experimenting with data\n",
    "\n",
    "1. decrease the data points\n",
    "2. increase the epochs to 300"
   ]
  },
  {
   "cell_type": "markdown",
   "metadata": {
    "id": "lJ6a_q83D65Y"
   },
   "source": [
    "# day 124 and day 125"
   ]
  },
  {
   "cell_type": "code",
   "execution_count": null,
   "metadata": {
    "id": "Iyt9qms60V9R"
   },
   "outputs": [],
   "source": [
    "import numpy as np\n",
    "import pandas as pd\n",
    "import matplotlib.pyplot as plt\n",
    "import tensorflow as tf\n",
    "from tensorflow.keras.utils import plot_model"
   ]
  },
  {
   "cell_type": "code",
   "execution_count": null,
   "metadata": {
    "colab": {
     "base_uri": "https://localhost:8080/"
    },
    "id": "uKTfeP7V4_8S",
    "outputId": "0f4deeb2-1515-4480-e10b-4f9e524fc3c3"
   },
   "outputs": [
    {
     "data": {
      "text/plain": [
       "<keras.callbacks.History at 0x7f40b5cafd90>"
      ]
     },
     "execution_count": 17,
     "metadata": {},
     "output_type": "execute_result"
    }
   ],
   "source": [
    "# trail2: experiment with 300 epochs\n",
    "\n",
    "# x and y\n",
    "x = np.arange(-100,100,2)\n",
    "y = 3*x + 2\n",
    "\n",
    "# random seed_settting\n",
    "tf.random.set_seed(42)\n",
    "\n",
    "# model_building\n",
    "model2 = tf.keras.Sequential()\n",
    "model2.add(tf.keras.layers.Dense(30,input_shape=[1],name='input_layer'))\n",
    "model2.add(tf.keras.layers.Dense(80,name='hidden_layer1'))\n",
    "model2.add(tf.keras.layers.Dense(90,name='hidden_layer2'))\n",
    "model2.add(tf.keras.layers.Dense(1,activation='linear',name='output_layer'))\n",
    "\n",
    "# compilation:\n",
    "model2.compile(loss=tf.keras.losses.MeanAbsoluteError(),\n",
    "              optimizer=tf.keras.optimizers.Adam(learning_rate=0.0001),\n",
    "              metrics=[tf.keras.metrics.MeanSquaredError()])\n",
    "\n",
    "#splitting\n",
    "from sklearn.model_selection import train_test_split\n",
    "x_train, x_test, y_train, y_test = train_test_split(x,y,test_size=0.2,random_state=42)\n",
    "\n",
    "# conversion to tensors\n",
    "x_train = tf.constant(x_train,dtype=tf.float32)\n",
    "x_test = tf.constant(x_test,dtype=tf.float32)\n",
    "y_train = tf.constant(y_train,dtype=tf.float32)\n",
    "y_test = tf.constant(y_test,dtype=tf.float32)\n",
    "\n",
    "model2.fit(x_train,y_train,epochs=300,verbose=False)\n",
    "\n",
    "\n"
   ]
  },
  {
   "cell_type": "code",
   "execution_count": null,
   "metadata": {
    "colab": {
     "base_uri": "https://localhost:8080/"
    },
    "id": "tDajDz8h5mWV",
    "outputId": "b57017dc-b6d1-4258-dc50-8da8c110be5d"
   },
   "outputs": [
    {
     "name": "stdout",
     "output_type": "stream",
     "text": [
      "1/1 [==============================] - 0s 60ms/step\n"
     ]
    }
   ],
   "source": [
    "actual2 = y_test\n",
    "prediction2 = model2.predict(x_test)"
   ]
  },
  {
   "cell_type": "code",
   "execution_count": null,
   "metadata": {
    "colab": {
     "base_uri": "https://localhost:8080/",
     "height": 447
    },
    "id": "XdK2wRO35HZX",
    "outputId": "efbbc465-59fc-4767-9555-4265006d144c"
   },
   "outputs": [
    {
     "name": "stdout",
     "output_type": "stream",
     "text": [
      "1/1 [==============================] - 0s 31ms/step\n"
     ]
    },
    {
     "data": {
      "image/png": "[encoded data removed]",
      "text/plain": [
       "<Figure size 640x480 with 1 Axes>"
      ]
     },
     "metadata": {},
     "output_type": "display_data"
    }
   ],
   "source": [
    "plot_predictions(x_train,y_train,x_test,y_test)"
   ]
  },
  {
   "cell_type": "code",
   "execution_count": null,
   "metadata": {
    "colab": {
     "base_uri": "https://localhost:8080/"
    },
    "id": "YLI5x0rQ54Ie",
    "outputId": "ecb271c4-4df1-4ec2-df44-b8e6c63591f2"
   },
   "outputs": [
    {
     "data": {
      "text/plain": [
       "[('Mse: ', 0.030281523), ('Mae: ', 0.15492344), ('huber: ', 0.015140762)]"
      ]
     },
     "execution_count": 20,
     "metadata": {},
     "output_type": "execute_result"
    }
   ],
   "source": [
    "errors(actual2,prediction2)"
   ]
  },
  {
   "cell_type": "code",
   "execution_count": null,
   "metadata": {
    "colab": {
     "base_uri": "https://localhost:8080/"
    },
    "id": "XGxjPk2D0pQB",
    "outputId": "33a6a148-2166-46af-c1bd-d9643f3573f0"
   },
   "outputs": [
    {
     "name": "stdout",
     "output_type": "stream",
     "text": [
      "1/1 [==============================] - 0s 50ms/step\n"
     ]
    },
    {
     "data": {
      "text/plain": [
       "array([[29.024857],\n",
       "       [32.02652 ],\n",
       "       [35.028183]], dtype=float32)"
      ]
     },
     "execution_count": 21,
     "metadata": {},
     "output_type": "execute_result"
    }
   ],
   "source": [
    "model.predict([9,10,11])"
   ]
  },
  {
   "cell_type": "markdown",
   "metadata": {
    "id": "mBr35vzgBued"
   },
   "source": [
    "# comparing the results of our experiments"
   ]
  },
  {
   "cell_type": "code",
   "execution_count": null,
   "metadata": {
    "colab": {
     "base_uri": "https://localhost:8080/",
     "height": 112
    },
    "id": "ew1klTLJBz3u",
    "outputId": "dbe3ef25-07c9-4af4-fcdd-5bd0a07401a8"
   },
   "outputs": [
    {
     "data": {
      "text/html": [
       "\n",
       "  <div id=\"df-80076458-9fa1-4f5e-b217-6f2a762383d6\">\n",
       "    <div class=\"colab-df-container\">\n",
       "      <div>\n",
       "<style scoped>\n",
       "    .dataframe tbody tr th:only-of-type {\n",
       "        vertical-align: middle;\n",
       "    }\n",
       "\n",
       "    .dataframe tbody tr th {\n",
       "        vertical-align: top;\n",
       "    }\n",
       "\n",
       "    .dataframe thead th {\n",
       "        text-align: right;\n",
       "    }\n",
       "</style>\n",
       "<table border=\"1\" class=\"dataframe\">\n",
       "  <thead>\n",
       "    <tr style=\"text-align: right;\">\n",
       "      <th></th>\n",
       "      <th>Model</th>\n",
       "      <th>Mse</th>\n",
       "      <th>Mae</th>\n",
       "      <th>Huber</th>\n",
       "    </tr>\n",
       "  </thead>\n",
       "  <tbody>\n",
       "    <tr>\n",
       "      <th>0</th>\n",
       "      <td>model:</td>\n",
       "      <td>1.119190</td>\n",
       "      <td>0.957773</td>\n",
       "      <td>0.520552</td>\n",
       "    </tr>\n",
       "    <tr>\n",
       "      <th>1</th>\n",
       "      <td>model2:</td>\n",
       "      <td>0.030282</td>\n",
       "      <td>0.154923</td>\n",
       "      <td>0.015141</td>\n",
       "    </tr>\n",
       "  </tbody>\n",
       "</table>\n",
       "</div>\n",
       "      <button class=\"colab-df-convert\" onclick=\"convertToInteractive('df-80076458-9fa1-4f5e-b217-6f2a762383d6')\"\n",
       "              title=\"Convert this dataframe to an interactive table.\"\n",
       "              style=\"display:none;\">\n",
       "        \n",
       "  <svg xmlns=\"http://www.w3.org/2000/svg\" height=\"24px\"viewBox=\"0 0 24 24\"\n",
       "       width=\"24px\">\n",
       "    <path d=\"M0 0h24v24H0V0z\" fill=\"none\"/>\n",
       "    <path d=\"M18.56 5.44l.94 2.06.94-2.06 2.06-.94-2.06-.94-.94-2.06-.94 2.06-2.06.94zm-11 1L8.5 8.5l.94-2.06 2.06-.94-2.06-.94L8.5 2.5l-.94 2.06-2.06.94zm10 10l.94 2.06.94-2.06 2.06-.94-2.06-.94-.94-2.06-.94 2.06-2.06.94z\"/><path d=\"M17.41 7.96l-1.37-1.37c-.4-.4-.92-.59-1.43-.59-.52 0-1.04.2-1.43.59L10.3 9.45l-7.72 7.72c-.78.78-.78 2.05 0 2.83L4 21.41c.39.39.9.59 1.41.59.51 0 1.02-.2 1.41-.59l7.78-7.78 2.81-2.81c.8-.78.8-2.07 0-2.86zM5.41 20L4 18.59l7.72-7.72 1.47 1.35L5.41 20z\"/>\n",
       "  </svg>\n",
       "      </button>\n",
       "      \n",
       "  <style>\n",
       "    .colab-df-container {\n",
       "      display:flex;\n",
       "      flex-wrap:wrap;\n",
       "      gap: 12px;\n",
       "    }\n",
       "\n",
       "    .colab-df-convert {\n",
       "      background-color: #E8F0FE;\n",
       "      border: none;\n",
       "      border-radius: 50%;\n",
       "      cursor: pointer;\n",
       "      display: none;\n",
       "      fill: #1967D2;\n",
       "      height: 32px;\n",
       "      padding: 0 0 0 0;\n",
       "      width: 32px;\n",
       "    }\n",
       "\n",
       "    .colab-df-convert:hover {\n",
       "      background-color: #E2EBFA;\n",
       "      box-shadow: 0px 1px 2px rgba(60, 64, 67, 0.3), 0px 1px 3px 1px rgba(60, 64, 67, 0.15);\n",
       "      fill: #174EA6;\n",
       "    }\n",
       "\n",
       "    [theme=dark] .colab-df-convert {\n",
       "      background-color: #3B4455;\n",
       "      fill: #D2E3FC;\n",
       "    }\n",
       "\n",
       "    [theme=dark] .colab-df-convert:hover {\n",
       "      background-color: #434B5C;\n",
       "      box-shadow: 0px 1px 3px 1px rgba(0, 0, 0, 0.15);\n",
       "      filter: drop-shadow(0px 1px 2px rgba(0, 0, 0, 0.3));\n",
       "      fill: #FFFFFF;\n",
       "    }\n",
       "  </style>\n",
       "\n",
       "      <script>\n",
       "        const buttonEl =\n",
       "          document.querySelector('#df-80076458-9fa1-4f5e-b217-6f2a762383d6 button.colab-df-convert');\n",
       "        buttonEl.style.display =\n",
       "          google.colab.kernel.accessAllowed ? 'block' : 'none';\n",
       "\n",
       "        async function convertToInteractive(key) {\n",
       "          const element = document.querySelector('#df-80076458-9fa1-4f5e-b217-6f2a762383d6');\n",
       "          const dataTable =\n",
       "            await google.colab.kernel.invokeFunction('convertToInteractive',\n",
       "                                                     [key], {});\n",
       "          if (!dataTable) return;\n",
       "\n",
       "          const docLinkHtml = 'Like what you see? Visit the ' +\n",
       "            '<a target=\"_blank\" href=https://colab.research.google.com/notebooks/data_table.ipynb>data table notebook</a>'\n",
       "            + ' to learn more about interactive tables.';\n",
       "          element.innerHTML = '';\n",
       "          dataTable['output_type'] = 'display_data';\n",
       "          await google.colab.output.renderOutput(dataTable, element);\n",
       "          const docLink = document.createElement('div');\n",
       "          docLink.innerHTML = docLinkHtml;\n",
       "          element.appendChild(docLink);\n",
       "        }\n",
       "      </script>\n",
       "    </div>\n",
       "  </div>\n",
       "  "
      ],
      "text/plain": [
       "     Model       Mse       Mae     Huber\n",
       "0   model:  1.119190  0.957773  0.520552\n",
       "1  model2:  0.030282  0.154923  0.015141"
      ]
     },
     "execution_count": 22,
     "metadata": {},
     "output_type": "execute_result"
    }
   ],
   "source": [
    "\n",
    "model_results = [['model:',errors(actual1,prediction1)[0][1],errors(actual1,prediction1)[1][1],errors(actual1,prediction1)[2][1]],\n",
    "                 ['model2:',errors(actual2,prediction2)[0][1],errors(actual2,prediction2)[1][1],errors(actual2,prediction2)[2][1]]]\n",
    "\n",
    "DataFrame = pd.DataFrame(model_results,columns=['Model','Mse','Mae','Huber'])\n",
    "\n",
    "DataFrame"
   ]
  },
  {
   "cell_type": "code",
   "execution_count": null,
   "metadata": {
    "colab": {
     "base_uri": "https://localhost:8080/"
    },
    "id": "m8jBL-q1JzZ7",
    "outputId": "026dc903-ae96-4e9b-fc8f-19373a14f62a"
   },
   "outputs": [
    {
     "name": "stdout",
     "output_type": "stream",
     "text": [
      "Model: \"sequential_2\"\n",
      "_________________________________________________________________\n",
      " Layer (type)                Output Shape              Param #   \n",
      "=================================================================\n",
      " input_layer (Dense)         (None, 30)                60        \n",
      "                                                                 \n",
      " hidden_layer1 (Dense)       (None, 80)                2480      \n",
      "                                                                 \n",
      " hidden_layer2 (Dense)       (None, 90)                7290      \n",
      "                                                                 \n",
      " output_layer (Dense)        (None, 1)                 91        \n",
      "                                                                 \n",
      "=================================================================\n",
      "Total params: 9,921\n",
      "Trainable params: 9,921\n",
      "Non-trainable params: 0\n",
      "_________________________________________________________________\n"
     ]
    }
   ],
   "source": [
    "model2.summary()"
   ]
  },
  {
   "cell_type": "markdown",
   "metadata": {
    "id": "-gJFk3hUL2eP"
   },
   "source": [
    "# saving a tensorflow model\n",
    "\n",
    "# format:\n",
    "model.save('name_of_the_file')\n",
    "\n",
    "# format for saving in as a HDF5 file:\n",
    "model.save('name_of_the_file.h5)\n",
    "\n",
    "\n",
    "* .h5 files can be used on different programming platforms such as on java,c++, so it is pretty much handy when you want to transfer things across systems."
   ]
  },
  {
   "cell_type": "code",
   "execution_count": null,
   "metadata": {
    "id": "YfQYu-cNL56R"
   },
   "outputs": [],
   "source": [
    "# normal save\n",
    "\n",
    "model2.save('first_save_tensorflow_model2')"
   ]
  },
  {
   "cell_type": "code",
   "execution_count": null,
   "metadata": {
    "id": "C_F1rPeuNkIY"
   },
   "outputs": [],
   "source": [
    "# h5 save\n",
    "\n",
    "model2.save('first_hdf5_model2.h5')"
   ]
  },
  {
   "cell_type": "markdown",
   "metadata": {
    "id": "m8RAwC8jPy-R"
   },
   "source": [
    "# load the saved model and use it\n",
    "\n",
    "# format:\n",
    "tf.keras.models.load_model('path of the file')\n",
    "\n",
    "* copy the address of the file by clicking on the three button nearby the file you want to know the address of and click 'copy path'."
   ]
  },
  {
   "cell_type": "code",
   "execution_count": null,
   "metadata": {
    "colab": {
     "base_uri": "https://localhost:8080/"
    },
    "id": "GF37i2Z2P5QY",
    "outputId": "104b5989-179a-4825-f3a2-d213e79c0d41"
   },
   "outputs": [
    {
     "name": "stdout",
     "output_type": "stream",
     "text": [
      "Model: \"sequential_2\"\n",
      "_________________________________________________________________\n",
      " Layer (type)                Output Shape              Param #   \n",
      "=================================================================\n",
      " input_layer (Dense)         (None, 30)                60        \n",
      "                                                                 \n",
      " hidden_layer1 (Dense)       (None, 80)                2480      \n",
      "                                                                 \n",
      " hidden_layer2 (Dense)       (None, 90)                7290      \n",
      "                                                                 \n",
      " output_layer (Dense)        (None, 1)                 91        \n",
      "                                                                 \n",
      "=================================================================\n",
      "Total params: 9,921\n",
      "Trainable params: 9,921\n",
      "Non-trainable params: 0\n",
      "_________________________________________________________________\n"
     ]
    }
   ],
   "source": [
    "# loading the normally saved model\n",
    "\n",
    "retrieved_1 = tf.keras.models.load_model(\"/content/first_save_tensorflow_model2\")\n",
    "retrieved_1.summary()"
   ]
  },
  {
   "cell_type": "code",
   "execution_count": null,
   "metadata": {
    "colab": {
     "base_uri": "https://localhost:8080/"
    },
    "id": "J8nbL_B-RVKi",
    "outputId": "5e671832-60a0-443f-e8f2-d4998192bfe6"
   },
   "outputs": [
    {
     "name": "stdout",
     "output_type": "stream",
     "text": [
      "Model: \"sequential_2\"\n",
      "_________________________________________________________________\n",
      " Layer (type)                Output Shape              Param #   \n",
      "=================================================================\n",
      " input_layer (Dense)         (None, 30)                60        \n",
      "                                                                 \n",
      " hidden_layer1 (Dense)       (None, 80)                2480      \n",
      "                                                                 \n",
      " hidden_layer2 (Dense)       (None, 90)                7290      \n",
      "                                                                 \n",
      " output_layer (Dense)        (None, 1)                 91        \n",
      "                                                                 \n",
      "=================================================================\n",
      "Total params: 9,921\n",
      "Trainable params: 9,921\n",
      "Non-trainable params: 0\n",
      "_________________________________________________________________\n"
     ]
    }
   ],
   "source": [
    "# loading the .h5 file\n",
    "\n",
    "retrieved_2 = tf.keras.models.load_model('/content/first_hdf5_model2.h5')\n",
    "\n",
    "retrieved_2.summary()"
   ]
  },
  {
   "cell_type": "markdown",
   "metadata": {
    "id": "tVZFWJHzSu3q"
   },
   "source": [
    "# comparing the performance of the loaded_model with the model2"
   ]
  },
  {
   "cell_type": "code",
   "execution_count": null,
   "metadata": {
    "colab": {
     "base_uri": "https://localhost:8080/"
    },
    "id": "mXH7k2--S8tJ",
    "outputId": "9f9e07ff-b79a-436d-983d-e686f7a08cb5"
   },
   "outputs": [
    {
     "name": "stdout",
     "output_type": "stream",
     "text": [
      "1/1 [==============================] - 0s 70ms/step\n"
     ]
    },
    {
     "data": {
      "text/plain": [
       "array([[28.968708],\n",
       "       [31.965677],\n",
       "       [34.962646]], dtype=float32)"
      ]
     },
     "execution_count": 30,
     "metadata": {},
     "output_type": "execute_result"
    }
   ],
   "source": [
    "retrieved_1.predict([9,10,11])"
   ]
  },
  {
   "cell_type": "code",
   "execution_count": null,
   "metadata": {
    "colab": {
     "base_uri": "https://localhost:8080/"
    },
    "id": "3vVtGFSE27_J",
    "outputId": "604ca63a-8dbc-470d-b3b5-dbeebed7901a"
   },
   "outputs": [
    {
     "name": "stdout",
     "output_type": "stream",
     "text": [
      "1/1 [==============================] - 0s 79ms/step\n"
     ]
    },
    {
     "data": {
      "text/plain": [
       "array([[28.968708],\n",
       "       [31.965677],\n",
       "       [34.962646]], dtype=float32)"
      ]
     },
     "execution_count": 31,
     "metadata": {},
     "output_type": "execute_result"
    }
   ],
   "source": [
    "retrieved_2.predict([9,10,11])"
   ]
  },
  {
   "cell_type": "markdown",
   "metadata": {
    "id": "y8YQkxPJ3KYR"
   },
   "source": [
    "# conclusion:\n",
    "\n",
    "# i see not much difference"
   ]
  },
  {
   "cell_type": "code",
   "execution_count": null,
   "metadata": {
    "id": "1Uz2cILz3TU-"
   },
   "outputs": [],
   "source": []
  },
  {
   "cell_type": "markdown",
   "metadata": {
    "id": "zo1tqePUHKRr"
   },
   "source": [
    "# day 125 and day 126"
   ]
  },
  {
   "cell_type": "markdown",
   "metadata": {
    "id": "AJRk240AG-sz"
   },
   "source": [
    "# **Insurance Data**"
   ]
  },
  {
   "cell_type": "markdown",
   "metadata": {
    "id": "gwo8O05BGxi_"
   },
   "source": [
    "# playing with data from an insurance company to predict the cost of insurance based on the person's features"
   ]
  },
  {
   "cell_type": "code",
   "execution_count": null,
   "metadata": {
    "id": "U1N1rP6vHEJj"
   },
   "outputs": [],
   "source": [
    "import tensorflow as tf\n",
    "import pandas as pd\n",
    "import matplotlib.pyplot as plt\n",
    "import seaborn as sns\n",
    "import numpy as np"
   ]
  },
  {
   "cell_type": "code",
   "execution_count": null,
   "metadata": {
    "colab": {
     "base_uri": "https://localhost:8080/",
     "height": 206
    },
    "id": "jfb00CrcHWzz",
    "outputId": "ac8fb00f-6c72-49fb-9111-d0d0a4109c73"
   },
   "outputs": [
    {
     "data": {
      "text/html": [
       "\n",
       "  <div id=\"df-70efef0a-909f-49e2-b8dc-95eb816847fa\">\n",
       "    <div class=\"colab-df-container\">\n",
       "      <div>\n",
       "<style scoped>\n",
       "    .dataframe tbody tr th:only-of-type {\n",
       "        vertical-align: middle;\n",
       "    }\n",
       "\n",
       "    .dataframe tbody tr th {\n",
       "        vertical-align: top;\n",
       "    }\n",
       "\n",
       "    .dataframe thead th {\n",
       "        text-align: right;\n",
       "    }\n",
       "</style>\n",
       "<table border=\"1\" class=\"dataframe\">\n",
       "  <thead>\n",
       "    <tr style=\"text-align: right;\">\n",
       "      <th></th>\n",
       "      <th>age</th>\n",
       "      <th>sex</th>\n",
       "      <th>bmi</th>\n",
       "      <th>children</th>\n",
       "      <th>smoker</th>\n",
       "      <th>region</th>\n",
       "      <th>charges</th>\n",
       "    </tr>\n",
       "  </thead>\n",
       "  <tbody>\n",
       "    <tr>\n",
       "      <th>0</th>\n",
       "      <td>19</td>\n",
       "      <td>female</td>\n",
       "      <td>27.900</td>\n",
       "      <td>0</td>\n",
       "      <td>yes</td>\n",
       "      <td>southwest</td>\n",
       "      <td>16884.92400</td>\n",
       "    </tr>\n",
       "    <tr>\n",
       "      <th>1</th>\n",
       "      <td>18</td>\n",
       "      <td>male</td>\n",
       "      <td>33.770</td>\n",
       "      <td>1</td>\n",
       "      <td>no</td>\n",
       "      <td>southeast</td>\n",
       "      <td>1725.55230</td>\n",
       "    </tr>\n",
       "    <tr>\n",
       "      <th>2</th>\n",
       "      <td>28</td>\n",
       "      <td>male</td>\n",
       "      <td>33.000</td>\n",
       "      <td>3</td>\n",
       "      <td>no</td>\n",
       "      <td>southeast</td>\n",
       "      <td>4449.46200</td>\n",
       "    </tr>\n",
       "    <tr>\n",
       "      <th>3</th>\n",
       "      <td>33</td>\n",
       "      <td>male</td>\n",
       "      <td>22.705</td>\n",
       "      <td>0</td>\n",
       "      <td>no</td>\n",
       "      <td>northwest</td>\n",
       "      <td>21984.47061</td>\n",
       "    </tr>\n",
       "    <tr>\n",
       "      <th>4</th>\n",
       "      <td>32</td>\n",
       "      <td>male</td>\n",
       "      <td>28.880</td>\n",
       "      <td>0</td>\n",
       "      <td>no</td>\n",
       "      <td>northwest</td>\n",
       "      <td>3866.85520</td>\n",
       "    </tr>\n",
       "  </tbody>\n",
       "</table>\n",
       "</div>\n",
       "      <button class=\"colab-df-convert\" onclick=\"convertToInteractive('df-70efef0a-909f-49e2-b8dc-95eb816847fa')\"\n",
       "              title=\"Convert this dataframe to an interactive table.\"\n",
       "              style=\"display:none;\">\n",
       "        \n",
       "  <svg xmlns=\"http://www.w3.org/2000/svg\" height=\"24px\"viewBox=\"0 0 24 24\"\n",
       "       width=\"24px\">\n",
       "    <path d=\"M0 0h24v24H0V0z\" fill=\"none\"/>\n",
       "    <path d=\"M18.56 5.44l.94 2.06.94-2.06 2.06-.94-2.06-.94-.94-2.06-.94 2.06-2.06.94zm-11 1L8.5 8.5l.94-2.06 2.06-.94-2.06-.94L8.5 2.5l-.94 2.06-2.06.94zm10 10l.94 2.06.94-2.06 2.06-.94-2.06-.94-.94-2.06-.94 2.06-2.06.94z\"/><path d=\"M17.41 7.96l-1.37-1.37c-.4-.4-.92-.59-1.43-.59-.52 0-1.04.2-1.43.59L10.3 9.45l-7.72 7.72c-.78.78-.78 2.05 0 2.83L4 21.41c.39.39.9.59 1.41.59.51 0 1.02-.2 1.41-.59l7.78-7.78 2.81-2.81c.8-.78.8-2.07 0-2.86zM5.41 20L4 18.59l7.72-7.72 1.47 1.35L5.41 20z\"/>\n",
       "  </svg>\n",
       "      </button>\n",
       "      \n",
       "  <style>\n",
       "    .colab-df-container {\n",
       "      display:flex;\n",
       "      flex-wrap:wrap;\n",
       "      gap: 12px;\n",
       "    }\n",
       "\n",
       "    .colab-df-convert {\n",
       "      background-color: #E8F0FE;\n",
       "      border: none;\n",
       "      border-radius: 50%;\n",
       "      cursor: pointer;\n",
       "      display: none;\n",
       "      fill: #1967D2;\n",
       "      height: 32px;\n",
       "      padding: 0 0 0 0;\n",
       "      width: 32px;\n",
       "    }\n",
       "\n",
       "    .colab-df-convert:hover {\n",
       "      background-color: #E2EBFA;\n",
       "      box-shadow: 0px 1px 2px rgba(60, 64, 67, 0.3), 0px 1px 3px 1px rgba(60, 64, 67, 0.15);\n",
       "      fill: #174EA6;\n",
       "    }\n",
       "\n",
       "    [theme=dark] .colab-df-convert {\n",
       "      background-color: #3B4455;\n",
       "      fill: #D2E3FC;\n",
       "    }\n",
       "\n",
       "    [theme=dark] .colab-df-convert:hover {\n",
       "      background-color: #434B5C;\n",
       "      box-shadow: 0px 1px 3px 1px rgba(0, 0, 0, 0.15);\n",
       "      filter: drop-shadow(0px 1px 2px rgba(0, 0, 0, 0.3));\n",
       "      fill: #FFFFFF;\n",
       "    }\n",
       "  </style>\n",
       "\n",
       "      <script>\n",
       "        const buttonEl =\n",
       "          document.querySelector('#df-70efef0a-909f-49e2-b8dc-95eb816847fa button.colab-df-convert');\n",
       "        buttonEl.style.display =\n",
       "          google.colab.kernel.accessAllowed ? 'block' : 'none';\n",
       "\n",
       "        async function convertToInteractive(key) {\n",
       "          const element = document.querySelector('#df-70efef0a-909f-49e2-b8dc-95eb816847fa');\n",
       "          const dataTable =\n",
       "            await google.colab.kernel.invokeFunction('convertToInteractive',\n",
       "                                                     [key], {});\n",
       "          if (!dataTable) return;\n",
       "\n",
       "          const docLinkHtml = 'Like what you see? Visit the ' +\n",
       "            '<a target=\"_blank\" href=https://colab.research.google.com/notebooks/data_table.ipynb>data table notebook</a>'\n",
       "            + ' to learn more about interactive tables.';\n",
       "          element.innerHTML = '';\n",
       "          dataTable['output_type'] = 'display_data';\n",
       "          await google.colab.output.renderOutput(dataTable, element);\n",
       "          const docLink = document.createElement('div');\n",
       "          docLink.innerHTML = docLinkHtml;\n",
       "          element.appendChild(docLink);\n",
       "        }\n",
       "      </script>\n",
       "    </div>\n",
       "  </div>\n",
       "  "
      ],
      "text/plain": [
       "   age     sex     bmi  children smoker     region      charges\n",
       "0   19  female  27.900         0    yes  southwest  16884.92400\n",
       "1   18    male  33.770         1     no  southeast   1725.55230\n",
       "2   28    male  33.000         3     no  southeast   4449.46200\n",
       "3   33    male  22.705         0     no  northwest  21984.47061\n",
       "4   32    male  28.880         0     no  northwest   3866.85520"
      ]
     },
     "execution_count": 2,
     "metadata": {},
     "output_type": "execute_result"
    }
   ],
   "source": [
    "df = pd.read_csv('https://raw.githubusercontent.com/stedy/Machine-Learning-with-R-datasets/master/insurance.csv')\n",
    "df.head() # importing directly from the web."
   ]
  },
  {
   "cell_type": "code",
   "execution_count": null,
   "metadata": {
    "colab": {
     "base_uri": "https://localhost:8080/"
    },
    "id": "eP1Rs06OHisM",
    "outputId": "4378c365-096c-425e-9e90-1d094883c286"
   },
   "outputs": [
    {
     "name": "stdout",
     "output_type": "stream",
     "text": [
      "<class 'pandas.core.frame.DataFrame'>\n",
      "RangeIndex: 1338 entries, 0 to 1337\n",
      "Data columns (total 7 columns):\n",
      " #   Column    Non-Null Count  Dtype  \n",
      "---  ------    --------------  -----  \n",
      " 0   age       1338 non-null   int64  \n",
      " 1   sex       1338 non-null   object \n",
      " 2   bmi       1338 non-null   float64\n",
      " 3   children  1338 non-null   int64  \n",
      " 4   smoker    1338 non-null   object \n",
      " 5   region    1338 non-null   object \n",
      " 6   charges   1338 non-null   float64\n",
      "dtypes: float64(2), int64(2), object(3)\n",
      "memory usage: 73.3+ KB\n"
     ]
    }
   ],
   "source": [
    "df.info()"
   ]
  },
  {
   "cell_type": "code",
   "execution_count": null,
   "metadata": {
    "colab": {
     "base_uri": "https://localhost:8080/",
     "height": 300
    },
    "id": "RHz6w3XAHz_c",
    "outputId": "2bb90c5f-beff-4e18-ab1e-c96604a27853"
   },
   "outputs": [
    {
     "data": {
      "text/html": [
       "\n",
       "  <div id=\"df-e13d0943-434c-4be2-8992-608075fe5658\">\n",
       "    <div class=\"colab-df-container\">\n",
       "      <div>\n",
       "<style scoped>\n",
       "    .dataframe tbody tr th:only-of-type {\n",
       "        vertical-align: middle;\n",
       "    }\n",
       "\n",
       "    .dataframe tbody tr th {\n",
       "        vertical-align: top;\n",
       "    }\n",
       "\n",
       "    .dataframe thead th {\n",
       "        text-align: right;\n",
       "    }\n",
       "</style>\n",
       "<table border=\"1\" class=\"dataframe\">\n",
       "  <thead>\n",
       "    <tr style=\"text-align: right;\">\n",
       "      <th></th>\n",
       "      <th>age</th>\n",
       "      <th>bmi</th>\n",
       "      <th>children</th>\n",
       "      <th>charges</th>\n",
       "    </tr>\n",
       "  </thead>\n",
       "  <tbody>\n",
       "    <tr>\n",
       "      <th>count</th>\n",
       "      <td>1338.000000</td>\n",
       "      <td>1338.000000</td>\n",
       "      <td>1338.000000</td>\n",
       "      <td>1338.000000</td>\n",
       "    </tr>\n",
       "    <tr>\n",
       "      <th>mean</th>\n",
       "      <td>39.207025</td>\n",
       "      <td>30.663397</td>\n",
       "      <td>1.094918</td>\n",
       "      <td>13270.422265</td>\n",
       "    </tr>\n",
       "    <tr>\n",
       "      <th>std</th>\n",
       "      <td>14.049960</td>\n",
       "      <td>6.098187</td>\n",
       "      <td>1.205493</td>\n",
       "      <td>12110.011237</td>\n",
       "    </tr>\n",
       "    <tr>\n",
       "      <th>min</th>\n",
       "      <td>18.000000</td>\n",
       "      <td>15.960000</td>\n",
       "      <td>0.000000</td>\n",
       "      <td>1121.873900</td>\n",
       "    </tr>\n",
       "    <tr>\n",
       "      <th>25%</th>\n",
       "      <td>27.000000</td>\n",
       "      <td>26.296250</td>\n",
       "      <td>0.000000</td>\n",
       "      <td>4740.287150</td>\n",
       "    </tr>\n",
       "    <tr>\n",
       "      <th>50%</th>\n",
       "      <td>39.000000</td>\n",
       "      <td>30.400000</td>\n",
       "      <td>1.000000</td>\n",
       "      <td>9382.033000</td>\n",
       "    </tr>\n",
       "    <tr>\n",
       "      <th>75%</th>\n",
       "      <td>51.000000</td>\n",
       "      <td>34.693750</td>\n",
       "      <td>2.000000</td>\n",
       "      <td>16639.912515</td>\n",
       "    </tr>\n",
       "    <tr>\n",
       "      <th>max</th>\n",
       "      <td>64.000000</td>\n",
       "      <td>53.130000</td>\n",
       "      <td>5.000000</td>\n",
       "      <td>63770.428010</td>\n",
       "    </tr>\n",
       "  </tbody>\n",
       "</table>\n",
       "</div>\n",
       "      <button class=\"colab-df-convert\" onclick=\"convertToInteractive('df-e13d0943-434c-4be2-8992-608075fe5658')\"\n",
       "              title=\"Convert this dataframe to an interactive table.\"\n",
       "              style=\"display:none;\">\n",
       "        \n",
       "  <svg xmlns=\"http://www.w3.org/2000/svg\" height=\"24px\"viewBox=\"0 0 24 24\"\n",
       "       width=\"24px\">\n",
       "    <path d=\"M0 0h24v24H0V0z\" fill=\"none\"/>\n",
       "    <path d=\"M18.56 5.44l.94 2.06.94-2.06 2.06-.94-2.06-.94-.94-2.06-.94 2.06-2.06.94zm-11 1L8.5 8.5l.94-2.06 2.06-.94-2.06-.94L8.5 2.5l-.94 2.06-2.06.94zm10 10l.94 2.06.94-2.06 2.06-.94-2.06-.94-.94-2.06-.94 2.06-2.06.94z\"/><path d=\"M17.41 7.96l-1.37-1.37c-.4-.4-.92-.59-1.43-.59-.52 0-1.04.2-1.43.59L10.3 9.45l-7.72 7.72c-.78.78-.78 2.05 0 2.83L4 21.41c.39.39.9.59 1.41.59.51 0 1.02-.2 1.41-.59l7.78-7.78 2.81-2.81c.8-.78.8-2.07 0-2.86zM5.41 20L4 18.59l7.72-7.72 1.47 1.35L5.41 20z\"/>\n",
       "  </svg>\n",
       "      </button>\n",
       "      \n",
       "  <style>\n",
       "    .colab-df-container {\n",
       "      display:flex;\n",
       "      flex-wrap:wrap;\n",
       "      gap: 12px;\n",
       "    }\n",
       "\n",
       "    .colab-df-convert {\n",
       "      background-color: #E8F0FE;\n",
       "      border: none;\n",
       "      border-radius: 50%;\n",
       "      cursor: pointer;\n",
       "      display: none;\n",
       "      fill: #1967D2;\n",
       "      height: 32px;\n",
       "      padding: 0 0 0 0;\n",
       "      width: 32px;\n",
       "    }\n",
       "\n",
       "    .colab-df-convert:hover {\n",
       "      background-color: #E2EBFA;\n",
       "      box-shadow: 0px 1px 2px rgba(60, 64, 67, 0.3), 0px 1px 3px 1px rgba(60, 64, 67, 0.15);\n",
       "      fill: #174EA6;\n",
       "    }\n",
       "\n",
       "    [theme=dark] .colab-df-convert {\n",
       "      background-color: #3B4455;\n",
       "      fill: #D2E3FC;\n",
       "    }\n",
       "\n",
       "    [theme=dark] .colab-df-convert:hover {\n",
       "      background-color: #434B5C;\n",
       "      box-shadow: 0px 1px 3px 1px rgba(0, 0, 0, 0.15);\n",
       "      filter: drop-shadow(0px 1px 2px rgba(0, 0, 0, 0.3));\n",
       "      fill: #FFFFFF;\n",
       "    }\n",
       "  </style>\n",
       "\n",
       "      <script>\n",
       "        const buttonEl =\n",
       "          document.querySelector('#df-e13d0943-434c-4be2-8992-608075fe5658 button.colab-df-convert');\n",
       "        buttonEl.style.display =\n",
       "          google.colab.kernel.accessAllowed ? 'block' : 'none';\n",
       "\n",
       "        async function convertToInteractive(key) {\n",
       "          const element = document.querySelector('#df-e13d0943-434c-4be2-8992-608075fe5658');\n",
       "          const dataTable =\n",
       "            await google.colab.kernel.invokeFunction('convertToInteractive',\n",
       "                                                     [key], {});\n",
       "          if (!dataTable) return;\n",
       "\n",
       "          const docLinkHtml = 'Like what you see? Visit the ' +\n",
       "            '<a target=\"_blank\" href=https://colab.research.google.com/notebooks/data_table.ipynb>data table notebook</a>'\n",
       "            + ' to learn more about interactive tables.';\n",
       "          element.innerHTML = '';\n",
       "          dataTable['output_type'] = 'display_data';\n",
       "          await google.colab.output.renderOutput(dataTable, element);\n",
       "          const docLink = document.createElement('div');\n",
       "          docLink.innerHTML = docLinkHtml;\n",
       "          element.appendChild(docLink);\n",
       "        }\n",
       "      </script>\n",
       "    </div>\n",
       "  </div>\n",
       "  "
      ],
      "text/plain": [
       "               age          bmi     children       charges\n",
       "count  1338.000000  1338.000000  1338.000000   1338.000000\n",
       "mean     39.207025    30.663397     1.094918  13270.422265\n",
       "std      14.049960     6.098187     1.205493  12110.011237\n",
       "min      18.000000    15.960000     0.000000   1121.873900\n",
       "25%      27.000000    26.296250     0.000000   4740.287150\n",
       "50%      39.000000    30.400000     1.000000   9382.033000\n",
       "75%      51.000000    34.693750     2.000000  16639.912515\n",
       "max      64.000000    53.130000     5.000000  63770.428010"
      ]
     },
     "execution_count": 4,
     "metadata": {},
     "output_type": "execute_result"
    }
   ],
   "source": [
    "df.describe()"
   ]
  },
  {
   "cell_type": "code",
   "execution_count": null,
   "metadata": {
    "colab": {
     "base_uri": "https://localhost:8080/",
     "height": 449
    },
    "id": "-Wi0VpZKMG2d",
    "outputId": "c24b9af3-4f9e-4a1c-d036-a109f4067c5b"
   },
   "outputs": [
    {
     "data": {
      "image/png": "[encoded data removed]",
      "text/plain": [
       "<Figure size 640x480 with 1 Axes>"
      ]
     },
     "metadata": {},
     "output_type": "display_data"
    }
   ],
   "source": [
    "sns.scatterplot(data=df,x='region',y='charges');"
   ]
  },
  {
   "cell_type": "code",
   "execution_count": null,
   "metadata": {
    "colab": {
     "base_uri": "https://localhost:8080/",
     "height": 449
    },
    "id": "s1L2DDGHOUxE",
    "outputId": "0c921753-cc78-4129-ab7e-784aaee9c710"
   },
   "outputs": [
    {
     "data": {
      "image/png": "[encoded data removed]",
      "text/plain": [
       "<Figure size 640x480 with 1 Axes>"
      ]
     },
     "metadata": {},
     "output_type": "display_data"
    }
   ],
   "source": [
    "sns.boxplot(data=df,x='region',y='charges',hue='sex')\n",
    "\n",
    "# # zooming in\n",
    "# plt.ylim([0,30000])\n",
    "\n",
    "plt.legend(loc=(1.1,0.5))\n",
    "plt.show()"
   ]
  },
  {
   "cell_type": "code",
   "execution_count": null,
   "metadata": {
    "colab": {
     "base_uri": "https://localhost:8080/",
     "height": 449
    },
    "id": "0OFy2d1eMphM",
    "outputId": "9602c9c5-c0ec-42c7-b190-2ded05e7444e"
   },
   "outputs": [
    {
     "data": {
      "image/png": "[encoded data removed]",
      "text/plain": [
       "<Figure size 640x480 with 1 Axes>"
      ]
     },
     "metadata": {},
     "output_type": "display_data"
    }
   ],
   "source": [
    "sns.scatterplot(data=df,x='bmi',y='charges',hue='sex')\n",
    "\n",
    "\n",
    "plt.legend(loc=(1.1,0.5))\n",
    "plt.show()"
   ]
  },
  {
   "cell_type": "code",
   "execution_count": null,
   "metadata": {
    "id": "aPxhdEgTNiW2"
   },
   "outputs": [],
   "source": []
  },
  {
   "cell_type": "code",
   "execution_count": null,
   "metadata": {
    "colab": {
     "base_uri": "https://localhost:8080/",
     "height": 449
    },
    "id": "p0iH3zN2Njja",
    "outputId": "8834de61-3f8d-441e-bb0d-f12972aac488"
   },
   "outputs": [
    {
     "data": {
      "image/png": "[encoded data removed]",
      "text/plain": [
       "<Figure size 640x480 with 1 Axes>"
      ]
     },
     "metadata": {},
     "output_type": "display_data"
    }
   ],
   "source": [
    "sns.scatterplot(data=df,x='bmi',y='charges',hue='region')\n",
    "\n",
    "\n",
    "plt.legend(loc=(1.1,0.5))\n",
    "plt.show()"
   ]
  },
  {
   "cell_type": "code",
   "execution_count": null,
   "metadata": {
    "colab": {
     "base_uri": "https://localhost:8080/",
     "height": 206
    },
    "id": "xxQeasJMOPPM",
    "outputId": "3670e979-acdd-45d9-f18d-156b370cf04a"
   },
   "outputs": [
    {
     "data": {
      "text/html": [
       "\n",
       "  <div id=\"df-746c074e-fc34-4753-a769-05af05a52b2d\">\n",
       "    <div class=\"colab-df-container\">\n",
       "      <div>\n",
       "<style scoped>\n",
       "    .dataframe tbody tr th:only-of-type {\n",
       "        vertical-align: middle;\n",
       "    }\n",
       "\n",
       "    .dataframe tbody tr th {\n",
       "        vertical-align: top;\n",
       "    }\n",
       "\n",
       "    .dataframe thead th {\n",
       "        text-align: right;\n",
       "    }\n",
       "</style>\n",
       "<table border=\"1\" class=\"dataframe\">\n",
       "  <thead>\n",
       "    <tr style=\"text-align: right;\">\n",
       "      <th></th>\n",
       "      <th>age</th>\n",
       "      <th>bmi</th>\n",
       "      <th>children</th>\n",
       "      <th>charges</th>\n",
       "      <th>sex_female</th>\n",
       "      <th>sex_male</th>\n",
       "      <th>smoker_no</th>\n",
       "      <th>smoker_yes</th>\n",
       "      <th>region_northeast</th>\n",
       "      <th>region_northwest</th>\n",
       "      <th>region_southeast</th>\n",
       "      <th>region_southwest</th>\n",
       "    </tr>\n",
       "  </thead>\n",
       "  <tbody>\n",
       "    <tr>\n",
       "      <th>0</th>\n",
       "      <td>19</td>\n",
       "      <td>27.900</td>\n",
       "      <td>0</td>\n",
       "      <td>16884.92400</td>\n",
       "      <td>1</td>\n",
       "      <td>0</td>\n",
       "      <td>0</td>\n",
       "      <td>1</td>\n",
       "      <td>0</td>\n",
       "      <td>0</td>\n",
       "      <td>0</td>\n",
       "      <td>1</td>\n",
       "    </tr>\n",
       "    <tr>\n",
       "      <th>1</th>\n",
       "      <td>18</td>\n",
       "      <td>33.770</td>\n",
       "      <td>1</td>\n",
       "      <td>1725.55230</td>\n",
       "      <td>0</td>\n",
       "      <td>1</td>\n",
       "      <td>1</td>\n",
       "      <td>0</td>\n",
       "      <td>0</td>\n",
       "      <td>0</td>\n",
       "      <td>1</td>\n",
       "      <td>0</td>\n",
       "    </tr>\n",
       "    <tr>\n",
       "      <th>2</th>\n",
       "      <td>28</td>\n",
       "      <td>33.000</td>\n",
       "      <td>3</td>\n",
       "      <td>4449.46200</td>\n",
       "      <td>0</td>\n",
       "      <td>1</td>\n",
       "      <td>1</td>\n",
       "      <td>0</td>\n",
       "      <td>0</td>\n",
       "      <td>0</td>\n",
       "      <td>1</td>\n",
       "      <td>0</td>\n",
       "    </tr>\n",
       "    <tr>\n",
       "      <th>3</th>\n",
       "      <td>33</td>\n",
       "      <td>22.705</td>\n",
       "      <td>0</td>\n",
       "      <td>21984.47061</td>\n",
       "      <td>0</td>\n",
       "      <td>1</td>\n",
       "      <td>1</td>\n",
       "      <td>0</td>\n",
       "      <td>0</td>\n",
       "      <td>1</td>\n",
       "      <td>0</td>\n",
       "      <td>0</td>\n",
       "    </tr>\n",
       "    <tr>\n",
       "      <th>4</th>\n",
       "      <td>32</td>\n",
       "      <td>28.880</td>\n",
       "      <td>0</td>\n",
       "      <td>3866.85520</td>\n",
       "      <td>0</td>\n",
       "      <td>1</td>\n",
       "      <td>1</td>\n",
       "      <td>0</td>\n",
       "      <td>0</td>\n",
       "      <td>1</td>\n",
       "      <td>0</td>\n",
       "      <td>0</td>\n",
       "    </tr>\n",
       "  </tbody>\n",
       "</table>\n",
       "</div>\n",
       "      <button class=\"colab-df-convert\" onclick=\"convertToInteractive('df-746c074e-fc34-4753-a769-05af05a52b2d')\"\n",
       "              title=\"Convert this dataframe to an interactive table.\"\n",
       "              style=\"display:none;\">\n",
       "        \n",
       "  <svg xmlns=\"http://www.w3.org/2000/svg\" height=\"24px\"viewBox=\"0 0 24 24\"\n",
       "       width=\"24px\">\n",
       "    <path d=\"M0 0h24v24H0V0z\" fill=\"none\"/>\n",
       "    <path d=\"M18.56 5.44l.94 2.06.94-2.06 2.06-.94-2.06-.94-.94-2.06-.94 2.06-2.06.94zm-11 1L8.5 8.5l.94-2.06 2.06-.94-2.06-.94L8.5 2.5l-.94 2.06-2.06.94zm10 10l.94 2.06.94-2.06 2.06-.94-2.06-.94-.94-2.06-.94 2.06-2.06.94z\"/><path d=\"M17.41 7.96l-1.37-1.37c-.4-.4-.92-.59-1.43-.59-.52 0-1.04.2-1.43.59L10.3 9.45l-7.72 7.72c-.78.78-.78 2.05 0 2.83L4 21.41c.39.39.9.59 1.41.59.51 0 1.02-.2 1.41-.59l7.78-7.78 2.81-2.81c.8-.78.8-2.07 0-2.86zM5.41 20L4 18.59l7.72-7.72 1.47 1.35L5.41 20z\"/>\n",
       "  </svg>\n",
       "      </button>\n",
       "      \n",
       "  <style>\n",
       "    .colab-df-container {\n",
       "      display:flex;\n",
       "      flex-wrap:wrap;\n",
       "      gap: 12px;\n",
       "    }\n",
       "\n",
       "    .colab-df-convert {\n",
       "      background-color: #E8F0FE;\n",
       "      border: none;\n",
       "      border-radius: 50%;\n",
       "      cursor: pointer;\n",
       "      display: none;\n",
       "      fill: #1967D2;\n",
       "      height: 32px;\n",
       "      padding: 0 0 0 0;\n",
       "      width: 32px;\n",
       "    }\n",
       "\n",
       "    .colab-df-convert:hover {\n",
       "      background-color: #E2EBFA;\n",
       "      box-shadow: 0px 1px 2px rgba(60, 64, 67, 0.3), 0px 1px 3px 1px rgba(60, 64, 67, 0.15);\n",
       "      fill: #174EA6;\n",
       "    }\n",
       "\n",
       "    [theme=dark] .colab-df-convert {\n",
       "      background-color: #3B4455;\n",
       "      fill: #D2E3FC;\n",
       "    }\n",
       "\n",
       "    [theme=dark] .colab-df-convert:hover {\n",
       "      background-color: #434B5C;\n",
       "      box-shadow: 0px 1px 3px 1px rgba(0, 0, 0, 0.15);\n",
       "      filter: drop-shadow(0px 1px 2px rgba(0, 0, 0, 0.3));\n",
       "      fill: #FFFFFF;\n",
       "    }\n",
       "  </style>\n",
       "\n",
       "      <script>\n",
       "        const buttonEl =\n",
       "          document.querySelector('#df-746c074e-fc34-4753-a769-05af05a52b2d button.colab-df-convert');\n",
       "        buttonEl.style.display =\n",
       "          google.colab.kernel.accessAllowed ? 'block' : 'none';\n",
       "\n",
       "        async function convertToInteractive(key) {\n",
       "          const element = document.querySelector('#df-746c074e-fc34-4753-a769-05af05a52b2d');\n",
       "          const dataTable =\n",
       "            await google.colab.kernel.invokeFunction('convertToInteractive',\n",
       "                                                     [key], {});\n",
       "          if (!dataTable) return;\n",
       "\n",
       "          const docLinkHtml = 'Like what you see? Visit the ' +\n",
       "            '<a target=\"_blank\" href=https://colab.research.google.com/notebooks/data_table.ipynb>data table notebook</a>'\n",
       "            + ' to learn more about interactive tables.';\n",
       "          element.innerHTML = '';\n",
       "          dataTable['output_type'] = 'display_data';\n",
       "          await google.colab.output.renderOutput(dataTable, element);\n",
       "          const docLink = document.createElement('div');\n",
       "          docLink.innerHTML = docLinkHtml;\n",
       "          element.appendChild(docLink);\n",
       "        }\n",
       "      </script>\n",
       "    </div>\n",
       "  </div>\n",
       "  "
      ],
      "text/plain": [
       "   age     bmi  children      charges  sex_female  sex_male  smoker_no  \\\n",
       "0   19  27.900         0  16884.92400           1         0          0   \n",
       "1   18  33.770         1   1725.55230           0         1          1   \n",
       "2   28  33.000         3   4449.46200           0         1          1   \n",
       "3   33  22.705         0  21984.47061           0         1          1   \n",
       "4   32  28.880         0   3866.85520           0         1          1   \n",
       "\n",
       "   smoker_yes  region_northeast  region_northwest  region_southeast  \\\n",
       "0           1                 0                 0                 0   \n",
       "1           0                 0                 0                 1   \n",
       "2           0                 0                 0                 1   \n",
       "3           0                 0                 1                 0   \n",
       "4           0                 0                 1                 0   \n",
       "\n",
       "   region_southwest  \n",
       "0                 1  \n",
       "1                 0  \n",
       "2                 0  \n",
       "3                 0  \n",
       "4                 0  "
      ]
     },
     "execution_count": 9,
     "metadata": {},
     "output_type": "execute_result"
    }
   ],
   "source": [
    "# one hot encoded df (to transform categorical objects such as 'female','male','southwest' etc to numberical values)\n",
    "\n",
    "\n",
    "df = pd.get_dummies(df)\n",
    "\n",
    "df.head()\n"
   ]
  },
  {
   "cell_type": "code",
   "execution_count": null,
   "metadata": {
    "colab": {
     "base_uri": "https://localhost:8080/",
     "height": 423
    },
    "id": "-ECsxT9uPT13",
    "outputId": "eb35aa3b-1c4a-442e-9448-f09ebed40750"
   },
   "outputs": [
    {
     "data": {
      "text/html": [
       "\n",
       "  <div id=\"df-63264cca-5b7c-46f8-af4f-3324ef43c2b2\">\n",
       "    <div class=\"colab-df-container\">\n",
       "      <div>\n",
       "<style scoped>\n",
       "    .dataframe tbody tr th:only-of-type {\n",
       "        vertical-align: middle;\n",
       "    }\n",
       "\n",
       "    .dataframe tbody tr th {\n",
       "        vertical-align: top;\n",
       "    }\n",
       "\n",
       "    .dataframe thead th {\n",
       "        text-align: right;\n",
       "    }\n",
       "</style>\n",
       "<table border=\"1\" class=\"dataframe\">\n",
       "  <thead>\n",
       "    <tr style=\"text-align: right;\">\n",
       "      <th></th>\n",
       "      <th>age</th>\n",
       "      <th>bmi</th>\n",
       "      <th>children</th>\n",
       "      <th>sex_female</th>\n",
       "      <th>sex_male</th>\n",
       "      <th>smoker_no</th>\n",
       "      <th>smoker_yes</th>\n",
       "      <th>region_northeast</th>\n",
       "      <th>region_northwest</th>\n",
       "      <th>region_southeast</th>\n",
       "      <th>region_southwest</th>\n",
       "    </tr>\n",
       "  </thead>\n",
       "  <tbody>\n",
       "    <tr>\n",
       "      <th>0</th>\n",
       "      <td>19</td>\n",
       "      <td>27.900</td>\n",
       "      <td>0</td>\n",
       "      <td>1</td>\n",
       "      <td>0</td>\n",
       "      <td>0</td>\n",
       "      <td>1</td>\n",
       "      <td>0</td>\n",
       "      <td>0</td>\n",
       "      <td>0</td>\n",
       "      <td>1</td>\n",
       "    </tr>\n",
       "    <tr>\n",
       "      <th>1</th>\n",
       "      <td>18</td>\n",
       "      <td>33.770</td>\n",
       "      <td>1</td>\n",
       "      <td>0</td>\n",
       "      <td>1</td>\n",
       "      <td>1</td>\n",
       "      <td>0</td>\n",
       "      <td>0</td>\n",
       "      <td>0</td>\n",
       "      <td>1</td>\n",
       "      <td>0</td>\n",
       "    </tr>\n",
       "    <tr>\n",
       "      <th>2</th>\n",
       "      <td>28</td>\n",
       "      <td>33.000</td>\n",
       "      <td>3</td>\n",
       "      <td>0</td>\n",
       "      <td>1</td>\n",
       "      <td>1</td>\n",
       "      <td>0</td>\n",
       "      <td>0</td>\n",
       "      <td>0</td>\n",
       "      <td>1</td>\n",
       "      <td>0</td>\n",
       "    </tr>\n",
       "    <tr>\n",
       "      <th>3</th>\n",
       "      <td>33</td>\n",
       "      <td>22.705</td>\n",
       "      <td>0</td>\n",
       "      <td>0</td>\n",
       "      <td>1</td>\n",
       "      <td>1</td>\n",
       "      <td>0</td>\n",
       "      <td>0</td>\n",
       "      <td>1</td>\n",
       "      <td>0</td>\n",
       "      <td>0</td>\n",
       "    </tr>\n",
       "    <tr>\n",
       "      <th>4</th>\n",
       "      <td>32</td>\n",
       "      <td>28.880</td>\n",
       "      <td>0</td>\n",
       "      <td>0</td>\n",
       "      <td>1</td>\n",
       "      <td>1</td>\n",
       "      <td>0</td>\n",
       "      <td>0</td>\n",
       "      <td>1</td>\n",
       "      <td>0</td>\n",
       "      <td>0</td>\n",
       "    </tr>\n",
       "    <tr>\n",
       "      <th>...</th>\n",
       "      <td>...</td>\n",
       "      <td>...</td>\n",
       "      <td>...</td>\n",
       "      <td>...</td>\n",
       "      <td>...</td>\n",
       "      <td>...</td>\n",
       "      <td>...</td>\n",
       "      <td>...</td>\n",
       "      <td>...</td>\n",
       "      <td>...</td>\n",
       "      <td>...</td>\n",
       "    </tr>\n",
       "    <tr>\n",
       "      <th>1333</th>\n",
       "      <td>50</td>\n",
       "      <td>30.970</td>\n",
       "      <td>3</td>\n",
       "      <td>0</td>\n",
       "      <td>1</td>\n",
       "      <td>1</td>\n",
       "      <td>0</td>\n",
       "      <td>0</td>\n",
       "      <td>1</td>\n",
       "      <td>0</td>\n",
       "      <td>0</td>\n",
       "    </tr>\n",
       "    <tr>\n",
       "      <th>1334</th>\n",
       "      <td>18</td>\n",
       "      <td>31.920</td>\n",
       "      <td>0</td>\n",
       "      <td>1</td>\n",
       "      <td>0</td>\n",
       "      <td>1</td>\n",
       "      <td>0</td>\n",
       "      <td>1</td>\n",
       "      <td>0</td>\n",
       "      <td>0</td>\n",
       "      <td>0</td>\n",
       "    </tr>\n",
       "    <tr>\n",
       "      <th>1335</th>\n",
       "      <td>18</td>\n",
       "      <td>36.850</td>\n",
       "      <td>0</td>\n",
       "      <td>1</td>\n",
       "      <td>0</td>\n",
       "      <td>1</td>\n",
       "      <td>0</td>\n",
       "      <td>0</td>\n",
       "      <td>0</td>\n",
       "      <td>1</td>\n",
       "      <td>0</td>\n",
       "    </tr>\n",
       "    <tr>\n",
       "      <th>1336</th>\n",
       "      <td>21</td>\n",
       "      <td>25.800</td>\n",
       "      <td>0</td>\n",
       "      <td>1</td>\n",
       "      <td>0</td>\n",
       "      <td>1</td>\n",
       "      <td>0</td>\n",
       "      <td>0</td>\n",
       "      <td>0</td>\n",
       "      <td>0</td>\n",
       "      <td>1</td>\n",
       "    </tr>\n",
       "    <tr>\n",
       "      <th>1337</th>\n",
       "      <td>61</td>\n",
       "      <td>29.070</td>\n",
       "      <td>0</td>\n",
       "      <td>1</td>\n",
       "      <td>0</td>\n",
       "      <td>0</td>\n",
       "      <td>1</td>\n",
       "      <td>0</td>\n",
       "      <td>1</td>\n",
       "      <td>0</td>\n",
       "      <td>0</td>\n",
       "    </tr>\n",
       "  </tbody>\n",
       "</table>\n",
       "<p>1338 rows × 11 columns</p>\n",
       "</div>\n",
       "      <button class=\"colab-df-convert\" onclick=\"convertToInteractive('df-63264cca-5b7c-46f8-af4f-3324ef43c2b2')\"\n",
       "              title=\"Convert this dataframe to an interactive table.\"\n",
       "              style=\"display:none;\">\n",
       "        \n",
       "  <svg xmlns=\"http://www.w3.org/2000/svg\" height=\"24px\"viewBox=\"0 0 24 24\"\n",
       "       width=\"24px\">\n",
       "    <path d=\"M0 0h24v24H0V0z\" fill=\"none\"/>\n",
       "    <path d=\"M18.56 5.44l.94 2.06.94-2.06 2.06-.94-2.06-.94-.94-2.06-.94 2.06-2.06.94zm-11 1L8.5 8.5l.94-2.06 2.06-.94-2.06-.94L8.5 2.5l-.94 2.06-2.06.94zm10 10l.94 2.06.94-2.06 2.06-.94-2.06-.94-.94-2.06-.94 2.06-2.06.94z\"/><path d=\"M17.41 7.96l-1.37-1.37c-.4-.4-.92-.59-1.43-.59-.52 0-1.04.2-1.43.59L10.3 9.45l-7.72 7.72c-.78.78-.78 2.05 0 2.83L4 21.41c.39.39.9.59 1.41.59.51 0 1.02-.2 1.41-.59l7.78-7.78 2.81-2.81c.8-.78.8-2.07 0-2.86zM5.41 20L4 18.59l7.72-7.72 1.47 1.35L5.41 20z\"/>\n",
       "  </svg>\n",
       "      </button>\n",
       "      \n",
       "  <style>\n",
       "    .colab-df-container {\n",
       "      display:flex;\n",
       "      flex-wrap:wrap;\n",
       "      gap: 12px;\n",
       "    }\n",
       "\n",
       "    .colab-df-convert {\n",
       "      background-color: #E8F0FE;\n",
       "      border: none;\n",
       "      border-radius: 50%;\n",
       "      cursor: pointer;\n",
       "      display: none;\n",
       "      fill: #1967D2;\n",
       "      height: 32px;\n",
       "      padding: 0 0 0 0;\n",
       "      width: 32px;\n",
       "    }\n",
       "\n",
       "    .colab-df-convert:hover {\n",
       "      background-color: #E2EBFA;\n",
       "      box-shadow: 0px 1px 2px rgba(60, 64, 67, 0.3), 0px 1px 3px 1px rgba(60, 64, 67, 0.15);\n",
       "      fill: #174EA6;\n",
       "    }\n",
       "\n",
       "    [theme=dark] .colab-df-convert {\n",
       "      background-color: #3B4455;\n",
       "      fill: #D2E3FC;\n",
       "    }\n",
       "\n",
       "    [theme=dark] .colab-df-convert:hover {\n",
       "      background-color: #434B5C;\n",
       "      box-shadow: 0px 1px 3px 1px rgba(0, 0, 0, 0.15);\n",
       "      filter: drop-shadow(0px 1px 2px rgba(0, 0, 0, 0.3));\n",
       "      fill: #FFFFFF;\n",
       "    }\n",
       "  </style>\n",
       "\n",
       "      <script>\n",
       "        const buttonEl =\n",
       "          document.querySelector('#df-63264cca-5b7c-46f8-af4f-3324ef43c2b2 button.colab-df-convert');\n",
       "        buttonEl.style.display =\n",
       "          google.colab.kernel.accessAllowed ? 'block' : 'none';\n",
       "\n",
       "        async function convertToInteractive(key) {\n",
       "          const element = document.querySelector('#df-63264cca-5b7c-46f8-af4f-3324ef43c2b2');\n",
       "          const dataTable =\n",
       "            await google.colab.kernel.invokeFunction('convertToInteractive',\n",
       "                                                     [key], {});\n",
       "          if (!dataTable) return;\n",
       "\n",
       "          const docLinkHtml = 'Like what you see? Visit the ' +\n",
       "            '<a target=\"_blank\" href=https://colab.research.google.com/notebooks/data_table.ipynb>data table notebook</a>'\n",
       "            + ' to learn more about interactive tables.';\n",
       "          element.innerHTML = '';\n",
       "          dataTable['output_type'] = 'display_data';\n",
       "          await google.colab.output.renderOutput(dataTable, element);\n",
       "          const docLink = document.createElement('div');\n",
       "          docLink.innerHTML = docLinkHtml;\n",
       "          element.appendChild(docLink);\n",
       "        }\n",
       "      </script>\n",
       "    </div>\n",
       "  </div>\n",
       "  "
      ],
      "text/plain": [
       "      age     bmi  children  sex_female  sex_male  smoker_no  smoker_yes  \\\n",
       "0      19  27.900         0           1         0          0           1   \n",
       "1      18  33.770         1           0         1          1           0   \n",
       "2      28  33.000         3           0         1          1           0   \n",
       "3      33  22.705         0           0         1          1           0   \n",
       "4      32  28.880         0           0         1          1           0   \n",
       "...   ...     ...       ...         ...       ...        ...         ...   \n",
       "1333   50  30.970         3           0         1          1           0   \n",
       "1334   18  31.920         0           1         0          1           0   \n",
       "1335   18  36.850         0           1         0          1           0   \n",
       "1336   21  25.800         0           1         0          1           0   \n",
       "1337   61  29.070         0           1         0          0           1   \n",
       "\n",
       "      region_northeast  region_northwest  region_southeast  region_southwest  \n",
       "0                    0                 0                 0                 1  \n",
       "1                    0                 0                 1                 0  \n",
       "2                    0                 0                 1                 0  \n",
       "3                    0                 1                 0                 0  \n",
       "4                    0                 1                 0                 0  \n",
       "...                ...               ...               ...               ...  \n",
       "1333                 0                 1                 0                 0  \n",
       "1334                 1                 0                 0                 0  \n",
       "1335                 0                 0                 1                 0  \n",
       "1336                 0                 0                 0                 1  \n",
       "1337                 0                 1                 0                 0  \n",
       "\n",
       "[1338 rows x 11 columns]"
      ]
     },
     "execution_count": 10,
     "metadata": {},
     "output_type": "execute_result"
    }
   ],
   "source": [
    "# choosing feature and labels\n",
    "\n",
    "x = df.drop('charges',axis=1)\n",
    "y = df['charges']\n",
    "\n",
    "x"
   ]
  },
  {
   "cell_type": "code",
   "execution_count": null,
   "metadata": {
    "id": "romf6SMMPq-_"
   },
   "outputs": [],
   "source": [
    "# splitting the training and testing data\n",
    "\n",
    "from sklearn.model_selection import train_test_split\n",
    "\n",
    "x_train, x_test, y_train, y_test = train_test_split(x,y,test_size=0.2,random_state=42)\n",
    "\n",
    "# tensoring the training and testing data\n",
    "x_train = tf.constant(x_train, dtype=tf.float32)\n",
    "x_test  = tf.constant(x_test,  dtype=tf.float32)\n",
    "y_train = tf.constant(y_train, dtype=tf.float32)\n",
    "y_test  = tf.constant(y_test,  dtype=tf.float32)"
   ]
  },
  {
   "cell_type": "code",
   "execution_count": null,
   "metadata": {
    "colab": {
     "base_uri": "https://localhost:8080/"
    },
    "id": "oU342LRZQdmZ",
    "outputId": "b47d6e01-7cb8-4229-beb2-6ac9a2356746"
   },
   "outputs": [
    {
     "name": "stdout",
     "output_type": "stream",
     "text": [
      "Epoch 1/100\n",
      "34/34 [==============================] - 6s 5ms/step - loss: 8476.1025 - mean_squared_error: 185414416.0000\n",
      "Epoch 2/100\n",
      "34/34 [==============================] - 0s 4ms/step - loss: 7892.3711 - mean_squared_error: 171573328.0000\n",
      "Epoch 3/100\n",
      "34/34 [==============================] - 0s 5ms/step - loss: 7600.5439 - mean_squared_error: 165334016.0000\n",
      "Epoch 4/100\n",
      "34/34 [==============================] - 0s 6ms/step - loss: 7713.7231 - mean_squared_error: 165186192.0000\n",
      "Epoch 5/100\n",
      "34/34 [==============================] - 0s 7ms/step - loss: 7804.6421 - mean_squared_error: 164653488.0000\n",
      "Epoch 6/100\n",
      "34/34 [==============================] - 0s 5ms/step - loss: 7777.2446 - mean_squared_error: 166233296.0000\n",
      "Epoch 7/100\n",
      "34/34 [==============================] - 0s 8ms/step - loss: 7751.1685 - mean_squared_error: 162668144.0000\n",
      "Epoch 8/100\n",
      "34/34 [==============================] - 0s 8ms/step - loss: 7668.4155 - mean_squared_error: 162796832.0000\n",
      "Epoch 9/100\n",
      "34/34 [==============================] - 0s 6ms/step - loss: 7350.0122 - mean_squared_error: 162379600.0000\n",
      "Epoch 10/100\n",
      "34/34 [==============================] - 0s 5ms/step - loss: 7693.7461 - mean_squared_error: 164066032.0000\n",
      "Epoch 11/100\n",
      "34/34 [==============================] - 0s 5ms/step - loss: 7634.1245 - mean_squared_error: 159578016.0000\n",
      "Epoch 12/100\n",
      "34/34 [==============================] - 0s 7ms/step - loss: 7829.9956 - mean_squared_error: 166956448.0000\n",
      "Epoch 13/100\n",
      "34/34 [==============================] - 0s 6ms/step - loss: 7712.2485 - mean_squared_error: 162472896.0000\n",
      "Epoch 14/100\n",
      "34/34 [==============================] - 0s 6ms/step - loss: 7571.3774 - mean_squared_error: 165467776.0000\n",
      "Epoch 15/100\n",
      "34/34 [==============================] - 0s 8ms/step - loss: 7511.8623 - mean_squared_error: 161768896.0000\n",
      "Epoch 16/100\n",
      "34/34 [==============================] - 0s 7ms/step - loss: 7688.8462 - mean_squared_error: 164288144.0000\n",
      "Epoch 17/100\n",
      "34/34 [==============================] - 0s 5ms/step - loss: 7446.4878 - mean_squared_error: 161139296.0000\n",
      "Epoch 18/100\n",
      "34/34 [==============================] - 0s 7ms/step - loss: 7681.2324 - mean_squared_error: 163193328.0000\n",
      "Epoch 19/100\n",
      "34/34 [==============================] - 0s 4ms/step - loss: 7303.7480 - mean_squared_error: 156119696.0000\n",
      "Epoch 20/100\n",
      "34/34 [==============================] - 0s 4ms/step - loss: 7717.4688 - mean_squared_error: 160539888.0000\n",
      "Epoch 21/100\n",
      "34/34 [==============================] - 0s 6ms/step - loss: 7506.6216 - mean_squared_error: 156873680.0000\n",
      "Epoch 22/100\n",
      "34/34 [==============================] - 0s 4ms/step - loss: 7623.3110 - mean_squared_error: 163212576.0000\n",
      "Epoch 23/100\n",
      "34/34 [==============================] - 0s 5ms/step - loss: 7371.4448 - mean_squared_error: 158715552.0000\n",
      "Epoch 24/100\n",
      "34/34 [==============================] - 0s 5ms/step - loss: 7667.8579 - mean_squared_error: 163097328.0000\n",
      "Epoch 25/100\n",
      "34/34 [==============================] - 0s 4ms/step - loss: 7578.0547 - mean_squared_error: 159099792.0000\n",
      "Epoch 26/100\n",
      "34/34 [==============================] - 0s 6ms/step - loss: 7460.2720 - mean_squared_error: 156228864.0000\n",
      "Epoch 27/100\n",
      "34/34 [==============================] - 0s 5ms/step - loss: 7605.8071 - mean_squared_error: 158706752.0000\n",
      "Epoch 28/100\n",
      "34/34 [==============================] - 0s 3ms/step - loss: 7738.0591 - mean_squared_error: 161619824.0000\n",
      "Epoch 29/100\n",
      "34/34 [==============================] - 0s 5ms/step - loss: 7623.8306 - mean_squared_error: 159084800.0000\n",
      "Epoch 30/100\n",
      "34/34 [==============================] - 0s 4ms/step - loss: 7653.1470 - mean_squared_error: 162116992.0000\n",
      "Epoch 31/100\n",
      "34/34 [==============================] - 0s 4ms/step - loss: 7650.3623 - mean_squared_error: 157585872.0000\n",
      "Epoch 32/100\n",
      "34/34 [==============================] - 0s 4ms/step - loss: 7593.1709 - mean_squared_error: 159890688.0000\n",
      "Epoch 33/100\n",
      "34/34 [==============================] - 0s 4ms/step - loss: 7546.4839 - mean_squared_error: 159309968.0000\n",
      "Epoch 34/100\n",
      "34/34 [==============================] - 0s 5ms/step - loss: 7680.0669 - mean_squared_error: 155600464.0000\n",
      "Epoch 35/100\n",
      "34/34 [==============================] - 0s 4ms/step - loss: 7787.6831 - mean_squared_error: 161619392.0000\n",
      "Epoch 36/100\n",
      "34/34 [==============================] - 0s 5ms/step - loss: 7445.0371 - mean_squared_error: 158149792.0000\n",
      "Epoch 37/100\n",
      "34/34 [==============================] - 0s 6ms/step - loss: 7466.3184 - mean_squared_error: 151823808.0000\n",
      "Epoch 38/100\n",
      "34/34 [==============================] - 0s 4ms/step - loss: 7500.5303 - mean_squared_error: 153647456.0000\n",
      "Epoch 39/100\n",
      "34/34 [==============================] - 0s 4ms/step - loss: 7648.0312 - mean_squared_error: 154894864.0000\n",
      "Epoch 40/100\n",
      "34/34 [==============================] - 0s 4ms/step - loss: 7735.2271 - mean_squared_error: 154238656.0000\n",
      "Epoch 41/100\n",
      "34/34 [==============================] - 0s 4ms/step - loss: 7498.9805 - mean_squared_error: 154553024.0000\n",
      "Epoch 42/100\n",
      "34/34 [==============================] - 0s 4ms/step - loss: 7542.1724 - mean_squared_error: 156893184.0000\n",
      "Epoch 43/100\n",
      "34/34 [==============================] - 0s 4ms/step - loss: 7449.1304 - mean_squared_error: 151497520.0000\n",
      "Epoch 44/100\n",
      "34/34 [==============================] - 0s 4ms/step - loss: 7523.9150 - mean_squared_error: 158486768.0000\n",
      "Epoch 45/100\n",
      "34/34 [==============================] - 0s 4ms/step - loss: 7156.8877 - mean_squared_error: 149032832.0000\n",
      "Epoch 46/100\n",
      "34/34 [==============================] - 0s 4ms/step - loss: 7497.3525 - mean_squared_error: 151736416.0000\n",
      "Epoch 47/100\n",
      "34/34 [==============================] - 0s 4ms/step - loss: 7700.5708 - mean_squared_error: 152832832.0000\n",
      "Epoch 48/100\n",
      "34/34 [==============================] - 0s 6ms/step - loss: 7382.5752 - mean_squared_error: 147620464.0000\n",
      "Epoch 49/100\n",
      "34/34 [==============================] - 0s 6ms/step - loss: 7295.6411 - mean_squared_error: 151099744.0000\n",
      "Epoch 50/100\n",
      "34/34 [==============================] - 0s 5ms/step - loss: 7363.2012 - mean_squared_error: 152562400.0000\n",
      "Epoch 51/100\n",
      "34/34 [==============================] - 0s 4ms/step - loss: 7459.6978 - mean_squared_error: 148698512.0000\n",
      "Epoch 52/100\n",
      "34/34 [==============================] - 0s 4ms/step - loss: 7462.6748 - mean_squared_error: 142026160.0000\n",
      "Epoch 53/100\n",
      "34/34 [==============================] - 0s 6ms/step - loss: 7437.5176 - mean_squared_error: 148111456.0000\n",
      "Epoch 54/100\n",
      "34/34 [==============================] - 0s 4ms/step - loss: 7403.0508 - mean_squared_error: 152621792.0000\n",
      "Epoch 55/100\n",
      "34/34 [==============================] - 0s 5ms/step - loss: 7531.0625 - mean_squared_error: 148822480.0000\n",
      "Epoch 56/100\n",
      "34/34 [==============================] - 0s 4ms/step - loss: 7492.8569 - mean_squared_error: 154969200.0000\n",
      "Epoch 57/100\n",
      "34/34 [==============================] - 0s 4ms/step - loss: 7294.7852 - mean_squared_error: 147561792.0000\n",
      "Epoch 58/100\n",
      "34/34 [==============================] - 0s 4ms/step - loss: 7408.4028 - mean_squared_error: 147606368.0000\n",
      "Epoch 59/100\n",
      "34/34 [==============================] - 0s 4ms/step - loss: 7524.4854 - mean_squared_error: 147969632.0000\n",
      "Epoch 60/100\n",
      "34/34 [==============================] - 0s 6ms/step - loss: 7460.1758 - mean_squared_error: 149808032.0000\n",
      "Epoch 61/100\n",
      "34/34 [==============================] - 0s 6ms/step - loss: 7517.6543 - mean_squared_error: 151242304.0000\n",
      "Epoch 62/100\n",
      "34/34 [==============================] - 0s 4ms/step - loss: 7357.2207 - mean_squared_error: 144222464.0000\n",
      "Epoch 63/100\n",
      "34/34 [==============================] - 0s 4ms/step - loss: 7466.7192 - mean_squared_error: 146048384.0000\n",
      "Epoch 64/100\n",
      "34/34 [==============================] - 0s 5ms/step - loss: 7516.8120 - mean_squared_error: 151255280.0000\n",
      "Epoch 65/100\n",
      "34/34 [==============================] - 0s 5ms/step - loss: 7355.5708 - mean_squared_error: 142018272.0000\n",
      "Epoch 66/100\n",
      "34/34 [==============================] - 0s 5ms/step - loss: 7331.9629 - mean_squared_error: 146171920.0000\n",
      "Epoch 67/100\n",
      "34/34 [==============================] - 0s 5ms/step - loss: 7399.5181 - mean_squared_error: 145244016.0000\n",
      "Epoch 68/100\n",
      "34/34 [==============================] - 0s 4ms/step - loss: 7603.5708 - mean_squared_error: 153264080.0000\n",
      "Epoch 69/100\n",
      "34/34 [==============================] - 0s 4ms/step - loss: 7458.0947 - mean_squared_error: 150557760.0000\n",
      "Epoch 70/100\n",
      "34/34 [==============================] - 0s 4ms/step - loss: 7147.8906 - mean_squared_error: 145222048.0000\n",
      "Epoch 71/100\n",
      "34/34 [==============================] - 0s 7ms/step - loss: 7296.5371 - mean_squared_error: 139933728.0000\n",
      "Epoch 72/100\n",
      "34/34 [==============================] - 0s 4ms/step - loss: 7471.1904 - mean_squared_error: 145606720.0000\n",
      "Epoch 73/100\n",
      "34/34 [==============================] - 0s 5ms/step - loss: 7318.6064 - mean_squared_error: 141091424.0000\n",
      "Epoch 74/100\n",
      "34/34 [==============================] - 0s 4ms/step - loss: 7524.2202 - mean_squared_error: 148273488.0000\n",
      "Epoch 75/100\n",
      "34/34 [==============================] - 0s 4ms/step - loss: 7333.4385 - mean_squared_error: 138445712.0000\n",
      "Epoch 76/100\n",
      "34/34 [==============================] - 0s 4ms/step - loss: 7290.8794 - mean_squared_error: 139326240.0000\n",
      "Epoch 77/100\n",
      "34/34 [==============================] - 0s 5ms/step - loss: 7313.0898 - mean_squared_error: 140981584.0000\n",
      "Epoch 78/100\n",
      "34/34 [==============================] - 0s 7ms/step - loss: 7344.9282 - mean_squared_error: 141370480.0000\n",
      "Epoch 79/100\n",
      "34/34 [==============================] - 0s 7ms/step - loss: 7406.1577 - mean_squared_error: 142142224.0000\n",
      "Epoch 80/100\n",
      "34/34 [==============================] - 0s 7ms/step - loss: 7300.9155 - mean_squared_error: 142616688.0000\n",
      "Epoch 81/100\n",
      "34/34 [==============================] - 0s 6ms/step - loss: 7355.3691 - mean_squared_error: 141277072.0000\n",
      "Epoch 82/100\n",
      "34/34 [==============================] - 0s 6ms/step - loss: 7185.7529 - mean_squared_error: 137191216.0000\n",
      "Epoch 83/100\n",
      "34/34 [==============================] - 0s 7ms/step - loss: 7319.1733 - mean_squared_error: 139551040.0000\n",
      "Epoch 84/100\n",
      "34/34 [==============================] - 0s 7ms/step - loss: 7348.8291 - mean_squared_error: 141745936.0000\n",
      "Epoch 85/100\n",
      "34/34 [==============================] - 0s 6ms/step - loss: 7431.1406 - mean_squared_error: 144923360.0000\n",
      "Epoch 86/100\n",
      "34/34 [==============================] - 0s 5ms/step - loss: 7472.2886 - mean_squared_error: 139428000.0000\n",
      "Epoch 87/100\n",
      "34/34 [==============================] - 0s 5ms/step - loss: 7297.5322 - mean_squared_error: 130965776.0000\n",
      "Epoch 88/100\n",
      "34/34 [==============================] - 0s 7ms/step - loss: 7301.6704 - mean_squared_error: 139223184.0000\n",
      "Epoch 89/100\n",
      "34/34 [==============================] - 0s 7ms/step - loss: 7318.0767 - mean_squared_error: 142229456.0000\n",
      "Epoch 90/100\n",
      "34/34 [==============================] - 0s 5ms/step - loss: 7362.7832 - mean_squared_error: 140937760.0000\n",
      "Epoch 91/100\n",
      "34/34 [==============================] - 0s 5ms/step - loss: 7212.8364 - mean_squared_error: 138210256.0000\n",
      "Epoch 92/100\n",
      "34/34 [==============================] - 0s 5ms/step - loss: 7380.0146 - mean_squared_error: 134031536.0000\n",
      "Epoch 93/100\n",
      "34/34 [==============================] - 0s 6ms/step - loss: 7348.5132 - mean_squared_error: 141482768.0000\n",
      "Epoch 94/100\n",
      "34/34 [==============================] - 0s 6ms/step - loss: 7112.7124 - mean_squared_error: 137226192.0000\n",
      "Epoch 95/100\n",
      "34/34 [==============================] - 0s 5ms/step - loss: 7124.4404 - mean_squared_error: 130577312.0000\n",
      "Epoch 96/100\n",
      "34/34 [==============================] - 0s 5ms/step - loss: 7409.1030 - mean_squared_error: 136477888.0000\n",
      "Epoch 97/100\n",
      "34/34 [==============================] - 0s 4ms/step - loss: 7328.6953 - mean_squared_error: 139396672.0000\n",
      "Epoch 98/100\n",
      "34/34 [==============================] - 0s 4ms/step - loss: 7311.4102 - mean_squared_error: 137182000.0000\n",
      "Epoch 99/100\n",
      "34/34 [==============================] - 0s 6ms/step - loss: 7201.6562 - mean_squared_error: 136900256.0000\n",
      "Epoch 100/100\n",
      "34/34 [==============================] - 0s 6ms/step - loss: 7050.8379 - mean_squared_error: 130968064.0000\n"
     ]
    },
    {
     "data": {
      "text/plain": [
       "<keras.callbacks.History at 0x7f61f4ae8100>"
      ]
     },
     "execution_count": 12,
     "metadata": {},
     "output_type": "execute_result"
    }
   ],
   "source": [
    "# building the neural network to predict the insurance charges based off features.\n",
    "\n",
    "model1 = tf.keras.Sequential()\n",
    "model1.add(tf.keras.layers.Dense(10,input_shape=[11],name='Input_Layer')) # 11 features therefore 11 inputs\n",
    "model1.add(tf.keras.layers.Dense(1,name='Output_layer'))\n",
    "\n",
    "\n",
    "# compilation\n",
    "model1.compile(loss=tf.keras.losses.MeanAbsoluteError(),\n",
    "               optimizer=tf.keras.optimizers.SGD(),\n",
    "               metrics=[tf.keras.metrics.MeanSquaredError()])\n",
    "\n",
    "\n",
    "# fitting\n",
    "model1.fit(x_train,y_train,epochs=100)\n"
   ]
  },
  {
   "cell_type": "code",
   "execution_count": null,
   "metadata": {
    "colab": {
     "base_uri": "https://localhost:8080/"
    },
    "id": "moHnzGzkoH3z",
    "outputId": "c8c174d2-cf07-47c3-ce3b-43144462a3a5"
   },
   "outputs": [
    {
     "name": "stdout",
     "output_type": "stream",
     "text": [
      "9/9 [==============================] - 0s 4ms/step - loss: 6340.6270 - mean_squared_error: 118323032.0000\n"
     ]
    },
    {
     "data": {
      "text/plain": [
       "[6340.626953125, 118323032.0]"
      ]
     },
     "execution_count": 32,
     "metadata": {},
     "output_type": "execute_result"
    }
   ],
   "source": [
    "model1.evaluate(x_test,y_test)"
   ]
  },
  {
   "cell_type": "code",
   "execution_count": null,
   "metadata": {
    "colab": {
     "base_uri": "https://localhost:8080/"
    },
    "id": "XOjPzya6S49g",
    "outputId": "701cdcd5-1d93-46e2-e348-1f11d4850c5b"
   },
   "outputs": [
    {
     "name": "stdout",
     "output_type": "stream",
     "text": [
      "Epoch 1/100\n",
      "34/34 [==============================] - 1s 5ms/step - loss: 13199.3945 - mean_squared_error: 318272416.0000\n",
      "Epoch 2/100\n",
      "34/34 [==============================] - 0s 5ms/step - loss: 10154.8340 - mean_squared_error: 236925728.0000\n",
      "Epoch 3/100\n",
      "34/34 [==============================] - 0s 5ms/step - loss: 7307.0356 - mean_squared_error: 156295632.0000\n",
      "Epoch 4/100\n",
      "34/34 [==============================] - 0s 4ms/step - loss: 7236.8613 - mean_squared_error: 156586672.0000\n",
      "Epoch 5/100\n",
      "34/34 [==============================] - 0s 5ms/step - loss: 7182.3584 - mean_squared_error: 156569920.0000\n",
      "Epoch 6/100\n",
      "34/34 [==============================] - 0s 5ms/step - loss: 7113.4868 - mean_squared_error: 159739168.0000\n",
      "Epoch 7/100\n",
      "34/34 [==============================] - 0s 5ms/step - loss: 7051.7275 - mean_squared_error: 160100128.0000\n",
      "Epoch 8/100\n",
      "34/34 [==============================] - 0s 6ms/step - loss: 6981.3096 - mean_squared_error: 162644480.0000\n",
      "Epoch 9/100\n",
      "34/34 [==============================] - 0s 4ms/step - loss: 6937.2729 - mean_squared_error: 162660848.0000\n",
      "Epoch 10/100\n",
      "34/34 [==============================] - 0s 6ms/step - loss: 6883.6689 - mean_squared_error: 164329888.0000\n",
      "Epoch 11/100\n",
      "34/34 [==============================] - 0s 6ms/step - loss: 6851.1357 - mean_squared_error: 165509344.0000\n",
      "Epoch 12/100\n",
      "34/34 [==============================] - 0s 5ms/step - loss: 6835.4126 - mean_squared_error: 166050000.0000\n",
      "Epoch 13/100\n",
      "34/34 [==============================] - 0s 5ms/step - loss: 6821.2637 - mean_squared_error: 166797360.0000\n",
      "Epoch 14/100\n",
      "34/34 [==============================] - 0s 4ms/step - loss: 6824.6030 - mean_squared_error: 167325040.0000\n",
      "Epoch 15/100\n",
      "34/34 [==============================] - 0s 4ms/step - loss: 6814.5840 - mean_squared_error: 166897824.0000\n",
      "Epoch 16/100\n",
      "34/34 [==============================] - 0s 5ms/step - loss: 6813.2197 - mean_squared_error: 167417728.0000\n",
      "Epoch 17/100\n",
      "34/34 [==============================] - 0s 6ms/step - loss: 6816.0181 - mean_squared_error: 167702704.0000\n",
      "Epoch 18/100\n",
      "34/34 [==============================] - 0s 5ms/step - loss: 6815.7729 - mean_squared_error: 167951776.0000\n",
      "Epoch 19/100\n",
      "34/34 [==============================] - 0s 5ms/step - loss: 6812.4507 - mean_squared_error: 167591680.0000\n",
      "Epoch 20/100\n",
      "34/34 [==============================] - 0s 5ms/step - loss: 6803.3022 - mean_squared_error: 166959920.0000\n",
      "Epoch 21/100\n",
      "34/34 [==============================] - 0s 4ms/step - loss: 6808.1055 - mean_squared_error: 166741280.0000\n",
      "Epoch 22/100\n",
      "34/34 [==============================] - 0s 4ms/step - loss: 6803.9077 - mean_squared_error: 166949728.0000\n",
      "Epoch 23/100\n",
      "34/34 [==============================] - 0s 5ms/step - loss: 6797.9971 - mean_squared_error: 167525200.0000\n",
      "Epoch 24/100\n",
      "34/34 [==============================] - 0s 4ms/step - loss: 6804.4512 - mean_squared_error: 167444640.0000\n",
      "Epoch 25/100\n",
      "34/34 [==============================] - 0s 4ms/step - loss: 6796.5962 - mean_squared_error: 167032000.0000\n",
      "Epoch 26/100\n",
      "34/34 [==============================] - 0s 4ms/step - loss: 6793.2842 - mean_squared_error: 167015584.0000\n",
      "Epoch 27/100\n",
      "34/34 [==============================] - 0s 3ms/step - loss: 6795.6587 - mean_squared_error: 166961728.0000\n",
      "Epoch 28/100\n",
      "34/34 [==============================] - 0s 2ms/step - loss: 6792.1475 - mean_squared_error: 166906592.0000\n",
      "Epoch 29/100\n",
      "34/34 [==============================] - 0s 3ms/step - loss: 6778.7129 - mean_squared_error: 166619920.0000\n",
      "Epoch 30/100\n",
      "34/34 [==============================] - 0s 3ms/step - loss: 6793.4380 - mean_squared_error: 166339936.0000\n",
      "Epoch 31/100\n",
      "34/34 [==============================] - 0s 3ms/step - loss: 6790.9155 - mean_squared_error: 166203280.0000\n",
      "Epoch 32/100\n",
      "34/34 [==============================] - 0s 3ms/step - loss: 6783.4072 - mean_squared_error: 167175392.0000\n",
      "Epoch 33/100\n",
      "34/34 [==============================] - 0s 3ms/step - loss: 6781.7163 - mean_squared_error: 166874416.0000\n",
      "Epoch 34/100\n",
      "34/34 [==============================] - 0s 3ms/step - loss: 6779.5337 - mean_squared_error: 166368256.0000\n",
      "Epoch 35/100\n",
      "34/34 [==============================] - 0s 3ms/step - loss: 6778.7095 - mean_squared_error: 166902608.0000\n",
      "Epoch 36/100\n",
      "34/34 [==============================] - 0s 3ms/step - loss: 6777.3569 - mean_squared_error: 166488384.0000\n",
      "Epoch 37/100\n",
      "34/34 [==============================] - 0s 3ms/step - loss: 6778.3594 - mean_squared_error: 167217280.0000\n",
      "Epoch 38/100\n",
      "34/34 [==============================] - 0s 3ms/step - loss: 6776.4775 - mean_squared_error: 166129392.0000\n",
      "Epoch 39/100\n",
      "34/34 [==============================] - 0s 3ms/step - loss: 6771.5596 - mean_squared_error: 166548432.0000\n",
      "Epoch 40/100\n",
      "34/34 [==============================] - 0s 3ms/step - loss: 6776.0088 - mean_squared_error: 166484752.0000\n",
      "Epoch 41/100\n",
      "34/34 [==============================] - 0s 3ms/step - loss: 6770.4341 - mean_squared_error: 166199824.0000\n",
      "Epoch 42/100\n",
      "34/34 [==============================] - 0s 2ms/step - loss: 6763.0366 - mean_squared_error: 166229392.0000\n",
      "Epoch 43/100\n",
      "34/34 [==============================] - 0s 3ms/step - loss: 6759.8667 - mean_squared_error: 166167552.0000\n",
      "Epoch 44/100\n",
      "34/34 [==============================] - 0s 3ms/step - loss: 6777.9771 - mean_squared_error: 166614064.0000\n",
      "Epoch 45/100\n",
      "34/34 [==============================] - 0s 3ms/step - loss: 6767.0464 - mean_squared_error: 166658560.0000\n",
      "Epoch 46/100\n",
      "34/34 [==============================] - 0s 3ms/step - loss: 6757.2393 - mean_squared_error: 166248672.0000\n",
      "Epoch 47/100\n",
      "34/34 [==============================] - 0s 3ms/step - loss: 6758.1992 - mean_squared_error: 166634928.0000\n",
      "Epoch 48/100\n",
      "34/34 [==============================] - 0s 3ms/step - loss: 6755.7310 - mean_squared_error: 166206752.0000\n",
      "Epoch 49/100\n",
      "34/34 [==============================] - 0s 3ms/step - loss: 6757.5952 - mean_squared_error: 166451584.0000\n",
      "Epoch 50/100\n",
      "34/34 [==============================] - 0s 3ms/step - loss: 6756.8799 - mean_squared_error: 165799664.0000\n",
      "Epoch 51/100\n",
      "34/34 [==============================] - 0s 3ms/step - loss: 6749.0664 - mean_squared_error: 166372176.0000\n",
      "Epoch 52/100\n",
      "34/34 [==============================] - 0s 2ms/step - loss: 6745.3823 - mean_squared_error: 166314912.0000\n",
      "Epoch 53/100\n",
      "34/34 [==============================] - 0s 3ms/step - loss: 6748.8804 - mean_squared_error: 165273760.0000\n",
      "Epoch 54/100\n",
      "34/34 [==============================] - 0s 3ms/step - loss: 6742.4946 - mean_squared_error: 165823600.0000\n",
      "Epoch 55/100\n",
      "34/34 [==============================] - 0s 4ms/step - loss: 6743.8481 - mean_squared_error: 166499472.0000\n",
      "Epoch 56/100\n",
      "34/34 [==============================] - 0s 4ms/step - loss: 6739.9355 - mean_squared_error: 165418464.0000\n",
      "Epoch 57/100\n",
      "34/34 [==============================] - 0s 4ms/step - loss: 6736.3584 - mean_squared_error: 166002416.0000\n",
      "Epoch 58/100\n",
      "34/34 [==============================] - 0s 4ms/step - loss: 6741.9819 - mean_squared_error: 165453216.0000\n",
      "Epoch 59/100\n",
      "34/34 [==============================] - 0s 4ms/step - loss: 6733.9224 - mean_squared_error: 166009424.0000\n",
      "Epoch 60/100\n",
      "34/34 [==============================] - 0s 4ms/step - loss: 6738.6577 - mean_squared_error: 165491920.0000\n",
      "Epoch 61/100\n",
      "34/34 [==============================] - 0s 4ms/step - loss: 6730.2290 - mean_squared_error: 165290480.0000\n",
      "Epoch 62/100\n",
      "34/34 [==============================] - 0s 4ms/step - loss: 6732.1123 - mean_squared_error: 165860384.0000\n",
      "Epoch 63/100\n",
      "34/34 [==============================] - 0s 4ms/step - loss: 6733.3306 - mean_squared_error: 165334960.0000\n",
      "Epoch 64/100\n",
      "34/34 [==============================] - 0s 4ms/step - loss: 6725.4995 - mean_squared_error: 164648144.0000\n",
      "Epoch 65/100\n",
      "34/34 [==============================] - 0s 4ms/step - loss: 6715.6157 - mean_squared_error: 164988064.0000\n",
      "Epoch 66/100\n",
      "34/34 [==============================] - 0s 4ms/step - loss: 6718.5693 - mean_squared_error: 165037680.0000\n",
      "Epoch 67/100\n",
      "34/34 [==============================] - 0s 4ms/step - loss: 6730.4570 - mean_squared_error: 165476848.0000\n",
      "Epoch 68/100\n",
      "34/34 [==============================] - 0s 4ms/step - loss: 6713.3926 - mean_squared_error: 164969088.0000\n",
      "Epoch 69/100\n",
      "34/34 [==============================] - 0s 4ms/step - loss: 6714.8970 - mean_squared_error: 164892032.0000\n",
      "Epoch 70/100\n",
      "34/34 [==============================] - 0s 4ms/step - loss: 6715.7793 - mean_squared_error: 165185808.0000\n",
      "Epoch 71/100\n",
      "34/34 [==============================] - 0s 4ms/step - loss: 6704.4937 - mean_squared_error: 164544880.0000\n",
      "Epoch 72/100\n",
      "34/34 [==============================] - 0s 3ms/step - loss: 6700.1284 - mean_squared_error: 164265904.0000\n",
      "Epoch 73/100\n",
      "34/34 [==============================] - 0s 2ms/step - loss: 6703.5928 - mean_squared_error: 164372304.0000\n",
      "Epoch 74/100\n",
      "34/34 [==============================] - 0s 3ms/step - loss: 6709.1475 - mean_squared_error: 164930016.0000\n",
      "Epoch 75/100\n",
      "34/34 [==============================] - 0s 3ms/step - loss: 6696.2817 - mean_squared_error: 164547184.0000\n",
      "Epoch 76/100\n",
      "34/34 [==============================] - 0s 3ms/step - loss: 6693.5708 - mean_squared_error: 163595984.0000\n",
      "Epoch 77/100\n",
      "34/34 [==============================] - 0s 3ms/step - loss: 6686.7329 - mean_squared_error: 164622656.0000\n",
      "Epoch 78/100\n",
      "34/34 [==============================] - 0s 3ms/step - loss: 6686.7622 - mean_squared_error: 163234544.0000\n",
      "Epoch 79/100\n",
      "34/34 [==============================] - 0s 3ms/step - loss: 6685.2017 - mean_squared_error: 164500976.0000\n",
      "Epoch 80/100\n",
      "34/34 [==============================] - 0s 3ms/step - loss: 6683.3394 - mean_squared_error: 164022144.0000\n",
      "Epoch 81/100\n",
      "34/34 [==============================] - 0s 3ms/step - loss: 6678.9927 - mean_squared_error: 163613872.0000\n",
      "Epoch 82/100\n",
      "34/34 [==============================] - 0s 3ms/step - loss: 6672.0596 - mean_squared_error: 164174736.0000\n",
      "Epoch 83/100\n",
      "34/34 [==============================] - 0s 3ms/step - loss: 6674.1519 - mean_squared_error: 164295264.0000\n",
      "Epoch 84/100\n",
      "34/34 [==============================] - 0s 3ms/step - loss: 6675.7832 - mean_squared_error: 163517360.0000\n",
      "Epoch 85/100\n",
      "34/34 [==============================] - 0s 3ms/step - loss: 6653.7090 - mean_squared_error: 163636944.0000\n",
      "Epoch 86/100\n",
      "34/34 [==============================] - 0s 3ms/step - loss: 6665.8853 - mean_squared_error: 163937280.0000\n",
      "Epoch 87/100\n",
      "34/34 [==============================] - 0s 3ms/step - loss: 6663.4106 - mean_squared_error: 162839888.0000\n",
      "Epoch 88/100\n",
      "34/34 [==============================] - 0s 3ms/step - loss: 6674.3940 - mean_squared_error: 163267760.0000\n",
      "Epoch 89/100\n",
      "34/34 [==============================] - 0s 3ms/step - loss: 6658.4619 - mean_squared_error: 162558272.0000\n",
      "Epoch 90/100\n",
      "34/34 [==============================] - 0s 3ms/step - loss: 6666.8999 - mean_squared_error: 163877424.0000\n",
      "Epoch 91/100\n",
      "34/34 [==============================] - 0s 3ms/step - loss: 6643.7495 - mean_squared_error: 162576816.0000\n",
      "Epoch 92/100\n",
      "34/34 [==============================] - 0s 3ms/step - loss: 6651.8027 - mean_squared_error: 162537712.0000\n",
      "Epoch 93/100\n",
      "34/34 [==============================] - 0s 3ms/step - loss: 6660.9805 - mean_squared_error: 162344256.0000\n",
      "Epoch 94/100\n",
      "34/34 [==============================] - 0s 3ms/step - loss: 6639.5322 - mean_squared_error: 162213696.0000\n",
      "Epoch 95/100\n",
      "34/34 [==============================] - 0s 3ms/step - loss: 6646.5601 - mean_squared_error: 162287616.0000\n",
      "Epoch 96/100\n",
      "34/34 [==============================] - 0s 3ms/step - loss: 6631.6802 - mean_squared_error: 162604080.0000\n",
      "Epoch 97/100\n",
      "34/34 [==============================] - 0s 3ms/step - loss: 6631.9556 - mean_squared_error: 160924784.0000\n",
      "Epoch 98/100\n",
      "34/34 [==============================] - 0s 3ms/step - loss: 6645.7661 - mean_squared_error: 162361216.0000\n",
      "Epoch 99/100\n",
      "34/34 [==============================] - 0s 3ms/step - loss: 6626.6313 - mean_squared_error: 162195056.0000\n",
      "Epoch 100/100\n",
      "34/34 [==============================] - 0s 2ms/step - loss: 6625.4131 - mean_squared_error: 161868832.0000\n"
     ]
    },
    {
     "data": {
      "text/plain": [
       "<keras.callbacks.History at 0x7f61e031d7e0>"
      ]
     },
     "execution_count": 13,
     "metadata": {},
     "output_type": "execute_result"
    }
   ],
   "source": [
    "# seeing the performance after including the learning rate\n",
    "\n",
    "# building the model\n",
    "model2 =  tf.keras.Sequential()\n",
    "model2.add(tf.keras.layers.Dense(10,input_shape=[11],name='input_layer'))\n",
    "model2.add(tf.keras.layers.Dense(1,name='output_layer'))\n",
    "\n",
    "# compiling the model\n",
    "model2.compile(loss=tf.keras.losses.MeanAbsoluteError(),\n",
    "              optimizer=tf.keras.optimizers.SGD(learning_rate=0.001),\n",
    "              metrics=[tf.keras.metrics.MeanSquaredError()])\n",
    "\n",
    "# fitting the model\n",
    "model2.fit(x_train,y_train,epochs=100)"
   ]
  },
  {
   "cell_type": "code",
   "execution_count": null,
   "metadata": {
    "id": "Hhi_TVZOXED6"
   },
   "outputs": [],
   "source": [
    "# adding few_more layers to the model\n",
    "tf.random.set_seed(42)\n",
    "\n",
    "\n",
    "# building the model\n",
    "model3 = tf.keras.Sequential()\n",
    "model3.add(tf.keras.layers.Dense(500,input_shape=[11],name='input_layer'))\n",
    "model3.add(tf.keras.layers.Dense(450,activation='relu',name='hidden_layer1'))\n",
    "model3.add(tf.keras.layers.Dense(180,activation='relu',name='hidden_layer2'))\n",
    "model3.add(tf.keras.layers.Dense(189,activation='relu',name='hidden_layer3'))\n",
    "model3.add(tf.keras.layers.Dense(150,activation='relu',name='hidden_layer4'))\n",
    "model3.add(tf.keras.layers.Dense(100,activation='relu',name='hidden_layer5'))\n",
    "model3.add(tf.keras.layers.Dense(1,name='output_layer'))\n",
    "\n",
    "\n",
    "# compiling the model\n",
    "model3.compile(loss=tf.keras.losses.MeanAbsoluteError(),\n",
    "           optimizer=tf.keras.optimizers.Adam(),\n",
    "           metrics=[tf.keras.metrics.MeanSquaredError()])\n",
    "\n",
    "# fitting the model\n",
    "history = model3.fit(x_train,y_train,epochs=100,verbose=False)"
   ]
  },
  {
   "cell_type": "code",
   "execution_count": null,
   "metadata": {
    "colab": {
     "base_uri": "https://localhost:8080/"
    },
    "id": "y64LvM80faF-",
    "outputId": "99d78761-5a20-4c40-ff78-67bfec8bc7c1"
   },
   "outputs": [
    {
     "name": "stdout",
     "output_type": "stream",
     "text": [
      "9/9 [==============================] - 0s 4ms/step - loss: 1449.7070 - mean_squared_error: 19308648.0000\n"
     ]
    },
    {
     "data": {
      "text/plain": [
       "[1449.70703125, 19308648.0]"
      ]
     },
     "execution_count": 39,
     "metadata": {},
     "output_type": "execute_result"
    }
   ],
   "source": [
    "model3.evaluate(x_test,y_test)"
   ]
  },
  {
   "cell_type": "markdown",
   "metadata": {
    "id": "bSOn3dtEkAjC"
   },
   "source": [
    "# how bad is our model?\n",
    "\n",
    "# **we have to see the mean and median of y_train then decide how far off are we from the centre, that is how much std our model creates from the centre. the lower the std (the number our model predicts versus reality) the better.**"
   ]
  },
  {
   "cell_type": "code",
   "execution_count": null,
   "metadata": {
    "colab": {
     "base_uri": "https://localhost:8080/"
    },
    "id": "RHkxuR59kd8I",
    "outputId": "2ab47118-7bfe-4429-c619-cb63389c1674"
   },
   "outputs": [
    {
     "data": {
      "text/plain": [
       "(13346.09, 9575.442)"
      ]
     },
     "execution_count": 26,
     "metadata": {},
     "output_type": "execute_result"
    }
   ],
   "source": [
    "np.mean(y_train), np.median(y_train)"
   ]
  },
  {
   "cell_type": "markdown",
   "metadata": {
    "id": "TMpYKJa5kFJZ"
   },
   "source": [
    "# plotting the history variable"
   ]
  },
  {
   "cell_type": "code",
   "execution_count": null,
   "metadata": {
    "colab": {
     "base_uri": "https://localhost:8080/",
     "height": 482
    },
    "id": "ZlzGHXWFqczd",
    "outputId": "37db5089-3333-4e13-95f5-3d10afd392d6"
   },
   "outputs": [
    {
     "data": {
      "text/plain": [
       "Text(0.5, 0, 'epochs')"
      ]
     },
     "execution_count": 44,
     "metadata": {},
     "output_type": "execute_result"
    },
    {
     "data": {
      "image/png": "[encoded data removed]",
      "text/plain": [
       "<Figure size 640x480 with 1 Axes>"
      ]
     },
     "metadata": {},
     "output_type": "display_data"
    }
   ],
   "source": [
    "pd.DataFrame(history.history).plot()\n",
    "plt.ylabel('loss')\n",
    "plt.xlabel('epochs')\n",
    "#plt.ylim([0.25,0.5])\n"
   ]
  },
  {
   "cell_type": "markdown",
   "metadata": {
    "id": "E5Io1ZHbmqx8"
   },
   "source": [
    "# lets see what changes in our model after standaridizing the dataset"
   ]
  },
  {
   "cell_type": "code",
   "execution_count": null,
   "metadata": {
    "id": "GvPcgBf-m6wk"
   },
   "outputs": [],
   "source": []
  },
  {
   "cell_type": "markdown",
   "metadata": {
    "id": "Xxfia7BJsY6l"
   },
   "source": [
    "# standardization and normalization"
   ]
  },
  {
   "cell_type": "markdown",
   "metadata": {
    "id": "o_CyU6xpvBhV"
   },
   "source": [
    "# To understand Scalers, Standardizers, and normalizers:\n",
    "\n",
    "▶[click me to understand when to use MinMaxScaler,RobustScaler,StandardScaler](https://towardsdatascience.com/scale-standardize-or-normalize-with-scikit-learn-6ccc7d176a02)"
   ]
  },
  {
   "cell_type": "markdown",
   "metadata": {
    "id": "AD9plmpU3Fc-"
   },
   "source": [
    "# day 127"
   ]
  },
  {
   "cell_type": "code",
   "execution_count": null,
   "metadata": {
    "id": "l3XyG_hI4GnX"
   },
   "outputs": [],
   "source": [
    "import numpy as np\n",
    "import matplotlib.pyplot as plt\n",
    "import pandas as pd\n",
    "import seaborn as sns\n",
    "import tensorflow as tf\n",
    "from sklearn.compose import make_column_transformer\n",
    "from sklearn.preprocessing import MinMaxScaler,OneHotEncoder,StandardScaler\n"
   ]
  },
  {
   "cell_type": "code",
   "execution_count": null,
   "metadata": {
    "colab": {
     "base_uri": "https://localhost:8080/",
     "height": 206
    },
    "id": "6stEf-LQ4vzM",
    "outputId": "e17433a2-c762-4af3-e51c-ae9e16f892a1"
   },
   "outputs": [
    {
     "data": {
      "text/html": [
       "\n",
       "  <div id=\"df-8922b950-be03-4ddf-8743-0e80237a17ac\">\n",
       "    <div class=\"colab-df-container\">\n",
       "      <div>\n",
       "<style scoped>\n",
       "    .dataframe tbody tr th:only-of-type {\n",
       "        vertical-align: middle;\n",
       "    }\n",
       "\n",
       "    .dataframe tbody tr th {\n",
       "        vertical-align: top;\n",
       "    }\n",
       "\n",
       "    .dataframe thead th {\n",
       "        text-align: right;\n",
       "    }\n",
       "</style>\n",
       "<table border=\"1\" class=\"dataframe\">\n",
       "  <thead>\n",
       "    <tr style=\"text-align: right;\">\n",
       "      <th></th>\n",
       "      <th>age</th>\n",
       "      <th>sex</th>\n",
       "      <th>bmi</th>\n",
       "      <th>children</th>\n",
       "      <th>smoker</th>\n",
       "      <th>region</th>\n",
       "      <th>charges</th>\n",
       "    </tr>\n",
       "  </thead>\n",
       "  <tbody>\n",
       "    <tr>\n",
       "      <th>0</th>\n",
       "      <td>19</td>\n",
       "      <td>female</td>\n",
       "      <td>27.900</td>\n",
       "      <td>0</td>\n",
       "      <td>yes</td>\n",
       "      <td>southwest</td>\n",
       "      <td>16884.92400</td>\n",
       "    </tr>\n",
       "    <tr>\n",
       "      <th>1</th>\n",
       "      <td>18</td>\n",
       "      <td>male</td>\n",
       "      <td>33.770</td>\n",
       "      <td>1</td>\n",
       "      <td>no</td>\n",
       "      <td>southeast</td>\n",
       "      <td>1725.55230</td>\n",
       "    </tr>\n",
       "    <tr>\n",
       "      <th>2</th>\n",
       "      <td>28</td>\n",
       "      <td>male</td>\n",
       "      <td>33.000</td>\n",
       "      <td>3</td>\n",
       "      <td>no</td>\n",
       "      <td>southeast</td>\n",
       "      <td>4449.46200</td>\n",
       "    </tr>\n",
       "    <tr>\n",
       "      <th>3</th>\n",
       "      <td>33</td>\n",
       "      <td>male</td>\n",
       "      <td>22.705</td>\n",
       "      <td>0</td>\n",
       "      <td>no</td>\n",
       "      <td>northwest</td>\n",
       "      <td>21984.47061</td>\n",
       "    </tr>\n",
       "    <tr>\n",
       "      <th>4</th>\n",
       "      <td>32</td>\n",
       "      <td>male</td>\n",
       "      <td>28.880</td>\n",
       "      <td>0</td>\n",
       "      <td>no</td>\n",
       "      <td>northwest</td>\n",
       "      <td>3866.85520</td>\n",
       "    </tr>\n",
       "  </tbody>\n",
       "</table>\n",
       "</div>\n",
       "      <button class=\"colab-df-convert\" onclick=\"convertToInteractive('df-8922b950-be03-4ddf-8743-0e80237a17ac')\"\n",
       "              title=\"Convert this dataframe to an interactive table.\"\n",
       "              style=\"display:none;\">\n",
       "        \n",
       "  <svg xmlns=\"http://www.w3.org/2000/svg\" height=\"24px\"viewBox=\"0 0 24 24\"\n",
       "       width=\"24px\">\n",
       "    <path d=\"M0 0h24v24H0V0z\" fill=\"none\"/>\n",
       "    <path d=\"M18.56 5.44l.94 2.06.94-2.06 2.06-.94-2.06-.94-.94-2.06-.94 2.06-2.06.94zm-11 1L8.5 8.5l.94-2.06 2.06-.94-2.06-.94L8.5 2.5l-.94 2.06-2.06.94zm10 10l.94 2.06.94-2.06 2.06-.94-2.06-.94-.94-2.06-.94 2.06-2.06.94z\"/><path d=\"M17.41 7.96l-1.37-1.37c-.4-.4-.92-.59-1.43-.59-.52 0-1.04.2-1.43.59L10.3 9.45l-7.72 7.72c-.78.78-.78 2.05 0 2.83L4 21.41c.39.39.9.59 1.41.59.51 0 1.02-.2 1.41-.59l7.78-7.78 2.81-2.81c.8-.78.8-2.07 0-2.86zM5.41 20L4 18.59l7.72-7.72 1.47 1.35L5.41 20z\"/>\n",
       "  </svg>\n",
       "      </button>\n",
       "      \n",
       "  <style>\n",
       "    .colab-df-container {\n",
       "      display:flex;\n",
       "      flex-wrap:wrap;\n",
       "      gap: 12px;\n",
       "    }\n",
       "\n",
       "    .colab-df-convert {\n",
       "      background-color: #E8F0FE;\n",
       "      border: none;\n",
       "      border-radius: 50%;\n",
       "      cursor: pointer;\n",
       "      display: none;\n",
       "      fill: #1967D2;\n",
       "      height: 32px;\n",
       "      padding: 0 0 0 0;\n",
       "      width: 32px;\n",
       "    }\n",
       "\n",
       "    .colab-df-convert:hover {\n",
       "      background-color: #E2EBFA;\n",
       "      box-shadow: 0px 1px 2px rgba(60, 64, 67, 0.3), 0px 1px 3px 1px rgba(60, 64, 67, 0.15);\n",
       "      fill: #174EA6;\n",
       "    }\n",
       "\n",
       "    [theme=dark] .colab-df-convert {\n",
       "      background-color: #3B4455;\n",
       "      fill: #D2E3FC;\n",
       "    }\n",
       "\n",
       "    [theme=dark] .colab-df-convert:hover {\n",
       "      background-color: #434B5C;\n",
       "      box-shadow: 0px 1px 3px 1px rgba(0, 0, 0, 0.15);\n",
       "      filter: drop-shadow(0px 1px 2px rgba(0, 0, 0, 0.3));\n",
       "      fill: #FFFFFF;\n",
       "    }\n",
       "  </style>\n",
       "\n",
       "      <script>\n",
       "        const buttonEl =\n",
       "          document.querySelector('#df-8922b950-be03-4ddf-8743-0e80237a17ac button.colab-df-convert');\n",
       "        buttonEl.style.display =\n",
       "          google.colab.kernel.accessAllowed ? 'block' : 'none';\n",
       "\n",
       "        async function convertToInteractive(key) {\n",
       "          const element = document.querySelector('#df-8922b950-be03-4ddf-8743-0e80237a17ac');\n",
       "          const dataTable =\n",
       "            await google.colab.kernel.invokeFunction('convertToInteractive',\n",
       "                                                     [key], {});\n",
       "          if (!dataTable) return;\n",
       "\n",
       "          const docLinkHtml = 'Like what you see? Visit the ' +\n",
       "            '<a target=\"_blank\" href=https://colab.research.google.com/notebooks/data_table.ipynb>data table notebook</a>'\n",
       "            + ' to learn more about interactive tables.';\n",
       "          element.innerHTML = '';\n",
       "          dataTable['output_type'] = 'display_data';\n",
       "          await google.colab.output.renderOutput(dataTable, element);\n",
       "          const docLink = document.createElement('div');\n",
       "          docLink.innerHTML = docLinkHtml;\n",
       "          element.appendChild(docLink);\n",
       "        }\n",
       "      </script>\n",
       "    </div>\n",
       "  </div>\n",
       "  "
      ],
      "text/plain": [
       "   age     sex     bmi  children smoker     region      charges\n",
       "0   19  female  27.900         0    yes  southwest  16884.92400\n",
       "1   18    male  33.770         1     no  southeast   1725.55230\n",
       "2   28    male  33.000         3     no  southeast   4449.46200\n",
       "3   33    male  22.705         0     no  northwest  21984.47061\n",
       "4   32    male  28.880         0     no  northwest   3866.85520"
      ]
     },
     "execution_count": 14,
     "metadata": {},
     "output_type": "execute_result"
    }
   ],
   "source": [
    "df = pd.read_csv('https://raw.githubusercontent.com/stedy/Machine-Learning-with-R-datasets/master/insurance.csv')\n",
    "df.head() # importing directly from the web."
   ]
  },
  {
   "cell_type": "code",
   "execution_count": null,
   "metadata": {
    "id": "Z2bLwkUUrTWN"
   },
   "outputs": [],
   "source": [
    "from keras.utils import mode_keys\n",
    "from sklearn.compose         import make_column_transformer\n",
    "from sklearn.preprocessing   import MinMaxScaler,OneHotEncoder\n",
    "from sklearn.model_selection import train_test_split\n",
    "\n",
    "ct = make_column_transformer(\n",
    "    (MinMaxScaler(),['age','bmi','children']),\n",
    "    (OneHotEncoder(handle_unknown='ignore'),['sex','smoker','region'])\n",
    ")\n",
    "\n",
    "\n",
    "# create and x and y\n",
    "x = df.drop('charges',axis=1)\n",
    "y = df['charges']\n",
    "\n",
    "# train_test_splitting\n",
    "x_train, x_test, y_train, y_test = train_test_split(x,y,test_size=0.2,random_state=42)\n",
    "\n",
    "# transforming the data using make_column_transformer(ct)\n",
    "ct.fit(x_train)\n",
    "x_train_transformed = ct.transform(x_train)\n",
    "x_test_transformed = ct.transform(x_test)\n",
    "\n",
    "\n"
   ]
  },
  {
   "cell_type": "code",
   "execution_count": null,
   "metadata": {
    "colab": {
     "base_uri": "https://localhost:8080/"
    },
    "id": "AOn5F4AlrTe9",
    "outputId": "7391d6f2-2ba6-4499-a18a-fc4147d2a4cf"
   },
   "outputs": [
    {
     "data": {
      "text/plain": [
       "age                19\n",
       "sex            female\n",
       "bmi              27.9\n",
       "children            0\n",
       "smoker            yes\n",
       "region      southwest\n",
       "Name: 0, dtype: object"
      ]
     },
     "execution_count": 26,
     "metadata": {},
     "output_type": "execute_result"
    }
   ],
   "source": [
    "x_train.loc[0]"
   ]
  },
  {
   "cell_type": "code",
   "execution_count": null,
   "metadata": {
    "colab": {
     "base_uri": "https://localhost:8080/"
    },
    "id": "Kw77cfo4rTnh",
    "outputId": "64f69499-b780-4aed-d7fb-41fe2bf7ca79"
   },
   "outputs": [
    {
     "data": {
      "text/plain": [
       "array([0.60869565, 0.10734463, 0.4       , 1.        , 0.        ,\n",
       "       1.        , 0.        , 0.        , 1.        , 0.        ,\n",
       "       0.        ])"
      ]
     },
     "execution_count": 27,
     "metadata": {},
     "output_type": "execute_result"
    }
   ],
   "source": [
    "x_train_transformed[0]"
   ]
  },
  {
   "cell_type": "code",
   "execution_count": null,
   "metadata": {
    "colab": {
     "base_uri": "https://localhost:8080/"
    },
    "id": "aZ3JofS_8tFa",
    "outputId": "618024de-9ac3-4c2a-d210-d451e48e3f82"
   },
   "outputs": [
    {
     "data": {
      "text/plain": [
       "(1070, 11)"
      ]
     },
     "execution_count": 48,
     "metadata": {},
     "output_type": "execute_result"
    }
   ],
   "source": [
    "np.shape(x_train_transformed)"
   ]
  },
  {
   "cell_type": "code",
   "execution_count": null,
   "metadata": {
    "id": "BaFfUUZx1_hB"
   },
   "outputs": [],
   "source": [
    "# set the random seed for reproducability\n",
    "tf.random.set_seed(42)\n",
    "\n",
    "# build the neural network\n",
    "model4 = tf.keras.Sequential()\n",
    "model4.add(tf.keras.layers.Dense(500,input_shape=[11],name='input_layer'))\n",
    "model4.add(tf.keras.layers.Dense(450,name='hidden_layer1'))\n",
    "model4.add(tf.keras.layers.Dense(180,name='hidden_layer2'))\n",
    "model4.add(tf.keras.layers.Dense(189,name='hidden_layer3'))\n",
    "model4.add(tf.keras.layers.Dense(150,name='hidden_layer4'))\n",
    "model4.add(tf.keras.layers.Dense(100,name='hidden_layer5'))\n",
    "model4.add(tf.keras.layers.Dense(1,name='output_layer'))\n",
    "\n",
    "# compiling the model\n",
    "model4.compile(loss=tf.keras.losses.MeanAbsoluteError(),\n",
    "               optimizer=tf.keras.optimizers.Adam(),\n",
    "               metrics=[tf.keras.metrics.MeanSquaredError()])\n",
    "\n",
    "\n",
    "# fit the model with the data\n",
    "history = model4.fit(x_train_transformed,y_train,epochs=30,verbose=False)"
   ]
  },
  {
   "cell_type": "code",
   "execution_count": null,
   "metadata": {
    "colab": {
     "base_uri": "https://localhost:8080/"
    },
    "id": "DUM0OmTX43_Z",
    "outputId": "8ecfa0ae-6c60-4b6f-e42b-f1e6074b534b"
   },
   "outputs": [
    {
     "name": "stdout",
     "output_type": "stream",
     "text": [
      "9/9 [==============================] - 0s 3ms/step - loss: 3284.4409 - mean_squared_error: 40354336.0000\n"
     ]
    },
    {
     "data": {
      "text/plain": [
       "[3284.44091796875, 40354336.0]"
      ]
     },
     "execution_count": 55,
     "metadata": {},
     "output_type": "execute_result"
    }
   ],
   "source": [
    "# evaluate the model\n",
    "\n",
    "model4.evaluate(x_test_transformed,y_test)"
   ]
  },
  {
   "cell_type": "code",
   "execution_count": null,
   "metadata": {
    "colab": {
     "base_uri": "https://localhost:8080/",
     "height": 465
    },
    "id": "_PUPIQK_9NZt",
    "outputId": "9edda383-75b0-4c51-9bed-dcb470450266"
   },
   "outputs": [
    {
     "data": {
      "image/png": "[encoded data removed]",
      "text/plain": [
       "<Figure size 640x480 with 1 Axes>"
      ]
     },
     "metadata": {},
     "output_type": "display_data"
    }
   ],
   "source": [
    "pd.DataFrame(history.history).plot()\n",
    "plt.xlabel('epochs')\n",
    "plt.ylabel('errors')\n",
    "\n",
    "plt.show()"
   ]
  },
  {
   "cell_type": "code",
   "execution_count": null,
   "metadata": {
    "id": "IJc75AZF9CCD"
   },
   "outputs": [],
   "source": []
  }
 ],
 "metadata": {
  "accelerator": "GPU",
  "colab": {
   "gpuType": "T4",
   "provenance": []
  },
  "kernelspec": {
   "display_name": "Python 3",
   "name": "python3"
  },
  "language_info": {
   "name": "python"
  }
 },
 "nbformat": 4,
 "nbformat_minor": 0
}
