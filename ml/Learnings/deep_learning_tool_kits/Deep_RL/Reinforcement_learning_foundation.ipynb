version https://git-lfs.github.com/spec/v1
oid sha256:2e0c47f6725dc2b3cfa4f054194aabd82a869eae8d92f84d6eb8c8808f0bc277
size 290020
