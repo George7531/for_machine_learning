version https://git-lfs.github.com/spec/v1
oid sha256:b8f8417be54e13d8dadbcd3b2d7a744640ad710759377e248124407f782b2f9e
size 20489259
