version https://git-lfs.github.com/spec/v1
oid sha256:9ab4de379f7c2c592ffef546c64f32b8bde0a1fb0935c489227fd9715b9bcca7
size 27199569
