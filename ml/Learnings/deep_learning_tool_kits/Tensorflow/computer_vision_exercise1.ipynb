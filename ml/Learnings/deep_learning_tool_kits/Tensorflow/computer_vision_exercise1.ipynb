version https://git-lfs.github.com/spec/v1
oid sha256:123e6dac585068cb8d59adc290445732b1cc6e6fbb8cb3d2569cfc3216018977
size 1954430
