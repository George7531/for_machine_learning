{
 "cells": [
  {
   "cell_type": "markdown",
   "metadata": {
    "id": "L7o-iJh-iX-k"
   },
   "source": [
    "# day 138 and day 139, day 142"
   ]
  },
  {
   "cell_type": "code",
   "execution_count": null,
   "metadata": {
    "id": "zt2tnQy_ifO9"
   },
   "outputs": [],
   "source": [
    "import numpy as np\n",
    "import sympy as sym\n",
    "from IPython.display import display,Math\n",
    "sym.init_printing()\n",
    "import matplotlib.pyplot as plt\n",
    "import seaborn as sns\n",
    "import pandas as pd\n",
    "import tensorflow as tf"
   ]
  },
  {
   "cell_type": "markdown",
   "metadata": {
    "id": "yHmPZKKeiwL3"
   },
   "source": [
    "# Multiclass classification"
   ]
  },
  {
   "cell_type": "code",
   "execution_count": null,
   "metadata": {
    "colab": {
     "base_uri": "https://localhost:8080/"
    },
    "id": "jvGTk_daiz9A",
    "outputId": "f2047014-c208-4925-bf67-eeda6c783bb8"
   },
   "outputs": [
    {
     "name": "stdout",
     "output_type": "stream",
     "text": [
      "Downloading data from https://storage.googleapis.com/tensorflow/tf-keras-datasets/train-labels-idx1-ubyte.gz\n",
      "29515/29515 [==============================] - 0s 0us/step\n",
      "Downloading data from https://storage.googleapis.com/tensorflow/tf-keras-datasets/train-images-idx3-ubyte.gz\n",
      "26421880/26421880 [==============================] - 1s 0us/step\n",
      "Downloading data from https://storage.googleapis.com/tensorflow/tf-keras-datasets/t10k-labels-idx1-ubyte.gz\n",
      "5148/5148 [==============================] - 0s 0us/step\n",
      "Downloading data from https://storage.googleapis.com/tensorflow/tf-keras-datasets/t10k-images-idx3-ubyte.gz\n",
      "4422102/4422102 [==============================] - 0s 0us/step\n"
     ]
    }
   ],
   "source": [
    "from tensorflow.keras.datasets import fashion_mnist\n",
    "\n",
    "\n",
    "# train_test_split\n",
    "(x_train,y_train) , (x_test,y_test) = fashion_mnist.load_data()"
   ]
  },
  {
   "cell_type": "code",
   "execution_count": null,
   "metadata": {
    "colab": {
     "base_uri": "https://localhost:8080/"
    },
    "id": "U5QHcVSwmVcf",
    "outputId": "7992c63c-8844-47a2-b01f-a0d33f4c5d22"
   },
   "outputs": [
    {
     "name": "stdout",
     "output_type": "stream",
     "text": [
      "x_train: [[  0   0   0   0   0   0   0   0   0   0   0   0   0   0   0   0   0   0\n",
      "    0   0   0   0   0   0   0   0   0   0]\n",
      " [  0   0   0   0   0   0   0   0   0   0   0   0   0   0   0   0   0   0\n",
      "    0   0   0   0   0   0   0   0   0   0]\n",
      " [  0   0   0   0   0   0   0   0   0   0   0   0   0   0   0   0   0   0\n",
      "    0   0   0   0   0   0   0   0   0   0]\n",
      " [  0   0   0   0   0   0   0   0   0   0   0   0   1   0   0  13  73   0\n",
      "    0   1   4   0   0   0   0   1   1   0]\n",
      " [  0   0   0   0   0   0   0   0   0   0   0   0   3   0  36 136 127  62\n",
      "   54   0   0   0   1   3   4   0   0   3]\n",
      " [  0   0   0   0   0   0   0   0   0   0   0   0   6   0 102 204 176 134\n",
      "  144 123  23   0   0   0   0  12  10   0]\n",
      " [  0   0   0   0   0   0   0   0   0   0   0   0   0   0 155 236 207 178\n",
      "  107 156 161 109  64  23  77 130  72  15]\n",
      " [  0   0   0   0   0   0   0   0   0   0   0   1   0  69 207 223 218 216\n",
      "  216 163 127 121 122 146 141  88 172  66]\n",
      " [  0   0   0   0   0   0   0   0   0   1   1   1   0 200 232 232 233 229\n",
      "  223 223 215 213 164 127 123 196 229   0]\n",
      " [  0   0   0   0   0   0   0   0   0   0   0   0   0 183 225 216 223 228\n",
      "  235 227 224 222 224 221 223 245 173   0]\n",
      " [  0   0   0   0   0   0   0   0   0   0   0   0   0 193 228 218 213 198\n",
      "  180 212 210 211 213 223 220 243 202   0]\n",
      " [  0   0   0   0   0   0   0   0   0   1   3   0  12 219 220 212 218 192\n",
      "  169 227 208 218 224 212 226 197 209  52]\n",
      " [  0   0   0   0   0   0   0   0   0   0   6   0  99 244 222 220 218 203\n",
      "  198 221 215 213 222 220 245 119 167  56]\n",
      " [  0   0   0   0   0   0   0   0   0   4   0   0  55 236 228 230 228 240\n",
      "  232 213 218 223 234 217 217 209  92   0]\n",
      " [  0   0   1   4   6   7   2   0   0   0   0   0 237 226 217 223 222 219\n",
      "  222 221 216 223 229 215 218 255  77   0]\n",
      " [  0   3   0   0   0   0   0   0   0  62 145 204 228 207 213 221 218 208\n",
      "  211 218 224 223 219 215 224 244 159   0]\n",
      " [  0   0   0   0  18  44  82 107 189 228 220 222 217 226 200 205 211 230\n",
      "  224 234 176 188 250 248 233 238 215   0]\n",
      " [  0  57 187 208 224 221 224 208 204 214 208 209 200 159 245 193 206 223\n",
      "  255 255 221 234 221 211 220 232 246   0]\n",
      " [  3 202 228 224 221 211 211 214 205 205 205 220 240  80 150 255 229 221\n",
      "  188 154 191 210 204 209 222 228 225   0]\n",
      " [ 98 233 198 210 222 229 229 234 249 220 194 215 217 241  65  73 106 117\n",
      "  168 219 221 215 217 223 223 224 229  29]\n",
      " [ 75 204 212 204 193 205 211 225 216 185 197 206 198 213 240 195 227 245\n",
      "  239 223 218 212 209 222 220 221 230  67]\n",
      " [ 48 203 183 194 213 197 185 190 194 192 202 214 219 221 220 236 225 216\n",
      "  199 206 186 181 177 172 181 205 206 115]\n",
      " [  0 122 219 193 179 171 183 196 204 210 213 207 211 210 200 196 194 191\n",
      "  195 191 198 192 176 156 167 177 210  92]\n",
      " [  0   0  74 189 212 191 175 172 175 181 185 188 189 188 193 198 204 209\n",
      "  210 210 211 188 188 194 192 216 170   0]\n",
      " [  2   0   0   0  66 200 222 237 239 242 246 243 244 221 220 193 191 179\n",
      "  182 182 181 176 166 168  99  58   0   0]\n",
      " [  0   0   0   0   0   0   0  40  61  44  72  41  35   0   0   0   0   0\n",
      "    0   0   0   0   0   0   0   0   0   0]\n",
      " [  0   0   0   0   0   0   0   0   0   0   0   0   0   0   0   0   0   0\n",
      "    0   0   0   0   0   0   0   0   0   0]\n",
      " [  0   0   0   0   0   0   0   0   0   0   0   0   0   0   0   0   0   0\n",
      "    0   0   0   0   0   0   0   0   0   0]]\n",
      "y_test: 9\n"
     ]
    }
   ],
   "source": [
    "print('x_train: {}'.format(x_train[0]))\n",
    "print('y_test: {}'.format(y_test[0]))"
   ]
  },
  {
   "cell_type": "code",
   "execution_count": null,
   "metadata": {
    "colab": {
     "base_uri": "https://localhost:8080/",
     "height": 37
    },
    "id": "MdnbsuMVmk3G",
    "outputId": "8fe40ac7-9421-416c-a510-1fa5ec3ecce5"
   },
   "outputs": [
    {
     "data": {
      "text/latex": [
       "$\\displaystyle \\left( 60000, \\  28, \\  28\\right)$"
      ],
      "text/plain": [
       "(60000, 28, 28)"
      ]
     },
     "execution_count": 9,
     "metadata": {},
     "output_type": "execute_result"
    }
   ],
   "source": [
    "x_train.shape"
   ]
  },
  {
   "cell_type": "code",
   "execution_count": null,
   "metadata": {
    "colab": {
     "base_uri": "https://localhost:8080/",
     "height": 37
    },
    "id": "AgcSp49am2I-",
    "outputId": "890f3eca-3c50-4f86-faa4-2c0cc5da1e10"
   },
   "outputs": [
    {
     "data": {
      "text/latex": [
       "$\\displaystyle \\left( 60000,\\right)$"
      ],
      "text/plain": [
       "(60000,)"
      ]
     },
     "execution_count": 11,
     "metadata": {},
     "output_type": "execute_result"
    }
   ],
   "source": [
    "y_train.shape"
   ]
  },
  {
   "cell_type": "code",
   "execution_count": null,
   "metadata": {
    "colab": {
     "base_uri": "https://localhost:8080/",
     "height": 430
    },
    "id": "cxd6w3tJm6zf",
    "outputId": "6805d85f-4bee-4a7e-b18d-7830679c5f16"
   },
   "outputs": [
    {
     "data": {
      "image/png": "[encoded data removed]",
      "text/plain": [
       "<Figure size 640x480 with 1 Axes>"
      ]
     },
     "metadata": {},
     "output_type": "display_data"
    }
   ],
   "source": [
    "# plot a single sample\n",
    "\n",
    "plt.imshow(x_train[0])\n",
    "\n",
    "plt.show()"
   ]
  },
  {
   "cell_type": "code",
   "execution_count": null,
   "metadata": {
    "colab": {
     "base_uri": "https://localhost:8080/"
    },
    "id": "1XIw7YrqoEQn",
    "outputId": "bc048079-7927-4ba9-93b0-be9b378ba490"
   },
   "outputs": [
    {
     "data": {
      "text/plain": [
       "['T-shirt/top',\n",
       " 'Trouser',\n",
       " 'Pullover',\n",
       " 'Dress',\n",
       " 'Coat',\n",
       " 'Sandal',\n",
       " 'Shirt',\n",
       " 'Sneaker',\n",
       " 'Bag',\n",
       " 'Ankle boot']"
      ]
     },
     "execution_count": 3,
     "metadata": {},
     "output_type": "execute_result"
    }
   ],
   "source": [
    "# giving names for the y labels\n",
    "class_names = ['T-shirt/top','Trouser','Pullover','Dress','Coat','Sandal','Shirt','Sneaker','Bag','Ankle boot']\n",
    "\n",
    "class_names"
   ]
  },
  {
   "cell_type": "code",
   "execution_count": null,
   "metadata": {
    "colab": {
     "base_uri": "https://localhost:8080/",
     "height": 452
    },
    "id": "iYC4boC3oFOW",
    "outputId": "7336c71f-fa33-49e2-f78e-e836fc7f552d"
   },
   "outputs": [
    {
     "data": {
      "image/png": "[encoded data removed]",
      "text/plain": [
       "<Figure size 640x480 with 1 Axes>"
      ]
     },
     "metadata": {},
     "output_type": "display_data"
    }
   ],
   "source": [
    "# plotting an item with apt name\n",
    "\n",
    "index = 12\n",
    "plt.imshow(x_train[index])\n",
    "plt.title(class_names[y_train[index]])\n",
    "\n",
    "plt.show()"
   ]
  },
  {
   "cell_type": "code",
   "execution_count": null,
   "metadata": {
    "colab": {
     "base_uri": "https://localhost:8080/",
     "height": 407
    },
    "id": "_FPKd68YvoOC",
    "outputId": "47b8a8c3-c924-4630-990c-cdbe198f5171"
   },
   "outputs": [
    {
     "data": {
      "image/png": "[encoded data removed]",
      "text/plain": [
       "<Figure size 1000x400 with 4 Axes>"
      ]
     },
     "metadata": {},
     "output_type": "display_data"
    }
   ],
   "source": [
    "# plotting multiple images in iteration\n",
    "import random\n",
    "\n",
    "how_many_images = 4\n",
    "fig = plt.figure(figsize=(10,4))\n",
    "\n",
    "for i in range(how_many_images):\n",
    "  ax = plt.subplot(2,2,i+1)\n",
    "  random_index = random.choice(range(len(x_train)))\n",
    "  plt.imshow(x_train[random_index])\n",
    "  plt.title(class_names[y_train[random_index]])\n",
    "  plt.axis(False)\n",
    "\n",
    "\n",
    "plt.tight_layout()\n",
    "plt.show()\n"
   ]
  },
  {
   "cell_type": "markdown",
   "metadata": {
    "id": "MXwiVswhwM7o"
   },
   "source": [
    "# experiment, analysis and freethrows"
   ]
  },
  {
   "cell_type": "code",
   "execution_count": null,
   "metadata": {
    "colab": {
     "base_uri": "https://localhost:8080/"
    },
    "id": "c5TTyKbgwQm_",
    "outputId": "e81e8959-6114-40ed-ed30-9e076eae6c09"
   },
   "outputs": [
    {
     "data": {
      "text/plain": [
       "26"
      ]
     },
     "execution_count": 9,
     "metadata": {},
     "output_type": "execute_result"
    }
   ],
   "source": [
    "x = np.arange(12,55,1)\n",
    "import random\n",
    "\n",
    "random_index = random.choice(range(len(x)))\n",
    "x[random_index]"
   ]
  },
  {
   "cell_type": "code",
   "execution_count": null,
   "metadata": {
    "colab": {
     "base_uri": "https://localhost:8080/",
     "height": 452
    },
    "id": "9MXVmTqNhLgz",
    "outputId": "e957c331-dfda-464e-dcef-4dc050ca508d"
   },
   "outputs": [
    {
     "data": {
      "text/plain": [
       "<Axes: >"
      ]
     },
     "execution_count": 10,
     "metadata": {},
     "output_type": "execute_result"
    },
    {
     "data": {
      "image/png": "[encoded data removed]",
      "text/plain": [
       "<Figure size 640x480 with 3 Axes>"
      ]
     },
     "metadata": {},
     "output_type": "display_data"
    }
   ],
   "source": [
    "plt.subplot(2,2,1)\n",
    "plt.subplot(2,2,2)\n",
    "plt.subplot(2,2,3)\n"
   ]
  },
  {
   "cell_type": "code",
   "execution_count": null,
   "metadata": {
    "id": "uz8Zcz-ViqFD"
   },
   "outputs": [],
   "source": []
  },
  {
   "cell_type": "markdown",
   "metadata": {
    "id": "ZtZssIlLiqH6"
   },
   "source": [
    "# building a model\n",
    "\n",
    "# requirments:\n",
    "1. determine the input shape. flatten the image first with the input shape.\n",
    "\n",
    "2. determine the output shape\n",
    "\n",
    "3. loss function is categorycrossentropy for multiclass classification.if your y_train and y_test labels are one-hot encoded then use CategoricalCrossentropy(),otherwise use SparseCategoricalCrossentropy().\n",
    "\n",
    "\n",
    "4. output layer activation is 'softmax'"
   ]
  },
  {
   "cell_type": "code",
   "execution_count": null,
   "metadata": {
    "colab": {
     "base_uri": "https://localhost:8080/",
     "height": 37
    },
    "id": "vTcB2QwDrY0m",
    "outputId": "a42f5f39-4f25-43c6-df8b-42dce44353e7"
   },
   "outputs": [
    {
     "data": {
      "text/latex": [
       "$\\displaystyle \\left( 28, \\  28\\right)$"
      ],
      "text/plain": [
       "(28, 28)"
      ]
     },
     "execution_count": 14,
     "metadata": {},
     "output_type": "execute_result"
    }
   ],
   "source": [
    "# this is 'an' input shape\n",
    "\n",
    "x_train[0].shape"
   ]
  },
  {
   "cell_type": "code",
   "execution_count": null,
   "metadata": {
    "colab": {
     "base_uri": "https://localhost:8080/",
     "height": 37
    },
    "id": "2VsKxgTevi57",
    "outputId": "810353e5-ec1b-4fa3-c4a1-eb61eee61c49"
   },
   "outputs": [
    {
     "data": {
      "text/latex": [
       "$\\displaystyle 10$"
      ],
      "text/plain": [
       "10"
      ]
     },
     "execution_count": 15,
     "metadata": {},
     "output_type": "execute_result"
    }
   ],
   "source": [
    "# this is output shapes\n",
    "\n",
    "len(class_names)"
   ]
  },
  {
   "cell_type": "code",
   "execution_count": null,
   "metadata": {
    "colab": {
     "base_uri": "https://localhost:8080/",
     "height": 55
    },
    "id": "luT48BzXiqgi",
    "outputId": "613116d3-2c19-4784-b938-5b76b67a288b"
   },
   "outputs": [
    {
     "name": "stdout",
     "output_type": "stream",
     "text": [
      "313/313 [==============================] - 1s 3ms/step - loss: 6.4244 - accuracy: 0.1508\n"
     ]
    },
    {
     "data": {
      "text/latex": [
       "$\\displaystyle \\left[ 6.42437887191772, \\  0.150800004601479\\right]$"
      ],
      "text/plain": [
       "[6.424378871917725, 0.15080000460147858]"
      ]
     },
     "execution_count": 26,
     "metadata": {},
     "output_type": "execute_result"
    }
   ],
   "source": [
    "# building the model with previous hidden layers and activation functions\n",
    "\n",
    "\n",
    "# building the model\n",
    "model = tf.keras.Sequential()\n",
    "model.add(tf.keras.layers.Flatten(input_shape=x_train[0].shape))\n",
    "model.add(tf.keras.layers.Dense(4,activation='tanh',name='hidden_layer1'))\n",
    "model.add(tf.keras.layers.Dense(2,activation='tanh',name='hidden_layer2'))\n",
    "model.add(tf.keras.layers.Dense(10,activation='softmax',name='output_layer'))\n",
    "\n",
    "# compiling the model\n",
    "model.compile(loss=tf.keras.losses.SparseCategoricalCrossentropy(),\n",
    "              optimizer=tf.keras.optimizers.Adam(),\n",
    "              metrics=['accuracy'])\n",
    "\n",
    "# determing the learning rate scheduler:\n",
    "lr_scheduler = tf.keras.callbacks.LearningRateScheduler(lambda epoch:10**(-4) * 10**(epoch/20))\n",
    "\n",
    "# fit the model\n",
    "history = model.fit(x_train,y_train,epochs=100,callbacks=[lr_scheduler],verbose=False)\n",
    "\n",
    "\n",
    "# evaluate the model\n",
    "model.evaluate(x_test,y_test)"
   ]
  },
  {
   "cell_type": "code",
   "execution_count": null,
   "metadata": {
    "colab": {
     "base_uri": "https://localhost:8080/"
    },
    "id": "RpeIAwhM8KA7",
    "outputId": "5462c7e5-6c6c-4145-8999-9ffccb93c4da"
   },
   "outputs": [
    {
     "data": {
      "text/plain": [
       "{'loss': [2.1831564903259277,\n",
       "  2.0561413764953613,\n",
       "  1.957371473312378,\n",
       "  1.8683629035949707,\n",
       "  1.7780150175094604,\n",
       "  1.6870231628417969,\n",
       "  1.6048270463943481,\n",
       "  1.5298597812652588,\n",
       "  1.475717544555664,\n",
       "  1.456804633140564,\n",
       "  1.4502025842666626,\n",
       "  1.4182329177856445,\n",
       "  1.4602477550506592,\n",
       "  1.4039841890335083,\n",
       "  1.4390249252319336,\n",
       "  1.3669475317001343,\n",
       "  1.4059531688690186,\n",
       "  1.3873372077941895,\n",
       "  1.301460862159729,\n",
       "  1.3576233386993408,\n",
       "  1.2859948873519897,\n",
       "  1.2914401292800903,\n",
       "  1.302510142326355,\n",
       "  1.2370896339416504,\n",
       "  1.2380424737930298,\n",
       "  1.2994928359985352,\n",
       "  1.4059314727783203,\n",
       "  1.4717776775360107,\n",
       "  1.2951072454452515,\n",
       "  1.322601556777954,\n",
       "  1.3921536207199097,\n",
       "  1.329744815826416,\n",
       "  1.264715552330017,\n",
       "  1.3466851711273193,\n",
       "  1.4939403533935547,\n",
       "  1.5178292989730835,\n",
       "  1.4871759414672852,\n",
       "  1.5614093542099,\n",
       "  1.5831875801086426,\n",
       "  1.5903421640396118,\n",
       "  1.4608532190322876,\n",
       "  1.544529914855957,\n",
       "  1.7321839332580566,\n",
       "  1.601623773574829,\n",
       "  1.660819172859192,\n",
       "  1.8687443733215332,\n",
       "  2.038747549057007,\n",
       "  2.0081772804260254,\n",
       "  2.229895830154419,\n",
       "  2.310453414916992,\n",
       "  2.182276487350464,\n",
       "  1.8259027004241943,\n",
       "  2.0225820541381836,\n",
       "  1.879774570465088,\n",
       "  1.7823033332824707,\n",
       "  1.7751108407974243,\n",
       "  1.7747230529785156,\n",
       "  1.7787543535232544,\n",
       "  1.7818156480789185,\n",
       "  1.7848235368728638,\n",
       "  1.7892218828201294,\n",
       "  1.7917786836624146,\n",
       "  1.795161247253418,\n",
       "  1.801619052886963,\n",
       "  1.8081544637680054,\n",
       "  1.813818335533142,\n",
       "  1.8181952238082886,\n",
       "  1.8277738094329834,\n",
       "  1.8364686965942383,\n",
       "  1.8510949611663818,\n",
       "  1.8547039031982422,\n",
       "  1.864688515663147,\n",
       "  1.8823089599609375,\n",
       "  1.8965188264846802,\n",
       "  1.9050310850143433,\n",
       "  1.9271824359893799,\n",
       "  1.942261815071106,\n",
       "  1.975816249847412,\n",
       "  1.9910573959350586,\n",
       "  2.019440174102783,\n",
       "  2.027205228805542,\n",
       "  2.08591890335083,\n",
       "  2.1395034790039062,\n",
       "  2.1393542289733887,\n",
       "  2.208951234817505,\n",
       "  2.261009454727173,\n",
       "  2.357269525527954,\n",
       "  2.3965611457824707,\n",
       "  2.5405054092407227,\n",
       "  2.535592555999756,\n",
       "  2.7771573066711426,\n",
       "  2.805579662322998,\n",
       "  3.0598831176757812,\n",
       "  3.181812286376953,\n",
       "  3.5855765342712402,\n",
       "  3.8030545711517334,\n",
       "  4.298471927642822,\n",
       "  5.1349663734436035,\n",
       "  6.045830726623535,\n",
       "  6.924917221069336],\n",
       " 'accuracy': [0.2302333265542984,\n",
       "  0.2588833272457123,\n",
       "  0.2777999937534332,\n",
       "  0.3010833263397217,\n",
       "  0.31948333978652954,\n",
       "  0.3432166576385498,\n",
       "  0.358599990606308,\n",
       "  0.3675333261489868,\n",
       "  0.37203332781791687,\n",
       "  0.37450000643730164,\n",
       "  0.36846667528152466,\n",
       "  0.37646666169166565,\n",
       "  0.3723999857902527,\n",
       "  0.376883327960968,\n",
       "  0.36968332529067993,\n",
       "  0.3744833469390869,\n",
       "  0.39184999465942383,\n",
       "  0.4378499984741211,\n",
       "  0.49228334426879883,\n",
       "  0.4691833257675171,\n",
       "  0.4785333275794983,\n",
       "  0.4737333357334137,\n",
       "  0.46658334136009216,\n",
       "  0.4992833435535431,\n",
       "  0.5008333325386047,\n",
       "  0.4812999963760376,\n",
       "  0.45248332619667053,\n",
       "  0.41110000014305115,\n",
       "  0.4656499922275543,\n",
       "  0.4404333233833313,\n",
       "  0.41161665320396423,\n",
       "  0.42251667380332947,\n",
       "  0.4353500008583069,\n",
       "  0.399483323097229,\n",
       "  0.3812333345413208,\n",
       "  0.3542666733264923,\n",
       "  0.3502500057220459,\n",
       "  0.304749995470047,\n",
       "  0.3060166537761688,\n",
       "  0.29794999957084656,\n",
       "  0.3547999858856201,\n",
       "  0.34290000796318054,\n",
       "  0.2827666699886322,\n",
       "  0.30843332409858704,\n",
       "  0.27506667375564575,\n",
       "  0.22833333909511566,\n",
       "  0.19036667048931122,\n",
       "  0.19339999556541443,\n",
       "  0.12383333593606949,\n",
       "  0.10088333487510681,\n",
       "  0.12391666322946548,\n",
       "  0.1952333301305771,\n",
       "  0.1619500070810318,\n",
       "  0.19318333268165588,\n",
       "  0.19733333587646484,\n",
       "  0.19718332588672638,\n",
       "  0.20029999315738678,\n",
       "  0.19911666214466095,\n",
       "  0.20090000331401825,\n",
       "  0.19876666367053986,\n",
       "  0.19769999384880066,\n",
       "  0.19539999961853027,\n",
       "  0.20018333196640015,\n",
       "  0.19831666350364685,\n",
       "  0.19705000519752502,\n",
       "  0.19936667382717133,\n",
       "  0.2006833404302597,\n",
       "  0.19741666316986084,\n",
       "  0.19953332841396332,\n",
       "  0.19539999961853027,\n",
       "  0.19446666538715363,\n",
       "  0.19750000536441803,\n",
       "  0.19763332605361938,\n",
       "  0.19750000536441803,\n",
       "  0.1973833292722702,\n",
       "  0.19619999825954437,\n",
       "  0.19629999995231628,\n",
       "  0.1964833289384842,\n",
       "  0.1965833306312561,\n",
       "  0.19499999284744263,\n",
       "  0.1945333331823349,\n",
       "  0.19273333251476288,\n",
       "  0.19446666538715363,\n",
       "  0.1949833333492279,\n",
       "  0.19089999794960022,\n",
       "  0.1910499930381775,\n",
       "  0.19406667351722717,\n",
       "  0.18878333270549774,\n",
       "  0.19323332607746124,\n",
       "  0.19306667149066925,\n",
       "  0.19280000030994415,\n",
       "  0.18976666033267975,\n",
       "  0.19058333337306976,\n",
       "  0.1906999945640564,\n",
       "  0.18833333253860474,\n",
       "  0.19269999861717224,\n",
       "  0.1886666715145111,\n",
       "  0.1899999976158142,\n",
       "  0.18958333134651184,\n",
       "  0.18938332796096802],\n",
       " 'lr': [1e-04,\n",
       "  0.000112201844,\n",
       "  0.00012589255,\n",
       "  0.00014125375,\n",
       "  0.00015848932,\n",
       "  0.00017782794,\n",
       "  0.00019952623,\n",
       "  0.00022387212,\n",
       "  0.00025118864,\n",
       "  0.0002818383,\n",
       "  0.00031622776,\n",
       "  0.00035481338,\n",
       "  0.00039810716,\n",
       "  0.00044668358,\n",
       "  0.0005011872,\n",
       "  0.0005623413,\n",
       "  0.00063095737,\n",
       "  0.0007079458,\n",
       "  0.0007943282,\n",
       "  0.00089125097,\n",
       "  0.001,\n",
       "  0.0011220184,\n",
       "  0.0012589254,\n",
       "  0.0014125375,\n",
       "  0.0015848932,\n",
       "  0.0017782794,\n",
       "  0.0019952622,\n",
       "  0.0022387211,\n",
       "  0.0025118864,\n",
       "  0.002818383,\n",
       "  0.0031622776,\n",
       "  0.003548134,\n",
       "  0.0039810715,\n",
       "  0.004466836,\n",
       "  0.0050118724,\n",
       "  0.0056234132,\n",
       "  0.0063095735,\n",
       "  0.007079458,\n",
       "  0.007943282,\n",
       "  0.008912509,\n",
       "  0.01,\n",
       "  0.011220184,\n",
       "  0.012589254,\n",
       "  0.014125375,\n",
       "  0.015848933,\n",
       "  0.017782794,\n",
       "  0.019952623,\n",
       "  0.022387212,\n",
       "  0.025118865,\n",
       "  0.028183829,\n",
       "  0.031622775,\n",
       "  0.035481337,\n",
       "  0.039810717,\n",
       "  0.044668358,\n",
       "  0.050118722,\n",
       "  0.056234132,\n",
       "  0.06309573,\n",
       "  0.070794575,\n",
       "  0.07943282,\n",
       "  0.0891251,\n",
       "  0.1,\n",
       "  0.11220185,\n",
       "  0.12589253,\n",
       "  0.14125375,\n",
       "  0.15848932,\n",
       "  0.17782794,\n",
       "  0.19952624,\n",
       "  0.22387211,\n",
       "  0.25118864,\n",
       "  0.2818383,\n",
       "  0.31622776,\n",
       "  0.3548134,\n",
       "  0.39810717,\n",
       "  0.4466836,\n",
       "  0.5011872,\n",
       "  0.56234133,\n",
       "  0.63095737,\n",
       "  0.70794576,\n",
       "  0.7943282,\n",
       "  0.8912509,\n",
       "  1.0,\n",
       "  1.1220185,\n",
       "  1.2589254,\n",
       "  1.4125376,\n",
       "  1.5848932,\n",
       "  1.7782794,\n",
       "  1.9952623,\n",
       "  2.2387211,\n",
       "  2.5118864,\n",
       "  2.818383,\n",
       "  3.1622777,\n",
       "  3.5481339,\n",
       "  3.9810717,\n",
       "  4.466836,\n",
       "  5.0118723,\n",
       "  5.623413,\n",
       "  6.3095737,\n",
       "  7.0794578,\n",
       "  7.943282,\n",
       "  8.912509]}"
      ]
     },
     "execution_count": 31,
     "metadata": {},
     "output_type": "execute_result"
    }
   ],
   "source": [
    "history.history"
   ]
  },
  {
   "cell_type": "code",
   "execution_count": null,
   "metadata": {
    "colab": {
     "base_uri": "https://localhost:8080/",
     "height": 430
    },
    "id": "zVI_V_hr4xRM",
    "outputId": "141f3715-2d33-41d4-f6e5-924a568a9898"
   },
   "outputs": [
    {
     "data": {
      "image/png": "[encoded data removed]",
      "text/plain": [
       "<Figure size 640x480 with 1 Axes>"
      ]
     },
     "metadata": {},
     "output_type": "display_data"
    }
   ],
   "source": [
    "pd.DataFrame(history.history).plot()\n",
    "\n",
    "plt.show()"
   ]
  },
  {
   "cell_type": "code",
   "execution_count": null,
   "metadata": {
    "colab": {
     "base_uri": "https://localhost:8080/",
     "height": 435
    },
    "id": "mw5rTIbQ4_jj",
    "outputId": "edd9f442-4e2a-4a56-f69d-b21b31e0200c"
   },
   "outputs": [
    {
     "data": {
      "image/png": "[encoded data removed]",
      "text/plain": [
       "<Figure size 640x480 with 1 Axes>"
      ]
     },
     "metadata": {},
     "output_type": "display_data"
    }
   ],
   "source": [
    "\n",
    "pd.DataFrame(history.history).plot()\n",
    "\n",
    "\n",
    "# zooming in\n",
    "plt.xlim([40,60])\n",
    "plt.ylim([-0.1,0.2])\n",
    "plt.show()"
   ]
  },
  {
   "cell_type": "code",
   "execution_count": null,
   "metadata": {
    "colab": {
     "base_uri": "https://localhost:8080/",
     "height": 450
    },
    "id": "1LxGsP0l8Cst",
    "outputId": "22b9b143-e2fb-4cc6-ffb9-35c68aea6c61"
   },
   "outputs": [
    {
     "data": {
      "image/png": "[encoded data removed]",
      "text/plain": [
       "<Figure size 640x480 with 1 Axes>"
      ]
     },
     "metadata": {},
     "output_type": "display_data"
    }
   ],
   "source": [
    "lr = 10**(-4) * 10**(np.arange(100)/20)\n",
    "\n",
    "accuracy = history.history['accuracy']\n",
    "\n",
    "\n",
    "# plotting\n",
    "plt.plot(lr,accuracy)\n",
    "\n",
    "plt.xlabel('learning_rate')\n",
    "plt.ylabel('accuracy')\n",
    "\n",
    "# zooming in\n",
    "plt.xlim([0,0.05])\n",
    "\n",
    "# plotting an apt point\n",
    "target = 0.025\n",
    "index = np.argmin(abs(target-lr))\n",
    "\n",
    "plt.plot(lr[index],accuracy[index],'ro')\n",
    "\n",
    "plt.show()"
   ]
  },
  {
   "cell_type": "code",
   "execution_count": null,
   "metadata": {
    "colab": {
     "base_uri": "https://localhost:8080/"
    },
    "id": "FrNxJFxg_8QF",
    "outputId": "167a2d2c-373e-46fc-a3ce-7194673da778"
   },
   "outputs": [
    {
     "data": {
      "text/plain": [
       "48"
      ]
     },
     "execution_count": 49,
     "metadata": {},
     "output_type": "execute_result"
    }
   ],
   "source": [
    "index"
   ]
  },
  {
   "cell_type": "code",
   "execution_count": null,
   "metadata": {
    "colab": {
     "base_uri": "https://localhost:8080/",
     "height": 37
    },
    "id": "xw4meaJm_97c",
    "outputId": "fda657fd-404d-48ca-ee7e-bbf4929faba1"
   },
   "outputs": [
    {
     "data": {
      "text/latex": [
       "$\\displaystyle 0.0251188643150958$"
      ],
      "text/plain": [
       "0.025118864315095798"
      ]
     },
     "execution_count": 50,
     "metadata": {},
     "output_type": "execute_result"
    }
   ],
   "source": [
    "lr[index]"
   ]
  },
  {
   "cell_type": "code",
   "execution_count": null,
   "metadata": {
    "id": "EU1fH723EQU-"
   },
   "outputs": [],
   "source": []
  },
  {
   "cell_type": "markdown",
   "metadata": {
    "id": "CQyIrCtLEQcU"
   },
   "source": [
    "# normalizing the Data\n",
    "\n",
    "\n",
    "**making the values fall between 0 and 1.**\n",
    "\n",
    "\n",
    "# $$\\frac{x-min}{max-min} $$"
   ]
  },
  {
   "cell_type": "code",
   "execution_count": null,
   "metadata": {
    "colab": {
     "base_uri": "https://localhost:8080/"
    },
    "id": "W8BU3fBMEUHt",
    "outputId": "153ddd16-03c1-4a7f-ad5c-07ec504546ac"
   },
   "outputs": [
    {
     "data": {
      "text/plain": [
       "(0, 255)"
      ]
     },
     "execution_count": 52,
     "metadata": {},
     "output_type": "execute_result"
    }
   ],
   "source": [
    "# min and max of x_train\n",
    "\n",
    "np.min(x_train),np.max(x_train)"
   ]
  },
  {
   "cell_type": "code",
   "execution_count": null,
   "metadata": {
    "colab": {
     "base_uri": "https://localhost:8080/",
     "height": 382
    },
    "id": "eQ4JEPWNE6ZF",
    "outputId": "e6efc0fc-b7d0-4184-c759-049d20d2ab88"
   },
   "outputs": [
    {
     "ename": "ValueError",
     "evalue": "ignored",
     "output_type": "error",
     "traceback": [
      "\u001b[0;31m---------------------------------------------------------------------------\u001b[0m",
      "\u001b[0;31mValueError\u001b[0m                                Traceback (most recent call last)",
      "\u001b[0;32m<ipython-input-53-bbfa6ed74a9c>\u001b[0m in \u001b[0;36m<cell line: 4>\u001b[0;34m()\u001b[0m\n\u001b[1;32m      2\u001b[0m \u001b[0;34m\u001b[0m\u001b[0m\n\u001b[1;32m      3\u001b[0m \u001b[0mscaler\u001b[0m  \u001b[0;34m=\u001b[0m \u001b[0mMinMaxScaler\u001b[0m\u001b[0;34m(\u001b[0m\u001b[0;34m)\u001b[0m\u001b[0;34m\u001b[0m\u001b[0;34m\u001b[0m\u001b[0m\n\u001b[0;32m----> 4\u001b[0;31m \u001b[0mx_train\u001b[0m \u001b[0;34m=\u001b[0m \u001b[0mscaler\u001b[0m\u001b[0;34m.\u001b[0m\u001b[0mfit_transform\u001b[0m\u001b[0;34m(\u001b[0m\u001b[0mx_train\u001b[0m\u001b[0;34m)\u001b[0m\u001b[0;34m\u001b[0m\u001b[0;34m\u001b[0m\u001b[0m\n\u001b[0m\u001b[1;32m      5\u001b[0m \u001b[0mx_test\u001b[0m  \u001b[0;34m=\u001b[0m \u001b[0mscaler\u001b[0m\u001b[0;34m.\u001b[0m\u001b[0mtransform\u001b[0m\u001b[0;34m(\u001b[0m\u001b[0mx_test\u001b[0m\u001b[0;34m)\u001b[0m\u001b[0;34m\u001b[0m\u001b[0;34m\u001b[0m\u001b[0m\n",
      "\u001b[0;32m/usr/local/lib/python3.10/dist-packages/sklearn/utils/_set_output.py\u001b[0m in \u001b[0;36mwrapped\u001b[0;34m(self, X, *args, **kwargs)\u001b[0m\n\u001b[1;32m    138\u001b[0m     \u001b[0;34m@\u001b[0m\u001b[0mwraps\u001b[0m\u001b[0;34m(\u001b[0m\u001b[0mf\u001b[0m\u001b[0;34m)\u001b[0m\u001b[0;34m\u001b[0m\u001b[0;34m\u001b[0m\u001b[0m\n\u001b[1;32m    139\u001b[0m     \u001b[0;32mdef\u001b[0m \u001b[0mwrapped\u001b[0m\u001b[0;34m(\u001b[0m\u001b[0mself\u001b[0m\u001b[0;34m,\u001b[0m \u001b[0mX\u001b[0m\u001b[0;34m,\u001b[0m \u001b[0;34m*\u001b[0m\u001b[0margs\u001b[0m\u001b[0;34m,\u001b[0m \u001b[0;34m**\u001b[0m\u001b[0mkwargs\u001b[0m\u001b[0;34m)\u001b[0m\u001b[0;34m:\u001b[0m\u001b[0;34m\u001b[0m\u001b[0;34m\u001b[0m\u001b[0m\n\u001b[0;32m--> 140\u001b[0;31m         \u001b[0mdata_to_wrap\u001b[0m \u001b[0;34m=\u001b[0m \u001b[0mf\u001b[0m\u001b[0;34m(\u001b[0m\u001b[0mself\u001b[0m\u001b[0;34m,\u001b[0m \u001b[0mX\u001b[0m\u001b[0;34m,\u001b[0m \u001b[0;34m*\u001b[0m\u001b[0margs\u001b[0m\u001b[0;34m,\u001b[0m \u001b[0;34m**\u001b[0m\u001b[0mkwargs\u001b[0m\u001b[0;34m)\u001b[0m\u001b[0;34m\u001b[0m\u001b[0;34m\u001b[0m\u001b[0m\n\u001b[0m\u001b[1;32m    141\u001b[0m         \u001b[0;32mif\u001b[0m \u001b[0misinstance\u001b[0m\u001b[0;34m(\u001b[0m\u001b[0mdata_to_wrap\u001b[0m\u001b[0;34m,\u001b[0m \u001b[0mtuple\u001b[0m\u001b[0;34m)\u001b[0m\u001b[0;34m:\u001b[0m\u001b[0;34m\u001b[0m\u001b[0;34m\u001b[0m\u001b[0m\n\u001b[1;32m    142\u001b[0m             \u001b[0;31m# only wrap the first output for cross decomposition\u001b[0m\u001b[0;34m\u001b[0m\u001b[0;34m\u001b[0m\u001b[0m\n",
      "\u001b[0;32m/usr/local/lib/python3.10/dist-packages/sklearn/base.py\u001b[0m in \u001b[0;36mfit_transform\u001b[0;34m(self, X, y, **fit_params)\u001b[0m\n\u001b[1;32m    876\u001b[0m         \u001b[0;32mif\u001b[0m \u001b[0my\u001b[0m \u001b[0;32mis\u001b[0m \u001b[0;32mNone\u001b[0m\u001b[0;34m:\u001b[0m\u001b[0;34m\u001b[0m\u001b[0;34m\u001b[0m\u001b[0m\n\u001b[1;32m    877\u001b[0m             \u001b[0;31m# fit method of arity 1 (unsupervised transformation)\u001b[0m\u001b[0;34m\u001b[0m\u001b[0;34m\u001b[0m\u001b[0m\n\u001b[0;32m--> 878\u001b[0;31m             \u001b[0;32mreturn\u001b[0m \u001b[0mself\u001b[0m\u001b[0;34m.\u001b[0m\u001b[0mfit\u001b[0m\u001b[0;34m(\u001b[0m\u001b[0mX\u001b[0m\u001b[0;34m,\u001b[0m \u001b[0;34m**\u001b[0m\u001b[0mfit_params\u001b[0m\u001b[0;34m)\u001b[0m\u001b[0;34m.\u001b[0m\u001b[0mtransform\u001b[0m\u001b[0;34m(\u001b[0m\u001b[0mX\u001b[0m\u001b[0;34m)\u001b[0m\u001b[0;34m\u001b[0m\u001b[0;34m\u001b[0m\u001b[0m\n\u001b[0m\u001b[1;32m    879\u001b[0m         \u001b[0;32melse\u001b[0m\u001b[0;34m:\u001b[0m\u001b[0;34m\u001b[0m\u001b[0;34m\u001b[0m\u001b[0m\n\u001b[1;32m    880\u001b[0m             \u001b[0;31m# fit method of arity 2 (supervised transformation)\u001b[0m\u001b[0;34m\u001b[0m\u001b[0;34m\u001b[0m\u001b[0m\n",
      "\u001b[0;32m/usr/local/lib/python3.10/dist-packages/sklearn/preprocessing/_data.py\u001b[0m in \u001b[0;36mfit\u001b[0;34m(self, X, y)\u001b[0m\n\u001b[1;32m    425\u001b[0m         \u001b[0;31m# Reset internal state before fitting\u001b[0m\u001b[0;34m\u001b[0m\u001b[0;34m\u001b[0m\u001b[0m\n\u001b[1;32m    426\u001b[0m         \u001b[0mself\u001b[0m\u001b[0;34m.\u001b[0m\u001b[0m_reset\u001b[0m\u001b[0;34m(\u001b[0m\u001b[0;34m)\u001b[0m\u001b[0;34m\u001b[0m\u001b[0;34m\u001b[0m\u001b[0m\n\u001b[0;32m--> 427\u001b[0;31m         \u001b[0;32mreturn\u001b[0m \u001b[0mself\u001b[0m\u001b[0;34m.\u001b[0m\u001b[0mpartial_fit\u001b[0m\u001b[0;34m(\u001b[0m\u001b[0mX\u001b[0m\u001b[0;34m,\u001b[0m \u001b[0my\u001b[0m\u001b[0;34m)\u001b[0m\u001b[0;34m\u001b[0m\u001b[0;34m\u001b[0m\u001b[0m\n\u001b[0m\u001b[1;32m    428\u001b[0m \u001b[0;34m\u001b[0m\u001b[0m\n\u001b[1;32m    429\u001b[0m     \u001b[0;32mdef\u001b[0m \u001b[0mpartial_fit\u001b[0m\u001b[0;34m(\u001b[0m\u001b[0mself\u001b[0m\u001b[0;34m,\u001b[0m \u001b[0mX\u001b[0m\u001b[0;34m,\u001b[0m \u001b[0my\u001b[0m\u001b[0;34m=\u001b[0m\u001b[0;32mNone\u001b[0m\u001b[0;34m)\u001b[0m\u001b[0;34m:\u001b[0m\u001b[0;34m\u001b[0m\u001b[0;34m\u001b[0m\u001b[0m\n",
      "\u001b[0;32m/usr/local/lib/python3.10/dist-packages/sklearn/preprocessing/_data.py\u001b[0m in \u001b[0;36mpartial_fit\u001b[0;34m(self, X, y)\u001b[0m\n\u001b[1;32m    464\u001b[0m \u001b[0;34m\u001b[0m\u001b[0m\n\u001b[1;32m    465\u001b[0m         \u001b[0mfirst_pass\u001b[0m \u001b[0;34m=\u001b[0m \u001b[0;32mnot\u001b[0m \u001b[0mhasattr\u001b[0m\u001b[0;34m(\u001b[0m\u001b[0mself\u001b[0m\u001b[0;34m,\u001b[0m \u001b[0;34m\"n_samples_seen_\"\u001b[0m\u001b[0;34m)\u001b[0m\u001b[0;34m\u001b[0m\u001b[0;34m\u001b[0m\u001b[0m\n\u001b[0;32m--> 466\u001b[0;31m         X = self._validate_data(\n\u001b[0m\u001b[1;32m    467\u001b[0m             \u001b[0mX\u001b[0m\u001b[0;34m,\u001b[0m\u001b[0;34m\u001b[0m\u001b[0;34m\u001b[0m\u001b[0m\n\u001b[1;32m    468\u001b[0m             \u001b[0mreset\u001b[0m\u001b[0;34m=\u001b[0m\u001b[0mfirst_pass\u001b[0m\u001b[0;34m,\u001b[0m\u001b[0;34m\u001b[0m\u001b[0;34m\u001b[0m\u001b[0m\n",
      "\u001b[0;32m/usr/local/lib/python3.10/dist-packages/sklearn/base.py\u001b[0m in \u001b[0;36m_validate_data\u001b[0;34m(self, X, y, reset, validate_separately, **check_params)\u001b[0m\n\u001b[1;32m    563\u001b[0m             \u001b[0;32mraise\u001b[0m \u001b[0mValueError\u001b[0m\u001b[0;34m(\u001b[0m\u001b[0;34m\"Validation should be done on X, y or both.\"\u001b[0m\u001b[0;34m)\u001b[0m\u001b[0;34m\u001b[0m\u001b[0;34m\u001b[0m\u001b[0m\n\u001b[1;32m    564\u001b[0m         \u001b[0;32melif\u001b[0m \u001b[0;32mnot\u001b[0m \u001b[0mno_val_X\u001b[0m \u001b[0;32mand\u001b[0m \u001b[0mno_val_y\u001b[0m\u001b[0;34m:\u001b[0m\u001b[0;34m\u001b[0m\u001b[0;34m\u001b[0m\u001b[0m\n\u001b[0;32m--> 565\u001b[0;31m             \u001b[0mX\u001b[0m \u001b[0;34m=\u001b[0m \u001b[0mcheck_array\u001b[0m\u001b[0;34m(\u001b[0m\u001b[0mX\u001b[0m\u001b[0;34m,\u001b[0m \u001b[0minput_name\u001b[0m\u001b[0;34m=\u001b[0m\u001b[0;34m\"X\"\u001b[0m\u001b[0;34m,\u001b[0m \u001b[0;34m**\u001b[0m\u001b[0mcheck_params\u001b[0m\u001b[0;34m)\u001b[0m\u001b[0;34m\u001b[0m\u001b[0;34m\u001b[0m\u001b[0m\n\u001b[0m\u001b[1;32m    566\u001b[0m             \u001b[0mout\u001b[0m \u001b[0;34m=\u001b[0m \u001b[0mX\u001b[0m\u001b[0;34m\u001b[0m\u001b[0;34m\u001b[0m\u001b[0m\n\u001b[1;32m    567\u001b[0m         \u001b[0;32melif\u001b[0m \u001b[0mno_val_X\u001b[0m \u001b[0;32mand\u001b[0m \u001b[0;32mnot\u001b[0m \u001b[0mno_val_y\u001b[0m\u001b[0;34m:\u001b[0m\u001b[0;34m\u001b[0m\u001b[0;34m\u001b[0m\u001b[0m\n",
      "\u001b[0;32m/usr/local/lib/python3.10/dist-packages/sklearn/utils/validation.py\u001b[0m in \u001b[0;36mcheck_array\u001b[0;34m(array, accept_sparse, accept_large_sparse, dtype, order, copy, force_all_finite, ensure_2d, allow_nd, ensure_min_samples, ensure_min_features, estimator, input_name)\u001b[0m\n\u001b[1;32m    913\u001b[0m             )\n\u001b[1;32m    914\u001b[0m         \u001b[0;32mif\u001b[0m \u001b[0;32mnot\u001b[0m \u001b[0mallow_nd\u001b[0m \u001b[0;32mand\u001b[0m \u001b[0marray\u001b[0m\u001b[0;34m.\u001b[0m\u001b[0mndim\u001b[0m \u001b[0;34m>=\u001b[0m \u001b[0;36m3\u001b[0m\u001b[0;34m:\u001b[0m\u001b[0;34m\u001b[0m\u001b[0;34m\u001b[0m\u001b[0m\n\u001b[0;32m--> 915\u001b[0;31m             raise ValueError(\n\u001b[0m\u001b[1;32m    916\u001b[0m                 \u001b[0;34m\"Found array with dim %d. %s expected <= 2.\"\u001b[0m\u001b[0;34m\u001b[0m\u001b[0;34m\u001b[0m\u001b[0m\n\u001b[1;32m    917\u001b[0m                 \u001b[0;34m%\u001b[0m \u001b[0;34m(\u001b[0m\u001b[0marray\u001b[0m\u001b[0;34m.\u001b[0m\u001b[0mndim\u001b[0m\u001b[0;34m,\u001b[0m \u001b[0mestimator_name\u001b[0m\u001b[0;34m)\u001b[0m\u001b[0;34m\u001b[0m\u001b[0;34m\u001b[0m\u001b[0m\n",
      "\u001b[0;31mValueError\u001b[0m: Found array with dim 3. MinMaxScaler expected <= 2."
     ]
    }
   ],
   "source": [
    "from sklearn.preprocessing import MinMaxScaler\n",
    "\n",
    "scaler  = MinMaxScaler()\n",
    "x_train = scaler.fit_transform(x_train)\n",
    "x_test  = scaler.transform(x_test)"
   ]
  },
  {
   "cell_type": "code",
   "execution_count": null,
   "metadata": {
    "colab": {
     "base_uri": "https://localhost:8080/"
    },
    "id": "ibPkwTwHHuKf",
    "outputId": "85747e42-a414-40d7-8404-67e7b4ec9c03"
   },
   "outputs": [
    {
     "data": {
      "text/plain": [
       "array([[0.        , 0.        , 0.        , 0.        , 0.        ,\n",
       "        0.        , 0.        , 0.        , 0.        , 0.        ,\n",
       "        0.        , 0.        , 0.        , 0.        , 0.        ,\n",
       "        0.        , 0.        , 0.        , 0.        , 0.        ,\n",
       "        0.        , 0.        , 0.        , 0.        , 0.        ,\n",
       "        0.        , 0.        , 0.        ],\n",
       "       [0.        , 0.        , 0.        , 0.        , 0.        ,\n",
       "        0.        , 0.        , 0.        , 0.        , 0.        ,\n",
       "        0.        , 0.        , 0.        , 0.        , 0.        ,\n",
       "        0.        , 0.        , 0.        , 0.        , 0.        ,\n",
       "        0.        , 0.        , 0.        , 0.        , 0.        ,\n",
       "        0.        , 0.        , 0.        ],\n",
       "       [0.        , 0.        , 0.        , 0.        , 0.        ,\n",
       "        0.        , 0.        , 0.        , 0.        , 0.        ,\n",
       "        0.        , 0.        , 0.        , 0.        , 0.        ,\n",
       "        0.        , 0.        , 0.        , 0.        , 0.        ,\n",
       "        0.        , 0.        , 0.        , 0.        , 0.        ,\n",
       "        0.        , 0.        , 0.        ],\n",
       "       [0.        , 0.        , 0.        , 0.        , 0.        ,\n",
       "        0.        , 0.        , 0.        , 0.        , 0.        ,\n",
       "        0.        , 0.        , 0.00392157, 0.        , 0.        ,\n",
       "        0.05098039, 0.28627451, 0.        , 0.        , 0.00392157,\n",
       "        0.01568627, 0.        , 0.        , 0.        , 0.        ,\n",
       "        0.00392157, 0.00392157, 0.        ],\n",
       "       [0.        , 0.        , 0.        , 0.        , 0.        ,\n",
       "        0.        , 0.        , 0.        , 0.        , 0.        ,\n",
       "        0.        , 0.        , 0.01176471, 0.        , 0.14117647,\n",
       "        0.53333333, 0.49803922, 0.24313725, 0.21176471, 0.        ,\n",
       "        0.        , 0.        , 0.00392157, 0.01176471, 0.01568627,\n",
       "        0.        , 0.        , 0.01176471],\n",
       "       [0.        , 0.        , 0.        , 0.        , 0.        ,\n",
       "        0.        , 0.        , 0.        , 0.        , 0.        ,\n",
       "        0.        , 0.        , 0.02352941, 0.        , 0.4       ,\n",
       "        0.8       , 0.69019608, 0.5254902 , 0.56470588, 0.48235294,\n",
       "        0.09019608, 0.        , 0.        , 0.        , 0.        ,\n",
       "        0.04705882, 0.03921569, 0.        ],\n",
       "       [0.        , 0.        , 0.        , 0.        , 0.        ,\n",
       "        0.        , 0.        , 0.        , 0.        , 0.        ,\n",
       "        0.        , 0.        , 0.        , 0.        , 0.60784314,\n",
       "        0.9254902 , 0.81176471, 0.69803922, 0.41960784, 0.61176471,\n",
       "        0.63137255, 0.42745098, 0.25098039, 0.09019608, 0.30196078,\n",
       "        0.50980392, 0.28235294, 0.05882353],\n",
       "       [0.        , 0.        , 0.        , 0.        , 0.        ,\n",
       "        0.        , 0.        , 0.        , 0.        , 0.        ,\n",
       "        0.        , 0.00392157, 0.        , 0.27058824, 0.81176471,\n",
       "        0.8745098 , 0.85490196, 0.84705882, 0.84705882, 0.63921569,\n",
       "        0.49803922, 0.4745098 , 0.47843137, 0.57254902, 0.55294118,\n",
       "        0.34509804, 0.6745098 , 0.25882353],\n",
       "       [0.        , 0.        , 0.        , 0.        , 0.        ,\n",
       "        0.        , 0.        , 0.        , 0.        , 0.00392157,\n",
       "        0.00392157, 0.00392157, 0.        , 0.78431373, 0.90980392,\n",
       "        0.90980392, 0.91372549, 0.89803922, 0.8745098 , 0.8745098 ,\n",
       "        0.84313725, 0.83529412, 0.64313725, 0.49803922, 0.48235294,\n",
       "        0.76862745, 0.89803922, 0.        ],\n",
       "       [0.        , 0.        , 0.        , 0.        , 0.        ,\n",
       "        0.        , 0.        , 0.        , 0.        , 0.        ,\n",
       "        0.        , 0.        , 0.        , 0.71764706, 0.88235294,\n",
       "        0.84705882, 0.8745098 , 0.89411765, 0.92156863, 0.89019608,\n",
       "        0.87843137, 0.87058824, 0.87843137, 0.86666667, 0.8745098 ,\n",
       "        0.96078431, 0.67843137, 0.        ],\n",
       "       [0.        , 0.        , 0.        , 0.        , 0.        ,\n",
       "        0.        , 0.        , 0.        , 0.        , 0.        ,\n",
       "        0.        , 0.        , 0.        , 0.75686275, 0.89411765,\n",
       "        0.85490196, 0.83529412, 0.77647059, 0.70588235, 0.83137255,\n",
       "        0.82352941, 0.82745098, 0.83529412, 0.8745098 , 0.8627451 ,\n",
       "        0.95294118, 0.79215686, 0.        ],\n",
       "       [0.        , 0.        , 0.        , 0.        , 0.        ,\n",
       "        0.        , 0.        , 0.        , 0.        , 0.00392157,\n",
       "        0.01176471, 0.        , 0.04705882, 0.85882353, 0.8627451 ,\n",
       "        0.83137255, 0.85490196, 0.75294118, 0.6627451 , 0.89019608,\n",
       "        0.81568627, 0.85490196, 0.87843137, 0.83137255, 0.88627451,\n",
       "        0.77254902, 0.81960784, 0.20392157],\n",
       "       [0.        , 0.        , 0.        , 0.        , 0.        ,\n",
       "        0.        , 0.        , 0.        , 0.        , 0.        ,\n",
       "        0.02352941, 0.        , 0.38823529, 0.95686275, 0.87058824,\n",
       "        0.8627451 , 0.85490196, 0.79607843, 0.77647059, 0.86666667,\n",
       "        0.84313725, 0.83529412, 0.87058824, 0.8627451 , 0.96078431,\n",
       "        0.46666667, 0.65490196, 0.21960784],\n",
       "       [0.        , 0.        , 0.        , 0.        , 0.        ,\n",
       "        0.        , 0.        , 0.        , 0.        , 0.01568627,\n",
       "        0.        , 0.        , 0.21568627, 0.9254902 , 0.89411765,\n",
       "        0.90196078, 0.89411765, 0.94117647, 0.90980392, 0.83529412,\n",
       "        0.85490196, 0.8745098 , 0.91764706, 0.85098039, 0.85098039,\n",
       "        0.81960784, 0.36078431, 0.        ],\n",
       "       [0.        , 0.        , 0.00392157, 0.01568627, 0.02352941,\n",
       "        0.02745098, 0.00784314, 0.        , 0.        , 0.        ,\n",
       "        0.        , 0.        , 0.92941176, 0.88627451, 0.85098039,\n",
       "        0.8745098 , 0.87058824, 0.85882353, 0.87058824, 0.86666667,\n",
       "        0.84705882, 0.8745098 , 0.89803922, 0.84313725, 0.85490196,\n",
       "        1.        , 0.30196078, 0.        ],\n",
       "       [0.        , 0.01176471, 0.        , 0.        , 0.        ,\n",
       "        0.        , 0.        , 0.        , 0.        , 0.24313725,\n",
       "        0.56862745, 0.8       , 0.89411765, 0.81176471, 0.83529412,\n",
       "        0.86666667, 0.85490196, 0.81568627, 0.82745098, 0.85490196,\n",
       "        0.87843137, 0.8745098 , 0.85882353, 0.84313725, 0.87843137,\n",
       "        0.95686275, 0.62352941, 0.        ],\n",
       "       [0.        , 0.        , 0.        , 0.        , 0.07058824,\n",
       "        0.17254902, 0.32156863, 0.41960784, 0.74117647, 0.89411765,\n",
       "        0.8627451 , 0.87058824, 0.85098039, 0.88627451, 0.78431373,\n",
       "        0.80392157, 0.82745098, 0.90196078, 0.87843137, 0.91764706,\n",
       "        0.69019608, 0.7372549 , 0.98039216, 0.97254902, 0.91372549,\n",
       "        0.93333333, 0.84313725, 0.        ],\n",
       "       [0.        , 0.22352941, 0.73333333, 0.81568627, 0.87843137,\n",
       "        0.86666667, 0.87843137, 0.81568627, 0.8       , 0.83921569,\n",
       "        0.81568627, 0.81960784, 0.78431373, 0.62352941, 0.96078431,\n",
       "        0.75686275, 0.80784314, 0.8745098 , 1.        , 1.        ,\n",
       "        0.86666667, 0.91764706, 0.86666667, 0.82745098, 0.8627451 ,\n",
       "        0.90980392, 0.96470588, 0.        ],\n",
       "       [0.01176471, 0.79215686, 0.89411765, 0.87843137, 0.86666667,\n",
       "        0.82745098, 0.82745098, 0.83921569, 0.80392157, 0.80392157,\n",
       "        0.80392157, 0.8627451 , 0.94117647, 0.31372549, 0.58823529,\n",
       "        1.        , 0.89803922, 0.86666667, 0.7372549 , 0.60392157,\n",
       "        0.74901961, 0.82352941, 0.8       , 0.81960784, 0.87058824,\n",
       "        0.89411765, 0.88235294, 0.        ],\n",
       "       [0.38431373, 0.91372549, 0.77647059, 0.82352941, 0.87058824,\n",
       "        0.89803922, 0.89803922, 0.91764706, 0.97647059, 0.8627451 ,\n",
       "        0.76078431, 0.84313725, 0.85098039, 0.94509804, 0.25490196,\n",
       "        0.28627451, 0.41568627, 0.45882353, 0.65882353, 0.85882353,\n",
       "        0.86666667, 0.84313725, 0.85098039, 0.8745098 , 0.8745098 ,\n",
       "        0.87843137, 0.89803922, 0.11372549],\n",
       "       [0.29411765, 0.8       , 0.83137255, 0.8       , 0.75686275,\n",
       "        0.80392157, 0.82745098, 0.88235294, 0.84705882, 0.7254902 ,\n",
       "        0.77254902, 0.80784314, 0.77647059, 0.83529412, 0.94117647,\n",
       "        0.76470588, 0.89019608, 0.96078431, 0.9372549 , 0.8745098 ,\n",
       "        0.85490196, 0.83137255, 0.81960784, 0.87058824, 0.8627451 ,\n",
       "        0.86666667, 0.90196078, 0.2627451 ],\n",
       "       [0.18823529, 0.79607843, 0.71764706, 0.76078431, 0.83529412,\n",
       "        0.77254902, 0.7254902 , 0.74509804, 0.76078431, 0.75294118,\n",
       "        0.79215686, 0.83921569, 0.85882353, 0.86666667, 0.8627451 ,\n",
       "        0.9254902 , 0.88235294, 0.84705882, 0.78039216, 0.80784314,\n",
       "        0.72941176, 0.70980392, 0.69411765, 0.6745098 , 0.70980392,\n",
       "        0.80392157, 0.80784314, 0.45098039],\n",
       "       [0.        , 0.47843137, 0.85882353, 0.75686275, 0.70196078,\n",
       "        0.67058824, 0.71764706, 0.76862745, 0.8       , 0.82352941,\n",
       "        0.83529412, 0.81176471, 0.82745098, 0.82352941, 0.78431373,\n",
       "        0.76862745, 0.76078431, 0.74901961, 0.76470588, 0.74901961,\n",
       "        0.77647059, 0.75294118, 0.69019608, 0.61176471, 0.65490196,\n",
       "        0.69411765, 0.82352941, 0.36078431],\n",
       "       [0.        , 0.        , 0.29019608, 0.74117647, 0.83137255,\n",
       "        0.74901961, 0.68627451, 0.6745098 , 0.68627451, 0.70980392,\n",
       "        0.7254902 , 0.7372549 , 0.74117647, 0.7372549 , 0.75686275,\n",
       "        0.77647059, 0.8       , 0.81960784, 0.82352941, 0.82352941,\n",
       "        0.82745098, 0.7372549 , 0.7372549 , 0.76078431, 0.75294118,\n",
       "        0.84705882, 0.66666667, 0.        ],\n",
       "       [0.00784314, 0.        , 0.        , 0.        , 0.25882353,\n",
       "        0.78431373, 0.87058824, 0.92941176, 0.9372549 , 0.94901961,\n",
       "        0.96470588, 0.95294118, 0.95686275, 0.86666667, 0.8627451 ,\n",
       "        0.75686275, 0.74901961, 0.70196078, 0.71372549, 0.71372549,\n",
       "        0.70980392, 0.69019608, 0.65098039, 0.65882353, 0.38823529,\n",
       "        0.22745098, 0.        , 0.        ],\n",
       "       [0.        , 0.        , 0.        , 0.        , 0.        ,\n",
       "        0.        , 0.        , 0.15686275, 0.23921569, 0.17254902,\n",
       "        0.28235294, 0.16078431, 0.1372549 , 0.        , 0.        ,\n",
       "        0.        , 0.        , 0.        , 0.        , 0.        ,\n",
       "        0.        , 0.        , 0.        , 0.        , 0.        ,\n",
       "        0.        , 0.        , 0.        ],\n",
       "       [0.        , 0.        , 0.        , 0.        , 0.        ,\n",
       "        0.        , 0.        , 0.        , 0.        , 0.        ,\n",
       "        0.        , 0.        , 0.        , 0.        , 0.        ,\n",
       "        0.        , 0.        , 0.        , 0.        , 0.        ,\n",
       "        0.        , 0.        , 0.        , 0.        , 0.        ,\n",
       "        0.        , 0.        , 0.        ],\n",
       "       [0.        , 0.        , 0.        , 0.        , 0.        ,\n",
       "        0.        , 0.        , 0.        , 0.        , 0.        ,\n",
       "        0.        , 0.        , 0.        , 0.        , 0.        ,\n",
       "        0.        , 0.        , 0.        , 0.        , 0.        ,\n",
       "        0.        , 0.        , 0.        , 0.        , 0.        ,\n",
       "        0.        , 0.        , 0.        ]])"
      ]
     },
     "execution_count": 14,
     "metadata": {},
     "output_type": "execute_result"
    }
   ],
   "source": [
    "# we do manual scaling as of now as we don't have any idea as to reducing the dimension of the data yet for\n",
    "# sklearn in-built function to function!\n",
    "\n",
    "x_train = (x_train-np.min(x_train))/(np.max(x_train)-np.min(x_train))\n",
    "x_test = (x_test-np.min(x_test))/(np.max(x_test)-np.min(x_test))\n",
    "\n",
    "\n",
    "x_train[0]"
   ]
  },
  {
   "cell_type": "markdown",
   "metadata": {
    "id": "016c_Nfx1mek"
   },
   "source": [
    "# improvments made to the data:\n",
    "\n",
    "1. hidden_layers2 got increased.\n",
    "2. x_train and x_test got unit normalised(0 and 1)."
   ]
  },
  {
   "cell_type": "code",
   "execution_count": null,
   "metadata": {
    "colab": {
     "base_uri": "https://localhost:8080/"
    },
    "id": "nZx4zBKTIYnU",
    "outputId": "a7bdd0d1-bb07-4b83-fd12-a9b10e668dbe"
   },
   "outputs": [
    {
     "name": "stdout",
     "output_type": "stream",
     "text": [
      "Epoch 1/10\n",
      "1875/1875 [==============================] - 7s 3ms/step - loss: 1.2028 - accuracy: 0.6097 - val_loss: 0.8629 - val_accuracy: 0.7010\n",
      "Epoch 2/10\n",
      "1875/1875 [==============================] - 5s 3ms/step - loss: 0.7754 - accuracy: 0.7155 - val_loss: 0.7628 - val_accuracy: 0.7276\n",
      "Epoch 3/10\n",
      "1875/1875 [==============================] - 5s 3ms/step - loss: 0.7075 - accuracy: 0.7390 - val_loss: 0.7418 - val_accuracy: 0.7319\n",
      "Epoch 4/10\n",
      "1875/1875 [==============================] - 4s 2ms/step - loss: 0.6680 - accuracy: 0.7620 - val_loss: 0.6848 - val_accuracy: 0.7621\n",
      "Epoch 5/10\n",
      "1875/1875 [==============================] - 4s 2ms/step - loss: 0.6354 - accuracy: 0.7772 - val_loss: 0.6712 - val_accuracy: 0.7697\n",
      "Epoch 6/10\n",
      "1875/1875 [==============================] - 5s 3ms/step - loss: 0.6115 - accuracy: 0.7863 - val_loss: 0.6699 - val_accuracy: 0.7669\n",
      "Epoch 7/10\n",
      "1875/1875 [==============================] - 6s 3ms/step - loss: 0.5989 - accuracy: 0.7876 - val_loss: 0.6572 - val_accuracy: 0.7660\n",
      "Epoch 8/10\n",
      "1875/1875 [==============================] - 5s 3ms/step - loss: 0.5858 - accuracy: 0.7911 - val_loss: 0.6135 - val_accuracy: 0.7835\n",
      "Epoch 9/10\n",
      "1875/1875 [==============================] - 4s 2ms/step - loss: 0.5775 - accuracy: 0.7939 - val_loss: 0.6448 - val_accuracy: 0.7723\n",
      "Epoch 10/10\n",
      "1875/1875 [==============================] - 5s 2ms/step - loss: 0.5715 - accuracy: 0.7960 - val_loss: 0.6015 - val_accuracy: 0.7891\n"
     ]
    }
   ],
   "source": [
    "# creating the model with normalised data\n",
    "\n",
    "# building the model\n",
    "model2 = tf.keras.Sequential()\n",
    "model2.add(tf.keras.layers.Flatten(input_shape=x_train[0].shape,name='input_layer'))\n",
    "model2.add(tf.keras.layers.Dense(4,activation='tanh',name='hidden_layer1'))\n",
    "model2.add(tf.keras.layers.Dense(4,activation='tanh',name='hidden_layer2'))\n",
    "model2.add(tf.keras.layers.Dense(len(class_names),activation='softmax',name='output_layer'))\n",
    "\n",
    "\n",
    "# compiling the model\n",
    "model2.compile(loss=tf.keras.losses.SparseCategoricalCrossentropy(),\n",
    "               optimizer=tf.keras.optimizers.Adam(),\n",
    "               metrics=['accuracy'])\n",
    "\n",
    "\n",
    "# fitting the model\n",
    "history2 = model2.fit(x_train,y_train,epochs=10,validation_data=(x_test,y_test))\n",
    "\n"
   ]
  },
  {
   "cell_type": "code",
   "execution_count": null,
   "metadata": {
    "colab": {
     "base_uri": "https://localhost:8080/",
     "height": 430
    },
    "id": "3su_T3R5x2XL",
    "outputId": "3dd86227-79a6-495a-8c41-ccec07298e99"
   },
   "outputs": [
    {
     "data": {
      "image/png": "[encoded data removed]",
      "text/plain": [
       "<Figure size 640x480 with 1 Axes>"
      ]
     },
     "metadata": {},
     "output_type": "display_data"
    }
   ],
   "source": [
    "# plotting the history\n",
    "\n",
    "pd.DataFrame(history2.history).plot()\n",
    "\n",
    "plt.show()"
   ]
  },
  {
   "cell_type": "code",
   "execution_count": null,
   "metadata": {
    "colab": {
     "base_uri": "https://localhost:8080/",
     "height": 37
    },
    "id": "xIH3K5dwIqBw",
    "outputId": "989dabc1-aa3e-46ee-b7fc-520b52627e87"
   },
   "outputs": [
    {
     "data": {
      "text/latex": [
       "$\\displaystyle \\left( 28, \\  28\\right)$"
      ],
      "text/plain": [
       "(28, 28)"
      ]
     },
     "execution_count": 17,
     "metadata": {},
     "output_type": "execute_result"
    }
   ],
   "source": [
    "x_train[0].shape"
   ]
  },
  {
   "cell_type": "code",
   "execution_count": null,
   "metadata": {
    "colab": {
     "base_uri": "https://localhost:8080/",
     "height": 37
    },
    "id": "nRKVxL6w1UBO",
    "outputId": "c9fb47aa-22d9-4e29-bb97-474f5bf877b8"
   },
   "outputs": [
    {
     "data": {
      "text/latex": [
       "$\\displaystyle 10$"
      ],
      "text/plain": [
       "10"
      ]
     },
     "execution_count": 18,
     "metadata": {},
     "output_type": "execute_result"
    }
   ],
   "source": [
    "len(class_names)"
   ]
  },
  {
   "cell_type": "markdown",
   "metadata": {
    "id": "-91t76e_4BMF"
   },
   "source": [
    "# finding the ideal learning rate"
   ]
  },
  {
   "cell_type": "code",
   "execution_count": null,
   "metadata": {
    "colab": {
     "base_uri": "https://localhost:8080/"
    },
    "id": "kALknlFT6mXd",
    "outputId": "354c1562-bef7-47d6-daf2-8b98e85229ed"
   },
   "outputs": [
    {
     "name": "stdout",
     "output_type": "stream",
     "text": [
      "Epoch 1/40\n",
      "1875/1875 [==============================] - 5s 2ms/step - loss: 1.1153 - accuracy: 0.6773 - val_loss: 0.7591 - val_accuracy: 0.7559 - lr: 0.0010\n",
      "Epoch 2/40\n",
      "1875/1875 [==============================] - 4s 2ms/step - loss: 0.6753 - accuracy: 0.7764 - val_loss: 0.7043 - val_accuracy: 0.7763 - lr: 0.0011\n",
      "Epoch 3/40\n",
      "1875/1875 [==============================] - 4s 2ms/step - loss: 0.6044 - accuracy: 0.7968 - val_loss: 0.6036 - val_accuracy: 0.7940 - lr: 0.0013\n",
      "Epoch 4/40\n",
      "1875/1875 [==============================] - 4s 2ms/step - loss: 0.5807 - accuracy: 0.8001 - val_loss: 0.5895 - val_accuracy: 0.8004 - lr: 0.0014\n",
      "Epoch 5/40\n",
      "1875/1875 [==============================] - 4s 2ms/step - loss: 0.5690 - accuracy: 0.8001 - val_loss: 0.5795 - val_accuracy: 0.7977 - lr: 0.0016\n",
      "Epoch 6/40\n",
      "1875/1875 [==============================] - 4s 2ms/step - loss: 0.5622 - accuracy: 0.8034 - val_loss: 0.7044 - val_accuracy: 0.7584 - lr: 0.0018\n",
      "Epoch 7/40\n",
      "1875/1875 [==============================] - 4s 2ms/step - loss: 0.5572 - accuracy: 0.8073 - val_loss: 0.5972 - val_accuracy: 0.7947 - lr: 0.0020\n",
      "Epoch 8/40\n",
      "1875/1875 [==============================] - 4s 2ms/step - loss: 0.5559 - accuracy: 0.8095 - val_loss: 0.6021 - val_accuracy: 0.7903 - lr: 0.0022\n",
      "Epoch 9/40\n",
      "1875/1875 [==============================] - 5s 3ms/step - loss: 0.5578 - accuracy: 0.8090 - val_loss: 0.5770 - val_accuracy: 0.8023 - lr: 0.0025\n",
      "Epoch 10/40\n",
      "1875/1875 [==============================] - 4s 2ms/step - loss: 0.5600 - accuracy: 0.8108 - val_loss: 0.5955 - val_accuracy: 0.7938 - lr: 0.0028\n",
      "Epoch 11/40\n",
      "1875/1875 [==============================] - 4s 2ms/step - loss: 0.5631 - accuracy: 0.8088 - val_loss: 0.6185 - val_accuracy: 0.7849 - lr: 0.0032\n",
      "Epoch 12/40\n",
      "1875/1875 [==============================] - 4s 2ms/step - loss: 0.5607 - accuracy: 0.8094 - val_loss: 0.6052 - val_accuracy: 0.7992 - lr: 0.0035\n",
      "Epoch 13/40\n",
      "1875/1875 [==============================] - 4s 2ms/step - loss: 0.5679 - accuracy: 0.8081 - val_loss: 0.6064 - val_accuracy: 0.7929 - lr: 0.0040\n",
      "Epoch 14/40\n",
      "1875/1875 [==============================] - 4s 2ms/step - loss: 0.5690 - accuracy: 0.8085 - val_loss: 0.6032 - val_accuracy: 0.8023 - lr: 0.0045\n",
      "Epoch 15/40\n",
      "1875/1875 [==============================] - 4s 2ms/step - loss: 0.5783 - accuracy: 0.8086 - val_loss: 0.6031 - val_accuracy: 0.7985 - lr: 0.0050\n",
      "Epoch 16/40\n",
      "1875/1875 [==============================] - 4s 2ms/step - loss: 0.5811 - accuracy: 0.8080 - val_loss: 0.6580 - val_accuracy: 0.7833 - lr: 0.0056\n",
      "Epoch 17/40\n",
      "1875/1875 [==============================] - 4s 2ms/step - loss: 0.5930 - accuracy: 0.8039 - val_loss: 0.5965 - val_accuracy: 0.8056 - lr: 0.0063\n",
      "Epoch 18/40\n",
      "1875/1875 [==============================] - 4s 2ms/step - loss: 0.6021 - accuracy: 0.8044 - val_loss: 0.6199 - val_accuracy: 0.7952 - lr: 0.0071\n",
      "Epoch 19/40\n",
      "1875/1875 [==============================] - 4s 2ms/step - loss: 0.6049 - accuracy: 0.8067 - val_loss: 0.6315 - val_accuracy: 0.7995 - lr: 0.0079\n",
      "Epoch 20/40\n",
      "1875/1875 [==============================] - 4s 2ms/step - loss: 0.6168 - accuracy: 0.8029 - val_loss: 0.7393 - val_accuracy: 0.7335 - lr: 0.0089\n",
      "Epoch 21/40\n",
      "1875/1875 [==============================] - 4s 2ms/step - loss: 0.6349 - accuracy: 0.7968 - val_loss: 0.6743 - val_accuracy: 0.7787 - lr: 0.0100\n",
      "Epoch 22/40\n",
      "1875/1875 [==============================] - 4s 2ms/step - loss: 0.6342 - accuracy: 0.7982 - val_loss: 0.6571 - val_accuracy: 0.7872 - lr: 0.0112\n",
      "Epoch 23/40\n",
      "1875/1875 [==============================] - 4s 2ms/step - loss: 0.6476 - accuracy: 0.7950 - val_loss: 0.7371 - val_accuracy: 0.7662 - lr: 0.0126\n",
      "Epoch 24/40\n",
      "1875/1875 [==============================] - 4s 2ms/step - loss: 0.6554 - accuracy: 0.7947 - val_loss: 0.7070 - val_accuracy: 0.7901 - lr: 0.0141\n",
      "Epoch 25/40\n",
      "1875/1875 [==============================] - 5s 2ms/step - loss: 0.6698 - accuracy: 0.7880 - val_loss: 0.7272 - val_accuracy: 0.7702 - lr: 0.0158\n",
      "Epoch 26/40\n",
      "1875/1875 [==============================] - 4s 2ms/step - loss: 0.6800 - accuracy: 0.7831 - val_loss: 0.6831 - val_accuracy: 0.7939 - lr: 0.0178\n",
      "Epoch 27/40\n",
      "1875/1875 [==============================] - 4s 2ms/step - loss: 0.6933 - accuracy: 0.7837 - val_loss: 0.7582 - val_accuracy: 0.7681 - lr: 0.0200\n",
      "Epoch 28/40\n",
      "1875/1875 [==============================] - 5s 2ms/step - loss: 0.7217 - accuracy: 0.7709 - val_loss: 0.7127 - val_accuracy: 0.7784 - lr: 0.0224\n",
      "Epoch 29/40\n",
      "1875/1875 [==============================] - 4s 2ms/step - loss: 0.7290 - accuracy: 0.7651 - val_loss: 0.7821 - val_accuracy: 0.7513 - lr: 0.0251\n",
      "Epoch 30/40\n",
      "1875/1875 [==============================] - 4s 2ms/step - loss: 0.7559 - accuracy: 0.7563 - val_loss: 0.8220 - val_accuracy: 0.7277 - lr: 0.0282\n",
      "Epoch 31/40\n",
      "1875/1875 [==============================] - 5s 2ms/step - loss: 0.7663 - accuracy: 0.7498 - val_loss: 0.8018 - val_accuracy: 0.7132 - lr: 0.0316\n",
      "Epoch 32/40\n",
      "1875/1875 [==============================] - 5s 3ms/step - loss: 0.7968 - accuracy: 0.7343 - val_loss: 0.7840 - val_accuracy: 0.7655 - lr: 0.0355\n",
      "Epoch 33/40\n",
      "1875/1875 [==============================] - 4s 2ms/step - loss: 0.8563 - accuracy: 0.7069 - val_loss: 0.8063 - val_accuracy: 0.7460 - lr: 0.0398\n",
      "Epoch 34/40\n",
      "1875/1875 [==============================] - 5s 3ms/step - loss: 0.8233 - accuracy: 0.7201 - val_loss: 0.8286 - val_accuracy: 0.7401 - lr: 0.0447\n",
      "Epoch 35/40\n",
      "1875/1875 [==============================] - 4s 2ms/step - loss: 0.8493 - accuracy: 0.7028 - val_loss: 0.8784 - val_accuracy: 0.7100 - lr: 0.0501\n",
      "Epoch 36/40\n",
      "1875/1875 [==============================] - 4s 2ms/step - loss: 0.8995 - accuracy: 0.6804 - val_loss: 0.9043 - val_accuracy: 0.7005 - lr: 0.0562\n",
      "Epoch 37/40\n",
      "1875/1875 [==============================] - 5s 2ms/step - loss: 0.9969 - accuracy: 0.6174 - val_loss: 0.8827 - val_accuracy: 0.7131 - lr: 0.0631\n",
      "Epoch 38/40\n",
      "1875/1875 [==============================] - 4s 2ms/step - loss: 0.9902 - accuracy: 0.6316 - val_loss: 1.2152 - val_accuracy: 0.5386 - lr: 0.0708\n",
      "Epoch 39/40\n",
      "1875/1875 [==============================] - 4s 2ms/step - loss: 1.1280 - accuracy: 0.5253 - val_loss: 1.4531 - val_accuracy: 0.3233 - lr: 0.0794\n",
      "Epoch 40/40\n",
      "1875/1875 [==============================] - 4s 2ms/step - loss: 1.2203 - accuracy: 0.5195 - val_loss: 1.0638 - val_accuracy: 0.5572 - lr: 0.0891\n"
     ]
    }
   ],
   "source": [
    "# building the model\n",
    "model3 = tf.keras.Sequential()\n",
    "model3.add(tf.keras.layers.Flatten(input_shape=x_train[0].shape,name='input_layer'))\n",
    "model3.add(tf.keras.layers.Dense(4,activation='tanh',name='hidden_layer1'))\n",
    "model3.add(tf.keras.layers.Dense(4,activation='tanh',name='hidden_layer2'))\n",
    "model3.add(tf.keras.layers.Dense(len(class_names),activation='softmax',name='output_layer'))\n",
    "\n",
    "# compile the model\n",
    "model3.compile(loss=tf.keras.losses.SparseCategoricalCrossentropy(),\n",
    "               optimizer=tf.keras.optimizers.Adam(),\n",
    "               metrics=['accuracy'])\n",
    "\n",
    "# setting learing rate scheduler\n",
    "lr_scheduler = tf.keras.callbacks.LearningRateScheduler(lambda epoch: 10**(-3) * 10**(epoch/20))\n",
    "\n",
    "\n",
    "# fitting the model\n",
    "history3 = model3.fit(x_train,y_train,epochs=40,callbacks=[lr_scheduler],validation_data=(x_test,y_test))"
   ]
  },
  {
   "cell_type": "code",
   "execution_count": null,
   "metadata": {
    "colab": {
     "base_uri": "https://localhost:8080/",
     "height": 201
    },
    "id": "DUc1wWYs-sUF",
    "outputId": "858487e8-9ee8-4c75-a974-a7bdb4a4cd62"
   },
   "outputs": [
    {
     "ename": "NameError",
     "evalue": "ignored",
     "output_type": "error",
     "traceback": [
      "\u001b[0;31m---------------------------------------------------------------------------\u001b[0m",
      "\u001b[0;31mNameError\u001b[0m                                 Traceback (most recent call last)",
      "\u001b[0;32m<ipython-input-6-64e48d2e5fe1>\u001b[0m in \u001b[0;36m<cell line: 1>\u001b[0;34m()\u001b[0m\n\u001b[0;32m----> 1\u001b[0;31m \u001b[0mpd\u001b[0m\u001b[0;34m.\u001b[0m\u001b[0mDataFrame\u001b[0m\u001b[0;34m(\u001b[0m\u001b[0mhistory3\u001b[0m\u001b[0;34m.\u001b[0m\u001b[0mhistory\u001b[0m\u001b[0;34m)\u001b[0m\u001b[0;34m.\u001b[0m\u001b[0mplot\u001b[0m\u001b[0;34m(\u001b[0m\u001b[0;34m)\u001b[0m\u001b[0;34m\u001b[0m\u001b[0;34m\u001b[0m\u001b[0m\n\u001b[0m\u001b[1;32m      2\u001b[0m \u001b[0;34m\u001b[0m\u001b[0m\n\u001b[1;32m      3\u001b[0m \u001b[0mplt\u001b[0m\u001b[0;34m.\u001b[0m\u001b[0mshow\u001b[0m\u001b[0;34m(\u001b[0m\u001b[0;34m)\u001b[0m\u001b[0;34m\u001b[0m\u001b[0;34m\u001b[0m\u001b[0m\n",
      "\u001b[0;31mNameError\u001b[0m: name 'history3' is not defined"
     ]
    }
   ],
   "source": [
    "pd.DataFrame(history3.history).plot()\n",
    "\n",
    "plt.show()"
   ]
  },
  {
   "cell_type": "code",
   "execution_count": null,
   "metadata": {
    "id": "a6vWkD_1-82D"
   },
   "outputs": [],
   "source": [
    "# focusing on learning_rate and accuracy\n",
    "\n",
    "lr = history3.history['lr']\n",
    "accuracy = history3.history['accuracy']\n",
    "\n",
    "\n",
    "#plotting\n",
    "plt.plot(lr,accuracy)\n",
    "\n",
    "plt.xlabel('learing rate')\n",
    "plt.ylabel('accuracy')\n",
    "\n",
    "\n",
    "plt.show()"
   ]
  },
  {
   "cell_type": "code",
   "execution_count": null,
   "metadata": {
    "colab": {
     "base_uri": "https://localhost:8080/",
     "height": 449
    },
    "id": "N1lIQvO1_iWC",
    "outputId": "ad88a9ca-1ede-44d8-848b-fcb1add72943"
   },
   "outputs": [
    {
     "data": {
      "image/png": "[encoded data removed]",
      "text/plain": [
       "<Figure size 640x480 with 1 Axes>"
      ]
     },
     "metadata": {},
     "output_type": "display_data"
    }
   ],
   "source": [
    "# focusing on learning_rate and accuracy\n",
    "\n",
    "lr = history3.history['lr']\n",
    "accuracy = history3.history['accuracy']\n",
    "\n",
    "\n",
    "#plotting\n",
    "plt.plot(lr,accuracy)\n",
    "\n",
    "plt.xlabel('learing rate')\n",
    "plt.ylabel('accuracy')\n",
    "\n",
    "\n",
    "# zoomin in\n",
    "plt.xlim([0.001,0.01])\n",
    "\n",
    "\n",
    "plt.show()"
   ]
  },
  {
   "cell_type": "markdown",
   "metadata": {
    "id": "iXWeZ-DMAJNd"
   },
   "source": [
    "# conclusion:\n",
    "\n",
    "0.001 or 0.002 learning_rate would be ideal"
   ]
  },
  {
   "cell_type": "markdown",
   "metadata": {
    "id": "fLPpa2EYAQK7"
   },
   "source": [
    "# creating a model with ideal learning rate"
   ]
  },
  {
   "cell_type": "code",
   "execution_count": null,
   "metadata": {
    "id": "sMjXmPYhDjRN"
   },
   "outputs": [],
   "source": [
    "# set random seed\n",
    "tf.random.set_seed(42)\n",
    "\n",
    "# building the model\n",
    "model4 = tf.keras.Sequential()\n",
    "model4.add(tf.keras.layers.Flatten(input_shape=x_train[0].shape,name='input_layer'))\n",
    "model4.add(tf.keras.layers.Dense(4,activation='tanh',name='hidden_layer1'))\n",
    "model4.add(tf.keras.layers.Dense(4,activation='tanh',name='hidden_layer2'))\n",
    "model4.add(tf.keras.layers.Dense(len(class_names),activation='softmax',name='output_layer'))\n",
    "\n",
    "\n",
    "# compiling the model\n",
    "model4.compile(loss=tf.keras.losses.SparseCategoricalCrossentropy(),\n",
    "               optimizer=tf.keras.optimizers.Adam(learning_rate=0.001),\n",
    "               metrics=['accuracy'])\n",
    "\n",
    "\n",
    "# fitting the model\n",
    "history4 = model4.fit(x_train,y_train,epochs=20,verbose=False,validation_data=(x_test,y_test))\n",
    "\n"
   ]
  },
  {
   "cell_type": "code",
   "execution_count": null,
   "metadata": {
    "colab": {
     "base_uri": "https://localhost:8080/",
     "height": 55
    },
    "id": "4VMmEHrwHUUz",
    "outputId": "aa20d20e-fbca-47d0-fd66-f8e3ff7583c5"
   },
   "outputs": [
    {
     "name": "stdout",
     "output_type": "stream",
     "text": [
      "313/313 [==============================] - 1s 2ms/step - loss: 0.5807 - accuracy: 0.8078\n"
     ]
    },
    {
     "data": {
      "text/latex": [
       "$\\displaystyle \\left[ 0.580675005912781, \\  0.807799994945526\\right]$"
      ],
      "text/plain": [
       "[0.5806750059127808, 0.8077999949455261]"
      ]
     },
     "execution_count": 17,
     "metadata": {},
     "output_type": "execute_result"
    }
   ],
   "source": [
    "# evaluation\n",
    "model4.evaluate(x_test,y_test)"
   ]
  },
  {
   "cell_type": "code",
   "execution_count": null,
   "metadata": {
    "colab": {
     "base_uri": "https://localhost:8080/",
     "height": 55
    },
    "id": "ZOhANqzAHD0L",
    "outputId": "57d56f44-240a-4196-fafa-9411c2f6fa92"
   },
   "outputs": [
    {
     "name": "stdout",
     "output_type": "stream",
     "text": [
      "313/313 [==============================] - 1s 2ms/step - loss: 0.6015 - accuracy: 0.7891\n"
     ]
    },
    {
     "data": {
      "text/latex": [
       "$\\displaystyle \\left[ 0.601544618606567, \\  0.789099991321564\\right]$"
      ],
      "text/plain": [
       "[0.6015446186065674, 0.7890999913215637]"
      ]
     },
     "execution_count": 18,
     "metadata": {},
     "output_type": "execute_result"
    }
   ],
   "source": [
    "# evaluating model2\n",
    "model2.evaluate(x_test,y_test)"
   ]
  },
  {
   "cell_type": "markdown",
   "metadata": {
    "id": "KmGWpgYSJWRy"
   },
   "source": [
    "# Evaluating our multi-class classification model\n",
    "\n",
    "\n",
    "1. create a confusion matrix display\n",
    "\n",
    "2. Assess its prediction\n",
    "\n",
    "3. improve the performance of the model by training it for longer.\n",
    "\n",
    "4. save and export it for an application."
   ]
  },
  {
   "cell_type": "code",
   "execution_count": null,
   "metadata": {
    "colab": {
     "base_uri": "https://localhost:8080/",
     "height": 527
    },
    "id": "oGzqXYhnKmOs",
    "outputId": "f460c03f-3536-4756-bb73-29b45b1b42d4"
   },
   "outputs": [
    {
     "name": "stdout",
     "output_type": "stream",
     "text": [
      "313/313 [==============================] - 0s 1ms/step\n"
     ]
    },
    {
     "data": {
      "image/png": "[encoded data removed]",
      "text/plain": [
       "<Figure size 640x480 with 2 Axes>"
      ]
     },
     "metadata": {},
     "output_type": "display_data"
    }
   ],
   "source": [
    "# creating a confusion matrix\n",
    "\n",
    "from sklearn.metrics import classification_report, confusion_matrix, ConfusionMatrixDisplay\n",
    "\n",
    "actual = y_test\n",
    "prediction = model2.predict(x_test)\n",
    "predicted_labels = np.argmax(prediction,axis=1)\n",
    "cm = confusion_matrix(actual,predicted_labels)\n",
    "\n",
    "# visualizing the confusion_matrix\n",
    "disp = ConfusionMatrixDisplay(cm,display_labels=class_names)\n",
    "\n",
    "disp.plot()\n",
    "\n",
    "plt.xticks(rotation=90)\n",
    "\n",
    "plt.show()"
   ]
  },
  {
   "cell_type": "code",
   "execution_count": null,
   "metadata": {
    "colab": {
     "base_uri": "https://localhost:8080/"
    },
    "id": "t2Q_3tY7E6g8",
    "outputId": "dac22cb0-f49b-4cf3-d5f2-bb3e6d459c63"
   },
   "outputs": [
    {
     "name": "stdout",
     "output_type": "stream",
     "text": [
      "              precision    recall  f1-score   support\n",
      "\n",
      "           0       0.76      0.82      0.79      1000\n",
      "           1       0.95      0.95      0.95      1000\n",
      "           2       0.53      0.65      0.58      1000\n",
      "           3       0.80      0.85      0.83      1000\n",
      "           4       0.68      0.78      0.73      1000\n",
      "           5       0.93      0.83      0.88      1000\n",
      "           6       0.44      0.21      0.28      1000\n",
      "           7       0.90      0.92      0.91      1000\n",
      "           8       0.93      0.94      0.93      1000\n",
      "           9       0.87      0.94      0.90      1000\n",
      "\n",
      "    accuracy                           0.79     10000\n",
      "   macro avg       0.78      0.79      0.78     10000\n",
      "weighted avg       0.78      0.79      0.78     10000\n",
      "\n"
     ]
    }
   ],
   "source": [
    "print(classification_report(actual,predicted_labels))"
   ]
  },
  {
   "cell_type": "code",
   "execution_count": null,
   "metadata": {
    "colab": {
     "base_uri": "https://localhost:8080/",
     "height": 527
    },
    "id": "n_e6OaQ8CIe-",
    "outputId": "7ab0b40f-1fae-4bd7-ea92-e3380b848f2d"
   },
   "outputs": [
    {
     "name": "stdout",
     "output_type": "stream",
     "text": [
      "313/313 [==============================] - 0s 1ms/step\n"
     ]
    },
    {
     "data": {
      "image/png": "[encoded data removed]",
      "text/plain": [
       "<Figure size 640x480 with 2 Axes>"
      ]
     },
     "metadata": {},
     "output_type": "display_data"
    }
   ],
   "source": [
    "actual = y_test\n",
    "prediction = model4.predict(x_test)\n",
    "prediction = np.argmax(prediction,axis=1)\n",
    "\n",
    "cm = confusion_matrix(actual,prediction)\n",
    "\n",
    "# display the result\n",
    "\n",
    "disp = ConfusionMatrixDisplay(cm,display_labels=class_names)\n",
    "\n",
    "disp.plot()\n",
    "\n",
    "plt.xticks(rotation=90)\n",
    "\n",
    "plt.show()"
   ]
  },
  {
   "cell_type": "code",
   "execution_count": null,
   "metadata": {
    "colab": {
     "base_uri": "https://localhost:8080/"
    },
    "id": "ldsxK2llE4MW",
    "outputId": "7b1e87d4-e7d2-468d-9c34-766f91b676e0"
   },
   "outputs": [
    {
     "name": "stdout",
     "output_type": "stream",
     "text": [
      "              precision    recall  f1-score   support\n",
      "\n",
      "           0       0.70      0.89      0.78      1000\n",
      "           1       0.95      0.96      0.95      1000\n",
      "           2       0.67      0.69      0.68      1000\n",
      "           3       0.87      0.78      0.82      1000\n",
      "           4       0.68      0.73      0.70      1000\n",
      "           5       0.95      0.85      0.90      1000\n",
      "           6       0.63      0.39      0.48      1000\n",
      "           7       0.84      0.95      0.89      1000\n",
      "           8       0.86      0.93      0.89      1000\n",
      "           9       0.94      0.90      0.92      1000\n",
      "\n",
      "    accuracy                           0.81     10000\n",
      "   macro avg       0.81      0.81      0.80     10000\n",
      "weighted avg       0.81      0.81      0.80     10000\n",
      "\n"
     ]
    }
   ],
   "source": [
    "print(classification_report(actual,prediction))"
   ]
  },
  {
   "cell_type": "code",
   "execution_count": null,
   "metadata": {
    "id": "ki1g-dkoQD4Z"
   },
   "outputs": [],
   "source": [
    "# conclusion:\n",
    "# most of the coats and shirts are misinterpreted as pullovers in the predicted label"
   ]
  },
  {
   "cell_type": "markdown",
   "metadata": {
    "id": "1saOuZfCOJKx"
   },
   "source": [
    "# exploration,analysis and freethrows:"
   ]
  },
  {
   "cell_type": "code",
   "execution_count": null,
   "metadata": {
    "colab": {
     "base_uri": "https://localhost:8080/"
    },
    "id": "SNFV8bJGOOsX",
    "outputId": "52e3b075-6b44-4e64-dda6-a38480db99a7"
   },
   "outputs": [
    {
     "data": {
      "text/plain": [
       "array([[3.2132299e-04, 1.2216463e-03, 1.2619109e-04, ..., 1.0102692e-01,\n",
       "        2.0361682e-02, 7.6227731e-01],\n",
       "       [3.6565153e-04, 4.8479662e-05, 4.9337310e-01, ..., 2.5273493e-04,\n",
       "        2.5457048e-03, 2.4501245e-08],\n",
       "       [3.9974911e-04, 9.9290490e-01, 5.3169890e-05, ..., 2.1976801e-03,\n",
       "        2.0111709e-07, 1.5646595e-03],\n",
       "       ...,\n",
       "       [2.1739385e-01, 5.4119318e-04, 9.2479229e-02, ..., 2.5433837e-06,\n",
       "        5.3620722e-02, 2.3413413e-06],\n",
       "       [4.0784894e-04, 9.9262238e-01, 5.2157433e-05, ..., 1.8171326e-03,\n",
       "        2.0834548e-07, 1.7888079e-03],\n",
       "       [6.9229168e-07, 3.1512313e-06, 2.3847045e-03, ..., 1.6568579e-02,\n",
       "        2.8497565e-03, 9.4033850e-05]], dtype=float32)"
      ]
     },
     "execution_count": 45,
     "metadata": {},
     "output_type": "execute_result"
    }
   ],
   "source": [
    "prediction"
   ]
  },
  {
   "cell_type": "code",
   "execution_count": null,
   "metadata": {
    "colab": {
     "base_uri": "https://localhost:8080/"
    },
    "id": "PNe7Uq8iJhm5",
    "outputId": "e3fc12c6-cbf7-4173-cfe6-fd9b737d4940"
   },
   "outputs": [
    {
     "data": {
      "text/plain": [
       "array([9, 2, 1, ..., 6, 1, 5])"
      ]
     },
     "execution_count": 46,
     "metadata": {},
     "output_type": "execute_result"
    }
   ],
   "source": [
    "predicted_labels"
   ]
  },
  {
   "cell_type": "code",
   "execution_count": null,
   "metadata": {
    "colab": {
     "base_uri": "https://localhost:8080/"
    },
    "id": "nvDFp_lfOhdW",
    "outputId": "34627479-160e-485a-a6df-641f2da4f81c"
   },
   "outputs": [
    {
     "data": {
      "text/plain": [
       "array([[733,   3,   9,  52,   6,   0, 173,   0,  24,   0],\n",
       "       [  3, 947,   1,  30,   6,   0,   8,   2,   2,   1],\n",
       "       [ 10,   1, 781,   8,  65,   1, 111,   0,  23,   0],\n",
       "       [ 25,   9,  10, 789,  76,   4,  72,   1,  14,   0],\n",
       "       [  1,   0, 637,  15, 282,   1,  59,   1,   4,   0],\n",
       "       [  0,   0,   2,   0,   2, 888,   0,  51,  29,  28],\n",
       "       [121,   2, 271,  29,  35,   2, 504,   0,  36,   0],\n",
       "       [  0,   0,   0,   0,   0,  29,   0, 936,  10,  25],\n",
       "       [  1,   1,  16,   9,   3,   4,  12,   4, 950,   0],\n",
       "       [  0,   1,   0,   0,   0,  36,   0,  61,  15, 887]])"
      ]
     },
     "execution_count": 47,
     "metadata": {},
     "output_type": "execute_result"
    }
   ],
   "source": [
    "confusion_matrix"
   ]
  },
  {
   "cell_type": "code",
   "execution_count": null,
   "metadata": {
    "id": "h1G8sx1PO1Lq"
   },
   "outputs": [],
   "source": []
  },
  {
   "cell_type": "markdown",
   "metadata": {
    "id": "tDTGLV-3O1Uw"
   },
   "source": [
    "# visualizing random model predictions:\n",
    "\n",
    "# goal:\n",
    "\n",
    "1. plot a random image\n",
    "\n",
    "2. predict the label of the image(whether it is shirt or pullover or handbag\n",
    "\n",
    "3. Label the plot with truth label and predicted label."
   ]
  },
  {
   "cell_type": "code",
   "execution_count": null,
   "metadata": {
    "id": "gunymZmHPLwP"
   },
   "outputs": [],
   "source": [
    "import random\n",
    "\n",
    "def plot_random_image(model,images,truelabels,classes):\n",
    "\n",
    "  ''' plots a random image with prediction and truth labels '''\n",
    "\n",
    "  # set up the random integer\n",
    "  i = random.randint(0,len(images))\n",
    "\n",
    "  # create the prediction and true image and label\n",
    "  target_image = images[i]\n",
    "  pred_probs   = model.predict(target_image.reshape(1,28,28)) # this is input shape\n",
    "  pred_label   = classes[np.argmax(pred_probs)]\n",
    "  true_label   = classes[truelabels[i]]\n",
    "\n",
    "\n",
    "  # plot the image\n",
    "  plt.imshow(target_image,cmap=plt.cm.binary)\n",
    "\n",
    "\n",
    "  # change the color of the xlabel depending on the correctness of the prediction\n",
    "\n",
    "  if pred_label == true_label:\n",
    "    color='green'\n",
    "\n",
    "  else:\n",
    "    color='red'\n",
    "\n",
    "    plt.xlabel('prediction:{} {:2.0f}% True:{}'.format(pred_label,\n",
    "                                                       100*tf.reduce_max(pred_probs),\n",
    "                                                       true_label),\n",
    "               color = color)"
   ]
  },
  {
   "cell_type": "code",
   "execution_count": null,
   "metadata": {
    "colab": {
     "base_uri": "https://localhost:8080/",
     "height": 447
    },
    "id": "5_UKPzAcWTfJ",
    "outputId": "fda592f0-1521-4f32-ec02-7badf410cd47"
   },
   "outputs": [
    {
     "name": "stdout",
     "output_type": "stream",
     "text": [
      "1/1 [==============================] - 0s 33ms/step\n"
     ]
    },
    {
     "data": {
      "image/png": "[encoded data removed]",
      "text/plain": [
       "<Figure size 640x480 with 1 Axes>"
      ]
     },
     "metadata": {},
     "output_type": "display_data"
    }
   ],
   "source": [
    "# plot a random image\n",
    "\n",
    "plot_random_image(model=model4,\n",
    "                  images=x_test,\n",
    "                  truelabels=y_test,\n",
    "                  classes=class_names)"
   ]
  },
  {
   "cell_type": "markdown",
   "metadata": {
    "id": "0l3OskBaakpA"
   },
   "source": [
    "# exploration,analysis and freethrows"
   ]
  },
  {
   "cell_type": "code",
   "execution_count": null,
   "metadata": {
    "colab": {
     "base_uri": "https://localhost:8080/"
    },
    "id": "aOxwoRHBcCe_",
    "outputId": "8cf07b6c-3487-40ef-d635-9d88d06a203a"
   },
   "outputs": [
    {
     "data": {
      "text/plain": [
       "array([[0.        , 0.        , 0.        , 0.        , 0.        ,\n",
       "        0.        , 0.        , 0.        , 0.00392157, 0.        ,\n",
       "        0.        , 0.06666667, 0.        , 0.1372549 , 0.21568627,\n",
       "        0.20392157, 0.17647059, 0.        , 0.        , 0.        ,\n",
       "        0.        , 0.        , 0.        , 0.        , 0.        ,\n",
       "        0.        , 0.        , 0.        ],\n",
       "       [0.        , 0.        , 0.        , 0.        , 0.        ,\n",
       "        0.        , 0.        , 0.01176471, 0.        , 0.00392157,\n",
       "        0.98039216, 1.        , 0.96078431, 0.99607843, 0.93333333,\n",
       "        0.95686275, 0.9372549 , 0.54117647, 0.        , 0.        ,\n",
       "        0.        , 0.        , 0.        , 0.        , 0.        ,\n",
       "        0.        , 0.        , 0.        ],\n",
       "       [0.        , 0.        , 0.        , 0.        , 0.        ,\n",
       "        0.        , 0.        , 0.        , 0.        , 0.34509804,\n",
       "        0.48627451, 0.66666667, 0.99607843, 0.54117647, 0.73333333,\n",
       "        1.        , 0.73333333, 0.1254902 , 0.01568627, 0.        ,\n",
       "        0.00392157, 0.        , 0.        , 0.        , 0.        ,\n",
       "        0.        , 0.        , 0.        ],\n",
       "       [0.        , 0.        , 0.        , 0.        , 0.        ,\n",
       "        0.        , 0.        , 0.        , 0.        , 0.32941176,\n",
       "        0.38431373, 0.        , 0.71372549, 0.82352941, 0.95294118,\n",
       "        1.        , 0.14509804, 0.        , 0.        , 0.        ,\n",
       "        0.        , 0.        , 0.        , 0.        , 0.        ,\n",
       "        0.        , 0.        , 0.        ],\n",
       "       [0.        , 0.        , 0.        , 0.        , 0.00392157,\n",
       "        0.        , 0.02352941, 0.21960784, 0.28235294, 0.35686275,\n",
       "        0.52156863, 0.16862745, 0.        , 0.94117647, 0.85490196,\n",
       "        0.        , 0.        , 0.15294118, 0.18039216, 0.07843137,\n",
       "        0.09803922, 0.00784314, 0.        , 0.        , 0.        ,\n",
       "        0.        , 0.        , 0.        ],\n",
       "       [0.        , 0.        , 0.        , 0.        , 0.        ,\n",
       "        0.        , 0.18823529, 0.42745098, 0.2745098 , 0.21176471,\n",
       "        0.17254902, 0.27843137, 0.21960784, 0.25098039, 0.05882353,\n",
       "        0.07843137, 0.11372549, 0.10980392, 0.22745098, 0.22352941,\n",
       "        0.2       , 0.07843137, 0.        , 0.        , 0.        ,\n",
       "        0.        , 0.        , 0.        ],\n",
       "       [0.        , 0.        , 0.        , 0.        , 0.        ,\n",
       "        0.        , 0.25490196, 0.28627451, 0.32156863, 0.19215686,\n",
       "        0.22745098, 0.20392157, 0.1254902 , 0.32941176, 0.27058824,\n",
       "        0.09803922, 0.19607843, 0.24705882, 0.18039216, 0.10588235,\n",
       "        0.09803922, 0.11372549, 0.        , 0.        , 0.        ,\n",
       "        0.        , 0.        , 0.        ],\n",
       "       [0.        , 0.        , 0.        , 0.        , 0.        ,\n",
       "        0.04705882, 0.30588235, 0.20784314, 0.51372549, 0.14509804,\n",
       "        0.22352941, 0.20392157, 0.07843137, 0.35294118, 0.30588235,\n",
       "        0.07843137, 0.20784314, 0.24313725, 0.14117647, 0.06666667,\n",
       "        0.10588235, 0.15294118, 0.        , 0.        , 0.        ,\n",
       "        0.        , 0.        , 0.        ],\n",
       "       [0.        , 0.        , 0.        , 0.        , 0.        ,\n",
       "        0.10980392, 0.33333333, 0.11372549, 0.60392157, 0.22745098,\n",
       "        0.18431373, 0.16862745, 0.04705882, 0.29803922, 0.27843137,\n",
       "        0.08235294, 0.13333333, 0.0745098 , 0.08235294, 0.0745098 ,\n",
       "        0.12941176, 0.16862745, 0.02745098, 0.        , 0.        ,\n",
       "        0.        , 0.        , 0.        ],\n",
       "       [0.        , 0.        , 0.        , 0.        , 0.        ,\n",
       "        0.16862745, 0.30980392, 0.05098039, 0.5372549 , 0.25490196,\n",
       "        0.16078431, 0.16470588, 0.03921569, 0.32941176, 0.2627451 ,\n",
       "        0.05098039, 0.11372549, 0.10980392, 0.07058824, 0.16078431,\n",
       "        0.17647059, 0.11372549, 0.08235294, 0.        , 0.        ,\n",
       "        0.        , 0.        , 0.        ],\n",
       "       [0.        , 0.        , 0.        , 0.        , 0.        ,\n",
       "        0.20784314, 0.28627451, 0.03921569, 0.57254902, 0.33333333,\n",
       "        0.16862745, 0.16470588, 0.03529412, 0.32941176, 0.24705882,\n",
       "        0.0627451 , 0.12156863, 0.09411765, 0.05490196, 0.12941176,\n",
       "        0.11372549, 0.11372549, 0.05098039, 0.        , 0.        ,\n",
       "        0.        , 0.        , 0.        ],\n",
       "       [0.        , 0.        , 0.        , 0.        , 0.        ,\n",
       "        0.23921569, 0.2745098 , 0.00784314, 0.6627451 , 0.4       ,\n",
       "        0.10980392, 0.18431373, 0.05882353, 0.31372549, 0.23529412,\n",
       "        0.03921569, 0.11372549, 0.10196078, 0.        , 0.30196078,\n",
       "        0.10980392, 0.10588235, 0.05490196, 0.        , 0.        ,\n",
       "        0.        , 0.        , 0.        ],\n",
       "       [0.        , 0.        , 0.        , 0.        , 0.        ,\n",
       "        0.2627451 , 0.23529412, 0.01176471, 0.71764706, 0.30588235,\n",
       "        0.17254902, 0.18039216, 0.05098039, 0.29411765, 0.24313725,\n",
       "        0.03529412, 0.09411765, 0.10980392, 0.        , 0.63137255,\n",
       "        0.15294118, 0.05098039, 0.08235294, 0.        , 0.        ,\n",
       "        0.        , 0.        , 0.        ],\n",
       "       [0.        , 0.        , 0.        , 0.        , 0.        ,\n",
       "        0.29019608, 0.19607843, 0.01568627, 0.87058824, 0.2745098 ,\n",
       "        0.14509804, 0.18039216, 0.0627451 , 0.29411765, 0.25490196,\n",
       "        0.02745098, 0.10196078, 0.0627451 , 0.        , 0.94901961,\n",
       "        0.18039216, 0.02745098, 0.09803922, 0.        , 0.        ,\n",
       "        0.        , 0.        , 0.        ],\n",
       "       [0.        , 0.        , 0.        , 0.        , 0.        ,\n",
       "        0.28627451, 0.14117647, 0.04313725, 1.        , 0.22352941,\n",
       "        0.17254902, 0.21176471, 0.04313725, 0.29019608, 0.24705882,\n",
       "        0.01568627, 0.10196078, 0.02352941, 0.00392157, 0.85490196,\n",
       "        0.28627451, 0.        , 0.10588235, 0.        , 0.        ,\n",
       "        0.        , 0.        , 0.        ],\n",
       "       [0.        , 0.        , 0.        , 0.        , 0.03137255,\n",
       "        0.29411765, 0.11372549, 0.09803922, 1.        , 0.2627451 ,\n",
       "        0.18039216, 0.19607843, 0.02352941, 0.30980392, 0.24705882,\n",
       "        0.03137255, 0.09803922, 0.        , 0.10588235, 0.95686275,\n",
       "        0.39607843, 0.        , 0.11372549, 0.        , 0.        ,\n",
       "        0.        , 0.        , 0.        ],\n",
       "       [0.        , 0.        , 0.        , 0.        , 0.04313725,\n",
       "        0.29411765, 0.05882353, 0.20784314, 1.        , 0.22745098,\n",
       "        0.15294118, 0.19215686, 0.07058824, 0.29803922, 0.25490196,\n",
       "        0.02352941, 0.10588235, 0.01568627, 0.        , 0.8627451 ,\n",
       "        0.54117647, 0.        , 0.10980392, 0.01176471, 0.        ,\n",
       "        0.        , 0.        , 0.        ],\n",
       "       [0.        , 0.        , 0.        , 0.        , 0.04313725,\n",
       "        0.29019608, 0.01960784, 0.40392157, 0.99607843, 0.19215686,\n",
       "        0.18823529, 0.18039216, 0.05098039, 0.28627451, 0.25490196,\n",
       "        0.00784314, 0.09803922, 0.01960784, 0.        , 0.81960784,\n",
       "        0.69411765, 0.        , 0.11764706, 0.02745098, 0.        ,\n",
       "        0.        , 0.        , 0.        ],\n",
       "       [0.        , 0.        , 0.        , 0.        , 0.0627451 ,\n",
       "        0.29411765, 0.01568627, 0.4745098 , 1.        , 0.14117647,\n",
       "        0.18431373, 0.20392157, 0.0627451 , 0.2627451 , 0.27058824,\n",
       "        0.00784314, 0.08627451, 0.05490196, 0.        , 0.74509804,\n",
       "        0.70980392, 0.        , 0.10980392, 0.03137255, 0.        ,\n",
       "        0.        , 0.        , 0.        ],\n",
       "       [0.        , 0.        , 0.        , 0.        , 0.08627451,\n",
       "        0.30588235, 0.        , 0.50980392, 0.99607843, 0.08235294,\n",
       "        0.23137255, 0.22745098, 0.10980392, 0.29019608, 0.28235294,\n",
       "        0.00392157, 0.10588235, 0.09411765, 0.        , 0.68627451,\n",
       "        0.8       , 0.        , 0.09411765, 0.03921569, 0.        ,\n",
       "        0.        , 0.        , 0.        ],\n",
       "       [0.        , 0.        , 0.        , 0.        , 0.09019608,\n",
       "        0.30196078, 0.        , 0.60784314, 0.85490196, 0.07843137,\n",
       "        0.22352941, 0.20784314, 0.09411765, 0.2745098 , 0.28627451,\n",
       "        0.00784314, 0.10588235, 0.08627451, 0.        , 0.5254902 ,\n",
       "        0.83921569, 0.        , 0.07843137, 0.04705882, 0.        ,\n",
       "        0.        , 0.        , 0.        ],\n",
       "       [0.        , 0.        , 0.        , 0.        , 0.09411765,\n",
       "        0.29411765, 0.        , 0.7254902 , 0.74509804, 0.08235294,\n",
       "        0.25098039, 0.23137255, 0.12941176, 0.28235294, 0.28235294,\n",
       "        0.01568627, 0.10196078, 0.12156863, 0.        , 0.47843137,\n",
       "        0.85490196, 0.01176471, 0.06666667, 0.0627451 , 0.        ,\n",
       "        0.        , 0.        , 0.        ],\n",
       "       [0.        , 0.        , 0.        , 0.        , 0.09411765,\n",
       "        0.31764706, 0.        , 0.76078431, 0.61568627, 0.07058824,\n",
       "        0.22352941, 0.21960784, 0.11764706, 0.27843137, 0.30196078,\n",
       "        0.01568627, 0.09019608, 0.10196078, 0.        , 0.43529412,\n",
       "        0.89019608, 0.05098039, 0.05098039, 0.0745098 , 0.        ,\n",
       "        0.        , 0.        , 0.        ],\n",
       "       [0.        , 0.        , 0.        , 0.        , 0.1254902 ,\n",
       "        0.30588235, 0.        , 0.88627451, 0.53333333, 0.2       ,\n",
       "        0.32156863, 0.28627451, 0.15294118, 0.29411765, 0.31372549,\n",
       "        0.03137255, 0.10980392, 0.12941176, 0.        , 0.4       ,\n",
       "        0.94901961, 0.0627451 , 0.04705882, 0.0745098 , 0.        ,\n",
       "        0.        , 0.        , 0.        ],\n",
       "       [0.        , 0.        , 0.        , 0.        , 0.14117647,\n",
       "        0.2745098 , 0.01176471, 0.91764706, 0.32941176, 0.20392157,\n",
       "        0.29411765, 0.29411765, 0.22352941, 0.25098039, 0.25882353,\n",
       "        0.0745098 , 0.16078431, 0.15294118, 0.03137255, 0.20392157,\n",
       "        0.85490196, 0.17647059, 0.02352941, 0.06666667, 0.        ,\n",
       "        0.        , 0.        , 0.        ],\n",
       "       [0.        , 0.        , 0.        , 0.        , 0.1372549 ,\n",
       "        0.27058824, 0.11372549, 0.94117647, 0.        , 0.        ,\n",
       "        0.        , 0.        , 0.        , 0.        , 0.        ,\n",
       "        0.        , 0.        , 0.        , 0.        , 0.        ,\n",
       "        0.89803922, 0.43529412, 0.        , 0.06666667, 0.        ,\n",
       "        0.        , 0.        , 0.        ],\n",
       "       [0.        , 0.        , 0.        , 0.        , 0.25882353,\n",
       "        0.32941176, 0.17647059, 0.45098039, 0.        , 0.        ,\n",
       "        0.        , 0.        , 0.        , 0.        , 0.        ,\n",
       "        0.        , 0.        , 0.        , 0.        , 0.        ,\n",
       "        0.46666667, 0.30588235, 0.09411765, 0.10196078, 0.        ,\n",
       "        0.        , 0.        , 0.        ],\n",
       "       [0.        , 0.        , 0.        , 0.        , 0.21176471,\n",
       "        0.27843137, 0.12156863, 0.2       , 0.        , 0.        ,\n",
       "        0.00392157, 0.        , 0.        , 0.        , 0.        ,\n",
       "        0.        , 0.        , 0.        , 0.        , 0.        ,\n",
       "        0.14117647, 0.11764706, 0.10588235, 0.10588235, 0.        ,\n",
       "        0.        , 0.        , 0.        ]])"
      ]
     },
     "execution_count": 47,
     "metadata": {},
     "output_type": "execute_result"
    }
   ],
   "source": [
    "x_test[6]"
   ]
  },
  {
   "cell_type": "code",
   "execution_count": null,
   "metadata": {
    "colab": {
     "base_uri": "https://localhost:8080/",
     "height": 447
    },
    "id": "lDILjmhMcJJv",
    "outputId": "31f28413-662e-4f0e-b70d-1fb2111d2c74"
   },
   "outputs": [
    {
     "data": {
      "text/plain": [
       "<matplotlib.image.AxesImage at 0x7c4c406c9ab0>"
      ]
     },
     "execution_count": 48,
     "metadata": {},
     "output_type": "execute_result"
    },
    {
     "data": {
      "image/png": "[encoded data removed]",
      "text/plain": [
       "<Figure size 640x480 with 1 Axes>"
      ]
     },
     "metadata": {},
     "output_type": "display_data"
    }
   ],
   "source": [
    "plt.imshow(x_test[6])"
   ]
  },
  {
   "cell_type": "code",
   "execution_count": null,
   "metadata": {
    "colab": {
     "base_uri": "https://localhost:8080/"
    },
    "id": "DvqsJGrJcHov",
    "outputId": "44c1b78a-ca5b-4475-8f8e-b5c35171d6d6"
   },
   "outputs": [
    {
     "data": {
      "text/plain": [
       "array([[[0.        , 0.        , 0.        , 0.        , 0.        ,\n",
       "         0.        , 0.        , 0.        , 0.00392157, 0.        ,\n",
       "         0.        , 0.06666667, 0.        , 0.1372549 , 0.21568627,\n",
       "         0.20392157, 0.17647059, 0.        , 0.        , 0.        ,\n",
       "         0.        , 0.        , 0.        , 0.        , 0.        ,\n",
       "         0.        , 0.        , 0.        ],\n",
       "        [0.        , 0.        , 0.        , 0.        , 0.        ,\n",
       "         0.        , 0.        , 0.01176471, 0.        , 0.00392157,\n",
       "         0.98039216, 1.        , 0.96078431, 0.99607843, 0.93333333,\n",
       "         0.95686275, 0.9372549 , 0.54117647, 0.        , 0.        ,\n",
       "         0.        , 0.        , 0.        , 0.        , 0.        ,\n",
       "         0.        , 0.        , 0.        ],\n",
       "        [0.        , 0.        , 0.        , 0.        , 0.        ,\n",
       "         0.        , 0.        , 0.        , 0.        , 0.34509804,\n",
       "         0.48627451, 0.66666667, 0.99607843, 0.54117647, 0.73333333,\n",
       "         1.        , 0.73333333, 0.1254902 , 0.01568627, 0.        ,\n",
       "         0.00392157, 0.        , 0.        , 0.        , 0.        ,\n",
       "         0.        , 0.        , 0.        ],\n",
       "        [0.        , 0.        , 0.        , 0.        , 0.        ,\n",
       "         0.        , 0.        , 0.        , 0.        , 0.32941176,\n",
       "         0.38431373, 0.        , 0.71372549, 0.82352941, 0.95294118,\n",
       "         1.        , 0.14509804, 0.        , 0.        , 0.        ,\n",
       "         0.        , 0.        , 0.        , 0.        , 0.        ,\n",
       "         0.        , 0.        , 0.        ],\n",
       "        [0.        , 0.        , 0.        , 0.        , 0.00392157,\n",
       "         0.        , 0.02352941, 0.21960784, 0.28235294, 0.35686275,\n",
       "         0.52156863, 0.16862745, 0.        , 0.94117647, 0.85490196,\n",
       "         0.        , 0.        , 0.15294118, 0.18039216, 0.07843137,\n",
       "         0.09803922, 0.00784314, 0.        , 0.        , 0.        ,\n",
       "         0.        , 0.        , 0.        ],\n",
       "        [0.        , 0.        , 0.        , 0.        , 0.        ,\n",
       "         0.        , 0.18823529, 0.42745098, 0.2745098 , 0.21176471,\n",
       "         0.17254902, 0.27843137, 0.21960784, 0.25098039, 0.05882353,\n",
       "         0.07843137, 0.11372549, 0.10980392, 0.22745098, 0.22352941,\n",
       "         0.2       , 0.07843137, 0.        , 0.        , 0.        ,\n",
       "         0.        , 0.        , 0.        ],\n",
       "        [0.        , 0.        , 0.        , 0.        , 0.        ,\n",
       "         0.        , 0.25490196, 0.28627451, 0.32156863, 0.19215686,\n",
       "         0.22745098, 0.20392157, 0.1254902 , 0.32941176, 0.27058824,\n",
       "         0.09803922, 0.19607843, 0.24705882, 0.18039216, 0.10588235,\n",
       "         0.09803922, 0.11372549, 0.        , 0.        , 0.        ,\n",
       "         0.        , 0.        , 0.        ],\n",
       "        [0.        , 0.        , 0.        , 0.        , 0.        ,\n",
       "         0.04705882, 0.30588235, 0.20784314, 0.51372549, 0.14509804,\n",
       "         0.22352941, 0.20392157, 0.07843137, 0.35294118, 0.30588235,\n",
       "         0.07843137, 0.20784314, 0.24313725, 0.14117647, 0.06666667,\n",
       "         0.10588235, 0.15294118, 0.        , 0.        , 0.        ,\n",
       "         0.        , 0.        , 0.        ],\n",
       "        [0.        , 0.        , 0.        , 0.        , 0.        ,\n",
       "         0.10980392, 0.33333333, 0.11372549, 0.60392157, 0.22745098,\n",
       "         0.18431373, 0.16862745, 0.04705882, 0.29803922, 0.27843137,\n",
       "         0.08235294, 0.13333333, 0.0745098 , 0.08235294, 0.0745098 ,\n",
       "         0.12941176, 0.16862745, 0.02745098, 0.        , 0.        ,\n",
       "         0.        , 0.        , 0.        ],\n",
       "        [0.        , 0.        , 0.        , 0.        , 0.        ,\n",
       "         0.16862745, 0.30980392, 0.05098039, 0.5372549 , 0.25490196,\n",
       "         0.16078431, 0.16470588, 0.03921569, 0.32941176, 0.2627451 ,\n",
       "         0.05098039, 0.11372549, 0.10980392, 0.07058824, 0.16078431,\n",
       "         0.17647059, 0.11372549, 0.08235294, 0.        , 0.        ,\n",
       "         0.        , 0.        , 0.        ],\n",
       "        [0.        , 0.        , 0.        , 0.        , 0.        ,\n",
       "         0.20784314, 0.28627451, 0.03921569, 0.57254902, 0.33333333,\n",
       "         0.16862745, 0.16470588, 0.03529412, 0.32941176, 0.24705882,\n",
       "         0.0627451 , 0.12156863, 0.09411765, 0.05490196, 0.12941176,\n",
       "         0.11372549, 0.11372549, 0.05098039, 0.        , 0.        ,\n",
       "         0.        , 0.        , 0.        ],\n",
       "        [0.        , 0.        , 0.        , 0.        , 0.        ,\n",
       "         0.23921569, 0.2745098 , 0.00784314, 0.6627451 , 0.4       ,\n",
       "         0.10980392, 0.18431373, 0.05882353, 0.31372549, 0.23529412,\n",
       "         0.03921569, 0.11372549, 0.10196078, 0.        , 0.30196078,\n",
       "         0.10980392, 0.10588235, 0.05490196, 0.        , 0.        ,\n",
       "         0.        , 0.        , 0.        ],\n",
       "        [0.        , 0.        , 0.        , 0.        , 0.        ,\n",
       "         0.2627451 , 0.23529412, 0.01176471, 0.71764706, 0.30588235,\n",
       "         0.17254902, 0.18039216, 0.05098039, 0.29411765, 0.24313725,\n",
       "         0.03529412, 0.09411765, 0.10980392, 0.        , 0.63137255,\n",
       "         0.15294118, 0.05098039, 0.08235294, 0.        , 0.        ,\n",
       "         0.        , 0.        , 0.        ],\n",
       "        [0.        , 0.        , 0.        , 0.        , 0.        ,\n",
       "         0.29019608, 0.19607843, 0.01568627, 0.87058824, 0.2745098 ,\n",
       "         0.14509804, 0.18039216, 0.0627451 , 0.29411765, 0.25490196,\n",
       "         0.02745098, 0.10196078, 0.0627451 , 0.        , 0.94901961,\n",
       "         0.18039216, 0.02745098, 0.09803922, 0.        , 0.        ,\n",
       "         0.        , 0.        , 0.        ],\n",
       "        [0.        , 0.        , 0.        , 0.        , 0.        ,\n",
       "         0.28627451, 0.14117647, 0.04313725, 1.        , 0.22352941,\n",
       "         0.17254902, 0.21176471, 0.04313725, 0.29019608, 0.24705882,\n",
       "         0.01568627, 0.10196078, 0.02352941, 0.00392157, 0.85490196,\n",
       "         0.28627451, 0.        , 0.10588235, 0.        , 0.        ,\n",
       "         0.        , 0.        , 0.        ],\n",
       "        [0.        , 0.        , 0.        , 0.        , 0.03137255,\n",
       "         0.29411765, 0.11372549, 0.09803922, 1.        , 0.2627451 ,\n",
       "         0.18039216, 0.19607843, 0.02352941, 0.30980392, 0.24705882,\n",
       "         0.03137255, 0.09803922, 0.        , 0.10588235, 0.95686275,\n",
       "         0.39607843, 0.        , 0.11372549, 0.        , 0.        ,\n",
       "         0.        , 0.        , 0.        ],\n",
       "        [0.        , 0.        , 0.        , 0.        , 0.04313725,\n",
       "         0.29411765, 0.05882353, 0.20784314, 1.        , 0.22745098,\n",
       "         0.15294118, 0.19215686, 0.07058824, 0.29803922, 0.25490196,\n",
       "         0.02352941, 0.10588235, 0.01568627, 0.        , 0.8627451 ,\n",
       "         0.54117647, 0.        , 0.10980392, 0.01176471, 0.        ,\n",
       "         0.        , 0.        , 0.        ],\n",
       "        [0.        , 0.        , 0.        , 0.        , 0.04313725,\n",
       "         0.29019608, 0.01960784, 0.40392157, 0.99607843, 0.19215686,\n",
       "         0.18823529, 0.18039216, 0.05098039, 0.28627451, 0.25490196,\n",
       "         0.00784314, 0.09803922, 0.01960784, 0.        , 0.81960784,\n",
       "         0.69411765, 0.        , 0.11764706, 0.02745098, 0.        ,\n",
       "         0.        , 0.        , 0.        ],\n",
       "        [0.        , 0.        , 0.        , 0.        , 0.0627451 ,\n",
       "         0.29411765, 0.01568627, 0.4745098 , 1.        , 0.14117647,\n",
       "         0.18431373, 0.20392157, 0.0627451 , 0.2627451 , 0.27058824,\n",
       "         0.00784314, 0.08627451, 0.05490196, 0.        , 0.74509804,\n",
       "         0.70980392, 0.        , 0.10980392, 0.03137255, 0.        ,\n",
       "         0.        , 0.        , 0.        ],\n",
       "        [0.        , 0.        , 0.        , 0.        , 0.08627451,\n",
       "         0.30588235, 0.        , 0.50980392, 0.99607843, 0.08235294,\n",
       "         0.23137255, 0.22745098, 0.10980392, 0.29019608, 0.28235294,\n",
       "         0.00392157, 0.10588235, 0.09411765, 0.        , 0.68627451,\n",
       "         0.8       , 0.        , 0.09411765, 0.03921569, 0.        ,\n",
       "         0.        , 0.        , 0.        ],\n",
       "        [0.        , 0.        , 0.        , 0.        , 0.09019608,\n",
       "         0.30196078, 0.        , 0.60784314, 0.85490196, 0.07843137,\n",
       "         0.22352941, 0.20784314, 0.09411765, 0.2745098 , 0.28627451,\n",
       "         0.00784314, 0.10588235, 0.08627451, 0.        , 0.5254902 ,\n",
       "         0.83921569, 0.        , 0.07843137, 0.04705882, 0.        ,\n",
       "         0.        , 0.        , 0.        ],\n",
       "        [0.        , 0.        , 0.        , 0.        , 0.09411765,\n",
       "         0.29411765, 0.        , 0.7254902 , 0.74509804, 0.08235294,\n",
       "         0.25098039, 0.23137255, 0.12941176, 0.28235294, 0.28235294,\n",
       "         0.01568627, 0.10196078, 0.12156863, 0.        , 0.47843137,\n",
       "         0.85490196, 0.01176471, 0.06666667, 0.0627451 , 0.        ,\n",
       "         0.        , 0.        , 0.        ],\n",
       "        [0.        , 0.        , 0.        , 0.        , 0.09411765,\n",
       "         0.31764706, 0.        , 0.76078431, 0.61568627, 0.07058824,\n",
       "         0.22352941, 0.21960784, 0.11764706, 0.27843137, 0.30196078,\n",
       "         0.01568627, 0.09019608, 0.10196078, 0.        , 0.43529412,\n",
       "         0.89019608, 0.05098039, 0.05098039, 0.0745098 , 0.        ,\n",
       "         0.        , 0.        , 0.        ],\n",
       "        [0.        , 0.        , 0.        , 0.        , 0.1254902 ,\n",
       "         0.30588235, 0.        , 0.88627451, 0.53333333, 0.2       ,\n",
       "         0.32156863, 0.28627451, 0.15294118, 0.29411765, 0.31372549,\n",
       "         0.03137255, 0.10980392, 0.12941176, 0.        , 0.4       ,\n",
       "         0.94901961, 0.0627451 , 0.04705882, 0.0745098 , 0.        ,\n",
       "         0.        , 0.        , 0.        ],\n",
       "        [0.        , 0.        , 0.        , 0.        , 0.14117647,\n",
       "         0.2745098 , 0.01176471, 0.91764706, 0.32941176, 0.20392157,\n",
       "         0.29411765, 0.29411765, 0.22352941, 0.25098039, 0.25882353,\n",
       "         0.0745098 , 0.16078431, 0.15294118, 0.03137255, 0.20392157,\n",
       "         0.85490196, 0.17647059, 0.02352941, 0.06666667, 0.        ,\n",
       "         0.        , 0.        , 0.        ],\n",
       "        [0.        , 0.        , 0.        , 0.        , 0.1372549 ,\n",
       "         0.27058824, 0.11372549, 0.94117647, 0.        , 0.        ,\n",
       "         0.        , 0.        , 0.        , 0.        , 0.        ,\n",
       "         0.        , 0.        , 0.        , 0.        , 0.        ,\n",
       "         0.89803922, 0.43529412, 0.        , 0.06666667, 0.        ,\n",
       "         0.        , 0.        , 0.        ],\n",
       "        [0.        , 0.        , 0.        , 0.        , 0.25882353,\n",
       "         0.32941176, 0.17647059, 0.45098039, 0.        , 0.        ,\n",
       "         0.        , 0.        , 0.        , 0.        , 0.        ,\n",
       "         0.        , 0.        , 0.        , 0.        , 0.        ,\n",
       "         0.46666667, 0.30588235, 0.09411765, 0.10196078, 0.        ,\n",
       "         0.        , 0.        , 0.        ],\n",
       "        [0.        , 0.        , 0.        , 0.        , 0.21176471,\n",
       "         0.27843137, 0.12156863, 0.2       , 0.        , 0.        ,\n",
       "         0.00392157, 0.        , 0.        , 0.        , 0.        ,\n",
       "         0.        , 0.        , 0.        , 0.        , 0.        ,\n",
       "         0.14117647, 0.11764706, 0.10588235, 0.10588235, 0.        ,\n",
       "         0.        , 0.        , 0.        ]]])"
      ]
     },
     "execution_count": 49,
     "metadata": {},
     "output_type": "execute_result"
    }
   ],
   "source": [
    "x_test[6].reshape(1,28,28)"
   ]
  },
  {
   "cell_type": "code",
   "execution_count": null,
   "metadata": {
    "colab": {
     "base_uri": "https://localhost:8080/",
     "height": 730
    },
    "id": "-QQP-poIcXQJ",
    "outputId": "7c800aff-da70-44aa-a484-0fada3c0423f"
   },
   "outputs": [
    {
     "ename": "TypeError",
     "evalue": "ignored",
     "output_type": "error",
     "traceback": [
      "\u001b[0;31m---------------------------------------------------------------------------\u001b[0m",
      "\u001b[0;31mTypeError\u001b[0m                                 Traceback (most recent call last)",
      "\u001b[0;32m<ipython-input-50-d32caad5f34a>\u001b[0m in \u001b[0;36m<cell line: 1>\u001b[0;34m()\u001b[0m\n\u001b[0;32m----> 1\u001b[0;31m \u001b[0mplt\u001b[0m\u001b[0;34m.\u001b[0m\u001b[0mimshow\u001b[0m\u001b[0;34m(\u001b[0m\u001b[0mx_test\u001b[0m\u001b[0;34m[\u001b[0m\u001b[0;36m6\u001b[0m\u001b[0;34m]\u001b[0m\u001b[0;34m.\u001b[0m\u001b[0mreshape\u001b[0m\u001b[0;34m(\u001b[0m\u001b[0;36m1\u001b[0m\u001b[0;34m,\u001b[0m\u001b[0;36m28\u001b[0m\u001b[0;34m,\u001b[0m\u001b[0;36m28\u001b[0m\u001b[0;34m)\u001b[0m\u001b[0;34m)\u001b[0m\u001b[0;34m\u001b[0m\u001b[0;34m\u001b[0m\u001b[0m\n\u001b[0m",
      "\u001b[0;32m/usr/local/lib/python3.10/dist-packages/matplotlib/pyplot.py\u001b[0m in \u001b[0;36mimshow\u001b[0;34m(X, cmap, norm, aspect, interpolation, alpha, vmin, vmax, origin, extent, interpolation_stage, filternorm, filterrad, resample, url, data, **kwargs)\u001b[0m\n\u001b[1;32m   2693\u001b[0m         \u001b[0minterpolation_stage\u001b[0m\u001b[0;34m=\u001b[0m\u001b[0;32mNone\u001b[0m\u001b[0;34m,\u001b[0m \u001b[0mfilternorm\u001b[0m\u001b[0;34m=\u001b[0m\u001b[0;32mTrue\u001b[0m\u001b[0;34m,\u001b[0m \u001b[0mfilterrad\u001b[0m\u001b[0;34m=\u001b[0m\u001b[0;36m4.0\u001b[0m\u001b[0;34m,\u001b[0m\u001b[0;34m\u001b[0m\u001b[0;34m\u001b[0m\u001b[0m\n\u001b[1;32m   2694\u001b[0m         resample=None, url=None, data=None, **kwargs):\n\u001b[0;32m-> 2695\u001b[0;31m     __ret = gca().imshow(\n\u001b[0m\u001b[1;32m   2696\u001b[0m         \u001b[0mX\u001b[0m\u001b[0;34m,\u001b[0m \u001b[0mcmap\u001b[0m\u001b[0;34m=\u001b[0m\u001b[0mcmap\u001b[0m\u001b[0;34m,\u001b[0m \u001b[0mnorm\u001b[0m\u001b[0;34m=\u001b[0m\u001b[0mnorm\u001b[0m\u001b[0;34m,\u001b[0m \u001b[0maspect\u001b[0m\u001b[0;34m=\u001b[0m\u001b[0maspect\u001b[0m\u001b[0;34m,\u001b[0m\u001b[0;34m\u001b[0m\u001b[0;34m\u001b[0m\u001b[0m\n\u001b[1;32m   2697\u001b[0m         \u001b[0minterpolation\u001b[0m\u001b[0;34m=\u001b[0m\u001b[0minterpolation\u001b[0m\u001b[0;34m,\u001b[0m \u001b[0malpha\u001b[0m\u001b[0;34m=\u001b[0m\u001b[0malpha\u001b[0m\u001b[0;34m,\u001b[0m \u001b[0mvmin\u001b[0m\u001b[0;34m=\u001b[0m\u001b[0mvmin\u001b[0m\u001b[0;34m,\u001b[0m\u001b[0;34m\u001b[0m\u001b[0;34m\u001b[0m\u001b[0m\n",
      "\u001b[0;32m/usr/local/lib/python3.10/dist-packages/matplotlib/__init__.py\u001b[0m in \u001b[0;36minner\u001b[0;34m(ax, data, *args, **kwargs)\u001b[0m\n\u001b[1;32m   1440\u001b[0m     \u001b[0;32mdef\u001b[0m \u001b[0minner\u001b[0m\u001b[0;34m(\u001b[0m\u001b[0max\u001b[0m\u001b[0;34m,\u001b[0m \u001b[0;34m*\u001b[0m\u001b[0margs\u001b[0m\u001b[0;34m,\u001b[0m \u001b[0mdata\u001b[0m\u001b[0;34m=\u001b[0m\u001b[0;32mNone\u001b[0m\u001b[0;34m,\u001b[0m \u001b[0;34m**\u001b[0m\u001b[0mkwargs\u001b[0m\u001b[0;34m)\u001b[0m\u001b[0;34m:\u001b[0m\u001b[0;34m\u001b[0m\u001b[0;34m\u001b[0m\u001b[0m\n\u001b[1;32m   1441\u001b[0m         \u001b[0;32mif\u001b[0m \u001b[0mdata\u001b[0m \u001b[0;32mis\u001b[0m \u001b[0;32mNone\u001b[0m\u001b[0;34m:\u001b[0m\u001b[0;34m\u001b[0m\u001b[0;34m\u001b[0m\u001b[0m\n\u001b[0;32m-> 1442\u001b[0;31m             \u001b[0;32mreturn\u001b[0m \u001b[0mfunc\u001b[0m\u001b[0;34m(\u001b[0m\u001b[0max\u001b[0m\u001b[0;34m,\u001b[0m \u001b[0;34m*\u001b[0m\u001b[0mmap\u001b[0m\u001b[0;34m(\u001b[0m\u001b[0msanitize_sequence\u001b[0m\u001b[0;34m,\u001b[0m \u001b[0margs\u001b[0m\u001b[0;34m)\u001b[0m\u001b[0;34m,\u001b[0m \u001b[0;34m**\u001b[0m\u001b[0mkwargs\u001b[0m\u001b[0;34m)\u001b[0m\u001b[0;34m\u001b[0m\u001b[0;34m\u001b[0m\u001b[0m\n\u001b[0m\u001b[1;32m   1443\u001b[0m \u001b[0;34m\u001b[0m\u001b[0m\n\u001b[1;32m   1444\u001b[0m         \u001b[0mbound\u001b[0m \u001b[0;34m=\u001b[0m \u001b[0mnew_sig\u001b[0m\u001b[0;34m.\u001b[0m\u001b[0mbind\u001b[0m\u001b[0;34m(\u001b[0m\u001b[0max\u001b[0m\u001b[0;34m,\u001b[0m \u001b[0;34m*\u001b[0m\u001b[0margs\u001b[0m\u001b[0;34m,\u001b[0m \u001b[0;34m**\u001b[0m\u001b[0mkwargs\u001b[0m\u001b[0;34m)\u001b[0m\u001b[0;34m\u001b[0m\u001b[0;34m\u001b[0m\u001b[0m\n",
      "\u001b[0;32m/usr/local/lib/python3.10/dist-packages/matplotlib/axes/_axes.py\u001b[0m in \u001b[0;36mimshow\u001b[0;34m(self, X, cmap, norm, aspect, interpolation, alpha, vmin, vmax, origin, extent, interpolation_stage, filternorm, filterrad, resample, url, **kwargs)\u001b[0m\n\u001b[1;32m   5663\u001b[0m                               **kwargs)\n\u001b[1;32m   5664\u001b[0m \u001b[0;34m\u001b[0m\u001b[0m\n\u001b[0;32m-> 5665\u001b[0;31m         \u001b[0mim\u001b[0m\u001b[0;34m.\u001b[0m\u001b[0mset_data\u001b[0m\u001b[0;34m(\u001b[0m\u001b[0mX\u001b[0m\u001b[0;34m)\u001b[0m\u001b[0;34m\u001b[0m\u001b[0;34m\u001b[0m\u001b[0m\n\u001b[0m\u001b[1;32m   5666\u001b[0m         \u001b[0mim\u001b[0m\u001b[0;34m.\u001b[0m\u001b[0mset_alpha\u001b[0m\u001b[0;34m(\u001b[0m\u001b[0malpha\u001b[0m\u001b[0;34m)\u001b[0m\u001b[0;34m\u001b[0m\u001b[0;34m\u001b[0m\u001b[0m\n\u001b[1;32m   5667\u001b[0m         \u001b[0;32mif\u001b[0m \u001b[0mim\u001b[0m\u001b[0;34m.\u001b[0m\u001b[0mget_clip_path\u001b[0m\u001b[0;34m(\u001b[0m\u001b[0;34m)\u001b[0m \u001b[0;32mis\u001b[0m \u001b[0;32mNone\u001b[0m\u001b[0;34m:\u001b[0m\u001b[0;34m\u001b[0m\u001b[0;34m\u001b[0m\u001b[0m\n",
      "\u001b[0;32m/usr/local/lib/python3.10/dist-packages/matplotlib/image.py\u001b[0m in \u001b[0;36mset_data\u001b[0;34m(self, A)\u001b[0m\n\u001b[1;32m    708\u001b[0m         if not (self._A.ndim == 2\n\u001b[1;32m    709\u001b[0m                 or self._A.ndim == 3 and self._A.shape[-1] in [3, 4]):\n\u001b[0;32m--> 710\u001b[0;31m             raise TypeError(\"Invalid shape {} for image data\"\n\u001b[0m\u001b[1;32m    711\u001b[0m                             .format(self._A.shape))\n\u001b[1;32m    712\u001b[0m \u001b[0;34m\u001b[0m\u001b[0m\n",
      "\u001b[0;31mTypeError\u001b[0m: Invalid shape (1, 28, 28) for image data"
     ]
    },
    {
     "data": {
      "image/png": "[encoded data removed]",
      "text/plain": [
       "<Figure size 640x480 with 1 Axes>"
      ]
     },
     "metadata": {},
     "output_type": "display_data"
    }
   ],
   "source": [
    "plt.imshow(x_test[6].reshape(1,28,28))"
   ]
  },
  {
   "cell_type": "code",
   "execution_count": null,
   "metadata": {
    "colab": {
     "base_uri": "https://localhost:8080/",
     "height": 1000
    },
    "id": "DSL5oXtWPL15",
    "outputId": "bca1a4bd-38af-416e-cc4c-ae8fd15b26bf"
   },
   "outputs": [
    {
     "ename": "InvalidArgumentError",
     "evalue": "ignored",
     "output_type": "error",
     "traceback": [
      "\u001b[0;31m---------------------------------------------------------------------------\u001b[0m",
      "\u001b[0;31mInvalidArgumentError\u001b[0m                      Traceback (most recent call last)",
      "\u001b[0;32m<ipython-input-43-d3cbd1deb025>\u001b[0m in \u001b[0;36m<cell line: 1>\u001b[0;34m()\u001b[0m\n\u001b[0;32m----> 1\u001b[0;31m \u001b[0mpred_probs\u001b[0m \u001b[0;34m=\u001b[0m \u001b[0mmodel4\u001b[0m\u001b[0;34m.\u001b[0m\u001b[0mpredict\u001b[0m\u001b[0;34m(\u001b[0m\u001b[0mx_test\u001b[0m\u001b[0;34m[\u001b[0m\u001b[0;36m6\u001b[0m\u001b[0;34m]\u001b[0m\u001b[0;34m)\u001b[0m\u001b[0;34m\u001b[0m\u001b[0;34m\u001b[0m\u001b[0m\n\u001b[0m\u001b[1;32m      2\u001b[0m \u001b[0;34m\u001b[0m\u001b[0m\n\u001b[1;32m      3\u001b[0m \u001b[0mpred_probs\u001b[0m\u001b[0;34m\u001b[0m\u001b[0;34m\u001b[0m\u001b[0m\n",
      "\u001b[0;32m/usr/local/lib/python3.10/dist-packages/keras/utils/traceback_utils.py\u001b[0m in \u001b[0;36merror_handler\u001b[0;34m(*args, **kwargs)\u001b[0m\n\u001b[1;32m     68\u001b[0m             \u001b[0;31m# To get the full stack trace, call:\u001b[0m\u001b[0;34m\u001b[0m\u001b[0;34m\u001b[0m\u001b[0m\n\u001b[1;32m     69\u001b[0m             \u001b[0;31m# `tf.debugging.disable_traceback_filtering()`\u001b[0m\u001b[0;34m\u001b[0m\u001b[0;34m\u001b[0m\u001b[0m\n\u001b[0;32m---> 70\u001b[0;31m             \u001b[0;32mraise\u001b[0m \u001b[0me\u001b[0m\u001b[0;34m.\u001b[0m\u001b[0mwith_traceback\u001b[0m\u001b[0;34m(\u001b[0m\u001b[0mfiltered_tb\u001b[0m\u001b[0;34m)\u001b[0m \u001b[0;32mfrom\u001b[0m \u001b[0;32mNone\u001b[0m\u001b[0;34m\u001b[0m\u001b[0;34m\u001b[0m\u001b[0m\n\u001b[0m\u001b[1;32m     71\u001b[0m         \u001b[0;32mfinally\u001b[0m\u001b[0;34m:\u001b[0m\u001b[0;34m\u001b[0m\u001b[0;34m\u001b[0m\u001b[0m\n\u001b[1;32m     72\u001b[0m             \u001b[0;32mdel\u001b[0m \u001b[0mfiltered_tb\u001b[0m\u001b[0;34m\u001b[0m\u001b[0;34m\u001b[0m\u001b[0m\n",
      "\u001b[0;32m/usr/local/lib/python3.10/dist-packages/tensorflow/python/eager/execute.py\u001b[0m in \u001b[0;36mquick_execute\u001b[0;34m(op_name, num_outputs, inputs, attrs, ctx, name)\u001b[0m\n\u001b[1;32m     50\u001b[0m   \u001b[0;32mtry\u001b[0m\u001b[0;34m:\u001b[0m\u001b[0;34m\u001b[0m\u001b[0;34m\u001b[0m\u001b[0m\n\u001b[1;32m     51\u001b[0m     \u001b[0mctx\u001b[0m\u001b[0;34m.\u001b[0m\u001b[0mensure_initialized\u001b[0m\u001b[0;34m(\u001b[0m\u001b[0;34m)\u001b[0m\u001b[0;34m\u001b[0m\u001b[0;34m\u001b[0m\u001b[0m\n\u001b[0;32m---> 52\u001b[0;31m     tensors = pywrap_tfe.TFE_Py_Execute(ctx._handle, device_name, op_name,\n\u001b[0m\u001b[1;32m     53\u001b[0m                                         inputs, attrs, num_outputs)\n\u001b[1;32m     54\u001b[0m   \u001b[0;32mexcept\u001b[0m \u001b[0mcore\u001b[0m\u001b[0;34m.\u001b[0m\u001b[0m_NotOkStatusException\u001b[0m \u001b[0;32mas\u001b[0m \u001b[0me\u001b[0m\u001b[0;34m:\u001b[0m\u001b[0;34m\u001b[0m\u001b[0;34m\u001b[0m\u001b[0m\n",
      "\u001b[0;31mInvalidArgumentError\u001b[0m: Graph execution error:\n\nDetected at node 'sequential_3/hidden_layer1/BiasAdd' defined at (most recent call last):\n    File \"/usr/lib/python3.10/runpy.py\", line 196, in _run_module_as_main\n      return _run_code(code, main_globals, None,\n    File \"/usr/lib/python3.10/runpy.py\", line 86, in _run_code\n      exec(code, run_globals)\n    File \"/usr/local/lib/python3.10/dist-packages/ipykernel_launcher.py\", line 16, in <module>\n      app.launch_new_instance()\n    File \"/usr/local/lib/python3.10/dist-packages/traitlets/config/application.py\", line 992, in launch_instance\n      app.start()\n    File \"/usr/local/lib/python3.10/dist-packages/ipykernel/kernelapp.py\", line 619, in start\n      self.io_loop.start()\n    File \"/usr/local/lib/python3.10/dist-packages/tornado/platform/asyncio.py\", line 195, in start\n      self.asyncio_loop.run_forever()\n    File \"/usr/lib/python3.10/asyncio/base_events.py\", line 600, in run_forever\n      self._run_once()\n    File \"/usr/lib/python3.10/asyncio/base_events.py\", line 1896, in _run_once\n      handle._run()\n    File \"/usr/lib/python3.10/asyncio/events.py\", line 80, in _run\n      self._context.run(self._callback, *self._args)\n    File \"/usr/local/lib/python3.10/dist-packages/tornado/ioloop.py\", line 685, in <lambda>\n      lambda f: self._run_callback(functools.partial(callback, future))\n    File \"/usr/local/lib/python3.10/dist-packages/tornado/ioloop.py\", line 738, in _run_callback\n      ret = callback()\n    File \"/usr/local/lib/python3.10/dist-packages/tornado/gen.py\", line 825, in inner\n      self.ctx_run(self.run)\n    File \"/usr/local/lib/python3.10/dist-packages/tornado/gen.py\", line 786, in run\n      yielded = self.gen.send(value)\n    File \"/usr/local/lib/python3.10/dist-packages/ipykernel/kernelbase.py\", line 361, in process_one\n      yield gen.maybe_future(dispatch(*args))\n    File \"/usr/local/lib/python3.10/dist-packages/tornado/gen.py\", line 234, in wrapper\n      yielded = ctx_run(next, result)\n    File \"/usr/local/lib/python3.10/dist-packages/ipykernel/kernelbase.py\", line 261, in dispatch_shell\n      yield gen.maybe_future(handler(stream, idents, msg))\n    File \"/usr/local/lib/python3.10/dist-packages/tornado/gen.py\", line 234, in wrapper\n      yielded = ctx_run(next, result)\n    File \"/usr/local/lib/python3.10/dist-packages/ipykernel/kernelbase.py\", line 539, in execute_request\n      self.do_execute(\n    File \"/usr/local/lib/python3.10/dist-packages/tornado/gen.py\", line 234, in wrapper\n      yielded = ctx_run(next, result)\n    File \"/usr/local/lib/python3.10/dist-packages/ipykernel/ipkernel.py\", line 302, in do_execute\n      res = shell.run_cell(code, store_history=store_history, silent=silent)\n    File \"/usr/local/lib/python3.10/dist-packages/ipykernel/zmqshell.py\", line 539, in run_cell\n      return super(ZMQInteractiveShell, self).run_cell(*args, **kwargs)\n    File \"/usr/local/lib/python3.10/dist-packages/IPython/core/interactiveshell.py\", line 2975, in run_cell\n      result = self._run_cell(\n    File \"/usr/local/lib/python3.10/dist-packages/IPython/core/interactiveshell.py\", line 3030, in _run_cell\n      return runner(coro)\n    File \"/usr/local/lib/python3.10/dist-packages/IPython/core/async_helpers.py\", line 78, in _pseudo_sync_runner\n      coro.send(None)\n    File \"/usr/local/lib/python3.10/dist-packages/IPython/core/interactiveshell.py\", line 3257, in run_cell_async\n      has_raised = await self.run_ast_nodes(code_ast.body, cell_name,\n    File \"/usr/local/lib/python3.10/dist-packages/IPython/core/interactiveshell.py\", line 3473, in run_ast_nodes\n      if (await self.run_code(code, result,  async_=asy)):\n    File \"/usr/local/lib/python3.10/dist-packages/IPython/core/interactiveshell.py\", line 3553, in run_code\n      exec(code_obj, self.user_global_ns, self.user_ns)\n    File \"<ipython-input-40-88eb8d9de0f4>\", line 1, in <cell line: 1>\n      model4.predict(x_test[6])\n    File \"/usr/local/lib/python3.10/dist-packages/keras/utils/traceback_utils.py\", line 65, in error_handler\n      return fn(*args, **kwargs)\n    File \"/usr/local/lib/python3.10/dist-packages/keras/engine/training.py\", line 2382, in predict\n      tmp_batch_outputs = self.predict_function(iterator)\n    File \"/usr/local/lib/python3.10/dist-packages/keras/engine/training.py\", line 2169, in predict_function\n      return step_function(self, iterator)\n    File \"/usr/local/lib/python3.10/dist-packages/keras/engine/training.py\", line 2155, in step_function\n      outputs = model.distribute_strategy.run(run_step, args=(data,))\n    File \"/usr/local/lib/python3.10/dist-packages/keras/engine/training.py\", line 2143, in run_step\n      outputs = model.predict_step(data)\n    File \"/usr/local/lib/python3.10/dist-packages/keras/engine/training.py\", line 2111, in predict_step\n      return self(x, training=False)\n    File \"/usr/local/lib/python3.10/dist-packages/keras/utils/traceback_utils.py\", line 65, in error_handler\n      return fn(*args, **kwargs)\n    File \"/usr/local/lib/python3.10/dist-packages/keras/engine/training.py\", line 558, in __call__\n      return super().__call__(*args, **kwargs)\n    File \"/usr/local/lib/python3.10/dist-packages/keras/utils/traceback_utils.py\", line 65, in error_handler\n      return fn(*args, **kwargs)\n    File \"/usr/local/lib/python3.10/dist-packages/keras/engine/base_layer.py\", line 1145, in __call__\n      outputs = call_fn(inputs, *args, **kwargs)\n    File \"/usr/local/lib/python3.10/dist-packages/keras/utils/traceback_utils.py\", line 96, in error_handler\n      return fn(*args, **kwargs)\n    File \"/usr/local/lib/python3.10/dist-packages/keras/engine/sequential.py\", line 412, in call\n      return super().call(inputs, training=training, mask=mask)\n    File \"/usr/local/lib/python3.10/dist-packages/keras/engine/functional.py\", line 512, in call\n      return self._run_internal_graph(inputs, training=training, mask=mask)\n    File \"/usr/local/lib/python3.10/dist-packages/keras/engine/functional.py\", line 669, in _run_internal_graph\n      outputs = node.layer(*args, **kwargs)\n    File \"/usr/local/lib/python3.10/dist-packages/keras/utils/traceback_utils.py\", line 65, in error_handler\n      return fn(*args, **kwargs)\n    File \"/usr/local/lib/python3.10/dist-packages/keras/engine/base_layer.py\", line 1145, in __call__\n      outputs = call_fn(inputs, *args, **kwargs)\n    File \"/usr/local/lib/python3.10/dist-packages/keras/utils/traceback_utils.py\", line 96, in error_handler\n      return fn(*args, **kwargs)\n    File \"/usr/local/lib/python3.10/dist-packages/keras/layers/core/dense.py\", line 252, in call\n      outputs = tf.nn.bias_add(outputs, self.bias)\nNode: 'sequential_3/hidden_layer1/BiasAdd'\nMatrix size-incompatible: In[0]: [28,28], In[1]: [784,4]\n\t [[{{node sequential_3/hidden_layer1/BiasAdd}}]] [Op:__inference_predict_function_560813]"
     ]
    }
   ],
   "source": [
    "pred_probs = model4.predict(x_test[6])\n",
    "\n",
    "pred_probs"
   ]
  },
  {
   "cell_type": "code",
   "execution_count": null,
   "metadata": {
    "colab": {
     "base_uri": "https://localhost:8080/"
    },
    "id": "xmFyPNJObLfp",
    "outputId": "7ea04e0f-c5b8-4898-dcc4-31d9a6e670e6"
   },
   "outputs": [
    {
     "name": "stdout",
     "output_type": "stream",
     "text": [
      "1/1 [==============================] - 0s 33ms/step\n"
     ]
    },
    {
     "data": {
      "text/plain": [
       "array([[8.5040921e-04, 6.5843697e-04, 8.5372686e-02, 3.9812960e-03,\n",
       "        8.4433150e-01, 5.3656969e-04, 4.1474245e-02, 7.6269899e-03,\n",
       "        1.5003860e-02, 1.6396990e-04]], dtype=float32)"
      ]
     },
     "execution_count": 44,
     "metadata": {},
     "output_type": "execute_result"
    }
   ],
   "source": [
    "pred_probs = model4.predict(x_test[6].reshape(1,28,28))\n",
    "\n",
    "pred_probs"
   ]
  },
  {
   "cell_type": "code",
   "execution_count": null,
   "metadata": {
    "colab": {
     "base_uri": "https://localhost:8080/"
    },
    "id": "BDkIxDW-boU4",
    "outputId": "663bd370-f899-4ffe-b80f-6a67623306a2"
   },
   "outputs": [
    {
     "data": {
      "text/plain": [
       "['T-shirt/top',\n",
       " 'Trouser',\n",
       " 'Pullover',\n",
       " 'Dress',\n",
       " 'Coat',\n",
       " 'Sandal',\n",
       " 'Shirt',\n",
       " 'Sneaker',\n",
       " 'Bag',\n",
       " 'Ankle boot']"
      ]
     },
     "execution_count": 45,
     "metadata": {},
     "output_type": "execute_result"
    }
   ],
   "source": [
    "class_names"
   ]
  },
  {
   "cell_type": "code",
   "execution_count": null,
   "metadata": {
    "colab": {
     "base_uri": "https://localhost:8080/",
     "height": 35
    },
    "id": "UmHsO3eCbUlP",
    "outputId": "351fdc72-630a-4adb-f6d1-de4b6f9affae"
   },
   "outputs": [
    {
     "data": {
      "application/vnd.google.colaboratory.intrinsic+json": {
       "type": "string"
      },
      "text/plain": [
       "'Coat'"
      ]
     },
     "execution_count": 46,
     "metadata": {},
     "output_type": "execute_result"
    }
   ],
   "source": [
    "pred_label = class_names[np.argmax(pred_probs)]\n",
    "\n",
    "pred_label"
   ]
  },
  {
   "cell_type": "code",
   "execution_count": null,
   "metadata": {
    "colab": {
     "base_uri": "https://localhost:8080/"
    },
    "id": "ue4o7I1qeTCY",
    "outputId": "d822b90b-0241-412b-c71e-edf3135fce0a"
   },
   "outputs": [
    {
     "data": {
      "text/plain": [
       "29"
      ]
     },
     "execution_count": 74,
     "metadata": {},
     "output_type": "execute_result"
    }
   ],
   "source": [
    "a = np.arange(0,100)\n",
    "\n",
    "random.choice(a)"
   ]
  },
  {
   "cell_type": "code",
   "execution_count": null,
   "metadata": {
    "colab": {
     "base_uri": "https://localhost:8080/",
     "height": 37
    },
    "id": "GkVsqeq4h1AB",
    "outputId": "b536558f-bef6-42e9-a6a9-e415ded7eb88"
   },
   "outputs": [
    {
     "data": {
      "text/latex": [
       "$\\displaystyle 10000$"
      ],
      "text/plain": [
       "10000"
      ]
     },
     "execution_count": 76,
     "metadata": {},
     "output_type": "execute_result"
    }
   ],
   "source": [
    "len(x_test)"
   ]
  },
  {
   "cell_type": "code",
   "execution_count": null,
   "metadata": {
    "colab": {
     "base_uri": "https://localhost:8080/"
    },
    "id": "rhhUPVb_iApf",
    "outputId": "c1f1ba28-02ec-463f-fad0-b8b4b322ea05"
   },
   "outputs": [
    {
     "data": {
      "text/plain": [
       "2938"
      ]
     },
     "execution_count": 80,
     "metadata": {},
     "output_type": "execute_result"
    }
   ],
   "source": [
    "x = np.arange(0,len(x_test))\n",
    "\n",
    "random = np.random.choice(x)\n",
    "\n",
    "random"
   ]
  },
  {
   "cell_type": "markdown",
   "metadata": {
    "id": "zAXPgNo7mYUl"
   },
   "source": [
    "# correcting the erroneous code given by the instructor in checking whether the actual is = the prediction:"
   ]
  },
  {
   "cell_type": "code",
   "execution_count": null,
   "metadata": {
    "colab": {
     "base_uri": "https://localhost:8080/",
     "height": 469
    },
    "id": "ztnnq-O9ctDH",
    "outputId": "954419ab-56c2-4b2a-d634-f9cc2c118264"
   },
   "outputs": [
    {
     "name": "stdout",
     "output_type": "stream",
     "text": [
      "1/1 [==============================] - 0s 23ms/step\n"
     ]
    },
    {
     "data": {
      "image/png": "[encoded data removed]",
      "text/plain": [
       "<Figure size 640x480 with 1 Axes>"
      ]
     },
     "metadata": {},
     "output_type": "display_data"
    }
   ],
   "source": [
    "\n",
    "def plot_random_image(model,x_test,y_test,classes):\n",
    "\n",
    "  x = np.arange(0,len(x_test))\n",
    "  random_index = np.random.choice(x)\n",
    "\n",
    "  target_image = x_test[random_index]\n",
    "  pred_probability = model.predict(target_image.reshape(1,28,28))\n",
    "  pred_label = classes[np.argmax(pred_probability)]\n",
    "\n",
    "  # plotting\n",
    "\n",
    "  plt.imshow(target_image)\n",
    "\n",
    "  # if the prediction == Actual thing then print the title in green otherwise red\n",
    "\n",
    "  prediction = classes[np.argmax(pred_probability)]\n",
    "  actual     = classes[y_test[random_index]]\n",
    "\n",
    "  if prediction == actual:\n",
    "    color = 'green'\n",
    "\n",
    "  else:\n",
    "    color = 'red'\n",
    "\n",
    "  plt.title('Actual is {}, and Prediction is {}'.format(actual,prediction))\n",
    "\n",
    "plot_random_image(model4,x_test,y_test,class_names)"
   ]
  },
  {
   "cell_type": "code",
   "execution_count": null,
   "metadata": {
    "id": "TXe3ts1gmt-1"
   },
   "outputs": [],
   "source": []
  },
  {
   "cell_type": "markdown",
   "metadata": {
    "id": "2PqHblgumhHe"
   },
   "source": [
    "# revealing the mechanics of the neural network model: unraveling the black box."
   ]
  },
  {
   "cell_type": "code",
   "execution_count": null,
   "metadata": {
    "colab": {
     "base_uri": "https://localhost:8080/"
    },
    "id": "lPBZYbu1n5d8",
    "outputId": "08ba07b6-7f94-4a14-95dc-3a051cf42feb"
   },
   "outputs": [
    {
     "data": {
      "text/plain": [
       "[<keras.layers.reshaping.flatten.Flatten at 0x7c4c31eb2320>,\n",
       " <keras.layers.core.dense.Dense at 0x7c4c30c5b3a0>,\n",
       " <keras.layers.core.dense.Dense at 0x7c4c30c5b880>,\n",
       " <keras.layers.core.dense.Dense at 0x7c4c32482cb0>]"
      ]
     },
     "execution_count": 101,
     "metadata": {},
     "output_type": "execute_result"
    }
   ],
   "source": [
    "# find the layers of our model4\n",
    "\n",
    "model4.layers"
   ]
  },
  {
   "cell_type": "code",
   "execution_count": null,
   "metadata": {
    "colab": {
     "base_uri": "https://localhost:8080/"
    },
    "id": "HsAXirT6oW0X",
    "outputId": "e0b550c0-ca13-4c14-fc6c-8d8804fa07bb"
   },
   "outputs": [
    {
     "data": {
      "text/plain": [
       "<keras.layers.core.dense.Dense at 0x7c4c30c5b3a0>"
      ]
     },
     "execution_count": 102,
     "metadata": {},
     "output_type": "execute_result"
    }
   ],
   "source": [
    "# accessing the second layer(hidden_layer1)\n",
    "\n",
    "model4.layers[1]"
   ]
  },
  {
   "cell_type": "code",
   "execution_count": null,
   "metadata": {
    "colab": {
     "base_uri": "https://localhost:8080/"
    },
    "id": "xEYzKaQmomlN",
    "outputId": "6037c824-4747-4f51-b50c-78254f65d8c8"
   },
   "outputs": [
    {
     "data": {
      "text/plain": [
       "(array([[ 0.35900018, -0.07124085, -0.5732279 , -0.35310438],\n",
       "        [ 0.20229171,  0.21170007, -0.54646945, -0.66957814],\n",
       "        [ 0.5889561 ,  0.2550179 , -1.2141099 , -0.6181925 ],\n",
       "        ...,\n",
       "        [-0.14023562, -0.02221107, -0.14900023, -0.60936016],\n",
       "        [-0.0586367 ,  0.01819676, -0.23380202, -0.72741854],\n",
       "        [ 0.13539186,  0.6046351 , -0.61570746,  0.6354292 ]],\n",
       "       dtype=float32),\n",
       " (784, 4))"
      ]
     },
     "execution_count": 104,
     "metadata": {},
     "output_type": "execute_result"
    }
   ],
   "source": [
    "# get the weights and biases of the first hidden_layer1\n",
    "\n",
    "weights, biases = model4.layers[1].get_weights()\n",
    "\n",
    "weights,weights.shape"
   ]
  },
  {
   "cell_type": "code",
   "execution_count": null,
   "metadata": {
    "colab": {
     "base_uri": "https://localhost:8080/",
     "height": 37
    },
    "id": "ACQxjzt2n1-3",
    "outputId": "4ce9ca7f-73e6-49d8-f71b-a2c61868e63c"
   },
   "outputs": [
    {
     "data": {
      "text/latex": [
       "$\\displaystyle 784$"
      ],
      "text/plain": [
       "784"
      ]
     },
     "execution_count": 105,
     "metadata": {},
     "output_type": "execute_result"
    }
   ],
   "source": [
    "# the rows of the weights come from the dimesion a single image\n",
    "\n",
    "28*28"
   ]
  },
  {
   "cell_type": "code",
   "execution_count": null,
   "metadata": {
    "colab": {
     "base_uri": "https://localhost:8080/",
     "height": 37
    },
    "id": "6xkxr4fSpcFJ",
    "outputId": "89ed8939-f937-402a-ae20-7a34f44bf779"
   },
   "outputs": [
    {
     "data": {
      "text/latex": [
       "$\\displaystyle \\left( 28, \\  28\\right)$"
      ],
      "text/plain": [
       "(28, 28)"
      ]
     },
     "execution_count": 107,
     "metadata": {},
     "output_type": "execute_result"
    }
   ],
   "source": [
    "x_train[0].shape"
   ]
  },
  {
   "cell_type": "code",
   "execution_count": null,
   "metadata": {
    "colab": {
     "base_uri": "https://localhost:8080/"
    },
    "id": "RZZQPSvppgdv",
    "outputId": "44141128-63d5-480b-8dc6-84109eec31be"
   },
   "outputs": [
    {
     "name": "stdout",
     "output_type": "stream",
     "text": [
      "Model: \"sequential_3\"\n",
      "_________________________________________________________________\n",
      " Layer (type)                Output Shape              Param #   \n",
      "=================================================================\n",
      " input_layer (Flatten)       (None, 784)               0         \n",
      "                                                                 \n",
      " hidden_layer1 (Dense)       (None, 4)                 3140      \n",
      "                                                                 \n",
      " hidden_layer2 (Dense)       (None, 4)                 20        \n",
      "                                                                 \n",
      " output_layer (Dense)        (None, 10)                50        \n",
      "                                                                 \n",
      "=================================================================\n",
      "Total params: 3,210\n",
      "Trainable params: 3,210\n",
      "Non-trainable params: 0\n",
      "_________________________________________________________________\n"
     ]
    }
   ],
   "source": [
    "# getting a summary of our model\n",
    "model4.summary()"
   ]
  },
  {
   "cell_type": "markdown",
   "metadata": {
    "id": "xdv2AbS8wLOk"
   },
   "source": [
    "# biases"
   ]
  },
  {
   "cell_type": "code",
   "execution_count": null,
   "metadata": {
    "colab": {
     "base_uri": "https://localhost:8080/"
    },
    "id": "UZpVkXQWu3wv",
    "outputId": "d2f6ef1e-94e9-4da2-b7a6-c018886480a0"
   },
   "outputs": [
    {
     "data": {
      "text/plain": [
       "(array([ 0.18565983, -0.20444122, -0.74878967, -0.27226928], dtype=float32),\n",
       " (4,))"
      ]
     },
     "execution_count": 110,
     "metadata": {},
     "output_type": "execute_result"
    }
   ],
   "source": [
    "# exploring the biases of the hidden_layer1\n",
    "biases,biases.shape"
   ]
  },
  {
   "cell_type": "markdown",
   "metadata": {
    "id": "bFqjv0cvvVOc"
   },
   "source": [
    "every neuron has a bias vector. each of these bias vector is paired with a weights matrix.\n",
    "\n",
    "The bias vector gets initialized as zeros.\n",
    "\n",
    "\n",
    "each weight matrix is assigned a bias vector and this bias vector influences how much the weight matrix of one layer should influence the next neural layer. so bias is a scaler that scales up or down the values of the weight matrix.\n",
    "\n",
    "# weights:\n",
    "\n",
    "kernal_initializer: intialized with glorot_uniform. filled with some random numbers but as the network tries to find pattern in the data those random_numbers get adjusted to resemble the pattern as closely as possible.\n",
    "\n",
    "# biases:\n",
    "\n",
    "bias_initializer = zeros. initialized with zeros and then modified.\n",
    "\n",
    "each weight matrix is assigned a bias vector and this bias vector influences how much the weight matrix of one layer should influence the next neural layer. so bias is a scaler that scales up or down the values of the weight matrix.\n"
   ]
  },
  {
   "cell_type": "code",
   "execution_count": null,
   "metadata": {
    "id": "OtUKoOUTwhK0"
   },
   "outputs": [],
   "source": []
  }
 ],
 "metadata": {
  "colab": {
   "provenance": []
  },
  "kernelspec": {
   "display_name": "Python 3",
   "name": "python3"
  },
  "language_info": {
   "name": "python"
  }
 },
 "nbformat": 4,
 "nbformat_minor": 0
}
