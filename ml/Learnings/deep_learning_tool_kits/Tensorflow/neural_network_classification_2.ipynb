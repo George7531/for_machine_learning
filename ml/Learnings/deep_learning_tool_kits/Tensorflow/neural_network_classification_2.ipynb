version https://git-lfs.github.com/spec/v1
oid sha256:09c6dcb63e1a83247b524ccf965a52c5421a0eb3369e49c3d50f7aad52d21291
size 546432
