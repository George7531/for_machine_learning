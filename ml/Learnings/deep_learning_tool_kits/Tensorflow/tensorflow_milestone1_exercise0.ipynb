version https://git-lfs.github.com/spec/v1
oid sha256:02a57127003b9ecc24cb61db3ed2b1a0063fc9479351fe1573d4530fa4d9b752
size 201540
