version https://git-lfs.github.com/spec/v1
oid sha256:0ed500bca431bad77dea8cd9e31a95b25604d19b1892e46d15ff399e56e22030
size 26599
