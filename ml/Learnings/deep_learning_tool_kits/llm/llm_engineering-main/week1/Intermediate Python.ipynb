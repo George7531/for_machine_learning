version https://git-lfs.github.com/spec/v1
oid sha256:80b62db80683c4c6d64315be59e87a6508b144d92a9c1cc08ea9dd8f57966bfc
size 27243
