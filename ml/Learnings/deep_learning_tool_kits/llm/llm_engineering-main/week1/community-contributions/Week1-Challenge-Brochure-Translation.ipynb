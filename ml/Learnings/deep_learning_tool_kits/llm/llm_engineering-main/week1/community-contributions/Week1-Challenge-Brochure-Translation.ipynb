version https://git-lfs.github.com/spec/v1
oid sha256:f3cdc60591bb882da38f9ffd37ff1114c364b1efe5375956696f2cb6b1d9758a
size 11313
