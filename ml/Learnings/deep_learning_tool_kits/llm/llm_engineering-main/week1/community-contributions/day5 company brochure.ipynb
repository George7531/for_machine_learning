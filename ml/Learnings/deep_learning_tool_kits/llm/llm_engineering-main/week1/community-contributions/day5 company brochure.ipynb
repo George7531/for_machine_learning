version https://git-lfs.github.com/spec/v1
oid sha256:e56c9e0e39fe2bf4aa0f1b499df4e19a32761452549180a9afb34361f9b61933
size 14928
