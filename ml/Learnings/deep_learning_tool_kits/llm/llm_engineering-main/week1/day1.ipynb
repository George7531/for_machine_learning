version https://git-lfs.github.com/spec/v1
oid sha256:d9de247cdd9d2e081b5cc0ea5d6fbaeaf2d553a045dead7e456e17c5654dae3d
size 20588
