version https://git-lfs.github.com/spec/v1
oid sha256:12b32a2a646769221d3533f193aa5fbaef7ef8f80af5f1c40780d920882c0e69
size 518570
