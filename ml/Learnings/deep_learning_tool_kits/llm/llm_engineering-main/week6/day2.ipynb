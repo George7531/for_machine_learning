version https://git-lfs.github.com/spec/v1
oid sha256:da9cd68f0cd9617473936378fc555ff5e3f09ad3267fa2473ed0ee26bf617c59
size 18683
